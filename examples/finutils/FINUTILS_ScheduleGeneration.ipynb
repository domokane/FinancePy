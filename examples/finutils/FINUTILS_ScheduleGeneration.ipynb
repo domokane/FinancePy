{
 "cells": [
  {
   "cell_type": "markdown",
   "metadata": {},
   "source": [
    "# Schedule Generation"
   ]
  },
  {
   "cell_type": "code",
   "execution_count": 1,
   "metadata": {},
   "outputs": [],
   "source": [
    "import sys\n",
    "sys.path.append(\"..\")\n",
    "sys.path.append(\"..\\\\..\")"
   ]
  },
  {
   "cell_type": "code",
   "execution_count": 2,
   "metadata": {},
   "outputs": [],
   "source": [
    "import numpy as np\n",
    "import matplotlib.pyplot as plt"
   ]
  },
  {
   "cell_type": "code",
   "execution_count": 3,
   "metadata": {},
   "outputs": [],
   "source": [
    "from financepy.finutils.FinCalendar import FinDayAdjustTypes, FinDateGenRuleTypes\n",
    "from financepy.finutils.FinSchedule import FinSchedule\n",
    "from financepy.finutils.FinFrequency import FinFrequencyTypes\n",
    "from financepy.finutils.FinCalendar import FinCalendarTypes\n",
    "from financepy.finutils.FinDate import FinDate"
   ]
  },
  {
   "cell_type": "code",
   "execution_count": 4,
   "metadata": {},
   "outputs": [],
   "source": [
    "startDate = FinDate(4, 8, 2016)\n",
    "endDate = FinDate(1, 5, 2022)"
   ]
  },
  {
   "cell_type": "code",
   "execution_count": 5,
   "metadata": {},
   "outputs": [
    {
     "name": "stdout",
     "output_type": "stream",
     "text": [
      "START DATE: THU 4 AUG 2016\n",
      "END DATE: SUN 1 MAY 2022\n",
      "FREQUENCY: FinFrequencyTypes.ANNUAL\n",
      "CALENDAR: FinCalendarTypes.WEEKEND\n",
      "BUSDAYRULE: FinDayAdjustTypes.FOLLOWING\n",
      "DATEGENRULE: FinDateGenRuleTypes.BACKWARD\n",
      "\n",
      "PCD: MON 2 MAY 2016\n",
      "NCD: MON 1 MAY 2017\n",
      "     TUE 1 MAY 2018\n",
      "     WED 1 MAY 2019\n",
      "     FRI 1 MAY 2020\n",
      "     MON 3 MAY 2021\n",
      "     MON 2 MAY 2022\n"
     ]
    }
   ],
   "source": [
    "frequencyType = FinFrequencyTypes.ANNUAL\n",
    "calendarType = FinCalendarTypes.WEEKEND\n",
    "busDayAdjustType = FinDayAdjustTypes.FOLLOWING\n",
    "dateGenRuleType = FinDateGenRuleTypes.BACKWARD\n",
    "schedule = FinSchedule(startDate, endDate, frequencyType, calendarType, busDayAdjustType, dateGenRuleType)\n",
    "schedule.print()"
   ]
  },
  {
   "cell_type": "markdown",
   "metadata": {},
   "source": [
    "The first date is the previous coupon date. The next date is the next coupon date after today."
   ]
  },
  {
   "cell_type": "code",
   "execution_count": 6,
   "metadata": {},
   "outputs": [
    {
     "name": "stdout",
     "output_type": "stream",
     "text": [
      "START DATE: THU 4 AUG 2016\n",
      "END DATE: SUN 1 MAY 2022\n",
      "FREQUENCY: FinFrequencyTypes.SEMI_ANNUAL\n",
      "CALENDAR: FinCalendarTypes.WEEKEND\n",
      "BUSDAYRULE: FinDayAdjustTypes.FOLLOWING\n",
      "DATEGENRULE: FinDateGenRuleTypes.BACKWARD\n",
      "\n",
      "PCD: MON 2 MAY 2016\n",
      "NCD: TUE 1 NOV 2016\n",
      "     MON 1 MAY 2017\n",
      "     WED 1 NOV 2017\n",
      "     TUE 1 MAY 2018\n",
      "     THU 1 NOV 2018\n",
      "     WED 1 MAY 2019\n",
      "     FRI 1 NOV 2019\n",
      "     FRI 1 MAY 2020\n",
      "     MON 2 NOV 2020\n",
      "     MON 3 MAY 2021\n",
      "     MON 1 NOV 2021\n",
      "     MON 2 MAY 2022\n"
     ]
    }
   ],
   "source": [
    "frequencyType = FinFrequencyTypes.SEMI_ANNUAL\n",
    "calendarType = FinCalendarTypes.WEEKEND\n",
    "busDayAdjustType = FinDayAdjustTypes.FOLLOWING\n",
    "dateGenRuleType = FinDateGenRuleTypes.BACKWARD\n",
    "schedule = FinSchedule(startDate, endDate, frequencyType, calendarType, busDayAdjustType, dateGenRuleType)\n",
    "schedule.print()"
   ]
  },
  {
   "cell_type": "code",
   "execution_count": 9,
   "metadata": {},
   "outputs": [
    {
     "name": "stdout",
     "output_type": "stream",
     "text": [
      "START DATE: THU 4 AUG 2016\n",
      "END DATE: SUN 1 MAY 2022\n",
      "FREQUENCY: FinFrequencyTypes.SEMI_ANNUAL\n",
      "CALENDAR: FinCalendarTypes.TARGET\n",
      "BUSDAYRULE: FinDayAdjustTypes.FOLLOWING\n",
      "DATEGENRULE: FinDateGenRuleTypes.BACKWARD\n",
      "\n",
      "PCD: MON 2 MAY 2016\n",
      "NCD: TUE 1 NOV 2016\n",
      "     TUE 2 MAY 2017\n",
      "     WED 1 NOV 2017\n",
      "     WED 2 MAY 2018\n",
      "     THU 1 NOV 2018\n",
      "     THU 2 MAY 2019\n",
      "     FRI 1 NOV 2019\n",
      "     MON 4 MAY 2020\n",
      "     MON 2 NOV 2020\n",
      "     MON 3 MAY 2021\n",
      "     MON 1 NOV 2021\n",
      "     MON 2 MAY 2022\n"
     ]
    }
   ],
   "source": [
    "frequencyType = FinFrequencyTypes.SEMI_ANNUAL\n",
    "calendarType = FinCalendarTypes.TARGET\n",
    "busDayAdjustType = FinDayAdjustTypes.FOLLOWING\n",
    "dateGenRuleType = FinDateGenRuleTypes.BACKWARD\n",
    "schedule = FinSchedule(startDate, endDate, frequencyType, calendarType, busDayAdjustType, dateGenRuleType)\n",
    "schedule.print()"
   ]
  },
  {
   "cell_type": "code",
   "execution_count": null,
   "metadata": {},
   "outputs": [],
   "source": []
  }
 ],
 "metadata": {
  "kernelspec": {
   "display_name": "Python 3",
   "language": "python",
   "name": "python3"
  },
  "language_info": {
   "codemirror_mode": {
    "name": "ipython",
    "version": 3
   },
   "file_extension": ".py",
   "mimetype": "text/x-python",
   "name": "python",
   "nbconvert_exporter": "python",
   "pygments_lexer": "ipython3",
   "version": "3.7.4"
  }
 },
 "nbformat": 4,
 "nbformat_minor": 2
}
