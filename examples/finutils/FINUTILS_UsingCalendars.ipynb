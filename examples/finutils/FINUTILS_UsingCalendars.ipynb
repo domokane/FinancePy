{
 "cells": [
  {
   "cell_type": "markdown",
   "metadata": {},
   "source": [
    "# USING CALENDARS\n",
    "BLOOMBERG US TREASURY EXAMPLE"
   ]
  },
  {
   "cell_type": "code",
   "execution_count": 1,
   "metadata": {},
   "outputs": [],
   "source": [
    "import sys\n",
    "sys.path.append(\"..\")\n",
    "sys.path.append(\"..\\\\..\")"
   ]
  },
  {
   "cell_type": "code",
   "execution_count": 2,
   "metadata": {},
   "outputs": [],
   "source": [
    "from financepy.finutils.FinDate import FinDate\n",
    "from financepy.finutils.FinCalendar import FinCalendar, FinCalendarTypes\n",
    "from financepy.finutils.FinCalendar import FinDayAdjustTypes"
   ]
  },
  {
   "cell_type": "code",
   "execution_count": 3,
   "metadata": {},
   "outputs": [
    {
     "name": "stdout",
     "output_type": "stream",
     "text": [
      "FinCalendarTypes.TARGET\n",
      "FinCalendarTypes.US\n",
      "FinCalendarTypes.UK\n",
      "FinCalendarTypes.JAPAN\n",
      "FinCalendarTypes.WEEKEND\n",
      "FinCalendarTypes.NONE\n"
     ]
    }
   ],
   "source": [
    "for e in FinCalendarTypes:\n",
    "    print(e)"
   ]
  },
  {
   "cell_type": "markdown",
   "metadata": {},
   "source": [
    "# Holiday Lists"
   ]
  },
  {
   "cell_type": "code",
   "execution_count": 4,
   "metadata": {},
   "outputs": [],
   "source": [
    "# Specify US holiday calendar\n",
    "calUS = FinCalendar(FinCalendarTypes.US)"
   ]
  },
  {
   "cell_type": "code",
   "execution_count": 5,
   "metadata": {
    "scrolled": false
   },
   "outputs": [
    {
     "data": {
      "text/plain": [
       "['TUE 1 JAN 2019',\n",
       " 'MON 21 JAN 2019',\n",
       " 'MON 18 FEB 2019',\n",
       " 'MON 27 MAY 2019',\n",
       " 'THU 4 JUL 2019',\n",
       " 'MON 2 SEP 2019',\n",
       " 'MON 14 OCT 2019',\n",
       " 'MON 11 NOV 2019',\n",
       " 'THU 28 NOV 2019',\n",
       " 'WED 25 DEC 2019']"
      ]
     },
     "execution_count": 5,
     "metadata": {},
     "output_type": "execute_result"
    }
   ],
   "source": [
    "calUS.getHolidayList(2019)"
   ]
  },
  {
   "cell_type": "code",
   "execution_count": 6,
   "metadata": {},
   "outputs": [],
   "source": [
    "# Specify UK holiday calendar\n",
    "calUK = FinCalendar(FinCalendarTypes.UK)"
   ]
  },
  {
   "cell_type": "code",
   "execution_count": 7,
   "metadata": {},
   "outputs": [
    {
     "data": {
      "text/plain": [
       "['TUE 1 JAN 2019',\n",
       " 'FRI 19 APR 2019',\n",
       " 'MON 22 APR 2019',\n",
       " 'MON 6 MAY 2019',\n",
       " 'MON 27 MAY 2019',\n",
       " 'MON 26 AUG 2019',\n",
       " 'WED 25 DEC 2019',\n",
       " 'THU 26 DEC 2019']"
      ]
     },
     "execution_count": 7,
     "metadata": {},
     "output_type": "execute_result"
    }
   ],
   "source": [
    "calUK.getHolidayList(2019)"
   ]
  },
  {
   "cell_type": "code",
   "execution_count": 8,
   "metadata": {},
   "outputs": [],
   "source": [
    "# Specify EUROPEAN TARGET holiday calendar\n",
    "calEU = FinCalendar(FinCalendarTypes.TARGET)"
   ]
  },
  {
   "cell_type": "code",
   "execution_count": 9,
   "metadata": {},
   "outputs": [
    {
     "data": {
      "text/plain": [
       "['TUE 1 JAN 2019',\n",
       " 'FRI 19 APR 2019',\n",
       " 'MON 22 APR 2019',\n",
       " 'WED 1 MAY 2019',\n",
       " 'WED 25 DEC 2019',\n",
       " 'THU 26 DEC 2019']"
      ]
     },
     "execution_count": 9,
     "metadata": {},
     "output_type": "execute_result"
    }
   ],
   "source": [
    "calEU.getHolidayList(2019)"
   ]
  },
  {
   "cell_type": "markdown",
   "metadata": {},
   "source": [
    "## Easter Monday"
   ]
  },
  {
   "cell_type": "code",
   "execution_count": 12,
   "metadata": {},
   "outputs": [
    {
     "name": "stdout",
     "output_type": "stream",
     "text": [
      "MON 22 APR 2019\n"
     ]
    }
   ],
   "source": [
    "print(calEU.easterMonday(2019))"
   ]
  },
  {
   "cell_type": "code",
   "execution_count": 13,
   "metadata": {},
   "outputs": [
    {
     "name": "stdout",
     "output_type": "stream",
     "text": [
      "MON 2 APR 2018\n"
     ]
    }
   ],
   "source": [
    "print(calEU.easterMonday(2018))"
   ]
  },
  {
   "cell_type": "code",
   "execution_count": 14,
   "metadata": {},
   "outputs": [
    {
     "name": "stdout",
     "output_type": "stream",
     "text": [
      "MON 17 APR 2017\n"
     ]
    }
   ],
   "source": [
    "print(calEU.easterMonday(2017))"
   ]
  },
  {
   "cell_type": "code",
   "execution_count": 15,
   "metadata": {},
   "outputs": [
    {
     "name": "stdout",
     "output_type": "stream",
     "text": [
      "MON 28 MAR 2016\n"
     ]
    }
   ],
   "source": [
    "print(calEU.easterMonday(2016))"
   ]
  }
 ],
 "metadata": {
  "kernelspec": {
   "display_name": "Python 3",
   "language": "python",
   "name": "python3"
  },
  "language_info": {
   "codemirror_mode": {
    "name": "ipython",
    "version": 3
   },
   "file_extension": ".py",
   "mimetype": "text/x-python",
   "name": "python",
   "nbconvert_exporter": "python",
   "pygments_lexer": "ipython3",
   "version": "3.7.4"
  }
 },
 "nbformat": 4,
 "nbformat_minor": 2
}
