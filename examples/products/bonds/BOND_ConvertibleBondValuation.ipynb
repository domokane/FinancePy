{
 "cells": [
  {
   "cell_type": "markdown",
   "metadata": {},
   "source": [
    "# Convertible Bond Valuation"
   ]
  },
  {
   "cell_type": "code",
   "execution_count": 1,
   "metadata": {},
   "outputs": [],
   "source": [
    "import sys\n",
    "sys.path.append(\"..\")\n",
    "sys.path.append(\"..\\\\..\")"
   ]
  },
  {
   "cell_type": "code",
   "execution_count": 2,
   "metadata": {},
   "outputs": [],
   "source": [
    "from importlib import reload"
   ]
  },
  {
   "cell_type": "code",
   "execution_count": 3,
   "metadata": {},
   "outputs": [],
   "source": [
    "import numpy as np\n",
    "import matplotlib.pyplot as plt"
   ]
  },
  {
   "cell_type": "code",
   "execution_count": 4,
   "metadata": {},
   "outputs": [],
   "source": [
    "from financepy.products.bonds.FinConvertibleBond import FinConvertibleBond\n",
    "from financepy.finutils.FinDate import FinDate\n",
    "from financepy.finutils.FinFrequency import FinFrequencyTypes\n",
    "from financepy.finutils.FinCalendar import FinCalendarTypes\n",
    "from financepy.finutils.FinDayCount import FinDayCountTypes\n",
    "from financepy.finutils.FinCalendar import FinDayAdjustTypes, FinDateGenRuleTypes\n",
    "from financepy.market.curves.FinFlatCurve import FinFlatCurve\n",
    "from financepy.finutils.FinSchedule import FinSchedule"
   ]
  },
  {
   "cell_type": "markdown",
   "metadata": {},
   "source": [
    "## Creating the Convertible Bond"
   ]
  },
  {
   "cell_type": "markdown",
   "metadata": {},
   "source": [
    "We set the maturity date, annualised coupon, coupon frequency and convention for calculating accrued interest"
   ]
  },
  {
   "cell_type": "code",
   "execution_count": 5,
   "metadata": {},
   "outputs": [],
   "source": [
    "maturityDate = FinDate(20, 3, 2023)\n",
    "coupon = 0.0\n",
    "frequencyType = FinFrequencyTypes.SEMI_ANNUAL\n",
    "accrualBasis = FinDayCountTypes.ACT_365_FIXED"
   ]
  },
  {
   "cell_type": "markdown",
   "metadata": {},
   "source": [
    "We need to set the face amount and the conversion ratio. This is the number of shares you can convert to for that face amount."
   ]
  },
  {
   "cell_type": "code",
   "execution_count": 6,
   "metadata": {},
   "outputs": [],
   "source": [
    "face = 100.0 \n",
    "conversionRatio = 5.0  # Number of shares for face amount"
   ]
  },
  {
   "cell_type": "markdown",
   "metadata": {},
   "source": [
    "We can also delay the start of the conversion feature using the start convert date"
   ]
  },
  {
   "cell_type": "code",
   "execution_count": 7,
   "metadata": {},
   "outputs": [],
   "source": [
    "startConvertDate = FinDate(20, 12, 2019)"
   ]
  },
  {
   "cell_type": "markdown",
   "metadata": {},
   "source": [
    "We can also set the call schedule - the price and date on which the issuer can call back the bond. This is given with reference to a price of 100. Making the call price very high means it will never be called. So the call has no impact."
   ]
  },
  {
   "cell_type": "code",
   "execution_count": 8,
   "metadata": {},
   "outputs": [],
   "source": [
    "callPrice = 120 # Make call uneconomic so it does not impact pricing\n",
    "callDates = [FinDate(20, 3, 2020), FinDate(20, 3, 2021), FinDate(20, 3, 2022)]\n",
    "callPrices = [callPrice, callPrice, callPrice]"
   ]
  },
  {
   "cell_type": "markdown",
   "metadata": {},
   "source": [
    "We can also set the put schedule - the price and date on which the owner can put back the bond to the issuer. This is given with reference to a price of 100. Making the put price very low means it will never be put."
   ]
  },
  {
   "cell_type": "code",
   "execution_count": 9,
   "metadata": {},
   "outputs": [],
   "source": [
    "putPrice = 0.0 # Make call uneconomic so it does not impact pricing\n",
    "putDates = [FinDate(20, 3, 2020), FinDate(20, 3, 2021), FinDate(20, 3, 2022)]\n",
    "putPrices = [putPrice, putPrice, putPrice]"
   ]
  },
  {
   "cell_type": "markdown",
   "metadata": {},
   "source": [
    "At this point we can create our bond."
   ]
  },
  {
   "cell_type": "code",
   "execution_count": 10,
   "metadata": {},
   "outputs": [],
   "source": [
    "bond = FinConvertibleBond(maturityDate, coupon, frequencyType, startConvertDate, conversionRatio,\n",
    "                          callDates, callPrices, putDates, putPrices, accrualBasis, face)"
   ]
  },
  {
   "cell_type": "markdown",
   "metadata": {},
   "source": [
    "# Valuation"
   ]
  },
  {
   "cell_type": "markdown",
   "metadata": {},
   "source": [
    "### No Calls and Puts"
   ]
  },
  {
   "cell_type": "markdown",
   "metadata": {},
   "source": [
    "We need to specify the valuation date"
   ]
  },
  {
   "cell_type": "code",
   "execution_count": 11,
   "metadata": {},
   "outputs": [],
   "source": [
    "settlementDate = FinDate(31, 12, 2019)"
   ]
  },
  {
   "cell_type": "markdown",
   "metadata": {},
   "source": [
    "The model allows a discrete dividend schedule. We can use the FinSchedule class to do this."
   ]
  },
  {
   "cell_type": "code",
   "execution_count": 13,
   "metadata": {},
   "outputs": [],
   "source": [
    "dividendSchedule = FinSchedule(settlementDate, maturityDate).flows()[1:]\n",
    "dividendYields = [0.01] * len(dividendSchedule)"
   ]
  },
  {
   "cell_type": "markdown",
   "metadata": {},
   "source": [
    "We then need to set up the market inputs. "
   ]
  },
  {
   "cell_type": "code",
   "execution_count": 15,
   "metadata": {},
   "outputs": [],
   "source": [
    "stockPrice = 20\n",
    "stockVolatility = 0.30 # 30 percent\n",
    "rate = 0.05\n",
    "discountCurve = FinFlatCurve(settlementDate, rate, 1)\n",
    "creditSpread = 0.00\n",
    "recoveryRate = 0.40 # 40 percent"
   ]
  },
  {
   "cell_type": "markdown",
   "metadata": {},
   "source": [
    "The model is a binomial tree but you don't need to enter any tree details unless you want to as it defaults to 100 steps per year"
   ]
  },
  {
   "cell_type": "markdown",
   "metadata": {},
   "source": [
    "We can now peform the valuation"
   ]
  },
  {
   "cell_type": "code",
   "execution_count": 16,
   "metadata": {},
   "outputs": [
    {
     "data": {
      "text/plain": [
       "{'cbprice': 109.73436788044599,\n",
       " 'bond': 85.47381109942535,\n",
       " 'delta': 2.9876693872648814,\n",
       " 'gamma': 1.0018451647893198,\n",
       " 'theta': 109.33806128856568}"
      ]
     },
     "execution_count": 16,
     "metadata": {},
     "output_type": "execute_result"
    }
   ],
   "source": [
    "bond.value(settlementDate, stockPrice, stockVolatility, dividendSchedule, dividendYields,\n",
    "           discountCurve, creditSpread, recoveryRate)"
   ]
  },
  {
   "cell_type": "markdown",
   "metadata": {},
   "source": [
    "'cbrice' is the bond price. 'bond' is the price of the bond alone without any conversion and without any puts or calls option"
   ]
  },
  {
   "cell_type": "markdown",
   "metadata": {},
   "source": [
    "## Impact of Calls"
   ]
  },
  {
   "cell_type": "code",
   "execution_count": 17,
   "metadata": {},
   "outputs": [],
   "source": [
    "callPrice = 100000.0\n",
    "callPrices = [callPrice, callPrice, callPrice]"
   ]
  },
  {
   "cell_type": "markdown",
   "metadata": {},
   "source": [
    "Need to recreate the convertible bond."
   ]
  },
  {
   "cell_type": "code",
   "execution_count": 18,
   "metadata": {},
   "outputs": [],
   "source": [
    "bond = FinConvertibleBond(maturityDate, coupon, frequencyType, startConvertDate, conversionRatio,\n",
    "                          callDates, callPrices, putDates, putPrices, accrualBasis, face)"
   ]
  },
  {
   "cell_type": "code",
   "execution_count": 19,
   "metadata": {},
   "outputs": [
    {
     "data": {
      "text/plain": [
       "{'cbprice': 111.4266854519966,\n",
       " 'bond': 85.47381109942535,\n",
       " 'delta': 3.429408738768739,\n",
       " 'gamma': 0.8177773553371164,\n",
       " 'theta': 125.95670112502442}"
      ]
     },
     "execution_count": 19,
     "metadata": {},
     "output_type": "execute_result"
    }
   ],
   "source": [
    "bond.value(settlementDate, stockPrice, stockVolatility, dividendSchedule, dividendYields,\n",
    "           discountCurve, creditSpread, recoveryRate)"
   ]
  },
  {
   "cell_type": "markdown",
   "metadata": {},
   "source": [
    "## Stock Price Sensitivity"
   ]
  },
  {
   "cell_type": "markdown",
   "metadata": {},
   "source": [
    "As the stock price goes up, the conversion options becomes more valuable"
   ]
  },
  {
   "cell_type": "code",
   "execution_count": 20,
   "metadata": {},
   "outputs": [
    {
     "name": "stdout",
     "output_type": "stream",
     "text": [
      "  StockPx     CB Price   Bond Price        Delta\n",
      "     0.00      85.4738      85.4738       0.0000\n",
      "     4.00      85.4907      85.4738       0.0281\n",
      "     8.00      86.4093      85.4738       0.5493\n",
      "    12.00      90.6579      85.4738       1.5938\n",
      "    16.00      99.1999      85.4738       2.6287\n",
      "    20.00     111.4267      85.4738       3.4294\n",
      "    24.00     126.3502      85.4738       3.9904\n",
      "    28.00     143.1346      85.4738       4.3777\n",
      "    32.00     161.2942      85.4738       4.6747\n",
      "    36.00     180.4168      85.4738       4.8712\n",
      "    40.00     200.0969      85.4738       4.9646\n"
     ]
    }
   ],
   "source": [
    "stockPrices = np.linspace(0,40,11)\n",
    "print(\"%9s %12s %12s %12s\"% (\"StockPx\", \"CB Price\", \"Bond Price\", \"Delta\"))\n",
    "\n",
    "for stockPrice in stockPrices:\n",
    "    res = bond.value(settlementDate, stockPrice, stockVolatility, dividendSchedule, dividendYields,\n",
    "                     discountCurve, creditSpread, recoveryRate)\n",
    "    print(\"%9.2f %12.4f %12.4f %12.4f\"% (stockPrice, res['cbprice'], res['bond'], res['delta']))"
   ]
  },
  {
   "cell_type": "markdown",
   "metadata": {},
   "source": [
    "As expected the price rises with increasing stock price as the conversion option is more valuable"
   ]
  },
  {
   "cell_type": "markdown",
   "metadata": {},
   "source": [
    "## Convergence Testing"
   ]
  },
  {
   "cell_type": "markdown",
   "metadata": {},
   "source": [
    "Set up the bond description"
   ]
  },
  {
   "cell_type": "code",
   "execution_count": 23,
   "metadata": {},
   "outputs": [],
   "source": [
    "settlementDate = FinDate(31, 12, 2019)"
   ]
  },
  {
   "cell_type": "code",
   "execution_count": 24,
   "metadata": {},
   "outputs": [],
   "source": [
    "maturityDate = FinDate(20, 3, 2023)\n",
    "coupon = 0.0\n",
    "frequencyType = FinFrequencyTypes.SEMI_ANNUAL\n",
    "accrualBasis = FinDayCountTypes.ACT_365_FIXED\n",
    "\n",
    "callPrice = 100000.0 # Make call uneconomic so it does not impact pricing\n",
    "callDates = [] # [FinDate(20, 3, 2020)]\n",
    "callPrices = [] # [callPrice]\n",
    "\n",
    "putPrice = 0.0 # Make call uneconomic so it does not impact pricing\n",
    "putDates = [] # FinDate(20, 3, 2020)]\n",
    "putPrices = [] # [putPrice]\n",
    "\n",
    "face = 100.0 \n",
    "startConvertDate = settlementDate\n",
    "conversionRatio = 5.0  # Number of shares for face amount"
   ]
  },
  {
   "cell_type": "code",
   "execution_count": 25,
   "metadata": {},
   "outputs": [],
   "source": [
    "bond = FinConvertibleBond(maturityDate, coupon, frequencyType, startConvertDate, conversionRatio,\n",
    "                          callDates, callPrices, putDates, putPrices, accrualBasis, face)"
   ]
  },
  {
   "cell_type": "markdown",
   "metadata": {},
   "source": [
    "Set up market"
   ]
  },
  {
   "cell_type": "code",
   "execution_count": 26,
   "metadata": {},
   "outputs": [],
   "source": [
    "stockPrice = 20.0\n",
    "stockVolatility = 0.10\n",
    "rate = 0.05\n",
    "discountCurve = FinFlatCurve(settlementDate, rate, 1)\n",
    "creditSpread = 0.0\n",
    "recoveryRate = 0.0\n",
    "dividendSchedule = [] # FinSchedule(settlementDate, maturityDate).flows()[1:]\n",
    "dividendYields = [] # [0.0] * len(dividendSchedule)"
   ]
  },
  {
   "cell_type": "markdown",
   "metadata": {},
   "source": [
    "How many tree steps per year do we need to give an accurate price ? Let us check."
   ]
  },
  {
   "cell_type": "code",
   "execution_count": 27,
   "metadata": {},
   "outputs": [
    {
     "name": "stdout",
     "output_type": "stream",
     "text": [
      " Steps/Yr     CB Price   Bond Price        Delta        Gamma\n",
      "   100.00     132.7088      85.4738       4.1754       0.3365\n",
      "   200.00     132.7048      85.4738       4.1761       0.5087\n",
      "   400.00     132.7052      85.4738       4.1763       0.7537\n",
      "  1000.00     132.7021      85.4738       4.1765       1.2410\n",
      "  2000.00     132.7025      85.4738       4.1766       1.7912\n",
      "  4000.00     132.7019      85.4738       4.1766       2.5696\n",
      " 10000.00     132.7018      85.4738       4.1766       4.1149\n"
     ]
    }
   ],
   "source": [
    "stockPrice = 25.0\n",
    "stockVolatility = 0.30\n",
    "stepsPerYearList = [100, 200, 400, 1000, 2000, 4000, 10000]\n",
    "cbPrices = []\n",
    "\n",
    "print(\"%9s %12s %12s %12s %12s\"% (\"Steps/Yr\", \"CB Price\", \"Bond Price\", \"Delta\",\"Gamma\"))\n",
    "for numStepsPerYear in stepsPerYearList:\n",
    "    res = bond.value(settlementDate, stockPrice, stockVolatility, dividendSchedule, dividendYields,\n",
    "                     discountCurve, creditSpread, recoveryRate, numStepsPerYear)\n",
    "    print(\"%9.2f %12.4f %12.4f %12.4f %12.4f\"% (numStepsPerYear, res['cbprice'], res['bond'], res['delta'], res['gamma']))\n",
    "    cbPrices.append(res['cbprice'])"
   ]
  },
  {
   "cell_type": "code",
   "execution_count": 28,
   "metadata": {},
   "outputs": [
    {
     "data": {
      "text/plain": [
       "[<matplotlib.lines.Line2D at 0x1b1b7303288>]"
      ]
     },
     "execution_count": 28,
     "metadata": {},
     "output_type": "execute_result"
    },
    {
     "data": {
      "image/png": "[encoded data removed]",
      "text/plain": [
       "<Figure size 432x288 with 1 Axes>"
      ]
     },
     "metadata": {
      "needs_background": "light"
     },
     "output_type": "display_data"
    }
   ],
   "source": [
    "plt.plot(stepsPerYearList,cbPrices)"
   ]
  },
  {
   "cell_type": "code",
   "execution_count": null,
   "metadata": {},
   "outputs": [],
   "source": []
  }
 ],
 "metadata": {
  "kernelspec": {
   "display_name": "Python 3",
   "language": "python",
   "name": "python3"
  },
  "language_info": {
   "codemirror_mode": {
    "name": "ipython",
    "version": 3
   },
   "file_extension": ".py",
   "mimetype": "text/x-python",
   "name": "python",
   "nbconvert_exporter": "python",
   "pygments_lexer": "ipython3",
   "version": "3.7.4"
  }
 },
 "nbformat": 4,
 "nbformat_minor": 2
}
