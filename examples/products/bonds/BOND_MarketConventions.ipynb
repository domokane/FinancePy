{
 "cells": [
  {
   "cell_type": "markdown",
   "metadata": {},
   "source": [
    "# BOND MARKET CONVENTIONS"
   ]
  },
  {
   "cell_type": "markdown",
   "metadata": {},
   "source": [
    "You can get Governmen Bond Market conventions from FinancePy. \n",
    "\n",
    "They are not guaranteed accurate as they can change so please see them as advisory.\n",
    "\n",
    "Contact me if you see any errors."
   ]
  },
  {
   "cell_type": "code",
   "execution_count": 24,
   "metadata": {},
   "outputs": [],
   "source": [
    "import sys\n",
    "sys.path.append(\"..\")\n",
    "sys.path.append(\"..\\\\..\")"
   ]
  },
  {
   "cell_type": "code",
   "execution_count": 25,
   "metadata": {},
   "outputs": [],
   "source": [
    "from financepy.finutils.FinDayCount import FinDayCountTypes\n",
    "from financepy.finutils.FinDate import FinDate\n",
    "from financepy.products.bonds.FinBondMarket import getTreasuryBondMarketConventions, FinBondMarkets"
   ]
  },
  {
   "cell_type": "markdown",
   "metadata": {},
   "source": [
    "First we get a list of the markets available. The order is EU and then non-EU"
   ]
  },
  {
   "cell_type": "code",
   "execution_count": 26,
   "metadata": {
    "scrolled": true
   },
   "outputs": [
    {
     "name": "stdout",
     "output_type": "stream",
     "text": [
      "AUSTRIA\n",
      "BELGIUM\n",
      "CYPRUS\n",
      "ESTONIA\n",
      "FINLAND\n",
      "FRANCE\n",
      "GERMANY\n",
      "GREECE\n",
      "IRELAND\n",
      "ITALY\n",
      "LATVIA\n",
      "LITHUANIA\n",
      "LUXEMBOURG\n",
      "MALTA\n",
      "NETHERLANDS\n",
      "PORTUGAL\n",
      "SLOVAKIA\n",
      "SLOVENIA\n",
      "SPAIN\n",
      "ESM\n",
      "EFSF\n",
      "BULGARIA\n",
      "CROATIA\n",
      "CZECH_REPUBLIC\n",
      "DENMARK\n",
      "HUNGARY\n",
      "POLAND\n",
      "ROMANIA\n",
      "SWEDEN\n",
      "JAPAN\n",
      "SWITZERLAND\n",
      "UNITED_KINGDOM\n",
      "UNITED_STATES\n"
     ]
    }
   ],
   "source": [
    "for country in FinBondMarkets:\n",
    "    print(country.name)"
   ]
  },
  {
   "cell_type": "markdown",
   "metadata": {},
   "source": [
    "There is a function to get the accrual convention, the frequency and the settlement period for each"
   ]
  },
  {
   "cell_type": "code",
   "execution_count": 32,
   "metadata": {},
   "outputs": [
    {
     "name": "stdout",
     "output_type": "stream",
     "text": [
      "             COUNTRY           ACCRUED       FREQUENCY   SETTLE DAYS\n",
      "             AUSTRIA      ACT_ACT_ICMA          ANNUAL             2\n",
      "             BELGIUM      ACT_ACT_ICMA          ANNUAL             2\n",
      "              CYPRUS      ACT_ACT_ICMA     SEMI_ANNUAL             2\n",
      "             ESTONIA      ACT_ACT_ICMA          ANNUAL             2\n",
      "             FINLAND      ACT_ACT_ICMA          ANNUAL             2\n",
      "              FRANCE      ACT_ACT_ICMA          ANNUAL             2\n",
      "             GERMANY      ACT_ACT_ICMA          ANNUAL             2\n",
      "              GREECE      ACT_ACT_ICMA          ANNUAL             3\n",
      "             IRELAND      ACT_ACT_ICMA          ANNUAL             2\n",
      "               ITALY      ACT_ACT_ICMA     SEMI_ANNUAL             2\n",
      "              LATVIA      ACT_ACT_ICMA          ANNUAL             2\n",
      "           LITHUANIA      ACT_ACT_ICMA          ANNUAL             1\n",
      "          LUXEMBOURG      ACT_ACT_ICMA          ANNUAL             2\n",
      "               MALTA      ACT_ACT_ICMA     SEMI_ANNUAL             2\n",
      "         NETHERLANDS      ACT_ACT_ICMA          ANNUAL             2\n",
      "            PORTUGAL      ACT_ACT_ICMA          ANNUAL             2\n",
      "            SLOVAKIA      ACT_ACT_ICMA          ANNUAL             2\n",
      "            SLOVENIA      ACT_ACT_ICMA          ANNUAL             2\n",
      "               SPAIN      ACT_ACT_ICMA          ANNUAL             2\n",
      "                 ESM      ACT_ACT_ICMA          ANNUAL             2\n",
      "                EFSF      ACT_ACT_ICMA          ANNUAL             2\n",
      "            BULGARIA      ACT_ACT_ICMA     SEMI_ANNUAL             0\n",
      "             CROATIA      ACT_ACT_ICMA     SEMI_ANNUAL             3\n",
      "      CZECH_REPUBLIC      ACT_ACT_ICMA     SEMI_ANNUAL             2\n",
      "             DENMARK      ACT_ACT_ICMA          ANNUAL             2\n",
      "             HUNGARY      ACT_ACT_ICMA          ANNUAL             2\n",
      "              POLAND      ACT_ACT_ICMA     SEMI_ANNUAL             2\n",
      "             ROMANIA      ACT_ACT_ICMA     SEMI_ANNUAL             2\n",
      "              SWEDEN      THIRTY_E_360          ANNUAL             2\n",
      "               JAPAN      ACT_ACT_ICMA          ANNUAL             2\n",
      "         SWITZERLAND      ACT_ACT_ICMA          ANNUAL             2\n",
      "      UNITED_KINGDOM      ACT_ACT_ICMA     SEMI_ANNUAL             1\n",
      "       UNITED_STATES      ACT_ACT_ICMA     SEMI_ANNUAL             2\n"
     ]
    }
   ],
   "source": [
    "print(\"%20s %17s %15s   %11s\" % (\"COUNTRY\",\"ACCRUED\",\"FREQUENCY\",\"SETTLE DAYS\"))\n",
    "for country in FinBondMarkets:\n",
    "    accrualType, frequencyType, settlementDays = getTreasuryBondMarketConventions(country)\n",
    "    print(\"%20s %17s %15s   %11d\" %(country.name, accrualType.name, frequencyType.name, settlementDays))"
   ]
  },
  {
   "cell_type": "markdown",
   "metadata": {},
   "source": [
    "Copyright (c) 2019, Dominic O'Kane "
   ]
  },
  {
   "cell_type": "code",
   "execution_count": null,
   "metadata": {},
   "outputs": [],
   "source": []
  }
 ],
 "metadata": {
  "kernelspec": {
   "display_name": "Python 3",
   "language": "python",
   "name": "python3"
  },
  "language_info": {
   "codemirror_mode": {
    "name": "ipython",
    "version": 3
   },
   "file_extension": ".py",
   "mimetype": "text/x-python",
   "name": "python",
   "nbconvert_exporter": "python",
   "pygments_lexer": "ipython3",
   "version": "3.7.4"
  }
 },
 "nbformat": 4,
 "nbformat_minor": 2
}
