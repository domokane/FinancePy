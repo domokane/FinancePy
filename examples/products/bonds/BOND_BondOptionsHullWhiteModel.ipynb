{
 "cells": [
  {
   "cell_type": "markdown",
   "metadata": {},
   "source": [
    "# Bond Options Hull White Model"
   ]
  },
  {
   "cell_type": "code",
   "execution_count": 1,
   "metadata": {},
   "outputs": [],
   "source": [
    "import sys\n",
    "sys.path.append(\"..\")\n",
    "sys.path.append(\"..\\\\..\")"
   ]
  },
  {
   "cell_type": "code",
   "execution_count": 2,
   "metadata": {},
   "outputs": [],
   "source": [
    "from importlib import reload"
   ]
  },
  {
   "cell_type": "code",
   "execution_count": 3,
   "metadata": {},
   "outputs": [],
   "source": [
    "import numpy as np\n",
    "import matplotlib.pyplot as plt\n",
    "import time"
   ]
  },
  {
   "cell_type": "code",
   "execution_count": 4,
   "metadata": {},
   "outputs": [],
   "source": [
    "from financepy.finutils.FinDate import FinDate\n",
    "from financepy.models.FinHullWhiteRateModel import FinHullWhiteRateModel\n",
    "from financepy.finutils.FinHelperFunctions import printTree\n",
    "from financepy.market.curves.FinDiscountCurve import FinDiscountCurve\n",
    "from financepy.products.bonds.FinBond import FinBond\n",
    "from financepy.finutils.FinFrequency import FinFrequencyTypes\n",
    "from financepy.finutils.FinDayCount import FinDayCountTypes\n",
    "from financepy.finutils.FinGlobalVariables import gDaysInYear"
   ]
  },
  {
   "cell_type": "markdown",
   "metadata": {},
   "source": [
    "## Example from Hull Book"
   ]
  },
  {
   "cell_type": "markdown",
   "metadata": {},
   "source": [
    "The first test is to price an option on a zero coupon bond as this has an analytical solution. Hull gives the following information for the term structure of interest rates."
   ]
  },
  {
   "cell_type": "code",
   "execution_count": 5,
   "metadata": {},
   "outputs": [],
   "source": [
    "zeroDays = [0, 3, 31, 62, 94, 185, 367, 731, 1096, 1461, 1826, 2194, 2558, 2922, 3287, 3653]\n",
    "zeroRates = [5.0, 5.01772, 4.98282, 4.97234, 4.96157, 4.99058, 5.09389, 5.79733, 6.30595, 6.73464, \n",
    "             6.94816, 7.08807, 7.27527, 7.30852, 7.39790, 7.49015]"
   ]
  },
  {
   "cell_type": "markdown",
   "metadata": {},
   "source": [
    "Create the discount curve"
   ]
  },
  {
   "cell_type": "code",
   "execution_count": 6,
   "metadata": {},
   "outputs": [],
   "source": [
    "startDate = FinDate(1, 12, 2019)\n",
    "times = np.array(zeroDays) / 365.0\n",
    "zeros = np.array(zeroRates) / 100.0\n",
    "dfs = np.exp(-zeros*times) \n",
    "discountCurve = FinDiscountCurve(startDate, times, dfs)"
   ]
  },
  {
   "cell_type": "markdown",
   "metadata": {},
   "source": [
    "Set the model parameters"
   ]
  },
  {
   "cell_type": "code",
   "execution_count": 7,
   "metadata": {},
   "outputs": [],
   "source": [
    "sigma = 0.01\n",
    "a = 0.1\n",
    "model = FinHullWhiteRateModel(a, sigma)"
   ]
  },
  {
   "cell_type": "markdown",
   "metadata": {},
   "source": [
    "Set the option parameters"
   ]
  },
  {
   "cell_type": "code",
   "execution_count": 8,
   "metadata": {},
   "outputs": [],
   "source": [
    "strike = 63.0\n",
    "face = 100.0\n",
    "expiryDate = startDate.addTenor(\"3Y\")\n",
    "maturityDate = startDate.addTenor(\"9Y\")"
   ]
  },
  {
   "cell_type": "code",
   "execution_count": 9,
   "metadata": {},
   "outputs": [],
   "source": [
    "vAnal = model.europeanOptionOnZeroCouponBond_Anal(startDate, expiryDate, maturityDate, \n",
    "                                                  strike, face, discountCurve)"
   ]
  },
  {
   "cell_type": "code",
   "execution_count": 10,
   "metadata": {},
   "outputs": [
    {
     "name": "stdout",
     "output_type": "stream",
     "text": [
      "100 1.8182444957901762 1.8130297564101916 0.02799391746520996\n",
      "110 1.8181166973972578 1.8130297564101916 0.007997989654541016\n",
      "120 1.817805380063026 1.8130297564101916 0.005002737045288086\n",
      "130 1.8173755054208085 1.8130297564101916 0.007001399993896484\n",
      "140 1.8168696367998542 1.8130297564101916 0.007997274398803711\n",
      "150 1.8163162525535528 1.8130297564101916 0.006997346878051758\n",
      "160 1.8157347172796714 1.8130297564101916 0.009996891021728516\n",
      "170 1.8151383553382172 1.8130297564101916 0.010996103286743164\n",
      "180 1.814536406161615 1.8130297564101916 0.010994911193847656\n",
      "190 1.8139352990259874 1.8130297564101916 0.008997440338134766\n",
      "200 1.8133395021369214 1.8130297564101916 0.011995553970336914\n",
      "210 1.8127520988287067 1.8130297564101916 0.012991189956665039\n",
      "220 1.8128636519617385 1.8130297564101916 0.012992620468139648\n",
      "230 1.8133539445802542 1.8130297564101916 0.015995025634765625\n",
      "240 1.81374889848921 1.8130297564101916 0.016994714736938477\n",
      "250 1.8140629790411935 1.8130297564101916 0.01899409294128418\n",
      "260 1.8143081633212754 1.8130297564101916 0.018987655639648438\n",
      "270 1.8144944310582678 1.8130297564101916 0.02299809455871582\n",
      "280 1.8146301460542993 1.8130297564101916 0.020994186401367188\n",
      "290 1.8147223554508214 1.8130297564101916 0.021997690200805664\n",
      "300 1.814777026424028 1.8130297564101916 0.024983644485473633\n",
      "310 1.8147992347781128 1.8130297564101916 0.02798628807067871\n",
      "320 1.8147933163789391 1.8130297564101916 0.03298544883728027\n",
      "330 1.814762989670784 1.8130297564101916 0.035982608795166016\n",
      "340 1.8147114550973145 1.8130297564101916 0.04298710823059082\n",
      "350 1.8146414766866852 1.8130297564101916 0.056981563568115234\n",
      "360 1.8145554490455962 1.8130297564101916 0.05198478698730469\n",
      "370 1.8144554528528982 1.8130297564101916 0.0349888801574707\n",
      "380 1.8143433008457701 1.8130297564101916 0.045984506607055664\n",
      "390 1.8142205763792416 1.8130297564101916 0.06498408317565918\n",
      "400 1.814088665687802 1.8130297564101916 0.03498244285583496\n",
      "410 1.8139487850365554 1.8130297564101916 0.0309906005859375\n",
      "420 1.813802003788687 1.8130297564101916 0.03699302673339844\n",
      "430 1.813649263769082 1.8130297564101916 0.03498363494873047\n",
      "440 1.8134913959668764 1.8130297564101916 0.05098724365234375\n",
      "450 1.8133291347150107 1.8130297564101916 0.03598189353942871\n",
      "460 1.813163129920821 1.8130297564101916 0.049981117248535156\n",
      "470 1.8129939574078726 1.8130297564101916 0.036984920501708984\n",
      "480 1.8128221279627768 1.8130297564101916 0.09296989440917969\n",
      "490 1.8129569484745482 1.8130297564101916 0.05298256874084473\n"
     ]
    }
   ],
   "source": [
    "# Test convergence\n",
    "numStepsList = range(100, 500, 10)\n",
    "analVector = []\n",
    "treeVector = []\n",
    "\n",
    "for numTimeSteps in numStepsList:\n",
    "    start = time.time()\n",
    "    model.buildTree(startDate, expiryDate, numTimeSteps, discountCurve)\n",
    "    vTree = model.europeanOptionOnZeroCouponBond_Tree(startDate,\n",
    "                                                      expiryDate,\n",
    "                                                      maturityDate,\n",
    "                                                      strike, face)\n",
    "    end = time.time()\n",
    "    period = end-start\n",
    "    treeVector.append(vTree[1])\n",
    "    analVector.append(vAnal[1])\n",
    "    print(numTimeSteps, vTree[1], vAnal[1], period)    "
   ]
  },
  {
   "cell_type": "markdown",
   "metadata": {},
   "source": [
    "Plot the convergence"
   ]
  },
  {
   "cell_type": "code",
   "execution_count": 11,
   "metadata": {},
   "outputs": [
    {
     "data": {
      "text/plain": [
       "[<matplotlib.lines.Line2D at 0x20e186bea08>]"
      ]
     },
     "execution_count": 11,
     "metadata": {},
     "output_type": "execute_result"
    },
    {
     "data": {
      "image/png": "[encoded data removed]",
      "text/plain": [
       "<Figure size 432x288 with 1 Axes>"
      ]
     },
     "metadata": {
      "needs_background": "light"
     },
     "output_type": "display_data"
    }
   ],
   "source": [
    "plt.plot(numStepsList, treeVector)\n",
    "plt.plot(numStepsList, analVector)"
   ]
  },
  {
   "cell_type": "markdown",
   "metadata": {},
   "source": [
    "This agrees almost exactly with what was calculated in the book. It only differs due to slightly different times due to my way of calculating years internally."
   ]
  },
  {
   "cell_type": "markdown",
   "metadata": {},
   "source": [
    "# American Bond Option Valuation"
   ]
  },
  {
   "cell_type": "markdown",
   "metadata": {},
   "source": [
    "We value an American style option on a coupon paying bond."
   ]
  },
  {
   "cell_type": "code",
   "execution_count": 12,
   "metadata": {},
   "outputs": [],
   "source": [
    "settlementDate = FinDate(1, 12, 2019)"
   ]
  },
  {
   "cell_type": "markdown",
   "metadata": {},
   "source": [
    "The bond pays 5% semi-annually for 10 years."
   ]
  },
  {
   "cell_type": "code",
   "execution_count": 13,
   "metadata": {},
   "outputs": [],
   "source": [
    "maturityDate = settlementDate.addTenor(\"10Y\")\n",
    "coupon = 0.05\n",
    "frequencyType = FinFrequencyTypes.SEMI_ANNUAL\n",
    "accrualType = FinDayCountTypes.ACT_ACT_ICMA\n",
    "bond = FinBond(maturityDate, coupon, frequencyType, accrualType)"
   ]
  },
  {
   "cell_type": "markdown",
   "metadata": {},
   "source": [
    "The option expires in 18 months with a strike of 105"
   ]
  },
  {
   "cell_type": "code",
   "execution_count": 14,
   "metadata": {},
   "outputs": [],
   "source": [
    "expiryDate = settlementDate.addTenor(\"18m\")\n",
    "strikePrice = 105.0\n",
    "face = 100.0"
   ]
  },
  {
   "cell_type": "markdown",
   "metadata": {},
   "source": [
    "We set the HW model to have 1% of basis point volatility and 0.1 of mean-reversion"
   ]
  },
  {
   "cell_type": "code",
   "execution_count": 15,
   "metadata": {},
   "outputs": [],
   "source": [
    "sigma = 0.01\n",
    "a = 0.1"
   ]
  },
  {
   "cell_type": "markdown",
   "metadata": {},
   "source": [
    "We set up a flat discount curve at 5%"
   ]
  },
  {
   "cell_type": "code",
   "execution_count": 16,
   "metadata": {},
   "outputs": [],
   "source": [
    "tmat = (maturityDate - settlementDate) / gDaysInYear\n",
    "times = np.linspace(0, tmat, 20)\n",
    "dfs = np.exp(-0.05*times)\n",
    "discountCurve = FinDiscountCurve(settlementDate, times, dfs)"
   ]
  },
  {
   "cell_type": "markdown",
   "metadata": {},
   "source": [
    "We can price the basic bond without any option"
   ]
  },
  {
   "cell_type": "code",
   "execution_count": 17,
   "metadata": {},
   "outputs": [],
   "source": [
    "price = bond.fullPriceFromDiscountCurve(settlementDate, discountCurve)"
   ]
  },
  {
   "cell_type": "code",
   "execution_count": 18,
   "metadata": {},
   "outputs": [
    {
     "name": "stdout",
     "output_type": "stream",
     "text": [
      "Bond Price: 99.50391846904128\n"
     ]
    }
   ],
   "source": [
    "print(\"Bond Price:\", price)"
   ]
  },
  {
   "cell_type": "markdown",
   "metadata": {},
   "source": [
    "Now we price the option - the tree only needs to go out to the expiry date of the option"
   ]
  },
  {
   "cell_type": "code",
   "execution_count": 19,
   "metadata": {},
   "outputs": [],
   "source": [
    "numTimeSteps = 100"
   ]
  },
  {
   "cell_type": "code",
   "execution_count": 33,
   "metadata": {},
   "outputs": [],
   "source": [
    "model = FinHullWhiteRateModel(a, sigma)"
   ]
  },
  {
   "cell_type": "code",
   "execution_count": 30,
   "metadata": {},
   "outputs": [],
   "source": [
    "numStepsList = [50, 100, 150, 200, 250, 300, 400, 500, 600, 700, 800, 900, 1000]"
   ]
  },
  {
   "cell_type": "code",
   "execution_count": 32,
   "metadata": {},
   "outputs": [
    {
     "name": "stdout",
     "output_type": "stream",
     "text": [
      "50 1.0195442666210932 99.50481770183933\n",
      "100 1.0461115527082683 99.50436862745435\n",
      "150 0.9952437343691435 99.50421869503691\n",
      "200 1.0582299351394304 99.5041436836449\n",
      "250 1.0484865554556992 99.50409866239734\n",
      "300 1.0898231214741718 101.82338385958747\n",
      "400 1.0170068705340183 99.50403111024605\n",
      "500 1.0568624726985643 99.50400858748012\n",
      "600 1.0478861244253581 99.50399357070164\n",
      "700 1.056208571044406 99.50398284364438\n",
      "800 0.9930580734428299 99.50397479809263\n",
      "900 1.0173848403666026 99.50396854057577\n",
      "1000 1.05677600255145 99.50396353354103\n"
     ]
    },
    {
     "data": {
      "image/png": "[encoded data removed]",
      "text/plain": [
       "<Figure size 432x288 with 1 Axes>"
      ]
     },
     "metadata": {
      "needs_background": "light"
     },
     "output_type": "display_data"
    }
   ],
   "source": [
    "treeVector = []\n",
    "for numTimeSteps in numStepsList:\n",
    "    model = FinHullWhiteRateModel(a, sigma)\n",
    "    model.buildTree(settlementDate, expiryDate, numTimeSteps, discountCurve)\n",
    "    vOption, vBond = model.bondOption(settlementDate, expiryDate, strikePrice, face, bond, True)\n",
    "    treeVector.append(vOption)\n",
    "    print(numTimeSteps, vOption, vBond)\n",
    "\n",
    "plt.plot(numStepsList, treeVector);    "
   ]
  },
  {
   "cell_type": "markdown",
   "metadata": {},
   "source": [
    "There is a convergence issue at 300 steps with the bond price that needs to be examined. It relates to a numerical issue regarding the coupon payment and expiry date being close together."
   ]
  },
  {
   "cell_type": "code",
   "execution_count": null,
   "metadata": {},
   "outputs": [],
   "source": []
  }
 ],
 "metadata": {
  "kernelspec": {
   "display_name": "Python 3",
   "language": "python",
   "name": "python3"
  },
  "language_info": {
   "codemirror_mode": {
    "name": "ipython",
    "version": 3
   },
   "file_extension": ".py",
   "mimetype": "text/x-python",
   "name": "python",
   "nbconvert_exporter": "python",
   "pygments_lexer": "ipython3",
   "version": "3.7.5"
  }
 },
 "nbformat": 4,
 "nbformat_minor": 2
}
