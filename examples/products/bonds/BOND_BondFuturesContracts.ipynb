{
 "cells": [
  {
   "cell_type": "markdown",
   "metadata": {},
   "source": [
    "# BOND FUTURES CONTRACTS"
   ]
  },
  {
   "cell_type": "markdown",
   "metadata": {},
   "source": [
    "In this notebook I analyse a CME bond futures contract"
   ]
  },
  {
   "cell_type": "code",
   "execution_count": 4,
   "metadata": {},
   "outputs": [],
   "source": [
    "import sys\n",
    "sys.path.append(\"..\")\n",
    "sys.path.append(\"..\\\\..\\\\..\\\\..\")"
   ]
  },
  {
   "cell_type": "code",
   "execution_count": 5,
   "metadata": {},
   "outputs": [],
   "source": [
    "import datetime as dt"
   ]
  },
  {
   "cell_type": "code",
   "execution_count": 6,
   "metadata": {},
   "outputs": [],
   "source": [
    "from financepy.finutils.FinTestCases import FinTestCases, globalTestCaseMode\n",
    "from financepy.products.bonds.FinBondFuture import FinBondFuture\n",
    "from financepy.products.bonds.FinBond import FinBond\n",
    "from financepy.finutils.FinFrequency import FinFrequencyTypes\n",
    "from financepy.finutils.FinDayCount import FinDayCountTypes\n",
    "from financepy.finutils.FinDate import FinDate"
   ]
  },
  {
   "cell_type": "markdown",
   "metadata": {},
   "source": [
    "## Example from CME"
   ]
  },
  {
   "cell_type": "markdown",
   "metadata": {},
   "source": [
    "https://www.cmegroup.com/education/files/understanding-treasury-futures.pdf"
   ]
  },
  {
   "cell_type": "code",
   "execution_count": 7,
   "metadata": {},
   "outputs": [],
   "source": [
    "firstDeliveryDate = FinDate(1, 12, 2017)\n",
    "lastDeliveryDate = FinDate(28, 12, 2017)\n",
    "\n",
    "contractSize = 100000\n",
    "contractCoupon = 0.06\n",
    "\n",
    "bondFutureContract = FinBondFuture(\"TYZ7\", firstDeliveryDate, lastDeliveryDate, contractSize, contractCoupon)"
   ]
  },
  {
   "cell_type": "code",
   "execution_count": 8,
   "metadata": {},
   "outputs": [],
   "source": [
    "freq = FinFrequencyTypes.SEMI_ANNUAL\n",
    "basis = FinDayCountTypes.ACT_ACT_ICMA\n",
    "settlementDate = FinDate(10, 10, 2017)"
   ]
  },
  {
   "cell_type": "code",
   "execution_count": 9,
   "metadata": {},
   "outputs": [],
   "source": [
    "bonds = []\n",
    "prices = []\n",
    "bond = FinBond(FinDate(15, 8, 2027), 0.0225, freq, basis); bonds.append(bond); prices.append(99 + 1 / 32)\n",
    "bond = FinBond(FinDate(15, 5, 2027), 0.02375, freq, basis); bonds.append(bond); prices.append(100 + 5 / 32 + 1 / 64)\n",
    "bond = FinBond(FinDate(15, 2, 2027), 0.0225, freq, basis); bonds.append(bond); prices.append(99 + 5 / 32 + 1 / 64)\n",
    "bond = FinBond(FinDate(15, 11, 2026), 0.02, freq, basis); bonds.append(bond); prices.append(97 + 7 / 32 + 1 / 64)\n",
    "bond = FinBond(FinDate(5, 8, 2026), 0.015, freq, basis); bonds.append(bond); prices.append(93 + 14 / 32)\n",
    "bond = FinBond(FinDate(15, 5, 2026), 0.01625, freq, basis); bonds.append(bond); prices.append(94 + 21 / 32 + 1 / 64)\n",
    "bond = FinBond(FinDate(15, 2, 2026), 0.01625, freq, basis); bonds.append(bond); prices.append(94 + 29 / 32)\n",
    "bond = FinBond(FinDate(15, 11, 2025), 0.0225, freq, basis); bonds.append(bond); prices.append(99 + 25 / 32)\n",
    "bond = FinBond(FinDate(15, 8, 2025), 0.02, freq, basis); bonds.append(bond); prices.append(98 + 3 / 32)\n",
    "bond = FinBond(FinDate(15, 5, 2025), 0.02125, freq, basis); bonds.append(bond); prices.append(99 + 5 / 32 + 1 / 64)\n",
    "bond = FinBond(FinDate(15, 2, 2025), 0.02, freq, basis); bonds.append(bond); prices.append(98 + 14 / 32 + 1 / 64)\n",
    "bond = FinBond(FinDate(15, 11, 2024), 0.0225, freq, basis); bonds.append(bond); prices.append(100 + 9 / 32 + 1 / 64)\n",
    "bond = FinBond(FinDate(15, 8, 2024), 0.02375, freq, basis); bonds.append(bond); prices.append(101 + 7 / 32 + 1 / 64)\n",
    "bond = FinBond(FinDate(15, 8, 2024), 0.01875, freq, basis); bonds.append(bond); prices.append(98 + 1 / 32 + 0/64) #TYPO IN REPT"
   ]
  },
  {
   "cell_type": "markdown",
   "metadata": {},
   "source": [
    "Calculate the bond yield"
   ]
  },
  {
   "cell_type": "code",
   "execution_count": 10,
   "metadata": {},
   "outputs": [
    {
     "name": "stdout",
     "output_type": "stream",
     "text": [
      "     Bond Maturity    Coupon        Yield\n",
      "   SUN 15 AUG 2027   2.25000   2.36049984\n",
      "   SAT 15 MAY 2027   2.37500   2.35463188\n",
      "   MON 15 FEB 2027   2.25000   2.34885040\n",
      "   SUN 15 NOV 2026   2.00000   2.33900466\n",
      "    WED 5 AUG 2026   1.50000   2.32695325\n",
      "   FRI 15 MAY 2026   1.62500   2.31166907\n",
      "   SUN 15 FEB 2026   1.62500   2.29879314\n",
      "   SAT 15 NOV 2025   2.25000   2.27946129\n",
      "   FRI 15 AUG 2025   2.00000   2.26615960\n",
      "   THU 15 MAY 2025   2.12500   2.24388311\n",
      "   SAT 15 FEB 2025   2.00000   2.22903638\n",
      "   FRI 15 NOV 2024   2.25000   2.20429165\n",
      "   THU 15 AUG 2024   2.37500   2.17956249\n",
      "   THU 15 AUG 2024   1.87500   2.18575341\n"
     ]
    }
   ],
   "source": [
    "print(\"%18s %9s %12s\" % (\"Bond Maturity\", \"Coupon\", \"Yield\"))\n",
    "for bond, cleanPrice in zip(bonds, prices):\n",
    "    yld = bond.yieldToMaturity(settlementDate, cleanPrice)\n",
    "    dt = bond._maturityDate\n",
    "    print(\"%18s %9.5f %12.8f\"% (dt, bond._coupon * 100, yld*100))"
   ]
  },
  {
   "cell_type": "markdown",
   "metadata": {},
   "source": [
    "Get the conversion factors"
   ]
  },
  {
   "cell_type": "code",
   "execution_count": 11,
   "metadata": {},
   "outputs": [
    {
     "name": "stdout",
     "output_type": "stream",
     "text": [
      "     Bond Maturity    Coupon    Conv Fact\n",
      "   SUN 15 AUG 2027   2.25000   0.73140000\n",
      "   SAT 15 MAY 2027   2.37500   0.74550000\n",
      "   MON 15 FEB 2027   2.25000   0.74210000\n",
      "   SUN 15 NOV 2026   2.00000   0.73080000\n",
      "    WED 5 AUG 2026   1.50000   0.70380000\n",
      "   FRI 15 MAY 2026   1.62500   0.71860000\n",
      "   SUN 15 FEB 2026   1.62500   0.72520000\n",
      "   SAT 15 NOV 2025   2.25000   0.77030000\n",
      "   FRI 15 AUG 2025   2.00000   0.76120000\n",
      "   THU 15 MAY 2025   2.12500   0.77490000\n",
      "   SAT 15 FEB 2025   2.00000   0.77410000\n",
      "   FRI 15 NOV 2024   2.25000   0.79430000\n",
      "   THU 15 AUG 2024   2.37500   0.80720000\n",
      "   THU 15 AUG 2024   1.87500   0.78070000\n"
     ]
    }
   ],
   "source": [
    "print(\"%18s %9s %12s\" % (\"Bond Maturity\", \"Coupon\", \"Conv Fact\"))\n",
    "for bond in bonds:\n",
    "    cf = bondFutureContract.conversionFactor(bond)\n",
    "    dt = bond._maturityDate\n",
    "    print(\"%18s %9.5f %12.8f\"% (dt, bond._coupon * 100, cf))"
   ]
  },
  {
   "cell_type": "code",
   "execution_count": 12,
   "metadata": {},
   "outputs": [],
   "source": [
    "# Get the Invoice Prices\n",
    "futuresPrice = 125 + 8/32 + 1/64"
   ]
  },
  {
   "cell_type": "code",
   "execution_count": 13,
   "metadata": {},
   "outputs": [
    {
     "data": {
      "text/plain": [
       "125.265625"
      ]
     },
     "execution_count": 13,
     "metadata": {},
     "output_type": "execute_result"
    }
   ],
   "source": [
    "futuresPrice"
   ]
  },
  {
   "cell_type": "code",
   "execution_count": 14,
   "metadata": {},
   "outputs": [
    {
     "name": "stdout",
     "output_type": "stream",
     "text": [
      "          MATURITY       COUPON     PRINC.INV. PRICE\n",
      "   SUN 15 AUG 2027      2.25000           91619.2800\n",
      "   SAT 15 MAY 2027      2.37500           93385.5200\n",
      "   MON 15 FEB 2027      2.25000           92959.6200\n",
      "   SUN 15 NOV 2026      2.00000           91544.1200\n",
      "    WED 5 AUG 2026      1.50000           88161.9500\n",
      "   FRI 15 MAY 2026      1.62500           90015.8800\n",
      "   SUN 15 FEB 2026      1.62500           90842.6300\n",
      "   SAT 15 NOV 2025      2.25000           96492.1100\n",
      "   FRI 15 AUG 2025      2.00000           95352.1900\n",
      "   THU 15 MAY 2025      2.12500           97068.3300\n",
      "   SAT 15 FEB 2025      2.00000           96968.1200\n",
      "   FRI 15 NOV 2024      2.25000           99498.4900\n",
      "   THU 15 AUG 2024      2.37500          101114.4100\n",
      "   THU 15 AUG 2024      1.87500           97794.8700\n"
     ]
    }
   ],
   "source": [
    "print(\"%18s %12s %20s\"%(\"MATURITY\", \"COUPON\", \"PRINC.INV. PRICE\"))\n",
    "\n",
    "for bond in bonds:\n",
    "    pip = bondFutureContract.principalInvoicePrice(bond, futuresPrice)\n",
    "    print(\"%18s %12.5f %20.4f\"% (str(bond._maturityDate), bond._coupon*100, pip))"
   ]
  },
  {
   "cell_type": "code",
   "execution_count": 15,
   "metadata": {},
   "outputs": [
    {
     "name": "stdout",
     "output_type": "stream",
     "text": [
      "          MATURITY       COUPON   DELIVERY GAIN/LOSS\n",
      "   SUN 15 AUG 2027      2.25000           -7411.9700\n",
      "   SAT 15 MAY 2027      2.37500           -6786.3550\n",
      "   MON 15 FEB 2027      2.25000           -6212.2550\n",
      "   SUN 15 NOV 2026      2.00000           -5690.2550\n",
      "    WED 5 AUG 2026      1.50000           -5275.5500\n",
      "   FRI 15 MAY 2026      1.62500           -4655.9950\n",
      "   SUN 15 FEB 2026      1.62500           -4063.6200\n",
      "   SAT 15 NOV 2025      2.25000           -3289.1400\n",
      "   FRI 15 AUG 2025      2.00000           -2741.5600\n",
      "   THU 15 MAY 2025      2.12500           -2103.5450\n",
      "   SAT 15 FEB 2025      2.00000           -1485.0050\n",
      "   FRI 15 NOV 2024      2.25000            -798.3850\n",
      "   THU 15 AUG 2024      2.37500            -119.9650\n",
      "   THU 15 AUG 2024      1.87500            -236.3800\n"
     ]
    }
   ],
   "source": [
    "print(\"%18s %12s %20s\" %(\"MATURITY\", \"COUPON\", \"DELIVERY GAIN/LOSS\"))\n",
    "\n",
    "for bond, cleanPrice in zip(bonds, prices):\n",
    "    gainloss, payForBond, receiveOnFuture = bondFutureContract.deliveryGainLoss(bond, cleanPrice, futuresPrice)\n",
    "    print(\"%18s %12.5f %20.4f\"% (str(bond._maturityDate), bond._coupon*100, gainloss))"
   ]
  },
  {
   "cell_type": "code",
   "execution_count": 16,
   "metadata": {},
   "outputs": [
    {
     "name": "stdout",
     "output_type": "stream",
     "text": [
      "CTD MATURITY CTD COUPON\n",
      "THU 15 AUG 2024 2.375\n"
     ]
    }
   ],
   "source": [
    "ctd = bondFutureContract.cheapestToDeliver(bonds, prices, futuresPrice)\n",
    "print(\"CTD MATURITY\", \"CTD COUPON\")\n",
    "print(str(ctd._maturityDate), ctd._coupon*100)"
   ]
  },
  {
   "cell_type": "markdown",
   "metadata": {},
   "source": [
    "Copyright (c) 2019, Dominic O'Kane "
   ]
  }
 ],
 "metadata": {
  "kernelspec": {
   "display_name": "Python 3",
   "language": "python",
   "name": "python3"
  },
  "language_info": {
   "codemirror_mode": {
    "name": "ipython",
    "version": 3
   },
   "file_extension": ".py",
   "mimetype": "text/x-python",
   "name": "python",
   "nbconvert_exporter": "python",
   "pygments_lexer": "ipython3",
   "version": "3.7.5"
  }
 },
 "nbformat": 4,
 "nbformat_minor": 2
}
