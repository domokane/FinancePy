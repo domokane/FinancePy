{
 "cells": [
  {
   "cell_type": "markdown",
   "metadata": {},
   "source": [
    "# MORTGAGE CALCULATOR"
   ]
  },
  {
   "cell_type": "markdown",
   "metadata": {},
   "source": [
    "In this notebook I use the simple mortgage calculator to generate mortgage cashflows."
   ]
  },
  {
   "cell_type": "code",
   "execution_count": 2,
   "metadata": {
    "scrolled": true
   },
   "outputs": [],
   "source": [
    "import sys\n",
    "sys.path.append(\"..\")\n",
    "sys.path.append(\"..\\\\..\")"
   ]
  },
  {
   "cell_type": "code",
   "execution_count": 3,
   "metadata": {
    "scrolled": true
   },
   "outputs": [],
   "source": [
    "import datetime as dt"
   ]
  },
  {
   "cell_type": "code",
   "execution_count": 25,
   "metadata": {
    "scrolled": true
   },
   "outputs": [],
   "source": [
    "from financepy.finutils.FinDate import FinDate\n",
    "from financepy.products.bonds.FinMortgage import FinMortgage, FinMortgageType"
   ]
  },
  {
   "cell_type": "markdown",
   "metadata": {},
   "source": [
    "## REPAYMENT MORTGAGE"
   ]
  },
  {
   "cell_type": "markdown",
   "metadata": {},
   "source": [
    "Calculate the cashflows on a repayment mortgage"
   ]
  },
  {
   "cell_type": "code",
   "execution_count": 26,
   "metadata": {
    "scrolled": true
   },
   "outputs": [],
   "source": [
    "principal = 130000\n",
    "startDate = FinDate(1, 2, 2018)\n",
    "endDate = startDate.addTenor(\"10Y\")"
   ]
  },
  {
   "cell_type": "markdown",
   "metadata": {},
   "source": [
    "Create the mortgage - this is the minimum number of inputs. You can also specify the frequency (which defaults to monthly)."
   ]
  },
  {
   "cell_type": "code",
   "execution_count": 27,
   "metadata": {
    "scrolled": true
   },
   "outputs": [],
   "source": [
    "mortgage = FinMortgage(startDate, endDate, principal)"
   ]
  },
  {
   "cell_type": "markdown",
   "metadata": {},
   "source": [
    "To calculate the flows we need the term zero rate"
   ]
  },
  {
   "cell_type": "code",
   "execution_count": 28,
   "metadata": {
    "scrolled": true
   },
   "outputs": [],
   "source": [
    "rate = 0.035"
   ]
  },
  {
   "cell_type": "code",
   "execution_count": 29,
   "metadata": {
    "scrolled": true
   },
   "outputs": [],
   "source": [
    "mortgage.generateFlows(rate, FinMortgageType.REPAYMENT)"
   ]
  },
  {
   "cell_type": "code",
   "execution_count": 30,
   "metadata": {
    "scrolled": false
   },
   "outputs": [
    {
     "name": "stdout",
     "output_type": "stream",
     "text": [
      "START DATE: THU 1 FEB 2018\n",
      "END DATE: TUE 1 FEB 2028\n",
      "MORTGAGE TYPE: FinMortgageType.REPAYMENT\n",
      "FREQUENCY: FinFrequencyTypes.MONTHLY\n",
      "CALENDAR: FinCalendarTypes.WEEKEND\n",
      "BUSDAYRULE: FinDayAdjustTypes.FOLLOWING\n",
      "DATEGENRULE: FinDateGenRuleTypes.BACKWARD\n",
      "   PAYMENT DATE     INTEREST    PRINCIPAL  OUTSTANDING        TOTAL\n",
      " THU 1 FEB 2018         0.00         0.00    130000.00         0.00\n",
      " THU 1 MAR 2018       379.17       906.35    129093.65      1285.52\n",
      " MON 2 APR 2018       376.52       908.99    128184.66      1285.52\n",
      " TUE 1 MAY 2018       373.87       911.64    127273.01      1285.52\n",
      " FRI 1 JUN 2018       371.21       914.30    126358.71      1285.52\n",
      " MON 2 JUL 2018       368.55       916.97    125441.74      1285.52\n",
      " WED 1 AUG 2018       365.87       919.64    124522.09      1285.52\n",
      " MON 3 SEP 2018       363.19       922.33    123599.77      1285.52\n",
      " MON 1 OCT 2018       360.50       925.02    122674.75      1285.52\n",
      " THU 1 NOV 2018       357.80       927.71    121747.04      1285.52\n",
      " MON 3 DEC 2018       355.10       930.42    120816.62      1285.52\n",
      " TUE 1 JAN 2019       352.38       933.13    119883.48      1285.52\n",
      " FRI 1 FEB 2019       349.66       935.86    118947.62      1285.52\n",
      " FRI 1 MAR 2019       346.93       938.59    118009.04      1285.52\n",
      " MON 1 APR 2019       344.19       941.32    117067.72      1285.52\n",
      " WED 1 MAY 2019       341.45       944.07    116123.65      1285.52\n",
      " MON 3 JUN 2019       338.69       946.82    115176.82      1285.52\n",
      " MON 1 JUL 2019       335.93       949.58    114227.24      1285.52\n",
      " THU 1 AUG 2019       333.16       952.35    113274.89      1285.52\n",
      " MON 2 SEP 2019       330.39       955.13    112319.76      1285.52\n",
      " TUE 1 OCT 2019       327.60       957.92    111361.84      1285.52\n",
      " FRI 1 NOV 2019       324.81       960.71    110401.13      1285.52\n",
      " MON 2 DEC 2019       322.00       963.51    109437.62      1285.52\n",
      " WED 1 JAN 2020       319.19       966.32    108471.29      1285.52\n",
      " MON 3 FEB 2020       316.37       969.14    107502.15      1285.52\n",
      " MON 2 MAR 2020       313.55       971.97    106530.18      1285.52\n",
      " WED 1 APR 2020       310.71       974.80    105555.38      1285.52\n",
      " FRI 1 MAY 2020       307.87       977.65    104577.73      1285.52\n",
      " MON 1 JUN 2020       305.02       980.50    103597.23      1285.52\n",
      " WED 1 JUL 2020       302.16       983.36    102613.88      1285.52\n",
      " MON 3 AUG 2020       299.29       986.23    101627.65      1285.52\n",
      " TUE 1 SEP 2020       296.41       989.10    100638.55      1285.52\n",
      " THU 1 OCT 2020       293.53       991.99     99646.56      1285.52\n",
      " MON 2 NOV 2020       290.64       994.88     98651.68      1285.52\n",
      " TUE 1 DEC 2020       287.73       997.78     97653.90      1285.52\n",
      " FRI 1 JAN 2021       284.82      1000.69     96653.21      1285.52\n",
      " MON 1 FEB 2021       281.91      1003.61     95649.60      1285.52\n",
      " MON 1 MAR 2021       278.98      1006.54     94643.06      1285.52\n",
      " THU 1 APR 2021       276.04      1009.47     93633.58      1285.52\n",
      " MON 3 MAY 2021       273.10      1012.42     92621.16      1285.52\n",
      " TUE 1 JUN 2021       270.15      1015.37     91605.79      1285.52\n",
      " THU 1 JUL 2021       267.18      1018.33     90587.46      1285.52\n",
      " MON 2 AUG 2021       264.21      1021.30     89566.16      1285.52\n",
      " WED 1 SEP 2021       261.23      1024.28     88541.88      1285.52\n",
      " FRI 1 OCT 2021       258.25      1027.27     87514.61      1285.52\n",
      " MON 1 NOV 2021       255.25      1030.27     86484.34      1285.52\n",
      " WED 1 DEC 2021       252.25      1033.27     85451.07      1285.52\n",
      " MON 3 JAN 2022       249.23      1036.28     84414.79      1285.52\n",
      " TUE 1 FEB 2022       246.21      1039.31     83375.48      1285.52\n",
      " TUE 1 MAR 2022       243.18      1042.34     82333.14      1285.52\n",
      " FRI 1 APR 2022       240.14      1045.38     81287.77      1285.52\n",
      " MON 2 MAY 2022       237.09      1048.43     80239.34      1285.52\n",
      " WED 1 JUN 2022       234.03      1051.48     79187.85      1285.52\n",
      " FRI 1 JUL 2022       230.96      1054.55     78133.30      1285.52\n",
      " MON 1 AUG 2022       227.89      1057.63     77075.67      1285.52\n",
      " THU 1 SEP 2022       224.80      1060.71     76014.96      1285.52\n",
      " MON 3 OCT 2022       221.71      1063.81     74951.16      1285.52\n",
      " TUE 1 NOV 2022       218.61      1066.91     73884.25      1285.52\n",
      " THU 1 DEC 2022       215.50      1070.02     72814.23      1285.52\n",
      " MON 2 JAN 2023       212.37      1073.14     71741.09      1285.52\n",
      " WED 1 FEB 2023       209.24      1076.27     70664.81      1285.52\n",
      " WED 1 MAR 2023       206.11      1079.41     69585.40      1285.52\n",
      " MON 3 APR 2023       202.96      1082.56     68502.84      1285.52\n",
      " MON 1 MAY 2023       199.80      1085.72     67417.13      1285.52\n",
      " THU 1 JUN 2023       196.63      1088.88     66328.25      1285.52\n",
      " MON 3 JUL 2023       193.46      1092.06     65236.19      1285.52\n",
      " TUE 1 AUG 2023       190.27      1095.24     64140.94      1285.52\n",
      " FRI 1 SEP 2023       187.08      1098.44     63042.50      1285.52\n",
      " MON 2 OCT 2023       183.87      1101.64     61940.86      1285.52\n",
      " WED 1 NOV 2023       180.66      1104.86     60836.01      1285.52\n",
      " FRI 1 DEC 2023       177.44      1108.08     59727.93      1285.52\n",
      " MON 1 JAN 2024       174.21      1111.31     58616.62      1285.52\n",
      " THU 1 FEB 2024       170.97      1114.55     57502.07      1285.52\n",
      " FRI 1 MAR 2024       167.71      1117.80     56384.27      1285.52\n",
      " MON 1 APR 2024       164.45      1121.06     55263.20      1285.52\n",
      " WED 1 MAY 2024       161.18      1124.33     54138.87      1285.52\n",
      " MON 3 JUN 2024       157.91      1127.61     53011.26      1285.52\n",
      " MON 1 JUL 2024       154.62      1130.90     51880.36      1285.52\n",
      " THU 1 AUG 2024       151.32      1134.20     50746.16      1285.52\n",
      " MON 2 SEP 2024       148.01      1137.51     49608.65      1285.52\n",
      " TUE 1 OCT 2024       144.69      1140.82     48467.83      1285.52\n",
      " FRI 1 NOV 2024       141.36      1144.15     47323.68      1285.52\n",
      " MON 2 DEC 2024       138.03      1147.49     46176.19      1285.52\n",
      " WED 1 JAN 2025       134.68      1150.84     45025.35      1285.52\n",
      " MON 3 FEB 2025       131.32      1154.19     43871.16      1285.52\n",
      " MON 3 MAR 2025       127.96      1157.56     42713.60      1285.52\n",
      " TUE 1 APR 2025       124.58      1160.93     41552.67      1285.52\n",
      " THU 1 MAY 2025       121.20      1164.32     40388.35      1285.52\n",
      " MON 2 JUN 2025       117.80      1167.72     39220.63      1285.52\n",
      " TUE 1 JUL 2025       114.39      1171.12     38049.51      1285.52\n",
      " FRI 1 AUG 2025       110.98      1174.54     36874.97      1285.52\n",
      " MON 1 SEP 2025       107.55      1177.96     35697.00      1285.52\n",
      " WED 1 OCT 2025       104.12      1181.40     34515.60      1285.52\n",
      " MON 3 NOV 2025       100.67      1184.85     33330.76      1285.52\n",
      " MON 1 DEC 2025        97.21      1188.30     32142.46      1285.52\n",
      " THU 1 JAN 2026        93.75      1191.77     30950.69      1285.52\n",
      " MON 2 FEB 2026        90.27      1195.24     29755.45      1285.52\n",
      " MON 2 MAR 2026        86.79      1198.73     28556.72      1285.52\n",
      " WED 1 APR 2026        83.29      1202.23     27354.49      1285.52\n",
      " FRI 1 MAY 2026        79.78      1205.73     26148.76      1285.52\n",
      " MON 1 JUN 2026        76.27      1209.25     24939.51      1285.52\n",
      " WED 1 JUL 2026        72.74      1212.78     23726.73      1285.52\n",
      " MON 3 AUG 2026        69.20      1216.31     22510.42      1285.52\n",
      " TUE 1 SEP 2026        65.66      1219.86     21290.56      1285.52\n",
      " THU 1 OCT 2026        62.10      1223.42     20067.14      1285.52\n",
      " MON 2 NOV 2026        58.53      1226.99     18840.15      1285.52\n",
      " TUE 1 DEC 2026        54.95      1230.57     17609.59      1285.52\n",
      " FRI 1 JAN 2027        51.36      1234.15     16375.43      1285.52\n",
      " MON 1 FEB 2027        47.76      1237.75     15137.68      1285.52\n",
      " MON 1 MAR 2027        44.15      1241.36     13896.31      1285.52\n",
      " THU 1 APR 2027        40.53      1244.99     12651.33      1285.52\n",
      " MON 3 MAY 2027        36.90      1248.62     11402.71      1285.52\n",
      " TUE 1 JUN 2027        33.26      1252.26     10150.45      1285.52\n",
      " THU 1 JUL 2027        29.61      1255.91      8894.54      1285.52\n",
      " MON 2 AUG 2027        25.94      1259.57      7634.97      1285.52\n",
      " WED 1 SEP 2027        22.27      1263.25      6371.72      1285.52\n",
      " FRI 1 OCT 2027        18.58      1266.93      5104.79      1285.52\n",
      " MON 1 NOV 2027        14.89      1270.63      3834.16      1285.52\n",
      " WED 1 DEC 2027        11.18      1274.33      2559.83      1285.52\n",
      " MON 3 JAN 2028         7.47      1278.05      1281.78      1285.52\n",
      " TUE 1 FEB 2028         3.74      1281.78         0.00      1285.52\n"
     ]
    }
   ],
   "source": [
    "mortgage.print()"
   ]
  },
  {
   "cell_type": "markdown",
   "metadata": {},
   "source": [
    "## INTEREST ONLY MORTGAGE"
   ]
  },
  {
   "cell_type": "code",
   "execution_count": 31,
   "metadata": {
    "scrolled": true
   },
   "outputs": [],
   "source": [
    "mortgage.generateFlows(rate, FinMortgageType.INTEREST_ONLY)"
   ]
  },
  {
   "cell_type": "markdown",
   "metadata": {},
   "source": [
    "Show the cash flows"
   ]
  },
  {
   "cell_type": "code",
   "execution_count": 32,
   "metadata": {
    "scrolled": false
   },
   "outputs": [
    {
     "name": "stdout",
     "output_type": "stream",
     "text": [
      "START DATE: THU 1 FEB 2018\n",
      "END DATE: TUE 1 FEB 2028\n",
      "MORTGAGE TYPE: FinMortgageType.INTEREST_ONLY\n",
      "FREQUENCY: FinFrequencyTypes.MONTHLY\n",
      "CALENDAR: FinCalendarTypes.WEEKEND\n",
      "BUSDAYRULE: FinDayAdjustTypes.FOLLOWING\n",
      "DATEGENRULE: FinDateGenRuleTypes.BACKWARD\n",
      "   PAYMENT DATE     INTEREST    PRINCIPAL  OUTSTANDING        TOTAL\n",
      " THU 1 FEB 2018         0.00         0.00    130000.00         0.00\n",
      " THU 1 MAR 2018       379.17         0.00    130000.00       379.17\n",
      " MON 2 APR 2018       379.17         0.00    130000.00       379.17\n",
      " TUE 1 MAY 2018       379.17         0.00    130000.00       379.17\n",
      " FRI 1 JUN 2018       379.17         0.00    130000.00       379.17\n",
      " MON 2 JUL 2018       379.17         0.00    130000.00       379.17\n",
      " WED 1 AUG 2018       379.17         0.00    130000.00       379.17\n",
      " MON 3 SEP 2018       379.17         0.00    130000.00       379.17\n",
      " MON 1 OCT 2018       379.17         0.00    130000.00       379.17\n",
      " THU 1 NOV 2018       379.17         0.00    130000.00       379.17\n",
      " MON 3 DEC 2018       379.17         0.00    130000.00       379.17\n",
      " TUE 1 JAN 2019       379.17         0.00    130000.00       379.17\n",
      " FRI 1 FEB 2019       379.17         0.00    130000.00       379.17\n",
      " FRI 1 MAR 2019       379.17         0.00    130000.00       379.17\n",
      " MON 1 APR 2019       379.17         0.00    130000.00       379.17\n",
      " WED 1 MAY 2019       379.17         0.00    130000.00       379.17\n",
      " MON 3 JUN 2019       379.17         0.00    130000.00       379.17\n",
      " MON 1 JUL 2019       379.17         0.00    130000.00       379.17\n",
      " THU 1 AUG 2019       379.17         0.00    130000.00       379.17\n",
      " MON 2 SEP 2019       379.17         0.00    130000.00       379.17\n",
      " TUE 1 OCT 2019       379.17         0.00    130000.00       379.17\n",
      " FRI 1 NOV 2019       379.17         0.00    130000.00       379.17\n",
      " MON 2 DEC 2019       379.17         0.00    130000.00       379.17\n",
      " WED 1 JAN 2020       379.17         0.00    130000.00       379.17\n",
      " MON 3 FEB 2020       379.17         0.00    130000.00       379.17\n",
      " MON 2 MAR 2020       379.17         0.00    130000.00       379.17\n",
      " WED 1 APR 2020       379.17         0.00    130000.00       379.17\n",
      " FRI 1 MAY 2020       379.17         0.00    130000.00       379.17\n",
      " MON 1 JUN 2020       379.17         0.00    130000.00       379.17\n",
      " WED 1 JUL 2020       379.17         0.00    130000.00       379.17\n",
      " MON 3 AUG 2020       379.17         0.00    130000.00       379.17\n",
      " TUE 1 SEP 2020       379.17         0.00    130000.00       379.17\n",
      " THU 1 OCT 2020       379.17         0.00    130000.00       379.17\n",
      " MON 2 NOV 2020       379.17         0.00    130000.00       379.17\n",
      " TUE 1 DEC 2020       379.17         0.00    130000.00       379.17\n",
      " FRI 1 JAN 2021       379.17         0.00    130000.00       379.17\n",
      " MON 1 FEB 2021       379.17         0.00    130000.00       379.17\n",
      " MON 1 MAR 2021       379.17         0.00    130000.00       379.17\n",
      " THU 1 APR 2021       379.17         0.00    130000.00       379.17\n",
      " MON 3 MAY 2021       379.17         0.00    130000.00       379.17\n",
      " TUE 1 JUN 2021       379.17         0.00    130000.00       379.17\n",
      " THU 1 JUL 2021       379.17         0.00    130000.00       379.17\n",
      " MON 2 AUG 2021       379.17         0.00    130000.00       379.17\n",
      " WED 1 SEP 2021       379.17         0.00    130000.00       379.17\n",
      " FRI 1 OCT 2021       379.17         0.00    130000.00       379.17\n",
      " MON 1 NOV 2021       379.17         0.00    130000.00       379.17\n",
      " WED 1 DEC 2021       379.17         0.00    130000.00       379.17\n",
      " MON 3 JAN 2022       379.17         0.00    130000.00       379.17\n",
      " TUE 1 FEB 2022       379.17         0.00    130000.00       379.17\n",
      " TUE 1 MAR 2022       379.17         0.00    130000.00       379.17\n",
      " FRI 1 APR 2022       379.17         0.00    130000.00       379.17\n",
      " MON 2 MAY 2022       379.17         0.00    130000.00       379.17\n",
      " WED 1 JUN 2022       379.17         0.00    130000.00       379.17\n",
      " FRI 1 JUL 2022       379.17         0.00    130000.00       379.17\n",
      " MON 1 AUG 2022       379.17         0.00    130000.00       379.17\n",
      " THU 1 SEP 2022       379.17         0.00    130000.00       379.17\n",
      " MON 3 OCT 2022       379.17         0.00    130000.00       379.17\n",
      " TUE 1 NOV 2022       379.17         0.00    130000.00       379.17\n",
      " THU 1 DEC 2022       379.17         0.00    130000.00       379.17\n",
      " MON 2 JAN 2023       379.17         0.00    130000.00       379.17\n",
      " WED 1 FEB 2023       379.17         0.00    130000.00       379.17\n",
      " WED 1 MAR 2023       379.17         0.00    130000.00       379.17\n",
      " MON 3 APR 2023       379.17         0.00    130000.00       379.17\n",
      " MON 1 MAY 2023       379.17         0.00    130000.00       379.17\n",
      " THU 1 JUN 2023       379.17         0.00    130000.00       379.17\n",
      " MON 3 JUL 2023       379.17         0.00    130000.00       379.17\n",
      " TUE 1 AUG 2023       379.17         0.00    130000.00       379.17\n",
      " FRI 1 SEP 2023       379.17         0.00    130000.00       379.17\n",
      " MON 2 OCT 2023       379.17         0.00    130000.00       379.17\n",
      " WED 1 NOV 2023       379.17         0.00    130000.00       379.17\n",
      " FRI 1 DEC 2023       379.17         0.00    130000.00       379.17\n",
      " MON 1 JAN 2024       379.17         0.00    130000.00       379.17\n",
      " THU 1 FEB 2024       379.17         0.00    130000.00       379.17\n",
      " FRI 1 MAR 2024       379.17         0.00    130000.00       379.17\n",
      " MON 1 APR 2024       379.17         0.00    130000.00       379.17\n",
      " WED 1 MAY 2024       379.17         0.00    130000.00       379.17\n",
      " MON 3 JUN 2024       379.17         0.00    130000.00       379.17\n",
      " MON 1 JUL 2024       379.17         0.00    130000.00       379.17\n",
      " THU 1 AUG 2024       379.17         0.00    130000.00       379.17\n",
      " MON 2 SEP 2024       379.17         0.00    130000.00       379.17\n",
      " TUE 1 OCT 2024       379.17         0.00    130000.00       379.17\n",
      " FRI 1 NOV 2024       379.17         0.00    130000.00       379.17\n",
      " MON 2 DEC 2024       379.17         0.00    130000.00       379.17\n",
      " WED 1 JAN 2025       379.17         0.00    130000.00       379.17\n",
      " MON 3 FEB 2025       379.17         0.00    130000.00       379.17\n",
      " MON 3 MAR 2025       379.17         0.00    130000.00       379.17\n",
      " TUE 1 APR 2025       379.17         0.00    130000.00       379.17\n",
      " THU 1 MAY 2025       379.17         0.00    130000.00       379.17\n",
      " MON 2 JUN 2025       379.17         0.00    130000.00       379.17\n",
      " TUE 1 JUL 2025       379.17         0.00    130000.00       379.17\n",
      " FRI 1 AUG 2025       379.17         0.00    130000.00       379.17\n",
      " MON 1 SEP 2025       379.17         0.00    130000.00       379.17\n",
      " WED 1 OCT 2025       379.17         0.00    130000.00       379.17\n",
      " MON 3 NOV 2025       379.17         0.00    130000.00       379.17\n",
      " MON 1 DEC 2025       379.17         0.00    130000.00       379.17\n",
      " THU 1 JAN 2026       379.17         0.00    130000.00       379.17\n",
      " MON 2 FEB 2026       379.17         0.00    130000.00       379.17\n",
      " MON 2 MAR 2026       379.17         0.00    130000.00       379.17\n",
      " WED 1 APR 2026       379.17         0.00    130000.00       379.17\n",
      " FRI 1 MAY 2026       379.17         0.00    130000.00       379.17\n",
      " MON 1 JUN 2026       379.17         0.00    130000.00       379.17\n",
      " WED 1 JUL 2026       379.17         0.00    130000.00       379.17\n",
      " MON 3 AUG 2026       379.17         0.00    130000.00       379.17\n",
      " TUE 1 SEP 2026       379.17         0.00    130000.00       379.17\n",
      " THU 1 OCT 2026       379.17         0.00    130000.00       379.17\n",
      " MON 2 NOV 2026       379.17         0.00    130000.00       379.17\n",
      " TUE 1 DEC 2026       379.17         0.00    130000.00       379.17\n",
      " FRI 1 JAN 2027       379.17         0.00    130000.00       379.17\n",
      " MON 1 FEB 2027       379.17         0.00    130000.00       379.17\n",
      " MON 1 MAR 2027       379.17         0.00    130000.00       379.17\n",
      " THU 1 APR 2027       379.17         0.00    130000.00       379.17\n",
      " MON 3 MAY 2027       379.17         0.00    130000.00       379.17\n",
      " TUE 1 JUN 2027       379.17         0.00    130000.00       379.17\n",
      " THU 1 JUL 2027       379.17         0.00    130000.00       379.17\n",
      " MON 2 AUG 2027       379.17         0.00    130000.00       379.17\n",
      " WED 1 SEP 2027       379.17         0.00    130000.00       379.17\n",
      " FRI 1 OCT 2027       379.17         0.00    130000.00       379.17\n",
      " MON 1 NOV 2027       379.17         0.00    130000.00       379.17\n",
      " WED 1 DEC 2027       379.17         0.00    130000.00       379.17\n",
      " MON 3 JAN 2028       379.17         0.00    130000.00       379.17\n",
      " TUE 1 FEB 2028       379.17         0.00    130000.00       379.17\n"
     ]
    }
   ],
   "source": [
    "mortgage.print()"
   ]
  },
  {
   "cell_type": "markdown",
   "metadata": {},
   "source": [
    "Copyright (c) 2019, Dominic O'Kane "
   ]
  }
 ],
 "metadata": {
  "kernelspec": {
   "display_name": "Python 3",
   "language": "python",
   "name": "python3"
  },
  "language_info": {
   "codemirror_mode": {
    "name": "ipython",
    "version": 3
   },
   "file_extension": ".py",
   "mimetype": "text/x-python",
   "name": "python",
   "nbconvert_exporter": "python",
   "pygments_lexer": "ipython3",
   "version": "3.7.5"
  }
 },
 "nbformat": 4,
 "nbformat_minor": 2
}
