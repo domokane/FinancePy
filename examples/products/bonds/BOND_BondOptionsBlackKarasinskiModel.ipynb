{
 "cells": [
  {
   "cell_type": "markdown",
   "metadata": {},
   "source": [
    "# Bond Options Black Karasinski Model"
   ]
  },
  {
   "cell_type": "code",
   "execution_count": 16,
   "metadata": {},
   "outputs": [],
   "source": [
    "import sys\n",
    "sys.path.append(\"..\")\n",
    "sys.path.append(\"..\\\\..\")"
   ]
  },
  {
   "cell_type": "code",
   "execution_count": 17,
   "metadata": {},
   "outputs": [],
   "source": [
    "from importlib import reload"
   ]
  },
  {
   "cell_type": "code",
   "execution_count": 18,
   "metadata": {},
   "outputs": [],
   "source": [
    "import numpy as np\n",
    "import matplotlib.pyplot as plt\n",
    "import time"
   ]
  },
  {
   "cell_type": "code",
   "execution_count": 19,
   "metadata": {},
   "outputs": [],
   "source": [
    "from financepy.finutils.FinDate import FinDate\n",
    "from financepy.models.FinBlackKarasinskiRateModel import FinBlackKarasinskiRateModel\n",
    "from financepy.finutils.FinHelperFunctions import printTree\n",
    "from financepy.market.curves.FinDiscountCurve import FinDiscountCurve\n",
    "from financepy.products.bonds.FinBond import FinBond\n",
    "from financepy.finutils.FinFrequency import FinFrequencyTypes\n",
    "from financepy.finutils.FinDayCount import FinDayCountTypes\n",
    "from financepy.finutils.FinGlobalVariables import gDaysInYear"
   ]
  },
  {
   "cell_type": "markdown",
   "metadata": {},
   "source": [
    "# American Bond Option Valuation"
   ]
  },
  {
   "cell_type": "markdown",
   "metadata": {},
   "source": [
    "We value an American style option on a coupon paying bond."
   ]
  },
  {
   "cell_type": "code",
   "execution_count": 20,
   "metadata": {},
   "outputs": [],
   "source": [
    "settlementDate = FinDate(1, 12, 2019)"
   ]
  },
  {
   "cell_type": "markdown",
   "metadata": {},
   "source": [
    "The bond pays 5% semi-annually for 10 years."
   ]
  },
  {
   "cell_type": "code",
   "execution_count": 21,
   "metadata": {},
   "outputs": [],
   "source": [
    "maturityDate = settlementDate.addTenor(\"10Y\")\n",
    "coupon = 0.05\n",
    "frequencyType = FinFrequencyTypes.SEMI_ANNUAL\n",
    "accrualType = FinDayCountTypes.ACT_ACT_ICMA\n",
    "bond = FinBond(maturityDate, coupon, frequencyType, accrualType)"
   ]
  },
  {
   "cell_type": "markdown",
   "metadata": {},
   "source": [
    "The option expires in 18 months with a strike of 105"
   ]
  },
  {
   "cell_type": "code",
   "execution_count": 22,
   "metadata": {},
   "outputs": [],
   "source": [
    "expiryDate = settlementDate.addTenor(\"18m\")\n",
    "strikePrice = 105.0\n",
    "face = 100.0"
   ]
  },
  {
   "cell_type": "markdown",
   "metadata": {},
   "source": [
    "We set the BK model to have 20% of lognormal rate volatility and 0.05 of mean-reversion"
   ]
  },
  {
   "cell_type": "code",
   "execution_count": 23,
   "metadata": {},
   "outputs": [],
   "source": [
    "sigma = 0.20\n",
    "a = 0.05"
   ]
  },
  {
   "cell_type": "markdown",
   "metadata": {},
   "source": [
    "We set up a flat discount curve at 5%"
   ]
  },
  {
   "cell_type": "code",
   "execution_count": 24,
   "metadata": {},
   "outputs": [],
   "source": [
    "tmat = (maturityDate - settlementDate) / gDaysInYear\n",
    "times = np.linspace(0, tmat, 20)\n",
    "dfs = np.exp(-0.05*times)\n",
    "discountCurve = FinDiscountCurve(settlementDate, times, dfs)"
   ]
  },
  {
   "cell_type": "markdown",
   "metadata": {},
   "source": [
    "We can price the basic bond without any option"
   ]
  },
  {
   "cell_type": "code",
   "execution_count": 25,
   "metadata": {},
   "outputs": [],
   "source": [
    "price = bond.fullPriceFromDiscountCurve(settlementDate, discountCurve)"
   ]
  },
  {
   "cell_type": "code",
   "execution_count": 26,
   "metadata": {},
   "outputs": [
    {
     "name": "stdout",
     "output_type": "stream",
     "text": [
      "Bond Price: 99.50391846904128\n"
     ]
    }
   ],
   "source": [
    "print(\"Bond Price:\", price)"
   ]
  },
  {
   "cell_type": "markdown",
   "metadata": {},
   "source": [
    "Now we price the option - the tree only needs to go out to the expiry date of the option"
   ]
  },
  {
   "cell_type": "code",
   "execution_count": 27,
   "metadata": {},
   "outputs": [],
   "source": [
    "numTimeSteps = 100"
   ]
  },
  {
   "cell_type": "code",
   "execution_count": 28,
   "metadata": {},
   "outputs": [],
   "source": [
    "numStepsList = [50, 100, 150, 200, 250, 300, 400, 500, 600, 700, 800, 900, 1000]"
   ]
  },
  {
   "cell_type": "code",
   "execution_count": 29,
   "metadata": {},
   "outputs": [
    {
     "name": "stdout",
     "output_type": "stream",
     "text": [
      "50 1.427139397583793 99.50391846907506\n",
      "100 0.7058192050849276 99.5039184690323\n",
      "150 1.3199948525356604 99.50391846903759\n",
      "200 0.7039518611374441 99.50391846904117\n",
      "250 1.330164327591152 99.50391846904168\n",
      "300 0.6906233468295798 99.50391846904172\n",
      "400 0.7007187479359808 99.50391846904154\n",
      "500 0.6968532975134839 99.50391846904145\n",
      "600 0.6978872172869206 99.5039184690413\n",
      "700 0.6994071827820022 99.50391846904125\n",
      "800 0.6967485658845795 99.50391846904111\n",
      "900 0.6974054554454544 99.50391846904125\n",
      "1000 0.6988697865524794 99.50391846904121\n"
     ]
    },
    {
     "data": {
      "image/png": "[encoded data removed]",
      "text/plain": [
       "<Figure size 432x288 with 1 Axes>"
      ]
     },
     "metadata": {
      "needs_background": "light"
     },
     "output_type": "display_data"
    }
   ],
   "source": [
    "treeVector = []\n",
    "for numTimeSteps in numStepsList:\n",
    "    model = FinBlackKarasinskiRateModel(a, sigma)\n",
    "    model.buildTree(settlementDate, maturityDate, numTimeSteps, discountCurve)\n",
    "    vOption, vBond = model.bondOption(settlementDate, expiryDate, strikePrice, face, bond, True)\n",
    "    treeVector.append(vOption)\n",
    "    print(numTimeSteps, vOption, vBond)\n",
    "\n",
    "plt.plot(numStepsList, treeVector);    "
   ]
  },
  {
   "cell_type": "markdown",
   "metadata": {},
   "source": [
    "The option price converges towards something close to the price of 0.699 mentioned in the book by Hull (Fig 28.11). There is a convergence issue at 300 steps with the bond price that needs to be examined. It relates to a numerical issue regarding the coupon payment and expiry date being close together."
   ]
  },
  {
   "cell_type": "code",
   "execution_count": null,
   "metadata": {},
   "outputs": [],
   "source": []
  }
 ],
 "metadata": {
  "kernelspec": {
   "display_name": "Python 3",
   "language": "python",
   "name": "python3"
  },
  "language_info": {
   "codemirror_mode": {
    "name": "ipython",
    "version": 3
   },
   "file_extension": ".py",
   "mimetype": "text/x-python",
   "name": "python",
   "nbconvert_exporter": "python",
   "pygments_lexer": "ipython3",
   "version": "3.7.5"
  }
 },
 "nbformat": 4,
 "nbformat_minor": 2
}
