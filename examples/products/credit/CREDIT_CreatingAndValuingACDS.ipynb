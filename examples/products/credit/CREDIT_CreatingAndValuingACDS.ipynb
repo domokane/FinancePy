{
 "cells": [
  {
   "cell_type": "markdown",
   "metadata": {},
   "source": [
    "# Creating and Valuing a CDS Contract"
   ]
  },
  {
   "cell_type": "code",
   "execution_count": 1,
   "metadata": {},
   "outputs": [],
   "source": [
    "import sys\n",
    "sys.path.append(\"..\")\n",
    "sys.path.append(\"..\\\\..\")"
   ]
  },
  {
   "cell_type": "code",
   "execution_count": 2,
   "metadata": {},
   "outputs": [],
   "source": [
    "import numpy as np\n",
    "import matplotlib.pyplot as plt"
   ]
  },
  {
   "cell_type": "code",
   "execution_count": 3,
   "metadata": {},
   "outputs": [],
   "source": [
    "from financepy.finutils.FinDate import FinDate\n",
    "from financepy.finutils.FinDayCount import FinDayCountTypes\n",
    "from financepy.finutils.FinFrequency import FinFrequencyTypes\n",
    "from financepy.finutils.FinMath import ONE_MILLION\n",
    "from financepy.products.libor.FinLiborDeposit import FinLiborDeposit\n",
    "from financepy.products.libor.FinLiborSwap import FinLiborSwap\n",
    "from financepy.market.curves.FinLiborCurve import FinLiborCurve\n",
    "from financepy.products.credit.FinCDS import FinCDS\n",
    "from financepy.market.curves.FinCDSCurve import FinCDSCurve"
   ]
  },
  {
   "cell_type": "markdown",
   "metadata": {},
   "source": [
    "## Creating a CDS Contract"
   ]
  },
  {
   "cell_type": "code",
   "execution_count": 4,
   "metadata": {},
   "outputs": [],
   "source": [
    "tradeDate = FinDate(2019, 8, 9)\n",
    "effectiveDate = tradeDate\n",
    "maturityDate = FinDate(2029, 6, 20)\n",
    "cdsCoupon = 0.0150\n",
    "notional = ONE_MILLION\n",
    "longProtection = False\n",
    "tradeDate = FinDate(2019, 8, 9)"
   ]
  },
  {
   "cell_type": "code",
   "execution_count": 14,
   "metadata": {},
   "outputs": [],
   "source": [
    "cdsContract = FinCDS(effectiveDate, maturityDate, cdsCoupon, notional, longProtection)"
   ]
  },
  {
   "cell_type": "code",
   "execution_count": 15,
   "metadata": {},
   "outputs": [
    {
     "name": "stdout",
     "output_type": "stream",
     "text": [
      "STEPINDATE:  FRI 9 AUG 2019\n",
      "MATURITY:  WED 20 JUN 2029\n",
      "NOTIONAL: 1000000\n",
      "RUNNING COUPON:  150.0 bp\n",
      "DAYCOUNT:  FinDayCountTypes.ACT_360\n",
      "FREQUENCY:  FinFrequencyTypes.QUARTERLY\n",
      "CALENDAR:  FinCalendarTypes.WEEKEND\n",
      "BUSDAYRULE:  FinDayAdjustTypes.FOLLOWING\n",
      "DATEGENRULE:  FinDateGenRuleTypes.BACKWARD\n",
      "ACCRUED DAYS: 50\n",
      "PAYMENT_DATE     YEAR_FRAC       FLOW\n",
      "FRI 20 SEP 2019   0.255556      3833.33\n",
      "FRI 20 DEC 2019   0.252778      3791.67\n",
      "FRI 20 MAR 2020   0.252778      3791.67\n",
      "MON 22 JUN 2020   0.261111      3916.67\n",
      "MON 21 SEP 2020   0.252778      3791.67\n",
      "MON 21 DEC 2020   0.252778      3791.67\n",
      "MON 22 MAR 2021   0.252778      3791.67\n",
      "MON 21 JUN 2021   0.252778      3791.67\n",
      "MON 20 SEP 2021   0.252778      3791.67\n",
      "MON 20 DEC 2021   0.252778      3791.67\n",
      "MON 21 MAR 2022   0.252778      3791.67\n",
      "MON 20 JUN 2022   0.252778      3791.67\n",
      "TUE 20 SEP 2022   0.255556      3833.33\n",
      "TUE 20 DEC 2022   0.252778      3791.67\n",
      "MON 20 MAR 2023   0.250000      3750.00\n",
      "TUE 20 JUN 2023   0.255556      3833.33\n",
      "WED 20 SEP 2023   0.255556      3833.33\n",
      "WED 20 DEC 2023   0.252778      3791.67\n",
      "WED 20 MAR 2024   0.252778      3791.67\n",
      "THU 20 JUN 2024   0.255556      3833.33\n",
      "FRI 20 SEP 2024   0.255556      3833.33\n",
      "FRI 20 DEC 2024   0.252778      3791.67\n",
      "THU 20 MAR 2025   0.250000      3750.00\n",
      "FRI 20 JUN 2025   0.255556      3833.33\n",
      "MON 22 SEP 2025   0.261111      3916.67\n",
      "MON 22 DEC 2025   0.252778      3791.67\n",
      "FRI 20 MAR 2026   0.244444      3666.67\n",
      "MON 22 JUN 2026   0.261111      3916.67\n",
      "MON 21 SEP 2026   0.252778      3791.67\n",
      "MON 21 DEC 2026   0.252778      3791.67\n",
      "MON 22 MAR 2027   0.252778      3791.67\n",
      "MON 21 JUN 2027   0.252778      3791.67\n",
      "MON 20 SEP 2027   0.252778      3791.67\n",
      "MON 20 DEC 2027   0.252778      3791.67\n",
      "MON 20 MAR 2028   0.252778      3791.67\n",
      "TUE 20 JUN 2028   0.255556      3833.33\n",
      "WED 20 SEP 2028   0.255556      3833.33\n",
      "WED 20 DEC 2028   0.252778      3791.67\n",
      "TUE 20 MAR 2029   0.250000      3750.00\n",
      "THU 21 JUN 2029   0.258333      3875.00\n"
     ]
    }
   ],
   "source": [
    "cdsContract.print(settlementDate)"
   ]
  },
  {
   "cell_type": "markdown",
   "metadata": {},
   "source": [
    "## Build Libor Curve"
   ]
  },
  {
   "cell_type": "code",
   "execution_count": 16,
   "metadata": {},
   "outputs": [],
   "source": [
    "dcType = FinDayCountTypes.ACT_360\n",
    "depo1 = FinLiborDeposit(settlementDate, \"1M\", 0.022009, dcType)\n",
    "depo2 = FinLiborDeposit(settlementDate, \"2M\", 0.022138, dcType)\n",
    "depo3 = FinLiborDeposit(settlementDate, \"3M\", 0.021810, dcType)\n",
    "depo4 = FinLiborDeposit(settlementDate, \"6M\", 0.020503, dcType)\n",
    "depo5 = FinLiborDeposit(settlementDate, \"12M\", 0.019930, dcType)\n",
    "depos = [depo1,depo2,depo3,depo4,depo5]\n",
    "\n",
    "dcType = FinDayCountTypes.THIRTY_E_360_ISDA\n",
    "fixedFreq = FinFrequencyTypes.SEMI_ANNUAL\n",
    "swap1 = FinLiborSwap(settlementDate,\"2Y\",0.015910,fixedFreq,dcType)\n",
    "swap2 = FinLiborSwap(settlementDate,\"3Y\",0.014990,fixedFreq,dcType)\n",
    "swap3 = FinLiborSwap(settlementDate,\"4Y\",0.014725,fixedFreq,dcType)\n",
    "swap4 = FinLiborSwap(settlementDate,\"5Y\",0.014640,fixedFreq,dcType)\n",
    "swap5 = FinLiborSwap(settlementDate,\"6Y\",0.014800,fixedFreq,dcType)\n",
    "swap6 = FinLiborSwap(settlementDate,\"7Y\",0.014995,fixedFreq,dcType)\n",
    "swap7 = FinLiborSwap(settlementDate,\"8Y\",0.015180,fixedFreq,dcType)\n",
    "swap8 = FinLiborSwap(settlementDate,\"9Y\",0.015610,fixedFreq,dcType)\n",
    "swap9 = FinLiborSwap(settlementDate,\"10Y\",0.0159880,fixedFreq,dcType)\n",
    "swap10 = FinLiborSwap(settlementDate,\"12Y\",0.016430,fixedFreq,dcType)\n",
    "swaps = [swap1,swap2,swap3,swap4,swap5,swap6,swap7,swap8,swap9,swap10]\n",
    "\n",
    "liborCurve = FinLiborCurve(\"USD_LIBOR\", settlementDate, depos, [], swaps)"
   ]
  },
  {
   "cell_type": "markdown",
   "metadata": {},
   "source": [
    "# Build a CDS Curve"
   ]
  },
  {
   "cell_type": "code",
   "execution_count": 17,
   "metadata": {},
   "outputs": [],
   "source": [
    "cds1 = FinCDS(settlementDate, \"1Y\", 0.0200)\n",
    "cds2 = FinCDS(settlementDate, \"2Y\", 0.0220)\n",
    "cds3 = FinCDS(settlementDate, \"3Y\", 0.0250)\n",
    "cds4 = FinCDS(settlementDate, \"4Y\", 0.0275)\n",
    "cds5 = FinCDS(settlementDate, \"5Y\", 0.0290)\n",
    "cds6 = FinCDS(settlementDate, \"7Y\", 0.0300)\n",
    "cds7 = FinCDS(settlementDate, \"10Y\", 0.0310)\n",
    "cds8 = FinCDS(settlementDate, \"15Y\", 0.0315)"
   ]
  },
  {
   "cell_type": "code",
   "execution_count": 18,
   "metadata": {},
   "outputs": [],
   "source": [
    "cdss = [cds1, cds2, cds3, cds4, cds5, cds6, cds7, cds8]"
   ]
  },
  {
   "cell_type": "code",
   "execution_count": 19,
   "metadata": {},
   "outputs": [],
   "source": [
    "recoveryRate = 0.40"
   ]
  },
  {
   "cell_type": "code",
   "execution_count": 20,
   "metadata": {},
   "outputs": [],
   "source": [
    "issuerCurve = FinCDSCurve(settlementDate, cdss, liborCurve, recoveryRate)"
   ]
  },
  {
   "cell_type": "code",
   "execution_count": 21,
   "metadata": {},
   "outputs": [
    {
     "name": "stdout",
     "output_type": "stream",
     "text": [
      "[ 0.          1.00207534  2.00141276  3.00075019  4.00008761  5.00216295\n",
      "  7.0008378  10.00158799 15.00101303]\n"
     ]
    }
   ],
   "source": [
    "print(issuerCurve._times)"
   ]
  },
  {
   "cell_type": "code",
   "execution_count": 22,
   "metadata": {},
   "outputs": [
    {
     "name": "stdout",
     "output_type": "stream",
     "text": [
      "[1.         0.9666732  0.92812751 0.8800167  0.82810907 0.77902806\n",
      " 0.69646957 0.58522114 0.44200455]\n"
     ]
    }
   ],
   "source": [
    "print(issuerCurve._values)"
   ]
  },
  {
   "cell_type": "markdown",
   "metadata": {},
   "source": [
    "# Valuation"
   ]
  },
  {
   "cell_type": "code",
   "execution_count": 23,
   "metadata": {},
   "outputs": [
    {
     "name": "stdout",
     "output_type": "stream",
     "text": [
      "FAIR CDS SPREAD  309.68697 bp\n"
     ]
    }
   ],
   "source": [
    "spd = cdsContract.parSpread(settlementDate, issuerCurve, recoveryRate) * 10000.0\n",
    "print(\"FAIR CDS SPREAD %10.5f bp\"% spd)"
   ]
  },
  {
   "cell_type": "code",
   "execution_count": 24,
   "metadata": {},
   "outputs": [
    {
     "name": "stdout",
     "output_type": "stream",
     "text": [
      "FULL VALUE    -115966.46\n",
      "CLEAN VALUE   -118049.80\n"
     ]
    }
   ],
   "source": [
    "fullv, cleanv = cdsContract.value(settlementDate, issuerCurve, recoveryRate)\n",
    "print(\"FULL VALUE  %12.2f\"% fullv)\n",
    "print(\"CLEAN VALUE %12.2f\"% cleanv)"
   ]
  },
  {
   "cell_type": "code",
   "execution_count": 25,
   "metadata": {},
   "outputs": [
    {
     "name": "stdout",
     "output_type": "stream",
     "text": [
      "CLEAN PRICE    88.195322\n"
     ]
    }
   ],
   "source": [
    "cleanp = cdsContract.cleanPrice(settlementDate, issuerCurve, recoveryRate)\n",
    "print(\"CLEAN PRICE %12.6f\"% cleanp)"
   ]
  },
  {
   "cell_type": "code",
   "execution_count": 26,
   "metadata": {},
   "outputs": [
    {
     "name": "stdout",
     "output_type": "stream",
     "text": [
      "ACCRUED_DAYS 50\n"
     ]
    }
   ],
   "source": [
    "accruedDays = cdsContract.accruedDays()\n",
    "print(\"ACCRUED_DAYS\", accruedDays)"
   ]
  },
  {
   "cell_type": "code",
   "execution_count": 27,
   "metadata": {},
   "outputs": [
    {
     "name": "stdout",
     "output_type": "stream",
     "text": [
      "ACCRUED_COUPON 2083.3333333333335\n"
     ]
    }
   ],
   "source": [
    "accruedInterest = cdsContract.accruedInterest()\n",
    "print(\"ACCRUED_COUPON\", accruedInterest)"
   ]
  },
  {
   "cell_type": "code",
   "execution_count": 28,
   "metadata": {},
   "outputs": [
    {
     "name": "stdout",
     "output_type": "stream",
     "text": [
      "PROTECTION_PV 228938.4289157856\n"
     ]
    }
   ],
   "source": [
    "protPV = cdsContract.protectionLegPV(settlementDate, issuerCurve, recoveryRate)\n",
    "print(\"PROTECTION_PV\", protPV)"
   ]
  },
  {
   "cell_type": "code",
   "execution_count": 29,
   "metadata": {},
   "outputs": [
    {
     "name": "stdout",
     "output_type": "stream",
     "text": [
      "PREMIUM_PV 112971.96427930315\n"
     ]
    }
   ],
   "source": [
    "premPV = cdsContract.premiumLegPV(settlementDate, issuerCurve, recoveryRate)\n",
    "print(\"PREMIUM_PV\", premPV)"
   ]
  },
  {
   "cell_type": "code",
   "execution_count": 30,
   "metadata": {},
   "outputs": [
    {
     "name": "stdout",
     "output_type": "stream",
     "text": [
      "FULL_RPV01 7.531464285286877\n",
      "CLEAN_RPV01 7.392575396397988\n"
     ]
    }
   ],
   "source": [
    "fullRPV01, cleanRPV01 = cdsContract.riskyPV01(settlementDate, issuerCurve)\n",
    "print(\"FULL_RPV01\", fullRPV01)\n",
    "print(\"CLEAN_RPV01\", cleanRPV01)"
   ]
  }
 ],
 "metadata": {
  "kernelspec": {
   "display_name": "Python 3",
   "language": "python",
   "name": "python3"
  },
  "language_info": {
   "codemirror_mode": {
    "name": "ipython",
    "version": 3
   },
   "file_extension": ".py",
   "mimetype": "text/x-python",
   "name": "python",
   "nbconvert_exporter": "python",
   "pygments_lexer": "ipython3",
   "version": "3.7.4"
  }
 },
 "nbformat": 4,
 "nbformat_minor": 2
}
