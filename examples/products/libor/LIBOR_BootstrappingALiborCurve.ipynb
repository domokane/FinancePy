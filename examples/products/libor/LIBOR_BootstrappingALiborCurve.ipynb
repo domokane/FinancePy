{
 "cells": [
  {
   "cell_type": "markdown",
   "metadata": {},
   "source": [
    "# Bootstrapping a Libor Curve"
   ]
  },
  {
   "cell_type": "code",
   "execution_count": 1,
   "metadata": {},
   "outputs": [],
   "source": [
    "import sys\n",
    "sys.path.append(\"..\")\n",
    "sys.path.append(\"..\\\\..\")"
   ]
  },
  {
   "cell_type": "code",
   "execution_count": 2,
   "metadata": {},
   "outputs": [],
   "source": [
    "import numpy as np\n",
    "import matplotlib.pyplot as plt"
   ]
  },
  {
   "cell_type": "code",
   "execution_count": 3,
   "metadata": {},
   "outputs": [],
   "source": [
    "from financepy.finutils.FinDate import FinDate\n",
    "from financepy.finutils.FinDayCount import FinDayCountTypes\n",
    "from financepy.finutils.FinFrequency import FinFrequencyTypes\n",
    "from financepy.finutils.FinMath import ONE_MILLION\n",
    "from financepy.products.libor.FinLiborDeposit import FinLiborDeposit\n",
    "from financepy.products.libor.FinLiborSwap import FinLiborSwap\n",
    "from financepy.market.curves.FinLiborCurve import FinLiborCurve"
   ]
  },
  {
   "cell_type": "code",
   "execution_count": 4,
   "metadata": {},
   "outputs": [],
   "source": [
    "tradeDate = FinDate(2019, 8, 9)\n",
    "spotDays = 2\n",
    "settlementDate = tradeDate.addDays(spotDays)"
   ]
  },
  {
   "cell_type": "markdown",
   "metadata": {},
   "source": [
    "## Libor Deposits"
   ]
  },
  {
   "cell_type": "code",
   "execution_count": 5,
   "metadata": {},
   "outputs": [],
   "source": [
    "dcType = FinDayCountTypes.ACT_360"
   ]
  },
  {
   "cell_type": "code",
   "execution_count": 6,
   "metadata": {},
   "outputs": [],
   "source": [
    "depo1 = FinLiborDeposit(settlementDate, \"1M\", 0.022009, dcType)\n",
    "depo2 = FinLiborDeposit(settlementDate, \"2M\", 0.022138, dcType)\n",
    "depo3 = FinLiborDeposit(settlementDate, \"3M\", 0.021810, dcType)\n",
    "depo4 = FinLiborDeposit(settlementDate, \"6M\", 0.020503, dcType)\n",
    "depo5 = FinLiborDeposit(settlementDate, \"12M\", 0.019930, dcType)"
   ]
  },
  {
   "cell_type": "code",
   "execution_count": 7,
   "metadata": {},
   "outputs": [],
   "source": [
    "depos = [depo1,depo2,depo3,depo4,depo5]"
   ]
  },
  {
   "cell_type": "code",
   "execution_count": 8,
   "metadata": {},
   "outputs": [],
   "source": [
    "dcType = FinDayCountTypes.THIRTY_E_360_ISDA\n",
    "fixedFreq = FinFrequencyTypes.SEMI_ANNUAL"
   ]
  },
  {
   "cell_type": "markdown",
   "metadata": {},
   "source": [
    "## Interest Rate Swaps"
   ]
  },
  {
   "cell_type": "code",
   "execution_count": 9,
   "metadata": {},
   "outputs": [],
   "source": [
    "dcType = FinDayCountTypes.THIRTY_E_360_ISDA\n",
    "fixedFreq = FinFrequencyTypes.SEMI_ANNUAL"
   ]
  },
  {
   "cell_type": "code",
   "execution_count": 10,
   "metadata": {},
   "outputs": [],
   "source": [
    "swap1 = FinLiborSwap(settlementDate,\"2Y\",0.015910,fixedFreq,dcType)\n",
    "swap2 = FinLiborSwap(settlementDate,\"3Y\",0.014990,fixedFreq,dcType)\n",
    "swap3 = FinLiborSwap(settlementDate,\"4Y\",0.014725,fixedFreq,dcType)\n",
    "swap4 = FinLiborSwap(settlementDate,\"5Y\",0.014640,fixedFreq,dcType)\n",
    "swap5 = FinLiborSwap(settlementDate,\"6Y\",0.014800,fixedFreq,dcType)\n",
    "swap6 = FinLiborSwap(settlementDate,\"7Y\",0.014995,fixedFreq,dcType)\n",
    "swap7 = FinLiborSwap(settlementDate,\"8Y\",0.015180,fixedFreq,dcType)\n",
    "swap8 = FinLiborSwap(settlementDate,\"9Y\",0.015610,fixedFreq,dcType)\n",
    "swap9 = FinLiborSwap(settlementDate,\"10Y\",0.0159880,fixedFreq,dcType)\n",
    "swap10 = FinLiborSwap(settlementDate,\"12Y\",0.016430,fixedFreq,dcType)"
   ]
  },
  {
   "cell_type": "code",
   "execution_count": 11,
   "metadata": {},
   "outputs": [],
   "source": [
    "swaps = [swap1,swap2,swap3,swap4,swap5,swap6,swap7,swap8,swap9,swap10]"
   ]
  },
  {
   "cell_type": "code",
   "execution_count": 12,
   "metadata": {},
   "outputs": [],
   "source": [
    "fras = []"
   ]
  },
  {
   "cell_type": "markdown",
   "metadata": {},
   "source": [
    "# Bootstrapping The Curve"
   ]
  },
  {
   "cell_type": "code",
   "execution_count": 13,
   "metadata": {},
   "outputs": [],
   "source": [
    "liborCurve = FinLiborCurve(\"USD_LIBOR\", settlementDate, depos, fras, swaps)"
   ]
  },
  {
   "cell_type": "markdown",
   "metadata": {},
   "source": [
    "Can we show that the Libor deposits have been repriced at par"
   ]
  },
  {
   "cell_type": "code",
   "execution_count": 14,
   "metadata": {},
   "outputs": [
    {
     "name": "stdout",
     "output_type": "stream",
     "text": [
      "1000000 WED 11 SEP 2019 1000000.0002230834\n",
      "1000000 FRI 11 OCT 2019 1000000.0002230834\n",
      "1000000 MON 11 NOV 2019 1000000.0002230834\n",
      "1000000 TUE 11 FEB 2020 1000000.0002230834\n",
      "1000000 TUE 11 AUG 2020 1000000.0002230834\n"
     ]
    }
   ],
   "source": [
    "for depo in depos:\n",
    "    v = depo.value(settlementDate, liborCurve)\n",
    "    print(depo._notional, depo._maturityDate, v)"
   ]
  },
  {
   "cell_type": "code",
   "execution_count": 15,
   "metadata": {},
   "outputs": [
    {
     "name": "stdout",
     "output_type": "stream",
     "text": [
      "1000000 WED 11 AUG 2021 0.00022156798965000668\n",
      "1000000 THU 11 AUG 2022 0.00021037051961547704\n",
      "1000000 FRI 11 AUG 2023 0.00017605036178869327\n",
      "1000000 SUN 11 AUG 2024 3.520156201031188\n",
      "1000000 MON 11 AUG 2025 -3.140157578407354e-05\n",
      "1000000 TUE 11 AUG 2026 -0.00025778384982189095\n",
      "1000000 WED 11 AUG 2027 -0.0006043369693564671\n",
      "1000000 FRI 11 AUG 2028 -0.0012274153082802997\n",
      "1000000 SAT 11 AUG 2029 -3.622570171196715\n",
      "1000000 MON 11 AUG 2031 0.00022307697356005463\n"
     ]
    }
   ],
   "source": [
    "for swap in swaps:\n",
    "    v = swap.value(settlementDate, liborCurve, liborCurve, None)\n",
    "    print(swap._notional, swap._maturityDate, v)"
   ]
  },
  {
   "cell_type": "markdown",
   "metadata": {},
   "source": [
    "The worst is 4 units error on a notional of 1 million units - but we need to investigate this"
   ]
  },
  {
   "cell_type": "code",
   "execution_count": 16,
   "metadata": {},
   "outputs": [
    {
     "name": "stdout",
     "output_type": "stream",
     "text": [
      "START DATE: SUN 11 AUG 2019\n",
      "MATURITY DATE: SAT 11 AUG 2029\n",
      "COUPON (%): 1.5987999999999998\n",
      "FIXED LEG FREQUENCY: FinFrequencyTypes.SEMI_ANNUAL\n",
      "FIXED LEG DAY COUNT: FinDayCountTypes.THIRTY_E_360_ISDA\n",
      "VALUATION DATE SUN 11 AUG 2019\n",
      "PAYMENT_DATE     YEAR_FRAC        FLOW         DF         DF*FLOW       CUM_PV\n",
      "TUE 11 FEB 2020  0.4972222      7949.59     0.989629      7867.15      7867.15\n",
      "TUE 11 AUG 2020  0.5000000      7994.00     0.980140      7835.24     15702.39\n",
      "THU 11 FEB 2021  0.5000000      7994.00     0.974465      7789.87     23492.26\n",
      "WED 11 AUG 2021  0.5000000      7994.00     0.968915      7745.50     31237.77\n",
      "FRI 11 FEB 2022  0.5000000      7994.00     0.962550      7694.63     38932.39\n",
      "THU 11 AUG 2022  0.5000000      7994.00     0.956330      7644.90     46577.29\n",
      "MON 13 FEB 2023  0.5055556      8082.82     0.949599      7675.44     54252.74\n",
      "FRI 11 AUG 2023  0.4944444      7905.18     0.943166      7455.90     61708.63\n",
      "MON 12 FEB 2024  0.5027778      8038.41     0.936402      7527.19     69235.82\n",
      "MON 12 AUG 2024  0.5000000      7994.00     0.929792      7432.76     76668.58\n",
      "TUE 11 FEB 2025  0.4972222      7949.59     0.922561      7333.98     84002.56\n",
      "MON 11 AUG 2025  0.5000000      7994.00     0.915465      7318.23     91320.79\n",
      "WED 11 FEB 2026  0.5000000      7994.00     0.908037      7258.85     98579.63\n",
      "TUE 11 AUG 2026  0.5000000      7994.00     0.900789      7200.91    105780.55\n",
      "THU 11 FEB 2027  0.5000000      7994.00     0.893334      7141.31    112921.85\n",
      "WED 11 AUG 2027  0.5000000      7994.00     0.886060      7083.16    120005.02\n",
      "FRI 11 FEB 2028  0.5000000      7994.00     0.877543      7015.08    127020.09\n",
      "FRI 11 AUG 2028  0.5000000      7994.00     0.869199      6948.38    133968.47\n",
      "MON 12 FEB 2029  0.5027778      8038.41     0.860620      6918.02    140886.49\n",
      "MON 13 AUG 2029  0.5027778      8038.41     0.852266      6850.87    147737.35\n"
     ]
    }
   ],
   "source": [
    "swap9.printFixedLeg(settlementDate)"
   ]
  },
  {
   "cell_type": "code",
   "execution_count": 17,
   "metadata": {},
   "outputs": [
    {
     "name": "stdout",
     "output_type": "stream",
     "text": [
      "START DATE: SUN 11 AUG 2019\n",
      "MATURITY DATE: SAT 11 AUG 2029\n",
      "SPREAD COUPON (%): 0.0\n",
      "FLOAT LEG FREQUENCY: FinFrequencyTypes.QUARTERLY\n",
      "FLOAT LEG DAY COUNT: FinDayCountTypes.THIRTY_360\n",
      "VALUATION DATE SUN 11 AUG 2019\n",
      "PAYMENT_DATE     YEAR_FRAC        FLOW         DF         DF*FLOW       CUM_PV\n",
      "MON 11 NOV 2019  0.2472222      5573.67     0.994457      5542.77      5542.77\n",
      "TUE 11 FEB 2020  0.2500000      4878.45     0.989629      4827.86     10370.63\n",
      "MON 11 MAY 2020  0.2500000      4775.85     0.984926      4703.85     15074.49\n",
      "TUE 11 AUG 2020  0.2500000      4882.24     0.980140      4785.28     19859.76\n",
      "WED 11 NOV 2020  0.2500000      2907.68     0.977299      2841.67     22701.43\n",
      "THU 11 FEB 2021  0.2500000      2907.68     0.974465      2833.43     25534.86\n",
      "TUE 11 MAY 2021  0.2500000      2812.73     0.971732      2733.22     28268.08\n",
      "WED 11 AUG 2021  0.2500000      2907.68     0.968915      2817.29     31085.37\n",
      "THU 11 NOV 2021  0.2500000      3300.63     0.965727      3187.51     34272.87\n",
      "FRI 11 FEB 2022  0.2500000      3300.63     0.962550      3177.02     37449.89\n",
      "WED 11 MAY 2022  0.2500000      3192.83     0.959487      3063.47     40513.37\n",
      "THU 11 AUG 2022  0.2500000      3300.63     0.956330      3156.49     43669.86\n",
      "FRI 11 NOV 2022  0.2500000      3499.77     0.952995      3335.27     47005.12\n",
      "MON 13 FEB 2023  0.2555556      3575.99     0.949599      3395.76     50400.88\n",
      "THU 11 MAY 2023  0.2444444      3309.25     0.946467      3132.10     53532.98\n",
      "FRI 11 AUG 2023  0.2500000      3499.77     0.943166      3300.87     56833.85\n",
      "MON 13 NOV 2023  0.2555556      3663.66     0.939723      3442.82     60276.67\n",
      "MON 12 FEB 2024  0.2472222      3546.52     0.936402      3320.97     63597.65\n",
      "MON 13 MAY 2024  0.2527778      3546.52     0.933093      3309.24     66906.88\n",
      "MON 12 AUG 2024  0.2472222      3550.30     0.929792      3301.04     70207.92\n",
      "MON 11 NOV 2024  0.2472222      3889.80     0.926189      3602.69     73810.61\n",
      "TUE 11 FEB 2025  0.2500000      3932.62     0.922561      3628.09     77438.69\n",
      "MON 12 MAY 2025  0.2527778      3846.97     0.919026      3535.46     80974.16\n",
      "MON 11 AUG 2025  0.2472222      3889.80     0.915465      3560.97     84535.13\n",
      "TUE 11 NOV 2025  0.2500000      4081.64     0.911743      3721.41     88256.54\n",
      "WED 11 FEB 2026  0.2500000      4081.64     0.908037      3706.28     91962.82\n",
      "MON 11 MAY 2026  0.2500000      3948.28     0.904466      3571.09     95533.91\n",
      "TUE 11 AUG 2026  0.2500000      4081.64     0.900789      3676.70     99210.61\n",
      "WED 11 NOV 2026  0.2500000      4164.29     0.897054      3735.59    102946.20\n",
      "THU 11 FEB 2027  0.2500000      4164.29     0.893334      3720.10    106666.30\n",
      "TUE 11 MAY 2027  0.2500000      4028.22     0.889750      3584.11    110250.41\n",
      "WED 11 AUG 2027  0.2500000      4164.29     0.886060      3689.81    113940.21\n",
      "THU 11 NOV 2027  0.2500000      4841.03     0.881791      4268.78    118208.99\n",
      "FRI 11 FEB 2028  0.2500000      4841.03     0.877543      4248.21    122457.21\n",
      "THU 11 MAY 2028  0.2500000      4735.55     0.873407      4136.06    126593.27\n",
      "FRI 11 AUG 2028  0.2500000      4841.03     0.869199      4207.82    130801.09\n",
      "MON 13 NOV 2028  0.2555556      5052.66     0.864829      4369.69    135170.78\n",
      "MON 12 FEB 2029  0.2472222      4891.01     0.860620      4209.30    139380.08\n",
      "FRI 11 MAY 2029  0.2472222      4729.39     0.856569      4051.05    143431.12\n",
      "MON 13 AUG 2029  0.2555556      5048.43     0.852266      4302.61    147733.73\n"
     ]
    }
   ],
   "source": [
    "swap9.printFloatLeg(settlementDate)"
   ]
  },
  {
   "cell_type": "markdown",
   "metadata": {},
   "source": [
    "Do I need to adjust the final maturity flow date ?"
   ]
  },
  {
   "cell_type": "markdown",
   "metadata": {},
   "source": [
    "## The Forward Curve"
   ]
  },
  {
   "cell_type": "code",
   "execution_count": 18,
   "metadata": {},
   "outputs": [],
   "source": [
    "times = np.linspace(0,15,1000)\n",
    "fwds = liborCurve.fwd(times)"
   ]
  },
  {
   "cell_type": "code",
   "execution_count": 19,
   "metadata": {
    "scrolled": true
   },
   "outputs": [
    {
     "data": {
      "image/png": "[encoded data removed]",
      "text/plain": [
       "<Figure size 576x360 with 1 Axes>"
      ]
     },
     "metadata": {
      "needs_background": "light"
     },
     "output_type": "display_data"
    }
   ],
   "source": [
    "plt.figure(figsize=(8,5))\n",
    "plt.plot(times,fwds*100, label=\"Instantaneous Forwards\")\n",
    "plt.xlabel(\"Time\")\n",
    "plt.ylabel(\"Forwards (%)\")\n",
    "plt.legend()\n",
    "plt.grid()"
   ]
  },
  {
   "cell_type": "markdown",
   "metadata": {},
   "source": [
    "Zoom in one the short end"
   ]
  },
  {
   "cell_type": "code",
   "execution_count": 20,
   "metadata": {},
   "outputs": [],
   "source": [
    "times = np.linspace(0,1.0,1000)\n",
    "fwds = liborCurve.fwd(times)"
   ]
  },
  {
   "cell_type": "code",
   "execution_count": 21,
   "metadata": {},
   "outputs": [
    {
     "data": {
      "image/png": "[encoded data removed]",
      "text/plain": [
       "<Figure size 576x360 with 1 Axes>"
      ]
     },
     "metadata": {
      "needs_background": "light"
     },
     "output_type": "display_data"
    }
   ],
   "source": [
    "plt.figure(figsize=(8,5))\n",
    "plt.plot(times,fwds*100, label=\"Instantaneous Forwards\")\n",
    "plt.xlabel(\"Time\")\n",
    "plt.ylabel(\"Forwards (%)\")\n",
    "plt.legend()\n",
    "plt.grid()"
   ]
  },
  {
   "cell_type": "markdown",
   "metadata": {},
   "source": [
    "## Extracting the Zero Rate Curves"
   ]
  },
  {
   "cell_type": "markdown",
   "metadata": {},
   "source": [
    "We choose a range of zero rate frequencies."
   ]
  },
  {
   "cell_type": "code",
   "execution_count": 22,
   "metadata": {},
   "outputs": [],
   "source": [
    "times = np.linspace(0,15,1000)\n",
    "zerosC = liborCurve.zeroRate(times,-1)\n",
    "zeros1 = liborCurve.zeroRate(times,1)\n",
    "zeros2 = liborCurve.zeroRate(times,2)\n",
    "zeros4 = liborCurve.zeroRate(times,4)"
   ]
  },
  {
   "cell_type": "code",
   "execution_count": 23,
   "metadata": {},
   "outputs": [
    {
     "data": {
      "image/png": "[encoded data removed]",
      "text/plain": [
       "<Figure size 576x360 with 1 Axes>"
      ]
     },
     "metadata": {
      "needs_background": "light"
     },
     "output_type": "display_data"
    }
   ],
   "source": [
    "plt.figure(figsize=(8,5))\n",
    "plt.plot(times,zerosC*100, label=\"Zero Rates (C)\")\n",
    "plt.plot(times,zeros1*100, label=\"Zero Rates (Ann)\")\n",
    "plt.plot(times,zeros2*100, label=\"Zero Rates (SA)\")\n",
    "plt.plot(times,zeros4*100, label=\"Zero Rates (Q)\")\n",
    "plt.xlabel(\"Time\")\n",
    "plt.ylabel(\"Zero (%)\")\n",
    "plt.legend()\n",
    "plt.grid()"
   ]
  },
  {
   "cell_type": "code",
   "execution_count": null,
   "metadata": {},
   "outputs": [],
   "source": []
  }
 ],
 "metadata": {
  "kernelspec": {
   "display_name": "Python 3",
   "language": "python",
   "name": "python3"
  },
  "language_info": {
   "codemirror_mode": {
    "name": "ipython",
    "version": 3
   },
   "file_extension": ".py",
   "mimetype": "text/x-python",
   "name": "python",
   "nbconvert_exporter": "python",
   "pygments_lexer": "ipython3",
   "version": "3.7.5"
  }
 },
 "nbformat": 4,
 "nbformat_minor": 2
}
