{
 "cells": [
  {
   "cell_type": "markdown",
   "metadata": {},
   "source": [
    "# Schedule Generation"
   ]
  },
  {
   "cell_type": "markdown",
   "metadata": {},
   "source": [
    "Examples of how to generate schedules"
   ]
  },
  {
   "cell_type": "code",
   "execution_count": 23,
   "metadata": {},
   "outputs": [],
   "source": [
    "from financepy.utils import *"
   ]
  },
  {
   "cell_type": "code",
   "execution_count": 24,
   "metadata": {},
   "outputs": [],
   "source": [
    "set_date_format(DateFormatTypes.UK_LONGEST)"
   ]
  },
  {
   "cell_type": "markdown",
   "metadata": {},
   "source": [
    "### Base Case Schedule Settings"
   ]
  },
  {
   "cell_type": "code",
   "execution_count": 25,
   "metadata": {},
   "outputs": [],
   "source": [
    "freq_type = FrequencyTypes.SEMI_ANNUAL\n",
    "cal_type = CalendarTypes.WEEKEND\n",
    "bd_type = BusDayAdjustTypes.MODIFIED_FOLLOWING\n",
    "dg_type = DateGenRuleTypes.BACKWARD\n",
    "adjust_termination_dt = False\n",
    "end_of_month_flag = False"
   ]
  },
  {
   "cell_type": "markdown",
   "metadata": {},
   "source": [
    "### Very Short Schedule"
   ]
  },
  {
   "cell_type": "code",
   "execution_count": 26,
   "metadata": {},
   "outputs": [
    {
     "name": "stdout",
     "output_type": "stream",
     "text": [
      "THU 04 AUG 2016 SAT 06 AUG 2016\n"
     ]
    }
   ],
   "source": [
    "effective_dt = Date(4, 8, 2016)\n",
    "termination_dt = effective_dt.add_tenor(\"2D\")\n",
    "print(effective_dt, termination_dt)"
   ]
  },
  {
   "cell_type": "code",
   "execution_count": 27,
   "metadata": {},
   "outputs": [
    {
     "data": {
      "text/plain": [
       "[THU 04 AUG 2016, SAT 06 AUG 2016]"
      ]
     },
     "execution_count": 27,
     "metadata": {},
     "output_type": "execute_result"
    }
   ],
   "source": [
    "schedule = Schedule(effective_dt, termination_dt, freq_type, cal_type, \n",
    "                       bd_type, dg_type, adjust_termination_dt, end_of_month_flag)\n",
    "\n",
    "schedule.adjusted_dts"
   ]
  },
  {
   "cell_type": "markdown",
   "metadata": {},
   "source": [
    "### Short Schedule with Termination Date Not Being Adjusted Automatically"
   ]
  },
  {
   "cell_type": "markdown",
   "metadata": {},
   "source": [
    "The default is to not adjust the termination date"
   ]
  },
  {
   "cell_type": "code",
   "execution_count": 28,
   "metadata": {},
   "outputs": [
    {
     "name": "stdout",
     "output_type": "stream",
     "text": [
      "THU 04 AUG 2016 SAT 04 FEB 2017\n"
     ]
    }
   ],
   "source": [
    "effective_dt = Date(4, 8, 2016)\n",
    "termination_dt = effective_dt.add_tenor(\"6M\")\n",
    "print(effective_dt, termination_dt)"
   ]
  },
  {
   "cell_type": "code",
   "execution_count": 29,
   "metadata": {},
   "outputs": [
    {
     "data": {
      "text/plain": [
       "[THU 04 AUG 2016, SAT 04 FEB 2017]"
      ]
     },
     "execution_count": 29,
     "metadata": {},
     "output_type": "execute_result"
    }
   ],
   "source": [
    "schedule = Schedule(effective_dt, termination_dt, freq_type, cal_type, \n",
    "                       bd_type, dg_type, adjust_termination_dt, end_of_month_flag)\n",
    "\n",
    "schedule.adjusted_dts"
   ]
  },
  {
   "cell_type": "code",
   "execution_count": 30,
   "metadata": {},
   "outputs": [
    {
     "data": {
      "text/plain": [
       "SAT 04 FEB 2017"
      ]
     },
     "execution_count": 30,
     "metadata": {},
     "output_type": "execute_result"
    }
   ],
   "source": [
    "schedule.termination_dt"
   ]
  },
  {
   "cell_type": "markdown",
   "metadata": {},
   "source": [
    "The payment date adjusts to the monday but I keep the termination date unchanged"
   ]
  },
  {
   "cell_type": "markdown",
   "metadata": {},
   "source": [
    "### Short Schedule with Termination Date Adjusted Automatically"
   ]
  },
  {
   "cell_type": "markdown",
   "metadata": {},
   "source": [
    "In some cases the scheduled termination date adjusts"
   ]
  },
  {
   "cell_type": "code",
   "execution_count": 31,
   "metadata": {},
   "outputs": [
    {
     "name": "stdout",
     "output_type": "stream",
     "text": [
      "THU 04 AUG 2016 SAT 04 FEB 2017\n"
     ]
    }
   ],
   "source": [
    "effective_dt = Date(4, 8, 2016)\n",
    "termination_dt = effective_dt.add_tenor(\"6M\")\n",
    "print(effective_dt, termination_dt)"
   ]
  },
  {
   "cell_type": "code",
   "execution_count": 32,
   "metadata": {},
   "outputs": [],
   "source": [
    "adjust_termination_dt = True"
   ]
  },
  {
   "cell_type": "code",
   "execution_count": 33,
   "metadata": {},
   "outputs": [
    {
     "data": {
      "text/plain": [
       "[THU 04 AUG 2016, MON 06 FEB 2017]"
      ]
     },
     "execution_count": 33,
     "metadata": {},
     "output_type": "execute_result"
    }
   ],
   "source": [
    "schedule = Schedule(effective_dt, termination_dt, freq_type, cal_type, \n",
    "                       bd_type, dg_type, adjust_termination_dt, end_of_month_flag)\n",
    "\n",
    "schedule.adjusted_dts"
   ]
  },
  {
   "cell_type": "code",
   "execution_count": 34,
   "metadata": {},
   "outputs": [
    {
     "data": {
      "text/plain": [
       "MON 06 FEB 2017"
      ]
     },
     "execution_count": 34,
     "metadata": {},
     "output_type": "execute_result"
    }
   ],
   "source": [
    "schedule.termination_dt"
   ]
  },
  {
   "cell_type": "markdown",
   "metadata": {},
   "source": [
    "### 5Y Schedule with Termination Date being Adjusted Automatically if required"
   ]
  },
  {
   "cell_type": "code",
   "execution_count": 35,
   "metadata": {},
   "outputs": [
    {
     "name": "stdout",
     "output_type": "stream",
     "text": [
      "EFFECTIVE DATE: THU 04 AUG 2016 TERMINATION DATE: WED 04 AUG 2021\n"
     ]
    }
   ],
   "source": [
    "effective_dt = Date(4, 8, 2016)\n",
    "termination_dt = effective_dt.add_tenor(\"5Y\")\n",
    "print(\"EFFECTIVE DATE:\", effective_dt, \"TERMINATION DATE:\", termination_dt)"
   ]
  },
  {
   "cell_type": "code",
   "execution_count": 36,
   "metadata": {},
   "outputs": [
    {
     "data": {
      "text/plain": [
       "[THU 04 AUG 2016,\n",
       " MON 06 FEB 2017,\n",
       " FRI 04 AUG 2017,\n",
       " MON 05 FEB 2018,\n",
       " MON 06 AUG 2018,\n",
       " MON 04 FEB 2019,\n",
       " MON 05 AUG 2019,\n",
       " TUE 04 FEB 2020,\n",
       " TUE 04 AUG 2020,\n",
       " THU 04 FEB 2021,\n",
       " WED 04 AUG 2021]"
      ]
     },
     "execution_count": 36,
     "metadata": {},
     "output_type": "execute_result"
    }
   ],
   "source": [
    "schedule = Schedule(effective_dt, termination_dt, freq_type, cal_type, \n",
    "                       bd_type, dg_type, adjust_termination_dt, end_of_month_flag)\n",
    "\n",
    "schedule.adjusted_dts"
   ]
  },
  {
   "cell_type": "markdown",
   "metadata": {},
   "source": [
    "The first date is the previous coupon date. The next date is the next coupon date after today."
   ]
  },
  {
   "cell_type": "code",
   "execution_count": 37,
   "metadata": {},
   "outputs": [
    {
     "name": "stdout",
     "output_type": "stream",
     "text": [
      "EFFECTIVE DATE: THU 04 AUG 2016 TERMINATION DATE: TUE 04 AUG 2026\n"
     ]
    }
   ],
   "source": [
    "effective_dt = Date(4, 8, 2016)\n",
    "termination_dt = effective_dt.add_tenor(\"10Y\")\n",
    "print(\"EFFECTIVE DATE:\", effective_dt, \"TERMINATION DATE:\", termination_dt)"
   ]
  },
  {
   "cell_type": "code",
   "execution_count": 38,
   "metadata": {},
   "outputs": [
    {
     "data": {
      "text/plain": [
       "[THU 04 AUG 2016,\n",
       " MON 06 FEB 2017,\n",
       " FRI 04 AUG 2017,\n",
       " MON 05 FEB 2018,\n",
       " MON 06 AUG 2018,\n",
       " MON 04 FEB 2019,\n",
       " MON 05 AUG 2019,\n",
       " TUE 04 FEB 2020,\n",
       " TUE 04 AUG 2020,\n",
       " THU 04 FEB 2021,\n",
       " WED 04 AUG 2021,\n",
       " FRI 04 FEB 2022,\n",
       " THU 04 AUG 2022,\n",
       " MON 06 FEB 2023,\n",
       " FRI 04 AUG 2023,\n",
       " MON 05 FEB 2024,\n",
       " MON 05 AUG 2024,\n",
       " TUE 04 FEB 2025,\n",
       " MON 04 AUG 2025,\n",
       " WED 04 FEB 2026,\n",
       " TUE 04 AUG 2026]"
      ]
     },
     "execution_count": 38,
     "metadata": {},
     "output_type": "execute_result"
    }
   ],
   "source": [
    "schedule = Schedule(effective_dt, termination_dt, freq_type, cal_type, \n",
    "                       bd_type, dg_type, adjust_termination_dt, end_of_month_flag)\n",
    "\n",
    "schedule.adjusted_dts"
   ]
  },
  {
   "cell_type": "markdown",
   "metadata": {},
   "source": [
    "## Month Ends"
   ]
  },
  {
   "cell_type": "markdown",
   "metadata": {},
   "source": [
    "End of month flag is false but we are on 29 Feb."
   ]
  },
  {
   "cell_type": "code",
   "execution_count": 39,
   "metadata": {},
   "outputs": [],
   "source": [
    "effective_dt = Date(29, 2, 2016)\n",
    "termination_dt = effective_dt.add_tenor(\"5Y\")\n",
    "adjust_termination_dt = False\n",
    "end_of_month_flag = False"
   ]
  },
  {
   "cell_type": "code",
   "execution_count": 40,
   "metadata": {},
   "outputs": [
    {
     "name": "stdout",
     "output_type": "stream",
     "text": [
      "EFFECTIVE DATE: MON 29 FEB 2016 TERMINATION DATE: SUN 28 FEB 2021\n"
     ]
    }
   ],
   "source": [
    "print(\"EFFECTIVE DATE:\", effective_dt, \"TERMINATION DATE:\", termination_dt)"
   ]
  },
  {
   "cell_type": "code",
   "execution_count": 41,
   "metadata": {},
   "outputs": [
    {
     "data": {
      "text/plain": [
       "[MON 29 FEB 2016,\n",
       " MON 29 AUG 2016,\n",
       " TUE 28 FEB 2017,\n",
       " MON 28 AUG 2017,\n",
       " WED 28 FEB 2018,\n",
       " TUE 28 AUG 2018,\n",
       " THU 28 FEB 2019,\n",
       " WED 28 AUG 2019,\n",
       " FRI 28 FEB 2020,\n",
       " FRI 28 AUG 2020,\n",
       " SUN 28 FEB 2021]"
      ]
     },
     "execution_count": 41,
     "metadata": {},
     "output_type": "execute_result"
    }
   ],
   "source": [
    "schedule = Schedule(effective_dt, termination_dt, freq_type, cal_type, \n",
    "                       bd_type, dg_type, adjust_termination_dt, end_of_month_flag)\n",
    "\n",
    "schedule.adjusted_dts"
   ]
  },
  {
   "cell_type": "code",
   "execution_count": 42,
   "metadata": {},
   "outputs": [],
   "source": [
    "adjust_termination_dt = True"
   ]
  },
  {
   "cell_type": "code",
   "execution_count": 43,
   "metadata": {},
   "outputs": [
    {
     "data": {
      "text/plain": [
       "[MON 29 FEB 2016,\n",
       " MON 29 AUG 2016,\n",
       " TUE 28 FEB 2017,\n",
       " MON 28 AUG 2017,\n",
       " WED 28 FEB 2018,\n",
       " TUE 28 AUG 2018,\n",
       " THU 28 FEB 2019,\n",
       " WED 28 AUG 2019,\n",
       " FRI 28 FEB 2020,\n",
       " FRI 28 AUG 2020,\n",
       " FRI 26 FEB 2021]"
      ]
     },
     "execution_count": 43,
     "metadata": {},
     "output_type": "execute_result"
    }
   ],
   "source": [
    "schedule = Schedule(effective_dt, termination_dt, freq_type, cal_type, \n",
    "                       bd_type, dg_type, adjust_termination_dt, end_of_month_flag)\n",
    "\n",
    "schedule.adjusted_dts"
   ]
  },
  {
   "cell_type": "markdown",
   "metadata": {},
   "source": [
    "If we adjust the dates to be end of Month using flag"
   ]
  },
  {
   "cell_type": "code",
   "execution_count": 44,
   "metadata": {},
   "outputs": [],
   "source": [
    "effective_dt = Date(28, 2, 2016)\n",
    "termination_dt = effective_dt.add_tenor(\"5Y\")\n",
    "adjust_termination_dt = False\n",
    "end_of_month_flag = True"
   ]
  },
  {
   "cell_type": "code",
   "execution_count": 45,
   "metadata": {},
   "outputs": [
    {
     "data": {
      "text/plain": [
       "[SUN 28 FEB 2016,\n",
       " MON 29 FEB 2016,\n",
       " WED 31 AUG 2016,\n",
       " TUE 28 FEB 2017,\n",
       " THU 31 AUG 2017,\n",
       " WED 28 FEB 2018,\n",
       " FRI 31 AUG 2018,\n",
       " THU 28 FEB 2019,\n",
       " FRI 30 AUG 2019,\n",
       " FRI 28 FEB 2020,\n",
       " MON 31 AUG 2020,\n",
       " SUN 28 FEB 2021]"
      ]
     },
     "execution_count": 45,
     "metadata": {},
     "output_type": "execute_result"
    }
   ],
   "source": [
    "schedule = Schedule(effective_dt, termination_dt, freq_type, cal_type, \n",
    "                       bd_type, dg_type, adjust_termination_dt, end_of_month_flag)\n",
    "\n",
    "schedule.adjusted_dts"
   ]
  },
  {
   "cell_type": "code",
   "execution_count": 46,
   "metadata": {},
   "outputs": [],
   "source": [
    "effective_dt = Date(28, 2, 2016)\n",
    "termination_dt = effective_dt.add_tenor(\"5Y\")\n",
    "adjust_termination_dt = True\n",
    "end_of_month_flag = True"
   ]
  },
  {
   "cell_type": "code",
   "execution_count": 47,
   "metadata": {},
   "outputs": [
    {
     "data": {
      "text/plain": [
       "[SUN 28 FEB 2016,\n",
       " MON 29 FEB 2016,\n",
       " WED 31 AUG 2016,\n",
       " TUE 28 FEB 2017,\n",
       " THU 31 AUG 2017,\n",
       " WED 28 FEB 2018,\n",
       " FRI 31 AUG 2018,\n",
       " THU 28 FEB 2019,\n",
       " FRI 30 AUG 2019,\n",
       " FRI 28 FEB 2020,\n",
       " MON 31 AUG 2020,\n",
       " FRI 26 FEB 2021]"
      ]
     },
     "execution_count": 47,
     "metadata": {},
     "output_type": "execute_result"
    }
   ],
   "source": [
    "schedule = Schedule(effective_dt, termination_dt, freq_type, cal_type, \n",
    "                       bd_type, dg_type, adjust_termination_dt, end_of_month_flag)\n",
    "\n",
    "schedule.adjusted_dts"
   ]
  },
  {
   "cell_type": "markdown",
   "metadata": {},
   "source": [
    "Termination date has been adjusted."
   ]
  }
 ],
 "metadata": {
  "kernelspec": {
   "display_name": "base",
   "language": "python",
   "name": "python3"
  },
  "language_info": {
   "codemirror_mode": {
    "name": "ipython",
    "version": 3
   },
   "file_extension": ".py",
   "mimetype": "text/x-python",
   "name": "python",
   "nbconvert_exporter": "python",
   "pygments_lexer": "ipython3",
   "version": "3.13.5"
  }
 },
 "nbformat": 4,
 "nbformat_minor": 2
}
