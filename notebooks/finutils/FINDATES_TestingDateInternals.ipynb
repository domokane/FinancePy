{
 "cells": [
  {
   "cell_type": "markdown",
   "metadata": {},
   "source": [
    "# TESTING DATE INTERNALS"
   ]
  },
  {
   "cell_type": "markdown",
   "metadata": {},
   "source": [
    "## Example of how to use FinancePy"
   ]
  },
  {
   "cell_type": "markdown",
   "metadata": {},
   "source": [
    "To get date functionality you import Date"
   ]
  },
  {
   "cell_type": "code",
   "execution_count": 1,
   "metadata": {},
   "outputs": [
    {
     "name": "stdout",
     "output_type": "stream",
     "text": [
      "####################################################################\n",
      "#    FINANCEPY Version 1.1 - This build: 27 Aug 2025 at 13:28      #\n",
      "#     This software is distributed FREE AND WITHOUT ANY WARRANTY   #\n",
      "#  Report bugs as issues at https://github.com/domokane/FinancePy  #\n",
      "####################################################################\n",
      "\n"
     ]
    }
   ],
   "source": [
    "from financepy.utils import *"
   ]
  },
  {
   "cell_type": "markdown",
   "metadata": {},
   "source": [
    "### We can create a Date as follows"
   ]
  },
  {
   "cell_type": "code",
   "execution_count": 2,
   "metadata": {},
   "outputs": [],
   "source": [
    "dt = Date(1, 1, 2000)"
   ]
  },
  {
   "cell_type": "code",
   "execution_count": 3,
   "metadata": {},
   "outputs": [
    {
     "name": "stdout",
     "output_type": "stream",
     "text": [
      "02-JAN-2000 36527.0\n",
      "03-JAN-2000 36528.0\n",
      "04-JAN-2000 36529.0\n",
      "05-JAN-2000 36530.0\n",
      "06-JAN-2000 36531.0\n",
      "07-JAN-2000 36532.0\n",
      "08-JAN-2000 36533.0\n",
      "09-JAN-2000 36534.0\n",
      "10-JAN-2000 36535.0\n",
      "11-JAN-2000 36536.0\n",
      "12-JAN-2000 36537.0\n",
      "13-JAN-2000 36538.0\n",
      "14-JAN-2000 36539.0\n",
      "15-JAN-2000 36540.0\n",
      "16-JAN-2000 36541.0\n",
      "17-JAN-2000 36542.0\n",
      "18-JAN-2000 36543.0\n",
      "19-JAN-2000 36544.0\n",
      "20-JAN-2000 36545.0\n",
      "21-JAN-2000 36546.0\n",
      "22-JAN-2000 36547.0\n",
      "23-JAN-2000 36548.0\n",
      "24-JAN-2000 36549.0\n",
      "25-JAN-2000 36550.0\n",
      "26-JAN-2000 36551.0\n",
      "27-JAN-2000 36552.0\n",
      "28-JAN-2000 36553.0\n",
      "29-JAN-2000 36554.0\n",
      "30-JAN-2000 36555.0\n",
      "31-JAN-2000 36556.0\n",
      "01-FEB-2000 36557.0\n",
      "02-FEB-2000 36558.0\n",
      "03-FEB-2000 36559.0\n",
      "04-FEB-2000 36560.0\n",
      "05-FEB-2000 36561.0\n",
      "06-FEB-2000 36562.0\n",
      "07-FEB-2000 36563.0\n",
      "08-FEB-2000 36564.0\n",
      "09-FEB-2000 36565.0\n",
      "10-FEB-2000 36566.0\n",
      "11-FEB-2000 36567.0\n",
      "12-FEB-2000 36568.0\n",
      "13-FEB-2000 36569.0\n",
      "14-FEB-2000 36570.0\n",
      "15-FEB-2000 36571.0\n",
      "16-FEB-2000 36572.0\n",
      "17-FEB-2000 36573.0\n",
      "18-FEB-2000 36574.0\n",
      "19-FEB-2000 36575.0\n",
      "20-FEB-2000 36576.0\n",
      "21-FEB-2000 36577.0\n",
      "22-FEB-2000 36578.0\n",
      "23-FEB-2000 36579.0\n",
      "24-FEB-2000 36580.0\n",
      "25-FEB-2000 36581.0\n",
      "26-FEB-2000 36582.0\n",
      "27-FEB-2000 36583.0\n",
      "28-FEB-2000 36584.0\n",
      "29-FEB-2000 36585.0\n",
      "01-MAR-2000 36586.0\n",
      "02-MAR-2000 36587.0\n",
      "03-MAR-2000 36588.0\n",
      "04-MAR-2000 36589.0\n",
      "05-MAR-2000 36590.0\n",
      "06-MAR-2000 36591.0\n",
      "07-MAR-2000 36592.0\n",
      "08-MAR-2000 36593.0\n",
      "09-MAR-2000 36594.0\n",
      "10-MAR-2000 36595.0\n",
      "11-MAR-2000 36596.0\n",
      "12-MAR-2000 36597.0\n",
      "13-MAR-2000 36598.0\n",
      "14-MAR-2000 36599.0\n",
      "15-MAR-2000 36600.0\n",
      "16-MAR-2000 36601.0\n",
      "17-MAR-2000 36602.0\n",
      "18-MAR-2000 36603.0\n",
      "19-MAR-2000 36604.0\n",
      "20-MAR-2000 36605.0\n",
      "21-MAR-2000 36606.0\n",
      "22-MAR-2000 36607.0\n",
      "23-MAR-2000 36608.0\n",
      "24-MAR-2000 36609.0\n",
      "25-MAR-2000 36610.0\n",
      "26-MAR-2000 36611.0\n",
      "27-MAR-2000 36612.0\n",
      "28-MAR-2000 36613.0\n",
      "29-MAR-2000 36614.0\n",
      "30-MAR-2000 36615.0\n",
      "31-MAR-2000 36616.0\n",
      "01-APR-2000 36617.0\n",
      "02-APR-2000 36618.0\n",
      "03-APR-2000 36619.0\n",
      "04-APR-2000 36620.0\n",
      "05-APR-2000 36621.0\n",
      "06-APR-2000 36622.0\n",
      "07-APR-2000 36623.0\n",
      "08-APR-2000 36624.0\n",
      "09-APR-2000 36625.0\n",
      "10-APR-2000 36626.0\n"
     ]
    }
   ],
   "source": [
    "for i in range(0, 100):\n",
    "    dt = dt.add_days(1)\n",
    "    print(dt, dt.excel_dt)"
   ]
  },
  {
   "cell_type": "markdown",
   "metadata": {},
   "source": [
    "Copyright (c) Dominic O'Kane 2020"
   ]
  }
 ],
 "metadata": {
  "kernelspec": {
   "display_name": "base",
   "language": "python",
   "name": "python3"
  },
  "language_info": {
   "codemirror_mode": {
    "name": "ipython",
    "version": 3
   },
   "file_extension": ".py",
   "mimetype": "text/x-python",
   "name": "python",
   "nbconvert_exporter": "python",
   "pygments_lexer": "ipython3",
   "version": "3.13.5"
  }
 },
 "nbformat": 4,
 "nbformat_minor": 2
}
