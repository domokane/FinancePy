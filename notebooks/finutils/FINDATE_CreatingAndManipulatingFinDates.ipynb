{
 "cells": [
  {
   "cell_type": "markdown",
   "metadata": {},
   "source": [
    "# CREATING AND MANIPULATING DATES"
   ]
  },
  {
   "cell_type": "markdown",
   "metadata": {},
   "source": [
    "## Example of how to use FinancePy"
   ]
  },
  {
   "cell_type": "markdown",
   "metadata": {},
   "source": [
    "To get date functionality you import Date"
   ]
  },
  {
   "cell_type": "code",
   "execution_count": 1,
   "metadata": {},
   "outputs": [
    {
     "name": "stdout",
     "output_type": "stream",
     "text": [
      "####################################################################\n",
      "#    FINANCEPY Version 1.1 - This build: 27 Aug 2025 at 13:28      #\n",
      "#     This software is distributed FREE AND WITHOUT ANY WARRANTY   #\n",
      "#  Report bugs as issues at https://github.com/domokane/FinancePy  #\n",
      "####################################################################\n",
      "\n"
     ]
    }
   ],
   "source": [
    "from financepy.utils import *"
   ]
  },
  {
   "cell_type": "markdown",
   "metadata": {},
   "source": [
    "### We can create a Date as follows"
   ]
  },
  {
   "cell_type": "code",
   "execution_count": 2,
   "metadata": {},
   "outputs": [],
   "source": [
    "dt1 = Date(18, 10, 2019)"
   ]
  },
  {
   "cell_type": "markdown",
   "metadata": {},
   "source": [
    "To see what this is, print it"
   ]
  },
  {
   "cell_type": "code",
   "execution_count": 3,
   "metadata": {},
   "outputs": [
    {
     "name": "stdout",
     "output_type": "stream",
     "text": [
      "18-OCT-2019\n"
     ]
    }
   ],
   "source": [
    "print(dt1)"
   ]
  },
  {
   "cell_type": "markdown",
   "metadata": {},
   "source": [
    "We can also do it like this."
   ]
  },
  {
   "cell_type": "code",
   "execution_count": 4,
   "metadata": {},
   "outputs": [
    {
     "name": "stdout",
     "output_type": "stream",
     "text": [
      "18-OCT-2019\n"
     ]
    }
   ],
   "source": [
    "dt1 = Date.from_string(\"18 Oct 2019\",\"%d %b %Y\"); print(dt1)"
   ]
  },
  {
   "cell_type": "code",
   "execution_count": 5,
   "metadata": {},
   "outputs": [
    {
     "name": "stdout",
     "output_type": "stream",
     "text": [
      "18-OCT-2019\n"
     ]
    }
   ],
   "source": [
    "dt1 = Date.from_string(\"18-10-2019\",\"%d-%m-%Y\"); print(dt1)"
   ]
  },
  {
   "cell_type": "code",
   "execution_count": 6,
   "metadata": {},
   "outputs": [
    {
     "name": "stdout",
     "output_type": "stream",
     "text": [
      "18-OCT-2019\n"
     ]
    }
   ],
   "source": [
    "dt1 = Date.from_string(\"18Oct2019\",\"%d%b%Y\"); print(dt1)"
   ]
  },
  {
   "cell_type": "markdown",
   "metadata": {},
   "source": [
    "And so on."
   ]
  },
  {
   "cell_type": "markdown",
   "metadata": {},
   "source": [
    "## Manipulating Dates"
   ]
  },
  {
   "cell_type": "markdown",
   "metadata": {},
   "source": [
    "We can add any number of calendar days"
   ]
  },
  {
   "cell_type": "code",
   "execution_count": 7,
   "metadata": {},
   "outputs": [],
   "source": [
    "dt2 = dt1.add_days(2)"
   ]
  },
  {
   "cell_type": "code",
   "execution_count": 8,
   "metadata": {},
   "outputs": [
    {
     "name": "stdout",
     "output_type": "stream",
     "text": [
      "18-OCT-2019 => 20-OCT-2019\n"
     ]
    }
   ],
   "source": [
    "print(dt1,\"=>\",dt2)"
   ]
  },
  {
   "cell_type": "markdown",
   "metadata": {},
   "source": [
    "To add business days we do the following - note this does not know about regional or religious holidays - just weekends"
   ]
  },
  {
   "cell_type": "code",
   "execution_count": 9,
   "metadata": {},
   "outputs": [],
   "source": [
    "dt3 = dt1.add_weekdays(2)"
   ]
  },
  {
   "cell_type": "code",
   "execution_count": 10,
   "metadata": {},
   "outputs": [
    {
     "name": "stdout",
     "output_type": "stream",
     "text": [
      "18-OCT-2019 => 22-OCT-2019\n"
     ]
    }
   ],
   "source": [
    "print(dt1,\"=>\",dt3)"
   ]
  },
  {
   "cell_type": "markdown",
   "metadata": {},
   "source": [
    "We can also add months\n",
    "\n",
    "\n",
    "\n",
    "\n",
    "\n",
    "\n",
    "\n",
    "\n",
    "\n"
   ]
  },
  {
   "cell_type": "code",
   "execution_count": 11,
   "metadata": {},
   "outputs": [
    {
     "name": "stdout",
     "output_type": "stream",
     "text": [
      "18-OCT-2019\n",
      "18-DEC-2019\n"
     ]
    }
   ],
   "source": [
    "dt4 = dt1.add_months(2)\n",
    "print(dt1)\n",
    "print(dt4)"
   ]
  },
  {
   "cell_type": "markdown",
   "metadata": {},
   "source": [
    "You can subtract dates"
   ]
  },
  {
   "cell_type": "code",
   "execution_count": 12,
   "metadata": {},
   "outputs": [
    {
     "name": "stdout",
     "output_type": "stream",
     "text": [
      "18-APR-2020 - 18-JAN-2020 = 91.0\n"
     ]
    }
   ],
   "source": [
    "dt5 = dt1.add_months(3)\n",
    "dt6 = dt1.add_months(6)\n",
    "dd = dt6 - dt5\n",
    "print(dt6, \"-\", dt5, \"=\", dd)"
   ]
  },
  {
   "cell_type": "markdown",
   "metadata": {},
   "source": [
    "You can use tenors such as \"3Y\" to move a date forward. The tenor is a string consisting of a number and a 'd', 'm' or 'y' in upper or lower case"
   ]
  },
  {
   "cell_type": "code",
   "execution_count": 13,
   "metadata": {},
   "outputs": [
    {
     "name": "stdout",
     "output_type": "stream",
     "text": [
      "19-OCT-2019\n",
      "20-OCT-2019\n",
      "18-JAN-2020\n",
      "18-FEB-2020\n",
      "18-OCT-2024\n",
      "18-OCT-2025\n"
     ]
    }
   ],
   "source": [
    "print(dt1.add_tenor(\"1d\"))\n",
    "print(dt1.add_tenor(\"2D\"))\n",
    "print(dt1.add_tenor(\"3M\"))\n",
    "print(dt1.add_tenor(\"4m\"))\n",
    "print(dt1.add_tenor(\"5Y\"))\n",
    "print(dt1.add_tenor(\"6y\"))"
   ]
  },
  {
   "cell_type": "markdown",
   "metadata": {},
   "source": [
    "You can check if a date is on a weekend\n"
   ]
  },
  {
   "cell_type": "code",
   "execution_count": 14,
   "metadata": {},
   "outputs": [
    {
     "name": "stdout",
     "output_type": "stream",
     "text": [
      "18-OCT-2019 False\n",
      "20-OCT-2019 True\n"
     ]
    }
   ],
   "source": [
    "print(dt1, dt1.is_weekend())\n",
    "print(dt2, dt2.is_weekend())"
   ]
  },
  {
   "cell_type": "markdown",
   "metadata": {},
   "source": [
    "### Vectors of Dates"
   ]
  },
  {
   "cell_type": "code",
   "execution_count": 15,
   "metadata": {},
   "outputs": [],
   "source": [
    "import numpy as np"
   ]
  },
  {
   "cell_type": "code",
   "execution_count": 16,
   "metadata": {},
   "outputs": [],
   "source": [
    "years = np.linspace(0, 10, 21)"
   ]
  },
  {
   "cell_type": "code",
   "execution_count": 17,
   "metadata": {},
   "outputs": [],
   "source": [
    "start_dt = Date(1, 1, 2020)"
   ]
  },
  {
   "cell_type": "code",
   "execution_count": 18,
   "metadata": {},
   "outputs": [],
   "source": [
    "dates = start_dt.add_years(years)"
   ]
  },
  {
   "cell_type": "code",
   "execution_count": 19,
   "metadata": {},
   "outputs": [
    {
     "data": {
      "text/plain": [
       "[01-JAN-2020,\n",
       " 01-JUL-2020,\n",
       " 01-JAN-2021,\n",
       " 01-JUL-2021,\n",
       " 01-JAN-2022,\n",
       " 01-JUL-2022,\n",
       " 01-JAN-2023,\n",
       " 01-JUL-2023,\n",
       " 01-JAN-2024,\n",
       " 01-JUL-2024,\n",
       " 01-JAN-2025,\n",
       " 01-JUL-2025,\n",
       " 01-JAN-2026,\n",
       " 01-JUL-2026,\n",
       " 01-JAN-2027,\n",
       " 01-JUL-2027,\n",
       " 01-JAN-2028,\n",
       " 01-JUL-2028,\n",
       " 01-JAN-2029,\n",
       " 01-JUL-2029,\n",
       " 01-JAN-2030]"
      ]
     },
     "execution_count": 19,
     "metadata": {},
     "output_type": "execute_result"
    }
   ],
   "source": [
    "dates"
   ]
  },
  {
   "cell_type": "markdown",
   "metadata": {},
   "source": [
    "### Financial Dates"
   ]
  },
  {
   "cell_type": "markdown",
   "metadata": {},
   "source": [
    "You can get the next IMM dates now. This is the 3rd Wednesday of the next IMM future delivery month."
   ]
  },
  {
   "cell_type": "code",
   "execution_count": 20,
   "metadata": {},
   "outputs": [
    {
     "name": "stdout",
     "output_type": "stream",
     "text": [
      "18-OCT-2019 => 18-DEC-2019\n"
     ]
    }
   ],
   "source": [
    "print(dt1, \"=>\", dt1.next_imm_date())"
   ]
  },
  {
   "cell_type": "markdown",
   "metadata": {},
   "source": [
    "You can get the 20th of the next of March, June, Sep or Dec"
   ]
  },
  {
   "cell_type": "code",
   "execution_count": 21,
   "metadata": {},
   "outputs": [
    {
     "name": "stdout",
     "output_type": "stream",
     "text": [
      "18-OCT-2019 => 20-DEC-2019\n"
     ]
    }
   ],
   "source": [
    "print(dt1, \"=>\", dt1.next_cds_date())"
   ]
  },
  {
   "cell_type": "markdown",
   "metadata": {},
   "source": [
    "Copyright (c) Dominic O'Kane 2020"
   ]
  }
 ],
 "metadata": {
  "kernelspec": {
   "display_name": "base",
   "language": "python",
   "name": "python3"
  },
  "language_info": {
   "codemirror_mode": {
    "name": "ipython",
    "version": 3
   },
   "file_extension": ".py",
   "mimetype": "text/x-python",
   "name": "python",
   "nbconvert_exporter": "python",
   "pygments_lexer": "ipython3",
   "version": "3.13.5"
  }
 },
 "nbformat": 4,
 "nbformat_minor": 2
}
