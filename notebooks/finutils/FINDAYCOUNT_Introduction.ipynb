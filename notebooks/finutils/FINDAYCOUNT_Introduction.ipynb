{
 "cells": [
  {
   "cell_type": "markdown",
   "metadata": {},
   "source": [
    "# UNDERSTANDING DAY COUNTS"
   ]
  },
  {
   "cell_type": "markdown",
   "metadata": {},
   "source": [
    "## Calculating year fractions according to different conventions"
   ]
  },
  {
   "cell_type": "code",
   "execution_count": 1,
   "metadata": {},
   "outputs": [],
   "source": [
    "from financepy.utils import *"
   ]
  },
  {
   "cell_type": "markdown",
   "metadata": {},
   "source": [
    "## Accrued Interest for a Bond"
   ]
  },
  {
   "cell_type": "code",
   "execution_count": 2,
   "metadata": {},
   "outputs": [
    {
     "name": "stdout",
     "output_type": "stream",
     "text": [
      "                           DayCountTypes.ZERO YearFrac: 0.12328767 Days: 45  Period: 365\n",
      "                DayCountTypes.THIRTY_360_BOND YearFrac: 0.12222222 Days: 44  Period: 360\n",
      "                   DayCountTypes.THIRTY_E_360 YearFrac: 0.12222222 Days: 44  Period: 360\n",
      "              DayCountTypes.THIRTY_E_360_ISDA YearFrac: 0.12222222 Days: 44  Period: 360\n",
      "              DayCountTypes.THIRTY_E_PLUS_360 YearFrac: 0.12222222 Days: 44  Period: 360\n",
      "                   DayCountTypes.ACT_ACT_ISDA YearFrac: 0.12328767 Days: 45  Period: 365\n",
      "                   DayCountTypes.ACT_ACT_ICMA YearFrac: 0.12430939 Days: 45  Period: 362\n",
      "                       DayCountTypes.ACT_365F YearFrac: 0.12328767 Days: 45  Period: 365\n",
      "                        DayCountTypes.ACT_360 YearFrac: 0.12500000 Days: 45  Period: 360\n",
      "                       DayCountTypes.ACT_365L YearFrac: 0.12328767 Days: 45  Period: 365\n",
      "                         DayCountTypes.SIMPLE YearFrac: 0.12328767 Days: 45  Period: 365\n"
     ]
    }
   ],
   "source": [
    "num_days = 1\n",
    "settle_dt = Date(15, 2, 2019)\n",
    "freq_type = FrequencyTypes.SEMI_ANNUAL\n",
    "\n",
    "for dc_type in DayCountTypes:\n",
    "\n",
    "    pcd = Date(1, 1, 2019)\n",
    "    ncd = pcd.add_tenor(\"6M\")\n",
    "    day_count = DayCount(dc_type)\n",
    "\n",
    "    alpha = day_count.year_frac(pcd, settle_dt, ncd, freq_type)\n",
    "    print(\"%45s YearFrac: %9.8f Days: %d  Period: %d\" % (day_count, alpha[0], alpha[1], alpha[2]))"
   ]
  },
  {
   "cell_type": "markdown",
   "metadata": {},
   "source": [
    "## Year Fraction for Swaps"
   ]
  },
  {
   "cell_type": "markdown",
   "metadata": {},
   "source": [
    "This should just take two dates."
   ]
  },
  {
   "cell_type": "code",
   "execution_count": 3,
   "metadata": {},
   "outputs": [
    {
     "name": "stdout",
     "output_type": "stream",
     "text": [
      "                           DayCountTypes.ZERO YearFrac: 0.24657534 Days: 90  Period: 365\n",
      "                DayCountTypes.THIRTY_360_BOND YearFrac: 0.25000000 Days: 90  Period: 360\n",
      "                   DayCountTypes.THIRTY_E_360 YearFrac: 0.25000000 Days: 90  Period: 360\n",
      "              DayCountTypes.THIRTY_E_360_ISDA YearFrac: 0.25000000 Days: 90  Period: 360\n",
      "              DayCountTypes.THIRTY_E_PLUS_360 YearFrac: 0.25000000 Days: 90  Period: 360\n",
      "                   DayCountTypes.ACT_ACT_ISDA YearFrac: 0.24657534 Days: 90  Period: 365\n",
      "                       DayCountTypes.ACT_365F YearFrac: 0.24657534 Days: 90  Period: 365\n",
      "                        DayCountTypes.ACT_360 YearFrac: 0.25000000 Days: 90  Period: 360\n",
      "                       DayCountTypes.ACT_365L YearFrac: 0.24657534 Days: 90  Period: 365\n",
      "                         DayCountTypes.SIMPLE YearFrac: 0.24657534 Days: 90  Period: 365\n"
     ]
    }
   ],
   "source": [
    "num_days = 1\n",
    "settle_dt = Date(15, 2, 2019)\n",
    "freq_type = FrequencyTypes.SEMI_ANNUAL\n",
    "\n",
    "for dc_type in DayCountTypes:\n",
    "\n",
    "    pcd = Date(1, 1, 2019)\n",
    "    ncd = pcd.add_tenor(\"3M\")\n",
    "\n",
    "    if dc_type != DayCountTypes.ACT_ACT_ICMA:\n",
    "        day_count = DayCount(dc_type)\n",
    "        alpha = day_count.year_frac(pcd, ncd)\n",
    "        print(\"%45s YearFrac: %9.8f Days: %d  Period: %d\" % (day_count, alpha[0], alpha[1], alpha[2]))"
   ]
  },
  {
   "cell_type": "markdown",
   "metadata": {},
   "source": [
    "Copyright (c) 2020 Dominic O'Kane"
   ]
  }
 ],
 "metadata": {
  "kernelspec": {
   "display_name": "Python 3",
   "language": "python",
   "name": "python3"
  },
  "language_info": {
   "codemirror_mode": {
    "name": "ipython",
    "version": 3
   },
   "file_extension": ".py",
   "mimetype": "text/x-python",
   "name": "python",
   "nbconvert_exporter": "python",
   "pygments_lexer": "ipython3",
   "version": "3.13.7"
  }
 },
 "nbformat": 4,
 "nbformat_minor": 4
}
