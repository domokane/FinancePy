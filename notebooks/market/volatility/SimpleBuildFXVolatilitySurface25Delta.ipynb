{
 "cells": [
  {
   "cell_type": "markdown",
   "metadata": {},
   "source": [
    "# Simple Build FX Volatility Surface to ATM and 25D"
   ]
  },
  {
   "cell_type": "markdown",
   "metadata": {},
   "source": [
    "Construct an FX volatility surface to different terms using ATM volatility, risk reversals and strangles. The example is taken from the book by Iain Clarke (see Tables 3.3 and 3.4 of the book)"
   ]
  },
  {
   "cell_type": "code",
   "execution_count": 11,
   "metadata": {
    "scrolled": false
   },
   "outputs": [],
   "source": [
    "from financepy.utils.date import Date\n",
    "from financepy.market.curves.discount_curve_flat import *\n",
    "from financepy.market.volatility.fx_vol_surface import *"
   ]
  },
  {
   "cell_type": "code",
   "execution_count": 12,
   "metadata": {},
   "outputs": [],
   "source": [
    "value_dt = Date(10, 4, 2020)"
   ]
  },
  {
   "cell_type": "code",
   "execution_count": 13,
   "metadata": {},
   "outputs": [],
   "source": [
    "for_name = \"EUR\"\n",
    "dom_name = \"USD\"\n",
    "currency_pair = for_name + dom_name\n",
    "spot_fx_rate = 1.3465"
   ]
  },
  {
   "cell_type": "code",
   "execution_count": 14,
   "metadata": {},
   "outputs": [],
   "source": [
    "for_cc_rate = 0.03460  # EUR\n",
    "dom_cc_rate = 0.02940  # USD"
   ]
  },
  {
   "cell_type": "code",
   "execution_count": 15,
   "metadata": {},
   "outputs": [],
   "source": [
    "domestic_curve = DiscountCurveFlat(value_dt, dom_cc_rate)\n",
    "foreign_curve = DiscountCurveFlat(value_dt, for_cc_rate)"
   ]
  },
  {
   "cell_type": "code",
   "execution_count": 16,
   "metadata": {},
   "outputs": [],
   "source": [
    "tenors = ['1M', '2M', '3M', '6M', '1Y', '2Y']\n",
    "atm_vols = np.array([21.00, 21.00, 20.750, 19.400, 18.250, 17.677])\n",
    "mkt_strangle_25d_vols = np.array([0.65, 0.75, 0.85, 0.90, 0.95, 0.85])\n",
    "rsk_reversal_25d_vols = np.array([-0.20, -0.25, -0.30, -0.50, -0.60, -0.562])"
   ]
  },
  {
   "cell_type": "code",
   "execution_count": 17,
   "metadata": {},
   "outputs": [],
   "source": [
    "notional_currency = for_name"
   ]
  },
  {
   "cell_type": "code",
   "execution_count": 18,
   "metadata": {},
   "outputs": [],
   "source": [
    "atm_method = FinFXATMMethod.FWD_DELTA_NEUTRAL\n",
    "delta_method = FinFXDeltaMethod.SPOT_DELTA"
   ]
  },
  {
   "cell_type": "code",
   "execution_count": 19,
   "metadata": {},
   "outputs": [],
   "source": [
    "fx_market = FXVolSurface(value_dt,\n",
    "                              spot_fx_rate,\n",
    "                              currency_pair,\n",
    "                              notional_currency,\n",
    "                              domestic_curve,\n",
    "                              foreign_curve,\n",
    "                              tenors,\n",
    "                              atm_vols,\n",
    "                              mkt_strangle_25d_vols,\n",
    "                              rsk_reversal_25d_vols,\n",
    "                              atm_method,\n",
    "                              delta_method)"
   ]
  },
  {
   "cell_type": "code",
   "execution_count": 20,
   "metadata": {
    "scrolled": false
   },
   "outputs": [
    {
     "name": "stdout",
     "output_type": "stream",
     "text": [
      "==========================================================\n",
      "VALUE DATE: 10-APR-2020\n",
      "SPOT FX RATE: 1.3465\n",
      "ATM METHOD: FinFXATMMethod.FWD_DELTA_NEUTRAL\n",
      "DELTA METHOD: FinFXDeltaMethod.SPOT_DELTA\n",
      "==========================================================\n",
      "TENOR: 1M\n",
      "EXPIRY DATE: 10-MAY-2020\n",
      "IN ATM VOL: 21.000000 %\n",
      "IN MKT STRANGLE 25d VOL:  0.650000 %\n",
      "IN RSK REVERSAL 25d VOL: -0.200000 %\n",
      "======================================================\n",
      "T_(YEARS):  0.0821917808219178\n",
      "CNT_CPD_RD: 2.940000 %\n",
      "CNT_CPD_RF: 3.460000 %\n",
      "FWD_RATE:   1.345925\n",
      "======================================================\n",
      "VOL FUNCTION VolFuncTypes.CLARK\n",
      "VOL_PARAMETERS: [-1.56039698  0.02648148  0.46555461]\n",
      "======================================================\n",
      "OUT_K_ATM:   1.348366\n",
      "OUT_ATM_VOL: 20.999999 %\n",
      "CALL_DELTA:  0.498580  PUT_DELTA: -0.498580  NET_DELTA: -0.000000\n",
      "======================================================\n",
      "MKT STRANGLE VOL IN:  0.650000 %\n",
      "k_25d_c_ms:  1.405978  ATM + ms_vol: 21.650000 %   DELTA:  0.250000\n",
      "k_25d_p_ms:  1.293410  ATM + ms_vol: 21.650000 %   DELTA: -0.250000\n",
      "CALL_VALUE:  0.012099  PUT_VALUE:  0.012876  MS_VALUE:  0.024975\n",
      "k_25d_c_ms:  1.405978  SURFACE_VOL: 21.555075 %   DELTA:  0.248975\n",
      "k_25d_p_ms:  1.293410  SURFACE_VOL: 21.744800 %   DELTA: -0.250845\n",
      "CALL_VALUE:  0.011983 PUT_VALUE:  0.012992  MS_SKEW_VALUE:  0.024975\n",
      "k_25d_c: 1.4056820  VOL: 21.549972  DELTA:  0.250000\n",
      "k_25d_p: 1.2931835  VOL: 21.749971  DELTA: -0.250000\n",
      "=========================================================\n",
      "RR = VOL_K_25_C - VOL_K_25_P => RR_IN: -0.200000 % RR_OUT: -0.199999 %\n",
      "=========================================================\n",
      "TENOR: 2M\n",
      "EXPIRY DATE: 10-JUN-2020\n",
      "IN ATM VOL: 21.000000 %\n",
      "IN MKT STRANGLE 25d VOL:  0.750000 %\n",
      "IN RSK REVERSAL 25d VOL: -0.250000 %\n",
      "======================================================\n",
      "T_(YEARS):  0.16712328767123288\n",
      "CNT_CPD_RD: 2.940000 %\n",
      "CNT_CPD_RF: 3.460000 %\n",
      "FWD_RATE:   1.345330\n",
      "======================================================\n",
      "VOL FUNCTION VolFuncTypes.CLARK\n",
      "VOL_PARAMETERS: [-1.56017826  0.03659903  0.53523191]\n",
      "======================================================\n",
      "OUT_K_ATM:   1.350297\n",
      "OUT_ATM_VOL: 20.999999 %\n",
      "CALL_DELTA:  0.497117  PUT_DELTA: -0.497117  NET_DELTA: -0.000000\n",
      "======================================================\n",
      "MKT STRANGLE VOL IN:  0.750000 %\n",
      "k_25d_c_ms:  1.433559  ATM + ms_vol: 21.750000 %   DELTA:  0.250000\n",
      "k_25d_p_ms:  1.272553  ATM + ms_vol: 21.750000 %   DELTA: -0.250000\n",
      "CALL_VALUE:  0.017123  PUT_VALUE:  0.018721  MS_VALUE:  0.035844\n",
      "k_25d_c_ms:  1.433559  SURFACE_VOL: 21.632206 %   DELTA:  0.248693\n",
      "k_25d_p_ms:  1.272553  SURFACE_VOL: 21.867513 %   DELTA: -0.250990\n",
      "CALL_VALUE:  0.016918 PUT_VALUE:  0.018926  MS_SKEW_VALUE:  0.035844\n",
      "k_25d_c: 1.4330021  VOL: 21.624712  DELTA:  0.250000\n",
      "k_25d_p: 1.2721761  VOL: 21.874713  DELTA: -0.250000\n",
      "=========================================================\n",
      "RR = VOL_K_25_C - VOL_K_25_P => RR_IN: -0.250000 % RR_OUT: -0.250001 %\n",
      "=========================================================\n",
      "TENOR: 3M\n",
      "EXPIRY DATE: 10-JUL-2020\n",
      "IN ATM VOL: 20.750000 %\n",
      "IN MKT STRANGLE 25d VOL:  0.850000 %\n",
      "IN RSK REVERSAL 25d VOL: -0.300000 %\n",
      "======================================================\n",
      "T_(YEARS):  0.2493150684931507\n",
      "CNT_CPD_RD: 2.940000 %\n",
      "CNT_CPD_RF: 3.460000 %\n",
      "FWD_RATE:   1.344755\n",
      "======================================================\n",
      "VOL FUNCTION VolFuncTypes.CLARK\n",
      "VOL_PARAMETERS: [-1.57191863  0.04679818  0.61112213]\n",
      "======================================================\n",
      "OUT_K_ATM:   1.351993\n",
      "OUT_ATM_VOL: 20.749993 %\n",
      "CALL_DELTA:  0.495705  PUT_DELTA: -0.495705  NET_DELTA: -0.000000\n",
      "======================================================\n",
      "MKT STRANGLE VOL IN:  0.850000 %\n",
      "k_25d_c_ms:  1.453595  ATM + ms_vol: 21.600000 %   DELTA:  0.250000\n",
      "k_25d_p_ms:  1.258621  ATM + ms_vol: 21.600000 %   DELTA: -0.250000\n",
      "CALL_VALUE:  0.020598  PUT_VALUE:  0.022955  MS_VALUE:  0.043553\n",
      "k_25d_c_ms:  1.453595  SURFACE_VOL: 21.459875 %   DELTA:  0.248401\n",
      "k_25d_p_ms:  1.258621  SURFACE_VOL: 21.739806 %   DELTA: -0.251140\n",
      "CALL_VALUE:  0.020301 PUT_VALUE:  0.023252  MS_SKEW_VALUE:  0.043553\n",
      "k_25d_c: 1.4527483  VOL: 21.449453  DELTA:  0.250000\n",
      "k_25d_p: 1.2580956  VOL: 21.749451  DELTA: -0.250000\n",
      "=========================================================\n",
      "RR = VOL_K_25_C - VOL_K_25_P => RR_IN: -0.300000 % RR_OUT: -0.299997 %\n",
      "=========================================================\n",
      "TENOR: 6M\n",
      "EXPIRY DATE: 10-OCT-2020\n",
      "IN ATM VOL: 19.400000 %\n",
      "IN MKT STRANGLE 25d VOL:  0.900000 %\n",
      "IN RSK REVERSAL 25d VOL: -0.500000 %\n",
      "======================================================\n",
      "T_(YEARS):  0.5013698630136987\n",
      "CNT_CPD_RD: 2.940000 %\n",
      "CNT_CPD_RF: 3.460000 %\n",
      "FWD_RATE:   1.342994\n",
      "======================================================\n",
      "VOL FUNCTION VolFuncTypes.CLARK\n",
      "VOL_PARAMETERS: [-1.63829337  0.07769955  0.69678843]\n",
      "======================================================\n",
      "OUT_K_ATM:   1.355725\n",
      "OUT_ATM_VOL: 19.400009 %\n",
      "CALL_DELTA:  0.491401  PUT_DELTA: -0.491401  NET_DELTA:  0.000000\n",
      "======================================================\n",
      "MKT STRANGLE VOL IN:  0.900000 %\n",
      "k_25d_c_ms:  1.492142  ATM + ms_vol: 20.300000 %   DELTA:  0.250000\n",
      "k_25d_p_ms:  1.233988  ATM + ms_vol: 20.300000 %   DELTA: -0.250000\n",
      "CALL_VALUE:  0.027056  PUT_VALUE:  0.031269  MS_VALUE:  0.058326\n",
      "k_25d_c_ms:  1.492142  SURFACE_VOL: 20.067936 %   DELTA:  0.247080\n",
      "k_25d_p_ms:  1.233988  SURFACE_VOL: 20.530857 %   DELTA: -0.251833\n",
      "CALL_VALUE:  0.026361 PUT_VALUE:  0.031964  MS_SKEW_VALUE:  0.058325\n",
      "k_25d_c: 1.4900107  VOL: 20.048784  DELTA:  0.250000\n",
      "k_25d_p: 1.2328664  VOL: 20.548784  DELTA: -0.250000\n",
      "=========================================================\n",
      "RR = VOL_K_25_C - VOL_K_25_P => RR_IN: -0.500000 % RR_OUT: -0.500000 %\n",
      "=========================================================\n",
      "TENOR: 1Y\n",
      "EXPIRY DATE: 10-APR-2021\n",
      "IN ATM VOL: 18.250000 %\n",
      "IN MKT STRANGLE 25d VOL:  0.950000 %\n",
      "IN RSK REVERSAL 25d VOL: -0.600000 %\n",
      "======================================================\n",
      "T_(YEARS):  1.0\n",
      "CNT_CPD_RD: 2.940000 %\n",
      "CNT_CPD_RF: 3.460000 %\n",
      "FWD_RATE:   1.339516\n",
      "======================================================\n",
      "VOL FUNCTION VolFuncTypes.CLARK\n",
      "VOL_PARAMETERS: [-1.69812393  0.10862678  0.80408117]\n",
      "======================================================\n",
      "OUT_K_ATM:   1.362010\n",
      "OUT_ATM_VOL: 18.250002 %\n",
      "CALL_DELTA:  0.482996  PUT_DELTA: -0.482996  NET_DELTA:  0.000000\n",
      "======================================================\n",
      "MKT STRANGLE VOL IN:  0.950000 %\n",
      "k_25d_c_ms:  1.544922  ATM + ms_vol: 19.200000 %   DELTA:  0.250000\n",
      "k_25d_p_ms:  1.205034  ATM + ms_vol: 19.200000 %   DELTA: -0.250000\n",
      "CALL_VALUE:  0.035509  PUT_VALUE:  0.043125  MS_VALUE:  0.078634\n",
      "k_25d_c_ms:  1.544922  SURFACE_VOL: 18.923585 %   DELTA:  0.246190\n",
      "k_25d_p_ms:  1.205034  SURFACE_VOL: 19.474749 %   DELTA: -0.252005\n",
      "CALL_VALUE:  0.034351 PUT_VALUE:  0.044283  MS_SKEW_VALUE:  0.078634\n",
      "k_25d_c: 1.5410069  VOL: 18.897061  DELTA:  0.250000\n",
      "k_25d_p: 1.2034118  VOL: 19.497063  DELTA: -0.250000\n",
      "=========================================================\n",
      "RR = VOL_K_25_C - VOL_K_25_P => RR_IN: -0.600000 % RR_OUT: -0.600003 %\n",
      "=========================================================\n",
      "TENOR: 2Y\n",
      "EXPIRY DATE: 10-APR-2022\n",
      "IN ATM VOL: 17.677000 %\n",
      "IN MKT STRANGLE 25d VOL:  0.850000 %\n",
      "IN RSK REVERSAL 25d VOL: -0.562000 %\n",
      "======================================================\n",
      "T_(YEARS):  2.0\n",
      "CNT_CPD_RD: 2.940000 %\n",
      "CNT_CPD_RF: 3.460000 %\n",
      "FWD_RATE:   1.332569\n",
      "======================================================\n",
      "VOL FUNCTION VolFuncTypes.CLARK\n",
      "VOL_PARAMETERS: [-1.72842498  0.13086217  0.81528218]\n",
      "======================================================\n",
      "OUT_K_ATM:   1.374866\n",
      "OUT_ATM_VOL: 17.677001 %\n",
      "CALL_DELTA:  0.466570  PUT_DELTA: -0.466570  NET_DELTA:  0.000000\n",
      "======================================================\n",
      "MKT STRANGLE VOL IN:  0.850000 %\n",
      "k_25d_c_ms:  1.621992  ATM + ms_vol: 18.527000 %   DELTA:  0.250000\n",
      "k_25d_p_ms:  1.172587  ATM + ms_vol: 18.527000 %   DELTA: -0.250000\n",
      "CALL_VALUE:  0.047393  PUT_VALUE:  0.061952  MS_VALUE:  0.109345\n",
      "k_25d_c_ms:  1.621992  SURFACE_VOL: 18.265953 %   DELTA:  0.246153\n",
      "k_25d_p_ms:  1.172587  SURFACE_VOL: 18.786633 %   DELTA: -0.251511\n",
      "CALL_VALUE:  0.045871 PUT_VALUE:  0.063474  MS_SKEW_VALUE:  0.109345\n",
      "k_25d_c: 1.6162338  VOL: 18.240965  DELTA:  0.250000\n",
      "k_25d_p: 1.1709627  VOL: 18.802967  DELTA: -0.250000\n",
      "=========================================================\n",
      "RR = VOL_K_25_C - VOL_K_25_P => RR_IN: -0.562000 % RR_OUT: -0.562003 %\n",
      "=========================================================\n"
     ]
    }
   ],
   "source": [
    "fx_market.check_calibration(True)"
   ]
  },
  {
   "cell_type": "code",
   "execution_count": 21,
   "metadata": {},
   "outputs": [
    {
     "data": {
      "image/png": "[encoded data removed]",
      "text/plain": [
       "<Figure size 640x480 with 1 Axes>"
      ]
     },
     "metadata": {},
     "output_type": "display_data"
    }
   ],
   "source": [
    "fx_market.plot_vol_curves()"
   ]
  },
  {
   "cell_type": "markdown",
   "metadata": {},
   "source": [
    "## Extracting Information from Volatility Surface"
   ]
  },
  {
   "cell_type": "code",
   "execution_count": 22,
   "metadata": {},
   "outputs": [
    {
     "data": {
      "text/plain": [
       "array([[-1.56039698,  0.02648148,  0.46555461],\n",
       "       [-1.56017826,  0.03659903,  0.53523191],\n",
       "       [-1.57191863,  0.04679818,  0.61112213],\n",
       "       [-1.63829337,  0.07769955,  0.69678843],\n",
       "       [-1.69812393,  0.10862678,  0.80408117],\n",
       "       [-1.72842498,  0.13086217,  0.81528218]])"
      ]
     },
     "execution_count": 22,
     "metadata": {},
     "output_type": "execute_result"
    }
   ],
   "source": [
    "fx_market.parameters"
   ]
  },
  {
   "cell_type": "markdown",
   "metadata": {},
   "source": [
    "We can extract information from the volatility surface"
   ]
  },
  {
   "cell_type": "code",
   "execution_count": 23,
   "metadata": {},
   "outputs": [],
   "source": [
    "expiry_dts = value_dt.add_tenor(tenors)"
   ]
  },
  {
   "cell_type": "code",
   "execution_count": 24,
   "metadata": {},
   "outputs": [],
   "source": [
    "K = fx_market.k_atm[0]"
   ]
  },
  {
   "cell_type": "markdown",
   "metadata": {},
   "source": [
    "The zeroth curve is the 1M volatility smile"
   ]
  },
  {
   "cell_type": "code",
   "execution_count": 25,
   "metadata": {},
   "outputs": [
    {
     "data": {
      "text/plain": [
       "(np.float64(1.3483661021875544), 0.20999999284129556)"
      ]
     },
     "execution_count": 25,
     "metadata": {},
     "output_type": "execute_result"
    }
   ],
   "source": [
    "K, fx_market.volatility(K, expiry_dts[0])"
   ]
  },
  {
   "cell_type": "markdown",
   "metadata": {},
   "source": [
    "The fifth curve is the 2Y volatility smile"
   ]
  },
  {
   "cell_type": "code",
   "execution_count": 26,
   "metadata": {},
   "outputs": [],
   "source": [
    "K = fx_market.k_atm[-1]"
   ]
  },
  {
   "cell_type": "code",
   "execution_count": 27,
   "metadata": {},
   "outputs": [
    {
     "data": {
      "text/plain": [
       "(np.float64(1.3748659922257365), np.float64(0.1767700086031292))"
      ]
     },
     "execution_count": 27,
     "metadata": {},
     "output_type": "execute_result"
    }
   ],
   "source": [
    "K, fx_market.volatility(K,expiry_dts[-1])"
   ]
  },
  {
   "cell_type": "markdown",
   "metadata": {},
   "source": [
    "Copyright (c) 2020 Dominic O'Kane"
   ]
  }
 ],
 "metadata": {
  "kernelspec": {
   "display_name": "Python 3",
   "language": "python",
   "name": "python3"
  },
  "language_info": {
   "codemirror_mode": {
    "name": "ipython",
    "version": 3
   },
   "file_extension": ".py",
   "mimetype": "text/x-python",
   "name": "python",
   "nbconvert_exporter": "python",
   "pygments_lexer": "ipython3",
   "version": "3.13.7"
  }
 },
 "nbformat": 4,
 "nbformat_minor": 4
}
