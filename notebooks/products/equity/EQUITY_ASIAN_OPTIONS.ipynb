{
 "cells": [
  {
   "cell_type": "markdown",
   "metadata": {},
   "source": [
    "# EQUITY ASIAN OPTIONS - VALUATION ANALYSIS"
   ]
  },
  {
   "cell_type": "markdown",
   "metadata": {},
   "source": [
    "Valuation and Risk of Asian-style options. Detailed analysis of different valuation models."
   ]
  },
  {
   "cell_type": "code",
   "execution_count": 1,
   "metadata": {
    "execution": {
     "iopub.execute_input": "2025-08-27T21:44:59.895756Z",
     "iopub.status.busy": "2025-08-27T21:44:59.895351Z",
     "iopub.status.idle": "2025-08-27T21:45:00.429498Z",
     "shell.execute_reply": "2025-08-27T21:45:00.429022Z"
    }
   },
   "outputs": [],
   "source": [
    "import numpy as np\n",
    "import matplotlib.pyplot as plt"
   ]
  },
  {
   "cell_type": "code",
   "execution_count": 2,
   "metadata": {
    "execution": {
     "iopub.execute_input": "2025-08-27T21:45:00.432031Z",
     "iopub.status.busy": "2025-08-27T21:45:00.431720Z",
     "iopub.status.idle": "2025-08-27T21:45:03.651116Z",
     "shell.execute_reply": "2025-08-27T21:45:03.650381Z"
    }
   },
   "outputs": [
    {
     "name": "stdout",
     "output_type": "stream",
     "text": [
      "####################################################################\n",
      "#    FINANCEPY Version 1.1 - This build: 27 Aug 2025 at 23:27      #\n",
      "#     This software is distributed FREE AND WITHOUT ANY WARRANTY   #\n",
      "#  Report bugs as issues at https://github.com/domokane/FinancePy  #\n",
      "####################################################################\n",
      "\n"
     ]
    }
   ],
   "source": [
    "from financepy.utils import Date, OptionTypes\n",
    "from financepy.models.black_scholes import BlackScholes\n",
    "from financepy.market.curves import DiscountCurveFlat\n",
    "from financepy.products.equity.equity_asian_option import EquityAsianOption\n",
    "from financepy.products.equity.equity_asian_option import AsianOptionValuationMethods"
   ]
  },
  {
   "cell_type": "markdown",
   "metadata": {},
   "source": [
    "# Define the Call and Put Options"
   ]
  },
  {
   "cell_type": "code",
   "execution_count": 3,
   "metadata": {
    "execution": {
     "iopub.execute_input": "2025-08-27T21:45:03.654189Z",
     "iopub.status.busy": "2025-08-27T21:45:03.653694Z",
     "iopub.status.idle": "2025-08-27T21:45:03.675746Z",
     "shell.execute_reply": "2025-08-27T21:45:03.675221Z"
    }
   },
   "outputs": [],
   "source": [
    "start_averaging_date = Date(1, 1, 2020)"
   ]
  },
  {
   "cell_type": "code",
   "execution_count": 4,
   "metadata": {
    "execution": {
     "iopub.execute_input": "2025-08-27T21:45:03.677855Z",
     "iopub.status.busy": "2025-08-27T21:45:03.677589Z",
     "iopub.status.idle": "2025-08-27T21:45:03.680303Z",
     "shell.execute_reply": "2025-08-27T21:45:03.679799Z"
    }
   },
   "outputs": [],
   "source": [
    "expiry_dt = Date(1, 1, 2021)"
   ]
  },
  {
   "cell_type": "code",
   "execution_count": 5,
   "metadata": {
    "execution": {
     "iopub.execute_input": "2025-08-27T21:45:03.682798Z",
     "iopub.status.busy": "2025-08-27T21:45:03.682508Z",
     "iopub.status.idle": "2025-08-27T21:45:03.685423Z",
     "shell.execute_reply": "2025-08-27T21:45:03.685005Z"
    }
   },
   "outputs": [],
   "source": [
    "strike_price = 100.0"
   ]
  },
  {
   "cell_type": "markdown",
   "metadata": {},
   "source": [
    "Assume daily observations"
   ]
  },
  {
   "cell_type": "code",
   "execution_count": 6,
   "metadata": {
    "execution": {
     "iopub.execute_input": "2025-08-27T21:45:03.687397Z",
     "iopub.status.busy": "2025-08-27T21:45:03.687151Z",
     "iopub.status.idle": "2025-08-27T21:45:03.690424Z",
     "shell.execute_reply": "2025-08-27T21:45:03.689912Z"
    }
   },
   "outputs": [],
   "source": [
    "num_observations = int(expiry_dt - start_averaging_date)"
   ]
  },
  {
   "cell_type": "code",
   "execution_count": 7,
   "metadata": {
    "execution": {
     "iopub.execute_input": "2025-08-27T21:45:03.692685Z",
     "iopub.status.busy": "2025-08-27T21:45:03.692458Z",
     "iopub.status.idle": "2025-08-27T21:45:03.695297Z",
     "shell.execute_reply": "2025-08-27T21:45:03.694714Z"
    }
   },
   "outputs": [],
   "source": [
    "asianOption = EquityAsianOption(start_averaging_date,\n",
    "                                   expiry_dt,\n",
    "                                   strike_price,\n",
    "                                   OptionTypes.EUROPEAN_CALL,\n",
    "                                   num_observations)"
   ]
  },
  {
   "cell_type": "code",
   "execution_count": 8,
   "metadata": {
    "execution": {
     "iopub.execute_input": "2025-08-27T21:45:03.697533Z",
     "iopub.status.busy": "2025-08-27T21:45:03.697307Z",
     "iopub.status.idle": "2025-08-27T21:45:03.700258Z",
     "shell.execute_reply": "2025-08-27T21:45:03.699897Z"
    }
   },
   "outputs": [
    {
     "name": "stdout",
     "output_type": "stream",
     "text": [
      "OBJECT TYPE: EquityAsianOption\n",
      "START AVERAGING DATE: 01-JAN-2020\n",
      "EXPIRY DATE: 01-JAN-2021\n",
      "STRIKE PRICE: 100.0\n",
      "OPTION TYPE: OptionTypes.EUROPEAN_CALL\n",
      "NUM OBSERVATIONS: 366\n"
     ]
    }
   ],
   "source": [
    "print(asianOption)"
   ]
  },
  {
   "cell_type": "markdown",
   "metadata": {},
   "source": [
    "## Valuation - Before Averaging Period"
   ]
  },
  {
   "cell_type": "code",
   "execution_count": 9,
   "metadata": {
    "execution": {
     "iopub.execute_input": "2025-08-27T21:45:03.702258Z",
     "iopub.status.busy": "2025-08-27T21:45:03.702026Z",
     "iopub.status.idle": "2025-08-27T21:45:03.704891Z",
     "shell.execute_reply": "2025-08-27T21:45:03.704416Z"
    }
   },
   "outputs": [],
   "source": [
    "value_dt = Date(1,1,2019)"
   ]
  },
  {
   "cell_type": "code",
   "execution_count": 10,
   "metadata": {
    "execution": {
     "iopub.execute_input": "2025-08-27T21:45:03.707511Z",
     "iopub.status.busy": "2025-08-27T21:45:03.707263Z",
     "iopub.status.idle": "2025-08-27T21:45:03.709865Z",
     "shell.execute_reply": "2025-08-27T21:45:03.709420Z"
    }
   },
   "outputs": [],
   "source": [
    "stock_price = 100.0\n",
    "volatility = 0.20\n",
    "interest_rate = 0.05\n",
    "dividend_yield = 0.01"
   ]
  },
  {
   "cell_type": "code",
   "execution_count": 11,
   "metadata": {
    "execution": {
     "iopub.execute_input": "2025-08-27T21:45:03.712434Z",
     "iopub.status.busy": "2025-08-27T21:45:03.711987Z",
     "iopub.status.idle": "2025-08-27T21:45:03.721896Z",
     "shell.execute_reply": "2025-08-27T21:45:03.721482Z"
    }
   },
   "outputs": [],
   "source": [
    "discount_curve = DiscountCurveFlat(value_dt, interest_rate)"
   ]
  },
  {
   "cell_type": "code",
   "execution_count": 12,
   "metadata": {
    "execution": {
     "iopub.execute_input": "2025-08-27T21:45:03.724564Z",
     "iopub.status.busy": "2025-08-27T21:45:03.724317Z",
     "iopub.status.idle": "2025-08-27T21:45:03.727815Z",
     "shell.execute_reply": "2025-08-27T21:45:03.727375Z"
    }
   },
   "outputs": [],
   "source": [
    "dividend_curve = DiscountCurveFlat(value_dt, dividend_yield)"
   ]
  },
  {
   "cell_type": "code",
   "execution_count": 13,
   "metadata": {
    "execution": {
     "iopub.execute_input": "2025-08-27T21:45:03.730365Z",
     "iopub.status.busy": "2025-08-27T21:45:03.730113Z",
     "iopub.status.idle": "2025-08-27T21:45:03.735252Z",
     "shell.execute_reply": "2025-08-27T21:45:03.734730Z"
    }
   },
   "outputs": [
    {
     "data": {
      "text/plain": [
       "366"
      ]
     },
     "execution_count": 13,
     "metadata": {},
     "output_type": "execute_result"
    }
   ],
   "source": [
    "num_observations"
   ]
  },
  {
   "cell_type": "code",
   "execution_count": 14,
   "metadata": {
    "execution": {
     "iopub.execute_input": "2025-08-27T21:45:03.737861Z",
     "iopub.status.busy": "2025-08-27T21:45:03.737352Z",
     "iopub.status.idle": "2025-08-27T21:45:03.740200Z",
     "shell.execute_reply": "2025-08-27T21:45:03.739800Z"
    }
   },
   "outputs": [],
   "source": [
    "model = BlackScholes(volatility)\n",
    "seed = 42\n",
    "accruedAverage = None"
   ]
  },
  {
   "cell_type": "markdown",
   "metadata": {},
   "source": [
    "There are a number of valuation approximations to the arithmetic average (AA) option (which does not have an analytical solution)"
   ]
  },
  {
   "cell_type": "markdown",
   "metadata": {},
   "source": [
    "First we have the Geometric Average (GA) price. This is not the same product of course but the GA is a good approximation for the AA and a LOWER BOUND."
   ]
  },
  {
   "cell_type": "code",
   "execution_count": 15,
   "metadata": {
    "execution": {
     "iopub.execute_input": "2025-08-27T21:45:03.742644Z",
     "iopub.status.busy": "2025-08-27T21:45:03.742406Z",
     "iopub.status.idle": "2025-08-27T21:45:03.746056Z",
     "shell.execute_reply": "2025-08-27T21:45:03.745694Z"
    }
   },
   "outputs": [
    {
     "data": {
      "text/plain": [
       "np.float64(11.451958344881993)"
      ]
     },
     "execution_count": 15,
     "metadata": {},
     "output_type": "execute_result"
    }
   ],
   "source": [
    "asianOption.value(value_dt, stock_price, discount_curve, dividend_curve, model,\n",
    "                  AsianOptionValuationMethods.GEOMETRIC, accruedAverage)"
   ]
  },
  {
   "cell_type": "markdown",
   "metadata": {},
   "source": [
    "Then we have Curran's approximation"
   ]
  },
  {
   "cell_type": "code",
   "execution_count": 16,
   "metadata": {
    "execution": {
     "iopub.execute_input": "2025-08-27T21:45:03.748243Z",
     "iopub.status.busy": "2025-08-27T21:45:03.747928Z",
     "iopub.status.idle": "2025-08-27T21:45:03.750832Z",
     "shell.execute_reply": "2025-08-27T21:45:03.750345Z"
    }
   },
   "outputs": [],
   "source": [
    "v_c = asianOption.value(value_dt, stock_price, discount_curve, dividend_curve, model,\n",
    "                  AsianOptionValuationMethods.CURRAN, accruedAverage)"
   ]
  },
  {
   "cell_type": "markdown",
   "metadata": {},
   "source": [
    "There is also Turnbull and Wakeman's approximation"
   ]
  },
  {
   "cell_type": "code",
   "execution_count": 17,
   "metadata": {
    "execution": {
     "iopub.execute_input": "2025-08-27T21:45:03.753244Z",
     "iopub.status.busy": "2025-08-27T21:45:03.752910Z",
     "iopub.status.idle": "2025-08-27T21:45:03.756906Z",
     "shell.execute_reply": "2025-08-27T21:45:03.756523Z"
    }
   },
   "outputs": [
    {
     "data": {
      "text/plain": [
       "np.float64(11.678251425546888)"
      ]
     },
     "execution_count": 17,
     "metadata": {},
     "output_type": "execute_result"
    }
   ],
   "source": [
    "asianOption.value(value_dt, stock_price, discount_curve, dividend_curve, model,\n",
    "                  AsianOptionValuationMethods.TURNBULL_WAKEMAN, accruedAverage)"
   ]
  },
  {
   "cell_type": "markdown",
   "metadata": {},
   "source": [
    "Or we can do it using Monte Carlo"
   ]
  },
  {
   "cell_type": "code",
   "execution_count": 18,
   "metadata": {
    "execution": {
     "iopub.execute_input": "2025-08-27T21:45:03.759341Z",
     "iopub.status.busy": "2025-08-27T21:45:03.759060Z",
     "iopub.status.idle": "2025-08-27T21:45:03.761764Z",
     "shell.execute_reply": "2025-08-27T21:45:03.761383Z"
    }
   },
   "outputs": [],
   "source": [
    "numPaths = 100000"
   ]
  },
  {
   "cell_type": "code",
   "execution_count": 19,
   "metadata": {
    "execution": {
     "iopub.execute_input": "2025-08-27T21:45:03.764150Z",
     "iopub.status.busy": "2025-08-27T21:45:03.763792Z",
     "iopub.status.idle": "2025-08-27T21:45:06.626801Z",
     "shell.execute_reply": "2025-08-27T21:45:06.626104Z"
    }
   },
   "outputs": [
    {
     "data": {
      "text/plain": [
       "11.66859340736469"
      ]
     },
     "execution_count": 19,
     "metadata": {},
     "output_type": "execute_result"
    }
   ],
   "source": [
    "asianOption.value_mc(value_dt, stock_price, discount_curve, dividend_curve, model,\n",
    "                    numPaths, seed, accruedAverage)"
   ]
  },
  {
   "cell_type": "markdown",
   "metadata": {},
   "source": [
    "Pricing is all clustered around 11.62."
   ]
  },
  {
   "cell_type": "markdown",
   "metadata": {},
   "source": [
    "## Convergence Test Before the Averaging Period"
   ]
  },
  {
   "cell_type": "code",
   "execution_count": 20,
   "metadata": {
    "execution": {
     "iopub.execute_input": "2025-08-27T21:45:06.628884Z",
     "iopub.status.busy": "2025-08-27T21:45:06.628644Z",
     "iopub.status.idle": "2025-08-27T21:45:06.631842Z",
     "shell.execute_reply": "2025-08-27T21:45:06.631147Z"
    }
   },
   "outputs": [],
   "source": [
    "num_paths = np.linspace(10000,20000,20)\n",
    "seed = 1219"
   ]
  },
  {
   "cell_type": "code",
   "execution_count": 21,
   "metadata": {
    "execution": {
     "iopub.execute_input": "2025-08-27T21:45:06.634410Z",
     "iopub.status.busy": "2025-08-27T21:45:06.634146Z",
     "iopub.status.idle": "2025-08-27T21:45:08.858238Z",
     "shell.execute_reply": "2025-08-27T21:45:08.857582Z"
    }
   },
   "outputs": [],
   "source": [
    "values = []\n",
    "for numPath in num_paths:\n",
    "    numPath = int(numPath)\n",
    "    v = asianOption.value_mc(value_dt, stock_price, discount_curve, dividend_curve, model, numPath, seed, accruedAverage)\n",
    "    values.append(v)"
   ]
  },
  {
   "cell_type": "code",
   "execution_count": 22,
   "metadata": {
    "execution": {
     "iopub.execute_input": "2025-08-27T21:45:08.860620Z",
     "iopub.status.busy": "2025-08-27T21:45:08.860375Z",
     "iopub.status.idle": "2025-08-27T21:45:09.016786Z",
     "shell.execute_reply": "2025-08-27T21:45:09.016293Z"
    }
   },
   "outputs": [
    {
     "data": {
      "text/plain": [
       "<matplotlib.legend.Legend at 0x1d1135f2cf0>"
      ]
     },
     "execution_count": 22,
     "metadata": {},
     "output_type": "execute_result"
    },
    {
     "data": {
      "image/png": "[encoded data removed]",
      "text/plain": [
       "<Figure size 640x480 with 1 Axes>"
      ]
     },
     "metadata": {},
     "output_type": "display_data"
    }
   ],
   "source": [
    "plt.plot(num_paths, values, label=\"Monte Carlo with Control Variate\")\n",
    "plt.xlabel(\"Num Steps\")\n",
    "plt.ylabel(\"Asian option price\")\n",
    "plt.plot(num_paths, [v] * len(num_paths), label = \"Turnbull-Wakeman\")\n",
    "plt.plot(num_paths, [v_c] * len(num_paths), label = \"Curran\")\n",
    "plt.legend()"
   ]
  },
  {
   "cell_type": "markdown",
   "metadata": {},
   "source": [
    "Recall that the source of the difference is that the analytical models are unable to exactly match the true arithmetic average distribution. In addition, a smaller effect is that they assume continuous monitoring of the barrier."
   ]
  },
  {
   "cell_type": "markdown",
   "metadata": {},
   "source": [
    "## Valuation - In the Averaging Period"
   ]
  },
  {
   "cell_type": "markdown",
   "metadata": {},
   "source": [
    "Once we are in the averaging period we need to track the average from the start of the averaging period to the value date"
   ]
  },
  {
   "cell_type": "code",
   "execution_count": 23,
   "metadata": {
    "execution": {
     "iopub.execute_input": "2025-08-27T21:45:09.019123Z",
     "iopub.status.busy": "2025-08-27T21:45:09.018856Z",
     "iopub.status.idle": "2025-08-27T21:45:09.023293Z",
     "shell.execute_reply": "2025-08-27T21:45:09.022786Z"
    }
   },
   "outputs": [],
   "source": [
    "value_dt = Date(1, 6, 2020)\n",
    "discount_curve = DiscountCurveFlat(value_dt, interest_rate)\n",
    "dividend_curve = DiscountCurveFlat(value_dt, dividend_yield)"
   ]
  },
  {
   "cell_type": "markdown",
   "metadata": {},
   "source": [
    "The stock price has increased to 105 and the average stock price has been 103.0"
   ]
  },
  {
   "cell_type": "code",
   "execution_count": 24,
   "metadata": {
    "execution": {
     "iopub.execute_input": "2025-08-27T21:45:09.025790Z",
     "iopub.status.busy": "2025-08-27T21:45:09.025513Z",
     "iopub.status.idle": "2025-08-27T21:45:09.028546Z",
     "shell.execute_reply": "2025-08-27T21:45:09.028156Z"
    }
   },
   "outputs": [],
   "source": [
    "stock_price = 105.0\n",
    "volatility = 0.20\n",
    "interest_rate = 0.05\n",
    "dividend_yield = 0.01\n",
    "accruedAverage = 101.0"
   ]
  },
  {
   "cell_type": "markdown",
   "metadata": {},
   "source": [
    "The geometric price is once again a LOWER BOUND"
   ]
  },
  {
   "cell_type": "code",
   "execution_count": 25,
   "metadata": {
    "execution": {
     "iopub.execute_input": "2025-08-27T21:45:09.030799Z",
     "iopub.status.busy": "2025-08-27T21:45:09.030447Z",
     "iopub.status.idle": "2025-08-27T21:45:09.034828Z",
     "shell.execute_reply": "2025-08-27T21:45:09.034343Z"
    }
   },
   "outputs": [
    {
     "data": {
      "text/plain": [
       "np.float64(4.50789693982226)"
      ]
     },
     "execution_count": 25,
     "metadata": {},
     "output_type": "execute_result"
    }
   ],
   "source": [
    "asianOption.value(value_dt, stock_price, discount_curve, dividend_curve, model,\n",
    "                  AsianOptionValuationMethods.GEOMETRIC, accruedAverage)"
   ]
  },
  {
   "cell_type": "code",
   "execution_count": 26,
   "metadata": {
    "execution": {
     "iopub.execute_input": "2025-08-27T21:45:09.036796Z",
     "iopub.status.busy": "2025-08-27T21:45:09.036571Z",
     "iopub.status.idle": "2025-08-27T21:45:09.040859Z",
     "shell.execute_reply": "2025-08-27T21:45:09.040274Z"
    }
   },
   "outputs": [
    {
     "data": {
      "text/plain": [
       "np.float64(4.608270929650449)"
      ]
     },
     "execution_count": 26,
     "metadata": {},
     "output_type": "execute_result"
    }
   ],
   "source": [
    "asianOption.value(value_dt, stock_price, discount_curve, dividend_curve, model,\n",
    "                  AsianOptionValuationMethods.CURRAN, accruedAverage)"
   ]
  },
  {
   "cell_type": "code",
   "execution_count": 27,
   "metadata": {
    "execution": {
     "iopub.execute_input": "2025-08-27T21:45:09.042915Z",
     "iopub.status.busy": "2025-08-27T21:45:09.042687Z",
     "iopub.status.idle": "2025-08-27T21:45:09.047500Z",
     "shell.execute_reply": "2025-08-27T21:45:09.046882Z"
    }
   },
   "outputs": [
    {
     "data": {
      "text/plain": [
       "np.float64(4.60998573685624)"
      ]
     },
     "execution_count": 27,
     "metadata": {},
     "output_type": "execute_result"
    }
   ],
   "source": [
    "asianOption.value(value_dt, stock_price, discount_curve, dividend_curve, model,\n",
    "                  AsianOptionValuationMethods.TURNBULL_WAKEMAN, accruedAverage)"
   ]
  },
  {
   "cell_type": "code",
   "execution_count": 28,
   "metadata": {
    "execution": {
     "iopub.execute_input": "2025-08-27T21:45:09.049675Z",
     "iopub.status.busy": "2025-08-27T21:45:09.049438Z",
     "iopub.status.idle": "2025-08-27T21:45:10.562035Z",
     "shell.execute_reply": "2025-08-27T21:45:10.561472Z"
    }
   },
   "outputs": [
    {
     "data": {
      "text/plain": [
       "4.595651702821771"
      ]
     },
     "execution_count": 28,
     "metadata": {},
     "output_type": "execute_result"
    }
   ],
   "source": [
    "asianOption.value_mc(value_dt, stock_price, discount_curve, dividend_curve, model,\n",
    "                    numPaths, seed, accruedAverage)"
   ]
  },
  {
   "cell_type": "markdown",
   "metadata": {},
   "source": [
    "These are all clustered around 4.59"
   ]
  },
  {
   "cell_type": "markdown",
   "metadata": {},
   "source": [
    "## Convergence Test In the Averaging Period"
   ]
  },
  {
   "cell_type": "code",
   "execution_count": 29,
   "metadata": {
    "execution": {
     "iopub.execute_input": "2025-08-27T21:45:10.564531Z",
     "iopub.status.busy": "2025-08-27T21:45:10.564199Z",
     "iopub.status.idle": "2025-08-27T21:45:10.567487Z",
     "shell.execute_reply": "2025-08-27T21:45:10.567031Z"
    }
   },
   "outputs": [],
   "source": [
    "num_paths = np.linspace(1000,20000,50)\n",
    "seed = 1219"
   ]
  },
  {
   "cell_type": "code",
   "execution_count": 30,
   "metadata": {
    "execution": {
     "iopub.execute_input": "2025-08-27T21:45:10.569933Z",
     "iopub.status.busy": "2025-08-27T21:45:10.569645Z",
     "iopub.status.idle": "2025-08-27T21:45:13.079525Z",
     "shell.execute_reply": "2025-08-27T21:45:13.078883Z"
    }
   },
   "outputs": [],
   "source": [
    "values = []\n",
    "for numPath in num_paths:\n",
    "    numPath = int(numPath)\n",
    "    v = asianOption.value_mc(value_dt, stock_price, discount_curve,\n",
    "                            dividend_curve, model, numPath, seed, accruedAverage)\n",
    "    values.append(v)"
   ]
  },
  {
   "cell_type": "code",
   "execution_count": 31,
   "metadata": {
    "execution": {
     "iopub.execute_input": "2025-08-27T21:45:13.081742Z",
     "iopub.status.busy": "2025-08-27T21:45:13.081509Z",
     "iopub.status.idle": "2025-08-27T21:45:13.199060Z",
     "shell.execute_reply": "2025-08-27T21:45:13.198340Z"
    }
   },
   "outputs": [
    {
     "data": {
      "text/plain": [
       "<matplotlib.legend.Legend at 0x1d1146c1a90>"
      ]
     },
     "execution_count": 31,
     "metadata": {},
     "output_type": "execute_result"
    },
    {
     "data": {
      "image/png": "[encoded data removed]",
      "text/plain": [
       "<Figure size 640x480 with 1 Axes>"
      ]
     },
     "metadata": {},
     "output_type": "display_data"
    }
   ],
   "source": [
    "plt.plot(num_paths, values, label=\"Monte Carlo with Control Variate\")\n",
    "plt.xlabel(\"Num Steps\")\n",
    "plt.ylabel(\"Asian option price\")\n",
    "plt.legend()"
   ]
  },
  {
   "cell_type": "markdown",
   "metadata": {},
   "source": [
    "Recall that the source of the difference is that the analytical models are unable to exactly match the true arithmetic average distribution. In addition, a smaller effect is that they assume continuous monitoring of the barrier. "
   ]
  },
  {
   "cell_type": "markdown",
   "metadata": {},
   "source": [
    "Copyright (c) 2020 Dominic O'Kane"
   ]
  }
 ],
 "metadata": {
  "kernelspec": {
   "display_name": "base",
   "language": "python",
   "name": "python3"
  },
  "language_info": {
   "codemirror_mode": {
    "name": "ipython",
    "version": 3
   },
   "file_extension": ".py",
   "mimetype": "text/x-python",
   "name": "python",
   "nbconvert_exporter": "python",
   "pygments_lexer": "ipython3",
   "version": "3.13.5"
  }
 },
 "nbformat": 4,
 "nbformat_minor": 2
}
