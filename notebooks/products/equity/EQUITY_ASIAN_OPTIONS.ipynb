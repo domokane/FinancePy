{
    "cells": [
        {
            "cell_type": "markdown",
            "metadata": {},
            "source": [
                "# EQUITY ASIAN OPTIONS - VALUATION ANALYSIS"
            ]
        },
        {
            "cell_type": "markdown",
            "metadata": {},
            "source": [
                "Valuation and Risk of Asian-style options. Detailed analysis of different valuation models."
            ]
        },
        {
            "cell_type": "code",
            "execution_count": 1,
            "metadata": {
                "execution": {
                    "iopub.execute_input": "2024-04-30T20:02:48.278418Z",
                    "iopub.status.busy": "2024-04-30T20:02:48.277385Z",
                    "iopub.status.idle": "2024-04-30T20:02:48.998114Z",
                    "shell.execute_reply": "2024-04-30T20:02:48.998114Z"
                }
            },
            "outputs": [],
            "source": [
                "import numpy as np\n",
                "import matplotlib.pyplot as plt"
            ]
        },
        {
            "cell_type": "code",
            "execution_count": 2,
            "metadata": {
                "execution": {
                    "iopub.execute_input": "2024-04-30T20:02:49.001161Z",
                    "iopub.status.busy": "2024-04-30T20:02:49.000165Z",
                    "iopub.status.idle": "2024-04-30T20:02:55.706851Z",
                    "shell.execute_reply": "2024-04-30T20:02:55.706851Z"
                }
            },
            "outputs": [
                {
                    "name": "stdout",
                    "output_type": "stream",
                    "text": [
                        "####################################################################\n",
                        "#  FINANCEPY BETA Version 0.350 - This build: 30 Apr 2024 at 21:20 #\n",
                        "#     This software is distributed FREE AND WITHOUT ANY WARRANTY   #\n",
                        "#  Report bugs as issues at https://github.com/domokane/FinancePy  #\n",
                        "####################################################################\n",
                        "\n"
                    ]
                }
            ],
            "source": [
                "from financepy.utils import *\n",
                "from financepy.market.curves import *\n",
                "from financepy.products.equity import *"
            ]
        },
        {
            "cell_type": "markdown",
            "metadata": {},
            "source": [
                "# Define the Call and Put Options"
            ]
        },
        {
            "cell_type": "code",
            "execution_count": 3,
            "metadata": {
                "execution": {
                    "iopub.execute_input": "2024-04-30T20:02:55.709867Z",
                    "iopub.status.busy": "2024-04-30T20:02:55.709867Z",
                    "iopub.status.idle": "2024-04-30T20:02:55.729556Z",
                    "shell.execute_reply": "2024-04-30T20:02:55.729556Z"
                }
            },
            "outputs": [],
            "source": [
                "start_averaging_date = Date(1, 1, 2020)"
            ]
        },
        {
            "cell_type": "code",
            "execution_count": 4,
            "metadata": {
                "execution": {
                    "iopub.execute_input": "2024-04-30T20:02:55.732574Z",
                    "iopub.status.busy": "2024-04-30T20:02:55.731604Z",
                    "iopub.status.idle": "2024-04-30T20:02:55.734842Z",
                    "shell.execute_reply": "2024-04-30T20:02:55.734842Z"
                }
            },
            "outputs": [],
            "source": [
                "expiry_dt = Date(1, 1, 2021)"
            ]
        },
        {
            "cell_type": "code",
            "execution_count": 5,
            "metadata": {
                "execution": {
                    "iopub.execute_input": "2024-04-30T20:02:55.737406Z",
                    "iopub.status.busy": "2024-04-30T20:02:55.737406Z",
                    "iopub.status.idle": "2024-04-30T20:02:55.739668Z",
                    "shell.execute_reply": "2024-04-30T20:02:55.739668Z"
                }
            },
            "outputs": [],
            "source": [
                "strike_price = 100.0"
            ]
        },
        {
            "cell_type": "markdown",
            "metadata": {},
            "source": [
                "Assume daily observations"
            ]
        },
        {
            "cell_type": "code",
            "execution_count": 6,
            "metadata": {
                "execution": {
                    "iopub.execute_input": "2024-04-30T20:02:55.742674Z",
                    "iopub.status.busy": "2024-04-30T20:02:55.742674Z",
                    "iopub.status.idle": "2024-04-30T20:02:55.745209Z",
                    "shell.execute_reply": "2024-04-30T20:02:55.745209Z"
                }
            },
            "outputs": [],
            "source": [
                "num_observations = int(expiry_dt - start_averaging_date)"
            ]
        },
        {
            "cell_type": "code",
            "execution_count": 7,
            "metadata": {
                "execution": {
                    "iopub.execute_input": "2024-04-30T20:02:55.747746Z",
                    "iopub.status.busy": "2024-04-30T20:02:55.747746Z",
                    "iopub.status.idle": "2024-04-30T20:02:55.749978Z",
                    "shell.execute_reply": "2024-04-30T20:02:55.749978Z"
                }
            },
            "outputs": [],
            "source": [
                "asianOption = EquityAsianOption(start_averaging_date, \n",
                "                                   expiry_dt, \n",
                "                                   strike_price, \n",
                "                                   OptionTypes.EUROPEAN_CALL, \n",
                "                                   num_observations)"
            ]
        },
        {
            "cell_type": "code",
            "execution_count": 8,
            "metadata": {
                "execution": {
                    "iopub.execute_input": "2024-04-30T20:02:55.751980Z",
                    "iopub.status.busy": "2024-04-30T20:02:55.751980Z",
                    "iopub.status.idle": "2024-04-30T20:02:55.754716Z",
                    "shell.execute_reply": "2024-04-30T20:02:55.754716Z"
                }
            },
            "outputs": [
                {
                    "name": "stdout",
                    "output_type": "stream",
                    "text": [
                        "OBJECT TYPE: EquityAsianOption\n",
                        "START AVERAGING DATE: 01-JAN-2020\n",
                        "EXPIRY DATE: 01-JAN-2021\n",
                        "STRIKE PRICE: 100.0\n",
                        "OPTION TYPE: OptionTypes.EUROPEAN_CALL\n",
                        "NUM OBSERVATIONS: 366\n"
                    ]
                }
            ],
            "source": [
                "print(asianOption)"
            ]
        },
        {
            "cell_type": "markdown",
            "metadata": {},
            "source": [
                "## Valuation - Before Averaging Period"
            ]
        },
        {
            "cell_type": "code",
            "execution_count": 9,
            "metadata": {
                "execution": {
                    "iopub.execute_input": "2024-04-30T20:02:55.757283Z",
                    "iopub.status.busy": "2024-04-30T20:02:55.756750Z",
                    "iopub.status.idle": "2024-04-30T20:02:55.759273Z",
                    "shell.execute_reply": "2024-04-30T20:02:55.759273Z"
                }
            },
            "outputs": [],
            "source": [
                "value_dt = Date(1,1,2019)"
            ]
        },
        {
            "cell_type": "code",
            "execution_count": 10,
            "metadata": {
                "execution": {
                    "iopub.execute_input": "2024-04-30T20:02:55.761276Z",
                    "iopub.status.busy": "2024-04-30T20:02:55.761276Z",
                    "iopub.status.idle": "2024-04-30T20:02:55.764378Z",
                    "shell.execute_reply": "2024-04-30T20:02:55.764015Z"
                }
            },
            "outputs": [],
            "source": [
                "stock_price = 100.0\n",
                "volatility = 0.20\n",
                "interest_rate = 0.05\n",
                "dividend_yield = 0.01"
            ]
        },
        {
            "cell_type": "code",
            "execution_count": 11,
            "metadata": {
                "execution": {
                    "iopub.execute_input": "2024-04-30T20:02:55.765408Z",
                    "iopub.status.busy": "2024-04-30T20:02:55.765408Z",
                    "iopub.status.idle": "2024-04-30T20:02:55.775196Z",
                    "shell.execute_reply": "2024-04-30T20:02:55.775196Z"
                }
            },
            "outputs": [],
            "source": [
                "discount_curve = DiscountCurveFlat(value_dt, interest_rate)"
            ]
        },
        {
            "cell_type": "code",
            "execution_count": 12,
            "metadata": {
                "execution": {
                    "iopub.execute_input": "2024-04-30T20:02:55.777768Z",
                    "iopub.status.busy": "2024-04-30T20:02:55.777768Z",
                    "iopub.status.idle": "2024-04-30T20:02:55.781975Z",
                    "shell.execute_reply": "2024-04-30T20:02:55.781459Z"
                }
            },
            "outputs": [],
            "source": [
                "dividend_curve = DiscountCurveFlat(value_dt, dividend_yield)"
            ]
        },
        {
            "cell_type": "code",
            "execution_count": 13,
            "metadata": {
                "execution": {
                    "iopub.execute_input": "2024-04-30T20:02:55.783511Z",
                    "iopub.status.busy": "2024-04-30T20:02:55.783511Z",
                    "iopub.status.idle": "2024-04-30T20:02:55.790082Z",
                    "shell.execute_reply": "2024-04-30T20:02:55.790082Z"
                }
            },
            "outputs": [
                {
                    "data": {
                        "text/plain": [
                            "366"
                        ]
                    },
                    "execution_count": 13,
                    "metadata": {},
                    "output_type": "execute_result"
                }
            ],
            "source": [
                "num_observations"
            ]
        },
        {
            "cell_type": "code",
            "execution_count": 14,
            "metadata": {
                "execution": {
                    "iopub.execute_input": "2024-04-30T20:02:55.792110Z",
                    "iopub.status.busy": "2024-04-30T20:02:55.792110Z",
                    "iopub.status.idle": "2024-04-30T20:02:55.795633Z",
                    "shell.execute_reply": "2024-04-30T20:02:55.795151Z"
                }
            },
            "outputs": [],
            "source": [
                "model = BlackScholes(volatility)\n",
                "seed = 42\n",
                "accruedAverage = None"
            ]
        },
        {
            "cell_type": "markdown",
            "metadata": {},
            "source": [
                "There are a number of valuation approximations to the arithmetic average (AA) option (which does not have an analytical solution)"
            ]
        },
        {
            "cell_type": "markdown",
            "metadata": {},
            "source": [
                "First we have the Geometric Average (GA) price. This is not the same product of course but the GA is a good approximation for the AA and a LOWER BOUND."
            ]
        },
        {
            "cell_type": "code",
            "execution_count": 15,
            "metadata": {
                "execution": {
                    "iopub.execute_input": "2024-04-30T20:02:55.797633Z",
                    "iopub.status.busy": "2024-04-30T20:02:55.797633Z",
                    "iopub.status.idle": "2024-04-30T20:02:55.801418Z",
                    "shell.execute_reply": "2024-04-30T20:02:55.801418Z"
                }
            },
            "outputs": [
                {
                    "data": {
                        "text/plain": [
                            "11.451958344881993"
                        ]
                    },
                    "execution_count": 15,
                    "metadata": {},
                    "output_type": "execute_result"
                }
            ],
            "source": [
                "asianOption.value(value_dt, stock_price, discount_curve, dividend_curve, model, \n",
                "                  AsianOptionValuationMethods.GEOMETRIC, accruedAverage)"
            ]
        },
        {
            "cell_type": "markdown",
            "metadata": {},
            "source": [
                "Then we have Curran's approximation"
            ]
        },
        {
            "cell_type": "code",
            "execution_count": 16,
            "metadata": {
                "execution": {
                    "iopub.execute_input": "2024-04-30T20:02:55.804417Z",
                    "iopub.status.busy": "2024-04-30T20:02:55.803420Z",
                    "iopub.status.idle": "2024-04-30T20:02:55.806893Z",
                    "shell.execute_reply": "2024-04-30T20:02:55.806893Z"
                }
            },
            "outputs": [],
            "source": [
                "v_c = asianOption.value(value_dt, stock_price, discount_curve, dividend_curve, model, \n",
                "                  AsianOptionValuationMethods.CURRAN, accruedAverage)"
            ]
        },
        {
            "cell_type": "markdown",
            "metadata": {},
            "source": [
                "There is also Turnbull and Wakeman's approximation"
            ]
        },
        {
            "cell_type": "code",
            "execution_count": 17,
            "metadata": {
                "execution": {
                    "iopub.execute_input": "2024-04-30T20:02:55.809956Z",
                    "iopub.status.busy": "2024-04-30T20:02:55.809956Z",
                    "iopub.status.idle": "2024-04-30T20:02:55.814032Z",
                    "shell.execute_reply": "2024-04-30T20:02:55.814032Z"
                }
            },
            "outputs": [
                {
                    "data": {
                        "text/plain": [
                            "11.678251425546895"
                        ]
                    },
                    "execution_count": 17,
                    "metadata": {},
                    "output_type": "execute_result"
                }
            ],
            "source": [
                "asianOption.value(value_dt, stock_price, discount_curve, dividend_curve, model, \n",
                "                  AsianOptionValuationMethods.TURNBULL_WAKEMAN, accruedAverage)"
            ]
        },
        {
            "cell_type": "markdown",
            "metadata": {},
            "source": [
                "Or we can do it using Monte Carlo"
            ]
        },
        {
            "cell_type": "code",
            "execution_count": 18,
            "metadata": {
                "execution": {
                    "iopub.execute_input": "2024-04-30T20:02:55.817061Z",
                    "iopub.status.busy": "2024-04-30T20:02:55.816033Z",
                    "iopub.status.idle": "2024-04-30T20:02:55.819769Z",
                    "shell.execute_reply": "2024-04-30T20:02:55.819295Z"
                }
            },
            "outputs": [],
            "source": [
                "numPaths = 100000"
            ]
        },
        {
            "cell_type": "code",
            "execution_count": 19,
            "metadata": {
                "execution": {
                    "iopub.execute_input": "2024-04-30T20:02:55.821767Z",
                    "iopub.status.busy": "2024-04-30T20:02:55.821767Z",
                    "iopub.status.idle": "2024-04-30T20:02:59.479665Z",
                    "shell.execute_reply": "2024-04-30T20:02:59.479665Z"
                }
            },
            "outputs": [
                {
                    "data": {
                        "text/plain": [
                            "11.66859340736466"
                        ]
                    },
                    "execution_count": 19,
                    "metadata": {},
                    "output_type": "execute_result"
                }
            ],
            "source": [
                "asianOption.value_mc(value_dt, stock_price, discount_curve, dividend_curve, model, \n",
                "                    numPaths, seed, accruedAverage)"
            ]
        },
        {
            "cell_type": "markdown",
            "metadata": {},
            "source": [
                "Pricing is all clustered around 11.62."
            ]
        },
        {
            "cell_type": "markdown",
            "metadata": {},
            "source": [
                "## Convergence Test Before the Averaging Period"
            ]
        },
        {
            "cell_type": "code",
            "execution_count": 20,
            "metadata": {
                "execution": {
                    "iopub.execute_input": "2024-04-30T20:02:59.482238Z",
                    "iopub.status.busy": "2024-04-30T20:02:59.482238Z",
                    "iopub.status.idle": "2024-04-30T20:02:59.485407Z",
                    "shell.execute_reply": "2024-04-30T20:02:59.485407Z"
                }
            },
            "outputs": [],
            "source": [
                "num_paths = np.linspace(10000,20000,20)\n",
                "seed = 1219"
            ]
        },
        {
            "cell_type": "code",
            "execution_count": 21,
            "metadata": {
                "execution": {
                    "iopub.execute_input": "2024-04-30T20:02:59.487970Z",
                    "iopub.status.busy": "2024-04-30T20:02:59.487970Z",
                    "iopub.status.idle": "2024-04-30T20:03:04.434000Z",
                    "shell.execute_reply": "2024-04-30T20:03:04.434000Z"
                }
            },
            "outputs": [],
            "source": [
                "values = []\n",
                "for numPath in num_paths:\n",
                "    numPath = int(numPath)\n",
                "    v = asianOption.value_mc(value_dt, stock_price, discount_curve, dividend_curve, model, numPath, seed, accruedAverage)\n",
                "    values.append(v)"
            ]
        },
        {
            "cell_type": "code",
            "execution_count": 22,
            "metadata": {
                "execution": {
                    "iopub.execute_input": "2024-04-30T20:03:04.436032Z",
                    "iopub.status.busy": "2024-04-30T20:03:04.436032Z",
                    "iopub.status.idle": "2024-04-30T20:03:04.649989Z",
                    "shell.execute_reply": "2024-04-30T20:03:04.649989Z"
                }
            },
            "outputs": [
                {
                    "data": {
                        "text/plain": [
                            "<matplotlib.legend.Legend at 0x16ed7333e50>"
                        ]
                    },
                    "execution_count": 22,
                    "metadata": {},
                    "output_type": "execute_result"
                },
                {
                    "data": {
                        "image/png": "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",
                        "text/plain": [
                            "<Figure size 640x480 with 1 Axes>"
                        ]
                    },
                    "metadata": {},
                    "output_type": "display_data"
                }
            ],
            "source": [
                "plt.plot(num_paths, values, label=\"Monte Carlo with Control Variate\")\n",
                "plt.xlabel(\"Num Steps\")\n",
                "plt.ylabel(\"Asian option price\")\n",
                "plt.plot(num_paths, [v] * len(num_paths), label = \"Turnbull-Wakeman\")\n",
                "plt.plot(num_paths, [v_c] * len(num_paths), label = \"Curran\")\n",
                "plt.legend()"
            ]
        },
        {
            "cell_type": "markdown",
            "metadata": {},
            "source": [
                "Recall that the source of the difference is that the analytical models are unable to exactly match the true arithmetic average distribution. In addition, a smaller effect is that they assume continuous monitoring of the barrier."
            ]
        },
        {
            "cell_type": "markdown",
            "metadata": {},
            "source": [
                "## Valuation - In the Averaging Period"
            ]
        },
        {
            "cell_type": "markdown",
            "metadata": {},
            "source": [
                "Once we are in the averaging period we need to track the average from the start of the averaging period to the value date"
            ]
        },
        {
            "cell_type": "code",
            "execution_count": 23,
            "metadata": {
                "execution": {
                    "iopub.execute_input": "2024-04-30T20:03:04.653018Z",
                    "iopub.status.busy": "2024-04-30T20:03:04.653018Z",
                    "iopub.status.idle": "2024-04-30T20:03:04.658447Z",
                    "shell.execute_reply": "2024-04-30T20:03:04.658447Z"
                }
            },
            "outputs": [],
            "source": [
                "value_dt = Date(1, 6, 2020)\n",
                "discount_curve = DiscountCurveFlat(value_dt, interest_rate)\n",
                "dividend_curve = DiscountCurveFlat(value_dt, dividend_yield)"
            ]
        },
        {
            "cell_type": "markdown",
            "metadata": {},
            "source": [
                "The stock price has increased to 105 and the average stock price has been 103.0"
            ]
        },
        {
            "cell_type": "code",
            "execution_count": 24,
            "metadata": {
                "execution": {
                    "iopub.execute_input": "2024-04-30T20:03:04.661475Z",
                    "iopub.status.busy": "2024-04-30T20:03:04.661475Z",
                    "iopub.status.idle": "2024-04-30T20:03:04.664304Z",
                    "shell.execute_reply": "2024-04-30T20:03:04.664304Z"
                }
            },
            "outputs": [],
            "source": [
                "stock_price = 105.0\n",
                "volatility = 0.20\n",
                "interest_rate = 0.05\n",
                "dividend_yield = 0.01\n",
                "accruedAverage = 101.0"
            ]
        },
        {
            "cell_type": "markdown",
            "metadata": {},
            "source": [
                "The geometric price is once again a LOWER BOUND"
            ]
        },
        {
            "cell_type": "code",
            "execution_count": 25,
            "metadata": {
                "execution": {
                    "iopub.execute_input": "2024-04-30T20:03:04.666870Z",
                    "iopub.status.busy": "2024-04-30T20:03:04.666870Z",
                    "iopub.status.idle": "2024-04-30T20:03:04.671652Z",
                    "shell.execute_reply": "2024-04-30T20:03:04.671652Z"
                }
            },
            "outputs": [
                {
                    "data": {
                        "text/plain": [
                            "4.50789693982226"
                        ]
                    },
                    "execution_count": 25,
                    "metadata": {},
                    "output_type": "execute_result"
                }
            ],
            "source": [
                "asianOption.value(value_dt, stock_price, discount_curve, dividend_curve, model, \n",
                "                  AsianOptionValuationMethods.GEOMETRIC, accruedAverage)"
            ]
        },
        {
            "cell_type": "code",
            "execution_count": 26,
            "metadata": {
                "execution": {
                    "iopub.execute_input": "2024-04-30T20:03:04.674680Z",
                    "iopub.status.busy": "2024-04-30T20:03:04.674680Z",
                    "iopub.status.idle": "2024-04-30T20:03:04.680022Z",
                    "shell.execute_reply": "2024-04-30T20:03:04.679002Z"
                }
            },
            "outputs": [
                {
                    "data": {
                        "text/plain": [
                            "4.608270929650449"
                        ]
                    },
                    "execution_count": 26,
                    "metadata": {},
                    "output_type": "execute_result"
                }
            ],
            "source": [
                "asianOption.value(value_dt, stock_price, discount_curve, dividend_curve, model, \n",
                "                  AsianOptionValuationMethods.CURRAN, accruedAverage)"
            ]
        },
        {
            "cell_type": "code",
            "execution_count": 27,
            "metadata": {
                "execution": {
                    "iopub.execute_input": "2024-04-30T20:03:04.682045Z",
                    "iopub.status.busy": "2024-04-30T20:03:04.682045Z",
                    "iopub.status.idle": "2024-04-30T20:03:04.687159Z",
                    "shell.execute_reply": "2024-04-30T20:03:04.687159Z"
                }
            },
            "outputs": [
                {
                    "data": {
                        "text/plain": [
                            "4.609985736856248"
                        ]
                    },
                    "execution_count": 27,
                    "metadata": {},
                    "output_type": "execute_result"
                }
            ],
            "source": [
                "asianOption.value(value_dt, stock_price, discount_curve, dividend_curve, model, \n",
                "                  AsianOptionValuationMethods.TURNBULL_WAKEMAN, accruedAverage)"
            ]
        },
        {
            "cell_type": "code",
            "execution_count": 28,
            "metadata": {
                "execution": {
                    "iopub.execute_input": "2024-04-30T20:03:04.690187Z",
                    "iopub.status.busy": "2024-04-30T20:03:04.690187Z",
                    "iopub.status.idle": "2024-04-30T20:03:06.860691Z",
                    "shell.execute_reply": "2024-04-30T20:03:06.860098Z"
                }
            },
            "outputs": [
                {
                    "data": {
                        "text/plain": [
                            "4.595651702821762"
                        ]
                    },
                    "execution_count": 28,
                    "metadata": {},
                    "output_type": "execute_result"
                }
            ],
            "source": [
                "asianOption.value_mc(value_dt, stock_price, discount_curve, dividend_curve, model, \n",
                "                    numPaths, seed, accruedAverage)"
            ]
        },
        {
            "cell_type": "markdown",
            "metadata": {},
            "source": [
                "These are all clustered around 4.59"
            ]
        },
        {
            "cell_type": "markdown",
            "metadata": {},
            "source": [
                "## Convergence Test In the Averaging Period"
            ]
        },
        {
            "cell_type": "code",
            "execution_count": 29,
            "metadata": {
                "execution": {
                    "iopub.execute_input": "2024-04-30T20:03:06.862717Z",
                    "iopub.status.busy": "2024-04-30T20:03:06.862717Z",
                    "iopub.status.idle": "2024-04-30T20:03:06.865799Z",
                    "shell.execute_reply": "2024-04-30T20:03:06.865799Z"
                }
            },
            "outputs": [],
            "source": [
                "num_paths = np.linspace(1000,20000,50)\n",
                "seed = 1219"
            ]
        },
        {
            "cell_type": "code",
            "execution_count": 30,
            "metadata": {
                "execution": {
                    "iopub.execute_input": "2024-04-30T20:03:06.867801Z",
                    "iopub.status.busy": "2024-04-30T20:03:06.867801Z",
                    "iopub.status.idle": "2024-04-30T20:03:12.031943Z",
                    "shell.execute_reply": "2024-04-30T20:03:12.031943Z"
                }
            },
            "outputs": [],
            "source": [
                "values = []\n",
                "for numPath in num_paths:\n",
                "    numPath = int(numPath)\n",
                "    v = asianOption.value_mc(value_dt, stock_price, discount_curve, \n",
                "                            dividend_curve, model, numPath, seed, accruedAverage)\n",
                "    values.append(v)"
            ]
        },
        {
            "cell_type": "code",
            "execution_count": 31,
            "metadata": {
                "execution": {
                    "iopub.execute_input": "2024-04-30T20:03:12.034970Z",
                    "iopub.status.busy": "2024-04-30T20:03:12.034970Z",
                    "iopub.status.idle": "2024-04-30T20:03:12.202568Z",
                    "shell.execute_reply": "2024-04-30T20:03:12.202568Z"
                }
            },
            "outputs": [
                {
                    "data": {
                        "text/plain": [
                            "<matplotlib.legend.Legend at 0x16ed73142d0>"
                        ]
                    },
                    "execution_count": 31,
                    "metadata": {},
                    "output_type": "execute_result"
                },
                {
                    "data": {
                        "image/png": "[encoded data removed]",
                        "text/plain": [
                            "<Figure size 640x480 with 1 Axes>"
                        ]
                    },
                    "metadata": {},
                    "output_type": "display_data"
                }
            ],
            "source": [
                "plt.plot(num_paths, values, label=\"Monte Carlo with Control Variate\")\n",
                "plt.xlabel(\"Num Steps\")\n",
                "plt.ylabel(\"Asian option price\")\n",
                "plt.legend()"
            ]
        },
        {
            "cell_type": "markdown",
            "metadata": {},
            "source": [
                "Recall that the source of the difference is that the analytical models are unable to exactly match the true arithmetic average distribution. In addition, a smaller effect is that they assume continuous monitoring of the barrier. "
            ]
        },
        {
            "cell_type": "markdown",
            "metadata": {},
            "source": [
                "Copyright (c) 2020 Dominic O'Kane"
            ]
        }
    ],
    "metadata": {
        "kernelspec": {
            "display_name": "Python 3 (ipykernel)",
            "language": "python",
            "name": "python3"
        },
        "language_info": {
            "codemirror_mode": {
                "name": "ipython",
                "version": 3
            },
            "file_extension": ".py",
            "mimetype": "text/x-python",
            "name": "python",
            "nbconvert_exporter": "python",
            "pygments_lexer": "ipython3",
            "version": "3.11.5"
        }
    },
    "nbformat": 4,
    "nbformat_minor": 2
}