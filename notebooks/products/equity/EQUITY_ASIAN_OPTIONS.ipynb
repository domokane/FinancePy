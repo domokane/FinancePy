{
 "cells": [
  {
   "cell_type": "markdown",
   "metadata": {},
   "source": [
    "# EQUITY ASIAN OPTIONS - VALUATION ANALYSIS"
   ]
  },
  {
   "cell_type": "markdown",
   "metadata": {},
   "source": [
    "Valuation and Risk of Asian-style options. Detailed analysis of different valuation models."
   ]
  },
  {
   "cell_type": "code",
   "execution_count": 1,
   "metadata": {
    "execution": {
     "iopub.execute_input": "2025-09-14T22:22:12.792949Z",
     "iopub.status.busy": "2025-09-14T22:22:12.792602Z",
     "iopub.status.idle": "2025-09-14T22:22:13.056240Z",
     "shell.execute_reply": "2025-09-14T22:22:13.055825Z"
    }
   },
   "outputs": [],
   "source": [
    "import numpy as np\n",
    "import matplotlib.pyplot as plt"
   ]
  },
  {
   "cell_type": "code",
   "execution_count": 2,
   "metadata": {
    "execution": {
     "iopub.execute_input": "2025-09-14T22:22:13.058401Z",
     "iopub.status.busy": "2025-09-14T22:22:13.058151Z",
     "iopub.status.idle": "2025-09-14T22:22:15.069131Z",
     "shell.execute_reply": "2025-09-14T22:22:15.068537Z"
    }
   },
   "outputs": [],
   "source": [
    "from financepy.utils import Date, OptionTypes\n",
    "from financepy.models.black_scholes import BlackScholes\n",
    "from financepy.market.curves import DiscountCurveFlat\n",
    "from financepy.products.equity.equity_asian_option import EquityAsianOption\n",
    "from financepy.products.equity.equity_asian_option import AsianOptionValuationMethods"
   ]
  },
  {
   "cell_type": "markdown",
   "metadata": {},
   "source": [
    "# Define the Call and Put Options"
   ]
  },
  {
   "cell_type": "code",
   "execution_count": 3,
   "metadata": {
    "execution": {
     "iopub.execute_input": "2025-09-14T22:22:15.072379Z",
     "iopub.status.busy": "2025-09-14T22:22:15.072149Z",
     "iopub.status.idle": "2025-09-14T22:22:15.089941Z",
     "shell.execute_reply": "2025-09-14T22:22:15.089538Z"
    }
   },
   "outputs": [],
   "source": [
    "start_averaging_date = Date(1, 1, 2020)"
   ]
  },
  {
   "cell_type": "code",
   "execution_count": 4,
   "metadata": {
    "execution": {
     "iopub.execute_input": "2025-09-14T22:22:15.091649Z",
     "iopub.status.busy": "2025-09-14T22:22:15.091508Z",
     "iopub.status.idle": "2025-09-14T22:22:15.093833Z",
     "shell.execute_reply": "2025-09-14T22:22:15.093530Z"
    }
   },
   "outputs": [],
   "source": [
    "expiry_dt = Date(1, 1, 2021)"
   ]
  },
  {
   "cell_type": "code",
   "execution_count": 5,
   "metadata": {
    "execution": {
     "iopub.execute_input": "2025-09-14T22:22:15.096532Z",
     "iopub.status.busy": "2025-09-14T22:22:15.095994Z",
     "iopub.status.idle": "2025-09-14T22:22:15.098982Z",
     "shell.execute_reply": "2025-09-14T22:22:15.098647Z"
    }
   },
   "outputs": [],
   "source": [
    "strike_price = 100.0"
   ]
  },
  {
   "cell_type": "markdown",
   "metadata": {},
   "source": [
    "Assume daily observations"
   ]
  },
  {
   "cell_type": "code",
   "execution_count": 6,
   "metadata": {
    "execution": {
     "iopub.execute_input": "2025-09-14T22:22:15.100470Z",
     "iopub.status.busy": "2025-09-14T22:22:15.100305Z",
     "iopub.status.idle": "2025-09-14T22:22:15.102338Z",
     "shell.execute_reply": "2025-09-14T22:22:15.102059Z"
    }
   },
   "outputs": [],
   "source": [
    "num_observations = int(expiry_dt - start_averaging_date)"
   ]
  },
  {
   "cell_type": "code",
   "execution_count": 7,
   "metadata": {
    "execution": {
     "iopub.execute_input": "2025-09-14T22:22:15.103582Z",
     "iopub.status.busy": "2025-09-14T22:22:15.103475Z",
     "iopub.status.idle": "2025-09-14T22:22:15.105506Z",
     "shell.execute_reply": "2025-09-14T22:22:15.105135Z"
    }
   },
   "outputs": [],
   "source": [
    "asianOption = EquityAsianOption(start_averaging_date,\n",
    "                                   expiry_dt,\n",
    "                                   strike_price,\n",
    "                                   OptionTypes.EUROPEAN_CALL,\n",
    "                                   num_observations)"
   ]
  },
  {
   "cell_type": "code",
   "execution_count": 8,
   "metadata": {
    "execution": {
     "iopub.execute_input": "2025-09-14T22:22:15.107466Z",
     "iopub.status.busy": "2025-09-14T22:22:15.107356Z",
     "iopub.status.idle": "2025-09-14T22:22:15.110504Z",
     "shell.execute_reply": "2025-09-14T22:22:15.110207Z"
    }
   },
   "outputs": [
    {
     "name": "stdout",
     "output_type": "stream",
     "text": [
      "OBJECT TYPE: EquityAsianOption\n",
      "START AVERAGING DATE: 01-JAN-2020\n",
      "EXPIRY DATE: 01-JAN-2021\n",
      "STRIKE PRICE: 100.0\n",
      "OPTION TYPE: OptionTypes.EUROPEAN_CALL\n",
      "NUM OBSERVATIONS: 366\n"
     ]
    }
   ],
   "source": [
    "print(asianOption)"
   ]
  },
  {
   "cell_type": "markdown",
   "metadata": {},
   "source": [
    "## Valuation - Before Averaging Period"
   ]
  },
  {
   "cell_type": "code",
   "execution_count": 9,
   "metadata": {
    "execution": {
     "iopub.execute_input": "2025-09-14T22:22:15.112728Z",
     "iopub.status.busy": "2025-09-14T22:22:15.112314Z",
     "iopub.status.idle": "2025-09-14T22:22:15.114569Z",
     "shell.execute_reply": "2025-09-14T22:22:15.114261Z"
    }
   },
   "outputs": [],
   "source": [
    "value_dt = Date(1,1,2019)"
   ]
  },
  {
   "cell_type": "code",
   "execution_count": 10,
   "metadata": {
    "execution": {
     "iopub.execute_input": "2025-09-14T22:22:15.115793Z",
     "iopub.status.busy": "2025-09-14T22:22:15.115684Z",
     "iopub.status.idle": "2025-09-14T22:22:15.117466Z",
     "shell.execute_reply": "2025-09-14T22:22:15.117199Z"
    }
   },
   "outputs": [],
   "source": [
    "stock_price = 100.0\n",
    "volatility = 0.20\n",
    "interest_rate = 0.05\n",
    "dividend_yield = 0.01"
   ]
  },
  {
   "cell_type": "code",
   "execution_count": 11,
   "metadata": {
    "execution": {
     "iopub.execute_input": "2025-09-14T22:22:15.118526Z",
     "iopub.status.busy": "2025-09-14T22:22:15.118352Z",
     "iopub.status.idle": "2025-09-14T22:22:15.128338Z",
     "shell.execute_reply": "2025-09-14T22:22:15.127557Z"
    }
   },
   "outputs": [],
   "source": [
    "discount_curve = DiscountCurveFlat(value_dt, interest_rate)"
   ]
  },
  {
   "cell_type": "code",
   "execution_count": 12,
   "metadata": {
    "execution": {
     "iopub.execute_input": "2025-09-14T22:22:15.130592Z",
     "iopub.status.busy": "2025-09-14T22:22:15.130448Z",
     "iopub.status.idle": "2025-09-14T22:22:15.132846Z",
     "shell.execute_reply": "2025-09-14T22:22:15.132572Z"
    }
   },
   "outputs": [],
   "source": [
    "dividend_curve = DiscountCurveFlat(value_dt, dividend_yield)"
   ]
  },
  {
   "cell_type": "code",
   "execution_count": 13,
   "metadata": {
    "execution": {
     "iopub.execute_input": "2025-09-14T22:22:15.135318Z",
     "iopub.status.busy": "2025-09-14T22:22:15.135152Z",
     "iopub.status.idle": "2025-09-14T22:22:15.138902Z",
     "shell.execute_reply": "2025-09-14T22:22:15.138586Z"
    }
   },
   "outputs": [
    {
     "data": {
      "text/plain": [
       "366"
      ]
     },
     "execution_count": 13,
     "metadata": {},
     "output_type": "execute_result"
    }
   ],
   "source": [
    "num_observations"
   ]
  },
  {
   "cell_type": "code",
   "execution_count": 14,
   "metadata": {
    "execution": {
     "iopub.execute_input": "2025-09-14T22:22:15.140349Z",
     "iopub.status.busy": "2025-09-14T22:22:15.140224Z",
     "iopub.status.idle": "2025-09-14T22:22:15.142126Z",
     "shell.execute_reply": "2025-09-14T22:22:15.141839Z"
    }
   },
   "outputs": [],
   "source": [
    "model = BlackScholes(volatility)\n",
    "seed = 42\n",
    "accruedAverage = None"
   ]
  },
  {
   "cell_type": "markdown",
   "metadata": {},
   "source": [
    "There are a number of valuation approximations to the arithmetic average (AA) option (which does not have an analytical solution)"
   ]
  },
  {
   "cell_type": "markdown",
   "metadata": {},
   "source": [
    "First we have the Geometric Average (GA) price. This is not the same product of course but the GA is a good approximation for the AA and a LOWER BOUND."
   ]
  },
  {
   "cell_type": "code",
   "execution_count": 15,
   "metadata": {
    "execution": {
     "iopub.execute_input": "2025-09-14T22:22:15.143445Z",
     "iopub.status.busy": "2025-09-14T22:22:15.143339Z",
     "iopub.status.idle": "2025-09-14T22:22:15.147403Z",
     "shell.execute_reply": "2025-09-14T22:22:15.147092Z"
    }
   },
   "outputs": [
    {
     "data": {
      "text/plain": [
       "np.float64(11.451958344881993)"
      ]
     },
     "execution_count": 15,
     "metadata": {},
     "output_type": "execute_result"
    }
   ],
   "source": [
    "asianOption.value(value_dt, stock_price, discount_curve, dividend_curve, model,\n",
    "                  AsianOptionValuationMethods.GEOMETRIC, accruedAverage)"
   ]
  },
  {
   "cell_type": "markdown",
   "metadata": {},
   "source": [
    "Then we have Curran's approximation"
   ]
  },
  {
   "cell_type": "code",
   "execution_count": 16,
   "metadata": {
    "execution": {
     "iopub.execute_input": "2025-09-14T22:22:15.148693Z",
     "iopub.status.busy": "2025-09-14T22:22:15.148552Z",
     "iopub.status.idle": "2025-09-14T22:22:15.150791Z",
     "shell.execute_reply": "2025-09-14T22:22:15.150504Z"
    }
   },
   "outputs": [],
   "source": [
    "v_c = asianOption.value(value_dt, stock_price, discount_curve, dividend_curve, model,\n",
    "                  AsianOptionValuationMethods.CURRAN, accruedAverage)"
   ]
  },
  {
   "cell_type": "markdown",
   "metadata": {},
   "source": [
    "There is also Turnbull and Wakeman's approximation"
   ]
  },
  {
   "cell_type": "code",
   "execution_count": 17,
   "metadata": {
    "execution": {
     "iopub.execute_input": "2025-09-14T22:22:15.153440Z",
     "iopub.status.busy": "2025-09-14T22:22:15.153083Z",
     "iopub.status.idle": "2025-09-14T22:22:15.156820Z",
     "shell.execute_reply": "2025-09-14T22:22:15.156473Z"
    }
   },
   "outputs": [
    {
     "data": {
      "text/plain": [
       "np.float64(11.678251425546888)"
      ]
     },
     "execution_count": 17,
     "metadata": {},
     "output_type": "execute_result"
    }
   ],
   "source": [
    "asianOption.value(value_dt, stock_price, discount_curve, dividend_curve, model,\n",
    "                  AsianOptionValuationMethods.TURNBULL_WAKEMAN, accruedAverage)"
   ]
  },
  {
   "cell_type": "markdown",
   "metadata": {},
   "source": [
    "Or we can do it using Monte Carlo"
   ]
  },
  {
   "cell_type": "code",
   "execution_count": 18,
   "metadata": {
    "execution": {
     "iopub.execute_input": "2025-09-14T22:22:15.158282Z",
     "iopub.status.busy": "2025-09-14T22:22:15.158101Z",
     "iopub.status.idle": "2025-09-14T22:22:15.159991Z",
     "shell.execute_reply": "2025-09-14T22:22:15.159714Z"
    }
   },
   "outputs": [],
   "source": [
    "numPaths = 100000"
   ]
  },
  {
   "cell_type": "code",
   "execution_count": 19,
   "metadata": {
    "execution": {
     "iopub.execute_input": "2025-09-14T22:22:15.161328Z",
     "iopub.status.busy": "2025-09-14T22:22:15.161212Z",
     "iopub.status.idle": "2025-09-14T22:22:15.749077Z",
     "shell.execute_reply": "2025-09-14T22:22:15.748526Z"
    }
   },
   "outputs": [
    {
     "data": {
      "text/plain": [
       "11.684955575040858"
      ]
     },
     "execution_count": 19,
     "metadata": {},
     "output_type": "execute_result"
    }
   ],
   "source": [
    "asianOption.value_mc(value_dt, stock_price, discount_curve, dividend_curve, model,\n",
    "                    numPaths, seed, accruedAverage)"
   ]
  },
  {
   "cell_type": "markdown",
   "metadata": {},
   "source": [
    "Pricing is all clustered around 11.62."
   ]
  },
  {
   "cell_type": "markdown",
   "metadata": {},
   "source": [
    "## Convergence Test Before the Averaging Period"
   ]
  },
  {
   "cell_type": "code",
   "execution_count": 20,
   "metadata": {
    "execution": {
     "iopub.execute_input": "2025-09-14T22:22:15.750764Z",
     "iopub.status.busy": "2025-09-14T22:22:15.750580Z",
     "iopub.status.idle": "2025-09-14T22:22:15.753412Z",
     "shell.execute_reply": "2025-09-14T22:22:15.752837Z"
    }
   },
   "outputs": [],
   "source": [
    "num_paths = np.linspace(10000,20000,20)\n",
    "seed = 1219"
   ]
  },
  {
   "cell_type": "code",
   "execution_count": 21,
   "metadata": {
    "execution": {
     "iopub.execute_input": "2025-09-14T22:22:15.754984Z",
     "iopub.status.busy": "2025-09-14T22:22:15.754791Z",
     "iopub.status.idle": "2025-09-14T22:22:17.434058Z",
     "shell.execute_reply": "2025-09-14T22:22:17.433224Z"
    }
   },
   "outputs": [],
   "source": [
    "values = []\n",
    "for numPath in num_paths:\n",
    "    numPath = int(numPath)\n",
    "    v = asianOption.value_mc(value_dt, stock_price, discount_curve, dividend_curve, model, numPath, seed, accruedAverage)\n",
    "    values.append(v)"
   ]
  },
  {
   "cell_type": "code",
   "execution_count": 22,
   "metadata": {
    "execution": {
     "iopub.execute_input": "2025-09-14T22:22:17.437407Z",
     "iopub.status.busy": "2025-09-14T22:22:17.436874Z",
     "iopub.status.idle": "2025-09-14T22:22:17.511086Z",
     "shell.execute_reply": "2025-09-14T22:22:17.510813Z"
    }
   },
   "outputs": [
    {
     "data": {
      "text/plain": [
       "<matplotlib.legend.Legend at 0x23234b18ec0>"
      ]
     },
     "execution_count": 22,
     "metadata": {},
     "output_type": "execute_result"
    },
    {
     "data": {
      "image/png": "[encoded data removed]",
      "text/plain": [
       "<Figure size 640x480 with 1 Axes>"
      ]
     },
     "metadata": {},
     "output_type": "display_data"
    }
   ],
   "source": [
    "plt.plot(num_paths, values, label=\"Monte Carlo with Control Variate\")\n",
    "plt.xlabel(\"Num Steps\")\n",
    "plt.ylabel(\"Asian option price\")\n",
    "plt.plot(num_paths, [v] * len(num_paths), label = \"Turnbull-Wakeman\")\n",
    "plt.plot(num_paths, [v_c] * len(num_paths), label = \"Curran\")\n",
    "plt.legend()"
   ]
  },
  {
   "cell_type": "markdown",
   "metadata": {},
   "source": [
    "Recall that the source of the difference is that the analytical models are unable to exactly match the true arithmetic average distribution. In addition, a smaller effect is that they assume continuous monitoring of the barrier."
   ]
  },
  {
   "cell_type": "markdown",
   "metadata": {},
   "source": [
    "## Valuation - In the Averaging Period"
   ]
  },
  {
   "cell_type": "markdown",
   "metadata": {},
   "source": [
    "Once we are in the averaging period we need to track the average from the start of the averaging period to the value date"
   ]
  },
  {
   "cell_type": "code",
   "execution_count": 23,
   "metadata": {
    "execution": {
     "iopub.execute_input": "2025-09-14T22:22:17.513872Z",
     "iopub.status.busy": "2025-09-14T22:22:17.513714Z",
     "iopub.status.idle": "2025-09-14T22:22:17.517146Z",
     "shell.execute_reply": "2025-09-14T22:22:17.516815Z"
    }
   },
   "outputs": [],
   "source": [
    "value_dt = Date(1, 6, 2020)\n",
    "discount_curve = DiscountCurveFlat(value_dt, interest_rate)\n",
    "dividend_curve = DiscountCurveFlat(value_dt, dividend_yield)"
   ]
  },
  {
   "cell_type": "markdown",
   "metadata": {},
   "source": [
    "The stock price has increased to 105 and the average stock price has been 103.0"
   ]
  },
  {
   "cell_type": "code",
   "execution_count": 24,
   "metadata": {
    "execution": {
     "iopub.execute_input": "2025-09-14T22:22:17.520388Z",
     "iopub.status.busy": "2025-09-14T22:22:17.519985Z",
     "iopub.status.idle": "2025-09-14T22:22:17.522829Z",
     "shell.execute_reply": "2025-09-14T22:22:17.522585Z"
    }
   },
   "outputs": [],
   "source": [
    "stock_price = 105.0\n",
    "volatility = 0.20\n",
    "interest_rate = 0.05\n",
    "dividend_yield = 0.01\n",
    "accruedAverage = 101.0"
   ]
  },
  {
   "cell_type": "markdown",
   "metadata": {},
   "source": [
    "The geometric price is once again a LOWER BOUND"
   ]
  },
  {
   "cell_type": "code",
   "execution_count": 25,
   "metadata": {
    "execution": {
     "iopub.execute_input": "2025-09-14T22:22:17.524809Z",
     "iopub.status.busy": "2025-09-14T22:22:17.524694Z",
     "iopub.status.idle": "2025-09-14T22:22:17.528011Z",
     "shell.execute_reply": "2025-09-14T22:22:17.527769Z"
    }
   },
   "outputs": [
    {
     "data": {
      "text/plain": [
       "np.float64(4.50789693982226)"
      ]
     },
     "execution_count": 25,
     "metadata": {},
     "output_type": "execute_result"
    }
   ],
   "source": [
    "asianOption.value(value_dt, stock_price, discount_curve, dividend_curve, model,\n",
    "                  AsianOptionValuationMethods.GEOMETRIC, accruedAverage)"
   ]
  },
  {
   "cell_type": "code",
   "execution_count": 26,
   "metadata": {
    "execution": {
     "iopub.execute_input": "2025-09-14T22:22:17.529097Z",
     "iopub.status.busy": "2025-09-14T22:22:17.528957Z",
     "iopub.status.idle": "2025-09-14T22:22:17.533941Z",
     "shell.execute_reply": "2025-09-14T22:22:17.532664Z"
    }
   },
   "outputs": [
    {
     "data": {
      "text/plain": [
       "np.float64(4.608270929650449)"
      ]
     },
     "execution_count": 26,
     "metadata": {},
     "output_type": "execute_result"
    }
   ],
   "source": [
    "asianOption.value(value_dt, stock_price, discount_curve, dividend_curve, model,\n",
    "                  AsianOptionValuationMethods.CURRAN, accruedAverage)"
   ]
  },
  {
   "cell_type": "code",
   "execution_count": 27,
   "metadata": {
    "execution": {
     "iopub.execute_input": "2025-09-14T22:22:17.536597Z",
     "iopub.status.busy": "2025-09-14T22:22:17.536371Z",
     "iopub.status.idle": "2025-09-14T22:22:17.542245Z",
     "shell.execute_reply": "2025-09-14T22:22:17.541647Z"
    }
   },
   "outputs": [
    {
     "data": {
      "text/plain": [
       "np.float64(4.60998573685624)"
      ]
     },
     "execution_count": 27,
     "metadata": {},
     "output_type": "execute_result"
    }
   ],
   "source": [
    "asianOption.value(value_dt, stock_price, discount_curve, dividend_curve, model,\n",
    "                  AsianOptionValuationMethods.TURNBULL_WAKEMAN, accruedAverage)"
   ]
  },
  {
   "cell_type": "code",
   "execution_count": 28,
   "metadata": {
    "execution": {
     "iopub.execute_input": "2025-09-14T22:22:17.544651Z",
     "iopub.status.busy": "2025-09-14T22:22:17.544440Z",
     "iopub.status.idle": "2025-09-14T22:22:18.111667Z",
     "shell.execute_reply": "2025-09-14T22:22:18.111059Z"
    }
   },
   "outputs": [
    {
     "data": {
      "text/plain": [
       "4.601726473108577"
      ]
     },
     "execution_count": 28,
     "metadata": {},
     "output_type": "execute_result"
    }
   ],
   "source": [
    "asianOption.value_mc(value_dt, stock_price, discount_curve, dividend_curve, model,\n",
    "                    numPaths, seed, accruedAverage)"
   ]
  },
  {
   "cell_type": "markdown",
   "metadata": {},
   "source": [
    "These are all clustered around 4.59"
   ]
  },
  {
   "cell_type": "markdown",
   "metadata": {},
   "source": [
    "## Convergence Test In the Averaging Period"
   ]
  },
  {
   "cell_type": "code",
   "execution_count": 29,
   "metadata": {
    "execution": {
     "iopub.execute_input": "2025-09-14T22:22:18.114627Z",
     "iopub.status.busy": "2025-09-14T22:22:18.114356Z",
     "iopub.status.idle": "2025-09-14T22:22:18.118562Z",
     "shell.execute_reply": "2025-09-14T22:22:18.117886Z"
    }
   },
   "outputs": [],
   "source": [
    "num_paths = np.linspace(1000,20000,50)\n",
    "seed = 1219"
   ]
  },
  {
   "cell_type": "code",
   "execution_count": 30,
   "metadata": {
    "execution": {
     "iopub.execute_input": "2025-09-14T22:22:18.120310Z",
     "iopub.status.busy": "2025-09-14T22:22:18.120117Z",
     "iopub.status.idle": "2025-09-14T22:22:20.764149Z",
     "shell.execute_reply": "2025-09-14T22:22:20.763544Z"
    }
   },
   "outputs": [],
   "source": [
    "values = []\n",
    "for numPath in num_paths:\n",
    "    numPath = int(numPath)\n",
    "    v = asianOption.value_mc(value_dt, stock_price, discount_curve,\n",
    "                            dividend_curve, model, numPath, seed, accruedAverage)\n",
    "    values.append(v)"
   ]
  },
  {
   "cell_type": "code",
   "execution_count": 31,
   "metadata": {
    "execution": {
     "iopub.execute_input": "2025-09-14T22:22:20.766518Z",
     "iopub.status.busy": "2025-09-14T22:22:20.766290Z",
     "iopub.status.idle": "2025-09-14T22:22:20.849608Z",
     "shell.execute_reply": "2025-09-14T22:22:20.848927Z"
    }
   },
   "outputs": [
    {
     "data": {
      "text/plain": [
       "<matplotlib.legend.Legend at 0x23236c00a50>"
      ]
     },
     "execution_count": 31,
     "metadata": {},
     "output_type": "execute_result"
    },
    {
     "data": {
      "image/png": "[encoded data removed]",
      "text/plain": [
       "<Figure size 640x480 with 1 Axes>"
      ]
     },
     "metadata": {},
     "output_type": "display_data"
    }
   ],
   "source": [
    "plt.plot(num_paths, values, label=\"Monte Carlo with Control Variate\")\n",
    "plt.xlabel(\"Num Steps\")\n",
    "plt.ylabel(\"Asian option price\")\n",
    "plt.legend()"
   ]
  },
  {
   "cell_type": "markdown",
   "metadata": {},
   "source": [
    "Recall that the source of the difference is that the analytical models are unable to exactly match the true arithmetic average distribution. In addition, a smaller effect is that they assume continuous monitoring of the barrier. "
   ]
  },
  {
   "cell_type": "markdown",
   "metadata": {},
   "source": [
    "Copyright (c) 2020 Dominic O'Kane"
   ]
  }
 ],
 "metadata": {
  "kernelspec": {
   "display_name": "base",
   "language": "python",
   "name": "python3"
  },
  "language_info": {
   "codemirror_mode": {
    "name": "ipython",
    "version": 3
   },
   "file_extension": ".py",
   "mimetype": "text/x-python",
   "name": "python",
   "nbconvert_exporter": "python",
   "pygments_lexer": "ipython3",
   "version": "3.13.7"
  }
 },
 "nbformat": 4,
 "nbformat_minor": 2
}
