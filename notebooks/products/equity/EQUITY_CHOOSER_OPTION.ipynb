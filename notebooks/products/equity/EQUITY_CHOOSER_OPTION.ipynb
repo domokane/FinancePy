{
    "cells": [
        {
            "cell_type": "markdown",
            "metadata": {},
            "source": [
                "# EQUITY CHOOSER OPTION - VALUATION AND RISK ANALYSIS"
            ]
        },
        {
            "cell_type": "markdown",
            "metadata": {},
            "source": [
                "Valuation and Risk of Equity Chooser Options in which the option is on a basket of stocks."
            ]
        },
        {
            "cell_type": "code",
            "execution_count": 1,
            "metadata": {
                "execution": {
                    "iopub.execute_input": "2024-04-30T20:03:42.641176Z",
                    "iopub.status.busy": "2024-04-30T20:03:42.641176Z",
                    "iopub.status.idle": "2024-04-30T20:03:43.336474Z",
                    "shell.execute_reply": "2024-04-30T20:03:43.336474Z"
                }
            },
            "outputs": [],
            "source": [
                "import numpy as np\n",
                "import matplotlib.pyplot as plt"
            ]
        },
        {
            "cell_type": "code",
            "execution_count": 2,
            "metadata": {
                "execution": {
                    "iopub.execute_input": "2024-04-30T20:03:43.339502Z",
                    "iopub.status.busy": "2024-04-30T20:03:43.338504Z",
                    "iopub.status.idle": "2024-04-30T20:03:50.249334Z",
                    "shell.execute_reply": "2024-04-30T20:03:50.249334Z"
                }
            },
            "outputs": [
                {
                    "name": "stdout",
                    "output_type": "stream",
                    "text": [
                        "####################################################################\n",
                        "#  FINANCEPY BETA Version 0.350 - This build: 30 Apr 2024 at 21:20 #\n",
                        "#     This software is distributed FREE AND WITHOUT ANY WARRANTY   #\n",
                        "#  Report bugs as issues at https://github.com/domokane/FinancePy  #\n",
                        "####################################################################\n",
                        "\n"
                    ]
                }
            ],
            "source": [
                "from financepy.utils import *\n",
                "from financepy.market.curves import *\n",
                "from financepy.products.equity import *"
            ]
        },
        {
            "cell_type": "markdown",
            "metadata": {},
            "source": [
                "# Chooser Option"
            ]
        },
        {
            "cell_type": "markdown",
            "metadata": {},
            "source": [
                "All the assets in the basket have the same characteristicsm"
            ]
        },
        {
            "cell_type": "code",
            "execution_count": 3,
            "metadata": {
                "execution": {
                    "iopub.execute_input": "2024-04-30T20:03:50.252378Z",
                    "iopub.status.busy": "2024-04-30T20:03:50.252378Z",
                    "iopub.status.idle": "2024-04-30T20:03:50.272252Z",
                    "shell.execute_reply": "2024-04-30T20:03:50.272252Z"
                }
            },
            "outputs": [],
            "source": [
                "choose_dt = Date(31, 8, 2007)    "
            ]
        },
        {
            "cell_type": "code",
            "execution_count": 4,
            "metadata": {
                "execution": {
                    "iopub.execute_input": "2024-04-30T20:03:50.274285Z",
                    "iopub.status.busy": "2024-04-30T20:03:50.274285Z",
                    "iopub.status.idle": "2024-04-30T20:03:50.277781Z",
                    "shell.execute_reply": "2024-04-30T20:03:50.277546Z"
                }
            },
            "outputs": [],
            "source": [
                "call_expiry_dt = Date(2, 12, 2007)\n",
                "put_expiry_dt = Date(2, 12, 2007) "
            ]
        },
        {
            "cell_type": "code",
            "execution_count": 5,
            "metadata": {
                "execution": {
                    "iopub.execute_input": "2024-04-30T20:03:50.279780Z",
                    "iopub.status.busy": "2024-04-30T20:03:50.279780Z",
                    "iopub.status.idle": "2024-04-30T20:03:50.282356Z",
                    "shell.execute_reply": "2024-04-30T20:03:50.282356Z"
                }
            },
            "outputs": [],
            "source": [
                "call_strike = 60.0\n",
                "put_strike = 60.0"
            ]
        },
        {
            "cell_type": "code",
            "execution_count": 6,
            "metadata": {
                "execution": {
                    "iopub.execute_input": "2024-04-30T20:03:50.284358Z",
                    "iopub.status.busy": "2024-04-30T20:03:50.284358Z",
                    "iopub.status.idle": "2024-04-30T20:03:50.287351Z",
                    "shell.execute_reply": "2024-04-30T20:03:50.287351Z"
                }
            },
            "outputs": [],
            "source": [
                "chooserOption = EquityChooserOption(choose_dt, call_expiry_dt, put_expiry_dt, call_strike, put_strike)"
            ]
        },
        {
            "cell_type": "code",
            "execution_count": 7,
            "metadata": {
                "execution": {
                    "iopub.execute_input": "2024-04-30T20:03:50.289381Z",
                    "iopub.status.busy": "2024-04-30T20:03:50.289381Z",
                    "iopub.status.idle": "2024-04-30T20:03:50.292766Z",
                    "shell.execute_reply": "2024-04-30T20:03:50.292527Z"
                }
            },
            "outputs": [
                {
                    "name": "stdout",
                    "output_type": "stream",
                    "text": [
                        "OBJECT TYPE: EquityChooserOption\n",
                        "CHOOSER DATE: 31-AUG-2007\n",
                        "CALL EXPIRY DATE: 02-DEC-2007\n",
                        "CALL STRIKE PRICE: 60.0\n",
                        "PUT EXPIRY DATE: 02-DEC-2007\n",
                        "PUT STRIKE PRICE: 60.0\n"
                    ]
                }
            ],
            "source": [
                "print(chooserOption)"
            ]
        },
        {
            "cell_type": "markdown",
            "metadata": {},
            "source": [
                "## Valuation"
            ]
        },
        {
            "cell_type": "code",
            "execution_count": 8,
            "metadata": {
                "execution": {
                    "iopub.execute_input": "2024-04-30T20:03:50.294765Z",
                    "iopub.status.busy": "2024-04-30T20:03:50.294765Z",
                    "iopub.status.idle": "2024-04-30T20:03:50.297374Z",
                    "shell.execute_reply": "2024-04-30T20:03:50.297374Z"
                }
            },
            "outputs": [],
            "source": [
                "value_dt = Date(1, 6, 2007)"
            ]
        },
        {
            "cell_type": "code",
            "execution_count": 9,
            "metadata": {
                "execution": {
                    "iopub.execute_input": "2024-04-30T20:03:50.299406Z",
                    "iopub.status.busy": "2024-04-30T20:03:50.299406Z",
                    "iopub.status.idle": "2024-04-30T20:03:50.301983Z",
                    "shell.execute_reply": "2024-04-30T20:03:50.301983Z"
                }
            },
            "outputs": [],
            "source": [
                "interest_rate = 0.10"
            ]
        },
        {
            "cell_type": "code",
            "execution_count": 10,
            "metadata": {
                "execution": {
                    "iopub.execute_input": "2024-04-30T20:03:50.304026Z",
                    "iopub.status.busy": "2024-04-30T20:03:50.304026Z",
                    "iopub.status.idle": "2024-04-30T20:03:50.312749Z",
                    "shell.execute_reply": "2024-04-30T20:03:50.312749Z"
                }
            },
            "outputs": [],
            "source": [
                "discount_curve = DiscountCurveFlat(value_dt, interest_rate)"
            ]
        },
        {
            "cell_type": "code",
            "execution_count": 11,
            "metadata": {
                "execution": {
                    "iopub.execute_input": "2024-04-30T20:03:50.314784Z",
                    "iopub.status.busy": "2024-04-30T20:03:50.314784Z",
                    "iopub.status.idle": "2024-04-30T20:03:50.319142Z",
                    "shell.execute_reply": "2024-04-30T20:03:50.318551Z"
                }
            },
            "outputs": [],
            "source": [
                "volatility = 0.20"
            ]
        },
        {
            "cell_type": "code",
            "execution_count": 12,
            "metadata": {
                "execution": {
                    "iopub.execute_input": "2024-04-30T20:03:50.321168Z",
                    "iopub.status.busy": "2024-04-30T20:03:50.321168Z",
                    "iopub.status.idle": "2024-04-30T20:03:50.324253Z",
                    "shell.execute_reply": "2024-04-30T20:03:50.324024Z"
                }
            },
            "outputs": [],
            "source": [
                "model = BlackScholes(volatility)"
            ]
        },
        {
            "cell_type": "code",
            "execution_count": 13,
            "metadata": {
                "execution": {
                    "iopub.execute_input": "2024-04-30T20:03:50.326791Z",
                    "iopub.status.busy": "2024-04-30T20:03:50.325284Z",
                    "iopub.status.idle": "2024-04-30T20:03:50.328805Z",
                    "shell.execute_reply": "2024-04-30T20:03:50.328805Z"
                }
            },
            "outputs": [],
            "source": [
                "stock_price = 50.0\n",
                "dividend_yield = 0.05"
            ]
        },
        {
            "cell_type": "code",
            "execution_count": 14,
            "metadata": {
                "execution": {
                    "iopub.execute_input": "2024-04-30T20:03:50.331392Z",
                    "iopub.status.busy": "2024-04-30T20:03:50.331392Z",
                    "iopub.status.idle": "2024-04-30T20:03:50.335516Z",
                    "shell.execute_reply": "2024-04-30T20:03:50.334846Z"
                }
            },
            "outputs": [],
            "source": [
                "dividend_curve = DiscountCurveFlat(value_dt, dividend_yield)"
            ]
        },
        {
            "cell_type": "code",
            "execution_count": 15,
            "metadata": {
                "execution": {
                    "iopub.execute_input": "2024-04-30T20:03:50.338173Z",
                    "iopub.status.busy": "2024-04-30T20:03:50.338173Z",
                    "iopub.status.idle": "2024-04-30T20:03:50.362944Z",
                    "shell.execute_reply": "2024-04-30T20:03:50.362944Z"
                }
            },
            "outputs": [
                {
                    "data": {
                        "text/plain": [
                            "8.931595212089938"
                        ]
                    },
                    "execution_count": 15,
                    "metadata": {},
                    "output_type": "execute_result"
                }
            ],
            "source": [
                "chooserOption.value(value_dt, stock_price, discount_curve, dividend_curve, model)"
            ]
        },
        {
            "cell_type": "markdown",
            "metadata": {},
            "source": [
                "## Monte-Carlo Analysis"
            ]
        },
        {
            "cell_type": "code",
            "execution_count": 16,
            "metadata": {
                "execution": {
                    "iopub.execute_input": "2024-04-30T20:03:50.365977Z",
                    "iopub.status.busy": "2024-04-30T20:03:50.364975Z",
                    "iopub.status.idle": "2024-04-30T20:03:50.369191Z",
                    "shell.execute_reply": "2024-04-30T20:03:50.368592Z"
                }
            },
            "outputs": [],
            "source": [
                "num_steps = np.linspace(2000,50000,20)"
            ]
        },
        {
            "cell_type": "code",
            "execution_count": 17,
            "metadata": {
                "execution": {
                    "iopub.execute_input": "2024-04-30T20:03:50.371227Z",
                    "iopub.status.busy": "2024-04-30T20:03:50.371227Z",
                    "iopub.status.idle": "2024-04-30T20:03:50.564185Z",
                    "shell.execute_reply": "2024-04-30T20:03:50.563678Z"
                }
            },
            "outputs": [],
            "source": [
                "values = []\n",
                "values_mc = []\n",
                "for n in num_steps:\n",
                "    v = chooserOption.value(value_dt, stock_price, discount_curve, dividend_curve, model)\n",
                "    v_mc = chooserOption.value_mc(value_dt, stock_price, discount_curve, dividend_curve, model, int(n))\n",
                "    values.append(v)\n",
                "    values_mc.append(v_mc)"
            ]
        },
        {
            "cell_type": "code",
            "execution_count": 18,
            "metadata": {
                "execution": {
                    "iopub.execute_input": "2024-04-30T20:03:50.566262Z",
                    "iopub.status.busy": "2024-04-30T20:03:50.566262Z",
                    "iopub.status.idle": "2024-04-30T20:03:50.724393Z",
                    "shell.execute_reply": "2024-04-30T20:03:50.724393Z"
                }
            },
            "outputs": [
                {
                    "data": {
                        "image/png": "[encoded data removed]",
                        "text/plain": [
                            "<Figure size 640x480 with 1 Axes>"
                        ]
                    },
                    "metadata": {},
                    "output_type": "display_data"
                }
            ],
            "source": [
                "plt.plot(num_steps, values);\n",
                "plt.plot(num_steps, values_mc);"
            ]
        },
        {
            "cell_type": "markdown",
            "metadata": {},
            "source": [
                "If the option is all European then we get a flat line. If not, we use the binomial tree and get the price to 4 significant figures with 2000 steps."
            ]
        },
        {
            "cell_type": "markdown",
            "metadata": {},
            "source": [
                "## Risk Sensitivities"
            ]
        },
        {
            "cell_type": "markdown",
            "metadata": {},
            "source": [
                "The analytical model produced the following sensitivities"
            ]
        },
        {
            "cell_type": "code",
            "execution_count": 19,
            "metadata": {
                "execution": {
                    "iopub.execute_input": "2024-04-30T20:03:50.727390Z",
                    "iopub.status.busy": "2024-04-30T20:03:50.727390Z",
                    "iopub.status.idle": "2024-04-30T20:03:50.732275Z",
                    "shell.execute_reply": "2024-04-30T20:03:50.732039Z"
                }
            },
            "outputs": [
                {
                    "data": {
                        "text/plain": [
                            "-0.7663737245877655"
                        ]
                    },
                    "execution_count": 19,
                    "metadata": {},
                    "output_type": "execute_result"
                }
            ],
            "source": [
                "chooserOption.delta(value_dt, stock_price, discount_curve, dividend_curve, model)"
            ]
        },
        {
            "cell_type": "code",
            "execution_count": 20,
            "metadata": {
                "execution": {
                    "iopub.execute_input": "2024-04-30T20:03:50.734302Z",
                    "iopub.status.busy": "2024-04-30T20:03:50.734302Z",
                    "iopub.status.idle": "2024-04-30T20:03:50.738970Z",
                    "shell.execute_reply": "2024-04-30T20:03:50.738970Z"
                }
            },
            "outputs": [
                {
                    "data": {
                        "text/plain": [
                            "0.05646754175359092"
                        ]
                    },
                    "execution_count": 20,
                    "metadata": {},
                    "output_type": "execute_result"
                }
            ],
            "source": [
                "chooserOption.gamma(value_dt, stock_price, discount_curve, dividend_curve, model)"
            ]
        },
        {
            "cell_type": "code",
            "execution_count": 21,
            "metadata": {
                "execution": {
                    "iopub.execute_input": "2024-04-30T20:03:50.740999Z",
                    "iopub.status.busy": "2024-04-30T20:03:50.740999Z",
                    "iopub.status.idle": "2024-04-30T20:03:50.745971Z",
                    "shell.execute_reply": "2024-04-30T20:03:50.745335Z"
                }
            },
            "outputs": [
                {
                    "data": {
                        "text/plain": [
                            "-0.004123476471278309"
                        ]
                    },
                    "execution_count": 21,
                    "metadata": {},
                    "output_type": "execute_result"
                }
            ],
            "source": [
                "chooserOption.theta(value_dt, stock_price, discount_curve, dividend_curve, model)"
            ]
        },
        {
            "cell_type": "code",
            "execution_count": 22,
            "metadata": {
                "execution": {
                    "iopub.execute_input": "2024-04-30T20:03:50.747969Z",
                    "iopub.status.busy": "2024-04-30T20:03:50.747969Z",
                    "iopub.status.idle": "2024-04-30T20:03:50.753973Z",
                    "shell.execute_reply": "2024-04-30T20:03:50.752972Z"
                }
            },
            "outputs": [
                {
                    "data": {
                        "text/plain": [
                            "0.11548275604736347"
                        ]
                    },
                    "execution_count": 22,
                    "metadata": {},
                    "output_type": "execute_result"
                }
            ],
            "source": [
                "chooserOption.vega(value_dt, stock_price, discount_curve, dividend_curve, model)"
            ]
        },
        {
            "cell_type": "code",
            "execution_count": 23,
            "metadata": {
                "execution": {
                    "iopub.execute_input": "2024-04-30T20:03:50.755965Z",
                    "iopub.status.busy": "2024-04-30T20:03:50.755965Z",
                    "iopub.status.idle": "2024-04-30T20:03:50.761383Z",
                    "shell.execute_reply": "2024-04-30T20:03:50.761383Z"
                }
            },
            "outputs": [
                {
                    "data": {
                        "text/plain": [
                            "-23.81699666820225"
                        ]
                    },
                    "execution_count": 23,
                    "metadata": {},
                    "output_type": "execute_result"
                }
            ],
            "source": [
                "chooserOption.rho(value_dt, stock_price, discount_curve, dividend_curve, model)"
            ]
        },
        {
            "cell_type": "markdown",
            "metadata": {},
            "source": [
                "Copyright (c) 2020 Dominic O'Kane"
            ]
        }
    ],
    "metadata": {
        "kernelspec": {
            "display_name": "Python 3",
            "language": "python",
            "name": "python3"
        },
        "language_info": {
            "codemirror_mode": {
                "name": "ipython",
                "version": 3
            },
            "file_extension": ".py",
            "mimetype": "text/x-python",
            "name": "python",
            "nbconvert_exporter": "python",
            "pygments_lexer": "ipython3",
            "version": "3.11.5"
        }
    },
    "nbformat": 4,
    "nbformat_minor": 2
}
