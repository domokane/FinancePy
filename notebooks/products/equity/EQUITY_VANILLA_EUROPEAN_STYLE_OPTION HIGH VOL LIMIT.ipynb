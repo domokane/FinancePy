{
 "cells": [
  {
   "cell_type": "markdown",
   "metadata": {},
   "source": [
    "# EQUITY VANILLA EUROPEAN-STYLE OPTIONS"
   ]
  },
  {
   "cell_type": "markdown",
   "metadata": {},
   "source": [
    "Valuation and Risk of a simple Vanilla Equity Option"
   ]
  },
  {
   "cell_type": "code",
   "execution_count": 1,
   "metadata": {
    "execution": {
     "iopub.execute_input": "2025-08-27T22:33:56.627090Z",
     "iopub.status.busy": "2025-08-27T22:33:56.626690Z",
     "iopub.status.idle": "2025-08-27T22:33:57.071472Z",
     "shell.execute_reply": "2025-08-27T22:33:57.070987Z"
    }
   },
   "outputs": [],
   "source": [
    "import numpy as np\n",
    "import matplotlib.pyplot as plt"
   ]
  },
  {
   "cell_type": "code",
   "execution_count": 2,
   "metadata": {
    "execution": {
     "iopub.execute_input": "2025-08-27T22:33:57.074239Z",
     "iopub.status.busy": "2025-08-27T22:33:57.073919Z",
     "iopub.status.idle": "2025-08-27T22:33:59.837910Z",
     "shell.execute_reply": "2025-08-27T22:33:59.837471Z"
    }
   },
   "outputs": [],
   "source": [
    "from financepy.utils import *\n",
    "from financepy.products.equity import *"
   ]
  },
  {
   "cell_type": "markdown",
   "metadata": {},
   "source": [
    "# Define the Call and Put Options"
   ]
  },
  {
   "cell_type": "code",
   "execution_count": 3,
   "metadata": {
    "execution": {
     "iopub.execute_input": "2025-08-27T22:33:59.841146Z",
     "iopub.status.busy": "2025-08-27T22:33:59.840710Z",
     "iopub.status.idle": "2025-08-27T22:33:59.860001Z",
     "shell.execute_reply": "2025-08-27T22:33:59.859578Z"
    }
   },
   "outputs": [],
   "source": [
    "value_dt = Date(1, 1, 2015)"
   ]
  },
  {
   "cell_type": "code",
   "execution_count": 4,
   "metadata": {
    "execution": {
     "iopub.execute_input": "2025-08-27T22:33:59.862394Z",
     "iopub.status.busy": "2025-08-27T22:33:59.862117Z",
     "iopub.status.idle": "2025-08-27T22:33:59.870731Z",
     "shell.execute_reply": "2025-08-27T22:33:59.870007Z"
    }
   },
   "outputs": [],
   "source": [
    "expiry_dt = value_dt.add_years(0.5)"
   ]
  },
  {
   "cell_type": "code",
   "execution_count": 5,
   "metadata": {
    "execution": {
     "iopub.execute_input": "2025-08-27T22:33:59.873136Z",
     "iopub.status.busy": "2025-08-27T22:33:59.872843Z",
     "iopub.status.idle": "2025-08-27T22:33:59.878216Z",
     "shell.execute_reply": "2025-08-27T22:33:59.877772Z"
    }
   },
   "outputs": [
    {
     "data": {
      "text/plain": [
       "01-JUL-2015"
      ]
     },
     "execution_count": 5,
     "metadata": {},
     "output_type": "execute_result"
    }
   ],
   "source": [
    "expiry_dt"
   ]
  },
  {
   "cell_type": "code",
   "execution_count": 6,
   "metadata": {
    "execution": {
     "iopub.execute_input": "2025-08-27T22:33:59.880452Z",
     "iopub.status.busy": "2025-08-27T22:33:59.880228Z",
     "iopub.status.idle": "2025-08-27T22:33:59.882702Z",
     "shell.execute_reply": "2025-08-27T22:33:59.882317Z"
    }
   },
   "outputs": [],
   "source": [
    "strike_price = 50.0"
   ]
  },
  {
   "cell_type": "code",
   "execution_count": 7,
   "metadata": {
    "execution": {
     "iopub.execute_input": "2025-08-27T22:33:59.884826Z",
     "iopub.status.busy": "2025-08-27T22:33:59.884614Z",
     "iopub.status.idle": "2025-08-27T22:33:59.887339Z",
     "shell.execute_reply": "2025-08-27T22:33:59.886903Z"
    }
   },
   "outputs": [],
   "source": [
    "call_option = EquityVanillaOption(expiry_dt, strike_price, OptionTypes.EUROPEAN_CALL)"
   ]
  },
  {
   "cell_type": "code",
   "execution_count": 8,
   "metadata": {
    "execution": {
     "iopub.execute_input": "2025-08-27T22:33:59.889656Z",
     "iopub.status.busy": "2025-08-27T22:33:59.889334Z",
     "iopub.status.idle": "2025-08-27T22:33:59.892454Z",
     "shell.execute_reply": "2025-08-27T22:33:59.891964Z"
    }
   },
   "outputs": [],
   "source": [
    "put_option = EquityVanillaOption(expiry_dt, strike_price, OptionTypes.EUROPEAN_PUT)"
   ]
  },
  {
   "cell_type": "code",
   "execution_count": 9,
   "metadata": {
    "execution": {
     "iopub.execute_input": "2025-08-27T22:33:59.895292Z",
     "iopub.status.busy": "2025-08-27T22:33:59.895001Z",
     "iopub.status.idle": "2025-08-27T22:33:59.898800Z",
     "shell.execute_reply": "2025-08-27T22:33:59.898303Z"
    }
   },
   "outputs": [
    {
     "data": {
      "text/plain": [
       "45.241870901797974"
      ]
     },
     "execution_count": 9,
     "metadata": {},
     "output_type": "execute_result"
    }
   ],
   "source": [
    "50.0*exp(-0.20*0.5)"
   ]
  },
  {
   "cell_type": "code",
   "execution_count": 10,
   "metadata": {
    "execution": {
     "iopub.execute_input": "2025-08-27T22:33:59.900802Z",
     "iopub.status.busy": "2025-08-27T22:33:59.900588Z",
     "iopub.status.idle": "2025-08-27T22:33:59.903225Z",
     "shell.execute_reply": "2025-08-27T22:33:59.902741Z"
    }
   },
   "outputs": [],
   "source": [
    "stock_price = 50\n",
    "volatility = 0.20\n",
    "interest_rate = 0.05\n",
    "dividend_yield = 0.05"
   ]
  },
  {
   "cell_type": "code",
   "execution_count": 11,
   "metadata": {
    "execution": {
     "iopub.execute_input": "2025-08-27T22:33:59.905767Z",
     "iopub.status.busy": "2025-08-27T22:33:59.905522Z",
     "iopub.status.idle": "2025-08-27T22:33:59.909053Z",
     "shell.execute_reply": "2025-08-27T22:33:59.908624Z"
    }
   },
   "outputs": [],
   "source": [
    "discount_curve = DiscountCurveFlat(value_dt, interest_rate, FrequencyTypes.CONTINUOUS)"
   ]
  },
  {
   "cell_type": "code",
   "execution_count": 12,
   "metadata": {
    "execution": {
     "iopub.execute_input": "2025-08-27T22:33:59.910891Z",
     "iopub.status.busy": "2025-08-27T22:33:59.910657Z",
     "iopub.status.idle": "2025-08-27T22:33:59.913825Z",
     "shell.execute_reply": "2025-08-27T22:33:59.913431Z"
    }
   },
   "outputs": [],
   "source": [
    "dividend_curve = DiscountCurveFlat(value_dt, dividend_yield)"
   ]
  },
  {
   "cell_type": "code",
   "execution_count": 13,
   "metadata": {
    "execution": {
     "iopub.execute_input": "2025-08-27T22:33:59.916074Z",
     "iopub.status.busy": "2025-08-27T22:33:59.915814Z",
     "iopub.status.idle": "2025-08-27T22:33:59.919117Z",
     "shell.execute_reply": "2025-08-27T22:33:59.918677Z"
    }
   },
   "outputs": [],
   "source": [
    "volatility = np.linspace(0,100.0,100)"
   ]
  },
  {
   "cell_type": "code",
   "execution_count": 14,
   "metadata": {
    "execution": {
     "iopub.execute_input": "2025-08-27T22:33:59.921892Z",
     "iopub.status.busy": "2025-08-27T22:33:59.921454Z",
     "iopub.status.idle": "2025-08-27T22:33:59.924349Z",
     "shell.execute_reply": "2025-08-27T22:33:59.923916Z"
    }
   },
   "outputs": [],
   "source": [
    "model = BlackScholes(volatility)"
   ]
  },
  {
   "cell_type": "code",
   "execution_count": 15,
   "metadata": {
    "execution": {
     "iopub.execute_input": "2025-08-27T22:33:59.926594Z",
     "iopub.status.busy": "2025-08-27T22:33:59.926374Z",
     "iopub.status.idle": "2025-08-27T22:33:59.929355Z",
     "shell.execute_reply": "2025-08-27T22:33:59.928938Z"
    }
   },
   "outputs": [],
   "source": [
    "call_values = call_option.value(value_dt, stock_price, discount_curve, dividend_curve, model)"
   ]
  },
  {
   "cell_type": "code",
   "execution_count": 16,
   "metadata": {
    "execution": {
     "iopub.execute_input": "2025-08-27T22:33:59.931577Z",
     "iopub.status.busy": "2025-08-27T22:33:59.931325Z",
     "iopub.status.idle": "2025-08-27T22:33:59.934571Z",
     "shell.execute_reply": "2025-08-27T22:33:59.934148Z"
    }
   },
   "outputs": [],
   "source": [
    "put_values = put_option.value(value_dt, stock_price, discount_curve, dividend_curve, model)"
   ]
  },
  {
   "cell_type": "code",
   "execution_count": 17,
   "metadata": {
    "execution": {
     "iopub.execute_input": "2025-08-27T22:33:59.936671Z",
     "iopub.status.busy": "2025-08-27T22:33:59.936456Z",
     "iopub.status.idle": "2025-08-27T22:33:59.940878Z",
     "shell.execute_reply": "2025-08-27T22:33:59.940435Z"
    }
   },
   "outputs": [
    {
     "data": {
      "text/plain": [
       "array([5.12093137e-08, 1.35547241e+01, 2.55148007e+01, 3.48262511e+01,\n",
       "       4.12227438e+01, 4.50998211e+01, 4.71732950e+01, 4.81517017e+01,\n",
       "       4.85590493e+01, 4.87086854e+01, 4.87571846e+01, 4.87710540e+01,\n",
       "       4.87745536e+01, 4.87753327e+01, 4.87754857e+01, 4.87755123e+01,\n",
       "       4.87755163e+01, 4.87755169e+01, 4.87755169e+01, 4.87755169e+01,\n",
       "       4.87755169e+01, 4.87755169e+01, 4.87755169e+01, 4.87755169e+01,\n",
       "       4.87755169e+01, 4.87755169e+01, 4.87755169e+01, 4.87755169e+01,\n",
       "       4.87755169e+01, 4.87755169e+01, 4.87755169e+01, 4.87755169e+01,\n",
       "       4.87755169e+01, 4.87755169e+01, 4.87755169e+01, 4.87755169e+01,\n",
       "       4.87755169e+01, 4.87755169e+01, 4.87755169e+01, 4.87755169e+01,\n",
       "       4.87755169e+01, 4.87755169e+01, 4.87755169e+01, 4.87755169e+01,\n",
       "       4.87755169e+01, 4.87755169e+01, 4.87755169e+01, 4.87755169e+01,\n",
       "       4.87755169e+01, 4.87755169e+01, 4.87755169e+01, 4.87755169e+01,\n",
       "       4.87755169e+01, 4.87755169e+01, 4.87755169e+01, 4.87755169e+01,\n",
       "       4.87755169e+01, 4.87755169e+01, 4.87755169e+01, 4.87755169e+01,\n",
       "       4.87755169e+01, 4.87755169e+01, 4.87755169e+01, 4.87755169e+01,\n",
       "       4.87755169e+01, 4.87755169e+01, 4.87755169e+01, 4.87755169e+01,\n",
       "       4.87755169e+01, 4.87755169e+01, 4.87755169e+01, 4.87755169e+01,\n",
       "       4.87755169e+01, 4.87755169e+01, 4.87755169e+01, 4.87755169e+01,\n",
       "       4.87755169e+01, 4.87755169e+01, 4.87755169e+01, 4.87755169e+01,\n",
       "       4.87755169e+01, 4.87755169e+01, 4.87755169e+01, 4.87755169e+01,\n",
       "       4.87755169e+01, 4.87755169e+01, 4.87755169e+01, 4.87755169e+01,\n",
       "       4.87755169e+01, 4.87755169e+01, 4.87755169e+01, 4.87755169e+01,\n",
       "       4.87755169e+01, 4.87755169e+01, 4.87755169e+01, 4.87755169e+01,\n",
       "       4.87755169e+01, 4.87755169e+01, 4.87755169e+01, 4.87755169e+01])"
      ]
     },
     "execution_count": 17,
     "metadata": {},
     "output_type": "execute_result"
    }
   ],
   "source": [
    "call_values"
   ]
  },
  {
   "cell_type": "code",
   "execution_count": 18,
   "metadata": {
    "execution": {
     "iopub.execute_input": "2025-08-27T22:33:59.943274Z",
     "iopub.status.busy": "2025-08-27T22:33:59.943030Z",
     "iopub.status.idle": "2025-08-27T22:33:59.947086Z",
     "shell.execute_reply": "2025-08-27T22:33:59.946626Z"
    }
   },
   "outputs": [
    {
     "data": {
      "text/plain": [
       "array([5.12093137e-08, 1.35547241e+01, 2.55148007e+01, 3.48262511e+01,\n",
       "       4.12227438e+01, 4.50998211e+01, 4.71732950e+01, 4.81517017e+01,\n",
       "       4.85590493e+01, 4.87086854e+01, 4.87571846e+01, 4.87710540e+01,\n",
       "       4.87745536e+01, 4.87753327e+01, 4.87754857e+01, 4.87755123e+01,\n",
       "       4.87755163e+01, 4.87755169e+01, 4.87755169e+01, 4.87755169e+01,\n",
       "       4.87755169e+01, 4.87755169e+01, 4.87755169e+01, 4.87755169e+01,\n",
       "       4.87755169e+01, 4.87755169e+01, 4.87755169e+01, 4.87755169e+01,\n",
       "       4.87755169e+01, 4.87755169e+01, 4.87755169e+01, 4.87755169e+01,\n",
       "       4.87755169e+01, 4.87755169e+01, 4.87755169e+01, 4.87755169e+01,\n",
       "       4.87755169e+01, 4.87755169e+01, 4.87755169e+01, 4.87755169e+01,\n",
       "       4.87755169e+01, 4.87755169e+01, 4.87755169e+01, 4.87755169e+01,\n",
       "       4.87755169e+01, 4.87755169e+01, 4.87755169e+01, 4.87755169e+01,\n",
       "       4.87755169e+01, 4.87755169e+01, 4.87755169e+01, 4.87755169e+01,\n",
       "       4.87755169e+01, 4.87755169e+01, 4.87755169e+01, 4.87755169e+01,\n",
       "       4.87755169e+01, 4.87755169e+01, 4.87755169e+01, 4.87755169e+01,\n",
       "       4.87755169e+01, 4.87755169e+01, 4.87755169e+01, 4.87755169e+01,\n",
       "       4.87755169e+01, 4.87755169e+01, 4.87755169e+01, 4.87755169e+01,\n",
       "       4.87755169e+01, 4.87755169e+01, 4.87755169e+01, 4.87755169e+01,\n",
       "       4.87755169e+01, 4.87755169e+01, 4.87755169e+01, 4.87755169e+01,\n",
       "       4.87755169e+01, 4.87755169e+01, 4.87755169e+01, 4.87755169e+01,\n",
       "       4.87755169e+01, 4.87755169e+01, 4.87755169e+01, 4.87755169e+01,\n",
       "       4.87755169e+01, 4.87755169e+01, 4.87755169e+01, 4.87755169e+01,\n",
       "       4.87755169e+01, 4.87755169e+01, 4.87755169e+01, 4.87755169e+01,\n",
       "       4.87755169e+01, 4.87755169e+01, 4.87755169e+01, 4.87755169e+01,\n",
       "       4.87755169e+01, 4.87755169e+01, 4.87755169e+01, 4.87755169e+01])"
      ]
     },
     "execution_count": 18,
     "metadata": {},
     "output_type": "execute_result"
    }
   ],
   "source": [
    "put_values"
   ]
  },
  {
   "cell_type": "code",
   "execution_count": 19,
   "metadata": {
    "execution": {
     "iopub.execute_input": "2025-08-27T22:33:59.949502Z",
     "iopub.status.busy": "2025-08-27T22:33:59.949208Z",
     "iopub.status.idle": "2025-08-27T22:34:00.066291Z",
     "shell.execute_reply": "2025-08-27T22:34:00.065751Z"
    }
   },
   "outputs": [
    {
     "data": {
      "text/plain": [
       "<matplotlib.legend.Legend at 0x21372d34980>"
      ]
     },
     "execution_count": 19,
     "metadata": {},
     "output_type": "execute_result"
    },
    {
     "data": {
      "image/png": "[encoded data removed]",
      "text/plain": [
       "<Figure size 640x480 with 1 Axes>"
      ]
     },
     "metadata": {},
     "output_type": "display_data"
    }
   ],
   "source": [
    "plt.plot(volatility, call_values, label=\"Call Value\")\n",
    "plt.plot(volatility, put_values, label=\"Put Value\")\n",
    "plt.legend()"
   ]
  },
  {
   "cell_type": "code",
   "execution_count": null,
   "metadata": {},
   "outputs": [],
   "source": []
  }
 ],
 "metadata": {
  "kernelspec": {
   "display_name": "base",
   "language": "python",
   "name": "python3"
  },
  "language_info": {
   "codemirror_mode": {
    "name": "ipython",
    "version": 3
   },
   "file_extension": ".py",
   "mimetype": "text/x-python",
   "name": "python",
   "nbconvert_exporter": "python",
   "pygments_lexer": "ipython3",
   "version": "3.13.5"
  }
 },
 "nbformat": 4,
 "nbformat_minor": 2
}
