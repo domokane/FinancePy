{
 "cells": [
  {
   "cell_type": "markdown",
   "metadata": {},
   "source": [
    "# EQUITY VANILLA EUROPEAN-STYLE OPTIONS"
   ]
  },
  {
   "cell_type": "markdown",
   "metadata": {},
   "source": [
    "Valuation and Risk of a simple Vanilla Equity Option"
   ]
  },
  {
   "cell_type": "code",
   "execution_count": 1,
   "metadata": {
    "execution": {
     "iopub.execute_input": "2025-09-14T22:23:34.836399Z",
     "iopub.status.busy": "2025-09-14T22:23:34.836230Z",
     "iopub.status.idle": "2025-09-14T22:23:35.070215Z",
     "shell.execute_reply": "2025-09-14T22:23:35.069746Z"
    }
   },
   "outputs": [],
   "source": [
    "import numpy as np\n",
    "import matplotlib.pyplot as plt"
   ]
  },
  {
   "cell_type": "code",
   "execution_count": 2,
   "metadata": {
    "execution": {
     "iopub.execute_input": "2025-09-14T22:23:35.071918Z",
     "iopub.status.busy": "2025-09-14T22:23:35.071746Z",
     "iopub.status.idle": "2025-09-14T22:23:37.126978Z",
     "shell.execute_reply": "2025-09-14T22:23:37.126640Z"
    }
   },
   "outputs": [],
   "source": [
    "from financepy.utils import *\n",
    "from financepy.products.equity import *"
   ]
  },
  {
   "cell_type": "markdown",
   "metadata": {},
   "source": [
    "# Define the Call and Put Options"
   ]
  },
  {
   "cell_type": "code",
   "execution_count": 3,
   "metadata": {
    "execution": {
     "iopub.execute_input": "2025-09-14T22:23:37.128511Z",
     "iopub.status.busy": "2025-09-14T22:23:37.128307Z",
     "iopub.status.idle": "2025-09-14T22:23:37.145388Z",
     "shell.execute_reply": "2025-09-14T22:23:37.145072Z"
    }
   },
   "outputs": [],
   "source": [
    "value_dt = Date(1, 1, 2015)"
   ]
  },
  {
   "cell_type": "code",
   "execution_count": 4,
   "metadata": {
    "execution": {
     "iopub.execute_input": "2025-09-14T22:23:37.148271Z",
     "iopub.status.busy": "2025-09-14T22:23:37.147983Z",
     "iopub.status.idle": "2025-09-14T22:23:37.157197Z",
     "shell.execute_reply": "2025-09-14T22:23:37.156911Z"
    }
   },
   "outputs": [],
   "source": [
    "expiry_dt = value_dt.add_years(0.5)"
   ]
  },
  {
   "cell_type": "code",
   "execution_count": 5,
   "metadata": {
    "execution": {
     "iopub.execute_input": "2025-09-14T22:23:37.158684Z",
     "iopub.status.busy": "2025-09-14T22:23:37.158563Z",
     "iopub.status.idle": "2025-09-14T22:23:37.162004Z",
     "shell.execute_reply": "2025-09-14T22:23:37.161723Z"
    }
   },
   "outputs": [
    {
     "data": {
      "text/plain": [
       "01-JUL-2015"
      ]
     },
     "execution_count": 5,
     "metadata": {},
     "output_type": "execute_result"
    }
   ],
   "source": [
    "expiry_dt"
   ]
  },
  {
   "cell_type": "code",
   "execution_count": 6,
   "metadata": {
    "execution": {
     "iopub.execute_input": "2025-09-14T22:23:37.163008Z",
     "iopub.status.busy": "2025-09-14T22:23:37.162883Z",
     "iopub.status.idle": "2025-09-14T22:23:37.165180Z",
     "shell.execute_reply": "2025-09-14T22:23:37.164829Z"
    }
   },
   "outputs": [],
   "source": [
    "strike_price = 50.0"
   ]
  },
  {
   "cell_type": "code",
   "execution_count": 7,
   "metadata": {
    "execution": {
     "iopub.execute_input": "2025-09-14T22:23:37.166236Z",
     "iopub.status.busy": "2025-09-14T22:23:37.166117Z",
     "iopub.status.idle": "2025-09-14T22:23:37.168379Z",
     "shell.execute_reply": "2025-09-14T22:23:37.168091Z"
    }
   },
   "outputs": [],
   "source": [
    "call_option = EquityVanillaOption(expiry_dt, strike_price, OptionTypes.EUROPEAN_CALL)"
   ]
  },
  {
   "cell_type": "code",
   "execution_count": 8,
   "metadata": {
    "execution": {
     "iopub.execute_input": "2025-09-14T22:23:37.170271Z",
     "iopub.status.busy": "2025-09-14T22:23:37.169969Z",
     "iopub.status.idle": "2025-09-14T22:23:37.172400Z",
     "shell.execute_reply": "2025-09-14T22:23:37.172098Z"
    }
   },
   "outputs": [],
   "source": [
    "put_option = EquityVanillaOption(expiry_dt, strike_price, OptionTypes.EUROPEAN_PUT)"
   ]
  },
  {
   "cell_type": "code",
   "execution_count": 9,
   "metadata": {
    "execution": {
     "iopub.execute_input": "2025-09-14T22:23:37.173395Z",
     "iopub.status.busy": "2025-09-14T22:23:37.173290Z",
     "iopub.status.idle": "2025-09-14T22:23:37.175771Z",
     "shell.execute_reply": "2025-09-14T22:23:37.175383Z"
    }
   },
   "outputs": [
    {
     "data": {
      "text/plain": [
       "45.241870901797974"
      ]
     },
     "execution_count": 9,
     "metadata": {},
     "output_type": "execute_result"
    }
   ],
   "source": [
    "50.0*exp(-0.20*0.5)"
   ]
  },
  {
   "cell_type": "code",
   "execution_count": 10,
   "metadata": {
    "execution": {
     "iopub.execute_input": "2025-09-14T22:23:37.177871Z",
     "iopub.status.busy": "2025-09-14T22:23:37.177467Z",
     "iopub.status.idle": "2025-09-14T22:23:37.179645Z",
     "shell.execute_reply": "2025-09-14T22:23:37.179338Z"
    }
   },
   "outputs": [],
   "source": [
    "stock_price = 50\n",
    "volatility = 0.20\n",
    "interest_rate = 0.05\n",
    "dividend_yield = 0.05"
   ]
  },
  {
   "cell_type": "code",
   "execution_count": 11,
   "metadata": {
    "execution": {
     "iopub.execute_input": "2025-09-14T22:23:37.180581Z",
     "iopub.status.busy": "2025-09-14T22:23:37.180473Z",
     "iopub.status.idle": "2025-09-14T22:23:37.184048Z",
     "shell.execute_reply": "2025-09-14T22:23:37.183698Z"
    }
   },
   "outputs": [],
   "source": [
    "discount_curve = DiscountCurveFlat(value_dt, interest_rate, FrequencyTypes.CONTINUOUS)"
   ]
  },
  {
   "cell_type": "code",
   "execution_count": 12,
   "metadata": {
    "execution": {
     "iopub.execute_input": "2025-09-14T22:23:37.184992Z",
     "iopub.status.busy": "2025-09-14T22:23:37.184879Z",
     "iopub.status.idle": "2025-09-14T22:23:37.187061Z",
     "shell.execute_reply": "2025-09-14T22:23:37.186766Z"
    }
   },
   "outputs": [],
   "source": [
    "dividend_curve = DiscountCurveFlat(value_dt, dividend_yield)"
   ]
  },
  {
   "cell_type": "code",
   "execution_count": 13,
   "metadata": {
    "execution": {
     "iopub.execute_input": "2025-09-14T22:23:37.187983Z",
     "iopub.status.busy": "2025-09-14T22:23:37.187877Z",
     "iopub.status.idle": "2025-09-14T22:23:37.189992Z",
     "shell.execute_reply": "2025-09-14T22:23:37.189766Z"
    }
   },
   "outputs": [],
   "source": [
    "volatility = np.linspace(0,100.0,100)"
   ]
  },
  {
   "cell_type": "code",
   "execution_count": 14,
   "metadata": {
    "execution": {
     "iopub.execute_input": "2025-09-14T22:23:37.191352Z",
     "iopub.status.busy": "2025-09-14T22:23:37.191244Z",
     "iopub.status.idle": "2025-09-14T22:23:37.193346Z",
     "shell.execute_reply": "2025-09-14T22:23:37.193173Z"
    }
   },
   "outputs": [],
   "source": [
    "model = BlackScholes(volatility)"
   ]
  },
  {
   "cell_type": "code",
   "execution_count": 15,
   "metadata": {
    "execution": {
     "iopub.execute_input": "2025-09-14T22:23:37.194765Z",
     "iopub.status.busy": "2025-09-14T22:23:37.194479Z",
     "iopub.status.idle": "2025-09-14T22:23:37.197047Z",
     "shell.execute_reply": "2025-09-14T22:23:37.196761Z"
    }
   },
   "outputs": [],
   "source": [
    "call_values = call_option.value(value_dt, stock_price, discount_curve, dividend_curve, model)"
   ]
  },
  {
   "cell_type": "code",
   "execution_count": 16,
   "metadata": {
    "execution": {
     "iopub.execute_input": "2025-09-14T22:23:37.198678Z",
     "iopub.status.busy": "2025-09-14T22:23:37.198572Z",
     "iopub.status.idle": "2025-09-14T22:23:37.200403Z",
     "shell.execute_reply": "2025-09-14T22:23:37.200197Z"
    }
   },
   "outputs": [],
   "source": [
    "put_values = put_option.value(value_dt, stock_price, discount_curve, dividend_curve, model)"
   ]
  },
  {
   "cell_type": "code",
   "execution_count": 17,
   "metadata": {
    "execution": {
     "iopub.execute_input": "2025-09-14T22:23:37.201378Z",
     "iopub.status.busy": "2025-09-14T22:23:37.201215Z",
     "iopub.status.idle": "2025-09-14T22:23:37.203888Z",
     "shell.execute_reply": "2025-09-14T22:23:37.203660Z"
    }
   },
   "outputs": [
    {
     "data": {
      "text/plain": [
       "array([5.12093137e-08, 1.35547241e+01, 2.55148007e+01, 3.48262511e+01,\n",
       "       4.12227438e+01, 4.50998211e+01, 4.71732950e+01, 4.81517017e+01,\n",
       "       4.85590493e+01, 4.87086854e+01, 4.87571846e+01, 4.87710540e+01,\n",
       "       4.87745536e+01, 4.87753327e+01, 4.87754857e+01, 4.87755123e+01,\n",
       "       4.87755163e+01, 4.87755169e+01, 4.87755169e+01, 4.87755169e+01,\n",
       "       4.87755169e+01, 4.87755169e+01, 4.87755169e+01, 4.87755169e+01,\n",
       "       4.87755169e+01, 4.87755169e+01, 4.87755169e+01, 4.87755169e+01,\n",
       "       4.87755169e+01, 4.87755169e+01, 4.87755169e+01, 4.87755169e+01,\n",
       "       4.87755169e+01, 4.87755169e+01, 4.87755169e+01, 4.87755169e+01,\n",
       "       4.87755169e+01, 4.87755169e+01, 4.87755169e+01, 4.87755169e+01,\n",
       "       4.87755169e+01, 4.87755169e+01, 4.87755169e+01, 4.87755169e+01,\n",
       "       4.87755169e+01, 4.87755169e+01, 4.87755169e+01, 4.87755169e+01,\n",
       "       4.87755169e+01, 4.87755169e+01, 4.87755169e+01, 4.87755169e+01,\n",
       "       4.87755169e+01, 4.87755169e+01, 4.87755169e+01, 4.87755169e+01,\n",
       "       4.87755169e+01, 4.87755169e+01, 4.87755169e+01, 4.87755169e+01,\n",
       "       4.87755169e+01, 4.87755169e+01, 4.87755169e+01, 4.87755169e+01,\n",
       "       4.87755169e+01, 4.87755169e+01, 4.87755169e+01, 4.87755169e+01,\n",
       "       4.87755169e+01, 4.87755169e+01, 4.87755169e+01, 4.87755169e+01,\n",
       "       4.87755169e+01, 4.87755169e+01, 4.87755169e+01, 4.87755169e+01,\n",
       "       4.87755169e+01, 4.87755169e+01, 4.87755169e+01, 4.87755169e+01,\n",
       "       4.87755169e+01, 4.87755169e+01, 4.87755169e+01, 4.87755169e+01,\n",
       "       4.87755169e+01, 4.87755169e+01, 4.87755169e+01, 4.87755169e+01,\n",
       "       4.87755169e+01, 4.87755169e+01, 4.87755169e+01, 4.87755169e+01,\n",
       "       4.87755169e+01, 4.87755169e+01, 4.87755169e+01, 4.87755169e+01,\n",
       "       4.87755169e+01, 4.87755169e+01, 4.87755169e+01, 4.87755169e+01])"
      ]
     },
     "execution_count": 17,
     "metadata": {},
     "output_type": "execute_result"
    }
   ],
   "source": [
    "call_values"
   ]
  },
  {
   "cell_type": "code",
   "execution_count": 18,
   "metadata": {
    "execution": {
     "iopub.execute_input": "2025-09-14T22:23:37.205329Z",
     "iopub.status.busy": "2025-09-14T22:23:37.205024Z",
     "iopub.status.idle": "2025-09-14T22:23:37.207728Z",
     "shell.execute_reply": "2025-09-14T22:23:37.207428Z"
    }
   },
   "outputs": [
    {
     "data": {
      "text/plain": [
       "array([5.12093137e-08, 1.35547241e+01, 2.55148007e+01, 3.48262511e+01,\n",
       "       4.12227438e+01, 4.50998211e+01, 4.71732950e+01, 4.81517017e+01,\n",
       "       4.85590493e+01, 4.87086854e+01, 4.87571846e+01, 4.87710540e+01,\n",
       "       4.87745536e+01, 4.87753327e+01, 4.87754857e+01, 4.87755123e+01,\n",
       "       4.87755163e+01, 4.87755169e+01, 4.87755169e+01, 4.87755169e+01,\n",
       "       4.87755169e+01, 4.87755169e+01, 4.87755169e+01, 4.87755169e+01,\n",
       "       4.87755169e+01, 4.87755169e+01, 4.87755169e+01, 4.87755169e+01,\n",
       "       4.87755169e+01, 4.87755169e+01, 4.87755169e+01, 4.87755169e+01,\n",
       "       4.87755169e+01, 4.87755169e+01, 4.87755169e+01, 4.87755169e+01,\n",
       "       4.87755169e+01, 4.87755169e+01, 4.87755169e+01, 4.87755169e+01,\n",
       "       4.87755169e+01, 4.87755169e+01, 4.87755169e+01, 4.87755169e+01,\n",
       "       4.87755169e+01, 4.87755169e+01, 4.87755169e+01, 4.87755169e+01,\n",
       "       4.87755169e+01, 4.87755169e+01, 4.87755169e+01, 4.87755169e+01,\n",
       "       4.87755169e+01, 4.87755169e+01, 4.87755169e+01, 4.87755169e+01,\n",
       "       4.87755169e+01, 4.87755169e+01, 4.87755169e+01, 4.87755169e+01,\n",
       "       4.87755169e+01, 4.87755169e+01, 4.87755169e+01, 4.87755169e+01,\n",
       "       4.87755169e+01, 4.87755169e+01, 4.87755169e+01, 4.87755169e+01,\n",
       "       4.87755169e+01, 4.87755169e+01, 4.87755169e+01, 4.87755169e+01,\n",
       "       4.87755169e+01, 4.87755169e+01, 4.87755169e+01, 4.87755169e+01,\n",
       "       4.87755169e+01, 4.87755169e+01, 4.87755169e+01, 4.87755169e+01,\n",
       "       4.87755169e+01, 4.87755169e+01, 4.87755169e+01, 4.87755169e+01,\n",
       "       4.87755169e+01, 4.87755169e+01, 4.87755169e+01, 4.87755169e+01,\n",
       "       4.87755169e+01, 4.87755169e+01, 4.87755169e+01, 4.87755169e+01,\n",
       "       4.87755169e+01, 4.87755169e+01, 4.87755169e+01, 4.87755169e+01,\n",
       "       4.87755169e+01, 4.87755169e+01, 4.87755169e+01, 4.87755169e+01])"
      ]
     },
     "execution_count": 18,
     "metadata": {},
     "output_type": "execute_result"
    }
   ],
   "source": [
    "put_values"
   ]
  },
  {
   "cell_type": "code",
   "execution_count": 19,
   "metadata": {
    "execution": {
     "iopub.execute_input": "2025-09-14T22:23:37.208601Z",
     "iopub.status.busy": "2025-09-14T22:23:37.208492Z",
     "iopub.status.idle": "2025-09-14T22:23:37.265412Z",
     "shell.execute_reply": "2025-09-14T22:23:37.265090Z"
    }
   },
   "outputs": [
    {
     "data": {
      "text/plain": [
       "<matplotlib.legend.Legend at 0x16640704d70>"
      ]
     },
     "execution_count": 19,
     "metadata": {},
     "output_type": "execute_result"
    },
    {
     "data": {
      "image/png": "[encoded data removed]",
      "text/plain": [
       "<Figure size 640x480 with 1 Axes>"
      ]
     },
     "metadata": {},
     "output_type": "display_data"
    }
   ],
   "source": [
    "plt.plot(volatility, call_values, label=\"Call Value\")\n",
    "plt.plot(volatility, put_values, label=\"Put Value\")\n",
    "plt.legend()"
   ]
  },
  {
   "cell_type": "code",
   "execution_count": null,
   "metadata": {},
   "outputs": [],
   "source": []
  }
 ],
 "metadata": {
  "kernelspec": {
   "display_name": "base",
   "language": "python",
   "name": "python3"
  },
  "language_info": {
   "codemirror_mode": {
    "name": "ipython",
    "version": 3
   },
   "file_extension": ".py",
   "mimetype": "text/x-python",
   "name": "python",
   "nbconvert_exporter": "python",
   "pygments_lexer": "ipython3",
   "version": "3.13.7"
  }
 },
 "nbformat": 4,
 "nbformat_minor": 2
}
