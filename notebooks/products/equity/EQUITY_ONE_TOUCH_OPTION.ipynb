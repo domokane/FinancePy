{
 "cells": [
  {
   "cell_type": "markdown",
   "metadata": {},
   "source": [
    "# EQUITY ONE-TOUCH OPTION"
   ]
  },
  {
   "cell_type": "markdown",
   "metadata": {},
   "source": [
    "Analysis of equity options that trigger a payment (or non-payment) if a barrier is crossed at ANY time before expiry."
   ]
  },
  {
   "cell_type": "code",
   "execution_count": 1,
   "metadata": {
    "execution": {
     "iopub.execute_input": "2024-04-30T20:05:23.118107Z",
     "iopub.status.busy": "2024-04-30T20:05:23.118107Z",
     "iopub.status.idle": "2024-04-30T20:05:23.734293Z",
     "shell.execute_reply": "2024-04-30T20:05:23.734293Z"
    }
   },
   "outputs": [],
   "source": [
    "import numpy as np\n",
    "import matplotlib.pyplot as plt"
   ]
  },
  {
   "cell_type": "code",
   "execution_count": 2,
   "metadata": {
    "execution": {
     "iopub.execute_input": "2024-04-30T20:05:23.737341Z",
     "iopub.status.busy": "2024-04-30T20:05:23.736341Z",
     "iopub.status.idle": "2024-04-30T20:05:30.333376Z",
     "shell.execute_reply": "2024-04-30T20:05:30.333376Z"
    }
   },
   "outputs": [],
   "source": [
    "from financepy.utils import OptionTypes\n",
    "from financepy.models.black_scholes import BlackScholes\n"
   ]
  },
  {
   "cell_type": "code",
   "execution_count": 3,
   "metadata": {},
   "outputs": [],
   "source": [
    "from financepy.market.curves.discount_curve_flat import DiscountCurveFlat\n"
   ]
  },
  {
   "cell_type": "code",
   "execution_count": 4,
   "metadata": {},
   "outputs": [],
   "source": [
    "from financepy.products.equity.equity_one_touch_option import *"
   ]
  },
  {
   "cell_type": "markdown",
   "metadata": {},
   "source": [
    "## Types of One Touch Option"
   ]
  },
  {
   "cell_type": "code",
   "execution_count": 5,
   "metadata": {
    "execution": {
     "iopub.execute_input": "2024-04-30T20:05:30.336420Z",
     "iopub.status.busy": "2024-04-30T20:05:30.336420Z",
     "iopub.status.idle": "2024-04-30T20:05:30.339351Z",
     "shell.execute_reply": "2024-04-30T20:05:30.339351Z"
    }
   },
   "outputs": [
    {
     "name": "stdout",
     "output_type": "stream",
     "text": [
      "TouchOptionTypes.DOWN_AND_IN_CASH_AT_HIT\n",
      "TouchOptionTypes.UP_AND_IN_CASH_AT_HIT\n",
      "TouchOptionTypes.DOWN_AND_IN_CASH_AT_EXPIRY\n",
      "TouchOptionTypes.UP_AND_IN_CASH_AT_EXPIRY\n",
      "TouchOptionTypes.DOWN_AND_OUT_CASH_OR_NOTHING\n",
      "TouchOptionTypes.UP_AND_OUT_CASH_OR_NOTHING\n",
      "TouchOptionTypes.DOWN_AND_IN_ASSET_AT_HIT\n",
      "TouchOptionTypes.UP_AND_IN_ASSET_AT_HIT\n",
      "TouchOptionTypes.DOWN_AND_IN_ASSET_AT_EXPIRY\n",
      "TouchOptionTypes.UP_AND_IN_ASSET_AT_EXPIRY\n",
      "TouchOptionTypes.DOWN_AND_OUT_ASSET_OR_NOTHING\n",
      "TouchOptionTypes.UP_AND_OUT_ASSET_OR_NOTHING\n"
     ]
    }
   ],
   "source": [
    "for type in TouchOptionTypes:\n",
    "    print(type)"
   ]
  },
  {
   "cell_type": "markdown",
   "metadata": {},
   "source": [
    "## Valuation Parameters"
   ]
  },
  {
   "cell_type": "code",
   "execution_count": 6,
   "metadata": {
    "execution": {
     "iopub.execute_input": "2024-04-30T20:05:30.342004Z",
     "iopub.status.busy": "2024-04-30T20:05:30.342004Z",
     "iopub.status.idle": "2024-04-30T20:05:30.368447Z",
     "shell.execute_reply": "2024-04-30T20:05:30.368447Z"
    }
   },
   "outputs": [],
   "source": [
    "value_dt = Date(1, 1, 2016)\n",
    "expiry_dt = Date(2, 7, 2016)\n",
    "interest_rate = 0.10\n",
    "discount_curve = DiscountCurveFlat(value_dt, interest_rate)\n",
    "volatility = 0.20\n",
    "barrier_level = 100.0\n",
    "model = BlackScholes(volatility)\n",
    "dividend_yield = 0.02"
   ]
  },
  {
   "cell_type": "code",
   "execution_count": 7,
   "metadata": {
    "execution": {
     "iopub.execute_input": "2024-04-30T20:05:30.371986Z",
     "iopub.status.busy": "2024-04-30T20:05:30.371450Z",
     "iopub.status.idle": "2024-04-30T20:05:30.374997Z",
     "shell.execute_reply": "2024-04-30T20:05:30.374997Z"
    }
   },
   "outputs": [],
   "source": [
    "dividend_curve = DiscountCurveFlat(value_dt, dividend_yield)"
   ]
  },
  {
   "cell_type": "markdown",
   "metadata": {},
   "source": [
    "# Cash Payoff One Touch Options"
   ]
  },
  {
   "cell_type": "markdown",
   "metadata": {},
   "source": [
    "We consider cash payout options which trigger by the stock price falling."
   ]
  },
  {
   "cell_type": "code",
   "execution_count": 8,
   "metadata": {
    "execution": {
     "iopub.execute_input": "2024-04-30T20:05:30.377027Z",
     "iopub.status.busy": "2024-04-30T20:05:30.377027Z",
     "iopub.status.idle": "2024-04-30T20:05:30.380253Z",
     "shell.execute_reply": "2024-04-30T20:05:30.380253Z"
    }
   },
   "outputs": [],
   "source": [
    "stock_price = 105.0\n",
    "payment_size = 15.0"
   ]
  },
  {
   "cell_type": "code",
   "execution_count": 9,
   "metadata": {
    "execution": {
     "iopub.execute_input": "2024-04-30T20:05:30.382904Z",
     "iopub.status.busy": "2024-04-30T20:05:30.382904Z",
     "iopub.status.idle": "2024-04-30T20:05:30.385257Z",
     "shell.execute_reply": "2024-04-30T20:05:30.385257Z"
    }
   },
   "outputs": [],
   "source": [
    "downTypes = [TouchOptionTypes.DOWN_AND_IN_CASH_AT_HIT,\n",
    "             TouchOptionTypes.DOWN_AND_IN_CASH_AT_EXPIRY,\n",
    "             TouchOptionTypes.DOWN_AND_OUT_CASH_OR_NOTHING]"
   ]
  },
  {
   "cell_type": "code",
   "execution_count": 10,
   "metadata": {
    "execution": {
     "iopub.execute_input": "2024-04-30T20:05:30.387286Z",
     "iopub.status.busy": "2024-04-30T20:05:30.387286Z",
     "iopub.status.idle": "2024-04-30T20:05:30.736130Z",
     "shell.execute_reply": "2024-04-30T20:05:30.736130Z"
    }
   },
   "outputs": [
    {
     "name": "stdout",
     "output_type": "stream",
     "text": [
      "                                                 Option Type   Analytical  Monte Carlo\n",
      "                    TouchOptionTypes.DOWN_AND_IN_CASH_AT_HIT     10.01509      9.36049\n",
      "                 TouchOptionTypes.DOWN_AND_IN_CASH_AT_EXPIRY      9.63850      9.02194\n",
      "               TouchOptionTypes.DOWN_AND_OUT_CASH_OR_NOTHING      4.62994      5.24651\n"
     ]
    }
   ],
   "source": [
    "print(\"%60s %12s %12s\" % (\"Option Type\", \"Analytical\", \"Monte Carlo\"))\n",
    "for downType in downTypes:\n",
    "    option = EquityOneTouchOption(expiry_dt,downType,barrier_level,payment_size)\n",
    "    v = option.value(value_dt,stock_price,discount_curve,dividend_curve,model)\n",
    "    v_mc = option.value_mc(value_dt,stock_price,discount_curve,dividend_curve,model)\n",
    "    print(\"%60s %12.5f %12.5f\" % (downType, v, v_mc))"
   ]
  },
  {
   "cell_type": "code",
   "execution_count": 11,
   "metadata": {
    "execution": {
     "iopub.execute_input": "2024-04-30T20:05:30.739741Z",
     "iopub.status.busy": "2024-04-30T20:05:30.738758Z",
     "iopub.status.idle": "2024-04-30T20:05:30.742735Z",
     "shell.execute_reply": "2024-04-30T20:05:30.742444Z"
    }
   },
   "outputs": [],
   "source": [
    "stock_price = 95.0\n",
    "payment_size = 15.0"
   ]
  },
  {
   "cell_type": "code",
   "execution_count": 12,
   "metadata": {
    "execution": {
     "iopub.execute_input": "2024-04-30T20:05:30.744738Z",
     "iopub.status.busy": "2024-04-30T20:05:30.744738Z",
     "iopub.status.idle": "2024-04-30T20:05:30.748646Z",
     "shell.execute_reply": "2024-04-30T20:05:30.748386Z"
    }
   },
   "outputs": [],
   "source": [
    "upTypes = [TouchOptionTypes.UP_AND_IN_CASH_AT_HIT,\n",
    "           TouchOptionTypes.UP_AND_IN_CASH_AT_EXPIRY,\n",
    "           TouchOptionTypes.UP_AND_OUT_CASH_OR_NOTHING]"
   ]
  },
  {
   "cell_type": "code",
   "execution_count": 13,
   "metadata": {
    "execution": {
     "iopub.execute_input": "2024-04-30T20:05:30.750645Z",
     "iopub.status.busy": "2024-04-30T20:05:30.750645Z",
     "iopub.status.idle": "2024-04-30T20:05:31.099189Z",
     "shell.execute_reply": "2024-04-30T20:05:31.099189Z"
    }
   },
   "outputs": [
    {
     "name": "stdout",
     "output_type": "stream",
     "text": [
      "                                                 Option Type   Analytical  Monte Carlo\n",
      "               TouchOptionTypes.DOWN_AND_OUT_CASH_OR_NOTHING     11.41159     10.88927\n",
      "               TouchOptionTypes.DOWN_AND_OUT_CASH_OR_NOTHING     10.98807     10.50157\n",
      "               TouchOptionTypes.DOWN_AND_OUT_CASH_OR_NOTHING      3.28037      3.76687\n"
     ]
    }
   ],
   "source": [
    "print(\"%60s %12s %12s\" % (\"Option Type\", \"Analytical\", \"Monte Carlo\"))\n",
    "for upType in upTypes:\n",
    "    option = EquityOneTouchOption(expiry_dt,upType,barrier_level,payment_size)\n",
    "    v = option.value(value_dt,stock_price,discount_curve,dividend_curve,model)\n",
    "    v_mc = option.value_mc(value_dt,stock_price,discount_curve,dividend_curve,model)\n",
    "    print(\"%60s %12.5f %12.5f\" % (downType, v, v_mc))"
   ]
  },
  {
   "cell_type": "markdown",
   "metadata": {},
   "source": [
    "## Asset Payoff One Touch Options"
   ]
  },
  {
   "cell_type": "code",
   "execution_count": 14,
   "metadata": {
    "execution": {
     "iopub.execute_input": "2024-04-30T20:05:31.102870Z",
     "iopub.status.busy": "2024-04-30T20:05:31.102870Z",
     "iopub.status.idle": "2024-04-30T20:05:31.105841Z",
     "shell.execute_reply": "2024-04-30T20:05:31.105841Z"
    }
   },
   "outputs": [],
   "source": [
    "downTypes = [TouchOptionTypes.DOWN_AND_IN_ASSET_AT_HIT,\n",
    "             TouchOptionTypes.DOWN_AND_IN_ASSET_AT_EXPIRY,\n",
    "             TouchOptionTypes.DOWN_AND_OUT_ASSET_OR_NOTHING]"
   ]
  },
  {
   "cell_type": "code",
   "execution_count": 15,
   "metadata": {
    "execution": {
     "iopub.execute_input": "2024-04-30T20:05:31.108870Z",
     "iopub.status.busy": "2024-04-30T20:05:31.108870Z",
     "iopub.status.idle": "2024-04-30T20:05:31.111934Z",
     "shell.execute_reply": "2024-04-30T20:05:31.111934Z"
    }
   },
   "outputs": [],
   "source": [
    "stock_price = 105.0"
   ]
  },
  {
   "cell_type": "code",
   "execution_count": 16,
   "metadata": {
    "execution": {
     "iopub.execute_input": "2024-04-30T20:05:31.114963Z",
     "iopub.status.busy": "2024-04-30T20:05:31.114963Z",
     "iopub.status.idle": "2024-04-30T20:05:31.479678Z",
     "shell.execute_reply": "2024-04-30T20:05:31.479678Z"
    }
   },
   "outputs": [
    {
     "name": "stdout",
     "output_type": "stream",
     "text": [
      "                   TouchOptionTypes.DOWN_AND_IN_ASSET_AT_HIT  66.76729  62.40324\n",
      "                TouchOptionTypes.DOWN_AND_IN_ASSET_AT_EXPIRY  66.25674  63.23000\n",
      "              TouchOptionTypes.DOWN_AND_OUT_ASSET_OR_NOTHING  37.69849  42.48498\n"
     ]
    }
   ],
   "source": [
    "for downType in downTypes:\n",
    "    option = EquityOneTouchOption(expiry_dt, downType, barrier_level)\n",
    "    v = option.value(value_dt, stock_price, discount_curve, dividend_curve, model)\n",
    "    v_mc = option.value_mc(value_dt, stock_price, discount_curve, dividend_curve, model)\n",
    "    print(\"%60s %9.5f %9.5f\" % (downType, v, v_mc))"
   ]
  },
  {
   "cell_type": "code",
   "execution_count": 17,
   "metadata": {
    "execution": {
     "iopub.execute_input": "2024-04-30T20:05:31.481709Z",
     "iopub.status.busy": "2024-04-30T20:05:31.481709Z",
     "iopub.status.idle": "2024-04-30T20:05:31.485305Z",
     "shell.execute_reply": "2024-04-30T20:05:31.485305Z"
    }
   },
   "outputs": [],
   "source": [
    "stock_price = 95.0"
   ]
  },
  {
   "cell_type": "code",
   "execution_count": 18,
   "metadata": {
    "execution": {
     "iopub.execute_input": "2024-04-30T20:05:31.487332Z",
     "iopub.status.busy": "2024-04-30T20:05:31.487332Z",
     "iopub.status.idle": "2024-04-30T20:05:31.490189Z",
     "shell.execute_reply": "2024-04-30T20:05:31.490189Z"
    }
   },
   "outputs": [],
   "source": [
    "upTypes = [TouchOptionTypes.UP_AND_IN_ASSET_AT_HIT,\n",
    "           TouchOptionTypes.UP_AND_IN_ASSET_AT_EXPIRY,\n",
    "           TouchOptionTypes.UP_AND_OUT_ASSET_OR_NOTHING]"
   ]
  },
  {
   "cell_type": "code",
   "execution_count": 19,
   "metadata": {
    "execution": {
     "iopub.execute_input": "2024-04-30T20:05:31.492221Z",
     "iopub.status.busy": "2024-04-30T20:05:31.492221Z",
     "iopub.status.idle": "2024-04-30T20:05:31.952047Z",
     "shell.execute_reply": "2024-04-30T20:05:31.952047Z"
    }
   },
   "outputs": [
    {
     "name": "stdout",
     "output_type": "stream",
     "text": [
      "                     TouchOptionTypes.UP_AND_IN_ASSET_AT_HIT  76.07724  72.59511\n",
      "                  TouchOptionTypes.UP_AND_IN_ASSET_AT_EXPIRY  75.50317  73.60000\n",
      "                TouchOptionTypes.UP_AND_OUT_ASSET_OR_NOTHING  18.55157  21.42341\n"
     ]
    }
   ],
   "source": [
    "for upType in upTypes:\n",
    "    option = EquityOneTouchOption(expiry_dt, upType, barrier_level)\n",
    "    v = option.value(value_dt, stock_price, discount_curve, dividend_curve, model)\n",
    "    v_mc = option.value_mc(value_dt, stock_price, discount_curve, dividend_curve, model)\n",
    "    print(\"%60s %9.5f %9.5f\" % (upType, v, v_mc))"
   ]
  },
  {
   "cell_type": "code",
   "execution_count": 20,
   "metadata": {
    "execution": {
     "iopub.execute_input": "2024-04-30T20:05:31.955048Z",
     "iopub.status.busy": "2024-04-30T20:05:31.955048Z",
     "iopub.status.idle": "2024-04-30T20:05:31.957915Z",
     "shell.execute_reply": "2024-04-30T20:05:31.957915Z"
    }
   },
   "outputs": [
    {
     "name": "stdout",
     "output_type": "stream",
     "text": [
      "OBJECT TYPE: EquityOneTouchOption\n",
      "EXPIRY DATE: 02-JUL-2016\n",
      "OPTION TYPE: TouchOptionTypes.UP_AND_OUT_ASSET_OR_NOTHING\n",
      "BARRIER LEVEL: 100.0\n",
      "PAYMENT SIZE: 1.0\n"
     ]
    }
   ],
   "source": [
    "print(option)"
   ]
  },
  {
   "cell_type": "markdown",
   "metadata": {},
   "source": [
    "## Vectorisations"
   ]
  },
  {
   "cell_type": "markdown",
   "metadata": {},
   "source": [
    "We can vectorise two things at the same time as long as they have the same length"
   ]
  },
  {
   "cell_type": "code",
   "execution_count": 21,
   "metadata": {
    "execution": {
     "iopub.execute_input": "2024-04-30T20:05:31.960942Z",
     "iopub.status.busy": "2024-04-30T20:05:31.959944Z",
     "iopub.status.idle": "2024-04-30T20:05:31.963194Z",
     "shell.execute_reply": "2024-04-30T20:05:31.963194Z"
    }
   },
   "outputs": [],
   "source": [
    "stock_prices = np.linspace(1,99,100)"
   ]
  },
  {
   "cell_type": "code",
   "execution_count": 22,
   "metadata": {
    "execution": {
     "iopub.execute_input": "2024-04-30T20:05:31.965765Z",
     "iopub.status.busy": "2024-04-30T20:05:31.965765Z",
     "iopub.status.idle": "2024-04-30T20:05:31.971583Z",
     "shell.execute_reply": "2024-04-30T20:05:31.971583Z"
    }
   },
   "outputs": [
    {
     "data": {
      "text/plain": [
       "array([ 1.        ,  1.98989899,  2.97979798,  3.96969697,  4.95959596,\n",
       "        5.94949495,  6.93939394,  7.92929293,  8.91919192,  9.90909091,\n",
       "       10.8989899 , 11.88888889, 12.87878788, 13.86868687, 14.85858586,\n",
       "       15.84848485, 16.83838384, 17.82828283, 18.81818182, 19.80808081,\n",
       "       20.7979798 , 21.78787879, 22.77777778, 23.76767677, 24.75757576,\n",
       "       25.74747475, 26.73737374, 27.72727273, 28.71717172, 29.70707071,\n",
       "       30.6969697 , 31.68686869, 32.67676768, 33.66666667, 34.65656566,\n",
       "       35.64646465, 36.63636364, 37.62626263, 38.61616162, 39.60606061,\n",
       "       40.5959596 , 41.58585859, 42.57575758, 43.56565657, 44.55555556,\n",
       "       45.54545455, 46.53535354, 47.52525253, 48.51515152, 49.50505051,\n",
       "       50.49494949, 51.48484848, 52.47474747, 53.46464646, 54.45454545,\n",
       "       55.44444444, 56.43434343, 57.42424242, 58.41414141, 59.4040404 ,\n",
       "       60.39393939, 61.38383838, 62.37373737, 63.36363636, 64.35353535,\n",
       "       65.34343434, 66.33333333, 67.32323232, 68.31313131, 69.3030303 ,\n",
       "       70.29292929, 71.28282828, 72.27272727, 73.26262626, 74.25252525,\n",
       "       75.24242424, 76.23232323, 77.22222222, 78.21212121, 79.2020202 ,\n",
       "       80.19191919, 81.18181818, 82.17171717, 83.16161616, 84.15151515,\n",
       "       85.14141414, 86.13131313, 87.12121212, 88.11111111, 89.1010101 ,\n",
       "       90.09090909, 91.08080808, 92.07070707, 93.06060606, 94.05050505,\n",
       "       95.04040404, 96.03030303, 97.02020202, 98.01010101, 99.        ])"
      ]
     },
     "execution_count": 22,
     "metadata": {},
     "output_type": "execute_result"
    }
   ],
   "source": [
    "stock_prices"
   ]
  },
  {
   "cell_type": "code",
   "execution_count": 23,
   "metadata": {
    "execution": {
     "iopub.execute_input": "2024-04-30T20:05:31.974614Z",
     "iopub.status.busy": "2024-04-30T20:05:31.973614Z",
     "iopub.status.idle": "2024-04-30T20:05:32.137524Z",
     "shell.execute_reply": "2024-04-30T20:05:32.137524Z"
    }
   },
   "outputs": [
    {
     "data": {
      "image/png": "[encoded data removed]",
      "text/plain": [
       "<Figure size 640x480 with 1 Axes>"
      ]
     },
     "metadata": {},
     "output_type": "display_data"
    }
   ],
   "source": [
    "v = option.value(value_dt, stock_prices, discount_curve, dividend_curve, model)\n",
    "plt.plot(stock_prices, v)\n",
    "plt.xlabel(\"Stock Prices\")\n",
    "plt.ylabel(\"Option Price\");"
   ]
  },
  {
   "cell_type": "markdown",
   "metadata": {},
   "source": [
    "And we can do the same to the option delta."
   ]
  },
  {
   "cell_type": "markdown",
   "metadata": {},
   "source": [
    "## Risk Analysis"
   ]
  },
  {
   "cell_type": "markdown",
   "metadata": {},
   "source": [
    "The analytical model produced the following sensitivities"
   ]
  },
  {
   "cell_type": "code",
   "execution_count": 24,
   "metadata": {
    "execution": {
     "iopub.execute_input": "2024-04-30T20:05:32.140550Z",
     "iopub.status.busy": "2024-04-30T20:05:32.140550Z",
     "iopub.status.idle": "2024-04-30T20:05:32.144501Z",
     "shell.execute_reply": "2024-04-30T20:05:32.144501Z"
    }
   },
   "outputs": [
    {
     "data": {
      "text/plain": [
       "np.float64(-3.8695679507583236)"
      ]
     },
     "execution_count": 24,
     "metadata": {},
     "output_type": "execute_result"
    }
   ],
   "source": [
    "option.delta(value_dt, stock_price, discount_curve, dividend_curve, model)"
   ]
  },
  {
   "cell_type": "code",
   "execution_count": 25,
   "metadata": {
    "execution": {
     "iopub.execute_input": "2024-04-30T20:05:32.146532Z",
     "iopub.status.busy": "2024-04-30T20:05:32.146532Z",
     "iopub.status.idle": "2024-04-30T20:05:32.150972Z",
     "shell.execute_reply": "2024-04-30T20:05:32.150972Z"
    }
   },
   "outputs": [
    {
     "data": {
      "text/plain": [
       "np.float64(0.02048636815743521)"
      ]
     },
     "execution_count": 25,
     "metadata": {},
     "output_type": "execute_result"
    }
   ],
   "source": [
    "option.gamma(value_dt, stock_price, discount_curve, dividend_curve, model)"
   ]
  },
  {
   "cell_type": "code",
   "execution_count": 26,
   "metadata": {
    "execution": {
     "iopub.execute_input": "2024-04-30T20:05:32.153612Z",
     "iopub.status.busy": "2024-04-30T20:05:32.153612Z",
     "iopub.status.idle": "2024-04-30T20:05:32.157145Z",
     "shell.execute_reply": "2024-04-30T20:05:32.157145Z"
    }
   },
   "outputs": [
    {
     "data": {
      "text/plain": [
       "np.float64(27.58906804472126)"
      ]
     },
     "execution_count": 26,
     "metadata": {},
     "output_type": "execute_result"
    }
   ],
   "source": [
    "option.theta(value_dt, stock_price, discount_curve, dividend_curve, model)"
   ]
  },
  {
   "cell_type": "code",
   "execution_count": 27,
   "metadata": {
    "execution": {
     "iopub.execute_input": "2024-04-30T20:05:32.159174Z",
     "iopub.status.busy": "2024-04-30T20:05:32.159174Z",
     "iopub.status.idle": "2024-04-30T20:05:32.163540Z",
     "shell.execute_reply": "2024-04-30T20:05:32.163540Z"
    }
   },
   "outputs": [
    {
     "data": {
      "text/plain": [
       "np.float64(-0.7418670629173327)"
      ]
     },
     "execution_count": 27,
     "metadata": {},
     "output_type": "execute_result"
    }
   ],
   "source": [
    "option.vega(value_dt, stock_price, discount_curve, dividend_curve, model)"
   ]
  },
  {
   "cell_type": "code",
   "execution_count": 28,
   "metadata": {
    "execution": {
     "iopub.execute_input": "2024-04-30T20:05:32.165568Z",
     "iopub.status.busy": "2024-04-30T20:05:32.165568Z",
     "iopub.status.idle": "2024-04-30T20:05:32.170839Z",
     "shell.execute_reply": "2024-04-30T20:05:32.170839Z"
    }
   },
   "outputs": [
    {
     "data": {
      "text/plain": [
       "np.float64(-73.68237190821247)"
      ]
     },
     "execution_count": 28,
     "metadata": {},
     "output_type": "execute_result"
    }
   ],
   "source": [
    "option.rho(value_dt, stock_price, discount_curve, dividend_curve, model)"
   ]
  },
  {
   "cell_type": "markdown",
   "metadata": {},
   "source": [
    "Copyright (c) 2020 Dominic O'Kane"
   ]
  }
 ],
 "metadata": {
  "kernelspec": {
   "display_name": "Python 3",
   "language": "python",
   "name": "python3"
  },
  "language_info": {
   "codemirror_mode": {
    "name": "ipython",
    "version": 3
   },
   "file_extension": ".py",
   "mimetype": "text/x-python",
   "name": "python",
   "nbconvert_exporter": "python",
   "pygments_lexer": "ipython3",
   "version": "3.13.7"
  }
 },
 "nbformat": 4,
 "nbformat_minor": 2
}
