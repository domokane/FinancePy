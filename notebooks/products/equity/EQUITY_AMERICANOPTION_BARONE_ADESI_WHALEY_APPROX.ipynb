{
 "cells": [
  {
   "cell_type": "markdown",
   "metadata": {},
   "source": [
    "# EQUITY AMERICAN OPTION - BAW APPROXIMATION"
   ]
  },
  {
   "cell_type": "markdown",
   "metadata": {},
   "source": [
    "Valuation and Risk of American-style options on equity using BAW approximation"
   ]
  },
  {
   "cell_type": "code",
   "execution_count": 1,
   "metadata": {
    "execution": {
     "iopub.execute_input": "2025-09-14T22:21:58.455373Z",
     "iopub.status.busy": "2025-09-14T22:21:58.455260Z",
     "iopub.status.idle": "2025-09-14T22:21:58.675378Z",
     "shell.execute_reply": "2025-09-14T22:21:58.674962Z"
    }
   },
   "outputs": [],
   "source": [
    "import numpy as np\n",
    "import matplotlib.pyplot as plt"
   ]
  },
  {
   "cell_type": "code",
   "execution_count": 2,
   "metadata": {
    "execution": {
     "iopub.execute_input": "2025-09-14T22:21:58.677867Z",
     "iopub.status.busy": "2025-09-14T22:21:58.677669Z",
     "iopub.status.idle": "2025-09-14T22:22:00.654923Z",
     "shell.execute_reply": "2025-09-14T22:22:00.654587Z"
    }
   },
   "outputs": [],
   "source": [
    "from financepy.utils import *\n",
    "from financepy.market.curves.discount_curve_flat import *\n",
    "from financepy.products.equity.equity_american_option import *\n",
    "from financepy.products.equity.equity_vanilla_option import *\n",
    "from financepy.models.black_scholes import *"
   ]
  },
  {
   "cell_type": "markdown",
   "metadata": {},
   "source": [
    "# Define the Call and Put Options"
   ]
  },
  {
   "cell_type": "code",
   "execution_count": 3,
   "metadata": {
    "execution": {
     "iopub.execute_input": "2025-09-14T22:22:00.658024Z",
     "iopub.status.busy": "2025-09-14T22:22:00.657603Z",
     "iopub.status.idle": "2025-09-14T22:22:00.675152Z",
     "shell.execute_reply": "2025-09-14T22:22:00.674680Z"
    }
   },
   "outputs": [],
   "source": [
    "value_dt = Date(8, 5, 2015)"
   ]
  },
  {
   "cell_type": "code",
   "execution_count": 4,
   "metadata": {
    "execution": {
     "iopub.execute_input": "2025-09-14T22:22:00.677496Z",
     "iopub.status.busy": "2025-09-14T22:22:00.677351Z",
     "iopub.status.idle": "2025-09-14T22:22:00.680369Z",
     "shell.execute_reply": "2025-09-14T22:22:00.680003Z"
    }
   },
   "outputs": [],
   "source": [
    "expiry_dt = Date(15, 1, 2016)"
   ]
  },
  {
   "cell_type": "code",
   "execution_count": 5,
   "metadata": {
    "execution": {
     "iopub.execute_input": "2025-09-14T22:22:00.682310Z",
     "iopub.status.busy": "2025-09-14T22:22:00.682175Z",
     "iopub.status.idle": "2025-09-14T22:22:00.684363Z",
     "shell.execute_reply": "2025-09-14T22:22:00.684011Z"
    }
   },
   "outputs": [],
   "source": [
    "strike_price = 130"
   ]
  },
  {
   "cell_type": "markdown",
   "metadata": {},
   "source": [
    "Create the call Option"
   ]
  },
  {
   "cell_type": "code",
   "execution_count": 6,
   "metadata": {
    "execution": {
     "iopub.execute_input": "2025-09-14T22:22:00.686311Z",
     "iopub.status.busy": "2025-09-14T22:22:00.686200Z",
     "iopub.status.idle": "2025-09-14T22:22:00.688038Z",
     "shell.execute_reply": "2025-09-14T22:22:00.687779Z"
    }
   },
   "outputs": [],
   "source": [
    "amCallOption = EquityAmericanOption(expiry_dt, strike_price, OptionTypes.AMERICAN_CALL)"
   ]
  },
  {
   "cell_type": "code",
   "execution_count": 7,
   "metadata": {
    "execution": {
     "iopub.execute_input": "2025-09-14T22:22:00.689523Z",
     "iopub.status.busy": "2025-09-14T22:22:00.689416Z",
     "iopub.status.idle": "2025-09-14T22:22:00.692420Z",
     "shell.execute_reply": "2025-09-14T22:22:00.692157Z"
    }
   },
   "outputs": [
    {
     "name": "stdout",
     "output_type": "stream",
     "text": [
      "OBJECT TYPE: EquityAmericanOption\n",
      "EXPIRY DATE: 15-JAN-2016\n",
      "STRIKE PRICE: 130\n",
      "OPTION TYPE: OptionTypes.AMERICAN_CALL\n",
      "NUMBER: 1.0\n"
     ]
    }
   ],
   "source": [
    "print(amCallOption)"
   ]
  },
  {
   "cell_type": "markdown",
   "metadata": {},
   "source": [
    "We can also define an American option with a European payoff - this way we will use the same CRR tree for the pricing."
   ]
  },
  {
   "cell_type": "code",
   "execution_count": 8,
   "metadata": {
    "execution": {
     "iopub.execute_input": "2025-09-14T22:22:00.693922Z",
     "iopub.status.busy": "2025-09-14T22:22:00.693815Z",
     "iopub.status.idle": "2025-09-14T22:22:00.695924Z",
     "shell.execute_reply": "2025-09-14T22:22:00.695679Z"
    }
   },
   "outputs": [],
   "source": [
    "euCallOption = EquityAmericanOption(expiry_dt, strike_price, OptionTypes.EUROPEAN_CALL)"
   ]
  },
  {
   "cell_type": "markdown",
   "metadata": {},
   "source": [
    "We can also define an actual vanilla call option which will be priced using Black Scholes."
   ]
  },
  {
   "cell_type": "code",
   "execution_count": 9,
   "metadata": {
    "execution": {
     "iopub.execute_input": "2025-09-14T22:22:00.697052Z",
     "iopub.status.busy": "2025-09-14T22:22:00.696949Z",
     "iopub.status.idle": "2025-09-14T22:22:00.699255Z",
     "shell.execute_reply": "2025-09-14T22:22:00.698920Z"
    }
   },
   "outputs": [],
   "source": [
    "call_option = EquityVanillaOption(expiry_dt, strike_price, OptionTypes.EUROPEAN_CALL)"
   ]
  },
  {
   "cell_type": "markdown",
   "metadata": {},
   "source": [
    "Now we can explore the pricing of all three to check for consistency and tree convergence."
   ]
  },
  {
   "cell_type": "markdown",
   "metadata": {},
   "source": [
    "## Valuation"
   ]
  },
  {
   "cell_type": "code",
   "execution_count": 10,
   "metadata": {
    "execution": {
     "iopub.execute_input": "2025-09-14T22:22:00.701058Z",
     "iopub.status.busy": "2025-09-14T22:22:00.700939Z",
     "iopub.status.idle": "2025-09-14T22:22:00.702767Z",
     "shell.execute_reply": "2025-09-14T22:22:00.702498Z"
    }
   },
   "outputs": [],
   "source": [
    "stock_price = 127.62\n",
    "volatility = 0.20\n",
    "interest_rate = 0.001\n",
    "dividend_yield = 0.0163"
   ]
  },
  {
   "cell_type": "code",
   "execution_count": 11,
   "metadata": {
    "execution": {
     "iopub.execute_input": "2025-09-14T22:22:00.703785Z",
     "iopub.status.busy": "2025-09-14T22:22:00.703645Z",
     "iopub.status.idle": "2025-09-14T22:22:00.712961Z",
     "shell.execute_reply": "2025-09-14T22:22:00.712446Z"
    }
   },
   "outputs": [],
   "source": [
    "discount_curve = DiscountCurveFlat(value_dt, interest_rate,\n",
    "                                     FrequencyTypes.CONTINUOUS,\n",
    "                                     DayCountTypes.ACT_365F)"
   ]
  },
  {
   "cell_type": "code",
   "execution_count": 12,
   "metadata": {
    "execution": {
     "iopub.execute_input": "2025-09-14T22:22:00.716011Z",
     "iopub.status.busy": "2025-09-14T22:22:00.715881Z",
     "iopub.status.idle": "2025-09-14T22:22:00.718248Z",
     "shell.execute_reply": "2025-09-14T22:22:00.717911Z"
    }
   },
   "outputs": [],
   "source": [
    "dividend_curve = DiscountCurveFlat(value_dt, dividend_yield)"
   ]
  },
  {
   "cell_type": "markdown",
   "metadata": {},
   "source": [
    "We now define the model. This is Black-Scholes. We can also specify the number of steps to use on the tree,"
   ]
  },
  {
   "cell_type": "code",
   "execution_count": 13,
   "metadata": {
    "execution": {
     "iopub.execute_input": "2025-09-14T22:22:00.720266Z",
     "iopub.status.busy": "2025-09-14T22:22:00.720152Z",
     "iopub.status.idle": "2025-09-14T22:22:00.722614Z",
     "shell.execute_reply": "2025-09-14T22:22:00.722012Z"
    }
   },
   "outputs": [],
   "source": [
    "num_steps_per_year = 400"
   ]
  },
  {
   "cell_type": "code",
   "execution_count": 14,
   "metadata": {
    "execution": {
     "iopub.execute_input": "2025-09-14T22:22:00.725618Z",
     "iopub.status.busy": "2025-09-14T22:22:00.725442Z",
     "iopub.status.idle": "2025-09-14T22:22:00.727836Z",
     "shell.execute_reply": "2025-09-14T22:22:00.727516Z"
    }
   },
   "outputs": [],
   "source": [
    "modelTree = BlackScholes(volatility,\n",
    "                                 BlackScholesTypes.CRR_TREE,\n",
    "                                 num_steps_per_year )"
   ]
  },
  {
   "cell_type": "code",
   "execution_count": 15,
   "metadata": {
    "execution": {
     "iopub.execute_input": "2025-09-14T22:22:00.729458Z",
     "iopub.status.busy": "2025-09-14T22:22:00.729325Z",
     "iopub.status.idle": "2025-09-14T22:22:00.734703Z",
     "shell.execute_reply": "2025-09-14T22:22:00.734516Z"
    }
   },
   "outputs": [
    {
     "data": {
      "text/plain": [
       "np.float64(6.8391380697921615)"
      ]
     },
     "execution_count": 15,
     "metadata": {},
     "output_type": "execute_result"
    }
   ],
   "source": [
    "amCallOption.value(value_dt, stock_price, discount_curve, dividend_curve, modelTree)"
   ]
  },
  {
   "cell_type": "code",
   "execution_count": 16,
   "metadata": {
    "execution": {
     "iopub.execute_input": "2025-09-14T22:22:00.735942Z",
     "iopub.status.busy": "2025-09-14T22:22:00.735820Z",
     "iopub.status.idle": "2025-09-14T22:22:00.737957Z",
     "shell.execute_reply": "2025-09-14T22:22:00.737630Z"
    }
   },
   "outputs": [],
   "source": [
    "modelApprox = BlackScholes(volatility, BlackScholesTypes.BARONE_ADESI)"
   ]
  },
  {
   "cell_type": "code",
   "execution_count": 17,
   "metadata": {
    "execution": {
     "iopub.execute_input": "2025-09-14T22:22:00.739114Z",
     "iopub.status.busy": "2025-09-14T22:22:00.738993Z",
     "iopub.status.idle": "2025-09-14T22:22:01.572040Z",
     "shell.execute_reply": "2025-09-14T22:22:01.571665Z"
    }
   },
   "outputs": [
    {
     "data": {
      "text/plain": [
       "6.827753597158058"
      ]
     },
     "execution_count": 17,
     "metadata": {},
     "output_type": "execute_result"
    }
   ],
   "source": [
    "amCallOption.value(value_dt, stock_price, discount_curve, dividend_curve, modelApprox)"
   ]
  },
  {
   "cell_type": "markdown",
   "metadata": {},
   "source": [
    "Compare it to European using same tree"
   ]
  },
  {
   "cell_type": "code",
   "execution_count": 18,
   "metadata": {
    "execution": {
     "iopub.execute_input": "2025-09-14T22:22:01.573773Z",
     "iopub.status.busy": "2025-09-14T22:22:01.573579Z",
     "iopub.status.idle": "2025-09-14T22:22:01.576936Z",
     "shell.execute_reply": "2025-09-14T22:22:01.576670Z"
    }
   },
   "outputs": [
    {
     "data": {
      "text/plain": [
       "np.float64(6.751136062156512)"
      ]
     },
     "execution_count": 18,
     "metadata": {},
     "output_type": "execute_result"
    }
   ],
   "source": [
    "euCallOption.value(value_dt, stock_price, discount_curve, dividend_curve, modelTree)"
   ]
  },
  {
   "cell_type": "markdown",
   "metadata": {},
   "source": [
    "This is lower as we would expect due to the lack of early exercise. Let's check this against the Black Scholes model analytical form."
   ]
  },
  {
   "cell_type": "code",
   "execution_count": 19,
   "metadata": {
    "execution": {
     "iopub.execute_input": "2025-09-14T22:22:01.578400Z",
     "iopub.status.busy": "2025-09-14T22:22:01.578291Z",
     "iopub.status.idle": "2025-09-14T22:22:01.580142Z",
     "shell.execute_reply": "2025-09-14T22:22:01.579886Z"
    }
   },
   "outputs": [],
   "source": [
    "modelAnal = BlackScholes(volatility, BlackScholesTypes.ANALYTICAL)"
   ]
  },
  {
   "cell_type": "code",
   "execution_count": 20,
   "metadata": {
    "execution": {
     "iopub.execute_input": "2025-09-14T22:22:01.581194Z",
     "iopub.status.busy": "2025-09-14T22:22:01.581057Z",
     "iopub.status.idle": "2025-09-14T22:22:01.583420Z",
     "shell.execute_reply": "2025-09-14T22:22:01.583179Z"
    }
   },
   "outputs": [
    {
     "data": {
      "text/plain": [
       "np.float64(6.74935662387659)"
      ]
     },
     "execution_count": 20,
     "metadata": {},
     "output_type": "execute_result"
    }
   ],
   "source": [
    "call_option.value(value_dt, stock_price, discount_curve, dividend_curve, modelAnal)"
   ]
  },
  {
   "cell_type": "markdown",
   "metadata": {},
   "source": [
    "The price is close to the 6.74927 found by QL - see http://gouthamanbalaraman.com/blog/european-option-binomial-tree-quantlib-python.html. Differences with QL could be due to differences in time calculations. It is also different from the Tree value but that is a tree convergence issue. Let's see how good convergence is."
   ]
  },
  {
   "cell_type": "markdown",
   "metadata": {},
   "source": [
    "## Tree Convergence"
   ]
  },
  {
   "cell_type": "code",
   "execution_count": 21,
   "metadata": {
    "execution": {
     "iopub.execute_input": "2025-09-14T22:22:01.584746Z",
     "iopub.status.busy": "2025-09-14T22:22:01.584589Z",
     "iopub.status.idle": "2025-09-14T22:22:01.586427Z",
     "shell.execute_reply": "2025-09-14T22:22:01.586157Z"
    }
   },
   "outputs": [],
   "source": [
    "num_steps_per_year = range(5, 200, 1)"
   ]
  },
  {
   "cell_type": "code",
   "execution_count": 22,
   "metadata": {
    "execution": {
     "iopub.execute_input": "2025-09-14T22:22:01.587553Z",
     "iopub.status.busy": "2025-09-14T22:22:01.587405Z",
     "iopub.status.idle": "2025-09-14T22:22:01.615511Z",
     "shell.execute_reply": "2025-09-14T22:22:01.614761Z"
    }
   },
   "outputs": [],
   "source": [
    "amTreeValue = []\n",
    "amBAWValue = []\n",
    "euTreeValue = []\n",
    "euAnalValue = []\n",
    "\n",
    "volatility = 0.20\n",
    "\n",
    "for num_steps in num_steps_per_year:\n",
    "\n",
    "    modelTree = BlackScholes(volatility,\n",
    "                                     BlackScholesTypes.CRR_TREE,\n",
    "                                     num_steps)\n",
    "\n",
    "    modelAnal = BlackScholes(volatility,\n",
    "                                     BlackScholesTypes.ANALYTICAL)\n",
    "\n",
    "    modelBAW = BlackScholes(volatility,\n",
    "                                    BlackScholesTypes.BARONE_ADESI)\n",
    "\n",
    "    v_am = amCallOption.value(value_dt, stock_price, discount_curve, dividend_curve, modelTree)\n",
    "    v_eu = euCallOption.value(value_dt, stock_price, discount_curve, dividend_curve, modelTree)\n",
    "    v_bs = call_option.value(value_dt, stock_price, discount_curve, dividend_curve, modelAnal)\n",
    "    v_am_baw = amCallOption.value(value_dt, stock_price, discount_curve, dividend_curve, modelBAW)\n",
    "\n",
    "    amTreeValue.append(v_am)\n",
    "    euTreeValue.append(v_eu)\n",
    "    euAnalValue.append(v_bs)\n",
    "    amBAWValue.append(v_am_baw)\n"
   ]
  },
  {
   "cell_type": "code",
   "execution_count": 23,
   "metadata": {
    "execution": {
     "iopub.execute_input": "2025-09-14T22:22:01.618529Z",
     "iopub.status.busy": "2025-09-14T22:22:01.618114Z",
     "iopub.status.idle": "2025-09-14T22:22:01.695585Z",
     "shell.execute_reply": "2025-09-14T22:22:01.694904Z"
    }
   },
   "outputs": [
    {
     "data": {
      "image/png": "[encoded data removed]",
      "text/plain": [
       "<Figure size 640x480 with 1 Axes>"
      ]
     },
     "metadata": {},
     "output_type": "display_data"
    }
   ],
   "source": [
    "plt.title(\"American Option Price Convergence Analysis\")\n",
    "plt.plot(num_steps_per_year, amTreeValue, label=\"American Tree\")\n",
    "plt.plot(num_steps_per_year, amBAWValue, label=\"American BAW\")\n",
    "plt.plot(num_steps_per_year, euTreeValue, label=\"European Tree\")\n",
    "plt.plot(num_steps_per_year, euAnalValue, label=\"European Anal\", lw =2)\n",
    "plt.xlabel(\"NumSteps\")\n",
    "plt.ylabel(\"Value\")\n",
    "plt.legend();"
   ]
  },
  {
   "cell_type": "markdown",
   "metadata": {},
   "source": [
    "Agreement with QL is very good and tree convergence appears much better - probably assisted by fact that I average even and odd numbers of steps internally."
   ]
  },
  {
   "cell_type": "markdown",
   "metadata": {},
   "source": [
    "Copyright (c) 2020 Dominic O'Kane"
   ]
  }
 ],
 "metadata": {
  "kernelspec": {
   "display_name": "base",
   "language": "python",
   "name": "python3"
  },
  "language_info": {
   "codemirror_mode": {
    "name": "ipython",
    "version": 3
   },
   "file_extension": ".py",
   "mimetype": "text/x-python",
   "name": "python",
   "nbconvert_exporter": "python",
   "pygments_lexer": "ipython3",
   "version": "3.13.7"
  }
 },
 "nbformat": 4,
 "nbformat_minor": 2
}
