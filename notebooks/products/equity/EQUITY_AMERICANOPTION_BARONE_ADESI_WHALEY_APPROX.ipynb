{
 "cells": [
  {
   "cell_type": "markdown",
   "metadata": {},
   "source": [
    "# EQUITY AMERICAN OPTION - BAW APPROXIMATION"
   ]
  },
  {
   "cell_type": "markdown",
   "metadata": {},
   "source": [
    "Valuation and Risk of American-style options on equity using BAW approximation"
   ]
  },
  {
   "cell_type": "code",
   "execution_count": 1,
   "metadata": {
    "execution": {
     "iopub.execute_input": "2025-08-27T22:31:35.725244Z",
     "iopub.status.busy": "2025-08-27T22:31:35.724926Z",
     "iopub.status.idle": "2025-08-27T22:31:36.196074Z",
     "shell.execute_reply": "2025-08-27T22:31:36.195601Z"
    }
   },
   "outputs": [],
   "source": [
    "import numpy as np\n",
    "import matplotlib.pyplot as plt"
   ]
  },
  {
   "cell_type": "code",
   "execution_count": 2,
   "metadata": {
    "execution": {
     "iopub.execute_input": "2025-08-27T22:31:36.198799Z",
     "iopub.status.busy": "2025-08-27T22:31:36.198354Z",
     "iopub.status.idle": "2025-08-27T22:31:39.004647Z",
     "shell.execute_reply": "2025-08-27T22:31:39.004155Z"
    }
   },
   "outputs": [],
   "source": [
    "from financepy.utils import *\n",
    "from financepy.market.curves.discount_curve_flat import *\n",
    "from financepy.products.equity.equity_american_option import *\n",
    "from financepy.products.equity.equity_vanilla_option import *\n",
    "from financepy.models.black_scholes import *"
   ]
  },
  {
   "cell_type": "markdown",
   "metadata": {},
   "source": [
    "# Define the Call and Put Options"
   ]
  },
  {
   "cell_type": "code",
   "execution_count": 3,
   "metadata": {
    "execution": {
     "iopub.execute_input": "2025-08-27T22:31:39.007697Z",
     "iopub.status.busy": "2025-08-27T22:31:39.007199Z",
     "iopub.status.idle": "2025-08-27T22:31:39.027200Z",
     "shell.execute_reply": "2025-08-27T22:31:39.026574Z"
    }
   },
   "outputs": [],
   "source": [
    "value_dt = Date(8, 5, 2015)"
   ]
  },
  {
   "cell_type": "code",
   "execution_count": 4,
   "metadata": {
    "execution": {
     "iopub.execute_input": "2025-08-27T22:31:39.029865Z",
     "iopub.status.busy": "2025-08-27T22:31:39.029558Z",
     "iopub.status.idle": "2025-08-27T22:31:39.031969Z",
     "shell.execute_reply": "2025-08-27T22:31:39.031640Z"
    }
   },
   "outputs": [],
   "source": [
    "expiry_dt = Date(15, 1, 2016)"
   ]
  },
  {
   "cell_type": "code",
   "execution_count": 5,
   "metadata": {
    "execution": {
     "iopub.execute_input": "2025-08-27T22:31:39.033646Z",
     "iopub.status.busy": "2025-08-27T22:31:39.033458Z",
     "iopub.status.idle": "2025-08-27T22:31:39.035552Z",
     "shell.execute_reply": "2025-08-27T22:31:39.035223Z"
    }
   },
   "outputs": [],
   "source": [
    "strike_price = 130"
   ]
  },
  {
   "cell_type": "markdown",
   "metadata": {},
   "source": [
    "Create the call Option"
   ]
  },
  {
   "cell_type": "code",
   "execution_count": 6,
   "metadata": {
    "execution": {
     "iopub.execute_input": "2025-08-27T22:31:39.037992Z",
     "iopub.status.busy": "2025-08-27T22:31:39.037721Z",
     "iopub.status.idle": "2025-08-27T22:31:39.040245Z",
     "shell.execute_reply": "2025-08-27T22:31:39.039863Z"
    }
   },
   "outputs": [],
   "source": [
    "amCallOption = EquityAmericanOption(expiry_dt, strike_price, OptionTypes.AMERICAN_CALL)"
   ]
  },
  {
   "cell_type": "code",
   "execution_count": 7,
   "metadata": {
    "execution": {
     "iopub.execute_input": "2025-08-27T22:31:39.042545Z",
     "iopub.status.busy": "2025-08-27T22:31:39.042285Z",
     "iopub.status.idle": "2025-08-27T22:31:39.045935Z",
     "shell.execute_reply": "2025-08-27T22:31:39.045558Z"
    }
   },
   "outputs": [
    {
     "name": "stdout",
     "output_type": "stream",
     "text": [
      "OBJECT TYPE: EquityAmericanOption\n",
      "EXPIRY DATE: 15-JAN-2016\n",
      "STRIKE PRICE: 130\n",
      "OPTION TYPE: OptionTypes.AMERICAN_CALL\n",
      "NUMBER: 1.0\n"
     ]
    }
   ],
   "source": [
    "print(amCallOption)"
   ]
  },
  {
   "cell_type": "markdown",
   "metadata": {},
   "source": [
    "We can also define an American option with a European payoff - this way we will use the same CRR tree for the pricing."
   ]
  },
  {
   "cell_type": "code",
   "execution_count": 8,
   "metadata": {
    "execution": {
     "iopub.execute_input": "2025-08-27T22:31:39.048349Z",
     "iopub.status.busy": "2025-08-27T22:31:39.048058Z",
     "iopub.status.idle": "2025-08-27T22:31:39.050671Z",
     "shell.execute_reply": "2025-08-27T22:31:39.050290Z"
    }
   },
   "outputs": [],
   "source": [
    "euCallOption = EquityAmericanOption(expiry_dt, strike_price, OptionTypes.EUROPEAN_CALL)"
   ]
  },
  {
   "cell_type": "markdown",
   "metadata": {},
   "source": [
    "We can also define an actual vanilla call option which will be priced using Black Scholes."
   ]
  },
  {
   "cell_type": "code",
   "execution_count": 9,
   "metadata": {
    "execution": {
     "iopub.execute_input": "2025-08-27T22:31:39.052655Z",
     "iopub.status.busy": "2025-08-27T22:31:39.052461Z",
     "iopub.status.idle": "2025-08-27T22:31:39.055016Z",
     "shell.execute_reply": "2025-08-27T22:31:39.054681Z"
    }
   },
   "outputs": [],
   "source": [
    "call_option = EquityVanillaOption(expiry_dt, strike_price, OptionTypes.EUROPEAN_CALL)"
   ]
  },
  {
   "cell_type": "markdown",
   "metadata": {},
   "source": [
    "Now we can explore the pricing of all three to check for consistency and tree convergence."
   ]
  },
  {
   "cell_type": "markdown",
   "metadata": {},
   "source": [
    "## Valuation"
   ]
  },
  {
   "cell_type": "code",
   "execution_count": 10,
   "metadata": {
    "execution": {
     "iopub.execute_input": "2025-08-27T22:31:39.057006Z",
     "iopub.status.busy": "2025-08-27T22:31:39.056705Z",
     "iopub.status.idle": "2025-08-27T22:31:39.059255Z",
     "shell.execute_reply": "2025-08-27T22:31:39.058841Z"
    }
   },
   "outputs": [],
   "source": [
    "stock_price = 127.62\n",
    "volatility = 0.20\n",
    "interest_rate = 0.001\n",
    "dividend_yield = 0.0163"
   ]
  },
  {
   "cell_type": "code",
   "execution_count": 11,
   "metadata": {
    "execution": {
     "iopub.execute_input": "2025-08-27T22:31:39.060901Z",
     "iopub.status.busy": "2025-08-27T22:31:39.060603Z",
     "iopub.status.idle": "2025-08-27T22:31:39.069127Z",
     "shell.execute_reply": "2025-08-27T22:31:39.068578Z"
    }
   },
   "outputs": [],
   "source": [
    "discount_curve = DiscountCurveFlat(value_dt, interest_rate,\n",
    "                                     FrequencyTypes.CONTINUOUS,\n",
    "                                     DayCountTypes.ACT_365F)"
   ]
  },
  {
   "cell_type": "code",
   "execution_count": 12,
   "metadata": {
    "execution": {
     "iopub.execute_input": "2025-08-27T22:31:39.071726Z",
     "iopub.status.busy": "2025-08-27T22:31:39.071421Z",
     "iopub.status.idle": "2025-08-27T22:31:39.074874Z",
     "shell.execute_reply": "2025-08-27T22:31:39.074492Z"
    }
   },
   "outputs": [],
   "source": [
    "dividend_curve = DiscountCurveFlat(value_dt, dividend_yield)"
   ]
  },
  {
   "cell_type": "markdown",
   "metadata": {},
   "source": [
    "We now define the model. This is Black-Scholes. We can also specify the number of steps to use on the tree,"
   ]
  },
  {
   "cell_type": "code",
   "execution_count": 13,
   "metadata": {
    "execution": {
     "iopub.execute_input": "2025-08-27T22:31:39.077228Z",
     "iopub.status.busy": "2025-08-27T22:31:39.076926Z",
     "iopub.status.idle": "2025-08-27T22:31:39.079130Z",
     "shell.execute_reply": "2025-08-27T22:31:39.078794Z"
    }
   },
   "outputs": [],
   "source": [
    "num_steps_per_year = 400"
   ]
  },
  {
   "cell_type": "code",
   "execution_count": 14,
   "metadata": {
    "execution": {
     "iopub.execute_input": "2025-08-27T22:31:39.081218Z",
     "iopub.status.busy": "2025-08-27T22:31:39.081032Z",
     "iopub.status.idle": "2025-08-27T22:31:39.083612Z",
     "shell.execute_reply": "2025-08-27T22:31:39.083174Z"
    }
   },
   "outputs": [],
   "source": [
    "modelTree = BlackScholes(volatility,\n",
    "                                 BlackScholesTypes.CRR_TREE,\n",
    "                                 num_steps_per_year )"
   ]
  },
  {
   "cell_type": "code",
   "execution_count": 15,
   "metadata": {
    "execution": {
     "iopub.execute_input": "2025-08-27T22:31:39.085669Z",
     "iopub.status.busy": "2025-08-27T22:31:39.085401Z",
     "iopub.status.idle": "2025-08-27T22:31:39.091717Z",
     "shell.execute_reply": "2025-08-27T22:31:39.091227Z"
    }
   },
   "outputs": [
    {
     "data": {
      "text/plain": [
       "np.float64(6.8391380697921615)"
      ]
     },
     "execution_count": 15,
     "metadata": {},
     "output_type": "execute_result"
    }
   ],
   "source": [
    "amCallOption.value(value_dt, stock_price, discount_curve, dividend_curve, modelTree)"
   ]
  },
  {
   "cell_type": "code",
   "execution_count": 16,
   "metadata": {
    "execution": {
     "iopub.execute_input": "2025-08-27T22:31:39.093892Z",
     "iopub.status.busy": "2025-08-27T22:31:39.093696Z",
     "iopub.status.idle": "2025-08-27T22:31:39.096070Z",
     "shell.execute_reply": "2025-08-27T22:31:39.095683Z"
    }
   },
   "outputs": [],
   "source": [
    "modelApprox = BlackScholes(volatility, BlackScholesTypes.BARONE_ADESI)"
   ]
  },
  {
   "cell_type": "code",
   "execution_count": 17,
   "metadata": {
    "execution": {
     "iopub.execute_input": "2025-08-27T22:31:39.097695Z",
     "iopub.status.busy": "2025-08-27T22:31:39.097491Z",
     "iopub.status.idle": "2025-08-27T22:31:40.422453Z",
     "shell.execute_reply": "2025-08-27T22:31:40.421796Z"
    }
   },
   "outputs": [
    {
     "data": {
      "text/plain": [
       "6.827753597158058"
      ]
     },
     "execution_count": 17,
     "metadata": {},
     "output_type": "execute_result"
    }
   ],
   "source": [
    "amCallOption.value(value_dt, stock_price, discount_curve, dividend_curve, modelApprox)"
   ]
  },
  {
   "cell_type": "markdown",
   "metadata": {},
   "source": [
    "Compare it to European using same tree"
   ]
  },
  {
   "cell_type": "code",
   "execution_count": 18,
   "metadata": {
    "execution": {
     "iopub.execute_input": "2025-08-27T22:31:40.424631Z",
     "iopub.status.busy": "2025-08-27T22:31:40.424404Z",
     "iopub.status.idle": "2025-08-27T22:31:40.428492Z",
     "shell.execute_reply": "2025-08-27T22:31:40.428120Z"
    }
   },
   "outputs": [
    {
     "data": {
      "text/plain": [
       "np.float64(6.751136062156512)"
      ]
     },
     "execution_count": 18,
     "metadata": {},
     "output_type": "execute_result"
    }
   ],
   "source": [
    "euCallOption.value(value_dt, stock_price, discount_curve, dividend_curve, modelTree)"
   ]
  },
  {
   "cell_type": "markdown",
   "metadata": {},
   "source": [
    "This is lower as we would expect due to the lack of early exercise. Let's check this against the Black Scholes model analytical form."
   ]
  },
  {
   "cell_type": "code",
   "execution_count": 19,
   "metadata": {
    "execution": {
     "iopub.execute_input": "2025-08-27T22:31:40.430700Z",
     "iopub.status.busy": "2025-08-27T22:31:40.430416Z",
     "iopub.status.idle": "2025-08-27T22:31:40.432940Z",
     "shell.execute_reply": "2025-08-27T22:31:40.432535Z"
    }
   },
   "outputs": [],
   "source": [
    "modelAnal = BlackScholes(volatility, BlackScholesTypes.ANALYTICAL)"
   ]
  },
  {
   "cell_type": "code",
   "execution_count": 20,
   "metadata": {
    "execution": {
     "iopub.execute_input": "2025-08-27T22:31:40.434572Z",
     "iopub.status.busy": "2025-08-27T22:31:40.434394Z",
     "iopub.status.idle": "2025-08-27T22:31:40.437616Z",
     "shell.execute_reply": "2025-08-27T22:31:40.437249Z"
    }
   },
   "outputs": [
    {
     "data": {
      "text/plain": [
       "np.float64(6.74935662387659)"
      ]
     },
     "execution_count": 20,
     "metadata": {},
     "output_type": "execute_result"
    }
   ],
   "source": [
    "call_option.value(value_dt, stock_price, discount_curve, dividend_curve, modelAnal)"
   ]
  },
  {
   "cell_type": "markdown",
   "metadata": {},
   "source": [
    "The price is close to the 6.74927 found by QL - see http://gouthamanbalaraman.com/blog/european-option-binomial-tree-quantlib-python.html. Differences with QL could be due to differences in time calculations. It is also different from the Tree value but that is a tree convergence issue. Let's see how good convergence is."
   ]
  },
  {
   "cell_type": "markdown",
   "metadata": {},
   "source": [
    "## Tree Convergence"
   ]
  },
  {
   "cell_type": "code",
   "execution_count": 21,
   "metadata": {
    "execution": {
     "iopub.execute_input": "2025-08-27T22:31:40.439162Z",
     "iopub.status.busy": "2025-08-27T22:31:40.438981Z",
     "iopub.status.idle": "2025-08-27T22:31:40.441087Z",
     "shell.execute_reply": "2025-08-27T22:31:40.440718Z"
    }
   },
   "outputs": [],
   "source": [
    "num_steps_per_year = range(5, 200, 1)"
   ]
  },
  {
   "cell_type": "code",
   "execution_count": 22,
   "metadata": {
    "execution": {
     "iopub.execute_input": "2025-08-27T22:31:40.443018Z",
     "iopub.status.busy": "2025-08-27T22:31:40.442805Z",
     "iopub.status.idle": "2025-08-27T22:31:40.497307Z",
     "shell.execute_reply": "2025-08-27T22:31:40.496595Z"
    }
   },
   "outputs": [],
   "source": [
    "amTreeValue = []\n",
    "amBAWValue = []\n",
    "euTreeValue = []\n",
    "euAnalValue = []\n",
    "\n",
    "volatility = 0.20\n",
    "\n",
    "for num_steps in num_steps_per_year:\n",
    "\n",
    "    modelTree = BlackScholes(volatility,\n",
    "                                     BlackScholesTypes.CRR_TREE,\n",
    "                                     num_steps)\n",
    "\n",
    "    modelAnal = BlackScholes(volatility,\n",
    "                                     BlackScholesTypes.ANALYTICAL)\n",
    "\n",
    "    modelBAW = BlackScholes(volatility,\n",
    "                                    BlackScholesTypes.BARONE_ADESI)\n",
    "\n",
    "    v_am = amCallOption.value(value_dt, stock_price, discount_curve, dividend_curve, modelTree)\n",
    "    v_eu = euCallOption.value(value_dt, stock_price, discount_curve, dividend_curve, modelTree)\n",
    "    v_bs = call_option.value(value_dt, stock_price, discount_curve, dividend_curve, modelAnal)\n",
    "    v_am_baw = amCallOption.value(value_dt, stock_price, discount_curve, dividend_curve, modelBAW)\n",
    "\n",
    "    amTreeValue.append(v_am)\n",
    "    euTreeValue.append(v_eu)\n",
    "    euAnalValue.append(v_bs)\n",
    "    amBAWValue.append(v_am_baw)\n"
   ]
  },
  {
   "cell_type": "code",
   "execution_count": 23,
   "metadata": {
    "execution": {
     "iopub.execute_input": "2025-08-27T22:31:40.499107Z",
     "iopub.status.busy": "2025-08-27T22:31:40.498912Z",
     "iopub.status.idle": "2025-08-27T22:31:40.662856Z",
     "shell.execute_reply": "2025-08-27T22:31:40.662314Z"
    }
   },
   "outputs": [
    {
     "data": {
      "image/png": "[encoded data removed]",
      "text/plain": [
       "<Figure size 640x480 with 1 Axes>"
      ]
     },
     "metadata": {},
     "output_type": "display_data"
    }
   ],
   "source": [
    "plt.title(\"American Option Price Convergence Analysis\")\n",
    "plt.plot(num_steps_per_year, amTreeValue, label=\"American Tree\")\n",
    "plt.plot(num_steps_per_year, amBAWValue, label=\"American BAW\")\n",
    "plt.plot(num_steps_per_year, euTreeValue, label=\"European Tree\")\n",
    "plt.plot(num_steps_per_year, euAnalValue, label=\"European Anal\", lw =2)\n",
    "plt.xlabel(\"NumSteps\")\n",
    "plt.ylabel(\"Value\")\n",
    "plt.legend();"
   ]
  },
  {
   "cell_type": "markdown",
   "metadata": {},
   "source": [
    "Agreement with QL is very good and tree convergence appears much better - probably assisted by fact that I average even and odd numbers of steps internally."
   ]
  },
  {
   "cell_type": "markdown",
   "metadata": {},
   "source": [
    "Copyright (c) 2020 Dominic O'Kane"
   ]
  }
 ],
 "metadata": {
  "kernelspec": {
   "display_name": "base",
   "language": "python",
   "name": "python3"
  },
  "language_info": {
   "codemirror_mode": {
    "name": "ipython",
    "version": 3
   },
   "file_extension": ".py",
   "mimetype": "text/x-python",
   "name": "python",
   "nbconvert_exporter": "python",
   "pygments_lexer": "ipython3",
   "version": "3.13.5"
  }
 },
 "nbformat": 4,
 "nbformat_minor": 2
}
