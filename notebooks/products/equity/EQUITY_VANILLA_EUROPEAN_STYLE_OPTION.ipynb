{
 "cells": [
  {
   "cell_type": "markdown",
   "metadata": {},
   "source": [
    "# EQUITY VANILLA EUROPEAN-STYLE OPTIONS"
   ]
  },
  {
   "cell_type": "markdown",
   "metadata": {},
   "source": [
    "Valuation and Risk of a simple Vanilla Equity Option"
   ]
  },
  {
   "cell_type": "code",
   "execution_count": 1,
   "metadata": {
    "execution": {
     "iopub.execute_input": "2025-08-27T21:47:11.029805Z",
     "iopub.status.busy": "2025-08-27T21:47:11.029539Z",
     "iopub.status.idle": "2025-08-27T21:47:11.472850Z",
     "shell.execute_reply": "2025-08-27T21:47:11.472446Z"
    }
   },
   "outputs": [],
   "source": [
    "import numpy as np\n",
    "import matplotlib.pyplot as plt"
   ]
  },
  {
   "cell_type": "code",
   "execution_count": 2,
   "metadata": {
    "execution": {
     "iopub.execute_input": "2025-08-27T21:47:11.475336Z",
     "iopub.status.busy": "2025-08-27T21:47:11.475004Z",
     "iopub.status.idle": "2025-08-27T21:47:14.328579Z",
     "shell.execute_reply": "2025-08-27T21:47:14.328107Z"
    }
   },
   "outputs": [
    {
     "name": "stdout",
     "output_type": "stream",
     "text": [
      "####################################################################\n",
      "#    FINANCEPY Version 1.1 - This build: 27 Aug 2025 at 23:27      #\n",
      "#     This software is distributed FREE AND WITHOUT ANY WARRANTY   #\n",
      "#  Report bugs as issues at https://github.com/domokane/FinancePy  #\n",
      "####################################################################\n",
      "\n"
     ]
    }
   ],
   "source": [
    "from financepy.utils import *\n",
    "from financepy.products.equity import *"
   ]
  },
  {
   "cell_type": "markdown",
   "metadata": {},
   "source": [
    "# Define the Call and Put Options"
   ]
  },
  {
   "cell_type": "code",
   "execution_count": 3,
   "metadata": {
    "execution": {
     "iopub.execute_input": "2025-08-27T21:47:14.331017Z",
     "iopub.status.busy": "2025-08-27T21:47:14.330700Z",
     "iopub.status.idle": "2025-08-27T21:47:14.349684Z",
     "shell.execute_reply": "2025-08-27T21:47:14.349272Z"
    }
   },
   "outputs": [],
   "source": [
    "value_dt = Date(1, 1, 2015)"
   ]
  },
  {
   "cell_type": "code",
   "execution_count": 4,
   "metadata": {
    "execution": {
     "iopub.execute_input": "2025-08-27T21:47:14.351949Z",
     "iopub.status.busy": "2025-08-27T21:47:14.351715Z",
     "iopub.status.idle": "2025-08-27T21:47:14.359924Z",
     "shell.execute_reply": "2025-08-27T21:47:14.359448Z"
    }
   },
   "outputs": [],
   "source": [
    "expiry_dt = value_dt.add_years(0.5)"
   ]
  },
  {
   "cell_type": "code",
   "execution_count": 5,
   "metadata": {
    "execution": {
     "iopub.execute_input": "2025-08-27T21:47:14.361903Z",
     "iopub.status.busy": "2025-08-27T21:47:14.361703Z",
     "iopub.status.idle": "2025-08-27T21:47:14.366858Z",
     "shell.execute_reply": "2025-08-27T21:47:14.366405Z"
    }
   },
   "outputs": [
    {
     "data": {
      "text/plain": [
       "01-JUL-2015"
      ]
     },
     "execution_count": 5,
     "metadata": {},
     "output_type": "execute_result"
    }
   ],
   "source": [
    "expiry_dt"
   ]
  },
  {
   "cell_type": "code",
   "execution_count": 6,
   "metadata": {
    "execution": {
     "iopub.execute_input": "2025-08-27T21:47:14.368501Z",
     "iopub.status.busy": "2025-08-27T21:47:14.368315Z",
     "iopub.status.idle": "2025-08-27T21:47:14.370633Z",
     "shell.execute_reply": "2025-08-27T21:47:14.370262Z"
    }
   },
   "outputs": [],
   "source": [
    "strike_price = 50.0"
   ]
  },
  {
   "cell_type": "code",
   "execution_count": 7,
   "metadata": {
    "execution": {
     "iopub.execute_input": "2025-08-27T21:47:14.372326Z",
     "iopub.status.busy": "2025-08-27T21:47:14.371977Z",
     "iopub.status.idle": "2025-08-27T21:47:14.374734Z",
     "shell.execute_reply": "2025-08-27T21:47:14.374361Z"
    }
   },
   "outputs": [],
   "source": [
    "call_option = EquityVanillaOption(expiry_dt, strike_price, OptionTypes.EUROPEAN_CALL)"
   ]
  },
  {
   "cell_type": "code",
   "execution_count": 8,
   "metadata": {
    "execution": {
     "iopub.execute_input": "2025-08-27T21:47:14.376741Z",
     "iopub.status.busy": "2025-08-27T21:47:14.376511Z",
     "iopub.status.idle": "2025-08-27T21:47:14.378960Z",
     "shell.execute_reply": "2025-08-27T21:47:14.378492Z"
    }
   },
   "outputs": [],
   "source": [
    "put_option = EquityVanillaOption(expiry_dt, strike_price, OptionTypes.EUROPEAN_PUT)"
   ]
  },
  {
   "cell_type": "code",
   "execution_count": 9,
   "metadata": {
    "execution": {
     "iopub.execute_input": "2025-08-27T21:47:14.380885Z",
     "iopub.status.busy": "2025-08-27T21:47:14.380677Z",
     "iopub.status.idle": "2025-08-27T21:47:14.383017Z",
     "shell.execute_reply": "2025-08-27T21:47:14.382653Z"
    }
   },
   "outputs": [],
   "source": [
    "stock_price = 50.0\n",
    "volatility = 0.20\n",
    "interest_rate = 0.05\n",
    "dividend_yield = 0.0"
   ]
  },
  {
   "cell_type": "code",
   "execution_count": 10,
   "metadata": {
    "execution": {
     "iopub.execute_input": "2025-08-27T21:47:14.384499Z",
     "iopub.status.busy": "2025-08-27T21:47:14.384314Z",
     "iopub.status.idle": "2025-08-27T21:47:14.387761Z",
     "shell.execute_reply": "2025-08-27T21:47:14.387296Z"
    }
   },
   "outputs": [],
   "source": [
    "discount_curve = DiscountCurveFlat(value_dt, interest_rate, FrequencyTypes.CONTINUOUS)"
   ]
  },
  {
   "cell_type": "code",
   "execution_count": 11,
   "metadata": {
    "execution": {
     "iopub.execute_input": "2025-08-27T21:47:14.389368Z",
     "iopub.status.busy": "2025-08-27T21:47:14.389178Z",
     "iopub.status.idle": "2025-08-27T21:47:14.392313Z",
     "shell.execute_reply": "2025-08-27T21:47:14.391897Z"
    }
   },
   "outputs": [],
   "source": [
    "dividend_curve = DiscountCurveFlat(value_dt, dividend_yield)"
   ]
  },
  {
   "cell_type": "code",
   "execution_count": 12,
   "metadata": {
    "execution": {
     "iopub.execute_input": "2025-08-27T21:47:14.394322Z",
     "iopub.status.busy": "2025-08-27T21:47:14.394095Z",
     "iopub.status.idle": "2025-08-27T21:47:14.396584Z",
     "shell.execute_reply": "2025-08-27T21:47:14.396144Z"
    }
   },
   "outputs": [],
   "source": [
    "model = BlackScholes(volatility)"
   ]
  },
  {
   "cell_type": "code",
   "execution_count": 13,
   "metadata": {
    "execution": {
     "iopub.execute_input": "2025-08-27T21:47:14.398331Z",
     "iopub.status.busy": "2025-08-27T21:47:14.398128Z",
     "iopub.status.idle": "2025-08-27T21:47:14.401965Z",
     "shell.execute_reply": "2025-08-27T21:47:14.401552Z"
    }
   },
   "outputs": [
    {
     "data": {
      "text/plain": [
       "np.float64(3.4276581469416914)"
      ]
     },
     "execution_count": 13,
     "metadata": {},
     "output_type": "execute_result"
    }
   ],
   "source": [
    "call_option.value(value_dt, stock_price, discount_curve, dividend_curve, model)"
   ]
  },
  {
   "cell_type": "code",
   "execution_count": 14,
   "metadata": {
    "execution": {
     "iopub.execute_input": "2025-08-27T21:47:14.403609Z",
     "iopub.status.busy": "2025-08-27T21:47:14.403419Z",
     "iopub.status.idle": "2025-08-27T21:47:14.406894Z",
     "shell.execute_reply": "2025-08-27T21:47:14.406416Z"
    }
   },
   "outputs": [
    {
     "data": {
      "text/plain": [
       "np.float64(2.2031750852278296)"
      ]
     },
     "execution_count": 14,
     "metadata": {},
     "output_type": "execute_result"
    }
   ],
   "source": [
    "put_option.value(value_dt, stock_price, discount_curve, dividend_curve, model)"
   ]
  },
  {
   "cell_type": "code",
   "execution_count": 15,
   "metadata": {
    "execution": {
     "iopub.execute_input": "2025-08-27T21:47:14.408588Z",
     "iopub.status.busy": "2025-08-27T21:47:14.408379Z",
     "iopub.status.idle": "2025-08-27T21:47:14.410939Z",
     "shell.execute_reply": "2025-08-27T21:47:14.410617Z"
    }
   },
   "outputs": [
    {
     "name": "stdout",
     "output_type": "stream",
     "text": [
      "OBJECT TYPE: EquityVanillaOption\n",
      "EXPIRY DATE: 01-JUL-2015\n",
      "STRIKE PRICE: 50.0\n",
      "OPTION TYPE VALUE: OptionTypes.EUROPEAN_CALL\n",
      "NUMBER: 1.0\n"
     ]
    }
   ],
   "source": [
    "print(call_option)"
   ]
  },
  {
   "cell_type": "code",
   "execution_count": 16,
   "metadata": {
    "execution": {
     "iopub.execute_input": "2025-08-27T21:47:14.412464Z",
     "iopub.status.busy": "2025-08-27T21:47:14.412286Z",
     "iopub.status.idle": "2025-08-27T21:47:14.415013Z",
     "shell.execute_reply": "2025-08-27T21:47:14.414668Z"
    }
   },
   "outputs": [
    {
     "name": "stdout",
     "output_type": "stream",
     "text": [
      "OBJECT TYPE: EquityVanillaOption\n",
      "EXPIRY DATE: 01-JUL-2015\n",
      "STRIKE PRICE: 50.0\n",
      "OPTION TYPE VALUE: OptionTypes.EUROPEAN_PUT\n",
      "NUMBER: 1.0\n"
     ]
    }
   ],
   "source": [
    "print(put_option)"
   ]
  },
  {
   "cell_type": "markdown",
   "metadata": {},
   "source": [
    "## Risk Measures"
   ]
  },
  {
   "cell_type": "markdown",
   "metadata": {},
   "source": [
    "You can calculate the risk measures using the exact formulae (x risks) or using perturbatory analysis"
   ]
  },
  {
   "cell_type": "code",
   "execution_count": 17,
   "metadata": {
    "execution": {
     "iopub.execute_input": "2025-08-27T21:47:14.416683Z",
     "iopub.status.busy": "2025-08-27T21:47:14.416498Z",
     "iopub.status.idle": "2025-08-27T21:47:14.419866Z",
     "shell.execute_reply": "2025-08-27T21:47:14.419324Z"
    }
   },
   "outputs": [
    {
     "data": {
      "text/plain": [
       "np.float64(0.5973400425924884)"
      ]
     },
     "execution_count": 17,
     "metadata": {},
     "output_type": "execute_result"
    }
   ],
   "source": [
    "call_option.delta(value_dt, stock_price, discount_curve, dividend_curve, model)"
   ]
  },
  {
   "cell_type": "code",
   "execution_count": 18,
   "metadata": {
    "execution": {
     "iopub.execute_input": "2025-08-27T21:47:14.421951Z",
     "iopub.status.busy": "2025-08-27T21:47:14.421724Z",
     "iopub.status.idle": "2025-08-27T21:47:14.425413Z",
     "shell.execute_reply": "2025-08-27T21:47:14.425019Z"
    }
   },
   "outputs": [
    {
     "data": {
      "text/plain": [
       "np.float64(0.0549574102554861)"
      ]
     },
     "execution_count": 18,
     "metadata": {},
     "output_type": "execute_result"
    }
   ],
   "source": [
    "call_option.gamma(value_dt, stock_price, discount_curve, dividend_curve, model)"
   ]
  },
  {
   "cell_type": "code",
   "execution_count": 19,
   "metadata": {
    "execution": {
     "iopub.execute_input": "2025-08-27T21:47:14.427296Z",
     "iopub.status.busy": "2025-08-27T21:47:14.427100Z",
     "iopub.status.idle": "2025-08-27T21:47:14.430410Z",
     "shell.execute_reply": "2025-08-27T21:47:14.430072Z"
    }
   },
   "outputs": [
    {
     "data": {
      "text/plain": [
       "np.float64(-4.0698377119084395)"
      ]
     },
     "execution_count": 19,
     "metadata": {},
     "output_type": "execute_result"
    }
   ],
   "source": [
    "call_option.theta(value_dt, stock_price, discount_curve, dividend_curve, model)"
   ]
  },
  {
   "cell_type": "code",
   "execution_count": 20,
   "metadata": {
    "execution": {
     "iopub.execute_input": "2025-08-27T21:47:14.432116Z",
     "iopub.status.busy": "2025-08-27T21:47:14.431825Z",
     "iopub.status.idle": "2025-08-27T21:47:14.435512Z",
     "shell.execute_reply": "2025-08-27T21:47:14.435049Z"
    }
   },
   "outputs": [
    {
     "data": {
      "text/plain": [
       "np.float64(13.111017153056368)"
      ]
     },
     "execution_count": 20,
     "metadata": {},
     "output_type": "execute_result"
    }
   ],
   "source": [
    "call_option.rho(value_dt, stock_price, discount_curve, dividend_curve, model)"
   ]
  },
  {
   "cell_type": "code",
   "execution_count": 21,
   "metadata": {
    "execution": {
     "iopub.execute_input": "2025-08-27T21:47:14.437212Z",
     "iopub.status.busy": "2025-08-27T21:47:14.436893Z",
     "iopub.status.idle": "2025-08-27T21:47:14.440163Z",
     "shell.execute_reply": "2025-08-27T21:47:14.439796Z"
    }
   },
   "outputs": [
    {
     "data": {
      "text/plain": [
       "np.float64(13.626426378415045)"
      ]
     },
     "execution_count": 21,
     "metadata": {},
     "output_type": "execute_result"
    }
   ],
   "source": [
    "call_option.vega(value_dt, stock_price, discount_curve, dividend_curve, model)"
   ]
  },
  {
   "cell_type": "markdown",
   "metadata": {},
   "source": [
    "## Vectorisation"
   ]
  },
  {
   "cell_type": "code",
   "execution_count": 22,
   "metadata": {
    "execution": {
     "iopub.execute_input": "2025-08-27T21:47:14.442029Z",
     "iopub.status.busy": "2025-08-27T21:47:14.441619Z",
     "iopub.status.idle": "2025-08-27T21:47:14.444227Z",
     "shell.execute_reply": "2025-08-27T21:47:14.443837Z"
    }
   },
   "outputs": [],
   "source": [
    "stock_prices = np.linspace(20,80,100)"
   ]
  },
  {
   "cell_type": "code",
   "execution_count": 23,
   "metadata": {
    "execution": {
     "iopub.execute_input": "2025-08-27T21:47:14.445820Z",
     "iopub.status.busy": "2025-08-27T21:47:14.445570Z",
     "iopub.status.idle": "2025-08-27T21:47:14.448495Z",
     "shell.execute_reply": "2025-08-27T21:47:14.447865Z"
    }
   },
   "outputs": [],
   "source": [
    "value = call_option.value(value_dt, stock_prices, discount_curve, dividend_curve, model)"
   ]
  },
  {
   "cell_type": "code",
   "execution_count": 24,
   "metadata": {
    "execution": {
     "iopub.execute_input": "2025-08-27T21:47:14.450653Z",
     "iopub.status.busy": "2025-08-27T21:47:14.450321Z",
     "iopub.status.idle": "2025-08-27T21:47:14.560244Z",
     "shell.execute_reply": "2025-08-27T21:47:14.559691Z"
    }
   },
   "outputs": [
    {
     "data": {
      "text/plain": [
       "Text(0, 0.5, 'Option Premium')"
      ]
     },
     "execution_count": 24,
     "metadata": {},
     "output_type": "execute_result"
    },
    {
     "data": {
      "image/png": "[encoded data removed]",
      "text/plain": [
       "<Figure size 640x480 with 1 Axes>"
      ]
     },
     "metadata": {},
     "output_type": "display_data"
    }
   ],
   "source": [
    "plt.plot(stock_prices, value)\n",
    "plt.xlabel(\"Stock Price\")\n",
    "plt.ylabel(\"Option Premium\")"
   ]
  },
  {
   "cell_type": "markdown",
   "metadata": {},
   "source": [
    "## Risk Measures using Vectorisations"
   ]
  },
  {
   "cell_type": "code",
   "execution_count": 25,
   "metadata": {
    "execution": {
     "iopub.execute_input": "2025-08-27T21:47:14.562075Z",
     "iopub.status.busy": "2025-08-27T21:47:14.561858Z",
     "iopub.status.idle": "2025-08-27T21:47:14.564426Z",
     "shell.execute_reply": "2025-08-27T21:47:14.564098Z"
    }
   },
   "outputs": [],
   "source": [
    "deltas = call_option.delta(value_dt, stock_prices, discount_curve, dividend_curve, model)"
   ]
  },
  {
   "cell_type": "code",
   "execution_count": 26,
   "metadata": {
    "execution": {
     "iopub.execute_input": "2025-08-27T21:47:14.566703Z",
     "iopub.status.busy": "2025-08-27T21:47:14.566291Z",
     "iopub.status.idle": "2025-08-27T21:47:14.651283Z",
     "shell.execute_reply": "2025-08-27T21:47:14.650721Z"
    }
   },
   "outputs": [
    {
     "data": {
      "text/plain": [
       "Text(0, 0.5, 'Option Deltas')"
      ]
     },
     "execution_count": 26,
     "metadata": {},
     "output_type": "execute_result"
    },
    {
     "data": {
      "image/png": "[encoded data removed]",
      "text/plain": [
       "<Figure size 640x480 with 1 Axes>"
      ]
     },
     "metadata": {},
     "output_type": "display_data"
    }
   ],
   "source": [
    "plt.plot(stock_prices, deltas)\n",
    "plt.xlabel(\"Stock Prices\")\n",
    "plt.ylabel(\"Option Deltas\")"
   ]
  },
  {
   "cell_type": "code",
   "execution_count": 27,
   "metadata": {
    "execution": {
     "iopub.execute_input": "2025-08-27T21:47:14.653186Z",
     "iopub.status.busy": "2025-08-27T21:47:14.652971Z",
     "iopub.status.idle": "2025-08-27T21:47:14.655514Z",
     "shell.execute_reply": "2025-08-27T21:47:14.655196Z"
    }
   },
   "outputs": [],
   "source": [
    "gammas = call_option.gamma(value_dt, stock_prices, discount_curve, dividend_curve, model)"
   ]
  },
  {
   "cell_type": "code",
   "execution_count": 28,
   "metadata": {
    "execution": {
     "iopub.execute_input": "2025-08-27T21:47:14.657320Z",
     "iopub.status.busy": "2025-08-27T21:47:14.657025Z",
     "iopub.status.idle": "2025-08-27T21:47:14.744996Z",
     "shell.execute_reply": "2025-08-27T21:47:14.744482Z"
    }
   },
   "outputs": [
    {
     "data": {
      "text/plain": [
       "Text(0, 0.5, 'Option Gamma')"
      ]
     },
     "execution_count": 28,
     "metadata": {},
     "output_type": "execute_result"
    },
    {
     "data": {
      "image/png": "[encoded data removed]",
      "text/plain": [
       "<Figure size 640x480 with 1 Axes>"
      ]
     },
     "metadata": {},
     "output_type": "display_data"
    }
   ],
   "source": [
    "plt.plot(stock_prices, gammas)\n",
    "plt.xlabel(\"Stock Prices\")\n",
    "plt.ylabel(\"Option Gamma\")"
   ]
  },
  {
   "cell_type": "code",
   "execution_count": 29,
   "metadata": {
    "execution": {
     "iopub.execute_input": "2025-08-27T21:47:14.746950Z",
     "iopub.status.busy": "2025-08-27T21:47:14.746703Z",
     "iopub.status.idle": "2025-08-27T21:47:14.750120Z",
     "shell.execute_reply": "2025-08-27T21:47:14.749549Z"
    }
   },
   "outputs": [],
   "source": [
    "thetas = call_option.theta(value_dt, stock_prices, discount_curve, dividend_curve, model)"
   ]
  },
  {
   "cell_type": "code",
   "execution_count": 30,
   "metadata": {
    "execution": {
     "iopub.execute_input": "2025-08-27T21:47:14.752292Z",
     "iopub.status.busy": "2025-08-27T21:47:14.752009Z",
     "iopub.status.idle": "2025-08-27T21:47:14.847538Z",
     "shell.execute_reply": "2025-08-27T21:47:14.847057Z"
    }
   },
   "outputs": [
    {
     "data": {
      "text/plain": [
       "<matplotlib.legend.Legend at 0x1ce04f58980>"
      ]
     },
     "execution_count": 30,
     "metadata": {},
     "output_type": "execute_result"
    },
    {
     "data": {
      "image/png": "[encoded data removed]",
      "text/plain": [
       "<Figure size 640x480 with 1 Axes>"
      ]
     },
     "metadata": {},
     "output_type": "display_data"
    }
   ],
   "source": [
    "plt.plot(stock_prices, thetas, label=\"Thetas\")\n",
    "plt.xlabel(\"Stock Prices\")\n",
    "plt.ylabel(\"Option Theta\")\n",
    "plt.legend()"
   ]
  },
  {
   "cell_type": "code",
   "execution_count": 31,
   "metadata": {
    "execution": {
     "iopub.execute_input": "2025-08-27T21:47:14.849549Z",
     "iopub.status.busy": "2025-08-27T21:47:14.849354Z",
     "iopub.status.idle": "2025-08-27T21:47:14.852042Z",
     "shell.execute_reply": "2025-08-27T21:47:14.851557Z"
    }
   },
   "outputs": [],
   "source": [
    "rhos = call_option.rho(value_dt, stock_prices, discount_curve, dividend_curve, model)"
   ]
  },
  {
   "cell_type": "code",
   "execution_count": 32,
   "metadata": {
    "execution": {
     "iopub.execute_input": "2025-08-27T21:47:14.853691Z",
     "iopub.status.busy": "2025-08-27T21:47:14.853477Z",
     "iopub.status.idle": "2025-08-27T21:47:14.934948Z",
     "shell.execute_reply": "2025-08-27T21:47:14.934170Z"
    }
   },
   "outputs": [
    {
     "data": {
      "text/plain": [
       "Text(0, 0.5, 'Option Rho')"
      ]
     },
     "execution_count": 32,
     "metadata": {},
     "output_type": "execute_result"
    },
    {
     "data": {
      "image/png": "[encoded data removed]",
      "text/plain": [
       "<Figure size 640x480 with 1 Axes>"
      ]
     },
     "metadata": {},
     "output_type": "display_data"
    }
   ],
   "source": [
    "plt.plot(stock_prices, rhos)\n",
    "plt.xlabel(\"Stock Prices\")\n",
    "plt.ylabel(\"Option Rho\")"
   ]
  },
  {
   "cell_type": "markdown",
   "metadata": {},
   "source": [
    "Copyright (c) 2020 Dominic O'Kane"
   ]
  }
 ],
 "metadata": {
  "kernelspec": {
   "display_name": "base",
   "language": "python",
   "name": "python3"
  },
  "language_info": {
   "codemirror_mode": {
    "name": "ipython",
    "version": 3
   },
   "file_extension": ".py",
   "mimetype": "text/x-python",
   "name": "python",
   "nbconvert_exporter": "python",
   "pygments_lexer": "ipython3",
   "version": "3.13.5"
  }
 },
 "nbformat": 4,
 "nbformat_minor": 2
}
