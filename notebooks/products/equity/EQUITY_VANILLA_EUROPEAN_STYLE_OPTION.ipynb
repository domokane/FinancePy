{
 "cells": [
  {
   "cell_type": "markdown",
   "metadata": {},
   "source": [
    "# EQUITY VANILLA EUROPEAN-STYLE OPTIONS"
   ]
  },
  {
   "cell_type": "markdown",
   "metadata": {},
   "source": [
    "Valuation and Risk of a simple Vanilla Equity Option"
   ]
  },
  {
   "cell_type": "code",
   "execution_count": 1,
   "metadata": {
    "execution": {
     "iopub.execute_input": "2025-09-14T22:23:38.761565Z",
     "iopub.status.busy": "2025-09-14T22:23:38.761372Z",
     "iopub.status.idle": "2025-09-14T22:23:38.991580Z",
     "shell.execute_reply": "2025-09-14T22:23:38.991165Z"
    }
   },
   "outputs": [],
   "source": [
    "import numpy as np\n",
    "import matplotlib.pyplot as plt"
   ]
  },
  {
   "cell_type": "code",
   "execution_count": 2,
   "metadata": {
    "execution": {
     "iopub.execute_input": "2025-09-14T22:23:38.993171Z",
     "iopub.status.busy": "2025-09-14T22:23:38.992979Z",
     "iopub.status.idle": "2025-09-14T22:23:41.103355Z",
     "shell.execute_reply": "2025-09-14T22:23:41.102474Z"
    }
   },
   "outputs": [],
   "source": [
    "from financepy.utils import *\n",
    "from financepy.products.equity import *"
   ]
  },
  {
   "cell_type": "markdown",
   "metadata": {},
   "source": [
    "# Define the Call and Put Options"
   ]
  },
  {
   "cell_type": "code",
   "execution_count": 3,
   "metadata": {
    "execution": {
     "iopub.execute_input": "2025-09-14T22:23:41.105211Z",
     "iopub.status.busy": "2025-09-14T22:23:41.104966Z",
     "iopub.status.idle": "2025-09-14T22:23:41.124606Z",
     "shell.execute_reply": "2025-09-14T22:23:41.123912Z"
    }
   },
   "outputs": [],
   "source": [
    "value_dt = Date(1, 1, 2015)"
   ]
  },
  {
   "cell_type": "code",
   "execution_count": 4,
   "metadata": {
    "execution": {
     "iopub.execute_input": "2025-09-14T22:23:41.126738Z",
     "iopub.status.busy": "2025-09-14T22:23:41.126388Z",
     "iopub.status.idle": "2025-09-14T22:23:41.137765Z",
     "shell.execute_reply": "2025-09-14T22:23:41.136904Z"
    }
   },
   "outputs": [],
   "source": [
    "expiry_dt = value_dt.add_years(0.5)"
   ]
  },
  {
   "cell_type": "code",
   "execution_count": 5,
   "metadata": {
    "execution": {
     "iopub.execute_input": "2025-09-14T22:23:41.140477Z",
     "iopub.status.busy": "2025-09-14T22:23:41.140164Z",
     "iopub.status.idle": "2025-09-14T22:23:41.147390Z",
     "shell.execute_reply": "2025-09-14T22:23:41.146462Z"
    }
   },
   "outputs": [
    {
     "data": {
      "text/plain": [
       "01-JUL-2015"
      ]
     },
     "execution_count": 5,
     "metadata": {},
     "output_type": "execute_result"
    }
   ],
   "source": [
    "expiry_dt"
   ]
  },
  {
   "cell_type": "code",
   "execution_count": 6,
   "metadata": {
    "execution": {
     "iopub.execute_input": "2025-09-14T22:23:41.149809Z",
     "iopub.status.busy": "2025-09-14T22:23:41.149527Z",
     "iopub.status.idle": "2025-09-14T22:23:41.152658Z",
     "shell.execute_reply": "2025-09-14T22:23:41.152080Z"
    }
   },
   "outputs": [],
   "source": [
    "strike_price = 50.0"
   ]
  },
  {
   "cell_type": "code",
   "execution_count": 7,
   "metadata": {
    "execution": {
     "iopub.execute_input": "2025-09-14T22:23:41.153965Z",
     "iopub.status.busy": "2025-09-14T22:23:41.153829Z",
     "iopub.status.idle": "2025-09-14T22:23:41.157474Z",
     "shell.execute_reply": "2025-09-14T22:23:41.156493Z"
    }
   },
   "outputs": [],
   "source": [
    "call_option = EquityVanillaOption(expiry_dt, strike_price, OptionTypes.EUROPEAN_CALL)"
   ]
  },
  {
   "cell_type": "code",
   "execution_count": 8,
   "metadata": {
    "execution": {
     "iopub.execute_input": "2025-09-14T22:23:41.159381Z",
     "iopub.status.busy": "2025-09-14T22:23:41.159018Z",
     "iopub.status.idle": "2025-09-14T22:23:41.163415Z",
     "shell.execute_reply": "2025-09-14T22:23:41.162376Z"
    }
   },
   "outputs": [],
   "source": [
    "put_option = EquityVanillaOption(expiry_dt, strike_price, OptionTypes.EUROPEAN_PUT)"
   ]
  },
  {
   "cell_type": "code",
   "execution_count": 9,
   "metadata": {
    "execution": {
     "iopub.execute_input": "2025-09-14T22:23:41.165587Z",
     "iopub.status.busy": "2025-09-14T22:23:41.165378Z",
     "iopub.status.idle": "2025-09-14T22:23:41.167990Z",
     "shell.execute_reply": "2025-09-14T22:23:41.167608Z"
    }
   },
   "outputs": [],
   "source": [
    "stock_price = 50.0\n",
    "volatility = 0.20\n",
    "interest_rate = 0.05\n",
    "dividend_yield = 0.0"
   ]
  },
  {
   "cell_type": "code",
   "execution_count": 10,
   "metadata": {
    "execution": {
     "iopub.execute_input": "2025-09-14T22:23:41.169483Z",
     "iopub.status.busy": "2025-09-14T22:23:41.169234Z",
     "iopub.status.idle": "2025-09-14T22:23:41.174095Z",
     "shell.execute_reply": "2025-09-14T22:23:41.173532Z"
    }
   },
   "outputs": [],
   "source": [
    "discount_curve = DiscountCurveFlat(value_dt, interest_rate, FrequencyTypes.CONTINUOUS)"
   ]
  },
  {
   "cell_type": "code",
   "execution_count": 11,
   "metadata": {
    "execution": {
     "iopub.execute_input": "2025-09-14T22:23:41.176010Z",
     "iopub.status.busy": "2025-09-14T22:23:41.175834Z",
     "iopub.status.idle": "2025-09-14T22:23:41.178949Z",
     "shell.execute_reply": "2025-09-14T22:23:41.178414Z"
    }
   },
   "outputs": [],
   "source": [
    "dividend_curve = DiscountCurveFlat(value_dt, dividend_yield)"
   ]
  },
  {
   "cell_type": "code",
   "execution_count": 12,
   "metadata": {
    "execution": {
     "iopub.execute_input": "2025-09-14T22:23:41.180665Z",
     "iopub.status.busy": "2025-09-14T22:23:41.180506Z",
     "iopub.status.idle": "2025-09-14T22:23:41.183018Z",
     "shell.execute_reply": "2025-09-14T22:23:41.182755Z"
    }
   },
   "outputs": [],
   "source": [
    "model = BlackScholes(volatility)"
   ]
  },
  {
   "cell_type": "code",
   "execution_count": 13,
   "metadata": {
    "execution": {
     "iopub.execute_input": "2025-09-14T22:23:41.184206Z",
     "iopub.status.busy": "2025-09-14T22:23:41.184054Z",
     "iopub.status.idle": "2025-09-14T22:23:41.188086Z",
     "shell.execute_reply": "2025-09-14T22:23:41.187185Z"
    }
   },
   "outputs": [
    {
     "data": {
      "text/plain": [
       "np.float64(3.4276581469416914)"
      ]
     },
     "execution_count": 13,
     "metadata": {},
     "output_type": "execute_result"
    }
   ],
   "source": [
    "call_option.value(value_dt, stock_price, discount_curve, dividend_curve, model)"
   ]
  },
  {
   "cell_type": "code",
   "execution_count": 14,
   "metadata": {
    "execution": {
     "iopub.execute_input": "2025-09-14T22:23:41.189999Z",
     "iopub.status.busy": "2025-09-14T22:23:41.189814Z",
     "iopub.status.idle": "2025-09-14T22:23:41.194733Z",
     "shell.execute_reply": "2025-09-14T22:23:41.194135Z"
    }
   },
   "outputs": [
    {
     "data": {
      "text/plain": [
       "np.float64(2.2031750852278296)"
      ]
     },
     "execution_count": 14,
     "metadata": {},
     "output_type": "execute_result"
    }
   ],
   "source": [
    "put_option.value(value_dt, stock_price, discount_curve, dividend_curve, model)"
   ]
  },
  {
   "cell_type": "code",
   "execution_count": 15,
   "metadata": {
    "execution": {
     "iopub.execute_input": "2025-09-14T22:23:41.196940Z",
     "iopub.status.busy": "2025-09-14T22:23:41.196682Z",
     "iopub.status.idle": "2025-09-14T22:23:41.201432Z",
     "shell.execute_reply": "2025-09-14T22:23:41.201074Z"
    }
   },
   "outputs": [
    {
     "name": "stdout",
     "output_type": "stream",
     "text": [
      "OBJECT TYPE: EquityVanillaOption\n",
      "EXPIRY DATE: 01-JUL-2015\n",
      "STRIKE PRICE: 50.0\n",
      "OPTION TYPE VALUE: OptionTypes.EUROPEAN_CALL\n",
      "NUMBER: 1.0\n"
     ]
    }
   ],
   "source": [
    "print(call_option)"
   ]
  },
  {
   "cell_type": "code",
   "execution_count": 16,
   "metadata": {
    "execution": {
     "iopub.execute_input": "2025-09-14T22:23:41.202660Z",
     "iopub.status.busy": "2025-09-14T22:23:41.202540Z",
     "iopub.status.idle": "2025-09-14T22:23:41.205896Z",
     "shell.execute_reply": "2025-09-14T22:23:41.205112Z"
    }
   },
   "outputs": [
    {
     "name": "stdout",
     "output_type": "stream",
     "text": [
      "OBJECT TYPE: EquityVanillaOption\n",
      "EXPIRY DATE: 01-JUL-2015\n",
      "STRIKE PRICE: 50.0\n",
      "OPTION TYPE VALUE: OptionTypes.EUROPEAN_PUT\n",
      "NUMBER: 1.0\n"
     ]
    }
   ],
   "source": [
    "print(put_option)"
   ]
  },
  {
   "cell_type": "markdown",
   "metadata": {},
   "source": [
    "## Risk Measures"
   ]
  },
  {
   "cell_type": "markdown",
   "metadata": {},
   "source": [
    "You can calculate the risk measures using the exact formulae (x risks) or using perturbatory analysis"
   ]
  },
  {
   "cell_type": "code",
   "execution_count": 17,
   "metadata": {
    "execution": {
     "iopub.execute_input": "2025-09-14T22:23:41.207520Z",
     "iopub.status.busy": "2025-09-14T22:23:41.207348Z",
     "iopub.status.idle": "2025-09-14T22:23:41.211553Z",
     "shell.execute_reply": "2025-09-14T22:23:41.211090Z"
    }
   },
   "outputs": [
    {
     "data": {
      "text/plain": [
       "np.float64(0.5973400425924884)"
      ]
     },
     "execution_count": 17,
     "metadata": {},
     "output_type": "execute_result"
    }
   ],
   "source": [
    "call_option.delta(value_dt, stock_price, discount_curve, dividend_curve, model)"
   ]
  },
  {
   "cell_type": "code",
   "execution_count": 18,
   "metadata": {
    "execution": {
     "iopub.execute_input": "2025-09-14T22:23:41.213562Z",
     "iopub.status.busy": "2025-09-14T22:23:41.213382Z",
     "iopub.status.idle": "2025-09-14T22:23:41.217434Z",
     "shell.execute_reply": "2025-09-14T22:23:41.217093Z"
    }
   },
   "outputs": [
    {
     "data": {
      "text/plain": [
       "np.float64(0.0549574102554861)"
      ]
     },
     "execution_count": 18,
     "metadata": {},
     "output_type": "execute_result"
    }
   ],
   "source": [
    "call_option.gamma(value_dt, stock_price, discount_curve, dividend_curve, model)"
   ]
  },
  {
   "cell_type": "code",
   "execution_count": 19,
   "metadata": {
    "execution": {
     "iopub.execute_input": "2025-09-14T22:23:41.218956Z",
     "iopub.status.busy": "2025-09-14T22:23:41.218807Z",
     "iopub.status.idle": "2025-09-14T22:23:41.223351Z",
     "shell.execute_reply": "2025-09-14T22:23:41.222465Z"
    }
   },
   "outputs": [
    {
     "data": {
      "text/plain": [
       "np.float64(-4.0698377119084395)"
      ]
     },
     "execution_count": 19,
     "metadata": {},
     "output_type": "execute_result"
    }
   ],
   "source": [
    "call_option.theta(value_dt, stock_price, discount_curve, dividend_curve, model)"
   ]
  },
  {
   "cell_type": "code",
   "execution_count": 20,
   "metadata": {
    "execution": {
     "iopub.execute_input": "2025-09-14T22:23:41.225174Z",
     "iopub.status.busy": "2025-09-14T22:23:41.224968Z",
     "iopub.status.idle": "2025-09-14T22:23:41.230315Z",
     "shell.execute_reply": "2025-09-14T22:23:41.229689Z"
    }
   },
   "outputs": [
    {
     "data": {
      "text/plain": [
       "np.float64(13.111017153056368)"
      ]
     },
     "execution_count": 20,
     "metadata": {},
     "output_type": "execute_result"
    }
   ],
   "source": [
    "call_option.rho(value_dt, stock_price, discount_curve, dividend_curve, model)"
   ]
  },
  {
   "cell_type": "code",
   "execution_count": 21,
   "metadata": {
    "execution": {
     "iopub.execute_input": "2025-09-14T22:23:41.231714Z",
     "iopub.status.busy": "2025-09-14T22:23:41.231559Z",
     "iopub.status.idle": "2025-09-14T22:23:41.235107Z",
     "shell.execute_reply": "2025-09-14T22:23:41.234720Z"
    }
   },
   "outputs": [
    {
     "data": {
      "text/plain": [
       "np.float64(13.626426378415045)"
      ]
     },
     "execution_count": 21,
     "metadata": {},
     "output_type": "execute_result"
    }
   ],
   "source": [
    "call_option.vega(value_dt, stock_price, discount_curve, dividend_curve, model)"
   ]
  },
  {
   "cell_type": "markdown",
   "metadata": {},
   "source": [
    "## Vectorisation"
   ]
  },
  {
   "cell_type": "code",
   "execution_count": 22,
   "metadata": {
    "execution": {
     "iopub.execute_input": "2025-09-14T22:23:41.237010Z",
     "iopub.status.busy": "2025-09-14T22:23:41.236645Z",
     "iopub.status.idle": "2025-09-14T22:23:41.239866Z",
     "shell.execute_reply": "2025-09-14T22:23:41.239272Z"
    }
   },
   "outputs": [],
   "source": [
    "stock_prices = np.linspace(20,80,100)"
   ]
  },
  {
   "cell_type": "code",
   "execution_count": 23,
   "metadata": {
    "execution": {
     "iopub.execute_input": "2025-09-14T22:23:41.242020Z",
     "iopub.status.busy": "2025-09-14T22:23:41.241775Z",
     "iopub.status.idle": "2025-09-14T22:23:41.245068Z",
     "shell.execute_reply": "2025-09-14T22:23:41.244362Z"
    }
   },
   "outputs": [],
   "source": [
    "value = call_option.value(value_dt, stock_prices, discount_curve, dividend_curve, model)"
   ]
  },
  {
   "cell_type": "code",
   "execution_count": 24,
   "metadata": {
    "execution": {
     "iopub.execute_input": "2025-09-14T22:23:41.247107Z",
     "iopub.status.busy": "2025-09-14T22:23:41.246823Z",
     "iopub.status.idle": "2025-09-14T22:23:41.308214Z",
     "shell.execute_reply": "2025-09-14T22:23:41.307288Z"
    }
   },
   "outputs": [
    {
     "data": {
      "text/plain": [
       "Text(0, 0.5, 'Option Premium')"
      ]
     },
     "execution_count": 24,
     "metadata": {},
     "output_type": "execute_result"
    },
    {
     "data": {
      "image/png": "[encoded data removed]",
      "text/plain": [
       "<Figure size 640x480 with 1 Axes>"
      ]
     },
     "metadata": {},
     "output_type": "display_data"
    }
   ],
   "source": [
    "plt.plot(stock_prices, value)\n",
    "plt.xlabel(\"Stock Price\")\n",
    "plt.ylabel(\"Option Premium\")"
   ]
  },
  {
   "cell_type": "markdown",
   "metadata": {},
   "source": [
    "## Risk Measures using Vectorisations"
   ]
  },
  {
   "cell_type": "code",
   "execution_count": 25,
   "metadata": {
    "execution": {
     "iopub.execute_input": "2025-09-14T22:23:41.309965Z",
     "iopub.status.busy": "2025-09-14T22:23:41.309788Z",
     "iopub.status.idle": "2025-09-14T22:23:41.313102Z",
     "shell.execute_reply": "2025-09-14T22:23:41.312789Z"
    }
   },
   "outputs": [],
   "source": [
    "deltas = call_option.delta(value_dt, stock_prices, discount_curve, dividend_curve, model)"
   ]
  },
  {
   "cell_type": "code",
   "execution_count": 26,
   "metadata": {
    "execution": {
     "iopub.execute_input": "2025-09-14T22:23:41.314357Z",
     "iopub.status.busy": "2025-09-14T22:23:41.314211Z",
     "iopub.status.idle": "2025-09-14T22:23:41.362183Z",
     "shell.execute_reply": "2025-09-14T22:23:41.361725Z"
    }
   },
   "outputs": [
    {
     "data": {
      "text/plain": [
       "Text(0, 0.5, 'Option Deltas')"
      ]
     },
     "execution_count": 26,
     "metadata": {},
     "output_type": "execute_result"
    },
    {
     "data": {
      "image/png": "[encoded data removed]",
      "text/plain": [
       "<Figure size 640x480 with 1 Axes>"
      ]
     },
     "metadata": {},
     "output_type": "display_data"
    }
   ],
   "source": [
    "plt.plot(stock_prices, deltas)\n",
    "plt.xlabel(\"Stock Prices\")\n",
    "plt.ylabel(\"Option Deltas\")"
   ]
  },
  {
   "cell_type": "code",
   "execution_count": 27,
   "metadata": {
    "execution": {
     "iopub.execute_input": "2025-09-14T22:23:41.363743Z",
     "iopub.status.busy": "2025-09-14T22:23:41.363488Z",
     "iopub.status.idle": "2025-09-14T22:23:41.366238Z",
     "shell.execute_reply": "2025-09-14T22:23:41.365906Z"
    }
   },
   "outputs": [],
   "source": [
    "gammas = call_option.gamma(value_dt, stock_prices, discount_curve, dividend_curve, model)"
   ]
  },
  {
   "cell_type": "code",
   "execution_count": 28,
   "metadata": {
    "execution": {
     "iopub.execute_input": "2025-09-14T22:23:41.367323Z",
     "iopub.status.busy": "2025-09-14T22:23:41.367186Z",
     "iopub.status.idle": "2025-09-14T22:23:41.416116Z",
     "shell.execute_reply": "2025-09-14T22:23:41.415682Z"
    }
   },
   "outputs": [
    {
     "data": {
      "text/plain": [
       "Text(0, 0.5, 'Option Gamma')"
      ]
     },
     "execution_count": 28,
     "metadata": {},
     "output_type": "execute_result"
    },
    {
     "data": {
      "image/png": "[encoded data removed]",
      "text/plain": [
       "<Figure size 640x480 with 1 Axes>"
      ]
     },
     "metadata": {},
     "output_type": "display_data"
    }
   ],
   "source": [
    "plt.plot(stock_prices, gammas)\n",
    "plt.xlabel(\"Stock Prices\")\n",
    "plt.ylabel(\"Option Gamma\")"
   ]
  },
  {
   "cell_type": "code",
   "execution_count": 29,
   "metadata": {
    "execution": {
     "iopub.execute_input": "2025-09-14T22:23:41.417548Z",
     "iopub.status.busy": "2025-09-14T22:23:41.417392Z",
     "iopub.status.idle": "2025-09-14T22:23:41.420015Z",
     "shell.execute_reply": "2025-09-14T22:23:41.419718Z"
    }
   },
   "outputs": [],
   "source": [
    "thetas = call_option.theta(value_dt, stock_prices, discount_curve, dividend_curve, model)"
   ]
  },
  {
   "cell_type": "code",
   "execution_count": 30,
   "metadata": {
    "execution": {
     "iopub.execute_input": "2025-09-14T22:23:41.421259Z",
     "iopub.status.busy": "2025-09-14T22:23:41.421111Z",
     "iopub.status.idle": "2025-09-14T22:23:41.478074Z",
     "shell.execute_reply": "2025-09-14T22:23:41.477735Z"
    }
   },
   "outputs": [
    {
     "data": {
      "text/plain": [
       "<matplotlib.legend.Legend at 0x1c78370cd70>"
      ]
     },
     "execution_count": 30,
     "metadata": {},
     "output_type": "execute_result"
    },
    {
     "data": {
      "image/png": "[encoded data removed]",
      "text/plain": [
       "<Figure size 640x480 with 1 Axes>"
      ]
     },
     "metadata": {},
     "output_type": "display_data"
    }
   ],
   "source": [
    "plt.plot(stock_prices, thetas, label=\"Thetas\")\n",
    "plt.xlabel(\"Stock Prices\")\n",
    "plt.ylabel(\"Option Theta\")\n",
    "plt.legend()"
   ]
  },
  {
   "cell_type": "code",
   "execution_count": 31,
   "metadata": {
    "execution": {
     "iopub.execute_input": "2025-09-14T22:23:41.479329Z",
     "iopub.status.busy": "2025-09-14T22:23:41.479189Z",
     "iopub.status.idle": "2025-09-14T22:23:41.481709Z",
     "shell.execute_reply": "2025-09-14T22:23:41.481334Z"
    }
   },
   "outputs": [],
   "source": [
    "rhos = call_option.rho(value_dt, stock_prices, discount_curve, dividend_curve, model)"
   ]
  },
  {
   "cell_type": "code",
   "execution_count": 32,
   "metadata": {
    "execution": {
     "iopub.execute_input": "2025-09-14T22:23:41.482942Z",
     "iopub.status.busy": "2025-09-14T22:23:41.482795Z",
     "iopub.status.idle": "2025-09-14T22:23:41.527069Z",
     "shell.execute_reply": "2025-09-14T22:23:41.526706Z"
    }
   },
   "outputs": [
    {
     "data": {
      "text/plain": [
       "Text(0, 0.5, 'Option Rho')"
      ]
     },
     "execution_count": 32,
     "metadata": {},
     "output_type": "execute_result"
    },
    {
     "data": {
      "image/png": "[encoded data removed]",
      "text/plain": [
       "<Figure size 640x480 with 1 Axes>"
      ]
     },
     "metadata": {},
     "output_type": "display_data"
    }
   ],
   "source": [
    "plt.plot(stock_prices, rhos)\n",
    "plt.xlabel(\"Stock Prices\")\n",
    "plt.ylabel(\"Option Rho\")"
   ]
  },
  {
   "cell_type": "markdown",
   "metadata": {},
   "source": [
    "Copyright (c) 2020 Dominic O'Kane"
   ]
  }
 ],
 "metadata": {
  "kernelspec": {
   "display_name": "base",
   "language": "python",
   "name": "python3"
  },
  "language_info": {
   "codemirror_mode": {
    "name": "ipython",
    "version": 3
   },
   "file_extension": ".py",
   "mimetype": "text/x-python",
   "name": "python",
   "nbconvert_exporter": "python",
   "pygments_lexer": "ipython3",
   "version": "3.13.7"
  }
 },
 "nbformat": 4,
 "nbformat_minor": 2
}
