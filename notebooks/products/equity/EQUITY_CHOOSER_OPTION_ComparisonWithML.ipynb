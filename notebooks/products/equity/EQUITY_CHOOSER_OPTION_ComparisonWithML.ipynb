{
 "cells": [
  {
   "cell_type": "markdown",
   "metadata": {},
   "source": [
    "# EQUITY CHOOSER OPTION - VALUATION AND RISK ANALYSIS"
   ]
  },
  {
   "cell_type": "markdown",
   "metadata": {},
   "source": [
    "Valuation and Risk of Equity Chooser Options in which the option is on a basket of stocks. This is compared with an example at https://fr.mathworks.com/help/fininst/chooserbybls.html"
   ]
  },
  {
   "cell_type": "code",
   "execution_count": 1,
   "metadata": {
    "execution": {
     "iopub.execute_input": "2025-08-27T22:32:28.454651Z",
     "iopub.status.busy": "2025-08-27T22:32:28.454405Z",
     "iopub.status.idle": "2025-08-27T22:32:28.910730Z",
     "shell.execute_reply": "2025-08-27T22:32:28.910166Z"
    }
   },
   "outputs": [],
   "source": [
    "import numpy as np\n",
    "import matplotlib.pyplot as plt"
   ]
  },
  {
   "cell_type": "code",
   "execution_count": 2,
   "metadata": {
    "execution": {
     "iopub.execute_input": "2025-08-27T22:32:28.913179Z",
     "iopub.status.busy": "2025-08-27T22:32:28.912922Z",
     "iopub.status.idle": "2025-08-27T22:32:31.611709Z",
     "shell.execute_reply": "2025-08-27T22:32:31.611257Z"
    }
   },
   "outputs": [],
   "source": [
    "from financepy.utils import *\n",
    "from financepy.market.curves import *\n",
    "from financepy.products.equity import *"
   ]
  },
  {
   "cell_type": "markdown",
   "metadata": {},
   "source": [
    "# Chooser Option"
   ]
  },
  {
   "cell_type": "markdown",
   "metadata": {},
   "source": [
    "All the assets in the basket have the same characteristicsm"
   ]
  },
  {
   "cell_type": "code",
   "execution_count": 3,
   "metadata": {
    "execution": {
     "iopub.execute_input": "2025-08-27T22:32:31.614466Z",
     "iopub.status.busy": "2025-08-27T22:32:31.614070Z",
     "iopub.status.idle": "2025-08-27T22:32:31.633077Z",
     "shell.execute_reply": "2025-08-27T22:32:31.632590Z"
    }
   },
   "outputs": [],
   "source": [
    "settle_dt = Date(1,6,2007)"
   ]
  },
  {
   "cell_type": "code",
   "execution_count": 4,
   "metadata": {
    "execution": {
     "iopub.execute_input": "2025-08-27T22:32:31.635764Z",
     "iopub.status.busy": "2025-08-27T22:32:31.635488Z",
     "iopub.status.idle": "2025-08-27T22:32:31.637971Z",
     "shell.execute_reply": "2025-08-27T22:32:31.637589Z"
    }
   },
   "outputs": [],
   "source": [
    "choose_dt = Date(31, 8, 2007)"
   ]
  },
  {
   "cell_type": "code",
   "execution_count": 5,
   "metadata": {
    "execution": {
     "iopub.execute_input": "2025-08-27T22:32:31.640070Z",
     "iopub.status.busy": "2025-08-27T22:32:31.639809Z",
     "iopub.status.idle": "2025-08-27T22:32:31.642432Z",
     "shell.execute_reply": "2025-08-27T22:32:31.642068Z"
    }
   },
   "outputs": [],
   "source": [
    "call_expiry_dt = Date(2, 12, 2007)\n",
    "put_expiry_dt = Date(2, 12, 2007)"
   ]
  },
  {
   "cell_type": "code",
   "execution_count": 6,
   "metadata": {
    "execution": {
     "iopub.execute_input": "2025-08-27T22:32:31.644173Z",
     "iopub.status.busy": "2025-08-27T22:32:31.643984Z",
     "iopub.status.idle": "2025-08-27T22:32:31.646076Z",
     "shell.execute_reply": "2025-08-27T22:32:31.645694Z"
    }
   },
   "outputs": [],
   "source": [
    "call_strike = 60.0\n",
    "put_strike = 60.0"
   ]
  },
  {
   "cell_type": "code",
   "execution_count": 7,
   "metadata": {
    "execution": {
     "iopub.execute_input": "2025-08-27T22:32:31.648163Z",
     "iopub.status.busy": "2025-08-27T22:32:31.647959Z",
     "iopub.status.idle": "2025-08-27T22:32:31.650896Z",
     "shell.execute_reply": "2025-08-27T22:32:31.650468Z"
    }
   },
   "outputs": [],
   "source": [
    "chooserOption = EquityChooserOption(choose_dt, call_expiry_dt, put_expiry_dt, call_strike, put_strike)"
   ]
  },
  {
   "cell_type": "code",
   "execution_count": 8,
   "metadata": {
    "execution": {
     "iopub.execute_input": "2025-08-27T22:32:31.652823Z",
     "iopub.status.busy": "2025-08-27T22:32:31.652630Z",
     "iopub.status.idle": "2025-08-27T22:32:31.656426Z",
     "shell.execute_reply": "2025-08-27T22:32:31.656083Z"
    }
   },
   "outputs": [
    {
     "name": "stdout",
     "output_type": "stream",
     "text": [
      "OBJECT TYPE: EquityChooserOption\n",
      "CHOOSER DATE: 31-AUG-2007\n",
      "CALL EXPIRY DATE: 02-DEC-2007\n",
      "CALL STRIKE PRICE: 60.0\n",
      "PUT EXPIRY DATE: 02-DEC-2007\n",
      "PUT STRIKE PRICE: 60.0\n"
     ]
    }
   ],
   "source": [
    "print(chooserOption)"
   ]
  },
  {
   "cell_type": "markdown",
   "metadata": {},
   "source": [
    "## Valuation"
   ]
  },
  {
   "cell_type": "code",
   "execution_count": 9,
   "metadata": {
    "execution": {
     "iopub.execute_input": "2025-08-27T22:32:31.658133Z",
     "iopub.status.busy": "2025-08-27T22:32:31.657936Z",
     "iopub.status.idle": "2025-08-27T22:32:31.660382Z",
     "shell.execute_reply": "2025-08-27T22:32:31.659937Z"
    }
   },
   "outputs": [],
   "source": [
    "value_dt = Date(1, 6, 2007)"
   ]
  },
  {
   "cell_type": "code",
   "execution_count": 10,
   "metadata": {
    "execution": {
     "iopub.execute_input": "2025-08-27T22:32:31.662493Z",
     "iopub.status.busy": "2025-08-27T22:32:31.662297Z",
     "iopub.status.idle": "2025-08-27T22:32:31.664637Z",
     "shell.execute_reply": "2025-08-27T22:32:31.664346Z"
    }
   },
   "outputs": [],
   "source": [
    "interest_rate = 0.10"
   ]
  },
  {
   "cell_type": "code",
   "execution_count": 11,
   "metadata": {
    "execution": {
     "iopub.execute_input": "2025-08-27T22:32:31.666182Z",
     "iopub.status.busy": "2025-08-27T22:32:31.666011Z",
     "iopub.status.idle": "2025-08-27T22:32:31.674241Z",
     "shell.execute_reply": "2025-08-27T22:32:31.673649Z"
    }
   },
   "outputs": [],
   "source": [
    "discount_curve = DiscountCurveFlat(value_dt, interest_rate, FrequencyTypes.CONTINUOUS)"
   ]
  },
  {
   "cell_type": "code",
   "execution_count": 12,
   "metadata": {
    "execution": {
     "iopub.execute_input": "2025-08-27T22:32:31.676641Z",
     "iopub.status.busy": "2025-08-27T22:32:31.676363Z",
     "iopub.status.idle": "2025-08-27T22:32:31.678948Z",
     "shell.execute_reply": "2025-08-27T22:32:31.678582Z"
    }
   },
   "outputs": [],
   "source": [
    "volatility = 0.20"
   ]
  },
  {
   "cell_type": "code",
   "execution_count": 13,
   "metadata": {
    "execution": {
     "iopub.execute_input": "2025-08-27T22:32:31.680851Z",
     "iopub.status.busy": "2025-08-27T22:32:31.680594Z",
     "iopub.status.idle": "2025-08-27T22:32:31.683158Z",
     "shell.execute_reply": "2025-08-27T22:32:31.682738Z"
    }
   },
   "outputs": [],
   "source": [
    "model = BlackScholes(volatility)"
   ]
  },
  {
   "cell_type": "code",
   "execution_count": 14,
   "metadata": {
    "execution": {
     "iopub.execute_input": "2025-08-27T22:32:31.685072Z",
     "iopub.status.busy": "2025-08-27T22:32:31.684890Z",
     "iopub.status.idle": "2025-08-27T22:32:31.687177Z",
     "shell.execute_reply": "2025-08-27T22:32:31.686792Z"
    }
   },
   "outputs": [],
   "source": [
    "stock_price = 50.0\n",
    "dividend_yield = 0.05"
   ]
  },
  {
   "cell_type": "code",
   "execution_count": 15,
   "metadata": {
    "execution": {
     "iopub.execute_input": "2025-08-27T22:32:31.689049Z",
     "iopub.status.busy": "2025-08-27T22:32:31.688862Z",
     "iopub.status.idle": "2025-08-27T22:32:31.691629Z",
     "shell.execute_reply": "2025-08-27T22:32:31.691262Z"
    }
   },
   "outputs": [],
   "source": [
    "dividend_curve = DiscountCurveFlat(value_dt, dividend_yield)"
   ]
  },
  {
   "cell_type": "code",
   "execution_count": 16,
   "metadata": {
    "execution": {
     "iopub.execute_input": "2025-08-27T22:32:31.693626Z",
     "iopub.status.busy": "2025-08-27T22:32:31.693326Z",
     "iopub.status.idle": "2025-08-27T22:32:31.707928Z",
     "shell.execute_reply": "2025-08-27T22:32:31.707420Z"
    }
   },
   "outputs": [
    {
     "data": {
      "text/plain": [
       "np.float64(8.931595212089938)"
      ]
     },
     "execution_count": 16,
     "metadata": {},
     "output_type": "execute_result"
    }
   ],
   "source": [
    "chooserOption.value(value_dt, stock_price, discount_curve, dividend_curve, model)"
   ]
  },
  {
   "cell_type": "markdown",
   "metadata": {},
   "source": [
    "ML finds 8.9308"
   ]
  },
  {
   "cell_type": "markdown",
   "metadata": {},
   "source": [
    "## Monte-Carlo Analysis"
   ]
  },
  {
   "cell_type": "code",
   "execution_count": 17,
   "metadata": {
    "execution": {
     "iopub.execute_input": "2025-08-27T22:32:31.710045Z",
     "iopub.status.busy": "2025-08-27T22:32:31.709837Z",
     "iopub.status.idle": "2025-08-27T22:32:31.712382Z",
     "shell.execute_reply": "2025-08-27T22:32:31.711999Z"
    }
   },
   "outputs": [],
   "source": [
    "num_steps = np.linspace(2000,50000,20)"
   ]
  },
  {
   "cell_type": "code",
   "execution_count": 18,
   "metadata": {
    "execution": {
     "iopub.execute_input": "2025-08-27T22:32:31.714337Z",
     "iopub.status.busy": "2025-08-27T22:32:31.714122Z",
     "iopub.status.idle": "2025-08-27T22:32:31.850547Z",
     "shell.execute_reply": "2025-08-27T22:32:31.850063Z"
    }
   },
   "outputs": [],
   "source": [
    "values = []\n",
    "values_mc = []\n",
    "for n in num_steps:\n",
    "    v = chooserOption.value(value_dt, stock_price, discount_curve, dividend_curve, model)\n",
    "    v_mc = chooserOption.value_mc(value_dt, stock_price, discount_curve, dividend_curve, model, int(n))\n",
    "    values.append(v)\n",
    "    values_mc.append(v_mc)"
   ]
  },
  {
   "cell_type": "code",
   "execution_count": 19,
   "metadata": {
    "execution": {
     "iopub.execute_input": "2025-08-27T22:32:31.853001Z",
     "iopub.status.busy": "2025-08-27T22:32:31.852712Z",
     "iopub.status.idle": "2025-08-27T22:32:31.953912Z",
     "shell.execute_reply": "2025-08-27T22:32:31.953483Z"
    }
   },
   "outputs": [
    {
     "data": {
      "image/png": "[encoded data removed]",
      "text/plain": [
       "<Figure size 640x480 with 1 Axes>"
      ]
     },
     "metadata": {},
     "output_type": "display_data"
    }
   ],
   "source": [
    "plt.plot(num_steps, values);\n",
    "plt.plot(num_steps, values_mc);"
   ]
  },
  {
   "cell_type": "markdown",
   "metadata": {},
   "source": [
    "If the option is all European then we get a flat line. If not, we use the binomial tree and get the price to 4 significant figures with 2000 steps."
   ]
  },
  {
   "cell_type": "markdown",
   "metadata": {},
   "source": [
    "## Risk Sensitivities"
   ]
  },
  {
   "cell_type": "markdown",
   "metadata": {},
   "source": [
    "The analytical model produced the following sensitivities"
   ]
  },
  {
   "cell_type": "code",
   "execution_count": 20,
   "metadata": {
    "execution": {
     "iopub.execute_input": "2025-08-27T22:32:31.955818Z",
     "iopub.status.busy": "2025-08-27T22:32:31.955547Z",
     "iopub.status.idle": "2025-08-27T22:32:31.960132Z",
     "shell.execute_reply": "2025-08-27T22:32:31.959761Z"
    }
   },
   "outputs": [
    {
     "data": {
      "text/plain": [
       "np.float64(-0.7663737245167113)"
      ]
     },
     "execution_count": 20,
     "metadata": {},
     "output_type": "execute_result"
    }
   ],
   "source": [
    "chooserOption.delta(value_dt, stock_price, discount_curve, dividend_curve, model)"
   ]
  },
  {
   "cell_type": "code",
   "execution_count": 21,
   "metadata": {
    "execution": {
     "iopub.execute_input": "2025-08-27T22:32:31.962097Z",
     "iopub.status.busy": "2025-08-27T22:32:31.961836Z",
     "iopub.status.idle": "2025-08-27T22:32:31.965397Z",
     "shell.execute_reply": "2025-08-27T22:32:31.965020Z"
    }
   },
   "outputs": [
    {
     "data": {
      "text/plain": [
       "np.float64(0.05646825229632668)"
      ]
     },
     "execution_count": 21,
     "metadata": {},
     "output_type": "execute_result"
    }
   ],
   "source": [
    "chooserOption.gamma(value_dt, stock_price, discount_curve, dividend_curve, model)"
   ]
  },
  {
   "cell_type": "code",
   "execution_count": 22,
   "metadata": {
    "execution": {
     "iopub.execute_input": "2025-08-27T22:32:31.967266Z",
     "iopub.status.busy": "2025-08-27T22:32:31.967037Z",
     "iopub.status.idle": "2025-08-27T22:32:31.970570Z",
     "shell.execute_reply": "2025-08-27T22:32:31.970172Z"
    }
   },
   "outputs": [
    {
     "data": {
      "text/plain": [
       "np.float64(-0.004123476468684828)"
      ]
     },
     "execution_count": 22,
     "metadata": {},
     "output_type": "execute_result"
    }
   ],
   "source": [
    "chooserOption.theta(value_dt, stock_price, discount_curve, dividend_curve, model)"
   ]
  },
  {
   "cell_type": "code",
   "execution_count": 23,
   "metadata": {
    "execution": {
     "iopub.execute_input": "2025-08-27T22:32:31.972425Z",
     "iopub.status.busy": "2025-08-27T22:32:31.972213Z",
     "iopub.status.idle": "2025-08-27T22:32:31.975764Z",
     "shell.execute_reply": "2025-08-27T22:32:31.975401Z"
    }
   },
   "outputs": [
    {
     "data": {
      "text/plain": [
       "np.float64(0.11548275604736347)"
      ]
     },
     "execution_count": 23,
     "metadata": {},
     "output_type": "execute_result"
    }
   ],
   "source": [
    "chooserOption.vega(value_dt, stock_price, discount_curve, dividend_curve, model)"
   ]
  },
  {
   "cell_type": "code",
   "execution_count": 24,
   "metadata": {
    "execution": {
     "iopub.execute_input": "2025-08-27T22:32:31.977694Z",
     "iopub.status.busy": "2025-08-27T22:32:31.977382Z",
     "iopub.status.idle": "2025-08-27T22:32:31.981890Z",
     "shell.execute_reply": "2025-08-27T22:32:31.981462Z"
    }
   },
   "outputs": [
    {
     "data": {
      "text/plain": [
       "np.float64(-23.81699666820225)"
      ]
     },
     "execution_count": 24,
     "metadata": {},
     "output_type": "execute_result"
    }
   ],
   "source": [
    "chooserOption.rho(value_dt, stock_price, discount_curve, dividend_curve, model)"
   ]
  },
  {
   "cell_type": "markdown",
   "metadata": {},
   "source": [
    "Copyright (c) 2020 Dominic O'Kane"
   ]
  }
 ],
 "metadata": {
  "kernelspec": {
   "display_name": "base",
   "language": "python",
   "name": "python3"
  },
  "language_info": {
   "codemirror_mode": {
    "name": "ipython",
    "version": 3
   },
   "file_extension": ".py",
   "mimetype": "text/x-python",
   "name": "python",
   "nbconvert_exporter": "python",
   "pygments_lexer": "ipython3",
   "version": "3.13.5"
  }
 },
 "nbformat": 4,
 "nbformat_minor": 2
}
