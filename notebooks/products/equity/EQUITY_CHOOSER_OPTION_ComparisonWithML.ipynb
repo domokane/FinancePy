{
 "cells": [
  {
   "cell_type": "markdown",
   "metadata": {},
   "source": [
    "# EQUITY CHOOSER OPTION - VALUATION AND RISK ANALYSIS"
   ]
  },
  {
   "cell_type": "markdown",
   "metadata": {},
   "source": [
    "Valuation and Risk of Equity Chooser Options in which the option is on a basket of stocks. This is compared with an example at https://fr.mathworks.com/help/fininst/chooserbybls.html"
   ]
  },
  {
   "cell_type": "code",
   "execution_count": 1,
   "metadata": {
    "execution": {
     "iopub.execute_input": "2025-09-14T22:22:35.361431Z",
     "iopub.status.busy": "2025-09-14T22:22:35.361307Z",
     "iopub.status.idle": "2025-09-14T22:22:35.584771Z",
     "shell.execute_reply": "2025-09-14T22:22:35.584306Z"
    }
   },
   "outputs": [],
   "source": [
    "import numpy as np\n",
    "import matplotlib.pyplot as plt"
   ]
  },
  {
   "cell_type": "code",
   "execution_count": 2,
   "metadata": {
    "execution": {
     "iopub.execute_input": "2025-09-14T22:22:35.586600Z",
     "iopub.status.busy": "2025-09-14T22:22:35.586436Z",
     "iopub.status.idle": "2025-09-14T22:22:37.583046Z",
     "shell.execute_reply": "2025-09-14T22:22:37.582705Z"
    }
   },
   "outputs": [],
   "source": [
    "from financepy.utils import *\n",
    "from financepy.market.curves import *\n",
    "from financepy.products.equity import *"
   ]
  },
  {
   "cell_type": "markdown",
   "metadata": {},
   "source": [
    "# Chooser Option"
   ]
  },
  {
   "cell_type": "markdown",
   "metadata": {},
   "source": [
    "All the assets in the basket have the same characteristicsm"
   ]
  },
  {
   "cell_type": "code",
   "execution_count": 3,
   "metadata": {
    "execution": {
     "iopub.execute_input": "2025-09-14T22:22:37.584716Z",
     "iopub.status.busy": "2025-09-14T22:22:37.584495Z",
     "iopub.status.idle": "2025-09-14T22:22:37.601369Z",
     "shell.execute_reply": "2025-09-14T22:22:37.600853Z"
    }
   },
   "outputs": [],
   "source": [
    "settle_dt = Date(1,6,2007)"
   ]
  },
  {
   "cell_type": "code",
   "execution_count": 4,
   "metadata": {
    "execution": {
     "iopub.execute_input": "2025-09-14T22:22:37.602923Z",
     "iopub.status.busy": "2025-09-14T22:22:37.602782Z",
     "iopub.status.idle": "2025-09-14T22:22:37.605217Z",
     "shell.execute_reply": "2025-09-14T22:22:37.604851Z"
    }
   },
   "outputs": [],
   "source": [
    "choose_dt = Date(31, 8, 2007)"
   ]
  },
  {
   "cell_type": "code",
   "execution_count": 5,
   "metadata": {
    "execution": {
     "iopub.execute_input": "2025-09-14T22:22:37.606329Z",
     "iopub.status.busy": "2025-09-14T22:22:37.606202Z",
     "iopub.status.idle": "2025-09-14T22:22:37.608160Z",
     "shell.execute_reply": "2025-09-14T22:22:37.607857Z"
    }
   },
   "outputs": [],
   "source": [
    "call_expiry_dt = Date(2, 12, 2007)\n",
    "put_expiry_dt = Date(2, 12, 2007)"
   ]
  },
  {
   "cell_type": "code",
   "execution_count": 6,
   "metadata": {
    "execution": {
     "iopub.execute_input": "2025-09-14T22:22:37.609204Z",
     "iopub.status.busy": "2025-09-14T22:22:37.609092Z",
     "iopub.status.idle": "2025-09-14T22:22:37.610932Z",
     "shell.execute_reply": "2025-09-14T22:22:37.610671Z"
    }
   },
   "outputs": [],
   "source": [
    "call_strike = 60.0\n",
    "put_strike = 60.0"
   ]
  },
  {
   "cell_type": "code",
   "execution_count": 7,
   "metadata": {
    "execution": {
     "iopub.execute_input": "2025-09-14T22:22:37.611880Z",
     "iopub.status.busy": "2025-09-14T22:22:37.611767Z",
     "iopub.status.idle": "2025-09-14T22:22:37.613853Z",
     "shell.execute_reply": "2025-09-14T22:22:37.613573Z"
    }
   },
   "outputs": [],
   "source": [
    "chooserOption = EquityChooserOption(choose_dt, call_expiry_dt, put_expiry_dt, call_strike, put_strike)"
   ]
  },
  {
   "cell_type": "code",
   "execution_count": 8,
   "metadata": {
    "execution": {
     "iopub.execute_input": "2025-09-14T22:22:37.614834Z",
     "iopub.status.busy": "2025-09-14T22:22:37.614722Z",
     "iopub.status.idle": "2025-09-14T22:22:37.618001Z",
     "shell.execute_reply": "2025-09-14T22:22:37.617682Z"
    }
   },
   "outputs": [
    {
     "name": "stdout",
     "output_type": "stream",
     "text": [
      "OBJECT TYPE: EquityChooserOption\n",
      "CHOOSER DATE: 31-AUG-2007\n",
      "CALL EXPIRY DATE: 02-DEC-2007\n",
      "CALL STRIKE PRICE: 60.0\n",
      "PUT EXPIRY DATE: 02-DEC-2007\n",
      "PUT STRIKE PRICE: 60.0\n"
     ]
    }
   ],
   "source": [
    "print(chooserOption)"
   ]
  },
  {
   "cell_type": "markdown",
   "metadata": {},
   "source": [
    "## Valuation"
   ]
  },
  {
   "cell_type": "code",
   "execution_count": 9,
   "metadata": {
    "execution": {
     "iopub.execute_input": "2025-09-14T22:22:37.619317Z",
     "iopub.status.busy": "2025-09-14T22:22:37.619188Z",
     "iopub.status.idle": "2025-09-14T22:22:37.621074Z",
     "shell.execute_reply": "2025-09-14T22:22:37.620773Z"
    }
   },
   "outputs": [],
   "source": [
    "value_dt = Date(1, 6, 2007)"
   ]
  },
  {
   "cell_type": "code",
   "execution_count": 10,
   "metadata": {
    "execution": {
     "iopub.execute_input": "2025-09-14T22:22:37.622557Z",
     "iopub.status.busy": "2025-09-14T22:22:37.622262Z",
     "iopub.status.idle": "2025-09-14T22:22:37.624247Z",
     "shell.execute_reply": "2025-09-14T22:22:37.623950Z"
    }
   },
   "outputs": [],
   "source": [
    "interest_rate = 0.10"
   ]
  },
  {
   "cell_type": "code",
   "execution_count": 11,
   "metadata": {
    "execution": {
     "iopub.execute_input": "2025-09-14T22:22:37.625123Z",
     "iopub.status.busy": "2025-09-14T22:22:37.625013Z",
     "iopub.status.idle": "2025-09-14T22:22:37.634435Z",
     "shell.execute_reply": "2025-09-14T22:22:37.633984Z"
    }
   },
   "outputs": [],
   "source": [
    "discount_curve = DiscountCurveFlat(value_dt, interest_rate, FrequencyTypes.CONTINUOUS)"
   ]
  },
  {
   "cell_type": "code",
   "execution_count": 12,
   "metadata": {
    "execution": {
     "iopub.execute_input": "2025-09-14T22:22:37.635483Z",
     "iopub.status.busy": "2025-09-14T22:22:37.635373Z",
     "iopub.status.idle": "2025-09-14T22:22:37.637487Z",
     "shell.execute_reply": "2025-09-14T22:22:37.637250Z"
    }
   },
   "outputs": [],
   "source": [
    "volatility = 0.20"
   ]
  },
  {
   "cell_type": "code",
   "execution_count": 13,
   "metadata": {
    "execution": {
     "iopub.execute_input": "2025-09-14T22:22:37.638399Z",
     "iopub.status.busy": "2025-09-14T22:22:37.638287Z",
     "iopub.status.idle": "2025-09-14T22:22:37.640133Z",
     "shell.execute_reply": "2025-09-14T22:22:37.639899Z"
    }
   },
   "outputs": [],
   "source": [
    "model = BlackScholes(volatility)"
   ]
  },
  {
   "cell_type": "code",
   "execution_count": 14,
   "metadata": {
    "execution": {
     "iopub.execute_input": "2025-09-14T22:22:37.641012Z",
     "iopub.status.busy": "2025-09-14T22:22:37.640895Z",
     "iopub.status.idle": "2025-09-14T22:22:37.643180Z",
     "shell.execute_reply": "2025-09-14T22:22:37.642905Z"
    }
   },
   "outputs": [],
   "source": [
    "stock_price = 50.0\n",
    "dividend_yield = 0.05"
   ]
  },
  {
   "cell_type": "code",
   "execution_count": 15,
   "metadata": {
    "execution": {
     "iopub.execute_input": "2025-09-14T22:22:37.644114Z",
     "iopub.status.busy": "2025-09-14T22:22:37.643996Z",
     "iopub.status.idle": "2025-09-14T22:22:37.646223Z",
     "shell.execute_reply": "2025-09-14T22:22:37.645921Z"
    }
   },
   "outputs": [],
   "source": [
    "dividend_curve = DiscountCurveFlat(value_dt, dividend_yield)"
   ]
  },
  {
   "cell_type": "code",
   "execution_count": 16,
   "metadata": {
    "execution": {
     "iopub.execute_input": "2025-09-14T22:22:37.647124Z",
     "iopub.status.busy": "2025-09-14T22:22:37.647011Z",
     "iopub.status.idle": "2025-09-14T22:22:37.661737Z",
     "shell.execute_reply": "2025-09-14T22:22:37.661442Z"
    }
   },
   "outputs": [
    {
     "data": {
      "text/plain": [
       "np.float64(8.931595212089938)"
      ]
     },
     "execution_count": 16,
     "metadata": {},
     "output_type": "execute_result"
    }
   ],
   "source": [
    "chooserOption.value(value_dt, stock_price, discount_curve, dividend_curve, model)"
   ]
  },
  {
   "cell_type": "markdown",
   "metadata": {},
   "source": [
    "ML finds 8.9308"
   ]
  },
  {
   "cell_type": "markdown",
   "metadata": {},
   "source": [
    "## Monte-Carlo Analysis"
   ]
  },
  {
   "cell_type": "code",
   "execution_count": 17,
   "metadata": {
    "execution": {
     "iopub.execute_input": "2025-09-14T22:22:37.663442Z",
     "iopub.status.busy": "2025-09-14T22:22:37.663311Z",
     "iopub.status.idle": "2025-09-14T22:22:37.665533Z",
     "shell.execute_reply": "2025-09-14T22:22:37.665234Z"
    }
   },
   "outputs": [],
   "source": [
    "num_steps = np.linspace(2000,50000,20)"
   ]
  },
  {
   "cell_type": "code",
   "execution_count": 18,
   "metadata": {
    "execution": {
     "iopub.execute_input": "2025-09-14T22:22:37.666570Z",
     "iopub.status.busy": "2025-09-14T22:22:37.666450Z",
     "iopub.status.idle": "2025-09-14T22:22:37.763752Z",
     "shell.execute_reply": "2025-09-14T22:22:37.763361Z"
    }
   },
   "outputs": [],
   "source": [
    "values = []\n",
    "values_mc = []\n",
    "for n in num_steps:\n",
    "    v = chooserOption.value(value_dt, stock_price, discount_curve, dividend_curve, model)\n",
    "    v_mc = chooserOption.value_mc(value_dt, stock_price, discount_curve, dividend_curve, model, int(n))\n",
    "    values.append(v)\n",
    "    values_mc.append(v_mc)"
   ]
  },
  {
   "cell_type": "code",
   "execution_count": 19,
   "metadata": {
    "execution": {
     "iopub.execute_input": "2025-09-14T22:22:37.766031Z",
     "iopub.status.busy": "2025-09-14T22:22:37.765882Z",
     "iopub.status.idle": "2025-09-14T22:22:37.819507Z",
     "shell.execute_reply": "2025-09-14T22:22:37.818220Z"
    }
   },
   "outputs": [
    {
     "data": {
      "image/png": "[encoded data removed]",
      "text/plain": [
       "<Figure size 640x480 with 1 Axes>"
      ]
     },
     "metadata": {},
     "output_type": "display_data"
    }
   ],
   "source": [
    "plt.plot(num_steps, values);\n",
    "plt.plot(num_steps, values_mc);"
   ]
  },
  {
   "cell_type": "markdown",
   "metadata": {},
   "source": [
    "If the option is all European then we get a flat line. If not, we use the binomial tree and get the price to 4 significant figures with 2000 steps."
   ]
  },
  {
   "cell_type": "markdown",
   "metadata": {},
   "source": [
    "## Risk Sensitivities"
   ]
  },
  {
   "cell_type": "markdown",
   "metadata": {},
   "source": [
    "The analytical model produced the following sensitivities"
   ]
  },
  {
   "cell_type": "code",
   "execution_count": 20,
   "metadata": {
    "execution": {
     "iopub.execute_input": "2025-09-14T22:22:37.821010Z",
     "iopub.status.busy": "2025-09-14T22:22:37.820877Z",
     "iopub.status.idle": "2025-09-14T22:22:37.823954Z",
     "shell.execute_reply": "2025-09-14T22:22:37.823652Z"
    }
   },
   "outputs": [
    {
     "data": {
      "text/plain": [
       "np.float64(-0.7663737245167113)"
      ]
     },
     "execution_count": 20,
     "metadata": {},
     "output_type": "execute_result"
    }
   ],
   "source": [
    "chooserOption.delta(value_dt, stock_price, discount_curve, dividend_curve, model)"
   ]
  },
  {
   "cell_type": "code",
   "execution_count": 21,
   "metadata": {
    "execution": {
     "iopub.execute_input": "2025-09-14T22:22:37.824919Z",
     "iopub.status.busy": "2025-09-14T22:22:37.824799Z",
     "iopub.status.idle": "2025-09-14T22:22:37.827970Z",
     "shell.execute_reply": "2025-09-14T22:22:37.827661Z"
    }
   },
   "outputs": [
    {
     "data": {
      "text/plain": [
       "np.float64(0.05646825229632668)"
      ]
     },
     "execution_count": 21,
     "metadata": {},
     "output_type": "execute_result"
    }
   ],
   "source": [
    "chooserOption.gamma(value_dt, stock_price, discount_curve, dividend_curve, model)"
   ]
  },
  {
   "cell_type": "code",
   "execution_count": 22,
   "metadata": {
    "execution": {
     "iopub.execute_input": "2025-09-14T22:22:37.828909Z",
     "iopub.status.busy": "2025-09-14T22:22:37.828796Z",
     "iopub.status.idle": "2025-09-14T22:22:37.831500Z",
     "shell.execute_reply": "2025-09-14T22:22:37.831252Z"
    }
   },
   "outputs": [
    {
     "data": {
      "text/plain": [
       "np.float64(-0.004123476468684828)"
      ]
     },
     "execution_count": 22,
     "metadata": {},
     "output_type": "execute_result"
    }
   ],
   "source": [
    "chooserOption.theta(value_dt, stock_price, discount_curve, dividend_curve, model)"
   ]
  },
  {
   "cell_type": "code",
   "execution_count": 23,
   "metadata": {
    "execution": {
     "iopub.execute_input": "2025-09-14T22:22:37.833023Z",
     "iopub.status.busy": "2025-09-14T22:22:37.832694Z",
     "iopub.status.idle": "2025-09-14T22:22:37.836202Z",
     "shell.execute_reply": "2025-09-14T22:22:37.835411Z"
    }
   },
   "outputs": [
    {
     "data": {
      "text/plain": [
       "np.float64(0.11548275604736347)"
      ]
     },
     "execution_count": 23,
     "metadata": {},
     "output_type": "execute_result"
    }
   ],
   "source": [
    "chooserOption.vega(value_dt, stock_price, discount_curve, dividend_curve, model)"
   ]
  },
  {
   "cell_type": "code",
   "execution_count": 24,
   "metadata": {
    "execution": {
     "iopub.execute_input": "2025-09-14T22:22:37.837279Z",
     "iopub.status.busy": "2025-09-14T22:22:37.837161Z",
     "iopub.status.idle": "2025-09-14T22:22:37.840043Z",
     "shell.execute_reply": "2025-09-14T22:22:37.839769Z"
    }
   },
   "outputs": [
    {
     "data": {
      "text/plain": [
       "np.float64(-23.81699666820225)"
      ]
     },
     "execution_count": 24,
     "metadata": {},
     "output_type": "execute_result"
    }
   ],
   "source": [
    "chooserOption.rho(value_dt, stock_price, discount_curve, dividend_curve, model)"
   ]
  },
  {
   "cell_type": "markdown",
   "metadata": {},
   "source": [
    "Copyright (c) 2020 Dominic O'Kane"
   ]
  }
 ],
 "metadata": {
  "kernelspec": {
   "display_name": "base",
   "language": "python",
   "name": "python3"
  },
  "language_info": {
   "codemirror_mode": {
    "name": "ipython",
    "version": 3
   },
   "file_extension": ".py",
   "mimetype": "text/x-python",
   "name": "python",
   "nbconvert_exporter": "python",
   "pygments_lexer": "ipython3",
   "version": "3.13.7"
  }
 },
 "nbformat": 4,
 "nbformat_minor": 2
}
