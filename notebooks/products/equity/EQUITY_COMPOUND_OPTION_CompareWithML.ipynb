{
 "cells": [
  {
   "cell_type": "markdown",
   "metadata": {},
   "source": [
    "# EQUITY COMPOUND OPTIONS - VALUATION AND RISK ANALYSIS"
   ]
  },
  {
   "cell_type": "markdown",
   "metadata": {},
   "source": [
    "Valuation and Risk of an Option on an Option following example in https://fr.mathworks.com/help/fininst/compoundbycrr.html"
   ]
  },
  {
   "cell_type": "code",
   "execution_count": 1,
   "metadata": {
    "execution": {
     "iopub.execute_input": "2025-08-27T21:45:47.912201Z",
     "iopub.status.busy": "2025-08-27T21:45:47.911813Z",
     "iopub.status.idle": "2025-08-27T21:45:48.417293Z",
     "shell.execute_reply": "2025-08-27T21:45:48.416814Z"
    }
   },
   "outputs": [],
   "source": [
    "import numpy as np\n",
    "import matplotlib.pyplot as plt"
   ]
  },
  {
   "cell_type": "code",
   "execution_count": 2,
   "metadata": {
    "execution": {
     "iopub.execute_input": "2025-08-27T21:45:48.419522Z",
     "iopub.status.busy": "2025-08-27T21:45:48.419171Z",
     "iopub.status.idle": "2025-08-27T21:45:51.489871Z",
     "shell.execute_reply": "2025-08-27T21:45:51.489332Z"
    }
   },
   "outputs": [
    {
     "name": "stdout",
     "output_type": "stream",
     "text": [
      "####################################################################\n",
      "#    FINANCEPY Version 1.1 - This build: 27 Aug 2025 at 23:27      #\n",
      "#     This software is distributed FREE AND WITHOUT ANY WARRANTY   #\n",
      "#  Report bugs as issues at https://github.com/domokane/FinancePy  #\n",
      "####################################################################\n",
      "\n"
     ]
    }
   ],
   "source": [
    "from financepy.utils import *\n",
    "from financepy.market.curves import *\n",
    "from financepy.products.equity import *"
   ]
  },
  {
   "cell_type": "markdown",
   "metadata": {},
   "source": [
    "# Compound Option"
   ]
  },
  {
   "cell_type": "markdown",
   "metadata": {},
   "source": [
    "The underlying option is a call"
   ]
  },
  {
   "cell_type": "code",
   "execution_count": 3,
   "metadata": {
    "execution": {
     "iopub.execute_input": "2025-08-27T21:45:51.492476Z",
     "iopub.status.busy": "2025-08-27T21:45:51.492106Z",
     "iopub.status.idle": "2025-08-27T21:45:51.516113Z",
     "shell.execute_reply": "2025-08-27T21:45:51.515679Z"
    }
   },
   "outputs": [],
   "source": [
    "uExpiryDate = Date(1, 1, 2006)\n",
    "uStrikePrice = 130.0\n",
    "uOptionType = OptionTypes.AMERICAN_CALL"
   ]
  },
  {
   "cell_type": "markdown",
   "metadata": {},
   "source": [
    "The compound option is a put on this call"
   ]
  },
  {
   "cell_type": "code",
   "execution_count": 4,
   "metadata": {
    "execution": {
     "iopub.execute_input": "2025-08-27T21:45:51.518697Z",
     "iopub.status.busy": "2025-08-27T21:45:51.518367Z",
     "iopub.status.idle": "2025-08-27T21:45:51.520922Z",
     "shell.execute_reply": "2025-08-27T21:45:51.520599Z"
    }
   },
   "outputs": [],
   "source": [
    "cExpiryDate = Date(1, 1, 2005)\n",
    "cStrikePrice = 5.0\n",
    "cOptionType = OptionTypes.EUROPEAN_PUT"
   ]
  },
  {
   "cell_type": "markdown",
   "metadata": {},
   "source": [
    "We create the compound option"
   ]
  },
  {
   "cell_type": "code",
   "execution_count": 5,
   "metadata": {
    "execution": {
     "iopub.execute_input": "2025-08-27T21:45:51.522796Z",
     "iopub.status.busy": "2025-08-27T21:45:51.522593Z",
     "iopub.status.idle": "2025-08-27T21:45:51.525802Z",
     "shell.execute_reply": "2025-08-27T21:45:51.525129Z"
    }
   },
   "outputs": [],
   "source": [
    "cmpdOption = EquityCompoundOption(cExpiryDate, cOptionType, cStrikePrice,\n",
    "                                     uExpiryDate, uOptionType, uStrikePrice)"
   ]
  },
  {
   "cell_type": "code",
   "execution_count": 6,
   "metadata": {
    "execution": {
     "iopub.execute_input": "2025-08-27T21:45:51.528187Z",
     "iopub.status.busy": "2025-08-27T21:45:51.527829Z",
     "iopub.status.idle": "2025-08-27T21:45:51.531223Z",
     "shell.execute_reply": "2025-08-27T21:45:51.530558Z"
    }
   },
   "outputs": [
    {
     "name": "stdout",
     "output_type": "stream",
     "text": [
      "OBJECT TYPE: EquityCompoundOption\n",
      "CPD EXPIRY DATE: 01-JAN-2005\n",
      "CPD STRIKE PRICE: 5.0\n",
      "CPD OPTION TYPE: OptionTypes.EUROPEAN_PUT\n",
      "UND EXPIRY DATE: 01-JAN-2006\n",
      "UND STRIKE PRICE: 130.0\n",
      "UND OPTION TYPE: OptionTypes.AMERICAN_CALL\n",
      "\n"
     ]
    }
   ],
   "source": [
    "print(cmpdOption)"
   ]
  },
  {
   "cell_type": "markdown",
   "metadata": {},
   "source": [
    "## Valuation"
   ]
  },
  {
   "cell_type": "code",
   "execution_count": 7,
   "metadata": {
    "execution": {
     "iopub.execute_input": "2025-08-27T21:45:51.533324Z",
     "iopub.status.busy": "2025-08-27T21:45:51.533106Z",
     "iopub.status.idle": "2025-08-27T21:45:51.535435Z",
     "shell.execute_reply": "2025-08-27T21:45:51.535095Z"
    }
   },
   "outputs": [],
   "source": [
    "value_dt = Date(1, 1, 2003)"
   ]
  },
  {
   "cell_type": "code",
   "execution_count": 8,
   "metadata": {
    "execution": {
     "iopub.execute_input": "2025-08-27T21:45:51.537311Z",
     "iopub.status.busy": "2025-08-27T21:45:51.537018Z",
     "iopub.status.idle": "2025-08-27T21:45:51.540011Z",
     "shell.execute_reply": "2025-08-27T21:45:51.539511Z"
    }
   },
   "outputs": [],
   "source": [
    "stock_price = 50.0\n",
    "volatility = 0.20"
   ]
  },
  {
   "cell_type": "code",
   "execution_count": 9,
   "metadata": {
    "execution": {
     "iopub.execute_input": "2025-08-27T21:45:51.542160Z",
     "iopub.status.busy": "2025-08-27T21:45:51.541928Z",
     "iopub.status.idle": "2025-08-27T21:45:51.551488Z",
     "shell.execute_reply": "2025-08-27T21:45:51.550814Z"
    }
   },
   "outputs": [],
   "source": [
    "interest_rate = 0.05\n",
    "discount_curve = DiscountCurveFlat(value_dt, interest_rate, FrequencyTypes.ANNUAL)"
   ]
  },
  {
   "cell_type": "code",
   "execution_count": 10,
   "metadata": {
    "execution": {
     "iopub.execute_input": "2025-08-27T21:45:51.554198Z",
     "iopub.status.busy": "2025-08-27T21:45:51.553929Z",
     "iopub.status.idle": "2025-08-27T21:45:51.557372Z",
     "shell.execute_reply": "2025-08-27T21:45:51.556830Z"
    }
   },
   "outputs": [],
   "source": [
    "dividend_yield = 0.03\n",
    "dividend_curve = DiscountCurveFlat(value_dt, dividend_yield)"
   ]
  },
  {
   "cell_type": "code",
   "execution_count": 11,
   "metadata": {
    "execution": {
     "iopub.execute_input": "2025-08-27T21:45:51.559347Z",
     "iopub.status.busy": "2025-08-27T21:45:51.559065Z",
     "iopub.status.idle": "2025-08-27T21:45:51.561879Z",
     "shell.execute_reply": "2025-08-27T21:45:51.561512Z"
    }
   },
   "outputs": [],
   "source": [
    "model = BlackScholes(volatility)"
   ]
  },
  {
   "cell_type": "code",
   "execution_count": 12,
   "metadata": {
    "execution": {
     "iopub.execute_input": "2025-08-27T21:45:51.563600Z",
     "iopub.status.busy": "2025-08-27T21:45:51.563383Z",
     "iopub.status.idle": "2025-08-27T21:45:52.997975Z",
     "shell.execute_reply": "2025-08-27T21:45:52.997480Z"
    }
   },
   "outputs": [
    {
     "data": {
      "text/plain": [
       "np.float64(4.511907150641089)"
      ]
     },
     "execution_count": 12,
     "metadata": {},
     "output_type": "execute_result"
    }
   ],
   "source": [
    "cmpdOption.value(value_dt, stock_price, discount_curve, dividend_curve, model, 1000)"
   ]
  },
  {
   "cell_type": "markdown",
   "metadata": {},
   "source": [
    "ML finds 2.8482. However it is not possible to reconcile with ML as they do not provide full details on the CRR tree."
   ]
  },
  {
   "cell_type": "markdown",
   "metadata": {},
   "source": [
    "Copyright (c) 2020 Dominic O'Kane"
   ]
  }
 ],
 "metadata": {
  "kernelspec": {
   "display_name": "base",
   "language": "python",
   "name": "python3"
  },
  "language_info": {
   "codemirror_mode": {
    "name": "ipython",
    "version": 3
   },
   "file_extension": ".py",
   "mimetype": "text/x-python",
   "name": "python",
   "nbconvert_exporter": "python",
   "pygments_lexer": "ipython3",
   "version": "3.13.5"
  }
 },
 "nbformat": 4,
 "nbformat_minor": 2
}
