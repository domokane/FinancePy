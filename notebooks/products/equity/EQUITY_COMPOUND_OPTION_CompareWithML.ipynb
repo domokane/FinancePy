{
 "cells": [
  {
   "cell_type": "markdown",
   "metadata": {},
   "source": [
    "# EQUITY COMPOUND OPTIONS - VALUATION AND RISK ANALYSIS"
   ]
  },
  {
   "cell_type": "markdown",
   "metadata": {},
   "source": [
    "Valuation and Risk of an Option on an Option following example in https://fr.mathworks.com/help/fininst/compoundbycrr.html"
   ]
  },
  {
   "cell_type": "code",
   "execution_count": 1,
   "metadata": {
    "execution": {
     "iopub.execute_input": "2025-08-27T22:32:39.223082Z",
     "iopub.status.busy": "2025-08-27T22:32:39.222728Z",
     "iopub.status.idle": "2025-08-27T22:32:39.680005Z",
     "shell.execute_reply": "2025-08-27T22:32:39.679486Z"
    }
   },
   "outputs": [],
   "source": [
    "import numpy as np\n",
    "import matplotlib.pyplot as plt"
   ]
  },
  {
   "cell_type": "code",
   "execution_count": 2,
   "metadata": {
    "execution": {
     "iopub.execute_input": "2025-08-27T22:32:39.682645Z",
     "iopub.status.busy": "2025-08-27T22:32:39.682302Z",
     "iopub.status.idle": "2025-08-27T22:32:42.426266Z",
     "shell.execute_reply": "2025-08-27T22:32:42.425827Z"
    }
   },
   "outputs": [],
   "source": [
    "from financepy.utils import *\n",
    "from financepy.market.curves import *\n",
    "from financepy.products.equity import *"
   ]
  },
  {
   "cell_type": "markdown",
   "metadata": {},
   "source": [
    "# Compound Option"
   ]
  },
  {
   "cell_type": "markdown",
   "metadata": {},
   "source": [
    "The underlying option is a call"
   ]
  },
  {
   "cell_type": "code",
   "execution_count": 3,
   "metadata": {
    "execution": {
     "iopub.execute_input": "2025-08-27T22:32:42.428976Z",
     "iopub.status.busy": "2025-08-27T22:32:42.428597Z",
     "iopub.status.idle": "2025-08-27T22:32:42.447980Z",
     "shell.execute_reply": "2025-08-27T22:32:42.447463Z"
    }
   },
   "outputs": [],
   "source": [
    "uExpiryDate = Date(1, 1, 2006)\n",
    "uStrikePrice = 130.0\n",
    "uOptionType = OptionTypes.AMERICAN_CALL"
   ]
  },
  {
   "cell_type": "markdown",
   "metadata": {},
   "source": [
    "The compound option is a put on this call"
   ]
  },
  {
   "cell_type": "code",
   "execution_count": 4,
   "metadata": {
    "execution": {
     "iopub.execute_input": "2025-08-27T22:32:42.450493Z",
     "iopub.status.busy": "2025-08-27T22:32:42.450190Z",
     "iopub.status.idle": "2025-08-27T22:32:42.452874Z",
     "shell.execute_reply": "2025-08-27T22:32:42.452474Z"
    }
   },
   "outputs": [],
   "source": [
    "cExpiryDate = Date(1, 1, 2005)\n",
    "cStrikePrice = 5.0\n",
    "cOptionType = OptionTypes.EUROPEAN_PUT"
   ]
  },
  {
   "cell_type": "markdown",
   "metadata": {},
   "source": [
    "We create the compound option"
   ]
  },
  {
   "cell_type": "code",
   "execution_count": 5,
   "metadata": {
    "execution": {
     "iopub.execute_input": "2025-08-27T22:32:42.454884Z",
     "iopub.status.busy": "2025-08-27T22:32:42.454449Z",
     "iopub.status.idle": "2025-08-27T22:32:42.457323Z",
     "shell.execute_reply": "2025-08-27T22:32:42.456944Z"
    }
   },
   "outputs": [],
   "source": [
    "cmpdOption = EquityCompoundOption(cExpiryDate, cOptionType, cStrikePrice,\n",
    "                                     uExpiryDate, uOptionType, uStrikePrice)"
   ]
  },
  {
   "cell_type": "code",
   "execution_count": 6,
   "metadata": {
    "execution": {
     "iopub.execute_input": "2025-08-27T22:32:42.458931Z",
     "iopub.status.busy": "2025-08-27T22:32:42.458747Z",
     "iopub.status.idle": "2025-08-27T22:32:42.462330Z",
     "shell.execute_reply": "2025-08-27T22:32:42.461931Z"
    }
   },
   "outputs": [
    {
     "name": "stdout",
     "output_type": "stream",
     "text": [
      "OBJECT TYPE: EquityCompoundOption\n",
      "CPD EXPIRY DATE: 01-JAN-2005\n",
      "CPD STRIKE PRICE: 5.0\n",
      "CPD OPTION TYPE: OptionTypes.EUROPEAN_PUT\n",
      "UND EXPIRY DATE: 01-JAN-2006\n",
      "UND STRIKE PRICE: 130.0\n",
      "UND OPTION TYPE: OptionTypes.AMERICAN_CALL\n",
      "\n"
     ]
    }
   ],
   "source": [
    "print(cmpdOption)"
   ]
  },
  {
   "cell_type": "markdown",
   "metadata": {},
   "source": [
    "## Valuation"
   ]
  },
  {
   "cell_type": "code",
   "execution_count": 7,
   "metadata": {
    "execution": {
     "iopub.execute_input": "2025-08-27T22:32:42.464149Z",
     "iopub.status.busy": "2025-08-27T22:32:42.463966Z",
     "iopub.status.idle": "2025-08-27T22:32:42.466419Z",
     "shell.execute_reply": "2025-08-27T22:32:42.466042Z"
    }
   },
   "outputs": [],
   "source": [
    "value_dt = Date(1, 1, 2003)"
   ]
  },
  {
   "cell_type": "code",
   "execution_count": 8,
   "metadata": {
    "execution": {
     "iopub.execute_input": "2025-08-27T22:32:42.468376Z",
     "iopub.status.busy": "2025-08-27T22:32:42.468191Z",
     "iopub.status.idle": "2025-08-27T22:32:42.470293Z",
     "shell.execute_reply": "2025-08-27T22:32:42.469959Z"
    }
   },
   "outputs": [],
   "source": [
    "stock_price = 50.0\n",
    "volatility = 0.20"
   ]
  },
  {
   "cell_type": "code",
   "execution_count": 9,
   "metadata": {
    "execution": {
     "iopub.execute_input": "2025-08-27T22:32:42.472105Z",
     "iopub.status.busy": "2025-08-27T22:32:42.471913Z",
     "iopub.status.idle": "2025-08-27T22:32:42.480019Z",
     "shell.execute_reply": "2025-08-27T22:32:42.479636Z"
    }
   },
   "outputs": [],
   "source": [
    "interest_rate = 0.05\n",
    "discount_curve = DiscountCurveFlat(value_dt, interest_rate, FrequencyTypes.ANNUAL)"
   ]
  },
  {
   "cell_type": "code",
   "execution_count": 10,
   "metadata": {
    "execution": {
     "iopub.execute_input": "2025-08-27T22:32:42.482652Z",
     "iopub.status.busy": "2025-08-27T22:32:42.482383Z",
     "iopub.status.idle": "2025-08-27T22:32:42.485540Z",
     "shell.execute_reply": "2025-08-27T22:32:42.485117Z"
    }
   },
   "outputs": [],
   "source": [
    "dividend_yield = 0.03\n",
    "dividend_curve = DiscountCurveFlat(value_dt, dividend_yield)"
   ]
  },
  {
   "cell_type": "code",
   "execution_count": 11,
   "metadata": {
    "execution": {
     "iopub.execute_input": "2025-08-27T22:32:42.487671Z",
     "iopub.status.busy": "2025-08-27T22:32:42.487415Z",
     "iopub.status.idle": "2025-08-27T22:32:42.489692Z",
     "shell.execute_reply": "2025-08-27T22:32:42.489345Z"
    }
   },
   "outputs": [],
   "source": [
    "model = BlackScholes(volatility)"
   ]
  },
  {
   "cell_type": "code",
   "execution_count": 12,
   "metadata": {
    "execution": {
     "iopub.execute_input": "2025-08-27T22:32:42.491567Z",
     "iopub.status.busy": "2025-08-27T22:32:42.491387Z",
     "iopub.status.idle": "2025-08-27T22:32:43.778465Z",
     "shell.execute_reply": "2025-08-27T22:32:43.777976Z"
    }
   },
   "outputs": [
    {
     "data": {
      "text/plain": [
       "np.float64(4.511907150641089)"
      ]
     },
     "execution_count": 12,
     "metadata": {},
     "output_type": "execute_result"
    }
   ],
   "source": [
    "cmpdOption.value(value_dt, stock_price, discount_curve, dividend_curve, model, 1000)"
   ]
  },
  {
   "cell_type": "markdown",
   "metadata": {},
   "source": [
    "ML finds 2.8482. However it is not possible to reconcile with ML as they do not provide full details on the CRR tree."
   ]
  },
  {
   "cell_type": "markdown",
   "metadata": {},
   "source": [
    "Copyright (c) 2020 Dominic O'Kane"
   ]
  }
 ],
 "metadata": {
  "kernelspec": {
   "display_name": "base",
   "language": "python",
   "name": "python3"
  },
  "language_info": {
   "codemirror_mode": {
    "name": "ipython",
    "version": 3
   },
   "file_extension": ".py",
   "mimetype": "text/x-python",
   "name": "python",
   "nbconvert_exporter": "python",
   "pygments_lexer": "ipython3",
   "version": "3.13.5"
  }
 },
 "nbformat": 4,
 "nbformat_minor": 2
}
