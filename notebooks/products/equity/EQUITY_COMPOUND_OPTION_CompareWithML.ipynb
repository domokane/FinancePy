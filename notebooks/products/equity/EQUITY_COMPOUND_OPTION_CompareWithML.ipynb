{
 "cells": [
  {
   "cell_type": "markdown",
   "metadata": {},
   "source": [
    "# EQUITY COMPOUND OPTIONS - VALUATION AND RISK ANALYSIS"
   ]
  },
  {
   "cell_type": "markdown",
   "metadata": {},
   "source": [
    "Valuation and Risk of an Option on an Option following example in https://fr.mathworks.com/help/fininst/compoundbycrr.html"
   ]
  },
  {
   "cell_type": "code",
   "execution_count": 1,
   "metadata": {
    "execution": {
     "iopub.execute_input": "2025-09-14T22:22:42.898141Z",
     "iopub.status.busy": "2025-09-14T22:22:42.897705Z",
     "iopub.status.idle": "2025-09-14T22:22:43.116623Z",
     "shell.execute_reply": "2025-09-14T22:22:43.116078Z"
    }
   },
   "outputs": [],
   "source": [
    "import numpy as np\n",
    "import matplotlib.pyplot as plt"
   ]
  },
  {
   "cell_type": "code",
   "execution_count": 2,
   "metadata": {
    "execution": {
     "iopub.execute_input": "2025-09-14T22:22:43.118318Z",
     "iopub.status.busy": "2025-09-14T22:22:43.118130Z",
     "iopub.status.idle": "2025-09-14T22:22:45.083629Z",
     "shell.execute_reply": "2025-09-14T22:22:45.083239Z"
    }
   },
   "outputs": [],
   "source": [
    "from financepy.utils import *\n",
    "from financepy.market.curves import *\n",
    "from financepy.products.equity import *"
   ]
  },
  {
   "cell_type": "markdown",
   "metadata": {},
   "source": [
    "# Compound Option"
   ]
  },
  {
   "cell_type": "markdown",
   "metadata": {},
   "source": [
    "The underlying option is a call"
   ]
  },
  {
   "cell_type": "code",
   "execution_count": 3,
   "metadata": {
    "execution": {
     "iopub.execute_input": "2025-09-14T22:22:45.085312Z",
     "iopub.status.busy": "2025-09-14T22:22:45.085094Z",
     "iopub.status.idle": "2025-09-14T22:22:45.101543Z",
     "shell.execute_reply": "2025-09-14T22:22:45.101232Z"
    }
   },
   "outputs": [],
   "source": [
    "uExpiryDate = Date(1, 1, 2006)\n",
    "uStrikePrice = 130.0\n",
    "uOptionType = OptionTypes.AMERICAN_CALL"
   ]
  },
  {
   "cell_type": "markdown",
   "metadata": {},
   "source": [
    "The compound option is a put on this call"
   ]
  },
  {
   "cell_type": "code",
   "execution_count": 4,
   "metadata": {
    "execution": {
     "iopub.execute_input": "2025-09-14T22:22:45.103233Z",
     "iopub.status.busy": "2025-09-14T22:22:45.103102Z",
     "iopub.status.idle": "2025-09-14T22:22:45.105612Z",
     "shell.execute_reply": "2025-09-14T22:22:45.105290Z"
    }
   },
   "outputs": [],
   "source": [
    "cExpiryDate = Date(1, 1, 2005)\n",
    "cStrikePrice = 5.0\n",
    "cOptionType = OptionTypes.EUROPEAN_PUT"
   ]
  },
  {
   "cell_type": "markdown",
   "metadata": {},
   "source": [
    "We create the compound option"
   ]
  },
  {
   "cell_type": "code",
   "execution_count": 5,
   "metadata": {
    "execution": {
     "iopub.execute_input": "2025-09-14T22:22:45.106721Z",
     "iopub.status.busy": "2025-09-14T22:22:45.106608Z",
     "iopub.status.idle": "2025-09-14T22:22:45.109101Z",
     "shell.execute_reply": "2025-09-14T22:22:45.108811Z"
    }
   },
   "outputs": [],
   "source": [
    "cmpdOption = EquityCompoundOption(cExpiryDate, cOptionType, cStrikePrice,\n",
    "                                     uExpiryDate, uOptionType, uStrikePrice)"
   ]
  },
  {
   "cell_type": "code",
   "execution_count": 6,
   "metadata": {
    "execution": {
     "iopub.execute_input": "2025-09-14T22:22:45.110093Z",
     "iopub.status.busy": "2025-09-14T22:22:45.109985Z",
     "iopub.status.idle": "2025-09-14T22:22:45.113338Z",
     "shell.execute_reply": "2025-09-14T22:22:45.113103Z"
    }
   },
   "outputs": [
    {
     "name": "stdout",
     "output_type": "stream",
     "text": [
      "OBJECT TYPE: EquityCompoundOption\n",
      "CPD EXPIRY DATE: 01-JAN-2005\n",
      "CPD STRIKE PRICE: 5.0\n",
      "CPD OPTION TYPE: OptionTypes.EUROPEAN_PUT\n",
      "UND EXPIRY DATE: 01-JAN-2006\n",
      "UND STRIKE PRICE: 130.0\n",
      "UND OPTION TYPE: OptionTypes.AMERICAN_CALL\n",
      "\n"
     ]
    }
   ],
   "source": [
    "print(cmpdOption)"
   ]
  },
  {
   "cell_type": "markdown",
   "metadata": {},
   "source": [
    "## Valuation"
   ]
  },
  {
   "cell_type": "code",
   "execution_count": 7,
   "metadata": {
    "execution": {
     "iopub.execute_input": "2025-09-14T22:22:45.114329Z",
     "iopub.status.busy": "2025-09-14T22:22:45.114215Z",
     "iopub.status.idle": "2025-09-14T22:22:45.116632Z",
     "shell.execute_reply": "2025-09-14T22:22:45.116309Z"
    }
   },
   "outputs": [],
   "source": [
    "value_dt = Date(1, 1, 2003)"
   ]
  },
  {
   "cell_type": "code",
   "execution_count": 8,
   "metadata": {
    "execution": {
     "iopub.execute_input": "2025-09-14T22:22:45.117680Z",
     "iopub.status.busy": "2025-09-14T22:22:45.117570Z",
     "iopub.status.idle": "2025-09-14T22:22:45.119533Z",
     "shell.execute_reply": "2025-09-14T22:22:45.119206Z"
    }
   },
   "outputs": [],
   "source": [
    "stock_price = 50.0\n",
    "volatility = 0.20"
   ]
  },
  {
   "cell_type": "code",
   "execution_count": 9,
   "metadata": {
    "execution": {
     "iopub.execute_input": "2025-09-14T22:22:45.121264Z",
     "iopub.status.busy": "2025-09-14T22:22:45.120944Z",
     "iopub.status.idle": "2025-09-14T22:22:45.130655Z",
     "shell.execute_reply": "2025-09-14T22:22:45.130163Z"
    }
   },
   "outputs": [],
   "source": [
    "interest_rate = 0.05\n",
    "discount_curve = DiscountCurveFlat(value_dt, interest_rate, FrequencyTypes.ANNUAL)"
   ]
  },
  {
   "cell_type": "code",
   "execution_count": 10,
   "metadata": {
    "execution": {
     "iopub.execute_input": "2025-09-14T22:22:45.131672Z",
     "iopub.status.busy": "2025-09-14T22:22:45.131557Z",
     "iopub.status.idle": "2025-09-14T22:22:45.134320Z",
     "shell.execute_reply": "2025-09-14T22:22:45.134151Z"
    }
   },
   "outputs": [],
   "source": [
    "dividend_yield = 0.03\n",
    "dividend_curve = DiscountCurveFlat(value_dt, dividend_yield)"
   ]
  },
  {
   "cell_type": "code",
   "execution_count": 11,
   "metadata": {
    "execution": {
     "iopub.execute_input": "2025-09-14T22:22:45.135351Z",
     "iopub.status.busy": "2025-09-14T22:22:45.135230Z",
     "iopub.status.idle": "2025-09-14T22:22:45.137174Z",
     "shell.execute_reply": "2025-09-14T22:22:45.136864Z"
    }
   },
   "outputs": [],
   "source": [
    "model = BlackScholes(volatility)"
   ]
  },
  {
   "cell_type": "code",
   "execution_count": 12,
   "metadata": {
    "execution": {
     "iopub.execute_input": "2025-09-14T22:22:45.138106Z",
     "iopub.status.busy": "2025-09-14T22:22:45.137998Z",
     "iopub.status.idle": "2025-09-14T22:22:45.156628Z",
     "shell.execute_reply": "2025-09-14T22:22:45.156370Z"
    }
   },
   "outputs": [
    {
     "data": {
      "text/plain": [
       "np.float64(4.505358881179581)"
      ]
     },
     "execution_count": 12,
     "metadata": {},
     "output_type": "execute_result"
    }
   ],
   "source": [
    "cmpdOption.value(value_dt, stock_price, discount_curve, dividend_curve, model, 1000)"
   ]
  },
  {
   "cell_type": "markdown",
   "metadata": {},
   "source": [
    "ML finds 2.8482. However it is not possible to reconcile with ML as they do not provide full details on the CRR tree."
   ]
  },
  {
   "cell_type": "markdown",
   "metadata": {},
   "source": [
    "Copyright (c) 2020 Dominic O'Kane"
   ]
  }
 ],
 "metadata": {
  "kernelspec": {
   "display_name": "base",
   "language": "python",
   "name": "python3"
  },
  "language_info": {
   "codemirror_mode": {
    "name": "ipython",
    "version": 3
   },
   "file_extension": ".py",
   "mimetype": "text/x-python",
   "name": "python",
   "nbconvert_exporter": "python",
   "pygments_lexer": "ipython3",
   "version": "3.13.7"
  }
 },
 "nbformat": 4,
 "nbformat_minor": 2
}
