{
 "cells": [
  {
   "cell_type": "markdown",
   "metadata": {},
   "source": [
    "# EQUITY DIGITAL OPTION CASH-OR-NOTHING OPTION"
   ]
  },
  {
   "cell_type": "markdown",
   "metadata": {},
   "source": [
    "Valuation and Risk of Equity Digital Options"
   ]
  },
  {
   "cell_type": "code",
   "execution_count": 1,
   "metadata": {
    "execution": {
     "iopub.execute_input": "2025-09-14T22:22:50.479524Z",
     "iopub.status.busy": "2025-09-14T22:22:50.479386Z",
     "iopub.status.idle": "2025-09-14T22:22:50.700245Z",
     "shell.execute_reply": "2025-09-14T22:22:50.699441Z"
    }
   },
   "outputs": [],
   "source": [
    "import numpy as np\n",
    "import matplotlib.pyplot as plt"
   ]
  },
  {
   "cell_type": "code",
   "execution_count": 2,
   "metadata": {
    "execution": {
     "iopub.execute_input": "2025-09-14T22:22:50.701886Z",
     "iopub.status.busy": "2025-09-14T22:22:50.701713Z",
     "iopub.status.idle": "2025-09-14T22:22:52.725267Z",
     "shell.execute_reply": "2025-09-14T22:22:52.724897Z"
    }
   },
   "outputs": [],
   "source": [
    "from financepy.utils import *\n",
    "from financepy.market.curves import *\n",
    "from financepy.products.equity import *"
   ]
  },
  {
   "cell_type": "markdown",
   "metadata": {},
   "source": [
    "# Cash-or-Nothing Digital Option"
   ]
  },
  {
   "cell_type": "markdown",
   "metadata": {},
   "source": [
    "I define a digital call and a digital put option."
   ]
  },
  {
   "cell_type": "code",
   "execution_count": 3,
   "metadata": {
    "execution": {
     "iopub.execute_input": "2025-09-14T22:22:52.726968Z",
     "iopub.status.busy": "2025-09-14T22:22:52.726745Z",
     "iopub.status.idle": "2025-09-14T22:22:52.729054Z",
     "shell.execute_reply": "2025-09-14T22:22:52.728690Z"
    }
   },
   "outputs": [],
   "source": [
    "underlying_type = FinDigitalOptionTypes.CASH_OR_NOTHING"
   ]
  },
  {
   "cell_type": "code",
   "execution_count": 4,
   "metadata": {
    "execution": {
     "iopub.execute_input": "2025-09-14T22:22:52.730098Z",
     "iopub.status.busy": "2025-09-14T22:22:52.729978Z",
     "iopub.status.idle": "2025-09-14T22:22:52.747277Z",
     "shell.execute_reply": "2025-09-14T22:22:52.746632Z"
    }
   },
   "outputs": [],
   "source": [
    "expiry_dt = Date(1, 10, 2008)"
   ]
  },
  {
   "cell_type": "code",
   "execution_count": 5,
   "metadata": {
    "execution": {
     "iopub.execute_input": "2025-09-14T22:22:52.749057Z",
     "iopub.status.busy": "2025-09-14T22:22:52.748715Z",
     "iopub.status.idle": "2025-09-14T22:22:52.751012Z",
     "shell.execute_reply": "2025-09-14T22:22:52.750716Z"
    }
   },
   "outputs": [],
   "source": [
    "strike_price = 90.0"
   ]
  },
  {
   "cell_type": "code",
   "execution_count": 6,
   "metadata": {
    "execution": {
     "iopub.execute_input": "2025-09-14T22:22:52.752081Z",
     "iopub.status.busy": "2025-09-14T22:22:52.751968Z",
     "iopub.status.idle": "2025-09-14T22:22:52.754302Z",
     "shell.execute_reply": "2025-09-14T22:22:52.753627Z"
    }
   },
   "outputs": [],
   "source": [
    "digitalCall = EquityDigitalOption(expiry_dt, strike_price, OptionTypes.EUROPEAN_CALL, underlying_type)"
   ]
  },
  {
   "cell_type": "code",
   "execution_count": 7,
   "metadata": {
    "execution": {
     "iopub.execute_input": "2025-09-14T22:22:52.755935Z",
     "iopub.status.busy": "2025-09-14T22:22:52.755762Z",
     "iopub.status.idle": "2025-09-14T22:22:52.757677Z",
     "shell.execute_reply": "2025-09-14T22:22:52.757459Z"
    }
   },
   "outputs": [],
   "source": [
    "digitalPut = EquityDigitalOption(expiry_dt, strike_price, OptionTypes.EUROPEAN_PUT, underlying_type)"
   ]
  },
  {
   "cell_type": "code",
   "execution_count": 8,
   "metadata": {
    "execution": {
     "iopub.execute_input": "2025-09-14T22:22:52.758662Z",
     "iopub.status.busy": "2025-09-14T22:22:52.758552Z",
     "iopub.status.idle": "2025-09-14T22:22:52.761707Z",
     "shell.execute_reply": "2025-09-14T22:22:52.761420Z"
    }
   },
   "outputs": [
    {
     "name": "stdout",
     "output_type": "stream",
     "text": [
      "OBJECT TYPE: EquityDigitalOption\n",
      "EXPIRY DATE: 01-OCT-2008\n",
      "BARRIER LEVEL: 90.0\n",
      "CALL-PUT TYPE: OptionTypes.EUROPEAN_CALL\n",
      "DIGITAL TYPE: FinDigitalOptionTypes.CASH_OR_NOTHING\n"
     ]
    }
   ],
   "source": [
    "print(digitalCall)"
   ]
  },
  {
   "cell_type": "code",
   "execution_count": 9,
   "metadata": {
    "execution": {
     "iopub.execute_input": "2025-09-14T22:22:52.762612Z",
     "iopub.status.busy": "2025-09-14T22:22:52.762495Z",
     "iopub.status.idle": "2025-09-14T22:22:52.765011Z",
     "shell.execute_reply": "2025-09-14T22:22:52.764399Z"
    }
   },
   "outputs": [
    {
     "name": "stdout",
     "output_type": "stream",
     "text": [
      "OBJECT TYPE: EquityDigitalOption\n",
      "EXPIRY DATE: 01-OCT-2008\n",
      "BARRIER LEVEL: 90.0\n",
      "CALL-PUT TYPE: OptionTypes.EUROPEAN_PUT\n",
      "DIGITAL TYPE: FinDigitalOptionTypes.CASH_OR_NOTHING\n"
     ]
    }
   ],
   "source": [
    "print(digitalPut)"
   ]
  },
  {
   "cell_type": "markdown",
   "metadata": {},
   "source": [
    "## Valuation"
   ]
  },
  {
   "cell_type": "code",
   "execution_count": 10,
   "metadata": {
    "execution": {
     "iopub.execute_input": "2025-09-14T22:22:52.766105Z",
     "iopub.status.busy": "2025-09-14T22:22:52.765992Z",
     "iopub.status.idle": "2025-09-14T22:22:52.767783Z",
     "shell.execute_reply": "2025-09-14T22:22:52.767564Z"
    }
   },
   "outputs": [],
   "source": [
    "value_dt = Date(1, 1, 2008)"
   ]
  },
  {
   "cell_type": "code",
   "execution_count": 11,
   "metadata": {
    "execution": {
     "iopub.execute_input": "2025-09-14T22:22:52.768774Z",
     "iopub.status.busy": "2025-09-14T22:22:52.768659Z",
     "iopub.status.idle": "2025-09-14T22:22:52.770893Z",
     "shell.execute_reply": "2025-09-14T22:22:52.770580Z"
    }
   },
   "outputs": [],
   "source": [
    "interest_rate = 0.045"
   ]
  },
  {
   "cell_type": "code",
   "execution_count": 12,
   "metadata": {
    "execution": {
     "iopub.execute_input": "2025-09-14T22:22:52.771860Z",
     "iopub.status.busy": "2025-09-14T22:22:52.771748Z",
     "iopub.status.idle": "2025-09-14T22:22:52.781372Z",
     "shell.execute_reply": "2025-09-14T22:22:52.780914Z"
    }
   },
   "outputs": [],
   "source": [
    "discount_curve = DiscountCurveFlat(value_dt, interest_rate)"
   ]
  },
  {
   "cell_type": "code",
   "execution_count": 13,
   "metadata": {
    "execution": {
     "iopub.execute_input": "2025-09-14T22:22:52.783133Z",
     "iopub.status.busy": "2025-09-14T22:22:52.782995Z",
     "iopub.status.idle": "2025-09-14T22:22:52.785186Z",
     "shell.execute_reply": "2025-09-14T22:22:52.784884Z"
    }
   },
   "outputs": [],
   "source": [
    "volatility = 0.25"
   ]
  },
  {
   "cell_type": "code",
   "execution_count": 14,
   "metadata": {
    "execution": {
     "iopub.execute_input": "2025-09-14T22:22:52.786162Z",
     "iopub.status.busy": "2025-09-14T22:22:52.786053Z",
     "iopub.status.idle": "2025-09-14T22:22:52.787965Z",
     "shell.execute_reply": "2025-09-14T22:22:52.787697Z"
    }
   },
   "outputs": [],
   "source": [
    "model = BlackScholes(volatility)"
   ]
  },
  {
   "cell_type": "code",
   "execution_count": 15,
   "metadata": {
    "execution": {
     "iopub.execute_input": "2025-09-14T22:22:52.788858Z",
     "iopub.status.busy": "2025-09-14T22:22:52.788750Z",
     "iopub.status.idle": "2025-09-14T22:22:52.791009Z",
     "shell.execute_reply": "2025-09-14T22:22:52.790702Z"
    }
   },
   "outputs": [],
   "source": [
    "stock_price = 110.0\n",
    "dividend_yield = 0.045"
   ]
  },
  {
   "cell_type": "code",
   "execution_count": 16,
   "metadata": {
    "execution": {
     "iopub.execute_input": "2025-09-14T22:22:52.791973Z",
     "iopub.status.busy": "2025-09-14T22:22:52.791867Z",
     "iopub.status.idle": "2025-09-14T22:22:52.794023Z",
     "shell.execute_reply": "2025-09-14T22:22:52.793772Z"
    }
   },
   "outputs": [],
   "source": [
    "dividend_curve = DiscountCurveFlat(value_dt, dividend_yield)"
   ]
  },
  {
   "cell_type": "code",
   "execution_count": 17,
   "metadata": {
    "execution": {
     "iopub.execute_input": "2025-09-14T22:22:52.794976Z",
     "iopub.status.busy": "2025-09-14T22:22:52.794871Z",
     "iopub.status.idle": "2025-09-14T22:22:52.800528Z",
     "shell.execute_reply": "2025-09-14T22:22:52.800214Z"
    }
   },
   "outputs": [
    {
     "data": {
      "text/plain": [
       "np.float64(0.76707743371463)"
      ]
     },
     "execution_count": 17,
     "metadata": {},
     "output_type": "execute_result"
    }
   ],
   "source": [
    "digitalCall.value(value_dt, stock_price, discount_curve, dividend_curve, model)"
   ]
  },
  {
   "cell_type": "code",
   "execution_count": 18,
   "metadata": {
    "execution": {
     "iopub.execute_input": "2025-09-14T22:22:52.801684Z",
     "iopub.status.busy": "2025-09-14T22:22:52.801572Z",
     "iopub.status.idle": "2025-09-14T22:22:52.804751Z",
     "shell.execute_reply": "2025-09-14T22:22:52.804462Z"
    }
   },
   "outputs": [
    {
     "data": {
      "text/plain": [
       "np.float64(0.19979518107018837)"
      ]
     },
     "execution_count": 18,
     "metadata": {},
     "output_type": "execute_result"
    }
   ],
   "source": [
    "digitalPut.value(value_dt, stock_price, discount_curve, dividend_curve, model)"
   ]
  },
  {
   "cell_type": "markdown",
   "metadata": {},
   "source": [
    "## Check Monte-Carlo"
   ]
  },
  {
   "cell_type": "code",
   "execution_count": 19,
   "metadata": {
    "execution": {
     "iopub.execute_input": "2025-09-14T22:22:52.806228Z",
     "iopub.status.busy": "2025-09-14T22:22:52.805942Z",
     "iopub.status.idle": "2025-09-14T22:22:52.809001Z",
     "shell.execute_reply": "2025-09-14T22:22:52.808743Z"
    }
   },
   "outputs": [
    {
     "data": {
      "text/plain": [
       "np.float64(0.7696789449994546)"
      ]
     },
     "execution_count": 19,
     "metadata": {},
     "output_type": "execute_result"
    }
   ],
   "source": [
    "digitalCall.value_mc(value_dt, stock_price, discount_curve, dividend_curve, model)"
   ]
  },
  {
   "cell_type": "code",
   "execution_count": 20,
   "metadata": {
    "execution": {
     "iopub.execute_input": "2025-09-14T22:22:52.809937Z",
     "iopub.status.busy": "2025-09-14T22:22:52.809776Z",
     "iopub.status.idle": "2025-09-14T22:22:52.812484Z",
     "shell.execute_reply": "2025-09-14T22:22:52.812218Z"
    }
   },
   "outputs": [
    {
     "data": {
      "text/plain": [
       "np.float64(0.1971936697853637)"
      ]
     },
     "execution_count": 20,
     "metadata": {},
     "output_type": "execute_result"
    }
   ],
   "source": [
    "digitalPut.value_mc(value_dt, stock_price, discount_curve, dividend_curve, model)"
   ]
  },
  {
   "cell_type": "markdown",
   "metadata": {},
   "source": [
    "## Vectorisations"
   ]
  },
  {
   "cell_type": "code",
   "execution_count": 21,
   "metadata": {
    "execution": {
     "iopub.execute_input": "2025-09-14T22:22:52.814566Z",
     "iopub.status.busy": "2025-09-14T22:22:52.814439Z",
     "iopub.status.idle": "2025-09-14T22:22:52.863381Z",
     "shell.execute_reply": "2025-09-14T22:22:52.863033Z"
    }
   },
   "outputs": [
    {
     "data": {
      "image/png": "[encoded data removed]",
      "text/plain": [
       "<Figure size 640x480 with 1 Axes>"
      ]
     },
     "metadata": {},
     "output_type": "display_data"
    }
   ],
   "source": [
    "stock_prices = np.linspace(50,150,100)\n",
    "v = digitalCall.value(value_dt, stock_prices, discount_curve, dividend_curve, model)\n",
    "plt.plot(stock_prices, v);"
   ]
  },
  {
   "cell_type": "markdown",
   "metadata": {},
   "source": [
    "We can vectorise two things at the same time as long as they have the same length"
   ]
  },
  {
   "cell_type": "markdown",
   "metadata": {},
   "source": [
    "## Risk Analysis"
   ]
  },
  {
   "cell_type": "markdown",
   "metadata": {},
   "source": [
    "The analytical model produced the following sensitivities"
   ]
  },
  {
   "cell_type": "code",
   "execution_count": 22,
   "metadata": {
    "execution": {
     "iopub.execute_input": "2025-09-14T22:22:52.865776Z",
     "iopub.status.busy": "2025-09-14T22:22:52.865305Z",
     "iopub.status.idle": "2025-09-14T22:22:52.869546Z",
     "shell.execute_reply": "2025-09-14T22:22:52.869273Z"
    }
   },
   "outputs": [
    {
     "data": {
      "text/plain": [
       "np.float64(0.011584328476477168)"
      ]
     },
     "execution_count": 22,
     "metadata": {},
     "output_type": "execute_result"
    }
   ],
   "source": [
    "digitalCall.delta(value_dt, stock_price, discount_curve, dividend_curve, model)"
   ]
  },
  {
   "cell_type": "code",
   "execution_count": 23,
   "metadata": {
    "execution": {
     "iopub.execute_input": "2025-09-14T22:22:52.871812Z",
     "iopub.status.busy": "2025-09-14T22:22:52.871687Z",
     "iopub.status.idle": "2025-09-14T22:22:52.875625Z",
     "shell.execute_reply": "2025-09-14T22:22:52.875307Z"
    }
   },
   "outputs": [
    {
     "data": {
      "text/plain": [
       "np.float64(-0.0005031197680693822)"
      ]
     },
     "execution_count": 23,
     "metadata": {},
     "output_type": "execute_result"
    }
   ],
   "source": [
    "digitalCall.gamma(value_dt, stock_price, discount_curve, dividend_curve, model)"
   ]
  },
  {
   "cell_type": "code",
   "execution_count": 24,
   "metadata": {
    "execution": {
     "iopub.execute_input": "2025-09-14T22:22:52.876861Z",
     "iopub.status.busy": "2025-09-14T22:22:52.876741Z",
     "iopub.status.idle": "2025-09-14T22:22:52.879207Z",
     "shell.execute_reply": "2025-09-14T22:22:52.878913Z"
    }
   },
   "outputs": [
    {
     "data": {
      "text/plain": [
       "np.float64(0.22501650587903932)"
      ]
     },
     "execution_count": 24,
     "metadata": {},
     "output_type": "execute_result"
    }
   ],
   "source": [
    "digitalCall.theta(value_dt, stock_price, discount_curve, dividend_curve, model)"
   ]
  },
  {
   "cell_type": "code",
   "execution_count": 25,
   "metadata": {
    "execution": {
     "iopub.execute_input": "2025-09-14T22:22:52.880253Z",
     "iopub.status.busy": "2025-09-14T22:22:52.880134Z",
     "iopub.status.idle": "2025-09-14T22:22:52.883158Z",
     "shell.execute_reply": "2025-09-14T22:22:52.882917Z"
    }
   },
   "outputs": [
    {
     "data": {
      "text/plain": [
       "np.float64(-0.011210049840873149)"
      ]
     },
     "execution_count": 25,
     "metadata": {},
     "output_type": "execute_result"
    }
   ],
   "source": [
    "digitalCall.vega(value_dt, stock_price, discount_curve, dividend_curve, model)"
   ]
  },
  {
   "cell_type": "code",
   "execution_count": 26,
   "metadata": {
    "execution": {
     "iopub.execute_input": "2025-09-14T22:22:52.884168Z",
     "iopub.status.busy": "2025-09-14T22:22:52.884046Z",
     "iopub.status.idle": "2025-09-14T22:22:52.887284Z",
     "shell.execute_reply": "2025-09-14T22:22:52.887075Z"
    }
   },
   "outputs": [
    {
     "data": {
      "text/plain": [
       "np.float64(0.37952340999347633)"
      ]
     },
     "execution_count": 26,
     "metadata": {},
     "output_type": "execute_result"
    }
   ],
   "source": [
    "digitalCall.rho(value_dt, stock_price, discount_curve, dividend_curve, model)"
   ]
  },
  {
   "cell_type": "markdown",
   "metadata": {},
   "source": [
    "Copyright (c) 2020 Dominic O'Kane"
   ]
  }
 ],
 "metadata": {
  "kernelspec": {
   "display_name": "base",
   "language": "python",
   "name": "python3"
  },
  "language_info": {
   "codemirror_mode": {
    "name": "ipython",
    "version": 3
   },
   "file_extension": ".py",
   "mimetype": "text/x-python",
   "name": "python",
   "nbconvert_exporter": "python",
   "pygments_lexer": "ipython3",
   "version": "3.13.7"
  }
 },
 "nbformat": 4,
 "nbformat_minor": 2
}
