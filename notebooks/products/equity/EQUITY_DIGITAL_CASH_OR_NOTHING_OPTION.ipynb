{
 "cells": [
  {
   "cell_type": "markdown",
   "metadata": {},
   "source": [
    "# EQUITY DIGITAL OPTION CASH-OR-NOTHING OPTION"
   ]
  },
  {
   "cell_type": "markdown",
   "metadata": {},
   "source": [
    "Valuation and Risk of Equity Digital Options"
   ]
  },
  {
   "cell_type": "code",
   "execution_count": 1,
   "metadata": {
    "execution": {
     "iopub.execute_input": "2025-08-27T22:32:51.271135Z",
     "iopub.status.busy": "2025-08-27T22:32:51.270875Z",
     "iopub.status.idle": "2025-08-27T22:32:51.717004Z",
     "shell.execute_reply": "2025-08-27T22:32:51.716597Z"
    }
   },
   "outputs": [],
   "source": [
    "import numpy as np\n",
    "import matplotlib.pyplot as plt"
   ]
  },
  {
   "cell_type": "code",
   "execution_count": 2,
   "metadata": {
    "execution": {
     "iopub.execute_input": "2025-08-27T22:32:51.719854Z",
     "iopub.status.busy": "2025-08-27T22:32:51.719401Z",
     "iopub.status.idle": "2025-08-27T22:32:54.467110Z",
     "shell.execute_reply": "2025-08-27T22:32:54.466651Z"
    }
   },
   "outputs": [],
   "source": [
    "from financepy.utils import *\n",
    "from financepy.market.curves import *\n",
    "from financepy.products.equity import *"
   ]
  },
  {
   "cell_type": "markdown",
   "metadata": {},
   "source": [
    "# Cash-or-Nothing Digital Option"
   ]
  },
  {
   "cell_type": "markdown",
   "metadata": {},
   "source": [
    "I define a digital call and a digital put option."
   ]
  },
  {
   "cell_type": "code",
   "execution_count": 3,
   "metadata": {
    "execution": {
     "iopub.execute_input": "2025-08-27T22:32:54.469626Z",
     "iopub.status.busy": "2025-08-27T22:32:54.469289Z",
     "iopub.status.idle": "2025-08-27T22:32:54.472271Z",
     "shell.execute_reply": "2025-08-27T22:32:54.471899Z"
    }
   },
   "outputs": [],
   "source": [
    "underlying_type = FinDigitalOptionTypes.CASH_OR_NOTHING"
   ]
  },
  {
   "cell_type": "code",
   "execution_count": 4,
   "metadata": {
    "execution": {
     "iopub.execute_input": "2025-08-27T22:32:54.474041Z",
     "iopub.status.busy": "2025-08-27T22:32:54.473752Z",
     "iopub.status.idle": "2025-08-27T22:32:54.491981Z",
     "shell.execute_reply": "2025-08-27T22:32:54.491392Z"
    }
   },
   "outputs": [],
   "source": [
    "expiry_dt = Date(1, 10, 2008)"
   ]
  },
  {
   "cell_type": "code",
   "execution_count": 5,
   "metadata": {
    "execution": {
     "iopub.execute_input": "2025-08-27T22:32:54.494299Z",
     "iopub.status.busy": "2025-08-27T22:32:54.494058Z",
     "iopub.status.idle": "2025-08-27T22:32:54.496813Z",
     "shell.execute_reply": "2025-08-27T22:32:54.496389Z"
    }
   },
   "outputs": [],
   "source": [
    "strike_price = 90.0"
   ]
  },
  {
   "cell_type": "code",
   "execution_count": 6,
   "metadata": {
    "execution": {
     "iopub.execute_input": "2025-08-27T22:32:54.498913Z",
     "iopub.status.busy": "2025-08-27T22:32:54.498656Z",
     "iopub.status.idle": "2025-08-27T22:32:54.501414Z",
     "shell.execute_reply": "2025-08-27T22:32:54.501063Z"
    }
   },
   "outputs": [],
   "source": [
    "digitalCall = EquityDigitalOption(expiry_dt, strike_price, OptionTypes.EUROPEAN_CALL, underlying_type)"
   ]
  },
  {
   "cell_type": "code",
   "execution_count": 7,
   "metadata": {
    "execution": {
     "iopub.execute_input": "2025-08-27T22:32:54.503107Z",
     "iopub.status.busy": "2025-08-27T22:32:54.502778Z",
     "iopub.status.idle": "2025-08-27T22:32:54.505059Z",
     "shell.execute_reply": "2025-08-27T22:32:54.504722Z"
    }
   },
   "outputs": [],
   "source": [
    "digitalPut = EquityDigitalOption(expiry_dt, strike_price, OptionTypes.EUROPEAN_PUT, underlying_type)"
   ]
  },
  {
   "cell_type": "code",
   "execution_count": 8,
   "metadata": {
    "execution": {
     "iopub.execute_input": "2025-08-27T22:32:54.506848Z",
     "iopub.status.busy": "2025-08-27T22:32:54.506599Z",
     "iopub.status.idle": "2025-08-27T22:32:54.510644Z",
     "shell.execute_reply": "2025-08-27T22:32:54.510273Z"
    }
   },
   "outputs": [
    {
     "name": "stdout",
     "output_type": "stream",
     "text": [
      "OBJECT TYPE: EquityDigitalOption\n",
      "EXPIRY DATE: 01-OCT-2008\n",
      "BARRIER LEVEL: 90.0\n",
      "CALL-PUT TYPE: OptionTypes.EUROPEAN_CALL\n",
      "DIGITAL TYPE: FinDigitalOptionTypes.CASH_OR_NOTHING\n"
     ]
    }
   ],
   "source": [
    "print(digitalCall)"
   ]
  },
  {
   "cell_type": "code",
   "execution_count": 9,
   "metadata": {
    "execution": {
     "iopub.execute_input": "2025-08-27T22:32:54.512317Z",
     "iopub.status.busy": "2025-08-27T22:32:54.512121Z",
     "iopub.status.idle": "2025-08-27T22:32:54.514732Z",
     "shell.execute_reply": "2025-08-27T22:32:54.514338Z"
    }
   },
   "outputs": [
    {
     "name": "stdout",
     "output_type": "stream",
     "text": [
      "OBJECT TYPE: EquityDigitalOption\n",
      "EXPIRY DATE: 01-OCT-2008\n",
      "BARRIER LEVEL: 90.0\n",
      "CALL-PUT TYPE: OptionTypes.EUROPEAN_PUT\n",
      "DIGITAL TYPE: FinDigitalOptionTypes.CASH_OR_NOTHING\n"
     ]
    }
   ],
   "source": [
    "print(digitalPut)"
   ]
  },
  {
   "cell_type": "markdown",
   "metadata": {},
   "source": [
    "## Valuation"
   ]
  },
  {
   "cell_type": "code",
   "execution_count": 10,
   "metadata": {
    "execution": {
     "iopub.execute_input": "2025-08-27T22:32:54.516673Z",
     "iopub.status.busy": "2025-08-27T22:32:54.516399Z",
     "iopub.status.idle": "2025-08-27T22:32:54.518963Z",
     "shell.execute_reply": "2025-08-27T22:32:54.518563Z"
    }
   },
   "outputs": [],
   "source": [
    "value_dt = Date(1, 1, 2008)"
   ]
  },
  {
   "cell_type": "code",
   "execution_count": 11,
   "metadata": {
    "execution": {
     "iopub.execute_input": "2025-08-27T22:32:54.520928Z",
     "iopub.status.busy": "2025-08-27T22:32:54.520588Z",
     "iopub.status.idle": "2025-08-27T22:32:54.523090Z",
     "shell.execute_reply": "2025-08-27T22:32:54.522717Z"
    }
   },
   "outputs": [],
   "source": [
    "interest_rate = 0.045"
   ]
  },
  {
   "cell_type": "code",
   "execution_count": 12,
   "metadata": {
    "execution": {
     "iopub.execute_input": "2025-08-27T22:32:54.525204Z",
     "iopub.status.busy": "2025-08-27T22:32:54.524782Z",
     "iopub.status.idle": "2025-08-27T22:32:54.533640Z",
     "shell.execute_reply": "2025-08-27T22:32:54.533139Z"
    }
   },
   "outputs": [],
   "source": [
    "discount_curve = DiscountCurveFlat(value_dt, interest_rate)"
   ]
  },
  {
   "cell_type": "code",
   "execution_count": 13,
   "metadata": {
    "execution": {
     "iopub.execute_input": "2025-08-27T22:32:54.536062Z",
     "iopub.status.busy": "2025-08-27T22:32:54.535781Z",
     "iopub.status.idle": "2025-08-27T22:32:54.538288Z",
     "shell.execute_reply": "2025-08-27T22:32:54.537904Z"
    }
   },
   "outputs": [],
   "source": [
    "volatility = 0.25"
   ]
  },
  {
   "cell_type": "code",
   "execution_count": 14,
   "metadata": {
    "execution": {
     "iopub.execute_input": "2025-08-27T22:32:54.540256Z",
     "iopub.status.busy": "2025-08-27T22:32:54.539905Z",
     "iopub.status.idle": "2025-08-27T22:32:54.542677Z",
     "shell.execute_reply": "2025-08-27T22:32:54.542242Z"
    }
   },
   "outputs": [],
   "source": [
    "model = BlackScholes(volatility)"
   ]
  },
  {
   "cell_type": "code",
   "execution_count": 15,
   "metadata": {
    "execution": {
     "iopub.execute_input": "2025-08-27T22:32:54.544192Z",
     "iopub.status.busy": "2025-08-27T22:32:54.543997Z",
     "iopub.status.idle": "2025-08-27T22:32:54.546051Z",
     "shell.execute_reply": "2025-08-27T22:32:54.545724Z"
    }
   },
   "outputs": [],
   "source": [
    "stock_price = 110.0\n",
    "dividend_yield = 0.045"
   ]
  },
  {
   "cell_type": "code",
   "execution_count": 16,
   "metadata": {
    "execution": {
     "iopub.execute_input": "2025-08-27T22:32:54.548171Z",
     "iopub.status.busy": "2025-08-27T22:32:54.547882Z",
     "iopub.status.idle": "2025-08-27T22:32:54.551548Z",
     "shell.execute_reply": "2025-08-27T22:32:54.551066Z"
    }
   },
   "outputs": [],
   "source": [
    "dividend_curve = DiscountCurveFlat(value_dt, dividend_yield)"
   ]
  },
  {
   "cell_type": "code",
   "execution_count": 17,
   "metadata": {
    "execution": {
     "iopub.execute_input": "2025-08-27T22:32:54.553474Z",
     "iopub.status.busy": "2025-08-27T22:32:54.553295Z",
     "iopub.status.idle": "2025-08-27T22:32:54.557916Z",
     "shell.execute_reply": "2025-08-27T22:32:54.557538Z"
    }
   },
   "outputs": [
    {
     "data": {
      "text/plain": [
       "np.float64(0.76707743371463)"
      ]
     },
     "execution_count": 17,
     "metadata": {},
     "output_type": "execute_result"
    }
   ],
   "source": [
    "digitalCall.value(value_dt, stock_price, discount_curve, dividend_curve, model)"
   ]
  },
  {
   "cell_type": "code",
   "execution_count": 18,
   "metadata": {
    "execution": {
     "iopub.execute_input": "2025-08-27T22:32:54.559975Z",
     "iopub.status.busy": "2025-08-27T22:32:54.559708Z",
     "iopub.status.idle": "2025-08-27T22:32:54.563077Z",
     "shell.execute_reply": "2025-08-27T22:32:54.562710Z"
    }
   },
   "outputs": [
    {
     "data": {
      "text/plain": [
       "np.float64(0.19979518107018837)"
      ]
     },
     "execution_count": 18,
     "metadata": {},
     "output_type": "execute_result"
    }
   ],
   "source": [
    "digitalPut.value(value_dt, stock_price, discount_curve, dividend_curve, model)"
   ]
  },
  {
   "cell_type": "markdown",
   "metadata": {},
   "source": [
    "## Check Monte-Carlo"
   ]
  },
  {
   "cell_type": "code",
   "execution_count": 19,
   "metadata": {
    "execution": {
     "iopub.execute_input": "2025-08-27T22:32:54.565014Z",
     "iopub.status.busy": "2025-08-27T22:32:54.564827Z",
     "iopub.status.idle": "2025-08-27T22:32:54.568400Z",
     "shell.execute_reply": "2025-08-27T22:32:54.567857Z"
    }
   },
   "outputs": [
    {
     "data": {
      "text/plain": [
       "np.float64(0.7696789449994546)"
      ]
     },
     "execution_count": 19,
     "metadata": {},
     "output_type": "execute_result"
    }
   ],
   "source": [
    "digitalCall.value_mc(value_dt, stock_price, discount_curve, dividend_curve, model)"
   ]
  },
  {
   "cell_type": "code",
   "execution_count": 20,
   "metadata": {
    "execution": {
     "iopub.execute_input": "2025-08-27T22:32:54.570302Z",
     "iopub.status.busy": "2025-08-27T22:32:54.569955Z",
     "iopub.status.idle": "2025-08-27T22:32:54.573792Z",
     "shell.execute_reply": "2025-08-27T22:32:54.573468Z"
    }
   },
   "outputs": [
    {
     "data": {
      "text/plain": [
       "np.float64(0.1971936697853637)"
      ]
     },
     "execution_count": 20,
     "metadata": {},
     "output_type": "execute_result"
    }
   ],
   "source": [
    "digitalPut.value_mc(value_dt, stock_price, discount_curve, dividend_curve, model)"
   ]
  },
  {
   "cell_type": "markdown",
   "metadata": {},
   "source": [
    "## Vectorisations"
   ]
  },
  {
   "cell_type": "code",
   "execution_count": 21,
   "metadata": {
    "execution": {
     "iopub.execute_input": "2025-08-27T22:32:54.575573Z",
     "iopub.status.busy": "2025-08-27T22:32:54.575308Z",
     "iopub.status.idle": "2025-08-27T22:32:54.667336Z",
     "shell.execute_reply": "2025-08-27T22:32:54.666772Z"
    }
   },
   "outputs": [
    {
     "data": {
      "image/png": "[encoded data removed]",
      "text/plain": [
       "<Figure size 640x480 with 1 Axes>"
      ]
     },
     "metadata": {},
     "output_type": "display_data"
    }
   ],
   "source": [
    "stock_prices = np.linspace(50,150,100)\n",
    "v = digitalCall.value(value_dt, stock_prices, discount_curve, dividend_curve, model)\n",
    "plt.plot(stock_prices, v);"
   ]
  },
  {
   "cell_type": "markdown",
   "metadata": {},
   "source": [
    "We can vectorise two things at the same time as long as they have the same length"
   ]
  },
  {
   "cell_type": "markdown",
   "metadata": {},
   "source": [
    "## Risk Analysis"
   ]
  },
  {
   "cell_type": "markdown",
   "metadata": {},
   "source": [
    "The analytical model produced the following sensitivities"
   ]
  },
  {
   "cell_type": "code",
   "execution_count": 22,
   "metadata": {
    "execution": {
     "iopub.execute_input": "2025-08-27T22:32:54.669721Z",
     "iopub.status.busy": "2025-08-27T22:32:54.669421Z",
     "iopub.status.idle": "2025-08-27T22:32:54.673702Z",
     "shell.execute_reply": "2025-08-27T22:32:54.673182Z"
    }
   },
   "outputs": [
    {
     "data": {
      "text/plain": [
       "np.float64(0.011584328476477168)"
      ]
     },
     "execution_count": 22,
     "metadata": {},
     "output_type": "execute_result"
    }
   ],
   "source": [
    "digitalCall.delta(value_dt, stock_price, discount_curve, dividend_curve, model)"
   ]
  },
  {
   "cell_type": "code",
   "execution_count": 23,
   "metadata": {
    "execution": {
     "iopub.execute_input": "2025-08-27T22:32:54.675645Z",
     "iopub.status.busy": "2025-08-27T22:32:54.675273Z",
     "iopub.status.idle": "2025-08-27T22:32:54.679143Z",
     "shell.execute_reply": "2025-08-27T22:32:54.678677Z"
    }
   },
   "outputs": [
    {
     "data": {
      "text/plain": [
       "np.float64(-0.0005031197680693822)"
      ]
     },
     "execution_count": 23,
     "metadata": {},
     "output_type": "execute_result"
    }
   ],
   "source": [
    "digitalCall.gamma(value_dt, stock_price, discount_curve, dividend_curve, model)"
   ]
  },
  {
   "cell_type": "code",
   "execution_count": 24,
   "metadata": {
    "execution": {
     "iopub.execute_input": "2025-08-27T22:32:54.681203Z",
     "iopub.status.busy": "2025-08-27T22:32:54.681037Z",
     "iopub.status.idle": "2025-08-27T22:32:54.684533Z",
     "shell.execute_reply": "2025-08-27T22:32:54.684065Z"
    }
   },
   "outputs": [
    {
     "data": {
      "text/plain": [
       "np.float64(0.22501650587903932)"
      ]
     },
     "execution_count": 24,
     "metadata": {},
     "output_type": "execute_result"
    }
   ],
   "source": [
    "digitalCall.theta(value_dt, stock_price, discount_curve, dividend_curve, model)"
   ]
  },
  {
   "cell_type": "code",
   "execution_count": 25,
   "metadata": {
    "execution": {
     "iopub.execute_input": "2025-08-27T22:32:54.686510Z",
     "iopub.status.busy": "2025-08-27T22:32:54.686289Z",
     "iopub.status.idle": "2025-08-27T22:32:54.690063Z",
     "shell.execute_reply": "2025-08-27T22:32:54.689768Z"
    }
   },
   "outputs": [
    {
     "data": {
      "text/plain": [
       "np.float64(-0.011210049840873149)"
      ]
     },
     "execution_count": 25,
     "metadata": {},
     "output_type": "execute_result"
    }
   ],
   "source": [
    "digitalCall.vega(value_dt, stock_price, discount_curve, dividend_curve, model)"
   ]
  },
  {
   "cell_type": "code",
   "execution_count": 26,
   "metadata": {
    "execution": {
     "iopub.execute_input": "2025-08-27T22:32:54.692101Z",
     "iopub.status.busy": "2025-08-27T22:32:54.691833Z",
     "iopub.status.idle": "2025-08-27T22:32:54.695649Z",
     "shell.execute_reply": "2025-08-27T22:32:54.695235Z"
    }
   },
   "outputs": [
    {
     "data": {
      "text/plain": [
       "np.float64(0.37952340999347633)"
      ]
     },
     "execution_count": 26,
     "metadata": {},
     "output_type": "execute_result"
    }
   ],
   "source": [
    "digitalCall.rho(value_dt, stock_price, discount_curve, dividend_curve, model)"
   ]
  },
  {
   "cell_type": "markdown",
   "metadata": {},
   "source": [
    "Copyright (c) 2020 Dominic O'Kane"
   ]
  }
 ],
 "metadata": {
  "kernelspec": {
   "display_name": "base",
   "language": "python",
   "name": "python3"
  },
  "language_info": {
   "codemirror_mode": {
    "name": "ipython",
    "version": 3
   },
   "file_extension": ".py",
   "mimetype": "text/x-python",
   "name": "python",
   "nbconvert_exporter": "python",
   "pygments_lexer": "ipython3",
   "version": "3.13.5"
  }
 },
 "nbformat": 4,
 "nbformat_minor": 2
}
