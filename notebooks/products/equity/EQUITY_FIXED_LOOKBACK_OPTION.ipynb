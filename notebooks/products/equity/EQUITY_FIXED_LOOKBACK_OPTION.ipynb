{
    "cells": [
        {
            "cell_type": "markdown",
            "metadata": {},
            "source": [
                "# EQUITY FIXED LOOKBACK"
            ]
        },
        {
            "cell_type": "markdown",
            "metadata": {},
            "source": [
                "Valuation and Risk of Equity Fixed Lookback Options"
            ]
        },
        {
            "cell_type": "code",
            "execution_count": 1,
            "metadata": {
                "execution": {
                    "iopub.execute_input": "2024-04-30T20:04:43.701949Z",
                    "iopub.status.busy": "2024-04-30T20:04:43.701949Z",
                    "iopub.status.idle": "2024-04-30T20:04:44.271067Z",
                    "shell.execute_reply": "2024-04-30T20:04:44.271067Z"
                }
            },
            "outputs": [],
            "source": [
                "import numpy as np\n",
                "import matplotlib.pyplot as plt"
            ]
        },
        {
            "cell_type": "code",
            "execution_count": 2,
            "metadata": {
                "execution": {
                    "iopub.execute_input": "2024-04-30T20:04:44.274091Z",
                    "iopub.status.busy": "2024-04-30T20:04:44.274091Z",
                    "iopub.status.idle": "2024-04-30T20:04:50.820831Z",
                    "shell.execute_reply": "2024-04-30T20:04:50.820222Z"
                }
            },
            "outputs": [
                {
                    "name": "stdout",
                    "output_type": "stream",
                    "text": [
                        "####################################################################\n",
                        "#  FINANCEPY BETA Version 0.350 - This build: 30 Apr 2024 at 21:20 #\n",
                        "#     This software is distributed FREE AND WITHOUT ANY WARRANTY   #\n",
                        "#  Report bugs as issues at https://github.com/domokane/FinancePy  #\n",
                        "####################################################################\n",
                        "\n"
                    ]
                }
            ],
            "source": [
                "from financepy.utils import *\n",
                "from financepy.market.curves.discount_curve_flat import DiscountCurveFlat\n",
                "from financepy.products.equity.equity_fixed_lookback_option import EquityFixedLookbackOption\n",
                "from financepy.models.black_scholes import BlackScholes"
            ]
        },
        {
            "cell_type": "markdown",
            "metadata": {},
            "source": [
                "# Fixed Lookback Option"
            ]
        },
        {
            "cell_type": "markdown",
            "metadata": {},
            "source": [
                "I create a fixed lookback call and put option"
            ]
        },
        {
            "cell_type": "code",
            "execution_count": 3,
            "metadata": {
                "execution": {
                    "iopub.execute_input": "2024-04-30T20:04:50.822855Z",
                    "iopub.status.busy": "2024-04-30T20:04:50.822855Z",
                    "iopub.status.idle": "2024-04-30T20:04:50.843041Z",
                    "shell.execute_reply": "2024-04-30T20:04:50.843041Z"
                }
            },
            "outputs": [],
            "source": [
                "expiry_dt = Date(1, 1, 2021)"
            ]
        },
        {
            "cell_type": "code",
            "execution_count": 4,
            "metadata": {
                "execution": {
                    "iopub.execute_input": "2024-04-30T20:04:50.846093Z",
                    "iopub.status.busy": "2024-04-30T20:04:50.845089Z",
                    "iopub.status.idle": "2024-04-30T20:04:50.848181Z",
                    "shell.execute_reply": "2024-04-30T20:04:50.848181Z"
                }
            },
            "outputs": [],
            "source": [
                "strike_price = 105.0"
            ]
        },
        {
            "cell_type": "code",
            "execution_count": 5,
            "metadata": {
                "execution": {
                    "iopub.execute_input": "2024-04-30T20:04:50.850211Z",
                    "iopub.status.busy": "2024-04-30T20:04:50.850211Z",
                    "iopub.status.idle": "2024-04-30T20:04:50.853104Z",
                    "shell.execute_reply": "2024-04-30T20:04:50.853104Z"
                }
            },
            "outputs": [],
            "source": [
                "opt_typeCall = OptionTypes.EUROPEAN_CALL\n",
                "opt_typePut = OptionTypes.EUROPEAN_PUT"
            ]
        },
        {
            "cell_type": "code",
            "execution_count": 6,
            "metadata": {
                "execution": {
                    "iopub.execute_input": "2024-04-30T20:04:50.855133Z",
                    "iopub.status.busy": "2024-04-30T20:04:50.855133Z",
                    "iopub.status.idle": "2024-04-30T20:04:50.858141Z",
                    "shell.execute_reply": "2024-04-30T20:04:50.858141Z"
                }
            },
            "outputs": [],
            "source": [
                "lookbackCall = EquityFixedLookbackOption(expiry_dt, opt_typeCall, strike_price)\n",
                "lookbackPut = EquityFixedLookbackOption(expiry_dt, opt_typePut, strike_price)"
            ]
        },
        {
            "cell_type": "code",
            "execution_count": 7,
            "metadata": {
                "execution": {
                    "iopub.execute_input": "2024-04-30T20:04:50.860170Z",
                    "iopub.status.busy": "2024-04-30T20:04:50.860170Z",
                    "iopub.status.idle": "2024-04-30T20:04:50.863628Z",
                    "shell.execute_reply": "2024-04-30T20:04:50.863397Z"
                }
            },
            "outputs": [
                {
                    "name": "stdout",
                    "output_type": "stream",
                    "text": [
                        "OBJECT TYPE: EquityFixedLookbackOption\n",
                        "EXPIRY DATE: 01-JAN-2021\n",
                        "STRIKE PRICE: 105.0\n",
                        "OPTION TYPE: OptionTypes.EUROPEAN_CALL\n"
                    ]
                }
            ],
            "source": [
                "print(lookbackCall)"
            ]
        },
        {
            "cell_type": "code",
            "execution_count": 8,
            "metadata": {
                "execution": {
                    "iopub.execute_input": "2024-04-30T20:04:50.865656Z",
                    "iopub.status.busy": "2024-04-30T20:04:50.865656Z",
                    "iopub.status.idle": "2024-04-30T20:04:50.868506Z",
                    "shell.execute_reply": "2024-04-30T20:04:50.868506Z"
                }
            },
            "outputs": [
                {
                    "name": "stdout",
                    "output_type": "stream",
                    "text": [
                        "OBJECT TYPE: EquityFixedLookbackOption\n",
                        "EXPIRY DATE: 01-JAN-2021\n",
                        "STRIKE PRICE: 105.0\n",
                        "OPTION TYPE: OptionTypes.EUROPEAN_PUT\n"
                    ]
                }
            ],
            "source": [
                "print(lookbackPut)"
            ]
        },
        {
            "cell_type": "markdown",
            "metadata": {},
            "source": [
                "## Valuation"
            ]
        },
        {
            "cell_type": "code",
            "execution_count": 9,
            "metadata": {
                "execution": {
                    "iopub.execute_input": "2024-04-30T20:04:50.870509Z",
                    "iopub.status.busy": "2024-04-30T20:04:50.870509Z",
                    "iopub.status.idle": "2024-04-30T20:04:50.873578Z",
                    "shell.execute_reply": "2024-04-30T20:04:50.873578Z"
                }
            },
            "outputs": [],
            "source": [
                "value_dt = Date(1, 1, 2020)"
            ]
        },
        {
            "cell_type": "code",
            "execution_count": 10,
            "metadata": {
                "execution": {
                    "iopub.execute_input": "2024-04-30T20:04:50.875596Z",
                    "iopub.status.busy": "2024-04-30T20:04:50.875596Z",
                    "iopub.status.idle": "2024-04-30T20:04:50.878709Z",
                    "shell.execute_reply": "2024-04-30T20:04:50.878479Z"
                }
            },
            "outputs": [],
            "source": [
                "interest_rate = 0.10"
            ]
        },
        {
            "cell_type": "code",
            "execution_count": 11,
            "metadata": {
                "execution": {
                    "iopub.execute_input": "2024-04-30T20:04:50.880708Z",
                    "iopub.status.busy": "2024-04-30T20:04:50.880708Z",
                    "iopub.status.idle": "2024-04-30T20:04:50.889245Z",
                    "shell.execute_reply": "2024-04-30T20:04:50.889245Z"
                }
            },
            "outputs": [],
            "source": [
                "discount_curve = DiscountCurveFlat(value_dt, interest_rate)"
            ]
        },
        {
            "cell_type": "code",
            "execution_count": 12,
            "metadata": {
                "execution": {
                    "iopub.execute_input": "2024-04-30T20:04:50.891265Z",
                    "iopub.status.busy": "2024-04-30T20:04:50.891265Z",
                    "iopub.status.idle": "2024-04-30T20:04:50.893862Z",
                    "shell.execute_reply": "2024-04-30T20:04:50.893862Z"
                }
            },
            "outputs": [],
            "source": [
                "dividend_yield = 0.0"
            ]
        },
        {
            "cell_type": "code",
            "execution_count": 13,
            "metadata": {
                "execution": {
                    "iopub.execute_input": "2024-04-30T20:04:50.896444Z",
                    "iopub.status.busy": "2024-04-30T20:04:50.895893Z",
                    "iopub.status.idle": "2024-04-30T20:04:50.899265Z",
                    "shell.execute_reply": "2024-04-30T20:04:50.899265Z"
                }
            },
            "outputs": [],
            "source": [
                "dividend_curve = DiscountCurveFlat(value_dt, dividend_yield)"
            ]
        },
        {
            "cell_type": "code",
            "execution_count": 14,
            "metadata": {
                "execution": {
                    "iopub.execute_input": "2024-04-30T20:04:50.901284Z",
                    "iopub.status.busy": "2024-04-30T20:04:50.901284Z",
                    "iopub.status.idle": "2024-04-30T20:04:50.903781Z",
                    "shell.execute_reply": "2024-04-30T20:04:50.903781Z"
                }
            },
            "outputs": [],
            "source": [
                "volatility = 0.10"
            ]
        },
        {
            "cell_type": "code",
            "execution_count": 15,
            "metadata": {
                "execution": {
                    "iopub.execute_input": "2024-04-30T20:04:50.905810Z",
                    "iopub.status.busy": "2024-04-30T20:04:50.905810Z",
                    "iopub.status.idle": "2024-04-30T20:04:50.908743Z",
                    "shell.execute_reply": "2024-04-30T20:04:50.908743Z"
                }
            },
            "outputs": [],
            "source": [
                "num_paths = 10000\n",
                "num_steps_per_year = 1000"
            ]
        },
        {
            "cell_type": "code",
            "execution_count": 16,
            "metadata": {
                "execution": {
                    "iopub.execute_input": "2024-04-30T20:04:50.910745Z",
                    "iopub.status.busy": "2024-04-30T20:04:50.910745Z",
                    "iopub.status.idle": "2024-04-30T20:04:50.913736Z",
                    "shell.execute_reply": "2024-04-30T20:04:50.913736Z"
                }
            },
            "outputs": [],
            "source": [
                "stock_prices = np.linspace(50, 150, 20)"
            ]
        },
        {
            "cell_type": "code",
            "execution_count": 17,
            "metadata": {
                "execution": {
                    "iopub.execute_input": "2024-04-30T20:04:50.916031Z",
                    "iopub.status.busy": "2024-04-30T20:04:50.916031Z",
                    "iopub.status.idle": "2024-04-30T20:04:59.016659Z",
                    "shell.execute_reply": "2024-04-30T20:04:59.016659Z"
                }
            },
            "outputs": [],
            "source": [
                "values = []\n",
                "valuesMC = []\n",
                "\n",
                "for stock_price in stock_prices:\n",
                "    stock_min_max = stock_price\n",
                "    v = lookbackCall.value(value_dt, stock_price, discount_curve, dividend_curve,\n",
                "                           volatility, stock_min_max)\n",
                "    v_mc = lookbackCall.value_mc(value_dt, stock_price, discount_curve, dividend_curve, \n",
                "                                volatility, stock_min_max, num_paths, num_steps_per_year)\n",
                "    values.append(v)\n",
                "    valuesMC.append(v_mc)"
            ]
        },
        {
            "cell_type": "code",
            "execution_count": 18,
            "metadata": {
                "execution": {
                    "iopub.execute_input": "2024-04-30T20:04:59.020302Z",
                    "iopub.status.busy": "2024-04-30T20:04:59.020302Z",
                    "iopub.status.idle": "2024-04-30T20:04:59.188546Z",
                    "shell.execute_reply": "2024-04-30T20:04:59.188546Z"
                }
            },
            "outputs": [
                {
                    "data": {
                        "image/png": "[encoded data removed]",
                        "text/plain": [
                            "<Figure size 640x480 with 1 Axes>"
                        ]
                    },
                    "metadata": {},
                    "output_type": "display_data"
                }
            ],
            "source": [
                "plt.plot(stock_prices, values)\n",
                "plt.plot(stock_prices, valuesMC, '.')\n",
                "plt.xlabel(\"Stock Price\")\n",
                "plt.ylabel(\"Value\");"
            ]
        },
        {
            "cell_type": "code",
            "execution_count": 19,
            "metadata": {
                "execution": {
                    "iopub.execute_input": "2024-04-30T20:04:59.191544Z",
                    "iopub.status.busy": "2024-04-30T20:04:59.190576Z",
                    "iopub.status.idle": "2024-04-30T20:05:07.358486Z",
                    "shell.execute_reply": "2024-04-30T20:05:07.358486Z"
                }
            },
            "outputs": [],
            "source": [
                "values = []\n",
                "valuesMC = []\n",
                "\n",
                "for stock_price in stock_prices:\n",
                "    stock_min_max = stock_price\n",
                "    v = lookbackPut.value(value_dt, stock_price, discount_curve, dividend_curve,\n",
                "                           volatility, stock_min_max)\n",
                "    v_mc = lookbackPut.value_mc(value_dt, stock_price, discount_curve, dividend_curve, \n",
                "                                volatility, stock_min_max, num_paths, num_steps_per_year)\n",
                "    values.append(v)\n",
                "    valuesMC.append(v_mc)"
            ]
        },
        {
            "cell_type": "code",
            "execution_count": 20,
            "metadata": {
                "execution": {
                    "iopub.execute_input": "2024-04-30T20:05:07.361484Z",
                    "iopub.status.busy": "2024-04-30T20:05:07.361484Z",
                    "iopub.status.idle": "2024-04-30T20:05:07.484328Z",
                    "shell.execute_reply": "2024-04-30T20:05:07.483884Z"
                }
            },
            "outputs": [
                {
                    "data": {
                        "image/png": "[encoded data removed]",
                        "text/plain": [
                            "<Figure size 640x480 with 1 Axes>"
                        ]
                    },
                    "metadata": {},
                    "output_type": "display_data"
                }
            ],
            "source": [
                "plt.plot(stock_prices, values)\n",
                "plt.plot(stock_prices, valuesMC, '.')\n",
                "plt.xlabel(\"Stock Price\")\n",
                "plt.ylabel(\"Value\");"
            ]
        },
        {
            "cell_type": "markdown",
            "metadata": {},
            "source": [
                "Copyright (c) 2020 Dominic O'Kane"
            ]
        }
    ],
    "metadata": {
        "kernelspec": {
            "display_name": "Python 3",
            "language": "python",
            "name": "python3"
        },
        "language_info": {
            "codemirror_mode": {
                "name": "ipython",
                "version": 3
            },
            "file_extension": ".py",
            "mimetype": "text/x-python",
            "name": "python",
            "nbconvert_exporter": "python",
            "pygments_lexer": "ipython3",
            "version": "3.11.5"
        }
    },
    "nbformat": 4,
    "nbformat_minor": 2
}