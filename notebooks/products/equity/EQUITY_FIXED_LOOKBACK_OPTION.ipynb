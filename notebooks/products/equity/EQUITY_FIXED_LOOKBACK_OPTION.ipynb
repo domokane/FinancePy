{
 "cells": [
  {
   "cell_type": "markdown",
   "metadata": {},
   "source": [
    "# EQUITY FIXED LOOKBACK"
   ]
  },
  {
   "cell_type": "markdown",
   "metadata": {},
   "source": [
    "Valuation and Risk of Equity Fixed Lookback Options"
   ]
  },
  {
   "cell_type": "code",
   "execution_count": 1,
   "metadata": {
    "execution": {
     "iopub.execute_input": "2025-08-27T21:46:05.978156Z",
     "iopub.status.busy": "2025-08-27T21:46:05.977871Z",
     "iopub.status.idle": "2025-08-27T21:46:06.475509Z",
     "shell.execute_reply": "2025-08-27T21:46:06.475034Z"
    }
   },
   "outputs": [],
   "source": [
    "import numpy as np\n",
    "import matplotlib.pyplot as plt"
   ]
  },
  {
   "cell_type": "code",
   "execution_count": 2,
   "metadata": {
    "execution": {
     "iopub.execute_input": "2025-08-27T21:46:06.477612Z",
     "iopub.status.busy": "2025-08-27T21:46:06.477366Z",
     "iopub.status.idle": "2025-08-27T21:46:09.412319Z",
     "shell.execute_reply": "2025-08-27T21:46:09.411751Z"
    }
   },
   "outputs": [
    {
     "name": "stdout",
     "output_type": "stream",
     "text": [
      "####################################################################\n",
      "#    FINANCEPY Version 1.1 - This build: 27 Aug 2025 at 23:27      #\n",
      "#     This software is distributed FREE AND WITHOUT ANY WARRANTY   #\n",
      "#  Report bugs as issues at https://github.com/domokane/FinancePy  #\n",
      "####################################################################\n",
      "\n"
     ]
    }
   ],
   "source": [
    "from financepy.utils import *\n",
    "from financepy.market.curves.discount_curve_flat import DiscountCurveFlat\n",
    "from financepy.products.equity.equity_fixed_lookback_option import EquityFixedLookbackOption\n",
    "from financepy.models.black_scholes import BlackScholes"
   ]
  },
  {
   "cell_type": "markdown",
   "metadata": {},
   "source": [
    "# Fixed Lookback Option"
   ]
  },
  {
   "cell_type": "markdown",
   "metadata": {},
   "source": [
    "I create a fixed lookback call and put option"
   ]
  },
  {
   "cell_type": "code",
   "execution_count": 3,
   "metadata": {
    "execution": {
     "iopub.execute_input": "2025-08-27T21:46:09.414766Z",
     "iopub.status.busy": "2025-08-27T21:46:09.414424Z",
     "iopub.status.idle": "2025-08-27T21:46:09.434395Z",
     "shell.execute_reply": "2025-08-27T21:46:09.433801Z"
    }
   },
   "outputs": [],
   "source": [
    "expiry_dt = Date(1, 1, 2021)"
   ]
  },
  {
   "cell_type": "code",
   "execution_count": 4,
   "metadata": {
    "execution": {
     "iopub.execute_input": "2025-08-27T21:46:09.436669Z",
     "iopub.status.busy": "2025-08-27T21:46:09.436444Z",
     "iopub.status.idle": "2025-08-27T21:46:09.439202Z",
     "shell.execute_reply": "2025-08-27T21:46:09.438834Z"
    }
   },
   "outputs": [],
   "source": [
    "strike_price = 105.0"
   ]
  },
  {
   "cell_type": "code",
   "execution_count": 5,
   "metadata": {
    "execution": {
     "iopub.execute_input": "2025-08-27T21:46:09.441160Z",
     "iopub.status.busy": "2025-08-27T21:46:09.440816Z",
     "iopub.status.idle": "2025-08-27T21:46:09.443379Z",
     "shell.execute_reply": "2025-08-27T21:46:09.443066Z"
    }
   },
   "outputs": [],
   "source": [
    "opt_typeCall = OptionTypes.EUROPEAN_CALL\n",
    "opt_typePut = OptionTypes.EUROPEAN_PUT"
   ]
  },
  {
   "cell_type": "code",
   "execution_count": 6,
   "metadata": {
    "execution": {
     "iopub.execute_input": "2025-08-27T21:46:09.444895Z",
     "iopub.status.busy": "2025-08-27T21:46:09.444710Z",
     "iopub.status.idle": "2025-08-27T21:46:09.446966Z",
     "shell.execute_reply": "2025-08-27T21:46:09.446557Z"
    }
   },
   "outputs": [],
   "source": [
    "lookbackCall = EquityFixedLookbackOption(expiry_dt, opt_typeCall, strike_price)\n",
    "lookbackPut = EquityFixedLookbackOption(expiry_dt, opt_typePut, strike_price)"
   ]
  },
  {
   "cell_type": "code",
   "execution_count": 7,
   "metadata": {
    "execution": {
     "iopub.execute_input": "2025-08-27T21:46:09.448567Z",
     "iopub.status.busy": "2025-08-27T21:46:09.448385Z",
     "iopub.status.idle": "2025-08-27T21:46:09.450810Z",
     "shell.execute_reply": "2025-08-27T21:46:09.450415Z"
    }
   },
   "outputs": [
    {
     "name": "stdout",
     "output_type": "stream",
     "text": [
      "OBJECT TYPE: EquityFixedLookbackOption\n",
      "EXPIRY DATE: 01-JAN-2021\n",
      "STRIKE PRICE: 105.0\n",
      "OPTION TYPE: OptionTypes.EUROPEAN_CALL\n"
     ]
    }
   ],
   "source": [
    "print(lookbackCall)"
   ]
  },
  {
   "cell_type": "code",
   "execution_count": 8,
   "metadata": {
    "execution": {
     "iopub.execute_input": "2025-08-27T21:46:09.452536Z",
     "iopub.status.busy": "2025-08-27T21:46:09.452186Z",
     "iopub.status.idle": "2025-08-27T21:46:09.455048Z",
     "shell.execute_reply": "2025-08-27T21:46:09.454713Z"
    }
   },
   "outputs": [
    {
     "name": "stdout",
     "output_type": "stream",
     "text": [
      "OBJECT TYPE: EquityFixedLookbackOption\n",
      "EXPIRY DATE: 01-JAN-2021\n",
      "STRIKE PRICE: 105.0\n",
      "OPTION TYPE: OptionTypes.EUROPEAN_PUT\n"
     ]
    }
   ],
   "source": [
    "print(lookbackPut)"
   ]
  },
  {
   "cell_type": "markdown",
   "metadata": {},
   "source": [
    "## Valuation"
   ]
  },
  {
   "cell_type": "code",
   "execution_count": 9,
   "metadata": {
    "execution": {
     "iopub.execute_input": "2025-08-27T21:46:09.456807Z",
     "iopub.status.busy": "2025-08-27T21:46:09.456468Z",
     "iopub.status.idle": "2025-08-27T21:46:09.458712Z",
     "shell.execute_reply": "2025-08-27T21:46:09.458344Z"
    }
   },
   "outputs": [],
   "source": [
    "value_dt = Date(1, 1, 2020)"
   ]
  },
  {
   "cell_type": "code",
   "execution_count": 10,
   "metadata": {
    "execution": {
     "iopub.execute_input": "2025-08-27T21:46:09.460400Z",
     "iopub.status.busy": "2025-08-27T21:46:09.460116Z",
     "iopub.status.idle": "2025-08-27T21:46:09.462302Z",
     "shell.execute_reply": "2025-08-27T21:46:09.461950Z"
    }
   },
   "outputs": [],
   "source": [
    "interest_rate = 0.10"
   ]
  },
  {
   "cell_type": "code",
   "execution_count": 11,
   "metadata": {
    "execution": {
     "iopub.execute_input": "2025-08-27T21:46:09.463992Z",
     "iopub.status.busy": "2025-08-27T21:46:09.463789Z",
     "iopub.status.idle": "2025-08-27T21:46:09.472517Z",
     "shell.execute_reply": "2025-08-27T21:46:09.472054Z"
    }
   },
   "outputs": [],
   "source": [
    "discount_curve = DiscountCurveFlat(value_dt, interest_rate)"
   ]
  },
  {
   "cell_type": "code",
   "execution_count": 12,
   "metadata": {
    "execution": {
     "iopub.execute_input": "2025-08-27T21:46:09.474450Z",
     "iopub.status.busy": "2025-08-27T21:46:09.474250Z",
     "iopub.status.idle": "2025-08-27T21:46:09.476723Z",
     "shell.execute_reply": "2025-08-27T21:46:09.476411Z"
    }
   },
   "outputs": [],
   "source": [
    "dividend_yield = 0.0"
   ]
  },
  {
   "cell_type": "code",
   "execution_count": 13,
   "metadata": {
    "execution": {
     "iopub.execute_input": "2025-08-27T21:46:09.478287Z",
     "iopub.status.busy": "2025-08-27T21:46:09.478098Z",
     "iopub.status.idle": "2025-08-27T21:46:09.480865Z",
     "shell.execute_reply": "2025-08-27T21:46:09.480492Z"
    }
   },
   "outputs": [],
   "source": [
    "dividend_curve = DiscountCurveFlat(value_dt, dividend_yield)"
   ]
  },
  {
   "cell_type": "code",
   "execution_count": 14,
   "metadata": {
    "execution": {
     "iopub.execute_input": "2025-08-27T21:46:09.482434Z",
     "iopub.status.busy": "2025-08-27T21:46:09.482234Z",
     "iopub.status.idle": "2025-08-27T21:46:09.484371Z",
     "shell.execute_reply": "2025-08-27T21:46:09.483997Z"
    }
   },
   "outputs": [],
   "source": [
    "volatility = 0.10"
   ]
  },
  {
   "cell_type": "code",
   "execution_count": 15,
   "metadata": {
    "execution": {
     "iopub.execute_input": "2025-08-27T21:46:09.485965Z",
     "iopub.status.busy": "2025-08-27T21:46:09.485769Z",
     "iopub.status.idle": "2025-08-27T21:46:09.488045Z",
     "shell.execute_reply": "2025-08-27T21:46:09.487660Z"
    }
   },
   "outputs": [],
   "source": [
    "num_paths = 10000\n",
    "num_steps_per_year = 1000"
   ]
  },
  {
   "cell_type": "code",
   "execution_count": 16,
   "metadata": {
    "execution": {
     "iopub.execute_input": "2025-08-27T21:46:09.489584Z",
     "iopub.status.busy": "2025-08-27T21:46:09.489390Z",
     "iopub.status.idle": "2025-08-27T21:46:09.491681Z",
     "shell.execute_reply": "2025-08-27T21:46:09.491292Z"
    }
   },
   "outputs": [],
   "source": [
    "stock_prices = np.linspace(50, 150, 20)"
   ]
  },
  {
   "cell_type": "code",
   "execution_count": 17,
   "metadata": {
    "execution": {
     "iopub.execute_input": "2025-08-27T21:46:09.493329Z",
     "iopub.status.busy": "2025-08-27T21:46:09.493067Z",
     "iopub.status.idle": "2025-08-27T21:46:13.475424Z",
     "shell.execute_reply": "2025-08-27T21:46:13.474973Z"
    }
   },
   "outputs": [],
   "source": [
    "values = []\n",
    "valuesMC = []\n",
    "\n",
    "for stock_price in stock_prices:\n",
    "    stock_min_max = stock_price\n",
    "    v = lookbackCall.value(value_dt, stock_price, discount_curve, dividend_curve,\n",
    "                           volatility, stock_min_max)\n",
    "    v_mc = lookbackCall.value_mc(value_dt, stock_price, discount_curve, dividend_curve,\n",
    "                                volatility, stock_min_max, num_paths, num_steps_per_year)\n",
    "    values.append(v)\n",
    "    valuesMC.append(v_mc)"
   ]
  },
  {
   "cell_type": "code",
   "execution_count": 18,
   "metadata": {
    "execution": {
     "iopub.execute_input": "2025-08-27T21:46:13.477569Z",
     "iopub.status.busy": "2025-08-27T21:46:13.477357Z",
     "iopub.status.idle": "2025-08-27T21:46:13.578524Z",
     "shell.execute_reply": "2025-08-27T21:46:13.578010Z"
    }
   },
   "outputs": [
    {
     "data": {
      "image/png": "[encoded data removed]",
      "text/plain": [
       "<Figure size 640x480 with 1 Axes>"
      ]
     },
     "metadata": {},
     "output_type": "display_data"
    }
   ],
   "source": [
    "plt.plot(stock_prices, values)\n",
    "plt.plot(stock_prices, valuesMC, '.')\n",
    "plt.xlabel(\"Stock Price\")\n",
    "plt.ylabel(\"Value\");"
   ]
  },
  {
   "cell_type": "code",
   "execution_count": 19,
   "metadata": {
    "execution": {
     "iopub.execute_input": "2025-08-27T21:46:13.580618Z",
     "iopub.status.busy": "2025-08-27T21:46:13.580387Z",
     "iopub.status.idle": "2025-08-27T21:46:16.660692Z",
     "shell.execute_reply": "2025-08-27T21:46:16.660147Z"
    }
   },
   "outputs": [],
   "source": [
    "values = []\n",
    "valuesMC = []\n",
    "\n",
    "for stock_price in stock_prices:\n",
    "    stock_min_max = stock_price\n",
    "    v = lookbackPut.value(value_dt, stock_price, discount_curve, dividend_curve,\n",
    "                           volatility, stock_min_max)\n",
    "    v_mc = lookbackPut.value_mc(value_dt, stock_price, discount_curve, dividend_curve,\n",
    "                                volatility, stock_min_max, num_paths, num_steps_per_year)\n",
    "    values.append(v)\n",
    "    valuesMC.append(v_mc)"
   ]
  },
  {
   "cell_type": "code",
   "execution_count": 20,
   "metadata": {
    "execution": {
     "iopub.execute_input": "2025-08-27T21:46:16.662910Z",
     "iopub.status.busy": "2025-08-27T21:46:16.662653Z",
     "iopub.status.idle": "2025-08-27T21:46:16.733841Z",
     "shell.execute_reply": "2025-08-27T21:46:16.733310Z"
    }
   },
   "outputs": [
    {
     "data": {
      "image/png": "[encoded data removed]",
      "text/plain": [
       "<Figure size 640x480 with 1 Axes>"
      ]
     },
     "metadata": {},
     "output_type": "display_data"
    }
   ],
   "source": [
    "plt.plot(stock_prices, values)\n",
    "plt.plot(stock_prices, valuesMC, '.')\n",
    "plt.xlabel(\"Stock Price\")\n",
    "plt.ylabel(\"Value\");"
   ]
  },
  {
   "cell_type": "markdown",
   "metadata": {},
   "source": [
    "Copyright (c) 2020 Dominic O'Kane"
   ]
  }
 ],
 "metadata": {
  "kernelspec": {
   "display_name": "base",
   "language": "python",
   "name": "python3"
  },
  "language_info": {
   "codemirror_mode": {
    "name": "ipython",
    "version": 3
   },
   "file_extension": ".py",
   "mimetype": "text/x-python",
   "name": "python",
   "nbconvert_exporter": "python",
   "pygments_lexer": "ipython3",
   "version": "3.13.5"
  }
 },
 "nbformat": 4,
 "nbformat_minor": 2
}
