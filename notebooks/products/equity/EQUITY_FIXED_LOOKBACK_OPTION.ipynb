{
 "cells": [
  {
   "cell_type": "markdown",
   "metadata": {},
   "source": [
    "# EQUITY FIXED LOOKBACK"
   ]
  },
  {
   "cell_type": "markdown",
   "metadata": {},
   "source": [
    "Valuation and Risk of Equity Fixed Lookback Options"
   ]
  },
  {
   "cell_type": "code",
   "execution_count": 1,
   "metadata": {
    "execution": {
     "iopub.execute_input": "2025-09-14T22:22:54.362915Z",
     "iopub.status.busy": "2025-09-14T22:22:54.362797Z",
     "iopub.status.idle": "2025-09-14T22:22:54.597041Z",
     "shell.execute_reply": "2025-09-14T22:22:54.596698Z"
    }
   },
   "outputs": [],
   "source": [
    "import numpy as np\n",
    "import matplotlib.pyplot as plt"
   ]
  },
  {
   "cell_type": "code",
   "execution_count": 2,
   "metadata": {
    "execution": {
     "iopub.execute_input": "2025-09-14T22:22:54.599035Z",
     "iopub.status.busy": "2025-09-14T22:22:54.598866Z",
     "iopub.status.idle": "2025-09-14T22:22:56.614190Z",
     "shell.execute_reply": "2025-09-14T22:22:56.613857Z"
    }
   },
   "outputs": [],
   "source": [
    "from financepy.utils import *\n",
    "from financepy.market.curves.discount_curve_flat import DiscountCurveFlat\n",
    "from financepy.products.equity.equity_fixed_lookback_option import EquityFixedLookbackOption\n",
    "from financepy.models.black_scholes import BlackScholes"
   ]
  },
  {
   "cell_type": "markdown",
   "metadata": {},
   "source": [
    "# Fixed Lookback Option"
   ]
  },
  {
   "cell_type": "markdown",
   "metadata": {},
   "source": [
    "I create a fixed lookback call and put option"
   ]
  },
  {
   "cell_type": "code",
   "execution_count": 3,
   "metadata": {
    "execution": {
     "iopub.execute_input": "2025-09-14T22:22:56.615633Z",
     "iopub.status.busy": "2025-09-14T22:22:56.615437Z",
     "iopub.status.idle": "2025-09-14T22:22:56.632414Z",
     "shell.execute_reply": "2025-09-14T22:22:56.631912Z"
    }
   },
   "outputs": [],
   "source": [
    "expiry_dt = Date(1, 1, 2021)"
   ]
  },
  {
   "cell_type": "code",
   "execution_count": 4,
   "metadata": {
    "execution": {
     "iopub.execute_input": "2025-09-14T22:22:56.633706Z",
     "iopub.status.busy": "2025-09-14T22:22:56.633582Z",
     "iopub.status.idle": "2025-09-14T22:22:56.635661Z",
     "shell.execute_reply": "2025-09-14T22:22:56.635366Z"
    }
   },
   "outputs": [],
   "source": [
    "strike_price = 105.0"
   ]
  },
  {
   "cell_type": "code",
   "execution_count": 5,
   "metadata": {
    "execution": {
     "iopub.execute_input": "2025-09-14T22:22:56.637186Z",
     "iopub.status.busy": "2025-09-14T22:22:56.636899Z",
     "iopub.status.idle": "2025-09-14T22:22:56.639652Z",
     "shell.execute_reply": "2025-09-14T22:22:56.639371Z"
    }
   },
   "outputs": [],
   "source": [
    "opt_typeCall = OptionTypes.EUROPEAN_CALL\n",
    "opt_typePut = OptionTypes.EUROPEAN_PUT"
   ]
  },
  {
   "cell_type": "code",
   "execution_count": 6,
   "metadata": {
    "execution": {
     "iopub.execute_input": "2025-09-14T22:22:56.640787Z",
     "iopub.status.busy": "2025-09-14T22:22:56.640670Z",
     "iopub.status.idle": "2025-09-14T22:22:56.642643Z",
     "shell.execute_reply": "2025-09-14T22:22:56.642361Z"
    }
   },
   "outputs": [],
   "source": [
    "lookbackCall = EquityFixedLookbackOption(expiry_dt, opt_typeCall, strike_price)\n",
    "lookbackPut = EquityFixedLookbackOption(expiry_dt, opt_typePut, strike_price)"
   ]
  },
  {
   "cell_type": "code",
   "execution_count": 7,
   "metadata": {
    "execution": {
     "iopub.execute_input": "2025-09-14T22:22:56.643576Z",
     "iopub.status.busy": "2025-09-14T22:22:56.643428Z",
     "iopub.status.idle": "2025-09-14T22:22:56.646583Z",
     "shell.execute_reply": "2025-09-14T22:22:56.646287Z"
    }
   },
   "outputs": [
    {
     "name": "stdout",
     "output_type": "stream",
     "text": [
      "OBJECT TYPE: EquityFixedLookbackOption\n",
      "EXPIRY DATE: 01-JAN-2021\n",
      "STRIKE PRICE: 105.0\n",
      "OPTION TYPE: OptionTypes.EUROPEAN_CALL\n"
     ]
    }
   ],
   "source": [
    "print(lookbackCall)"
   ]
  },
  {
   "cell_type": "code",
   "execution_count": 8,
   "metadata": {
    "execution": {
     "iopub.execute_input": "2025-09-14T22:22:56.647627Z",
     "iopub.status.busy": "2025-09-14T22:22:56.647513Z",
     "iopub.status.idle": "2025-09-14T22:22:56.649920Z",
     "shell.execute_reply": "2025-09-14T22:22:56.649674Z"
    }
   },
   "outputs": [
    {
     "name": "stdout",
     "output_type": "stream",
     "text": [
      "OBJECT TYPE: EquityFixedLookbackOption\n",
      "EXPIRY DATE: 01-JAN-2021\n",
      "STRIKE PRICE: 105.0\n",
      "OPTION TYPE: OptionTypes.EUROPEAN_PUT\n"
     ]
    }
   ],
   "source": [
    "print(lookbackPut)"
   ]
  },
  {
   "cell_type": "markdown",
   "metadata": {},
   "source": [
    "## Valuation"
   ]
  },
  {
   "cell_type": "code",
   "execution_count": 9,
   "metadata": {
    "execution": {
     "iopub.execute_input": "2025-09-14T22:22:56.651068Z",
     "iopub.status.busy": "2025-09-14T22:22:56.650965Z",
     "iopub.status.idle": "2025-09-14T22:22:56.653235Z",
     "shell.execute_reply": "2025-09-14T22:22:56.652860Z"
    }
   },
   "outputs": [],
   "source": [
    "value_dt = Date(1, 1, 2020)"
   ]
  },
  {
   "cell_type": "code",
   "execution_count": 10,
   "metadata": {
    "execution": {
     "iopub.execute_input": "2025-09-14T22:22:56.654171Z",
     "iopub.status.busy": "2025-09-14T22:22:56.654059Z",
     "iopub.status.idle": "2025-09-14T22:22:56.656172Z",
     "shell.execute_reply": "2025-09-14T22:22:56.655805Z"
    }
   },
   "outputs": [],
   "source": [
    "interest_rate = 0.10"
   ]
  },
  {
   "cell_type": "code",
   "execution_count": 11,
   "metadata": {
    "execution": {
     "iopub.execute_input": "2025-09-14T22:22:56.657195Z",
     "iopub.status.busy": "2025-09-14T22:22:56.657032Z",
     "iopub.status.idle": "2025-09-14T22:22:56.666451Z",
     "shell.execute_reply": "2025-09-14T22:22:56.666142Z"
    }
   },
   "outputs": [],
   "source": [
    "discount_curve = DiscountCurveFlat(value_dt, interest_rate)"
   ]
  },
  {
   "cell_type": "code",
   "execution_count": 12,
   "metadata": {
    "execution": {
     "iopub.execute_input": "2025-09-14T22:22:56.667491Z",
     "iopub.status.busy": "2025-09-14T22:22:56.667372Z",
     "iopub.status.idle": "2025-09-14T22:22:56.669233Z",
     "shell.execute_reply": "2025-09-14T22:22:56.668942Z"
    }
   },
   "outputs": [],
   "source": [
    "dividend_yield = 0.0"
   ]
  },
  {
   "cell_type": "code",
   "execution_count": 13,
   "metadata": {
    "execution": {
     "iopub.execute_input": "2025-09-14T22:22:56.670210Z",
     "iopub.status.busy": "2025-09-14T22:22:56.670100Z",
     "iopub.status.idle": "2025-09-14T22:22:56.673385Z",
     "shell.execute_reply": "2025-09-14T22:22:56.673058Z"
    }
   },
   "outputs": [],
   "source": [
    "dividend_curve = DiscountCurveFlat(value_dt, dividend_yield)"
   ]
  },
  {
   "cell_type": "code",
   "execution_count": 14,
   "metadata": {
    "execution": {
     "iopub.execute_input": "2025-09-14T22:22:56.675192Z",
     "iopub.status.busy": "2025-09-14T22:22:56.674875Z",
     "iopub.status.idle": "2025-09-14T22:22:56.677359Z",
     "shell.execute_reply": "2025-09-14T22:22:56.677059Z"
    }
   },
   "outputs": [],
   "source": [
    "volatility = 0.10"
   ]
  },
  {
   "cell_type": "code",
   "execution_count": 15,
   "metadata": {
    "execution": {
     "iopub.execute_input": "2025-09-14T22:22:56.678371Z",
     "iopub.status.busy": "2025-09-14T22:22:56.678261Z",
     "iopub.status.idle": "2025-09-14T22:22:56.680476Z",
     "shell.execute_reply": "2025-09-14T22:22:56.680217Z"
    }
   },
   "outputs": [],
   "source": [
    "num_paths = 10000\n",
    "num_steps_per_year = 1000"
   ]
  },
  {
   "cell_type": "code",
   "execution_count": 16,
   "metadata": {
    "execution": {
     "iopub.execute_input": "2025-09-14T22:22:56.681488Z",
     "iopub.status.busy": "2025-09-14T22:22:56.681379Z",
     "iopub.status.idle": "2025-09-14T22:22:56.683665Z",
     "shell.execute_reply": "2025-09-14T22:22:56.683382Z"
    }
   },
   "outputs": [],
   "source": [
    "stock_prices = np.linspace(50, 150, 20)"
   ]
  },
  {
   "cell_type": "code",
   "execution_count": 17,
   "metadata": {
    "execution": {
     "iopub.execute_input": "2025-09-14T22:22:56.684634Z",
     "iopub.status.busy": "2025-09-14T22:22:56.684525Z",
     "iopub.status.idle": "2025-09-14T22:22:58.803054Z",
     "shell.execute_reply": "2025-09-14T22:22:58.802269Z"
    }
   },
   "outputs": [],
   "source": [
    "values = []\n",
    "valuesMC = []\n",
    "\n",
    "for stock_price in stock_prices:\n",
    "    stock_min_max = stock_price\n",
    "    v = lookbackCall.value(value_dt, stock_price, discount_curve, dividend_curve,\n",
    "                           volatility, stock_min_max)\n",
    "    v_mc = lookbackCall.value_mc(value_dt, stock_price, discount_curve, dividend_curve,\n",
    "                                volatility, stock_min_max, num_paths, num_steps_per_year)\n",
    "    values.append(v)\n",
    "    valuesMC.append(v_mc)"
   ]
  },
  {
   "cell_type": "code",
   "execution_count": 18,
   "metadata": {
    "execution": {
     "iopub.execute_input": "2025-09-14T22:22:58.804979Z",
     "iopub.status.busy": "2025-09-14T22:22:58.804732Z",
     "iopub.status.idle": "2025-09-14T22:22:58.856746Z",
     "shell.execute_reply": "2025-09-14T22:22:58.856357Z"
    }
   },
   "outputs": [
    {
     "data": {
      "image/png": "[encoded data removed]",
      "text/plain": [
       "<Figure size 640x480 with 1 Axes>"
      ]
     },
     "metadata": {},
     "output_type": "display_data"
    }
   ],
   "source": [
    "plt.plot(stock_prices, values)\n",
    "plt.plot(stock_prices, valuesMC, '.')\n",
    "plt.xlabel(\"Stock Price\")\n",
    "plt.ylabel(\"Value\");"
   ]
  },
  {
   "cell_type": "code",
   "execution_count": 19,
   "metadata": {
    "execution": {
     "iopub.execute_input": "2025-09-14T22:22:58.859051Z",
     "iopub.status.busy": "2025-09-14T22:22:58.858910Z",
     "iopub.status.idle": "2025-09-14T22:23:00.904623Z",
     "shell.execute_reply": "2025-09-14T22:23:00.904056Z"
    }
   },
   "outputs": [],
   "source": [
    "values = []\n",
    "valuesMC = []\n",
    "\n",
    "for stock_price in stock_prices:\n",
    "    stock_min_max = stock_price\n",
    "    v = lookbackPut.value(value_dt, stock_price, discount_curve, dividend_curve,\n",
    "                           volatility, stock_min_max)\n",
    "    v_mc = lookbackPut.value_mc(value_dt, stock_price, discount_curve, dividend_curve,\n",
    "                                volatility, stock_min_max, num_paths, num_steps_per_year)\n",
    "    values.append(v)\n",
    "    valuesMC.append(v_mc)"
   ]
  },
  {
   "cell_type": "code",
   "execution_count": 20,
   "metadata": {
    "execution": {
     "iopub.execute_input": "2025-09-14T22:23:00.906216Z",
     "iopub.status.busy": "2025-09-14T22:23:00.906058Z",
     "iopub.status.idle": "2025-09-14T22:23:00.945356Z",
     "shell.execute_reply": "2025-09-14T22:23:00.945022Z"
    }
   },
   "outputs": [
    {
     "data": {
      "image/png": "[encoded data removed]",
      "text/plain": [
       "<Figure size 640x480 with 1 Axes>"
      ]
     },
     "metadata": {},
     "output_type": "display_data"
    }
   ],
   "source": [
    "plt.plot(stock_prices, values)\n",
    "plt.plot(stock_prices, valuesMC, '.')\n",
    "plt.xlabel(\"Stock Price\")\n",
    "plt.ylabel(\"Value\");"
   ]
  },
  {
   "cell_type": "markdown",
   "metadata": {},
   "source": [
    "Copyright (c) 2020 Dominic O'Kane"
   ]
  }
 ],
 "metadata": {
  "kernelspec": {
   "display_name": "base",
   "language": "python",
   "name": "python3"
  },
  "language_info": {
   "codemirror_mode": {
    "name": "ipython",
    "version": 3
   },
   "file_extension": ".py",
   "mimetype": "text/x-python",
   "name": "python",
   "nbconvert_exporter": "python",
   "pygments_lexer": "ipython3",
   "version": "3.13.7"
  }
 },
 "nbformat": 4,
 "nbformat_minor": 2
}
