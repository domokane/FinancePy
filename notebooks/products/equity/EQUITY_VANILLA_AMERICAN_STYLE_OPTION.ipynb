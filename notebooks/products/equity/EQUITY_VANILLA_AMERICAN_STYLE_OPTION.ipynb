{
 "cells": [
  {
   "cell_type": "markdown",
   "metadata": {},
   "source": [
    "# EQUITY AMERICAN OPTIONS"
   ]
  },
  {
   "cell_type": "markdown",
   "metadata": {},
   "source": [
    "Valuation and Risk of American-style options on equity"
   ]
  },
  {
   "cell_type": "code",
   "execution_count": 1,
   "metadata": {
    "execution": {
     "iopub.execute_input": "2025-09-14T22:23:15.266115Z",
     "iopub.status.busy": "2025-09-14T22:23:15.265978Z",
     "iopub.status.idle": "2025-09-14T22:23:15.558034Z",
     "shell.execute_reply": "2025-09-14T22:23:15.556605Z"
    }
   },
   "outputs": [],
   "source": [
    "import numpy as np\n",
    "import matplotlib.pyplot as plt"
   ]
  },
  {
   "cell_type": "code",
   "execution_count": 2,
   "metadata": {
    "execution": {
     "iopub.execute_input": "2025-09-14T22:23:15.560767Z",
     "iopub.status.busy": "2025-09-14T22:23:15.560456Z",
     "iopub.status.idle": "2025-09-14T22:23:17.780863Z",
     "shell.execute_reply": "2025-09-14T22:23:17.780508Z"
    }
   },
   "outputs": [],
   "source": [
    "from financepy.utils import *\n",
    "from financepy.market.curves import *\n",
    "from financepy.products.equity import *\n",
    "from financepy.models.black_scholes import *\n",
    "from financepy.models.equity_lsmc import BoundaryFitTypes"
   ]
  },
  {
   "cell_type": "markdown",
   "metadata": {},
   "source": [
    "# Define the Call and Put Options"
   ]
  },
  {
   "cell_type": "code",
   "execution_count": 3,
   "metadata": {
    "execution": {
     "iopub.execute_input": "2025-09-14T22:23:17.782684Z",
     "iopub.status.busy": "2025-09-14T22:23:17.782245Z",
     "iopub.status.idle": "2025-09-14T22:23:17.800638Z",
     "shell.execute_reply": "2025-09-14T22:23:17.799766Z"
    }
   },
   "outputs": [],
   "source": [
    "value_dt = Date(1, 1, 2015)"
   ]
  },
  {
   "cell_type": "code",
   "execution_count": 4,
   "metadata": {
    "execution": {
     "iopub.execute_input": "2025-09-14T22:23:17.802370Z",
     "iopub.status.busy": "2025-09-14T22:23:17.802224Z",
     "iopub.status.idle": "2025-09-14T22:23:17.812411Z",
     "shell.execute_reply": "2025-09-14T22:23:17.811868Z"
    }
   },
   "outputs": [],
   "source": [
    "expiry_dt = value_dt.add_years(0.5)"
   ]
  },
  {
   "cell_type": "code",
   "execution_count": 5,
   "metadata": {
    "execution": {
     "iopub.execute_input": "2025-09-14T22:23:17.814086Z",
     "iopub.status.busy": "2025-09-14T22:23:17.813947Z",
     "iopub.status.idle": "2025-09-14T22:23:17.817550Z",
     "shell.execute_reply": "2025-09-14T22:23:17.817212Z"
    }
   },
   "outputs": [
    {
     "data": {
      "text/plain": [
       "01-JUL-2015"
      ]
     },
     "execution_count": 5,
     "metadata": {},
     "output_type": "execute_result"
    }
   ],
   "source": [
    "expiry_dt"
   ]
  },
  {
   "cell_type": "code",
   "execution_count": 6,
   "metadata": {
    "execution": {
     "iopub.execute_input": "2025-09-14T22:23:17.818491Z",
     "iopub.status.busy": "2025-09-14T22:23:17.818371Z",
     "iopub.status.idle": "2025-09-14T22:23:17.820486Z",
     "shell.execute_reply": "2025-09-14T22:23:17.820170Z"
    }
   },
   "outputs": [],
   "source": [
    "strike_price = 50.0"
   ]
  },
  {
   "cell_type": "code",
   "execution_count": 7,
   "metadata": {
    "execution": {
     "iopub.execute_input": "2025-09-14T22:23:17.821445Z",
     "iopub.status.busy": "2025-09-14T22:23:17.821327Z",
     "iopub.status.idle": "2025-09-14T22:23:17.823371Z",
     "shell.execute_reply": "2025-09-14T22:23:17.823167Z"
    }
   },
   "outputs": [],
   "source": [
    "EU_CALL = OptionTypes.EUROPEAN_CALL\n",
    "EU_PUT = OptionTypes.EUROPEAN_PUT"
   ]
  },
  {
   "cell_type": "markdown",
   "metadata": {},
   "source": [
    "Let's create a put and a call using the Vanilla class"
   ]
  },
  {
   "cell_type": "code",
   "execution_count": 8,
   "metadata": {
    "execution": {
     "iopub.execute_input": "2025-09-14T22:23:17.824247Z",
     "iopub.status.busy": "2025-09-14T22:23:17.824134Z",
     "iopub.status.idle": "2025-09-14T22:23:17.826024Z",
     "shell.execute_reply": "2025-09-14T22:23:17.825739Z"
    }
   },
   "outputs": [],
   "source": [
    "europeanCallOption = EquityVanillaOption(expiry_dt, strike_price, EU_CALL)"
   ]
  },
  {
   "cell_type": "code",
   "execution_count": 9,
   "metadata": {
    "execution": {
     "iopub.execute_input": "2025-09-14T22:23:17.826867Z",
     "iopub.status.busy": "2025-09-14T22:23:17.826756Z",
     "iopub.status.idle": "2025-09-14T22:23:17.830273Z",
     "shell.execute_reply": "2025-09-14T22:23:17.829914Z"
    }
   },
   "outputs": [],
   "source": [
    "europeanPutOption = EquityVanillaOption(expiry_dt, strike_price, EU_PUT)"
   ]
  },
  {
   "cell_type": "markdown",
   "metadata": {},
   "source": [
    "Now let's create a put and a call American and European option types using the American class"
   ]
  },
  {
   "cell_type": "code",
   "execution_count": 10,
   "metadata": {
    "execution": {
     "iopub.execute_input": "2025-09-14T22:23:17.831475Z",
     "iopub.status.busy": "2025-09-14T22:23:17.831355Z",
     "iopub.status.idle": "2025-09-14T22:23:17.833363Z",
     "shell.execute_reply": "2025-09-14T22:23:17.833071Z"
    }
   },
   "outputs": [],
   "source": [
    "europeanAmericanCallOption = EquityAmericanOption(expiry_dt, strike_price, EU_CALL)"
   ]
  },
  {
   "cell_type": "code",
   "execution_count": 11,
   "metadata": {
    "execution": {
     "iopub.execute_input": "2025-09-14T22:23:17.834966Z",
     "iopub.status.busy": "2025-09-14T22:23:17.834608Z",
     "iopub.status.idle": "2025-09-14T22:23:17.836869Z",
     "shell.execute_reply": "2025-09-14T22:23:17.836585Z"
    }
   },
   "outputs": [],
   "source": [
    "europeanAmericanPutOption = EquityAmericanOption(expiry_dt, strike_price, EU_PUT)"
   ]
  },
  {
   "cell_type": "code",
   "execution_count": 12,
   "metadata": {
    "execution": {
     "iopub.execute_input": "2025-09-14T22:23:17.837854Z",
     "iopub.status.busy": "2025-09-14T22:23:17.837738Z",
     "iopub.status.idle": "2025-09-14T22:23:17.840414Z",
     "shell.execute_reply": "2025-09-14T22:23:17.839926Z"
    }
   },
   "outputs": [],
   "source": [
    "americanCallOption = EquityAmericanOption(expiry_dt, strike_price, OptionTypes.AMERICAN_CALL)"
   ]
  },
  {
   "cell_type": "code",
   "execution_count": 13,
   "metadata": {
    "execution": {
     "iopub.execute_input": "2025-09-14T22:23:17.841638Z",
     "iopub.status.busy": "2025-09-14T22:23:17.841513Z",
     "iopub.status.idle": "2025-09-14T22:23:17.843637Z",
     "shell.execute_reply": "2025-09-14T22:23:17.843305Z"
    }
   },
   "outputs": [],
   "source": [
    "americanPutOption = EquityAmericanOption(expiry_dt, strike_price, OptionTypes.AMERICAN_PUT)"
   ]
  },
  {
   "cell_type": "code",
   "execution_count": 14,
   "metadata": {
    "execution": {
     "iopub.execute_input": "2025-09-14T22:23:17.845754Z",
     "iopub.status.busy": "2025-09-14T22:23:17.845293Z",
     "iopub.status.idle": "2025-09-14T22:23:17.849595Z",
     "shell.execute_reply": "2025-09-14T22:23:17.849310Z"
    }
   },
   "outputs": [
    {
     "name": "stdout",
     "output_type": "stream",
     "text": [
      "OBJECT TYPE: EquityAmericanOption\n",
      "EXPIRY DATE: 01-JUL-2015\n",
      "STRIKE PRICE: 50.0\n",
      "OPTION TYPE: OptionTypes.AMERICAN_CALL\n",
      "NUMBER: 1.0\n"
     ]
    }
   ],
   "source": [
    "print(americanCallOption)"
   ]
  },
  {
   "cell_type": "code",
   "execution_count": 15,
   "metadata": {
    "execution": {
     "iopub.execute_input": "2025-09-14T22:23:17.850621Z",
     "iopub.status.busy": "2025-09-14T22:23:17.850500Z",
     "iopub.status.idle": "2025-09-14T22:23:17.852528Z",
     "shell.execute_reply": "2025-09-14T22:23:17.852300Z"
    }
   },
   "outputs": [
    {
     "name": "stdout",
     "output_type": "stream",
     "text": [
      "OBJECT TYPE: EquityAmericanOption\n",
      "EXPIRY DATE: 01-JUL-2015\n",
      "STRIKE PRICE: 50.0\n",
      "OPTION TYPE: OptionTypes.AMERICAN_PUT\n",
      "NUMBER: 1.0\n"
     ]
    }
   ],
   "source": [
    "print(americanPutOption)"
   ]
  },
  {
   "cell_type": "markdown",
   "metadata": {},
   "source": [
    "## Valuation"
   ]
  },
  {
   "cell_type": "code",
   "execution_count": 16,
   "metadata": {
    "execution": {
     "iopub.execute_input": "2025-09-14T22:23:17.853514Z",
     "iopub.status.busy": "2025-09-14T22:23:17.853400Z",
     "iopub.status.idle": "2025-09-14T22:23:17.855594Z",
     "shell.execute_reply": "2025-09-14T22:23:17.855302Z"
    }
   },
   "outputs": [],
   "source": [
    "stock_price = 50.0\n",
    "volatility = 0.20\n",
    "interest_rate = 0.05\n",
    "dividend_yield = 0.0"
   ]
  },
  {
   "cell_type": "code",
   "execution_count": 17,
   "metadata": {
    "execution": {
     "iopub.execute_input": "2025-09-14T22:23:17.856528Z",
     "iopub.status.busy": "2025-09-14T22:23:17.856404Z",
     "iopub.status.idle": "2025-09-14T22:23:17.859700Z",
     "shell.execute_reply": "2025-09-14T22:23:17.859355Z"
    }
   },
   "outputs": [],
   "source": [
    "discount_curve = DiscountCurveFlat(value_dt, interest_rate)"
   ]
  },
  {
   "cell_type": "code",
   "execution_count": 18,
   "metadata": {
    "execution": {
     "iopub.execute_input": "2025-09-14T22:23:17.860749Z",
     "iopub.status.busy": "2025-09-14T22:23:17.860636Z",
     "iopub.status.idle": "2025-09-14T22:23:17.863068Z",
     "shell.execute_reply": "2025-09-14T22:23:17.862631Z"
    }
   },
   "outputs": [],
   "source": [
    "dividend_curve = DiscountCurveFlat(value_dt, dividend_yield)"
   ]
  },
  {
   "cell_type": "markdown",
   "metadata": {},
   "source": [
    "#### Analytic Model"
   ]
  },
  {
   "cell_type": "code",
   "execution_count": 19,
   "metadata": {
    "execution": {
     "iopub.execute_input": "2025-09-14T22:23:17.864097Z",
     "iopub.status.busy": "2025-09-14T22:23:17.863986Z",
     "iopub.status.idle": "2025-09-14T22:23:17.865965Z",
     "shell.execute_reply": "2025-09-14T22:23:17.865716Z"
    }
   },
   "outputs": [],
   "source": [
    "model = BlackScholes(volatility)"
   ]
  },
  {
   "cell_type": "code",
   "execution_count": 20,
   "metadata": {
    "execution": {
     "iopub.execute_input": "2025-09-14T22:23:17.867952Z",
     "iopub.status.busy": "2025-09-14T22:23:17.867559Z",
     "iopub.status.idle": "2025-09-14T22:23:17.870956Z",
     "shell.execute_reply": "2025-09-14T22:23:17.870648Z"
    }
   },
   "outputs": [
    {
     "data": {
      "text/plain": [
       "np.float64(3.4276581469416914)"
      ]
     },
     "execution_count": 20,
     "metadata": {},
     "output_type": "execute_result"
    }
   ],
   "source": [
    "europeanCallOption.value(value_dt, stock_price, discount_curve, dividend_curve, model)"
   ]
  },
  {
   "cell_type": "code",
   "execution_count": 21,
   "metadata": {
    "execution": {
     "iopub.execute_input": "2025-09-14T22:23:17.871839Z",
     "iopub.status.busy": "2025-09-14T22:23:17.871730Z",
     "iopub.status.idle": "2025-09-14T22:23:17.874130Z",
     "shell.execute_reply": "2025-09-14T22:23:17.873914Z"
    }
   },
   "outputs": [
    {
     "data": {
      "text/plain": [
       "np.float64(3.4276581469416914)"
      ]
     },
     "execution_count": 21,
     "metadata": {},
     "output_type": "execute_result"
    }
   ],
   "source": [
    "europeanAmericanCallOption.value(value_dt, stock_price, discount_curve, dividend_curve, model)"
   ]
  },
  {
   "cell_type": "markdown",
   "metadata": {},
   "source": [
    "#### Finite Difference Model"
   ]
  },
  {
   "cell_type": "code",
   "execution_count": 22,
   "metadata": {
    "execution": {
     "iopub.execute_input": "2025-09-14T22:23:17.875005Z",
     "iopub.status.busy": "2025-09-14T22:23:17.874889Z",
     "iopub.status.idle": "2025-09-14T22:23:17.877236Z",
     "shell.execute_reply": "2025-09-14T22:23:17.876913Z"
    }
   },
   "outputs": [],
   "source": [
    "params = {\n",
    "    'num_samples': 2000,\n",
    "    'theta': 0.5\n",
    "}\n",
    "model = BlackScholes(volatility,\n",
    "                     bs_type=BlackScholesTypes.FINITE_DIFFERENCE,\n",
    "                     params=params)"
   ]
  },
  {
   "cell_type": "code",
   "execution_count": 23,
   "metadata": {
    "execution": {
     "iopub.execute_input": "2025-09-14T22:23:17.879350Z",
     "iopub.status.busy": "2025-09-14T22:23:17.878961Z",
     "iopub.status.idle": "2025-09-14T22:23:17.882361Z",
     "shell.execute_reply": "2025-09-14T22:23:17.882103Z"
    }
   },
   "outputs": [
    {
     "data": {
      "text/plain": [
       "np.float64(3.4276581469416914)"
      ]
     },
     "execution_count": 23,
     "metadata": {},
     "output_type": "execute_result"
    }
   ],
   "source": [
    "europeanCallOption.value(value_dt, stock_price, discount_curve, dividend_curve, model)"
   ]
  },
  {
   "cell_type": "code",
   "execution_count": 24,
   "metadata": {
    "execution": {
     "iopub.execute_input": "2025-09-14T22:23:17.885122Z",
     "iopub.status.busy": "2025-09-14T22:23:17.884790Z",
     "iopub.status.idle": "2025-09-14T22:23:17.934889Z",
     "shell.execute_reply": "2025-09-14T22:23:17.934527Z"
    }
   },
   "outputs": [
    {
     "data": {
      "text/plain": [
       "np.float64(3.4276540933597364)"
      ]
     },
     "execution_count": 24,
     "metadata": {},
     "output_type": "execute_result"
    }
   ],
   "source": [
    "europeanAmericanCallOption.value(value_dt, stock_price, discount_curve, dividend_curve, model)"
   ]
  },
  {
   "cell_type": "code",
   "execution_count": 25,
   "metadata": {
    "execution": {
     "iopub.execute_input": "2025-09-14T22:23:17.936274Z",
     "iopub.status.busy": "2025-09-14T22:23:17.936110Z",
     "iopub.status.idle": "2025-09-14T22:23:17.968894Z",
     "shell.execute_reply": "2025-09-14T22:23:17.968021Z"
    }
   },
   "outputs": [
    {
     "data": {
      "text/plain": [
       "np.float64(3.4276540933597364)"
      ]
     },
     "execution_count": 25,
     "metadata": {},
     "output_type": "execute_result"
    }
   ],
   "source": [
    "americanCallOption.value(value_dt, stock_price, discount_curve, dividend_curve, model)"
   ]
  },
  {
   "cell_type": "code",
   "execution_count": 26,
   "metadata": {
    "execution": {
     "iopub.execute_input": "2025-09-14T22:23:17.970705Z",
     "iopub.status.busy": "2025-09-14T22:23:17.970533Z",
     "iopub.status.idle": "2025-09-14T22:23:17.974179Z",
     "shell.execute_reply": "2025-09-14T22:23:17.973901Z"
    }
   },
   "outputs": [
    {
     "data": {
      "text/plain": [
       "np.float64(2.2031750852278296)"
      ]
     },
     "execution_count": 26,
     "metadata": {},
     "output_type": "execute_result"
    }
   ],
   "source": [
    "europeanPutOption.value(value_dt, stock_price, discount_curve, dividend_curve, model)"
   ]
  },
  {
   "cell_type": "code",
   "execution_count": 27,
   "metadata": {
    "execution": {
     "iopub.execute_input": "2025-09-14T22:23:17.975657Z",
     "iopub.status.busy": "2025-09-14T22:23:17.975524Z",
     "iopub.status.idle": "2025-09-14T22:23:18.005304Z",
     "shell.execute_reply": "2025-09-14T22:23:18.005036Z"
    }
   },
   "outputs": [
    {
     "data": {
      "text/plain": [
       "np.float64(2.203171031583638)"
      ]
     },
     "execution_count": 27,
     "metadata": {},
     "output_type": "execute_result"
    }
   ],
   "source": [
    "europeanAmericanPutOption.value(value_dt, stock_price, discount_curve, dividend_curve, model)"
   ]
  },
  {
   "cell_type": "code",
   "execution_count": 28,
   "metadata": {
    "execution": {
     "iopub.execute_input": "2025-09-14T22:23:18.006412Z",
     "iopub.status.busy": "2025-09-14T22:23:18.006282Z",
     "iopub.status.idle": "2025-09-14T22:23:18.039043Z",
     "shell.execute_reply": "2025-09-14T22:23:18.038760Z"
    },
    "scrolled": false
   },
   "outputs": [
    {
     "data": {
      "text/plain": [
       "np.float64(2.3199039052498955)"
      ]
     },
     "execution_count": 28,
     "metadata": {},
     "output_type": "execute_result"
    }
   ],
   "source": [
    "americanPutOption.value(value_dt, stock_price, discount_curve, dividend_curve, model)"
   ]
  },
  {
   "cell_type": "markdown",
   "metadata": {},
   "source": [
    "#### PSOR Model"
   ]
  },
  {
   "cell_type": "code",
   "execution_count": 29,
   "metadata": {
    "execution": {
     "iopub.execute_input": "2025-09-14T22:23:18.042559Z",
     "iopub.status.busy": "2025-09-14T22:23:18.042159Z",
     "iopub.status.idle": "2025-09-14T22:23:18.046365Z",
     "shell.execute_reply": "2025-09-14T22:23:18.045880Z"
    }
   },
   "outputs": [],
   "source": [
    "params = {\n",
    "    'theta': 0.5,\n",
    "    'num_samples': 2000,\n",
    "}\n",
    "model = BlackScholes(volatility,\n",
    "                     bs_type=BlackScholesTypes.PSOR,\n",
    "                     params=params)"
   ]
  },
  {
   "cell_type": "code",
   "execution_count": 30,
   "metadata": {
    "execution": {
     "iopub.execute_input": "2025-09-14T22:23:18.047573Z",
     "iopub.status.busy": "2025-09-14T22:23:18.047445Z",
     "iopub.status.idle": "2025-09-14T22:23:18.050446Z",
     "shell.execute_reply": "2025-09-14T22:23:18.050208Z"
    }
   },
   "outputs": [
    {
     "data": {
      "text/plain": [
       "np.float64(3.4276581469416914)"
      ]
     },
     "execution_count": 30,
     "metadata": {},
     "output_type": "execute_result"
    }
   ],
   "source": [
    "europeanCallOption.value(value_dt, stock_price, discount_curve, dividend_curve, model)"
   ]
  },
  {
   "cell_type": "code",
   "execution_count": 31,
   "metadata": {
    "execution": {
     "iopub.execute_input": "2025-09-14T22:23:18.051363Z",
     "iopub.status.busy": "2025-09-14T22:23:18.051238Z",
     "iopub.status.idle": "2025-09-14T22:23:18.384133Z",
     "shell.execute_reply": "2025-09-14T22:23:18.383792Z"
    }
   },
   "outputs": [
    {
     "data": {
      "text/plain": [
       "np.float64(3.4276542220179453)"
      ]
     },
     "execution_count": 31,
     "metadata": {},
     "output_type": "execute_result"
    }
   ],
   "source": [
    "europeanAmericanCallOption.value(value_dt, stock_price, discount_curve, dividend_curve, model)"
   ]
  },
  {
   "cell_type": "code",
   "execution_count": 32,
   "metadata": {
    "execution": {
     "iopub.execute_input": "2025-09-14T22:23:18.385399Z",
     "iopub.status.busy": "2025-09-14T22:23:18.385250Z",
     "iopub.status.idle": "2025-09-14T22:23:18.703570Z",
     "shell.execute_reply": "2025-09-14T22:23:18.703193Z"
    }
   },
   "outputs": [
    {
     "data": {
      "text/plain": [
       "np.float64(3.4276542239744794)"
      ]
     },
     "execution_count": 32,
     "metadata": {},
     "output_type": "execute_result"
    }
   ],
   "source": [
    "americanCallOption.value(value_dt, stock_price, discount_curve, dividend_curve, model)"
   ]
  },
  {
   "cell_type": "code",
   "execution_count": 33,
   "metadata": {
    "execution": {
     "iopub.execute_input": "2025-09-14T22:23:18.705263Z",
     "iopub.status.busy": "2025-09-14T22:23:18.705119Z",
     "iopub.status.idle": "2025-09-14T22:23:18.708433Z",
     "shell.execute_reply": "2025-09-14T22:23:18.708208Z"
    }
   },
   "outputs": [
    {
     "data": {
      "text/plain": [
       "np.float64(2.2031750852278296)"
      ]
     },
     "execution_count": 33,
     "metadata": {},
     "output_type": "execute_result"
    }
   ],
   "source": [
    "europeanPutOption.value(value_dt, stock_price, discount_curve, dividend_curve, model)"
   ]
  },
  {
   "cell_type": "code",
   "execution_count": 34,
   "metadata": {
    "execution": {
     "iopub.execute_input": "2025-09-14T22:23:18.709459Z",
     "iopub.status.busy": "2025-09-14T22:23:18.709340Z",
     "iopub.status.idle": "2025-09-14T22:23:19.002064Z",
     "shell.execute_reply": "2025-09-14T22:23:19.001773Z"
    }
   },
   "outputs": [
    {
     "data": {
      "text/plain": [
       "np.float64(2.203170641109721)"
      ]
     },
     "execution_count": 34,
     "metadata": {},
     "output_type": "execute_result"
    }
   ],
   "source": [
    "europeanAmericanPutOption.value(value_dt, stock_price, discount_curve, dividend_curve, model)"
   ]
  },
  {
   "cell_type": "code",
   "execution_count": 35,
   "metadata": {
    "execution": {
     "iopub.execute_input": "2025-09-14T22:23:19.003263Z",
     "iopub.status.busy": "2025-09-14T22:23:19.003132Z",
     "iopub.status.idle": "2025-09-14T22:23:19.403560Z",
     "shell.execute_reply": "2025-09-14T22:23:19.402437Z"
    },
    "scrolled": false
   },
   "outputs": [
    {
     "data": {
      "text/plain": [
       "np.float64(2.3197617864943965)"
      ]
     },
     "execution_count": 35,
     "metadata": {},
     "output_type": "execute_result"
    }
   ],
   "source": [
    "americanPutOption.value(value_dt, stock_price, discount_curve, dividend_curve, model)"
   ]
  },
  {
   "cell_type": "markdown",
   "metadata": {},
   "source": [
    "#### LSMC Model"
   ]
  },
  {
   "cell_type": "code",
   "execution_count": 36,
   "metadata": {
    "execution": {
     "iopub.execute_input": "2025-09-14T22:23:19.406761Z",
     "iopub.status.busy": "2025-09-14T22:23:19.406455Z",
     "iopub.status.idle": "2025-09-14T22:23:19.411173Z",
     "shell.execute_reply": "2025-09-14T22:23:19.410434Z"
    }
   },
   "outputs": [],
   "source": [
    "model = BlackScholes(volatility,\n",
    "                     num_steps_per_year=52,\n",
    "                     num_paths=50_000,\n",
    "                     bs_type=BlackScholesTypes.LSMC,\n",
    "                     params={\"fit_type_value\": BoundaryFitTypes.LAGUERRE.value,\n",
    "                             \"poly_degree\": 3,\n",
    "                             })"
   ]
  },
  {
   "cell_type": "code",
   "execution_count": 37,
   "metadata": {
    "execution": {
     "iopub.execute_input": "2025-09-14T22:23:19.413306Z",
     "iopub.status.busy": "2025-09-14T22:23:19.413081Z",
     "iopub.status.idle": "2025-09-14T22:23:19.418741Z",
     "shell.execute_reply": "2025-09-14T22:23:19.417938Z"
    }
   },
   "outputs": [
    {
     "data": {
      "text/plain": [
       "np.float64(3.4276581469416914)"
      ]
     },
     "execution_count": 37,
     "metadata": {},
     "output_type": "execute_result"
    }
   ],
   "source": [
    "europeanCallOption.value(value_dt, stock_price, discount_curve, dividend_curve, model)"
   ]
  },
  {
   "cell_type": "code",
   "execution_count": 38,
   "metadata": {
    "execution": {
     "iopub.execute_input": "2025-09-14T22:23:19.420727Z",
     "iopub.status.busy": "2025-09-14T22:23:19.420539Z",
     "iopub.status.idle": "2025-09-14T22:23:19.542327Z",
     "shell.execute_reply": "2025-09-14T22:23:19.541733Z"
    }
   },
   "outputs": [
    {
     "name": "stdout",
     "output_type": "stream",
     "text": [
      "lsmc Model <financepy.models.black_scholes.BlackScholes object at 0x0000026B84241940>\n"
     ]
    },
    {
     "data": {
      "text/plain": [
       "np.float64(3.370852795803322)"
      ]
     },
     "execution_count": 38,
     "metadata": {},
     "output_type": "execute_result"
    }
   ],
   "source": [
    "europeanAmericanCallOption.value(value_dt, stock_price, discount_curve, dividend_curve, model)"
   ]
  },
  {
   "cell_type": "code",
   "execution_count": 39,
   "metadata": {
    "execution": {
     "iopub.execute_input": "2025-09-14T22:23:19.544222Z",
     "iopub.status.busy": "2025-09-14T22:23:19.544026Z",
     "iopub.status.idle": "2025-09-14T22:23:19.715558Z",
     "shell.execute_reply": "2025-09-14T22:23:19.714458Z"
    }
   },
   "outputs": [
    {
     "data": {
      "text/plain": [
       "np.float64(3.3460269746824265)"
      ]
     },
     "execution_count": 39,
     "metadata": {},
     "output_type": "execute_result"
    }
   ],
   "source": [
    "americanCallOption.value(value_dt, stock_price, discount_curve, dividend_curve, model)"
   ]
  },
  {
   "cell_type": "code",
   "execution_count": 40,
   "metadata": {
    "execution": {
     "iopub.execute_input": "2025-09-14T22:23:19.719319Z",
     "iopub.status.busy": "2025-09-14T22:23:19.719005Z",
     "iopub.status.idle": "2025-09-14T22:23:19.724966Z",
     "shell.execute_reply": "2025-09-14T22:23:19.724346Z"
    }
   },
   "outputs": [
    {
     "data": {
      "text/plain": [
       "np.float64(2.2031750852278296)"
      ]
     },
     "execution_count": 40,
     "metadata": {},
     "output_type": "execute_result"
    }
   ],
   "source": [
    "europeanPutOption.value(value_dt, stock_price, discount_curve, dividend_curve, model)"
   ]
  },
  {
   "cell_type": "code",
   "execution_count": 41,
   "metadata": {
    "execution": {
     "iopub.execute_input": "2025-09-14T22:23:19.727029Z",
     "iopub.status.busy": "2025-09-14T22:23:19.726848Z",
     "iopub.status.idle": "2025-09-14T22:23:19.866602Z",
     "shell.execute_reply": "2025-09-14T22:23:19.865414Z"
    }
   },
   "outputs": [
    {
     "name": "stdout",
     "output_type": "stream",
     "text": [
      "lsmc Model <financepy.models.black_scholes.BlackScholes object at 0x0000026B84241940>\n"
     ]
    },
    {
     "data": {
      "text/plain": [
       "np.float64(2.1463697340894656)"
      ]
     },
     "execution_count": 41,
     "metadata": {},
     "output_type": "execute_result"
    }
   ],
   "source": [
    "europeanAmericanPutOption.value(value_dt, stock_price, discount_curve, dividend_curve, model)"
   ]
  },
  {
   "cell_type": "code",
   "execution_count": 42,
   "metadata": {
    "execution": {
     "iopub.execute_input": "2025-09-14T22:23:19.869175Z",
     "iopub.status.busy": "2025-09-14T22:23:19.868718Z",
     "iopub.status.idle": "2025-09-14T22:23:20.046142Z",
     "shell.execute_reply": "2025-09-14T22:23:20.045776Z"
    },
    "scrolled": false
   },
   "outputs": [
    {
     "data": {
      "text/plain": [
       "np.float64(2.210086160210043)"
      ]
     },
     "execution_count": 42,
     "metadata": {},
     "output_type": "execute_result"
    }
   ],
   "source": [
    "americanPutOption.value(value_dt, stock_price, discount_curve, dividend_curve, model)"
   ]
  },
  {
   "cell_type": "markdown",
   "metadata": {},
   "source": [
    "#### CRR Tree Model\n",
    "These prices should be the same. If we insist on using the Tree the price changes a bit"
   ]
  },
  {
   "cell_type": "code",
   "execution_count": 43,
   "metadata": {
    "execution": {
     "iopub.execute_input": "2025-09-14T22:23:20.047459Z",
     "iopub.status.busy": "2025-09-14T22:23:20.047307Z",
     "iopub.status.idle": "2025-09-14T22:23:20.050507Z",
     "shell.execute_reply": "2025-09-14T22:23:20.050198Z"
    }
   },
   "outputs": [],
   "source": [
    "model = BlackScholes(volatility, BlackScholesTypes.CRR_TREE)"
   ]
  },
  {
   "cell_type": "code",
   "execution_count": 44,
   "metadata": {
    "execution": {
     "iopub.execute_input": "2025-09-14T22:23:20.051688Z",
     "iopub.status.busy": "2025-09-14T22:23:20.051564Z",
     "iopub.status.idle": "2025-09-14T22:23:20.054391Z",
     "shell.execute_reply": "2025-09-14T22:23:20.054197Z"
    }
   },
   "outputs": [
    {
     "data": {
      "text/plain": [
       "np.float64(3.4276581469416914)"
      ]
     },
     "execution_count": 44,
     "metadata": {},
     "output_type": "execute_result"
    }
   ],
   "source": [
    "europeanCallOption.value(value_dt, stock_price, discount_curve, dividend_curve, model)"
   ]
  },
  {
   "cell_type": "code",
   "execution_count": 45,
   "metadata": {
    "execution": {
     "iopub.execute_input": "2025-09-14T22:23:20.055404Z",
     "iopub.status.busy": "2025-09-14T22:23:20.055290Z",
     "iopub.status.idle": "2025-09-14T22:23:20.057970Z",
     "shell.execute_reply": "2025-09-14T22:23:20.057773Z"
    }
   },
   "outputs": [
    {
     "data": {
      "text/plain": [
       "np.float64(3.427145909428062)"
      ]
     },
     "execution_count": 45,
     "metadata": {},
     "output_type": "execute_result"
    }
   ],
   "source": [
    "europeanAmericanCallOption.value(value_dt, stock_price, discount_curve, dividend_curve, model)"
   ]
  },
  {
   "cell_type": "code",
   "execution_count": 46,
   "metadata": {
    "execution": {
     "iopub.execute_input": "2025-09-14T22:23:20.058972Z",
     "iopub.status.busy": "2025-09-14T22:23:20.058844Z",
     "iopub.status.idle": "2025-09-14T22:23:20.062037Z",
     "shell.execute_reply": "2025-09-14T22:23:20.061789Z"
    }
   },
   "outputs": [
    {
     "data": {
      "text/plain": [
       "np.float64(3.427145909428062)"
      ]
     },
     "execution_count": 46,
     "metadata": {},
     "output_type": "execute_result"
    }
   ],
   "source": [
    "americanCallOption.value(value_dt, stock_price, discount_curve, dividend_curve, model)"
   ]
  },
  {
   "cell_type": "code",
   "execution_count": 47,
   "metadata": {
    "execution": {
     "iopub.execute_input": "2025-09-14T22:23:20.063166Z",
     "iopub.status.busy": "2025-09-14T22:23:20.063041Z",
     "iopub.status.idle": "2025-09-14T22:23:20.066164Z",
     "shell.execute_reply": "2025-09-14T22:23:20.065317Z"
    }
   },
   "outputs": [
    {
     "data": {
      "text/plain": [
       "np.float64(2.2031750852278296)"
      ]
     },
     "execution_count": 47,
     "metadata": {},
     "output_type": "execute_result"
    }
   ],
   "source": [
    "europeanPutOption.value(value_dt, stock_price, discount_curve, dividend_curve, model)"
   ]
  },
  {
   "cell_type": "code",
   "execution_count": 48,
   "metadata": {
    "execution": {
     "iopub.execute_input": "2025-09-14T22:23:20.067537Z",
     "iopub.status.busy": "2025-09-14T22:23:20.067362Z",
     "iopub.status.idle": "2025-09-14T22:23:20.070808Z",
     "shell.execute_reply": "2025-09-14T22:23:20.070377Z"
    }
   },
   "outputs": [
    {
     "data": {
      "text/plain": [
       "np.float64(2.2026628477140777)"
      ]
     },
     "execution_count": 48,
     "metadata": {},
     "output_type": "execute_result"
    }
   ],
   "source": [
    "europeanAmericanPutOption.value(value_dt, stock_price, discount_curve, dividend_curve, model)"
   ]
  },
  {
   "cell_type": "markdown",
   "metadata": {},
   "source": [
    "These prices should be the same even though one is using the BS formula and the other uses the CRR tree"
   ]
  },
  {
   "cell_type": "code",
   "execution_count": 49,
   "metadata": {
    "execution": {
     "iopub.execute_input": "2025-09-14T22:23:20.072268Z",
     "iopub.status.busy": "2025-09-14T22:23:20.072148Z",
     "iopub.status.idle": "2025-09-14T22:23:20.075118Z",
     "shell.execute_reply": "2025-09-14T22:23:20.074809Z"
    }
   },
   "outputs": [
    {
     "data": {
      "text/plain": [
       "np.float64(2.3227588252294726)"
      ]
     },
     "execution_count": 49,
     "metadata": {},
     "output_type": "execute_result"
    }
   ],
   "source": [
    "americanPutOption.value(value_dt, stock_price, discount_curve, dividend_curve, model)"
   ]
  },
  {
   "cell_type": "markdown",
   "metadata": {},
   "source": [
    "This price is higher as there is an advantage to exercising early when holding an American put"
   ]
  },
  {
   "cell_type": "markdown",
   "metadata": {},
   "source": [
    "## Risk Measures"
   ]
  },
  {
   "cell_type": "markdown",
   "metadata": {},
   "source": [
    "You can calculate the risk measures using using perturbatory analysis"
   ]
  },
  {
   "cell_type": "code",
   "execution_count": 50,
   "metadata": {
    "execution": {
     "iopub.execute_input": "2025-09-14T22:23:20.076280Z",
     "iopub.status.busy": "2025-09-14T22:23:20.076071Z",
     "iopub.status.idle": "2025-09-14T22:23:20.078797Z",
     "shell.execute_reply": "2025-09-14T22:23:20.078534Z"
    }
   },
   "outputs": [
    {
     "data": {
      "text/plain": [
       "np.float64(0.6240485077846358)"
      ]
     },
     "execution_count": 50,
     "metadata": {},
     "output_type": "execute_result"
    }
   ],
   "source": [
    "americanCallOption.delta(value_dt, stock_price, discount_curve, dividend_curve, model)"
   ]
  },
  {
   "cell_type": "code",
   "execution_count": 51,
   "metadata": {
    "execution": {
     "iopub.execute_input": "2025-09-14T22:23:20.079731Z",
     "iopub.status.busy": "2025-09-14T22:23:20.079611Z",
     "iopub.status.idle": "2025-09-14T22:23:20.082747Z",
     "shell.execute_reply": "2025-09-14T22:23:20.081999Z"
    }
   },
   "outputs": [
    {
     "data": {
      "text/plain": [
       "np.float64(534.1064689190489)"
      ]
     },
     "execution_count": 51,
     "metadata": {},
     "output_type": "execute_result"
    }
   ],
   "source": [
    "americanCallOption.gamma(value_dt, stock_price, discount_curve, dividend_curve, model)"
   ]
  },
  {
   "cell_type": "code",
   "execution_count": 52,
   "metadata": {
    "execution": {
     "iopub.execute_input": "2025-09-14T22:23:20.083950Z",
     "iopub.status.busy": "2025-09-14T22:23:20.083820Z",
     "iopub.status.idle": "2025-09-14T22:23:20.086346Z",
     "shell.execute_reply": "2025-09-14T22:23:20.086114Z"
    }
   },
   "outputs": [
    {
     "data": {
      "text/plain": [
       "np.float64(-4.0724784861637575)"
      ]
     },
     "execution_count": 52,
     "metadata": {},
     "output_type": "execute_result"
    }
   ],
   "source": [
    "americanCallOption.theta(value_dt, stock_price, discount_curve, dividend_curve, model)"
   ]
  },
  {
   "cell_type": "code",
   "execution_count": 53,
   "metadata": {
    "execution": {
     "iopub.execute_input": "2025-09-14T22:23:20.087275Z",
     "iopub.status.busy": "2025-09-14T22:23:20.087148Z",
     "iopub.status.idle": "2025-09-14T22:23:20.090474Z",
     "shell.execute_reply": "2025-09-14T22:23:20.090200Z"
    }
   },
   "outputs": [
    {
     "data": {
      "text/plain": [
       "np.float64(13.096682231981127)"
      ]
     },
     "execution_count": 53,
     "metadata": {},
     "output_type": "execute_result"
    }
   ],
   "source": [
    "americanCallOption.rho(value_dt, stock_price, discount_curve, dividend_curve, model)"
   ]
  },
  {
   "cell_type": "markdown",
   "metadata": {},
   "source": [
    "Copyright (c) 2020 Dominic O'Kane"
   ]
  },
  {
   "cell_type": "markdown",
   "metadata": {},
   "source": []
  }
 ],
 "metadata": {
  "kernelspec": {
   "display_name": "base",
   "language": "python",
   "name": "python3"
  },
  "language_info": {
   "codemirror_mode": {
    "name": "ipython",
    "version": 3
   },
   "file_extension": ".py",
   "mimetype": "text/x-python",
   "name": "python",
   "nbconvert_exporter": "python",
   "pygments_lexer": "ipython3",
   "version": "3.13.7"
  }
 },
 "nbformat": 4,
 "nbformat_minor": 2
}
