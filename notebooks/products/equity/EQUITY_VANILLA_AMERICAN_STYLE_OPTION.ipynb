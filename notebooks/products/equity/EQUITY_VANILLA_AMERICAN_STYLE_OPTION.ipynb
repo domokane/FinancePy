{
 "cells": [
  {
   "cell_type": "markdown",
   "metadata": {},
   "source": [
    "# EQUITY AMERICAN OPTIONS"
   ]
  },
  {
   "cell_type": "markdown",
   "metadata": {},
   "source": [
    "Valuation and Risk of American-style options on equity"
   ]
  },
  {
   "cell_type": "code",
   "execution_count": 1,
   "metadata": {
    "execution": {
     "iopub.execute_input": "2025-08-27T21:46:36.976780Z",
     "iopub.status.busy": "2025-08-27T21:46:36.976456Z",
     "iopub.status.idle": "2025-08-27T21:46:37.444942Z",
     "shell.execute_reply": "2025-08-27T21:46:37.444362Z"
    }
   },
   "outputs": [],
   "source": [
    "import numpy as np\n",
    "import matplotlib.pyplot as plt"
   ]
  },
  {
   "cell_type": "code",
   "execution_count": 2,
   "metadata": {
    "execution": {
     "iopub.execute_input": "2025-08-27T21:46:37.447554Z",
     "iopub.status.busy": "2025-08-27T21:46:37.447149Z",
     "iopub.status.idle": "2025-08-27T21:46:40.246915Z",
     "shell.execute_reply": "2025-08-27T21:46:40.246408Z"
    }
   },
   "outputs": [
    {
     "name": "stdout",
     "output_type": "stream",
     "text": [
      "####################################################################\n",
      "#    FINANCEPY Version 1.1 - This build: 27 Aug 2025 at 23:27      #\n",
      "#     This software is distributed FREE AND WITHOUT ANY WARRANTY   #\n",
      "#  Report bugs as issues at https://github.com/domokane/FinancePy  #\n",
      "####################################################################\n",
      "\n"
     ]
    }
   ],
   "source": [
    "from financepy.utils import *\n",
    "from financepy.market.curves import *\n",
    "from financepy.products.equity import *\n",
    "from financepy.models.black_scholes import *\n",
    "from financepy.models.equity_lsmc import BoundaryFitTypes"
   ]
  },
  {
   "cell_type": "markdown",
   "metadata": {},
   "source": [
    "# Define the Call and Put Options"
   ]
  },
  {
   "cell_type": "code",
   "execution_count": 3,
   "metadata": {
    "execution": {
     "iopub.execute_input": "2025-08-27T21:46:40.249127Z",
     "iopub.status.busy": "2025-08-27T21:46:40.248794Z",
     "iopub.status.idle": "2025-08-27T21:46:40.268861Z",
     "shell.execute_reply": "2025-08-27T21:46:40.268420Z"
    }
   },
   "outputs": [],
   "source": [
    "value_dt = Date(1, 1, 2015)"
   ]
  },
  {
   "cell_type": "code",
   "execution_count": 4,
   "metadata": {
    "execution": {
     "iopub.execute_input": "2025-08-27T21:46:40.270827Z",
     "iopub.status.busy": "2025-08-27T21:46:40.270625Z",
     "iopub.status.idle": "2025-08-27T21:46:40.279181Z",
     "shell.execute_reply": "2025-08-27T21:46:40.278509Z"
    }
   },
   "outputs": [],
   "source": [
    "expiry_dt = value_dt.add_years(0.5)"
   ]
  },
  {
   "cell_type": "code",
   "execution_count": 5,
   "metadata": {
    "execution": {
     "iopub.execute_input": "2025-08-27T21:46:40.281362Z",
     "iopub.status.busy": "2025-08-27T21:46:40.281069Z",
     "iopub.status.idle": "2025-08-27T21:46:40.286702Z",
     "shell.execute_reply": "2025-08-27T21:46:40.286105Z"
    }
   },
   "outputs": [
    {
     "data": {
      "text/plain": [
       "01-JUL-2015"
      ]
     },
     "execution_count": 5,
     "metadata": {},
     "output_type": "execute_result"
    }
   ],
   "source": [
    "expiry_dt"
   ]
  },
  {
   "cell_type": "code",
   "execution_count": 6,
   "metadata": {
    "execution": {
     "iopub.execute_input": "2025-08-27T21:46:40.288943Z",
     "iopub.status.busy": "2025-08-27T21:46:40.288698Z",
     "iopub.status.idle": "2025-08-27T21:46:40.291354Z",
     "shell.execute_reply": "2025-08-27T21:46:40.290961Z"
    }
   },
   "outputs": [],
   "source": [
    "strike_price = 50.0"
   ]
  },
  {
   "cell_type": "code",
   "execution_count": 7,
   "metadata": {
    "execution": {
     "iopub.execute_input": "2025-08-27T21:46:40.293436Z",
     "iopub.status.busy": "2025-08-27T21:46:40.293112Z",
     "iopub.status.idle": "2025-08-27T21:46:40.295916Z",
     "shell.execute_reply": "2025-08-27T21:46:40.295443Z"
    }
   },
   "outputs": [],
   "source": [
    "EU_CALL = OptionTypes.EUROPEAN_CALL\n",
    "EU_PUT = OptionTypes.EUROPEAN_PUT"
   ]
  },
  {
   "cell_type": "markdown",
   "metadata": {},
   "source": [
    "Let's create a put and a call using the Vanilla class"
   ]
  },
  {
   "cell_type": "code",
   "execution_count": 8,
   "metadata": {
    "execution": {
     "iopub.execute_input": "2025-08-27T21:46:40.297779Z",
     "iopub.status.busy": "2025-08-27T21:46:40.297569Z",
     "iopub.status.idle": "2025-08-27T21:46:40.300253Z",
     "shell.execute_reply": "2025-08-27T21:46:40.299733Z"
    }
   },
   "outputs": [],
   "source": [
    "europeanCallOption = EquityVanillaOption(expiry_dt, strike_price, EU_CALL)"
   ]
  },
  {
   "cell_type": "code",
   "execution_count": 9,
   "metadata": {
    "execution": {
     "iopub.execute_input": "2025-08-27T21:46:40.302275Z",
     "iopub.status.busy": "2025-08-27T21:46:40.301915Z",
     "iopub.status.idle": "2025-08-27T21:46:40.304359Z",
     "shell.execute_reply": "2025-08-27T21:46:40.304027Z"
    }
   },
   "outputs": [],
   "source": [
    "europeanPutOption = EquityVanillaOption(expiry_dt, strike_price, EU_PUT)"
   ]
  },
  {
   "cell_type": "markdown",
   "metadata": {},
   "source": [
    "Now let's create a put and a call American and European option types using the American class"
   ]
  },
  {
   "cell_type": "code",
   "execution_count": 10,
   "metadata": {
    "execution": {
     "iopub.execute_input": "2025-08-27T21:46:40.306096Z",
     "iopub.status.busy": "2025-08-27T21:46:40.305927Z",
     "iopub.status.idle": "2025-08-27T21:46:40.308497Z",
     "shell.execute_reply": "2025-08-27T21:46:40.308118Z"
    }
   },
   "outputs": [],
   "source": [
    "europeanAmericanCallOption = EquityAmericanOption(expiry_dt, strike_price, EU_CALL)"
   ]
  },
  {
   "cell_type": "code",
   "execution_count": 11,
   "metadata": {
    "execution": {
     "iopub.execute_input": "2025-08-27T21:46:40.310254Z",
     "iopub.status.busy": "2025-08-27T21:46:40.309987Z",
     "iopub.status.idle": "2025-08-27T21:46:40.312517Z",
     "shell.execute_reply": "2025-08-27T21:46:40.312133Z"
    }
   },
   "outputs": [],
   "source": [
    "europeanAmericanPutOption = EquityAmericanOption(expiry_dt, strike_price, EU_PUT)"
   ]
  },
  {
   "cell_type": "code",
   "execution_count": 12,
   "metadata": {
    "execution": {
     "iopub.execute_input": "2025-08-27T21:46:40.314465Z",
     "iopub.status.busy": "2025-08-27T21:46:40.314213Z",
     "iopub.status.idle": "2025-08-27T21:46:40.316842Z",
     "shell.execute_reply": "2025-08-27T21:46:40.316402Z"
    }
   },
   "outputs": [],
   "source": [
    "americanCallOption = EquityAmericanOption(expiry_dt, strike_price, OptionTypes.AMERICAN_CALL)"
   ]
  },
  {
   "cell_type": "code",
   "execution_count": 13,
   "metadata": {
    "execution": {
     "iopub.execute_input": "2025-08-27T21:46:40.318637Z",
     "iopub.status.busy": "2025-08-27T21:46:40.318342Z",
     "iopub.status.idle": "2025-08-27T21:46:40.321013Z",
     "shell.execute_reply": "2025-08-27T21:46:40.320328Z"
    }
   },
   "outputs": [],
   "source": [
    "americanPutOption = EquityAmericanOption(expiry_dt, strike_price, OptionTypes.AMERICAN_PUT)"
   ]
  },
  {
   "cell_type": "code",
   "execution_count": 14,
   "metadata": {
    "execution": {
     "iopub.execute_input": "2025-08-27T21:46:40.323125Z",
     "iopub.status.busy": "2025-08-27T21:46:40.322775Z",
     "iopub.status.idle": "2025-08-27T21:46:40.325604Z",
     "shell.execute_reply": "2025-08-27T21:46:40.325220Z"
    }
   },
   "outputs": [
    {
     "name": "stdout",
     "output_type": "stream",
     "text": [
      "OBJECT TYPE: EquityAmericanOption\n",
      "EXPIRY DATE: 01-JUL-2015\n",
      "STRIKE PRICE: 50.0\n",
      "OPTION TYPE: OptionTypes.AMERICAN_CALL\n",
      "NUMBER: 1.0\n"
     ]
    }
   ],
   "source": [
    "print(americanCallOption)"
   ]
  },
  {
   "cell_type": "code",
   "execution_count": 15,
   "metadata": {
    "execution": {
     "iopub.execute_input": "2025-08-27T21:46:40.327236Z",
     "iopub.status.busy": "2025-08-27T21:46:40.327016Z",
     "iopub.status.idle": "2025-08-27T21:46:40.329929Z",
     "shell.execute_reply": "2025-08-27T21:46:40.329488Z"
    }
   },
   "outputs": [
    {
     "name": "stdout",
     "output_type": "stream",
     "text": [
      "OBJECT TYPE: EquityAmericanOption\n",
      "EXPIRY DATE: 01-JUL-2015\n",
      "STRIKE PRICE: 50.0\n",
      "OPTION TYPE: OptionTypes.AMERICAN_PUT\n",
      "NUMBER: 1.0\n"
     ]
    }
   ],
   "source": [
    "print(americanPutOption)"
   ]
  },
  {
   "cell_type": "markdown",
   "metadata": {},
   "source": [
    "## Valuation"
   ]
  },
  {
   "cell_type": "code",
   "execution_count": 16,
   "metadata": {
    "execution": {
     "iopub.execute_input": "2025-08-27T21:46:40.331697Z",
     "iopub.status.busy": "2025-08-27T21:46:40.331494Z",
     "iopub.status.idle": "2025-08-27T21:46:40.334061Z",
     "shell.execute_reply": "2025-08-27T21:46:40.333627Z"
    }
   },
   "outputs": [],
   "source": [
    "stock_price = 50.0\n",
    "volatility = 0.20\n",
    "interest_rate = 0.05\n",
    "dividend_yield = 0.0"
   ]
  },
  {
   "cell_type": "code",
   "execution_count": 17,
   "metadata": {
    "execution": {
     "iopub.execute_input": "2025-08-27T21:46:40.335995Z",
     "iopub.status.busy": "2025-08-27T21:46:40.335682Z",
     "iopub.status.idle": "2025-08-27T21:46:40.338884Z",
     "shell.execute_reply": "2025-08-27T21:46:40.338497Z"
    }
   },
   "outputs": [],
   "source": [
    "discount_curve = DiscountCurveFlat(value_dt, interest_rate)"
   ]
  },
  {
   "cell_type": "code",
   "execution_count": 18,
   "metadata": {
    "execution": {
     "iopub.execute_input": "2025-08-27T21:46:40.340362Z",
     "iopub.status.busy": "2025-08-27T21:46:40.340182Z",
     "iopub.status.idle": "2025-08-27T21:46:40.343079Z",
     "shell.execute_reply": "2025-08-27T21:46:40.342751Z"
    }
   },
   "outputs": [],
   "source": [
    "dividend_curve = DiscountCurveFlat(value_dt, dividend_yield)"
   ]
  },
  {
   "cell_type": "markdown",
   "metadata": {},
   "source": [
    "#### Analytic Model"
   ]
  },
  {
   "cell_type": "code",
   "execution_count": 19,
   "metadata": {
    "execution": {
     "iopub.execute_input": "2025-08-27T21:46:40.344644Z",
     "iopub.status.busy": "2025-08-27T21:46:40.344456Z",
     "iopub.status.idle": "2025-08-27T21:46:40.346787Z",
     "shell.execute_reply": "2025-08-27T21:46:40.346283Z"
    }
   },
   "outputs": [],
   "source": [
    "model = BlackScholes(volatility)"
   ]
  },
  {
   "cell_type": "code",
   "execution_count": 20,
   "metadata": {
    "execution": {
     "iopub.execute_input": "2025-08-27T21:46:40.348646Z",
     "iopub.status.busy": "2025-08-27T21:46:40.348276Z",
     "iopub.status.idle": "2025-08-27T21:46:40.351628Z",
     "shell.execute_reply": "2025-08-27T21:46:40.351255Z"
    }
   },
   "outputs": [
    {
     "data": {
      "text/plain": [
       "np.float64(3.4276581469416914)"
      ]
     },
     "execution_count": 20,
     "metadata": {},
     "output_type": "execute_result"
    }
   ],
   "source": [
    "europeanCallOption.value(value_dt, stock_price, discount_curve, dividend_curve, model)"
   ]
  },
  {
   "cell_type": "code",
   "execution_count": 21,
   "metadata": {
    "execution": {
     "iopub.execute_input": "2025-08-27T21:46:40.353164Z",
     "iopub.status.busy": "2025-08-27T21:46:40.352980Z",
     "iopub.status.idle": "2025-08-27T21:46:40.356201Z",
     "shell.execute_reply": "2025-08-27T21:46:40.355871Z"
    }
   },
   "outputs": [
    {
     "data": {
      "text/plain": [
       "np.float64(3.4276581469416914)"
      ]
     },
     "execution_count": 21,
     "metadata": {},
     "output_type": "execute_result"
    }
   ],
   "source": [
    "europeanAmericanCallOption.value(value_dt, stock_price, discount_curve, dividend_curve, model)"
   ]
  },
  {
   "cell_type": "markdown",
   "metadata": {},
   "source": [
    "#### Finite Difference Model"
   ]
  },
  {
   "cell_type": "code",
   "execution_count": 22,
   "metadata": {
    "execution": {
     "iopub.execute_input": "2025-08-27T21:46:40.357802Z",
     "iopub.status.busy": "2025-08-27T21:46:40.357605Z",
     "iopub.status.idle": "2025-08-27T21:46:40.360058Z",
     "shell.execute_reply": "2025-08-27T21:46:40.359660Z"
    }
   },
   "outputs": [],
   "source": [
    "params = {\n",
    "    'num_samples': 2000,\n",
    "    'theta': 0.5\n",
    "}\n",
    "model = BlackScholes(volatility,\n",
    "                     bs_type=BlackScholesTypes.FINITE_DIFFERENCE,\n",
    "                     params=params)"
   ]
  },
  {
   "cell_type": "code",
   "execution_count": 23,
   "metadata": {
    "execution": {
     "iopub.execute_input": "2025-08-27T21:46:40.361762Z",
     "iopub.status.busy": "2025-08-27T21:46:40.361508Z",
     "iopub.status.idle": "2025-08-27T21:46:40.364824Z",
     "shell.execute_reply": "2025-08-27T21:46:40.364396Z"
    }
   },
   "outputs": [
    {
     "data": {
      "text/plain": [
       "np.float64(3.4276581469416914)"
      ]
     },
     "execution_count": 23,
     "metadata": {},
     "output_type": "execute_result"
    }
   ],
   "source": [
    "europeanCallOption.value(value_dt, stock_price, discount_curve, dividend_curve, model)"
   ]
  },
  {
   "cell_type": "code",
   "execution_count": 24,
   "metadata": {
    "execution": {
     "iopub.execute_input": "2025-08-27T21:46:40.366449Z",
     "iopub.status.busy": "2025-08-27T21:46:40.366120Z",
     "iopub.status.idle": "2025-08-27T21:46:41.324669Z",
     "shell.execute_reply": "2025-08-27T21:46:41.324308Z"
    }
   },
   "outputs": [
    {
     "data": {
      "text/plain": [
       "np.float64(3.4276540933597364)"
      ]
     },
     "execution_count": 24,
     "metadata": {},
     "output_type": "execute_result"
    }
   ],
   "source": [
    "europeanAmericanCallOption.value(value_dt, stock_price, discount_curve, dividend_curve, model)"
   ]
  },
  {
   "cell_type": "code",
   "execution_count": 25,
   "metadata": {
    "execution": {
     "iopub.execute_input": "2025-08-27T21:46:41.326504Z",
     "iopub.status.busy": "2025-08-27T21:46:41.326299Z",
     "iopub.status.idle": "2025-08-27T21:46:41.365449Z",
     "shell.execute_reply": "2025-08-27T21:46:41.365056Z"
    }
   },
   "outputs": [
    {
     "data": {
      "text/plain": [
       "np.float64(3.4276540933597364)"
      ]
     },
     "execution_count": 25,
     "metadata": {},
     "output_type": "execute_result"
    }
   ],
   "source": [
    "americanCallOption.value(value_dt, stock_price, discount_curve, dividend_curve, model)"
   ]
  },
  {
   "cell_type": "code",
   "execution_count": 26,
   "metadata": {
    "execution": {
     "iopub.execute_input": "2025-08-27T21:46:41.367433Z",
     "iopub.status.busy": "2025-08-27T21:46:41.367251Z",
     "iopub.status.idle": "2025-08-27T21:46:41.370511Z",
     "shell.execute_reply": "2025-08-27T21:46:41.369971Z"
    }
   },
   "outputs": [
    {
     "data": {
      "text/plain": [
       "np.float64(2.2031750852278296)"
      ]
     },
     "execution_count": 26,
     "metadata": {},
     "output_type": "execute_result"
    }
   ],
   "source": [
    "europeanPutOption.value(value_dt, stock_price, discount_curve, dividend_curve, model)"
   ]
  },
  {
   "cell_type": "code",
   "execution_count": 27,
   "metadata": {
    "execution": {
     "iopub.execute_input": "2025-08-27T21:46:41.372257Z",
     "iopub.status.busy": "2025-08-27T21:46:41.371976Z",
     "iopub.status.idle": "2025-08-27T21:46:41.408455Z",
     "shell.execute_reply": "2025-08-27T21:46:41.407713Z"
    }
   },
   "outputs": [
    {
     "data": {
      "text/plain": [
       "np.float64(2.203171031583638)"
      ]
     },
     "execution_count": 27,
     "metadata": {},
     "output_type": "execute_result"
    }
   ],
   "source": [
    "europeanAmericanPutOption.value(value_dt, stock_price, discount_curve, dividend_curve, model)"
   ]
  },
  {
   "cell_type": "code",
   "execution_count": 28,
   "metadata": {
    "execution": {
     "iopub.execute_input": "2025-08-27T21:46:41.410371Z",
     "iopub.status.busy": "2025-08-27T21:46:41.410090Z",
     "iopub.status.idle": "2025-08-27T21:46:41.452002Z",
     "shell.execute_reply": "2025-08-27T21:46:41.451503Z"
    },
    "scrolled": false
   },
   "outputs": [
    {
     "data": {
      "text/plain": [
       "np.float64(2.3199039052498955)"
      ]
     },
     "execution_count": 28,
     "metadata": {},
     "output_type": "execute_result"
    }
   ],
   "source": [
    "americanPutOption.value(value_dt, stock_price, discount_curve, dividend_curve, model)"
   ]
  },
  {
   "cell_type": "markdown",
   "metadata": {},
   "source": [
    "#### PSOR Model"
   ]
  },
  {
   "cell_type": "code",
   "execution_count": 29,
   "metadata": {
    "execution": {
     "iopub.execute_input": "2025-08-27T21:46:41.454123Z",
     "iopub.status.busy": "2025-08-27T21:46:41.453884Z",
     "iopub.status.idle": "2025-08-27T21:46:41.456629Z",
     "shell.execute_reply": "2025-08-27T21:46:41.456263Z"
    }
   },
   "outputs": [],
   "source": [
    "params = {\n",
    "    'theta': 0.5,\n",
    "    'num_samples': 2000,\n",
    "}\n",
    "model = BlackScholes(volatility,\n",
    "                     bs_type=BlackScholesTypes.PSOR,\n",
    "                     params=params)"
   ]
  },
  {
   "cell_type": "code",
   "execution_count": 30,
   "metadata": {
    "execution": {
     "iopub.execute_input": "2025-08-27T21:46:41.458290Z",
     "iopub.status.busy": "2025-08-27T21:46:41.458107Z",
     "iopub.status.idle": "2025-08-27T21:46:41.461171Z",
     "shell.execute_reply": "2025-08-27T21:46:41.460797Z"
    }
   },
   "outputs": [
    {
     "data": {
      "text/plain": [
       "np.float64(3.4276581469416914)"
      ]
     },
     "execution_count": 30,
     "metadata": {},
     "output_type": "execute_result"
    }
   ],
   "source": [
    "europeanCallOption.value(value_dt, stock_price, discount_curve, dividend_curve, model)"
   ]
  },
  {
   "cell_type": "code",
   "execution_count": 31,
   "metadata": {
    "execution": {
     "iopub.execute_input": "2025-08-27T21:46:41.462663Z",
     "iopub.status.busy": "2025-08-27T21:46:41.462407Z",
     "iopub.status.idle": "2025-08-27T21:46:43.025611Z",
     "shell.execute_reply": "2025-08-27T21:46:43.024935Z"
    }
   },
   "outputs": [
    {
     "data": {
      "text/plain": [
       "np.float64(3.4276542220179453)"
      ]
     },
     "execution_count": 31,
     "metadata": {},
     "output_type": "execute_result"
    }
   ],
   "source": [
    "europeanAmericanCallOption.value(value_dt, stock_price, discount_curve, dividend_curve, model)"
   ]
  },
  {
   "cell_type": "code",
   "execution_count": 32,
   "metadata": {
    "execution": {
     "iopub.execute_input": "2025-08-27T21:46:43.027865Z",
     "iopub.status.busy": "2025-08-27T21:46:43.027477Z",
     "iopub.status.idle": "2025-08-27T21:46:43.402684Z",
     "shell.execute_reply": "2025-08-27T21:46:43.402242Z"
    }
   },
   "outputs": [
    {
     "data": {
      "text/plain": [
       "np.float64(3.4276542239744794)"
      ]
     },
     "execution_count": 32,
     "metadata": {},
     "output_type": "execute_result"
    }
   ],
   "source": [
    "americanCallOption.value(value_dt, stock_price, discount_curve, dividend_curve, model)"
   ]
  },
  {
   "cell_type": "code",
   "execution_count": 33,
   "metadata": {
    "execution": {
     "iopub.execute_input": "2025-08-27T21:46:43.404463Z",
     "iopub.status.busy": "2025-08-27T21:46:43.404263Z",
     "iopub.status.idle": "2025-08-27T21:46:43.407935Z",
     "shell.execute_reply": "2025-08-27T21:46:43.407520Z"
    }
   },
   "outputs": [
    {
     "data": {
      "text/plain": [
       "np.float64(2.2031750852278296)"
      ]
     },
     "execution_count": 33,
     "metadata": {},
     "output_type": "execute_result"
    }
   ],
   "source": [
    "europeanPutOption.value(value_dt, stock_price, discount_curve, dividend_curve, model)"
   ]
  },
  {
   "cell_type": "code",
   "execution_count": 34,
   "metadata": {
    "execution": {
     "iopub.execute_input": "2025-08-27T21:46:43.409630Z",
     "iopub.status.busy": "2025-08-27T21:46:43.409361Z",
     "iopub.status.idle": "2025-08-27T21:46:43.752948Z",
     "shell.execute_reply": "2025-08-27T21:46:43.752533Z"
    }
   },
   "outputs": [
    {
     "data": {
      "text/plain": [
       "np.float64(2.203170641109721)"
      ]
     },
     "execution_count": 34,
     "metadata": {},
     "output_type": "execute_result"
    }
   ],
   "source": [
    "europeanAmericanPutOption.value(value_dt, stock_price, discount_curve, dividend_curve, model)"
   ]
  },
  {
   "cell_type": "code",
   "execution_count": 35,
   "metadata": {
    "execution": {
     "iopub.execute_input": "2025-08-27T21:46:43.754603Z",
     "iopub.status.busy": "2025-08-27T21:46:43.754408Z",
     "iopub.status.idle": "2025-08-27T21:46:44.226188Z",
     "shell.execute_reply": "2025-08-27T21:46:44.225840Z"
    },
    "scrolled": false
   },
   "outputs": [
    {
     "data": {
      "text/plain": [
       "np.float64(2.3197617864943965)"
      ]
     },
     "execution_count": 35,
     "metadata": {},
     "output_type": "execute_result"
    }
   ],
   "source": [
    "americanPutOption.value(value_dt, stock_price, discount_curve, dividend_curve, model)"
   ]
  },
  {
   "cell_type": "markdown",
   "metadata": {},
   "source": [
    "#### LSMC Model"
   ]
  },
  {
   "cell_type": "code",
   "execution_count": 36,
   "metadata": {
    "execution": {
     "iopub.execute_input": "2025-08-27T21:46:44.228212Z",
     "iopub.status.busy": "2025-08-27T21:46:44.227990Z",
     "iopub.status.idle": "2025-08-27T21:46:44.231204Z",
     "shell.execute_reply": "2025-08-27T21:46:44.230844Z"
    }
   },
   "outputs": [],
   "source": [
    "model = BlackScholes(volatility,\n",
    "                     num_steps_per_year=52,\n",
    "                     num_paths=50_000,\n",
    "                     bs_type=BlackScholesTypes.LSMC,\n",
    "                     params={\"fit_type_value\": BoundaryFitTypes.LAGUERRE.value,\n",
    "                             \"poly_degree\": 3,\n",
    "                             })"
   ]
  },
  {
   "cell_type": "code",
   "execution_count": 37,
   "metadata": {
    "execution": {
     "iopub.execute_input": "2025-08-27T21:46:44.232831Z",
     "iopub.status.busy": "2025-08-27T21:46:44.232642Z",
     "iopub.status.idle": "2025-08-27T21:46:44.236081Z",
     "shell.execute_reply": "2025-08-27T21:46:44.235624Z"
    }
   },
   "outputs": [
    {
     "data": {
      "text/plain": [
       "np.float64(3.4276581469416914)"
      ]
     },
     "execution_count": 37,
     "metadata": {},
     "output_type": "execute_result"
    }
   ],
   "source": [
    "europeanCallOption.value(value_dt, stock_price, discount_curve, dividend_curve, model)"
   ]
  },
  {
   "cell_type": "code",
   "execution_count": 38,
   "metadata": {
    "execution": {
     "iopub.execute_input": "2025-08-27T21:46:44.237931Z",
     "iopub.status.busy": "2025-08-27T21:46:44.237698Z",
     "iopub.status.idle": "2025-08-27T21:46:44.427047Z",
     "shell.execute_reply": "2025-08-27T21:46:44.426626Z"
    }
   },
   "outputs": [
    {
     "name": "stdout",
     "output_type": "stream",
     "text": [
      "lsmc Model <financepy.models.black_scholes.BlackScholes object at 0x0000023D448290F0>\n"
     ]
    },
    {
     "data": {
      "text/plain": [
       "np.float64(3.370852795803322)"
      ]
     },
     "execution_count": 38,
     "metadata": {},
     "output_type": "execute_result"
    }
   ],
   "source": [
    "europeanAmericanCallOption.value(value_dt, stock_price, discount_curve, dividend_curve, model)"
   ]
  },
  {
   "cell_type": "code",
   "execution_count": 39,
   "metadata": {
    "execution": {
     "iopub.execute_input": "2025-08-27T21:46:44.428810Z",
     "iopub.status.busy": "2025-08-27T21:46:44.428574Z",
     "iopub.status.idle": "2025-08-27T21:46:44.740570Z",
     "shell.execute_reply": "2025-08-27T21:46:44.740188Z"
    }
   },
   "outputs": [
    {
     "data": {
      "text/plain": [
       "np.float64(3.3460269746824265)"
      ]
     },
     "execution_count": 39,
     "metadata": {},
     "output_type": "execute_result"
    }
   ],
   "source": [
    "americanCallOption.value(value_dt, stock_price, discount_curve, dividend_curve, model)"
   ]
  },
  {
   "cell_type": "code",
   "execution_count": 40,
   "metadata": {
    "execution": {
     "iopub.execute_input": "2025-08-27T21:46:44.742526Z",
     "iopub.status.busy": "2025-08-27T21:46:44.742236Z",
     "iopub.status.idle": "2025-08-27T21:46:44.746354Z",
     "shell.execute_reply": "2025-08-27T21:46:44.745846Z"
    }
   },
   "outputs": [
    {
     "data": {
      "text/plain": [
       "np.float64(2.2031750852278296)"
      ]
     },
     "execution_count": 40,
     "metadata": {},
     "output_type": "execute_result"
    }
   ],
   "source": [
    "europeanPutOption.value(value_dt, stock_price, discount_curve, dividend_curve, model)"
   ]
  },
  {
   "cell_type": "code",
   "execution_count": 41,
   "metadata": {
    "execution": {
     "iopub.execute_input": "2025-08-27T21:46:44.747952Z",
     "iopub.status.busy": "2025-08-27T21:46:44.747756Z",
     "iopub.status.idle": "2025-08-27T21:46:44.937121Z",
     "shell.execute_reply": "2025-08-27T21:46:44.936739Z"
    }
   },
   "outputs": [
    {
     "name": "stdout",
     "output_type": "stream",
     "text": [
      "lsmc Model <financepy.models.black_scholes.BlackScholes object at 0x0000023D448290F0>\n"
     ]
    },
    {
     "data": {
      "text/plain": [
       "np.float64(2.1463697340894656)"
      ]
     },
     "execution_count": 41,
     "metadata": {},
     "output_type": "execute_result"
    }
   ],
   "source": [
    "europeanAmericanPutOption.value(value_dt, stock_price, discount_curve, dividend_curve, model)"
   ]
  },
  {
   "cell_type": "code",
   "execution_count": 42,
   "metadata": {
    "execution": {
     "iopub.execute_input": "2025-08-27T21:46:44.939149Z",
     "iopub.status.busy": "2025-08-27T21:46:44.938860Z",
     "iopub.status.idle": "2025-08-27T21:46:45.237306Z",
     "shell.execute_reply": "2025-08-27T21:46:45.236737Z"
    },
    "scrolled": false
   },
   "outputs": [
    {
     "data": {
      "text/plain": [
       "np.float64(2.210086160210043)"
      ]
     },
     "execution_count": 42,
     "metadata": {},
     "output_type": "execute_result"
    }
   ],
   "source": [
    "americanPutOption.value(value_dt, stock_price, discount_curve, dividend_curve, model)"
   ]
  },
  {
   "cell_type": "markdown",
   "metadata": {},
   "source": [
    "#### CRR Tree Model\n",
    "These prices should be the same. If we insist on using the Tree the price changes a bit"
   ]
  },
  {
   "cell_type": "code",
   "execution_count": 43,
   "metadata": {
    "execution": {
     "iopub.execute_input": "2025-08-27T21:46:45.239756Z",
     "iopub.status.busy": "2025-08-27T21:46:45.239358Z",
     "iopub.status.idle": "2025-08-27T21:46:45.242309Z",
     "shell.execute_reply": "2025-08-27T21:46:45.241834Z"
    }
   },
   "outputs": [],
   "source": [
    "model = BlackScholes(volatility, BlackScholesTypes.CRR_TREE)"
   ]
  },
  {
   "cell_type": "code",
   "execution_count": 44,
   "metadata": {
    "execution": {
     "iopub.execute_input": "2025-08-27T21:46:45.244093Z",
     "iopub.status.busy": "2025-08-27T21:46:45.243826Z",
     "iopub.status.idle": "2025-08-27T21:46:45.247609Z",
     "shell.execute_reply": "2025-08-27T21:46:45.247148Z"
    }
   },
   "outputs": [
    {
     "data": {
      "text/plain": [
       "np.float64(3.4276581469416914)"
      ]
     },
     "execution_count": 44,
     "metadata": {},
     "output_type": "execute_result"
    }
   ],
   "source": [
    "europeanCallOption.value(value_dt, stock_price, discount_curve, dividend_curve, model)"
   ]
  },
  {
   "cell_type": "code",
   "execution_count": 45,
   "metadata": {
    "execution": {
     "iopub.execute_input": "2025-08-27T21:46:45.249434Z",
     "iopub.status.busy": "2025-08-27T21:46:45.249218Z",
     "iopub.status.idle": "2025-08-27T21:46:45.252850Z",
     "shell.execute_reply": "2025-08-27T21:46:45.252388Z"
    }
   },
   "outputs": [
    {
     "data": {
      "text/plain": [
       "np.float64(3.427145909428062)"
      ]
     },
     "execution_count": 45,
     "metadata": {},
     "output_type": "execute_result"
    }
   ],
   "source": [
    "europeanAmericanCallOption.value(value_dt, stock_price, discount_curve, dividend_curve, model)"
   ]
  },
  {
   "cell_type": "code",
   "execution_count": 46,
   "metadata": {
    "execution": {
     "iopub.execute_input": "2025-08-27T21:46:45.254747Z",
     "iopub.status.busy": "2025-08-27T21:46:45.254477Z",
     "iopub.status.idle": "2025-08-27T21:46:45.258474Z",
     "shell.execute_reply": "2025-08-27T21:46:45.257959Z"
    }
   },
   "outputs": [
    {
     "data": {
      "text/plain": [
       "np.float64(3.427145909428062)"
      ]
     },
     "execution_count": 46,
     "metadata": {},
     "output_type": "execute_result"
    }
   ],
   "source": [
    "americanCallOption.value(value_dt, stock_price, discount_curve, dividend_curve, model)"
   ]
  },
  {
   "cell_type": "code",
   "execution_count": 47,
   "metadata": {
    "execution": {
     "iopub.execute_input": "2025-08-27T21:46:45.260510Z",
     "iopub.status.busy": "2025-08-27T21:46:45.260266Z",
     "iopub.status.idle": "2025-08-27T21:46:45.263778Z",
     "shell.execute_reply": "2025-08-27T21:46:45.263444Z"
    }
   },
   "outputs": [
    {
     "data": {
      "text/plain": [
       "np.float64(2.2031750852278296)"
      ]
     },
     "execution_count": 47,
     "metadata": {},
     "output_type": "execute_result"
    }
   ],
   "source": [
    "europeanPutOption.value(value_dt, stock_price, discount_curve, dividend_curve, model)"
   ]
  },
  {
   "cell_type": "code",
   "execution_count": 48,
   "metadata": {
    "execution": {
     "iopub.execute_input": "2025-08-27T21:46:45.265771Z",
     "iopub.status.busy": "2025-08-27T21:46:45.265444Z",
     "iopub.status.idle": "2025-08-27T21:46:45.269244Z",
     "shell.execute_reply": "2025-08-27T21:46:45.268655Z"
    }
   },
   "outputs": [
    {
     "data": {
      "text/plain": [
       "np.float64(2.2026628477140777)"
      ]
     },
     "execution_count": 48,
     "metadata": {},
     "output_type": "execute_result"
    }
   ],
   "source": [
    "europeanAmericanPutOption.value(value_dt, stock_price, discount_curve, dividend_curve, model)"
   ]
  },
  {
   "cell_type": "markdown",
   "metadata": {},
   "source": [
    "These prices should be the same even though one is using the BS formula and the other uses the CRR tree"
   ]
  },
  {
   "cell_type": "code",
   "execution_count": 49,
   "metadata": {
    "execution": {
     "iopub.execute_input": "2025-08-27T21:46:45.271010Z",
     "iopub.status.busy": "2025-08-27T21:46:45.270798Z",
     "iopub.status.idle": "2025-08-27T21:46:45.274550Z",
     "shell.execute_reply": "2025-08-27T21:46:45.274132Z"
    }
   },
   "outputs": [
    {
     "data": {
      "text/plain": [
       "np.float64(2.3227588252294726)"
      ]
     },
     "execution_count": 49,
     "metadata": {},
     "output_type": "execute_result"
    }
   ],
   "source": [
    "americanPutOption.value(value_dt, stock_price, discount_curve, dividend_curve, model)"
   ]
  },
  {
   "cell_type": "markdown",
   "metadata": {},
   "source": [
    "This price is higher as there is an advantage to exercising early when holding an American put"
   ]
  },
  {
   "cell_type": "markdown",
   "metadata": {},
   "source": [
    "## Risk Measures"
   ]
  },
  {
   "cell_type": "markdown",
   "metadata": {},
   "source": [
    "You can calculate the risk measures using using perturbatory analysis"
   ]
  },
  {
   "cell_type": "code",
   "execution_count": 50,
   "metadata": {
    "execution": {
     "iopub.execute_input": "2025-08-27T21:46:45.276348Z",
     "iopub.status.busy": "2025-08-27T21:46:45.276152Z",
     "iopub.status.idle": "2025-08-27T21:46:45.279593Z",
     "shell.execute_reply": "2025-08-27T21:46:45.279200Z"
    }
   },
   "outputs": [
    {
     "data": {
      "text/plain": [
       "np.float64(0.6240485077846358)"
      ]
     },
     "execution_count": 50,
     "metadata": {},
     "output_type": "execute_result"
    }
   ],
   "source": [
    "americanCallOption.delta(value_dt, stock_price, discount_curve, dividend_curve, model)"
   ]
  },
  {
   "cell_type": "code",
   "execution_count": 51,
   "metadata": {
    "execution": {
     "iopub.execute_input": "2025-08-27T21:46:45.281444Z",
     "iopub.status.busy": "2025-08-27T21:46:45.281171Z",
     "iopub.status.idle": "2025-08-27T21:46:45.284791Z",
     "shell.execute_reply": "2025-08-27T21:46:45.284431Z"
    }
   },
   "outputs": [
    {
     "data": {
      "text/plain": [
       "np.float64(534.1064689190489)"
      ]
     },
     "execution_count": 51,
     "metadata": {},
     "output_type": "execute_result"
    }
   ],
   "source": [
    "americanCallOption.gamma(value_dt, stock_price, discount_curve, dividend_curve, model)"
   ]
  },
  {
   "cell_type": "code",
   "execution_count": 52,
   "metadata": {
    "execution": {
     "iopub.execute_input": "2025-08-27T21:46:45.286381Z",
     "iopub.status.busy": "2025-08-27T21:46:45.286186Z",
     "iopub.status.idle": "2025-08-27T21:46:45.289382Z",
     "shell.execute_reply": "2025-08-27T21:46:45.289077Z"
    }
   },
   "outputs": [
    {
     "data": {
      "text/plain": [
       "np.float64(-4.0724784861637575)"
      ]
     },
     "execution_count": 52,
     "metadata": {},
     "output_type": "execute_result"
    }
   ],
   "source": [
    "americanCallOption.theta(value_dt, stock_price, discount_curve, dividend_curve, model)"
   ]
  },
  {
   "cell_type": "code",
   "execution_count": 53,
   "metadata": {
    "execution": {
     "iopub.execute_input": "2025-08-27T21:46:45.291159Z",
     "iopub.status.busy": "2025-08-27T21:46:45.290935Z",
     "iopub.status.idle": "2025-08-27T21:46:45.294796Z",
     "shell.execute_reply": "2025-08-27T21:46:45.294397Z"
    }
   },
   "outputs": [
    {
     "data": {
      "text/plain": [
       "np.float64(13.096682231981127)"
      ]
     },
     "execution_count": 53,
     "metadata": {},
     "output_type": "execute_result"
    }
   ],
   "source": [
    "americanCallOption.rho(value_dt, stock_price, discount_curve, dividend_curve, model)"
   ]
  },
  {
   "cell_type": "markdown",
   "metadata": {},
   "source": [
    "Copyright (c) 2020 Dominic O'Kane"
   ]
  },
  {
   "cell_type": "markdown",
   "metadata": {},
   "source": []
  }
 ],
 "metadata": {
  "kernelspec": {
   "display_name": "base",
   "language": "python",
   "name": "python3"
  },
  "language_info": {
   "codemirror_mode": {
    "name": "ipython",
    "version": 3
   },
   "file_extension": ".py",
   "mimetype": "text/x-python",
   "name": "python",
   "nbconvert_exporter": "python",
   "pygments_lexer": "ipython3",
   "version": "3.13.5"
  }
 },
 "nbformat": 4,
 "nbformat_minor": 2
}
