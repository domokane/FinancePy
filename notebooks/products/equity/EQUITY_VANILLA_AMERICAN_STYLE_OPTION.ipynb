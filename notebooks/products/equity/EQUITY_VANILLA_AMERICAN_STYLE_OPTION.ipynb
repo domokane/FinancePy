{
 "cells": [
  {
   "cell_type": "markdown",
   "metadata": {},
   "source": [
    "# EQUITY AMERICAN OPTIONS"
   ]
  },
  {
   "cell_type": "markdown",
   "metadata": {},
   "source": [
    "Valuation and Risk of American-style options on equity"
   ]
  },
  {
   "cell_type": "code",
   "execution_count": 1,
   "metadata": {
    "execution": {
     "iopub.execute_input": "2025-08-27T22:33:27.385197Z",
     "iopub.status.busy": "2025-08-27T22:33:27.384910Z",
     "iopub.status.idle": "2025-08-27T22:33:27.865367Z",
     "shell.execute_reply": "2025-08-27T22:33:27.864967Z"
    }
   },
   "outputs": [],
   "source": [
    "import numpy as np\n",
    "import matplotlib.pyplot as plt"
   ]
  },
  {
   "cell_type": "code",
   "execution_count": 2,
   "metadata": {
    "execution": {
     "iopub.execute_input": "2025-08-27T22:33:27.868039Z",
     "iopub.status.busy": "2025-08-27T22:33:27.867686Z",
     "iopub.status.idle": "2025-08-27T22:33:30.578303Z",
     "shell.execute_reply": "2025-08-27T22:33:30.577872Z"
    }
   },
   "outputs": [],
   "source": [
    "from financepy.utils import *\n",
    "from financepy.market.curves import *\n",
    "from financepy.products.equity import *\n",
    "from financepy.models.black_scholes import *\n",
    "from financepy.models.equity_lsmc import BoundaryFitTypes"
   ]
  },
  {
   "cell_type": "markdown",
   "metadata": {},
   "source": [
    "# Define the Call and Put Options"
   ]
  },
  {
   "cell_type": "code",
   "execution_count": 3,
   "metadata": {
    "execution": {
     "iopub.execute_input": "2025-08-27T22:33:30.580977Z",
     "iopub.status.busy": "2025-08-27T22:33:30.580588Z",
     "iopub.status.idle": "2025-08-27T22:33:30.599665Z",
     "shell.execute_reply": "2025-08-27T22:33:30.599208Z"
    }
   },
   "outputs": [],
   "source": [
    "value_dt = Date(1, 1, 2015)"
   ]
  },
  {
   "cell_type": "code",
   "execution_count": 4,
   "metadata": {
    "execution": {
     "iopub.execute_input": "2025-08-27T22:33:30.602205Z",
     "iopub.status.busy": "2025-08-27T22:33:30.601881Z",
     "iopub.status.idle": "2025-08-27T22:33:30.609740Z",
     "shell.execute_reply": "2025-08-27T22:33:30.609214Z"
    }
   },
   "outputs": [],
   "source": [
    "expiry_dt = value_dt.add_years(0.5)"
   ]
  },
  {
   "cell_type": "code",
   "execution_count": 5,
   "metadata": {
    "execution": {
     "iopub.execute_input": "2025-08-27T22:33:30.611898Z",
     "iopub.status.busy": "2025-08-27T22:33:30.611677Z",
     "iopub.status.idle": "2025-08-27T22:33:30.616319Z",
     "shell.execute_reply": "2025-08-27T22:33:30.615853Z"
    }
   },
   "outputs": [
    {
     "data": {
      "text/plain": [
       "01-JUL-2015"
      ]
     },
     "execution_count": 5,
     "metadata": {},
     "output_type": "execute_result"
    }
   ],
   "source": [
    "expiry_dt"
   ]
  },
  {
   "cell_type": "code",
   "execution_count": 6,
   "metadata": {
    "execution": {
     "iopub.execute_input": "2025-08-27T22:33:30.618364Z",
     "iopub.status.busy": "2025-08-27T22:33:30.618127Z",
     "iopub.status.idle": "2025-08-27T22:33:30.620695Z",
     "shell.execute_reply": "2025-08-27T22:33:30.620335Z"
    }
   },
   "outputs": [],
   "source": [
    "strike_price = 50.0"
   ]
  },
  {
   "cell_type": "code",
   "execution_count": 7,
   "metadata": {
    "execution": {
     "iopub.execute_input": "2025-08-27T22:33:30.622687Z",
     "iopub.status.busy": "2025-08-27T22:33:30.622417Z",
     "iopub.status.idle": "2025-08-27T22:33:30.625050Z",
     "shell.execute_reply": "2025-08-27T22:33:30.624722Z"
    }
   },
   "outputs": [],
   "source": [
    "EU_CALL = OptionTypes.EUROPEAN_CALL\n",
    "EU_PUT = OptionTypes.EUROPEAN_PUT"
   ]
  },
  {
   "cell_type": "markdown",
   "metadata": {},
   "source": [
    "Let's create a put and a call using the Vanilla class"
   ]
  },
  {
   "cell_type": "code",
   "execution_count": 8,
   "metadata": {
    "execution": {
     "iopub.execute_input": "2025-08-27T22:33:30.627022Z",
     "iopub.status.busy": "2025-08-27T22:33:30.626764Z",
     "iopub.status.idle": "2025-08-27T22:33:30.629566Z",
     "shell.execute_reply": "2025-08-27T22:33:30.629227Z"
    }
   },
   "outputs": [],
   "source": [
    "europeanCallOption = EquityVanillaOption(expiry_dt, strike_price, EU_CALL)"
   ]
  },
  {
   "cell_type": "code",
   "execution_count": 9,
   "metadata": {
    "execution": {
     "iopub.execute_input": "2025-08-27T22:33:30.631485Z",
     "iopub.status.busy": "2025-08-27T22:33:30.631212Z",
     "iopub.status.idle": "2025-08-27T22:33:30.633406Z",
     "shell.execute_reply": "2025-08-27T22:33:30.633000Z"
    }
   },
   "outputs": [],
   "source": [
    "europeanPutOption = EquityVanillaOption(expiry_dt, strike_price, EU_PUT)"
   ]
  },
  {
   "cell_type": "markdown",
   "metadata": {},
   "source": [
    "Now let's create a put and a call American and European option types using the American class"
   ]
  },
  {
   "cell_type": "code",
   "execution_count": 10,
   "metadata": {
    "execution": {
     "iopub.execute_input": "2025-08-27T22:33:30.635507Z",
     "iopub.status.busy": "2025-08-27T22:33:30.635140Z",
     "iopub.status.idle": "2025-08-27T22:33:30.637616Z",
     "shell.execute_reply": "2025-08-27T22:33:30.637267Z"
    }
   },
   "outputs": [],
   "source": [
    "europeanAmericanCallOption = EquityAmericanOption(expiry_dt, strike_price, EU_CALL)"
   ]
  },
  {
   "cell_type": "code",
   "execution_count": 11,
   "metadata": {
    "execution": {
     "iopub.execute_input": "2025-08-27T22:33:30.639065Z",
     "iopub.status.busy": "2025-08-27T22:33:30.638888Z",
     "iopub.status.idle": "2025-08-27T22:33:30.640994Z",
     "shell.execute_reply": "2025-08-27T22:33:30.640660Z"
    }
   },
   "outputs": [],
   "source": [
    "europeanAmericanPutOption = EquityAmericanOption(expiry_dt, strike_price, EU_PUT)"
   ]
  },
  {
   "cell_type": "code",
   "execution_count": 12,
   "metadata": {
    "execution": {
     "iopub.execute_input": "2025-08-27T22:33:30.643135Z",
     "iopub.status.busy": "2025-08-27T22:33:30.642712Z",
     "iopub.status.idle": "2025-08-27T22:33:30.645314Z",
     "shell.execute_reply": "2025-08-27T22:33:30.644934Z"
    }
   },
   "outputs": [],
   "source": [
    "americanCallOption = EquityAmericanOption(expiry_dt, strike_price, OptionTypes.AMERICAN_CALL)"
   ]
  },
  {
   "cell_type": "code",
   "execution_count": 13,
   "metadata": {
    "execution": {
     "iopub.execute_input": "2025-08-27T22:33:30.647467Z",
     "iopub.status.busy": "2025-08-27T22:33:30.647093Z",
     "iopub.status.idle": "2025-08-27T22:33:30.649567Z",
     "shell.execute_reply": "2025-08-27T22:33:30.649216Z"
    }
   },
   "outputs": [],
   "source": [
    "americanPutOption = EquityAmericanOption(expiry_dt, strike_price, OptionTypes.AMERICAN_PUT)"
   ]
  },
  {
   "cell_type": "code",
   "execution_count": 14,
   "metadata": {
    "execution": {
     "iopub.execute_input": "2025-08-27T22:33:30.650990Z",
     "iopub.status.busy": "2025-08-27T22:33:30.650811Z",
     "iopub.status.idle": "2025-08-27T22:33:30.654746Z",
     "shell.execute_reply": "2025-08-27T22:33:30.654274Z"
    }
   },
   "outputs": [
    {
     "name": "stdout",
     "output_type": "stream",
     "text": [
      "OBJECT TYPE: EquityAmericanOption\n",
      "EXPIRY DATE: 01-JUL-2015\n",
      "STRIKE PRICE: 50.0\n",
      "OPTION TYPE: OptionTypes.AMERICAN_CALL\n",
      "NUMBER: 1.0\n"
     ]
    }
   ],
   "source": [
    "print(americanCallOption)"
   ]
  },
  {
   "cell_type": "code",
   "execution_count": 15,
   "metadata": {
    "execution": {
     "iopub.execute_input": "2025-08-27T22:33:30.656873Z",
     "iopub.status.busy": "2025-08-27T22:33:30.656560Z",
     "iopub.status.idle": "2025-08-27T22:33:30.659101Z",
     "shell.execute_reply": "2025-08-27T22:33:30.658688Z"
    }
   },
   "outputs": [
    {
     "name": "stdout",
     "output_type": "stream",
     "text": [
      "OBJECT TYPE: EquityAmericanOption\n",
      "EXPIRY DATE: 01-JUL-2015\n",
      "STRIKE PRICE: 50.0\n",
      "OPTION TYPE: OptionTypes.AMERICAN_PUT\n",
      "NUMBER: 1.0\n"
     ]
    }
   ],
   "source": [
    "print(americanPutOption)"
   ]
  },
  {
   "cell_type": "markdown",
   "metadata": {},
   "source": [
    "## Valuation"
   ]
  },
  {
   "cell_type": "code",
   "execution_count": 16,
   "metadata": {
    "execution": {
     "iopub.execute_input": "2025-08-27T22:33:30.660864Z",
     "iopub.status.busy": "2025-08-27T22:33:30.660548Z",
     "iopub.status.idle": "2025-08-27T22:33:30.662875Z",
     "shell.execute_reply": "2025-08-27T22:33:30.662511Z"
    }
   },
   "outputs": [],
   "source": [
    "stock_price = 50.0\n",
    "volatility = 0.20\n",
    "interest_rate = 0.05\n",
    "dividend_yield = 0.0"
   ]
  },
  {
   "cell_type": "code",
   "execution_count": 17,
   "metadata": {
    "execution": {
     "iopub.execute_input": "2025-08-27T22:33:30.664913Z",
     "iopub.status.busy": "2025-08-27T22:33:30.664713Z",
     "iopub.status.idle": "2025-08-27T22:33:30.667961Z",
     "shell.execute_reply": "2025-08-27T22:33:30.667610Z"
    }
   },
   "outputs": [],
   "source": [
    "discount_curve = DiscountCurveFlat(value_dt, interest_rate)"
   ]
  },
  {
   "cell_type": "code",
   "execution_count": 18,
   "metadata": {
    "execution": {
     "iopub.execute_input": "2025-08-27T22:33:30.670045Z",
     "iopub.status.busy": "2025-08-27T22:33:30.669822Z",
     "iopub.status.idle": "2025-08-27T22:33:30.673385Z",
     "shell.execute_reply": "2025-08-27T22:33:30.672886Z"
    }
   },
   "outputs": [],
   "source": [
    "dividend_curve = DiscountCurveFlat(value_dt, dividend_yield)"
   ]
  },
  {
   "cell_type": "markdown",
   "metadata": {},
   "source": [
    "#### Analytic Model"
   ]
  },
  {
   "cell_type": "code",
   "execution_count": 19,
   "metadata": {
    "execution": {
     "iopub.execute_input": "2025-08-27T22:33:30.676008Z",
     "iopub.status.busy": "2025-08-27T22:33:30.675751Z",
     "iopub.status.idle": "2025-08-27T22:33:30.678453Z",
     "shell.execute_reply": "2025-08-27T22:33:30.678041Z"
    }
   },
   "outputs": [],
   "source": [
    "model = BlackScholes(volatility)"
   ]
  },
  {
   "cell_type": "code",
   "execution_count": 20,
   "metadata": {
    "execution": {
     "iopub.execute_input": "2025-08-27T22:33:30.680420Z",
     "iopub.status.busy": "2025-08-27T22:33:30.680219Z",
     "iopub.status.idle": "2025-08-27T22:33:30.683734Z",
     "shell.execute_reply": "2025-08-27T22:33:30.683355Z"
    }
   },
   "outputs": [
    {
     "data": {
      "text/plain": [
       "np.float64(3.4276581469416914)"
      ]
     },
     "execution_count": 20,
     "metadata": {},
     "output_type": "execute_result"
    }
   ],
   "source": [
    "europeanCallOption.value(value_dt, stock_price, discount_curve, dividend_curve, model)"
   ]
  },
  {
   "cell_type": "code",
   "execution_count": 21,
   "metadata": {
    "execution": {
     "iopub.execute_input": "2025-08-27T22:33:30.685176Z",
     "iopub.status.busy": "2025-08-27T22:33:30.684995Z",
     "iopub.status.idle": "2025-08-27T22:33:30.688507Z",
     "shell.execute_reply": "2025-08-27T22:33:30.688128Z"
    }
   },
   "outputs": [
    {
     "data": {
      "text/plain": [
       "np.float64(3.4276581469416914)"
      ]
     },
     "execution_count": 21,
     "metadata": {},
     "output_type": "execute_result"
    }
   ],
   "source": [
    "europeanAmericanCallOption.value(value_dt, stock_price, discount_curve, dividend_curve, model)"
   ]
  },
  {
   "cell_type": "markdown",
   "metadata": {},
   "source": [
    "#### Finite Difference Model"
   ]
  },
  {
   "cell_type": "code",
   "execution_count": 22,
   "metadata": {
    "execution": {
     "iopub.execute_input": "2025-08-27T22:33:30.690812Z",
     "iopub.status.busy": "2025-08-27T22:33:30.690538Z",
     "iopub.status.idle": "2025-08-27T22:33:30.693188Z",
     "shell.execute_reply": "2025-08-27T22:33:30.692808Z"
    }
   },
   "outputs": [],
   "source": [
    "params = {\n",
    "    'num_samples': 2000,\n",
    "    'theta': 0.5\n",
    "}\n",
    "model = BlackScholes(volatility,\n",
    "                     bs_type=BlackScholesTypes.FINITE_DIFFERENCE,\n",
    "                     params=params)"
   ]
  },
  {
   "cell_type": "code",
   "execution_count": 23,
   "metadata": {
    "execution": {
     "iopub.execute_input": "2025-08-27T22:33:30.695124Z",
     "iopub.status.busy": "2025-08-27T22:33:30.694905Z",
     "iopub.status.idle": "2025-08-27T22:33:30.698253Z",
     "shell.execute_reply": "2025-08-27T22:33:30.697882Z"
    }
   },
   "outputs": [
    {
     "data": {
      "text/plain": [
       "np.float64(3.4276581469416914)"
      ]
     },
     "execution_count": 23,
     "metadata": {},
     "output_type": "execute_result"
    }
   ],
   "source": [
    "europeanCallOption.value(value_dt, stock_price, discount_curve, dividend_curve, model)"
   ]
  },
  {
   "cell_type": "code",
   "execution_count": 24,
   "metadata": {
    "execution": {
     "iopub.execute_input": "2025-08-27T22:33:30.700185Z",
     "iopub.status.busy": "2025-08-27T22:33:30.699857Z",
     "iopub.status.idle": "2025-08-27T22:33:31.676182Z",
     "shell.execute_reply": "2025-08-27T22:33:31.675741Z"
    }
   },
   "outputs": [
    {
     "data": {
      "text/plain": [
       "np.float64(3.4276540933597364)"
      ]
     },
     "execution_count": 24,
     "metadata": {},
     "output_type": "execute_result"
    }
   ],
   "source": [
    "europeanAmericanCallOption.value(value_dt, stock_price, discount_curve, dividend_curve, model)"
   ]
  },
  {
   "cell_type": "code",
   "execution_count": 25,
   "metadata": {
    "execution": {
     "iopub.execute_input": "2025-08-27T22:33:31.678114Z",
     "iopub.status.busy": "2025-08-27T22:33:31.677841Z",
     "iopub.status.idle": "2025-08-27T22:33:31.717521Z",
     "shell.execute_reply": "2025-08-27T22:33:31.717074Z"
    }
   },
   "outputs": [
    {
     "data": {
      "text/plain": [
       "np.float64(3.4276540933597364)"
      ]
     },
     "execution_count": 25,
     "metadata": {},
     "output_type": "execute_result"
    }
   ],
   "source": [
    "americanCallOption.value(value_dt, stock_price, discount_curve, dividend_curve, model)"
   ]
  },
  {
   "cell_type": "code",
   "execution_count": 26,
   "metadata": {
    "execution": {
     "iopub.execute_input": "2025-08-27T22:33:31.719313Z",
     "iopub.status.busy": "2025-08-27T22:33:31.719105Z",
     "iopub.status.idle": "2025-08-27T22:33:31.722399Z",
     "shell.execute_reply": "2025-08-27T22:33:31.721931Z"
    }
   },
   "outputs": [
    {
     "data": {
      "text/plain": [
       "np.float64(2.2031750852278296)"
      ]
     },
     "execution_count": 26,
     "metadata": {},
     "output_type": "execute_result"
    }
   ],
   "source": [
    "europeanPutOption.value(value_dt, stock_price, discount_curve, dividend_curve, model)"
   ]
  },
  {
   "cell_type": "code",
   "execution_count": 27,
   "metadata": {
    "execution": {
     "iopub.execute_input": "2025-08-27T22:33:31.724719Z",
     "iopub.status.busy": "2025-08-27T22:33:31.724403Z",
     "iopub.status.idle": "2025-08-27T22:33:31.761578Z",
     "shell.execute_reply": "2025-08-27T22:33:31.761254Z"
    }
   },
   "outputs": [
    {
     "data": {
      "text/plain": [
       "np.float64(2.203171031583638)"
      ]
     },
     "execution_count": 27,
     "metadata": {},
     "output_type": "execute_result"
    }
   ],
   "source": [
    "europeanAmericanPutOption.value(value_dt, stock_price, discount_curve, dividend_curve, model)"
   ]
  },
  {
   "cell_type": "code",
   "execution_count": 28,
   "metadata": {
    "execution": {
     "iopub.execute_input": "2025-08-27T22:33:31.763620Z",
     "iopub.status.busy": "2025-08-27T22:33:31.763252Z",
     "iopub.status.idle": "2025-08-27T22:33:31.805322Z",
     "shell.execute_reply": "2025-08-27T22:33:31.804825Z"
    },
    "scrolled": false
   },
   "outputs": [
    {
     "data": {
      "text/plain": [
       "np.float64(2.3199039052498955)"
      ]
     },
     "execution_count": 28,
     "metadata": {},
     "output_type": "execute_result"
    }
   ],
   "source": [
    "americanPutOption.value(value_dt, stock_price, discount_curve, dividend_curve, model)"
   ]
  },
  {
   "cell_type": "markdown",
   "metadata": {},
   "source": [
    "#### PSOR Model"
   ]
  },
  {
   "cell_type": "code",
   "execution_count": 29,
   "metadata": {
    "execution": {
     "iopub.execute_input": "2025-08-27T22:33:31.807197Z",
     "iopub.status.busy": "2025-08-27T22:33:31.806938Z",
     "iopub.status.idle": "2025-08-27T22:33:31.809995Z",
     "shell.execute_reply": "2025-08-27T22:33:31.809603Z"
    }
   },
   "outputs": [],
   "source": [
    "params = {\n",
    "    'theta': 0.5,\n",
    "    'num_samples': 2000,\n",
    "}\n",
    "model = BlackScholes(volatility,\n",
    "                     bs_type=BlackScholesTypes.PSOR,\n",
    "                     params=params)"
   ]
  },
  {
   "cell_type": "code",
   "execution_count": 30,
   "metadata": {
    "execution": {
     "iopub.execute_input": "2025-08-27T22:33:31.811988Z",
     "iopub.status.busy": "2025-08-27T22:33:31.811772Z",
     "iopub.status.idle": "2025-08-27T22:33:31.815110Z",
     "shell.execute_reply": "2025-08-27T22:33:31.814697Z"
    }
   },
   "outputs": [
    {
     "data": {
      "text/plain": [
       "np.float64(3.4276581469416914)"
      ]
     },
     "execution_count": 30,
     "metadata": {},
     "output_type": "execute_result"
    }
   ],
   "source": [
    "europeanCallOption.value(value_dt, stock_price, discount_curve, dividend_curve, model)"
   ]
  },
  {
   "cell_type": "code",
   "execution_count": 31,
   "metadata": {
    "execution": {
     "iopub.execute_input": "2025-08-27T22:33:31.817159Z",
     "iopub.status.busy": "2025-08-27T22:33:31.816966Z",
     "iopub.status.idle": "2025-08-27T22:33:33.534711Z",
     "shell.execute_reply": "2025-08-27T22:33:33.534216Z"
    }
   },
   "outputs": [
    {
     "data": {
      "text/plain": [
       "np.float64(3.4276542220179453)"
      ]
     },
     "execution_count": 31,
     "metadata": {},
     "output_type": "execute_result"
    }
   ],
   "source": [
    "europeanAmericanCallOption.value(value_dt, stock_price, discount_curve, dividend_curve, model)"
   ]
  },
  {
   "cell_type": "code",
   "execution_count": 32,
   "metadata": {
    "execution": {
     "iopub.execute_input": "2025-08-27T22:33:33.536728Z",
     "iopub.status.busy": "2025-08-27T22:33:33.536491Z",
     "iopub.status.idle": "2025-08-27T22:33:33.923983Z",
     "shell.execute_reply": "2025-08-27T22:33:33.923354Z"
    }
   },
   "outputs": [
    {
     "data": {
      "text/plain": [
       "np.float64(3.4276542239744794)"
      ]
     },
     "execution_count": 32,
     "metadata": {},
     "output_type": "execute_result"
    }
   ],
   "source": [
    "americanCallOption.value(value_dt, stock_price, discount_curve, dividend_curve, model)"
   ]
  },
  {
   "cell_type": "code",
   "execution_count": 33,
   "metadata": {
    "execution": {
     "iopub.execute_input": "2025-08-27T22:33:33.926199Z",
     "iopub.status.busy": "2025-08-27T22:33:33.925910Z",
     "iopub.status.idle": "2025-08-27T22:33:33.930572Z",
     "shell.execute_reply": "2025-08-27T22:33:33.930051Z"
    }
   },
   "outputs": [
    {
     "data": {
      "text/plain": [
       "np.float64(2.2031750852278296)"
      ]
     },
     "execution_count": 33,
     "metadata": {},
     "output_type": "execute_result"
    }
   ],
   "source": [
    "europeanPutOption.value(value_dt, stock_price, discount_curve, dividend_curve, model)"
   ]
  },
  {
   "cell_type": "code",
   "execution_count": 34,
   "metadata": {
    "execution": {
     "iopub.execute_input": "2025-08-27T22:33:33.932265Z",
     "iopub.status.busy": "2025-08-27T22:33:33.932053Z",
     "iopub.status.idle": "2025-08-27T22:33:34.294434Z",
     "shell.execute_reply": "2025-08-27T22:33:34.293824Z"
    }
   },
   "outputs": [
    {
     "data": {
      "text/plain": [
       "np.float64(2.203170641109721)"
      ]
     },
     "execution_count": 34,
     "metadata": {},
     "output_type": "execute_result"
    }
   ],
   "source": [
    "europeanAmericanPutOption.value(value_dt, stock_price, discount_curve, dividend_curve, model)"
   ]
  },
  {
   "cell_type": "code",
   "execution_count": 35,
   "metadata": {
    "execution": {
     "iopub.execute_input": "2025-08-27T22:33:34.296615Z",
     "iopub.status.busy": "2025-08-27T22:33:34.296364Z",
     "iopub.status.idle": "2025-08-27T22:33:34.785831Z",
     "shell.execute_reply": "2025-08-27T22:33:34.785107Z"
    },
    "scrolled": false
   },
   "outputs": [
    {
     "data": {
      "text/plain": [
       "np.float64(2.3197617864943965)"
      ]
     },
     "execution_count": 35,
     "metadata": {},
     "output_type": "execute_result"
    }
   ],
   "source": [
    "americanPutOption.value(value_dt, stock_price, discount_curve, dividend_curve, model)"
   ]
  },
  {
   "cell_type": "markdown",
   "metadata": {},
   "source": [
    "#### LSMC Model"
   ]
  },
  {
   "cell_type": "code",
   "execution_count": 36,
   "metadata": {
    "execution": {
     "iopub.execute_input": "2025-08-27T22:33:34.787902Z",
     "iopub.status.busy": "2025-08-27T22:33:34.787603Z",
     "iopub.status.idle": "2025-08-27T22:33:34.790987Z",
     "shell.execute_reply": "2025-08-27T22:33:34.790439Z"
    }
   },
   "outputs": [],
   "source": [
    "model = BlackScholes(volatility,\n",
    "                     num_steps_per_year=52,\n",
    "                     num_paths=50_000,\n",
    "                     bs_type=BlackScholesTypes.LSMC,\n",
    "                     params={\"fit_type_value\": BoundaryFitTypes.LAGUERRE.value,\n",
    "                             \"poly_degree\": 3,\n",
    "                             })"
   ]
  },
  {
   "cell_type": "code",
   "execution_count": 37,
   "metadata": {
    "execution": {
     "iopub.execute_input": "2025-08-27T22:33:34.793241Z",
     "iopub.status.busy": "2025-08-27T22:33:34.792958Z",
     "iopub.status.idle": "2025-08-27T22:33:34.797370Z",
     "shell.execute_reply": "2025-08-27T22:33:34.796626Z"
    }
   },
   "outputs": [
    {
     "data": {
      "text/plain": [
       "np.float64(3.4276581469416914)"
      ]
     },
     "execution_count": 37,
     "metadata": {},
     "output_type": "execute_result"
    }
   ],
   "source": [
    "europeanCallOption.value(value_dt, stock_price, discount_curve, dividend_curve, model)"
   ]
  },
  {
   "cell_type": "code",
   "execution_count": 38,
   "metadata": {
    "execution": {
     "iopub.execute_input": "2025-08-27T22:33:34.799594Z",
     "iopub.status.busy": "2025-08-27T22:33:34.799309Z",
     "iopub.status.idle": "2025-08-27T22:33:35.032072Z",
     "shell.execute_reply": "2025-08-27T22:33:35.031654Z"
    }
   },
   "outputs": [
    {
     "name": "stdout",
     "output_type": "stream",
     "text": [
      "lsmc Model <financepy.models.black_scholes.BlackScholes object at 0x00000185726B90F0>\n"
     ]
    },
    {
     "data": {
      "text/plain": [
       "np.float64(3.370852795803322)"
      ]
     },
     "execution_count": 38,
     "metadata": {},
     "output_type": "execute_result"
    }
   ],
   "source": [
    "europeanAmericanCallOption.value(value_dt, stock_price, discount_curve, dividend_curve, model)"
   ]
  },
  {
   "cell_type": "code",
   "execution_count": 39,
   "metadata": {
    "execution": {
     "iopub.execute_input": "2025-08-27T22:33:35.034177Z",
     "iopub.status.busy": "2025-08-27T22:33:35.033907Z",
     "iopub.status.idle": "2025-08-27T22:33:35.395441Z",
     "shell.execute_reply": "2025-08-27T22:33:35.394758Z"
    }
   },
   "outputs": [
    {
     "data": {
      "text/plain": [
       "np.float64(3.3460269746824265)"
      ]
     },
     "execution_count": 39,
     "metadata": {},
     "output_type": "execute_result"
    }
   ],
   "source": [
    "americanCallOption.value(value_dt, stock_price, discount_curve, dividend_curve, model)"
   ]
  },
  {
   "cell_type": "code",
   "execution_count": 40,
   "metadata": {
    "execution": {
     "iopub.execute_input": "2025-08-27T22:33:35.397797Z",
     "iopub.status.busy": "2025-08-27T22:33:35.397441Z",
     "iopub.status.idle": "2025-08-27T22:33:35.401886Z",
     "shell.execute_reply": "2025-08-27T22:33:35.401418Z"
    }
   },
   "outputs": [
    {
     "data": {
      "text/plain": [
       "np.float64(2.2031750852278296)"
      ]
     },
     "execution_count": 40,
     "metadata": {},
     "output_type": "execute_result"
    }
   ],
   "source": [
    "europeanPutOption.value(value_dt, stock_price, discount_curve, dividend_curve, model)"
   ]
  },
  {
   "cell_type": "code",
   "execution_count": 41,
   "metadata": {
    "execution": {
     "iopub.execute_input": "2025-08-27T22:33:35.403819Z",
     "iopub.status.busy": "2025-08-27T22:33:35.403576Z",
     "iopub.status.idle": "2025-08-27T22:33:35.644380Z",
     "shell.execute_reply": "2025-08-27T22:33:35.643875Z"
    }
   },
   "outputs": [
    {
     "name": "stdout",
     "output_type": "stream",
     "text": [
      "lsmc Model <financepy.models.black_scholes.BlackScholes object at 0x00000185726B90F0>\n"
     ]
    },
    {
     "data": {
      "text/plain": [
       "np.float64(2.1463697340894656)"
      ]
     },
     "execution_count": 41,
     "metadata": {},
     "output_type": "execute_result"
    }
   ],
   "source": [
    "europeanAmericanPutOption.value(value_dt, stock_price, discount_curve, dividend_curve, model)"
   ]
  },
  {
   "cell_type": "code",
   "execution_count": 42,
   "metadata": {
    "execution": {
     "iopub.execute_input": "2025-08-27T22:33:35.646522Z",
     "iopub.status.busy": "2025-08-27T22:33:35.646286Z",
     "iopub.status.idle": "2025-08-27T22:33:36.024855Z",
     "shell.execute_reply": "2025-08-27T22:33:36.024287Z"
    },
    "scrolled": false
   },
   "outputs": [
    {
     "data": {
      "text/plain": [
       "np.float64(2.210086160210043)"
      ]
     },
     "execution_count": 42,
     "metadata": {},
     "output_type": "execute_result"
    }
   ],
   "source": [
    "americanPutOption.value(value_dt, stock_price, discount_curve, dividend_curve, model)"
   ]
  },
  {
   "cell_type": "markdown",
   "metadata": {},
   "source": [
    "#### CRR Tree Model\n",
    "These prices should be the same. If we insist on using the Tree the price changes a bit"
   ]
  },
  {
   "cell_type": "code",
   "execution_count": 43,
   "metadata": {
    "execution": {
     "iopub.execute_input": "2025-08-27T22:33:36.027215Z",
     "iopub.status.busy": "2025-08-27T22:33:36.026941Z",
     "iopub.status.idle": "2025-08-27T22:33:36.029975Z",
     "shell.execute_reply": "2025-08-27T22:33:36.029563Z"
    }
   },
   "outputs": [],
   "source": [
    "model = BlackScholes(volatility, BlackScholesTypes.CRR_TREE)"
   ]
  },
  {
   "cell_type": "code",
   "execution_count": 44,
   "metadata": {
    "execution": {
     "iopub.execute_input": "2025-08-27T22:33:36.031961Z",
     "iopub.status.busy": "2025-08-27T22:33:36.031711Z",
     "iopub.status.idle": "2025-08-27T22:33:36.035740Z",
     "shell.execute_reply": "2025-08-27T22:33:36.035257Z"
    }
   },
   "outputs": [
    {
     "data": {
      "text/plain": [
       "np.float64(3.4276581469416914)"
      ]
     },
     "execution_count": 44,
     "metadata": {},
     "output_type": "execute_result"
    }
   ],
   "source": [
    "europeanCallOption.value(value_dt, stock_price, discount_curve, dividend_curve, model)"
   ]
  },
  {
   "cell_type": "code",
   "execution_count": 45,
   "metadata": {
    "execution": {
     "iopub.execute_input": "2025-08-27T22:33:36.037960Z",
     "iopub.status.busy": "2025-08-27T22:33:36.037690Z",
     "iopub.status.idle": "2025-08-27T22:33:36.042110Z",
     "shell.execute_reply": "2025-08-27T22:33:36.041493Z"
    }
   },
   "outputs": [
    {
     "data": {
      "text/plain": [
       "np.float64(3.427145909428062)"
      ]
     },
     "execution_count": 45,
     "metadata": {},
     "output_type": "execute_result"
    }
   ],
   "source": [
    "europeanAmericanCallOption.value(value_dt, stock_price, discount_curve, dividend_curve, model)"
   ]
  },
  {
   "cell_type": "code",
   "execution_count": 46,
   "metadata": {
    "execution": {
     "iopub.execute_input": "2025-08-27T22:33:36.044121Z",
     "iopub.status.busy": "2025-08-27T22:33:36.043855Z",
     "iopub.status.idle": "2025-08-27T22:33:36.047761Z",
     "shell.execute_reply": "2025-08-27T22:33:36.047237Z"
    }
   },
   "outputs": [
    {
     "data": {
      "text/plain": [
       "np.float64(3.427145909428062)"
      ]
     },
     "execution_count": 46,
     "metadata": {},
     "output_type": "execute_result"
    }
   ],
   "source": [
    "americanCallOption.value(value_dt, stock_price, discount_curve, dividend_curve, model)"
   ]
  },
  {
   "cell_type": "code",
   "execution_count": 47,
   "metadata": {
    "execution": {
     "iopub.execute_input": "2025-08-27T22:33:36.049851Z",
     "iopub.status.busy": "2025-08-27T22:33:36.049601Z",
     "iopub.status.idle": "2025-08-27T22:33:36.054344Z",
     "shell.execute_reply": "2025-08-27T22:33:36.053791Z"
    }
   },
   "outputs": [
    {
     "data": {
      "text/plain": [
       "np.float64(2.2031750852278296)"
      ]
     },
     "execution_count": 47,
     "metadata": {},
     "output_type": "execute_result"
    }
   ],
   "source": [
    "europeanPutOption.value(value_dt, stock_price, discount_curve, dividend_curve, model)"
   ]
  },
  {
   "cell_type": "code",
   "execution_count": 48,
   "metadata": {
    "execution": {
     "iopub.execute_input": "2025-08-27T22:33:36.056545Z",
     "iopub.status.busy": "2025-08-27T22:33:36.056269Z",
     "iopub.status.idle": "2025-08-27T22:33:36.060324Z",
     "shell.execute_reply": "2025-08-27T22:33:36.059802Z"
    }
   },
   "outputs": [
    {
     "data": {
      "text/plain": [
       "np.float64(2.2026628477140777)"
      ]
     },
     "execution_count": 48,
     "metadata": {},
     "output_type": "execute_result"
    }
   ],
   "source": [
    "europeanAmericanPutOption.value(value_dt, stock_price, discount_curve, dividend_curve, model)"
   ]
  },
  {
   "cell_type": "markdown",
   "metadata": {},
   "source": [
    "These prices should be the same even though one is using the BS formula and the other uses the CRR tree"
   ]
  },
  {
   "cell_type": "code",
   "execution_count": 49,
   "metadata": {
    "execution": {
     "iopub.execute_input": "2025-08-27T22:33:36.062503Z",
     "iopub.status.busy": "2025-08-27T22:33:36.062219Z",
     "iopub.status.idle": "2025-08-27T22:33:36.066595Z",
     "shell.execute_reply": "2025-08-27T22:33:36.066077Z"
    }
   },
   "outputs": [
    {
     "data": {
      "text/plain": [
       "np.float64(2.3227588252294726)"
      ]
     },
     "execution_count": 49,
     "metadata": {},
     "output_type": "execute_result"
    }
   ],
   "source": [
    "americanPutOption.value(value_dt, stock_price, discount_curve, dividend_curve, model)"
   ]
  },
  {
   "cell_type": "markdown",
   "metadata": {},
   "source": [
    "This price is higher as there is an advantage to exercising early when holding an American put"
   ]
  },
  {
   "cell_type": "markdown",
   "metadata": {},
   "source": [
    "## Risk Measures"
   ]
  },
  {
   "cell_type": "markdown",
   "metadata": {},
   "source": [
    "You can calculate the risk measures using using perturbatory analysis"
   ]
  },
  {
   "cell_type": "code",
   "execution_count": 50,
   "metadata": {
    "execution": {
     "iopub.execute_input": "2025-08-27T22:33:36.069390Z",
     "iopub.status.busy": "2025-08-27T22:33:36.069167Z",
     "iopub.status.idle": "2025-08-27T22:33:36.073356Z",
     "shell.execute_reply": "2025-08-27T22:33:36.072657Z"
    }
   },
   "outputs": [
    {
     "data": {
      "text/plain": [
       "np.float64(0.6240485077846358)"
      ]
     },
     "execution_count": 50,
     "metadata": {},
     "output_type": "execute_result"
    }
   ],
   "source": [
    "americanCallOption.delta(value_dt, stock_price, discount_curve, dividend_curve, model)"
   ]
  },
  {
   "cell_type": "code",
   "execution_count": 51,
   "metadata": {
    "execution": {
     "iopub.execute_input": "2025-08-27T22:33:36.075624Z",
     "iopub.status.busy": "2025-08-27T22:33:36.075265Z",
     "iopub.status.idle": "2025-08-27T22:33:36.079888Z",
     "shell.execute_reply": "2025-08-27T22:33:36.079450Z"
    }
   },
   "outputs": [
    {
     "data": {
      "text/plain": [
       "np.float64(534.1064689190489)"
      ]
     },
     "execution_count": 51,
     "metadata": {},
     "output_type": "execute_result"
    }
   ],
   "source": [
    "americanCallOption.gamma(value_dt, stock_price, discount_curve, dividend_curve, model)"
   ]
  },
  {
   "cell_type": "code",
   "execution_count": 52,
   "metadata": {
    "execution": {
     "iopub.execute_input": "2025-08-27T22:33:36.082178Z",
     "iopub.status.busy": "2025-08-27T22:33:36.081912Z",
     "iopub.status.idle": "2025-08-27T22:33:36.086234Z",
     "shell.execute_reply": "2025-08-27T22:33:36.085714Z"
    }
   },
   "outputs": [
    {
     "data": {
      "text/plain": [
       "np.float64(-4.0724784861637575)"
      ]
     },
     "execution_count": 52,
     "metadata": {},
     "output_type": "execute_result"
    }
   ],
   "source": [
    "americanCallOption.theta(value_dt, stock_price, discount_curve, dividend_curve, model)"
   ]
  },
  {
   "cell_type": "code",
   "execution_count": 53,
   "metadata": {
    "execution": {
     "iopub.execute_input": "2025-08-27T22:33:36.088683Z",
     "iopub.status.busy": "2025-08-27T22:33:36.088363Z",
     "iopub.status.idle": "2025-08-27T22:33:36.093093Z",
     "shell.execute_reply": "2025-08-27T22:33:36.092548Z"
    }
   },
   "outputs": [
    {
     "data": {
      "text/plain": [
       "np.float64(13.096682231981127)"
      ]
     },
     "execution_count": 53,
     "metadata": {},
     "output_type": "execute_result"
    }
   ],
   "source": [
    "americanCallOption.rho(value_dt, stock_price, discount_curve, dividend_curve, model)"
   ]
  },
  {
   "cell_type": "markdown",
   "metadata": {},
   "source": [
    "Copyright (c) 2020 Dominic O'Kane"
   ]
  },
  {
   "cell_type": "markdown",
   "metadata": {},
   "source": []
  }
 ],
 "metadata": {
  "kernelspec": {
   "display_name": "base",
   "language": "python",
   "name": "python3"
  },
  "language_info": {
   "codemirror_mode": {
    "name": "ipython",
    "version": 3
   },
   "file_extension": ".py",
   "mimetype": "text/x-python",
   "name": "python",
   "nbconvert_exporter": "python",
   "pygments_lexer": "ipython3",
   "version": "3.13.5"
  }
 },
 "nbformat": 4,
 "nbformat_minor": 2
}
