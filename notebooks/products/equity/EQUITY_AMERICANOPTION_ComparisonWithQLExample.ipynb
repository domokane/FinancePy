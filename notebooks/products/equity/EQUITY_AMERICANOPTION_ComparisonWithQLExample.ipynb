{
 "cells": [
  {
   "cell_type": "markdown",
   "metadata": {},
   "source": [
    "# EQUITY AMERICAN OPTION - QL COMPARISON"
   ]
  },
  {
   "cell_type": "markdown",
   "metadata": {},
   "source": [
    "Valuation and Risk of American-style options on equity compared with example at\n",
    "http://gouthamanbalaraman.com/blog/american-option-pricing-quantlib-python.html"
   ]
  },
  {
   "cell_type": "code",
   "execution_count": 1,
   "metadata": {
    "execution": {
     "iopub.execute_input": "2025-09-14T22:22:08.806400Z",
     "iopub.status.busy": "2025-09-14T22:22:08.806271Z",
     "iopub.status.idle": "2025-09-14T22:22:09.029266Z",
     "shell.execute_reply": "2025-09-14T22:22:09.028393Z"
    }
   },
   "outputs": [],
   "source": [
    "import numpy as np\n",
    "import matplotlib.pyplot as plt"
   ]
  },
  {
   "cell_type": "code",
   "execution_count": 2,
   "metadata": {
    "execution": {
     "iopub.execute_input": "2025-09-14T22:22:09.032522Z",
     "iopub.status.busy": "2025-09-14T22:22:09.032292Z",
     "iopub.status.idle": "2025-09-14T22:22:11.089212Z",
     "shell.execute_reply": "2025-09-14T22:22:11.088738Z"
    }
   },
   "outputs": [],
   "source": [
    "from financepy.utils import *\n",
    "from financepy.market.curves.discount_curve_flat import DiscountCurveFlat\n",
    "from financepy.products.equity import *\n",
    "from financepy.models.black_scholes import *"
   ]
  },
  {
   "cell_type": "markdown",
   "metadata": {},
   "source": [
    "# Define the Call and Put Options"
   ]
  },
  {
   "cell_type": "code",
   "execution_count": 3,
   "metadata": {
    "execution": {
     "iopub.execute_input": "2025-09-14T22:22:11.091708Z",
     "iopub.status.busy": "2025-09-14T22:22:11.091311Z",
     "iopub.status.idle": "2025-09-14T22:22:11.110103Z",
     "shell.execute_reply": "2025-09-14T22:22:11.109680Z"
    }
   },
   "outputs": [],
   "source": [
    "value_dt = Date(8, 5, 2015)"
   ]
  },
  {
   "cell_type": "code",
   "execution_count": 4,
   "metadata": {
    "execution": {
     "iopub.execute_input": "2025-09-14T22:22:11.111926Z",
     "iopub.status.busy": "2025-09-14T22:22:11.111757Z",
     "iopub.status.idle": "2025-09-14T22:22:11.114202Z",
     "shell.execute_reply": "2025-09-14T22:22:11.113818Z"
    }
   },
   "outputs": [],
   "source": [
    "expiry_dt = Date(15, 1, 2016)"
   ]
  },
  {
   "cell_type": "code",
   "execution_count": 5,
   "metadata": {
    "execution": {
     "iopub.execute_input": "2025-09-14T22:22:11.115442Z",
     "iopub.status.busy": "2025-09-14T22:22:11.115303Z",
     "iopub.status.idle": "2025-09-14T22:22:11.117803Z",
     "shell.execute_reply": "2025-09-14T22:22:11.117064Z"
    }
   },
   "outputs": [],
   "source": [
    "strike_price = 130"
   ]
  },
  {
   "cell_type": "markdown",
   "metadata": {},
   "source": [
    "Create the call Option"
   ]
  },
  {
   "cell_type": "code",
   "execution_count": 6,
   "metadata": {
    "execution": {
     "iopub.execute_input": "2025-09-14T22:22:11.119800Z",
     "iopub.status.busy": "2025-09-14T22:22:11.119565Z",
     "iopub.status.idle": "2025-09-14T22:22:11.122417Z",
     "shell.execute_reply": "2025-09-14T22:22:11.122073Z"
    }
   },
   "outputs": [],
   "source": [
    "amCallOption = EquityAmericanOption(expiry_dt, strike_price, OptionTypes.AMERICAN_CALL)"
   ]
  },
  {
   "cell_type": "code",
   "execution_count": 7,
   "metadata": {
    "execution": {
     "iopub.execute_input": "2025-09-14T22:22:11.123678Z",
     "iopub.status.busy": "2025-09-14T22:22:11.123551Z",
     "iopub.status.idle": "2025-09-14T22:22:11.126722Z",
     "shell.execute_reply": "2025-09-14T22:22:11.126418Z"
    }
   },
   "outputs": [
    {
     "name": "stdout",
     "output_type": "stream",
     "text": [
      "OBJECT TYPE: EquityAmericanOption\n",
      "EXPIRY DATE: 15-JAN-2016\n",
      "STRIKE PRICE: 130\n",
      "OPTION TYPE: OptionTypes.AMERICAN_CALL\n",
      "NUMBER: 1.0\n"
     ]
    }
   ],
   "source": [
    "print(amCallOption)"
   ]
  },
  {
   "cell_type": "markdown",
   "metadata": {},
   "source": [
    "We can also define an American option with a European payoff - this way we will use the same CRR tree for the pricing."
   ]
  },
  {
   "cell_type": "code",
   "execution_count": 8,
   "metadata": {
    "execution": {
     "iopub.execute_input": "2025-09-14T22:22:11.128618Z",
     "iopub.status.busy": "2025-09-14T22:22:11.128292Z",
     "iopub.status.idle": "2025-09-14T22:22:11.130673Z",
     "shell.execute_reply": "2025-09-14T22:22:11.130421Z"
    }
   },
   "outputs": [],
   "source": [
    "euCallOption = EquityAmericanOption(expiry_dt, strike_price, OptionTypes.EUROPEAN_CALL)"
   ]
  },
  {
   "cell_type": "code",
   "execution_count": 9,
   "metadata": {
    "execution": {
     "iopub.execute_input": "2025-09-14T22:22:11.131798Z",
     "iopub.status.busy": "2025-09-14T22:22:11.131674Z",
     "iopub.status.idle": "2025-09-14T22:22:11.133927Z",
     "shell.execute_reply": "2025-09-14T22:22:11.133588Z"
    }
   },
   "outputs": [
    {
     "name": "stdout",
     "output_type": "stream",
     "text": [
      "OBJECT TYPE: EquityAmericanOption\n",
      "EXPIRY DATE: 15-JAN-2016\n",
      "STRIKE PRICE: 130\n",
      "OPTION TYPE: OptionTypes.EUROPEAN_CALL\n",
      "NUMBER: 1.0\n"
     ]
    }
   ],
   "source": [
    "print(euCallOption)"
   ]
  },
  {
   "cell_type": "markdown",
   "metadata": {},
   "source": [
    "We can also define an actual vanilla call option which will be priced using Black Scholes."
   ]
  },
  {
   "cell_type": "code",
   "execution_count": 10,
   "metadata": {
    "execution": {
     "iopub.execute_input": "2025-09-14T22:22:11.135982Z",
     "iopub.status.busy": "2025-09-14T22:22:11.135852Z",
     "iopub.status.idle": "2025-09-14T22:22:11.137943Z",
     "shell.execute_reply": "2025-09-14T22:22:11.137733Z"
    }
   },
   "outputs": [],
   "source": [
    "call_option = EquityVanillaOption(expiry_dt, strike_price, OptionTypes.EUROPEAN_CALL)"
   ]
  },
  {
   "cell_type": "code",
   "execution_count": 11,
   "metadata": {
    "execution": {
     "iopub.execute_input": "2025-09-14T22:22:11.139163Z",
     "iopub.status.busy": "2025-09-14T22:22:11.139068Z",
     "iopub.status.idle": "2025-09-14T22:22:11.140957Z",
     "shell.execute_reply": "2025-09-14T22:22:11.140735Z"
    }
   },
   "outputs": [
    {
     "name": "stdout",
     "output_type": "stream",
     "text": [
      "OBJECT TYPE: EquityVanillaOption\n",
      "EXPIRY DATE: 15-JAN-2016\n",
      "STRIKE PRICE: 130\n",
      "OPTION TYPE VALUE: OptionTypes.EUROPEAN_CALL\n",
      "NUMBER: 1.0\n"
     ]
    }
   ],
   "source": [
    "print(call_option)"
   ]
  },
  {
   "cell_type": "markdown",
   "metadata": {},
   "source": [
    "Now we can explore the pricing of all three to check for consistency and tree convergence."
   ]
  },
  {
   "cell_type": "markdown",
   "metadata": {},
   "source": [
    "## Valuation"
   ]
  },
  {
   "cell_type": "code",
   "execution_count": 12,
   "metadata": {
    "execution": {
     "iopub.execute_input": "2025-09-14T22:22:11.142236Z",
     "iopub.status.busy": "2025-09-14T22:22:11.142143Z",
     "iopub.status.idle": "2025-09-14T22:22:11.143923Z",
     "shell.execute_reply": "2025-09-14T22:22:11.143652Z"
    }
   },
   "outputs": [],
   "source": [
    "stock_price = 127.62\n",
    "volatility = 0.20\n",
    "interest_rate = 0.001\n",
    "dividend_yield = 0.0163"
   ]
  },
  {
   "cell_type": "code",
   "execution_count": 13,
   "metadata": {
    "execution": {
     "iopub.execute_input": "2025-09-14T22:22:11.145067Z",
     "iopub.status.busy": "2025-09-14T22:22:11.144950Z",
     "iopub.status.idle": "2025-09-14T22:22:11.154873Z",
     "shell.execute_reply": "2025-09-14T22:22:11.154655Z"
    }
   },
   "outputs": [],
   "source": [
    "discount_curve = DiscountCurveFlat(value_dt, interest_rate)"
   ]
  },
  {
   "cell_type": "code",
   "execution_count": 14,
   "metadata": {
    "execution": {
     "iopub.execute_input": "2025-09-14T22:22:11.159053Z",
     "iopub.status.busy": "2025-09-14T22:22:11.158714Z",
     "iopub.status.idle": "2025-09-14T22:22:11.161763Z",
     "shell.execute_reply": "2025-09-14T22:22:11.161434Z"
    }
   },
   "outputs": [],
   "source": [
    "dividend_curve = DiscountCurveFlat(value_dt, dividend_yield)"
   ]
  },
  {
   "cell_type": "markdown",
   "metadata": {},
   "source": [
    "We now define the model. This is Black-Scholes. We can also specify the number of steps to use on the tree,"
   ]
  },
  {
   "cell_type": "code",
   "execution_count": 15,
   "metadata": {
    "execution": {
     "iopub.execute_input": "2025-09-14T22:22:11.163126Z",
     "iopub.status.busy": "2025-09-14T22:22:11.163031Z",
     "iopub.status.idle": "2025-09-14T22:22:11.164732Z",
     "shell.execute_reply": "2025-09-14T22:22:11.164511Z"
    }
   },
   "outputs": [],
   "source": [
    "num_steps_per_year = 400"
   ]
  },
  {
   "cell_type": "code",
   "execution_count": 16,
   "metadata": {
    "execution": {
     "iopub.execute_input": "2025-09-14T22:22:11.165751Z",
     "iopub.status.busy": "2025-09-14T22:22:11.165638Z",
     "iopub.status.idle": "2025-09-14T22:22:11.168432Z",
     "shell.execute_reply": "2025-09-14T22:22:11.167522Z"
    }
   },
   "outputs": [],
   "source": [
    "bsType = BlackScholesTypes.CRR_TREE"
   ]
  },
  {
   "cell_type": "code",
   "execution_count": 17,
   "metadata": {
    "execution": {
     "iopub.execute_input": "2025-09-14T22:22:11.169704Z",
     "iopub.status.busy": "2025-09-14T22:22:11.169564Z",
     "iopub.status.idle": "2025-09-14T22:22:11.171348Z",
     "shell.execute_reply": "2025-09-14T22:22:11.171180Z"
    }
   },
   "outputs": [],
   "source": [
    "model = BlackScholes(volatility, bsType, num_steps_per_year)"
   ]
  },
  {
   "cell_type": "code",
   "execution_count": 18,
   "metadata": {
    "execution": {
     "iopub.execute_input": "2025-09-14T22:22:11.172434Z",
     "iopub.status.busy": "2025-09-14T22:22:11.172344Z",
     "iopub.status.idle": "2025-09-14T22:22:11.176922Z",
     "shell.execute_reply": "2025-09-14T22:22:11.176670Z"
    }
   },
   "outputs": [
    {
     "data": {
      "text/plain": [
       "np.float64(6.839133503553418)"
      ]
     },
     "execution_count": 18,
     "metadata": {},
     "output_type": "execute_result"
    }
   ],
   "source": [
    "amCallOption.value(value_dt, stock_price, discount_curve, dividend_curve, model)"
   ]
  },
  {
   "cell_type": "markdown",
   "metadata": {},
   "source": [
    "Compare it to European using same tree"
   ]
  },
  {
   "cell_type": "code",
   "execution_count": 19,
   "metadata": {
    "execution": {
     "iopub.execute_input": "2025-09-14T22:22:11.178126Z",
     "iopub.status.busy": "2025-09-14T22:22:11.178002Z",
     "iopub.status.idle": "2025-09-14T22:22:11.180757Z",
     "shell.execute_reply": "2025-09-14T22:22:11.180591Z"
    }
   },
   "outputs": [
    {
     "data": {
      "text/plain": [
       "np.float64(6.7511306397034225)"
      ]
     },
     "execution_count": 19,
     "metadata": {},
     "output_type": "execute_result"
    }
   ],
   "source": [
    "euCallOption.value(value_dt, stock_price, discount_curve, dividend_curve, model)"
   ]
  },
  {
   "cell_type": "markdown",
   "metadata": {},
   "source": [
    "This is lower as we would expect due to the lack of early exercise. Let's check this against the Black Scholes model analytical form."
   ]
  },
  {
   "cell_type": "code",
   "execution_count": 20,
   "metadata": {
    "execution": {
     "iopub.execute_input": "2025-09-14T22:22:11.181908Z",
     "iopub.status.busy": "2025-09-14T22:22:11.181816Z",
     "iopub.status.idle": "2025-09-14T22:22:11.184175Z",
     "shell.execute_reply": "2025-09-14T22:22:11.184020Z"
    }
   },
   "outputs": [
    {
     "data": {
      "text/plain": [
       "np.float64(6.749351201717842)"
      ]
     },
     "execution_count": 20,
     "metadata": {},
     "output_type": "execute_result"
    }
   ],
   "source": [
    "call_option.value(value_dt, stock_price, discount_curve, dividend_curve, model)"
   ]
  },
  {
   "cell_type": "markdown",
   "metadata": {},
   "source": [
    "The price is close to the 6.74927 found by QL - see http://gouthamanbalaraman.com/blog/european-option-binomial-tree-quantlib-python.html. Differences with QL could be due to differences in time calculations. It is also different from the Tree value but that is a tree convergence issue. Let's see how good convergence is."
   ]
  },
  {
   "cell_type": "markdown",
   "metadata": {},
   "source": [
    "## Tree Convergence"
   ]
  },
  {
   "cell_type": "code",
   "execution_count": 21,
   "metadata": {
    "execution": {
     "iopub.execute_input": "2025-09-14T22:22:11.185436Z",
     "iopub.status.busy": "2025-09-14T22:22:11.185344Z",
     "iopub.status.idle": "2025-09-14T22:22:11.187193Z",
     "shell.execute_reply": "2025-09-14T22:22:11.187024Z"
    }
   },
   "outputs": [],
   "source": [
    "num_steps_per_year = range(5, 200, 1)"
   ]
  },
  {
   "cell_type": "code",
   "execution_count": 22,
   "metadata": {
    "execution": {
     "iopub.execute_input": "2025-09-14T22:22:11.188241Z",
     "iopub.status.busy": "2025-09-14T22:22:11.188151Z",
     "iopub.status.idle": "2025-09-14T22:22:11.212231Z",
     "shell.execute_reply": "2025-09-14T22:22:11.211824Z"
    }
   },
   "outputs": [],
   "source": [
    "amTreeValue = []\n",
    "euTreeValue = []\n",
    "euAnalValue = []\n",
    "volatility = 0.20\n",
    "\n",
    "for num_steps in num_steps_per_year:\n",
    "    model = BlackScholes(volatility, BlackScholesTypes.CRR_TREE, num_steps)\n",
    "    v_am = amCallOption.value(value_dt, stock_price, discount_curve, dividend_curve, model)\n",
    "    v_eu = euCallOption.value(value_dt, stock_price, discount_curve, dividend_curve, model)\n",
    "    v_bs = call_option.value(value_dt, stock_price, discount_curve, dividend_curve, model)\n",
    "\n",
    "    amTreeValue.append(v_am)\n",
    "    euTreeValue.append(v_eu)\n",
    "    euAnalValue.append(v_bs)"
   ]
  },
  {
   "cell_type": "code",
   "execution_count": 23,
   "metadata": {
    "execution": {
     "iopub.execute_input": "2025-09-14T22:22:11.213837Z",
     "iopub.status.busy": "2025-09-14T22:22:11.213734Z",
     "iopub.status.idle": "2025-09-14T22:22:11.288725Z",
     "shell.execute_reply": "2025-09-14T22:22:11.288503Z"
    }
   },
   "outputs": [
    {
     "data": {
      "image/png": "[encoded data removed]",
      "text/plain": [
       "<Figure size 640x480 with 1 Axes>"
      ]
     },
     "metadata": {},
     "output_type": "display_data"
    }
   ],
   "source": [
    "plt.title(\"American Option Price Convergence Analysis\")\n",
    "plt.plot(num_steps_per_year, amTreeValue, label=\"American Tree\")\n",
    "plt.plot(num_steps_per_year, euTreeValue, label=\"European Tree\")\n",
    "plt.plot(num_steps_per_year, euAnalValue, label=\"European Anal\", lw =2)\n",
    "plt.xlabel(\"NumSteps\")\n",
    "plt.ylabel(\"Value\")\n",
    "plt.legend();"
   ]
  },
  {
   "cell_type": "markdown",
   "metadata": {},
   "source": [
    "Agreement with QL is very good and tree convergence appears much better - probably assisted by fact that I average even and odd numbers of steps internally."
   ]
  },
  {
   "cell_type": "markdown",
   "metadata": {},
   "source": [
    "Copyright (c) 2020 Dominic O'Kane"
   ]
  }
 ],
 "metadata": {
  "kernelspec": {
   "display_name": "base",
   "language": "python",
   "name": "python3"
  },
  "language_info": {
   "codemirror_mode": {
    "name": "ipython",
    "version": 3
   },
   "file_extension": ".py",
   "mimetype": "text/x-python",
   "name": "python",
   "nbconvert_exporter": "python",
   "pygments_lexer": "ipython3",
   "version": "3.13.7"
  }
 },
 "nbformat": 4,
 "nbformat_minor": 2
}
