{
 "cells": [
  {
   "cell_type": "markdown",
   "metadata": {},
   "source": [
    "# EQUITY AMERICAN OPTION - QL COMPARISON"
   ]
  },
  {
   "cell_type": "markdown",
   "metadata": {},
   "source": [
    "Valuation and Risk of American-style options on equity compared with example at\n",
    "http://gouthamanbalaraman.com/blog/american-option-pricing-quantlib-python.html"
   ]
  },
  {
   "cell_type": "code",
   "execution_count": 1,
   "metadata": {
    "execution": {
     "iopub.execute_input": "2025-08-27T22:31:48.469035Z",
     "iopub.status.busy": "2025-08-27T22:31:48.468819Z",
     "iopub.status.idle": "2025-08-27T22:31:48.926179Z",
     "shell.execute_reply": "2025-08-27T22:31:48.925769Z"
    }
   },
   "outputs": [],
   "source": [
    "import numpy as np\n",
    "import matplotlib.pyplot as plt"
   ]
  },
  {
   "cell_type": "code",
   "execution_count": 2,
   "metadata": {
    "execution": {
     "iopub.execute_input": "2025-08-27T22:31:48.929110Z",
     "iopub.status.busy": "2025-08-27T22:31:48.928640Z",
     "iopub.status.idle": "2025-08-27T22:31:51.689754Z",
     "shell.execute_reply": "2025-08-27T22:31:51.689277Z"
    }
   },
   "outputs": [],
   "source": [
    "from financepy.utils import *\n",
    "from financepy.market.curves.discount_curve_flat import DiscountCurveFlat\n",
    "from financepy.products.equity import *\n",
    "from financepy.models.black_scholes import *"
   ]
  },
  {
   "cell_type": "markdown",
   "metadata": {},
   "source": [
    "# Define the Call and Put Options"
   ]
  },
  {
   "cell_type": "code",
   "execution_count": 3,
   "metadata": {
    "execution": {
     "iopub.execute_input": "2025-08-27T22:31:51.692611Z",
     "iopub.status.busy": "2025-08-27T22:31:51.692200Z",
     "iopub.status.idle": "2025-08-27T22:31:51.711483Z",
     "shell.execute_reply": "2025-08-27T22:31:51.710897Z"
    }
   },
   "outputs": [],
   "source": [
    "value_dt = Date(8, 5, 2015)"
   ]
  },
  {
   "cell_type": "code",
   "execution_count": 4,
   "metadata": {
    "execution": {
     "iopub.execute_input": "2025-08-27T22:31:51.714584Z",
     "iopub.status.busy": "2025-08-27T22:31:51.714160Z",
     "iopub.status.idle": "2025-08-27T22:31:51.717251Z",
     "shell.execute_reply": "2025-08-27T22:31:51.716862Z"
    }
   },
   "outputs": [],
   "source": [
    "expiry_dt = Date(15, 1, 2016)"
   ]
  },
  {
   "cell_type": "code",
   "execution_count": 5,
   "metadata": {
    "execution": {
     "iopub.execute_input": "2025-08-27T22:31:51.719337Z",
     "iopub.status.busy": "2025-08-27T22:31:51.718972Z",
     "iopub.status.idle": "2025-08-27T22:31:51.721691Z",
     "shell.execute_reply": "2025-08-27T22:31:51.721333Z"
    }
   },
   "outputs": [],
   "source": [
    "strike_price = 130"
   ]
  },
  {
   "cell_type": "markdown",
   "metadata": {},
   "source": [
    "Create the call Option"
   ]
  },
  {
   "cell_type": "code",
   "execution_count": 6,
   "metadata": {
    "execution": {
     "iopub.execute_input": "2025-08-27T22:31:51.723773Z",
     "iopub.status.busy": "2025-08-27T22:31:51.723572Z",
     "iopub.status.idle": "2025-08-27T22:31:51.726713Z",
     "shell.execute_reply": "2025-08-27T22:31:51.726357Z"
    }
   },
   "outputs": [],
   "source": [
    "amCallOption = EquityAmericanOption(expiry_dt, strike_price, OptionTypes.AMERICAN_CALL)"
   ]
  },
  {
   "cell_type": "code",
   "execution_count": 7,
   "metadata": {
    "execution": {
     "iopub.execute_input": "2025-08-27T22:31:51.728720Z",
     "iopub.status.busy": "2025-08-27T22:31:51.728515Z",
     "iopub.status.idle": "2025-08-27T22:31:51.732246Z",
     "shell.execute_reply": "2025-08-27T22:31:51.731845Z"
    }
   },
   "outputs": [
    {
     "name": "stdout",
     "output_type": "stream",
     "text": [
      "OBJECT TYPE: EquityAmericanOption\n",
      "EXPIRY DATE: 15-JAN-2016\n",
      "STRIKE PRICE: 130\n",
      "OPTION TYPE: OptionTypes.AMERICAN_CALL\n",
      "NUMBER: 1.0\n"
     ]
    }
   ],
   "source": [
    "print(amCallOption)"
   ]
  },
  {
   "cell_type": "markdown",
   "metadata": {},
   "source": [
    "We can also define an American option with a European payoff - this way we will use the same CRR tree for the pricing."
   ]
  },
  {
   "cell_type": "code",
   "execution_count": 8,
   "metadata": {
    "execution": {
     "iopub.execute_input": "2025-08-27T22:31:51.734491Z",
     "iopub.status.busy": "2025-08-27T22:31:51.734282Z",
     "iopub.status.idle": "2025-08-27T22:31:51.737047Z",
     "shell.execute_reply": "2025-08-27T22:31:51.736663Z"
    }
   },
   "outputs": [],
   "source": [
    "euCallOption = EquityAmericanOption(expiry_dt, strike_price, OptionTypes.EUROPEAN_CALL)"
   ]
  },
  {
   "cell_type": "code",
   "execution_count": 9,
   "metadata": {
    "execution": {
     "iopub.execute_input": "2025-08-27T22:31:51.739296Z",
     "iopub.status.busy": "2025-08-27T22:31:51.738891Z",
     "iopub.status.idle": "2025-08-27T22:31:51.741725Z",
     "shell.execute_reply": "2025-08-27T22:31:51.741230Z"
    }
   },
   "outputs": [
    {
     "name": "stdout",
     "output_type": "stream",
     "text": [
      "OBJECT TYPE: EquityAmericanOption\n",
      "EXPIRY DATE: 15-JAN-2016\n",
      "STRIKE PRICE: 130\n",
      "OPTION TYPE: OptionTypes.EUROPEAN_CALL\n",
      "NUMBER: 1.0\n"
     ]
    }
   ],
   "source": [
    "print(euCallOption)"
   ]
  },
  {
   "cell_type": "markdown",
   "metadata": {},
   "source": [
    "We can also define an actual vanilla call option which will be priced using Black Scholes."
   ]
  },
  {
   "cell_type": "code",
   "execution_count": 10,
   "metadata": {
    "execution": {
     "iopub.execute_input": "2025-08-27T22:31:51.744119Z",
     "iopub.status.busy": "2025-08-27T22:31:51.743873Z",
     "iopub.status.idle": "2025-08-27T22:31:51.746542Z",
     "shell.execute_reply": "2025-08-27T22:31:51.746145Z"
    }
   },
   "outputs": [],
   "source": [
    "call_option = EquityVanillaOption(expiry_dt, strike_price, OptionTypes.EUROPEAN_CALL)"
   ]
  },
  {
   "cell_type": "code",
   "execution_count": 11,
   "metadata": {
    "execution": {
     "iopub.execute_input": "2025-08-27T22:31:51.749035Z",
     "iopub.status.busy": "2025-08-27T22:31:51.748745Z",
     "iopub.status.idle": "2025-08-27T22:31:51.751666Z",
     "shell.execute_reply": "2025-08-27T22:31:51.751299Z"
    }
   },
   "outputs": [
    {
     "name": "stdout",
     "output_type": "stream",
     "text": [
      "OBJECT TYPE: EquityVanillaOption\n",
      "EXPIRY DATE: 15-JAN-2016\n",
      "STRIKE PRICE: 130\n",
      "OPTION TYPE VALUE: OptionTypes.EUROPEAN_CALL\n",
      "NUMBER: 1.0\n"
     ]
    }
   ],
   "source": [
    "print(call_option)"
   ]
  },
  {
   "cell_type": "markdown",
   "metadata": {},
   "source": [
    "Now we can explore the pricing of all three to check for consistency and tree convergence."
   ]
  },
  {
   "cell_type": "markdown",
   "metadata": {},
   "source": [
    "## Valuation"
   ]
  },
  {
   "cell_type": "code",
   "execution_count": 12,
   "metadata": {
    "execution": {
     "iopub.execute_input": "2025-08-27T22:31:51.753683Z",
     "iopub.status.busy": "2025-08-27T22:31:51.753493Z",
     "iopub.status.idle": "2025-08-27T22:31:51.756052Z",
     "shell.execute_reply": "2025-08-27T22:31:51.755602Z"
    }
   },
   "outputs": [],
   "source": [
    "stock_price = 127.62\n",
    "volatility = 0.20\n",
    "interest_rate = 0.001\n",
    "dividend_yield = 0.0163"
   ]
  },
  {
   "cell_type": "code",
   "execution_count": 13,
   "metadata": {
    "execution": {
     "iopub.execute_input": "2025-08-27T22:31:51.758132Z",
     "iopub.status.busy": "2025-08-27T22:31:51.757865Z",
     "iopub.status.idle": "2025-08-27T22:31:51.767130Z",
     "shell.execute_reply": "2025-08-27T22:31:51.766691Z"
    }
   },
   "outputs": [],
   "source": [
    "discount_curve = DiscountCurveFlat(value_dt, interest_rate)"
   ]
  },
  {
   "cell_type": "code",
   "execution_count": 14,
   "metadata": {
    "execution": {
     "iopub.execute_input": "2025-08-27T22:31:51.769597Z",
     "iopub.status.busy": "2025-08-27T22:31:51.769306Z",
     "iopub.status.idle": "2025-08-27T22:31:51.773008Z",
     "shell.execute_reply": "2025-08-27T22:31:51.772593Z"
    }
   },
   "outputs": [],
   "source": [
    "dividend_curve = DiscountCurveFlat(value_dt, dividend_yield)"
   ]
  },
  {
   "cell_type": "markdown",
   "metadata": {},
   "source": [
    "We now define the model. This is Black-Scholes. We can also specify the number of steps to use on the tree,"
   ]
  },
  {
   "cell_type": "code",
   "execution_count": 15,
   "metadata": {
    "execution": {
     "iopub.execute_input": "2025-08-27T22:31:51.775682Z",
     "iopub.status.busy": "2025-08-27T22:31:51.775393Z",
     "iopub.status.idle": "2025-08-27T22:31:51.778603Z",
     "shell.execute_reply": "2025-08-27T22:31:51.778120Z"
    }
   },
   "outputs": [],
   "source": [
    "num_steps_per_year = 400"
   ]
  },
  {
   "cell_type": "code",
   "execution_count": 16,
   "metadata": {
    "execution": {
     "iopub.execute_input": "2025-08-27T22:31:51.780380Z",
     "iopub.status.busy": "2025-08-27T22:31:51.780037Z",
     "iopub.status.idle": "2025-08-27T22:31:51.782356Z",
     "shell.execute_reply": "2025-08-27T22:31:51.781925Z"
    }
   },
   "outputs": [],
   "source": [
    "bsType = BlackScholesTypes.CRR_TREE"
   ]
  },
  {
   "cell_type": "code",
   "execution_count": 17,
   "metadata": {
    "execution": {
     "iopub.execute_input": "2025-08-27T22:31:51.784498Z",
     "iopub.status.busy": "2025-08-27T22:31:51.784234Z",
     "iopub.status.idle": "2025-08-27T22:31:51.786575Z",
     "shell.execute_reply": "2025-08-27T22:31:51.786284Z"
    }
   },
   "outputs": [],
   "source": [
    "model = BlackScholes(volatility, bsType, num_steps_per_year)"
   ]
  },
  {
   "cell_type": "code",
   "execution_count": 18,
   "metadata": {
    "execution": {
     "iopub.execute_input": "2025-08-27T22:31:51.788519Z",
     "iopub.status.busy": "2025-08-27T22:31:51.788286Z",
     "iopub.status.idle": "2025-08-27T22:31:51.794052Z",
     "shell.execute_reply": "2025-08-27T22:31:51.793624Z"
    }
   },
   "outputs": [
    {
     "data": {
      "text/plain": [
       "np.float64(6.839133503553418)"
      ]
     },
     "execution_count": 18,
     "metadata": {},
     "output_type": "execute_result"
    }
   ],
   "source": [
    "amCallOption.value(value_dt, stock_price, discount_curve, dividend_curve, model)"
   ]
  },
  {
   "cell_type": "markdown",
   "metadata": {},
   "source": [
    "Compare it to European using same tree"
   ]
  },
  {
   "cell_type": "code",
   "execution_count": 19,
   "metadata": {
    "execution": {
     "iopub.execute_input": "2025-08-27T22:31:51.796205Z",
     "iopub.status.busy": "2025-08-27T22:31:51.795921Z",
     "iopub.status.idle": "2025-08-27T22:31:51.800199Z",
     "shell.execute_reply": "2025-08-27T22:31:51.799833Z"
    }
   },
   "outputs": [
    {
     "data": {
      "text/plain": [
       "np.float64(6.7511306397034225)"
      ]
     },
     "execution_count": 19,
     "metadata": {},
     "output_type": "execute_result"
    }
   ],
   "source": [
    "euCallOption.value(value_dt, stock_price, discount_curve, dividend_curve, model)"
   ]
  },
  {
   "cell_type": "markdown",
   "metadata": {},
   "source": [
    "This is lower as we would expect due to the lack of early exercise. Let's check this against the Black Scholes model analytical form."
   ]
  },
  {
   "cell_type": "code",
   "execution_count": 20,
   "metadata": {
    "execution": {
     "iopub.execute_input": "2025-08-27T22:31:51.802402Z",
     "iopub.status.busy": "2025-08-27T22:31:51.802107Z",
     "iopub.status.idle": "2025-08-27T22:31:51.805604Z",
     "shell.execute_reply": "2025-08-27T22:31:51.805226Z"
    }
   },
   "outputs": [
    {
     "data": {
      "text/plain": [
       "np.float64(6.749351201717842)"
      ]
     },
     "execution_count": 20,
     "metadata": {},
     "output_type": "execute_result"
    }
   ],
   "source": [
    "call_option.value(value_dt, stock_price, discount_curve, dividend_curve, model)"
   ]
  },
  {
   "cell_type": "markdown",
   "metadata": {},
   "source": [
    "The price is close to the 6.74927 found by QL - see http://gouthamanbalaraman.com/blog/european-option-binomial-tree-quantlib-python.html. Differences with QL could be due to differences in time calculations. It is also different from the Tree value but that is a tree convergence issue. Let's see how good convergence is."
   ]
  },
  {
   "cell_type": "markdown",
   "metadata": {},
   "source": [
    "## Tree Convergence"
   ]
  },
  {
   "cell_type": "code",
   "execution_count": 21,
   "metadata": {
    "execution": {
     "iopub.execute_input": "2025-08-27T22:31:51.807689Z",
     "iopub.status.busy": "2025-08-27T22:31:51.807492Z",
     "iopub.status.idle": "2025-08-27T22:31:51.809989Z",
     "shell.execute_reply": "2025-08-27T22:31:51.809689Z"
    }
   },
   "outputs": [],
   "source": [
    "num_steps_per_year = range(5, 200, 1)"
   ]
  },
  {
   "cell_type": "code",
   "execution_count": 22,
   "metadata": {
    "execution": {
     "iopub.execute_input": "2025-08-27T22:31:51.812562Z",
     "iopub.status.busy": "2025-08-27T22:31:51.812279Z",
     "iopub.status.idle": "2025-08-27T22:31:51.862042Z",
     "shell.execute_reply": "2025-08-27T22:31:51.861572Z"
    }
   },
   "outputs": [],
   "source": [
    "amTreeValue = []\n",
    "euTreeValue = []\n",
    "euAnalValue = []\n",
    "volatility = 0.20\n",
    "\n",
    "for num_steps in num_steps_per_year:\n",
    "    model = BlackScholes(volatility, BlackScholesTypes.CRR_TREE, num_steps)\n",
    "    v_am = amCallOption.value(value_dt, stock_price, discount_curve, dividend_curve, model)\n",
    "    v_eu = euCallOption.value(value_dt, stock_price, discount_curve, dividend_curve, model)\n",
    "    v_bs = call_option.value(value_dt, stock_price, discount_curve, dividend_curve, model)\n",
    "\n",
    "    amTreeValue.append(v_am)\n",
    "    euTreeValue.append(v_eu)\n",
    "    euAnalValue.append(v_bs)"
   ]
  },
  {
   "cell_type": "code",
   "execution_count": 23,
   "metadata": {
    "execution": {
     "iopub.execute_input": "2025-08-27T22:31:51.864749Z",
     "iopub.status.busy": "2025-08-27T22:31:51.864214Z",
     "iopub.status.idle": "2025-08-27T22:31:52.028675Z",
     "shell.execute_reply": "2025-08-27T22:31:52.028310Z"
    }
   },
   "outputs": [
    {
     "data": {
      "image/png": "[encoded data removed]",
      "text/plain": [
       "<Figure size 640x480 with 1 Axes>"
      ]
     },
     "metadata": {},
     "output_type": "display_data"
    }
   ],
   "source": [
    "plt.title(\"American Option Price Convergence Analysis\")\n",
    "plt.plot(num_steps_per_year, amTreeValue, label=\"American Tree\")\n",
    "plt.plot(num_steps_per_year, euTreeValue, label=\"European Tree\")\n",
    "plt.plot(num_steps_per_year, euAnalValue, label=\"European Anal\", lw =2)\n",
    "plt.xlabel(\"NumSteps\")\n",
    "plt.ylabel(\"Value\")\n",
    "plt.legend();"
   ]
  },
  {
   "cell_type": "markdown",
   "metadata": {},
   "source": [
    "Agreement with QL is very good and tree convergence appears much better - probably assisted by fact that I average even and odd numbers of steps internally."
   ]
  },
  {
   "cell_type": "markdown",
   "metadata": {},
   "source": [
    "Copyright (c) 2020 Dominic O'Kane"
   ]
  }
 ],
 "metadata": {
  "kernelspec": {
   "display_name": "base",
   "language": "python",
   "name": "python3"
  },
  "language_info": {
   "codemirror_mode": {
    "name": "ipython",
    "version": 3
   },
   "file_extension": ".py",
   "mimetype": "text/x-python",
   "name": "python",
   "nbconvert_exporter": "python",
   "pygments_lexer": "ipython3",
   "version": "3.13.5"
  }
 },
 "nbformat": 4,
 "nbformat_minor": 2
}
