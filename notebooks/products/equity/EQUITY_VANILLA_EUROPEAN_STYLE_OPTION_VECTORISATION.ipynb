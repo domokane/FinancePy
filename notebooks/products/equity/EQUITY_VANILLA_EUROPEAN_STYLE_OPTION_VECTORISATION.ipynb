{
 "cells": [
  {
   "cell_type": "markdown",
   "metadata": {},
   "source": [
    "# EQUITY VANILLA EUROPEAN-STYLE OPTIONS"
   ]
  },
  {
   "cell_type": "markdown",
   "metadata": {},
   "source": [
    "Valuation and Risk of a simple Vanilla Equity Option"
   ]
  },
  {
   "cell_type": "code",
   "execution_count": 1,
   "metadata": {},
   "outputs": [],
   "source": [
    "import numpy as np\n",
    "import matplotlib.pyplot as plt"
   ]
  },
  {
   "cell_type": "code",
   "execution_count": 2,
   "metadata": {},
   "outputs": [
    {
     "name": "stdout",
     "output_type": "stream",
     "text": [
      "####################################################################\n",
      "# FINANCEPY BETA Version 0.185 - This build:  26 Nov 2020 at 02:02 #\n",
      "#      This software is distributed FREE & WITHOUT ANY WARRANTY    #\n",
      "# For info and disclaimer - https://github.com/domokane/FinancePy  #\n",
      "#      Send any bug reports or comments to quant@financepy.com     #\n",
      "####################################################################\n",
      "\n"
     ]
    }
   ],
   "source": [
    "from financepy.finutils import *\n",
    "from financepy.products.equity import *"
   ]
  },
  {
   "cell_type": "markdown",
   "metadata": {},
   "source": [
    "In the library products are created and then valued. We should be able to vectorise the product inputs and the valuation inputs separately and jointly."
   ]
  },
  {
   "cell_type": "markdown",
   "metadata": {},
   "source": [
    "# 1 - Define and value the Call Options using Vectorised Product Inputs"
   ]
  },
  {
   "cell_type": "markdown",
   "metadata": {},
   "source": [
    "We consider an equity call option. The inputs are:\n",
    "1) Expiry date\n",
    "2) Strike price\n",
    "3) Option Type (call or put)"
   ]
  },
  {
   "cell_type": "markdown",
   "metadata": {},
   "source": [
    "We start with the strikes as this is the easiest."
   ]
  },
  {
   "cell_type": "markdown",
   "metadata": {},
   "source": [
    "I just define some initial non-product inputs"
   ]
  },
  {
   "cell_type": "code",
   "execution_count": 3,
   "metadata": {},
   "outputs": [],
   "source": [
    "stockPrice = 100.0\n",
    "volatility = 0.20\n",
    "interestRate = 0.05\n",
    "dividendYield = 0.0"
   ]
  },
  {
   "cell_type": "code",
   "execution_count": 4,
   "metadata": {},
   "outputs": [],
   "source": [
    "valueDate = FinDate(20,1, 2020)"
   ]
  },
  {
   "cell_type": "code",
   "execution_count": 5,
   "metadata": {},
   "outputs": [],
   "source": [
    "discountCurve = FinDiscountCurveFlat(valueDate, interestRate, FinFrequencyTypes.CONTINUOUS)"
   ]
  },
  {
   "cell_type": "code",
   "execution_count": 6,
   "metadata": {},
   "outputs": [],
   "source": [
    "model = FinModelBlackScholes(volatility)"
   ]
  },
  {
   "cell_type": "markdown",
   "metadata": {},
   "source": [
    "## Vectorising the Strikes"
   ]
  },
  {
   "cell_type": "code",
   "execution_count": 7,
   "metadata": {},
   "outputs": [],
   "source": [
    "expiryDate = FinDate(20, 6, 2020)"
   ]
  },
  {
   "cell_type": "code",
   "execution_count": 8,
   "metadata": {},
   "outputs": [],
   "source": [
    "strikePrice = 100.0"
   ]
  },
  {
   "cell_type": "code",
   "execution_count": 9,
   "metadata": {},
   "outputs": [],
   "source": [
    "callOption = FinEquityVanillaOption(expiryDate, strikePrice, FinOptionTypes.EUROPEAN_CALL)"
   ]
  },
  {
   "cell_type": "code",
   "execution_count": 10,
   "metadata": {},
   "outputs": [
    {
     "data": {
      "text/plain": [
       "OBJECT TYPE: FinEquityVanillaOption\n",
       "EXPIRY DATE: 20-JUN-2020\n",
       "STRIKE PRICE: 100.0\n",
       "OPTION TYPE: FinOptionTypes.EUROPEAN_CALL\n",
       "NUMBER: 1.0"
      ]
     },
     "execution_count": 10,
     "metadata": {},
     "output_type": "execute_result"
    }
   ],
   "source": [
    "callOption"
   ]
  },
  {
   "cell_type": "markdown",
   "metadata": {},
   "source": [
    "Let's do a valuation"
   ]
  },
  {
   "cell_type": "code",
   "execution_count": 11,
   "metadata": {},
   "outputs": [
    {
     "data": {
      "text/plain": [
       "6.185689425036813"
      ]
     },
     "execution_count": 11,
     "metadata": {},
     "output_type": "execute_result"
    }
   ],
   "source": [
    "callOption.value(valueDate, stockPrice, discountCurve, dividendYield, model)"
   ]
  },
  {
   "cell_type": "markdown",
   "metadata": {},
   "source": [
    "Now we vectorise the strikes"
   ]
  },
  {
   "cell_type": "code",
   "execution_count": 12,
   "metadata": {},
   "outputs": [],
   "source": [
    "strikePrice = np.linspace(100,150,10)"
   ]
  },
  {
   "cell_type": "code",
   "execution_count": 13,
   "metadata": {},
   "outputs": [],
   "source": [
    "callOption = FinEquityVanillaOption(expiryDate, strikePrice, FinOptionTypes.EUROPEAN_CALL)"
   ]
  },
  {
   "cell_type": "code",
   "execution_count": 14,
   "metadata": {},
   "outputs": [
    {
     "data": {
      "text/plain": [
       "OBJECT TYPE: FinEquityVanillaOption\n",
       "EXPIRY DATE: 20-JUN-2020\n",
       "STRIKE PRICE: [100.         105.55555556 111.11111111 116.66666667 122.22222222\n",
       " 127.77777778 133.33333333 138.88888889 144.44444444 150.        ]\n",
       "OPTION TYPE: FinOptionTypes.EUROPEAN_CALL\n",
       "NUMBER: 1.0"
      ]
     },
     "execution_count": 14,
     "metadata": {},
     "output_type": "execute_result"
    }
   ],
   "source": [
    "callOption"
   ]
  },
  {
   "cell_type": "markdown",
   "metadata": {},
   "source": [
    "Now see if this can be vectorised"
   ]
  },
  {
   "cell_type": "code",
   "execution_count": 15,
   "metadata": {},
   "outputs": [
    {
     "data": {
      "text/plain": [
       "array([6.18568943, 3.71227685, 2.07068289, 1.07658238, 0.52399285,\n",
       "       0.23997686, 0.1039734 , 0.04284594, 0.01687943, 0.00638777])"
      ]
     },
     "execution_count": 15,
     "metadata": {},
     "output_type": "execute_result"
    }
   ],
   "source": [
    "callOption.value(valueDate, stockPrice, discountCurve, dividendYield, model)"
   ]
  },
  {
   "cell_type": "markdown",
   "metadata": {},
   "source": [
    "Yep this works."
   ]
  },
  {
   "cell_type": "markdown",
   "metadata": {},
   "source": [
    "## Vectorising the Expiry Dates FAILS"
   ]
  },
  {
   "cell_type": "code",
   "execution_count": 16,
   "metadata": {},
   "outputs": [],
   "source": [
    "expiryDates = valueDate.addYears(np.linspace(0.5,10,20))"
   ]
  },
  {
   "cell_type": "code",
   "execution_count": 17,
   "metadata": {},
   "outputs": [
    {
     "data": {
      "text/plain": [
       "[20-JUL-2020,\n",
       " 20-JAN-2021,\n",
       " 20-JUL-2021,\n",
       " 20-JAN-2022,\n",
       " 20-JUL-2022,\n",
       " 20-JAN-2023,\n",
       " 20-JUL-2023,\n",
       " 20-JAN-2024,\n",
       " 20-JUL-2024,\n",
       " 20-JAN-2025,\n",
       " 20-JUL-2025,\n",
       " 20-JAN-2026,\n",
       " 20-JUL-2026,\n",
       " 20-JAN-2027,\n",
       " 20-JUL-2027,\n",
       " 20-JAN-2028,\n",
       " 20-JUL-2028,\n",
       " 20-JAN-2029,\n",
       " 20-JUL-2029,\n",
       " 20-JAN-2030]"
      ]
     },
     "execution_count": 17,
     "metadata": {},
     "output_type": "execute_result"
    }
   ],
   "source": [
    "expiryDates"
   ]
  },
  {
   "cell_type": "markdown",
   "metadata": {},
   "source": [
    "Make the strike a single number"
   ]
  },
  {
   "cell_type": "code",
   "execution_count": 18,
   "metadata": {},
   "outputs": [],
   "source": [
    "strikePrice = 100.0"
   ]
  },
  {
   "cell_type": "code",
   "execution_count": 19,
   "metadata": {},
   "outputs": [],
   "source": [
    "callOption = FinEquityVanillaOption(expiryDates, strikePrice, FinOptionTypes.EUROPEAN_CALL)"
   ]
  },
  {
   "cell_type": "code",
   "execution_count": 20,
   "metadata": {},
   "outputs": [
    {
     "data": {
      "text/plain": [
       "OBJECT TYPE: FinEquityVanillaOption\n",
       "EXPIRY DATE: [20-JUL-2020, 20-JAN-2021, 20-JUL-2021, 20-JAN-2022, 20-JUL-2022, 20-JAN-2023, 20-JUL-2023, 20-JAN-2024, 20-JUL-2024, 20-JAN-2025, 20-JUL-2025, 20-JAN-2026, 20-JUL-2026, 20-JAN-2027, 20-JUL-2027, 20-JAN-2028, 20-JUL-2028, 20-JAN-2029, 20-JUL-2029, 20-JAN-2030]\n",
       "STRIKE PRICE: 100.0\n",
       "OPTION TYPE: FinOptionTypes.EUROPEAN_CALL\n",
       "NUMBER: 1.0"
      ]
     },
     "execution_count": 20,
     "metadata": {},
     "output_type": "execute_result"
    }
   ],
   "source": [
    "callOption"
   ]
  },
  {
   "cell_type": "code",
   "execution_count": 21,
   "metadata": {},
   "outputs": [
    {
     "ename": "TypeError",
     "evalue": "unsupported operand type(s) for -: 'list' and 'FinDate'",
     "output_type": "error",
     "traceback": [
      "\u001b[1;31m---------------------------------------------------------------------------\u001b[0m",
      "\u001b[1;31mTypeError\u001b[0m                                 Traceback (most recent call last)",
      "\u001b[1;32m<ipython-input-21-4dae9edc3bdb>\u001b[0m in \u001b[0;36m<module>\u001b[1;34m\u001b[0m\n\u001b[1;32m----> 1\u001b[1;33m \u001b[0mcallOption\u001b[0m\u001b[1;33m.\u001b[0m\u001b[0mvalue\u001b[0m\u001b[1;33m(\u001b[0m\u001b[0mvalueDate\u001b[0m\u001b[1;33m,\u001b[0m \u001b[0mstockPrice\u001b[0m\u001b[1;33m,\u001b[0m \u001b[0mdiscountCurve\u001b[0m\u001b[1;33m,\u001b[0m \u001b[0mdividendYield\u001b[0m\u001b[1;33m,\u001b[0m \u001b[0mmodel\u001b[0m\u001b[1;33m)\u001b[0m\u001b[1;33m\u001b[0m\u001b[1;33m\u001b[0m\u001b[0m\n\u001b[0m",
      "\u001b[1;32mc:\\users\\prudhvi\\appdata\\local\\programs\\python\\python37-32\\lib\\site-packages\\financepy-0.185-py3.7.egg\\financepy\\products\\equity\\FinEquityVanillaOption.py\u001b[0m in \u001b[0;36mvalue\u001b[1;34m(self, valueDate, stockPrice, discountCurve, dividendYield, model)\u001b[0m\n\u001b[0;32m    114\u001b[0m \u001b[1;33m\u001b[0m\u001b[0m\n\u001b[0;32m    115\u001b[0m         \u001b[1;32mif\u001b[0m \u001b[0mtype\u001b[0m\u001b[1;33m(\u001b[0m\u001b[0mvalueDate\u001b[0m\u001b[1;33m)\u001b[0m \u001b[1;33m==\u001b[0m \u001b[0mFinDate\u001b[0m\u001b[1;33m:\u001b[0m\u001b[1;33m\u001b[0m\u001b[1;33m\u001b[0m\u001b[0m\n\u001b[1;32m--> 116\u001b[1;33m             \u001b[0mtexp\u001b[0m \u001b[1;33m=\u001b[0m \u001b[1;33m(\u001b[0m\u001b[0mself\u001b[0m\u001b[1;33m.\u001b[0m\u001b[0m_expiryDate\u001b[0m \u001b[1;33m-\u001b[0m \u001b[0mvalueDate\u001b[0m\u001b[1;33m)\u001b[0m \u001b[1;33m/\u001b[0m \u001b[0mgDaysInYear\u001b[0m\u001b[1;33m\u001b[0m\u001b[1;33m\u001b[0m\u001b[0m\n\u001b[0m\u001b[0;32m    117\u001b[0m         \u001b[1;32melse\u001b[0m\u001b[1;33m:\u001b[0m\u001b[1;33m\u001b[0m\u001b[1;33m\u001b[0m\u001b[0m\n\u001b[0;32m    118\u001b[0m             \u001b[0mtexp\u001b[0m \u001b[1;33m=\u001b[0m \u001b[0mvalueDate\u001b[0m\u001b[1;33m\u001b[0m\u001b[1;33m\u001b[0m\u001b[0m\n",
      "\u001b[1;31mTypeError\u001b[0m: unsupported operand type(s) for -: 'list' and 'FinDate'"
     ]
    }
   ],
   "source": [
    "callOption.value(valueDate, stockPrice, discountCurve, dividendYield, model)"
   ]
  },
  {
   "cell_type": "markdown",
   "metadata": {},
   "source": [
    "This fails as we do not YET have the ability to vectorise the subtraction of dates."
   ]
  },
  {
   "cell_type": "markdown",
   "metadata": {},
   "source": [
    "## Vectorising the Enum Type"
   ]
  },
  {
   "cell_type": "code",
   "execution_count": 22,
   "metadata": {},
   "outputs": [],
   "source": [
    "optionTypes = list(FinOptionTypes)[0:2]"
   ]
  },
  {
   "cell_type": "code",
   "execution_count": 23,
   "metadata": {},
   "outputs": [
    {
     "data": {
      "text/plain": [
       "[<FinOptionTypes.EUROPEAN_CALL: 1>, <FinOptionTypes.EUROPEAN_PUT: 2>]"
      ]
     },
     "execution_count": 23,
     "metadata": {},
     "output_type": "execute_result"
    }
   ],
   "source": [
    "optionTypes"
   ]
  },
  {
   "cell_type": "code",
   "execution_count": 25,
   "metadata": {
    "scrolled": true
   },
   "outputs": [
    {
     "name": "stdout",
     "output_type": "stream",
     "text": [
      "FinOptionTypes.EUROPEAN_CALL\n",
      "FinOptionTypes.EUROPEAN_PUT\n"
     ]
    },
    {
     "data": {
      "text/plain": [
       "array([6.18568943, 4.13059756])"
      ]
     },
     "execution_count": 25,
     "metadata": {},
     "output_type": "execute_result"
    }
   ],
   "source": [
    "FinEquityVanillaOption(expiryDate, strikePrice, optionTypes).value(valueDate, stockPrice, discountCurve, dividendYield, model)"
   ]
  },
  {
   "cell_type": "code",
   "execution_count": null,
   "metadata": {},
   "outputs": [],
   "source": []
  },
  {
   "cell_type": "markdown",
   "metadata": {},
   "source": [
    "This fails due to validation checks."
   ]
  },
  {
   "cell_type": "markdown",
   "metadata": {},
   "source": [
    "Copyright (c) 2020 Dominic O'Kane"
   ]
  }
 ],
 "metadata": {
  "kernelspec": {
   "display_name": "Python 3",
   "language": "python",
   "name": "python3"
  },
  "language_info": {
   "codemirror_mode": {
    "name": "ipython",
    "version": 3
   },
   "file_extension": ".py",
   "mimetype": "text/x-python",
   "name": "python",
   "nbconvert_exporter": "python",
   "pygments_lexer": "ipython3",
   "version": "3.7.2"
  }
 },
 "nbformat": 4,
 "nbformat_minor": 2
}
