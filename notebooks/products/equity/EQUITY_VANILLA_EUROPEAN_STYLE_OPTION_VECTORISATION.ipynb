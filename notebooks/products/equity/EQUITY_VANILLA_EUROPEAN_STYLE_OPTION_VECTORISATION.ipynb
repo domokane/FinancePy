{
    "cells": [
        {
            "cell_type": "markdown",
            "metadata": {},
            "source": [
                "# EQUITY VANILLA EUROPEAN-STYLE OPTIONS"
            ]
        },
        {
            "cell_type": "markdown",
            "metadata": {},
            "source": [
                "Valuation and Risk of a simple Vanilla Equity Option"
            ]
        },
        {
            "cell_type": "code",
            "execution_count": 1,
            "metadata": {
                "execution": {
                    "iopub.execute_input": "2024-04-30T20:06:48.475374Z",
                    "iopub.status.busy": "2024-04-30T20:06:48.474365Z",
                    "iopub.status.idle": "2024-04-30T20:06:49.159787Z",
                    "shell.execute_reply": "2024-04-30T20:06:49.159787Z"
                }
            },
            "outputs": [],
            "source": [
                "import numpy as np\n",
                "import matplotlib.pyplot as plt"
            ]
        },
        {
            "cell_type": "code",
            "execution_count": 2,
            "metadata": {
                "execution": {
                    "iopub.execute_input": "2024-04-30T20:06:49.162840Z",
                    "iopub.status.busy": "2024-04-30T20:06:49.161837Z",
                    "iopub.status.idle": "2024-04-30T20:06:55.716745Z",
                    "shell.execute_reply": "2024-04-30T20:06:55.716745Z"
                }
            },
            "outputs": [
                {
                    "name": "stdout",
                    "output_type": "stream",
                    "text": [
                        "####################################################################\n",
                        "#  FINANCEPY BETA Version 0.350 - This build: 30 Apr 2024 at 21:20 #\n",
                        "#     This software is distributed FREE AND WITHOUT ANY WARRANTY   #\n",
                        "#  Report bugs as issues at https://github.com/domokane/FinancePy  #\n",
                        "####################################################################\n",
                        "\n"
                    ]
                }
            ],
            "source": [
                "from financepy.utils.date import Date\n",
                "from financepy.products.equity import *\n",
                "from financepy.market.curves import *"
            ]
        },
        {
            "cell_type": "markdown",
            "metadata": {},
            "source": [
                "In the library products are created and then valued. We should be able to vectorise the product inputs and the valuation inputs separately and jointly."
            ]
        },
        {
            "cell_type": "markdown",
            "metadata": {},
            "source": [
                "# 1 - Define and value the Call Options using Vectorised Product Inputs"
            ]
        },
        {
            "cell_type": "markdown",
            "metadata": {},
            "source": [
                "We consider an equity call option. The inputs are:\n",
                "1) Expiry date\n",
                "2) Strike price\n",
                "3) Option Type (call or put)"
            ]
        },
        {
            "cell_type": "markdown",
            "metadata": {},
            "source": [
                "We start with the strikes as this is the easiest."
            ]
        },
        {
            "cell_type": "markdown",
            "metadata": {},
            "source": [
                "I just define some initial non-product inputs"
            ]
        },
        {
            "cell_type": "code",
            "execution_count": 3,
            "metadata": {
                "execution": {
                    "iopub.execute_input": "2024-04-30T20:06:55.719789Z",
                    "iopub.status.busy": "2024-04-30T20:06:55.719789Z",
                    "iopub.status.idle": "2024-04-30T20:06:55.722803Z",
                    "shell.execute_reply": "2024-04-30T20:06:55.722803Z"
                }
            },
            "outputs": [],
            "source": [
                "stock_price = 100.0\n",
                "volatility = 0.20\n",
                "interest_rate = 0.05\n",
                "dividend_yield = 0.0"
            ]
        },
        {
            "cell_type": "code",
            "execution_count": 4,
            "metadata": {
                "execution": {
                    "iopub.execute_input": "2024-04-30T20:06:55.725139Z",
                    "iopub.status.busy": "2024-04-30T20:06:55.725139Z",
                    "iopub.status.idle": "2024-04-30T20:06:55.744771Z",
                    "shell.execute_reply": "2024-04-30T20:06:55.744771Z"
                }
            },
            "outputs": [],
            "source": [
                "value_dt = Date(20, 1, 2020)"
            ]
        },
        {
            "cell_type": "code",
            "execution_count": 5,
            "metadata": {
                "execution": {
                    "iopub.execute_input": "2024-04-30T20:06:55.746819Z",
                    "iopub.status.busy": "2024-04-30T20:06:55.746819Z",
                    "iopub.status.idle": "2024-04-30T20:06:55.755783Z",
                    "shell.execute_reply": "2024-04-30T20:06:55.755783Z"
                }
            },
            "outputs": [],
            "source": [
                "discount_curve = DiscountCurveFlat(value_dt, interest_rate, FrequencyTypes.CONTINUOUS)"
            ]
        },
        {
            "cell_type": "code",
            "execution_count": 6,
            "metadata": {
                "execution": {
                    "iopub.execute_input": "2024-04-30T20:06:55.757833Z",
                    "iopub.status.busy": "2024-04-30T20:06:55.757833Z",
                    "iopub.status.idle": "2024-04-30T20:06:55.761523Z",
                    "shell.execute_reply": "2024-04-30T20:06:55.761523Z"
                }
            },
            "outputs": [],
            "source": [
                "dividend_curve = DiscountCurveFlat(value_dt, dividend_yield, FrequencyTypes.CONTINUOUS)"
            ]
        },
        {
            "cell_type": "code",
            "execution_count": 7,
            "metadata": {
                "execution": {
                    "iopub.execute_input": "2024-04-30T20:06:55.764175Z",
                    "iopub.status.busy": "2024-04-30T20:06:55.764175Z",
                    "iopub.status.idle": "2024-04-30T20:06:55.766847Z",
                    "shell.execute_reply": "2024-04-30T20:06:55.766610Z"
                }
            },
            "outputs": [],
            "source": [
                "model = BlackScholes(volatility)"
            ]
        },
        {
            "cell_type": "markdown",
            "metadata": {},
            "source": [
                "## Vectorising the Strikes"
            ]
        },
        {
            "cell_type": "code",
            "execution_count": 8,
            "metadata": {
                "execution": {
                    "iopub.execute_input": "2024-04-30T20:06:55.769380Z",
                    "iopub.status.busy": "2024-04-30T20:06:55.768380Z",
                    "iopub.status.idle": "2024-04-30T20:06:55.771644Z",
                    "shell.execute_reply": "2024-04-30T20:06:55.771644Z"
                }
            },
            "outputs": [],
            "source": [
                "expiry_dt = Date(20, 6, 2020)"
            ]
        },
        {
            "cell_type": "code",
            "execution_count": 9,
            "metadata": {
                "execution": {
                    "iopub.execute_input": "2024-04-30T20:06:55.774291Z",
                    "iopub.status.busy": "2024-04-30T20:06:55.774192Z",
                    "iopub.status.idle": "2024-04-30T20:06:55.776633Z",
                    "shell.execute_reply": "2024-04-30T20:06:55.776401Z"
                }
            },
            "outputs": [],
            "source": [
                "strike_price = 100.0"
            ]
        },
        {
            "cell_type": "code",
            "execution_count": 10,
            "metadata": {
                "execution": {
                    "iopub.execute_input": "2024-04-30T20:06:55.778664Z",
                    "iopub.status.busy": "2024-04-30T20:06:55.778664Z",
                    "iopub.status.idle": "2024-04-30T20:06:55.781435Z",
                    "shell.execute_reply": "2024-04-30T20:06:55.781435Z"
                }
            },
            "outputs": [],
            "source": [
                "call_option = EquityVanillaOption(expiry_dt, strike_price, OptionTypes.EUROPEAN_CALL)"
            ]
        },
        {
            "cell_type": "code",
            "execution_count": 11,
            "metadata": {
                "execution": {
                    "iopub.execute_input": "2024-04-30T20:06:55.784467Z",
                    "iopub.status.busy": "2024-04-30T20:06:55.784467Z",
                    "iopub.status.idle": "2024-04-30T20:06:55.790488Z",
                    "shell.execute_reply": "2024-04-30T20:06:55.790488Z"
                }
            },
            "outputs": [
                {
                    "data": {
                        "text/plain": [
                            "OBJECT TYPE: EquityVanillaOption\n",
                            "EXPIRY DATE: 20-JUN-2020\n",
                            "STRIKE PRICE: 100.0\n",
                            "OPTION TYPE VALUE: OptionTypes.EUROPEAN_CALL\n",
                            "NUMBER: 1.0"
                        ]
                    },
                    "execution_count": 11,
                    "metadata": {},
                    "output_type": "execute_result"
                }
            ],
            "source": [
                "call_option"
            ]
        },
        {
            "cell_type": "markdown",
            "metadata": {},
            "source": [
                "Let's do a valuation"
            ]
        },
        {
            "cell_type": "code",
            "execution_count": 12,
            "metadata": {
                "execution": {
                    "iopub.execute_input": "2024-04-30T20:06:55.792489Z",
                    "iopub.status.busy": "2024-04-30T20:06:55.792489Z",
                    "iopub.status.idle": "2024-04-30T20:06:55.796621Z",
                    "shell.execute_reply": "2024-04-30T20:06:55.796621Z"
                }
            },
            "outputs": [
                {
                    "data": {
                        "text/plain": [
                            "6.185679574917835"
                        ]
                    },
                    "execution_count": 12,
                    "metadata": {},
                    "output_type": "execute_result"
                }
            ],
            "source": [
                "call_option.value(value_dt, stock_price, discount_curve, dividend_curve, model)"
            ]
        },
        {
            "cell_type": "markdown",
            "metadata": {},
            "source": [
                "Now we vectorise the strikes"
            ]
        },
        {
            "cell_type": "code",
            "execution_count": 13,
            "metadata": {
                "execution": {
                    "iopub.execute_input": "2024-04-30T20:06:55.798651Z",
                    "iopub.status.busy": "2024-04-30T20:06:55.798651Z",
                    "iopub.status.idle": "2024-04-30T20:06:55.802472Z",
                    "shell.execute_reply": "2024-04-30T20:06:55.801811Z"
                }
            },
            "outputs": [],
            "source": [
                "strike_price = np.linspace(100,150,10)"
            ]
        },
        {
            "cell_type": "code",
            "execution_count": 14,
            "metadata": {
                "execution": {
                    "iopub.execute_input": "2024-04-30T20:06:55.804499Z",
                    "iopub.status.busy": "2024-04-30T20:06:55.804499Z",
                    "iopub.status.idle": "2024-04-30T20:06:55.807810Z",
                    "shell.execute_reply": "2024-04-30T20:06:55.807810Z"
                }
            },
            "outputs": [],
            "source": [
                "call_option = EquityVanillaOption(expiry_dt, strike_price, OptionTypes.EUROPEAN_CALL)"
            ]
        },
        {
            "cell_type": "code",
            "execution_count": 15,
            "metadata": {
                "execution": {
                    "iopub.execute_input": "2024-04-30T20:06:55.810805Z",
                    "iopub.status.busy": "2024-04-30T20:06:55.810805Z",
                    "iopub.status.idle": "2024-04-30T20:06:55.814439Z",
                    "shell.execute_reply": "2024-04-30T20:06:55.814439Z"
                }
            },
            "outputs": [
                {
                    "data": {
                        "text/plain": [
                            "OBJECT TYPE: EquityVanillaOption\n",
                            "EXPIRY DATE: 20-JUN-2020\n",
                            "STRIKE PRICE: [100.         105.55555556 111.11111111 116.66666667 122.22222222\n",
                            " 127.77777778 133.33333333 138.88888889 144.44444444 150.        ]\n",
                            "OPTION TYPE VALUE: OptionTypes.EUROPEAN_CALL\n",
                            "NUMBER: 1.0"
                        ]
                    },
                    "execution_count": 15,
                    "metadata": {},
                    "output_type": "execute_result"
                }
            ],
            "source": [
                "call_option"
            ]
        },
        {
            "cell_type": "markdown",
            "metadata": {},
            "source": [
                "Now see if this can be vectorised"
            ]
        },
        {
            "cell_type": "code",
            "execution_count": 16,
            "metadata": {
                "execution": {
                    "iopub.execute_input": "2024-04-30T20:06:55.816983Z",
                    "iopub.status.busy": "2024-04-30T20:06:55.816983Z",
                    "iopub.status.idle": "2024-04-30T20:06:55.821313Z",
                    "shell.execute_reply": "2024-04-30T20:06:55.820768Z"
                }
            },
            "outputs": [
                {
                    "data": {
                        "text/plain": [
                            "array([6.18567957, 3.71227186, 2.07068602, 1.07657716, 0.52399448,\n",
                            "       0.23998124, 0.10397414, 0.04284297, 0.01687534, 0.00638438])"
                        ]
                    },
                    "execution_count": 16,
                    "metadata": {},
                    "output_type": "execute_result"
                }
            ],
            "source": [
                "call_option.value(value_dt, stock_price, discount_curve, dividend_curve, model)"
            ]
        },
        {
            "cell_type": "markdown",
            "metadata": {},
            "source": [
                "Yep this works."
            ]
        },
        {
            "cell_type": "markdown",
            "metadata": {},
            "source": [
                "## Vectorising the Expiry Dates FAILS"
            ]
        },
        {
            "cell_type": "code",
            "execution_count": 17,
            "metadata": {
                "execution": {
                    "iopub.execute_input": "2024-04-30T20:06:55.823852Z",
                    "iopub.status.busy": "2024-04-30T20:06:55.822849Z",
                    "iopub.status.idle": "2024-04-30T20:06:55.826497Z",
                    "shell.execute_reply": "2024-04-30T20:06:55.826497Z"
                }
            },
            "outputs": [],
            "source": [
                "expiry_dts = value_dt.add_years(np.linspace(0.5,10,20))"
            ]
        },
        {
            "cell_type": "code",
            "execution_count": 18,
            "metadata": {
                "execution": {
                    "iopub.execute_input": "2024-04-30T20:06:55.829524Z",
                    "iopub.status.busy": "2024-04-30T20:06:55.829524Z",
                    "iopub.status.idle": "2024-04-30T20:06:55.833365Z",
                    "shell.execute_reply": "2024-04-30T20:06:55.833365Z"
                }
            },
            "outputs": [
                {
                    "data": {
                        "text/plain": [
                            "[20-JUL-2020,\n",
                            " 20-JAN-2021,\n",
                            " 20-JUL-2021,\n",
                            " 20-JAN-2022,\n",
                            " 20-JUL-2022,\n",
                            " 20-JAN-2023,\n",
                            " 20-JUL-2023,\n",
                            " 20-JAN-2024,\n",
                            " 20-JUL-2024,\n",
                            " 20-JAN-2025,\n",
                            " 20-JUL-2025,\n",
                            " 20-JAN-2026,\n",
                            " 20-JUL-2026,\n",
                            " 20-JAN-2027,\n",
                            " 20-JUL-2027,\n",
                            " 20-JAN-2028,\n",
                            " 20-JUL-2028,\n",
                            " 20-JAN-2029,\n",
                            " 20-JUL-2029,\n",
                            " 20-JAN-2030]"
                        ]
                    },
                    "execution_count": 18,
                    "metadata": {},
                    "output_type": "execute_result"
                }
            ],
            "source": [
                "expiry_dts"
            ]
        },
        {
            "cell_type": "markdown",
            "metadata": {},
            "source": [
                "Make the strike a single number"
            ]
        },
        {
            "cell_type": "code",
            "execution_count": 19,
            "metadata": {
                "execution": {
                    "iopub.execute_input": "2024-04-30T20:06:55.835365Z",
                    "iopub.status.busy": "2024-04-30T20:06:55.835365Z",
                    "iopub.status.idle": "2024-04-30T20:06:55.838261Z",
                    "shell.execute_reply": "2024-04-30T20:06:55.838261Z"
                }
            },
            "outputs": [],
            "source": [
                "strike_price = 100.0"
            ]
        },
        {
            "cell_type": "code",
            "execution_count": 20,
            "metadata": {
                "execution": {
                    "iopub.execute_input": "2024-04-30T20:06:55.840292Z",
                    "iopub.status.busy": "2024-04-30T20:06:55.840292Z",
                    "iopub.status.idle": "2024-04-30T20:06:55.844610Z",
                    "shell.execute_reply": "2024-04-30T20:06:55.843942Z"
                }
            },
            "outputs": [],
            "source": [
                "call_option = EquityVanillaOption(expiry_dts, strike_price, OptionTypes.EUROPEAN_CALL)"
            ]
        },
        {
            "cell_type": "code",
            "execution_count": 21,
            "metadata": {
                "execution": {
                    "iopub.execute_input": "2024-04-30T20:06:55.847237Z",
                    "iopub.status.busy": "2024-04-30T20:06:55.847237Z",
                    "iopub.status.idle": "2024-04-30T20:06:55.850948Z",
                    "shell.execute_reply": "2024-04-30T20:06:55.850721Z"
                }
            },
            "outputs": [
                {
                    "data": {
                        "text/plain": [
                            "OBJECT TYPE: EquityVanillaOption\n",
                            "EXPIRY DATE: [20-JUL-2020, 20-JAN-2021, 20-JUL-2021, 20-JAN-2022, 20-JUL-2022, 20-JAN-2023, 20-JUL-2023, 20-JAN-2024, 20-JUL-2024, 20-JAN-2025, 20-JUL-2025, 20-JAN-2026, 20-JUL-2026, 20-JAN-2027, 20-JUL-2027, 20-JAN-2028, 20-JUL-2028, 20-JAN-2029, 20-JUL-2029, 20-JAN-2030]\n",
                            "STRIKE PRICE: 100.0\n",
                            "OPTION TYPE VALUE: OptionTypes.EUROPEAN_CALL\n",
                            "NUMBER: 1.0"
                        ]
                    },
                    "execution_count": 21,
                    "metadata": {},
                    "output_type": "execute_result"
                }
            ],
            "source": [
                "call_option"
            ]
        },
        {
            "cell_type": "code",
            "execution_count": 22,
            "metadata": {
                "execution": {
                    "iopub.execute_input": "2024-04-30T20:06:55.852946Z",
                    "iopub.status.busy": "2024-04-30T20:06:55.852946Z",
                    "iopub.status.idle": "2024-04-30T20:06:55.857716Z",
                    "shell.execute_reply": "2024-04-30T20:06:55.857484Z"
                }
            },
            "outputs": [
                {
                    "data": {
                        "text/plain": [
                            "array([25.76819949, 26.7333646 , 27.69730767, 28.68872885, 29.67439658,\n",
                            "       30.68604223, 31.68973866, 32.71749364, 33.73824534, 34.77625394,\n",
                            "       35.80453806, 36.85365239, 37.8884235 , 38.94217658, 39.97960528,\n",
                            "       41.03385005, 42.07307997, 43.1221029 , 44.15378754, 45.19888358])"
                        ]
                    },
                    "execution_count": 22,
                    "metadata": {},
                    "output_type": "execute_result"
                }
            ],
            "source": [
                "call_option.value(value_dt, stock_price, discount_curve, dividend_curve, model)"
            ]
        },
        {
            "cell_type": "markdown",
            "metadata": {},
            "source": [
                "This works."
            ]
        },
        {
            "cell_type": "markdown",
            "metadata": {},
            "source": [
                "## Vectorising the Enum Type"
            ]
        },
        {
            "cell_type": "code",
            "execution_count": 23,
            "metadata": {
                "execution": {
                    "iopub.execute_input": "2024-04-30T20:06:55.859715Z",
                    "iopub.status.busy": "2024-04-30T20:06:55.859715Z",
                    "iopub.status.idle": "2024-04-30T20:06:55.862904Z",
                    "shell.execute_reply": "2024-04-30T20:06:55.862677Z"
                }
            },
            "outputs": [],
            "source": [
                "opt_types = list(OptionTypes)[0:2]"
            ]
        },
        {
            "cell_type": "code",
            "execution_count": 24,
            "metadata": {
                "execution": {
                    "iopub.execute_input": "2024-04-30T20:06:55.864931Z",
                    "iopub.status.busy": "2024-04-30T20:06:55.864931Z",
                    "iopub.status.idle": "2024-04-30T20:06:55.868456Z",
                    "shell.execute_reply": "2024-04-30T20:06:55.868456Z"
                }
            },
            "outputs": [
                {
                    "data": {
                        "text/plain": [
                            "[<OptionTypes.EUROPEAN_CALL: 1>, <OptionTypes.EUROPEAN_PUT: 2>]"
                        ]
                    },
                    "execution_count": 24,
                    "metadata": {},
                    "output_type": "execute_result"
                }
            ],
            "source": [
                "opt_types"
            ]
        },
        {
            "cell_type": "code",
            "execution_count": 25,
            "metadata": {
                "execution": {
                    "iopub.execute_input": "2024-04-30T20:06:55.870491Z",
                    "iopub.status.busy": "2024-04-30T20:06:55.870491Z",
                    "iopub.status.idle": "2024-04-30T20:06:55.874495Z",
                    "shell.execute_reply": "2024-04-30T20:06:55.873905Z"
                }
            },
            "outputs": [],
            "source": [
                "call_option = EquityVanillaOption(expiry_dt, strike_price, opt_types)"
            ]
        },
        {
            "cell_type": "code",
            "execution_count": 26,
            "metadata": {
                "execution": {
                    "iopub.execute_input": "2024-04-30T20:06:55.876522Z",
                    "iopub.status.busy": "2024-04-30T20:06:55.876522Z",
                    "iopub.status.idle": "2024-04-30T20:06:55.881009Z",
                    "shell.execute_reply": "2024-04-30T20:06:55.881009Z"
                }
            },
            "outputs": [
                {
                    "data": {
                        "text/plain": [
                            "array([6.18567957, 4.13058771])"
                        ]
                    },
                    "execution_count": 26,
                    "metadata": {},
                    "output_type": "execute_result"
                }
            ],
            "source": [
                "call_option.value(value_dt, stock_price, discount_curve, dividend_curve, model)"
            ]
        },
        {
            "cell_type": "markdown",
            "metadata": {},
            "source": [
                "This works but only if the number of elements is the same for all of the inputs."
            ]
        },
        {
            "cell_type": "markdown",
            "metadata": {},
            "source": [
                "Copyright (c) 2020 Dominic O'Kane"
            ]
        }
    ],
    "metadata": {
        "kernelspec": {
            "display_name": "Python 3 (ipykernel)",
            "language": "python",
            "name": "python3"
        },
        "language_info": {
            "codemirror_mode": {
                "name": "ipython",
                "version": 3
            },
            "file_extension": ".py",
            "mimetype": "text/x-python",
            "name": "python",
            "nbconvert_exporter": "python",
            "pygments_lexer": "ipython3",
            "version": "3.11.5"
        }
    },
    "nbformat": 4,
    "nbformat_minor": 2
}