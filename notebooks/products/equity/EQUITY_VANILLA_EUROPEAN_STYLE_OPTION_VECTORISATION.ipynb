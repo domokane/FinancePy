{
 "cells": [
  {
   "cell_type": "markdown",
   "metadata": {},
   "source": [
    "# EQUITY VANILLA EUROPEAN-STYLE OPTIONS"
   ]
  },
  {
   "cell_type": "markdown",
   "metadata": {},
   "source": [
    "Valuation and Risk of a simple Vanilla Equity Option"
   ]
  },
  {
   "cell_type": "code",
   "execution_count": 1,
   "metadata": {
    "execution": {
     "iopub.execute_input": "2025-09-14T22:23:43.191075Z",
     "iopub.status.busy": "2025-09-14T22:23:43.190940Z",
     "iopub.status.idle": "2025-09-14T22:23:43.447427Z",
     "shell.execute_reply": "2025-09-14T22:23:43.447032Z"
    }
   },
   "outputs": [],
   "source": [
    "import numpy as np\n",
    "import matplotlib.pyplot as plt"
   ]
  },
  {
   "cell_type": "code",
   "execution_count": 2,
   "metadata": {
    "execution": {
     "iopub.execute_input": "2025-09-14T22:23:43.449040Z",
     "iopub.status.busy": "2025-09-14T22:23:43.448848Z",
     "iopub.status.idle": "2025-09-14T22:23:45.766709Z",
     "shell.execute_reply": "2025-09-14T22:23:45.766165Z"
    }
   },
   "outputs": [],
   "source": [
    "from financepy.utils.date import Date\n",
    "from financepy.products.equity import *\n",
    "from financepy.market.curves import *"
   ]
  },
  {
   "cell_type": "markdown",
   "metadata": {},
   "source": [
    "In the library products are created and then valued. We should be able to vectorise the product inputs and the valuation inputs separately and jointly."
   ]
  },
  {
   "cell_type": "markdown",
   "metadata": {},
   "source": [
    "# 1 - Define and value the Call Options using Vectorised Product Inputs"
   ]
  },
  {
   "cell_type": "markdown",
   "metadata": {},
   "source": [
    "We consider an equity call option. The inputs are:\n",
    "1) Expiry date\n",
    "2) Strike price\n",
    "3) Option Type (call or put)"
   ]
  },
  {
   "cell_type": "markdown",
   "metadata": {},
   "source": [
    "We start with the strikes as this is the easiest."
   ]
  },
  {
   "cell_type": "markdown",
   "metadata": {},
   "source": [
    "I just define some initial non-product inputs"
   ]
  },
  {
   "cell_type": "code",
   "execution_count": 3,
   "metadata": {
    "execution": {
     "iopub.execute_input": "2025-09-14T22:23:45.769387Z",
     "iopub.status.busy": "2025-09-14T22:23:45.769026Z",
     "iopub.status.idle": "2025-09-14T22:23:45.771791Z",
     "shell.execute_reply": "2025-09-14T22:23:45.771533Z"
    }
   },
   "outputs": [],
   "source": [
    "stock_price = 100.0\n",
    "volatility = 0.20\n",
    "interest_rate = 0.05\n",
    "dividend_yield = 0.0"
   ]
  },
  {
   "cell_type": "code",
   "execution_count": 4,
   "metadata": {
    "execution": {
     "iopub.execute_input": "2025-09-14T22:23:45.772810Z",
     "iopub.status.busy": "2025-09-14T22:23:45.772688Z",
     "iopub.status.idle": "2025-09-14T22:23:45.790673Z",
     "shell.execute_reply": "2025-09-14T22:23:45.790240Z"
    }
   },
   "outputs": [],
   "source": [
    "value_dt = Date(20, 1, 2020)"
   ]
  },
  {
   "cell_type": "code",
   "execution_count": 5,
   "metadata": {
    "execution": {
     "iopub.execute_input": "2025-09-14T22:23:45.792180Z",
     "iopub.status.busy": "2025-09-14T22:23:45.792022Z",
     "iopub.status.idle": "2025-09-14T22:23:45.802197Z",
     "shell.execute_reply": "2025-09-14T22:23:45.801744Z"
    }
   },
   "outputs": [],
   "source": [
    "discount_curve = DiscountCurveFlat(value_dt, interest_rate, FrequencyTypes.CONTINUOUS)"
   ]
  },
  {
   "cell_type": "code",
   "execution_count": 6,
   "metadata": {
    "execution": {
     "iopub.execute_input": "2025-09-14T22:23:45.804079Z",
     "iopub.status.busy": "2025-09-14T22:23:45.803950Z",
     "iopub.status.idle": "2025-09-14T22:23:45.806909Z",
     "shell.execute_reply": "2025-09-14T22:23:45.806730Z"
    }
   },
   "outputs": [],
   "source": [
    "dividend_curve = DiscountCurveFlat(value_dt, dividend_yield, FrequencyTypes.CONTINUOUS)"
   ]
  },
  {
   "cell_type": "code",
   "execution_count": 7,
   "metadata": {
    "execution": {
     "iopub.execute_input": "2025-09-14T22:23:45.807912Z",
     "iopub.status.busy": "2025-09-14T22:23:45.807789Z",
     "iopub.status.idle": "2025-09-14T22:23:45.810345Z",
     "shell.execute_reply": "2025-09-14T22:23:45.810043Z"
    }
   },
   "outputs": [],
   "source": [
    "model = BlackScholes(volatility)"
   ]
  },
  {
   "cell_type": "markdown",
   "metadata": {},
   "source": [
    "## Vectorising the Strikes"
   ]
  },
  {
   "cell_type": "code",
   "execution_count": 8,
   "metadata": {
    "execution": {
     "iopub.execute_input": "2025-09-14T22:23:45.811421Z",
     "iopub.status.busy": "2025-09-14T22:23:45.811308Z",
     "iopub.status.idle": "2025-09-14T22:23:45.813497Z",
     "shell.execute_reply": "2025-09-14T22:23:45.813065Z"
    }
   },
   "outputs": [],
   "source": [
    "expiry_dt = Date(20, 6, 2020)"
   ]
  },
  {
   "cell_type": "code",
   "execution_count": 9,
   "metadata": {
    "execution": {
     "iopub.execute_input": "2025-09-14T22:23:45.815122Z",
     "iopub.status.busy": "2025-09-14T22:23:45.814910Z",
     "iopub.status.idle": "2025-09-14T22:23:45.816963Z",
     "shell.execute_reply": "2025-09-14T22:23:45.816676Z"
    }
   },
   "outputs": [],
   "source": [
    "strike_price = 100.0"
   ]
  },
  {
   "cell_type": "code",
   "execution_count": 10,
   "metadata": {
    "execution": {
     "iopub.execute_input": "2025-09-14T22:23:45.817897Z",
     "iopub.status.busy": "2025-09-14T22:23:45.817780Z",
     "iopub.status.idle": "2025-09-14T22:23:45.819874Z",
     "shell.execute_reply": "2025-09-14T22:23:45.819576Z"
    }
   },
   "outputs": [],
   "source": [
    "call_option = EquityVanillaOption(expiry_dt, strike_price, OptionTypes.EUROPEAN_CALL)"
   ]
  },
  {
   "cell_type": "code",
   "execution_count": 11,
   "metadata": {
    "execution": {
     "iopub.execute_input": "2025-09-14T22:23:45.820799Z",
     "iopub.status.busy": "2025-09-14T22:23:45.820679Z",
     "iopub.status.idle": "2025-09-14T22:23:45.824267Z",
     "shell.execute_reply": "2025-09-14T22:23:45.823997Z"
    }
   },
   "outputs": [
    {
     "data": {
      "text/plain": [
       "OBJECT TYPE: EquityVanillaOption\n",
       "EXPIRY DATE: 20-JUN-2020\n",
       "STRIKE PRICE: 100.0\n",
       "OPTION TYPE VALUE: OptionTypes.EUROPEAN_CALL\n",
       "NUMBER: 1.0"
      ]
     },
     "execution_count": 11,
     "metadata": {},
     "output_type": "execute_result"
    }
   ],
   "source": [
    "call_option"
   ]
  },
  {
   "cell_type": "markdown",
   "metadata": {},
   "source": [
    "Let's do a valuation"
   ]
  },
  {
   "cell_type": "code",
   "execution_count": 12,
   "metadata": {
    "execution": {
     "iopub.execute_input": "2025-09-14T22:23:45.825194Z",
     "iopub.status.busy": "2025-09-14T22:23:45.825081Z",
     "iopub.status.idle": "2025-09-14T22:23:45.828291Z",
     "shell.execute_reply": "2025-09-14T22:23:45.828014Z"
    }
   },
   "outputs": [
    {
     "data": {
      "text/plain": [
       "np.float64(6.185679574917835)"
      ]
     },
     "execution_count": 12,
     "metadata": {},
     "output_type": "execute_result"
    }
   ],
   "source": [
    "call_option.value(value_dt, stock_price, discount_curve, dividend_curve, model)"
   ]
  },
  {
   "cell_type": "markdown",
   "metadata": {},
   "source": [
    "Now we vectorise the strikes"
   ]
  },
  {
   "cell_type": "code",
   "execution_count": 13,
   "metadata": {
    "execution": {
     "iopub.execute_input": "2025-09-14T22:23:45.829354Z",
     "iopub.status.busy": "2025-09-14T22:23:45.829242Z",
     "iopub.status.idle": "2025-09-14T22:23:45.831848Z",
     "shell.execute_reply": "2025-09-14T22:23:45.831477Z"
    }
   },
   "outputs": [],
   "source": [
    "strike_price = np.linspace(100,150,10)"
   ]
  },
  {
   "cell_type": "code",
   "execution_count": 14,
   "metadata": {
    "execution": {
     "iopub.execute_input": "2025-09-14T22:23:45.832961Z",
     "iopub.status.busy": "2025-09-14T22:23:45.832845Z",
     "iopub.status.idle": "2025-09-14T22:23:45.834883Z",
     "shell.execute_reply": "2025-09-14T22:23:45.834599Z"
    }
   },
   "outputs": [],
   "source": [
    "call_option = EquityVanillaOption(expiry_dt, strike_price, OptionTypes.EUROPEAN_CALL)"
   ]
  },
  {
   "cell_type": "code",
   "execution_count": 15,
   "metadata": {
    "execution": {
     "iopub.execute_input": "2025-09-14T22:23:45.835874Z",
     "iopub.status.busy": "2025-09-14T22:23:45.835703Z",
     "iopub.status.idle": "2025-09-14T22:23:45.839090Z",
     "shell.execute_reply": "2025-09-14T22:23:45.838851Z"
    }
   },
   "outputs": [
    {
     "data": {
      "text/plain": [
       "OBJECT TYPE: EquityVanillaOption\n",
       "EXPIRY DATE: 20-JUN-2020\n",
       "STRIKE PRICE: [100.         105.55555556 111.11111111 116.66666667 122.22222222\n",
       " 127.77777778 133.33333333 138.88888889 144.44444444 150.        ]\n",
       "OPTION TYPE VALUE: OptionTypes.EUROPEAN_CALL\n",
       "NUMBER: 1.0"
      ]
     },
     "execution_count": 15,
     "metadata": {},
     "output_type": "execute_result"
    }
   ],
   "source": [
    "call_option"
   ]
  },
  {
   "cell_type": "markdown",
   "metadata": {},
   "source": [
    "Now see if this can be vectorised"
   ]
  },
  {
   "cell_type": "code",
   "execution_count": 16,
   "metadata": {
    "execution": {
     "iopub.execute_input": "2025-09-14T22:23:45.840019Z",
     "iopub.status.busy": "2025-09-14T22:23:45.839909Z",
     "iopub.status.idle": "2025-09-14T22:23:45.842492Z",
     "shell.execute_reply": "2025-09-14T22:23:45.842262Z"
    }
   },
   "outputs": [
    {
     "data": {
      "text/plain": [
       "array([6.18567957, 3.71227186, 2.07068602, 1.07657716, 0.52399448,\n",
       "       0.23998124, 0.10397414, 0.04284297, 0.01687534, 0.00638438])"
      ]
     },
     "execution_count": 16,
     "metadata": {},
     "output_type": "execute_result"
    }
   ],
   "source": [
    "call_option.value(value_dt, stock_price, discount_curve, dividend_curve, model)"
   ]
  },
  {
   "cell_type": "markdown",
   "metadata": {},
   "source": [
    "Yep this works."
   ]
  },
  {
   "cell_type": "markdown",
   "metadata": {},
   "source": [
    "## Vectorising the Expiry Dates FAILS"
   ]
  },
  {
   "cell_type": "code",
   "execution_count": 17,
   "metadata": {
    "execution": {
     "iopub.execute_input": "2025-09-14T22:23:45.843426Z",
     "iopub.status.busy": "2025-09-14T22:23:45.843307Z",
     "iopub.status.idle": "2025-09-14T22:23:45.845382Z",
     "shell.execute_reply": "2025-09-14T22:23:45.845140Z"
    }
   },
   "outputs": [],
   "source": [
    "expiry_dts = value_dt.add_years(np.linspace(0.5,10,20))"
   ]
  },
  {
   "cell_type": "code",
   "execution_count": 18,
   "metadata": {
    "execution": {
     "iopub.execute_input": "2025-09-14T22:23:45.846723Z",
     "iopub.status.busy": "2025-09-14T22:23:45.846617Z",
     "iopub.status.idle": "2025-09-14T22:23:45.849987Z",
     "shell.execute_reply": "2025-09-14T22:23:45.849618Z"
    }
   },
   "outputs": [
    {
     "data": {
      "text/plain": [
       "[20-JUL-2020,\n",
       " 20-JAN-2021,\n",
       " 20-JUL-2021,\n",
       " 20-JAN-2022,\n",
       " 20-JUL-2022,\n",
       " 20-JAN-2023,\n",
       " 20-JUL-2023,\n",
       " 20-JAN-2024,\n",
       " 20-JUL-2024,\n",
       " 20-JAN-2025,\n",
       " 20-JUL-2025,\n",
       " 20-JAN-2026,\n",
       " 20-JUL-2026,\n",
       " 20-JAN-2027,\n",
       " 20-JUL-2027,\n",
       " 20-JAN-2028,\n",
       " 20-JUL-2028,\n",
       " 20-JAN-2029,\n",
       " 20-JUL-2029,\n",
       " 20-JAN-2030]"
      ]
     },
     "execution_count": 18,
     "metadata": {},
     "output_type": "execute_result"
    }
   ],
   "source": [
    "expiry_dts"
   ]
  },
  {
   "cell_type": "markdown",
   "metadata": {},
   "source": [
    "Make the strike a single number"
   ]
  },
  {
   "cell_type": "code",
   "execution_count": 19,
   "metadata": {
    "execution": {
     "iopub.execute_input": "2025-09-14T22:23:45.850965Z",
     "iopub.status.busy": "2025-09-14T22:23:45.850854Z",
     "iopub.status.idle": "2025-09-14T22:23:45.852781Z",
     "shell.execute_reply": "2025-09-14T22:23:45.852611Z"
    }
   },
   "outputs": [],
   "source": [
    "strike_price = 100.0"
   ]
  },
  {
   "cell_type": "code",
   "execution_count": 20,
   "metadata": {
    "execution": {
     "iopub.execute_input": "2025-09-14T22:23:45.855452Z",
     "iopub.status.busy": "2025-09-14T22:23:45.855122Z",
     "iopub.status.idle": "2025-09-14T22:23:45.857953Z",
     "shell.execute_reply": "2025-09-14T22:23:45.857786Z"
    }
   },
   "outputs": [],
   "source": [
    "call_option = EquityVanillaOption(expiry_dts, strike_price, OptionTypes.EUROPEAN_CALL)"
   ]
  },
  {
   "cell_type": "code",
   "execution_count": 21,
   "metadata": {
    "execution": {
     "iopub.execute_input": "2025-09-14T22:23:45.858874Z",
     "iopub.status.busy": "2025-09-14T22:23:45.858764Z",
     "iopub.status.idle": "2025-09-14T22:23:45.861308Z",
     "shell.execute_reply": "2025-09-14T22:23:45.861045Z"
    }
   },
   "outputs": [
    {
     "data": {
      "text/plain": [
       "OBJECT TYPE: EquityVanillaOption\n",
       "EXPIRY DATE: [20-JUL-2020, 20-JAN-2021, 20-JUL-2021, 20-JAN-2022, 20-JUL-2022, 20-JAN-2023, 20-JUL-2023, 20-JAN-2024, 20-JUL-2024, 20-JAN-2025, 20-JUL-2025, 20-JAN-2026, 20-JUL-2026, 20-JAN-2027, 20-JUL-2027, 20-JAN-2028, 20-JUL-2028, 20-JAN-2029, 20-JUL-2029, 20-JAN-2030]\n",
       "STRIKE PRICE: 100.0\n",
       "OPTION TYPE VALUE: OptionTypes.EUROPEAN_CALL\n",
       "NUMBER: 1.0"
      ]
     },
     "execution_count": 21,
     "metadata": {},
     "output_type": "execute_result"
    }
   ],
   "source": [
    "call_option"
   ]
  },
  {
   "cell_type": "code",
   "execution_count": 22,
   "metadata": {
    "execution": {
     "iopub.execute_input": "2025-09-14T22:23:45.862218Z",
     "iopub.status.busy": "2025-09-14T22:23:45.862101Z",
     "iopub.status.idle": "2025-09-14T22:23:45.865491Z",
     "shell.execute_reply": "2025-09-14T22:23:45.865106Z"
    }
   },
   "outputs": [
    {
     "data": {
      "text/plain": [
       "array([25.76819949, 26.7333646 , 27.69730767, 28.68872885, 29.67439658,\n",
       "       30.68604223, 31.68973866, 32.71749364, 33.73824534, 34.77625394,\n",
       "       35.80453806, 36.85365239, 37.8884235 , 38.94217658, 39.97960528,\n",
       "       41.03385005, 42.07307997, 43.1221029 , 44.15378754, 45.19888358])"
      ]
     },
     "execution_count": 22,
     "metadata": {},
     "output_type": "execute_result"
    }
   ],
   "source": [
    "call_option.value(value_dt, stock_price, discount_curve, dividend_curve, model)"
   ]
  },
  {
   "cell_type": "markdown",
   "metadata": {},
   "source": [
    "This works."
   ]
  },
  {
   "cell_type": "markdown",
   "metadata": {},
   "source": [
    "## Vectorising the Enum Type"
   ]
  },
  {
   "cell_type": "code",
   "execution_count": 23,
   "metadata": {
    "execution": {
     "iopub.execute_input": "2025-09-14T22:23:45.866547Z",
     "iopub.status.busy": "2025-09-14T22:23:45.866432Z",
     "iopub.status.idle": "2025-09-14T22:23:45.868572Z",
     "shell.execute_reply": "2025-09-14T22:23:45.868204Z"
    }
   },
   "outputs": [],
   "source": [
    "opt_types = list(OptionTypes)[0:2]"
   ]
  },
  {
   "cell_type": "code",
   "execution_count": 24,
   "metadata": {
    "execution": {
     "iopub.execute_input": "2025-09-14T22:23:45.869526Z",
     "iopub.status.busy": "2025-09-14T22:23:45.869415Z",
     "iopub.status.idle": "2025-09-14T22:23:45.871707Z",
     "shell.execute_reply": "2025-09-14T22:23:45.871445Z"
    }
   },
   "outputs": [
    {
     "data": {
      "text/plain": [
       "[<OptionTypes.EUROPEAN_CALL: 1>, <OptionTypes.EUROPEAN_PUT: 2>]"
      ]
     },
     "execution_count": 24,
     "metadata": {},
     "output_type": "execute_result"
    }
   ],
   "source": [
    "opt_types"
   ]
  },
  {
   "cell_type": "code",
   "execution_count": 25,
   "metadata": {
    "execution": {
     "iopub.execute_input": "2025-09-14T22:23:45.872610Z",
     "iopub.status.busy": "2025-09-14T22:23:45.872502Z",
     "iopub.status.idle": "2025-09-14T22:23:45.874642Z",
     "shell.execute_reply": "2025-09-14T22:23:45.874469Z"
    }
   },
   "outputs": [],
   "source": [
    "call_option = EquityVanillaOption(expiry_dt, strike_price, opt_types)"
   ]
  },
  {
   "cell_type": "code",
   "execution_count": 26,
   "metadata": {
    "execution": {
     "iopub.execute_input": "2025-09-14T22:23:45.875570Z",
     "iopub.status.busy": "2025-09-14T22:23:45.875409Z",
     "iopub.status.idle": "2025-09-14T22:23:45.878115Z",
     "shell.execute_reply": "2025-09-14T22:23:45.877953Z"
    }
   },
   "outputs": [
    {
     "data": {
      "text/plain": [
       "array([6.18567957, 4.13058771])"
      ]
     },
     "execution_count": 26,
     "metadata": {},
     "output_type": "execute_result"
    }
   ],
   "source": [
    "call_option.value(value_dt, stock_price, discount_curve, dividend_curve, model)"
   ]
  },
  {
   "cell_type": "markdown",
   "metadata": {},
   "source": [
    "This works but only if the number of elements is the same for all of the inputs."
   ]
  },
  {
   "cell_type": "markdown",
   "metadata": {},
   "source": [
    "Copyright (c) 2020 Dominic O'Kane"
   ]
  }
 ],
 "metadata": {
  "kernelspec": {
   "display_name": "base",
   "language": "python",
   "name": "python3"
  },
  "language_info": {
   "codemirror_mode": {
    "name": "ipython",
    "version": 3
   },
   "file_extension": ".py",
   "mimetype": "text/x-python",
   "name": "python",
   "nbconvert_exporter": "python",
   "pygments_lexer": "ipython3",
   "version": "3.13.7"
  }
 },
 "nbformat": 4,
 "nbformat_minor": 2
}
