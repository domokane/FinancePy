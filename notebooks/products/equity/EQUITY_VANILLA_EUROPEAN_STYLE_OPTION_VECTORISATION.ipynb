{
 "cells": [
  {
   "cell_type": "markdown",
   "metadata": {},
   "source": [
    "# EQUITY VANILLA EUROPEAN-STYLE OPTIONS"
   ]
  },
  {
   "cell_type": "markdown",
   "metadata": {},
   "source": [
    "Valuation and Risk of a simple Vanilla Equity Option"
   ]
  },
  {
   "cell_type": "code",
   "execution_count": 1,
   "metadata": {
    "execution": {
     "iopub.execute_input": "2025-08-27T22:34:07.650576Z",
     "iopub.status.busy": "2025-08-27T22:34:07.650366Z",
     "iopub.status.idle": "2025-08-27T22:34:08.100395Z",
     "shell.execute_reply": "2025-08-27T22:34:08.099924Z"
    }
   },
   "outputs": [],
   "source": [
    "import numpy as np\n",
    "import matplotlib.pyplot as plt"
   ]
  },
  {
   "cell_type": "code",
   "execution_count": 2,
   "metadata": {
    "execution": {
     "iopub.execute_input": "2025-08-27T22:34:08.102873Z",
     "iopub.status.busy": "2025-08-27T22:34:08.102529Z",
     "iopub.status.idle": "2025-08-27T22:34:10.810400Z",
     "shell.execute_reply": "2025-08-27T22:34:10.809930Z"
    }
   },
   "outputs": [],
   "source": [
    "from financepy.utils.date import Date\n",
    "from financepy.products.equity import *\n",
    "from financepy.market.curves import *"
   ]
  },
  {
   "cell_type": "markdown",
   "metadata": {},
   "source": [
    "In the library products are created and then valued. We should be able to vectorise the product inputs and the valuation inputs separately and jointly."
   ]
  },
  {
   "cell_type": "markdown",
   "metadata": {},
   "source": [
    "# 1 - Define and value the Call Options using Vectorised Product Inputs"
   ]
  },
  {
   "cell_type": "markdown",
   "metadata": {},
   "source": [
    "We consider an equity call option. The inputs are:\n",
    "1) Expiry date\n",
    "2) Strike price\n",
    "3) Option Type (call or put)"
   ]
  },
  {
   "cell_type": "markdown",
   "metadata": {},
   "source": [
    "We start with the strikes as this is the easiest."
   ]
  },
  {
   "cell_type": "markdown",
   "metadata": {},
   "source": [
    "I just define some initial non-product inputs"
   ]
  },
  {
   "cell_type": "code",
   "execution_count": 3,
   "metadata": {
    "execution": {
     "iopub.execute_input": "2025-08-27T22:34:10.813684Z",
     "iopub.status.busy": "2025-08-27T22:34:10.813284Z",
     "iopub.status.idle": "2025-08-27T22:34:10.816664Z",
     "shell.execute_reply": "2025-08-27T22:34:10.816325Z"
    }
   },
   "outputs": [],
   "source": [
    "stock_price = 100.0\n",
    "volatility = 0.20\n",
    "interest_rate = 0.05\n",
    "dividend_yield = 0.0"
   ]
  },
  {
   "cell_type": "code",
   "execution_count": 4,
   "metadata": {
    "execution": {
     "iopub.execute_input": "2025-08-27T22:34:10.818767Z",
     "iopub.status.busy": "2025-08-27T22:34:10.818516Z",
     "iopub.status.idle": "2025-08-27T22:34:10.837172Z",
     "shell.execute_reply": "2025-08-27T22:34:10.836713Z"
    }
   },
   "outputs": [],
   "source": [
    "value_dt = Date(20, 1, 2020)"
   ]
  },
  {
   "cell_type": "code",
   "execution_count": 5,
   "metadata": {
    "execution": {
     "iopub.execute_input": "2025-08-27T22:34:10.839953Z",
     "iopub.status.busy": "2025-08-27T22:34:10.839575Z",
     "iopub.status.idle": "2025-08-27T22:34:10.848497Z",
     "shell.execute_reply": "2025-08-27T22:34:10.848114Z"
    }
   },
   "outputs": [],
   "source": [
    "discount_curve = DiscountCurveFlat(value_dt, interest_rate, FrequencyTypes.CONTINUOUS)"
   ]
  },
  {
   "cell_type": "code",
   "execution_count": 6,
   "metadata": {
    "execution": {
     "iopub.execute_input": "2025-08-27T22:34:10.850714Z",
     "iopub.status.busy": "2025-08-27T22:34:10.850452Z",
     "iopub.status.idle": "2025-08-27T22:34:10.853811Z",
     "shell.execute_reply": "2025-08-27T22:34:10.853514Z"
    }
   },
   "outputs": [],
   "source": [
    "dividend_curve = DiscountCurveFlat(value_dt, dividend_yield, FrequencyTypes.CONTINUOUS)"
   ]
  },
  {
   "cell_type": "code",
   "execution_count": 7,
   "metadata": {
    "execution": {
     "iopub.execute_input": "2025-08-27T22:34:10.855929Z",
     "iopub.status.busy": "2025-08-27T22:34:10.855698Z",
     "iopub.status.idle": "2025-08-27T22:34:10.858330Z",
     "shell.execute_reply": "2025-08-27T22:34:10.857862Z"
    }
   },
   "outputs": [],
   "source": [
    "model = BlackScholes(volatility)"
   ]
  },
  {
   "cell_type": "markdown",
   "metadata": {},
   "source": [
    "## Vectorising the Strikes"
   ]
  },
  {
   "cell_type": "code",
   "execution_count": 8,
   "metadata": {
    "execution": {
     "iopub.execute_input": "2025-08-27T22:34:10.860673Z",
     "iopub.status.busy": "2025-08-27T22:34:10.860461Z",
     "iopub.status.idle": "2025-08-27T22:34:10.862905Z",
     "shell.execute_reply": "2025-08-27T22:34:10.862500Z"
    }
   },
   "outputs": [],
   "source": [
    "expiry_dt = Date(20, 6, 2020)"
   ]
  },
  {
   "cell_type": "code",
   "execution_count": 9,
   "metadata": {
    "execution": {
     "iopub.execute_input": "2025-08-27T22:34:10.864949Z",
     "iopub.status.busy": "2025-08-27T22:34:10.864658Z",
     "iopub.status.idle": "2025-08-27T22:34:10.867389Z",
     "shell.execute_reply": "2025-08-27T22:34:10.867024Z"
    }
   },
   "outputs": [],
   "source": [
    "strike_price = 100.0"
   ]
  },
  {
   "cell_type": "code",
   "execution_count": 10,
   "metadata": {
    "execution": {
     "iopub.execute_input": "2025-08-27T22:34:10.869084Z",
     "iopub.status.busy": "2025-08-27T22:34:10.868850Z",
     "iopub.status.idle": "2025-08-27T22:34:10.871003Z",
     "shell.execute_reply": "2025-08-27T22:34:10.870662Z"
    }
   },
   "outputs": [],
   "source": [
    "call_option = EquityVanillaOption(expiry_dt, strike_price, OptionTypes.EUROPEAN_CALL)"
   ]
  },
  {
   "cell_type": "code",
   "execution_count": 11,
   "metadata": {
    "execution": {
     "iopub.execute_input": "2025-08-27T22:34:10.873313Z",
     "iopub.status.busy": "2025-08-27T22:34:10.873050Z",
     "iopub.status.idle": "2025-08-27T22:34:10.878384Z",
     "shell.execute_reply": "2025-08-27T22:34:10.877972Z"
    }
   },
   "outputs": [
    {
     "data": {
      "text/plain": [
       "OBJECT TYPE: EquityVanillaOption\n",
       "EXPIRY DATE: 20-JUN-2020\n",
       "STRIKE PRICE: 100.0\n",
       "OPTION TYPE VALUE: OptionTypes.EUROPEAN_CALL\n",
       "NUMBER: 1.0"
      ]
     },
     "execution_count": 11,
     "metadata": {},
     "output_type": "execute_result"
    }
   ],
   "source": [
    "call_option"
   ]
  },
  {
   "cell_type": "markdown",
   "metadata": {},
   "source": [
    "Let's do a valuation"
   ]
  },
  {
   "cell_type": "code",
   "execution_count": 12,
   "metadata": {
    "execution": {
     "iopub.execute_input": "2025-08-27T22:34:10.880564Z",
     "iopub.status.busy": "2025-08-27T22:34:10.880316Z",
     "iopub.status.idle": "2025-08-27T22:34:10.883984Z",
     "shell.execute_reply": "2025-08-27T22:34:10.883612Z"
    }
   },
   "outputs": [
    {
     "data": {
      "text/plain": [
       "np.float64(6.185679574917835)"
      ]
     },
     "execution_count": 12,
     "metadata": {},
     "output_type": "execute_result"
    }
   ],
   "source": [
    "call_option.value(value_dt, stock_price, discount_curve, dividend_curve, model)"
   ]
  },
  {
   "cell_type": "markdown",
   "metadata": {},
   "source": [
    "Now we vectorise the strikes"
   ]
  },
  {
   "cell_type": "code",
   "execution_count": 13,
   "metadata": {
    "execution": {
     "iopub.execute_input": "2025-08-27T22:34:10.886637Z",
     "iopub.status.busy": "2025-08-27T22:34:10.886374Z",
     "iopub.status.idle": "2025-08-27T22:34:10.888874Z",
     "shell.execute_reply": "2025-08-27T22:34:10.888502Z"
    }
   },
   "outputs": [],
   "source": [
    "strike_price = np.linspace(100,150,10)"
   ]
  },
  {
   "cell_type": "code",
   "execution_count": 14,
   "metadata": {
    "execution": {
     "iopub.execute_input": "2025-08-27T22:34:10.890502Z",
     "iopub.status.busy": "2025-08-27T22:34:10.890309Z",
     "iopub.status.idle": "2025-08-27T22:34:10.892613Z",
     "shell.execute_reply": "2025-08-27T22:34:10.892182Z"
    }
   },
   "outputs": [],
   "source": [
    "call_option = EquityVanillaOption(expiry_dt, strike_price, OptionTypes.EUROPEAN_CALL)"
   ]
  },
  {
   "cell_type": "code",
   "execution_count": 15,
   "metadata": {
    "execution": {
     "iopub.execute_input": "2025-08-27T22:34:10.894836Z",
     "iopub.status.busy": "2025-08-27T22:34:10.894571Z",
     "iopub.status.idle": "2025-08-27T22:34:10.898373Z",
     "shell.execute_reply": "2025-08-27T22:34:10.897883Z"
    }
   },
   "outputs": [
    {
     "data": {
      "text/plain": [
       "OBJECT TYPE: EquityVanillaOption\n",
       "EXPIRY DATE: 20-JUN-2020\n",
       "STRIKE PRICE: [100.         105.55555556 111.11111111 116.66666667 122.22222222\n",
       " 127.77777778 133.33333333 138.88888889 144.44444444 150.        ]\n",
       "OPTION TYPE VALUE: OptionTypes.EUROPEAN_CALL\n",
       "NUMBER: 1.0"
      ]
     },
     "execution_count": 15,
     "metadata": {},
     "output_type": "execute_result"
    }
   ],
   "source": [
    "call_option"
   ]
  },
  {
   "cell_type": "markdown",
   "metadata": {},
   "source": [
    "Now see if this can be vectorised"
   ]
  },
  {
   "cell_type": "code",
   "execution_count": 16,
   "metadata": {
    "execution": {
     "iopub.execute_input": "2025-08-27T22:34:10.900079Z",
     "iopub.status.busy": "2025-08-27T22:34:10.899833Z",
     "iopub.status.idle": "2025-08-27T22:34:10.903085Z",
     "shell.execute_reply": "2025-08-27T22:34:10.902758Z"
    }
   },
   "outputs": [
    {
     "data": {
      "text/plain": [
       "array([6.18567957, 3.71227186, 2.07068602, 1.07657716, 0.52399448,\n",
       "       0.23998124, 0.10397414, 0.04284297, 0.01687534, 0.00638438])"
      ]
     },
     "execution_count": 16,
     "metadata": {},
     "output_type": "execute_result"
    }
   ],
   "source": [
    "call_option.value(value_dt, stock_price, discount_curve, dividend_curve, model)"
   ]
  },
  {
   "cell_type": "markdown",
   "metadata": {},
   "source": [
    "Yep this works."
   ]
  },
  {
   "cell_type": "markdown",
   "metadata": {},
   "source": [
    "## Vectorising the Expiry Dates FAILS"
   ]
  },
  {
   "cell_type": "code",
   "execution_count": 17,
   "metadata": {
    "execution": {
     "iopub.execute_input": "2025-08-27T22:34:10.905085Z",
     "iopub.status.busy": "2025-08-27T22:34:10.904892Z",
     "iopub.status.idle": "2025-08-27T22:34:10.907393Z",
     "shell.execute_reply": "2025-08-27T22:34:10.907009Z"
    }
   },
   "outputs": [],
   "source": [
    "expiry_dts = value_dt.add_years(np.linspace(0.5,10,20))"
   ]
  },
  {
   "cell_type": "code",
   "execution_count": 18,
   "metadata": {
    "execution": {
     "iopub.execute_input": "2025-08-27T22:34:10.909602Z",
     "iopub.status.busy": "2025-08-27T22:34:10.909340Z",
     "iopub.status.idle": "2025-08-27T22:34:10.912719Z",
     "shell.execute_reply": "2025-08-27T22:34:10.912345Z"
    }
   },
   "outputs": [
    {
     "data": {
      "text/plain": [
       "[20-JUL-2020,\n",
       " 20-JAN-2021,\n",
       " 20-JUL-2021,\n",
       " 20-JAN-2022,\n",
       " 20-JUL-2022,\n",
       " 20-JAN-2023,\n",
       " 20-JUL-2023,\n",
       " 20-JAN-2024,\n",
       " 20-JUL-2024,\n",
       " 20-JAN-2025,\n",
       " 20-JUL-2025,\n",
       " 20-JAN-2026,\n",
       " 20-JUL-2026,\n",
       " 20-JAN-2027,\n",
       " 20-JUL-2027,\n",
       " 20-JAN-2028,\n",
       " 20-JUL-2028,\n",
       " 20-JAN-2029,\n",
       " 20-JUL-2029,\n",
       " 20-JAN-2030]"
      ]
     },
     "execution_count": 18,
     "metadata": {},
     "output_type": "execute_result"
    }
   ],
   "source": [
    "expiry_dts"
   ]
  },
  {
   "cell_type": "markdown",
   "metadata": {},
   "source": [
    "Make the strike a single number"
   ]
  },
  {
   "cell_type": "code",
   "execution_count": 19,
   "metadata": {
    "execution": {
     "iopub.execute_input": "2025-08-27T22:34:10.915478Z",
     "iopub.status.busy": "2025-08-27T22:34:10.915214Z",
     "iopub.status.idle": "2025-08-27T22:34:10.917419Z",
     "shell.execute_reply": "2025-08-27T22:34:10.917123Z"
    }
   },
   "outputs": [],
   "source": [
    "strike_price = 100.0"
   ]
  },
  {
   "cell_type": "code",
   "execution_count": 20,
   "metadata": {
    "execution": {
     "iopub.execute_input": "2025-08-27T22:34:10.919484Z",
     "iopub.status.busy": "2025-08-27T22:34:10.919232Z",
     "iopub.status.idle": "2025-08-27T22:34:10.922262Z",
     "shell.execute_reply": "2025-08-27T22:34:10.921684Z"
    }
   },
   "outputs": [],
   "source": [
    "call_option = EquityVanillaOption(expiry_dts, strike_price, OptionTypes.EUROPEAN_CALL)"
   ]
  },
  {
   "cell_type": "code",
   "execution_count": 21,
   "metadata": {
    "execution": {
     "iopub.execute_input": "2025-08-27T22:34:10.924416Z",
     "iopub.status.busy": "2025-08-27T22:34:10.924155Z",
     "iopub.status.idle": "2025-08-27T22:34:10.927373Z",
     "shell.execute_reply": "2025-08-27T22:34:10.927015Z"
    }
   },
   "outputs": [
    {
     "data": {
      "text/plain": [
       "OBJECT TYPE: EquityVanillaOption\n",
       "EXPIRY DATE: [20-JUL-2020, 20-JAN-2021, 20-JUL-2021, 20-JAN-2022, 20-JUL-2022, 20-JAN-2023, 20-JUL-2023, 20-JAN-2024, 20-JUL-2024, 20-JAN-2025, 20-JUL-2025, 20-JAN-2026, 20-JUL-2026, 20-JAN-2027, 20-JUL-2027, 20-JAN-2028, 20-JUL-2028, 20-JAN-2029, 20-JUL-2029, 20-JAN-2030]\n",
       "STRIKE PRICE: 100.0\n",
       "OPTION TYPE VALUE: OptionTypes.EUROPEAN_CALL\n",
       "NUMBER: 1.0"
      ]
     },
     "execution_count": 21,
     "metadata": {},
     "output_type": "execute_result"
    }
   ],
   "source": [
    "call_option"
   ]
  },
  {
   "cell_type": "code",
   "execution_count": 22,
   "metadata": {
    "execution": {
     "iopub.execute_input": "2025-08-27T22:34:10.929437Z",
     "iopub.status.busy": "2025-08-27T22:34:10.929130Z",
     "iopub.status.idle": "2025-08-27T22:34:10.932763Z",
     "shell.execute_reply": "2025-08-27T22:34:10.932350Z"
    }
   },
   "outputs": [
    {
     "data": {
      "text/plain": [
       "array([25.76819949, 26.7333646 , 27.69730767, 28.68872885, 29.67439658,\n",
       "       30.68604223, 31.68973866, 32.71749364, 33.73824534, 34.77625394,\n",
       "       35.80453806, 36.85365239, 37.8884235 , 38.94217658, 39.97960528,\n",
       "       41.03385005, 42.07307997, 43.1221029 , 44.15378754, 45.19888358])"
      ]
     },
     "execution_count": 22,
     "metadata": {},
     "output_type": "execute_result"
    }
   ],
   "source": [
    "call_option.value(value_dt, stock_price, discount_curve, dividend_curve, model)"
   ]
  },
  {
   "cell_type": "markdown",
   "metadata": {},
   "source": [
    "This works."
   ]
  },
  {
   "cell_type": "markdown",
   "metadata": {},
   "source": [
    "## Vectorising the Enum Type"
   ]
  },
  {
   "cell_type": "code",
   "execution_count": 23,
   "metadata": {
    "execution": {
     "iopub.execute_input": "2025-08-27T22:34:10.934811Z",
     "iopub.status.busy": "2025-08-27T22:34:10.934600Z",
     "iopub.status.idle": "2025-08-27T22:34:10.937428Z",
     "shell.execute_reply": "2025-08-27T22:34:10.936885Z"
    }
   },
   "outputs": [],
   "source": [
    "opt_types = list(OptionTypes)[0:2]"
   ]
  },
  {
   "cell_type": "code",
   "execution_count": 24,
   "metadata": {
    "execution": {
     "iopub.execute_input": "2025-08-27T22:34:10.939330Z",
     "iopub.status.busy": "2025-08-27T22:34:10.939126Z",
     "iopub.status.idle": "2025-08-27T22:34:10.942331Z",
     "shell.execute_reply": "2025-08-27T22:34:10.941906Z"
    }
   },
   "outputs": [
    {
     "data": {
      "text/plain": [
       "[<OptionTypes.EUROPEAN_CALL: 1>, <OptionTypes.EUROPEAN_PUT: 2>]"
      ]
     },
     "execution_count": 24,
     "metadata": {},
     "output_type": "execute_result"
    }
   ],
   "source": [
    "opt_types"
   ]
  },
  {
   "cell_type": "code",
   "execution_count": 25,
   "metadata": {
    "execution": {
     "iopub.execute_input": "2025-08-27T22:34:10.943883Z",
     "iopub.status.busy": "2025-08-27T22:34:10.943688Z",
     "iopub.status.idle": "2025-08-27T22:34:10.945896Z",
     "shell.execute_reply": "2025-08-27T22:34:10.945529Z"
    }
   },
   "outputs": [],
   "source": [
    "call_option = EquityVanillaOption(expiry_dt, strike_price, opt_types)"
   ]
  },
  {
   "cell_type": "code",
   "execution_count": 26,
   "metadata": {
    "execution": {
     "iopub.execute_input": "2025-08-27T22:34:10.947452Z",
     "iopub.status.busy": "2025-08-27T22:34:10.947264Z",
     "iopub.status.idle": "2025-08-27T22:34:10.950516Z",
     "shell.execute_reply": "2025-08-27T22:34:10.950173Z"
    }
   },
   "outputs": [
    {
     "data": {
      "text/plain": [
       "array([6.18567957, 4.13058771])"
      ]
     },
     "execution_count": 26,
     "metadata": {},
     "output_type": "execute_result"
    }
   ],
   "source": [
    "call_option.value(value_dt, stock_price, discount_curve, dividend_curve, model)"
   ]
  },
  {
   "cell_type": "markdown",
   "metadata": {},
   "source": [
    "This works but only if the number of elements is the same for all of the inputs."
   ]
  },
  {
   "cell_type": "markdown",
   "metadata": {},
   "source": [
    "Copyright (c) 2020 Dominic O'Kane"
   ]
  }
 ],
 "metadata": {
  "kernelspec": {
   "display_name": "base",
   "language": "python",
   "name": "python3"
  },
  "language_info": {
   "codemirror_mode": {
    "name": "ipython",
    "version": 3
   },
   "file_extension": ".py",
   "mimetype": "text/x-python",
   "name": "python",
   "nbconvert_exporter": "python",
   "pygments_lexer": "ipython3",
   "version": "3.13.5"
  }
 },
 "nbformat": 4,
 "nbformat_minor": 2
}
