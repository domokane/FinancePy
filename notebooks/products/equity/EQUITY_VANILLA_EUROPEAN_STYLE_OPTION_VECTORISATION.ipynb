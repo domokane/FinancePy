{
 "cells": [
  {
   "cell_type": "markdown",
   "metadata": {},
   "source": [
    "# EQUITY VANILLA EUROPEAN-STYLE OPTIONS"
   ]
  },
  {
   "cell_type": "markdown",
   "metadata": {},
   "source": [
    "Valuation and Risk of a simple Vanilla Equity Option"
   ]
  },
  {
   "cell_type": "code",
   "execution_count": 1,
   "metadata": {
    "execution": {
     "iopub.execute_input": "2025-08-27T21:47:16.903556Z",
     "iopub.status.busy": "2025-08-27T21:47:16.903314Z",
     "iopub.status.idle": "2025-08-27T21:47:17.355207Z",
     "shell.execute_reply": "2025-08-27T21:47:17.354730Z"
    }
   },
   "outputs": [],
   "source": [
    "import numpy as np\n",
    "import matplotlib.pyplot as plt"
   ]
  },
  {
   "cell_type": "code",
   "execution_count": 2,
   "metadata": {
    "execution": {
     "iopub.execute_input": "2025-08-27T21:47:17.357407Z",
     "iopub.status.busy": "2025-08-27T21:47:17.357141Z",
     "iopub.status.idle": "2025-08-27T21:47:20.242626Z",
     "shell.execute_reply": "2025-08-27T21:47:20.242009Z"
    }
   },
   "outputs": [
    {
     "name": "stdout",
     "output_type": "stream",
     "text": [
      "####################################################################\n",
      "#    FINANCEPY Version 1.1 - This build: 27 Aug 2025 at 23:27      #\n",
      "#     This software is distributed FREE AND WITHOUT ANY WARRANTY   #\n",
      "#  Report bugs as issues at https://github.com/domokane/FinancePy  #\n",
      "####################################################################\n",
      "\n"
     ]
    }
   ],
   "source": [
    "from financepy.utils.date import Date\n",
    "from financepy.products.equity import *\n",
    "from financepy.market.curves import *"
   ]
  },
  {
   "cell_type": "markdown",
   "metadata": {},
   "source": [
    "In the library products are created and then valued. We should be able to vectorise the product inputs and the valuation inputs separately and jointly."
   ]
  },
  {
   "cell_type": "markdown",
   "metadata": {},
   "source": [
    "# 1 - Define and value the Call Options using Vectorised Product Inputs"
   ]
  },
  {
   "cell_type": "markdown",
   "metadata": {},
   "source": [
    "We consider an equity call option. The inputs are:\n",
    "1) Expiry date\n",
    "2) Strike price\n",
    "3) Option Type (call or put)"
   ]
  },
  {
   "cell_type": "markdown",
   "metadata": {},
   "source": [
    "We start with the strikes as this is the easiest."
   ]
  },
  {
   "cell_type": "markdown",
   "metadata": {},
   "source": [
    "I just define some initial non-product inputs"
   ]
  },
  {
   "cell_type": "code",
   "execution_count": 3,
   "metadata": {
    "execution": {
     "iopub.execute_input": "2025-08-27T21:47:20.245479Z",
     "iopub.status.busy": "2025-08-27T21:47:20.245113Z",
     "iopub.status.idle": "2025-08-27T21:47:20.248553Z",
     "shell.execute_reply": "2025-08-27T21:47:20.247962Z"
    }
   },
   "outputs": [],
   "source": [
    "stock_price = 100.0\n",
    "volatility = 0.20\n",
    "interest_rate = 0.05\n",
    "dividend_yield = 0.0"
   ]
  },
  {
   "cell_type": "code",
   "execution_count": 4,
   "metadata": {
    "execution": {
     "iopub.execute_input": "2025-08-27T21:47:20.250818Z",
     "iopub.status.busy": "2025-08-27T21:47:20.250498Z",
     "iopub.status.idle": "2025-08-27T21:47:20.270793Z",
     "shell.execute_reply": "2025-08-27T21:47:20.270122Z"
    }
   },
   "outputs": [],
   "source": [
    "value_dt = Date(20, 1, 2020)"
   ]
  },
  {
   "cell_type": "code",
   "execution_count": 5,
   "metadata": {
    "execution": {
     "iopub.execute_input": "2025-08-27T21:47:20.272965Z",
     "iopub.status.busy": "2025-08-27T21:47:20.272729Z",
     "iopub.status.idle": "2025-08-27T21:47:20.282573Z",
     "shell.execute_reply": "2025-08-27T21:47:20.282006Z"
    }
   },
   "outputs": [],
   "source": [
    "discount_curve = DiscountCurveFlat(value_dt, interest_rate, FrequencyTypes.CONTINUOUS)"
   ]
  },
  {
   "cell_type": "code",
   "execution_count": 6,
   "metadata": {
    "execution": {
     "iopub.execute_input": "2025-08-27T21:47:20.285384Z",
     "iopub.status.busy": "2025-08-27T21:47:20.285089Z",
     "iopub.status.idle": "2025-08-27T21:47:20.288493Z",
     "shell.execute_reply": "2025-08-27T21:47:20.288061Z"
    }
   },
   "outputs": [],
   "source": [
    "dividend_curve = DiscountCurveFlat(value_dt, dividend_yield, FrequencyTypes.CONTINUOUS)"
   ]
  },
  {
   "cell_type": "code",
   "execution_count": 7,
   "metadata": {
    "execution": {
     "iopub.execute_input": "2025-08-27T21:47:20.290327Z",
     "iopub.status.busy": "2025-08-27T21:47:20.290091Z",
     "iopub.status.idle": "2025-08-27T21:47:20.292951Z",
     "shell.execute_reply": "2025-08-27T21:47:20.292440Z"
    }
   },
   "outputs": [],
   "source": [
    "model = BlackScholes(volatility)"
   ]
  },
  {
   "cell_type": "markdown",
   "metadata": {},
   "source": [
    "## Vectorising the Strikes"
   ]
  },
  {
   "cell_type": "code",
   "execution_count": 8,
   "metadata": {
    "execution": {
     "iopub.execute_input": "2025-08-27T21:47:20.295053Z",
     "iopub.status.busy": "2025-08-27T21:47:20.294781Z",
     "iopub.status.idle": "2025-08-27T21:47:20.297392Z",
     "shell.execute_reply": "2025-08-27T21:47:20.296883Z"
    }
   },
   "outputs": [],
   "source": [
    "expiry_dt = Date(20, 6, 2020)"
   ]
  },
  {
   "cell_type": "code",
   "execution_count": 9,
   "metadata": {
    "execution": {
     "iopub.execute_input": "2025-08-27T21:47:20.299603Z",
     "iopub.status.busy": "2025-08-27T21:47:20.299363Z",
     "iopub.status.idle": "2025-08-27T21:47:20.302065Z",
     "shell.execute_reply": "2025-08-27T21:47:20.301613Z"
    }
   },
   "outputs": [],
   "source": [
    "strike_price = 100.0"
   ]
  },
  {
   "cell_type": "code",
   "execution_count": 10,
   "metadata": {
    "execution": {
     "iopub.execute_input": "2025-08-27T21:47:20.303869Z",
     "iopub.status.busy": "2025-08-27T21:47:20.303610Z",
     "iopub.status.idle": "2025-08-27T21:47:20.306431Z",
     "shell.execute_reply": "2025-08-27T21:47:20.306020Z"
    }
   },
   "outputs": [],
   "source": [
    "call_option = EquityVanillaOption(expiry_dt, strike_price, OptionTypes.EUROPEAN_CALL)"
   ]
  },
  {
   "cell_type": "code",
   "execution_count": 11,
   "metadata": {
    "execution": {
     "iopub.execute_input": "2025-08-27T21:47:20.308407Z",
     "iopub.status.busy": "2025-08-27T21:47:20.308102Z",
     "iopub.status.idle": "2025-08-27T21:47:20.313500Z",
     "shell.execute_reply": "2025-08-27T21:47:20.313077Z"
    }
   },
   "outputs": [
    {
     "data": {
      "text/plain": [
       "OBJECT TYPE: EquityVanillaOption\n",
       "EXPIRY DATE: 20-JUN-2020\n",
       "STRIKE PRICE: 100.0\n",
       "OPTION TYPE VALUE: OptionTypes.EUROPEAN_CALL\n",
       "NUMBER: 1.0"
      ]
     },
     "execution_count": 11,
     "metadata": {},
     "output_type": "execute_result"
    }
   ],
   "source": [
    "call_option"
   ]
  },
  {
   "cell_type": "markdown",
   "metadata": {},
   "source": [
    "Let's do a valuation"
   ]
  },
  {
   "cell_type": "code",
   "execution_count": 12,
   "metadata": {
    "execution": {
     "iopub.execute_input": "2025-08-27T21:47:20.315154Z",
     "iopub.status.busy": "2025-08-27T21:47:20.314950Z",
     "iopub.status.idle": "2025-08-27T21:47:20.318873Z",
     "shell.execute_reply": "2025-08-27T21:47:20.318394Z"
    }
   },
   "outputs": [
    {
     "data": {
      "text/plain": [
       "np.float64(6.185679574917835)"
      ]
     },
     "execution_count": 12,
     "metadata": {},
     "output_type": "execute_result"
    }
   ],
   "source": [
    "call_option.value(value_dt, stock_price, discount_curve, dividend_curve, model)"
   ]
  },
  {
   "cell_type": "markdown",
   "metadata": {},
   "source": [
    "Now we vectorise the strikes"
   ]
  },
  {
   "cell_type": "code",
   "execution_count": 13,
   "metadata": {
    "execution": {
     "iopub.execute_input": "2025-08-27T21:47:20.320905Z",
     "iopub.status.busy": "2025-08-27T21:47:20.320568Z",
     "iopub.status.idle": "2025-08-27T21:47:20.323027Z",
     "shell.execute_reply": "2025-08-27T21:47:20.322641Z"
    }
   },
   "outputs": [],
   "source": [
    "strike_price = np.linspace(100,150,10)"
   ]
  },
  {
   "cell_type": "code",
   "execution_count": 14,
   "metadata": {
    "execution": {
     "iopub.execute_input": "2025-08-27T21:47:20.324707Z",
     "iopub.status.busy": "2025-08-27T21:47:20.324350Z",
     "iopub.status.idle": "2025-08-27T21:47:20.326999Z",
     "shell.execute_reply": "2025-08-27T21:47:20.326655Z"
    }
   },
   "outputs": [],
   "source": [
    "call_option = EquityVanillaOption(expiry_dt, strike_price, OptionTypes.EUROPEAN_CALL)"
   ]
  },
  {
   "cell_type": "code",
   "execution_count": 15,
   "metadata": {
    "execution": {
     "iopub.execute_input": "2025-08-27T21:47:20.328481Z",
     "iopub.status.busy": "2025-08-27T21:47:20.328295Z",
     "iopub.status.idle": "2025-08-27T21:47:20.331165Z",
     "shell.execute_reply": "2025-08-27T21:47:20.330855Z"
    }
   },
   "outputs": [
    {
     "data": {
      "text/plain": [
       "OBJECT TYPE: EquityVanillaOption\n",
       "EXPIRY DATE: 20-JUN-2020\n",
       "STRIKE PRICE: [100.         105.55555556 111.11111111 116.66666667 122.22222222\n",
       " 127.77777778 133.33333333 138.88888889 144.44444444 150.        ]\n",
       "OPTION TYPE VALUE: OptionTypes.EUROPEAN_CALL\n",
       "NUMBER: 1.0"
      ]
     },
     "execution_count": 15,
     "metadata": {},
     "output_type": "execute_result"
    }
   ],
   "source": [
    "call_option"
   ]
  },
  {
   "cell_type": "markdown",
   "metadata": {},
   "source": [
    "Now see if this can be vectorised"
   ]
  },
  {
   "cell_type": "code",
   "execution_count": 16,
   "metadata": {
    "execution": {
     "iopub.execute_input": "2025-08-27T21:47:20.332944Z",
     "iopub.status.busy": "2025-08-27T21:47:20.332630Z",
     "iopub.status.idle": "2025-08-27T21:47:20.336029Z",
     "shell.execute_reply": "2025-08-27T21:47:20.335704Z"
    }
   },
   "outputs": [
    {
     "data": {
      "text/plain": [
       "array([6.18567957, 3.71227186, 2.07068602, 1.07657716, 0.52399448,\n",
       "       0.23998124, 0.10397414, 0.04284297, 0.01687534, 0.00638438])"
      ]
     },
     "execution_count": 16,
     "metadata": {},
     "output_type": "execute_result"
    }
   ],
   "source": [
    "call_option.value(value_dt, stock_price, discount_curve, dividend_curve, model)"
   ]
  },
  {
   "cell_type": "markdown",
   "metadata": {},
   "source": [
    "Yep this works."
   ]
  },
  {
   "cell_type": "markdown",
   "metadata": {},
   "source": [
    "## Vectorising the Expiry Dates FAILS"
   ]
  },
  {
   "cell_type": "code",
   "execution_count": 17,
   "metadata": {
    "execution": {
     "iopub.execute_input": "2025-08-27T21:47:20.337740Z",
     "iopub.status.busy": "2025-08-27T21:47:20.337411Z",
     "iopub.status.idle": "2025-08-27T21:47:20.340050Z",
     "shell.execute_reply": "2025-08-27T21:47:20.339667Z"
    }
   },
   "outputs": [],
   "source": [
    "expiry_dts = value_dt.add_years(np.linspace(0.5,10,20))"
   ]
  },
  {
   "cell_type": "code",
   "execution_count": 18,
   "metadata": {
    "execution": {
     "iopub.execute_input": "2025-08-27T21:47:20.341694Z",
     "iopub.status.busy": "2025-08-27T21:47:20.341359Z",
     "iopub.status.idle": "2025-08-27T21:47:20.344709Z",
     "shell.execute_reply": "2025-08-27T21:47:20.344398Z"
    }
   },
   "outputs": [
    {
     "data": {
      "text/plain": [
       "[20-JUL-2020,\n",
       " 20-JAN-2021,\n",
       " 20-JUL-2021,\n",
       " 20-JAN-2022,\n",
       " 20-JUL-2022,\n",
       " 20-JAN-2023,\n",
       " 20-JUL-2023,\n",
       " 20-JAN-2024,\n",
       " 20-JUL-2024,\n",
       " 20-JAN-2025,\n",
       " 20-JUL-2025,\n",
       " 20-JAN-2026,\n",
       " 20-JUL-2026,\n",
       " 20-JAN-2027,\n",
       " 20-JUL-2027,\n",
       " 20-JAN-2028,\n",
       " 20-JUL-2028,\n",
       " 20-JAN-2029,\n",
       " 20-JUL-2029,\n",
       " 20-JAN-2030]"
      ]
     },
     "execution_count": 18,
     "metadata": {},
     "output_type": "execute_result"
    }
   ],
   "source": [
    "expiry_dts"
   ]
  },
  {
   "cell_type": "markdown",
   "metadata": {},
   "source": [
    "Make the strike a single number"
   ]
  },
  {
   "cell_type": "code",
   "execution_count": 19,
   "metadata": {
    "execution": {
     "iopub.execute_input": "2025-08-27T21:47:20.346308Z",
     "iopub.status.busy": "2025-08-27T21:47:20.346118Z",
     "iopub.status.idle": "2025-08-27T21:47:20.348289Z",
     "shell.execute_reply": "2025-08-27T21:47:20.347996Z"
    }
   },
   "outputs": [],
   "source": [
    "strike_price = 100.0"
   ]
  },
  {
   "cell_type": "code",
   "execution_count": 20,
   "metadata": {
    "execution": {
     "iopub.execute_input": "2025-08-27T21:47:20.350150Z",
     "iopub.status.busy": "2025-08-27T21:47:20.349775Z",
     "iopub.status.idle": "2025-08-27T21:47:20.352467Z",
     "shell.execute_reply": "2025-08-27T21:47:20.352056Z"
    }
   },
   "outputs": [],
   "source": [
    "call_option = EquityVanillaOption(expiry_dts, strike_price, OptionTypes.EUROPEAN_CALL)"
   ]
  },
  {
   "cell_type": "code",
   "execution_count": 21,
   "metadata": {
    "execution": {
     "iopub.execute_input": "2025-08-27T21:47:20.354020Z",
     "iopub.status.busy": "2025-08-27T21:47:20.353842Z",
     "iopub.status.idle": "2025-08-27T21:47:20.357022Z",
     "shell.execute_reply": "2025-08-27T21:47:20.356657Z"
    }
   },
   "outputs": [
    {
     "data": {
      "text/plain": [
       "OBJECT TYPE: EquityVanillaOption\n",
       "EXPIRY DATE: [20-JUL-2020, 20-JAN-2021, 20-JUL-2021, 20-JAN-2022, 20-JUL-2022, 20-JAN-2023, 20-JUL-2023, 20-JAN-2024, 20-JUL-2024, 20-JAN-2025, 20-JUL-2025, 20-JAN-2026, 20-JUL-2026, 20-JAN-2027, 20-JUL-2027, 20-JAN-2028, 20-JUL-2028, 20-JAN-2029, 20-JUL-2029, 20-JAN-2030]\n",
       "STRIKE PRICE: 100.0\n",
       "OPTION TYPE VALUE: OptionTypes.EUROPEAN_CALL\n",
       "NUMBER: 1.0"
      ]
     },
     "execution_count": 21,
     "metadata": {},
     "output_type": "execute_result"
    }
   ],
   "source": [
    "call_option"
   ]
  },
  {
   "cell_type": "code",
   "execution_count": 22,
   "metadata": {
    "execution": {
     "iopub.execute_input": "2025-08-27T21:47:20.358611Z",
     "iopub.status.busy": "2025-08-27T21:47:20.358358Z",
     "iopub.status.idle": "2025-08-27T21:47:20.361765Z",
     "shell.execute_reply": "2025-08-27T21:47:20.361394Z"
    }
   },
   "outputs": [
    {
     "data": {
      "text/plain": [
       "array([25.76819949, 26.7333646 , 27.69730767, 28.68872885, 29.67439658,\n",
       "       30.68604223, 31.68973866, 32.71749364, 33.73824534, 34.77625394,\n",
       "       35.80453806, 36.85365239, 37.8884235 , 38.94217658, 39.97960528,\n",
       "       41.03385005, 42.07307997, 43.1221029 , 44.15378754, 45.19888358])"
      ]
     },
     "execution_count": 22,
     "metadata": {},
     "output_type": "execute_result"
    }
   ],
   "source": [
    "call_option.value(value_dt, stock_price, discount_curve, dividend_curve, model)"
   ]
  },
  {
   "cell_type": "markdown",
   "metadata": {},
   "source": [
    "This works."
   ]
  },
  {
   "cell_type": "markdown",
   "metadata": {},
   "source": [
    "## Vectorising the Enum Type"
   ]
  },
  {
   "cell_type": "code",
   "execution_count": 23,
   "metadata": {
    "execution": {
     "iopub.execute_input": "2025-08-27T21:47:20.363385Z",
     "iopub.status.busy": "2025-08-27T21:47:20.363045Z",
     "iopub.status.idle": "2025-08-27T21:47:20.365567Z",
     "shell.execute_reply": "2025-08-27T21:47:20.365083Z"
    }
   },
   "outputs": [],
   "source": [
    "opt_types = list(OptionTypes)[0:2]"
   ]
  },
  {
   "cell_type": "code",
   "execution_count": 24,
   "metadata": {
    "execution": {
     "iopub.execute_input": "2025-08-27T21:47:20.367387Z",
     "iopub.status.busy": "2025-08-27T21:47:20.367185Z",
     "iopub.status.idle": "2025-08-27T21:47:20.370355Z",
     "shell.execute_reply": "2025-08-27T21:47:20.369909Z"
    }
   },
   "outputs": [
    {
     "data": {
      "text/plain": [
       "[<OptionTypes.EUROPEAN_CALL: 1>, <OptionTypes.EUROPEAN_PUT: 2>]"
      ]
     },
     "execution_count": 24,
     "metadata": {},
     "output_type": "execute_result"
    }
   ],
   "source": [
    "opt_types"
   ]
  },
  {
   "cell_type": "code",
   "execution_count": 25,
   "metadata": {
    "execution": {
     "iopub.execute_input": "2025-08-27T21:47:20.372218Z",
     "iopub.status.busy": "2025-08-27T21:47:20.371908Z",
     "iopub.status.idle": "2025-08-27T21:47:20.374299Z",
     "shell.execute_reply": "2025-08-27T21:47:20.373931Z"
    }
   },
   "outputs": [],
   "source": [
    "call_option = EquityVanillaOption(expiry_dt, strike_price, opt_types)"
   ]
  },
  {
   "cell_type": "code",
   "execution_count": 26,
   "metadata": {
    "execution": {
     "iopub.execute_input": "2025-08-27T21:47:20.375847Z",
     "iopub.status.busy": "2025-08-27T21:47:20.375597Z",
     "iopub.status.idle": "2025-08-27T21:47:20.378669Z",
     "shell.execute_reply": "2025-08-27T21:47:20.378295Z"
    }
   },
   "outputs": [
    {
     "data": {
      "text/plain": [
       "array([6.18567957, 4.13058771])"
      ]
     },
     "execution_count": 26,
     "metadata": {},
     "output_type": "execute_result"
    }
   ],
   "source": [
    "call_option.value(value_dt, stock_price, discount_curve, dividend_curve, model)"
   ]
  },
  {
   "cell_type": "markdown",
   "metadata": {},
   "source": [
    "This works but only if the number of elements is the same for all of the inputs."
   ]
  },
  {
   "cell_type": "markdown",
   "metadata": {},
   "source": [
    "Copyright (c) 2020 Dominic O'Kane"
   ]
  }
 ],
 "metadata": {
  "kernelspec": {
   "display_name": "base",
   "language": "python",
   "name": "python3"
  },
  "language_info": {
   "codemirror_mode": {
    "name": "ipython",
    "version": 3
   },
   "file_extension": ".py",
   "mimetype": "text/x-python",
   "name": "python",
   "nbconvert_exporter": "python",
   "pygments_lexer": "ipython3",
   "version": "3.13.5"
  }
 },
 "nbformat": 4,
 "nbformat_minor": 2
}
