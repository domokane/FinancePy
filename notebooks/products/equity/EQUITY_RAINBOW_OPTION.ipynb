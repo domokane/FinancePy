{
 "cells": [
  {
   "cell_type": "markdown",
   "metadata": {},
   "source": [
    "# EQUITY RAINBOW OPTION"
   ]
  },
  {
   "cell_type": "markdown",
   "metadata": {},
   "source": [
    "Valuation and Risk of Equity Rainbow Options - options on the best, worst and n-th best or worst performance in a basket of equities."
   ]
  },
  {
   "cell_type": "code",
   "execution_count": 1,
   "metadata": {
    "execution": {
     "iopub.execute_input": "2025-08-27T21:46:31.658009Z",
     "iopub.status.busy": "2025-08-27T21:46:31.657819Z",
     "iopub.status.idle": "2025-08-27T21:46:32.095168Z",
     "shell.execute_reply": "2025-08-27T21:46:32.094603Z"
    }
   },
   "outputs": [],
   "source": [
    "import numpy as np\n",
    "import matplotlib.pyplot as plt"
   ]
  },
  {
   "cell_type": "code",
   "execution_count": 2,
   "metadata": {
    "execution": {
     "iopub.execute_input": "2025-08-27T21:46:32.097280Z",
     "iopub.status.busy": "2025-08-27T21:46:32.097049Z",
     "iopub.status.idle": "2025-08-27T21:46:34.765542Z",
     "shell.execute_reply": "2025-08-27T21:46:34.765094Z"
    }
   },
   "outputs": [
    {
     "name": "stdout",
     "output_type": "stream",
     "text": [
      "####################################################################\n",
      "#    FINANCEPY Version 1.1 - This build: 27 Aug 2025 at 23:27      #\n",
      "#     This software is distributed FREE AND WITHOUT ANY WARRANTY   #\n",
      "#  Report bugs as issues at https://github.com/domokane/FinancePy  #\n",
      "####################################################################\n",
      "\n"
     ]
    }
   ],
   "source": [
    "from financepy.utils import *\n",
    "from financepy.market.curves import *\n",
    "from financepy.products.equity import *"
   ]
  },
  {
   "cell_type": "markdown",
   "metadata": {},
   "source": [
    "# Rainbow Options"
   ]
  },
  {
   "cell_type": "markdown",
   "metadata": {},
   "source": [
    "We can handle a range of payoff types"
   ]
  },
  {
   "cell_type": "code",
   "execution_count": 3,
   "metadata": {
    "execution": {
     "iopub.execute_input": "2025-08-27T21:46:34.767765Z",
     "iopub.status.busy": "2025-08-27T21:46:34.767339Z",
     "iopub.status.idle": "2025-08-27T21:46:34.770138Z",
     "shell.execute_reply": "2025-08-27T21:46:34.769787Z"
    }
   },
   "outputs": [
    {
     "name": "stdout",
     "output_type": "stream",
     "text": [
      "EquityRainbowOptionTypes.CALL_ON_MAXIMUM\n",
      "EquityRainbowOptionTypes.PUT_ON_MAXIMUM\n",
      "EquityRainbowOptionTypes.CALL_ON_MINIMUM\n",
      "EquityRainbowOptionTypes.PUT_ON_MINIMUM\n",
      "EquityRainbowOptionTypes.CALL_ON_NTH\n",
      "EquityRainbowOptionTypes.PUT_ON_NTH\n"
     ]
    }
   ],
   "source": [
    "for payoff in EquityRainbowOptionTypes:\n",
    "    print(payoff)"
   ]
  },
  {
   "cell_type": "markdown",
   "metadata": {},
   "source": [
    "Each type has a different set of parameters which are entered as a vector"
   ]
  },
  {
   "cell_type": "markdown",
   "metadata": {},
   "source": [
    "## CALL ON MAXIMUM"
   ]
  },
  {
   "cell_type": "code",
   "execution_count": 4,
   "metadata": {
    "execution": {
     "iopub.execute_input": "2025-08-27T21:46:34.771976Z",
     "iopub.status.busy": "2025-08-27T21:46:34.771791Z",
     "iopub.status.idle": "2025-08-27T21:46:34.789792Z",
     "shell.execute_reply": "2025-08-27T21:46:34.789318Z"
    }
   },
   "outputs": [],
   "source": [
    "expiry_dt = Date(1, 1, 2016)"
   ]
  },
  {
   "cell_type": "code",
   "execution_count": 5,
   "metadata": {
    "execution": {
     "iopub.execute_input": "2025-08-27T21:46:34.792102Z",
     "iopub.status.busy": "2025-08-27T21:46:34.791874Z",
     "iopub.status.idle": "2025-08-27T21:46:34.794201Z",
     "shell.execute_reply": "2025-08-27T21:46:34.793875Z"
    }
   },
   "outputs": [],
   "source": [
    "strike_price = 105.0"
   ]
  },
  {
   "cell_type": "code",
   "execution_count": 6,
   "metadata": {
    "execution": {
     "iopub.execute_input": "2025-08-27T21:46:34.796023Z",
     "iopub.status.busy": "2025-08-27T21:46:34.795792Z",
     "iopub.status.idle": "2025-08-27T21:46:34.797999Z",
     "shell.execute_reply": "2025-08-27T21:46:34.797597Z"
    }
   },
   "outputs": [],
   "source": [
    "callPayoffType = EquityRainbowOptionTypes.CALL_ON_MAXIMUM\n",
    "putPayoffType = EquityRainbowOptionTypes.PUT_ON_MAXIMUM"
   ]
  },
  {
   "cell_type": "code",
   "execution_count": 7,
   "metadata": {
    "execution": {
     "iopub.execute_input": "2025-08-27T21:46:34.800202Z",
     "iopub.status.busy": "2025-08-27T21:46:34.799884Z",
     "iopub.status.idle": "2025-08-27T21:46:34.802200Z",
     "shell.execute_reply": "2025-08-27T21:46:34.801830Z"
    }
   },
   "outputs": [],
   "source": [
    "payoff_params = [strike_price]"
   ]
  },
  {
   "cell_type": "code",
   "execution_count": 8,
   "metadata": {
    "execution": {
     "iopub.execute_input": "2025-08-27T21:46:34.804062Z",
     "iopub.status.busy": "2025-08-27T21:46:34.803751Z",
     "iopub.status.idle": "2025-08-27T21:46:34.806038Z",
     "shell.execute_reply": "2025-08-27T21:46:34.805679Z"
    }
   },
   "outputs": [],
   "source": [
    "num_assets = 2"
   ]
  },
  {
   "cell_type": "code",
   "execution_count": 9,
   "metadata": {
    "execution": {
     "iopub.execute_input": "2025-08-27T21:46:34.807711Z",
     "iopub.status.busy": "2025-08-27T21:46:34.807523Z",
     "iopub.status.idle": "2025-08-27T21:46:34.810071Z",
     "shell.execute_reply": "2025-08-27T21:46:34.809695Z"
    }
   },
   "outputs": [],
   "source": [
    "callRainbowOption = EquityRainbowOption(expiry_dt, callPayoffType, payoff_params, num_assets)\n",
    "putRainbowOption = EquityRainbowOption(expiry_dt, putPayoffType, payoff_params, num_assets)"
   ]
  },
  {
   "cell_type": "code",
   "execution_count": 10,
   "metadata": {
    "execution": {
     "iopub.execute_input": "2025-08-27T21:46:34.811760Z",
     "iopub.status.busy": "2025-08-27T21:46:34.811499Z",
     "iopub.status.idle": "2025-08-27T21:46:34.813873Z",
     "shell.execute_reply": "2025-08-27T21:46:34.813562Z"
    }
   },
   "outputs": [
    {
     "name": "stdout",
     "output_type": "stream",
     "text": [
      "OBJECT TYPE: EquityRainbowOption\n",
      "EXPIRY DATE: 01-JAN-2016\n",
      "PAYOFF TYPE: EquityRainbowOptionTypes.CALL_ON_MAXIMUM\n",
      "PAYOFF PARAMS: [105.0]\n",
      "NUM ASSETS TYPE: 2\n"
     ]
    }
   ],
   "source": [
    "print(callRainbowOption)"
   ]
  },
  {
   "cell_type": "code",
   "execution_count": 11,
   "metadata": {
    "execution": {
     "iopub.execute_input": "2025-08-27T21:46:34.815443Z",
     "iopub.status.busy": "2025-08-27T21:46:34.815245Z",
     "iopub.status.idle": "2025-08-27T21:46:34.817642Z",
     "shell.execute_reply": "2025-08-27T21:46:34.817335Z"
    }
   },
   "outputs": [
    {
     "name": "stdout",
     "output_type": "stream",
     "text": [
      "OBJECT TYPE: EquityRainbowOption\n",
      "EXPIRY DATE: 01-JAN-2016\n",
      "PAYOFF TYPE: EquityRainbowOptionTypes.PUT_ON_MAXIMUM\n",
      "PAYOFF PARAMS: [105.0]\n",
      "NUM ASSETS TYPE: 2\n"
     ]
    }
   ],
   "source": [
    "print(putRainbowOption)"
   ]
  },
  {
   "cell_type": "markdown",
   "metadata": {},
   "source": [
    "## Valuation"
   ]
  },
  {
   "cell_type": "code",
   "execution_count": 12,
   "metadata": {
    "execution": {
     "iopub.execute_input": "2025-08-27T21:46:34.819572Z",
     "iopub.status.busy": "2025-08-27T21:46:34.819373Z",
     "iopub.status.idle": "2025-08-27T21:46:34.821841Z",
     "shell.execute_reply": "2025-08-27T21:46:34.821364Z"
    }
   },
   "outputs": [],
   "source": [
    "value_dt = Date(1, 1, 2015)"
   ]
  },
  {
   "cell_type": "code",
   "execution_count": 13,
   "metadata": {
    "execution": {
     "iopub.execute_input": "2025-08-27T21:46:34.824053Z",
     "iopub.status.busy": "2025-08-27T21:46:34.823739Z",
     "iopub.status.idle": "2025-08-27T21:46:34.826602Z",
     "shell.execute_reply": "2025-08-27T21:46:34.826087Z"
    }
   },
   "outputs": [],
   "source": [
    "interest_rate = 0.10"
   ]
  },
  {
   "cell_type": "code",
   "execution_count": 14,
   "metadata": {
    "execution": {
     "iopub.execute_input": "2025-08-27T21:46:34.828715Z",
     "iopub.status.busy": "2025-08-27T21:46:34.828386Z",
     "iopub.status.idle": "2025-08-27T21:46:34.837796Z",
     "shell.execute_reply": "2025-08-27T21:46:34.837215Z"
    }
   },
   "outputs": [],
   "source": [
    "discount_curve = DiscountCurveFlat(value_dt, interest_rate)"
   ]
  },
  {
   "cell_type": "code",
   "execution_count": 15,
   "metadata": {
    "execution": {
     "iopub.execute_input": "2025-08-27T21:46:34.840310Z",
     "iopub.status.busy": "2025-08-27T21:46:34.839955Z",
     "iopub.status.idle": "2025-08-27T21:46:34.842952Z",
     "shell.execute_reply": "2025-08-27T21:46:34.842280Z"
    }
   },
   "outputs": [],
   "source": [
    "num_assets = 2"
   ]
  },
  {
   "cell_type": "code",
   "execution_count": 16,
   "metadata": {
    "execution": {
     "iopub.execute_input": "2025-08-27T21:46:34.845027Z",
     "iopub.status.busy": "2025-08-27T21:46:34.844780Z",
     "iopub.status.idle": "2025-08-27T21:46:34.848061Z",
     "shell.execute_reply": "2025-08-27T21:46:34.847539Z"
    }
   },
   "outputs": [],
   "source": [
    "stock_prices = np.ones(num_assets) * 100\n",
    "dividend_yields = np.ones(num_assets) * 0.01\n",
    "volatilities = np.ones(num_assets) * 0.3"
   ]
  },
  {
   "cell_type": "code",
   "execution_count": 17,
   "metadata": {
    "execution": {
     "iopub.execute_input": "2025-08-27T21:46:34.850333Z",
     "iopub.status.busy": "2025-08-27T21:46:34.849932Z",
     "iopub.status.idle": "2025-08-27T21:46:34.854254Z",
     "shell.execute_reply": "2025-08-27T21:46:34.853696Z"
    }
   },
   "outputs": [],
   "source": [
    "dividend_curves = []\n",
    "for dividend_yield in dividend_yields:\n",
    "    dividend_curves.append(DiscountCurveFlat(value_dt, dividend_yield))"
   ]
  },
  {
   "cell_type": "code",
   "execution_count": 18,
   "metadata": {
    "execution": {
     "iopub.execute_input": "2025-08-27T21:46:34.856511Z",
     "iopub.status.busy": "2025-08-27T21:46:34.856244Z",
     "iopub.status.idle": "2025-08-27T21:46:34.859204Z",
     "shell.execute_reply": "2025-08-27T21:46:34.858728Z"
    }
   },
   "outputs": [],
   "source": [
    "correlation = 0.50\n",
    "betas = np.ones(num_assets) * np.sqrt(correlation)\n",
    "corr_matrix = beta_vector_to_corr_matrix(betas)"
   ]
  },
  {
   "cell_type": "code",
   "execution_count": 19,
   "metadata": {
    "execution": {
     "iopub.execute_input": "2025-08-27T21:46:34.861479Z",
     "iopub.status.busy": "2025-08-27T21:46:34.861138Z",
     "iopub.status.idle": "2025-08-27T21:46:34.875849Z",
     "shell.execute_reply": "2025-08-27T21:46:34.875404Z"
    }
   },
   "outputs": [
    {
     "data": {
      "text/plain": [
       "np.float64(20.77450147922707)"
      ]
     },
     "execution_count": 19,
     "metadata": {},
     "output_type": "execute_result"
    }
   ],
   "source": [
    "callRainbowOption.value(value_dt, stock_prices, discount_curve, dividend_curves, volatilities, corr_matrix)"
   ]
  },
  {
   "cell_type": "code",
   "execution_count": 20,
   "metadata": {
    "execution": {
     "iopub.execute_input": "2025-08-27T21:46:34.877769Z",
     "iopub.status.busy": "2025-08-27T21:46:34.877530Z",
     "iopub.status.idle": "2025-08-27T21:46:34.881372Z",
     "shell.execute_reply": "2025-08-27T21:46:34.880779Z"
    }
   },
   "outputs": [
    {
     "data": {
      "text/plain": [
       "np.float64(5.087602353908778)"
      ]
     },
     "execution_count": 20,
     "metadata": {},
     "output_type": "execute_result"
    }
   ],
   "source": [
    "putRainbowOption.value(value_dt, stock_prices, discount_curve, dividend_curves, volatilities, corr_matrix)"
   ]
  },
  {
   "cell_type": "code",
   "execution_count": 21,
   "metadata": {
    "execution": {
     "iopub.execute_input": "2025-08-27T21:46:34.883258Z",
     "iopub.status.busy": "2025-08-27T21:46:34.883008Z",
     "iopub.status.idle": "2025-08-27T21:46:34.908845Z",
     "shell.execute_reply": "2025-08-27T21:46:34.908283Z"
    }
   },
   "outputs": [
    {
     "data": {
      "text/plain": [
       "np.float64(20.78675850643471)"
      ]
     },
     "execution_count": 21,
     "metadata": {},
     "output_type": "execute_result"
    }
   ],
   "source": [
    "callRainbowOption.value_mc(value_dt, stock_prices, discount_curve, dividend_curves, volatilities, corr_matrix)"
   ]
  },
  {
   "cell_type": "code",
   "execution_count": 22,
   "metadata": {
    "execution": {
     "iopub.execute_input": "2025-08-27T21:46:34.911133Z",
     "iopub.status.busy": "2025-08-27T21:46:34.910875Z",
     "iopub.status.idle": "2025-08-27T21:46:34.915093Z",
     "shell.execute_reply": "2025-08-27T21:46:34.914641Z"
    }
   },
   "outputs": [
    {
     "data": {
      "text/plain": [
       "np.float64(5.067127993316386)"
      ]
     },
     "execution_count": 22,
     "metadata": {},
     "output_type": "execute_result"
    }
   ],
   "source": [
    "putRainbowOption.value_mc(value_dt, stock_prices, discount_curve, dividend_curves, volatilities, corr_matrix)"
   ]
  },
  {
   "cell_type": "markdown",
   "metadata": {},
   "source": [
    "## CALL ON MINIMUM"
   ]
  },
  {
   "cell_type": "code",
   "execution_count": 23,
   "metadata": {
    "execution": {
     "iopub.execute_input": "2025-08-27T21:46:34.917632Z",
     "iopub.status.busy": "2025-08-27T21:46:34.917361Z",
     "iopub.status.idle": "2025-08-27T21:46:34.920216Z",
     "shell.execute_reply": "2025-08-27T21:46:34.919705Z"
    }
   },
   "outputs": [],
   "source": [
    "strike_price = 105.0"
   ]
  },
  {
   "cell_type": "code",
   "execution_count": 24,
   "metadata": {
    "execution": {
     "iopub.execute_input": "2025-08-27T21:46:34.922565Z",
     "iopub.status.busy": "2025-08-27T21:46:34.922179Z",
     "iopub.status.idle": "2025-08-27T21:46:34.925416Z",
     "shell.execute_reply": "2025-08-27T21:46:34.924880Z"
    }
   },
   "outputs": [],
   "source": [
    "callPayoffType = EquityRainbowOptionTypes.CALL_ON_MINIMUM\n",
    "putPayoffType = EquityRainbowOptionTypes.PUT_ON_MINIMUM"
   ]
  },
  {
   "cell_type": "code",
   "execution_count": 25,
   "metadata": {
    "execution": {
     "iopub.execute_input": "2025-08-27T21:46:34.927819Z",
     "iopub.status.busy": "2025-08-27T21:46:34.927532Z",
     "iopub.status.idle": "2025-08-27T21:46:34.930338Z",
     "shell.execute_reply": "2025-08-27T21:46:34.929898Z"
    }
   },
   "outputs": [],
   "source": [
    "payoff_params = [strike_price]"
   ]
  },
  {
   "cell_type": "code",
   "execution_count": 26,
   "metadata": {
    "execution": {
     "iopub.execute_input": "2025-08-27T21:46:34.932584Z",
     "iopub.status.busy": "2025-08-27T21:46:34.932187Z",
     "iopub.status.idle": "2025-08-27T21:46:34.934931Z",
     "shell.execute_reply": "2025-08-27T21:46:34.934515Z"
    }
   },
   "outputs": [],
   "source": [
    "callRainbowOption = EquityRainbowOption(expiry_dt, callPayoffType, payoff_params, num_assets)\n",
    "putRainbowOption = EquityRainbowOption(expiry_dt, putPayoffType, payoff_params, num_assets)"
   ]
  },
  {
   "cell_type": "code",
   "execution_count": 27,
   "metadata": {
    "execution": {
     "iopub.execute_input": "2025-08-27T21:46:34.936688Z",
     "iopub.status.busy": "2025-08-27T21:46:34.936400Z",
     "iopub.status.idle": "2025-08-27T21:46:34.939504Z",
     "shell.execute_reply": "2025-08-27T21:46:34.939049Z"
    }
   },
   "outputs": [
    {
     "name": "stdout",
     "output_type": "stream",
     "text": [
      "OBJECT TYPE: EquityRainbowOption\n",
      "EXPIRY DATE: 01-JAN-2016\n",
      "PAYOFF TYPE: EquityRainbowOptionTypes.CALL_ON_MINIMUM\n",
      "PAYOFF PARAMS: [105.0]\n",
      "NUM ASSETS TYPE: 2\n"
     ]
    }
   ],
   "source": [
    "print(callRainbowOption)"
   ]
  },
  {
   "cell_type": "code",
   "execution_count": 28,
   "metadata": {
    "execution": {
     "iopub.execute_input": "2025-08-27T21:46:34.941418Z",
     "iopub.status.busy": "2025-08-27T21:46:34.941095Z",
     "iopub.status.idle": "2025-08-27T21:46:34.944130Z",
     "shell.execute_reply": "2025-08-27T21:46:34.943523Z"
    }
   },
   "outputs": [
    {
     "name": "stdout",
     "output_type": "stream",
     "text": [
      "OBJECT TYPE: EquityRainbowOption\n",
      "EXPIRY DATE: 01-JAN-2016\n",
      "PAYOFF TYPE: EquityRainbowOptionTypes.PUT_ON_MINIMUM\n",
      "PAYOFF PARAMS: [105.0]\n",
      "NUM ASSETS TYPE: 2\n"
     ]
    }
   ],
   "source": [
    "print(putRainbowOption)"
   ]
  },
  {
   "cell_type": "markdown",
   "metadata": {},
   "source": [
    "## Valuation"
   ]
  },
  {
   "cell_type": "code",
   "execution_count": 29,
   "metadata": {
    "execution": {
     "iopub.execute_input": "2025-08-27T21:46:34.946460Z",
     "iopub.status.busy": "2025-08-27T21:46:34.946213Z",
     "iopub.status.idle": "2025-08-27T21:46:34.950292Z",
     "shell.execute_reply": "2025-08-27T21:46:34.949886Z"
    }
   },
   "outputs": [
    {
     "data": {
      "text/plain": [
       "np.float64(6.45989578158812)"
      ]
     },
     "execution_count": 29,
     "metadata": {},
     "output_type": "execute_result"
    }
   ],
   "source": [
    "callRainbowOption.value(value_dt, stock_prices, discount_curve, dividend_curves, volatilities, corr_matrix)"
   ]
  },
  {
   "cell_type": "code",
   "execution_count": 30,
   "metadata": {
    "execution": {
     "iopub.execute_input": "2025-08-27T21:46:34.952167Z",
     "iopub.status.busy": "2025-08-27T21:46:34.951932Z",
     "iopub.status.idle": "2025-08-27T21:46:34.956127Z",
     "shell.execute_reply": "2025-08-27T21:46:34.955669Z"
    }
   },
   "outputs": [
    {
     "data": {
      "text/plain": [
       "np.float64(14.386033495465913)"
      ]
     },
     "execution_count": 30,
     "metadata": {},
     "output_type": "execute_result"
    }
   ],
   "source": [
    "putRainbowOption.value(value_dt, stock_prices, discount_curve, dividend_curves, volatilities, corr_matrix)"
   ]
  },
  {
   "cell_type": "code",
   "execution_count": 31,
   "metadata": {
    "execution": {
     "iopub.execute_input": "2025-08-27T21:46:34.958075Z",
     "iopub.status.busy": "2025-08-27T21:46:34.957832Z",
     "iopub.status.idle": "2025-08-27T21:46:34.962131Z",
     "shell.execute_reply": "2025-08-27T21:46:34.961720Z"
    }
   },
   "outputs": [
    {
     "data": {
      "text/plain": [
       "np.float64(6.506134523818798)"
      ]
     },
     "execution_count": 31,
     "metadata": {},
     "output_type": "execute_result"
    }
   ],
   "source": [
    "callRainbowOption.value_mc(value_dt, stock_prices, discount_curve, dividend_curves, volatilities, corr_matrix)"
   ]
  },
  {
   "cell_type": "code",
   "execution_count": 32,
   "metadata": {
    "execution": {
     "iopub.execute_input": "2025-08-27T21:46:34.964542Z",
     "iopub.status.busy": "2025-08-27T21:46:34.964162Z",
     "iopub.status.idle": "2025-08-27T21:46:34.968545Z",
     "shell.execute_reply": "2025-08-27T21:46:34.968009Z"
    }
   },
   "outputs": [
    {
     "data": {
      "text/plain": [
       "np.float64(14.24526420111423)"
      ]
     },
     "execution_count": 32,
     "metadata": {},
     "output_type": "execute_result"
    }
   ],
   "source": [
    "putRainbowOption.value_mc(value_dt, stock_prices, discount_curve, dividend_curves, volatilities, corr_matrix)"
   ]
  },
  {
   "cell_type": "markdown",
   "metadata": {},
   "source": [
    "## CALL ON Nth"
   ]
  },
  {
   "cell_type": "code",
   "execution_count": 33,
   "metadata": {
    "execution": {
     "iopub.execute_input": "2025-08-27T21:46:34.970496Z",
     "iopub.status.busy": "2025-08-27T21:46:34.970145Z",
     "iopub.status.idle": "2025-08-27T21:46:34.972924Z",
     "shell.execute_reply": "2025-08-27T21:46:34.972383Z"
    }
   },
   "outputs": [],
   "source": [
    "payoff_type = EquityRainbowOptionTypes.CALL_ON_NTH"
   ]
  },
  {
   "cell_type": "code",
   "execution_count": 34,
   "metadata": {
    "execution": {
     "iopub.execute_input": "2025-08-27T21:46:34.975241Z",
     "iopub.status.busy": "2025-08-27T21:46:34.974800Z",
     "iopub.status.idle": "2025-08-27T21:46:34.977790Z",
     "shell.execute_reply": "2025-08-27T21:46:34.977281Z"
    }
   },
   "outputs": [],
   "source": [
    "num_assets = 5"
   ]
  },
  {
   "cell_type": "code",
   "execution_count": 35,
   "metadata": {
    "execution": {
     "iopub.execute_input": "2025-08-27T21:46:34.980013Z",
     "iopub.status.busy": "2025-08-27T21:46:34.979715Z",
     "iopub.status.idle": "2025-08-27T21:46:34.983006Z",
     "shell.execute_reply": "2025-08-27T21:46:34.982569Z"
    }
   },
   "outputs": [],
   "source": [
    "stock_prices = np.ones(num_assets) * 100\n",
    "dividend_yields = np.ones(num_assets) * 0.01\n",
    "volatilities = np.ones(num_assets) * 0.3"
   ]
  },
  {
   "cell_type": "code",
   "execution_count": 36,
   "metadata": {
    "execution": {
     "iopub.execute_input": "2025-08-27T21:46:34.984829Z",
     "iopub.status.busy": "2025-08-27T21:46:34.984548Z",
     "iopub.status.idle": "2025-08-27T21:46:34.990136Z",
     "shell.execute_reply": "2025-08-27T21:46:34.989747Z"
    }
   },
   "outputs": [],
   "source": [
    "dividend_curves = []\n",
    "for dividend_yield in dividend_yields:\n",
    "    dividend_curves.append(DiscountCurveFlat(value_dt, dividend_yield))"
   ]
  },
  {
   "cell_type": "code",
   "execution_count": 37,
   "metadata": {
    "execution": {
     "iopub.execute_input": "2025-08-27T21:46:34.991622Z",
     "iopub.status.busy": "2025-08-27T21:46:34.991432Z",
     "iopub.status.idle": "2025-08-27T21:46:34.994010Z",
     "shell.execute_reply": "2025-08-27T21:46:34.993637Z"
    }
   },
   "outputs": [],
   "source": [
    "correlation = 0.50\n",
    "betas = np.ones(num_assets) * np.sqrt(correlation)\n",
    "corr_matrix = beta_vector_to_corr_matrix(betas)"
   ]
  },
  {
   "cell_type": "code",
   "execution_count": 38,
   "metadata": {
    "execution": {
     "iopub.execute_input": "2025-08-27T21:46:34.995686Z",
     "iopub.status.busy": "2025-08-27T21:46:34.995395Z",
     "iopub.status.idle": "2025-08-27T21:46:35.005348Z",
     "shell.execute_reply": "2025-08-27T21:46:35.004880Z"
    }
   },
   "outputs": [
    {
     "name": "stdout",
     "output_type": "stream",
     "text": [
      "1 32.32749108117505\n",
      "2 18.03854841953502\n",
      "3 10.478627179959387\n",
      "4 5.685527498358741\n",
      "5 2.31343337969236\n"
     ]
    }
   ],
   "source": [
    "for n in range(0, num_assets):\n",
    "    payoff_params = [n+1, strike_price]\n",
    "    nthRainbowOption = EquityRainbowOption(expiry_dt, payoff_type, payoff_params, num_assets)\n",
    "    v_mc = nthRainbowOption.value_mc(value_dt, stock_prices, discount_curve, dividend_curves, volatilities, corr_matrix)\n",
    "    print(n+1, v_mc)"
   ]
  },
  {
   "cell_type": "markdown",
   "metadata": {},
   "source": [
    "## PUT ON Nth\n"
   ]
  },
  {
   "cell_type": "code",
   "execution_count": 39,
   "metadata": {
    "execution": {
     "iopub.execute_input": "2025-08-27T21:46:35.007632Z",
     "iopub.status.busy": "2025-08-27T21:46:35.007309Z",
     "iopub.status.idle": "2025-08-27T21:46:35.010082Z",
     "shell.execute_reply": "2025-08-27T21:46:35.009625Z"
    }
   },
   "outputs": [],
   "source": [
    "payoff_type = EquityRainbowOptionTypes.PUT_ON_NTH"
   ]
  },
  {
   "cell_type": "code",
   "execution_count": 40,
   "metadata": {
    "execution": {
     "iopub.execute_input": "2025-08-27T21:46:35.011891Z",
     "iopub.status.busy": "2025-08-27T21:46:35.011672Z",
     "iopub.status.idle": "2025-08-27T21:46:35.021322Z",
     "shell.execute_reply": "2025-08-27T21:46:35.020900Z"
    }
   },
   "outputs": [
    {
     "name": "stdout",
     "output_type": "stream",
     "text": [
      "1 1.9430817367681796\n",
      "2 4.579136830983721\n",
      "3 8.061751031118996\n",
      "4 13.050507433470255\n",
      "5 21.049664930583\n"
     ]
    }
   ],
   "source": [
    "for n in range(0, num_assets):\n",
    "    payoff_type = EquityRainbowOptionTypes.PUT_ON_NTH\n",
    "    payoff_params = [n+1, strike_price]\n",
    "    nthRainbowOption = EquityRainbowOption(expiry_dt, payoff_type, payoff_params, num_assets)\n",
    "    v_mc = nthRainbowOption.value_mc(value_dt, stock_prices, discount_curve, dividend_curves, volatilities, corr_matrix)\n",
    "    print(n+1, v_mc)"
   ]
  },
  {
   "cell_type": "markdown",
   "metadata": {},
   "source": [
    "Copyright (c) 2020 Dominic O'Kane"
   ]
  }
 ],
 "metadata": {
  "kernelspec": {
   "display_name": "base",
   "language": "python",
   "name": "python3"
  },
  "language_info": {
   "codemirror_mode": {
    "name": "ipython",
    "version": 3
   },
   "file_extension": ".py",
   "mimetype": "text/x-python",
   "name": "python",
   "nbconvert_exporter": "python",
   "pygments_lexer": "ipython3",
   "version": "3.13.5"
  }
 },
 "nbformat": 4,
 "nbformat_minor": 2
}
