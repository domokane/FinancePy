{
 "cells": [
  {
   "cell_type": "markdown",
   "metadata": {},
   "source": [
    "# EQUITY RAINBOW OPTION"
   ]
  },
  {
   "cell_type": "markdown",
   "metadata": {},
   "source": [
    "Valuation and Risk of Equity Rainbow Options - options on the best, worst and n-th best or worst performance in a basket of equities."
   ]
  },
  {
   "cell_type": "code",
   "execution_count": 1,
   "metadata": {
    "execution": {
     "iopub.execute_input": "2025-09-14T22:23:11.361034Z",
     "iopub.status.busy": "2025-09-14T22:23:11.360891Z",
     "iopub.status.idle": "2025-09-14T22:23:11.583535Z",
     "shell.execute_reply": "2025-09-14T22:23:11.582637Z"
    }
   },
   "outputs": [],
   "source": [
    "import numpy as np\n",
    "import matplotlib.pyplot as plt"
   ]
  },
  {
   "cell_type": "code",
   "execution_count": 2,
   "metadata": {
    "execution": {
     "iopub.execute_input": "2025-09-14T22:23:11.585051Z",
     "iopub.status.busy": "2025-09-14T22:23:11.584881Z",
     "iopub.status.idle": "2025-09-14T22:23:13.558284Z",
     "shell.execute_reply": "2025-09-14T22:23:13.557790Z"
    }
   },
   "outputs": [],
   "source": [
    "from financepy.utils import *\n",
    "from financepy.market.curves import *\n",
    "from financepy.products.equity import *"
   ]
  },
  {
   "cell_type": "markdown",
   "metadata": {},
   "source": [
    "# Rainbow Options"
   ]
  },
  {
   "cell_type": "markdown",
   "metadata": {},
   "source": [
    "We can handle a range of payoff types"
   ]
  },
  {
   "cell_type": "code",
   "execution_count": 3,
   "metadata": {
    "execution": {
     "iopub.execute_input": "2025-09-14T22:23:13.560366Z",
     "iopub.status.busy": "2025-09-14T22:23:13.560117Z",
     "iopub.status.idle": "2025-09-14T22:23:13.564170Z",
     "shell.execute_reply": "2025-09-14T22:23:13.563795Z"
    }
   },
   "outputs": [
    {
     "name": "stdout",
     "output_type": "stream",
     "text": [
      "EquityRainbowOptionTypes.CALL_ON_MAXIMUM\n",
      "EquityRainbowOptionTypes.PUT_ON_MAXIMUM\n",
      "EquityRainbowOptionTypes.CALL_ON_MINIMUM\n",
      "EquityRainbowOptionTypes.PUT_ON_MINIMUM\n",
      "EquityRainbowOptionTypes.CALL_ON_NTH\n",
      "EquityRainbowOptionTypes.PUT_ON_NTH\n"
     ]
    }
   ],
   "source": [
    "for payoff in EquityRainbowOptionTypes:\n",
    "    print(payoff)"
   ]
  },
  {
   "cell_type": "markdown",
   "metadata": {},
   "source": [
    "Each type has a different set of parameters which are entered as a vector"
   ]
  },
  {
   "cell_type": "markdown",
   "metadata": {},
   "source": [
    "## CALL ON MAXIMUM"
   ]
  },
  {
   "cell_type": "code",
   "execution_count": 4,
   "metadata": {
    "execution": {
     "iopub.execute_input": "2025-09-14T22:23:13.565414Z",
     "iopub.status.busy": "2025-09-14T22:23:13.565276Z",
     "iopub.status.idle": "2025-09-14T22:23:13.583185Z",
     "shell.execute_reply": "2025-09-14T22:23:13.582812Z"
    }
   },
   "outputs": [],
   "source": [
    "expiry_dt = Date(1, 1, 2016)"
   ]
  },
  {
   "cell_type": "code",
   "execution_count": 5,
   "metadata": {
    "execution": {
     "iopub.execute_input": "2025-09-14T22:23:13.584750Z",
     "iopub.status.busy": "2025-09-14T22:23:13.584605Z",
     "iopub.status.idle": "2025-09-14T22:23:13.587473Z",
     "shell.execute_reply": "2025-09-14T22:23:13.586721Z"
    }
   },
   "outputs": [],
   "source": [
    "strike_price = 105.0"
   ]
  },
  {
   "cell_type": "code",
   "execution_count": 6,
   "metadata": {
    "execution": {
     "iopub.execute_input": "2025-09-14T22:23:13.589074Z",
     "iopub.status.busy": "2025-09-14T22:23:13.588857Z",
     "iopub.status.idle": "2025-09-14T22:23:13.591194Z",
     "shell.execute_reply": "2025-09-14T22:23:13.590952Z"
    }
   },
   "outputs": [],
   "source": [
    "callPayoffType = EquityRainbowOptionTypes.CALL_ON_MAXIMUM\n",
    "putPayoffType = EquityRainbowOptionTypes.PUT_ON_MAXIMUM"
   ]
  },
  {
   "cell_type": "code",
   "execution_count": 7,
   "metadata": {
    "execution": {
     "iopub.execute_input": "2025-09-14T22:23:13.592299Z",
     "iopub.status.busy": "2025-09-14T22:23:13.592126Z",
     "iopub.status.idle": "2025-09-14T22:23:13.594200Z",
     "shell.execute_reply": "2025-09-14T22:23:13.593967Z"
    }
   },
   "outputs": [],
   "source": [
    "payoff_params = [strike_price]"
   ]
  },
  {
   "cell_type": "code",
   "execution_count": 8,
   "metadata": {
    "execution": {
     "iopub.execute_input": "2025-09-14T22:23:13.595105Z",
     "iopub.status.busy": "2025-09-14T22:23:13.594989Z",
     "iopub.status.idle": "2025-09-14T22:23:13.596805Z",
     "shell.execute_reply": "2025-09-14T22:23:13.596596Z"
    }
   },
   "outputs": [],
   "source": [
    "num_assets = 2"
   ]
  },
  {
   "cell_type": "code",
   "execution_count": 9,
   "metadata": {
    "execution": {
     "iopub.execute_input": "2025-09-14T22:23:13.598205Z",
     "iopub.status.busy": "2025-09-14T22:23:13.597909Z",
     "iopub.status.idle": "2025-09-14T22:23:13.600108Z",
     "shell.execute_reply": "2025-09-14T22:23:13.599822Z"
    }
   },
   "outputs": [],
   "source": [
    "callRainbowOption = EquityRainbowOption(expiry_dt, callPayoffType, payoff_params, num_assets)\n",
    "putRainbowOption = EquityRainbowOption(expiry_dt, putPayoffType, payoff_params, num_assets)"
   ]
  },
  {
   "cell_type": "code",
   "execution_count": 10,
   "metadata": {
    "execution": {
     "iopub.execute_input": "2025-09-14T22:23:13.601070Z",
     "iopub.status.busy": "2025-09-14T22:23:13.600960Z",
     "iopub.status.idle": "2025-09-14T22:23:13.603326Z",
     "shell.execute_reply": "2025-09-14T22:23:13.602744Z"
    }
   },
   "outputs": [
    {
     "name": "stdout",
     "output_type": "stream",
     "text": [
      "OBJECT TYPE: EquityRainbowOption\n",
      "EXPIRY DATE: 01-JAN-2016\n",
      "PAYOFF TYPE: EquityRainbowOptionTypes.CALL_ON_MAXIMUM\n",
      "PAYOFF PARAMS: [105.0]\n",
      "NUM ASSETS TYPE: 2\n"
     ]
    }
   ],
   "source": [
    "print(callRainbowOption)"
   ]
  },
  {
   "cell_type": "code",
   "execution_count": 11,
   "metadata": {
    "execution": {
     "iopub.execute_input": "2025-09-14T22:23:13.604624Z",
     "iopub.status.busy": "2025-09-14T22:23:13.604429Z",
     "iopub.status.idle": "2025-09-14T22:23:13.607014Z",
     "shell.execute_reply": "2025-09-14T22:23:13.606756Z"
    }
   },
   "outputs": [
    {
     "name": "stdout",
     "output_type": "stream",
     "text": [
      "OBJECT TYPE: EquityRainbowOption\n",
      "EXPIRY DATE: 01-JAN-2016\n",
      "PAYOFF TYPE: EquityRainbowOptionTypes.PUT_ON_MAXIMUM\n",
      "PAYOFF PARAMS: [105.0]\n",
      "NUM ASSETS TYPE: 2\n"
     ]
    }
   ],
   "source": [
    "print(putRainbowOption)"
   ]
  },
  {
   "cell_type": "markdown",
   "metadata": {},
   "source": [
    "## Valuation"
   ]
  },
  {
   "cell_type": "code",
   "execution_count": 12,
   "metadata": {
    "execution": {
     "iopub.execute_input": "2025-09-14T22:23:13.607904Z",
     "iopub.status.busy": "2025-09-14T22:23:13.607793Z",
     "iopub.status.idle": "2025-09-14T22:23:13.610046Z",
     "shell.execute_reply": "2025-09-14T22:23:13.609760Z"
    }
   },
   "outputs": [],
   "source": [
    "value_dt = Date(1, 1, 2015)"
   ]
  },
  {
   "cell_type": "code",
   "execution_count": 13,
   "metadata": {
    "execution": {
     "iopub.execute_input": "2025-09-14T22:23:13.610957Z",
     "iopub.status.busy": "2025-09-14T22:23:13.610843Z",
     "iopub.status.idle": "2025-09-14T22:23:13.612595Z",
     "shell.execute_reply": "2025-09-14T22:23:13.612372Z"
    }
   },
   "outputs": [],
   "source": [
    "interest_rate = 0.10"
   ]
  },
  {
   "cell_type": "code",
   "execution_count": 14,
   "metadata": {
    "execution": {
     "iopub.execute_input": "2025-09-14T22:23:13.613959Z",
     "iopub.status.busy": "2025-09-14T22:23:13.613697Z",
     "iopub.status.idle": "2025-09-14T22:23:13.623865Z",
     "shell.execute_reply": "2025-09-14T22:23:13.623497Z"
    }
   },
   "outputs": [],
   "source": [
    "discount_curve = DiscountCurveFlat(value_dt, interest_rate)"
   ]
  },
  {
   "cell_type": "code",
   "execution_count": 15,
   "metadata": {
    "execution": {
     "iopub.execute_input": "2025-09-14T22:23:13.625504Z",
     "iopub.status.busy": "2025-09-14T22:23:13.625251Z",
     "iopub.status.idle": "2025-09-14T22:23:13.627782Z",
     "shell.execute_reply": "2025-09-14T22:23:13.627491Z"
    }
   },
   "outputs": [],
   "source": [
    "num_assets = 2"
   ]
  },
  {
   "cell_type": "code",
   "execution_count": 16,
   "metadata": {
    "execution": {
     "iopub.execute_input": "2025-09-14T22:23:13.628873Z",
     "iopub.status.busy": "2025-09-14T22:23:13.628750Z",
     "iopub.status.idle": "2025-09-14T22:23:13.630727Z",
     "shell.execute_reply": "2025-09-14T22:23:13.630480Z"
    }
   },
   "outputs": [],
   "source": [
    "stock_prices = np.ones(num_assets) * 100\n",
    "dividend_yields = np.ones(num_assets) * 0.01\n",
    "volatilities = np.ones(num_assets) * 0.3"
   ]
  },
  {
   "cell_type": "code",
   "execution_count": 17,
   "metadata": {
    "execution": {
     "iopub.execute_input": "2025-09-14T22:23:13.631813Z",
     "iopub.status.busy": "2025-09-14T22:23:13.631697Z",
     "iopub.status.idle": "2025-09-14T22:23:13.634195Z",
     "shell.execute_reply": "2025-09-14T22:23:13.633955Z"
    }
   },
   "outputs": [],
   "source": [
    "dividend_curves = []\n",
    "for dividend_yield in dividend_yields:\n",
    "    dividend_curves.append(DiscountCurveFlat(value_dt, dividend_yield))"
   ]
  },
  {
   "cell_type": "code",
   "execution_count": 18,
   "metadata": {
    "execution": {
     "iopub.execute_input": "2025-09-14T22:23:13.635770Z",
     "iopub.status.busy": "2025-09-14T22:23:13.635655Z",
     "iopub.status.idle": "2025-09-14T22:23:13.638555Z",
     "shell.execute_reply": "2025-09-14T22:23:13.637971Z"
    }
   },
   "outputs": [],
   "source": [
    "correlation = 0.50\n",
    "betas = np.ones(num_assets) * np.sqrt(correlation)\n",
    "corr_matrix = beta_vector_to_corr_matrix(betas)"
   ]
  },
  {
   "cell_type": "code",
   "execution_count": 19,
   "metadata": {
    "execution": {
     "iopub.execute_input": "2025-09-14T22:23:13.639856Z",
     "iopub.status.busy": "2025-09-14T22:23:13.639736Z",
     "iopub.status.idle": "2025-09-14T22:23:13.655277Z",
     "shell.execute_reply": "2025-09-14T22:23:13.654923Z"
    }
   },
   "outputs": [
    {
     "data": {
      "text/plain": [
       "np.float64(20.77450147922707)"
      ]
     },
     "execution_count": 19,
     "metadata": {},
     "output_type": "execute_result"
    }
   ],
   "source": [
    "callRainbowOption.value(value_dt, stock_prices, discount_curve, dividend_curves, volatilities, corr_matrix)"
   ]
  },
  {
   "cell_type": "code",
   "execution_count": 20,
   "metadata": {
    "execution": {
     "iopub.execute_input": "2025-09-14T22:23:13.656632Z",
     "iopub.status.busy": "2025-09-14T22:23:13.656500Z",
     "iopub.status.idle": "2025-09-14T22:23:13.659287Z",
     "shell.execute_reply": "2025-09-14T22:23:13.659024Z"
    }
   },
   "outputs": [
    {
     "data": {
      "text/plain": [
       "np.float64(5.087602353908778)"
      ]
     },
     "execution_count": 20,
     "metadata": {},
     "output_type": "execute_result"
    }
   ],
   "source": [
    "putRainbowOption.value(value_dt, stock_prices, discount_curve, dividend_curves, volatilities, corr_matrix)"
   ]
  },
  {
   "cell_type": "code",
   "execution_count": 21,
   "metadata": {
    "execution": {
     "iopub.execute_input": "2025-09-14T22:23:13.660261Z",
     "iopub.status.busy": "2025-09-14T22:23:13.660136Z",
     "iopub.status.idle": "2025-09-14T22:23:13.678327Z",
     "shell.execute_reply": "2025-09-14T22:23:13.678004Z"
    }
   },
   "outputs": [
    {
     "data": {
      "text/plain": [
       "np.float64(20.78675850643471)"
      ]
     },
     "execution_count": 21,
     "metadata": {},
     "output_type": "execute_result"
    }
   ],
   "source": [
    "callRainbowOption.value_mc(value_dt, stock_prices, discount_curve, dividend_curves, volatilities, corr_matrix)"
   ]
  },
  {
   "cell_type": "code",
   "execution_count": 22,
   "metadata": {
    "execution": {
     "iopub.execute_input": "2025-09-14T22:23:13.679503Z",
     "iopub.status.busy": "2025-09-14T22:23:13.679368Z",
     "iopub.status.idle": "2025-09-14T22:23:13.682855Z",
     "shell.execute_reply": "2025-09-14T22:23:13.682292Z"
    }
   },
   "outputs": [
    {
     "data": {
      "text/plain": [
       "np.float64(5.067127993316386)"
      ]
     },
     "execution_count": 22,
     "metadata": {},
     "output_type": "execute_result"
    }
   ],
   "source": [
    "putRainbowOption.value_mc(value_dt, stock_prices, discount_curve, dividend_curves, volatilities, corr_matrix)"
   ]
  },
  {
   "cell_type": "markdown",
   "metadata": {},
   "source": [
    "## CALL ON MINIMUM"
   ]
  },
  {
   "cell_type": "code",
   "execution_count": 23,
   "metadata": {
    "execution": {
     "iopub.execute_input": "2025-09-14T22:23:13.684787Z",
     "iopub.status.busy": "2025-09-14T22:23:13.684661Z",
     "iopub.status.idle": "2025-09-14T22:23:13.687691Z",
     "shell.execute_reply": "2025-09-14T22:23:13.686770Z"
    }
   },
   "outputs": [],
   "source": [
    "strike_price = 105.0"
   ]
  },
  {
   "cell_type": "code",
   "execution_count": 24,
   "metadata": {
    "execution": {
     "iopub.execute_input": "2025-09-14T22:23:13.689221Z",
     "iopub.status.busy": "2025-09-14T22:23:13.689093Z",
     "iopub.status.idle": "2025-09-14T22:23:13.691606Z",
     "shell.execute_reply": "2025-09-14T22:23:13.691271Z"
    }
   },
   "outputs": [],
   "source": [
    "callPayoffType = EquityRainbowOptionTypes.CALL_ON_MINIMUM\n",
    "putPayoffType = EquityRainbowOptionTypes.PUT_ON_MINIMUM"
   ]
  },
  {
   "cell_type": "code",
   "execution_count": 25,
   "metadata": {
    "execution": {
     "iopub.execute_input": "2025-09-14T22:23:13.694265Z",
     "iopub.status.busy": "2025-09-14T22:23:13.693839Z",
     "iopub.status.idle": "2025-09-14T22:23:13.696102Z",
     "shell.execute_reply": "2025-09-14T22:23:13.695800Z"
    }
   },
   "outputs": [],
   "source": [
    "payoff_params = [strike_price]"
   ]
  },
  {
   "cell_type": "code",
   "execution_count": 26,
   "metadata": {
    "execution": {
     "iopub.execute_input": "2025-09-14T22:23:13.697032Z",
     "iopub.status.busy": "2025-09-14T22:23:13.696925Z",
     "iopub.status.idle": "2025-09-14T22:23:13.699478Z",
     "shell.execute_reply": "2025-09-14T22:23:13.698814Z"
    }
   },
   "outputs": [],
   "source": [
    "callRainbowOption = EquityRainbowOption(expiry_dt, callPayoffType, payoff_params, num_assets)\n",
    "putRainbowOption = EquityRainbowOption(expiry_dt, putPayoffType, payoff_params, num_assets)"
   ]
  },
  {
   "cell_type": "code",
   "execution_count": 27,
   "metadata": {
    "execution": {
     "iopub.execute_input": "2025-09-14T22:23:13.700544Z",
     "iopub.status.busy": "2025-09-14T22:23:13.700435Z",
     "iopub.status.idle": "2025-09-14T22:23:13.703466Z",
     "shell.execute_reply": "2025-09-14T22:23:13.703105Z"
    }
   },
   "outputs": [
    {
     "name": "stdout",
     "output_type": "stream",
     "text": [
      "OBJECT TYPE: EquityRainbowOption\n",
      "EXPIRY DATE: 01-JAN-2016\n",
      "PAYOFF TYPE: EquityRainbowOptionTypes.CALL_ON_MINIMUM\n",
      "PAYOFF PARAMS: [105.0]\n",
      "NUM ASSETS TYPE: 2\n"
     ]
    }
   ],
   "source": [
    "print(callRainbowOption)"
   ]
  },
  {
   "cell_type": "code",
   "execution_count": 28,
   "metadata": {
    "execution": {
     "iopub.execute_input": "2025-09-14T22:23:13.704733Z",
     "iopub.status.busy": "2025-09-14T22:23:13.704545Z",
     "iopub.status.idle": "2025-09-14T22:23:13.706926Z",
     "shell.execute_reply": "2025-09-14T22:23:13.706488Z"
    }
   },
   "outputs": [
    {
     "name": "stdout",
     "output_type": "stream",
     "text": [
      "OBJECT TYPE: EquityRainbowOption\n",
      "EXPIRY DATE: 01-JAN-2016\n",
      "PAYOFF TYPE: EquityRainbowOptionTypes.PUT_ON_MINIMUM\n",
      "PAYOFF PARAMS: [105.0]\n",
      "NUM ASSETS TYPE: 2\n"
     ]
    }
   ],
   "source": [
    "print(putRainbowOption)"
   ]
  },
  {
   "cell_type": "markdown",
   "metadata": {},
   "source": [
    "## Valuation"
   ]
  },
  {
   "cell_type": "code",
   "execution_count": 29,
   "metadata": {
    "execution": {
     "iopub.execute_input": "2025-09-14T22:23:13.708045Z",
     "iopub.status.busy": "2025-09-14T22:23:13.707922Z",
     "iopub.status.idle": "2025-09-14T22:23:13.710662Z",
     "shell.execute_reply": "2025-09-14T22:23:13.710335Z"
    }
   },
   "outputs": [
    {
     "data": {
      "text/plain": [
       "np.float64(6.45989578158812)"
      ]
     },
     "execution_count": 29,
     "metadata": {},
     "output_type": "execute_result"
    }
   ],
   "source": [
    "callRainbowOption.value(value_dt, stock_prices, discount_curve, dividend_curves, volatilities, corr_matrix)"
   ]
  },
  {
   "cell_type": "code",
   "execution_count": 30,
   "metadata": {
    "execution": {
     "iopub.execute_input": "2025-09-14T22:23:13.711576Z",
     "iopub.status.busy": "2025-09-14T22:23:13.711469Z",
     "iopub.status.idle": "2025-09-14T22:23:13.713758Z",
     "shell.execute_reply": "2025-09-14T22:23:13.713547Z"
    }
   },
   "outputs": [
    {
     "data": {
      "text/plain": [
       "np.float64(14.386033495465913)"
      ]
     },
     "execution_count": 30,
     "metadata": {},
     "output_type": "execute_result"
    }
   ],
   "source": [
    "putRainbowOption.value(value_dt, stock_prices, discount_curve, dividend_curves, volatilities, corr_matrix)"
   ]
  },
  {
   "cell_type": "code",
   "execution_count": 31,
   "metadata": {
    "execution": {
     "iopub.execute_input": "2025-09-14T22:23:13.714845Z",
     "iopub.status.busy": "2025-09-14T22:23:13.714736Z",
     "iopub.status.idle": "2025-09-14T22:23:13.717280Z",
     "shell.execute_reply": "2025-09-14T22:23:13.717019Z"
    }
   },
   "outputs": [
    {
     "data": {
      "text/plain": [
       "np.float64(6.506134523818798)"
      ]
     },
     "execution_count": 31,
     "metadata": {},
     "output_type": "execute_result"
    }
   ],
   "source": [
    "callRainbowOption.value_mc(value_dt, stock_prices, discount_curve, dividend_curves, volatilities, corr_matrix)"
   ]
  },
  {
   "cell_type": "code",
   "execution_count": 32,
   "metadata": {
    "execution": {
     "iopub.execute_input": "2025-09-14T22:23:13.718172Z",
     "iopub.status.busy": "2025-09-14T22:23:13.718063Z",
     "iopub.status.idle": "2025-09-14T22:23:13.720730Z",
     "shell.execute_reply": "2025-09-14T22:23:13.720397Z"
    }
   },
   "outputs": [
    {
     "data": {
      "text/plain": [
       "np.float64(14.24526420111423)"
      ]
     },
     "execution_count": 32,
     "metadata": {},
     "output_type": "execute_result"
    }
   ],
   "source": [
    "putRainbowOption.value_mc(value_dt, stock_prices, discount_curve, dividend_curves, volatilities, corr_matrix)"
   ]
  },
  {
   "cell_type": "markdown",
   "metadata": {},
   "source": [
    "## CALL ON Nth"
   ]
  },
  {
   "cell_type": "code",
   "execution_count": 33,
   "metadata": {
    "execution": {
     "iopub.execute_input": "2025-09-14T22:23:13.721730Z",
     "iopub.status.busy": "2025-09-14T22:23:13.721605Z",
     "iopub.status.idle": "2025-09-14T22:23:13.724238Z",
     "shell.execute_reply": "2025-09-14T22:23:13.723908Z"
    }
   },
   "outputs": [],
   "source": [
    "payoff_type = EquityRainbowOptionTypes.CALL_ON_NTH"
   ]
  },
  {
   "cell_type": "code",
   "execution_count": 34,
   "metadata": {
    "execution": {
     "iopub.execute_input": "2025-09-14T22:23:13.725171Z",
     "iopub.status.busy": "2025-09-14T22:23:13.725061Z",
     "iopub.status.idle": "2025-09-14T22:23:13.727172Z",
     "shell.execute_reply": "2025-09-14T22:23:13.726908Z"
    }
   },
   "outputs": [],
   "source": [
    "num_assets = 5"
   ]
  },
  {
   "cell_type": "code",
   "execution_count": 35,
   "metadata": {
    "execution": {
     "iopub.execute_input": "2025-09-14T22:23:13.728092Z",
     "iopub.status.busy": "2025-09-14T22:23:13.727979Z",
     "iopub.status.idle": "2025-09-14T22:23:13.730300Z",
     "shell.execute_reply": "2025-09-14T22:23:13.730078Z"
    }
   },
   "outputs": [],
   "source": [
    "stock_prices = np.ones(num_assets) * 100\n",
    "dividend_yields = np.ones(num_assets) * 0.01\n",
    "volatilities = np.ones(num_assets) * 0.3"
   ]
  },
  {
   "cell_type": "code",
   "execution_count": 36,
   "metadata": {
    "execution": {
     "iopub.execute_input": "2025-09-14T22:23:13.731622Z",
     "iopub.status.busy": "2025-09-14T22:23:13.731512Z",
     "iopub.status.idle": "2025-09-14T22:23:13.734818Z",
     "shell.execute_reply": "2025-09-14T22:23:13.734556Z"
    }
   },
   "outputs": [],
   "source": [
    "dividend_curves = []\n",
    "for dividend_yield in dividend_yields:\n",
    "    dividend_curves.append(DiscountCurveFlat(value_dt, dividend_yield))"
   ]
  },
  {
   "cell_type": "code",
   "execution_count": 37,
   "metadata": {
    "execution": {
     "iopub.execute_input": "2025-09-14T22:23:13.736661Z",
     "iopub.status.busy": "2025-09-14T22:23:13.736544Z",
     "iopub.status.idle": "2025-09-14T22:23:13.740439Z",
     "shell.execute_reply": "2025-09-14T22:23:13.739580Z"
    }
   },
   "outputs": [],
   "source": [
    "correlation = 0.50\n",
    "betas = np.ones(num_assets) * np.sqrt(correlation)\n",
    "corr_matrix = beta_vector_to_corr_matrix(betas)"
   ]
  },
  {
   "cell_type": "code",
   "execution_count": 38,
   "metadata": {
    "execution": {
     "iopub.execute_input": "2025-09-14T22:23:13.742007Z",
     "iopub.status.busy": "2025-09-14T22:23:13.741825Z",
     "iopub.status.idle": "2025-09-14T22:23:13.748527Z",
     "shell.execute_reply": "2025-09-14T22:23:13.748210Z"
    }
   },
   "outputs": [
    {
     "name": "stdout",
     "output_type": "stream",
     "text": [
      "1 32.32749108117505\n",
      "2 18.03854841953502\n",
      "3 10.478627179959387\n",
      "4 5.685527498358741\n",
      "5 2.31343337969236\n"
     ]
    }
   ],
   "source": [
    "for n in range(0, num_assets):\n",
    "    payoff_params = [n+1, strike_price]\n",
    "    nthRainbowOption = EquityRainbowOption(expiry_dt, payoff_type, payoff_params, num_assets)\n",
    "    v_mc = nthRainbowOption.value_mc(value_dt, stock_prices, discount_curve, dividend_curves, volatilities, corr_matrix)\n",
    "    print(n+1, v_mc)"
   ]
  },
  {
   "cell_type": "markdown",
   "metadata": {},
   "source": [
    "## PUT ON Nth\n"
   ]
  },
  {
   "cell_type": "code",
   "execution_count": 39,
   "metadata": {
    "execution": {
     "iopub.execute_input": "2025-09-14T22:23:13.749642Z",
     "iopub.status.busy": "2025-09-14T22:23:13.749520Z",
     "iopub.status.idle": "2025-09-14T22:23:13.751533Z",
     "shell.execute_reply": "2025-09-14T22:23:13.751278Z"
    }
   },
   "outputs": [],
   "source": [
    "payoff_type = EquityRainbowOptionTypes.PUT_ON_NTH"
   ]
  },
  {
   "cell_type": "code",
   "execution_count": 40,
   "metadata": {
    "execution": {
     "iopub.execute_input": "2025-09-14T22:23:13.753813Z",
     "iopub.status.busy": "2025-09-14T22:23:13.753676Z",
     "iopub.status.idle": "2025-09-14T22:23:13.761534Z",
     "shell.execute_reply": "2025-09-14T22:23:13.760955Z"
    }
   },
   "outputs": [
    {
     "name": "stdout",
     "output_type": "stream",
     "text": [
      "1 1.9430817367681796\n",
      "2 4.579136830983721\n",
      "3 8.061751031118998\n",
      "4 13.050507433470255\n",
      "5 21.049664930583\n"
     ]
    }
   ],
   "source": [
    "for n in range(0, num_assets):\n",
    "    payoff_type = EquityRainbowOptionTypes.PUT_ON_NTH\n",
    "    payoff_params = [n+1, strike_price]\n",
    "    nthRainbowOption = EquityRainbowOption(expiry_dt, payoff_type, payoff_params, num_assets)\n",
    "    v_mc = nthRainbowOption.value_mc(value_dt, stock_prices, discount_curve, dividend_curves, volatilities, corr_matrix)\n",
    "    print(n+1, v_mc)"
   ]
  },
  {
   "cell_type": "markdown",
   "metadata": {},
   "source": [
    "Copyright (c) 2020 Dominic O'Kane"
   ]
  }
 ],
 "metadata": {
  "kernelspec": {
   "display_name": "base",
   "language": "python",
   "name": "python3"
  },
  "language_info": {
   "codemirror_mode": {
    "name": "ipython",
    "version": 3
   },
   "file_extension": ".py",
   "mimetype": "text/x-python",
   "name": "python",
   "nbconvert_exporter": "python",
   "pygments_lexer": "ipython3",
   "version": "3.13.7"
  }
 },
 "nbformat": 4,
 "nbformat_minor": 2
}
