{
 "cells": [
  {
   "cell_type": "markdown",
   "metadata": {},
   "source": [
    "# EQUITY RAINBOW OPTION"
   ]
  },
  {
   "cell_type": "markdown",
   "metadata": {},
   "source": [
    "Valuation and Risk of Equity Rainbow Options - options on the best, worst and n-th best or worst performance in a basket of equities."
   ]
  },
  {
   "cell_type": "code",
   "execution_count": 1,
   "metadata": {
    "execution": {
     "iopub.execute_input": "2025-08-27T22:33:21.962190Z",
     "iopub.status.busy": "2025-08-27T22:33:21.961947Z",
     "iopub.status.idle": "2025-08-27T22:33:22.406602Z",
     "shell.execute_reply": "2025-08-27T22:33:22.406202Z"
    }
   },
   "outputs": [],
   "source": [
    "import numpy as np\n",
    "import matplotlib.pyplot as plt"
   ]
  },
  {
   "cell_type": "code",
   "execution_count": 2,
   "metadata": {
    "execution": {
     "iopub.execute_input": "2025-08-27T22:33:22.410115Z",
     "iopub.status.busy": "2025-08-27T22:33:22.409545Z",
     "iopub.status.idle": "2025-08-27T22:33:25.179072Z",
     "shell.execute_reply": "2025-08-27T22:33:25.178472Z"
    }
   },
   "outputs": [],
   "source": [
    "from financepy.utils import *\n",
    "from financepy.market.curves import *\n",
    "from financepy.products.equity import *"
   ]
  },
  {
   "cell_type": "markdown",
   "metadata": {},
   "source": [
    "# Rainbow Options"
   ]
  },
  {
   "cell_type": "markdown",
   "metadata": {},
   "source": [
    "We can handle a range of payoff types"
   ]
  },
  {
   "cell_type": "code",
   "execution_count": 3,
   "metadata": {
    "execution": {
     "iopub.execute_input": "2025-08-27T22:33:25.181755Z",
     "iopub.status.busy": "2025-08-27T22:33:25.181303Z",
     "iopub.status.idle": "2025-08-27T22:33:25.186481Z",
     "shell.execute_reply": "2025-08-27T22:33:25.186054Z"
    }
   },
   "outputs": [
    {
     "name": "stdout",
     "output_type": "stream",
     "text": [
      "EquityRainbowOptionTypes.CALL_ON_MAXIMUM\n",
      "EquityRainbowOptionTypes.PUT_ON_MAXIMUM\n",
      "EquityRainbowOptionTypes.CALL_ON_MINIMUM\n",
      "EquityRainbowOptionTypes.PUT_ON_MINIMUM\n",
      "EquityRainbowOptionTypes.CALL_ON_NTH\n",
      "EquityRainbowOptionTypes.PUT_ON_NTH\n"
     ]
    }
   ],
   "source": [
    "for payoff in EquityRainbowOptionTypes:\n",
    "    print(payoff)"
   ]
  },
  {
   "cell_type": "markdown",
   "metadata": {},
   "source": [
    "Each type has a different set of parameters which are entered as a vector"
   ]
  },
  {
   "cell_type": "markdown",
   "metadata": {},
   "source": [
    "## CALL ON MAXIMUM"
   ]
  },
  {
   "cell_type": "code",
   "execution_count": 4,
   "metadata": {
    "execution": {
     "iopub.execute_input": "2025-08-27T22:33:25.188306Z",
     "iopub.status.busy": "2025-08-27T22:33:25.187965Z",
     "iopub.status.idle": "2025-08-27T22:33:25.205465Z",
     "shell.execute_reply": "2025-08-27T22:33:25.205084Z"
    }
   },
   "outputs": [],
   "source": [
    "expiry_dt = Date(1, 1, 2016)"
   ]
  },
  {
   "cell_type": "code",
   "execution_count": 5,
   "metadata": {
    "execution": {
     "iopub.execute_input": "2025-08-27T22:33:25.207925Z",
     "iopub.status.busy": "2025-08-27T22:33:25.207644Z",
     "iopub.status.idle": "2025-08-27T22:33:25.210139Z",
     "shell.execute_reply": "2025-08-27T22:33:25.209723Z"
    }
   },
   "outputs": [],
   "source": [
    "strike_price = 105.0"
   ]
  },
  {
   "cell_type": "code",
   "execution_count": 6,
   "metadata": {
    "execution": {
     "iopub.execute_input": "2025-08-27T22:33:25.212088Z",
     "iopub.status.busy": "2025-08-27T22:33:25.211873Z",
     "iopub.status.idle": "2025-08-27T22:33:25.214406Z",
     "shell.execute_reply": "2025-08-27T22:33:25.214021Z"
    }
   },
   "outputs": [],
   "source": [
    "callPayoffType = EquityRainbowOptionTypes.CALL_ON_MAXIMUM\n",
    "putPayoffType = EquityRainbowOptionTypes.PUT_ON_MAXIMUM"
   ]
  },
  {
   "cell_type": "code",
   "execution_count": 7,
   "metadata": {
    "execution": {
     "iopub.execute_input": "2025-08-27T22:33:25.216610Z",
     "iopub.status.busy": "2025-08-27T22:33:25.216328Z",
     "iopub.status.idle": "2025-08-27T22:33:25.218869Z",
     "shell.execute_reply": "2025-08-27T22:33:25.218555Z"
    }
   },
   "outputs": [],
   "source": [
    "payoff_params = [strike_price]"
   ]
  },
  {
   "cell_type": "code",
   "execution_count": 8,
   "metadata": {
    "execution": {
     "iopub.execute_input": "2025-08-27T22:33:25.220739Z",
     "iopub.status.busy": "2025-08-27T22:33:25.220552Z",
     "iopub.status.idle": "2025-08-27T22:33:25.222709Z",
     "shell.execute_reply": "2025-08-27T22:33:25.222212Z"
    }
   },
   "outputs": [],
   "source": [
    "num_assets = 2"
   ]
  },
  {
   "cell_type": "code",
   "execution_count": 9,
   "metadata": {
    "execution": {
     "iopub.execute_input": "2025-08-27T22:33:25.224648Z",
     "iopub.status.busy": "2025-08-27T22:33:25.224387Z",
     "iopub.status.idle": "2025-08-27T22:33:25.227107Z",
     "shell.execute_reply": "2025-08-27T22:33:25.226770Z"
    }
   },
   "outputs": [],
   "source": [
    "callRainbowOption = EquityRainbowOption(expiry_dt, callPayoffType, payoff_params, num_assets)\n",
    "putRainbowOption = EquityRainbowOption(expiry_dt, putPayoffType, payoff_params, num_assets)"
   ]
  },
  {
   "cell_type": "code",
   "execution_count": 10,
   "metadata": {
    "execution": {
     "iopub.execute_input": "2025-08-27T22:33:25.229156Z",
     "iopub.status.busy": "2025-08-27T22:33:25.228882Z",
     "iopub.status.idle": "2025-08-27T22:33:25.231591Z",
     "shell.execute_reply": "2025-08-27T22:33:25.231215Z"
    }
   },
   "outputs": [
    {
     "name": "stdout",
     "output_type": "stream",
     "text": [
      "OBJECT TYPE: EquityRainbowOption\n",
      "EXPIRY DATE: 01-JAN-2016\n",
      "PAYOFF TYPE: EquityRainbowOptionTypes.CALL_ON_MAXIMUM\n",
      "PAYOFF PARAMS: [105.0]\n",
      "NUM ASSETS TYPE: 2\n"
     ]
    }
   ],
   "source": [
    "print(callRainbowOption)"
   ]
  },
  {
   "cell_type": "code",
   "execution_count": 11,
   "metadata": {
    "execution": {
     "iopub.execute_input": "2025-08-27T22:33:25.233325Z",
     "iopub.status.busy": "2025-08-27T22:33:25.233142Z",
     "iopub.status.idle": "2025-08-27T22:33:25.235573Z",
     "shell.execute_reply": "2025-08-27T22:33:25.235216Z"
    }
   },
   "outputs": [
    {
     "name": "stdout",
     "output_type": "stream",
     "text": [
      "OBJECT TYPE: EquityRainbowOption\n",
      "EXPIRY DATE: 01-JAN-2016\n",
      "PAYOFF TYPE: EquityRainbowOptionTypes.PUT_ON_MAXIMUM\n",
      "PAYOFF PARAMS: [105.0]\n",
      "NUM ASSETS TYPE: 2\n"
     ]
    }
   ],
   "source": [
    "print(putRainbowOption)"
   ]
  },
  {
   "cell_type": "markdown",
   "metadata": {},
   "source": [
    "## Valuation"
   ]
  },
  {
   "cell_type": "code",
   "execution_count": 12,
   "metadata": {
    "execution": {
     "iopub.execute_input": "2025-08-27T22:33:25.237775Z",
     "iopub.status.busy": "2025-08-27T22:33:25.237405Z",
     "iopub.status.idle": "2025-08-27T22:33:25.240083Z",
     "shell.execute_reply": "2025-08-27T22:33:25.239716Z"
    }
   },
   "outputs": [],
   "source": [
    "value_dt = Date(1, 1, 2015)"
   ]
  },
  {
   "cell_type": "code",
   "execution_count": 13,
   "metadata": {
    "execution": {
     "iopub.execute_input": "2025-08-27T22:33:25.242078Z",
     "iopub.status.busy": "2025-08-27T22:33:25.241779Z",
     "iopub.status.idle": "2025-08-27T22:33:25.244144Z",
     "shell.execute_reply": "2025-08-27T22:33:25.243817Z"
    }
   },
   "outputs": [],
   "source": [
    "interest_rate = 0.10"
   ]
  },
  {
   "cell_type": "code",
   "execution_count": 14,
   "metadata": {
    "execution": {
     "iopub.execute_input": "2025-08-27T22:33:25.246061Z",
     "iopub.status.busy": "2025-08-27T22:33:25.245708Z",
     "iopub.status.idle": "2025-08-27T22:33:25.254122Z",
     "shell.execute_reply": "2025-08-27T22:33:25.253766Z"
    }
   },
   "outputs": [],
   "source": [
    "discount_curve = DiscountCurveFlat(value_dt, interest_rate)"
   ]
  },
  {
   "cell_type": "code",
   "execution_count": 15,
   "metadata": {
    "execution": {
     "iopub.execute_input": "2025-08-27T22:33:25.256096Z",
     "iopub.status.busy": "2025-08-27T22:33:25.255911Z",
     "iopub.status.idle": "2025-08-27T22:33:25.258645Z",
     "shell.execute_reply": "2025-08-27T22:33:25.258262Z"
    }
   },
   "outputs": [],
   "source": [
    "num_assets = 2"
   ]
  },
  {
   "cell_type": "code",
   "execution_count": 16,
   "metadata": {
    "execution": {
     "iopub.execute_input": "2025-08-27T22:33:25.260838Z",
     "iopub.status.busy": "2025-08-27T22:33:25.260542Z",
     "iopub.status.idle": "2025-08-27T22:33:25.263367Z",
     "shell.execute_reply": "2025-08-27T22:33:25.263026Z"
    }
   },
   "outputs": [],
   "source": [
    "stock_prices = np.ones(num_assets) * 100\n",
    "dividend_yields = np.ones(num_assets) * 0.01\n",
    "volatilities = np.ones(num_assets) * 0.3"
   ]
  },
  {
   "cell_type": "code",
   "execution_count": 17,
   "metadata": {
    "execution": {
     "iopub.execute_input": "2025-08-27T22:33:25.265594Z",
     "iopub.status.busy": "2025-08-27T22:33:25.265207Z",
     "iopub.status.idle": "2025-08-27T22:33:25.269228Z",
     "shell.execute_reply": "2025-08-27T22:33:25.268862Z"
    }
   },
   "outputs": [],
   "source": [
    "dividend_curves = []\n",
    "for dividend_yield in dividend_yields:\n",
    "    dividend_curves.append(DiscountCurveFlat(value_dt, dividend_yield))"
   ]
  },
  {
   "cell_type": "code",
   "execution_count": 18,
   "metadata": {
    "execution": {
     "iopub.execute_input": "2025-08-27T22:33:25.270969Z",
     "iopub.status.busy": "2025-08-27T22:33:25.270769Z",
     "iopub.status.idle": "2025-08-27T22:33:25.273112Z",
     "shell.execute_reply": "2025-08-27T22:33:25.272774Z"
    }
   },
   "outputs": [],
   "source": [
    "correlation = 0.50\n",
    "betas = np.ones(num_assets) * np.sqrt(correlation)\n",
    "corr_matrix = beta_vector_to_corr_matrix(betas)"
   ]
  },
  {
   "cell_type": "code",
   "execution_count": 19,
   "metadata": {
    "execution": {
     "iopub.execute_input": "2025-08-27T22:33:25.275143Z",
     "iopub.status.busy": "2025-08-27T22:33:25.274920Z",
     "iopub.status.idle": "2025-08-27T22:33:25.288285Z",
     "shell.execute_reply": "2025-08-27T22:33:25.287781Z"
    }
   },
   "outputs": [
    {
     "data": {
      "text/plain": [
       "np.float64(20.77450147922707)"
      ]
     },
     "execution_count": 19,
     "metadata": {},
     "output_type": "execute_result"
    }
   ],
   "source": [
    "callRainbowOption.value(value_dt, stock_prices, discount_curve, dividend_curves, volatilities, corr_matrix)"
   ]
  },
  {
   "cell_type": "code",
   "execution_count": 20,
   "metadata": {
    "execution": {
     "iopub.execute_input": "2025-08-27T22:33:25.290188Z",
     "iopub.status.busy": "2025-08-27T22:33:25.289995Z",
     "iopub.status.idle": "2025-08-27T22:33:25.293423Z",
     "shell.execute_reply": "2025-08-27T22:33:25.292946Z"
    }
   },
   "outputs": [
    {
     "data": {
      "text/plain": [
       "np.float64(5.087602353908778)"
      ]
     },
     "execution_count": 20,
     "metadata": {},
     "output_type": "execute_result"
    }
   ],
   "source": [
    "putRainbowOption.value(value_dt, stock_prices, discount_curve, dividend_curves, volatilities, corr_matrix)"
   ]
  },
  {
   "cell_type": "code",
   "execution_count": 21,
   "metadata": {
    "execution": {
     "iopub.execute_input": "2025-08-27T22:33:25.294964Z",
     "iopub.status.busy": "2025-08-27T22:33:25.294781Z",
     "iopub.status.idle": "2025-08-27T22:33:25.315856Z",
     "shell.execute_reply": "2025-08-27T22:33:25.315428Z"
    }
   },
   "outputs": [
    {
     "data": {
      "text/plain": [
       "np.float64(20.78675850643471)"
      ]
     },
     "execution_count": 21,
     "metadata": {},
     "output_type": "execute_result"
    }
   ],
   "source": [
    "callRainbowOption.value_mc(value_dt, stock_prices, discount_curve, dividend_curves, volatilities, corr_matrix)"
   ]
  },
  {
   "cell_type": "code",
   "execution_count": 22,
   "metadata": {
    "execution": {
     "iopub.execute_input": "2025-08-27T22:33:25.317834Z",
     "iopub.status.busy": "2025-08-27T22:33:25.317604Z",
     "iopub.status.idle": "2025-08-27T22:33:25.321591Z",
     "shell.execute_reply": "2025-08-27T22:33:25.321271Z"
    }
   },
   "outputs": [
    {
     "data": {
      "text/plain": [
       "np.float64(5.067127993316386)"
      ]
     },
     "execution_count": 22,
     "metadata": {},
     "output_type": "execute_result"
    }
   ],
   "source": [
    "putRainbowOption.value_mc(value_dt, stock_prices, discount_curve, dividend_curves, volatilities, corr_matrix)"
   ]
  },
  {
   "cell_type": "markdown",
   "metadata": {},
   "source": [
    "## CALL ON MINIMUM"
   ]
  },
  {
   "cell_type": "code",
   "execution_count": 23,
   "metadata": {
    "execution": {
     "iopub.execute_input": "2025-08-27T22:33:25.323705Z",
     "iopub.status.busy": "2025-08-27T22:33:25.323502Z",
     "iopub.status.idle": "2025-08-27T22:33:25.325898Z",
     "shell.execute_reply": "2025-08-27T22:33:25.325527Z"
    }
   },
   "outputs": [],
   "source": [
    "strike_price = 105.0"
   ]
  },
  {
   "cell_type": "code",
   "execution_count": 24,
   "metadata": {
    "execution": {
     "iopub.execute_input": "2025-08-27T22:33:25.328087Z",
     "iopub.status.busy": "2025-08-27T22:33:25.327826Z",
     "iopub.status.idle": "2025-08-27T22:33:25.330425Z",
     "shell.execute_reply": "2025-08-27T22:33:25.330033Z"
    }
   },
   "outputs": [],
   "source": [
    "callPayoffType = EquityRainbowOptionTypes.CALL_ON_MINIMUM\n",
    "putPayoffType = EquityRainbowOptionTypes.PUT_ON_MINIMUM"
   ]
  },
  {
   "cell_type": "code",
   "execution_count": 25,
   "metadata": {
    "execution": {
     "iopub.execute_input": "2025-08-27T22:33:25.332206Z",
     "iopub.status.busy": "2025-08-27T22:33:25.331872Z",
     "iopub.status.idle": "2025-08-27T22:33:25.334352Z",
     "shell.execute_reply": "2025-08-27T22:33:25.333909Z"
    }
   },
   "outputs": [],
   "source": [
    "payoff_params = [strike_price]"
   ]
  },
  {
   "cell_type": "code",
   "execution_count": 26,
   "metadata": {
    "execution": {
     "iopub.execute_input": "2025-08-27T22:33:25.335890Z",
     "iopub.status.busy": "2025-08-27T22:33:25.335707Z",
     "iopub.status.idle": "2025-08-27T22:33:25.337921Z",
     "shell.execute_reply": "2025-08-27T22:33:25.337558Z"
    }
   },
   "outputs": [],
   "source": [
    "callRainbowOption = EquityRainbowOption(expiry_dt, callPayoffType, payoff_params, num_assets)\n",
    "putRainbowOption = EquityRainbowOption(expiry_dt, putPayoffType, payoff_params, num_assets)"
   ]
  },
  {
   "cell_type": "code",
   "execution_count": 27,
   "metadata": {
    "execution": {
     "iopub.execute_input": "2025-08-27T22:33:25.339873Z",
     "iopub.status.busy": "2025-08-27T22:33:25.339600Z",
     "iopub.status.idle": "2025-08-27T22:33:25.342281Z",
     "shell.execute_reply": "2025-08-27T22:33:25.341971Z"
    }
   },
   "outputs": [
    {
     "name": "stdout",
     "output_type": "stream",
     "text": [
      "OBJECT TYPE: EquityRainbowOption\n",
      "EXPIRY DATE: 01-JAN-2016\n",
      "PAYOFF TYPE: EquityRainbowOptionTypes.CALL_ON_MINIMUM\n",
      "PAYOFF PARAMS: [105.0]\n",
      "NUM ASSETS TYPE: 2\n"
     ]
    }
   ],
   "source": [
    "print(callRainbowOption)"
   ]
  },
  {
   "cell_type": "code",
   "execution_count": 28,
   "metadata": {
    "execution": {
     "iopub.execute_input": "2025-08-27T22:33:25.344224Z",
     "iopub.status.busy": "2025-08-27T22:33:25.343970Z",
     "iopub.status.idle": "2025-08-27T22:33:25.346793Z",
     "shell.execute_reply": "2025-08-27T22:33:25.346455Z"
    }
   },
   "outputs": [
    {
     "name": "stdout",
     "output_type": "stream",
     "text": [
      "OBJECT TYPE: EquityRainbowOption\n",
      "EXPIRY DATE: 01-JAN-2016\n",
      "PAYOFF TYPE: EquityRainbowOptionTypes.PUT_ON_MINIMUM\n",
      "PAYOFF PARAMS: [105.0]\n",
      "NUM ASSETS TYPE: 2\n"
     ]
    }
   ],
   "source": [
    "print(putRainbowOption)"
   ]
  },
  {
   "cell_type": "markdown",
   "metadata": {},
   "source": [
    "## Valuation"
   ]
  },
  {
   "cell_type": "code",
   "execution_count": 29,
   "metadata": {
    "execution": {
     "iopub.execute_input": "2025-08-27T22:33:25.348501Z",
     "iopub.status.busy": "2025-08-27T22:33:25.348300Z",
     "iopub.status.idle": "2025-08-27T22:33:25.351924Z",
     "shell.execute_reply": "2025-08-27T22:33:25.351557Z"
    }
   },
   "outputs": [
    {
     "data": {
      "text/plain": [
       "np.float64(6.45989578158812)"
      ]
     },
     "execution_count": 29,
     "metadata": {},
     "output_type": "execute_result"
    }
   ],
   "source": [
    "callRainbowOption.value(value_dt, stock_prices, discount_curve, dividend_curves, volatilities, corr_matrix)"
   ]
  },
  {
   "cell_type": "code",
   "execution_count": 30,
   "metadata": {
    "execution": {
     "iopub.execute_input": "2025-08-27T22:33:25.353781Z",
     "iopub.status.busy": "2025-08-27T22:33:25.353591Z",
     "iopub.status.idle": "2025-08-27T22:33:25.356456Z",
     "shell.execute_reply": "2025-08-27T22:33:25.356163Z"
    }
   },
   "outputs": [
    {
     "data": {
      "text/plain": [
       "np.float64(14.386033495465913)"
      ]
     },
     "execution_count": 30,
     "metadata": {},
     "output_type": "execute_result"
    }
   ],
   "source": [
    "putRainbowOption.value(value_dt, stock_prices, discount_curve, dividend_curves, volatilities, corr_matrix)"
   ]
  },
  {
   "cell_type": "code",
   "execution_count": 31,
   "metadata": {
    "execution": {
     "iopub.execute_input": "2025-08-27T22:33:25.358156Z",
     "iopub.status.busy": "2025-08-27T22:33:25.357974Z",
     "iopub.status.idle": "2025-08-27T22:33:25.361243Z",
     "shell.execute_reply": "2025-08-27T22:33:25.360893Z"
    }
   },
   "outputs": [
    {
     "data": {
      "text/plain": [
       "np.float64(6.506134523818798)"
      ]
     },
     "execution_count": 31,
     "metadata": {},
     "output_type": "execute_result"
    }
   ],
   "source": [
    "callRainbowOption.value_mc(value_dt, stock_prices, discount_curve, dividend_curves, volatilities, corr_matrix)"
   ]
  },
  {
   "cell_type": "code",
   "execution_count": 32,
   "metadata": {
    "execution": {
     "iopub.execute_input": "2025-08-27T22:33:25.363032Z",
     "iopub.status.busy": "2025-08-27T22:33:25.362794Z",
     "iopub.status.idle": "2025-08-27T22:33:25.365876Z",
     "shell.execute_reply": "2025-08-27T22:33:25.365521Z"
    }
   },
   "outputs": [
    {
     "data": {
      "text/plain": [
       "np.float64(14.24526420111423)"
      ]
     },
     "execution_count": 32,
     "metadata": {},
     "output_type": "execute_result"
    }
   ],
   "source": [
    "putRainbowOption.value_mc(value_dt, stock_prices, discount_curve, dividend_curves, volatilities, corr_matrix)"
   ]
  },
  {
   "cell_type": "markdown",
   "metadata": {},
   "source": [
    "## CALL ON Nth"
   ]
  },
  {
   "cell_type": "code",
   "execution_count": 33,
   "metadata": {
    "execution": {
     "iopub.execute_input": "2025-08-27T22:33:25.367792Z",
     "iopub.status.busy": "2025-08-27T22:33:25.367607Z",
     "iopub.status.idle": "2025-08-27T22:33:25.369742Z",
     "shell.execute_reply": "2025-08-27T22:33:25.369374Z"
    }
   },
   "outputs": [],
   "source": [
    "payoff_type = EquityRainbowOptionTypes.CALL_ON_NTH"
   ]
  },
  {
   "cell_type": "code",
   "execution_count": 34,
   "metadata": {
    "execution": {
     "iopub.execute_input": "2025-08-27T22:33:25.371682Z",
     "iopub.status.busy": "2025-08-27T22:33:25.371399Z",
     "iopub.status.idle": "2025-08-27T22:33:25.373965Z",
     "shell.execute_reply": "2025-08-27T22:33:25.373460Z"
    }
   },
   "outputs": [],
   "source": [
    "num_assets = 5"
   ]
  },
  {
   "cell_type": "code",
   "execution_count": 35,
   "metadata": {
    "execution": {
     "iopub.execute_input": "2025-08-27T22:33:25.376355Z",
     "iopub.status.busy": "2025-08-27T22:33:25.376080Z",
     "iopub.status.idle": "2025-08-27T22:33:25.378916Z",
     "shell.execute_reply": "2025-08-27T22:33:25.378526Z"
    }
   },
   "outputs": [],
   "source": [
    "stock_prices = np.ones(num_assets) * 100\n",
    "dividend_yields = np.ones(num_assets) * 0.01\n",
    "volatilities = np.ones(num_assets) * 0.3"
   ]
  },
  {
   "cell_type": "code",
   "execution_count": 36,
   "metadata": {
    "execution": {
     "iopub.execute_input": "2025-08-27T22:33:25.380832Z",
     "iopub.status.busy": "2025-08-27T22:33:25.380577Z",
     "iopub.status.idle": "2025-08-27T22:33:25.385416Z",
     "shell.execute_reply": "2025-08-27T22:33:25.385087Z"
    }
   },
   "outputs": [],
   "source": [
    "dividend_curves = []\n",
    "for dividend_yield in dividend_yields:\n",
    "    dividend_curves.append(DiscountCurveFlat(value_dt, dividend_yield))"
   ]
  },
  {
   "cell_type": "code",
   "execution_count": 37,
   "metadata": {
    "execution": {
     "iopub.execute_input": "2025-08-27T22:33:25.387575Z",
     "iopub.status.busy": "2025-08-27T22:33:25.387313Z",
     "iopub.status.idle": "2025-08-27T22:33:25.389903Z",
     "shell.execute_reply": "2025-08-27T22:33:25.389563Z"
    }
   },
   "outputs": [],
   "source": [
    "correlation = 0.50\n",
    "betas = np.ones(num_assets) * np.sqrt(correlation)\n",
    "corr_matrix = beta_vector_to_corr_matrix(betas)"
   ]
  },
  {
   "cell_type": "code",
   "execution_count": 38,
   "metadata": {
    "execution": {
     "iopub.execute_input": "2025-08-27T22:33:25.391728Z",
     "iopub.status.busy": "2025-08-27T22:33:25.391546Z",
     "iopub.status.idle": "2025-08-27T22:33:25.400117Z",
     "shell.execute_reply": "2025-08-27T22:33:25.399738Z"
    }
   },
   "outputs": [
    {
     "name": "stdout",
     "output_type": "stream",
     "text": [
      "1 32.32749108117505\n",
      "2 18.03854841953502\n",
      "3 10.478627179959387\n",
      "4 5.685527498358741\n",
      "5 2.31343337969236\n"
     ]
    }
   ],
   "source": [
    "for n in range(0, num_assets):\n",
    "    payoff_params = [n+1, strike_price]\n",
    "    nthRainbowOption = EquityRainbowOption(expiry_dt, payoff_type, payoff_params, num_assets)\n",
    "    v_mc = nthRainbowOption.value_mc(value_dt, stock_prices, discount_curve, dividend_curves, volatilities, corr_matrix)\n",
    "    print(n+1, v_mc)"
   ]
  },
  {
   "cell_type": "markdown",
   "metadata": {},
   "source": [
    "## PUT ON Nth\n"
   ]
  },
  {
   "cell_type": "code",
   "execution_count": 39,
   "metadata": {
    "execution": {
     "iopub.execute_input": "2025-08-27T22:33:25.401921Z",
     "iopub.status.busy": "2025-08-27T22:33:25.401729Z",
     "iopub.status.idle": "2025-08-27T22:33:25.404376Z",
     "shell.execute_reply": "2025-08-27T22:33:25.403962Z"
    }
   },
   "outputs": [],
   "source": [
    "payoff_type = EquityRainbowOptionTypes.PUT_ON_NTH"
   ]
  },
  {
   "cell_type": "code",
   "execution_count": 40,
   "metadata": {
    "execution": {
     "iopub.execute_input": "2025-08-27T22:33:25.406362Z",
     "iopub.status.busy": "2025-08-27T22:33:25.406165Z",
     "iopub.status.idle": "2025-08-27T22:33:25.415474Z",
     "shell.execute_reply": "2025-08-27T22:33:25.414992Z"
    }
   },
   "outputs": [
    {
     "name": "stdout",
     "output_type": "stream",
     "text": [
      "1 1.9430817367681796\n",
      "2 4.579136830983721\n",
      "3 8.061751031118996\n",
      "4 13.050507433470255\n",
      "5 21.049664930583\n"
     ]
    }
   ],
   "source": [
    "for n in range(0, num_assets):\n",
    "    payoff_type = EquityRainbowOptionTypes.PUT_ON_NTH\n",
    "    payoff_params = [n+1, strike_price]\n",
    "    nthRainbowOption = EquityRainbowOption(expiry_dt, payoff_type, payoff_params, num_assets)\n",
    "    v_mc = nthRainbowOption.value_mc(value_dt, stock_prices, discount_curve, dividend_curves, volatilities, corr_matrix)\n",
    "    print(n+1, v_mc)"
   ]
  },
  {
   "cell_type": "markdown",
   "metadata": {},
   "source": [
    "Copyright (c) 2020 Dominic O'Kane"
   ]
  }
 ],
 "metadata": {
  "kernelspec": {
   "display_name": "base",
   "language": "python",
   "name": "python3"
  },
  "language_info": {
   "codemirror_mode": {
    "name": "ipython",
    "version": 3
   },
   "file_extension": ".py",
   "mimetype": "text/x-python",
   "name": "python",
   "nbconvert_exporter": "python",
   "pygments_lexer": "ipython3",
   "version": "3.13.5"
  }
 },
 "nbformat": 4,
 "nbformat_minor": 2
}
