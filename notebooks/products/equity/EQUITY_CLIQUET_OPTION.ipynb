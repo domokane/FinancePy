{
 "cells": [
  {
   "cell_type": "markdown",
   "metadata": {},
   "source": [
    "# EQUITY CLIQUET OPTION"
   ]
  },
  {
   "cell_type": "markdown",
   "metadata": {},
   "source": [
    "Valuation and Risk of Equity Cliquet Options"
   ]
  },
  {
   "cell_type": "code",
   "execution_count": 1,
   "metadata": {
    "execution": {
     "iopub.execute_input": "2025-08-27T22:32:33.837451Z",
     "iopub.status.busy": "2025-08-27T22:32:33.837157Z",
     "iopub.status.idle": "2025-08-27T22:32:34.280750Z",
     "shell.execute_reply": "2025-08-27T22:32:34.279916Z"
    }
   },
   "outputs": [],
   "source": [
    "import numpy as np\n",
    "import matplotlib.pyplot as plt"
   ]
  },
  {
   "cell_type": "code",
   "execution_count": 2,
   "metadata": {
    "execution": {
     "iopub.execute_input": "2025-08-27T22:32:34.283405Z",
     "iopub.status.busy": "2025-08-27T22:32:34.283098Z",
     "iopub.status.idle": "2025-08-27T22:32:37.058760Z",
     "shell.execute_reply": "2025-08-27T22:32:37.058304Z"
    }
   },
   "outputs": [],
   "source": [
    "from financepy.utils import *\n",
    "from financepy.market.curves import *\n",
    "from financepy.products.equity import *"
   ]
  },
  {
   "cell_type": "markdown",
   "metadata": {},
   "source": [
    "# Cliquet Option"
   ]
  },
  {
   "cell_type": "markdown",
   "metadata": {},
   "source": [
    "I create a cliquet option"
   ]
  },
  {
   "cell_type": "code",
   "execution_count": 3,
   "metadata": {
    "execution": {
     "iopub.execute_input": "2025-08-27T22:32:37.061627Z",
     "iopub.status.busy": "2025-08-27T22:32:37.061227Z",
     "iopub.status.idle": "2025-08-27T22:32:37.079776Z",
     "shell.execute_reply": "2025-08-27T22:32:37.079345Z"
    }
   },
   "outputs": [],
   "source": [
    "start_dt = Date(1,1, 2020)"
   ]
  },
  {
   "cell_type": "code",
   "execution_count": 4,
   "metadata": {
    "execution": {
     "iopub.execute_input": "2025-08-27T22:32:37.082091Z",
     "iopub.status.busy": "2025-08-27T22:32:37.081826Z",
     "iopub.status.idle": "2025-08-27T22:32:37.084791Z",
     "shell.execute_reply": "2025-08-27T22:32:37.084421Z"
    }
   },
   "outputs": [],
   "source": [
    "expiry_dt = Date(1, 1, 2025)"
   ]
  },
  {
   "cell_type": "code",
   "execution_count": 5,
   "metadata": {
    "execution": {
     "iopub.execute_input": "2025-08-27T22:32:37.086652Z",
     "iopub.status.busy": "2025-08-27T22:32:37.086463Z",
     "iopub.status.idle": "2025-08-27T22:32:37.088838Z",
     "shell.execute_reply": "2025-08-27T22:32:37.088488Z"
    }
   },
   "outputs": [],
   "source": [
    "opt_typeCall = OptionTypes.EUROPEAN_CALL"
   ]
  },
  {
   "cell_type": "code",
   "execution_count": 6,
   "metadata": {
    "execution": {
     "iopub.execute_input": "2025-08-27T22:32:37.091205Z",
     "iopub.status.busy": "2025-08-27T22:32:37.090932Z",
     "iopub.status.idle": "2025-08-27T22:32:37.093424Z",
     "shell.execute_reply": "2025-08-27T22:32:37.093048Z"
    }
   },
   "outputs": [],
   "source": [
    "freq_type = FrequencyTypes.ANNUAL"
   ]
  },
  {
   "cell_type": "code",
   "execution_count": 7,
   "metadata": {
    "execution": {
     "iopub.execute_input": "2025-08-27T22:32:37.095119Z",
     "iopub.status.busy": "2025-08-27T22:32:37.094930Z",
     "iopub.status.idle": "2025-08-27T22:32:37.103087Z",
     "shell.execute_reply": "2025-08-27T22:32:37.102553Z"
    }
   },
   "outputs": [],
   "source": [
    "cliquetCall = EquityCliquetOption(start_dt, expiry_dt, opt_typeCall, freq_type)"
   ]
  },
  {
   "cell_type": "code",
   "execution_count": 8,
   "metadata": {
    "execution": {
     "iopub.execute_input": "2025-08-27T22:32:37.105834Z",
     "iopub.status.busy": "2025-08-27T22:32:37.105543Z",
     "iopub.status.idle": "2025-08-27T22:32:37.109486Z",
     "shell.execute_reply": "2025-08-27T22:32:37.109093Z"
    }
   },
   "outputs": [
    {
     "name": "stdout",
     "output_type": "stream",
     "text": [
      "OBJECT TYPE: EquityCliquetOption\n",
      "START DATE: 01-JAN-2020\n",
      "FINAL EXPIRY DATE: 01-JAN-2025\n",
      "OPTION TYPE: OptionTypes.EUROPEAN_CALL\n",
      "FREQUENCY TYPE: FrequencyTypes.ANNUAL\n",
      "DAY COUNT TYPE: DayCountTypes.THIRTY_E_360\n",
      "CALENDAR TYPE: CalendarTypes.WEEKEND\n",
      "BUS DAY ADJUST TYPE: BusDayAdjustTypes.FOLLOWING\n",
      "DATE GEN RULE TYPE: DateGenRuleTypes.BACKWARD\n"
     ]
    }
   ],
   "source": [
    "print(cliquetCall)"
   ]
  },
  {
   "cell_type": "markdown",
   "metadata": {},
   "source": [
    "## Valuation"
   ]
  },
  {
   "cell_type": "code",
   "execution_count": 9,
   "metadata": {
    "execution": {
     "iopub.execute_input": "2025-08-27T22:32:37.111356Z",
     "iopub.status.busy": "2025-08-27T22:32:37.111093Z",
     "iopub.status.idle": "2025-08-27T22:32:37.113531Z",
     "shell.execute_reply": "2025-08-27T22:32:37.113156Z"
    }
   },
   "outputs": [],
   "source": [
    "value_dt = Date(1, 1, 2020)"
   ]
  },
  {
   "cell_type": "code",
   "execution_count": 10,
   "metadata": {
    "execution": {
     "iopub.execute_input": "2025-08-27T22:32:37.115717Z",
     "iopub.status.busy": "2025-08-27T22:32:37.115432Z",
     "iopub.status.idle": "2025-08-27T22:32:37.117788Z",
     "shell.execute_reply": "2025-08-27T22:32:37.117433Z"
    }
   },
   "outputs": [],
   "source": [
    "interest_rate = 0.10"
   ]
  },
  {
   "cell_type": "code",
   "execution_count": 11,
   "metadata": {
    "execution": {
     "iopub.execute_input": "2025-08-27T22:32:37.119790Z",
     "iopub.status.busy": "2025-08-27T22:32:37.119523Z",
     "iopub.status.idle": "2025-08-27T22:32:37.122629Z",
     "shell.execute_reply": "2025-08-27T22:32:37.122295Z"
    }
   },
   "outputs": [],
   "source": [
    "discount_curve = DiscountCurveFlat(value_dt, interest_rate)"
   ]
  },
  {
   "cell_type": "code",
   "execution_count": 12,
   "metadata": {
    "execution": {
     "iopub.execute_input": "2025-08-27T22:32:37.124085Z",
     "iopub.status.busy": "2025-08-27T22:32:37.123902Z",
     "iopub.status.idle": "2025-08-27T22:32:37.126024Z",
     "shell.execute_reply": "2025-08-27T22:32:37.125613Z"
    }
   },
   "outputs": [],
   "source": [
    "dividend_yield = 0.0"
   ]
  },
  {
   "cell_type": "code",
   "execution_count": 13,
   "metadata": {
    "execution": {
     "iopub.execute_input": "2025-08-27T22:32:37.127893Z",
     "iopub.status.busy": "2025-08-27T22:32:37.127590Z",
     "iopub.status.idle": "2025-08-27T22:32:37.130373Z",
     "shell.execute_reply": "2025-08-27T22:32:37.130003Z"
    }
   },
   "outputs": [],
   "source": [
    "dividend_curve = DiscountCurveFlat(value_dt, dividend_yield)"
   ]
  },
  {
   "cell_type": "code",
   "execution_count": 14,
   "metadata": {
    "execution": {
     "iopub.execute_input": "2025-08-27T22:32:37.132277Z",
     "iopub.status.busy": "2025-08-27T22:32:37.132092Z",
     "iopub.status.idle": "2025-08-27T22:32:37.134416Z",
     "shell.execute_reply": "2025-08-27T22:32:37.134055Z"
    }
   },
   "outputs": [],
   "source": [
    "volatility = 0.10"
   ]
  },
  {
   "cell_type": "code",
   "execution_count": 15,
   "metadata": {
    "execution": {
     "iopub.execute_input": "2025-08-27T22:32:37.136504Z",
     "iopub.status.busy": "2025-08-27T22:32:37.136221Z",
     "iopub.status.idle": "2025-08-27T22:32:37.138360Z",
     "shell.execute_reply": "2025-08-27T22:32:37.138040Z"
    }
   },
   "outputs": [],
   "source": [
    "model = BlackScholes(volatility)"
   ]
  },
  {
   "cell_type": "code",
   "execution_count": 16,
   "metadata": {
    "execution": {
     "iopub.execute_input": "2025-08-27T22:32:37.140336Z",
     "iopub.status.busy": "2025-08-27T22:32:37.140041Z",
     "iopub.status.idle": "2025-08-27T22:32:37.142452Z",
     "shell.execute_reply": "2025-08-27T22:32:37.142065Z"
    }
   },
   "outputs": [],
   "source": [
    "stock_prices = np.linspace(50, 150, 20)"
   ]
  },
  {
   "cell_type": "code",
   "execution_count": 17,
   "metadata": {
    "execution": {
     "iopub.execute_input": "2025-08-27T22:32:37.144084Z",
     "iopub.status.busy": "2025-08-27T22:32:37.143789Z",
     "iopub.status.idle": "2025-08-27T22:32:37.148376Z",
     "shell.execute_reply": "2025-08-27T22:32:37.148033Z"
    }
   },
   "outputs": [],
   "source": [
    "values = []\n",
    "\n",
    "for stock_price in stock_prices:\n",
    "    stock_min_max = stock_price\n",
    "    v = cliquetCall.value(value_dt, stock_price, discount_curve, dividend_curve, model)\n",
    "    values.append(v)"
   ]
  },
  {
   "cell_type": "code",
   "execution_count": 18,
   "metadata": {
    "execution": {
     "iopub.execute_input": "2025-08-27T22:32:37.150361Z",
     "iopub.status.busy": "2025-08-27T22:32:37.150000Z",
     "iopub.status.idle": "2025-08-27T22:32:37.246106Z",
     "shell.execute_reply": "2025-08-27T22:32:37.245699Z"
    }
   },
   "outputs": [
    {
     "data": {
      "image/png": "[encoded data removed]",
      "text/plain": [
       "<Figure size 640x480 with 1 Axes>"
      ]
     },
     "metadata": {},
     "output_type": "display_data"
    }
   ],
   "source": [
    "plt.plot(stock_prices, values)\n",
    "plt.xlabel(\"Stock Price\")\n",
    "plt.ylabel(\"Value\");"
   ]
  },
  {
   "cell_type": "code",
   "execution_count": 19,
   "metadata": {
    "execution": {
     "iopub.execute_input": "2025-08-27T22:32:37.248213Z",
     "iopub.status.busy": "2025-08-27T22:32:37.247937Z",
     "iopub.status.idle": "2025-08-27T22:32:37.251268Z",
     "shell.execute_reply": "2025-08-27T22:32:37.250848Z"
    }
   },
   "outputs": [
    {
     "name": "stdout",
     "output_type": "stream",
     "text": [
      "01-JAN-2021 0.9048374180359595 0.1\n",
      "03-JAN-2022 0.818282256374285 0.1\n",
      "02-JAN-2023 0.7406152845863752 0.1\n",
      "01-JAN-2024 0.6703200460356393 0.1\n",
      "01-JAN-2025 0.6065306597126334 0.1\n"
     ]
    }
   ],
   "source": [
    "cliquetCall.print_payments()"
   ]
  },
  {
   "cell_type": "markdown",
   "metadata": {},
   "source": [
    "Copyright (c) 2020 Dominic O'Kane"
   ]
  }
 ],
 "metadata": {
  "kernelspec": {
   "display_name": "base",
   "language": "python",
   "name": "python3"
  },
  "language_info": {
   "codemirror_mode": {
    "name": "ipython",
    "version": 3
   },
   "file_extension": ".py",
   "mimetype": "text/x-python",
   "name": "python",
   "nbconvert_exporter": "python",
   "pygments_lexer": "ipython3",
   "version": "3.13.5"
  }
 },
 "nbformat": 4,
 "nbformat_minor": 2
}
