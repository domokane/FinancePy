{
    "cells": [
        {
            "cell_type": "markdown",
            "metadata": {},
            "source": [
                "# EQUITY CLIQUET OPTION"
            ]
        },
        {
            "cell_type": "markdown",
            "metadata": {},
            "source": [
                "Valuation and Risk of Equity Cliquet Options"
            ]
        },
        {
            "cell_type": "code",
            "execution_count": 1,
            "metadata": {
                "execution": {
                    "iopub.execute_input": "2024-04-30T20:04:03.057117Z",
                    "iopub.status.busy": "2024-04-30T20:04:03.057117Z",
                    "iopub.status.idle": "2024-04-30T20:04:03.659708Z",
                    "shell.execute_reply": "2024-04-30T20:04:03.659708Z"
                }
            },
            "outputs": [],
            "source": [
                "import numpy as np\n",
                "import matplotlib.pyplot as plt"
            ]
        },
        {
            "cell_type": "code",
            "execution_count": 2,
            "metadata": {
                "execution": {
                    "iopub.execute_input": "2024-04-30T20:04:03.662305Z",
                    "iopub.status.busy": "2024-04-30T20:04:03.662305Z",
                    "iopub.status.idle": "2024-04-30T20:04:10.152496Z",
                    "shell.execute_reply": "2024-04-30T20:04:10.152076Z"
                }
            },
            "outputs": [
                {
                    "name": "stdout",
                    "output_type": "stream",
                    "text": [
                        "####################################################################\n",
                        "#  FINANCEPY BETA Version 0.350 - This build: 30 Apr 2024 at 21:20 #\n",
                        "#     This software is distributed FREE AND WITHOUT ANY WARRANTY   #\n",
                        "#  Report bugs as issues at https://github.com/domokane/FinancePy  #\n",
                        "####################################################################\n",
                        "\n"
                    ]
                }
            ],
            "source": [
                "from financepy.utils import *\n",
                "from financepy.market.curves import *\n",
                "from financepy.products.equity import *"
            ]
        },
        {
            "cell_type": "markdown",
            "metadata": {},
            "source": [
                "# Cliquet Option"
            ]
        },
        {
            "cell_type": "markdown",
            "metadata": {},
            "source": [
                "I create a cliquet option"
            ]
        },
        {
            "cell_type": "code",
            "execution_count": 3,
            "metadata": {
                "execution": {
                    "iopub.execute_input": "2024-04-30T20:04:10.155520Z",
                    "iopub.status.busy": "2024-04-30T20:04:10.155520Z",
                    "iopub.status.idle": "2024-04-30T20:04:10.175100Z",
                    "shell.execute_reply": "2024-04-30T20:04:10.175100Z"
                }
            },
            "outputs": [],
            "source": [
                "start_dt = Date(1,1, 2020)"
            ]
        },
        {
            "cell_type": "code",
            "execution_count": 4,
            "metadata": {
                "execution": {
                    "iopub.execute_input": "2024-04-30T20:04:10.178133Z",
                    "iopub.status.busy": "2024-04-30T20:04:10.178133Z",
                    "iopub.status.idle": "2024-04-30T20:04:10.181120Z",
                    "shell.execute_reply": "2024-04-30T20:04:10.180884Z"
                }
            },
            "outputs": [],
            "source": [
                "expiry_dt = Date(1, 1, 2025)"
            ]
        },
        {
            "cell_type": "code",
            "execution_count": 5,
            "metadata": {
                "execution": {
                    "iopub.execute_input": "2024-04-30T20:04:10.183146Z",
                    "iopub.status.busy": "2024-04-30T20:04:10.183146Z",
                    "iopub.status.idle": "2024-04-30T20:04:10.186581Z",
                    "shell.execute_reply": "2024-04-30T20:04:10.185974Z"
                }
            },
            "outputs": [],
            "source": [
                "opt_typeCall = OptionTypes.EUROPEAN_CALL"
            ]
        },
        {
            "cell_type": "code",
            "execution_count": 6,
            "metadata": {
                "execution": {
                    "iopub.execute_input": "2024-04-30T20:04:10.188607Z",
                    "iopub.status.busy": "2024-04-30T20:04:10.188607Z",
                    "iopub.status.idle": "2024-04-30T20:04:10.191567Z",
                    "shell.execute_reply": "2024-04-30T20:04:10.191567Z"
                }
            },
            "outputs": [],
            "source": [
                "frequencyType = FrequencyTypes.ANNUAL"
            ]
        },
        {
            "cell_type": "code",
            "execution_count": 7,
            "metadata": {
                "execution": {
                    "iopub.execute_input": "2024-04-30T20:04:10.194582Z",
                    "iopub.status.busy": "2024-04-30T20:04:10.194582Z",
                    "iopub.status.idle": "2024-04-30T20:04:10.203435Z",
                    "shell.execute_reply": "2024-04-30T20:04:10.202598Z"
                }
            },
            "outputs": [],
            "source": [
                "cliquetCall = EquityCliquetOption(start_dt, expiry_dt, opt_typeCall, frequencyType)"
            ]
        },
        {
            "cell_type": "code",
            "execution_count": 8,
            "metadata": {
                "execution": {
                    "iopub.execute_input": "2024-04-30T20:04:10.205433Z",
                    "iopub.status.busy": "2024-04-30T20:04:10.205433Z",
                    "iopub.status.idle": "2024-04-30T20:04:10.209049Z",
                    "shell.execute_reply": "2024-04-30T20:04:10.208627Z"
                }
            },
            "outputs": [
                {
                    "name": "stdout",
                    "output_type": "stream",
                    "text": [
                        "OBJECT TYPE: EquityCliquetOption\n",
                        "START DATE: 01-JAN-2020\n",
                        "FINAL EXPIRY DATE: 01-JAN-2025\n",
                        "OPTION TYPE: OptionTypes.EUROPEAN_CALL\n",
                        "FREQUENCY TYPE: FrequencyTypes.ANNUAL\n",
                        "DAY COUNT TYPE: DayCountTypes.THIRTY_E_360\n",
                        "CALENDAR TYPE: CalendarTypes.WEEKEND\n",
                        "BUS DAY ADJUST TYPE: BusDayAdjustTypes.FOLLOWING\n",
                        "DATE GEN RULE TYPE: DateGenRuleTypes.BACKWARD\n"
                    ]
                }
            ],
            "source": [
                "print(cliquetCall)"
            ]
        },
        {
            "cell_type": "markdown",
            "metadata": {},
            "source": [
                "## Valuation"
            ]
        },
        {
            "cell_type": "code",
            "execution_count": 9,
            "metadata": {
                "execution": {
                    "iopub.execute_input": "2024-04-30T20:04:10.211075Z",
                    "iopub.status.busy": "2024-04-30T20:04:10.211075Z",
                    "iopub.status.idle": "2024-04-30T20:04:10.213796Z",
                    "shell.execute_reply": "2024-04-30T20:04:10.213564Z"
                }
            },
            "outputs": [],
            "source": [
                "value_dt = Date(1, 1, 2020)"
            ]
        },
        {
            "cell_type": "code",
            "execution_count": 10,
            "metadata": {
                "execution": {
                    "iopub.execute_input": "2024-04-30T20:04:10.215823Z",
                    "iopub.status.busy": "2024-04-30T20:04:10.215823Z",
                    "iopub.status.idle": "2024-04-30T20:04:10.218499Z",
                    "shell.execute_reply": "2024-04-30T20:04:10.218499Z"
                }
            },
            "outputs": [],
            "source": [
                "interest_rate = 0.10"
            ]
        },
        {
            "cell_type": "code",
            "execution_count": 11,
            "metadata": {
                "execution": {
                    "iopub.execute_input": "2024-04-30T20:04:10.221493Z",
                    "iopub.status.busy": "2024-04-30T20:04:10.221493Z",
                    "iopub.status.idle": "2024-04-30T20:04:10.225462Z",
                    "shell.execute_reply": "2024-04-30T20:04:10.225044Z"
                }
            },
            "outputs": [],
            "source": [
                "discount_curve = DiscountCurveFlat(value_dt, interest_rate)"
            ]
        },
        {
            "cell_type": "code",
            "execution_count": 12,
            "metadata": {
                "execution": {
                    "iopub.execute_input": "2024-04-30T20:04:10.227490Z",
                    "iopub.status.busy": "2024-04-30T20:04:10.227490Z",
                    "iopub.status.idle": "2024-04-30T20:04:10.230185Z",
                    "shell.execute_reply": "2024-04-30T20:04:10.229955Z"
                }
            },
            "outputs": [],
            "source": [
                "dividend_yield = 0.0"
            ]
        },
        {
            "cell_type": "code",
            "execution_count": 13,
            "metadata": {
                "execution": {
                    "iopub.execute_input": "2024-04-30T20:04:10.231828Z",
                    "iopub.status.busy": "2024-04-30T20:04:10.231828Z",
                    "iopub.status.idle": "2024-04-30T20:04:10.235671Z",
                    "shell.execute_reply": "2024-04-30T20:04:10.235671Z"
                }
            },
            "outputs": [],
            "source": [
                "dividend_curve = DiscountCurveFlat(value_dt, dividend_yield)"
            ]
        },
        {
            "cell_type": "code",
            "execution_count": 14,
            "metadata": {
                "execution": {
                    "iopub.execute_input": "2024-04-30T20:04:10.238696Z",
                    "iopub.status.busy": "2024-04-30T20:04:10.238696Z",
                    "iopub.status.idle": "2024-04-30T20:04:10.241943Z",
                    "shell.execute_reply": "2024-04-30T20:04:10.241429Z"
                }
            },
            "outputs": [],
            "source": [
                "volatility = 0.10"
            ]
        },
        {
            "cell_type": "code",
            "execution_count": 15,
            "metadata": {
                "execution": {
                    "iopub.execute_input": "2024-04-30T20:04:10.243974Z",
                    "iopub.status.busy": "2024-04-30T20:04:10.243974Z",
                    "iopub.status.idle": "2024-04-30T20:04:10.247125Z",
                    "shell.execute_reply": "2024-04-30T20:04:10.247125Z"
                }
            },
            "outputs": [],
            "source": [
                "model = BlackScholes(volatility)"
            ]
        },
        {
            "cell_type": "code",
            "execution_count": 16,
            "metadata": {
                "execution": {
                    "iopub.execute_input": "2024-04-30T20:04:10.249155Z",
                    "iopub.status.busy": "2024-04-30T20:04:10.249155Z",
                    "iopub.status.idle": "2024-04-30T20:04:10.252498Z",
                    "shell.execute_reply": "2024-04-30T20:04:10.252498Z"
                }
            },
            "outputs": [],
            "source": [
                "stock_prices = np.linspace(50, 150, 20)"
            ]
        },
        {
            "cell_type": "code",
            "execution_count": 17,
            "metadata": {
                "execution": {
                    "iopub.execute_input": "2024-04-30T20:04:10.255495Z",
                    "iopub.status.busy": "2024-04-30T20:04:10.255495Z",
                    "iopub.status.idle": "2024-04-30T20:04:10.262877Z",
                    "shell.execute_reply": "2024-04-30T20:04:10.262734Z"
                }
            },
            "outputs": [],
            "source": [
                "values = []\n",
                "\n",
                "for stock_price in stock_prices:\n",
                "    stock_min_max = stock_price\n",
                "    v = cliquetCall.value(value_dt, stock_price, discount_curve, dividend_curve, model)\n",
                "    values.append(v)"
            ]
        },
        {
            "cell_type": "code",
            "execution_count": 18,
            "metadata": {
                "execution": {
                    "iopub.execute_input": "2024-04-30T20:04:10.264900Z",
                    "iopub.status.busy": "2024-04-30T20:04:10.264900Z",
                    "iopub.status.idle": "2024-04-30T20:04:10.414031Z",
                    "shell.execute_reply": "2024-04-30T20:04:10.414031Z"
                }
            },
            "outputs": [
                {
                    "data": {
                        "image/png": "[encoded data removed]",
                        "text/plain": [
                            "<Figure size 640x480 with 1 Axes>"
                        ]
                    },
                    "metadata": {},
                    "output_type": "display_data"
                }
            ],
            "source": [
                "plt.plot(stock_prices, values)\n",
                "plt.xlabel(\"Stock Price\")\n",
                "plt.ylabel(\"Value\");"
            ]
        },
        {
            "cell_type": "code",
            "execution_count": 19,
            "metadata": {
                "execution": {
                    "iopub.execute_input": "2024-04-30T20:04:10.417061Z",
                    "iopub.status.busy": "2024-04-30T20:04:10.416077Z",
                    "iopub.status.idle": "2024-04-30T20:04:10.420155Z",
                    "shell.execute_reply": "2024-04-30T20:04:10.420155Z"
                }
            },
            "outputs": [
                {
                    "name": "stdout",
                    "output_type": "stream",
                    "text": [
                        "01-JAN-2021 0.9048374180359595 0.1\n",
                        "03-JAN-2022 0.818282256374285 0.1\n",
                        "02-JAN-2023 0.7406152845863752 0.1\n",
                        "01-JAN-2024 0.6703200460356393 0.1\n",
                        "01-JAN-2025 0.6065306597126334 0.1\n"
                    ]
                }
            ],
            "source": [
                "cliquetCall.print_payments()"
            ]
        },
        {
            "cell_type": "markdown",
            "metadata": {},
            "source": [
                "Copyright (c) 2020 Dominic O'Kane"
            ]
        }
    ],
    "metadata": {
        "kernelspec": {
            "display_name": "Python 3",
            "language": "python",
            "name": "python3"
        },
        "language_info": {
            "codemirror_mode": {
                "name": "ipython",
                "version": 3
            },
            "file_extension": ".py",
            "mimetype": "text/x-python",
            "name": "python",
            "nbconvert_exporter": "python",
            "pygments_lexer": "ipython3",
            "version": "3.11.5"
        }
    },
    "nbformat": 4,
    "nbformat_minor": 2
}