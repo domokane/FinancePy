{
 "cells": [
  {
   "cell_type": "markdown",
   "metadata": {},
   "source": [
    "# EQUITY CLIQUET OPTION"
   ]
  },
  {
   "cell_type": "markdown",
   "metadata": {},
   "source": [
    "Valuation and Risk of Equity Cliquet Options"
   ]
  },
  {
   "cell_type": "code",
   "execution_count": 1,
   "metadata": {
    "execution": {
     "iopub.execute_input": "2025-09-14T22:22:39.206134Z",
     "iopub.status.busy": "2025-09-14T22:22:39.205807Z",
     "iopub.status.idle": "2025-09-14T22:22:39.428265Z",
     "shell.execute_reply": "2025-09-14T22:22:39.427894Z"
    }
   },
   "outputs": [],
   "source": [
    "import numpy as np\n",
    "import matplotlib.pyplot as plt"
   ]
  },
  {
   "cell_type": "code",
   "execution_count": 2,
   "metadata": {
    "execution": {
     "iopub.execute_input": "2025-09-14T22:22:39.429889Z",
     "iopub.status.busy": "2025-09-14T22:22:39.429707Z",
     "iopub.status.idle": "2025-09-14T22:22:41.390429Z",
     "shell.execute_reply": "2025-09-14T22:22:41.390093Z"
    }
   },
   "outputs": [],
   "source": [
    "from financepy.utils import *\n",
    "from financepy.market.curves import *\n",
    "from financepy.products.equity import *"
   ]
  },
  {
   "cell_type": "markdown",
   "metadata": {},
   "source": [
    "# Cliquet Option"
   ]
  },
  {
   "cell_type": "markdown",
   "metadata": {},
   "source": [
    "I create a cliquet option"
   ]
  },
  {
   "cell_type": "code",
   "execution_count": 3,
   "metadata": {
    "execution": {
     "iopub.execute_input": "2025-09-14T22:22:41.392113Z",
     "iopub.status.busy": "2025-09-14T22:22:41.391906Z",
     "iopub.status.idle": "2025-09-14T22:22:41.408505Z",
     "shell.execute_reply": "2025-09-14T22:22:41.408166Z"
    }
   },
   "outputs": [],
   "source": [
    "start_dt = Date(1,1, 2020)"
   ]
  },
  {
   "cell_type": "code",
   "execution_count": 4,
   "metadata": {
    "execution": {
     "iopub.execute_input": "2025-09-14T22:22:41.409865Z",
     "iopub.status.busy": "2025-09-14T22:22:41.409739Z",
     "iopub.status.idle": "2025-09-14T22:22:41.411786Z",
     "shell.execute_reply": "2025-09-14T22:22:41.411538Z"
    }
   },
   "outputs": [],
   "source": [
    "expiry_dt = Date(1, 1, 2025)"
   ]
  },
  {
   "cell_type": "code",
   "execution_count": 5,
   "metadata": {
    "execution": {
     "iopub.execute_input": "2025-09-14T22:22:41.412871Z",
     "iopub.status.busy": "2025-09-14T22:22:41.412743Z",
     "iopub.status.idle": "2025-09-14T22:22:41.414680Z",
     "shell.execute_reply": "2025-09-14T22:22:41.414406Z"
    }
   },
   "outputs": [],
   "source": [
    "opt_typeCall = OptionTypes.EUROPEAN_CALL"
   ]
  },
  {
   "cell_type": "code",
   "execution_count": 6,
   "metadata": {
    "execution": {
     "iopub.execute_input": "2025-09-14T22:22:41.415732Z",
     "iopub.status.busy": "2025-09-14T22:22:41.415617Z",
     "iopub.status.idle": "2025-09-14T22:22:41.417690Z",
     "shell.execute_reply": "2025-09-14T22:22:41.417412Z"
    }
   },
   "outputs": [],
   "source": [
    "freq_type = FrequencyTypes.ANNUAL"
   ]
  },
  {
   "cell_type": "code",
   "execution_count": 7,
   "metadata": {
    "execution": {
     "iopub.execute_input": "2025-09-14T22:22:41.418683Z",
     "iopub.status.busy": "2025-09-14T22:22:41.418572Z",
     "iopub.status.idle": "2025-09-14T22:22:41.427255Z",
     "shell.execute_reply": "2025-09-14T22:22:41.426939Z"
    }
   },
   "outputs": [],
   "source": [
    "cliquetCall = EquityCliquetOption(start_dt, expiry_dt, opt_typeCall, freq_type)"
   ]
  },
  {
   "cell_type": "code",
   "execution_count": 8,
   "metadata": {
    "execution": {
     "iopub.execute_input": "2025-09-14T22:22:41.428343Z",
     "iopub.status.busy": "2025-09-14T22:22:41.428183Z",
     "iopub.status.idle": "2025-09-14T22:22:41.431309Z",
     "shell.execute_reply": "2025-09-14T22:22:41.431050Z"
    }
   },
   "outputs": [
    {
     "name": "stdout",
     "output_type": "stream",
     "text": [
      "OBJECT TYPE: EquityCliquetOption\n",
      "START DATE: 01-JAN-2020\n",
      "FINAL EXPIRY DATE: 01-JAN-2025\n",
      "OPTION TYPE: OptionTypes.EUROPEAN_CALL\n",
      "FREQUENCY TYPE: FrequencyTypes.ANNUAL\n",
      "DAY COUNT TYPE: DayCountTypes.THIRTY_E_360\n",
      "CALENDAR TYPE: CalendarTypes.WEEKEND\n",
      "BUS DAY ADJUST TYPE: BusDayAdjustTypes.FOLLOWING\n",
      "DATE GEN RULE TYPE: DateGenRuleTypes.BACKWARD\n"
     ]
    }
   ],
   "source": [
    "print(cliquetCall)"
   ]
  },
  {
   "cell_type": "markdown",
   "metadata": {},
   "source": [
    "## Valuation"
   ]
  },
  {
   "cell_type": "code",
   "execution_count": 9,
   "metadata": {
    "execution": {
     "iopub.execute_input": "2025-09-14T22:22:41.432312Z",
     "iopub.status.busy": "2025-09-14T22:22:41.432196Z",
     "iopub.status.idle": "2025-09-14T22:22:41.434157Z",
     "shell.execute_reply": "2025-09-14T22:22:41.433906Z"
    }
   },
   "outputs": [],
   "source": [
    "value_dt = Date(1, 1, 2020)"
   ]
  },
  {
   "cell_type": "code",
   "execution_count": 10,
   "metadata": {
    "execution": {
     "iopub.execute_input": "2025-09-14T22:22:41.435136Z",
     "iopub.status.busy": "2025-09-14T22:22:41.435027Z",
     "iopub.status.idle": "2025-09-14T22:22:41.437165Z",
     "shell.execute_reply": "2025-09-14T22:22:41.436913Z"
    }
   },
   "outputs": [],
   "source": [
    "interest_rate = 0.10"
   ]
  },
  {
   "cell_type": "code",
   "execution_count": 11,
   "metadata": {
    "execution": {
     "iopub.execute_input": "2025-09-14T22:22:41.438146Z",
     "iopub.status.busy": "2025-09-14T22:22:41.438036Z",
     "iopub.status.idle": "2025-09-14T22:22:41.440294Z",
     "shell.execute_reply": "2025-09-14T22:22:41.440022Z"
    }
   },
   "outputs": [],
   "source": [
    "discount_curve = DiscountCurveFlat(value_dt, interest_rate)"
   ]
  },
  {
   "cell_type": "code",
   "execution_count": 12,
   "metadata": {
    "execution": {
     "iopub.execute_input": "2025-09-14T22:22:41.441305Z",
     "iopub.status.busy": "2025-09-14T22:22:41.441198Z",
     "iopub.status.idle": "2025-09-14T22:22:41.443570Z",
     "shell.execute_reply": "2025-09-14T22:22:41.443043Z"
    }
   },
   "outputs": [],
   "source": [
    "dividend_yield = 0.0"
   ]
  },
  {
   "cell_type": "code",
   "execution_count": 13,
   "metadata": {
    "execution": {
     "iopub.execute_input": "2025-09-14T22:22:41.444593Z",
     "iopub.status.busy": "2025-09-14T22:22:41.444487Z",
     "iopub.status.idle": "2025-09-14T22:22:41.446757Z",
     "shell.execute_reply": "2025-09-14T22:22:41.446483Z"
    }
   },
   "outputs": [],
   "source": [
    "dividend_curve = DiscountCurveFlat(value_dt, dividend_yield)"
   ]
  },
  {
   "cell_type": "code",
   "execution_count": 14,
   "metadata": {
    "execution": {
     "iopub.execute_input": "2025-09-14T22:22:41.447714Z",
     "iopub.status.busy": "2025-09-14T22:22:41.447605Z",
     "iopub.status.idle": "2025-09-14T22:22:41.449406Z",
     "shell.execute_reply": "2025-09-14T22:22:41.449171Z"
    }
   },
   "outputs": [],
   "source": [
    "volatility = 0.10"
   ]
  },
  {
   "cell_type": "code",
   "execution_count": 15,
   "metadata": {
    "execution": {
     "iopub.execute_input": "2025-09-14T22:22:41.450356Z",
     "iopub.status.busy": "2025-09-14T22:22:41.450252Z",
     "iopub.status.idle": "2025-09-14T22:22:41.452480Z",
     "shell.execute_reply": "2025-09-14T22:22:41.452173Z"
    }
   },
   "outputs": [],
   "source": [
    "model = BlackScholes(volatility)"
   ]
  },
  {
   "cell_type": "code",
   "execution_count": 16,
   "metadata": {
    "execution": {
     "iopub.execute_input": "2025-09-14T22:22:41.453439Z",
     "iopub.status.busy": "2025-09-14T22:22:41.453330Z",
     "iopub.status.idle": "2025-09-14T22:22:41.455573Z",
     "shell.execute_reply": "2025-09-14T22:22:41.455289Z"
    }
   },
   "outputs": [],
   "source": [
    "stock_prices = np.linspace(50, 150, 20)"
   ]
  },
  {
   "cell_type": "code",
   "execution_count": 17,
   "metadata": {
    "execution": {
     "iopub.execute_input": "2025-09-14T22:22:41.456520Z",
     "iopub.status.busy": "2025-09-14T22:22:41.456414Z",
     "iopub.status.idle": "2025-09-14T22:22:41.460020Z",
     "shell.execute_reply": "2025-09-14T22:22:41.459378Z"
    }
   },
   "outputs": [],
   "source": [
    "values = []\n",
    "\n",
    "for stock_price in stock_prices:\n",
    "    stock_min_max = stock_price\n",
    "    v = cliquetCall.value(value_dt, stock_price, discount_curve, dividend_curve, model)\n",
    "    values.append(v)"
   ]
  },
  {
   "cell_type": "code",
   "execution_count": 18,
   "metadata": {
    "execution": {
     "iopub.execute_input": "2025-09-14T22:22:41.461124Z",
     "iopub.status.busy": "2025-09-14T22:22:41.461015Z",
     "iopub.status.idle": "2025-09-14T22:22:41.510843Z",
     "shell.execute_reply": "2025-09-14T22:22:41.510382Z"
    }
   },
   "outputs": [
    {
     "data": {
      "image/png": "[encoded data removed]",
      "text/plain": [
       "<Figure size 640x480 with 1 Axes>"
      ]
     },
     "metadata": {},
     "output_type": "display_data"
    }
   ],
   "source": [
    "plt.plot(stock_prices, values)\n",
    "plt.xlabel(\"Stock Price\")\n",
    "plt.ylabel(\"Value\");"
   ]
  },
  {
   "cell_type": "code",
   "execution_count": 19,
   "metadata": {
    "execution": {
     "iopub.execute_input": "2025-09-14T22:22:41.512189Z",
     "iopub.status.busy": "2025-09-14T22:22:41.512056Z",
     "iopub.status.idle": "2025-09-14T22:22:41.514514Z",
     "shell.execute_reply": "2025-09-14T22:22:41.514242Z"
    }
   },
   "outputs": [
    {
     "name": "stdout",
     "output_type": "stream",
     "text": [
      "01-JAN-2021 0.9048374180359595 0.1\n",
      "03-JAN-2022 0.818282256374285 0.1\n",
      "02-JAN-2023 0.7406152845863752 0.1\n",
      "01-JAN-2024 0.6703200460356393 0.1\n",
      "01-JAN-2025 0.6065306597126334 0.1\n"
     ]
    }
   ],
   "source": [
    "cliquetCall.print_payments()"
   ]
  },
  {
   "cell_type": "markdown",
   "metadata": {},
   "source": [
    "Copyright (c) 2020 Dominic O'Kane"
   ]
  }
 ],
 "metadata": {
  "kernelspec": {
   "display_name": "base",
   "language": "python",
   "name": "python3"
  },
  "language_info": {
   "codemirror_mode": {
    "name": "ipython",
    "version": 3
   },
   "file_extension": ".py",
   "mimetype": "text/x-python",
   "name": "python",
   "nbconvert_exporter": "python",
   "pygments_lexer": "ipython3",
   "version": "3.13.7"
  }
 },
 "nbformat": 4,
 "nbformat_minor": 2
}
