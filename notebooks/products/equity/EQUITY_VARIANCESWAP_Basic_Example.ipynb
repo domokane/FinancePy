{
    "cells": [
        {
            "cell_type": "markdown",
            "metadata": {},
            "source": [
                "# EQUITY VARIANCE SWAP - VALUATION AND RISK ANALYSIS"
            ]
        },
        {
            "cell_type": "markdown",
            "metadata": {},
            "source": [
                "Valuation and Risk of a Variance Swap."
            ]
        },
        {
            "cell_type": "code",
            "execution_count": 1,
            "metadata": {
                "execution": {
                    "iopub.execute_input": "2024-04-30T20:07:19.895497Z",
                    "iopub.status.busy": "2024-04-30T20:07:19.893494Z",
                    "iopub.status.idle": "2024-04-30T20:07:20.599854Z",
                    "shell.execute_reply": "2024-04-30T20:07:20.599854Z"
                }
            },
            "outputs": [],
            "source": [
                "import numpy as np\n",
                "import matplotlib.pyplot as plt"
            ]
        },
        {
            "cell_type": "code",
            "execution_count": 2,
            "metadata": {
                "execution": {
                    "iopub.execute_input": "2024-04-30T20:07:20.602366Z",
                    "iopub.status.busy": "2024-04-30T20:07:20.602366Z",
                    "iopub.status.idle": "2024-04-30T20:07:31.829518Z",
                    "shell.execute_reply": "2024-04-30T20:07:31.829235Z"
                }
            },
            "outputs": [
                {
                    "name": "stdout",
                    "output_type": "stream",
                    "text": [
                        "####################################################################\n",
                        "#  FINANCEPY BETA Version 0.350 - This build: 30 Apr 2024 at 21:20 #\n",
                        "#     This software is distributed FREE AND WITHOUT ANY WARRANTY   #\n",
                        "#  Report bugs as issues at https://github.com/domokane/FinancePy  #\n",
                        "####################################################################\n",
                        "\n"
                    ]
                }
            ],
            "source": [
                "from financepy.utils import *\n",
                "from financepy.market.curves import *\n",
                "from financepy.products.equity import *\n",
                "from financepy.market.volatility import *"
            ]
        },
        {
            "cell_type": "markdown",
            "metadata": {},
            "source": [
                "# Variance Swap"
            ]
        },
        {
            "cell_type": "markdown",
            "metadata": {},
            "source": [
                "All the assets in the basket have the same characteristicsm"
            ]
        },
        {
            "cell_type": "code",
            "execution_count": 3,
            "metadata": {
                "execution": {
                    "iopub.execute_input": "2024-04-30T20:07:31.832020Z",
                    "iopub.status.busy": "2024-04-30T20:07:31.832020Z",
                    "iopub.status.idle": "2024-04-30T20:07:31.851554Z",
                    "shell.execute_reply": "2024-04-30T20:07:31.851554Z"
                }
            },
            "outputs": [],
            "source": [
                "start_dt = Date(20, 3, 2018)\n",
                "tenor = \"3M\"\n",
                "strike = 0.3*0.3"
            ]
        },
        {
            "cell_type": "code",
            "execution_count": 4,
            "metadata": {
                "execution": {
                    "iopub.execute_input": "2024-04-30T20:07:31.854065Z",
                    "iopub.status.busy": "2024-04-30T20:07:31.854065Z",
                    "iopub.status.idle": "2024-04-30T20:07:31.856910Z",
                    "shell.execute_reply": "2024-04-30T20:07:31.856910Z"
                }
            },
            "outputs": [
                {
                    "name": "stdout",
                    "output_type": "stream",
                    "text": [
                        "Strike Variance: 0.09\n"
                    ]
                }
            ],
            "source": [
                "print(\"Strike Variance:\", strike)"
            ]
        },
        {
            "cell_type": "markdown",
            "metadata": {},
            "source": [
                "The strike of the variance swap is at 9%"
            ]
        },
        {
            "cell_type": "code",
            "execution_count": 5,
            "metadata": {
                "execution": {
                    "iopub.execute_input": "2024-04-30T20:07:31.858924Z",
                    "iopub.status.busy": "2024-04-30T20:07:31.858924Z",
                    "iopub.status.idle": "2024-04-30T20:07:31.862591Z",
                    "shell.execute_reply": "2024-04-30T20:07:31.862348Z"
                }
            },
            "outputs": [],
            "source": [
                "vol_swap = EquityVarianceSwap(start_dt, tenor, strike)"
            ]
        },
        {
            "cell_type": "markdown",
            "metadata": {},
            "source": [
                "## Valuation"
            ]
        },
        {
            "cell_type": "code",
            "execution_count": 6,
            "metadata": {
                "execution": {
                    "iopub.execute_input": "2024-04-30T20:07:31.865127Z",
                    "iopub.status.busy": "2024-04-30T20:07:31.864590Z",
                    "iopub.status.idle": "2024-04-30T20:07:31.867365Z",
                    "shell.execute_reply": "2024-04-30T20:07:31.867365Z"
                }
            },
            "outputs": [],
            "source": [
                "value_dt = Date(20, 3, 2018)"
            ]
        },
        {
            "cell_type": "code",
            "execution_count": 7,
            "metadata": {
                "execution": {
                    "iopub.execute_input": "2024-04-30T20:07:31.869367Z",
                    "iopub.status.busy": "2024-04-30T20:07:31.869367Z",
                    "iopub.status.idle": "2024-04-30T20:07:31.878273Z",
                    "shell.execute_reply": "2024-04-30T20:07:31.878273Z"
                }
            },
            "outputs": [],
            "source": [
                "r = 0.05\n",
                "discount_curve = DiscountCurveFlat(value_dt, r)"
            ]
        },
        {
            "cell_type": "code",
            "execution_count": 8,
            "metadata": {
                "execution": {
                    "iopub.execute_input": "2024-04-30T20:07:31.880292Z",
                    "iopub.status.busy": "2024-04-30T20:07:31.880292Z",
                    "iopub.status.idle": "2024-04-30T20:07:31.883478Z",
                    "shell.execute_reply": "2024-04-30T20:07:31.883478Z"
                }
            },
            "outputs": [],
            "source": [
                "stock_price = 100.0\n",
                "dividend_yield = 0.0\n",
                "maturity_dt = start_dt.add_months(3)"
            ]
        },
        {
            "cell_type": "code",
            "execution_count": 9,
            "metadata": {
                "execution": {
                    "iopub.execute_input": "2024-04-30T20:07:31.886072Z",
                    "iopub.status.busy": "2024-04-30T20:07:31.886072Z",
                    "iopub.status.idle": "2024-04-30T20:07:31.888498Z",
                    "shell.execute_reply": "2024-04-30T20:07:31.888498Z"
                }
            },
            "outputs": [],
            "source": [
                "def vol_skew(K, atm_vol, atmK, skew):\n",
                "    v = atm_vol + skew * (K-atmK)\n",
                "    return v"
            ]
        },
        {
            "cell_type": "markdown",
            "metadata": {},
            "source": [
                "We now define the volatility curve"
            ]
        },
        {
            "cell_type": "code",
            "execution_count": 10,
            "metadata": {
                "execution": {
                    "iopub.execute_input": "2024-04-30T20:07:31.891497Z",
                    "iopub.status.busy": "2024-04-30T20:07:31.890529Z",
                    "iopub.status.idle": "2024-04-30T20:07:31.902063Z",
                    "shell.execute_reply": "2024-04-30T20:07:31.901558Z"
                }
            },
            "outputs": [],
            "source": [
                "atm_vol = 0.20\n",
                "atmK = 100.0\n",
                "skew = 0\n",
                "strikes = np.linspace(50.0, 135.0, 18)\n",
                "vols = vol_skew(strikes, atm_vol, atmK, skew)\n",
                "vol_curve = EquityVolCurve(value_dt, maturity_dt, strikes, vols)"
            ]
        },
        {
            "cell_type": "code",
            "execution_count": 11,
            "metadata": {
                "execution": {
                    "iopub.execute_input": "2024-04-30T20:07:31.904090Z",
                    "iopub.status.busy": "2024-04-30T20:07:31.904090Z",
                    "iopub.status.idle": "2024-04-30T20:07:32.064912Z",
                    "shell.execute_reply": "2024-04-30T20:07:32.064403Z"
                }
            },
            "outputs": [
                {
                    "data": {
                        "text/plain": [
                            "Text(0, 0.5, 'Volatility')"
                        ]
                    },
                    "execution_count": 11,
                    "metadata": {},
                    "output_type": "execute_result"
                },
                {
                    "data": {
                        "image/png": "[encoded data removed]",
                        "text/plain": [
                            "<Figure size 640x480 with 1 Axes>"
                        ]
                    },
                    "metadata": {},
                    "output_type": "display_data"
                }
            ],
            "source": [
                "plt.plot(strikes, vols)\n",
                "plt.xlabel(\"Strike\")\n",
                "plt.ylabel(\"Volatility\")"
            ]
        },
        {
            "cell_type": "code",
            "execution_count": 12,
            "metadata": {
                "execution": {
                    "iopub.execute_input": "2024-04-30T20:07:32.066909Z",
                    "iopub.status.busy": "2024-04-30T20:07:32.066909Z",
                    "iopub.status.idle": "2024-04-30T20:07:32.069908Z",
                    "shell.execute_reply": "2024-04-30T20:07:32.069673Z"
                }
            },
            "outputs": [],
            "source": [
                "strike_spacing = 5.0\n",
                "num_call_options = 10\n",
                "num_put_options = 10"
            ]
        },
        {
            "cell_type": "code",
            "execution_count": 13,
            "metadata": {
                "execution": {
                    "iopub.execute_input": "2024-04-30T20:07:32.072443Z",
                    "iopub.status.busy": "2024-04-30T20:07:32.070936Z",
                    "iopub.status.idle": "2024-04-30T20:07:32.075584Z",
                    "shell.execute_reply": "2024-04-30T20:07:32.075584Z"
                }
            },
            "outputs": [],
            "source": [
                "dividend_curve = DiscountCurveFlat(value_dt, dividend_yield)"
            ]
        },
        {
            "cell_type": "code",
            "execution_count": 14,
            "metadata": {
                "execution": {
                    "iopub.execute_input": "2024-04-30T20:07:32.078601Z",
                    "iopub.status.busy": "2024-04-30T20:07:32.078601Z",
                    "iopub.status.idle": "2024-04-30T20:07:32.085089Z",
                    "shell.execute_reply": "2024-04-30T20:07:32.084846Z"
                }
            },
            "outputs": [
                {
                    "name": "stdout",
                    "output_type": "stream",
                    "text": [
                        "Fair strike: 0.04166196416682492\n"
                    ]
                }
            ],
            "source": [
                "k1 = vol_swap.fair_strike(value_dt, stock_price, dividend_curve,\n",
                "                        vol_curve, num_call_options, num_put_options,\n",
                "                        strike_spacing, discount_curve, False)\n",
                "print(\"Fair strike:\", k1)"
            ]
        },
        {
            "cell_type": "code",
            "execution_count": 15,
            "metadata": {
                "execution": {
                    "iopub.execute_input": "2024-04-30T20:07:32.087087Z",
                    "iopub.status.busy": "2024-04-30T20:07:32.087087Z",
                    "iopub.status.idle": "2024-04-30T20:07:32.090202Z",
                    "shell.execute_reply": "2024-04-30T20:07:32.090202Z"
                }
            },
            "outputs": [
                {
                    "name": "stdout",
                    "output_type": "stream",
                    "text": [
                        "DERMAN SKEW APPROX for K: 0.04000000000000001\n"
                    ]
                }
            ],
            "source": [
                "k2 = vol_swap.fair_strike_approx(value_dt, stock_price, strikes, vols)\n",
                "print(\"DERMAN SKEW APPROX for K:\", k2)"
            ]
        },
        {
            "cell_type": "code",
            "execution_count": 16,
            "metadata": {
                "execution": {
                    "iopub.execute_input": "2024-04-30T20:07:32.092822Z",
                    "iopub.status.busy": "2024-04-30T20:07:32.092822Z",
                    "iopub.status.idle": "2024-04-30T20:07:32.095519Z",
                    "shell.execute_reply": "2024-04-30T20:07:32.095519Z"
                }
            },
            "outputs": [
                {
                    "name": "stdout",
                    "output_type": "stream",
                    "text": [
                        "TYPE STRIKE WEIGHT\n",
                        "PUT   55.00  13169.839\n",
                        "PUT   60.00  11058.975\n",
                        "PUT   65.00   9418.167\n",
                        "PUT   70.00   8117.442\n",
                        "PUT   75.00   7068.860\n",
                        "PUT   80.00   6211.188\n",
                        "PUT   85.00   5500.721\n",
                        "PUT   90.00   4905.588\n",
                        "PUT   95.00   4402.101\n",
                        "PUT  100.00   2052.402\n",
                        "CALL  100.00   1919.957\n",
                        "CALL  105.00   3602.627\n",
                        "CALL  110.00   3282.228\n",
                        "CALL  115.00   3002.757\n",
                        "CALL  120.00   2757.527\n",
                        "CALL  125.00   2541.164\n",
                        "CALL  130.00   2349.307\n",
                        "CALL  135.00   2178.390\n",
                        "CALL  140.00   2025.471\n",
                        "CALL  145.00   1888.110\n"
                    ]
                }
            ],
            "source": [
                "vol_swap.print_weights()"
            ]
        },
        {
            "cell_type": "markdown",
            "metadata": {},
            "source": [
                "Copyright (c) 2020 Dominic O'Kane"
            ]
        }
    ],
    "metadata": {
        "kernelspec": {
            "display_name": "Python 3",
            "language": "python",
            "name": "python3"
        },
        "language_info": {
            "codemirror_mode": {
                "name": "ipython",
                "version": 3
            },
            "file_extension": ".py",
            "mimetype": "text/x-python",
            "name": "python",
            "nbconvert_exporter": "python",
            "pygments_lexer": "ipython3",
            "version": "3.11.5"
        }
    },
    "nbformat": 4,
    "nbformat_minor": 2
}