{
 "cells": [
  {
   "cell_type": "markdown",
   "metadata": {},
   "source": [
    "# EQUITY VARIANCE SWAP - VALUATION AND RISK ANALYSIS"
   ]
  },
  {
   "cell_type": "markdown",
   "metadata": {},
   "source": [
    "Valuation and Risk of a Variance Swap."
   ]
  },
  {
   "cell_type": "code",
   "execution_count": 1,
   "metadata": {
    "execution": {
     "iopub.execute_input": "2025-09-14T22:23:56.319677Z",
     "iopub.status.busy": "2025-09-14T22:23:56.319474Z",
     "iopub.status.idle": "2025-09-14T22:23:56.549418Z",
     "shell.execute_reply": "2025-09-14T22:23:56.548920Z"
    }
   },
   "outputs": [],
   "source": [
    "import numpy as np\n",
    "import matplotlib.pyplot as plt"
   ]
  },
  {
   "cell_type": "code",
   "execution_count": 2,
   "metadata": {
    "execution": {
     "iopub.execute_input": "2025-09-14T22:23:56.551365Z",
     "iopub.status.busy": "2025-09-14T22:23:56.551169Z",
     "iopub.status.idle": "2025-09-14T22:23:59.772033Z",
     "shell.execute_reply": "2025-09-14T22:23:59.771274Z"
    }
   },
   "outputs": [],
   "source": [
    "from financepy.utils import *\n",
    "from financepy.market.curves import *\n",
    "from financepy.products.equity import *\n",
    "from financepy.market.volatility import *"
   ]
  },
  {
   "cell_type": "markdown",
   "metadata": {},
   "source": [
    "# Variance Swap"
   ]
  },
  {
   "cell_type": "markdown",
   "metadata": {},
   "source": [
    "All the assets in the basket have the same characteristicsm"
   ]
  },
  {
   "cell_type": "code",
   "execution_count": 3,
   "metadata": {
    "execution": {
     "iopub.execute_input": "2025-09-14T22:23:59.774465Z",
     "iopub.status.busy": "2025-09-14T22:23:59.774214Z",
     "iopub.status.idle": "2025-09-14T22:23:59.791560Z",
     "shell.execute_reply": "2025-09-14T22:23:59.791157Z"
    }
   },
   "outputs": [],
   "source": [
    "start_dt = Date(20, 3, 2018)\n",
    "tenor = \"3M\"\n",
    "strike = 0.3*0.3"
   ]
  },
  {
   "cell_type": "code",
   "execution_count": 4,
   "metadata": {
    "execution": {
     "iopub.execute_input": "2025-09-14T22:23:59.792897Z",
     "iopub.status.busy": "2025-09-14T22:23:59.792757Z",
     "iopub.status.idle": "2025-09-14T22:23:59.796561Z",
     "shell.execute_reply": "2025-09-14T22:23:59.796091Z"
    }
   },
   "outputs": [
    {
     "name": "stdout",
     "output_type": "stream",
     "text": [
      "Strike Variance: 0.09\n"
     ]
    }
   ],
   "source": [
    "print(\"Strike Variance:\", strike)"
   ]
  },
  {
   "cell_type": "markdown",
   "metadata": {},
   "source": [
    "The strike of the variance swap is at 9%"
   ]
  },
  {
   "cell_type": "code",
   "execution_count": 5,
   "metadata": {
    "execution": {
     "iopub.execute_input": "2025-09-14T22:23:59.797953Z",
     "iopub.status.busy": "2025-09-14T22:23:59.797826Z",
     "iopub.status.idle": "2025-09-14T22:23:59.800391Z",
     "shell.execute_reply": "2025-09-14T22:23:59.800087Z"
    }
   },
   "outputs": [],
   "source": [
    "vol_swap = EquityVarianceSwap(start_dt, tenor, strike)"
   ]
  },
  {
   "cell_type": "markdown",
   "metadata": {},
   "source": [
    "## Valuation"
   ]
  },
  {
   "cell_type": "code",
   "execution_count": 6,
   "metadata": {
    "execution": {
     "iopub.execute_input": "2025-09-14T22:23:59.801352Z",
     "iopub.status.busy": "2025-09-14T22:23:59.801236Z",
     "iopub.status.idle": "2025-09-14T22:23:59.803375Z",
     "shell.execute_reply": "2025-09-14T22:23:59.803093Z"
    }
   },
   "outputs": [],
   "source": [
    "value_dt = Date(20, 3, 2018)"
   ]
  },
  {
   "cell_type": "code",
   "execution_count": 7,
   "metadata": {
    "execution": {
     "iopub.execute_input": "2025-09-14T22:23:59.804250Z",
     "iopub.status.busy": "2025-09-14T22:23:59.804122Z",
     "iopub.status.idle": "2025-09-14T22:23:59.814006Z",
     "shell.execute_reply": "2025-09-14T22:23:59.813556Z"
    }
   },
   "outputs": [],
   "source": [
    "r = 0.05\n",
    "discount_curve = DiscountCurveFlat(value_dt, r)"
   ]
  },
  {
   "cell_type": "code",
   "execution_count": 8,
   "metadata": {
    "execution": {
     "iopub.execute_input": "2025-09-14T22:23:59.815174Z",
     "iopub.status.busy": "2025-09-14T22:23:59.815048Z",
     "iopub.status.idle": "2025-09-14T22:23:59.817093Z",
     "shell.execute_reply": "2025-09-14T22:23:59.816818Z"
    }
   },
   "outputs": [],
   "source": [
    "stock_price = 100.0\n",
    "dividend_yield = 0.0\n",
    "maturity_dt = start_dt.add_months(3)"
   ]
  },
  {
   "cell_type": "code",
   "execution_count": 9,
   "metadata": {
    "execution": {
     "iopub.execute_input": "2025-09-14T22:23:59.818076Z",
     "iopub.status.busy": "2025-09-14T22:23:59.817932Z",
     "iopub.status.idle": "2025-09-14T22:23:59.820091Z",
     "shell.execute_reply": "2025-09-14T22:23:59.819682Z"
    }
   },
   "outputs": [],
   "source": [
    "def vol_skew(K, atm_vol, atmK, skew):\n",
    "    v = atm_vol + skew * (K-atmK)\n",
    "    return v"
   ]
  },
  {
   "cell_type": "markdown",
   "metadata": {},
   "source": [
    "We now define the volatility curve"
   ]
  },
  {
   "cell_type": "code",
   "execution_count": 10,
   "metadata": {
    "execution": {
     "iopub.execute_input": "2025-09-14T22:23:59.822179Z",
     "iopub.status.busy": "2025-09-14T22:23:59.821728Z",
     "iopub.status.idle": "2025-09-14T22:23:59.824996Z",
     "shell.execute_reply": "2025-09-14T22:23:59.824542Z"
    }
   },
   "outputs": [],
   "source": [
    "atm_vol = 0.20\n",
    "atmK = 100.0\n",
    "skew = 0\n",
    "strikes = np.linspace(50.0, 135.0, 18)\n",
    "vols = vol_skew(strikes, atm_vol, atmK, skew)\n",
    "vol_curve = EquityVolCurve(value_dt, maturity_dt, strikes, vols)"
   ]
  },
  {
   "cell_type": "code",
   "execution_count": 11,
   "metadata": {
    "execution": {
     "iopub.execute_input": "2025-09-14T22:23:59.826044Z",
     "iopub.status.busy": "2025-09-14T22:23:59.825913Z",
     "iopub.status.idle": "2025-09-14T22:23:59.891706Z",
     "shell.execute_reply": "2025-09-14T22:23:59.890968Z"
    }
   },
   "outputs": [
    {
     "data": {
      "text/plain": [
       "Text(0, 0.5, 'Volatility')"
      ]
     },
     "execution_count": 11,
     "metadata": {},
     "output_type": "execute_result"
    },
    {
     "data": {
      "image/png": "[encoded data removed]",
      "text/plain": [
       "<Figure size 640x480 with 1 Axes>"
      ]
     },
     "metadata": {},
     "output_type": "display_data"
    }
   ],
   "source": [
    "plt.plot(strikes, vols)\n",
    "plt.xlabel(\"Strike\")\n",
    "plt.ylabel(\"Volatility\")"
   ]
  },
  {
   "cell_type": "code",
   "execution_count": 12,
   "metadata": {
    "execution": {
     "iopub.execute_input": "2025-09-14T22:23:59.893556Z",
     "iopub.status.busy": "2025-09-14T22:23:59.893402Z",
     "iopub.status.idle": "2025-09-14T22:23:59.896266Z",
     "shell.execute_reply": "2025-09-14T22:23:59.895844Z"
    }
   },
   "outputs": [],
   "source": [
    "strike_spacing = 5.0\n",
    "num_call_options = 10\n",
    "num_put_options = 10"
   ]
  },
  {
   "cell_type": "code",
   "execution_count": 13,
   "metadata": {
    "execution": {
     "iopub.execute_input": "2025-09-14T22:23:59.897392Z",
     "iopub.status.busy": "2025-09-14T22:23:59.897267Z",
     "iopub.status.idle": "2025-09-14T22:23:59.900208Z",
     "shell.execute_reply": "2025-09-14T22:23:59.899847Z"
    }
   },
   "outputs": [],
   "source": [
    "dividend_curve = DiscountCurveFlat(value_dt, dividend_yield)"
   ]
  },
  {
   "cell_type": "code",
   "execution_count": 14,
   "metadata": {
    "execution": {
     "iopub.execute_input": "2025-09-14T22:23:59.901591Z",
     "iopub.status.busy": "2025-09-14T22:23:59.901451Z",
     "iopub.status.idle": "2025-09-14T22:23:59.904675Z",
     "shell.execute_reply": "2025-09-14T22:23:59.904379Z"
    }
   },
   "outputs": [
    {
     "name": "stdout",
     "output_type": "stream",
     "text": [
      "Fair strike: 0.04166196416682498\n"
     ]
    }
   ],
   "source": [
    "k1 = vol_swap.fair_strike(value_dt, stock_price, dividend_curve,\n",
    "                        vol_curve, num_call_options, num_put_options,\n",
    "                        strike_spacing, discount_curve, False)\n",
    "print(\"Fair strike:\", k1)"
   ]
  },
  {
   "cell_type": "code",
   "execution_count": 15,
   "metadata": {
    "execution": {
     "iopub.execute_input": "2025-09-14T22:23:59.905627Z",
     "iopub.status.busy": "2025-09-14T22:23:59.905511Z",
     "iopub.status.idle": "2025-09-14T22:23:59.907883Z",
     "shell.execute_reply": "2025-09-14T22:23:59.907408Z"
    }
   },
   "outputs": [
    {
     "name": "stdout",
     "output_type": "stream",
     "text": [
      "DERMAN SKEW APPROX for K: 0.04000000000000001\n"
     ]
    }
   ],
   "source": [
    "k2 = vol_swap.fair_strike_approx(value_dt, stock_price, strikes, vols)\n",
    "print(\"DERMAN SKEW APPROX for K:\", k2)"
   ]
  },
  {
   "cell_type": "code",
   "execution_count": 16,
   "metadata": {
    "execution": {
     "iopub.execute_input": "2025-09-14T22:23:59.909225Z",
     "iopub.status.busy": "2025-09-14T22:23:59.909106Z",
     "iopub.status.idle": "2025-09-14T22:23:59.911665Z",
     "shell.execute_reply": "2025-09-14T22:23:59.911316Z"
    }
   },
   "outputs": [
    {
     "name": "stdout",
     "output_type": "stream",
     "text": [
      "TYPE STRIKE WEIGHT\n",
      "PUT   55.00  13169.839\n",
      "PUT   60.00  11058.975\n",
      "PUT   65.00   9418.167\n",
      "PUT   70.00   8117.442\n",
      "PUT   75.00   7068.860\n",
      "PUT   80.00   6211.188\n",
      "PUT   85.00   5500.721\n",
      "PUT   90.00   4905.588\n",
      "PUT   95.00   4402.101\n",
      "PUT  100.00   2052.402\n",
      "CALL  100.00   1919.957\n",
      "CALL  105.00   3602.627\n",
      "CALL  110.00   3282.228\n",
      "CALL  115.00   3002.757\n",
      "CALL  120.00   2757.527\n",
      "CALL  125.00   2541.164\n",
      "CALL  130.00   2349.307\n",
      "CALL  135.00   2178.390\n",
      "CALL  140.00   2025.471\n",
      "CALL  145.00   1888.110\n"
     ]
    }
   ],
   "source": [
    "vol_swap.print_weights()"
   ]
  },
  {
   "cell_type": "markdown",
   "metadata": {},
   "source": [
    "Copyright (c) 2020 Dominic O'Kane"
   ]
  }
 ],
 "metadata": {
  "kernelspec": {
   "display_name": "base",
   "language": "python",
   "name": "python3"
  },
  "language_info": {
   "codemirror_mode": {
    "name": "ipython",
    "version": 3
   },
   "file_extension": ".py",
   "mimetype": "text/x-python",
   "name": "python",
   "nbconvert_exporter": "python",
   "pygments_lexer": "ipython3",
   "version": "3.13.7"
  }
 },
 "nbformat": 4,
 "nbformat_minor": 2
}
