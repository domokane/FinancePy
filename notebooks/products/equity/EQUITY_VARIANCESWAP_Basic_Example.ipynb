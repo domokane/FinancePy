{
 "cells": [
  {
   "cell_type": "markdown",
   "metadata": {},
   "source": [
    "# EQUITY VARIANCE SWAP - VALUATION AND RISK ANALYSIS"
   ]
  },
  {
   "cell_type": "markdown",
   "metadata": {},
   "source": [
    "Valuation and Risk of a Variance Swap."
   ]
  },
  {
   "cell_type": "code",
   "execution_count": 1,
   "metadata": {
    "execution": {
     "iopub.execute_input": "2025-08-27T21:47:35.392873Z",
     "iopub.status.busy": "2025-08-27T21:47:35.392606Z",
     "iopub.status.idle": "2025-08-27T21:47:35.887468Z",
     "shell.execute_reply": "2025-08-27T21:47:35.886826Z"
    }
   },
   "outputs": [],
   "source": [
    "import numpy as np\n",
    "import matplotlib.pyplot as plt"
   ]
  },
  {
   "cell_type": "code",
   "execution_count": 2,
   "metadata": {
    "execution": {
     "iopub.execute_input": "2025-08-27T21:47:35.889796Z",
     "iopub.status.busy": "2025-08-27T21:47:35.889539Z",
     "iopub.status.idle": "2025-08-27T21:47:42.075246Z",
     "shell.execute_reply": "2025-08-27T21:47:42.074773Z"
    }
   },
   "outputs": [
    {
     "name": "stdout",
     "output_type": "stream",
     "text": [
      "####################################################################\n",
      "#    FINANCEPY Version 1.1 - This build: 27 Aug 2025 at 23:27      #\n",
      "#     This software is distributed FREE AND WITHOUT ANY WARRANTY   #\n",
      "#  Report bugs as issues at https://github.com/domokane/FinancePy  #\n",
      "####################################################################\n",
      "\n"
     ]
    }
   ],
   "source": [
    "from financepy.utils import *\n",
    "from financepy.market.curves import *\n",
    "from financepy.products.equity import *\n",
    "from financepy.market.volatility import *"
   ]
  },
  {
   "cell_type": "markdown",
   "metadata": {},
   "source": [
    "# Variance Swap"
   ]
  },
  {
   "cell_type": "markdown",
   "metadata": {},
   "source": [
    "All the assets in the basket have the same characteristicsm"
   ]
  },
  {
   "cell_type": "code",
   "execution_count": 3,
   "metadata": {
    "execution": {
     "iopub.execute_input": "2025-08-27T21:47:42.077587Z",
     "iopub.status.busy": "2025-08-27T21:47:42.077287Z",
     "iopub.status.idle": "2025-08-27T21:47:42.094985Z",
     "shell.execute_reply": "2025-08-27T21:47:42.094477Z"
    }
   },
   "outputs": [],
   "source": [
    "start_dt = Date(20, 3, 2018)\n",
    "tenor = \"3M\"\n",
    "strike = 0.3*0.3"
   ]
  },
  {
   "cell_type": "code",
   "execution_count": 4,
   "metadata": {
    "execution": {
     "iopub.execute_input": "2025-08-27T21:47:42.096908Z",
     "iopub.status.busy": "2025-08-27T21:47:42.096581Z",
     "iopub.status.idle": "2025-08-27T21:47:42.099399Z",
     "shell.execute_reply": "2025-08-27T21:47:42.099041Z"
    }
   },
   "outputs": [
    {
     "name": "stdout",
     "output_type": "stream",
     "text": [
      "Strike Variance: 0.09\n"
     ]
    }
   ],
   "source": [
    "print(\"Strike Variance:\", strike)"
   ]
  },
  {
   "cell_type": "markdown",
   "metadata": {},
   "source": [
    "The strike of the variance swap is at 9%"
   ]
  },
  {
   "cell_type": "code",
   "execution_count": 5,
   "metadata": {
    "execution": {
     "iopub.execute_input": "2025-08-27T21:47:42.101026Z",
     "iopub.status.busy": "2025-08-27T21:47:42.100804Z",
     "iopub.status.idle": "2025-08-27T21:47:42.103268Z",
     "shell.execute_reply": "2025-08-27T21:47:42.102902Z"
    }
   },
   "outputs": [],
   "source": [
    "vol_swap = EquityVarianceSwap(start_dt, tenor, strike)"
   ]
  },
  {
   "cell_type": "markdown",
   "metadata": {},
   "source": [
    "## Valuation"
   ]
  },
  {
   "cell_type": "code",
   "execution_count": 6,
   "metadata": {
    "execution": {
     "iopub.execute_input": "2025-08-27T21:47:42.105118Z",
     "iopub.status.busy": "2025-08-27T21:47:42.104936Z",
     "iopub.status.idle": "2025-08-27T21:47:42.107116Z",
     "shell.execute_reply": "2025-08-27T21:47:42.106718Z"
    }
   },
   "outputs": [],
   "source": [
    "value_dt = Date(20, 3, 2018)"
   ]
  },
  {
   "cell_type": "code",
   "execution_count": 7,
   "metadata": {
    "execution": {
     "iopub.execute_input": "2025-08-27T21:47:42.108522Z",
     "iopub.status.busy": "2025-08-27T21:47:42.108341Z",
     "iopub.status.idle": "2025-08-27T21:47:42.116110Z",
     "shell.execute_reply": "2025-08-27T21:47:42.115760Z"
    }
   },
   "outputs": [],
   "source": [
    "r = 0.05\n",
    "discount_curve = DiscountCurveFlat(value_dt, r)"
   ]
  },
  {
   "cell_type": "code",
   "execution_count": 8,
   "metadata": {
    "execution": {
     "iopub.execute_input": "2025-08-27T21:47:42.118149Z",
     "iopub.status.busy": "2025-08-27T21:47:42.117925Z",
     "iopub.status.idle": "2025-08-27T21:47:42.120340Z",
     "shell.execute_reply": "2025-08-27T21:47:42.119959Z"
    }
   },
   "outputs": [],
   "source": [
    "stock_price = 100.0\n",
    "dividend_yield = 0.0\n",
    "maturity_dt = start_dt.add_months(3)"
   ]
  },
  {
   "cell_type": "code",
   "execution_count": 9,
   "metadata": {
    "execution": {
     "iopub.execute_input": "2025-08-27T21:47:42.122004Z",
     "iopub.status.busy": "2025-08-27T21:47:42.121768Z",
     "iopub.status.idle": "2025-08-27T21:47:42.124013Z",
     "shell.execute_reply": "2025-08-27T21:47:42.123708Z"
    }
   },
   "outputs": [],
   "source": [
    "def vol_skew(K, atm_vol, atmK, skew):\n",
    "    v = atm_vol + skew * (K-atmK)\n",
    "    return v"
   ]
  },
  {
   "cell_type": "markdown",
   "metadata": {},
   "source": [
    "We now define the volatility curve"
   ]
  },
  {
   "cell_type": "code",
   "execution_count": 10,
   "metadata": {
    "execution": {
     "iopub.execute_input": "2025-08-27T21:47:42.125652Z",
     "iopub.status.busy": "2025-08-27T21:47:42.125402Z",
     "iopub.status.idle": "2025-08-27T21:47:42.134472Z",
     "shell.execute_reply": "2025-08-27T21:47:42.133979Z"
    }
   },
   "outputs": [],
   "source": [
    "atm_vol = 0.20\n",
    "atmK = 100.0\n",
    "skew = 0\n",
    "strikes = np.linspace(50.0, 135.0, 18)\n",
    "vols = vol_skew(strikes, atm_vol, atmK, skew)\n",
    "vol_curve = EquityVolCurve(value_dt, maturity_dt, strikes, vols)"
   ]
  },
  {
   "cell_type": "code",
   "execution_count": 11,
   "metadata": {
    "execution": {
     "iopub.execute_input": "2025-08-27T21:47:42.136342Z",
     "iopub.status.busy": "2025-08-27T21:47:42.136151Z",
     "iopub.status.idle": "2025-08-27T21:47:42.238313Z",
     "shell.execute_reply": "2025-08-27T21:47:42.237783Z"
    }
   },
   "outputs": [
    {
     "data": {
      "text/plain": [
       "Text(0, 0.5, 'Volatility')"
      ]
     },
     "execution_count": 11,
     "metadata": {},
     "output_type": "execute_result"
    },
    {
     "data": {
      "image/png": "[encoded data removed]",
      "text/plain": [
       "<Figure size 640x480 with 1 Axes>"
      ]
     },
     "metadata": {},
     "output_type": "display_data"
    }
   ],
   "source": [
    "plt.plot(strikes, vols)\n",
    "plt.xlabel(\"Strike\")\n",
    "plt.ylabel(\"Volatility\")"
   ]
  },
  {
   "cell_type": "code",
   "execution_count": 12,
   "metadata": {
    "execution": {
     "iopub.execute_input": "2025-08-27T21:47:42.240339Z",
     "iopub.status.busy": "2025-08-27T21:47:42.240034Z",
     "iopub.status.idle": "2025-08-27T21:47:42.242671Z",
     "shell.execute_reply": "2025-08-27T21:47:42.242328Z"
    }
   },
   "outputs": [],
   "source": [
    "strike_spacing = 5.0\n",
    "num_call_options = 10\n",
    "num_put_options = 10"
   ]
  },
  {
   "cell_type": "code",
   "execution_count": 13,
   "metadata": {
    "execution": {
     "iopub.execute_input": "2025-08-27T21:47:42.244403Z",
     "iopub.status.busy": "2025-08-27T21:47:42.244208Z",
     "iopub.status.idle": "2025-08-27T21:47:42.247684Z",
     "shell.execute_reply": "2025-08-27T21:47:42.246948Z"
    }
   },
   "outputs": [],
   "source": [
    "dividend_curve = DiscountCurveFlat(value_dt, dividend_yield)"
   ]
  },
  {
   "cell_type": "code",
   "execution_count": 14,
   "metadata": {
    "execution": {
     "iopub.execute_input": "2025-08-27T21:47:42.249672Z",
     "iopub.status.busy": "2025-08-27T21:47:42.249458Z",
     "iopub.status.idle": "2025-08-27T21:47:42.254562Z",
     "shell.execute_reply": "2025-08-27T21:47:42.253907Z"
    }
   },
   "outputs": [
    {
     "name": "stdout",
     "output_type": "stream",
     "text": [
      "Fair strike: 0.041661964166824966\n"
     ]
    }
   ],
   "source": [
    "k1 = vol_swap.fair_strike(value_dt, stock_price, dividend_curve,\n",
    "                        vol_curve, num_call_options, num_put_options,\n",
    "                        strike_spacing, discount_curve, False)\n",
    "print(\"Fair strike:\", k1)"
   ]
  },
  {
   "cell_type": "code",
   "execution_count": 15,
   "metadata": {
    "execution": {
     "iopub.execute_input": "2025-08-27T21:47:42.256561Z",
     "iopub.status.busy": "2025-08-27T21:47:42.256209Z",
     "iopub.status.idle": "2025-08-27T21:47:42.259081Z",
     "shell.execute_reply": "2025-08-27T21:47:42.258683Z"
    }
   },
   "outputs": [
    {
     "name": "stdout",
     "output_type": "stream",
     "text": [
      "DERMAN SKEW APPROX for K: 0.04000000000000001\n"
     ]
    }
   ],
   "source": [
    "k2 = vol_swap.fair_strike_approx(value_dt, stock_price, strikes, vols)\n",
    "print(\"DERMAN SKEW APPROX for K:\", k2)"
   ]
  },
  {
   "cell_type": "code",
   "execution_count": 16,
   "metadata": {
    "execution": {
     "iopub.execute_input": "2025-08-27T21:47:42.261003Z",
     "iopub.status.busy": "2025-08-27T21:47:42.260697Z",
     "iopub.status.idle": "2025-08-27T21:47:42.263868Z",
     "shell.execute_reply": "2025-08-27T21:47:42.263451Z"
    }
   },
   "outputs": [
    {
     "name": "stdout",
     "output_type": "stream",
     "text": [
      "TYPE STRIKE WEIGHT\n",
      "PUT   55.00  13169.839\n",
      "PUT   60.00  11058.975\n",
      "PUT   65.00   9418.167\n",
      "PUT   70.00   8117.442\n",
      "PUT   75.00   7068.860\n",
      "PUT   80.00   6211.188\n",
      "PUT   85.00   5500.721\n",
      "PUT   90.00   4905.588\n",
      "PUT   95.00   4402.101\n",
      "PUT  100.00   2052.402\n",
      "CALL  100.00   1919.957\n",
      "CALL  105.00   3602.627\n",
      "CALL  110.00   3282.228\n",
      "CALL  115.00   3002.757\n",
      "CALL  120.00   2757.527\n",
      "CALL  125.00   2541.164\n",
      "CALL  130.00   2349.307\n",
      "CALL  135.00   2178.390\n",
      "CALL  140.00   2025.471\n",
      "CALL  145.00   1888.110\n"
     ]
    }
   ],
   "source": [
    "vol_swap.print_weights()"
   ]
  },
  {
   "cell_type": "markdown",
   "metadata": {},
   "source": [
    "Copyright (c) 2020 Dominic O'Kane"
   ]
  }
 ],
 "metadata": {
  "kernelspec": {
   "display_name": "base",
   "language": "python",
   "name": "python3"
  },
  "language_info": {
   "codemirror_mode": {
    "name": "ipython",
    "version": 3
   },
   "file_extension": ".py",
   "mimetype": "text/x-python",
   "name": "python",
   "nbconvert_exporter": "python",
   "pygments_lexer": "ipython3",
   "version": "3.13.5"
  }
 },
 "nbformat": 4,
 "nbformat_minor": 2
}
