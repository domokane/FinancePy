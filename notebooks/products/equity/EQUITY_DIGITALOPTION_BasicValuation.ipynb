{
 "cells": [
  {
   "cell_type": "markdown",
   "metadata": {},
   "source": [
    "# EQUITY DIGITAL ASSET-OR-NOTHING EUROPEAN OPTION"
   ]
  },
  {
   "cell_type": "markdown",
   "metadata": {},
   "source": [
    "Valuation and Risk of Equity Digital Options that have their barrier observed at expiry only."
   ]
  },
  {
   "cell_type": "code",
   "execution_count": 1,
   "metadata": {
    "execution": {
     "iopub.execute_input": "2025-09-14T22:22:46.616231Z",
     "iopub.status.busy": "2025-09-14T22:22:46.615928Z",
     "iopub.status.idle": "2025-09-14T22:22:46.837872Z",
     "shell.execute_reply": "2025-09-14T22:22:46.837426Z"
    }
   },
   "outputs": [],
   "source": [
    "import numpy as np\n",
    "import matplotlib.pyplot as plt"
   ]
  },
  {
   "cell_type": "code",
   "execution_count": 2,
   "metadata": {
    "execution": {
     "iopub.execute_input": "2025-09-14T22:22:46.839761Z",
     "iopub.status.busy": "2025-09-14T22:22:46.839581Z",
     "iopub.status.idle": "2025-09-14T22:22:48.804796Z",
     "shell.execute_reply": "2025-09-14T22:22:48.804485Z"
    }
   },
   "outputs": [],
   "source": [
    "from financepy.utils import *\n",
    "from financepy.market.curves import *\n",
    "from financepy.products.equity import *"
   ]
  },
  {
   "cell_type": "markdown",
   "metadata": {},
   "source": [
    "# Asset-or-Nothing Digital Option"
   ]
  },
  {
   "cell_type": "markdown",
   "metadata": {},
   "source": [
    "I define a digital call and a digital put option."
   ]
  },
  {
   "cell_type": "code",
   "execution_count": 3,
   "metadata": {
    "execution": {
     "iopub.execute_input": "2025-09-14T22:22:48.807424Z",
     "iopub.status.busy": "2025-09-14T22:22:48.806973Z",
     "iopub.status.idle": "2025-09-14T22:22:48.809796Z",
     "shell.execute_reply": "2025-09-14T22:22:48.809513Z"
    }
   },
   "outputs": [],
   "source": [
    "underlying_type = FinDigitalOptionTypes.ASSET_OR_NOTHING"
   ]
  },
  {
   "cell_type": "code",
   "execution_count": 4,
   "metadata": {
    "execution": {
     "iopub.execute_input": "2025-09-14T22:22:48.811157Z",
     "iopub.status.busy": "2025-09-14T22:22:48.810956Z",
     "iopub.status.idle": "2025-09-14T22:22:48.827386Z",
     "shell.execute_reply": "2025-09-14T22:22:48.827050Z"
    }
   },
   "outputs": [],
   "source": [
    "expiry_dt = Date(1, 1, 2008)"
   ]
  },
  {
   "cell_type": "code",
   "execution_count": 5,
   "metadata": {
    "execution": {
     "iopub.execute_input": "2025-09-14T22:22:48.828693Z",
     "iopub.status.busy": "2025-09-14T22:22:48.828558Z",
     "iopub.status.idle": "2025-09-14T22:22:48.830534Z",
     "shell.execute_reply": "2025-09-14T22:22:48.830245Z"
    }
   },
   "outputs": [],
   "source": [
    "strike_price = 65.0"
   ]
  },
  {
   "cell_type": "code",
   "execution_count": 6,
   "metadata": {
    "execution": {
     "iopub.execute_input": "2025-09-14T22:22:48.831578Z",
     "iopub.status.busy": "2025-09-14T22:22:48.831466Z",
     "iopub.status.idle": "2025-09-14T22:22:48.833403Z",
     "shell.execute_reply": "2025-09-14T22:22:48.833122Z"
    }
   },
   "outputs": [],
   "source": [
    "digitalCall = EquityDigitalOption(expiry_dt, strike_price, OptionTypes.EUROPEAN_CALL, underlying_type)"
   ]
  },
  {
   "cell_type": "code",
   "execution_count": 7,
   "metadata": {
    "execution": {
     "iopub.execute_input": "2025-09-14T22:22:48.834394Z",
     "iopub.status.busy": "2025-09-14T22:22:48.834283Z",
     "iopub.status.idle": "2025-09-14T22:22:48.836416Z",
     "shell.execute_reply": "2025-09-14T22:22:48.836125Z"
    }
   },
   "outputs": [],
   "source": [
    "digitalPut = EquityDigitalOption(expiry_dt, strike_price, OptionTypes.EUROPEAN_PUT, underlying_type)"
   ]
  },
  {
   "cell_type": "code",
   "execution_count": 8,
   "metadata": {
    "execution": {
     "iopub.execute_input": "2025-09-14T22:22:48.837386Z",
     "iopub.status.busy": "2025-09-14T22:22:48.837279Z",
     "iopub.status.idle": "2025-09-14T22:22:48.840992Z",
     "shell.execute_reply": "2025-09-14T22:22:48.840614Z"
    }
   },
   "outputs": [
    {
     "name": "stdout",
     "output_type": "stream",
     "text": [
      "OBJECT TYPE: EquityDigitalOption\n",
      "EXPIRY DATE: 01-JAN-2008\n",
      "BARRIER LEVEL: 65.0\n",
      "CALL-PUT TYPE: OptionTypes.EUROPEAN_CALL\n",
      "DIGITAL TYPE: FinDigitalOptionTypes.ASSET_OR_NOTHING\n"
     ]
    }
   ],
   "source": [
    "print(digitalCall)"
   ]
  },
  {
   "cell_type": "code",
   "execution_count": 9,
   "metadata": {
    "execution": {
     "iopub.execute_input": "2025-09-14T22:22:48.842013Z",
     "iopub.status.busy": "2025-09-14T22:22:48.841902Z",
     "iopub.status.idle": "2025-09-14T22:22:48.843919Z",
     "shell.execute_reply": "2025-09-14T22:22:48.843655Z"
    }
   },
   "outputs": [
    {
     "name": "stdout",
     "output_type": "stream",
     "text": [
      "OBJECT TYPE: EquityDigitalOption\n",
      "EXPIRY DATE: 01-JAN-2008\n",
      "BARRIER LEVEL: 65.0\n",
      "CALL-PUT TYPE: OptionTypes.EUROPEAN_PUT\n",
      "DIGITAL TYPE: FinDigitalOptionTypes.ASSET_OR_NOTHING\n"
     ]
    }
   ],
   "source": [
    "print(digitalPut)"
   ]
  },
  {
   "cell_type": "markdown",
   "metadata": {},
   "source": [
    "## Valuation"
   ]
  },
  {
   "cell_type": "code",
   "execution_count": 10,
   "metadata": {
    "execution": {
     "iopub.execute_input": "2025-09-14T22:22:48.845094Z",
     "iopub.status.busy": "2025-09-14T22:22:48.844822Z",
     "iopub.status.idle": "2025-09-14T22:22:48.846839Z",
     "shell.execute_reply": "2025-09-14T22:22:48.846543Z"
    }
   },
   "outputs": [],
   "source": [
    "value_dt = Date(1, 7, 2007)"
   ]
  },
  {
   "cell_type": "code",
   "execution_count": 11,
   "metadata": {
    "execution": {
     "iopub.execute_input": "2025-09-14T22:22:48.847754Z",
     "iopub.status.busy": "2025-09-14T22:22:48.847641Z",
     "iopub.status.idle": "2025-09-14T22:22:48.849816Z",
     "shell.execute_reply": "2025-09-14T22:22:48.849548Z"
    }
   },
   "outputs": [],
   "source": [
    "interest_rate = 0.07"
   ]
  },
  {
   "cell_type": "code",
   "execution_count": 12,
   "metadata": {
    "execution": {
     "iopub.execute_input": "2025-09-14T22:22:48.850702Z",
     "iopub.status.busy": "2025-09-14T22:22:48.850596Z",
     "iopub.status.idle": "2025-09-14T22:22:48.859673Z",
     "shell.execute_reply": "2025-09-14T22:22:48.859411Z"
    }
   },
   "outputs": [],
   "source": [
    "discount_curve = DiscountCurveFlat(value_dt, interest_rate)"
   ]
  },
  {
   "cell_type": "code",
   "execution_count": 13,
   "metadata": {
    "execution": {
     "iopub.execute_input": "2025-09-14T22:22:48.860691Z",
     "iopub.status.busy": "2025-09-14T22:22:48.860578Z",
     "iopub.status.idle": "2025-09-14T22:22:48.862636Z",
     "shell.execute_reply": "2025-09-14T22:22:48.862417Z"
    }
   },
   "outputs": [],
   "source": [
    "volatility = 0.27"
   ]
  },
  {
   "cell_type": "code",
   "execution_count": 14,
   "metadata": {
    "execution": {
     "iopub.execute_input": "2025-09-14T22:22:48.863541Z",
     "iopub.status.busy": "2025-09-14T22:22:48.863431Z",
     "iopub.status.idle": "2025-09-14T22:22:48.865272Z",
     "shell.execute_reply": "2025-09-14T22:22:48.865043Z"
    }
   },
   "outputs": [],
   "source": [
    "model = BlackScholes(volatility)"
   ]
  },
  {
   "cell_type": "code",
   "execution_count": 15,
   "metadata": {
    "execution": {
     "iopub.execute_input": "2025-09-14T22:22:48.866204Z",
     "iopub.status.busy": "2025-09-14T22:22:48.866093Z",
     "iopub.status.idle": "2025-09-14T22:22:48.868267Z",
     "shell.execute_reply": "2025-09-14T22:22:48.868050Z"
    }
   },
   "outputs": [],
   "source": [
    "stock_price = 70.0\n",
    "dividend_yield = 0.05"
   ]
  },
  {
   "cell_type": "code",
   "execution_count": 16,
   "metadata": {
    "execution": {
     "iopub.execute_input": "2025-09-14T22:22:48.870976Z",
     "iopub.status.busy": "2025-09-14T22:22:48.870696Z",
     "iopub.status.idle": "2025-09-14T22:22:48.874179Z",
     "shell.execute_reply": "2025-09-14T22:22:48.873878Z"
    }
   },
   "outputs": [],
   "source": [
    "dividend_curve = DiscountCurveFlat(value_dt, dividend_yield)"
   ]
  },
  {
   "cell_type": "code",
   "execution_count": 17,
   "metadata": {
    "execution": {
     "iopub.execute_input": "2025-09-14T22:22:48.875670Z",
     "iopub.status.busy": "2025-09-14T22:22:48.875390Z",
     "iopub.status.idle": "2025-09-14T22:22:48.879482Z",
     "shell.execute_reply": "2025-09-14T22:22:48.879205Z"
    }
   },
   "outputs": [
    {
     "data": {
      "text/plain": [
       "np.float64(48.03177217466735)"
      ]
     },
     "execution_count": 17,
     "metadata": {},
     "output_type": "execute_result"
    }
   ],
   "source": [
    "digitalCall.value(value_dt, stock_price, discount_curve, dividend_curve, model)"
   ]
  },
  {
   "cell_type": "code",
   "execution_count": 18,
   "metadata": {
    "execution": {
     "iopub.execute_input": "2025-09-14T22:22:48.880499Z",
     "iopub.status.busy": "2025-09-14T22:22:48.880386Z",
     "iopub.status.idle": "2025-09-14T22:22:48.882870Z",
     "shell.execute_reply": "2025-09-14T22:22:48.882575Z"
    }
   },
   "outputs": [
    {
     "data": {
      "text/plain": [
       "np.float64(20.2258946782528)"
      ]
     },
     "execution_count": 18,
     "metadata": {},
     "output_type": "execute_result"
    }
   ],
   "source": [
    "digitalPut.value(value_dt, stock_price, discount_curve, dividend_curve, model)"
   ]
  },
  {
   "cell_type": "markdown",
   "metadata": {},
   "source": [
    "## Check Monte-Carlo"
   ]
  },
  {
   "cell_type": "code",
   "execution_count": 19,
   "metadata": {
    "execution": {
     "iopub.execute_input": "2025-09-14T22:22:48.883820Z",
     "iopub.status.busy": "2025-09-14T22:22:48.883709Z",
     "iopub.status.idle": "2025-09-14T22:22:48.888248Z",
     "shell.execute_reply": "2025-09-14T22:22:48.887501Z"
    }
   },
   "outputs": [
    {
     "data": {
      "text/plain": [
       "np.float64(48.072486273604504)"
      ]
     },
     "execution_count": 19,
     "metadata": {},
     "output_type": "execute_result"
    }
   ],
   "source": [
    "digitalCall.value_mc(value_dt, stock_price, discount_curve, dividend_curve, model, 50000)"
   ]
  },
  {
   "cell_type": "code",
   "execution_count": 20,
   "metadata": {
    "execution": {
     "iopub.execute_input": "2025-09-14T22:22:48.890347Z",
     "iopub.status.busy": "2025-09-14T22:22:48.890223Z",
     "iopub.status.idle": "2025-09-14T22:22:48.894752Z",
     "shell.execute_reply": "2025-09-14T22:22:48.894480Z"
    }
   },
   "outputs": [
    {
     "data": {
      "text/plain": [
       "np.float64(20.186613355023177)"
      ]
     },
     "execution_count": 20,
     "metadata": {},
     "output_type": "execute_result"
    }
   ],
   "source": [
    "digitalPut.value_mc(value_dt, stock_price, discount_curve, dividend_curve, model, 50000)"
   ]
  },
  {
   "cell_type": "markdown",
   "metadata": {},
   "source": [
    "## Vectorisations"
   ]
  },
  {
   "cell_type": "code",
   "execution_count": 21,
   "metadata": {
    "execution": {
     "iopub.execute_input": "2025-09-14T22:22:48.895735Z",
     "iopub.status.busy": "2025-09-14T22:22:48.895624Z",
     "iopub.status.idle": "2025-09-14T22:22:48.945190Z",
     "shell.execute_reply": "2025-09-14T22:22:48.944625Z"
    }
   },
   "outputs": [
    {
     "data": {
      "image/png": "[encoded data removed]",
      "text/plain": [
       "<Figure size 640x480 with 1 Axes>"
      ]
     },
     "metadata": {},
     "output_type": "display_data"
    }
   ],
   "source": [
    "stock_prices = np.linspace(50,150,100)\n",
    "v = digitalCall.value(value_dt, stock_prices, discount_curve, dividend_curve, model)\n",
    "plt.plot(stock_prices, v);"
   ]
  },
  {
   "cell_type": "markdown",
   "metadata": {},
   "source": [
    "And we can do the same to the option delta."
   ]
  },
  {
   "cell_type": "code",
   "execution_count": 22,
   "metadata": {
    "execution": {
     "iopub.execute_input": "2025-09-14T22:22:48.946565Z",
     "iopub.status.busy": "2025-09-14T22:22:48.946393Z",
     "iopub.status.idle": "2025-09-14T22:22:48.986008Z",
     "shell.execute_reply": "2025-09-14T22:22:48.985493Z"
    }
   },
   "outputs": [
    {
     "data": {
      "image/png": "[encoded data removed]",
      "text/plain": [
       "<Figure size 640x480 with 1 Axes>"
      ]
     },
     "metadata": {},
     "output_type": "display_data"
    }
   ],
   "source": [
    "stock_prices = np.linspace(50,150,100)\n",
    "v = digitalCall.delta(value_dt, stock_prices, discount_curve, dividend_curve, model)\n",
    "plt.plot(stock_prices, v);"
   ]
  },
  {
   "cell_type": "markdown",
   "metadata": {},
   "source": [
    "## Risk Analysis"
   ]
  },
  {
   "cell_type": "markdown",
   "metadata": {},
   "source": [
    "The analytical model produced the following sensitivities"
   ]
  },
  {
   "cell_type": "code",
   "execution_count": 23,
   "metadata": {
    "execution": {
     "iopub.execute_input": "2025-09-14T22:22:48.987257Z",
     "iopub.status.busy": "2025-09-14T22:22:48.987126Z",
     "iopub.status.idle": "2025-09-14T22:22:48.990090Z",
     "shell.execute_reply": "2025-09-14T22:22:48.989740Z"
    }
   },
   "outputs": [
    {
     "data": {
      "text/plain": [
       "np.float64(2.4448160559842336)"
      ]
     },
     "execution_count": 23,
     "metadata": {},
     "output_type": "execute_result"
    }
   ],
   "source": [
    "digitalCall.delta(value_dt, stock_price, discount_curve, dividend_curve, model)"
   ]
  },
  {
   "cell_type": "code",
   "execution_count": 24,
   "metadata": {
    "execution": {
     "iopub.execute_input": "2025-09-14T22:22:48.991514Z",
     "iopub.status.busy": "2025-09-14T22:22:48.991393Z",
     "iopub.status.idle": "2025-09-14T22:22:48.994040Z",
     "shell.execute_reply": "2025-09-14T22:22:48.993729Z"
    }
   },
   "outputs": [
    {
     "data": {
      "text/plain": [
       "np.float64(-0.044994408199272584)"
      ]
     },
     "execution_count": 24,
     "metadata": {},
     "output_type": "execute_result"
    }
   ],
   "source": [
    "digitalCall.gamma(value_dt, stock_price, discount_curve, dividend_curve, model)"
   ]
  },
  {
   "cell_type": "code",
   "execution_count": 25,
   "metadata": {
    "execution": {
     "iopub.execute_input": "2025-09-14T22:22:48.995020Z",
     "iopub.status.busy": "2025-09-14T22:22:48.994876Z",
     "iopub.status.idle": "2025-09-14T22:22:48.998115Z",
     "shell.execute_reply": "2025-09-14T22:22:48.997822Z"
    }
   },
   "outputs": [
    {
     "data": {
      "text/plain": [
       "np.float64(8.007935522136407)"
      ]
     },
     "execution_count": 25,
     "metadata": {},
     "output_type": "execute_result"
    }
   ],
   "source": [
    "digitalCall.theta(value_dt, stock_price, discount_curve, dividend_curve, model)"
   ]
  },
  {
   "cell_type": "code",
   "execution_count": 26,
   "metadata": {
    "execution": {
     "iopub.execute_input": "2025-09-14T22:22:48.999940Z",
     "iopub.status.busy": "2025-09-14T22:22:48.999779Z",
     "iopub.status.idle": "2025-09-14T22:22:49.003082Z",
     "shell.execute_reply": "2025-09-14T22:22:49.002825Z"
    }
   },
   "outputs": [
    {
     "data": {
      "text/plain": [
       "np.float64(-0.2872979823385293)"
      ]
     },
     "execution_count": 26,
     "metadata": {},
     "output_type": "execute_result"
    }
   ],
   "source": [
    "digitalCall.vega(value_dt, stock_price, discount_curve, dividend_curve, model)"
   ]
  },
  {
   "cell_type": "code",
   "execution_count": 27,
   "metadata": {
    "execution": {
     "iopub.execute_input": "2025-09-14T22:22:49.004187Z",
     "iopub.status.busy": "2025-09-14T22:22:49.004077Z",
     "iopub.status.idle": "2025-09-14T22:22:49.007334Z",
     "shell.execute_reply": "2025-09-14T22:22:49.007014Z"
    }
   },
   "outputs": [
    {
     "data": {
      "text/plain": [
       "np.float64(62.05430152036229)"
      ]
     },
     "execution_count": 27,
     "metadata": {},
     "output_type": "execute_result"
    }
   ],
   "source": [
    "digitalCall.rho(value_dt, stock_price, discount_curve, dividend_curve, model)"
   ]
  },
  {
   "cell_type": "markdown",
   "metadata": {},
   "source": [
    "Copyright (c) 2020 Dominic O'Kane"
   ]
  }
 ],
 "metadata": {
  "kernelspec": {
   "display_name": "base",
   "language": "python",
   "name": "python3"
  },
  "language_info": {
   "codemirror_mode": {
    "name": "ipython",
    "version": 3
   },
   "file_extension": ".py",
   "mimetype": "text/x-python",
   "name": "python",
   "nbconvert_exporter": "python",
   "pygments_lexer": "ipython3",
   "version": "3.13.7"
  }
 },
 "nbformat": 4,
 "nbformat_minor": 2
}
