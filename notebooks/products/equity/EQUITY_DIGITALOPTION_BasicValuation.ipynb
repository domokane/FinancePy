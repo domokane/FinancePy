{
 "cells": [
  {
   "cell_type": "markdown",
   "metadata": {},
   "source": [
    "# EQUITY DIGITAL ASSET-OR-NOTHING EUROPEAN OPTION"
   ]
  },
  {
   "cell_type": "markdown",
   "metadata": {},
   "source": [
    "Valuation and Risk of Equity Digital Options that have their barrier observed at expiry only."
   ]
  },
  {
   "cell_type": "code",
   "execution_count": 1,
   "metadata": {
    "execution": {
     "iopub.execute_input": "2025-08-27T21:45:55.075128Z",
     "iopub.status.busy": "2025-08-27T21:45:55.074867Z",
     "iopub.status.idle": "2025-08-27T21:45:55.580714Z",
     "shell.execute_reply": "2025-08-27T21:45:55.580237Z"
    }
   },
   "outputs": [],
   "source": [
    "import numpy as np\n",
    "import matplotlib.pyplot as plt"
   ]
  },
  {
   "cell_type": "code",
   "execution_count": 2,
   "metadata": {
    "execution": {
     "iopub.execute_input": "2025-08-27T21:45:55.582699Z",
     "iopub.status.busy": "2025-08-27T21:45:55.582448Z",
     "iopub.status.idle": "2025-08-27T21:45:58.446928Z",
     "shell.execute_reply": "2025-08-27T21:45:58.446396Z"
    }
   },
   "outputs": [
    {
     "name": "stdout",
     "output_type": "stream",
     "text": [
      "####################################################################\n",
      "#    FINANCEPY Version 1.1 - This build: 27 Aug 2025 at 23:27      #\n",
      "#     This software is distributed FREE AND WITHOUT ANY WARRANTY   #\n",
      "#  Report bugs as issues at https://github.com/domokane/FinancePy  #\n",
      "####################################################################\n",
      "\n"
     ]
    }
   ],
   "source": [
    "from financepy.utils import *\n",
    "from financepy.market.curves import *\n",
    "from financepy.products.equity import *"
   ]
  },
  {
   "cell_type": "markdown",
   "metadata": {},
   "source": [
    "# Asset-or-Nothing Digital Option"
   ]
  },
  {
   "cell_type": "markdown",
   "metadata": {},
   "source": [
    "I define a digital call and a digital put option."
   ]
  },
  {
   "cell_type": "code",
   "execution_count": 3,
   "metadata": {
    "execution": {
     "iopub.execute_input": "2025-08-27T21:45:58.449120Z",
     "iopub.status.busy": "2025-08-27T21:45:58.448747Z",
     "iopub.status.idle": "2025-08-27T21:45:58.451830Z",
     "shell.execute_reply": "2025-08-27T21:45:58.451448Z"
    }
   },
   "outputs": [],
   "source": [
    "underlying_type = FinDigitalOptionTypes.ASSET_OR_NOTHING"
   ]
  },
  {
   "cell_type": "code",
   "execution_count": 4,
   "metadata": {
    "execution": {
     "iopub.execute_input": "2025-08-27T21:45:58.453753Z",
     "iopub.status.busy": "2025-08-27T21:45:58.453421Z",
     "iopub.status.idle": "2025-08-27T21:45:58.470582Z",
     "shell.execute_reply": "2025-08-27T21:45:58.470072Z"
    }
   },
   "outputs": [],
   "source": [
    "expiry_dt = Date(1, 1, 2008)"
   ]
  },
  {
   "cell_type": "code",
   "execution_count": 5,
   "metadata": {
    "execution": {
     "iopub.execute_input": "2025-08-27T21:45:58.472837Z",
     "iopub.status.busy": "2025-08-27T21:45:58.472582Z",
     "iopub.status.idle": "2025-08-27T21:45:58.475077Z",
     "shell.execute_reply": "2025-08-27T21:45:58.474677Z"
    }
   },
   "outputs": [],
   "source": [
    "strike_price = 65.0"
   ]
  },
  {
   "cell_type": "code",
   "execution_count": 6,
   "metadata": {
    "execution": {
     "iopub.execute_input": "2025-08-27T21:45:58.476676Z",
     "iopub.status.busy": "2025-08-27T21:45:58.476380Z",
     "iopub.status.idle": "2025-08-27T21:45:58.478550Z",
     "shell.execute_reply": "2025-08-27T21:45:58.478219Z"
    }
   },
   "outputs": [],
   "source": [
    "digitalCall = EquityDigitalOption(expiry_dt, strike_price, OptionTypes.EUROPEAN_CALL, underlying_type)"
   ]
  },
  {
   "cell_type": "code",
   "execution_count": 7,
   "metadata": {
    "execution": {
     "iopub.execute_input": "2025-08-27T21:45:58.480262Z",
     "iopub.status.busy": "2025-08-27T21:45:58.480002Z",
     "iopub.status.idle": "2025-08-27T21:45:58.482102Z",
     "shell.execute_reply": "2025-08-27T21:45:58.481700Z"
    }
   },
   "outputs": [],
   "source": [
    "digitalPut = EquityDigitalOption(expiry_dt, strike_price, OptionTypes.EUROPEAN_PUT, underlying_type)"
   ]
  },
  {
   "cell_type": "code",
   "execution_count": 8,
   "metadata": {
    "execution": {
     "iopub.execute_input": "2025-08-27T21:45:58.483543Z",
     "iopub.status.busy": "2025-08-27T21:45:58.483388Z",
     "iopub.status.idle": "2025-08-27T21:45:58.486036Z",
     "shell.execute_reply": "2025-08-27T21:45:58.485553Z"
    }
   },
   "outputs": [
    {
     "name": "stdout",
     "output_type": "stream",
     "text": [
      "OBJECT TYPE: EquityDigitalOption\n",
      "EXPIRY DATE: 01-JAN-2008\n",
      "BARRIER LEVEL: 65.0\n",
      "CALL-PUT TYPE: OptionTypes.EUROPEAN_CALL\n",
      "DIGITAL TYPE: FinDigitalOptionTypes.ASSET_OR_NOTHING\n"
     ]
    }
   ],
   "source": [
    "print(digitalCall)"
   ]
  },
  {
   "cell_type": "code",
   "execution_count": 9,
   "metadata": {
    "execution": {
     "iopub.execute_input": "2025-08-27T21:45:58.487655Z",
     "iopub.status.busy": "2025-08-27T21:45:58.487472Z",
     "iopub.status.idle": "2025-08-27T21:45:58.489924Z",
     "shell.execute_reply": "2025-08-27T21:45:58.489538Z"
    }
   },
   "outputs": [
    {
     "name": "stdout",
     "output_type": "stream",
     "text": [
      "OBJECT TYPE: EquityDigitalOption\n",
      "EXPIRY DATE: 01-JAN-2008\n",
      "BARRIER LEVEL: 65.0\n",
      "CALL-PUT TYPE: OptionTypes.EUROPEAN_PUT\n",
      "DIGITAL TYPE: FinDigitalOptionTypes.ASSET_OR_NOTHING\n"
     ]
    }
   ],
   "source": [
    "print(digitalPut)"
   ]
  },
  {
   "cell_type": "markdown",
   "metadata": {},
   "source": [
    "## Valuation"
   ]
  },
  {
   "cell_type": "code",
   "execution_count": 10,
   "metadata": {
    "execution": {
     "iopub.execute_input": "2025-08-27T21:45:58.491421Z",
     "iopub.status.busy": "2025-08-27T21:45:58.491248Z",
     "iopub.status.idle": "2025-08-27T21:45:58.493351Z",
     "shell.execute_reply": "2025-08-27T21:45:58.492990Z"
    }
   },
   "outputs": [],
   "source": [
    "value_dt = Date(1, 7, 2007)"
   ]
  },
  {
   "cell_type": "code",
   "execution_count": 11,
   "metadata": {
    "execution": {
     "iopub.execute_input": "2025-08-27T21:45:58.494865Z",
     "iopub.status.busy": "2025-08-27T21:45:58.494608Z",
     "iopub.status.idle": "2025-08-27T21:45:58.496847Z",
     "shell.execute_reply": "2025-08-27T21:45:58.496452Z"
    }
   },
   "outputs": [],
   "source": [
    "interest_rate = 0.07"
   ]
  },
  {
   "cell_type": "code",
   "execution_count": 12,
   "metadata": {
    "execution": {
     "iopub.execute_input": "2025-08-27T21:45:58.498673Z",
     "iopub.status.busy": "2025-08-27T21:45:58.498245Z",
     "iopub.status.idle": "2025-08-27T21:45:58.507282Z",
     "shell.execute_reply": "2025-08-27T21:45:58.506909Z"
    }
   },
   "outputs": [],
   "source": [
    "discount_curve = DiscountCurveFlat(value_dt, interest_rate)"
   ]
  },
  {
   "cell_type": "code",
   "execution_count": 13,
   "metadata": {
    "execution": {
     "iopub.execute_input": "2025-08-27T21:45:58.509344Z",
     "iopub.status.busy": "2025-08-27T21:45:58.509016Z",
     "iopub.status.idle": "2025-08-27T21:45:58.511438Z",
     "shell.execute_reply": "2025-08-27T21:45:58.511138Z"
    }
   },
   "outputs": [],
   "source": [
    "volatility = 0.27"
   ]
  },
  {
   "cell_type": "code",
   "execution_count": 14,
   "metadata": {
    "execution": {
     "iopub.execute_input": "2025-08-27T21:45:58.512874Z",
     "iopub.status.busy": "2025-08-27T21:45:58.512698Z",
     "iopub.status.idle": "2025-08-27T21:45:58.514958Z",
     "shell.execute_reply": "2025-08-27T21:45:58.514556Z"
    }
   },
   "outputs": [],
   "source": [
    "model = BlackScholes(volatility)"
   ]
  },
  {
   "cell_type": "code",
   "execution_count": 15,
   "metadata": {
    "execution": {
     "iopub.execute_input": "2025-08-27T21:45:58.516442Z",
     "iopub.status.busy": "2025-08-27T21:45:58.516224Z",
     "iopub.status.idle": "2025-08-27T21:45:58.518225Z",
     "shell.execute_reply": "2025-08-27T21:45:58.517847Z"
    }
   },
   "outputs": [],
   "source": [
    "stock_price = 70.0\n",
    "dividend_yield = 0.05"
   ]
  },
  {
   "cell_type": "code",
   "execution_count": 16,
   "metadata": {
    "execution": {
     "iopub.execute_input": "2025-08-27T21:45:58.519793Z",
     "iopub.status.busy": "2025-08-27T21:45:58.519517Z",
     "iopub.status.idle": "2025-08-27T21:45:58.522402Z",
     "shell.execute_reply": "2025-08-27T21:45:58.521903Z"
    }
   },
   "outputs": [],
   "source": [
    "dividend_curve = DiscountCurveFlat(value_dt, dividend_yield)"
   ]
  },
  {
   "cell_type": "code",
   "execution_count": 17,
   "metadata": {
    "execution": {
     "iopub.execute_input": "2025-08-27T21:45:58.524137Z",
     "iopub.status.busy": "2025-08-27T21:45:58.523953Z",
     "iopub.status.idle": "2025-08-27T21:45:58.528555Z",
     "shell.execute_reply": "2025-08-27T21:45:58.528192Z"
    }
   },
   "outputs": [
    {
     "data": {
      "text/plain": [
       "np.float64(48.03177217466735)"
      ]
     },
     "execution_count": 17,
     "metadata": {},
     "output_type": "execute_result"
    }
   ],
   "source": [
    "digitalCall.value(value_dt, stock_price, discount_curve, dividend_curve, model)"
   ]
  },
  {
   "cell_type": "code",
   "execution_count": 18,
   "metadata": {
    "execution": {
     "iopub.execute_input": "2025-08-27T21:45:58.530440Z",
     "iopub.status.busy": "2025-08-27T21:45:58.530224Z",
     "iopub.status.idle": "2025-08-27T21:45:58.533666Z",
     "shell.execute_reply": "2025-08-27T21:45:58.533298Z"
    }
   },
   "outputs": [
    {
     "data": {
      "text/plain": [
       "np.float64(20.2258946782528)"
      ]
     },
     "execution_count": 18,
     "metadata": {},
     "output_type": "execute_result"
    }
   ],
   "source": [
    "digitalPut.value(value_dt, stock_price, discount_curve, dividend_curve, model)"
   ]
  },
  {
   "cell_type": "markdown",
   "metadata": {},
   "source": [
    "## Check Monte-Carlo"
   ]
  },
  {
   "cell_type": "code",
   "execution_count": 19,
   "metadata": {
    "execution": {
     "iopub.execute_input": "2025-08-27T21:45:58.535180Z",
     "iopub.status.busy": "2025-08-27T21:45:58.534889Z",
     "iopub.status.idle": "2025-08-27T21:45:58.540069Z",
     "shell.execute_reply": "2025-08-27T21:45:58.539761Z"
    }
   },
   "outputs": [
    {
     "data": {
      "text/plain": [
       "np.float64(48.072486273604504)"
      ]
     },
     "execution_count": 19,
     "metadata": {},
     "output_type": "execute_result"
    }
   ],
   "source": [
    "digitalCall.value_mc(value_dt, stock_price, discount_curve, dividend_curve, model, 50000)"
   ]
  },
  {
   "cell_type": "code",
   "execution_count": 20,
   "metadata": {
    "execution": {
     "iopub.execute_input": "2025-08-27T21:45:58.541855Z",
     "iopub.status.busy": "2025-08-27T21:45:58.541557Z",
     "iopub.status.idle": "2025-08-27T21:45:58.546911Z",
     "shell.execute_reply": "2025-08-27T21:45:58.546568Z"
    }
   },
   "outputs": [
    {
     "data": {
      "text/plain": [
       "np.float64(20.186613355023177)"
      ]
     },
     "execution_count": 20,
     "metadata": {},
     "output_type": "execute_result"
    }
   ],
   "source": [
    "digitalPut.value_mc(value_dt, stock_price, discount_curve, dividend_curve, model, 50000)"
   ]
  },
  {
   "cell_type": "markdown",
   "metadata": {},
   "source": [
    "## Vectorisations"
   ]
  },
  {
   "cell_type": "code",
   "execution_count": 21,
   "metadata": {
    "execution": {
     "iopub.execute_input": "2025-08-27T21:45:58.548547Z",
     "iopub.status.busy": "2025-08-27T21:45:58.548242Z",
     "iopub.status.idle": "2025-08-27T21:45:58.644075Z",
     "shell.execute_reply": "2025-08-27T21:45:58.643677Z"
    }
   },
   "outputs": [
    {
     "data": {
      "image/png": "[encoded data removed]",
      "text/plain": [
       "<Figure size 640x480 with 1 Axes>"
      ]
     },
     "metadata": {},
     "output_type": "display_data"
    }
   ],
   "source": [
    "stock_prices = np.linspace(50,150,100)\n",
    "v = digitalCall.value(value_dt, stock_prices, discount_curve, dividend_curve, model)\n",
    "plt.plot(stock_prices, v);"
   ]
  },
  {
   "cell_type": "markdown",
   "metadata": {},
   "source": [
    "And we can do the same to the option delta."
   ]
  },
  {
   "cell_type": "code",
   "execution_count": 22,
   "metadata": {
    "execution": {
     "iopub.execute_input": "2025-08-27T21:45:58.646159Z",
     "iopub.status.busy": "2025-08-27T21:45:58.645942Z",
     "iopub.status.idle": "2025-08-27T21:45:58.725270Z",
     "shell.execute_reply": "2025-08-27T21:45:58.724635Z"
    }
   },
   "outputs": [
    {
     "data": {
      "image/png": "[encoded data removed]",
      "text/plain": [
       "<Figure size 640x480 with 1 Axes>"
      ]
     },
     "metadata": {},
     "output_type": "display_data"
    }
   ],
   "source": [
    "stock_prices = np.linspace(50,150,100)\n",
    "v = digitalCall.delta(value_dt, stock_prices, discount_curve, dividend_curve, model)\n",
    "plt.plot(stock_prices, v);"
   ]
  },
  {
   "cell_type": "markdown",
   "metadata": {},
   "source": [
    "## Risk Analysis"
   ]
  },
  {
   "cell_type": "markdown",
   "metadata": {},
   "source": [
    "The analytical model produced the following sensitivities"
   ]
  },
  {
   "cell_type": "code",
   "execution_count": 23,
   "metadata": {
    "execution": {
     "iopub.execute_input": "2025-08-27T21:45:58.727325Z",
     "iopub.status.busy": "2025-08-27T21:45:58.727153Z",
     "iopub.status.idle": "2025-08-27T21:45:58.730601Z",
     "shell.execute_reply": "2025-08-27T21:45:58.730274Z"
    }
   },
   "outputs": [
    {
     "data": {
      "text/plain": [
       "np.float64(2.4448160559842336)"
      ]
     },
     "execution_count": 23,
     "metadata": {},
     "output_type": "execute_result"
    }
   ],
   "source": [
    "digitalCall.delta(value_dt, stock_price, discount_curve, dividend_curve, model)"
   ]
  },
  {
   "cell_type": "code",
   "execution_count": 24,
   "metadata": {
    "execution": {
     "iopub.execute_input": "2025-08-27T21:45:58.732268Z",
     "iopub.status.busy": "2025-08-27T21:45:58.732010Z",
     "iopub.status.idle": "2025-08-27T21:45:58.735175Z",
     "shell.execute_reply": "2025-08-27T21:45:58.734761Z"
    }
   },
   "outputs": [
    {
     "data": {
      "text/plain": [
       "np.float64(-0.044994408199272584)"
      ]
     },
     "execution_count": 24,
     "metadata": {},
     "output_type": "execute_result"
    }
   ],
   "source": [
    "digitalCall.gamma(value_dt, stock_price, discount_curve, dividend_curve, model)"
   ]
  },
  {
   "cell_type": "code",
   "execution_count": 25,
   "metadata": {
    "execution": {
     "iopub.execute_input": "2025-08-27T21:45:58.736889Z",
     "iopub.status.busy": "2025-08-27T21:45:58.736665Z",
     "iopub.status.idle": "2025-08-27T21:45:58.739639Z",
     "shell.execute_reply": "2025-08-27T21:45:58.739328Z"
    }
   },
   "outputs": [
    {
     "data": {
      "text/plain": [
       "np.float64(8.007935522136407)"
      ]
     },
     "execution_count": 25,
     "metadata": {},
     "output_type": "execute_result"
    }
   ],
   "source": [
    "digitalCall.theta(value_dt, stock_price, discount_curve, dividend_curve, model)"
   ]
  },
  {
   "cell_type": "code",
   "execution_count": 26,
   "metadata": {
    "execution": {
     "iopub.execute_input": "2025-08-27T21:45:58.741466Z",
     "iopub.status.busy": "2025-08-27T21:45:58.741158Z",
     "iopub.status.idle": "2025-08-27T21:45:58.744277Z",
     "shell.execute_reply": "2025-08-27T21:45:58.743911Z"
    }
   },
   "outputs": [
    {
     "data": {
      "text/plain": [
       "np.float64(-0.2872979823385293)"
      ]
     },
     "execution_count": 26,
     "metadata": {},
     "output_type": "execute_result"
    }
   ],
   "source": [
    "digitalCall.vega(value_dt, stock_price, discount_curve, dividend_curve, model)"
   ]
  },
  {
   "cell_type": "code",
   "execution_count": 27,
   "metadata": {
    "execution": {
     "iopub.execute_input": "2025-08-27T21:45:58.745643Z",
     "iopub.status.busy": "2025-08-27T21:45:58.745453Z",
     "iopub.status.idle": "2025-08-27T21:45:58.749165Z",
     "shell.execute_reply": "2025-08-27T21:45:58.748725Z"
    }
   },
   "outputs": [
    {
     "data": {
      "text/plain": [
       "np.float64(62.05430152036229)"
      ]
     },
     "execution_count": 27,
     "metadata": {},
     "output_type": "execute_result"
    }
   ],
   "source": [
    "digitalCall.rho(value_dt, stock_price, discount_curve, dividend_curve, model)"
   ]
  },
  {
   "cell_type": "markdown",
   "metadata": {},
   "source": [
    "Copyright (c) 2020 Dominic O'Kane"
   ]
  }
 ],
 "metadata": {
  "kernelspec": {
   "display_name": "base",
   "language": "python",
   "name": "python3"
  },
  "language_info": {
   "codemirror_mode": {
    "name": "ipython",
    "version": 3
   },
   "file_extension": ".py",
   "mimetype": "text/x-python",
   "name": "python",
   "nbconvert_exporter": "python",
   "pygments_lexer": "ipython3",
   "version": "3.13.5"
  }
 },
 "nbformat": 4,
 "nbformat_minor": 2
}
