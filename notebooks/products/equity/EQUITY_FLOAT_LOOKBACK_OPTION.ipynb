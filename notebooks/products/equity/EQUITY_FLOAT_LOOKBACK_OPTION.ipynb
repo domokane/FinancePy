{
 "cells": [
  {
   "cell_type": "markdown",
   "metadata": {},
   "source": [
    "# EQUITY FLOAT LOOKBACK"
   ]
  },
  {
   "cell_type": "markdown",
   "metadata": {},
   "source": [
    "Valuation and Risk of Equity Float Lookback Options"
   ]
  },
  {
   "cell_type": "code",
   "execution_count": 1,
   "metadata": {
    "execution": {
     "iopub.execute_input": "2025-08-27T21:46:18.800501Z",
     "iopub.status.busy": "2025-08-27T21:46:18.800264Z",
     "iopub.status.idle": "2025-08-27T21:46:19.297906Z",
     "shell.execute_reply": "2025-08-27T21:46:19.297159Z"
    }
   },
   "outputs": [],
   "source": [
    "import numpy as np\n",
    "import matplotlib.pyplot as plt"
   ]
  },
  {
   "cell_type": "code",
   "execution_count": 2,
   "metadata": {
    "execution": {
     "iopub.execute_input": "2025-08-27T21:46:19.300734Z",
     "iopub.status.busy": "2025-08-27T21:46:19.300186Z",
     "iopub.status.idle": "2025-08-27T21:46:22.138089Z",
     "shell.execute_reply": "2025-08-27T21:46:22.137643Z"
    }
   },
   "outputs": [
    {
     "name": "stdout",
     "output_type": "stream",
     "text": [
      "####################################################################\n",
      "#    FINANCEPY Version 1.1 - This build: 27 Aug 2025 at 23:27      #\n",
      "#     This software is distributed FREE AND WITHOUT ANY WARRANTY   #\n",
      "#  Report bugs as issues at https://github.com/domokane/FinancePy  #\n",
      "####################################################################\n",
      "\n"
     ]
    }
   ],
   "source": [
    "from financepy.utils import *\n",
    "from financepy.market.curves import *\n",
    "from financepy.products.equity import *"
   ]
  },
  {
   "cell_type": "markdown",
   "metadata": {},
   "source": [
    "# Fixed Lookback Option"
   ]
  },
  {
   "cell_type": "markdown",
   "metadata": {},
   "source": [
    "I create a fixed lookback call and put option"
   ]
  },
  {
   "cell_type": "code",
   "execution_count": 3,
   "metadata": {
    "execution": {
     "iopub.execute_input": "2025-08-27T21:46:22.140549Z",
     "iopub.status.busy": "2025-08-27T21:46:22.140114Z",
     "iopub.status.idle": "2025-08-27T21:46:22.160068Z",
     "shell.execute_reply": "2025-08-27T21:46:22.159607Z"
    }
   },
   "outputs": [],
   "source": [
    "expiry_dt = Date(1, 1, 2021)"
   ]
  },
  {
   "cell_type": "code",
   "execution_count": 4,
   "metadata": {
    "execution": {
     "iopub.execute_input": "2025-08-27T21:46:22.162218Z",
     "iopub.status.busy": "2025-08-27T21:46:22.162011Z",
     "iopub.status.idle": "2025-08-27T21:46:22.164203Z",
     "shell.execute_reply": "2025-08-27T21:46:22.163888Z"
    }
   },
   "outputs": [],
   "source": [
    "strike_price = 105.0"
   ]
  },
  {
   "cell_type": "code",
   "execution_count": 5,
   "metadata": {
    "execution": {
     "iopub.execute_input": "2025-08-27T21:46:22.165764Z",
     "iopub.status.busy": "2025-08-27T21:46:22.165587Z",
     "iopub.status.idle": "2025-08-27T21:46:22.167849Z",
     "shell.execute_reply": "2025-08-27T21:46:22.167521Z"
    }
   },
   "outputs": [],
   "source": [
    "opt_typeCall = OptionTypes.EUROPEAN_CALL\n",
    "opt_typePut = OptionTypes.EUROPEAN_PUT"
   ]
  },
  {
   "cell_type": "code",
   "execution_count": 6,
   "metadata": {
    "execution": {
     "iopub.execute_input": "2025-08-27T21:46:22.169462Z",
     "iopub.status.busy": "2025-08-27T21:46:22.169280Z",
     "iopub.status.idle": "2025-08-27T21:46:22.171411Z",
     "shell.execute_reply": "2025-08-27T21:46:22.171036Z"
    }
   },
   "outputs": [],
   "source": [
    "lookbackCall = EquityFloatLookbackOption(expiry_dt, opt_typeCall)\n",
    "lookbackPut = EquityFloatLookbackOption(expiry_dt, opt_typePut)"
   ]
  },
  {
   "cell_type": "code",
   "execution_count": 7,
   "metadata": {
    "execution": {
     "iopub.execute_input": "2025-08-27T21:46:22.172900Z",
     "iopub.status.busy": "2025-08-27T21:46:22.172599Z",
     "iopub.status.idle": "2025-08-27T21:46:22.175162Z",
     "shell.execute_reply": "2025-08-27T21:46:22.174715Z"
    }
   },
   "outputs": [
    {
     "name": "stdout",
     "output_type": "stream",
     "text": [
      "OBJECT TYPE: EquityFloatLookbackOption\n",
      "EXPIRY DATE: 01-JAN-2021\n",
      "OPTION TYPE: OptionTypes.EUROPEAN_CALL\n"
     ]
    }
   ],
   "source": [
    "print(lookbackCall)"
   ]
  },
  {
   "cell_type": "code",
   "execution_count": 8,
   "metadata": {
    "execution": {
     "iopub.execute_input": "2025-08-27T21:46:22.176712Z",
     "iopub.status.busy": "2025-08-27T21:46:22.176465Z",
     "iopub.status.idle": "2025-08-27T21:46:22.179039Z",
     "shell.execute_reply": "2025-08-27T21:46:22.178635Z"
    }
   },
   "outputs": [
    {
     "name": "stdout",
     "output_type": "stream",
     "text": [
      "OBJECT TYPE: EquityFloatLookbackOption\n",
      "EXPIRY DATE: 01-JAN-2021\n",
      "OPTION TYPE: OptionTypes.EUROPEAN_PUT\n"
     ]
    }
   ],
   "source": [
    "print(lookbackPut)"
   ]
  },
  {
   "cell_type": "markdown",
   "metadata": {},
   "source": [
    "## Valuation"
   ]
  },
  {
   "cell_type": "code",
   "execution_count": 9,
   "metadata": {
    "execution": {
     "iopub.execute_input": "2025-08-27T21:46:22.180887Z",
     "iopub.status.busy": "2025-08-27T21:46:22.180686Z",
     "iopub.status.idle": "2025-08-27T21:46:22.183036Z",
     "shell.execute_reply": "2025-08-27T21:46:22.182704Z"
    }
   },
   "outputs": [],
   "source": [
    "value_dt = Date(1, 1, 2020)"
   ]
  },
  {
   "cell_type": "code",
   "execution_count": 10,
   "metadata": {
    "execution": {
     "iopub.execute_input": "2025-08-27T21:46:22.184768Z",
     "iopub.status.busy": "2025-08-27T21:46:22.184494Z",
     "iopub.status.idle": "2025-08-27T21:46:22.186529Z",
     "shell.execute_reply": "2025-08-27T21:46:22.186223Z"
    }
   },
   "outputs": [],
   "source": [
    "interest_rate = 0.10"
   ]
  },
  {
   "cell_type": "code",
   "execution_count": 11,
   "metadata": {
    "execution": {
     "iopub.execute_input": "2025-08-27T21:46:22.188100Z",
     "iopub.status.busy": "2025-08-27T21:46:22.187832Z",
     "iopub.status.idle": "2025-08-27T21:46:22.196060Z",
     "shell.execute_reply": "2025-08-27T21:46:22.195686Z"
    }
   },
   "outputs": [],
   "source": [
    "discount_curve = DiscountCurveFlat(value_dt, interest_rate)"
   ]
  },
  {
   "cell_type": "code",
   "execution_count": 12,
   "metadata": {
    "execution": {
     "iopub.execute_input": "2025-08-27T21:46:22.197758Z",
     "iopub.status.busy": "2025-08-27T21:46:22.197575Z",
     "iopub.status.idle": "2025-08-27T21:46:22.199619Z",
     "shell.execute_reply": "2025-08-27T21:46:22.199315Z"
    }
   },
   "outputs": [],
   "source": [
    "dividend_yield = 0.0"
   ]
  },
  {
   "cell_type": "code",
   "execution_count": 13,
   "metadata": {
    "execution": {
     "iopub.execute_input": "2025-08-27T21:46:22.201019Z",
     "iopub.status.busy": "2025-08-27T21:46:22.200829Z",
     "iopub.status.idle": "2025-08-27T21:46:22.203625Z",
     "shell.execute_reply": "2025-08-27T21:46:22.203200Z"
    }
   },
   "outputs": [],
   "source": [
    "dividend_curve = DiscountCurveFlat(value_dt, dividend_yield)"
   ]
  },
  {
   "cell_type": "code",
   "execution_count": 14,
   "metadata": {
    "execution": {
     "iopub.execute_input": "2025-08-27T21:46:22.205095Z",
     "iopub.status.busy": "2025-08-27T21:46:22.204915Z",
     "iopub.status.idle": "2025-08-27T21:46:22.207163Z",
     "shell.execute_reply": "2025-08-27T21:46:22.206787Z"
    }
   },
   "outputs": [],
   "source": [
    "volatility = 0.10"
   ]
  },
  {
   "cell_type": "code",
   "execution_count": 15,
   "metadata": {
    "execution": {
     "iopub.execute_input": "2025-08-27T21:46:22.208900Z",
     "iopub.status.busy": "2025-08-27T21:46:22.208651Z",
     "iopub.status.idle": "2025-08-27T21:46:22.211048Z",
     "shell.execute_reply": "2025-08-27T21:46:22.210701Z"
    }
   },
   "outputs": [],
   "source": [
    "num_paths = 2000\n",
    "num_steps_per_year = 1000"
   ]
  },
  {
   "cell_type": "code",
   "execution_count": 16,
   "metadata": {
    "execution": {
     "iopub.execute_input": "2025-08-27T21:46:22.212879Z",
     "iopub.status.busy": "2025-08-27T21:46:22.212598Z",
     "iopub.status.idle": "2025-08-27T21:46:22.214855Z",
     "shell.execute_reply": "2025-08-27T21:46:22.214542Z"
    }
   },
   "outputs": [],
   "source": [
    "stock_prices = np.linspace(50, 150, 20)"
   ]
  },
  {
   "cell_type": "code",
   "execution_count": 17,
   "metadata": {
    "execution": {
     "iopub.execute_input": "2025-08-27T21:46:22.216406Z",
     "iopub.status.busy": "2025-08-27T21:46:22.216216Z",
     "iopub.status.idle": "2025-08-27T21:46:22.771031Z",
     "shell.execute_reply": "2025-08-27T21:46:22.770543Z"
    }
   },
   "outputs": [],
   "source": [
    "values = []\n",
    "valuesMC = []\n",
    "\n",
    "for stock_price in stock_prices:\n",
    "    stock_min_max = stock_price\n",
    "    v = lookbackCall.value(value_dt, stock_price, discount_curve, dividend_curve,\n",
    "                           volatility, stock_min_max)\n",
    "    v_mc = lookbackCall.value_mc(value_dt, stock_price, discount_curve, dividend_curve,\n",
    "                                volatility, stock_min_max, num_paths, num_steps_per_year)\n",
    "    values.append(v)\n",
    "    valuesMC.append(v_mc)"
   ]
  },
  {
   "cell_type": "code",
   "execution_count": 18,
   "metadata": {
    "execution": {
     "iopub.execute_input": "2025-08-27T21:46:22.773390Z",
     "iopub.status.busy": "2025-08-27T21:46:22.772977Z",
     "iopub.status.idle": "2025-08-27T21:46:22.880322Z",
     "shell.execute_reply": "2025-08-27T21:46:22.879828Z"
    }
   },
   "outputs": [
    {
     "data": {
      "image/png": "[encoded data removed]",
      "text/plain": [
       "<Figure size 640x480 with 1 Axes>"
      ]
     },
     "metadata": {},
     "output_type": "display_data"
    }
   ],
   "source": [
    "plt.plot(stock_prices, values)\n",
    "plt.plot(stock_prices, valuesMC, '.')\n",
    "plt.xlabel(\"Stock Price\")\n",
    "plt.ylabel(\"Value\");"
   ]
  },
  {
   "cell_type": "code",
   "execution_count": 19,
   "metadata": {
    "execution": {
     "iopub.execute_input": "2025-08-27T21:46:22.882295Z",
     "iopub.status.busy": "2025-08-27T21:46:22.882056Z",
     "iopub.status.idle": "2025-08-27T21:46:23.437933Z",
     "shell.execute_reply": "2025-08-27T21:46:23.437425Z"
    }
   },
   "outputs": [],
   "source": [
    "values = []\n",
    "valuesMC = []\n",
    "\n",
    "for stock_price in stock_prices:\n",
    "    stock_min_max = stock_price\n",
    "    v = lookbackPut.value(value_dt, stock_price, discount_curve, dividend_curve,\n",
    "                           volatility, stock_min_max)\n",
    "    v_mc = lookbackPut.value_mc(value_dt, stock_price, discount_curve, dividend_curve,\n",
    "                                volatility, stock_min_max, num_paths, num_steps_per_year)\n",
    "    values.append(v)\n",
    "    valuesMC.append(v_mc)"
   ]
  },
  {
   "cell_type": "code",
   "execution_count": 20,
   "metadata": {
    "execution": {
     "iopub.execute_input": "2025-08-27T21:46:23.440691Z",
     "iopub.status.busy": "2025-08-27T21:46:23.440316Z",
     "iopub.status.idle": "2025-08-27T21:46:23.507097Z",
     "shell.execute_reply": "2025-08-27T21:46:23.506550Z"
    }
   },
   "outputs": [
    {
     "data": {
      "image/png": "[encoded data removed]",
      "text/plain": [
       "<Figure size 640x480 with 1 Axes>"
      ]
     },
     "metadata": {},
     "output_type": "display_data"
    }
   ],
   "source": [
    "plt.plot(stock_prices, values)\n",
    "plt.plot(stock_prices, valuesMC, '.')\n",
    "plt.xlabel(\"Stock Price\")\n",
    "plt.ylabel(\"Value\");"
   ]
  },
  {
   "cell_type": "markdown",
   "metadata": {},
   "source": [
    "Copyright (c) 2020 Dominic O'Kane"
   ]
  }
 ],
 "metadata": {
  "kernelspec": {
   "display_name": "base",
   "language": "python",
   "name": "python3"
  },
  "language_info": {
   "codemirror_mode": {
    "name": "ipython",
    "version": 3
   },
   "file_extension": ".py",
   "mimetype": "text/x-python",
   "name": "python",
   "nbconvert_exporter": "python",
   "pygments_lexer": "ipython3",
   "version": "3.13.5"
  }
 },
 "nbformat": 4,
 "nbformat_minor": 2
}
