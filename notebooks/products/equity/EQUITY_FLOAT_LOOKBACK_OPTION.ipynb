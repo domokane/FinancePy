{
    "cells": [
        {
            "cell_type": "markdown",
            "metadata": {},
            "source": [
                "# EQUITY FLOAT LOOKBACK"
            ]
        },
        {
            "cell_type": "markdown",
            "metadata": {},
            "source": [
                "Valuation and Risk of Equity Float Lookback Options"
            ]
        },
        {
            "cell_type": "code",
            "execution_count": 1,
            "metadata": {
                "execution": {
                    "iopub.execute_input": "2024-04-30T20:05:09.880111Z",
                    "iopub.status.busy": "2024-04-30T20:05:09.879114Z",
                    "iopub.status.idle": "2024-04-30T20:05:10.513699Z",
                    "shell.execute_reply": "2024-04-30T20:05:10.513699Z"
                }
            },
            "outputs": [],
            "source": [
                "import numpy as np\n",
                "import matplotlib.pyplot as plt"
            ]
        },
        {
            "cell_type": "code",
            "execution_count": 2,
            "metadata": {
                "execution": {
                    "iopub.execute_input": "2024-04-30T20:05:10.516696Z",
                    "iopub.status.busy": "2024-04-30T20:05:10.516696Z",
                    "iopub.status.idle": "2024-04-30T20:05:17.046912Z",
                    "shell.execute_reply": "2024-04-30T20:05:17.046912Z"
                }
            },
            "outputs": [
                {
                    "name": "stdout",
                    "output_type": "stream",
                    "text": [
                        "####################################################################\n",
                        "#  FINANCEPY BETA Version 0.350 - This build: 30 Apr 2024 at 21:20 #\n",
                        "#     This software is distributed FREE AND WITHOUT ANY WARRANTY   #\n",
                        "#  Report bugs as issues at https://github.com/domokane/FinancePy  #\n",
                        "####################################################################\n",
                        "\n"
                    ]
                }
            ],
            "source": [
                "from financepy.utils import *\n",
                "from financepy.market.curves import *\n",
                "from financepy.products.equity import *"
            ]
        },
        {
            "cell_type": "markdown",
            "metadata": {},
            "source": [
                "# Fixed Lookback Option"
            ]
        },
        {
            "cell_type": "markdown",
            "metadata": {},
            "source": [
                "I create a fixed lookback call and put option"
            ]
        },
        {
            "cell_type": "code",
            "execution_count": 3,
            "metadata": {
                "execution": {
                    "iopub.execute_input": "2024-04-30T20:05:17.049541Z",
                    "iopub.status.busy": "2024-04-30T20:05:17.049541Z",
                    "iopub.status.idle": "2024-04-30T20:05:17.069471Z",
                    "shell.execute_reply": "2024-04-30T20:05:17.069471Z"
                }
            },
            "outputs": [],
            "source": [
                "expiry_dt = Date(1, 1, 2021)"
            ]
        },
        {
            "cell_type": "code",
            "execution_count": 4,
            "metadata": {
                "execution": {
                    "iopub.execute_input": "2024-04-30T20:05:17.072007Z",
                    "iopub.status.busy": "2024-04-30T20:05:17.072007Z",
                    "iopub.status.idle": "2024-04-30T20:05:17.074655Z",
                    "shell.execute_reply": "2024-04-30T20:05:17.074655Z"
                }
            },
            "outputs": [],
            "source": [
                "strike_price = 105.0"
            ]
        },
        {
            "cell_type": "code",
            "execution_count": 5,
            "metadata": {
                "execution": {
                    "iopub.execute_input": "2024-04-30T20:05:17.076697Z",
                    "iopub.status.busy": "2024-04-30T20:05:17.076697Z",
                    "iopub.status.idle": "2024-04-30T20:05:17.079569Z",
                    "shell.execute_reply": "2024-04-30T20:05:17.079569Z"
                }
            },
            "outputs": [],
            "source": [
                "opt_typeCall = OptionTypes.EUROPEAN_CALL\n",
                "opt_typePut = OptionTypes.EUROPEAN_PUT"
            ]
        },
        {
            "cell_type": "code",
            "execution_count": 6,
            "metadata": {
                "execution": {
                    "iopub.execute_input": "2024-04-30T20:05:17.082132Z",
                    "iopub.status.busy": "2024-04-30T20:05:17.082132Z",
                    "iopub.status.idle": "2024-04-30T20:05:17.084380Z",
                    "shell.execute_reply": "2024-04-30T20:05:17.084380Z"
                }
            },
            "outputs": [],
            "source": [
                "lookbackCall = EquityFloatLookbackOption(expiry_dt, opt_typeCall)\n",
                "lookbackPut = EquityFloatLookbackOption(expiry_dt, opt_typePut)"
            ]
        },
        {
            "cell_type": "code",
            "execution_count": 7,
            "metadata": {
                "execution": {
                    "iopub.execute_input": "2024-04-30T20:05:17.086410Z",
                    "iopub.status.busy": "2024-04-30T20:05:17.086410Z",
                    "iopub.status.idle": "2024-04-30T20:05:17.089620Z",
                    "shell.execute_reply": "2024-04-30T20:05:17.089620Z"
                }
            },
            "outputs": [
                {
                    "name": "stdout",
                    "output_type": "stream",
                    "text": [
                        "OBJECT TYPE: EquityFloatLookbackOption\n",
                        "EXPIRY DATE: 01-JAN-2021\n",
                        "OPTION TYPE: OptionTypes.EUROPEAN_CALL\n"
                    ]
                }
            ],
            "source": [
                "print(lookbackCall)"
            ]
        },
        {
            "cell_type": "code",
            "execution_count": 8,
            "metadata": {
                "execution": {
                    "iopub.execute_input": "2024-04-30T20:05:17.092275Z",
                    "iopub.status.busy": "2024-04-30T20:05:17.091246Z",
                    "iopub.status.idle": "2024-04-30T20:05:17.095063Z",
                    "shell.execute_reply": "2024-04-30T20:05:17.094833Z"
                }
            },
            "outputs": [
                {
                    "name": "stdout",
                    "output_type": "stream",
                    "text": [
                        "OBJECT TYPE: EquityFloatLookbackOption\n",
                        "EXPIRY DATE: 01-JAN-2021\n",
                        "OPTION TYPE: OptionTypes.EUROPEAN_PUT\n"
                    ]
                }
            ],
            "source": [
                "print(lookbackPut)"
            ]
        },
        {
            "cell_type": "markdown",
            "metadata": {},
            "source": [
                "## Valuation"
            ]
        },
        {
            "cell_type": "code",
            "execution_count": 9,
            "metadata": {
                "execution": {
                    "iopub.execute_input": "2024-04-30T20:05:17.097593Z",
                    "iopub.status.busy": "2024-04-30T20:05:17.096569Z",
                    "iopub.status.idle": "2024-04-30T20:05:17.099876Z",
                    "shell.execute_reply": "2024-04-30T20:05:17.099876Z"
                }
            },
            "outputs": [],
            "source": [
                "value_dt = Date(1, 1, 2020)"
            ]
        },
        {
            "cell_type": "code",
            "execution_count": 10,
            "metadata": {
                "execution": {
                    "iopub.execute_input": "2024-04-30T20:05:17.102496Z",
                    "iopub.status.busy": "2024-04-30T20:05:17.101468Z",
                    "iopub.status.idle": "2024-04-30T20:05:17.104914Z",
                    "shell.execute_reply": "2024-04-30T20:05:17.104684Z"
                }
            },
            "outputs": [],
            "source": [
                "interest_rate = 0.10"
            ]
        },
        {
            "cell_type": "code",
            "execution_count": 11,
            "metadata": {
                "execution": {
                    "iopub.execute_input": "2024-04-30T20:05:17.106912Z",
                    "iopub.status.busy": "2024-04-30T20:05:17.106912Z",
                    "iopub.status.idle": "2024-04-30T20:05:17.115712Z",
                    "shell.execute_reply": "2024-04-30T20:05:17.115712Z"
                }
            },
            "outputs": [],
            "source": [
                "discount_curve = DiscountCurveFlat(value_dt, interest_rate)"
            ]
        },
        {
            "cell_type": "code",
            "execution_count": 12,
            "metadata": {
                "execution": {
                    "iopub.execute_input": "2024-04-30T20:05:17.118256Z",
                    "iopub.status.busy": "2024-04-30T20:05:17.118256Z",
                    "iopub.status.idle": "2024-04-30T20:05:17.120663Z",
                    "shell.execute_reply": "2024-04-30T20:05:17.120663Z"
                }
            },
            "outputs": [],
            "source": [
                "dividend_yield = 0.0"
            ]
        },
        {
            "cell_type": "code",
            "execution_count": 13,
            "metadata": {
                "execution": {
                    "iopub.execute_input": "2024-04-30T20:05:17.123315Z",
                    "iopub.status.busy": "2024-04-30T20:05:17.122288Z",
                    "iopub.status.idle": "2024-04-30T20:05:17.127076Z",
                    "shell.execute_reply": "2024-04-30T20:05:17.126386Z"
                }
            },
            "outputs": [],
            "source": [
                "dividend_curve = DiscountCurveFlat(value_dt, dividend_yield)"
            ]
        },
        {
            "cell_type": "code",
            "execution_count": 14,
            "metadata": {
                "execution": {
                    "iopub.execute_input": "2024-04-30T20:05:17.129082Z",
                    "iopub.status.busy": "2024-04-30T20:05:17.129082Z",
                    "iopub.status.idle": "2024-04-30T20:05:17.132414Z",
                    "shell.execute_reply": "2024-04-30T20:05:17.131849Z"
                }
            },
            "outputs": [],
            "source": [
                "volatility = 0.10"
            ]
        },
        {
            "cell_type": "code",
            "execution_count": 15,
            "metadata": {
                "execution": {
                    "iopub.execute_input": "2024-04-30T20:05:17.134443Z",
                    "iopub.status.busy": "2024-04-30T20:05:17.134443Z",
                    "iopub.status.idle": "2024-04-30T20:05:17.137047Z",
                    "shell.execute_reply": "2024-04-30T20:05:17.136819Z"
                }
            },
            "outputs": [],
            "source": [
                "num_paths = 2000\n",
                "num_steps_per_year = 1000"
            ]
        },
        {
            "cell_type": "code",
            "execution_count": 16,
            "metadata": {
                "execution": {
                    "iopub.execute_input": "2024-04-30T20:05:17.139046Z",
                    "iopub.status.busy": "2024-04-30T20:05:17.139046Z",
                    "iopub.status.idle": "2024-04-30T20:05:17.142547Z",
                    "shell.execute_reply": "2024-04-30T20:05:17.141971Z"
                }
            },
            "outputs": [],
            "source": [
                "stock_prices = np.linspace(50, 150, 20)"
            ]
        },
        {
            "cell_type": "code",
            "execution_count": 17,
            "metadata": {
                "execution": {
                    "iopub.execute_input": "2024-04-30T20:05:17.144574Z",
                    "iopub.status.busy": "2024-04-30T20:05:17.144574Z",
                    "iopub.status.idle": "2024-04-30T20:05:18.764985Z",
                    "shell.execute_reply": "2024-04-30T20:05:18.764985Z"
                }
            },
            "outputs": [],
            "source": [
                "values = []\n",
                "valuesMC = []\n",
                "\n",
                "for stock_price in stock_prices:\n",
                "    stock_min_max = stock_price\n",
                "    v = lookbackCall.value(value_dt, stock_price, discount_curve, dividend_curve,\n",
                "                           volatility, stock_min_max)\n",
                "    v_mc = lookbackCall.value_mc(value_dt, stock_price, discount_curve, dividend_curve, \n",
                "                                volatility, stock_min_max, num_paths, num_steps_per_year)\n",
                "    values.append(v)\n",
                "    valuesMC.append(v_mc)"
            ]
        },
        {
            "cell_type": "code",
            "execution_count": 18,
            "metadata": {
                "execution": {
                    "iopub.execute_input": "2024-04-30T20:05:18.768014Z",
                    "iopub.status.busy": "2024-04-30T20:05:18.767017Z",
                    "iopub.status.idle": "2024-04-30T20:05:18.929328Z",
                    "shell.execute_reply": "2024-04-30T20:05:18.929328Z"
                }
            },
            "outputs": [
                {
                    "data": {
                        "image/png": "[encoded data removed]",
                        "text/plain": [
                            "<Figure size 640x480 with 1 Axes>"
                        ]
                    },
                    "metadata": {},
                    "output_type": "display_data"
                }
            ],
            "source": [
                "plt.plot(stock_prices, values)\n",
                "plt.plot(stock_prices, valuesMC, '.')\n",
                "plt.xlabel(\"Stock Price\")\n",
                "plt.ylabel(\"Value\");"
            ]
        },
        {
            "cell_type": "code",
            "execution_count": 19,
            "metadata": {
                "execution": {
                    "iopub.execute_input": "2024-04-30T20:05:18.931865Z",
                    "iopub.status.busy": "2024-04-30T20:05:18.931865Z",
                    "iopub.status.idle": "2024-04-30T20:05:20.600676Z",
                    "shell.execute_reply": "2024-04-30T20:05:20.600676Z"
                }
            },
            "outputs": [],
            "source": [
                "values = []\n",
                "valuesMC = []\n",
                "\n",
                "for stock_price in stock_prices:\n",
                "    stock_min_max = stock_price\n",
                "    v = lookbackPut.value(value_dt, stock_price, discount_curve, dividend_curve,\n",
                "                           volatility, stock_min_max)\n",
                "    v_mc = lookbackPut.value_mc(value_dt, stock_price, discount_curve, dividend_curve, \n",
                "                                volatility, stock_min_max, num_paths, num_steps_per_year)\n",
                "    values.append(v)\n",
                "    valuesMC.append(v_mc)"
            ]
        },
        {
            "cell_type": "code",
            "execution_count": 20,
            "metadata": {
                "execution": {
                    "iopub.execute_input": "2024-04-30T20:05:20.604214Z",
                    "iopub.status.busy": "2024-04-30T20:05:20.604214Z",
                    "iopub.status.idle": "2024-04-30T20:05:20.724238Z",
                    "shell.execute_reply": "2024-04-30T20:05:20.724238Z"
                }
            },
            "outputs": [
                {
                    "data": {
                        "image/png": "[encoded data removed]",
                        "text/plain": [
                            "<Figure size 640x480 with 1 Axes>"
                        ]
                    },
                    "metadata": {},
                    "output_type": "display_data"
                }
            ],
            "source": [
                "plt.plot(stock_prices, values)\n",
                "plt.plot(stock_prices, valuesMC, '.')\n",
                "plt.xlabel(\"Stock Price\")\n",
                "plt.ylabel(\"Value\");"
            ]
        },
        {
            "cell_type": "markdown",
            "metadata": {},
            "source": [
                "Copyright (c) 2020 Dominic O'Kane"
            ]
        }
    ],
    "metadata": {
        "kernelspec": {
            "display_name": "Python 3",
            "language": "python",
            "name": "python3"
        },
        "language_info": {
            "codemirror_mode": {
                "name": "ipython",
                "version": 3
            },
            "file_extension": ".py",
            "mimetype": "text/x-python",
            "name": "python",
            "nbconvert_exporter": "python",
            "pygments_lexer": "ipython3",
            "version": "3.11.5"
        }
    },
    "nbformat": 4,
    "nbformat_minor": 2
}