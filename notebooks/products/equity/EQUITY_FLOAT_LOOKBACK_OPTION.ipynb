{
 "cells": [
  {
   "cell_type": "markdown",
   "metadata": {},
   "source": [
    "# EQUITY FLOAT LOOKBACK"
   ]
  },
  {
   "cell_type": "markdown",
   "metadata": {},
   "source": [
    "Valuation and Risk of Equity Float Lookback Options"
   ]
  },
  {
   "cell_type": "code",
   "execution_count": 1,
   "metadata": {
    "execution": {
     "iopub.execute_input": "2025-09-14T22:23:02.318697Z",
     "iopub.status.busy": "2025-09-14T22:23:02.318572Z",
     "iopub.status.idle": "2025-09-14T22:23:02.542859Z",
     "shell.execute_reply": "2025-09-14T22:23:02.542479Z"
    }
   },
   "outputs": [],
   "source": [
    "import numpy as np\n",
    "import matplotlib.pyplot as plt"
   ]
  },
  {
   "cell_type": "code",
   "execution_count": 2,
   "metadata": {
    "execution": {
     "iopub.execute_input": "2025-09-14T22:23:02.544551Z",
     "iopub.status.busy": "2025-09-14T22:23:02.544388Z",
     "iopub.status.idle": "2025-09-14T22:23:04.526088Z",
     "shell.execute_reply": "2025-09-14T22:23:04.525586Z"
    }
   },
   "outputs": [],
   "source": [
    "from financepy.utils import *\n",
    "from financepy.market.curves import *\n",
    "from financepy.products.equity import *"
   ]
  },
  {
   "cell_type": "markdown",
   "metadata": {},
   "source": [
    "# Fixed Lookback Option"
   ]
  },
  {
   "cell_type": "markdown",
   "metadata": {},
   "source": [
    "I create a fixed lookback call and put option"
   ]
  },
  {
   "cell_type": "code",
   "execution_count": 3,
   "metadata": {
    "execution": {
     "iopub.execute_input": "2025-09-14T22:23:04.527798Z",
     "iopub.status.busy": "2025-09-14T22:23:04.527565Z",
     "iopub.status.idle": "2025-09-14T22:23:04.544710Z",
     "shell.execute_reply": "2025-09-14T22:23:04.544311Z"
    }
   },
   "outputs": [],
   "source": [
    "expiry_dt = Date(1, 1, 2021)"
   ]
  },
  {
   "cell_type": "code",
   "execution_count": 4,
   "metadata": {
    "execution": {
     "iopub.execute_input": "2025-09-14T22:23:04.545976Z",
     "iopub.status.busy": "2025-09-14T22:23:04.545841Z",
     "iopub.status.idle": "2025-09-14T22:23:04.547826Z",
     "shell.execute_reply": "2025-09-14T22:23:04.547600Z"
    }
   },
   "outputs": [],
   "source": [
    "strike_price = 105.0"
   ]
  },
  {
   "cell_type": "code",
   "execution_count": 5,
   "metadata": {
    "execution": {
     "iopub.execute_input": "2025-09-14T22:23:04.548844Z",
     "iopub.status.busy": "2025-09-14T22:23:04.548709Z",
     "iopub.status.idle": "2025-09-14T22:23:04.550737Z",
     "shell.execute_reply": "2025-09-14T22:23:04.550434Z"
    }
   },
   "outputs": [],
   "source": [
    "opt_typeCall = OptionTypes.EUROPEAN_CALL\n",
    "opt_typePut = OptionTypes.EUROPEAN_PUT"
   ]
  },
  {
   "cell_type": "code",
   "execution_count": 6,
   "metadata": {
    "execution": {
     "iopub.execute_input": "2025-09-14T22:23:04.551588Z",
     "iopub.status.busy": "2025-09-14T22:23:04.551473Z",
     "iopub.status.idle": "2025-09-14T22:23:04.553783Z",
     "shell.execute_reply": "2025-09-14T22:23:04.553447Z"
    }
   },
   "outputs": [],
   "source": [
    "lookbackCall = EquityFloatLookbackOption(expiry_dt, opt_typeCall)\n",
    "lookbackPut = EquityFloatLookbackOption(expiry_dt, opt_typePut)"
   ]
  },
  {
   "cell_type": "code",
   "execution_count": 7,
   "metadata": {
    "execution": {
     "iopub.execute_input": "2025-09-14T22:23:04.554773Z",
     "iopub.status.busy": "2025-09-14T22:23:04.554653Z",
     "iopub.status.idle": "2025-09-14T22:23:04.558001Z",
     "shell.execute_reply": "2025-09-14T22:23:04.557746Z"
    }
   },
   "outputs": [
    {
     "name": "stdout",
     "output_type": "stream",
     "text": [
      "OBJECT TYPE: EquityFloatLookbackOption\n",
      "EXPIRY DATE: 01-JAN-2021\n",
      "OPTION TYPE: OptionTypes.EUROPEAN_CALL\n"
     ]
    }
   ],
   "source": [
    "print(lookbackCall)"
   ]
  },
  {
   "cell_type": "code",
   "execution_count": 8,
   "metadata": {
    "execution": {
     "iopub.execute_input": "2025-09-14T22:23:04.558870Z",
     "iopub.status.busy": "2025-09-14T22:23:04.558748Z",
     "iopub.status.idle": "2025-09-14T22:23:04.561212Z",
     "shell.execute_reply": "2025-09-14T22:23:04.560897Z"
    }
   },
   "outputs": [
    {
     "name": "stdout",
     "output_type": "stream",
     "text": [
      "OBJECT TYPE: EquityFloatLookbackOption\n",
      "EXPIRY DATE: 01-JAN-2021\n",
      "OPTION TYPE: OptionTypes.EUROPEAN_PUT\n"
     ]
    }
   ],
   "source": [
    "print(lookbackPut)"
   ]
  },
  {
   "cell_type": "markdown",
   "metadata": {},
   "source": [
    "## Valuation"
   ]
  },
  {
   "cell_type": "code",
   "execution_count": 9,
   "metadata": {
    "execution": {
     "iopub.execute_input": "2025-09-14T22:23:04.562374Z",
     "iopub.status.busy": "2025-09-14T22:23:04.562266Z",
     "iopub.status.idle": "2025-09-14T22:23:04.564243Z",
     "shell.execute_reply": "2025-09-14T22:23:04.564052Z"
    }
   },
   "outputs": [],
   "source": [
    "value_dt = Date(1, 1, 2020)"
   ]
  },
  {
   "cell_type": "code",
   "execution_count": 10,
   "metadata": {
    "execution": {
     "iopub.execute_input": "2025-09-14T22:23:04.565163Z",
     "iopub.status.busy": "2025-09-14T22:23:04.565044Z",
     "iopub.status.idle": "2025-09-14T22:23:04.566806Z",
     "shell.execute_reply": "2025-09-14T22:23:04.566551Z"
    }
   },
   "outputs": [],
   "source": [
    "interest_rate = 0.10"
   ]
  },
  {
   "cell_type": "code",
   "execution_count": 11,
   "metadata": {
    "execution": {
     "iopub.execute_input": "2025-09-14T22:23:04.567642Z",
     "iopub.status.busy": "2025-09-14T22:23:04.567525Z",
     "iopub.status.idle": "2025-09-14T22:23:04.577318Z",
     "shell.execute_reply": "2025-09-14T22:23:04.576926Z"
    }
   },
   "outputs": [],
   "source": [
    "discount_curve = DiscountCurveFlat(value_dt, interest_rate)"
   ]
  },
  {
   "cell_type": "code",
   "execution_count": 12,
   "metadata": {
    "execution": {
     "iopub.execute_input": "2025-09-14T22:23:04.578559Z",
     "iopub.status.busy": "2025-09-14T22:23:04.578416Z",
     "iopub.status.idle": "2025-09-14T22:23:04.581118Z",
     "shell.execute_reply": "2025-09-14T22:23:04.580837Z"
    }
   },
   "outputs": [],
   "source": [
    "dividend_yield = 0.0"
   ]
  },
  {
   "cell_type": "code",
   "execution_count": 13,
   "metadata": {
    "execution": {
     "iopub.execute_input": "2025-09-14T22:23:04.582082Z",
     "iopub.status.busy": "2025-09-14T22:23:04.581965Z",
     "iopub.status.idle": "2025-09-14T22:23:04.584153Z",
     "shell.execute_reply": "2025-09-14T22:23:04.583874Z"
    }
   },
   "outputs": [],
   "source": [
    "dividend_curve = DiscountCurveFlat(value_dt, dividend_yield)"
   ]
  },
  {
   "cell_type": "code",
   "execution_count": 14,
   "metadata": {
    "execution": {
     "iopub.execute_input": "2025-09-14T22:23:04.585103Z",
     "iopub.status.busy": "2025-09-14T22:23:04.584992Z",
     "iopub.status.idle": "2025-09-14T22:23:04.587303Z",
     "shell.execute_reply": "2025-09-14T22:23:04.586888Z"
    }
   },
   "outputs": [],
   "source": [
    "volatility = 0.10"
   ]
  },
  {
   "cell_type": "code",
   "execution_count": 15,
   "metadata": {
    "execution": {
     "iopub.execute_input": "2025-09-14T22:23:04.588886Z",
     "iopub.status.busy": "2025-09-14T22:23:04.588579Z",
     "iopub.status.idle": "2025-09-14T22:23:04.590732Z",
     "shell.execute_reply": "2025-09-14T22:23:04.590344Z"
    }
   },
   "outputs": [],
   "source": [
    "num_paths = 2000\n",
    "num_steps_per_year = 1000"
   ]
  },
  {
   "cell_type": "code",
   "execution_count": 16,
   "metadata": {
    "execution": {
     "iopub.execute_input": "2025-09-14T22:23:04.592555Z",
     "iopub.status.busy": "2025-09-14T22:23:04.592173Z",
     "iopub.status.idle": "2025-09-14T22:23:04.594531Z",
     "shell.execute_reply": "2025-09-14T22:23:04.594274Z"
    }
   },
   "outputs": [],
   "source": [
    "stock_prices = np.linspace(50, 150, 20)"
   ]
  },
  {
   "cell_type": "code",
   "execution_count": 17,
   "metadata": {
    "execution": {
     "iopub.execute_input": "2025-09-14T22:23:04.595957Z",
     "iopub.status.busy": "2025-09-14T22:23:04.595653Z",
     "iopub.status.idle": "2025-09-14T22:23:05.002325Z",
     "shell.execute_reply": "2025-09-14T22:23:05.001840Z"
    }
   },
   "outputs": [],
   "source": [
    "values = []\n",
    "valuesMC = []\n",
    "\n",
    "for stock_price in stock_prices:\n",
    "    stock_min_max = stock_price\n",
    "    v = lookbackCall.value(value_dt, stock_price, discount_curve, dividend_curve,\n",
    "                           volatility, stock_min_max)\n",
    "    v_mc = lookbackCall.value_mc(value_dt, stock_price, discount_curve, dividend_curve,\n",
    "                                volatility, stock_min_max, num_paths, num_steps_per_year)\n",
    "    values.append(v)\n",
    "    valuesMC.append(v_mc)"
   ]
  },
  {
   "cell_type": "code",
   "execution_count": 18,
   "metadata": {
    "execution": {
     "iopub.execute_input": "2025-09-14T22:23:05.004181Z",
     "iopub.status.busy": "2025-09-14T22:23:05.004020Z",
     "iopub.status.idle": "2025-09-14T22:23:05.059832Z",
     "shell.execute_reply": "2025-09-14T22:23:05.059401Z"
    }
   },
   "outputs": [
    {
     "data": {
      "image/png": "[encoded data removed]",
      "text/plain": [
       "<Figure size 640x480 with 1 Axes>"
      ]
     },
     "metadata": {},
     "output_type": "display_data"
    }
   ],
   "source": [
    "plt.plot(stock_prices, values)\n",
    "plt.plot(stock_prices, valuesMC, '.')\n",
    "plt.xlabel(\"Stock Price\")\n",
    "plt.ylabel(\"Value\");"
   ]
  },
  {
   "cell_type": "code",
   "execution_count": 19,
   "metadata": {
    "execution": {
     "iopub.execute_input": "2025-09-14T22:23:05.061191Z",
     "iopub.status.busy": "2025-09-14T22:23:05.061067Z",
     "iopub.status.idle": "2025-09-14T22:23:05.448238Z",
     "shell.execute_reply": "2025-09-14T22:23:05.447884Z"
    }
   },
   "outputs": [],
   "source": [
    "values = []\n",
    "valuesMC = []\n",
    "\n",
    "for stock_price in stock_prices:\n",
    "    stock_min_max = stock_price\n",
    "    v = lookbackPut.value(value_dt, stock_price, discount_curve, dividend_curve,\n",
    "                           volatility, stock_min_max)\n",
    "    v_mc = lookbackPut.value_mc(value_dt, stock_price, discount_curve, dividend_curve,\n",
    "                                volatility, stock_min_max, num_paths, num_steps_per_year)\n",
    "    values.append(v)\n",
    "    valuesMC.append(v_mc)"
   ]
  },
  {
   "cell_type": "code",
   "execution_count": 20,
   "metadata": {
    "execution": {
     "iopub.execute_input": "2025-09-14T22:23:05.449923Z",
     "iopub.status.busy": "2025-09-14T22:23:05.449781Z",
     "iopub.status.idle": "2025-09-14T22:23:05.488279Z",
     "shell.execute_reply": "2025-09-14T22:23:05.487345Z"
    }
   },
   "outputs": [
    {
     "data": {
      "image/png": "[encoded data removed]",
      "text/plain": [
       "<Figure size 640x480 with 1 Axes>"
      ]
     },
     "metadata": {},
     "output_type": "display_data"
    }
   ],
   "source": [
    "plt.plot(stock_prices, values)\n",
    "plt.plot(stock_prices, valuesMC, '.')\n",
    "plt.xlabel(\"Stock Price\")\n",
    "plt.ylabel(\"Value\");"
   ]
  },
  {
   "cell_type": "markdown",
   "metadata": {},
   "source": [
    "Copyright (c) 2020 Dominic O'Kane"
   ]
  }
 ],
 "metadata": {
  "kernelspec": {
   "display_name": "base",
   "language": "python",
   "name": "python3"
  },
  "language_info": {
   "codemirror_mode": {
    "name": "ipython",
    "version": 3
   },
   "file_extension": ".py",
   "mimetype": "text/x-python",
   "name": "python",
   "nbconvert_exporter": "python",
   "pygments_lexer": "ipython3",
   "version": "3.13.7"
  }
 },
 "nbformat": 4,
 "nbformat_minor": 2
}
