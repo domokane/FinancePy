{
 "cells": [
  {
   "cell_type": "markdown",
   "metadata": {},
   "source": [
    "# FIXED COUPON BOND - QL EXAMPLE"
   ]
  },
  {
   "cell_type": "markdown",
   "metadata": {},
   "source": [
    "This is a based on example in http://gouthamanbalaraman.com/blog/quantlib-bond-modeling.html"
   ]
  },
  {
   "cell_type": "code",
   "execution_count": 1,
   "metadata": {
    "execution": {
     "iopub.execute_input": "2025-08-27T21:41:25.715984Z",
     "iopub.status.busy": "2025-08-27T21:41:25.715650Z",
     "iopub.status.idle": "2025-08-27T21:41:26.230911Z",
     "shell.execute_reply": "2025-08-27T21:41:26.230473Z"
    }
   },
   "outputs": [],
   "source": [
    "import numpy as np\n",
    "import matplotlib.pyplot as plt"
   ]
  },
  {
   "cell_type": "code",
   "execution_count": 2,
   "metadata": {
    "execution": {
     "iopub.execute_input": "2025-08-27T21:41:26.233249Z",
     "iopub.status.busy": "2025-08-27T21:41:26.232941Z",
     "iopub.status.idle": "2025-08-27T21:41:27.325018Z",
     "shell.execute_reply": "2025-08-27T21:41:27.324458Z"
    }
   },
   "outputs": [
    {
     "name": "stdout",
     "output_type": "stream",
     "text": [
      "####################################################################\n",
      "#    FINANCEPY Version 1.1 - This build: 27 Aug 2025 at 23:27      #\n",
      "#     This software is distributed FREE AND WITHOUT ANY WARRANTY   #\n",
      "#  Report bugs as issues at https://github.com/domokane/FinancePy  #\n",
      "####################################################################\n",
      "\n"
     ]
    }
   ],
   "source": [
    "from financepy.utils import *\n",
    "from financepy.products.bonds.bond import *\n",
    "from financepy.market.curves.discount_curve_zeros import *"
   ]
  },
  {
   "cell_type": "markdown",
   "metadata": {},
   "source": [
    "# Define the Bond"
   ]
  },
  {
   "cell_type": "code",
   "execution_count": 3,
   "metadata": {
    "execution": {
     "iopub.execute_input": "2025-08-27T21:41:27.327632Z",
     "iopub.status.busy": "2025-08-27T21:41:27.327264Z",
     "iopub.status.idle": "2025-08-27T21:41:27.347185Z",
     "shell.execute_reply": "2025-08-27T21:41:27.346690Z"
    }
   },
   "outputs": [],
   "source": [
    "issue_dt = Date(15, 1, 2010)\n",
    "maturity_dt = Date(15, 1, 2016)\n",
    "coupon = 0.06\n",
    "freq_type = FrequencyTypes.SEMI_ANNUAL\n",
    "dc_type = DayCountTypes.THIRTY_360_BOND\n",
    "face = ONE_MILLION"
   ]
  },
  {
   "cell_type": "code",
   "execution_count": 4,
   "metadata": {
    "execution": {
     "iopub.execute_input": "2025-08-27T21:41:27.350365Z",
     "iopub.status.busy": "2025-08-27T21:41:27.350009Z",
     "iopub.status.idle": "2025-08-27T21:41:27.353947Z",
     "shell.execute_reply": "2025-08-27T21:41:27.353412Z"
    }
   },
   "outputs": [],
   "source": [
    "bond = Bond(issue_dt, maturity_dt, coupon, freq_type, dc_type)"
   ]
  },
  {
   "cell_type": "code",
   "execution_count": 5,
   "metadata": {
    "execution": {
     "iopub.execute_input": "2025-08-27T21:41:27.356189Z",
     "iopub.status.busy": "2025-08-27T21:41:27.355912Z",
     "iopub.status.idle": "2025-08-27T21:41:27.359103Z",
     "shell.execute_reply": "2025-08-27T21:41:27.358578Z"
    }
   },
   "outputs": [
    {
     "name": "stdout",
     "output_type": "stream",
     "text": [
      "OBJECT TYPE: Bond\n",
      "ISSUE DATE: 15-JAN-2010\n",
      "MATURITY DATE: 15-JAN-2016\n",
      "COUPON (%): 6.0\n",
      "FREQUENCY: FrequencyTypes.SEMI_ANNUAL\n",
      "DAY COUNT TYPE: DayCountTypes.THIRTY_360_BOND\n",
      "EX_DIV DAYS: 0\n"
     ]
    }
   ],
   "source": [
    "print(bond)"
   ]
  },
  {
   "cell_type": "markdown",
   "metadata": {},
   "source": [
    "To see the cash flows we first need to set the settlement date of the bond. "
   ]
  },
  {
   "cell_type": "code",
   "execution_count": 6,
   "metadata": {
    "execution": {
     "iopub.execute_input": "2025-08-27T21:41:27.360996Z",
     "iopub.status.busy": "2025-08-27T21:41:27.360731Z",
     "iopub.status.idle": "2025-08-27T21:41:27.363561Z",
     "shell.execute_reply": "2025-08-27T21:41:27.363113Z"
    }
   },
   "outputs": [],
   "source": [
    "settle_dt = Date(15, 1, 2015)"
   ]
  },
  {
   "cell_type": "code",
   "execution_count": 7,
   "metadata": {
    "execution": {
     "iopub.execute_input": "2025-08-27T21:41:27.365389Z",
     "iopub.status.busy": "2025-08-27T21:41:27.365159Z",
     "iopub.status.idle": "2025-08-27T21:41:27.368215Z",
     "shell.execute_reply": "2025-08-27T21:41:27.367657Z"
    }
   },
   "outputs": [
    {
     "name": "stdout",
     "output_type": "stream",
     "text": [
      " 15-JUL-2015  30000.00000 \n",
      " 15-JAN-2016 1030000.00000 \n",
      "\n"
     ]
    }
   ],
   "source": [
    "bond.print_payments(settle_dt, face)"
   ]
  },
  {
   "cell_type": "markdown",
   "metadata": {},
   "source": [
    "## Discounting Bond Flows"
   ]
  },
  {
   "cell_type": "markdown",
   "metadata": {},
   "source": [
    "We wish to define a zero rate curve. For this we need the dates and values of the zero rates."
   ]
  },
  {
   "cell_type": "code",
   "execution_count": 8,
   "metadata": {
    "execution": {
     "iopub.execute_input": "2025-08-27T21:41:27.370333Z",
     "iopub.status.busy": "2025-08-27T21:41:27.370074Z",
     "iopub.status.idle": "2025-08-27T21:41:27.373132Z",
     "shell.execute_reply": "2025-08-27T21:41:27.372629Z"
    }
   },
   "outputs": [],
   "source": [
    "zero_dts = [Date(15,1,2015), Date(15,7,2015), Date(15,1,2016)]\n",
    "zero_rates = [0.00, 0.005, 0.007]"
   ]
  },
  {
   "cell_type": "code",
   "execution_count": 9,
   "metadata": {
    "execution": {
     "iopub.execute_input": "2025-08-27T21:41:27.375178Z",
     "iopub.status.busy": "2025-08-27T21:41:27.374987Z",
     "iopub.status.idle": "2025-08-27T21:41:27.378277Z",
     "shell.execute_reply": "2025-08-27T21:41:27.377806Z"
    }
   },
   "outputs": [],
   "source": [
    "discount_curve = DiscountCurveZeros(settle_dt, zero_dts, zero_rates,\n",
    "                                      FrequencyTypes.ANNUAL,\n",
    "                                      DayCountTypes.THIRTY_360_BOND)"
   ]
  },
  {
   "cell_type": "code",
   "execution_count": 10,
   "metadata": {
    "execution": {
     "iopub.execute_input": "2025-08-27T21:41:27.380882Z",
     "iopub.status.busy": "2025-08-27T21:41:27.380629Z",
     "iopub.status.idle": "2025-08-27T21:41:27.383532Z",
     "shell.execute_reply": "2025-08-27T21:41:27.383034Z"
    }
   },
   "outputs": [
    {
     "name": "stdout",
     "output_type": "stream",
     "text": [
      "OBJECT TYPE: DiscountCurveZeros\n",
      "VALUATION DATE: 15-JAN-2015\n",
      "FREQUENCY TYPE: FrequencyTypes.ANNUAL\n",
      "DAY COUNT TYPE: DayCountTypes.THIRTY_360_BOND\n",
      "INTERP TYPE: InterpTypes.FLAT_FWD_RATES\n",
      "DATES: ZERO RATES\n",
      " 15-JAN-2015:  0.0000000\n",
      " 15-JUL-2015:  0.0050000\n",
      " 15-JAN-2016:  0.0070000\n",
      "\n"
     ]
    }
   ],
   "source": [
    "print(discount_curve)"
   ]
  },
  {
   "cell_type": "code",
   "execution_count": 11,
   "metadata": {
    "execution": {
     "iopub.execute_input": "2025-08-27T21:41:27.385623Z",
     "iopub.status.busy": "2025-08-27T21:41:27.385366Z",
     "iopub.status.idle": "2025-08-27T21:41:27.391993Z",
     "shell.execute_reply": "2025-08-27T21:41:27.391557Z"
    }
   },
   "outputs": [
    {
     "data": {
      "text/plain": [
       "array([0. , 0.5, 1. ])"
      ]
     },
     "execution_count": 11,
     "metadata": {},
     "output_type": "execute_result"
    }
   ],
   "source": [
    "discount_curve.times"
   ]
  },
  {
   "cell_type": "code",
   "execution_count": 12,
   "metadata": {
    "execution": {
     "iopub.execute_input": "2025-08-27T21:41:27.394154Z",
     "iopub.status.busy": "2025-08-27T21:41:27.393901Z",
     "iopub.status.idle": "2025-08-27T21:41:27.397732Z",
     "shell.execute_reply": "2025-08-27T21:41:27.397317Z"
    }
   },
   "outputs": [
    {
     "data": {
      "text/plain": [
       "array([1.        , 0.99750934, 0.99304866])"
      ]
     },
     "execution_count": 12,
     "metadata": {},
     "output_type": "execute_result"
    }
   ],
   "source": [
    "discount_curve._dfs"
   ]
  },
  {
   "cell_type": "code",
   "execution_count": 13,
   "metadata": {
    "execution": {
     "iopub.execute_input": "2025-08-27T21:41:27.400127Z",
     "iopub.status.busy": "2025-08-27T21:41:27.399828Z",
     "iopub.status.idle": "2025-08-27T21:41:27.402888Z",
     "shell.execute_reply": "2025-08-27T21:41:27.402490Z"
    }
   },
   "outputs": [
    {
     "name": "stdout",
     "output_type": "stream",
     "text": [
      " 15-JUL-2015      3.00000 \n",
      " 15-JAN-2016    103.00000 \n",
      "\n"
     ]
    }
   ],
   "source": [
    "bond.print_payments(settle_dt)"
   ]
  },
  {
   "cell_type": "code",
   "execution_count": 14,
   "metadata": {
    "execution": {
     "iopub.execute_input": "2025-08-27T21:41:27.404703Z",
     "iopub.status.busy": "2025-08-27T21:41:27.404496Z",
     "iopub.status.idle": "2025-08-27T21:41:27.407750Z",
     "shell.execute_reply": "2025-08-27T21:41:27.407290Z"
    }
   },
   "outputs": [
    {
     "data": {
      "text/plain": [
       "1.0"
      ]
     },
     "execution_count": 14,
     "metadata": {},
     "output_type": "execute_result"
    }
   ],
   "source": [
    "discount_curve.df(settle_dt)"
   ]
  },
  {
   "cell_type": "code",
   "execution_count": 15,
   "metadata": {
    "execution": {
     "iopub.execute_input": "2025-08-27T21:41:27.409517Z",
     "iopub.status.busy": "2025-08-27T21:41:27.409309Z",
     "iopub.status.idle": "2025-08-27T21:41:27.412677Z",
     "shell.execute_reply": "2025-08-27T21:41:27.412261Z"
    }
   },
   "outputs": [
    {
     "data": {
      "text/plain": [
       "[0.0, 0.03, 0.03, 0.03, 0.03, 0.03, 0.03, 0.03, 0.03, 0.03, 0.03, 0.03, 0.03]"
      ]
     },
     "execution_count": 15,
     "metadata": {},
     "output_type": "execute_result"
    }
   ],
   "source": [
    "bond.flow_amounts"
   ]
  },
  {
   "cell_type": "code",
   "execution_count": 16,
   "metadata": {
    "execution": {
     "iopub.execute_input": "2025-08-27T21:41:27.414944Z",
     "iopub.status.busy": "2025-08-27T21:41:27.414602Z",
     "iopub.status.idle": "2025-08-27T21:41:27.418491Z",
     "shell.execute_reply": "2025-08-27T21:41:27.418071Z"
    }
   },
   "outputs": [
    {
     "data": {
      "text/plain": [
       "0.0"
      ]
     },
     "execution_count": 16,
     "metadata": {},
     "output_type": "execute_result"
    }
   ],
   "source": [
    "bond.accrued_interest(settle_dt, 1.0)"
   ]
  },
  {
   "cell_type": "code",
   "execution_count": 17,
   "metadata": {
    "execution": {
     "iopub.execute_input": "2025-08-27T21:41:27.420506Z",
     "iopub.status.busy": "2025-08-27T21:41:27.420249Z",
     "iopub.status.idle": "2025-08-27T21:41:27.424033Z",
     "shell.execute_reply": "2025-08-27T21:41:27.423617Z"
    }
   },
   "outputs": [
    {
     "data": {
      "text/plain": [
       "105.27669734609124"
      ]
     },
     "execution_count": 17,
     "metadata": {},
     "output_type": "execute_result"
    }
   ],
   "source": [
    "bond.clean_price_from_discount_curve(settle_dt, discount_curve)"
   ]
  },
  {
   "cell_type": "code",
   "execution_count": 18,
   "metadata": {
    "execution": {
     "iopub.execute_input": "2025-08-27T21:41:27.426282Z",
     "iopub.status.busy": "2025-08-27T21:41:27.426037Z",
     "iopub.status.idle": "2025-08-27T21:41:27.429384Z",
     "shell.execute_reply": "2025-08-27T21:41:27.428952Z"
    }
   },
   "outputs": [
    {
     "data": {
      "text/plain": [
       "105.27669734609124"
      ]
     },
     "execution_count": 18,
     "metadata": {},
     "output_type": "execute_result"
    }
   ],
   "source": [
    "bond.dirty_price_from_discount_curve(settle_dt, discount_curve)"
   ]
  },
  {
   "cell_type": "markdown",
   "metadata": {},
   "source": [
    "As we are on the issue date of the bond there is a full coupon of accrued."
   ]
  },
  {
   "cell_type": "markdown",
   "metadata": {},
   "source": [
    "This agrees with QL which finds a clean price of 105.27654"
   ]
  },
  {
   "cell_type": "markdown",
   "metadata": {},
   "source": [
    "Copyright (c) 2020 Dominic O'Kane"
   ]
  }
 ],
 "metadata": {
  "kernelspec": {
   "display_name": "base",
   "language": "python",
   "name": "python3"
  },
  "language_info": {
   "codemirror_mode": {
    "name": "ipython",
    "version": 3
   },
   "file_extension": ".py",
   "mimetype": "text/x-python",
   "name": "python",
   "nbconvert_exporter": "python",
   "pygments_lexer": "ipython3",
   "version": "3.13.5"
  }
 },
 "nbformat": 4,
 "nbformat_minor": 2
}
