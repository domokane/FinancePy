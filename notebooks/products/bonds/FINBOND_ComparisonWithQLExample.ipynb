{
 "cells": [
  {
   "cell_type": "markdown",
   "metadata": {},
   "source": [
    "# FIXED COUPON BOND - QL EXAMPLE"
   ]
  },
  {
   "cell_type": "markdown",
   "metadata": {},
   "source": [
    "This is a based on example in http://gouthamanbalaraman.com/blog/quantlib-bond-modeling.html"
   ]
  },
  {
   "cell_type": "code",
   "execution_count": 1,
   "metadata": {
    "execution": {
     "iopub.execute_input": "2025-08-27T22:28:40.331736Z",
     "iopub.status.busy": "2025-08-27T22:28:40.331480Z",
     "iopub.status.idle": "2025-08-27T22:28:40.790995Z",
     "shell.execute_reply": "2025-08-27T22:28:40.790556Z"
    }
   },
   "outputs": [],
   "source": [
    "import numpy as np\n",
    "import matplotlib.pyplot as plt"
   ]
  },
  {
   "cell_type": "code",
   "execution_count": 2,
   "metadata": {
    "execution": {
     "iopub.execute_input": "2025-08-27T22:28:40.793132Z",
     "iopub.status.busy": "2025-08-27T22:28:40.792874Z",
     "iopub.status.idle": "2025-08-27T22:28:41.833604Z",
     "shell.execute_reply": "2025-08-27T22:28:41.833088Z"
    }
   },
   "outputs": [],
   "source": [
    "from financepy.utils import *\n",
    "from financepy.products.bonds.bond import *\n",
    "from financepy.market.curves.discount_curve_zeros import *"
   ]
  },
  {
   "cell_type": "markdown",
   "metadata": {},
   "source": [
    "# Define the Bond"
   ]
  },
  {
   "cell_type": "code",
   "execution_count": 3,
   "metadata": {
    "execution": {
     "iopub.execute_input": "2025-08-27T22:28:41.835779Z",
     "iopub.status.busy": "2025-08-27T22:28:41.835513Z",
     "iopub.status.idle": "2025-08-27T22:28:41.851827Z",
     "shell.execute_reply": "2025-08-27T22:28:41.851336Z"
    }
   },
   "outputs": [],
   "source": [
    "issue_dt = Date(15, 1, 2010)\n",
    "maturity_dt = Date(15, 1, 2016)\n",
    "coupon = 0.06\n",
    "freq_type = FrequencyTypes.SEMI_ANNUAL\n",
    "dc_type = DayCountTypes.THIRTY_360_BOND\n",
    "face = ONE_MILLION"
   ]
  },
  {
   "cell_type": "code",
   "execution_count": 4,
   "metadata": {
    "execution": {
     "iopub.execute_input": "2025-08-27T22:28:41.853681Z",
     "iopub.status.busy": "2025-08-27T22:28:41.853476Z",
     "iopub.status.idle": "2025-08-27T22:28:41.856199Z",
     "shell.execute_reply": "2025-08-27T22:28:41.855795Z"
    }
   },
   "outputs": [],
   "source": [
    "bond = Bond(issue_dt, maturity_dt, coupon, freq_type, dc_type)"
   ]
  },
  {
   "cell_type": "code",
   "execution_count": 5,
   "metadata": {
    "execution": {
     "iopub.execute_input": "2025-08-27T22:28:41.857880Z",
     "iopub.status.busy": "2025-08-27T22:28:41.857654Z",
     "iopub.status.idle": "2025-08-27T22:28:41.861469Z",
     "shell.execute_reply": "2025-08-27T22:28:41.861065Z"
    }
   },
   "outputs": [
    {
     "name": "stdout",
     "output_type": "stream",
     "text": [
      "OBJECT TYPE: Bond\n",
      "ISSUE DATE: 15-JAN-2010\n",
      "MATURITY DATE: 15-JAN-2016\n",
      "COUPON (%): 6.0\n",
      "FREQUENCY: FrequencyTypes.SEMI_ANNUAL\n",
      "DAY COUNT TYPE: DayCountTypes.THIRTY_360_BOND\n",
      "EX_DIV DAYS: 0\n"
     ]
    }
   ],
   "source": [
    "print(bond)"
   ]
  },
  {
   "cell_type": "markdown",
   "metadata": {},
   "source": [
    "To see the cash flows we first need to set the settlement date of the bond. "
   ]
  },
  {
   "cell_type": "code",
   "execution_count": 6,
   "metadata": {
    "execution": {
     "iopub.execute_input": "2025-08-27T22:28:41.863509Z",
     "iopub.status.busy": "2025-08-27T22:28:41.863269Z",
     "iopub.status.idle": "2025-08-27T22:28:41.865776Z",
     "shell.execute_reply": "2025-08-27T22:28:41.865367Z"
    }
   },
   "outputs": [],
   "source": [
    "settle_dt = Date(15, 1, 2015)"
   ]
  },
  {
   "cell_type": "code",
   "execution_count": 7,
   "metadata": {
    "execution": {
     "iopub.execute_input": "2025-08-27T22:28:41.867505Z",
     "iopub.status.busy": "2025-08-27T22:28:41.867241Z",
     "iopub.status.idle": "2025-08-27T22:28:41.869733Z",
     "shell.execute_reply": "2025-08-27T22:28:41.869295Z"
    }
   },
   "outputs": [
    {
     "name": "stdout",
     "output_type": "stream",
     "text": [
      " 15-JUL-2015  30000.00000 \n",
      " 15-JAN-2016 1030000.00000 \n",
      "\n"
     ]
    }
   ],
   "source": [
    "bond.print_payments(settle_dt, face)"
   ]
  },
  {
   "cell_type": "markdown",
   "metadata": {},
   "source": [
    "## Discounting Bond Flows"
   ]
  },
  {
   "cell_type": "markdown",
   "metadata": {},
   "source": [
    "We wish to define a zero rate curve. For this we need the dates and values of the zero rates."
   ]
  },
  {
   "cell_type": "code",
   "execution_count": 8,
   "metadata": {
    "execution": {
     "iopub.execute_input": "2025-08-27T22:28:41.871512Z",
     "iopub.status.busy": "2025-08-27T22:28:41.871329Z",
     "iopub.status.idle": "2025-08-27T22:28:41.873825Z",
     "shell.execute_reply": "2025-08-27T22:28:41.873385Z"
    }
   },
   "outputs": [],
   "source": [
    "zero_dts = [Date(15,1,2015), Date(15,7,2015), Date(15,1,2016)]\n",
    "zero_rates = [0.00, 0.005, 0.007]"
   ]
  },
  {
   "cell_type": "code",
   "execution_count": 9,
   "metadata": {
    "execution": {
     "iopub.execute_input": "2025-08-27T22:28:41.875365Z",
     "iopub.status.busy": "2025-08-27T22:28:41.875168Z",
     "iopub.status.idle": "2025-08-27T22:28:41.878024Z",
     "shell.execute_reply": "2025-08-27T22:28:41.877518Z"
    }
   },
   "outputs": [],
   "source": [
    "discount_curve = DiscountCurveZeros(settle_dt, zero_dts, zero_rates,\n",
    "                                      FrequencyTypes.ANNUAL,\n",
    "                                      DayCountTypes.THIRTY_360_BOND)"
   ]
  },
  {
   "cell_type": "code",
   "execution_count": 10,
   "metadata": {
    "execution": {
     "iopub.execute_input": "2025-08-27T22:28:41.879620Z",
     "iopub.status.busy": "2025-08-27T22:28:41.879371Z",
     "iopub.status.idle": "2025-08-27T22:28:41.882565Z",
     "shell.execute_reply": "2025-08-27T22:28:41.882052Z"
    }
   },
   "outputs": [
    {
     "name": "stdout",
     "output_type": "stream",
     "text": [
      "OBJECT TYPE: DiscountCurveZeros\n",
      "VALUATION DATE: 15-JAN-2015\n",
      "FREQUENCY TYPE: FrequencyTypes.ANNUAL\n",
      "DAY COUNT TYPE: DayCountTypes.THIRTY_360_BOND\n",
      "INTERP TYPE: InterpTypes.FLAT_FWD_RATES\n",
      "DATES: ZERO RATES\n",
      " 15-JAN-2015:  0.0000000\n",
      " 15-JUL-2015:  0.0050000\n",
      " 15-JAN-2016:  0.0070000\n",
      "\n"
     ]
    }
   ],
   "source": [
    "print(discount_curve)"
   ]
  },
  {
   "cell_type": "code",
   "execution_count": 11,
   "metadata": {
    "execution": {
     "iopub.execute_input": "2025-08-27T22:28:41.884406Z",
     "iopub.status.busy": "2025-08-27T22:28:41.883975Z",
     "iopub.status.idle": "2025-08-27T22:28:41.889685Z",
     "shell.execute_reply": "2025-08-27T22:28:41.889233Z"
    }
   },
   "outputs": [
    {
     "data": {
      "text/plain": [
       "array([0. , 0.5, 1. ])"
      ]
     },
     "execution_count": 11,
     "metadata": {},
     "output_type": "execute_result"
    }
   ],
   "source": [
    "discount_curve.times"
   ]
  },
  {
   "cell_type": "code",
   "execution_count": 12,
   "metadata": {
    "execution": {
     "iopub.execute_input": "2025-08-27T22:28:41.891883Z",
     "iopub.status.busy": "2025-08-27T22:28:41.891658Z",
     "iopub.status.idle": "2025-08-27T22:28:41.894914Z",
     "shell.execute_reply": "2025-08-27T22:28:41.894581Z"
    }
   },
   "outputs": [
    {
     "data": {
      "text/plain": [
       "array([1.        , 0.99750934, 0.99304866])"
      ]
     },
     "execution_count": 12,
     "metadata": {},
     "output_type": "execute_result"
    }
   ],
   "source": [
    "discount_curve._dfs"
   ]
  },
  {
   "cell_type": "code",
   "execution_count": 13,
   "metadata": {
    "execution": {
     "iopub.execute_input": "2025-08-27T22:28:41.896518Z",
     "iopub.status.busy": "2025-08-27T22:28:41.896329Z",
     "iopub.status.idle": "2025-08-27T22:28:41.899406Z",
     "shell.execute_reply": "2025-08-27T22:28:41.898956Z"
    }
   },
   "outputs": [
    {
     "name": "stdout",
     "output_type": "stream",
     "text": [
      " 15-JUL-2015      3.00000 \n",
      " 15-JAN-2016    103.00000 \n",
      "\n"
     ]
    }
   ],
   "source": [
    "bond.print_payments(settle_dt)"
   ]
  },
  {
   "cell_type": "code",
   "execution_count": 14,
   "metadata": {
    "execution": {
     "iopub.execute_input": "2025-08-27T22:28:41.901148Z",
     "iopub.status.busy": "2025-08-27T22:28:41.900951Z",
     "iopub.status.idle": "2025-08-27T22:28:41.904232Z",
     "shell.execute_reply": "2025-08-27T22:28:41.903852Z"
    }
   },
   "outputs": [
    {
     "data": {
      "text/plain": [
       "1.0"
      ]
     },
     "execution_count": 14,
     "metadata": {},
     "output_type": "execute_result"
    }
   ],
   "source": [
    "discount_curve.df(settle_dt)"
   ]
  },
  {
   "cell_type": "code",
   "execution_count": 15,
   "metadata": {
    "execution": {
     "iopub.execute_input": "2025-08-27T22:28:41.906125Z",
     "iopub.status.busy": "2025-08-27T22:28:41.905882Z",
     "iopub.status.idle": "2025-08-27T22:28:41.909393Z",
     "shell.execute_reply": "2025-08-27T22:28:41.909022Z"
    }
   },
   "outputs": [
    {
     "data": {
      "text/plain": [
       "[0.0, 0.03, 0.03, 0.03, 0.03, 0.03, 0.03, 0.03, 0.03, 0.03, 0.03, 0.03, 0.03]"
      ]
     },
     "execution_count": 15,
     "metadata": {},
     "output_type": "execute_result"
    }
   ],
   "source": [
    "bond.flow_amounts"
   ]
  },
  {
   "cell_type": "code",
   "execution_count": 16,
   "metadata": {
    "execution": {
     "iopub.execute_input": "2025-08-27T22:28:41.911185Z",
     "iopub.status.busy": "2025-08-27T22:28:41.910990Z",
     "iopub.status.idle": "2025-08-27T22:28:41.914190Z",
     "shell.execute_reply": "2025-08-27T22:28:41.913774Z"
    }
   },
   "outputs": [
    {
     "data": {
      "text/plain": [
       "0.0"
      ]
     },
     "execution_count": 16,
     "metadata": {},
     "output_type": "execute_result"
    }
   ],
   "source": [
    "bond.accrued_interest(settle_dt, 1.0)"
   ]
  },
  {
   "cell_type": "code",
   "execution_count": 17,
   "metadata": {
    "execution": {
     "iopub.execute_input": "2025-08-27T22:28:41.915977Z",
     "iopub.status.busy": "2025-08-27T22:28:41.915727Z",
     "iopub.status.idle": "2025-08-27T22:28:41.919155Z",
     "shell.execute_reply": "2025-08-27T22:28:41.918799Z"
    }
   },
   "outputs": [
    {
     "data": {
      "text/plain": [
       "105.27669734609124"
      ]
     },
     "execution_count": 17,
     "metadata": {},
     "output_type": "execute_result"
    }
   ],
   "source": [
    "bond.clean_price_from_discount_curve(settle_dt, discount_curve)"
   ]
  },
  {
   "cell_type": "code",
   "execution_count": 18,
   "metadata": {
    "execution": {
     "iopub.execute_input": "2025-08-27T22:28:41.920786Z",
     "iopub.status.busy": "2025-08-27T22:28:41.920597Z",
     "iopub.status.idle": "2025-08-27T22:28:41.923642Z",
     "shell.execute_reply": "2025-08-27T22:28:41.923268Z"
    }
   },
   "outputs": [
    {
     "data": {
      "text/plain": [
       "105.27669734609124"
      ]
     },
     "execution_count": 18,
     "metadata": {},
     "output_type": "execute_result"
    }
   ],
   "source": [
    "bond.dirty_price_from_discount_curve(settle_dt, discount_curve)"
   ]
  },
  {
   "cell_type": "markdown",
   "metadata": {},
   "source": [
    "As we are on the issue date of the bond there is a full coupon of accrued."
   ]
  },
  {
   "cell_type": "markdown",
   "metadata": {},
   "source": [
    "This agrees with QL which finds a clean price of 105.27654"
   ]
  },
  {
   "cell_type": "markdown",
   "metadata": {},
   "source": [
    "Copyright (c) 2020 Dominic O'Kane"
   ]
  }
 ],
 "metadata": {
  "kernelspec": {
   "display_name": "base",
   "language": "python",
   "name": "python3"
  },
  "language_info": {
   "codemirror_mode": {
    "name": "ipython",
    "version": 3
   },
   "file_extension": ".py",
   "mimetype": "text/x-python",
   "name": "python",
   "nbconvert_exporter": "python",
   "pygments_lexer": "ipython3",
   "version": "3.13.5"
  }
 },
 "nbformat": 4,
 "nbformat_minor": 2
}
