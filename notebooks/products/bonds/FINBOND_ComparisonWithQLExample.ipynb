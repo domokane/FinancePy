{
 "cells": [
  {
   "cell_type": "markdown",
   "metadata": {},
   "source": [
    "# FIXED COUPON BOND - QL EXAMPLE"
   ]
  },
  {
   "cell_type": "markdown",
   "metadata": {},
   "source": [
    "This is a based on example in http://gouthamanbalaraman.com/blog/quantlib-bond-modeling.html"
   ]
  },
  {
   "cell_type": "code",
   "execution_count": 1,
   "metadata": {
    "execution": {
     "iopub.execute_input": "2025-09-14T22:20:13.708655Z",
     "iopub.status.busy": "2025-09-14T22:20:13.708531Z",
     "iopub.status.idle": "2025-09-14T22:20:13.927505Z",
     "shell.execute_reply": "2025-09-14T22:20:13.926490Z"
    }
   },
   "outputs": [],
   "source": [
    "import numpy as np\n",
    "import matplotlib.pyplot as plt"
   ]
  },
  {
   "cell_type": "code",
   "execution_count": 2,
   "metadata": {
    "execution": {
     "iopub.execute_input": "2025-09-14T22:20:13.929709Z",
     "iopub.status.busy": "2025-09-14T22:20:13.929536Z",
     "iopub.status.idle": "2025-09-14T22:20:14.592285Z",
     "shell.execute_reply": "2025-09-14T22:20:14.591831Z"
    }
   },
   "outputs": [],
   "source": [
    "from financepy.utils import *\n",
    "from financepy.products.bonds.bond import *\n",
    "from financepy.market.curves.discount_curve_zeros import *"
   ]
  },
  {
   "cell_type": "markdown",
   "metadata": {},
   "source": [
    "# Define the Bond"
   ]
  },
  {
   "cell_type": "code",
   "execution_count": 3,
   "metadata": {
    "execution": {
     "iopub.execute_input": "2025-09-14T22:20:14.593941Z",
     "iopub.status.busy": "2025-09-14T22:20:14.593725Z",
     "iopub.status.idle": "2025-09-14T22:20:14.608175Z",
     "shell.execute_reply": "2025-09-14T22:20:14.607812Z"
    }
   },
   "outputs": [],
   "source": [
    "issue_dt = Date(15, 1, 2010)\n",
    "maturity_dt = Date(15, 1, 2016)\n",
    "coupon = 0.06\n",
    "freq_type = FrequencyTypes.SEMI_ANNUAL\n",
    "dc_type = DayCountTypes.THIRTY_360_BOND\n",
    "face = ONE_MILLION"
   ]
  },
  {
   "cell_type": "code",
   "execution_count": 4,
   "metadata": {
    "execution": {
     "iopub.execute_input": "2025-09-14T22:20:14.609430Z",
     "iopub.status.busy": "2025-09-14T22:20:14.609300Z",
     "iopub.status.idle": "2025-09-14T22:20:14.612190Z",
     "shell.execute_reply": "2025-09-14T22:20:14.611810Z"
    }
   },
   "outputs": [],
   "source": [
    "bond = Bond(issue_dt, maturity_dt, coupon, freq_type, dc_type)"
   ]
  },
  {
   "cell_type": "code",
   "execution_count": 5,
   "metadata": {
    "execution": {
     "iopub.execute_input": "2025-09-14T22:20:14.613257Z",
     "iopub.status.busy": "2025-09-14T22:20:14.613139Z",
     "iopub.status.idle": "2025-09-14T22:20:14.616312Z",
     "shell.execute_reply": "2025-09-14T22:20:14.615993Z"
    }
   },
   "outputs": [
    {
     "name": "stdout",
     "output_type": "stream",
     "text": [
      "OBJECT TYPE: Bond\n",
      "ISSUE DATE: 15-JAN-2010\n",
      "MATURITY DATE: 15-JAN-2016\n",
      "COUPON (%): 6.0\n",
      "FREQUENCY: FrequencyTypes.SEMI_ANNUAL\n",
      "DAY COUNT TYPE: DayCountTypes.THIRTY_360_BOND\n",
      "EX_DIV DAYS: 0\n"
     ]
    }
   ],
   "source": [
    "print(bond)"
   ]
  },
  {
   "cell_type": "markdown",
   "metadata": {},
   "source": [
    "To see the cash flows we first need to set the settlement date of the bond. "
   ]
  },
  {
   "cell_type": "code",
   "execution_count": 6,
   "metadata": {
    "execution": {
     "iopub.execute_input": "2025-09-14T22:20:14.617519Z",
     "iopub.status.busy": "2025-09-14T22:20:14.617395Z",
     "iopub.status.idle": "2025-09-14T22:20:14.619272Z",
     "shell.execute_reply": "2025-09-14T22:20:14.619046Z"
    }
   },
   "outputs": [],
   "source": [
    "settle_dt = Date(15, 1, 2015)"
   ]
  },
  {
   "cell_type": "code",
   "execution_count": 7,
   "metadata": {
    "execution": {
     "iopub.execute_input": "2025-09-14T22:20:14.621489Z",
     "iopub.status.busy": "2025-09-14T22:20:14.621004Z",
     "iopub.status.idle": "2025-09-14T22:20:14.624377Z",
     "shell.execute_reply": "2025-09-14T22:20:14.624064Z"
    }
   },
   "outputs": [
    {
     "name": "stdout",
     "output_type": "stream",
     "text": [
      " 15-JUL-2015  30000.00000 \n",
      " 15-JAN-2016 1030000.00000 \n",
      "\n"
     ]
    }
   ],
   "source": [
    "bond.print_payments(settle_dt, face)"
   ]
  },
  {
   "cell_type": "markdown",
   "metadata": {},
   "source": [
    "## Discounting Bond Flows"
   ]
  },
  {
   "cell_type": "markdown",
   "metadata": {},
   "source": [
    "We wish to define a zero rate curve. For this we need the dates and values of the zero rates."
   ]
  },
  {
   "cell_type": "code",
   "execution_count": 8,
   "metadata": {
    "execution": {
     "iopub.execute_input": "2025-09-14T22:20:14.625527Z",
     "iopub.status.busy": "2025-09-14T22:20:14.625388Z",
     "iopub.status.idle": "2025-09-14T22:20:14.628007Z",
     "shell.execute_reply": "2025-09-14T22:20:14.627613Z"
    }
   },
   "outputs": [],
   "source": [
    "zero_dts = [Date(15,1,2015), Date(15,7,2015), Date(15,1,2016)]\n",
    "zero_rates = [0.00, 0.005, 0.007]"
   ]
  },
  {
   "cell_type": "code",
   "execution_count": 9,
   "metadata": {
    "execution": {
     "iopub.execute_input": "2025-09-14T22:20:14.630196Z",
     "iopub.status.busy": "2025-09-14T22:20:14.629696Z",
     "iopub.status.idle": "2025-09-14T22:20:14.633236Z",
     "shell.execute_reply": "2025-09-14T22:20:14.632586Z"
    }
   },
   "outputs": [],
   "source": [
    "discount_curve = DiscountCurveZeros(settle_dt, zero_dts, zero_rates,\n",
    "                                      FrequencyTypes.ANNUAL,\n",
    "                                      DayCountTypes.THIRTY_360_BOND)"
   ]
  },
  {
   "cell_type": "code",
   "execution_count": 10,
   "metadata": {
    "execution": {
     "iopub.execute_input": "2025-09-14T22:20:14.634877Z",
     "iopub.status.busy": "2025-09-14T22:20:14.634735Z",
     "iopub.status.idle": "2025-09-14T22:20:14.637700Z",
     "shell.execute_reply": "2025-09-14T22:20:14.637032Z"
    }
   },
   "outputs": [
    {
     "name": "stdout",
     "output_type": "stream",
     "text": [
      "OBJECT TYPE: DiscountCurveZeros\n",
      "VALUATION DATE: 15-JAN-2015\n",
      "FREQUENCY TYPE: FrequencyTypes.ANNUAL\n",
      "DAY COUNT TYPE: DayCountTypes.THIRTY_360_BOND\n",
      "INTERP TYPE: InterpTypes.FLAT_FWD_RATES\n",
      "DATES: ZERO RATES\n",
      " 15-JAN-2015:  0.0000000\n",
      " 15-JUL-2015:  0.0050000\n",
      " 15-JAN-2016:  0.0070000\n",
      "\n"
     ]
    }
   ],
   "source": [
    "print(discount_curve)"
   ]
  },
  {
   "cell_type": "code",
   "execution_count": 11,
   "metadata": {
    "execution": {
     "iopub.execute_input": "2025-09-14T22:20:14.639352Z",
     "iopub.status.busy": "2025-09-14T22:20:14.638969Z",
     "iopub.status.idle": "2025-09-14T22:20:14.644340Z",
     "shell.execute_reply": "2025-09-14T22:20:14.643940Z"
    }
   },
   "outputs": [
    {
     "data": {
      "text/plain": [
       "array([0. , 0.5, 1. ])"
      ]
     },
     "execution_count": 11,
     "metadata": {},
     "output_type": "execute_result"
    }
   ],
   "source": [
    "discount_curve.times"
   ]
  },
  {
   "cell_type": "code",
   "execution_count": 12,
   "metadata": {
    "execution": {
     "iopub.execute_input": "2025-09-14T22:20:14.645675Z",
     "iopub.status.busy": "2025-09-14T22:20:14.645528Z",
     "iopub.status.idle": "2025-09-14T22:20:14.648563Z",
     "shell.execute_reply": "2025-09-14T22:20:14.648178Z"
    }
   },
   "outputs": [
    {
     "data": {
      "text/plain": [
       "array([1.        , 0.99750934, 0.99304866])"
      ]
     },
     "execution_count": 12,
     "metadata": {},
     "output_type": "execute_result"
    }
   ],
   "source": [
    "discount_curve._dfs"
   ]
  },
  {
   "cell_type": "code",
   "execution_count": 13,
   "metadata": {
    "execution": {
     "iopub.execute_input": "2025-09-14T22:20:14.649861Z",
     "iopub.status.busy": "2025-09-14T22:20:14.649726Z",
     "iopub.status.idle": "2025-09-14T22:20:14.653343Z",
     "shell.execute_reply": "2025-09-14T22:20:14.652932Z"
    }
   },
   "outputs": [
    {
     "name": "stdout",
     "output_type": "stream",
     "text": [
      " 15-JUL-2015      3.00000 \n",
      " 15-JAN-2016    103.00000 \n",
      "\n"
     ]
    }
   ],
   "source": [
    "bond.print_payments(settle_dt)"
   ]
  },
  {
   "cell_type": "code",
   "execution_count": 14,
   "metadata": {
    "execution": {
     "iopub.execute_input": "2025-09-14T22:20:14.654654Z",
     "iopub.status.busy": "2025-09-14T22:20:14.654523Z",
     "iopub.status.idle": "2025-09-14T22:20:14.657802Z",
     "shell.execute_reply": "2025-09-14T22:20:14.657351Z"
    }
   },
   "outputs": [
    {
     "data": {
      "text/plain": [
       "1.0"
      ]
     },
     "execution_count": 14,
     "metadata": {},
     "output_type": "execute_result"
    }
   ],
   "source": [
    "discount_curve.df(settle_dt)"
   ]
  },
  {
   "cell_type": "code",
   "execution_count": 15,
   "metadata": {
    "execution": {
     "iopub.execute_input": "2025-09-14T22:20:14.658907Z",
     "iopub.status.busy": "2025-09-14T22:20:14.658781Z",
     "iopub.status.idle": "2025-09-14T22:20:14.662194Z",
     "shell.execute_reply": "2025-09-14T22:20:14.661801Z"
    }
   },
   "outputs": [
    {
     "data": {
      "text/plain": [
       "[0.0, 0.03, 0.03, 0.03, 0.03, 0.03, 0.03, 0.03, 0.03, 0.03, 0.03, 0.03, 0.03]"
      ]
     },
     "execution_count": 15,
     "metadata": {},
     "output_type": "execute_result"
    }
   ],
   "source": [
    "bond.flow_amounts"
   ]
  },
  {
   "cell_type": "code",
   "execution_count": 16,
   "metadata": {
    "execution": {
     "iopub.execute_input": "2025-09-14T22:20:14.663883Z",
     "iopub.status.busy": "2025-09-14T22:20:14.663485Z",
     "iopub.status.idle": "2025-09-14T22:20:14.667653Z",
     "shell.execute_reply": "2025-09-14T22:20:14.666996Z"
    }
   },
   "outputs": [
    {
     "data": {
      "text/plain": [
       "0.0"
      ]
     },
     "execution_count": 16,
     "metadata": {},
     "output_type": "execute_result"
    }
   ],
   "source": [
    "bond.accrued_interest(settle_dt, 1.0)"
   ]
  },
  {
   "cell_type": "code",
   "execution_count": 17,
   "metadata": {
    "execution": {
     "iopub.execute_input": "2025-09-14T22:20:14.669194Z",
     "iopub.status.busy": "2025-09-14T22:20:14.669030Z",
     "iopub.status.idle": "2025-09-14T22:20:14.672644Z",
     "shell.execute_reply": "2025-09-14T22:20:14.672139Z"
    }
   },
   "outputs": [
    {
     "data": {
      "text/plain": [
       "105.27669734609124"
      ]
     },
     "execution_count": 17,
     "metadata": {},
     "output_type": "execute_result"
    }
   ],
   "source": [
    "bond.clean_price_from_discount_curve(settle_dt, discount_curve)"
   ]
  },
  {
   "cell_type": "code",
   "execution_count": 18,
   "metadata": {
    "execution": {
     "iopub.execute_input": "2025-09-14T22:20:14.674879Z",
     "iopub.status.busy": "2025-09-14T22:20:14.674723Z",
     "iopub.status.idle": "2025-09-14T22:20:14.677990Z",
     "shell.execute_reply": "2025-09-14T22:20:14.677592Z"
    }
   },
   "outputs": [
    {
     "data": {
      "text/plain": [
       "105.27669734609124"
      ]
     },
     "execution_count": 18,
     "metadata": {},
     "output_type": "execute_result"
    }
   ],
   "source": [
    "bond.dirty_price_from_discount_curve(settle_dt, discount_curve)"
   ]
  },
  {
   "cell_type": "markdown",
   "metadata": {},
   "source": [
    "As we are on the issue date of the bond there is a full coupon of accrued."
   ]
  },
  {
   "cell_type": "markdown",
   "metadata": {},
   "source": [
    "This agrees with QL which finds a clean price of 105.27654"
   ]
  },
  {
   "cell_type": "markdown",
   "metadata": {},
   "source": [
    "Copyright (c) 2020 Dominic O'Kane"
   ]
  }
 ],
 "metadata": {
  "kernelspec": {
   "display_name": "base",
   "language": "python",
   "name": "python3"
  },
  "language_info": {
   "codemirror_mode": {
    "name": "ipython",
    "version": 3
   },
   "file_extension": ".py",
   "mimetype": "text/x-python",
   "name": "python",
   "nbconvert_exporter": "python",
   "pygments_lexer": "ipython3",
   "version": "3.13.7"
  }
 },
 "nbformat": 4,
 "nbformat_minor": 2
}
