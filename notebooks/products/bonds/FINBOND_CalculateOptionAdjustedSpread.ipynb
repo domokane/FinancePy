{
 "cells": [
  {
   "cell_type": "markdown",
   "metadata": {},
   "source": [
    "# Calculating Bond Option Adjusted Spread (OAS)"
   ]
  },
  {
   "cell_type": "markdown",
   "metadata": {},
   "source": [
    "The asset swap spread and the option adjusted spread are widely used as measures of pure credit risk. In this notebook I calculate these quantities. This bond does not have embedded optionality. Hence OAS performs a role of a credit spread."
   ]
  },
  {
   "cell_type": "code",
   "execution_count": 1,
   "metadata": {
    "execution": {
     "iopub.execute_input": "2025-09-14T22:20:06.836247Z",
     "iopub.status.busy": "2025-09-14T22:20:06.836124Z",
     "iopub.status.idle": "2025-09-14T22:20:07.058116Z",
     "shell.execute_reply": "2025-09-14T22:20:07.057460Z"
    }
   },
   "outputs": [],
   "source": [
    "import numpy as np\n",
    "import matplotlib.pyplot as plt"
   ]
  },
  {
   "cell_type": "code",
   "execution_count": 2,
   "metadata": {
    "execution": {
     "iopub.execute_input": "2025-09-14T22:20:07.060124Z",
     "iopub.status.busy": "2025-09-14T22:20:07.059932Z",
     "iopub.status.idle": "2025-09-14T22:20:07.719072Z",
     "shell.execute_reply": "2025-09-14T22:20:07.718718Z"
    },
    "tags": []
   },
   "outputs": [],
   "source": [
    "from financepy.utils import *\n",
    "from financepy.products.bonds.bond import *"
   ]
  },
  {
   "cell_type": "code",
   "execution_count": 3,
   "metadata": {
    "execution": {
     "iopub.execute_input": "2025-09-14T22:20:07.721109Z",
     "iopub.status.busy": "2025-09-14T22:20:07.720854Z",
     "iopub.status.idle": "2025-09-14T22:20:07.735622Z",
     "shell.execute_reply": "2025-09-14T22:20:07.735369Z"
    }
   },
   "outputs": [],
   "source": [
    "issue_dt = Date(15, 5, 2010)\n",
    "maturity_dt = Date(15, 5, 2027)\n",
    "coupon = 0.02375\n",
    "freq_type = FrequencyTypes.SEMI_ANNUAL\n",
    "dc_type = DayCountTypes.ACT_ACT_ICMA\n",
    "face = 100.0 # By setting the face to 100 we expect a price of par to be 100.0"
   ]
  },
  {
   "cell_type": "code",
   "execution_count": 4,
   "metadata": {
    "execution": {
     "iopub.execute_input": "2025-09-14T22:20:07.736759Z",
     "iopub.status.busy": "2025-09-14T22:20:07.736641Z",
     "iopub.status.idle": "2025-09-14T22:20:07.740024Z",
     "shell.execute_reply": "2025-09-14T22:20:07.739744Z"
    }
   },
   "outputs": [],
   "source": [
    "bond = Bond(issue_dt, maturity_dt, coupon, freq_type, dc_type)"
   ]
  },
  {
   "cell_type": "code",
   "execution_count": 5,
   "metadata": {
    "execution": {
     "iopub.execute_input": "2025-09-14T22:20:07.741246Z",
     "iopub.status.busy": "2025-09-14T22:20:07.741123Z",
     "iopub.status.idle": "2025-09-14T22:20:07.744346Z",
     "shell.execute_reply": "2025-09-14T22:20:07.743881Z"
    },
    "tags": []
   },
   "outputs": [
    {
     "name": "stdout",
     "output_type": "stream",
     "text": [
      "OBJECT TYPE: Bond\n",
      "ISSUE DATE: 15-MAY-2010\n",
      "MATURITY DATE: 15-MAY-2027\n",
      "COUPON (%): 2.375\n",
      "FREQUENCY: FrequencyTypes.SEMI_ANNUAL\n",
      "DAY COUNT TYPE: DayCountTypes.ACT_ACT_ICMA\n",
      "EX_DIV DAYS: 0\n"
     ]
    }
   ],
   "source": [
    "print(bond)"
   ]
  },
  {
   "cell_type": "markdown",
   "metadata": {},
   "source": [
    "## Option Adjusted Spread"
   ]
  },
  {
   "cell_type": "code",
   "execution_count": 6,
   "metadata": {
    "execution": {
     "iopub.execute_input": "2025-09-14T22:20:07.745625Z",
     "iopub.status.busy": "2025-09-14T22:20:07.745502Z",
     "iopub.status.idle": "2025-09-14T22:20:07.747661Z",
     "shell.execute_reply": "2025-09-14T22:20:07.747373Z"
    }
   },
   "outputs": [],
   "source": [
    "from financepy.market.curves.discount_curve_flat import DiscountCurveFlat"
   ]
  },
  {
   "cell_type": "code",
   "execution_count": 7,
   "metadata": {
    "execution": {
     "iopub.execute_input": "2025-09-14T22:20:07.748679Z",
     "iopub.status.busy": "2025-09-14T22:20:07.748561Z",
     "iopub.status.idle": "2025-09-14T22:20:07.750646Z",
     "shell.execute_reply": "2025-09-14T22:20:07.750364Z"
    }
   },
   "outputs": [],
   "source": [
    "liborFlatRate = 0.0275"
   ]
  },
  {
   "cell_type": "code",
   "execution_count": 8,
   "metadata": {
    "execution": {
     "iopub.execute_input": "2025-09-14T22:20:07.752101Z",
     "iopub.status.busy": "2025-09-14T22:20:07.751746Z",
     "iopub.status.idle": "2025-09-14T22:20:07.754069Z",
     "shell.execute_reply": "2025-09-14T22:20:07.753787Z"
    }
   },
   "outputs": [],
   "source": [
    "settle_dt = Date(21, 7, 2017)"
   ]
  },
  {
   "cell_type": "code",
   "execution_count": 9,
   "metadata": {
    "execution": {
     "iopub.execute_input": "2025-09-14T22:20:07.755152Z",
     "iopub.status.busy": "2025-09-14T22:20:07.755047Z",
     "iopub.status.idle": "2025-09-14T22:20:07.762655Z",
     "shell.execute_reply": "2025-09-14T22:20:07.762252Z"
    }
   },
   "outputs": [],
   "source": [
    "liborFlatCurve = DiscountCurveFlat(settle_dt, liborFlatRate, FrequencyTypes.SEMI_ANNUAL)"
   ]
  },
  {
   "cell_type": "markdown",
   "metadata": {},
   "source": [
    "To get the OAS I need to know the bond price"
   ]
  },
  {
   "cell_type": "code",
   "execution_count": 10,
   "metadata": {
    "execution": {
     "iopub.execute_input": "2025-09-14T22:20:07.763811Z",
     "iopub.status.busy": "2025-09-14T22:20:07.763694Z",
     "iopub.status.idle": "2025-09-14T22:20:07.765716Z",
     "shell.execute_reply": "2025-09-14T22:20:07.765454Z"
    }
   },
   "outputs": [],
   "source": [
    "clean_price = 99.780842  # I specified face to be 100 - if face is 1 then this must be 0.99780842"
   ]
  },
  {
   "cell_type": "markdown",
   "metadata": {},
   "source": [
    "OAS is similar to ASW but actually subtly different measure of credit spread with a different definition and compounding annual_frequency. "
   ]
  },
  {
   "cell_type": "code",
   "execution_count": 11,
   "metadata": {
    "execution": {
     "iopub.execute_input": "2025-09-14T22:20:07.766703Z",
     "iopub.status.busy": "2025-09-14T22:20:07.766563Z",
     "iopub.status.idle": "2025-09-14T22:20:07.771232Z",
     "shell.execute_reply": "2025-09-14T22:20:07.770851Z"
    }
   },
   "outputs": [
    {
     "data": {
      "text/plain": [
       "np.float64(-34.95229384400636)"
      ]
     },
     "execution_count": 11,
     "metadata": {},
     "output_type": "execute_result"
    }
   ],
   "source": [
    "bond.option_adjusted_spread(settle_dt, clean_price, liborFlatCurve) * 10000"
   ]
  },
  {
   "cell_type": "markdown",
   "metadata": {},
   "source": [
    "## Vectorisations"
   ]
  },
  {
   "cell_type": "markdown",
   "metadata": {},
   "source": [
    "We plot them both as a function of the Bond clean price."
   ]
  },
  {
   "cell_type": "code",
   "execution_count": 12,
   "metadata": {
    "execution": {
     "iopub.execute_input": "2025-09-14T22:20:07.772658Z",
     "iopub.status.busy": "2025-09-14T22:20:07.772540Z",
     "iopub.status.idle": "2025-09-14T22:20:07.774375Z",
     "shell.execute_reply": "2025-09-14T22:20:07.774153Z"
    }
   },
   "outputs": [],
   "source": [
    "clean_prices = np.linspace(70,130,10)"
   ]
  },
  {
   "cell_type": "code",
   "execution_count": 13,
   "metadata": {
    "execution": {
     "iopub.execute_input": "2025-09-14T22:20:07.775233Z",
     "iopub.status.busy": "2025-09-14T22:20:07.775133Z",
     "iopub.status.idle": "2025-09-14T22:20:07.789129Z",
     "shell.execute_reply": "2025-09-14T22:20:07.788082Z"
    }
   },
   "outputs": [],
   "source": [
    "oass = bond.option_adjusted_spread(settle_dt, clean_prices, liborFlatCurve)"
   ]
  },
  {
   "cell_type": "code",
   "execution_count": 14,
   "metadata": {
    "execution": {
     "iopub.execute_input": "2025-09-14T22:20:07.790363Z",
     "iopub.status.busy": "2025-09-14T22:20:07.790244Z",
     "iopub.status.idle": "2025-09-14T22:20:07.848714Z",
     "shell.execute_reply": "2025-09-14T22:20:07.848399Z"
    }
   },
   "outputs": [
    {
     "data": {
      "image/png": "[encoded data removed]",
      "text/plain": [
       "<Figure size 640x480 with 1 Axes>"
      ]
     },
     "metadata": {},
     "output_type": "display_data"
    }
   ],
   "source": [
    "plt.plot(clean_prices,oass*10000)\n",
    "plt.xlabel(\"Bond Clean Price\")\n",
    "plt.ylabel(\"OAS (bp)\")\n",
    "plt.grid()"
   ]
  },
  {
   "cell_type": "markdown",
   "metadata": {},
   "source": [
    "Copyright (c) 2020 Dominic O'Kane"
   ]
  },
  {
   "cell_type": "markdown",
   "metadata": {},
   "source": []
  }
 ],
 "metadata": {
  "kernelspec": {
   "display_name": "base",
   "language": "python",
   "name": "python3"
  },
  "language_info": {
   "codemirror_mode": {
    "name": "ipython",
    "version": 3
   },
   "file_extension": ".py",
   "mimetype": "text/x-python",
   "name": "python",
   "nbconvert_exporter": "python",
   "pygments_lexer": "ipython3",
   "version": "3.13.7"
  }
 },
 "nbformat": 4,
 "nbformat_minor": 2
}
