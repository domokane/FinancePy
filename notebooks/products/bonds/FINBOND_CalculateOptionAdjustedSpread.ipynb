{
 "cells": [
  {
   "cell_type": "markdown",
   "metadata": {},
   "source": [
    "# Calculating Bond Option Adjusted Spread (OAS)"
   ]
  },
  {
   "cell_type": "markdown",
   "metadata": {},
   "source": [
    "The asset swap spread and the option adjusted spread are widely used as measures of pure credit risk. In this notebook I calculate these quantities. This bond does not have embedded optionality. Hence OAS performs a role of a credit spread."
   ]
  },
  {
   "cell_type": "code",
   "execution_count": 1,
   "metadata": {
    "execution": {
     "iopub.execute_input": "2025-08-27T21:41:14.888435Z",
     "iopub.status.busy": "2025-08-27T21:41:14.888227Z",
     "iopub.status.idle": "2025-08-27T21:41:15.389640Z",
     "shell.execute_reply": "2025-08-27T21:41:15.389152Z"
    }
   },
   "outputs": [],
   "source": [
    "import numpy as np\n",
    "import matplotlib.pyplot as plt"
   ]
  },
  {
   "cell_type": "code",
   "execution_count": 2,
   "metadata": {
    "execution": {
     "iopub.execute_input": "2025-08-27T21:41:15.392230Z",
     "iopub.status.busy": "2025-08-27T21:41:15.391837Z",
     "iopub.status.idle": "2025-08-27T21:41:16.472396Z",
     "shell.execute_reply": "2025-08-27T21:41:16.471763Z"
    },
    "tags": []
   },
   "outputs": [
    {
     "name": "stdout",
     "output_type": "stream",
     "text": [
      "####################################################################\n",
      "#    FINANCEPY Version 1.1 - This build: 27 Aug 2025 at 23:27      #\n",
      "#     This software is distributed FREE AND WITHOUT ANY WARRANTY   #\n",
      "#  Report bugs as issues at https://github.com/domokane/FinancePy  #\n",
      "####################################################################\n",
      "\n"
     ]
    }
   ],
   "source": [
    "from financepy.utils import *\n",
    "from financepy.products.bonds.bond import *"
   ]
  },
  {
   "cell_type": "code",
   "execution_count": 3,
   "metadata": {
    "execution": {
     "iopub.execute_input": "2025-08-27T21:41:16.475264Z",
     "iopub.status.busy": "2025-08-27T21:41:16.474883Z",
     "iopub.status.idle": "2025-08-27T21:41:16.492017Z",
     "shell.execute_reply": "2025-08-27T21:41:16.491301Z"
    }
   },
   "outputs": [],
   "source": [
    "issue_dt = Date(15, 5, 2010)\n",
    "maturity_dt = Date(15, 5, 2027)\n",
    "coupon = 0.02375\n",
    "freq_type = FrequencyTypes.SEMI_ANNUAL\n",
    "dc_type = DayCountTypes.ACT_ACT_ICMA\n",
    "face = 100.0 # By setting the face to 100 we expect a price of par to be 100.0"
   ]
  },
  {
   "cell_type": "code",
   "execution_count": 4,
   "metadata": {
    "execution": {
     "iopub.execute_input": "2025-08-27T21:41:16.494161Z",
     "iopub.status.busy": "2025-08-27T21:41:16.493950Z",
     "iopub.status.idle": "2025-08-27T21:41:16.496844Z",
     "shell.execute_reply": "2025-08-27T21:41:16.496453Z"
    }
   },
   "outputs": [],
   "source": [
    "bond = Bond(issue_dt, maturity_dt, coupon, freq_type, dc_type)"
   ]
  },
  {
   "cell_type": "code",
   "execution_count": 5,
   "metadata": {
    "execution": {
     "iopub.execute_input": "2025-08-27T21:41:16.498514Z",
     "iopub.status.busy": "2025-08-27T21:41:16.498204Z",
     "iopub.status.idle": "2025-08-27T21:41:16.500964Z",
     "shell.execute_reply": "2025-08-27T21:41:16.500495Z"
    },
    "tags": []
   },
   "outputs": [
    {
     "name": "stdout",
     "output_type": "stream",
     "text": [
      "OBJECT TYPE: Bond\n",
      "ISSUE DATE: 15-MAY-2010\n",
      "MATURITY DATE: 15-MAY-2027\n",
      "COUPON (%): 2.375\n",
      "FREQUENCY: FrequencyTypes.SEMI_ANNUAL\n",
      "DAY COUNT TYPE: DayCountTypes.ACT_ACT_ICMA\n",
      "EX_DIV DAYS: 0\n"
     ]
    }
   ],
   "source": [
    "print(bond)"
   ]
  },
  {
   "cell_type": "markdown",
   "metadata": {},
   "source": [
    "## Option Adjusted Spread"
   ]
  },
  {
   "cell_type": "code",
   "execution_count": 6,
   "metadata": {
    "execution": {
     "iopub.execute_input": "2025-08-27T21:41:16.502920Z",
     "iopub.status.busy": "2025-08-27T21:41:16.502695Z",
     "iopub.status.idle": "2025-08-27T21:41:16.505147Z",
     "shell.execute_reply": "2025-08-27T21:41:16.504775Z"
    }
   },
   "outputs": [],
   "source": [
    "from financepy.market.curves.discount_curve_flat import DiscountCurveFlat"
   ]
  },
  {
   "cell_type": "code",
   "execution_count": 7,
   "metadata": {
    "execution": {
     "iopub.execute_input": "2025-08-27T21:41:16.507057Z",
     "iopub.status.busy": "2025-08-27T21:41:16.506864Z",
     "iopub.status.idle": "2025-08-27T21:41:16.509196Z",
     "shell.execute_reply": "2025-08-27T21:41:16.508816Z"
    }
   },
   "outputs": [],
   "source": [
    "liborFlatRate = 0.0275"
   ]
  },
  {
   "cell_type": "code",
   "execution_count": 8,
   "metadata": {
    "execution": {
     "iopub.execute_input": "2025-08-27T21:41:16.510821Z",
     "iopub.status.busy": "2025-08-27T21:41:16.510635Z",
     "iopub.status.idle": "2025-08-27T21:41:16.512943Z",
     "shell.execute_reply": "2025-08-27T21:41:16.512471Z"
    }
   },
   "outputs": [],
   "source": [
    "settle_dt = Date(21, 7, 2017)"
   ]
  },
  {
   "cell_type": "code",
   "execution_count": 9,
   "metadata": {
    "execution": {
     "iopub.execute_input": "2025-08-27T21:41:16.514836Z",
     "iopub.status.busy": "2025-08-27T21:41:16.514655Z",
     "iopub.status.idle": "2025-08-27T21:41:16.522874Z",
     "shell.execute_reply": "2025-08-27T21:41:16.522381Z"
    }
   },
   "outputs": [],
   "source": [
    "liborFlatCurve = DiscountCurveFlat(settle_dt, liborFlatRate, FrequencyTypes.SEMI_ANNUAL)"
   ]
  },
  {
   "cell_type": "markdown",
   "metadata": {},
   "source": [
    "To get the OAS I need to know the bond price"
   ]
  },
  {
   "cell_type": "code",
   "execution_count": 10,
   "metadata": {
    "execution": {
     "iopub.execute_input": "2025-08-27T21:41:16.525397Z",
     "iopub.status.busy": "2025-08-27T21:41:16.525128Z",
     "iopub.status.idle": "2025-08-27T21:41:16.527805Z",
     "shell.execute_reply": "2025-08-27T21:41:16.527464Z"
    }
   },
   "outputs": [],
   "source": [
    "clean_price = 99.780842  # I specified face to be 100 - if face is 1 then this must be 0.99780842"
   ]
  },
  {
   "cell_type": "markdown",
   "metadata": {},
   "source": [
    "OAS is similar to ASW but actually subtly different measure of credit spread with a different definition and compounding annual_frequency. "
   ]
  },
  {
   "cell_type": "code",
   "execution_count": 11,
   "metadata": {
    "execution": {
     "iopub.execute_input": "2025-08-27T21:41:16.529794Z",
     "iopub.status.busy": "2025-08-27T21:41:16.529541Z",
     "iopub.status.idle": "2025-08-27T21:41:16.537393Z",
     "shell.execute_reply": "2025-08-27T21:41:16.536827Z"
    }
   },
   "outputs": [
    {
     "data": {
      "text/plain": [
       "np.float64(-34.95229384400636)"
      ]
     },
     "execution_count": 11,
     "metadata": {},
     "output_type": "execute_result"
    }
   ],
   "source": [
    "bond.option_adjusted_spread(settle_dt, clean_price, liborFlatCurve) * 10000"
   ]
  },
  {
   "cell_type": "markdown",
   "metadata": {},
   "source": [
    "## Vectorisations"
   ]
  },
  {
   "cell_type": "markdown",
   "metadata": {},
   "source": [
    "We plot them both as a function of the Bond clean price."
   ]
  },
  {
   "cell_type": "code",
   "execution_count": 12,
   "metadata": {
    "execution": {
     "iopub.execute_input": "2025-08-27T21:41:16.539802Z",
     "iopub.status.busy": "2025-08-27T21:41:16.539516Z",
     "iopub.status.idle": "2025-08-27T21:41:16.542528Z",
     "shell.execute_reply": "2025-08-27T21:41:16.542150Z"
    }
   },
   "outputs": [],
   "source": [
    "clean_prices = np.linspace(70,130,10)"
   ]
  },
  {
   "cell_type": "code",
   "execution_count": 13,
   "metadata": {
    "execution": {
     "iopub.execute_input": "2025-08-27T21:41:16.544170Z",
     "iopub.status.busy": "2025-08-27T21:41:16.543952Z",
     "iopub.status.idle": "2025-08-27T21:41:16.568635Z",
     "shell.execute_reply": "2025-08-27T21:41:16.568056Z"
    }
   },
   "outputs": [],
   "source": [
    "oass = bond.option_adjusted_spread(settle_dt, clean_prices, liborFlatCurve)"
   ]
  },
  {
   "cell_type": "code",
   "execution_count": 14,
   "metadata": {
    "execution": {
     "iopub.execute_input": "2025-08-27T21:41:16.571316Z",
     "iopub.status.busy": "2025-08-27T21:41:16.570993Z",
     "iopub.status.idle": "2025-08-27T21:41:16.686698Z",
     "shell.execute_reply": "2025-08-27T21:41:16.686153Z"
    }
   },
   "outputs": [
    {
     "data": {
      "image/png": "[encoded data removed]",
      "text/plain": [
       "<Figure size 640x480 with 1 Axes>"
      ]
     },
     "metadata": {},
     "output_type": "display_data"
    }
   ],
   "source": [
    "plt.plot(clean_prices,oass*10000)\n",
    "plt.xlabel(\"Bond Clean Price\")\n",
    "plt.ylabel(\"OAS (bp)\")\n",
    "plt.grid()"
   ]
  },
  {
   "cell_type": "markdown",
   "metadata": {},
   "source": [
    "Copyright (c) 2020 Dominic O'Kane"
   ]
  },
  {
   "cell_type": "markdown",
   "metadata": {},
   "source": []
  }
 ],
 "metadata": {
  "kernelspec": {
   "display_name": "base",
   "language": "python",
   "name": "python3"
  },
  "language_info": {
   "codemirror_mode": {
    "name": "ipython",
    "version": 3
   },
   "file_extension": ".py",
   "mimetype": "text/x-python",
   "name": "python",
   "nbconvert_exporter": "python",
   "pygments_lexer": "ipython3",
   "version": "3.13.5"
  }
 },
 "nbformat": 4,
 "nbformat_minor": 2
}
