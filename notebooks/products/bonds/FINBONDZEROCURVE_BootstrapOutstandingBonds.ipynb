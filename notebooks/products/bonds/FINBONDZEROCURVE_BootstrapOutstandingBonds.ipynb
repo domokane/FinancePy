{
 "cells": [
  {
   "cell_type": "markdown",
   "metadata": {},
   "source": [
    "# BOOTSTRAP BONDS TO CREATE A ZERO CURVE"
   ]
  },
  {
   "cell_type": "markdown",
   "metadata": {},
   "source": [
    "In this notebook I show how you can exactly refit the implied zero curve from bond prices using a piecewise flat curve."
   ]
  },
  {
   "cell_type": "code",
   "execution_count": 1,
   "metadata": {
    "execution": {
     "iopub.execute_input": "2025-09-14T22:20:04.161767Z",
     "iopub.status.busy": "2025-09-14T22:20:04.161647Z",
     "iopub.status.idle": "2025-09-14T22:20:04.347218Z",
     "shell.execute_reply": "2025-09-14T22:20:04.346882Z"
    }
   },
   "outputs": [],
   "source": [
    "import datetime as dt\n",
    "import pandas as pd"
   ]
  },
  {
   "cell_type": "code",
   "execution_count": 2,
   "metadata": {
    "execution": {
     "iopub.execute_input": "2025-09-14T22:20:04.349390Z",
     "iopub.status.busy": "2025-09-14T22:20:04.349186Z",
     "iopub.status.idle": "2025-09-14T22:20:05.250421Z",
     "shell.execute_reply": "2025-09-14T22:20:05.249642Z"
    }
   },
   "outputs": [],
   "source": [
    "from financepy.utils import *\n",
    "from financepy.products.bonds import *\n",
    "from financepy.market.curves import *"
   ]
  },
  {
   "cell_type": "markdown",
   "metadata": {},
   "source": [
    "## Load Bond Data"
   ]
  },
  {
   "cell_type": "markdown",
   "metadata": {},
   "source": [
    "I have downloaded some bond price data from the UK DMO"
   ]
  },
  {
   "cell_type": "code",
   "execution_count": 3,
   "metadata": {
    "execution": {
     "iopub.execute_input": "2025-09-14T22:20:05.252384Z",
     "iopub.status.busy": "2025-09-14T22:20:05.252160Z",
     "iopub.status.idle": "2025-09-14T22:20:05.257850Z",
     "shell.execute_reply": "2025-09-14T22:20:05.257591Z"
    }
   },
   "outputs": [
    {
     "name": "stdout",
     "output_type": "stream",
     "text": [
      "[WinError 3] The system cannot find the path specified: 'notebooks/products/bonds/'\n",
      "C:\\Users\\domok\\Dropbox\\Desktop\\RESEARCH_DB\\FinancePy\\Code\\financepy-git\\notebooks\\products\\bonds\n"
     ]
    },
    {
     "data": {
      "text/plain": [
       "'C:\\\\Users\\\\domok\\\\Dropbox\\\\Desktop\\\\RESEARCH_DB\\\\FinancePy\\\\Code\\\\financepy-git\\\\notebooks\\\\products\\\\bonds'"
      ]
     },
     "execution_count": 3,
     "metadata": {},
     "output_type": "execute_result"
    }
   ],
   "source": [
    "# Move into the local folder of notebook\n",
    "%pwd\n",
    "%cd notebooks/products/bonds/\n",
    "%pwd"
   ]
  },
  {
   "cell_type": "code",
   "execution_count": 4,
   "metadata": {
    "execution": {
     "iopub.execute_input": "2025-09-14T22:20:05.259730Z",
     "iopub.status.busy": "2025-09-14T22:20:05.259612Z",
     "iopub.status.idle": "2025-09-14T22:20:05.264213Z",
     "shell.execute_reply": "2025-09-14T22:20:05.263660Z"
    }
   },
   "outputs": [],
   "source": [
    "bond_dataframe = pd.read_csv('./data/giltbondprices.txt', sep='\\t')"
   ]
  },
  {
   "cell_type": "markdown",
   "metadata": {},
   "source": [
    "We'll use mid-market prices for our analysis"
   ]
  },
  {
   "cell_type": "code",
   "execution_count": 5,
   "metadata": {
    "execution": {
     "iopub.execute_input": "2025-09-14T22:20:05.265177Z",
     "iopub.status.busy": "2025-09-14T22:20:05.265072Z",
     "iopub.status.idle": "2025-09-14T22:20:05.268375Z",
     "shell.execute_reply": "2025-09-14T22:20:05.268104Z"
    }
   },
   "outputs": [],
   "source": [
    "bond_dataframe['mid'] = 0.5*(bond_dataframe['bid'] + bond_dataframe['ask'])"
   ]
  },
  {
   "cell_type": "markdown",
   "metadata": {},
   "source": [
    "We need to use UK bond conventions"
   ]
  },
  {
   "cell_type": "code",
   "execution_count": 6,
   "metadata": {
    "execution": {
     "iopub.execute_input": "2025-09-14T22:20:05.269327Z",
     "iopub.status.busy": "2025-09-14T22:20:05.269214Z",
     "iopub.status.idle": "2025-09-14T22:20:05.271564Z",
     "shell.execute_reply": "2025-09-14T22:20:05.271292Z"
    }
   },
   "outputs": [],
   "source": [
    "dc_type, freq_type, settle_days, spot_days, cal = \\\n",
    "get_bond_market_conventions(BondMarkets.UNITED_KINGDOM)"
   ]
  },
  {
   "cell_type": "code",
   "execution_count": 7,
   "metadata": {
    "execution": {
     "iopub.execute_input": "2025-09-14T22:20:05.273270Z",
     "iopub.status.busy": "2025-09-14T22:20:05.273148Z",
     "iopub.status.idle": "2025-09-14T22:20:05.275738Z",
     "shell.execute_reply": "2025-09-14T22:20:05.275450Z"
    }
   },
   "outputs": [
    {
     "data": {
      "text/plain": [
       "<FrequencyTypes.SEMI_ANNUAL: 2>"
      ]
     },
     "execution_count": 7,
     "metadata": {},
     "output_type": "execute_result"
    }
   ],
   "source": [
    "freq_type"
   ]
  },
  {
   "cell_type": "code",
   "execution_count": 8,
   "metadata": {
    "execution": {
     "iopub.execute_input": "2025-09-14T22:20:05.277279Z",
     "iopub.status.busy": "2025-09-14T22:20:05.277173Z",
     "iopub.status.idle": "2025-09-14T22:20:05.298376Z",
     "shell.execute_reply": "2025-09-14T22:20:05.298007Z"
    }
   },
   "outputs": [
    {
     "name": "stdout",
     "output_type": "stream",
     "text": [
      "Settles: 19-SEP-2012\n"
     ]
    }
   ],
   "source": [
    "today = Date(18,9,2012)\n",
    "settle_dt = today.add_weekdays(settle_days)\n",
    "print(\"Settles:\", settle_dt)"
   ]
  },
  {
   "cell_type": "code",
   "execution_count": 9,
   "metadata": {
    "execution": {
     "iopub.execute_input": "2025-09-14T22:20:05.299999Z",
     "iopub.status.busy": "2025-09-14T22:20:05.299867Z",
     "iopub.status.idle": "2025-09-14T22:20:05.302171Z",
     "shell.execute_reply": "2025-09-14T22:20:05.301950Z"
    }
   },
   "outputs": [],
   "source": [
    "bonds = []\n",
    "clean_prices = []"
   ]
  },
  {
   "cell_type": "code",
   "execution_count": 10,
   "metadata": {
    "execution": {
     "iopub.execute_input": "2025-09-14T22:20:05.303194Z",
     "iopub.status.busy": "2025-09-14T22:20:05.303063Z",
     "iopub.status.idle": "2025-09-14T22:20:05.316267Z",
     "shell.execute_reply": "2025-09-14T22:20:05.315959Z"
    }
   },
   "outputs": [],
   "source": [
    "for index, bondRow in bond_dataframe.iterrows():\n",
    "\n",
    "    date_string = bondRow['maturity']\n",
    "    mat_dt_time = dt.datetime.strptime(date_string, '%d-%b-%y')\n",
    "    maturity_dt = from_datetime(mat_dt_time)\n",
    "    issue_dt = Date(maturity_dt.d, maturity_dt.m, 2000)\n",
    "    coupon = bondRow['coupon']/100.0\n",
    "    bond = Bond(issue_dt, maturity_dt, coupon, freq_type, dc_type)\n",
    "    clean_price = bondRow['mid']\n",
    "\n",
    "    bonds.append(bond)\n",
    "    clean_prices.append(clean_price)"
   ]
  },
  {
   "cell_type": "markdown",
   "metadata": {},
   "source": [
    "## Bootstrapping the Bond Prices"
   ]
  },
  {
   "cell_type": "markdown",
   "metadata": {},
   "source": [
    "We pass the bond prices and bonds and the bootstrap is done automatically"
   ]
  },
  {
   "cell_type": "code",
   "execution_count": 11,
   "metadata": {
    "execution": {
     "iopub.execute_input": "2025-09-14T22:20:05.317703Z",
     "iopub.status.busy": "2025-09-14T22:20:05.317499Z",
     "iopub.status.idle": "2025-09-14T22:20:05.329032Z",
     "shell.execute_reply": "2025-09-14T22:20:05.328657Z"
    }
   },
   "outputs": [],
   "source": [
    "bondCurve = BondZeroCurve(settle_dt, bonds, clean_prices)"
   ]
  },
  {
   "cell_type": "markdown",
   "metadata": {},
   "source": [
    "Let's just check that this curve reprices the bond"
   ]
  },
  {
   "cell_type": "code",
   "execution_count": 12,
   "metadata": {
    "execution": {
     "iopub.execute_input": "2025-09-14T22:20:05.330237Z",
     "iopub.status.busy": "2025-09-14T22:20:05.330126Z",
     "iopub.status.idle": "2025-09-14T22:20:05.335261Z",
     "shell.execute_reply": "2025-09-14T22:20:05.334959Z"
    }
   },
   "outputs": [
    {
     "name": "stdout",
     "output_type": "stream",
     "text": [
      "Market: 101.995000   Fitted: 101.995000   Diff: -0.0000000\n",
      "Market: 107.920000   Fitted: 107.920000   Diff: -0.0000002\n",
      "Market: 102.975000   Fitted: 102.975000   Diff:  0.0000000\n",
      "Market: 109.355000   Fitted: 109.355000   Diff: -0.0000000\n",
      "Market: 105.625000   Fitted: 105.625000   Diff: -0.0000000\n",
      "Market: 112.980000   Fitted: 112.979999   Diff: -0.0000008\n",
      "Market: 124.470000   Fitted: 124.470000   Diff:  0.0000000\n",
      "Market: 104.980000   Fitted: 104.980000   Diff:  0.0000000\n",
      "Market: 113.495000   Fitted: 113.494999   Diff: -0.0000006\n",
      "Market: 138.570000   Fitted: 138.570000   Diff: -0.0000000\n",
      "Market: 121.790000   Fitted: 121.789999   Diff: -0.0000007\n",
      "Market: 121.345000   Fitted: 121.345000   Diff: -0.0000000\n",
      "Market: 116.815000   Fitted: 116.815000   Diff: -0.0000000\n",
      "Market: 124.300000   Fitted: 124.300000   Diff: -0.0000000\n",
      "Market: 117.375000   Fitted: 117.375000   Diff: -0.0000000\n",
      "Market: 152.930000   Fitted: 152.930000   Diff: -0.0000000\n",
      "Market: 117.695000   Fitted: 117.695000   Diff:  0.0000000\n",
      "Market: 120.020000   Fitted: 120.020000   Diff: -0.0000000\n",
      "Market: 132.040000   Fitted: 132.040000   Diff: -0.0000000\n",
      "Market: 124.055000   Fitted: 124.055000   Diff: -0.0000000\n",
      "Market: 148.235000   Fitted: 148.235000   Diff: -0.0000000\n",
      "Market: 131.050000   Fitted: 131.050000   Diff: -0.0000000\n",
      "Market: 123.005000   Fitted: 123.005000   Diff: -0.0000000\n",
      "Market: 126.135000   Fitted: 126.135000   Diff: -0.0000000\n",
      "Market: 121.585000   Fitted: 121.585000   Diff: -0.0000000\n",
      "Market: 130.750000   Fitted: 130.750000   Diff: -0.0000000\n",
      "Market: 121.025000   Fitted: 121.025000   Diff: -0.0000000\n",
      "Market: 120.740000   Fitted: 120.740000   Diff: -0.0000000\n",
      "Market: 125.920000   Fitted: 125.920000   Diff: -0.0000000\n",
      "Market: 121.150000   Fitted: 121.150000   Diff: -0.0000000\n",
      "Market: 121.165000   Fitted: 121.165000   Diff: -0.0000000\n",
      "Market: 122.695000   Fitted: 122.695000   Diff: -0.0000000\n",
      "Market: 117.830000   Fitted: 117.830000   Diff: -0.0000000\n"
     ]
    }
   ],
   "source": [
    "for clean_price, bond in zip(clean_prices,bonds):\n",
    "    fittedPrice = bond.clean_price_from_discount_curve(settle_dt, bondCurve)\n",
    "    diff = fittedPrice - clean_price\n",
    "    print(\"Market: %10.6f   Fitted: %10.6f   Diff: %10.7f\"% (clean_price,fittedPrice,diff))"
   ]
  },
  {
   "cell_type": "markdown",
   "metadata": {},
   "source": [
    "What does the zero rate curve look like"
   ]
  },
  {
   "cell_type": "code",
   "execution_count": 13,
   "metadata": {
    "execution": {
     "iopub.execute_input": "2025-09-14T22:20:05.336333Z",
     "iopub.status.busy": "2025-09-14T22:20:05.336216Z",
     "iopub.status.idle": "2025-09-14T22:20:05.413845Z",
     "shell.execute_reply": "2025-09-14T22:20:05.413474Z"
    }
   },
   "outputs": [
    {
     "data": {
      "image/png": "[encoded data removed]",
      "text/plain": [
       "<Figure size 1200x600 with 1 Axes>"
      ]
     },
     "metadata": {},
     "output_type": "display_data"
    }
   ],
   "source": [
    "bondCurve.plot(\"GBP Zero Rate Curve\")"
   ]
  },
  {
   "cell_type": "markdown",
   "metadata": {},
   "source": [
    "## Forward Curve"
   ]
  },
  {
   "cell_type": "markdown",
   "metadata": {},
   "source": [
    "How about the continuously compounded forwards. This gives us a detailed view on the term structure implied by the bond prices."
   ]
  },
  {
   "cell_type": "code",
   "execution_count": 14,
   "metadata": {
    "execution": {
     "iopub.execute_input": "2025-09-14T22:20:05.415104Z",
     "iopub.status.busy": "2025-09-14T22:20:05.414957Z",
     "iopub.status.idle": "2025-09-14T22:20:05.417629Z",
     "shell.execute_reply": "2025-09-14T22:20:05.416887Z"
    }
   },
   "outputs": [],
   "source": [
    "import numpy as np\n",
    "import matplotlib.pyplot as plt"
   ]
  },
  {
   "cell_type": "code",
   "execution_count": 15,
   "metadata": {
    "execution": {
     "iopub.execute_input": "2025-09-14T22:20:05.418667Z",
     "iopub.status.busy": "2025-09-14T22:20:05.418553Z",
     "iopub.status.idle": "2025-09-14T22:20:05.420543Z",
     "shell.execute_reply": "2025-09-14T22:20:05.420264Z"
    }
   },
   "outputs": [],
   "source": [
    "times = np.linspace(0,10,2000)"
   ]
  },
  {
   "cell_type": "code",
   "execution_count": 16,
   "metadata": {
    "execution": {
     "iopub.execute_input": "2025-09-14T22:20:05.421452Z",
     "iopub.status.busy": "2025-09-14T22:20:05.421344Z",
     "iopub.status.idle": "2025-09-14T22:20:05.423361Z",
     "shell.execute_reply": "2025-09-14T22:20:05.423075Z"
    }
   },
   "outputs": [],
   "source": [
    "fwds = bondCurve.fwd(times)"
   ]
  },
  {
   "cell_type": "code",
   "execution_count": 17,
   "metadata": {
    "execution": {
     "iopub.execute_input": "2025-09-14T22:20:05.424221Z",
     "iopub.status.busy": "2025-09-14T22:20:05.424115Z",
     "iopub.status.idle": "2025-09-14T22:20:05.470924Z",
     "shell.execute_reply": "2025-09-14T22:20:05.470604Z"
    }
   },
   "outputs": [
    {
     "data": {
      "image/png": "[encoded data removed]",
      "text/plain": [
       "<Figure size 1000x600 with 1 Axes>"
      ]
     },
     "metadata": {},
     "output_type": "display_data"
    }
   ],
   "source": [
    "plt.figure(figsize=(10,6))\n",
    "plt.plot(times,fwds*100, label=\"Instantaneous Forwards\")\n",
    "plt.xlabel(\"Time\")\n",
    "plt.ylabel(\"Forwards (%)\")\n",
    "plt.legend()\n",
    "plt.grid()"
   ]
  },
  {
   "cell_type": "markdown",
   "metadata": {},
   "source": [
    "Looks like there is some anomaly or mispricing around 3 years. As it does not last for long, it is probably not significant. "
   ]
  },
  {
   "cell_type": "markdown",
   "metadata": {},
   "source": [
    "Copyright (c) 2019, Dominic O'Kane "
   ]
  }
 ],
 "metadata": {
  "kernelspec": {
   "display_name": "base",
   "language": "python",
   "name": "python3"
  },
  "language_info": {
   "codemirror_mode": {
    "name": "ipython",
    "version": 3
   },
   "file_extension": ".py",
   "mimetype": "text/x-python",
   "name": "python",
   "nbconvert_exporter": "python",
   "pygments_lexer": "ipython3",
   "version": "3.13.7"
  }
 },
 "nbformat": 4,
 "nbformat_minor": 2
}
