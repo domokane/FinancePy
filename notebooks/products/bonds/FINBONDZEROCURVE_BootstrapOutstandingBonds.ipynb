{
 "cells": [
  {
   "cell_type": "markdown",
   "metadata": {},
   "source": [
    "# BOOTSTRAP BONDS TO CREATE A ZERO CURVE"
   ]
  },
  {
   "cell_type": "markdown",
   "metadata": {},
   "source": [
    "In this notebook I show how you can exactly refit the implied zero curve from bond prices using a piecewise flat curve."
   ]
  },
  {
   "cell_type": "code",
   "execution_count": 1,
   "metadata": {
    "execution": {
     "iopub.execute_input": "2025-08-27T21:41:10.727742Z",
     "iopub.status.busy": "2025-08-27T21:41:10.727510Z",
     "iopub.status.idle": "2025-08-27T21:41:11.178295Z",
     "shell.execute_reply": "2025-08-27T21:41:11.177564Z"
    }
   },
   "outputs": [],
   "source": [
    "import datetime as dt\n",
    "import pandas as pd"
   ]
  },
  {
   "cell_type": "code",
   "execution_count": 2,
   "metadata": {
    "execution": {
     "iopub.execute_input": "2025-08-27T21:41:11.180463Z",
     "iopub.status.busy": "2025-08-27T21:41:11.180186Z",
     "iopub.status.idle": "2025-08-27T21:41:12.639403Z",
     "shell.execute_reply": "2025-08-27T21:41:12.638832Z"
    }
   },
   "outputs": [
    {
     "name": "stdout",
     "output_type": "stream",
     "text": [
      "####################################################################\n",
      "#    FINANCEPY Version 1.1 - This build: 27 Aug 2025 at 23:27      #\n",
      "#     This software is distributed FREE AND WITHOUT ANY WARRANTY   #\n",
      "#  Report bugs as issues at https://github.com/domokane/FinancePy  #\n",
      "####################################################################\n",
      "\n"
     ]
    }
   ],
   "source": [
    "from financepy.utils import *\n",
    "from financepy.products.bonds import *\n",
    "from financepy.market.curves import *"
   ]
  },
  {
   "cell_type": "markdown",
   "metadata": {},
   "source": [
    "## Load Bond Data"
   ]
  },
  {
   "cell_type": "markdown",
   "metadata": {},
   "source": [
    "I have downloaded some bond price data from the UK DMO"
   ]
  },
  {
   "cell_type": "code",
   "execution_count": 3,
   "metadata": {
    "execution": {
     "iopub.execute_input": "2025-08-27T21:41:12.642357Z",
     "iopub.status.busy": "2025-08-27T21:41:12.641794Z",
     "iopub.status.idle": "2025-08-27T21:41:12.648595Z",
     "shell.execute_reply": "2025-08-27T21:41:12.648207Z"
    }
   },
   "outputs": [
    {
     "name": "stdout",
     "output_type": "stream",
     "text": [
      "[WinError 3] The system cannot find the path specified: 'notebooks/products/bonds/'\n",
      "C:\\Users\\Dominic\\Dropbox\\Desktop\\RESEARCH_DB\\FinancePy\\Code\\financepy-git\\notebooks\\products\\bonds\n"
     ]
    },
    {
     "data": {
      "text/plain": [
       "'C:\\\\Users\\\\Dominic\\\\Dropbox\\\\Desktop\\\\RESEARCH_DB\\\\FinancePy\\\\Code\\\\financepy-git\\\\notebooks\\\\products\\\\bonds'"
      ]
     },
     "execution_count": 3,
     "metadata": {},
     "output_type": "execute_result"
    }
   ],
   "source": [
    "# Move into the local folder of notebook\n",
    "%pwd\n",
    "%cd notebooks/products/bonds/\n",
    "%pwd"
   ]
  },
  {
   "cell_type": "code",
   "execution_count": 4,
   "metadata": {
    "execution": {
     "iopub.execute_input": "2025-08-27T21:41:12.650545Z",
     "iopub.status.busy": "2025-08-27T21:41:12.650328Z",
     "iopub.status.idle": "2025-08-27T21:41:12.657749Z",
     "shell.execute_reply": "2025-08-27T21:41:12.657332Z"
    }
   },
   "outputs": [],
   "source": [
    "bond_dataframe = pd.read_csv('./data/giltbondprices.txt', sep='\\t')"
   ]
  },
  {
   "cell_type": "markdown",
   "metadata": {},
   "source": [
    "We'll use mid-market prices for our analysis"
   ]
  },
  {
   "cell_type": "code",
   "execution_count": 5,
   "metadata": {
    "execution": {
     "iopub.execute_input": "2025-08-27T21:41:12.660120Z",
     "iopub.status.busy": "2025-08-27T21:41:12.659840Z",
     "iopub.status.idle": "2025-08-27T21:41:12.662960Z",
     "shell.execute_reply": "2025-08-27T21:41:12.662599Z"
    }
   },
   "outputs": [],
   "source": [
    "bond_dataframe['mid'] = 0.5*(bond_dataframe['bid'] + bond_dataframe['ask'])"
   ]
  },
  {
   "cell_type": "markdown",
   "metadata": {},
   "source": [
    "We need to use UK bond conventions"
   ]
  },
  {
   "cell_type": "code",
   "execution_count": 6,
   "metadata": {
    "execution": {
     "iopub.execute_input": "2025-08-27T21:41:12.665125Z",
     "iopub.status.busy": "2025-08-27T21:41:12.664847Z",
     "iopub.status.idle": "2025-08-27T21:41:12.667416Z",
     "shell.execute_reply": "2025-08-27T21:41:12.667041Z"
    }
   },
   "outputs": [],
   "source": [
    "dc_type, freq_type, settle_days, spot_days, cal = \\\n",
    "get_bond_market_conventions(BondMarkets.UNITED_KINGDOM)"
   ]
  },
  {
   "cell_type": "code",
   "execution_count": 7,
   "metadata": {
    "execution": {
     "iopub.execute_input": "2025-08-27T21:41:12.669458Z",
     "iopub.status.busy": "2025-08-27T21:41:12.669274Z",
     "iopub.status.idle": "2025-08-27T21:41:12.672590Z",
     "shell.execute_reply": "2025-08-27T21:41:12.672082Z"
    }
   },
   "outputs": [
    {
     "data": {
      "text/plain": [
       "<FrequencyTypes.SEMI_ANNUAL: 2>"
      ]
     },
     "execution_count": 7,
     "metadata": {},
     "output_type": "execute_result"
    }
   ],
   "source": [
    "freq_type"
   ]
  },
  {
   "cell_type": "code",
   "execution_count": 8,
   "metadata": {
    "execution": {
     "iopub.execute_input": "2025-08-27T21:41:12.674569Z",
     "iopub.status.busy": "2025-08-27T21:41:12.674363Z",
     "iopub.status.idle": "2025-08-27T21:41:12.697123Z",
     "shell.execute_reply": "2025-08-27T21:41:12.696746Z"
    }
   },
   "outputs": [
    {
     "name": "stdout",
     "output_type": "stream",
     "text": [
      "Settles: 19-SEP-2012\n"
     ]
    }
   ],
   "source": [
    "today = Date(18,9,2012)\n",
    "settle_dt = today.add_weekdays(settle_days)\n",
    "print(\"Settles:\", settle_dt)"
   ]
  },
  {
   "cell_type": "code",
   "execution_count": 9,
   "metadata": {
    "execution": {
     "iopub.execute_input": "2025-08-27T21:41:12.699090Z",
     "iopub.status.busy": "2025-08-27T21:41:12.698877Z",
     "iopub.status.idle": "2025-08-27T21:41:12.701582Z",
     "shell.execute_reply": "2025-08-27T21:41:12.701002Z"
    }
   },
   "outputs": [],
   "source": [
    "bonds = []\n",
    "clean_prices = []"
   ]
  },
  {
   "cell_type": "code",
   "execution_count": 10,
   "metadata": {
    "execution": {
     "iopub.execute_input": "2025-08-27T21:41:12.703527Z",
     "iopub.status.busy": "2025-08-27T21:41:12.703265Z",
     "iopub.status.idle": "2025-08-27T21:41:12.726972Z",
     "shell.execute_reply": "2025-08-27T21:41:12.726464Z"
    }
   },
   "outputs": [],
   "source": [
    "for index, bondRow in bond_dataframe.iterrows():\n",
    "\n",
    "    date_string = bondRow['maturity']\n",
    "    mat_dt_time = dt.datetime.strptime(date_string, '%d-%b-%y')\n",
    "    maturity_dt = from_datetime(mat_dt_time)\n",
    "    issue_dt = Date(maturity_dt.d, maturity_dt.m, 2000)\n",
    "    coupon = bondRow['coupon']/100.0\n",
    "    bond = Bond(issue_dt, maturity_dt, coupon, freq_type, dc_type)\n",
    "    clean_price = bondRow['mid']\n",
    "\n",
    "    bonds.append(bond)\n",
    "    clean_prices.append(clean_price)"
   ]
  },
  {
   "cell_type": "markdown",
   "metadata": {},
   "source": [
    "## Bootstrapping the Bond Prices"
   ]
  },
  {
   "cell_type": "markdown",
   "metadata": {},
   "source": [
    "We pass the bond prices and bonds and the bootstrap is done automatically"
   ]
  },
  {
   "cell_type": "code",
   "execution_count": 11,
   "metadata": {
    "execution": {
     "iopub.execute_input": "2025-08-27T21:41:12.729659Z",
     "iopub.status.busy": "2025-08-27T21:41:12.729368Z",
     "iopub.status.idle": "2025-08-27T21:41:12.751888Z",
     "shell.execute_reply": "2025-08-27T21:41:12.751363Z"
    }
   },
   "outputs": [],
   "source": [
    "bondCurve = BondZeroCurve(settle_dt, bonds, clean_prices)"
   ]
  },
  {
   "cell_type": "markdown",
   "metadata": {},
   "source": [
    "Let's just check that this curve reprices the bond"
   ]
  },
  {
   "cell_type": "code",
   "execution_count": 12,
   "metadata": {
    "execution": {
     "iopub.execute_input": "2025-08-27T21:41:12.754316Z",
     "iopub.status.busy": "2025-08-27T21:41:12.754113Z",
     "iopub.status.idle": "2025-08-27T21:41:12.761130Z",
     "shell.execute_reply": "2025-08-27T21:41:12.760760Z"
    }
   },
   "outputs": [
    {
     "name": "stdout",
     "output_type": "stream",
     "text": [
      "Market: 101.995000   Fitted: 101.995000   Diff: -0.0000000\n",
      "Market: 107.920000   Fitted: 107.920000   Diff: -0.0000002\n",
      "Market: 102.975000   Fitted: 102.975000   Diff:  0.0000000\n",
      "Market: 109.355000   Fitted: 109.355000   Diff: -0.0000000\n",
      "Market: 105.625000   Fitted: 105.625000   Diff: -0.0000000\n",
      "Market: 112.980000   Fitted: 112.979999   Diff: -0.0000008\n",
      "Market: 124.470000   Fitted: 124.470000   Diff:  0.0000000\n",
      "Market: 104.980000   Fitted: 104.980000   Diff:  0.0000000\n",
      "Market: 113.495000   Fitted: 113.494999   Diff: -0.0000006\n",
      "Market: 138.570000   Fitted: 138.570000   Diff: -0.0000000\n",
      "Market: 121.790000   Fitted: 121.789999   Diff: -0.0000007\n",
      "Market: 121.345000   Fitted: 121.345000   Diff: -0.0000000\n",
      "Market: 116.815000   Fitted: 116.815000   Diff: -0.0000000\n",
      "Market: 124.300000   Fitted: 124.300000   Diff: -0.0000000\n",
      "Market: 117.375000   Fitted: 117.375000   Diff: -0.0000000\n",
      "Market: 152.930000   Fitted: 152.930000   Diff: -0.0000000\n",
      "Market: 117.695000   Fitted: 117.695000   Diff:  0.0000000\n",
      "Market: 120.020000   Fitted: 120.020000   Diff: -0.0000000\n",
      "Market: 132.040000   Fitted: 132.040000   Diff: -0.0000000\n",
      "Market: 124.055000   Fitted: 124.055000   Diff: -0.0000000\n",
      "Market: 148.235000   Fitted: 148.235000   Diff: -0.0000000\n",
      "Market: 131.050000   Fitted: 131.050000   Diff: -0.0000000\n",
      "Market: 123.005000   Fitted: 123.005000   Diff: -0.0000000\n",
      "Market: 126.135000   Fitted: 126.135000   Diff: -0.0000000\n",
      "Market: 121.585000   Fitted: 121.585000   Diff: -0.0000000\n",
      "Market: 130.750000   Fitted: 130.750000   Diff: -0.0000000\n",
      "Market: 121.025000   Fitted: 121.025000   Diff: -0.0000000\n",
      "Market: 120.740000   Fitted: 120.740000   Diff: -0.0000000\n",
      "Market: 125.920000   Fitted: 125.920000   Diff: -0.0000000\n",
      "Market: 121.150000   Fitted: 121.150000   Diff: -0.0000000\n",
      "Market: 121.165000   Fitted: 121.165000   Diff: -0.0000000\n",
      "Market: 122.695000   Fitted: 122.695000   Diff: -0.0000000\n",
      "Market: 117.830000   Fitted: 117.830000   Diff: -0.0000000\n"
     ]
    }
   ],
   "source": [
    "for clean_price, bond in zip(clean_prices,bonds):\n",
    "    fittedPrice = bond.clean_price_from_discount_curve(settle_dt, bondCurve)\n",
    "    diff = fittedPrice - clean_price\n",
    "    print(\"Market: %10.6f   Fitted: %10.6f   Diff: %10.7f\"% (clean_price,fittedPrice,diff))"
   ]
  },
  {
   "cell_type": "markdown",
   "metadata": {},
   "source": [
    "What does the zero rate curve look like"
   ]
  },
  {
   "cell_type": "code",
   "execution_count": 13,
   "metadata": {
    "execution": {
     "iopub.execute_input": "2025-08-27T21:41:12.763358Z",
     "iopub.status.busy": "2025-08-27T21:41:12.763161Z",
     "iopub.status.idle": "2025-08-27T21:41:12.914680Z",
     "shell.execute_reply": "2025-08-27T21:41:12.914246Z"
    }
   },
   "outputs": [
    {
     "data": {
      "image/png": "[encoded data removed]",
      "text/plain": [
       "<Figure size 1200x600 with 1 Axes>"
      ]
     },
     "metadata": {},
     "output_type": "display_data"
    }
   ],
   "source": [
    "bondCurve.plot(\"GBP Zero Rate Curve\")"
   ]
  },
  {
   "cell_type": "markdown",
   "metadata": {},
   "source": [
    "## Forward Curve"
   ]
  },
  {
   "cell_type": "markdown",
   "metadata": {},
   "source": [
    "How about the continuously compounded forwards. This gives us a detailed view on the term structure implied by the bond prices."
   ]
  },
  {
   "cell_type": "code",
   "execution_count": 14,
   "metadata": {
    "execution": {
     "iopub.execute_input": "2025-08-27T21:41:12.916762Z",
     "iopub.status.busy": "2025-08-27T21:41:12.916533Z",
     "iopub.status.idle": "2025-08-27T21:41:12.919219Z",
     "shell.execute_reply": "2025-08-27T21:41:12.918781Z"
    }
   },
   "outputs": [],
   "source": [
    "import numpy as np\n",
    "import matplotlib.pyplot as plt"
   ]
  },
  {
   "cell_type": "code",
   "execution_count": 15,
   "metadata": {
    "execution": {
     "iopub.execute_input": "2025-08-27T21:41:12.921836Z",
     "iopub.status.busy": "2025-08-27T21:41:12.921408Z",
     "iopub.status.idle": "2025-08-27T21:41:12.924070Z",
     "shell.execute_reply": "2025-08-27T21:41:12.923577Z"
    }
   },
   "outputs": [],
   "source": [
    "times = np.linspace(0,10,2000)"
   ]
  },
  {
   "cell_type": "code",
   "execution_count": 16,
   "metadata": {
    "execution": {
     "iopub.execute_input": "2025-08-27T21:41:12.926207Z",
     "iopub.status.busy": "2025-08-27T21:41:12.925924Z",
     "iopub.status.idle": "2025-08-27T21:41:12.928892Z",
     "shell.execute_reply": "2025-08-27T21:41:12.928532Z"
    }
   },
   "outputs": [],
   "source": [
    "fwds = bondCurve.fwd(times)"
   ]
  },
  {
   "cell_type": "code",
   "execution_count": 17,
   "metadata": {
    "execution": {
     "iopub.execute_input": "2025-08-27T21:41:12.930736Z",
     "iopub.status.busy": "2025-08-27T21:41:12.930573Z",
     "iopub.status.idle": "2025-08-27T21:41:13.029571Z",
     "shell.execute_reply": "2025-08-27T21:41:13.029155Z"
    }
   },
   "outputs": [
    {
     "data": {
      "image/png": "[encoded data removed]",
      "text/plain": [
       "<Figure size 1000x600 with 1 Axes>"
      ]
     },
     "metadata": {},
     "output_type": "display_data"
    }
   ],
   "source": [
    "plt.figure(figsize=(10,6))\n",
    "plt.plot(times,fwds*100, label=\"Instantaneous Forwards\")\n",
    "plt.xlabel(\"Time\")\n",
    "plt.ylabel(\"Forwards (%)\")\n",
    "plt.legend()\n",
    "plt.grid()"
   ]
  },
  {
   "cell_type": "markdown",
   "metadata": {},
   "source": [
    "Looks like there is some anomaly or mispricing around 3 years. As it does not last for long, it is probably not significant. "
   ]
  },
  {
   "cell_type": "markdown",
   "metadata": {},
   "source": [
    "Copyright (c) 2019, Dominic O'Kane "
   ]
  }
 ],
 "metadata": {
  "kernelspec": {
   "display_name": "base",
   "language": "python",
   "name": "python3"
  },
  "language_info": {
   "codemirror_mode": {
    "name": "ipython",
    "version": 3
   },
   "file_extension": ".py",
   "mimetype": "text/x-python",
   "name": "python",
   "nbconvert_exporter": "python",
   "pygments_lexer": "ipython3",
   "version": "3.13.5"
  }
 },
 "nbformat": 4,
 "nbformat_minor": 2
}
