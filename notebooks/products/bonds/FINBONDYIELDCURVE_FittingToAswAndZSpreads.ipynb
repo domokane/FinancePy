{
    "cells": [
        {
            "cell_type": "code",
            "execution_count": null,
            "metadata": {},
            "outputs": [],
            "source": [
                "%load_ext autoreload\n",
                "%autoreload 2"
            ]
        },
        {
            "cell_type": "markdown",
            "metadata": {},
            "source": [
                "# Fitting Bond ASW and Z-Spread Curves"
            ]
        },
        {
            "cell_type": "markdown",
            "metadata": {},
            "source": [
                "Fitting a bond curve to asset swap spreads and z-scores, using the range of parametric functions provided"
            ]
        },
        {
            "cell_type": "code",
            "execution_count": null,
            "metadata": {},
            "outputs": [],
            "source": [
                "import datetime as dt\n",
                "import pandas as pd\n",
                "import numpy as np"
            ]
        },
        {
            "cell_type": "code",
            "execution_count": null,
            "metadata": {},
            "outputs": [],
            "source": [
                "from financepy.utils import *\n",
                "from financepy.products.bonds import *\n",
                "from financepy.products.rates.ibor_single_curve import IborSingleCurve\n",
                "from financepy.products.rates.ibor_benchmarks_report import dataframe_to_benchmarks"
            ]
        },
        {
            "cell_type": "markdown",
            "metadata": {},
            "source": [
                "### Load up some Bond and Curve Data"
            ]
        },
        {
            "cell_type": "code",
            "execution_count": null,
            "metadata": {},
            "outputs": [],
            "source": [
                "bond_dataframe = pd.read_csv('./data/giltbondprices.txt', sep='\\t')\n",
                "bond_dataframe['mid'] = 0.5*(bond_dataframe['bid'] + bond_dataframe['ask'])\n",
                "bond_dataframe['maturity'] = pd.to_datetime(bond_dataframe['maturity'])"
            ]
        },
        {
            "cell_type": "code",
            "execution_count": null,
            "metadata": {},
            "outputs": [],
            "source": [
                "bond_dataframe.head()\n",
                "len(bond_dataframe)"
            ]
        },
        {
            "cell_type": "code",
            "execution_count": null,
            "metadata": {},
            "outputs": [],
            "source": [
                "dfbm = pd.read_csv('./data/GBP_OIS_20120919.csv', index_col=0)\n",
                "dfbm['base_date'] = pd.to_datetime(dfbm['base_date'], errors='ignore', format='%d/%m/%Y')\n",
                "dfbm['start_dt'] = pd.to_datetime(dfbm['start_dt'], errors='ignore')  # allow tenors\n",
                "dfbm['maturity_dt'] = pd.to_datetime(dfbm['maturity_dt'], errors='ignore')  # allow tenors"
            ]
        },
        {
            "cell_type": "code",
            "execution_count": null,
            "metadata": {},
            "outputs": [],
            "source": [
                "valuation_date = from_datetime(dfbm.loc[0, 'base_date'])\n",
                "cal = CalendarTypes.UNITED_KINGDOM\n",
                "bms = dataframe_to_benchmarks(dfbm, asof_date=valuation_date, calendar_type=cal)\n",
                "depos = bms['IborDeposit']\n",
                "fras = bms['IborFRA']\n",
                "swaps = bms['IborSwap']\n",
                "\n",
                "fras.sort(key=lambda fra: fra.maturity_dt)\n",
                "ois_curve = IborSingleCurve(valuation_date, depos, fras, swaps, InterpTypes.LINEAR_ZERO_RATES)"
            ]
        },
        {
            "cell_type": "code",
            "execution_count": null,
            "metadata": {},
            "outputs": [],
            "source": [
                "# SPECIFY UK BOND CONVENTIONS\n",
                "freq_type = FrequencyTypes.SEMI_ANNUAL\n",
                "accrual_type = DayCountTypes.ACT_ACT_ICMA\n",
                "settlement = valuation_date"
            ]
        },
        {
            "cell_type": "code",
            "execution_count": null,
            "metadata": {},
            "outputs": [],
            "source": [
                "bonds = []\n",
                "asws = []\n",
                "z_spreads = []\n",
                "\n",
                "# LOAD BONDS AND CREATE A VECTOR OF FINBOND AND THEIR CORRESPONDING asms/z-spreads\n",
                "\n",
                "for index, bondData in bond_dataframe.iterrows():\n",
                "\n",
                "    date_string = bondData['maturity']\n",
                "    matDatetime = bondData['maturity']\n",
                "    maturity_dt = from_datetime(matDatetime)\n",
                "    coupon = bondData['coupon']/100.0\n",
                "    clean_price = bondData['mid']\n",
                "    issue_date = Date(maturity_dt.d, maturity_dt.m, 2000)\n",
                "    bond = Bond(issue_date, maturity_dt, coupon, freq_type, accrual_type)\n",
                "\n",
                "    z_spread = bond.z_spread(settlement, clean_price, ois_curve)\n",
                "    asset_swap_spread = bond.asset_swap_spread(ois_curve.value_dt, clean_price, ois_curve)\n",
                "\n",
                "    bonds.append(bond)\n",
                "    asws.append(asset_swap_spread)    \n",
                "    z_spreads.append(z_spread)"
            ]
        },
        {
            "cell_type": "markdown",
            "metadata": {},
            "source": [
                "### Eyerball asset swap spreads and z-spreads"
            ]
        },
        {
            "cell_type": "code",
            "execution_count": null,
            "metadata": {},
            "outputs": [],
            "source": [
                "plt.plot(bond_dataframe['maturity'], np.array(asws)*100, '.', label='asset_swap_spread')\n",
                "plt.plot(bond_dataframe['maturity'], np.array(z_spreads)*100, '.', label='z_spread')\n",
                "plt.legend(loc='best')\n",
                "plt.show()\n"
            ]
        },
        {
            "cell_type": "code",
            "execution_count": null,
            "metadata": {},
            "outputs": [],
            "source": [
                "plt.plot(np.array(asws)*100, np.array(z_spreads)*100, '.', label='z_spreads')\n",
                "plt.plot(np.array(asws)*100, np.array(asws)*100, '--', label = 'x=y')\n",
                "plt.xlabel('asset_swap_spread')\n",
                "plt.ylabel('z_spread')\n",
                "plt.legend(loc='best')\n",
                "plt.show()\n"
            ]
        },
        {
            "cell_type": "markdown",
            "metadata": {},
            "source": [
                "## Fitting the Bond Curves"
            ]
        },
        {
            "cell_type": "markdown",
            "metadata": {},
            "source": [
                "### Cubic Polynomial"
            ]
        },
        {
            "cell_type": "code",
            "execution_count": null,
            "metadata": {},
            "outputs": [],
            "source": [
                "# FIT THE ASWS AND Z-SPREADS TO A CUBIC POLYNOMIAL\n",
                "curve_fit_method = CurveFitPolynomial()\n",
                "fittedCurve1a = BondYieldCurve(settlement, bonds, asws, curve_fit_method)\n",
                "fittedCurve1a.plot(\"GBP ASW Curve\", ylabel = 'asset swap spreads (%)')\n",
                "fittedCurve1z = BondYieldCurve(settlement, bonds, z_spreads, curve_fit_method)\n",
                "fittedCurve1z.plot(\"GBP z-spread Curve\", ylabel = 'z-spreads (%)')"
            ]
        },
        {
            "cell_type": "markdown",
            "metadata": {},
            "source": [
                "See the cubic coefficients"
            ]
        },
        {
            "cell_type": "code",
            "execution_count": null,
            "metadata": {},
            "outputs": [],
            "source": [
                "print(fittedCurve1a.curve_fit)"
            ]
        },
        {
            "cell_type": "markdown",
            "metadata": {},
            "source": [
                "### Quintic Polynomial"
            ]
        },
        {
            "cell_type": "code",
            "execution_count": null,
            "metadata": {},
            "outputs": [],
            "source": [
                "# FIT THE BOND ASWs and Z-SPREADs TO A QUINTIC POLYNOMIAL\n",
                "curve_fit_method = CurveFitPolynomial(5)\n",
                "fittedCurve2a = BondYieldCurve(settlement, bonds, asws, curve_fit_method)\n",
                "fittedCurve2a.plot(\"GBP ASW Curve\", ylabel = 'asset swap spreads (%)')\n",
                "fittedCurve2z = BondYieldCurve(settlement, bonds, z_spreads, curve_fit_method)\n",
                "fittedCurve2z.plot(\"GBP z-spread Curve\", ylabel = 'z-spreads (%)')"
            ]
        },
        {
            "cell_type": "markdown",
            "metadata": {},
            "source": [
                "See the quintic coefficients"
            ]
        },
        {
            "cell_type": "code",
            "execution_count": null,
            "metadata": {},
            "outputs": [],
            "source": [
                "print(fittedCurve2z.curve_fit)"
            ]
        },
        {
            "cell_type": "markdown",
            "metadata": {},
            "source": [
                "### Nelson-Siegel Curve"
            ]
        },
        {
            "cell_type": "code",
            "execution_count": null,
            "metadata": {},
            "outputs": [],
            "source": [
                "# FIT THE BONDS TO A NELSON-SIEGEL CURVE\n",
                "curve_fit_method = CurveFitNelsonSiegel()\n",
                "fittedCurve3a = BondYieldCurve(settlement, bonds, asws, curve_fit_method)\n",
                "fittedCurve3a.plot(\"GBP ASW Curve\", ylabel = 'asset swap spreads (%)')\n",
                "fittedCurve3z = BondYieldCurve(settlement, bonds, z_spreads, curve_fit_method)\n",
                "fittedCurve3z.plot(\"GBP z-spread Curve\", ylabel = 'z-spreads (%)')"
            ]
        },
        {
            "cell_type": "code",
            "execution_count": null,
            "metadata": {},
            "outputs": [],
            "source": [
                "print(fittedCurve3a.curve_fit)"
            ]
        },
        {
            "cell_type": "markdown",
            "metadata": {},
            "source": [
                "### Nelson-Siegel Svensson Curve"
            ]
        },
        {
            "cell_type": "code",
            "execution_count": null,
            "metadata": {},
            "outputs": [],
            "source": [
                "# FIT THE BONDS TO A NELSON-SIEGEL-SVENSSON CURVE\n",
                "curve_fit_method = CurveFitNelsonSiegelSvensson()\n",
                "fittedCurve4a = BondYieldCurve(settlement, bonds, asws, curve_fit_method)\n",
                "fittedCurve4a.plot(\"GBP ASW Curve\", ylabel = 'asset swap spreads (%)')\n",
                "fittedCurve4z = BondYieldCurve(settlement, bonds, z_spreads, curve_fit_method)\n",
                "fittedCurve4z.plot(\"GBP z-spread Curve\", ylabel = 'z-spreads (%)')"
            ]
        },
        {
            "cell_type": "code",
            "execution_count": null,
            "metadata": {},
            "outputs": [],
            "source": [
                "print(fittedCurve4a.curve_fit)"
            ]
        },
        {
            "cell_type": "markdown",
            "metadata": {},
            "source": [
                "### B-Spline Curve"
            ]
        },
        {
            "cell_type": "code",
            "execution_count": null,
            "metadata": {
                "scrolled": false
            },
            "outputs": [],
            "source": [
                "# FIT THE BONDS TO A B-SPLINE CURVE\n",
                "curve_fit_method = CurveFitBSpline(power = 3, knots = [2, 3,5,10,15,20,30,40])\n",
                "fittedCurve5a = BondYieldCurve(settlement, bonds, asws, curve_fit_method)\n",
                "fittedCurve5a.plot(\"GBP ASW Curve\", ylabel = 'asset swap spreads (%)')\n",
                "fittedCurve5z = BondYieldCurve(settlement, bonds, z_spreads, curve_fit_method)\n",
                "fittedCurve5z.plot(\"GBP z-spread Curve\", ylabel = 'z-spreads (%)')"
            ]
        },
        {
            "cell_type": "code",
            "execution_count": null,
            "metadata": {},
            "outputs": [],
            "source": [
                "print(fittedCurve5a.curve_fit)"
            ]
        },
        {
            "cell_type": "markdown",
            "metadata": {},
            "source": [
                "## Accessing the Curve"
            ]
        },
        {
            "cell_type": "markdown",
            "metadata": {},
            "source": [
                "You can access a yield from a date as follows"
            ]
        },
        {
            "cell_type": "code",
            "execution_count": null,
            "metadata": {},
            "outputs": [],
            "source": [
                "# EXTRACT A YIELD FROM A FITTED YIELD CURVE\n",
                "maturity_dt = Date(19, 9, 2030)\n",
                "interpolated_yield = fittedCurve5a.interp_yield(maturity_dt)\n",
                "print(maturity_dt, interpolated_yield*100)"
            ]
        },
        {
            "cell_type": "markdown",
            "metadata": {},
            "source": [
                "## Vectorisations"
            ]
        },
        {
            "cell_type": "markdown",
            "metadata": {},
            "source": [
                "You can also access the curve using a time and this can be vectorised."
            ]
        },
        {
            "cell_type": "code",
            "execution_count": null,
            "metadata": {},
            "outputs": [],
            "source": [
                "times = np.linspace(0,10,100)"
            ]
        },
        {
            "cell_type": "code",
            "execution_count": null,
            "metadata": {},
            "outputs": [],
            "source": [
                "interpolated_yields = fittedCurve5z.interp_yield(times)"
            ]
        },
        {
            "cell_type": "code",
            "execution_count": null,
            "metadata": {},
            "outputs": [],
            "source": [
                "interpolated_yields*100"
            ]
        },
        {
            "cell_type": "code",
            "execution_count": null,
            "metadata": {},
            "outputs": [],
            "source": []
        }
    ],
    "metadata": {
        "kernelspec": {
            "display_name": "Python 3.8.8 ('base')",
            "language": "python",
            "name": "python3"
        },
        "language_info": {
            "codemirror_mode": {
                "name": "ipython",
                "version": 3
            },
            "file_extension": ".py",
            "mimetype": "text/x-python",
            "name": "python",
            "nbconvert_exporter": "python",
            "pygments_lexer": "ipython3",
            "version": "3.8.10"
        },
        "vscode": {
            "interpreter": {
                "hash": "884e84ff39d63fe0ace972cf9e1d3c4cdda6aeb2574d79c9ad7eb0401c2936b7"
            }
        }
    },
    "nbformat": 4,
    "nbformat_minor": 4
}
