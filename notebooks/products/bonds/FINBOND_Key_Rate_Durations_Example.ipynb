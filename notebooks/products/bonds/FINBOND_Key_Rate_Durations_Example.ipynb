{
 "cells": [
  {
   "attachments": {},
   "cell_type": "markdown",
   "metadata": {},
   "source": [
    "## <p style=\"text-align:center\">Bond Key Rate Durations calculation in FinancePy</p>\n"
   ]
  },
  {
   "cell_type": "code",
   "execution_count": 1,
   "metadata": {
    "execution": {
     "iopub.execute_input": "2025-09-14T22:20:22.621094Z",
     "iopub.status.busy": "2025-09-14T22:20:22.620969Z",
     "iopub.status.idle": "2025-09-14T22:20:23.507985Z",
     "shell.execute_reply": "2025-09-14T22:20:23.507644Z"
    }
   },
   "outputs": [],
   "source": [
    "from financepy.utils.date import Date\n",
    "from financepy.utils.day_count import DayCountTypes\n",
    "from financepy.utils.frequency import FrequencyTypes\n",
    "from financepy.products.bonds import *\n",
    "from financepy.market.curves import *\n"
   ]
  },
  {
   "attachments": {},
   "cell_type": "markdown",
   "metadata": {},
   "source": [
    "Modified duration measures a bond's overall price sensitivity to interest rate changes, while key rate durations measure sensitivity at specific points on the yield curve. "
   ]
  },
  {
   "cell_type": "code",
   "execution_count": 2,
   "metadata": {
    "execution": {
     "iopub.execute_input": "2025-09-14T22:20:23.509685Z",
     "iopub.status.busy": "2025-09-14T22:20:23.509481Z",
     "iopub.status.idle": "2025-09-14T22:20:23.526398Z",
     "shell.execute_reply": "2025-09-14T22:20:23.526034Z"
    }
   },
   "outputs": [
    {
     "data": {
      "text/plain": [
       "OBJECT TYPE: Bond\n",
       "ISSUE DATE: 31-JUL-2022\n",
       "MATURITY DATE: 31-JUL-2027\n",
       "COUPON (%): 2.75\n",
       "FREQUENCY: FrequencyTypes.SEMI_ANNUAL\n",
       "DAY COUNT TYPE: DayCountTypes.ACT_ACT_ICMA\n",
       "EX_DIV DAYS: 0"
      ]
     },
     "execution_count": 2,
     "metadata": {},
     "output_type": "execute_result"
    }
   ],
   "source": [
    "# First, let's create a bond object.\n",
    "\n",
    "dc_type, freq_type, settle_days, exDiv, calendar = get_bond_market_conventions(\n",
    "    BondMarkets.UNITED_STATES)\n",
    "\n",
    "# interest accrues on this date. Original issue date is 01/08/2022\n",
    "issue_dt = Date(31, 7, 2022)\n",
    "maturity_dt = Date(31, 7, 2027)\n",
    "cpn = 2.75/100\n",
    "bond = Bond(issue_dt, maturity_dt, cpn, freq_type, dc_type)\n",
    "settle_dt = Date(24, 4, 2023)  # next settle date for this bond\n",
    "bond\n"
   ]
  },
  {
   "cell_type": "code",
   "execution_count": 3,
   "metadata": {
    "execution": {
     "iopub.execute_input": "2025-09-14T22:20:23.527659Z",
     "iopub.status.busy": "2025-09-14T22:20:23.527533Z",
     "iopub.status.idle": "2025-09-14T22:20:23.596195Z",
     "shell.execute_reply": "2025-09-14T22:20:23.595834Z"
    }
   },
   "outputs": [],
   "source": [
    "# the key_rate_durations function returns a tuple of key_rate_tenors, key_rate_durations\n",
    "\n",
    "# US Street yield on Bloomberg as of 20 April 2023\n",
    "# with settle date 24 April 2023\n",
    "ytm = 3.725060/100\n",
    "\n",
    "# settlement date is the date on which the bond is traded or valued\n",
    "\n",
    "tenors, krds = bond.key_rate_durations(settle_dt, ytm)"
   ]
  },
  {
   "cell_type": "code",
   "execution_count": 4,
   "metadata": {
    "execution": {
     "iopub.execute_input": "2025-09-14T22:20:23.598233Z",
     "iopub.status.busy": "2025-09-14T22:20:23.598091Z",
     "iopub.status.idle": "2025-09-14T22:20:23.602532Z",
     "shell.execute_reply": "2025-09-14T22:20:23.602156Z"
    }
   },
   "outputs": [
    {
     "name": "stdout",
     "output_type": "stream",
     "text": [
      "0.5 >>> -0.000957\n",
      "1.0 >>> -0.009298\n",
      "2.0 >>> -0.021571\n",
      "3.0 >>> 1.435719\n",
      "5.0 >>> 2.547636\n",
      "7.0 >>> 0.0\n",
      "10.0 >>> 0.0\n",
      "20.0 >>> 0.0\n",
      "30.0 >>> 0.0\n"
     ]
    }
   ],
   "source": [
    "for tenor, krd in zip(tenors, krds):\n",
    "    print(tenor, \">>>\", round(krd,6))"
   ]
  },
  {
   "cell_type": "code",
   "execution_count": 5,
   "metadata": {
    "execution": {
     "iopub.execute_input": "2025-09-14T22:20:23.603712Z",
     "iopub.status.busy": "2025-09-14T22:20:23.603588Z",
     "iopub.status.idle": "2025-09-14T22:20:23.606450Z",
     "shell.execute_reply": "2025-09-14T22:20:23.606186Z"
    }
   },
   "outputs": [
    {
     "name": "stdout",
     "output_type": "stream",
     "text": [
      "Modified duration  3.9544603137385024\n",
      "Sum of key rate durations  3.9515298040990228\n"
     ]
    }
   ],
   "source": [
    "# Modified duration of a bond and sum of the key rate duration should be close to each other.\n",
    "\n",
    "mod_dur = bond.modified_duration(settle_dt, ytm)\n",
    "sum_of_krds = sum(krds)\n",
    "\n",
    "print(\"Modified duration \", mod_dur)\n",
    "print(\"Sum of key rate durations \", sum_of_krds)"
   ]
  },
  {
   "attachments": {},
   "cell_type": "markdown",
   "metadata": {},
   "source": [
    "<p style=\"text-align:right\">prepared by github.com/sagayev </p>"
   ]
  },
  {
   "attachments": {},
   "cell_type": "markdown",
   "metadata": {},
   "source": [
    "Below is a screenshot from Bloomberg for this bonds key rate durations. For reference, ISIN is US91282CFB28, and Cusip is 91282CFB2 as of 20 April 2023\n",
    "Please note that, Key rate durations analytics on Bloomberg standard terminal are available only for last data. So, if you want to replicate, you can view it's last data and change the settle_dt above.\n",
    "\n",
    "Key rate durations method of the Bond class takes two mandatory parameters: settle_dt (or valuation date) and Yield to maturity. Optionally, we can provide our own key rate tenors (in years) and our own shift value. \n",
    "Shift value defaults to 0.0001 and is used to shift the key rate of a corresponding tenor to assess the change in bond price.\n",
    "Default key rate tenors are 0.5, 1, 2, 3, 5, 7, 10, 20, 30"
   ]
  },
  {
   "attachments": {},
   "cell_type": "markdown",
   "metadata": {},
   "source": [
    "![Alt text](data/Key_rate_duration_US91282CFB28.png)"
   ]
  },
  {
   "attachments": {},
   "cell_type": "markdown",
   "metadata": {},
   "source": [
    "If we want to approximate above key rate duration numbers, we have to use the yield curve data as of 20 April 2023\n",
    "\n",
    "![Alt text](data/Yield_curve_data_for_krds.png)"
   ]
  },
  {
   "cell_type": "code",
   "execution_count": 6,
   "metadata": {
    "execution": {
     "iopub.execute_input": "2025-09-14T22:20:23.608503Z",
     "iopub.status.busy": "2025-09-14T22:20:23.608363Z",
     "iopub.status.idle": "2025-09-14T22:20:23.633361Z",
     "shell.execute_reply": "2025-09-14T22:20:23.633029Z"
    }
   },
   "outputs": [
    {
     "name": "stdout",
     "output_type": "stream",
     "text": [
      "0.5 >>> -0.000948\n",
      "1.0 >>> -0.009258\n",
      "2.0 >>> -0.021623\n",
      "3.0 >>> 1.432307\n",
      "5.0 >>> 2.527236\n",
      "7.0 >>> 0.0\n",
      "10.0 >>> 0.0\n"
     ]
    }
   ],
   "source": [
    "my_tenors = np.array([0.5,  1,  2,  3,  5,  7,  10])\n",
    "\n",
    "my_rates = np.array([5.0367, 4.7327, 4.1445, 3.8575, 3.6272,  3.5825,  3.5347])/100\n",
    "\n",
    "tenors, krds = bond.key_rate_durations(settle_dt, ytm, key_rate_tenors= my_tenors, rates= my_rates)\n",
    "for tenor, krd in zip(tenors, krds):\n",
    "    print(tenor, \">>>\", round(krd,6))"
   ]
  },
  {
   "cell_type": "code",
   "execution_count": 7,
   "metadata": {
    "execution": {
     "iopub.execute_input": "2025-09-14T22:20:23.635462Z",
     "iopub.status.busy": "2025-09-14T22:20:23.635332Z",
     "iopub.status.idle": "2025-09-14T22:20:23.659013Z",
     "shell.execute_reply": "2025-09-14T22:20:23.658551Z"
    }
   },
   "outputs": [],
   "source": [
    "tenors, krds = bond.key_rate_durations(settle_dt, ytm, key_rate_tenors= my_tenors, rates= my_rates)\n"
   ]
  },
  {
   "cell_type": "code",
   "execution_count": 8,
   "metadata": {
    "execution": {
     "iopub.execute_input": "2025-09-14T22:20:23.660862Z",
     "iopub.status.busy": "2025-09-14T22:20:23.660735Z",
     "iopub.status.idle": "2025-09-14T22:20:23.664487Z",
     "shell.execute_reply": "2025-09-14T22:20:23.664163Z"
    }
   },
   "outputs": [
    {
     "data": {
      "text/plain": [
       "array([ 0.5,  1. ,  2. ,  3. ,  5. ,  7. , 10. ])"
      ]
     },
     "execution_count": 8,
     "metadata": {},
     "output_type": "execute_result"
    }
   ],
   "source": [
    "tenors"
   ]
  },
  {
   "cell_type": "code",
   "execution_count": 9,
   "metadata": {
    "execution": {
     "iopub.execute_input": "2025-09-14T22:20:23.665522Z",
     "iopub.status.busy": "2025-09-14T22:20:23.665411Z",
     "iopub.status.idle": "2025-09-14T22:20:23.667962Z",
     "shell.execute_reply": "2025-09-14T22:20:23.667666Z"
    }
   },
   "outputs": [
    {
     "data": {
      "text/plain": [
       "array([-9.26644032e-04, -9.17853627e-03, -2.14363784e-02,  1.43250593e+00,\n",
       "        2.52700336e+00,  0.00000000e+00,  0.00000000e+00])"
      ]
     },
     "execution_count": 9,
     "metadata": {},
     "output_type": "execute_result"
    }
   ],
   "source": [
    "krds"
   ]
  },
  {
   "cell_type": "code",
   "execution_count": null,
   "metadata": {},
   "outputs": [],
   "source": []
  }
 ],
 "metadata": {
  "kernelspec": {
   "display_name": "base",
   "language": "python",
   "name": "python3"
  },
  "language_info": {
   "codemirror_mode": {
    "name": "ipython",
    "version": 3
   },
   "file_extension": ".py",
   "mimetype": "text/x-python",
   "name": "python",
   "nbconvert_exporter": "python",
   "pygments_lexer": "ipython3",
   "version": "3.13.7"
  }
 },
 "nbformat": 4,
 "nbformat_minor": 2
}
