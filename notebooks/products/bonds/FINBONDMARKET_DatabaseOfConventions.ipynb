{
 "cells": [
  {
   "cell_type": "markdown",
   "metadata": {},
   "source": [
    "# BOND MARKET CONVENTIONS"
   ]
  },
  {
   "cell_type": "markdown",
   "metadata": {},
   "source": [
    "You can get Government Bond Market conventions for various countries from FinancePy. They are not guaranteed accurate as they can change so please see them as advisory. Contact me if you see any errors."
   ]
  },
  {
   "cell_type": "code",
   "execution_count": 1,
   "metadata": {
    "execution": {
     "iopub.execute_input": "2025-09-14T22:17:24.115777Z",
     "iopub.status.busy": "2025-09-14T22:17:24.115625Z",
     "iopub.status.idle": "2025-09-14T22:17:24.989705Z",
     "shell.execute_reply": "2025-09-14T22:17:24.989277Z"
    },
    "scrolled": true
   },
   "outputs": [],
   "source": [
    "from financepy.utils.day_count import DayCountTypes\n",
    "from financepy.utils.date import Date\n",
    "from financepy.products.bonds.bond_market import get_bond_market_conventions, BondMarkets"
   ]
  },
  {
   "cell_type": "markdown",
   "metadata": {},
   "source": [
    "First we get a list of the markets available. The order is EU and then non-EU"
   ]
  },
  {
   "cell_type": "code",
   "execution_count": 2,
   "metadata": {
    "execution": {
     "iopub.execute_input": "2025-09-14T22:17:24.991413Z",
     "iopub.status.busy": "2025-09-14T22:17:24.991171Z",
     "iopub.status.idle": "2025-09-14T22:17:24.994790Z",
     "shell.execute_reply": "2025-09-14T22:17:24.994499Z"
    },
    "scrolled": false
   },
   "outputs": [
    {
     "name": "stdout",
     "output_type": "stream",
     "text": [
      "AUSTRIA\n",
      "BELGIUM\n",
      "CYPRUS\n",
      "ESTONIA\n",
      "FINLAND\n",
      "FRANCE\n",
      "GERMANY\n",
      "GREECE\n",
      "IRELAND\n",
      "ITALY\n",
      "LATVIA\n",
      "LITHUANIA\n",
      "LUXEMBOURG\n",
      "MALTA\n",
      "NETHERLANDS\n",
      "PORTUGAL\n",
      "SLOVAKIA\n",
      "SLOVENIA\n",
      "SPAIN\n",
      "ESM\n",
      "EFSF\n",
      "BULGARIA\n",
      "CROATIA\n",
      "CZECH_REPUBLIC\n",
      "DENMARK\n",
      "HUNGARY\n",
      "POLAND\n",
      "ROMANIA\n",
      "SWEDEN\n",
      "JAPAN\n",
      "SWITZERLAND\n",
      "UNITED_KINGDOM\n",
      "UNITED_STATES\n",
      "AUSTRALIA\n",
      "NEW_ZEALAND\n",
      "NORWAY\n",
      "SOUTH_AFRICA\n"
     ]
    }
   ],
   "source": [
    "for country in BondMarkets:\n",
    "    print(country.name)"
   ]
  },
  {
   "cell_type": "markdown",
   "metadata": {},
   "source": [
    "There is a function to get the accrual convention, the annual_frequency and the settlement period for each"
   ]
  },
  {
   "cell_type": "code",
   "execution_count": 3,
   "metadata": {
    "execution": {
     "iopub.execute_input": "2025-09-14T22:17:24.995953Z",
     "iopub.status.busy": "2025-09-14T22:17:24.995835Z",
     "iopub.status.idle": "2025-09-14T22:17:24.998854Z",
     "shell.execute_reply": "2025-09-14T22:17:24.998556Z"
    },
    "scrolled": false
   },
   "outputs": [
    {
     "name": "stdout",
     "output_type": "stream",
     "text": [
      "             COUNTRY           ACCRUED            FREQ    SET_DAYS EX_DIV_DAYS   CALENDAR\n",
      "             AUSTRIA      ACT_ACT_ICMA          ANNUAL           2          0       None\n",
      "             BELGIUM      ACT_ACT_ICMA          ANNUAL           2          0       None\n",
      "              CYPRUS      ACT_ACT_ICMA     SEMI_ANNUAL           2          0       None\n",
      "             ESTONIA      ACT_ACT_ICMA          ANNUAL           2          0       None\n",
      "             FINLAND      ACT_ACT_ICMA          ANNUAL           2          0       None\n",
      "              FRANCE      ACT_ACT_ICMA          ANNUAL           2          0       None\n",
      "             GERMANY      ACT_ACT_ICMA          ANNUAL           2          0       None\n",
      "              GREECE      ACT_ACT_ICMA          ANNUAL           3          0       None\n",
      "             IRELAND      ACT_ACT_ICMA          ANNUAL           2          0       None\n",
      "               ITALY      ACT_ACT_ICMA     SEMI_ANNUAL           2          0       None\n",
      "              LATVIA      ACT_ACT_ICMA          ANNUAL           2          0       None\n",
      "           LITHUANIA      ACT_ACT_ICMA          ANNUAL           1          0       None\n",
      "          LUXEMBOURG      ACT_ACT_ICMA          ANNUAL           2          0       None\n",
      "               MALTA      ACT_ACT_ICMA     SEMI_ANNUAL           2          0       None\n",
      "         NETHERLANDS      ACT_ACT_ICMA          ANNUAL           2          0       None\n",
      "            PORTUGAL      ACT_ACT_ICMA          ANNUAL           2          0       None\n",
      "            SLOVAKIA      ACT_ACT_ICMA          ANNUAL           2          0       None\n",
      "            SLOVENIA      ACT_ACT_ICMA          ANNUAL           2          0       None\n",
      "               SPAIN      ACT_ACT_ICMA          ANNUAL           2          0       None\n",
      "                 ESM      ACT_ACT_ICMA          ANNUAL           2          0       None\n",
      "                EFSF      ACT_ACT_ICMA          ANNUAL           2          0       None\n",
      "            BULGARIA      ACT_ACT_ICMA     SEMI_ANNUAL           0          0       None\n",
      "             CROATIA      ACT_ACT_ICMA     SEMI_ANNUAL           3          0       None\n",
      "      CZECH_REPUBLIC      ACT_ACT_ICMA     SEMI_ANNUAL           2          0       None\n",
      "             DENMARK      ACT_ACT_ICMA          ANNUAL           2          0       None\n",
      "             HUNGARY      ACT_ACT_ICMA          ANNUAL           2          0       None\n",
      "              POLAND      ACT_ACT_ICMA     SEMI_ANNUAL           2          0       None\n",
      "             ROMANIA      ACT_ACT_ICMA     SEMI_ANNUAL           2          0       None\n",
      "              SWEDEN      THIRTY_E_360          ANNUAL           2          0       None\n",
      "               JAPAN      ACT_ACT_ICMA          ANNUAL           2          0       None\n",
      "         SWITZERLAND      ACT_ACT_ICMA          ANNUAL           2          0       None\n",
      "      UNITED_KINGDOM      ACT_ACT_ICMA     SEMI_ANNUAL           1          6 CalendarTypes.UNITED_KINGDOM\n",
      "       UNITED_STATES      ACT_ACT_ICMA     SEMI_ANNUAL           2          0       None\n",
      "           AUSTRALIA      ACT_ACT_ICMA          ANNUAL           2          7 CalendarTypes.NONE\n",
      "         NEW_ZEALAND      ACT_ACT_ICMA          ANNUAL           2          0       None\n",
      "              NORWAY   THIRTY_360_BOND          ANNUAL           2          2       None\n",
      "        SOUTH_AFRICA      ACT_ACT_ICMA          ANNUAL           2         10 CalendarTypes.NONE\n"
     ]
    }
   ],
   "source": [
    "print(\"%20s %17s %15s %11s %10s %10s\" % (\"COUNTRY\",\"ACCRUED\",\"FREQ\",\"SET_DAYS\",\"EX_DIV_DAYS\",\"CALENDAR\"))\n",
    "for country in BondMarkets:\n",
    "\n",
    "    (dc_type, freq_type, settle_days, exDiv, cal) = get_bond_market_conventions(country)\n",
    "\n",
    "    if dc_type is not None:\n",
    "        print(\"%20s %17s %15s %11d %10d %10s\" %(country.name, dc_type.name, freq_type.name,\n",
    "                                           settle_days, exDiv, cal))"
   ]
  },
  {
   "cell_type": "markdown",
   "metadata": {},
   "source": [
    "Copyright (c) 2019, Dominic O'Kane "
   ]
  },
  {
   "cell_type": "code",
   "execution_count": null,
   "metadata": {},
   "outputs": [],
   "source": []
  }
 ],
 "metadata": {
  "kernelspec": {
   "display_name": "base",
   "language": "python",
   "name": "python3"
  },
  "language_info": {
   "codemirror_mode": {
    "name": "ipython",
    "version": 3
   },
   "file_extension": ".py",
   "mimetype": "text/x-python",
   "name": "python",
   "nbconvert_exporter": "python",
   "pygments_lexer": "ipython3",
   "version": "3.13.7"
  }
 },
 "nbformat": 4,
 "nbformat_minor": 2
}
