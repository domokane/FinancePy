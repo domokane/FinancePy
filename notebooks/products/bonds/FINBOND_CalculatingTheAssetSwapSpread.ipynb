{
 "cells": [
  {
   "cell_type": "markdown",
   "metadata": {},
   "source": [
    "# Calculating the Asset Swap Spread"
   ]
  },
  {
   "cell_type": "markdown",
   "metadata": {},
   "source": [
    "The asset swap spread is widely used as measures of pure credit risk. In this notebook I calculate these quantities."
   ]
  },
  {
   "cell_type": "code",
   "execution_count": 1,
   "metadata": {
    "execution": {
     "iopub.execute_input": "2025-09-14T22:20:11.434727Z",
     "iopub.status.busy": "2025-09-14T22:20:11.434604Z",
     "iopub.status.idle": "2025-09-14T22:20:11.655258Z",
     "shell.execute_reply": "2025-09-14T22:20:11.654686Z"
    }
   },
   "outputs": [],
   "source": [
    "import numpy as np\n",
    "import matplotlib.pyplot as plt"
   ]
  },
  {
   "cell_type": "code",
   "execution_count": 2,
   "metadata": {
    "execution": {
     "iopub.execute_input": "2025-09-14T22:20:11.657329Z",
     "iopub.status.busy": "2025-09-14T22:20:11.656853Z",
     "iopub.status.idle": "2025-09-14T22:20:12.330730Z",
     "shell.execute_reply": "2025-09-14T22:20:12.330026Z"
    }
   },
   "outputs": [],
   "source": [
    "from financepy.utils import *\n",
    "from financepy.products.bonds import *"
   ]
  },
  {
   "cell_type": "code",
   "execution_count": 3,
   "metadata": {
    "execution": {
     "iopub.execute_input": "2025-09-14T22:20:12.332491Z",
     "iopub.status.busy": "2025-09-14T22:20:12.332299Z",
     "iopub.status.idle": "2025-09-14T22:20:12.346413Z",
     "shell.execute_reply": "2025-09-14T22:20:12.346046Z"
    }
   },
   "outputs": [],
   "source": [
    "issue_dt = Date(15, 5, 2000)\n",
    "maturity_dt = Date(15, 5, 2027)\n",
    "coupon = 0.02375\n",
    "freq_type = FrequencyTypes.SEMI_ANNUAL\n",
    "dc_type = DayCountTypes.ACT_ACT_ICMA\n",
    "face_amount = 100.0"
   ]
  },
  {
   "cell_type": "code",
   "execution_count": 4,
   "metadata": {
    "execution": {
     "iopub.execute_input": "2025-09-14T22:20:12.348117Z",
     "iopub.status.busy": "2025-09-14T22:20:12.347938Z",
     "iopub.status.idle": "2025-09-14T22:20:12.350777Z",
     "shell.execute_reply": "2025-09-14T22:20:12.350564Z"
    }
   },
   "outputs": [],
   "source": [
    "bond = Bond(issue_dt, maturity_dt, coupon, freq_type, dc_type)"
   ]
  },
  {
   "cell_type": "code",
   "execution_count": 5,
   "metadata": {
    "execution": {
     "iopub.execute_input": "2025-09-14T22:20:12.352342Z",
     "iopub.status.busy": "2025-09-14T22:20:12.352007Z",
     "iopub.status.idle": "2025-09-14T22:20:12.355879Z",
     "shell.execute_reply": "2025-09-14T22:20:12.355577Z"
    }
   },
   "outputs": [
    {
     "name": "stdout",
     "output_type": "stream",
     "text": [
      "OBJECT TYPE: Bond\n",
      "ISSUE DATE: 15-MAY-2000\n",
      "MATURITY DATE: 15-MAY-2027\n",
      "COUPON (%): 2.375\n",
      "FREQUENCY: FrequencyTypes.SEMI_ANNUAL\n",
      "DAY COUNT TYPE: DayCountTypes.ACT_ACT_ICMA\n",
      "EX_DIV DAYS: 0\n"
     ]
    }
   ],
   "source": [
    "print(bond)"
   ]
  },
  {
   "cell_type": "markdown",
   "metadata": {},
   "source": [
    "## Asset Swap Spread"
   ]
  },
  {
   "cell_type": "markdown",
   "metadata": {},
   "source": [
    "To calculate the asset swap spread we need a Libor reference curve. I just create a simple flat curve."
   ]
  },
  {
   "cell_type": "code",
   "execution_count": 6,
   "metadata": {
    "execution": {
     "iopub.execute_input": "2025-09-14T22:20:12.356947Z",
     "iopub.status.busy": "2025-09-14T22:20:12.356844Z",
     "iopub.status.idle": "2025-09-14T22:20:12.358984Z",
     "shell.execute_reply": "2025-09-14T22:20:12.358734Z"
    }
   },
   "outputs": [],
   "source": [
    "from financepy.market.curves.discount_curve_flat import DiscountCurveFlat"
   ]
  },
  {
   "cell_type": "code",
   "execution_count": 7,
   "metadata": {
    "execution": {
     "iopub.execute_input": "2025-09-14T22:20:12.359989Z",
     "iopub.status.busy": "2025-09-14T22:20:12.359872Z",
     "iopub.status.idle": "2025-09-14T22:20:12.362230Z",
     "shell.execute_reply": "2025-09-14T22:20:12.361874Z"
    }
   },
   "outputs": [],
   "source": [
    "liborFlatRate = 0.0275"
   ]
  },
  {
   "cell_type": "code",
   "execution_count": 8,
   "metadata": {
    "execution": {
     "iopub.execute_input": "2025-09-14T22:20:12.363220Z",
     "iopub.status.busy": "2025-09-14T22:20:12.363071Z",
     "iopub.status.idle": "2025-09-14T22:20:12.365271Z",
     "shell.execute_reply": "2025-09-14T22:20:12.364983Z"
    }
   },
   "outputs": [],
   "source": [
    "settle_dt = Date(21, 7, 2017)"
   ]
  },
  {
   "cell_type": "code",
   "execution_count": 9,
   "metadata": {
    "execution": {
     "iopub.execute_input": "2025-09-14T22:20:12.366218Z",
     "iopub.status.busy": "2025-09-14T22:20:12.366108Z",
     "iopub.status.idle": "2025-09-14T22:20:12.373511Z",
     "shell.execute_reply": "2025-09-14T22:20:12.373215Z"
    }
   },
   "outputs": [],
   "source": [
    "liborFlatCurve = DiscountCurveFlat(settle_dt, liborFlatRate, FrequencyTypes.SEMI_ANNUAL)"
   ]
  },
  {
   "cell_type": "code",
   "execution_count": 10,
   "metadata": {
    "execution": {
     "iopub.execute_input": "2025-09-14T22:20:12.374484Z",
     "iopub.status.busy": "2025-09-14T22:20:12.374369Z",
     "iopub.status.idle": "2025-09-14T22:20:12.376556Z",
     "shell.execute_reply": "2025-09-14T22:20:12.376170Z"
    }
   },
   "outputs": [
    {
     "name": "stdout",
     "output_type": "stream",
     "text": [
      "OBJECT TYPE: DiscountCurveFlat\n",
      "VALUE DATE: 21-JUL-2017\n",
      "FLAT RATE: 0.0275\n",
      "FREQUENCY: FrequencyTypes.SEMI_ANNUAL\n",
      "DAY COUNT: DayCountTypes.ACT_ACT_ISDA\n",
      "\n"
     ]
    }
   ],
   "source": [
    "print(liborFlatCurve)"
   ]
  },
  {
   "cell_type": "markdown",
   "metadata": {},
   "source": [
    "To caluclate the ASW I need to know the clean price of the bond"
   ]
  },
  {
   "cell_type": "code",
   "execution_count": 11,
   "metadata": {
    "execution": {
     "iopub.execute_input": "2025-09-14T22:20:12.377601Z",
     "iopub.status.busy": "2025-09-14T22:20:12.377494Z",
     "iopub.status.idle": "2025-09-14T22:20:12.379394Z",
     "shell.execute_reply": "2025-09-14T22:20:12.379034Z"
    }
   },
   "outputs": [],
   "source": [
    "clean_price = 99.780842  # I specified face to be 100 - if face is 1 then this must be 0.99780842"
   ]
  },
  {
   "cell_type": "markdown",
   "metadata": {},
   "source": [
    "I then call a function passing in the date, price and curve"
   ]
  },
  {
   "cell_type": "code",
   "execution_count": 12,
   "metadata": {
    "execution": {
     "iopub.execute_input": "2025-09-14T22:20:12.380385Z",
     "iopub.status.busy": "2025-09-14T22:20:12.380277Z",
     "iopub.status.idle": "2025-09-14T22:20:12.384298Z",
     "shell.execute_reply": "2025-09-14T22:20:12.384036Z"
    }
   },
   "outputs": [
    {
     "data": {
      "text/plain": [
       "np.float64(-33.69913338080966)"
      ]
     },
     "execution_count": 12,
     "metadata": {},
     "output_type": "execute_result"
    }
   ],
   "source": [
    "bond.asset_swap_spread(settle_dt, clean_price, liborFlatCurve) * 10000"
   ]
  },
  {
   "cell_type": "markdown",
   "metadata": {},
   "source": [
    "The bond ASW is negative so it is trading tighter than the Libor curve. I need to cheapen the bond to make the ASW positive."
   ]
  },
  {
   "cell_type": "code",
   "execution_count": 13,
   "metadata": {
    "execution": {
     "iopub.execute_input": "2025-09-14T22:20:12.385425Z",
     "iopub.status.busy": "2025-09-14T22:20:12.385277Z",
     "iopub.status.idle": "2025-09-14T22:20:12.387651Z",
     "shell.execute_reply": "2025-09-14T22:20:12.387373Z"
    }
   },
   "outputs": [],
   "source": [
    "clean_price = 93.382  # I specified face to be 100"
   ]
  },
  {
   "cell_type": "code",
   "execution_count": 14,
   "metadata": {
    "execution": {
     "iopub.execute_input": "2025-09-14T22:20:12.388572Z",
     "iopub.status.busy": "2025-09-14T22:20:12.388467Z",
     "iopub.status.idle": "2025-09-14T22:20:12.391430Z",
     "shell.execute_reply": "2025-09-14T22:20:12.391116Z"
    }
   },
   "outputs": [
    {
     "data": {
      "text/plain": [
       "np.float64(38.48148022319349)"
      ]
     },
     "execution_count": 14,
     "metadata": {},
     "output_type": "execute_result"
    }
   ],
   "source": [
    "bond.asset_swap_spread(settle_dt, clean_price, liborFlatCurve) * 10000"
   ]
  },
  {
   "cell_type": "markdown",
   "metadata": {},
   "source": [
    "To get date functionality you import Date"
   ]
  },
  {
   "cell_type": "markdown",
   "metadata": {},
   "source": [
    "## Analysis of the Asset Swap Spread"
   ]
  },
  {
   "cell_type": "markdown",
   "metadata": {},
   "source": [
    "We can use the vectorisations to do some basic analysis. First generate a vector of prices from 90 to 110 with 20 steps."
   ]
  },
  {
   "cell_type": "code",
   "execution_count": 15,
   "metadata": {
    "execution": {
     "iopub.execute_input": "2025-09-14T22:20:12.392417Z",
     "iopub.status.busy": "2025-09-14T22:20:12.392312Z",
     "iopub.status.idle": "2025-09-14T22:20:12.394114Z",
     "shell.execute_reply": "2025-09-14T22:20:12.393835Z"
    }
   },
   "outputs": [],
   "source": [
    "clean_prices = np.linspace(75,125,20)"
   ]
  },
  {
   "cell_type": "code",
   "execution_count": 16,
   "metadata": {
    "execution": {
     "iopub.execute_input": "2025-09-14T22:20:12.395058Z",
     "iopub.status.busy": "2025-09-14T22:20:12.394950Z",
     "iopub.status.idle": "2025-09-14T22:20:12.397362Z",
     "shell.execute_reply": "2025-09-14T22:20:12.397010Z"
    }
   },
   "outputs": [],
   "source": [
    "asws = bond.asset_swap_spread(settle_dt, clean_prices, liborFlatCurve)"
   ]
  },
  {
   "cell_type": "markdown",
   "metadata": {},
   "source": [
    "We can now plot the relationship."
   ]
  },
  {
   "cell_type": "code",
   "execution_count": 17,
   "metadata": {
    "execution": {
     "iopub.execute_input": "2025-09-14T22:20:12.398315Z",
     "iopub.status.busy": "2025-09-14T22:20:12.398208Z",
     "iopub.status.idle": "2025-09-14T22:20:12.449557Z",
     "shell.execute_reply": "2025-09-14T22:20:12.449113Z"
    }
   },
   "outputs": [
    {
     "data": {
      "text/plain": [
       "Text(0, 0.5, 'Asset Swap Spread (bp)')"
      ]
     },
     "execution_count": 17,
     "metadata": {},
     "output_type": "execute_result"
    },
    {
     "data": {
      "image/png": "[encoded data removed]",
      "text/plain": [
       "<Figure size 640x480 with 1 Axes>"
      ]
     },
     "metadata": {},
     "output_type": "display_data"
    }
   ],
   "source": [
    "plt.plot(clean_prices,asws*10000)\n",
    "plt.xlabel(\"Bond Clean Price\")\n",
    "plt.ylabel(\"Asset Swap Spread (bp)\")"
   ]
  },
  {
   "cell_type": "markdown",
   "metadata": {},
   "source": [
    "This is nicely linear and decreasing - the higher the bond price the better its implied credit risk versus Libor discounting so the lower its asset swap spread."
   ]
  },
  {
   "cell_type": "markdown",
   "metadata": {},
   "source": [
    "Copyright (c) 2020 Dominic O'Kane"
   ]
  }
 ],
 "metadata": {
  "kernelspec": {
   "display_name": "base",
   "language": "python",
   "name": "python3"
  },
  "language_info": {
   "codemirror_mode": {
    "name": "ipython",
    "version": 3
   },
   "file_extension": ".py",
   "mimetype": "text/x-python",
   "name": "python",
   "nbconvert_exporter": "python",
   "pygments_lexer": "ipython3",
   "version": "3.13.7"
  }
 },
 "nbformat": 4,
 "nbformat_minor": 2
}
