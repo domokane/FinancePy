{
 "cells": [
  {
   "cell_type": "markdown",
   "metadata": {},
   "source": [
    "# Calculating the Asset Swap Spread"
   ]
  },
  {
   "cell_type": "markdown",
   "metadata": {},
   "source": [
    "The asset swap spread is widely used as measures of pure credit risk. In this notebook I calculate these quantities."
   ]
  },
  {
   "cell_type": "code",
   "execution_count": 1,
   "metadata": {
    "execution": {
     "iopub.execute_input": "2025-08-27T22:28:36.914775Z",
     "iopub.status.busy": "2025-08-27T22:28:36.914572Z",
     "iopub.status.idle": "2025-08-27T22:28:37.384863Z",
     "shell.execute_reply": "2025-08-27T22:28:37.384436Z"
    }
   },
   "outputs": [],
   "source": [
    "import numpy as np\n",
    "import matplotlib.pyplot as plt"
   ]
  },
  {
   "cell_type": "code",
   "execution_count": 2,
   "metadata": {
    "execution": {
     "iopub.execute_input": "2025-08-27T22:28:37.387130Z",
     "iopub.status.busy": "2025-08-27T22:28:37.386840Z",
     "iopub.status.idle": "2025-08-27T22:28:38.399218Z",
     "shell.execute_reply": "2025-08-27T22:28:38.398635Z"
    }
   },
   "outputs": [],
   "source": [
    "from financepy.utils import *\n",
    "from financepy.products.bonds import *"
   ]
  },
  {
   "cell_type": "code",
   "execution_count": 3,
   "metadata": {
    "execution": {
     "iopub.execute_input": "2025-08-27T22:28:38.401598Z",
     "iopub.status.busy": "2025-08-27T22:28:38.401294Z",
     "iopub.status.idle": "2025-08-27T22:28:38.418063Z",
     "shell.execute_reply": "2025-08-27T22:28:38.417512Z"
    }
   },
   "outputs": [],
   "source": [
    "issue_dt = Date(15, 5, 2000)\n",
    "maturity_dt = Date(15, 5, 2027)\n",
    "coupon = 0.02375\n",
    "freq_type = FrequencyTypes.SEMI_ANNUAL\n",
    "dc_type = DayCountTypes.ACT_ACT_ICMA\n",
    "face_amount = 100.0"
   ]
  },
  {
   "cell_type": "code",
   "execution_count": 4,
   "metadata": {
    "execution": {
     "iopub.execute_input": "2025-08-27T22:28:38.420123Z",
     "iopub.status.busy": "2025-08-27T22:28:38.419881Z",
     "iopub.status.idle": "2025-08-27T22:28:38.422934Z",
     "shell.execute_reply": "2025-08-27T22:28:38.422527Z"
    }
   },
   "outputs": [],
   "source": [
    "bond = Bond(issue_dt, maturity_dt, coupon, freq_type, dc_type)"
   ]
  },
  {
   "cell_type": "code",
   "execution_count": 5,
   "metadata": {
    "execution": {
     "iopub.execute_input": "2025-08-27T22:28:38.424445Z",
     "iopub.status.busy": "2025-08-27T22:28:38.424262Z",
     "iopub.status.idle": "2025-08-27T22:28:38.427822Z",
     "shell.execute_reply": "2025-08-27T22:28:38.427442Z"
    }
   },
   "outputs": [
    {
     "name": "stdout",
     "output_type": "stream",
     "text": [
      "OBJECT TYPE: Bond\n",
      "ISSUE DATE: 15-MAY-2000\n",
      "MATURITY DATE: 15-MAY-2027\n",
      "COUPON (%): 2.375\n",
      "FREQUENCY: FrequencyTypes.SEMI_ANNUAL\n",
      "DAY COUNT TYPE: DayCountTypes.ACT_ACT_ICMA\n",
      "EX_DIV DAYS: 0\n"
     ]
    }
   ],
   "source": [
    "print(bond)"
   ]
  },
  {
   "cell_type": "markdown",
   "metadata": {},
   "source": [
    "## Asset Swap Spread"
   ]
  },
  {
   "cell_type": "markdown",
   "metadata": {},
   "source": [
    "To calculate the asset swap spread we need a Libor reference curve. I just create a simple flat curve."
   ]
  },
  {
   "cell_type": "code",
   "execution_count": 6,
   "metadata": {
    "execution": {
     "iopub.execute_input": "2025-08-27T22:28:38.429503Z",
     "iopub.status.busy": "2025-08-27T22:28:38.429209Z",
     "iopub.status.idle": "2025-08-27T22:28:38.431750Z",
     "shell.execute_reply": "2025-08-27T22:28:38.431381Z"
    }
   },
   "outputs": [],
   "source": [
    "from financepy.market.curves.discount_curve_flat import DiscountCurveFlat"
   ]
  },
  {
   "cell_type": "code",
   "execution_count": 7,
   "metadata": {
    "execution": {
     "iopub.execute_input": "2025-08-27T22:28:38.433500Z",
     "iopub.status.busy": "2025-08-27T22:28:38.433239Z",
     "iopub.status.idle": "2025-08-27T22:28:38.435299Z",
     "shell.execute_reply": "2025-08-27T22:28:38.434902Z"
    }
   },
   "outputs": [],
   "source": [
    "liborFlatRate = 0.0275"
   ]
  },
  {
   "cell_type": "code",
   "execution_count": 8,
   "metadata": {
    "execution": {
     "iopub.execute_input": "2025-08-27T22:28:38.436823Z",
     "iopub.status.busy": "2025-08-27T22:28:38.436496Z",
     "iopub.status.idle": "2025-08-27T22:28:38.439306Z",
     "shell.execute_reply": "2025-08-27T22:28:38.438926Z"
    }
   },
   "outputs": [],
   "source": [
    "settle_dt = Date(21, 7, 2017)"
   ]
  },
  {
   "cell_type": "code",
   "execution_count": 9,
   "metadata": {
    "execution": {
     "iopub.execute_input": "2025-08-27T22:28:38.440791Z",
     "iopub.status.busy": "2025-08-27T22:28:38.440619Z",
     "iopub.status.idle": "2025-08-27T22:28:38.448673Z",
     "shell.execute_reply": "2025-08-27T22:28:38.448228Z"
    }
   },
   "outputs": [],
   "source": [
    "liborFlatCurve = DiscountCurveFlat(settle_dt, liborFlatRate, FrequencyTypes.SEMI_ANNUAL)"
   ]
  },
  {
   "cell_type": "code",
   "execution_count": 10,
   "metadata": {
    "execution": {
     "iopub.execute_input": "2025-08-27T22:28:38.450375Z",
     "iopub.status.busy": "2025-08-27T22:28:38.450059Z",
     "iopub.status.idle": "2025-08-27T22:28:38.452827Z",
     "shell.execute_reply": "2025-08-27T22:28:38.452515Z"
    }
   },
   "outputs": [
    {
     "name": "stdout",
     "output_type": "stream",
     "text": [
      "OBJECT TYPE: DiscountCurveFlat\n",
      "VALUE DATE: 21-JUL-2017\n",
      "FLAT RATE: 0.0275\n",
      "FREQUENCY: FrequencyTypes.SEMI_ANNUAL\n",
      "DAY COUNT: DayCountTypes.ACT_ACT_ISDA\n",
      "\n"
     ]
    }
   ],
   "source": [
    "print(liborFlatCurve)"
   ]
  },
  {
   "cell_type": "markdown",
   "metadata": {},
   "source": [
    "To caluclate the ASW I need to know the clean price of the bond"
   ]
  },
  {
   "cell_type": "code",
   "execution_count": 11,
   "metadata": {
    "execution": {
     "iopub.execute_input": "2025-08-27T22:28:38.454573Z",
     "iopub.status.busy": "2025-08-27T22:28:38.454296Z",
     "iopub.status.idle": "2025-08-27T22:28:38.456479Z",
     "shell.execute_reply": "2025-08-27T22:28:38.456079Z"
    }
   },
   "outputs": [],
   "source": [
    "clean_price = 99.780842  # I specified face to be 100 - if face is 1 then this must be 0.99780842"
   ]
  },
  {
   "cell_type": "markdown",
   "metadata": {},
   "source": [
    "I then call a function passing in the date, price and curve"
   ]
  },
  {
   "cell_type": "code",
   "execution_count": 12,
   "metadata": {
    "execution": {
     "iopub.execute_input": "2025-08-27T22:28:38.458065Z",
     "iopub.status.busy": "2025-08-27T22:28:38.457846Z",
     "iopub.status.idle": "2025-08-27T22:28:38.463166Z",
     "shell.execute_reply": "2025-08-27T22:28:38.462822Z"
    }
   },
   "outputs": [
    {
     "data": {
      "text/plain": [
       "np.float64(-33.69913338080966)"
      ]
     },
     "execution_count": 12,
     "metadata": {},
     "output_type": "execute_result"
    }
   ],
   "source": [
    "bond.asset_swap_spread(settle_dt, clean_price, liborFlatCurve) * 10000"
   ]
  },
  {
   "cell_type": "markdown",
   "metadata": {},
   "source": [
    "The bond ASW is negative so it is trading tighter than the Libor curve. I need to cheapen the bond to make the ASW positive."
   ]
  },
  {
   "cell_type": "code",
   "execution_count": 13,
   "metadata": {
    "execution": {
     "iopub.execute_input": "2025-08-27T22:28:38.464825Z",
     "iopub.status.busy": "2025-08-27T22:28:38.464490Z",
     "iopub.status.idle": "2025-08-27T22:28:38.467099Z",
     "shell.execute_reply": "2025-08-27T22:28:38.466738Z"
    }
   },
   "outputs": [],
   "source": [
    "clean_price = 93.382  # I specified face to be 100"
   ]
  },
  {
   "cell_type": "code",
   "execution_count": 14,
   "metadata": {
    "execution": {
     "iopub.execute_input": "2025-08-27T22:28:38.468733Z",
     "iopub.status.busy": "2025-08-27T22:28:38.468518Z",
     "iopub.status.idle": "2025-08-27T22:28:38.472382Z",
     "shell.execute_reply": "2025-08-27T22:28:38.471990Z"
    }
   },
   "outputs": [
    {
     "data": {
      "text/plain": [
       "np.float64(38.48148022319349)"
      ]
     },
     "execution_count": 14,
     "metadata": {},
     "output_type": "execute_result"
    }
   ],
   "source": [
    "bond.asset_swap_spread(settle_dt, clean_price, liborFlatCurve) * 10000"
   ]
  },
  {
   "cell_type": "markdown",
   "metadata": {},
   "source": [
    "To get date functionality you import Date"
   ]
  },
  {
   "cell_type": "markdown",
   "metadata": {},
   "source": [
    "## Analysis of the Asset Swap Spread"
   ]
  },
  {
   "cell_type": "markdown",
   "metadata": {},
   "source": [
    "We can use the vectorisations to do some basic analysis. First generate a vector of prices from 90 to 110 with 20 steps."
   ]
  },
  {
   "cell_type": "code",
   "execution_count": 15,
   "metadata": {
    "execution": {
     "iopub.execute_input": "2025-08-27T22:28:38.474127Z",
     "iopub.status.busy": "2025-08-27T22:28:38.473878Z",
     "iopub.status.idle": "2025-08-27T22:28:38.476440Z",
     "shell.execute_reply": "2025-08-27T22:28:38.476080Z"
    }
   },
   "outputs": [],
   "source": [
    "clean_prices = np.linspace(75,125,20)"
   ]
  },
  {
   "cell_type": "code",
   "execution_count": 16,
   "metadata": {
    "execution": {
     "iopub.execute_input": "2025-08-27T22:28:38.477997Z",
     "iopub.status.busy": "2025-08-27T22:28:38.477750Z",
     "iopub.status.idle": "2025-08-27T22:28:38.480571Z",
     "shell.execute_reply": "2025-08-27T22:28:38.480197Z"
    }
   },
   "outputs": [],
   "source": [
    "asws = bond.asset_swap_spread(settle_dt, clean_prices, liborFlatCurve)"
   ]
  },
  {
   "cell_type": "markdown",
   "metadata": {},
   "source": [
    "We can now plot the relationship."
   ]
  },
  {
   "cell_type": "code",
   "execution_count": 17,
   "metadata": {
    "execution": {
     "iopub.execute_input": "2025-08-27T22:28:38.482554Z",
     "iopub.status.busy": "2025-08-27T22:28:38.482193Z",
     "iopub.status.idle": "2025-08-27T22:28:38.583121Z",
     "shell.execute_reply": "2025-08-27T22:28:38.582607Z"
    }
   },
   "outputs": [
    {
     "data": {
      "text/plain": [
       "Text(0, 0.5, 'Asset Swap Spread (bp)')"
      ]
     },
     "execution_count": 17,
     "metadata": {},
     "output_type": "execute_result"
    },
    {
     "data": {
      "image/png": "[encoded data removed]",
      "text/plain": [
       "<Figure size 640x480 with 1 Axes>"
      ]
     },
     "metadata": {},
     "output_type": "display_data"
    }
   ],
   "source": [
    "plt.plot(clean_prices,asws*10000)\n",
    "plt.xlabel(\"Bond Clean Price\")\n",
    "plt.ylabel(\"Asset Swap Spread (bp)\")"
   ]
  },
  {
   "cell_type": "markdown",
   "metadata": {},
   "source": [
    "This is nicely linear and decreasing - the higher the bond price the better its implied credit risk versus Libor discounting so the lower its asset swap spread."
   ]
  },
  {
   "cell_type": "markdown",
   "metadata": {},
   "source": [
    "Copyright (c) 2020 Dominic O'Kane"
   ]
  }
 ],
 "metadata": {
  "kernelspec": {
   "display_name": "base",
   "language": "python",
   "name": "python3"
  },
  "language_info": {
   "codemirror_mode": {
    "name": "ipython",
    "version": 3
   },
   "file_extension": ".py",
   "mimetype": "text/x-python",
   "name": "python",
   "nbconvert_exporter": "python",
   "pygments_lexer": "ipython3",
   "version": "3.13.5"
  }
 },
 "nbformat": 4,
 "nbformat_minor": 2
}
