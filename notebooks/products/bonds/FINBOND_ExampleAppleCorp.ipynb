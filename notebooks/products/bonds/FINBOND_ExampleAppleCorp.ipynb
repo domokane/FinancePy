{
 "cells": [
  {
   "cell_type": "markdown",
   "metadata": {},
   "source": [
    "# FIXED COUPON BOND EXAMPLE APPLE CORP"
   ]
  },
  {
   "cell_type": "markdown",
   "metadata": {},
   "source": [
    "This is a  bond analysis based on example in https://data.bloomberglp.com/bat/sites/3/2017/07/SF-2017_Paul-Fjeldsted.pdf"
   ]
  },
  {
   "cell_type": "code",
   "execution_count": 1,
   "metadata": {
    "execution": {
     "iopub.execute_input": "2025-08-27T21:41:32.643577Z",
     "iopub.status.busy": "2025-08-27T21:41:32.643258Z",
     "iopub.status.idle": "2025-08-27T21:41:33.142063Z",
     "shell.execute_reply": "2025-08-27T21:41:33.141301Z"
    }
   },
   "outputs": [],
   "source": [
    "import numpy as np\n",
    "import matplotlib.pyplot as plt"
   ]
  },
  {
   "cell_type": "code",
   "execution_count": 2,
   "metadata": {
    "execution": {
     "iopub.execute_input": "2025-08-27T21:41:33.144893Z",
     "iopub.status.busy": "2025-08-27T21:41:33.144581Z",
     "iopub.status.idle": "2025-08-27T21:41:34.269982Z",
     "shell.execute_reply": "2025-08-27T21:41:34.269538Z"
    }
   },
   "outputs": [
    {
     "name": "stdout",
     "output_type": "stream",
     "text": [
      "####################################################################\n",
      "#    FINANCEPY Version 1.1 - This build: 27 Aug 2025 at 23:27      #\n",
      "#     This software is distributed FREE AND WITHOUT ANY WARRANTY   #\n",
      "#  Report bugs as issues at https://github.com/domokane/FinancePy  #\n",
      "####################################################################\n",
      "\n"
     ]
    }
   ],
   "source": [
    "from financepy.utils import *\n",
    "from financepy.products.bonds import *"
   ]
  },
  {
   "cell_type": "markdown",
   "metadata": {},
   "source": [
    "# Define the Bond"
   ]
  },
  {
   "cell_type": "code",
   "execution_count": 3,
   "metadata": {
    "execution": {
     "iopub.execute_input": "2025-08-27T21:41:34.272746Z",
     "iopub.status.busy": "2025-08-27T21:41:34.272403Z",
     "iopub.status.idle": "2025-08-27T21:41:34.291097Z",
     "shell.execute_reply": "2025-08-27T21:41:34.290628Z"
    }
   },
   "outputs": [],
   "source": [
    "issue_dt = Date(13, 5, 2010)\n",
    "maturity_dt = Date(13, 5, 2022)\n",
    "coupon = 0.027\n",
    "freq_type = FrequencyTypes.SEMI_ANNUAL\n",
    "dc_type = DayCountTypes.THIRTY_E_360\n",
    "face = ONE_MILLION"
   ]
  },
  {
   "cell_type": "code",
   "execution_count": 4,
   "metadata": {
    "execution": {
     "iopub.execute_input": "2025-08-27T21:41:34.293548Z",
     "iopub.status.busy": "2025-08-27T21:41:34.293326Z",
     "iopub.status.idle": "2025-08-27T21:41:34.296534Z",
     "shell.execute_reply": "2025-08-27T21:41:34.296059Z"
    }
   },
   "outputs": [],
   "source": [
    "bond = Bond(issue_dt, maturity_dt, coupon, freq_type, dc_type)"
   ]
  },
  {
   "cell_type": "code",
   "execution_count": 5,
   "metadata": {
    "execution": {
     "iopub.execute_input": "2025-08-27T21:41:34.298882Z",
     "iopub.status.busy": "2025-08-27T21:41:34.298536Z",
     "iopub.status.idle": "2025-08-27T21:41:34.301536Z",
     "shell.execute_reply": "2025-08-27T21:41:34.301198Z"
    }
   },
   "outputs": [],
   "source": [
    "clean_price = 101.581564  # if face is 1 then this must be 0.99780842"
   ]
  },
  {
   "cell_type": "markdown",
   "metadata": {},
   "source": [
    "You can get information about the bond using the print method."
   ]
  },
  {
   "cell_type": "code",
   "execution_count": 6,
   "metadata": {
    "execution": {
     "iopub.execute_input": "2025-08-27T21:41:34.303628Z",
     "iopub.status.busy": "2025-08-27T21:41:34.303411Z",
     "iopub.status.idle": "2025-08-27T21:41:34.305946Z",
     "shell.execute_reply": "2025-08-27T21:41:34.305557Z"
    }
   },
   "outputs": [
    {
     "name": "stdout",
     "output_type": "stream",
     "text": [
      "OBJECT TYPE: Bond\n",
      "ISSUE DATE: 13-MAY-2010\n",
      "MATURITY DATE: 13-MAY-2022\n",
      "COUPON (%): 2.7\n",
      "FREQUENCY: FrequencyTypes.SEMI_ANNUAL\n",
      "DAY COUNT TYPE: DayCountTypes.THIRTY_E_360\n",
      "EX_DIV DAYS: 0\n"
     ]
    }
   ],
   "source": [
    "print(bond)"
   ]
  },
  {
   "cell_type": "markdown",
   "metadata": {},
   "source": [
    "## Bond Cash Flows"
   ]
  },
  {
   "cell_type": "markdown",
   "metadata": {},
   "source": [
    "We first need to set the settlement date of the bond. "
   ]
  },
  {
   "cell_type": "code",
   "execution_count": 7,
   "metadata": {
    "execution": {
     "iopub.execute_input": "2025-08-27T21:41:34.308044Z",
     "iopub.status.busy": "2025-08-27T21:41:34.307802Z",
     "iopub.status.idle": "2025-08-27T21:41:34.310583Z",
     "shell.execute_reply": "2025-08-27T21:41:34.309966Z"
    }
   },
   "outputs": [],
   "source": [
    "settle_dt = Date(21, 7, 2017)"
   ]
  },
  {
   "cell_type": "code",
   "execution_count": 8,
   "metadata": {
    "execution": {
     "iopub.execute_input": "2025-08-27T21:41:34.312706Z",
     "iopub.status.busy": "2025-08-27T21:41:34.312493Z",
     "iopub.status.idle": "2025-08-27T21:41:34.315214Z",
     "shell.execute_reply": "2025-08-27T21:41:34.314772Z"
    }
   },
   "outputs": [
    {
     "name": "stdout",
     "output_type": "stream",
     "text": [
      " 13-NOV-2017      1.35000 \n",
      " 13-MAY-2018      1.35000 \n",
      " 13-NOV-2018      1.35000 \n",
      " 13-MAY-2019      1.35000 \n",
      " 13-NOV-2019      1.35000 \n",
      " 13-MAY-2020      1.35000 \n",
      " 13-NOV-2020      1.35000 \n",
      " 13-MAY-2021      1.35000 \n",
      " 13-NOV-2021      1.35000 \n",
      " 13-MAY-2022    101.35000 \n",
      "\n"
     ]
    }
   ],
   "source": [
    "bond.print_payments(settle_dt)"
   ]
  },
  {
   "cell_type": "markdown",
   "metadata": {},
   "source": [
    "The convention is to use these dates for yield calculations even if some fall on weekends."
   ]
  },
  {
   "cell_type": "markdown",
   "metadata": {},
   "source": [
    "## Bond Yield Measures"
   ]
  },
  {
   "cell_type": "markdown",
   "metadata": {},
   "source": [
    "Current yield is the coupon over the price"
   ]
  },
  {
   "cell_type": "code",
   "execution_count": 9,
   "metadata": {
    "execution": {
     "iopub.execute_input": "2025-08-27T21:41:34.317604Z",
     "iopub.status.busy": "2025-08-27T21:41:34.317279Z",
     "iopub.status.idle": "2025-08-27T21:41:34.323491Z",
     "shell.execute_reply": "2025-08-27T21:41:34.323036Z"
    }
   },
   "outputs": [
    {
     "data": {
      "text/plain": [
       "2.657962620067555"
      ]
     },
     "execution_count": 9,
     "metadata": {},
     "output_type": "execute_result"
    }
   ],
   "source": [
    "bond.current_yield(clean_price)*100.0"
   ]
  },
  {
   "cell_type": "markdown",
   "metadata": {},
   "source": [
    "Yield to maturity using UK convention"
   ]
  },
  {
   "cell_type": "code",
   "execution_count": 10,
   "metadata": {
    "execution": {
     "iopub.execute_input": "2025-08-27T21:41:34.326474Z",
     "iopub.status.busy": "2025-08-27T21:41:34.326100Z",
     "iopub.status.idle": "2025-08-27T21:41:34.330245Z",
     "shell.execute_reply": "2025-08-27T21:41:34.329866Z"
    }
   },
   "outputs": [
    {
     "data": {
      "text/plain": [
       "2.3499999794774293"
      ]
     },
     "execution_count": 10,
     "metadata": {},
     "output_type": "execute_result"
    }
   ],
   "source": [
    "bond.yield_to_maturity(settle_dt, clean_price, YTMCalcType.UK_DMO)*100"
   ]
  },
  {
   "cell_type": "markdown",
   "metadata": {},
   "source": [
    "Yield to maturity using US Street convention"
   ]
  },
  {
   "cell_type": "code",
   "execution_count": 11,
   "metadata": {
    "execution": {
     "iopub.execute_input": "2025-08-27T21:41:34.332710Z",
     "iopub.status.busy": "2025-08-27T21:41:34.332434Z",
     "iopub.status.idle": "2025-08-27T21:41:34.337007Z",
     "shell.execute_reply": "2025-08-27T21:41:34.336541Z"
    }
   },
   "outputs": [
    {
     "data": {
      "text/plain": [
       "2.3499999794774293"
      ]
     },
     "execution_count": 11,
     "metadata": {},
     "output_type": "execute_result"
    }
   ],
   "source": [
    "bond.yield_to_maturity(settle_dt, clean_price, YTMCalcType.US_STREET)*100"
   ]
  },
  {
   "cell_type": "markdown",
   "metadata": {},
   "source": [
    "Yield to maturity using US Treasury convention"
   ]
  },
  {
   "cell_type": "code",
   "execution_count": 12,
   "metadata": {
    "execution": {
     "iopub.execute_input": "2025-08-27T21:41:34.339579Z",
     "iopub.status.busy": "2025-08-27T21:41:34.339222Z",
     "iopub.status.idle": "2025-08-27T21:41:34.343757Z",
     "shell.execute_reply": "2025-08-27T21:41:34.343309Z"
    }
   },
   "outputs": [
    {
     "data": {
      "text/plain": [
       "2.3496418129692254"
      ]
     },
     "execution_count": 12,
     "metadata": {},
     "output_type": "execute_result"
    }
   ],
   "source": [
    "bond.yield_to_maturity(settle_dt, clean_price, YTMCalcType.US_TREASURY)*100"
   ]
  },
  {
   "cell_type": "markdown",
   "metadata": {},
   "source": [
    "## Accrued Interest"
   ]
  },
  {
   "cell_type": "markdown",
   "metadata": {},
   "source": [
    "For consistency let's fix the yield calculation convention to be US Street"
   ]
  },
  {
   "cell_type": "code",
   "execution_count": 13,
   "metadata": {
    "execution": {
     "iopub.execute_input": "2025-08-27T21:41:34.346050Z",
     "iopub.status.busy": "2025-08-27T21:41:34.345821Z",
     "iopub.status.idle": "2025-08-27T21:41:34.348663Z",
     "shell.execute_reply": "2025-08-27T21:41:34.348123Z"
    }
   },
   "outputs": [],
   "source": [
    "yieldConvention = YTMCalcType.US_STREET"
   ]
  },
  {
   "cell_type": "code",
   "execution_count": 14,
   "metadata": {
    "execution": {
     "iopub.execute_input": "2025-08-27T21:41:34.350824Z",
     "iopub.status.busy": "2025-08-27T21:41:34.350494Z",
     "iopub.status.idle": "2025-08-27T21:41:34.354137Z",
     "shell.execute_reply": "2025-08-27T21:41:34.353740Z"
    }
   },
   "outputs": [],
   "source": [
    "ytm = bond.yield_to_maturity(settle_dt, clean_price, yieldConvention)"
   ]
  },
  {
   "cell_type": "markdown",
   "metadata": {},
   "source": [
    "Dirty price is the clean price plus accrued interest"
   ]
  },
  {
   "cell_type": "code",
   "execution_count": 15,
   "metadata": {
    "execution": {
     "iopub.execute_input": "2025-08-27T21:41:34.356886Z",
     "iopub.status.busy": "2025-08-27T21:41:34.356634Z",
     "iopub.status.idle": "2025-08-27T21:41:34.359494Z",
     "shell.execute_reply": "2025-08-27T21:41:34.359046Z"
    }
   },
   "outputs": [
    {
     "name": "stdout",
     "output_type": "stream",
     "text": [
      "Dirty Price = 102.091564\n"
     ]
    }
   ],
   "source": [
    "print(\"Dirty Price = %8.6f\" %  bond.dirty_price_from_ytm(settle_dt, ytm, yieldConvention))"
   ]
  },
  {
   "cell_type": "code",
   "execution_count": 16,
   "metadata": {
    "execution": {
     "iopub.execute_input": "2025-08-27T21:41:34.361824Z",
     "iopub.status.busy": "2025-08-27T21:41:34.361485Z",
     "iopub.status.idle": "2025-08-27T21:41:34.365043Z",
     "shell.execute_reply": "2025-08-27T21:41:34.364597Z"
    }
   },
   "outputs": [
    {
     "name": "stdout",
     "output_type": "stream",
     "text": [
      "Clean Price = 101.581564\n"
     ]
    }
   ],
   "source": [
    "print(\"Clean Price = %8.6f\" % bond.clean_price_from_ytm(settle_dt, ytm, yieldConvention))"
   ]
  },
  {
   "cell_type": "markdown",
   "metadata": {},
   "source": [
    "Accrued interest is accrued from previous coupon date to settlement date"
   ]
  },
  {
   "cell_type": "code",
   "execution_count": 17,
   "metadata": {
    "execution": {
     "iopub.execute_input": "2025-08-27T21:41:34.367581Z",
     "iopub.status.busy": "2025-08-27T21:41:34.367250Z",
     "iopub.status.idle": "2025-08-27T21:41:34.370034Z",
     "shell.execute_reply": "2025-08-27T21:41:34.369660Z"
    }
   },
   "outputs": [
    {
     "name": "stdout",
     "output_type": "stream",
     "text": [
      "Previous coupon date is  13-MAY-2017\n"
     ]
    }
   ],
   "source": [
    "print(\"Previous coupon date is \", bond._pcd)"
   ]
  },
  {
   "cell_type": "code",
   "execution_count": 18,
   "metadata": {
    "execution": {
     "iopub.execute_input": "2025-08-27T21:41:34.372789Z",
     "iopub.status.busy": "2025-08-27T21:41:34.372339Z",
     "iopub.status.idle": "2025-08-27T21:41:34.375692Z",
     "shell.execute_reply": "2025-08-27T21:41:34.375273Z"
    }
   },
   "outputs": [
    {
     "name": "stdout",
     "output_type": "stream",
     "text": [
      "Settlement date is  21-JUL-2017\n"
     ]
    }
   ],
   "source": [
    "print(\"Settlement date is \", settle_dt)"
   ]
  },
  {
   "cell_type": "markdown",
   "metadata": {},
   "source": [
    "The amount of accrued interest is "
   ]
  },
  {
   "cell_type": "code",
   "execution_count": 19,
   "metadata": {
    "execution": {
     "iopub.execute_input": "2025-08-27T21:41:34.378067Z",
     "iopub.status.busy": "2025-08-27T21:41:34.377806Z",
     "iopub.status.idle": "2025-08-27T21:41:34.381987Z",
     "shell.execute_reply": "2025-08-27T21:41:34.381299Z"
    }
   },
   "outputs": [
    {
     "name": "stdout",
     "output_type": "stream",
     "text": [
      "Accrued =         0.51\n"
     ]
    }
   ],
   "source": [
    "print(\"Accrued = %12.2f\"% bond.accrued_int)"
   ]
  },
  {
   "cell_type": "markdown",
   "metadata": {},
   "source": [
    "This is based on the following number of days of accrual (for some conventions this is not the actual number of days between last coupon and settlement)"
   ]
  },
  {
   "cell_type": "code",
   "execution_count": 20,
   "metadata": {
    "execution": {
     "iopub.execute_input": "2025-08-27T21:41:34.384476Z",
     "iopub.status.busy": "2025-08-27T21:41:34.384216Z",
     "iopub.status.idle": "2025-08-27T21:41:34.387041Z",
     "shell.execute_reply": "2025-08-27T21:41:34.386553Z"
    }
   },
   "outputs": [
    {
     "name": "stdout",
     "output_type": "stream",
     "text": [
      "Accrued Days =  68\n"
     ]
    }
   ],
   "source": [
    "print(\"Accrued Days = \", bond.accrued_days)"
   ]
  },
  {
   "cell_type": "code",
   "execution_count": 21,
   "metadata": {
    "execution": {
     "iopub.execute_input": "2025-08-27T21:41:34.389938Z",
     "iopub.status.busy": "2025-08-27T21:41:34.389662Z",
     "iopub.status.idle": "2025-08-27T21:41:34.392952Z",
     "shell.execute_reply": "2025-08-27T21:41:34.392474Z"
    }
   },
   "outputs": [
    {
     "name": "stdout",
     "output_type": "stream",
     "text": [
      "Principal =   1020915.63\n"
     ]
    }
   ],
   "source": [
    "print(\"Principal = %12.2f\" % bond.principal(settle_dt, ytm, face, yieldConvention))"
   ]
  },
  {
   "cell_type": "markdown",
   "metadata": {},
   "source": [
    "## Bond Risk Measures"
   ]
  },
  {
   "cell_type": "markdown",
   "metadata": {},
   "source": [
    "The bond dollar duration is the actual derivative with respect to the yield. It is the bond price change for a 1bp drop in the yield-to-maturity divided by 1bp."
   ]
  },
  {
   "cell_type": "code",
   "execution_count": 22,
   "metadata": {
    "execution": {
     "iopub.execute_input": "2025-08-27T21:41:34.395298Z",
     "iopub.status.busy": "2025-08-27T21:41:34.395052Z",
     "iopub.status.idle": "2025-08-27T21:41:34.398396Z",
     "shell.execute_reply": "2025-08-27T21:41:34.397938Z"
    }
   },
   "outputs": [
    {
     "name": "stdout",
     "output_type": "stream",
     "text": [
      "Dollar Duration =  456.56933693372537\n"
     ]
    }
   ],
   "source": [
    "duration = bond.dollar_duration(settle_dt, ytm, yieldConvention)\n",
    "print(\"Dollar Duration = \", duration)"
   ]
  },
  {
   "cell_type": "markdown",
   "metadata": {},
   "source": [
    "Modified Duration divides the dollar duration by the full price of the bond"
   ]
  },
  {
   "cell_type": "code",
   "execution_count": 23,
   "metadata": {
    "execution": {
     "iopub.execute_input": "2025-08-27T21:41:34.401079Z",
     "iopub.status.busy": "2025-08-27T21:41:34.400789Z",
     "iopub.status.idle": "2025-08-27T21:41:34.404355Z",
     "shell.execute_reply": "2025-08-27T21:41:34.403869Z"
    }
   },
   "outputs": [
    {
     "name": "stdout",
     "output_type": "stream",
     "text": [
      "Modified Duration =  4.4721553774553175\n"
     ]
    }
   ],
   "source": [
    "modified_duration = bond.modified_duration(settle_dt, ytm, yieldConvention)\n",
    "print(\"Modified Duration = \", modified_duration)"
   ]
  },
  {
   "cell_type": "markdown",
   "metadata": {},
   "source": [
    "Macauley Duration multiplies the dollar duration by (1+y/f) and divides by the full price"
   ]
  },
  {
   "cell_type": "code",
   "execution_count": 24,
   "metadata": {
    "execution": {
     "iopub.execute_input": "2025-08-27T21:41:34.406514Z",
     "iopub.status.busy": "2025-08-27T21:41:34.406266Z",
     "iopub.status.idle": "2025-08-27T21:41:34.409358Z",
     "shell.execute_reply": "2025-08-27T21:41:34.408861Z"
    }
   },
   "outputs": [
    {
     "name": "stdout",
     "output_type": "stream",
     "text": [
      "Macauley Duration =  4.5247032026815175\n"
     ]
    }
   ],
   "source": [
    "macauley_duration = bond.macauley_duration(settle_dt, ytm, yieldConvention)\n",
    "print(\"Macauley Duration = \", macauley_duration)"
   ]
  },
  {
   "cell_type": "markdown",
   "metadata": {},
   "source": [
    "Convexity is the second derivative of the bond price with respect to the yield-to-maturity"
   ]
  },
  {
   "cell_type": "code",
   "execution_count": 25,
   "metadata": {
    "execution": {
     "iopub.execute_input": "2025-08-27T21:41:34.411525Z",
     "iopub.status.busy": "2025-08-27T21:41:34.411275Z",
     "iopub.status.idle": "2025-08-27T21:41:34.414695Z",
     "shell.execute_reply": "2025-08-27T21:41:34.414129Z"
    }
   },
   "outputs": [
    {
     "name": "stdout",
     "output_type": "stream",
     "text": [
      "Convexity =  0.23024091345527423\n"
     ]
    }
   ],
   "source": [
    "conv = bond.convexity_from_ytm(settle_dt, ytm, yieldConvention)\n",
    "print(\"Convexity = \", conv)"
   ]
  },
  {
   "cell_type": "markdown",
   "metadata": {},
   "source": [
    "Copyright (c) 2020 Dominic O'Kane"
   ]
  },
  {
   "cell_type": "markdown",
   "metadata": {},
   "source": []
  }
 ],
 "metadata": {
  "kernelspec": {
   "display_name": "base",
   "language": "python",
   "name": "python3"
  },
  "language_info": {
   "codemirror_mode": {
    "name": "ipython",
    "version": 3
   },
   "file_extension": ".py",
   "mimetype": "text/x-python",
   "name": "python",
   "nbconvert_exporter": "python",
   "pygments_lexer": "ipython3",
   "version": "3.13.5"
  }
 },
 "nbformat": 4,
 "nbformat_minor": 2
}
