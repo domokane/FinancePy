{
    "cells": [
        {
            "cell_type": "markdown",
            "metadata": {},
            "source": [
                "# FIXED COUPON BOND EXAMPLE APPLE CORP"
            ]
        },
        {
            "cell_type": "markdown",
            "metadata": {},
            "source": [
                "This is a  bond analysis based on example in https://data.bloomberglp.com/bat/sites/3/2017/07/SF-2017_Paul-Fjeldsted.pdf"
            ]
        },
        {
            "cell_type": "code",
            "execution_count": 1,
            "metadata": {
                "execution": {
                    "iopub.execute_input": "2024-04-30T19:50:28.431443Z",
                    "iopub.status.busy": "2024-04-30T19:50:28.431443Z",
                    "iopub.status.idle": "2024-04-30T19:50:29.099274Z",
                    "shell.execute_reply": "2024-04-30T19:50:29.099274Z"
                }
            },
            "outputs": [],
            "source": [
                "import numpy as np\n",
                "import matplotlib.pyplot as plt"
            ]
        },
        {
            "cell_type": "code",
            "execution_count": 2,
            "metadata": {
                "execution": {
                    "iopub.execute_input": "2024-04-30T19:50:29.102367Z",
                    "iopub.status.busy": "2024-04-30T19:50:29.102367Z",
                    "iopub.status.idle": "2024-04-30T19:50:30.209448Z",
                    "shell.execute_reply": "2024-04-30T19:50:30.209448Z"
                }
            },
            "outputs": [
                {
                    "name": "stdout",
                    "output_type": "stream",
                    "text": [
                        "####################################################################\n",
                        "#  FINANCEPY BETA Version 0.350 - This build: 30 Apr 2024 at 21:20 #\n",
                        "#     This software is distributed FREE AND WITHOUT ANY WARRANTY   #\n",
                        "#  Report bugs as issues at https://github.com/domokane/FinancePy  #\n",
                        "####################################################################\n",
                        "\n"
                    ]
                }
            ],
            "source": [
                "from financepy.utils import *\n",
                "from financepy.products.bonds import *"
            ]
        },
        {
            "cell_type": "markdown",
            "metadata": {},
            "source": [
                "# Define the Bond"
            ]
        },
        {
            "cell_type": "code",
            "execution_count": 3,
            "metadata": {
                "execution": {
                    "iopub.execute_input": "2024-04-30T19:50:30.212126Z",
                    "iopub.status.busy": "2024-04-30T19:50:30.212126Z",
                    "iopub.status.idle": "2024-04-30T19:50:30.231620Z",
                    "shell.execute_reply": "2024-04-30T19:50:30.231620Z"
                }
            },
            "outputs": [],
            "source": [
                "issue_dt = Date(13, 5, 2010)\n",
                "maturity_dt = Date(13, 5, 2022)\n",
                "coupon = 0.027\n",
                "freq_type = FrequencyTypes.SEMI_ANNUAL\n",
                "dc_type = DayCountTypes.THIRTY_E_360\n",
                "face = ONE_MILLION"
            ]
        },
        {
            "cell_type": "code",
            "execution_count": 4,
            "metadata": {
                "execution": {
                    "iopub.execute_input": "2024-04-30T19:50:30.234229Z",
                    "iopub.status.busy": "2024-04-30T19:50:30.234229Z",
                    "iopub.status.idle": "2024-04-30T19:50:30.237361Z",
                    "shell.execute_reply": "2024-04-30T19:50:30.237361Z"
                }
            },
            "outputs": [],
            "source": [
                "bond = Bond(issue_dt, maturity_dt, coupon, freq_type, dc_type)"
            ]
        },
        {
            "cell_type": "code",
            "execution_count": 5,
            "metadata": {
                "execution": {
                    "iopub.execute_input": "2024-04-30T19:50:30.239393Z",
                    "iopub.status.busy": "2024-04-30T19:50:30.239393Z",
                    "iopub.status.idle": "2024-04-30T19:50:30.242739Z",
                    "shell.execute_reply": "2024-04-30T19:50:30.242232Z"
                }
            },
            "outputs": [],
            "source": [
                "clean_price = 101.581564  # if face is 1 then this must be 0.99780842"
            ]
        },
        {
            "cell_type": "markdown",
            "metadata": {},
            "source": [
                "You can get information about the bond using the print method."
            ]
        },
        {
            "cell_type": "code",
            "execution_count": 6,
            "metadata": {
                "execution": {
                    "iopub.execute_input": "2024-04-30T19:50:30.244822Z",
                    "iopub.status.busy": "2024-04-30T19:50:30.244822Z",
                    "iopub.status.idle": "2024-04-30T19:50:30.247433Z",
                    "shell.execute_reply": "2024-04-30T19:50:30.247433Z"
                }
            },
            "outputs": [
                {
                    "name": "stdout",
                    "output_type": "stream",
                    "text": [
                        "OBJECT TYPE: Bond\n",
                        "ISSUE DATE: 13-MAY-2010\n",
                        "MATURITY DATE: 13-MAY-2022\n",
                        "COUPON (%): 2.7\n",
                        "FREQUENCY: FrequencyTypes.SEMI_ANNUAL\n",
                        "DAY COUNT TYPE: DayCountTypes.THIRTY_E_360\n",
                        "EX_DIV DAYS: 0\n"
                    ]
                }
            ],
            "source": [
                "print(bond)"
            ]
        },
        {
            "cell_type": "markdown",
            "metadata": {},
            "source": [
                "## Bond Cash Flows"
            ]
        },
        {
            "cell_type": "markdown",
            "metadata": {},
            "source": [
                "We first need to set the settlement date of the bond. "
            ]
        },
        {
            "cell_type": "code",
            "execution_count": 7,
            "metadata": {
                "execution": {
                    "iopub.execute_input": "2024-04-30T19:50:30.249464Z",
                    "iopub.status.busy": "2024-04-30T19:50:30.249464Z",
                    "iopub.status.idle": "2024-04-30T19:50:30.252327Z",
                    "shell.execute_reply": "2024-04-30T19:50:30.252327Z"
                }
            },
            "outputs": [],
            "source": [
                "settle_dt = Date(21, 7, 2017)"
            ]
        },
        {
            "cell_type": "code",
            "execution_count": 8,
            "metadata": {
                "execution": {
                    "iopub.execute_input": "2024-04-30T19:50:30.254942Z",
                    "iopub.status.busy": "2024-04-30T19:50:30.253944Z",
                    "iopub.status.idle": "2024-04-30T19:50:30.257194Z",
                    "shell.execute_reply": "2024-04-30T19:50:30.257194Z"
                }
            },
            "outputs": [
                {
                    "name": "stdout",
                    "output_type": "stream",
                    "text": [
                        " 13-NOV-2017      1.35000 \n",
                        " 13-MAY-2018      1.35000 \n",
                        " 13-NOV-2018      1.35000 \n",
                        " 13-MAY-2019      1.35000 \n",
                        " 13-NOV-2019      1.35000 \n",
                        " 13-MAY-2020      1.35000 \n",
                        " 13-NOV-2020      1.35000 \n",
                        " 13-MAY-2021      1.35000 \n",
                        " 13-NOV-2021      1.35000 \n",
                        " 13-MAY-2022    101.35000 \n",
                        "\n"
                    ]
                }
            ],
            "source": [
                "bond.print_payments(settle_dt)"
            ]
        },
        {
            "cell_type": "markdown",
            "metadata": {},
            "source": [
                "The convention is to use these dates for yield calculations even if some fall on weekends."
            ]
        },
        {
            "cell_type": "markdown",
            "metadata": {},
            "source": [
                "## Bond Yield Measures"
            ]
        },
        {
            "cell_type": "markdown",
            "metadata": {},
            "source": [
                "Current yield is the coupon over the price"
            ]
        },
        {
            "cell_type": "code",
            "execution_count": 9,
            "metadata": {
                "execution": {
                    "iopub.execute_input": "2024-04-30T19:50:30.259224Z",
                    "iopub.status.busy": "2024-04-30T19:50:30.259224Z",
                    "iopub.status.idle": "2024-04-30T19:50:30.265100Z",
                    "shell.execute_reply": "2024-04-30T19:50:30.265100Z"
                }
            },
            "outputs": [
                {
                    "data": {
                        "text/plain": [
                            "2.657962620067555"
                        ]
                    },
                    "execution_count": 9,
                    "metadata": {},
                    "output_type": "execute_result"
                }
            ],
            "source": [
                "bond.current_yield(clean_price)*100.0"
            ]
        },
        {
            "cell_type": "markdown",
            "metadata": {},
            "source": [
                "Yield to maturity using UK convention"
            ]
        },
        {
            "cell_type": "code",
            "execution_count": 10,
            "metadata": {
                "execution": {
                    "iopub.execute_input": "2024-04-30T19:50:30.267130Z",
                    "iopub.status.busy": "2024-04-30T19:50:30.267130Z",
                    "iopub.status.idle": "2024-04-30T19:50:30.272116Z",
                    "shell.execute_reply": "2024-04-30T19:50:30.272116Z"
                }
            },
            "outputs": [
                {
                    "data": {
                        "text/plain": [
                            "2.3499999793942994"
                        ]
                    },
                    "execution_count": 10,
                    "metadata": {},
                    "output_type": "execute_result"
                }
            ],
            "source": [
                "bond.yield_to_maturity(settle_dt, clean_price, YTMCalcType.UK_DMO)*100"
            ]
        },
        {
            "cell_type": "markdown",
            "metadata": {},
            "source": [
                "Yield to maturity using US Street convention"
            ]
        },
        {
            "cell_type": "code",
            "execution_count": 11,
            "metadata": {
                "execution": {
                    "iopub.execute_input": "2024-04-30T19:50:30.274691Z",
                    "iopub.status.busy": "2024-04-30T19:50:30.274691Z",
                    "iopub.status.idle": "2024-04-30T19:50:30.278990Z",
                    "shell.execute_reply": "2024-04-30T19:50:30.278765Z"
                }
            },
            "outputs": [
                {
                    "data": {
                        "text/plain": [
                            "2.3499999793942994"
                        ]
                    },
                    "execution_count": 11,
                    "metadata": {},
                    "output_type": "execute_result"
                }
            ],
            "source": [
                "bond.yield_to_maturity(settle_dt, clean_price, YTMCalcType.US_STREET)*100"
            ]
        },
        {
            "cell_type": "markdown",
            "metadata": {},
            "source": [
                "Yield to maturity using US Treasury convention"
            ]
        },
        {
            "cell_type": "code",
            "execution_count": 12,
            "metadata": {
                "execution": {
                    "iopub.execute_input": "2024-04-30T19:50:30.281016Z",
                    "iopub.status.busy": "2024-04-30T19:50:30.281016Z",
                    "iopub.status.idle": "2024-04-30T19:50:30.285750Z",
                    "shell.execute_reply": "2024-04-30T19:50:30.285514Z"
                }
            },
            "outputs": [
                {
                    "data": {
                        "text/plain": [
                            "2.3496418128944643"
                        ]
                    },
                    "execution_count": 12,
                    "metadata": {},
                    "output_type": "execute_result"
                }
            ],
            "source": [
                "bond.yield_to_maturity(settle_dt, clean_price, YTMCalcType.US_TREASURY)*100"
            ]
        },
        {
            "cell_type": "markdown",
            "metadata": {},
            "source": [
                "## Accrued Interest"
            ]
        },
        {
            "cell_type": "markdown",
            "metadata": {},
            "source": [
                "For consistency let's fix the yield calculation convention to be US Street"
            ]
        },
        {
            "cell_type": "code",
            "execution_count": 13,
            "metadata": {
                "execution": {
                    "iopub.execute_input": "2024-04-30T19:50:30.287778Z",
                    "iopub.status.busy": "2024-04-30T19:50:30.287778Z",
                    "iopub.status.idle": "2024-04-30T19:50:30.290796Z",
                    "shell.execute_reply": "2024-04-30T19:50:30.290565Z"
                }
            },
            "outputs": [],
            "source": [
                "yieldConvention = YTMCalcType.US_STREET"
            ]
        },
        {
            "cell_type": "code",
            "execution_count": 14,
            "metadata": {
                "execution": {
                    "iopub.execute_input": "2024-04-30T19:50:30.292823Z",
                    "iopub.status.busy": "2024-04-30T19:50:30.292823Z",
                    "iopub.status.idle": "2024-04-30T19:50:30.296105Z",
                    "shell.execute_reply": "2024-04-30T19:50:30.296105Z"
                }
            },
            "outputs": [],
            "source": [
                "ytm = bond.yield_to_maturity(settle_dt, clean_price, yieldConvention)"
            ]
        },
        {
            "cell_type": "markdown",
            "metadata": {},
            "source": [
                "Dirty price is the clean price plus accrued interest"
            ]
        },
        {
            "cell_type": "code",
            "execution_count": 15,
            "metadata": {
                "execution": {
                    "iopub.execute_input": "2024-04-30T19:50:30.299130Z",
                    "iopub.status.busy": "2024-04-30T19:50:30.299130Z",
                    "iopub.status.idle": "2024-04-30T19:50:30.302680Z",
                    "shell.execute_reply": "2024-04-30T19:50:30.302444Z"
                }
            },
            "outputs": [
                {
                    "name": "stdout",
                    "output_type": "stream",
                    "text": [
                        "Dirty Price = 102.091564\n"
                    ]
                }
            ],
            "source": [
                "print(\"Dirty Price = %8.6f\" %  bond.dirty_price_from_ytm(settle_dt, ytm, yieldConvention))"
            ]
        },
        {
            "cell_type": "code",
            "execution_count": 16,
            "metadata": {
                "execution": {
                    "iopub.execute_input": "2024-04-30T19:50:30.305242Z",
                    "iopub.status.busy": "2024-04-30T19:50:30.304708Z",
                    "iopub.status.idle": "2024-04-30T19:50:30.308286Z",
                    "shell.execute_reply": "2024-04-30T19:50:30.308057Z"
                }
            },
            "outputs": [
                {
                    "name": "stdout",
                    "output_type": "stream",
                    "text": [
                        "Clean Price = 101.581564\n"
                    ]
                }
            ],
            "source": [
                "print(\"Clean Price = %8.6f\" % bond.clean_price_from_ytm(settle_dt, ytm, yieldConvention))"
            ]
        },
        {
            "cell_type": "markdown",
            "metadata": {},
            "source": [
                "Accrued interest is accrued from previous coupon date to settlement date"
            ]
        },
        {
            "cell_type": "code",
            "execution_count": 17,
            "metadata": {
                "execution": {
                    "iopub.execute_input": "2024-04-30T19:50:30.310285Z",
                    "iopub.status.busy": "2024-04-30T19:50:30.310285Z",
                    "iopub.status.idle": "2024-04-30T19:50:30.313478Z",
                    "shell.execute_reply": "2024-04-30T19:50:30.313478Z"
                }
            },
            "outputs": [
                {
                    "name": "stdout",
                    "output_type": "stream",
                    "text": [
                        "Previous coupon date is  13-MAY-2017\n"
                    ]
                }
            ],
            "source": [
                "print(\"Previous coupon date is \", bond._pcd)"
            ]
        },
        {
            "cell_type": "code",
            "execution_count": 18,
            "metadata": {
                "execution": {
                    "iopub.execute_input": "2024-04-30T19:50:30.316143Z",
                    "iopub.status.busy": "2024-04-30T19:50:30.316143Z",
                    "iopub.status.idle": "2024-04-30T19:50:30.319304Z",
                    "shell.execute_reply": "2024-04-30T19:50:30.319304Z"
                }
            },
            "outputs": [
                {
                    "name": "stdout",
                    "output_type": "stream",
                    "text": [
                        "Settlement date is  21-JUL-2017\n"
                    ]
                }
            ],
            "source": [
                "print(\"Settlement date is \", settle_dt)"
            ]
        },
        {
            "cell_type": "markdown",
            "metadata": {},
            "source": [
                "The amount of accrued interest is "
            ]
        },
        {
            "cell_type": "code",
            "execution_count": 19,
            "metadata": {
                "execution": {
                    "iopub.execute_input": "2024-04-30T19:50:30.321334Z",
                    "iopub.status.busy": "2024-04-30T19:50:30.321334Z",
                    "iopub.status.idle": "2024-04-30T19:50:30.325158Z",
                    "shell.execute_reply": "2024-04-30T19:50:30.324651Z"
                }
            },
            "outputs": [
                {
                    "name": "stdout",
                    "output_type": "stream",
                    "text": [
                        "Accrued =         0.51\n"
                    ]
                }
            ],
            "source": [
                "print(\"Accrued = %12.2f\"% bond.accrued_int)"
            ]
        },
        {
            "cell_type": "markdown",
            "metadata": {},
            "source": [
                "This is based on the following number of days of accrual (for some conventions this is not the actual number of days between last coupon and settlement)"
            ]
        },
        {
            "cell_type": "code",
            "execution_count": 20,
            "metadata": {
                "execution": {
                    "iopub.execute_input": "2024-04-30T19:50:30.327206Z",
                    "iopub.status.busy": "2024-04-30T19:50:30.327206Z",
                    "iopub.status.idle": "2024-04-30T19:50:30.330123Z",
                    "shell.execute_reply": "2024-04-30T19:50:30.330123Z"
                }
            },
            "outputs": [
                {
                    "name": "stdout",
                    "output_type": "stream",
                    "text": [
                        "Accrued Days =  68\n"
                    ]
                }
            ],
            "source": [
                "print(\"Accrued Days = \", bond.accrued_days)"
            ]
        },
        {
            "cell_type": "code",
            "execution_count": 21,
            "metadata": {
                "execution": {
                    "iopub.execute_input": "2024-04-30T19:50:30.332123Z",
                    "iopub.status.busy": "2024-04-30T19:50:30.332123Z",
                    "iopub.status.idle": "2024-04-30T19:50:30.335943Z",
                    "shell.execute_reply": "2024-04-30T19:50:30.335707Z"
                }
            },
            "outputs": [
                {
                    "name": "stdout",
                    "output_type": "stream",
                    "text": [
                        "Principal =   1020915.63\n"
                    ]
                }
            ],
            "source": [
                "print(\"Principal = %12.2f\" % bond.principal(settle_dt, ytm, face, yieldConvention))"
            ]
        },
        {
            "cell_type": "markdown",
            "metadata": {},
            "source": [
                "## Bond Risk Measures"
            ]
        },
        {
            "cell_type": "markdown",
            "metadata": {},
            "source": [
                "The bond dollar duration is the actual derivative with respect to the yield. It is the bond price change for a 1bp drop in the yield-to-maturity divided by 1bp."
            ]
        },
        {
            "cell_type": "code",
            "execution_count": 22,
            "metadata": {
                "execution": {
                    "iopub.execute_input": "2024-04-30T19:50:30.337970Z",
                    "iopub.status.busy": "2024-04-30T19:50:30.337970Z",
                    "iopub.status.idle": "2024-04-30T19:50:30.342017Z",
                    "shell.execute_reply": "2024-04-30T19:50:30.341436Z"
                }
            },
            "outputs": [
                {
                    "name": "stdout",
                    "output_type": "stream",
                    "text": [
                        "Dollar Duration =  456.56933693578594\n"
                    ]
                }
            ],
            "source": [
                "duration = bond.dollar_duration(settle_dt, ytm, yieldConvention)\n",
                "print(\"Dollar Duration = \", duration)"
            ]
        },
        {
            "cell_type": "markdown",
            "metadata": {},
            "source": [
                "Modified Duration divides the dollar duration by the full price of the bond"
            ]
        },
        {
            "cell_type": "code",
            "execution_count": 23,
            "metadata": {
                "execution": {
                    "iopub.execute_input": "2024-04-30T19:50:30.344044Z",
                    "iopub.status.busy": "2024-04-30T19:50:30.344044Z",
                    "iopub.status.idle": "2024-04-30T19:50:30.348787Z",
                    "shell.execute_reply": "2024-04-30T19:50:30.348144Z"
                }
            },
            "outputs": [
                {
                    "name": "stdout",
                    "output_type": "stream",
                    "text": [
                        "Modified Duration =  4.472155377458872\n"
                    ]
                }
            ],
            "source": [
                "modified_duration = bond.modified_duration(settle_dt, ytm, yieldConvention)\n",
                "print(\"Modified Duration = \", modified_duration)"
            ]
        },
        {
            "cell_type": "markdown",
            "metadata": {},
            "source": [
                "Macauley Duration multiplies the dollar duration by (1+y/f) and divides by the full price"
            ]
        },
        {
            "cell_type": "code",
            "execution_count": 24,
            "metadata": {
                "execution": {
                    "iopub.execute_input": "2024-04-30T19:50:30.350784Z",
                    "iopub.status.busy": "2024-04-30T19:50:30.350784Z",
                    "iopub.status.idle": "2024-04-30T19:50:30.353680Z",
                    "shell.execute_reply": "2024-04-30T19:50:30.353680Z"
                }
            },
            "outputs": [
                {
                    "name": "stdout",
                    "output_type": "stream",
                    "text": [
                        "Macauley Duration =  4.524703202683254\n"
                    ]
                }
            ],
            "source": [
                "macauley_duration = bond.macauley_duration(settle_dt, ytm, yieldConvention)\n",
                "print(\"Macauley Duration = \", macauley_duration)"
            ]
        },
        {
            "cell_type": "markdown",
            "metadata": {},
            "source": [
                "Convexity is the second derivative of the bond price with respect to the yield-to-maturity"
            ]
        },
        {
            "cell_type": "code",
            "execution_count": 25,
            "metadata": {
                "execution": {
                    "iopub.execute_input": "2024-04-30T19:50:30.356285Z",
                    "iopub.status.busy": "2024-04-30T19:50:30.356285Z",
                    "iopub.status.idle": "2024-04-30T19:50:30.359495Z",
                    "shell.execute_reply": "2024-04-30T19:50:30.359495Z"
                }
            },
            "outputs": [
                {
                    "name": "stdout",
                    "output_type": "stream",
                    "text": [
                        "Convexity =  0.23024091234084085\n"
                    ]
                }
            ],
            "source": [
                "conv = bond.convexity_from_ytm(settle_dt, ytm, yieldConvention)\n",
                "print(\"Convexity = \", conv)"
            ]
        },
        {
            "cell_type": "markdown",
            "metadata": {},
            "source": [
                "Copyright (c) 2020 Dominic O'Kane"
            ]
        },
        {
            "cell_type": "markdown",
            "metadata": {},
            "source": []
        }
    ],
    "metadata": {
        "kernelspec": {
            "display_name": "Python 3 (ipykernel)",
            "language": "python",
            "name": "python3"
        },
        "language_info": {
            "codemirror_mode": {
                "name": "ipython",
                "version": 3
            },
            "file_extension": ".py",
            "mimetype": "text/x-python",
            "name": "python",
            "nbconvert_exporter": "python",
            "pygments_lexer": "ipython3",
            "version": "3.11.5"
        }
    },
    "nbformat": 4,
    "nbformat_minor": 2
}
