{
 "cells": [
  {
   "cell_type": "markdown",
   "metadata": {},
   "source": [
    "# FIXED COUPON BOND EXAMPLE APPLE CORP"
   ]
  },
  {
   "cell_type": "markdown",
   "metadata": {},
   "source": [
    "This is a  bond analysis based on example in https://data.bloomberglp.com/bat/sites/3/2017/07/SF-2017_Paul-Fjeldsted.pdf"
   ]
  },
  {
   "cell_type": "code",
   "execution_count": 1,
   "metadata": {
    "execution": {
     "iopub.execute_input": "2025-09-14T22:20:18.120113Z",
     "iopub.status.busy": "2025-09-14T22:20:18.119977Z",
     "iopub.status.idle": "2025-09-14T22:20:18.340299Z",
     "shell.execute_reply": "2025-09-14T22:20:18.339876Z"
    }
   },
   "outputs": [],
   "source": [
    "import numpy as np\n",
    "import matplotlib.pyplot as plt"
   ]
  },
  {
   "cell_type": "code",
   "execution_count": 2,
   "metadata": {
    "execution": {
     "iopub.execute_input": "2025-09-14T22:20:18.342282Z",
     "iopub.status.busy": "2025-09-14T22:20:18.342094Z",
     "iopub.status.idle": "2025-09-14T22:20:19.011592Z",
     "shell.execute_reply": "2025-09-14T22:20:19.011193Z"
    }
   },
   "outputs": [],
   "source": [
    "from financepy.utils import *\n",
    "from financepy.products.bonds import *"
   ]
  },
  {
   "cell_type": "markdown",
   "metadata": {},
   "source": [
    "# Define the Bond"
   ]
  },
  {
   "cell_type": "code",
   "execution_count": 3,
   "metadata": {
    "execution": {
     "iopub.execute_input": "2025-09-14T22:20:19.013296Z",
     "iopub.status.busy": "2025-09-14T22:20:19.013089Z",
     "iopub.status.idle": "2025-09-14T22:20:19.027726Z",
     "shell.execute_reply": "2025-09-14T22:20:19.027428Z"
    }
   },
   "outputs": [],
   "source": [
    "issue_dt = Date(13, 5, 2010)\n",
    "maturity_dt = Date(13, 5, 2022)\n",
    "coupon = 0.027\n",
    "freq_type = FrequencyTypes.SEMI_ANNUAL\n",
    "dc_type = DayCountTypes.THIRTY_E_360\n",
    "face = ONE_MILLION"
   ]
  },
  {
   "cell_type": "code",
   "execution_count": 4,
   "metadata": {
    "execution": {
     "iopub.execute_input": "2025-09-14T22:20:19.028967Z",
     "iopub.status.busy": "2025-09-14T22:20:19.028848Z",
     "iopub.status.idle": "2025-09-14T22:20:19.031239Z",
     "shell.execute_reply": "2025-09-14T22:20:19.031003Z"
    }
   },
   "outputs": [],
   "source": [
    "bond = Bond(issue_dt, maturity_dt, coupon, freq_type, dc_type)"
   ]
  },
  {
   "cell_type": "code",
   "execution_count": 5,
   "metadata": {
    "execution": {
     "iopub.execute_input": "2025-09-14T22:20:19.032389Z",
     "iopub.status.busy": "2025-09-14T22:20:19.032264Z",
     "iopub.status.idle": "2025-09-14T22:20:19.034231Z",
     "shell.execute_reply": "2025-09-14T22:20:19.033933Z"
    }
   },
   "outputs": [],
   "source": [
    "clean_price = 101.581564  # if face is 1 then this must be 0.99780842"
   ]
  },
  {
   "cell_type": "markdown",
   "metadata": {},
   "source": [
    "You can get information about the bond using the print method."
   ]
  },
  {
   "cell_type": "code",
   "execution_count": 6,
   "metadata": {
    "execution": {
     "iopub.execute_input": "2025-09-14T22:20:19.035252Z",
     "iopub.status.busy": "2025-09-14T22:20:19.035139Z",
     "iopub.status.idle": "2025-09-14T22:20:19.038127Z",
     "shell.execute_reply": "2025-09-14T22:20:19.037824Z"
    }
   },
   "outputs": [
    {
     "name": "stdout",
     "output_type": "stream",
     "text": [
      "OBJECT TYPE: Bond\n",
      "ISSUE DATE: 13-MAY-2010\n",
      "MATURITY DATE: 13-MAY-2022\n",
      "COUPON (%): 2.7\n",
      "FREQUENCY: FrequencyTypes.SEMI_ANNUAL\n",
      "DAY COUNT TYPE: DayCountTypes.THIRTY_E_360\n",
      "EX_DIV DAYS: 0\n"
     ]
    }
   ],
   "source": [
    "print(bond)"
   ]
  },
  {
   "cell_type": "markdown",
   "metadata": {},
   "source": [
    "## Bond Cash Flows"
   ]
  },
  {
   "cell_type": "markdown",
   "metadata": {},
   "source": [
    "We first need to set the settlement date of the bond. "
   ]
  },
  {
   "cell_type": "code",
   "execution_count": 7,
   "metadata": {
    "execution": {
     "iopub.execute_input": "2025-09-14T22:20:19.039204Z",
     "iopub.status.busy": "2025-09-14T22:20:19.039092Z",
     "iopub.status.idle": "2025-09-14T22:20:19.043147Z",
     "shell.execute_reply": "2025-09-14T22:20:19.041888Z"
    }
   },
   "outputs": [],
   "source": [
    "settle_dt = Date(21, 7, 2017)"
   ]
  },
  {
   "cell_type": "code",
   "execution_count": 8,
   "metadata": {
    "execution": {
     "iopub.execute_input": "2025-09-14T22:20:19.044290Z",
     "iopub.status.busy": "2025-09-14T22:20:19.044152Z",
     "iopub.status.idle": "2025-09-14T22:20:19.046607Z",
     "shell.execute_reply": "2025-09-14T22:20:19.046312Z"
    }
   },
   "outputs": [
    {
     "name": "stdout",
     "output_type": "stream",
     "text": [
      " 13-NOV-2017      1.35000 \n",
      " 13-MAY-2018      1.35000 \n",
      " 13-NOV-2018      1.35000 \n",
      " 13-MAY-2019      1.35000 \n",
      " 13-NOV-2019      1.35000 \n",
      " 13-MAY-2020      1.35000 \n",
      " 13-NOV-2020      1.35000 \n",
      " 13-MAY-2021      1.35000 \n",
      " 13-NOV-2021      1.35000 \n",
      " 13-MAY-2022    101.35000 \n",
      "\n"
     ]
    }
   ],
   "source": [
    "bond.print_payments(settle_dt)"
   ]
  },
  {
   "cell_type": "markdown",
   "metadata": {},
   "source": [
    "The convention is to use these dates for yield calculations even if some fall on weekends."
   ]
  },
  {
   "cell_type": "markdown",
   "metadata": {},
   "source": [
    "## Bond Yield Measures"
   ]
  },
  {
   "cell_type": "markdown",
   "metadata": {},
   "source": [
    "Current yield is the coupon over the price"
   ]
  },
  {
   "cell_type": "code",
   "execution_count": 9,
   "metadata": {
    "execution": {
     "iopub.execute_input": "2025-09-14T22:20:19.047646Z",
     "iopub.status.busy": "2025-09-14T22:20:19.047535Z",
     "iopub.status.idle": "2025-09-14T22:20:19.050954Z",
     "shell.execute_reply": "2025-09-14T22:20:19.050613Z"
    }
   },
   "outputs": [
    {
     "data": {
      "text/plain": [
       "2.657962620067555"
      ]
     },
     "execution_count": 9,
     "metadata": {},
     "output_type": "execute_result"
    }
   ],
   "source": [
    "bond.current_yield(clean_price)*100.0"
   ]
  },
  {
   "cell_type": "markdown",
   "metadata": {},
   "source": [
    "Yield to maturity using UK convention"
   ]
  },
  {
   "cell_type": "code",
   "execution_count": 10,
   "metadata": {
    "execution": {
     "iopub.execute_input": "2025-09-14T22:20:19.051912Z",
     "iopub.status.busy": "2025-09-14T22:20:19.051796Z",
     "iopub.status.idle": "2025-09-14T22:20:19.054707Z",
     "shell.execute_reply": "2025-09-14T22:20:19.054542Z"
    }
   },
   "outputs": [
    {
     "data": {
      "text/plain": [
       "2.3499999794774293"
      ]
     },
     "execution_count": 10,
     "metadata": {},
     "output_type": "execute_result"
    }
   ],
   "source": [
    "bond.yield_to_maturity(settle_dt, clean_price, YTMCalcType.UK_DMO)*100"
   ]
  },
  {
   "cell_type": "markdown",
   "metadata": {},
   "source": [
    "Yield to maturity using US Street convention"
   ]
  },
  {
   "cell_type": "code",
   "execution_count": 11,
   "metadata": {
    "execution": {
     "iopub.execute_input": "2025-09-14T22:20:19.056081Z",
     "iopub.status.busy": "2025-09-14T22:20:19.055794Z",
     "iopub.status.idle": "2025-09-14T22:20:19.059913Z",
     "shell.execute_reply": "2025-09-14T22:20:19.059254Z"
    }
   },
   "outputs": [
    {
     "data": {
      "text/plain": [
       "2.3499999794774293"
      ]
     },
     "execution_count": 11,
     "metadata": {},
     "output_type": "execute_result"
    }
   ],
   "source": [
    "bond.yield_to_maturity(settle_dt, clean_price, YTMCalcType.US_STREET)*100"
   ]
  },
  {
   "cell_type": "markdown",
   "metadata": {},
   "source": [
    "Yield to maturity using US Treasury convention"
   ]
  },
  {
   "cell_type": "code",
   "execution_count": 12,
   "metadata": {
    "execution": {
     "iopub.execute_input": "2025-09-14T22:20:19.061015Z",
     "iopub.status.busy": "2025-09-14T22:20:19.060906Z",
     "iopub.status.idle": "2025-09-14T22:20:19.064039Z",
     "shell.execute_reply": "2025-09-14T22:20:19.063754Z"
    }
   },
   "outputs": [
    {
     "data": {
      "text/plain": [
       "2.3496418129692254"
      ]
     },
     "execution_count": 12,
     "metadata": {},
     "output_type": "execute_result"
    }
   ],
   "source": [
    "bond.yield_to_maturity(settle_dt, clean_price, YTMCalcType.US_TREASURY)*100"
   ]
  },
  {
   "cell_type": "markdown",
   "metadata": {},
   "source": [
    "## Accrued Interest"
   ]
  },
  {
   "cell_type": "markdown",
   "metadata": {},
   "source": [
    "For consistency let's fix the yield calculation convention to be US Street"
   ]
  },
  {
   "cell_type": "code",
   "execution_count": 13,
   "metadata": {
    "execution": {
     "iopub.execute_input": "2025-09-14T22:20:19.066099Z",
     "iopub.status.busy": "2025-09-14T22:20:19.065691Z",
     "iopub.status.idle": "2025-09-14T22:20:19.068049Z",
     "shell.execute_reply": "2025-09-14T22:20:19.067756Z"
    }
   },
   "outputs": [],
   "source": [
    "yieldConvention = YTMCalcType.US_STREET"
   ]
  },
  {
   "cell_type": "code",
   "execution_count": 14,
   "metadata": {
    "execution": {
     "iopub.execute_input": "2025-09-14T22:20:19.069524Z",
     "iopub.status.busy": "2025-09-14T22:20:19.069419Z",
     "iopub.status.idle": "2025-09-14T22:20:19.071441Z",
     "shell.execute_reply": "2025-09-14T22:20:19.071174Z"
    }
   },
   "outputs": [],
   "source": [
    "ytm = bond.yield_to_maturity(settle_dt, clean_price, yieldConvention)"
   ]
  },
  {
   "cell_type": "markdown",
   "metadata": {},
   "source": [
    "Dirty price is the clean price plus accrued interest"
   ]
  },
  {
   "cell_type": "code",
   "execution_count": 15,
   "metadata": {
    "execution": {
     "iopub.execute_input": "2025-09-14T22:20:19.072346Z",
     "iopub.status.busy": "2025-09-14T22:20:19.072238Z",
     "iopub.status.idle": "2025-09-14T22:20:19.074362Z",
     "shell.execute_reply": "2025-09-14T22:20:19.074120Z"
    }
   },
   "outputs": [
    {
     "name": "stdout",
     "output_type": "stream",
     "text": [
      "Dirty Price = 102.091564\n"
     ]
    }
   ],
   "source": [
    "print(\"Dirty Price = %8.6f\" %  bond.dirty_price_from_ytm(settle_dt, ytm, yieldConvention))"
   ]
  },
  {
   "cell_type": "code",
   "execution_count": 16,
   "metadata": {
    "execution": {
     "iopub.execute_input": "2025-09-14T22:20:19.075433Z",
     "iopub.status.busy": "2025-09-14T22:20:19.075236Z",
     "iopub.status.idle": "2025-09-14T22:20:19.077778Z",
     "shell.execute_reply": "2025-09-14T22:20:19.077500Z"
    }
   },
   "outputs": [
    {
     "name": "stdout",
     "output_type": "stream",
     "text": [
      "Clean Price = 101.581564\n"
     ]
    }
   ],
   "source": [
    "print(\"Clean Price = %8.6f\" % bond.clean_price_from_ytm(settle_dt, ytm, yieldConvention))"
   ]
  },
  {
   "cell_type": "markdown",
   "metadata": {},
   "source": [
    "Accrued interest is accrued from previous coupon date to settlement date"
   ]
  },
  {
   "cell_type": "code",
   "execution_count": 17,
   "metadata": {
    "execution": {
     "iopub.execute_input": "2025-09-14T22:20:19.078733Z",
     "iopub.status.busy": "2025-09-14T22:20:19.078624Z",
     "iopub.status.idle": "2025-09-14T22:20:19.080680Z",
     "shell.execute_reply": "2025-09-14T22:20:19.080431Z"
    }
   },
   "outputs": [
    {
     "name": "stdout",
     "output_type": "stream",
     "text": [
      "Previous coupon date is  13-MAY-2017\n"
     ]
    }
   ],
   "source": [
    "print(\"Previous coupon date is \", bond._pcd)"
   ]
  },
  {
   "cell_type": "code",
   "execution_count": 18,
   "metadata": {
    "execution": {
     "iopub.execute_input": "2025-09-14T22:20:19.081592Z",
     "iopub.status.busy": "2025-09-14T22:20:19.081474Z",
     "iopub.status.idle": "2025-09-14T22:20:19.083525Z",
     "shell.execute_reply": "2025-09-14T22:20:19.083271Z"
    }
   },
   "outputs": [
    {
     "name": "stdout",
     "output_type": "stream",
     "text": [
      "Settlement date is  21-JUL-2017\n"
     ]
    }
   ],
   "source": [
    "print(\"Settlement date is \", settle_dt)"
   ]
  },
  {
   "cell_type": "markdown",
   "metadata": {},
   "source": [
    "The amount of accrued interest is "
   ]
  },
  {
   "cell_type": "code",
   "execution_count": 19,
   "metadata": {
    "execution": {
     "iopub.execute_input": "2025-09-14T22:20:19.084961Z",
     "iopub.status.busy": "2025-09-14T22:20:19.084668Z",
     "iopub.status.idle": "2025-09-14T22:20:19.086824Z",
     "shell.execute_reply": "2025-09-14T22:20:19.086581Z"
    }
   },
   "outputs": [
    {
     "name": "stdout",
     "output_type": "stream",
     "text": [
      "Accrued =         0.51\n"
     ]
    }
   ],
   "source": [
    "print(\"Accrued = %12.2f\"% bond.accrued_int)"
   ]
  },
  {
   "cell_type": "markdown",
   "metadata": {},
   "source": [
    "This is based on the following number of days of accrual (for some conventions this is not the actual number of days between last coupon and settlement)"
   ]
  },
  {
   "cell_type": "code",
   "execution_count": 20,
   "metadata": {
    "execution": {
     "iopub.execute_input": "2025-09-14T22:20:19.087737Z",
     "iopub.status.busy": "2025-09-14T22:20:19.087631Z",
     "iopub.status.idle": "2025-09-14T22:20:19.089724Z",
     "shell.execute_reply": "2025-09-14T22:20:19.089484Z"
    }
   },
   "outputs": [
    {
     "name": "stdout",
     "output_type": "stream",
     "text": [
      "Accrued Days =  68\n"
     ]
    }
   ],
   "source": [
    "print(\"Accrued Days = \", bond.accrued_days)"
   ]
  },
  {
   "cell_type": "code",
   "execution_count": 21,
   "metadata": {
    "execution": {
     "iopub.execute_input": "2025-09-14T22:20:19.090611Z",
     "iopub.status.busy": "2025-09-14T22:20:19.090500Z",
     "iopub.status.idle": "2025-09-14T22:20:19.092824Z",
     "shell.execute_reply": "2025-09-14T22:20:19.092503Z"
    }
   },
   "outputs": [
    {
     "name": "stdout",
     "output_type": "stream",
     "text": [
      "Principal =   1020915.63\n"
     ]
    }
   ],
   "source": [
    "print(\"Principal = %12.2f\" % bond.principal(settle_dt, ytm, face, yieldConvention))"
   ]
  },
  {
   "cell_type": "markdown",
   "metadata": {},
   "source": [
    "## Bond Risk Measures"
   ]
  },
  {
   "cell_type": "markdown",
   "metadata": {},
   "source": [
    "The bond dollar duration is the actual derivative with respect to the yield. It is the bond price change for a 1bp drop in the yield-to-maturity divided by 1bp."
   ]
  },
  {
   "cell_type": "code",
   "execution_count": 22,
   "metadata": {
    "execution": {
     "iopub.execute_input": "2025-09-14T22:20:19.093784Z",
     "iopub.status.busy": "2025-09-14T22:20:19.093665Z",
     "iopub.status.idle": "2025-09-14T22:20:19.096094Z",
     "shell.execute_reply": "2025-09-14T22:20:19.095855Z"
    }
   },
   "outputs": [
    {
     "name": "stdout",
     "output_type": "stream",
     "text": [
      "Dollar Duration =  456.56933693372537\n"
     ]
    }
   ],
   "source": [
    "duration = bond.dollar_duration(settle_dt, ytm, yieldConvention)\n",
    "print(\"Dollar Duration = \", duration)"
   ]
  },
  {
   "cell_type": "markdown",
   "metadata": {},
   "source": [
    "Modified Duration divides the dollar duration by the full price of the bond"
   ]
  },
  {
   "cell_type": "code",
   "execution_count": 23,
   "metadata": {
    "execution": {
     "iopub.execute_input": "2025-09-14T22:20:19.096971Z",
     "iopub.status.busy": "2025-09-14T22:20:19.096854Z",
     "iopub.status.idle": "2025-09-14T22:20:19.099306Z",
     "shell.execute_reply": "2025-09-14T22:20:19.099009Z"
    }
   },
   "outputs": [
    {
     "name": "stdout",
     "output_type": "stream",
     "text": [
      "Modified Duration =  4.4721553774553175\n"
     ]
    }
   ],
   "source": [
    "modified_duration = bond.modified_duration(settle_dt, ytm, yieldConvention)\n",
    "print(\"Modified Duration = \", modified_duration)"
   ]
  },
  {
   "cell_type": "markdown",
   "metadata": {},
   "source": [
    "Macauley Duration multiplies the dollar duration by (1+y/f) and divides by the full price"
   ]
  },
  {
   "cell_type": "code",
   "execution_count": 24,
   "metadata": {
    "execution": {
     "iopub.execute_input": "2025-09-14T22:20:19.101592Z",
     "iopub.status.busy": "2025-09-14T22:20:19.101210Z",
     "iopub.status.idle": "2025-09-14T22:20:19.104332Z",
     "shell.execute_reply": "2025-09-14T22:20:19.103998Z"
    }
   },
   "outputs": [
    {
     "name": "stdout",
     "output_type": "stream",
     "text": [
      "Macauley Duration =  4.5247032026815175\n"
     ]
    }
   ],
   "source": [
    "macauley_duration = bond.macauley_duration(settle_dt, ytm, yieldConvention)\n",
    "print(\"Macauley Duration = \", macauley_duration)"
   ]
  },
  {
   "cell_type": "markdown",
   "metadata": {},
   "source": [
    "Convexity is the second derivative of the bond price with respect to the yield-to-maturity"
   ]
  },
  {
   "cell_type": "code",
   "execution_count": 25,
   "metadata": {
    "execution": {
     "iopub.execute_input": "2025-09-14T22:20:19.105397Z",
     "iopub.status.busy": "2025-09-14T22:20:19.105279Z",
     "iopub.status.idle": "2025-09-14T22:20:19.107602Z",
     "shell.execute_reply": "2025-09-14T22:20:19.107300Z"
    }
   },
   "outputs": [
    {
     "name": "stdout",
     "output_type": "stream",
     "text": [
      "Convexity =  0.23024091345527423\n"
     ]
    }
   ],
   "source": [
    "conv = bond.convexity_from_ytm(settle_dt, ytm, yieldConvention)\n",
    "print(\"Convexity = \", conv)"
   ]
  },
  {
   "cell_type": "markdown",
   "metadata": {},
   "source": [
    "Copyright (c) 2020 Dominic O'Kane"
   ]
  },
  {
   "cell_type": "markdown",
   "metadata": {},
   "source": []
  }
 ],
 "metadata": {
  "kernelspec": {
   "display_name": "base",
   "language": "python",
   "name": "python3"
  },
  "language_info": {
   "codemirror_mode": {
    "name": "ipython",
    "version": 3
   },
   "file_extension": ".py",
   "mimetype": "text/x-python",
   "name": "python",
   "nbconvert_exporter": "python",
   "pygments_lexer": "ipython3",
   "version": "3.13.7"
  }
 },
 "nbformat": 4,
 "nbformat_minor": 2
}
