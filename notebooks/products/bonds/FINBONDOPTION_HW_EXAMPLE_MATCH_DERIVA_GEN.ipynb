{
    "cells": [
        {
            "cell_type": "markdown",
            "metadata": {},
            "source": [
                "# Bond Option Comparison with DerivaGem Function 17"
            ]
        },
        {
            "cell_type": "markdown",
            "metadata": {},
            "source": [
                "Value an option on a coupon paying bond using the Hull-White in response to a question."
            ]
        },
        {
            "cell_type": "code",
            "execution_count": 1,
            "metadata": {
                "execution": {
                    "iopub.execute_input": "2024-04-30T19:43:44.853154Z",
                    "iopub.status.busy": "2024-04-30T19:43:44.853154Z",
                    "iopub.status.idle": "2024-04-30T19:43:45.512510Z",
                    "shell.execute_reply": "2024-04-30T19:43:45.512510Z"
                }
            },
            "outputs": [],
            "source": [
                "import numpy as np\n",
                "import matplotlib.pyplot as plt\n",
                "import time"
            ]
        },
        {
            "cell_type": "code",
            "execution_count": 2,
            "metadata": {
                "execution": {
                    "iopub.execute_input": "2024-04-30T19:43:45.515540Z",
                    "iopub.status.busy": "2024-04-30T19:43:45.515540Z",
                    "iopub.status.idle": "2024-04-30T19:43:46.781785Z",
                    "shell.execute_reply": "2024-04-30T19:43:46.781785Z"
                }
            },
            "outputs": [
                {
                    "name": "stdout",
                    "output_type": "stream",
                    "text": [
                        "####################################################################\n",
                        "#  FINANCEPY BETA Version 0.350 - This build: 30 Apr 2024 at 21:20 #\n",
                        "#     This software is distributed FREE AND WITHOUT ANY WARRANTY   #\n",
                        "#  Report bugs as issues at https://github.com/domokane/FinancePy  #\n",
                        "####################################################################\n",
                        "\n"
                    ]
                }
            ],
            "source": [
                "from financepy.utils import *\n",
                "from financepy.market.curves import *\n",
                "from financepy.models.hw_tree import HWTree\n",
                "from financepy.products.bonds import *"
            ]
        },
        {
            "cell_type": "markdown",
            "metadata": {},
            "source": [
                "## Set up the Discount Curve"
            ]
        },
        {
            "cell_type": "code",
            "execution_count": 3,
            "metadata": {
                "execution": {
                    "iopub.execute_input": "2024-04-30T19:43:46.785383Z",
                    "iopub.status.busy": "2024-04-30T19:43:46.784354Z",
                    "iopub.status.idle": "2024-04-30T19:43:46.805844Z",
                    "shell.execute_reply": "2024-04-30T19:43:46.805844Z"
                }
            },
            "outputs": [],
            "source": [
                "settle_dt = Date(1, 12, 2019)"
            ]
        },
        {
            "cell_type": "markdown",
            "metadata": {},
            "source": [
                "Set up discount curve"
            ]
        },
        {
            "cell_type": "code",
            "execution_count": 4,
            "metadata": {
                "execution": {
                    "iopub.execute_input": "2024-04-30T19:43:46.808874Z",
                    "iopub.status.busy": "2024-04-30T19:43:46.808874Z",
                    "iopub.status.idle": "2024-04-30T19:43:46.817638Z",
                    "shell.execute_reply": "2024-04-30T19:43:46.817638Z"
                }
            },
            "outputs": [],
            "source": [
                "rate = 0.05\n",
                "dc_type = DayCountTypes.THIRTY_360_BOND\n",
                "fixed_freq = FrequencyTypes.SEMI_ANNUAL\n",
                "discount_curve = DiscountCurveFlat(settle_dt, rate, fixed_freq, dc_type)"
            ]
        },
        {
            "cell_type": "code",
            "execution_count": 5,
            "metadata": {
                "execution": {
                    "iopub.execute_input": "2024-04-30T19:43:46.820636Z",
                    "iopub.status.busy": "2024-04-30T19:43:46.820636Z",
                    "iopub.status.idle": "2024-04-30T19:43:46.823520Z",
                    "shell.execute_reply": "2024-04-30T19:43:46.823520Z"
                }
            },
            "outputs": [],
            "source": [
                "df_times = discount_curve._times\n",
                "df_values = discount_curve._dfs"
            ]
        },
        {
            "cell_type": "code",
            "execution_count": 6,
            "metadata": {
                "execution": {
                    "iopub.execute_input": "2024-04-30T19:43:46.826994Z",
                    "iopub.status.busy": "2024-04-30T19:43:46.825524Z",
                    "iopub.status.idle": "2024-04-30T19:43:46.833944Z",
                    "shell.execute_reply": "2024-04-30T19:43:46.833944Z"
                }
            },
            "outputs": [
                {
                    "data": {
                        "text/plain": [
                            "array([1.        , 0.9877296 , 0.97560976, 0.96363863, 0.9518144 ,\n",
                            "       0.94013525, 0.92859941, 0.91720512, 0.90595064, 0.89483426,\n",
                            "       0.88385429, 0.87300904, 0.86229687, 0.85171614, 0.84126524,\n",
                            "       0.83094257, 0.82074657, 0.81067568, 0.80072836, 0.7909031 ,\n",
                            "       0.7811984 , 0.77161278, 0.76214478, 0.75279296, 0.74355589,\n",
                            "       0.73443215, 0.72542038, 0.71651918, 0.7077272 , 0.6990431 ,\n",
                            "       0.69046556, 0.68199327, 0.67362493, 0.66535928, 0.65719506,\n",
                            "       0.64913101, 0.64116591, 0.63329855, 0.62552772, 0.61785224,\n",
                            "       0.61027094])"
                        ]
                    },
                    "execution_count": 6,
                    "metadata": {},
                    "output_type": "execute_result"
                }
            ],
            "source": [
                "df_values"
            ]
        },
        {
            "cell_type": "markdown",
            "metadata": {},
            "source": [
                "## Set up the Bond Option"
            ]
        },
        {
            "cell_type": "markdown",
            "metadata": {},
            "source": [
                "First create the bond"
            ]
        },
        {
            "cell_type": "code",
            "execution_count": 7,
            "metadata": {
                "execution": {
                    "iopub.execute_input": "2024-04-30T19:43:46.837551Z",
                    "iopub.status.busy": "2024-04-30T19:43:46.837551Z",
                    "iopub.status.idle": "2024-04-30T19:43:46.843965Z",
                    "shell.execute_reply": "2024-04-30T19:43:46.843965Z"
                }
            },
            "outputs": [],
            "source": [
                "issue_dt = Date(1,12,2018)\n",
                "maturity_dt = issue_dt.add_tenor(\"10Y\")\n",
                "coupon = 0.05\n",
                "frequencyType = FrequencyTypes.SEMI_ANNUAL\n",
                "dc_type = DayCountTypes.THIRTY_360_BOND\n",
                "bond = Bond(issue_dt, maturity_dt, coupon, frequencyType, dc_type)"
            ]
        },
        {
            "cell_type": "markdown",
            "metadata": {},
            "source": [
                "Let's first price the bond on the libor curve"
            ]
        },
        {
            "cell_type": "code",
            "execution_count": 8,
            "metadata": {
                "execution": {
                    "iopub.execute_input": "2024-04-30T19:43:46.847611Z",
                    "iopub.status.busy": "2024-04-30T19:43:46.847611Z",
                    "iopub.status.idle": "2024-04-30T19:43:46.854620Z",
                    "shell.execute_reply": "2024-04-30T19:43:46.853607Z"
                }
            },
            "outputs": [
                {
                    "name": "stdout",
                    "output_type": "stream",
                    "text": [
                        "Fixed Income Clean Price:   100.000\n",
                        "Fixed Income Dirty Price:   100.000\n"
                    ]
                }
            ],
            "source": [
                "cp = bond.clean_price_from_discount_curve(settle_dt, discount_curve)\n",
                "dp = bond.dirty_price_from_discount_curve(settle_dt, discount_curve)\n",
                "print(\"Fixed Income Clean Price: %9.3f\"% cp)\n",
                "print(\"Fixed Income Dirty Price: %9.3f\"% dp)"
            ]
        },
        {
            "cell_type": "code",
            "execution_count": 9,
            "metadata": {
                "execution": {
                    "iopub.execute_input": "2024-04-30T19:43:46.858221Z",
                    "iopub.status.busy": "2024-04-30T19:43:46.858221Z",
                    "iopub.status.idle": "2024-04-30T19:43:46.863368Z",
                    "shell.execute_reply": "2024-04-30T19:43:46.863368Z"
                }
            },
            "outputs": [
                {
                    "data": {
                        "text/plain": [
                            "01-DEC-2019"
                        ]
                    },
                    "execution_count": 9,
                    "metadata": {},
                    "output_type": "execute_result"
                }
            ],
            "source": [
                "settle_dt"
            ]
        },
        {
            "cell_type": "code",
            "execution_count": 10,
            "metadata": {
                "execution": {
                    "iopub.execute_input": "2024-04-30T19:43:46.868065Z",
                    "iopub.status.busy": "2024-04-30T19:43:46.867009Z",
                    "iopub.status.idle": "2024-04-30T19:43:46.871351Z",
                    "shell.execute_reply": "2024-04-30T19:43:46.871351Z"
                }
            },
            "outputs": [
                {
                    "name": "stdout",
                    "output_type": "stream",
                    "text": [
                        " 01-JUN-2020      2.50000 \n",
                        " 01-DEC-2020      2.50000 \n",
                        " 01-JUN-2021      2.50000 \n",
                        " 01-DEC-2021      2.50000 \n",
                        " 01-JUN-2022      2.50000 \n",
                        " 01-DEC-2022      2.50000 \n",
                        " 01-JUN-2023      2.50000 \n",
                        " 01-DEC-2023      2.50000 \n",
                        " 01-JUN-2024      2.50000 \n",
                        " 01-DEC-2024      2.50000 \n",
                        " 01-JUN-2025      2.50000 \n",
                        " 01-DEC-2025      2.50000 \n",
                        " 01-JUN-2026      2.50000 \n",
                        " 01-DEC-2026      2.50000 \n",
                        " 01-JUN-2027      2.50000 \n",
                        " 01-DEC-2027      2.50000 \n",
                        " 01-JUN-2028      2.50000 \n",
                        " 01-DEC-2028    102.50000 \n",
                        "\n"
                    ]
                }
            ],
            "source": [
                "bond.print_payments(settle_dt)"
            ]
        },
        {
            "cell_type": "markdown",
            "metadata": {},
            "source": [
                "Then define and create the option"
            ]
        },
        {
            "cell_type": "code",
            "execution_count": 11,
            "metadata": {
                "execution": {
                    "iopub.execute_input": "2024-04-30T19:43:46.875356Z",
                    "iopub.status.busy": "2024-04-30T19:43:46.875356Z",
                    "iopub.status.idle": "2024-04-30T19:43:46.879108Z",
                    "shell.execute_reply": "2024-04-30T19:43:46.879108Z"
                }
            },
            "outputs": [],
            "source": [
                "expiry_dt = settle_dt.add_tenor(\"18m\")\n",
                "strike_price = 100.0\n",
                "face_amount = 100.0"
            ]
        },
        {
            "cell_type": "code",
            "execution_count": 12,
            "metadata": {
                "execution": {
                    "iopub.execute_input": "2024-04-30T19:43:46.884103Z",
                    "iopub.status.busy": "2024-04-30T19:43:46.883107Z",
                    "iopub.status.idle": "2024-04-30T19:43:46.887785Z",
                    "shell.execute_reply": "2024-04-30T19:43:46.887673Z"
                }
            },
            "outputs": [],
            "source": [
                "europeanCallBondOption = BondOption(bond, expiry_dt, strike_price, OptionTypes.EUROPEAN_CALL)\n",
                "americanCallBondOption = BondOption(bond, expiry_dt, strike_price, OptionTypes.AMERICAN_CALL)"
            ]
        },
        {
            "cell_type": "code",
            "execution_count": 13,
            "metadata": {
                "execution": {
                    "iopub.execute_input": "2024-04-30T19:43:46.891776Z",
                    "iopub.status.busy": "2024-04-30T19:43:46.891776Z",
                    "iopub.status.idle": "2024-04-30T19:43:46.896792Z",
                    "shell.execute_reply": "2024-04-30T19:43:46.895750Z"
                }
            },
            "outputs": [],
            "source": [
                "europeanPutBondOption = BondOption(bond, expiry_dt, strike_price, OptionTypes.EUROPEAN_PUT)\n",
                "americanPutBondOption = BondOption(bond, expiry_dt, strike_price, OptionTypes.AMERICAN_PUT)"
            ]
        },
        {
            "cell_type": "markdown",
            "metadata": {},
            "source": [
                "Consider the forward bond price."
            ]
        },
        {
            "cell_type": "code",
            "execution_count": 14,
            "metadata": {
                "execution": {
                    "iopub.execute_input": "2024-04-30T19:43:46.900364Z",
                    "iopub.status.busy": "2024-04-30T19:43:46.899362Z",
                    "iopub.status.idle": "2024-04-30T19:43:46.906131Z",
                    "shell.execute_reply": "2024-04-30T19:43:46.906131Z"
                }
            },
            "outputs": [
                {
                    "name": "stdout",
                    "output_type": "stream",
                    "text": [
                        "Fixed Income Clean Price:   100.000\n",
                        "Fixed Income Dirty Price:   100.000\n"
                    ]
                }
            ],
            "source": [
                "cp = bond.clean_price_from_discount_curve(expiry_dt, discount_curve)\n",
                "dp = bond.dirty_price_from_discount_curve(expiry_dt, discount_curve)\n",
                "print(\"Fixed Income Clean Price: %9.3f\"% cp)\n",
                "print(\"Fixed Income Dirty Price: %9.3f\"% dp)"
            ]
        },
        {
            "cell_type": "markdown",
            "metadata": {},
            "source": [
                "Set the model parameters, start with zero vol."
            ]
        },
        {
            "cell_type": "code",
            "execution_count": 15,
            "metadata": {
                "execution": {
                    "iopub.execute_input": "2024-04-30T19:43:46.910648Z",
                    "iopub.status.busy": "2024-04-30T19:43:46.910648Z",
                    "iopub.status.idle": "2024-04-30T19:43:46.914383Z",
                    "shell.execute_reply": "2024-04-30T19:43:46.914383Z"
                }
            },
            "outputs": [],
            "source": [
                "num_steps = 500"
            ]
        },
        {
            "cell_type": "code",
            "execution_count": 16,
            "metadata": {
                "execution": {
                    "iopub.execute_input": "2024-04-30T19:43:46.918382Z",
                    "iopub.status.busy": "2024-04-30T19:43:46.918382Z",
                    "iopub.status.idle": "2024-04-30T19:43:46.922571Z",
                    "shell.execute_reply": "2024-04-30T19:43:46.922571Z"
                }
            },
            "outputs": [],
            "source": [
                "sigma = 0.0125\n",
                "a = 0.1\n",
                "modelHW = HWTree(sigma, a, num_steps)"
            ]
        },
        {
            "cell_type": "code",
            "execution_count": 17,
            "metadata": {
                "execution": {
                    "iopub.execute_input": "2024-04-30T19:43:46.926573Z",
                    "iopub.status.busy": "2024-04-30T19:43:46.926573Z",
                    "iopub.status.idle": "2024-04-30T19:43:46.980767Z",
                    "shell.execute_reply": "2024-04-30T19:43:46.980767Z"
                }
            },
            "outputs": [
                {
                    "name": "stdout",
                    "output_type": "stream",
                    "text": [
                        "European Call Value:   2.39763\n",
                        "American Call Value:   2.66598\n"
                    ]
                }
            ],
            "source": [
                "ec = europeanCallBondOption.value(settle_dt, discount_curve, modelHW)\n",
                "ac = americanCallBondOption.value(settle_dt, discount_curve, modelHW)\n",
                "print(\"European Call Value: %9.5f\" % ec)\n",
                "print(\"American Call Value: %9.5f\" % ac)"
            ]
        },
        {
            "cell_type": "code",
            "execution_count": 18,
            "metadata": {
                "execution": {
                    "iopub.execute_input": "2024-04-30T19:43:46.984164Z",
                    "iopub.status.busy": "2024-04-30T19:43:46.984164Z",
                    "iopub.status.idle": "2024-04-30T19:43:46.997308Z",
                    "shell.execute_reply": "2024-04-30T19:43:46.997308Z"
                }
            },
            "outputs": [
                {
                    "name": "stdout",
                    "output_type": "stream",
                    "text": [
                        "European Put Value:   2.42253\n",
                        "American Put Value:   2.68292\n"
                    ]
                }
            ],
            "source": [
                "ec = europeanPutBondOption.value(settle_dt, discount_curve, modelHW)\n",
                "ac = americanPutBondOption.value(settle_dt, discount_curve, modelHW)\n",
                "print(\"European Put Value: %9.5f\" % ec)\n",
                "print(\"American Put Value: %9.5f\" % ac)"
            ]
        },
        {
            "cell_type": "markdown",
            "metadata": {},
            "source": [
                "# COMPARISON"
            ]
        },
        {
            "cell_type": "code",
            "execution_count": 19,
            "metadata": {
                "execution": {
                    "iopub.execute_input": "2024-04-30T19:43:47.001343Z",
                    "iopub.status.busy": "2024-04-30T19:43:47.000312Z",
                    "iopub.status.idle": "2024-04-30T19:43:47.027696Z",
                    "shell.execute_reply": "2024-04-30T19:43:47.027696Z"
                }
            },
            "outputs": [],
            "source": [
                "if 1==1:\n",
                "    \n",
                "    settle_dt = Date(1, 12, 2019)\n",
                "    issue_dt = Date(1, 12, 2018)\n",
                "    expiry_dt = settle_dt.add_tenor(\"18m\")\n",
                "    maturity_dt = settle_dt.add_tenor(\"10Y\")\n",
                "    coupon = 0.05\n",
                "    freq_type = FrequencyTypes.SEMI_ANNUAL\n",
                "    accrual_type = DayCountTypes.THIRTY_360_BOND\n",
                "    bond = Bond(issue_dt, maturity_dt, coupon, freq_type,  accrual_type)\n",
                "\n",
                "    couponTimes = []\n",
                "    couponFlows = []\n",
                "    cpn = bond.cpn/bond.freq\n",
                "\n",
                "    numFlows = len(bond.cpn_dts)\n",
                "    for i in range(0, numFlows):\n",
                "\n",
                "        pcd = bond.cpn_dts[i-1]\n",
                "        ncd = bond.cpn_dts[i]\n",
                "\n",
                "        if ncd > settle_dt:\n",
                "            \n",
                "            if len(couponTimes) == 0:\n",
                "                flowTime = (pcd - settle_dt) / g_days_in_year\n",
                "                couponTimes.append(flowTime)\n",
                "                couponFlows.append(cpn)\n",
                "                \n",
                "            flowTime = (ncd - settle_dt) / g_days_in_year\n",
                "            couponTimes.append(flowTime)\n",
                "            couponFlows.append(cpn)\n",
                "\n",
                "    couponTimes = np.array(couponTimes)\n",
                "    couponFlows = np.array(couponFlows)\n",
                "\n",
                "    strikePrice = 100.0\n",
                "    face = 100.0\n",
                "\n",
                "    model = HWTree(sigma, a, None)\n",
                "\n",
                "    #  Test convergence\n",
                "    t_exp = (expiry_dt - settle_dt)/g_days_in_year\n",
                "    t_mat = (maturity_dt - settle_dt)/g_days_in_year\n",
                "\n",
                "    # Jamshidian approach\n",
                "    v_jam = model.european_bond_option_jamshidian(t_exp, strikePrice, face,\n",
                "                                              couponTimes, couponFlows,\n",
                "                                              df_times, df_values)\n",
                "\n",
                "    model.num_time_steps = 200\n",
                "    model.build_tree(t_mat, df_times, df_values)\n",
                "    exerciseType = FinExerciseTypes.EUROPEAN\n",
                "    vHW = model.bond_option(t_exp, strikePrice, face,\n",
                "                            couponTimes, couponFlows, exerciseType)\n"
            ]
        },
        {
            "cell_type": "code",
            "execution_count": 20,
            "metadata": {
                "execution": {
                    "iopub.execute_input": "2024-04-30T19:43:47.030692Z",
                    "iopub.status.busy": "2024-04-30T19:43:47.030692Z",
                    "iopub.status.idle": "2024-04-30T19:43:47.035533Z",
                    "shell.execute_reply": "2024-04-30T19:43:47.034772Z"
                }
            },
            "outputs": [
                {
                    "data": {
                        "text/plain": [
                            "{'call': 2.5571679355702437, 'put': 2.582591550479881}"
                        ]
                    },
                    "execution_count": 20,
                    "metadata": {},
                    "output_type": "execute_result"
                }
            ],
            "source": [
                "v_jam"
            ]
        },
        {
            "cell_type": "code",
            "execution_count": 21,
            "metadata": {
                "execution": {
                    "iopub.execute_input": "2024-04-30T19:43:47.037530Z",
                    "iopub.status.busy": "2024-04-30T19:43:47.037530Z",
                    "iopub.status.idle": "2024-04-30T19:43:47.041399Z",
                    "shell.execute_reply": "2024-04-30T19:43:47.041399Z"
                }
            },
            "outputs": [
                {
                    "data": {
                        "text/plain": [
                            "{'call': 2.5651092396164987, 'put': 2.588240081574218}"
                        ]
                    },
                    "execution_count": 21,
                    "metadata": {},
                    "output_type": "execute_result"
                }
            ],
            "source": [
                "vHW"
            ]
        },
        {
            "cell_type": "markdown",
            "metadata": {},
            "source": [
                "Copyright (c) Dominic O'Kane 2021"
            ]
        }
    ],
    "metadata": {
        "kernelspec": {
            "display_name": "Python 3 (ipykernel)",
            "language": "python",
            "name": "python3"
        },
        "language_info": {
            "codemirror_mode": {
                "name": "ipython",
                "version": 3
            },
            "file_extension": ".py",
            "mimetype": "text/x-python",
            "name": "python",
            "nbconvert_exporter": "python",
            "pygments_lexer": "ipython3",
            "version": "3.11.5"
        }
    },
    "nbformat": 4,
    "nbformat_minor": 2
}