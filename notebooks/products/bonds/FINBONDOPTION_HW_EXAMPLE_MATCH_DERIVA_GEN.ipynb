{
 "cells": [
  {
   "cell_type": "markdown",
   "metadata": {},
   "source": [
    "# Bond Option Comparison with DerivaGem Function 17"
   ]
  },
  {
   "cell_type": "markdown",
   "metadata": {},
   "source": [
    "Value an option on a coupon paying bond using the Hull-White in response to a question."
   ]
  },
  {
   "cell_type": "code",
   "execution_count": 1,
   "metadata": {
    "execution": {
     "iopub.execute_input": "2025-09-14T22:17:34.103348Z",
     "iopub.status.busy": "2025-09-14T22:17:34.102865Z",
     "iopub.status.idle": "2025-09-14T22:17:34.320690Z",
     "shell.execute_reply": "2025-09-14T22:17:34.319331Z"
    }
   },
   "outputs": [],
   "source": [
    "import numpy as np\n",
    "import matplotlib.pyplot as plt\n",
    "import time"
   ]
  },
  {
   "cell_type": "code",
   "execution_count": 2,
   "metadata": {
    "execution": {
     "iopub.execute_input": "2025-09-14T22:17:34.322606Z",
     "iopub.status.busy": "2025-09-14T22:17:34.322442Z",
     "iopub.status.idle": "2025-09-14T22:17:34.981391Z",
     "shell.execute_reply": "2025-09-14T22:17:34.980931Z"
    }
   },
   "outputs": [],
   "source": [
    "from financepy.utils import *\n",
    "from financepy.market.curves import *\n",
    "from financepy.models.hw_tree import HWTree\n",
    "from financepy.products.bonds import *"
   ]
  },
  {
   "cell_type": "markdown",
   "metadata": {},
   "source": [
    "## Set up the Discount Curve"
   ]
  },
  {
   "cell_type": "code",
   "execution_count": 3,
   "metadata": {
    "execution": {
     "iopub.execute_input": "2025-09-14T22:17:34.983105Z",
     "iopub.status.busy": "2025-09-14T22:17:34.982907Z",
     "iopub.status.idle": "2025-09-14T22:17:34.997218Z",
     "shell.execute_reply": "2025-09-14T22:17:34.996933Z"
    }
   },
   "outputs": [],
   "source": [
    "settle_dt = Date(1, 12, 2019)"
   ]
  },
  {
   "cell_type": "markdown",
   "metadata": {},
   "source": [
    "Set up discount curve"
   ]
  },
  {
   "cell_type": "code",
   "execution_count": 4,
   "metadata": {
    "execution": {
     "iopub.execute_input": "2025-09-14T22:17:34.998402Z",
     "iopub.status.busy": "2025-09-14T22:17:34.998279Z",
     "iopub.status.idle": "2025-09-14T22:17:35.005675Z",
     "shell.execute_reply": "2025-09-14T22:17:35.005314Z"
    }
   },
   "outputs": [],
   "source": [
    "rate = 0.05\n",
    "dc_type = DayCountTypes.THIRTY_360_BOND\n",
    "fixed_freq = FrequencyTypes.SEMI_ANNUAL\n",
    "discount_curve = DiscountCurveFlat(settle_dt, rate, fixed_freq, dc_type)"
   ]
  },
  {
   "cell_type": "code",
   "execution_count": 5,
   "metadata": {
    "execution": {
     "iopub.execute_input": "2025-09-14T22:17:35.006847Z",
     "iopub.status.busy": "2025-09-14T22:17:35.006723Z",
     "iopub.status.idle": "2025-09-14T22:17:35.009072Z",
     "shell.execute_reply": "2025-09-14T22:17:35.008793Z"
    }
   },
   "outputs": [],
   "source": [
    "df_times = discount_curve.times\n",
    "df_values = discount_curve.dfs"
   ]
  },
  {
   "cell_type": "code",
   "execution_count": 6,
   "metadata": {
    "execution": {
     "iopub.execute_input": "2025-09-14T22:17:35.010138Z",
     "iopub.status.busy": "2025-09-14T22:17:35.010034Z",
     "iopub.status.idle": "2025-09-14T22:17:35.013870Z",
     "shell.execute_reply": "2025-09-14T22:17:35.013590Z"
    }
   },
   "outputs": [
    {
     "data": {
      "text/plain": [
       "array([1.        , 0.9877296 , 0.97560976, 0.96363863, 0.9518144 ,\n",
       "       0.94013525, 0.92859941, 0.91720512, 0.90595064, 0.89483426,\n",
       "       0.88385429, 0.87300904, 0.86229687, 0.85171614, 0.84126524,\n",
       "       0.83094257, 0.82074657, 0.81067568, 0.80072836, 0.7909031 ,\n",
       "       0.7811984 , 0.77161278, 0.76214478, 0.75279296, 0.74355589,\n",
       "       0.73443215, 0.72542038, 0.71651918, 0.7077272 , 0.6990431 ,\n",
       "       0.69046556, 0.68199327, 0.67362493, 0.66535928, 0.65719506,\n",
       "       0.64913101, 0.64116591, 0.63329855, 0.62552772, 0.61785224,\n",
       "       0.61027094])"
      ]
     },
     "execution_count": 6,
     "metadata": {},
     "output_type": "execute_result"
    }
   ],
   "source": [
    "df_values"
   ]
  },
  {
   "cell_type": "markdown",
   "metadata": {},
   "source": [
    "## Set up the Bond Option"
   ]
  },
  {
   "cell_type": "markdown",
   "metadata": {},
   "source": [
    "First create the bond"
   ]
  },
  {
   "cell_type": "code",
   "execution_count": 7,
   "metadata": {
    "execution": {
     "iopub.execute_input": "2025-09-14T22:17:35.014946Z",
     "iopub.status.busy": "2025-09-14T22:17:35.014832Z",
     "iopub.status.idle": "2025-09-14T22:17:35.017821Z",
     "shell.execute_reply": "2025-09-14T22:17:35.017538Z"
    }
   },
   "outputs": [],
   "source": [
    "issue_dt = Date(1,12,2018)\n",
    "maturity_dt = issue_dt.add_tenor(\"10Y\")\n",
    "coupon = 0.05\n",
    "freq_type = FrequencyTypes.SEMI_ANNUAL\n",
    "dc_type = DayCountTypes.THIRTY_360_BOND\n",
    "bond = Bond(issue_dt, maturity_dt, coupon, freq_type, dc_type)"
   ]
  },
  {
   "cell_type": "markdown",
   "metadata": {},
   "source": [
    "Let's first price the bond on the libor curve"
   ]
  },
  {
   "cell_type": "code",
   "execution_count": 8,
   "metadata": {
    "execution": {
     "iopub.execute_input": "2025-09-14T22:17:35.018797Z",
     "iopub.status.busy": "2025-09-14T22:17:35.018684Z",
     "iopub.status.idle": "2025-09-14T22:17:35.022022Z",
     "shell.execute_reply": "2025-09-14T22:17:35.021765Z"
    }
   },
   "outputs": [
    {
     "name": "stdout",
     "output_type": "stream",
     "text": [
      "Fixed Income Clean Price:   100.000\n",
      "Fixed Income Dirty Price:   100.000\n"
     ]
    }
   ],
   "source": [
    "cp = bond.clean_price_from_discount_curve(settle_dt, discount_curve)\n",
    "dp = bond.dirty_price_from_discount_curve(settle_dt, discount_curve)\n",
    "print(\"Fixed Income Clean Price: %9.3f\"% cp)\n",
    "print(\"Fixed Income Dirty Price: %9.3f\"% dp)"
   ]
  },
  {
   "cell_type": "code",
   "execution_count": 9,
   "metadata": {
    "execution": {
     "iopub.execute_input": "2025-09-14T22:17:35.022925Z",
     "iopub.status.busy": "2025-09-14T22:17:35.022813Z",
     "iopub.status.idle": "2025-09-14T22:17:35.025022Z",
     "shell.execute_reply": "2025-09-14T22:17:35.024829Z"
    }
   },
   "outputs": [
    {
     "data": {
      "text/plain": [
       "01-DEC-2019"
      ]
     },
     "execution_count": 9,
     "metadata": {},
     "output_type": "execute_result"
    }
   ],
   "source": [
    "settle_dt"
   ]
  },
  {
   "cell_type": "code",
   "execution_count": 10,
   "metadata": {
    "execution": {
     "iopub.execute_input": "2025-09-14T22:17:35.025958Z",
     "iopub.status.busy": "2025-09-14T22:17:35.025800Z",
     "iopub.status.idle": "2025-09-14T22:17:35.028053Z",
     "shell.execute_reply": "2025-09-14T22:17:35.027830Z"
    }
   },
   "outputs": [
    {
     "name": "stdout",
     "output_type": "stream",
     "text": [
      " 01-JUN-2020      2.50000 \n",
      " 01-DEC-2020      2.50000 \n",
      " 01-JUN-2021      2.50000 \n",
      " 01-DEC-2021      2.50000 \n",
      " 01-JUN-2022      2.50000 \n",
      " 01-DEC-2022      2.50000 \n",
      " 01-JUN-2023      2.50000 \n",
      " 01-DEC-2023      2.50000 \n",
      " 01-JUN-2024      2.50000 \n",
      " 01-DEC-2024      2.50000 \n",
      " 01-JUN-2025      2.50000 \n",
      " 01-DEC-2025      2.50000 \n",
      " 01-JUN-2026      2.50000 \n",
      " 01-DEC-2026      2.50000 \n",
      " 01-JUN-2027      2.50000 \n",
      " 01-DEC-2027      2.50000 \n",
      " 01-JUN-2028      2.50000 \n",
      " 01-DEC-2028    102.50000 \n",
      "\n"
     ]
    }
   ],
   "source": [
    "bond.print_payments(settle_dt)"
   ]
  },
  {
   "cell_type": "markdown",
   "metadata": {},
   "source": [
    "Then define and create the option"
   ]
  },
  {
   "cell_type": "code",
   "execution_count": 11,
   "metadata": {
    "execution": {
     "iopub.execute_input": "2025-09-14T22:17:35.028912Z",
     "iopub.status.busy": "2025-09-14T22:17:35.028800Z",
     "iopub.status.idle": "2025-09-14T22:17:35.030648Z",
     "shell.execute_reply": "2025-09-14T22:17:35.030444Z"
    }
   },
   "outputs": [],
   "source": [
    "expiry_dt = settle_dt.add_tenor(\"18m\")\n",
    "strike_price = 100.0\n",
    "face_amount = 100.0"
   ]
  },
  {
   "cell_type": "code",
   "execution_count": 12,
   "metadata": {
    "execution": {
     "iopub.execute_input": "2025-09-14T22:17:35.031514Z",
     "iopub.status.busy": "2025-09-14T22:17:35.031405Z",
     "iopub.status.idle": "2025-09-14T22:17:35.033814Z",
     "shell.execute_reply": "2025-09-14T22:17:35.033466Z"
    }
   },
   "outputs": [],
   "source": [
    "europeanCallBondOption = BondOption(bond, expiry_dt, strike_price, OptionTypes.EUROPEAN_CALL)\n",
    "americanCallBondOption = BondOption(bond, expiry_dt, strike_price, OptionTypes.AMERICAN_CALL)"
   ]
  },
  {
   "cell_type": "code",
   "execution_count": 13,
   "metadata": {
    "execution": {
     "iopub.execute_input": "2025-09-14T22:17:35.034810Z",
     "iopub.status.busy": "2025-09-14T22:17:35.034702Z",
     "iopub.status.idle": "2025-09-14T22:17:35.036935Z",
     "shell.execute_reply": "2025-09-14T22:17:35.036682Z"
    }
   },
   "outputs": [],
   "source": [
    "europeanPutBondOption = BondOption(bond, expiry_dt, strike_price, OptionTypes.EUROPEAN_PUT)\n",
    "americanPutBondOption = BondOption(bond, expiry_dt, strike_price, OptionTypes.AMERICAN_PUT)"
   ]
  },
  {
   "cell_type": "markdown",
   "metadata": {},
   "source": [
    "Consider the forward bond price."
   ]
  },
  {
   "cell_type": "code",
   "execution_count": 14,
   "metadata": {
    "execution": {
     "iopub.execute_input": "2025-09-14T22:17:35.037819Z",
     "iopub.status.busy": "2025-09-14T22:17:35.037712Z",
     "iopub.status.idle": "2025-09-14T22:17:35.039951Z",
     "shell.execute_reply": "2025-09-14T22:17:35.039704Z"
    }
   },
   "outputs": [
    {
     "name": "stdout",
     "output_type": "stream",
     "text": [
      "Fixed Income Clean Price:   100.000\n",
      "Fixed Income Dirty Price:   100.000\n"
     ]
    }
   ],
   "source": [
    "cp = bond.clean_price_from_discount_curve(expiry_dt, discount_curve)\n",
    "dp = bond.dirty_price_from_discount_curve(expiry_dt, discount_curve)\n",
    "print(\"Fixed Income Clean Price: %9.3f\"% cp)\n",
    "print(\"Fixed Income Dirty Price: %9.3f\"% dp)"
   ]
  },
  {
   "cell_type": "markdown",
   "metadata": {},
   "source": [
    "Set the model parameters, start with zero vol."
   ]
  },
  {
   "cell_type": "code",
   "execution_count": 15,
   "metadata": {
    "execution": {
     "iopub.execute_input": "2025-09-14T22:17:35.040837Z",
     "iopub.status.busy": "2025-09-14T22:17:35.040696Z",
     "iopub.status.idle": "2025-09-14T22:17:35.042888Z",
     "shell.execute_reply": "2025-09-14T22:17:35.042709Z"
    }
   },
   "outputs": [],
   "source": [
    "num_steps = 500"
   ]
  },
  {
   "cell_type": "code",
   "execution_count": 16,
   "metadata": {
    "execution": {
     "iopub.execute_input": "2025-09-14T22:17:35.043730Z",
     "iopub.status.busy": "2025-09-14T22:17:35.043623Z",
     "iopub.status.idle": "2025-09-14T22:17:35.045389Z",
     "shell.execute_reply": "2025-09-14T22:17:35.045178Z"
    }
   },
   "outputs": [],
   "source": [
    "sigma = 0.0125\n",
    "a = 0.1\n",
    "modelHW = HWTree(sigma, a, num_steps)"
   ]
  },
  {
   "cell_type": "code",
   "execution_count": 17,
   "metadata": {
    "execution": {
     "iopub.execute_input": "2025-09-14T22:17:35.046277Z",
     "iopub.status.busy": "2025-09-14T22:17:35.046146Z",
     "iopub.status.idle": "2025-09-14T22:17:35.077041Z",
     "shell.execute_reply": "2025-09-14T22:17:35.076653Z"
    }
   },
   "outputs": [
    {
     "name": "stdout",
     "output_type": "stream",
     "text": [
      "European Call Value:   2.39763\n",
      "American Call Value:   2.66598\n"
     ]
    }
   ],
   "source": [
    "ec = europeanCallBondOption.value(settle_dt, discount_curve, modelHW)\n",
    "ac = americanCallBondOption.value(settle_dt, discount_curve, modelHW)\n",
    "print(\"European Call Value: %9.5f\" % ec)\n",
    "print(\"American Call Value: %9.5f\" % ac)"
   ]
  },
  {
   "cell_type": "code",
   "execution_count": 18,
   "metadata": {
    "execution": {
     "iopub.execute_input": "2025-09-14T22:17:35.079477Z",
     "iopub.status.busy": "2025-09-14T22:17:35.079167Z",
     "iopub.status.idle": "2025-09-14T22:17:35.084932Z",
     "shell.execute_reply": "2025-09-14T22:17:35.084618Z"
    }
   },
   "outputs": [
    {
     "name": "stdout",
     "output_type": "stream",
     "text": [
      "European Put Value:   2.42253\n",
      "American Put Value:   2.68292\n"
     ]
    }
   ],
   "source": [
    "ec = europeanPutBondOption.value(settle_dt, discount_curve, modelHW)\n",
    "ac = americanPutBondOption.value(settle_dt, discount_curve, modelHW)\n",
    "print(\"European Put Value: %9.5f\" % ec)\n",
    "print(\"American Put Value: %9.5f\" % ac)"
   ]
  },
  {
   "cell_type": "markdown",
   "metadata": {},
   "source": [
    "# COMPARISON"
   ]
  },
  {
   "cell_type": "code",
   "execution_count": 19,
   "metadata": {
    "execution": {
     "iopub.execute_input": "2025-09-14T22:17:35.086056Z",
     "iopub.status.busy": "2025-09-14T22:17:35.085940Z",
     "iopub.status.idle": "2025-09-14T22:17:35.103277Z",
     "shell.execute_reply": "2025-09-14T22:17:35.102915Z"
    }
   },
   "outputs": [],
   "source": [
    "if 1==1:\n",
    "\n",
    "    settle_dt = Date(1, 12, 2019)\n",
    "    issue_dt = Date(1, 12, 2018)\n",
    "    expiry_dt = settle_dt.add_tenor(\"18m\")\n",
    "    maturity_dt = settle_dt.add_tenor(\"10Y\")\n",
    "    coupon = 0.05\n",
    "    freq_type = FrequencyTypes.SEMI_ANNUAL\n",
    "    accrual_type = DayCountTypes.THIRTY_360_BOND\n",
    "    bond = Bond(issue_dt, maturity_dt, coupon, freq_type,  accrual_type)\n",
    "\n",
    "    couponTimes = []\n",
    "    couponFlows = []\n",
    "    cpn = bond.cpn/bond.freq\n",
    "\n",
    "    numFlows = len(bond.cpn_dts)\n",
    "    for i in range(0, numFlows):\n",
    "\n",
    "        pcd = bond.cpn_dts[i-1]\n",
    "        ncd = bond.cpn_dts[i]\n",
    "\n",
    "        if ncd > settle_dt:\n",
    "\n",
    "            if len(couponTimes) == 0:\n",
    "                flowTime = (pcd - settle_dt) / G_DAYS_IN_YEARS\n",
    "                couponTimes.append(flowTime)\n",
    "                couponFlows.append(cpn)\n",
    "\n",
    "            flowTime = (ncd - settle_dt) / G_DAYS_IN_YEARS\n",
    "            couponTimes.append(flowTime)\n",
    "            couponFlows.append(cpn)\n",
    "\n",
    "    couponTimes = np.array(couponTimes)\n",
    "    couponFlows = np.array(couponFlows)\n",
    "\n",
    "    strikePrice = 100.0\n",
    "    face = 100.0\n",
    "\n",
    "    model = HWTree(sigma, a, None)\n",
    "\n",
    "    #  Test convergence\n",
    "    t_exp = (expiry_dt - settle_dt)/G_DAYS_IN_YEARS\n",
    "    t_mat = (maturity_dt - settle_dt)/G_DAYS_IN_YEARS\n",
    "\n",
    "    # Jamshidian approach\n",
    "    v_jam = model.european_bond_option_jamshidian(t_exp, strikePrice, face,\n",
    "                                              couponTimes, couponFlows,\n",
    "                                              df_times, df_values)\n",
    "\n",
    "    model.num_time_steps = 200\n",
    "    model.build_tree(t_mat, df_times, df_values)\n",
    "    exerciseType = FinExerciseTypes.EUROPEAN\n",
    "    vHW = model.bond_option(t_exp, strikePrice, face,\n",
    "                            couponTimes, couponFlows, exerciseType)\n"
   ]
  },
  {
   "cell_type": "code",
   "execution_count": 20,
   "metadata": {
    "execution": {
     "iopub.execute_input": "2025-09-14T22:17:35.104552Z",
     "iopub.status.busy": "2025-09-14T22:17:35.104419Z",
     "iopub.status.idle": "2025-09-14T22:17:35.106910Z",
     "shell.execute_reply": "2025-09-14T22:17:35.106622Z"
    }
   },
   "outputs": [
    {
     "data": {
      "text/plain": [
       "{'call': np.float64(2.557167935570238), 'put': np.float64(2.582591550479875)}"
      ]
     },
     "execution_count": 20,
     "metadata": {},
     "output_type": "execute_result"
    }
   ],
   "source": [
    "v_jam"
   ]
  },
  {
   "cell_type": "code",
   "execution_count": 21,
   "metadata": {
    "execution": {
     "iopub.execute_input": "2025-09-14T22:17:35.107967Z",
     "iopub.status.busy": "2025-09-14T22:17:35.107858Z",
     "iopub.status.idle": "2025-09-14T22:17:35.110855Z",
     "shell.execute_reply": "2025-09-14T22:17:35.110577Z"
    }
   },
   "outputs": [
    {
     "data": {
      "text/plain": [
       "{'call': 2.565109239617434, 'put': 2.5882400815731494}"
      ]
     },
     "execution_count": 21,
     "metadata": {},
     "output_type": "execute_result"
    }
   ],
   "source": [
    "vHW"
   ]
  },
  {
   "cell_type": "markdown",
   "metadata": {},
   "source": [
    "Copyright (c) Dominic O'Kane 2021"
   ]
  }
 ],
 "metadata": {
  "kernelspec": {
   "display_name": "base",
   "language": "python",
   "name": "python3"
  },
  "language_info": {
   "codemirror_mode": {
    "name": "ipython",
    "version": 3
   },
   "file_extension": ".py",
   "mimetype": "text/x-python",
   "name": "python",
   "nbconvert_exporter": "python",
   "pygments_lexer": "ipython3",
   "version": "3.13.7"
  }
 },
 "nbformat": 4,
 "nbformat_minor": 2
}
