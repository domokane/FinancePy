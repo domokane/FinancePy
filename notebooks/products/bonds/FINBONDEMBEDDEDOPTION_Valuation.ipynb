{
 "cells": [
  {
   "cell_type": "markdown",
   "metadata": {},
   "source": [
    "# Bond with Embedded Calls and Put Options"
   ]
  },
  {
   "cell_type": "markdown",
   "metadata": {},
   "source": [
    "Value a bond with embedded optionality using the Hull-White and Black-Karasinski model"
   ]
  },
  {
   "cell_type": "code",
   "execution_count": 1,
   "metadata": {
    "execution": {
     "iopub.execute_input": "2025-08-27T21:36:25.439807Z",
     "iopub.status.busy": "2025-08-27T21:36:25.439594Z",
     "iopub.status.idle": "2025-08-27T21:36:25.987087Z",
     "shell.execute_reply": "2025-08-27T21:36:25.986618Z"
    }
   },
   "outputs": [],
   "source": [
    "import numpy as np\n",
    "import matplotlib.pyplot as plt\n",
    "import time"
   ]
  },
  {
   "cell_type": "code",
   "execution_count": 2,
   "metadata": {
    "execution": {
     "iopub.execute_input": "2025-08-27T21:36:25.989528Z",
     "iopub.status.busy": "2025-08-27T21:36:25.989236Z",
     "iopub.status.idle": "2025-08-27T21:36:27.728814Z",
     "shell.execute_reply": "2025-08-27T21:36:27.728291Z"
    }
   },
   "outputs": [
    {
     "name": "stdout",
     "output_type": "stream",
     "text": [
      "####################################################################\n",
      "#    FINANCEPY Version 1.1 - This build: 27 Aug 2025 at 23:27      #\n",
      "#     This software is distributed FREE AND WITHOUT ANY WARRANTY   #\n",
      "#  Report bugs as issues at https://github.com/domokane/FinancePy  #\n",
      "####################################################################\n",
      "\n"
     ]
    }
   ],
   "source": [
    "from financepy.utils import *\n",
    "from financepy.products.bonds import *\n",
    "from financepy.market.curves.discount_curve import DiscountCurve\n",
    "from financepy.products.rates import *\n",
    "from financepy.models.hw_tree import HWTree\n",
    "from financepy.models.bk_tree import BKTree"
   ]
  },
  {
   "cell_type": "markdown",
   "metadata": {},
   "source": [
    "## Example from Matlab"
   ]
  },
  {
   "cell_type": "markdown",
   "metadata": {},
   "source": [
    "https://fr.mathworks.com/help/fininst/optembndbyhw.html#bviuizn-1_sep_optembndbyhw_example1"
   ]
  },
  {
   "cell_type": "code",
   "execution_count": 3,
   "metadata": {
    "execution": {
     "iopub.execute_input": "2025-08-27T21:36:27.731321Z",
     "iopub.status.busy": "2025-08-27T21:36:27.731006Z",
     "iopub.status.idle": "2025-08-27T21:36:27.749569Z",
     "shell.execute_reply": "2025-08-27T21:36:27.748992Z"
    }
   },
   "outputs": [],
   "source": [
    "value_dt = Date(1, 1, 2007)\n",
    "settle_dt = value_dt"
   ]
  },
  {
   "cell_type": "markdown",
   "metadata": {},
   "source": [
    "### Set up discount curve"
   ]
  },
  {
   "cell_type": "code",
   "execution_count": 4,
   "metadata": {
    "execution": {
     "iopub.execute_input": "2025-08-27T21:36:27.751519Z",
     "iopub.status.busy": "2025-08-27T21:36:27.751191Z",
     "iopub.status.idle": "2025-08-27T21:36:27.763362Z",
     "shell.execute_reply": "2025-08-27T21:36:27.762965Z"
    }
   },
   "outputs": [],
   "source": [
    "dc_type = DayCountTypes.ACT_360\n",
    "fixed_freq = FrequencyTypes.SEMI_ANNUAL\n",
    "swap_type = SwapTypes.PAY\n",
    "swap1 = IborSwap(settle_dt, Date(1,1,2008), swap_type, 0.05, fixed_freq, dc_type)\n",
    "swap2 = IborSwap(settle_dt, Date(1,1,2009), swap_type, 0.05, fixed_freq, dc_type)\n",
    "swap3 = IborSwap(settle_dt, Date(1,1,2010), swap_type, 0.05, fixed_freq, dc_type)\n",
    "swaps = [swap1, swap2, swap3]\n",
    "discount_curve = IborSingleCurve(value_dt, [], [], swaps)"
   ]
  },
  {
   "cell_type": "markdown",
   "metadata": {},
   "source": [
    "### Set up the Puttable Bond"
   ]
  },
  {
   "cell_type": "markdown",
   "metadata": {},
   "source": [
    "First create a bond that we will use as a reference"
   ]
  },
  {
   "cell_type": "code",
   "execution_count": 5,
   "metadata": {
    "execution": {
     "iopub.execute_input": "2025-08-27T21:36:27.765287Z",
     "iopub.status.busy": "2025-08-27T21:36:27.765064Z",
     "iopub.status.idle": "2025-08-27T21:36:27.767626Z",
     "shell.execute_reply": "2025-08-27T21:36:27.767221Z"
    }
   },
   "outputs": [],
   "source": [
    "issue_dt = Date(1,1, 2000)\n",
    "maturity_dt = Date(1, 1, 2010)\n",
    "coupon = 0.05\n",
    "freq_type = FrequencyTypes.ANNUAL\n",
    "dc_type = DayCountTypes.ACT_ACT_ICMA"
   ]
  },
  {
   "cell_type": "code",
   "execution_count": 6,
   "metadata": {
    "execution": {
     "iopub.execute_input": "2025-08-27T21:36:27.769208Z",
     "iopub.status.busy": "2025-08-27T21:36:27.769024Z",
     "iopub.status.idle": "2025-08-27T21:36:27.771627Z",
     "shell.execute_reply": "2025-08-27T21:36:27.771251Z"
    }
   },
   "outputs": [],
   "source": [
    "bond = Bond(issue_dt, maturity_dt, coupon, freq_type, dc_type)"
   ]
  },
  {
   "cell_type": "code",
   "execution_count": 7,
   "metadata": {
    "execution": {
     "iopub.execute_input": "2025-08-27T21:36:27.773154Z",
     "iopub.status.busy": "2025-08-27T21:36:27.772965Z",
     "iopub.status.idle": "2025-08-27T21:36:27.775325Z",
     "shell.execute_reply": "2025-08-27T21:36:27.774965Z"
    }
   },
   "outputs": [],
   "source": [
    "v = bond.clean_price_from_discount_curve(settle_dt, discount_curve)"
   ]
  },
  {
   "cell_type": "code",
   "execution_count": 8,
   "metadata": {
    "execution": {
     "iopub.execute_input": "2025-08-27T21:36:27.776901Z",
     "iopub.status.busy": "2025-08-27T21:36:27.776618Z",
     "iopub.status.idle": "2025-08-27T21:36:27.779093Z",
     "shell.execute_reply": "2025-08-27T21:36:27.778726Z"
    }
   },
   "outputs": [
    {
     "name": "stdout",
     "output_type": "stream",
     "text": [
      "Pure Bond Price: 99.62397562281713\n"
     ]
    }
   ],
   "source": [
    "print(\"Pure Bond Price:\", v)"
   ]
  },
  {
   "cell_type": "markdown",
   "metadata": {},
   "source": [
    "Now specify the put and call dates"
   ]
  },
  {
   "cell_type": "code",
   "execution_count": 9,
   "metadata": {
    "execution": {
     "iopub.execute_input": "2025-08-27T21:36:27.780868Z",
     "iopub.status.busy": "2025-08-27T21:36:27.780462Z",
     "iopub.status.idle": "2025-08-27T21:36:27.783337Z",
     "shell.execute_reply": "2025-08-27T21:36:27.782940Z"
    }
   },
   "outputs": [],
   "source": [
    "call_dts = []\n",
    "call_prices = []\n",
    "put_dts = [Date(1, 1, 2008), Date(1, 1, 2009), Date(1, 1, 2010)]\n",
    "put_prices = [100.0, 100.0, 100.0]"
   ]
  },
  {
   "cell_type": "markdown",
   "metadata": {},
   "source": [
    "Now create the BondEmbeddedOption"
   ]
  },
  {
   "cell_type": "code",
   "execution_count": 10,
   "metadata": {
    "execution": {
     "iopub.execute_input": "2025-08-27T21:36:27.785168Z",
     "iopub.status.busy": "2025-08-27T21:36:27.784953Z",
     "iopub.status.idle": "2025-08-27T21:36:27.787784Z",
     "shell.execute_reply": "2025-08-27T21:36:27.787437Z"
    }
   },
   "outputs": [],
   "source": [
    "puttable_bond = BondEmbeddedOption(issue_dt, maturity_dt, coupon, freq_type, dc_type,\n",
    "                                     call_dts, call_prices, put_dts, put_prices)"
   ]
  },
  {
   "cell_type": "markdown",
   "metadata": {},
   "source": [
    "### The Hull-White Model"
   ]
  },
  {
   "cell_type": "code",
   "execution_count": 11,
   "metadata": {
    "execution": {
     "iopub.execute_input": "2025-08-27T21:36:27.789636Z",
     "iopub.status.busy": "2025-08-27T21:36:27.789343Z",
     "iopub.status.idle": "2025-08-27T21:36:27.791801Z",
     "shell.execute_reply": "2025-08-27T21:36:27.791461Z"
    }
   },
   "outputs": [],
   "source": [
    "sigma = 0.01  # basis point volatility\n",
    "a = 0.1\n",
    "num_time_steps = 200"
   ]
  },
  {
   "cell_type": "code",
   "execution_count": 12,
   "metadata": {
    "execution": {
     "iopub.execute_input": "2025-08-27T21:36:27.793566Z",
     "iopub.status.busy": "2025-08-27T21:36:27.793268Z",
     "iopub.status.idle": "2025-08-27T21:36:27.795496Z",
     "shell.execute_reply": "2025-08-27T21:36:27.795157Z"
    }
   },
   "outputs": [],
   "source": [
    "model = HWTree(sigma, a, num_time_steps)"
   ]
  },
  {
   "cell_type": "code",
   "execution_count": 13,
   "metadata": {
    "execution": {
     "iopub.execute_input": "2025-08-27T21:36:27.797052Z",
     "iopub.status.busy": "2025-08-27T21:36:27.796853Z",
     "iopub.status.idle": "2025-08-27T21:36:34.249392Z",
     "shell.execute_reply": "2025-08-27T21:36:34.248985Z"
    }
   },
   "outputs": [],
   "source": [
    "v = puttable_bond.value(settle_dt, discount_curve, model)"
   ]
  },
  {
   "cell_type": "code",
   "execution_count": 14,
   "metadata": {
    "execution": {
     "iopub.execute_input": "2025-08-27T21:36:34.251532Z",
     "iopub.status.busy": "2025-08-27T21:36:34.251190Z",
     "iopub.status.idle": "2025-08-27T21:36:34.254142Z",
     "shell.execute_reply": "2025-08-27T21:36:34.253631Z"
    }
   },
   "outputs": [
    {
     "name": "stdout",
     "output_type": "stream",
     "text": [
      "{'bondwithoption': 100.47140041071113, 'bondpure': 99.61096301558382}\n"
     ]
    }
   ],
   "source": [
    "print(v)"
   ]
  },
  {
   "cell_type": "markdown",
   "metadata": {},
   "source": [
    "### Convergence Testing"
   ]
  },
  {
   "cell_type": "code",
   "execution_count": 15,
   "metadata": {
    "execution": {
     "iopub.execute_input": "2025-08-27T21:36:34.256013Z",
     "iopub.status.busy": "2025-08-27T21:36:34.255809Z",
     "iopub.status.idle": "2025-08-27T21:36:34.424601Z",
     "shell.execute_reply": "2025-08-27T21:36:34.424179Z"
    }
   },
   "outputs": [],
   "source": [
    "time_steps = range(20,220,1)\n",
    "values = []\n",
    "for num_time_steps in time_steps:\n",
    "    model = HWTree(sigma, a, num_time_steps)\n",
    "    v = puttable_bond.value(settle_dt, discount_curve, model)\n",
    "    values.append(v['bondwithoption'])"
   ]
  },
  {
   "cell_type": "code",
   "execution_count": 16,
   "metadata": {
    "execution": {
     "iopub.execute_input": "2025-08-27T21:36:34.426609Z",
     "iopub.status.busy": "2025-08-27T21:36:34.426272Z",
     "iopub.status.idle": "2025-08-27T21:36:34.546763Z",
     "shell.execute_reply": "2025-08-27T21:36:34.546146Z"
    }
   },
   "outputs": [
    {
     "data": {
      "image/png": "[encoded data removed]",
      "text/plain": [
       "<Figure size 640x480 with 1 Axes>"
      ]
     },
     "metadata": {},
     "output_type": "display_data"
    }
   ],
   "source": [
    "plt.plot(time_steps, values);"
   ]
  },
  {
   "cell_type": "markdown",
   "metadata": {},
   "source": [
    "Copyright (c) 2020 Dominic O'Kane"
   ]
  }
 ],
 "metadata": {
  "kernelspec": {
   "display_name": "base",
   "language": "python",
   "name": "python3"
  },
  "language_info": {
   "codemirror_mode": {
    "name": "ipython",
    "version": 3
   },
   "file_extension": ".py",
   "mimetype": "text/x-python",
   "name": "python",
   "nbconvert_exporter": "python",
   "pygments_lexer": "ipython3",
   "version": "3.13.5"
  }
 },
 "nbformat": 4,
 "nbformat_minor": 2
}
