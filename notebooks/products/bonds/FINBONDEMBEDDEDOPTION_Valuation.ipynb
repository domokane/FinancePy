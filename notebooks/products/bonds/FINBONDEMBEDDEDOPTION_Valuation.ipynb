{
 "cells": [
  {
   "cell_type": "markdown",
   "metadata": {},
   "source": [
    "# Bond with Embedded Calls and Put Options"
   ]
  },
  {
   "cell_type": "markdown",
   "metadata": {},
   "source": [
    "Value a bond with embedded optionality using the Hull-White and Black-Karasinski model"
   ]
  },
  {
   "cell_type": "code",
   "execution_count": 1,
   "metadata": {
    "execution": {
     "iopub.execute_input": "2024-04-30T19:43:06.004383Z",
     "iopub.status.busy": "2024-04-30T19:43:06.002438Z",
     "iopub.status.idle": "2024-04-30T19:43:06.592034Z",
     "shell.execute_reply": "2024-04-30T19:43:06.592034Z"
    }
   },
   "outputs": [],
   "source": [
    "import numpy as np\n",
    "import matplotlib.pyplot as plt\n",
    "import time"
   ]
  },
  {
   "cell_type": "code",
   "execution_count": 2,
   "metadata": {
    "execution": {
     "iopub.execute_input": "2024-04-30T19:43:06.594081Z",
     "iopub.status.busy": "2024-04-30T19:43:06.594081Z",
     "iopub.status.idle": "2024-04-30T19:43:07.988322Z",
     "shell.execute_reply": "2024-04-30T19:43:07.988322Z"
    }
   },
   "outputs": [
    {
     "name": "stdout",
     "output_type": "stream",
     "text": [
      "####################################################################\n",
      "#  FINANCEPY BETA Version 0.350 - This build: 30 Apr 2024 at 21:20 #\n",
      "#     This software is distributed FREE AND WITHOUT ANY WARRANTY   #\n",
      "#  Report bugs as issues at https://github.com/domokane/FinancePy  #\n",
      "####################################################################\n",
      "\n"
     ]
    }
   ],
   "source": [
    "from financepy.utils import *\n",
    "from financepy.products.bonds import *\n",
    "from financepy.market.curves.discount_curve import DiscountCurve\n",
    "from financepy.products.rates import *\n",
    "from financepy.models.hw_tree import HWTree\n",
    "from financepy.models.bk_tree import BKTree"
   ]
  },
  {
   "cell_type": "markdown",
   "metadata": {},
   "source": [
    "## Example from Matlab"
   ]
  },
  {
   "cell_type": "markdown",
   "metadata": {},
   "source": [
    "https://fr.mathworks.com/help/fininst/optembndbyhw.html#bviuizn-1_sep_optembndbyhw_example1"
   ]
  },
  {
   "cell_type": "code",
   "execution_count": 3,
   "metadata": {
    "execution": {
     "iopub.execute_input": "2024-04-30T19:43:07.991329Z",
     "iopub.status.busy": "2024-04-30T19:43:07.991329Z",
     "iopub.status.idle": "2024-04-30T19:43:08.013022Z",
     "shell.execute_reply": "2024-04-30T19:43:08.013022Z"
    }
   },
   "outputs": [],
   "source": [
    "value_dt = Date(1, 1, 2007)\n",
    "settle_dt = value_dt"
   ]
  },
  {
   "cell_type": "markdown",
   "metadata": {},
   "source": [
    "### Set up discount curve"
   ]
  },
  {
   "cell_type": "code",
   "execution_count": 4,
   "metadata": {
    "execution": {
     "iopub.execute_input": "2024-04-30T19:43:08.015561Z",
     "iopub.status.busy": "2024-04-30T19:43:08.015561Z",
     "iopub.status.idle": "2024-04-30T19:43:08.030595Z",
     "shell.execute_reply": "2024-04-30T19:43:08.030595Z"
    }
   },
   "outputs": [],
   "source": [
    "dc_type = DayCountTypes.ACT_360\n",
    "fixed_freq = FrequencyTypes.SEMI_ANNUAL\n",
    "swap_type = SwapTypes.PAY\n",
    "swap1 = IborSwap(settle_dt, Date(1,1,2008), swap_type, 0.05, fixed_freq, dc_type)\n",
    "swap2 = IborSwap(settle_dt, Date(1,1,2009), swap_type, 0.05, fixed_freq, dc_type)\n",
    "swap3 = IborSwap(settle_dt, Date(1,1,2010), swap_type, 0.05, fixed_freq, dc_type)\n",
    "swaps = [swap1, swap2, swap3]\n",
    "discount_curve = IborSingleCurve(value_dt, [], [], swaps)"
   ]
  },
  {
   "cell_type": "markdown",
   "metadata": {},
   "source": [
    "### Set up the Puttable Bond"
   ]
  },
  {
   "cell_type": "markdown",
   "metadata": {},
   "source": [
    "First create a bond that we will use as a reference"
   ]
  },
  {
   "cell_type": "code",
   "execution_count": 5,
   "metadata": {
    "execution": {
     "iopub.execute_input": "2024-04-30T19:43:08.033612Z",
     "iopub.status.busy": "2024-04-30T19:43:08.032642Z",
     "iopub.status.idle": "2024-04-30T19:43:08.036188Z",
     "shell.execute_reply": "2024-04-30T19:43:08.036188Z"
    }
   },
   "outputs": [],
   "source": [
    "issue_dt = Date(1,1, 2000)\n",
    "maturity_dt = Date(1, 1, 2010)\n",
    "coupon = 0.05\n",
    "freq_type = FrequencyTypes.ANNUAL\n",
    "dc_type = DayCountTypes.ACT_ACT_ICMA"
   ]
  },
  {
   "cell_type": "code",
   "execution_count": 6,
   "metadata": {
    "execution": {
     "iopub.execute_input": "2024-04-30T19:43:08.038190Z",
     "iopub.status.busy": "2024-04-30T19:43:08.038190Z",
     "iopub.status.idle": "2024-04-30T19:43:08.041275Z",
     "shell.execute_reply": "2024-04-30T19:43:08.041275Z"
    }
   },
   "outputs": [],
   "source": [
    "bond = Bond(issue_dt, maturity_dt, coupon, freq_type, dc_type)"
   ]
  },
  {
   "cell_type": "code",
   "execution_count": 7,
   "metadata": {
    "execution": {
     "iopub.execute_input": "2024-04-30T19:43:08.043317Z",
     "iopub.status.busy": "2024-04-30T19:43:08.043317Z",
     "iopub.status.idle": "2024-04-30T19:43:08.046098Z",
     "shell.execute_reply": "2024-04-30T19:43:08.046098Z"
    }
   },
   "outputs": [],
   "source": [
    "v = bond.clean_price_from_discount_curve(settle_dt, discount_curve)"
   ]
  },
  {
   "cell_type": "code",
   "execution_count": 8,
   "metadata": {
    "execution": {
     "iopub.execute_input": "2024-04-30T19:43:08.048128Z",
     "iopub.status.busy": "2024-04-30T19:43:08.048128Z",
     "iopub.status.idle": "2024-04-30T19:43:08.051030Z",
     "shell.execute_reply": "2024-04-30T19:43:08.051030Z"
    }
   },
   "outputs": [
    {
     "name": "stdout",
     "output_type": "stream",
     "text": [
      "Pure Bond Price: 99.62397562281713\n"
     ]
    }
   ],
   "source": [
    "print(\"Pure Bond Price:\", v)"
   ]
  },
  {
   "cell_type": "markdown",
   "metadata": {},
   "source": [
    "Now specify the put and call dates"
   ]
  },
  {
   "cell_type": "code",
   "execution_count": 9,
   "metadata": {
    "execution": {
     "iopub.execute_input": "2024-04-30T19:43:08.053063Z",
     "iopub.status.busy": "2024-04-30T19:43:08.053063Z",
     "iopub.status.idle": "2024-04-30T19:43:08.056575Z",
     "shell.execute_reply": "2024-04-30T19:43:08.056575Z"
    }
   },
   "outputs": [],
   "source": [
    "call_dts = []\n",
    "call_prices = []\n",
    "put_dts = [Date(1, 1, 2008), Date(1, 1, 2009), Date(1, 1, 2010)]\n",
    "put_prices = [100.0, 100.0, 100.0]"
   ]
  },
  {
   "cell_type": "markdown",
   "metadata": {},
   "source": [
    "Now create the BondEmbeddedOption"
   ]
  },
  {
   "cell_type": "code",
   "execution_count": 10,
   "metadata": {
    "execution": {
     "iopub.execute_input": "2024-04-30T19:43:08.059608Z",
     "iopub.status.busy": "2024-04-30T19:43:08.059608Z",
     "iopub.status.idle": "2024-04-30T19:43:08.063348Z",
     "shell.execute_reply": "2024-04-30T19:43:08.062768Z"
    }
   },
   "outputs": [],
   "source": [
    "puttable_bond = BondEmbeddedOption(issue_dt, maturity_dt, coupon, freq_type, dc_type,\n",
    "                                     call_dts, call_prices, put_dts, put_prices)"
   ]
  },
  {
   "cell_type": "markdown",
   "metadata": {},
   "source": [
    "### The Hull-White Model"
   ]
  },
  {
   "cell_type": "code",
   "execution_count": 11,
   "metadata": {
    "execution": {
     "iopub.execute_input": "2024-04-30T19:43:08.065972Z",
     "iopub.status.busy": "2024-04-30T19:43:08.065972Z",
     "iopub.status.idle": "2024-04-30T19:43:08.068462Z",
     "shell.execute_reply": "2024-04-30T19:43:08.068462Z"
    }
   },
   "outputs": [],
   "source": [
    "sigma = 0.01  # basis point volatility\n",
    "a = 0.1\n",
    "num_time_steps = 200"
   ]
  },
  {
   "cell_type": "code",
   "execution_count": 12,
   "metadata": {
    "execution": {
     "iopub.execute_input": "2024-04-30T19:43:08.070492Z",
     "iopub.status.busy": "2024-04-30T19:43:08.070492Z",
     "iopub.status.idle": "2024-04-30T19:43:08.073675Z",
     "shell.execute_reply": "2024-04-30T19:43:08.073448Z"
    }
   },
   "outputs": [],
   "source": [
    "model = HWTree(sigma, a, num_time_steps)"
   ]
  },
  {
   "cell_type": "code",
   "execution_count": 13,
   "metadata": {
    "execution": {
     "iopub.execute_input": "2024-04-30T19:43:08.076246Z",
     "iopub.status.busy": "2024-04-30T19:43:08.074675Z",
     "iopub.status.idle": "2024-04-30T19:43:09.561902Z",
     "shell.execute_reply": "2024-04-30T19:43:09.561830Z"
    }
   },
   "outputs": [],
   "source": [
    "v = puttable_bond.value(settle_dt, discount_curve, model)"
   ]
  },
  {
   "cell_type": "code",
   "execution_count": 14,
   "metadata": {
    "execution": {
     "iopub.execute_input": "2024-04-30T19:43:09.564926Z",
     "iopub.status.busy": "2024-04-30T19:43:09.564926Z",
     "iopub.status.idle": "2024-04-30T19:43:09.567639Z",
     "shell.execute_reply": "2024-04-30T19:43:09.567639Z"
    }
   },
   "outputs": [
    {
     "name": "stdout",
     "output_type": "stream",
     "text": [
      "{'bondwithoption': 100.47140041071113, 'bondpure': 99.61096301558382}\n"
     ]
    }
   ],
   "source": [
    "print(v)"
   ]
  },
  {
   "cell_type": "markdown",
   "metadata": {},
   "source": [
    "### Convergence Testing"
   ]
  },
  {
   "cell_type": "code",
   "execution_count": 15,
   "metadata": {
    "execution": {
     "iopub.execute_input": "2024-04-30T19:43:09.569668Z",
     "iopub.status.busy": "2024-04-30T19:43:09.569668Z",
     "iopub.status.idle": "2024-04-30T19:43:09.857054Z",
     "shell.execute_reply": "2024-04-30T19:43:09.856538Z"
    }
   },
   "outputs": [],
   "source": [
    "time_steps = range(20,220,1)\n",
    "values = []\n",
    "for num_time_steps in time_steps:\n",
    "    model = HWTree(sigma, a, num_time_steps)\n",
    "    v = puttable_bond.value(settle_dt, discount_curve, model)\n",
    "    values.append(v['bondwithoption'])"
   ]
  },
  {
   "cell_type": "code",
   "execution_count": 16,
   "metadata": {
    "execution": {
     "iopub.execute_input": "2024-04-30T19:43:09.859053Z",
     "iopub.status.busy": "2024-04-30T19:43:09.859053Z",
     "iopub.status.idle": "2024-04-30T19:43:10.032382Z",
     "shell.execute_reply": "2024-04-30T19:43:10.032382Z"
    }
   },
   "outputs": [
    {
     "data": {
      "image/png": "[encoded data removed]",
      "text/plain": [
       "<Figure size 640x480 with 1 Axes>"
      ]
     },
     "metadata": {},
     "output_type": "display_data"
    }
   ],
   "source": [
    "plt.plot(time_steps, values);"
   ]
  },
  {
   "cell_type": "markdown",
   "metadata": {},
   "source": [
    "Copyright (c) 2020 Dominic O'Kane"
   ]
  }
 ],
 "metadata": {
  "kernelspec": {
   "display_name": "Python 3",
   "language": "python",
   "name": "python3"
  },
  "language_info": {
   "codemirror_mode": {
    "name": "ipython",
    "version": 3
   },
   "file_extension": ".py",
   "mimetype": "text/x-python",
   "name": "python",
   "nbconvert_exporter": "python",
   "pygments_lexer": "ipython3",
   "version": "3.11.5"
  }
 },
 "nbformat": 4,
 "nbformat_minor": 2
}
