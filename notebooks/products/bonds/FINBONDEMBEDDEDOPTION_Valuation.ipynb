{
 "cells": [
  {
   "cell_type": "markdown",
   "metadata": {},
   "source": [
    "# Bond with Embedded Calls and Put Options"
   ]
  },
  {
   "cell_type": "markdown",
   "metadata": {},
   "source": [
    "Value a bond with embedded optionality using the Hull-White and Black-Karasinski model"
   ]
  },
  {
   "cell_type": "code",
   "execution_count": 1,
   "metadata": {
    "execution": {
     "iopub.execute_input": "2025-09-14T22:17:09.878952Z",
     "iopub.status.busy": "2025-09-14T22:17:09.878518Z",
     "iopub.status.idle": "2025-09-14T22:17:10.095593Z",
     "shell.execute_reply": "2025-09-14T22:17:10.095192Z"
    }
   },
   "outputs": [],
   "source": [
    "import numpy as np\n",
    "import matplotlib.pyplot as plt\n",
    "import time"
   ]
  },
  {
   "cell_type": "code",
   "execution_count": 2,
   "metadata": {
    "execution": {
     "iopub.execute_input": "2025-09-14T22:17:10.097317Z",
     "iopub.status.busy": "2025-09-14T22:17:10.097153Z",
     "iopub.status.idle": "2025-09-14T22:17:11.170348Z",
     "shell.execute_reply": "2025-09-14T22:17:11.170065Z"
    }
   },
   "outputs": [],
   "source": [
    "from financepy.utils import *\n",
    "from financepy.products.bonds import *\n",
    "from financepy.market.curves.discount_curve import DiscountCurve\n",
    "from financepy.products.rates import *\n",
    "from financepy.models.hw_tree import HWTree\n",
    "from financepy.models.bk_tree import BKTree"
   ]
  },
  {
   "cell_type": "markdown",
   "metadata": {},
   "source": [
    "## Example from Matlab"
   ]
  },
  {
   "cell_type": "markdown",
   "metadata": {},
   "source": [
    "https://fr.mathworks.com/help/fininst/optembndbyhw.html#bviuizn-1_sep_optembndbyhw_example1"
   ]
  },
  {
   "cell_type": "code",
   "execution_count": 3,
   "metadata": {
    "execution": {
     "iopub.execute_input": "2025-09-14T22:17:11.173117Z",
     "iopub.status.busy": "2025-09-14T22:17:11.172588Z",
     "iopub.status.idle": "2025-09-14T22:17:11.189879Z",
     "shell.execute_reply": "2025-09-14T22:17:11.189454Z"
    }
   },
   "outputs": [],
   "source": [
    "value_dt = Date(1, 1, 2007)\n",
    "settle_dt = value_dt"
   ]
  },
  {
   "cell_type": "markdown",
   "metadata": {},
   "source": [
    "### Set up discount curve"
   ]
  },
  {
   "cell_type": "code",
   "execution_count": 4,
   "metadata": {
    "execution": {
     "iopub.execute_input": "2025-09-14T22:17:11.192027Z",
     "iopub.status.busy": "2025-09-14T22:17:11.191890Z",
     "iopub.status.idle": "2025-09-14T22:17:11.203719Z",
     "shell.execute_reply": "2025-09-14T22:17:11.203390Z"
    }
   },
   "outputs": [],
   "source": [
    "dc_type = DayCountTypes.ACT_360\n",
    "fixed_freq = FrequencyTypes.SEMI_ANNUAL\n",
    "swap_type = SwapTypes.PAY\n",
    "swap1 = IborSwap(settle_dt, Date(1,1,2008), swap_type, 0.05, fixed_freq, dc_type)\n",
    "swap2 = IborSwap(settle_dt, Date(1,1,2009), swap_type, 0.05, fixed_freq, dc_type)\n",
    "swap3 = IborSwap(settle_dt, Date(1,1,2010), swap_type, 0.05, fixed_freq, dc_type)\n",
    "swaps = [swap1, swap2, swap3]\n",
    "discount_curve = IborSingleCurve(value_dt, [], [], swaps)"
   ]
  },
  {
   "cell_type": "markdown",
   "metadata": {},
   "source": [
    "### Set up the Puttable Bond"
   ]
  },
  {
   "cell_type": "markdown",
   "metadata": {},
   "source": [
    "First create a bond that we will use as a reference"
   ]
  },
  {
   "cell_type": "code",
   "execution_count": 5,
   "metadata": {
    "execution": {
     "iopub.execute_input": "2025-09-14T22:17:11.205660Z",
     "iopub.status.busy": "2025-09-14T22:17:11.205528Z",
     "iopub.status.idle": "2025-09-14T22:17:11.207761Z",
     "shell.execute_reply": "2025-09-14T22:17:11.207445Z"
    }
   },
   "outputs": [],
   "source": [
    "issue_dt = Date(1,1, 2000)\n",
    "maturity_dt = Date(1, 1, 2010)\n",
    "coupon = 0.05\n",
    "freq_type = FrequencyTypes.ANNUAL\n",
    "dc_type = DayCountTypes.ACT_ACT_ICMA"
   ]
  },
  {
   "cell_type": "code",
   "execution_count": 6,
   "metadata": {
    "execution": {
     "iopub.execute_input": "2025-09-14T22:17:11.208791Z",
     "iopub.status.busy": "2025-09-14T22:17:11.208682Z",
     "iopub.status.idle": "2025-09-14T22:17:11.210759Z",
     "shell.execute_reply": "2025-09-14T22:17:11.210547Z"
    }
   },
   "outputs": [],
   "source": [
    "bond = Bond(issue_dt, maturity_dt, coupon, freq_type, dc_type)"
   ]
  },
  {
   "cell_type": "code",
   "execution_count": 7,
   "metadata": {
    "execution": {
     "iopub.execute_input": "2025-09-14T22:17:11.212488Z",
     "iopub.status.busy": "2025-09-14T22:17:11.212382Z",
     "iopub.status.idle": "2025-09-14T22:17:11.214307Z",
     "shell.execute_reply": "2025-09-14T22:17:11.214047Z"
    }
   },
   "outputs": [],
   "source": [
    "v = bond.clean_price_from_discount_curve(settle_dt, discount_curve)"
   ]
  },
  {
   "cell_type": "code",
   "execution_count": 8,
   "metadata": {
    "execution": {
     "iopub.execute_input": "2025-09-14T22:17:11.215273Z",
     "iopub.status.busy": "2025-09-14T22:17:11.215165Z",
     "iopub.status.idle": "2025-09-14T22:17:11.218626Z",
     "shell.execute_reply": "2025-09-14T22:17:11.218112Z"
    }
   },
   "outputs": [
    {
     "name": "stdout",
     "output_type": "stream",
     "text": [
      "Pure Bond Price: 99.62397562281713\n"
     ]
    }
   ],
   "source": [
    "print(\"Pure Bond Price:\", v)"
   ]
  },
  {
   "cell_type": "markdown",
   "metadata": {},
   "source": [
    "Now specify the put and call dates"
   ]
  },
  {
   "cell_type": "code",
   "execution_count": 9,
   "metadata": {
    "execution": {
     "iopub.execute_input": "2025-09-14T22:17:11.219636Z",
     "iopub.status.busy": "2025-09-14T22:17:11.219537Z",
     "iopub.status.idle": "2025-09-14T22:17:11.221752Z",
     "shell.execute_reply": "2025-09-14T22:17:11.221544Z"
    }
   },
   "outputs": [],
   "source": [
    "call_dts = []\n",
    "call_prices = np.array([])\n",
    "put_dts = [Date(1, 1, 2008), Date(1, 1, 2009), Date(1, 1, 2010)]\n",
    "put_prices = np.array([100.0, 100.0, 100.0])"
   ]
  },
  {
   "cell_type": "markdown",
   "metadata": {},
   "source": [
    "Now create the BondEmbeddedOption"
   ]
  },
  {
   "cell_type": "code",
   "execution_count": 10,
   "metadata": {
    "execution": {
     "iopub.execute_input": "2025-09-14T22:17:11.222877Z",
     "iopub.status.busy": "2025-09-14T22:17:11.222773Z",
     "iopub.status.idle": "2025-09-14T22:17:11.224733Z",
     "shell.execute_reply": "2025-09-14T22:17:11.224520Z"
    }
   },
   "outputs": [],
   "source": [
    "puttable_bond = BondEmbeddedOption(issue_dt, maturity_dt, coupon, freq_type, dc_type,\n",
    "                                     call_dts, call_prices, put_dts, put_prices)"
   ]
  },
  {
   "cell_type": "markdown",
   "metadata": {},
   "source": [
    "### The Hull-White Model"
   ]
  },
  {
   "cell_type": "code",
   "execution_count": 11,
   "metadata": {
    "execution": {
     "iopub.execute_input": "2025-09-14T22:17:11.225843Z",
     "iopub.status.busy": "2025-09-14T22:17:11.225721Z",
     "iopub.status.idle": "2025-09-14T22:17:11.227802Z",
     "shell.execute_reply": "2025-09-14T22:17:11.227532Z"
    }
   },
   "outputs": [],
   "source": [
    "sigma = 0.01  # basis point volatility\n",
    "a = 0.1\n",
    "num_time_steps = 200"
   ]
  },
  {
   "cell_type": "code",
   "execution_count": 12,
   "metadata": {
    "execution": {
     "iopub.execute_input": "2025-09-14T22:17:11.228725Z",
     "iopub.status.busy": "2025-09-14T22:17:11.228619Z",
     "iopub.status.idle": "2025-09-14T22:17:11.230778Z",
     "shell.execute_reply": "2025-09-14T22:17:11.230533Z"
    }
   },
   "outputs": [],
   "source": [
    "model = HWTree(sigma, a, num_time_steps)"
   ]
  },
  {
   "cell_type": "code",
   "execution_count": 13,
   "metadata": {
    "execution": {
     "iopub.execute_input": "2025-09-14T22:17:11.231683Z",
     "iopub.status.busy": "2025-09-14T22:17:11.231583Z",
     "iopub.status.idle": "2025-09-14T22:17:12.178733Z",
     "shell.execute_reply": "2025-09-14T22:17:12.178375Z"
    }
   },
   "outputs": [],
   "source": [
    "v = puttable_bond.value(settle_dt, discount_curve, model)"
   ]
  },
  {
   "cell_type": "code",
   "execution_count": 14,
   "metadata": {
    "execution": {
     "iopub.execute_input": "2025-09-14T22:17:12.180200Z",
     "iopub.status.busy": "2025-09-14T22:17:12.180049Z",
     "iopub.status.idle": "2025-09-14T22:17:12.182602Z",
     "shell.execute_reply": "2025-09-14T22:17:12.182304Z"
    }
   },
   "outputs": [
    {
     "name": "stdout",
     "output_type": "stream",
     "text": [
      "{'bondwithoption': 100.47140041071114, 'bondpure': 99.61096301558383}\n"
     ]
    }
   ],
   "source": [
    "print(v)"
   ]
  },
  {
   "cell_type": "markdown",
   "metadata": {},
   "source": [
    "### Convergence Testing"
   ]
  },
  {
   "cell_type": "code",
   "execution_count": 15,
   "metadata": {
    "execution": {
     "iopub.execute_input": "2025-09-14T22:17:12.183597Z",
     "iopub.status.busy": "2025-09-14T22:17:12.183486Z",
     "iopub.status.idle": "2025-09-14T22:17:12.301132Z",
     "shell.execute_reply": "2025-09-14T22:17:12.299828Z"
    }
   },
   "outputs": [],
   "source": [
    "time_steps = range(20,220,1)\n",
    "values = []\n",
    "for num_time_steps in time_steps:\n",
    "    model = HWTree(sigma, a, num_time_steps)\n",
    "    v = puttable_bond.value(settle_dt, discount_curve, model)\n",
    "    values.append(v['bondwithoption'])"
   ]
  },
  {
   "cell_type": "code",
   "execution_count": 16,
   "metadata": {
    "execution": {
     "iopub.execute_input": "2025-09-14T22:17:12.303273Z",
     "iopub.status.busy": "2025-09-14T22:17:12.303129Z",
     "iopub.status.idle": "2025-09-14T22:17:12.360652Z",
     "shell.execute_reply": "2025-09-14T22:17:12.360316Z"
    }
   },
   "outputs": [
    {
     "data": {
      "image/png": "[encoded data removed]",
      "text/plain": [
       "<Figure size 640x480 with 1 Axes>"
      ]
     },
     "metadata": {},
     "output_type": "display_data"
    }
   ],
   "source": [
    "plt.plot(time_steps, values);"
   ]
  },
  {
   "cell_type": "markdown",
   "metadata": {},
   "source": [
    "Copyright (c) 2020 Dominic O'Kane"
   ]
  }
 ],
 "metadata": {
  "kernelspec": {
   "display_name": "Python 3",
   "language": "python",
   "name": "python3"
  },
  "language_info": {
   "codemirror_mode": {
    "name": "ipython",
    "version": 3
   },
   "file_extension": ".py",
   "mimetype": "text/x-python",
   "name": "python",
   "nbconvert_exporter": "python",
   "pygments_lexer": "ipython3",
   "version": "3.13.7"
  }
 },
 "nbformat": 4,
 "nbformat_minor": 2
}
