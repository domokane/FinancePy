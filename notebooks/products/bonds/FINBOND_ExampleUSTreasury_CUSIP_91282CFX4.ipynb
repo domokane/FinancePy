{
 "cells": [
  {
   "cell_type": "markdown",
   "metadata": {},
   "source": [
    "# FIXED COUPON BOND EXAMPLE TREASURY CUSIP 91282CFX4"
   ]
  },
  {
   "cell_type": "markdown",
   "metadata": {},
   "source": [
    "This is based on a Bloomberg example"
   ]
  },
  {
   "cell_type": "code",
   "execution_count": 1,
   "metadata": {
    "execution": {
     "iopub.execute_input": "2025-08-27T21:41:36.246234Z",
     "iopub.status.busy": "2025-08-27T21:41:36.245926Z",
     "iopub.status.idle": "2025-08-27T21:41:36.754190Z",
     "shell.execute_reply": "2025-08-27T21:41:36.753582Z"
    }
   },
   "outputs": [],
   "source": [
    "import numpy as np\n",
    "import matplotlib.pyplot as plt"
   ]
  },
  {
   "cell_type": "code",
   "execution_count": 2,
   "metadata": {
    "execution": {
     "iopub.execute_input": "2025-08-27T21:41:36.756855Z",
     "iopub.status.busy": "2025-08-27T21:41:36.756483Z",
     "iopub.status.idle": "2025-08-27T21:41:36.762373Z",
     "shell.execute_reply": "2025-08-27T21:41:36.761901Z"
    }
   },
   "outputs": [
    {
     "name": "stdout",
     "output_type": "stream",
     "text": [
      "####################################################################\n",
      "#    FINANCEPY Version 1.1 - This build: 27 Aug 2025 at 23:27      #\n",
      "#     This software is distributed FREE AND WITHOUT ANY WARRANTY   #\n",
      "#  Report bugs as issues at https://github.com/domokane/FinancePy  #\n",
      "####################################################################\n",
      "\n"
     ]
    }
   ],
   "source": [
    "import financepy"
   ]
  },
  {
   "cell_type": "code",
   "execution_count": 3,
   "metadata": {
    "execution": {
     "iopub.execute_input": "2025-08-27T21:41:36.764343Z",
     "iopub.status.busy": "2025-08-27T21:41:36.764133Z",
     "iopub.status.idle": "2025-08-27T21:41:37.924137Z",
     "shell.execute_reply": "2025-08-27T21:41:37.923654Z"
    }
   },
   "outputs": [],
   "source": [
    "from financepy.utils import *\n",
    "from financepy.products.bonds import *"
   ]
  },
  {
   "cell_type": "markdown",
   "metadata": {},
   "source": [
    "# Define the Bond"
   ]
  },
  {
   "cell_type": "code",
   "execution_count": 4,
   "metadata": {
    "execution": {
     "iopub.execute_input": "2025-08-27T21:41:37.926829Z",
     "iopub.status.busy": "2025-08-27T21:41:37.926419Z",
     "iopub.status.idle": "2025-08-27T21:41:37.945753Z",
     "shell.execute_reply": "2025-08-27T21:41:37.945298Z"
    }
   },
   "outputs": [],
   "source": [
    "issue_dt = Date(30, 11, 2022)\n",
    "settle_dt = Date(6, 2, 2023)\n",
    "maturity_dt = Date(30, 11, 2024)\n",
    "coupon = 0.045\n",
    "freq_type = FrequencyTypes.SEMI_ANNUAL\n",
    "dc_type = DayCountTypes.ACT_ACT_ICMA\n",
    "face = ONE_MILLION"
   ]
  },
  {
   "cell_type": "code",
   "execution_count": 5,
   "metadata": {
    "execution": {
     "iopub.execute_input": "2025-08-27T21:41:37.948296Z",
     "iopub.status.busy": "2025-08-27T21:41:37.947970Z",
     "iopub.status.idle": "2025-08-27T21:41:37.951213Z",
     "shell.execute_reply": "2025-08-27T21:41:37.950804Z"
    }
   },
   "outputs": [],
   "source": [
    "bond = Bond(issue_dt, maturity_dt, coupon, freq_type, dc_type)"
   ]
  },
  {
   "cell_type": "code",
   "execution_count": 6,
   "metadata": {
    "execution": {
     "iopub.execute_input": "2025-08-27T21:41:37.953059Z",
     "iopub.status.busy": "2025-08-27T21:41:37.952848Z",
     "iopub.status.idle": "2025-08-27T21:41:37.955180Z",
     "shell.execute_reply": "2025-08-27T21:41:37.954804Z"
    }
   },
   "outputs": [],
   "source": [
    "clean_price = 100+4/32+1/64  # price was quoted as 100-04+"
   ]
  },
  {
   "cell_type": "code",
   "execution_count": 7,
   "metadata": {
    "execution": {
     "iopub.execute_input": "2025-08-27T21:41:37.957424Z",
     "iopub.status.busy": "2025-08-27T21:41:37.957197Z",
     "iopub.status.idle": "2025-08-27T21:41:37.963007Z",
     "shell.execute_reply": "2025-08-27T21:41:37.962297Z"
    }
   },
   "outputs": [
    {
     "data": {
      "text/plain": [
       "100.140625"
      ]
     },
     "execution_count": 7,
     "metadata": {},
     "output_type": "execute_result"
    }
   ],
   "source": [
    "clean_price"
   ]
  },
  {
   "cell_type": "markdown",
   "metadata": {},
   "source": [
    "You can get information about the bond using the print method."
   ]
  },
  {
   "cell_type": "code",
   "execution_count": 8,
   "metadata": {
    "execution": {
     "iopub.execute_input": "2025-08-27T21:41:37.965109Z",
     "iopub.status.busy": "2025-08-27T21:41:37.964777Z",
     "iopub.status.idle": "2025-08-27T21:41:37.967810Z",
     "shell.execute_reply": "2025-08-27T21:41:37.967430Z"
    }
   },
   "outputs": [
    {
     "name": "stdout",
     "output_type": "stream",
     "text": [
      "OBJECT TYPE: Bond\n",
      "ISSUE DATE: 30-NOV-2022\n",
      "MATURITY DATE: 30-NOV-2024\n",
      "COUPON (%): 4.5\n",
      "FREQUENCY: FrequencyTypes.SEMI_ANNUAL\n",
      "DAY COUNT TYPE: DayCountTypes.ACT_ACT_ICMA\n",
      "EX_DIV DAYS: 0\n"
     ]
    }
   ],
   "source": [
    "print(bond)"
   ]
  },
  {
   "cell_type": "markdown",
   "metadata": {},
   "source": [
    "## Bond Cash Flows"
   ]
  },
  {
   "cell_type": "markdown",
   "metadata": {},
   "source": [
    "We first need to set the settlement date of the bond. "
   ]
  },
  {
   "cell_type": "code",
   "execution_count": 9,
   "metadata": {
    "execution": {
     "iopub.execute_input": "2025-08-27T21:41:37.970020Z",
     "iopub.status.busy": "2025-08-27T21:41:37.969765Z",
     "iopub.status.idle": "2025-08-27T21:41:37.972468Z",
     "shell.execute_reply": "2025-08-27T21:41:37.972142Z"
    }
   },
   "outputs": [
    {
     "name": "stdout",
     "output_type": "stream",
     "text": [
      " 31-MAY-2023      2.25000 \n",
      " 30-NOV-2023      2.25000 \n",
      " 31-MAY-2024      2.25000 \n",
      " 30-NOV-2024    102.25000 \n",
      "\n"
     ]
    }
   ],
   "source": [
    "bond.print_payments(settle_dt)"
   ]
  },
  {
   "cell_type": "code",
   "execution_count": 10,
   "metadata": {
    "execution": {
     "iopub.execute_input": "2025-08-27T21:41:37.974581Z",
     "iopub.status.busy": "2025-08-27T21:41:37.974341Z",
     "iopub.status.idle": "2025-08-27T21:41:37.977439Z",
     "shell.execute_reply": "2025-08-27T21:41:37.976919Z"
    }
   },
   "outputs": [
    {
     "name": "stdout",
     "output_type": "stream",
     "text": [
      "0.008406593406593407\n"
     ]
    }
   ],
   "source": [
    "# Accrued Interest\n",
    "ai = bond.accrued_interest(settle_dt, 1.0)\n",
    "print(ai)"
   ]
  },
  {
   "cell_type": "markdown",
   "metadata": {},
   "source": [
    "The convention is to use these dates for yield calculations even if some fall on weekends."
   ]
  },
  {
   "cell_type": "markdown",
   "metadata": {},
   "source": [
    "## Bond Yield Measures"
   ]
  },
  {
   "cell_type": "markdown",
   "metadata": {},
   "source": [
    "Current yield is the coupon over the price"
   ]
  },
  {
   "cell_type": "code",
   "execution_count": 11,
   "metadata": {
    "execution": {
     "iopub.execute_input": "2025-08-27T21:41:37.979557Z",
     "iopub.status.busy": "2025-08-27T21:41:37.979328Z",
     "iopub.status.idle": "2025-08-27T21:41:37.982427Z",
     "shell.execute_reply": "2025-08-27T21:41:37.981943Z"
    }
   },
   "outputs": [
    {
     "name": "stdout",
     "output_type": "stream",
     "text": [
      "Current Yield     4.493681 %\n"
     ]
    }
   ],
   "source": [
    "print(\"Current Yield %12.6f %%\" % (bond.current_yield(clean_price)*100))"
   ]
  },
  {
   "cell_type": "code",
   "execution_count": 12,
   "metadata": {
    "execution": {
     "iopub.execute_input": "2025-08-27T21:41:37.984362Z",
     "iopub.status.busy": "2025-08-27T21:41:37.984156Z",
     "iopub.status.idle": "2025-08-27T21:41:37.986474Z",
     "shell.execute_reply": "2025-08-27T21:41:37.986090Z"
    }
   },
   "outputs": [],
   "source": [
    "calcTypes = [YTMCalcType.UK_DMO, YTMCalcType.US_STREET, YTMCalcType.US_TREASURY]"
   ]
  },
  {
   "cell_type": "markdown",
   "metadata": {},
   "source": [
    "Yield to maturity using different conventions"
   ]
  },
  {
   "cell_type": "code",
   "execution_count": 13,
   "metadata": {
    "execution": {
     "iopub.execute_input": "2025-08-27T21:41:37.988436Z",
     "iopub.status.busy": "2025-08-27T21:41:37.988237Z",
     "iopub.status.idle": "2025-08-27T21:41:37.992593Z",
     "shell.execute_reply": "2025-08-27T21:41:37.992120Z"
    }
   },
   "outputs": [
    {
     "name": "stdout",
     "output_type": "stream",
     "text": [
      "            YTMCalcType.UK_DMO     4.415114\n",
      "         YTMCalcType.US_STREET     4.415114\n",
      "       YTMCalcType.US_TREASURY     4.411863\n"
     ]
    }
   ],
   "source": [
    "for ytmCalcType in calcTypes:\n",
    "    y = bond.yield_to_maturity(settle_dt, clean_price, ytmCalcType)\n",
    "    print(\"%30s %12.6f\" % (ytmCalcType, y*100))"
   ]
  },
  {
   "cell_type": "code",
   "execution_count": 14,
   "metadata": {
    "execution": {
     "iopub.execute_input": "2025-08-27T21:41:37.994787Z",
     "iopub.status.busy": "2025-08-27T21:41:37.994498Z",
     "iopub.status.idle": "2025-08-27T21:41:37.997079Z",
     "shell.execute_reply": "2025-08-27T21:41:37.996651Z"
    }
   },
   "outputs": [],
   "source": [
    "yieldConvention = YTMCalcType.US_STREET"
   ]
  },
  {
   "cell_type": "code",
   "execution_count": 15,
   "metadata": {
    "execution": {
     "iopub.execute_input": "2025-08-27T21:41:37.998798Z",
     "iopub.status.busy": "2025-08-27T21:41:37.998604Z",
     "iopub.status.idle": "2025-08-27T21:41:38.001244Z",
     "shell.execute_reply": "2025-08-27T21:41:38.000892Z"
    }
   },
   "outputs": [],
   "source": [
    "ytm = bond.yield_to_maturity(settle_dt, clean_price, yieldConvention)"
   ]
  },
  {
   "cell_type": "code",
   "execution_count": 16,
   "metadata": {
    "execution": {
     "iopub.execute_input": "2025-08-27T21:41:38.003388Z",
     "iopub.status.busy": "2025-08-27T21:41:38.003148Z",
     "iopub.status.idle": "2025-08-27T21:41:38.006431Z",
     "shell.execute_reply": "2025-08-27T21:41:38.006035Z"
    }
   },
   "outputs": [
    {
     "data": {
      "text/plain": [
       "4.4151139326592315"
      ]
     },
     "execution_count": 16,
     "metadata": {},
     "output_type": "execute_result"
    }
   ],
   "source": [
    "ytm*100"
   ]
  },
  {
   "cell_type": "markdown",
   "metadata": {},
   "source": [
    "Dirty price is the clean price plus accrued interest"
   ]
  },
  {
   "cell_type": "code",
   "execution_count": 17,
   "metadata": {
    "execution": {
     "iopub.execute_input": "2025-08-27T21:41:38.008338Z",
     "iopub.status.busy": "2025-08-27T21:41:38.008073Z",
     "iopub.status.idle": "2025-08-27T21:41:38.011958Z",
     "shell.execute_reply": "2025-08-27T21:41:38.011567Z"
    }
   },
   "outputs": [
    {
     "name": "stdout",
     "output_type": "stream",
     "text": [
      "Dirty Price =  100.9812843\n"
     ]
    }
   ],
   "source": [
    "print(\"Dirty Price = %12.7f\" % bond.dirty_price_from_ytm(settle_dt, ytm, yieldConvention))"
   ]
  },
  {
   "cell_type": "code",
   "execution_count": 18,
   "metadata": {
    "execution": {
     "iopub.execute_input": "2025-08-27T21:41:38.014124Z",
     "iopub.status.busy": "2025-08-27T21:41:38.013743Z",
     "iopub.status.idle": "2025-08-27T21:41:38.016699Z",
     "shell.execute_reply": "2025-08-27T21:41:38.016296Z"
    }
   },
   "outputs": [
    {
     "name": "stdout",
     "output_type": "stream",
     "text": [
      "Clean Price =  100.1406250\n"
     ]
    }
   ],
   "source": [
    "print(\"Clean Price = %12.7f\" % bond.clean_price_from_ytm(settle_dt, ytm, yieldConvention))"
   ]
  },
  {
   "cell_type": "markdown",
   "metadata": {},
   "source": [
    "Accrued interest is accrued from previous coupon date to settlement date"
   ]
  },
  {
   "cell_type": "code",
   "execution_count": 19,
   "metadata": {
    "execution": {
     "iopub.execute_input": "2025-08-27T21:41:38.019090Z",
     "iopub.status.busy": "2025-08-27T21:41:38.018855Z",
     "iopub.status.idle": "2025-08-27T21:41:38.021885Z",
     "shell.execute_reply": "2025-08-27T21:41:38.021514Z"
    }
   },
   "outputs": [
    {
     "name": "stdout",
     "output_type": "stream",
     "text": [
      "Previous coupon date is  30-NOV-2022\n"
     ]
    }
   ],
   "source": [
    "print(\"Previous coupon date is \", bond._pcd)"
   ]
  },
  {
   "cell_type": "code",
   "execution_count": 20,
   "metadata": {
    "execution": {
     "iopub.execute_input": "2025-08-27T21:41:38.023550Z",
     "iopub.status.busy": "2025-08-27T21:41:38.023344Z",
     "iopub.status.idle": "2025-08-27T21:41:38.026075Z",
     "shell.execute_reply": "2025-08-27T21:41:38.025634Z"
    }
   },
   "outputs": [
    {
     "name": "stdout",
     "output_type": "stream",
     "text": [
      "Settlement date is  06-FEB-2023\n"
     ]
    }
   ],
   "source": [
    "print(\"Settlement date is \", settle_dt)"
   ]
  },
  {
   "cell_type": "markdown",
   "metadata": {},
   "source": [
    "The amount of accrued interest is "
   ]
  },
  {
   "cell_type": "code",
   "execution_count": 21,
   "metadata": {
    "execution": {
     "iopub.execute_input": "2025-08-27T21:41:38.028184Z",
     "iopub.status.busy": "2025-08-27T21:41:38.027970Z",
     "iopub.status.idle": "2025-08-27T21:41:38.030631Z",
     "shell.execute_reply": "2025-08-27T21:41:38.030317Z"
    }
   },
   "outputs": [
    {
     "name": "stdout",
     "output_type": "stream",
     "text": [
      "Accrued =         0.84\n"
     ]
    }
   ],
   "source": [
    "print(\"Accrued = %12.2f\" % bond.accrued_int)"
   ]
  },
  {
   "cell_type": "markdown",
   "metadata": {},
   "source": [
    "This is based on the following number of days of accrual"
   ]
  },
  {
   "cell_type": "code",
   "execution_count": 22,
   "metadata": {
    "execution": {
     "iopub.execute_input": "2025-08-27T21:41:38.033122Z",
     "iopub.status.busy": "2025-08-27T21:41:38.032868Z",
     "iopub.status.idle": "2025-08-27T21:41:38.036143Z",
     "shell.execute_reply": "2025-08-27T21:41:38.035566Z"
    }
   },
   "outputs": [
    {
     "name": "stdout",
     "output_type": "stream",
     "text": [
      "Accrued Days = 68\n"
     ]
    }
   ],
   "source": [
    "print(\"Accrued Days = %d\" % bond.accrued_days)"
   ]
  },
  {
   "cell_type": "code",
   "execution_count": 23,
   "metadata": {
    "execution": {
     "iopub.execute_input": "2025-08-27T21:41:38.038234Z",
     "iopub.status.busy": "2025-08-27T21:41:38.037994Z",
     "iopub.status.idle": "2025-08-27T21:41:38.041034Z",
     "shell.execute_reply": "2025-08-27T21:41:38.040684Z"
    }
   },
   "outputs": [
    {
     "name": "stdout",
     "output_type": "stream",
     "text": [
      "Principal =   1009812.83\n"
     ]
    }
   ],
   "source": [
    "print(\"Principal = %12.2f\" % bond.principal(settle_dt, ytm, face, yieldConvention))"
   ]
  },
  {
   "cell_type": "markdown",
   "metadata": {},
   "source": [
    "## Bond Risk Measures"
   ]
  },
  {
   "cell_type": "markdown",
   "metadata": {},
   "source": [
    "The bond dollar duration is the actual derivative with respect to the yield. It is the bond price change for a 1bp drop in the yield-to-maturity divided by 1bp."
   ]
  },
  {
   "cell_type": "code",
   "execution_count": 24,
   "metadata": {
    "execution": {
     "iopub.execute_input": "2025-08-27T21:41:38.042810Z",
     "iopub.status.busy": "2025-08-27T21:41:38.042566Z",
     "iopub.status.idle": "2025-08-27T21:41:38.045366Z",
     "shell.execute_reply": "2025-08-27T21:41:38.045045Z"
    }
   },
   "outputs": [
    {
     "name": "stdout",
     "output_type": "stream",
     "text": [
      "Dollar Duration =  172.72204605944808\n"
     ]
    }
   ],
   "source": [
    "duration = bond.dollar_duration(settle_dt, ytm, yieldConvention)\n",
    "print(\"Dollar Duration = \", duration)"
   ]
  },
  {
   "cell_type": "markdown",
   "metadata": {},
   "source": [
    "Modified Duration divides the dollar duration by the full price of the bond"
   ]
  },
  {
   "cell_type": "code",
   "execution_count": 25,
   "metadata": {
    "execution": {
     "iopub.execute_input": "2025-08-27T21:41:38.047907Z",
     "iopub.status.busy": "2025-08-27T21:41:38.047442Z",
     "iopub.status.idle": "2025-08-27T21:41:38.050674Z",
     "shell.execute_reply": "2025-08-27T21:41:38.050185Z"
    }
   },
   "outputs": [
    {
     "name": "stdout",
     "output_type": "stream",
     "text": [
      "Modified Duration =  1.7104362178348633\n"
     ]
    }
   ],
   "source": [
    "modified_duration = bond.modified_duration(settle_dt, ytm, yieldConvention)\n",
    "print(\"Modified Duration = \", modified_duration)"
   ]
  },
  {
   "cell_type": "markdown",
   "metadata": {},
   "source": [
    "Macauley Duration multiplies the dollar duration by (1+y/f) and divides by the full price"
   ]
  },
  {
   "cell_type": "code",
   "execution_count": 26,
   "metadata": {
    "execution": {
     "iopub.execute_input": "2025-08-27T21:41:38.053476Z",
     "iopub.status.busy": "2025-08-27T21:41:38.053176Z",
     "iopub.status.idle": "2025-08-27T21:41:38.056490Z",
     "shell.execute_reply": "2025-08-27T21:41:38.056119Z"
    }
   },
   "outputs": [
    {
     "name": "stdout",
     "output_type": "stream",
     "text": [
      "Macauley Duration =  1.7481950717163017\n"
     ]
    }
   ],
   "source": [
    "macauley_duration = bond.macauley_duration(settle_dt, ytm, yieldConvention)\n",
    "print(\"Macauley Duration = \", macauley_duration)"
   ]
  },
  {
   "cell_type": "markdown",
   "metadata": {},
   "source": [
    "Convexity is the second derivative of the bond price with respect to the yield-to-maturity"
   ]
  },
  {
   "cell_type": "code",
   "execution_count": 27,
   "metadata": {
    "execution": {
     "iopub.execute_input": "2025-08-27T21:41:38.058876Z",
     "iopub.status.busy": "2025-08-27T21:41:38.058513Z",
     "iopub.status.idle": "2025-08-27T21:41:38.061276Z",
     "shell.execute_reply": "2025-08-27T21:41:38.060902Z"
    }
   },
   "outputs": [
    {
     "name": "stdout",
     "output_type": "stream",
     "text": [
      "Convexity =  0.038312539941741795\n"
     ]
    }
   ],
   "source": [
    "conv = bond.convexity_from_ytm(settle_dt, ytm, yieldConvention)\n",
    "print(\"Convexity = \", conv)"
   ]
  },
  {
   "cell_type": "markdown",
   "metadata": {},
   "source": [
    "Copyright (c) 2022 Dominic O'Kane"
   ]
  }
 ],
 "metadata": {
  "kernelspec": {
   "display_name": "base",
   "language": "python",
   "name": "python3"
  },
  "language_info": {
   "codemirror_mode": {
    "name": "ipython",
    "version": 3
   },
   "file_extension": ".py",
   "mimetype": "text/x-python",
   "name": "python",
   "nbconvert_exporter": "python",
   "pygments_lexer": "ipython3",
   "version": "3.13.5"
  }
 },
 "nbformat": 4,
 "nbformat_minor": 2
}
