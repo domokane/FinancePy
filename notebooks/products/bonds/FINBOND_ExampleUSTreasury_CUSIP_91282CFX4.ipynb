{
 "cells": [
  {
   "cell_type": "markdown",
   "metadata": {},
   "source": [
    "# FIXED COUPON BOND EXAMPLE TREASURY CUSIP 91282CFX4"
   ]
  },
  {
   "cell_type": "markdown",
   "metadata": {},
   "source": [
    "This is based on a Bloomberg example"
   ]
  },
  {
   "cell_type": "code",
   "execution_count": 1,
   "metadata": {
    "execution": {
     "iopub.execute_input": "2025-08-27T22:28:50.462786Z",
     "iopub.status.busy": "2025-08-27T22:28:50.462463Z",
     "iopub.status.idle": "2025-08-27T22:28:50.988690Z",
     "shell.execute_reply": "2025-08-27T22:28:50.988091Z"
    }
   },
   "outputs": [],
   "source": [
    "import numpy as np\n",
    "import matplotlib.pyplot as plt"
   ]
  },
  {
   "cell_type": "code",
   "execution_count": 2,
   "metadata": {
    "execution": {
     "iopub.execute_input": "2025-08-27T22:28:50.990838Z",
     "iopub.status.busy": "2025-08-27T22:28:50.990509Z",
     "iopub.status.idle": "2025-08-27T22:28:50.994214Z",
     "shell.execute_reply": "2025-08-27T22:28:50.993736Z"
    }
   },
   "outputs": [],
   "source": [
    "import financepy"
   ]
  },
  {
   "cell_type": "code",
   "execution_count": 3,
   "metadata": {
    "execution": {
     "iopub.execute_input": "2025-08-27T22:28:50.995932Z",
     "iopub.status.busy": "2025-08-27T22:28:50.995600Z",
     "iopub.status.idle": "2025-08-27T22:28:52.036053Z",
     "shell.execute_reply": "2025-08-27T22:28:52.035537Z"
    }
   },
   "outputs": [],
   "source": [
    "from financepy.utils import *\n",
    "from financepy.products.bonds import *"
   ]
  },
  {
   "cell_type": "markdown",
   "metadata": {},
   "source": [
    "# Define the Bond"
   ]
  },
  {
   "cell_type": "code",
   "execution_count": 4,
   "metadata": {
    "execution": {
     "iopub.execute_input": "2025-08-27T22:28:52.038236Z",
     "iopub.status.busy": "2025-08-27T22:28:52.037816Z",
     "iopub.status.idle": "2025-08-27T22:28:52.055268Z",
     "shell.execute_reply": "2025-08-27T22:28:52.054846Z"
    }
   },
   "outputs": [],
   "source": [
    "issue_dt = Date(30, 11, 2022)\n",
    "settle_dt = Date(6, 2, 2023)\n",
    "maturity_dt = Date(30, 11, 2024)\n",
    "coupon = 0.045\n",
    "freq_type = FrequencyTypes.SEMI_ANNUAL\n",
    "dc_type = DayCountTypes.ACT_ACT_ICMA\n",
    "face = ONE_MILLION"
   ]
  },
  {
   "cell_type": "code",
   "execution_count": 5,
   "metadata": {
    "execution": {
     "iopub.execute_input": "2025-08-27T22:28:52.057108Z",
     "iopub.status.busy": "2025-08-27T22:28:52.056894Z",
     "iopub.status.idle": "2025-08-27T22:28:52.059928Z",
     "shell.execute_reply": "2025-08-27T22:28:52.059517Z"
    }
   },
   "outputs": [],
   "source": [
    "bond = Bond(issue_dt, maturity_dt, coupon, freq_type, dc_type)"
   ]
  },
  {
   "cell_type": "code",
   "execution_count": 6,
   "metadata": {
    "execution": {
     "iopub.execute_input": "2025-08-27T22:28:52.061710Z",
     "iopub.status.busy": "2025-08-27T22:28:52.061381Z",
     "iopub.status.idle": "2025-08-27T22:28:52.063795Z",
     "shell.execute_reply": "2025-08-27T22:28:52.063484Z"
    }
   },
   "outputs": [],
   "source": [
    "clean_price = 100+4/32+1/64  # price was quoted as 100-04+"
   ]
  },
  {
   "cell_type": "code",
   "execution_count": 7,
   "metadata": {
    "execution": {
     "iopub.execute_input": "2025-08-27T22:28:52.065466Z",
     "iopub.status.busy": "2025-08-27T22:28:52.065282Z",
     "iopub.status.idle": "2025-08-27T22:28:52.070664Z",
     "shell.execute_reply": "2025-08-27T22:28:52.070341Z"
    }
   },
   "outputs": [
    {
     "data": {
      "text/plain": [
       "100.140625"
      ]
     },
     "execution_count": 7,
     "metadata": {},
     "output_type": "execute_result"
    }
   ],
   "source": [
    "clean_price"
   ]
  },
  {
   "cell_type": "markdown",
   "metadata": {},
   "source": [
    "You can get information about the bond using the print method."
   ]
  },
  {
   "cell_type": "code",
   "execution_count": 8,
   "metadata": {
    "execution": {
     "iopub.execute_input": "2025-08-27T22:28:52.072290Z",
     "iopub.status.busy": "2025-08-27T22:28:52.072131Z",
     "iopub.status.idle": "2025-08-27T22:28:52.075705Z",
     "shell.execute_reply": "2025-08-27T22:28:52.075239Z"
    }
   },
   "outputs": [
    {
     "name": "stdout",
     "output_type": "stream",
     "text": [
      "OBJECT TYPE: Bond\n",
      "ISSUE DATE: 30-NOV-2022\n",
      "MATURITY DATE: 30-NOV-2024\n",
      "COUPON (%): 4.5\n",
      "FREQUENCY: FrequencyTypes.SEMI_ANNUAL\n",
      "DAY COUNT TYPE: DayCountTypes.ACT_ACT_ICMA\n",
      "EX_DIV DAYS: 0\n"
     ]
    }
   ],
   "source": [
    "print(bond)"
   ]
  },
  {
   "cell_type": "markdown",
   "metadata": {},
   "source": [
    "## Bond Cash Flows"
   ]
  },
  {
   "cell_type": "markdown",
   "metadata": {},
   "source": [
    "We first need to set the settlement date of the bond. "
   ]
  },
  {
   "cell_type": "code",
   "execution_count": 9,
   "metadata": {
    "execution": {
     "iopub.execute_input": "2025-08-27T22:28:52.077421Z",
     "iopub.status.busy": "2025-08-27T22:28:52.077229Z",
     "iopub.status.idle": "2025-08-27T22:28:52.080027Z",
     "shell.execute_reply": "2025-08-27T22:28:52.079545Z"
    }
   },
   "outputs": [
    {
     "name": "stdout",
     "output_type": "stream",
     "text": [
      " 31-MAY-2023      2.25000 \n",
      " 30-NOV-2023      2.25000 \n",
      " 31-MAY-2024      2.25000 \n",
      " 30-NOV-2024    102.25000 \n",
      "\n"
     ]
    }
   ],
   "source": [
    "bond.print_payments(settle_dt)"
   ]
  },
  {
   "cell_type": "code",
   "execution_count": 10,
   "metadata": {
    "execution": {
     "iopub.execute_input": "2025-08-27T22:28:52.081637Z",
     "iopub.status.busy": "2025-08-27T22:28:52.081398Z",
     "iopub.status.idle": "2025-08-27T22:28:52.084387Z",
     "shell.execute_reply": "2025-08-27T22:28:52.084071Z"
    }
   },
   "outputs": [
    {
     "name": "stdout",
     "output_type": "stream",
     "text": [
      "0.008406593406593407\n"
     ]
    }
   ],
   "source": [
    "# Accrued Interest\n",
    "ai = bond.accrued_interest(settle_dt, 1.0)\n",
    "print(ai)"
   ]
  },
  {
   "cell_type": "markdown",
   "metadata": {},
   "source": [
    "The convention is to use these dates for yield calculations even if some fall on weekends."
   ]
  },
  {
   "cell_type": "markdown",
   "metadata": {},
   "source": [
    "## Bond Yield Measures"
   ]
  },
  {
   "cell_type": "markdown",
   "metadata": {},
   "source": [
    "Current yield is the coupon over the price"
   ]
  },
  {
   "cell_type": "code",
   "execution_count": 11,
   "metadata": {
    "execution": {
     "iopub.execute_input": "2025-08-27T22:28:52.086365Z",
     "iopub.status.busy": "2025-08-27T22:28:52.086148Z",
     "iopub.status.idle": "2025-08-27T22:28:52.089219Z",
     "shell.execute_reply": "2025-08-27T22:28:52.088820Z"
    }
   },
   "outputs": [
    {
     "name": "stdout",
     "output_type": "stream",
     "text": [
      "Current Yield     4.493681 %\n"
     ]
    }
   ],
   "source": [
    "print(\"Current Yield %12.6f %%\" % (bond.current_yield(clean_price)*100))"
   ]
  },
  {
   "cell_type": "code",
   "execution_count": 12,
   "metadata": {
    "execution": {
     "iopub.execute_input": "2025-08-27T22:28:52.091213Z",
     "iopub.status.busy": "2025-08-27T22:28:52.090852Z",
     "iopub.status.idle": "2025-08-27T22:28:52.093292Z",
     "shell.execute_reply": "2025-08-27T22:28:52.092902Z"
    }
   },
   "outputs": [],
   "source": [
    "calcTypes = [YTMCalcType.UK_DMO, YTMCalcType.US_STREET, YTMCalcType.US_TREASURY]"
   ]
  },
  {
   "cell_type": "markdown",
   "metadata": {},
   "source": [
    "Yield to maturity using different conventions"
   ]
  },
  {
   "cell_type": "code",
   "execution_count": 13,
   "metadata": {
    "execution": {
     "iopub.execute_input": "2025-08-27T22:28:52.094948Z",
     "iopub.status.busy": "2025-08-27T22:28:52.094643Z",
     "iopub.status.idle": "2025-08-27T22:28:52.098570Z",
     "shell.execute_reply": "2025-08-27T22:28:52.098229Z"
    }
   },
   "outputs": [
    {
     "name": "stdout",
     "output_type": "stream",
     "text": [
      "            YTMCalcType.UK_DMO     4.415114\n",
      "         YTMCalcType.US_STREET     4.415114\n",
      "       YTMCalcType.US_TREASURY     4.411863\n"
     ]
    }
   ],
   "source": [
    "for ytmCalcType in calcTypes:\n",
    "    y = bond.yield_to_maturity(settle_dt, clean_price, ytmCalcType)\n",
    "    print(\"%30s %12.6f\" % (ytmCalcType, y*100))"
   ]
  },
  {
   "cell_type": "code",
   "execution_count": 14,
   "metadata": {
    "execution": {
     "iopub.execute_input": "2025-08-27T22:28:52.100369Z",
     "iopub.status.busy": "2025-08-27T22:28:52.100174Z",
     "iopub.status.idle": "2025-08-27T22:28:52.102526Z",
     "shell.execute_reply": "2025-08-27T22:28:52.102132Z"
    }
   },
   "outputs": [],
   "source": [
    "yieldConvention = YTMCalcType.US_STREET"
   ]
  },
  {
   "cell_type": "code",
   "execution_count": 15,
   "metadata": {
    "execution": {
     "iopub.execute_input": "2025-08-27T22:28:52.104490Z",
     "iopub.status.busy": "2025-08-27T22:28:52.104236Z",
     "iopub.status.idle": "2025-08-27T22:28:52.107206Z",
     "shell.execute_reply": "2025-08-27T22:28:52.106814Z"
    }
   },
   "outputs": [],
   "source": [
    "ytm = bond.yield_to_maturity(settle_dt, clean_price, yieldConvention)"
   ]
  },
  {
   "cell_type": "code",
   "execution_count": 16,
   "metadata": {
    "execution": {
     "iopub.execute_input": "2025-08-27T22:28:52.108783Z",
     "iopub.status.busy": "2025-08-27T22:28:52.108594Z",
     "iopub.status.idle": "2025-08-27T22:28:52.111663Z",
     "shell.execute_reply": "2025-08-27T22:28:52.111248Z"
    }
   },
   "outputs": [
    {
     "data": {
      "text/plain": [
       "4.4151139326592315"
      ]
     },
     "execution_count": 16,
     "metadata": {},
     "output_type": "execute_result"
    }
   ],
   "source": [
    "ytm*100"
   ]
  },
  {
   "cell_type": "markdown",
   "metadata": {},
   "source": [
    "Dirty price is the clean price plus accrued interest"
   ]
  },
  {
   "cell_type": "code",
   "execution_count": 17,
   "metadata": {
    "execution": {
     "iopub.execute_input": "2025-08-27T22:28:52.113330Z",
     "iopub.status.busy": "2025-08-27T22:28:52.113132Z",
     "iopub.status.idle": "2025-08-27T22:28:52.115978Z",
     "shell.execute_reply": "2025-08-27T22:28:52.115595Z"
    }
   },
   "outputs": [
    {
     "name": "stdout",
     "output_type": "stream",
     "text": [
      "Dirty Price =  100.9812843\n"
     ]
    }
   ],
   "source": [
    "print(\"Dirty Price = %12.7f\" % bond.dirty_price_from_ytm(settle_dt, ytm, yieldConvention))"
   ]
  },
  {
   "cell_type": "code",
   "execution_count": 18,
   "metadata": {
    "execution": {
     "iopub.execute_input": "2025-08-27T22:28:52.117919Z",
     "iopub.status.busy": "2025-08-27T22:28:52.117677Z",
     "iopub.status.idle": "2025-08-27T22:28:52.120407Z",
     "shell.execute_reply": "2025-08-27T22:28:52.120089Z"
    }
   },
   "outputs": [
    {
     "name": "stdout",
     "output_type": "stream",
     "text": [
      "Clean Price =  100.1406250\n"
     ]
    }
   ],
   "source": [
    "print(\"Clean Price = %12.7f\" % bond.clean_price_from_ytm(settle_dt, ytm, yieldConvention))"
   ]
  },
  {
   "cell_type": "markdown",
   "metadata": {},
   "source": [
    "Accrued interest is accrued from previous coupon date to settlement date"
   ]
  },
  {
   "cell_type": "code",
   "execution_count": 19,
   "metadata": {
    "execution": {
     "iopub.execute_input": "2025-08-27T22:28:52.122449Z",
     "iopub.status.busy": "2025-08-27T22:28:52.122224Z",
     "iopub.status.idle": "2025-08-27T22:28:52.124805Z",
     "shell.execute_reply": "2025-08-27T22:28:52.124494Z"
    }
   },
   "outputs": [
    {
     "name": "stdout",
     "output_type": "stream",
     "text": [
      "Previous coupon date is  30-NOV-2022\n"
     ]
    }
   ],
   "source": [
    "print(\"Previous coupon date is \", bond._pcd)"
   ]
  },
  {
   "cell_type": "code",
   "execution_count": 20,
   "metadata": {
    "execution": {
     "iopub.execute_input": "2025-08-27T22:28:52.126461Z",
     "iopub.status.busy": "2025-08-27T22:28:52.126156Z",
     "iopub.status.idle": "2025-08-27T22:28:52.129337Z",
     "shell.execute_reply": "2025-08-27T22:28:52.128845Z"
    }
   },
   "outputs": [
    {
     "name": "stdout",
     "output_type": "stream",
     "text": [
      "Settlement date is  06-FEB-2023\n"
     ]
    }
   ],
   "source": [
    "print(\"Settlement date is \", settle_dt)"
   ]
  },
  {
   "cell_type": "markdown",
   "metadata": {},
   "source": [
    "The amount of accrued interest is "
   ]
  },
  {
   "cell_type": "code",
   "execution_count": 21,
   "metadata": {
    "execution": {
     "iopub.execute_input": "2025-08-27T22:28:52.131020Z",
     "iopub.status.busy": "2025-08-27T22:28:52.130787Z",
     "iopub.status.idle": "2025-08-27T22:28:52.133591Z",
     "shell.execute_reply": "2025-08-27T22:28:52.133098Z"
    }
   },
   "outputs": [
    {
     "name": "stdout",
     "output_type": "stream",
     "text": [
      "Accrued =         0.84\n"
     ]
    }
   ],
   "source": [
    "print(\"Accrued = %12.2f\" % bond.accrued_int)"
   ]
  },
  {
   "cell_type": "markdown",
   "metadata": {},
   "source": [
    "This is based on the following number of days of accrual"
   ]
  },
  {
   "cell_type": "code",
   "execution_count": 22,
   "metadata": {
    "execution": {
     "iopub.execute_input": "2025-08-27T22:28:52.135732Z",
     "iopub.status.busy": "2025-08-27T22:28:52.135387Z",
     "iopub.status.idle": "2025-08-27T22:28:52.137946Z",
     "shell.execute_reply": "2025-08-27T22:28:52.137550Z"
    }
   },
   "outputs": [
    {
     "name": "stdout",
     "output_type": "stream",
     "text": [
      "Accrued Days = 68\n"
     ]
    }
   ],
   "source": [
    "print(\"Accrued Days = %d\" % bond.accrued_days)"
   ]
  },
  {
   "cell_type": "code",
   "execution_count": 23,
   "metadata": {
    "execution": {
     "iopub.execute_input": "2025-08-27T22:28:52.139645Z",
     "iopub.status.busy": "2025-08-27T22:28:52.139407Z",
     "iopub.status.idle": "2025-08-27T22:28:52.142249Z",
     "shell.execute_reply": "2025-08-27T22:28:52.141840Z"
    }
   },
   "outputs": [
    {
     "name": "stdout",
     "output_type": "stream",
     "text": [
      "Principal =   1009812.83\n"
     ]
    }
   ],
   "source": [
    "print(\"Principal = %12.2f\" % bond.principal(settle_dt, ytm, face, yieldConvention))"
   ]
  },
  {
   "cell_type": "markdown",
   "metadata": {},
   "source": [
    "## Bond Risk Measures"
   ]
  },
  {
   "cell_type": "markdown",
   "metadata": {},
   "source": [
    "The bond dollar duration is the actual derivative with respect to the yield. It is the bond price change for a 1bp drop in the yield-to-maturity divided by 1bp."
   ]
  },
  {
   "cell_type": "code",
   "execution_count": 24,
   "metadata": {
    "execution": {
     "iopub.execute_input": "2025-08-27T22:28:52.143943Z",
     "iopub.status.busy": "2025-08-27T22:28:52.143695Z",
     "iopub.status.idle": "2025-08-27T22:28:52.146936Z",
     "shell.execute_reply": "2025-08-27T22:28:52.146456Z"
    }
   },
   "outputs": [
    {
     "name": "stdout",
     "output_type": "stream",
     "text": [
      "Dollar Duration =  172.72204605944808\n"
     ]
    }
   ],
   "source": [
    "duration = bond.dollar_duration(settle_dt, ytm, yieldConvention)\n",
    "print(\"Dollar Duration = \", duration)"
   ]
  },
  {
   "cell_type": "markdown",
   "metadata": {},
   "source": [
    "Modified Duration divides the dollar duration by the full price of the bond"
   ]
  },
  {
   "cell_type": "code",
   "execution_count": 25,
   "metadata": {
    "execution": {
     "iopub.execute_input": "2025-08-27T22:28:52.149035Z",
     "iopub.status.busy": "2025-08-27T22:28:52.148813Z",
     "iopub.status.idle": "2025-08-27T22:28:52.151827Z",
     "shell.execute_reply": "2025-08-27T22:28:52.151421Z"
    }
   },
   "outputs": [
    {
     "name": "stdout",
     "output_type": "stream",
     "text": [
      "Modified Duration =  1.7104362178348633\n"
     ]
    }
   ],
   "source": [
    "modified_duration = bond.modified_duration(settle_dt, ytm, yieldConvention)\n",
    "print(\"Modified Duration = \", modified_duration)"
   ]
  },
  {
   "cell_type": "markdown",
   "metadata": {},
   "source": [
    "Macauley Duration multiplies the dollar duration by (1+y/f) and divides by the full price"
   ]
  },
  {
   "cell_type": "code",
   "execution_count": 26,
   "metadata": {
    "execution": {
     "iopub.execute_input": "2025-08-27T22:28:52.153678Z",
     "iopub.status.busy": "2025-08-27T22:28:52.153440Z",
     "iopub.status.idle": "2025-08-27T22:28:52.156926Z",
     "shell.execute_reply": "2025-08-27T22:28:52.156427Z"
    }
   },
   "outputs": [
    {
     "name": "stdout",
     "output_type": "stream",
     "text": [
      "Macauley Duration =  1.7481950717163017\n"
     ]
    }
   ],
   "source": [
    "macauley_duration = bond.macauley_duration(settle_dt, ytm, yieldConvention)\n",
    "print(\"Macauley Duration = \", macauley_duration)"
   ]
  },
  {
   "cell_type": "markdown",
   "metadata": {},
   "source": [
    "Convexity is the second derivative of the bond price with respect to the yield-to-maturity"
   ]
  },
  {
   "cell_type": "code",
   "execution_count": 27,
   "metadata": {
    "execution": {
     "iopub.execute_input": "2025-08-27T22:28:52.158643Z",
     "iopub.status.busy": "2025-08-27T22:28:52.158294Z",
     "iopub.status.idle": "2025-08-27T22:28:52.161451Z",
     "shell.execute_reply": "2025-08-27T22:28:52.161079Z"
    }
   },
   "outputs": [
    {
     "name": "stdout",
     "output_type": "stream",
     "text": [
      "Convexity =  0.038312539941741795\n"
     ]
    }
   ],
   "source": [
    "conv = bond.convexity_from_ytm(settle_dt, ytm, yieldConvention)\n",
    "print(\"Convexity = \", conv)"
   ]
  },
  {
   "cell_type": "markdown",
   "metadata": {},
   "source": [
    "Copyright (c) 2022 Dominic O'Kane"
   ]
  }
 ],
 "metadata": {
  "kernelspec": {
   "display_name": "base",
   "language": "python",
   "name": "python3"
  },
  "language_info": {
   "codemirror_mode": {
    "name": "ipython",
    "version": 3
   },
   "file_extension": ".py",
   "mimetype": "text/x-python",
   "name": "python",
   "nbconvert_exporter": "python",
   "pygments_lexer": "ipython3",
   "version": "3.13.5"
  }
 },
 "nbformat": 4,
 "nbformat_minor": 2
}
