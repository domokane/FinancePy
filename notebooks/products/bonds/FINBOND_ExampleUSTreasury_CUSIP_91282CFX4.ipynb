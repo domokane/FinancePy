{
    "cells": [
        {
            "cell_type": "markdown",
            "metadata": {},
            "source": [
                "# FIXED COUPON BOND EXAMPLE TREASURY CUSIP 91282CFX4"
            ]
        },
        {
            "cell_type": "markdown",
            "metadata": {},
            "source": [
                "This is based on a Bloomberg example"
            ]
        },
        {
            "cell_type": "code",
            "execution_count": 1,
            "metadata": {
                "execution": {
                    "iopub.execute_input": "2024-04-30T19:50:32.734560Z",
                    "iopub.status.busy": "2024-04-30T19:50:32.733563Z",
                    "iopub.status.idle": "2024-04-30T19:50:33.473615Z",
                    "shell.execute_reply": "2024-04-30T19:50:33.473615Z"
                }
            },
            "outputs": [],
            "source": [
                "import numpy as np\n",
                "import matplotlib.pyplot as plt"
            ]
        },
        {
            "cell_type": "code",
            "execution_count": 2,
            "metadata": {
                "execution": {
                    "iopub.execute_input": "2024-04-30T19:50:33.477611Z",
                    "iopub.status.busy": "2024-04-30T19:50:33.476644Z",
                    "iopub.status.idle": "2024-04-30T19:50:33.483161Z",
                    "shell.execute_reply": "2024-04-30T19:50:33.483161Z"
                }
            },
            "outputs": [
                {
                    "name": "stdout",
                    "output_type": "stream",
                    "text": [
                        "####################################################################\n",
                        "#  FINANCEPY BETA Version 0.350 - This build: 30 Apr 2024 at 21:20 #\n",
                        "#     This software is distributed FREE AND WITHOUT ANY WARRANTY   #\n",
                        "#  Report bugs as issues at https://github.com/domokane/FinancePy  #\n",
                        "####################################################################\n",
                        "\n"
                    ]
                }
            ],
            "source": [
                "import financepy"
            ]
        },
        {
            "cell_type": "code",
            "execution_count": 3,
            "metadata": {
                "execution": {
                    "iopub.execute_input": "2024-04-30T19:50:33.486193Z",
                    "iopub.status.busy": "2024-04-30T19:50:33.486193Z",
                    "iopub.status.idle": "2024-04-30T19:50:34.689417Z",
                    "shell.execute_reply": "2024-04-30T19:50:34.689417Z"
                }
            },
            "outputs": [],
            "source": [
                "from financepy.utils import *\n",
                "from financepy.products.bonds import *"
            ]
        },
        {
            "cell_type": "markdown",
            "metadata": {},
            "source": [
                "# Define the Bond"
            ]
        },
        {
            "cell_type": "code",
            "execution_count": 4,
            "metadata": {
                "execution": {
                    "iopub.execute_input": "2024-04-30T19:50:34.691790Z",
                    "iopub.status.busy": "2024-04-30T19:50:34.691790Z",
                    "iopub.status.idle": "2024-04-30T19:50:34.712338Z",
                    "shell.execute_reply": "2024-04-30T19:50:34.711836Z"
                }
            },
            "outputs": [],
            "source": [
                "issue_dt = Date(30, 11, 2022)\n",
                "settle_dt = Date(6, 2, 2023)\n",
                "maturity_dt = Date(30, 11, 2024)\n",
                "coupon = 0.045\n",
                "freq_type = FrequencyTypes.SEMI_ANNUAL\n",
                "dc_type = DayCountTypes.ACT_ACT_ICMA\n",
                "face = ONE_MILLION"
            ]
        },
        {
            "cell_type": "code",
            "execution_count": 5,
            "metadata": {
                "execution": {
                    "iopub.execute_input": "2024-04-30T19:50:34.714335Z",
                    "iopub.status.busy": "2024-04-30T19:50:34.714335Z",
                    "iopub.status.idle": "2024-04-30T19:50:34.718217Z",
                    "shell.execute_reply": "2024-04-30T19:50:34.717968Z"
                }
            },
            "outputs": [],
            "source": [
                "bond = Bond(issue_dt, maturity_dt, coupon, freq_type, dc_type)"
            ]
        },
        {
            "cell_type": "code",
            "execution_count": 6,
            "metadata": {
                "execution": {
                    "iopub.execute_input": "2024-04-30T19:50:34.719724Z",
                    "iopub.status.busy": "2024-04-30T19:50:34.719724Z",
                    "iopub.status.idle": "2024-04-30T19:50:34.723006Z",
                    "shell.execute_reply": "2024-04-30T19:50:34.723006Z"
                }
            },
            "outputs": [],
            "source": [
                "clean_price = 100+4/32+1/64  # price was quoted as 100-04+"
            ]
        },
        {
            "cell_type": "code",
            "execution_count": 7,
            "metadata": {
                "execution": {
                    "iopub.execute_input": "2024-04-30T19:50:34.725637Z",
                    "iopub.status.busy": "2024-04-30T19:50:34.725534Z",
                    "iopub.status.idle": "2024-04-30T19:50:34.730829Z",
                    "shell.execute_reply": "2024-04-30T19:50:34.730587Z"
                }
            },
            "outputs": [
                {
                    "data": {
                        "text/plain": [
                            "100.140625"
                        ]
                    },
                    "execution_count": 7,
                    "metadata": {},
                    "output_type": "execute_result"
                }
            ],
            "source": [
                "clean_price"
            ]
        },
        {
            "cell_type": "markdown",
            "metadata": {},
            "source": [
                "You can get information about the bond using the print method."
            ]
        },
        {
            "cell_type": "code",
            "execution_count": 8,
            "metadata": {
                "execution": {
                    "iopub.execute_input": "2024-04-30T19:50:34.732865Z",
                    "iopub.status.busy": "2024-04-30T19:50:34.732865Z",
                    "iopub.status.idle": "2024-04-30T19:50:34.736410Z",
                    "shell.execute_reply": "2024-04-30T19:50:34.736410Z"
                }
            },
            "outputs": [
                {
                    "name": "stdout",
                    "output_type": "stream",
                    "text": [
                        "OBJECT TYPE: Bond\n",
                        "ISSUE DATE: 30-NOV-2022\n",
                        "MATURITY DATE: 30-NOV-2024\n",
                        "COUPON (%): 4.5\n",
                        "FREQUENCY: FrequencyTypes.SEMI_ANNUAL\n",
                        "DAY COUNT TYPE: DayCountTypes.ACT_ACT_ICMA\n",
                        "EX_DIV DAYS: 0\n"
                    ]
                }
            ],
            "source": [
                "print(bond)"
            ]
        },
        {
            "cell_type": "markdown",
            "metadata": {},
            "source": [
                "## Bond Cash Flows"
            ]
        },
        {
            "cell_type": "markdown",
            "metadata": {},
            "source": [
                "We first need to set the settlement date of the bond. "
            ]
        },
        {
            "cell_type": "code",
            "execution_count": 9,
            "metadata": {
                "execution": {
                    "iopub.execute_input": "2024-04-30T19:50:34.738438Z",
                    "iopub.status.busy": "2024-04-30T19:50:34.738438Z",
                    "iopub.status.idle": "2024-04-30T19:50:34.741798Z",
                    "shell.execute_reply": "2024-04-30T19:50:34.741798Z"
                }
            },
            "outputs": [
                {
                    "name": "stdout",
                    "output_type": "stream",
                    "text": [
                        " 31-MAY-2023      2.25000 \n",
                        " 30-NOV-2023      2.25000 \n",
                        " 31-MAY-2024      2.25000 \n",
                        " 30-NOV-2024    102.25000 \n",
                        "\n"
                    ]
                }
            ],
            "source": [
                "bond.print_payments(settle_dt)"
            ]
        },
        {
            "cell_type": "code",
            "execution_count": 10,
            "metadata": {
                "execution": {
                    "iopub.execute_input": "2024-04-30T19:50:34.743830Z",
                    "iopub.status.busy": "2024-04-30T19:50:34.743830Z",
                    "iopub.status.idle": "2024-04-30T19:50:34.747902Z",
                    "shell.execute_reply": "2024-04-30T19:50:34.747314Z"
                }
            },
            "outputs": [
                {
                    "name": "stdout",
                    "output_type": "stream",
                    "text": [
                        "0.008406593406593407\n"
                    ]
                }
            ],
            "source": [
                "# Accrued Interest\n",
                "ai = bond.accrued_interest(settle_dt, 1.0)\n",
                "print(ai)"
            ]
        },
        {
            "cell_type": "markdown",
            "metadata": {},
            "source": [
                "The convention is to use these dates for yield calculations even if some fall on weekends."
            ]
        },
        {
            "cell_type": "markdown",
            "metadata": {},
            "source": [
                "## Bond Yield Measures"
            ]
        },
        {
            "cell_type": "markdown",
            "metadata": {},
            "source": [
                "Current yield is the coupon over the price"
            ]
        },
        {
            "cell_type": "code",
            "execution_count": 11,
            "metadata": {
                "execution": {
                    "iopub.execute_input": "2024-04-30T19:50:34.749462Z",
                    "iopub.status.busy": "2024-04-30T19:50:34.749462Z",
                    "iopub.status.idle": "2024-04-30T19:50:34.753279Z",
                    "shell.execute_reply": "2024-04-30T19:50:34.752863Z"
                }
            },
            "outputs": [
                {
                    "name": "stdout",
                    "output_type": "stream",
                    "text": [
                        "Current Yield     4.493681 %\n"
                    ]
                }
            ],
            "source": [
                "print(\"Current Yield %12.6f %%\" % (bond.current_yield(clean_price)*100))"
            ]
        },
        {
            "cell_type": "code",
            "execution_count": 12,
            "metadata": {
                "execution": {
                    "iopub.execute_input": "2024-04-30T19:50:34.755278Z",
                    "iopub.status.busy": "2024-04-30T19:50:34.755278Z",
                    "iopub.status.idle": "2024-04-30T19:50:34.757879Z",
                    "shell.execute_reply": "2024-04-30T19:50:34.757879Z"
                }
            },
            "outputs": [],
            "source": [
                "calcTypes = [YTMCalcType.UK_DMO, YTMCalcType.US_STREET, YTMCalcType.US_TREASURY]"
            ]
        },
        {
            "cell_type": "markdown",
            "metadata": {},
            "source": [
                "Yield to maturity using different conventions"
            ]
        },
        {
            "cell_type": "code",
            "execution_count": 13,
            "metadata": {
                "execution": {
                    "iopub.execute_input": "2024-04-30T19:50:34.760878Z",
                    "iopub.status.busy": "2024-04-30T19:50:34.759911Z",
                    "iopub.status.idle": "2024-04-30T19:50:34.765040Z",
                    "shell.execute_reply": "2024-04-30T19:50:34.764808Z"
                }
            },
            "outputs": [
                {
                    "name": "stdout",
                    "output_type": "stream",
                    "text": [
                        "            YTMCalcType.UK_DMO     4.415114\n",
                        "         YTMCalcType.US_STREET     4.415114\n",
                        "       YTMCalcType.US_TREASURY     4.411863\n"
                    ]
                }
            ],
            "source": [
                "for ytmCalcType in calcTypes:\n",
                "    y = bond.yield_to_maturity(settle_dt, clean_price, ytmCalcType)\n",
                "    print(\"%30s %12.6f\" % (ytmCalcType, y*100))"
            ]
        },
        {
            "cell_type": "code",
            "execution_count": 14,
            "metadata": {
                "execution": {
                    "iopub.execute_input": "2024-04-30T19:50:34.767545Z",
                    "iopub.status.busy": "2024-04-30T19:50:34.767039Z",
                    "iopub.status.idle": "2024-04-30T19:50:34.769703Z",
                    "shell.execute_reply": "2024-04-30T19:50:34.769703Z"
                }
            },
            "outputs": [],
            "source": [
                "yieldConvention = YTMCalcType.US_STREET"
            ]
        },
        {
            "cell_type": "code",
            "execution_count": 15,
            "metadata": {
                "execution": {
                    "iopub.execute_input": "2024-04-30T19:50:34.772730Z",
                    "iopub.status.busy": "2024-04-30T19:50:34.772730Z",
                    "iopub.status.idle": "2024-04-30T19:50:34.776176Z",
                    "shell.execute_reply": "2024-04-30T19:50:34.776176Z"
                }
            },
            "outputs": [],
            "source": [
                "ytm = bond.yield_to_maturity(settle_dt, clean_price, yieldConvention)"
            ]
        },
        {
            "cell_type": "code",
            "execution_count": 16,
            "metadata": {
                "execution": {
                    "iopub.execute_input": "2024-04-30T19:50:34.779742Z",
                    "iopub.status.busy": "2024-04-30T19:50:34.778744Z",
                    "iopub.status.idle": "2024-04-30T19:50:34.783744Z",
                    "shell.execute_reply": "2024-04-30T19:50:34.783002Z"
                }
            },
            "outputs": [
                {
                    "data": {
                        "text/plain": [
                            "4.415113932558936"
                        ]
                    },
                    "execution_count": 16,
                    "metadata": {},
                    "output_type": "execute_result"
                }
            ],
            "source": [
                "ytm*100"
            ]
        },
        {
            "cell_type": "markdown",
            "metadata": {},
            "source": [
                "Dirty price is the clean price plus accrued interest"
            ]
        },
        {
            "cell_type": "code",
            "execution_count": 17,
            "metadata": {
                "execution": {
                    "iopub.execute_input": "2024-04-30T19:50:34.785743Z",
                    "iopub.status.busy": "2024-04-30T19:50:34.785743Z",
                    "iopub.status.idle": "2024-04-30T19:50:34.788695Z",
                    "shell.execute_reply": "2024-04-30T19:50:34.788695Z"
                }
            },
            "outputs": [
                {
                    "name": "stdout",
                    "output_type": "stream",
                    "text": [
                        "Dirty Price =  100.9812843\n"
                    ]
                }
            ],
            "source": [
                "print(\"Dirty Price = %12.7f\" % bond.dirty_price_from_ytm(settle_dt, ytm, yieldConvention))"
            ]
        },
        {
            "cell_type": "code",
            "execution_count": 18,
            "metadata": {
                "execution": {
                    "iopub.execute_input": "2024-04-30T19:50:34.791750Z",
                    "iopub.status.busy": "2024-04-30T19:50:34.791750Z",
                    "iopub.status.idle": "2024-04-30T19:50:34.795378Z",
                    "shell.execute_reply": "2024-04-30T19:50:34.794839Z"
                }
            },
            "outputs": [
                {
                    "name": "stdout",
                    "output_type": "stream",
                    "text": [
                        "Clean Price =  100.1406250\n"
                    ]
                }
            ],
            "source": [
                "print(\"Clean Price = %12.7f\" % bond.clean_price_from_ytm(settle_dt, ytm, yieldConvention))"
            ]
        },
        {
            "cell_type": "markdown",
            "metadata": {},
            "source": [
                "Accrued interest is accrued from previous coupon date to settlement date"
            ]
        },
        {
            "cell_type": "code",
            "execution_count": 19,
            "metadata": {
                "execution": {
                    "iopub.execute_input": "2024-04-30T19:50:34.797911Z",
                    "iopub.status.busy": "2024-04-30T19:50:34.797405Z",
                    "iopub.status.idle": "2024-04-30T19:50:34.801313Z",
                    "shell.execute_reply": "2024-04-30T19:50:34.801313Z"
                }
            },
            "outputs": [
                {
                    "name": "stdout",
                    "output_type": "stream",
                    "text": [
                        "Previous coupon date is  30-NOV-2022\n"
                    ]
                }
            ],
            "source": [
                "print(\"Previous coupon date is \", bond._pcd)"
            ]
        },
        {
            "cell_type": "code",
            "execution_count": 20,
            "metadata": {
                "execution": {
                    "iopub.execute_input": "2024-04-30T19:50:34.804313Z",
                    "iopub.status.busy": "2024-04-30T19:50:34.803345Z",
                    "iopub.status.idle": "2024-04-30T19:50:34.807934Z",
                    "shell.execute_reply": "2024-04-30T19:50:34.807934Z"
                }
            },
            "outputs": [
                {
                    "name": "stdout",
                    "output_type": "stream",
                    "text": [
                        "Settlement date is  06-FEB-2023\n"
                    ]
                }
            ],
            "source": [
                "print(\"Settlement date is \", settle_dt)"
            ]
        },
        {
            "cell_type": "markdown",
            "metadata": {},
            "source": [
                "The amount of accrued interest is "
            ]
        },
        {
            "cell_type": "code",
            "execution_count": 21,
            "metadata": {
                "execution": {
                    "iopub.execute_input": "2024-04-30T19:50:34.811957Z",
                    "iopub.status.busy": "2024-04-30T19:50:34.810959Z",
                    "iopub.status.idle": "2024-04-30T19:50:34.814588Z",
                    "shell.execute_reply": "2024-04-30T19:50:34.814588Z"
                }
            },
            "outputs": [
                {
                    "name": "stdout",
                    "output_type": "stream",
                    "text": [
                        "Accrued =         0.84\n"
                    ]
                }
            ],
            "source": [
                "print(\"Accrued = %12.2f\" % bond.accrued_int)"
            ]
        },
        {
            "cell_type": "markdown",
            "metadata": {},
            "source": [
                "This is based on the following number of days of accrual"
            ]
        },
        {
            "cell_type": "code",
            "execution_count": 22,
            "metadata": {
                "execution": {
                    "iopub.execute_input": "2024-04-30T19:50:34.816616Z",
                    "iopub.status.busy": "2024-04-30T19:50:34.816616Z",
                    "iopub.status.idle": "2024-04-30T19:50:34.820474Z",
                    "shell.execute_reply": "2024-04-30T19:50:34.820474Z"
                }
            },
            "outputs": [
                {
                    "name": "stdout",
                    "output_type": "stream",
                    "text": [
                        "Accrued Days = 68\n"
                    ]
                }
            ],
            "source": [
                "print(\"Accrued Days = %d\" % bond.accrued_days)"
            ]
        },
        {
            "cell_type": "code",
            "execution_count": 23,
            "metadata": {
                "execution": {
                    "iopub.execute_input": "2024-04-30T19:50:34.823501Z",
                    "iopub.status.busy": "2024-04-30T19:50:34.823501Z",
                    "iopub.status.idle": "2024-04-30T19:50:34.826966Z",
                    "shell.execute_reply": "2024-04-30T19:50:34.826713Z"
                }
            },
            "outputs": [
                {
                    "name": "stdout",
                    "output_type": "stream",
                    "text": [
                        "Principal =   1009812.84\n"
                    ]
                }
            ],
            "source": [
                "print(\"Principal = %12.2f\" % bond.principal(settle_dt, ytm, face, yieldConvention))"
            ]
        },
        {
            "cell_type": "markdown",
            "metadata": {},
            "source": [
                "## Bond Risk Measures"
            ]
        },
        {
            "cell_type": "markdown",
            "metadata": {},
            "source": [
                "The bond dollar duration is the actual derivative with respect to the yield. It is the bond price change for a 1bp drop in the yield-to-maturity divided by 1bp."
            ]
        },
        {
            "cell_type": "code",
            "execution_count": 24,
            "metadata": {
                "execution": {
                    "iopub.execute_input": "2024-04-30T19:50:34.829627Z",
                    "iopub.status.busy": "2024-04-30T19:50:34.829627Z",
                    "iopub.status.idle": "2024-04-30T19:50:34.832604Z",
                    "shell.execute_reply": "2024-04-30T19:50:34.832604Z"
                }
            },
            "outputs": [
                {
                    "name": "stdout",
                    "output_type": "stream",
                    "text": [
                        "Dollar Duration =  172.72204606037178\n"
                    ]
                }
            ],
            "source": [
                "duration = bond.dollar_duration(settle_dt, ytm, yieldConvention)\n",
                "print(\"Dollar Duration = \", duration)"
            ]
        },
        {
            "cell_type": "markdown",
            "metadata": {},
            "source": [
                "Modified Duration divides the dollar duration by the full price of the bond"
            ]
        },
        {
            "cell_type": "code",
            "execution_count": 25,
            "metadata": {
                "execution": {
                    "iopub.execute_input": "2024-04-30T19:50:34.835632Z",
                    "iopub.status.busy": "2024-04-30T19:50:34.835632Z",
                    "iopub.status.idle": "2024-04-30T19:50:34.839397Z",
                    "shell.execute_reply": "2024-04-30T19:50:34.839397Z"
                }
            },
            "outputs": [
                {
                    "name": "stdout",
                    "output_type": "stream",
                    "text": [
                        "Modified Duration =  1.7104362178410772\n"
                    ]
                }
            ],
            "source": [
                "modified_duration = bond.modified_duration(settle_dt, ytm, yieldConvention)\n",
                "print(\"Modified Duration = \", modified_duration)"
            ]
        },
        {
            "cell_type": "markdown",
            "metadata": {},
            "source": [
                "Macauley Duration multiplies the dollar duration by (1+y/f) and divides by the full price"
            ]
        },
        {
            "cell_type": "code",
            "execution_count": 26,
            "metadata": {
                "execution": {
                    "iopub.execute_input": "2024-04-30T19:50:34.842422Z",
                    "iopub.status.busy": "2024-04-30T19:50:34.842422Z",
                    "iopub.status.idle": "2024-04-30T19:50:34.846170Z",
                    "shell.execute_reply": "2024-04-30T19:50:34.846170Z"
                }
            },
            "outputs": [
                {
                    "name": "stdout",
                    "output_type": "stream",
                    "text": [
                        "Macauley Duration =  1.748195071721795\n"
                    ]
                }
            ],
            "source": [
                "macauley_duration = bond.macauley_duration(settle_dt, ytm, yieldConvention)\n",
                "print(\"Macauley Duration = \", macauley_duration)"
            ]
        },
        {
            "cell_type": "markdown",
            "metadata": {},
            "source": [
                "Convexity is the second derivative of the bond price with respect to the yield-to-maturity"
            ]
        },
        {
            "cell_type": "code",
            "execution_count": 27,
            "metadata": {
                "execution": {
                    "iopub.execute_input": "2024-04-30T19:50:34.848782Z",
                    "iopub.status.busy": "2024-04-30T19:50:34.848782Z",
                    "iopub.status.idle": "2024-04-30T19:50:34.852029Z",
                    "shell.execute_reply": "2024-04-30T19:50:34.852029Z"
                }
            },
            "outputs": [
                {
                    "name": "stdout",
                    "output_type": "stream",
                    "text": [
                        "Convexity =  0.0383125416304074\n"
                    ]
                }
            ],
            "source": [
                "conv = bond.convexity_from_ytm(settle_dt, ytm, yieldConvention)\n",
                "print(\"Convexity = \", conv)"
            ]
        },
        {
            "cell_type": "markdown",
            "metadata": {},
            "source": [
                "Copyright (c) 2022 Dominic O'Kane"
            ]
        }
    ],
    "metadata": {
        "interpreter": {
            "hash": "3c3c8dc9fd3bee1ab6ae956667954d61cc562603f3dc9655506a7eb1e203dbb6"
        },
        "kernelspec": {
            "display_name": "Python 3 (ipykernel)",
            "language": "python",
            "name": "python3"
        },
        "language_info": {
            "codemirror_mode": {
                "name": "ipython",
                "version": 3
            },
            "file_extension": ".py",
            "mimetype": "text/x-python",
            "name": "python",
            "nbconvert_exporter": "python",
            "pygments_lexer": "ipython3",
            "version": "3.11.5"
        }
    },
    "nbformat": 4,
    "nbformat_minor": 2
}
