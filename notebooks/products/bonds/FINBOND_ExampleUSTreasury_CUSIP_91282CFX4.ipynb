{
 "cells": [
  {
   "cell_type": "markdown",
   "metadata": {},
   "source": [
    "# FIXED COUPON BOND EXAMPLE TREASURY CUSIP 91282CFX4"
   ]
  },
  {
   "cell_type": "markdown",
   "metadata": {},
   "source": [
    "This is based on a Bloomberg example"
   ]
  },
  {
   "cell_type": "code",
   "execution_count": 1,
   "metadata": {
    "execution": {
     "iopub.execute_input": "2025-09-14T22:20:20.365993Z",
     "iopub.status.busy": "2025-09-14T22:20:20.365864Z",
     "iopub.status.idle": "2025-09-14T22:20:20.587525Z",
     "shell.execute_reply": "2025-09-14T22:20:20.587003Z"
    }
   },
   "outputs": [],
   "source": [
    "import numpy as np\n",
    "import matplotlib.pyplot as plt"
   ]
  },
  {
   "cell_type": "code",
   "execution_count": 2,
   "metadata": {
    "execution": {
     "iopub.execute_input": "2025-09-14T22:20:20.589286Z",
     "iopub.status.busy": "2025-09-14T22:20:20.589095Z",
     "iopub.status.idle": "2025-09-14T22:20:20.592296Z",
     "shell.execute_reply": "2025-09-14T22:20:20.591992Z"
    }
   },
   "outputs": [],
   "source": [
    "import financepy"
   ]
  },
  {
   "cell_type": "code",
   "execution_count": 3,
   "metadata": {
    "execution": {
     "iopub.execute_input": "2025-09-14T22:20:20.593412Z",
     "iopub.status.busy": "2025-09-14T22:20:20.593295Z",
     "iopub.status.idle": "2025-09-14T22:20:21.271311Z",
     "shell.execute_reply": "2025-09-14T22:20:21.270966Z"
    }
   },
   "outputs": [],
   "source": [
    "from financepy.utils import *\n",
    "from financepy.products.bonds import *"
   ]
  },
  {
   "cell_type": "markdown",
   "metadata": {},
   "source": [
    "# Define the Bond"
   ]
  },
  {
   "cell_type": "code",
   "execution_count": 4,
   "metadata": {
    "execution": {
     "iopub.execute_input": "2025-09-14T22:20:21.273020Z",
     "iopub.status.busy": "2025-09-14T22:20:21.272822Z",
     "iopub.status.idle": "2025-09-14T22:20:21.287423Z",
     "shell.execute_reply": "2025-09-14T22:20:21.287094Z"
    }
   },
   "outputs": [],
   "source": [
    "issue_dt = Date(30, 11, 2022)\n",
    "settle_dt = Date(6, 2, 2023)\n",
    "maturity_dt = Date(30, 11, 2024)\n",
    "coupon = 0.045\n",
    "freq_type = FrequencyTypes.SEMI_ANNUAL\n",
    "dc_type = DayCountTypes.ACT_ACT_ICMA\n",
    "face = ONE_MILLION"
   ]
  },
  {
   "cell_type": "code",
   "execution_count": 5,
   "metadata": {
    "execution": {
     "iopub.execute_input": "2025-09-14T22:20:21.288664Z",
     "iopub.status.busy": "2025-09-14T22:20:21.288540Z",
     "iopub.status.idle": "2025-09-14T22:20:21.290893Z",
     "shell.execute_reply": "2025-09-14T22:20:21.290598Z"
    }
   },
   "outputs": [],
   "source": [
    "bond = Bond(issue_dt, maturity_dt, coupon, freq_type, dc_type)"
   ]
  },
  {
   "cell_type": "code",
   "execution_count": 6,
   "metadata": {
    "execution": {
     "iopub.execute_input": "2025-09-14T22:20:21.292398Z",
     "iopub.status.busy": "2025-09-14T22:20:21.292289Z",
     "iopub.status.idle": "2025-09-14T22:20:21.294225Z",
     "shell.execute_reply": "2025-09-14T22:20:21.293994Z"
    }
   },
   "outputs": [],
   "source": [
    "clean_price = 100+4/32+1/64  # price was quoted as 100-04+"
   ]
  },
  {
   "cell_type": "code",
   "execution_count": 7,
   "metadata": {
    "execution": {
     "iopub.execute_input": "2025-09-14T22:20:21.295841Z",
     "iopub.status.busy": "2025-09-14T22:20:21.295726Z",
     "iopub.status.idle": "2025-09-14T22:20:21.300208Z",
     "shell.execute_reply": "2025-09-14T22:20:21.299883Z"
    }
   },
   "outputs": [
    {
     "data": {
      "text/plain": [
       "100.140625"
      ]
     },
     "execution_count": 7,
     "metadata": {},
     "output_type": "execute_result"
    }
   ],
   "source": [
    "clean_price"
   ]
  },
  {
   "cell_type": "markdown",
   "metadata": {},
   "source": [
    "You can get information about the bond using the print method."
   ]
  },
  {
   "cell_type": "code",
   "execution_count": 8,
   "metadata": {
    "execution": {
     "iopub.execute_input": "2025-09-14T22:20:21.301782Z",
     "iopub.status.busy": "2025-09-14T22:20:21.301671Z",
     "iopub.status.idle": "2025-09-14T22:20:21.305184Z",
     "shell.execute_reply": "2025-09-14T22:20:21.304928Z"
    }
   },
   "outputs": [
    {
     "name": "stdout",
     "output_type": "stream",
     "text": [
      "OBJECT TYPE: Bond\n",
      "ISSUE DATE: 30-NOV-2022\n",
      "MATURITY DATE: 30-NOV-2024\n",
      "COUPON (%): 4.5\n",
      "FREQUENCY: FrequencyTypes.SEMI_ANNUAL\n",
      "DAY COUNT TYPE: DayCountTypes.ACT_ACT_ICMA\n",
      "EX_DIV DAYS: 0\n"
     ]
    }
   ],
   "source": [
    "print(bond)"
   ]
  },
  {
   "cell_type": "markdown",
   "metadata": {},
   "source": [
    "## Bond Cash Flows"
   ]
  },
  {
   "cell_type": "markdown",
   "metadata": {},
   "source": [
    "We first need to set the settlement date of the bond. "
   ]
  },
  {
   "cell_type": "code",
   "execution_count": 9,
   "metadata": {
    "execution": {
     "iopub.execute_input": "2025-09-14T22:20:21.306256Z",
     "iopub.status.busy": "2025-09-14T22:20:21.306140Z",
     "iopub.status.idle": "2025-09-14T22:20:21.308527Z",
     "shell.execute_reply": "2025-09-14T22:20:21.308237Z"
    }
   },
   "outputs": [
    {
     "name": "stdout",
     "output_type": "stream",
     "text": [
      " 31-MAY-2023      2.25000 \n",
      " 30-NOV-2023      2.25000 \n",
      " 31-MAY-2024      2.25000 \n",
      " 30-NOV-2024    102.25000 \n",
      "\n"
     ]
    }
   ],
   "source": [
    "bond.print_payments(settle_dt)"
   ]
  },
  {
   "cell_type": "code",
   "execution_count": 10,
   "metadata": {
    "execution": {
     "iopub.execute_input": "2025-09-14T22:20:21.309506Z",
     "iopub.status.busy": "2025-09-14T22:20:21.309401Z",
     "iopub.status.idle": "2025-09-14T22:20:21.311874Z",
     "shell.execute_reply": "2025-09-14T22:20:21.311575Z"
    }
   },
   "outputs": [
    {
     "name": "stdout",
     "output_type": "stream",
     "text": [
      "0.008406593406593407\n"
     ]
    }
   ],
   "source": [
    "# Accrued Interest\n",
    "ai = bond.accrued_interest(settle_dt, 1.0)\n",
    "print(ai)"
   ]
  },
  {
   "cell_type": "markdown",
   "metadata": {},
   "source": [
    "The convention is to use these dates for yield calculations even if some fall on weekends."
   ]
  },
  {
   "cell_type": "markdown",
   "metadata": {},
   "source": [
    "## Bond Yield Measures"
   ]
  },
  {
   "cell_type": "markdown",
   "metadata": {},
   "source": [
    "Current yield is the coupon over the price"
   ]
  },
  {
   "cell_type": "code",
   "execution_count": 11,
   "metadata": {
    "execution": {
     "iopub.execute_input": "2025-09-14T22:20:21.312905Z",
     "iopub.status.busy": "2025-09-14T22:20:21.312796Z",
     "iopub.status.idle": "2025-09-14T22:20:21.315585Z",
     "shell.execute_reply": "2025-09-14T22:20:21.315305Z"
    }
   },
   "outputs": [
    {
     "name": "stdout",
     "output_type": "stream",
     "text": [
      "Current Yield     4.493681 %\n"
     ]
    }
   ],
   "source": [
    "print(\"Current Yield %12.6f %%\" % (bond.current_yield(clean_price)*100))"
   ]
  },
  {
   "cell_type": "code",
   "execution_count": 12,
   "metadata": {
    "execution": {
     "iopub.execute_input": "2025-09-14T22:20:21.316509Z",
     "iopub.status.busy": "2025-09-14T22:20:21.316391Z",
     "iopub.status.idle": "2025-09-14T22:20:21.318663Z",
     "shell.execute_reply": "2025-09-14T22:20:21.318316Z"
    }
   },
   "outputs": [],
   "source": [
    "calcTypes = [YTMCalcType.UK_DMO, YTMCalcType.US_STREET, YTMCalcType.US_TREASURY]"
   ]
  },
  {
   "cell_type": "markdown",
   "metadata": {},
   "source": [
    "Yield to maturity using different conventions"
   ]
  },
  {
   "cell_type": "code",
   "execution_count": 13,
   "metadata": {
    "execution": {
     "iopub.execute_input": "2025-09-14T22:20:21.319626Z",
     "iopub.status.busy": "2025-09-14T22:20:21.319522Z",
     "iopub.status.idle": "2025-09-14T22:20:21.322035Z",
     "shell.execute_reply": "2025-09-14T22:20:21.321789Z"
    }
   },
   "outputs": [
    {
     "name": "stdout",
     "output_type": "stream",
     "text": [
      "            YTMCalcType.UK_DMO     4.415114\n",
      "         YTMCalcType.US_STREET     4.415114\n",
      "       YTMCalcType.US_TREASURY     4.411863\n"
     ]
    }
   ],
   "source": [
    "for ytmCalcType in calcTypes:\n",
    "    y = bond.yield_to_maturity(settle_dt, clean_price, ytmCalcType)\n",
    "    print(\"%30s %12.6f\" % (ytmCalcType, y*100))"
   ]
  },
  {
   "cell_type": "code",
   "execution_count": 14,
   "metadata": {
    "execution": {
     "iopub.execute_input": "2025-09-14T22:20:21.323357Z",
     "iopub.status.busy": "2025-09-14T22:20:21.323176Z",
     "iopub.status.idle": "2025-09-14T22:20:21.325354Z",
     "shell.execute_reply": "2025-09-14T22:20:21.325081Z"
    }
   },
   "outputs": [],
   "source": [
    "yieldConvention = YTMCalcType.US_STREET"
   ]
  },
  {
   "cell_type": "code",
   "execution_count": 15,
   "metadata": {
    "execution": {
     "iopub.execute_input": "2025-09-14T22:20:21.326581Z",
     "iopub.status.busy": "2025-09-14T22:20:21.326463Z",
     "iopub.status.idle": "2025-09-14T22:20:21.328536Z",
     "shell.execute_reply": "2025-09-14T22:20:21.328267Z"
    }
   },
   "outputs": [],
   "source": [
    "ytm = bond.yield_to_maturity(settle_dt, clean_price, yieldConvention)"
   ]
  },
  {
   "cell_type": "code",
   "execution_count": 16,
   "metadata": {
    "execution": {
     "iopub.execute_input": "2025-09-14T22:20:21.329464Z",
     "iopub.status.busy": "2025-09-14T22:20:21.329351Z",
     "iopub.status.idle": "2025-09-14T22:20:21.332539Z",
     "shell.execute_reply": "2025-09-14T22:20:21.332275Z"
    }
   },
   "outputs": [
    {
     "data": {
      "text/plain": [
       "4.4151139326592315"
      ]
     },
     "execution_count": 16,
     "metadata": {},
     "output_type": "execute_result"
    }
   ],
   "source": [
    "ytm*100"
   ]
  },
  {
   "cell_type": "markdown",
   "metadata": {},
   "source": [
    "Dirty price is the clean price plus accrued interest"
   ]
  },
  {
   "cell_type": "code",
   "execution_count": 17,
   "metadata": {
    "execution": {
     "iopub.execute_input": "2025-09-14T22:20:21.333449Z",
     "iopub.status.busy": "2025-09-14T22:20:21.333331Z",
     "iopub.status.idle": "2025-09-14T22:20:21.335517Z",
     "shell.execute_reply": "2025-09-14T22:20:21.335278Z"
    }
   },
   "outputs": [
    {
     "name": "stdout",
     "output_type": "stream",
     "text": [
      "Dirty Price =  100.9812843\n"
     ]
    }
   ],
   "source": [
    "print(\"Dirty Price = %12.7f\" % bond.dirty_price_from_ytm(settle_dt, ytm, yieldConvention))"
   ]
  },
  {
   "cell_type": "code",
   "execution_count": 18,
   "metadata": {
    "execution": {
     "iopub.execute_input": "2025-09-14T22:20:21.336399Z",
     "iopub.status.busy": "2025-09-14T22:20:21.336292Z",
     "iopub.status.idle": "2025-09-14T22:20:21.338569Z",
     "shell.execute_reply": "2025-09-14T22:20:21.338313Z"
    }
   },
   "outputs": [
    {
     "name": "stdout",
     "output_type": "stream",
     "text": [
      "Clean Price =  100.1406250\n"
     ]
    }
   ],
   "source": [
    "print(\"Clean Price = %12.7f\" % bond.clean_price_from_ytm(settle_dt, ytm, yieldConvention))"
   ]
  },
  {
   "cell_type": "markdown",
   "metadata": {},
   "source": [
    "Accrued interest is accrued from previous coupon date to settlement date"
   ]
  },
  {
   "cell_type": "code",
   "execution_count": 19,
   "metadata": {
    "execution": {
     "iopub.execute_input": "2025-09-14T22:20:21.339520Z",
     "iopub.status.busy": "2025-09-14T22:20:21.339412Z",
     "iopub.status.idle": "2025-09-14T22:20:21.341333Z",
     "shell.execute_reply": "2025-09-14T22:20:21.341081Z"
    }
   },
   "outputs": [
    {
     "name": "stdout",
     "output_type": "stream",
     "text": [
      "Previous coupon date is  30-NOV-2022\n"
     ]
    }
   ],
   "source": [
    "print(\"Previous coupon date is \", bond._pcd)"
   ]
  },
  {
   "cell_type": "code",
   "execution_count": 20,
   "metadata": {
    "execution": {
     "iopub.execute_input": "2025-09-14T22:20:21.343805Z",
     "iopub.status.busy": "2025-09-14T22:20:21.343401Z",
     "iopub.status.idle": "2025-09-14T22:20:21.346454Z",
     "shell.execute_reply": "2025-09-14T22:20:21.346164Z"
    }
   },
   "outputs": [
    {
     "name": "stdout",
     "output_type": "stream",
     "text": [
      "Settlement date is  06-FEB-2023\n"
     ]
    }
   ],
   "source": [
    "print(\"Settlement date is \", settle_dt)"
   ]
  },
  {
   "cell_type": "markdown",
   "metadata": {},
   "source": [
    "The amount of accrued interest is "
   ]
  },
  {
   "cell_type": "code",
   "execution_count": 21,
   "metadata": {
    "execution": {
     "iopub.execute_input": "2025-09-14T22:20:21.347429Z",
     "iopub.status.busy": "2025-09-14T22:20:21.347319Z",
     "iopub.status.idle": "2025-09-14T22:20:21.349557Z",
     "shell.execute_reply": "2025-09-14T22:20:21.349322Z"
    }
   },
   "outputs": [
    {
     "name": "stdout",
     "output_type": "stream",
     "text": [
      "Accrued =         0.84\n"
     ]
    }
   ],
   "source": [
    "print(\"Accrued = %12.2f\" % bond.accrued_int)"
   ]
  },
  {
   "cell_type": "markdown",
   "metadata": {},
   "source": [
    "This is based on the following number of days of accrual"
   ]
  },
  {
   "cell_type": "code",
   "execution_count": 22,
   "metadata": {
    "execution": {
     "iopub.execute_input": "2025-09-14T22:20:21.352291Z",
     "iopub.status.busy": "2025-09-14T22:20:21.352065Z",
     "iopub.status.idle": "2025-09-14T22:20:21.354181Z",
     "shell.execute_reply": "2025-09-14T22:20:21.353918Z"
    }
   },
   "outputs": [
    {
     "name": "stdout",
     "output_type": "stream",
     "text": [
      "Accrued Days = 68\n"
     ]
    }
   ],
   "source": [
    "print(\"Accrued Days = %d\" % bond.accrued_days)"
   ]
  },
  {
   "cell_type": "code",
   "execution_count": 23,
   "metadata": {
    "execution": {
     "iopub.execute_input": "2025-09-14T22:20:21.355104Z",
     "iopub.status.busy": "2025-09-14T22:20:21.354996Z",
     "iopub.status.idle": "2025-09-14T22:20:21.357066Z",
     "shell.execute_reply": "2025-09-14T22:20:21.356844Z"
    }
   },
   "outputs": [
    {
     "name": "stdout",
     "output_type": "stream",
     "text": [
      "Principal =   1009812.83\n"
     ]
    }
   ],
   "source": [
    "print(\"Principal = %12.2f\" % bond.principal(settle_dt, ytm, face, yieldConvention))"
   ]
  },
  {
   "cell_type": "markdown",
   "metadata": {},
   "source": [
    "## Bond Risk Measures"
   ]
  },
  {
   "cell_type": "markdown",
   "metadata": {},
   "source": [
    "The bond dollar duration is the actual derivative with respect to the yield. It is the bond price change for a 1bp drop in the yield-to-maturity divided by 1bp."
   ]
  },
  {
   "cell_type": "code",
   "execution_count": 24,
   "metadata": {
    "execution": {
     "iopub.execute_input": "2025-09-14T22:20:21.357968Z",
     "iopub.status.busy": "2025-09-14T22:20:21.357854Z",
     "iopub.status.idle": "2025-09-14T22:20:21.360593Z",
     "shell.execute_reply": "2025-09-14T22:20:21.360365Z"
    }
   },
   "outputs": [
    {
     "name": "stdout",
     "output_type": "stream",
     "text": [
      "Dollar Duration =  172.72204605944808\n"
     ]
    }
   ],
   "source": [
    "duration = bond.dollar_duration(settle_dt, ytm, yieldConvention)\n",
    "print(\"Dollar Duration = \", duration)"
   ]
  },
  {
   "cell_type": "markdown",
   "metadata": {},
   "source": [
    "Modified Duration divides the dollar duration by the full price of the bond"
   ]
  },
  {
   "cell_type": "code",
   "execution_count": 25,
   "metadata": {
    "execution": {
     "iopub.execute_input": "2025-09-14T22:20:21.361487Z",
     "iopub.status.busy": "2025-09-14T22:20:21.361379Z",
     "iopub.status.idle": "2025-09-14T22:20:21.363637Z",
     "shell.execute_reply": "2025-09-14T22:20:21.363372Z"
    }
   },
   "outputs": [
    {
     "name": "stdout",
     "output_type": "stream",
     "text": [
      "Modified Duration =  1.7104362178348633\n"
     ]
    }
   ],
   "source": [
    "modified_duration = bond.modified_duration(settle_dt, ytm, yieldConvention)\n",
    "print(\"Modified Duration = \", modified_duration)"
   ]
  },
  {
   "cell_type": "markdown",
   "metadata": {},
   "source": [
    "Macauley Duration multiplies the dollar duration by (1+y/f) and divides by the full price"
   ]
  },
  {
   "cell_type": "code",
   "execution_count": 26,
   "metadata": {
    "execution": {
     "iopub.execute_input": "2025-09-14T22:20:21.364557Z",
     "iopub.status.busy": "2025-09-14T22:20:21.364449Z",
     "iopub.status.idle": "2025-09-14T22:20:21.366715Z",
     "shell.execute_reply": "2025-09-14T22:20:21.366480Z"
    }
   },
   "outputs": [
    {
     "name": "stdout",
     "output_type": "stream",
     "text": [
      "Macauley Duration =  1.7481950717163017\n"
     ]
    }
   ],
   "source": [
    "macauley_duration = bond.macauley_duration(settle_dt, ytm, yieldConvention)\n",
    "print(\"Macauley Duration = \", macauley_duration)"
   ]
  },
  {
   "cell_type": "markdown",
   "metadata": {},
   "source": [
    "Convexity is the second derivative of the bond price with respect to the yield-to-maturity"
   ]
  },
  {
   "cell_type": "code",
   "execution_count": 27,
   "metadata": {
    "execution": {
     "iopub.execute_input": "2025-09-14T22:20:21.367612Z",
     "iopub.status.busy": "2025-09-14T22:20:21.367499Z",
     "iopub.status.idle": "2025-09-14T22:20:21.370534Z",
     "shell.execute_reply": "2025-09-14T22:20:21.369743Z"
    }
   },
   "outputs": [
    {
     "name": "stdout",
     "output_type": "stream",
     "text": [
      "Convexity =  0.038312539941741795\n"
     ]
    }
   ],
   "source": [
    "conv = bond.convexity_from_ytm(settle_dt, ytm, yieldConvention)\n",
    "print(\"Convexity = \", conv)"
   ]
  },
  {
   "cell_type": "markdown",
   "metadata": {},
   "source": [
    "Copyright (c) 2022 Dominic O'Kane"
   ]
  }
 ],
 "metadata": {
  "kernelspec": {
   "display_name": "base",
   "language": "python",
   "name": "python3"
  },
  "language_info": {
   "codemirror_mode": {
    "name": "ipython",
    "version": 3
   },
   "file_extension": ".py",
   "mimetype": "text/x-python",
   "name": "python",
   "nbconvert_exporter": "python",
   "pygments_lexer": "ipython3",
   "version": "3.13.7"
  }
 },
 "nbformat": 4,
 "nbformat_minor": 2
}
