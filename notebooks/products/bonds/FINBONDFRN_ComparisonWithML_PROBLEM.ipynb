{
    "cells": [
        {
            "cell_type": "markdown",
            "metadata": {},
            "source": [
                "# CITIGROUP FLOATING RATE NOTE ANALYSIS"
            ]
        },
        {
            "cell_type": "markdown",
            "metadata": {},
            "source": [
                "This is an analysis of floating rate notes. "
            ]
        },
        {
            "cell_type": "markdown",
            "metadata": {},
            "source": [
                "Based on an example https://fr.mathworks.com/help/finance/floatdiscmargin.html"
            ]
        },
        {
            "cell_type": "code",
            "execution_count": 1,
            "metadata": {
                "execution": {
                    "iopub.execute_input": "2024-04-30T19:43:16.807714Z",
                    "iopub.status.busy": "2024-04-30T19:43:16.807714Z",
                    "iopub.status.idle": "2024-04-30T19:43:17.499644Z",
                    "shell.execute_reply": "2024-04-30T19:43:17.499644Z"
                }
            },
            "outputs": [],
            "source": [
                "import numpy as np\n",
                "import matplotlib.pyplot as plt"
            ]
        },
        {
            "cell_type": "code",
            "execution_count": 2,
            "metadata": {
                "execution": {
                    "iopub.execute_input": "2024-04-30T19:43:17.502866Z",
                    "iopub.status.busy": "2024-04-30T19:43:17.501702Z",
                    "iopub.status.idle": "2024-04-30T19:43:19.034869Z",
                    "shell.execute_reply": "2024-04-30T19:43:19.034869Z"
                }
            },
            "outputs": [
                {
                    "name": "stdout",
                    "output_type": "stream",
                    "text": [
                        "####################################################################\n",
                        "#  FINANCEPY BETA Version 0.350 - This build: 30 Apr 2024 at 21:20 #\n",
                        "#     This software is distributed FREE AND WITHOUT ANY WARRANTY   #\n",
                        "#  Report bugs as issues at https://github.com/domokane/FinancePy  #\n",
                        "####################################################################\n",
                        "\n"
                    ]
                }
            ],
            "source": [
                "from financepy.products.rates import *\n",
                "from financepy.products.bonds import *\n",
                "from financepy.utils import *"
            ]
        },
        {
            "cell_type": "markdown",
            "metadata": {},
            "source": [
                "## Define the Details of the FRN"
            ]
        },
        {
            "cell_type": "code",
            "execution_count": 3,
            "metadata": {
                "execution": {
                    "iopub.execute_input": "2024-04-30T19:43:19.037924Z",
                    "iopub.status.busy": "2024-04-30T19:43:19.036922Z",
                    "iopub.status.idle": "2024-04-30T19:43:19.059083Z",
                    "shell.execute_reply": "2024-04-30T19:43:19.059083Z"
                }
            },
            "outputs": [],
            "source": [
                "issue_dt = Date(15,1,2010)\n",
                "maturity_dt = Date(15, 1, 2012)\n",
                "quoted_margin = 0.0050\n",
                "freq_type = FrequencyTypes.QUARTERLY\n",
                "dc_type = DayCountTypes.ACT_360\n",
                "face = 100.0"
            ]
        },
        {
            "cell_type": "code",
            "execution_count": 4,
            "metadata": {
                "execution": {
                    "iopub.execute_input": "2024-04-30T19:43:19.062116Z",
                    "iopub.status.busy": "2024-04-30T19:43:19.061137Z",
                    "iopub.status.idle": "2024-04-30T19:43:19.065208Z",
                    "shell.execute_reply": "2024-04-30T19:43:19.065208Z"
                }
            },
            "outputs": [],
            "source": [
                "bond = BondFRN(issue_dt, maturity_dt, quoted_margin, freq_type, dc_type)"
            ]
        },
        {
            "cell_type": "code",
            "execution_count": 5,
            "metadata": {
                "execution": {
                    "iopub.execute_input": "2024-04-30T19:43:19.068254Z",
                    "iopub.status.busy": "2024-04-30T19:43:19.067209Z",
                    "iopub.status.idle": "2024-04-30T19:43:19.070940Z",
                    "shell.execute_reply": "2024-04-30T19:43:19.070940Z"
                }
            },
            "outputs": [
                {
                    "name": "stdout",
                    "output_type": "stream",
                    "text": [
                        "OBJECT TYPE: BondFRN\n",
                        "ISSUE DATE: 15-JAN-2010\n",
                        "MATURITY DATE: 15-JAN-2012\n",
                        "QUOTED MARGIN (bp): 50.0\n",
                        "FREQUENCY: FrequencyTypes.QUARTERLY\n",
                        "DAY COUNT TYPE: DayCountTypes.ACT_360\n",
                        "\n"
                    ]
                }
            ],
            "source": [
                "print(bond)"
            ]
        },
        {
            "cell_type": "code",
            "execution_count": 6,
            "metadata": {
                "execution": {
                    "iopub.execute_input": "2024-04-30T19:43:19.073940Z",
                    "iopub.status.busy": "2024-04-30T19:43:19.072972Z",
                    "iopub.status.idle": "2024-04-30T19:43:19.076227Z",
                    "shell.execute_reply": "2024-04-30T19:43:19.076227Z"
                }
            },
            "outputs": [],
            "source": [
                "settle_dt = Date(20, 1, 2011)"
            ]
        },
        {
            "cell_type": "code",
            "execution_count": 7,
            "metadata": {
                "execution": {
                    "iopub.execute_input": "2024-04-30T19:43:19.078228Z",
                    "iopub.status.busy": "2024-04-30T19:43:19.078228Z",
                    "iopub.status.idle": "2024-04-30T19:43:19.082128Z",
                    "shell.execute_reply": "2024-04-30T19:43:19.081894Z"
                }
            },
            "outputs": [
                {
                    "name": "stdout",
                    "output_type": "stream",
                    "text": [
                        "15-APR-2010\n",
                        "15-JUL-2010\n",
                        "15-OCT-2010\n",
                        "15-JAN-2011\n",
                        "15-APR-2011\n",
                        "15-JUL-2011\n",
                        "15-OCT-2011\n",
                        "15-JAN-2012\n"
                    ]
                }
            ],
            "source": [
                "bond.print_payments(settle_dt)"
            ]
        },
        {
            "cell_type": "markdown",
            "metadata": {},
            "source": [
                "## Analysis"
            ]
        },
        {
            "cell_type": "markdown",
            "metadata": {},
            "source": [
                "The simplest analysis of an FRN considers 3 Libor rates"
            ]
        },
        {
            "cell_type": "code",
            "execution_count": 8,
            "metadata": {
                "execution": {
                    "iopub.execute_input": "2024-04-30T19:43:19.084127Z",
                    "iopub.status.busy": "2024-04-30T19:43:19.084127Z",
                    "iopub.status.idle": "2024-04-30T19:43:19.087632Z",
                    "shell.execute_reply": "2024-04-30T19:43:19.087393Z"
                }
            },
            "outputs": [],
            "source": [
                "next_cpn = 0.050 # Full coupon to be paid that fixed on LCD consisting of Libor plus margin\n",
                "currentLibor = 0.049 # To next coupon date\n",
                "futureLibors = 0.050 # Forecast based on next Libor"
            ]
        },
        {
            "cell_type": "code",
            "execution_count": 9,
            "metadata": {
                "execution": {
                    "iopub.execute_input": "2024-04-30T19:43:19.089629Z",
                    "iopub.status.busy": "2024-04-30T19:43:19.089629Z",
                    "iopub.status.idle": "2024-04-30T19:43:19.092528Z",
                    "shell.execute_reply": "2024-04-30T19:43:19.092528Z"
                }
            },
            "outputs": [],
            "source": [
                "clean_price = 99.99"
            ]
        },
        {
            "cell_type": "code",
            "execution_count": 10,
            "metadata": {
                "execution": {
                    "iopub.execute_input": "2024-04-30T19:43:19.095557Z",
                    "iopub.status.busy": "2024-04-30T19:43:19.095557Z",
                    "iopub.status.idle": "2024-04-30T19:43:19.099279Z",
                    "shell.execute_reply": "2024-04-30T19:43:19.099279Z"
                }
            },
            "outputs": [
                {
                    "name": "stdout",
                    "output_type": "stream",
                    "text": [
                        "DISCOUNT MARGIN:   41.3019 bps\n"
                    ]
                }
            ],
            "source": [
                "dm = bond.discount_margin(settle_dt, next_cpn, currentLibor, futureLibors, clean_price)\n",
                "print(\"DISCOUNT MARGIN: %9.4f bps\"% (dm*10000))"
            ]
        },
        {
            "cell_type": "code",
            "execution_count": 11,
            "metadata": {
                "execution": {
                    "iopub.execute_input": "2024-04-30T19:43:19.101309Z",
                    "iopub.status.busy": "2024-04-30T19:43:19.101309Z",
                    "iopub.status.idle": "2024-04-30T19:43:19.104441Z",
                    "shell.execute_reply": "2024-04-30T19:43:19.104441Z"
                }
            },
            "outputs": [
                {
                    "name": "stdout",
                    "output_type": "stream",
                    "text": [
                        "DIRTY PRICE FROM DM:   100.059444 \n"
                    ]
                }
            ],
            "source": [
                "dirty_price = bond.dirty_price_from_dm(settle_dt, next_cpn, currentLibor, futureLibors, dm)\n",
                "print(\"DIRTY PRICE FROM DM: %12.6f \"% dirty_price)"
            ]
        },
        {
            "cell_type": "code",
            "execution_count": 12,
            "metadata": {
                "execution": {
                    "iopub.execute_input": "2024-04-30T19:43:19.107097Z",
                    "iopub.status.busy": "2024-04-30T19:43:19.106070Z",
                    "iopub.status.idle": "2024-04-30T19:43:19.109537Z",
                    "shell.execute_reply": "2024-04-30T19:43:19.109537Z"
                }
            },
            "outputs": [
                {
                    "name": "stdout",
                    "output_type": "stream",
                    "text": [
                        "Previous Coupon Date: 15-JAN-2011\n"
                    ]
                }
            ],
            "source": [
                "prevCouponDt = bond._pcd\n",
                "print(\"Previous Coupon Date: %s\"% str(prevCouponDt))"
            ]
        },
        {
            "cell_type": "code",
            "execution_count": 13,
            "metadata": {
                "execution": {
                    "iopub.execute_input": "2024-04-30T19:43:19.111567Z",
                    "iopub.status.busy": "2024-04-30T19:43:19.111567Z",
                    "iopub.status.idle": "2024-04-30T19:43:19.114688Z",
                    "shell.execute_reply": "2024-04-30T19:43:19.114688Z"
                }
            },
            "outputs": [
                {
                    "name": "stdout",
                    "output_type": "stream",
                    "text": [
                        "Accrued Days:   5.00000\n"
                    ]
                }
            ],
            "source": [
                "accddays = bond.accrued_days\n",
                "print(\"Accrued Days: %9.5f\"% accddays)"
            ]
        },
        {
            "cell_type": "code",
            "execution_count": 14,
            "metadata": {
                "execution": {
                    "iopub.execute_input": "2024-04-30T19:43:19.117296Z",
                    "iopub.status.busy": "2024-04-30T19:43:19.117296Z",
                    "iopub.status.idle": "2024-04-30T19:43:19.120348Z",
                    "shell.execute_reply": "2024-04-30T19:43:19.120118Z"
                }
            },
            "outputs": [
                {
                    "name": "stdout",
                    "output_type": "stream",
                    "text": [
                        "PRINCIPAL FROM DM:   100.058750 \n"
                    ]
                }
            ],
            "source": [
                "principal = bond.principal(settle_dt, next_cpn, currentLibor, futureLibors, dm)\n",
                "print(\"PRINCIPAL FROM DM: %12.6f \"% principal)"
            ]
        },
        {
            "cell_type": "code",
            "execution_count": 15,
            "metadata": {
                "execution": {
                    "iopub.execute_input": "2024-04-30T19:43:19.122347Z",
                    "iopub.status.busy": "2024-04-30T19:43:19.122347Z",
                    "iopub.status.idle": "2024-04-30T19:43:19.125315Z",
                    "shell.execute_reply": "2024-04-30T19:43:19.125315Z"
                }
            },
            "outputs": [
                {
                    "name": "stdout",
                    "output_type": "stream",
                    "text": [
                        "Accrued Amount:   0.00069\n"
                    ]
                }
            ],
            "source": [
                "accdAmount = bond.accrued\n",
                "print(\"Accrued Amount: %9.5f\"% accdAmount)"
            ]
        },
        {
            "cell_type": "markdown",
            "metadata": {},
            "source": [
                "Cannot reconcile with Matlab"
            ]
        },
        {
            "cell_type": "markdown",
            "metadata": {},
            "source": [
                "Copyright (c) 2020 Dominic O'Kane"
            ]
        }
    ],
    "metadata": {
        "kernelspec": {
            "display_name": "Python 3",
            "language": "python",
            "name": "python3"
        },
        "language_info": {
            "codemirror_mode": {
                "name": "ipython",
                "version": 3
            },
            "file_extension": ".py",
            "mimetype": "text/x-python",
            "name": "python",
            "nbconvert_exporter": "python",
            "pygments_lexer": "ipython3",
            "version": "3.11.5"
        }
    },
    "nbformat": 4,
    "nbformat_minor": 2
}
