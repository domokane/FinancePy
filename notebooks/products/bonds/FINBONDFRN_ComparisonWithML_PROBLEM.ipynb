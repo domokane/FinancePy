{
 "cells": [
  {
   "cell_type": "markdown",
   "metadata": {},
   "source": [
    "# CITIGROUP FLOATING RATE NOTE ANALYSIS"
   ]
  },
  {
   "cell_type": "markdown",
   "metadata": {},
   "source": [
    "This is an analysis of floating rate notes. "
   ]
  },
  {
   "cell_type": "markdown",
   "metadata": {},
   "source": [
    "Based on an example https://fr.mathworks.com/help/finance/floatdiscmargin.html"
   ]
  },
  {
   "cell_type": "code",
   "execution_count": 1,
   "metadata": {
    "execution": {
     "iopub.execute_input": "2025-08-27T22:23:38.470081Z",
     "iopub.status.busy": "2025-08-27T22:23:38.469781Z",
     "iopub.status.idle": "2025-08-27T22:23:38.939334Z",
     "shell.execute_reply": "2025-08-27T22:23:38.938867Z"
    }
   },
   "outputs": [],
   "source": [
    "import numpy as np\n",
    "import matplotlib.pyplot as plt"
   ]
  },
  {
   "cell_type": "code",
   "execution_count": 2,
   "metadata": {
    "execution": {
     "iopub.execute_input": "2025-08-27T22:23:38.941540Z",
     "iopub.status.busy": "2025-08-27T22:23:38.941293Z",
     "iopub.status.idle": "2025-08-27T22:23:40.611741Z",
     "shell.execute_reply": "2025-08-27T22:23:40.611330Z"
    }
   },
   "outputs": [],
   "source": [
    "from financepy.products.rates import *\n",
    "from financepy.products.bonds import *\n",
    "from financepy.utils import *"
   ]
  },
  {
   "cell_type": "markdown",
   "metadata": {},
   "source": [
    "## Define the Details of the FRN"
   ]
  },
  {
   "cell_type": "code",
   "execution_count": 3,
   "metadata": {
    "execution": {
     "iopub.execute_input": "2025-08-27T22:23:40.614455Z",
     "iopub.status.busy": "2025-08-27T22:23:40.614074Z",
     "iopub.status.idle": "2025-08-27T22:23:40.633017Z",
     "shell.execute_reply": "2025-08-27T22:23:40.632419Z"
    }
   },
   "outputs": [],
   "source": [
    "issue_dt = Date(15,1,2010)\n",
    "maturity_dt = Date(15, 1, 2012)\n",
    "quoted_margin = 0.0050\n",
    "freq_type = FrequencyTypes.QUARTERLY\n",
    "dc_type = DayCountTypes.ACT_360\n",
    "face = 100.0"
   ]
  },
  {
   "cell_type": "code",
   "execution_count": 4,
   "metadata": {
    "execution": {
     "iopub.execute_input": "2025-08-27T22:23:40.635130Z",
     "iopub.status.busy": "2025-08-27T22:23:40.634922Z",
     "iopub.status.idle": "2025-08-27T22:23:40.637472Z",
     "shell.execute_reply": "2025-08-27T22:23:40.637173Z"
    }
   },
   "outputs": [],
   "source": [
    "bond = BondFRN(issue_dt, maturity_dt, quoted_margin, freq_type, dc_type)"
   ]
  },
  {
   "cell_type": "code",
   "execution_count": 5,
   "metadata": {
    "execution": {
     "iopub.execute_input": "2025-08-27T22:23:40.639220Z",
     "iopub.status.busy": "2025-08-27T22:23:40.639029Z",
     "iopub.status.idle": "2025-08-27T22:23:40.642439Z",
     "shell.execute_reply": "2025-08-27T22:23:40.642035Z"
    }
   },
   "outputs": [
    {
     "name": "stdout",
     "output_type": "stream",
     "text": [
      "OBJECT TYPE: BondFRN\n",
      "ISSUE DATE: 15-JAN-2010\n",
      "MATURITY DATE: 15-JAN-2012\n",
      "QUOTED MARGIN (bp): 50.0\n",
      "FREQUENCY: FrequencyTypes.QUARTERLY\n",
      "DAY COUNT TYPE: DayCountTypes.ACT_360\n",
      "\n"
     ]
    }
   ],
   "source": [
    "print(bond)"
   ]
  },
  {
   "cell_type": "code",
   "execution_count": 6,
   "metadata": {
    "execution": {
     "iopub.execute_input": "2025-08-27T22:23:40.643977Z",
     "iopub.status.busy": "2025-08-27T22:23:40.643794Z",
     "iopub.status.idle": "2025-08-27T22:23:40.646376Z",
     "shell.execute_reply": "2025-08-27T22:23:40.646056Z"
    }
   },
   "outputs": [],
   "source": [
    "settle_dt = Date(20, 1, 2011)"
   ]
  },
  {
   "cell_type": "code",
   "execution_count": 7,
   "metadata": {
    "execution": {
     "iopub.execute_input": "2025-08-27T22:23:40.648768Z",
     "iopub.status.busy": "2025-08-27T22:23:40.648529Z",
     "iopub.status.idle": "2025-08-27T22:23:40.651082Z",
     "shell.execute_reply": "2025-08-27T22:23:40.650710Z"
    }
   },
   "outputs": [
    {
     "name": "stdout",
     "output_type": "stream",
     "text": [
      "15-APR-2010\n",
      "15-JUL-2010\n",
      "15-OCT-2010\n",
      "15-JAN-2011\n",
      "15-APR-2011\n",
      "15-JUL-2011\n",
      "15-OCT-2011\n",
      "15-JAN-2012\n"
     ]
    }
   ],
   "source": [
    "bond.print_payments(settle_dt)"
   ]
  },
  {
   "cell_type": "markdown",
   "metadata": {},
   "source": [
    "## Analysis"
   ]
  },
  {
   "cell_type": "markdown",
   "metadata": {},
   "source": [
    "The simplest analysis of an FRN considers 3 Libor rates"
   ]
  },
  {
   "cell_type": "code",
   "execution_count": 8,
   "metadata": {
    "execution": {
     "iopub.execute_input": "2025-08-27T22:23:40.653267Z",
     "iopub.status.busy": "2025-08-27T22:23:40.652984Z",
     "iopub.status.idle": "2025-08-27T22:23:40.655706Z",
     "shell.execute_reply": "2025-08-27T22:23:40.655323Z"
    }
   },
   "outputs": [],
   "source": [
    "next_cpn = 0.050 # Full coupon to be paid that fixed on LCD consisting of Libor plus margin\n",
    "currentLibor = 0.049 # To next coupon date\n",
    "futureLibors = 0.050 # Forecast based on next Libor"
   ]
  },
  {
   "cell_type": "code",
   "execution_count": 9,
   "metadata": {
    "execution": {
     "iopub.execute_input": "2025-08-27T22:23:40.657668Z",
     "iopub.status.busy": "2025-08-27T22:23:40.657474Z",
     "iopub.status.idle": "2025-08-27T22:23:40.659850Z",
     "shell.execute_reply": "2025-08-27T22:23:40.659473Z"
    }
   },
   "outputs": [],
   "source": [
    "clean_price = 99.99"
   ]
  },
  {
   "cell_type": "code",
   "execution_count": 10,
   "metadata": {
    "execution": {
     "iopub.execute_input": "2025-08-27T22:23:40.661965Z",
     "iopub.status.busy": "2025-08-27T22:23:40.661700Z",
     "iopub.status.idle": "2025-08-27T22:23:40.664968Z",
     "shell.execute_reply": "2025-08-27T22:23:40.664589Z"
    }
   },
   "outputs": [
    {
     "name": "stdout",
     "output_type": "stream",
     "text": [
      "DISCOUNT MARGIN:   41.3019 bps\n"
     ]
    }
   ],
   "source": [
    "dm = bond.discount_margin(settle_dt, next_cpn, currentLibor, futureLibors, clean_price)\n",
    "print(\"DISCOUNT MARGIN: %9.4f bps\"% (dm*10000))"
   ]
  },
  {
   "cell_type": "code",
   "execution_count": 11,
   "metadata": {
    "execution": {
     "iopub.execute_input": "2025-08-27T22:23:40.666939Z",
     "iopub.status.busy": "2025-08-27T22:23:40.666641Z",
     "iopub.status.idle": "2025-08-27T22:23:40.669640Z",
     "shell.execute_reply": "2025-08-27T22:23:40.669124Z"
    }
   },
   "outputs": [
    {
     "name": "stdout",
     "output_type": "stream",
     "text": [
      "DIRTY PRICE FROM DM:   100.059444 \n"
     ]
    }
   ],
   "source": [
    "dirty_price = bond.dirty_price_from_dm(settle_dt, next_cpn, currentLibor, futureLibors, dm)\n",
    "print(\"DIRTY PRICE FROM DM: %12.6f \"% dirty_price)"
   ]
  },
  {
   "cell_type": "code",
   "execution_count": 12,
   "metadata": {
    "execution": {
     "iopub.execute_input": "2025-08-27T22:23:40.671256Z",
     "iopub.status.busy": "2025-08-27T22:23:40.670999Z",
     "iopub.status.idle": "2025-08-27T22:23:40.673731Z",
     "shell.execute_reply": "2025-08-27T22:23:40.673421Z"
    }
   },
   "outputs": [
    {
     "name": "stdout",
     "output_type": "stream",
     "text": [
      "Previous Coupon Date: 15-JAN-2011\n"
     ]
    }
   ],
   "source": [
    "prevCouponDt = bond._pcd\n",
    "print(\"Previous Coupon Date: %s\"% str(prevCouponDt))"
   ]
  },
  {
   "cell_type": "code",
   "execution_count": 13,
   "metadata": {
    "execution": {
     "iopub.execute_input": "2025-08-27T22:23:40.675264Z",
     "iopub.status.busy": "2025-08-27T22:23:40.675073Z",
     "iopub.status.idle": "2025-08-27T22:23:40.677407Z",
     "shell.execute_reply": "2025-08-27T22:23:40.677035Z"
    }
   },
   "outputs": [
    {
     "name": "stdout",
     "output_type": "stream",
     "text": [
      "Accrued Days:   5.00000\n"
     ]
    }
   ],
   "source": [
    "accddays = bond.accrued_days\n",
    "print(\"Accrued Days: %9.5f\"% accddays)"
   ]
  },
  {
   "cell_type": "code",
   "execution_count": 14,
   "metadata": {
    "execution": {
     "iopub.execute_input": "2025-08-27T22:23:40.678938Z",
     "iopub.status.busy": "2025-08-27T22:23:40.678698Z",
     "iopub.status.idle": "2025-08-27T22:23:40.681467Z",
     "shell.execute_reply": "2025-08-27T22:23:40.681123Z"
    }
   },
   "outputs": [
    {
     "name": "stdout",
     "output_type": "stream",
     "text": [
      "PRINCIPAL FROM DM:   100.058750 \n"
     ]
    }
   ],
   "source": [
    "principal = bond.principal(settle_dt, next_cpn, currentLibor, futureLibors, dm)\n",
    "print(\"PRINCIPAL FROM DM: %12.6f \"% principal)"
   ]
  },
  {
   "cell_type": "code",
   "execution_count": 15,
   "metadata": {
    "execution": {
     "iopub.execute_input": "2025-08-27T22:23:40.683345Z",
     "iopub.status.busy": "2025-08-27T22:23:40.683095Z",
     "iopub.status.idle": "2025-08-27T22:23:40.685621Z",
     "shell.execute_reply": "2025-08-27T22:23:40.685326Z"
    }
   },
   "outputs": [
    {
     "name": "stdout",
     "output_type": "stream",
     "text": [
      "Accrued Amount:   0.00069\n"
     ]
    }
   ],
   "source": [
    "accdAmount = bond.accrued\n",
    "print(\"Accrued Amount: %9.5f\"% accdAmount)"
   ]
  },
  {
   "cell_type": "markdown",
   "metadata": {},
   "source": [
    "Cannot reconcile with Matlab"
   ]
  },
  {
   "cell_type": "markdown",
   "metadata": {},
   "source": [
    "Copyright (c) 2020 Dominic O'Kane"
   ]
  }
 ],
 "metadata": {
  "kernelspec": {
   "display_name": "base",
   "language": "python",
   "name": "python3"
  },
  "language_info": {
   "codemirror_mode": {
    "name": "ipython",
    "version": 3
   },
   "file_extension": ".py",
   "mimetype": "text/x-python",
   "name": "python",
   "nbconvert_exporter": "python",
   "pygments_lexer": "ipython3",
   "version": "3.13.5"
  }
 },
 "nbformat": 4,
 "nbformat_minor": 2
}
