{
 "cells": [
  {
   "cell_type": "markdown",
   "metadata": {},
   "source": [
    "# CITIGROUP FLOATING RATE NOTE ANALYSIS"
   ]
  },
  {
   "cell_type": "markdown",
   "metadata": {},
   "source": [
    "This is an analysis of floating rate notes. "
   ]
  },
  {
   "cell_type": "markdown",
   "metadata": {},
   "source": [
    "Based on an example https://fr.mathworks.com/help/finance/floatdiscmargin.html"
   ]
  },
  {
   "cell_type": "code",
   "execution_count": 1,
   "metadata": {
    "execution": {
     "iopub.execute_input": "2025-09-14T22:17:19.014343Z",
     "iopub.status.busy": "2025-09-14T22:17:19.014021Z",
     "iopub.status.idle": "2025-09-14T22:17:19.250620Z",
     "shell.execute_reply": "2025-09-14T22:17:19.250113Z"
    }
   },
   "outputs": [],
   "source": [
    "import numpy as np\n",
    "import matplotlib.pyplot as plt"
   ]
  },
  {
   "cell_type": "code",
   "execution_count": 2,
   "metadata": {
    "execution": {
     "iopub.execute_input": "2025-09-14T22:17:19.252387Z",
     "iopub.status.busy": "2025-09-14T22:17:19.252202Z",
     "iopub.status.idle": "2025-09-14T22:17:20.273513Z",
     "shell.execute_reply": "2025-09-14T22:17:20.273144Z"
    }
   },
   "outputs": [],
   "source": [
    "from financepy.products.rates import *\n",
    "from financepy.products.bonds import *\n",
    "from financepy.utils import *"
   ]
  },
  {
   "cell_type": "markdown",
   "metadata": {},
   "source": [
    "## Define the Details of the FRN"
   ]
  },
  {
   "cell_type": "code",
   "execution_count": 3,
   "metadata": {
    "execution": {
     "iopub.execute_input": "2025-09-14T22:17:20.275102Z",
     "iopub.status.busy": "2025-09-14T22:17:20.274889Z",
     "iopub.status.idle": "2025-09-14T22:17:20.292042Z",
     "shell.execute_reply": "2025-09-14T22:17:20.291470Z"
    }
   },
   "outputs": [],
   "source": [
    "issue_dt = Date(15,1,2010)\n",
    "maturity_dt = Date(15, 1, 2012)\n",
    "quoted_margin = 0.0050\n",
    "freq_type = FrequencyTypes.QUARTERLY\n",
    "dc_type = DayCountTypes.ACT_360\n",
    "face = 100.0"
   ]
  },
  {
   "cell_type": "code",
   "execution_count": 4,
   "metadata": {
    "execution": {
     "iopub.execute_input": "2025-09-14T22:17:20.294161Z",
     "iopub.status.busy": "2025-09-14T22:17:20.294032Z",
     "iopub.status.idle": "2025-09-14T22:17:20.296793Z",
     "shell.execute_reply": "2025-09-14T22:17:20.296491Z"
    }
   },
   "outputs": [],
   "source": [
    "bond = BondFRN(issue_dt, maturity_dt, quoted_margin, freq_type, dc_type)"
   ]
  },
  {
   "cell_type": "code",
   "execution_count": 5,
   "metadata": {
    "execution": {
     "iopub.execute_input": "2025-09-14T22:17:20.297799Z",
     "iopub.status.busy": "2025-09-14T22:17:20.297688Z",
     "iopub.status.idle": "2025-09-14T22:17:20.300958Z",
     "shell.execute_reply": "2025-09-14T22:17:20.300653Z"
    }
   },
   "outputs": [
    {
     "name": "stdout",
     "output_type": "stream",
     "text": [
      "OBJECT TYPE: BondFRN\n",
      "ISSUE DATE: 15-JAN-2010\n",
      "MATURITY DATE: 15-JAN-2012\n",
      "QUOTED MARGIN (bp): 50.0\n",
      "FREQUENCY: FrequencyTypes.QUARTERLY\n",
      "DAY COUNT TYPE: DayCountTypes.ACT_360\n",
      "\n"
     ]
    }
   ],
   "source": [
    "print(bond)"
   ]
  },
  {
   "cell_type": "code",
   "execution_count": 6,
   "metadata": {
    "execution": {
     "iopub.execute_input": "2025-09-14T22:17:20.301905Z",
     "iopub.status.busy": "2025-09-14T22:17:20.301795Z",
     "iopub.status.idle": "2025-09-14T22:17:20.303935Z",
     "shell.execute_reply": "2025-09-14T22:17:20.303654Z"
    }
   },
   "outputs": [],
   "source": [
    "settle_dt = Date(20, 1, 2011)"
   ]
  },
  {
   "cell_type": "code",
   "execution_count": 7,
   "metadata": {
    "execution": {
     "iopub.execute_input": "2025-09-14T22:17:20.304897Z",
     "iopub.status.busy": "2025-09-14T22:17:20.304791Z",
     "iopub.status.idle": "2025-09-14T22:17:20.307394Z",
     "shell.execute_reply": "2025-09-14T22:17:20.307089Z"
    }
   },
   "outputs": [
    {
     "name": "stdout",
     "output_type": "stream",
     "text": [
      "15-APR-2010\n",
      "15-JUL-2010\n",
      "15-OCT-2010\n",
      "15-JAN-2011\n",
      "15-APR-2011\n",
      "15-JUL-2011\n",
      "15-OCT-2011\n",
      "15-JAN-2012\n"
     ]
    }
   ],
   "source": [
    "bond.print_payments(settle_dt)"
   ]
  },
  {
   "cell_type": "markdown",
   "metadata": {},
   "source": [
    "## Analysis"
   ]
  },
  {
   "cell_type": "markdown",
   "metadata": {},
   "source": [
    "The simplest analysis of an FRN considers 3 Libor rates"
   ]
  },
  {
   "cell_type": "code",
   "execution_count": 8,
   "metadata": {
    "execution": {
     "iopub.execute_input": "2025-09-14T22:17:20.308399Z",
     "iopub.status.busy": "2025-09-14T22:17:20.308282Z",
     "iopub.status.idle": "2025-09-14T22:17:20.310648Z",
     "shell.execute_reply": "2025-09-14T22:17:20.310355Z"
    }
   },
   "outputs": [],
   "source": [
    "next_cpn = 0.050 # Full coupon to be paid that fixed on LCD consisting of Libor plus margin\n",
    "currentLibor = 0.049 # To next coupon date\n",
    "futureLibors = 0.050 # Forecast based on next Libor"
   ]
  },
  {
   "cell_type": "code",
   "execution_count": 9,
   "metadata": {
    "execution": {
     "iopub.execute_input": "2025-09-14T22:17:20.311701Z",
     "iopub.status.busy": "2025-09-14T22:17:20.311594Z",
     "iopub.status.idle": "2025-09-14T22:17:20.313495Z",
     "shell.execute_reply": "2025-09-14T22:17:20.313166Z"
    }
   },
   "outputs": [],
   "source": [
    "clean_price = 99.99"
   ]
  },
  {
   "cell_type": "code",
   "execution_count": 10,
   "metadata": {
    "execution": {
     "iopub.execute_input": "2025-09-14T22:17:20.314457Z",
     "iopub.status.busy": "2025-09-14T22:17:20.314346Z",
     "iopub.status.idle": "2025-09-14T22:17:20.316569Z",
     "shell.execute_reply": "2025-09-14T22:17:20.316303Z"
    }
   },
   "outputs": [
    {
     "name": "stdout",
     "output_type": "stream",
     "text": [
      "DISCOUNT MARGIN:   41.3019 bps\n"
     ]
    }
   ],
   "source": [
    "dm = bond.discount_margin(settle_dt, next_cpn, currentLibor, futureLibors, clean_price)\n",
    "print(\"DISCOUNT MARGIN: %9.4f bps\"% (dm*10000))"
   ]
  },
  {
   "cell_type": "code",
   "execution_count": 11,
   "metadata": {
    "execution": {
     "iopub.execute_input": "2025-09-14T22:17:20.317450Z",
     "iopub.status.busy": "2025-09-14T22:17:20.317341Z",
     "iopub.status.idle": "2025-09-14T22:17:20.319435Z",
     "shell.execute_reply": "2025-09-14T22:17:20.319161Z"
    }
   },
   "outputs": [
    {
     "name": "stdout",
     "output_type": "stream",
     "text": [
      "DIRTY PRICE FROM DM:   100.059444 \n"
     ]
    }
   ],
   "source": [
    "dirty_price = bond.dirty_price_from_dm(settle_dt, next_cpn, currentLibor, futureLibors, dm)\n",
    "print(\"DIRTY PRICE FROM DM: %12.6f \"% dirty_price)"
   ]
  },
  {
   "cell_type": "code",
   "execution_count": 12,
   "metadata": {
    "execution": {
     "iopub.execute_input": "2025-09-14T22:17:20.320869Z",
     "iopub.status.busy": "2025-09-14T22:17:20.320563Z",
     "iopub.status.idle": "2025-09-14T22:17:20.322858Z",
     "shell.execute_reply": "2025-09-14T22:17:20.322513Z"
    }
   },
   "outputs": [
    {
     "name": "stdout",
     "output_type": "stream",
     "text": [
      "Previous Coupon Date: 15-JAN-2011\n"
     ]
    }
   ],
   "source": [
    "prevCouponDt = bond._pcd\n",
    "print(\"Previous Coupon Date: %s\"% str(prevCouponDt))"
   ]
  },
  {
   "cell_type": "code",
   "execution_count": 13,
   "metadata": {
    "execution": {
     "iopub.execute_input": "2025-09-14T22:17:20.323861Z",
     "iopub.status.busy": "2025-09-14T22:17:20.323756Z",
     "iopub.status.idle": "2025-09-14T22:17:20.325777Z",
     "shell.execute_reply": "2025-09-14T22:17:20.325439Z"
    }
   },
   "outputs": [
    {
     "name": "stdout",
     "output_type": "stream",
     "text": [
      "Accrued Days:   5.00000\n"
     ]
    }
   ],
   "source": [
    "accddays = bond.accrued_days\n",
    "print(\"Accrued Days: %9.5f\"% accddays)"
   ]
  },
  {
   "cell_type": "code",
   "execution_count": 14,
   "metadata": {
    "execution": {
     "iopub.execute_input": "2025-09-14T22:17:20.326680Z",
     "iopub.status.busy": "2025-09-14T22:17:20.326564Z",
     "iopub.status.idle": "2025-09-14T22:17:20.328906Z",
     "shell.execute_reply": "2025-09-14T22:17:20.328664Z"
    }
   },
   "outputs": [
    {
     "name": "stdout",
     "output_type": "stream",
     "text": [
      "PRINCIPAL FROM DM:   100.058750 \n"
     ]
    }
   ],
   "source": [
    "principal = bond.principal(settle_dt, next_cpn, currentLibor, futureLibors, dm)\n",
    "print(\"PRINCIPAL FROM DM: %12.6f \"% principal)"
   ]
  },
  {
   "cell_type": "code",
   "execution_count": 15,
   "metadata": {
    "execution": {
     "iopub.execute_input": "2025-09-14T22:17:20.329779Z",
     "iopub.status.busy": "2025-09-14T22:17:20.329673Z",
     "iopub.status.idle": "2025-09-14T22:17:20.331929Z",
     "shell.execute_reply": "2025-09-14T22:17:20.331674Z"
    }
   },
   "outputs": [
    {
     "name": "stdout",
     "output_type": "stream",
     "text": [
      "Accrued Amount:   0.00069\n"
     ]
    }
   ],
   "source": [
    "accdAmount = bond.accrued\n",
    "print(\"Accrued Amount: %9.5f\"% accdAmount)"
   ]
  },
  {
   "cell_type": "markdown",
   "metadata": {},
   "source": [
    "Cannot reconcile with Matlab"
   ]
  },
  {
   "cell_type": "markdown",
   "metadata": {},
   "source": [
    "Copyright (c) 2020 Dominic O'Kane"
   ]
  }
 ],
 "metadata": {
  "kernelspec": {
   "display_name": "base",
   "language": "python",
   "name": "python3"
  },
  "language_info": {
   "codemirror_mode": {
    "name": "ipython",
    "version": 3
   },
   "file_extension": ".py",
   "mimetype": "text/x-python",
   "name": "python",
   "nbconvert_exporter": "python",
   "pygments_lexer": "ipython3",
   "version": "3.13.7"
  }
 },
 "nbformat": 4,
 "nbformat_minor": 2
}
