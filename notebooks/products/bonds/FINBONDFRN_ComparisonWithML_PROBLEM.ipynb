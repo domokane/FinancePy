{
 "cells": [
  {
   "cell_type": "markdown",
   "metadata": {},
   "source": [
    "# CITIGROUP FLOATING RATE NOTE ANALYSIS"
   ]
  },
  {
   "cell_type": "markdown",
   "metadata": {},
   "source": [
    "This is an analysis of floating rate notes. "
   ]
  },
  {
   "cell_type": "markdown",
   "metadata": {},
   "source": [
    "Based on an example https://fr.mathworks.com/help/finance/floatdiscmargin.html"
   ]
  },
  {
   "cell_type": "code",
   "execution_count": 1,
   "metadata": {
    "execution": {
     "iopub.execute_input": "2025-08-27T21:36:40.790479Z",
     "iopub.status.busy": "2025-08-27T21:36:40.790164Z",
     "iopub.status.idle": "2025-08-27T21:36:41.280660Z",
     "shell.execute_reply": "2025-08-27T21:36:41.280197Z"
    }
   },
   "outputs": [],
   "source": [
    "import numpy as np\n",
    "import matplotlib.pyplot as plt"
   ]
  },
  {
   "cell_type": "code",
   "execution_count": 2,
   "metadata": {
    "execution": {
     "iopub.execute_input": "2025-08-27T21:36:41.282958Z",
     "iopub.status.busy": "2025-08-27T21:36:41.282695Z",
     "iopub.status.idle": "2025-08-27T21:36:42.997841Z",
     "shell.execute_reply": "2025-08-27T21:36:42.997118Z"
    }
   },
   "outputs": [
    {
     "name": "stdout",
     "output_type": "stream",
     "text": [
      "####################################################################\n",
      "#    FINANCEPY Version 1.1 - This build: 27 Aug 2025 at 23:27      #\n",
      "#     This software is distributed FREE AND WITHOUT ANY WARRANTY   #\n",
      "#  Report bugs as issues at https://github.com/domokane/FinancePy  #\n",
      "####################################################################\n",
      "\n"
     ]
    }
   ],
   "source": [
    "from financepy.products.rates import *\n",
    "from financepy.products.bonds import *\n",
    "from financepy.utils import *"
   ]
  },
  {
   "cell_type": "markdown",
   "metadata": {},
   "source": [
    "## Define the Details of the FRN"
   ]
  },
  {
   "cell_type": "code",
   "execution_count": 3,
   "metadata": {
    "execution": {
     "iopub.execute_input": "2025-08-27T21:36:43.000633Z",
     "iopub.status.busy": "2025-08-27T21:36:43.000202Z",
     "iopub.status.idle": "2025-08-27T21:36:43.028701Z",
     "shell.execute_reply": "2025-08-27T21:36:43.027906Z"
    }
   },
   "outputs": [],
   "source": [
    "issue_dt = Date(15,1,2010)\n",
    "maturity_dt = Date(15, 1, 2012)\n",
    "quoted_margin = 0.0050\n",
    "freq_type = FrequencyTypes.QUARTERLY\n",
    "dc_type = DayCountTypes.ACT_360\n",
    "face = 100.0"
   ]
  },
  {
   "cell_type": "code",
   "execution_count": 4,
   "metadata": {
    "execution": {
     "iopub.execute_input": "2025-08-27T21:36:43.031231Z",
     "iopub.status.busy": "2025-08-27T21:36:43.030924Z",
     "iopub.status.idle": "2025-08-27T21:36:43.034328Z",
     "shell.execute_reply": "2025-08-27T21:36:43.033882Z"
    }
   },
   "outputs": [],
   "source": [
    "bond = BondFRN(issue_dt, maturity_dt, quoted_margin, freq_type, dc_type)"
   ]
  },
  {
   "cell_type": "code",
   "execution_count": 5,
   "metadata": {
    "execution": {
     "iopub.execute_input": "2025-08-27T21:36:43.036304Z",
     "iopub.status.busy": "2025-08-27T21:36:43.036059Z",
     "iopub.status.idle": "2025-08-27T21:36:43.039435Z",
     "shell.execute_reply": "2025-08-27T21:36:43.038828Z"
    }
   },
   "outputs": [
    {
     "name": "stdout",
     "output_type": "stream",
     "text": [
      "OBJECT TYPE: BondFRN\n",
      "ISSUE DATE: 15-JAN-2010\n",
      "MATURITY DATE: 15-JAN-2012\n",
      "QUOTED MARGIN (bp): 50.0\n",
      "FREQUENCY: FrequencyTypes.QUARTERLY\n",
      "DAY COUNT TYPE: DayCountTypes.ACT_360\n",
      "\n"
     ]
    }
   ],
   "source": [
    "print(bond)"
   ]
  },
  {
   "cell_type": "code",
   "execution_count": 6,
   "metadata": {
    "execution": {
     "iopub.execute_input": "2025-08-27T21:36:43.041987Z",
     "iopub.status.busy": "2025-08-27T21:36:43.041572Z",
     "iopub.status.idle": "2025-08-27T21:36:43.044901Z",
     "shell.execute_reply": "2025-08-27T21:36:43.044277Z"
    }
   },
   "outputs": [],
   "source": [
    "settle_dt = Date(20, 1, 2011)"
   ]
  },
  {
   "cell_type": "code",
   "execution_count": 7,
   "metadata": {
    "execution": {
     "iopub.execute_input": "2025-08-27T21:36:43.047732Z",
     "iopub.status.busy": "2025-08-27T21:36:43.047388Z",
     "iopub.status.idle": "2025-08-27T21:36:43.051463Z",
     "shell.execute_reply": "2025-08-27T21:36:43.050988Z"
    }
   },
   "outputs": [
    {
     "name": "stdout",
     "output_type": "stream",
     "text": [
      "15-APR-2010\n",
      "15-JUL-2010\n",
      "15-OCT-2010\n",
      "15-JAN-2011\n",
      "15-APR-2011\n",
      "15-JUL-2011\n",
      "15-OCT-2011\n",
      "15-JAN-2012\n"
     ]
    }
   ],
   "source": [
    "bond.print_payments(settle_dt)"
   ]
  },
  {
   "cell_type": "markdown",
   "metadata": {},
   "source": [
    "## Analysis"
   ]
  },
  {
   "cell_type": "markdown",
   "metadata": {},
   "source": [
    "The simplest analysis of an FRN considers 3 Libor rates"
   ]
  },
  {
   "cell_type": "code",
   "execution_count": 8,
   "metadata": {
    "execution": {
     "iopub.execute_input": "2025-08-27T21:36:43.054409Z",
     "iopub.status.busy": "2025-08-27T21:36:43.054069Z",
     "iopub.status.idle": "2025-08-27T21:36:43.057259Z",
     "shell.execute_reply": "2025-08-27T21:36:43.056821Z"
    }
   },
   "outputs": [],
   "source": [
    "next_cpn = 0.050 # Full coupon to be paid that fixed on LCD consisting of Libor plus margin\n",
    "currentLibor = 0.049 # To next coupon date\n",
    "futureLibors = 0.050 # Forecast based on next Libor"
   ]
  },
  {
   "cell_type": "code",
   "execution_count": 9,
   "metadata": {
    "execution": {
     "iopub.execute_input": "2025-08-27T21:36:43.059844Z",
     "iopub.status.busy": "2025-08-27T21:36:43.059527Z",
     "iopub.status.idle": "2025-08-27T21:36:43.062603Z",
     "shell.execute_reply": "2025-08-27T21:36:43.062143Z"
    }
   },
   "outputs": [],
   "source": [
    "clean_price = 99.99"
   ]
  },
  {
   "cell_type": "code",
   "execution_count": 10,
   "metadata": {
    "execution": {
     "iopub.execute_input": "2025-08-27T21:36:43.064444Z",
     "iopub.status.busy": "2025-08-27T21:36:43.064215Z",
     "iopub.status.idle": "2025-08-27T21:36:43.068067Z",
     "shell.execute_reply": "2025-08-27T21:36:43.067467Z"
    }
   },
   "outputs": [
    {
     "name": "stdout",
     "output_type": "stream",
     "text": [
      "DISCOUNT MARGIN:   41.3019 bps\n"
     ]
    }
   ],
   "source": [
    "dm = bond.discount_margin(settle_dt, next_cpn, currentLibor, futureLibors, clean_price)\n",
    "print(\"DISCOUNT MARGIN: %9.4f bps\"% (dm*10000))"
   ]
  },
  {
   "cell_type": "code",
   "execution_count": 11,
   "metadata": {
    "execution": {
     "iopub.execute_input": "2025-08-27T21:36:43.070116Z",
     "iopub.status.busy": "2025-08-27T21:36:43.069851Z",
     "iopub.status.idle": "2025-08-27T21:36:43.073014Z",
     "shell.execute_reply": "2025-08-27T21:36:43.072408Z"
    }
   },
   "outputs": [
    {
     "name": "stdout",
     "output_type": "stream",
     "text": [
      "DIRTY PRICE FROM DM:   100.059444 \n"
     ]
    }
   ],
   "source": [
    "dirty_price = bond.dirty_price_from_dm(settle_dt, next_cpn, currentLibor, futureLibors, dm)\n",
    "print(\"DIRTY PRICE FROM DM: %12.6f \"% dirty_price)"
   ]
  },
  {
   "cell_type": "code",
   "execution_count": 12,
   "metadata": {
    "execution": {
     "iopub.execute_input": "2025-08-27T21:36:43.075689Z",
     "iopub.status.busy": "2025-08-27T21:36:43.075145Z",
     "iopub.status.idle": "2025-08-27T21:36:43.078633Z",
     "shell.execute_reply": "2025-08-27T21:36:43.078150Z"
    }
   },
   "outputs": [
    {
     "name": "stdout",
     "output_type": "stream",
     "text": [
      "Previous Coupon Date: 15-JAN-2011\n"
     ]
    }
   ],
   "source": [
    "prevCouponDt = bond._pcd\n",
    "print(\"Previous Coupon Date: %s\"% str(prevCouponDt))"
   ]
  },
  {
   "cell_type": "code",
   "execution_count": 13,
   "metadata": {
    "execution": {
     "iopub.execute_input": "2025-08-27T21:36:43.080831Z",
     "iopub.status.busy": "2025-08-27T21:36:43.080359Z",
     "iopub.status.idle": "2025-08-27T21:36:43.083847Z",
     "shell.execute_reply": "2025-08-27T21:36:43.083460Z"
    }
   },
   "outputs": [
    {
     "name": "stdout",
     "output_type": "stream",
     "text": [
      "Accrued Days:   5.00000\n"
     ]
    }
   ],
   "source": [
    "accddays = bond.accrued_days\n",
    "print(\"Accrued Days: %9.5f\"% accddays)"
   ]
  },
  {
   "cell_type": "code",
   "execution_count": 14,
   "metadata": {
    "execution": {
     "iopub.execute_input": "2025-08-27T21:36:43.085913Z",
     "iopub.status.busy": "2025-08-27T21:36:43.085604Z",
     "iopub.status.idle": "2025-08-27T21:36:43.088847Z",
     "shell.execute_reply": "2025-08-27T21:36:43.088410Z"
    }
   },
   "outputs": [
    {
     "name": "stdout",
     "output_type": "stream",
     "text": [
      "PRINCIPAL FROM DM:   100.058750 \n"
     ]
    }
   ],
   "source": [
    "principal = bond.principal(settle_dt, next_cpn, currentLibor, futureLibors, dm)\n",
    "print(\"PRINCIPAL FROM DM: %12.6f \"% principal)"
   ]
  },
  {
   "cell_type": "code",
   "execution_count": 15,
   "metadata": {
    "execution": {
     "iopub.execute_input": "2025-08-27T21:36:43.090680Z",
     "iopub.status.busy": "2025-08-27T21:36:43.090464Z",
     "iopub.status.idle": "2025-08-27T21:36:43.093335Z",
     "shell.execute_reply": "2025-08-27T21:36:43.092897Z"
    }
   },
   "outputs": [
    {
     "name": "stdout",
     "output_type": "stream",
     "text": [
      "Accrued Amount:   0.00069\n"
     ]
    }
   ],
   "source": [
    "accdAmount = bond.accrued\n",
    "print(\"Accrued Amount: %9.5f\"% accdAmount)"
   ]
  },
  {
   "cell_type": "markdown",
   "metadata": {},
   "source": [
    "Cannot reconcile with Matlab"
   ]
  },
  {
   "cell_type": "markdown",
   "metadata": {},
   "source": [
    "Copyright (c) 2020 Dominic O'Kane"
   ]
  }
 ],
 "metadata": {
  "kernelspec": {
   "display_name": "base",
   "language": "python",
   "name": "python3"
  },
  "language_info": {
   "codemirror_mode": {
    "name": "ipython",
    "version": 3
   },
   "file_extension": ".py",
   "mimetype": "text/x-python",
   "name": "python",
   "nbconvert_exporter": "python",
   "pygments_lexer": "ipython3",
   "version": "3.13.5"
  }
 },
 "nbformat": 4,
 "nbformat_minor": 2
}
