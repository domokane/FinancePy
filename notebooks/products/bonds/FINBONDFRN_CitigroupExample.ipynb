{
    "cells": [
        {
            "cell_type": "markdown",
            "metadata": {},
            "source": [
                "# CITIGROUP FLOATING RATE NOTE ANALYSIS"
            ]
        },
        {
            "cell_type": "markdown",
            "metadata": {},
            "source": [
                "This is an analysis of floating rate notes. "
            ]
        },
        {
            "cell_type": "markdown",
            "metadata": {},
            "source": [
                "Based on an example of a Citigroup FRN from https://data.bloomberglp.com/bat/sites/3/2017/07/SF-2017_Paul-Fjeldsted.pdf"
            ]
        },
        {
            "cell_type": "code",
            "execution_count": 1,
            "metadata": {
                "execution": {
                    "iopub.execute_input": "2024-04-30T19:43:12.458963Z",
                    "iopub.status.busy": "2024-04-30T19:43:12.458963Z",
                    "iopub.status.idle": "2024-04-30T19:43:12.947678Z",
                    "shell.execute_reply": "2024-04-30T19:43:12.947678Z"
                }
            },
            "outputs": [],
            "source": [
                "import numpy as np\n",
                "import matplotlib.pyplot as plt"
            ]
        },
        {
            "cell_type": "code",
            "execution_count": 2,
            "metadata": {
                "execution": {
                    "iopub.execute_input": "2024-04-30T19:43:12.950729Z",
                    "iopub.status.busy": "2024-04-30T19:43:12.949726Z",
                    "iopub.status.idle": "2024-04-30T19:43:14.335557Z",
                    "shell.execute_reply": "2024-04-30T19:43:14.335557Z"
                }
            },
            "outputs": [
                {
                    "name": "stdout",
                    "output_type": "stream",
                    "text": [
                        "####################################################################\n",
                        "#  FINANCEPY BETA Version 0.350 - This build: 30 Apr 2024 at 21:20 #\n",
                        "#     This software is distributed FREE AND WITHOUT ANY WARRANTY   #\n",
                        "#  Report bugs as issues at https://github.com/domokane/FinancePy  #\n",
                        "####################################################################\n",
                        "\n"
                    ]
                }
            ],
            "source": [
                "from financepy.products.rates import *\n",
                "from financepy.products.bonds import *\n",
                "from financepy.utils import *"
            ]
        },
        {
            "cell_type": "markdown",
            "metadata": {},
            "source": [
                "## Define the Details of the FRN"
            ]
        },
        {
            "cell_type": "code",
            "execution_count": 3,
            "metadata": {
                "execution": {
                    "iopub.execute_input": "2024-04-30T19:43:14.338570Z",
                    "iopub.status.busy": "2024-04-30T19:43:14.338570Z",
                    "iopub.status.idle": "2024-04-30T19:43:14.360665Z",
                    "shell.execute_reply": "2024-04-30T19:43:14.360665Z"
                }
            },
            "outputs": [],
            "source": [
                "issue_dt = Date(10, 11, 2015)\n",
                "maturity_dt = Date(10, 11, 2021)\n",
                "quoted_margin = 0.0025\n",
                "freq_type = FrequencyTypes.QUARTERLY\n",
                "dc_type = DayCountTypes.THIRTY_360_BOND\n",
                "face = ONE_MILLION"
            ]
        },
        {
            "cell_type": "code",
            "execution_count": 4,
            "metadata": {
                "execution": {
                    "iopub.execute_input": "2024-04-30T19:43:14.363693Z",
                    "iopub.status.busy": "2024-04-30T19:43:14.363693Z",
                    "iopub.status.idle": "2024-04-30T19:43:14.367127Z",
                    "shell.execute_reply": "2024-04-30T19:43:14.367127Z"
                }
            },
            "outputs": [],
            "source": [
                "bond = BondFRN(issue_dt, maturity_dt, quoted_margin, freq_type, dc_type)"
            ]
        },
        {
            "cell_type": "code",
            "execution_count": 5,
            "metadata": {
                "execution": {
                    "iopub.execute_input": "2024-04-30T19:43:14.370159Z",
                    "iopub.status.busy": "2024-04-30T19:43:14.370159Z",
                    "iopub.status.idle": "2024-04-30T19:43:14.373045Z",
                    "shell.execute_reply": "2024-04-30T19:43:14.373045Z"
                }
            },
            "outputs": [
                {
                    "name": "stdout",
                    "output_type": "stream",
                    "text": [
                        "OBJECT TYPE: BondFRN\n",
                        "ISSUE DATE: 10-NOV-2015\n",
                        "MATURITY DATE: 10-NOV-2021\n",
                        "QUOTED MARGIN (bp): 25.0\n",
                        "FREQUENCY: FrequencyTypes.QUARTERLY\n",
                        "DAY COUNT TYPE: DayCountTypes.THIRTY_360_BOND\n",
                        "\n"
                    ]
                }
            ],
            "source": [
                "print(bond)"
            ]
        },
        {
            "cell_type": "code",
            "execution_count": 6,
            "metadata": {
                "execution": {
                    "iopub.execute_input": "2024-04-30T19:43:14.376082Z",
                    "iopub.status.busy": "2024-04-30T19:43:14.375076Z",
                    "iopub.status.idle": "2024-04-30T19:43:14.378545Z",
                    "shell.execute_reply": "2024-04-30T19:43:14.378290Z"
                }
            },
            "outputs": [],
            "source": [
                "settle_dt = Date(21, 7, 2017)"
            ]
        },
        {
            "cell_type": "code",
            "execution_count": 7,
            "metadata": {
                "execution": {
                    "iopub.execute_input": "2024-04-30T19:43:14.381048Z",
                    "iopub.status.busy": "2024-04-30T19:43:14.381048Z",
                    "iopub.status.idle": "2024-04-30T19:43:14.384487Z",
                    "shell.execute_reply": "2024-04-30T19:43:14.384487Z"
                },
                "scrolled": false
            },
            "outputs": [
                {
                    "name": "stdout",
                    "output_type": "stream",
                    "text": [
                        "10-FEB-2016\n",
                        "10-MAY-2016\n",
                        "10-AUG-2016\n",
                        "10-NOV-2016\n",
                        "10-FEB-2017\n",
                        "10-MAY-2017\n",
                        "10-AUG-2017\n",
                        "10-NOV-2017\n",
                        "10-FEB-2018\n",
                        "10-MAY-2018\n",
                        "10-AUG-2018\n",
                        "10-NOV-2018\n",
                        "10-FEB-2019\n",
                        "10-MAY-2019\n",
                        "10-AUG-2019\n",
                        "10-NOV-2019\n",
                        "10-FEB-2020\n",
                        "10-MAY-2020\n",
                        "10-AUG-2020\n",
                        "10-NOV-2020\n",
                        "10-FEB-2021\n",
                        "10-MAY-2021\n",
                        "10-AUG-2021\n",
                        "10-NOV-2021\n"
                    ]
                }
            ],
            "source": [
                "bond.print_payments(settle_dt)"
            ]
        },
        {
            "cell_type": "markdown",
            "metadata": {},
            "source": [
                "## Analysis"
            ]
        },
        {
            "cell_type": "markdown",
            "metadata": {},
            "source": [
                "The simplest analysis of an FRN considers 3 Ibor rates"
            ]
        },
        {
            "cell_type": "code",
            "execution_count": 8,
            "metadata": {
                "execution": {
                    "iopub.execute_input": "2024-04-30T19:43:14.387061Z",
                    "iopub.status.busy": "2024-04-30T19:43:14.387061Z",
                    "iopub.status.idle": "2024-04-30T19:43:14.390440Z",
                    "shell.execute_reply": "2024-04-30T19:43:14.390182Z"
                }
            },
            "outputs": [],
            "source": [
                "next_cpn = 0.01434560\n",
                "current_ibor = 0.01210534\n",
                "future_ibors = 0.01305220"
            ]
        },
        {
            "cell_type": "code",
            "execution_count": 9,
            "metadata": {
                "execution": {
                    "iopub.execute_input": "2024-04-30T19:43:14.392439Z",
                    "iopub.status.busy": "2024-04-30T19:43:14.392439Z",
                    "iopub.status.idle": "2024-04-30T19:43:14.395513Z",
                    "shell.execute_reply": "2024-04-30T19:43:14.395513Z"
                }
            },
            "outputs": [],
            "source": [
                "clean_price = 96.793"
            ]
        },
        {
            "cell_type": "code",
            "execution_count": 10,
            "metadata": {
                "execution": {
                    "iopub.execute_input": "2024-04-30T19:43:14.398079Z",
                    "iopub.status.busy": "2024-04-30T19:43:14.398079Z",
                    "iopub.status.idle": "2024-04-30T19:43:14.402360Z",
                    "shell.execute_reply": "2024-04-30T19:43:14.402106Z"
                },
                "scrolled": true
            },
            "outputs": [
                {
                    "name": "stdout",
                    "output_type": "stream",
                    "text": [
                        "DISCOUNT MARGIN: 103.518944 bps\n"
                    ]
                }
            ],
            "source": [
                "dm = bond.discount_margin(settle_dt, next_cpn, current_ibor, future_ibors, clean_price)\n",
                "print(\"DISCOUNT MARGIN: %9.6f bps\"% (dm*10000))"
            ]
        },
        {
            "cell_type": "code",
            "execution_count": 11,
            "metadata": {
                "execution": {
                    "iopub.execute_input": "2024-04-30T19:43:14.404359Z",
                    "iopub.status.busy": "2024-04-30T19:43:14.404359Z",
                    "iopub.status.idle": "2024-04-30T19:43:14.408361Z",
                    "shell.execute_reply": "2024-04-30T19:43:14.408103Z"
                }
            },
            "outputs": [
                {
                    "name": "stdout",
                    "output_type": "stream",
                    "text": [
                        "DIRTY PRICE FROM DM:    97.075927 \n"
                    ]
                }
            ],
            "source": [
                "dirty_price = bond.dirty_price_from_dm(settle_dt, next_cpn, current_ibor, future_ibors, dm)\n",
                "print(\"DIRTY PRICE FROM DM: %12.6f \"% dirty_price)"
            ]
        },
        {
            "cell_type": "code",
            "execution_count": 12,
            "metadata": {
                "execution": {
                    "iopub.execute_input": "2024-04-30T19:43:14.410361Z",
                    "iopub.status.busy": "2024-04-30T19:43:14.410361Z",
                    "iopub.status.idle": "2024-04-30T19:43:14.413803Z",
                    "shell.execute_reply": "2024-04-30T19:43:14.413803Z"
                }
            },
            "outputs": [
                {
                    "name": "stdout",
                    "output_type": "stream",
                    "text": [
                        "Previous Coupon Date: 10-MAY-2017\n"
                    ]
                }
            ],
            "source": [
                "prevCouponDt = bond._pcd\n",
                "print(\"Previous Coupon Date: %s\"% str(prevCouponDt))"
            ]
        },
        {
            "cell_type": "code",
            "execution_count": 13,
            "metadata": {
                "execution": {
                    "iopub.execute_input": "2024-04-30T19:43:14.416803Z",
                    "iopub.status.busy": "2024-04-30T19:43:14.415807Z",
                    "iopub.status.idle": "2024-04-30T19:43:14.419170Z",
                    "shell.execute_reply": "2024-04-30T19:43:14.419170Z"
                }
            },
            "outputs": [
                {
                    "name": "stdout",
                    "output_type": "stream",
                    "text": [
                        "Accrued Days:  71.00000\n"
                    ]
                }
            ],
            "source": [
                "accddays = bond.accrued_days\n",
                "print(\"Accrued Days: %9.5f\"% accddays)"
            ]
        },
        {
            "cell_type": "code",
            "execution_count": 14,
            "metadata": {
                "execution": {
                    "iopub.execute_input": "2024-04-30T19:43:14.422169Z",
                    "iopub.status.busy": "2024-04-30T19:43:14.421173Z",
                    "iopub.status.idle": "2024-04-30T19:43:14.424618Z",
                    "shell.execute_reply": "2024-04-30T19:43:14.424618Z"
                }
            },
            "outputs": [
                {
                    "name": "stdout",
                    "output_type": "stream",
                    "text": [
                        "PRINCIPAL FROM DM:    97.073098 \n"
                    ]
                }
            ],
            "source": [
                "principal = bond.principal(settle_dt, next_cpn, current_ibor, future_ibors, dm)\n",
                "print(\"PRINCIPAL FROM DM: %12.6f \"% principal)"
            ]
        },
        {
            "cell_type": "code",
            "execution_count": 15,
            "metadata": {
                "execution": {
                    "iopub.execute_input": "2024-04-30T19:43:14.426622Z",
                    "iopub.status.busy": "2024-04-30T19:43:14.426622Z",
                    "iopub.status.idle": "2024-04-30T19:43:14.430451Z",
                    "shell.execute_reply": "2024-04-30T19:43:14.430451Z"
                }
            },
            "outputs": [
                {
                    "name": "stdout",
                    "output_type": "stream",
                    "text": [
                        "Accrued Amount:      0.28\n"
                    ]
                }
            ],
            "source": [
                "accdAmount = bond.accrual_factor * bond.par * next_cpn\n",
                "print(\"Accrued Amount: %9.2f\"% accdAmount)"
            ]
        },
        {
            "cell_type": "markdown",
            "metadata": {},
            "source": [
                "## Determine the Rate Duration and Convexity"
            ]
        },
        {
            "cell_type": "code",
            "execution_count": 16,
            "metadata": {
                "execution": {
                    "iopub.execute_input": "2024-04-30T19:43:14.433476Z",
                    "iopub.status.busy": "2024-04-30T19:43:14.433476Z",
                    "iopub.status.idle": "2024-04-30T19:43:14.436624Z",
                    "shell.execute_reply": "2024-04-30T19:43:14.436624Z"
                }
            },
            "outputs": [
                {
                    "name": "stdout",
                    "output_type": "stream",
                    "text": [
                        "Dollar Duration:   5.11739\n"
                    ]
                }
            ],
            "source": [
                "duration = bond.dollar_duration(settle_dt, next_cpn, current_ibor, future_ibors, dm)\n",
                "print(\"Dollar Duration: %9.5f\" % duration)"
            ]
        },
        {
            "cell_type": "code",
            "execution_count": 17,
            "metadata": {
                "execution": {
                    "iopub.execute_input": "2024-04-30T19:43:14.439134Z",
                    "iopub.status.busy": "2024-04-30T19:43:14.439134Z",
                    "iopub.status.idle": "2024-04-30T19:43:14.442802Z",
                    "shell.execute_reply": "2024-04-30T19:43:14.442802Z"
                }
            },
            "outputs": [
                {
                    "name": "stdout",
                    "output_type": "stream",
                    "text": [
                        "Modified Duration:   0.05272\n"
                    ]
                }
            ],
            "source": [
                "modified_duration = bond.modified_duration(settle_dt, next_cpn, current_ibor, future_ibors, dm)\n",
                "print(\"Modified Duration: %9.5f\" % modified_duration)"
            ]
        },
        {
            "cell_type": "code",
            "execution_count": 18,
            "metadata": {
                "execution": {
                    "iopub.execute_input": "2024-04-30T19:43:14.445804Z",
                    "iopub.status.busy": "2024-04-30T19:43:14.445804Z",
                    "iopub.status.idle": "2024-04-30T19:43:14.449435Z",
                    "shell.execute_reply": "2024-04-30T19:43:14.449435Z"
                }
            },
            "outputs": [
                {
                    "name": "stdout",
                    "output_type": "stream",
                    "text": [
                        "Macauley Duration:   0.05304\n"
                    ]
                }
            ],
            "source": [
                "macauley_duration = bond.macauley_duration(settle_dt, next_cpn, current_ibor, future_ibors, dm)\n",
                "print(\"Macauley Duration: %9.5f\" % macauley_duration)"
            ]
        },
        {
            "cell_type": "code",
            "execution_count": 19,
            "metadata": {
                "execution": {
                    "iopub.execute_input": "2024-04-30T19:43:14.452434Z",
                    "iopub.status.busy": "2024-04-30T19:43:14.452434Z",
                    "iopub.status.idle": "2024-04-30T19:43:14.455815Z",
                    "shell.execute_reply": "2024-04-30T19:43:14.455815Z"
                }
            },
            "outputs": [
                {
                    "name": "stdout",
                    "output_type": "stream",
                    "text": [
                        "Convexity:  0.000056\n"
                    ]
                }
            ],
            "source": [
                "convexity = bond.convexity_from_dm(settle_dt, next_cpn, current_ibor, future_ibors, dm)\n",
                "print(\"Convexity: %9.6f\" % convexity)"
            ]
        },
        {
            "cell_type": "markdown",
            "metadata": {},
            "source": [
                "## Determine the Credit Duration and Convexity"
            ]
        },
        {
            "cell_type": "code",
            "execution_count": 20,
            "metadata": {
                "execution": {
                    "iopub.execute_input": "2024-04-30T19:43:14.458844Z",
                    "iopub.status.busy": "2024-04-30T19:43:14.458844Z",
                    "iopub.status.idle": "2024-04-30T19:43:14.461745Z",
                    "shell.execute_reply": "2024-04-30T19:43:14.461745Z"
                }
            },
            "outputs": [
                {
                    "name": "stdout",
                    "output_type": "stream",
                    "text": [
                        "Dollar Credit Duration: 401.00825\n"
                    ]
                }
            ],
            "source": [
                "duration = bond.dollar_credit_duration(settle_dt, next_cpn, current_ibor, future_ibors, dm)\n",
                "print(\"Dollar Credit Duration: %9.5f\" % duration)"
            ]
        },
        {
            "cell_type": "code",
            "execution_count": 21,
            "metadata": {
                "execution": {
                    "iopub.execute_input": "2024-04-30T19:43:14.464311Z",
                    "iopub.status.busy": "2024-04-30T19:43:14.464311Z",
                    "iopub.status.idle": "2024-04-30T19:43:14.467849Z",
                    "shell.execute_reply": "2024-04-30T19:43:14.467849Z"
                }
            },
            "outputs": [
                {
                    "name": "stdout",
                    "output_type": "stream",
                    "text": [
                        "Modified Credit Duration:   4.13087\n"
                    ]
                }
            ],
            "source": [
                "modified_duration = bond.modified_credit_duration(settle_dt, next_cpn, current_ibor, future_ibors, dm)\n",
                "print(\"Modified Credit Duration: %9.5f\" % modified_duration)"
            ]
        },
        {
            "cell_type": "markdown",
            "metadata": {},
            "source": [
                "Copyright (c) 2020 Dominic O'Kane"
            ]
        },
        {
            "cell_type": "markdown",
            "metadata": {},
            "source": []
        }
    ],
    "metadata": {
        "kernelspec": {
            "display_name": "Python 3",
            "language": "python",
            "name": "python3"
        },
        "language_info": {
            "codemirror_mode": {
                "name": "ipython",
                "version": 3
            },
            "file_extension": ".py",
            "mimetype": "text/x-python",
            "name": "python",
            "nbconvert_exporter": "python",
            "pygments_lexer": "ipython3",
            "version": "3.11.5"
        }
    },
    "nbformat": 4,
    "nbformat_minor": 2
}
