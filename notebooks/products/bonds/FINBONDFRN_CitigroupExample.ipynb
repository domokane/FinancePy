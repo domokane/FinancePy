{
 "cells": [
  {
   "cell_type": "markdown",
   "metadata": {},
   "source": [
    "# CITIGROUP FLOATING RATE NOTE ANALYSIS"
   ]
  },
  {
   "cell_type": "markdown",
   "metadata": {},
   "source": [
    "This is an analysis of floating rate notes. "
   ]
  },
  {
   "cell_type": "markdown",
   "metadata": {},
   "source": [
    "Based on an example of a Citigroup FRN from https://data.bloomberglp.com/bat/sites/3/2017/07/SF-2017_Paul-Fjeldsted.pdf"
   ]
  },
  {
   "cell_type": "code",
   "execution_count": 1,
   "metadata": {
    "execution": {
     "iopub.execute_input": "2025-08-27T22:23:34.280623Z",
     "iopub.status.busy": "2025-08-27T22:23:34.280408Z",
     "iopub.status.idle": "2025-08-27T22:23:34.785115Z",
     "shell.execute_reply": "2025-08-27T22:23:34.784554Z"
    }
   },
   "outputs": [],
   "source": [
    "import numpy as np\n",
    "import matplotlib.pyplot as plt"
   ]
  },
  {
   "cell_type": "code",
   "execution_count": 2,
   "metadata": {
    "execution": {
     "iopub.execute_input": "2025-08-27T22:23:34.787626Z",
     "iopub.status.busy": "2025-08-27T22:23:34.787287Z",
     "iopub.status.idle": "2025-08-27T22:23:36.526974Z",
     "shell.execute_reply": "2025-08-27T22:23:36.526453Z"
    }
   },
   "outputs": [],
   "source": [
    "from financepy.products.rates import *\n",
    "from financepy.products.bonds import *\n",
    "from financepy.utils import *"
   ]
  },
  {
   "cell_type": "markdown",
   "metadata": {},
   "source": [
    "## Define the Details of the FRN"
   ]
  },
  {
   "cell_type": "code",
   "execution_count": 3,
   "metadata": {
    "execution": {
     "iopub.execute_input": "2025-08-27T22:23:36.529687Z",
     "iopub.status.busy": "2025-08-27T22:23:36.529350Z",
     "iopub.status.idle": "2025-08-27T22:23:36.547584Z",
     "shell.execute_reply": "2025-08-27T22:23:36.547168Z"
    }
   },
   "outputs": [],
   "source": [
    "issue_dt = Date(10, 11, 2015)\n",
    "maturity_dt = Date(10, 11, 2021)\n",
    "quoted_margin = 0.0025\n",
    "freq_type = FrequencyTypes.QUARTERLY\n",
    "dc_type = DayCountTypes.THIRTY_360_BOND\n",
    "face = ONE_MILLION"
   ]
  },
  {
   "cell_type": "code",
   "execution_count": 4,
   "metadata": {
    "execution": {
     "iopub.execute_input": "2025-08-27T22:23:36.549799Z",
     "iopub.status.busy": "2025-08-27T22:23:36.549586Z",
     "iopub.status.idle": "2025-08-27T22:23:36.552467Z",
     "shell.execute_reply": "2025-08-27T22:23:36.552076Z"
    }
   },
   "outputs": [],
   "source": [
    "bond = BondFRN(issue_dt, maturity_dt, quoted_margin, freq_type, dc_type)"
   ]
  },
  {
   "cell_type": "code",
   "execution_count": 5,
   "metadata": {
    "execution": {
     "iopub.execute_input": "2025-08-27T22:23:36.554424Z",
     "iopub.status.busy": "2025-08-27T22:23:36.554117Z",
     "iopub.status.idle": "2025-08-27T22:23:36.558186Z",
     "shell.execute_reply": "2025-08-27T22:23:36.557833Z"
    }
   },
   "outputs": [
    {
     "name": "stdout",
     "output_type": "stream",
     "text": [
      "OBJECT TYPE: BondFRN\n",
      "ISSUE DATE: 10-NOV-2015\n",
      "MATURITY DATE: 10-NOV-2021\n",
      "QUOTED MARGIN (bp): 25.0\n",
      "FREQUENCY: FrequencyTypes.QUARTERLY\n",
      "DAY COUNT TYPE: DayCountTypes.THIRTY_360_BOND\n",
      "\n"
     ]
    }
   ],
   "source": [
    "print(bond)"
   ]
  },
  {
   "cell_type": "code",
   "execution_count": 6,
   "metadata": {
    "execution": {
     "iopub.execute_input": "2025-08-27T22:23:36.560194Z",
     "iopub.status.busy": "2025-08-27T22:23:36.559972Z",
     "iopub.status.idle": "2025-08-27T22:23:36.562290Z",
     "shell.execute_reply": "2025-08-27T22:23:36.561853Z"
    }
   },
   "outputs": [],
   "source": [
    "settle_dt = Date(21, 7, 2017)"
   ]
  },
  {
   "cell_type": "code",
   "execution_count": 7,
   "metadata": {
    "execution": {
     "iopub.execute_input": "2025-08-27T22:23:36.563963Z",
     "iopub.status.busy": "2025-08-27T22:23:36.563708Z",
     "iopub.status.idle": "2025-08-27T22:23:36.566819Z",
     "shell.execute_reply": "2025-08-27T22:23:36.566347Z"
    },
    "scrolled": false
   },
   "outputs": [
    {
     "name": "stdout",
     "output_type": "stream",
     "text": [
      "10-FEB-2016\n",
      "10-MAY-2016\n",
      "10-AUG-2016\n",
      "10-NOV-2016\n",
      "10-FEB-2017\n",
      "10-MAY-2017\n",
      "10-AUG-2017\n",
      "10-NOV-2017\n",
      "10-FEB-2018\n",
      "10-MAY-2018\n",
      "10-AUG-2018\n",
      "10-NOV-2018\n",
      "10-FEB-2019\n",
      "10-MAY-2019\n",
      "10-AUG-2019\n",
      "10-NOV-2019\n",
      "10-FEB-2020\n",
      "10-MAY-2020\n",
      "10-AUG-2020\n",
      "10-NOV-2020\n",
      "10-FEB-2021\n",
      "10-MAY-2021\n",
      "10-AUG-2021\n",
      "10-NOV-2021\n"
     ]
    }
   ],
   "source": [
    "bond.print_payments(settle_dt)"
   ]
  },
  {
   "cell_type": "markdown",
   "metadata": {},
   "source": [
    "## Analysis"
   ]
  },
  {
   "cell_type": "markdown",
   "metadata": {},
   "source": [
    "The simplest analysis of an FRN considers 3 Ibor rates"
   ]
  },
  {
   "cell_type": "code",
   "execution_count": 8,
   "metadata": {
    "execution": {
     "iopub.execute_input": "2025-08-27T22:23:36.568789Z",
     "iopub.status.busy": "2025-08-27T22:23:36.568561Z",
     "iopub.status.idle": "2025-08-27T22:23:36.571361Z",
     "shell.execute_reply": "2025-08-27T22:23:36.570935Z"
    }
   },
   "outputs": [],
   "source": [
    "next_cpn = 0.01434560\n",
    "current_ibor = 0.01210534\n",
    "future_ibors = 0.01305220"
   ]
  },
  {
   "cell_type": "code",
   "execution_count": 9,
   "metadata": {
    "execution": {
     "iopub.execute_input": "2025-08-27T22:23:36.573538Z",
     "iopub.status.busy": "2025-08-27T22:23:36.573229Z",
     "iopub.status.idle": "2025-08-27T22:23:36.575911Z",
     "shell.execute_reply": "2025-08-27T22:23:36.575354Z"
    }
   },
   "outputs": [],
   "source": [
    "clean_price = 96.793"
   ]
  },
  {
   "cell_type": "code",
   "execution_count": 10,
   "metadata": {
    "execution": {
     "iopub.execute_input": "2025-08-27T22:23:36.578102Z",
     "iopub.status.busy": "2025-08-27T22:23:36.577791Z",
     "iopub.status.idle": "2025-08-27T22:23:36.581035Z",
     "shell.execute_reply": "2025-08-27T22:23:36.580701Z"
    },
    "scrolled": true
   },
   "outputs": [
    {
     "name": "stdout",
     "output_type": "stream",
     "text": [
      "DISCOUNT MARGIN: 103.518944 bps\n"
     ]
    }
   ],
   "source": [
    "dm = bond.discount_margin(settle_dt, next_cpn, current_ibor, future_ibors, clean_price)\n",
    "print(\"DISCOUNT MARGIN: %9.6f bps\"% (dm*10000))"
   ]
  },
  {
   "cell_type": "code",
   "execution_count": 11,
   "metadata": {
    "execution": {
     "iopub.execute_input": "2025-08-27T22:23:36.583268Z",
     "iopub.status.busy": "2025-08-27T22:23:36.582914Z",
     "iopub.status.idle": "2025-08-27T22:23:36.585610Z",
     "shell.execute_reply": "2025-08-27T22:23:36.585156Z"
    }
   },
   "outputs": [
    {
     "name": "stdout",
     "output_type": "stream",
     "text": [
      "DIRTY PRICE FROM DM:    97.075927 \n"
     ]
    }
   ],
   "source": [
    "dirty_price = bond.dirty_price_from_dm(settle_dt, next_cpn, current_ibor, future_ibors, dm)\n",
    "print(\"DIRTY PRICE FROM DM: %12.6f \"% dirty_price)"
   ]
  },
  {
   "cell_type": "code",
   "execution_count": 12,
   "metadata": {
    "execution": {
     "iopub.execute_input": "2025-08-27T22:23:36.587620Z",
     "iopub.status.busy": "2025-08-27T22:23:36.587360Z",
     "iopub.status.idle": "2025-08-27T22:23:36.590150Z",
     "shell.execute_reply": "2025-08-27T22:23:36.589754Z"
    }
   },
   "outputs": [
    {
     "name": "stdout",
     "output_type": "stream",
     "text": [
      "Previous Coupon Date: 10-MAY-2017\n"
     ]
    }
   ],
   "source": [
    "prevCouponDt = bond._pcd\n",
    "print(\"Previous Coupon Date: %s\"% str(prevCouponDt))"
   ]
  },
  {
   "cell_type": "code",
   "execution_count": 13,
   "metadata": {
    "execution": {
     "iopub.execute_input": "2025-08-27T22:23:36.592276Z",
     "iopub.status.busy": "2025-08-27T22:23:36.591985Z",
     "iopub.status.idle": "2025-08-27T22:23:36.595069Z",
     "shell.execute_reply": "2025-08-27T22:23:36.594653Z"
    }
   },
   "outputs": [
    {
     "name": "stdout",
     "output_type": "stream",
     "text": [
      "Accrued Days:  71.00000\n"
     ]
    }
   ],
   "source": [
    "accddays = bond.accrued_days\n",
    "print(\"Accrued Days: %9.5f\"% accddays)"
   ]
  },
  {
   "cell_type": "code",
   "execution_count": 14,
   "metadata": {
    "execution": {
     "iopub.execute_input": "2025-08-27T22:23:36.596741Z",
     "iopub.status.busy": "2025-08-27T22:23:36.596527Z",
     "iopub.status.idle": "2025-08-27T22:23:36.599154Z",
     "shell.execute_reply": "2025-08-27T22:23:36.598693Z"
    }
   },
   "outputs": [
    {
     "name": "stdout",
     "output_type": "stream",
     "text": [
      "PRINCIPAL FROM DM:    97.073098 \n"
     ]
    }
   ],
   "source": [
    "principal = bond.principal(settle_dt, next_cpn, current_ibor, future_ibors, dm)\n",
    "print(\"PRINCIPAL FROM DM: %12.6f \"% principal)"
   ]
  },
  {
   "cell_type": "code",
   "execution_count": 15,
   "metadata": {
    "execution": {
     "iopub.execute_input": "2025-08-27T22:23:36.601169Z",
     "iopub.status.busy": "2025-08-27T22:23:36.600911Z",
     "iopub.status.idle": "2025-08-27T22:23:36.603479Z",
     "shell.execute_reply": "2025-08-27T22:23:36.603113Z"
    }
   },
   "outputs": [
    {
     "name": "stdout",
     "output_type": "stream",
     "text": [
      "Accrued Amount:      0.28\n"
     ]
    }
   ],
   "source": [
    "accdAmount = bond.accrual_factor * bond.par * next_cpn\n",
    "print(\"Accrued Amount: %9.2f\"% accdAmount)"
   ]
  },
  {
   "cell_type": "markdown",
   "metadata": {},
   "source": [
    "## Determine the Rate Duration and Convexity"
   ]
  },
  {
   "cell_type": "code",
   "execution_count": 16,
   "metadata": {
    "execution": {
     "iopub.execute_input": "2025-08-27T22:23:36.605434Z",
     "iopub.status.busy": "2025-08-27T22:23:36.605254Z",
     "iopub.status.idle": "2025-08-27T22:23:36.607776Z",
     "shell.execute_reply": "2025-08-27T22:23:36.607428Z"
    }
   },
   "outputs": [
    {
     "name": "stdout",
     "output_type": "stream",
     "text": [
      "Dollar Duration:   5.11739\n"
     ]
    }
   ],
   "source": [
    "duration = bond.dollar_duration(settle_dt, next_cpn, current_ibor, future_ibors, dm)\n",
    "print(\"Dollar Duration: %9.5f\" % duration)"
   ]
  },
  {
   "cell_type": "code",
   "execution_count": 17,
   "metadata": {
    "execution": {
     "iopub.execute_input": "2025-08-27T22:23:36.609544Z",
     "iopub.status.busy": "2025-08-27T22:23:36.609311Z",
     "iopub.status.idle": "2025-08-27T22:23:36.611819Z",
     "shell.execute_reply": "2025-08-27T22:23:36.611455Z"
    }
   },
   "outputs": [
    {
     "name": "stdout",
     "output_type": "stream",
     "text": [
      "Modified Duration:   0.05272\n"
     ]
    }
   ],
   "source": [
    "modified_duration = bond.modified_duration(settle_dt, next_cpn, current_ibor, future_ibors, dm)\n",
    "print(\"Modified Duration: %9.5f\" % modified_duration)"
   ]
  },
  {
   "cell_type": "code",
   "execution_count": 18,
   "metadata": {
    "execution": {
     "iopub.execute_input": "2025-08-27T22:23:36.613677Z",
     "iopub.status.busy": "2025-08-27T22:23:36.613386Z",
     "iopub.status.idle": "2025-08-27T22:23:36.616197Z",
     "shell.execute_reply": "2025-08-27T22:23:36.615870Z"
    }
   },
   "outputs": [
    {
     "name": "stdout",
     "output_type": "stream",
     "text": [
      "Macauley Duration:   0.05304\n"
     ]
    }
   ],
   "source": [
    "macauley_duration = bond.macauley_duration(settle_dt, next_cpn, current_ibor, future_ibors, dm)\n",
    "print(\"Macauley Duration: %9.5f\" % macauley_duration)"
   ]
  },
  {
   "cell_type": "code",
   "execution_count": 19,
   "metadata": {
    "execution": {
     "iopub.execute_input": "2025-08-27T22:23:36.617783Z",
     "iopub.status.busy": "2025-08-27T22:23:36.617588Z",
     "iopub.status.idle": "2025-08-27T22:23:36.620301Z",
     "shell.execute_reply": "2025-08-27T22:23:36.619954Z"
    }
   },
   "outputs": [
    {
     "name": "stdout",
     "output_type": "stream",
     "text": [
      "Convexity:  0.000056\n"
     ]
    }
   ],
   "source": [
    "convexity = bond.convexity_from_dm(settle_dt, next_cpn, current_ibor, future_ibors, dm)\n",
    "print(\"Convexity: %9.6f\" % convexity)"
   ]
  },
  {
   "cell_type": "markdown",
   "metadata": {},
   "source": [
    "## Determine the Credit Duration and Convexity"
   ]
  },
  {
   "cell_type": "code",
   "execution_count": 20,
   "metadata": {
    "execution": {
     "iopub.execute_input": "2025-08-27T22:23:36.621783Z",
     "iopub.status.busy": "2025-08-27T22:23:36.621602Z",
     "iopub.status.idle": "2025-08-27T22:23:36.624194Z",
     "shell.execute_reply": "2025-08-27T22:23:36.623795Z"
    }
   },
   "outputs": [
    {
     "name": "stdout",
     "output_type": "stream",
     "text": [
      "Dollar Credit Duration: 401.00825\n"
     ]
    }
   ],
   "source": [
    "duration = bond.dollar_credit_duration(settle_dt, next_cpn, current_ibor, future_ibors, dm)\n",
    "print(\"Dollar Credit Duration: %9.5f\" % duration)"
   ]
  },
  {
   "cell_type": "code",
   "execution_count": 21,
   "metadata": {
    "execution": {
     "iopub.execute_input": "2025-08-27T22:23:36.626187Z",
     "iopub.status.busy": "2025-08-27T22:23:36.625935Z",
     "iopub.status.idle": "2025-08-27T22:23:36.628958Z",
     "shell.execute_reply": "2025-08-27T22:23:36.628587Z"
    }
   },
   "outputs": [
    {
     "name": "stdout",
     "output_type": "stream",
     "text": [
      "Modified Credit Duration:   4.13087\n"
     ]
    }
   ],
   "source": [
    "modified_duration = bond.modified_credit_duration(settle_dt, next_cpn, current_ibor, future_ibors, dm)\n",
    "print(\"Modified Credit Duration: %9.5f\" % modified_duration)"
   ]
  },
  {
   "cell_type": "markdown",
   "metadata": {},
   "source": [
    "Copyright (c) 2020 Dominic O'Kane"
   ]
  },
  {
   "cell_type": "markdown",
   "metadata": {},
   "source": []
  }
 ],
 "metadata": {
  "kernelspec": {
   "display_name": "base",
   "language": "python",
   "name": "python3"
  },
  "language_info": {
   "codemirror_mode": {
    "name": "ipython",
    "version": 3
   },
   "file_extension": ".py",
   "mimetype": "text/x-python",
   "name": "python",
   "nbconvert_exporter": "python",
   "pygments_lexer": "ipython3",
   "version": "3.13.5"
  }
 },
 "nbformat": 4,
 "nbformat_minor": 2
}
