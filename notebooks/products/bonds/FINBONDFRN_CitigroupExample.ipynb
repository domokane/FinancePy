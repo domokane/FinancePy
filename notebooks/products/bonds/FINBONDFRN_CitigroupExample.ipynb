{
 "cells": [
  {
   "cell_type": "markdown",
   "metadata": {},
   "source": [
    "# CITIGROUP FLOATING RATE NOTE ANALYSIS"
   ]
  },
  {
   "cell_type": "markdown",
   "metadata": {},
   "source": [
    "This is an analysis of floating rate notes. "
   ]
  },
  {
   "cell_type": "markdown",
   "metadata": {},
   "source": [
    "Based on an example of a Citigroup FRN from https://data.bloomberglp.com/bat/sites/3/2017/07/SF-2017_Paul-Fjeldsted.pdf"
   ]
  },
  {
   "cell_type": "code",
   "execution_count": 1,
   "metadata": {
    "execution": {
     "iopub.execute_input": "2025-09-14T22:17:13.845226Z",
     "iopub.status.busy": "2025-09-14T22:17:13.845103Z",
     "iopub.status.idle": "2025-09-14T22:17:14.062389Z",
     "shell.execute_reply": "2025-09-14T22:17:14.061923Z"
    }
   },
   "outputs": [],
   "source": [
    "import numpy as np\n",
    "import matplotlib.pyplot as plt"
   ]
  },
  {
   "cell_type": "code",
   "execution_count": 2,
   "metadata": {
    "execution": {
     "iopub.execute_input": "2025-09-14T22:17:14.064334Z",
     "iopub.status.busy": "2025-09-14T22:17:14.064165Z",
     "iopub.status.idle": "2025-09-14T22:17:15.066269Z",
     "shell.execute_reply": "2025-09-14T22:17:15.065950Z"
    }
   },
   "outputs": [],
   "source": [
    "from financepy.products.rates import *\n",
    "from financepy.products.bonds import *\n",
    "from financepy.utils import *"
   ]
  },
  {
   "cell_type": "markdown",
   "metadata": {},
   "source": [
    "## Define the Details of the FRN"
   ]
  },
  {
   "cell_type": "code",
   "execution_count": 3,
   "metadata": {
    "execution": {
     "iopub.execute_input": "2025-09-14T22:17:15.067969Z",
     "iopub.status.busy": "2025-09-14T22:17:15.067762Z",
     "iopub.status.idle": "2025-09-14T22:17:15.084548Z",
     "shell.execute_reply": "2025-09-14T22:17:15.084254Z"
    }
   },
   "outputs": [],
   "source": [
    "issue_dt = Date(10, 11, 2015)\n",
    "maturity_dt = Date(10, 11, 2021)\n",
    "quoted_margin = 0.0025\n",
    "freq_type = FrequencyTypes.QUARTERLY\n",
    "dc_type = DayCountTypes.THIRTY_360_BOND\n",
    "face = ONE_MILLION"
   ]
  },
  {
   "cell_type": "code",
   "execution_count": 4,
   "metadata": {
    "execution": {
     "iopub.execute_input": "2025-09-14T22:17:15.085777Z",
     "iopub.status.busy": "2025-09-14T22:17:15.085657Z",
     "iopub.status.idle": "2025-09-14T22:17:15.088008Z",
     "shell.execute_reply": "2025-09-14T22:17:15.087762Z"
    }
   },
   "outputs": [],
   "source": [
    "bond = BondFRN(issue_dt, maturity_dt, quoted_margin, freq_type, dc_type)"
   ]
  },
  {
   "cell_type": "code",
   "execution_count": 5,
   "metadata": {
    "execution": {
     "iopub.execute_input": "2025-09-14T22:17:15.089018Z",
     "iopub.status.busy": "2025-09-14T22:17:15.088897Z",
     "iopub.status.idle": "2025-09-14T22:17:15.092037Z",
     "shell.execute_reply": "2025-09-14T22:17:15.091738Z"
    }
   },
   "outputs": [
    {
     "name": "stdout",
     "output_type": "stream",
     "text": [
      "OBJECT TYPE: BondFRN\n",
      "ISSUE DATE: 10-NOV-2015\n",
      "MATURITY DATE: 10-NOV-2021\n",
      "QUOTED MARGIN (bp): 25.0\n",
      "FREQUENCY: FrequencyTypes.QUARTERLY\n",
      "DAY COUNT TYPE: DayCountTypes.THIRTY_360_BOND\n",
      "\n"
     ]
    }
   ],
   "source": [
    "print(bond)"
   ]
  },
  {
   "cell_type": "code",
   "execution_count": 6,
   "metadata": {
    "execution": {
     "iopub.execute_input": "2025-09-14T22:17:15.092985Z",
     "iopub.status.busy": "2025-09-14T22:17:15.092876Z",
     "iopub.status.idle": "2025-09-14T22:17:15.095397Z",
     "shell.execute_reply": "2025-09-14T22:17:15.094741Z"
    }
   },
   "outputs": [],
   "source": [
    "settle_dt = Date(21, 7, 2017)"
   ]
  },
  {
   "cell_type": "code",
   "execution_count": 7,
   "metadata": {
    "execution": {
     "iopub.execute_input": "2025-09-14T22:17:15.096803Z",
     "iopub.status.busy": "2025-09-14T22:17:15.096700Z",
     "iopub.status.idle": "2025-09-14T22:17:15.098936Z",
     "shell.execute_reply": "2025-09-14T22:17:15.098685Z"
    },
    "scrolled": false
   },
   "outputs": [
    {
     "name": "stdout",
     "output_type": "stream",
     "text": [
      "10-FEB-2016\n",
      "10-MAY-2016\n",
      "10-AUG-2016\n",
      "10-NOV-2016\n",
      "10-FEB-2017\n",
      "10-MAY-2017\n",
      "10-AUG-2017\n",
      "10-NOV-2017\n",
      "10-FEB-2018\n",
      "10-MAY-2018\n",
      "10-AUG-2018\n",
      "10-NOV-2018\n",
      "10-FEB-2019\n",
      "10-MAY-2019\n",
      "10-AUG-2019\n",
      "10-NOV-2019\n",
      "10-FEB-2020\n",
      "10-MAY-2020\n",
      "10-AUG-2020\n",
      "10-NOV-2020\n",
      "10-FEB-2021\n",
      "10-MAY-2021\n",
      "10-AUG-2021\n",
      "10-NOV-2021\n"
     ]
    }
   ],
   "source": [
    "bond.print_payments(settle_dt)"
   ]
  },
  {
   "cell_type": "markdown",
   "metadata": {},
   "source": [
    "## Analysis"
   ]
  },
  {
   "cell_type": "markdown",
   "metadata": {},
   "source": [
    "The simplest analysis of an FRN considers 3 Ibor rates"
   ]
  },
  {
   "cell_type": "code",
   "execution_count": 8,
   "metadata": {
    "execution": {
     "iopub.execute_input": "2025-09-14T22:17:15.099965Z",
     "iopub.status.busy": "2025-09-14T22:17:15.099855Z",
     "iopub.status.idle": "2025-09-14T22:17:15.102024Z",
     "shell.execute_reply": "2025-09-14T22:17:15.101776Z"
    }
   },
   "outputs": [],
   "source": [
    "next_cpn = 0.01434560\n",
    "current_ibor = 0.01210534\n",
    "future_ibors = 0.01305220"
   ]
  },
  {
   "cell_type": "code",
   "execution_count": 9,
   "metadata": {
    "execution": {
     "iopub.execute_input": "2025-09-14T22:17:15.102968Z",
     "iopub.status.busy": "2025-09-14T22:17:15.102820Z",
     "iopub.status.idle": "2025-09-14T22:17:15.105206Z",
     "shell.execute_reply": "2025-09-14T22:17:15.104925Z"
    }
   },
   "outputs": [],
   "source": [
    "clean_price = 96.793"
   ]
  },
  {
   "cell_type": "code",
   "execution_count": 10,
   "metadata": {
    "execution": {
     "iopub.execute_input": "2025-09-14T22:17:15.106895Z",
     "iopub.status.busy": "2025-09-14T22:17:15.106772Z",
     "iopub.status.idle": "2025-09-14T22:17:15.109043Z",
     "shell.execute_reply": "2025-09-14T22:17:15.108859Z"
    },
    "scrolled": true
   },
   "outputs": [
    {
     "name": "stdout",
     "output_type": "stream",
     "text": [
      "DISCOUNT MARGIN: 103.518944 bps\n"
     ]
    }
   ],
   "source": [
    "dm = bond.discount_margin(settle_dt, next_cpn, current_ibor, future_ibors, clean_price)\n",
    "print(\"DISCOUNT MARGIN: %9.6f bps\"% (dm*10000))"
   ]
  },
  {
   "cell_type": "code",
   "execution_count": 11,
   "metadata": {
    "execution": {
     "iopub.execute_input": "2025-09-14T22:17:15.109908Z",
     "iopub.status.busy": "2025-09-14T22:17:15.109794Z",
     "iopub.status.idle": "2025-09-14T22:17:15.112167Z",
     "shell.execute_reply": "2025-09-14T22:17:15.111866Z"
    }
   },
   "outputs": [
    {
     "name": "stdout",
     "output_type": "stream",
     "text": [
      "DIRTY PRICE FROM DM:    97.075927 \n"
     ]
    }
   ],
   "source": [
    "dirty_price = bond.dirty_price_from_dm(settle_dt, next_cpn, current_ibor, future_ibors, dm)\n",
    "print(\"DIRTY PRICE FROM DM: %12.6f \"% dirty_price)"
   ]
  },
  {
   "cell_type": "code",
   "execution_count": 12,
   "metadata": {
    "execution": {
     "iopub.execute_input": "2025-09-14T22:17:15.113259Z",
     "iopub.status.busy": "2025-09-14T22:17:15.113145Z",
     "iopub.status.idle": "2025-09-14T22:17:15.115086Z",
     "shell.execute_reply": "2025-09-14T22:17:15.114904Z"
    }
   },
   "outputs": [
    {
     "name": "stdout",
     "output_type": "stream",
     "text": [
      "Previous Coupon Date: 10-MAY-2017\n"
     ]
    }
   ],
   "source": [
    "prevCouponDt = bond._pcd\n",
    "print(\"Previous Coupon Date: %s\"% str(prevCouponDt))"
   ]
  },
  {
   "cell_type": "code",
   "execution_count": 13,
   "metadata": {
    "execution": {
     "iopub.execute_input": "2025-09-14T22:17:15.116686Z",
     "iopub.status.busy": "2025-09-14T22:17:15.116561Z",
     "iopub.status.idle": "2025-09-14T22:17:15.119473Z",
     "shell.execute_reply": "2025-09-14T22:17:15.118971Z"
    }
   },
   "outputs": [
    {
     "name": "stdout",
     "output_type": "stream",
     "text": [
      "Accrued Days:  71.00000\n"
     ]
    }
   ],
   "source": [
    "accddays = bond.accrued_days\n",
    "print(\"Accrued Days: %9.5f\"% accddays)"
   ]
  },
  {
   "cell_type": "code",
   "execution_count": 14,
   "metadata": {
    "execution": {
     "iopub.execute_input": "2025-09-14T22:17:15.120804Z",
     "iopub.status.busy": "2025-09-14T22:17:15.120548Z",
     "iopub.status.idle": "2025-09-14T22:17:15.123159Z",
     "shell.execute_reply": "2025-09-14T22:17:15.122923Z"
    }
   },
   "outputs": [
    {
     "name": "stdout",
     "output_type": "stream",
     "text": [
      "PRINCIPAL FROM DM:    97.073098 \n"
     ]
    }
   ],
   "source": [
    "principal = bond.principal(settle_dt, next_cpn, current_ibor, future_ibors, dm)\n",
    "print(\"PRINCIPAL FROM DM: %12.6f \"% principal)"
   ]
  },
  {
   "cell_type": "code",
   "execution_count": 15,
   "metadata": {
    "execution": {
     "iopub.execute_input": "2025-09-14T22:17:15.124929Z",
     "iopub.status.busy": "2025-09-14T22:17:15.124610Z",
     "iopub.status.idle": "2025-09-14T22:17:15.126818Z",
     "shell.execute_reply": "2025-09-14T22:17:15.126572Z"
    }
   },
   "outputs": [
    {
     "name": "stdout",
     "output_type": "stream",
     "text": [
      "Accrued Amount:      0.28\n"
     ]
    }
   ],
   "source": [
    "accdAmount = bond.accrual_factor * bond.par * next_cpn\n",
    "print(\"Accrued Amount: %9.2f\"% accdAmount)"
   ]
  },
  {
   "cell_type": "markdown",
   "metadata": {},
   "source": [
    "## Determine the Rate Duration and Convexity"
   ]
  },
  {
   "cell_type": "code",
   "execution_count": 16,
   "metadata": {
    "execution": {
     "iopub.execute_input": "2025-09-14T22:17:15.127706Z",
     "iopub.status.busy": "2025-09-14T22:17:15.127590Z",
     "iopub.status.idle": "2025-09-14T22:17:15.130229Z",
     "shell.execute_reply": "2025-09-14T22:17:15.129879Z"
    }
   },
   "outputs": [
    {
     "name": "stdout",
     "output_type": "stream",
     "text": [
      "Dollar Duration:   5.11739\n"
     ]
    }
   ],
   "source": [
    "duration = bond.dollar_duration(settle_dt, next_cpn, current_ibor, future_ibors, dm)\n",
    "print(\"Dollar Duration: %9.5f\" % duration)"
   ]
  },
  {
   "cell_type": "code",
   "execution_count": 17,
   "metadata": {
    "execution": {
     "iopub.execute_input": "2025-09-14T22:17:15.131142Z",
     "iopub.status.busy": "2025-09-14T22:17:15.131035Z",
     "iopub.status.idle": "2025-09-14T22:17:15.133102Z",
     "shell.execute_reply": "2025-09-14T22:17:15.132855Z"
    }
   },
   "outputs": [
    {
     "name": "stdout",
     "output_type": "stream",
     "text": [
      "Modified Duration:   0.05272\n"
     ]
    }
   ],
   "source": [
    "modified_duration = bond.modified_duration(settle_dt, next_cpn, current_ibor, future_ibors, dm)\n",
    "print(\"Modified Duration: %9.5f\" % modified_duration)"
   ]
  },
  {
   "cell_type": "code",
   "execution_count": 18,
   "metadata": {
    "execution": {
     "iopub.execute_input": "2025-09-14T22:17:15.135438Z",
     "iopub.status.busy": "2025-09-14T22:17:15.135344Z",
     "iopub.status.idle": "2025-09-14T22:17:15.138305Z",
     "shell.execute_reply": "2025-09-14T22:17:15.138099Z"
    }
   },
   "outputs": [
    {
     "name": "stdout",
     "output_type": "stream",
     "text": [
      "Macauley Duration:   0.05304\n"
     ]
    }
   ],
   "source": [
    "macauley_duration = bond.macauley_duration(settle_dt, next_cpn, current_ibor, future_ibors, dm)\n",
    "print(\"Macauley Duration: %9.5f\" % macauley_duration)"
   ]
  },
  {
   "cell_type": "code",
   "execution_count": 19,
   "metadata": {
    "execution": {
     "iopub.execute_input": "2025-09-14T22:17:15.139131Z",
     "iopub.status.busy": "2025-09-14T22:17:15.139039Z",
     "iopub.status.idle": "2025-09-14T22:17:15.141465Z",
     "shell.execute_reply": "2025-09-14T22:17:15.141273Z"
    }
   },
   "outputs": [
    {
     "name": "stdout",
     "output_type": "stream",
     "text": [
      "Convexity:  0.000056\n"
     ]
    }
   ],
   "source": [
    "convexity = bond.convexity_from_dm(settle_dt, next_cpn, current_ibor, future_ibors, dm)\n",
    "print(\"Convexity: %9.6f\" % convexity)"
   ]
  },
  {
   "cell_type": "markdown",
   "metadata": {},
   "source": [
    "## Determine the Credit Duration and Convexity"
   ]
  },
  {
   "cell_type": "code",
   "execution_count": 20,
   "metadata": {
    "execution": {
     "iopub.execute_input": "2025-09-14T22:17:15.142295Z",
     "iopub.status.busy": "2025-09-14T22:17:15.142162Z",
     "iopub.status.idle": "2025-09-14T22:17:15.144537Z",
     "shell.execute_reply": "2025-09-14T22:17:15.144309Z"
    }
   },
   "outputs": [
    {
     "name": "stdout",
     "output_type": "stream",
     "text": [
      "Dollar Credit Duration: 401.00825\n"
     ]
    }
   ],
   "source": [
    "duration = bond.dollar_credit_duration(settle_dt, next_cpn, current_ibor, future_ibors, dm)\n",
    "print(\"Dollar Credit Duration: %9.5f\" % duration)"
   ]
  },
  {
   "cell_type": "code",
   "execution_count": 21,
   "metadata": {
    "execution": {
     "iopub.execute_input": "2025-09-14T22:17:15.145404Z",
     "iopub.status.busy": "2025-09-14T22:17:15.145313Z",
     "iopub.status.idle": "2025-09-14T22:17:15.147905Z",
     "shell.execute_reply": "2025-09-14T22:17:15.147548Z"
    }
   },
   "outputs": [
    {
     "name": "stdout",
     "output_type": "stream",
     "text": [
      "Modified Credit Duration:   4.13087\n"
     ]
    }
   ],
   "source": [
    "modified_duration = bond.modified_credit_duration(settle_dt, next_cpn, current_ibor, future_ibors, dm)\n",
    "print(\"Modified Credit Duration: %9.5f\" % modified_duration)"
   ]
  },
  {
   "cell_type": "markdown",
   "metadata": {},
   "source": [
    "Copyright (c) 2020 Dominic O'Kane"
   ]
  },
  {
   "cell_type": "markdown",
   "metadata": {},
   "source": []
  }
 ],
 "metadata": {
  "kernelspec": {
   "display_name": "base",
   "language": "python",
   "name": "python3"
  },
  "language_info": {
   "codemirror_mode": {
    "name": "ipython",
    "version": 3
   },
   "file_extension": ".py",
   "mimetype": "text/x-python",
   "name": "python",
   "nbconvert_exporter": "python",
   "pygments_lexer": "ipython3",
   "version": "3.13.7"
  }
 },
 "nbformat": 4,
 "nbformat_minor": 2
}
