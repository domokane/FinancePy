{
 "cells": [
  {
   "cell_type": "markdown",
   "metadata": {},
   "source": [
    "# CITIGROUP FLOATING RATE NOTE ANALYSIS"
   ]
  },
  {
   "cell_type": "markdown",
   "metadata": {},
   "source": [
    "This is an analysis of floating rate notes. "
   ]
  },
  {
   "cell_type": "markdown",
   "metadata": {},
   "source": [
    "Based on an example of a Citigroup FRN from https://data.bloomberglp.com/bat/sites/3/2017/07/SF-2017_Paul-Fjeldsted.pdf"
   ]
  },
  {
   "cell_type": "code",
   "execution_count": 1,
   "metadata": {
    "execution": {
     "iopub.execute_input": "2025-08-27T21:36:36.610916Z",
     "iopub.status.busy": "2025-08-27T21:36:36.610609Z",
     "iopub.status.idle": "2025-08-27T21:36:37.133951Z",
     "shell.execute_reply": "2025-08-27T21:36:37.133458Z"
    }
   },
   "outputs": [],
   "source": [
    "import numpy as np\n",
    "import matplotlib.pyplot as plt"
   ]
  },
  {
   "cell_type": "code",
   "execution_count": 2,
   "metadata": {
    "execution": {
     "iopub.execute_input": "2025-08-27T21:36:37.136505Z",
     "iopub.status.busy": "2025-08-27T21:36:37.136218Z",
     "iopub.status.idle": "2025-08-27T21:36:38.843932Z",
     "shell.execute_reply": "2025-08-27T21:36:38.843516Z"
    }
   },
   "outputs": [
    {
     "name": "stdout",
     "output_type": "stream",
     "text": [
      "####################################################################\n",
      "#    FINANCEPY Version 1.1 - This build: 27 Aug 2025 at 23:27      #\n",
      "#     This software is distributed FREE AND WITHOUT ANY WARRANTY   #\n",
      "#  Report bugs as issues at https://github.com/domokane/FinancePy  #\n",
      "####################################################################\n",
      "\n"
     ]
    }
   ],
   "source": [
    "from financepy.products.rates import *\n",
    "from financepy.products.bonds import *\n",
    "from financepy.utils import *"
   ]
  },
  {
   "cell_type": "markdown",
   "metadata": {},
   "source": [
    "## Define the Details of the FRN"
   ]
  },
  {
   "cell_type": "code",
   "execution_count": 3,
   "metadata": {
    "execution": {
     "iopub.execute_input": "2025-08-27T21:36:38.845935Z",
     "iopub.status.busy": "2025-08-27T21:36:38.845656Z",
     "iopub.status.idle": "2025-08-27T21:36:38.863152Z",
     "shell.execute_reply": "2025-08-27T21:36:38.862675Z"
    }
   },
   "outputs": [],
   "source": [
    "issue_dt = Date(10, 11, 2015)\n",
    "maturity_dt = Date(10, 11, 2021)\n",
    "quoted_margin = 0.0025\n",
    "freq_type = FrequencyTypes.QUARTERLY\n",
    "dc_type = DayCountTypes.THIRTY_360_BOND\n",
    "face = ONE_MILLION"
   ]
  },
  {
   "cell_type": "code",
   "execution_count": 4,
   "metadata": {
    "execution": {
     "iopub.execute_input": "2025-08-27T21:36:38.864889Z",
     "iopub.status.busy": "2025-08-27T21:36:38.864662Z",
     "iopub.status.idle": "2025-08-27T21:36:38.867428Z",
     "shell.execute_reply": "2025-08-27T21:36:38.867076Z"
    }
   },
   "outputs": [],
   "source": [
    "bond = BondFRN(issue_dt, maturity_dt, quoted_margin, freq_type, dc_type)"
   ]
  },
  {
   "cell_type": "code",
   "execution_count": 5,
   "metadata": {
    "execution": {
     "iopub.execute_input": "2025-08-27T21:36:38.869095Z",
     "iopub.status.busy": "2025-08-27T21:36:38.868902Z",
     "iopub.status.idle": "2025-08-27T21:36:38.872164Z",
     "shell.execute_reply": "2025-08-27T21:36:38.871597Z"
    }
   },
   "outputs": [
    {
     "name": "stdout",
     "output_type": "stream",
     "text": [
      "OBJECT TYPE: BondFRN\n",
      "ISSUE DATE: 10-NOV-2015\n",
      "MATURITY DATE: 10-NOV-2021\n",
      "QUOTED MARGIN (bp): 25.0\n",
      "FREQUENCY: FrequencyTypes.QUARTERLY\n",
      "DAY COUNT TYPE: DayCountTypes.THIRTY_360_BOND\n",
      "\n"
     ]
    }
   ],
   "source": [
    "print(bond)"
   ]
  },
  {
   "cell_type": "code",
   "execution_count": 6,
   "metadata": {
    "execution": {
     "iopub.execute_input": "2025-08-27T21:36:38.873792Z",
     "iopub.status.busy": "2025-08-27T21:36:38.873616Z",
     "iopub.status.idle": "2025-08-27T21:36:38.875855Z",
     "shell.execute_reply": "2025-08-27T21:36:38.875547Z"
    }
   },
   "outputs": [],
   "source": [
    "settle_dt = Date(21, 7, 2017)"
   ]
  },
  {
   "cell_type": "code",
   "execution_count": 7,
   "metadata": {
    "execution": {
     "iopub.execute_input": "2025-08-27T21:36:38.877532Z",
     "iopub.status.busy": "2025-08-27T21:36:38.877233Z",
     "iopub.status.idle": "2025-08-27T21:36:38.880144Z",
     "shell.execute_reply": "2025-08-27T21:36:38.879788Z"
    },
    "scrolled": false
   },
   "outputs": [
    {
     "name": "stdout",
     "output_type": "stream",
     "text": [
      "10-FEB-2016\n",
      "10-MAY-2016\n",
      "10-AUG-2016\n",
      "10-NOV-2016\n",
      "10-FEB-2017\n",
      "10-MAY-2017\n",
      "10-AUG-2017\n",
      "10-NOV-2017\n",
      "10-FEB-2018\n",
      "10-MAY-2018\n",
      "10-AUG-2018\n",
      "10-NOV-2018\n",
      "10-FEB-2019\n",
      "10-MAY-2019\n",
      "10-AUG-2019\n",
      "10-NOV-2019\n",
      "10-FEB-2020\n",
      "10-MAY-2020\n",
      "10-AUG-2020\n",
      "10-NOV-2020\n",
      "10-FEB-2021\n",
      "10-MAY-2021\n",
      "10-AUG-2021\n",
      "10-NOV-2021\n"
     ]
    }
   ],
   "source": [
    "bond.print_payments(settle_dt)"
   ]
  },
  {
   "cell_type": "markdown",
   "metadata": {},
   "source": [
    "## Analysis"
   ]
  },
  {
   "cell_type": "markdown",
   "metadata": {},
   "source": [
    "The simplest analysis of an FRN considers 3 Ibor rates"
   ]
  },
  {
   "cell_type": "code",
   "execution_count": 8,
   "metadata": {
    "execution": {
     "iopub.execute_input": "2025-08-27T21:36:38.881596Z",
     "iopub.status.busy": "2025-08-27T21:36:38.881415Z",
     "iopub.status.idle": "2025-08-27T21:36:38.883585Z",
     "shell.execute_reply": "2025-08-27T21:36:38.883233Z"
    }
   },
   "outputs": [],
   "source": [
    "next_cpn = 0.01434560\n",
    "current_ibor = 0.01210534\n",
    "future_ibors = 0.01305220"
   ]
  },
  {
   "cell_type": "code",
   "execution_count": 9,
   "metadata": {
    "execution": {
     "iopub.execute_input": "2025-08-27T21:36:38.885214Z",
     "iopub.status.busy": "2025-08-27T21:36:38.885010Z",
     "iopub.status.idle": "2025-08-27T21:36:38.887254Z",
     "shell.execute_reply": "2025-08-27T21:36:38.886878Z"
    }
   },
   "outputs": [],
   "source": [
    "clean_price = 96.793"
   ]
  },
  {
   "cell_type": "code",
   "execution_count": 10,
   "metadata": {
    "execution": {
     "iopub.execute_input": "2025-08-27T21:36:38.888825Z",
     "iopub.status.busy": "2025-08-27T21:36:38.888569Z",
     "iopub.status.idle": "2025-08-27T21:36:38.891791Z",
     "shell.execute_reply": "2025-08-27T21:36:38.891477Z"
    },
    "scrolled": true
   },
   "outputs": [
    {
     "name": "stdout",
     "output_type": "stream",
     "text": [
      "DISCOUNT MARGIN: 103.518944 bps\n"
     ]
    }
   ],
   "source": [
    "dm = bond.discount_margin(settle_dt, next_cpn, current_ibor, future_ibors, clean_price)\n",
    "print(\"DISCOUNT MARGIN: %9.6f bps\"% (dm*10000))"
   ]
  },
  {
   "cell_type": "code",
   "execution_count": 11,
   "metadata": {
    "execution": {
     "iopub.execute_input": "2025-08-27T21:36:38.893859Z",
     "iopub.status.busy": "2025-08-27T21:36:38.893579Z",
     "iopub.status.idle": "2025-08-27T21:36:38.896213Z",
     "shell.execute_reply": "2025-08-27T21:36:38.895797Z"
    }
   },
   "outputs": [
    {
     "name": "stdout",
     "output_type": "stream",
     "text": [
      "DIRTY PRICE FROM DM:    97.075927 \n"
     ]
    }
   ],
   "source": [
    "dirty_price = bond.dirty_price_from_dm(settle_dt, next_cpn, current_ibor, future_ibors, dm)\n",
    "print(\"DIRTY PRICE FROM DM: %12.6f \"% dirty_price)"
   ]
  },
  {
   "cell_type": "code",
   "execution_count": 12,
   "metadata": {
    "execution": {
     "iopub.execute_input": "2025-08-27T21:36:38.897757Z",
     "iopub.status.busy": "2025-08-27T21:36:38.897521Z",
     "iopub.status.idle": "2025-08-27T21:36:38.900634Z",
     "shell.execute_reply": "2025-08-27T21:36:38.900143Z"
    }
   },
   "outputs": [
    {
     "name": "stdout",
     "output_type": "stream",
     "text": [
      "Previous Coupon Date: 10-MAY-2017\n"
     ]
    }
   ],
   "source": [
    "prevCouponDt = bond._pcd\n",
    "print(\"Previous Coupon Date: %s\"% str(prevCouponDt))"
   ]
  },
  {
   "cell_type": "code",
   "execution_count": 13,
   "metadata": {
    "execution": {
     "iopub.execute_input": "2025-08-27T21:36:38.902286Z",
     "iopub.status.busy": "2025-08-27T21:36:38.902087Z",
     "iopub.status.idle": "2025-08-27T21:36:38.904599Z",
     "shell.execute_reply": "2025-08-27T21:36:38.904254Z"
    }
   },
   "outputs": [
    {
     "name": "stdout",
     "output_type": "stream",
     "text": [
      "Accrued Days:  71.00000\n"
     ]
    }
   ],
   "source": [
    "accddays = bond.accrued_days\n",
    "print(\"Accrued Days: %9.5f\"% accddays)"
   ]
  },
  {
   "cell_type": "code",
   "execution_count": 14,
   "metadata": {
    "execution": {
     "iopub.execute_input": "2025-08-27T21:36:38.906446Z",
     "iopub.status.busy": "2025-08-27T21:36:38.906246Z",
     "iopub.status.idle": "2025-08-27T21:36:38.908865Z",
     "shell.execute_reply": "2025-08-27T21:36:38.908421Z"
    }
   },
   "outputs": [
    {
     "name": "stdout",
     "output_type": "stream",
     "text": [
      "PRINCIPAL FROM DM:    97.073098 \n"
     ]
    }
   ],
   "source": [
    "principal = bond.principal(settle_dt, next_cpn, current_ibor, future_ibors, dm)\n",
    "print(\"PRINCIPAL FROM DM: %12.6f \"% principal)"
   ]
  },
  {
   "cell_type": "code",
   "execution_count": 15,
   "metadata": {
    "execution": {
     "iopub.execute_input": "2025-08-27T21:36:38.910609Z",
     "iopub.status.busy": "2025-08-27T21:36:38.910236Z",
     "iopub.status.idle": "2025-08-27T21:36:38.912832Z",
     "shell.execute_reply": "2025-08-27T21:36:38.912426Z"
    }
   },
   "outputs": [
    {
     "name": "stdout",
     "output_type": "stream",
     "text": [
      "Accrued Amount:      0.28\n"
     ]
    }
   ],
   "source": [
    "accdAmount = bond.accrual_factor * bond.par * next_cpn\n",
    "print(\"Accrued Amount: %9.2f\"% accdAmount)"
   ]
  },
  {
   "cell_type": "markdown",
   "metadata": {},
   "source": [
    "## Determine the Rate Duration and Convexity"
   ]
  },
  {
   "cell_type": "code",
   "execution_count": 16,
   "metadata": {
    "execution": {
     "iopub.execute_input": "2025-08-27T21:36:38.914536Z",
     "iopub.status.busy": "2025-08-27T21:36:38.914222Z",
     "iopub.status.idle": "2025-08-27T21:36:38.917069Z",
     "shell.execute_reply": "2025-08-27T21:36:38.916736Z"
    }
   },
   "outputs": [
    {
     "name": "stdout",
     "output_type": "stream",
     "text": [
      "Dollar Duration:   5.11739\n"
     ]
    }
   ],
   "source": [
    "duration = bond.dollar_duration(settle_dt, next_cpn, current_ibor, future_ibors, dm)\n",
    "print(\"Dollar Duration: %9.5f\" % duration)"
   ]
  },
  {
   "cell_type": "code",
   "execution_count": 17,
   "metadata": {
    "execution": {
     "iopub.execute_input": "2025-08-27T21:36:38.918608Z",
     "iopub.status.busy": "2025-08-27T21:36:38.918355Z",
     "iopub.status.idle": "2025-08-27T21:36:38.921483Z",
     "shell.execute_reply": "2025-08-27T21:36:38.921013Z"
    }
   },
   "outputs": [
    {
     "name": "stdout",
     "output_type": "stream",
     "text": [
      "Modified Duration:   0.05272\n"
     ]
    }
   ],
   "source": [
    "modified_duration = bond.modified_duration(settle_dt, next_cpn, current_ibor, future_ibors, dm)\n",
    "print(\"Modified Duration: %9.5f\" % modified_duration)"
   ]
  },
  {
   "cell_type": "code",
   "execution_count": 18,
   "metadata": {
    "execution": {
     "iopub.execute_input": "2025-08-27T21:36:38.922932Z",
     "iopub.status.busy": "2025-08-27T21:36:38.922716Z",
     "iopub.status.idle": "2025-08-27T21:36:38.925375Z",
     "shell.execute_reply": "2025-08-27T21:36:38.925011Z"
    }
   },
   "outputs": [
    {
     "name": "stdout",
     "output_type": "stream",
     "text": [
      "Macauley Duration:   0.05304\n"
     ]
    }
   ],
   "source": [
    "macauley_duration = bond.macauley_duration(settle_dt, next_cpn, current_ibor, future_ibors, dm)\n",
    "print(\"Macauley Duration: %9.5f\" % macauley_duration)"
   ]
  },
  {
   "cell_type": "code",
   "execution_count": 19,
   "metadata": {
    "execution": {
     "iopub.execute_input": "2025-08-27T21:36:38.926885Z",
     "iopub.status.busy": "2025-08-27T21:36:38.926685Z",
     "iopub.status.idle": "2025-08-27T21:36:38.929298Z",
     "shell.execute_reply": "2025-08-27T21:36:38.928981Z"
    }
   },
   "outputs": [
    {
     "name": "stdout",
     "output_type": "stream",
     "text": [
      "Convexity:  0.000056\n"
     ]
    }
   ],
   "source": [
    "convexity = bond.convexity_from_dm(settle_dt, next_cpn, current_ibor, future_ibors, dm)\n",
    "print(\"Convexity: %9.6f\" % convexity)"
   ]
  },
  {
   "cell_type": "markdown",
   "metadata": {},
   "source": [
    "## Determine the Credit Duration and Convexity"
   ]
  },
  {
   "cell_type": "code",
   "execution_count": 20,
   "metadata": {
    "execution": {
     "iopub.execute_input": "2025-08-27T21:36:38.930967Z",
     "iopub.status.busy": "2025-08-27T21:36:38.930714Z",
     "iopub.status.idle": "2025-08-27T21:36:38.933459Z",
     "shell.execute_reply": "2025-08-27T21:36:38.933047Z"
    }
   },
   "outputs": [
    {
     "name": "stdout",
     "output_type": "stream",
     "text": [
      "Dollar Credit Duration: 401.00825\n"
     ]
    }
   ],
   "source": [
    "duration = bond.dollar_credit_duration(settle_dt, next_cpn, current_ibor, future_ibors, dm)\n",
    "print(\"Dollar Credit Duration: %9.5f\" % duration)"
   ]
  },
  {
   "cell_type": "code",
   "execution_count": 21,
   "metadata": {
    "execution": {
     "iopub.execute_input": "2025-08-27T21:36:38.935160Z",
     "iopub.status.busy": "2025-08-27T21:36:38.934842Z",
     "iopub.status.idle": "2025-08-27T21:36:38.937712Z",
     "shell.execute_reply": "2025-08-27T21:36:38.937371Z"
    }
   },
   "outputs": [
    {
     "name": "stdout",
     "output_type": "stream",
     "text": [
      "Modified Credit Duration:   4.13087\n"
     ]
    }
   ],
   "source": [
    "modified_duration = bond.modified_credit_duration(settle_dt, next_cpn, current_ibor, future_ibors, dm)\n",
    "print(\"Modified Credit Duration: %9.5f\" % modified_duration)"
   ]
  },
  {
   "cell_type": "markdown",
   "metadata": {},
   "source": [
    "Copyright (c) 2020 Dominic O'Kane"
   ]
  },
  {
   "cell_type": "markdown",
   "metadata": {},
   "source": []
  }
 ],
 "metadata": {
  "kernelspec": {
   "display_name": "base",
   "language": "python",
   "name": "python3"
  },
  "language_info": {
   "codemirror_mode": {
    "name": "ipython",
    "version": 3
   },
   "file_extension": ".py",
   "mimetype": "text/x-python",
   "name": "python",
   "nbconvert_exporter": "python",
   "pygments_lexer": "ipython3",
   "version": "3.13.5"
  }
 },
 "nbformat": 4,
 "nbformat_minor": 2
}
