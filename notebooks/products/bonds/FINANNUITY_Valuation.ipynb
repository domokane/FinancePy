{
 "cells": [
  {
   "cell_type": "markdown",
   "metadata": {},
   "source": [
    "# ANNUITY CALCULATOR"
   ]
  },
  {
   "cell_type": "markdown",
   "metadata": {},
   "source": [
    "In this notebook I genarate annuity cash flows."
   ]
  },
  {
   "cell_type": "code",
   "execution_count": 1,
   "metadata": {
    "execution": {
     "iopub.execute_input": "2025-08-27T22:23:05.703383Z",
     "iopub.status.busy": "2025-08-27T22:23:05.703192Z",
     "iopub.status.idle": "2025-08-27T22:23:06.674819Z",
     "shell.execute_reply": "2025-08-27T22:23:06.674422Z"
    },
    "scrolled": true,
    "tags": []
   },
   "outputs": [],
   "source": [
    "from financepy.utils import *"
   ]
  },
  {
   "cell_type": "code",
   "execution_count": 2,
   "metadata": {
    "execution": {
     "iopub.execute_input": "2025-08-27T22:23:06.676985Z",
     "iopub.status.busy": "2025-08-27T22:23:06.676731Z",
     "iopub.status.idle": "2025-08-27T22:23:07.932400Z",
     "shell.execute_reply": "2025-08-27T22:23:07.931932Z"
    }
   },
   "outputs": [],
   "source": [
    "from financepy.products.bonds import *\n",
    "from financepy.utils import *\n",
    "from financepy.products.rates import *"
   ]
  },
  {
   "cell_type": "markdown",
   "metadata": {},
   "source": [
    "## CREATE AN ANNUITY STREAM"
   ]
  },
  {
   "cell_type": "markdown",
   "metadata": {},
   "source": [
    "Calculate the cash flows on an annuity"
   ]
  },
  {
   "cell_type": "code",
   "execution_count": 3,
   "metadata": {
    "execution": {
     "iopub.execute_input": "2025-08-27T22:23:07.934878Z",
     "iopub.status.busy": "2025-08-27T22:23:07.934554Z",
     "iopub.status.idle": "2025-08-27T22:23:08.037922Z",
     "shell.execute_reply": "2025-08-27T22:23:08.037424Z"
    }
   },
   "outputs": [],
   "source": [
    "value_dt = Date(20, 6, 2018)\n",
    "settle_dt = value_dt"
   ]
  },
  {
   "cell_type": "code",
   "execution_count": 4,
   "metadata": {
    "execution": {
     "iopub.execute_input": "2025-08-27T22:23:08.039879Z",
     "iopub.status.busy": "2025-08-27T22:23:08.039626Z",
     "iopub.status.idle": "2025-08-27T22:23:08.042624Z",
     "shell.execute_reply": "2025-08-27T22:23:08.042277Z"
    },
    "scrolled": true
   },
   "outputs": [],
   "source": [
    "maturity_dt = settle_dt.add_tenor(\"5Y\")  # Date(20, 9, 2028)\n",
    "coupon = 0.05\n",
    "freq_type = FrequencyTypes.SEMI_ANNUAL\n",
    "cal_type = CalendarTypes.WEEKEND\n",
    "bd_type = BusDayAdjustTypes.FOLLOWING\n",
    "dg_type = DateGenRuleTypes.BACKWARD\n",
    "basis_type = DayCountTypes.ACT_360\n",
    "face = ONE_MILLION"
   ]
  },
  {
   "cell_type": "code",
   "execution_count": 5,
   "metadata": {
    "execution": {
     "iopub.execute_input": "2025-08-27T22:23:08.044279Z",
     "iopub.status.busy": "2025-08-27T22:23:08.044027Z",
     "iopub.status.idle": "2025-08-27T22:23:08.046298Z",
     "shell.execute_reply": "2025-08-27T22:23:08.045939Z"
    }
   },
   "outputs": [],
   "source": [
    "annuity = BondAnnuity(maturity_dt,coupon,freq_type,cal_type,\n",
    "                         bd_type,dg_type,basis_type)"
   ]
  },
  {
   "cell_type": "code",
   "execution_count": 6,
   "metadata": {
    "execution": {
     "iopub.execute_input": "2025-08-27T22:23:08.048012Z",
     "iopub.status.busy": "2025-08-27T22:23:08.047711Z",
     "iopub.status.idle": "2025-08-27T22:23:08.051420Z",
     "shell.execute_reply": "2025-08-27T22:23:08.050975Z"
    },
    "scrolled": true,
    "tags": []
   },
   "outputs": [
    {
     "name": "stdout",
     "output_type": "stream",
     "text": [
      "OBJECT TYPE: BondAnnuity\n",
      "MATURITY DATE: 20-JUN-2023\n",
      "FREQUENCY: FrequencyTypes.SEMI_ANNUAL\n",
      "CALENDAR: CalendarTypes.WEEKEND\n",
      "BUS_DAY_RULE: BusDayAdjustTypes.FOLLOWING\n",
      "DATE_GEN_RULE: DateGenRuleTypes.BACKWARD\n",
      "\n"
     ]
    }
   ],
   "source": [
    "print(annuity)"
   ]
  },
  {
   "cell_type": "code",
   "execution_count": 7,
   "metadata": {
    "execution": {
     "iopub.execute_input": "2025-08-27T22:23:08.079981Z",
     "iopub.status.busy": "2025-08-27T22:23:08.079706Z",
     "iopub.status.idle": "2025-08-27T22:23:08.082213Z",
     "shell.execute_reply": "2025-08-27T22:23:08.081879Z"
    }
   },
   "outputs": [],
   "source": [
    "face = 1000000"
   ]
  },
  {
   "cell_type": "code",
   "execution_count": 8,
   "metadata": {
    "execution": {
     "iopub.execute_input": "2025-08-27T22:23:08.083965Z",
     "iopub.status.busy": "2025-08-27T22:23:08.083640Z",
     "iopub.status.idle": "2025-08-27T22:23:08.155176Z",
     "shell.execute_reply": "2025-08-27T22:23:08.154731Z"
    },
    "tags": []
   },
   "outputs": [
    {
     "name": "stdout",
     "output_type": "stream",
     "text": [
      "20-DEC-2018 , 25416.666666666668\n",
      "20-JUN-2019 , 25277.777777777777\n",
      "20-DEC-2019 , 25416.666666666668\n",
      "22-JUN-2020 , 25694.44444444444\n",
      "21-DEC-2020 , 25277.777777777777\n",
      "21-JUN-2021 , 25277.777777777777\n",
      "20-DEC-2021 , 25277.777777777777\n",
      "20-JUN-2022 , 25277.777777777777\n",
      "20-DEC-2022 , 25416.666666666668\n",
      "20-JUN-2023 , 25277.777777777777\n"
     ]
    }
   ],
   "source": [
    "annuity.print_payments(settle_dt, face)"
   ]
  },
  {
   "cell_type": "markdown",
   "metadata": {},
   "source": [
    "## We can value the flows by discounting them"
   ]
  },
  {
   "cell_type": "markdown",
   "metadata": {},
   "source": [
    "First we build a Libor swap curve"
   ]
  },
  {
   "cell_type": "code",
   "execution_count": 9,
   "metadata": {
    "execution": {
     "iopub.execute_input": "2025-08-27T22:23:08.156944Z",
     "iopub.status.busy": "2025-08-27T22:23:08.156735Z",
     "iopub.status.idle": "2025-08-27T22:23:08.170095Z",
     "shell.execute_reply": "2025-08-27T22:23:08.169564Z"
    }
   },
   "outputs": [],
   "source": [
    "depos = []\n",
    "dc_type = DayCountTypes.ACT_360\n",
    "fixed_freq = FrequencyTypes.SEMI_ANNUAL\n",
    "swap_type = SwapTypes.PAY\n",
    "swap1 = IborSwap(settle_dt,\"1Y\",swap_type,0.0500,fixed_freq,dc_type)\n",
    "swap2 = IborSwap(settle_dt,\"2Y\",swap_type,0.0500,fixed_freq,dc_type)\n",
    "swap3 = IborSwap(settle_dt,\"3Y\",swap_type,0.0500,fixed_freq,dc_type)\n",
    "swap4 = IborSwap(settle_dt,\"4Y\",swap_type,0.0500,fixed_freq,dc_type)\n",
    "swap5 = IborSwap(settle_dt,\"5Y\",swap_type,0.0500,fixed_freq,dc_type)\n",
    "swaps = [swap1, swap2, swap3, swap4, swap5]\n",
    "\n",
    "libor_curve = IborSingleCurve(value_dt, depos, [], swaps)"
   ]
  },
  {
   "cell_type": "code",
   "execution_count": 10,
   "metadata": {
    "execution": {
     "iopub.execute_input": "2025-08-27T22:23:08.171953Z",
     "iopub.status.busy": "2025-08-27T22:23:08.171717Z",
     "iopub.status.idle": "2025-08-27T22:23:08.176937Z",
     "shell.execute_reply": "2025-08-27T22:23:08.176340Z"
    }
   },
   "outputs": [
    {
     "data": {
      "text/plain": [
       "5.820766091346741e-11"
      ]
     },
     "execution_count": 10,
     "metadata": {},
     "output_type": "execute_result"
    }
   ],
   "source": [
    "swap5.value(settle_dt, libor_curve)"
   ]
  },
  {
   "cell_type": "code",
   "execution_count": 11,
   "metadata": {
    "execution": {
     "iopub.execute_input": "2025-08-27T22:23:08.178930Z",
     "iopub.status.busy": "2025-08-27T22:23:08.178687Z",
     "iopub.status.idle": "2025-08-27T22:23:08.181590Z",
     "shell.execute_reply": "2025-08-27T22:23:08.181200Z"
    }
   },
   "outputs": [
    {
     "name": "stdout",
     "output_type": "stream",
     "text": [
      "START DATE: 20-JUN-2018\n",
      "MATURITY DATE: 20-JUN-2023\n",
      "COUPON (%): 5.0\n",
      "FREQUENCY: FrequencyTypes.SEMI_ANNUAL\n",
      "DAY COUNT: DayCountTypes.ACT_360\n",
      "\n",
      "PAYMENTS VALUATION:\n",
      "PAY_NUM | PAY_dt      | NOTIONAL | RATE | PMNT     | DF     | PV       | CUM_PV   \n",
      "--------+-------------+----------+------+----------+--------+----------+----------\n",
      "      1 | 20-DEC-2018 |  1000000 |  5.0 | 25416.67 | 0.9752 | 24786.65 |  24786.65\n",
      "      2 | 20-JUN-2019 |  1000000 |  5.0 | 25277.78 | 0.9512 | 24043.46 |  48830.11\n",
      "      3 | 20-DEC-2019 |  1000000 |  5.0 | 25416.67 | 0.9276 | 23575.62 |  72405.74\n",
      "      4 | 22-JUN-2020 |  1000000 |  5.0 | 25694.44 | 0.9044 | 23236.96 |   95642.7\n",
      "      5 | 21-DEC-2020 |  1000000 |  5.0 | 25277.78 | 0.8821 | 22297.24 | 117939.94\n",
      "      6 | 21-JUN-2021 |  1000000 |  5.0 | 25277.78 | 0.8603 | 21746.81 | 139686.75\n",
      "      7 | 20-DEC-2021 |  1000000 |  5.0 | 25277.78 | 0.8391 | 21210.65 | 160897.39\n",
      "      8 | 20-JUN-2022 |  1000000 |  5.0 | 25277.78 | 0.8184 | 20687.71 |  181585.1\n",
      "      9 | 20-DEC-2022 |  1000000 |  5.0 | 25416.67 | 0.7981 | 20285.76 | 201870.87\n",
      "     10 | 20-JUN-2023 |  1000000 |  5.0 | 25277.78 | 0.7785 | 19677.53 | 221548.39\n"
     ]
    }
   ],
   "source": [
    "swap5.print_fixed_leg_pv()"
   ]
  },
  {
   "cell_type": "markdown",
   "metadata": {},
   "source": [
    "Here are the flows on the fixed leg of the 5Y swap"
   ]
  },
  {
   "cell_type": "code",
   "execution_count": 12,
   "metadata": {
    "execution": {
     "iopub.execute_input": "2025-08-27T22:23:08.183251Z",
     "iopub.status.busy": "2025-08-27T22:23:08.183062Z",
     "iopub.status.idle": "2025-08-27T22:23:08.186018Z",
     "shell.execute_reply": "2025-08-27T22:23:08.185632Z"
    }
   },
   "outputs": [
    {
     "name": "stdout",
     "output_type": "stream",
     "text": [
      "START DATE: 20-JUN-2018\n",
      "MATURITY DATE: 20-JUN-2023\n",
      "SPREAD (BPS): 0.0\n",
      "FREQUENCY: FrequencyTypes.QUARTERLY\n",
      "DAY COUNT: DayCountTypes.THIRTY_E_360\n",
      "\n",
      "PAYMENTS VALUATION:\n",
      "PAY_NUM | PAY_dt      | NOTIONAL | IBOR   | PMNT     | DF     | PV       | CUM_PV   \n",
      "--------+-------------+----------+--------+----------+--------+----------+----------\n",
      "      1 | 20-SEP-2018 |  1000000 | 5.0794 | 12698.47 | 0.9875 | 12539.24 |  12539.24\n",
      "      2 | 20-DEC-2018 |  1000000 | 5.0238 | 12559.58 | 0.9752 | 12248.26 |  24787.49\n",
      "      3 | 20-MAR-2019 |  1000000 | 4.9683 |  12420.7 | 0.9632 | 11964.22 |  36751.71\n",
      "      4 | 20-JUN-2019 |  1000000 | 5.0794 | 12698.47 | 0.9512 |  12078.4 |  48830.11\n",
      "      5 | 20-SEP-2019 |  1000000 | 5.0854 |  12713.4 | 0.9392 |  11940.8 |  60770.91\n",
      "      6 | 20-DEC-2019 |  1000000 | 5.0297 | 12574.35 | 0.9276 | 11663.53 |  72434.44\n",
      "      7 | 20-MAR-2020 |  1000000 | 5.0177 | 12544.34 | 0.9161 | 11491.54 |  83925.98\n",
      "      8 | 22-JUN-2020 |  1000000 | 5.0697 | 12955.84 | 0.9044 | 11716.71 |   95642.7\n",
      "      9 | 21-SEP-2020 |  1000000 |  5.074 | 12543.95 | 0.8932 | 11203.68 | 106846.37\n",
      "     10 | 21-DEC-2020 |  1000000 | 5.0176 | 12543.97 | 0.8821 |  11064.9 | 117911.27\n",
      "     11 | 22-MAR-2021 |  1000000 | 4.9745 | 12574.38 | 0.8711 | 10953.98 | 128865.25\n",
      "     12 | 21-JUN-2021 |  1000000 |  5.088 | 12578.56 | 0.8603 |  10821.5 | 139686.75\n",
      "     13 | 20-SEP-2021 |  1000000 | 5.0805 | 12560.16 | 0.8496 | 10671.64 | 150358.38\n",
      "     14 | 20-DEC-2021 |  1000000 |  5.024 | 12559.96 | 0.8391 | 10539.09 | 160897.48\n",
      "     15 | 21-MAR-2022 |  1000000 | 4.9688 | 12559.96 | 0.8287 | 10408.37 | 171305.84\n",
      "     16 | 20-JUN-2022 |  1000000 | 5.0804 | 12559.96 | 0.8184 | 10279.26 |  181585.1\n",
      "     17 | 20-SEP-2022 |  1000000 | 5.0794 | 12698.47 | 0.8082 |  10262.3 |  191847.4\n",
      "     18 | 20-DEC-2022 |  1000000 | 5.0238 | 12559.57 | 0.7981 | 10024.15 | 201871.56\n",
      "     19 | 20-MAR-2023 |  1000000 | 4.9683 |  12420.7 | 0.7883 |   9791.7 | 211663.25\n",
      "     20 | 20-JUN-2023 |  1000000 | 5.0794 | 12698.46 | 0.7785 |  9885.14 | 221548.39\n"
     ]
    }
   ],
   "source": [
    "swap5.print_float_leg_pv()"
   ]
  },
  {
   "cell_type": "code",
   "execution_count": 13,
   "metadata": {
    "execution": {
     "iopub.execute_input": "2025-08-27T22:23:08.187583Z",
     "iopub.status.busy": "2025-08-27T22:23:08.187380Z",
     "iopub.status.idle": "2025-08-27T22:23:08.189715Z",
     "shell.execute_reply": "2025-08-27T22:23:08.189328Z"
    }
   },
   "outputs": [],
   "source": [
    "cleanValue = annuity.clean_price_from_discount_curve(settle_dt, libor_curve)"
   ]
  },
  {
   "cell_type": "code",
   "execution_count": 14,
   "metadata": {
    "execution": {
     "iopub.execute_input": "2025-08-27T22:23:08.191108Z",
     "iopub.status.busy": "2025-08-27T22:23:08.190932Z",
     "iopub.status.idle": "2025-08-27T22:23:08.193499Z",
     "shell.execute_reply": "2025-08-27T22:23:08.193080Z"
    }
   },
   "outputs": [],
   "source": [
    "dirtyValue = annuity.dirty_price_from_discount_curve(settle_dt, libor_curve)"
   ]
  },
  {
   "cell_type": "markdown",
   "metadata": {},
   "source": [
    "The price of the annuity is quoted based on a par notional"
   ]
  },
  {
   "cell_type": "code",
   "execution_count": 15,
   "metadata": {
    "execution": {
     "iopub.execute_input": "2025-08-27T22:23:08.195124Z",
     "iopub.status.busy": "2025-08-27T22:23:08.194791Z",
     "iopub.status.idle": "2025-08-27T22:23:08.198050Z",
     "shell.execute_reply": "2025-08-27T22:23:08.197599Z"
    }
   },
   "outputs": [
    {
     "name": "stdout",
     "output_type": "stream",
     "text": [
      "CLEAN PRICE: 22154839.385148082\n",
      "DIRTY PRICE: 22154839.385148082\n",
      "ACCRD VALUE: 0.0\n"
     ]
    }
   ],
   "source": [
    "print(\"CLEAN PRICE:\", cleanValue)\n",
    "print(\"DIRTY PRICE:\", dirtyValue)\n",
    "print(\"ACCRD VALUE:\", annuity.accrued_int)"
   ]
  },
  {
   "cell_type": "markdown",
   "metadata": {},
   "source": [
    "Copyright (c) 2020 Dominic O'Kane"
   ]
  }
 ],
 "metadata": {
  "kernelspec": {
   "display_name": "base",
   "language": "python",
   "name": "python3"
  },
  "language_info": {
   "codemirror_mode": {
    "name": "ipython",
    "version": 3
   },
   "file_extension": ".py",
   "mimetype": "text/x-python",
   "name": "python",
   "nbconvert_exporter": "python",
   "pygments_lexer": "ipython3",
   "version": "3.13.5"
  }
 },
 "nbformat": 4,
 "nbformat_minor": 2
}
