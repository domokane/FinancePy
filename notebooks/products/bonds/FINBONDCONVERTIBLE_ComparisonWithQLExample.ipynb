{
 "cells": [
  {
   "cell_type": "markdown",
   "metadata": {},
   "source": [
    "# Convertible Bond Valuation - QL Example"
   ]
  },
  {
   "cell_type": "markdown",
   "metadata": {},
   "source": [
    "Value a Convertible Bond and compare to QL example at http://gouthamanbalaraman.com/blog/value-convertible-bond-quantlib-python.html"
   ]
  },
  {
   "cell_type": "code",
   "execution_count": 1,
   "metadata": {
    "execution": {
     "iopub.execute_input": "2025-08-27T22:23:10.057127Z",
     "iopub.status.busy": "2025-08-27T22:23:10.056934Z",
     "iopub.status.idle": "2025-08-27T22:23:10.500193Z",
     "shell.execute_reply": "2025-08-27T22:23:10.499768Z"
    }
   },
   "outputs": [],
   "source": [
    "import numpy as np\n",
    "import matplotlib.pyplot as plt"
   ]
  },
  {
   "cell_type": "code",
   "execution_count": 2,
   "metadata": {
    "execution": {
     "iopub.execute_input": "2025-08-27T22:23:10.502444Z",
     "iopub.status.busy": "2025-08-27T22:23:10.502115Z",
     "iopub.status.idle": "2025-08-27T22:23:11.499508Z",
     "shell.execute_reply": "2025-08-27T22:23:11.499030Z"
    }
   },
   "outputs": [],
   "source": [
    "from financepy.utils import *\n",
    "from financepy.products.bonds import *\n",
    "from financepy.market.curves import *"
   ]
  },
  {
   "cell_type": "markdown",
   "metadata": {},
   "source": [
    "## Creating the Convertible Bond"
   ]
  },
  {
   "cell_type": "code",
   "execution_count": 3,
   "metadata": {
    "execution": {
     "iopub.execute_input": "2025-08-27T22:23:11.501797Z",
     "iopub.status.busy": "2025-08-27T22:23:11.501530Z",
     "iopub.status.idle": "2025-08-27T22:23:11.521312Z",
     "shell.execute_reply": "2025-08-27T22:23:11.520777Z"
    }
   },
   "outputs": [],
   "source": [
    "value_dt = Date(9, 1, 2004)\n",
    "settle_dt = value_dt.add_days(2)"
   ]
  },
  {
   "cell_type": "markdown",
   "metadata": {},
   "source": [
    "We set the maturity date, annualised coupon, coupon annual_frequency and convention for calculating accrued interest"
   ]
  },
  {
   "cell_type": "code",
   "execution_count": 4,
   "metadata": {
    "execution": {
     "iopub.execute_input": "2025-08-27T22:23:11.523575Z",
     "iopub.status.busy": "2025-08-27T22:23:11.523275Z",
     "iopub.status.idle": "2025-08-27T22:23:11.525927Z",
     "shell.execute_reply": "2025-08-27T22:23:11.525542Z"
    }
   },
   "outputs": [],
   "source": [
    "maturity_dt = Date(15, 3, 2022)\n",
    "coupon = 0.0575\n",
    "freq_type = FrequencyTypes.SEMI_ANNUAL\n",
    "accrualBasis = DayCountTypes.THIRTY_360_BOND\n",
    "face = 100.0\n",
    "conversion_ratio = 3.84615"
   ]
  },
  {
   "cell_type": "markdown",
   "metadata": {},
   "source": [
    "We need to set the face amount and the conversion ratio. This is the number of shares you can convert to for that face amount."
   ]
  },
  {
   "cell_type": "markdown",
   "metadata": {},
   "source": [
    "We can also delay the start of the conversion feature using the start convert date. We allow conversion to occur from settlement."
   ]
  },
  {
   "cell_type": "code",
   "execution_count": 5,
   "metadata": {
    "execution": {
     "iopub.execute_input": "2025-08-27T22:23:11.527685Z",
     "iopub.status.busy": "2025-08-27T22:23:11.527484Z",
     "iopub.status.idle": "2025-08-27T22:23:11.529732Z",
     "shell.execute_reply": "2025-08-27T22:23:11.529357Z"
    }
   },
   "outputs": [],
   "source": [
    "start_convert_dt = settle_dt"
   ]
  },
  {
   "cell_type": "markdown",
   "metadata": {},
   "source": [
    "We can also set the call schedule - the price and date on which the issuer can call back the bond. This is given with reference to a price of 100. Making the call price very high means it will never be called. So the call has no impact."
   ]
  },
  {
   "cell_type": "code",
   "execution_count": 6,
   "metadata": {
    "execution": {
     "iopub.execute_input": "2025-08-27T22:23:11.531322Z",
     "iopub.status.busy": "2025-08-27T22:23:11.531009Z",
     "iopub.status.idle": "2025-08-27T22:23:11.533504Z",
     "shell.execute_reply": "2025-08-27T22:23:11.533136Z"
    }
   },
   "outputs": [],
   "source": [
    "call_price = 100.0\n",
    "call_dts = [Date(20, 3, 2007), Date(15, 3, 2012), Date(15, 3, 2017)]\n",
    "call_prices = [call_price, call_price, call_price]"
   ]
  },
  {
   "cell_type": "markdown",
   "metadata": {},
   "source": [
    "We can also set the put schedule - the price and date on which the owner can put back the bond to the issuer. This is given with reference to a price of 100. Making the put price very low means it will never be put."
   ]
  },
  {
   "cell_type": "code",
   "execution_count": 7,
   "metadata": {
    "execution": {
     "iopub.execute_input": "2025-08-27T22:23:11.535043Z",
     "iopub.status.busy": "2025-08-27T22:23:11.534829Z",
     "iopub.status.idle": "2025-08-27T22:23:11.537887Z",
     "shell.execute_reply": "2025-08-27T22:23:11.537524Z"
    }
   },
   "outputs": [],
   "source": [
    "putPrice = 100.0\n",
    "put_dts = [Date(20, 3, 2007), Date(15, 3, 2012), Date(15, 3, 2017)]\n",
    "put_prices = [putPrice, putPrice, putPrice]"
   ]
  },
  {
   "cell_type": "markdown",
   "metadata": {},
   "source": [
    "At this point we can create our bond."
   ]
  },
  {
   "cell_type": "code",
   "execution_count": 8,
   "metadata": {
    "execution": {
     "iopub.execute_input": "2025-08-27T22:23:11.539534Z",
     "iopub.status.busy": "2025-08-27T22:23:11.539237Z",
     "iopub.status.idle": "2025-08-27T22:23:11.541642Z",
     "shell.execute_reply": "2025-08-27T22:23:11.541328Z"
    }
   },
   "outputs": [],
   "source": [
    "bond = BondConvertible(maturity_dt, coupon, freq_type, start_convert_dt, conversion_ratio, call_dts, call_prices, put_dts, put_prices, accrualBasis)"
   ]
  },
  {
   "cell_type": "code",
   "execution_count": 9,
   "metadata": {
    "execution": {
     "iopub.execute_input": "2025-08-27T22:23:11.543140Z",
     "iopub.status.busy": "2025-08-27T22:23:11.542952Z",
     "iopub.status.idle": "2025-08-27T22:23:11.546509Z",
     "shell.execute_reply": "2025-08-27T22:23:11.546116Z"
    }
   },
   "outputs": [
    {
     "name": "stdout",
     "output_type": "stream",
     "text": [
      "OBJECT TYPE: BondConvertible\n",
      "MATURITY DATE: 15-MAR-2022\n",
      "COUPON: 0.0575\n",
      "FREQUENCY: FrequencyTypes.SEMI_ANNUAL\n",
      "DAY COUNT TYPE: DayCountTypes.THIRTY_360_BOND\n",
      "CONVERSION RATIO: 3.84615\n",
      "START CONVERT DATE: 11-JAN-2004\n",
      "CALL: DATES\n",
      "20-MAR-2007: 100.0\n",
      "15-MAR-2012: 100.0\n",
      "15-MAR-2017: 100.0\n",
      "PUT: DATES\n",
      "20-MAR-2007: 100.0\n",
      "15-MAR-2012: 100.0\n",
      "15-MAR-2017: 100.0\n",
      "\n"
     ]
    }
   ],
   "source": [
    "print(bond)"
   ]
  },
  {
   "cell_type": "markdown",
   "metadata": {},
   "source": [
    "## Valuation Inputs"
   ]
  },
  {
   "cell_type": "markdown",
   "metadata": {},
   "source": [
    "The model allows a discrete dividend schedule. We can use the FinSchedule class to do this."
   ]
  },
  {
   "cell_type": "code",
   "execution_count": 10,
   "metadata": {
    "execution": {
     "iopub.execute_input": "2025-08-27T22:23:11.548161Z",
     "iopub.status.busy": "2025-08-27T22:23:11.547859Z",
     "iopub.status.idle": "2025-08-27T22:23:11.551177Z",
     "shell.execute_reply": "2025-08-27T22:23:11.550793Z"
    }
   },
   "outputs": [],
   "source": [
    "dividendSchedule = Schedule(settle_dt, maturity_dt).schedule_dts()[1:]\n",
    "dividend_yields = [0.02] * len(dividendSchedule)"
   ]
  },
  {
   "cell_type": "code",
   "execution_count": 11,
   "metadata": {
    "execution": {
     "iopub.execute_input": "2025-08-27T22:23:11.552817Z",
     "iopub.status.busy": "2025-08-27T22:23:11.552560Z",
     "iopub.status.idle": "2025-08-27T22:23:11.555349Z",
     "shell.execute_reply": "2025-08-27T22:23:11.554986Z"
    }
   },
   "outputs": [],
   "source": [
    "rate = 0.04\n",
    "discount_curve = DiscountCurveFlat(settle_dt, rate, FrequencyTypes.CONTINUOUS)"
   ]
  },
  {
   "cell_type": "code",
   "execution_count": 12,
   "metadata": {
    "execution": {
     "iopub.execute_input": "2025-08-27T22:23:11.556830Z",
     "iopub.status.busy": "2025-08-27T22:23:11.556649Z",
     "iopub.status.idle": "2025-08-27T22:23:11.559242Z",
     "shell.execute_reply": "2025-08-27T22:23:11.558705Z"
    }
   },
   "outputs": [],
   "source": [
    "stock_price = 29.04\n",
    "stock_volatility = 0.40\n",
    "credit_spread = 0.03\n",
    "recovery_rate = 0.40 # 40 percent\n",
    "num_steps_per_year = 1000"
   ]
  },
  {
   "cell_type": "code",
   "execution_count": 13,
   "metadata": {
    "execution": {
     "iopub.execute_input": "2025-08-27T22:23:11.560645Z",
     "iopub.status.busy": "2025-08-27T22:23:11.560455Z",
     "iopub.status.idle": "2025-08-27T22:23:13.752377Z",
     "shell.execute_reply": "2025-08-27T22:23:13.752009Z"
    }
   },
   "outputs": [
    {
     "data": {
      "text/plain": [
       "{'cbprice': np.float64(135.35452399080853),\n",
       " 'bond': np.float64(89.44004150041206),\n",
       " 'delta': np.float64(2.8964034274730124),\n",
       " 'gamma': np.float64(0.5948917917094881),\n",
       " 'theta': np.float64(221.62044995424202)}"
      ]
     },
     "execution_count": 13,
     "metadata": {},
     "output_type": "execute_result"
    }
   ],
   "source": [
    "bond.value(value_dt, stock_price, stock_volatility, dividendSchedule, dividend_yields,\n",
    "           discount_curve, credit_spread, recovery_rate, num_steps_per_year)"
   ]
  },
  {
   "cell_type": "markdown",
   "metadata": {},
   "source": [
    "Copyright (c) 2020 Dominic O'Kane"
   ]
  },
  {
   "cell_type": "markdown",
   "metadata": {},
   "source": [
    "This compares to 132.31 found by QL. The difference could be due to the different treatment of dividends or the credit spread."
   ]
  }
 ],
 "metadata": {
  "kernelspec": {
   "display_name": "base",
   "language": "python",
   "name": "python3"
  },
  "language_info": {
   "codemirror_mode": {
    "name": "ipython",
    "version": 3
   },
   "file_extension": ".py",
   "mimetype": "text/x-python",
   "name": "python",
   "nbconvert_exporter": "python",
   "pygments_lexer": "ipython3",
   "version": "3.13.5"
  }
 },
 "nbformat": 4,
 "nbformat_minor": 2
}
