{
 "cells": [
  {
   "cell_type": "markdown",
   "metadata": {},
   "source": [
    "# Convertible Bond Valuation - QL Example"
   ]
  },
  {
   "cell_type": "markdown",
   "metadata": {},
   "source": [
    "Value a Convertible Bond and compare to QL example at http://gouthamanbalaraman.com/blog/value-convertible-bond-quantlib-python.html"
   ]
  },
  {
   "cell_type": "code",
   "execution_count": 1,
   "metadata": {
    "execution": {
     "iopub.execute_input": "2025-09-14T22:17:05.147792Z",
     "iopub.status.busy": "2025-09-14T22:17:05.147668Z",
     "iopub.status.idle": "2025-09-14T22:17:05.365516Z",
     "shell.execute_reply": "2025-09-14T22:17:05.365140Z"
    }
   },
   "outputs": [],
   "source": [
    "import numpy as np\n",
    "import matplotlib.pyplot as plt"
   ]
  },
  {
   "cell_type": "code",
   "execution_count": 2,
   "metadata": {
    "execution": {
     "iopub.execute_input": "2025-09-14T22:17:05.367161Z",
     "iopub.status.busy": "2025-09-14T22:17:05.367002Z",
     "iopub.status.idle": "2025-09-14T22:17:06.046250Z",
     "shell.execute_reply": "2025-09-14T22:17:06.045775Z"
    }
   },
   "outputs": [],
   "source": [
    "from financepy.utils import *\n",
    "from financepy.products.bonds import *\n",
    "from financepy.market.curves import *"
   ]
  },
  {
   "cell_type": "markdown",
   "metadata": {},
   "source": [
    "## Creating the Convertible Bond"
   ]
  },
  {
   "cell_type": "code",
   "execution_count": 3,
   "metadata": {
    "execution": {
     "iopub.execute_input": "2025-09-14T22:17:06.047963Z",
     "iopub.status.busy": "2025-09-14T22:17:06.047760Z",
     "iopub.status.idle": "2025-09-14T22:17:06.067891Z",
     "shell.execute_reply": "2025-09-14T22:17:06.067283Z"
    }
   },
   "outputs": [],
   "source": [
    "value_dt = Date(9, 1, 2004)\n",
    "settle_dt = value_dt.add_days(2)"
   ]
  },
  {
   "cell_type": "markdown",
   "metadata": {},
   "source": [
    "We set the maturity date, annualised coupon, coupon annual_frequency and convention for calculating accrued interest"
   ]
  },
  {
   "cell_type": "code",
   "execution_count": 4,
   "metadata": {
    "execution": {
     "iopub.execute_input": "2025-09-14T22:17:06.069610Z",
     "iopub.status.busy": "2025-09-14T22:17:06.069457Z",
     "iopub.status.idle": "2025-09-14T22:17:06.071888Z",
     "shell.execute_reply": "2025-09-14T22:17:06.071626Z"
    }
   },
   "outputs": [],
   "source": [
    "maturity_dt = Date(15, 3, 2022)\n",
    "coupon = 0.0575\n",
    "freq_type = FrequencyTypes.SEMI_ANNUAL\n",
    "accrualBasis = DayCountTypes.THIRTY_360_BOND\n",
    "face = 100.0\n",
    "conversion_ratio = 3.84615"
   ]
  },
  {
   "cell_type": "markdown",
   "metadata": {},
   "source": [
    "We need to set the face amount and the conversion ratio. This is the number of shares you can convert to for that face amount."
   ]
  },
  {
   "cell_type": "markdown",
   "metadata": {},
   "source": [
    "We can also delay the start of the conversion feature using the start convert date. We allow conversion to occur from settlement."
   ]
  },
  {
   "cell_type": "code",
   "execution_count": 5,
   "metadata": {
    "execution": {
     "iopub.execute_input": "2025-09-14T22:17:06.072950Z",
     "iopub.status.busy": "2025-09-14T22:17:06.072832Z",
     "iopub.status.idle": "2025-09-14T22:17:06.074891Z",
     "shell.execute_reply": "2025-09-14T22:17:06.074630Z"
    }
   },
   "outputs": [],
   "source": [
    "start_convert_dt = settle_dt"
   ]
  },
  {
   "cell_type": "markdown",
   "metadata": {},
   "source": [
    "We can also set the call schedule - the price and date on which the issuer can call back the bond. This is given with reference to a price of 100. Making the call price very high means it will never be called. So the call has no impact."
   ]
  },
  {
   "cell_type": "code",
   "execution_count": 6,
   "metadata": {
    "execution": {
     "iopub.execute_input": "2025-09-14T22:17:06.076107Z",
     "iopub.status.busy": "2025-09-14T22:17:06.075996Z",
     "iopub.status.idle": "2025-09-14T22:17:06.078075Z",
     "shell.execute_reply": "2025-09-14T22:17:06.077771Z"
    }
   },
   "outputs": [],
   "source": [
    "call_price = 100.0\n",
    "call_dts = [Date(20, 3, 2007), Date(15, 3, 2012), Date(15, 3, 2017)]\n",
    "call_prices = np.array([call_price, call_price, call_price])"
   ]
  },
  {
   "cell_type": "markdown",
   "metadata": {},
   "source": [
    "We can also set the put schedule - the price and date on which the owner can put back the bond to the issuer. This is given with reference to a price of 100. Making the put price very low means it will never be put."
   ]
  },
  {
   "cell_type": "code",
   "execution_count": 7,
   "metadata": {
    "execution": {
     "iopub.execute_input": "2025-09-14T22:17:06.079449Z",
     "iopub.status.busy": "2025-09-14T22:17:06.079322Z",
     "iopub.status.idle": "2025-09-14T22:17:06.082096Z",
     "shell.execute_reply": "2025-09-14T22:17:06.081777Z"
    }
   },
   "outputs": [],
   "source": [
    "putPrice = 100.0\n",
    "put_dts = [Date(20, 3, 2007), Date(15, 3, 2012), Date(15, 3, 2017)]\n",
    "put_prices = np.array([putPrice, putPrice, putPrice])"
   ]
  },
  {
   "cell_type": "markdown",
   "metadata": {},
   "source": [
    "At this point we can create our bond."
   ]
  },
  {
   "cell_type": "code",
   "execution_count": 8,
   "metadata": {
    "execution": {
     "iopub.execute_input": "2025-09-14T22:17:06.083409Z",
     "iopub.status.busy": "2025-09-14T22:17:06.083282Z",
     "iopub.status.idle": "2025-09-14T22:17:06.085411Z",
     "shell.execute_reply": "2025-09-14T22:17:06.085174Z"
    }
   },
   "outputs": [],
   "source": [
    "bond = BondConvertible(maturity_dt, coupon, freq_type, start_convert_dt, conversion_ratio, call_dts, call_prices, put_dts, put_prices, accrualBasis)"
   ]
  },
  {
   "cell_type": "code",
   "execution_count": 9,
   "metadata": {
    "execution": {
     "iopub.execute_input": "2025-09-14T22:17:06.086389Z",
     "iopub.status.busy": "2025-09-14T22:17:06.086273Z",
     "iopub.status.idle": "2025-09-14T22:17:06.089400Z",
     "shell.execute_reply": "2025-09-14T22:17:06.089109Z"
    }
   },
   "outputs": [
    {
     "name": "stdout",
     "output_type": "stream",
     "text": [
      "OBJECT TYPE: BondConvertible\n",
      "MATURITY DATE: 15-MAR-2022\n",
      "COUPON: 0.0575\n",
      "FREQUENCY: FrequencyTypes.SEMI_ANNUAL\n",
      "DAY COUNT TYPE: DayCountTypes.THIRTY_360_BOND\n",
      "CONVERSION RATIO: 3.84615\n",
      "START CONVERT DATE: 11-JAN-2004\n",
      "CALL: DATES\n",
      "20-MAR-2007: 100.0\n",
      "15-MAR-2012: 100.0\n",
      "15-MAR-2017: 100.0\n",
      "PUT: DATES\n",
      "20-MAR-2007: 100.0\n",
      "15-MAR-2012: 100.0\n",
      "15-MAR-2017: 100.0\n",
      "\n"
     ]
    }
   ],
   "source": [
    "print(bond)"
   ]
  },
  {
   "cell_type": "markdown",
   "metadata": {},
   "source": [
    "## Valuation Inputs"
   ]
  },
  {
   "cell_type": "markdown",
   "metadata": {},
   "source": [
    "The model allows a discrete dividend schedule. We can use the FinSchedule class to do this."
   ]
  },
  {
   "cell_type": "code",
   "execution_count": 10,
   "metadata": {
    "execution": {
     "iopub.execute_input": "2025-09-14T22:17:06.090356Z",
     "iopub.status.busy": "2025-09-14T22:17:06.090246Z",
     "iopub.status.idle": "2025-09-14T22:17:06.092398Z",
     "shell.execute_reply": "2025-09-14T22:17:06.092094Z"
    }
   },
   "outputs": [],
   "source": [
    "dividend_schedule = Schedule(settle_dt, maturity_dt).schedule_dts()[1:]\n",
    "dividend_yields = np.array([0.02] * len(dividend_schedule))"
   ]
  },
  {
   "cell_type": "code",
   "execution_count": 11,
   "metadata": {
    "execution": {
     "iopub.execute_input": "2025-09-14T22:17:06.093231Z",
     "iopub.status.busy": "2025-09-14T22:17:06.093121Z",
     "iopub.status.idle": "2025-09-14T22:17:06.095603Z",
     "shell.execute_reply": "2025-09-14T22:17:06.095305Z"
    }
   },
   "outputs": [],
   "source": [
    "rate = 0.04\n",
    "discount_curve = DiscountCurveFlat(settle_dt, rate, FrequencyTypes.CONTINUOUS)"
   ]
  },
  {
   "cell_type": "code",
   "execution_count": 12,
   "metadata": {
    "execution": {
     "iopub.execute_input": "2025-09-14T22:17:06.096564Z",
     "iopub.status.busy": "2025-09-14T22:17:06.096457Z",
     "iopub.status.idle": "2025-09-14T22:17:06.098313Z",
     "shell.execute_reply": "2025-09-14T22:17:06.098097Z"
    }
   },
   "outputs": [],
   "source": [
    "stock_price = 29.04\n",
    "stock_volatility = 0.40\n",
    "credit_spread = 0.03\n",
    "recovery_rate = 0.40 # 40 percent\n",
    "num_steps_per_year = 1000"
   ]
  },
  {
   "cell_type": "code",
   "execution_count": 13,
   "metadata": {
    "execution": {
     "iopub.execute_input": "2025-09-14T22:17:06.099227Z",
     "iopub.status.busy": "2025-09-14T22:17:06.099118Z",
     "iopub.status.idle": "2025-09-14T22:17:06.139313Z",
     "shell.execute_reply": "2025-09-14T22:17:06.138925Z"
    }
   },
   "outputs": [
    {
     "data": {
      "text/plain": [
       "{'cbprice': np.float64(135.35452399080853),\n",
       " 'bond': np.float64(89.44004150041206),\n",
       " 'delta': np.float64(2.8964034274730124),\n",
       " 'gamma': np.float64(0.5948917917094881),\n",
       " 'theta': np.float64(221.62044995424202)}"
      ]
     },
     "execution_count": 13,
     "metadata": {},
     "output_type": "execute_result"
    }
   ],
   "source": [
    "bond.value(value_dt, stock_price, stock_volatility, dividend_schedule, dividend_yields,\n",
    "           discount_curve, credit_spread, recovery_rate, num_steps_per_year)"
   ]
  },
  {
   "cell_type": "markdown",
   "metadata": {},
   "source": [
    "Copyright (c) 2020 Dominic O'Kane"
   ]
  },
  {
   "cell_type": "markdown",
   "metadata": {},
   "source": [
    "This compares to 132.31 found by QL. The difference could be due to the different treatment of dividends or the credit spread."
   ]
  },
  {
   "cell_type": "markdown",
   "metadata": {},
   "source": []
  },
  {
   "cell_type": "markdown",
   "metadata": {},
   "source": []
  }
 ],
 "metadata": {
  "kernelspec": {
   "display_name": "Python 3",
   "language": "python",
   "name": "python3"
  },
  "language_info": {
   "codemirror_mode": {
    "name": "ipython",
    "version": 3
   },
   "file_extension": ".py",
   "mimetype": "text/x-python",
   "name": "python",
   "nbconvert_exporter": "python",
   "pygments_lexer": "ipython3",
   "version": "3.13.7"
  }
 },
 "nbformat": 4,
 "nbformat_minor": 2
}
