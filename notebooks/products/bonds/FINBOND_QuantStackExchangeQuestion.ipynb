{
    "cells": [
        {
            "cell_type": "markdown",
            "metadata": {},
            "source": [
                "# FIXED COUPON BOND EXAMPLE TREASURY"
            ]
        },
        {
            "cell_type": "markdown",
            "metadata": {},
            "source": [
                "Question on StackExchange - THIS HAS NOT BEEN REPLICATED AS EXAMPLE LOOKS WRONG"
            ]
        },
        {
            "cell_type": "markdown",
            "metadata": {},
            "source": [
                "https://quant.stackexchange.com/questions/66508/schedule-yield-to-maturity-and-npv-of-fixed-rate-bond-from-quantlib-python"
            ]
        },
        {
            "cell_type": "code",
            "execution_count": 1,
            "metadata": {
                "execution": {
                    "iopub.execute_input": "2024-04-30T19:50:41.672914Z",
                    "iopub.status.busy": "2024-04-30T19:50:41.671917Z",
                    "iopub.status.idle": "2024-04-30T19:50:42.307228Z",
                    "shell.execute_reply": "2024-04-30T19:50:42.307228Z"
                }
            },
            "outputs": [],
            "source": [
                "import numpy as np\n",
                "import matplotlib.pyplot as plt"
            ]
        },
        {
            "cell_type": "code",
            "execution_count": 2,
            "metadata": {
                "execution": {
                    "iopub.execute_input": "2024-04-30T19:50:42.310294Z",
                    "iopub.status.busy": "2024-04-30T19:50:42.310294Z",
                    "iopub.status.idle": "2024-04-30T19:50:43.411374Z",
                    "shell.execute_reply": "2024-04-30T19:50:43.411374Z"
                }
            },
            "outputs": [
                {
                    "name": "stdout",
                    "output_type": "stream",
                    "text": [
                        "####################################################################\n",
                        "#  FINANCEPY BETA Version 0.350 - This build: 30 Apr 2024 at 21:20 #\n",
                        "#     This software is distributed FREE AND WITHOUT ANY WARRANTY   #\n",
                        "#  Report bugs as issues at https://github.com/domokane/FinancePy  #\n",
                        "####################################################################\n",
                        "\n"
                    ]
                }
            ],
            "source": [
                "from financepy.utils import *\n",
                "from financepy.products.bonds.bond import *\n",
                "from financepy.market.curves import *"
            ]
        },
        {
            "cell_type": "markdown",
            "metadata": {},
            "source": [
                "# Define the Bond"
            ]
        },
        {
            "cell_type": "code",
            "execution_count": 3,
            "metadata": {
                "execution": {
                    "iopub.execute_input": "2024-04-30T19:50:43.414390Z",
                    "iopub.status.busy": "2024-04-30T19:50:43.414390Z",
                    "iopub.status.idle": "2024-04-30T19:50:43.434040Z",
                    "shell.execute_reply": "2024-04-30T19:50:43.434040Z"
                }
            },
            "outputs": [],
            "source": [
                "issue_dt = Date(28, 9, 2019)\n",
                "maturity_dt = Date(28, 9, 2024)\n",
                "coupon = 0.05\n",
                "freq_type = FrequencyTypes.SEMI_ANNUAL\n",
                "day_count_type = DayCountTypes.ACT_360\n",
                "face = 100.0"
            ]
        },
        {
            "cell_type": "code",
            "execution_count": 4,
            "metadata": {
                "execution": {
                    "iopub.execute_input": "2024-04-30T19:50:43.437075Z",
                    "iopub.status.busy": "2024-04-30T19:50:43.436080Z",
                    "iopub.status.idle": "2024-04-30T19:50:43.439770Z",
                    "shell.execute_reply": "2024-04-30T19:50:43.439770Z"
                }
            },
            "outputs": [],
            "source": [
                "bond = Bond(issue_dt, maturity_dt, coupon, freq_type, day_count_type)"
            ]
        },
        {
            "cell_type": "markdown",
            "metadata": {},
            "source": [
                "You can get information about the bond using the print method."
            ]
        },
        {
            "cell_type": "code",
            "execution_count": 5,
            "metadata": {
                "execution": {
                    "iopub.execute_input": "2024-04-30T19:50:43.442452Z",
                    "iopub.status.busy": "2024-04-30T19:50:43.442452Z",
                    "iopub.status.idle": "2024-04-30T19:50:43.445263Z",
                    "shell.execute_reply": "2024-04-30T19:50:43.445263Z"
                }
            },
            "outputs": [
                {
                    "name": "stdout",
                    "output_type": "stream",
                    "text": [
                        "OBJECT TYPE: Bond\n",
                        "ISSUE DATE: 28-SEP-2019\n",
                        "MATURITY DATE: 28-SEP-2024\n",
                        "COUPON (%): 5.0\n",
                        "FREQUENCY: FrequencyTypes.SEMI_ANNUAL\n",
                        "DAY COUNT TYPE: DayCountTypes.ACT_360\n",
                        "EX_DIV DAYS: 0\n"
                    ]
                }
            ],
            "source": [
                "print(bond)"
            ]
        },
        {
            "cell_type": "markdown",
            "metadata": {},
            "source": [
                "## Bond Cash Flows"
            ]
        },
        {
            "cell_type": "markdown",
            "metadata": {},
            "source": [
                "We first need to set the settlement date of the bond. "
            ]
        },
        {
            "cell_type": "code",
            "execution_count": 6,
            "metadata": {
                "execution": {
                    "iopub.execute_input": "2024-04-30T19:50:43.448306Z",
                    "iopub.status.busy": "2024-04-30T19:50:43.447310Z",
                    "iopub.status.idle": "2024-04-30T19:50:43.456415Z",
                    "shell.execute_reply": "2024-04-30T19:50:43.455816Z"
                }
            },
            "outputs": [
                {
                    "name": "stdout",
                    "output_type": "stream",
                    "text": [
                        "20-AUG-2020\n"
                    ]
                }
            ],
            "source": [
                "value_dt = Date(31, 7, 2020)\n",
                "settle_dt = value_dt.add_days(20)\n",
                "print(settle_dt)"
            ]
        },
        {
            "cell_type": "code",
            "execution_count": 7,
            "metadata": {
                "execution": {
                    "iopub.execute_input": "2024-04-30T19:50:43.458413Z",
                    "iopub.status.busy": "2024-04-30T19:50:43.458413Z",
                    "iopub.status.idle": "2024-04-30T19:50:43.461306Z",
                    "shell.execute_reply": "2024-04-30T19:50:43.461306Z"
                }
            },
            "outputs": [
                {
                    "name": "stdout",
                    "output_type": "stream",
                    "text": [
                        " 28-SEP-2020      2.50000 \n",
                        " 28-MAR-2021      2.50000 \n",
                        " 28-SEP-2021      2.50000 \n",
                        " 28-MAR-2022      2.50000 \n",
                        " 28-SEP-2022      2.50000 \n",
                        " 28-MAR-2023      2.50000 \n",
                        " 28-SEP-2023      2.50000 \n",
                        " 28-MAR-2024      2.50000 \n",
                        " 28-SEP-2024    102.50000 \n",
                        "\n"
                    ]
                }
            ],
            "source": [
                "print(bond.bond_payments(settle_dt, 100))"
            ]
        },
        {
            "cell_type": "markdown",
            "metadata": {},
            "source": [
                "The convention is to use these dates for yield calculations even if some fall on weekends."
            ]
        },
        {
            "cell_type": "code",
            "execution_count": 8,
            "metadata": {
                "execution": {
                    "iopub.execute_input": "2024-04-30T19:50:43.463460Z",
                    "iopub.status.busy": "2024-04-30T19:50:43.463460Z",
                    "iopub.status.idle": "2024-04-30T19:50:43.466807Z",
                    "shell.execute_reply": "2024-04-30T19:50:43.466807Z"
                }
            },
            "outputs": [],
            "source": [
                "spot_dts = [Date(31, 7, 2020), Date(1, 1, 2027)]\n",
                "spot_rates = [0.01, 0.02]"
            ]
        },
        {
            "cell_type": "code",
            "execution_count": 9,
            "metadata": {
                "execution": {
                    "iopub.execute_input": "2024-04-30T19:50:43.469832Z",
                    "iopub.status.busy": "2024-04-30T19:50:43.469832Z",
                    "iopub.status.idle": "2024-04-30T19:50:43.474099Z",
                    "shell.execute_reply": "2024-04-30T19:50:43.473446Z"
                }
            },
            "outputs": [],
            "source": [
                "zero_curve = DiscountCurveZeros(value_dt, \n",
                "                                spot_dts, \n",
                "                                spot_rates, \n",
                "                                freq_type, \n",
                "                                day_count_type, \n",
                "                                InterpTypes.LINEAR_ZERO_RATES)"
            ]
        },
        {
            "cell_type": "markdown",
            "metadata": {},
            "source": [
                "Dirty price is the clean price plus accrued interest"
            ]
        },
        {
            "cell_type": "code",
            "execution_count": 10,
            "metadata": {
                "execution": {
                    "iopub.execute_input": "2024-04-30T19:50:43.476130Z",
                    "iopub.status.busy": "2024-04-30T19:50:43.476130Z",
                    "iopub.status.idle": "2024-04-30T19:50:43.479891Z",
                    "shell.execute_reply": "2024-04-30T19:50:43.479891Z"
                }
            },
            "outputs": [
                {
                    "name": "stdout",
                    "output_type": "stream",
                    "text": [
                        "Dirty Price =  113.7370016\n"
                    ]
                }
            ],
            "source": [
                "print(\"Dirty Price = %12.7f\" \n",
                "      % bond.dirty_price_from_discount_curve(settle_dt, zero_curve))"
            ]
        },
        {
            "cell_type": "code",
            "execution_count": 11,
            "metadata": {
                "execution": {
                    "iopub.execute_input": "2024-04-30T19:50:43.482919Z",
                    "iopub.status.busy": "2024-04-30T19:50:43.481922Z",
                    "iopub.status.idle": "2024-04-30T19:50:43.486058Z",
                    "shell.execute_reply": "2024-04-30T19:50:43.486058Z"
                }
            },
            "outputs": [
                {
                    "name": "stdout",
                    "output_type": "stream",
                    "text": [
                        "Clean Price =  111.7231127\n"
                    ]
                }
            ],
            "source": [
                "print(\"Clean Price = %12.7f\" \n",
                "      % bond.clean_price_from_discount_curve(settle_dt, zero_curve))"
            ]
        },
        {
            "cell_type": "markdown",
            "metadata": {},
            "source": [
                "Accrued interest is accrued from previous coupon date to settlement date"
            ]
        },
        {
            "cell_type": "code",
            "execution_count": 12,
            "metadata": {
                "execution": {
                    "iopub.execute_input": "2024-04-30T19:50:43.489086Z",
                    "iopub.status.busy": "2024-04-30T19:50:43.488091Z",
                    "iopub.status.idle": "2024-04-30T19:50:43.491780Z",
                    "shell.execute_reply": "2024-04-30T19:50:43.491780Z"
                }
            },
            "outputs": [
                {
                    "name": "stdout",
                    "output_type": "stream",
                    "text": [
                        "Previous coupon date is  28-MAR-2020\n"
                    ]
                }
            ],
            "source": [
                "print(\"Previous coupon date is \", bond._pcd)"
            ]
        },
        {
            "cell_type": "code",
            "execution_count": 13,
            "metadata": {
                "execution": {
                    "iopub.execute_input": "2024-04-30T19:50:43.494338Z",
                    "iopub.status.busy": "2024-04-30T19:50:43.494338Z",
                    "iopub.status.idle": "2024-04-30T19:50:43.498042Z",
                    "shell.execute_reply": "2024-04-30T19:50:43.497361Z"
                }
            },
            "outputs": [
                {
                    "name": "stdout",
                    "output_type": "stream",
                    "text": [
                        "Settlement date is  20-AUG-2020\n"
                    ]
                }
            ],
            "source": [
                "print(\"Settlement date is \", settle_dt)"
            ]
        },
        {
            "cell_type": "markdown",
            "metadata": {},
            "source": [
                "The amount of accrued interest is "
            ]
        },
        {
            "cell_type": "code",
            "execution_count": 14,
            "metadata": {
                "execution": {
                    "iopub.execute_input": "2024-04-30T19:50:43.500041Z",
                    "iopub.status.busy": "2024-04-30T19:50:43.500041Z",
                    "iopub.status.idle": "2024-04-30T19:50:43.502663Z",
                    "shell.execute_reply": "2024-04-30T19:50:43.502663Z"
                }
            },
            "outputs": [
                {
                    "name": "stdout",
                    "output_type": "stream",
                    "text": [
                        "Accrued =         2.01\n"
                    ]
                }
            ],
            "source": [
                "print(\"Accrued = %12.2f\" % bond.accrued_int)"
            ]
        },
        {
            "cell_type": "markdown",
            "metadata": {},
            "source": [
                "This is based on the following number of days of accrual"
            ]
        },
        {
            "cell_type": "code",
            "execution_count": 15,
            "metadata": {
                "execution": {
                    "iopub.execute_input": "2024-04-30T19:50:43.505210Z",
                    "iopub.status.busy": "2024-04-30T19:50:43.505210Z",
                    "iopub.status.idle": "2024-04-30T19:50:43.508346Z",
                    "shell.execute_reply": "2024-04-30T19:50:43.508346Z"
                }
            },
            "outputs": [
                {
                    "name": "stdout",
                    "output_type": "stream",
                    "text": [
                        "Accrued Days = 145\n"
                    ]
                }
            ],
            "source": [
                "print(\"Accrued Days = %d\" % bond.accrued_days)"
            ]
        },
        {
            "cell_type": "markdown",
            "metadata": {},
            "source": [
                "Copyright (c) 2020 Dominic O'Kane"
            ]
        }
    ],
    "metadata": {
        "interpreter": {
            "hash": "3c3c8dc9fd3bee1ab6ae956667954d61cc562603f3dc9655506a7eb1e203dbb6"
        },
        "kernelspec": {
            "display_name": "Python 3 (ipykernel)",
            "language": "python",
            "name": "python3"
        },
        "language_info": {
            "codemirror_mode": {
                "name": "ipython",
                "version": 3
            },
            "file_extension": ".py",
            "mimetype": "text/x-python",
            "name": "python",
            "nbconvert_exporter": "python",
            "pygments_lexer": "ipython3",
            "version": "3.11.5"
        }
    },
    "nbformat": 4,
    "nbformat_minor": 2
}
