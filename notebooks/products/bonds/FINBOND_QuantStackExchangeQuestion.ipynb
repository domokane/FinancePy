{
 "cells": [
  {
   "cell_type": "markdown",
   "metadata": {},
   "source": [
    "# FIXED COUPON BOND EXAMPLE TREASURY"
   ]
  },
  {
   "cell_type": "markdown",
   "metadata": {},
   "source": [
    "Question on StackExchange - THIS HAS NOT BEEN REPLICATED AS EXAMPLE LOOKS WRONG"
   ]
  },
  {
   "cell_type": "markdown",
   "metadata": {},
   "source": [
    "https://quant.stackexchange.com/questions/66508/schedule-yield-to-maturity-and-npv-of-fixed-rate-bond-from-quantlib-python"
   ]
  },
  {
   "cell_type": "code",
   "execution_count": 1,
   "metadata": {
    "execution": {
     "iopub.execute_input": "2025-09-14T22:20:24.930996Z",
     "iopub.status.busy": "2025-09-14T22:20:24.930774Z",
     "iopub.status.idle": "2025-09-14T22:20:25.151102Z",
     "shell.execute_reply": "2025-09-14T22:20:25.150476Z"
    }
   },
   "outputs": [],
   "source": [
    "import numpy as np\n",
    "import matplotlib.pyplot as plt"
   ]
  },
  {
   "cell_type": "code",
   "execution_count": 2,
   "metadata": {
    "execution": {
     "iopub.execute_input": "2025-09-14T22:20:25.153037Z",
     "iopub.status.busy": "2025-09-14T22:20:25.152791Z",
     "iopub.status.idle": "2025-09-14T22:20:25.826681Z",
     "shell.execute_reply": "2025-09-14T22:20:25.826309Z"
    }
   },
   "outputs": [],
   "source": [
    "from financepy.utils import *\n",
    "from financepy.products.bonds.bond import *\n",
    "from financepy.market.curves import *"
   ]
  },
  {
   "cell_type": "markdown",
   "metadata": {},
   "source": [
    "# Define the Bond"
   ]
  },
  {
   "cell_type": "code",
   "execution_count": 3,
   "metadata": {
    "execution": {
     "iopub.execute_input": "2025-09-14T22:20:25.828387Z",
     "iopub.status.busy": "2025-09-14T22:20:25.828170Z",
     "iopub.status.idle": "2025-09-14T22:20:25.842905Z",
     "shell.execute_reply": "2025-09-14T22:20:25.842400Z"
    }
   },
   "outputs": [],
   "source": [
    "issue_dt = Date(28, 9, 2019)\n",
    "maturity_dt = Date(28, 9, 2024)\n",
    "coupon = 0.05\n",
    "freq_type = FrequencyTypes.SEMI_ANNUAL\n",
    "day_count_type = DayCountTypes.ACT_360\n",
    "face = 100.0"
   ]
  },
  {
   "cell_type": "code",
   "execution_count": 4,
   "metadata": {
    "execution": {
     "iopub.execute_input": "2025-09-14T22:20:25.844191Z",
     "iopub.status.busy": "2025-09-14T22:20:25.844063Z",
     "iopub.status.idle": "2025-09-14T22:20:25.846663Z",
     "shell.execute_reply": "2025-09-14T22:20:25.846365Z"
    }
   },
   "outputs": [],
   "source": [
    "bond = Bond(issue_dt, maturity_dt, coupon, freq_type, day_count_type)"
   ]
  },
  {
   "cell_type": "markdown",
   "metadata": {},
   "source": [
    "You can get information about the bond using the print method."
   ]
  },
  {
   "cell_type": "code",
   "execution_count": 5,
   "metadata": {
    "execution": {
     "iopub.execute_input": "2025-09-14T22:20:25.847789Z",
     "iopub.status.busy": "2025-09-14T22:20:25.847674Z",
     "iopub.status.idle": "2025-09-14T22:20:25.850912Z",
     "shell.execute_reply": "2025-09-14T22:20:25.850618Z"
    }
   },
   "outputs": [
    {
     "name": "stdout",
     "output_type": "stream",
     "text": [
      "OBJECT TYPE: Bond\n",
      "ISSUE DATE: 28-SEP-2019\n",
      "MATURITY DATE: 28-SEP-2024\n",
      "COUPON (%): 5.0\n",
      "FREQUENCY: FrequencyTypes.SEMI_ANNUAL\n",
      "DAY COUNT TYPE: DayCountTypes.ACT_360\n",
      "EX_DIV DAYS: 0\n"
     ]
    }
   ],
   "source": [
    "print(bond)"
   ]
  },
  {
   "cell_type": "markdown",
   "metadata": {},
   "source": [
    "## Bond Cash Flows"
   ]
  },
  {
   "cell_type": "markdown",
   "metadata": {},
   "source": [
    "We first need to set the settlement date of the bond. "
   ]
  },
  {
   "cell_type": "code",
   "execution_count": 6,
   "metadata": {
    "execution": {
     "iopub.execute_input": "2025-09-14T22:20:25.852027Z",
     "iopub.status.busy": "2025-09-14T22:20:25.851913Z",
     "iopub.status.idle": "2025-09-14T22:20:25.858993Z",
     "shell.execute_reply": "2025-09-14T22:20:25.858674Z"
    }
   },
   "outputs": [
    {
     "name": "stdout",
     "output_type": "stream",
     "text": [
      "20-AUG-2020\n"
     ]
    }
   ],
   "source": [
    "value_dt = Date(31, 7, 2020)\n",
    "settle_dt = value_dt.add_days(20)\n",
    "print(settle_dt)"
   ]
  },
  {
   "cell_type": "code",
   "execution_count": 7,
   "metadata": {
    "execution": {
     "iopub.execute_input": "2025-09-14T22:20:25.860942Z",
     "iopub.status.busy": "2025-09-14T22:20:25.860824Z",
     "iopub.status.idle": "2025-09-14T22:20:25.862859Z",
     "shell.execute_reply": "2025-09-14T22:20:25.862597Z"
    }
   },
   "outputs": [
    {
     "name": "stdout",
     "output_type": "stream",
     "text": [
      " 28-SEP-2020      2.50000 \n",
      " 28-MAR-2021      2.50000 \n",
      " 28-SEP-2021      2.50000 \n",
      " 28-MAR-2022      2.50000 \n",
      " 28-SEP-2022      2.50000 \n",
      " 28-MAR-2023      2.50000 \n",
      " 28-SEP-2023      2.50000 \n",
      " 28-MAR-2024      2.50000 \n",
      " 28-SEP-2024    102.50000 \n",
      "\n",
      "None\n"
     ]
    }
   ],
   "source": [
    "print(bond.print_payments(settle_dt, 100))"
   ]
  },
  {
   "cell_type": "markdown",
   "metadata": {},
   "source": [
    "The convention is to use these dates for yield calculations even if some fall on weekends."
   ]
  },
  {
   "cell_type": "code",
   "execution_count": 8,
   "metadata": {
    "execution": {
     "iopub.execute_input": "2025-09-14T22:20:25.863721Z",
     "iopub.status.busy": "2025-09-14T22:20:25.863610Z",
     "iopub.status.idle": "2025-09-14T22:20:25.865876Z",
     "shell.execute_reply": "2025-09-14T22:20:25.865600Z"
    }
   },
   "outputs": [],
   "source": [
    "spot_dts = [Date(31, 7, 2020), Date(1, 1, 2027)]\n",
    "spot_rates = [0.01, 0.02]"
   ]
  },
  {
   "cell_type": "code",
   "execution_count": 9,
   "metadata": {
    "execution": {
     "iopub.execute_input": "2025-09-14T22:20:25.866800Z",
     "iopub.status.busy": "2025-09-14T22:20:25.866689Z",
     "iopub.status.idle": "2025-09-14T22:20:25.868861Z",
     "shell.execute_reply": "2025-09-14T22:20:25.868615Z"
    }
   },
   "outputs": [],
   "source": [
    "zero_curve = DiscountCurveZeros(value_dt,\n",
    "                                spot_dts,\n",
    "                                spot_rates,\n",
    "                                freq_type,\n",
    "                                day_count_type,\n",
    "                                InterpTypes.LINEAR_ZERO_RATES)"
   ]
  },
  {
   "cell_type": "markdown",
   "metadata": {},
   "source": [
    "Dirty price is the clean price plus accrued interest"
   ]
  },
  {
   "cell_type": "code",
   "execution_count": 10,
   "metadata": {
    "execution": {
     "iopub.execute_input": "2025-09-14T22:20:25.870233Z",
     "iopub.status.busy": "2025-09-14T22:20:25.869956Z",
     "iopub.status.idle": "2025-09-14T22:20:25.872577Z",
     "shell.execute_reply": "2025-09-14T22:20:25.872252Z"
    }
   },
   "outputs": [
    {
     "name": "stdout",
     "output_type": "stream",
     "text": [
      "Dirty Price =  113.7370016\n"
     ]
    }
   ],
   "source": [
    "print(\"Dirty Price = %12.7f\"\n",
    "      % bond.dirty_price_from_discount_curve(settle_dt, zero_curve))"
   ]
  },
  {
   "cell_type": "code",
   "execution_count": 11,
   "metadata": {
    "execution": {
     "iopub.execute_input": "2025-09-14T22:20:25.873587Z",
     "iopub.status.busy": "2025-09-14T22:20:25.873476Z",
     "iopub.status.idle": "2025-09-14T22:20:25.875660Z",
     "shell.execute_reply": "2025-09-14T22:20:25.875334Z"
    }
   },
   "outputs": [
    {
     "name": "stdout",
     "output_type": "stream",
     "text": [
      "Clean Price =  111.7231127\n"
     ]
    }
   ],
   "source": [
    "print(\"Clean Price = %12.7f\"\n",
    "      % bond.clean_price_from_discount_curve(settle_dt, zero_curve))"
   ]
  },
  {
   "cell_type": "markdown",
   "metadata": {},
   "source": [
    "Accrued interest is accrued from previous coupon date to settlement date"
   ]
  },
  {
   "cell_type": "code",
   "execution_count": 12,
   "metadata": {
    "execution": {
     "iopub.execute_input": "2025-09-14T22:20:25.876520Z",
     "iopub.status.busy": "2025-09-14T22:20:25.876410Z",
     "iopub.status.idle": "2025-09-14T22:20:25.878430Z",
     "shell.execute_reply": "2025-09-14T22:20:25.878166Z"
    }
   },
   "outputs": [
    {
     "name": "stdout",
     "output_type": "stream",
     "text": [
      "Previous coupon date is  28-MAR-2020\n"
     ]
    }
   ],
   "source": [
    "print(\"Previous coupon date is \", bond._pcd)"
   ]
  },
  {
   "cell_type": "code",
   "execution_count": 13,
   "metadata": {
    "execution": {
     "iopub.execute_input": "2025-09-14T22:20:25.879374Z",
     "iopub.status.busy": "2025-09-14T22:20:25.879257Z",
     "iopub.status.idle": "2025-09-14T22:20:25.881747Z",
     "shell.execute_reply": "2025-09-14T22:20:25.881528Z"
    }
   },
   "outputs": [
    {
     "name": "stdout",
     "output_type": "stream",
     "text": [
      "Settlement date is  20-AUG-2020\n"
     ]
    }
   ],
   "source": [
    "print(\"Settlement date is \", settle_dt)"
   ]
  },
  {
   "cell_type": "markdown",
   "metadata": {},
   "source": [
    "The amount of accrued interest is "
   ]
  },
  {
   "cell_type": "code",
   "execution_count": 14,
   "metadata": {
    "execution": {
     "iopub.execute_input": "2025-09-14T22:20:25.882586Z",
     "iopub.status.busy": "2025-09-14T22:20:25.882472Z",
     "iopub.status.idle": "2025-09-14T22:20:25.884768Z",
     "shell.execute_reply": "2025-09-14T22:20:25.884474Z"
    }
   },
   "outputs": [
    {
     "name": "stdout",
     "output_type": "stream",
     "text": [
      "Accrued =         2.01\n"
     ]
    }
   ],
   "source": [
    "print(\"Accrued = %12.2f\" % bond.accrued_int)"
   ]
  },
  {
   "cell_type": "markdown",
   "metadata": {},
   "source": [
    "This is based on the following number of days of accrual"
   ]
  },
  {
   "cell_type": "code",
   "execution_count": 15,
   "metadata": {
    "execution": {
     "iopub.execute_input": "2025-09-14T22:20:25.885588Z",
     "iopub.status.busy": "2025-09-14T22:20:25.885482Z",
     "iopub.status.idle": "2025-09-14T22:20:25.887713Z",
     "shell.execute_reply": "2025-09-14T22:20:25.887507Z"
    }
   },
   "outputs": [
    {
     "name": "stdout",
     "output_type": "stream",
     "text": [
      "Accrued Days = 145\n"
     ]
    }
   ],
   "source": [
    "print(\"Accrued Days = %d\" % bond.accrued_days)"
   ]
  },
  {
   "cell_type": "markdown",
   "metadata": {},
   "source": [
    "Copyright (c) 2020 Dominic O'Kane"
   ]
  }
 ],
 "metadata": {
  "kernelspec": {
   "display_name": "base",
   "language": "python",
   "name": "python3"
  },
  "language_info": {
   "codemirror_mode": {
    "name": "ipython",
    "version": 3
   },
   "file_extension": ".py",
   "mimetype": "text/x-python",
   "name": "python",
   "nbconvert_exporter": "python",
   "pygments_lexer": "ipython3",
   "version": "3.13.7"
  }
 },
 "nbformat": 4,
 "nbformat_minor": 2
}
