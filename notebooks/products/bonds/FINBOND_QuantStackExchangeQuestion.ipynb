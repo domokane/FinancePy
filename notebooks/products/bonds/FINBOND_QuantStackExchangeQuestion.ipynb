{
 "cells": [
  {
   "cell_type": "markdown",
   "metadata": {},
   "source": [
    "# FIXED COUPON BOND EXAMPLE TREASURY"
   ]
  },
  {
   "cell_type": "markdown",
   "metadata": {},
   "source": [
    "Question on StackExchange - THIS HAS NOT BEEN REPLICATED AS EXAMPLE LOOKS WRONG"
   ]
  },
  {
   "cell_type": "markdown",
   "metadata": {},
   "source": [
    "https://quant.stackexchange.com/questions/66508/schedule-yield-to-maturity-and-npv-of-fixed-rate-bond-from-quantlib-python"
   ]
  },
  {
   "cell_type": "code",
   "execution_count": 1,
   "metadata": {
    "execution": {
     "iopub.execute_input": "2025-08-27T22:28:57.444317Z",
     "iopub.status.busy": "2025-08-27T22:28:57.444020Z",
     "iopub.status.idle": "2025-08-27T22:28:57.920356Z",
     "shell.execute_reply": "2025-08-27T22:28:57.919895Z"
    }
   },
   "outputs": [],
   "source": [
    "import numpy as np\n",
    "import matplotlib.pyplot as plt"
   ]
  },
  {
   "cell_type": "code",
   "execution_count": 2,
   "metadata": {
    "execution": {
     "iopub.execute_input": "2025-08-27T22:28:57.922663Z",
     "iopub.status.busy": "2025-08-27T22:28:57.922357Z",
     "iopub.status.idle": "2025-08-27T22:28:58.906755Z",
     "shell.execute_reply": "2025-08-27T22:28:58.906344Z"
    }
   },
   "outputs": [],
   "source": [
    "from financepy.utils import *\n",
    "from financepy.products.bonds.bond import *\n",
    "from financepy.market.curves import *"
   ]
  },
  {
   "cell_type": "markdown",
   "metadata": {},
   "source": [
    "# Define the Bond"
   ]
  },
  {
   "cell_type": "code",
   "execution_count": 3,
   "metadata": {
    "execution": {
     "iopub.execute_input": "2025-08-27T22:28:58.909001Z",
     "iopub.status.busy": "2025-08-27T22:28:58.908672Z",
     "iopub.status.idle": "2025-08-27T22:28:58.924547Z",
     "shell.execute_reply": "2025-08-27T22:28:58.924197Z"
    }
   },
   "outputs": [],
   "source": [
    "issue_dt = Date(28, 9, 2019)\n",
    "maturity_dt = Date(28, 9, 2024)\n",
    "coupon = 0.05\n",
    "freq_type = FrequencyTypes.SEMI_ANNUAL\n",
    "day_count_type = DayCountTypes.ACT_360\n",
    "face = 100.0"
   ]
  },
  {
   "cell_type": "code",
   "execution_count": 4,
   "metadata": {
    "execution": {
     "iopub.execute_input": "2025-08-27T22:28:58.927122Z",
     "iopub.status.busy": "2025-08-27T22:28:58.926889Z",
     "iopub.status.idle": "2025-08-27T22:28:58.929759Z",
     "shell.execute_reply": "2025-08-27T22:28:58.929368Z"
    }
   },
   "outputs": [],
   "source": [
    "bond = Bond(issue_dt, maturity_dt, coupon, freq_type, day_count_type)"
   ]
  },
  {
   "cell_type": "markdown",
   "metadata": {},
   "source": [
    "You can get information about the bond using the print method."
   ]
  },
  {
   "cell_type": "code",
   "execution_count": 5,
   "metadata": {
    "execution": {
     "iopub.execute_input": "2025-08-27T22:28:58.931485Z",
     "iopub.status.busy": "2025-08-27T22:28:58.931188Z",
     "iopub.status.idle": "2025-08-27T22:28:58.934701Z",
     "shell.execute_reply": "2025-08-27T22:28:58.934337Z"
    }
   },
   "outputs": [
    {
     "name": "stdout",
     "output_type": "stream",
     "text": [
      "OBJECT TYPE: Bond\n",
      "ISSUE DATE: 28-SEP-2019\n",
      "MATURITY DATE: 28-SEP-2024\n",
      "COUPON (%): 5.0\n",
      "FREQUENCY: FrequencyTypes.SEMI_ANNUAL\n",
      "DAY COUNT TYPE: DayCountTypes.ACT_360\n",
      "EX_DIV DAYS: 0\n"
     ]
    }
   ],
   "source": [
    "print(bond)"
   ]
  },
  {
   "cell_type": "markdown",
   "metadata": {},
   "source": [
    "## Bond Cash Flows"
   ]
  },
  {
   "cell_type": "markdown",
   "metadata": {},
   "source": [
    "We first need to set the settlement date of the bond. "
   ]
  },
  {
   "cell_type": "code",
   "execution_count": 6,
   "metadata": {
    "execution": {
     "iopub.execute_input": "2025-08-27T22:28:58.936502Z",
     "iopub.status.busy": "2025-08-27T22:28:58.936242Z",
     "iopub.status.idle": "2025-08-27T22:28:58.943412Z",
     "shell.execute_reply": "2025-08-27T22:28:58.943023Z"
    }
   },
   "outputs": [
    {
     "name": "stdout",
     "output_type": "stream",
     "text": [
      "20-AUG-2020\n"
     ]
    }
   ],
   "source": [
    "value_dt = Date(31, 7, 2020)\n",
    "settle_dt = value_dt.add_days(20)\n",
    "print(settle_dt)"
   ]
  },
  {
   "cell_type": "code",
   "execution_count": 7,
   "metadata": {
    "execution": {
     "iopub.execute_input": "2025-08-27T22:28:58.945066Z",
     "iopub.status.busy": "2025-08-27T22:28:58.944863Z",
     "iopub.status.idle": "2025-08-27T22:28:58.947537Z",
     "shell.execute_reply": "2025-08-27T22:28:58.947170Z"
    }
   },
   "outputs": [
    {
     "name": "stdout",
     "output_type": "stream",
     "text": [
      " 28-SEP-2020      2.50000 \n",
      " 28-MAR-2021      2.50000 \n",
      " 28-SEP-2021      2.50000 \n",
      " 28-MAR-2022      2.50000 \n",
      " 28-SEP-2022      2.50000 \n",
      " 28-MAR-2023      2.50000 \n",
      " 28-SEP-2023      2.50000 \n",
      " 28-MAR-2024      2.50000 \n",
      " 28-SEP-2024    102.50000 \n",
      "\n",
      "None\n"
     ]
    }
   ],
   "source": [
    "print(bond.print_payments(settle_dt, 100))"
   ]
  },
  {
   "cell_type": "markdown",
   "metadata": {},
   "source": [
    "The convention is to use these dates for yield calculations even if some fall on weekends."
   ]
  },
  {
   "cell_type": "code",
   "execution_count": 8,
   "metadata": {
    "execution": {
     "iopub.execute_input": "2025-08-27T22:28:58.949214Z",
     "iopub.status.busy": "2025-08-27T22:28:58.948910Z",
     "iopub.status.idle": "2025-08-27T22:28:58.951197Z",
     "shell.execute_reply": "2025-08-27T22:28:58.950862Z"
    }
   },
   "outputs": [],
   "source": [
    "spot_dts = [Date(31, 7, 2020), Date(1, 1, 2027)]\n",
    "spot_rates = [0.01, 0.02]"
   ]
  },
  {
   "cell_type": "code",
   "execution_count": 9,
   "metadata": {
    "execution": {
     "iopub.execute_input": "2025-08-27T22:28:58.952892Z",
     "iopub.status.busy": "2025-08-27T22:28:58.952709Z",
     "iopub.status.idle": "2025-08-27T22:28:58.956110Z",
     "shell.execute_reply": "2025-08-27T22:28:58.955775Z"
    }
   },
   "outputs": [],
   "source": [
    "zero_curve = DiscountCurveZeros(value_dt,\n",
    "                                spot_dts,\n",
    "                                spot_rates,\n",
    "                                freq_type,\n",
    "                                day_count_type,\n",
    "                                InterpTypes.LINEAR_ZERO_RATES)"
   ]
  },
  {
   "cell_type": "markdown",
   "metadata": {},
   "source": [
    "Dirty price is the clean price plus accrued interest"
   ]
  },
  {
   "cell_type": "code",
   "execution_count": 10,
   "metadata": {
    "execution": {
     "iopub.execute_input": "2025-08-27T22:28:58.958058Z",
     "iopub.status.busy": "2025-08-27T22:28:58.957745Z",
     "iopub.status.idle": "2025-08-27T22:28:58.960645Z",
     "shell.execute_reply": "2025-08-27T22:28:58.960217Z"
    }
   },
   "outputs": [
    {
     "name": "stdout",
     "output_type": "stream",
     "text": [
      "Dirty Price =  113.7370016\n"
     ]
    }
   ],
   "source": [
    "print(\"Dirty Price = %12.7f\"\n",
    "      % bond.dirty_price_from_discount_curve(settle_dt, zero_curve))"
   ]
  },
  {
   "cell_type": "code",
   "execution_count": 11,
   "metadata": {
    "execution": {
     "iopub.execute_input": "2025-08-27T22:28:58.962236Z",
     "iopub.status.busy": "2025-08-27T22:28:58.961944Z",
     "iopub.status.idle": "2025-08-27T22:28:58.964608Z",
     "shell.execute_reply": "2025-08-27T22:28:58.964188Z"
    }
   },
   "outputs": [
    {
     "name": "stdout",
     "output_type": "stream",
     "text": [
      "Clean Price =  111.7231127\n"
     ]
    }
   ],
   "source": [
    "print(\"Clean Price = %12.7f\"\n",
    "      % bond.clean_price_from_discount_curve(settle_dt, zero_curve))"
   ]
  },
  {
   "cell_type": "markdown",
   "metadata": {},
   "source": [
    "Accrued interest is accrued from previous coupon date to settlement date"
   ]
  },
  {
   "cell_type": "code",
   "execution_count": 12,
   "metadata": {
    "execution": {
     "iopub.execute_input": "2025-08-27T22:28:58.966466Z",
     "iopub.status.busy": "2025-08-27T22:28:58.966156Z",
     "iopub.status.idle": "2025-08-27T22:28:58.969315Z",
     "shell.execute_reply": "2025-08-27T22:28:58.968936Z"
    }
   },
   "outputs": [
    {
     "name": "stdout",
     "output_type": "stream",
     "text": [
      "Previous coupon date is  28-MAR-2020\n"
     ]
    }
   ],
   "source": [
    "print(\"Previous coupon date is \", bond._pcd)"
   ]
  },
  {
   "cell_type": "code",
   "execution_count": 13,
   "metadata": {
    "execution": {
     "iopub.execute_input": "2025-08-27T22:28:58.971067Z",
     "iopub.status.busy": "2025-08-27T22:28:58.970885Z",
     "iopub.status.idle": "2025-08-27T22:28:58.973334Z",
     "shell.execute_reply": "2025-08-27T22:28:58.972949Z"
    }
   },
   "outputs": [
    {
     "name": "stdout",
     "output_type": "stream",
     "text": [
      "Settlement date is  20-AUG-2020\n"
     ]
    }
   ],
   "source": [
    "print(\"Settlement date is \", settle_dt)"
   ]
  },
  {
   "cell_type": "markdown",
   "metadata": {},
   "source": [
    "The amount of accrued interest is "
   ]
  },
  {
   "cell_type": "code",
   "execution_count": 14,
   "metadata": {
    "execution": {
     "iopub.execute_input": "2025-08-27T22:28:58.974750Z",
     "iopub.status.busy": "2025-08-27T22:28:58.974567Z",
     "iopub.status.idle": "2025-08-27T22:28:58.977359Z",
     "shell.execute_reply": "2025-08-27T22:28:58.976986Z"
    }
   },
   "outputs": [
    {
     "name": "stdout",
     "output_type": "stream",
     "text": [
      "Accrued =         2.01\n"
     ]
    }
   ],
   "source": [
    "print(\"Accrued = %12.2f\" % bond.accrued_int)"
   ]
  },
  {
   "cell_type": "markdown",
   "metadata": {},
   "source": [
    "This is based on the following number of days of accrual"
   ]
  },
  {
   "cell_type": "code",
   "execution_count": 15,
   "metadata": {
    "execution": {
     "iopub.execute_input": "2025-08-27T22:28:58.979130Z",
     "iopub.status.busy": "2025-08-27T22:28:58.978823Z",
     "iopub.status.idle": "2025-08-27T22:28:58.981531Z",
     "shell.execute_reply": "2025-08-27T22:28:58.981174Z"
    }
   },
   "outputs": [
    {
     "name": "stdout",
     "output_type": "stream",
     "text": [
      "Accrued Days = 145\n"
     ]
    }
   ],
   "source": [
    "print(\"Accrued Days = %d\" % bond.accrued_days)"
   ]
  },
  {
   "cell_type": "markdown",
   "metadata": {},
   "source": [
    "Copyright (c) 2020 Dominic O'Kane"
   ]
  }
 ],
 "metadata": {
  "kernelspec": {
   "display_name": "base",
   "language": "python",
   "name": "python3"
  },
  "language_info": {
   "codemirror_mode": {
    "name": "ipython",
    "version": 3
   },
   "file_extension": ".py",
   "mimetype": "text/x-python",
   "name": "python",
   "nbconvert_exporter": "python",
   "pygments_lexer": "ipython3",
   "version": "3.13.5"
  }
 },
 "nbformat": 4,
 "nbformat_minor": 2
}
