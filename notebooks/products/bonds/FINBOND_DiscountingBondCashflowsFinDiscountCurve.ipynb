{
 "cells": [
  {
   "cell_type": "markdown",
   "metadata": {},
   "source": [
    "# Discount Bond Cashflows"
   ]
  },
  {
   "cell_type": "markdown",
   "metadata": {},
   "source": [
    "https://quant.stackexchange.com/questions/58168/dirtyprice-and-discounting-curve-on-quantlib"
   ]
  },
  {
   "cell_type": "code",
   "execution_count": 1,
   "metadata": {
    "execution": {
     "iopub.execute_input": "2025-08-27T22:28:43.657005Z",
     "iopub.status.busy": "2025-08-27T22:28:43.656703Z",
     "iopub.status.idle": "2025-08-27T22:28:44.127954Z",
     "shell.execute_reply": "2025-08-27T22:28:44.127567Z"
    }
   },
   "outputs": [],
   "source": [
    "import numpy as np\n",
    "import matplotlib.pyplot as plt"
   ]
  },
  {
   "cell_type": "code",
   "execution_count": 2,
   "metadata": {
    "execution": {
     "iopub.execute_input": "2025-08-27T22:28:44.130251Z",
     "iopub.status.busy": "2025-08-27T22:28:44.129927Z",
     "iopub.status.idle": "2025-08-27T22:28:45.184641Z",
     "shell.execute_reply": "2025-08-27T22:28:45.184137Z"
    },
    "tags": []
   },
   "outputs": [],
   "source": [
    "from financepy.utils import *\n",
    "from financepy.products.bonds import *\n",
    "from financepy.market.curves import *"
   ]
  },
  {
   "cell_type": "markdown",
   "metadata": {},
   "source": [
    "## Create a Bond"
   ]
  },
  {
   "cell_type": "markdown",
   "metadata": {},
   "source": [
    "I first create my bond."
   ]
  },
  {
   "cell_type": "code",
   "execution_count": 3,
   "metadata": {
    "execution": {
     "iopub.execute_input": "2025-08-27T22:28:45.186878Z",
     "iopub.status.busy": "2025-08-27T22:28:45.186496Z",
     "iopub.status.idle": "2025-08-27T22:28:45.204843Z",
     "shell.execute_reply": "2025-08-27T22:28:45.204282Z"
    }
   },
   "outputs": [],
   "source": [
    "issue_dt = Date(15, 12, 2019)\n",
    "maturity_dt = Date(15, 12, 2029)\n",
    "freq_type = FrequencyTypes.SEMI_ANNUAL\n",
    "dc_type = DayCountTypes.THIRTY_360_BOND\n",
    "cpn = 0.05"
   ]
  },
  {
   "cell_type": "markdown",
   "metadata": {},
   "source": [
    "The bond is constructed as follows"
   ]
  },
  {
   "cell_type": "code",
   "execution_count": 4,
   "metadata": {
    "execution": {
     "iopub.execute_input": "2025-08-27T22:28:45.207081Z",
     "iopub.status.busy": "2025-08-27T22:28:45.206828Z",
     "iopub.status.idle": "2025-08-27T22:28:45.210099Z",
     "shell.execute_reply": "2025-08-27T22:28:45.209687Z"
    }
   },
   "outputs": [],
   "source": [
    "bond = Bond(issue_dt, maturity_dt, cpn, freq_type, dc_type)"
   ]
  },
  {
   "cell_type": "markdown",
   "metadata": {},
   "source": [
    "I then set the settlement date"
   ]
  },
  {
   "cell_type": "code",
   "execution_count": 5,
   "metadata": {
    "execution": {
     "iopub.execute_input": "2025-08-27T22:28:45.211798Z",
     "iopub.status.busy": "2025-08-27T22:28:45.211582Z",
     "iopub.status.idle": "2025-08-27T22:28:45.214175Z",
     "shell.execute_reply": "2025-08-27T22:28:45.213677Z"
    }
   },
   "outputs": [],
   "source": [
    "settle_dt = Date(24, 9, 2020)"
   ]
  },
  {
   "cell_type": "code",
   "execution_count": 6,
   "metadata": {
    "execution": {
     "iopub.execute_input": "2025-08-27T22:28:45.215914Z",
     "iopub.status.busy": "2025-08-27T22:28:45.215559Z",
     "iopub.status.idle": "2025-08-27T22:28:45.220903Z",
     "shell.execute_reply": "2025-08-27T22:28:45.220584Z"
    },
    "tags": []
   },
   "outputs": [
    {
     "data": {
      "text/plain": [
       "np.float64(101.36735766617082)"
      ]
     },
     "execution_count": 6,
     "metadata": {},
     "output_type": "execute_result"
    }
   ],
   "source": [
    "bond.dirty_price_from_ytm(settle_dt, 0.050)"
   ]
  },
  {
   "cell_type": "markdown",
   "metadata": {},
   "source": [
    "I can also discount this using a full (flat) term structure curve."
   ]
  },
  {
   "cell_type": "code",
   "execution_count": 7,
   "metadata": {
    "execution": {
     "iopub.execute_input": "2025-08-27T22:28:45.222665Z",
     "iopub.status.busy": "2025-08-27T22:28:45.222355Z",
     "iopub.status.idle": "2025-08-27T22:28:45.229949Z",
     "shell.execute_reply": "2025-08-27T22:28:45.229296Z"
    },
    "tags": []
   },
   "outputs": [],
   "source": [
    "flat_curve = DiscountCurveFlat(settle_dt, 0.05, freq_type, dc_type)"
   ]
  },
  {
   "cell_type": "code",
   "execution_count": 8,
   "metadata": {
    "execution": {
     "iopub.execute_input": "2025-08-27T22:28:45.231887Z",
     "iopub.status.busy": "2025-08-27T22:28:45.231542Z",
     "iopub.status.idle": "2025-08-27T22:28:45.235054Z",
     "shell.execute_reply": "2025-08-27T22:28:45.234645Z"
    }
   },
   "outputs": [
    {
     "data": {
      "text/plain": [
       "np.float64(101.36735767521239)"
      ]
     },
     "execution_count": 8,
     "metadata": {},
     "output_type": "execute_result"
    }
   ],
   "source": [
    "bond.dirty_price_from_discount_curve(settle_dt, flat_curve)"
   ]
  },
  {
   "cell_type": "markdown",
   "metadata": {},
   "source": [
    "The price is the same as the term structure is flat, which is equivalent to the assumptions of a yield to maturity."
   ]
  },
  {
   "cell_type": "markdown",
   "metadata": {},
   "source": [
    "Copyright (c) 2020 Dominic O'Kane"
   ]
  }
 ],
 "metadata": {
  "kernelspec": {
   "display_name": "base",
   "language": "python",
   "name": "python3"
  },
  "language_info": {
   "codemirror_mode": {
    "name": "ipython",
    "version": 3
   },
   "file_extension": ".py",
   "mimetype": "text/x-python",
   "name": "python",
   "nbconvert_exporter": "python",
   "pygments_lexer": "ipython3",
   "version": "3.13.5"
  }
 },
 "nbformat": 4,
 "nbformat_minor": 4
}
