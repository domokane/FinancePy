{
 "cells": [
  {
   "cell_type": "markdown",
   "metadata": {},
   "source": [
    "# Discount Bond Cashflows"
   ]
  },
  {
   "cell_type": "markdown",
   "metadata": {},
   "source": [
    "https://quant.stackexchange.com/questions/58168/dirtyprice-and-discounting-curve-on-quantlib"
   ]
  },
  {
   "cell_type": "code",
   "execution_count": 1,
   "metadata": {
    "execution": {
     "iopub.execute_input": "2025-09-14T22:20:15.923408Z",
     "iopub.status.busy": "2025-09-14T22:20:15.923118Z",
     "iopub.status.idle": "2025-09-14T22:20:16.145584Z",
     "shell.execute_reply": "2025-09-14T22:20:16.145194Z"
    }
   },
   "outputs": [],
   "source": [
    "import numpy as np\n",
    "import matplotlib.pyplot as plt"
   ]
  },
  {
   "cell_type": "code",
   "execution_count": 2,
   "metadata": {
    "execution": {
     "iopub.execute_input": "2025-09-14T22:20:16.147737Z",
     "iopub.status.busy": "2025-09-14T22:20:16.147255Z",
     "iopub.status.idle": "2025-09-14T22:20:16.822690Z",
     "shell.execute_reply": "2025-09-14T22:20:16.822030Z"
    },
    "tags": []
   },
   "outputs": [],
   "source": [
    "from financepy.utils import *\n",
    "from financepy.products.bonds import *\n",
    "from financepy.market.curves import *"
   ]
  },
  {
   "cell_type": "markdown",
   "metadata": {},
   "source": [
    "## Create a Bond"
   ]
  },
  {
   "cell_type": "markdown",
   "metadata": {},
   "source": [
    "I first create my bond."
   ]
  },
  {
   "cell_type": "code",
   "execution_count": 3,
   "metadata": {
    "execution": {
     "iopub.execute_input": "2025-09-14T22:20:16.824368Z",
     "iopub.status.busy": "2025-09-14T22:20:16.824164Z",
     "iopub.status.idle": "2025-09-14T22:20:16.838811Z",
     "shell.execute_reply": "2025-09-14T22:20:16.838121Z"
    }
   },
   "outputs": [],
   "source": [
    "issue_dt = Date(15, 12, 2019)\n",
    "maturity_dt = Date(15, 12, 2029)\n",
    "freq_type = FrequencyTypes.SEMI_ANNUAL\n",
    "dc_type = DayCountTypes.THIRTY_360_BOND\n",
    "cpn = 0.05"
   ]
  },
  {
   "cell_type": "markdown",
   "metadata": {},
   "source": [
    "The bond is constructed as follows"
   ]
  },
  {
   "cell_type": "code",
   "execution_count": 4,
   "metadata": {
    "execution": {
     "iopub.execute_input": "2025-09-14T22:20:16.840539Z",
     "iopub.status.busy": "2025-09-14T22:20:16.840400Z",
     "iopub.status.idle": "2025-09-14T22:20:16.842779Z",
     "shell.execute_reply": "2025-09-14T22:20:16.842553Z"
    }
   },
   "outputs": [],
   "source": [
    "bond = Bond(issue_dt, maturity_dt, cpn, freq_type, dc_type)"
   ]
  },
  {
   "cell_type": "markdown",
   "metadata": {},
   "source": [
    "I then set the settlement date"
   ]
  },
  {
   "cell_type": "code",
   "execution_count": 5,
   "metadata": {
    "execution": {
     "iopub.execute_input": "2025-09-14T22:20:16.843771Z",
     "iopub.status.busy": "2025-09-14T22:20:16.843668Z",
     "iopub.status.idle": "2025-09-14T22:20:16.845816Z",
     "shell.execute_reply": "2025-09-14T22:20:16.845552Z"
    }
   },
   "outputs": [],
   "source": [
    "settle_dt = Date(24, 9, 2020)"
   ]
  },
  {
   "cell_type": "code",
   "execution_count": 6,
   "metadata": {
    "execution": {
     "iopub.execute_input": "2025-09-14T22:20:16.846757Z",
     "iopub.status.busy": "2025-09-14T22:20:16.846643Z",
     "iopub.status.idle": "2025-09-14T22:20:16.850157Z",
     "shell.execute_reply": "2025-09-14T22:20:16.849902Z"
    },
    "tags": []
   },
   "outputs": [
    {
     "data": {
      "text/plain": [
       "np.float64(101.36735766617082)"
      ]
     },
     "execution_count": 6,
     "metadata": {},
     "output_type": "execute_result"
    }
   ],
   "source": [
    "bond.dirty_price_from_ytm(settle_dt, 0.050)"
   ]
  },
  {
   "cell_type": "markdown",
   "metadata": {},
   "source": [
    "I can also discount this using a full (flat) term structure curve."
   ]
  },
  {
   "cell_type": "code",
   "execution_count": 7,
   "metadata": {
    "execution": {
     "iopub.execute_input": "2025-09-14T22:20:16.851108Z",
     "iopub.status.busy": "2025-09-14T22:20:16.851003Z",
     "iopub.status.idle": "2025-09-14T22:20:16.858046Z",
     "shell.execute_reply": "2025-09-14T22:20:16.857736Z"
    },
    "tags": []
   },
   "outputs": [],
   "source": [
    "flat_curve = DiscountCurveFlat(settle_dt, 0.05, freq_type, dc_type)"
   ]
  },
  {
   "cell_type": "code",
   "execution_count": 8,
   "metadata": {
    "execution": {
     "iopub.execute_input": "2025-09-14T22:20:16.859138Z",
     "iopub.status.busy": "2025-09-14T22:20:16.859023Z",
     "iopub.status.idle": "2025-09-14T22:20:16.862030Z",
     "shell.execute_reply": "2025-09-14T22:20:16.861742Z"
    }
   },
   "outputs": [
    {
     "data": {
      "text/plain": [
       "np.float64(101.36735767521239)"
      ]
     },
     "execution_count": 8,
     "metadata": {},
     "output_type": "execute_result"
    }
   ],
   "source": [
    "bond.dirty_price_from_discount_curve(settle_dt, flat_curve)"
   ]
  },
  {
   "cell_type": "markdown",
   "metadata": {},
   "source": [
    "The price is the same as the term structure is flat, which is equivalent to the assumptions of a yield to maturity."
   ]
  },
  {
   "cell_type": "markdown",
   "metadata": {},
   "source": [
    "Copyright (c) 2020 Dominic O'Kane"
   ]
  }
 ],
 "metadata": {
  "kernelspec": {
   "display_name": "base",
   "language": "python",
   "name": "python3"
  },
  "language_info": {
   "codemirror_mode": {
    "name": "ipython",
    "version": 3
   },
   "file_extension": ".py",
   "mimetype": "text/x-python",
   "name": "python",
   "nbconvert_exporter": "python",
   "pygments_lexer": "ipython3",
   "version": "3.13.7"
  }
 },
 "nbformat": 4,
 "nbformat_minor": 4
}
