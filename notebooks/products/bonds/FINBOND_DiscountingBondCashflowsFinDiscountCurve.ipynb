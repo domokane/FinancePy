{
 "cells": [
  {
   "cell_type": "markdown",
   "metadata": {},
   "source": [
    "# Discount Bond Cashflows"
   ]
  },
  {
   "cell_type": "markdown",
   "metadata": {},
   "source": [
    "https://quant.stackexchange.com/questions/58168/dirtyprice-and-discounting-curve-on-quantlib"
   ]
  },
  {
   "cell_type": "code",
   "execution_count": 1,
   "metadata": {
    "execution": {
     "iopub.execute_input": "2024-04-30T19:50:24.182010Z",
     "iopub.status.busy": "2024-04-30T19:50:24.181008Z",
     "iopub.status.idle": "2024-04-30T19:50:24.795541Z",
     "shell.execute_reply": "2024-04-30T19:50:24.795541Z"
    }
   },
   "outputs": [],
   "source": [
    "import numpy as np\n",
    "import matplotlib.pyplot as plt"
   ]
  },
  {
   "cell_type": "code",
   "execution_count": 2,
   "metadata": {
    "execution": {
     "iopub.execute_input": "2024-04-30T19:50:24.798557Z",
     "iopub.status.busy": "2024-04-30T19:50:24.797590Z",
     "iopub.status.idle": "2024-04-30T19:50:25.959455Z",
     "shell.execute_reply": "2024-04-30T19:50:25.958966Z"
    },
    "tags": []
   },
   "outputs": [
    {
     "name": "stdout",
     "output_type": "stream",
     "text": [
      "####################################################################\n",
      "#    FINANCEPY Version 1.1 - This build: 15 Aug 2025 at 13:47      #\n",
      "#     This software is distributed FREE AND WITHOUT ANY WARRANTY   #\n",
      "#  Report bugs as issues at https://github.com/domokane/FinancePy  #\n",
      "####################################################################\n",
      "\n"
     ]
    }
   ],
   "source": [
    "from financepy.utils import *\n",
    "from financepy.products.bonds import *\n",
    "from financepy.market.curves import *"
   ]
  },
  {
   "cell_type": "markdown",
   "metadata": {},
   "source": [
    "## Create a Bond"
   ]
  },
  {
   "cell_type": "markdown",
   "metadata": {},
   "source": [
    "I first create my bond."
   ]
  },
  {
   "cell_type": "code",
   "execution_count": 3,
   "metadata": {
    "execution": {
     "iopub.execute_input": "2024-04-30T19:50:25.961454Z",
     "iopub.status.busy": "2024-04-30T19:50:25.961454Z",
     "iopub.status.idle": "2024-04-30T19:50:25.981643Z",
     "shell.execute_reply": "2024-04-30T19:50:25.981643Z"
    }
   },
   "outputs": [],
   "source": [
    "issue_dt = Date(15, 12, 2019)\n",
    "maturity_dt = Date(15, 12, 2029)\n",
    "freq_type = FrequencyTypes.SEMI_ANNUAL\n",
    "dc_type = DayCountTypes.THIRTY_360_BOND\n",
    "cpn = 0.05"
   ]
  },
  {
   "cell_type": "markdown",
   "metadata": {},
   "source": [
    "The bond is constructed as follows"
   ]
  },
  {
   "cell_type": "code",
   "execution_count": 4,
   "metadata": {
    "execution": {
     "iopub.execute_input": "2024-04-30T19:50:25.984667Z",
     "iopub.status.busy": "2024-04-30T19:50:25.984667Z",
     "iopub.status.idle": "2024-04-30T19:50:25.987983Z",
     "shell.execute_reply": "2024-04-30T19:50:25.987983Z"
    }
   },
   "outputs": [],
   "source": [
    "bond = Bond(issue_dt, maturity_dt, cpn, freq_type, dc_type)"
   ]
  },
  {
   "cell_type": "markdown",
   "metadata": {},
   "source": [
    "I then set the settlement date"
   ]
  },
  {
   "cell_type": "code",
   "execution_count": 5,
   "metadata": {
    "execution": {
     "iopub.execute_input": "2024-04-30T19:50:25.991016Z",
     "iopub.status.busy": "2024-04-30T19:50:25.991016Z",
     "iopub.status.idle": "2024-04-30T19:50:25.994919Z",
     "shell.execute_reply": "2024-04-30T19:50:25.994247Z"
    }
   },
   "outputs": [],
   "source": [
    "settle_dt = Date(24, 9, 2020)"
   ]
  },
  {
   "cell_type": "code",
   "execution_count": 6,
   "metadata": {
    "execution": {
     "iopub.execute_input": "2024-04-30T19:50:25.997527Z",
     "iopub.status.busy": "2024-04-30T19:50:25.997527Z",
     "iopub.status.idle": "2024-04-30T19:50:26.003271Z",
     "shell.execute_reply": "2024-04-30T19:50:26.003271Z"
    },
    "tags": []
   },
   "outputs": [
    {
     "data": {
      "text/plain": [
       "np.float64(101.36735766617082)"
      ]
     },
     "execution_count": 6,
     "metadata": {},
     "output_type": "execute_result"
    }
   ],
   "source": [
    "bond.dirty_price_from_ytm(settle_dt, 0.050)"
   ]
  },
  {
   "cell_type": "markdown",
   "metadata": {},
   "source": [
    "I can also discount this using a full (flat) term structure curve."
   ]
  },
  {
   "cell_type": "code",
   "execution_count": 7,
   "metadata": {
    "execution": {
     "iopub.execute_input": "2024-04-30T19:50:26.006270Z",
     "iopub.status.busy": "2024-04-30T19:50:26.006270Z",
     "iopub.status.idle": "2024-04-30T19:50:26.014333Z",
     "shell.execute_reply": "2024-04-30T19:50:26.014333Z"
    },
    "tags": []
   },
   "outputs": [],
   "source": [
    "flat_curve = DiscountCurveFlat(settle_dt, 0.05, freq_type, dc_type)"
   ]
  },
  {
   "cell_type": "code",
   "execution_count": 8,
   "metadata": {
    "execution": {
     "iopub.execute_input": "2024-04-30T19:50:26.016361Z",
     "iopub.status.busy": "2024-04-30T19:50:26.016361Z",
     "iopub.status.idle": "2024-04-30T19:50:26.021403Z",
     "shell.execute_reply": "2024-04-30T19:50:26.021403Z"
    }
   },
   "outputs": [
    {
     "data": {
      "text/plain": [
       "np.float64(101.36735767521239)"
      ]
     },
     "execution_count": 8,
     "metadata": {},
     "output_type": "execute_result"
    }
   ],
   "source": [
    "bond.dirty_price_from_discount_curve(settle_dt, flat_curve)"
   ]
  },
  {
   "cell_type": "markdown",
   "metadata": {},
   "source": [
    "The price is the same as the term structure is flat, which is equivalent to the assumptions of a yield to maturity."
   ]
  },
  {
   "cell_type": "markdown",
   "metadata": {},
   "source": [
    "Copyright (c) 2020 Dominic O'Kane"
   ]
  }
 ],
 "metadata": {
  "kernelspec": {
   "display_name": "base",
   "language": "python",
   "name": "python3"
  },
  "language_info": {
   "codemirror_mode": {
    "name": "ipython",
    "version": 3
   },
   "file_extension": ".py",
   "mimetype": "text/x-python",
   "name": "python",
   "nbconvert_exporter": "python",
   "pygments_lexer": "ipython3",
   "version": "3.13.5"
  }
 },
 "nbformat": 4,
 "nbformat_minor": 4
}
