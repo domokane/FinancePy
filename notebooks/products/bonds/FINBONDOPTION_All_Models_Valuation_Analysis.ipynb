{
 "cells": [
  {
   "cell_type": "markdown",
   "metadata": {},
   "source": [
    "# Bond Option Pricing using Various Models"
   ]
  },
  {
   "cell_type": "markdown",
   "metadata": {},
   "source": [
    "Value an option on a coupon paying bond using the Hull-White, Black-Derman-Toy and Black-Karasinski model"
   ]
  },
  {
   "cell_type": "code",
   "execution_count": 1,
   "metadata": {
    "execution": {
     "iopub.execute_input": "2024-04-30T19:43:34.160909Z",
     "iopub.status.busy": "2024-04-30T19:43:34.159913Z",
     "iopub.status.idle": "2024-04-30T19:43:34.753858Z",
     "shell.execute_reply": "2024-04-30T19:43:34.753858Z"
    }
   },
   "outputs": [],
   "source": [
    "import numpy as np\n",
    "import matplotlib.pyplot as plt\n",
    "import time"
   ]
  },
  {
   "cell_type": "code",
   "execution_count": 2,
   "metadata": {
    "execution": {
     "iopub.execute_input": "2024-04-30T19:43:34.756439Z",
     "iopub.status.busy": "2024-04-30T19:43:34.756439Z",
     "iopub.status.idle": "2024-04-30T19:43:35.858354Z",
     "shell.execute_reply": "2024-04-30T19:43:35.858354Z"
    }
   },
   "outputs": [
    {
     "name": "stdout",
     "output_type": "stream",
     "text": [
      "####################################################################\n",
      "#  FINANCEPY BETA Version 0.350 - This build: 30 Apr 2024 at 21:20 #\n",
      "#     This software is distributed FREE AND WITHOUT ANY WARRANTY   #\n",
      "#  Report bugs as issues at https://github.com/domokane/FinancePy  #\n",
      "####################################################################\n",
      "\n"
     ]
    }
   ],
   "source": [
    "from financepy.utils import *\n",
    "from financepy.market.curves import *\n",
    "from financepy.models.bk_tree import BKTree\n",
    "from financepy.models.bdt_tree import BDTTree\n",
    "from financepy.models.hw_tree import HWTree\n",
    "from financepy.products.bonds import *"
   ]
  },
  {
   "cell_type": "markdown",
   "metadata": {},
   "source": [
    "## Set up the Discount Curve"
   ]
  },
  {
   "cell_type": "code",
   "execution_count": 3,
   "metadata": {
    "execution": {
     "iopub.execute_input": "2024-04-30T19:43:35.861399Z",
     "iopub.status.busy": "2024-04-30T19:43:35.861399Z",
     "iopub.status.idle": "2024-04-30T19:43:35.880183Z",
     "shell.execute_reply": "2024-04-30T19:43:35.880183Z"
    }
   },
   "outputs": [],
   "source": [
    "settle_dt = Date(1, 12, 2019)"
   ]
  },
  {
   "cell_type": "markdown",
   "metadata": {},
   "source": [
    "Set up discount curve"
   ]
  },
  {
   "cell_type": "code",
   "execution_count": 4,
   "metadata": {
    "execution": {
     "iopub.execute_input": "2024-04-30T19:43:35.883216Z",
     "iopub.status.busy": "2024-04-30T19:43:35.882212Z",
     "iopub.status.idle": "2024-04-30T19:43:35.891408Z",
     "shell.execute_reply": "2024-04-30T19:43:35.891408Z"
    }
   },
   "outputs": [],
   "source": [
    "rate = 0.10\n",
    "dc_type = DayCountTypes.THIRTY_360_BOND\n",
    "fixed_freq = FrequencyTypes.SEMI_ANNUAL\n",
    "discount_curve = DiscountCurveFlat(settle_dt, rate, fixed_freq, dc_type)"
   ]
  },
  {
   "cell_type": "markdown",
   "metadata": {},
   "source": [
    "## Set up the Bond Option"
   ]
  },
  {
   "cell_type": "markdown",
   "metadata": {},
   "source": [
    "First create the bond"
   ]
  },
  {
   "cell_type": "code",
   "execution_count": 5,
   "metadata": {
    "execution": {
     "iopub.execute_input": "2024-04-30T19:43:35.893426Z",
     "iopub.status.busy": "2024-04-30T19:43:35.893426Z",
     "iopub.status.idle": "2024-04-30T19:43:35.897625Z",
     "shell.execute_reply": "2024-04-30T19:43:35.897625Z"
    }
   },
   "outputs": [],
   "source": [
    "issue_dt = Date(1,12,2018)\n",
    "maturity_dt = issue_dt.add_tenor(\"3Y\")\n",
    "coupon = 0.10\n",
    "freq_type = FrequencyTypes.SEMI_ANNUAL\n",
    "dc_type = DayCountTypes.THIRTY_360_BOND\n",
    "bond = Bond(issue_dt, maturity_dt, coupon, freq_type, dc_type)"
   ]
  },
  {
   "cell_type": "markdown",
   "metadata": {},
   "source": [
    "Let's first price the bond on the libor curve"
   ]
  },
  {
   "cell_type": "code",
   "execution_count": 6,
   "metadata": {
    "execution": {
     "iopub.execute_input": "2024-04-30T19:43:35.899656Z",
     "iopub.status.busy": "2024-04-30T19:43:35.899656Z",
     "iopub.status.idle": "2024-04-30T19:43:35.903616Z",
     "shell.execute_reply": "2024-04-30T19:43:35.903616Z"
    }
   },
   "outputs": [
    {
     "name": "stdout",
     "output_type": "stream",
     "text": [
      "Fixed Income Clean Price:   100.000\n",
      "Fixed Income Dirty Price:   100.000\n"
     ]
    }
   ],
   "source": [
    "cp = bond.clean_price_from_discount_curve(settle_dt, discount_curve)\n",
    "dp = bond.dirty_price_from_discount_curve(settle_dt, discount_curve)\n",
    "print(\"Fixed Income Clean Price: %9.3f\"% cp)\n",
    "print(\"Fixed Income Dirty Price: %9.3f\"% dp)"
   ]
  },
  {
   "cell_type": "code",
   "execution_count": 7,
   "metadata": {
    "execution": {
     "iopub.execute_input": "2024-04-30T19:43:35.905939Z",
     "iopub.status.busy": "2024-04-30T19:43:35.905939Z",
     "iopub.status.idle": "2024-04-30T19:43:35.911271Z",
     "shell.execute_reply": "2024-04-30T19:43:35.911271Z"
    }
   },
   "outputs": [
    {
     "data": {
      "text/plain": [
       "01-DEC-2019"
      ]
     },
     "execution_count": 7,
     "metadata": {},
     "output_type": "execute_result"
    }
   ],
   "source": [
    "settle_dt"
   ]
  },
  {
   "cell_type": "code",
   "execution_count": 8,
   "metadata": {
    "execution": {
     "iopub.execute_input": "2024-04-30T19:43:35.913948Z",
     "iopub.status.busy": "2024-04-30T19:43:35.912310Z",
     "iopub.status.idle": "2024-04-30T19:43:35.916263Z",
     "shell.execute_reply": "2024-04-30T19:43:35.916263Z"
    }
   },
   "outputs": [
    {
     "name": "stdout",
     "output_type": "stream",
     "text": [
      " 01-JUN-2020      5.00000 \n",
      " 01-DEC-2020      5.00000 \n",
      " 01-JUN-2021      5.00000 \n",
      " 01-DEC-2021    105.00000 \n",
      "\n"
     ]
    }
   ],
   "source": [
    "bond.print_payments(settle_dt)"
   ]
  },
  {
   "cell_type": "markdown",
   "metadata": {},
   "source": [
    "# Create the Bond Options"
   ]
  },
  {
   "cell_type": "markdown",
   "metadata": {},
   "source": [
    "Then define and create the option"
   ]
  },
  {
   "cell_type": "code",
   "execution_count": 9,
   "metadata": {
    "execution": {
     "iopub.execute_input": "2024-04-30T19:43:35.918293Z",
     "iopub.status.busy": "2024-04-30T19:43:35.918293Z",
     "iopub.status.idle": "2024-04-30T19:43:35.921491Z",
     "shell.execute_reply": "2024-04-30T19:43:35.921491Z"
    }
   },
   "outputs": [],
   "source": [
    "expiry_dt = settle_dt.add_tenor(\"18m\")\n",
    "strike_price = 95.0\n",
    "face_amount = 100.0"
   ]
  },
  {
   "cell_type": "code",
   "execution_count": 10,
   "metadata": {
    "execution": {
     "iopub.execute_input": "2024-04-30T19:43:35.924184Z",
     "iopub.status.busy": "2024-04-30T19:43:35.924075Z",
     "iopub.status.idle": "2024-04-30T19:43:35.926730Z",
     "shell.execute_reply": "2024-04-30T19:43:35.926730Z"
    }
   },
   "outputs": [],
   "source": [
    "europeanCallBondOption = BondOption(bond, expiry_dt, strike_price, OptionTypes.EUROPEAN_CALL)\n",
    "americanCallBondOption = BondOption(bond, expiry_dt, strike_price, OptionTypes.AMERICAN_CALL)"
   ]
  },
  {
   "cell_type": "code",
   "execution_count": 11,
   "metadata": {
    "execution": {
     "iopub.execute_input": "2024-04-30T19:43:35.928730Z",
     "iopub.status.busy": "2024-04-30T19:43:35.928730Z",
     "iopub.status.idle": "2024-04-30T19:43:35.932476Z",
     "shell.execute_reply": "2024-04-30T19:43:35.932243Z"
    }
   },
   "outputs": [],
   "source": [
    "europeanPutBondOption = BondOption(bond, expiry_dt, strike_price, OptionTypes.EUROPEAN_PUT)\n",
    "americanPutBondOption = BondOption(bond, expiry_dt, strike_price, OptionTypes.AMERICAN_PUT)"
   ]
  },
  {
   "cell_type": "markdown",
   "metadata": {},
   "source": [
    "Consider the forward bond price."
   ]
  },
  {
   "cell_type": "code",
   "execution_count": 12,
   "metadata": {
    "execution": {
     "iopub.execute_input": "2024-04-30T19:43:35.934474Z",
     "iopub.status.busy": "2024-04-30T19:43:35.934474Z",
     "iopub.status.idle": "2024-04-30T19:43:35.938109Z",
     "shell.execute_reply": "2024-04-30T19:43:35.938109Z"
    }
   },
   "outputs": [
    {
     "name": "stdout",
     "output_type": "stream",
     "text": [
      "Fixed Income Clean Price:   100.000\n",
      "Fixed Income Dirty Price:   100.000\n"
     ]
    }
   ],
   "source": [
    "cp = bond.clean_price_from_discount_curve(expiry_dt, discount_curve)\n",
    "dp = bond.dirty_price_from_discount_curve(expiry_dt, discount_curve)\n",
    "print(\"Fixed Income Clean Price: %9.3f\"% cp)\n",
    "print(\"Fixed Income Dirty Price: %9.3f\"% dp)"
   ]
  },
  {
   "cell_type": "code",
   "execution_count": 13,
   "metadata": {
    "execution": {
     "iopub.execute_input": "2024-04-30T19:43:35.940111Z",
     "iopub.status.busy": "2024-04-30T19:43:35.940111Z",
     "iopub.status.idle": "2024-04-30T19:43:35.943464Z",
     "shell.execute_reply": "2024-04-30T19:43:35.943464Z"
    }
   },
   "outputs": [],
   "source": [
    "df = discount_curve.df(expiry_dt)\n",
    "call_intrinsic = max(cp - strike_price, 0) * df\n",
    "put_intrinsic = max(strike_price - cp, 0) * df"
   ]
  },
  {
   "cell_type": "code",
   "execution_count": 14,
   "metadata": {
    "execution": {
     "iopub.execute_input": "2024-04-30T19:43:35.946082Z",
     "iopub.status.busy": "2024-04-30T19:43:35.946082Z",
     "iopub.status.idle": "2024-04-30T19:43:35.949579Z",
     "shell.execute_reply": "2024-04-30T19:43:35.949579Z"
    }
   },
   "outputs": [
    {
     "data": {
      "text/plain": [
       "4.319187992657368"
      ]
     },
     "execution_count": 14,
     "metadata": {},
     "output_type": "execute_result"
    }
   ],
   "source": [
    "call_intrinsic"
   ]
  },
  {
   "cell_type": "code",
   "execution_count": 15,
   "metadata": {
    "execution": {
     "iopub.execute_input": "2024-04-30T19:43:35.952603Z",
     "iopub.status.busy": "2024-04-30T19:43:35.952603Z",
     "iopub.status.idle": "2024-04-30T19:43:35.956577Z",
     "shell.execute_reply": "2024-04-30T19:43:35.956577Z"
    }
   },
   "outputs": [
    {
     "data": {
      "text/plain": [
       "0.0"
      ]
     },
     "execution_count": 15,
     "metadata": {},
     "output_type": "execute_result"
    }
   ],
   "source": [
    "put_intrinsic"
   ]
  },
  {
   "cell_type": "markdown",
   "metadata": {},
   "source": [
    "## Tree Models"
   ]
  },
  {
   "cell_type": "markdown",
   "metadata": {},
   "source": [
    "Set the model parameters, start with zero vol."
   ]
  },
  {
   "cell_type": "code",
   "execution_count": 16,
   "metadata": {
    "execution": {
     "iopub.execute_input": "2024-04-30T19:43:35.959576Z",
     "iopub.status.busy": "2024-04-30T19:43:35.959576Z",
     "iopub.status.idle": "2024-04-30T19:43:35.962597Z",
     "shell.execute_reply": "2024-04-30T19:43:35.962362Z"
    }
   },
   "outputs": [],
   "source": [
    "num_steps = 200"
   ]
  },
  {
   "cell_type": "code",
   "execution_count": 17,
   "metadata": {
    "execution": {
     "iopub.execute_input": "2024-04-30T19:43:35.964594Z",
     "iopub.status.busy": "2024-04-30T19:43:35.964594Z",
     "iopub.status.idle": "2024-04-30T19:43:35.968476Z",
     "shell.execute_reply": "2024-04-30T19:43:35.968476Z"
    }
   },
   "outputs": [],
   "source": [
    "sigma = 0.00001\n",
    "a = 0.1\n",
    "modelHW = HWTree(sigma*rate, a, num_steps)\n",
    "modelBK = BKTree(sigma, a, num_steps)\n",
    "modelBDT = BDTTree(sigma, num_steps)"
   ]
  },
  {
   "cell_type": "markdown",
   "metadata": {},
   "source": [
    "Check some limits - the call option should be worth the intrinsic."
   ]
  },
  {
   "cell_type": "code",
   "execution_count": 18,
   "metadata": {
    "execution": {
     "iopub.execute_input": "2024-04-30T19:43:35.971483Z",
     "iopub.status.busy": "2024-04-30T19:43:35.971483Z",
     "iopub.status.idle": "2024-04-30T19:43:36.008106Z",
     "shell.execute_reply": "2024-04-30T19:43:36.008106Z"
    }
   },
   "outputs": [
    {
     "name": "stdout",
     "output_type": "stream",
     "text": [
      "European Call Value:   4.30649\n",
      "American Call Value:   4.96842\n"
     ]
    }
   ],
   "source": [
    "ec = europeanCallBondOption.value(settle_dt, discount_curve, modelHW)\n",
    "ac = americanCallBondOption.value(settle_dt, discount_curve, modelHW)\n",
    "print(\"European Call Value: %9.5f\" % ec)\n",
    "print(\"American Call Value: %9.5f\" % ac)"
   ]
  },
  {
   "cell_type": "markdown",
   "metadata": {},
   "source": [
    "The put option too."
   ]
  },
  {
   "cell_type": "code",
   "execution_count": 19,
   "metadata": {
    "execution": {
     "iopub.execute_input": "2024-04-30T19:43:36.011134Z",
     "iopub.status.busy": "2024-04-30T19:43:36.010138Z",
     "iopub.status.idle": "2024-04-30T19:43:36.017771Z",
     "shell.execute_reply": "2024-04-30T19:43:36.017771Z"
    }
   },
   "outputs": [
    {
     "name": "stdout",
     "output_type": "stream",
     "text": [
      "European Put Value:   0.00000\n",
      "American Put Value:   0.00000\n"
     ]
    }
   ],
   "source": [
    "ep = europeanPutBondOption.value(settle_dt, discount_curve, modelHW)\n",
    "ap = americanPutBondOption.value(settle_dt, discount_curve, modelHW)\n",
    "print(\"European Put Value: %9.5f\" % ep)\n",
    "print(\"American Put Value: %9.5f\" % ap)"
   ]
  },
  {
   "cell_type": "markdown",
   "metadata": {},
   "source": [
    "Now we turn on the volatility."
   ]
  },
  {
   "cell_type": "code",
   "execution_count": 20,
   "metadata": {
    "execution": {
     "iopub.execute_input": "2024-04-30T19:43:36.020803Z",
     "iopub.status.busy": "2024-04-30T19:43:36.020803Z",
     "iopub.status.idle": "2024-04-30T19:43:36.024484Z",
     "shell.execute_reply": "2024-04-30T19:43:36.024484Z"
    }
   },
   "outputs": [],
   "source": [
    "sigma = 0.20\n",
    "a = 0.1\n",
    "modelHW = HWTree(sigma*rate, a, num_steps)\n",
    "modelBK = BKTree(sigma, a, num_steps)\n",
    "modelBDT = BDTTree(sigma, num_steps)"
   ]
  },
  {
   "cell_type": "code",
   "execution_count": 21,
   "metadata": {
    "execution": {
     "iopub.execute_input": "2024-04-30T19:43:36.027484Z",
     "iopub.status.busy": "2024-04-30T19:43:36.026486Z",
     "iopub.status.idle": "2024-04-30T19:43:36.034789Z",
     "shell.execute_reply": "2024-04-30T19:43:36.034789Z"
    }
   },
   "outputs": [
    {
     "name": "stdout",
     "output_type": "stream",
     "text": [
      "European Call Value:   4.30650\n",
      "American Call Value:   5.26581\n"
     ]
    }
   ],
   "source": [
    "ec = europeanCallBondOption.value(settle_dt, discount_curve, modelHW)\n",
    "ac = americanCallBondOption.value(settle_dt, discount_curve, modelHW)\n",
    "print(\"European Call Value: %9.5f\" % ec)\n",
    "print(\"American Call Value: %9.5f\" % ac)"
   ]
  },
  {
   "cell_type": "code",
   "execution_count": 22,
   "metadata": {
    "execution": {
     "iopub.execute_input": "2024-04-30T19:43:36.037788Z",
     "iopub.status.busy": "2024-04-30T19:43:36.036815Z",
     "iopub.status.idle": "2024-04-30T19:43:36.044288Z",
     "shell.execute_reply": "2024-04-30T19:43:36.044288Z"
    }
   },
   "outputs": [
    {
     "name": "stdout",
     "output_type": "stream",
     "text": [
      "European Put Value:   0.00000\n",
      "American Put Value:   0.00454\n"
     ]
    }
   ],
   "source": [
    "ep = europeanPutBondOption.value(settle_dt, discount_curve, modelHW)\n",
    "ap = americanPutBondOption.value(settle_dt, discount_curve, modelHW)\n",
    "print(\"European Put Value: %9.5f\" % ep)\n",
    "print(\"American Put Value: %9.5f\" % ap)"
   ]
  },
  {
   "cell_type": "markdown",
   "metadata": {},
   "source": [
    "Copyright (c) Dominic O'Kane 2020"
   ]
  }
 ],
 "metadata": {
  "kernelspec": {
   "display_name": "Python 3 (ipykernel)",
   "language": "python",
   "name": "python3"
  },
  "language_info": {
   "codemirror_mode": {
    "name": "ipython",
    "version": 3
   },
   "file_extension": ".py",
   "mimetype": "text/x-python",
   "name": "python",
   "nbconvert_exporter": "python",
   "pygments_lexer": "ipython3",
   "version": "3.11.5"
  }
 },
 "nbformat": 4,
 "nbformat_minor": 2
}
