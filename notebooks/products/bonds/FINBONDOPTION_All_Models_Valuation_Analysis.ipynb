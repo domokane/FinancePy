{
 "cells": [
  {
   "cell_type": "markdown",
   "metadata": {},
   "source": [
    "# Bond Option Pricing using Various Models"
   ]
  },
  {
   "cell_type": "markdown",
   "metadata": {},
   "source": [
    "Value an option on a coupon paying bond using the Hull-White, Black-Derman-Toy and Black-Karasinski model"
   ]
  },
  {
   "cell_type": "code",
   "execution_count": 1,
   "metadata": {
    "execution": {
     "iopub.execute_input": "2025-08-27T21:36:55.751211Z",
     "iopub.status.busy": "2025-08-27T21:36:55.751010Z",
     "iopub.status.idle": "2025-08-27T21:36:56.221606Z",
     "shell.execute_reply": "2025-08-27T21:36:56.221013Z"
    }
   },
   "outputs": [],
   "source": [
    "import numpy as np\n",
    "import matplotlib.pyplot as plt\n",
    "import time"
   ]
  },
  {
   "cell_type": "code",
   "execution_count": 2,
   "metadata": {
    "execution": {
     "iopub.execute_input": "2025-08-27T21:36:56.223948Z",
     "iopub.status.busy": "2025-08-27T21:36:56.223526Z",
     "iopub.status.idle": "2025-08-27T21:36:57.251636Z",
     "shell.execute_reply": "2025-08-27T21:36:57.251058Z"
    }
   },
   "outputs": [
    {
     "name": "stdout",
     "output_type": "stream",
     "text": [
      "####################################################################\n",
      "#    FINANCEPY Version 1.1 - This build: 27 Aug 2025 at 23:27      #\n",
      "#     This software is distributed FREE AND WITHOUT ANY WARRANTY   #\n",
      "#  Report bugs as issues at https://github.com/domokane/FinancePy  #\n",
      "####################################################################\n",
      "\n"
     ]
    }
   ],
   "source": [
    "from financepy.utils import *\n",
    "from financepy.market.curves import *\n",
    "from financepy.models.bk_tree import BKTree\n",
    "from financepy.models.bdt_tree import BDTTree\n",
    "from financepy.models.hw_tree import HWTree\n",
    "from financepy.products.bonds import *"
   ]
  },
  {
   "cell_type": "markdown",
   "metadata": {},
   "source": [
    "## Set up the Discount Curve"
   ]
  },
  {
   "cell_type": "code",
   "execution_count": 3,
   "metadata": {
    "execution": {
     "iopub.execute_input": "2025-08-27T21:36:57.253828Z",
     "iopub.status.busy": "2025-08-27T21:36:57.253515Z",
     "iopub.status.idle": "2025-08-27T21:36:57.269924Z",
     "shell.execute_reply": "2025-08-27T21:36:57.269530Z"
    }
   },
   "outputs": [],
   "source": [
    "settle_dt = Date(1, 12, 2019)"
   ]
  },
  {
   "cell_type": "markdown",
   "metadata": {},
   "source": [
    "Set up discount curve"
   ]
  },
  {
   "cell_type": "code",
   "execution_count": 4,
   "metadata": {
    "execution": {
     "iopub.execute_input": "2025-08-27T21:36:57.272069Z",
     "iopub.status.busy": "2025-08-27T21:36:57.271782Z",
     "iopub.status.idle": "2025-08-27T21:36:57.279758Z",
     "shell.execute_reply": "2025-08-27T21:36:57.279367Z"
    }
   },
   "outputs": [],
   "source": [
    "rate = 0.10\n",
    "dc_type = DayCountTypes.THIRTY_360_BOND\n",
    "fixed_freq = FrequencyTypes.SEMI_ANNUAL\n",
    "discount_curve = DiscountCurveFlat(settle_dt, rate, fixed_freq, dc_type)"
   ]
  },
  {
   "cell_type": "markdown",
   "metadata": {},
   "source": [
    "## Set up the Bond Option"
   ]
  },
  {
   "cell_type": "markdown",
   "metadata": {},
   "source": [
    "First create the bond"
   ]
  },
  {
   "cell_type": "code",
   "execution_count": 5,
   "metadata": {
    "execution": {
     "iopub.execute_input": "2025-08-27T21:36:57.282089Z",
     "iopub.status.busy": "2025-08-27T21:36:57.281873Z",
     "iopub.status.idle": "2025-08-27T21:36:57.284909Z",
     "shell.execute_reply": "2025-08-27T21:36:57.284590Z"
    }
   },
   "outputs": [],
   "source": [
    "issue_dt = Date(1,12,2018)\n",
    "maturity_dt = issue_dt.add_tenor(\"3Y\")\n",
    "coupon = 0.10\n",
    "freq_type = FrequencyTypes.SEMI_ANNUAL\n",
    "dc_type = DayCountTypes.THIRTY_360_BOND\n",
    "bond = Bond(issue_dt, maturity_dt, coupon, freq_type, dc_type)"
   ]
  },
  {
   "cell_type": "markdown",
   "metadata": {},
   "source": [
    "Let's first price the bond on the libor curve"
   ]
  },
  {
   "cell_type": "code",
   "execution_count": 6,
   "metadata": {
    "execution": {
     "iopub.execute_input": "2025-08-27T21:36:57.286605Z",
     "iopub.status.busy": "2025-08-27T21:36:57.286285Z",
     "iopub.status.idle": "2025-08-27T21:36:57.289182Z",
     "shell.execute_reply": "2025-08-27T21:36:57.288869Z"
    }
   },
   "outputs": [
    {
     "name": "stdout",
     "output_type": "stream",
     "text": [
      "Fixed Income Clean Price:   100.000\n",
      "Fixed Income Dirty Price:   100.000\n"
     ]
    }
   ],
   "source": [
    "cp = bond.clean_price_from_discount_curve(settle_dt, discount_curve)\n",
    "dp = bond.dirty_price_from_discount_curve(settle_dt, discount_curve)\n",
    "print(\"Fixed Income Clean Price: %9.3f\"% cp)\n",
    "print(\"Fixed Income Dirty Price: %9.3f\"% dp)"
   ]
  },
  {
   "cell_type": "code",
   "execution_count": 7,
   "metadata": {
    "execution": {
     "iopub.execute_input": "2025-08-27T21:36:57.290588Z",
     "iopub.status.busy": "2025-08-27T21:36:57.290406Z",
     "iopub.status.idle": "2025-08-27T21:36:57.294826Z",
     "shell.execute_reply": "2025-08-27T21:36:57.294512Z"
    }
   },
   "outputs": [
    {
     "data": {
      "text/plain": [
       "01-DEC-2019"
      ]
     },
     "execution_count": 7,
     "metadata": {},
     "output_type": "execute_result"
    }
   ],
   "source": [
    "settle_dt"
   ]
  },
  {
   "cell_type": "code",
   "execution_count": 8,
   "metadata": {
    "execution": {
     "iopub.execute_input": "2025-08-27T21:36:57.296528Z",
     "iopub.status.busy": "2025-08-27T21:36:57.296230Z",
     "iopub.status.idle": "2025-08-27T21:36:57.298832Z",
     "shell.execute_reply": "2025-08-27T21:36:57.298527Z"
    }
   },
   "outputs": [
    {
     "name": "stdout",
     "output_type": "stream",
     "text": [
      " 01-JUN-2020      5.00000 \n",
      " 01-DEC-2020      5.00000 \n",
      " 01-JUN-2021      5.00000 \n",
      " 01-DEC-2021    105.00000 \n",
      "\n"
     ]
    }
   ],
   "source": [
    "bond.print_payments(settle_dt)"
   ]
  },
  {
   "cell_type": "markdown",
   "metadata": {},
   "source": [
    "# Create the Bond Options"
   ]
  },
  {
   "cell_type": "markdown",
   "metadata": {},
   "source": [
    "Then define and create the option"
   ]
  },
  {
   "cell_type": "code",
   "execution_count": 9,
   "metadata": {
    "execution": {
     "iopub.execute_input": "2025-08-27T21:36:57.300610Z",
     "iopub.status.busy": "2025-08-27T21:36:57.300296Z",
     "iopub.status.idle": "2025-08-27T21:36:57.302955Z",
     "shell.execute_reply": "2025-08-27T21:36:57.302627Z"
    }
   },
   "outputs": [],
   "source": [
    "expiry_dt = settle_dt.add_tenor(\"18m\")\n",
    "strike_price = 95.0\n",
    "face_amount = 100.0"
   ]
  },
  {
   "cell_type": "code",
   "execution_count": 10,
   "metadata": {
    "execution": {
     "iopub.execute_input": "2025-08-27T21:36:57.304904Z",
     "iopub.status.busy": "2025-08-27T21:36:57.304540Z",
     "iopub.status.idle": "2025-08-27T21:36:57.307020Z",
     "shell.execute_reply": "2025-08-27T21:36:57.306629Z"
    }
   },
   "outputs": [],
   "source": [
    "europeanCallBondOption = BondOption(bond, expiry_dt, strike_price, OptionTypes.EUROPEAN_CALL)\n",
    "americanCallBondOption = BondOption(bond, expiry_dt, strike_price, OptionTypes.AMERICAN_CALL)"
   ]
  },
  {
   "cell_type": "code",
   "execution_count": 11,
   "metadata": {
    "execution": {
     "iopub.execute_input": "2025-08-27T21:36:57.308792Z",
     "iopub.status.busy": "2025-08-27T21:36:57.308512Z",
     "iopub.status.idle": "2025-08-27T21:36:57.310962Z",
     "shell.execute_reply": "2025-08-27T21:36:57.310596Z"
    }
   },
   "outputs": [],
   "source": [
    "europeanPutBondOption = BondOption(bond, expiry_dt, strike_price, OptionTypes.EUROPEAN_PUT)\n",
    "americanPutBondOption = BondOption(bond, expiry_dt, strike_price, OptionTypes.AMERICAN_PUT)"
   ]
  },
  {
   "cell_type": "markdown",
   "metadata": {},
   "source": [
    "Consider the forward bond price."
   ]
  },
  {
   "cell_type": "code",
   "execution_count": 12,
   "metadata": {
    "execution": {
     "iopub.execute_input": "2025-08-27T21:36:57.312620Z",
     "iopub.status.busy": "2025-08-27T21:36:57.312394Z",
     "iopub.status.idle": "2025-08-27T21:36:57.315223Z",
     "shell.execute_reply": "2025-08-27T21:36:57.314919Z"
    }
   },
   "outputs": [
    {
     "name": "stdout",
     "output_type": "stream",
     "text": [
      "Fixed Income Clean Price:   100.000\n",
      "Fixed Income Dirty Price:   100.000\n"
     ]
    }
   ],
   "source": [
    "cp = bond.clean_price_from_discount_curve(expiry_dt, discount_curve)\n",
    "dp = bond.dirty_price_from_discount_curve(expiry_dt, discount_curve)\n",
    "print(\"Fixed Income Clean Price: %9.3f\"% cp)\n",
    "print(\"Fixed Income Dirty Price: %9.3f\"% dp)"
   ]
  },
  {
   "cell_type": "code",
   "execution_count": 13,
   "metadata": {
    "execution": {
     "iopub.execute_input": "2025-08-27T21:36:57.316821Z",
     "iopub.status.busy": "2025-08-27T21:36:57.316620Z",
     "iopub.status.idle": "2025-08-27T21:36:57.318812Z",
     "shell.execute_reply": "2025-08-27T21:36:57.318501Z"
    }
   },
   "outputs": [],
   "source": [
    "df = discount_curve.df(expiry_dt)\n",
    "call_intrinsic = max(cp - strike_price, 0) * df\n",
    "put_intrinsic = max(strike_price - cp, 0) * df"
   ]
  },
  {
   "cell_type": "code",
   "execution_count": 14,
   "metadata": {
    "execution": {
     "iopub.execute_input": "2025-08-27T21:36:57.320325Z",
     "iopub.status.busy": "2025-08-27T21:36:57.320140Z",
     "iopub.status.idle": "2025-08-27T21:36:57.323410Z",
     "shell.execute_reply": "2025-08-27T21:36:57.323077Z"
    }
   },
   "outputs": [
    {
     "data": {
      "text/plain": [
       "np.float64(4.319187992657368)"
      ]
     },
     "execution_count": 14,
     "metadata": {},
     "output_type": "execute_result"
    }
   ],
   "source": [
    "call_intrinsic"
   ]
  },
  {
   "cell_type": "code",
   "execution_count": 15,
   "metadata": {
    "execution": {
     "iopub.execute_input": "2025-08-27T21:36:57.324810Z",
     "iopub.status.busy": "2025-08-27T21:36:57.324630Z",
     "iopub.status.idle": "2025-08-27T21:36:57.327288Z",
     "shell.execute_reply": "2025-08-27T21:36:57.326972Z"
    }
   },
   "outputs": [
    {
     "data": {
      "text/plain": [
       "np.float64(0.0)"
      ]
     },
     "execution_count": 15,
     "metadata": {},
     "output_type": "execute_result"
    }
   ],
   "source": [
    "put_intrinsic"
   ]
  },
  {
   "cell_type": "markdown",
   "metadata": {},
   "source": [
    "## Tree Models"
   ]
  },
  {
   "cell_type": "markdown",
   "metadata": {},
   "source": [
    "Set the model parameters, start with zero vol."
   ]
  },
  {
   "cell_type": "code",
   "execution_count": 16,
   "metadata": {
    "execution": {
     "iopub.execute_input": "2025-08-27T21:36:57.328885Z",
     "iopub.status.busy": "2025-08-27T21:36:57.328707Z",
     "iopub.status.idle": "2025-08-27T21:36:57.331168Z",
     "shell.execute_reply": "2025-08-27T21:36:57.330864Z"
    }
   },
   "outputs": [],
   "source": [
    "num_steps = 200"
   ]
  },
  {
   "cell_type": "code",
   "execution_count": 17,
   "metadata": {
    "execution": {
     "iopub.execute_input": "2025-08-27T21:36:57.332666Z",
     "iopub.status.busy": "2025-08-27T21:36:57.332485Z",
     "iopub.status.idle": "2025-08-27T21:36:57.334772Z",
     "shell.execute_reply": "2025-08-27T21:36:57.334467Z"
    }
   },
   "outputs": [],
   "source": [
    "sigma = 0.00001\n",
    "a = 0.1\n",
    "modelHW = HWTree(sigma*rate, a, num_steps)\n",
    "modelBK = BKTree(sigma, a, num_steps)\n",
    "modelBDT = BDTTree(sigma, num_steps)"
   ]
  },
  {
   "cell_type": "markdown",
   "metadata": {},
   "source": [
    "Check some limits - the call option should be worth the intrinsic."
   ]
  },
  {
   "cell_type": "code",
   "execution_count": 18,
   "metadata": {
    "execution": {
     "iopub.execute_input": "2025-08-27T21:36:57.336387Z",
     "iopub.status.busy": "2025-08-27T21:36:57.336208Z",
     "iopub.status.idle": "2025-08-27T21:36:59.775207Z",
     "shell.execute_reply": "2025-08-27T21:36:59.774797Z"
    }
   },
   "outputs": [
    {
     "name": "stdout",
     "output_type": "stream",
     "text": [
      "European Call Value:   4.30649\n",
      "American Call Value:   4.96842\n"
     ]
    }
   ],
   "source": [
    "ec = europeanCallBondOption.value(settle_dt, discount_curve, modelHW)\n",
    "ac = americanCallBondOption.value(settle_dt, discount_curve, modelHW)\n",
    "print(\"European Call Value: %9.5f\" % ec)\n",
    "print(\"American Call Value: %9.5f\" % ac)"
   ]
  },
  {
   "cell_type": "markdown",
   "metadata": {},
   "source": [
    "The put option too."
   ]
  },
  {
   "cell_type": "code",
   "execution_count": 19,
   "metadata": {
    "execution": {
     "iopub.execute_input": "2025-08-27T21:36:59.777013Z",
     "iopub.status.busy": "2025-08-27T21:36:59.776805Z",
     "iopub.status.idle": "2025-08-27T21:36:59.782588Z",
     "shell.execute_reply": "2025-08-27T21:36:59.782117Z"
    }
   },
   "outputs": [
    {
     "name": "stdout",
     "output_type": "stream",
     "text": [
      "European Put Value:   0.00000\n",
      "American Put Value:   0.00000\n"
     ]
    }
   ],
   "source": [
    "ep = europeanPutBondOption.value(settle_dt, discount_curve, modelHW)\n",
    "ap = americanPutBondOption.value(settle_dt, discount_curve, modelHW)\n",
    "print(\"European Put Value: %9.5f\" % ep)\n",
    "print(\"American Put Value: %9.5f\" % ap)"
   ]
  },
  {
   "cell_type": "markdown",
   "metadata": {},
   "source": [
    "Now we turn on the volatility."
   ]
  },
  {
   "cell_type": "code",
   "execution_count": 20,
   "metadata": {
    "execution": {
     "iopub.execute_input": "2025-08-27T21:36:59.784272Z",
     "iopub.status.busy": "2025-08-27T21:36:59.784073Z",
     "iopub.status.idle": "2025-08-27T21:36:59.786952Z",
     "shell.execute_reply": "2025-08-27T21:36:59.786479Z"
    }
   },
   "outputs": [],
   "source": [
    "sigma = 0.20\n",
    "a = 0.1\n",
    "modelHW = HWTree(sigma*rate, a, num_steps)\n",
    "modelBK = BKTree(sigma, a, num_steps)\n",
    "modelBDT = BDTTree(sigma, num_steps)"
   ]
  },
  {
   "cell_type": "code",
   "execution_count": 21,
   "metadata": {
    "execution": {
     "iopub.execute_input": "2025-08-27T21:36:59.788801Z",
     "iopub.status.busy": "2025-08-27T21:36:59.788530Z",
     "iopub.status.idle": "2025-08-27T21:36:59.794512Z",
     "shell.execute_reply": "2025-08-27T21:36:59.794021Z"
    }
   },
   "outputs": [
    {
     "name": "stdout",
     "output_type": "stream",
     "text": [
      "European Call Value:   4.30650\n",
      "American Call Value:   5.26581\n"
     ]
    }
   ],
   "source": [
    "ec = europeanCallBondOption.value(settle_dt, discount_curve, modelHW)\n",
    "ac = americanCallBondOption.value(settle_dt, discount_curve, modelHW)\n",
    "print(\"European Call Value: %9.5f\" % ec)\n",
    "print(\"American Call Value: %9.5f\" % ac)"
   ]
  },
  {
   "cell_type": "code",
   "execution_count": 22,
   "metadata": {
    "execution": {
     "iopub.execute_input": "2025-08-27T21:36:59.796255Z",
     "iopub.status.busy": "2025-08-27T21:36:59.796033Z",
     "iopub.status.idle": "2025-08-27T21:36:59.803716Z",
     "shell.execute_reply": "2025-08-27T21:36:59.803220Z"
    }
   },
   "outputs": [
    {
     "name": "stdout",
     "output_type": "stream",
     "text": [
      "European Put Value:   0.00000\n",
      "American Put Value:   0.00454\n"
     ]
    }
   ],
   "source": [
    "ep = europeanPutBondOption.value(settle_dt, discount_curve, modelHW)\n",
    "ap = americanPutBondOption.value(settle_dt, discount_curve, modelHW)\n",
    "print(\"European Put Value: %9.5f\" % ep)\n",
    "print(\"American Put Value: %9.5f\" % ap)"
   ]
  },
  {
   "cell_type": "markdown",
   "metadata": {},
   "source": [
    "Copyright (c) Dominic O'Kane 2020"
   ]
  }
 ],
 "metadata": {
  "kernelspec": {
   "display_name": "base",
   "language": "python",
   "name": "python3"
  },
  "language_info": {
   "codemirror_mode": {
    "name": "ipython",
    "version": 3
   },
   "file_extension": ".py",
   "mimetype": "text/x-python",
   "name": "python",
   "nbconvert_exporter": "python",
   "pygments_lexer": "ipython3",
   "version": "3.13.5"
  }
 },
 "nbformat": 4,
 "nbformat_minor": 2
}
