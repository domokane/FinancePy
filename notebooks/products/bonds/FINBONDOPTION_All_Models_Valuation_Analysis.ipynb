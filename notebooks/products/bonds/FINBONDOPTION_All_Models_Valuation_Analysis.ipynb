{
 "cells": [
  {
   "cell_type": "markdown",
   "metadata": {},
   "source": [
    "# Bond Option Pricing using Various Models"
   ]
  },
  {
   "cell_type": "markdown",
   "metadata": {},
   "source": [
    "Value an option on a coupon paying bond using the Hull-White, Black-Derman-Toy and Black-Karasinski model"
   ]
  },
  {
   "cell_type": "code",
   "execution_count": 1,
   "metadata": {
    "execution": {
     "iopub.execute_input": "2025-08-27T22:23:52.934419Z",
     "iopub.status.busy": "2025-08-27T22:23:52.934117Z",
     "iopub.status.idle": "2025-08-27T22:23:53.369938Z",
     "shell.execute_reply": "2025-08-27T22:23:53.369465Z"
    }
   },
   "outputs": [],
   "source": [
    "import numpy as np\n",
    "import matplotlib.pyplot as plt\n",
    "import time"
   ]
  },
  {
   "cell_type": "code",
   "execution_count": 2,
   "metadata": {
    "execution": {
     "iopub.execute_input": "2025-08-27T22:23:53.371895Z",
     "iopub.status.busy": "2025-08-27T22:23:53.371657Z",
     "iopub.status.idle": "2025-08-27T22:23:54.403115Z",
     "shell.execute_reply": "2025-08-27T22:23:54.402379Z"
    }
   },
   "outputs": [],
   "source": [
    "from financepy.utils import *\n",
    "from financepy.market.curves import *\n",
    "from financepy.models.bk_tree import BKTree\n",
    "from financepy.models.bdt_tree import BDTTree\n",
    "from financepy.models.hw_tree import HWTree\n",
    "from financepy.products.bonds import *"
   ]
  },
  {
   "cell_type": "markdown",
   "metadata": {},
   "source": [
    "## Set up the Discount Curve"
   ]
  },
  {
   "cell_type": "code",
   "execution_count": 3,
   "metadata": {
    "execution": {
     "iopub.execute_input": "2025-08-27T22:23:54.405598Z",
     "iopub.status.busy": "2025-08-27T22:23:54.405216Z",
     "iopub.status.idle": "2025-08-27T22:23:54.422803Z",
     "shell.execute_reply": "2025-08-27T22:23:54.421996Z"
    }
   },
   "outputs": [],
   "source": [
    "settle_dt = Date(1, 12, 2019)"
   ]
  },
  {
   "cell_type": "markdown",
   "metadata": {},
   "source": [
    "Set up discount curve"
   ]
  },
  {
   "cell_type": "code",
   "execution_count": 4,
   "metadata": {
    "execution": {
     "iopub.execute_input": "2025-08-27T22:23:54.425063Z",
     "iopub.status.busy": "2025-08-27T22:23:54.424813Z",
     "iopub.status.idle": "2025-08-27T22:23:54.433869Z",
     "shell.execute_reply": "2025-08-27T22:23:54.433257Z"
    }
   },
   "outputs": [],
   "source": [
    "rate = 0.10\n",
    "dc_type = DayCountTypes.THIRTY_360_BOND\n",
    "fixed_freq = FrequencyTypes.SEMI_ANNUAL\n",
    "discount_curve = DiscountCurveFlat(settle_dt, rate, fixed_freq, dc_type)"
   ]
  },
  {
   "cell_type": "markdown",
   "metadata": {},
   "source": [
    "## Set up the Bond Option"
   ]
  },
  {
   "cell_type": "markdown",
   "metadata": {},
   "source": [
    "First create the bond"
   ]
  },
  {
   "cell_type": "code",
   "execution_count": 5,
   "metadata": {
    "execution": {
     "iopub.execute_input": "2025-08-27T22:23:54.436669Z",
     "iopub.status.busy": "2025-08-27T22:23:54.436320Z",
     "iopub.status.idle": "2025-08-27T22:23:54.439752Z",
     "shell.execute_reply": "2025-08-27T22:23:54.439380Z"
    }
   },
   "outputs": [],
   "source": [
    "issue_dt = Date(1,12,2018)\n",
    "maturity_dt = issue_dt.add_tenor(\"3Y\")\n",
    "coupon = 0.10\n",
    "freq_type = FrequencyTypes.SEMI_ANNUAL\n",
    "dc_type = DayCountTypes.THIRTY_360_BOND\n",
    "bond = Bond(issue_dt, maturity_dt, coupon, freq_type, dc_type)"
   ]
  },
  {
   "cell_type": "markdown",
   "metadata": {},
   "source": [
    "Let's first price the bond on the libor curve"
   ]
  },
  {
   "cell_type": "code",
   "execution_count": 6,
   "metadata": {
    "execution": {
     "iopub.execute_input": "2025-08-27T22:23:54.441510Z",
     "iopub.status.busy": "2025-08-27T22:23:54.441298Z",
     "iopub.status.idle": "2025-08-27T22:23:54.446189Z",
     "shell.execute_reply": "2025-08-27T22:23:54.445707Z"
    }
   },
   "outputs": [
    {
     "name": "stdout",
     "output_type": "stream",
     "text": [
      "Fixed Income Clean Price:   100.000\n",
      "Fixed Income Dirty Price:   100.000\n"
     ]
    }
   ],
   "source": [
    "cp = bond.clean_price_from_discount_curve(settle_dt, discount_curve)\n",
    "dp = bond.dirty_price_from_discount_curve(settle_dt, discount_curve)\n",
    "print(\"Fixed Income Clean Price: %9.3f\"% cp)\n",
    "print(\"Fixed Income Dirty Price: %9.3f\"% dp)"
   ]
  },
  {
   "cell_type": "code",
   "execution_count": 7,
   "metadata": {
    "execution": {
     "iopub.execute_input": "2025-08-27T22:23:54.448140Z",
     "iopub.status.busy": "2025-08-27T22:23:54.447913Z",
     "iopub.status.idle": "2025-08-27T22:23:54.452697Z",
     "shell.execute_reply": "2025-08-27T22:23:54.452210Z"
    }
   },
   "outputs": [
    {
     "data": {
      "text/plain": [
       "01-DEC-2019"
      ]
     },
     "execution_count": 7,
     "metadata": {},
     "output_type": "execute_result"
    }
   ],
   "source": [
    "settle_dt"
   ]
  },
  {
   "cell_type": "code",
   "execution_count": 8,
   "metadata": {
    "execution": {
     "iopub.execute_input": "2025-08-27T22:23:54.454727Z",
     "iopub.status.busy": "2025-08-27T22:23:54.454480Z",
     "iopub.status.idle": "2025-08-27T22:23:54.457566Z",
     "shell.execute_reply": "2025-08-27T22:23:54.457236Z"
    }
   },
   "outputs": [
    {
     "name": "stdout",
     "output_type": "stream",
     "text": [
      " 01-JUN-2020      5.00000 \n",
      " 01-DEC-2020      5.00000 \n",
      " 01-JUN-2021      5.00000 \n",
      " 01-DEC-2021    105.00000 \n",
      "\n"
     ]
    }
   ],
   "source": [
    "bond.print_payments(settle_dt)"
   ]
  },
  {
   "cell_type": "markdown",
   "metadata": {},
   "source": [
    "# Create the Bond Options"
   ]
  },
  {
   "cell_type": "markdown",
   "metadata": {},
   "source": [
    "Then define and create the option"
   ]
  },
  {
   "cell_type": "code",
   "execution_count": 9,
   "metadata": {
    "execution": {
     "iopub.execute_input": "2025-08-27T22:23:54.459752Z",
     "iopub.status.busy": "2025-08-27T22:23:54.459493Z",
     "iopub.status.idle": "2025-08-27T22:23:54.462124Z",
     "shell.execute_reply": "2025-08-27T22:23:54.461685Z"
    }
   },
   "outputs": [],
   "source": [
    "expiry_dt = settle_dt.add_tenor(\"18m\")\n",
    "strike_price = 95.0\n",
    "face_amount = 100.0"
   ]
  },
  {
   "cell_type": "code",
   "execution_count": 10,
   "metadata": {
    "execution": {
     "iopub.execute_input": "2025-08-27T22:23:54.463776Z",
     "iopub.status.busy": "2025-08-27T22:23:54.463531Z",
     "iopub.status.idle": "2025-08-27T22:23:54.465946Z",
     "shell.execute_reply": "2025-08-27T22:23:54.465579Z"
    }
   },
   "outputs": [],
   "source": [
    "europeanCallBondOption = BondOption(bond, expiry_dt, strike_price, OptionTypes.EUROPEAN_CALL)\n",
    "americanCallBondOption = BondOption(bond, expiry_dt, strike_price, OptionTypes.AMERICAN_CALL)"
   ]
  },
  {
   "cell_type": "code",
   "execution_count": 11,
   "metadata": {
    "execution": {
     "iopub.execute_input": "2025-08-27T22:23:54.467463Z",
     "iopub.status.busy": "2025-08-27T22:23:54.467251Z",
     "iopub.status.idle": "2025-08-27T22:23:54.469551Z",
     "shell.execute_reply": "2025-08-27T22:23:54.469140Z"
    }
   },
   "outputs": [],
   "source": [
    "europeanPutBondOption = BondOption(bond, expiry_dt, strike_price, OptionTypes.EUROPEAN_PUT)\n",
    "americanPutBondOption = BondOption(bond, expiry_dt, strike_price, OptionTypes.AMERICAN_PUT)"
   ]
  },
  {
   "cell_type": "markdown",
   "metadata": {},
   "source": [
    "Consider the forward bond price."
   ]
  },
  {
   "cell_type": "code",
   "execution_count": 12,
   "metadata": {
    "execution": {
     "iopub.execute_input": "2025-08-27T22:23:54.471562Z",
     "iopub.status.busy": "2025-08-27T22:23:54.471343Z",
     "iopub.status.idle": "2025-08-27T22:23:54.474709Z",
     "shell.execute_reply": "2025-08-27T22:23:54.474347Z"
    }
   },
   "outputs": [
    {
     "name": "stdout",
     "output_type": "stream",
     "text": [
      "Fixed Income Clean Price:   100.000\n",
      "Fixed Income Dirty Price:   100.000\n"
     ]
    }
   ],
   "source": [
    "cp = bond.clean_price_from_discount_curve(expiry_dt, discount_curve)\n",
    "dp = bond.dirty_price_from_discount_curve(expiry_dt, discount_curve)\n",
    "print(\"Fixed Income Clean Price: %9.3f\"% cp)\n",
    "print(\"Fixed Income Dirty Price: %9.3f\"% dp)"
   ]
  },
  {
   "cell_type": "code",
   "execution_count": 13,
   "metadata": {
    "execution": {
     "iopub.execute_input": "2025-08-27T22:23:54.476318Z",
     "iopub.status.busy": "2025-08-27T22:23:54.476030Z",
     "iopub.status.idle": "2025-08-27T22:23:54.478609Z",
     "shell.execute_reply": "2025-08-27T22:23:54.478256Z"
    }
   },
   "outputs": [],
   "source": [
    "df = discount_curve.df(expiry_dt)\n",
    "call_intrinsic = max(cp - strike_price, 0) * df\n",
    "put_intrinsic = max(strike_price - cp, 0) * df"
   ]
  },
  {
   "cell_type": "code",
   "execution_count": 14,
   "metadata": {
    "execution": {
     "iopub.execute_input": "2025-08-27T22:23:54.480590Z",
     "iopub.status.busy": "2025-08-27T22:23:54.480364Z",
     "iopub.status.idle": "2025-08-27T22:23:54.483265Z",
     "shell.execute_reply": "2025-08-27T22:23:54.482934Z"
    }
   },
   "outputs": [
    {
     "data": {
      "text/plain": [
       "np.float64(4.319187992657368)"
      ]
     },
     "execution_count": 14,
     "metadata": {},
     "output_type": "execute_result"
    }
   ],
   "source": [
    "call_intrinsic"
   ]
  },
  {
   "cell_type": "code",
   "execution_count": 15,
   "metadata": {
    "execution": {
     "iopub.execute_input": "2025-08-27T22:23:54.485295Z",
     "iopub.status.busy": "2025-08-27T22:23:54.485068Z",
     "iopub.status.idle": "2025-08-27T22:23:54.488356Z",
     "shell.execute_reply": "2025-08-27T22:23:54.487980Z"
    }
   },
   "outputs": [
    {
     "data": {
      "text/plain": [
       "np.float64(0.0)"
      ]
     },
     "execution_count": 15,
     "metadata": {},
     "output_type": "execute_result"
    }
   ],
   "source": [
    "put_intrinsic"
   ]
  },
  {
   "cell_type": "markdown",
   "metadata": {},
   "source": [
    "## Tree Models"
   ]
  },
  {
   "cell_type": "markdown",
   "metadata": {},
   "source": [
    "Set the model parameters, start with zero vol."
   ]
  },
  {
   "cell_type": "code",
   "execution_count": 16,
   "metadata": {
    "execution": {
     "iopub.execute_input": "2025-08-27T22:23:54.490416Z",
     "iopub.status.busy": "2025-08-27T22:23:54.490046Z",
     "iopub.status.idle": "2025-08-27T22:23:54.492424Z",
     "shell.execute_reply": "2025-08-27T22:23:54.492040Z"
    }
   },
   "outputs": [],
   "source": [
    "num_steps = 200"
   ]
  },
  {
   "cell_type": "code",
   "execution_count": 17,
   "metadata": {
    "execution": {
     "iopub.execute_input": "2025-08-27T22:23:54.494221Z",
     "iopub.status.busy": "2025-08-27T22:23:54.494028Z",
     "iopub.status.idle": "2025-08-27T22:23:54.496665Z",
     "shell.execute_reply": "2025-08-27T22:23:54.496278Z"
    }
   },
   "outputs": [],
   "source": [
    "sigma = 0.00001\n",
    "a = 0.1\n",
    "modelHW = HWTree(sigma*rate, a, num_steps)\n",
    "modelBK = BKTree(sigma, a, num_steps)\n",
    "modelBDT = BDTTree(sigma, num_steps)"
   ]
  },
  {
   "cell_type": "markdown",
   "metadata": {},
   "source": [
    "Check some limits - the call option should be worth the intrinsic."
   ]
  },
  {
   "cell_type": "code",
   "execution_count": 18,
   "metadata": {
    "execution": {
     "iopub.execute_input": "2025-08-27T22:23:54.498467Z",
     "iopub.status.busy": "2025-08-27T22:23:54.498180Z",
     "iopub.status.idle": "2025-08-27T22:23:56.695319Z",
     "shell.execute_reply": "2025-08-27T22:23:56.694938Z"
    }
   },
   "outputs": [
    {
     "name": "stdout",
     "output_type": "stream",
     "text": [
      "European Call Value:   4.30649\n",
      "American Call Value:   4.96842\n"
     ]
    }
   ],
   "source": [
    "ec = europeanCallBondOption.value(settle_dt, discount_curve, modelHW)\n",
    "ac = americanCallBondOption.value(settle_dt, discount_curve, modelHW)\n",
    "print(\"European Call Value: %9.5f\" % ec)\n",
    "print(\"American Call Value: %9.5f\" % ac)"
   ]
  },
  {
   "cell_type": "markdown",
   "metadata": {},
   "source": [
    "The put option too."
   ]
  },
  {
   "cell_type": "code",
   "execution_count": 19,
   "metadata": {
    "execution": {
     "iopub.execute_input": "2025-08-27T22:23:56.697397Z",
     "iopub.status.busy": "2025-08-27T22:23:56.697044Z",
     "iopub.status.idle": "2025-08-27T22:23:56.703554Z",
     "shell.execute_reply": "2025-08-27T22:23:56.703147Z"
    }
   },
   "outputs": [
    {
     "name": "stdout",
     "output_type": "stream",
     "text": [
      "European Put Value:   0.00000\n",
      "American Put Value:   0.00000\n"
     ]
    }
   ],
   "source": [
    "ep = europeanPutBondOption.value(settle_dt, discount_curve, modelHW)\n",
    "ap = americanPutBondOption.value(settle_dt, discount_curve, modelHW)\n",
    "print(\"European Put Value: %9.5f\" % ep)\n",
    "print(\"American Put Value: %9.5f\" % ap)"
   ]
  },
  {
   "cell_type": "markdown",
   "metadata": {},
   "source": [
    "Now we turn on the volatility."
   ]
  },
  {
   "cell_type": "code",
   "execution_count": 20,
   "metadata": {
    "execution": {
     "iopub.execute_input": "2025-08-27T22:23:56.705524Z",
     "iopub.status.busy": "2025-08-27T22:23:56.705337Z",
     "iopub.status.idle": "2025-08-27T22:23:56.708463Z",
     "shell.execute_reply": "2025-08-27T22:23:56.708046Z"
    }
   },
   "outputs": [],
   "source": [
    "sigma = 0.20\n",
    "a = 0.1\n",
    "modelHW = HWTree(sigma*rate, a, num_steps)\n",
    "modelBK = BKTree(sigma, a, num_steps)\n",
    "modelBDT = BDTTree(sigma, num_steps)"
   ]
  },
  {
   "cell_type": "code",
   "execution_count": 21,
   "metadata": {
    "execution": {
     "iopub.execute_input": "2025-08-27T22:23:56.710267Z",
     "iopub.status.busy": "2025-08-27T22:23:56.710080Z",
     "iopub.status.idle": "2025-08-27T22:23:56.715432Z",
     "shell.execute_reply": "2025-08-27T22:23:56.715079Z"
    }
   },
   "outputs": [
    {
     "name": "stdout",
     "output_type": "stream",
     "text": [
      "European Call Value:   4.30650\n",
      "American Call Value:   5.26581\n"
     ]
    }
   ],
   "source": [
    "ec = europeanCallBondOption.value(settle_dt, discount_curve, modelHW)\n",
    "ac = americanCallBondOption.value(settle_dt, discount_curve, modelHW)\n",
    "print(\"European Call Value: %9.5f\" % ec)\n",
    "print(\"American Call Value: %9.5f\" % ac)"
   ]
  },
  {
   "cell_type": "code",
   "execution_count": 22,
   "metadata": {
    "execution": {
     "iopub.execute_input": "2025-08-27T22:23:56.717186Z",
     "iopub.status.busy": "2025-08-27T22:23:56.716912Z",
     "iopub.status.idle": "2025-08-27T22:23:56.722805Z",
     "shell.execute_reply": "2025-08-27T22:23:56.722394Z"
    }
   },
   "outputs": [
    {
     "name": "stdout",
     "output_type": "stream",
     "text": [
      "European Put Value:   0.00000\n",
      "American Put Value:   0.00454\n"
     ]
    }
   ],
   "source": [
    "ep = europeanPutBondOption.value(settle_dt, discount_curve, modelHW)\n",
    "ap = americanPutBondOption.value(settle_dt, discount_curve, modelHW)\n",
    "print(\"European Put Value: %9.5f\" % ep)\n",
    "print(\"American Put Value: %9.5f\" % ap)"
   ]
  },
  {
   "cell_type": "markdown",
   "metadata": {},
   "source": [
    "Copyright (c) Dominic O'Kane 2020"
   ]
  }
 ],
 "metadata": {
  "kernelspec": {
   "display_name": "base",
   "language": "python",
   "name": "python3"
  },
  "language_info": {
   "codemirror_mode": {
    "name": "ipython",
    "version": 3
   },
   "file_extension": ".py",
   "mimetype": "text/x-python",
   "name": "python",
   "nbconvert_exporter": "python",
   "pygments_lexer": "ipython3",
   "version": "3.13.5"
  }
 },
 "nbformat": 4,
 "nbformat_minor": 2
}
