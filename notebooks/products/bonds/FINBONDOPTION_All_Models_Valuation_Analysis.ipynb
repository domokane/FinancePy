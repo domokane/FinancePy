{
 "cells": [
  {
   "cell_type": "markdown",
   "metadata": {},
   "source": [
    "# Bond Option Pricing using Various Models"
   ]
  },
  {
   "cell_type": "markdown",
   "metadata": {},
   "source": [
    "Value an option on a coupon paying bond using the Hull-White, Black-Derman-Toy and Black-Karasinski model"
   ]
  },
  {
   "cell_type": "code",
   "execution_count": 1,
   "metadata": {
    "execution": {
     "iopub.execute_input": "2025-09-14T22:17:28.439681Z",
     "iopub.status.busy": "2025-09-14T22:17:28.439563Z",
     "iopub.status.idle": "2025-09-14T22:17:28.659293Z",
     "shell.execute_reply": "2025-09-14T22:17:28.658927Z"
    }
   },
   "outputs": [],
   "source": [
    "import numpy as np\n",
    "import matplotlib.pyplot as plt\n",
    "import time"
   ]
  },
  {
   "cell_type": "code",
   "execution_count": 2,
   "metadata": {
    "execution": {
     "iopub.execute_input": "2025-09-14T22:17:28.661308Z",
     "iopub.status.busy": "2025-09-14T22:17:28.661138Z",
     "iopub.status.idle": "2025-09-14T22:17:29.327946Z",
     "shell.execute_reply": "2025-09-14T22:17:29.327603Z"
    }
   },
   "outputs": [],
   "source": [
    "from financepy.utils import *\n",
    "from financepy.market.curves import *\n",
    "from financepy.models.bk_tree import BKTree\n",
    "from financepy.models.bdt_tree import BDTTree\n",
    "from financepy.models.hw_tree import HWTree\n",
    "from financepy.products.bonds import *"
   ]
  },
  {
   "cell_type": "markdown",
   "metadata": {},
   "source": [
    "## Set up the Discount Curve"
   ]
  },
  {
   "cell_type": "code",
   "execution_count": 3,
   "metadata": {
    "execution": {
     "iopub.execute_input": "2025-09-14T22:17:29.329630Z",
     "iopub.status.busy": "2025-09-14T22:17:29.329417Z",
     "iopub.status.idle": "2025-09-14T22:17:29.343988Z",
     "shell.execute_reply": "2025-09-14T22:17:29.343647Z"
    }
   },
   "outputs": [],
   "source": [
    "settle_dt = Date(1, 12, 2019)"
   ]
  },
  {
   "cell_type": "markdown",
   "metadata": {},
   "source": [
    "Set up discount curve"
   ]
  },
  {
   "cell_type": "code",
   "execution_count": 4,
   "metadata": {
    "execution": {
     "iopub.execute_input": "2025-09-14T22:17:29.345295Z",
     "iopub.status.busy": "2025-09-14T22:17:29.345165Z",
     "iopub.status.idle": "2025-09-14T22:17:29.352663Z",
     "shell.execute_reply": "2025-09-14T22:17:29.352247Z"
    }
   },
   "outputs": [],
   "source": [
    "rate = 0.10\n",
    "dc_type = DayCountTypes.THIRTY_360_BOND\n",
    "fixed_freq = FrequencyTypes.SEMI_ANNUAL\n",
    "discount_curve = DiscountCurveFlat(settle_dt, rate, fixed_freq, dc_type)"
   ]
  },
  {
   "cell_type": "markdown",
   "metadata": {},
   "source": [
    "## Set up the Bond Option"
   ]
  },
  {
   "cell_type": "markdown",
   "metadata": {},
   "source": [
    "First create the bond"
   ]
  },
  {
   "cell_type": "code",
   "execution_count": 5,
   "metadata": {
    "execution": {
     "iopub.execute_input": "2025-09-14T22:17:29.353949Z",
     "iopub.status.busy": "2025-09-14T22:17:29.353825Z",
     "iopub.status.idle": "2025-09-14T22:17:29.357916Z",
     "shell.execute_reply": "2025-09-14T22:17:29.357577Z"
    }
   },
   "outputs": [],
   "source": [
    "issue_dt = Date(1,12,2018)\n",
    "maturity_dt = issue_dt.add_tenor(\"3Y\")\n",
    "coupon = 0.10\n",
    "freq_type = FrequencyTypes.SEMI_ANNUAL\n",
    "dc_type = DayCountTypes.THIRTY_360_BOND\n",
    "bond = Bond(issue_dt, maturity_dt, coupon, freq_type, dc_type)"
   ]
  },
  {
   "cell_type": "markdown",
   "metadata": {},
   "source": [
    "Let's first price the bond on the libor curve"
   ]
  },
  {
   "cell_type": "code",
   "execution_count": 6,
   "metadata": {
    "execution": {
     "iopub.execute_input": "2025-09-14T22:17:29.359077Z",
     "iopub.status.busy": "2025-09-14T22:17:29.358965Z",
     "iopub.status.idle": "2025-09-14T22:17:29.362349Z",
     "shell.execute_reply": "2025-09-14T22:17:29.362027Z"
    }
   },
   "outputs": [
    {
     "name": "stdout",
     "output_type": "stream",
     "text": [
      "Fixed Income Clean Price:   100.000\n",
      "Fixed Income Dirty Price:   100.000\n"
     ]
    }
   ],
   "source": [
    "cp = bond.clean_price_from_discount_curve(settle_dt, discount_curve)\n",
    "dp = bond.dirty_price_from_discount_curve(settle_dt, discount_curve)\n",
    "print(\"Fixed Income Clean Price: %9.3f\"% cp)\n",
    "print(\"Fixed Income Dirty Price: %9.3f\"% dp)"
   ]
  },
  {
   "cell_type": "code",
   "execution_count": 7,
   "metadata": {
    "execution": {
     "iopub.execute_input": "2025-09-14T22:17:29.363825Z",
     "iopub.status.busy": "2025-09-14T22:17:29.363715Z",
     "iopub.status.idle": "2025-09-14T22:17:29.367429Z",
     "shell.execute_reply": "2025-09-14T22:17:29.367192Z"
    }
   },
   "outputs": [
    {
     "data": {
      "text/plain": [
       "01-DEC-2019"
      ]
     },
     "execution_count": 7,
     "metadata": {},
     "output_type": "execute_result"
    }
   ],
   "source": [
    "settle_dt"
   ]
  },
  {
   "cell_type": "code",
   "execution_count": 8,
   "metadata": {
    "execution": {
     "iopub.execute_input": "2025-09-14T22:17:29.368480Z",
     "iopub.status.busy": "2025-09-14T22:17:29.368367Z",
     "iopub.status.idle": "2025-09-14T22:17:29.370438Z",
     "shell.execute_reply": "2025-09-14T22:17:29.370140Z"
    }
   },
   "outputs": [
    {
     "name": "stdout",
     "output_type": "stream",
     "text": [
      " 01-JUN-2020      5.00000 \n",
      " 01-DEC-2020      5.00000 \n",
      " 01-JUN-2021      5.00000 \n",
      " 01-DEC-2021    105.00000 \n",
      "\n"
     ]
    }
   ],
   "source": [
    "bond.print_payments(settle_dt)"
   ]
  },
  {
   "cell_type": "markdown",
   "metadata": {},
   "source": [
    "# Create the Bond Options"
   ]
  },
  {
   "cell_type": "markdown",
   "metadata": {},
   "source": [
    "Then define and create the option"
   ]
  },
  {
   "cell_type": "code",
   "execution_count": 9,
   "metadata": {
    "execution": {
     "iopub.execute_input": "2025-09-14T22:17:29.371484Z",
     "iopub.status.busy": "2025-09-14T22:17:29.371376Z",
     "iopub.status.idle": "2025-09-14T22:17:29.373861Z",
     "shell.execute_reply": "2025-09-14T22:17:29.373031Z"
    }
   },
   "outputs": [],
   "source": [
    "expiry_dt = settle_dt.add_tenor(\"18m\")\n",
    "strike_price = 95.0\n",
    "face_amount = 100.0"
   ]
  },
  {
   "cell_type": "code",
   "execution_count": 10,
   "metadata": {
    "execution": {
     "iopub.execute_input": "2025-09-14T22:17:29.375035Z",
     "iopub.status.busy": "2025-09-14T22:17:29.374927Z",
     "iopub.status.idle": "2025-09-14T22:17:29.377291Z",
     "shell.execute_reply": "2025-09-14T22:17:29.377029Z"
    }
   },
   "outputs": [],
   "source": [
    "europeanCallBondOption = BondOption(bond, expiry_dt, strike_price, OptionTypes.EUROPEAN_CALL)\n",
    "americanCallBondOption = BondOption(bond, expiry_dt, strike_price, OptionTypes.AMERICAN_CALL)"
   ]
  },
  {
   "cell_type": "code",
   "execution_count": 11,
   "metadata": {
    "execution": {
     "iopub.execute_input": "2025-09-14T22:17:29.378281Z",
     "iopub.status.busy": "2025-09-14T22:17:29.378162Z",
     "iopub.status.idle": "2025-09-14T22:17:29.380276Z",
     "shell.execute_reply": "2025-09-14T22:17:29.380055Z"
    }
   },
   "outputs": [],
   "source": [
    "europeanPutBondOption = BondOption(bond, expiry_dt, strike_price, OptionTypes.EUROPEAN_PUT)\n",
    "americanPutBondOption = BondOption(bond, expiry_dt, strike_price, OptionTypes.AMERICAN_PUT)"
   ]
  },
  {
   "cell_type": "markdown",
   "metadata": {},
   "source": [
    "Consider the forward bond price."
   ]
  },
  {
   "cell_type": "code",
   "execution_count": 12,
   "metadata": {
    "execution": {
     "iopub.execute_input": "2025-09-14T22:17:29.381793Z",
     "iopub.status.busy": "2025-09-14T22:17:29.381654Z",
     "iopub.status.idle": "2025-09-14T22:17:29.383800Z",
     "shell.execute_reply": "2025-09-14T22:17:29.383569Z"
    }
   },
   "outputs": [
    {
     "name": "stdout",
     "output_type": "stream",
     "text": [
      "Fixed Income Clean Price:   100.000\n",
      "Fixed Income Dirty Price:   100.000\n"
     ]
    }
   ],
   "source": [
    "cp = bond.clean_price_from_discount_curve(expiry_dt, discount_curve)\n",
    "dp = bond.dirty_price_from_discount_curve(expiry_dt, discount_curve)\n",
    "print(\"Fixed Income Clean Price: %9.3f\"% cp)\n",
    "print(\"Fixed Income Dirty Price: %9.3f\"% dp)"
   ]
  },
  {
   "cell_type": "code",
   "execution_count": 13,
   "metadata": {
    "execution": {
     "iopub.execute_input": "2025-09-14T22:17:29.384756Z",
     "iopub.status.busy": "2025-09-14T22:17:29.384640Z",
     "iopub.status.idle": "2025-09-14T22:17:29.387253Z",
     "shell.execute_reply": "2025-09-14T22:17:29.387006Z"
    }
   },
   "outputs": [],
   "source": [
    "df = discount_curve.df(expiry_dt)\n",
    "call_intrinsic = max(cp - strike_price, 0) * df\n",
    "put_intrinsic = max(strike_price - cp, 0) * df"
   ]
  },
  {
   "cell_type": "code",
   "execution_count": 14,
   "metadata": {
    "execution": {
     "iopub.execute_input": "2025-09-14T22:17:29.388981Z",
     "iopub.status.busy": "2025-09-14T22:17:29.388876Z",
     "iopub.status.idle": "2025-09-14T22:17:29.391631Z",
     "shell.execute_reply": "2025-09-14T22:17:29.391360Z"
    }
   },
   "outputs": [
    {
     "data": {
      "text/plain": [
       "np.float64(4.319187992657368)"
      ]
     },
     "execution_count": 14,
     "metadata": {},
     "output_type": "execute_result"
    }
   ],
   "source": [
    "call_intrinsic"
   ]
  },
  {
   "cell_type": "code",
   "execution_count": 15,
   "metadata": {
    "execution": {
     "iopub.execute_input": "2025-09-14T22:17:29.392522Z",
     "iopub.status.busy": "2025-09-14T22:17:29.392416Z",
     "iopub.status.idle": "2025-09-14T22:17:29.394596Z",
     "shell.execute_reply": "2025-09-14T22:17:29.394337Z"
    }
   },
   "outputs": [
    {
     "data": {
      "text/plain": [
       "np.float64(0.0)"
      ]
     },
     "execution_count": 15,
     "metadata": {},
     "output_type": "execute_result"
    }
   ],
   "source": [
    "put_intrinsic"
   ]
  },
  {
   "cell_type": "markdown",
   "metadata": {},
   "source": [
    "## Tree Models"
   ]
  },
  {
   "cell_type": "markdown",
   "metadata": {},
   "source": [
    "Set the model parameters, start with zero vol."
   ]
  },
  {
   "cell_type": "code",
   "execution_count": 16,
   "metadata": {
    "execution": {
     "iopub.execute_input": "2025-09-14T22:17:29.395603Z",
     "iopub.status.busy": "2025-09-14T22:17:29.395499Z",
     "iopub.status.idle": "2025-09-14T22:17:29.397623Z",
     "shell.execute_reply": "2025-09-14T22:17:29.397347Z"
    }
   },
   "outputs": [],
   "source": [
    "num_steps = 200"
   ]
  },
  {
   "cell_type": "code",
   "execution_count": 17,
   "metadata": {
    "execution": {
     "iopub.execute_input": "2025-09-14T22:17:29.400242Z",
     "iopub.status.busy": "2025-09-14T22:17:29.399845Z",
     "iopub.status.idle": "2025-09-14T22:17:29.402617Z",
     "shell.execute_reply": "2025-09-14T22:17:29.402354Z"
    }
   },
   "outputs": [],
   "source": [
    "sigma = 0.00001\n",
    "a = 0.1\n",
    "modelHW = HWTree(sigma*rate, a, num_steps)\n",
    "modelBK = BKTree(sigma, a, num_steps)\n",
    "modelBDT = BDTTree(sigma, num_steps)"
   ]
  },
  {
   "cell_type": "markdown",
   "metadata": {},
   "source": [
    "Check some limits - the call option should be worth the intrinsic."
   ]
  },
  {
   "cell_type": "code",
   "execution_count": 18,
   "metadata": {
    "execution": {
     "iopub.execute_input": "2025-09-14T22:17:29.404122Z",
     "iopub.status.busy": "2025-09-14T22:17:29.403863Z",
     "iopub.status.idle": "2025-09-14T22:17:29.447339Z",
     "shell.execute_reply": "2025-09-14T22:17:29.446917Z"
    }
   },
   "outputs": [
    {
     "name": "stdout",
     "output_type": "stream",
     "text": [
      "European Call Value:   4.30649\n",
      "American Call Value:   4.96842\n"
     ]
    }
   ],
   "source": [
    "ec = europeanCallBondOption.value(settle_dt, discount_curve, modelHW)\n",
    "ac = americanCallBondOption.value(settle_dt, discount_curve, modelHW)\n",
    "print(\"European Call Value: %9.5f\" % ec)\n",
    "print(\"American Call Value: %9.5f\" % ac)"
   ]
  },
  {
   "cell_type": "markdown",
   "metadata": {},
   "source": [
    "The put option too."
   ]
  },
  {
   "cell_type": "code",
   "execution_count": 19,
   "metadata": {
    "execution": {
     "iopub.execute_input": "2025-09-14T22:17:29.448890Z",
     "iopub.status.busy": "2025-09-14T22:17:29.448753Z",
     "iopub.status.idle": "2025-09-14T22:17:29.453356Z",
     "shell.execute_reply": "2025-09-14T22:17:29.452908Z"
    }
   },
   "outputs": [
    {
     "name": "stdout",
     "output_type": "stream",
     "text": [
      "European Put Value:   0.00000\n",
      "American Put Value:   0.00000\n"
     ]
    }
   ],
   "source": [
    "ep = europeanPutBondOption.value(settle_dt, discount_curve, modelHW)\n",
    "ap = americanPutBondOption.value(settle_dt, discount_curve, modelHW)\n",
    "print(\"European Put Value: %9.5f\" % ep)\n",
    "print(\"American Put Value: %9.5f\" % ap)"
   ]
  },
  {
   "cell_type": "markdown",
   "metadata": {},
   "source": [
    "Now we turn on the volatility."
   ]
  },
  {
   "cell_type": "code",
   "execution_count": 20,
   "metadata": {
    "execution": {
     "iopub.execute_input": "2025-09-14T22:17:29.454778Z",
     "iopub.status.busy": "2025-09-14T22:17:29.454574Z",
     "iopub.status.idle": "2025-09-14T22:17:29.457209Z",
     "shell.execute_reply": "2025-09-14T22:17:29.456747Z"
    }
   },
   "outputs": [],
   "source": [
    "sigma = 0.20\n",
    "a = 0.1\n",
    "modelHW = HWTree(sigma*rate, a, num_steps)\n",
    "modelBK = BKTree(sigma, a, num_steps)\n",
    "modelBDT = BDTTree(sigma, num_steps)"
   ]
  },
  {
   "cell_type": "code",
   "execution_count": 21,
   "metadata": {
    "execution": {
     "iopub.execute_input": "2025-09-14T22:17:29.458658Z",
     "iopub.status.busy": "2025-09-14T22:17:29.458528Z",
     "iopub.status.idle": "2025-09-14T22:17:29.462752Z",
     "shell.execute_reply": "2025-09-14T22:17:29.462216Z"
    }
   },
   "outputs": [
    {
     "name": "stdout",
     "output_type": "stream",
     "text": [
      "European Call Value:   4.30650\n",
      "American Call Value:   5.26581\n"
     ]
    }
   ],
   "source": [
    "ec = europeanCallBondOption.value(settle_dt, discount_curve, modelHW)\n",
    "ac = americanCallBondOption.value(settle_dt, discount_curve, modelHW)\n",
    "print(\"European Call Value: %9.5f\" % ec)\n",
    "print(\"American Call Value: %9.5f\" % ac)"
   ]
  },
  {
   "cell_type": "code",
   "execution_count": 22,
   "metadata": {
    "execution": {
     "iopub.execute_input": "2025-09-14T22:17:29.463961Z",
     "iopub.status.busy": "2025-09-14T22:17:29.463845Z",
     "iopub.status.idle": "2025-09-14T22:17:29.467532Z",
     "shell.execute_reply": "2025-09-14T22:17:29.467223Z"
    }
   },
   "outputs": [
    {
     "name": "stdout",
     "output_type": "stream",
     "text": [
      "European Put Value:   0.00000\n",
      "American Put Value:   0.00454\n"
     ]
    }
   ],
   "source": [
    "ep = europeanPutBondOption.value(settle_dt, discount_curve, modelHW)\n",
    "ap = americanPutBondOption.value(settle_dt, discount_curve, modelHW)\n",
    "print(\"European Put Value: %9.5f\" % ep)\n",
    "print(\"American Put Value: %9.5f\" % ap)"
   ]
  },
  {
   "cell_type": "markdown",
   "metadata": {},
   "source": [
    "Copyright (c) Dominic O'Kane 2020"
   ]
  }
 ],
 "metadata": {
  "kernelspec": {
   "display_name": "base",
   "language": "python",
   "name": "python3"
  },
  "language_info": {
   "codemirror_mode": {
    "name": "ipython",
    "version": 3
   },
   "file_extension": ".py",
   "mimetype": "text/x-python",
   "name": "python",
   "nbconvert_exporter": "python",
   "pygments_lexer": "ipython3",
   "version": "3.13.7"
  }
 },
 "nbformat": 4,
 "nbformat_minor": 2
}
