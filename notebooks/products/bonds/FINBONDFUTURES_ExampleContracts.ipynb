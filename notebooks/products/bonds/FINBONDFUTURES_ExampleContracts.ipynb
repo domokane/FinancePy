{
 "cells": [
  {
   "cell_type": "markdown",
   "metadata": {},
   "source": [
    "# ANALYSING BOND FUTURES CONTRACTS"
   ]
  },
  {
   "cell_type": "markdown",
   "metadata": {},
   "source": [
    "In this notebook I analyse a CME bond futures contract"
   ]
  },
  {
   "cell_type": "code",
   "execution_count": 1,
   "metadata": {
    "execution": {
     "iopub.execute_input": "2024-04-30T19:43:21.488671Z",
     "iopub.status.busy": "2024-04-30T19:43:21.488671Z",
     "iopub.status.idle": "2024-04-30T19:43:21.500105Z",
     "shell.execute_reply": "2024-04-30T19:43:21.499104Z"
    }
   },
   "outputs": [],
   "source": [
    "import datetime as dt"
   ]
  },
  {
   "cell_type": "code",
   "execution_count": 32,
   "metadata": {},
   "outputs": [],
   "source": [
    "import pandas as pd"
   ]
  },
  {
   "cell_type": "code",
   "execution_count": 2,
   "metadata": {
    "execution": {
     "iopub.execute_input": "2024-04-30T19:43:21.504641Z",
     "iopub.status.busy": "2024-04-30T19:43:21.503645Z",
     "iopub.status.idle": "2024-04-30T19:43:23.448678Z",
     "shell.execute_reply": "2024-04-30T19:43:23.448678Z"
    }
   },
   "outputs": [
    {
     "name": "stdout",
     "output_type": "stream",
     "text": [
      "####################################################################\n",
      "#  FINANCEPY BETA Version 0.370 - This build: 28 Oct 2024 at 20:26 #\n",
      "#     This software is distributed FREE AND WITHOUT ANY WARRANTY   #\n",
      "#  Report bugs as issues at https://github.com/domokane/FinancePy  #\n",
      "####################################################################\n",
      "\n"
     ]
    }
   ],
   "source": [
    "from financepy.products.bonds import *\n",
    "from financepy.utils import *"
   ]
  },
  {
   "cell_type": "markdown",
   "metadata": {},
   "source": [
    "## Example from CME"
   ]
  },
  {
   "cell_type": "markdown",
   "metadata": {},
   "source": [
    "https://www.cmegroup.com/education/files/understanding-treasury-futures.pdf"
   ]
  },
  {
   "cell_type": "markdown",
   "metadata": {},
   "source": [
    "I am looking at Table 3 on Page 20"
   ]
  },
  {
   "cell_type": "code",
   "execution_count": 17,
   "metadata": {
    "execution": {
     "iopub.execute_input": "2024-04-30T19:43:23.451272Z",
     "iopub.status.busy": "2024-04-30T19:43:23.451272Z",
     "iopub.status.idle": "2024-04-30T19:43:23.471379Z",
     "shell.execute_reply": "2024-04-30T19:43:23.471379Z"
    }
   },
   "outputs": [],
   "source": [
    "first_delivery_dt = Date(1, 12, 2017)\n",
    "last_delivery_dt = Date(28, 12, 2017)\n",
    "\n",
    "contract_size = 100000\n",
    "contractCoupon = 0.06\n",
    "\n",
    "# December 2017 contract\n",
    "bondFutureContract = BondFuture(\"TYZ7\", first_delivery_dt, last_delivery_dt,\n",
    "                                   contract_size, contractCoupon)"
   ]
  },
  {
   "cell_type": "code",
   "execution_count": 6,
   "metadata": {
    "execution": {
     "iopub.execute_input": "2024-04-30T19:43:23.474401Z",
     "iopub.status.busy": "2024-04-30T19:43:23.473403Z",
     "iopub.status.idle": "2024-04-30T19:43:23.476783Z",
     "shell.execute_reply": "2024-04-30T19:43:23.476783Z"
    }
   },
   "outputs": [
    {
     "name": "stdout",
     "output_type": "stream",
     "text": [
      "OBJECT TYPE: BondFuture\n",
      "TICKER NAME: TYZ7\n",
      "FIRST DELIVERY DATE: 01-DEC-2017\n",
      "LAST DELIVERY DATE: 28-DEC-2017\n",
      "CONTRACT SIZE: 100000\n",
      "COUPON: 0.06\n",
      "\n"
     ]
    }
   ],
   "source": [
    "print(bondFutureContract)"
   ]
  },
  {
   "cell_type": "code",
   "execution_count": 7,
   "metadata": {
    "execution": {
     "iopub.execute_input": "2024-04-30T19:43:23.478815Z",
     "iopub.status.busy": "2024-04-30T19:43:23.478815Z",
     "iopub.status.idle": "2024-04-30T19:43:23.481968Z",
     "shell.execute_reply": "2024-04-30T19:43:23.481968Z"
    }
   },
   "outputs": [],
   "source": [
    "freq = FrequencyTypes.SEMI_ANNUAL\n",
    "basis = DayCountTypes.ACT_ACT_ICMA\n",
    "settle_dt = Date(10, 10, 2017)\n",
    "issue_dt = Date(1, 1, 2000) # Dummy"
   ]
  },
  {
   "cell_type": "code",
   "execution_count": 10,
   "metadata": {
    "execution": {
     "iopub.execute_input": "2024-04-30T19:43:23.484001Z",
     "iopub.status.busy": "2024-04-30T19:43:23.484001Z",
     "iopub.status.idle": "2024-04-30T19:43:23.504779Z",
     "shell.execute_reply": "2024-04-30T19:43:23.504779Z"
    }
   },
   "outputs": [],
   "source": [
    "bonds = []\n",
    "prices = []\n",
    "bond = Bond(issue_dt, Date(15, 8, 2027), 0.0225, freq, basis); bonds.append(bond); prices.append(99 + 1 / 32)\n",
    "bond = Bond(issue_dt, Date(15, 5, 2027), 0.02375, freq, basis); bonds.append(bond); prices.append(100 + 5 / 32 + 1 / 64)\n",
    "bond = Bond(issue_dt, Date(15, 2, 2027), 0.0225, freq, basis); bonds.append(bond); prices.append(99 + 5 / 32 + 1 / 64)\n",
    "bond = Bond(issue_dt, Date(15, 11, 2026), 0.02, freq, basis); bonds.append(bond); prices.append(97 + 7 / 32 + 1 / 64)\n",
    "bond = Bond(issue_dt, Date(5, 8, 2026), 0.015, freq, basis); bonds.append(bond); prices.append(93 + 14 / 32)\n",
    "bond = Bond(issue_dt, Date(15, 5, 2026), 0.01625, freq, basis); bonds.append(bond); prices.append(94 + 21 / 32 + 1 / 64)\n",
    "bond = Bond(issue_dt, Date(15, 2, 2026), 0.01625, freq, basis); bonds.append(bond); prices.append(94 + 29 / 32)\n",
    "bond = Bond(issue_dt, Date(15, 11, 2025), 0.0225, freq, basis); bonds.append(bond); prices.append(99 + 25 / 32)\n",
    "bond = Bond(issue_dt, Date(15, 8, 2025), 0.02, freq, basis); bonds.append(bond); prices.append(98 + 3 / 32)\n",
    "bond = Bond(issue_dt, Date(15, 5, 2025), 0.02125, freq, basis); bonds.append(bond); prices.append(99 + 5 / 32 + 1 / 64)\n",
    "bond = Bond(issue_dt, Date(15, 2, 2025), 0.02, freq, basis); bonds.append(bond); prices.append(98 + 14 / 32 + 1 / 64)\n",
    "bond = Bond(issue_dt, Date(15, 11, 2024), 0.0225, freq, basis); bonds.append(bond); prices.append(100 + 9 / 32 + 1 / 64)\n",
    "bond = Bond(issue_dt, Date(15, 8, 2024), 0.02375, freq, basis); bonds.append(bond); prices.append(101 + 7 / 32 + 1 / 64)\n",
    "# bond = Bond(issue_dt, Date(15, 8, 2024), 0.01875, freq, basis); bonds.append(bond); prices.append(98 + 1 / 32 + 0/64) #TYPO IN REPT"
   ]
  },
  {
   "cell_type": "markdown",
   "metadata": {},
   "source": [
    "Calculate the bond yield"
   ]
  },
  {
   "cell_type": "code",
   "execution_count": null,
   "metadata": {
    "execution": {
     "iopub.execute_input": "2024-04-30T19:43:23.506811Z",
     "iopub.status.busy": "2024-04-30T19:43:23.506811Z",
     "iopub.status.idle": "2024-04-30T19:43:23.520930Z",
     "shell.execute_reply": "2024-04-30T19:43:23.520930Z"
    }
   },
   "outputs": [
    {
     "name": "stdout",
     "output_type": "stream",
     "text": [
      "   Coupon      Bond Maturity        Yield  Clean Price\n",
      "  2.25000        15-AUG-2027    2.36049984     99.03125\n",
      "  2.37500        15-MAY-2027    2.35463188    100.17188\n",
      "  2.25000        15-FEB-2027    2.34885040     99.17188\n",
      "  2.00000        15-NOV-2026    2.33900466     97.23438\n",
      "  1.50000        05-AUG-2026    2.32695325     93.43750\n",
      "  1.62500        15-MAY-2026    2.31166907     94.67188\n",
      "  1.62500        15-FEB-2026    2.29879314     94.90625\n",
      "  2.25000        15-NOV-2025    2.27946129     99.78125\n",
      "  2.00000        15-AUG-2025    2.26615960     98.09375\n",
      "  2.12500        15-MAY-2025    2.24388311     99.17188\n",
      "  2.00000        15-FEB-2025    2.22903638     98.45312\n",
      "  2.25000        15-NOV-2024    2.20429165    100.29688\n",
      "  2.37500        15-AUG-2024    2.17956249    101.23438\n"
     ]
    }
   ],
   "source": []
  },
  {
   "cell_type": "code",
   "execution_count": 37,
   "metadata": {},
   "outputs": [],
   "source": [
    "# Get the Invoice Prices\n",
    "futures_price = 125 + 8/32 + 1/64"
   ]
  },
  {
   "cell_type": "markdown",
   "metadata": {},
   "source": [
    "Get the conversion factors"
   ]
  },
  {
   "cell_type": "code",
   "execution_count": null,
   "metadata": {
    "execution": {
     "iopub.execute_input": "2024-04-30T19:43:23.523536Z",
     "iopub.status.busy": "2024-04-30T19:43:23.523536Z",
     "iopub.status.idle": "2024-04-30T19:43:23.536844Z",
     "shell.execute_reply": "2024-04-30T19:43:23.536844Z"
    }
   },
   "outputs": [
    {
     "name": "stdout",
     "output_type": "stream",
     "text": [
      "    Coupon     Maturity     Yield  Clean Price      TCF          PIP\n",
      "0    2.250  15-AUG-2027  2.360500     99.03125  73.1429   9162291.08\n",
      "1    2.375  15-MAY-2027  2.354632    100.17188  74.5496   9338502.24\n",
      "2    2.250  15-FEB-2027  2.348850     99.17188  74.2122   9296237.62\n",
      "3    2.000  15-NOV-2026  2.339005     97.23438  73.0756   9153860.71\n",
      "4    1.500  05-AUG-2026  2.326953     93.43750  70.3762   8815718.68\n",
      "5    1.625  15-MAY-2026  2.311669     94.67188  71.8566   9001161.91\n",
      "6    1.625  15-FEB-2026  2.298793     94.90625  72.5226   9084588.82\n",
      "7    2.250  15-NOV-2025  2.279461     99.78125  77.0269   9648822.77\n",
      "8    2.000  15-AUG-2025  2.266160     98.09375  76.1241   9535732.96\n",
      "9    2.125  15-MAY-2025  2.243883     99.17188  77.4870   9706457.48\n",
      "10   2.000  15-FEB-2025  2.229036     98.45312  77.4079   9696548.97\n",
      "11   2.250  15-NOV-2024  2.204292    100.29688  79.4343   9950387.24\n",
      "12   2.375  15-AUG-2024  2.179562    101.23438  80.7241  10111954.84\n"
     ]
    }
   ],
   "source": [
    "data = [] \n",
    "\n",
    "for bond, clean_price in zip(bonds, prices):\n",
    "    yld = bond.yield_to_maturity(settle_dt, clean_price)\n",
    "    dt = bond.maturity_dt\n",
    "    cf = bondFutureContract.conversion_factor(bond)\n",
    "    pip = bondFutureContract.principal_invoice_price(bond, futures_price)\n",
    "    gainloss, payForBond, receiveOnFuture = bondFutureContract.delivery_gain_loss(bond, clean_price, futures_price)\n",
    "\n",
    "    data.append({\n",
    "        \"Coupon\": bond.cpn * 100,\n",
    "        \"Maturity\": dt,\n",
    "        \"Yield\": yld * 100,\n",
    "        \"Clean Price\": clean_price,\n",
    "        \"TCF\": cf,\n",
    "        \"PIP\": pip,\n",
    "        \"Receive on Future\": receiveOnFuture,\n",
    "    })\n",
    "\n",
    "# Create the DataFrame\n",
    "df = pd.DataFrame(data)\n",
    "\n",
    "# Optional: Format the DataFrame for display\n",
    "df = df.round({\n",
    "    \"Coupon (%)\": 5,\n",
    "    \"Yield to Maturity (%)\": 8,\n",
    "    \"Clean Price\": 5,\n",
    "    \"Conversion Factor\": 5,\n",
    "    \"PIP\": 2\n",
    "})\n",
    "\n",
    "# Display the DataFrame\n",
    "print(df)"
   ]
  },
  {
   "cell_type": "code",
   "execution_count": 9,
   "metadata": {
    "execution": {
     "iopub.execute_input": "2024-04-30T19:43:23.538874Z",
     "iopub.status.busy": "2024-04-30T19:43:23.538874Z",
     "iopub.status.idle": "2024-04-30T19:43:23.542526Z",
     "shell.execute_reply": "2024-04-30T19:43:23.542002Z"
    }
   },
   "outputs": [],
   "source": [
    "# Get the Invoice Prices\n",
    "futures_price = 125 + 8/32 + 1/64"
   ]
  },
  {
   "cell_type": "code",
   "execution_count": 43,
   "metadata": {
    "execution": {
     "iopub.execute_input": "2024-04-30T19:43:23.583845Z",
     "iopub.status.busy": "2024-04-30T19:43:23.583845Z",
     "iopub.status.idle": "2024-04-30T19:43:23.597379Z",
     "shell.execute_reply": "2024-04-30T19:43:23.597138Z"
    }
   },
   "outputs": [
    {
     "name": "stdout",
     "output_type": "stream",
     "text": [
      "CTD MATURITY CTD COUPON\n",
      "15-AUG-2024 2.375\n"
     ]
    }
   ],
   "source": [
    "ctd = bondFutureContract.cheapest_to_deliver(bonds, prices, futures_price)\n",
    "print(\"CTD MATURITY\", \"CTD COUPON\")\n",
    "print(str(ctd.maturity_dt), ctd.cpn*100)"
   ]
  },
  {
   "cell_type": "markdown",
   "metadata": {},
   "source": [
    "Copyright (c) 2019, Dominic O'Kane "
   ]
  }
 ],
 "metadata": {
  "kernelspec": {
   "display_name": "base",
   "language": "python",
   "name": "python3"
  },
  "language_info": {
   "codemirror_mode": {
    "name": "ipython",
    "version": 3
   },
   "file_extension": ".py",
   "mimetype": "text/x-python",
   "name": "python",
   "nbconvert_exporter": "python",
   "pygments_lexer": "ipython3",
   "version": "3.11.5"
  }
 },
 "nbformat": 4,
 "nbformat_minor": 2
}
