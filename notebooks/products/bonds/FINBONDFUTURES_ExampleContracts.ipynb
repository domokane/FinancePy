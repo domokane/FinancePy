{
 "cells": [
  {
   "cell_type": "markdown",
   "metadata": {},
   "source": [
    "# ANALYSING BOND FUTURES CONTRACTS"
   ]
  },
  {
   "cell_type": "markdown",
   "metadata": {},
   "source": [
    "In this notebook I analyse a CME bond futures contract"
   ]
  },
  {
   "cell_type": "code",
   "execution_count": 1,
   "metadata": {
    "execution": {
     "iopub.execute_input": "2025-08-27T22:23:42.541149Z",
     "iopub.status.busy": "2025-08-27T22:23:42.540886Z",
     "iopub.status.idle": "2025-08-27T22:23:42.544757Z",
     "shell.execute_reply": "2025-08-27T22:23:42.544365Z"
    }
   },
   "outputs": [],
   "source": [
    "import datetime as dt"
   ]
  },
  {
   "cell_type": "code",
   "execution_count": 2,
   "metadata": {
    "execution": {
     "iopub.execute_input": "2025-08-27T22:23:42.546763Z",
     "iopub.status.busy": "2025-08-27T22:23:42.546548Z",
     "iopub.status.idle": "2025-08-27T22:23:42.941674Z",
     "shell.execute_reply": "2025-08-27T22:23:42.941294Z"
    }
   },
   "outputs": [],
   "source": [
    "import pandas as pd"
   ]
  },
  {
   "cell_type": "code",
   "execution_count": 3,
   "metadata": {
    "execution": {
     "iopub.execute_input": "2025-08-27T22:23:42.944132Z",
     "iopub.status.busy": "2025-08-27T22:23:42.943801Z",
     "iopub.status.idle": "2025-08-27T22:23:44.309493Z",
     "shell.execute_reply": "2025-08-27T22:23:44.308890Z"
    }
   },
   "outputs": [],
   "source": [
    "from financepy.products.bonds import *\n",
    "from financepy.utils import *"
   ]
  },
  {
   "cell_type": "markdown",
   "metadata": {},
   "source": [
    "## Example from CME"
   ]
  },
  {
   "cell_type": "markdown",
   "metadata": {},
   "source": [
    "https://www.cmegroup.com/education/files/understanding-treasury-futures.pdf"
   ]
  },
  {
   "cell_type": "markdown",
   "metadata": {},
   "source": [
    "I am looking at Table 3 on Page 20"
   ]
  },
  {
   "cell_type": "code",
   "execution_count": 4,
   "metadata": {
    "execution": {
     "iopub.execute_input": "2025-08-27T22:23:44.311969Z",
     "iopub.status.busy": "2025-08-27T22:23:44.311591Z",
     "iopub.status.idle": "2025-08-27T22:23:44.329250Z",
     "shell.execute_reply": "2025-08-27T22:23:44.328628Z"
    }
   },
   "outputs": [],
   "source": [
    "first_delivery_dt = Date(1, 12, 2017)\n",
    "last_delivery_dt = Date(28, 12, 2017)\n",
    "\n",
    "contract_size = 100000\n",
    "contract_cpn = 0.06\n",
    "\n",
    "# December 2017 contract\n",
    "bond_fut_contract = BondFuture(\"TYZ7\", first_delivery_dt, last_delivery_dt,\n",
    "                                   contract_size, contract_cpn)"
   ]
  },
  {
   "cell_type": "code",
   "execution_count": 5,
   "metadata": {
    "execution": {
     "iopub.execute_input": "2025-08-27T22:23:44.331483Z",
     "iopub.status.busy": "2025-08-27T22:23:44.331154Z",
     "iopub.status.idle": "2025-08-27T22:23:44.335076Z",
     "shell.execute_reply": "2025-08-27T22:23:44.334701Z"
    }
   },
   "outputs": [
    {
     "name": "stdout",
     "output_type": "stream",
     "text": [
      "OBJECT TYPE: BondFuture\n",
      "TICKER NAME: TYZ7\n",
      "FIRST DELIVERY DATE: 01-DEC-2017\n",
      "LAST DELIVERY DATE: 28-DEC-2017\n",
      "CONTRACT SIZE: 100000\n",
      "COUPON: 0.06\n",
      "\n"
     ]
    }
   ],
   "source": [
    "print(bond_fut_contract)"
   ]
  },
  {
   "cell_type": "code",
   "execution_count": 6,
   "metadata": {
    "execution": {
     "iopub.execute_input": "2025-08-27T22:23:44.337262Z",
     "iopub.status.busy": "2025-08-27T22:23:44.336884Z",
     "iopub.status.idle": "2025-08-27T22:23:44.339647Z",
     "shell.execute_reply": "2025-08-27T22:23:44.339255Z"
    }
   },
   "outputs": [],
   "source": [
    "freq = FrequencyTypes.SEMI_ANNUAL\n",
    "basis = DayCountTypes.ACT_ACT_ICMA\n",
    "settle_dt = Date(10, 10, 2017)\n",
    "issue_dt = Date(1, 1, 2000) # Dummy"
   ]
  },
  {
   "cell_type": "code",
   "execution_count": 7,
   "metadata": {
    "execution": {
     "iopub.execute_input": "2025-08-27T22:23:44.341501Z",
     "iopub.status.busy": "2025-08-27T22:23:44.341215Z",
     "iopub.status.idle": "2025-08-27T22:23:44.353209Z",
     "shell.execute_reply": "2025-08-27T22:23:44.352866Z"
    }
   },
   "outputs": [],
   "source": [
    "bonds = []\n",
    "prices = []\n",
    "bond = Bond(issue_dt, Date(15, 8, 2027), 0.0225, freq, basis); bonds.append(bond); prices.append(99 + 1 / 32)\n",
    "bond = Bond(issue_dt, Date(15, 5, 2027), 0.02375, freq, basis); bonds.append(bond); prices.append(100 + 5 / 32 + 1 / 64)\n",
    "bond = Bond(issue_dt, Date(15, 2, 2027), 0.0225, freq, basis); bonds.append(bond); prices.append(99 + 5 / 32 + 1 / 64)\n",
    "bond = Bond(issue_dt, Date(15, 11, 2026), 0.02, freq, basis); bonds.append(bond); prices.append(97 + 7 / 32 + 1 / 64)\n",
    "bond = Bond(issue_dt, Date(5, 8, 2026), 0.015, freq, basis); bonds.append(bond); prices.append(93 + 14 / 32)\n",
    "bond = Bond(issue_dt, Date(15, 5, 2026), 0.01625, freq, basis); bonds.append(bond); prices.append(94 + 21 / 32 + 1 / 64)\n",
    "bond = Bond(issue_dt, Date(15, 2, 2026), 0.01625, freq, basis); bonds.append(bond); prices.append(94 + 29 / 32)\n",
    "bond = Bond(issue_dt, Date(15, 11, 2025), 0.0225, freq, basis); bonds.append(bond); prices.append(99 + 25 / 32)\n",
    "bond = Bond(issue_dt, Date(15, 8, 2025), 0.02, freq, basis); bonds.append(bond); prices.append(98 + 3 / 32)\n",
    "bond = Bond(issue_dt, Date(15, 5, 2025), 0.02125, freq, basis); bonds.append(bond); prices.append(99 + 5 / 32 + 1 / 64)\n",
    "bond = Bond(issue_dt, Date(15, 2, 2025), 0.02, freq, basis); bonds.append(bond); prices.append(98 + 14 / 32 + 1 / 64)\n",
    "bond = Bond(issue_dt, Date(15, 11, 2024), 0.0225, freq, basis); bonds.append(bond); prices.append(100 + 9 / 32 + 1 / 64)\n",
    "bond = Bond(issue_dt, Date(15, 8, 2024), 0.02375, freq, basis); bonds.append(bond); prices.append(101 + 7 / 32 + 1 / 64)\n",
    "# bond = Bond(issue_dt, Date(15, 8, 2024), 0.01875, freq, basis); bonds.append(bond); prices.append(98 + 1 / 32 + 0/64) #TYPO IN REPT"
   ]
  },
  {
   "cell_type": "markdown",
   "metadata": {},
   "source": [
    "Calculate the bond yield"
   ]
  },
  {
   "cell_type": "code",
   "execution_count": null,
   "metadata": {
    "execution": {
     "iopub.execute_input": "2024-04-30T19:43:23.506811Z",
     "iopub.status.busy": "2024-04-30T19:43:23.506811Z",
     "iopub.status.idle": "2024-04-30T19:43:23.520930Z",
     "shell.execute_reply": "2024-04-30T19:43:23.520930Z"
    }
   },
   "outputs": [],
   "source": []
  },
  {
   "cell_type": "code",
   "execution_count": 8,
   "metadata": {
    "execution": {
     "iopub.execute_input": "2025-08-27T22:23:44.355343Z",
     "iopub.status.busy": "2025-08-27T22:23:44.355139Z",
     "iopub.status.idle": "2025-08-27T22:23:44.357243Z",
     "shell.execute_reply": "2025-08-27T22:23:44.356892Z"
    }
   },
   "outputs": [],
   "source": [
    "# Get the Invoice Prices\n",
    "futures_price = 125 + 8/32 + 1/64"
   ]
  },
  {
   "cell_type": "markdown",
   "metadata": {},
   "source": [
    "Get the conversion factors"
   ]
  },
  {
   "cell_type": "code",
   "execution_count": 9,
   "metadata": {
    "execution": {
     "iopub.execute_input": "2025-08-27T22:23:44.358953Z",
     "iopub.status.busy": "2025-08-27T22:23:44.358730Z",
     "iopub.status.idle": "2025-08-27T22:23:44.389100Z",
     "shell.execute_reply": "2025-08-27T22:23:44.388669Z"
    }
   },
   "outputs": [
    {
     "name": "stdout",
     "output_type": "stream",
     "text": [
      "    Coupon     Maturity     Yield  Clean Price     TCF        PIP\n",
      "0    2.250  15-AUG-2027  2.360500     99.03125  0.7314   91619.28\n",
      "1    2.375  15-MAY-2027  2.354632    100.17188  0.7455   93385.52\n",
      "2    2.250  15-FEB-2027  2.348850     99.17188  0.7421   92959.62\n",
      "3    2.000  15-NOV-2026  2.339005     97.23438  0.7308   91544.12\n",
      "4    1.500  05-AUG-2026  2.326953     93.43750  0.7038   88161.95\n",
      "5    1.625  15-MAY-2026  2.311669     94.67188  0.7186   90015.88\n",
      "6    1.625  15-FEB-2026  2.298793     94.90625  0.7252   90842.63\n",
      "7    2.250  15-NOV-2025  2.279461     99.78125  0.7703   96492.11\n",
      "8    2.000  15-AUG-2025  2.266160     98.09375  0.7612   95352.19\n",
      "9    2.125  15-MAY-2025  2.243883     99.17188  0.7749   97068.33\n",
      "10   2.000  15-FEB-2025  2.229036     98.45312  0.7741   96968.12\n",
      "11   2.250  15-NOV-2024  2.204292    100.29688  0.7943   99498.49\n",
      "12   2.375  15-AUG-2024  2.179562    101.23438  0.8072  101114.41\n"
     ]
    }
   ],
   "source": [
    "data = []\n",
    "\n",
    "for bond, clean_price in zip(bonds, prices):\n",
    "    yld = bond.yield_to_maturity(settle_dt, clean_price)\n",
    "    dt = bond.maturity_dt\n",
    "    cf = bond_fut_contract.conversion_factor(bond)\n",
    "    pip = bond_fut_contract.principal_invoice(bond, futures_price)\n",
    "\n",
    "    data.append({\n",
    "        \"Coupon\": bond.cpn * 100,\n",
    "        \"Maturity\": dt,\n",
    "        \"Yield\": yld * 100,\n",
    "        \"Clean Price\": clean_price,\n",
    "        \"TCF\": cf,\n",
    "        \"PIP\": pip,\n",
    "    })\n",
    "\n",
    "# Create the DataFrame\n",
    "df = pd.DataFrame(data)\n",
    "\n",
    "# Optional: Format the DataFrame for display\n",
    "df = df.round({\n",
    "    \"Coupon (%)\": 5,\n",
    "    \"Yield to Maturity (%)\": 8,\n",
    "    \"Clean Price\": 5,\n",
    "    \"Conversion Factor\": 5,\n",
    "    \"PIP\": 2\n",
    "})\n",
    "\n",
    "# Display the DataFrame\n",
    "print(df)"
   ]
  },
  {
   "cell_type": "code",
   "execution_count": 10,
   "metadata": {
    "execution": {
     "iopub.execute_input": "2025-08-27T22:23:44.391405Z",
     "iopub.status.busy": "2025-08-27T22:23:44.391154Z",
     "iopub.status.idle": "2025-08-27T22:23:44.400725Z",
     "shell.execute_reply": "2025-08-27T22:23:44.400306Z"
    }
   },
   "outputs": [
    {
     "name": "stdout",
     "output_type": "stream",
     "text": [
      "CTD MATURITY CTD COUPON\n",
      "15-AUG-2027 2.25\n"
     ]
    }
   ],
   "source": [
    "ctd = bond_fut_contract.ctd(bonds, prices, futures_price)\n",
    "print(\"CTD MATURITY\", \"CTD COUPON\")\n",
    "print(str(ctd.maturity_dt), ctd.cpn*100)"
   ]
  },
  {
   "cell_type": "markdown",
   "metadata": {},
   "source": [
    "Copyright (c) 2019, Dominic O'Kane "
   ]
  }
 ],
 "metadata": {
  "kernelspec": {
   "display_name": "base",
   "language": "python",
   "name": "python3"
  },
  "language_info": {
   "codemirror_mode": {
    "name": "ipython",
    "version": 3
   },
   "file_extension": ".py",
   "mimetype": "text/x-python",
   "name": "python",
   "nbconvert_exporter": "python",
   "pygments_lexer": "ipython3",
   "version": "3.13.5"
  }
 },
 "nbformat": 4,
 "nbformat_minor": 2
}
