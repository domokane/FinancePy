{
 "cells": [
  {
   "cell_type": "markdown",
   "metadata": {},
   "source": [
    "# Calculating Bond Price using Survival Curve"
   ]
  },
  {
   "cell_type": "markdown",
   "metadata": {},
   "source": [
    "Calculate the bond price using a survival curve."
   ]
  },
  {
   "cell_type": "code",
   "execution_count": 1,
   "metadata": {
    "execution": {
     "iopub.execute_input": "2025-08-27T21:41:18.540192Z",
     "iopub.status.busy": "2025-08-27T21:41:18.539955Z",
     "iopub.status.idle": "2025-08-27T21:41:19.035702Z",
     "shell.execute_reply": "2025-08-27T21:41:19.035243Z"
    }
   },
   "outputs": [],
   "source": [
    "import numpy as np\n",
    "import matplotlib.pyplot as plt"
   ]
  },
  {
   "cell_type": "code",
   "execution_count": 2,
   "metadata": {
    "execution": {
     "iopub.execute_input": "2025-08-27T21:41:19.038443Z",
     "iopub.status.busy": "2025-08-27T21:41:19.038052Z",
     "iopub.status.idle": "2025-08-27T21:41:20.095310Z",
     "shell.execute_reply": "2025-08-27T21:41:20.094872Z"
    },
    "tags": []
   },
   "outputs": [
    {
     "name": "stdout",
     "output_type": "stream",
     "text": [
      "####################################################################\n",
      "#    FINANCEPY Version 1.1 - This build: 27 Aug 2025 at 23:27      #\n",
      "#     This software is distributed FREE AND WITHOUT ANY WARRANTY   #\n",
      "#  Report bugs as issues at https://github.com/domokane/FinancePy  #\n",
      "####################################################################\n",
      "\n"
     ]
    }
   ],
   "source": [
    "from financepy.utils import *\n",
    "from financepy.market.curves import *\n",
    "from financepy.products.bonds.bond import *"
   ]
  },
  {
   "cell_type": "markdown",
   "metadata": {},
   "source": [
    "## Creating the Bond"
   ]
  },
  {
   "cell_type": "code",
   "execution_count": 3,
   "metadata": {
    "execution": {
     "iopub.execute_input": "2025-08-27T21:41:20.097739Z",
     "iopub.status.busy": "2025-08-27T21:41:20.097395Z",
     "iopub.status.idle": "2025-08-27T21:41:20.114934Z",
     "shell.execute_reply": "2025-08-27T21:41:20.114490Z"
    }
   },
   "outputs": [],
   "source": [
    "issue_dt = Date(15, 5, 2010)\n",
    "maturity_dt = Date(15, 5, 2027)\n",
    "coupon = 0.05\n",
    "freq_type = FrequencyTypes.SEMI_ANNUAL\n",
    "dc_type = DayCountTypes.ACT_ACT_ICMA\n",
    "face = 100.0 # By setting the face to 100 we expect a price of par to be 100.0"
   ]
  },
  {
   "cell_type": "code",
   "execution_count": 4,
   "metadata": {
    "execution": {
     "iopub.execute_input": "2025-08-27T21:41:20.117335Z",
     "iopub.status.busy": "2025-08-27T21:41:20.116902Z",
     "iopub.status.idle": "2025-08-27T21:41:20.119990Z",
     "shell.execute_reply": "2025-08-27T21:41:20.119616Z"
    }
   },
   "outputs": [],
   "source": [
    "bond = Bond(issue_dt, maturity_dt, coupon, freq_type, dc_type)"
   ]
  },
  {
   "cell_type": "code",
   "execution_count": 5,
   "metadata": {
    "execution": {
     "iopub.execute_input": "2025-08-27T21:41:20.122011Z",
     "iopub.status.busy": "2025-08-27T21:41:20.121803Z",
     "iopub.status.idle": "2025-08-27T21:41:20.124484Z",
     "shell.execute_reply": "2025-08-27T21:41:20.124157Z"
    },
    "tags": []
   },
   "outputs": [
    {
     "name": "stdout",
     "output_type": "stream",
     "text": [
      "OBJECT TYPE: Bond\n",
      "ISSUE DATE: 15-MAY-2010\n",
      "MATURITY DATE: 15-MAY-2027\n",
      "COUPON (%): 5.0\n",
      "FREQUENCY: FrequencyTypes.SEMI_ANNUAL\n",
      "DAY COUNT TYPE: DayCountTypes.ACT_ACT_ICMA\n",
      "EX_DIV DAYS: 0\n"
     ]
    }
   ],
   "source": [
    "print(bond)"
   ]
  },
  {
   "cell_type": "code",
   "execution_count": 6,
   "metadata": {
    "execution": {
     "iopub.execute_input": "2025-08-27T21:41:20.126034Z",
     "iopub.status.busy": "2025-08-27T21:41:20.125850Z",
     "iopub.status.idle": "2025-08-27T21:41:20.127970Z",
     "shell.execute_reply": "2025-08-27T21:41:20.127590Z"
    }
   },
   "outputs": [],
   "source": [
    "value_dt = Date(15, 5, 2020)"
   ]
  },
  {
   "cell_type": "code",
   "execution_count": 7,
   "metadata": {
    "execution": {
     "iopub.execute_input": "2025-08-27T21:41:20.130224Z",
     "iopub.status.busy": "2025-08-27T21:41:20.129920Z",
     "iopub.status.idle": "2025-08-27T21:41:20.132879Z",
     "shell.execute_reply": "2025-08-27T21:41:20.132344Z"
    }
   },
   "outputs": [
    {
     "name": "stdout",
     "output_type": "stream",
     "text": [
      " 15-NOV-2020      2.50000 \n",
      " 15-MAY-2021      2.50000 \n",
      " 15-NOV-2021      2.50000 \n",
      " 15-MAY-2022      2.50000 \n",
      " 15-NOV-2022      2.50000 \n",
      " 15-MAY-2023      2.50000 \n",
      " 15-NOV-2023      2.50000 \n",
      " 15-MAY-2024      2.50000 \n",
      " 15-NOV-2024      2.50000 \n",
      " 15-MAY-2025      2.50000 \n",
      " 15-NOV-2025      2.50000 \n",
      " 15-MAY-2026      2.50000 \n",
      " 15-NOV-2026      2.50000 \n",
      " 15-MAY-2027    102.50000 \n",
      "\n"
     ]
    }
   ],
   "source": [
    "bond.print_payments(settle_dt=value_dt, face=face)"
   ]
  },
  {
   "cell_type": "markdown",
   "metadata": {},
   "source": [
    "## Create a Discount Curve"
   ]
  },
  {
   "cell_type": "markdown",
   "metadata": {},
   "source": [
    "I create a discount curve with a 5% discount rate."
   ]
  },
  {
   "cell_type": "code",
   "execution_count": 8,
   "metadata": {
    "execution": {
     "iopub.execute_input": "2025-08-27T21:41:20.134906Z",
     "iopub.status.busy": "2025-08-27T21:41:20.134715Z",
     "iopub.status.idle": "2025-08-27T21:41:20.142591Z",
     "shell.execute_reply": "2025-08-27T21:41:20.142082Z"
    }
   },
   "outputs": [],
   "source": [
    "disc_curve = DiscountCurveFlat(value_dt, 0.05, FrequencyTypes.SEMI_ANNUAL, DayCountTypes.THIRTY_360_BOND)"
   ]
  },
  {
   "cell_type": "markdown",
   "metadata": {},
   "source": [
    "## Create Survival Curve"
   ]
  },
  {
   "cell_type": "markdown",
   "metadata": {},
   "source": [
    "I create a curve with a 0% hazard rate, i.e. it is risk free."
   ]
  },
  {
   "cell_type": "code",
   "execution_count": 9,
   "metadata": {
    "execution": {
     "iopub.execute_input": "2025-08-27T21:41:20.145352Z",
     "iopub.status.busy": "2025-08-27T21:41:20.144977Z",
     "iopub.status.idle": "2025-08-27T21:41:20.147813Z",
     "shell.execute_reply": "2025-08-27T21:41:20.147418Z"
    }
   },
   "outputs": [],
   "source": [
    "h = 0.0"
   ]
  },
  {
   "cell_type": "code",
   "execution_count": 10,
   "metadata": {
    "execution": {
     "iopub.execute_input": "2025-08-27T21:41:20.149514Z",
     "iopub.status.busy": "2025-08-27T21:41:20.149318Z",
     "iopub.status.idle": "2025-08-27T21:41:20.152671Z",
     "shell.execute_reply": "2025-08-27T21:41:20.152124Z"
    }
   },
   "outputs": [],
   "source": [
    "survCurve = DiscountCurveFlat(value_dt, h)"
   ]
  },
  {
   "cell_type": "code",
   "execution_count": 11,
   "metadata": {
    "execution": {
     "iopub.execute_input": "2025-08-27T21:41:20.154885Z",
     "iopub.status.busy": "2025-08-27T21:41:20.154501Z",
     "iopub.status.idle": "2025-08-27T21:41:20.156966Z",
     "shell.execute_reply": "2025-08-27T21:41:20.156559Z"
    }
   },
   "outputs": [],
   "source": [
    "recovery_rate = 0.0"
   ]
  },
  {
   "cell_type": "code",
   "execution_count": 12,
   "metadata": {
    "execution": {
     "iopub.execute_input": "2025-08-27T21:41:20.158716Z",
     "iopub.status.busy": "2025-08-27T21:41:20.158534Z",
     "iopub.status.idle": "2025-08-27T21:41:20.161077Z",
     "shell.execute_reply": "2025-08-27T21:41:20.160689Z"
    }
   },
   "outputs": [],
   "source": [
    "dirty_price = bond.dirty_price_from_survival_curve(value_dt, disc_curve, survCurve, recovery_rate)"
   ]
  },
  {
   "cell_type": "code",
   "execution_count": 13,
   "metadata": {
    "execution": {
     "iopub.execute_input": "2025-08-27T21:41:20.162682Z",
     "iopub.status.busy": "2025-08-27T21:41:20.162449Z",
     "iopub.status.idle": "2025-08-27T21:41:20.164939Z",
     "shell.execute_reply": "2025-08-27T21:41:20.164526Z"
    }
   },
   "outputs": [
    {
     "name": "stdout",
     "output_type": "stream",
     "text": [
      "DIRTY PRICE: 100.000000\n"
     ]
    }
   ],
   "source": [
    "print(\"DIRTY PRICE: %9.6f\" %dirty_price)"
   ]
  },
  {
   "cell_type": "code",
   "execution_count": 14,
   "metadata": {
    "execution": {
     "iopub.execute_input": "2025-08-27T21:41:20.167304Z",
     "iopub.status.busy": "2025-08-27T21:41:20.166934Z",
     "iopub.status.idle": "2025-08-27T21:41:20.169799Z",
     "shell.execute_reply": "2025-08-27T21:41:20.169414Z"
    }
   },
   "outputs": [],
   "source": [
    "clean_price = bond.clean_price_from_survival_curve(value_dt, disc_curve, survCurve, recovery_rate)"
   ]
  },
  {
   "cell_type": "code",
   "execution_count": 15,
   "metadata": {
    "execution": {
     "iopub.execute_input": "2025-08-27T21:41:20.171814Z",
     "iopub.status.busy": "2025-08-27T21:41:20.171615Z",
     "iopub.status.idle": "2025-08-27T21:41:20.174316Z",
     "shell.execute_reply": "2025-08-27T21:41:20.173941Z"
    }
   },
   "outputs": [
    {
     "name": "stdout",
     "output_type": "stream",
     "text": [
      "CLEAN PRICE: 100.000000\n"
     ]
    }
   ],
   "source": [
    "print(\"CLEAN PRICE: %9.6f\" %clean_price)"
   ]
  },
  {
   "cell_type": "markdown",
   "metadata": {},
   "source": [
    "The bond prices at par as expected."
   ]
  },
  {
   "cell_type": "markdown",
   "metadata": {},
   "source": [
    "## Non-Zero Default Risk"
   ]
  },
  {
   "cell_type": "markdown",
   "metadata": {},
   "source": [
    "Now I change the hazard rate."
   ]
  },
  {
   "cell_type": "code",
   "execution_count": 16,
   "metadata": {
    "execution": {
     "iopub.execute_input": "2025-08-27T21:41:20.176489Z",
     "iopub.status.busy": "2025-08-27T21:41:20.176201Z",
     "iopub.status.idle": "2025-08-27T21:41:20.178504Z",
     "shell.execute_reply": "2025-08-27T21:41:20.178207Z"
    }
   },
   "outputs": [],
   "source": [
    "h = 0.02"
   ]
  },
  {
   "cell_type": "code",
   "execution_count": 17,
   "metadata": {
    "execution": {
     "iopub.execute_input": "2025-08-27T21:41:20.180157Z",
     "iopub.status.busy": "2025-08-27T21:41:20.179909Z",
     "iopub.status.idle": "2025-08-27T21:41:20.182941Z",
     "shell.execute_reply": "2025-08-27T21:41:20.182561Z"
    }
   },
   "outputs": [],
   "source": [
    "survCurve = DiscountCurveFlat(value_dt, h)"
   ]
  },
  {
   "cell_type": "code",
   "execution_count": 18,
   "metadata": {
    "execution": {
     "iopub.execute_input": "2025-08-27T21:41:20.184693Z",
     "iopub.status.busy": "2025-08-27T21:41:20.184445Z",
     "iopub.status.idle": "2025-08-27T21:41:20.187219Z",
     "shell.execute_reply": "2025-08-27T21:41:20.186870Z"
    }
   },
   "outputs": [],
   "source": [
    "clean_price = bond.clean_price_from_survival_curve(value_dt, disc_curve, survCurve, recovery_rate)"
   ]
  },
  {
   "cell_type": "code",
   "execution_count": 19,
   "metadata": {
    "execution": {
     "iopub.execute_input": "2025-08-27T21:41:20.188911Z",
     "iopub.status.busy": "2025-08-27T21:41:20.188634Z",
     "iopub.status.idle": "2025-08-27T21:41:20.191855Z",
     "shell.execute_reply": "2025-08-27T21:41:20.191379Z"
    }
   },
   "outputs": [
    {
     "name": "stdout",
     "output_type": "stream",
     "text": [
      "CLEAN PRICE: 88.774861\n"
     ]
    }
   ],
   "source": [
    "print(\"CLEAN PRICE: %9.6f\" %clean_price)"
   ]
  },
  {
   "cell_type": "markdown",
   "metadata": {},
   "source": [
    "The bond price falls as it should. Nopw let's make the recovery rate 40%"
   ]
  },
  {
   "cell_type": "code",
   "execution_count": 20,
   "metadata": {
    "execution": {
     "iopub.execute_input": "2025-08-27T21:41:20.193952Z",
     "iopub.status.busy": "2025-08-27T21:41:20.193736Z",
     "iopub.status.idle": "2025-08-27T21:41:20.195964Z",
     "shell.execute_reply": "2025-08-27T21:41:20.195577Z"
    }
   },
   "outputs": [],
   "source": [
    "recovery_rate = 0.40"
   ]
  },
  {
   "cell_type": "code",
   "execution_count": 21,
   "metadata": {
    "execution": {
     "iopub.execute_input": "2025-08-27T21:41:20.197919Z",
     "iopub.status.busy": "2025-08-27T21:41:20.197669Z",
     "iopub.status.idle": "2025-08-27T21:41:20.201007Z",
     "shell.execute_reply": "2025-08-27T21:41:20.200609Z"
    }
   },
   "outputs": [],
   "source": [
    "clean_price = bond.clean_price_from_survival_curve(value_dt, disc_curve, survCurve, recovery_rate)"
   ]
  },
  {
   "cell_type": "code",
   "execution_count": 22,
   "metadata": {
    "execution": {
     "iopub.execute_input": "2025-08-27T21:41:20.203098Z",
     "iopub.status.busy": "2025-08-27T21:41:20.202826Z",
     "iopub.status.idle": "2025-08-27T21:41:20.205268Z",
     "shell.execute_reply": "2025-08-27T21:41:20.204884Z"
    }
   },
   "outputs": [
    {
     "name": "stdout",
     "output_type": "stream",
     "text": [
      "CLEAN PRICE: 93.210160\n"
     ]
    }
   ],
   "source": [
    "print(\"CLEAN PRICE: %9.6f\" %clean_price)"
   ]
  },
  {
   "cell_type": "markdown",
   "metadata": {},
   "source": [
    "The price increases as more is recovered in default. What if we make the recovery rate 100% ?"
   ]
  },
  {
   "cell_type": "code",
   "execution_count": 23,
   "metadata": {
    "execution": {
     "iopub.execute_input": "2025-08-27T21:41:20.207508Z",
     "iopub.status.busy": "2025-08-27T21:41:20.207298Z",
     "iopub.status.idle": "2025-08-27T21:41:20.209471Z",
     "shell.execute_reply": "2025-08-27T21:41:20.209051Z"
    }
   },
   "outputs": [],
   "source": [
    "recovery_rate = 1.0"
   ]
  },
  {
   "cell_type": "code",
   "execution_count": 24,
   "metadata": {
    "execution": {
     "iopub.execute_input": "2025-08-27T21:41:20.211367Z",
     "iopub.status.busy": "2025-08-27T21:41:20.211176Z",
     "iopub.status.idle": "2025-08-27T21:41:20.213842Z",
     "shell.execute_reply": "2025-08-27T21:41:20.213458Z"
    }
   },
   "outputs": [],
   "source": [
    "clean_price = bond.clean_price_from_survival_curve(value_dt, disc_curve, survCurve, recovery_rate)"
   ]
  },
  {
   "cell_type": "code",
   "execution_count": 25,
   "metadata": {
    "execution": {
     "iopub.execute_input": "2025-08-27T21:41:20.215735Z",
     "iopub.status.busy": "2025-08-27T21:41:20.215473Z",
     "iopub.status.idle": "2025-08-27T21:41:20.218151Z",
     "shell.execute_reply": "2025-08-27T21:41:20.217771Z"
    }
   },
   "outputs": [
    {
     "name": "stdout",
     "output_type": "stream",
     "text": [
      "CLEAN PRICE: 99.863108\n"
     ]
    }
   ],
   "source": [
    "print(\"CLEAN PRICE: %9.6f\" %clean_price)"
   ]
  },
  {
   "cell_type": "markdown",
   "metadata": {},
   "source": [
    "The price goes up but not to par. This is because a default will still cause coupons to be lost as they are zero recovery."
   ]
  },
  {
   "cell_type": "markdown",
   "metadata": {},
   "source": [
    "## Option Adjusted Spread vs Credit Triangle"
   ]
  },
  {
   "cell_type": "markdown",
   "metadata": {},
   "source": [
    "One measure of credit spread is the OAS. We calculate it."
   ]
  },
  {
   "cell_type": "code",
   "execution_count": 26,
   "metadata": {
    "execution": {
     "iopub.execute_input": "2025-08-27T21:41:20.219902Z",
     "iopub.status.busy": "2025-08-27T21:41:20.219561Z",
     "iopub.status.idle": "2025-08-27T21:41:20.225571Z",
     "shell.execute_reply": "2025-08-27T21:41:20.225209Z"
    }
   },
   "outputs": [
    {
     "data": {
      "text/plain": [
       "np.float64(2.342586226695878)"
      ]
     },
     "execution_count": 26,
     "metadata": {},
     "output_type": "execute_result"
    }
   ],
   "source": [
    "bond.option_adjusted_spread(value_dt, clean_price, disc_curve) * 10000"
   ]
  },
  {
   "cell_type": "markdown",
   "metadata": {},
   "source": [
    "This is small as the recovery rate is 100%."
   ]
  },
  {
   "cell_type": "markdown",
   "metadata": {},
   "source": [
    "Note the credit triangle $S \\simeq h (1-R)$ which gives"
   ]
  },
  {
   "cell_type": "code",
   "execution_count": 27,
   "metadata": {
    "execution": {
     "iopub.execute_input": "2025-08-27T21:41:20.227882Z",
     "iopub.status.busy": "2025-08-27T21:41:20.227611Z",
     "iopub.status.idle": "2025-08-27T21:41:20.231483Z",
     "shell.execute_reply": "2025-08-27T21:41:20.231109Z"
    }
   },
   "outputs": [
    {
     "data": {
      "text/plain": [
       "0.0"
      ]
     },
     "execution_count": 27,
     "metadata": {},
     "output_type": "execute_result"
    }
   ],
   "source": [
    "h * (1.0 - recovery_rate) * 10000"
   ]
  },
  {
   "cell_type": "markdown",
   "metadata": {},
   "source": [
    "This is zero as the credit triangle ignores coupons."
   ]
  },
  {
   "cell_type": "markdown",
   "metadata": {},
   "source": [
    "Let's check the recovery dependence"
   ]
  },
  {
   "cell_type": "code",
   "execution_count": 28,
   "metadata": {
    "execution": {
     "iopub.execute_input": "2025-08-27T21:41:20.233818Z",
     "iopub.status.busy": "2025-08-27T21:41:20.233571Z",
     "iopub.status.idle": "2025-08-27T21:41:20.235906Z",
     "shell.execute_reply": "2025-08-27T21:41:20.235507Z"
    }
   },
   "outputs": [],
   "source": [
    "recovery_rates = np.linspace(0.0, 1.0, 10)"
   ]
  },
  {
   "cell_type": "code",
   "execution_count": 29,
   "metadata": {
    "execution": {
     "iopub.execute_input": "2025-08-27T21:41:20.238168Z",
     "iopub.status.busy": "2025-08-27T21:41:20.237876Z",
     "iopub.status.idle": "2025-08-27T21:41:20.240996Z",
     "shell.execute_reply": "2025-08-27T21:41:20.240394Z"
    }
   },
   "outputs": [],
   "source": [
    "clean_prices = bond.clean_price_from_survival_curve(value_dt, disc_curve, survCurve, recovery_rates)"
   ]
  },
  {
   "cell_type": "code",
   "execution_count": 30,
   "metadata": {
    "execution": {
     "iopub.execute_input": "2025-08-27T21:41:20.243147Z",
     "iopub.status.busy": "2025-08-27T21:41:20.242917Z",
     "iopub.status.idle": "2025-08-27T21:41:20.255537Z",
     "shell.execute_reply": "2025-08-27T21:41:20.255097Z"
    }
   },
   "outputs": [],
   "source": [
    "optAdjSpds = bond.option_adjusted_spread(value_dt, clean_prices, disc_curve) * 10000"
   ]
  },
  {
   "cell_type": "code",
   "execution_count": 31,
   "metadata": {
    "execution": {
     "iopub.execute_input": "2025-08-27T21:41:20.257785Z",
     "iopub.status.busy": "2025-08-27T21:41:20.257498Z",
     "iopub.status.idle": "2025-08-27T21:41:20.259920Z",
     "shell.execute_reply": "2025-08-27T21:41:20.259554Z"
    }
   },
   "outputs": [],
   "source": [
    "triangleSpds = h * (1-recovery_rates) * 10000"
   ]
  },
  {
   "cell_type": "code",
   "execution_count": 32,
   "metadata": {
    "execution": {
     "iopub.execute_input": "2025-08-27T21:41:20.261953Z",
     "iopub.status.busy": "2025-08-27T21:41:20.261663Z",
     "iopub.status.idle": "2025-08-27T21:41:20.386241Z",
     "shell.execute_reply": "2025-08-27T21:41:20.385726Z"
    }
   },
   "outputs": [
    {
     "data": {
      "text/plain": [
       "<matplotlib.legend.Legend at 0x1e8b33eaba0>"
      ]
     },
     "execution_count": 32,
     "metadata": {},
     "output_type": "execute_result"
    },
    {
     "data": {
      "image/png": "[encoded data removed]",
      "text/plain": [
       "<Figure size 800x600 with 1 Axes>"
      ]
     },
     "metadata": {},
     "output_type": "display_data"
    }
   ],
   "source": [
    "plt.figure(figsize=(8,6))\n",
    "plt.plot(recovery_rates, optAdjSpds, label=\"OAS\")\n",
    "plt.plot(recovery_rates, triangleSpds, label=\"Credit Triangle\")\n",
    "plt.xlabel(\"Recovery Rates\")\n",
    "plt.ylabel(\"Spreads (bp)\")\n",
    "plt.grid()\n",
    "plt.legend()"
   ]
  },
  {
   "cell_type": "markdown",
   "metadata": {},
   "source": [
    "The credit triangle works well !"
   ]
  },
  {
   "cell_type": "markdown",
   "metadata": {},
   "source": [
    "Copyright (c) 2020 Dominic O'Kane"
   ]
  }
 ],
 "metadata": {
  "kernelspec": {
   "display_name": "base",
   "language": "python",
   "name": "python3"
  },
  "language_info": {
   "codemirror_mode": {
    "name": "ipython",
    "version": 3
   },
   "file_extension": ".py",
   "mimetype": "text/x-python",
   "name": "python",
   "nbconvert_exporter": "python",
   "pygments_lexer": "ipython3",
   "version": "3.13.5"
  }
 },
 "nbformat": 4,
 "nbformat_minor": 2
}
