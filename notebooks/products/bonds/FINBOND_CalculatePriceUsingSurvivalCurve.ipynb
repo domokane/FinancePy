{
 "cells": [
  {
   "cell_type": "markdown",
   "metadata": {},
   "source": [
    "# Calculating Bond Price using Survival Curve"
   ]
  },
  {
   "cell_type": "markdown",
   "metadata": {},
   "source": [
    "Calculate the bond price using a survival curve."
   ]
  },
  {
   "cell_type": "code",
   "execution_count": 1,
   "metadata": {
    "execution": {
     "iopub.execute_input": "2025-09-14T22:20:09.075861Z",
     "iopub.status.busy": "2025-09-14T22:20:09.075743Z",
     "iopub.status.idle": "2025-09-14T22:20:09.295683Z",
     "shell.execute_reply": "2025-09-14T22:20:09.294983Z"
    }
   },
   "outputs": [],
   "source": [
    "import numpy as np\n",
    "import matplotlib.pyplot as plt"
   ]
  },
  {
   "cell_type": "code",
   "execution_count": 2,
   "metadata": {
    "execution": {
     "iopub.execute_input": "2025-09-14T22:20:09.297243Z",
     "iopub.status.busy": "2025-09-14T22:20:09.297083Z",
     "iopub.status.idle": "2025-09-14T22:20:09.982499Z",
     "shell.execute_reply": "2025-09-14T22:20:09.981906Z"
    },
    "tags": []
   },
   "outputs": [],
   "source": [
    "from financepy.utils import *\n",
    "from financepy.market.curves import *\n",
    "from financepy.products.bonds.bond import *"
   ]
  },
  {
   "cell_type": "markdown",
   "metadata": {},
   "source": [
    "## Creating the Bond"
   ]
  },
  {
   "cell_type": "code",
   "execution_count": 3,
   "metadata": {
    "execution": {
     "iopub.execute_input": "2025-09-14T22:20:09.984548Z",
     "iopub.status.busy": "2025-09-14T22:20:09.984352Z",
     "iopub.status.idle": "2025-09-14T22:20:09.999376Z",
     "shell.execute_reply": "2025-09-14T22:20:09.999059Z"
    }
   },
   "outputs": [],
   "source": [
    "issue_dt = Date(15, 5, 2010)\n",
    "maturity_dt = Date(15, 5, 2027)\n",
    "coupon = 0.05\n",
    "freq_type = FrequencyTypes.SEMI_ANNUAL\n",
    "dc_type = DayCountTypes.ACT_ACT_ICMA\n",
    "face = 100.0 # By setting the face to 100 we expect a price of par to be 100.0"
   ]
  },
  {
   "cell_type": "code",
   "execution_count": 4,
   "metadata": {
    "execution": {
     "iopub.execute_input": "2025-09-14T22:20:10.001210Z",
     "iopub.status.busy": "2025-09-14T22:20:10.001071Z",
     "iopub.status.idle": "2025-09-14T22:20:10.004337Z",
     "shell.execute_reply": "2025-09-14T22:20:10.004065Z"
    }
   },
   "outputs": [],
   "source": [
    "bond = Bond(issue_dt, maturity_dt, coupon, freq_type, dc_type)"
   ]
  },
  {
   "cell_type": "code",
   "execution_count": 5,
   "metadata": {
    "execution": {
     "iopub.execute_input": "2025-09-14T22:20:10.005368Z",
     "iopub.status.busy": "2025-09-14T22:20:10.005248Z",
     "iopub.status.idle": "2025-09-14T22:20:10.008975Z",
     "shell.execute_reply": "2025-09-14T22:20:10.008582Z"
    },
    "tags": []
   },
   "outputs": [
    {
     "name": "stdout",
     "output_type": "stream",
     "text": [
      "OBJECT TYPE: Bond\n",
      "ISSUE DATE: 15-MAY-2010\n",
      "MATURITY DATE: 15-MAY-2027\n",
      "COUPON (%): 5.0\n",
      "FREQUENCY: FrequencyTypes.SEMI_ANNUAL\n",
      "DAY COUNT TYPE: DayCountTypes.ACT_ACT_ICMA\n",
      "EX_DIV DAYS: 0\n"
     ]
    }
   ],
   "source": [
    "print(bond)"
   ]
  },
  {
   "cell_type": "code",
   "execution_count": 6,
   "metadata": {
    "execution": {
     "iopub.execute_input": "2025-09-14T22:20:10.010352Z",
     "iopub.status.busy": "2025-09-14T22:20:10.010235Z",
     "iopub.status.idle": "2025-09-14T22:20:10.012213Z",
     "shell.execute_reply": "2025-09-14T22:20:10.011991Z"
    }
   },
   "outputs": [],
   "source": [
    "value_dt = Date(15, 5, 2020)"
   ]
  },
  {
   "cell_type": "code",
   "execution_count": 7,
   "metadata": {
    "execution": {
     "iopub.execute_input": "2025-09-14T22:20:10.013125Z",
     "iopub.status.busy": "2025-09-14T22:20:10.013010Z",
     "iopub.status.idle": "2025-09-14T22:20:10.015210Z",
     "shell.execute_reply": "2025-09-14T22:20:10.014941Z"
    }
   },
   "outputs": [
    {
     "name": "stdout",
     "output_type": "stream",
     "text": [
      " 15-NOV-2020      2.50000 \n",
      " 15-MAY-2021      2.50000 \n",
      " 15-NOV-2021      2.50000 \n",
      " 15-MAY-2022      2.50000 \n",
      " 15-NOV-2022      2.50000 \n",
      " 15-MAY-2023      2.50000 \n",
      " 15-NOV-2023      2.50000 \n",
      " 15-MAY-2024      2.50000 \n",
      " 15-NOV-2024      2.50000 \n",
      " 15-MAY-2025      2.50000 \n",
      " 15-NOV-2025      2.50000 \n",
      " 15-MAY-2026      2.50000 \n",
      " 15-NOV-2026      2.50000 \n",
      " 15-MAY-2027    102.50000 \n",
      "\n"
     ]
    }
   ],
   "source": [
    "bond.print_payments(settle_dt=value_dt, face=face)"
   ]
  },
  {
   "cell_type": "markdown",
   "metadata": {},
   "source": [
    "## Create a Discount Curve"
   ]
  },
  {
   "cell_type": "markdown",
   "metadata": {},
   "source": [
    "I create a discount curve with a 5% discount rate."
   ]
  },
  {
   "cell_type": "code",
   "execution_count": 8,
   "metadata": {
    "execution": {
     "iopub.execute_input": "2025-09-14T22:20:10.016114Z",
     "iopub.status.busy": "2025-09-14T22:20:10.015997Z",
     "iopub.status.idle": "2025-09-14T22:20:10.023396Z",
     "shell.execute_reply": "2025-09-14T22:20:10.023139Z"
    }
   },
   "outputs": [],
   "source": [
    "disc_curve = DiscountCurveFlat(value_dt, 0.05, FrequencyTypes.SEMI_ANNUAL, DayCountTypes.THIRTY_360_BOND)"
   ]
  },
  {
   "cell_type": "markdown",
   "metadata": {},
   "source": [
    "## Create Survival Curve"
   ]
  },
  {
   "cell_type": "markdown",
   "metadata": {},
   "source": [
    "I create a curve with a 0% hazard rate, i.e. it is risk free."
   ]
  },
  {
   "cell_type": "code",
   "execution_count": 9,
   "metadata": {
    "execution": {
     "iopub.execute_input": "2025-09-14T22:20:10.024914Z",
     "iopub.status.busy": "2025-09-14T22:20:10.024590Z",
     "iopub.status.idle": "2025-09-14T22:20:10.026930Z",
     "shell.execute_reply": "2025-09-14T22:20:10.026571Z"
    }
   },
   "outputs": [],
   "source": [
    "h = 0.0"
   ]
  },
  {
   "cell_type": "code",
   "execution_count": 10,
   "metadata": {
    "execution": {
     "iopub.execute_input": "2025-09-14T22:20:10.027876Z",
     "iopub.status.busy": "2025-09-14T22:20:10.027764Z",
     "iopub.status.idle": "2025-09-14T22:20:10.029947Z",
     "shell.execute_reply": "2025-09-14T22:20:10.029676Z"
    }
   },
   "outputs": [],
   "source": [
    "survCurve = DiscountCurveFlat(value_dt, h)"
   ]
  },
  {
   "cell_type": "code",
   "execution_count": 11,
   "metadata": {
    "execution": {
     "iopub.execute_input": "2025-09-14T22:20:10.030969Z",
     "iopub.status.busy": "2025-09-14T22:20:10.030856Z",
     "iopub.status.idle": "2025-09-14T22:20:10.033162Z",
     "shell.execute_reply": "2025-09-14T22:20:10.032552Z"
    }
   },
   "outputs": [],
   "source": [
    "recovery_rate = 0.0"
   ]
  },
  {
   "cell_type": "code",
   "execution_count": 12,
   "metadata": {
    "execution": {
     "iopub.execute_input": "2025-09-14T22:20:10.034522Z",
     "iopub.status.busy": "2025-09-14T22:20:10.034399Z",
     "iopub.status.idle": "2025-09-14T22:20:10.036828Z",
     "shell.execute_reply": "2025-09-14T22:20:10.036516Z"
    }
   },
   "outputs": [],
   "source": [
    "dirty_price = bond.dirty_price_from_survival_curve(value_dt, disc_curve, survCurve, recovery_rate)"
   ]
  },
  {
   "cell_type": "code",
   "execution_count": 13,
   "metadata": {
    "execution": {
     "iopub.execute_input": "2025-09-14T22:20:10.037749Z",
     "iopub.status.busy": "2025-09-14T22:20:10.037641Z",
     "iopub.status.idle": "2025-09-14T22:20:10.039843Z",
     "shell.execute_reply": "2025-09-14T22:20:10.039499Z"
    }
   },
   "outputs": [
    {
     "name": "stdout",
     "output_type": "stream",
     "text": [
      "DIRTY PRICE: 100.000000\n"
     ]
    }
   ],
   "source": [
    "print(\"DIRTY PRICE: %9.6f\" %dirty_price)"
   ]
  },
  {
   "cell_type": "code",
   "execution_count": 14,
   "metadata": {
    "execution": {
     "iopub.execute_input": "2025-09-14T22:20:10.041386Z",
     "iopub.status.busy": "2025-09-14T22:20:10.041022Z",
     "iopub.status.idle": "2025-09-14T22:20:10.044201Z",
     "shell.execute_reply": "2025-09-14T22:20:10.043943Z"
    }
   },
   "outputs": [],
   "source": [
    "clean_price = bond.clean_price_from_survival_curve(value_dt, disc_curve, survCurve, recovery_rate)"
   ]
  },
  {
   "cell_type": "code",
   "execution_count": 15,
   "metadata": {
    "execution": {
     "iopub.execute_input": "2025-09-14T22:20:10.045261Z",
     "iopub.status.busy": "2025-09-14T22:20:10.045120Z",
     "iopub.status.idle": "2025-09-14T22:20:10.047735Z",
     "shell.execute_reply": "2025-09-14T22:20:10.047460Z"
    }
   },
   "outputs": [
    {
     "name": "stdout",
     "output_type": "stream",
     "text": [
      "CLEAN PRICE: 100.000000\n"
     ]
    }
   ],
   "source": [
    "print(\"CLEAN PRICE: %9.6f\" %clean_price)"
   ]
  },
  {
   "cell_type": "markdown",
   "metadata": {},
   "source": [
    "The bond prices at par as expected."
   ]
  },
  {
   "cell_type": "markdown",
   "metadata": {},
   "source": [
    "## Non-Zero Default Risk"
   ]
  },
  {
   "cell_type": "markdown",
   "metadata": {},
   "source": [
    "Now I change the hazard rate."
   ]
  },
  {
   "cell_type": "code",
   "execution_count": 16,
   "metadata": {
    "execution": {
     "iopub.execute_input": "2025-09-14T22:20:10.049144Z",
     "iopub.status.busy": "2025-09-14T22:20:10.048858Z",
     "iopub.status.idle": "2025-09-14T22:20:10.051292Z",
     "shell.execute_reply": "2025-09-14T22:20:10.050991Z"
    }
   },
   "outputs": [],
   "source": [
    "h = 0.02"
   ]
  },
  {
   "cell_type": "code",
   "execution_count": 17,
   "metadata": {
    "execution": {
     "iopub.execute_input": "2025-09-14T22:20:10.052539Z",
     "iopub.status.busy": "2025-09-14T22:20:10.052265Z",
     "iopub.status.idle": "2025-09-14T22:20:10.054748Z",
     "shell.execute_reply": "2025-09-14T22:20:10.054421Z"
    }
   },
   "outputs": [],
   "source": [
    "survCurve = DiscountCurveFlat(value_dt, h)"
   ]
  },
  {
   "cell_type": "code",
   "execution_count": 18,
   "metadata": {
    "execution": {
     "iopub.execute_input": "2025-09-14T22:20:10.055870Z",
     "iopub.status.busy": "2025-09-14T22:20:10.055758Z",
     "iopub.status.idle": "2025-09-14T22:20:10.057931Z",
     "shell.execute_reply": "2025-09-14T22:20:10.057579Z"
    }
   },
   "outputs": [],
   "source": [
    "clean_price = bond.clean_price_from_survival_curve(value_dt, disc_curve, survCurve, recovery_rate)"
   ]
  },
  {
   "cell_type": "code",
   "execution_count": 19,
   "metadata": {
    "execution": {
     "iopub.execute_input": "2025-09-14T22:20:10.058848Z",
     "iopub.status.busy": "2025-09-14T22:20:10.058739Z",
     "iopub.status.idle": "2025-09-14T22:20:10.060957Z",
     "shell.execute_reply": "2025-09-14T22:20:10.060625Z"
    }
   },
   "outputs": [
    {
     "name": "stdout",
     "output_type": "stream",
     "text": [
      "CLEAN PRICE: 88.774861\n"
     ]
    }
   ],
   "source": [
    "print(\"CLEAN PRICE: %9.6f\" %clean_price)"
   ]
  },
  {
   "cell_type": "markdown",
   "metadata": {},
   "source": [
    "The bond price falls as it should. Nopw let's make the recovery rate 40%"
   ]
  },
  {
   "cell_type": "code",
   "execution_count": 20,
   "metadata": {
    "execution": {
     "iopub.execute_input": "2025-09-14T22:20:10.061933Z",
     "iopub.status.busy": "2025-09-14T22:20:10.061820Z",
     "iopub.status.idle": "2025-09-14T22:20:10.064635Z",
     "shell.execute_reply": "2025-09-14T22:20:10.063738Z"
    }
   },
   "outputs": [],
   "source": [
    "recovery_rate = 0.40"
   ]
  },
  {
   "cell_type": "code",
   "execution_count": 21,
   "metadata": {
    "execution": {
     "iopub.execute_input": "2025-09-14T22:20:10.065571Z",
     "iopub.status.busy": "2025-09-14T22:20:10.065446Z",
     "iopub.status.idle": "2025-09-14T22:20:10.067526Z",
     "shell.execute_reply": "2025-09-14T22:20:10.067247Z"
    }
   },
   "outputs": [],
   "source": [
    "clean_price = bond.clean_price_from_survival_curve(value_dt, disc_curve, survCurve, recovery_rate)"
   ]
  },
  {
   "cell_type": "code",
   "execution_count": 22,
   "metadata": {
    "execution": {
     "iopub.execute_input": "2025-09-14T22:20:10.068430Z",
     "iopub.status.busy": "2025-09-14T22:20:10.068319Z",
     "iopub.status.idle": "2025-09-14T22:20:10.070441Z",
     "shell.execute_reply": "2025-09-14T22:20:10.070254Z"
    }
   },
   "outputs": [
    {
     "name": "stdout",
     "output_type": "stream",
     "text": [
      "CLEAN PRICE: 93.210160\n"
     ]
    }
   ],
   "source": [
    "print(\"CLEAN PRICE: %9.6f\" %clean_price)"
   ]
  },
  {
   "cell_type": "markdown",
   "metadata": {},
   "source": [
    "The price increases as more is recovered in default. What if we make the recovery rate 100% ?"
   ]
  },
  {
   "cell_type": "code",
   "execution_count": 23,
   "metadata": {
    "execution": {
     "iopub.execute_input": "2025-09-14T22:20:10.071403Z",
     "iopub.status.busy": "2025-09-14T22:20:10.071294Z",
     "iopub.status.idle": "2025-09-14T22:20:10.073177Z",
     "shell.execute_reply": "2025-09-14T22:20:10.072874Z"
    }
   },
   "outputs": [],
   "source": [
    "recovery_rate = 1.0"
   ]
  },
  {
   "cell_type": "code",
   "execution_count": 24,
   "metadata": {
    "execution": {
     "iopub.execute_input": "2025-09-14T22:20:10.074042Z",
     "iopub.status.busy": "2025-09-14T22:20:10.073927Z",
     "iopub.status.idle": "2025-09-14T22:20:10.076201Z",
     "shell.execute_reply": "2025-09-14T22:20:10.075822Z"
    }
   },
   "outputs": [],
   "source": [
    "clean_price = bond.clean_price_from_survival_curve(value_dt, disc_curve, survCurve, recovery_rate)"
   ]
  },
  {
   "cell_type": "code",
   "execution_count": 25,
   "metadata": {
    "execution": {
     "iopub.execute_input": "2025-09-14T22:20:10.077217Z",
     "iopub.status.busy": "2025-09-14T22:20:10.077109Z",
     "iopub.status.idle": "2025-09-14T22:20:10.079084Z",
     "shell.execute_reply": "2025-09-14T22:20:10.078827Z"
    }
   },
   "outputs": [
    {
     "name": "stdout",
     "output_type": "stream",
     "text": [
      "CLEAN PRICE: 99.863108\n"
     ]
    }
   ],
   "source": [
    "print(\"CLEAN PRICE: %9.6f\" %clean_price)"
   ]
  },
  {
   "cell_type": "markdown",
   "metadata": {},
   "source": [
    "The price goes up but not to par. This is because a default will still cause coupons to be lost as they are zero recovery."
   ]
  },
  {
   "cell_type": "markdown",
   "metadata": {},
   "source": [
    "## Option Adjusted Spread vs Credit Triangle"
   ]
  },
  {
   "cell_type": "markdown",
   "metadata": {},
   "source": [
    "One measure of credit spread is the OAS. We calculate it."
   ]
  },
  {
   "cell_type": "code",
   "execution_count": 26,
   "metadata": {
    "execution": {
     "iopub.execute_input": "2025-09-14T22:20:10.080060Z",
     "iopub.status.busy": "2025-09-14T22:20:10.079949Z",
     "iopub.status.idle": "2025-09-14T22:20:10.084259Z",
     "shell.execute_reply": "2025-09-14T22:20:10.083987Z"
    }
   },
   "outputs": [
    {
     "data": {
      "text/plain": [
       "np.float64(2.342586226695878)"
      ]
     },
     "execution_count": 26,
     "metadata": {},
     "output_type": "execute_result"
    }
   ],
   "source": [
    "bond.option_adjusted_spread(value_dt, clean_price, disc_curve) * 10000"
   ]
  },
  {
   "cell_type": "markdown",
   "metadata": {},
   "source": [
    "This is small as the recovery rate is 100%."
   ]
  },
  {
   "cell_type": "markdown",
   "metadata": {},
   "source": [
    "Note the credit triangle $S \\simeq h (1-R)$ which gives"
   ]
  },
  {
   "cell_type": "code",
   "execution_count": 27,
   "metadata": {
    "execution": {
     "iopub.execute_input": "2025-09-14T22:20:10.085431Z",
     "iopub.status.busy": "2025-09-14T22:20:10.085320Z",
     "iopub.status.idle": "2025-09-14T22:20:10.087602Z",
     "shell.execute_reply": "2025-09-14T22:20:10.087435Z"
    }
   },
   "outputs": [
    {
     "data": {
      "text/plain": [
       "0.0"
      ]
     },
     "execution_count": 27,
     "metadata": {},
     "output_type": "execute_result"
    }
   ],
   "source": [
    "h * (1.0 - recovery_rate) * 10000"
   ]
  },
  {
   "cell_type": "markdown",
   "metadata": {},
   "source": [
    "This is zero as the credit triangle ignores coupons."
   ]
  },
  {
   "cell_type": "markdown",
   "metadata": {},
   "source": [
    "Let's check the recovery dependence"
   ]
  },
  {
   "cell_type": "code",
   "execution_count": 28,
   "metadata": {
    "execution": {
     "iopub.execute_input": "2025-09-14T22:20:10.088565Z",
     "iopub.status.busy": "2025-09-14T22:20:10.088454Z",
     "iopub.status.idle": "2025-09-14T22:20:10.090704Z",
     "shell.execute_reply": "2025-09-14T22:20:10.090441Z"
    }
   },
   "outputs": [],
   "source": [
    "recovery_rates = np.linspace(0.0, 1.0, 10)"
   ]
  },
  {
   "cell_type": "code",
   "execution_count": 29,
   "metadata": {
    "execution": {
     "iopub.execute_input": "2025-09-14T22:20:10.091588Z",
     "iopub.status.busy": "2025-09-14T22:20:10.091481Z",
     "iopub.status.idle": "2025-09-14T22:20:10.093787Z",
     "shell.execute_reply": "2025-09-14T22:20:10.093509Z"
    }
   },
   "outputs": [],
   "source": [
    "clean_prices = bond.clean_price_from_survival_curve(value_dt, disc_curve, survCurve, recovery_rates)"
   ]
  },
  {
   "cell_type": "code",
   "execution_count": 30,
   "metadata": {
    "execution": {
     "iopub.execute_input": "2025-09-14T22:20:10.094705Z",
     "iopub.status.busy": "2025-09-14T22:20:10.094596Z",
     "iopub.status.idle": "2025-09-14T22:20:10.101813Z",
     "shell.execute_reply": "2025-09-14T22:20:10.101522Z"
    }
   },
   "outputs": [],
   "source": [
    "optAdjSpds = bond.option_adjusted_spread(value_dt, clean_prices, disc_curve) * 10000"
   ]
  },
  {
   "cell_type": "code",
   "execution_count": 31,
   "metadata": {
    "execution": {
     "iopub.execute_input": "2025-09-14T22:20:10.103013Z",
     "iopub.status.busy": "2025-09-14T22:20:10.102893Z",
     "iopub.status.idle": "2025-09-14T22:20:10.104800Z",
     "shell.execute_reply": "2025-09-14T22:20:10.104540Z"
    }
   },
   "outputs": [],
   "source": [
    "triangleSpds = h * (1-recovery_rates) * 10000"
   ]
  },
  {
   "cell_type": "code",
   "execution_count": 32,
   "metadata": {
    "execution": {
     "iopub.execute_input": "2025-09-14T22:20:10.105945Z",
     "iopub.status.busy": "2025-09-14T22:20:10.105756Z",
     "iopub.status.idle": "2025-09-14T22:20:10.169058Z",
     "shell.execute_reply": "2025-09-14T22:20:10.168702Z"
    }
   },
   "outputs": [
    {
     "data": {
      "text/plain": [
       "<matplotlib.legend.Legend at 0x22ae17d1a90>"
      ]
     },
     "execution_count": 32,
     "metadata": {},
     "output_type": "execute_result"
    },
    {
     "data": {
      "image/png": "[encoded data removed]",
      "text/plain": [
       "<Figure size 800x600 with 1 Axes>"
      ]
     },
     "metadata": {},
     "output_type": "display_data"
    }
   ],
   "source": [
    "plt.figure(figsize=(8,6))\n",
    "plt.plot(recovery_rates, optAdjSpds, label=\"OAS\")\n",
    "plt.plot(recovery_rates, triangleSpds, label=\"Credit Triangle\")\n",
    "plt.xlabel(\"Recovery Rates\")\n",
    "plt.ylabel(\"Spreads (bp)\")\n",
    "plt.grid()\n",
    "plt.legend()"
   ]
  },
  {
   "cell_type": "markdown",
   "metadata": {},
   "source": [
    "The credit triangle works well !"
   ]
  },
  {
   "cell_type": "markdown",
   "metadata": {},
   "source": [
    "Copyright (c) 2020 Dominic O'Kane"
   ]
  }
 ],
 "metadata": {
  "kernelspec": {
   "display_name": "base",
   "language": "python",
   "name": "python3"
  },
  "language_info": {
   "codemirror_mode": {
    "name": "ipython",
    "version": 3
   },
   "file_extension": ".py",
   "mimetype": "text/x-python",
   "name": "python",
   "nbconvert_exporter": "python",
   "pygments_lexer": "ipython3",
   "version": "3.13.7"
  }
 },
 "nbformat": 4,
 "nbformat_minor": 2
}
