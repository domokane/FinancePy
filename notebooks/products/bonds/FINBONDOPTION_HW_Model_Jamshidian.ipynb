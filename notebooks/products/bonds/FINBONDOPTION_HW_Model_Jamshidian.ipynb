{
 "cells": [
  {
   "cell_type": "markdown",
   "metadata": {},
   "source": [
    "# European Bond Option Pricing - HW Model Jamshidian"
   ]
  },
  {
   "cell_type": "markdown",
   "metadata": {},
   "source": [
    "Jamshidian's model is a fast way to price European bond options in the HW model. Her we value an option on a coupon paying bond using the Hull-White model and comparing the tree and the Jamshidian model for European Bond Options"
   ]
  },
  {
   "cell_type": "code",
   "execution_count": 1,
   "metadata": {
    "execution": {
     "iopub.execute_input": "2025-08-27T22:24:13.865499Z",
     "iopub.status.busy": "2025-08-27T22:24:13.865278Z",
     "iopub.status.idle": "2025-08-27T22:24:14.324055Z",
     "shell.execute_reply": "2025-08-27T22:24:14.323637Z"
    }
   },
   "outputs": [],
   "source": [
    "import numpy as np\n",
    "import matplotlib.pyplot as plt\n",
    "import time"
   ]
  },
  {
   "cell_type": "code",
   "execution_count": 2,
   "metadata": {
    "execution": {
     "iopub.execute_input": "2025-08-27T22:24:14.326708Z",
     "iopub.status.busy": "2025-08-27T22:24:14.326357Z",
     "iopub.status.idle": "2025-08-27T22:24:15.350337Z",
     "shell.execute_reply": "2025-08-27T22:24:15.349942Z"
    }
   },
   "outputs": [],
   "source": [
    "from financepy.utils import *\n",
    "from financepy.market.curves import *\n",
    "from financepy.models.hw_tree import HWTree, FinHWEuropeanCalcType\n",
    "from financepy.products.bonds import *"
   ]
  },
  {
   "cell_type": "markdown",
   "metadata": {},
   "source": [
    "## Set up Discount Curve"
   ]
  },
  {
   "cell_type": "code",
   "execution_count": 3,
   "metadata": {
    "execution": {
     "iopub.execute_input": "2025-08-27T22:24:15.352880Z",
     "iopub.status.busy": "2025-08-27T22:24:15.352491Z",
     "iopub.status.idle": "2025-08-27T22:24:15.369618Z",
     "shell.execute_reply": "2025-08-27T22:24:15.368984Z"
    }
   },
   "outputs": [],
   "source": [
    "settle_dt = Date(1, 12, 2019)"
   ]
  },
  {
   "cell_type": "markdown",
   "metadata": {},
   "source": [
    "Set up discount curve"
   ]
  },
  {
   "cell_type": "code",
   "execution_count": 4,
   "metadata": {
    "execution": {
     "iopub.execute_input": "2025-08-27T22:24:15.372053Z",
     "iopub.status.busy": "2025-08-27T22:24:15.371770Z",
     "iopub.status.idle": "2025-08-27T22:24:15.379898Z",
     "shell.execute_reply": "2025-08-27T22:24:15.379275Z"
    }
   },
   "outputs": [],
   "source": [
    "rate = 0.05\n",
    "dc_type = DayCountTypes.THIRTY_360_BOND\n",
    "fixed_freq = FrequencyTypes.SEMI_ANNUAL\n",
    "discount_curve = DiscountCurveFlat(settle_dt, rate, fixed_freq, dc_type)"
   ]
  },
  {
   "cell_type": "markdown",
   "metadata": {},
   "source": [
    "## Set up the Bond Option"
   ]
  },
  {
   "cell_type": "markdown",
   "metadata": {},
   "source": [
    "First create the bond"
   ]
  },
  {
   "cell_type": "code",
   "execution_count": 5,
   "metadata": {
    "execution": {
     "iopub.execute_input": "2025-08-27T22:24:15.382341Z",
     "iopub.status.busy": "2025-08-27T22:24:15.382065Z",
     "iopub.status.idle": "2025-08-27T22:24:15.386315Z",
     "shell.execute_reply": "2025-08-27T22:24:15.385737Z"
    }
   },
   "outputs": [],
   "source": [
    "issue_dt = Date(1,12,2018)\n",
    "maturity_dt = issue_dt.add_tenor(\"10Y\")\n",
    "coupon = 0.06\n",
    "freq_type = FrequencyTypes.SEMI_ANNUAL\n",
    "dc_type = DayCountTypes.THIRTY_360_BOND\n",
    "bond = Bond(issue_dt, maturity_dt, coupon, freq_type, dc_type)"
   ]
  },
  {
   "cell_type": "markdown",
   "metadata": {},
   "source": [
    "Let's first price the bond on the libor curve"
   ]
  },
  {
   "cell_type": "code",
   "execution_count": 6,
   "metadata": {
    "execution": {
     "iopub.execute_input": "2025-08-27T22:24:15.388829Z",
     "iopub.status.busy": "2025-08-27T22:24:15.388576Z",
     "iopub.status.idle": "2025-08-27T22:24:15.393666Z",
     "shell.execute_reply": "2025-08-27T22:24:15.393094Z"
    }
   },
   "outputs": [
    {
     "name": "stdout",
     "output_type": "stream",
     "text": [
      "Fixed Income Clean Price:   107.177\n",
      "Fixed Income Dirty Price:   107.177\n"
     ]
    }
   ],
   "source": [
    "cp = bond.clean_price_from_discount_curve(settle_dt, discount_curve)\n",
    "dp = bond.dirty_price_from_discount_curve(settle_dt, discount_curve)\n",
    "print(\"Fixed Income Clean Price: %9.3f\"% cp)\n",
    "print(\"Fixed Income Dirty Price: %9.3f\"% dp)"
   ]
  },
  {
   "cell_type": "markdown",
   "metadata": {},
   "source": [
    "It's par as the discount rate is the same as the swap rate and the swap cash flows are 30/360 so like bond flows."
   ]
  },
  {
   "cell_type": "code",
   "execution_count": 7,
   "metadata": {
    "execution": {
     "iopub.execute_input": "2025-08-27T22:24:15.395749Z",
     "iopub.status.busy": "2025-08-27T22:24:15.395472Z",
     "iopub.status.idle": "2025-08-27T22:24:15.398948Z",
     "shell.execute_reply": "2025-08-27T22:24:15.398385Z"
    }
   },
   "outputs": [
    {
     "name": "stdout",
     "output_type": "stream",
     "text": [
      " 01-JUN-2020      3.00000 \n",
      " 01-DEC-2020      3.00000 \n",
      " 01-JUN-2021      3.00000 \n",
      " 01-DEC-2021      3.00000 \n",
      " 01-JUN-2022      3.00000 \n",
      " 01-DEC-2022      3.00000 \n",
      " 01-JUN-2023      3.00000 \n",
      " 01-DEC-2023      3.00000 \n",
      " 01-JUN-2024      3.00000 \n",
      " 01-DEC-2024      3.00000 \n",
      " 01-JUN-2025      3.00000 \n",
      " 01-DEC-2025      3.00000 \n",
      " 01-JUN-2026      3.00000 \n",
      " 01-DEC-2026      3.00000 \n",
      " 01-JUN-2027      3.00000 \n",
      " 01-DEC-2027      3.00000 \n",
      " 01-JUN-2028      3.00000 \n",
      " 01-DEC-2028    103.00000 \n",
      "\n"
     ]
    }
   ],
   "source": [
    "bond.print_payments(settle_dt)"
   ]
  },
  {
   "cell_type": "markdown",
   "metadata": {},
   "source": [
    "## Create the Bond Options"
   ]
  },
  {
   "cell_type": "markdown",
   "metadata": {},
   "source": [
    "Then define and create the options"
   ]
  },
  {
   "cell_type": "code",
   "execution_count": 8,
   "metadata": {
    "execution": {
     "iopub.execute_input": "2025-08-27T22:24:15.401522Z",
     "iopub.status.busy": "2025-08-27T22:24:15.401249Z",
     "iopub.status.idle": "2025-08-27T22:24:15.404519Z",
     "shell.execute_reply": "2025-08-27T22:24:15.403911Z"
    }
   },
   "outputs": [],
   "source": [
    "expiry_dt = settle_dt.add_tenor(\"18m\")\n",
    "strike_price = 105.0\n",
    "face_amount = 100.0"
   ]
  },
  {
   "cell_type": "code",
   "execution_count": 9,
   "metadata": {
    "execution": {
     "iopub.execute_input": "2025-08-27T22:24:15.406746Z",
     "iopub.status.busy": "2025-08-27T22:24:15.406512Z",
     "iopub.status.idle": "2025-08-27T22:24:15.409341Z",
     "shell.execute_reply": "2025-08-27T22:24:15.408847Z"
    }
   },
   "outputs": [],
   "source": [
    "europeanCallBondOption = BondOption(bond, expiry_dt, strike_price, OptionTypes.EUROPEAN_CALL)"
   ]
  },
  {
   "cell_type": "code",
   "execution_count": 10,
   "metadata": {
    "execution": {
     "iopub.execute_input": "2025-08-27T22:24:15.411268Z",
     "iopub.status.busy": "2025-08-27T22:24:15.411013Z",
     "iopub.status.idle": "2025-08-27T22:24:15.413685Z",
     "shell.execute_reply": "2025-08-27T22:24:15.413239Z"
    }
   },
   "outputs": [],
   "source": [
    "europeanPutBondOption = BondOption(bond, expiry_dt, strike_price, OptionTypes.EUROPEAN_PUT)"
   ]
  },
  {
   "cell_type": "markdown",
   "metadata": {},
   "source": [
    "Let's look at the forward price to calculate intrinsic."
   ]
  },
  {
   "cell_type": "code",
   "execution_count": 11,
   "metadata": {
    "execution": {
     "iopub.execute_input": "2025-08-27T22:24:15.416381Z",
     "iopub.status.busy": "2025-08-27T22:24:15.416128Z",
     "iopub.status.idle": "2025-08-27T22:24:15.419806Z",
     "shell.execute_reply": "2025-08-27T22:24:15.419272Z"
    }
   },
   "outputs": [
    {
     "name": "stdout",
     "output_type": "stream",
     "text": [
      "Fixed Income Clean Price:   106.191\n",
      "Fixed Income Dirty Price:   106.191\n"
     ]
    }
   ],
   "source": [
    "cp = bond.clean_price_from_discount_curve(expiry_dt, discount_curve)\n",
    "dp = bond.dirty_price_from_discount_curve(expiry_dt, discount_curve)\n",
    "print(\"Fixed Income Clean Price: %9.3f\"% cp)\n",
    "print(\"Fixed Income Dirty Price: %9.3f\"% dp)"
   ]
  },
  {
   "cell_type": "code",
   "execution_count": 12,
   "metadata": {
    "execution": {
     "iopub.execute_input": "2025-08-27T22:24:15.421954Z",
     "iopub.status.busy": "2025-08-27T22:24:15.421723Z",
     "iopub.status.idle": "2025-08-27T22:24:15.424650Z",
     "shell.execute_reply": "2025-08-27T22:24:15.424137Z"
    }
   },
   "outputs": [],
   "source": [
    "df = discount_curve.df(expiry_dt)"
   ]
  },
  {
   "cell_type": "code",
   "execution_count": 13,
   "metadata": {
    "execution": {
     "iopub.execute_input": "2025-08-27T22:24:15.427072Z",
     "iopub.status.busy": "2025-08-27T22:24:15.426762Z",
     "iopub.status.idle": "2025-08-27T22:24:15.429688Z",
     "shell.execute_reply": "2025-08-27T22:24:15.429128Z"
    }
   },
   "outputs": [],
   "source": [
    "CallPx = max(cp - strike_price,0) * df"
   ]
  },
  {
   "cell_type": "code",
   "execution_count": 14,
   "metadata": {
    "execution": {
     "iopub.execute_input": "2025-08-27T22:24:15.431998Z",
     "iopub.status.busy": "2025-08-27T22:24:15.431775Z",
     "iopub.status.idle": "2025-08-27T22:24:15.434807Z",
     "shell.execute_reply": "2025-08-27T22:24:15.434287Z"
    }
   },
   "outputs": [],
   "source": [
    "PutPx = max(strike_price - cp,0) * df"
   ]
  },
  {
   "cell_type": "code",
   "execution_count": 15,
   "metadata": {
    "execution": {
     "iopub.execute_input": "2025-08-27T22:24:15.436994Z",
     "iopub.status.busy": "2025-08-27T22:24:15.436769Z",
     "iopub.status.idle": "2025-08-27T22:24:15.439940Z",
     "shell.execute_reply": "2025-08-27T22:24:15.439478Z"
    }
   },
   "outputs": [
    {
     "name": "stdout",
     "output_type": "stream",
     "text": [
      "1.1056729769751705 0.0\n"
     ]
    }
   ],
   "source": [
    "print(CallPx, PutPx)"
   ]
  },
  {
   "cell_type": "markdown",
   "metadata": {},
   "source": [
    "## Setting up Models"
   ]
  },
  {
   "cell_type": "markdown",
   "metadata": {},
   "source": [
    "Set up all three bond option model"
   ]
  },
  {
   "cell_type": "code",
   "execution_count": 16,
   "metadata": {
    "execution": {
     "iopub.execute_input": "2025-08-27T22:24:15.441925Z",
     "iopub.status.busy": "2025-08-27T22:24:15.441642Z",
     "iopub.status.idle": "2025-08-27T22:24:15.444822Z",
     "shell.execute_reply": "2025-08-27T22:24:15.444444Z"
    }
   },
   "outputs": [],
   "source": [
    "sigma = 0.01\n",
    "a = 0.1\n",
    "num_steps = 200\n",
    "modelJamshidian = HWTree(sigma, a, num_steps, FinHWEuropeanCalcType.JAMSHIDIAN)\n",
    "modelExpiryOnly = HWTree(sigma, a, num_steps, FinHWEuropeanCalcType.EXPIRY_ONLY)\n",
    "modelExpiryTree = HWTree(sigma, a, num_steps, FinHWEuropeanCalcType.EXPIRY_TREE)"
   ]
  },
  {
   "cell_type": "markdown",
   "metadata": {},
   "source": [
    "## Comparing Jamshidian and Tree Implementations"
   ]
  },
  {
   "cell_type": "code",
   "execution_count": 17,
   "metadata": {
    "execution": {
     "iopub.execute_input": "2025-08-27T22:24:15.446652Z",
     "iopub.status.busy": "2025-08-27T22:24:15.446406Z",
     "iopub.status.idle": "2025-08-27T22:24:15.491429Z",
     "shell.execute_reply": "2025-08-27T22:24:15.490936Z"
    }
   },
   "outputs": [
    {
     "name": "stdout",
     "output_type": "stream",
     "text": [
      "European Call Jamshidian  Value:   2.57837\n",
      "European Call Expiry Only Value:   4.47687\n",
      "European Call Expiry Tree Value:   2.58983\n"
     ]
    }
   ],
   "source": [
    "ec1 = europeanCallBondOption.value(settle_dt, discount_curve, modelJamshidian)\n",
    "ec2 = europeanCallBondOption.value(settle_dt, discount_curve, modelExpiryOnly)\n",
    "ec3 = europeanCallBondOption.value(settle_dt, discount_curve, modelExpiryTree)\n",
    "print(\"European Call Jamshidian  Value: %9.5f\" % ec1)\n",
    "print(\"European Call Expiry Only Value: %9.5f\" % ec2)\n",
    "print(\"European Call Expiry Tree Value: %9.5f\" % ec3)"
   ]
  },
  {
   "cell_type": "code",
   "execution_count": 18,
   "metadata": {
    "execution": {
     "iopub.execute_input": "2025-08-27T22:24:15.493332Z",
     "iopub.status.busy": "2025-08-27T22:24:15.493115Z",
     "iopub.status.idle": "2025-08-27T22:24:15.500110Z",
     "shell.execute_reply": "2025-08-27T22:24:15.499735Z"
    }
   },
   "outputs": [
    {
     "name": "stdout",
     "output_type": "stream",
     "text": [
      "European Put Jamshidian Value:    1.49916\n",
      "European Put Expiry Only Value:   0.60916\n",
      "European Put Expiry Tree Value:   1.50772\n"
     ]
    }
   ],
   "source": [
    "ep1 = europeanPutBondOption.value(settle_dt, discount_curve, modelJamshidian)\n",
    "ep2 = europeanPutBondOption.value(settle_dt, discount_curve, modelExpiryOnly)\n",
    "ep3 = europeanPutBondOption.value(settle_dt, discount_curve, modelExpiryTree)\n",
    "print(\"European Put Jamshidian Value:  %9.5f\" % ep1)\n",
    "print(\"European Put Expiry Only Value: %9.5f\" % ep2)\n",
    "print(\"European Put Expiry Tree Value: %9.5f\" % ep3)"
   ]
  },
  {
   "cell_type": "markdown",
   "metadata": {},
   "source": [
    "## Timing Comparisons"
   ]
  },
  {
   "cell_type": "code",
   "execution_count": 19,
   "metadata": {
    "execution": {
     "iopub.execute_input": "2025-08-27T22:24:15.502217Z",
     "iopub.status.busy": "2025-08-27T22:24:15.502014Z",
     "iopub.status.idle": "2025-08-27T22:24:20.673334Z",
     "shell.execute_reply": "2025-08-27T22:24:20.672675Z"
    }
   },
   "outputs": [
    {
     "name": "stdout",
     "output_type": "stream",
     "text": [
      "640 μs ± 38.2 μs per loop (mean ± std. dev. of 7 runs, 1,000 loops each)\n"
     ]
    }
   ],
   "source": [
    "%timeit ep1 = europeanPutBondOption.value(settle_dt, discount_curve, modelJamshidian)"
   ]
  },
  {
   "cell_type": "code",
   "execution_count": 20,
   "metadata": {
    "execution": {
     "iopub.execute_input": "2025-08-27T22:24:20.675362Z",
     "iopub.status.busy": "2025-08-27T22:24:20.675061Z",
     "iopub.status.idle": "2025-08-27T22:24:22.334384Z",
     "shell.execute_reply": "2025-08-27T22:24:22.333662Z"
    }
   },
   "outputs": [
    {
     "name": "stdout",
     "output_type": "stream",
     "text": [
      "2.03 ms ± 20.2 μs per loop (mean ± std. dev. of 7 runs, 100 loops each)\n"
     ]
    }
   ],
   "source": [
    "%timeit ep2 = europeanPutBondOption.value(settle_dt, discount_curve, modelExpiryOnly)"
   ]
  },
  {
   "cell_type": "code",
   "execution_count": 21,
   "metadata": {
    "execution": {
     "iopub.execute_input": "2025-08-27T22:24:22.336372Z",
     "iopub.status.busy": "2025-08-27T22:24:22.336081Z",
     "iopub.status.idle": "2025-08-27T22:24:25.846650Z",
     "shell.execute_reply": "2025-08-27T22:24:25.845962Z"
    }
   },
   "outputs": [
    {
     "name": "stdout",
     "output_type": "stream",
     "text": [
      "423 μs ± 25.9 μs per loop (mean ± std. dev. of 7 runs, 1,000 loops each)\n"
     ]
    }
   ],
   "source": [
    "%timeit ep3 = europeanPutBondOption.value(settle_dt, discount_curve, modelExpiryTree)"
   ]
  },
  {
   "cell_type": "markdown",
   "metadata": {},
   "source": [
    "Interestingly, the expiry tree is fastest. Possibly because the Jamshidian main loop has not been Numba'd"
   ]
  },
  {
   "cell_type": "markdown",
   "metadata": {},
   "source": [
    "## Strike Dependency"
   ]
  },
  {
   "cell_type": "code",
   "execution_count": 22,
   "metadata": {
    "execution": {
     "iopub.execute_input": "2025-08-27T22:24:25.848590Z",
     "iopub.status.busy": "2025-08-27T22:24:25.848392Z",
     "iopub.status.idle": "2025-08-27T22:24:25.851132Z",
     "shell.execute_reply": "2025-08-27T22:24:25.850610Z"
    }
   },
   "outputs": [],
   "source": [
    "strikes = np.linspace(70,130,31)"
   ]
  },
  {
   "cell_type": "code",
   "execution_count": 23,
   "metadata": {
    "execution": {
     "iopub.execute_input": "2025-08-27T22:24:25.852880Z",
     "iopub.status.busy": "2025-08-27T22:24:25.852613Z",
     "iopub.status.idle": "2025-08-27T22:24:25.953293Z",
     "shell.execute_reply": "2025-08-27T22:24:25.952619Z"
    }
   },
   "outputs": [
    {
     "name": "stdout",
     "output_type": "stream",
     "text": [
      "K:  70.00000 JAMSHIDIAN:  33.57671  EXPIRY_ONLY:  36.39060  EXPIRY_TREE:  33.60499 \n",
      "K:  72.00000 JAMSHIDIAN:  31.71969  EXPIRY_ONLY:  34.53215  EXPIRY_TREE:  31.74654 \n",
      "K:  74.00000 JAMSHIDIAN:  29.86267  EXPIRY_ONLY:  32.67370  EXPIRY_TREE:  29.88809 \n",
      "K:  76.00000 JAMSHIDIAN:  28.00566  EXPIRY_ONLY:  30.81525  EXPIRY_TREE:  28.02964 \n",
      "K:  78.00000 JAMSHIDIAN:  26.14865  EXPIRY_ONLY:  28.95680  EXPIRY_TREE:  26.17119 \n",
      "K:  80.00000 JAMSHIDIAN:  24.29164  EXPIRY_ONLY:  27.09835  EXPIRY_TREE:  24.31274 \n",
      "K:  82.00000 JAMSHIDIAN:  22.43463  EXPIRY_ONLY:  25.23990  EXPIRY_TREE:  22.45429 \n",
      "K:  84.00000 JAMSHIDIAN:  20.57763  EXPIRY_ONLY:  23.38145  EXPIRY_TREE:  20.59584 \n",
      "K:  86.00000 JAMSHIDIAN:  18.72064  EXPIRY_ONLY:  21.52300  EXPIRY_TREE:  18.73740 \n",
      "K:  88.00000 JAMSHIDIAN:  16.86373  EXPIRY_ONLY:  19.66455  EXPIRY_TREE:  16.87905 \n",
      "K:  90.00000 JAMSHIDIAN:  15.00728  EXPIRY_ONLY:  17.80613  EXPIRY_TREE:  15.02108 \n",
      "K:  92.00000 JAMSHIDIAN:  13.15283  EXPIRY_ONLY:  15.94794  EXPIRY_TREE:  13.16537 \n",
      "K:  94.00000 JAMSHIDIAN:  11.30536  EXPIRY_ONLY:  14.09070  EXPIRY_TREE:  11.31644 \n",
      "K:  96.00000 JAMSHIDIAN:   9.47779  EXPIRY_ONLY:  12.23689  EXPIRY_TREE:   9.48523 \n",
      "K:  98.00000 JAMSHIDIAN:   7.69699  EXPIRY_ONLY:  10.39662  EXPIRY_TREE:   7.70591 \n",
      "K: 100.00000 JAMSHIDIAN:   6.00782  EXPIRY_ONLY:   8.58713  EXPIRY_TREE:   6.01862 \n",
      "K: 102.00000 JAMSHIDIAN:   4.47008  EXPIRY_ONLY:   6.84050  EXPIRY_TREE:   4.47851 \n",
      "K: 104.00000 JAMSHIDIAN:   3.14553  EXPIRY_ONLY:   5.21472  EXPIRY_TREE:   3.14437 \n",
      "K: 106.00000 JAMSHIDIAN:   2.07909  EXPIRY_ONLY:   3.78403  EXPIRY_TREE:   2.06597 \n",
      "K: 108.00000 JAMSHIDIAN:   1.28380  EXPIRY_ONLY:   2.58866  EXPIRY_TREE:   1.28123 \n",
      "K: 110.00000 JAMSHIDIAN:   0.73773  EXPIRY_ONLY:   1.65741  EXPIRY_TREE:   0.74036 \n",
      "K: 112.00000 JAMSHIDIAN:   0.39361  EXPIRY_ONLY:   0.98704  EXPIRY_TREE:   0.39748 \n",
      "K: 114.00000 JAMSHIDIAN:   0.19478  EXPIRY_ONLY:   0.54417  EXPIRY_TREE:   0.19797 \n",
      "K: 116.00000 JAMSHIDIAN:   0.08941  EXPIRY_ONLY:   0.27693  EXPIRY_TREE:   0.09145 \n",
      "K: 118.00000 JAMSHIDIAN:   0.03810  EXPIRY_ONLY:   0.13000  EXPIRY_TREE:   0.03922 \n",
      "K: 120.00000 JAMSHIDIAN:   0.01509  EXPIRY_ONLY:   0.05640  EXPIRY_TREE:   0.01563 \n",
      "K: 122.00000 JAMSHIDIAN:   0.00557  EXPIRY_ONLY:   0.02273  EXPIRY_TREE:   0.00579 \n",
      "K: 124.00000 JAMSHIDIAN:   0.00192  EXPIRY_ONLY:   0.00857  EXPIRY_TREE:   0.00200 \n",
      "K: 126.00000 JAMSHIDIAN:   0.00062  EXPIRY_ONLY:   0.00305  EXPIRY_TREE:   0.00064 \n",
      "K: 128.00000 JAMSHIDIAN:   0.00019  EXPIRY_ONLY:   0.00103  EXPIRY_TREE:   0.00019 \n",
      "K: 130.00000 JAMSHIDIAN:   0.00005  EXPIRY_ONLY:   0.00033  EXPIRY_TREE:   0.00005 \n"
     ]
    }
   ],
   "source": [
    "for K in strikes:\n",
    "    europeanCallBondOption = BondOption(bond, expiry_dt, K, OptionTypes.EUROPEAN_CALL)\n",
    "    ec1 = europeanCallBondOption.value(settle_dt, discount_curve, modelJamshidian)\n",
    "    ec2 = europeanCallBondOption.value(settle_dt, discount_curve, modelExpiryOnly)\n",
    "    ec3 = europeanCallBondOption.value(settle_dt, discount_curve, modelExpiryTree)\n",
    "    print(\"K: %9.5f JAMSHIDIAN: %9.5f  EXPIRY_ONLY: %9.5f  EXPIRY_TREE: %9.5f \" %(K, ec1, ec2, ec3))"
   ]
  },
  {
   "cell_type": "markdown",
   "metadata": {},
   "source": [
    "All three methods are consistent."
   ]
  },
  {
   "cell_type": "markdown",
   "metadata": {},
   "source": [
    "Copyright (c) Dominic O'Kane 2020"
   ]
  }
 ],
 "metadata": {
  "kernelspec": {
   "display_name": "base",
   "language": "python",
   "name": "python3"
  },
  "language_info": {
   "codemirror_mode": {
    "name": "ipython",
    "version": 3
   },
   "file_extension": ".py",
   "mimetype": "text/x-python",
   "name": "python",
   "nbconvert_exporter": "python",
   "pygments_lexer": "ipython3",
   "version": "3.13.5"
  }
 },
 "nbformat": 4,
 "nbformat_minor": 2
}
