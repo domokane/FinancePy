{
    "cells": [
        {
            "cell_type": "markdown",
            "metadata": {},
            "source": [
                "# Libor Curve Building Choice of Interpolation Scheme"
            ]
        },
        {
            "cell_type": "markdown",
            "metadata": {},
            "source": [
                "We examine the impact of the choice of the interpolation scheme"
            ]
        },
        {
            "cell_type": "code",
            "execution_count": null,
            "metadata": {},
            "outputs": [],
            "source": [
                "%load_ext autoreload\n",
                "%autoreload 2"
            ]
        },
        {
            "cell_type": "code",
            "execution_count": null,
            "metadata": {
                "execution": {
                    "iopub.execute_input": "2024-04-30T20:23:24.761050Z",
                    "iopub.status.busy": "2024-04-30T20:23:24.761050Z",
                    "iopub.status.idle": "2024-04-30T20:23:25.436918Z",
                    "shell.execute_reply": "2024-04-30T20:23:25.436918Z"
                }
            },
            "outputs": [],
            "source": [
                "import numpy as np\n",
                "import matplotlib.pyplot as plt"
            ]
        },
        {
            "cell_type": "code",
            "execution_count": null,
            "metadata": {
                "execution": {
                    "iopub.execute_input": "2024-04-30T20:23:25.438920Z",
                    "iopub.status.busy": "2024-04-30T20:23:25.438920Z",
                    "iopub.status.idle": "2024-04-30T20:23:26.807305Z",
                    "shell.execute_reply": "2024-04-30T20:23:26.807305Z"
                }
            },
            "outputs": [],
            "source": [
                "from financepy.utils import *\n",
                "from financepy.products.rates import *\n",
                "from financepy.market.curves import *"
            ]
        },
        {
            "cell_type": "markdown",
            "metadata": {},
            "source": [
                "We start by defining this useful function"
            ]
        },
        {
            "cell_type": "code",
            "execution_count": null,
            "metadata": {
                "execution": {
                    "iopub.execute_input": "2024-04-30T20:23:26.809892Z",
                    "iopub.status.busy": "2024-04-30T20:23:26.809892Z",
                    "iopub.status.idle": "2024-04-30T20:23:26.813924Z",
                    "shell.execute_reply": "2024-04-30T20:23:26.813924Z"
                }
            },
            "outputs": [],
            "source": [
                "def plotCurve(libor_curve, start_dt, tmax):\n",
                "    years = np.linspace(1/365, tmax, 500)\n",
                "    dates = start_dt.add_years(years)\n",
                "    zero_rates = libor_curve.zero_rate(dates)\n",
                "    fwd_rates = libor_curve.fwd(dates)\n",
                "\n",
                "    plt.figure(figsize=(8,6))\n",
                "    plt.plot(years, zero_rates*100, label=\"zero rates\")\n",
                "    plt.plot(years, fwd_rates*100, label = \"fwd rates\")\n",
                "    plt.xlabel(\"Times\")\n",
                "    plt.ylabel(\"Rates (%) - See Legend\")\n",
                "    plt.legend()"
            ]
        },
        {
            "cell_type": "markdown",
            "metadata": {},
            "source": [
                "## Deposits Only"
            ]
        },
        {
            "cell_type": "markdown",
            "metadata": {},
            "source": [
                "We use deposits only for simplicity"
            ]
        },
        {
            "cell_type": "markdown",
            "metadata": {},
            "source": [
                "### Piecewise Flat Interpolation"
            ]
        },
        {
            "cell_type": "code",
            "execution_count": null,
            "metadata": {
                "execution": {
                    "iopub.execute_input": "2024-04-30T20:23:26.816951Z",
                    "iopub.status.busy": "2024-04-30T20:23:26.815926Z",
                    "iopub.status.idle": "2024-04-30T20:23:26.835646Z",
                    "shell.execute_reply": "2024-04-30T20:23:26.835646Z"
                }
            },
            "outputs": [],
            "source": [
                "spot_dt = Date(6, 6, 2018)"
            ]
        },
        {
            "cell_type": "code",
            "execution_count": null,
            "metadata": {
                "execution": {
                    "iopub.execute_input": "2024-04-30T20:23:26.837665Z",
                    "iopub.status.busy": "2024-04-30T20:23:26.837665Z",
                    "iopub.status.idle": "2024-04-30T20:23:26.841206Z",
                    "shell.execute_reply": "2024-04-30T20:23:26.841206Z"
                }
            },
            "outputs": [],
            "source": [
                "spot_days = 0\n",
                "settle_dt = spot_dt.add_weekdays(spot_days)\n",
                "depo_dcc_type = DayCountTypes.ACT_360"
            ]
        },
        {
            "cell_type": "code",
            "execution_count": null,
            "metadata": {
                "execution": {
                    "iopub.execute_input": "2024-04-30T20:23:26.843225Z",
                    "iopub.status.busy": "2024-04-30T20:23:26.843225Z",
                    "iopub.status.idle": "2024-04-30T20:23:26.848798Z",
                    "shell.execute_reply": "2024-04-30T20:23:26.848798Z"
                }
            },
            "outputs": [],
            "source": [
                "depos = []\n",
                "depo = IborDeposit(settle_dt, \"1M\", 0.0230, depo_dcc_type); depos.append(depo)\n",
                "depo = IborDeposit(settle_dt, \"2M\", 0.0235, depo_dcc_type); depos.append(depo)\n",
                "depo = IborDeposit(settle_dt, \"3M\", 0.0240, depo_dcc_type); depos.append(depo)\n",
                "depo = IborDeposit(settle_dt, \"6M\", 0.0220, depo_dcc_type); depos.append(depo)\n",
                "\n",
                "libor_curve = IborSingleCurve(settle_dt, depos, [], [])"
            ]
        },
        {
            "cell_type": "code",
            "execution_count": null,
            "metadata": {
                "execution": {
                    "iopub.execute_input": "2024-04-30T20:23:26.851342Z",
                    "iopub.status.busy": "2024-04-30T20:23:26.851342Z",
                    "iopub.status.idle": "2024-04-30T20:23:26.854416Z",
                    "shell.execute_reply": "2024-04-30T20:23:26.854188Z"
                }
            },
            "outputs": [],
            "source": [
                "print(libor_curve)"
            ]
        },
        {
            "cell_type": "code",
            "execution_count": null,
            "metadata": {
                "execution": {
                    "iopub.execute_input": "2024-04-30T20:23:26.856922Z",
                    "iopub.status.busy": "2024-04-30T20:23:26.855952Z",
                    "iopub.status.idle": "2024-04-30T20:23:27.064558Z",
                    "shell.execute_reply": "2024-04-30T20:23:27.064558Z"
                }
            },
            "outputs": [],
            "source": [
                "plotCurve(libor_curve, settle_dt, 0.5)"
            ]
        },
        {
            "cell_type": "markdown",
            "metadata": {},
            "source": [
                "The shape of the forwards is an artifact of the piecewise flat interpolation scheme and the fact that Actual 360 deposit rates do not compare directly to zero rates or continuously compounded forwards."
            ]
        },
        {
            "cell_type": "markdown",
            "metadata": {},
            "source": [
                "### Piecewise Linear Forwards Interpolation"
            ]
        },
        {
            "cell_type": "code",
            "execution_count": null,
            "metadata": {
                "execution": {
                    "iopub.execute_input": "2024-04-30T20:23:27.067581Z",
                    "iopub.status.busy": "2024-04-30T20:23:27.066558Z",
                    "iopub.status.idle": "2024-04-30T20:23:27.239679Z",
                    "shell.execute_reply": "2024-04-30T20:23:27.239679Z"
                }
            },
            "outputs": [],
            "source": [
                "interpMethod = InterpTypes.LINEAR_FWD_RATES\n",
                "\n",
                "depos = []\n",
                "depo = IborDeposit(settle_dt, \"1M\", 0.0230, depo_dcc_type); depos.append(depo)\n",
                "depo = IborDeposit(settle_dt, \"2M\", 0.0235, depo_dcc_type); depos.append(depo)\n",
                "depo = IborDeposit(settle_dt, \"3M\", 0.0240, depo_dcc_type); depos.append(depo)\n",
                "depo = IborDeposit(settle_dt, \"6M\", 0.0220, depo_dcc_type); depos.append(depo)\n",
                "\n",
                "libor_curve = IborSingleCurve(settle_dt, depos, [], [], interpMethod)\n",
                "\n",
                "plotCurve(libor_curve, settle_dt, 0.5)"
            ]
        },
        {
            "cell_type": "markdown",
            "metadata": {},
            "source": [
                "### Piecewise Linear Zero Rates"
            ]
        },
        {
            "cell_type": "code",
            "execution_count": null,
            "metadata": {
                "execution": {
                    "iopub.execute_input": "2024-04-30T20:23:27.242718Z",
                    "iopub.status.busy": "2024-04-30T20:23:27.242718Z",
                    "iopub.status.idle": "2024-04-30T20:23:27.416465Z",
                    "shell.execute_reply": "2024-04-30T20:23:27.416465Z"
                }
            },
            "outputs": [],
            "source": [
                "interpMethod = InterpTypes.LINEAR_ZERO_RATES\n",
                "\n",
                "depos = []\n",
                "depo = IborDeposit(settle_dt, \"1M\", 0.0230, depo_dcc_type); depos.append(depo)\n",
                "depo = IborDeposit(settle_dt, \"2M\", 0.0235, depo_dcc_type); depos.append(depo)\n",
                "depo = IborDeposit(settle_dt, \"3M\", 0.0245, depo_dcc_type); depos.append(depo)\n",
                "depo = IborDeposit(settle_dt, \"6M\", 0.0220, depo_dcc_type); depos.append(depo)\n",
                "\n",
                "libor_curve = IborSingleCurve(settle_dt, depos, [], [], interpMethod)\n",
                "\n",
                "plotCurve(libor_curve, settle_dt, 0.5)"
            ]
        },
        {
            "cell_type": "markdown",
            "metadata": {},
            "source": [
                "## Futures Only"
            ]
        },
        {
            "cell_type": "markdown",
            "metadata": {},
            "source": [
                "Now we build a curve using just Futures contracts."
            ]
        },
        {
            "cell_type": "code",
            "execution_count": null,
            "metadata": {
                "execution": {
                    "iopub.execute_input": "2024-04-30T20:23:27.419466Z",
                    "iopub.status.busy": "2024-04-30T20:23:27.419466Z",
                    "iopub.status.idle": "2024-04-30T20:23:27.423981Z",
                    "shell.execute_reply": "2024-04-30T20:23:27.423981Z"
                }
            },
            "outputs": [],
            "source": [
                "spot_days = 2\n",
                "settle_dt = spot_dt.add_weekdays(spot_days)"
            ]
        },
        {
            "cell_type": "code",
            "execution_count": null,
            "metadata": {
                "execution": {
                    "iopub.execute_input": "2024-04-30T20:23:27.427980Z",
                    "iopub.status.busy": "2024-04-30T20:23:27.426980Z",
                    "iopub.status.idle": "2024-04-30T20:23:27.434006Z",
                    "shell.execute_reply": "2024-04-30T20:23:27.434006Z"
                }
            },
            "outputs": [],
            "source": [
                "futs = []\n",
                "fut = IborFuture(spot_dt, 1) ; futs.append(fut)\n",
                "fut = IborFuture(spot_dt, 2) ; futs.append(fut)\n",
                "fut = IborFuture(spot_dt, 3) ; futs.append(fut)\n",
                "fut = IborFuture(spot_dt, 4) ; futs.append(fut)\n",
                "fut = IborFuture(spot_dt, 5) ; futs.append(fut)\n",
                "fut = IborFuture(spot_dt, 6) ; futs.append(fut)"
            ]
        },
        {
            "cell_type": "markdown",
            "metadata": {},
            "source": [
                "Given a futures price and a convexity adjustent, we can convert these to FRAs"
            ]
        },
        {
            "cell_type": "code",
            "execution_count": null,
            "metadata": {
                "execution": {
                    "iopub.execute_input": "2024-04-30T20:23:27.439002Z",
                    "iopub.status.busy": "2024-04-30T20:23:27.438006Z",
                    "iopub.status.idle": "2024-04-30T20:23:27.444903Z",
                    "shell.execute_reply": "2024-04-30T20:23:27.444903Z"
                }
            },
            "outputs": [],
            "source": [
                "fras = [None]*len(futs)\n",
                "fras[0] = futs[0].to_fra(97.6675,-0.00005)\n",
                "fras[1] = futs[1].to_fra(97.5200,-0.00060)\n",
                "fras[2] = futs[2].to_fra(97.3550,-0.00146)\n",
                "fras[3] = futs[3].to_fra(97.2450,-0.00263)\n",
                "fras[4] = futs[4].to_fra(97.1450,-0.00411)\n",
                "fras[5] = futs[5].to_fra(97.0750,-0.00589)"
            ]
        },
        {
            "cell_type": "code",
            "execution_count": null,
            "metadata": {
                "execution": {
                    "iopub.execute_input": "2024-04-30T20:23:27.449416Z",
                    "iopub.status.busy": "2024-04-30T20:23:27.448421Z",
                    "iopub.status.idle": "2024-04-30T20:23:27.685436Z",
                    "shell.execute_reply": "2024-04-30T20:23:27.685436Z"
                }
            },
            "outputs": [],
            "source": [
                "libor_curve = IborSingleCurve(settle_dt, [], fras, [])\n",
                "\n",
                "plotCurve(libor_curve, settle_dt, 2)"
            ]
        },
        {
            "cell_type": "markdown",
            "metadata": {},
            "source": [
                "We see that the forward rates are piecewise flat and increasing."
            ]
        },
        {
            "cell_type": "markdown",
            "metadata": {},
            "source": [
                "Copyright (c) 2020 Dominic O'Kane"
            ]
        },
        {
            "cell_type": "markdown",
            "metadata": {},
            "source": []
        }
    ],
    "metadata": {
        "kernelspec": {
            "display_name": "Python 3",
            "language": "python",
            "name": "python3"
        },
        "language_info": {
            "codemirror_mode": {
                "name": "ipython",
                "version": 3
            },
            "file_extension": ".py",
            "mimetype": "text/x-python",
            "name": "python",
            "nbconvert_exporter": "python",
            "pygments_lexer": "ipython3",
            "version": "3.8.10"
        }
    },
    "nbformat": 4,
    "nbformat_minor": 4
}