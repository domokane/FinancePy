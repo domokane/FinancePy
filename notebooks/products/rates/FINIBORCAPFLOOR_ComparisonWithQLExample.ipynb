{
 "cells": [
  {
   "cell_type": "markdown",
   "metadata": {},
   "source": [
    "# Valuing Caps and Floors with QL Example"
   ]
  },
  {
   "cell_type": "markdown",
   "metadata": {},
   "source": [
    "We value caps and floors using Black's model and try to replicate a QL example at \n",
    "http://gouthamanbalaraman.com/blog/interest-rate-cap-floor-valuation-quantlib-python.html"
   ]
  },
  {
   "cell_type": "code",
   "execution_count": 1,
   "metadata": {
    "execution": {
     "iopub.execute_input": "2025-09-14T22:24:09.424106Z",
     "iopub.status.busy": "2025-09-14T22:24:09.423977Z",
     "iopub.status.idle": "2025-09-14T22:24:09.648564Z",
     "shell.execute_reply": "2025-09-14T22:24:09.648200Z"
    }
   },
   "outputs": [],
   "source": [
    "import numpy as np\n",
    "import matplotlib.pyplot as plt"
   ]
  },
  {
   "cell_type": "code",
   "execution_count": 2,
   "metadata": {
    "execution": {
     "iopub.execute_input": "2025-09-14T22:24:09.650198Z",
     "iopub.status.busy": "2025-09-14T22:24:09.650031Z",
     "iopub.status.idle": "2025-09-14T22:24:10.666775Z",
     "shell.execute_reply": "2025-09-14T22:24:10.666039Z"
    }
   },
   "outputs": [],
   "source": [
    "from financepy.utils import *\n",
    "from financepy.products.rates import *\n",
    "from financepy.market.curves import *"
   ]
  },
  {
   "cell_type": "markdown",
   "metadata": {},
   "source": [
    "## Building a Ibor Discount Curve"
   ]
  },
  {
   "cell_type": "markdown",
   "metadata": {},
   "source": [
    "The example does this using a set of dates and zero ratesm"
   ]
  },
  {
   "cell_type": "code",
   "execution_count": 3,
   "metadata": {
    "execution": {
     "iopub.execute_input": "2025-09-14T22:24:10.668510Z",
     "iopub.status.busy": "2025-09-14T22:24:10.668302Z",
     "iopub.status.idle": "2025-09-14T22:24:10.685783Z",
     "shell.execute_reply": "2025-09-14T22:24:10.685380Z"
    }
   },
   "outputs": [],
   "source": [
    "value_dt = Date(14, 6, 2016)"
   ]
  },
  {
   "cell_type": "markdown",
   "metadata": {},
   "source": [
    "We have a vector of dates and zero rates"
   ]
  },
  {
   "cell_type": "code",
   "execution_count": 4,
   "metadata": {
    "execution": {
     "iopub.execute_input": "2025-09-14T22:24:10.687142Z",
     "iopub.status.busy": "2025-09-14T22:24:10.687022Z",
     "iopub.status.idle": "2025-09-14T22:24:10.690695Z",
     "shell.execute_reply": "2025-09-14T22:24:10.690374Z"
    }
   },
   "outputs": [],
   "source": [
    "dates = [Date(14,6,2016), Date(14,9,2016), Date(14,12,2016), Date(14,6,2017),\n",
    "         Date(14,6,2019), Date(14,6,2021), Date(15,6,2026), Date(16,6,2031),\n",
    "         Date(16,6,2036), Date(14,6,2046)]\n",
    "rates = [0.000000, 0.006616, 0.007049, 0.007795, 0.009599, 0.011203, 0.015068, 0.017583,\n",
    "         0.018998, 0.020080]\n",
    "\n",
    "freq_type = FrequencyTypes.ANNUAL\n",
    "dc_type = DayCountTypes.ACT_ACT_ISDA"
   ]
  },
  {
   "cell_type": "code",
   "execution_count": 5,
   "metadata": {
    "execution": {
     "iopub.execute_input": "2025-09-14T22:24:10.691822Z",
     "iopub.status.busy": "2025-09-14T22:24:10.691701Z",
     "iopub.status.idle": "2025-09-14T22:24:10.694757Z",
     "shell.execute_reply": "2025-09-14T22:24:10.693870Z"
    }
   },
   "outputs": [],
   "source": [
    "discount_curve = DiscountCurveZeros(value_dt, dates, rates, freq_type,\n",
    "                                      dc_type, InterpTypes.LINEAR_ZERO_RATES)"
   ]
  },
  {
   "cell_type": "code",
   "execution_count": 6,
   "metadata": {
    "execution": {
     "iopub.execute_input": "2025-09-14T22:24:10.695837Z",
     "iopub.status.busy": "2025-09-14T22:24:10.695704Z",
     "iopub.status.idle": "2025-09-14T22:24:10.699153Z",
     "shell.execute_reply": "2025-09-14T22:24:10.698864Z"
    }
   },
   "outputs": [
    {
     "name": "stdout",
     "output_type": "stream",
     "text": [
      "OBJECT TYPE: DiscountCurveZeros\n",
      "VALUATION DATE: 14-JUN-2016\n",
      "FREQUENCY TYPE: FrequencyTypes.ANNUAL\n",
      "DAY COUNT TYPE: DayCountTypes.ACT_ACT_ISDA\n",
      "INTERP TYPE: InterpTypes.LINEAR_ZERO_RATES\n",
      "DATES: ZERO RATES\n",
      " 14-JUN-2016:  0.0000000\n",
      " 14-SEP-2016:  0.0066160\n",
      " 14-DEC-2016:  0.0070490\n",
      " 14-JUN-2017:  0.0077950\n",
      " 14-JUN-2019:  0.0095990\n",
      " 14-JUN-2021:  0.0112030\n",
      " 15-JUN-2026:  0.0150680\n",
      " 16-JUN-2031:  0.0175830\n",
      " 16-JUN-2036:  0.0189980\n",
      " 14-JUN-2046:  0.0200800\n",
      "\n"
     ]
    }
   ],
   "source": [
    "print(discount_curve)"
   ]
  },
  {
   "cell_type": "code",
   "execution_count": 7,
   "metadata": {
    "execution": {
     "iopub.execute_input": "2025-09-14T22:24:10.700170Z",
     "iopub.status.busy": "2025-09-14T22:24:10.700053Z",
     "iopub.status.idle": "2025-09-14T22:24:10.702279Z",
     "shell.execute_reply": "2025-09-14T22:24:10.701997Z"
    }
   },
   "outputs": [],
   "source": [
    "start_dt = Date(14, 6, 2016)\n",
    "end_dt = Date(14, 6 , 2026)\n",
    "cal_type = CalendarTypes.UNITED_STATES\n",
    "bd_type = BusDayAdjustTypes.MODIFIED_FOLLOWING\n",
    "freq_type = FrequencyTypes.QUARTERLY\n",
    "dg_type = DateGenRuleTypes.FORWARD\n",
    "last_fixing = 0.0065560\n",
    "notional = 1000000\n",
    "dc_type=DayCountTypes.ACT_360\n",
    "opt_type = FinCapFloorTypes.CAP\n",
    "strike_rate = 0.02"
   ]
  },
  {
   "cell_type": "code",
   "execution_count": 8,
   "metadata": {
    "execution": {
     "iopub.execute_input": "2025-09-14T22:24:10.703255Z",
     "iopub.status.busy": "2025-09-14T22:24:10.703144Z",
     "iopub.status.idle": "2025-09-14T22:24:10.705303Z",
     "shell.execute_reply": "2025-09-14T22:24:10.705004Z"
    }
   },
   "outputs": [],
   "source": [
    "cap = IborCapFloor(start_dt, end_dt, opt_type, strike_rate, last_fixing,\n",
    "                       freq_type,  dc_type, notional,\n",
    "                       cal_type, bd_type, dg_type)"
   ]
  },
  {
   "cell_type": "code",
   "execution_count": 9,
   "metadata": {
    "execution": {
     "iopub.execute_input": "2025-09-14T22:24:10.706229Z",
     "iopub.status.busy": "2025-09-14T22:24:10.706120Z",
     "iopub.status.idle": "2025-09-14T22:24:10.708159Z",
     "shell.execute_reply": "2025-09-14T22:24:10.707901Z"
    }
   },
   "outputs": [
    {
     "name": "stdout",
     "output_type": "stream",
     "text": [
      "OBJECT TYPE: IborCapFloor\n",
      "START DATE: 14-JUN-2016\n",
      "MATURITY DATE: 14-JUN-2026\n",
      "STRIKE COUPON: 2.0\n",
      "OPTION TYPE: FinCapFloorTypes.CAP\n",
      "FREQUENCY: FrequencyTypes.QUARTERLY\n",
      "DAY COUNT: DayCountTypes.ACT_360\n"
     ]
    }
   ],
   "source": [
    "print(cap)"
   ]
  },
  {
   "cell_type": "markdown",
   "metadata": {},
   "source": [
    "## Valuation"
   ]
  },
  {
   "cell_type": "markdown",
   "metadata": {},
   "source": [
    "### Black's Model"
   ]
  },
  {
   "cell_type": "code",
   "execution_count": 10,
   "metadata": {
    "execution": {
     "iopub.execute_input": "2025-09-14T22:24:10.709060Z",
     "iopub.status.busy": "2025-09-14T22:24:10.708953Z",
     "iopub.status.idle": "2025-09-14T22:24:10.711377Z",
     "shell.execute_reply": "2025-09-14T22:24:10.710951Z"
    }
   },
   "outputs": [],
   "source": [
    "blackVol = 0.547295\n",
    "model = Black(blackVol)"
   ]
  },
  {
   "cell_type": "code",
   "execution_count": 11,
   "metadata": {
    "execution": {
     "iopub.execute_input": "2025-09-14T22:24:10.712323Z",
     "iopub.status.busy": "2025-09-14T22:24:10.712211Z",
     "iopub.status.idle": "2025-09-14T22:24:10.724482Z",
     "shell.execute_reply": "2025-09-14T22:24:10.724152Z"
    }
   },
   "outputs": [
    {
     "data": {
      "text/plain": [
       "np.float64(54416.622944954404)"
      ]
     },
     "execution_count": 11,
     "metadata": {},
     "output_type": "execute_result"
    }
   ],
   "source": [
    "cap.value(value_dt, discount_curve, model)"
   ]
  },
  {
   "cell_type": "markdown",
   "metadata": {},
   "source": [
    "This is very close to QL which finds 54,369.858"
   ]
  },
  {
   "cell_type": "code",
   "execution_count": 12,
   "metadata": {
    "execution": {
     "iopub.execute_input": "2025-09-14T22:24:10.725530Z",
     "iopub.status.busy": "2025-09-14T22:24:10.725370Z",
     "iopub.status.idle": "2025-09-14T22:24:10.728006Z",
     "shell.execute_reply": "2025-09-14T22:24:10.727557Z"
    }
   },
   "outputs": [
    {
     "name": "stdout",
     "output_type": "stream",
     "text": [
      "START DATE: 14-JUN-2016\n",
      "MATURITY DATE: 14-JUN-2026\n",
      "OPTION TYPE FinCapFloorTypes.CAP\n",
      "STRIKE (%): 2.0\n",
      "FREQUENCY: FrequencyTypes.QUARTERLY\n",
      "DAY COUNT: DayCountTypes.ACT_360\n",
      "VALUATION DATE 14-JUN-2016\n",
      "PAYMENT_dt     YEAR_FRAC   FWD_RATE    INTRINSIC           DF    CAPLET_PV       CUM_PV\n",
      "    14-JUN-2016          -         -            -     1.000000            -            -\n",
      "    14-SEP-2016  0.2555556   0.65560         0.00     0.998344         0.00         0.00\n",
      "    14-DEC-2016  0.2527778   0.73436         0.00     0.996494         0.03         0.03\n",
      "    14-MAR-2017  0.2500000   0.80253         0.00     0.994499         3.73         3.75\n",
      "    14-JUN-2017  0.2555556   0.87618         0.00     0.992277        25.56        29.31\n",
      "    14-SEP-2017  0.2555556   0.87712         0.00     0.990058        51.60        80.91\n",
      "    14-DEC-2017  0.2527778   0.92143         0.00     0.987757        98.44       179.35\n",
      "    14-MAR-2018  0.2500000   0.96525         0.00     0.985379       155.99       335.34\n",
      "    14-JUN-2018  0.2555556   1.00937         0.00     0.982844       229.10       564.44\n",
      "    14-SEP-2018  0.2555556   1.05395         0.00     0.980204       308.16       872.60\n",
      "    14-DEC-2018  0.2527778   1.09827         0.00     0.977490       389.28      1261.88\n",
      "    14-MAR-2019  0.2500000   1.14211         0.00     0.974707       472.64      1734.52\n",
      "    14-JUN-2019  0.2555556   1.18626         0.00     0.971761       576.57      2311.09\n",
      "    16-SEP-2019  0.2611111   1.19901         0.00     0.968728       650.95      2962.05\n",
      "    16-DEC-2019  0.2527778   1.23876         0.00     0.965704       722.91      3684.96\n",
      "    16-MAR-2020  0.2527778   1.27499         0.00     0.962602       811.35      4496.31\n",
      "    15-JUN-2020  0.2527778   1.31333         0.00     0.959417       903.59      5399.90\n",
      "    14-SEP-2020  0.2527778   1.35229         0.00     0.956148       997.58      6397.49\n",
      "    14-DEC-2020  0.2527778   1.39125         0.00     0.952798      1092.27      7489.76\n",
      "    15-MAR-2021  0.2527778   1.43340         0.00     0.949358      1192.14      8681.90\n",
      "    14-JUN-2021  0.2527778   1.47335         0.00     0.945835      1289.16      9971.06\n",
      "    14-SEP-2021  0.2555556   1.49657         0.00     0.942232      1375.46     11346.52\n",
      "    14-DEC-2021  0.2527778   1.53439         0.00     0.938591      1454.33     12800.85\n",
      "    14-MAR-2022  0.2500000   1.57180         0.00     0.934918      1529.90     14330.75\n",
      "    14-JUN-2022  0.2555556   1.60952         0.00     0.931088      1657.09     15987.84\n",
      "    14-SEP-2022  0.2555556   1.64759         0.00     0.927184      1751.28     17739.12\n",
      "    14-DEC-2022  0.2527778   1.68542         0.00     0.923250      1824.56     19563.68\n",
      "    14-MAR-2023  0.2500000   1.72284         0.00     0.919291      1894.23     21457.92\n",
      "    14-JUN-2023  0.2555556   1.76059         0.00     0.915173      2027.36     23485.28\n",
      "    14-SEP-2023  0.2555556   1.79868         0.00     0.910986      2119.00     25604.28\n",
      "    14-DEC-2023  0.2527778   1.83652         0.00     0.906776      2185.49     27789.76\n",
      "    14-MAR-2024  0.2527778   1.87004         0.00     0.902510      2266.32     30056.08\n",
      "    14-JUN-2024  0.2555556   1.90676         0.00     0.898134      2377.49     32433.58\n",
      "    16-SEP-2024  0.2611111   1.94517         0.00     0.893595      2519.45     34953.02\n",
      "    16-DEC-2024  0.2527778   1.98312         0.00     0.889138      2525.69     37478.71\n",
      "    14-MAR-2025  0.2444444   2.02440        52.76     0.884760      2530.32     40009.03\n",
      "    16-JUN-2025  0.2611111   2.06344       145.77     0.880018      2789.64     42798.67\n",
      "    15-SEP-2025  0.2527778   2.10158       224.78     0.875368      2784.37     45583.03\n",
      "    15-DEC-2025  0.2527778   2.13929       306.55     0.870660      2865.22     48448.25\n",
      "    16-MAR-2026  0.2527778   2.17700       387.41     0.865895      2944.93     51393.18\n",
      "    15-JUN-2026  0.2527778   2.21471       467.33     0.861074      3023.44     54416.62\n"
     ]
    }
   ],
   "source": [
    "cap.print_leg()"
   ]
  },
  {
   "cell_type": "markdown",
   "metadata": {},
   "source": [
    "Copyright (c) 2020 Dominic O'Kane"
   ]
  },
  {
   "cell_type": "markdown",
   "metadata": {},
   "source": [
    "This value is within a few dollars of the Quantlib valuation."
   ]
  },
  {
   "cell_type": "markdown",
   "metadata": {},
   "source": []
  }
 ],
 "metadata": {
  "kernelspec": {
   "display_name": "base",
   "language": "python",
   "name": "python3"
  },
  "language_info": {
   "codemirror_mode": {
    "name": "ipython",
    "version": 3
   },
   "file_extension": ".py",
   "mimetype": "text/x-python",
   "name": "python",
   "nbconvert_exporter": "python",
   "pygments_lexer": "ipython3",
   "version": "3.13.7"
  }
 },
 "nbformat": 4,
 "nbformat_minor": 4
}
