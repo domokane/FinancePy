{
 "cells": [
  {
   "cell_type": "markdown",
   "metadata": {},
   "source": [
    "# Valuing European-Style Swaptions with Matlab Example"
   ]
  },
  {
   "cell_type": "markdown",
   "metadata": {},
   "source": [
    "We value a European swaption using Black's model and try to replicate a ML example at https://fr.mathworks.com/help/fininst/swaptionbyblk.html"
   ]
  },
  {
   "cell_type": "code",
   "execution_count": 1,
   "metadata": {
    "execution": {
     "iopub.execute_input": "2024-04-30T20:33:53.668879Z",
     "iopub.status.busy": "2024-04-30T20:33:53.667882Z",
     "iopub.status.idle": "2024-04-30T20:33:54.341883Z",
     "shell.execute_reply": "2024-04-30T20:33:54.341883Z"
    }
   },
   "outputs": [],
   "source": [
    "import numpy as np\n",
    "import matplotlib.pyplot as plt"
   ]
  },
  {
   "cell_type": "code",
   "execution_count": 2,
   "metadata": {
    "execution": {
     "iopub.execute_input": "2024-04-30T20:33:54.344409Z",
     "iopub.status.busy": "2024-04-30T20:33:54.344409Z",
     "iopub.status.idle": "2024-04-30T20:33:55.818050Z",
     "shell.execute_reply": "2024-04-30T20:33:55.818050Z"
    }
   },
   "outputs": [
    {
     "name": "stdout",
     "output_type": "stream",
     "text": [
      "####################################################################\n",
      "#  FINANCEPY BETA Version 0.350 - This build: 30 Apr 2024 at 22:32 #\n",
      "#     This software is distributed FREE AND WITHOUT ANY WARRANTY   #\n",
      "#  Report bugs as issues at https://github.com/domokane/FinancePy  #\n",
      "####################################################################\n",
      "\n"
     ]
    }
   ],
   "source": [
    "from financepy.products.rates import *\n",
    "from financepy.utils import *\n",
    "from financepy.market.curves import *\n",
    "from financepy.market.curves.discount_curve_flat import DiscountCurveFlat\n",
    "from financepy.market.curves.interpolator import InterpTypes"
   ]
  },
  {
   "cell_type": "code",
   "execution_count": 3,
   "metadata": {
    "execution": {
     "iopub.execute_input": "2024-04-30T20:33:55.821007Z",
     "iopub.status.busy": "2024-04-30T20:33:55.821007Z",
     "iopub.status.idle": "2024-04-30T20:33:55.840802Z",
     "shell.execute_reply": "2024-04-30T20:33:55.840802Z"
    }
   },
   "outputs": [],
   "source": [
    "value_dt = Date(1, 1, 2010)"
   ]
  },
  {
   "cell_type": "code",
   "execution_count": 4,
   "metadata": {
    "execution": {
     "iopub.execute_input": "2024-04-30T20:33:55.843839Z",
     "iopub.status.busy": "2024-04-30T20:33:55.843839Z",
     "iopub.status.idle": "2024-04-30T20:33:55.852325Z",
     "shell.execute_reply": "2024-04-30T20:33:55.852325Z"
    }
   },
   "outputs": [],
   "source": [
    "libor_curve = DiscountCurveFlat(value_dt, 0.06, \n",
    "                                  FrequencyTypes.CONTINUOUS, \n",
    "                                  DayCountTypes.THIRTY_E_360)"
   ]
  },
  {
   "cell_type": "markdown",
   "metadata": {},
   "source": [
    "### Defining the swaption"
   ]
  },
  {
   "cell_type": "code",
   "execution_count": 5,
   "metadata": {
    "execution": {
     "iopub.execute_input": "2024-04-30T20:33:55.855320Z",
     "iopub.status.busy": "2024-04-30T20:33:55.855320Z",
     "iopub.status.idle": "2024-04-30T20:33:55.859873Z",
     "shell.execute_reply": "2024-04-30T20:33:55.859873Z"
    }
   },
   "outputs": [],
   "source": [
    "settle_dt = Date(1, 1, 2011)\n",
    "exercise_date = Date(1, 1, 2016)\n",
    "maturity_dt = Date(1, 1, 2019)\n",
    "fixed_cpn = 0.062\n",
    "fixed_freq_type = FrequencyTypes.SEMI_ANNUAL\n",
    "fixed_dc_type = DayCountTypes.THIRTY_E_360\n",
    "float_freq_type = FrequencyTypes.SEMI_ANNUAL\n",
    "float_dc_type = DayCountTypes.THIRTY_E_360\n",
    "notional = 100.0\n",
    "swap_type = SwapTypes.PAY  \n",
    "cal_type = CalendarTypes.NONE\n",
    "bd_type = BusDayAdjustTypes.NONE\n",
    "dg_type = DateGenRuleTypes.BACKWARD"
   ]
  },
  {
   "cell_type": "code",
   "execution_count": 6,
   "metadata": {
    "execution": {
     "iopub.execute_input": "2024-04-30T20:33:55.861904Z",
     "iopub.status.busy": "2024-04-30T20:33:55.861904Z",
     "iopub.status.idle": "2024-04-30T20:33:55.865564Z",
     "shell.execute_reply": "2024-04-30T20:33:55.865564Z"
    }
   },
   "outputs": [],
   "source": [
    "swaption = IborSwaption(settle_dt, \n",
    "                            exercise_date,\n",
    "                            maturity_dt,\n",
    "                            swap_type,\n",
    "                            fixed_cpn,\n",
    "                            fixed_freq_type,\n",
    "                            fixed_dc_type, \n",
    "                            notional, \n",
    "                            float_freq_type,\n",
    "                            float_dc_type,\n",
    "                            cal_type, \n",
    "                            bd_type,\n",
    "                            dg_type)"
   ]
  },
  {
   "cell_type": "code",
   "execution_count": 7,
   "metadata": {
    "execution": {
     "iopub.execute_input": "2024-04-30T20:33:55.868589Z",
     "iopub.status.busy": "2024-04-30T20:33:55.868589Z",
     "iopub.status.idle": "2024-04-30T20:33:55.871823Z",
     "shell.execute_reply": "2024-04-30T20:33:55.871576Z"
    }
   },
   "outputs": [
    {
     "name": "stdout",
     "output_type": "stream",
     "text": [
      "OBJECT TYPE: IborSwaption\n",
      "SETTLEMENT DATE: 01-JAN-2011\n",
      "EXERCISE DATE: 01-JAN-2016\n",
      "SWAP FIXED LEG TYPE: SwapTypes.PAY\n",
      "SWAP MATURITY DATE: 01-JAN-2019\n",
      "SWAP NOTIONAL: 100.0\n",
      "FIXED cpn: 6.2\n",
      "FIXED FREQUENCY: FrequencyTypes.SEMI_ANNUAL\n",
      "FIXED DAY COUNT: DayCountTypes.THIRTY_E_360\n",
      "FLOAT FREQUENCY: FrequencyTypes.SEMI_ANNUAL\n",
      "FLOAT DAY COUNT: DayCountTypes.THIRTY_E_360\n",
      "\n"
     ]
    }
   ],
   "source": [
    "print(swaption)"
   ]
  },
  {
   "cell_type": "markdown",
   "metadata": {},
   "source": [
    "## Valuation using Black's Model"
   ]
  },
  {
   "cell_type": "code",
   "execution_count": 8,
   "metadata": {
    "execution": {
     "iopub.execute_input": "2024-04-30T20:33:55.874355Z",
     "iopub.status.busy": "2024-04-30T20:33:55.873362Z",
     "iopub.status.idle": "2024-04-30T20:33:55.876807Z",
     "shell.execute_reply": "2024-04-30T20:33:55.876570Z"
    }
   },
   "outputs": [],
   "source": [
    "model = Black(0.20)"
   ]
  },
  {
   "cell_type": "code",
   "execution_count": 9,
   "metadata": {
    "execution": {
     "iopub.execute_input": "2024-04-30T20:33:55.878834Z",
     "iopub.status.busy": "2024-04-30T20:33:55.878834Z",
     "iopub.status.idle": "2024-04-30T20:33:55.885660Z",
     "shell.execute_reply": "2024-04-30T20:33:55.885660Z"
    }
   },
   "outputs": [
    {
     "data": {
      "text/plain": [
       "2.0715673101223606"
      ]
     },
     "execution_count": 9,
     "metadata": {},
     "output_type": "execute_result"
    }
   ],
   "source": [
    "swaption.value(value_dt, libor_curve, model)"
   ]
  },
  {
   "cell_type": "markdown",
   "metadata": {},
   "source": [
    "The MATLAB price is 2.071. "
   ]
  },
  {
   "cell_type": "code",
   "execution_count": 10,
   "metadata": {
    "execution": {
     "iopub.execute_input": "2024-04-30T20:33:55.887661Z",
     "iopub.status.busy": "2024-04-30T20:33:55.887661Z",
     "iopub.status.idle": "2024-04-30T20:33:55.891336Z",
     "shell.execute_reply": "2024-04-30T20:33:55.891103Z"
    }
   },
   "outputs": [
    {
     "name": "stdout",
     "output_type": "stream",
     "text": [
      "OBJECT TYPE: IborSwaption\n",
      "SETTLEMENT DATE: 01-JAN-2011\n",
      "EXERCISE DATE: 01-JAN-2016\n",
      "SWAP FIXED LEG TYPE: SwapTypes.PAY\n",
      "SWAP MATURITY DATE: 01-JAN-2019\n",
      "SWAP NOTIONAL: 100.0\n",
      "FIXED cpn: 6.2\n",
      "FIXED FREQUENCY: FrequencyTypes.SEMI_ANNUAL\n",
      "FIXED DAY COUNT: DayCountTypes.THIRTY_E_360\n",
      "FLOAT FREQUENCY: FrequencyTypes.SEMI_ANNUAL\n",
      "FLOAT DAY COUNT: DayCountTypes.THIRTY_E_360\n",
      "PV01: 1.8868795344638085\n",
      "FWD SWAP RATE: 6.090906790703007\n",
      "FWD DF TO EXPIRY: 0.697676326071031\n"
     ]
    }
   ],
   "source": [
    "print(swaption)"
   ]
  },
  {
   "cell_type": "markdown",
   "metadata": {},
   "source": [
    "We can see that the forward swap rate almost equals the fixed cpn. The underlying swap is close to being ATM forward."
   ]
  },
  {
   "cell_type": "code",
   "execution_count": 11,
   "metadata": {
    "execution": {
     "iopub.execute_input": "2024-04-30T20:33:55.893362Z",
     "iopub.status.busy": "2024-04-30T20:33:55.893362Z",
     "iopub.status.idle": "2024-04-30T20:33:55.897926Z",
     "shell.execute_reply": "2024-04-30T20:33:55.897702Z"
    }
   },
   "outputs": [
    {
     "name": "stdout",
     "output_type": "stream",
     "text": [
      "START DATE: 01-JAN-2016\n",
      "MATURITY DATE: 01-JAN-2019\n",
      "COUPON (%): 6.2\n",
      "FREQUENCY: FrequencyTypes.SEMI_ANNUAL\n",
      "DAY COUNT: DayCountTypes.THIRTY_E_360\n",
      "\n",
      "PAYMENTS VALUATION:\n",
      "+---------+-------------+----------+------+------+--------+------+--------+\n",
      "| PAY_NUM |    PAY_dt   | NOTIONAL | RATE | PMNT |   DF   |  PV  | CUM_PV |\n",
      "+---------+-------------+----------+------+------+--------+------+--------+\n",
      "|    1    | 01-JUL-2016 |  100.0   | 6.2  | 3.1  | 0.6771 | 2.1  |  2.1   |\n",
      "|    2    | 01-JAN-2017 |  100.0   | 6.2  | 3.1  | 0.657  | 2.04 |  4.14  |\n",
      "|    3    | 01-JUL-2017 |  100.0   | 6.2  | 3.1  | 0.6376 | 1.98 |  6.11  |\n",
      "|    4    | 01-JAN-2018 |  100.0   | 6.2  | 3.1  | 0.6188 | 1.92 |  8.03  |\n",
      "|    5    | 01-JUL-2018 |  100.0   | 6.2  | 3.1  | 0.6005 | 1.86 |  9.89  |\n",
      "|    6    | 01-JAN-2019 |  100.0   | 6.2  | 3.1  | 0.5827 | 1.81 |  11.7  |\n",
      "+---------+-------------+----------+------+------+--------+------+--------+\n"
     ]
    }
   ],
   "source": [
    "swaption.print_swap_fixed_leg()"
   ]
  },
  {
   "cell_type": "markdown",
   "metadata": {},
   "source": [
    "## Increasing Yield Curve"
   ]
  },
  {
   "cell_type": "code",
   "execution_count": 12,
   "metadata": {
    "execution": {
     "iopub.execute_input": "2024-04-30T20:33:55.900470Z",
     "iopub.status.busy": "2024-04-30T20:33:55.898928Z",
     "iopub.status.idle": "2024-04-30T20:33:55.902644Z",
     "shell.execute_reply": "2024-04-30T20:33:55.902644Z"
    }
   },
   "outputs": [],
   "source": [
    "value_dt = Date(1, 1, 2010)"
   ]
  },
  {
   "cell_type": "code",
   "execution_count": 13,
   "metadata": {
    "execution": {
     "iopub.execute_input": "2024-04-30T20:33:55.904645Z",
     "iopub.status.busy": "2024-04-30T20:33:55.904645Z",
     "iopub.status.idle": "2024-04-30T20:33:55.908305Z",
     "shell.execute_reply": "2024-04-30T20:33:55.908305Z"
    }
   },
   "outputs": [],
   "source": [
    "dates = [Date(1,1,2011), Date(1,1,2012), Date(1,1,2013),\n",
    "         Date(1,1,2014), Date(1,1,2015)]\n",
    "rates = [0.03, 0.034, 0.037, 0.039, 0.04]\n",
    "\n",
    "freq_type = FrequencyTypes.CONTINUOUS\n",
    "day_count_type = DayCountTypes.THIRTY_E_360"
   ]
  },
  {
   "cell_type": "code",
   "execution_count": 14,
   "metadata": {
    "execution": {
     "iopub.execute_input": "2024-04-30T20:33:55.910948Z",
     "iopub.status.busy": "2024-04-30T20:33:55.910948Z",
     "iopub.status.idle": "2024-04-30T20:33:55.914612Z",
     "shell.execute_reply": "2024-04-30T20:33:55.914612Z"
    }
   },
   "outputs": [],
   "source": [
    "libor_curve = DiscountCurveZeros(value_dt, dates, rates, freq_type, \n",
    "                                   day_count_type, InterpTypes.LINEAR_ZERO_RATES)"
   ]
  },
  {
   "cell_type": "code",
   "execution_count": 15,
   "metadata": {
    "execution": {
     "iopub.execute_input": "2024-04-30T20:33:55.917607Z",
     "iopub.status.busy": "2024-04-30T20:33:55.917607Z",
     "iopub.status.idle": "2024-04-30T20:33:55.921465Z",
     "shell.execute_reply": "2024-04-30T20:33:55.921465Z"
    }
   },
   "outputs": [
    {
     "name": "stdout",
     "output_type": "stream",
     "text": [
      "OBJECT TYPE: DiscountCurveZeros\n",
      "VALUATION DATE: 01-JAN-2010\n",
      "FREQUENCY TYPE: FrequencyTypes.CONTINUOUS\n",
      "DAY COUNT TYPE: DayCountTypes.THIRTY_E_360\n",
      "INTERP TYPE: InterpTypes.LINEAR_ZERO_RATES\n",
      "DATES: ZERO RATES\n",
      " 01-JAN-2011:  0.0300000\n",
      " 01-JAN-2012:  0.0340000\n",
      " 01-JAN-2013:  0.0370000\n",
      " 01-JAN-2014:  0.0390000\n",
      " 01-JAN-2015:  0.0400000\n",
      "\n"
     ]
    }
   ],
   "source": [
    "print(libor_curve)"
   ]
  },
  {
   "cell_type": "code",
   "execution_count": 16,
   "metadata": {
    "execution": {
     "iopub.execute_input": "2024-04-30T20:33:55.924461Z",
     "iopub.status.busy": "2024-04-30T20:33:55.924461Z",
     "iopub.status.idle": "2024-04-30T20:33:55.928045Z",
     "shell.execute_reply": "2024-04-30T20:33:55.928045Z"
    }
   },
   "outputs": [],
   "source": [
    "settle_dt = Date(1, 1, 2011)\n",
    "exercise_date = Date(1, 1, 2012)\n",
    "maturity_dt = Date(1, 1, 2017)\n",
    "fixed_cpn = 0.03\n",
    "fixed_freq_type = FrequencyTypes.SEMI_ANNUAL\n",
    "fixed_dc_type = DayCountTypes.THIRTY_E_360\n",
    "notional = 1000.0\n",
    "swaptionType = SwapTypes.RECEIVE  "
   ]
  },
  {
   "cell_type": "code",
   "execution_count": 17,
   "metadata": {
    "execution": {
     "iopub.execute_input": "2024-04-30T20:33:55.930565Z",
     "iopub.status.busy": "2024-04-30T20:33:55.930565Z",
     "iopub.status.idle": "2024-04-30T20:33:55.935017Z",
     "shell.execute_reply": "2024-04-30T20:33:55.934482Z"
    }
   },
   "outputs": [],
   "source": [
    "swaption = IborSwaption(settle_dt, \n",
    "                            exercise_date,\n",
    "                            maturity_dt,\n",
    "                            swaptionType,\n",
    "                            fixed_cpn,\n",
    "                            fixed_freq_type,\n",
    "                            fixed_dc_type, \n",
    "                            notional)"
   ]
  },
  {
   "cell_type": "code",
   "execution_count": 18,
   "metadata": {
    "execution": {
     "iopub.execute_input": "2024-04-30T20:33:55.937044Z",
     "iopub.status.busy": "2024-04-30T20:33:55.937044Z",
     "iopub.status.idle": "2024-04-30T20:33:55.940554Z",
     "shell.execute_reply": "2024-04-30T20:33:55.940554Z"
    }
   },
   "outputs": [],
   "source": [
    "model = Black(0.21)"
   ]
  },
  {
   "cell_type": "code",
   "execution_count": 19,
   "metadata": {
    "execution": {
     "iopub.execute_input": "2024-04-30T20:33:55.943219Z",
     "iopub.status.busy": "2024-04-30T20:33:55.943219Z",
     "iopub.status.idle": "2024-04-30T20:33:55.948669Z",
     "shell.execute_reply": "2024-04-30T20:33:55.948669Z"
    }
   },
   "outputs": [
    {
     "data": {
      "text/plain": [
       "0.5781373808512332"
      ]
     },
     "execution_count": 19,
     "metadata": {},
     "output_type": "execute_result"
    }
   ],
   "source": [
    "swaption.value(value_dt, libor_curve, model)"
   ]
  },
  {
   "cell_type": "markdown",
   "metadata": {},
   "source": [
    "This differs from Matlab who find 0.5771."
   ]
  },
  {
   "cell_type": "code",
   "execution_count": 20,
   "metadata": {
    "execution": {
     "iopub.execute_input": "2024-04-30T20:33:55.950669Z",
     "iopub.status.busy": "2024-04-30T20:33:55.950669Z",
     "iopub.status.idle": "2024-04-30T20:33:55.955165Z",
     "shell.execute_reply": "2024-04-30T20:33:55.954513Z"
    }
   },
   "outputs": [
    {
     "name": "stdout",
     "output_type": "stream",
     "text": [
      "OBJECT TYPE: IborSwaption\n",
      "SETTLEMENT DATE: 01-JAN-2011\n",
      "EXERCISE DATE: 01-JAN-2012\n",
      "SWAP FIXED LEG TYPE: SwapTypes.RECEIVE\n",
      "SWAP MATURITY DATE: 01-JAN-2017\n",
      "SWAP NOTIONAL: 1000.0\n",
      "FIXED cpn: 3.0\n",
      "FIXED FREQUENCY: FrequencyTypes.SEMI_ANNUAL\n",
      "FIXED DAY COUNT: DayCountTypes.THIRTY_E_360\n",
      "FLOAT FREQUENCY: FrequencyTypes.QUARTERLY\n",
      "FLOAT DAY COUNT: DayCountTypes.THIRTY_E_360\n",
      "PV01: 4.15882930843742\n",
      "FWD SWAP RATE: 4.29350521399147\n",
      "FWD DF TO EXPIRY: 0.9342604735772135\n"
     ]
    }
   ],
   "source": [
    "print(swaption)"
   ]
  },
  {
   "cell_type": "markdown",
   "metadata": {},
   "source": [
    "Let's just check the swap rate"
   ]
  },
  {
   "cell_type": "code",
   "execution_count": 21,
   "metadata": {
    "execution": {
     "iopub.execute_input": "2024-04-30T20:33:55.957162Z",
     "iopub.status.busy": "2024-04-30T20:33:55.957162Z",
     "iopub.status.idle": "2024-04-30T20:33:55.961573Z",
     "shell.execute_reply": "2024-04-30T20:33:55.961573Z"
    }
   },
   "outputs": [
    {
     "data": {
      "text/plain": [
       "array([0.04293445])"
      ]
     },
     "execution_count": 21,
     "metadata": {},
     "output_type": "execute_result"
    }
   ],
   "source": [
    "libor_curve.swap_rate(exercise_date, \n",
    "                   maturity_dt,\n",
    "                   FrequencyTypes.SEMI_ANNUAL, \n",
    "                   DayCountTypes.THIRTY_E_360)"
   ]
  },
  {
   "cell_type": "markdown",
   "metadata": {},
   "source": [
    "As required, it's the same."
   ]
  },
  {
   "cell_type": "code",
   "execution_count": 22,
   "metadata": {
    "execution": {
     "iopub.execute_input": "2024-04-30T20:33:55.964107Z",
     "iopub.status.busy": "2024-04-30T20:33:55.964107Z",
     "iopub.status.idle": "2024-04-30T20:33:55.968624Z",
     "shell.execute_reply": "2024-04-30T20:33:55.968624Z"
    }
   },
   "outputs": [
    {
     "name": "stdout",
     "output_type": "stream",
     "text": [
      "START DATE: 01-JAN-2012\n",
      "MATURITY DATE: 02-JAN-2017\n",
      "COUPON (%): 3.0\n",
      "FREQUENCY: FrequencyTypes.SEMI_ANNUAL\n",
      "DAY COUNT: DayCountTypes.THIRTY_E_360\n",
      "\n",
      "PAYMENTS VALUATION:\n",
      "+---------+-------------+----------+------+-------+--------+-------+--------+\n",
      "| PAY_NUM |    PAY_dt   | NOTIONAL | RATE |  PMNT |   DF   |   PV  | CUM_PV |\n",
      "+---------+-------------+----------+------+-------+--------+-------+--------+\n",
      "|    1    | 02-JUL-2012 |  1000.0  | 3.0  | 15.08 | 0.9151 |  13.8 |  13.8  |\n",
      "|    2    | 01-JAN-2013 |  1000.0  | 3.0  | 14.92 | 0.8949 | 13.35 | 27.15  |\n",
      "|    3    | 01-JUL-2013 |  1000.0  | 3.0  |  15.0 | 0.8756 | 13.13 | 40.29  |\n",
      "|    4    | 01-JAN-2014 |  1000.0  | 3.0  |  15.0 | 0.8556 | 12.83 | 53.12  |\n",
      "|    5    | 01-JUL-2014 |  1000.0  | 3.0  |  15.0 | 0.8373 | 12.56 | 65.68  |\n",
      "|    6    | 01-JAN-2015 |  1000.0  | 3.0  |  15.0 | 0.8187 | 12.28 | 77.96  |\n",
      "|    7    | 01-JUL-2015 |  1000.0  | 3.0  |  15.0 | 0.8027 | 12.04 |  90.0  |\n",
      "|    8    | 01-JAN-2016 |  1000.0  | 3.0  |  15.0 | 0.7866 |  11.8 | 101.8  |\n",
      "|    9    | 01-JUL-2016 |  1000.0  | 3.0  |  15.0 | 0.7711 | 11.57 | 113.37 |\n",
      "|    10   | 02-JAN-2017 |  1000.0  | 3.0  | 15.08 | 0.7557 |  11.4 | 124.76 |\n",
      "+---------+-------------+----------+------+-------+--------+-------+--------+\n"
     ]
    }
   ],
   "source": [
    "swaption.print_swap_fixed_leg()"
   ]
  },
  {
   "cell_type": "markdown",
   "metadata": {},
   "source": [
    "Differences with Matlab are likely due to rate compounding or calculation of time used in volatility calculations."
   ]
  },
  {
   "cell_type": "markdown",
   "metadata": {},
   "source": [
    "Copyright (c) 2020 Dominic O'Kane"
   ]
  }
 ],
 "metadata": {
  "kernelspec": {
   "display_name": "Python 3",
   "language": "python",
   "name": "python3"
  },
  "language_info": {
   "codemirror_mode": {
    "name": "ipython",
    "version": 3
   },
   "file_extension": ".py",
   "mimetype": "text/x-python",
   "name": "python",
   "nbconvert_exporter": "python",
   "pygments_lexer": "ipython3",
   "version": "3.11.5"
  }
 },
 "nbformat": 4,
 "nbformat_minor": 4
}
