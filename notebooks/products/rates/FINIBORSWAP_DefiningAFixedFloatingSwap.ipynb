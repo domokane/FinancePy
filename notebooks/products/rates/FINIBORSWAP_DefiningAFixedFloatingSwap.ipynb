{
 "cells": [
  {
   "cell_type": "markdown",
   "metadata": {},
   "source": [
    "# Defining a Fixed-Floating Interest Rate Swap"
   ]
  },
  {
   "cell_type": "markdown",
   "metadata": {},
   "source": [
    "Simple introduction to the inputs required to define a Ibor deposit and a FRA"
   ]
  },
  {
   "cell_type": "code",
   "execution_count": 1,
   "metadata": {
    "execution": {
     "iopub.execute_input": "2025-09-14T22:26:04.232263Z",
     "iopub.status.busy": "2025-09-14T22:26:04.232144Z",
     "iopub.status.idle": "2025-09-14T22:26:05.308052Z",
     "shell.execute_reply": "2025-09-14T22:26:05.307460Z"
    }
   },
   "outputs": [],
   "source": [
    "from financepy.utils import *\n",
    "from financepy.products.rates import *"
   ]
  },
  {
   "cell_type": "markdown",
   "metadata": {},
   "source": [
    "## Creating the Swap"
   ]
  },
  {
   "cell_type": "markdown",
   "metadata": {},
   "source": [
    "We begin by setting the market conventions we wish to use."
   ]
  },
  {
   "cell_type": "code",
   "execution_count": 2,
   "metadata": {
    "execution": {
     "iopub.execute_input": "2025-09-14T22:26:05.309993Z",
     "iopub.status.busy": "2025-09-14T22:26:05.309777Z",
     "iopub.status.idle": "2025-09-14T22:26:05.312092Z",
     "shell.execute_reply": "2025-09-14T22:26:05.311892Z"
    }
   },
   "outputs": [],
   "source": [
    "swap_cal_type = CalendarTypes.TARGET\n",
    "bd_type = BusDayAdjustTypes.FOLLOWING\n",
    "dg_type = DateGenRuleTypes.BACKWARD"
   ]
  },
  {
   "cell_type": "markdown",
   "metadata": {},
   "source": [
    "We then define the Fixed Leg"
   ]
  },
  {
   "cell_type": "code",
   "execution_count": 3,
   "metadata": {
    "execution": {
     "iopub.execute_input": "2025-09-14T22:26:05.314985Z",
     "iopub.status.busy": "2025-09-14T22:26:05.314514Z",
     "iopub.status.idle": "2025-09-14T22:26:05.317416Z",
     "shell.execute_reply": "2025-09-14T22:26:05.317036Z"
    }
   },
   "outputs": [],
   "source": [
    "fixed_cpn = 0.05\n",
    "fixed_freq_type = FrequencyTypes.ANNUAL\n",
    "fixed_dc_type = DayCountTypes.ACT_360"
   ]
  },
  {
   "cell_type": "markdown",
   "metadata": {},
   "source": [
    "And then we define the Floating Leg"
   ]
  },
  {
   "cell_type": "code",
   "execution_count": 4,
   "metadata": {
    "execution": {
     "iopub.execute_input": "2025-09-14T22:26:05.318492Z",
     "iopub.status.busy": "2025-09-14T22:26:05.318380Z",
     "iopub.status.idle": "2025-09-14T22:26:05.320200Z",
     "shell.execute_reply": "2025-09-14T22:26:05.319970Z"
    }
   },
   "outputs": [],
   "source": [
    "float_spread = 0.0\n",
    "float_freq_type = FrequencyTypes.SEMI_ANNUAL\n",
    "float_dc_type = DayCountTypes.ACT_360"
   ]
  },
  {
   "cell_type": "markdown",
   "metadata": {},
   "source": [
    "We need to specify the size and direction of the swap."
   ]
  },
  {
   "cell_type": "code",
   "execution_count": 5,
   "metadata": {
    "execution": {
     "iopub.execute_input": "2025-09-14T22:26:05.321644Z",
     "iopub.status.busy": "2025-09-14T22:26:05.321342Z",
     "iopub.status.idle": "2025-09-14T22:26:05.323773Z",
     "shell.execute_reply": "2025-09-14T22:26:05.323489Z"
    }
   },
   "outputs": [],
   "source": [
    "swap_type = SwapTypes.RECEIVE\n",
    "notional = 10 * ONE_MILLION"
   ]
  },
  {
   "cell_type": "markdown",
   "metadata": {},
   "source": [
    "And then we define when the swap begins and ends."
   ]
  },
  {
   "cell_type": "code",
   "execution_count": 6,
   "metadata": {
    "execution": {
     "iopub.execute_input": "2025-09-14T22:26:05.325134Z",
     "iopub.status.busy": "2025-09-14T22:26:05.324868Z",
     "iopub.status.idle": "2025-09-14T22:26:05.342161Z",
     "shell.execute_reply": "2025-09-14T22:26:05.341578Z"
    }
   },
   "outputs": [],
   "source": [
    "start_dt = Date(20, 6, 2018)\n",
    "maturity_dt = Date(20, 9, 2025)"
   ]
  },
  {
   "cell_type": "markdown",
   "metadata": {},
   "source": [
    "We can now create the swap object."
   ]
  },
  {
   "cell_type": "code",
   "execution_count": 7,
   "metadata": {
    "execution": {
     "iopub.execute_input": "2025-09-14T22:26:05.344182Z",
     "iopub.status.busy": "2025-09-14T22:26:05.343976Z",
     "iopub.status.idle": "2025-09-14T22:26:05.353017Z",
     "shell.execute_reply": "2025-09-14T22:26:05.352693Z"
    }
   },
   "outputs": [],
   "source": [
    "swap = IborSwap(start_dt,\n",
    "                    maturity_dt,\n",
    "                    swap_type,\n",
    "                    fixed_cpn,\n",
    "                    fixed_freq_type,\n",
    "                    fixed_dc_type,\n",
    "                    notional,\n",
    "                    float_spread,\n",
    "                    float_freq_type,\n",
    "                    float_dc_type,\n",
    "                    swap_cal_type,\n",
    "                    bd_type,\n",
    "                    dg_type)"
   ]
  },
  {
   "cell_type": "code",
   "execution_count": 8,
   "metadata": {
    "execution": {
     "iopub.execute_input": "2025-09-14T22:26:05.354112Z",
     "iopub.status.busy": "2025-09-14T22:26:05.353994Z",
     "iopub.status.idle": "2025-09-14T22:26:05.357107Z",
     "shell.execute_reply": "2025-09-14T22:26:05.356831Z"
    }
   },
   "outputs": [
    {
     "name": "stdout",
     "output_type": "stream",
     "text": [
      "OBJECT TYPE: IborSwap\n",
      "OBJECT TYPE: SwapFixedLeg\n",
      "START DATE: 20-JUN-2018\n",
      "TERMINATION DATE: 20-SEP-2025\n",
      "MATURITY DATE: 22-SEP-2025\n",
      "NOTIONAL: 10000000\n",
      "PRINCIPAL: 0.0\n",
      "LEG TYPE: SwapTypes.RECEIVE\n",
      "COUPON: 0.05\n",
      "FREQUENCY: FrequencyTypes.ANNUAL\n",
      "DAY COUNT: DayCountTypes.ACT_360\n",
      "CALENDAR: CalendarTypes.TARGET\n",
      "BUS DAY ADJUST: BusDayAdjustTypes.FOLLOWING\n",
      "DATE GEN TYPE: DateGenRuleTypes.BACKWARD\n",
      "\n",
      "OBJECT TYPE: SwapFloatLeg\n",
      "START DATE: 20-JUN-2018\n",
      "TERMINATION DATE: 20-SEP-2025\n",
      "MATURITY DATE: 22-SEP-2025\n",
      "NOTIONAL: 10000000\n",
      "SWAP TYPE: SwapTypes.PAY\n",
      "SPREAD (BPS): 0.0\n",
      "FREQUENCY: FrequencyTypes.SEMI_ANNUAL\n",
      "DAY COUNT: DayCountTypes.ACT_360\n",
      "CALENDAR: CalendarTypes.TARGET\n",
      "BUS DAY ADJUST: BusDayAdjustTypes.FOLLOWING\n",
      "DATE GEN TYPE: DateGenRuleTypes.BACKWARD\n",
      "\n"
     ]
    }
   ],
   "source": [
    "print(swap)"
   ]
  },
  {
   "cell_type": "code",
   "execution_count": 9,
   "metadata": {
    "execution": {
     "iopub.execute_input": "2025-09-14T22:26:05.358205Z",
     "iopub.status.busy": "2025-09-14T22:26:05.358089Z",
     "iopub.status.idle": "2025-09-14T22:26:05.361164Z",
     "shell.execute_reply": "2025-09-14T22:26:05.360841Z"
    }
   },
   "outputs": [
    {
     "name": "stdout",
     "output_type": "stream",
     "text": [
      "START DATE: 20-JUN-2018\n",
      "MATURITY DATE: 22-SEP-2025\n",
      "COUPON (%): 5.0\n",
      "FREQUENCY: FrequencyTypes.ANNUAL\n",
      "DAY COUNT: DayCountTypes.ACT_360\n",
      "\n",
      "PAYMENTS SCHEDULE:\n",
      "PAY_NUM | PAY_dt      | ACCR_START  | ACCR_END    | DAYS  | YEARFRAC | RATE | PMNT     \n",
      "--------+-------------+-------------+-------------+-------+----------+------+----------\n",
      "      1 | 20-SEP-2018 | 20-JUN-2018 | 20-SEP-2018 |  92.0 |   0.2556 |  5.0 | 127777.78\n",
      "      2 | 20-SEP-2019 | 20-SEP-2018 | 20-SEP-2019 | 365.0 |   1.0139 |  5.0 | 506944.44\n",
      "      3 | 21-SEP-2020 | 20-SEP-2019 | 21-SEP-2020 | 367.0 |   1.0194 |  5.0 | 509722.22\n",
      "      4 | 20-SEP-2021 | 21-SEP-2020 | 20-SEP-2021 | 364.0 |   1.0111 |  5.0 | 505555.56\n",
      "      5 | 20-SEP-2022 | 20-SEP-2021 | 20-SEP-2022 | 365.0 |   1.0139 |  5.0 | 506944.44\n",
      "      6 | 20-SEP-2023 | 20-SEP-2022 | 20-SEP-2023 | 365.0 |   1.0139 |  5.0 | 506944.44\n",
      "      7 | 20-SEP-2024 | 20-SEP-2023 | 20-SEP-2024 | 366.0 |   1.0167 |  5.0 | 508333.33\n",
      "      8 | 22-SEP-2025 | 20-SEP-2024 | 22-SEP-2025 | 367.0 |   1.0194 |  5.0 | 509722.22\n",
      "START DATE: 20-JUN-2018\n",
      "MATURITY DATE: 22-SEP-2025\n",
      "SPREAD (bp): 0.0\n",
      "FREQUENCY: FrequencyTypes.SEMI_ANNUAL\n",
      "DAY COUNT: DayCountTypes.ACT_360\n",
      "\n",
      "PAYMENTS SCHEDULE:\n",
      "PAY_NUM | PAY_dt      | ACCR_START  | ACCR_END    | DAYS  | YEARFRAC\n",
      "--------+-------------+-------------+-------------+-------+---------\n",
      "      1 | 20-SEP-2018 | 20-JUN-2018 | 20-SEP-2018 |  92.0 |   0.2556\n",
      "      2 | 20-MAR-2019 | 20-SEP-2018 | 20-MAR-2019 | 181.0 |   0.5028\n",
      "      3 | 20-SEP-2019 | 20-MAR-2019 | 20-SEP-2019 | 184.0 |   0.5111\n",
      "      4 | 20-MAR-2020 | 20-SEP-2019 | 20-MAR-2020 | 182.0 |   0.5056\n",
      "      5 | 21-SEP-2020 | 20-MAR-2020 | 21-SEP-2020 | 185.0 |   0.5139\n",
      "      6 | 22-MAR-2021 | 21-SEP-2020 | 22-MAR-2021 | 182.0 |   0.5056\n",
      "      7 | 20-SEP-2021 | 22-MAR-2021 | 20-SEP-2021 | 182.0 |   0.5056\n",
      "      8 | 21-MAR-2022 | 20-SEP-2021 | 21-MAR-2022 | 182.0 |   0.5056\n",
      "      9 | 20-SEP-2022 | 21-MAR-2022 | 20-SEP-2022 | 183.0 |   0.5083\n",
      "     10 | 20-MAR-2023 | 20-SEP-2022 | 20-MAR-2023 | 181.0 |   0.5028\n",
      "     11 | 20-SEP-2023 | 20-MAR-2023 | 20-SEP-2023 | 184.0 |   0.5111\n",
      "     12 | 20-MAR-2024 | 20-SEP-2023 | 20-MAR-2024 | 182.0 |   0.5056\n",
      "     13 | 20-SEP-2024 | 20-MAR-2024 | 20-SEP-2024 | 184.0 |   0.5111\n",
      "     14 | 20-MAR-2025 | 20-SEP-2024 | 20-MAR-2025 | 181.0 |   0.5028\n",
      "     15 | 22-SEP-2025 | 20-MAR-2025 | 22-SEP-2025 | 186.0 |   0.5167\n"
     ]
    }
   ],
   "source": [
    "swap.print_payments()"
   ]
  },
  {
   "cell_type": "markdown",
   "metadata": {},
   "source": [
    "## Valuation"
   ]
  },
  {
   "cell_type": "code",
   "execution_count": 10,
   "metadata": {
    "execution": {
     "iopub.execute_input": "2025-09-14T22:26:05.362303Z",
     "iopub.status.busy": "2025-09-14T22:26:05.362191Z",
     "iopub.status.idle": "2025-09-14T22:26:05.364115Z",
     "shell.execute_reply": "2025-09-14T22:26:05.363902Z"
    }
   },
   "outputs": [],
   "source": [
    "value_dt = Date(20,3,2020)"
   ]
  },
  {
   "cell_type": "code",
   "execution_count": 11,
   "metadata": {
    "execution": {
     "iopub.execute_input": "2025-09-14T22:26:05.365153Z",
     "iopub.status.busy": "2025-09-14T22:26:05.364985Z",
     "iopub.status.idle": "2025-09-14T22:26:05.367257Z",
     "shell.execute_reply": "2025-09-14T22:26:05.366953Z"
    }
   },
   "outputs": [],
   "source": [
    "settle_dt = value_dt.add_weekdays(0)"
   ]
  },
  {
   "cell_type": "markdown",
   "metadata": {},
   "source": [
    "This is just using a flat curve without any Ibor accrual factors."
   ]
  },
  {
   "cell_type": "code",
   "execution_count": 12,
   "metadata": {
    "execution": {
     "iopub.execute_input": "2025-09-14T22:26:05.368294Z",
     "iopub.status.busy": "2025-09-14T22:26:05.368185Z",
     "iopub.status.idle": "2025-09-14T22:26:05.370042Z",
     "shell.execute_reply": "2025-09-14T22:26:05.369783Z"
    }
   },
   "outputs": [],
   "source": [
    "from financepy.market.curves.discount_curve_flat import DiscountCurveFlat"
   ]
  },
  {
   "cell_type": "code",
   "execution_count": 13,
   "metadata": {
    "execution": {
     "iopub.execute_input": "2025-09-14T22:26:05.371173Z",
     "iopub.status.busy": "2025-09-14T22:26:05.371059Z",
     "iopub.status.idle": "2025-09-14T22:26:05.373347Z",
     "shell.execute_reply": "2025-09-14T22:26:05.373066Z"
    }
   },
   "outputs": [],
   "source": [
    "discount_curve = DiscountCurveFlat(value_dt, 0.05, FrequencyTypes.SEMI_ANNUAL)"
   ]
  },
  {
   "cell_type": "markdown",
   "metadata": {},
   "source": [
    "Need to specify the next fixing on the floating leg"
   ]
  },
  {
   "cell_type": "code",
   "execution_count": 14,
   "metadata": {
    "execution": {
     "iopub.execute_input": "2025-09-14T22:26:05.374867Z",
     "iopub.status.busy": "2025-09-14T22:26:05.374753Z",
     "iopub.status.idle": "2025-09-14T22:26:05.378524Z",
     "shell.execute_reply": "2025-09-14T22:26:05.378207Z"
    }
   },
   "outputs": [
    {
     "data": {
      "text/plain": [
       "np.float64(219755.211551575)"
      ]
     },
     "execution_count": 14,
     "metadata": {},
     "output_type": "execute_result"
    }
   ],
   "source": [
    "swap.value(settle_dt, discount_curve, discount_curve)"
   ]
  },
  {
   "cell_type": "markdown",
   "metadata": {},
   "source": [
    "We can examine the individual legs - here is the floating leg valuation"
   ]
  },
  {
   "cell_type": "code",
   "execution_count": 15,
   "metadata": {
    "execution": {
     "iopub.execute_input": "2025-09-14T22:26:05.379425Z",
     "iopub.status.busy": "2025-09-14T22:26:05.379332Z",
     "iopub.status.idle": "2025-09-14T22:26:05.381635Z",
     "shell.execute_reply": "2025-09-14T22:26:05.381369Z"
    }
   },
   "outputs": [
    {
     "name": "stdout",
     "output_type": "stream",
     "text": [
      "START DATE: 20-JUN-2018\n",
      "MATURITY DATE: 22-SEP-2025\n",
      "SPREAD (BPS): 0.0\n",
      "FREQUENCY: FrequencyTypes.SEMI_ANNUAL\n",
      "DAY COUNT: DayCountTypes.ACT_360\n",
      "\n",
      "PAYMENTS VALUATION:\n",
      "PAY_NUM | PAY_dt      | NOTIONAL | IBOR   | PMNT      | DF     | PV        | CUM_PV    \n",
      "--------+-------------+----------+--------+-----------+--------+-----------+-----------\n",
      "      1 | 20-SEP-2018 | 10000000 |    0.0 |       0.0 |    0.0 |       0.0 |        0.0\n",
      "      2 | 20-MAR-2019 | 10000000 |    0.0 |       0.0 |    0.0 |       0.0 |        0.0\n",
      "      3 | 20-SEP-2019 | 10000000 |    0.0 |       0.0 |    0.0 |       0.0 |        0.0\n",
      "      4 | 20-MAR-2020 | 10000000 |    0.0 |       0.0 |    0.0 |       0.0 |        0.0\n",
      "      5 | 21-SEP-2020 | 10000000 | 5.0007 | 256979.26 | 0.9753 | 250643.82 |  250643.82\n",
      "      6 | 22-MAR-2021 | 10000000 | 4.9997 | 252764.41 | 0.9517 | 240545.23 |  491189.05\n",
      "      7 | 20-SEP-2021 | 10000000 | 4.9998 | 252769.19 | 0.9285 | 234698.59 |  725887.64\n",
      "      8 | 21-MAR-2022 | 10000000 | 4.9998 | 252769.19 | 0.9059 | 228989.73 |  954877.37\n",
      "      9 | 20-SEP-2022 | 10000000 | 5.0002 |  254175.3 | 0.8838 | 224632.17 | 1179509.54\n",
      "     10 | 20-MAR-2023 | 10000000 | 4.9995 | 251363.28 | 0.8624 | 216772.76 |  1396282.3\n",
      "     11 | 20-SEP-2023 | 10000000 | 5.0005 |  255581.6 | 0.8412 | 214991.09 | 1611273.39\n",
      "     12 | 20-MAR-2024 | 10000000 | 4.9998 | 252765.49 | 0.8207 | 207456.41 | 1818729.79\n",
      "     13 | 20-SEP-2024 | 10000000 | 5.0003 | 255572.87 | 0.8006 | 204616.83 | 2023346.63\n",
      "     14 | 20-MAR-2025 | 10000000 | 4.9994 | 251358.47 | 0.7813 | 196381.67 |  2219728.3\n",
      "     15 | 22-SEP-2025 | 10000000 | 5.0012 | 258394.76 | 0.7619 | 196861.87 | 2416590.17\n"
     ]
    }
   ],
   "source": [
    "swap.print_float_leg_pv()"
   ]
  },
  {
   "cell_type": "markdown",
   "metadata": {},
   "source": [
    "And here is the fixed leg valuation"
   ]
  },
  {
   "cell_type": "code",
   "execution_count": 16,
   "metadata": {
    "execution": {
     "iopub.execute_input": "2025-09-14T22:26:05.382577Z",
     "iopub.status.busy": "2025-09-14T22:26:05.382469Z",
     "iopub.status.idle": "2025-09-14T22:26:05.384554Z",
     "shell.execute_reply": "2025-09-14T22:26:05.384305Z"
    }
   },
   "outputs": [
    {
     "name": "stdout",
     "output_type": "stream",
     "text": [
      "START DATE: 20-JUN-2018\n",
      "MATURITY DATE: 22-SEP-2025\n",
      "COUPON (%): 5.0\n",
      "FREQUENCY: FrequencyTypes.ANNUAL\n",
      "DAY COUNT: DayCountTypes.ACT_360\n",
      "\n",
      "PAYMENTS VALUATION:\n",
      "PAY_NUM | PAY_dt      | NOTIONAL | RATE | PMNT      | DF     | PV        | CUM_PV    \n",
      "--------+-------------+----------+------+-----------+--------+-----------+-----------\n",
      "      1 | 20-SEP-2018 | 10000000 |  5.0 | 127777.78 |    0.0 |       0.0 |        0.0\n",
      "      2 | 20-SEP-2019 | 10000000 |  5.0 | 506944.44 |    0.0 |       0.0 |        0.0\n",
      "      3 | 21-SEP-2020 | 10000000 |  5.0 | 509722.22 | 0.9753 | 497155.79 |  497155.79\n",
      "      4 | 20-SEP-2021 | 10000000 |  5.0 | 505555.56 | 0.9285 | 469413.12 |  966568.91\n",
      "      5 | 20-SEP-2022 | 10000000 |  5.0 | 506944.44 | 0.8838 | 448021.63 | 1414590.54\n",
      "      6 | 20-SEP-2023 | 10000000 |  5.0 | 506944.44 | 0.8412 | 426433.43 | 1841023.97\n",
      "      7 | 20-SEP-2024 | 10000000 |  5.0 | 508333.33 | 0.8006 |  406982.0 | 2248005.97\n",
      "      8 | 22-SEP-2025 | 10000000 |  5.0 | 509722.22 | 0.7619 | 388339.41 | 2636345.38\n"
     ]
    }
   ],
   "source": [
    "swap.print_fixed_leg_pv()"
   ]
  },
  {
   "cell_type": "code",
   "execution_count": 17,
   "metadata": {
    "execution": {
     "iopub.execute_input": "2025-09-14T22:26:05.386012Z",
     "iopub.status.busy": "2025-09-14T22:26:05.385724Z",
     "iopub.status.idle": "2025-09-14T22:26:05.388570Z",
     "shell.execute_reply": "2025-09-14T22:26:05.388310Z"
    }
   },
   "outputs": [
    {
     "data": {
      "text/plain": [
       "np.float64(5.272690754192439)"
      ]
     },
     "execution_count": 17,
     "metadata": {},
     "output_type": "execute_result"
    }
   ],
   "source": [
    "swap.pv01(value_dt, discount_curve)"
   ]
  },
  {
   "cell_type": "code",
   "execution_count": 18,
   "metadata": {
    "execution": {
     "iopub.execute_input": "2025-09-14T22:26:05.389503Z",
     "iopub.status.busy": "2025-09-14T22:26:05.389392Z",
     "iopub.status.idle": "2025-09-14T22:26:05.392770Z",
     "shell.execute_reply": "2025-09-14T22:26:05.392465Z"
    }
   },
   "outputs": [
    {
     "data": {
      "text/plain": [
       "np.float64(0.04583219988054786)"
      ]
     },
     "execution_count": 18,
     "metadata": {},
     "output_type": "execute_result"
    }
   ],
   "source": [
    "swap.swap_rate(value_dt, discount_curve)"
   ]
  },
  {
   "cell_type": "markdown",
   "metadata": {},
   "source": [
    "## Including a final exchange of principal"
   ]
  },
  {
   "cell_type": "code",
   "execution_count": 19,
   "metadata": {
    "execution": {
     "iopub.execute_input": "2025-09-14T22:26:05.394261Z",
     "iopub.status.busy": "2025-09-14T22:26:05.393914Z",
     "iopub.status.idle": "2025-09-14T22:26:05.397124Z",
     "shell.execute_reply": "2025-09-14T22:26:05.396782Z"
    }
   },
   "outputs": [
    {
     "data": {
      "text/plain": [
       "np.float64(219755.211551575)"
      ]
     },
     "execution_count": 19,
     "metadata": {},
     "output_type": "execute_result"
    }
   ],
   "source": [
    "swap.value(settle_dt, discount_curve, discount_curve)"
   ]
  },
  {
   "cell_type": "code",
   "execution_count": 20,
   "metadata": {
    "execution": {
     "iopub.execute_input": "2025-09-14T22:26:05.398222Z",
     "iopub.status.busy": "2025-09-14T22:26:05.398101Z",
     "iopub.status.idle": "2025-09-14T22:26:05.401147Z",
     "shell.execute_reply": "2025-09-14T22:26:05.400790Z"
    }
   },
   "outputs": [
    {
     "name": "stdout",
     "output_type": "stream",
     "text": [
      "START DATE: 20-JUN-2018\n",
      "MATURITY DATE: 22-SEP-2025\n",
      "SPREAD (BPS): 0.0\n",
      "FREQUENCY: FrequencyTypes.SEMI_ANNUAL\n",
      "DAY COUNT: DayCountTypes.ACT_360\n",
      "\n",
      "PAYMENTS VALUATION:\n",
      "PAY_NUM | PAY_dt      | NOTIONAL | IBOR   | PMNT      | DF     | PV        | CUM_PV    \n",
      "--------+-------------+----------+--------+-----------+--------+-----------+-----------\n",
      "      1 | 20-SEP-2018 | 10000000 |    0.0 |       0.0 |    0.0 |       0.0 |        0.0\n",
      "      2 | 20-MAR-2019 | 10000000 |    0.0 |       0.0 |    0.0 |       0.0 |        0.0\n",
      "      3 | 20-SEP-2019 | 10000000 |    0.0 |       0.0 |    0.0 |       0.0 |        0.0\n",
      "      4 | 20-MAR-2020 | 10000000 |    0.0 |       0.0 |    0.0 |       0.0 |        0.0\n",
      "      5 | 21-SEP-2020 | 10000000 | 5.0007 | 256979.26 | 0.9753 | 250643.82 |  250643.82\n",
      "      6 | 22-MAR-2021 | 10000000 | 4.9997 | 252764.41 | 0.9517 | 240545.23 |  491189.05\n",
      "      7 | 20-SEP-2021 | 10000000 | 4.9998 | 252769.19 | 0.9285 | 234698.59 |  725887.64\n",
      "      8 | 21-MAR-2022 | 10000000 | 4.9998 | 252769.19 | 0.9059 | 228989.73 |  954877.37\n",
      "      9 | 20-SEP-2022 | 10000000 | 5.0002 |  254175.3 | 0.8838 | 224632.17 | 1179509.54\n",
      "     10 | 20-MAR-2023 | 10000000 | 4.9995 | 251363.28 | 0.8624 | 216772.76 |  1396282.3\n",
      "     11 | 20-SEP-2023 | 10000000 | 5.0005 |  255581.6 | 0.8412 | 214991.09 | 1611273.39\n",
      "     12 | 20-MAR-2024 | 10000000 | 4.9998 | 252765.49 | 0.8207 | 207456.41 | 1818729.79\n",
      "     13 | 20-SEP-2024 | 10000000 | 5.0003 | 255572.87 | 0.8006 | 204616.83 | 2023346.63\n",
      "     14 | 20-MAR-2025 | 10000000 | 4.9994 | 251358.47 | 0.7813 | 196381.67 |  2219728.3\n",
      "     15 | 22-SEP-2025 | 10000000 | 5.0012 | 258394.76 | 0.7619 | 196861.87 | 2416590.17\n"
     ]
    }
   ],
   "source": [
    "swap.print_float_leg_pv()"
   ]
  },
  {
   "cell_type": "markdown",
   "metadata": {},
   "source": [
    "As expected we see the final PV of the floating Leg is par (same index and discounting curve)."
   ]
  },
  {
   "cell_type": "code",
   "execution_count": 21,
   "metadata": {
    "execution": {
     "iopub.execute_input": "2025-09-14T22:26:05.402190Z",
     "iopub.status.busy": "2025-09-14T22:26:05.402077Z",
     "iopub.status.idle": "2025-09-14T22:26:05.404463Z",
     "shell.execute_reply": "2025-09-14T22:26:05.404289Z"
    }
   },
   "outputs": [
    {
     "name": "stdout",
     "output_type": "stream",
     "text": [
      "START DATE: 20-JUN-2018\n",
      "MATURITY DATE: 22-SEP-2025\n",
      "COUPON (%): 5.0\n",
      "FREQUENCY: FrequencyTypes.ANNUAL\n",
      "DAY COUNT: DayCountTypes.ACT_360\n",
      "\n",
      "PAYMENTS VALUATION:\n",
      "PAY_NUM | PAY_dt      | NOTIONAL | RATE | PMNT      | DF     | PV        | CUM_PV    \n",
      "--------+-------------+----------+------+-----------+--------+-----------+-----------\n",
      "      1 | 20-SEP-2018 | 10000000 |  5.0 | 127777.78 |    0.0 |       0.0 |        0.0\n",
      "      2 | 20-SEP-2019 | 10000000 |  5.0 | 506944.44 |    0.0 |       0.0 |        0.0\n",
      "      3 | 21-SEP-2020 | 10000000 |  5.0 | 509722.22 | 0.9753 | 497155.79 |  497155.79\n",
      "      4 | 20-SEP-2021 | 10000000 |  5.0 | 505555.56 | 0.9285 | 469413.12 |  966568.91\n",
      "      5 | 20-SEP-2022 | 10000000 |  5.0 | 506944.44 | 0.8838 | 448021.63 | 1414590.54\n",
      "      6 | 20-SEP-2023 | 10000000 |  5.0 | 506944.44 | 0.8412 | 426433.43 | 1841023.97\n",
      "      7 | 20-SEP-2024 | 10000000 |  5.0 | 508333.33 | 0.8006 |  406982.0 | 2248005.97\n",
      "      8 | 22-SEP-2025 | 10000000 |  5.0 | 509722.22 | 0.7619 | 388339.41 | 2636345.38\n"
     ]
    }
   ],
   "source": [
    "swap.print_fixed_leg_pv()"
   ]
  },
  {
   "cell_type": "code",
   "execution_count": 22,
   "metadata": {
    "execution": {
     "iopub.execute_input": "2025-09-14T22:26:05.405910Z",
     "iopub.status.busy": "2025-09-14T22:26:05.405549Z",
     "iopub.status.idle": "2025-09-14T22:26:05.408175Z",
     "shell.execute_reply": "2025-09-14T22:26:05.407915Z"
    }
   },
   "outputs": [
    {
     "data": {
      "text/plain": [
       "np.float64(2636345.37709622)"
      ]
     },
     "execution_count": 22,
     "metadata": {},
     "output_type": "execute_result"
    }
   ],
   "source": [
    "swap.fixed_leg.value(settle_dt, discount_curve)"
   ]
  },
  {
   "cell_type": "code",
   "execution_count": 23,
   "metadata": {
    "execution": {
     "iopub.execute_input": "2025-09-14T22:26:05.409760Z",
     "iopub.status.busy": "2025-09-14T22:26:05.409630Z",
     "iopub.status.idle": "2025-09-14T22:26:05.412465Z",
     "shell.execute_reply": "2025-09-14T22:26:05.412172Z"
    }
   },
   "outputs": [
    {
     "data": {
      "text/plain": [
       "np.float64(-2416590.165544645)"
      ]
     },
     "execution_count": 23,
     "metadata": {},
     "output_type": "execute_result"
    }
   ],
   "source": [
    "swap.float_leg.value(settle_dt, discount_curve, discount_curve)"
   ]
  },
  {
   "cell_type": "markdown",
   "metadata": {},
   "source": [
    "Copyright (c) 2020 Dominic O'Kane"
   ]
  }
 ],
 "metadata": {
  "kernelspec": {
   "display_name": "base",
   "language": "python",
   "name": "python3"
  },
  "language_info": {
   "codemirror_mode": {
    "name": "ipython",
    "version": 3
   },
   "file_extension": ".py",
   "mimetype": "text/x-python",
   "name": "python",
   "nbconvert_exporter": "python",
   "pygments_lexer": "ipython3",
   "version": "3.13.7"
  }
 },
 "nbformat": 4,
 "nbformat_minor": 4
}
