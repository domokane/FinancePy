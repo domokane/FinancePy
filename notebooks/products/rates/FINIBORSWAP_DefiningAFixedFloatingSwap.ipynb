{
 "cells": [
  {
   "cell_type": "markdown",
   "metadata": {},
   "source": [
    "# Defining a Fixed-Floating Interest Rate Swap"
   ]
  },
  {
   "cell_type": "markdown",
   "metadata": {},
   "source": [
    "Simple introduction to the inputs required to define a Ibor deposit and a FRA"
   ]
  },
  {
   "cell_type": "code",
   "execution_count": 1,
   "metadata": {
    "execution": {
     "iopub.execute_input": "2025-08-27T22:38:31.740475Z",
     "iopub.status.busy": "2025-08-27T22:38:31.740262Z",
     "iopub.status.idle": "2025-08-27T22:38:33.398389Z",
     "shell.execute_reply": "2025-08-27T22:38:33.397860Z"
    }
   },
   "outputs": [],
   "source": [
    "from financepy.utils import *\n",
    "from financepy.products.rates import *"
   ]
  },
  {
   "cell_type": "markdown",
   "metadata": {},
   "source": [
    "## Creating the Swap"
   ]
  },
  {
   "cell_type": "markdown",
   "metadata": {},
   "source": [
    "We begin by setting the market conventions we wish to use."
   ]
  },
  {
   "cell_type": "code",
   "execution_count": 2,
   "metadata": {
    "execution": {
     "iopub.execute_input": "2025-08-27T22:38:33.401421Z",
     "iopub.status.busy": "2025-08-27T22:38:33.400917Z",
     "iopub.status.idle": "2025-08-27T22:38:33.403887Z",
     "shell.execute_reply": "2025-08-27T22:38:33.403474Z"
    }
   },
   "outputs": [],
   "source": [
    "swap_cal_type = CalendarTypes.TARGET\n",
    "bd_type = BusDayAdjustTypes.FOLLOWING\n",
    "dg_type = DateGenRuleTypes.BACKWARD"
   ]
  },
  {
   "cell_type": "markdown",
   "metadata": {},
   "source": [
    "We then define the Fixed Leg"
   ]
  },
  {
   "cell_type": "code",
   "execution_count": 3,
   "metadata": {
    "execution": {
     "iopub.execute_input": "2025-08-27T22:38:33.406136Z",
     "iopub.status.busy": "2025-08-27T22:38:33.405921Z",
     "iopub.status.idle": "2025-08-27T22:38:33.409092Z",
     "shell.execute_reply": "2025-08-27T22:38:33.408711Z"
    }
   },
   "outputs": [],
   "source": [
    "fixed_cpn = 0.05\n",
    "fixed_freq_type = FrequencyTypes.ANNUAL\n",
    "fixed_dc_type = DayCountTypes.ACT_360"
   ]
  },
  {
   "cell_type": "markdown",
   "metadata": {},
   "source": [
    "And then we define the Floating Leg"
   ]
  },
  {
   "cell_type": "code",
   "execution_count": 4,
   "metadata": {
    "execution": {
     "iopub.execute_input": "2025-08-27T22:38:33.410854Z",
     "iopub.status.busy": "2025-08-27T22:38:33.410655Z",
     "iopub.status.idle": "2025-08-27T22:38:33.412888Z",
     "shell.execute_reply": "2025-08-27T22:38:33.412561Z"
    }
   },
   "outputs": [],
   "source": [
    "float_spread = 0.0\n",
    "float_freq_type = FrequencyTypes.SEMI_ANNUAL\n",
    "float_dc_type = DayCountTypes.ACT_360"
   ]
  },
  {
   "cell_type": "markdown",
   "metadata": {},
   "source": [
    "We need to specify the size and direction of the swap."
   ]
  },
  {
   "cell_type": "code",
   "execution_count": 5,
   "metadata": {
    "execution": {
     "iopub.execute_input": "2025-08-27T22:38:33.414838Z",
     "iopub.status.busy": "2025-08-27T22:38:33.414570Z",
     "iopub.status.idle": "2025-08-27T22:38:33.417426Z",
     "shell.execute_reply": "2025-08-27T22:38:33.417090Z"
    }
   },
   "outputs": [],
   "source": [
    "swap_type = SwapTypes.RECEIVE\n",
    "notional = 10 * ONE_MILLION"
   ]
  },
  {
   "cell_type": "markdown",
   "metadata": {},
   "source": [
    "And then we define when the swap begins and ends."
   ]
  },
  {
   "cell_type": "code",
   "execution_count": 6,
   "metadata": {
    "execution": {
     "iopub.execute_input": "2025-08-27T22:38:33.419695Z",
     "iopub.status.busy": "2025-08-27T22:38:33.419326Z",
     "iopub.status.idle": "2025-08-27T22:38:33.437222Z",
     "shell.execute_reply": "2025-08-27T22:38:33.436739Z"
    }
   },
   "outputs": [],
   "source": [
    "start_dt = Date(20, 6, 2018)\n",
    "maturity_dt = Date(20, 9, 2025)"
   ]
  },
  {
   "cell_type": "markdown",
   "metadata": {},
   "source": [
    "We can now create the swap object."
   ]
  },
  {
   "cell_type": "code",
   "execution_count": 7,
   "metadata": {
    "execution": {
     "iopub.execute_input": "2025-08-27T22:38:33.440117Z",
     "iopub.status.busy": "2025-08-27T22:38:33.439764Z",
     "iopub.status.idle": "2025-08-27T22:38:33.448508Z",
     "shell.execute_reply": "2025-08-27T22:38:33.447951Z"
    }
   },
   "outputs": [],
   "source": [
    "swap = IborSwap(start_dt,\n",
    "                    maturity_dt,\n",
    "                    swap_type,\n",
    "                    fixed_cpn,\n",
    "                    fixed_freq_type,\n",
    "                    fixed_dc_type,\n",
    "                    notional,\n",
    "                    float_spread,\n",
    "                    float_freq_type,\n",
    "                    float_dc_type,\n",
    "                    swap_cal_type,\n",
    "                    bd_type,\n",
    "                    dg_type)"
   ]
  },
  {
   "cell_type": "code",
   "execution_count": 8,
   "metadata": {
    "execution": {
     "iopub.execute_input": "2025-08-27T22:38:33.450941Z",
     "iopub.status.busy": "2025-08-27T22:38:33.450653Z",
     "iopub.status.idle": "2025-08-27T22:38:33.454735Z",
     "shell.execute_reply": "2025-08-27T22:38:33.454259Z"
    }
   },
   "outputs": [
    {
     "name": "stdout",
     "output_type": "stream",
     "text": [
      "OBJECT TYPE: IborSwap\n",
      "OBJECT TYPE: SwapFixedLeg\n",
      "START DATE: 20-JUN-2018\n",
      "TERMINATION DATE: 20-SEP-2025\n",
      "MATURITY DATE: 22-SEP-2025\n",
      "NOTIONAL: 10000000\n",
      "PRINCIPAL: 0.0\n",
      "LEG TYPE: SwapTypes.RECEIVE\n",
      "COUPON: 0.05\n",
      "FREQUENCY: FrequencyTypes.ANNUAL\n",
      "DAY COUNT: DayCountTypes.ACT_360\n",
      "CALENDAR: CalendarTypes.TARGET\n",
      "BUS DAY ADJUST: BusDayAdjustTypes.FOLLOWING\n",
      "DATE GEN TYPE: DateGenRuleTypes.BACKWARD\n",
      "\n",
      "OBJECT TYPE: SwapFloatLeg\n",
      "START DATE: 20-JUN-2018\n",
      "TERMINATION DATE: 20-SEP-2025\n",
      "MATURITY DATE: 22-SEP-2025\n",
      "NOTIONAL: 10000000\n",
      "SWAP TYPE: SwapTypes.PAY\n",
      "SPREAD (BPS): 0.0\n",
      "FREQUENCY: FrequencyTypes.SEMI_ANNUAL\n",
      "DAY COUNT: DayCountTypes.ACT_360\n",
      "CALENDAR: CalendarTypes.TARGET\n",
      "BUS DAY ADJUST: BusDayAdjustTypes.FOLLOWING\n",
      "DATE GEN TYPE: DateGenRuleTypes.BACKWARD\n",
      "\n"
     ]
    }
   ],
   "source": [
    "print(swap)"
   ]
  },
  {
   "cell_type": "code",
   "execution_count": 9,
   "metadata": {
    "execution": {
     "iopub.execute_input": "2025-08-27T22:38:33.457033Z",
     "iopub.status.busy": "2025-08-27T22:38:33.456805Z",
     "iopub.status.idle": "2025-08-27T22:38:33.460721Z",
     "shell.execute_reply": "2025-08-27T22:38:33.460382Z"
    }
   },
   "outputs": [
    {
     "name": "stdout",
     "output_type": "stream",
     "text": [
      "START DATE: 20-JUN-2018\n",
      "MATURITY DATE: 22-SEP-2025\n",
      "COUPON (%): 5.0\n",
      "FREQUENCY: FrequencyTypes.ANNUAL\n",
      "DAY COUNT: DayCountTypes.ACT_360\n",
      "\n",
      "PAYMENTS SCHEDULE:\n",
      "PAY_NUM | PAY_dt      | ACCR_START  | ACCR_END    | DAYS  | YEARFRAC | RATE | PMNT     \n",
      "--------+-------------+-------------+-------------+-------+----------+------+----------\n",
      "      1 | 20-SEP-2018 | 20-JUN-2018 | 20-SEP-2018 |  92.0 |   0.2556 |  5.0 | 127777.78\n",
      "      2 | 20-SEP-2019 | 20-SEP-2018 | 20-SEP-2019 | 365.0 |   1.0139 |  5.0 | 506944.44\n",
      "      3 | 21-SEP-2020 | 20-SEP-2019 | 21-SEP-2020 | 367.0 |   1.0194 |  5.0 | 509722.22\n",
      "      4 | 20-SEP-2021 | 21-SEP-2020 | 20-SEP-2021 | 364.0 |   1.0111 |  5.0 | 505555.56\n",
      "      5 | 20-SEP-2022 | 20-SEP-2021 | 20-SEP-2022 | 365.0 |   1.0139 |  5.0 | 506944.44\n",
      "      6 | 20-SEP-2023 | 20-SEP-2022 | 20-SEP-2023 | 365.0 |   1.0139 |  5.0 | 506944.44\n",
      "      7 | 20-SEP-2024 | 20-SEP-2023 | 20-SEP-2024 | 366.0 |   1.0167 |  5.0 | 508333.33\n",
      "      8 | 22-SEP-2025 | 20-SEP-2024 | 22-SEP-2025 | 367.0 |   1.0194 |  5.0 | 509722.22\n",
      "START DATE: 20-JUN-2018\n",
      "MATURITY DATE: 22-SEP-2025\n",
      "SPREAD (bp): 0.0\n",
      "FREQUENCY: FrequencyTypes.SEMI_ANNUAL\n",
      "DAY COUNT: DayCountTypes.ACT_360\n",
      "\n",
      "PAYMENTS SCHEDULE:\n",
      "PAY_NUM | PAY_dt      | ACCR_START  | ACCR_END    | DAYS  | YEARFRAC\n",
      "--------+-------------+-------------+-------------+-------+---------\n",
      "      1 | 20-SEP-2018 | 20-JUN-2018 | 20-SEP-2018 |  92.0 |   0.2556\n",
      "      2 | 20-MAR-2019 | 20-SEP-2018 | 20-MAR-2019 | 181.0 |   0.5028\n",
      "      3 | 20-SEP-2019 | 20-MAR-2019 | 20-SEP-2019 | 184.0 |   0.5111\n",
      "      4 | 20-MAR-2020 | 20-SEP-2019 | 20-MAR-2020 | 182.0 |   0.5056\n",
      "      5 | 21-SEP-2020 | 20-MAR-2020 | 21-SEP-2020 | 185.0 |   0.5139\n",
      "      6 | 22-MAR-2021 | 21-SEP-2020 | 22-MAR-2021 | 182.0 |   0.5056\n",
      "      7 | 20-SEP-2021 | 22-MAR-2021 | 20-SEP-2021 | 182.0 |   0.5056\n",
      "      8 | 21-MAR-2022 | 20-SEP-2021 | 21-MAR-2022 | 182.0 |   0.5056\n",
      "      9 | 20-SEP-2022 | 21-MAR-2022 | 20-SEP-2022 | 183.0 |   0.5083\n",
      "     10 | 20-MAR-2023 | 20-SEP-2022 | 20-MAR-2023 | 181.0 |   0.5028\n",
      "     11 | 20-SEP-2023 | 20-MAR-2023 | 20-SEP-2023 | 184.0 |   0.5111\n",
      "     12 | 20-MAR-2024 | 20-SEP-2023 | 20-MAR-2024 | 182.0 |   0.5056\n",
      "     13 | 20-SEP-2024 | 20-MAR-2024 | 20-SEP-2024 | 184.0 |   0.5111\n",
      "     14 | 20-MAR-2025 | 20-SEP-2024 | 20-MAR-2025 | 181.0 |   0.5028\n",
      "     15 | 22-SEP-2025 | 20-MAR-2025 | 22-SEP-2025 | 186.0 |   0.5167\n"
     ]
    }
   ],
   "source": [
    "swap.print_payments()"
   ]
  },
  {
   "cell_type": "markdown",
   "metadata": {},
   "source": [
    "## Valuation"
   ]
  },
  {
   "cell_type": "code",
   "execution_count": 10,
   "metadata": {
    "execution": {
     "iopub.execute_input": "2025-08-27T22:38:33.462534Z",
     "iopub.status.busy": "2025-08-27T22:38:33.462336Z",
     "iopub.status.idle": "2025-08-27T22:38:33.464506Z",
     "shell.execute_reply": "2025-08-27T22:38:33.464144Z"
    }
   },
   "outputs": [],
   "source": [
    "value_dt = Date(20,3,2020)"
   ]
  },
  {
   "cell_type": "code",
   "execution_count": 11,
   "metadata": {
    "execution": {
     "iopub.execute_input": "2025-08-27T22:38:33.466103Z",
     "iopub.status.busy": "2025-08-27T22:38:33.465919Z",
     "iopub.status.idle": "2025-08-27T22:38:33.468044Z",
     "shell.execute_reply": "2025-08-27T22:38:33.467660Z"
    }
   },
   "outputs": [],
   "source": [
    "settle_dt = value_dt.add_weekdays(0)"
   ]
  },
  {
   "cell_type": "markdown",
   "metadata": {},
   "source": [
    "This is just using a flat curve without any Ibor accrual factors."
   ]
  },
  {
   "cell_type": "code",
   "execution_count": 12,
   "metadata": {
    "execution": {
     "iopub.execute_input": "2025-08-27T22:38:33.470285Z",
     "iopub.status.busy": "2025-08-27T22:38:33.470017Z",
     "iopub.status.idle": "2025-08-27T22:38:33.472513Z",
     "shell.execute_reply": "2025-08-27T22:38:33.472149Z"
    }
   },
   "outputs": [],
   "source": [
    "from financepy.market.curves.discount_curve_flat import DiscountCurveFlat"
   ]
  },
  {
   "cell_type": "code",
   "execution_count": 13,
   "metadata": {
    "execution": {
     "iopub.execute_input": "2025-08-27T22:38:33.474716Z",
     "iopub.status.busy": "2025-08-27T22:38:33.474452Z",
     "iopub.status.idle": "2025-08-27T22:38:33.478030Z",
     "shell.execute_reply": "2025-08-27T22:38:33.477669Z"
    }
   },
   "outputs": [],
   "source": [
    "discount_curve = DiscountCurveFlat(value_dt, 0.05, FrequencyTypes.SEMI_ANNUAL)"
   ]
  },
  {
   "cell_type": "markdown",
   "metadata": {},
   "source": [
    "Need to specify the next fixing on the floating leg"
   ]
  },
  {
   "cell_type": "code",
   "execution_count": 14,
   "metadata": {
    "execution": {
     "iopub.execute_input": "2025-08-27T22:38:33.480124Z",
     "iopub.status.busy": "2025-08-27T22:38:33.479873Z",
     "iopub.status.idle": "2025-08-27T22:38:33.485579Z",
     "shell.execute_reply": "2025-08-27T22:38:33.485148Z"
    }
   },
   "outputs": [
    {
     "data": {
      "text/plain": [
       "np.float64(219755.211551575)"
      ]
     },
     "execution_count": 14,
     "metadata": {},
     "output_type": "execute_result"
    }
   ],
   "source": [
    "swap.value(settle_dt, discount_curve, discount_curve)"
   ]
  },
  {
   "cell_type": "markdown",
   "metadata": {},
   "source": [
    "We can examine the individual legs - here is the floating leg valuation"
   ]
  },
  {
   "cell_type": "code",
   "execution_count": 15,
   "metadata": {
    "execution": {
     "iopub.execute_input": "2025-08-27T22:38:33.487246Z",
     "iopub.status.busy": "2025-08-27T22:38:33.487046Z",
     "iopub.status.idle": "2025-08-27T22:38:33.490537Z",
     "shell.execute_reply": "2025-08-27T22:38:33.490200Z"
    }
   },
   "outputs": [
    {
     "name": "stdout",
     "output_type": "stream",
     "text": [
      "START DATE: 20-JUN-2018\n",
      "MATURITY DATE: 22-SEP-2025\n",
      "SPREAD (BPS): 0.0\n",
      "FREQUENCY: FrequencyTypes.SEMI_ANNUAL\n",
      "DAY COUNT: DayCountTypes.ACT_360\n",
      "\n",
      "PAYMENTS VALUATION:\n",
      "PAY_NUM | PAY_dt      | NOTIONAL | IBOR   | PMNT      | DF     | PV        | CUM_PV    \n",
      "--------+-------------+----------+--------+-----------+--------+-----------+-----------\n",
      "      1 | 20-SEP-2018 | 10000000 |    0.0 |       0.0 |    0.0 |       0.0 |        0.0\n",
      "      2 | 20-MAR-2019 | 10000000 |    0.0 |       0.0 |    0.0 |       0.0 |        0.0\n",
      "      3 | 20-SEP-2019 | 10000000 |    0.0 |       0.0 |    0.0 |       0.0 |        0.0\n",
      "      4 | 20-MAR-2020 | 10000000 |    0.0 |       0.0 |    0.0 |       0.0 |        0.0\n",
      "      5 | 21-SEP-2020 | 10000000 | 5.0007 | 256979.26 | 0.9753 | 250643.82 |  250643.82\n",
      "      6 | 22-MAR-2021 | 10000000 | 4.9997 | 252764.41 | 0.9517 | 240545.23 |  491189.05\n",
      "      7 | 20-SEP-2021 | 10000000 | 4.9998 | 252769.19 | 0.9285 | 234698.59 |  725887.64\n",
      "      8 | 21-MAR-2022 | 10000000 | 4.9998 | 252769.19 | 0.9059 | 228989.73 |  954877.37\n",
      "      9 | 20-SEP-2022 | 10000000 | 5.0002 |  254175.3 | 0.8838 | 224632.17 | 1179509.54\n",
      "     10 | 20-MAR-2023 | 10000000 | 4.9995 | 251363.28 | 0.8624 | 216772.76 |  1396282.3\n",
      "     11 | 20-SEP-2023 | 10000000 | 5.0005 |  255581.6 | 0.8412 | 214991.09 | 1611273.39\n",
      "     12 | 20-MAR-2024 | 10000000 | 4.9998 | 252765.49 | 0.8207 | 207456.41 | 1818729.79\n",
      "     13 | 20-SEP-2024 | 10000000 | 5.0003 | 255572.87 | 0.8006 | 204616.83 | 2023346.63\n",
      "     14 | 20-MAR-2025 | 10000000 | 4.9994 | 251358.47 | 0.7813 | 196381.67 |  2219728.3\n",
      "     15 | 22-SEP-2025 | 10000000 | 5.0012 | 258394.76 | 0.7619 | 196861.87 | 2416590.17\n"
     ]
    }
   ],
   "source": [
    "swap.print_float_leg_pv()"
   ]
  },
  {
   "cell_type": "markdown",
   "metadata": {},
   "source": [
    "And here is the fixed leg valuation"
   ]
  },
  {
   "cell_type": "code",
   "execution_count": 16,
   "metadata": {
    "execution": {
     "iopub.execute_input": "2025-08-27T22:38:33.492332Z",
     "iopub.status.busy": "2025-08-27T22:38:33.492124Z",
     "iopub.status.idle": "2025-08-27T22:38:33.495157Z",
     "shell.execute_reply": "2025-08-27T22:38:33.494775Z"
    }
   },
   "outputs": [
    {
     "name": "stdout",
     "output_type": "stream",
     "text": [
      "START DATE: 20-JUN-2018\n",
      "MATURITY DATE: 22-SEP-2025\n",
      "COUPON (%): 5.0\n",
      "FREQUENCY: FrequencyTypes.ANNUAL\n",
      "DAY COUNT: DayCountTypes.ACT_360\n",
      "\n",
      "PAYMENTS VALUATION:\n",
      "PAY_NUM | PAY_dt      | NOTIONAL | RATE | PMNT      | DF     | PV        | CUM_PV    \n",
      "--------+-------------+----------+------+-----------+--------+-----------+-----------\n",
      "      1 | 20-SEP-2018 | 10000000 |  5.0 | 127777.78 |    0.0 |       0.0 |        0.0\n",
      "      2 | 20-SEP-2019 | 10000000 |  5.0 | 506944.44 |    0.0 |       0.0 |        0.0\n",
      "      3 | 21-SEP-2020 | 10000000 |  5.0 | 509722.22 | 0.9753 | 497155.79 |  497155.79\n",
      "      4 | 20-SEP-2021 | 10000000 |  5.0 | 505555.56 | 0.9285 | 469413.12 |  966568.91\n",
      "      5 | 20-SEP-2022 | 10000000 |  5.0 | 506944.44 | 0.8838 | 448021.63 | 1414590.54\n",
      "      6 | 20-SEP-2023 | 10000000 |  5.0 | 506944.44 | 0.8412 | 426433.43 | 1841023.97\n",
      "      7 | 20-SEP-2024 | 10000000 |  5.0 | 508333.33 | 0.8006 |  406982.0 | 2248005.97\n",
      "      8 | 22-SEP-2025 | 10000000 |  5.0 | 509722.22 | 0.7619 | 388339.41 | 2636345.38\n"
     ]
    }
   ],
   "source": [
    "swap.print_fixed_leg_pv()"
   ]
  },
  {
   "cell_type": "code",
   "execution_count": 17,
   "metadata": {
    "execution": {
     "iopub.execute_input": "2025-08-27T22:38:33.496823Z",
     "iopub.status.busy": "2025-08-27T22:38:33.496578Z",
     "iopub.status.idle": "2025-08-27T22:38:33.500138Z",
     "shell.execute_reply": "2025-08-27T22:38:33.499795Z"
    }
   },
   "outputs": [
    {
     "data": {
      "text/plain": [
       "np.float64(5.272690754192439)"
      ]
     },
     "execution_count": 17,
     "metadata": {},
     "output_type": "execute_result"
    }
   ],
   "source": [
    "swap.pv01(value_dt, discount_curve)"
   ]
  },
  {
   "cell_type": "code",
   "execution_count": 18,
   "metadata": {
    "execution": {
     "iopub.execute_input": "2025-08-27T22:38:33.502263Z",
     "iopub.status.busy": "2025-08-27T22:38:33.502026Z",
     "iopub.status.idle": "2025-08-27T22:38:33.506264Z",
     "shell.execute_reply": "2025-08-27T22:38:33.505866Z"
    }
   },
   "outputs": [
    {
     "data": {
      "text/plain": [
       "np.float64(0.04583219988054786)"
      ]
     },
     "execution_count": 18,
     "metadata": {},
     "output_type": "execute_result"
    }
   ],
   "source": [
    "swap.swap_rate(value_dt, discount_curve)"
   ]
  },
  {
   "cell_type": "markdown",
   "metadata": {},
   "source": [
    "## Including a final exchange of principal"
   ]
  },
  {
   "cell_type": "code",
   "execution_count": 19,
   "metadata": {
    "execution": {
     "iopub.execute_input": "2025-08-27T22:38:33.508650Z",
     "iopub.status.busy": "2025-08-27T22:38:33.508378Z",
     "iopub.status.idle": "2025-08-27T22:38:33.512201Z",
     "shell.execute_reply": "2025-08-27T22:38:33.511836Z"
    }
   },
   "outputs": [
    {
     "data": {
      "text/plain": [
       "np.float64(219755.211551575)"
      ]
     },
     "execution_count": 19,
     "metadata": {},
     "output_type": "execute_result"
    }
   ],
   "source": [
    "swap.value(settle_dt, discount_curve, discount_curve)"
   ]
  },
  {
   "cell_type": "code",
   "execution_count": 20,
   "metadata": {
    "execution": {
     "iopub.execute_input": "2025-08-27T22:38:33.513933Z",
     "iopub.status.busy": "2025-08-27T22:38:33.513720Z",
     "iopub.status.idle": "2025-08-27T22:38:33.516749Z",
     "shell.execute_reply": "2025-08-27T22:38:33.516375Z"
    }
   },
   "outputs": [
    {
     "name": "stdout",
     "output_type": "stream",
     "text": [
      "START DATE: 20-JUN-2018\n",
      "MATURITY DATE: 22-SEP-2025\n",
      "SPREAD (BPS): 0.0\n",
      "FREQUENCY: FrequencyTypes.SEMI_ANNUAL\n",
      "DAY COUNT: DayCountTypes.ACT_360\n",
      "\n",
      "PAYMENTS VALUATION:\n",
      "PAY_NUM | PAY_dt      | NOTIONAL | IBOR   | PMNT      | DF     | PV        | CUM_PV    \n",
      "--------+-------------+----------+--------+-----------+--------+-----------+-----------\n",
      "      1 | 20-SEP-2018 | 10000000 |    0.0 |       0.0 |    0.0 |       0.0 |        0.0\n",
      "      2 | 20-MAR-2019 | 10000000 |    0.0 |       0.0 |    0.0 |       0.0 |        0.0\n",
      "      3 | 20-SEP-2019 | 10000000 |    0.0 |       0.0 |    0.0 |       0.0 |        0.0\n",
      "      4 | 20-MAR-2020 | 10000000 |    0.0 |       0.0 |    0.0 |       0.0 |        0.0\n",
      "      5 | 21-SEP-2020 | 10000000 | 5.0007 | 256979.26 | 0.9753 | 250643.82 |  250643.82\n",
      "      6 | 22-MAR-2021 | 10000000 | 4.9997 | 252764.41 | 0.9517 | 240545.23 |  491189.05\n",
      "      7 | 20-SEP-2021 | 10000000 | 4.9998 | 252769.19 | 0.9285 | 234698.59 |  725887.64\n",
      "      8 | 21-MAR-2022 | 10000000 | 4.9998 | 252769.19 | 0.9059 | 228989.73 |  954877.37\n",
      "      9 | 20-SEP-2022 | 10000000 | 5.0002 |  254175.3 | 0.8838 | 224632.17 | 1179509.54\n",
      "     10 | 20-MAR-2023 | 10000000 | 4.9995 | 251363.28 | 0.8624 | 216772.76 |  1396282.3\n",
      "     11 | 20-SEP-2023 | 10000000 | 5.0005 |  255581.6 | 0.8412 | 214991.09 | 1611273.39\n",
      "     12 | 20-MAR-2024 | 10000000 | 4.9998 | 252765.49 | 0.8207 | 207456.41 | 1818729.79\n",
      "     13 | 20-SEP-2024 | 10000000 | 5.0003 | 255572.87 | 0.8006 | 204616.83 | 2023346.63\n",
      "     14 | 20-MAR-2025 | 10000000 | 4.9994 | 251358.47 | 0.7813 | 196381.67 |  2219728.3\n",
      "     15 | 22-SEP-2025 | 10000000 | 5.0012 | 258394.76 | 0.7619 | 196861.87 | 2416590.17\n"
     ]
    }
   ],
   "source": [
    "swap.print_float_leg_pv()"
   ]
  },
  {
   "cell_type": "markdown",
   "metadata": {},
   "source": [
    "As expected we see the final PV of the floating Leg is par (same index and discounting curve)."
   ]
  },
  {
   "cell_type": "code",
   "execution_count": 21,
   "metadata": {
    "execution": {
     "iopub.execute_input": "2025-08-27T22:38:33.518596Z",
     "iopub.status.busy": "2025-08-27T22:38:33.518240Z",
     "iopub.status.idle": "2025-08-27T22:38:33.521836Z",
     "shell.execute_reply": "2025-08-27T22:38:33.521346Z"
    }
   },
   "outputs": [
    {
     "name": "stdout",
     "output_type": "stream",
     "text": [
      "START DATE: 20-JUN-2018\n",
      "MATURITY DATE: 22-SEP-2025\n",
      "COUPON (%): 5.0\n",
      "FREQUENCY: FrequencyTypes.ANNUAL\n",
      "DAY COUNT: DayCountTypes.ACT_360\n",
      "\n",
      "PAYMENTS VALUATION:\n",
      "PAY_NUM | PAY_dt      | NOTIONAL | RATE | PMNT      | DF     | PV        | CUM_PV    \n",
      "--------+-------------+----------+------+-----------+--------+-----------+-----------\n",
      "      1 | 20-SEP-2018 | 10000000 |  5.0 | 127777.78 |    0.0 |       0.0 |        0.0\n",
      "      2 | 20-SEP-2019 | 10000000 |  5.0 | 506944.44 |    0.0 |       0.0 |        0.0\n",
      "      3 | 21-SEP-2020 | 10000000 |  5.0 | 509722.22 | 0.9753 | 497155.79 |  497155.79\n",
      "      4 | 20-SEP-2021 | 10000000 |  5.0 | 505555.56 | 0.9285 | 469413.12 |  966568.91\n",
      "      5 | 20-SEP-2022 | 10000000 |  5.0 | 506944.44 | 0.8838 | 448021.63 | 1414590.54\n",
      "      6 | 20-SEP-2023 | 10000000 |  5.0 | 506944.44 | 0.8412 | 426433.43 | 1841023.97\n",
      "      7 | 20-SEP-2024 | 10000000 |  5.0 | 508333.33 | 0.8006 |  406982.0 | 2248005.97\n",
      "      8 | 22-SEP-2025 | 10000000 |  5.0 | 509722.22 | 0.7619 | 388339.41 | 2636345.38\n"
     ]
    }
   ],
   "source": [
    "swap.print_fixed_leg_pv()"
   ]
  },
  {
   "cell_type": "code",
   "execution_count": 22,
   "metadata": {
    "execution": {
     "iopub.execute_input": "2025-08-27T22:38:33.523827Z",
     "iopub.status.busy": "2025-08-27T22:38:33.523624Z",
     "iopub.status.idle": "2025-08-27T22:38:33.527275Z",
     "shell.execute_reply": "2025-08-27T22:38:33.526877Z"
    }
   },
   "outputs": [
    {
     "data": {
      "text/plain": [
       "np.float64(2636345.37709622)"
      ]
     },
     "execution_count": 22,
     "metadata": {},
     "output_type": "execute_result"
    }
   ],
   "source": [
    "swap.fixed_leg.value(settle_dt, discount_curve)"
   ]
  },
  {
   "cell_type": "code",
   "execution_count": 23,
   "metadata": {
    "execution": {
     "iopub.execute_input": "2025-08-27T22:38:33.529362Z",
     "iopub.status.busy": "2025-08-27T22:38:33.529165Z",
     "iopub.status.idle": "2025-08-27T22:38:33.532873Z",
     "shell.execute_reply": "2025-08-27T22:38:33.532469Z"
    }
   },
   "outputs": [
    {
     "data": {
      "text/plain": [
       "np.float64(-2416590.165544645)"
      ]
     },
     "execution_count": 23,
     "metadata": {},
     "output_type": "execute_result"
    }
   ],
   "source": [
    "swap.float_leg.value(settle_dt, discount_curve, discount_curve)"
   ]
  },
  {
   "cell_type": "markdown",
   "metadata": {},
   "source": [
    "Copyright (c) 2020 Dominic O'Kane"
   ]
  }
 ],
 "metadata": {
  "kernelspec": {
   "display_name": "base",
   "language": "python",
   "name": "python3"
  },
  "language_info": {
   "codemirror_mode": {
    "name": "ipython",
    "version": 3
   },
   "file_extension": ".py",
   "mimetype": "text/x-python",
   "name": "python",
   "nbconvert_exporter": "python",
   "pygments_lexer": "ipython3",
   "version": "3.13.5"
  }
 },
 "nbformat": 4,
 "nbformat_minor": 4
}
