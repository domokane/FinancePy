{
 "cells": [
  {
   "cell_type": "markdown",
   "metadata": {},
   "source": [
    "# Defining a Fixed-Floating Interest Rate Swap"
   ]
  },
  {
   "cell_type": "markdown",
   "metadata": {},
   "source": [
    "Simple introduction to the inputs required to define a Ibor deposit and a FRA"
   ]
  },
  {
   "cell_type": "code",
   "execution_count": 1,
   "metadata": {
    "execution": {
     "iopub.execute_input": "2025-08-27T21:51:28.279880Z",
     "iopub.status.busy": "2025-08-27T21:51:28.279667Z",
     "iopub.status.idle": "2025-08-27T21:51:30.035536Z",
     "shell.execute_reply": "2025-08-27T21:51:30.034962Z"
    }
   },
   "outputs": [
    {
     "name": "stdout",
     "output_type": "stream",
     "text": [
      "####################################################################\n",
      "#    FINANCEPY Version 1.1 - This build: 27 Aug 2025 at 23:27      #\n",
      "#     This software is distributed FREE AND WITHOUT ANY WARRANTY   #\n",
      "#  Report bugs as issues at https://github.com/domokane/FinancePy  #\n",
      "####################################################################\n",
      "\n"
     ]
    }
   ],
   "source": [
    "from financepy.utils import *\n",
    "from financepy.products.rates import *"
   ]
  },
  {
   "cell_type": "markdown",
   "metadata": {},
   "source": [
    "## Creating the Swap"
   ]
  },
  {
   "cell_type": "markdown",
   "metadata": {},
   "source": [
    "We begin by setting the market conventions we wish to use."
   ]
  },
  {
   "cell_type": "code",
   "execution_count": 2,
   "metadata": {
    "execution": {
     "iopub.execute_input": "2025-08-27T21:51:30.037903Z",
     "iopub.status.busy": "2025-08-27T21:51:30.037508Z",
     "iopub.status.idle": "2025-08-27T21:51:30.041280Z",
     "shell.execute_reply": "2025-08-27T21:51:30.040743Z"
    }
   },
   "outputs": [],
   "source": [
    "swap_cal_type = CalendarTypes.TARGET\n",
    "bd_type = BusDayAdjustTypes.FOLLOWING\n",
    "dg_type = DateGenRuleTypes.BACKWARD"
   ]
  },
  {
   "cell_type": "markdown",
   "metadata": {},
   "source": [
    "We then define the Fixed Leg"
   ]
  },
  {
   "cell_type": "code",
   "execution_count": 3,
   "metadata": {
    "execution": {
     "iopub.execute_input": "2025-08-27T21:51:30.043317Z",
     "iopub.status.busy": "2025-08-27T21:51:30.043046Z",
     "iopub.status.idle": "2025-08-27T21:51:30.045935Z",
     "shell.execute_reply": "2025-08-27T21:51:30.045445Z"
    }
   },
   "outputs": [],
   "source": [
    "fixed_cpn = 0.05\n",
    "fixed_freq_type = FrequencyTypes.ANNUAL\n",
    "fixed_dc_type = DayCountTypes.ACT_360"
   ]
  },
  {
   "cell_type": "markdown",
   "metadata": {},
   "source": [
    "And then we define the Floating Leg"
   ]
  },
  {
   "cell_type": "code",
   "execution_count": 4,
   "metadata": {
    "execution": {
     "iopub.execute_input": "2025-08-27T21:51:30.047753Z",
     "iopub.status.busy": "2025-08-27T21:51:30.047460Z",
     "iopub.status.idle": "2025-08-27T21:51:30.050400Z",
     "shell.execute_reply": "2025-08-27T21:51:30.049918Z"
    }
   },
   "outputs": [],
   "source": [
    "float_spread = 0.0\n",
    "float_freq_type = FrequencyTypes.SEMI_ANNUAL\n",
    "float_dc_type = DayCountTypes.ACT_360"
   ]
  },
  {
   "cell_type": "markdown",
   "metadata": {},
   "source": [
    "We need to specify the size and direction of the swap."
   ]
  },
  {
   "cell_type": "code",
   "execution_count": 5,
   "metadata": {
    "execution": {
     "iopub.execute_input": "2025-08-27T21:51:30.052283Z",
     "iopub.status.busy": "2025-08-27T21:51:30.052068Z",
     "iopub.status.idle": "2025-08-27T21:51:30.054760Z",
     "shell.execute_reply": "2025-08-27T21:51:30.054226Z"
    }
   },
   "outputs": [],
   "source": [
    "swap_type = SwapTypes.RECEIVE\n",
    "notional = 10 * ONE_MILLION"
   ]
  },
  {
   "cell_type": "markdown",
   "metadata": {},
   "source": [
    "And then we define when the swap begins and ends."
   ]
  },
  {
   "cell_type": "code",
   "execution_count": 6,
   "metadata": {
    "execution": {
     "iopub.execute_input": "2025-08-27T21:51:30.056896Z",
     "iopub.status.busy": "2025-08-27T21:51:30.056577Z",
     "iopub.status.idle": "2025-08-27T21:51:30.075770Z",
     "shell.execute_reply": "2025-08-27T21:51:30.075331Z"
    }
   },
   "outputs": [],
   "source": [
    "start_dt = Date(20, 6, 2018)\n",
    "maturity_dt = Date(20, 9, 2025)"
   ]
  },
  {
   "cell_type": "markdown",
   "metadata": {},
   "source": [
    "We can now create the swap object."
   ]
  },
  {
   "cell_type": "code",
   "execution_count": 7,
   "metadata": {
    "execution": {
     "iopub.execute_input": "2025-08-27T21:51:30.078737Z",
     "iopub.status.busy": "2025-08-27T21:51:30.078409Z",
     "iopub.status.idle": "2025-08-27T21:51:30.087701Z",
     "shell.execute_reply": "2025-08-27T21:51:30.087201Z"
    }
   },
   "outputs": [],
   "source": [
    "swap = IborSwap(start_dt,\n",
    "                    maturity_dt,\n",
    "                    swap_type,\n",
    "                    fixed_cpn,\n",
    "                    fixed_freq_type,\n",
    "                    fixed_dc_type,\n",
    "                    notional,\n",
    "                    float_spread,\n",
    "                    float_freq_type,\n",
    "                    float_dc_type,\n",
    "                    swap_cal_type,\n",
    "                    bd_type,\n",
    "                    dg_type)"
   ]
  },
  {
   "cell_type": "code",
   "execution_count": 8,
   "metadata": {
    "execution": {
     "iopub.execute_input": "2025-08-27T21:51:30.089584Z",
     "iopub.status.busy": "2025-08-27T21:51:30.089369Z",
     "iopub.status.idle": "2025-08-27T21:51:30.092601Z",
     "shell.execute_reply": "2025-08-27T21:51:30.092179Z"
    }
   },
   "outputs": [
    {
     "name": "stdout",
     "output_type": "stream",
     "text": [
      "OBJECT TYPE: IborSwap\n",
      "OBJECT TYPE: SwapFixedLeg\n",
      "START DATE: 20-JUN-2018\n",
      "TERMINATION DATE: 20-SEP-2025\n",
      "MATURITY DATE: 22-SEP-2025\n",
      "NOTIONAL: 10000000\n",
      "PRINCIPAL: 0.0\n",
      "LEG TYPE: SwapTypes.RECEIVE\n",
      "COUPON: 0.05\n",
      "FREQUENCY: FrequencyTypes.ANNUAL\n",
      "DAY COUNT: DayCountTypes.ACT_360\n",
      "CALENDAR: CalendarTypes.TARGET\n",
      "BUS DAY ADJUST: BusDayAdjustTypes.FOLLOWING\n",
      "DATE GEN TYPE: DateGenRuleTypes.BACKWARD\n",
      "\n",
      "OBJECT TYPE: SwapFloatLeg\n",
      "START DATE: 20-JUN-2018\n",
      "TERMINATION DATE: 20-SEP-2025\n",
      "MATURITY DATE: 22-SEP-2025\n",
      "NOTIONAL: 10000000\n",
      "SWAP TYPE: SwapTypes.PAY\n",
      "SPREAD (BPS): 0.0\n",
      "FREQUENCY: FrequencyTypes.SEMI_ANNUAL\n",
      "DAY COUNT: DayCountTypes.ACT_360\n",
      "CALENDAR: CalendarTypes.TARGET\n",
      "BUS DAY ADJUST: BusDayAdjustTypes.FOLLOWING\n",
      "DATE GEN TYPE: DateGenRuleTypes.BACKWARD\n",
      "\n"
     ]
    }
   ],
   "source": [
    "print(swap)"
   ]
  },
  {
   "cell_type": "code",
   "execution_count": 9,
   "metadata": {
    "execution": {
     "iopub.execute_input": "2025-08-27T21:51:30.094485Z",
     "iopub.status.busy": "2025-08-27T21:51:30.094195Z",
     "iopub.status.idle": "2025-08-27T21:51:30.098243Z",
     "shell.execute_reply": "2025-08-27T21:51:30.097771Z"
    }
   },
   "outputs": [
    {
     "name": "stdout",
     "output_type": "stream",
     "text": [
      "START DATE: 20-JUN-2018\n",
      "MATURITY DATE: 22-SEP-2025\n",
      "COUPON (%): 5.0\n",
      "FREQUENCY: FrequencyTypes.ANNUAL\n",
      "DAY COUNT: DayCountTypes.ACT_360\n",
      "\n",
      "PAYMENTS SCHEDULE:\n",
      "PAY_NUM | PAY_dt      | ACCR_START  | ACCR_END    | DAYS  | YEARFRAC | RATE | PMNT     \n",
      "--------+-------------+-------------+-------------+-------+----------+------+----------\n",
      "      1 | 20-SEP-2018 | 20-JUN-2018 | 20-SEP-2018 |  92.0 |   0.2556 |  5.0 | 127777.78\n",
      "      2 | 20-SEP-2019 | 20-SEP-2018 | 20-SEP-2019 | 365.0 |   1.0139 |  5.0 | 506944.44\n",
      "      3 | 21-SEP-2020 | 20-SEP-2019 | 21-SEP-2020 | 367.0 |   1.0194 |  5.0 | 509722.22\n",
      "      4 | 20-SEP-2021 | 21-SEP-2020 | 20-SEP-2021 | 364.0 |   1.0111 |  5.0 | 505555.56\n",
      "      5 | 20-SEP-2022 | 20-SEP-2021 | 20-SEP-2022 | 365.0 |   1.0139 |  5.0 | 506944.44\n",
      "      6 | 20-SEP-2023 | 20-SEP-2022 | 20-SEP-2023 | 365.0 |   1.0139 |  5.0 | 506944.44\n",
      "      7 | 20-SEP-2024 | 20-SEP-2023 | 20-SEP-2024 | 366.0 |   1.0167 |  5.0 | 508333.33\n",
      "      8 | 22-SEP-2025 | 20-SEP-2024 | 22-SEP-2025 | 367.0 |   1.0194 |  5.0 | 509722.22\n",
      "START DATE: 20-JUN-2018\n",
      "MATURITY DATE: 22-SEP-2025\n",
      "SPREAD (bp): 0.0\n",
      "FREQUENCY: FrequencyTypes.SEMI_ANNUAL\n",
      "DAY COUNT: DayCountTypes.ACT_360\n",
      "\n",
      "PAYMENTS SCHEDULE:\n",
      "PAY_NUM | PAY_dt      | ACCR_START  | ACCR_END    | DAYS  | YEARFRAC\n",
      "--------+-------------+-------------+-------------+-------+---------\n",
      "      1 | 20-SEP-2018 | 20-JUN-2018 | 20-SEP-2018 |  92.0 |   0.2556\n",
      "      2 | 20-MAR-2019 | 20-SEP-2018 | 20-MAR-2019 | 181.0 |   0.5028\n",
      "      3 | 20-SEP-2019 | 20-MAR-2019 | 20-SEP-2019 | 184.0 |   0.5111\n",
      "      4 | 20-MAR-2020 | 20-SEP-2019 | 20-MAR-2020 | 182.0 |   0.5056\n",
      "      5 | 21-SEP-2020 | 20-MAR-2020 | 21-SEP-2020 | 185.0 |   0.5139\n",
      "      6 | 22-MAR-2021 | 21-SEP-2020 | 22-MAR-2021 | 182.0 |   0.5056\n",
      "      7 | 20-SEP-2021 | 22-MAR-2021 | 20-SEP-2021 | 182.0 |   0.5056\n",
      "      8 | 21-MAR-2022 | 20-SEP-2021 | 21-MAR-2022 | 182.0 |   0.5056\n",
      "      9 | 20-SEP-2022 | 21-MAR-2022 | 20-SEP-2022 | 183.0 |   0.5083\n",
      "     10 | 20-MAR-2023 | 20-SEP-2022 | 20-MAR-2023 | 181.0 |   0.5028\n",
      "     11 | 20-SEP-2023 | 20-MAR-2023 | 20-SEP-2023 | 184.0 |   0.5111\n",
      "     12 | 20-MAR-2024 | 20-SEP-2023 | 20-MAR-2024 | 182.0 |   0.5056\n",
      "     13 | 20-SEP-2024 | 20-MAR-2024 | 20-SEP-2024 | 184.0 |   0.5111\n",
      "     14 | 20-MAR-2025 | 20-SEP-2024 | 20-MAR-2025 | 181.0 |   0.5028\n",
      "     15 | 22-SEP-2025 | 20-MAR-2025 | 22-SEP-2025 | 186.0 |   0.5167\n"
     ]
    }
   ],
   "source": [
    "swap.print_payments()"
   ]
  },
  {
   "cell_type": "markdown",
   "metadata": {},
   "source": [
    "## Valuation"
   ]
  },
  {
   "cell_type": "code",
   "execution_count": 10,
   "metadata": {
    "execution": {
     "iopub.execute_input": "2025-08-27T21:51:30.100232Z",
     "iopub.status.busy": "2025-08-27T21:51:30.100014Z",
     "iopub.status.idle": "2025-08-27T21:51:30.102702Z",
     "shell.execute_reply": "2025-08-27T21:51:30.102139Z"
    }
   },
   "outputs": [],
   "source": [
    "value_dt = Date(20,3,2020)"
   ]
  },
  {
   "cell_type": "code",
   "execution_count": 11,
   "metadata": {
    "execution": {
     "iopub.execute_input": "2025-08-27T21:51:30.104557Z",
     "iopub.status.busy": "2025-08-27T21:51:30.104273Z",
     "iopub.status.idle": "2025-08-27T21:51:30.107092Z",
     "shell.execute_reply": "2025-08-27T21:51:30.106717Z"
    }
   },
   "outputs": [],
   "source": [
    "settle_dt = value_dt.add_weekdays(0)"
   ]
  },
  {
   "cell_type": "markdown",
   "metadata": {},
   "source": [
    "This is just using a flat curve without any Ibor accrual factors."
   ]
  },
  {
   "cell_type": "code",
   "execution_count": 12,
   "metadata": {
    "execution": {
     "iopub.execute_input": "2025-08-27T21:51:30.108828Z",
     "iopub.status.busy": "2025-08-27T21:51:30.108620Z",
     "iopub.status.idle": "2025-08-27T21:51:30.111263Z",
     "shell.execute_reply": "2025-08-27T21:51:30.110800Z"
    }
   },
   "outputs": [],
   "source": [
    "from financepy.market.curves.discount_curve_flat import DiscountCurveFlat"
   ]
  },
  {
   "cell_type": "code",
   "execution_count": 13,
   "metadata": {
    "execution": {
     "iopub.execute_input": "2025-08-27T21:51:30.113334Z",
     "iopub.status.busy": "2025-08-27T21:51:30.113008Z",
     "iopub.status.idle": "2025-08-27T21:51:30.116474Z",
     "shell.execute_reply": "2025-08-27T21:51:30.116047Z"
    }
   },
   "outputs": [],
   "source": [
    "discount_curve = DiscountCurveFlat(value_dt, 0.05, FrequencyTypes.SEMI_ANNUAL)"
   ]
  },
  {
   "cell_type": "markdown",
   "metadata": {},
   "source": [
    "Need to specify the next fixing on the floating leg"
   ]
  },
  {
   "cell_type": "code",
   "execution_count": 14,
   "metadata": {
    "execution": {
     "iopub.execute_input": "2025-08-27T21:51:30.118334Z",
     "iopub.status.busy": "2025-08-27T21:51:30.118101Z",
     "iopub.status.idle": "2025-08-27T21:51:30.123784Z",
     "shell.execute_reply": "2025-08-27T21:51:30.123317Z"
    }
   },
   "outputs": [
    {
     "data": {
      "text/plain": [
       "np.float64(219755.211551575)"
      ]
     },
     "execution_count": 14,
     "metadata": {},
     "output_type": "execute_result"
    }
   ],
   "source": [
    "swap.value(settle_dt, discount_curve, discount_curve)"
   ]
  },
  {
   "cell_type": "markdown",
   "metadata": {},
   "source": [
    "We can examine the individual legs - here is the floating leg valuation"
   ]
  },
  {
   "cell_type": "code",
   "execution_count": 15,
   "metadata": {
    "execution": {
     "iopub.execute_input": "2025-08-27T21:51:30.125609Z",
     "iopub.status.busy": "2025-08-27T21:51:30.125386Z",
     "iopub.status.idle": "2025-08-27T21:51:30.128657Z",
     "shell.execute_reply": "2025-08-27T21:51:30.128246Z"
    }
   },
   "outputs": [
    {
     "name": "stdout",
     "output_type": "stream",
     "text": [
      "START DATE: 20-JUN-2018\n",
      "MATURITY DATE: 22-SEP-2025\n",
      "SPREAD (BPS): 0.0\n",
      "FREQUENCY: FrequencyTypes.SEMI_ANNUAL\n",
      "DAY COUNT: DayCountTypes.ACT_360\n",
      "\n",
      "PAYMENTS VALUATION:\n",
      "PAY_NUM | PAY_dt      | NOTIONAL | IBOR   | PMNT      | DF     | PV        | CUM_PV    \n",
      "--------+-------------+----------+--------+-----------+--------+-----------+-----------\n",
      "      1 | 20-SEP-2018 | 10000000 |    0.0 |       0.0 |    0.0 |       0.0 |        0.0\n",
      "      2 | 20-MAR-2019 | 10000000 |    0.0 |       0.0 |    0.0 |       0.0 |        0.0\n",
      "      3 | 20-SEP-2019 | 10000000 |    0.0 |       0.0 |    0.0 |       0.0 |        0.0\n",
      "      4 | 20-MAR-2020 | 10000000 |    0.0 |       0.0 |    0.0 |       0.0 |        0.0\n",
      "      5 | 21-SEP-2020 | 10000000 | 5.0007 | 256979.26 | 0.9753 | 250643.82 |  250643.82\n",
      "      6 | 22-MAR-2021 | 10000000 | 4.9997 | 252764.41 | 0.9517 | 240545.23 |  491189.05\n",
      "      7 | 20-SEP-2021 | 10000000 | 4.9998 | 252769.19 | 0.9285 | 234698.59 |  725887.64\n",
      "      8 | 21-MAR-2022 | 10000000 | 4.9998 | 252769.19 | 0.9059 | 228989.73 |  954877.37\n",
      "      9 | 20-SEP-2022 | 10000000 | 5.0002 |  254175.3 | 0.8838 | 224632.17 | 1179509.54\n",
      "     10 | 20-MAR-2023 | 10000000 | 4.9995 | 251363.28 | 0.8624 | 216772.76 |  1396282.3\n",
      "     11 | 20-SEP-2023 | 10000000 | 5.0005 |  255581.6 | 0.8412 | 214991.09 | 1611273.39\n",
      "     12 | 20-MAR-2024 | 10000000 | 4.9998 | 252765.49 | 0.8207 | 207456.41 | 1818729.79\n",
      "     13 | 20-SEP-2024 | 10000000 | 5.0003 | 255572.87 | 0.8006 | 204616.83 | 2023346.63\n",
      "     14 | 20-MAR-2025 | 10000000 | 4.9994 | 251358.47 | 0.7813 | 196381.67 |  2219728.3\n",
      "     15 | 22-SEP-2025 | 10000000 | 5.0012 | 258394.76 | 0.7619 | 196861.87 | 2416590.17\n"
     ]
    }
   ],
   "source": [
    "swap.print_float_leg_pv()"
   ]
  },
  {
   "cell_type": "markdown",
   "metadata": {},
   "source": [
    "And here is the fixed leg valuation"
   ]
  },
  {
   "cell_type": "code",
   "execution_count": 16,
   "metadata": {
    "execution": {
     "iopub.execute_input": "2025-08-27T21:51:30.130327Z",
     "iopub.status.busy": "2025-08-27T21:51:30.130118Z",
     "iopub.status.idle": "2025-08-27T21:51:30.133148Z",
     "shell.execute_reply": "2025-08-27T21:51:30.132646Z"
    }
   },
   "outputs": [
    {
     "name": "stdout",
     "output_type": "stream",
     "text": [
      "START DATE: 20-JUN-2018\n",
      "MATURITY DATE: 22-SEP-2025\n",
      "COUPON (%): 5.0\n",
      "FREQUENCY: FrequencyTypes.ANNUAL\n",
      "DAY COUNT: DayCountTypes.ACT_360\n",
      "\n",
      "PAYMENTS VALUATION:\n",
      "PAY_NUM | PAY_dt      | NOTIONAL | RATE | PMNT      | DF     | PV        | CUM_PV    \n",
      "--------+-------------+----------+------+-----------+--------+-----------+-----------\n",
      "      1 | 20-SEP-2018 | 10000000 |  5.0 | 127777.78 |    0.0 |       0.0 |        0.0\n",
      "      2 | 20-SEP-2019 | 10000000 |  5.0 | 506944.44 |    0.0 |       0.0 |        0.0\n",
      "      3 | 21-SEP-2020 | 10000000 |  5.0 | 509722.22 | 0.9753 | 497155.79 |  497155.79\n",
      "      4 | 20-SEP-2021 | 10000000 |  5.0 | 505555.56 | 0.9285 | 469413.12 |  966568.91\n",
      "      5 | 20-SEP-2022 | 10000000 |  5.0 | 506944.44 | 0.8838 | 448021.63 | 1414590.54\n",
      "      6 | 20-SEP-2023 | 10000000 |  5.0 | 506944.44 | 0.8412 | 426433.43 | 1841023.97\n",
      "      7 | 20-SEP-2024 | 10000000 |  5.0 | 508333.33 | 0.8006 |  406982.0 | 2248005.97\n",
      "      8 | 22-SEP-2025 | 10000000 |  5.0 | 509722.22 | 0.7619 | 388339.41 | 2636345.38\n"
     ]
    }
   ],
   "source": [
    "swap.print_fixed_leg_pv()"
   ]
  },
  {
   "cell_type": "code",
   "execution_count": 17,
   "metadata": {
    "execution": {
     "iopub.execute_input": "2025-08-27T21:51:30.134939Z",
     "iopub.status.busy": "2025-08-27T21:51:30.134728Z",
     "iopub.status.idle": "2025-08-27T21:51:30.138052Z",
     "shell.execute_reply": "2025-08-27T21:51:30.137733Z"
    }
   },
   "outputs": [
    {
     "data": {
      "text/plain": [
       "np.float64(5.272690754192439)"
      ]
     },
     "execution_count": 17,
     "metadata": {},
     "output_type": "execute_result"
    }
   ],
   "source": [
    "swap.pv01(value_dt, discount_curve)"
   ]
  },
  {
   "cell_type": "code",
   "execution_count": 18,
   "metadata": {
    "execution": {
     "iopub.execute_input": "2025-08-27T21:51:30.139793Z",
     "iopub.status.busy": "2025-08-27T21:51:30.139557Z",
     "iopub.status.idle": "2025-08-27T21:51:30.143227Z",
     "shell.execute_reply": "2025-08-27T21:51:30.142859Z"
    }
   },
   "outputs": [
    {
     "data": {
      "text/plain": [
       "np.float64(0.04583219988054786)"
      ]
     },
     "execution_count": 18,
     "metadata": {},
     "output_type": "execute_result"
    }
   ],
   "source": [
    "swap.swap_rate(value_dt, discount_curve)"
   ]
  },
  {
   "cell_type": "markdown",
   "metadata": {},
   "source": [
    "## Including a final exchange of principal"
   ]
  },
  {
   "cell_type": "code",
   "execution_count": 19,
   "metadata": {
    "execution": {
     "iopub.execute_input": "2025-08-27T21:51:30.144783Z",
     "iopub.status.busy": "2025-08-27T21:51:30.144602Z",
     "iopub.status.idle": "2025-08-27T21:51:30.148504Z",
     "shell.execute_reply": "2025-08-27T21:51:30.148084Z"
    }
   },
   "outputs": [
    {
     "data": {
      "text/plain": [
       "np.float64(219755.211551575)"
      ]
     },
     "execution_count": 19,
     "metadata": {},
     "output_type": "execute_result"
    }
   ],
   "source": [
    "swap.value(settle_dt, discount_curve, discount_curve)"
   ]
  },
  {
   "cell_type": "code",
   "execution_count": 20,
   "metadata": {
    "execution": {
     "iopub.execute_input": "2025-08-27T21:51:30.150228Z",
     "iopub.status.busy": "2025-08-27T21:51:30.150004Z",
     "iopub.status.idle": "2025-08-27T21:51:30.153546Z",
     "shell.execute_reply": "2025-08-27T21:51:30.153077Z"
    }
   },
   "outputs": [
    {
     "name": "stdout",
     "output_type": "stream",
     "text": [
      "START DATE: 20-JUN-2018\n",
      "MATURITY DATE: 22-SEP-2025\n",
      "SPREAD (BPS): 0.0\n",
      "FREQUENCY: FrequencyTypes.SEMI_ANNUAL\n",
      "DAY COUNT: DayCountTypes.ACT_360\n",
      "\n",
      "PAYMENTS VALUATION:\n",
      "PAY_NUM | PAY_dt      | NOTIONAL | IBOR   | PMNT      | DF     | PV        | CUM_PV    \n",
      "--------+-------------+----------+--------+-----------+--------+-----------+-----------\n",
      "      1 | 20-SEP-2018 | 10000000 |    0.0 |       0.0 |    0.0 |       0.0 |        0.0\n",
      "      2 | 20-MAR-2019 | 10000000 |    0.0 |       0.0 |    0.0 |       0.0 |        0.0\n",
      "      3 | 20-SEP-2019 | 10000000 |    0.0 |       0.0 |    0.0 |       0.0 |        0.0\n",
      "      4 | 20-MAR-2020 | 10000000 |    0.0 |       0.0 |    0.0 |       0.0 |        0.0\n",
      "      5 | 21-SEP-2020 | 10000000 | 5.0007 | 256979.26 | 0.9753 | 250643.82 |  250643.82\n",
      "      6 | 22-MAR-2021 | 10000000 | 4.9997 | 252764.41 | 0.9517 | 240545.23 |  491189.05\n",
      "      7 | 20-SEP-2021 | 10000000 | 4.9998 | 252769.19 | 0.9285 | 234698.59 |  725887.64\n",
      "      8 | 21-MAR-2022 | 10000000 | 4.9998 | 252769.19 | 0.9059 | 228989.73 |  954877.37\n",
      "      9 | 20-SEP-2022 | 10000000 | 5.0002 |  254175.3 | 0.8838 | 224632.17 | 1179509.54\n",
      "     10 | 20-MAR-2023 | 10000000 | 4.9995 | 251363.28 | 0.8624 | 216772.76 |  1396282.3\n",
      "     11 | 20-SEP-2023 | 10000000 | 5.0005 |  255581.6 | 0.8412 | 214991.09 | 1611273.39\n",
      "     12 | 20-MAR-2024 | 10000000 | 4.9998 | 252765.49 | 0.8207 | 207456.41 | 1818729.79\n",
      "     13 | 20-SEP-2024 | 10000000 | 5.0003 | 255572.87 | 0.8006 | 204616.83 | 2023346.63\n",
      "     14 | 20-MAR-2025 | 10000000 | 4.9994 | 251358.47 | 0.7813 | 196381.67 |  2219728.3\n",
      "     15 | 22-SEP-2025 | 10000000 | 5.0012 | 258394.76 | 0.7619 | 196861.87 | 2416590.17\n"
     ]
    }
   ],
   "source": [
    "swap.print_float_leg_pv()"
   ]
  },
  {
   "cell_type": "markdown",
   "metadata": {},
   "source": [
    "As expected we see the final PV of the floating Leg is par (same index and discounting curve)."
   ]
  },
  {
   "cell_type": "code",
   "execution_count": 21,
   "metadata": {
    "execution": {
     "iopub.execute_input": "2025-08-27T21:51:30.155601Z",
     "iopub.status.busy": "2025-08-27T21:51:30.155398Z",
     "iopub.status.idle": "2025-08-27T21:51:30.158236Z",
     "shell.execute_reply": "2025-08-27T21:51:30.157872Z"
    }
   },
   "outputs": [
    {
     "name": "stdout",
     "output_type": "stream",
     "text": [
      "START DATE: 20-JUN-2018\n",
      "MATURITY DATE: 22-SEP-2025\n",
      "COUPON (%): 5.0\n",
      "FREQUENCY: FrequencyTypes.ANNUAL\n",
      "DAY COUNT: DayCountTypes.ACT_360\n",
      "\n",
      "PAYMENTS VALUATION:\n",
      "PAY_NUM | PAY_dt      | NOTIONAL | RATE | PMNT      | DF     | PV        | CUM_PV    \n",
      "--------+-------------+----------+------+-----------+--------+-----------+-----------\n",
      "      1 | 20-SEP-2018 | 10000000 |  5.0 | 127777.78 |    0.0 |       0.0 |        0.0\n",
      "      2 | 20-SEP-2019 | 10000000 |  5.0 | 506944.44 |    0.0 |       0.0 |        0.0\n",
      "      3 | 21-SEP-2020 | 10000000 |  5.0 | 509722.22 | 0.9753 | 497155.79 |  497155.79\n",
      "      4 | 20-SEP-2021 | 10000000 |  5.0 | 505555.56 | 0.9285 | 469413.12 |  966568.91\n",
      "      5 | 20-SEP-2022 | 10000000 |  5.0 | 506944.44 | 0.8838 | 448021.63 | 1414590.54\n",
      "      6 | 20-SEP-2023 | 10000000 |  5.0 | 506944.44 | 0.8412 | 426433.43 | 1841023.97\n",
      "      7 | 20-SEP-2024 | 10000000 |  5.0 | 508333.33 | 0.8006 |  406982.0 | 2248005.97\n",
      "      8 | 22-SEP-2025 | 10000000 |  5.0 | 509722.22 | 0.7619 | 388339.41 | 2636345.38\n"
     ]
    }
   ],
   "source": [
    "swap.print_fixed_leg_pv()"
   ]
  },
  {
   "cell_type": "code",
   "execution_count": 22,
   "metadata": {
    "execution": {
     "iopub.execute_input": "2025-08-27T21:51:30.160293Z",
     "iopub.status.busy": "2025-08-27T21:51:30.159889Z",
     "iopub.status.idle": "2025-08-27T21:51:30.163315Z",
     "shell.execute_reply": "2025-08-27T21:51:30.162912Z"
    }
   },
   "outputs": [
    {
     "data": {
      "text/plain": [
       "np.float64(2636345.37709622)"
      ]
     },
     "execution_count": 22,
     "metadata": {},
     "output_type": "execute_result"
    }
   ],
   "source": [
    "swap.fixed_leg.value(settle_dt, discount_curve)"
   ]
  },
  {
   "cell_type": "code",
   "execution_count": 23,
   "metadata": {
    "execution": {
     "iopub.execute_input": "2025-08-27T21:51:30.165101Z",
     "iopub.status.busy": "2025-08-27T21:51:30.164785Z",
     "iopub.status.idle": "2025-08-27T21:51:30.168681Z",
     "shell.execute_reply": "2025-08-27T21:51:30.168241Z"
    }
   },
   "outputs": [
    {
     "data": {
      "text/plain": [
       "np.float64(-2416590.165544645)"
      ]
     },
     "execution_count": 23,
     "metadata": {},
     "output_type": "execute_result"
    }
   ],
   "source": [
    "swap.float_leg.value(settle_dt, discount_curve, discount_curve)"
   ]
  },
  {
   "cell_type": "markdown",
   "metadata": {},
   "source": [
    "Copyright (c) 2020 Dominic O'Kane"
   ]
  }
 ],
 "metadata": {
  "kernelspec": {
   "display_name": "base",
   "language": "python",
   "name": "python3"
  },
  "language_info": {
   "codemirror_mode": {
    "name": "ipython",
    "version": 3
   },
   "file_extension": ".py",
   "mimetype": "text/x-python",
   "name": "python",
   "nbconvert_exporter": "python",
   "pygments_lexer": "ipython3",
   "version": "3.13.5"
  }
 },
 "nbformat": 4,
 "nbformat_minor": 4
}
