{
 "cells": [
  {
   "cell_type": "code",
   "id": "initial_id",
   "metadata": {
    "collapsed": true,
    "ExecuteTime": {
     "end_time": "2025-05-23T06:49:48.974729Z",
     "start_time": "2025-05-23T06:49:48.971287Z"
    }
   },
   "source": [
    "from financepy.utils import *\n",
    "from financepy.products.rates import *\n",
    "from financepy.market.curves import *\n",
    "import datetime as dt\n",
    "import numpy as np"
   ],
   "outputs": [],
   "execution_count": 101
  },
  {
   "metadata": {
    "ExecuteTime": {
     "end_time": "2025-05-23T06:49:49.013677Z",
     "start_time": "2025-05-23T06:49:49.009267Z"
    }
   },
   "cell_type": "code",
   "source": [
    " \"\"\"\n",
    "Calculating the Duration and Other Interest Rate Sensitivity Metrics in an Interest Rate Swap\n",
    "Based on Bond Math: The Theory Behind the Formulas, Second Edition by Donald J. Smith\n",
    " \"\"\""
   ],
   "id": "1771696c9beba73c",
   "outputs": [
    {
     "data": {
      "text/plain": [
       "'\\nCalculating the Duration and Other Interest Rate Sensitivity Metrics in an Interest Rate Swap\\nBased on Bond Math: The Theory Behind the Formulas, Second Edition by Donald J. Smith\\n'"
      ]
     },
     "execution_count": 102,
     "metadata": {},
     "output_type": "execute_result"
    }
   ],
   "execution_count": 102
  },
  {
   "metadata": {},
   "cell_type": "markdown",
   "source": "# 1.Interest rate swaps at the beginning",
   "id": "c710af2d079e815d"
  },
  {
   "metadata": {},
   "cell_type": "markdown",
   "source": "## Define the swap",
   "id": "e606fc8bae71cc9e"
  },
  {
   "metadata": {
    "ExecuteTime": {
     "end_time": "2025-05-23T06:49:49.022425Z",
     "start_time": "2025-05-23T06:49:49.018680Z"
    }
   },
   "cell_type": "code",
   "source": [
    "swap_cal_type = CalendarTypes.TARGET\n",
    "bd_type = BusDayAdjustTypes.FOLLOWING\n",
    "dg_type = DateGenRuleTypes.BACKWARD\n",
    "\n",
    "fixed_cpn = 0.034\n",
    "fixed_freq_type = FrequencyTypes.QUARTERLY\n",
    "fixed_dc_type = DayCountTypes.THIRTY_360_BOND\n",
    "\n",
    "float_spread = 0.0\n",
    "float_freq_type = FrequencyTypes.QUARTERLY\n",
    "float_dc_type = DayCountTypes.THIRTY_360_BOND\n",
    "\n",
    "swap_type = SwapTypes.PAY\n",
    "notional = 60000000\n",
    "\n",
    "start_dt = Date(1, 1, 2024)\n",
    "maturity_dt = start_dt.add_tenor('2Y')\n",
    "\n",
    "swap = IborSwap(start_dt,\n",
    "                maturity_dt,\n",
    "                swap_type,\n",
    "                fixed_cpn,\n",
    "                fixed_freq_type,\n",
    "                fixed_dc_type,\n",
    "                notional,\n",
    "                float_spread,\n",
    "                float_freq_type,\n",
    "                float_dc_type,\n",
    "                swap_cal_type,\n",
    "                bd_type,\n",
    "                dg_type)\n"
   ],
   "id": "1ebf43316efee835",
   "outputs": [],
   "execution_count": 103
  },
  {
   "metadata": {
    "ExecuteTime": {
     "end_time": "2025-05-23T06:49:49.040866Z",
     "start_time": "2025-05-23T06:49:49.037306Z"
    }
   },
   "cell_type": "code",
   "source": [
    "value_date = dt.datetime(2023, 12, 31)\n",
    "value_dt = from_datetime(value_date)\n",
    "settle_dt = value_dt.add_weekdays(0)\n"
   ],
   "id": "8e46f142f3cba5d7",
   "outputs": [],
   "execution_count": 104
  },
  {
   "metadata": {},
   "cell_type": "markdown",
   "source": "## Define the yield curve",
   "id": "9e298d9eeefb972a"
  },
  {
   "metadata": {
    "ExecuteTime": {
     "end_time": "2025-05-23T06:49:49.057895Z",
     "start_time": "2025-05-23T06:49:49.053646Z"
    }
   },
   "cell_type": "code",
   "source": [
    "yield_curve = [i / 100 for i in [0.5, 1.0407, 1.5829, 2.1271, 2.4506, 2.7756, 3.1025, 3.4316]]\n",
    "zero_dts = value_dt.add_years([0.25, 0.5, 0.75, 1.0, 1.25, 1.5, 1.75, 2.0])\n",
    "\n",
    "zero_curve = DiscountCurveZeros(value_dt=value_dt,\n",
    "                                zero_dts=zero_dts,\n",
    "                                zero_rates=yield_curve,\n",
    "                                freq_type=FrequencyTypes.QUARTERLY,\n",
    "                                dc_type=DayCountTypes.THIRTY_360_BOND,\n",
    "                                interp_type=InterpTypes.FINCUBIC_ZERO_RATES\n",
    "                                )"
   ],
   "id": "290b7a06932da41d",
   "outputs": [],
   "execution_count": 105
  },
  {
   "metadata": {},
   "cell_type": "markdown",
   "source": "## Calculate the swap rate and sensitivity indicators",
   "id": "de6b6c0c33f6f4a6"
  },
  {
   "metadata": {
    "ExecuteTime": {
     "end_time": "2025-05-23T06:49:49.073393Z",
     "start_time": "2025-05-23T06:49:49.068617Z"
    }
   },
   "cell_type": "code",
   "source": [
    "swap_rate = swap.swap_rate(value_dt, zero_curve)\n",
    "swap_rate"
   ],
   "id": "7bb1613d5e865838",
   "outputs": [
    {
     "data": {
      "text/plain": [
       "0.03404344249149676"
      ]
     },
     "execution_count": 106,
     "metadata": {},
     "output_type": "execute_result"
    }
   ],
   "execution_count": 106
  },
  {
   "metadata": {},
   "cell_type": "markdown",
   "source": "",
   "id": "6ead1b5ec3065f1e"
  },
  {
   "metadata": {
    "ExecuteTime": {
     "end_time": "2025-05-23T06:49:49.111806Z",
     "start_time": "2025-05-23T06:49:49.108411Z"
    }
   },
   "cell_type": "code",
   "source": "swap.value(settle_dt, zero_curve)",
   "id": "e2fabe76f4bbdf2d",
   "outputs": [
    {
     "data": {
      "text/plain": [
       "5070.7014320408925"
      ]
     },
     "execution_count": 107,
     "metadata": {},
     "output_type": "execute_result"
    }
   ],
   "execution_count": 107
  },
  {
   "metadata": {
    "ExecuteTime": {
     "end_time": "2025-05-23T06:49:49.152954Z",
     "start_time": "2025-05-23T06:49:49.148624Z"
    }
   },
   "cell_type": "code",
   "source": [
    "payment_periods = 8\n",
    "payer_side_macaulay_duration = swap.payer_side_macaulay_duration(value_dt, zero_curve, payment_periods)\n",
    "payer_side_macaulay_duration"
   ],
   "id": "3f988f26e6662203",
   "outputs": [
    {
     "data": {
      "text/plain": [
       "-6.767653343606554"
      ]
     },
     "execution_count": 108,
     "metadata": {},
     "output_type": "execute_result"
    }
   ],
   "execution_count": 108
  },
  {
   "metadata": {
    "ExecuteTime": {
     "end_time": "2025-05-23T06:49:49.197909Z",
     "start_time": "2025-05-23T06:49:49.192534Z"
    }
   },
   "cell_type": "code",
   "source": [
    "receiver_side_macaulay_duration = swap.receiver_side_macaulay_duration(value_dt, zero_curve, payment_periods)\n",
    "receiver_side_macaulay_duration"
   ],
   "id": "96d568f7a71861fe",
   "outputs": [
    {
     "data": {
      "text/plain": [
       "6.767653343606554"
      ]
     },
     "execution_count": 109,
     "metadata": {},
     "output_type": "execute_result"
    }
   ],
   "execution_count": 109
  },
  {
   "metadata": {
    "ExecuteTime": {
     "end_time": "2025-05-23T06:49:49.243489Z",
     "start_time": "2025-05-23T06:49:49.239303Z"
    }
   },
   "cell_type": "code",
   "source": [
    "payer_side_modified_duration = swap.payer_side_modified_duration(value_dt, zero_curve, payment_periods)\n",
    "payer_side_modified_duration"
   ],
   "id": "ec2187c7336c1bc3",
   "outputs": [
    {
     "data": {
      "text/plain": [
       "-6.710540865595371"
      ]
     },
     "execution_count": 110,
     "metadata": {},
     "output_type": "execute_result"
    }
   ],
   "execution_count": 110
  },
  {
   "metadata": {
    "ExecuteTime": {
     "end_time": "2025-05-23T06:49:49.288001Z",
     "start_time": "2025-05-23T06:49:49.283397Z"
    }
   },
   "cell_type": "code",
   "source": [
    "receiver_side_modified_duration = swap.receiver_side_modified_duration(value_dt, zero_curve, payment_periods)\n",
    "receiver_side_modified_duration"
   ],
   "id": "2c1b845afaf5e18f",
   "outputs": [
    {
     "data": {
      "text/plain": [
       "6.710540865595371"
      ]
     },
     "execution_count": 111,
     "metadata": {},
     "output_type": "execute_result"
    }
   ],
   "execution_count": 111
  },
  {
   "metadata": {
    "ExecuteTime": {
     "end_time": "2025-05-23T06:49:49.340211Z",
     "start_time": "2025-05-23T06:49:49.332412Z"
    }
   },
   "cell_type": "code",
   "source": [
    "payer_side_BPV = swap.payer_side_BPV(value_dt, zero_curve, payment_periods)\n",
    "payer_side_BPV"
   ],
   "id": "602fd89b88bd58f0",
   "outputs": [
    {
     "data": {
      "text/plain": [
       "-10065.811298393059"
      ]
     },
     "execution_count": 112,
     "metadata": {},
     "output_type": "execute_result"
    }
   ],
   "execution_count": 112
  },
  {
   "metadata": {
    "ExecuteTime": {
     "end_time": "2025-05-23T06:49:49.366870Z",
     "start_time": "2025-05-23T06:49:49.360337Z"
    }
   },
   "cell_type": "code",
   "source": [
    "receiver_side_BPV = swap.receiver_side_BPV(value_dt, zero_curve, payment_periods)\n",
    "receiver_side_BPV"
   ],
   "id": "b868dc3219fa867",
   "outputs": [
    {
     "data": {
      "text/plain": [
       "10065.811298393059"
      ]
     },
     "execution_count": 113,
     "metadata": {},
     "output_type": "execute_result"
    }
   ],
   "execution_count": 113
  },
  {
   "metadata": {
    "ExecuteTime": {
     "end_time": "2025-05-23T06:49:49.412316Z",
     "start_time": "2025-05-23T06:49:49.405136Z"
    }
   },
   "cell_type": "code",
   "source": [
    "index = ['swap_rate',\n",
    "         'payer_side_macaulay_duration',\n",
    "         'payer_side_modified_duration',\n",
    "         'payer_side_BPV',\n",
    "         'receiver_side_macaulay_duration',\n",
    "         'receiver_side_modified_duration',\n",
    "         'receiver_side_BPV']\n",
    "data_financepy = [swap_rate,\n",
    "                  payer_side_macaulay_duration, payer_side_modified_duration, payer_side_BPV,\n",
    "                  receiver_side_macaulay_duration, receiver_side_modified_duration, receiver_side_BPV]\n",
    "data_bondmath = [0.034,\n",
    "                 np.nan, np.nan, np.nan,\n",
    "                 np.nan, np.nan, np.nan]\n",
    "data = {\n",
    "    'financepy': data_financepy,\n",
    "    'Bond Math by Donald J. Smith': data_bondmath\n",
    "}\n",
    "\n",
    "df = pd.DataFrame(data, index=index)\n",
    "df"
   ],
   "id": "952ec880bd1140f2",
   "outputs": [
    {
     "data": {
      "text/plain": [
       "                                    financepy  Bond Math by Donald J. Smith\n",
       "swap_rate                            0.034043                         0.034\n",
       "payer_side_macaulay_duration        -6.767653                           NaN\n",
       "payer_side_modified_duration        -6.710541                           NaN\n",
       "payer_side_BPV                  -10065.811298                           NaN\n",
       "receiver_side_macaulay_duration      6.767653                           NaN\n",
       "receiver_side_modified_duration      6.710541                           NaN\n",
       "receiver_side_BPV                10065.811298                           NaN"
      ],
      "text/html": [
       "<div>\n",
       "<style scoped>\n",
       "    .dataframe tbody tr th:only-of-type {\n",
       "        vertical-align: middle;\n",
       "    }\n",
       "\n",
       "    .dataframe tbody tr th {\n",
       "        vertical-align: top;\n",
       "    }\n",
       "\n",
       "    .dataframe thead th {\n",
       "        text-align: right;\n",
       "    }\n",
       "</style>\n",
       "<table border=\"1\" class=\"dataframe\">\n",
       "  <thead>\n",
       "    <tr style=\"text-align: right;\">\n",
       "      <th></th>\n",
       "      <th>financepy</th>\n",
       "      <th>Bond Math by Donald J. Smith</th>\n",
       "    </tr>\n",
       "  </thead>\n",
       "  <tbody>\n",
       "    <tr>\n",
       "      <th>swap_rate</th>\n",
       "      <td>0.034043</td>\n",
       "      <td>0.034</td>\n",
       "    </tr>\n",
       "    <tr>\n",
       "      <th>payer_side_macaulay_duration</th>\n",
       "      <td>-6.767653</td>\n",
       "      <td>NaN</td>\n",
       "    </tr>\n",
       "    <tr>\n",
       "      <th>payer_side_modified_duration</th>\n",
       "      <td>-6.710541</td>\n",
       "      <td>NaN</td>\n",
       "    </tr>\n",
       "    <tr>\n",
       "      <th>payer_side_BPV</th>\n",
       "      <td>-10065.811298</td>\n",
       "      <td>NaN</td>\n",
       "    </tr>\n",
       "    <tr>\n",
       "      <th>receiver_side_macaulay_duration</th>\n",
       "      <td>6.767653</td>\n",
       "      <td>NaN</td>\n",
       "    </tr>\n",
       "    <tr>\n",
       "      <th>receiver_side_modified_duration</th>\n",
       "      <td>6.710541</td>\n",
       "      <td>NaN</td>\n",
       "    </tr>\n",
       "    <tr>\n",
       "      <th>receiver_side_BPV</th>\n",
       "      <td>10065.811298</td>\n",
       "      <td>NaN</td>\n",
       "    </tr>\n",
       "  </tbody>\n",
       "</table>\n",
       "</div>"
      ]
     },
     "execution_count": 114,
     "metadata": {},
     "output_type": "execute_result"
    }
   ],
   "execution_count": 114
  },
  {
   "metadata": {},
   "cell_type": "markdown",
   "source": "# 2.Calculation of indicators after 3 months",
   "id": "39513cfdc5d7ef1"
  },
  {
   "metadata": {},
   "cell_type": "markdown",
   "source": "## update the swap",
   "id": "91abc51ca7618b13"
  },
  {
   "metadata": {
    "ExecuteTime": {
     "end_time": "2025-05-23T06:49:49.459858Z",
     "start_time": "2025-05-23T06:49:49.455501Z"
    }
   },
   "cell_type": "code",
   "source": [
    "fixed_cpn_3m = 0.034\n",
    "start_dt_3m = Date(1, 4, 2024)\n",
    "maturity_dt_3m = start_dt_3m.add_years(1.75)\n",
    "\n",
    "swap_3m = IborSwap(start_dt_3m,\n",
    "                   maturity_dt_3m,\n",
    "                   swap_type,\n",
    "                   fixed_cpn_3m,\n",
    "                   fixed_freq_type,\n",
    "                   fixed_dc_type,\n",
    "                   notional,\n",
    "                   float_spread,\n",
    "                   float_freq_type,\n",
    "                   float_dc_type,\n",
    "                   swap_cal_type,\n",
    "                   bd_type,\n",
    "                   dg_type)\n",
    "\n"
   ],
   "id": "5892081fb637c810",
   "outputs": [],
   "execution_count": 115
  },
  {
   "metadata": {
    "ExecuteTime": {
     "end_time": "2025-05-23T06:49:49.556137Z",
     "start_time": "2025-05-23T06:49:49.552270Z"
    }
   },
   "cell_type": "code",
   "source": [
    "value_date_3m = dt.datetime(2024, 3, 31)\n",
    "value_dt_3m = from_datetime(value_date_3m)\n",
    "\n",
    "settle_dt_3m = value_dt_3m.add_weekdays(0)\n",
    "settle_dt_3m"
   ],
   "id": "9093bbf0197b619b",
   "outputs": [
    {
     "data": {
      "text/plain": [
       "31-MAR-2024"
      ]
     },
     "execution_count": 116,
     "metadata": {},
     "output_type": "execute_result"
    }
   ],
   "execution_count": 116
  },
  {
   "metadata": {},
   "cell_type": "markdown",
   "source": "## update the yield curve",
   "id": "28ea6f9df37837d0"
  },
  {
   "metadata": {
    "ExecuteTime": {
     "end_time": "2025-05-23T06:49:49.640192Z",
     "start_time": "2025-05-23T06:49:49.634830Z"
    }
   },
   "cell_type": "code",
   "source": [
    "yield_curve_3m = [i / 100 for i in [0.75, 1.1853, 1.6822, 2.1474, 2.4371, 2.7390, 3.0198]]\n",
    "zero_dts_3m = value_dt_3m.add_years([0.25, 0.5, 0.75, 1.0, 1.25, 1.5, 1.75])\n",
    "\n",
    "zero_curve_3m = DiscountCurveZeros(value_dt_3m,\n",
    "                                   zero_dts=zero_dts_3m,\n",
    "                                   zero_rates=yield_curve_3m,\n",
    "                                   freq_type=FrequencyTypes.QUARTERLY,\n",
    "                                   dc_type=DayCountTypes.THIRTY_360_BOND,\n",
    "                                   interp_type=InterpTypes.FINCUBIC_ZERO_RATES\n",
    "                                   )\n",
    "\n"
   ],
   "id": "8acc84107dae665e",
   "outputs": [],
   "execution_count": 117
  },
  {
   "metadata": {
    "ExecuteTime": {
     "end_time": "2025-05-23T06:49:49.701074Z",
     "start_time": "2025-05-23T06:49:49.696661Z"
    }
   },
   "cell_type": "code",
   "source": "swap_3m.value(value_dt_3m, zero_curve_3m)",
   "id": "3aa3b8731a5cc344",
   "outputs": [
    {
     "data": {
      "text/plain": [
       "-404094.769553849"
      ]
     },
     "execution_count": 118,
     "metadata": {},
     "output_type": "execute_result"
    }
   ],
   "execution_count": 118
  },
  {
   "metadata": {
    "ExecuteTime": {
     "end_time": "2025-05-23T06:49:49.753341Z",
     "start_time": "2025-05-23T06:49:49.741421Z"
    }
   },
   "cell_type": "code",
   "source": [
    "data_financepy_3m = [swap_3m.swap_rate(value_dt_3m, zero_curve_3m),\n",
    "                     swap_3m.payer_side_macaulay_duration(value_dt_3m, zero_curve_3m, payment_periods),\n",
    "                     swap_3m.payer_side_modified_duration(value_dt_3m, zero_curve_3m, payment_periods),\n",
    "                     swap_3m.payer_side_BPV(value_dt_3m, zero_curve_3m, payment_periods),\n",
    "                     swap_3m.receiver_side_macaulay_duration(value_dt_3m, zero_curve_3m, payment_periods),\n",
    "                     swap_3m.receiver_side_modified_duration(value_dt_3m, zero_curve_3m, payment_periods),\n",
    "                     swap_3m.receiver_side_BPV(value_dt_3m, zero_curve_3m, payment_periods)]\n",
    "\n",
    "data_bondmath_3m = [0.030,\n",
    "                    -6.769,\n",
    "                    -6.7186,\n",
    "                    -10077.9,\n",
    "                    6.769,\n",
    "                    6.7186,\n",
    "                    10077.9]\n",
    "\n",
    "data_3m = {\n",
    "    'financepy': data_financepy_3m,\n",
    "    'Bond Math by Donald J. Smith': data_bondmath_3m\n",
    "}\n",
    "\n",
    "df3m = pd.DataFrame(data_3m, index=index)\n",
    "df3m"
   ],
   "id": "9e64b678f01aa539",
   "outputs": [
    {
     "data": {
      "text/plain": [
       "                                    financepy  Bond Math by Donald J. Smith\n",
       "swap_rate                            0.030066                        0.0300\n",
       "payer_side_macaulay_duration        -6.794199                       -6.7690\n",
       "payer_side_modified_duration        -6.743512                       -6.7186\n",
       "payer_side_BPV                  -10115.267497                   -10077.9000\n",
       "receiver_side_macaulay_duration      6.794199                        6.7690\n",
       "receiver_side_modified_duration      6.743512                        6.7186\n",
       "receiver_side_BPV                10115.267497                    10077.9000"
      ],
      "text/html": [
       "<div>\n",
       "<style scoped>\n",
       "    .dataframe tbody tr th:only-of-type {\n",
       "        vertical-align: middle;\n",
       "    }\n",
       "\n",
       "    .dataframe tbody tr th {\n",
       "        vertical-align: top;\n",
       "    }\n",
       "\n",
       "    .dataframe thead th {\n",
       "        text-align: right;\n",
       "    }\n",
       "</style>\n",
       "<table border=\"1\" class=\"dataframe\">\n",
       "  <thead>\n",
       "    <tr style=\"text-align: right;\">\n",
       "      <th></th>\n",
       "      <th>financepy</th>\n",
       "      <th>Bond Math by Donald J. Smith</th>\n",
       "    </tr>\n",
       "  </thead>\n",
       "  <tbody>\n",
       "    <tr>\n",
       "      <th>swap_rate</th>\n",
       "      <td>0.030066</td>\n",
       "      <td>0.0300</td>\n",
       "    </tr>\n",
       "    <tr>\n",
       "      <th>payer_side_macaulay_duration</th>\n",
       "      <td>-6.794199</td>\n",
       "      <td>-6.7690</td>\n",
       "    </tr>\n",
       "    <tr>\n",
       "      <th>payer_side_modified_duration</th>\n",
       "      <td>-6.743512</td>\n",
       "      <td>-6.7186</td>\n",
       "    </tr>\n",
       "    <tr>\n",
       "      <th>payer_side_BPV</th>\n",
       "      <td>-10115.267497</td>\n",
       "      <td>-10077.9000</td>\n",
       "    </tr>\n",
       "    <tr>\n",
       "      <th>receiver_side_macaulay_duration</th>\n",
       "      <td>6.794199</td>\n",
       "      <td>6.7690</td>\n",
       "    </tr>\n",
       "    <tr>\n",
       "      <th>receiver_side_modified_duration</th>\n",
       "      <td>6.743512</td>\n",
       "      <td>6.7186</td>\n",
       "    </tr>\n",
       "    <tr>\n",
       "      <th>receiver_side_BPV</th>\n",
       "      <td>10115.267497</td>\n",
       "      <td>10077.9000</td>\n",
       "    </tr>\n",
       "  </tbody>\n",
       "</table>\n",
       "</div>"
      ]
     },
     "execution_count": 119,
     "metadata": {},
     "output_type": "execute_result"
    }
   ],
   "execution_count": 119
  }
 ],
 "metadata": {
  "kernelspec": {
   "display_name": "Python 3",
   "language": "python",
   "name": "python3"
  },
  "language_info": {
   "codemirror_mode": {
    "name": "ipython",
    "version": 2
   },
   "file_extension": ".py",
   "mimetype": "text/x-python",
   "name": "python",
   "nbconvert_exporter": "python",
   "pygments_lexer": "ipython2",
   "version": "2.7.6"
  }
 },
 "nbformat": 4,
 "nbformat_minor": 5
}
