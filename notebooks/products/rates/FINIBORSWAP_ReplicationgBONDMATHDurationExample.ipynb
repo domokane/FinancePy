{
 "cells": [
  {
   "cell_type": "code",
   "id": "initial_id",
   "metadata": {
    "collapsed": true,
    "ExecuteTime": {
     "end_time": "2025-05-23T01:25:52.331390Z",
     "start_time": "2025-05-23T01:25:52.328042Z"
    }
   },
   "source": [
    "from financepy.utils import *\n",
    "from financepy.products.rates import *\n",
    "from financepy.market.curves import *\n",
    "import datetime as dt\n",
    "\n",
    "from notebooks.products.rates.FINIBORSWAP_ReplicationgBONDMATHDurationExample3M import payment_period"
   ],
   "outputs": [],
   "execution_count": 22
  },
  {
   "metadata": {
    "ExecuteTime": {
     "end_time": "2025-05-23T01:25:53.315940Z",
     "start_time": "2025-05-23T01:25:53.311144Z"
    }
   },
   "cell_type": "code",
   "source": [
    "swap_cal_type = CalendarTypes.TARGET\n",
    "bd_type = BusDayAdjustTypes.FOLLOWING\n",
    "dg_type = DateGenRuleTypes.BACKWARD\n",
    "\n",
    "\n",
    "fixed_cpn = 0.034\n",
    "fixed_freq_type = FrequencyTypes.QUARTERLY\n",
    "fixed_dc_type = DayCountTypes.THIRTY_360_BOND\n",
    "\n",
    "float_spread = 0.0\n",
    "float_freq_type = FrequencyTypes.QUARTERLY\n",
    "float_dc_type = DayCountTypes.THIRTY_360_BOND\n",
    "\n",
    "swap_type = SwapTypes.PAY\n",
    "notional = 60000000\n",
    "\n",
    "start_dt = Date(1, 1, 2024)\n",
    "maturity_dt = start_dt.add_tenor('2Y')\n",
    "\n",
    "swap = IborSwap(start_dt,\n",
    "                maturity_dt,\n",
    "                swap_type,\n",
    "                fixed_cpn,\n",
    "                fixed_freq_type,\n",
    "                fixed_dc_type,\n",
    "                notional,\n",
    "                float_spread,\n",
    "                float_freq_type,\n",
    "                float_dc_type,\n",
    "                swap_cal_type,\n",
    "                bd_type,\n",
    "                dg_type)\n"
   ],
   "id": "1ebf43316efee835",
   "outputs": [],
   "execution_count": 23
  },
  {
   "metadata": {
    "ExecuteTime": {
     "end_time": "2025-05-23T01:25:55.512229Z",
     "start_time": "2025-05-23T01:25:55.509220Z"
    }
   },
   "cell_type": "code",
   "source": [
    "value_date= dt.datetime(2023,12,31)\n",
    "value_dt = from_datetime(value_date)\n",
    "\n",
    "settle_dt = value_dt.add_weekdays(0)\n",
    "# settle_dt=value_dt"
   ],
   "id": "8e46f142f3cba5d7",
   "outputs": [],
   "execution_count": 24
  },
  {
   "metadata": {
    "ExecuteTime": {
     "end_time": "2025-05-23T01:25:57.156649Z",
     "start_time": "2025-05-23T01:25:57.152272Z"
    }
   },
   "cell_type": "code",
   "source": [
    "yield_curve=[i/100 for i in [0.5,1.0407,1.5829,2.1271,2.4506,2.7756,3.1025,3.4316]]\n",
    "zero_dts=value_dt.add_years([0.25,0.5,0.75,1.0,1.25,1.5,1.75,2.0])\n",
    "\n",
    "zero_curve = DiscountCurveZeros(value_dt=value_dt,\n",
    "                                zero_dts=zero_dts,\n",
    "                                zero_rates=yield_curve,\n",
    "                                freq_type=FrequencyTypes.QUARTERLY,\n",
    "                                dc_type=DayCountTypes.THIRTY_360_BOND,\n",
    "                                interp_type=InterpTypes.FINCUBIC_ZERO_RATES\n",
    "                                )"
   ],
   "id": "290b7a06932da41d",
   "outputs": [],
   "execution_count": 25
  },
  {
   "metadata": {
    "ExecuteTime": {
     "end_time": "2025-05-23T01:25:58.324864Z",
     "start_time": "2025-05-23T01:25:58.320708Z"
    }
   },
   "cell_type": "code",
   "source": "swap.swap_rate(value_dt, zero_curve)",
   "id": "7bb1613d5e865838",
   "outputs": [
    {
     "data": {
      "text/plain": [
       "0.03404344249149676"
      ]
     },
     "execution_count": 26,
     "metadata": {},
     "output_type": "execute_result"
    }
   ],
   "execution_count": 26
  },
  {
   "metadata": {
    "ExecuteTime": {
     "end_time": "2025-05-23T01:25:59.653219Z",
     "start_time": "2025-05-23T01:25:59.647340Z"
    }
   },
   "cell_type": "code",
   "source": "swap.value(settle_dt, zero_curve)",
   "id": "e2fabe76f4bbdf2d",
   "outputs": [
    {
     "data": {
      "text/plain": [
       "5070.7014320408925"
      ]
     },
     "execution_count": 27,
     "metadata": {},
     "output_type": "execute_result"
    }
   ],
   "execution_count": 27
  },
  {
   "metadata": {
    "ExecuteTime": {
     "end_time": "2025-05-23T01:33:14.904831Z",
     "start_time": "2025-05-23T01:33:14.899446Z"
    }
   },
   "cell_type": "code",
   "source": [
    "payment_periods=8\n",
    "swap.payer_side_macaulay_duration(value_dt, zero_curve,payment_periods)"
   ],
   "id": "3f988f26e6662203",
   "outputs": [
    {
     "data": {
      "text/plain": [
       "-6.767653343606554"
      ]
     },
     "execution_count": 40,
     "metadata": {},
     "output_type": "execute_result"
    }
   ],
   "execution_count": 40
  },
  {
   "metadata": {
    "ExecuteTime": {
     "end_time": "2025-05-23T01:27:02.073420Z",
     "start_time": "2025-05-23T01:27:02.060189Z"
    }
   },
   "cell_type": "code",
   "source": "swap.receiver_side_macaulay_duration(value_dt, zero_curve,payment_periods)",
   "id": "96d568f7a71861fe",
   "outputs": [
    {
     "ename": "TypeError",
     "evalue": "IborSwap.receiver_side_macaulay_duration() takes 3 positional arguments but 4 were given",
     "output_type": "error",
     "traceback": [
      "\u001B[1;31m---------------------------------------------------------------------------\u001B[0m",
      "\u001B[1;31mTypeError\u001B[0m                                 Traceback (most recent call last)",
      "Cell \u001B[1;32mIn[36], line 1\u001B[0m\n\u001B[1;32m----> 1\u001B[0m \u001B[43mswap\u001B[49m\u001B[38;5;241;43m.\u001B[39;49m\u001B[43mreceiver_side_macaulay_duration\u001B[49m\u001B[43m(\u001B[49m\u001B[43mvalue_dt\u001B[49m\u001B[43m,\u001B[49m\u001B[43m \u001B[49m\u001B[43mzero_curve\u001B[49m\u001B[43m,\u001B[49m\u001B[43mpayment_periods\u001B[49m\u001B[43m)\u001B[49m\n",
      "\u001B[1;31mTypeError\u001B[0m: IborSwap.receiver_side_macaulay_duration() takes 3 positional arguments but 4 were given"
     ]
    }
   ],
   "execution_count": 36
  },
  {
   "metadata": {
    "ExecuteTime": {
     "end_time": "2025-05-23T01:27:08.799220Z",
     "start_time": "2025-05-23T01:27:08.788672Z"
    }
   },
   "cell_type": "code",
   "source": "swap.payer_side_modified_duration(value_dt, zero_curve,payment_periods)",
   "id": "ec2187c7336c1bc3",
   "outputs": [
    {
     "ename": "TypeError",
     "evalue": "IborSwap.payer_side_modified_duration() takes 3 positional arguments but 4 were given",
     "output_type": "error",
     "traceback": [
      "\u001B[1;31m---------------------------------------------------------------------------\u001B[0m",
      "\u001B[1;31mTypeError\u001B[0m                                 Traceback (most recent call last)",
      "Cell \u001B[1;32mIn[37], line 1\u001B[0m\n\u001B[1;32m----> 1\u001B[0m \u001B[43mswap\u001B[49m\u001B[38;5;241;43m.\u001B[39;49m\u001B[43mpayer_side_modified_duration\u001B[49m\u001B[43m(\u001B[49m\u001B[43mvalue_dt\u001B[49m\u001B[43m,\u001B[49m\u001B[43m \u001B[49m\u001B[43mzero_curve\u001B[49m\u001B[43m,\u001B[49m\u001B[43mpayment_periods\u001B[49m\u001B[43m)\u001B[49m\n",
      "\u001B[1;31mTypeError\u001B[0m: IborSwap.payer_side_modified_duration() takes 3 positional arguments but 4 were given"
     ]
    }
   ],
   "execution_count": 37
  },
  {
   "metadata": {
    "ExecuteTime": {
     "end_time": "2025-05-23T01:27:12.992002Z",
     "start_time": "2025-05-23T01:27:12.980577Z"
    }
   },
   "cell_type": "code",
   "source": "swap.receiver_side_modified_duration(value_dt, zero_curve,payment_periods)",
   "id": "2c1b845afaf5e18f",
   "outputs": [
    {
     "ename": "TypeError",
     "evalue": "IborSwap.receiver_side_modified_duration() takes 3 positional arguments but 4 were given",
     "output_type": "error",
     "traceback": [
      "\u001B[1;31m---------------------------------------------------------------------------\u001B[0m",
      "\u001B[1;31mTypeError\u001B[0m                                 Traceback (most recent call last)",
      "Cell \u001B[1;32mIn[38], line 1\u001B[0m\n\u001B[1;32m----> 1\u001B[0m \u001B[43mswap\u001B[49m\u001B[38;5;241;43m.\u001B[39;49m\u001B[43mreceiver_side_modified_duration\u001B[49m\u001B[43m(\u001B[49m\u001B[43mvalue_dt\u001B[49m\u001B[43m,\u001B[49m\u001B[43m \u001B[49m\u001B[43mzero_curve\u001B[49m\u001B[43m,\u001B[49m\u001B[43mpayment_periods\u001B[49m\u001B[43m)\u001B[49m\n",
      "\u001B[1;31mTypeError\u001B[0m: IborSwap.receiver_side_modified_duration() takes 3 positional arguments but 4 were given"
     ]
    }
   ],
   "execution_count": 38
  },
  {
   "metadata": {
    "ExecuteTime": {
     "end_time": "2025-05-23T01:25:42.381647100Z",
     "start_time": "2025-05-22T06:57:55.610805Z"
    }
   },
   "cell_type": "code",
   "source": "swap.print_payments()",
   "id": "2af7c95b07730dda",
   "outputs": [
    {
     "name": "stdout",
     "output_type": "stream",
     "text": [
      "START DATE: 01-JAN-2024\n",
      "MATURITY DATE: 02-JAN-2026\n",
      "COUPON (%): 3.4000000000000004\n",
      "FREQUENCY: FrequencyTypes.QUARTERLY\n",
      "DAY COUNT: DayCountTypes.THIRTY_360_BOND\n",
      "\n",
      "PAYMENTS SCHEDULE:\n",
      "+---------+-------------+-------------+-------------+------+----------+------+-----------+\n",
      "| PAY_NUM |    PAY_dt   |  ACCR_START |   ACCR_END  | DAYS | YEARFRAC | RATE |    PMNT   |\n",
      "+---------+-------------+-------------+-------------+------+----------+------+-----------+\n",
      "|    1    | 02-APR-2024 | 01-JAN-2024 | 02-APR-2024 |  91  |  0.2528  | 3.4  | 515666.67 |\n",
      "|    2    | 01-JUL-2024 | 02-APR-2024 | 01-JUL-2024 |  89  |  0.2472  | 3.4  | 504333.33 |\n",
      "|    3    | 01-OCT-2024 | 01-JUL-2024 | 01-OCT-2024 |  90  |   0.25   | 3.4  |  510000.0 |\n",
      "|    4    | 02-JAN-2025 | 01-OCT-2024 | 02-JAN-2025 |  91  |  0.2528  | 3.4  | 515666.67 |\n",
      "|    5    | 01-APR-2025 | 02-JAN-2025 | 01-APR-2025 |  89  |  0.2472  | 3.4  | 504333.33 |\n",
      "|    6    | 01-JUL-2025 | 01-APR-2025 | 01-JUL-2025 |  90  |   0.25   | 3.4  |  510000.0 |\n",
      "|    7    | 01-OCT-2025 | 01-JUL-2025 | 01-OCT-2025 |  90  |   0.25   | 3.4  |  510000.0 |\n",
      "|    8    | 02-JAN-2026 | 01-OCT-2025 | 02-JAN-2026 |  91  |  0.2528  | 3.4  | 515666.67 |\n",
      "+---------+-------------+-------------+-------------+------+----------+------+-----------+\n",
      "START DATE: 01-JAN-2024\n",
      "MATURITY DATE: 02-JAN-2026\n",
      "SPREAD (bp): 0.0\n",
      "FREQUENCY: FrequencyTypes.QUARTERLY\n",
      "DAY COUNT: DayCountTypes.THIRTY_360_BOND\n",
      "\n",
      "PAYMENTS SCHEDULE:\n",
      "+---------+-------------+-------------+-------------+------+----------+\n",
      "| PAY_NUM |    PAY_dt   |  ACCR_START |   ACCR_END  | DAYS | YEARFRAC |\n",
      "+---------+-------------+-------------+-------------+------+----------+\n",
      "|    1    | 02-APR-2024 | 01-JAN-2024 | 02-APR-2024 |  91  |  0.2528  |\n",
      "|    2    | 01-JUL-2024 | 02-APR-2024 | 01-JUL-2024 |  89  |  0.2472  |\n",
      "|    3    | 01-OCT-2024 | 01-JUL-2024 | 01-OCT-2024 |  90  |   0.25   |\n",
      "|    4    | 02-JAN-2025 | 01-OCT-2024 | 02-JAN-2025 |  91  |  0.2528  |\n",
      "|    5    | 01-APR-2025 | 02-JAN-2025 | 01-APR-2025 |  89  |  0.2472  |\n",
      "|    6    | 01-JUL-2025 | 01-APR-2025 | 01-JUL-2025 |  90  |   0.25   |\n",
      "|    7    | 01-OCT-2025 | 01-JUL-2025 | 01-OCT-2025 |  90  |   0.25   |\n",
      "|    8    | 02-JAN-2026 | 01-OCT-2025 | 02-JAN-2026 |  91  |  0.2528  |\n",
      "+---------+-------------+-------------+-------------+------+----------+\n"
     ]
    }
   ],
   "execution_count": 65
  },
  {
   "metadata": {
    "ExecuteTime": {
     "end_time": "2025-05-23T01:25:42.389019500Z",
     "start_time": "2025-05-22T07:19:36.402004Z"
    }
   },
   "cell_type": "code",
   "source": "pd.Series(swap.fixed_leg.payment_dts)",
   "id": "52df44f5a67bc377",
   "outputs": [
    {
     "data": {
      "text/plain": [
       "0    02-APR-2024\n",
       "1    01-JUL-2024\n",
       "2    01-OCT-2024\n",
       "3    02-JAN-2025\n",
       "4    01-APR-2025\n",
       "5    01-JUL-2025\n",
       "6    01-OCT-2025\n",
       "7    02-JAN-2026\n",
       "dtype: object"
      ]
     },
     "execution_count": 70,
     "metadata": {},
     "output_type": "execute_result"
    }
   ],
   "execution_count": 70
  },
  {
   "metadata": {},
   "cell_type": "markdown",
   "source": "# 3months later",
   "id": "39513cfdc5d7ef1"
  },
  {
   "metadata": {
    "ExecuteTime": {
     "end_time": "2025-05-23T01:25:42.392700200Z",
     "start_time": "2025-05-22T08:57:46.274653Z"
    }
   },
   "cell_type": "code",
   "source": [
    "yield_curve_3m=[i/100 for i in [0.75,1.1853,1.6822,2.1474,2.4371,2.7390,3.0198]]\n",
    "zero_dts_3m=value_dt.add_years([0.25,0.5,0.75,1.0,1.25,1.5,1.75])\n",
    "\n",
    "zero_curve_3m = DiscountCurveZeros(value_dt=value_dt.add_months(3),\n",
    "                                zero_dts=zero_dts_3m,\n",
    "                                zero_rates=yield_curve_3m,\n",
    "                                freq_type=FrequencyTypes.QUARTERLY,\n",
    "                                dc_type=DayCountTypes.THIRTY_360_BOND,\n",
    "                                interp_type=InterpTypes.FINCUBIC_ZERO_RATES\n",
    "                                )\n",
    "\n"
   ],
   "id": "8acc84107dae665e",
   "outputs": [],
   "execution_count": 93
  },
  {
   "metadata": {
    "ExecuteTime": {
     "end_time": "2025-05-23T01:25:42.392700200Z",
     "start_time": "2025-05-22T08:58:16.963888Z"
    }
   },
   "cell_type": "code",
   "source": [
    "fixed_cpn_3m=0.034\n",
    "swap_3m = IborSwap(start_dt.add_months(3),\n",
    "                maturity_dt,\n",
    "                swap_type,\n",
    "                fixed_cpn_3m,\n",
    "                fixed_freq_type,\n",
    "                fixed_dc_type,\n",
    "                notional,\n",
    "                float_spread,\n",
    "                float_freq_type,\n",
    "                float_dc_type,\n",
    "                swap_cal_type,\n",
    "                bd_type,\n",
    "                dg_type)\n",
    "\n"
   ],
   "id": "5892081fb637c810",
   "outputs": [],
   "execution_count": 99
  },
  {
   "metadata": {
    "ExecuteTime": {
     "end_time": "2025-05-23T01:25:42.392700200Z",
     "start_time": "2025-05-22T08:58:18.380055Z"
    }
   },
   "cell_type": "code",
   "source": "swap_3m.value(value_dt.add_months(3), zero_curve_3m)",
   "id": "3aa3b8731a5cc344",
   "outputs": [
    {
     "data": {
      "text/plain": [
       "-1103746.1176017257"
      ]
     },
     "execution_count": 100,
     "metadata": {},
     "output_type": "execute_result"
    }
   ],
   "execution_count": 100
  },
  {
   "metadata": {
    "ExecuteTime": {
     "end_time": "2025-05-23T01:25:42.392700200Z",
     "start_time": "2025-05-22T08:58:11.381600Z"
    }
   },
   "cell_type": "code",
   "source": "swap_3m.swap_rate(value_dt.add_months(3), zero_curve_3m)",
   "id": "5d8fe704908ed541",
   "outputs": [
    {
     "data": {
      "text/plain": [
       "0.023244839642912206"
      ]
     },
     "execution_count": 98,
     "metadata": {},
     "output_type": "execute_result"
    }
   ],
   "execution_count": 98
  },
  {
   "metadata": {
    "ExecuteTime": {
     "end_time": "2025-05-23T01:25:42.394185900Z",
     "start_time": "2025-05-22T08:15:54.437385Z"
    }
   },
   "cell_type": "code",
   "source": "swap_3m.payer_side_macaulay_duration(value_dt.add_months(3), zero_curve_3m)",
   "id": "f9c796b4218d3df7",
   "outputs": [
    {
     "data": {
      "text/plain": [
       "-5.879831278293125"
      ]
     },
     "execution_count": 76,
     "metadata": {},
     "output_type": "execute_result"
    }
   ],
   "execution_count": 76
  },
  {
   "metadata": {
    "ExecuteTime": {
     "end_time": "2025-05-23T01:25:42.394185900Z",
     "start_time": "2025-05-22T08:15:55.564419Z"
    }
   },
   "cell_type": "code",
   "source": "start_dt.add_months(3)",
   "id": "68a6d3e4cc14ee91",
   "outputs": [
    {
     "data": {
      "text/plain": [
       "01-APR-2024"
      ]
     },
     "execution_count": 77,
     "metadata": {},
     "output_type": "execute_result"
    }
   ],
   "execution_count": 77
  },
  {
   "metadata": {
    "ExecuteTime": {
     "end_time": "2025-05-23T01:25:42.394185900Z",
     "start_time": "2025-05-22T08:19:10.564739Z"
    }
   },
   "cell_type": "code",
   "source": "swap_3m.print_payments()",
   "id": "68097534a5e9ba5e",
   "outputs": [
    {
     "name": "stdout",
     "output_type": "stream",
     "text": [
      "START DATE: 01-APR-2024\n",
      "MATURITY DATE: 02-JAN-2026\n",
      "COUPON (%): 3.0\n",
      "FREQUENCY: FrequencyTypes.QUARTERLY\n",
      "DAY COUNT: DayCountTypes.THIRTY_360_BOND\n",
      "\n",
      "PAYMENTS SCHEDULE:\n",
      "+---------+-------------+-------------+-------------+------+----------+------+----------+\n",
      "| PAY_NUM |    PAY_dt   |  ACCR_START |   ACCR_END  | DAYS | YEARFRAC | RATE |   PMNT   |\n",
      "+---------+-------------+-------------+-------------+------+----------+------+----------+\n",
      "|    1    | 01-JUL-2024 | 01-APR-2024 | 01-JUL-2024 |  90  |   0.25   | 3.0  | 450000.0 |\n",
      "|    2    | 01-OCT-2024 | 01-JUL-2024 | 01-OCT-2024 |  90  |   0.25   | 3.0  | 450000.0 |\n",
      "|    3    | 02-JAN-2025 | 01-OCT-2024 | 02-JAN-2025 |  91  |  0.2528  | 3.0  | 455000.0 |\n",
      "|    4    | 01-APR-2025 | 02-JAN-2025 | 01-APR-2025 |  89  |  0.2472  | 3.0  | 445000.0 |\n",
      "|    5    | 01-JUL-2025 | 01-APR-2025 | 01-JUL-2025 |  90  |   0.25   | 3.0  | 450000.0 |\n",
      "|    6    | 01-OCT-2025 | 01-JUL-2025 | 01-OCT-2025 |  90  |   0.25   | 3.0  | 450000.0 |\n",
      "|    7    | 02-JAN-2026 | 01-OCT-2025 | 02-JAN-2026 |  91  |  0.2528  | 3.0  | 455000.0 |\n",
      "+---------+-------------+-------------+-------------+------+----------+------+----------+\n",
      "START DATE: 01-APR-2024\n",
      "MATURITY DATE: 02-JAN-2026\n",
      "SPREAD (bp): 0.0\n",
      "FREQUENCY: FrequencyTypes.QUARTERLY\n",
      "DAY COUNT: DayCountTypes.THIRTY_360_BOND\n",
      "\n",
      "PAYMENTS SCHEDULE:\n",
      "+---------+-------------+-------------+-------------+------+----------+\n",
      "| PAY_NUM |    PAY_dt   |  ACCR_START |   ACCR_END  | DAYS | YEARFRAC |\n",
      "+---------+-------------+-------------+-------------+------+----------+\n",
      "|    1    | 01-JUL-2024 | 01-APR-2024 | 01-JUL-2024 |  90  |   0.25   |\n",
      "|    2    | 01-OCT-2024 | 01-JUL-2024 | 01-OCT-2024 |  90  |   0.25   |\n",
      "|    3    | 02-JAN-2025 | 01-OCT-2024 | 02-JAN-2025 |  91  |  0.2528  |\n",
      "|    4    | 01-APR-2025 | 02-JAN-2025 | 01-APR-2025 |  89  |  0.2472  |\n",
      "|    5    | 01-JUL-2025 | 01-APR-2025 | 01-JUL-2025 |  90  |   0.25   |\n",
      "|    6    | 01-OCT-2025 | 01-JUL-2025 | 01-OCT-2025 |  90  |   0.25   |\n",
      "|    7    | 02-JAN-2026 | 01-OCT-2025 | 02-JAN-2026 |  91  |  0.2528  |\n",
      "+---------+-------------+-------------+-------------+------+----------+\n"
     ]
    }
   ],
   "execution_count": 83
  }
 ],
 "metadata": {
  "kernelspec": {
   "display_name": "Python 3",
   "language": "python",
   "name": "python3"
  },
  "language_info": {
   "codemirror_mode": {
    "name": "ipython",
    "version": 2
   },
   "file_extension": ".py",
   "mimetype": "text/x-python",
   "name": "python",
   "nbconvert_exporter": "python",
   "pygments_lexer": "ipython2",
   "version": "2.7.6"
  }
 },
 "nbformat": 4,
 "nbformat_minor": 5
}
