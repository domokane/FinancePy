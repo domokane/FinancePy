{
    "cells": [
        {
            "cell_type": "markdown",
            "metadata": {},
            "source": [
                "# Building a Libor Curve"
            ]
        },
        {
            "cell_type": "markdown",
            "metadata": {},
            "source": [
                "This is an example of a replication of a BBG example from\n",
                "\n",
                "https://github.com/vilen22/curve-building/blob/master/Bloomberg%20Curve%20Building%20Replication.xlsx\n",
                "\n",
                "Agreement is very good however some issues about date generation need to be checked."
            ]
        },
        {
            "cell_type": "code",
            "execution_count": 1,
            "metadata": {
                "execution": {
                    "iopub.execute_input": "2024-04-30T20:33:23.612441Z",
                    "iopub.status.busy": "2024-04-30T20:33:23.611460Z",
                    "iopub.status.idle": "2024-04-30T20:33:24.238601Z",
                    "shell.execute_reply": "2024-04-30T20:33:24.238601Z"
                }
            },
            "outputs": [],
            "source": [
                "import numpy as np\n",
                "import matplotlib.pyplot as plt"
            ]
        },
        {
            "cell_type": "code",
            "execution_count": 2,
            "metadata": {
                "execution": {
                    "iopub.execute_input": "2024-04-30T20:33:24.241598Z",
                    "iopub.status.busy": "2024-04-30T20:33:24.241598Z",
                    "iopub.status.idle": "2024-04-30T20:33:26.998565Z",
                    "shell.execute_reply": "2024-04-30T20:33:26.998565Z"
                }
            },
            "outputs": [
                {
                    "name": "stdout",
                    "output_type": "stream",
                    "text": [
                        "####################################################################\n",
                        "#  FINANCEPY BETA Version 0.350 - This build: 30 Apr 2024 at 22:32 #\n",
                        "#     This software is distributed FREE AND WITHOUT ANY WARRANTY   #\n",
                        "#  Report bugs as issues at https://github.com/domokane/FinancePy  #\n",
                        "####################################################################\n",
                        "\n"
                    ]
                }
            ],
            "source": [
                "from financepy.utils import *\n",
                "from financepy.products.rates import *"
            ]
        },
        {
            "cell_type": "markdown",
            "metadata": {},
            "source": [
                "## Creating the Libor Instruments"
            ]
        },
        {
            "cell_type": "code",
            "execution_count": 3,
            "metadata": {
                "execution": {
                    "iopub.execute_input": "2024-04-30T20:33:27.001141Z",
                    "iopub.status.busy": "2024-04-30T20:33:27.001141Z",
                    "iopub.status.idle": "2024-04-30T20:33:27.111457Z",
                    "shell.execute_reply": "2024-04-30T20:33:27.110817Z"
                }
            },
            "outputs": [],
            "source": [
                "value_dt = Date(6, 6, 2018)"
            ]
        },
        {
            "cell_type": "markdown",
            "metadata": {},
            "source": [
                "### Load up the deposits first"
            ]
        },
        {
            "cell_type": "code",
            "execution_count": 4,
            "metadata": {
                "execution": {
                    "iopub.execute_input": "2024-04-30T20:33:27.113494Z",
                    "iopub.status.busy": "2024-04-30T20:33:27.113494Z",
                    "iopub.status.idle": "2024-04-30T20:33:27.116361Z",
                    "shell.execute_reply": "2024-04-30T20:33:27.116361Z"
                }
            },
            "outputs": [],
            "source": [
                "spot_days = 0\n",
                "settle_dt = value_dt.add_weekdays(spot_days)"
            ]
        },
        {
            "cell_type": "code",
            "execution_count": 5,
            "metadata": {
                "execution": {
                    "iopub.execute_input": "2024-04-30T20:33:27.118388Z",
                    "iopub.status.busy": "2024-04-30T20:33:27.118388Z",
                    "iopub.status.idle": "2024-04-30T20:33:27.122064Z",
                    "shell.execute_reply": "2024-04-30T20:33:27.121936Z"
                }
            },
            "outputs": [],
            "source": [
                "depo_dcc_type = DayCountTypes.THIRTY_E_360_ISDA\n",
                "depos = []\n",
                "deposit_rate = 0.0231381\n",
                "maturity_dt = settle_dt.add_months(3)\n",
                "depo = IborDeposit(settle_dt, maturity_dt, deposit_rate, depo_dcc_type)\n",
                "depos.append(depo)"
            ]
        },
        {
            "cell_type": "markdown",
            "metadata": {},
            "source": [
                "### Create Strips of Interest Rate Futures "
            ]
        },
        {
            "cell_type": "code",
            "execution_count": 6,
            "metadata": {
                "execution": {
                    "iopub.execute_input": "2024-04-30T20:33:27.124093Z",
                    "iopub.status.busy": "2024-04-30T20:33:27.124093Z",
                    "iopub.status.idle": "2024-04-30T20:33:27.207055Z",
                    "shell.execute_reply": "2024-04-30T20:33:27.207055Z"
                }
            },
            "outputs": [],
            "source": [
                "futs = []\n",
                "fut = IborFuture(value_dt, 1) ; futs.append(fut)\n",
                "fut = IborFuture(value_dt, 2) ; futs.append(fut)\n",
                "fut = IborFuture(value_dt, 3) ; futs.append(fut)\n",
                "fut = IborFuture(value_dt, 4) ; futs.append(fut)\n",
                "fut = IborFuture(value_dt, 5) ; futs.append(fut)\n",
                "fut = IborFuture(value_dt, 6) ; futs.append(fut)"
            ]
        },
        {
            "cell_type": "markdown",
            "metadata": {},
            "source": [
                "### Convert Interest Rate Futures to FRAs"
            ]
        },
        {
            "cell_type": "markdown",
            "metadata": {},
            "source": [
                "Need to supply futures price and the convexity (in percent)"
            ]
        },
        {
            "cell_type": "code",
            "execution_count": 7,
            "metadata": {
                "execution": {
                    "iopub.execute_input": "2024-04-30T20:33:27.210079Z",
                    "iopub.status.busy": "2024-04-30T20:33:27.210079Z",
                    "iopub.status.idle": "2024-04-30T20:33:27.214622Z",
                    "shell.execute_reply": "2024-04-30T20:33:27.214025Z"
                }
            },
            "outputs": [],
            "source": [
                "fras = [None]*6\n",
                "fras[0] = futs[0].to_fra(97.6675,-0.00005)\n",
                "fras[1] = futs[1].to_fra(97.5200,-0.00060)\n",
                "fras[2] = futs[2].to_fra(97.3550,-0.00146)\n",
                "fras[3] = futs[3].to_fra(97.2450,-0.00263)\n",
                "fras[4] = futs[4].to_fra(97.1450,-0.00411)\n",
                "fras[5] = futs[5].to_fra(97.0750,-0.00589)"
            ]
        },
        {
            "cell_type": "markdown",
            "metadata": {},
            "source": [
                "### Then we load up swap rates"
            ]
        },
        {
            "cell_type": "code",
            "execution_count": 8,
            "metadata": {
                "execution": {
                    "iopub.execute_input": "2024-04-30T20:33:27.216646Z",
                    "iopub.status.busy": "2024-04-30T20:33:27.216646Z",
                    "iopub.status.idle": "2024-04-30T20:33:27.220476Z",
                    "shell.execute_reply": "2024-04-30T20:33:27.219640Z"
                }
            },
            "outputs": [],
            "source": [
                "accrual = DayCountTypes.THIRTY_E_360\n",
                "freq = FrequencyTypes.SEMI_ANNUAL\n",
                "longEnd = DateGenRuleTypes.BACKWARD\n",
                "swap_type = SwapTypes.PAY"
            ]
        },
        {
            "cell_type": "code",
            "execution_count": 9,
            "metadata": {
                "execution": {
                    "iopub.execute_input": "2024-04-30T20:33:27.222504Z",
                    "iopub.status.busy": "2024-04-30T20:33:27.222504Z",
                    "iopub.status.idle": "2024-04-30T20:33:27.225916Z",
                    "shell.execute_reply": "2024-04-30T20:33:27.225485Z"
                }
            },
            "outputs": [],
            "source": [
                "spot_days = 2\n",
                "settle_dt = value_dt.add_weekdays(spot_days)\n",
                "notional = ONE_MILLION"
            ]
        },
        {
            "cell_type": "code",
            "execution_count": 10,
            "metadata": {
                "execution": {
                    "iopub.execute_input": "2024-04-30T20:33:27.227942Z",
                    "iopub.status.busy": "2024-04-30T20:33:27.227942Z",
                    "iopub.status.idle": "2024-04-30T20:33:27.257786Z",
                    "shell.execute_reply": "2024-04-30T20:33:27.257207Z"
                }
            },
            "outputs": [],
            "source": [
                "swaps = []\n",
                "swap = IborSwap(settle_dt, \"2Y\", swap_type, (2.77417+2.77844)/200, freq, accrual, notional); swaps.append(swap)\n",
                "swap = IborSwap(settle_dt, \"3Y\", swap_type, (2.86098+2.86582)/200, freq, accrual); swaps.append(swap)\n",
                "swap = IborSwap(settle_dt, \"4Y\", swap_type, (2.90240+2.90620)/200, freq, accrual); swaps.append(swap)\n",
                "swap = IborSwap(settle_dt, \"5Y\", swap_type, (2.92944+2.92906)/200, freq, accrual); swaps.append(swap)\n",
                "swap = IborSwap(settle_dt, \"6Y\", swap_type, (2.94001+2.94499)/200, freq, accrual); swaps.append(swap)\n",
                "swap = IborSwap(settle_dt, \"7Y\", swap_type, (2.95352+2.95998)/200, freq, accrual); swaps.append(swap)\n",
                "swap = IborSwap(settle_dt, \"8Y\", swap_type, (2.96830+2.97400)/200, freq, accrual); swaps.append(swap)\n",
                "swap = IborSwap(settle_dt, \"9Y\", swap_type, (2.98403+2.98817)/200, freq, accrual); swaps.append(swap)\n",
                "swap = IborSwap(settle_dt, \"10Y\", swap_type, (2.99716+3.00394)/200, freq, accrual); swaps.append(swap)\n",
                "swap = IborSwap(settle_dt, \"11Y\", swap_type, (3.01344+3.01596)/200, freq, accrual); swaps.append(swap)\n",
                "swap = IborSwap(settle_dt, \"12Y\", swap_type, (3.02276+3.02684)/200, freq, accrual); swaps.append(swap)\n",
                "swap = IborSwap(settle_dt, \"15Y\", swap_type, (3.04092+3.04508)/200, freq, accrual); swaps.append(swap)\n",
                "swap = IborSwap(settle_dt, \"20Y\", swap_type, (3.04417+3.05183)/200, freq, accrual); swaps.append(swap)\n",
                "swap = IborSwap(settle_dt, \"25Y\", swap_type, (3.03219+3.03621)/200, freq, accrual); swaps.append(swap)\n",
                "swap = IborSwap(settle_dt, \"30Y\", swap_type, (3.01030+3.01370)/200, freq, accrual); swaps.append(swap)\n",
                "swap = IborSwap(settle_dt, \"40Y\", swap_type, (2.96946+2.97354)/200, freq, accrual); swaps.append(swap)\n",
                "swap = IborSwap(settle_dt, \"50Y\", swap_type, (2.91552+2.93748)/200, freq, accrual); swaps.append(swap)"
            ]
        },
        {
            "cell_type": "markdown",
            "metadata": {},
            "source": [
                "## Build the Curve"
            ]
        },
        {
            "cell_type": "code",
            "execution_count": 11,
            "metadata": {
                "execution": {
                    "iopub.execute_input": "2024-04-30T20:33:27.259813Z",
                    "iopub.status.busy": "2024-04-30T20:33:27.259813Z",
                    "iopub.status.idle": "2024-04-30T20:33:27.267292Z",
                    "shell.execute_reply": "2024-04-30T20:33:27.266614Z"
                }
            },
            "outputs": [
                {
                    "data": {
                        "text/plain": [
                            "[OBJECT TYPE: IborDeposit\n",
                            " START DATE: 06-JUN-2018\n",
                            " MATURITY DATE: 06-SEP-2018\n",
                            " NOTIONAL: 100.0\n",
                            " DEPOSIT RATE: 0.0231381\n",
                            " DAY COUNT TYPE: DayCountTypes.THIRTY_E_360_ISDA\n",
                            " CALENDAR: CalendarTypes.WEEKEND\n",
                            " BUS DAY ADJUST TYPE: BusDayAdjustTypes.MODIFIED_FOLLOWING]"
                        ]
                    },
                    "execution_count": 11,
                    "metadata": {},
                    "output_type": "execute_result"
                }
            ],
            "source": [
                "depos"
            ]
        },
        {
            "cell_type": "code",
            "execution_count": 12,
            "metadata": {
                "execution": {
                    "iopub.execute_input": "2024-04-30T20:33:27.269327Z",
                    "iopub.status.busy": "2024-04-30T20:33:27.269327Z",
                    "iopub.status.idle": "2024-04-30T20:33:27.273034Z",
                    "shell.execute_reply": "2024-04-30T20:33:27.273034Z"
                }
            },
            "outputs": [
                {
                    "data": {
                        "text/plain": [
                            "08-JUN-2018"
                        ]
                    },
                    "execution_count": 12,
                    "metadata": {},
                    "output_type": "execute_result"
                }
            ],
            "source": [
                "settle_dt"
            ]
        },
        {
            "cell_type": "code",
            "execution_count": 13,
            "metadata": {
                "execution": {
                    "iopub.execute_input": "2024-04-30T20:33:27.275037Z",
                    "iopub.status.busy": "2024-04-30T20:33:27.275037Z",
                    "iopub.status.idle": "2024-04-30T20:33:27.461314Z",
                    "shell.execute_reply": "2024-04-30T20:33:27.461314Z"
                }
            },
            "outputs": [],
            "source": [
                "libor_curve = IborSingleCurve(value_dt, depos, fras, swaps)"
            ]
        },
        {
            "cell_type": "markdown",
            "metadata": {},
            "source": [
                "## Curve Examination"
            ]
        },
        {
            "cell_type": "markdown",
            "metadata": {},
            "source": [
                "Generate a vector of time points and then generate zero rates and forward rates"
            ]
        },
        {
            "cell_type": "code",
            "execution_count": 14,
            "metadata": {
                "execution": {
                    "iopub.execute_input": "2024-04-30T20:33:27.464310Z",
                    "iopub.status.busy": "2024-04-30T20:33:27.464310Z",
                    "iopub.status.idle": "2024-04-30T20:33:27.497038Z",
                    "shell.execute_reply": "2024-04-30T20:33:27.497038Z"
                }
            },
            "outputs": [],
            "source": [
                "years = np.linspace(0.01,50,1000)\n",
                "dates = settle_dt.add_years(years)\n",
                "zero_rates = libor_curve.zero_rate(dates)\n",
                "fwd_rates = libor_curve.fwd(dates)"
            ]
        },
        {
            "cell_type": "code",
            "execution_count": 15,
            "metadata": {
                "execution": {
                    "iopub.execute_input": "2024-04-30T20:33:27.500035Z",
                    "iopub.status.busy": "2024-04-30T20:33:27.499038Z",
                    "iopub.status.idle": "2024-04-30T20:33:27.774798Z",
                    "shell.execute_reply": "2024-04-30T20:33:27.774798Z"
                }
            },
            "outputs": [
                {
                    "data": {
                        "image/png": "[encoded data removed]",
                        "text/plain": [
                            "<Figure size 800x600 with 1 Axes>"
                        ]
                    },
                    "metadata": {},
                    "output_type": "display_data"
                }
            ],
            "source": [
                "plt.figure(figsize=(8,6))\n",
                "plt.plot(years, zero_rates*100, label=\"zero rates\")\n",
                "plt.plot(years, fwd_rates*100, label = \"fwd rates\")\n",
                "plt.xlabel(\"Times\")\n",
                "plt.ylabel(\"CC forward rates\")\n",
                "plt.legend();"
            ]
        },
        {
            "cell_type": "markdown",
            "metadata": {},
            "source": [
                "We see that the forward rates are piecewise flat"
            ]
        },
        {
            "cell_type": "markdown",
            "metadata": {},
            "source": [
                "## Detailed Valuation"
            ]
        },
        {
            "cell_type": "code",
            "execution_count": 16,
            "metadata": {
                "execution": {
                    "iopub.execute_input": "2024-04-30T20:33:27.777825Z",
                    "iopub.status.busy": "2024-04-30T20:33:27.776829Z",
                    "iopub.status.idle": "2024-04-30T20:33:27.781586Z",
                    "shell.execute_reply": "2024-04-30T20:33:27.781586Z"
                }
            },
            "outputs": [
                {
                    "data": {
                        "text/plain": [
                            "-4.517110937740654e-06"
                        ]
                    },
                    "execution_count": 16,
                    "metadata": {},
                    "output_type": "execute_result"
                }
            ],
            "source": [
                "swaps[0].value(settle_dt, libor_curve, libor_curve)"
            ]
        },
        {
            "cell_type": "code",
            "execution_count": 17,
            "metadata": {
                "execution": {
                    "iopub.execute_input": "2024-04-30T20:33:27.784620Z",
                    "iopub.status.busy": "2024-04-30T20:33:27.784620Z",
                    "iopub.status.idle": "2024-04-30T20:33:27.787958Z",
                    "shell.execute_reply": "2024-04-30T20:33:27.787958Z"
                }
            },
            "outputs": [
                {
                    "data": {
                        "text/plain": [
                            "-53715.21909367894"
                        ]
                    },
                    "execution_count": 17,
                    "metadata": {},
                    "output_type": "execute_result"
                }
            ],
            "source": [
                "swaps[0].fixed_leg.value(settle_dt, libor_curve)"
            ]
        },
        {
            "cell_type": "code",
            "execution_count": 18,
            "metadata": {
                "execution": {
                    "iopub.execute_input": "2024-04-30T20:33:27.789982Z",
                    "iopub.status.busy": "2024-04-30T20:33:27.789982Z",
                    "iopub.status.idle": "2024-04-30T20:33:27.794153Z",
                    "shell.execute_reply": "2024-04-30T20:33:27.794153Z"
                }
            },
            "outputs": [
                {
                    "data": {
                        "text/plain": [
                            "53715.21908916183"
                        ]
                    },
                    "execution_count": 18,
                    "metadata": {},
                    "output_type": "execute_result"
                }
            ],
            "source": [
                "swaps[0].float_leg.value(settle_dt, libor_curve, libor_curve)"
            ]
        },
        {
            "cell_type": "code",
            "execution_count": 19,
            "metadata": {
                "execution": {
                    "iopub.execute_input": "2024-04-30T20:33:27.796689Z",
                    "iopub.status.busy": "2024-04-30T20:33:27.796689Z",
                    "iopub.status.idle": "2024-04-30T20:33:27.800454Z",
                    "shell.execute_reply": "2024-04-30T20:33:27.800454Z"
                }
            },
            "outputs": [
                {
                    "name": "stdout",
                    "output_type": "stream",
                    "text": [
                        "START DATE: 08-JUN-2018\n",
                        "MATURITY DATE: 08-JUN-2020\n",
                        "COUPON (%): 2.776305\n",
                        "FREQUENCY: FrequencyTypes.SEMI_ANNUAL\n",
                        "DAY COUNT: DayCountTypes.THIRTY_E_360\n",
                        "\n",
                        "PAYMENTS VALUATION:\n",
                        "+---------+-------------+----------+--------+----------+--------+----------+----------+\n",
                        "| PAY_NUM |    PAY_dt   | NOTIONAL |  RATE  |   PMNT   |   DF   |    PV    |  CUM_PV  |\n",
                        "+---------+-------------+----------+--------+----------+--------+----------+----------+\n",
                        "|    1    | 10-DEC-2018 | 1000000  | 2.7763 | 14035.76 | 0.9878 | 13864.72 | 13864.72 |\n",
                        "|    2    | 10-JUN-2019 | 1000000  | 2.7763 | 13881.52 | 0.9745 | 13528.15 | 27392.87 |\n",
                        "|    3    | 09-DEC-2019 | 1000000  | 2.7763 | 13804.41 | 0.9605 | 13259.45 | 40652.32 |\n",
                        "|    4    | 08-JUN-2020 | 1000000  | 2.7763 | 13804.41 | 0.9463 | 13062.9  | 53715.22 |\n",
                        "+---------+-------------+----------+--------+----------+--------+----------+----------+\n"
                    ]
                }
            ],
            "source": [
                "swaps[0].print_fixed_leg_pv()"
            ]
        },
        {
            "cell_type": "code",
            "execution_count": 20,
            "metadata": {
                "execution": {
                    "iopub.execute_input": "2024-04-30T20:33:27.802575Z",
                    "iopub.status.busy": "2024-04-30T20:33:27.802575Z",
                    "iopub.status.idle": "2024-04-30T20:33:27.807052Z",
                    "shell.execute_reply": "2024-04-30T20:33:27.807052Z"
                }
            },
            "outputs": [
                {
                    "name": "stdout",
                    "output_type": "stream",
                    "text": [
                        "START DATE: 08-JUN-2018\n",
                        "MATURITY DATE: 08-JUN-2020\n",
                        "SPREAD (BPS): 0.0\n",
                        "FREQUENCY: FrequencyTypes.QUARTERLY\n",
                        "DAY COUNT: DayCountTypes.THIRTY_E_360\n",
                        "\n",
                        "PAYMENTS VALUATION:\n",
                        "+---------+-------------+----------+--------+---------+--------+---------+----------+\n",
                        "| PAY_NUM |    PAY_dt   | NOTIONAL |  IBOR  |   PMNT  |   DF   |    PV   |  CUM_PV  |\n",
                        "+---------+-------------+----------+--------+---------+--------+---------+----------+\n",
                        "|    1    | 10-SEP-2018 | 1000000  | 2.3339 | 5964.33 | 0.9941 | 5928.97 | 5928.97  |\n",
                        "|    2    | 10-DEC-2018 | 1000000  | 2.5337 | 6334.19 | 0.9878 | 6257.01 | 12185.97 |\n",
                        "|    3    | 08-MAR-2019 | 1000000  | 2.6265 | 6420.24 | 0.9815 | 6301.55 | 18487.52 |\n",
                        "|    4    | 10-JUN-2019 | 1000000  | 2.7983 | 7151.28 | 0.9745 | 6969.23 | 25456.75 |\n",
                        "|    5    | 09-SEP-2019 | 1000000  | 2.905  | 7181.78 | 0.9676 | 6949.05 | 32405.8  |\n",
                        "|    6    | 09-DEC-2019 | 1000000  | 2.9447 | 7361.81 | 0.9605 | 7071.18 | 39476.98 |\n",
                        "|    7    | 09-MAR-2020 | 1000000  | 2.9963 | 7490.76 | 0.9534 | 7141.55 | 46618.54 |\n",
                        "|    8    | 08-JUN-2020 | 1000000  | 3.0335 | 7499.52 | 0.9463 | 7096.68 | 53715.22 |\n",
                        "+---------+-------------+----------+--------+---------+--------+---------+----------+\n"
                    ]
                }
            ],
            "source": [
                "swaps[0].print_float_leg_pv()"
            ]
        },
        {
            "cell_type": "markdown",
            "metadata": {},
            "source": [
                "Copyright (c) 2020 Dominic O'Kane"
            ]
        }
    ],
    "metadata": {
        "kernelspec": {
            "display_name": "Python 3",
            "language": "python",
            "name": "python3"
        },
        "language_info": {
            "codemirror_mode": {
                "name": "ipython",
                "version": 3
            },
            "file_extension": ".py",
            "mimetype": "text/x-python",
            "name": "python",
            "nbconvert_exporter": "python",
            "pygments_lexer": "ipython3",
            "version": "3.11.5"
        }
    },
    "nbformat": 4,
    "nbformat_minor": 4
}