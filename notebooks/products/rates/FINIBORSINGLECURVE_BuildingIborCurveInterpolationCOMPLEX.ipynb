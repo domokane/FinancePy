{
    "cells": [
        {
            "cell_type": "markdown",
            "metadata": {},
            "source": [
                "# Building a Euribor Curve - Interpolation Analysis - Complex Case"
            ]
        },
        {
            "cell_type": "markdown",
            "metadata": {},
            "source": [
                "We build an Ibor single-curve and examine different interpolation choices for a simple curve.\n",
                "\n",
                "This follows:\n",
                "\n",
                "https://quant.stackexchange.com/questions/53904/monotonic-cubic-spline-interpolation-quantlib-python?rq=1"
            ]
        },
        {
            "cell_type": "code",
            "execution_count": null,
            "metadata": {},
            "outputs": [],
            "source": [
                "import numpy as np\n",
                "import matplotlib.pyplot as plt\n",
                "from timeit import default_timer as timer"
            ]
        },
        {
            "cell_type": "code",
            "execution_count": null,
            "metadata": {},
            "outputs": [],
            "source": [
                "from financepy.utils import *\n",
                "from financepy.products.rates import *"
            ]
        },
        {
            "cell_type": "code",
            "execution_count": null,
            "metadata": {},
            "outputs": [],
            "source": [
                "valuation_date = Date(12, 5, 2020)"
            ]
        },
        {
            "cell_type": "markdown",
            "metadata": {},
            "source": [
                "## Building the Single Curve"
            ]
        },
        {
            "cell_type": "markdown",
            "metadata": {},
            "source": [
                "Build the Ibor Curve"
            ]
        },
        {
            "cell_type": "code",
            "execution_count": null,
            "metadata": {},
            "outputs": [],
            "source": [
                "# Need to specify a UK calendar (trade was done in London)\n",
                "cal = CalendarTypes.UNITED_KINGDOM\n",
                "\n",
                "depo_dcc_type = DayCountTypes.ACT_360\n",
                "depos = []\n",
                "spot_days = 2\n",
                "settlement_date = valuation_date.add_weekdays(spot_days)\n",
                "depo = IborDeposit(settlement_date, \"6M\", -0.496/100.0, depo_dcc_type, cal_type=cal); depos.append(depo)\n",
                "fraDCCType = DayCountTypes.ACT_360\n",
                "\n",
                "fras = []\n",
                "fra = IborFRA(settlement_date.add_tenor(\"1M\"), \"6M\", -0.493/100.0, fraDCCType, cal_type=cal); fras.append(fra)\n",
                "fra = IborFRA(settlement_date.add_tenor(\"2M\"), \"6M\", -0.491/100.0, fraDCCType, cal_type=cal); fras.append(fra)\n",
                "fra = IborFRA(settlement_date.add_tenor(\"3M\"), \"6M\", -0.494/100.0, fraDCCType, cal_type=cal); fras.append(fra)\n",
                "fra = IborFRA(settlement_date.add_tenor(\"4M\"), \"6M\", -0.496/100.0, fraDCCType, cal_type=cal); fras.append(fra)\n",
                "fra = IborFRA(settlement_date.add_tenor(\"5M\"), \"6M\", -0.499/100.0, fraDCCType, cal_type=cal); fras.append(fra)\n",
                "fra = IborFRA(settlement_date.add_tenor(\"6M\"), \"6M\", -0.501/100.0, fraDCCType, cal_type=cal); fras.append(fra)\n",
                "fra = IborFRA(settlement_date.add_tenor(\"7M\"), \"6M\", -0.505/100.0, fraDCCType, cal_type=cal); fras.append(fra)\n",
                "fra = IborFRA(settlement_date.add_tenor(\"8M\"), \"6M\", -0.508/100.0, fraDCCType, cal_type=cal); fras.append(fra)\n",
                "fra = IborFRA(settlement_date.add_tenor(\"9M\"), \"6M\", -0.518/100.0, fraDCCType, cal_type=cal); fras.append(fra)\n",
                "fra = IborFRA(settlement_date.add_tenor(\"10M\"), \"6M\", -0.516/100.0, fraDCCType, cal_type=cal); fras.append(fra)\n",
                "fra = IborFRA(settlement_date.add_tenor(\"11M\"), \"6M\", -0.518/100.0, fraDCCType, cal_type=cal); fras.append(fra)\n",
                "fra = IborFRA(settlement_date.add_tenor(\"12M\"), \"6M\", -0.519/100.0, fraDCCType, cal_type=cal); fras.append(fra)\n",
                "\n",
                "swaps = []\n",
                "swapType = SwapTypes.PAY\n",
                "fixedDCCType = DayCountTypes.THIRTY_E_360_ISDA\n",
                "fixed_freqType = FrequencyTypes.SEMI_ANNUAL\n",
                "\n",
                "swap = IborSwap(settlement_date, \"2Y\", swapType, -0.514/100.0, fixed_freqType, fixedDCCType, cal_type=cal); swaps.append(swap)\n",
                "swap = IborSwap(settlement_date, \"3Y\", swapType, -0.506/100.0, fixed_freqType, fixedDCCType, cal_type=cal); swaps.append(swap)\n",
                "swap = IborSwap(settlement_date, \"4Y\", swapType, -0.482/100.0, fixed_freqType, fixedDCCType, cal_type=cal); swaps.append(swap)\n",
                "swap = IborSwap(settlement_date, \"5Y\", swapType, -0.451/100.0, fixed_freqType, fixedDCCType, cal_type=cal); swaps.append(swap)\n",
                "swap = IborSwap(settlement_date, \"6Y\", swapType, -0.415/100.0, fixed_freqType, fixedDCCType, cal_type=cal); swaps.append(swap)\n",
                "swap = IborSwap(settlement_date, \"7Y\", swapType, -0.375/100.0, fixed_freqType, fixedDCCType, cal_type=cal); swaps.append(swap)\n",
                "swap = IborSwap(settlement_date, \"8Y\", swapType, -0.333/100.0, fixed_freqType, fixedDCCType, cal_type=cal); swaps.append(swap)\n",
                "swap = IborSwap(settlement_date, \"9Y\", swapType, -0.288/100.0, fixed_freqType, fixedDCCType, cal_type=cal); swaps.append(swap)\n",
                "swap = IborSwap(settlement_date, \"10Y\", swapType, -0.242/100.0, fixed_freqType, fixedDCCType, cal_type=cal); swaps.append(swap)\n",
                "swap = IborSwap(settlement_date, \"11Y\", swapType, -0.198/100.0, fixed_freqType, fixedDCCType, cal_type=cal); swaps.append(swap)\n",
                "swap = IborSwap(settlement_date, \"12Y\", swapType, -0.156/100.0, fixed_freqType, fixedDCCType, cal_type=cal); swaps.append(swap)\n",
                "swap = IborSwap(settlement_date, \"15Y\", swapType, -0.054/100.0, fixed_freqType, fixedDCCType, cal_type=cal); swaps.append(swap)\n",
                "swap = IborSwap(settlement_date, \"20Y\", swapType, 0.023/100.0, fixed_freqType, fixedDCCType, cal_type=cal); swaps.append(swap)\n",
                "swap = IborSwap(settlement_date, \"25Y\", swapType, 0.023/100.0, fixed_freqType, fixedDCCType, cal_type=cal); swaps.append(swap)\n",
                "swap = IborSwap(settlement_date, \"30Y\", swapType, -0.005/100.0, fixed_freqType, fixedDCCType, cal_type=cal); swaps.append(swap)\n",
                "swap = IborSwap(settlement_date, \"40Y\", swapType, -0.063/100.0, fixed_freqType, fixedDCCType, cal_type=cal); swaps.append(swap)\n",
                "swap = IborSwap(settlement_date, \"50Y\", swapType, -0.113/100.0, fixed_freqType, fixedDCCType, cal_type=cal); swaps.append(swap)\n",
                "\n",
                "ibor_depos = depos.copy()\n",
                "ibor_fras = fras.copy()\n",
                "ibor_swaps = swaps.copy()"
            ]
        },
        {
            "cell_type": "code",
            "execution_count": null,
            "metadata": {},
            "outputs": [],
            "source": [
                "check_refit_flag = True\n",
                "ibor_curves = {}\n",
                "optional_interp_params = {'sigma' : 5.0} # only relevant for interp_type == InterpTypes.TENSION_ZERO_RATES\n",
                "for interp_type in InterpTypes:\n",
                "    start = timer()\n",
                "    ibor_curve = IborSingleCurve(valuation_date, ibor_depos, ibor_fras, ibor_swaps, interp_type, check_refit_flag=check_refit_flag, **optional_interp_params)\n",
                "    end = timer()\n",
                "    print(f'{interp_type} fit took {end-start:.2f} sec')\n",
                "    ibor_curves[interp_type] = ibor_curve"
            ]
        },
        {
            "cell_type": "markdown",
            "metadata": {},
            "source": [
                "## Curve Shape Analysis"
            ]
        },
        {
            "cell_type": "markdown",
            "metadata": {},
            "source": [
                "Look at short end"
            ]
        },
        {
            "cell_type": "code",
            "execution_count": null,
            "metadata": {
                "scrolled": false
            },
            "outputs": [],
            "source": [
                "years = np.linspace(0.01, 50, 1000)\n",
                "plot_dates = settlement_date.add_years(years)\n",
                "\n",
                "for interp_type in InterpTypes:\n",
                "\n",
                "    plt.figure(figsize=(8,5))\n",
                "    ibor_curve = ibor_curves[interp_type]\n",
                "    iborCurveFwdRate = ibor_curve.fwd_rate(plot_dates, \"1D\")\n",
                "    iborCurveZeroRate = ibor_curve.zero_rate(plot_dates)\n",
                "    iborCurveSwapRate = ibor_curve.swap_rate(settlement_date, plot_dates)\n",
                "    \n",
                "    plt.plot(years, iborCurveFwdRate*100.0, label=\"FWD RATE\")\n",
                "    plt.plot(years, iborCurveZeroRate*100.0, label=\"ZERO RATE\")\n",
                "    plt.plot(years, iborCurveSwapRate*100.0, label=\"SWAP RATE\")\n",
                "\n",
                "    plt.title(interp_type)\n",
                "    plt.xlabel(\"Years\")\n",
                "    plt.ylabel(\"Rate (%)\")\n",
                "    plt.legend();"
            ]
        },
        {
            "cell_type": "markdown",
            "metadata": {},
            "source": [
                "Copyright (c) Dominic O'Kane 2020"
            ]
        }
    ],
    "metadata": {
        "kernelspec": {
            "display_name": "Python 3.8.8 ('base')",
            "language": "python",
            "name": "python3"
        },
        "language_info": {
            "codemirror_mode": {
                "name": "ipython",
                "version": 3
            },
            "file_extension": ".py",
            "mimetype": "text/x-python",
            "name": "python",
            "nbconvert_exporter": "python",
            "pygments_lexer": "ipython3",
            "version": "3.8.8"
        },
        "vscode": {
            "interpreter": {
                "hash": "884e84ff39d63fe0ace972cf9e1d3c4cdda6aeb2574d79c9ad7eb0401c2936b7"
            }
        }
    },
    "nbformat": 4,
    "nbformat_minor": 4
}