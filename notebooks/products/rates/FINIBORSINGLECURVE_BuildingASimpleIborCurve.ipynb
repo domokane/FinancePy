{
 "cells": [
  {
   "cell_type": "markdown",
   "metadata": {},
   "source": [
    "# Building a Simple Ibor Single Curve"
   ]
  },
  {
   "cell_type": "markdown",
   "metadata": {},
   "source": [
    "Simple Ibor curve that assumes Ibor discounting."
   ]
  },
  {
   "cell_type": "code",
   "execution_count": 1,
   "metadata": {
    "execution": {
     "iopub.execute_input": "2025-08-27T21:49:24.109232Z",
     "iopub.status.busy": "2025-08-27T21:49:24.108988Z",
     "iopub.status.idle": "2025-08-27T21:49:24.547871Z",
     "shell.execute_reply": "2025-08-27T21:49:24.547472Z"
    }
   },
   "outputs": [],
   "source": [
    "import numpy as np\n",
    "import matplotlib.pyplot as plt"
   ]
  },
  {
   "cell_type": "code",
   "execution_count": 2,
   "metadata": {
    "execution": {
     "iopub.execute_input": "2025-08-27T21:49:24.550286Z",
     "iopub.status.busy": "2025-08-27T21:49:24.549959Z",
     "iopub.status.idle": "2025-08-27T21:49:26.149569Z",
     "shell.execute_reply": "2025-08-27T21:49:26.149140Z"
    }
   },
   "outputs": [
    {
     "name": "stdout",
     "output_type": "stream",
     "text": [
      "####################################################################\n",
      "#    FINANCEPY Version 1.1 - This build: 27 Aug 2025 at 23:27      #\n",
      "#     This software is distributed FREE AND WITHOUT ANY WARRANTY   #\n",
      "#  Report bugs as issues at https://github.com/domokane/FinancePy  #\n",
      "####################################################################\n",
      "\n"
     ]
    }
   ],
   "source": [
    "from financepy.utils import *\n",
    "from financepy.products.rates import *"
   ]
  },
  {
   "cell_type": "code",
   "execution_count": 3,
   "metadata": {
    "execution": {
     "iopub.execute_input": "2025-08-27T21:49:26.152054Z",
     "iopub.status.busy": "2025-08-27T21:49:26.151751Z",
     "iopub.status.idle": "2025-08-27T21:49:26.171001Z",
     "shell.execute_reply": "2025-08-27T21:49:26.170606Z"
    }
   },
   "outputs": [],
   "source": [
    "value_dt = Date(18, 9, 2019)"
   ]
  },
  {
   "cell_type": "markdown",
   "metadata": {},
   "source": [
    "## Building the Curve"
   ]
  },
  {
   "cell_type": "code",
   "execution_count": 4,
   "metadata": {
    "execution": {
     "iopub.execute_input": "2025-08-27T21:49:26.173124Z",
     "iopub.status.busy": "2025-08-27T21:49:26.172817Z",
     "iopub.status.idle": "2025-08-27T21:49:26.185423Z",
     "shell.execute_reply": "2025-08-27T21:49:26.185098Z"
    }
   },
   "outputs": [],
   "source": [
    "depo_dcc_type = DayCountTypes.THIRTY_E_360_ISDA\n",
    "depos = []\n",
    "spot_days = 2\n",
    "settle_dt = value_dt.add_weekdays(spot_days)\n",
    "\n",
    "depo = IborDeposit(settle_dt, \"1M\", 0.0200, depo_dcc_type); depos.append(depo)\n",
    "depo = IborDeposit(settle_dt, \"3M\", 0.0230, depo_dcc_type); depos.append(depo)\n",
    "depo = IborDeposit(settle_dt, \"6M\", 0.0250, depo_dcc_type); depos.append(depo)\n",
    "depo = IborDeposit(settle_dt, \"9M\", 0.0280, depo_dcc_type); depos.append(depo)\n",
    "depo = IborDeposit(settle_dt, \"12M\", 0.0310, depo_dcc_type); depos.append(depo)\n",
    "\n",
    "swaps = []\n",
    "swap_type = SwapTypes.PAY\n",
    "fixed_dcc_type = DayCountTypes.ACT_365F\n",
    "fixed_freq_type = FrequencyTypes.SEMI_ANNUAL\n",
    "\n",
    "swap = IborSwap(settle_dt, \"2Y\", swap_type, 0.0320, fixed_freq_type, fixed_dcc_type); swaps.append(swap)\n",
    "swap = IborSwap(settle_dt, \"3Y\", swap_type, 0.0350, fixed_freq_type, fixed_dcc_type); swaps.append(swap)\n",
    "swap = IborSwap(settle_dt, \"4Y\", swap_type, 0.0375, fixed_freq_type, fixed_dcc_type); swaps.append(swap)\n",
    "swap = IborSwap(settle_dt, \"5Y\", swap_type, 0.0400, fixed_freq_type, fixed_dcc_type); swaps.append(swap)\n",
    "swap = IborSwap(settle_dt, \"7Y\", swap_type, 0.0420, fixed_freq_type, fixed_dcc_type); swaps.append(swap)\n",
    "swap = IborSwap(settle_dt, \"10Y\", swap_type, 0.0410, fixed_freq_type, fixed_dcc_type); swaps.append(swap)"
   ]
  },
  {
   "cell_type": "code",
   "execution_count": 5,
   "metadata": {
    "execution": {
     "iopub.execute_input": "2025-08-27T21:49:26.187184Z",
     "iopub.status.busy": "2025-08-27T21:49:26.186988Z",
     "iopub.status.idle": "2025-08-27T21:49:26.205097Z",
     "shell.execute_reply": "2025-08-27T21:49:26.204764Z"
    }
   },
   "outputs": [],
   "source": [
    "libor_curve = IborSingleCurve(value_dt, depos, [], swaps)"
   ]
  },
  {
   "cell_type": "markdown",
   "metadata": {},
   "source": [
    "Copyright (c) Dominic O'Kane 2020"
   ]
  }
 ],
 "metadata": {
  "kernelspec": {
   "display_name": "base",
   "language": "python",
   "name": "python3"
  },
  "language_info": {
   "codemirror_mode": {
    "name": "ipython",
    "version": 3
   },
   "file_extension": ".py",
   "mimetype": "text/x-python",
   "name": "python",
   "nbconvert_exporter": "python",
   "pygments_lexer": "ipython3",
   "version": "3.13.5"
  }
 },
 "nbformat": 4,
 "nbformat_minor": 4
}
