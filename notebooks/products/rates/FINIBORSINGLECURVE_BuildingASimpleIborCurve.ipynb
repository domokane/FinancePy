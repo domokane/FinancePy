{
    "cells": [
        {
            "cell_type": "markdown",
            "metadata": {},
            "source": [
                "# Building a Simple Ibor Single Curve"
            ]
        },
        {
            "cell_type": "markdown",
            "metadata": {},
            "source": [
                "Simple Ibor curve that assumes Ibor discounting."
            ]
        },
        {
            "cell_type": "code",
            "execution_count": 1,
            "metadata": {
                "execution": {
                    "iopub.execute_input": "2024-04-30T20:22:49.590663Z",
                    "iopub.status.busy": "2024-04-30T20:22:49.589621Z",
                    "iopub.status.idle": "2024-04-30T20:22:50.205727Z",
                    "shell.execute_reply": "2024-04-30T20:22:50.205727Z"
                }
            },
            "outputs": [],
            "source": [
                "import numpy as np\n",
                "import matplotlib.pyplot as plt"
            ]
        },
        {
            "cell_type": "code",
            "execution_count": 2,
            "metadata": {
                "execution": {
                    "iopub.execute_input": "2024-04-30T20:22:50.208331Z",
                    "iopub.status.busy": "2024-04-30T20:22:50.208331Z",
                    "iopub.status.idle": "2024-04-30T20:22:51.684359Z",
                    "shell.execute_reply": "2024-04-30T20:22:51.683739Z"
                }
            },
            "outputs": [
                {
                    "name": "stdout",
                    "output_type": "stream",
                    "text": [
                        "####################################################################\n",
                        "#  FINANCEPY BETA Version 0.350 - This build: 30 Apr 2024 at 21:20 #\n",
                        "#     This software is distributed FREE AND WITHOUT ANY WARRANTY   #\n",
                        "#  Report bugs as issues at https://github.com/domokane/FinancePy  #\n",
                        "####################################################################\n",
                        "\n"
                    ]
                }
            ],
            "source": [
                "from financepy.utils import *\n",
                "from financepy.products.rates import *"
            ]
        },
        {
            "cell_type": "code",
            "execution_count": 3,
            "metadata": {
                "execution": {
                    "iopub.execute_input": "2024-04-30T20:22:51.686384Z",
                    "iopub.status.busy": "2024-04-30T20:22:51.686384Z",
                    "iopub.status.idle": "2024-04-30T20:22:51.706939Z",
                    "shell.execute_reply": "2024-04-30T20:22:51.706939Z"
                }
            },
            "outputs": [],
            "source": [
                "value_dt = Date(18, 9, 2019)"
            ]
        },
        {
            "cell_type": "markdown",
            "metadata": {},
            "source": [
                "## Building the Curve"
            ]
        },
        {
            "cell_type": "code",
            "execution_count": 4,
            "metadata": {
                "execution": {
                    "iopub.execute_input": "2024-04-30T20:22:51.709984Z",
                    "iopub.status.busy": "2024-04-30T20:22:51.709984Z",
                    "iopub.status.idle": "2024-04-30T20:22:51.727832Z",
                    "shell.execute_reply": "2024-04-30T20:22:51.727832Z"
                }
            },
            "outputs": [],
            "source": [
                "depo_dcc_type = DayCountTypes.THIRTY_E_360_ISDA\n",
                "depos = []\n",
                "spot_days = 2\n",
                "settle_dt = value_dt.add_weekdays(spot_days)\n",
                "\n",
                "depo = IborDeposit(settle_dt, \"1M\", 0.0200, depo_dcc_type); depos.append(depo)\n",
                "depo = IborDeposit(settle_dt, \"3M\", 0.0230, depo_dcc_type); depos.append(depo)\n",
                "depo = IborDeposit(settle_dt, \"6M\", 0.0250, depo_dcc_type); depos.append(depo)\n",
                "depo = IborDeposit(settle_dt, \"9M\", 0.0280, depo_dcc_type); depos.append(depo)\n",
                "depo = IborDeposit(settle_dt, \"12M\", 0.0310, depo_dcc_type); depos.append(depo)\n",
                "\n",
                "swaps = []\n",
                "swap_type = SwapTypes.PAY\n",
                "fixed_dcc_type = DayCountTypes.ACT_365F\n",
                "fixed_freq_type = FrequencyTypes.SEMI_ANNUAL\n",
                "\n",
                "swap = IborSwap(settle_dt, \"2Y\", swap_type, 0.0320, fixed_freq_type, fixed_dcc_type); swaps.append(swap)\n",
                "swap = IborSwap(settle_dt, \"3Y\", swap_type, 0.0350, fixed_freq_type, fixed_dcc_type); swaps.append(swap)\n",
                "swap = IborSwap(settle_dt, \"4Y\", swap_type, 0.0375, fixed_freq_type, fixed_dcc_type); swaps.append(swap)\n",
                "swap = IborSwap(settle_dt, \"5Y\", swap_type, 0.0400, fixed_freq_type, fixed_dcc_type); swaps.append(swap)\n",
                "swap = IborSwap(settle_dt, \"7Y\", swap_type, 0.0420, fixed_freq_type, fixed_dcc_type); swaps.append(swap)\n",
                "swap = IborSwap(settle_dt, \"10Y\", swap_type, 0.0410, fixed_freq_type, fixed_dcc_type); swaps.append(swap)"
            ]
        },
        {
            "cell_type": "code",
            "execution_count": 5,
            "metadata": {
                "execution": {
                    "iopub.execute_input": "2024-04-30T20:22:51.730832Z",
                    "iopub.status.busy": "2024-04-30T20:22:51.730832Z",
                    "iopub.status.idle": "2024-04-30T20:22:51.758946Z",
                    "shell.execute_reply": "2024-04-30T20:22:51.758946Z"
                }
            },
            "outputs": [],
            "source": [
                "libor_curve = IborSingleCurve(value_dt, depos, [], swaps)"
            ]
        },
        {
            "cell_type": "markdown",
            "metadata": {},
            "source": [
                "Copyright (c) Dominic O'Kane 2020"
            ]
        }
    ],
    "metadata": {
        "kernelspec": {
            "display_name": "Python 3",
            "language": "python",
            "name": "python3"
        },
        "language_info": {
            "codemirror_mode": {
                "name": "ipython",
                "version": 3
            },
            "file_extension": ".py",
            "mimetype": "text/x-python",
            "name": "python",
            "nbconvert_exporter": "python",
            "pygments_lexer": "ipython3",
            "version": "3.11.5"
        }
    },
    "nbformat": 4,
    "nbformat_minor": 4
}