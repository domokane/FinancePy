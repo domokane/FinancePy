{
 "cells": [
  {
   "cell_type": "markdown",
   "metadata": {},
   "source": [
    "# European Swaption Pricing - All Models"
   ]
  },
  {
   "cell_type": "markdown",
   "metadata": {},
   "source": [
    "Value a European Swaption using the Hull-White, Black-Derman-Toy and Black-Karasinski models. I analyse relationships to test the model pricing."
   ]
  },
  {
   "cell_type": "code",
   "execution_count": 1,
   "metadata": {
    "execution": {
     "iopub.execute_input": "2025-09-14T22:25:44.546075Z",
     "iopub.status.busy": "2025-09-14T22:25:44.545936Z",
     "iopub.status.idle": "2025-09-14T22:25:44.775126Z",
     "shell.execute_reply": "2025-09-14T22:25:44.774408Z"
    }
   },
   "outputs": [],
   "source": [
    "import numpy as np\n",
    "import matplotlib.pyplot as plt"
   ]
  },
  {
   "cell_type": "code",
   "execution_count": 2,
   "metadata": {
    "execution": {
     "iopub.execute_input": "2025-09-14T22:25:44.776952Z",
     "iopub.status.busy": "2025-09-14T22:25:44.776758Z",
     "iopub.status.idle": "2025-09-14T22:25:45.792767Z",
     "shell.execute_reply": "2025-09-14T22:25:45.792218Z"
    },
    "tags": []
   },
   "outputs": [],
   "source": [
    "from financepy.utils import *\n",
    "from financepy.products.rates import *\n",
    "from financepy.market.curves import *\n",
    "from financepy.models.hw_tree import HWTree\n",
    "from financepy.models.bk_tree import BKTree\n",
    "from financepy.models.bdt_tree import BDTTree"
   ]
  },
  {
   "cell_type": "markdown",
   "metadata": {},
   "source": [
    "## Discount Curve"
   ]
  },
  {
   "cell_type": "code",
   "execution_count": 3,
   "metadata": {
    "execution": {
     "iopub.execute_input": "2025-09-14T22:25:45.795606Z",
     "iopub.status.busy": "2025-09-14T22:25:45.795361Z",
     "iopub.status.idle": "2025-09-14T22:25:45.812738Z",
     "shell.execute_reply": "2025-09-14T22:25:45.812344Z"
    }
   },
   "outputs": [],
   "source": [
    "value_dt = Date(1, 1, 2011)\n",
    "settle_dt = value_dt"
   ]
  },
  {
   "cell_type": "markdown",
   "metadata": {},
   "source": [
    "Set up flat discount curve at 6% (semi-annual compounding)"
   ]
  },
  {
   "cell_type": "code",
   "execution_count": 4,
   "metadata": {
    "execution": {
     "iopub.execute_input": "2025-09-14T22:25:45.815567Z",
     "iopub.status.busy": "2025-09-14T22:25:45.815425Z",
     "iopub.status.idle": "2025-09-14T22:25:45.825123Z",
     "shell.execute_reply": "2025-09-14T22:25:45.824761Z"
    }
   },
   "outputs": [],
   "source": [
    "libor_curve = DiscountCurveFlat(value_dt, 0.0625, FrequencyTypes.SEMI_ANNUAL)"
   ]
  },
  {
   "cell_type": "markdown",
   "metadata": {},
   "source": [
    "# Defining the Swaptions"
   ]
  },
  {
   "cell_type": "markdown",
   "metadata": {},
   "source": [
    "We begin with European swaptions. European swaptions can be set up directly as European Swaptions or as Bermudan swaptions with an exercise type of EUROPEAN"
   ]
  },
  {
   "cell_type": "code",
   "execution_count": 5,
   "metadata": {
    "execution": {
     "iopub.execute_input": "2025-09-14T22:25:45.826913Z",
     "iopub.status.busy": "2025-09-14T22:25:45.826785Z",
     "iopub.status.idle": "2025-09-14T22:25:45.829053Z",
     "shell.execute_reply": "2025-09-14T22:25:45.828728Z"
    }
   },
   "outputs": [],
   "source": [
    "exercise_dt = settle_dt.add_tenor(\"1Y\")\n",
    "swap_maturity_dt = settle_dt.add_tenor(\"4Y\")\n",
    "\n",
    "swap_fixed_cpn = 0.060\n",
    "swapFixedFrequencyType = FrequencyTypes.SEMI_ANNUAL\n",
    "swapFixedDayCountType = DayCountTypes.ACT_365F\n",
    "swap_type = SwapTypes.PAY"
   ]
  },
  {
   "cell_type": "code",
   "execution_count": 6,
   "metadata": {
    "execution": {
     "iopub.execute_input": "2025-09-14T22:25:45.830029Z",
     "iopub.status.busy": "2025-09-14T22:25:45.829914Z",
     "iopub.status.idle": "2025-09-14T22:25:45.834627Z",
     "shell.execute_reply": "2025-09-14T22:25:45.833981Z"
    }
   },
   "outputs": [
    {
     "data": {
      "text/plain": [
       "01-JAN-2012"
      ]
     },
     "execution_count": 6,
     "metadata": {},
     "output_type": "execute_result"
    }
   ],
   "source": [
    "exercise_dt"
   ]
  },
  {
   "cell_type": "code",
   "execution_count": 7,
   "metadata": {
    "execution": {
     "iopub.execute_input": "2025-09-14T22:25:45.835646Z",
     "iopub.status.busy": "2025-09-14T22:25:45.835525Z",
     "iopub.status.idle": "2025-09-14T22:25:45.838264Z",
     "shell.execute_reply": "2025-09-14T22:25:45.837978Z"
    }
   },
   "outputs": [
    {
     "data": {
      "text/plain": [
       "01-JAN-2015"
      ]
     },
     "execution_count": 7,
     "metadata": {},
     "output_type": "execute_result"
    }
   ],
   "source": [
    "swap_maturity_dt"
   ]
  },
  {
   "cell_type": "code",
   "execution_count": 8,
   "metadata": {
    "execution": {
     "iopub.execute_input": "2025-09-14T22:25:45.839234Z",
     "iopub.status.busy": "2025-09-14T22:25:45.839121Z",
     "iopub.status.idle": "2025-09-14T22:25:45.841329Z",
     "shell.execute_reply": "2025-09-14T22:25:45.840984Z"
    }
   },
   "outputs": [],
   "source": [
    "swaptionPay = IborSwaption(settle_dt,\n",
    "                               exercise_dt,\n",
    "                               swap_maturity_dt,\n",
    "                               SwapTypes.PAY ,\n",
    "                               swap_fixed_cpn,\n",
    "                               swapFixedFrequencyType,\n",
    "                               swapFixedDayCountType)"
   ]
  },
  {
   "cell_type": "code",
   "execution_count": 9,
   "metadata": {
    "execution": {
     "iopub.execute_input": "2025-09-14T22:25:45.842269Z",
     "iopub.status.busy": "2025-09-14T22:25:45.842156Z",
     "iopub.status.idle": "2025-09-14T22:25:45.844297Z",
     "shell.execute_reply": "2025-09-14T22:25:45.843989Z"
    }
   },
   "outputs": [],
   "source": [
    "swaptionRec = IborSwaption(settle_dt,\n",
    "                               exercise_dt,\n",
    "                               swap_maturity_dt,\n",
    "                               SwapTypes.RECEIVE,\n",
    "                               swap_fixed_cpn,\n",
    "                               swapFixedFrequencyType,\n",
    "                               swapFixedDayCountType)"
   ]
  },
  {
   "cell_type": "markdown",
   "metadata": {},
   "source": [
    "## Valuation using Black's Model"
   ]
  },
  {
   "cell_type": "markdown",
   "metadata": {},
   "source": [
    "Let's try the zero volatility limit first"
   ]
  },
  {
   "cell_type": "code",
   "execution_count": 10,
   "metadata": {
    "execution": {
     "iopub.execute_input": "2025-09-14T22:25:45.845283Z",
     "iopub.status.busy": "2025-09-14T22:25:45.845173Z",
     "iopub.status.idle": "2025-09-14T22:25:45.847432Z",
     "shell.execute_reply": "2025-09-14T22:25:45.847154Z"
    }
   },
   "outputs": [],
   "source": [
    "model = Black(0.00001)"
   ]
  },
  {
   "cell_type": "code",
   "execution_count": 11,
   "metadata": {
    "execution": {
     "iopub.execute_input": "2025-09-14T22:25:45.848407Z",
     "iopub.status.busy": "2025-09-14T22:25:45.848295Z",
     "iopub.status.idle": "2025-09-14T22:25:45.853545Z",
     "shell.execute_reply": "2025-09-14T22:25:45.853240Z"
    },
    "tags": []
   },
   "outputs": [
    {
     "name": "stdout",
     "output_type": "stream",
     "text": [
      "PAY Value: 6213.23722\n",
      "Recvr Value:   0.00000\n",
      "PayV - RecV: 6213.23722\n"
     ]
    }
   ],
   "source": [
    "value_pay = swaptionPay.value(settle_dt, libor_curve, model)\n",
    "value_rec = swaptionRec.value(settle_dt, libor_curve, model)\n",
    "valuePayRec = value_pay - value_rec\n",
    "print(\"PAY Value: %9.5f\"% value_pay)\n",
    "print(\"Recvr Value: %9.5f\"% value_rec)\n",
    "print(\"PayV - RecV: %9.5f\"% valuePayRec)"
   ]
  },
  {
   "cell_type": "markdown",
   "metadata": {},
   "source": [
    "We can value the forward starting swap."
   ]
  },
  {
   "cell_type": "code",
   "execution_count": 12,
   "metadata": {
    "execution": {
     "iopub.execute_input": "2025-09-14T22:25:45.854474Z",
     "iopub.status.busy": "2025-09-14T22:25:45.854364Z",
     "iopub.status.idle": "2025-09-14T22:25:45.856453Z",
     "shell.execute_reply": "2025-09-14T22:25:45.856139Z"
    }
   },
   "outputs": [],
   "source": [
    "swap = IborSwap(exercise_dt,\n",
    "                    swap_maturity_dt,\n",
    "                    swap_type,\n",
    "                    swap_fixed_cpn,\n",
    "                    swapFixedFrequencyType,\n",
    "                    swapFixedDayCountType)"
   ]
  },
  {
   "cell_type": "code",
   "execution_count": 13,
   "metadata": {
    "execution": {
     "iopub.execute_input": "2025-09-14T22:25:45.857927Z",
     "iopub.status.busy": "2025-09-14T22:25:45.857804Z",
     "iopub.status.idle": "2025-09-14T22:25:45.860386Z",
     "shell.execute_reply": "2025-09-14T22:25:45.860138Z"
    }
   },
   "outputs": [
    {
     "name": "stdout",
     "output_type": "stream",
     "text": [
      "Swap Value: 6213.23722\n"
     ]
    }
   ],
   "source": [
    "swapValue = swap.value(settle_dt, libor_curve, libor_curve)\n",
    "print(\"Swap Value: %9.5f\"% swapValue)"
   ]
  },
  {
   "cell_type": "markdown",
   "metadata": {},
   "source": [
    "At zero volatility the PAY swaption is in the money and is just a forward starting swap so this makes sense."
   ]
  },
  {
   "cell_type": "markdown",
   "metadata": {},
   "source": [
    "Let's repeat with a non-zero volatility"
   ]
  },
  {
   "cell_type": "code",
   "execution_count": 14,
   "metadata": {
    "execution": {
     "iopub.execute_input": "2025-09-14T22:25:45.861365Z",
     "iopub.status.busy": "2025-09-14T22:25:45.861250Z",
     "iopub.status.idle": "2025-09-14T22:25:45.863422Z",
     "shell.execute_reply": "2025-09-14T22:25:45.863163Z"
    }
   },
   "outputs": [],
   "source": [
    "model = Black(0.20)"
   ]
  },
  {
   "cell_type": "code",
   "execution_count": 15,
   "metadata": {
    "execution": {
     "iopub.execute_input": "2025-09-14T22:25:45.864324Z",
     "iopub.status.busy": "2025-09-14T22:25:45.864215Z",
     "iopub.status.idle": "2025-09-14T22:25:45.867376Z",
     "shell.execute_reply": "2025-09-14T22:25:45.867111Z"
    },
    "tags": []
   },
   "outputs": [
    {
     "name": "stdout",
     "output_type": "stream",
     "text": [
      "PAY Value: 15733.85138\n",
      "Recvr Value: 9520.61416\n",
      "PayV - RecV: 6213.23722\n"
     ]
    }
   ],
   "source": [
    "value_pay = swaptionPay.value(settle_dt, libor_curve, model)\n",
    "value_rec = swaptionRec.value(settle_dt, libor_curve, model)\n",
    "valuePayRec = value_pay - value_rec\n",
    "print(\"PAY Value: %9.5f\"% value_pay)\n",
    "print(\"Recvr Value: %9.5f\"% value_rec)\n",
    "print(\"PayV - RecV: %9.5f\"% valuePayRec)"
   ]
  },
  {
   "cell_type": "markdown",
   "metadata": {},
   "source": [
    "The swaption values have changed. Put call parity keeps the difference equal to the value of the forward starting swap."
   ]
  },
  {
   "cell_type": "markdown",
   "metadata": {},
   "source": [
    "We can also value the European option using other models. Let's try Black-Karasinski."
   ]
  },
  {
   "cell_type": "markdown",
   "metadata": {},
   "source": [
    "## Valuation using Shifted Black Model"
   ]
  },
  {
   "cell_type": "code",
   "execution_count": 16,
   "metadata": {
    "execution": {
     "iopub.execute_input": "2025-09-14T22:25:45.868380Z",
     "iopub.status.busy": "2025-09-14T22:25:45.868268Z",
     "iopub.status.idle": "2025-09-14T22:25:45.870339Z",
     "shell.execute_reply": "2025-09-14T22:25:45.870112Z"
    }
   },
   "outputs": [],
   "source": [
    "model = BlackShifted(0.00001, 0.002)"
   ]
  },
  {
   "cell_type": "code",
   "execution_count": 17,
   "metadata": {
    "execution": {
     "iopub.execute_input": "2025-09-14T22:25:45.871859Z",
     "iopub.status.busy": "2025-09-14T22:25:45.871579Z",
     "iopub.status.idle": "2025-09-14T22:25:45.874953Z",
     "shell.execute_reply": "2025-09-14T22:25:45.874653Z"
    }
   },
   "outputs": [
    {
     "name": "stdout",
     "output_type": "stream",
     "text": [
      "PAY Value: 6213.23722\n",
      "Recvr Value:   0.00000\n",
      "PayV - RecV: 6213.23722\n"
     ]
    }
   ],
   "source": [
    "value_pay = swaptionPay.value(settle_dt, libor_curve, model)\n",
    "value_rec = swaptionRec.value(settle_dt, libor_curve, model)\n",
    "valuePayRec = value_pay - value_rec\n",
    "print(\"PAY Value: %9.5f\"% value_pay)\n",
    "print(\"Recvr Value: %9.5f\"% value_rec)\n",
    "print(\"PayV - RecV: %9.5f\"% valuePayRec)"
   ]
  },
  {
   "cell_type": "code",
   "execution_count": 18,
   "metadata": {
    "execution": {
     "iopub.execute_input": "2025-09-14T22:25:45.875921Z",
     "iopub.status.busy": "2025-09-14T22:25:45.875807Z",
     "iopub.status.idle": "2025-09-14T22:25:45.878007Z",
     "shell.execute_reply": "2025-09-14T22:25:45.877766Z"
    }
   },
   "outputs": [],
   "source": [
    "model = BlackShifted(0.20, 0.002)"
   ]
  },
  {
   "cell_type": "code",
   "execution_count": 19,
   "metadata": {
    "execution": {
     "iopub.execute_input": "2025-09-14T22:25:45.878897Z",
     "iopub.status.busy": "2025-09-14T22:25:45.878789Z",
     "iopub.status.idle": "2025-09-14T22:25:45.881827Z",
     "shell.execute_reply": "2025-09-14T22:25:45.881599Z"
    }
   },
   "outputs": [
    {
     "name": "stdout",
     "output_type": "stream",
     "text": [
      "PAY Value: 16130.59707\n",
      "Recvr Value: 9917.35986\n",
      "PayV - RecV: 6213.23722\n"
     ]
    }
   ],
   "source": [
    "value_pay = swaptionPay.value(settle_dt, libor_curve, model)\n",
    "value_rec = swaptionRec.value(settle_dt, libor_curve, model)\n",
    "valuePayRec = value_pay - value_rec\n",
    "print(\"PAY Value: %9.5f\"% value_pay)\n",
    "print(\"Recvr Value: %9.5f\"% value_rec)\n",
    "print(\"PayV - RecV: %9.5f\"% valuePayRec)"
   ]
  },
  {
   "cell_type": "markdown",
   "metadata": {},
   "source": [
    "Once again the model satisfies put-call parity."
   ]
  },
  {
   "cell_type": "markdown",
   "metadata": {},
   "source": [
    "## Valuation using Black-Karasinski"
   ]
  },
  {
   "cell_type": "markdown",
   "metadata": {},
   "source": [
    "Start with the zero volatility limit"
   ]
  },
  {
   "cell_type": "code",
   "execution_count": 20,
   "metadata": {
    "execution": {
     "iopub.execute_input": "2025-09-14T22:25:45.882767Z",
     "iopub.status.busy": "2025-09-14T22:25:45.882653Z",
     "iopub.status.idle": "2025-09-14T22:25:45.884909Z",
     "shell.execute_reply": "2025-09-14T22:25:45.884609Z"
    }
   },
   "outputs": [],
   "source": [
    "sigma = 0.000001\n",
    "a = 0.01\n",
    "num_time_steps = 200\n",
    "model = BKTree(sigma, a, num_time_steps)"
   ]
  },
  {
   "cell_type": "code",
   "execution_count": 21,
   "metadata": {
    "execution": {
     "iopub.execute_input": "2025-09-14T22:25:45.885915Z",
     "iopub.status.busy": "2025-09-14T22:25:45.885774Z",
     "iopub.status.idle": "2025-09-14T22:25:45.929748Z",
     "shell.execute_reply": "2025-09-14T22:25:45.929415Z"
    },
    "tags": []
   },
   "outputs": [
    {
     "name": "stdout",
     "output_type": "stream",
     "text": [
      "PAY Value: 6347.52035\n",
      "Recvr Value:   0.00000\n",
      "PayV - RecV: 6347.52035\n"
     ]
    }
   ],
   "source": [
    "value_pay = swaptionPay.value(settle_dt, libor_curve, model)\n",
    "value_rec = swaptionRec.value(settle_dt, libor_curve, model)\n",
    "valuePayRec = value_pay - value_rec\n",
    "print(\"PAY Value: %9.5f\"% value_pay)\n",
    "print(\"Recvr Value: %9.5f\"% value_rec)\n",
    "print(\"PayV - RecV: %9.5f\"% valuePayRec)"
   ]
  },
  {
   "cell_type": "markdown",
   "metadata": {},
   "source": [
    "Only the PAY swaption is in the money and is worth the forward starting swap."
   ]
  },
  {
   "cell_type": "code",
   "execution_count": 22,
   "metadata": {
    "execution": {
     "iopub.execute_input": "2025-09-14T22:25:45.931219Z",
     "iopub.status.busy": "2025-09-14T22:25:45.931076Z",
     "iopub.status.idle": "2025-09-14T22:25:45.933721Z",
     "shell.execute_reply": "2025-09-14T22:25:45.933412Z"
    }
   },
   "outputs": [],
   "source": [
    "sigma = 0.20\n",
    "a = 0.01\n",
    "num_time_steps = 200\n",
    "model = BKTree(sigma, a, num_time_steps)"
   ]
  },
  {
   "cell_type": "code",
   "execution_count": 23,
   "metadata": {
    "execution": {
     "iopub.execute_input": "2025-09-14T22:25:45.934813Z",
     "iopub.status.busy": "2025-09-14T22:25:45.934691Z",
     "iopub.status.idle": "2025-09-14T22:25:45.942994Z",
     "shell.execute_reply": "2025-09-14T22:25:45.942628Z"
    },
    "tags": []
   },
   "outputs": [
    {
     "name": "stdout",
     "output_type": "stream",
     "text": [
      "PAY Value: 15727.42906\n",
      "Recvr Value: 9379.90877\n",
      "PayV - RecV: 6347.52029\n"
     ]
    }
   ],
   "source": [
    "value_pay = swaptionPay.value(settle_dt, libor_curve, model)\n",
    "value_rec = swaptionRec.value(settle_dt, libor_curve, model)\n",
    "valuePayRec = value_pay - value_rec\n",
    "print(\"PAY Value: %9.5f\"% value_pay)\n",
    "print(\"Recvr Value: %9.5f\"% value_rec)\n",
    "print(\"PayV - RecV: %9.5f\"% valuePayRec)"
   ]
  },
  {
   "cell_type": "markdown",
   "metadata": {},
   "source": [
    "At 20% volatility the values are higher but put-call parity is obeyed."
   ]
  },
  {
   "cell_type": "markdown",
   "metadata": {},
   "source": [
    "## Valuation using Black-Derman-Toy"
   ]
  },
  {
   "cell_type": "markdown",
   "metadata": {},
   "source": [
    "Check the zero volatility limit"
   ]
  },
  {
   "cell_type": "code",
   "execution_count": 24,
   "metadata": {
    "execution": {
     "iopub.execute_input": "2025-09-14T22:25:45.944462Z",
     "iopub.status.busy": "2025-09-14T22:25:45.944314Z",
     "iopub.status.idle": "2025-09-14T22:25:45.947289Z",
     "shell.execute_reply": "2025-09-14T22:25:45.946894Z"
    }
   },
   "outputs": [],
   "source": [
    "sigma = 0.00001\n",
    "num_time_steps = 200\n",
    "model = BDTTree(sigma, num_time_steps)"
   ]
  },
  {
   "cell_type": "code",
   "execution_count": 25,
   "metadata": {
    "execution": {
     "iopub.execute_input": "2025-09-14T22:25:45.948480Z",
     "iopub.status.busy": "2025-09-14T22:25:45.948357Z",
     "iopub.status.idle": "2025-09-14T22:25:45.987787Z",
     "shell.execute_reply": "2025-09-14T22:25:45.987050Z"
    },
    "tags": []
   },
   "outputs": [
    {
     "name": "stdout",
     "output_type": "stream",
     "text": [
      "PAY Value: 6347.28920\n",
      "Recvr Value:   0.00000\n",
      "PayV - RecV: 6347.28920\n"
     ]
    }
   ],
   "source": [
    "value_pay = swaptionPay.value(settle_dt, libor_curve, model)\n",
    "value_rec = swaptionRec.value(settle_dt, libor_curve, model)\n",
    "valuePayRec = value_pay - value_rec\n",
    "print(\"PAY Value: %9.5f\"% value_pay)\n",
    "print(\"Recvr Value: %9.5f\"% value_rec)\n",
    "print(\"PayV - RecV: %9.5f\"% valuePayRec)"
   ]
  },
  {
   "cell_type": "markdown",
   "metadata": {},
   "source": [
    "Same result as before."
   ]
  },
  {
   "cell_type": "code",
   "execution_count": 26,
   "metadata": {
    "execution": {
     "iopub.execute_input": "2025-09-14T22:25:45.990109Z",
     "iopub.status.busy": "2025-09-14T22:25:45.989843Z",
     "iopub.status.idle": "2025-09-14T22:25:45.993354Z",
     "shell.execute_reply": "2025-09-14T22:25:45.993025Z"
    }
   },
   "outputs": [],
   "source": [
    "sigma = 0.20\n",
    "num_time_steps = 200\n",
    "model = BDTTree(sigma, num_time_steps)"
   ]
  },
  {
   "cell_type": "code",
   "execution_count": 27,
   "metadata": {
    "execution": {
     "iopub.execute_input": "2025-09-14T22:25:45.994428Z",
     "iopub.status.busy": "2025-09-14T22:25:45.994316Z",
     "iopub.status.idle": "2025-09-14T22:25:46.000321Z",
     "shell.execute_reply": "2025-09-14T22:25:45.999998Z"
    },
    "tags": []
   },
   "outputs": [
    {
     "name": "stdout",
     "output_type": "stream",
     "text": [
      "PAY Value: 15990.91739\n",
      "Recvr Value: 9639.93743\n",
      "PayV - RecV: 6350.97996\n"
     ]
    }
   ],
   "source": [
    "value_pay = swaptionPay.value(settle_dt, libor_curve, model)\n",
    "value_rec = swaptionRec.value(settle_dt, libor_curve, model)\n",
    "valuePayRec = value_pay - value_rec\n",
    "print(\"PAY Value: %9.5f\"% value_pay)\n",
    "print(\"Recvr Value: %9.5f\"% value_rec)\n",
    "print(\"PayV - RecV: %9.5f\"% valuePayRec)"
   ]
  },
  {
   "cell_type": "markdown",
   "metadata": {},
   "source": [
    "At 20% volatility the values are higher but put-call parity is obeyed."
   ]
  },
  {
   "cell_type": "markdown",
   "metadata": {},
   "source": [
    "## Valuation using Hull-White Model"
   ]
  },
  {
   "cell_type": "markdown",
   "metadata": {},
   "source": [
    "We do the zero volatility limit first."
   ]
  },
  {
   "cell_type": "code",
   "execution_count": 28,
   "metadata": {
    "execution": {
     "iopub.execute_input": "2025-09-14T22:25:46.001418Z",
     "iopub.status.busy": "2025-09-14T22:25:46.001287Z",
     "iopub.status.idle": "2025-09-14T22:25:46.003207Z",
     "shell.execute_reply": "2025-09-14T22:25:46.002980Z"
    }
   },
   "outputs": [],
   "source": [
    "sigma = 0.0000001\n",
    "a = 0.01\n",
    "num_time_steps = 200\n",
    "model = HWTree(sigma, a)"
   ]
  },
  {
   "cell_type": "markdown",
   "metadata": {},
   "source": [
    "This is analytical as it uses Jamshidians method."
   ]
  },
  {
   "cell_type": "code",
   "execution_count": 29,
   "metadata": {
    "execution": {
     "iopub.execute_input": "2025-09-14T22:25:46.004213Z",
     "iopub.status.busy": "2025-09-14T22:25:46.004097Z",
     "iopub.status.idle": "2025-09-14T22:25:46.024543Z",
     "shell.execute_reply": "2025-09-14T22:25:46.024014Z"
    },
    "tags": []
   },
   "outputs": [
    {
     "name": "stdout",
     "output_type": "stream",
     "text": [
      "PAY Value: 6348.45763\n",
      "Recvr Value:   0.00000\n",
      "PayV - RecV: 6348.45763\n"
     ]
    }
   ],
   "source": [
    "value_pay = swaptionPay.value(settle_dt, libor_curve, model)\n",
    "value_rec = swaptionRec.value(settle_dt, libor_curve, model)\n",
    "valuePayRec = value_pay - value_rec\n",
    "print(\"PAY Value: %9.5f\"% value_pay)\n",
    "print(\"Recvr Value: %9.5f\"% value_rec)\n",
    "print(\"PayV - RecV: %9.5f\"% valuePayRec)"
   ]
  },
  {
   "cell_type": "markdown",
   "metadata": {},
   "source": [
    "This is as expected."
   ]
  },
  {
   "cell_type": "code",
   "execution_count": 30,
   "metadata": {
    "execution": {
     "iopub.execute_input": "2025-09-14T22:25:46.025808Z",
     "iopub.status.busy": "2025-09-14T22:25:46.025688Z",
     "iopub.status.idle": "2025-09-14T22:25:46.027809Z",
     "shell.execute_reply": "2025-09-14T22:25:46.027594Z"
    }
   },
   "outputs": [],
   "source": [
    "sigma = 0.01\n",
    "a = 0.01\n",
    "num_time_steps = 200\n",
    "model = HWTree(sigma, a)"
   ]
  },
  {
   "cell_type": "code",
   "execution_count": 31,
   "metadata": {
    "execution": {
     "iopub.execute_input": "2025-09-14T22:25:46.028830Z",
     "iopub.status.busy": "2025-09-14T22:25:46.028721Z",
     "iopub.status.idle": "2025-09-14T22:25:46.032438Z",
     "shell.execute_reply": "2025-09-14T22:25:46.032115Z"
    },
    "tags": []
   },
   "outputs": [
    {
     "name": "stdout",
     "output_type": "stream",
     "text": [
      "PAY Value: 13721.09708\n",
      "Recvr Value: 7372.76925\n",
      "PayV - RecV: 6348.32782\n"
     ]
    }
   ],
   "source": [
    "value_pay = swaptionPay.value(settle_dt, libor_curve, model)\n",
    "value_rec = swaptionRec.value(settle_dt, libor_curve, model)\n",
    "valuePayRec = value_pay - value_rec\n",
    "print(\"PAY Value: %9.5f\"% value_pay)\n",
    "print(\"Recvr Value: %9.5f\"% value_rec)\n",
    "print(\"PayV - RecV: %9.5f\"% valuePayRec)"
   ]
  },
  {
   "cell_type": "markdown",
   "metadata": {},
   "source": [
    "Once again put-call parity is obeyed."
   ]
  },
  {
   "cell_type": "markdown",
   "metadata": {},
   "source": [
    "# Tree Convergence Testing"
   ]
  },
  {
   "cell_type": "markdown",
   "metadata": {},
   "source": [
    "## BK Model"
   ]
  },
  {
   "cell_type": "code",
   "execution_count": 32,
   "metadata": {
    "execution": {
     "iopub.execute_input": "2025-09-14T22:25:46.033563Z",
     "iopub.status.busy": "2025-09-14T22:25:46.033446Z",
     "iopub.status.idle": "2025-09-14T22:25:48.038150Z",
     "shell.execute_reply": "2025-09-14T22:25:48.037604Z"
    }
   },
   "outputs": [
    {
     "data": {
      "image/png": "[encoded data removed]",
      "text/plain": [
       "<Figure size 640x480 with 1 Axes>"
      ]
     },
     "metadata": {},
     "output_type": "display_data"
    }
   ],
   "source": [
    "sigma = 0.2012\n",
    "a = 0.04\n",
    "\n",
    "time_steps = range(100,500,1)\n",
    "values = []\n",
    "for num_time_steps in time_steps:\n",
    "    model = BKTree(sigma, a, num_time_steps)\n",
    "    v = swaptionPay.value(value_dt, libor_curve, model)\n",
    "    values.append(v)\n",
    "\n",
    "plt.plot(time_steps, values);"
   ]
  },
  {
   "cell_type": "markdown",
   "metadata": {},
   "source": [
    "Averaging even and odd values will improve convergence."
   ]
  },
  {
   "cell_type": "markdown",
   "metadata": {},
   "source": [
    "## BDT Model"
   ]
  },
  {
   "cell_type": "code",
   "execution_count": 33,
   "metadata": {
    "execution": {
     "iopub.execute_input": "2025-09-14T22:25:48.039630Z",
     "iopub.status.busy": "2025-09-14T22:25:48.039491Z",
     "iopub.status.idle": "2025-09-14T22:25:49.432401Z",
     "shell.execute_reply": "2025-09-14T22:25:49.432078Z"
    }
   },
   "outputs": [
    {
     "data": {
      "image/png": "[encoded data removed]",
      "text/plain": [
       "<Figure size 640x480 with 1 Axes>"
      ]
     },
     "metadata": {},
     "output_type": "display_data"
    }
   ],
   "source": [
    "sigma = 0.2012\n",
    "\n",
    "time_steps = range(100,500,1)\n",
    "values = []\n",
    "for num_time_steps in time_steps:\n",
    "    model = BDTTree(sigma, num_time_steps)\n",
    "    v = swaptionPay.value(settle_dt, libor_curve, model)\n",
    "    values.append(v)\n",
    "\n",
    "plt.plot(time_steps, values);"
   ]
  },
  {
   "cell_type": "markdown",
   "metadata": {},
   "source": [
    "Averaging even and odd values will improve convergence."
   ]
  },
  {
   "cell_type": "markdown",
   "metadata": {},
   "source": [
    "Copyright (c) 2020 Dominic O'Kane"
   ]
  }
 ],
 "metadata": {
  "kernelspec": {
   "display_name": "base",
   "language": "python",
   "name": "python3"
  },
  "language_info": {
   "codemirror_mode": {
    "name": "ipython",
    "version": 3
   },
   "file_extension": ".py",
   "mimetype": "text/x-python",
   "name": "python",
   "nbconvert_exporter": "python",
   "pygments_lexer": "ipython3",
   "version": "3.13.7"
  }
 },
 "nbformat": 4,
 "nbformat_minor": 2
}
