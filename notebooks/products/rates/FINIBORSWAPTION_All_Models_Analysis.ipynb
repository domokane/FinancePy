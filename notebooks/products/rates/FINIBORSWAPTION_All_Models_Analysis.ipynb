{
    "cells": [
        {
            "cell_type": "markdown",
            "metadata": {},
            "source": [
                "# European Swaption Pricing - All Models"
            ]
        },
        {
            "cell_type": "markdown",
            "metadata": {},
            "source": [
                "Value a European Swaption using the Hull-White, Black-Derman-Toy and Black-Karasinski models. I analyse relationships to test the model pricing."
            ]
        },
        {
            "cell_type": "code",
            "execution_count": 1,
            "metadata": {
                "execution": {
                    "iopub.execute_input": "2024-04-30T20:33:34.676313Z",
                    "iopub.status.busy": "2024-04-30T20:33:34.674856Z",
                    "iopub.status.idle": "2024-04-30T20:33:35.284241Z",
                    "shell.execute_reply": "2024-04-30T20:33:35.284241Z"
                }
            },
            "outputs": [],
            "source": [
                "import numpy as np\n",
                "import matplotlib.pyplot as plt"
            ]
        },
        {
            "cell_type": "code",
            "execution_count": 2,
            "metadata": {
                "execution": {
                    "iopub.execute_input": "2024-04-30T20:33:35.286888Z",
                    "iopub.status.busy": "2024-04-30T20:33:35.286888Z",
                    "iopub.status.idle": "2024-04-30T20:33:36.700094Z",
                    "shell.execute_reply": "2024-04-30T20:33:36.700094Z"
                },
                "tags": []
            },
            "outputs": [
                {
                    "name": "stdout",
                    "output_type": "stream",
                    "text": [
                        "####################################################################\n",
                        "#  FINANCEPY BETA Version 0.350 - This build: 30 Apr 2024 at 22:32 #\n",
                        "#     This software is distributed FREE AND WITHOUT ANY WARRANTY   #\n",
                        "#  Report bugs as issues at https://github.com/domokane/FinancePy  #\n",
                        "####################################################################\n",
                        "\n"
                    ]
                }
            ],
            "source": [
                "from financepy.utils import *\n",
                "from financepy.products.rates import *\n",
                "from financepy.market.curves import *\n",
                "from financepy.models.hw_tree import HWTree\n",
                "from financepy.models.bk_tree import BKTree\n",
                "from financepy.models.bdt_tree import BDTTree"
            ]
        },
        {
            "cell_type": "markdown",
            "metadata": {},
            "source": [
                "## Discount Curve"
            ]
        },
        {
            "cell_type": "code",
            "execution_count": 3,
            "metadata": {
                "execution": {
                    "iopub.execute_input": "2024-04-30T20:33:36.703120Z",
                    "iopub.status.busy": "2024-04-30T20:33:36.703120Z",
                    "iopub.status.idle": "2024-04-30T20:33:36.722511Z",
                    "shell.execute_reply": "2024-04-30T20:33:36.722511Z"
                }
            },
            "outputs": [],
            "source": [
                "value_dt = Date(1, 1, 2011)\n",
                "settle_dt = value_dt"
            ]
        },
        {
            "cell_type": "markdown",
            "metadata": {},
            "source": [
                "Set up flat discount curve at 6% (semi-annual compounding)"
            ]
        },
        {
            "cell_type": "code",
            "execution_count": 4,
            "metadata": {
                "execution": {
                    "iopub.execute_input": "2024-04-30T20:33:36.725534Z",
                    "iopub.status.busy": "2024-04-30T20:33:36.724538Z",
                    "iopub.status.idle": "2024-04-30T20:33:36.733579Z",
                    "shell.execute_reply": "2024-04-30T20:33:36.733579Z"
                }
            },
            "outputs": [],
            "source": [
                "libor_curve = DiscountCurveFlat(value_dt, 0.0625, FrequencyTypes.SEMI_ANNUAL)"
            ]
        },
        {
            "cell_type": "markdown",
            "metadata": {},
            "source": [
                "# Defining the Swaptions"
            ]
        },
        {
            "cell_type": "markdown",
            "metadata": {},
            "source": [
                "We begin with European swaptions. European swaptions can be set up directly as European Swaptions or as Bermudan swaptions with an exercise type of EUROPEAN"
            ]
        },
        {
            "cell_type": "code",
            "execution_count": 5,
            "metadata": {
                "execution": {
                    "iopub.execute_input": "2024-04-30T20:33:36.735626Z",
                    "iopub.status.busy": "2024-04-30T20:33:36.735626Z",
                    "iopub.status.idle": "2024-04-30T20:33:36.739258Z",
                    "shell.execute_reply": "2024-04-30T20:33:36.739258Z"
                }
            },
            "outputs": [],
            "source": [
                "exercise_dt = settle_dt.add_tenor(\"1Y\")\n",
                "swap_maturity_dt = settle_dt.add_tenor(\"4Y\")\n",
                "\n",
                "swap_fixed_cpn = 0.060\n",
                "swapFixedFrequencyType = FrequencyTypes.SEMI_ANNUAL\n",
                "swapFixedDayCountType = DayCountTypes.ACT_365F\n",
                "swap_type = SwapTypes.PAY "
            ]
        },
        {
            "cell_type": "code",
            "execution_count": 6,
            "metadata": {
                "execution": {
                    "iopub.execute_input": "2024-04-30T20:33:36.741287Z",
                    "iopub.status.busy": "2024-04-30T20:33:36.741287Z",
                    "iopub.status.idle": "2024-04-30T20:33:36.747615Z",
                    "shell.execute_reply": "2024-04-30T20:33:36.747615Z"
                }
            },
            "outputs": [
                {
                    "data": {
                        "text/plain": [
                            "01-JAN-2012"
                        ]
                    },
                    "execution_count": 6,
                    "metadata": {},
                    "output_type": "execute_result"
                }
            ],
            "source": [
                "exercise_dt"
            ]
        },
        {
            "cell_type": "code",
            "execution_count": 7,
            "metadata": {
                "execution": {
                    "iopub.execute_input": "2024-04-30T20:33:36.750150Z",
                    "iopub.status.busy": "2024-04-30T20:33:36.750150Z",
                    "iopub.status.idle": "2024-04-30T20:33:36.753334Z",
                    "shell.execute_reply": "2024-04-30T20:33:36.753334Z"
                }
            },
            "outputs": [
                {
                    "data": {
                        "text/plain": [
                            "01-JAN-2015"
                        ]
                    },
                    "execution_count": 7,
                    "metadata": {},
                    "output_type": "execute_result"
                }
            ],
            "source": [
                "swap_maturity_dt"
            ]
        },
        {
            "cell_type": "code",
            "execution_count": 8,
            "metadata": {
                "execution": {
                    "iopub.execute_input": "2024-04-30T20:33:36.755339Z",
                    "iopub.status.busy": "2024-04-30T20:33:36.755339Z",
                    "iopub.status.idle": "2024-04-30T20:33:36.758999Z",
                    "shell.execute_reply": "2024-04-30T20:33:36.758999Z"
                }
            },
            "outputs": [],
            "source": [
                "swaptionPay = IborSwaption(settle_dt,\n",
                "                               exercise_dt,\n",
                "                               swap_maturity_dt,\n",
                "                               SwapTypes.PAY ,\n",
                "                               swap_fixed_cpn,\n",
                "                               swapFixedFrequencyType,\n",
                "                               swapFixedDayCountType)"
            ]
        },
        {
            "cell_type": "code",
            "execution_count": 9,
            "metadata": {
                "execution": {
                    "iopub.execute_input": "2024-04-30T20:33:36.761994Z",
                    "iopub.status.busy": "2024-04-30T20:33:36.761994Z",
                    "iopub.status.idle": "2024-04-30T20:33:36.765044Z",
                    "shell.execute_reply": "2024-04-30T20:33:36.765044Z"
                }
            },
            "outputs": [],
            "source": [
                "swaptionRec = IborSwaption(settle_dt,\n",
                "                               exercise_dt,\n",
                "                               swap_maturity_dt,\n",
                "                               SwapTypes.RECEIVE,\n",
                "                               swap_fixed_cpn,\n",
                "                               swapFixedFrequencyType,\n",
                "                               swapFixedDayCountType)"
            ]
        },
        {
            "cell_type": "markdown",
            "metadata": {},
            "source": [
                "## Valuation using Black's Model"
            ]
        },
        {
            "cell_type": "markdown",
            "metadata": {},
            "source": [
                "Let's try the zero volatility limit first"
            ]
        },
        {
            "cell_type": "code",
            "execution_count": 10,
            "metadata": {
                "execution": {
                    "iopub.execute_input": "2024-04-30T20:33:36.768075Z",
                    "iopub.status.busy": "2024-04-30T20:33:36.768075Z",
                    "iopub.status.idle": "2024-04-30T20:33:36.770959Z",
                    "shell.execute_reply": "2024-04-30T20:33:36.770959Z"
                }
            },
            "outputs": [],
            "source": [
                "model = Black(0.00001)"
            ]
        },
        {
            "cell_type": "code",
            "execution_count": 11,
            "metadata": {
                "execution": {
                    "iopub.execute_input": "2024-04-30T20:33:36.772989Z",
                    "iopub.status.busy": "2024-04-30T20:33:36.772989Z",
                    "iopub.status.idle": "2024-04-30T20:33:36.779251Z",
                    "shell.execute_reply": "2024-04-30T20:33:36.778683Z"
                },
                "tags": []
            },
            "outputs": [
                {
                    "name": "stdout",
                    "output_type": "stream",
                    "text": [
                        "PAY Value: 6193.31147\n",
                        "Recvr Value:   0.00000\n",
                        "PayV - RecV: 6193.31147\n"
                    ]
                }
            ],
            "source": [
                "value_pay = swaptionPay.value(settle_dt, libor_curve, model)\n",
                "value_rec = swaptionRec.value(settle_dt, libor_curve, model)\n",
                "valuePayRec = value_pay - value_rec\n",
                "print(\"PAY Value: %9.5f\"% value_pay)\n",
                "print(\"Recvr Value: %9.5f\"% value_rec)\n",
                "print(\"PayV - RecV: %9.5f\"% valuePayRec)"
            ]
        },
        {
            "cell_type": "markdown",
            "metadata": {},
            "source": [
                "We can value the forward starting swap."
            ]
        },
        {
            "cell_type": "code",
            "execution_count": 12,
            "metadata": {
                "execution": {
                    "iopub.execute_input": "2024-04-30T20:33:36.781249Z",
                    "iopub.status.busy": "2024-04-30T20:33:36.781249Z",
                    "iopub.status.idle": "2024-04-30T20:33:36.784324Z",
                    "shell.execute_reply": "2024-04-30T20:33:36.784324Z"
                }
            },
            "outputs": [],
            "source": [
                "swap = IborSwap(exercise_dt,\n",
                "                    swap_maturity_dt,\n",
                "                    swap_type,\n",
                "                    swap_fixed_cpn,\n",
                "                    swapFixedFrequencyType,\n",
                "                    swapFixedDayCountType)"
            ]
        },
        {
            "cell_type": "code",
            "execution_count": 13,
            "metadata": {
                "execution": {
                    "iopub.execute_input": "2024-04-30T20:33:36.787374Z",
                    "iopub.status.busy": "2024-04-30T20:33:36.787374Z",
                    "iopub.status.idle": "2024-04-30T20:33:36.791730Z",
                    "shell.execute_reply": "2024-04-30T20:33:36.791496Z"
                }
            },
            "outputs": [
                {
                    "name": "stdout",
                    "output_type": "stream",
                    "text": [
                        "Swap Value: 6213.23722\n"
                    ]
                }
            ],
            "source": [
                "swapValue = swap.value(settle_dt, libor_curve, libor_curve)\n",
                "print(\"Swap Value: %9.5f\"% swapValue)"
            ]
        },
        {
            "cell_type": "markdown",
            "metadata": {},
            "source": [
                "At zero volatility the PAY swaption is in the money and is just a forward starting swap so this makes sense."
            ]
        },
        {
            "cell_type": "markdown",
            "metadata": {},
            "source": [
                "Let's repeat with a non-zero volatility"
            ]
        },
        {
            "cell_type": "code",
            "execution_count": 14,
            "metadata": {
                "execution": {
                    "iopub.execute_input": "2024-04-30T20:33:36.793757Z",
                    "iopub.status.busy": "2024-04-30T20:33:36.793757Z",
                    "iopub.status.idle": "2024-04-30T20:33:36.796702Z",
                    "shell.execute_reply": "2024-04-30T20:33:36.796470Z"
                }
            },
            "outputs": [],
            "source": [
                "model = Black(0.20)"
            ]
        },
        {
            "cell_type": "code",
            "execution_count": 15,
            "metadata": {
                "execution": {
                    "iopub.execute_input": "2024-04-30T20:33:36.798730Z",
                    "iopub.status.busy": "2024-04-30T20:33:36.798730Z",
                    "iopub.status.idle": "2024-04-30T20:33:36.803846Z",
                    "shell.execute_reply": "2024-04-30T20:33:36.803846Z"
                },
                "tags": []
            },
            "outputs": [
                {
                    "name": "stdout",
                    "output_type": "stream",
                    "text": [
                        "PAY Value: 15721.54222\n",
                        "Recvr Value: 9528.23076\n",
                        "PayV - RecV: 6193.31147\n"
                    ]
                }
            ],
            "source": [
                "value_pay = swaptionPay.value(settle_dt, libor_curve, model)\n",
                "value_rec = swaptionRec.value(settle_dt, libor_curve, model)\n",
                "valuePayRec = value_pay - value_rec\n",
                "print(\"PAY Value: %9.5f\"% value_pay)\n",
                "print(\"Recvr Value: %9.5f\"% value_rec)\n",
                "print(\"PayV - RecV: %9.5f\"% valuePayRec)"
            ]
        },
        {
            "cell_type": "markdown",
            "metadata": {},
            "source": [
                "The swaption values have changed. Put call parity keeps the difference equal to the value of the forward starting swap."
            ]
        },
        {
            "cell_type": "markdown",
            "metadata": {},
            "source": [
                "We can also value the European option using other models. Let's try Black-Karasinski."
            ]
        },
        {
            "cell_type": "markdown",
            "metadata": {},
            "source": [
                "## Valuation using Shifted Black Model"
            ]
        },
        {
            "cell_type": "code",
            "execution_count": 16,
            "metadata": {
                "execution": {
                    "iopub.execute_input": "2024-04-30T20:33:36.806848Z",
                    "iopub.status.busy": "2024-04-30T20:33:36.805848Z",
                    "iopub.status.idle": "2024-04-30T20:33:36.808980Z",
                    "shell.execute_reply": "2024-04-30T20:33:36.808980Z"
                }
            },
            "outputs": [],
            "source": [
                "model = BlackShifted(0.00001, 0.002)"
            ]
        },
        {
            "cell_type": "code",
            "execution_count": 17,
            "metadata": {
                "execution": {
                    "iopub.execute_input": "2024-04-30T20:33:36.811491Z",
                    "iopub.status.busy": "2024-04-30T20:33:36.811491Z",
                    "iopub.status.idle": "2024-04-30T20:33:36.816593Z",
                    "shell.execute_reply": "2024-04-30T20:33:36.816593Z"
                }
            },
            "outputs": [
                {
                    "name": "stdout",
                    "output_type": "stream",
                    "text": [
                        "PAY Value: 6193.31147\n",
                        "Recvr Value:   0.00000\n",
                        "PayV - RecV: 6193.31147\n"
                    ]
                }
            ],
            "source": [
                "value_pay = swaptionPay.value(settle_dt, libor_curve, model)\n",
                "value_rec = swaptionRec.value(settle_dt, libor_curve, model)\n",
                "valuePayRec = value_pay - value_rec\n",
                "print(\"PAY Value: %9.5f\"% value_pay)\n",
                "print(\"Recvr Value: %9.5f\"% value_rec)\n",
                "print(\"PayV - RecV: %9.5f\"% valuePayRec)"
            ]
        },
        {
            "cell_type": "code",
            "execution_count": 18,
            "metadata": {
                "execution": {
                    "iopub.execute_input": "2024-04-30T20:33:36.818623Z",
                    "iopub.status.busy": "2024-04-30T20:33:36.818623Z",
                    "iopub.status.idle": "2024-04-30T20:33:36.822319Z",
                    "shell.execute_reply": "2024-04-30T20:33:36.821695Z"
                }
            },
            "outputs": [],
            "source": [
                "model = BlackShifted(0.20, 0.002)"
            ]
        },
        {
            "cell_type": "code",
            "execution_count": 19,
            "metadata": {
                "execution": {
                    "iopub.execute_input": "2024-04-30T20:33:36.824316Z",
                    "iopub.status.busy": "2024-04-30T20:33:36.824316Z",
                    "iopub.status.idle": "2024-04-30T20:33:36.829225Z",
                    "shell.execute_reply": "2024-04-30T20:33:36.829225Z"
                }
            },
            "outputs": [
                {
                    "name": "stdout",
                    "output_type": "stream",
                    "text": [
                        "PAY Value: 16118.33597\n",
                        "Recvr Value: 9925.02451\n",
                        "PayV - RecV: 6193.31147\n"
                    ]
                }
            ],
            "source": [
                "value_pay = swaptionPay.value(settle_dt, libor_curve, model)\n",
                "value_rec = swaptionRec.value(settle_dt, libor_curve, model)\n",
                "valuePayRec = value_pay - value_rec\n",
                "print(\"PAY Value: %9.5f\"% value_pay)\n",
                "print(\"Recvr Value: %9.5f\"% value_rec)\n",
                "print(\"PayV - RecV: %9.5f\"% valuePayRec)"
            ]
        },
        {
            "cell_type": "markdown",
            "metadata": {},
            "source": [
                "Once again the model satisfies put-call parity."
            ]
        },
        {
            "cell_type": "markdown",
            "metadata": {},
            "source": [
                "## Valuation using Black-Karasinski"
            ]
        },
        {
            "cell_type": "markdown",
            "metadata": {},
            "source": [
                "Start with the zero volatility limit"
            ]
        },
        {
            "cell_type": "code",
            "execution_count": 20,
            "metadata": {
                "execution": {
                    "iopub.execute_input": "2024-04-30T20:33:36.831734Z",
                    "iopub.status.busy": "2024-04-30T20:33:36.831734Z",
                    "iopub.status.idle": "2024-04-30T20:33:36.834554Z",
                    "shell.execute_reply": "2024-04-30T20:33:36.834554Z"
                }
            },
            "outputs": [],
            "source": [
                "sigma = 0.000001\n",
                "a = 0.01\n",
                "num_time_steps = 200\n",
                "model = BKTree(sigma, a, num_time_steps)"
            ]
        },
        {
            "cell_type": "code",
            "execution_count": 21,
            "metadata": {
                "execution": {
                    "iopub.execute_input": "2024-04-30T20:33:36.836585Z",
                    "iopub.status.busy": "2024-04-30T20:33:36.836585Z",
                    "iopub.status.idle": "2024-04-30T20:33:40.145781Z",
                    "shell.execute_reply": "2024-04-30T20:33:40.145781Z"
                },
                "tags": []
            },
            "outputs": [
                {
                    "name": "stdout",
                    "output_type": "stream",
                    "text": [
                        "PAY Value: 6347.52035\n",
                        "Recvr Value:   0.00000\n",
                        "PayV - RecV: 6347.52035\n"
                    ]
                }
            ],
            "source": [
                "value_pay = swaptionPay.value(settle_dt, libor_curve, model)\n",
                "value_rec = swaptionRec.value(settle_dt, libor_curve, model)\n",
                "valuePayRec = value_pay - value_rec\n",
                "print(\"PAY Value: %9.5f\"% value_pay)\n",
                "print(\"Recvr Value: %9.5f\"% value_rec)\n",
                "print(\"PayV - RecV: %9.5f\"% valuePayRec)"
            ]
        },
        {
            "cell_type": "markdown",
            "metadata": {},
            "source": [
                "Only the PAY swaption is in the money and is worth the forward starting swap."
            ]
        },
        {
            "cell_type": "code",
            "execution_count": 22,
            "metadata": {
                "execution": {
                    "iopub.execute_input": "2024-04-30T20:33:40.148816Z",
                    "iopub.status.busy": "2024-04-30T20:33:40.147812Z",
                    "iopub.status.idle": "2024-04-30T20:33:40.151530Z",
                    "shell.execute_reply": "2024-04-30T20:33:40.151530Z"
                }
            },
            "outputs": [],
            "source": [
                "sigma = 0.20\n",
                "a = 0.01\n",
                "num_time_steps = 200\n",
                "model = BKTree(sigma, a, num_time_steps)"
            ]
        },
        {
            "cell_type": "code",
            "execution_count": 23,
            "metadata": {
                "execution": {
                    "iopub.execute_input": "2024-04-30T20:33:40.154132Z",
                    "iopub.status.busy": "2024-04-30T20:33:40.154132Z",
                    "iopub.status.idle": "2024-04-30T20:33:40.174267Z",
                    "shell.execute_reply": "2024-04-30T20:33:40.174267Z"
                },
                "tags": []
            },
            "outputs": [
                {
                    "name": "stdout",
                    "output_type": "stream",
                    "text": [
                        "PAY Value: 15727.42906\n",
                        "Recvr Value: 9379.90877\n",
                        "PayV - RecV: 6347.52029\n"
                    ]
                }
            ],
            "source": [
                "value_pay = swaptionPay.value(settle_dt, libor_curve, model)\n",
                "value_rec = swaptionRec.value(settle_dt, libor_curve, model)\n",
                "valuePayRec = value_pay - value_rec\n",
                "print(\"PAY Value: %9.5f\"% value_pay)\n",
                "print(\"Recvr Value: %9.5f\"% value_rec)\n",
                "print(\"PayV - RecV: %9.5f\"% valuePayRec)"
            ]
        },
        {
            "cell_type": "markdown",
            "metadata": {},
            "source": [
                "At 20% volatility the values are higher but put-call parity is obeyed."
            ]
        },
        {
            "cell_type": "markdown",
            "metadata": {},
            "source": [
                "## Valuation using Black-Derman-Toy"
            ]
        },
        {
            "cell_type": "markdown",
            "metadata": {},
            "source": [
                "Check the zero volatility limit"
            ]
        },
        {
            "cell_type": "code",
            "execution_count": 24,
            "metadata": {
                "execution": {
                    "iopub.execute_input": "2024-04-30T20:33:40.177295Z",
                    "iopub.status.busy": "2024-04-30T20:33:40.176300Z",
                    "iopub.status.idle": "2024-04-30T20:33:40.180227Z",
                    "shell.execute_reply": "2024-04-30T20:33:40.180227Z"
                }
            },
            "outputs": [],
            "source": [
                "sigma = 0.00001\n",
                "num_time_steps = 200\n",
                "model = BDTTree(sigma, num_time_steps)"
            ]
        },
        {
            "cell_type": "code",
            "execution_count": 25,
            "metadata": {
                "execution": {
                    "iopub.execute_input": "2024-04-30T20:33:40.182257Z",
                    "iopub.status.busy": "2024-04-30T20:33:40.182257Z",
                    "iopub.status.idle": "2024-04-30T20:33:41.404106Z",
                    "shell.execute_reply": "2024-04-30T20:33:41.404106Z"
                },
                "tags": []
            },
            "outputs": [
                {
                    "name": "stdout",
                    "output_type": "stream",
                    "text": [
                        "PAY Value: 6347.28920\n",
                        "Recvr Value:   0.00000\n",
                        "PayV - RecV: 6347.28920\n"
                    ]
                }
            ],
            "source": [
                "value_pay = swaptionPay.value(settle_dt, libor_curve, model)\n",
                "value_rec = swaptionRec.value(settle_dt, libor_curve, model)\n",
                "valuePayRec = value_pay - value_rec\n",
                "print(\"PAY Value: %9.5f\"% value_pay)\n",
                "print(\"Recvr Value: %9.5f\"% value_rec)\n",
                "print(\"PayV - RecV: %9.5f\"% valuePayRec)"
            ]
        },
        {
            "cell_type": "markdown",
            "metadata": {},
            "source": [
                "Same result as before."
            ]
        },
        {
            "cell_type": "code",
            "execution_count": 26,
            "metadata": {
                "execution": {
                    "iopub.execute_input": "2024-04-30T20:33:41.407134Z",
                    "iopub.status.busy": "2024-04-30T20:33:41.407134Z",
                    "iopub.status.idle": "2024-04-30T20:33:41.410173Z",
                    "shell.execute_reply": "2024-04-30T20:33:41.409665Z"
                }
            },
            "outputs": [],
            "source": [
                "sigma = 0.20\n",
                "num_time_steps = 200\n",
                "model = BDTTree(sigma, num_time_steps)"
            ]
        },
        {
            "cell_type": "code",
            "execution_count": 27,
            "metadata": {
                "execution": {
                    "iopub.execute_input": "2024-04-30T20:33:41.412203Z",
                    "iopub.status.busy": "2024-04-30T20:33:41.412203Z",
                    "iopub.status.idle": "2024-04-30T20:33:41.423996Z",
                    "shell.execute_reply": "2024-04-30T20:33:41.423996Z"
                },
                "tags": []
            },
            "outputs": [
                {
                    "name": "stdout",
                    "output_type": "stream",
                    "text": [
                        "PAY Value: 15990.91739\n",
                        "Recvr Value: 9639.93743\n",
                        "PayV - RecV: 6350.97996\n"
                    ]
                }
            ],
            "source": [
                "value_pay = swaptionPay.value(settle_dt, libor_curve, model)\n",
                "value_rec = swaptionRec.value(settle_dt, libor_curve, model)\n",
                "valuePayRec = value_pay - value_rec\n",
                "print(\"PAY Value: %9.5f\"% value_pay)\n",
                "print(\"Recvr Value: %9.5f\"% value_rec)\n",
                "print(\"PayV - RecV: %9.5f\"% valuePayRec)"
            ]
        },
        {
            "cell_type": "markdown",
            "metadata": {},
            "source": [
                "At 20% volatility the values are higher but put-call parity is obeyed."
            ]
        },
        {
            "cell_type": "markdown",
            "metadata": {},
            "source": [
                "## Valuation using Hull-White Model"
            ]
        },
        {
            "cell_type": "markdown",
            "metadata": {},
            "source": [
                "We do the zero volatility limit first."
            ]
        },
        {
            "cell_type": "code",
            "execution_count": 28,
            "metadata": {
                "execution": {
                    "iopub.execute_input": "2024-04-30T20:33:41.427025Z",
                    "iopub.status.busy": "2024-04-30T20:33:41.427025Z",
                    "iopub.status.idle": "2024-04-30T20:33:41.429462Z",
                    "shell.execute_reply": "2024-04-30T20:33:41.429462Z"
                }
            },
            "outputs": [],
            "source": [
                "sigma = 0.0000001\n",
                "a = 0.01\n",
                "num_time_steps = 200\n",
                "model = HWTree(sigma, a)"
            ]
        },
        {
            "cell_type": "markdown",
            "metadata": {},
            "source": [
                "This is analytical as it uses Jamshidians method."
            ]
        },
        {
            "cell_type": "code",
            "execution_count": 29,
            "metadata": {
                "execution": {
                    "iopub.execute_input": "2024-04-30T20:33:41.432056Z",
                    "iopub.status.busy": "2024-04-30T20:33:41.432056Z",
                    "iopub.status.idle": "2024-04-30T20:33:41.656395Z",
                    "shell.execute_reply": "2024-04-30T20:33:41.656395Z"
                },
                "tags": []
            },
            "outputs": [
                {
                    "name": "stdout",
                    "output_type": "stream",
                    "text": [
                        "PAY Value: 6348.45763\n",
                        "Recvr Value:   0.00000\n",
                        "PayV - RecV: 6348.45763\n"
                    ]
                }
            ],
            "source": [
                "value_pay = swaptionPay.value(settle_dt, libor_curve, model)\n",
                "value_rec = swaptionRec.value(settle_dt, libor_curve, model)\n",
                "valuePayRec = value_pay - value_rec\n",
                "print(\"PAY Value: %9.5f\"% value_pay)\n",
                "print(\"Recvr Value: %9.5f\"% value_rec)\n",
                "print(\"PayV - RecV: %9.5f\"% valuePayRec)"
            ]
        },
        {
            "cell_type": "markdown",
            "metadata": {},
            "source": [
                "This is as expected."
            ]
        },
        {
            "cell_type": "code",
            "execution_count": 30,
            "metadata": {
                "execution": {
                    "iopub.execute_input": "2024-04-30T20:33:41.658395Z",
                    "iopub.status.busy": "2024-04-30T20:33:41.658395Z",
                    "iopub.status.idle": "2024-04-30T20:33:41.661885Z",
                    "shell.execute_reply": "2024-04-30T20:33:41.661885Z"
                }
            },
            "outputs": [],
            "source": [
                "sigma = 0.01\n",
                "a = 0.01\n",
                "num_time_steps = 200\n",
                "model = HWTree(sigma, a)"
            ]
        },
        {
            "cell_type": "code",
            "execution_count": 31,
            "metadata": {
                "execution": {
                    "iopub.execute_input": "2024-04-30T20:33:41.664916Z",
                    "iopub.status.busy": "2024-04-30T20:33:41.663916Z",
                    "iopub.status.idle": "2024-04-30T20:33:41.670556Z",
                    "shell.execute_reply": "2024-04-30T20:33:41.670556Z"
                },
                "tags": []
            },
            "outputs": [
                {
                    "name": "stdout",
                    "output_type": "stream",
                    "text": [
                        "PAY Value: 13721.09708\n",
                        "Recvr Value: 7372.76925\n",
                        "PayV - RecV: 6348.32782\n"
                    ]
                }
            ],
            "source": [
                "value_pay = swaptionPay.value(settle_dt, libor_curve, model)\n",
                "value_rec = swaptionRec.value(settle_dt, libor_curve, model)\n",
                "valuePayRec = value_pay - value_rec\n",
                "print(\"PAY Value: %9.5f\"% value_pay)\n",
                "print(\"Recvr Value: %9.5f\"% value_rec)\n",
                "print(\"PayV - RecV: %9.5f\"% valuePayRec)"
            ]
        },
        {
            "cell_type": "markdown",
            "metadata": {},
            "source": [
                "Once again put-call parity is obeyed."
            ]
        },
        {
            "cell_type": "markdown",
            "metadata": {},
            "source": [
                "# Tree Convergence Testing"
            ]
        },
        {
            "cell_type": "markdown",
            "metadata": {},
            "source": [
                "## BK Model"
            ]
        },
        {
            "cell_type": "code",
            "execution_count": 32,
            "metadata": {
                "execution": {
                    "iopub.execute_input": "2024-04-30T20:33:41.673584Z",
                    "iopub.status.busy": "2024-04-30T20:33:41.673584Z",
                    "iopub.status.idle": "2024-04-30T20:33:47.044982Z",
                    "shell.execute_reply": "2024-04-30T20:33:47.044422Z"
                }
            },
            "outputs": [
                {
                    "data": {
                        "image/png": "iVBORw0KGgoAAAANSUhEUgAAAjoAAAGdCAYAAAAbudkLAAAAOXRFWHRTb2Z0d2FyZQBNYXRwbG90bGliIHZlcnNpb24zLjcuMiwgaHR0cHM6Ly9tYXRwbG90bGliLm9yZy8pXeV/AAAACXBIWXMAAA9hAAAPYQGoP6dpAADBs0lEQVR4nO29e3xV5ZX//zm3nEBIIhFDErnUqlARpIhWwNYi2ghFvH7V1jYjnZnYTmtpq87vW51vWzuttTOVXqbMWGtb2yodO1Or0xGNWBEp5Y5G8YaoILEQQC4JBHI7Z//+2OfZ+3nWs/YllCMkrPfrhXj2WefZeyeQ/WGtz1pPwnEcB4IgCIIgCAOQ5NG+AEEQBEEQhGIhQkcQBEEQhAGLCB1BEARBEAYsInQEQRAEQRiwiNARBEEQBGHAIkJHEARBEIQBiwgdQRAEQRAGLCJ0BEEQBEEYsKSP9gUcTfL5PLZt24by8nIkEomjfTmCIAiCIMTAcRzs378fdXV1SCbDczbHtdDZtm0bRo4cebQvQxAEQRCEw6ClpQUjRowIjTmuhU55eTkA9wtVUVFxlK9GEARBEIQ4tLe3Y+TIkd5zPIzjWuioclVFRYUIHUEQBEHoZ8SxnYgZWRAEQRCEAYsIHUEQBEEQBiwidARBEARBGLCI0BEEQRAEYcAiQkcQBEEQhAGLCB1BEARBEAYsInQEQRAEQRiwiNARBEEQBGHAIkJHEARBEIQBiwgdQRAEQRAGLCJ0BEEQBEEYsIjQEQRBEARhwCJCp8j8bv07WL7p3aN9GYIgCIJwXCJCp4jsaO/Erf/9Am7+r+ajfSmCIAiCcFwiQqeIHOjqBQB0FH4XBEEQBOG9RYROEXGcwu9H9zIEQRAE4bhFhE4RcQpKxxGlIwiCIAhHBRE6RSTvZXRE6QiCIAjC0UCEThHJS0ZHEARBEI4qInSKiCd0jvJ1CIIgCMLxigidIuJlckTpCIIgCMJRQYROEfEzOqJ0BEEQBOFoIEKniHhmZNE5giAIgnBUEKFTRMSjIwiCIAhHFxE6RcSfo+NLnV37u/Cb1VtlWrIgCIIgvAekj/YFDGTyzGTke5a+iV/8eTPyjoNPTxl9VK5LEARBEI4XJKNTRPJ5e45O26EeAEB7Z8/RuCRBEARBOK4QoVNE8ow5R4YICoIgCMJ7hwidIqJ7c9T/50XhCIIgCMJ7hgidIqJndJS+8VvORfAIgiAIQrERoVNE9OyNQ46JzhEEQRCE4iNCp4jkmdKVI7N1BEEQBOE9Q4ROEdGzNl5GJ2+/JwiCIAhCcRChU0Q447HsfyUIgiAI7x0idIpIuBn5vb8eQRAEQTjeEKFTRIz2cohHRxAEQRDea0ToFBE+oyMpHUEQBEF4rxChU0S4WTnc/ld7OrqxX7aEEARBEIQjTp+FzrJlyzBnzhzU1dUhkUjg0UcfNd6fO3cuEomE8WvKlCne+1u2bLHeV7/++7//24vbu3cvGhoaUFlZicrKSjQ0NGDfvn3GubZu3Yo5c+agrKwMw4YNw7x589Dd3d3XWyoaYRkd9bqzJ4cL716Kyxf8+T2+OkEQBEEY+PRZ6HR0dGDixIlYsGBBYMzMmTOxfft279fjjz/uvTdy5Ejjve3bt+Ob3/wmysrKMGvWLC/u+uuvR3NzM5qamtDU1ITm5mY0NDR47+dyOcyePRsdHR1Yvnw5HnroITz88MO45ZZb+npLRSPPenTM1/sO9qDtUA+27O54z69PEARBEAY66b5+YNasWYYg4chms6ipqWHfS6VS1nuPPPIIrrvuOgwZMgQA8Oqrr6KpqQmrVq3CeeedBwC47777MHXqVGzcuBFjx47F4sWL8corr6ClpQV1dXUAgPnz52Pu3Lm48847UVFR0ddbO+KYAwPNY9br9/TKBEEQBOH4oCgenaVLl6K6uhpjxoxBY2Mjdu7cGRi7fv16NDc34+/+7u+8YytXrkRlZaUncgBgypQpqKysxIoVK7yY8ePHeyIHAC655BJ0dXVh/fr17Lm6urrQ3t5u/Com7MBAb3NP87V4kwVBEAThyHPEhc6sWbOwcOFCLFmyBPPnz8fatWsxY8YMdHV1sfE///nPccYZZ2DatGnesdbWVlRXV1ux1dXVaG1t9WKGDx9uvD906FCUlJR4MZS77rrL8/xUVlZi5MiRh3ubseC2gMiT0pUIHEEQBEEoHkdc6Fx33XWYPXs2xo8fjzlz5uCJJ57A66+/jkWLFlmxhw4dwm9+8xsjm6NIJBLWMcdxjONxYnRuu+02tLW1eb9aWlr6cmt9Js9kdBzHbLvK5W0xJAiCIAjCkaHPHp2+Ultbi9GjR2PTpk3We7/73e9w8OBB/M3f/I1xvKamBjt27LDid+3a5WVxampqsHr1auP9vXv3oqenx8r0KLLZLLLZ7OHeSp/hPTqF1wExARpNEARBEITDoOhzdHbv3o2WlhbU1tZa7/385z/HZZddhpNOOsk4PnXqVLS1tWHNmjXesdWrV6Otrc0rcU2dOhUvvfQStm/f7sUsXrwY2WwWkydPLtLd9A2HMen4nhyzlKWFCIIgCIJwhOhzRufAgQN44403vNebN29Gc3MzqqqqUFVVhTvuuANXX301amtrsWXLFtx+++0YNmwYrrzySmOdN954A8uWLTNazxVnnHEGZs6cicbGRtx7770AgBtvvBGXXnopxo4dCwCor6/HuHHj0NDQgO9973vYs2cPbr31VjQ2Nh4THVcAFTHEo+P9TktXktIRBEEQhCNFnzM669atw6RJkzBp0iQAwM0334xJkybh61//OlKpFDZs2IDLL78cY8aMwQ033IAxY8Zg5cqVKC8vN9b5xS9+gZNPPhn19fXseRYuXIgJEyagvr4e9fX1OOuss/DAAw9476dSKSxatAilpaU4//zzce211+KKK67A3Xff3ddbKhpc6YrudSUZHUEQBEEoHn3O6EyfPj3UNPvkk0/GWuc73/kOvvOd7wS+X1VVhQcffDB0jVGjRuGxxx6Ldb6jASdigubo6MdWvbUb/9L0Gr51+XiMP7nyPbhSQRAEQRiYyF5XRcQuSwH5fOG1V8qypyc/vmE7nt+6D0+9YhuyBUEQBEGIjwidIpLXW8fVMZLRMfzKhf/vzZuGZUEQBEEQDg8ROkWE29STahd9jo4fa3dkCYIgCILQd0ToFBGuLJWz2ssdK56WtwRBEARBODxE6BQRI3sTsIknl/WR/a8EQRAE4cggQqeImBmdwu9hc3S8z5mvBUEQBEE4PEToFBEjoWNldJjJyKScJRkdQRAEQfjrEKFTRDiPTugcHfI58egIgiAIwl+HCJ0iwrWO+0bjwuuQjT9F5wiCIAjCX4cInSLCzdFxSEYnjmFZEARBEITDQ4ROEeH9N94RAOYcHVWq8qco+++1tnViZ3tn8S5WEARBEAYgInSKCF+Wit7rSokf9U5PLo9ZP1qG2T9ebogfQRAEQRDC6fOmnkJ8uC0c8qRkZfh4AmIOduWw92APAKA7l0dpMlWEqxUEQRCEgYdkdIoIvwUEbS+3N/6kMTnpMxcEQRCEw0KEThGJ114OLcY8FlbeEgRBEAQhGhE6RYTf3qHw2osJ9vGAi5FeLEEQBEGIjQidIsJv70Dby5mNP/NmCUvN3tE/JwiCIAhCNCJ0igjvvym8ZraAAClZcVkfmu0RBEEQBCEYETpFhPffmComxwwVVDH0dz1GEARBEIRoROgUkTD/DSdi6DG2BV0TSC++sw+9Oa2uJQiCIAiCgQidImJWmcxSlcPEBBmWc0xq6IGVW3DZgj/jVyvfPoJXLAiCIAgDCxE6RYTL6FCvDrt7eT4sxv3/v+w7BADYXvhdEARBEAQbETpFhDMO2+3l/nuOVc6yDctBWR9BEARBEGxE6BSRMDOyLWoYEROW9SGZIUEQBEEQbEToFBGHiBjHcazWcW4/rLDylmdY9jb+FKUjCIIgCEGI0CkixqA/OGb2hdsCQnVU0f2wmIGBNOsjCIIgCIKNCJ0iomdbHCd87yvjWEHY5NnSFW1BF6UjCIIgCEGI0CkiNFvDmorzjn0spHQFGnNEr1gQBEEQBhYidIoIzcSEGY/dGPM9bpsIvwXdjBUEQRAEwUaEThGhwwAjS1e0E4srXREfj2FUzjvmcEFBEARBOM4RoVNE6BydsHk4gDYJmZSljPIW9eh46zn4Pz9Zgdn/9icRO4IgCIJQIH20L2AgY3t07Hk4tAXd/N0uXdFuK/V7T87Bc1v3AQD2d/bghMElR+IWBEEQBKFfIxmdIkJLVQ7bJm73nNNsDVfe8rM2wYMHBUEQBOF4R4ROEaHZGl7UwIhxj5nvhe2CHjY9WRAEQRCOd0ToFBFzYGC4YFEx+ue80pW2TtDnuT2zBEEQBOF4R4ROEaElJ75NnNneIbR05f6eIzuc5/KS0REEQRAEigidIkKFjcN4bcJKV2x7eUjXlX9ekTqCIAiCAIjQKSq2R0d7r/B76O7lIUZj6tHJcYsD2LbvkJSyBEEQhOOWPgudZcuWYc6cOairq0MikcCjjz5qvD937lwkEgnj15QpU6x1Vq5ciRkzZqCsrAwnnHACpk+fjkOHDnnv7927Fw0NDaisrERlZSUaGhqwb98+Y42tW7dizpw5KCsrw7BhwzBv3jx0d3f39ZaKBjUfR09GVuKFGI01jw715IRNT/6f5r9g2neX4Bd/3vLX3IYgCIIg9Fv6LHQ6OjowceJELFiwIDBm5syZ2L59u/fr8ccfN95fuXIlZs6cifr6eqxZswZr167FTTfdhGTSv5zrr78ezc3NaGpqQlNTE5qbm9HQ0OC9n8vlMHv2bHR0dGD58uV46KGH8PDDD+OWW27p6y0VjcOdo0Nn5bCG5bCuq8L/vrnzAADgrV0HDv8mBEEQBKEf0+eBgbNmzcKsWbNCY7LZLGpqagLf/8pXvoJ58+bhq1/9qnfs9NNP9/7/1VdfRVNTE1atWoXzzjsPAHDfffdh6tSp2LhxI8aOHYvFixfjlVdeQUtLC+rq6gAA8+fPx9y5c3HnnXeioqKir7d2xKECxdwSwi5LKTyjcUjpyjcj2zF21kcQBEEQjk+K4tFZunQpqqurMWbMGDQ2NmLnzp3eezt37sTq1atRXV2NadOmYfjw4fjoRz+K5cuXezErV65EZWWlJ3IAYMqUKaisrMSKFSu8mPHjx3siBwAuueQSdHV1Yf369ex1dXV1ob293fhVTML2ulLEm6NjrGrEqre4rqscyfoIgiAIwvHGERc6s2bNwsKFC7FkyRLMnz8fa9euxYwZM9DV1QUAeOuttwAAd9xxBxobG9HU1ISzzz4bF110ETZt2gQAaG1tRXV1tbV2dXU1WltbvZjhw4cb7w8dOhQlJSVeDOWuu+7yPD+VlZUYOXLkEbtvjtD28pCOKrq9Q5z28rBskZiRBUEQhOOVIy50rrvuOsyePRvjx4/HnDlz8MQTT+D111/HokWLAAD5grP2s5/9LD7zmc9g0qRJ+MEPfoCxY8fiF7/4hbdOIpGw1nYcxzgeJ0bntttuQ1tbm/erpaXlr7rXKGjpim0Tz9sixo8LNhrT9vIct05eMjqCIAjC8U3RN/Wsra3F6NGjvWxNbW0tAGDcuHFG3BlnnIGtW7cCAGpqarBjxw5rrV27dnlZnJqaGqxevdp4f+/evejp6bEyPYpsNotsNvvX3VAfoBmcMOMxEGI0ZkSMXeaKblMXBEEQhOONos/R2b17N1paWjyB8773vQ91dXXYuHGjEff6669j9OjRAICpU6eira0Na9as8d5fvXo12traMG3aNC/mpZdewvbt272YxYsXI5vNYvLkycW+rVg4JIMTWboiWz5ws3bU/+c8xcOsUziosjx50TmCIAjCcUqfMzoHDhzAG2+84b3evHkzmpubUVVVhaqqKtxxxx24+uqrUVtbiy1btuD222/HsGHDcOWVVwJwy03/+I//iG984xuYOHEiPvjBD+JXv/oVXnvtNfzud78D4GZ3Zs6cicbGRtx7770AgBtvvBGXXnopxo4dCwCor6/HuHHj0NDQgO9973vYs2cPbr31VjQ2Nh4THVcAKRlZ7eV2WcnO6DClKyJs2Dk6XtbHPkcu7yCXd1CSllmRgiAIwsCnz0Jn3bp1uPDCC73XN998MwDghhtuwD333IMNGzbg17/+Nfbt24fa2lpceOGF+O1vf4vy8nLvM1/+8pfR2dmJr3zlK9izZw8mTpyIp556CqeeeqoXs3DhQsybNw/19fUAgMsuu8yY3ZNKpbBo0SJ8/vOfx/nnn49Bgwbh+uuvx9133933r0KRsDw6xuA/JsYSMYXXeVsg0Vk7oV1XWunqEz9die1tnVhyy3QRO4IgCMKAp89CZ/r06aFdPE8++WSsdb761a8ac3QoVVVVePDBB0PXGDVqFB577LFY5zsahA0M5EpO1Hwc1nWV98pSwXN0ckpYaad4bus+5PIO3j3QhboTBvX9pgRBEAShHyH/pC8i1KNj6hy+5MRtzsl5bKhhmc7s0c+viyB/GKEgCIIgDHxE6BSR0C0giBgBXPGRY1RN6BwdmK+hHaUxZveWSB1BEARh4CNCp4iEz9Fx0QVKPn9khwrGKYEJgiAIwkBGhE4RMUULFTFM6QrRQwVtEzMzRwdmjNWSDhE6giAIwvGBCJ0iQstSYWLEjee9NpxAyhGhpMdQgeOXrrR1NJfOno5uKWUJgiAIAxIROkWEdlmFTTh2Qxw268IJJOrx4baA8I4x66i3lry2A2d/6yn8dNlbfbgzQRAEQegfiNApInkiYsK2e1AH2dJVDDMyb3Q23zNFlPv/r7XuBwBsLPwuCIIgCAMJETpFxC5L2XUpKn6cvBVC2stJWUrFMGUpa4dzI8Y8hxSuBEEQhIGICJ0iQnVNVEYnqAU9LFsTltGhk5G5spgvhkTqCIIgCAMPETpFJLS9nHhs3BgnsuuKtqVTczK3NrtNBPH2yMafgiAIwkBEhE4RoTuTh+0w7sbwgsXoqCJbPwQJJn3tPBtjXqPoHEEQBGEgIkKniOi+GSBG6ziNUeuwAkW9VqImbO3grA+3V5YgCIIgDBRE6BSR0Dk6XJaFZn2UCGFaxy0zstE6zmd9jCnMDhFIROeIZ0cQBEEYCIjQKSL2Xlfaay6GeW3HBHVdBZelaKzxOWJYBoCv/LYZM3/4J3T3kpSUIAiCIPQzROgUEbMcFJCtiTFUkMYAuv/GNhMHzdox/EDE6KyX2f74yg5s3LEfLXsPRt6jIAiCIBzLpI/2BQxkbPFhl4PsoYLBfhz9WFh7uT9rx4xl28uZjE6OyQAJgiAIQn9EhE4RoR4drnTkEPHBb/wZ7L/htneg5Sy/dBUco1+bn/kRpSMIgiD0b0ToFBFrMjJ04cOJmHDBoh/zy1L8OoCZwXE/4/8/HSLIbwoacYOCIAiCcIwjHp0iYhaTnFAfjXvMYefhhJauvHX0tfnSFSeGaAu6fk1SuhIEQRD6OyJ0igjNxPAD+2Ac48RQmImZm4PjrU1KV9xkZD9Gu25y3pY9B/GJn67EM6/tDLtdQRAEQTjmEKFTRGizFCdYqG+GTkoG/Vzhd99EXIjp46wd2okVNrNn6cadWPXWHvxu/TvBNysIgiAIxyAidIqItQUEs3s43Zmc77oyFZNb4lLr2uvQfazYEpiKIYLJ6MwqHO3J2RkhQRAEQegPiNApIlQXcPNwLMMyK1j0jzmsZyfHCCTbx2Nna6hQCssoORChIwiCIPQvROgUkVAR48WYx7g9p/TyVj4frwQG2PNwYpWuuHVkh3NBEAShnyJCp4iYwoafjBw2RyfIaBwmRtS59M/RKcj6/9MWdO78MkBQEARB6K+I0CkiVJCEdTYBriDhS0fQjlGvT0jXFGkT58tbpigyBZN5HbLRpyAIgtDfEKFTRGyhY2ddzPk3AS3oRHxEDxU0MzFeZoicyz0/KW9x65A9swDg5W1taHppu3XPgiAIgnAsIUKniFD/DeejocImagsIx+H3rOLn6JDXTOlMCS1aptKvn/p4AOBLDzXjcw8+h5Y9svGnIAiCcOwiQqdI0DKP4/CTka0W9IihgoADR8vMcAKFdnSFla6sWTvGyUhGSHtr38FuAEDboR4IgiAIwrGKCJ0iQTuUgjqq4rSg0wwO35llr0E382Q39QyZo2NldLTzyTYRgiAIQn9AhE6RsMSIE7AFAxUxzFBBh4gPtnTFbvxprpPjMkFWe7l2fiK09OugwwgFQRAE4VhEhE6RoELHgQMmWROrBZ12WbGm5pCOKr4F3bzOMDMy7d5yP2f+LgiCIAjHIiJ0ioSV0HHs7A0Q3pnFtqA7dHqyGeseM8WPEkNOiIji2sv90pV9HTQTtPndDlzwr89g4eq3IQiCIAjHCiJ0ioSd0aFdWHbpKk9FDBPjgIoRM+uiYvRjSsxwJa84e13RrI8ep067dvMebN1zEItf3gFBEARBOFYQoVMkLDNyUEbHmG1DS1f2WsGdWZz/x4xhpyeHztExP2eIMi+OZo8EQRAE4dhBhE6R4D06EQIF4Ztqemtr4iioMwuwy0tcyYsajcNa4PWroBkdbtaOIAiCIBxtROgUCX3WDaAyOuZrwG4n58y9VPxwGR3O6GzN0QnZXiI068O0qavP26LKvn5BEARBOFqI0CkSvEfHIUds3w5nGKYzcvgJx8GZIK4zi3p7OOFlZ2vM13o8V94SBEEQhKONCJ0iYT3uHX4yctju5bz/Jrozi04yZs9V+J0KFG7WT9g2EZao0q5/f2cP3tp1AIIgCIJwtOiz0Fm2bBnmzJmDuro6JBIJPProo8b7c+fORSKRMH5NmTLFiJk+fboV84lPfMKI2bt3LxoaGlBZWYnKyko0NDRg3759RszWrVsxZ84clJWVYdiwYZg3bx66u7v7ektFgcvo8B4dMybOPlZs9xbTdWWLGO1zAQIlVMSoayYGau5cAPDZB9bjou8/i3f2yn5YgiAIwtEh3dcPdHR0YOLEifjMZz6Dq6++mo2ZOXMm7r//fu91SUmJFdPY2Ih//ud/9l4PGjTIeP/666/HO++8g6amJgDAjTfeiIaGBvzv//4vACCXy2H27Nk46aSTsHz5cuzevRs33HADHMfBj3/8477e1hHHEjrUW+PYwsCdkcOVl2B8Lsxro2Iijc/k/NSH436Oihj3ODeckOu6emfvITgOsL2tEyOGDoYgCIIgvNf0WejMmjULs2bNCo3JZrOoqakJjRk8eHBgzKuvvoqmpiasWrUK5513HgDgvvvuw9SpU7Fx40aMHTsWixcvxiuvvIKWlhbU1dUBAObPn4+5c+fizjvvREVFRV9v7YhCrSrWpp6F3/PE/BvZOk5fM+IDMEtQdJNPfe1cnn7O/39r/g5T3rK9Pv57YlAWBEEQjjZF8egsXboU1dXVGDNmDBobG7Fz504rZuHChRg2bBjOPPNM3Hrrrdi/f7/33sqVK1FZWemJHACYMmUKKisrsWLFCi9m/PjxnsgBgEsuuQRdXV1Yv349e11dXV1ob283fhWLKDMyn4mh2RtmLYe2idsCIx8gqkK7rhijMRVjrDjzPme+1tcSg7IgCIJwtOhzRieKWbNm4ZprrsHo0aOxefNmfO1rX8OMGTOwfv16ZLNZAMCnPvUpnHLKKaipqcFLL72E2267DS+88AKeeuopAEBrayuqq6uttaurq9Ha2urFDB8+3Hh/6NChKCkp8WIod911F775zW8eydsNhBsYyAmUsGyNP4xPP+KwYiSsBZ2ak81j/O/6NVpeH2btHPN5esxxHDS37MOp1UNQUZqBIAiCIBSbIy50rrvuOu//x48fj3POOQejR4/GokWLcNVVVwFw/Tl6zOmnn45zzjkHzz33HM4++2wAQCKRsNZ2HMc4HidG57bbbsPNN9/svW5vb8fIkSP7eIfxyBOl44CWqQpxpvphsz509/I4mSE2exMikDjBRDu6wtbJEx+PEVf4bd3be3HNT1bisol1+LdPToIgCIIgFJuit5fX1tZi9OjR2LRpU2DM2WefjUwm48XU1NRgxw57z6Rdu3Z5WZyamhorc7N371709PRYmR5FNptFRUWF8atYRHl0wAkU5rUbQ7M1eozpkfHXcayYHJOtod4a0+tDMzoIXIczI9PpydvbOgEAre2dEARBEIT3gqILnd27d6OlpQW1tbWBMS+//DJ6enq8mKlTp6KtrQ1r1qzxYlavXo22tjZMmzbNi3nppZewfft2L2bx4sXIZrOYPHlyke4mPpwvhZ9oHFxyojuMu58L2g/L/FyeMRWHmZiDskf676HDCcPMyJ5gylsxgiAIglBM+ly6OnDgAN544w3v9ebNm9Hc3IyqqipUVVXhjjvuwNVXX43a2lps2bIFt99+O4YNG4Yrr7wSAPDmm29i4cKF+PjHP45hw4bhlVdewS233IJJkybh/PPPBwCcccYZmDlzJhobG3HvvfcCcNvLL730UowdOxYAUF9fj3HjxqGhoQHf+973sGfPHtx6661obGw86h1XAN9ezk09tjfs9Mtu3DBA17AcLEa8GE5osds7qNcucWbtGCJKCSamw8rKBDGGZUEQBEEoJn3O6Kxbtw6TJk3CpEmux+Lmm2/GpEmT8PWvfx2pVAobNmzA5ZdfjjFjxuCGG27AmDFjsHLlSpSXlwNwZ+o8/fTTuOSSSzB27FjMmzcP9fX1+OMf/4hUKuWdZ+HChZgwYQLq6+tRX1+Ps846Cw888ID3fiqVwqJFi1BaWorzzz8f1157La644grcfffdf+3X5IhgmZER0F5Osjy8GDJj2PISKVWx5SVOxIRNRialq7ASWC/TYUVNzPRcgiAIglBs+pzRmT59emjp4cknnwz9/MiRI/Hss89GnqeqqgoPPvhgaMyoUaPw2GOPRa51NOC+RtxwQD0sT0w6jn5c+yDxL1vns7uu7PNTvw1XAqPZGvqaW9u8HzNd1EvWAYDu3jx2d3ShttIcGCkIgiAIRwLZ66pIcO3l9gaeNCbAsBxqNHahLefU1wP6OZLBodkbPYZOTWZb4GNkdDjD8pceeh7TvrsEW97tgCAIgiAcaUToFInIva4ce5oxaAyzVj5Pt4CwsyT2Duf2Og59L8ywHLp7uf05dV10GCFnWH5rVwccB9i6R/bDEgRBEI48R3yOjuASvddVgGEZ4SLGAS0PFX4nnVCcGMmFbMbJXbfvyfHPTT9DxU/YcEIu69NbUFji2xEEQRCKgWR0ioRVlrLMyEzpKsCwHDb1uC8TlsPby5UYse+Bmoi5qcs5LyPk/t6r1c7COrNo15cgCIIgHElE6BSJw83ocNkSWs5it4AwdA0RTAFeH31tLjMUJFDY/bCoj0cTTLQzTL+2HClnHerO4Zb/egFPvsxv4yEIgiAIfUGETpGgZmSAMxWb71MfD1cGCjIs00F/vBjiMjEFoRE2PTngdz3GEkMh3VvcUEEljO7701t4+Ll38NkH+I1ZBUEQBKEviNApEmHmXP81l/XRXgesFdl15Ti8YCLZIv2auNbxYDMy7BjSURU+Pdn/PN1rS20TIQiCIAhHAhE6RYLO0bFKVwCcPPkM2d7B3w/LFC38zuSkvMV2XZlLc+Uts0xmrw1Qo7MpojhRpY6xQwUDWtgFQRAE4UggQqdI2EZj81iQR4fdsNP6nH2ePMmy5LkOK1JyCpuHo5/XHgoYI+sTIsb0s9JylugcQRAE4UgiQqdI8AMDSWaEearT8pK7FvH2sHtWBWd9WDOyw4sa3dR8OCKG20pCETZUkLtX/zoctHf2WMcFQRAEIQoROkXCHhhoe3LyRAzQLEuQ3yWsTZw7v8Mds8QQ4+MJmHrMGp1DhwqaGSX9Uv2Sl7mezucXPoez7liMl7e1Me8KgiAIQjAidIpEVFkKsMWJXZayhYEDOhlZnc9ch5uenCO7jkd3Zpn3EiSYAN9/ww0i9MRPzi59Ud8Ol9F54iW31fyXf95ivScIgiAIYYjQKRK8R4eUrmhGh8TwwsIWPrA+Rw3LYGLI9GKmrAQiWkKHCnpCxb5muoGoMUeH+nZCPDrJRCL4TUEQBEFgEKFTJKzMhONYGZ087boKKEuFtpczpaIgU7NlRuYG/4XsY8WXpcxjoZuDMmKK7n8VonOg65zu3rx0aAmCIAiRiNApEtwwwCgzsluWIp9zHEMQ5fOOKViY81llKUag0PP7Mea59c/xrexKxJjXEb7dhH+OOKUrhRI6O9o7Mf6OJ3HLf78QGCsIgiAIgAidohHLo2NtqBlj6wjwPh5qIg7bqVxdHzvhOMQMTV+ra9Y/pz7ea8TwJTC+wwyBJApKZ+Gqt9Hdm8fvn/tLcLAgCIIgQIRO0bAGBsKxjnHlLftznEcnuLykYtg5OrS8pceo9cLm6PTJxxMsmKg40o+FlaOSCTNWEARBEKIQoVMkovw3AG9Gtufv2LueszNq4vh4SLaG3fuKazkn/hl+qKAZY5TbiImZ8/FwwwQpCSSsexMEQRCEMEToFAl7jo4tfiyhw4mhGCUwd28r7dwBPh66/1XkcELi7eGNz7yPh/f/5Asx9jrc5qQUldERmSMIgiDERYROkYg1GdnK6HBDBck64AYN2qUiblPP0MGD3vlMr4/+eZrhcf/fvJdQMeSJmUIMc430fnWUR4fTQg+t2YqZP1yGbfsOBS8gCIIgHHeI0CkSvEfHjGGzNTTrw7apR/t4+B3GydoRQwWpaPFFjXluaOfnuqeox8c7V86OcULyNarrisv6fPX3G/Ba63585/FXAz8vCIIgHH+I0CkSlo2GyehYmRkwWR+iTvJM6coqQzE+HocYnfP5gP2wiEDRPUJB83gAO6PTmwuO4cpbdFYPhxoYGObR6ewJSQkJgiAIxx0idIpEVNYFCPLomOv0khQPV96in1MChcbQ8pb5Gaa8BWKEJpkZ4xjx2HAZHW+biMJxrjMrtL08RkxSGyq4s70TnT254GBBEARhwCNCp0jYYsSejMwNDIxlRma8PUac4zBrc+UtTmiExDD+GyqQOKOxVd7KM6KK+IA4kslgj45Clbe27j6ID33nacy4e2lwsCAIgjDgEaFTJBhrjT1Hh1ZZ2PKWFcKKn7B9rNwYx2r55jcHNcUHOwWZMTFbW0DEKG8ZgolkezhUsibMx6PKW0+/tgMAsK2tM2RFQRAEYaAjQqdI8KUrM4bPupgxVumKKW8B3DBAe23acs5lneg6YftaAcEZnTwTEzaPR/1fWEYnrOtK4ft4gmMEQRCE4wcROkUiXns5FTFx2sv5Cct0qCC3ESidaMxdY87I+gRkZhgTs3eMK10pj07OFDzcZOQ4/ptwMRQdIwiCIBw/iNApEnZGh/HoMNOT6QPabi+PHjRIN/X0YvLhMdb+V3D4LSEYbw3dHiJsPyzq1THWiSFi4uyHxS2zs70Tjz7/F3T3SmeWIAjC8UL6aF/AgCWGR4fbAsLaYZykdPKOg4STMI45sDuhuAd9jooYpnRGBQrn9eFn9JCyFOftoS3oTNaHot9XnPZyfz8sO2bWj/6E3R3d2LrnIOZddHrgGoIgCMLAQTI6RYJ70HLlJB2+vdyOsVvHmf2wuNIVESiRW1A43DwevuRkzcjhurUcU+iwe13RrJd2wMvWIJiwFvTdHd0AgGc27gxZQRAEQRhIiNApEnwmxDxoiRjGfxMn60O9NHHLW1E+Hi7Gyh4FZGto95Z+L6HTk0Pu3+u6Cs3oKDEUUgIj64ufRxAEYeAiQqdIcAKBPk+5PausqcfsLujkZCTLk3fshzcVSK7/xr5uGsP5eNiMDhE21NSsr60ieznBFCJ0kjG6ruCZkYND1DodXb2YetfT+IcHnwtZUBAEQejPiEenSHCTiaMnI9u+GW4ysu1PDm8LB7iuK34eD/XfRJma1cXkabeWdsBuQTezQNoy1r3pYigR4r9ReD6eEMeyP2tnJ3bu70LTy62BsYIgCEL/RjI6RcIqXXFdVxFZF3edaMFEszwOd34SYwkf5lhQeSuso8o9F29Ypj6cOAMDTTOyeU4OrwU9OERa0AVBEI4jROgUiTgChcuWWGZcprwUa5sIpi2dbu8QtakoV7qi5/MmIdPWdcajY3ZZkSwUieXO1beBgSEenRjlLUEQBGFgIEKnSNgZHU7EUKERXbrKk2wJt05QtoYKC9Z/Qycss91bJOvD3QcjYqw5PsRXpM4ZdG9x9sOKI2LCxNDrO/bjO4+/ir2FDi1BEAShfyMenSIRx6MTJ+vDmZGjOrPcY+RzsLdliDo/LUGpGDoZmff62CLGLm/ZJTD7/HZMeFlKZX1i+HiYkPofLAMAbNt3CAuuPzvkTIIgCEJ/QDI6RSLOHB2uddyeo2ObkQ/H1GzN2nGYB71DMyhB7e3munFa2QEglyMZHS5bo61DY/ysT5iI8a8ziDgenZf+0haygiAIgtBfEKFTJOxsAbcFBCMQYpiRo0pXNHujjtHMC1vyIt1TUaWroBIYN/WYlqr43dO1aw7M+iCQBOJ4dKK9PioGAB57cRtWvrk7OFgQBEE4Zumz0Fm2bBnmzJmDuro6JBIJPProo8b7c+fORSKRMH5NmTKFXctxHMyaNYtdZ+/evWhoaEBlZSUqKyvR0NCAffv2GTFbt27FnDlzUFZWhmHDhmHevHno7j42vBWcQOE24zRhPDo5W7DQdbjpyfxk5IjSFWJsE0G9NXl+CjOXraECLU+Ej3cC7xgdhOhYn3Mcc2ZQMpZHxz4/Remct3YdwE2/eR6fvG9V8IKCIAjCMUufhU5HRwcmTpyIBQsWBMbMnDkT27dv9349/vjjbNwPf/hD41/OOtdffz2am5vR1NSEpqYmNDc3o6GhwXs/l8th9uzZ6OjowPLly/HQQw/h4Ycfxi233NLXWyoKVtMTUyri/C/WwMAIoeGuw4gapixFu66iSl6BMSSjw3ZvcWZkImx6I7I1nPFZXZd+zJieHOK/8WLIdXEoH8+2fZ0hUYIgCMKxTp/NyLNmzcKsWbNCY7LZLGpqakJjXnjhBXz/+9/H2rVrUVtba7z36quvoqmpCatWrcJ5550HALjvvvswdepUbNy4EWPHjsXixYvxyiuvoKWlBXV1dQCA+fPnY+7cubjzzjtRUVHR11s7orCdSDHMyLbRmK5sixjbxxNQuqKTkS1RRYf4xcjocB6dvJ31AYDenD5E0L4e/Xd1rl6ShaIxNDOVZMzIjuMYgvqv3RxUEARB6D8UxaOzdOlSVFdXY8yYMWhsbMTOneYmigcPHsQnP/lJLFiwgBVEK1euRGVlpSdyAGDKlCmorKzEihUrvJjx48d7IgcALrnkEnR1dWH9+vXsdXV1daG9vd34VSzYgX3koF2WihYx+Xy8zix+GGD49dDNQF1xZK7NeWvswYd8JibMf+N5dHSjMwK6rkjWx8zo+Mfp2n5MdNYnTAy1d/bgyZdb0dWbC15AEARBOCY44kJn1qxZWLhwIZYsWYL58+dj7dq1mDFjBrq6uryYr3zlK5g2bRouv/xydo3W1lZUV1dbx6urq9Ha2urFDB8+3Hh/6NChKCkp8WIod911l+f5qaysxMiRIw/3NiOJs9dVVFs2v45jCRS6Dpjdy7lOqKgtINhsDaiIsPfMsgYGBg0VjJiMHJT1CSuvcdOT6deQ67qimbQww/Lf/2odPvvAenz3idfsNwVBEIRjiiMudK677jrMnj0b48ePx5w5c/DEE0/g9ddfx6JFiwAAf/jDH7BkyRL88Ic/DF2H8+7QEkScGJ3bbrsNbW1t3q+WlpY+3FnfiDVHJ0JEAEE+HhpjZ30sjxCoiAqYoxNjYKA1eNBaJ7rryvIDaceNczGZGSpiOI8O9fHocIbloBguo7Nm8x4AwO/Wv2O9JwiCIBxbFL29vLa2FqNHj8amTZsAAEuWLMGbb76JE044Ael0Gum0axO6+uqrMX36dABATU0NduzYYa21a9cuL4tTU1NjZW727t2Lnp4eK9OjyGazqKioMH4VC3sycoy9rhwm68P4b6j44UpgVmYob24GGlS6srI+zIhnmvWxW+Jtr497L6ZoYf03+jXmyZBDlfUJyegoict2dBXgylJBWR9abjNitP9/fMN2PPv6LgiCIAjHFkUXOrt370ZLS4tnOP7qV7+KF198Ec3Nzd4vAPjBD36A+++/HwAwdepUtLW1Yc2aNd46q1evRltbG6ZNm+bFvPTSS9i+fbsXs3jxYmSzWUyePLnYtxVJ1F5TQDzDMtc6HjUZmcvEANEmYrucxbWOx+jegkPEkH2d1jwexz+ur8N1ZoV5dJhKkyUeucnIccSQtU4h7dPa1onPL3wON/xiDQRBEIRjiz53XR04cABvvPGG93rz5s1obm5GVVUVqqqqcMcdd+Dqq69GbW0ttmzZgttvvx3Dhg3DlVdeCcDNxHAG5FGjRuGUU04BAJxxxhmYOXMmGhsbce+99wIAbrzxRlx66aUYO3YsAKC+vh7jxo1DQ0MDvve972HPnj249dZb0djYeNQ7rgAuo8Nlaw6nvMVMRmb8QNbnqN/FAXL0GhnxwRqWqdcmokzH+Yos/43XUWXGmG3qfAzX4RWWrQHr0SEhTPdW3nGQhN299e4B338WVjoVBEEQ3nv6nNFZt24dJk2ahEmTJgEAbr75ZkyaNAlf//rXkUqlsGHDBlx++eUYM2YMbrjhBowZMwYrV65EeXl5n86zcOFCTJgwAfX19aivr8dZZ52FBx54wHs/lUph0aJFKC0txfnnn49rr70WV1xxBe6+++6+3lJRUA9l3fgavet49PRkMAKFZn2ot0UdI8uwPqI4WR9zLU7ExBBDAdkaKlB4j44pkHpz9jo066OTZH08NMZeh95DHK+PIAiCcHTpc0Zn+vTpoXsEPfnkk32+CG69qqoqPPjgg6GfGzVqFB577LE+n++9QN1SKpFAr+OwRuM4ZmROxFilKys1Yz9wWTHEZZTy5DWT9TG7pQK6t4gYid4Pq5CJ6aOPxyqlMZ1Zecf8M5ZijMa2GdkubwVlfeh9pJDAm7sO4Gd/2ozPTz8VI6sGQxAEQTg6yO7lRUI9sJPJBFAwAkeJD7Z0xZWlonw8sEUUnxkKL4vZ2RumBAbHMkPnHccQX5yPxxVa5jUDTGcWI3TCJiyrt4ycE8mUcXN0AjM6sM9PYzjBds1PVmJPRzeee3svnvzKBRAEQRCODrKpZ5FQD9EU869+bqgdoASKuQ7XXh45a4cpk8WZnszNrYmzM3ms6cmsYMprr1VGJ/h6OFMz9RFxO5zTdRKMiHHI19nfHNS8Hh3W1FxYZ0+Hu+faxh37jXsMy4YKgiAIRx4ROkVCPXBTSVvoKPETtdeUG8MIlMiyVPQO59x+WNxeV9zAQto9FbULO2dqphkddZtha6tLoSZmrryVDxl8GMejwxmWrRZ0/yqC19Gu86p7VuCan6wUsSMIgvAeIqWrIqEeZqq8YTxoC+UsK1uDGGUph5mMzIihWDucMyUvKiL4FnTzQ6wYIhmVqB3W1RpGGQp2KQuwszxc1oeKHz2j5c3aYQSSgitLWVmfGCUwxc79XXh+6z4AQPuhXlQOzrBxgiAIwpFFhE6R8EpXSZW98d/jylkAWBNxLMMyHRjoOFZnVtRWDt7nqNCIEFo0M+MeswUT3+6ula609bx18nb2CAjvDPPFkF4WMzM8KqNDxZiOV5YimSEjJulfZ9A63GeTkkcVBEF4z5AfuUUitHSVDChdgemoYv03/Ln8dZjyFmMYZreAIJ4U2xxNfTzRJTiamVHnpxOWAdt/E+XRoWZkrwSmnc5xTI9Sgsmy0a97nOnJfGdWUGYIFh1dvfif5r9gf2eP/aYgCIJwRBChUyTUg009DPWHsVfOihAa9HN+THhZCk7MrquI0pnDZGsQozMr74DMtomzOWghts8eHbKOt4Gof+Hc+QFa3jLf4wzjQVkfXdzQ8/iZIVuM/ePvXsCXHmrGlx9qtq5NEARBODJI6apIqIefl9HRHnReRscqOTGm4Tgt6IzRl1bFolrJ1efs6ckRGR3WjGybmjkzdG/OXIdeJ80WBe6ZxQwMtEzNRqbKXicoW8MZnRXcflhBgokzPj++wd2r7enXdkIQBEEoDpLRKRLqYZZkOqyU0LHn33BdV7Bj6KaecbI+ZKF8PnoLCm7rBip+ODFEBQrfmWVnhui90Lb0IIHClZcORwzpcOWtoK6rXqZN3l+H8wMxdawCN/56HT7x05XW110QBEE4PCSjUyQsM7JuRiX+j0ITVmHDTnMdq6OKETGc1yd6qGDMjA7Xlm54dAK2gNAOcdds+2/c/6e7nnNGXyoauIGBdG0uo0Lv1WG+R5xAojGcj0jBjRKgwlDR3ZvH4ld2AAC27O7A+08awsYJgiAI8ZGMTpGwzMhc6SpvxjhgRAxrNI4QOk6M7i0nqCxm3kPkMMCgzBARQ9ysH9pKDtidUFzpiAoLrk2c+m+4PbN6Q3w83FgA+vWKU97i1glK6OQZoSUIgiD8dYjQKRLqmZVgjMd2RscfYBdHxNBj/MBA81gPF8NkdOi5uKyPsR9WjMwQJ4aszFDhtb4UvVdPDJHPxdoclBVMMD6nr5NgRAwVKFx5i96nv44pqjjM87u/7z7Qhe8v3oiWPQfZzwiCIAjhiNApElTEqId6ImE/IFVGB5r/JrAFnTEa236O6AnLgN1RFWfCMr0mKhDca7S3kqCnd2i2htkclGaU/G0iSLaGy+gQozPv0THFh5lRMdej/+/GHBkxpNB9VGrtL/+2Gf+25A1c85OV7GcEQRCEcEToFAnPo0PMqMlEwhY62jwWWvJiN+yM8t+wmSFYMdbMnhiCiRqEuQyTVd4KyB5R4zPbmcW0ZffmQz7HZnR4wWIKFIeMAOA8OkToFP72UMFkxBTW6SGbnHJwGZ0Vb+4GALS2d3rvtbZ14s1dB/hFBEEQBAMxIxcJL6NDJiMnE/qGkQVRk/LnsXjHmPkrKoaKBnZGDc3W0K4rxxYWPTnb+By9jxXj44E9rZgzVVteG650xhmWqUcoQsTYhmVVuiJiTBMjvtE4b8ToxBJDMbq3FJyPh4udctfTAID1/+9inDgky64lCIIguEhGp0j4c3Tc137pys7opA0zMgqfU5kgsi4YEcN2PUVkfWBnWbiMCnvMyMTY2SIqWhymBMaLIVvocIZlqwWdyajYHqG88dqKcWzDND2X1ToObh3z80nWo2OdBoApNNV9BGV/ALczSxAEQQhHhE6R8Lw2VunKfkByWwn4mYDo9vKoTEhQDH2IWntmcZ+DLRD4ncmpGKExzIRjSzDZhmXA/hw1FdMYOpwwWAxFxJCvF2dYtufxMO3lAUon7FwKXWwltM4s2UZCEASBR4ROkaClq7wmaugQuTgt6ApOfMQRKFzM4XRv2aUrfisL2i0V5fVxMypMec2xH/72NhH2wD563dw6YTuccyUwe3sH+3hQ6SosM6QIOxd3XAnkJ19uxYQ7FuP7izeynxEEQTieEaFTJNTjiDUjF97zfTt2eSNVcLqqB5u/lYC9qaed9Ymxe3kcrw8TQ48FTT3ua2cWZ1h2wGdL7NIVtNf2vdiDEIMyQ7YYsgcP2kKDM0xbMSGDBxXclhhWjCF03N//36MvAQD+bckbRmzQGoIgCMcTInSKhHrIJElmJpGAV7tSmQk/o+N/PuV19Lgxno+HKUtx3hL6kGM7s6x1mDJZDKMzW95yzIc2a6qmWR+rM4yWruzzuZmpCI+OwwumMI+O44kqPVvEZ1TCuq4STAkysL1cj4kldOxNRRU3/7YZH/vBMnT15th1BEEQjhdE6BQJz1ScYEpXhRhautIfbimSLfAeagEt3/S1VbqhIoadtUMFiz1rJ5+Pzujk87ZAid693M4euaUz874AuwzEZmLINbJbSYR4jfwY8/xcC3jYHJ0405MV1DPEoXfPcZuKKn7//F/wxs4D+NPr7/ILCYIgHCeI0CkSdB6OYUa2xI/7GWPjz1SCXcc1I8M4ZvlvHPvhZ/lv8nYnFL8Ok62JIWIsMURFTN42CNPd3PN56r+xBybSbI2XiaEDA9kSmNkJxXlkaLaGzeho56L3mSSZOXUfOkqw9IS0qSsMoUXGFHDoO0lIKUsQhOMRETpFQj2P6BydVDI4o6M/sNLEo5NiSldcJojGKOJs/Mlu08AIlMgYh2wTwYgh6snhJiOzgonLHjm2iKADA7lykXmN/DYRdHuJqIxO4PTk0Fk73OagAUKHWSdsp3O19ivb2nHunX/EwtVvB8YKgiAMREToFAlvjg7ZSoCbo6OMx73GwDozxp+1Yw8VPKzdy5lsTZRhGLD3zHIcOzMEJ3zDTO8aDY9OwMyekNKReyyGYTkfJGKCMzrqSxM264fb3iHOrB0q6LwyZc68Ho6+ztpR13jrf7+Adw90458eecl4X7I8giAMdEToFAmrdKWVqbySgyd0zM9wn9MzOupBqcQP2xYe5b9hRAxrRrbWiTPXxxQ/DuwYxxIofAwtXdkxZsmLy3LQjE7QwEDOVGxndGzzDLepqMLbAoJpgfdgMkN9mbUT9r3mOvoUX334RXzkX5/Bga5e9lyCIAgDARE6RUI9V7idymnJg8vMeOUMx3ztigb3mOfjoQ9FpnRlz9Fhsj5MjL1NhB1DP2ftY8WVnJgYbp0cKYFFTXhWb4ftYxW4TQQ3VJD6iFjBFNxRxWV9bDFkxwS3l9vnsjNz9uagnHB6aG0L3tl7CI+9sI09lyAIwkBAhE6RoBkdveuKxiSJ1yaR0Cfqug8tv73cn+USlNFxRYx5PVF7Tbkx0WWpKK+Ne/7w9m7u/Hy2xjYDR01hDtrHimtTjzNHh5bAODFEBZMuUjjDOP0aKqHbE6N0xRmvLeM5UwINq1DpfyZ37u8M9fwIgiD0N0ToFAn1YAkXMXxGR29BVw+tpF66IqKJm7UTPfXYFkM9RAxxRmN7409efFgbf0YIlOB9tYI/4x6LN+gvzhwdOvtHj+XOFSSY9EuMYzTuyzYRnGCyZiZpMQmSUeRQOmfZ67vwoTufxhf/8/nAWEEQhP6GCJ0iQQ3DeinL2uuK/k_s/pZW3rPZyMO3lxMdDswr6uRQOmM6sGNtExMnogBxjsz6MQInqHuOuJ15GJ8bGnw7vtQnbBT0oo0PFII2xLDqHuU2E+l8ro2OUrvgYHSXG7l32JgBg0Ybt3nvvHujCi+/sC/6wIAjCMY4InSIRNkcn6ZmP3d9T5F/diYSdCeBa0GlZTBdD1jBCrnQU0XXFiQ92Xy1GfNBdx9lhhI4Zw69jlnPYLSkiDLpBZSmrdZ3d+DO4e0x9Pke2d2DNwLlgH48vWGOUrpiuq7DuOV8MBSsdbtaP4tw7/4jLFvwZzS37Aj8vCIJwLCNCp0ioZwYVLG5GhxcxRkxAe7n+MEqTB2TYUEFuP6qoWTtgYmyvDbfXFfXEcPNvbPMt7+Mxz8UNNaSZEHt7iYDtHUKHCoKJ4X00lo9HFzpJJoaWrmCfK84WEEHt5X1tQfcN8/Z76nMr39wdvIAgCMIxjAidIuHN0SFfYdej4/5/0MBAtwXdjOG8Hv7O6O7rtF7eIgKJ61aySx5cDBVDjKmZxFC/S6D/hjy0o4YR8sMJbR8NvS8qqlgfDyO8rJjAMlmM6ckhpavDHRgYpwXdn/BMhab/Wvl4wmbqqBJYZ08Odz3+KtZu2RMYKwiCcCwhQqdI0IyKQvfoWBOOtYwOiLeHy8wEZ3S0oYJhpSuarcnZZmRqN6Ht5bxAMR/mjmM/uB3YD39uryu6MzgnmGwfjX0fsdrLY83RiVrH3giUO5eOEqw9xr0GZXTstSncVhKWqVxbJxWS0fGusRBzz9I3ce+yt3DNT1YGBwuCIBxDiNApEvokZB1dxFATsbeBp7ZNRC9pL+d2r2aHCloZneiOqjjTk+N5fei5okte1NuiYqLMyDQm7/ji0DxmZ3TCOqqChwpGx7DzeMJm7ajjcdrLY2R0OMEWNjOJm+NDUX+M39h5wHovn3ewv7Mn8LOCIAhHExE6RcLL6BChk9DKUgp7h3N70FySGI8BIJ0igsnY4bywNtkzS5+rwu1RRe/B3gIiOutj+2j4rE/UUEE768PvcG4PB7Rb4HmPjjmtmCsd2T4iW0T05ILvg/XxOGaZqC87nMeK0YVW3rwOLiZe6Sq4Tb3x1+sw4Y7FrAgSBEE42ojQKRK+R4cpXRGlY3dm2S3o3qwd7UFDRYyalKyLGJoJUpuFctkRa+oxk/WhLeiAXWaxZ+3YgwdtE3F06zjNlqhjdBhg9KwdW8TQGHXbpt8lKCZvxPTV+EwzekC80lUcMaT+vFARowvWOC3oXNef4unXdgIA/nPNVu9cq97ajV37u4IXFARBeI8QoVMk9C0fdJJJO6NDTcXuxp98WUp/YKZI1scTMY79OS8m5f/rXT3Y/NKFPf/FzugwYiSqvAUuE8OYkbmMkmU0pmLMznLwgwftLAs1TPP+m3xgTM6Loee3y1T0c1yZKGybiL7E0EwV/ZwbEy78KPHm8bi/L319Fz7x01X4yL8uCQ4WBEF4jxChUyT80pF5PKmJGIUSLOqhanRdEYHCzdHhZu04jhmjDyMEqI/H3j1drWMPDGQ29YwUQ8znQH0zdgmMKzlFi5h4HV7uvQR/LjAmQiAET2E2/Td61strQQ9pL1cioieWR8fMQgG2cZmb2WOLSP91gpRXOZSof6aQ4enssYWzIAjCe02fhc6yZcswZ84c1NXVIZFI4NFHHzXenzt3rpeRUL+mTJlixHz2s5/FqaeeikGDBuGkk07C5Zdfjtdee82I2bt3LxoaGlBZWYnKyko0NDRg3759RszWrVsxZ84clJWVYdiwYZg3bx66u7v7ektFQT0kkqR0ldDKUgovo6OJkyQpVVEfh7GVhCqTaQKK7nBulbdgd2bFMSNzYoh+Lheje8sWMQG7p0eUpRzHLKdx5mjHsefhAHbpjJtefFgxkefiW9DNjioqdNT3MUbpihFMYd9HfysJsg5zjUHzfQD9z7Edc8/SN3H+d5dg275DgZ8XBEEoBn0WOh0dHZg4cSIWLFgQGDNz5kxs377d+/X4448b70+ePBn3338/Xn31VTz55JNwHAf19fXI5XJezPXXX4/m5mY0NTWhqakJzc3NaGho8N7P5XKYPXs2Ojo6sHz5cjz00EN4+OGHccstt/T1loqCl1Gxuq5geXTSjI9HqSHaXq5vDqo+5mVrjIGBVMSY3Vt5TURwwwjdGDs7ErV7OBcDRjDRUpUDPibeflgkoxKxm7ry9eini7dNRLysT9S+Wrm8LQ6BiBZ0b+NPW0RRehjBFNYZF6czK0WmeXOEtan/S9Nr+Mu+Q/jhH1/3jr2yrR37Dh4b/zARBGHgku7rB2bNmoVZs2aFxmSzWdTU1AS+f+ONN3r//773vQ/f/va3MXHiRGzZsgWnnnoqXn31VTQ1NWHVqlU477zzAAD33Xcfpk6dio0bN2Ls2LFYvHgxXnnlFbS0tKCurg4AMH/+fMydOxd33nknKioq+nprRxQqNBT6ZGQFjdE7s4Lay1PaOp7xWCtv0dJVjrzWO5hSKTujACgRY95X1BRkgJ+1EzXHh8v62CbiOEZjvnuMPtijurd4/w0vEHqJiDE8OiqGbBPBZX2o8VmHduHR/9fJMdkaGsrN2qFfE10w9WWoYFh5S731Qss+XP7vf8bgkhRe+eeZgfGCIAh/LUXx6CxduhTV1dUYM2YMGhsbsXPnzsDYjo4O3H///TjllFMwcuRIAMDKlStRWVnpiRwAmDJlCiorK7FixQovZvz48Z7IAYBLLrkEXV1dWL9+fTFuq0/4Rl87o0NrV3aMvqmnGaMeXPqEZTqPxxgqqERMTgkmvesKxjE6e4cTMVzrdtTgQQf2QzmXN3dP5wYP0nbyuKZmbqf2sCnI3Pn7NkfHHOLHtXfbpmbbsEy3buBa0LntHSic/yZsh/NAH4/egh5xTiDeTulKDC0p+HgOdueM98MM0YIgCIfDERc6s2bNwsKFC7FkyRLMnz8fa9euxYwZM9DVZbaa/sd//AeGDBmCIUOGoKmpCU899RRKSkoAAK2traiurrbWrq6uRmtrqxczfPhw4/2hQ4eipKTEi6F0dXWhvb3d+FUsgjI6nEfHzvrAyvoowRK2H1asFnRNxKiHn5UtYiYsK+yykP1gYzuzGKGjE+StoeLD3o/LbvlmBRPxyHADDLm28LDPca3jwdtEmMcit5sg5S1uqF+QoDCyNUEZHV0MeTHBgtXxYtlTAtDN8MExyZDM0IIlm/DBby7Gph37gxcQBEHoI0dc6Fx33XWYPXs2xo8fjzlz5uCJJ57A66+/jkWLFhlxn/rUp/D888/j2Wefxemnn45rr70WnZ2d3vu0Mwlwfzjqx+PE6Nx1112eubmystLLIBUDWjpScB4duwWdm7VTECyagFJiSD2QuBZ06r9Jc6Ur8jl9zyz1uQwZTujdJ6I7s/J5rixiixouExOr6ypSxNglqDglMPdegj+X4wQKcy7A7oTqyYXH0HPxQwXBwl1jqBmZuQ/A/B4FeX104pSukklbjCvuXvw69nf14p8fe8U79sSG7Xh1e/H+QSIIwsCn6O3ltbW1GD16NDZt2mQcr6ysxOmnn44LLrgAv/vd7/Daa6/hkUceAQDU1NRgx44d1lq7du3ysjg1NTVW5mbv3r3o6emxMj2K2267DW1tbd6vlpaWI3GLLEFzdHSBoh/TYYcKkn/R66Ur9VyhWR/3cwHZGi0uTTw66YLzVDfx+mKIEzHmtdKsjxtHHqK9zJYUMcRHHIESZ2AgJ5ii5uhQEzEvhkhZKoap2ffxmGUpvUzllSljtJfH2b2c8xrZpStzECLAZ8v8a4xfugrL+qg/a+vf3oN/WPgcZv3oT8HBgiAIERRd6OzevRstLS2ora0NjXMcxytvTZ06FW1tbVizZo33/urVq9HW1oZp06Z5MS+99BK2b9/uxSxevBjZbBaTJ09mz5HNZlFRUWH8Kha+QDCPh01G9mPs0lWSZGb0eTz+/B37X/2068osXZkxnEfHy+ioWTvME8r28YSLCP1cCmpOBswWeLUOL1CCdw/njrlZF3s/rqiMjuM4Ruu8V7qiQodMQQZM8UG3kghax8joMHuWBRmDY01YZstbRIzGaFPXY/xtIthTmjEhQUqcv7LNzuQc7O7F+rf3hn5eEARBp89C58CBA2hubkZzczMAYPPmzWhubsbWrVtx4MAB3HrrrVi5ciW2bNmCpUuXYs6cORg2bBiuvPJKAMBbb72Fu+66C+vXr8fWrVuxcuVKXHvttRg0aBA+/vGPAwDOOOMMzJw5E42NjVi1ahVWrVqFxsZGXHrppRg7diwAoL6+HuPGjUNDQwOef/55PP3007j11lvR2Nh41DuugGAzcoIROmFmZAVtU08l7W0i/DKV/zD0OrHy5LX2ILW2iTC2kiicj8kW0XUUlhnZYTI67J5ZdibGKF2B8/E4RkaJfsaLMY4x58rzAiV893L3d+qtiRJMuTzd+JNfp4cxA9MOL4445S3ODG2Vt1gfT/A6StSHl7eisz6JEMHU8PM1uPqeFfhNYbsJQRCEKPosdNatW4dJkyZh0qRJAICbb74ZkyZNwte//nWkUils2LABl19+OcaMGYMbbrgBY8aMwcqVK1FeXg4AKC0txZ/+9Cd8/OMfx2mnnYZrr70WZWVlWLFihWFAXrhwISZMmID6+nrU19fjrLPOwgMPPOC9n0qlsGjRIpSWluL888/HtddeiyuuuAJ33333X/s1OSIE73XFGI05wzIRNkp8GOvE6LpSx3o8H4+2TYR3jcSwrBlGqRhSD9+MJoai/DdcO3dPb7ioUec3BwbyYihHshx8e7lDPsMJNjMzxM/aMbMugN3lxJfAggWTt01ELvgaPR9PrB3Og3dKV3AeobDNWf3yVnRGJ87moPRcOp5gYq59/dt7AQD/tc4tO+fzDm76zXP492feCF5QEITjmj7P0Zk+fXroD7Inn3wy9PN1dXXWAEGOqqoqPPjgg6Exo0aNwmOPPRa51tHAy4Sw/hvz60enJ6e4/bCYrI//YDHPxXl0qGAB/H+lUxHjT0+2u7VyWgmsJ+ew3hrLx8OIGFo6AhiBwnhi7JKXOX8naGBgtEcnXIywMYX/D/XfxIgJ2lfL8NoU4un8G66EwwmUODG2iOGyPnQde9ZOeGdW+HUBfcv6PLtpFx57cTsee3E7vnDhacEnFgThuEX2uioSQWbkJFUw4KYn26UrbnoyXSrN+Ghol4u+HxY1GisRo/w4egxdO6PP43HMLI/t47EfyPZQQdvErAstdT1RGZ28Yz8grexInm8vt6Ync2UyI8Pk/k63gDD9OIUYIix6mZi/dgqzImzCsh8Tp3QVfn4aE68zK0bWJ2QrCX8d9/cDnb3We2s270Hjr9ehZc/BwM8LgnD80OeMjhAP9WBn5+hYfhvYMWQ9VV5ScG3q3Cafno+Hto47WrdWwOagelnKHzxIsj5aViGdTKInl2Nn7US2oJPSEfc5zrAcr73cFih2hxf16ESbqr2OKmLajRYofOnK3LCTH/xnChQuM8Z3S9kx5vXovyt6uK4rIj66exnBRL9u2usw/40ijqk5FZL1ufbelQCAtkM9+K/PTgUAbHinDUNK0zhlWFnwooIgDEhE6BQJr5zE7XVFYnkREy6GksyI5RTN3miZIerj0R+0aZKJ8dvLATUqzt4zy/f6GCbmHn56cli3jlqHNRrTLIcVEz0wkOvM4spS1rlYwRa+BURQm3qPdf7ofbXYLSlIZsgwLBe+1z3M+SnsXldWCdJeJyzrE9iZpZ3Lby8PVjF0lAJHnKzPX/a6G4juaO/EnAXLAQBbvjs7MF4QhIGJlK6KhFe6ijMjh3wXUiE7nIevY3p2Egl76wi2M0uVpUjWR+9Oou3lae1B4w8VdGPUw1efmUKFRY/l4+G3bjDbqQMyOk6wQFDn17UXl2HiBIrdgh49R4deI7eVhOPwe13R1vHILrA8vwt6jumWopjZoyARE6PrivERhc1ViuO/iWdqVucMDPH+Pry1q8N6r72zB00vbUdnT856TxCEgYUInSKhHgjsHB3Yx6yYiPbyZML2+1AfTyqpZ3TMrqu4s3b8+zBLV2nNsBw0VNDP+sTcAoLdXkJ/zRmNzc8Fi5jwjI4lUJh16DX64sN82LNdV0RY8AMD9ZiAzixaAuPm+jBlKQodTsjF9nWOjr9nVrCojSNQEp5gC47xRF0cMcTE3Pjrdfjcg8/hzkWvesd6c3mZzyMIAxAROkUiyIycYMtS0TGWGTnuhGVvh3NzHf1BG7RNhN7VQ43GXkxez/qYMRljHo/5Obt0ZZeluHk83FDBsEF73OfYzFDeHuLHDTmkQiOfp5uT8iKClqW48pI9eJDx6Oi+GWsd93cqUKjwoPfmZ2JMEccNFdSXchyzM4wTQw4pr4ERKPT6uHk8doz/5y8ohsseqZhVb+0BAPxu/TsA3K/rjPnP4vJ//3NoJkkQhP6HeHSKhPpZyWZrSGycjirbxxNvwjJdKMV0RlHfjrFNREC2Ro/xsj7EsOx6fXKG+EinEujNO0zpyhYf3UybeFQmhvP65PN2eevwtpKI9gzlAspbdpu8WZKj05LZEhwRWg7nI8o7VumK63DjsjWOY15j1FYWOSIOuXb7oBhdfOTyjpH55EpXubxjzJLiDMtWDCPqaYxX3nq3A1sLXVp5x/UJOY6DbW2dqKssDdw/TxCEYx/J6BSJsPZyazKyla3hOqrI6zhCJ5mwzs9mdNTUY28YYMGMrGVr0mSooG5Gpj4eaysJBMcouAc7n9Ghe21xGR3yOTDt3RGTmYO8PrSV3GqJZzNK9sOeK8HZLejM14jMtuEmTNNsEb3XHBVDjvm7tzZTljIECsnW+BkdmDG9TAwp3bEjEZjynheTsI8HxdBr1lF/PbjZRz/44yac/90l+OmytyAIQv9FhE6R8H0r5nFXeJCSE5v1oWUpc6FEInrCMmdq5qcnm74dM1tjHlMP1rTWXk7b0mmMLiJU1kdldNQlOw7T9RNDDNHMiwNuRo+9LQMvRkhmiOkeo8e6Y5iqc3mH+Ih447Xdgh4+eJGKI6AgGkg5iTtXD1OWonOEOP+P/j3K56MHD+bzpOPMOxeMGNOw7F+7HqPDla5ojL+vFgJj9LlSCvV9+Len3Y2I73riNe++PvfAetz463VS3hKEfoSUroqE+jEYa6+rw+jM4mLoOty5qBgC7HZeL0YTBDTr4/t4NP9NinZv6dtNuEv6nVl57zPdvXnLawOYM1rcc3E7nMfZ1DN80F1QDCeYorvHYD1NWYESIeL4rA/dI4vJTOWjs070c+q+9We3my2yH/5WtobruiKZGG7CMs3EcNO89etxrzflveZ2SqfZGjpugVsnxYihIIPzno5uNL3c6v3/iUOyAIC2gz2oHJxhPyMIwtFHMjpFwHH8PZI43wzVGuysHSpiuE09IwzLqST3OXtmj4pR//I2pyeba/d4wkdNRtbby81sjWFG9kpXxLCsCSZbjDAlKCYTY7du25kYS6AwIiqOiLHFULw2eXtGDydQomb9kHViiKFc3rG+HjnyOe7BbpXJGKNx3hIx6nj0uaj/ht9KIixbw59LJ07Wx+vwYjI6FP24+txvVm/FxH9ejJ/9ScpbgnCsIkKnCOjPDTZb04duKYVtWGYGD1JRE8P4rAsmdd10gKB7jGz8yWR0qKnZHzzoP7R5wzKfibH9L4zQgX0sqnTFxzBm6DhiiG5OyogP97qDW9C9ayRt4Zy3Ri8D5Tj/DZOtsTdZNe9fmaHN+wDbdWWWnPhWerN0FZ31oYZpbiuJoGyN4fUh98mKGGsd+7OBQocRhLc/sgEA8G2tTX1vRzd2tneyawiC8N4jQqcI6P/qtbI1jNGYKzlZ3VIxylK2j+fw1qHGY/eY2XWlsjV6eSvMjOy3qZulK2MX9EKMuh7qf9E/p+jNmzuMczGcaKAxXNaHnt9xYHU52R4dPjNlCARGsFETMZ21w63NmqGJQHEcO6NDW+mp8RhQreucYdkhn7PLUnRaMmdY1i/JKm95McFfD5WF5GYNKbgJy/TPAR2oya3jfTYXvI7CcRxM+tZT+NB3nkZHV693bMu7HTKjRxCOEiJ0ioD+8yyWQGG2e7BNxEnymumoSjHZmojsUVjWJ7wF3c7EeGZkz3+jmZEdUwz583j8+/LET9KcsKxjCZ0YYojL6HDZGmo0trI+TCaGL10RwzJ7LjuDYooYpi08TzuhGOMzEWxUaHDHuMyQVQIrfP+sOT5sjJmt4fbeohkurgRGd2o3Bw+af9ZUjI6K0b/+QYZlTrAp1J/r7lzwOgr9a7+9zd2C4v4/b8H0u5fijv99mf+QIAhFRYROEdB/4LLt5Zb4AImxRYwdw4mhaD8QJ4aiBBPgZ2Kot8aBbVj2Nv7UzMh0k1NvzyztXHTQICdiaAaDE0N0/o7j2HFcJsZamwiUHNd1RWL0zFTQNdKHtjpGRUTUxqdB65gPf76V35zjw4sqbnsH0zDNbwFBy2vdXEyYYCp8noqPbkPogI3R8UVMcOlK6exuJqOkSDFiKCijo8eo0tl3m9yurV+vfNt77/Ud+7F2yx52DUEQjiwidIqA/nOS89/Y5aQ4wwDtGGsdq0wWnT1KMMZnes36MTow0MjWeGJIZWb8ddTDzzMs95qfAbSMTtrM6GQ0MUQFSpzyFt0Tio2JYUbmPEK8YImOid5ri/cR0a4rbsKz7X9hjM9RhmWmlEbvhSu3AdzattCgmSk+o2OKGKMFnZmwbQmdJLNOLkDE9AbHeJul9upfV7DowtfvHrPFeP0PluGan6zEtn1u1qezJ4f/af4Ldh/o4hcWBOGwEaFTBAyPToy9rmgMo2EC1vnrTc0pTgwxQifjlaHUaz1bY65t7GZewGtLJ2JIvx6v5JVMsq/dY8T/wmZ9oj06cTIx3IycqBiunNRlla5swURLTtzgQbsFPVoMBZW3TIHCXA8tOTmOlfnhYgBTWHBGbBrj3oddgqL3Qdel6+Ty5nYXtJSqX6OCFUwBxmf9ex2U0eGEd5DnBwBaCtOYf/DU6/jSQ8345H2rAmMFQTg8ROgUgfDSld0WflgxjKnZKkslEiCJIE9o6DF2m7r9x8Ly9mivrYwOmbAMaG3pAZ1Z5ud4rw/g/8s7aM8s7hjfdXV43pqo0hknYrgMU9Q+XvTB7p/ffGhzXVfURMyakckwQC57RTuzWOHFdGZRMdTNiAia5eFMxbScpH8/uAwTncfjeXRilLe6czkthjcsc+enGDFeS74ZYw7rdNf+wwvbAACv7zjgvffo83/Bvza9JsMJBeGvRIROEQgzI8fx1rgmYhMqPlwfT/g67s/niKwPey6mdBXi46FmZC5b43drUTGkl7d4wVSiiyHi7eH+BW13S3EdVeEPbSBIxBDDspUZivbxsNtd0JITl/XJ0/JWjNIV57/hzMjUsMx0ZnHXY/hvHHUvRIwxQoNmYnoYgUDb0jkxRGP0+/I8Or325xQpNsYI4f1AAeIjjhgyTNXMpHLFl3/bjP9Y+qa3AenO/Z347APrsHzTu+y6giDwiNApAk5YRiembyaqLZwtXbFDBaPWsa+RZn3cAYbhJTD3c7wZ2TxGsjV66arXFDG+r8cuXXlt6r2mZwiwhYVbdjGvlW9BJ2KoN2e8jtOCHs+jwxiWqRhifEXUI8Rv2Em2d2BLYGBEjP01o1mXKD+SJ1B6iUBhtokI8/p4xueQ83tZH02g9BLhxZauyNeCG2UQ1HVlmJGZTKIbEyyqFF2Mj4d2jOm0HeoGAHzt0Zfw5Ms78Omfr/bec0imSxAEGxE6RSAso8P5bw5nqGA8ERNjYGCM7Sa4c1ExpK9Nu6cAW7ToW0AofBMzjbF9PNY6jNfHe91rP0T4TExERidvP+DsbA0nmGyBQNeO6p4CbE8MW5Yix+iQQXWMzuOJamXnBiG63h7Gf5M3BQonIiwzMpMJoZ/jykL2PCD/tfoTEdaCHkcMeR6d3uB1FH0tb3GbilLUP0S27jlkvXfjA+vxwX9ejL0d3d6xd/YeZL1rgnC8IkKnCPTVo8NOPY4QH1wM9ehwu5fHKV1xHV5Bu6Cb57dn/ShoqYoTQ15MOkE+w3RmeT6e4BjuIUZjFNQQCwRt2BlRlmJKPNY6ebu8xRmWo8zI3IadnIjhtokI62hS57cnLIcLNr/riq6tvwYfk7dFRKhhmStdWa31tmDqPQzDsvr7Stfh6GuM+ppxJUh6jdzAwade2YGD3Tks2rAdALB04058+F+ewd//eh17bkE4HhGhUwTUD1h+z6p4GR3bf8NMPY7Y4TzFiaGQLSAUGS6GXDNnWKZrm94a4uMhG38C/gNAHesmosY9RkpXTNanu9cUUbyPx37404dNnG6prgjDsHuNnIgIF0PcoD/6OW7qsUPMyFzrOFdy4rI+Ue3uNIOivob6rdHOMF98mMe6WcEULOqUGOkm/hvzM+7vlh9Ii1F/9rk5Pgrfo2OX1yhmRofPqnDZK7qcMTNIG+UQhPp79fPlmwEASzfu8t5bs3kP/mPpGzKZWThuEaFTBNTPI650xM2/sTI63ERjZh+r6M1B42VrrOwR270VbEb2jpG1uZgSIlDYjA7dD8vw+uTZddJJ/+vRS8pkxmwTpgwBxOyWYvw37DqRMYyPJ4ap2eq64gzCrIhhBIolmJjsERExvGAKLh3557cf7JZHyMiouL+HGpYDTM3scEJ9/g3J+qg/fqZAMW7B+3ulxwRla7h5QBQuo0NFjDkcsWBYDhM6zFYWimvvXYl/bdqI/33R7ew60NWLL/zmOTS91Bq4niAMJEToFAE/o2OLiATjv2GnJ9NMEC1dMe3lVnmLydZwZTJ6/gwVQzE7szJUIHFZH1K6YreAYLI13tA2K8bPFNFx/lQMqTh6DOCzI3G2bmD9N7S8lctZMZEze/J2BqU3R7IljDij4off6yq8vKSu0Z5jEy6YckHXw5mRid/FFAju/1senTjdW8ysG2oi5raSCJuRk2T+zNDsCCegA2ftMIIt7M+VZ1gO8/GEdG8ptu52Z/b8eMkmLHpxOz734HrvvZ5cXjYiFQYsInSKgPezJuH9x4P333A+HjOGZks4wWRna6LPxZWl2Jk5EVko7nNU+HDXyBmN04yI8Y2lpo9HHypI24mpGMqkEtY4f91ATZ8RXLeUZXSOmIcDAF09MfxA7HYT0V4fbh5PVNbHLl0hMuvD+ZOsrA/JuqgYzuhLBxZGlq5oWSqgvMVNLzZb4E3B5E89zlufU7BdV+TrFWdLCkUXkxmyMjqM8ZlmdEwfjxnLocRQa5staK67dyU+9J2n8dJf2gC4AvnpV3fgnb0HA9cThP6CCJ0ioH4A8R6daGGRZP03djkplv+GTkamhmVuHSYmqgWdvcYYWR9j1k7h61biZX30spQtbPTXemeY5+1Jm/9aT2nlLfUgodtW6BxORofLfPCm5vB1nJgDDLksi5lBsUtpdNAgJ5j40pXtGbK6pxivT18Ny2qJvhqN83l+z6owjw6XGerN56MHDzpU6DAxscpbfEaHi6F/RNnyVkhGJxWS9Xlu6z4AwO/WvwMA+OOrO/F3v1qHD//LM4HrCUJ/QYROEQj36PDiRyfO/lNcyYkTTFFDBfkNROnr6CGHac7UzLag086spFWW8kRM4cGuXyMdIqgeWpwYstrUtayPekiUpG0fjxJf3ODBWJ1ZMUpgUetwnVB21ie6M4vLxNB5QLxgCt+CgTvGDR60NgflDMs06xMgUCJLVw4tXfGZIb6V3fx66F9rKo4B2HtmFYK6mLUpnNfHMiMzMWFmeX/vOfaUbkyMmT3q78ef37CHEv5m9VZc+uM/GSWutkM9oeJKEI4FROgUAdOjQ0VMjBk5XNaHGTxIiVcC63tZihNDNDNz+D4ee5dpf2Cg/9oSQ2SHcz1bE+T10bM+NEZ/0HHiByh4WyI9OkxnVgzDslXeYtahXh/aYeV+zp5oHEfEcGUpYysJxjNEZ+twQpAb9McLJi7LYpaluNIV9fZwPhoqkKJFlfmZOC3o/A7n0UInTnlLeZbCylvJGCKGdjxyqL9X3LYTtz+yAS/9pR3ff+p1AO4+XRO/uRjX3bsycD1BOBYQoVMEPIuOrSH4Lqc405NjiBh2uwkrW8MZjWl2pu+7qacCMkNRZTFdoCioiVjP+nQHCBS9Td7y8fRqWR9iGlVlMv1f+VQgqevhSk5UxHAlJ1voMDFMZsjaqZ0pk3FD/Gg7t7Uzed4uA/GZGCo0bBETJaryxP+TY3xOVAzxc3SCBIrp9WH9QORzhvE4Fy2Y1N+P8J3SzT9X6po54vh4uHk8YZ1ZfZrHEyOjE9bhdajHFdxqf651b+/13luzeQ9u+/2LaDvUE/h5QXivSR/tCxiIhHVdxemocgVSVFnKjuE9OgiNcUtgJIYRI3ZZKlrUqNKdY8TZQwVplL4zOuC2AFtlqZBsDfXf6DGO5/8olMBU9kZ7aHjzd5QYSifRncsbU4eTCfchHqd1nMv6UEHQ1WN3ZlFhwQkm+mBjO6xIjF26ihYf1JysjpkbdtpeJ2pQZics5+Jka+j1uL/T7Ih+iVxmyJr4HJDR4UQVPZfp44G1Tryhgnk+po+dWYExho8HbIyO+vkQ6vWJaGUH3L9r375iAg529+LyBX/GlPefiG9dMT5wTUEoJpLRKQKOJ3RsMRLHaMx7a+jruFmfGGUyq3TFiZGoc9mCSW/5VpQwM3qisz5Jq7xl7XDOeXRSpojRZ+2EbSVBfTzqXLl83nuQcgIJUBmLCKHDlIosEZNnyltMDBUo/ABDIiy4yciMiIlsU2e7rsLXCZy1Q67HYaYudxPBApAtKGJ4fXotwaREjKPF5En3VnQJjGsvj1eWiuHjyUULnaCsj14S9QcPsqc0Yg7X1Kx4u9DK/tgL27Fp5wE8sOpt7703dx3AgiWbcKCrN/hCBOEIIhmdIqD+/vNzdMyMDieGUqxAsdvL4xiNozw6/DYR5mdY4zNbpuLKUma2xtowlDk/NTGnNVGnfrhy2RoqYrJpEpNKIJGnIsb04+jiTM/ouOtoPp5UEp09eW/jz0wqgZ6cw3dLMXN0oo3GdgaFy+jEaVO3Nuy0OrNitKlzk5oZr4/VdcWUpeh9cVkWfhBieOnK3QGe8ejQmT0R+2q5ZUP/e6aupYcIC67riWuTp/R1P6zA6cmMj8cyLGv3oX7OUDFkbkKs1mMvC0C8Epgn/JiFLv7+s3AcoLW9E9++YgJ6c3n87a/W4Yyactz28TOCTywIh4lkdIqA+gFAH/yA3YkVVN6i8PthRWRr4szIYdvdmYyOVW4zhVZghinCj5RO2oKNK4sFiSG/64rL+nAx7uepiNGFD/3XOWdOLkmn2HPlHcfqyDmcrisug0LLW1yXk531sQUKnfUT1KZO/S/cDuc9JKPCeX3CJhx768QyLDP+G1IW0zMxQd1bXZxgIhkUurUEQFvZzfug4lj/nIIa4bkYBefRsctSthgLFUMOv44uKtMxREysrE+IOVodWv/2PgDA8jfexbLXd+HeZW95Mdv2HcLP/vQW9neK10f465GMThFQP/v5VnKa0bGFRoITPzEEij1U0M7E2Bt/wrpIfo6OeS4v66T5kbisj/65dIBgsqY3M5uD0s+VpIMzSrTkpB5Iac14HTQ92ZzHY4oY/QFZQnw82XQSB7tzbjkpr3l7evN8WYr+y5vpuopuZbeP2V4f27dDMy9BIsaetWOLmMgWdGs4YUCGKdLUzO+HFTY92Tcam1kfI6PDmJEDhxwS8UGzQIBdTtLNwJwYitWZFSBQuBJYqI+ncL1hnYN9ETFhhuV4JTD3907yZxYArvqPFWht78TG1v343jUT4TgOPvfgetSdMAjfmHNm4JqCwCEZnSIQ1l5Ou5wYy05B/NiZD50E09LFZnSsGG5nchITuyxFYsxlrHvlRA3n0aGbiqZDMjpeTCrYf8MNDAztzPIeSO4PYE8MGRkdM8ujXutZjSwpi+n/WrZKV6S8xT3s7QnL0RkdTnz05vPQn1F81scWKPzGo7S8xYkq0+/S3cuIGJKJsdexhwwC4XN0gru3wrM+lo/HEzHkGpmsT1iHF7dnVqzSVWGNsPbyIB8PO4U5JCaOiAnbTd1aJ1aM/V5rYVbPsk3u5qQvvtOGJ1/egfv/vMWL2bbvEP79mTewt6M78ByCAEhGpyj4AwPt9nKareFEDZ8Jii7nsB4dcv4405OVQPK6noIyMVq3FJ/RMctw3EakcUQM14LOx7hB6rqtjT9TWtbHay8nhuWULYaypLyVSGgD4nKM0Cn8cC9JJ4EuUwz1dufY0hUVMY7jWA+bOB4dNiaG14dvUw8vS1lt6lzWh3pi2IwOFSPM9hv0XMzgwcDyVogYYgcG5mMMJ8zl2UnJVKCYu5CjcK4YGR2udBUidHwfT3RM2DrqcqiI4drUQ308qRhCJxktqlSWWs/6OI6DRCKB6+9bhS27D+K5t/fi53PPheM4+NtfrkVZNo0F158dfHHCcYdkdIqA7tFhS1f0NSsiTPj2chJDs0fU+cyuY4sI1kfEGqbNdTmPjp7B4cQZNzOIL12Fl9e4spjvm1HrJK2HTYZka4zpyZYZufAZJoYbPEgFklpH3/xSHYs1VLCXyfpYIsY2PlNPDC0VsOKDtqDn7RjHMR/UXLmNlsWCRIy9mzkRVUwXVtzBg/RhH2dzUE4gmOUkflKyVd7ifDxEHHJw56d6IJ6PJzqjE8fUzA1Q1I3fdMAglxmyYph17PlEsNZRMVsKnV1/2uROcd665yCe2bgLj7243ft7sHX3QXz9f15Cyx5/z6583h7LIAxsROgUAa90lYzuqOK3iYgxVJCLsbw1zIycGJ1ZtMuKE2Mpsns6J0aoiGEHCLIZHS7rZEJ3WGcNy2lbDFkt6Gm7vEVNo+GdWWZ5q5spb6lsjYrRJwhnSQkso/1LOCpbQzujAKAzhteHMyzzG4bScpKd0bG7ruxMAPXWWOswpStuS4yw9m73XuMMFYznv4naD4sOFVQioivkGjnB1Bvw0I2V9enj9GSvvEXEhy6OuTb1fN4x/sxwQwXpPXDlLXofXGaIimmV0ckbMbwY4r7Wn/r5Kvx65dv421+u9e730h8vx6wfLQstvQkDiz4LnWXLlmHOnDmoq6tDIpHAo48+arw/d+7cQibD/zVlyhTv/T179uCLX/wixo4di8GDB2PUqFGYN28e2trajHX27t2LhoYGVFZWorKyEg0NDdi3b58Rs3XrVsyZMwdlZWUYNmwY5s2bh+7uo1+vVX9/eBFBvTb2Mbadm91yIdzHw5WlLFNzku/eogKFy/pQMRRVlgoSQ1FlqVgeHW16sn6M3hctb2XZ0lV4Ried0iYsK8GSSRU+4z80qIk5m2F8PDTro3VvqYet+vrQ8hbnZbEyOoz4oBmdvAN2/g3dMJObjEwNuez05Bg+Hmp8ZmOsdcJLaYGDByOyNXHMyLk82NIVLdNxu5BTgUK78uwY+4HskLW5jI4rUPzvtZ+tgXbMiTQ195BrVH/PTIHikDZ1RsQE7A+mZ3QCY5xgwaT+nuvnUn82WvYcAgBs2nkAANB+qBevbG/H6zsOYNeBLgDAK9va8YmfrsR6bcLz7gNd2N52CMLAoM9Cp6OjAxMnTsSCBQsCY2bOnInt27d7vx5//HHvvW3btmHbtm24++67sWHDBvzyl79EU1MT/u7v/s5Y4/rrr0dzczOamprQ1NSE5uZmNDQ0eO/ncjnMnj0bHR0dWL58OR566CE8/PDDuOWWW/p6S0ccf2Ag11HFZULMmCQxGicYEcFnWaLLQnFKTtQ0zJauSJYlnUxGZqaCjc/hZSlWDDFdV9ZwwnTwPB5vHTKFmR8YaJaXjMGDBYFABZN+fuoHymvlnBJvbfeBpASTLhqyhVZ2tiwVYVjOsaUrruRjHuM2K2VLThFZFmtmT5CPh4gG3g/U99KVWxYLzij1Zagg3X8qah5PLsdvMkoFCjdQMqozK+9EbwFB1+ZKV71E6PR4WR//XDkimPIB6+hf1zQrUMz7TDECxRI6CU4M0XUS1vpBpSk9Rv0s+JtfrMaqt/bg6ntWeO9N/vYfMfWuJWjX2tvpeYX+Q5/NyLNmzcKsWbNCY7LZLGpqatj3xo8fj4cffth7feqpp+LOO+/Epz/9afT29iKdTuPVV19FU1MTVq1ahfPOOw8AcN9992Hq1KnYuHEjxo4di8WLF+OVV15BS0sL6urqAADz58/H3Llzceedd6KioqKvt3bEUH/HgjqqkhEiwtU54THs1GM2M2SfPwF9P64A/43+OkAMGfeRTDDZIprR4be2sERMkhMoRMTEMixHiyFbMCU9oRq0w3k6Ze+CrtbRHyx+yStnvNYFip8Johkdf4+obCaJQz05I6Y7l2czH7wY6nuM5eMhJSjAFiSc8OJEDFeWsqcg20LLmmPDlbeI+OAGGFLhA9h7VJkCwf3/0IxOIaNBhYUuIhyHMVUz90q/Rrl83vK39JIsCzdHJzBbQ0pObAkslhjS1sk56IYfk0pxAoWKGP9+9fvSUT9T9D8f9M8Yt1lpkCjpMr7P7u/vHjCrAPpn39lzCOPqMvjzG+/iM79ci29dfiauO3cUAGDVW7uxc38XLptYx55LOHYoikdn6dKlqK6uxpgxY9DY2IidO3eGxre1taGiogLptKu7Vq5cicrKSk/kAMCUKVNQWVmJFStWeDHjx4/3RA4AXHLJJejq6sL69evZ83R1daG9vd34VQyM9nKrdGRqn6A2cTMTwndh0QwKLW9xE5aTpFTFtXdzpStWVBkxjDmayfpYGR0qmBJcm7xvIlaEdV0FxWRS9vlLUikSE9y9xW0lYXVvaV4brzNLzdpRokbP+pBskVneolkfleHxxZD64a7+BW23oMeZ2WM/bG2vD5/RCfOkeMeijMbMw98aKhindMW0l3M7rvNlKZIJMdZRvipdINglJ+qH4s5P16av1TVREcNt0RFVcurN5yPby7nrUZ/11s7xYsg6lyaO1d+PXvJ11VEZnbDslfpzzQlP/1xujC7OablWYQo2Xgx16u32hfN/7oH16O7N4/8+vMF77xM/XYV5//k83iiUxXJ5ByveeFe2tjgGOeJCZ9asWVi4cCGWLFmC+fPnY+3atZgxYwa6urrY+N27d+Nb3/oWPvvZz3rHWltbUV1dbcVWV1ejtbXVixk+fLjx/tChQ1FSUuLFUO666y7P81NZWYmRI0ce7m2G4gudAIHSRxFDH+DcOkDArB0CN/8m2n/DbzeRtARTeNYpmeTLbVGlNC4TFKfripau4mV0EpaoKqHlLa1NXWVHaNYnxYghOldH/5wSH56I0QSB35mlylt6Zsj8nPpBrm4z79ilkU6reytmh1fEjB7eIAxr3yjORGwPFeRETHjpiq5NhwN6x1gREy206BA/W8TYWRZuKrbVBcZco5l5iI7hjMZB3WNGBiVnCpQgjw4nmMKyV+rL2UUEii5W1b9DODO0Ikn+saDfq71OcHlLYXqWAsSQ9vVQawcZwgFgZ2Hmz0+XvYXrf7baMz4DwD1L38TnHlgvXV5HmSMudK677jrMnj0b48ePx5w5c/DEE0/g9ddfx6JFi6zY9vZ2zJ49G+PGjcM3vvEN4z3uIa3mJ/QlRue2225DW1ub96ulpaWvtxcLf45O0NRjWpYyoeKH7bBiHv5xZu3QLFOcrBM7DJAKtoD2ckNUceU2xrBs34edieEyOlHlrTglMNb4bHVv+dfj74JuZmsyyaQ1qZnbSiKoBV33YFARozw7eS1borJFnhhSrexceStGtiaOj8fd20tfh9/ANHqoINPeHSFiOIHgruNfkOMwXqM8n2XRH2TUb8JdNxVM7tr2Xlf2sEbHEg3W1yNnZ3Ssew3IsljZGq4EF9Juz4kYK8OUsz1LtvDK2zE5M8bLePbYn/NiCn/PwsSQMiNz5bXQcwXsHM8JNmvbDO06lRhbuPptAMCazXu89/6l6TU0vdyKZ15zqxr7Dnbjtt+/iHVb/Jiu3hx27ecTAcKRoejt5bW1tRg9ejQ2bdpkHN+/fz9mzpyJIUOG4JFHHkEmk/Heq6mpwY4dO6y1du3a5WVxampqrMzN3r170dPTY2V6FNlsFhUVFcavYmDO0bF9Mwn62urEomLEFjXcjB521g6TrdGXYk3NXEYnyn+T4AQK173Fldf813z3FLcLOidQzM/FGTxor5NkxFCKxARfj7evVorJ6DAzc6j4USImpz18PTMyzfpopSu7vKWZmgvrlBYyQZ2WQIj26HCiIa6Px/S/RBud+eyRPdjOFkz5yPug1xMYw5WTqLfGyrL4m7x6n2EESqRgszw69vVwRmPOeM0Zli2BwggNW6DYQsM4lsuz2SP6Oa5NPUygpLnyVoAZ2TwXH2OUt8i5FGaMuw4dasiVt8KyNuoev73oVfznmhb8n5+s9N6b+cM/4dw7/2jM+uG2xRAOn6ILnd27d6OlpQW1tbXesfb2dtTX16OkpAR/+MMfUFpaanxm6tSpaGtrw5o1a7xjq1evRltbG6ZNm+bFvPTSS9i+fbsXs3jxYmSzWUyePLnIdxWO+vOegO1bsTuqYmRLmNJR4KA/mmWx1ibTigNavqP9N0SwMSKCip/AbSKI8IoSTAAnYpJ2JiZWtiZ4KwmF1b2VSlrCj40hP8ipqEkk/OGIXWQej5r8C/ilKnvwoFa6ypglsNKMlhki4kel5vVzUYFila7IrBsAOMQIBNYgTDM6XFmIlJNsT0re9hoxAiEqM8VlUOh9BBmdw/a68mPCTdVUaFGvjbt23t4pnf2aEVFlZdzyRMQEZGtiZHT0dVT2yC5d2R4Z2qmmxyjtQMtJZrZExfQxWxPQvRVWAlNwZToqYkw/Ei90dAO5usbXd+y3zrf53Q4AwNOvuv+4f3lbGz7wtSb88/++4sWsePNd/OCp16UEdpj0WegcOHAAzc3NaG5uBgBs3rwZzc3N2Lp1Kw4cOIBbb70VK1euxJYtW7B06VLMmTMHw4YNw5VXXgnAzeTU19ejo6MDP//5z9He3o7W1la0trYiV/iLe8YZZ2DmzJlobGzEqlWrsGrVKjQ2NuLSSy/F2LFjAQD19fUYN24cGhoa8Pzzz+Ppp5/GrbfeisbGxqPacQWQgYGWGCEdVaxvxczysHtEMfNvqEjgS17M/lPk+vmuK6YERj06ES3obmbIPBcVH+mUndEJ2mvLWCdlx9hdV/FKYHHa1Ok6WRKTSSasf+lZO6Vr1+NlazL2v2CDWtB1g6w6f6dXuvIzQ9THo/416nl9tAyK+prFKV3RGNp1pNaOyk5wWQ0uyxLdGWY/BOOImM7u8GwJd4186cwuFbFZHyqYIoRfLseLoTCPjL+O7UnpCjk/n/Uxr5kXMdSjY4uhnpzDlo6oQZibwmwKLeLj8cpbtkCx1tHPFaN0FeT16WS+ZnRYo/5nkesMo6iY+YtfBwD84s+bvfeuv281fvT0Jjzy/F+86/rZn97Cy9vazOuSTBBLn4XOunXrMGnSJEyaNAkAcPPNN2PSpEn4+te/jlQqhQ0bNuDyyy/HmDFjcMMNN2DMmDFYuXIlysvLAQDr16/H6tWrsWHDBpx22mmora31fumemYULF2LChAmor69HfX09zjrrLDzwwAPe+6lUCosWLUJpaSnOP/98XHvttbjiiitw9913/7Vfk78ac45OeMkpMAZ6TEBmyPiM/TmunMRnUMy1U6RVPKhMFmUipgItaH+uKI8OFRYpTUSYnzPPz8/RoSUnei6uM8sWVVFiKMUILyVY1A/GdCph/UuTK295/hslhrR1fBETVN7SSmCqdNVDxJAmIkoLx1SMN+GWExqcYZnEdOfy1tYFvEcoIluUt/0/9uDDwxND9D44MdSdy4fuq6WOmaKOK6/RzUDtcltvHI9ODOFFP9eTt1vgaZallxU6ZPAgkxnqIaWrHsbHQ8WQ5/UhIkZ/7WdF9WyReZ++R8cspemw5a1Ypatow7I6FxVX+p8r9e8pKoZ01M/cMOPzO3vd8tbC1Vvx7UWvYva/Lffeu+33L2Lc15uwpZAhAsLLaccTfZ6jM336dGumg86TTz75V31eUVVVhQcffDA0ZtSoUXjsscci13qvUbfHtY5T8zHX3s2VrmgMFR/qgUlLVxTaUcUZhOlls4KJlM6CdibXMzi0K8y7N+tcZgwnhuhKsTYHjVOW4sQQm9HhRYx3bkYwKaHBncsvS9nDAS0zslaWUj+sValKfa40oxmWe00Ro9bRy1t+CSyF/V293g/70nQSHd0548GeSiaQyzvshOUoMQJwIsZ+SB/qtkVMVAs8FQjc+XMkO8GdqzfvIEHFUDcjWJiyVA8REZb4yDHt5ZEihhFDTMkpKlPmrmNnHTj/SzcRBFwLOC05cR1NXcTvoj/oWa8P6fBSUIFkdm8x2ZpY5a0YGZ2ArI/+Z09luHK0/KvFqL/nVMToz0L18zHOrvAvtOyz3vvPNW6i4Kd/egvfuXICdu7vxCU/WIbLJtbhm5ePBwC8+M4+/PGVHfj8had5PyOOB4ru0TkeUX9OeTOweYy+78XQ8pIlIuwyFUAHDTLbO9BsEeetiSEsaAmM7lTOxdAhg4DdFu7+QGJKYHp5K2mXwOLscH64YijOdhO2R4cTQ3RmDyOGvO0m/B92VulKa0HvphkdkhnKaf4b38dji6FuUgLzxZAyNfsdRaWkJV6/TfqQoqIGYMpicQzCnBg6nIwOOyk6WlTFEWe9OccqC3Gt9GEeGfU5q7wUQ8Sw1xNiKlbrcPN4aLmRe/hToWWWpfh1uC4wq7zVa4ojIFwMxemo8szIjI+I0tkTnfXhskeWYZlZx/L6MObsIHEFaIMYQ5IFSjD9/E+bsfdgD3618m3vvcsW/Bn/tuQN3PvsWwBcoXXP0jex4o13vRjHcfDugYHVBSZCpwjoAwMpbHt3ZEbHPgf11qh4muWxDMtJmEbjhK3GaJYpyOtjm5ojYgJKaaZHJ0h40XPZgoleAPXopGMYljNxPDoxSlfcubh1aAmOzR6Rf7Fm0/bgwdCsT978HCeGqKm5k4ghwBZI6uE/SItR2RF1W4e67R/almjIxRMWlojqZsRH5Dp21xeN6c3ZYogVOjEGH9reGltYxBJDMUTMkShvqT2rqLDhPDLU/Mu2l+uZD+aagSivT/S5/L8fYS3o0Rkd9dc11lBBcl/cOTnBRkWMfj1pb5p0dEYnrLyVjBGjTNFPvrwD/9L0Gq7/2WrvvVv++wWc8+0/Ytnru7xjezq6LZHcnxChUwR8j47traG6gp9jww8MTNLPWZkQu3RFz28NAwzshNIzOpzx2Z4HZPtvOFO1eS5u762orA+XmYm1OWgqzlDBeN1bVKBw54oyLHNiyIpJJbxZIt5GpCFt6p4YSTOlq4CMjqOVrnyPjil8AN+AqT7HiaFOUjqj/hf9/N5rplRBBRI3+JDr+qL+n4OWGOJa0JkM02G0qXf1mn4kdh4PETZs11XOiW5TZ0QMfRD15vMxMkN5S1i4YodcT84UGgDN6PBbUoSVt7gY2inGeX16re4tJuYwylu+GAoWTApOxFCBYoqhQkxEdyN3Tn1dr8EhxNTs7TMWJoYKMZs1P4/i98+5hucFz7wBwB2IePa3nsLHvr/Mi1nxxrv4+1+tw7Z9/WPjUxE6RUD9+eLn6NiZmKjylleWIsKCZoYAZo+sGNkadraN/jqodKWLjxSNsMUY162UItkR6uvhrpHrnuJ2So8zQJGdx0MWp+KDO38sHw/tzGKEl8q6eDGcGMrYf20DO6qMzqyUGaNdD21Lp4ZlN8aczKz7eBRU/HR2q9d+jBIo6ra48tbh+HjYzJAldGKYmpksi5X1iRETlImJZTSOEkNxu7cOIzPEdW+ZD387W2PN2lFeH6NbK8+Wt+yMDnMuQ1g4AWLIPD9b3ooza6ePGR21jl2WYkpXVnnLvg/q0ekyTM3R2ZpUjMyQEkNhG5WqmGcLmZ2t2pyf63+2Gn98dQduf2SDd81ffuh5/Phpf17evoPd+MML246JTjAROkUgH5LRSRJlw09GtrdOALhBg+ZrwD5miagkFTEBMXHEUFQM5/Vh1yExzHYP1KNjt7Kb4oPz7HDenjiZGMtozHRU2ZkYe38uLiaqdJVJ2zN7qBjSj3mzd9K6t8YUNp5g0QUKaUunhmVAFzZm1qe0RCtdqWOFtdnyFjnG+3iiy1JWtobJ6HCmZvog7+g29yZyRQM1I8cQQ0wpjS1LERFjG42ZrSQOp7zFeGsOryXe9gwB4T4eruRE2+T/mvJWJyOqqEFY/zOkSj6dRJwZs24STEYnhkcnePAgk9EJ6czyy1vBYsgfWWF+j7j7CBVDcQRTjMzQ9n3u9herNu/Go83bMP+p1733bvjFGsz7z+fxL02vBX7+vUKEThHwzcic/4YO2uPn4ZivA8pSpCykxwK2sFDrRu1jlUxw65CYpB3DbzcR/Nr/nP+aKy/FFTG2YTlGRucwMjHc+a05OrF8PHaMXd6KPlcqmbA2dKUxgF5OMktQQHBGRxconTSm1xQ+7joko8NkhujaSkSkkwnvX5HU69Ody1s/cLkZOZH+m3xcMWQeo6KKy6DEEWddveZ9xC1LWXt2WZkhs0zlr0NLR2ZMD1NO4mb/UI9OL/l+BO1wHlZy4qYnB5W3aCt7VGaIZnSCymTcrJs4XVdhwwkV3CajtoiJNiyzMeSU+n34pavgbI0SQ6F+oD6IoQOd9kamL7zTBgD43xe2BX7+vUKEThHo+xwdE8tHE1SW0j7jtZfTc+kxnI+HuUZ20B+TraHnpwKFmna5B7s1j4c5V9rKQvEDBPsqhoB4QwXtklO0j4fz+nD+G7t0ZZ+LZn04MZSKOJd+TP1wC/XWxPDfUHHEfU5leErS/tfVy/qQjE6Jlr2iWR/9h7261Ti+GSpQODFkiRimfHPwMEXV4XSTcXtUcV1XNMsRx2hsl6XsrRssr0/OFjFWp1jO9voA4Rt/+h1VRAzF2pKCWYd4a0yBwJ3LIbNu7IxOYLYmpASm4LJXcXw8oWLIK5ORP1fa9cSZxxOne6svYkiPoeNj6M+vo4EInSLg73XF+2/0h2Kfuq6MBzltU0/YMYmAGL0tnKmvWVOPA0zE1NRs+W/ofXDrxPDWUKHFZTmsCcusGIqejMyVpeK0qdtzdOLM7ElGChRu4nOWzL9g29SZGRl0bf11kNE5G+K/OaRla3zxYYqfLk3E0AcJzR6VpJN+RkcJnUJZTM+6KPFzsFBy0n/Y0oc0V06iZmhLDDHlrYNddnmLmpg7SAzbBWZlhmwRQzcejSti7MxQ3jIRH5nurbyVFbO3gMgXurfMbATbgk5EVCeT0Yk1sydMDHHdWyS7R7dsca8nz8614TxClL5ma4I8OmyHF53zpP9DALxA0dflDMtBAoXunxYVE7Tp6tHk6F/BAESJbba9PJnA6BMH+68TTOkqSf04drbGyuhwPh4qIgr/b2c+wrMs/DUmiKhKgComq3uLydZQURVnU086uZm7Dy6jwokh3ldknp9rC7cyMXQYYKw5OlzpittAlJyLK5ORoFIuo0PEDzcwTB3zNwINKV0Vfrhm0v7XWj2klEDxRIyWBTsUlPVJJTUvBS+qEgn/+6E+p4SPXoqggknBZTUOMR6deGIoPIYTKDQzxO5RRY7FNSyzIoY82KPm8XAD+6iI4dZhy1t5x5gmba3D+m/4/bkMYZHPsw//sFk7fkbHzPJwG3hSgULvlcbEMSx3x8nWFGLo5GfOx0MFCjdDiAoUI+ujfDy5YIHC+YHovXKCicYcAzpHhE4xMMzITEbntOoh3mv1kKeZFz3d57eXJ4yYJBNjd2b5cKWrhJ3Q4TMxTEysjA45PydiTHHG7P1FhAVbliIxbIcXV94ifwPi7ZTOmIgtUzNnImbay8n5uTJZdNaH68yK3nGd696i4qeE2XuMbhNRom1loTIWKuaQJobU10zF0LKUXrqiPh4larJa1kd5e3xR5f+A9bM+/toA36YeR6Bws3aiTM3c9GguMxTZTcYKCzrROEDE5EwRwWaG6OA/rsOLZkuYqdRRmSHbN2OLD8uMzOyHZe+mbsf05Gjpyv2ZTM3IUdtfuKKKKW8xIorCdl1RgcKU4PTW8Tz5M8SVt3pyjvHnk8sM9eRMcRgkYriNSHtDRQwT0ysZneMC9WeFnZGTSOCUYWXe692FCZQ0WzOqSsv6MALFmnAckK2hosY9l5llscQYkwni5tbQjBLrm0mar6O8NdxsGXp+t5XdLktF7atFy1Lcw58TDbwZmazNbOoZJzMU3YKetEtXaVuMRPl4XK8PSEx0eSuTZvw/2rRkdc10l2mrvMVka2hZSi9v0dKVEjVcZmhwiXkuY+0eV1go4aN7W5Q45bIsVumKETFRAwy57EgH4xmKOhff8m17aw6vvGWXgaLKW66ACheHwZkhcx36sD+cWTtc1oeKqh5OVJHMEJdh6s2ZJUolBGjJiYodxzE/x7WgUyHsbSWhiQ0qtNQ1mltp8JkpvaTWQ7JX6jqoQNFFr9+CbooqHRWjCyAquMWjM0DxPTq8/0Z/wGzZfdCLVaQSCYytKfdeq79cprCBmdFRpSsjowPr4a+O68eS5DP0XMFTj6kYIvfK+m9ITIKLsUtOZkYnaI6O9jpG91aa8bZw98r7eMwYmtHhSmdxTM3swEAqYpgymV1KS1kxXGbI+hx3jXFEFFnINzW7P/Qy6YSWrVHZGWJG1kVMtymYDhYES0k6ZYuhjCmY9M+pY0oM6Z4YKrRUSY4VOl228ZmWtzqsGNt8zHt9yDrcPl+0W8raMyu6dZwfKhgzM0REDPUn0e4t3tRsb/zZkzOHEwaKGOs+wjND9Osa7OMxhQ9gl5P013nHFqe9+bwxe0fdm/45rvzl+pG0r0evLYZ6iNDySmA5U6Dwrezm1/oQK4bMtc2sj/LrBZfpaJaWi+H2OHyvEaFTBPJeRscuCw0dXMJ+hoqYkUP9jI4a1KSLlkQigfed6GeGuK6rwM4sWt4iwkcd12PiGI2juqW47i36kI4jqoK9NTEEE8x1uK0kqPCjf1HjdFRxpma+vdy8V35gII3pe3mrhMkMZTjxw5Su6PlpeYsTQ6UZ+/zqz5YlNAzDshtvla66/dIV/eFaSszJesxBUt7SfyAr8aM+N7jE3eNY99+o83cQ4zOXHbGzPtEZnVzeLgPFEUNxy1t9LSdxZm3OW2OJIZpB4c4VRwwFdWZRE3GE14frFLO2tiCiynFsEdXDiF4uy0K/P7ZHyLHMvu4ARTt7ZRh7c3xGR+/0otejsi6mEZ1fh2ad9BgHbow+pby7N89OnOZEFI05mojQKQKDSpKorSzF0MElSCUTGDYkCwC4tX4MRhWMyHWVpcZn9D/c1H+jfljTLMsZtRXea/UD1BAfiYSRjaAPOjfGFj70ZNxGm3T+T4ox+9jdW/wARbvkZMZwYogvb2mfCRJDpJTGl670deysRybOLuipBFMqipEt4UzNVkYlhv8mRmbI9Qj5x0oCynZ2tiZpx5C1B1HBlLbXVoZp9UDUzchKNPhCp9dbJyqjExaj+3Go+PGzPv7DrSxrfm6wthGqeigoIUxFjOtloVkfxvjcGx7DCYID3DpWCY4pb0V5fZguMG4mDd91FZx14T7Xk7OFYHBHlfkg7STCh9+fixOVZqmIblHiXlNwRsc9ZosoGmN7hJhSXo733+gzk2iWxTdMm8c4oaGL4e4A47XxuV7e10TX1rNQnl/uGBc66aN9AQORKyeNwJWTRnivH/n8NPTk8nj/Sb4J+erJI/DjJW+gqszN8AzJpr0fXiOGDgIAVJWVYE9Ht7+wIWLgfRYAdu0veH2IaNCNz+rPm+WbgfmanCqwvZzGRM7ISdpZBdujw2+bYbeOk+ux/DdM9xaJ4dqyrc4sxkcTb/Bg0qijA7z4iDQ+xyhvcYJJGabVg4Kbx5NJm/fPCThubUvEhJSu9HWo8BtUwoihwrmU7reyPqmk9YOcenSymjgLigF8w/RBEqOXagaVkJhsCvu7eo0H++CSFNo7e71MTEk6ie7efKwpzK5gCs/6cKUiTgzR8kl3b9+3ieAHBsYtgQX7aPzPhfuKqPhRW23oDUGBmSCS1aBfDzvDZX9d6dgATsRwAsVahwimblYMBYgYyyNkZ2s6QwQKL4b4Ehgtr/Xmmesh59cFVIL8PQOA7l7HMEJz3cfvNSJ03gNGasZixbyLTseJZSX46NhqAMC3rjgTb+3qwFVnj/DiT68egtWb93ifoaUZwH3o6D+89T9SiQQwZrjv9dmpxJA+eJCKEc/UTEtX0dkR+seZmohTSXvqMy0n8SWwZGRGh/PocP6bqPIWNUynkvwGnvThz+2ZRX7OWu3l6RjDCUtiZI94geIeU38yuO6pElK6yjCZGU4gWZ1ZzDYVbNaHXACX9Qk6l/q5mc0kPbOm16ZOxEg2nfIHD3qlqzSJSXrDIg8GxABAGTnmlre6DJ9GWTbtCp1CTFlJyk3x5x3kCw8O9fdUn/icdwI8OlTEMA/JA0xLvBVDPUP5PGOYJl6WoL2uSDmJNzXT7FFEtoS5Zr6UZ2dLuI0v7bIUc37y0OZ8RLSjy/Lf0LJU3s76UGHBiSpqEO7NuaKOtmpz7eWmiZn3NdliLGIdq/xoZ4bsa2YyQ+SaxaNzHJNJJTH3/FO8DqwrJ43ALfVjjY6sr88ZBwC4YepoAMDss2pRXprGlPdX4ezRQwHAMC0DsAQBfSjSGCpivMqVsY4toNypy+GiIUmEDd3Xyo0xBRP19XBrB/l46PXw/htyroiyVIYRCDQL5fp47EyMbRCOnn/DtaBTgWCV15iMSoaUijgzMhVs/MRnO5tmiyF7bSqGstyeXVxm6DCyRyrG66bSvD6qo2pQ4Wuvl7foFObBjKnZL28pH49vavZ8PAFen1zeLoGprG2ZFqMeCuqBwJWlIsVQ3rFEjFUmy9mlml5S9uBKYLy3hsnEkHKStSs822FmCwSrlGd1odnZom6uvBY1HJEzVVsCxf562KLBvuY4oo5+P2h5ib0ezzBtChK6jhtjio9DRFQBtkAxy112jF0C42P0dejf+6OBZHSOYc6sq8TL37zE++H6nSsn4DtXTjBiLhxbjeaWfd7rk8qz2NHuZm5UaWtcbQVe2d7uxdBuqdO18pb6QWBldPTsjZf1gRETJT6CZu3EybJE+W/oTBreo2M//KNigrNH+jpJJIiezKQS6M1FlaW42TZ2txRnIk4mEl5prITJMNFdz9nSFRE2nNCg3pqg7S/szjCudBUjo0NFTEnf/UCuGdnc7mKwl5lRhuWU7QcqMY3HiYQvPP1sjbuO6hjSj6mSkxI1evuwe/5upgTmP7TLsmm0HerxYkozSXT25Avr0NKVLVho5oETTLqxFHAfmLQsdMgqw5giit9KInoqNd113L0PRsTQch83e4j4QNjWfioaGIOwLepMgcKWwJjNSaNLYHneD0REFZ3XRLNQ3b2O5bUK8vrQ2Tpc6SpOtsYsk+VxKBkhqnpNURW2hcR7hQidY5yybPi36B+mn4q9B7vx0bEnAQDu+5tz8OzGXRhSmsaUU04EAJxZZwodfX+nJPHx0B8ygCti9H+hew/VOFmWiAwKfWhxc324chJXluq7qTlgerL2bM3EETqBwsv8WnI+Hq7kZL4OECiq9gFeMGWI+Zibx0PXDvLo6Posw5isS5g2dTqZmffxHJ6p2YphvD7ky+jFeCUwbR31ABhslcCSXqaOdm/pmYjBlqnZzuioGPXQdv9edxkZnSEFoaNihmTT6OzpNvZkKitJoaM754kY5cPihhNSoUOn47oxPcbrnnzeetjmmPINJz5srxHXhRaRrWFElC3Y7IzO/k47exVt/g0QMSGdSO7nSFaDzdbYpSI2e2QZqMOvmbseN4Nil66sclIsH09UecsBum0xFMf4fDSR0lU/pySdxB2XnYkLC16f2spB+MSHRuHSs+o8QfLZj74fADDjA27MTTNOxwdqyjGqajCmvL8KiUQCH3pflbEuFQ2TRg71Xnd7WR8YMVwnlFEmY8pJVus489C2S072Q9sWH3G3gIAZQzIoKebhT8tS3Kaa3GwbzltjlZPI1GXuGqmJmjP6Zoj4cM9FrydhZ2s4j46e9WG6p2gmKJlg7pUpXXGZGKszi2t3j1PeipX1MWOUGFF/vrPazB6V9fG7sHqtz3WQGLN7y/T6GKUrL6NjrjOYjTEzU2Vap5i/U7z7tVc7SqsvaW8+7w1eVFAR4Th2e3sX48nZ32kKJK47iYoPmlUAmMwUI4b4TVdpDHcuM6ar4JsyzhXDN8OX8ogfiBrBaSktZ5cWqWhhDcvWdhd8FxgtXdGBhVy5DQgvb3GlK9p1xZWuXMOylj1i/vH8XiMZneOA06rLse7/XYyK0gwA4LKJdbhsYp0Rc/Xkk7Fmi298Pvd9Q/FqIQtUOSiDQSUpfKCmHK+17vdi9MdEMpHwusUU/FBBWwxRwRTHf8MbjaPXoYblKB9PhhFV1LfC+Xi4/bmoKS/NZFnSxETMCQQqrLg9s6hgChIxlmDi7pWswxqW44ghqywVo7wVI1szmMRkM0krXU5juMyQEhbeOlqM1wWWMQVLOukPAFWmWRXT1ZPTSmfUx+MLlN68mQlSD3+9C0w9bIdk09i5v8szGg8pGKH1jE55aRpdB7o9wTSkJI39Xb3IO+Z19+YdS4wAtvih2RsA2M+VxSKETi7veIMfg87FleloDN0mgotxBZP5/Y3lWWKM15yJ2OrwiurMCmhlt4cTknP1UjMyX96KamXn2t0BLuuj3XuvHdOdy8PRvox+mSy4THcsZHRE6BwnqFk+QVwzeSRa27pwRq1rbv7mZWfiqrNHYNOO/fj4hFoAwMfGDTeEjt7enk4mMGLoYNRVlmJbWyeAwjwgkkGh5QraFs6KIcawzA0ejFVOisjo8B4dLib43O4xOo+H8dow1+iXmJzAGCokuOwV3bohjrcmyBwd5fWhXVdxYty1DyNbE6d0lUqiG/nQmGwmFblONhOc9fHvwR6ESGfvAJqPp0v5ePxsjcoyeBkdrXSlYtRDSn3OLIGZQqMsm8a7B7q9h/+Q0rQnTDzxU5rGvoN+mUzv3lSxiYSb4eHEEFcqsoUOyfrk85ZHiMb05Bwrg2Mbr+2shu1ZctCJ8HW47Eh3L2dq5jIo4WLI2pahl+sCs+cKcZvQRpXA7Fk7TGao14zpLgwwNERMLz89Wf+e9eTyxlRm3+vTa8SY3p+j79GR0pUAwC0rfeni01F/Zg0AV6R8cOQJuOackV4ZovGC92P0iYMxsxBz11VnYe6092HiiErPIzRzfK2xrl7CSCYTGFNdjvJSX1/bGR1+tg0tpXEZFNN/E691PFIwBXUiJanQgBWTIqIKABFIdsmJZmu4bSpcHxEVMfT8ZraIenb8zx2GGOJitGNcCaqE3Ktb3rLFkOWtsUpOtkCxO7xS1vkH0xgmw2TFaIZlLyaGYFKZGb1MMjhrzvHxMjraBGFfDFER45cLqBjSPXwqoxS0DuALFCWiDjAxB2hMpz8fiK6j6OjqBRkbxYqhqPJWby5v7SZvZXRidJhxwwi5TVet/coiZt0AttGZuy9uc1J71o5jZWs4/w3tAosz14e7Dypiunrz1vYbcVrQo4zP3b38AMOjiWR0hNhUlGaw9Nbp3uuTyrO447IzjZjrzxuFX/x5s/dD8QsXnoqNrfvxl32HMPrEwUgmE7j0rDr855qtAFQLui4+3LlDynTpHoszxC9pbu/AeWtoWYp5sNNMEPdgj+crMoVGuvCU17ul0qmE8YMmkeDLa3a2xh70Z4mYJDURMzN7UmanGuv1IZ8rYURE3IxOZHmLm6MTkkFRcGUpWrawylJMtsbK6KSTSKUi1tF2U1eUMddDY5SI0Ltn1DHaveWWnHiBMkQXKF28QCkLi+nyy13vFjYYVjEVpRns7+zVWuJT6C0M7ztQyMSov6d6Kcsvi9GMjmN5adoPcTG58Jhc3oqh5+JEDJ0rxJmID8QQZ5yJmC9LRWRZaMmJyVTxwwkjzNE5e14SvVduoCPn46FZnx6a9em1t4kIMjUfTSSjI/QJd6PSROD7p1UPwR9uOh+Pz/sIAGDy6Co8+4/T8cyt071p0f9n8slefDqZxKWaX6iiNIPSTMrIDNFhhIlEApWDM8bDg8sMRRmfU8mE1RZOszN89sguS3E+GiqYAHOmhNUCXrjmsBh1LLKjijMaR5W3GPFBRUsJ13VFjnGCKXZ5i5qRaXmLiYk1eDCWYGI8OlEZHaYkN5h0SpZq7e5B53I/Z65dpsVQM7KfrfE/06GVqgBd1DAxntDpse7LF0jm7J/STMoT7CoTU17w/SmhUZJKemZoFeNvv9HreZ3U1z5OCazNEjp2TDs1PjNZnzgGas7rQ0XMIc17BfAma2piDhIohh+o1+4Cs82/0YMHueuhpSvaAq6umU5K7sk5xr12M5khgDE1G5OSj77QkYyOcMQ5a8QJxut0KmkMQpw8ugrfvmI8Bpe4af/LJtbhrJMr8cdXd+Dqs10xdNXZJ+Ph594BUOj6GnUC/vDCNgDuw6WiNIOLzxiOppdb3RjGo0P9QDTLE+j1IULD3iPKFhGAP+2WP5cfo59LbZynXrsx4YKAmqi5fayosIm31xXnB4ohmGKYkbnyFhURJamk9zUA1MBLrgQWLnS40hktS3HXaIuYlJWJoWKkNGPH0IxOlosh6+imZj/G/vGsjqk/Z3qMnwkimaESpixVamZ9BmVSyKQS6Mk5VtZHFyzpZALdgOH/QbsuhpTo9rM85aVpHOrJGaKmvOARai+IDzUzqFcTKMoj1H7INj5HZoZyeatUxQkm6u3hOsWor8hureenMOsCifp61Np0wjHtiuOMz3ZZyu6wijIs9zDmcSpi6DBJfx1zHo+V9cnlje1vjgWPjggd4ajw6SmjjdfvG1aGv//I+73X0049EddMHoF0KoHy0gw+c/4pqDthEB5e/44nhq770Ehf6CQS3oapgNsRVl6awYdPG4blb7wLgPf62DuTR3t9rBb0pC9Q/LKUKSI4EZNOmd1BvI+HL8EZwoLz6CRpJob3zfR1qOCRMiNzxmMqUGJvMsqViqySky1i6F5knBnZytYcRimtlDU1k6wP4/WhYggwS1Xca/eY360FuPel5u3sJ54cJVBUTE/OLzmpbI2e0aGZmHIqmEpSnllVj9m5v8t7nUklCpm6Hi8TU1GaQWdPFzp7cp63qaI0g7ZDPdhfyDqpf0j05v3SlRJDbNanOzwz1JPPA90IjXHPZQobSwz12qKhqzdvPODpDuNq7eihgna3FFu6Il4fe1gi4+NhRFVfy209AVkf3Qd+LJSuROgIxySJRALfu2aiceySM2twScEIDQAXnH4Szh51Ajq6chg2pASf++ipSCcT+PXKt1F/5nAAwKenjPKETiqZxEnlfvdZLu/+8J48eijWv70XgF0q4oWGvQUDoEQM3y2lsj5GqSiZQDcXQ82/5HUiEcfHw/iRqIg5nM4splRjZXSY+UBx9tWiJSeuBHXYO6UzAoVO1+VEDBXCqnXcjwk2I4fFUBHDCSaa0UkkbOM1VwKj4qc07QsdRXnWn/CsrtHNOuY9MWRlfUpS3p9RKob0rM9BJ8fGmCUwWzDt3N/lZXjUsbZDPZ74qBiUwb6DPdA3liwvtNerGCWGevK2j8fO+jjo7o2R9YkhmGhmyCqBMcLLFjFBgwfNbim75ES7nJhMDG1T7+V9RWFbOahrph1VVmao15y27e755hzVrSBE6Aj9llQygf/+3DQkE/6Aw89+9FR89qOnejEXnzEcw4Zk0ZvPo7o8i7//yCnYfaAbv1yxGeed4g5JnDvtfZ7QSSSAuspS7/PdvXkkEglMHHkCXihstUH3jcoU/gLbmSD/dZqJcfeo8n9IqIcI3YWdLZMlg2NUHM0ocZ1Zfc/EBOyZRUtXUSLmMEtgVBBkUnZWjhcfthiKnrWTsu7DEihMtobGlGY4w7Kd0YmMSae8P2t0bb3DiwokFaMnL6gYUhkdAJ5BvpwYpgfpGR1VllLlLS8zlPbEE836KOEzSLvXIMGUTiY8AatKV5UFoWNkfQZl0N7Z6wmkykEZ7D3Yg1ze8UpXlYMyhmDyxBDTmdV2yEzxdOfy1gDFfQe5Elh4TA9TSuvqzZGZPbYRm5tJQ7M13Tl79g/bdUUEil0mM4/1MKbv7l4zo5PL2/eusjzGsXwe2aSdoXyvEDOy0K/hNu/USaeSeObWj+LZf7wQZdk0sukUvj5nHF7555lovMAtlc0cX+OtVVtZimvOGYkrPugapCecXAkA+LsPn+Kt6ThAdYWfGVI/DD5QW+Edsz0ytkCx2tQL/8q1hwFq96OVyRRcloP6iLiBfXZHFbNTesps+eayPq4hNzymJJU6rPLW4ZbALKFjZWK4zFB0RxVburK8PoeR0eG6wDIp4/tRypTS2JJXDBE1pJSKKH83dy8mQDABvhjyusd6lRhKauWtQiamIGJUmWpwiW9qbteyNfpnBhnGZ3MdvXTkrV0QQ2odPfNQMci9RiV0KgsxutenotSMUV8uPaOjvs1UDHF+oH0kpofxA1HvUU8uz4gGss8YIz5oOauXMyPTshST8eomWR7HsVvyORHF+5psEXU0EaEjDHjKSzPeDzeFXgLIpJJY9/8uxlNfuQAnDsmiNJPCDz8xCX/+6gzc/vEzAAAfH++XzEYMHYQrJp3szRMaV+cKnBs1j1HecQwxpH6gn3bSEO8YbUHXTc36MSpqaAydIaTKW1ZZiooGa0ZO0PRkGgMrxi450RhzCwrOa0PFGCdGrJiMPeuGio9kwi3TmTHRWR/W1Gy1qaesFnSuLGWVwJhsjZWZyvh7bQG8YCkla5dmbH+S3i2lCMvoKFSWxVyHxtjrqBiVZFIxSgzp96EblgH/4e+WydwYv3SlYtzX6WTC81VREXOou9fw+nAxvbm8N3uocrAZc8LgEj9GywzpMerr1aO1xKs/Lvs6bK8PLWftO2gLJtoCf6jHzvpwGRRacoraEiNQxER0qnHdY+0khs7RAfwpy0cLKV0JAtzJ0XR69Mkn+FtapFNJrL79Iuxo78TIKtf0fM+nz8YbOw94JuiZmhgafeJgjD6xDE+9sgOPvbgdHxx5AgC3tLbu1+sAuD80aiv8MpmaY/L+k4Z406XTqaTRWu91b4VkR/wSmPa5gI0/6YTlqC0gWIESY4dzzn9DBRONCZzHEyProx/jRA2/BQQ3eBARMVzWx86oWJmYwvlV+czN6JhfEO+6c/463LDElCF0bFHDG525rA8RQ1TEMDFUDA1ixBgVQ4NLUl45TGWGlBhRxwdrwks3LLuvC1mfEv9ceulK/4zxuUOmYOnJmeWtFhzySk6VgzLY09GNnryDHpUZKnVLZyrmhEEZ7O7odjM6BfFxQqF0pjI6qpOtp9cXH+r7vvcgl/UJF0M9+by1/UZ3zrHm/7QxpbPItn1m+w0768S09lPPUkDp7GgiGR1BiMnwilKjdT6RSOD04eVeW3AqmcDaf7oYv/vcVJxWXY5MKokF15+NJ798Ae4uGKsvPqPaa3s/rXoIZnygGp86bxQAeJ6hz0/3PUadPTmjm6y13RVAemaIChb1/7Zo8O+FG06YSTNt6kTY8J1ZiVjiwyqlRZWlGFFFszysYZnLMEWsAzCG5RjdUtz0ZK7d3c7WEIHCZHSot4dbhwqbuOtkYoih8lhZn2jBZImhEjumwsoMpZEpxORIZkaVQQZr5mivBOaJGn+uj/r71kbKZB3aXB+a9akwsj4FEVPI+uxVYmgwL5gA36OjMkM9ecfL1pwwyFxHzR1yTc1+Z5oeo+Da7Q909hoeLQDYY4movFVi2tNB/Ei9diaICi06qRlgzNk5u02eGv/fa0ToCMIR5KTyLM4hO8GPrSn3UuyJRAKrb7sYD//DNIw/uRLJZAJ3XjkBz9w6HT/+5NkAgKmnnojTql0hM/7kSpwzeihurR+DZAKYXthq44szTvfWP9CV8+Ld1+4Pq3GaZ4iafx3HvRb9gVOSsjcntUQDsx8WLSfF2eGcmxacJVtABHZdRfiTqEBhY5h12OuJ49FJhosG9zWNsUtO3F5gelmsNJNCyhIoSXIuRsCR69EzIUHXA9hZHy5bw2Z9ospbMbI+g5j7UKUrxeCStBfjCZZB5vYbgzQ/EC1d6ZkIKnRO0LI+BwvZCa90VXj4+zF6CayEXUcXTEogKRGhBJS+r5gSSCpGnwmmjimBRDNDboxdTrJLZ7ZAiRJDPb22j4iKsR5ms9SjPTRQhI4gvMdUDs5g8uihxrFThpUZYuixL34YT375Anxw5AlIJBK4acbpWPNPF+PehskAgAkjKjH7LHd69Hnvr8KY4eX48ScnoTybxsVnuK318y7yxdC+Q92G8FFMGn2C9//U1wPwZTG2dEVM1tGzdpjhhClTEHBGY2pq5ucDmdtUcIKFZlSyTIaJK3nRbI0rIoxD1vmyjGeJrs36bxgxxHWYpSPWocKiNOC+dIGSZczJWU7EMFkfW8TQjE7aWqeCeOgGczFMmYxeI12nrMSOUYJFiaNsOolsxpzmrGIOaHt4VRCPjufj0Tq8/GyNKWLyuoghWZ+hg/3NkVXJS8UooVGlxai11efUa913pY4pYU7FiL62oidnl8XiZYa6jNfdubxVShMzsiAIFqWZFMbWlBvHhg3JGtNzf/yJSVj7Txfj7FGuaJozsQ7rvnYxfloQQyOrBuMfLxmLQZkULjmzBtUVpfifL5yPscPLvaGL/6C14h/o7MWEEZVG1iKVTHhZJADo7M0ZmzsCrvjJase4DIrdOh7kmyGvackpY8dEZWLilLeymejylvIr2SKGeGvIWlxGhxdD0f6bqOwV7+MxYwYxD396jbqp2DvG3Aef9aGlKztbExmjlaUUKhOiGMyWwOwyGb1mSwxl09Y6tHkhkfDLa6oLS4mRnOZtoaWrykGMiPEEihJM/rn2EvFDS2DmsYKoKgiW8tK093dBHaNiKJPyJ8arY959deW8zIv647u3w87WUPMxl/WxO7EkoyMIwmGQTCaMAYhAwUCrPdS+cOFpeOmbl3jeookjT8CTX7kA8691PUMnDC7BPZ86G+NqK/CJD43E4JI0lv7jdMyZWIcvXOiKIH2KdUkqhQ/UlOOcQkYqmXCFxBUf9Pcve2fvIevBVZJOGsf4XdATlkCxDMtcmYwRTLr44bI+VnmLy+gQwaJ7sfSYqCxLoLcmIhNDy2tcycdexxYRWSI+OOFF1+ZEzaBM0pjj42ZUSEwMH0+cbM3gGOtwYowKlMElaWv2EI3hMkMnUFHF3CsVTPraqlNqqLaOEkN+Rkdlb3wR00b8P0qMlJf6Zbp9h0wxtEfL6Khr9ARTmZkZKi/NoKQQ42WLykqM1/rauwvZmhMLMV1aCUxdj/qc+vPTk8vbnVhHWehI15UgDHDoA4Mya0ItZk3wN1GtLi/Fjz85yXudSSXxxJc+gp/9aTM+c/77kEgk8J83TsEv/7wFFYPcH64XnVGNE8tKsLujG2ePGoraykH44ozT8OMlbyCbTmJINo0bpr0PC1e7u9ZvebcDQ8tKMCSb9n5wlqSTqKkYZFwbVybTH8BsCzoRP9xeU7R0lM2kvInTfknD9MiorJU+fI/uT6XEmvE5LhOTjpOJYTw6NIbcx6AYMVwJzMr6ZOzhhFTEBGV99GOJRLy5Plz3Fs0CcGLIyvpYQidaDJVlYwgmJutDxVA6mbD2QqMxgC9i/KGHae/PnRIE1LCssjV6t5YSMSrrMqS0ICB7mPJWhy+GlOHYyBbtPugJliHZtO//6VCCyf27ve9gt1fKO7GsBDv3dxmCaef+Ljfrc8jf+6yzJ3/U28sloyMIQiRn1FZg/rUTvdb6TCqJxgvej+vOdTvGEokEltw6Hd+6/Ez8zVQ3A3RL/Vg8/A9TsfDvz0NpJoUxw8vx6Slu/MzxNRiSTePfP3U2yrNpDB2cwbAhWcw9/33eObe3HcIJg0swZrhvtC5JJzFhhO812tnexWZC9Acg57+hZTFfxBARxcTQY2b2JlVYJ8IjlDYzL9mg+TdGJsbO1tBjgV6fVIQYYjJMbAxZx54PZB4bzPh6YpW3mLIUl62xDcuc0IleJ+pcnNfnBOZcJTTrU5qxDP620Epb10gF0pBs2ltbCQ1VztI3YVUxqnTkZ2b08haf0dFj1N8flS1SHiH1mZJU0jOi03X2d/Z4gu3EMjfj3O88OsuWLcOcOXNQV1eHRCKBRx991Hh/7ty5SCQSxq8pU6YYMT/96U8xffp0VFRUIJFIYN++fdZ59u7di4aGBlRWVqKyshINDQ1W3NatWzFnzhyUlZVh2LBhmDdvHrq7bQe6IAjFp3JQBg1T32f4CSaPrjK60L51+Xg0ffkj+NvzTwEAfHTMSVj9Txdh6a0XojSTQuWgDO7/zLkYNqQEjR95P1LJBBb+/RR8bNxwfOiUKoyuGozLJ/plsqFlGZRmUri+0KIPuD/w68cN914/37IXiUTCKCNk00njoahamPXnnTWPp2BEDsuyKDGUtDw6/ut0MuFu/0EEkrU/V8aOieXjocKixC5L8W3q4dmaeMLLFBacYKFZFn27ByMm0tTMmJGZMllU6WowJ2K0P8NqHSvrw4gReq9lWb9NHnC/ZjQLWK4JlKDze9kajaHk/LpAoTGqlFZemvaGZ6pZN14JrFCmcktgpteHE0O0BHbiEDfm3QPu60TCF2z9zqPT0dGBiRMnYsGCBYExM2fOxPbt271fjz/+uPH+wYMHMXPmTNx+++2Ba1x//fVobm5GU1MTmpqa0NzcjIaGBu/9XC6H2bNno6OjA8uXL8dDDz2Ehx9+GLfccktfb0kQhPeIRCKBD9RUGA/DwSVp46Fx4dhqrP2ni3F5wfdzUnkW9/3NOfivz071doVf8dUZ+D+TR+D/m/kBAMCdV4zHv/6fs/CVi8fgtOohGH9yJa6c5H5+zkR3O4/vXn2Wd47aylLDV7Rp5wEAwPi6Su9YNp3EKcPKvNeb3+0AADNbRLqT1HthHh0vMxTlrYnRUUUFCj89mfPohGdZeI8OydYwD3/L68MJJiq8YpTAAKa9nMkM8aWrGBmdiJiyLDNQMZsxvx5Z++sxhBzTRYS/thmTTNgZriHZjCVidG8PAJRnM7YYKiOCiVmnqszsQtMFkyqvqXX0OUPqXNRArXw95VoJrN95dGbNmoVZs2aFxmSzWdTU1AS+/+UvfxkAsHTpUvb9V199FU1NTVi1ahXOO+88AMB9992HqVOnYuPGjRg7diwWL16MV155BS0tLairc3+QzZ8/H3PnzsWdd96Jigq7lVYQhP5B2P5lAFB3wiBvCKOKv/ackUbM3ddMxMcn1HpTqS85swarbrsIre2dGH2iK2AW/v15uPHX67yS2T2fnoz/+/CLeGVbO86sq8SwISUYMXQQ3tl7CMMLW3pc/6FR+NHTmwC4D66J2hBJNdBxWHnWm26dTSeNbITq2qEDA2mHV4p0eJVmkla25nDm6HBbObAxUR6doFb2VLJPMVz31CAiPkrSdiZkcEkKOccsifClqxgZnaQtUHS/1uCStNVtWFZYW4kBrrxV5hmEc946VGgMKTUzQWVZJiYb3YU2pNTODA0lmaEKLoaIofLSjDWAUIkhP8YuGyrDsjJdl5f6oqrfZXTisHTpUlRXV2PMmDFobGzEzp07+/T5lStXorKy0hM5ADBlyhRUVlZixYoVXsz48eM9kQMAl1xyCbq6urB+/Xp23a6uLrS3txu/BEEYmKSSCXxs3HCjM62mstQTPgBw/mnD8NzXP4Z/vMTNDJ1UnsUv5p6LlbfNwEnlWSQSCfzvTR/GNZNH4NtXTAAAfOVjY7Dg+kn4uw+fgqmnnohRJw7G/y1klqadeiIA4JuXnYmyQpv+iKGDccGYYdYD/9z3DfX+P5tJ4rRqP3ukPA16Sac0k0KWDgxksz6MjydliiFLWHDdW0yWRX/YljKdUWyZjFwzLUtxmSEaU8ZlfYhoSCS4PbzM0hFgm5pdMzItOZnH3IwOI2IiBEpZ1hQ/vIhJo8TK+tgx+jqDMiljv76gz1leH6YEVjWYCh17naqybJ9jKgZlPHF4tIXOEe+6mjVrFq655hqMHj0amzdvxte+9jXMmDED69evRzabjV4AQGtrK6qrq63j1dXVaG1t9WKGDx9uvD906FCUlJR4MZS77roL3/zmN/t4R4IgDGRopgAwM0pDy0rwPS17BACXnlWHS8/y/5H1D9NPxeTRQzG6sF3HpFFDser2i/D27oM4s871Ij59y0fxmV+uxfQx7s+2Oy47E+WlGSx7fRfOP3UY3jesDA1TRuOBVW9jWMHv8A/TT8Xf/crdG61qcAkmjRrq7Z8EuCMGThlWhrVb9gJwhQ8dORBnHg9nWI7uzIreSoIbIEjLUlz2iGZ5BjOCZXBJCu2dpvGZZisGl6SQJ1mfwQXRorIWnNByRYzfXceVt2jJiYuhvp0hTIdXGflcGVPeGlKasWJKSEw5ETGZVMISfqyPh8noqH33FDSjU1GasWblVA2xs0deRqf36JqRj7jQue6667z/Hz9+PM455xyMHj0aixYtwlVXXRV7HS517TiOcTxOjM5tt92Gm2++2Xvd3t6OkSNHsrGCIAh94UOnVBmvy0szGH+y7/kZfWIZltwy3XudTadw+8fPwO0fP8M7dsdlZ+L9J5V5W3pcdMZw/PHmj2L5pl24dGItBpWk8Mjnz8cnfroKpxZibv/4GWg71IOnX92JiSMrccqwMlwzeQT+e/07hfMk8fHxtVi6cVfhutI4rXqINw4AcLMzeqYjm0lamQ8qSLihj9TYy3V4UYMy56MpJbNtuPk8g0jJaXA2jWQyQUpOKWO37ZJCR55ecnJLV7QspcRHrvDaLksNyVKBYpfAODFki5h0rKyPfowrZdGYsqxdbqMenUTCLuVVsKZmO+tDdzG3M0O+h6nfeXT6Sm1tLUaPHo1NmzbF/kxNTQ127NhhHd+1a5eXxampqcHq1auN9/fu3Yuenh4r06PIZrOxs0qCIAjvNalkAp8pdKQpTqseYuxlNv7kSvz5qzO8stYJg0twb8M56OzJeeWMu66agKFlJRheUer6l84diVNOKsMfmrfhmnNGojSTws9uOAdX/scKDBuSRVlJGrdeMhab3+3Aurf34vTqclRXlHoZJsB9SE899UT8/vm/AHAfiCeVZ1FXWer5kQZlUsbcnEwqiUGZlCE+aLYolUywGZ0UKV1RgUAFkioVppNJbRf0tOE3UTGZZBKd8GOoGbg0Y5rMuTk6g4mw4drE9ZZv9TqOiOH2AtOvxy1B2V6fDCmBcW38xvUw3iO+e8sWMXSvrCqSGaoYlPYyjwOudEXZvXs3WlpaUFtbGx1cYOrUqWhra8OaNWvwoQ99CACwevVqtLW1Ydq0aV7MnXfeie3bt3trL168GNlsFpMnTz7yNyIIgnCMQP8VDsDwbKRTSSNTBADnvq8K52qt/pNGDcWfvzoDqYRreh5eUYr/+uxUvLP3EEZWuYMbvz5nHPKOg0TCfZBdc85I1FSW4jert+IT545CJpXEvQ3nYM6C5cimkzhxSAluvOD9WLNlD158pw2nVg9BWTaNz5x/Cn6+fDMAV6CcPXooUHg9dHAG2XQSp55Uhjd3dXgxxvYShVElg0tSONid82J0gaL0TDqVgNo82433Syxq9/m0kUFJGVWAspK0teEt5xEqK0kjkzZjojqqOOM17cwqYwzLNMtTxmWGLMGURkk6vLzFGZhdE7GZlVP78CkqSjPGvQN+e7keoyYk9zuhc+DAAbzxxhve682bN6O5uRlVVVWoqqrCHXfcgauvvhq1tbXYsmULbr/9dgwbNgxXXnml95nW1la0trZ662zYsAHl5eUYNWoUqqqqcMYZZ2DmzJlobGzEvffeCwC48cYbcemll2Ls2LEAgPr6eowbNw4NDQ343ve+hz179uDWW29FY2OjdFwJgiDE4OQTzEnUyWQCowo+I8DNyNx55QQj5iOnn4SPnO7vfzZhRCWW/eOFONDVi/LSDMpLM3jk8+fjlW3t+ECtu1/b7R8/A7m8g237DuH9Jw3B6cPL8ZvG83Dfsrfw6SmjkUgkcM+nJ6P+B8uQSAA1lYNw/YdGYenGnVi7ZS/GFoZGfvaCU/GDP74OwBUturFcdcWNq63Aurf3FmJSRqu2mpc0pDTttUUPyqS844A/cyas5KRKctRUzZmR7Y6qoM4sl6Csj34uLoZmYo5UDJfhoZmhksL0c50Krbx1tAcG9lnorFu3DhdeeKH3WnlebrjhBtxzzz3YsGEDfv3rX2Pfvn2ora3FhRdeiN/+9rcoL/c3KPzJT35imIIvuOACAMD999+PuXPnAgAWLlyIefPmob6+HgBw2WWXGbN7UqkUFi1ahM9//vM4//zzMWjQIFx//fW4++67+3pLgiAIwl+BLo4Atxw1YUSl8fqOy840YqadOgzTTh3mvR4zvBwrb5uB1rZOT4D912enYsNf2jBmuPv8mHfRacg7Dl54Zx8+OPIElGZS+MNN52PBkjdwVWGj2h99chIumr8UnT15jDpxMD5y+klY9vq7WLRhuyeMbrrwNPzfhzcAcB/27z/JLw0qQ/kHR56Ad/YeAuD6gfQsmhq2px/jtqTIplNG5iOwdEXEkLVLfKlZYuJ8PDQTQ9vW3XNlzNJVKZ8ZioqhpbRy5noqBmU8Mdl9lLeA6LPQmT59OhwnWJ09+eSTkWvccccduOOOO0Jjqqqq8OCDD4bGjBo1Co899ljk+QRBEIRjn9rKQait9LNMiUTC25BWvf7Kx8YYnzlrxAn46d+c470++YRBWH3bxXh7Twc+UONm9//9U2fj5l0HPAF13bmjkEACz2zciQ+fPgzlpRn86f+7EP+x9A0vW/WdqyZg044D2LhjP8YMH4JJI4fiizNOwz1L38T5p7kC7SsfG4OGn68B4LZyTxxZibKSFDq6c6gudL9NO/VEvNCyD4Dr/Rk2hHbFJTGs3C/7ZNNJb9CegooPtjMrZumK+nh4waRldJjJzVYMUwKrOIbm6MimnoIgCMKAonJwBmcNPsE4dqqWtQGAa88diWvP9btuR1YNxl1X+dOzK0ozeGzeh7F9X6eXsbqlfiz+/sPv9zwrHzn9JPxn4xQ88dJ2zDyzFpWDM1j9TxfjVyu2eFmoWz42Bjvbu/A/zX/B2aOHYlxdBRZcPwnffuxVfKC2HIlEArfUj8XjG9yxKDWVpTijtgIfOqUKazbvQXk2jcElKVw6sRZPv+bOpMumk6ipKEVJyjdeDylNY1SVn1lLJxOeJ0lRXprGIO1YMpHgzciaQKKiBoC3ma8Rw4mqwjEROoIgCIJwDJJJJa2yHJ1IPPXUEzG1MCgScLMkX7jwNO91OpXE/Gsn4s4rx3uG8UvPqsPsCX6DzqknDcHy/3shml5q9brifnvjFCx5bScqBmWQSCRw5aQR6OjK4efLN2PW+BqcOCSLRfM+jH9peg0VgzKoKM3gphmn4enXduKNnQdw+vBy1FaW4ksXnY4fPb0JQ7JpDBuSxfUfGoX/XLMVAFBTUYoTy0pwevUQbxuUoWUlhSyaG5N3HAzOplCSTnolqIrSjCGQuMxQxSC/TNbvPDqCIAiCIPQNOsmYznsbMXQw/v4j7zfev+gMc1TKp6eMxqenjPZenz68HD+74VzvdXlpBovmfRjrt+zF2aOHeqW+T3xoJHJ5B6WZFCaMqMT/3vRh/PRPb6Fh6mikU0n87xc/jPv/vAU9uTxOPmEQrpk8Au/sPYQFSzbho2NOQjadwi8/cy6+9uhLONidwynDynD+acPw02VvAQCqK7LIpJKYO+19+OWKLQDczJQSP11H2aOTcMIMNwOc9vZ2VFZWoq2tTTq1BEEQBEHjQFev0U3lOA7yjr9P2/a2Q1j04nZccmYNRhbKZi+07MOu/V24eNxwvNbajte278cpw8owUeuQOxL05fktQkeEjiAIgiD0K/ry/C7Kpp6CIAiCIAjHAiJ0BEEQBEEYsIjQEQRBEARhwCJCRxAEQRCEAYsIHUEQBEEQBiwidARBEARBGLCI0BEEQRAEYcAiQkcQBEEQhAGLCB1BEARBEAYsInQEQRAEQRiwiNARBEEQBGHAIkJHEARBEIQBiwgdQRAEQRAGLOnokIGL2ri9vb39KF+JIAiCIAhxUc9t9RwP47gWOvv37wcAjBw58ihfiSAIgiAIfWX//v2orKwMjUk4ceTQACWfz2Pbtm0oLy9HIpE4omu3t7dj5MiRaGlpQUVFxRFd+1hgoN8fMPDvcaDfHzDw73Gg3x8w8O9xoN8fUJx7dBwH+/fvR11dHZLJcBfOcZ3RSSaTGDFiRFHPUVFRMWD/8AID//6AgX+PA/3+gIF/jwP9/oCBf48D/f6AI3+PUZkchZiRBUEQBEEYsIjQEQRBEARhwCJCp0hks1l84xvfQDabPdqXUhQG+v0BA/8eB/r9AQP/Hgf6/QED/x4H+v0BR/8ej2szsiAIgiAIAxvJ6AiCIAiCMGARoSMIgiAIwoBFhI4gCIIgCAMWETqCIAiCIAxYROj0gWXLlmHOnDmoq6tDIpHAo48+arzvOA7uuOMO1NXVYdCgQZg+fTpefvllI6arqwtf/OIXMWzYMJSVleGyyy7DO++88x7eRTBR9zd37lwkEgnj15QpU4yYY/n+7rrrLpx77rkoLy9HdXU1rrjiCmzcuNGI6e/fwzj32J+/j/fccw/OOussb/DY1KlT8cQTT3jv9/fvHxB9j/35+8dx1113IZFI4Mtf/rJ3bCB8H3W4e+zP38c77rjDuvaamhrv/WPt+ydCpw90dHRg4sSJWLBgAfv+v/7rv+L73/8+FixYgLVr16KmpgYf+9jHvD21AODLX/4yHnnkETz00ENYvnw5Dhw4gEsvvRS5XO69uo1Aou4PAGbOnInt27d7vx5//HHj/WP5/p599ll84QtfwKpVq/DUU0+ht7cX9fX16Ojo8GL6+/cwzj0C/ff7OGLECHz3u9/FunXrsG7dOsyYMQOXX36590O0v3//gOh7BPrv94+ydu1a/PSnP8VZZ51lHB8I30dF0D0C/fv7eOaZZxrXvmHDBu+9Y+775wiHBQDnkUce8V7n83mnpqbG+e53v+sd6+zsdCorK52f/OQnjuM4zr59+5xMJuM89NBDXsxf/vIXJ5lMOk1NTe/ZtceB3p/jOM4NN9zgXH755YGf6U/35ziOs3PnTgeA8+yzzzqOM/C+h45j36PjDLzv49ChQ52f/exnA/L7p1D36DgD5/u3f/9+5/TTT3eeeuop56Mf/ajzpS99yXGcgfX3MOgeHad/fx+/8Y1vOBMnTmTfOxa/f5LROUJs3rwZra2tqK+v945ls1l89KMfxYoVKwAA69evR09PjxFTV1eH8ePHezHHOkuXLkV1dTXGjBmDxsZG7Ny503uvv91fW1sbAKCqqgrAwPwe0ntUDITvYy6Xw0MPPYSOjg5MnTp1QH7/6D0qBsL37wtf+AJmz56Niy++2Dg+kL6PQfeo6M/fx02bNqGurg6nnHIKPvGJT+Ctt94CcGx+/47rTT2PJK2trQCA4cOHG8eHDx+Ot99+24spKSnB0KFDrRj1+WOZWbNm4ZprrsHo0aOxefNmfO1rX8OMGTOwfv16ZLPZfnV/juPg5ptvxoc//GGMHz8ewMD7HnL3CPT/7+OGDRswdepUdHZ2YsiQIXjkkUcwbtw47wfkQPj+Bd0j0P+/fwDw0EMP4bnnnsPatWut9wbK38OwewT69/fxvPPOw69//WuMGTMGO3bswLe//W1MmzYNL7/88jH5/ROhc4RJJBLGa8dxrGOUODHHAtddd533/+PHj8c555yD0aNHY9GiRbjqqqsCP3cs3t9NN92EF198EcuXL7feGyjfw6B77O/fx7Fjx6K5uRn79u3Dww8/jBtuuAHPPvus9/5A+P4F3eO4ceP6/fevpaUFX/rSl7B48WKUlpYGxvXn72Oce+zP38dZs2Z5/z9hwgRMnToVp556Kn71q195hupj6fsnpasjhHKcUzW6c+dOT9nW1NSgu7sbe/fuDYzpT9TW1mL06NHYtGkTgP5zf1/84hfxhz/8Ac888wxGjBjhHR9I38Oge+Tob9/HkpISnHbaaTjnnHNw1113YeLEifjRj340oL5/QffI0d++f+vXr8fOnTsxefJkpNNppNNpPPvss/i3f/s3pNNp7xr78/cx6h45w21/+z7qlJWVYcKECdi0adMx+fdQhM4R4pRTTkFNTQ2eeuop71h3dzeeffZZTJs2DQAwefJkZDIZI2b79u146aWXvJj+xO7du9HS0oLa2loAx/79OY6Dm266Cb///e+xZMkSnHLKKcb7A+F7GHWPHP3t+0hxHAddXV0D4vsXhLpHjv72/bvooouwYcMGNDc3e7/OOeccfOpTn0JzczPe//739/vvY9Q9plIp6zP97fuo09XVhVdffRW1tbXH5t/DI25vHsDs37/fef75553nn3/eAeB8//vfd55//nnn7bffdhzHcb773e86lZWVzu9//3tnw4YNzic/+UmntrbWaW9v99b43Oc+54wYMcL54x//6Dz33HPOjBkznIkTJzq9vb1H67Y8wu5v//79zi233OKsWLHC2bx5s/PMM884U6dOdU4++eR+c3//8A//4FRWVjpLly51tm/f7v06ePCgF9Pfv4dR99jfv4+33Xabs2zZMmfz5s3Oiy++6Nx+++1OMpl0Fi9e7DhO///+OU74Pfb3718QtCNpIHwfKfo99vfv4y233OIsXbrUeeutt5xVq1Y5l156qVNeXu5s2bLFcZxj7/snQqcPPPPMMw4A69cNN9zgOI7bVveNb3zDqampcbLZrHPBBRc4GzZsMNY4dOiQc9NNNzlVVVXOoEGDnEsvvdTZunXrUbgbm7D7O3jwoFNfX++cdNJJTiaTcUaNGuXccMMN1rUfy/fH3RsA5/777/di+vv3MOoe+/v38W//9m+d0aNHOyUlJc5JJ53kXHTRRZ7IcZz+//1znPB77O/fvyCo0BkI30eKfo/9/ft43XXXObW1tU4mk3Hq6uqcq666ynn55Ze994+171/CcRznyOeJBEEQBEEQjj7i0REEQRAEYcAiQkcQBEEQhAGLCB1BEARBEAYsInQEQRAEQRiwiNARBEEQBGHAIkJHEARBEIQBiwgdQRAEQRAGLCJ0BEEQBEEYsIjQEQRBEARhwCJCRxAEQRCEAYsIHUEQBEEQBiwidARBEARBGLD8/yjsjmQB5PLbAAAAAElFTkSuQmCC",
                        "text/plain": [
                            "<Figure size 640x480 with 1 Axes>"
                        ]
                    },
                    "metadata": {},
                    "output_type": "display_data"
                }
            ],
            "source": [
                "sigma = 0.2012\n",
                "a = 0.04\n",
                "\n",
                "time_steps = range(100,500,1)\n",
                "values = []\n",
                "for num_time_steps in time_steps:\n",
                "    model = BKTree(sigma, a, num_time_steps)\n",
                "    v = swaptionPay.value(value_dt, libor_curve, model)\n",
                "    values.append(v)\n",
                "\n",
                "plt.plot(time_steps, values);"
            ]
        },
        {
            "cell_type": "markdown",
            "metadata": {},
            "source": [
                "Averaging even and odd values will improve convergence."
            ]
        },
        {
            "cell_type": "markdown",
            "metadata": {},
            "source": [
                "## BDT Model"
            ]
        },
        {
            "cell_type": "code",
            "execution_count": 33,
            "metadata": {
                "execution": {
                    "iopub.execute_input": "2024-04-30T20:33:47.047005Z",
                    "iopub.status.busy": "2024-04-30T20:33:47.047005Z",
                    "iopub.status.idle": "2024-04-30T20:33:51.149028Z",
                    "shell.execute_reply": "2024-04-30T20:33:51.149028Z"
                }
            },
            "outputs": [
                {
                    "data": {
                        "image/png": "[encoded data removed]",
                        "text/plain": [
                            "<Figure size 640x480 with 1 Axes>"
                        ]
                    },
                    "metadata": {},
                    "output_type": "display_data"
                }
            ],
            "source": [
                "sigma = 0.2012\n",
                "\n",
                "time_steps = range(100,500,1)\n",
                "values = []\n",
                "for num_time_steps in time_steps:\n",
                "    model = BDTTree(sigma, num_time_steps)\n",
                "    v = swaptionPay.value(settle_dt, libor_curve, model)\n",
                "    values.append(v)\n",
                "    \n",
                "plt.plot(time_steps, values);"
            ]
        },
        {
            "cell_type": "markdown",
            "metadata": {},
            "source": [
                "Averaging even and odd values will improve convergence."
            ]
        },
        {
            "cell_type": "markdown",
            "metadata": {},
            "source": [
                "Copyright (c) 2020 Dominic O'Kane"
            ]
        }
    ],
    "metadata": {
        "kernelspec": {
            "display_name": "Python 3",
            "language": "python",
            "name": "python3"
        },
        "language_info": {
            "codemirror_mode": {
                "name": "ipython",
                "version": 3
            },
            "file_extension": ".py",
            "mimetype": "text/x-python",
            "name": "python",
            "nbconvert_exporter": "python",
            "pygments_lexer": "ipython3",
            "version": "3.11.5"
        }
    },
    "nbformat": 4,
    "nbformat_minor": 2
}