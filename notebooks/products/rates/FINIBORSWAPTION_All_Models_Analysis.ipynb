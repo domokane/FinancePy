{
 "cells": [
  {
   "cell_type": "markdown",
   "metadata": {},
   "source": [
    "# European Swaption Pricing - All Models"
   ]
  },
  {
   "cell_type": "markdown",
   "metadata": {},
   "source": [
    "Value a European Swaption using the Hull-White, Black-Derman-Toy and Black-Karasinski models. I analyse relationships to test the model pricing."
   ]
  },
  {
   "cell_type": "code",
   "execution_count": 1,
   "metadata": {
    "execution": {
     "iopub.execute_input": "2025-08-27T21:50:58.643459Z",
     "iopub.status.busy": "2025-08-27T21:50:58.643141Z",
     "iopub.status.idle": "2025-08-27T21:50:59.089122Z",
     "shell.execute_reply": "2025-08-27T21:50:59.088639Z"
    }
   },
   "outputs": [],
   "source": [
    "import numpy as np\n",
    "import matplotlib.pyplot as plt"
   ]
  },
  {
   "cell_type": "code",
   "execution_count": 2,
   "metadata": {
    "execution": {
     "iopub.execute_input": "2025-08-27T21:50:59.091775Z",
     "iopub.status.busy": "2025-08-27T21:50:59.091417Z",
     "iopub.status.idle": "2025-08-27T21:51:00.701709Z",
     "shell.execute_reply": "2025-08-27T21:51:00.701278Z"
    },
    "tags": []
   },
   "outputs": [
    {
     "name": "stdout",
     "output_type": "stream",
     "text": [
      "####################################################################\n",
      "#    FINANCEPY Version 1.1 - This build: 27 Aug 2025 at 23:27      #\n",
      "#     This software is distributed FREE AND WITHOUT ANY WARRANTY   #\n",
      "#  Report bugs as issues at https://github.com/domokane/FinancePy  #\n",
      "####################################################################\n",
      "\n"
     ]
    }
   ],
   "source": [
    "from financepy.utils import *\n",
    "from financepy.products.rates import *\n",
    "from financepy.market.curves import *\n",
    "from financepy.models.hw_tree import HWTree\n",
    "from financepy.models.bk_tree import BKTree\n",
    "from financepy.models.bdt_tree import BDTTree"
   ]
  },
  {
   "cell_type": "markdown",
   "metadata": {},
   "source": [
    "## Discount Curve"
   ]
  },
  {
   "cell_type": "code",
   "execution_count": 3,
   "metadata": {
    "execution": {
     "iopub.execute_input": "2025-08-27T21:51:00.704188Z",
     "iopub.status.busy": "2025-08-27T21:51:00.703854Z",
     "iopub.status.idle": "2025-08-27T21:51:00.723138Z",
     "shell.execute_reply": "2025-08-27T21:51:00.722737Z"
    }
   },
   "outputs": [],
   "source": [
    "value_dt = Date(1, 1, 2011)\n",
    "settle_dt = value_dt"
   ]
  },
  {
   "cell_type": "markdown",
   "metadata": {},
   "source": [
    "Set up flat discount curve at 6% (semi-annual compounding)"
   ]
  },
  {
   "cell_type": "code",
   "execution_count": 4,
   "metadata": {
    "execution": {
     "iopub.execute_input": "2025-08-27T21:51:00.725386Z",
     "iopub.status.busy": "2025-08-27T21:51:00.725015Z",
     "iopub.status.idle": "2025-08-27T21:51:00.733704Z",
     "shell.execute_reply": "2025-08-27T21:51:00.733250Z"
    }
   },
   "outputs": [],
   "source": [
    "libor_curve = DiscountCurveFlat(value_dt, 0.0625, FrequencyTypes.SEMI_ANNUAL)"
   ]
  },
  {
   "cell_type": "markdown",
   "metadata": {},
   "source": [
    "# Defining the Swaptions"
   ]
  },
  {
   "cell_type": "markdown",
   "metadata": {},
   "source": [
    "We begin with European swaptions. European swaptions can be set up directly as European Swaptions or as Bermudan swaptions with an exercise type of EUROPEAN"
   ]
  },
  {
   "cell_type": "code",
   "execution_count": 5,
   "metadata": {
    "execution": {
     "iopub.execute_input": "2025-08-27T21:51:00.735656Z",
     "iopub.status.busy": "2025-08-27T21:51:00.735440Z",
     "iopub.status.idle": "2025-08-27T21:51:00.738401Z",
     "shell.execute_reply": "2025-08-27T21:51:00.737928Z"
    }
   },
   "outputs": [],
   "source": [
    "exercise_dt = settle_dt.add_tenor(\"1Y\")\n",
    "swap_maturity_dt = settle_dt.add_tenor(\"4Y\")\n",
    "\n",
    "swap_fixed_cpn = 0.060\n",
    "swapFixedFrequencyType = FrequencyTypes.SEMI_ANNUAL\n",
    "swapFixedDayCountType = DayCountTypes.ACT_365F\n",
    "swap_type = SwapTypes.PAY"
   ]
  },
  {
   "cell_type": "code",
   "execution_count": 6,
   "metadata": {
    "execution": {
     "iopub.execute_input": "2025-08-27T21:51:00.740244Z",
     "iopub.status.busy": "2025-08-27T21:51:00.740057Z",
     "iopub.status.idle": "2025-08-27T21:51:00.744492Z",
     "shell.execute_reply": "2025-08-27T21:51:00.744112Z"
    }
   },
   "outputs": [
    {
     "data": {
      "text/plain": [
       "01-JAN-2012"
      ]
     },
     "execution_count": 6,
     "metadata": {},
     "output_type": "execute_result"
    }
   ],
   "source": [
    "exercise_dt"
   ]
  },
  {
   "cell_type": "code",
   "execution_count": 7,
   "metadata": {
    "execution": {
     "iopub.execute_input": "2025-08-27T21:51:00.746130Z",
     "iopub.status.busy": "2025-08-27T21:51:00.745944Z",
     "iopub.status.idle": "2025-08-27T21:51:00.749173Z",
     "shell.execute_reply": "2025-08-27T21:51:00.748686Z"
    }
   },
   "outputs": [
    {
     "data": {
      "text/plain": [
       "01-JAN-2015"
      ]
     },
     "execution_count": 7,
     "metadata": {},
     "output_type": "execute_result"
    }
   ],
   "source": [
    "swap_maturity_dt"
   ]
  },
  {
   "cell_type": "code",
   "execution_count": 8,
   "metadata": {
    "execution": {
     "iopub.execute_input": "2025-08-27T21:51:00.750857Z",
     "iopub.status.busy": "2025-08-27T21:51:00.750661Z",
     "iopub.status.idle": "2025-08-27T21:51:00.752963Z",
     "shell.execute_reply": "2025-08-27T21:51:00.752591Z"
    }
   },
   "outputs": [],
   "source": [
    "swaptionPay = IborSwaption(settle_dt,\n",
    "                               exercise_dt,\n",
    "                               swap_maturity_dt,\n",
    "                               SwapTypes.PAY ,\n",
    "                               swap_fixed_cpn,\n",
    "                               swapFixedFrequencyType,\n",
    "                               swapFixedDayCountType)"
   ]
  },
  {
   "cell_type": "code",
   "execution_count": 9,
   "metadata": {
    "execution": {
     "iopub.execute_input": "2025-08-27T21:51:00.754555Z",
     "iopub.status.busy": "2025-08-27T21:51:00.754366Z",
     "iopub.status.idle": "2025-08-27T21:51:00.756606Z",
     "shell.execute_reply": "2025-08-27T21:51:00.756244Z"
    }
   },
   "outputs": [],
   "source": [
    "swaptionRec = IborSwaption(settle_dt,\n",
    "                               exercise_dt,\n",
    "                               swap_maturity_dt,\n",
    "                               SwapTypes.RECEIVE,\n",
    "                               swap_fixed_cpn,\n",
    "                               swapFixedFrequencyType,\n",
    "                               swapFixedDayCountType)"
   ]
  },
  {
   "cell_type": "markdown",
   "metadata": {},
   "source": [
    "## Valuation using Black's Model"
   ]
  },
  {
   "cell_type": "markdown",
   "metadata": {},
   "source": [
    "Let's try the zero volatility limit first"
   ]
  },
  {
   "cell_type": "code",
   "execution_count": 10,
   "metadata": {
    "execution": {
     "iopub.execute_input": "2025-08-27T21:51:00.758219Z",
     "iopub.status.busy": "2025-08-27T21:51:00.757907Z",
     "iopub.status.idle": "2025-08-27T21:51:00.760220Z",
     "shell.execute_reply": "2025-08-27T21:51:00.759874Z"
    }
   },
   "outputs": [],
   "source": [
    "model = Black(0.00001)"
   ]
  },
  {
   "cell_type": "code",
   "execution_count": 11,
   "metadata": {
    "execution": {
     "iopub.execute_input": "2025-08-27T21:51:00.761706Z",
     "iopub.status.busy": "2025-08-27T21:51:00.761527Z",
     "iopub.status.idle": "2025-08-27T21:51:00.766545Z",
     "shell.execute_reply": "2025-08-27T21:51:00.766046Z"
    },
    "tags": []
   },
   "outputs": [
    {
     "name": "stdout",
     "output_type": "stream",
     "text": [
      "PAY Value: 6213.23722\n",
      "Recvr Value:   0.00000\n",
      "PayV - RecV: 6213.23722\n"
     ]
    }
   ],
   "source": [
    "value_pay = swaptionPay.value(settle_dt, libor_curve, model)\n",
    "value_rec = swaptionRec.value(settle_dt, libor_curve, model)\n",
    "valuePayRec = value_pay - value_rec\n",
    "print(\"PAY Value: %9.5f\"% value_pay)\n",
    "print(\"Recvr Value: %9.5f\"% value_rec)\n",
    "print(\"PayV - RecV: %9.5f\"% valuePayRec)"
   ]
  },
  {
   "cell_type": "markdown",
   "metadata": {},
   "source": [
    "We can value the forward starting swap."
   ]
  },
  {
   "cell_type": "code",
   "execution_count": 12,
   "metadata": {
    "execution": {
     "iopub.execute_input": "2025-08-27T21:51:00.768393Z",
     "iopub.status.busy": "2025-08-27T21:51:00.768068Z",
     "iopub.status.idle": "2025-08-27T21:51:00.770893Z",
     "shell.execute_reply": "2025-08-27T21:51:00.770574Z"
    }
   },
   "outputs": [],
   "source": [
    "swap = IborSwap(exercise_dt,\n",
    "                    swap_maturity_dt,\n",
    "                    swap_type,\n",
    "                    swap_fixed_cpn,\n",
    "                    swapFixedFrequencyType,\n",
    "                    swapFixedDayCountType)"
   ]
  },
  {
   "cell_type": "code",
   "execution_count": 13,
   "metadata": {
    "execution": {
     "iopub.execute_input": "2025-08-27T21:51:00.772367Z",
     "iopub.status.busy": "2025-08-27T21:51:00.772189Z",
     "iopub.status.idle": "2025-08-27T21:51:00.775213Z",
     "shell.execute_reply": "2025-08-27T21:51:00.774778Z"
    }
   },
   "outputs": [
    {
     "name": "stdout",
     "output_type": "stream",
     "text": [
      "Swap Value: 6213.23722\n"
     ]
    }
   ],
   "source": [
    "swapValue = swap.value(settle_dt, libor_curve, libor_curve)\n",
    "print(\"Swap Value: %9.5f\"% swapValue)"
   ]
  },
  {
   "cell_type": "markdown",
   "metadata": {},
   "source": [
    "At zero volatility the PAY swaption is in the money and is just a forward starting swap so this makes sense."
   ]
  },
  {
   "cell_type": "markdown",
   "metadata": {},
   "source": [
    "Let's repeat with a non-zero volatility"
   ]
  },
  {
   "cell_type": "code",
   "execution_count": 14,
   "metadata": {
    "execution": {
     "iopub.execute_input": "2025-08-27T21:51:00.777060Z",
     "iopub.status.busy": "2025-08-27T21:51:00.776862Z",
     "iopub.status.idle": "2025-08-27T21:51:00.778943Z",
     "shell.execute_reply": "2025-08-27T21:51:00.778633Z"
    }
   },
   "outputs": [],
   "source": [
    "model = Black(0.20)"
   ]
  },
  {
   "cell_type": "code",
   "execution_count": 15,
   "metadata": {
    "execution": {
     "iopub.execute_input": "2025-08-27T21:51:00.780399Z",
     "iopub.status.busy": "2025-08-27T21:51:00.780219Z",
     "iopub.status.idle": "2025-08-27T21:51:00.784954Z",
     "shell.execute_reply": "2025-08-27T21:51:00.784649Z"
    },
    "tags": []
   },
   "outputs": [
    {
     "name": "stdout",
     "output_type": "stream",
     "text": [
      "PAY Value: 15733.85138\n",
      "Recvr Value: 9520.61416\n",
      "PayV - RecV: 6213.23722\n"
     ]
    }
   ],
   "source": [
    "value_pay = swaptionPay.value(settle_dt, libor_curve, model)\n",
    "value_rec = swaptionRec.value(settle_dt, libor_curve, model)\n",
    "valuePayRec = value_pay - value_rec\n",
    "print(\"PAY Value: %9.5f\"% value_pay)\n",
    "print(\"Recvr Value: %9.5f\"% value_rec)\n",
    "print(\"PayV - RecV: %9.5f\"% valuePayRec)"
   ]
  },
  {
   "cell_type": "markdown",
   "metadata": {},
   "source": [
    "The swaption values have changed. Put call parity keeps the difference equal to the value of the forward starting swap."
   ]
  },
  {
   "cell_type": "markdown",
   "metadata": {},
   "source": [
    "We can also value the European option using other models. Let's try Black-Karasinski."
   ]
  },
  {
   "cell_type": "markdown",
   "metadata": {},
   "source": [
    "## Valuation using Shifted Black Model"
   ]
  },
  {
   "cell_type": "code",
   "execution_count": 16,
   "metadata": {
    "execution": {
     "iopub.execute_input": "2025-08-27T21:51:00.786715Z",
     "iopub.status.busy": "2025-08-27T21:51:00.786421Z",
     "iopub.status.idle": "2025-08-27T21:51:00.788678Z",
     "shell.execute_reply": "2025-08-27T21:51:00.788296Z"
    }
   },
   "outputs": [],
   "source": [
    "model = BlackShifted(0.00001, 0.002)"
   ]
  },
  {
   "cell_type": "code",
   "execution_count": 17,
   "metadata": {
    "execution": {
     "iopub.execute_input": "2025-08-27T21:51:00.790266Z",
     "iopub.status.busy": "2025-08-27T21:51:00.790016Z",
     "iopub.status.idle": "2025-08-27T21:51:00.794441Z",
     "shell.execute_reply": "2025-08-27T21:51:00.794037Z"
    }
   },
   "outputs": [
    {
     "name": "stdout",
     "output_type": "stream",
     "text": [
      "PAY Value: 6213.23722\n",
      "Recvr Value:   0.00000\n",
      "PayV - RecV: 6213.23722\n"
     ]
    }
   ],
   "source": [
    "value_pay = swaptionPay.value(settle_dt, libor_curve, model)\n",
    "value_rec = swaptionRec.value(settle_dt, libor_curve, model)\n",
    "valuePayRec = value_pay - value_rec\n",
    "print(\"PAY Value: %9.5f\"% value_pay)\n",
    "print(\"Recvr Value: %9.5f\"% value_rec)\n",
    "print(\"PayV - RecV: %9.5f\"% valuePayRec)"
   ]
  },
  {
   "cell_type": "code",
   "execution_count": 18,
   "metadata": {
    "execution": {
     "iopub.execute_input": "2025-08-27T21:51:00.796157Z",
     "iopub.status.busy": "2025-08-27T21:51:00.795978Z",
     "iopub.status.idle": "2025-08-27T21:51:00.798258Z",
     "shell.execute_reply": "2025-08-27T21:51:00.797842Z"
    }
   },
   "outputs": [],
   "source": [
    "model = BlackShifted(0.20, 0.002)"
   ]
  },
  {
   "cell_type": "code",
   "execution_count": 19,
   "metadata": {
    "execution": {
     "iopub.execute_input": "2025-08-27T21:51:00.799747Z",
     "iopub.status.busy": "2025-08-27T21:51:00.799525Z",
     "iopub.status.idle": "2025-08-27T21:51:00.803944Z",
     "shell.execute_reply": "2025-08-27T21:51:00.803605Z"
    }
   },
   "outputs": [
    {
     "name": "stdout",
     "output_type": "stream",
     "text": [
      "PAY Value: 16130.59707\n",
      "Recvr Value: 9917.35986\n",
      "PayV - RecV: 6213.23722\n"
     ]
    }
   ],
   "source": [
    "value_pay = swaptionPay.value(settle_dt, libor_curve, model)\n",
    "value_rec = swaptionRec.value(settle_dt, libor_curve, model)\n",
    "valuePayRec = value_pay - value_rec\n",
    "print(\"PAY Value: %9.5f\"% value_pay)\n",
    "print(\"Recvr Value: %9.5f\"% value_rec)\n",
    "print(\"PayV - RecV: %9.5f\"% valuePayRec)"
   ]
  },
  {
   "cell_type": "markdown",
   "metadata": {},
   "source": [
    "Once again the model satisfies put-call parity."
   ]
  },
  {
   "cell_type": "markdown",
   "metadata": {},
   "source": [
    "## Valuation using Black-Karasinski"
   ]
  },
  {
   "cell_type": "markdown",
   "metadata": {},
   "source": [
    "Start with the zero volatility limit"
   ]
  },
  {
   "cell_type": "code",
   "execution_count": 20,
   "metadata": {
    "execution": {
     "iopub.execute_input": "2025-08-27T21:51:00.805686Z",
     "iopub.status.busy": "2025-08-27T21:51:00.805500Z",
     "iopub.status.idle": "2025-08-27T21:51:00.807815Z",
     "shell.execute_reply": "2025-08-27T21:51:00.807488Z"
    }
   },
   "outputs": [],
   "source": [
    "sigma = 0.000001\n",
    "a = 0.01\n",
    "num_time_steps = 200\n",
    "model = BKTree(sigma, a, num_time_steps)"
   ]
  },
  {
   "cell_type": "code",
   "execution_count": 21,
   "metadata": {
    "execution": {
     "iopub.execute_input": "2025-08-27T21:51:00.809414Z",
     "iopub.status.busy": "2025-08-27T21:51:00.809123Z",
     "iopub.status.idle": "2025-08-27T21:51:00.854780Z",
     "shell.execute_reply": "2025-08-27T21:51:00.854389Z"
    },
    "tags": []
   },
   "outputs": [
    {
     "name": "stdout",
     "output_type": "stream",
     "text": [
      "PAY Value: 6347.52035\n",
      "Recvr Value:   0.00000\n",
      "PayV - RecV: 6347.52035\n"
     ]
    }
   ],
   "source": [
    "value_pay = swaptionPay.value(settle_dt, libor_curve, model)\n",
    "value_rec = swaptionRec.value(settle_dt, libor_curve, model)\n",
    "valuePayRec = value_pay - value_rec\n",
    "print(\"PAY Value: %9.5f\"% value_pay)\n",
    "print(\"Recvr Value: %9.5f\"% value_rec)\n",
    "print(\"PayV - RecV: %9.5f\"% valuePayRec)"
   ]
  },
  {
   "cell_type": "markdown",
   "metadata": {},
   "source": [
    "Only the PAY swaption is in the money and is worth the forward starting swap."
   ]
  },
  {
   "cell_type": "code",
   "execution_count": 22,
   "metadata": {
    "execution": {
     "iopub.execute_input": "2025-08-27T21:51:00.856541Z",
     "iopub.status.busy": "2025-08-27T21:51:00.856320Z",
     "iopub.status.idle": "2025-08-27T21:51:00.858973Z",
     "shell.execute_reply": "2025-08-27T21:51:00.858639Z"
    }
   },
   "outputs": [],
   "source": [
    "sigma = 0.20\n",
    "a = 0.01\n",
    "num_time_steps = 200\n",
    "model = BKTree(sigma, a, num_time_steps)"
   ]
  },
  {
   "cell_type": "code",
   "execution_count": 23,
   "metadata": {
    "execution": {
     "iopub.execute_input": "2025-08-27T21:51:00.860614Z",
     "iopub.status.busy": "2025-08-27T21:51:00.860317Z",
     "iopub.status.idle": "2025-08-27T21:51:00.874010Z",
     "shell.execute_reply": "2025-08-27T21:51:00.873652Z"
    },
    "tags": []
   },
   "outputs": [
    {
     "name": "stdout",
     "output_type": "stream",
     "text": [
      "PAY Value: 15727.42906\n",
      "Recvr Value: 9379.90877\n",
      "PayV - RecV: 6347.52029\n"
     ]
    }
   ],
   "source": [
    "value_pay = swaptionPay.value(settle_dt, libor_curve, model)\n",
    "value_rec = swaptionRec.value(settle_dt, libor_curve, model)\n",
    "valuePayRec = value_pay - value_rec\n",
    "print(\"PAY Value: %9.5f\"% value_pay)\n",
    "print(\"Recvr Value: %9.5f\"% value_rec)\n",
    "print(\"PayV - RecV: %9.5f\"% valuePayRec)"
   ]
  },
  {
   "cell_type": "markdown",
   "metadata": {},
   "source": [
    "At 20% volatility the values are higher but put-call parity is obeyed."
   ]
  },
  {
   "cell_type": "markdown",
   "metadata": {},
   "source": [
    "## Valuation using Black-Derman-Toy"
   ]
  },
  {
   "cell_type": "markdown",
   "metadata": {},
   "source": [
    "Check the zero volatility limit"
   ]
  },
  {
   "cell_type": "code",
   "execution_count": 24,
   "metadata": {
    "execution": {
     "iopub.execute_input": "2025-08-27T21:51:00.875964Z",
     "iopub.status.busy": "2025-08-27T21:51:00.875601Z",
     "iopub.status.idle": "2025-08-27T21:51:00.878175Z",
     "shell.execute_reply": "2025-08-27T21:51:00.877834Z"
    }
   },
   "outputs": [],
   "source": [
    "sigma = 0.00001\n",
    "num_time_steps = 200\n",
    "model = BDTTree(sigma, num_time_steps)"
   ]
  },
  {
   "cell_type": "code",
   "execution_count": 25,
   "metadata": {
    "execution": {
     "iopub.execute_input": "2025-08-27T21:51:00.880037Z",
     "iopub.status.busy": "2025-08-27T21:51:00.879736Z",
     "iopub.status.idle": "2025-08-27T21:51:00.914590Z",
     "shell.execute_reply": "2025-08-27T21:51:00.914136Z"
    },
    "tags": []
   },
   "outputs": [
    {
     "name": "stdout",
     "output_type": "stream",
     "text": [
      "PAY Value: 6347.28920\n",
      "Recvr Value:   0.00000\n",
      "PayV - RecV: 6347.28920\n"
     ]
    }
   ],
   "source": [
    "value_pay = swaptionPay.value(settle_dt, libor_curve, model)\n",
    "value_rec = swaptionRec.value(settle_dt, libor_curve, model)\n",
    "valuePayRec = value_pay - value_rec\n",
    "print(\"PAY Value: %9.5f\"% value_pay)\n",
    "print(\"Recvr Value: %9.5f\"% value_rec)\n",
    "print(\"PayV - RecV: %9.5f\"% valuePayRec)"
   ]
  },
  {
   "cell_type": "markdown",
   "metadata": {},
   "source": [
    "Same result as before."
   ]
  },
  {
   "cell_type": "code",
   "execution_count": 26,
   "metadata": {
    "execution": {
     "iopub.execute_input": "2025-08-27T21:51:00.916544Z",
     "iopub.status.busy": "2025-08-27T21:51:00.916356Z",
     "iopub.status.idle": "2025-08-27T21:51:00.918715Z",
     "shell.execute_reply": "2025-08-27T21:51:00.918401Z"
    }
   },
   "outputs": [],
   "source": [
    "sigma = 0.20\n",
    "num_time_steps = 200\n",
    "model = BDTTree(sigma, num_time_steps)"
   ]
  },
  {
   "cell_type": "code",
   "execution_count": 27,
   "metadata": {
    "execution": {
     "iopub.execute_input": "2025-08-27T21:51:00.920533Z",
     "iopub.status.busy": "2025-08-27T21:51:00.920267Z",
     "iopub.status.idle": "2025-08-27T21:51:00.929893Z",
     "shell.execute_reply": "2025-08-27T21:51:00.929386Z"
    },
    "tags": []
   },
   "outputs": [
    {
     "name": "stdout",
     "output_type": "stream",
     "text": [
      "PAY Value: 15990.91739\n",
      "Recvr Value: 9639.93743\n",
      "PayV - RecV: 6350.97996\n"
     ]
    }
   ],
   "source": [
    "value_pay = swaptionPay.value(settle_dt, libor_curve, model)\n",
    "value_rec = swaptionRec.value(settle_dt, libor_curve, model)\n",
    "valuePayRec = value_pay - value_rec\n",
    "print(\"PAY Value: %9.5f\"% value_pay)\n",
    "print(\"Recvr Value: %9.5f\"% value_rec)\n",
    "print(\"PayV - RecV: %9.5f\"% valuePayRec)"
   ]
  },
  {
   "cell_type": "markdown",
   "metadata": {},
   "source": [
    "At 20% volatility the values are higher but put-call parity is obeyed."
   ]
  },
  {
   "cell_type": "markdown",
   "metadata": {},
   "source": [
    "## Valuation using Hull-White Model"
   ]
  },
  {
   "cell_type": "markdown",
   "metadata": {},
   "source": [
    "We do the zero volatility limit first."
   ]
  },
  {
   "cell_type": "code",
   "execution_count": 28,
   "metadata": {
    "execution": {
     "iopub.execute_input": "2025-08-27T21:51:00.931713Z",
     "iopub.status.busy": "2025-08-27T21:51:00.931527Z",
     "iopub.status.idle": "2025-08-27T21:51:00.934062Z",
     "shell.execute_reply": "2025-08-27T21:51:00.933487Z"
    }
   },
   "outputs": [],
   "source": [
    "sigma = 0.0000001\n",
    "a = 0.01\n",
    "num_time_steps = 200\n",
    "model = HWTree(sigma, a)"
   ]
  },
  {
   "cell_type": "markdown",
   "metadata": {},
   "source": [
    "This is analytical as it uses Jamshidians method."
   ]
  },
  {
   "cell_type": "code",
   "execution_count": 29,
   "metadata": {
    "execution": {
     "iopub.execute_input": "2025-08-27T21:51:00.935673Z",
     "iopub.status.busy": "2025-08-27T21:51:00.935490Z",
     "iopub.status.idle": "2025-08-27T21:51:00.952164Z",
     "shell.execute_reply": "2025-08-27T21:51:00.951826Z"
    },
    "tags": []
   },
   "outputs": [
    {
     "name": "stdout",
     "output_type": "stream",
     "text": [
      "PAY Value: 6348.45763\n",
      "Recvr Value:   0.00000\n",
      "PayV - RecV: 6348.45763\n"
     ]
    }
   ],
   "source": [
    "value_pay = swaptionPay.value(settle_dt, libor_curve, model)\n",
    "value_rec = swaptionRec.value(settle_dt, libor_curve, model)\n",
    "valuePayRec = value_pay - value_rec\n",
    "print(\"PAY Value: %9.5f\"% value_pay)\n",
    "print(\"Recvr Value: %9.5f\"% value_rec)\n",
    "print(\"PayV - RecV: %9.5f\"% valuePayRec)"
   ]
  },
  {
   "cell_type": "markdown",
   "metadata": {},
   "source": [
    "This is as expected."
   ]
  },
  {
   "cell_type": "code",
   "execution_count": 30,
   "metadata": {
    "execution": {
     "iopub.execute_input": "2025-08-27T21:51:00.953930Z",
     "iopub.status.busy": "2025-08-27T21:51:00.953624Z",
     "iopub.status.idle": "2025-08-27T21:51:00.955974Z",
     "shell.execute_reply": "2025-08-27T21:51:00.955607Z"
    }
   },
   "outputs": [],
   "source": [
    "sigma = 0.01\n",
    "a = 0.01\n",
    "num_time_steps = 200\n",
    "model = HWTree(sigma, a)"
   ]
  },
  {
   "cell_type": "code",
   "execution_count": 31,
   "metadata": {
    "execution": {
     "iopub.execute_input": "2025-08-27T21:51:00.957447Z",
     "iopub.status.busy": "2025-08-27T21:51:00.957271Z",
     "iopub.status.idle": "2025-08-27T21:51:00.962399Z",
     "shell.execute_reply": "2025-08-27T21:51:00.961968Z"
    },
    "tags": []
   },
   "outputs": [
    {
     "name": "stdout",
     "output_type": "stream",
     "text": [
      "PAY Value: 13721.09708\n",
      "Recvr Value: 7372.76925\n",
      "PayV - RecV: 6348.32782\n"
     ]
    }
   ],
   "source": [
    "value_pay = swaptionPay.value(settle_dt, libor_curve, model)\n",
    "value_rec = swaptionRec.value(settle_dt, libor_curve, model)\n",
    "valuePayRec = value_pay - value_rec\n",
    "print(\"PAY Value: %9.5f\"% value_pay)\n",
    "print(\"Recvr Value: %9.5f\"% value_rec)\n",
    "print(\"PayV - RecV: %9.5f\"% valuePayRec)"
   ]
  },
  {
   "cell_type": "markdown",
   "metadata": {},
   "source": [
    "Once again put-call parity is obeyed."
   ]
  },
  {
   "cell_type": "markdown",
   "metadata": {},
   "source": [
    "# Tree Convergence Testing"
   ]
  },
  {
   "cell_type": "markdown",
   "metadata": {},
   "source": [
    "## BK Model"
   ]
  },
  {
   "cell_type": "code",
   "execution_count": 32,
   "metadata": {
    "execution": {
     "iopub.execute_input": "2025-08-27T21:51:00.964437Z",
     "iopub.status.busy": "2025-08-27T21:51:00.964064Z",
     "iopub.status.idle": "2025-08-27T21:51:03.965365Z",
     "shell.execute_reply": "2025-08-27T21:51:03.964813Z"
    }
   },
   "outputs": [
    {
     "data": {
      "image/png": "[encoded data removed]",
      "text/plain": [
       "<Figure size 640x480 with 1 Axes>"
      ]
     },
     "metadata": {},
     "output_type": "display_data"
    }
   ],
   "source": [
    "sigma = 0.2012\n",
    "a = 0.04\n",
    "\n",
    "time_steps = range(100,500,1)\n",
    "values = []\n",
    "for num_time_steps in time_steps:\n",
    "    model = BKTree(sigma, a, num_time_steps)\n",
    "    v = swaptionPay.value(value_dt, libor_curve, model)\n",
    "    values.append(v)\n",
    "\n",
    "plt.plot(time_steps, values);"
   ]
  },
  {
   "cell_type": "markdown",
   "metadata": {},
   "source": [
    "Averaging even and odd values will improve convergence."
   ]
  },
  {
   "cell_type": "markdown",
   "metadata": {},
   "source": [
    "## BDT Model"
   ]
  },
  {
   "cell_type": "code",
   "execution_count": 33,
   "metadata": {
    "execution": {
     "iopub.execute_input": "2025-08-27T21:51:03.967363Z",
     "iopub.status.busy": "2025-08-27T21:51:03.967125Z",
     "iopub.status.idle": "2025-08-27T21:51:06.503149Z",
     "shell.execute_reply": "2025-08-27T21:51:06.502650Z"
    }
   },
   "outputs": [
    {
     "data": {
      "image/png": "[encoded data removed]",
      "text/plain": [
       "<Figure size 640x480 with 1 Axes>"
      ]
     },
     "metadata": {},
     "output_type": "display_data"
    }
   ],
   "source": [
    "sigma = 0.2012\n",
    "\n",
    "time_steps = range(100,500,1)\n",
    "values = []\n",
    "for num_time_steps in time_steps:\n",
    "    model = BDTTree(sigma, num_time_steps)\n",
    "    v = swaptionPay.value(settle_dt, libor_curve, model)\n",
    "    values.append(v)\n",
    "\n",
    "plt.plot(time_steps, values);"
   ]
  },
  {
   "cell_type": "markdown",
   "metadata": {},
   "source": [
    "Averaging even and odd values will improve convergence."
   ]
  },
  {
   "cell_type": "markdown",
   "metadata": {},
   "source": [
    "Copyright (c) 2020 Dominic O'Kane"
   ]
  }
 ],
 "metadata": {
  "kernelspec": {
   "display_name": "base",
   "language": "python",
   "name": "python3"
  },
  "language_info": {
   "codemirror_mode": {
    "name": "ipython",
    "version": 3
   },
   "file_extension": ".py",
   "mimetype": "text/x-python",
   "name": "python",
   "nbconvert_exporter": "python",
   "pygments_lexer": "ipython3",
   "version": "3.13.5"
  }
 },
 "nbformat": 4,
 "nbformat_minor": 2
}
