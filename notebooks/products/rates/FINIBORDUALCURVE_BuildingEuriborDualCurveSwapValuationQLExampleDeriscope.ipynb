{
    "cells": [
        {
            "cell_type": "markdown",
            "metadata": {},
            "source": [
                "# Building a Euribor Libor Dual Curve and Valuing a Swap"
            ]
        },
        {
            "cell_type": "markdown",
            "metadata": {},
            "source": [
                "We build an OIS curve from OIS swaps that include forward starting OIS using MM dates.\n",
                "\n",
                "This follows example mentioned in the blogpost at https://blog.deriscope.com/index.php/en/excel-interest-rate-swap-price-dual-bootstrapping-curve"
            ]
        },
        {
            "cell_type": "code",
            "execution_count": 1,
            "metadata": {
                "execution": {
                    "iopub.execute_input": "2024-04-30T20:22:11.852042Z",
                    "iopub.status.busy": "2024-04-30T20:22:11.851042Z",
                    "iopub.status.idle": "2024-04-30T20:22:12.530251Z",
                    "shell.execute_reply": "2024-04-30T20:22:12.529245Z"
                }
            },
            "outputs": [],
            "source": [
                "import numpy as np\n",
                "import matplotlib.pyplot as plt"
            ]
        },
        {
            "cell_type": "code",
            "execution_count": 2,
            "metadata": {
                "execution": {
                    "iopub.execute_input": "2024-04-30T20:22:12.533244Z",
                    "iopub.status.busy": "2024-04-30T20:22:12.533244Z",
                    "iopub.status.idle": "2024-04-30T20:22:14.079753Z",
                    "shell.execute_reply": "2024-04-30T20:22:14.079753Z"
                }
            },
            "outputs": [
                {
                    "name": "stdout",
                    "output_type": "stream",
                    "text": [
                        "####################################################################\n",
                        "#  FINANCEPY BETA Version 0.350 - This build: 30 Apr 2024 at 21:20 #\n",
                        "#     This software is distributed FREE AND WITHOUT ANY WARRANTY   #\n",
                        "#  Report bugs as issues at https://github.com/domokane/FinancePy  #\n",
                        "####################################################################\n",
                        "\n"
                    ]
                }
            ],
            "source": [
                "from financepy.utils import *\n",
                "from financepy.products.rates import *"
            ]
        },
        {
            "cell_type": "code",
            "execution_count": 3,
            "metadata": {
                "execution": {
                    "iopub.execute_input": "2024-04-30T20:22:14.082748Z",
                    "iopub.status.busy": "2024-04-30T20:22:14.082748Z",
                    "iopub.status.idle": "2024-04-30T20:22:14.085441Z",
                    "shell.execute_reply": "2024-04-30T20:22:14.085441Z"
                }
            },
            "outputs": [],
            "source": [
                "set_date_format(DateFormatTypes.UK_LONG)"
            ]
        },
        {
            "cell_type": "code",
            "execution_count": 4,
            "metadata": {
                "execution": {
                    "iopub.execute_input": "2024-04-30T20:22:14.087940Z",
                    "iopub.status.busy": "2024-04-30T20:22:14.087940Z",
                    "iopub.status.idle": "2024-04-30T20:22:14.106828Z",
                    "shell.execute_reply": "2024-04-30T20:22:14.106828Z"
                }
            },
            "outputs": [],
            "source": [
                "value_dt = Date(30, 11, 2018)"
            ]
        },
        {
            "cell_type": "markdown",
            "metadata": {},
            "source": [
                "## Define IR Swap"
            ]
        },
        {
            "cell_type": "markdown",
            "metadata": {},
            "source": [
                "Define the swap characteristics"
            ]
        },
        {
            "cell_type": "code",
            "execution_count": 5,
            "metadata": {
                "execution": {
                    "iopub.execute_input": "2024-04-30T20:22:14.109421Z",
                    "iopub.status.busy": "2024-04-30T20:22:14.109421Z",
                    "iopub.status.idle": "2024-04-30T20:22:14.112620Z",
                    "shell.execute_reply": "2024-04-30T20:22:14.112620Z"
                }
            },
            "outputs": [],
            "source": [
                "start_dt = Date(27, 12, 2017)\n",
                "maturity_dt = Date(27, 12, 2067)\n",
                "notional = 10 * ONE_MILLION\n",
                "swap_type = SwapTypes.RECEIVE"
            ]
        },
        {
            "cell_type": "markdown",
            "metadata": {},
            "source": [
                "Set up the fixed leg"
            ]
        },
        {
            "cell_type": "code",
            "execution_count": 6,
            "metadata": {
                "execution": {
                    "iopub.execute_input": "2024-04-30T20:22:14.114618Z",
                    "iopub.status.busy": "2024-04-30T20:22:14.114618Z",
                    "iopub.status.idle": "2024-04-30T20:22:14.117800Z",
                    "shell.execute_reply": "2024-04-30T20:22:14.117800Z"
                }
            },
            "outputs": [],
            "source": [
                "fixed_rate = 0.0150\n",
                "fixed_dcc_type = DayCountTypes.THIRTY_360_BOND\n",
                "fixed_freq_type = FrequencyTypes.ANNUAL"
            ]
        },
        {
            "cell_type": "markdown",
            "metadata": {},
            "source": [
                "Set up the floating leg"
            ]
        },
        {
            "cell_type": "code",
            "execution_count": 7,
            "metadata": {
                "execution": {
                    "iopub.execute_input": "2024-04-30T20:22:14.120336Z",
                    "iopub.status.busy": "2024-04-30T20:22:14.120336Z",
                    "iopub.status.idle": "2024-04-30T20:22:14.123142Z",
                    "shell.execute_reply": "2024-04-30T20:22:14.123142Z"
                }
            },
            "outputs": [],
            "source": [
                "float_spread = 0.0\n",
                "principal = 0.0\n",
                "float_dcc_type = DayCountTypes.ACT_360\n",
                "float_freq_type = FrequencyTypes.SEMI_ANNUAL"
            ]
        },
        {
            "cell_type": "code",
            "execution_count": 8,
            "metadata": {
                "execution": {
                    "iopub.execute_input": "2024-04-30T20:22:14.126139Z",
                    "iopub.status.busy": "2024-04-30T20:22:14.125142Z",
                    "iopub.status.idle": "2024-04-30T20:22:14.137280Z",
                    "shell.execute_reply": "2024-04-30T20:22:14.137280Z"
                }
            },
            "outputs": [],
            "source": [
                "offMarketSwap = IborSwap(start_dt, maturity_dt, swap_type, \n",
                "                            fixed_rate, fixed_freq_type, fixed_dcc_type,\n",
                "                            notional,\n",
                "                            float_spread, float_freq_type, float_dcc_type, \n",
                "                            CalendarTypes.TARGET)"
            ]
        },
        {
            "cell_type": "code",
            "execution_count": 9,
            "metadata": {
                "execution": {
                    "iopub.execute_input": "2024-04-30T20:22:14.139784Z",
                    "iopub.status.busy": "2024-04-30T20:22:14.139784Z",
                    "iopub.status.idle": "2024-04-30T20:22:14.142828Z",
                    "shell.execute_reply": "2024-04-30T20:22:14.142828Z"
                }
            },
            "outputs": [],
            "source": [
                "interp_type = InterpTypes.LINEAR_ZERO_RATES"
            ]
        },
        {
            "cell_type": "markdown",
            "metadata": {},
            "source": [
                "## Build a USD Libor Single Curve"
            ]
        },
        {
            "cell_type": "code",
            "execution_count": 10,
            "metadata": {
                "execution": {
                    "iopub.execute_input": "2024-04-30T20:22:14.145825Z",
                    "iopub.status.busy": "2024-04-30T20:22:14.144828Z",
                    "iopub.status.idle": "2024-04-30T20:22:14.393043Z",
                    "shell.execute_reply": "2024-04-30T20:22:14.393043Z"
                }
            },
            "outputs": [],
            "source": [
                "depos = []; fras = []; swaps = []\n",
                "\n",
                "spot_days = 0\n",
                "settle_dt = value_dt.add_weekdays(spot_days)\n",
                "depo_dcc_type = DayCountTypes.ACT_360\n",
                "depo = IborDeposit(settle_dt, \"6M\", -0.2510/100.0, depo_dcc_type); depos.append(depo)\n",
                "fraDCCType = DayCountTypes.ACT_360\n",
                "\n",
                "fra = IborFRA(settle_dt.add_tenor(\"1M\"), \"6M\", -0.2450/100.0, fraDCCType); fras.append(fra)\n",
                "fra = IborFRA(settle_dt.add_tenor(\"2M\"), \"6M\", -0.2435/100.0, fraDCCType); fras.append(fra)\n",
                "fra = IborFRA(settle_dt.add_tenor(\"3M\"), \"6M\", -0.2400/100.0, fraDCCType); fras.append(fra)\n",
                "fra = IborFRA(settle_dt.add_tenor(\"4M\"), \"6M\", -0.2360/100.0, fraDCCType); fras.append(fra)\n",
                "fra = IborFRA(settle_dt.add_tenor(\"5M\"), \"6M\", -0.2285/100.0, fraDCCType); fras.append(fra)\n",
                "fra = IborFRA(settle_dt.add_tenor(\"6M\"), \"6M\", -0.2230/100.0, fraDCCType); fras.append(fra)\n",
                "fra = IborFRA(settle_dt.add_tenor(\"7M\"), \"6M\", -0.2110/100.0, fraDCCType); fras.append(fra)\n",
                "fra = IborFRA(settle_dt.add_tenor(\"8M\"), \"6M\", -0.1990/100.0, fraDCCType); fras.append(fra)\n",
                "fra = IborFRA(settle_dt.add_tenor(\"9M\"), \"6M\", -0.1850/100.0, fraDCCType); fras.append(fra)\n",
                "fra = IborFRA(settle_dt.add_tenor(\"10M\"), \"6M\", -0.1680/100.0, fraDCCType); fras.append(fra)\n",
                "fra = IborFRA(settle_dt.add_tenor(\"11M\"), \"6M\", -0.1510/100.0, fraDCCType); fras.append(fra)\n",
                "fra = IborFRA(settle_dt.add_tenor(\"12M\"), \"6M\", -0.1360/100.0, fraDCCType); fras.append(fra)\n",
                "\n",
                "swap_type = SwapTypes.PAY\n",
                "fixed_dcc_type = DayCountTypes.THIRTY_360_BOND\n",
                "fixed_freq_type = FrequencyTypes.ANNUAL\n",
                "\n",
                "swap = IborSwap(settle_dt, \"2Y\", swap_type, -0.1525/100.0, fixed_freq_type, fixed_dcc_type); swaps.append(swap)\n",
                "swap = IborSwap(settle_dt, \"3Y\", swap_type, -0.0185/100.0, fixed_freq_type, fixed_dcc_type); swaps.append(swap)\n",
                "swap = IborSwap(settle_dt, \"4Y\", swap_type, 0.1315/100.0, fixed_freq_type, fixed_dcc_type); swaps.append(swap)\n",
                "swap = IborSwap(settle_dt, \"5Y\", swap_type, 0.2745/100.0, fixed_freq_type, fixed_dcc_type); swaps.append(swap)\n",
                "swap = IborSwap(settle_dt, \"6Y\", swap_type, 0.4135/100.0, fixed_freq_type, fixed_dcc_type); swaps.append(swap)\n",
                "swap = IborSwap(settle_dt, \"7Y\", swap_type, 0.5439/100.0, fixed_freq_type, fixed_dcc_type); swaps.append(swap)\n",
                "swap = IborSwap(settle_dt, \"8Y\", swap_type, 0.6652/100.0, fixed_freq_type, fixed_dcc_type); swaps.append(swap)\n",
                "swap = IborSwap(settle_dt, \"9Y\", swap_type, 0.7784/100.0, fixed_freq_type, fixed_dcc_type); swaps.append(swap)\n",
                "swap = IborSwap(settle_dt, \"10Y\", swap_type, 0.8799/100.0, fixed_freq_type, fixed_dcc_type); swaps.append(swap)\n",
                "swap = IborSwap(settle_dt, \"11Y\", swap_type, 0.9715/100.0, fixed_freq_type, fixed_dcc_type); swaps.append(swap)\n",
                "swap = IborSwap(settle_dt, \"12Y\", swap_type, 1.0517/100.0, fixed_freq_type, fixed_dcc_type); swaps.append(swap)\n",
                "swap = IborSwap(settle_dt, \"15Y\", swap_type, 1.2369/100.0, fixed_freq_type, fixed_dcc_type); swaps.append(swap)\n",
                "swap = IborSwap(settle_dt, \"20Y\", swap_type, 1.3965/100.0, fixed_freq_type, fixed_dcc_type); swaps.append(swap)\n",
                "swap = IborSwap(settle_dt, \"25Y\", swap_type, 1.4472/100.0, fixed_freq_type, fixed_dcc_type); swaps.append(swap)\n",
                "swap = IborSwap(settle_dt, \"30Y\", swap_type, 1.4585/100.0, fixed_freq_type, fixed_dcc_type); swaps.append(swap)\n",
                "swap = IborSwap(settle_dt, \"35Y\", swap_type, 1.4595/100.0, fixed_freq_type, fixed_dcc_type); swaps.append(swap)\n",
                "swap = IborSwap(settle_dt, \"40Y\", swap_type, 1.4535/100.0, fixed_freq_type, fixed_dcc_type); swaps.append(swap)\n",
                "swap = IborSwap(settle_dt, \"45Y\", swap_type, 1.4410/100.0, fixed_freq_type, fixed_dcc_type); swaps.append(swap)\n",
                "swap = IborSwap(settle_dt, \"50Y\", swap_type, 1.4335/100.0, fixed_freq_type, fixed_dcc_type); swaps.append(swap)\n",
                "\n",
                "iborSingleCurve = IborSingleCurve(value_dt, depos, fras, swaps, interp_type)"
            ]
        },
        {
            "cell_type": "code",
            "execution_count": 11,
            "metadata": {
                "execution": {
                    "iopub.execute_input": "2024-04-30T20:22:14.396041Z",
                    "iopub.status.busy": "2024-04-30T20:22:14.396041Z",
                    "iopub.status.idle": "2024-04-30T20:22:14.398557Z",
                    "shell.execute_reply": "2024-04-30T20:22:14.398557Z"
                }
            },
            "outputs": [],
            "source": [
                "iborDepos = depos.copy()\n",
                "iborFras = fras.copy()\n",
                "ibor_swaps = swaps.copy()"
            ]
        },
        {
            "cell_type": "code",
            "execution_count": 12,
            "metadata": {
                "execution": {
                    "iopub.execute_input": "2024-04-30T20:22:14.401122Z",
                    "iopub.status.busy": "2024-04-30T20:22:14.401122Z",
                    "iopub.status.idle": "2024-04-30T20:22:14.637644Z",
                    "shell.execute_reply": "2024-04-30T20:22:14.637644Z"
                }
            },
            "outputs": [],
            "source": [
                "iborCurve = IborSingleCurve(value_dt, iborDepos, iborFras, ibor_swaps, interp_type)"
            ]
        },
        {
            "cell_type": "code",
            "execution_count": 13,
            "metadata": {
                "execution": {
                    "iopub.execute_input": "2024-04-30T20:22:14.639678Z",
                    "iopub.status.busy": "2024-04-30T20:22:14.639678Z",
                    "iopub.status.idle": "2024-04-30T20:22:14.644516Z",
                    "shell.execute_reply": "2024-04-30T20:22:14.644516Z"
                }
            },
            "outputs": [
                {
                    "name": "stdout",
                    "output_type": "stream",
                    "text": [
                        "START DATE: 30-NOV-2018\n",
                        "MATURITY DATE: 30-NOV-2020\n",
                        "COUPON (%): -0.1525\n",
                        "FREQUENCY: FrequencyTypes.ANNUAL\n",
                        "DAY COUNT: DayCountTypes.THIRTY_360_BOND\n",
                        "\n",
                        "PAYMENTS VALUATION:\n",
                        "+---------+-------------+----------+---------+----------+--------+----------+----------+\n",
                        "| PAY_NUM |    PAY_dt   | NOTIONAL |   RATE  |   PMNT   |   DF   |    PV    |  CUM_PV  |\n",
                        "+---------+-------------+----------+---------+----------+--------+----------+----------+\n",
                        "|    1    | 02-DEC-2019 | 1000000  | -0.1525 | -1533.47 | 1.0024 | -1537.17 | -1537.17 |\n",
                        "|    2    | 30-NOV-2020 | 1000000  | -0.1525 | -1516.53 | 1.0031 | -1521.17 | -3058.34 |\n",
                        "+---------+-------------+----------+---------+----------+--------+----------+----------+\n"
                    ]
                }
            ],
            "source": [
                "ibor_swaps[0].print_fixed_leg_pv()"
            ]
        },
        {
            "cell_type": "code",
            "execution_count": 14,
            "metadata": {
                "execution": {
                    "iopub.execute_input": "2024-04-30T20:22:14.647516Z",
                    "iopub.status.busy": "2024-04-30T20:22:14.647516Z",
                    "iopub.status.idle": "2024-04-30T20:22:14.652661Z",
                    "shell.execute_reply": "2024-04-30T20:22:14.652661Z"
                }
            },
            "outputs": [
                {
                    "name": "stdout",
                    "output_type": "stream",
                    "text": [
                        "START DATE: 30-NOV-2018\n",
                        "MATURITY DATE: 30-NOV-2020\n",
                        "SPREAD (BPS): 0.0\n",
                        "FREQUENCY: FrequencyTypes.QUARTERLY\n",
                        "DAY COUNT: DayCountTypes.THIRTY_E_360\n",
                        "\n",
                        "PAYMENTS VALUATION:\n",
                        "+---------+-------------+----------+---------+---------+--------+---------+----------+\n",
                        "| PAY_NUM |    PAY_dt   | NOTIONAL |   IBOR  |   PMNT  |   DF   |    PV   |  CUM_PV  |\n",
                        "+---------+-------------+----------+---------+---------+--------+---------+----------+\n",
                        "|    1    | 28-FEB-2019 | 1000000  | -0.2568 |  -627.7 | 1.0006 | -628.09 | -628.09  |\n",
                        "|    2    | 30-MAY-2019 | 1000000  | -0.2483 | -634.67 | 1.0013 | -635.47 | -1263.57 |\n",
                        "|    3    | 30-AUG-2019 | 1000000  |  -0.234 |  -585.1 | 1.0018 | -586.18 | -1849.75 |\n",
                        "|    4    | 02-DEC-2019 | 1000000  | -0.2197 | -561.41 | 1.0024 | -562.77 | -2412.51 |\n",
                        "|    5    | 02-MAR-2020 | 1000000  | -0.1541 | -385.18 | 1.0028 | -386.26 | -2798.78 |\n",
                        "|    6    | 01-JUN-2020 | 1000000  | -0.1193 | -294.99 | 1.0031 |  -295.9 | -3094.67 |\n",
                        "|    7    | 31-AUG-2020 | 1000000  | -0.0193 |  -47.68 | 1.0031 |  -47.83 | -3142.5  |\n",
                        "|    8    | 30-NOV-2020 | 1000000  |  0.0336 |  83.91  | 1.0031 |  84.16  | -3058.34 |\n",
                        "+---------+-------------+----------+---------+---------+--------+---------+----------+\n"
                    ]
                }
            ],
            "source": [
                "ibor_swaps[0].float_leg.print_valuation()"
            ]
        },
        {
            "cell_type": "markdown",
            "metadata": {},
            "source": [
                "## Swap Valuation"
            ]
        },
        {
            "cell_type": "code",
            "execution_count": 15,
            "metadata": {
                "execution": {
                    "iopub.execute_input": "2024-04-30T20:22:14.655660Z",
                    "iopub.status.busy": "2024-04-30T20:22:14.655660Z",
                    "iopub.status.idle": "2024-04-30T20:22:14.659103Z",
                    "shell.execute_reply": "2024-04-30T20:22:14.659103Z"
                }
            },
            "outputs": [],
            "source": [
                "vBloomberg = 388147"
            ]
        },
        {
            "cell_type": "code",
            "execution_count": 16,
            "metadata": {
                "execution": {
                    "iopub.execute_input": "2024-04-30T20:22:14.661613Z",
                    "iopub.status.busy": "2024-04-30T20:22:14.661613Z",
                    "iopub.status.idle": "2024-04-30T20:22:14.669862Z",
                    "shell.execute_reply": "2024-04-30T20:22:14.669862Z"
                }
            },
            "outputs": [],
            "source": [
                "v1 = offMarketSwap.value(value_dt, iborCurve, iborCurve, -0.268/100.0)"
            ]
        },
        {
            "cell_type": "code",
            "execution_count": 17,
            "metadata": {
                "execution": {
                    "iopub.execute_input": "2024-04-30T20:22:14.672367Z",
                    "iopub.status.busy": "2024-04-30T20:22:14.672367Z",
                    "iopub.status.idle": "2024-04-30T20:22:14.676961Z",
                    "shell.execute_reply": "2024-04-30T20:22:14.675955Z"
                }
            },
            "outputs": [
                {
                    "name": "stdout",
                    "output_type": "stream",
                    "text": [
                        "Single Curve Value: 307023.12  BBG Value:388147.00\n"
                    ]
                }
            ],
            "source": [
                "print(\"Single Curve Value: %9.2f  BBG Value:%9.2f\"% (v1, vBloomberg))"
            ]
        },
        {
            "cell_type": "code",
            "execution_count": 18,
            "metadata": {
                "execution": {
                    "iopub.execute_input": "2024-04-30T20:22:14.679954Z",
                    "iopub.status.busy": "2024-04-30T20:22:14.679954Z",
                    "iopub.status.idle": "2024-04-30T20:22:14.683278Z",
                    "shell.execute_reply": "2024-04-30T20:22:14.683278Z"
                }
            },
            "outputs": [
                {
                    "name": "stdout",
                    "output_type": "stream",
                    "text": [
                        "Error in bps: -81.123885\n"
                    ]
                }
            ],
            "source": [
                "print(\"Error in bps: %9.6f\"% ((v1-vBloomberg)/notional*10000))"
            ]
        },
        {
            "cell_type": "markdown",
            "metadata": {},
            "source": [
                "In Bloomberg, this swap has a value of 388,147.49 - why the difference - BBG uses a Dual Curve."
            ]
        },
        {
            "cell_type": "markdown",
            "metadata": {},
            "source": [
                "## Building the Discounting OIS Curve"
            ]
        },
        {
            "cell_type": "markdown",
            "metadata": {},
            "source": [
                "We construct the OIS curve from a series of swaps, some forward starting. The default assumption on the floating leg is annual payments."
            ]
        },
        {
            "cell_type": "code",
            "execution_count": 19,
            "metadata": {
                "execution": {
                    "iopub.execute_input": "2024-04-30T20:22:14.687304Z",
                    "iopub.status.busy": "2024-04-30T20:22:14.687304Z",
                    "iopub.status.idle": "2024-04-30T20:22:14.721605Z",
                    "shell.execute_reply": "2024-04-30T20:22:14.721605Z"
                }
            },
            "outputs": [],
            "source": [
                "depo_dcc_type = DayCountTypes.ACT_360\n",
                "depos = []\n",
                "\n",
                "spot_days = 0\n",
                "settle_dt = value_dt.add_weekdays(spot_days)\n",
                "depo = IborDeposit(settle_dt, \"1D\", -0.3490/100.0, depo_dcc_type); depos.append(depo)\n",
                "\n",
                "fras = []\n",
                "\n",
                "swaps = []\n",
                "swap_type = SwapTypes.PAY\n",
                "fixed_dcc_type = DayCountTypes.ACT_365F\n",
                "fixed_freq_type = FrequencyTypes.ANNUAL\n",
                "\n",
                "# Standard OIS with standard annual terms\n",
                "swap = OIS(settle_dt, \"2W\", swap_type, -0.3600/100.0, fixed_freq_type, fixed_dcc_type); swaps.append(swap)\n",
                "swap = OIS(settle_dt, \"1M\", swap_type, -0.3560/100.0, fixed_freq_type, fixed_dcc_type); swaps.append(swap)\n",
                "swap = OIS(settle_dt, \"2M\", swap_type, -0.3570/100.0, fixed_freq_type, fixed_dcc_type); swaps.append(swap)\n",
                "swap = OIS(settle_dt, \"3M\", swap_type, -0.3580/100.0, fixed_freq_type, fixed_dcc_type); swaps.append(swap)\n",
                "swap = OIS(settle_dt, \"4M\", swap_type, -0.3575/100.0, fixed_freq_type, fixed_dcc_type); swaps.append(swap)\n",
                "swap = OIS(settle_dt, \"5M\", swap_type, -0.3578/100.0, fixed_freq_type, fixed_dcc_type); swaps.append(swap)\n",
                "swap = OIS(settle_dt, \"6M\", swap_type, -0.3580/100.0, fixed_freq_type, fixed_dcc_type); swaps.append(swap)\n",
                "swap = OIS(settle_dt, \"7M\", swap_type, -0.3600/100.0, fixed_freq_type, fixed_dcc_type); swaps.append(swap)\n",
                "swap = OIS(settle_dt, \"8M\", swap_type, -0.3575/100.0, fixed_freq_type, fixed_dcc_type); swaps.append(swap)\n",
                "swap = OIS(settle_dt, \"9M\", swap_type, -0.3569/100.0, fixed_freq_type, fixed_dcc_type); swaps.append(swap)\n",
                "swap = OIS(settle_dt, \"10M\", swap_type, -0.3553/100.0, fixed_freq_type, fixed_dcc_type); swaps.append(swap)\n",
                "swap = OIS(settle_dt, \"11M\", swap_type, -0.3534/100.0, fixed_freq_type, fixed_dcc_type); swaps.append(swap)\n",
                "swap = OIS(settle_dt, \"12M\", swap_type, -0.3496/100.0, fixed_freq_type, fixed_dcc_type); swaps.append(swap)\n",
                "swap = OIS(settle_dt, \"18M\", swap_type, -0.3173/100.0, fixed_freq_type, fixed_dcc_type); swaps.append(swap)\n",
                "\n",
                "swap = OIS(settle_dt, \"2Y\", swap_type, -0.2671/100.0, fixed_freq_type, fixed_dcc_type); swaps.append(swap)\n",
                "swap = OIS(settle_dt, \"30M\", swap_type, -0.2070/100.0, fixed_freq_type, fixed_dcc_type); swaps.append(swap)\n",
                "swap = OIS(settle_dt, \"3Y\", swap_type, -0.1410/100.0, fixed_freq_type, fixed_dcc_type); swaps.append(swap)\n",
                "swap = OIS(settle_dt, \"4Y\", swap_type, -0.0060/100.0, fixed_freq_type, fixed_dcc_type); swaps.append(swap)\n",
                "swap = OIS(settle_dt, \"5Y\", swap_type, 0.1285/100.0, fixed_freq_type, fixed_dcc_type); swaps.append(swap)\n",
                "swap = OIS(settle_dt, \"6Y\", swap_type, 0.2590/100.0, fixed_freq_type, fixed_dcc_type); swaps.append(swap)\n",
                "swap = OIS(settle_dt, \"7Y\", swap_type, 0.3830/100.0, fixed_freq_type, fixed_dcc_type); swaps.append(swap)\n",
                "swap = OIS(settle_dt, \"8Y\", swap_type, 0.5020/100.0, fixed_freq_type, fixed_dcc_type); swaps.append(swap)\n",
                "swap = OIS(settle_dt, \"9Y\", swap_type, 0.6140/100.0, fixed_freq_type, fixed_dcc_type); swaps.append(swap)\n",
                "swap = OIS(settle_dt, \"10Y\", swap_type, 0.7160/100.0, fixed_freq_type, fixed_dcc_type); swaps.append(swap)\n",
                "swap = OIS(settle_dt, \"11Y\", swap_type, 0.8070/100.0, fixed_freq_type, fixed_dcc_type); swaps.append(swap)\n",
                "swap = OIS(settle_dt, \"12Y\", swap_type, 0.8890/100.0, fixed_freq_type, fixed_dcc_type); swaps.append(swap)\n",
                "swap = OIS(settle_dt, \"15Y\", swap_type, 1.0790/100.0, fixed_freq_type, fixed_dcc_type); swaps.append(swap)\n",
                "swap = OIS(settle_dt, \"20Y\", swap_type, 1.2460/100.0, fixed_freq_type, fixed_dcc_type); swaps.append(swap)\n",
                "swap = OIS(settle_dt, \"25Y\", swap_type, 1.3055/100.0, fixed_freq_type, fixed_dcc_type); swaps.append(swap)\n",
                "swap = OIS(settle_dt, \"30Y\", swap_type, 1.3270/100.0, fixed_freq_type, fixed_dcc_type); swaps.append(swap)\n",
                "swap = OIS(settle_dt, \"35Y\", swap_type, 1.3315/100.0, fixed_freq_type, fixed_dcc_type); swaps.append(swap)\n",
                "swap = OIS(settle_dt, \"40Y\", swap_type, 1.3300/100.0, fixed_freq_type, fixed_dcc_type); swaps.append(swap)\n",
                "swap = OIS(settle_dt, \"50Y\", swap_type, 1.3270/100.0, fixed_freq_type, fixed_dcc_type); swaps.append(swap)\n",
                "\n",
                "oisDepos = depos.copy()\n",
                "oisFras = fras.copy()\n",
                "oisSwaps = swaps.copy()"
            ]
        },
        {
            "cell_type": "code",
            "execution_count": 20,
            "metadata": {
                "execution": {
                    "iopub.execute_input": "2024-04-30T20:22:14.725110Z",
                    "iopub.status.busy": "2024-04-30T20:22:14.724109Z",
                    "iopub.status.idle": "2024-04-30T20:22:14.801426Z",
                    "shell.execute_reply": "2024-04-30T20:22:14.801426Z"
                }
            },
            "outputs": [],
            "source": [
                "oisCurve = OISCurve(value_dt, oisDepos, oisFras, oisSwaps, interp_type)"
            ]
        },
        {
            "cell_type": "code",
            "execution_count": 21,
            "metadata": {
                "execution": {
                    "iopub.execute_input": "2024-04-30T20:22:14.804425Z",
                    "iopub.status.busy": "2024-04-30T20:22:14.804425Z",
                    "iopub.status.idle": "2024-04-30T20:22:14.810915Z",
                    "shell.execute_reply": "2024-04-30T20:22:14.810915Z"
                }
            },
            "outputs": [
                {
                    "data": {
                        "text/plain": [
                            "array([1.        , 1.00002908, 1.0001381 , 1.00030245, 1.00059699,\n",
                            "       1.00088352, 1.00119636, 1.00148241, 1.00177844, 1.00210524,\n",
                            "       1.00237591, 1.00267656, 1.00296799, 1.00324434, 1.00352756,\n",
                            "       1.00479319, 1.00537476, 1.00519777, 1.0042454 , 1.00022628,\n",
                            "       0.99354061, 0.98439996, 0.97322618, 0.96011131, 0.94541594,\n",
                            "       0.92964063, 0.91333576, 0.89652635, 0.84644971, 0.7726468 ,\n",
                            "       0.71365728, 0.66352105, 0.61990978, 0.58064011, 0.50974821])"
                        ]
                    },
                    "execution_count": 21,
                    "metadata": {},
                    "output_type": "execute_result"
                }
            ],
            "source": [
                "oisCurve._dfs"
            ]
        },
        {
            "cell_type": "markdown",
            "metadata": {},
            "source": [
                "## Building the Dual Curve"
            ]
        },
        {
            "cell_type": "code",
            "execution_count": 22,
            "metadata": {
                "execution": {
                    "iopub.execute_input": "2024-04-30T20:22:14.813914Z",
                    "iopub.status.busy": "2024-04-30T20:22:14.813914Z",
                    "iopub.status.idle": "2024-04-30T20:22:15.043566Z",
                    "shell.execute_reply": "2024-04-30T20:22:15.043566Z"
                }
            },
            "outputs": [],
            "source": [
                "iborSingleCurve = IborSingleCurve(value_dt, iborDepos, iborFras, ibor_swaps, interp_type)"
            ]
        },
        {
            "cell_type": "code",
            "execution_count": 23,
            "metadata": {
                "execution": {
                    "iopub.execute_input": "2024-04-30T20:22:15.046563Z",
                    "iopub.status.busy": "2024-04-30T20:22:15.046563Z",
                    "iopub.status.idle": "2024-04-30T20:22:15.314185Z",
                    "shell.execute_reply": "2024-04-30T20:22:15.314185Z"
                }
            },
            "outputs": [],
            "source": [
                "iborDualCurve = IborDualCurve(value_dt, oisCurve, iborDepos, iborFras, ibor_swaps, interp_type)"
            ]
        },
        {
            "cell_type": "code",
            "execution_count": 24,
            "metadata": {
                "execution": {
                    "iopub.execute_input": "2024-04-30T20:22:15.317183Z",
                    "iopub.status.busy": "2024-04-30T20:22:15.317183Z",
                    "iopub.status.idle": "2024-04-30T20:22:15.323892Z",
                    "shell.execute_reply": "2024-04-30T20:22:15.323892Z"
                }
            },
            "outputs": [],
            "source": [
                "v2 = offMarketSwap.value(value_dt, oisCurve, iborDualCurve, -0.268/100.0)"
            ]
        },
        {
            "cell_type": "code",
            "execution_count": 25,
            "metadata": {
                "execution": {
                    "iopub.execute_input": "2024-04-30T20:22:15.325892Z",
                    "iopub.status.busy": "2024-04-30T20:22:15.325892Z",
                    "iopub.status.idle": "2024-04-30T20:22:15.329529Z",
                    "shell.execute_reply": "2024-04-30T20:22:15.329529Z"
                }
            },
            "outputs": [
                {
                    "name": "stdout",
                    "output_type": "stream",
                    "text": [
                        "Two Curve Value: 310881.68  BBG Value:388147.00\n"
                    ]
                }
            ],
            "source": [
                "print(\"Two Curve Value: %9.2f  BBG Value:%9.2f\"% (v2, vBloomberg))"
            ]
        },
        {
            "cell_type": "code",
            "execution_count": 26,
            "metadata": {
                "execution": {
                    "iopub.execute_input": "2024-04-30T20:22:15.332155Z",
                    "iopub.status.busy": "2024-04-30T20:22:15.332155Z",
                    "iopub.status.idle": "2024-04-30T20:22:15.335093Z",
                    "shell.execute_reply": "2024-04-30T20:22:15.335093Z"
                }
            },
            "outputs": [
                {
                    "name": "stdout",
                    "output_type": "stream",
                    "text": [
                        "Error in bps: -77.265324\n"
                    ]
                }
            ],
            "source": [
                "print(\"Error in bps: %9.6f\"% ((v2-vBloomberg)/notional*10000))"
            ]
        },
        {
            "cell_type": "code",
            "execution_count": 27,
            "metadata": {
                "execution": {
                    "iopub.execute_input": "2024-04-30T20:22:15.338129Z",
                    "iopub.status.busy": "2024-04-30T20:22:15.337123Z",
                    "iopub.status.idle": "2024-04-30T20:22:15.342236Z",
                    "shell.execute_reply": "2024-04-30T20:22:15.342236Z"
                }
            },
            "outputs": [
                {
                    "data": {
                        "text/plain": [
                            "1.395699895545544"
                        ]
                    },
                    "execution_count": 27,
                    "metadata": {},
                    "output_type": "execute_result"
                }
            ],
            "source": [
                "offMarketSwap.swap_rate(value_dt, iborDualCurve )*100"
            ]
        },
        {
            "cell_type": "markdown",
            "metadata": {},
            "source": [
                "## Single vs Dual Curve"
            ]
        },
        {
            "cell_type": "code",
            "execution_count": 28,
            "metadata": {
                "execution": {
                    "iopub.execute_input": "2024-04-30T20:22:15.345233Z",
                    "iopub.status.busy": "2024-04-30T20:22:15.344265Z",
                    "iopub.status.idle": "2024-04-30T20:22:15.580635Z",
                    "shell.execute_reply": "2024-04-30T20:22:15.580635Z"
                }
            },
            "outputs": [
                {
                    "data": {
                        "image/png": "[encoded data removed]",
                        "text/plain": [
                            "<Figure size 1200x600 with 1 Axes>"
                        ]
                    },
                    "metadata": {},
                    "output_type": "display_data"
                }
            ],
            "source": [
                "years = np.linspace(9, 24, 100)\n",
                "dates = value_dt.add_years(years)\n",
                "\n",
                "iborSingleCurveFwds = iborSingleCurve.fwd_rate(dates, \"6M\")    \n",
                "iborDualCurveFwds = iborDualCurve.fwd_rate(dates, \"6M\")\n",
                "\n",
                "plt.figure(figsize=(12,6))\n",
                "plt.plot(years, iborSingleCurveFwds*100.0, label=\"Euribor Single Curve\")\n",
                "plt.plot(years, iborDualCurveFwds*100.0, label=\"Euribor Dual Curve\")\n",
                "plt.xlabel(\"Years\")\n",
                "plt.ylabel(\"Forward Rate (%)\")\n",
                "plt.legend();"
            ]
        },
        {
            "cell_type": "markdown",
            "metadata": {},
            "source": [
                "I calculate the difference between the two curves."
            ]
        },
        {
            "cell_type": "code",
            "execution_count": 29,
            "metadata": {
                "execution": {
                    "iopub.execute_input": "2024-04-30T20:22:15.583632Z",
                    "iopub.status.busy": "2024-04-30T20:22:15.583632Z",
                    "iopub.status.idle": "2024-04-30T20:22:16.430893Z",
                    "shell.execute_reply": "2024-04-30T20:22:16.430893Z"
                }
            },
            "outputs": [
                {
                    "data": {
                        "image/png": "[encoded data removed]",
                        "text/plain": [
                            "<Figure size 1200x600 with 1 Axes>"
                        ]
                    },
                    "metadata": {},
                    "output_type": "display_data"
                }
            ],
            "source": [
                "dayMax = 50*360\n",
                "years = np.linspace(0, dayMax/365, dayMax)\n",
                "dates = value_dt.add_years(years)\n",
                "\n",
                "liborSingleCurveFwds = iborSingleCurve.fwd(dates)    \n",
                "liborDualCurveFwds = iborDualCurve.fwd(dates)\n",
                "\n",
                "diff = liborSingleCurveFwds - liborDualCurveFwds\n",
                "\n",
                "plt.figure(figsize=(12,6))\n",
                "plt.plot(years, diff*10000.0, label=\"EONIA Dual - Single Curve Fwds\")\n",
                "plt.xlabel(\"Years\")\n",
                "plt.ylabel(\"Forward Rate Difference (bp)\")\n",
                "plt.legend();"
            ]
        },
        {
            "cell_type": "markdown",
            "metadata": {},
            "source": [
                "Copyright (c) Dominic O'Kane 2020"
            ]
        }
    ],
    "metadata": {
        "kernelspec": {
            "display_name": "Python 3",
            "language": "python",
            "name": "python3"
        },
        "language_info": {
            "codemirror_mode": {
                "name": "ipython",
                "version": 3
            },
            "file_extension": ".py",
            "mimetype": "text/x-python",
            "name": "python",
            "nbconvert_exporter": "python",
            "pygments_lexer": "ipython3",
            "version": "3.11.5"
        }
    },
    "nbformat": 4,
    "nbformat_minor": 4
}