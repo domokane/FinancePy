{
 "cells": [
  {
   "cell_type": "markdown",
   "metadata": {},
   "source": [
    "# Building a Libor Curve"
   ]
  },
  {
   "cell_type": "markdown",
   "metadata": {},
   "source": [
    "This is an example of a replication of a Quantlib example from\n",
    "\n",
    "http://billiontrader.com/2015/02/16/bootstrapping-with-quantlib/\n",
    "\n",
    "Agreement is very good however some issues about date generation need to be checked."
   ]
  },
  {
   "cell_type": "code",
   "execution_count": 1,
   "metadata": {
    "execution": {
     "iopub.execute_input": "2025-08-27T22:37:57.891417Z",
     "iopub.status.busy": "2025-08-27T22:37:57.891154Z",
     "iopub.status.idle": "2025-08-27T22:37:58.345624Z",
     "shell.execute_reply": "2025-08-27T22:37:58.345069Z"
    }
   },
   "outputs": [],
   "source": [
    "import numpy as np\n",
    "import matplotlib.pyplot as plt"
   ]
  },
  {
   "cell_type": "code",
   "execution_count": 2,
   "metadata": {
    "execution": {
     "iopub.execute_input": "2025-08-27T22:37:58.348367Z",
     "iopub.status.busy": "2025-08-27T22:37:58.348042Z",
     "iopub.status.idle": "2025-08-27T22:37:59.926562Z",
     "shell.execute_reply": "2025-08-27T22:37:59.926053Z"
    }
   },
   "outputs": [],
   "source": [
    "from financepy.utils import *\n",
    "from financepy.products.rates import *"
   ]
  },
  {
   "cell_type": "markdown",
   "metadata": {},
   "source": [
    "## Creating the Libor Instruments"
   ]
  },
  {
   "cell_type": "code",
   "execution_count": 3,
   "metadata": {
    "execution": {
     "iopub.execute_input": "2025-08-27T22:37:59.929453Z",
     "iopub.status.busy": "2025-08-27T22:37:59.929125Z",
     "iopub.status.idle": "2025-08-27T22:37:59.948202Z",
     "shell.execute_reply": "2025-08-27T22:37:59.947708Z"
    }
   },
   "outputs": [],
   "source": [
    "trade_dt = Date(16, 2, 2015)"
   ]
  },
  {
   "cell_type": "markdown",
   "metadata": {},
   "source": [
    "### Load up the deposits first"
   ]
  },
  {
   "cell_type": "code",
   "execution_count": 4,
   "metadata": {
    "execution": {
     "iopub.execute_input": "2025-08-27T22:37:59.950856Z",
     "iopub.status.busy": "2025-08-27T22:37:59.950561Z",
     "iopub.status.idle": "2025-08-27T22:37:59.953078Z",
     "shell.execute_reply": "2025-08-27T22:37:59.952761Z"
    }
   },
   "outputs": [],
   "source": [
    "spot_days = 0\n",
    "settle_dt = trade_dt.add_weekdays(spot_days)"
   ]
  },
  {
   "cell_type": "code",
   "execution_count": 5,
   "metadata": {
    "execution": {
     "iopub.execute_input": "2025-08-27T22:37:59.955100Z",
     "iopub.status.busy": "2025-08-27T22:37:59.954872Z",
     "iopub.status.idle": "2025-08-27T22:37:59.964014Z",
     "shell.execute_reply": "2025-08-27T22:37:59.963629Z"
    }
   },
   "outputs": [],
   "source": [
    "depo_dcc_type = DayCountTypes.ACT_360\n",
    "depos = []\n",
    "\n",
    "deposit_rate = 0.001375\n",
    "depo = IborDeposit(settle_dt, \"7D\", deposit_rate, depo_dcc_type)\n",
    "depos.append(depo)\n",
    "\n",
    "deposit_rate = 0.001717\n",
    "depo = IborDeposit(settle_dt, \"1M\", deposit_rate, depo_dcc_type)\n",
    "depos.append(depo)\n",
    "\n",
    "deposit_rate = 0.002112\n",
    "depo = IborDeposit(settle_dt, \"2M\", deposit_rate, depo_dcc_type)\n",
    "depos.append(depo)\n",
    "\n",
    "deposit_rate = 0.002581\n",
    "depo = IborDeposit(settle_dt, \"3M\", deposit_rate, depo_dcc_type)\n",
    "depos.append(depo)"
   ]
  },
  {
   "cell_type": "code",
   "execution_count": 6,
   "metadata": {
    "execution": {
     "iopub.execute_input": "2025-08-27T22:37:59.966433Z",
     "iopub.status.busy": "2025-08-27T22:37:59.966154Z",
     "iopub.status.idle": "2025-08-27T22:37:59.970334Z",
     "shell.execute_reply": "2025-08-27T22:37:59.969837Z"
    }
   },
   "outputs": [
    {
     "name": "stdout",
     "output_type": "stream",
     "text": [
      "OBJECT TYPE: IborDeposit\n",
      "START DATE: 16-FEB-2015\n",
      "MATURITY DATE: 23-FEB-2015\n",
      "NOTIONAL: 100.0\n",
      "DEPOSIT RATE: 0.001375\n",
      "DAY COUNT TYPE: DayCountTypes.ACT_360\n",
      "CALENDAR: CalendarTypes.WEEKEND\n",
      "BUS DAY ADJUST TYPE: BusDayAdjustTypes.MODIFIED_FOLLOWING\n",
      "\n",
      "OBJECT TYPE: IborDeposit\n",
      "START DATE: 16-FEB-2015\n",
      "MATURITY DATE: 16-MAR-2015\n",
      "NOTIONAL: 100.0\n",
      "DEPOSIT RATE: 0.001717\n",
      "DAY COUNT TYPE: DayCountTypes.ACT_360\n",
      "CALENDAR: CalendarTypes.WEEKEND\n",
      "BUS DAY ADJUST TYPE: BusDayAdjustTypes.MODIFIED_FOLLOWING\n",
      "\n",
      "OBJECT TYPE: IborDeposit\n",
      "START DATE: 16-FEB-2015\n",
      "MATURITY DATE: 16-APR-2015\n",
      "NOTIONAL: 100.0\n",
      "DEPOSIT RATE: 0.002112\n",
      "DAY COUNT TYPE: DayCountTypes.ACT_360\n",
      "CALENDAR: CalendarTypes.WEEKEND\n",
      "BUS DAY ADJUST TYPE: BusDayAdjustTypes.MODIFIED_FOLLOWING\n",
      "\n",
      "OBJECT TYPE: IborDeposit\n",
      "START DATE: 16-FEB-2015\n",
      "MATURITY DATE: 18-MAY-2015\n",
      "NOTIONAL: 100.0\n",
      "DEPOSIT RATE: 0.002581\n",
      "DAY COUNT TYPE: DayCountTypes.ACT_360\n",
      "CALENDAR: CalendarTypes.WEEKEND\n",
      "BUS DAY ADJUST TYPE: BusDayAdjustTypes.MODIFIED_FOLLOWING\n",
      "\n"
     ]
    }
   ],
   "source": [
    "for depo in depos:\n",
    "    print(depo)"
   ]
  },
  {
   "cell_type": "markdown",
   "metadata": {},
   "source": [
    "### Create Strips of Interest Rate Futures "
   ]
  },
  {
   "cell_type": "code",
   "execution_count": 7,
   "metadata": {
    "execution": {
     "iopub.execute_input": "2025-08-27T22:37:59.972306Z",
     "iopub.status.busy": "2025-08-27T22:37:59.972022Z",
     "iopub.status.idle": "2025-08-27T22:37:59.975681Z",
     "shell.execute_reply": "2025-08-27T22:37:59.975268Z"
    }
   },
   "outputs": [],
   "source": [
    "futs = []\n",
    "fut = IborFuture(trade_dt, 1) ; futs.append(fut)\n",
    "fut = IborFuture(trade_dt, 2) ; futs.append(fut)\n",
    "fut = IborFuture(trade_dt, 3) ; futs.append(fut)\n",
    "fut = IborFuture(trade_dt, 4) ; futs.append(fut)\n",
    "fut = IborFuture(trade_dt, 5) ; futs.append(fut)\n",
    "fut = IborFuture(trade_dt, 6) ; futs.append(fut)"
   ]
  },
  {
   "cell_type": "markdown",
   "metadata": {},
   "source": [
    "### Convert Interest Rate Futures to FRAs"
   ]
  },
  {
   "cell_type": "markdown",
   "metadata": {},
   "source": [
    "Need to supply futures price and the convexity (in percent) which is set to zero"
   ]
  },
  {
   "cell_type": "code",
   "execution_count": 8,
   "metadata": {
    "execution": {
     "iopub.execute_input": "2025-08-27T22:37:59.977980Z",
     "iopub.status.busy": "2025-08-27T22:37:59.977717Z",
     "iopub.status.idle": "2025-08-27T22:37:59.981682Z",
     "shell.execute_reply": "2025-08-27T22:37:59.981309Z"
    }
   },
   "outputs": [],
   "source": [
    "fras = [None]*len(futs)\n",
    "fras[0] = futs[0].to_fra(99.725,-0.0)\n",
    "fras[1] = futs[1].to_fra(99.585,-0.00)\n",
    "fras[2] = futs[2].to_fra(99.385,-0.00)\n",
    "fras[3] = futs[3].to_fra(99.160,-0.00)\n",
    "fras[4] = futs[4].to_fra(98.930,-0.00)\n",
    "fras[5] = futs[5].to_fra(98.715,-0.00)"
   ]
  },
  {
   "cell_type": "markdown",
   "metadata": {},
   "source": [
    "### Then we load up swap rates"
   ]
  },
  {
   "cell_type": "code",
   "execution_count": 9,
   "metadata": {
    "execution": {
     "iopub.execute_input": "2025-08-27T22:37:59.983811Z",
     "iopub.status.busy": "2025-08-27T22:37:59.983499Z",
     "iopub.status.idle": "2025-08-27T22:37:59.986319Z",
     "shell.execute_reply": "2025-08-27T22:37:59.985940Z"
    }
   },
   "outputs": [],
   "source": [
    "accrual = DayCountTypes.ACT_360\n",
    "freq = FrequencyTypes.ANNUAL\n",
    "longEnd = DateGenRuleTypes.BACKWARD\n",
    "swap_type = SwapTypes.PAY"
   ]
  },
  {
   "cell_type": "code",
   "execution_count": 10,
   "metadata": {
    "execution": {
     "iopub.execute_input": "2025-08-27T22:37:59.988372Z",
     "iopub.status.busy": "2025-08-27T22:37:59.988177Z",
     "iopub.status.idle": "2025-08-27T22:37:59.990776Z",
     "shell.execute_reply": "2025-08-27T22:37:59.990399Z"
    }
   },
   "outputs": [],
   "source": [
    "spot_days = 2\n",
    "settle_dt = trade_dt.add_weekdays(spot_days)"
   ]
  },
  {
   "cell_type": "code",
   "execution_count": 11,
   "metadata": {
    "execution": {
     "iopub.execute_input": "2025-08-27T22:37:59.993108Z",
     "iopub.status.busy": "2025-08-27T22:37:59.992840Z",
     "iopub.status.idle": "2025-08-27T22:37:59.997228Z",
     "shell.execute_reply": "2025-08-27T22:37:59.996886Z"
    }
   },
   "outputs": [],
   "source": [
    "swaps = []\n",
    "swap = IborSwap(settle_dt, \"2Y\", swap_type, 0.0089268, freq, accrual); swaps.append(swap)\n",
    "swap = IborSwap(settle_dt, \"3Y\", swap_type, 0.0123343, freq, accrual); swaps.append(swap)\n",
    "swap = IborSwap(settle_dt, \"4Y\", swap_type, 0.0147985, freq, accrual); swaps.append(swap)\n",
    "swap = IborSwap(settle_dt, \"5Y\", swap_type, 0.0165843, freq, accrual); swaps.append(swap)"
   ]
  },
  {
   "cell_type": "code",
   "execution_count": 12,
   "metadata": {
    "execution": {
     "iopub.execute_input": "2025-08-27T22:37:59.999242Z",
     "iopub.status.busy": "2025-08-27T22:37:59.998970Z",
     "iopub.status.idle": "2025-08-27T22:38:00.002234Z",
     "shell.execute_reply": "2025-08-27T22:38:00.001896Z"
    }
   },
   "outputs": [
    {
     "name": "stdout",
     "output_type": "stream",
     "text": [
      "18-FEB-2017\n",
      "18-FEB-2018\n",
      "18-FEB-2019\n",
      "18-FEB-2020\n"
     ]
    }
   ],
   "source": [
    "for swap in swaps:\n",
    "    print(swap.termination_dt)"
   ]
  },
  {
   "cell_type": "markdown",
   "metadata": {},
   "source": [
    "## Build the Curve"
   ]
  },
  {
   "cell_type": "code",
   "execution_count": 13,
   "metadata": {
    "execution": {
     "iopub.execute_input": "2025-08-27T22:38:00.004851Z",
     "iopub.status.busy": "2025-08-27T22:38:00.004581Z",
     "iopub.status.idle": "2025-08-27T22:38:00.014919Z",
     "shell.execute_reply": "2025-08-27T22:38:00.014417Z"
    }
   },
   "outputs": [],
   "source": [
    "libor_curve = IborSingleCurve(trade_dt, depos, fras, swaps)"
   ]
  },
  {
   "cell_type": "markdown",
   "metadata": {},
   "source": [
    "## Curve Examination"
   ]
  },
  {
   "cell_type": "markdown",
   "metadata": {},
   "source": [
    "Generate a vector of time points and then generate zero rates and forward rates"
   ]
  },
  {
   "cell_type": "code",
   "execution_count": 14,
   "metadata": {
    "execution": {
     "iopub.execute_input": "2025-08-27T22:38:00.017443Z",
     "iopub.status.busy": "2025-08-27T22:38:00.017175Z",
     "iopub.status.idle": "2025-08-27T22:38:00.020983Z",
     "shell.execute_reply": "2025-08-27T22:38:00.020612Z"
    }
   },
   "outputs": [
    {
     "name": "stdout",
     "output_type": "stream",
     "text": [
      " 23-FEB-2015   0.13749816   0.99997326\n",
      " 16-MAR-2015   0.17168854   0.99986647\n",
      " 16-APR-2015   0.21116346   0.99965399\n",
      " 18-MAY-2015   0.25801584   0.99934801\n"
     ]
    }
   ],
   "source": [
    "for depo in depos:\n",
    "    dt = depo.maturity_dt\n",
    "    df = libor_curve.df(dt)\n",
    "    zero_rate = libor_curve.zero_rate(dt, FrequencyTypes.CONTINUOUS, DayCountTypes.ACT_360)\n",
    "    df = libor_curve.df(dt)\n",
    "    print(\"%12s %12.8f %12.8f\" % (dt, zero_rate*100.0, df))"
   ]
  },
  {
   "cell_type": "code",
   "execution_count": 15,
   "metadata": {
    "execution": {
     "iopub.execute_input": "2025-08-27T22:38:00.023108Z",
     "iopub.status.busy": "2025-08-27T22:38:00.022884Z",
     "iopub.status.idle": "2025-08-27T22:38:00.026304Z",
     "shell.execute_reply": "2025-08-27T22:38:00.025896Z"
    }
   },
   "outputs": [
    {
     "name": "stdout",
     "output_type": "stream",
     "text": [
      " 17-JUN-2015   0.25055555   0.99915821\n",
      " 16-SEP-2015   0.32104918   0.99811116\n",
      " 16-DEC-2015   0.40918802   0.99656192\n",
      " 16-MAR-2016   0.50848460   0.99445037\n",
      " 15-JUN-2016   0.61357008   0.99176792\n",
      " 21-SEP-2016   0.72605788   0.98831075\n"
     ]
    }
   ],
   "source": [
    "for fra in fras:\n",
    "    dt = fra.maturity_dt\n",
    "    df = libor_curve.df(dt)\n",
    "    zero_rate = libor_curve.zero_rate(dt, FrequencyTypes.CONTINUOUS, DayCountTypes.ACT_360)\n",
    "    print(\"%12s %12.8f %12.8f\" % (dt, zero_rate*100.0, df))"
   ]
  },
  {
   "cell_type": "code",
   "execution_count": 16,
   "metadata": {
    "execution": {
     "iopub.execute_input": "2025-08-27T22:38:00.028441Z",
     "iopub.status.busy": "2025-08-27T22:38:00.028173Z",
     "iopub.status.idle": "2025-08-27T22:38:00.031676Z",
     "shell.execute_reply": "2025-08-27T22:38:00.031351Z"
    }
   },
   "outputs": [
    {
     "name": "stdout",
     "output_type": "stream",
     "text": [
      " 18-FEB-2017   0.88670755   0.98210765\n",
      " 18-FEB-2018   1.22911048   0.96320610\n",
      " 18-FEB-2019   1.47798716   0.94170449\n",
      " 18-FEB-2020   1.65891280   0.91921438\n"
     ]
    }
   ],
   "source": [
    "for swap in swaps:\n",
    "    dt = swap.termination_dt\n",
    "    df = libor_curve.df(dt)\n",
    "    zero_rate = libor_curve.zero_rate(dt, FrequencyTypes.CONTINUOUS, DayCountTypes.ACT_360)\n",
    "    print(\"%12s %12.8f %12.8f\" % (dt, zero_rate*100.0, df))"
   ]
  },
  {
   "cell_type": "code",
   "execution_count": 17,
   "metadata": {
    "execution": {
     "iopub.execute_input": "2025-08-27T22:38:00.033688Z",
     "iopub.status.busy": "2025-08-27T22:38:00.033489Z",
     "iopub.status.idle": "2025-08-27T22:38:00.038302Z",
     "shell.execute_reply": "2025-08-27T22:38:00.037869Z"
    }
   },
   "outputs": [
    {
     "data": {
      "text/plain": [
       "-2.9760412871837616e-06"
      ]
     },
     "execution_count": 17,
     "metadata": {},
     "output_type": "execute_result"
    }
   ],
   "source": [
    "swaps[0].value(settle_dt, libor_curve, libor_curve)"
   ]
  },
  {
   "cell_type": "code",
   "execution_count": 18,
   "metadata": {
    "execution": {
     "iopub.execute_input": "2025-08-27T22:38:00.040086Z",
     "iopub.status.busy": "2025-08-27T22:38:00.039886Z",
     "iopub.status.idle": "2025-08-27T22:38:00.042494Z",
     "shell.execute_reply": "2025-08-27T22:38:00.042113Z"
    }
   },
   "outputs": [
    {
     "name": "stdout",
     "output_type": "stream",
     "text": [
      "START DATE: 18-FEB-2015\n",
      "MATURITY DATE: 20-FEB-2017\n",
      "COUPON (%): 0.89268\n",
      "FREQUENCY: FrequencyTypes.ANNUAL\n",
      "DAY COUNT: DayCountTypes.ACT_360\n",
      "\n",
      "PAYMENTS VALUATION:\n",
      "PAY_NUM | PAY_dt      | NOTIONAL | RATE   | PMNT    | DF     | PV      | CUM_PV \n",
      "--------+-------------+----------+--------+---------+--------+---------+--------\n",
      "      1 | 18-FEB-2016 |  1000000 | 0.8927 | 9050.78 | 0.9951 | 9006.29 | 9006.29\n",
      "      2 | 20-FEB-2017 |  1000000 | 0.8927 | 9125.17 |  0.982 | 8961.22 | 17967.5\n"
     ]
    }
   ],
   "source": [
    "swaps[0].print_fixed_leg_pv()"
   ]
  },
  {
   "cell_type": "code",
   "execution_count": 19,
   "metadata": {
    "execution": {
     "iopub.execute_input": "2025-08-27T22:38:00.044781Z",
     "iopub.status.busy": "2025-08-27T22:38:00.044343Z",
     "iopub.status.idle": "2025-08-27T22:38:00.047835Z",
     "shell.execute_reply": "2025-08-27T22:38:00.047418Z"
    }
   },
   "outputs": [
    {
     "name": "stdout",
     "output_type": "stream",
     "text": [
      "START DATE: 18-FEB-2015\n",
      "MATURITY DATE: 18-FEB-2019\n",
      "SPREAD (BPS): 0.0\n",
      "FREQUENCY: FrequencyTypes.QUARTERLY\n",
      "DAY COUNT: DayCountTypes.THIRTY_E_360\n",
      "\n",
      "PAYMENTS VALUATION:\n",
      "PAY_NUM | PAY_dt      | NOTIONAL | IBOR   | PMNT    | DF     | PV      | CUM_PV  \n",
      "--------+-------------+----------+--------+---------+--------+---------+---------\n",
      "      1 | 18-MAY-2015 |  1000000 | 0.2579 |  644.78 | 0.9993 |  644.36 |   644.36\n",
      "      2 | 18-AUG-2015 |  1000000 | 0.3619 |  904.69 | 0.9984 |  903.29 |  1547.64\n",
      "      3 | 18-NOV-2015 |  1000000 | 0.5642 | 1410.54 |  0.997 | 1406.36 |   2954.0\n",
      "      4 | 18-FEB-2016 |  1000000 | 0.7888 | 1971.96 | 0.9951 | 1962.25 |  4916.25\n",
      "      5 | 18-MAY-2016 |  1000000 | 1.0007 | 2501.72 | 0.9926 | 2483.19 |  7399.44\n",
      "      6 | 18-AUG-2016 |  1000000 | 1.2463 | 3115.86 | 0.9895 | 3083.18 | 10482.62\n",
      "      7 | 18-NOV-2016 |  1000000 | 1.4595 | 3648.69 | 0.9859 | 3597.29 | 14079.91\n",
      "      8 | 20-FEB-2017 |  1000000 |  1.549 | 3958.61 |  0.982 | 3887.46 | 17967.37\n",
      "      9 | 18-MAY-2017 |  1000000 |  1.898 | 4639.62 | 0.9775 | 4535.18 | 22502.55\n",
      "     10 | 18-AUG-2017 |  1000000 | 1.9676 | 4918.88 | 0.9727 | 4784.62 | 27287.17\n",
      "     11 | 20-NOV-2017 |  1000000 | 1.9667 | 5026.08 | 0.9678 | 4864.44 | 32151.61\n",
      "     12 | 19-FEB-2018 |  1000000 |  1.968 | 4865.28 | 0.9632 | 4686.02 | 36837.63\n",
      "     13 | 18-MAY-2018 |  1000000 | 2.2058 | 5453.33 | 0.9579 | 5223.92 | 42061.55\n",
      "     14 | 20-AUG-2018 |  1000000 | 2.2834 | 5835.43 | 0.9524 | 5557.51 | 47619.06\n",
      "     15 | 19-NOV-2018 |  1000000 | 2.2849 | 5648.67 |  0.947 | 5349.43 | 52968.49\n",
      "     16 | 18-FEB-2019 |  1000000 | 2.2849 | 5648.67 | 0.9417 | 5319.38 | 58287.87\n"
     ]
    }
   ],
   "source": [
    "swaps[2].print_float_leg_pv()"
   ]
  },
  {
   "cell_type": "markdown",
   "metadata": {},
   "source": [
    "Agreement with Quantlib example is very very good but not exact. Not sure how some of quantlib dates are generated - e.g. 19/2/2019 is a Tuesday so the 18th was a weekday and should have been used ?"
   ]
  },
  {
   "cell_type": "markdown",
   "metadata": {},
   "source": [
    "Copyright (c) 2020 Dominic O'Kane"
   ]
  }
 ],
 "metadata": {
  "kernelspec": {
   "display_name": "base",
   "language": "python",
   "name": "python3"
  },
  "language_info": {
   "codemirror_mode": {
    "name": "ipython",
    "version": 3
   },
   "file_extension": ".py",
   "mimetype": "text/x-python",
   "name": "python",
   "nbconvert_exporter": "python",
   "pygments_lexer": "ipython3",
   "version": "3.13.5"
  }
 },
 "nbformat": 4,
 "nbformat_minor": 4
}
