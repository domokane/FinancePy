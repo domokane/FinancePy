{
 "cells": [
  {
   "cell_type": "markdown",
   "metadata": {},
   "source": [
    "# Building an OIS Curve with Meeting Dates"
   ]
  },
  {
   "cell_type": "markdown",
   "metadata": {},
   "source": [
    "We build an OIS curve from OIS swaps that include forward starting OIS using MM dates."
   ]
  },
  {
   "cell_type": "code",
   "execution_count": 1,
   "metadata": {
    "execution": {
     "iopub.execute_input": "2025-09-14T22:26:09.305352Z",
     "iopub.status.busy": "2025-09-14T22:26:09.305230Z",
     "iopub.status.idle": "2025-09-14T22:26:09.529644Z",
     "shell.execute_reply": "2025-09-14T22:26:09.529286Z"
    }
   },
   "outputs": [],
   "source": [
    "import numpy as np\n",
    "import matplotlib.pyplot as plt"
   ]
  },
  {
   "cell_type": "code",
   "execution_count": 2,
   "metadata": {
    "execution": {
     "iopub.execute_input": "2025-09-14T22:26:09.531290Z",
     "iopub.status.busy": "2025-09-14T22:26:09.531104Z",
     "iopub.status.idle": "2025-09-14T22:26:10.563200Z",
     "shell.execute_reply": "2025-09-14T22:26:10.562880Z"
    }
   },
   "outputs": [],
   "source": [
    "from financepy.utils import *\n",
    "from financepy.products.rates import *"
   ]
  },
  {
   "cell_type": "code",
   "execution_count": 3,
   "metadata": {
    "execution": {
     "iopub.execute_input": "2025-09-14T22:26:10.564830Z",
     "iopub.status.busy": "2025-09-14T22:26:10.564616Z",
     "iopub.status.idle": "2025-09-14T22:26:10.581426Z",
     "shell.execute_reply": "2025-09-14T22:26:10.581035Z"
    }
   },
   "outputs": [],
   "source": [
    "value_dt = Date(18, 9, 2019)"
   ]
  },
  {
   "cell_type": "markdown",
   "metadata": {},
   "source": [
    "Set up meeting dates"
   ]
  },
  {
   "cell_type": "code",
   "execution_count": 4,
   "metadata": {
    "execution": {
     "iopub.execute_input": "2025-09-14T22:26:10.583252Z",
     "iopub.status.busy": "2025-09-14T22:26:10.583096Z",
     "iopub.status.idle": "2025-09-14T22:26:10.585525Z",
     "shell.execute_reply": "2025-09-14T22:26:10.585208Z"
    }
   },
   "outputs": [],
   "source": [
    "m1Date = Date(23, 11, 2019)\n",
    "m2Date = Date(20, 1, 2020)\n",
    "m3Date = Date(18, 3, 2020)\n",
    "m4Date = Date(20, 5, 2020)"
   ]
  },
  {
   "cell_type": "markdown",
   "metadata": {},
   "source": [
    "## Building the OIS Curve"
   ]
  },
  {
   "cell_type": "markdown",
   "metadata": {},
   "source": [
    "We construct the OIS curve from a series of swaps, some forward starting. The default assumption on the floating leg is annual payments."
   ]
  },
  {
   "cell_type": "code",
   "execution_count": 5,
   "metadata": {
    "execution": {
     "iopub.execute_input": "2025-09-14T22:26:10.587447Z",
     "iopub.status.busy": "2025-09-14T22:26:10.587103Z",
     "iopub.status.idle": "2025-09-14T22:26:10.600127Z",
     "shell.execute_reply": "2025-09-14T22:26:10.599804Z"
    }
   },
   "outputs": [],
   "source": [
    "depo_dcc_type = DayCountTypes.THIRTY_E_360_ISDA\n",
    "depos = []\n",
    "spot_days = 0\n",
    "settle_dt = value_dt.add_weekdays(spot_days)\n",
    "\n",
    "swaps = []\n",
    "swap_type = SwapTypes.PAY\n",
    "fixed_dcc_type = DayCountTypes.ACT_365F\n",
    "fixed_freq_type = FrequencyTypes.ANNUAL\n",
    "\n",
    "# This OIS stops at the next meeting date\n",
    "swap = OIS(settle_dt, m1Date, swap_type, 0.0420, fixed_freq_type, fixed_dcc_type); swaps.append(swap)\n",
    "\n",
    "# These OIS are forward starting and last between MM meeting dates\n",
    "swap = OIS(m1Date, m2Date, swap_type, 0.0320, fixed_freq_type, fixed_dcc_type); swaps.append(swap)\n",
    "swap = OIS(m2Date, m3Date, swap_type, 0.0520, fixed_freq_type, fixed_dcc_type); swaps.append(swap)\n",
    "swap = OIS(m3Date, m4Date, swap_type, 0.0320, fixed_freq_type, fixed_dcc_type); swaps.append(swap)\n",
    "\n",
    "# Standard OIS with standard annual terms\n",
    "swap = OIS(settle_dt, \"2Y\", swap_type, 0.0330, fixed_freq_type, fixed_dcc_type); swaps.append(swap)\n",
    "swap = OIS(settle_dt, \"3Y\", swap_type, 0.0350, fixed_freq_type, fixed_dcc_type); swaps.append(swap)\n",
    "swap = OIS(settle_dt, \"4Y\", swap_type, 0.0375, fixed_freq_type, fixed_dcc_type); swaps.append(swap)\n",
    "swap = OIS(settle_dt, \"5Y\", swap_type, 0.0400, fixed_freq_type, fixed_dcc_type); swaps.append(swap)\n",
    "swap = OIS(settle_dt, \"7Y\", swap_type, 0.0420, fixed_freq_type, fixed_dcc_type); swaps.append(swap)\n",
    "swap = OIS(settle_dt, \"10Y\", swap_type, 0.0430, fixed_freq_type, fixed_dcc_type); swaps.append(swap)"
   ]
  },
  {
   "cell_type": "code",
   "execution_count": 6,
   "metadata": {
    "execution": {
     "iopub.execute_input": "2025-09-14T22:26:10.601586Z",
     "iopub.status.busy": "2025-09-14T22:26:10.601454Z",
     "iopub.status.idle": "2025-09-14T22:26:10.607088Z",
     "shell.execute_reply": "2025-09-14T22:26:10.606800Z"
    }
   },
   "outputs": [],
   "source": [
    "oisCurveFF = OISCurve(value_dt, [], [], swaps, InterpTypes.FLAT_FWD_RATES)"
   ]
  },
  {
   "cell_type": "code",
   "execution_count": 7,
   "metadata": {
    "execution": {
     "iopub.execute_input": "2025-09-14T22:26:10.608431Z",
     "iopub.status.busy": "2025-09-14T22:26:10.608304Z",
     "iopub.status.idle": "2025-09-14T22:26:10.613545Z",
     "shell.execute_reply": "2025-09-14T22:26:10.613310Z"
    }
   },
   "outputs": [],
   "source": [
    "oisCurveLF = OISCurve(value_dt, [], [], swaps, InterpTypes.LINEAR_FWD_RATES)"
   ]
  },
  {
   "cell_type": "code",
   "execution_count": 8,
   "metadata": {
    "execution": {
     "iopub.execute_input": "2025-09-14T22:26:10.615022Z",
     "iopub.status.busy": "2025-09-14T22:26:10.614763Z",
     "iopub.status.idle": "2025-09-14T22:26:10.621182Z",
     "shell.execute_reply": "2025-09-14T22:26:10.620678Z"
    }
   },
   "outputs": [],
   "source": [
    "oisCurveLZ = OISCurve(value_dt, [], [], swaps, InterpTypes.LINEAR_ZERO_RATES)"
   ]
  },
  {
   "cell_type": "code",
   "execution_count": 9,
   "metadata": {
    "execution": {
     "iopub.execute_input": "2025-09-14T22:26:10.622367Z",
     "iopub.status.busy": "2025-09-14T22:26:10.622236Z",
     "iopub.status.idle": "2025-09-14T22:26:10.627857Z",
     "shell.execute_reply": "2025-09-14T22:26:10.627665Z"
    }
   },
   "outputs": [
    {
     "name": "stdout",
     "output_type": "stream",
     "text": [
      " 25-NOV-2019   0.00000000   0.00000000   0.00000000\n",
      " 20-JAN-2020  -0.00000000  -0.00000000  -0.00000000\n",
      " 18-MAR-2020  -0.00000000  -0.00000000  -0.00000000\n",
      " 20-MAY-2020  -0.00000000  -0.00000000  -0.00000000\n",
      " 20-SEP-2021   0.00000000  -0.00000000   0.00000000\n",
      " 19-SEP-2022  -0.00000000  -0.00000000   0.00000000\n",
      " 18-SEP-2023  -0.00000000  -0.00000000  -0.00000000\n",
      " 18-SEP-2024   0.00000000  -0.00000000   0.00000000\n",
      " 18-SEP-2026  -0.00000000  -0.00000000  -0.00000000\n",
      " 18-SEP-2029  -0.00000000  -0.00000000  -0.00000000\n"
     ]
    }
   ],
   "source": [
    "for swap in swaps:\n",
    "    v_ff = swap.value(value_dt, oisCurveFF) / swap.fixed_leg.notional\n",
    "    v_lf = swap.value(value_dt, oisCurveLF) / swap.fixed_leg.notional\n",
    "    v_lz = swap.value(value_dt, oisCurveLZ) / swap.fixed_leg.notional\n",
    "    print(\"%12s %12.8f %12.8f %12.8f\" % (swap.maturity_dt, v_ff, v_lf, v_lz))"
   ]
  },
  {
   "cell_type": "markdown",
   "metadata": {},
   "source": [
    "All of the swaps are repriced."
   ]
  },
  {
   "cell_type": "code",
   "execution_count": 10,
   "metadata": {
    "execution": {
     "iopub.execute_input": "2025-09-14T22:26:10.629422Z",
     "iopub.status.busy": "2025-09-14T22:26:10.629120Z",
     "iopub.status.idle": "2025-09-14T22:26:10.767318Z",
     "shell.execute_reply": "2025-09-14T22:26:10.766904Z"
    }
   },
   "outputs": [
    {
     "data": {
      "image/png": "[encoded data removed]",
      "text/plain": [
       "<Figure size 1200x600 with 1 Axes>"
      ]
     },
     "metadata": {},
     "output_type": "display_data"
    }
   ],
   "source": [
    "years = np.linspace(0, 10, 10*365)\n",
    "dates = settle_dt.add_years(years)\n",
    "oisCurveFwdsFF = oisCurveFF.fwd(dates)\n",
    "oisCurveFwdsLF = oisCurveLF.fwd(dates)\n",
    "oisCurveFwdsLZ = oisCurveLZ.fwd(dates)\n",
    "\n",
    "plt.figure(figsize=(12,6))\n",
    "plt.plot(years, oisCurveFwdsFF*100.0, label=\"OIS Curve FF\")\n",
    "plt.plot(years, oisCurveFwdsLF*100.0, label=\"OIS Curve LF\")\n",
    "plt.plot(years, oisCurveFwdsLZ*100.0, label=\"OIS Curve LZ\")\n",
    "plt.xlabel(\"Years\")\n",
    "plt.ylabel(\"Forward Rate (%)\")\n",
    "plt.legend();"
   ]
  },
  {
   "cell_type": "markdown",
   "metadata": {},
   "source": [
    "The different interpolation schemes have their own strengths and weaknesses."
   ]
  },
  {
   "cell_type": "code",
   "execution_count": 11,
   "metadata": {
    "execution": {
     "iopub.execute_input": "2025-09-14T22:26:10.769391Z",
     "iopub.status.busy": "2025-09-14T22:26:10.769069Z",
     "iopub.status.idle": "2025-09-14T22:26:10.774711Z",
     "shell.execute_reply": "2025-09-14T22:26:10.774380Z"
    },
    "scrolled": false
   },
   "outputs": [
    {
     "name": "stdout",
     "output_type": "stream",
     "text": [
      " 23-NOV-2019     4.200000     4.200000     4.200000\n",
      " 20-JAN-2020     3.200000     3.200000     3.200000\n",
      " 18-MAR-2020     5.200000     5.200000     5.200000\n",
      " 20-MAY-2020     3.200000     3.200000     3.200000\n",
      " 18-SEP-2021     3.300000     3.300000     3.300000\n",
      " 18-SEP-2022     3.500000     3.500000     3.500000\n",
      " 18-SEP-2023     3.750000     3.750000     3.750000\n",
      " 18-SEP-2024     4.000000     4.000000     4.000000\n",
      " 18-SEP-2026     4.200000     4.200000     4.200000\n",
      " 18-SEP-2029     4.300000     4.300000     4.300000\n"
     ]
    }
   ],
   "source": [
    "for swap in swaps:\n",
    "    s_ff = swap.swap_rate(settle_dt, oisCurveFF)\n",
    "    s_lf = swap.swap_rate(settle_dt, oisCurveLF)\n",
    "    s_lz = swap.swap_rate(settle_dt, oisCurveLZ)\n",
    "    print(\"%12s %12.6f %12.6f %12.6f\" % (swap.termination_dt, s_ff*100, s_lf*100, s_lz*100))"
   ]
  },
  {
   "cell_type": "code",
   "execution_count": 12,
   "metadata": {
    "execution": {
     "iopub.execute_input": "2025-09-14T22:26:10.775727Z",
     "iopub.status.busy": "2025-09-14T22:26:10.775608Z",
     "iopub.status.idle": "2025-09-14T22:26:10.778632Z",
     "shell.execute_reply": "2025-09-14T22:26:10.778375Z"
    }
   },
   "outputs": [
    {
     "data": {
      "text/plain": [
       "OBJECT TYPE: Schedule\n",
       "EFFECTIVE DATE: 18-SEP-2019\n",
       "END DATE: 20-SEP-2021\n",
       "FREQUENCY: FrequencyTypes.ANNUAL\n",
       "CALENDAR: CalendarTypes.WEEKEND\n",
       "BUSDAYRULE: BusDayAdjustTypes.FOLLOWING\n",
       "DATEGENRULE: DateGenRuleTypes.BACKWARD\n",
       "ADJUST TERM DATE: True\n",
       "END OF MONTH: False"
      ]
     },
     "execution_count": 12,
     "metadata": {},
     "output_type": "execute_result"
    }
   ],
   "source": [
    "swap = swaps[4]\n",
    "Schedule(swap.effective_dt, swap.maturity_dt, fixed_freq_type)"
   ]
  },
  {
   "cell_type": "code",
   "execution_count": 13,
   "metadata": {
    "execution": {
     "iopub.execute_input": "2025-09-14T22:26:10.780033Z",
     "iopub.status.busy": "2025-09-14T22:26:10.779754Z",
     "iopub.status.idle": "2025-09-14T22:26:10.782582Z",
     "shell.execute_reply": "2025-09-14T22:26:10.782382Z"
    }
   },
   "outputs": [
    {
     "name": "stdout",
     "output_type": "stream",
     "text": [
      "START DATE: 18-SEP-2019\n",
      "MATURITY DATE: 20-SEP-2021\n",
      "COUPON (%): 3.3000000000000003\n",
      "FREQUENCY: FrequencyTypes.ANNUAL\n",
      "DAY COUNT: DayCountTypes.ACT_365F\n",
      "\n",
      "PAYMENTS VALUATION:\n",
      "PAY_NUM | PAY_dt      | NOTIONAL | RATE | PMNT     | DF    | PV       | CUM_PV  \n",
      "--------+-------------+----------+------+----------+-------+----------+---------\n",
      "      1 | 18-SEP-2020 |  1000000 |  3.3 | 33090.41 | 0.963 |  31867.4 |  31867.4\n",
      "      2 | 20-SEP-2021 |  1000000 |  3.3 | 33180.82 | 0.937 | 31091.78 | 62959.18\n"
     ]
    }
   ],
   "source": [
    "swap.print_fixed_leg_pv()"
   ]
  },
  {
   "cell_type": "code",
   "execution_count": 14,
   "metadata": {
    "execution": {
     "iopub.execute_input": "2025-09-14T22:26:10.783525Z",
     "iopub.status.busy": "2025-09-14T22:26:10.783328Z",
     "iopub.status.idle": "2025-09-14T22:26:10.788184Z",
     "shell.execute_reply": "2025-09-14T22:26:10.787411Z"
    }
   },
   "outputs": [
    {
     "name": "stdout",
     "output_type": "stream",
     "text": [
      " 25-NOV-2019     4.200000     4.200000     4.200000\n",
      " 20-JAN-2020     3.200000     3.200000     3.200000\n",
      " 18-MAR-2020     5.200000     5.200000     5.200000\n",
      " 20-MAY-2020     3.200000     3.200000     3.200000\n",
      " 20-SEP-2021     3.299673     3.299694     3.299727\n",
      " 19-SEP-2022     3.499884     3.499902     3.499929\n",
      " 18-SEP-2023     3.750000     3.750000     3.750000\n",
      " 18-SEP-2024     4.000000     4.000000     4.000000\n",
      " 18-SEP-2026     4.200000     4.200000     4.200000\n",
      " 18-SEP-2029     4.300000     4.300000     4.300000\n"
     ]
    },
    {
     "name": "stderr",
     "output_type": "stream",
     "text": [
      "C:\\Users\\domok\\AppData\\Local\\Temp\\ipykernel_32596\\1817255025.py:5: DeprecationWarning: Conversion of an array with ndim > 0 to a scalar is deprecated, and will error in future. Ensure you extract a single element from your array before performing this operation. (Deprecated NumPy 1.25.)\n",
      "  print(\"%12s %12.6f %12.6f %12.6f\" % (swap.maturity_dt, s_ff*100, s_lf*100, s_lz*100))\n"
     ]
    }
   ],
   "source": [
    "for swap in swaps:\n",
    "    s_ff = oisCurveFF.swap_rate(swap.effective_dt, swap.termination_dt, fixed_freq_type, fixed_dcc_type)\n",
    "    s_lf = oisCurveLF.swap_rate(swap.effective_dt, swap.termination_dt, fixed_freq_type, fixed_dcc_type)\n",
    "    s_lz = oisCurveLZ.swap_rate(swap.effective_dt, swap.termination_dt, fixed_freq_type, fixed_dcc_type)\n",
    "    print(\"%12s %12.6f %12.6f %12.6f\" % (swap.maturity_dt, s_ff*100, s_lf*100, s_lz*100))"
   ]
  },
  {
   "cell_type": "markdown",
   "metadata": {},
   "source": [
    "Copyright (c) Dominic O'Kane 2020"
   ]
  }
 ],
 "metadata": {
  "kernelspec": {
   "display_name": "base",
   "language": "python",
   "name": "python3"
  },
  "language_info": {
   "codemirror_mode": {
    "name": "ipython",
    "version": 3
   },
   "file_extension": ".py",
   "mimetype": "text/x-python",
   "name": "python",
   "nbconvert_exporter": "python",
   "pygments_lexer": "ipython3",
   "version": "3.13.7"
  }
 },
 "nbformat": 4,
 "nbformat_minor": 4
}
