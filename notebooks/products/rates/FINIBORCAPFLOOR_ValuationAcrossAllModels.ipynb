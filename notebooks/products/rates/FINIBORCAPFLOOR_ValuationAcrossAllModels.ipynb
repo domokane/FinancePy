{
 "cells": [
  {
   "cell_type": "markdown",
   "metadata": {},
   "source": [
    "# Valuing Caps and Floors"
   ]
  },
  {
   "cell_type": "markdown",
   "metadata": {},
   "source": [
    "We value caps and floors using Black's model"
   ]
  },
  {
   "cell_type": "code",
   "execution_count": 1,
   "metadata": {
    "execution": {
     "iopub.execute_input": "2025-08-27T21:48:17.636226Z",
     "iopub.status.busy": "2025-08-27T21:48:17.635979Z",
     "iopub.status.idle": "2025-08-27T21:48:18.128478Z",
     "shell.execute_reply": "2025-08-27T21:48:18.127859Z"
    }
   },
   "outputs": [],
   "source": [
    "import numpy as np\n",
    "import matplotlib.pyplot as plt"
   ]
  },
  {
   "cell_type": "code",
   "execution_count": 2,
   "metadata": {
    "execution": {
     "iopub.execute_input": "2025-08-27T21:48:18.130772Z",
     "iopub.status.busy": "2025-08-27T21:48:18.130435Z",
     "iopub.status.idle": "2025-08-27T21:48:19.877584Z",
     "shell.execute_reply": "2025-08-27T21:48:19.877174Z"
    }
   },
   "outputs": [
    {
     "name": "stdout",
     "output_type": "stream",
     "text": [
      "####################################################################\n",
      "#    FINANCEPY Version 1.1 - This build: 27 Aug 2025 at 23:27      #\n",
      "#     This software is distributed FREE AND WITHOUT ANY WARRANTY   #\n",
      "#  Report bugs as issues at https://github.com/domokane/FinancePy  #\n",
      "####################################################################\n",
      "\n"
     ]
    }
   ],
   "source": [
    "from financepy.utils import *\n",
    "from financepy.products.rates import *"
   ]
  },
  {
   "cell_type": "markdown",
   "metadata": {},
   "source": [
    "## Building a Ibor Curve"
   ]
  },
  {
   "cell_type": "code",
   "execution_count": 3,
   "metadata": {
    "execution": {
     "iopub.execute_input": "2025-08-27T21:48:19.879791Z",
     "iopub.status.busy": "2025-08-27T21:48:19.879479Z",
     "iopub.status.idle": "2025-08-27T21:48:19.899048Z",
     "shell.execute_reply": "2025-08-27T21:48:19.898641Z"
    }
   },
   "outputs": [],
   "source": [
    "value_dt = Date(6, 6, 2018)"
   ]
  },
  {
   "cell_type": "code",
   "execution_count": 4,
   "metadata": {
    "execution": {
     "iopub.execute_input": "2025-08-27T21:48:19.900872Z",
     "iopub.status.busy": "2025-08-27T21:48:19.900552Z",
     "iopub.status.idle": "2025-08-27T21:48:19.904362Z",
     "shell.execute_reply": "2025-08-27T21:48:19.903853Z"
    }
   },
   "outputs": [],
   "source": [
    "spot_days = 0\n",
    "settle_dt = value_dt\n",
    "depo_dcc_type = DayCountTypes.THIRTY_E_360_ISDA\n",
    "\n",
    "depos = []\n",
    "depo = IborDeposit(settle_dt, \"1M\", 0.0230, depo_dcc_type); depos.append(depo)\n",
    "depo = IborDeposit(settle_dt, \"2M\", 0.0230, depo_dcc_type); depos.append(depo)\n",
    "depo = IborDeposit(settle_dt, \"3M\", 0.0230, depo_dcc_type); depos.append(depo)\n",
    "depo = IborDeposit(settle_dt, \"6M\", 0.0230, depo_dcc_type); depos.append(depo)\n",
    "depo = IborDeposit(settle_dt, \"9M\", 0.0230, depo_dcc_type); depos.append(depo)"
   ]
  },
  {
   "cell_type": "code",
   "execution_count": 5,
   "metadata": {
    "execution": {
     "iopub.execute_input": "2025-08-27T21:48:19.906250Z",
     "iopub.status.busy": "2025-08-27T21:48:19.906014Z",
     "iopub.status.idle": "2025-08-27T21:48:19.916272Z",
     "shell.execute_reply": "2025-08-27T21:48:19.915896Z"
    }
   },
   "outputs": [],
   "source": [
    "accrual = DayCountTypes.THIRTY_E_360\n",
    "freq = FrequencyTypes.SEMI_ANNUAL\n",
    "longEnd = DateGenRuleTypes.BACKWARD\n",
    "swap_type = SwapTypes.PAY\n",
    "\n",
    "spot_days = 2\n",
    "settle_dt = value_dt.add_weekdays(spot_days)\n",
    "\n",
    "swaps = []\n",
    "swap = IborSwap(settle_dt, \"1Y\", swap_type, 0.0250, freq, accrual); swaps.append(swap)\n",
    "swap = IborSwap(settle_dt, \"2Y\", swap_type, 0.0255, freq, accrual); swaps.append(swap)\n",
    "swap = IborSwap(settle_dt, \"3Y\", swap_type, 0.0260, freq, accrual); swaps.append(swap)\n",
    "swap = IborSwap(settle_dt, \"4Y\", swap_type, 0.0265, freq, accrual); swaps.append(swap)\n",
    "swap = IborSwap(settle_dt, \"5Y\", swap_type, 0.0270, freq, accrual); swaps.append(swap)"
   ]
  },
  {
   "cell_type": "code",
   "execution_count": 6,
   "metadata": {
    "execution": {
     "iopub.execute_input": "2025-08-27T21:48:19.918143Z",
     "iopub.status.busy": "2025-08-27T21:48:19.917939Z",
     "iopub.status.idle": "2025-08-27T21:48:19.927741Z",
     "shell.execute_reply": "2025-08-27T21:48:19.927393Z"
    }
   },
   "outputs": [],
   "source": [
    "libor_curve = IborSingleCurve(value_dt, depos, [], swaps)"
   ]
  },
  {
   "cell_type": "markdown",
   "metadata": {},
   "source": [
    "## Creating a Cap and Floor"
   ]
  },
  {
   "cell_type": "code",
   "execution_count": 7,
   "metadata": {
    "execution": {
     "iopub.execute_input": "2025-08-27T21:48:19.929497Z",
     "iopub.status.busy": "2025-08-27T21:48:19.929319Z",
     "iopub.status.idle": "2025-08-27T21:48:19.931441Z",
     "shell.execute_reply": "2025-08-27T21:48:19.931134Z"
    }
   },
   "outputs": [],
   "source": [
    "capType = FinCapFloorTypes.CAP\n",
    "floorType = FinCapFloorTypes.FLOOR"
   ]
  },
  {
   "cell_type": "code",
   "execution_count": 8,
   "metadata": {
    "execution": {
     "iopub.execute_input": "2025-08-27T21:48:19.932955Z",
     "iopub.status.busy": "2025-08-27T21:48:19.932771Z",
     "iopub.status.idle": "2025-08-27T21:48:19.934955Z",
     "shell.execute_reply": "2025-08-27T21:48:19.934628Z"
    }
   },
   "outputs": [],
   "source": [
    "strike_rate = 0.02"
   ]
  },
  {
   "cell_type": "code",
   "execution_count": 9,
   "metadata": {
    "execution": {
     "iopub.execute_input": "2025-08-27T21:48:19.936491Z",
     "iopub.status.busy": "2025-08-27T21:48:19.936236Z",
     "iopub.status.idle": "2025-08-27T21:48:19.938566Z",
     "shell.execute_reply": "2025-08-27T21:48:19.938192Z"
    }
   },
   "outputs": [],
   "source": [
    "cap = IborCapFloor(settle_dt, \"2Y\", capType, strike_rate)\n",
    "flr = IborCapFloor(settle_dt, \"2Y\", floorType, strike_rate)"
   ]
  },
  {
   "cell_type": "code",
   "execution_count": 10,
   "metadata": {
    "execution": {
     "iopub.execute_input": "2025-08-27T21:48:19.940220Z",
     "iopub.status.busy": "2025-08-27T21:48:19.939964Z",
     "iopub.status.idle": "2025-08-27T21:48:19.942490Z",
     "shell.execute_reply": "2025-08-27T21:48:19.942142Z"
    }
   },
   "outputs": [
    {
     "name": "stdout",
     "output_type": "stream",
     "text": [
      "OBJECT TYPE: IborCapFloor\n",
      "START DATE: 08-JUN-2018\n",
      "MATURITY DATE: 08-JUN-2020\n",
      "STRIKE COUPON: 2.0\n",
      "OPTION TYPE: FinCapFloorTypes.CAP\n",
      "FREQUENCY: FrequencyTypes.QUARTERLY\n",
      "DAY COUNT: DayCountTypes.THIRTY_E_360_ISDA\n"
     ]
    }
   ],
   "source": [
    "print(cap)"
   ]
  },
  {
   "cell_type": "code",
   "execution_count": 11,
   "metadata": {
    "execution": {
     "iopub.execute_input": "2025-08-27T21:48:19.944184Z",
     "iopub.status.busy": "2025-08-27T21:48:19.943877Z",
     "iopub.status.idle": "2025-08-27T21:48:19.946483Z",
     "shell.execute_reply": "2025-08-27T21:48:19.946133Z"
    }
   },
   "outputs": [
    {
     "name": "stdout",
     "output_type": "stream",
     "text": [
      "OBJECT TYPE: IborCapFloor\n",
      "START DATE: 08-JUN-2018\n",
      "MATURITY DATE: 08-JUN-2020\n",
      "STRIKE COUPON: 2.0\n",
      "OPTION TYPE: FinCapFloorTypes.FLOOR\n",
      "FREQUENCY: FrequencyTypes.QUARTERLY\n",
      "DAY COUNT: DayCountTypes.THIRTY_E_360_ISDA\n"
     ]
    }
   ],
   "source": [
    "print(flr)"
   ]
  },
  {
   "cell_type": "markdown",
   "metadata": {},
   "source": [
    "# Valuation"
   ]
  },
  {
   "cell_type": "markdown",
   "metadata": {},
   "source": [
    "### Black's Model"
   ]
  },
  {
   "cell_type": "markdown",
   "metadata": {},
   "source": [
    "We start with Black's model with 25% volatility"
   ]
  },
  {
   "cell_type": "code",
   "execution_count": 12,
   "metadata": {
    "execution": {
     "iopub.execute_input": "2025-08-27T21:48:19.948108Z",
     "iopub.status.busy": "2025-08-27T21:48:19.947890Z",
     "iopub.status.idle": "2025-08-27T21:48:19.950114Z",
     "shell.execute_reply": "2025-08-27T21:48:19.949762Z"
    }
   },
   "outputs": [],
   "source": [
    "model = Black(0.25)"
   ]
  },
  {
   "cell_type": "code",
   "execution_count": 13,
   "metadata": {
    "execution": {
     "iopub.execute_input": "2025-08-27T21:48:19.951850Z",
     "iopub.status.busy": "2025-08-27T21:48:19.951550Z",
     "iopub.status.idle": "2025-08-27T21:48:19.956475Z",
     "shell.execute_reply": "2025-08-27T21:48:19.956094Z"
    }
   },
   "outputs": [
    {
     "data": {
      "text/plain": [
       "np.float64(11364.821332295924)"
      ]
     },
     "execution_count": 13,
     "metadata": {},
     "output_type": "execute_result"
    }
   ],
   "source": [
    "cap.value(value_dt, libor_curve, model)"
   ]
  },
  {
   "cell_type": "code",
   "execution_count": 14,
   "metadata": {
    "execution": {
     "iopub.execute_input": "2025-08-27T21:48:19.958131Z",
     "iopub.status.busy": "2025-08-27T21:48:19.957793Z",
     "iopub.status.idle": "2025-08-27T21:48:19.961660Z",
     "shell.execute_reply": "2025-08-27T21:48:19.961334Z"
    }
   },
   "outputs": [
    {
     "data": {
      "text/plain": [
       "np.float64(830.6317749043551)"
      ]
     },
     "execution_count": 14,
     "metadata": {},
     "output_type": "execute_result"
    }
   ],
   "source": [
    "flr.value(value_dt, libor_curve, model)"
   ]
  },
  {
   "cell_type": "code",
   "execution_count": 15,
   "metadata": {
    "execution": {
     "iopub.execute_input": "2025-08-27T21:48:19.963478Z",
     "iopub.status.busy": "2025-08-27T21:48:19.963167Z",
     "iopub.status.idle": "2025-08-27T21:48:19.965979Z",
     "shell.execute_reply": "2025-08-27T21:48:19.965643Z"
    }
   },
   "outputs": [
    {
     "name": "stdout",
     "output_type": "stream",
     "text": [
      "START DATE: 08-JUN-2018\n",
      "MATURITY DATE: 08-JUN-2020\n",
      "OPTION TYPE FinCapFloorTypes.CAP\n",
      "STRIKE (%): 2.0\n",
      "FREQUENCY: FrequencyTypes.QUARTERLY\n",
      "DAY COUNT: DayCountTypes.THIRTY_E_360_ISDA\n",
      "VALUATION DATE 06-JUN-2018\n",
      "PAYMENT_dt     YEAR_FRAC   FWD_RATE    INTRINSIC           DF    CAPLET_PV       CUM_PV\n",
      "    08-JUN-2018          -         -            -     1.000000            -            -\n",
      "    10-SEP-2018  0.2555556   2.29838       757.99     0.994034       757.99       757.99\n",
      "    10-DEC-2018  0.2500000   2.28739       710.13     0.988382       760.00      1517.99\n",
      "    08-MAR-2019  0.2444444   2.29062       698.24     0.982878       815.49      2333.48\n",
      "    10-JUN-2019  0.2555556   3.08483      2703.56     0.975190      2714.74      5048.22\n",
      "    09-SEP-2019  0.2472222   2.61121      1464.10     0.968935      1564.70      6612.92\n",
      "    09-DEC-2019  0.2500000   2.58219      1401.23     0.962721      1550.71      8163.63\n",
      "    09-MAR-2020  0.2500000   2.57691      1379.61     0.956558      1569.15      9732.78\n",
      "    08-JUN-2020  0.2472222   2.60405      1419.34     0.950440      1632.04     11364.82\n"
     ]
    }
   ],
   "source": [
    "cap.print_leg()"
   ]
  },
  {
   "cell_type": "markdown",
   "metadata": {},
   "source": [
    "# Alternative Models"
   ]
  },
  {
   "cell_type": "markdown",
   "metadata": {},
   "source": [
    "## Shifted Black"
   ]
  },
  {
   "cell_type": "markdown",
   "metadata": {},
   "source": [
    "Shifted Black gives the same pdf at F+S as Black does at F. So if we want to have the PDF for F=0.25 at -0.25 because rates are negative then you need to set F=-0.50."
   ]
  },
  {
   "cell_type": "code",
   "execution_count": 16,
   "metadata": {
    "execution": {
     "iopub.execute_input": "2025-08-27T21:48:19.967524Z",
     "iopub.status.busy": "2025-08-27T21:48:19.967329Z",
     "iopub.status.idle": "2025-08-27T21:48:19.969535Z",
     "shell.execute_reply": "2025-08-27T21:48:19.969170Z"
    }
   },
   "outputs": [],
   "source": [
    "model = BlackShifted(0.25, -0.005)"
   ]
  },
  {
   "cell_type": "code",
   "execution_count": 17,
   "metadata": {
    "execution": {
     "iopub.execute_input": "2025-08-27T21:48:19.971144Z",
     "iopub.status.busy": "2025-08-27T21:48:19.970890Z",
     "iopub.status.idle": "2025-08-27T21:48:19.974184Z",
     "shell.execute_reply": "2025-08-27T21:48:19.973834Z"
    }
   },
   "outputs": [
    {
     "data": {
      "text/plain": [
       "10931.656739234792"
      ]
     },
     "execution_count": 17,
     "metadata": {},
     "output_type": "execute_result"
    }
   ],
   "source": [
    "cap.value(value_dt, libor_curve, model)"
   ]
  },
  {
   "cell_type": "code",
   "execution_count": 18,
   "metadata": {
    "execution": {
     "iopub.execute_input": "2025-08-27T21:48:19.975650Z",
     "iopub.status.busy": "2025-08-27T21:48:19.975450Z",
     "iopub.status.idle": "2025-08-27T21:48:19.978818Z",
     "shell.execute_reply": "2025-08-27T21:48:19.978461Z"
    }
   },
   "outputs": [
    {
     "data": {
      "text/plain": [
       "397.46718184322066"
      ]
     },
     "execution_count": 18,
     "metadata": {},
     "output_type": "execute_result"
    }
   ],
   "source": [
    "flr.value(value_dt, libor_curve, model)"
   ]
  },
  {
   "cell_type": "markdown",
   "metadata": {},
   "source": [
    "The floor has increased in value as the downside risk is greater."
   ]
  },
  {
   "cell_type": "markdown",
   "metadata": {},
   "source": [
    "## SABR Model"
   ]
  },
  {
   "cell_type": "code",
   "execution_count": 19,
   "metadata": {
    "execution": {
     "iopub.execute_input": "2025-08-27T21:48:19.980575Z",
     "iopub.status.busy": "2025-08-27T21:48:19.980387Z",
     "iopub.status.idle": "2025-08-27T21:48:19.982584Z",
     "shell.execute_reply": "2025-08-27T21:48:19.982263Z"
    }
   },
   "outputs": [],
   "source": [
    "alpha = 0.037; beta = 0.5; rho  = 0.1; nu = 0.573"
   ]
  },
  {
   "cell_type": "code",
   "execution_count": 20,
   "metadata": {
    "execution": {
     "iopub.execute_input": "2025-08-27T21:48:19.984115Z",
     "iopub.status.busy": "2025-08-27T21:48:19.983865Z",
     "iopub.status.idle": "2025-08-27T21:48:19.985944Z",
     "shell.execute_reply": "2025-08-27T21:48:19.985535Z"
    }
   },
   "outputs": [],
   "source": [
    "model = SABR(alpha, beta, rho, nu)"
   ]
  },
  {
   "cell_type": "code",
   "execution_count": 21,
   "metadata": {
    "execution": {
     "iopub.execute_input": "2025-08-27T21:48:19.987453Z",
     "iopub.status.busy": "2025-08-27T21:48:19.987153Z",
     "iopub.status.idle": "2025-08-27T21:48:19.991027Z",
     "shell.execute_reply": "2025-08-27T21:48:19.990509Z"
    }
   },
   "outputs": [
    {
     "data": {
      "text/plain": [
       "11467.913925057415"
      ]
     },
     "execution_count": 21,
     "metadata": {},
     "output_type": "execute_result"
    }
   ],
   "source": [
    "cap.value(value_dt, libor_curve, model)"
   ]
  },
  {
   "cell_type": "code",
   "execution_count": 22,
   "metadata": {
    "execution": {
     "iopub.execute_input": "2025-08-27T21:48:19.992934Z",
     "iopub.status.busy": "2025-08-27T21:48:19.992729Z",
     "iopub.status.idle": "2025-08-27T21:48:19.996373Z",
     "shell.execute_reply": "2025-08-27T21:48:19.995999Z"
    }
   },
   "outputs": [
    {
     "data": {
      "text/plain": [
       "933.7243676658477"
      ]
     },
     "execution_count": 22,
     "metadata": {},
     "output_type": "execute_result"
    }
   ],
   "source": [
    "flr.value(value_dt, libor_curve, model)"
   ]
  },
  {
   "cell_type": "markdown",
   "metadata": {},
   "source": [
    "## Shifted SABR Model"
   ]
  },
  {
   "cell_type": "code",
   "execution_count": 23,
   "metadata": {
    "execution": {
     "iopub.execute_input": "2025-08-27T21:48:19.997977Z",
     "iopub.status.busy": "2025-08-27T21:48:19.997797Z",
     "iopub.status.idle": "2025-08-27T21:48:20.000108Z",
     "shell.execute_reply": "2025-08-27T21:48:19.999743Z"
    }
   },
   "outputs": [],
   "source": [
    "alpha = 0.037; beta = 0.5; rho  = 0.1; nu = 0.573; shift = -0.005"
   ]
  },
  {
   "cell_type": "code",
   "execution_count": 24,
   "metadata": {
    "execution": {
     "iopub.execute_input": "2025-08-27T21:48:20.001786Z",
     "iopub.status.busy": "2025-08-27T21:48:20.001461Z",
     "iopub.status.idle": "2025-08-27T21:48:20.004103Z",
     "shell.execute_reply": "2025-08-27T21:48:20.003653Z"
    }
   },
   "outputs": [],
   "source": [
    "model = SABRShifted(alpha, beta, rho, nu, shift)"
   ]
  },
  {
   "cell_type": "code",
   "execution_count": 25,
   "metadata": {
    "execution": {
     "iopub.execute_input": "2025-08-27T21:48:20.005914Z",
     "iopub.status.busy": "2025-08-27T21:48:20.005527Z",
     "iopub.status.idle": "2025-08-27T21:48:20.387587Z",
     "shell.execute_reply": "2025-08-27T21:48:20.387198Z"
    }
   },
   "outputs": [
    {
     "data": {
      "text/plain": [
       "11834.879375336406"
      ]
     },
     "execution_count": 25,
     "metadata": {},
     "output_type": "execute_result"
    }
   ],
   "source": [
    "cap.value(value_dt, libor_curve, model)"
   ]
  },
  {
   "cell_type": "code",
   "execution_count": 26,
   "metadata": {
    "execution": {
     "iopub.execute_input": "2025-08-27T21:48:20.389228Z",
     "iopub.status.busy": "2025-08-27T21:48:20.389035Z",
     "iopub.status.idle": "2025-08-27T21:48:20.392690Z",
     "shell.execute_reply": "2025-08-27T21:48:20.392326Z"
    }
   },
   "outputs": [
    {
     "data": {
      "text/plain": [
       "1300.689817944834"
      ]
     },
     "execution_count": 26,
     "metadata": {},
     "output_type": "execute_result"
    }
   ],
   "source": [
    "flr.value(value_dt, libor_curve, model)"
   ]
  },
  {
   "cell_type": "markdown",
   "metadata": {},
   "source": [
    "## Hull White Model"
   ]
  },
  {
   "cell_type": "code",
   "execution_count": 27,
   "metadata": {
    "execution": {
     "iopub.execute_input": "2025-08-27T21:48:20.394437Z",
     "iopub.status.busy": "2025-08-27T21:48:20.394134Z",
     "iopub.status.idle": "2025-08-27T21:48:20.396509Z",
     "shell.execute_reply": "2025-08-27T21:48:20.396149Z"
    }
   },
   "outputs": [],
   "source": [
    "sigma = 0.01; alpha = 0.005"
   ]
  },
  {
   "cell_type": "code",
   "execution_count": 28,
   "metadata": {
    "execution": {
     "iopub.execute_input": "2025-08-27T21:48:20.398028Z",
     "iopub.status.busy": "2025-08-27T21:48:20.397842Z",
     "iopub.status.idle": "2025-08-27T21:48:20.400100Z",
     "shell.execute_reply": "2025-08-27T21:48:20.399753Z"
    }
   },
   "outputs": [],
   "source": [
    "model = HWTree(sigma, alpha)"
   ]
  },
  {
   "cell_type": "code",
   "execution_count": 29,
   "metadata": {
    "execution": {
     "iopub.execute_input": "2025-08-27T21:48:20.401745Z",
     "iopub.status.busy": "2025-08-27T21:48:20.401467Z",
     "iopub.status.idle": "2025-08-27T21:48:20.405199Z",
     "shell.execute_reply": "2025-08-27T21:48:20.404848Z"
    }
   },
   "outputs": [
    {
     "data": {
      "text/plain": [
       "14313.311445218349"
      ]
     },
     "execution_count": 29,
     "metadata": {},
     "output_type": "execute_result"
    }
   ],
   "source": [
    "cap.value(value_dt, libor_curve, model)"
   ]
  },
  {
   "cell_type": "code",
   "execution_count": 30,
   "metadata": {
    "execution": {
     "iopub.execute_input": "2025-08-27T21:48:20.406809Z",
     "iopub.status.busy": "2025-08-27T21:48:20.406513Z",
     "iopub.status.idle": "2025-08-27T21:48:20.409905Z",
     "shell.execute_reply": "2025-08-27T21:48:20.409574Z"
    }
   },
   "outputs": [
    {
     "data": {
      "text/plain": [
       "2764.994738554076"
      ]
     },
     "execution_count": 30,
     "metadata": {},
     "output_type": "execute_result"
    }
   ],
   "source": [
    "flr.value(value_dt, libor_curve, model)"
   ]
  },
  {
   "cell_type": "markdown",
   "metadata": {},
   "source": [
    "Copyright (c) 2020 Dominic O'Kane"
   ]
  }
 ],
 "metadata": {
  "kernelspec": {
   "display_name": "base",
   "language": "python",
   "name": "python3"
  },
  "language_info": {
   "codemirror_mode": {
    "name": "ipython",
    "version": 3
   },
   "file_extension": ".py",
   "mimetype": "text/x-python",
   "name": "python",
   "nbconvert_exporter": "python",
   "pygments_lexer": "ipython3",
   "version": "3.13.5"
  }
 },
 "nbformat": 4,
 "nbformat_minor": 4
}
