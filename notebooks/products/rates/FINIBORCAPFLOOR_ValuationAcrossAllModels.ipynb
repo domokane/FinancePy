{
 "cells": [
  {
   "cell_type": "markdown",
   "metadata": {},
   "source": [
    "# Valuing Caps and Floors"
   ]
  },
  {
   "cell_type": "markdown",
   "metadata": {},
   "source": [
    "We value caps and floors using Black's model"
   ]
  },
  {
   "cell_type": "code",
   "execution_count": 1,
   "metadata": {
    "execution": {
     "iopub.execute_input": "2025-09-14T22:24:12.191603Z",
     "iopub.status.busy": "2025-09-14T22:24:12.191472Z",
     "iopub.status.idle": "2025-09-14T22:24:12.418640Z",
     "shell.execute_reply": "2025-09-14T22:24:12.418155Z"
    }
   },
   "outputs": [],
   "source": [
    "import numpy as np\n",
    "import matplotlib.pyplot as plt"
   ]
  },
  {
   "cell_type": "code",
   "execution_count": 2,
   "metadata": {
    "execution": {
     "iopub.execute_input": "2025-09-14T22:24:12.420337Z",
     "iopub.status.busy": "2025-09-14T22:24:12.420140Z",
     "iopub.status.idle": "2025-09-14T22:24:13.445997Z",
     "shell.execute_reply": "2025-09-14T22:24:13.445663Z"
    }
   },
   "outputs": [],
   "source": [
    "from financepy.utils import *\n",
    "from financepy.products.rates import *"
   ]
  },
  {
   "cell_type": "markdown",
   "metadata": {},
   "source": [
    "## Building a Ibor Curve"
   ]
  },
  {
   "cell_type": "code",
   "execution_count": 3,
   "metadata": {
    "execution": {
     "iopub.execute_input": "2025-09-14T22:24:13.447793Z",
     "iopub.status.busy": "2025-09-14T22:24:13.447586Z",
     "iopub.status.idle": "2025-09-14T22:24:13.464542Z",
     "shell.execute_reply": "2025-09-14T22:24:13.464162Z"
    }
   },
   "outputs": [],
   "source": [
    "value_dt = Date(6, 6, 2018)"
   ]
  },
  {
   "cell_type": "code",
   "execution_count": 4,
   "metadata": {
    "execution": {
     "iopub.execute_input": "2025-09-14T22:24:13.466545Z",
     "iopub.status.busy": "2025-09-14T22:24:13.466216Z",
     "iopub.status.idle": "2025-09-14T22:24:13.470473Z",
     "shell.execute_reply": "2025-09-14T22:24:13.470162Z"
    }
   },
   "outputs": [],
   "source": [
    "spot_days = 0\n",
    "settle_dt = value_dt\n",
    "depo_dcc_type = DayCountTypes.THIRTY_E_360_ISDA\n",
    "\n",
    "depos = []\n",
    "depo = IborDeposit(settle_dt, \"1M\", 0.0230, depo_dcc_type); depos.append(depo)\n",
    "depo = IborDeposit(settle_dt, \"2M\", 0.0230, depo_dcc_type); depos.append(depo)\n",
    "depo = IborDeposit(settle_dt, \"3M\", 0.0230, depo_dcc_type); depos.append(depo)\n",
    "depo = IborDeposit(settle_dt, \"6M\", 0.0230, depo_dcc_type); depos.append(depo)\n",
    "depo = IborDeposit(settle_dt, \"9M\", 0.0230, depo_dcc_type); depos.append(depo)"
   ]
  },
  {
   "cell_type": "code",
   "execution_count": 5,
   "metadata": {
    "execution": {
     "iopub.execute_input": "2025-09-14T22:24:13.472078Z",
     "iopub.status.busy": "2025-09-14T22:24:13.471958Z",
     "iopub.status.idle": "2025-09-14T22:24:13.483280Z",
     "shell.execute_reply": "2025-09-14T22:24:13.482681Z"
    }
   },
   "outputs": [],
   "source": [
    "accrual = DayCountTypes.THIRTY_E_360\n",
    "freq = FrequencyTypes.SEMI_ANNUAL\n",
    "longEnd = DateGenRuleTypes.BACKWARD\n",
    "swap_type = SwapTypes.PAY\n",
    "\n",
    "spot_days = 2\n",
    "settle_dt = value_dt.add_weekdays(spot_days)\n",
    "\n",
    "swaps = []\n",
    "swap = IborSwap(settle_dt, \"1Y\", swap_type, 0.0250, freq, accrual); swaps.append(swap)\n",
    "swap = IborSwap(settle_dt, \"2Y\", swap_type, 0.0255, freq, accrual); swaps.append(swap)\n",
    "swap = IborSwap(settle_dt, \"3Y\", swap_type, 0.0260, freq, accrual); swaps.append(swap)\n",
    "swap = IborSwap(settle_dt, \"4Y\", swap_type, 0.0265, freq, accrual); swaps.append(swap)\n",
    "swap = IborSwap(settle_dt, \"5Y\", swap_type, 0.0270, freq, accrual); swaps.append(swap)"
   ]
  },
  {
   "cell_type": "code",
   "execution_count": 6,
   "metadata": {
    "execution": {
     "iopub.execute_input": "2025-09-14T22:24:13.484741Z",
     "iopub.status.busy": "2025-09-14T22:24:13.484620Z",
     "iopub.status.idle": "2025-09-14T22:24:13.492373Z",
     "shell.execute_reply": "2025-09-14T22:24:13.492020Z"
    }
   },
   "outputs": [],
   "source": [
    "libor_curve = IborSingleCurve(value_dt, depos, [], swaps)"
   ]
  },
  {
   "cell_type": "markdown",
   "metadata": {},
   "source": [
    "## Creating a Cap and Floor"
   ]
  },
  {
   "cell_type": "code",
   "execution_count": 7,
   "metadata": {
    "execution": {
     "iopub.execute_input": "2025-09-14T22:24:13.493434Z",
     "iopub.status.busy": "2025-09-14T22:24:13.493315Z",
     "iopub.status.idle": "2025-09-14T22:24:13.495222Z",
     "shell.execute_reply": "2025-09-14T22:24:13.494947Z"
    }
   },
   "outputs": [],
   "source": [
    "capType = FinCapFloorTypes.CAP\n",
    "floorType = FinCapFloorTypes.FLOOR"
   ]
  },
  {
   "cell_type": "code",
   "execution_count": 8,
   "metadata": {
    "execution": {
     "iopub.execute_input": "2025-09-14T22:24:13.496182Z",
     "iopub.status.busy": "2025-09-14T22:24:13.496072Z",
     "iopub.status.idle": "2025-09-14T22:24:13.498392Z",
     "shell.execute_reply": "2025-09-14T22:24:13.497993Z"
    }
   },
   "outputs": [],
   "source": [
    "strike_rate = 0.02"
   ]
  },
  {
   "cell_type": "code",
   "execution_count": 9,
   "metadata": {
    "execution": {
     "iopub.execute_input": "2025-09-14T22:24:13.499419Z",
     "iopub.status.busy": "2025-09-14T22:24:13.499311Z",
     "iopub.status.idle": "2025-09-14T22:24:13.501741Z",
     "shell.execute_reply": "2025-09-14T22:24:13.501467Z"
    }
   },
   "outputs": [],
   "source": [
    "cap = IborCapFloor(settle_dt, \"2Y\", capType, strike_rate)\n",
    "flr = IborCapFloor(settle_dt, \"2Y\", floorType, strike_rate)"
   ]
  },
  {
   "cell_type": "code",
   "execution_count": 10,
   "metadata": {
    "execution": {
     "iopub.execute_input": "2025-09-14T22:24:13.502664Z",
     "iopub.status.busy": "2025-09-14T22:24:13.502552Z",
     "iopub.status.idle": "2025-09-14T22:24:13.505851Z",
     "shell.execute_reply": "2025-09-14T22:24:13.505488Z"
    }
   },
   "outputs": [
    {
     "name": "stdout",
     "output_type": "stream",
     "text": [
      "OBJECT TYPE: IborCapFloor\n",
      "START DATE: 08-JUN-2018\n",
      "MATURITY DATE: 08-JUN-2020\n",
      "STRIKE COUPON: 2.0\n",
      "OPTION TYPE: FinCapFloorTypes.CAP\n",
      "FREQUENCY: FrequencyTypes.QUARTERLY\n",
      "DAY COUNT: DayCountTypes.THIRTY_E_360_ISDA\n"
     ]
    }
   ],
   "source": [
    "print(cap)"
   ]
  },
  {
   "cell_type": "code",
   "execution_count": 11,
   "metadata": {
    "execution": {
     "iopub.execute_input": "2025-09-14T22:24:13.506829Z",
     "iopub.status.busy": "2025-09-14T22:24:13.506719Z",
     "iopub.status.idle": "2025-09-14T22:24:13.508735Z",
     "shell.execute_reply": "2025-09-14T22:24:13.508482Z"
    }
   },
   "outputs": [
    {
     "name": "stdout",
     "output_type": "stream",
     "text": [
      "OBJECT TYPE: IborCapFloor\n",
      "START DATE: 08-JUN-2018\n",
      "MATURITY DATE: 08-JUN-2020\n",
      "STRIKE COUPON: 2.0\n",
      "OPTION TYPE: FinCapFloorTypes.FLOOR\n",
      "FREQUENCY: FrequencyTypes.QUARTERLY\n",
      "DAY COUNT: DayCountTypes.THIRTY_E_360_ISDA\n"
     ]
    }
   ],
   "source": [
    "print(flr)"
   ]
  },
  {
   "cell_type": "markdown",
   "metadata": {},
   "source": [
    "# Valuation"
   ]
  },
  {
   "cell_type": "markdown",
   "metadata": {},
   "source": [
    "### Black's Model"
   ]
  },
  {
   "cell_type": "markdown",
   "metadata": {},
   "source": [
    "We start with Black's model with 25% volatility"
   ]
  },
  {
   "cell_type": "code",
   "execution_count": 12,
   "metadata": {
    "execution": {
     "iopub.execute_input": "2025-09-14T22:24:13.509690Z",
     "iopub.status.busy": "2025-09-14T22:24:13.509582Z",
     "iopub.status.idle": "2025-09-14T22:24:13.511763Z",
     "shell.execute_reply": "2025-09-14T22:24:13.511495Z"
    }
   },
   "outputs": [],
   "source": [
    "model = Black(0.25)"
   ]
  },
  {
   "cell_type": "code",
   "execution_count": 13,
   "metadata": {
    "execution": {
     "iopub.execute_input": "2025-09-14T22:24:13.513016Z",
     "iopub.status.busy": "2025-09-14T22:24:13.512867Z",
     "iopub.status.idle": "2025-09-14T22:24:13.516884Z",
     "shell.execute_reply": "2025-09-14T22:24:13.516599Z"
    }
   },
   "outputs": [
    {
     "data": {
      "text/plain": [
       "np.float64(11364.821332295924)"
      ]
     },
     "execution_count": 13,
     "metadata": {},
     "output_type": "execute_result"
    }
   ],
   "source": [
    "cap.value(value_dt, libor_curve, model)"
   ]
  },
  {
   "cell_type": "code",
   "execution_count": 14,
   "metadata": {
    "execution": {
     "iopub.execute_input": "2025-09-14T22:24:13.517868Z",
     "iopub.status.busy": "2025-09-14T22:24:13.517758Z",
     "iopub.status.idle": "2025-09-14T22:24:13.520378Z",
     "shell.execute_reply": "2025-09-14T22:24:13.520113Z"
    }
   },
   "outputs": [
    {
     "data": {
      "text/plain": [
       "np.float64(830.6317749043551)"
      ]
     },
     "execution_count": 14,
     "metadata": {},
     "output_type": "execute_result"
    }
   ],
   "source": [
    "flr.value(value_dt, libor_curve, model)"
   ]
  },
  {
   "cell_type": "code",
   "execution_count": 15,
   "metadata": {
    "execution": {
     "iopub.execute_input": "2025-09-14T22:24:13.521310Z",
     "iopub.status.busy": "2025-09-14T22:24:13.521200Z",
     "iopub.status.idle": "2025-09-14T22:24:13.523424Z",
     "shell.execute_reply": "2025-09-14T22:24:13.523177Z"
    }
   },
   "outputs": [
    {
     "name": "stdout",
     "output_type": "stream",
     "text": [
      "START DATE: 08-JUN-2018\n",
      "MATURITY DATE: 08-JUN-2020\n",
      "OPTION TYPE FinCapFloorTypes.CAP\n",
      "STRIKE (%): 2.0\n",
      "FREQUENCY: FrequencyTypes.QUARTERLY\n",
      "DAY COUNT: DayCountTypes.THIRTY_E_360_ISDA\n",
      "VALUATION DATE 06-JUN-2018\n",
      "PAYMENT_dt     YEAR_FRAC   FWD_RATE    INTRINSIC           DF    CAPLET_PV       CUM_PV\n",
      "    08-JUN-2018          -         -            -     1.000000            -            -\n",
      "    10-SEP-2018  0.2555556   2.29838       757.99     0.994034       757.99       757.99\n",
      "    10-DEC-2018  0.2500000   2.28739       710.13     0.988382       760.00      1517.99\n",
      "    08-MAR-2019  0.2444444   2.29062       698.24     0.982878       815.49      2333.48\n",
      "    10-JUN-2019  0.2555556   3.08483      2703.56     0.975190      2714.74      5048.22\n",
      "    09-SEP-2019  0.2472222   2.61121      1464.10     0.968935      1564.70      6612.92\n",
      "    09-DEC-2019  0.2500000   2.58219      1401.23     0.962721      1550.71      8163.63\n",
      "    09-MAR-2020  0.2500000   2.57691      1379.61     0.956558      1569.15      9732.78\n",
      "    08-JUN-2020  0.2472222   2.60405      1419.34     0.950440      1632.04     11364.82\n"
     ]
    }
   ],
   "source": [
    "cap.print_leg()"
   ]
  },
  {
   "cell_type": "markdown",
   "metadata": {},
   "source": [
    "# Alternative Models"
   ]
  },
  {
   "cell_type": "markdown",
   "metadata": {},
   "source": [
    "## Shifted Black"
   ]
  },
  {
   "cell_type": "markdown",
   "metadata": {},
   "source": [
    "Shifted Black gives the same pdf at F+S as Black does at F. So if we want to have the PDF for F=0.25 at -0.25 because rates are negative then you need to set F=-0.50."
   ]
  },
  {
   "cell_type": "code",
   "execution_count": 16,
   "metadata": {
    "execution": {
     "iopub.execute_input": "2025-09-14T22:24:13.524362Z",
     "iopub.status.busy": "2025-09-14T22:24:13.524218Z",
     "iopub.status.idle": "2025-09-14T22:24:13.526437Z",
     "shell.execute_reply": "2025-09-14T22:24:13.526181Z"
    }
   },
   "outputs": [],
   "source": [
    "model = BlackShifted(0.25, -0.005)"
   ]
  },
  {
   "cell_type": "code",
   "execution_count": 17,
   "metadata": {
    "execution": {
     "iopub.execute_input": "2025-09-14T22:24:13.527849Z",
     "iopub.status.busy": "2025-09-14T22:24:13.527560Z",
     "iopub.status.idle": "2025-09-14T22:24:13.531488Z",
     "shell.execute_reply": "2025-09-14T22:24:13.531173Z"
    }
   },
   "outputs": [
    {
     "data": {
      "text/plain": [
       "10931.656739234792"
      ]
     },
     "execution_count": 17,
     "metadata": {},
     "output_type": "execute_result"
    }
   ],
   "source": [
    "cap.value(value_dt, libor_curve, model)"
   ]
  },
  {
   "cell_type": "code",
   "execution_count": 18,
   "metadata": {
    "execution": {
     "iopub.execute_input": "2025-09-14T22:24:13.532397Z",
     "iopub.status.busy": "2025-09-14T22:24:13.532289Z",
     "iopub.status.idle": "2025-09-14T22:24:13.534925Z",
     "shell.execute_reply": "2025-09-14T22:24:13.534657Z"
    }
   },
   "outputs": [
    {
     "data": {
      "text/plain": [
       "397.46718184322066"
      ]
     },
     "execution_count": 18,
     "metadata": {},
     "output_type": "execute_result"
    }
   ],
   "source": [
    "flr.value(value_dt, libor_curve, model)"
   ]
  },
  {
   "cell_type": "markdown",
   "metadata": {},
   "source": [
    "The floor has increased in value as the downside risk is greater."
   ]
  },
  {
   "cell_type": "markdown",
   "metadata": {},
   "source": [
    "## SABR Model"
   ]
  },
  {
   "cell_type": "code",
   "execution_count": 19,
   "metadata": {
    "execution": {
     "iopub.execute_input": "2025-09-14T22:24:13.535839Z",
     "iopub.status.busy": "2025-09-14T22:24:13.535728Z",
     "iopub.status.idle": "2025-09-14T22:24:13.537928Z",
     "shell.execute_reply": "2025-09-14T22:24:13.537657Z"
    }
   },
   "outputs": [],
   "source": [
    "alpha = 0.037; beta = 0.5; rho  = 0.1; nu = 0.573"
   ]
  },
  {
   "cell_type": "code",
   "execution_count": 20,
   "metadata": {
    "execution": {
     "iopub.execute_input": "2025-09-14T22:24:13.539775Z",
     "iopub.status.busy": "2025-09-14T22:24:13.539667Z",
     "iopub.status.idle": "2025-09-14T22:24:13.542658Z",
     "shell.execute_reply": "2025-09-14T22:24:13.542394Z"
    }
   },
   "outputs": [],
   "source": [
    "model = SABR(alpha, beta, rho, nu)"
   ]
  },
  {
   "cell_type": "code",
   "execution_count": 21,
   "metadata": {
    "execution": {
     "iopub.execute_input": "2025-09-14T22:24:13.544447Z",
     "iopub.status.busy": "2025-09-14T22:24:13.544108Z",
     "iopub.status.idle": "2025-09-14T22:24:13.547610Z",
     "shell.execute_reply": "2025-09-14T22:24:13.547317Z"
    }
   },
   "outputs": [
    {
     "data": {
      "text/plain": [
       "11467.913925057415"
      ]
     },
     "execution_count": 21,
     "metadata": {},
     "output_type": "execute_result"
    }
   ],
   "source": [
    "cap.value(value_dt, libor_curve, model)"
   ]
  },
  {
   "cell_type": "code",
   "execution_count": 22,
   "metadata": {
    "execution": {
     "iopub.execute_input": "2025-09-14T22:24:13.549099Z",
     "iopub.status.busy": "2025-09-14T22:24:13.548970Z",
     "iopub.status.idle": "2025-09-14T22:24:13.551850Z",
     "shell.execute_reply": "2025-09-14T22:24:13.551531Z"
    }
   },
   "outputs": [
    {
     "data": {
      "text/plain": [
       "933.7243676658477"
      ]
     },
     "execution_count": 22,
     "metadata": {},
     "output_type": "execute_result"
    }
   ],
   "source": [
    "flr.value(value_dt, libor_curve, model)"
   ]
  },
  {
   "cell_type": "markdown",
   "metadata": {},
   "source": [
    "## Shifted SABR Model"
   ]
  },
  {
   "cell_type": "code",
   "execution_count": 23,
   "metadata": {
    "execution": {
     "iopub.execute_input": "2025-09-14T22:24:13.552776Z",
     "iopub.status.busy": "2025-09-14T22:24:13.552663Z",
     "iopub.status.idle": "2025-09-14T22:24:13.554926Z",
     "shell.execute_reply": "2025-09-14T22:24:13.554685Z"
    }
   },
   "outputs": [],
   "source": [
    "alpha = 0.037; beta = 0.5; rho  = 0.1; nu = 0.573; shift = -0.005"
   ]
  },
  {
   "cell_type": "code",
   "execution_count": 24,
   "metadata": {
    "execution": {
     "iopub.execute_input": "2025-09-14T22:24:13.556905Z",
     "iopub.status.busy": "2025-09-14T22:24:13.556670Z",
     "iopub.status.idle": "2025-09-14T22:24:13.558959Z",
     "shell.execute_reply": "2025-09-14T22:24:13.558791Z"
    }
   },
   "outputs": [],
   "source": [
    "model = SABRShifted(alpha, beta, rho, nu, shift)"
   ]
  },
  {
   "cell_type": "code",
   "execution_count": 25,
   "metadata": {
    "execution": {
     "iopub.execute_input": "2025-09-14T22:24:13.559778Z",
     "iopub.status.busy": "2025-09-14T22:24:13.559670Z",
     "iopub.status.idle": "2025-09-14T22:24:13.571531Z",
     "shell.execute_reply": "2025-09-14T22:24:13.571253Z"
    }
   },
   "outputs": [
    {
     "data": {
      "text/plain": [
       "11834.879375336406"
      ]
     },
     "execution_count": 25,
     "metadata": {},
     "output_type": "execute_result"
    }
   ],
   "source": [
    "cap.value(value_dt, libor_curve, model)"
   ]
  },
  {
   "cell_type": "code",
   "execution_count": 26,
   "metadata": {
    "execution": {
     "iopub.execute_input": "2025-09-14T22:24:13.572569Z",
     "iopub.status.busy": "2025-09-14T22:24:13.572458Z",
     "iopub.status.idle": "2025-09-14T22:24:13.575498Z",
     "shell.execute_reply": "2025-09-14T22:24:13.575259Z"
    }
   },
   "outputs": [
    {
     "data": {
      "text/plain": [
       "1300.689817944834"
      ]
     },
     "execution_count": 26,
     "metadata": {},
     "output_type": "execute_result"
    }
   ],
   "source": [
    "flr.value(value_dt, libor_curve, model)"
   ]
  },
  {
   "cell_type": "markdown",
   "metadata": {},
   "source": [
    "## Hull White Model"
   ]
  },
  {
   "cell_type": "code",
   "execution_count": 27,
   "metadata": {
    "execution": {
     "iopub.execute_input": "2025-09-14T22:24:13.576418Z",
     "iopub.status.busy": "2025-09-14T22:24:13.576305Z",
     "iopub.status.idle": "2025-09-14T22:24:13.578662Z",
     "shell.execute_reply": "2025-09-14T22:24:13.578401Z"
    }
   },
   "outputs": [],
   "source": [
    "sigma = 0.01; alpha = 0.005"
   ]
  },
  {
   "cell_type": "code",
   "execution_count": 28,
   "metadata": {
    "execution": {
     "iopub.execute_input": "2025-09-14T22:24:13.579572Z",
     "iopub.status.busy": "2025-09-14T22:24:13.579463Z",
     "iopub.status.idle": "2025-09-14T22:24:13.581872Z",
     "shell.execute_reply": "2025-09-14T22:24:13.581544Z"
    }
   },
   "outputs": [],
   "source": [
    "model = HWTree(sigma, alpha)"
   ]
  },
  {
   "cell_type": "code",
   "execution_count": 29,
   "metadata": {
    "execution": {
     "iopub.execute_input": "2025-09-14T22:24:13.582708Z",
     "iopub.status.busy": "2025-09-14T22:24:13.582594Z",
     "iopub.status.idle": "2025-09-14T22:24:13.585124Z",
     "shell.execute_reply": "2025-09-14T22:24:13.584881Z"
    }
   },
   "outputs": [
    {
     "data": {
      "text/plain": [
       "14313.311445218349"
      ]
     },
     "execution_count": 29,
     "metadata": {},
     "output_type": "execute_result"
    }
   ],
   "source": [
    "cap.value(value_dt, libor_curve, model)"
   ]
  },
  {
   "cell_type": "code",
   "execution_count": 30,
   "metadata": {
    "execution": {
     "iopub.execute_input": "2025-09-14T22:24:13.587979Z",
     "iopub.status.busy": "2025-09-14T22:24:13.587687Z",
     "iopub.status.idle": "2025-09-14T22:24:13.590349Z",
     "shell.execute_reply": "2025-09-14T22:24:13.590081Z"
    }
   },
   "outputs": [
    {
     "data": {
      "text/plain": [
       "2764.994738554076"
      ]
     },
     "execution_count": 30,
     "metadata": {},
     "output_type": "execute_result"
    }
   ],
   "source": [
    "flr.value(value_dt, libor_curve, model)"
   ]
  },
  {
   "cell_type": "markdown",
   "metadata": {},
   "source": [
    "Copyright (c) 2020 Dominic O'Kane"
   ]
  }
 ],
 "metadata": {
  "kernelspec": {
   "display_name": "base",
   "language": "python",
   "name": "python3"
  },
  "language_info": {
   "codemirror_mode": {
    "name": "ipython",
    "version": 3
   },
   "file_extension": ".py",
   "mimetype": "text/x-python",
   "name": "python",
   "nbconvert_exporter": "python",
   "pygments_lexer": "ipython3",
   "version": "3.13.7"
  }
 },
 "nbformat": 4,
 "nbformat_minor": 4
}
