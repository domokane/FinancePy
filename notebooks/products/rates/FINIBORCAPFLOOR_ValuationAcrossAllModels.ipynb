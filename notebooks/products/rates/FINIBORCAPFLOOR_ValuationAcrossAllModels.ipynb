{
 "cells": [
  {
   "cell_type": "markdown",
   "metadata": {},
   "source": [
    "# Valuing Caps and Floors"
   ]
  },
  {
   "cell_type": "markdown",
   "metadata": {},
   "source": [
    "We value caps and floors using Black's model"
   ]
  },
  {
   "cell_type": "code",
   "execution_count": 1,
   "metadata": {
    "execution": {
     "iopub.execute_input": "2025-08-27T22:35:13.450075Z",
     "iopub.status.busy": "2025-08-27T22:35:13.449793Z",
     "iopub.status.idle": "2025-08-27T22:35:13.902479Z",
     "shell.execute_reply": "2025-08-27T22:35:13.901900Z"
    }
   },
   "outputs": [],
   "source": [
    "import numpy as np\n",
    "import matplotlib.pyplot as plt"
   ]
  },
  {
   "cell_type": "code",
   "execution_count": 2,
   "metadata": {
    "execution": {
     "iopub.execute_input": "2025-08-27T22:35:13.905589Z",
     "iopub.status.busy": "2025-08-27T22:35:13.905250Z",
     "iopub.status.idle": "2025-08-27T22:35:15.477960Z",
     "shell.execute_reply": "2025-08-27T22:35:15.477477Z"
    }
   },
   "outputs": [],
   "source": [
    "from financepy.utils import *\n",
    "from financepy.products.rates import *"
   ]
  },
  {
   "cell_type": "markdown",
   "metadata": {},
   "source": [
    "## Building a Ibor Curve"
   ]
  },
  {
   "cell_type": "code",
   "execution_count": 3,
   "metadata": {
    "execution": {
     "iopub.execute_input": "2025-08-27T22:35:15.480782Z",
     "iopub.status.busy": "2025-08-27T22:35:15.480380Z",
     "iopub.status.idle": "2025-08-27T22:35:15.499705Z",
     "shell.execute_reply": "2025-08-27T22:35:15.499305Z"
    }
   },
   "outputs": [],
   "source": [
    "value_dt = Date(6, 6, 2018)"
   ]
  },
  {
   "cell_type": "code",
   "execution_count": 4,
   "metadata": {
    "execution": {
     "iopub.execute_input": "2025-08-27T22:35:15.502185Z",
     "iopub.status.busy": "2025-08-27T22:35:15.501882Z",
     "iopub.status.idle": "2025-08-27T22:35:15.506010Z",
     "shell.execute_reply": "2025-08-27T22:35:15.505618Z"
    }
   },
   "outputs": [],
   "source": [
    "spot_days = 0\n",
    "settle_dt = value_dt\n",
    "depo_dcc_type = DayCountTypes.THIRTY_E_360_ISDA\n",
    "\n",
    "depos = []\n",
    "depo = IborDeposit(settle_dt, \"1M\", 0.0230, depo_dcc_type); depos.append(depo)\n",
    "depo = IborDeposit(settle_dt, \"2M\", 0.0230, depo_dcc_type); depos.append(depo)\n",
    "depo = IborDeposit(settle_dt, \"3M\", 0.0230, depo_dcc_type); depos.append(depo)\n",
    "depo = IborDeposit(settle_dt, \"6M\", 0.0230, depo_dcc_type); depos.append(depo)\n",
    "depo = IborDeposit(settle_dt, \"9M\", 0.0230, depo_dcc_type); depos.append(depo)"
   ]
  },
  {
   "cell_type": "code",
   "execution_count": 5,
   "metadata": {
    "execution": {
     "iopub.execute_input": "2025-08-27T22:35:15.508418Z",
     "iopub.status.busy": "2025-08-27T22:35:15.508188Z",
     "iopub.status.idle": "2025-08-27T22:35:15.519946Z",
     "shell.execute_reply": "2025-08-27T22:35:15.519450Z"
    }
   },
   "outputs": [],
   "source": [
    "accrual = DayCountTypes.THIRTY_E_360\n",
    "freq = FrequencyTypes.SEMI_ANNUAL\n",
    "longEnd = DateGenRuleTypes.BACKWARD\n",
    "swap_type = SwapTypes.PAY\n",
    "\n",
    "spot_days = 2\n",
    "settle_dt = value_dt.add_weekdays(spot_days)\n",
    "\n",
    "swaps = []\n",
    "swap = IborSwap(settle_dt, \"1Y\", swap_type, 0.0250, freq, accrual); swaps.append(swap)\n",
    "swap = IborSwap(settle_dt, \"2Y\", swap_type, 0.0255, freq, accrual); swaps.append(swap)\n",
    "swap = IborSwap(settle_dt, \"3Y\", swap_type, 0.0260, freq, accrual); swaps.append(swap)\n",
    "swap = IborSwap(settle_dt, \"4Y\", swap_type, 0.0265, freq, accrual); swaps.append(swap)\n",
    "swap = IborSwap(settle_dt, \"5Y\", swap_type, 0.0270, freq, accrual); swaps.append(swap)"
   ]
  },
  {
   "cell_type": "code",
   "execution_count": 6,
   "metadata": {
    "execution": {
     "iopub.execute_input": "2025-08-27T22:35:15.522585Z",
     "iopub.status.busy": "2025-08-27T22:35:15.522295Z",
     "iopub.status.idle": "2025-08-27T22:35:15.535543Z",
     "shell.execute_reply": "2025-08-27T22:35:15.534970Z"
    }
   },
   "outputs": [],
   "source": [
    "libor_curve = IborSingleCurve(value_dt, depos, [], swaps)"
   ]
  },
  {
   "cell_type": "markdown",
   "metadata": {},
   "source": [
    "## Creating a Cap and Floor"
   ]
  },
  {
   "cell_type": "code",
   "execution_count": 7,
   "metadata": {
    "execution": {
     "iopub.execute_input": "2025-08-27T22:35:15.538521Z",
     "iopub.status.busy": "2025-08-27T22:35:15.538191Z",
     "iopub.status.idle": "2025-08-27T22:35:15.541278Z",
     "shell.execute_reply": "2025-08-27T22:35:15.540685Z"
    }
   },
   "outputs": [],
   "source": [
    "capType = FinCapFloorTypes.CAP\n",
    "floorType = FinCapFloorTypes.FLOOR"
   ]
  },
  {
   "cell_type": "code",
   "execution_count": 8,
   "metadata": {
    "execution": {
     "iopub.execute_input": "2025-08-27T22:35:15.544365Z",
     "iopub.status.busy": "2025-08-27T22:35:15.544050Z",
     "iopub.status.idle": "2025-08-27T22:35:15.546723Z",
     "shell.execute_reply": "2025-08-27T22:35:15.546306Z"
    }
   },
   "outputs": [],
   "source": [
    "strike_rate = 0.02"
   ]
  },
  {
   "cell_type": "code",
   "execution_count": 9,
   "metadata": {
    "execution": {
     "iopub.execute_input": "2025-08-27T22:35:15.548931Z",
     "iopub.status.busy": "2025-08-27T22:35:15.548689Z",
     "iopub.status.idle": "2025-08-27T22:35:15.551507Z",
     "shell.execute_reply": "2025-08-27T22:35:15.551048Z"
    }
   },
   "outputs": [],
   "source": [
    "cap = IborCapFloor(settle_dt, \"2Y\", capType, strike_rate)\n",
    "flr = IborCapFloor(settle_dt, \"2Y\", floorType, strike_rate)"
   ]
  },
  {
   "cell_type": "code",
   "execution_count": 10,
   "metadata": {
    "execution": {
     "iopub.execute_input": "2025-08-27T22:35:15.554248Z",
     "iopub.status.busy": "2025-08-27T22:35:15.553907Z",
     "iopub.status.idle": "2025-08-27T22:35:15.558088Z",
     "shell.execute_reply": "2025-08-27T22:35:15.557601Z"
    }
   },
   "outputs": [
    {
     "name": "stdout",
     "output_type": "stream",
     "text": [
      "OBJECT TYPE: IborCapFloor\n",
      "START DATE: 08-JUN-2018\n",
      "MATURITY DATE: 08-JUN-2020\n",
      "STRIKE COUPON: 2.0\n",
      "OPTION TYPE: FinCapFloorTypes.CAP\n",
      "FREQUENCY: FrequencyTypes.QUARTERLY\n",
      "DAY COUNT: DayCountTypes.THIRTY_E_360_ISDA\n"
     ]
    }
   ],
   "source": [
    "print(cap)"
   ]
  },
  {
   "cell_type": "code",
   "execution_count": 11,
   "metadata": {
    "execution": {
     "iopub.execute_input": "2025-08-27T22:35:15.560775Z",
     "iopub.status.busy": "2025-08-27T22:35:15.560547Z",
     "iopub.status.idle": "2025-08-27T22:35:15.563557Z",
     "shell.execute_reply": "2025-08-27T22:35:15.563133Z"
    }
   },
   "outputs": [
    {
     "name": "stdout",
     "output_type": "stream",
     "text": [
      "OBJECT TYPE: IborCapFloor\n",
      "START DATE: 08-JUN-2018\n",
      "MATURITY DATE: 08-JUN-2020\n",
      "STRIKE COUPON: 2.0\n",
      "OPTION TYPE: FinCapFloorTypes.FLOOR\n",
      "FREQUENCY: FrequencyTypes.QUARTERLY\n",
      "DAY COUNT: DayCountTypes.THIRTY_E_360_ISDA\n"
     ]
    }
   ],
   "source": [
    "print(flr)"
   ]
  },
  {
   "cell_type": "markdown",
   "metadata": {},
   "source": [
    "# Valuation"
   ]
  },
  {
   "cell_type": "markdown",
   "metadata": {},
   "source": [
    "### Black's Model"
   ]
  },
  {
   "cell_type": "markdown",
   "metadata": {},
   "source": [
    "We start with Black's model with 25% volatility"
   ]
  },
  {
   "cell_type": "code",
   "execution_count": 12,
   "metadata": {
    "execution": {
     "iopub.execute_input": "2025-08-27T22:35:15.566234Z",
     "iopub.status.busy": "2025-08-27T22:35:15.565966Z",
     "iopub.status.idle": "2025-08-27T22:35:15.568593Z",
     "shell.execute_reply": "2025-08-27T22:35:15.568201Z"
    }
   },
   "outputs": [],
   "source": [
    "model = Black(0.25)"
   ]
  },
  {
   "cell_type": "code",
   "execution_count": 13,
   "metadata": {
    "execution": {
     "iopub.execute_input": "2025-08-27T22:35:15.570710Z",
     "iopub.status.busy": "2025-08-27T22:35:15.570420Z",
     "iopub.status.idle": "2025-08-27T22:35:15.576418Z",
     "shell.execute_reply": "2025-08-27T22:35:15.575910Z"
    }
   },
   "outputs": [
    {
     "data": {
      "text/plain": [
       "np.float64(11364.821332295924)"
      ]
     },
     "execution_count": 13,
     "metadata": {},
     "output_type": "execute_result"
    }
   ],
   "source": [
    "cap.value(value_dt, libor_curve, model)"
   ]
  },
  {
   "cell_type": "code",
   "execution_count": 14,
   "metadata": {
    "execution": {
     "iopub.execute_input": "2025-08-27T22:35:15.578932Z",
     "iopub.status.busy": "2025-08-27T22:35:15.578655Z",
     "iopub.status.idle": "2025-08-27T22:35:15.583007Z",
     "shell.execute_reply": "2025-08-27T22:35:15.582600Z"
    }
   },
   "outputs": [
    {
     "data": {
      "text/plain": [
       "np.float64(830.6317749043551)"
      ]
     },
     "execution_count": 14,
     "metadata": {},
     "output_type": "execute_result"
    }
   ],
   "source": [
    "flr.value(value_dt, libor_curve, model)"
   ]
  },
  {
   "cell_type": "code",
   "execution_count": 15,
   "metadata": {
    "execution": {
     "iopub.execute_input": "2025-08-27T22:35:15.584770Z",
     "iopub.status.busy": "2025-08-27T22:35:15.584562Z",
     "iopub.status.idle": "2025-08-27T22:35:15.587433Z",
     "shell.execute_reply": "2025-08-27T22:35:15.587029Z"
    }
   },
   "outputs": [
    {
     "name": "stdout",
     "output_type": "stream",
     "text": [
      "START DATE: 08-JUN-2018\n",
      "MATURITY DATE: 08-JUN-2020\n",
      "OPTION TYPE FinCapFloorTypes.CAP\n",
      "STRIKE (%): 2.0\n",
      "FREQUENCY: FrequencyTypes.QUARTERLY\n",
      "DAY COUNT: DayCountTypes.THIRTY_E_360_ISDA\n",
      "VALUATION DATE 06-JUN-2018\n",
      "PAYMENT_dt     YEAR_FRAC   FWD_RATE    INTRINSIC           DF    CAPLET_PV       CUM_PV\n",
      "    08-JUN-2018          -         -            -     1.000000            -            -\n",
      "    10-SEP-2018  0.2555556   2.29838       757.99     0.994034       757.99       757.99\n",
      "    10-DEC-2018  0.2500000   2.28739       710.13     0.988382       760.00      1517.99\n",
      "    08-MAR-2019  0.2444444   2.29062       698.24     0.982878       815.49      2333.48\n",
      "    10-JUN-2019  0.2555556   3.08483      2703.56     0.975190      2714.74      5048.22\n",
      "    09-SEP-2019  0.2472222   2.61121      1464.10     0.968935      1564.70      6612.92\n",
      "    09-DEC-2019  0.2500000   2.58219      1401.23     0.962721      1550.71      8163.63\n",
      "    09-MAR-2020  0.2500000   2.57691      1379.61     0.956558      1569.15      9732.78\n",
      "    08-JUN-2020  0.2472222   2.60405      1419.34     0.950440      1632.04     11364.82\n"
     ]
    }
   ],
   "source": [
    "cap.print_leg()"
   ]
  },
  {
   "cell_type": "markdown",
   "metadata": {},
   "source": [
    "# Alternative Models"
   ]
  },
  {
   "cell_type": "markdown",
   "metadata": {},
   "source": [
    "## Shifted Black"
   ]
  },
  {
   "cell_type": "markdown",
   "metadata": {},
   "source": [
    "Shifted Black gives the same pdf at F+S as Black does at F. So if we want to have the PDF for F=0.25 at -0.25 because rates are negative then you need to set F=-0.50."
   ]
  },
  {
   "cell_type": "code",
   "execution_count": 16,
   "metadata": {
    "execution": {
     "iopub.execute_input": "2025-08-27T22:35:15.590049Z",
     "iopub.status.busy": "2025-08-27T22:35:15.589773Z",
     "iopub.status.idle": "2025-08-27T22:35:15.592632Z",
     "shell.execute_reply": "2025-08-27T22:35:15.592177Z"
    }
   },
   "outputs": [],
   "source": [
    "model = BlackShifted(0.25, -0.005)"
   ]
  },
  {
   "cell_type": "code",
   "execution_count": 17,
   "metadata": {
    "execution": {
     "iopub.execute_input": "2025-08-27T22:35:15.594552Z",
     "iopub.status.busy": "2025-08-27T22:35:15.594333Z",
     "iopub.status.idle": "2025-08-27T22:35:15.597998Z",
     "shell.execute_reply": "2025-08-27T22:35:15.597659Z"
    }
   },
   "outputs": [
    {
     "data": {
      "text/plain": [
       "10931.656739234792"
      ]
     },
     "execution_count": 17,
     "metadata": {},
     "output_type": "execute_result"
    }
   ],
   "source": [
    "cap.value(value_dt, libor_curve, model)"
   ]
  },
  {
   "cell_type": "code",
   "execution_count": 18,
   "metadata": {
    "execution": {
     "iopub.execute_input": "2025-08-27T22:35:15.600081Z",
     "iopub.status.busy": "2025-08-27T22:35:15.599835Z",
     "iopub.status.idle": "2025-08-27T22:35:15.604298Z",
     "shell.execute_reply": "2025-08-27T22:35:15.603862Z"
    }
   },
   "outputs": [
    {
     "data": {
      "text/plain": [
       "397.46718184322066"
      ]
     },
     "execution_count": 18,
     "metadata": {},
     "output_type": "execute_result"
    }
   ],
   "source": [
    "flr.value(value_dt, libor_curve, model)"
   ]
  },
  {
   "cell_type": "markdown",
   "metadata": {},
   "source": [
    "The floor has increased in value as the downside risk is greater."
   ]
  },
  {
   "cell_type": "markdown",
   "metadata": {},
   "source": [
    "## SABR Model"
   ]
  },
  {
   "cell_type": "code",
   "execution_count": 19,
   "metadata": {
    "execution": {
     "iopub.execute_input": "2025-08-27T22:35:15.606960Z",
     "iopub.status.busy": "2025-08-27T22:35:15.606516Z",
     "iopub.status.idle": "2025-08-27T22:35:15.609413Z",
     "shell.execute_reply": "2025-08-27T22:35:15.609048Z"
    }
   },
   "outputs": [],
   "source": [
    "alpha = 0.037; beta = 0.5; rho  = 0.1; nu = 0.573"
   ]
  },
  {
   "cell_type": "code",
   "execution_count": 20,
   "metadata": {
    "execution": {
     "iopub.execute_input": "2025-08-27T22:35:15.611741Z",
     "iopub.status.busy": "2025-08-27T22:35:15.611464Z",
     "iopub.status.idle": "2025-08-27T22:35:15.614046Z",
     "shell.execute_reply": "2025-08-27T22:35:15.613716Z"
    }
   },
   "outputs": [],
   "source": [
    "model = SABR(alpha, beta, rho, nu)"
   ]
  },
  {
   "cell_type": "code",
   "execution_count": 21,
   "metadata": {
    "execution": {
     "iopub.execute_input": "2025-08-27T22:35:15.616207Z",
     "iopub.status.busy": "2025-08-27T22:35:15.615995Z",
     "iopub.status.idle": "2025-08-27T22:35:15.619965Z",
     "shell.execute_reply": "2025-08-27T22:35:15.619601Z"
    }
   },
   "outputs": [
    {
     "data": {
      "text/plain": [
       "11467.913925057415"
      ]
     },
     "execution_count": 21,
     "metadata": {},
     "output_type": "execute_result"
    }
   ],
   "source": [
    "cap.value(value_dt, libor_curve, model)"
   ]
  },
  {
   "cell_type": "code",
   "execution_count": 22,
   "metadata": {
    "execution": {
     "iopub.execute_input": "2025-08-27T22:35:15.621535Z",
     "iopub.status.busy": "2025-08-27T22:35:15.621352Z",
     "iopub.status.idle": "2025-08-27T22:35:15.625395Z",
     "shell.execute_reply": "2025-08-27T22:35:15.624863Z"
    }
   },
   "outputs": [
    {
     "data": {
      "text/plain": [
       "933.7243676658477"
      ]
     },
     "execution_count": 22,
     "metadata": {},
     "output_type": "execute_result"
    }
   ],
   "source": [
    "flr.value(value_dt, libor_curve, model)"
   ]
  },
  {
   "cell_type": "markdown",
   "metadata": {},
   "source": [
    "## Shifted SABR Model"
   ]
  },
  {
   "cell_type": "code",
   "execution_count": 23,
   "metadata": {
    "execution": {
     "iopub.execute_input": "2025-08-27T22:35:15.627621Z",
     "iopub.status.busy": "2025-08-27T22:35:15.627354Z",
     "iopub.status.idle": "2025-08-27T22:35:15.629763Z",
     "shell.execute_reply": "2025-08-27T22:35:15.629385Z"
    }
   },
   "outputs": [],
   "source": [
    "alpha = 0.037; beta = 0.5; rho  = 0.1; nu = 0.573; shift = -0.005"
   ]
  },
  {
   "cell_type": "code",
   "execution_count": 24,
   "metadata": {
    "execution": {
     "iopub.execute_input": "2025-08-27T22:35:15.631299Z",
     "iopub.status.busy": "2025-08-27T22:35:15.631116Z",
     "iopub.status.idle": "2025-08-27T22:35:15.633539Z",
     "shell.execute_reply": "2025-08-27T22:35:15.633094Z"
    }
   },
   "outputs": [],
   "source": [
    "model = SABRShifted(alpha, beta, rho, nu, shift)"
   ]
  },
  {
   "cell_type": "code",
   "execution_count": 25,
   "metadata": {
    "execution": {
     "iopub.execute_input": "2025-08-27T22:35:15.635257Z",
     "iopub.status.busy": "2025-08-27T22:35:15.635026Z",
     "iopub.status.idle": "2025-08-27T22:35:16.062706Z",
     "shell.execute_reply": "2025-08-27T22:35:16.062243Z"
    }
   },
   "outputs": [
    {
     "data": {
      "text/plain": [
       "11834.879375336406"
      ]
     },
     "execution_count": 25,
     "metadata": {},
     "output_type": "execute_result"
    }
   ],
   "source": [
    "cap.value(value_dt, libor_curve, model)"
   ]
  },
  {
   "cell_type": "code",
   "execution_count": 26,
   "metadata": {
    "execution": {
     "iopub.execute_input": "2025-08-27T22:35:16.064569Z",
     "iopub.status.busy": "2025-08-27T22:35:16.064305Z",
     "iopub.status.idle": "2025-08-27T22:35:16.067863Z",
     "shell.execute_reply": "2025-08-27T22:35:16.067558Z"
    }
   },
   "outputs": [
    {
     "data": {
      "text/plain": [
       "1300.689817944834"
      ]
     },
     "execution_count": 26,
     "metadata": {},
     "output_type": "execute_result"
    }
   ],
   "source": [
    "flr.value(value_dt, libor_curve, model)"
   ]
  },
  {
   "cell_type": "markdown",
   "metadata": {},
   "source": [
    "## Hull White Model"
   ]
  },
  {
   "cell_type": "code",
   "execution_count": 27,
   "metadata": {
    "execution": {
     "iopub.execute_input": "2025-08-27T22:35:16.069608Z",
     "iopub.status.busy": "2025-08-27T22:35:16.069271Z",
     "iopub.status.idle": "2025-08-27T22:35:16.071586Z",
     "shell.execute_reply": "2025-08-27T22:35:16.071163Z"
    }
   },
   "outputs": [],
   "source": [
    "sigma = 0.01; alpha = 0.005"
   ]
  },
  {
   "cell_type": "code",
   "execution_count": 28,
   "metadata": {
    "execution": {
     "iopub.execute_input": "2025-08-27T22:35:16.073522Z",
     "iopub.status.busy": "2025-08-27T22:35:16.073330Z",
     "iopub.status.idle": "2025-08-27T22:35:16.076028Z",
     "shell.execute_reply": "2025-08-27T22:35:16.075508Z"
    }
   },
   "outputs": [],
   "source": [
    "model = HWTree(sigma, alpha)"
   ]
  },
  {
   "cell_type": "code",
   "execution_count": 29,
   "metadata": {
    "execution": {
     "iopub.execute_input": "2025-08-27T22:35:16.077967Z",
     "iopub.status.busy": "2025-08-27T22:35:16.077718Z",
     "iopub.status.idle": "2025-08-27T22:35:16.081347Z",
     "shell.execute_reply": "2025-08-27T22:35:16.080837Z"
    }
   },
   "outputs": [
    {
     "data": {
      "text/plain": [
       "14313.311445218349"
      ]
     },
     "execution_count": 29,
     "metadata": {},
     "output_type": "execute_result"
    }
   ],
   "source": [
    "cap.value(value_dt, libor_curve, model)"
   ]
  },
  {
   "cell_type": "code",
   "execution_count": 30,
   "metadata": {
    "execution": {
     "iopub.execute_input": "2025-08-27T22:35:16.083584Z",
     "iopub.status.busy": "2025-08-27T22:35:16.083312Z",
     "iopub.status.idle": "2025-08-27T22:35:16.087285Z",
     "shell.execute_reply": "2025-08-27T22:35:16.086871Z"
    }
   },
   "outputs": [
    {
     "data": {
      "text/plain": [
       "2764.994738554076"
      ]
     },
     "execution_count": 30,
     "metadata": {},
     "output_type": "execute_result"
    }
   ],
   "source": [
    "flr.value(value_dt, libor_curve, model)"
   ]
  },
  {
   "cell_type": "markdown",
   "metadata": {},
   "source": [
    "Copyright (c) 2020 Dominic O'Kane"
   ]
  }
 ],
 "metadata": {
  "kernelspec": {
   "display_name": "base",
   "language": "python",
   "name": "python3"
  },
  "language_info": {
   "codemirror_mode": {
    "name": "ipython",
    "version": 3
   },
   "file_extension": ".py",
   "mimetype": "text/x-python",
   "name": "python",
   "nbconvert_exporter": "python",
   "pygments_lexer": "ipython3",
   "version": "3.13.5"
  }
 },
 "nbformat": 4,
 "nbformat_minor": 4
}
