{
    "cells": [
        {
            "cell_type": "markdown",
            "metadata": {},
            "source": [
                "# Valuing Caps and Floors"
            ]
        },
        {
            "cell_type": "markdown",
            "metadata": {},
            "source": [
                "We value caps and floors using Black's model"
            ]
        },
        {
            "cell_type": "code",
            "execution_count": 1,
            "metadata": {
                "execution": {
                    "iopub.execute_input": "2024-04-30T20:21:53.575673Z",
                    "iopub.status.busy": "2024-04-30T20:21:53.575163Z",
                    "iopub.status.idle": "2024-04-30T20:21:54.206062Z",
                    "shell.execute_reply": "2024-04-30T20:21:54.206062Z"
                }
            },
            "outputs": [],
            "source": [
                "import numpy as np\n",
                "import matplotlib.pyplot as plt"
            ]
        },
        {
            "cell_type": "code",
            "execution_count": 2,
            "metadata": {
                "execution": {
                    "iopub.execute_input": "2024-04-30T20:21:54.208689Z",
                    "iopub.status.busy": "2024-04-30T20:21:54.208689Z",
                    "iopub.status.idle": "2024-04-30T20:21:55.602813Z",
                    "shell.execute_reply": "2024-04-30T20:21:55.602396Z"
                }
            },
            "outputs": [
                {
                    "name": "stdout",
                    "output_type": "stream",
                    "text": [
                        "####################################################################\n",
                        "#  FINANCEPY BETA Version 0.350 - This build: 30 Apr 2024 at 21:20 #\n",
                        "#     This software is distributed FREE AND WITHOUT ANY WARRANTY   #\n",
                        "#  Report bugs as issues at https://github.com/domokane/FinancePy  #\n",
                        "####################################################################\n",
                        "\n"
                    ]
                }
            ],
            "source": [
                "from financepy.utils import *\n",
                "from financepy.products.rates import *"
            ]
        },
        {
            "cell_type": "markdown",
            "metadata": {},
            "source": [
                "## Building a Ibor Curve"
            ]
        },
        {
            "cell_type": "code",
            "execution_count": 3,
            "metadata": {
                "execution": {
                    "iopub.execute_input": "2024-04-30T20:21:55.605469Z",
                    "iopub.status.busy": "2024-04-30T20:21:55.605469Z",
                    "iopub.status.idle": "2024-04-30T20:21:55.625492Z",
                    "shell.execute_reply": "2024-04-30T20:21:55.625492Z"
                }
            },
            "outputs": [],
            "source": [
                "value_dt = Date(6, 6, 2018)"
            ]
        },
        {
            "cell_type": "code",
            "execution_count": 4,
            "metadata": {
                "execution": {
                    "iopub.execute_input": "2024-04-30T20:21:55.628518Z",
                    "iopub.status.busy": "2024-04-30T20:21:55.628518Z",
                    "iopub.status.idle": "2024-04-30T20:21:55.633671Z",
                    "shell.execute_reply": "2024-04-30T20:21:55.633671Z"
                }
            },
            "outputs": [],
            "source": [
                "spot_days = 0\n",
                "settle_dt = value_dt\n",
                "depo_dcc_type = DayCountTypes.THIRTY_E_360_ISDA\n",
                "\n",
                "depos = []\n",
                "depo = IborDeposit(settle_dt, \"1M\", 0.0230, depo_dcc_type); depos.append(depo)\n",
                "depo = IborDeposit(settle_dt, \"2M\", 0.0230, depo_dcc_type); depos.append(depo)\n",
                "depo = IborDeposit(settle_dt, \"3M\", 0.0230, depo_dcc_type); depos.append(depo)\n",
                "depo = IborDeposit(settle_dt, \"6M\", 0.0230, depo_dcc_type); depos.append(depo)\n",
                "depo = IborDeposit(settle_dt, \"9M\", 0.0230, depo_dcc_type); depos.append(depo)"
            ]
        },
        {
            "cell_type": "code",
            "execution_count": 5,
            "metadata": {
                "execution": {
                    "iopub.execute_input": "2024-04-30T20:21:55.636284Z",
                    "iopub.status.busy": "2024-04-30T20:21:55.636284Z",
                    "iopub.status.idle": "2024-04-30T20:21:55.647822Z",
                    "shell.execute_reply": "2024-04-30T20:21:55.647822Z"
                }
            },
            "outputs": [],
            "source": [
                "accrual = DayCountTypes.THIRTY_E_360\n",
                "freq = FrequencyTypes.SEMI_ANNUAL\n",
                "longEnd = DateGenRuleTypes.BACKWARD\n",
                "swap_type = SwapTypes.PAY\n",
                "\n",
                "spot_days = 2\n",
                "settle_dt = value_dt.add_weekdays(spot_days)\n",
                "\n",
                "swaps = []\n",
                "swap = IborSwap(settle_dt, \"1Y\", swap_type, 0.0250, freq, accrual); swaps.append(swap)\n",
                "swap = IborSwap(settle_dt, \"2Y\", swap_type, 0.0255, freq, accrual); swaps.append(swap)\n",
                "swap = IborSwap(settle_dt, \"3Y\", swap_type, 0.0260, freq, accrual); swaps.append(swap)\n",
                "swap = IborSwap(settle_dt, \"4Y\", swap_type, 0.0265, freq, accrual); swaps.append(swap)\n",
                "swap = IborSwap(settle_dt, \"5Y\", swap_type, 0.0270, freq, accrual); swaps.append(swap)"
            ]
        },
        {
            "cell_type": "code",
            "execution_count": 6,
            "metadata": {
                "execution": {
                    "iopub.execute_input": "2024-04-30T20:21:55.649824Z",
                    "iopub.status.busy": "2024-04-30T20:21:55.649824Z",
                    "iopub.status.idle": "2024-04-30T20:21:55.663533Z",
                    "shell.execute_reply": "2024-04-30T20:21:55.663533Z"
                }
            },
            "outputs": [],
            "source": [
                "libor_curve = IborSingleCurve(value_dt, depos, [], swaps)"
            ]
        },
        {
            "cell_type": "markdown",
            "metadata": {},
            "source": [
                "## Creating a Cap and Floor"
            ]
        },
        {
            "cell_type": "code",
            "execution_count": 7,
            "metadata": {
                "execution": {
                    "iopub.execute_input": "2024-04-30T20:21:55.666058Z",
                    "iopub.status.busy": "2024-04-30T20:21:55.666058Z",
                    "iopub.status.idle": "2024-04-30T20:21:55.668529Z",
                    "shell.execute_reply": "2024-04-30T20:21:55.668529Z"
                }
            },
            "outputs": [],
            "source": [
                "capType = FinCapFloorTypes.CAP\n",
                "floorType = FinCapFloorTypes.FLOOR"
            ]
        },
        {
            "cell_type": "code",
            "execution_count": 8,
            "metadata": {
                "execution": {
                    "iopub.execute_input": "2024-04-30T20:21:55.670556Z",
                    "iopub.status.busy": "2024-04-30T20:21:55.670556Z",
                    "iopub.status.idle": "2024-04-30T20:21:55.673538Z",
                    "shell.execute_reply": "2024-04-30T20:21:55.673301Z"
                }
            },
            "outputs": [],
            "source": [
                "strike_rate = 0.02"
            ]
        },
        {
            "cell_type": "code",
            "execution_count": 9,
            "metadata": {
                "execution": {
                    "iopub.execute_input": "2024-04-30T20:21:55.676045Z",
                    "iopub.status.busy": "2024-04-30T20:21:55.674538Z",
                    "iopub.status.idle": "2024-04-30T20:21:55.678545Z",
                    "shell.execute_reply": "2024-04-30T20:21:55.678545Z"
                }
            },
            "outputs": [],
            "source": [
                "cap = IborCapFloor(settle_dt, \"2Y\", capType, strike_rate)\n",
                "flr = IborCapFloor(settle_dt, \"2Y\", floorType, strike_rate)"
            ]
        },
        {
            "cell_type": "code",
            "execution_count": 10,
            "metadata": {
                "execution": {
                    "iopub.execute_input": "2024-04-30T20:21:55.680563Z",
                    "iopub.status.busy": "2024-04-30T20:21:55.680563Z",
                    "iopub.status.idle": "2024-04-30T20:21:55.683771Z",
                    "shell.execute_reply": "2024-04-30T20:21:55.683771Z"
                }
            },
            "outputs": [
                {
                    "name": "stdout",
                    "output_type": "stream",
                    "text": [
                        "OBJECT TYPE: IborCapFloor\n",
                        "START DATE: 08-JUN-2018\n",
                        "MATURITY DATE: 08-JUN-2020\n",
                        "STRIKE COUPON: 2.0\n",
                        "OPTION TYPE: FinCapFloorTypes.CAP\n",
                        "FREQUENCY: FrequencyTypes.QUARTERLY\n",
                        "DAY COUNT: DayCountTypes.THIRTY_E_360_ISDA\n"
                    ]
                }
            ],
            "source": [
                "print(cap)"
            ]
        },
        {
            "cell_type": "code",
            "execution_count": 11,
            "metadata": {
                "execution": {
                    "iopub.execute_input": "2024-04-30T20:21:55.686391Z",
                    "iopub.status.busy": "2024-04-30T20:21:55.686391Z",
                    "iopub.status.idle": "2024-04-30T20:21:55.689345Z",
                    "shell.execute_reply": "2024-04-30T20:21:55.689116Z"
                }
            },
            "outputs": [
                {
                    "name": "stdout",
                    "output_type": "stream",
                    "text": [
                        "OBJECT TYPE: IborCapFloor\n",
                        "START DATE: 08-JUN-2018\n",
                        "MATURITY DATE: 08-JUN-2020\n",
                        "STRIKE COUPON: 2.0\n",
                        "OPTION TYPE: FinCapFloorTypes.FLOOR\n",
                        "FREQUENCY: FrequencyTypes.QUARTERLY\n",
                        "DAY COUNT: DayCountTypes.THIRTY_E_360_ISDA\n"
                    ]
                }
            ],
            "source": [
                "print(flr)"
            ]
        },
        {
            "cell_type": "markdown",
            "metadata": {},
            "source": [
                "# Valuation"
            ]
        },
        {
            "cell_type": "markdown",
            "metadata": {},
            "source": [
                "### Black's Model"
            ]
        },
        {
            "cell_type": "markdown",
            "metadata": {},
            "source": [
                "We start with Black's model with 25% volatility"
            ]
        },
        {
            "cell_type": "code",
            "execution_count": 12,
            "metadata": {
                "execution": {
                    "iopub.execute_input": "2024-04-30T20:21:55.691373Z",
                    "iopub.status.busy": "2024-04-30T20:21:55.691373Z",
                    "iopub.status.idle": "2024-04-30T20:21:55.695057Z",
                    "shell.execute_reply": "2024-04-30T20:21:55.694401Z"
                }
            },
            "outputs": [],
            "source": [
                "model = Black(0.25)"
            ]
        },
        {
            "cell_type": "code",
            "execution_count": 13,
            "metadata": {
                "execution": {
                    "iopub.execute_input": "2024-04-30T20:21:55.697701Z",
                    "iopub.status.busy": "2024-04-30T20:21:55.696703Z",
                    "iopub.status.idle": "2024-04-30T20:21:55.704036Z",
                    "shell.execute_reply": "2024-04-30T20:21:55.703794Z"
                }
            },
            "outputs": [
                {
                    "data": {
                        "text/plain": [
                            "11364.821332295927"
                        ]
                    },
                    "execution_count": 13,
                    "metadata": {},
                    "output_type": "execute_result"
                }
            ],
            "source": [
                "cap.value(value_dt, libor_curve, model)"
            ]
        },
        {
            "cell_type": "code",
            "execution_count": 14,
            "metadata": {
                "execution": {
                    "iopub.execute_input": "2024-04-30T20:21:55.706067Z",
                    "iopub.status.busy": "2024-04-30T20:21:55.706067Z",
                    "iopub.status.idle": "2024-04-30T20:21:55.710602Z",
                    "shell.execute_reply": "2024-04-30T20:21:55.710602Z"
                }
            },
            "outputs": [
                {
                    "data": {
                        "text/plain": [
                            "830.631774904356"
                        ]
                    },
                    "execution_count": 14,
                    "metadata": {},
                    "output_type": "execute_result"
                }
            ],
            "source": [
                "flr.value(value_dt, libor_curve, model)"
            ]
        },
        {
            "cell_type": "code",
            "execution_count": 15,
            "metadata": {
                "execution": {
                    "iopub.execute_input": "2024-04-30T20:21:55.712604Z",
                    "iopub.status.busy": "2024-04-30T20:21:55.712604Z",
                    "iopub.status.idle": "2024-04-30T20:21:55.715885Z",
                    "shell.execute_reply": "2024-04-30T20:21:55.715885Z"
                }
            },
            "outputs": [
                {
                    "name": "stdout",
                    "output_type": "stream",
                    "text": [
                        "START DATE: 08-JUN-2018\n",
                        "MATURITY DATE: 08-JUN-2020\n",
                        "OPTION TYPE FinCapFloorTypes.CAP\n",
                        "STRIKE (%): 2.0\n",
                        "FREQUENCY: FrequencyTypes.QUARTERLY\n",
                        "DAY COUNT: DayCountTypes.THIRTY_E_360_ISDA\n",
                        "VALUATION DATE 06-JUN-2018\n",
                        "PAYMENT_dt     YEAR_FRAC   FWD_RATE    INTRINSIC           DF    CAPLET_PV       CUM_PV\n",
                        "    08-JUN-2018          -         -            -     1.000000            -            -\n",
                        "    10-SEP-2018  0.2555556   2.29838       757.99     0.994034       757.99       757.99\n",
                        "    10-DEC-2018  0.2500000   2.28739       710.13     0.988382       760.00      1517.99\n",
                        "    08-MAR-2019  0.2444444   2.29062       698.24     0.982878       815.49      2333.48\n",
                        "    10-JUN-2019  0.2555556   3.08483      2703.56     0.975190      2714.74      5048.22\n",
                        "    09-SEP-2019  0.2472222   2.61121      1464.10     0.968935      1564.70      6612.92\n",
                        "    09-DEC-2019  0.2500000   2.58219      1401.23     0.962721      1550.71      8163.63\n",
                        "    09-MAR-2020  0.2500000   2.57691      1379.61     0.956558      1569.15      9732.78\n",
                        "    08-JUN-2020  0.2472222   2.60405      1419.34     0.950440      1632.04     11364.82\n"
                    ]
                }
            ],
            "source": [
                "cap.print_leg()"
            ]
        },
        {
            "cell_type": "markdown",
            "metadata": {},
            "source": [
                "# Alternative Models"
            ]
        },
        {
            "cell_type": "markdown",
            "metadata": {},
            "source": [
                "## Shifted Black"
            ]
        },
        {
            "cell_type": "markdown",
            "metadata": {},
            "source": [
                "Shifted Black gives the same pdf at F+S as Black does at F. So if we want to have the PDF for F=0.25 at -0.25 because rates are negative then you need to set F=-0.50."
            ]
        },
        {
            "cell_type": "code",
            "execution_count": 16,
            "metadata": {
                "execution": {
                    "iopub.execute_input": "2024-04-30T20:21:55.718545Z",
                    "iopub.status.busy": "2024-04-30T20:21:55.718545Z",
                    "iopub.status.idle": "2024-04-30T20:21:55.721347Z",
                    "shell.execute_reply": "2024-04-30T20:21:55.721119Z"
                }
            },
            "outputs": [],
            "source": [
                "model = BlackShifted(0.25, -0.005)"
            ]
        },
        {
            "cell_type": "code",
            "execution_count": 17,
            "metadata": {
                "execution": {
                    "iopub.execute_input": "2024-04-30T20:21:55.723375Z",
                    "iopub.status.busy": "2024-04-30T20:21:55.723375Z",
                    "iopub.status.idle": "2024-04-30T20:21:55.727891Z",
                    "shell.execute_reply": "2024-04-30T20:21:55.727807Z"
                }
            },
            "outputs": [
                {
                    "data": {
                        "text/plain": [
                            "10931.656739234792"
                        ]
                    },
                    "execution_count": 17,
                    "metadata": {},
                    "output_type": "execute_result"
                }
            ],
            "source": [
                "cap.value(value_dt, libor_curve, model)"
            ]
        },
        {
            "cell_type": "code",
            "execution_count": 18,
            "metadata": {
                "execution": {
                    "iopub.execute_input": "2024-04-30T20:21:55.729886Z",
                    "iopub.status.busy": "2024-04-30T20:21:55.729886Z",
                    "iopub.status.idle": "2024-04-30T20:21:55.736262Z",
                    "shell.execute_reply": "2024-04-30T20:21:55.736032Z"
                }
            },
            "outputs": [
                {
                    "data": {
                        "text/plain": [
                            "397.46718184322066"
                        ]
                    },
                    "execution_count": 18,
                    "metadata": {},
                    "output_type": "execute_result"
                }
            ],
            "source": [
                "flr.value(value_dt, libor_curve, model)"
            ]
        },
        {
            "cell_type": "markdown",
            "metadata": {},
            "source": [
                "The floor has increased in value as the downside risk is greater."
            ]
        },
        {
            "cell_type": "markdown",
            "metadata": {},
            "source": [
                "## SABR Model"
            ]
        },
        {
            "cell_type": "code",
            "execution_count": 19,
            "metadata": {
                "execution": {
                    "iopub.execute_input": "2024-04-30T20:21:55.738825Z",
                    "iopub.status.busy": "2024-04-30T20:21:55.738289Z",
                    "iopub.status.idle": "2024-04-30T20:21:55.741351Z",
                    "shell.execute_reply": "2024-04-30T20:21:55.741122Z"
                }
            },
            "outputs": [],
            "source": [
                "alpha = 0.037; beta = 0.5; rho  = 0.1; nu = 0.573"
            ]
        },
        {
            "cell_type": "code",
            "execution_count": 20,
            "metadata": {
                "execution": {
                    "iopub.execute_input": "2024-04-30T20:21:55.743377Z",
                    "iopub.status.busy": "2024-04-30T20:21:55.743377Z",
                    "iopub.status.idle": "2024-04-30T20:21:55.746076Z",
                    "shell.execute_reply": "2024-04-30T20:21:55.746076Z"
                }
            },
            "outputs": [],
            "source": [
                "model = SABR(alpha, beta, rho, nu)"
            ]
        },
        {
            "cell_type": "code",
            "execution_count": 21,
            "metadata": {
                "execution": {
                    "iopub.execute_input": "2024-04-30T20:21:55.748619Z",
                    "iopub.status.busy": "2024-04-30T20:21:55.748619Z",
                    "iopub.status.idle": "2024-04-30T20:21:55.753081Z",
                    "shell.execute_reply": "2024-04-30T20:21:55.752850Z"
                }
            },
            "outputs": [
                {
                    "data": {
                        "text/plain": [
                            "11467.913925057415"
                        ]
                    },
                    "execution_count": 21,
                    "metadata": {},
                    "output_type": "execute_result"
                }
            ],
            "source": [
                "cap.value(value_dt, libor_curve, model)"
            ]
        },
        {
            "cell_type": "code",
            "execution_count": 22,
            "metadata": {
                "execution": {
                    "iopub.execute_input": "2024-04-30T20:21:55.755617Z",
                    "iopub.status.busy": "2024-04-30T20:21:55.755080Z",
                    "iopub.status.idle": "2024-04-30T20:21:55.760208Z",
                    "shell.execute_reply": "2024-04-30T20:21:55.759703Z"
                }
            },
            "outputs": [
                {
                    "data": {
                        "text/plain": [
                            "933.7243676658493"
                        ]
                    },
                    "execution_count": 22,
                    "metadata": {},
                    "output_type": "execute_result"
                }
            ],
            "source": [
                "flr.value(value_dt, libor_curve, model)"
            ]
        },
        {
            "cell_type": "markdown",
            "metadata": {},
            "source": [
                "## Shifted SABR Model"
            ]
        },
        {
            "cell_type": "code",
            "execution_count": 23,
            "metadata": {
                "execution": {
                    "iopub.execute_input": "2024-04-30T20:21:55.762207Z",
                    "iopub.status.busy": "2024-04-30T20:21:55.762207Z",
                    "iopub.status.idle": "2024-04-30T20:21:55.764895Z",
                    "shell.execute_reply": "2024-04-30T20:21:55.764895Z"
                }
            },
            "outputs": [],
            "source": [
                "alpha = 0.037; beta = 0.5; rho  = 0.1; nu = 0.573; shift = -0.005"
            ]
        },
        {
            "cell_type": "code",
            "execution_count": 24,
            "metadata": {
                "execution": {
                    "iopub.execute_input": "2024-04-30T20:21:55.766924Z",
                    "iopub.status.busy": "2024-04-30T20:21:55.766924Z",
                    "iopub.status.idle": "2024-04-30T20:21:55.770767Z",
                    "shell.execute_reply": "2024-04-30T20:21:55.770174Z"
                }
            },
            "outputs": [],
            "source": [
                "model = SABRShifted(alpha, beta, rho, nu, shift)"
            ]
        },
        {
            "cell_type": "code",
            "execution_count": 25,
            "metadata": {
                "execution": {
                    "iopub.execute_input": "2024-04-30T20:21:55.772798Z",
                    "iopub.status.busy": "2024-04-30T20:21:55.772798Z",
                    "iopub.status.idle": "2024-04-30T20:21:56.192301Z",
                    "shell.execute_reply": "2024-04-30T20:21:56.192301Z"
                }
            },
            "outputs": [
                {
                    "data": {
                        "text/plain": [
                            "11834.879375336404"
                        ]
                    },
                    "execution_count": 25,
                    "metadata": {},
                    "output_type": "execute_result"
                }
            ],
            "source": [
                "cap.value(value_dt, libor_curve, model)"
            ]
        },
        {
            "cell_type": "code",
            "execution_count": 26,
            "metadata": {
                "execution": {
                    "iopub.execute_input": "2024-04-30T20:21:56.194303Z",
                    "iopub.status.busy": "2024-04-30T20:21:56.194303Z",
                    "iopub.status.idle": "2024-04-30T20:21:56.199601Z",
                    "shell.execute_reply": "2024-04-30T20:21:56.199361Z"
                }
            },
            "outputs": [
                {
                    "data": {
                        "text/plain": [
                            "1300.6898179448326"
                        ]
                    },
                    "execution_count": 26,
                    "metadata": {},
                    "output_type": "execute_result"
                }
            ],
            "source": [
                "flr.value(value_dt, libor_curve, model)"
            ]
        },
        {
            "cell_type": "markdown",
            "metadata": {},
            "source": [
                "## Hull White Model"
            ]
        },
        {
            "cell_type": "code",
            "execution_count": 27,
            "metadata": {
                "execution": {
                    "iopub.execute_input": "2024-04-30T20:21:56.201600Z",
                    "iopub.status.busy": "2024-04-30T20:21:56.201600Z",
                    "iopub.status.idle": "2024-04-30T20:21:56.204181Z",
                    "shell.execute_reply": "2024-04-30T20:21:56.204181Z"
                }
            },
            "outputs": [],
            "source": [
                "sigma = 0.01; alpha = 0.005"
            ]
        },
        {
            "cell_type": "code",
            "execution_count": 28,
            "metadata": {
                "execution": {
                    "iopub.execute_input": "2024-04-30T20:21:56.206210Z",
                    "iopub.status.busy": "2024-04-30T20:21:56.206210Z",
                    "iopub.status.idle": "2024-04-30T20:21:56.209575Z",
                    "shell.execute_reply": "2024-04-30T20:21:56.209340Z"
                }
            },
            "outputs": [],
            "source": [
                "model = HWTree(sigma, alpha)"
            ]
        },
        {
            "cell_type": "code",
            "execution_count": 29,
            "metadata": {
                "execution": {
                    "iopub.execute_input": "2024-04-30T20:21:56.211574Z",
                    "iopub.status.busy": "2024-04-30T20:21:56.211574Z",
                    "iopub.status.idle": "2024-04-30T20:21:56.215858Z",
                    "shell.execute_reply": "2024-04-30T20:21:56.215858Z"
                }
            },
            "outputs": [
                {
                    "data": {
                        "text/plain": [
                            "14313.311445218462"
                        ]
                    },
                    "execution_count": 29,
                    "metadata": {},
                    "output_type": "execute_result"
                }
            ],
            "source": [
                "cap.value(value_dt, libor_curve, model)"
            ]
        },
        {
            "cell_type": "code",
            "execution_count": 30,
            "metadata": {
                "execution": {
                    "iopub.execute_input": "2024-04-30T20:21:56.217861Z",
                    "iopub.status.busy": "2024-04-30T20:21:56.217861Z",
                    "iopub.status.idle": "2024-04-30T20:21:56.222691Z",
                    "shell.execute_reply": "2024-04-30T20:21:56.222461Z"
                }
            },
            "outputs": [
                {
                    "data": {
                        "text/plain": [
                            "2764.9947385541873"
                        ]
                    },
                    "execution_count": 30,
                    "metadata": {},
                    "output_type": "execute_result"
                }
            ],
            "source": [
                "flr.value(value_dt, libor_curve, model)"
            ]
        },
        {
            "cell_type": "markdown",
            "metadata": {},
            "source": [
                "Copyright (c) 2020 Dominic O'Kane"
            ]
        }
    ],
    "metadata": {
        "kernelspec": {
            "display_name": "Python 3",
            "language": "python",
            "name": "python3"
        },
        "language_info": {
            "codemirror_mode": {
                "name": "ipython",
                "version": 3
            },
            "file_extension": ".py",
            "mimetype": "text/x-python",
            "name": "python",
            "nbconvert_exporter": "python",
            "pygments_lexer": "ipython3",
            "version": "3.11.5"
        }
    },
    "nbformat": 4,
    "nbformat_minor": 4
}