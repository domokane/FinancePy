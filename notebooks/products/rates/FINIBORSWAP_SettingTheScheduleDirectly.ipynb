{
 "cells": [
  {
   "cell_type": "markdown",
   "metadata": {},
   "source": [
    "# Analysing an Interest Rate Swap - Customising Schedules"
   ]
  },
  {
   "cell_type": "markdown",
   "metadata": {},
   "source": [
    "You can override the schedule dates if you need to."
   ]
  },
  {
   "cell_type": "code",
   "execution_count": 1,
   "metadata": {
    "execution": {
     "iopub.execute_input": "2025-08-27T21:51:32.026766Z",
     "iopub.status.busy": "2025-08-27T21:51:32.026551Z",
     "iopub.status.idle": "2025-08-27T21:51:33.699684Z",
     "shell.execute_reply": "2025-08-27T21:51:33.699014Z"
    }
   },
   "outputs": [
    {
     "name": "stdout",
     "output_type": "stream",
     "text": [
      "####################################################################\n",
      "#    FINANCEPY Version 1.1 - This build: 27 Aug 2025 at 23:27      #\n",
      "#     This software is distributed FREE AND WITHOUT ANY WARRANTY   #\n",
      "#  Report bugs as issues at https://github.com/domokane/FinancePy  #\n",
      "####################################################################\n",
      "\n"
     ]
    }
   ],
   "source": [
    "from financepy.utils import *\n",
    "from financepy.products.rates import *\n",
    "from financepy.market.curves import *"
   ]
  },
  {
   "cell_type": "code",
   "execution_count": 2,
   "metadata": {
    "execution": {
     "iopub.execute_input": "2025-08-27T21:51:33.702335Z",
     "iopub.status.busy": "2025-08-27T21:51:33.701932Z",
     "iopub.status.idle": "2025-08-27T21:51:33.724711Z",
     "shell.execute_reply": "2025-08-27T21:51:33.724236Z"
    }
   },
   "outputs": [],
   "source": [
    "value_dt = Date(20, 10, 2015)"
   ]
  },
  {
   "cell_type": "code",
   "execution_count": 3,
   "metadata": {
    "execution": {
     "iopub.execute_input": "2025-08-27T21:51:33.726936Z",
     "iopub.status.busy": "2025-08-27T21:51:33.726671Z",
     "iopub.status.idle": "2025-08-27T21:51:33.737221Z",
     "shell.execute_reply": "2025-08-27T21:51:33.736553Z"
    }
   },
   "outputs": [],
   "source": [
    "discount_curve = DiscountCurveFlat(value_dt,\n",
    "                                     0.01,\n",
    "                                     FrequencyTypes.CONTINUOUS,\n",
    "                                     DayCountTypes.ACT_365F)"
   ]
  },
  {
   "cell_type": "code",
   "execution_count": 4,
   "metadata": {
    "execution": {
     "iopub.execute_input": "2025-08-27T21:51:33.739617Z",
     "iopub.status.busy": "2025-08-27T21:51:33.739289Z",
     "iopub.status.idle": "2025-08-27T21:51:33.742975Z",
     "shell.execute_reply": "2025-08-27T21:51:33.742442Z"
    }
   },
   "outputs": [],
   "source": [
    "index_curve = DiscountCurveFlat(value_dt,\n",
    "                                  0.02,\n",
    "                                  FrequencyTypes.CONTINUOUS,\n",
    "                                  DayCountTypes.ACT_365F)"
   ]
  },
  {
   "cell_type": "markdown",
   "metadata": {},
   "source": [
    "## Creating the Swap"
   ]
  },
  {
   "cell_type": "code",
   "execution_count": 5,
   "metadata": {
    "execution": {
     "iopub.execute_input": "2025-08-27T21:51:33.745283Z",
     "iopub.status.busy": "2025-08-27T21:51:33.745046Z",
     "iopub.status.idle": "2025-08-27T21:51:33.748257Z",
     "shell.execute_reply": "2025-08-27T21:51:33.747553Z"
    }
   },
   "outputs": [],
   "source": [
    "settle_dt = value_dt.add_weekdays(5)"
   ]
  },
  {
   "cell_type": "code",
   "execution_count": 6,
   "metadata": {
    "execution": {
     "iopub.execute_input": "2025-08-27T21:51:33.750884Z",
     "iopub.status.busy": "2025-08-27T21:51:33.750388Z",
     "iopub.status.idle": "2025-08-27T21:51:33.756061Z",
     "shell.execute_reply": "2025-08-27T21:51:33.755481Z"
    }
   },
   "outputs": [
    {
     "data": {
      "text/plain": [
       "27-OCT-2015"
      ]
     },
     "execution_count": 6,
     "metadata": {},
     "output_type": "execute_result"
    }
   ],
   "source": [
    "settle_dt"
   ]
  },
  {
   "cell_type": "code",
   "execution_count": 7,
   "metadata": {
    "execution": {
     "iopub.execute_input": "2025-08-27T21:51:33.758008Z",
     "iopub.status.busy": "2025-08-27T21:51:33.757636Z",
     "iopub.status.idle": "2025-08-27T21:51:33.760479Z",
     "shell.execute_reply": "2025-08-27T21:51:33.760060Z"
    }
   },
   "outputs": [],
   "source": [
    "maturity_dt = settle_dt.add_tenor(\"10Y\")"
   ]
  },
  {
   "cell_type": "markdown",
   "metadata": {},
   "source": [
    "We begin by setting the market conventions we wish to use."
   ]
  },
  {
   "cell_type": "code",
   "execution_count": 8,
   "metadata": {
    "execution": {
     "iopub.execute_input": "2025-08-27T21:51:33.762356Z",
     "iopub.status.busy": "2025-08-27T21:51:33.762095Z",
     "iopub.status.idle": "2025-08-27T21:51:33.765080Z",
     "shell.execute_reply": "2025-08-27T21:51:33.764640Z"
    }
   },
   "outputs": [],
   "source": [
    "swap_cal_type = CalendarTypes.UNITED_STATES\n",
    "bd_type = BusDayAdjustTypes.MODIFIED_FOLLOWING\n",
    "dg_type = DateGenRuleTypes.FORWARD"
   ]
  },
  {
   "cell_type": "markdown",
   "metadata": {},
   "source": [
    "We then define the Fixed Leg"
   ]
  },
  {
   "cell_type": "code",
   "execution_count": 9,
   "metadata": {
    "execution": {
     "iopub.execute_input": "2025-08-27T21:51:33.766919Z",
     "iopub.status.busy": "2025-08-27T21:51:33.766723Z",
     "iopub.status.idle": "2025-08-27T21:51:33.769227Z",
     "shell.execute_reply": "2025-08-27T21:51:33.768650Z"
    }
   },
   "outputs": [],
   "source": [
    "fixed_cpn = 0.025\n",
    "fixed_freq_type = FrequencyTypes.SEMI_ANNUAL\n",
    "fixed_dc_type = DayCountTypes.ACT_360"
   ]
  },
  {
   "cell_type": "markdown",
   "metadata": {},
   "source": [
    "And then we define the Floating Leg"
   ]
  },
  {
   "cell_type": "code",
   "execution_count": 10,
   "metadata": {
    "execution": {
     "iopub.execute_input": "2025-08-27T21:51:33.771346Z",
     "iopub.status.busy": "2025-08-27T21:51:33.771132Z",
     "iopub.status.idle": "2025-08-27T21:51:33.773479Z",
     "shell.execute_reply": "2025-08-27T21:51:33.773079Z"
    }
   },
   "outputs": [],
   "source": [
    "float_spread = 0.004\n",
    "float_freq_type = FrequencyTypes.QUARTERLY\n",
    "float_dc_type = DayCountTypes.ACT_360"
   ]
  },
  {
   "cell_type": "markdown",
   "metadata": {},
   "source": [
    "We need to specify the size and direction of the swap."
   ]
  },
  {
   "cell_type": "code",
   "execution_count": 11,
   "metadata": {
    "execution": {
     "iopub.execute_input": "2025-08-27T21:51:33.775267Z",
     "iopub.status.busy": "2025-08-27T21:51:33.775083Z",
     "iopub.status.idle": "2025-08-27T21:51:33.777558Z",
     "shell.execute_reply": "2025-08-27T21:51:33.776995Z"
    }
   },
   "outputs": [],
   "source": [
    "swap_type = SwapTypes.PAY\n",
    "notional = 10 * ONE_MILLION"
   ]
  },
  {
   "cell_type": "markdown",
   "metadata": {},
   "source": [
    "And then we define when the swap begins and ends."
   ]
  },
  {
   "cell_type": "markdown",
   "metadata": {},
   "source": [
    "We can now create the swap object."
   ]
  },
  {
   "cell_type": "code",
   "execution_count": 12,
   "metadata": {
    "execution": {
     "iopub.execute_input": "2025-08-27T21:51:33.779507Z",
     "iopub.status.busy": "2025-08-27T21:51:33.779282Z",
     "iopub.status.idle": "2025-08-27T21:51:33.782698Z",
     "shell.execute_reply": "2025-08-27T21:51:33.782306Z"
    }
   },
   "outputs": [],
   "source": [
    "swap = IborSwap(settle_dt,\n",
    "                    maturity_dt,\n",
    "                    swap_type,\n",
    "                    fixed_cpn,\n",
    "                    fixed_freq_type,\n",
    "                    fixed_dc_type,\n",
    "                    notional,\n",
    "                    float_spread,\n",
    "                    float_freq_type,\n",
    "                    float_dc_type,\n",
    "                    swap_cal_type,\n",
    "                    bd_type,\n",
    "                    dg_type)"
   ]
  },
  {
   "cell_type": "code",
   "execution_count": 13,
   "metadata": {
    "execution": {
     "iopub.execute_input": "2025-08-27T21:51:33.784803Z",
     "iopub.status.busy": "2025-08-27T21:51:33.784589Z",
     "iopub.status.idle": "2025-08-27T21:51:33.788837Z",
     "shell.execute_reply": "2025-08-27T21:51:33.788452Z"
    }
   },
   "outputs": [
    {
     "data": {
      "text/plain": [
       "np.float64(-88571.26347494917)"
      ]
     },
     "execution_count": 13,
     "metadata": {},
     "output_type": "execute_result"
    }
   ],
   "source": [
    "swap.value(value_dt, discount_curve, index_curve)"
   ]
  },
  {
   "cell_type": "code",
   "execution_count": 14,
   "metadata": {
    "execution": {
     "iopub.execute_input": "2025-08-27T21:51:33.790469Z",
     "iopub.status.busy": "2025-08-27T21:51:33.790255Z",
     "iopub.status.idle": "2025-08-27T21:51:33.794047Z",
     "shell.execute_reply": "2025-08-27T21:51:33.793517Z"
    }
   },
   "outputs": [
    {
     "name": "stdout",
     "output_type": "stream",
     "text": [
      "START DATE: 27-OCT-2015\n",
      "MATURITY DATE: 27-OCT-2025\n",
      "COUPON (%): 2.5\n",
      "FREQUENCY: FrequencyTypes.SEMI_ANNUAL\n",
      "DAY COUNT: DayCountTypes.ACT_360\n",
      "\n",
      "PAYMENTS VALUATION:\n",
      "PAY_NUM | PAY_dt      | NOTIONAL | RATE | PMNT      | DF     | PV        | CUM_PV    \n",
      "--------+-------------+----------+------+-----------+--------+-----------+-----------\n",
      "      1 | 27-APR-2016 | 10000000 |  2.5 | 127083.33 | 0.9948 | 126423.52 |  126423.52\n",
      "      2 | 27-OCT-2016 | 10000000 |  2.5 | 127083.33 | 0.9898 | 125791.26 |  252214.78\n",
      "      3 | 27-APR-2017 | 10000000 |  2.5 | 126388.89 | 0.9849 | 124481.62 |   376696.4\n",
      "      4 | 27-OCT-2017 | 10000000 |  2.5 | 127083.33 |   0.98 | 124539.62 |  501236.02\n",
      "      5 | 27-APR-2018 | 10000000 |  2.5 | 126388.89 | 0.9751 | 123243.01 |  624479.03\n",
      "      6 | 29-OCT-2018 | 10000000 |  2.5 | 128472.22 | 0.9702 | 124641.14 |  749120.17\n",
      "      7 | 29-APR-2019 | 10000000 |  2.5 | 126388.89 | 0.9654 | 122010.04 |  871130.21\n",
      "      8 | 28-OCT-2019 | 10000000 |  2.5 | 126388.89 | 0.9606 | 121403.17 |  992533.38\n",
      "      9 | 27-APR-2020 | 10000000 |  2.5 | 126388.89 | 0.9558 | 120799.32 |  1113332.7\n",
      "     10 | 27-OCT-2020 | 10000000 |  2.5 | 127083.33 |  0.951 |  120855.6 |  1234188.3\n",
      "     11 | 27-APR-2021 | 10000000 |  2.5 | 126388.89 | 0.9463 | 119597.35 | 1353785.66\n",
      "     12 | 27-OCT-2021 | 10000000 |  2.5 | 127083.33 | 0.9415 | 119653.07 | 1473438.72\n",
      "     13 | 27-APR-2022 | 10000000 |  2.5 | 126388.89 | 0.9368 | 118407.34 | 1591846.06\n",
      "     14 | 27-OCT-2022 | 10000000 |  2.5 | 127083.33 | 0.9322 |  118462.5 | 1710308.56\n",
      "     15 | 27-APR-2023 | 10000000 |  2.5 | 126388.89 | 0.9275 | 117229.17 | 1827537.73\n",
      "     16 | 27-OCT-2023 | 10000000 |  2.5 | 127083.33 | 0.9229 | 117283.78 | 1944821.51\n",
      "     17 | 29-APR-2024 | 10000000 |  2.5 | 128472.22 | 0.9182 | 117966.14 | 2062787.65\n",
      "     18 | 28-OCT-2024 | 10000000 |  2.5 | 126388.89 | 0.9137 | 115475.94 | 2178263.59\n",
      "     19 | 28-APR-2025 | 10000000 |  2.5 | 126388.89 | 0.9091 | 114901.58 | 2293165.17\n",
      "     20 | 27-OCT-2025 | 10000000 |  2.5 | 126388.89 | 0.9046 | 114330.07 | 2407495.23\n"
     ]
    }
   ],
   "source": [
    "swap.print_fixed_leg_pv()"
   ]
  },
  {
   "cell_type": "code",
   "execution_count": 15,
   "metadata": {
    "execution": {
     "iopub.execute_input": "2025-08-27T21:51:33.795725Z",
     "iopub.status.busy": "2025-08-27T21:51:33.795531Z",
     "iopub.status.idle": "2025-08-27T21:51:33.800431Z",
     "shell.execute_reply": "2025-08-27T21:51:33.799928Z"
    }
   },
   "outputs": [
    {
     "name": "stdout",
     "output_type": "stream",
     "text": [
      "START DATE: 27-OCT-2015\n",
      "MATURITY DATE: 27-OCT-2025\n",
      "SPREAD (BPS): 40.0\n",
      "FREQUENCY: FrequencyTypes.QUARTERLY\n",
      "DAY COUNT: DayCountTypes.ACT_360\n",
      "\n",
      "PAYMENTS VALUATION:\n",
      "PAY_NUM | PAY_dt      | NOTIONAL | IBOR   | PMNT     | DF     | PV       | CUM_PV    \n",
      "--------+-------------+----------+--------+----------+--------+----------+-----------\n",
      "      1 | 27-JAN-2016 | 10000000 |  2.005 | 61462.38 | 0.9973 |  61295.9 |    61295.9\n",
      "      2 | 27-APR-2016 | 10000000 |  2.005 | 60792.92 | 0.9948 | 60477.28 |  121773.18\n",
      "      3 | 27-JUL-2016 | 10000000 |  2.005 | 60792.92 | 0.9923 | 60326.69 |  182099.88\n",
      "      4 | 27-OCT-2016 | 10000000 |  2.005 | 61462.38 | 0.9898 | 60837.48 |  242937.36\n",
      "      5 | 27-JAN-2017 | 10000000 |  2.005 | 61462.38 | 0.9873 | 60684.33 |  303621.69\n",
      "      6 | 27-APR-2017 | 10000000 | 2.0049 | 60123.49 | 0.9849 |  59216.2 |  362837.89\n",
      "      7 | 27-JUL-2017 | 10000000 |  2.005 | 60792.92 | 0.9825 | 59726.43 |  422564.32\n",
      "      8 | 27-OCT-2017 | 10000000 |  2.005 | 61462.38 |   0.98 | 60232.14 |  482796.46\n",
      "      9 | 29-JAN-2018 | 10000000 | 2.0052 | 62801.39 | 0.9775 | 61386.05 |  544182.51\n",
      "     10 | 27-APR-2018 | 10000000 | 2.0048 | 58784.73 | 0.9751 | 57321.55 |  601504.06\n",
      "     11 | 27-JUL-2018 | 10000000 |  2.005 | 60792.92 | 0.9727 | 59132.15 |   660636.2\n",
      "     12 | 29-OCT-2018 | 10000000 | 2.0052 | 62801.39 | 0.9702 | 60928.63 |  721564.84\n",
      "     13 | 28-JAN-2019 | 10000000 |  2.005 | 60792.92 | 0.9678 | 58833.19 |  780398.03\n",
      "     14 | 29-APR-2019 | 10000000 |  2.005 | 60792.92 | 0.9654 |  58686.7 |  839084.72\n",
      "     15 | 29-JUL-2019 | 10000000 |  2.005 | 60792.92 |  0.963 | 58540.56 |  897625.29\n",
      "     16 | 28-OCT-2019 | 10000000 |  2.005 | 60792.92 | 0.9606 | 58394.79 |  956020.08\n",
      "     17 | 27-JAN-2020 | 10000000 |  2.005 | 60792.92 | 0.9582 | 58249.39 | 1014269.47\n",
      "     18 | 27-APR-2020 | 10000000 |  2.005 | 60792.92 | 0.9558 | 58104.34 | 1072373.81\n",
      "     19 | 27-JUL-2020 | 10000000 |  2.005 | 60792.92 | 0.9534 | 57959.66 | 1130333.48\n",
      "     20 | 27-OCT-2020 | 10000000 |  2.005 | 61462.38 |  0.951 | 58450.41 | 1188783.88\n",
      "     21 | 27-JAN-2021 | 10000000 |  2.005 | 61462.38 | 0.9486 | 58303.27 | 1247087.15\n",
      "     22 | 27-APR-2021 | 10000000 | 2.0049 | 60123.49 | 0.9463 | 56892.74 | 1303979.89\n",
      "     23 | 27-JUL-2021 | 10000000 |  2.005 | 60792.92 | 0.9439 | 57382.95 | 1361362.84\n",
      "     24 | 27-OCT-2021 | 10000000 |  2.005 | 61462.38 | 0.9415 | 57868.82 | 1419231.66\n",
      "     25 | 27-JAN-2022 | 10000000 |  2.005 | 61462.38 | 0.9392 | 57723.14 |  1476954.8\n",
      "     26 | 27-APR-2022 | 10000000 | 2.0049 | 60123.49 | 0.9368 | 56326.65 | 1533281.45\n",
      "     27 | 27-JUL-2022 | 10000000 |  2.005 | 60792.92 | 0.9345 | 56811.98 | 1590093.43\n",
      "     28 | 27-OCT-2022 | 10000000 |  2.005 | 61462.38 | 0.9322 | 57293.01 | 1647386.45\n",
      "     29 | 27-JAN-2023 | 10000000 |  2.005 | 61462.38 | 0.9298 | 57148.78 | 1704535.23\n",
      "     30 | 27-APR-2023 | 10000000 | 2.0049 | 60123.49 | 0.9275 | 55766.19 | 1760301.42\n",
      "     31 | 27-JUL-2023 | 10000000 |  2.005 | 60792.92 | 0.9252 |  56246.7 | 1816548.12\n",
      "     32 | 27-OCT-2023 | 10000000 |  2.005 | 61462.38 | 0.9229 | 56722.94 | 1873271.05\n",
      "     33 | 29-JAN-2024 | 10000000 | 2.0052 | 62801.39 | 0.9205 | 57809.62 | 1931080.68\n",
      "     34 | 29-APR-2024 | 10000000 |  2.005 | 60792.92 | 0.9182 | 55821.45 | 1986902.13\n",
      "     35 | 29-JUL-2024 | 10000000 |  2.005 | 60792.92 | 0.9159 | 55682.45 | 2042584.58\n",
      "     36 | 28-OCT-2024 | 10000000 |  2.005 | 60792.92 | 0.9137 |  55543.8 | 2098128.39\n",
      "     37 | 27-JAN-2025 | 10000000 |  2.005 | 60792.92 | 0.9114 |  55405.5 | 2153533.88\n",
      "     38 | 28-APR-2025 | 10000000 |  2.005 | 60792.92 | 0.9091 | 55267.53 | 2208801.42\n",
      "     39 | 28-JUL-2025 | 10000000 |  2.005 | 60792.92 | 0.9068 | 55129.92 | 2263931.33\n",
      "     40 | 27-OCT-2025 | 10000000 |  2.005 | 60792.92 | 0.9046 | 54992.64 | 2318923.97\n"
     ]
    }
   ],
   "source": [
    "swap.print_float_leg_pv()"
   ]
  },
  {
   "cell_type": "markdown",
   "metadata": {},
   "source": [
    "## Customising the Schedules"
   ]
  },
  {
   "cell_type": "markdown",
   "metadata": {},
   "source": [
    "Suppose I want to customise the schedules in a way that is not possible using the IborSwap constructor. This can easily be done by overriding the internal variable that stores the schedule of dates. For example, suppose I wish to make the fixed leg have odd payments as follows."
   ]
  },
  {
   "cell_type": "code",
   "execution_count": 16,
   "metadata": {
    "execution": {
     "iopub.execute_input": "2025-08-27T21:51:33.802429Z",
     "iopub.status.busy": "2025-08-27T21:51:33.802164Z",
     "iopub.status.idle": "2025-08-27T21:51:33.805326Z",
     "shell.execute_reply": "2025-08-27T21:51:33.804793Z"
    }
   },
   "outputs": [],
   "source": [
    "fixedSchedule = [value_dt, Date(15, 11, 2015), Date(15,11, 2020), Date(15,11,2025)]"
   ]
  },
  {
   "cell_type": "markdown",
   "metadata": {},
   "source": [
    "The first date is assumed to be the previous cpn date. We can set the schedule easily."
   ]
  },
  {
   "cell_type": "code",
   "execution_count": 17,
   "metadata": {
    "execution": {
     "iopub.execute_input": "2025-08-27T21:51:33.807149Z",
     "iopub.status.busy": "2025-08-27T21:51:33.806907Z",
     "iopub.status.idle": "2025-08-27T21:51:33.809346Z",
     "shell.execute_reply": "2025-08-27T21:51:33.808848Z"
    }
   },
   "outputs": [],
   "source": [
    "swap._adjusted_fixed_dates = fixedSchedule"
   ]
  },
  {
   "cell_type": "markdown",
   "metadata": {},
   "source": [
    "Now I redo the valuation"
   ]
  },
  {
   "cell_type": "code",
   "execution_count": 18,
   "metadata": {
    "execution": {
     "iopub.execute_input": "2025-08-27T21:51:33.810973Z",
     "iopub.status.busy": "2025-08-27T21:51:33.810767Z",
     "iopub.status.idle": "2025-08-27T21:51:33.815027Z",
     "shell.execute_reply": "2025-08-27T21:51:33.814582Z"
    }
   },
   "outputs": [
    {
     "data": {
      "text/plain": [
       "np.float64(-88571.26347494917)"
      ]
     },
     "execution_count": 18,
     "metadata": {},
     "output_type": "execute_result"
    }
   ],
   "source": [
    "swap.value(value_dt, discount_curve, index_curve)"
   ]
  },
  {
   "cell_type": "markdown",
   "metadata": {},
   "source": [
    "We can then check to see how the valuation is arrived at."
   ]
  },
  {
   "cell_type": "code",
   "execution_count": 19,
   "metadata": {
    "execution": {
     "iopub.execute_input": "2025-08-27T21:51:33.816657Z",
     "iopub.status.busy": "2025-08-27T21:51:33.816474Z",
     "iopub.status.idle": "2025-08-27T21:51:33.819997Z",
     "shell.execute_reply": "2025-08-27T21:51:33.819640Z"
    }
   },
   "outputs": [
    {
     "name": "stdout",
     "output_type": "stream",
     "text": [
      "START DATE: 27-OCT-2015\n",
      "MATURITY DATE: 27-OCT-2025\n",
      "COUPON (%): 2.5\n",
      "FREQUENCY: FrequencyTypes.SEMI_ANNUAL\n",
      "DAY COUNT: DayCountTypes.ACT_360\n",
      "\n",
      "PAYMENTS VALUATION:\n",
      "PAY_NUM | PAY_dt      | NOTIONAL | RATE | PMNT      | DF     | PV        | CUM_PV    \n",
      "--------+-------------+----------+------+-----------+--------+-----------+-----------\n",
      "      1 | 27-APR-2016 | 10000000 |  2.5 | 127083.33 | 0.9948 | 126423.52 |  126423.52\n",
      "      2 | 27-OCT-2016 | 10000000 |  2.5 | 127083.33 | 0.9898 | 125791.26 |  252214.78\n",
      "      3 | 27-APR-2017 | 10000000 |  2.5 | 126388.89 | 0.9849 | 124481.62 |   376696.4\n",
      "      4 | 27-OCT-2017 | 10000000 |  2.5 | 127083.33 |   0.98 | 124539.62 |  501236.02\n",
      "      5 | 27-APR-2018 | 10000000 |  2.5 | 126388.89 | 0.9751 | 123243.01 |  624479.03\n",
      "      6 | 29-OCT-2018 | 10000000 |  2.5 | 128472.22 | 0.9702 | 124641.14 |  749120.17\n",
      "      7 | 29-APR-2019 | 10000000 |  2.5 | 126388.89 | 0.9654 | 122010.04 |  871130.21\n",
      "      8 | 28-OCT-2019 | 10000000 |  2.5 | 126388.89 | 0.9606 | 121403.17 |  992533.38\n",
      "      9 | 27-APR-2020 | 10000000 |  2.5 | 126388.89 | 0.9558 | 120799.32 |  1113332.7\n",
      "     10 | 27-OCT-2020 | 10000000 |  2.5 | 127083.33 |  0.951 |  120855.6 |  1234188.3\n",
      "     11 | 27-APR-2021 | 10000000 |  2.5 | 126388.89 | 0.9463 | 119597.35 | 1353785.66\n",
      "     12 | 27-OCT-2021 | 10000000 |  2.5 | 127083.33 | 0.9415 | 119653.07 | 1473438.72\n",
      "     13 | 27-APR-2022 | 10000000 |  2.5 | 126388.89 | 0.9368 | 118407.34 | 1591846.06\n",
      "     14 | 27-OCT-2022 | 10000000 |  2.5 | 127083.33 | 0.9322 |  118462.5 | 1710308.56\n",
      "     15 | 27-APR-2023 | 10000000 |  2.5 | 126388.89 | 0.9275 | 117229.17 | 1827537.73\n",
      "     16 | 27-OCT-2023 | 10000000 |  2.5 | 127083.33 | 0.9229 | 117283.78 | 1944821.51\n",
      "     17 | 29-APR-2024 | 10000000 |  2.5 | 128472.22 | 0.9182 | 117966.14 | 2062787.65\n",
      "     18 | 28-OCT-2024 | 10000000 |  2.5 | 126388.89 | 0.9137 | 115475.94 | 2178263.59\n",
      "     19 | 28-APR-2025 | 10000000 |  2.5 | 126388.89 | 0.9091 | 114901.58 | 2293165.17\n",
      "     20 | 27-OCT-2025 | 10000000 |  2.5 | 126388.89 | 0.9046 | 114330.07 | 2407495.23\n"
     ]
    }
   ],
   "source": [
    "swap.print_fixed_leg_pv()"
   ]
  },
  {
   "cell_type": "markdown",
   "metadata": {},
   "source": [
    "Clearly the cpns have been adjusted. We do not the ability to override the flow amounts."
   ]
  },
  {
   "cell_type": "markdown",
   "metadata": {},
   "source": [
    "The floating leg is not affected."
   ]
  },
  {
   "cell_type": "markdown",
   "metadata": {},
   "source": [
    "Copyright (c) 2020 Dominic O'Kane"
   ]
  }
 ],
 "metadata": {
  "kernelspec": {
   "display_name": "base",
   "language": "python",
   "name": "python3"
  },
  "language_info": {
   "codemirror_mode": {
    "name": "ipython",
    "version": 3
   },
   "file_extension": ".py",
   "mimetype": "text/x-python",
   "name": "python",
   "nbconvert_exporter": "python",
   "pygments_lexer": "ipython3",
   "version": "3.13.5"
  }
 },
 "nbformat": 4,
 "nbformat_minor": 4
}
