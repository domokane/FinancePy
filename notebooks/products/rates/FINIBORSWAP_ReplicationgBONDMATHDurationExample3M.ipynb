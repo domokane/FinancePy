{
 "cells": [
  {
   "cell_type": "code",
   "id": "initial_id",
   "metadata": {
    "collapsed": true,
    "ExecuteTime": {
     "end_time": "2025-05-23T03:11:32.198988Z",
     "start_time": "2025-05-23T03:11:30.509140Z"
    }
   },
   "source": [
    "from financepy.utils import *\n",
    "from financepy.products.rates import *\n",
    "from financepy.market.curves import *\n",
    "import datetime as dt\n"
   ],
   "outputs": [
    {
     "name": "stdout",
     "output_type": "stream",
     "text": [
      "####################################################################\n",
      "#  FINANCEPY BETA Version 0.370 - This build: 28 Oct 2024 at 20:29 #\n",
      "#     This software is distributed FREE AND WITHOUT ANY WARRANTY   #\n",
      "#  Report bugs as issues at https://github.com/domokane/FinancePy  #\n",
      "####################################################################\n",
      "\n"
     ]
    }
   ],
   "execution_count": 1
  },
  {
   "metadata": {
    "ExecuteTime": {
     "end_time": "2025-05-23T03:11:32.234873Z",
     "start_time": "2025-05-23T03:11:32.208415Z"
    }
   },
   "cell_type": "code",
   "source": [
    "swap_cal_type = CalendarTypes.TARGET\n",
    "bd_type = BusDayAdjustTypes.FOLLOWING\n",
    "dg_type = DateGenRuleTypes.BACKWARD\n",
    "\n",
    "\n",
    "fixed_cpn = 0.034\n",
    "fixed_freq_type = FrequencyTypes.QUARTERLY\n",
    "fixed_dc_type = DayCountTypes.THIRTY_360_BOND\n",
    "\n",
    "float_spread = 0.0\n",
    "float_freq_type = FrequencyTypes.QUARTERLY\n",
    "float_dc_type = DayCountTypes.THIRTY_360_BOND\n",
    "\n",
    "swap_type = SwapTypes.PAY\n",
    "notional = 60000000\n",
    "\n",
    "start_dt = Date(1, 4, 2024)\n",
    "maturity_dt = start_dt.add_years(1.75)\n",
    "\n",
    "swap = IborSwap(start_dt,\n",
    "                maturity_dt,\n",
    "                swap_type,\n",
    "                fixed_cpn,\n",
    "                fixed_freq_type,\n",
    "                fixed_dc_type,\n",
    "                notional,\n",
    "                float_spread,\n",
    "                float_freq_type,\n",
    "                float_dc_type,\n",
    "                swap_cal_type,\n",
    "                bd_type,\n",
    "                dg_type)\n"
   ],
   "id": "1ebf43316efee835",
   "outputs": [],
   "execution_count": 2
  },
  {
   "metadata": {
    "ExecuteTime": {
     "end_time": "2025-05-23T03:11:32.413949Z",
     "start_time": "2025-05-23T03:11:32.408884Z"
    }
   },
   "cell_type": "code",
   "source": [
    "value_date= dt.datetime(2024,3,31)\n",
    "value_dt = from_datetime(value_date)\n",
    "\n",
    "settle_dt = value_dt.add_weekdays(0)\n",
    "# settle_dt=value_dt\n",
    "settle_dt"
   ],
   "id": "8e46f142f3cba5d7",
   "outputs": [
    {
     "data": {
      "text/plain": [
       "31-MAR-2024"
      ]
     },
     "execution_count": 3,
     "metadata": {},
     "output_type": "execute_result"
    }
   ],
   "execution_count": 3
  },
  {
   "metadata": {
    "ExecuteTime": {
     "end_time": "2025-05-23T03:11:32.447267Z",
     "start_time": "2025-05-23T03:11:32.442210Z"
    }
   },
   "cell_type": "code",
   "source": [
    "\n",
    "yield_curve=[i/100 for i in [0.75,1.1853,1.6822,2.1474,2.4371,2.7390,3.0198]]\n",
    "zero_dts=value_dt.add_years([0.25,0.5,0.75,1.0,1.25,1.5,1.75])\n",
    "\n",
    "zero_curve = DiscountCurveZeros(value_dt=value_dt,\n",
    "                                zero_dts=zero_dts,\n",
    "                                zero_rates=yield_curve,\n",
    "                                freq_type=FrequencyTypes.QUARTERLY,\n",
    "                                dc_type=DayCountTypes.THIRTY_360_BOND,\n",
    "                                interp_type=InterpTypes.FINCUBIC_ZERO_RATES\n",
    "                                )"
   ],
   "id": "290b7a06932da41d",
   "outputs": [],
   "execution_count": 4
  },
  {
   "metadata": {
    "ExecuteTime": {
     "end_time": "2025-05-23T03:11:32.461542Z",
     "start_time": "2025-05-23T03:11:32.456727Z"
    }
   },
   "cell_type": "code",
   "source": "swap.swap_rate(value_dt, zero_curve)",
   "id": "7bb1613d5e865838",
   "outputs": [
    {
     "data": {
      "text/plain": [
       "0.030065619962567392"
      ]
     },
     "execution_count": 5,
     "metadata": {},
     "output_type": "execute_result"
    }
   ],
   "execution_count": 5
  },
  {
   "metadata": {
    "ExecuteTime": {
     "end_time": "2025-05-23T03:11:32.501044Z",
     "start_time": "2025-05-23T03:11:32.497430Z"
    }
   },
   "cell_type": "code",
   "source": "swap.value(settle_dt, zero_curve)",
   "id": "e2fabe76f4bbdf2d",
   "outputs": [
    {
     "data": {
      "text/plain": [
       "-404094.769553849"
      ]
     },
     "execution_count": 6,
     "metadata": {},
     "output_type": "execute_result"
    }
   ],
   "execution_count": 6
  },
  {
   "metadata": {
    "ExecuteTime": {
     "end_time": "2025-05-23T03:11:32.548673Z",
     "start_time": "2025-05-23T03:11:32.543824Z"
    }
   },
   "cell_type": "code",
   "source": "swap.payer_side_macaulay_duration(value_dt,zero_curve,8)",
   "id": "3f988f26e6662203",
   "outputs": [
    {
     "data": {
      "text/plain": [
       "-6.794198629548404"
      ]
     },
     "execution_count": 7,
     "metadata": {},
     "output_type": "execute_result"
    }
   ],
   "execution_count": 7
  },
  {
   "metadata": {
    "ExecuteTime": {
     "end_time": "2025-05-23T03:11:32.591829Z",
     "start_time": "2025-05-23T03:11:32.587918Z"
    }
   },
   "cell_type": "code",
   "source": "swap.receiver_side_macaulay_duration(value_dt, zero_curve,8)",
   "id": "96d568f7a71861fe",
   "outputs": [
    {
     "data": {
      "text/plain": [
       "6.794198629548404"
      ]
     },
     "execution_count": 8,
     "metadata": {},
     "output_type": "execute_result"
    }
   ],
   "execution_count": 8
  },
  {
   "metadata": {
    "ExecuteTime": {
     "end_time": "2025-05-23T03:11:32.651777Z",
     "start_time": "2025-05-23T03:11:32.646875Z"
    }
   },
   "cell_type": "code",
   "source": "swap.payer_side_modified_duration(value_dt, zero_curve,8)",
   "id": "ec2187c7336c1bc3",
   "outputs": [
    {
     "data": {
      "text/plain": [
       "-6.743511664816526"
      ]
     },
     "execution_count": 9,
     "metadata": {},
     "output_type": "execute_result"
    }
   ],
   "execution_count": 9
  },
  {
   "metadata": {
    "ExecuteTime": {
     "end_time": "2025-05-23T03:11:32.715295Z",
     "start_time": "2025-05-23T03:11:32.711182Z"
    }
   },
   "cell_type": "code",
   "source": "swap.receiver_side_modified_duration(value_dt, zero_curve,8)",
   "id": "2c1b845afaf5e18f",
   "outputs": [
    {
     "data": {
      "text/plain": [
       "6.743511664816526"
      ]
     },
     "execution_count": 10,
     "metadata": {},
     "output_type": "execute_result"
    }
   ],
   "execution_count": 10
  },
  {
   "metadata": {
    "ExecuteTime": {
     "end_time": "2025-05-23T03:11:32.914101Z",
     "start_time": "2025-05-23T03:11:32.909828Z"
    }
   },
   "cell_type": "code",
   "source": [
    "payment_periods=8\n",
    "swap_rate_changes=-0.004\n",
    "swap.payer_side_profits(value_dt, zero_curve,payment_periods,swap_rate_changes)"
   ],
   "id": "5ef5f29ad5dfad00",
   "outputs": [
    {
     "data": {
      "text/plain": [
       "-404610.6998889916"
      ]
     },
     "execution_count": 14,
     "metadata": {},
     "output_type": "execute_result"
    }
   ],
   "execution_count": 14
  },
  {
   "metadata": {
    "ExecuteTime": {
     "end_time": "2025-05-23T03:11:32.963176Z",
     "start_time": "2025-05-23T03:11:32.958757Z"
    }
   },
   "cell_type": "code",
   "source": "swap.receiver_side_profits(value_dt, zero_curve,payment_periods,swap_rate_changes)",
   "id": "11109a6f2da7b7dc",
   "outputs": [
    {
     "data": {
      "text/plain": [
       "404610.6998889916"
      ]
     },
     "execution_count": 15,
     "metadata": {},
     "output_type": "execute_result"
    }
   ],
   "execution_count": 15
  },
  {
   "metadata": {
    "ExecuteTime": {
     "end_time": "2025-05-23T03:11:33.018125Z",
     "start_time": "2025-05-23T03:11:33.013277Z"
    }
   },
   "cell_type": "code",
   "source": "swap.payer_side_BPV(value_dt, zero_curve,payment_periods)",
   "id": "a4c532a9a90b445c",
   "outputs": [
    {
     "data": {
      "text/plain": [
       "-10115.26749722479"
      ]
     },
     "execution_count": 16,
     "metadata": {},
     "output_type": "execute_result"
    }
   ],
   "execution_count": 16
  },
  {
   "metadata": {
    "ExecuteTime": {
     "end_time": "2025-05-23T03:11:33.062580Z",
     "start_time": "2025-05-23T03:11:33.058102Z"
    }
   },
   "cell_type": "code",
   "source": "swap.receiver_side_BPV(value_dt, zero_curve,payment_periods)",
   "id": "8f8630e90883e3b5",
   "outputs": [
    {
     "data": {
      "text/plain": [
       "10115.26749722479"
      ]
     },
     "execution_count": 17,
     "metadata": {},
     "output_type": "execute_result"
    }
   ],
   "execution_count": 17
  }
 ],
 "metadata": {
  "kernelspec": {
   "display_name": "Python 3",
   "language": "python",
   "name": "python3"
  },
  "language_info": {
   "codemirror_mode": {
    "name": "ipython",
    "version": 2
   },
   "file_extension": ".py",
   "mimetype": "text/x-python",
   "name": "python",
   "nbconvert_exporter": "python",
   "pygments_lexer": "ipython2",
   "version": "2.7.6"
  }
 },
 "nbformat": 4,
 "nbformat_minor": 5
}
