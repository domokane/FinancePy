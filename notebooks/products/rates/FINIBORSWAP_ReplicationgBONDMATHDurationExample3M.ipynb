{
 "cells": [
  {
   "cell_type": "code",
   "id": "initial_id",
   "metadata": {
    "collapsed": true,
    "ExecuteTime": {
     "end_time": "2025-05-23T02:25:34.603675Z",
     "start_time": "2025-05-23T02:25:34.599467Z"
    }
   },
   "source": [
    "from financepy.utils import *\n",
    "from financepy.products.rates import *\n",
    "from financepy.market.curves import *\n",
    "import datetime as dt"
   ],
   "outputs": [],
   "execution_count": 16
  },
  {
   "metadata": {
    "ExecuteTime": {
     "end_time": "2025-05-23T02:25:34.630084Z",
     "start_time": "2025-05-23T02:25:34.621619Z"
    }
   },
   "cell_type": "code",
   "source": [
    "swap_cal_type = CalendarTypes.TARGET\n",
    "bd_type = BusDayAdjustTypes.FOLLOWING\n",
    "dg_type = DateGenRuleTypes.BACKWARD\n",
    "\n",
    "\n",
    "fixed_cpn = 0.034\n",
    "fixed_freq_type = FrequencyTypes.QUARTERLY\n",
    "fixed_dc_type = DayCountTypes.THIRTY_360_BOND\n",
    "\n",
    "float_spread = 0.0\n",
    "float_freq_type = FrequencyTypes.QUARTERLY\n",
    "float_dc_type = DayCountTypes.THIRTY_360_BOND\n",
    "\n",
    "swap_type = SwapTypes.PAY\n",
    "notional = 60000000\n",
    "\n",
    "start_dt = Date(1, 4, 2024)\n",
    "maturity_dt = start_dt.add_years(1.75)\n",
    "\n",
    "swap = IborSwap(start_dt,\n",
    "                maturity_dt,\n",
    "                swap_type,\n",
    "                fixed_cpn,\n",
    "                fixed_freq_type,\n",
    "                fixed_dc_type,\n",
    "                notional,\n",
    "                float_spread,\n",
    "                float_freq_type,\n",
    "                float_dc_type,\n",
    "                swap_cal_type,\n",
    "                bd_type,\n",
    "                dg_type)\n"
   ],
   "id": "1ebf43316efee835",
   "outputs": [],
   "execution_count": 17
  },
  {
   "metadata": {
    "ExecuteTime": {
     "end_time": "2025-05-23T02:25:34.640874Z",
     "start_time": "2025-05-23T02:25:34.636086Z"
    }
   },
   "cell_type": "code",
   "source": [
    "value_date= dt.datetime(2024,3,31)\n",
    "value_dt = from_datetime(value_date)\n",
    "\n",
    "settle_dt = value_dt.add_weekdays(0)\n",
    "# settle_dt=value_dt\n",
    "settle_dt"
   ],
   "id": "8e46f142f3cba5d7",
   "outputs": [
    {
     "data": {
      "text/plain": [
       "31-MAR-2024"
      ]
     },
     "execution_count": 18,
     "metadata": {},
     "output_type": "execute_result"
    }
   ],
   "execution_count": 18
  },
  {
   "metadata": {
    "ExecuteTime": {
     "end_time": "2025-05-23T02:25:34.675868Z",
     "start_time": "2025-05-23T02:25:34.663679Z"
    }
   },
   "cell_type": "code",
   "source": [
    "# 书中曲线\n",
    "# yield_curve=[i/100 for i in [0.75,1.1853,1.6822,2.1474,2.4371,2.7390,3.0198]]\n",
    "# zero_dts=value_dt.add_years([0.25,0.5,0.75,1.0,1.25,1.5,1.75])\n",
    "\n",
    "\n",
    "yield_curve=[i/100 for i in [0.75,1.1853,1.6822,2.1474,2.4371,2.7390,3.0198]]\n",
    "zero_dts=value_dt.add_years([0.25,0.5,0.75,1.0,1.25,1.5,1.75])\n",
    "\n",
    "zero_curve = DiscountCurveZeros(value_dt=value_dt,\n",
    "                                zero_dts=zero_dts,\n",
    "                                zero_rates=yield_curve,\n",
    "                                freq_type=FrequencyTypes.QUARTERLY,\n",
    "                                dc_type=DayCountTypes.THIRTY_360_BOND,\n",
    "                                interp_type=InterpTypes.FINCUBIC_ZERO_RATES\n",
    "                                )"
   ],
   "id": "290b7a06932da41d",
   "outputs": [],
   "execution_count": 19
  },
  {
   "metadata": {
    "ExecuteTime": {
     "end_time": "2025-05-23T02:25:34.693421Z",
     "start_time": "2025-05-23T02:25:34.686347Z"
    }
   },
   "cell_type": "code",
   "source": "swap.swap_rate(value_dt, zero_curve)",
   "id": "7bb1613d5e865838",
   "outputs": [
    {
     "data": {
      "text/plain": [
       "0.030065619962567392"
      ]
     },
     "execution_count": 20,
     "metadata": {},
     "output_type": "execute_result"
    }
   ],
   "execution_count": 20
  },
  {
   "metadata": {
    "ExecuteTime": {
     "end_time": "2025-05-23T02:25:34.722494Z",
     "start_time": "2025-05-23T02:25:34.715862Z"
    }
   },
   "cell_type": "code",
   "source": [
    "# def payer_side_macaulay_duration(value_dt, discount_curve):\n",
    "#     \"\"\"Calculation of the Payer's Macaulay Duration in an Interest Rate Swap\n",
    "#     Based on Bond Math: The Theory Behind the Formulas, Second Edition by\n",
    "#     Donald J. Smith\n",
    "#     \"\"\"\n",
    "#     # Number of fixed leg payments\n",
    "#     payment_period = len(swap.fixed_leg.payments)\n",
    "#\n",
    "#     # Get coupon frequency\n",
    "#     coupon_frequency = self.fixed_leg.freq_type.value\n",
    "#\n",
    "#     # Get swap rate\n",
    "#     swap_rate_val = self.swap_rate(value_dt, discount_curve)\n",
    "#\n",
    "#     y = swap_rate_val / coupon_frequency\n",
    "#     N = payment_period\n",
    "#     c = swap_rate_val / coupon_frequency\n",
    "#     md1 = (1 + y) / y\n",
    "#     md2 = 1 + y + (N * (c - y))\n",
    "#     md3 = c * ((1 + y) ** N - 1) + y\n",
    "#     mac_duration = 1 - (md1 - md2 / md3)\n",
    "#     return mac_duration\n",
    "\n",
    "\n",
    "payment_period = len(swap.fixed_leg.payments) + 1\n",
    "coupon_frequency = swap.fixed_leg.freq_type.value\n",
    "swap_rate_val = swap.swap_rate(value_dt, zero_curve)\n",
    "y = swap_rate_val / coupon_frequency\n",
    "N = payment_period\n",
    "c = swap_rate_val / coupon_frequency\n",
    "md1 = (1 + y) / y\n",
    "md2 = 1 + y + (N * (c - y))\n",
    "md3 = c * ((1 + y) ** N - 1) + y\n",
    "mac_duration = 1 - (md1 - md2 / md3)\n",
    "\n",
    "delta_mv=-(-mac_duration/4*notional*(-0.004))"
   ],
   "id": "65a401442f9bf084",
   "outputs": [],
   "execution_count": 21
  },
  {
   "metadata": {
    "ExecuteTime": {
     "end_time": "2025-05-23T02:25:34.740382Z",
     "start_time": "2025-05-23T02:25:34.734050Z"
    }
   },
   "cell_type": "code",
   "source": "swap.value(settle_dt, zero_curve)",
   "id": "e2fabe76f4bbdf2d",
   "outputs": [
    {
     "data": {
      "text/plain": [
       "-404094.769553849"
      ]
     },
     "execution_count": 22,
     "metadata": {},
     "output_type": "execute_result"
    }
   ],
   "execution_count": 22
  },
  {
   "metadata": {
    "ExecuteTime": {
     "end_time": "2025-05-23T02:25:34.769581Z",
     "start_time": "2025-05-23T02:25:34.763504Z"
    }
   },
   "cell_type": "code",
   "source": "swap.payer_side_macaulay_duration(value_dt,zero_curve,8)",
   "id": "3f988f26e6662203",
   "outputs": [
    {
     "data": {
      "text/plain": [
       "-6.794198629548404"
      ]
     },
     "execution_count": 23,
     "metadata": {},
     "output_type": "execute_result"
    }
   ],
   "execution_count": 23
  },
  {
   "metadata": {
    "ExecuteTime": {
     "end_time": "2025-05-23T02:25:34.803424Z",
     "start_time": "2025-05-23T02:25:34.798626Z"
    }
   },
   "cell_type": "code",
   "source": "swap.receiver_side_macaulay_duration(value_dt, zero_curve,8)",
   "id": "96d568f7a71861fe",
   "outputs": [
    {
     "data": {
      "text/plain": [
       "6.794198629548404"
      ]
     },
     "execution_count": 24,
     "metadata": {},
     "output_type": "execute_result"
    }
   ],
   "execution_count": 24
  },
  {
   "metadata": {
    "ExecuteTime": {
     "end_time": "2025-05-23T02:25:34.836332Z",
     "start_time": "2025-05-23T02:25:34.831799Z"
    }
   },
   "cell_type": "code",
   "source": "swap.payer_side_modified_duration(value_dt, zero_curve,8)",
   "id": "ec2187c7336c1bc3",
   "outputs": [
    {
     "data": {
      "text/plain": [
       "-6.743511664816526"
      ]
     },
     "execution_count": 25,
     "metadata": {},
     "output_type": "execute_result"
    }
   ],
   "execution_count": 25
  },
  {
   "metadata": {
    "ExecuteTime": {
     "end_time": "2025-05-23T02:25:34.864470Z",
     "start_time": "2025-05-23T02:25:34.860289Z"
    }
   },
   "cell_type": "code",
   "source": "swap.receiver_side_modified_duration(value_dt, zero_curve,8)",
   "id": "2c1b845afaf5e18f",
   "outputs": [
    {
     "data": {
      "text/plain": [
       "6.743511664816526"
      ]
     },
     "execution_count": 26,
     "metadata": {},
     "output_type": "execute_result"
    }
   ],
   "execution_count": 26
  },
  {
   "metadata": {
    "ExecuteTime": {
     "end_time": "2025-05-23T02:25:34.895364Z",
     "start_time": "2025-05-23T02:25:34.888381Z"
    }
   },
   "cell_type": "code",
   "source": "swap.print_payments()",
   "id": "2af7c95b07730dda",
   "outputs": [
    {
     "name": "stdout",
     "output_type": "stream",
     "text": [
      "START DATE: 01-APR-2024\n",
      "MATURITY DATE: 02-JAN-2026\n",
      "COUPON (%): 3.4000000000000004\n",
      "FREQUENCY: FrequencyTypes.QUARTERLY\n",
      "DAY COUNT: DayCountTypes.THIRTY_360_BOND\n",
      "\n",
      "PAYMENTS SCHEDULE:\n",
      "+---------+-------------+-------------+-------------+------+----------+------+-----------+\n",
      "| PAY_NUM |    PAY_dt   |  ACCR_START |   ACCR_END  | DAYS | YEARFRAC | RATE |    PMNT   |\n",
      "+---------+-------------+-------------+-------------+------+----------+------+-----------+\n",
      "|    1    | 01-JUL-2024 | 01-APR-2024 | 01-JUL-2024 |  90  |   0.25   | 3.4  |  510000.0 |\n",
      "|    2    | 01-OCT-2024 | 01-JUL-2024 | 01-OCT-2024 |  90  |   0.25   | 3.4  |  510000.0 |\n",
      "|    3    | 02-JAN-2025 | 01-OCT-2024 | 02-JAN-2025 |  91  |  0.2528  | 3.4  | 515666.67 |\n",
      "|    4    | 01-APR-2025 | 02-JAN-2025 | 01-APR-2025 |  89  |  0.2472  | 3.4  | 504333.33 |\n",
      "|    5    | 01-JUL-2025 | 01-APR-2025 | 01-JUL-2025 |  90  |   0.25   | 3.4  |  510000.0 |\n",
      "|    6    | 01-OCT-2025 | 01-JUL-2025 | 01-OCT-2025 |  90  |   0.25   | 3.4  |  510000.0 |\n",
      "|    7    | 02-JAN-2026 | 01-OCT-2025 | 02-JAN-2026 |  91  |  0.2528  | 3.4  | 515666.67 |\n",
      "+---------+-------------+-------------+-------------+------+----------+------+-----------+\n",
      "START DATE: 01-APR-2024\n",
      "MATURITY DATE: 02-JAN-2026\n",
      "SPREAD (bp): 0.0\n",
      "FREQUENCY: FrequencyTypes.QUARTERLY\n",
      "DAY COUNT: DayCountTypes.THIRTY_360_BOND\n",
      "\n",
      "PAYMENTS SCHEDULE:\n",
      "+---------+-------------+-------------+-------------+------+----------+\n",
      "| PAY_NUM |    PAY_dt   |  ACCR_START |   ACCR_END  | DAYS | YEARFRAC |\n",
      "+---------+-------------+-------------+-------------+------+----------+\n",
      "|    1    | 01-JUL-2024 | 01-APR-2024 | 01-JUL-2024 |  90  |   0.25   |\n",
      "|    2    | 01-OCT-2024 | 01-JUL-2024 | 01-OCT-2024 |  90  |   0.25   |\n",
      "|    3    | 02-JAN-2025 | 01-OCT-2024 | 02-JAN-2025 |  91  |  0.2528  |\n",
      "|    4    | 01-APR-2025 | 02-JAN-2025 | 01-APR-2025 |  89  |  0.2472  |\n",
      "|    5    | 01-JUL-2025 | 01-APR-2025 | 01-JUL-2025 |  90  |   0.25   |\n",
      "|    6    | 01-OCT-2025 | 01-JUL-2025 | 01-OCT-2025 |  90  |   0.25   |\n",
      "|    7    | 02-JAN-2026 | 01-OCT-2025 | 02-JAN-2026 |  91  |  0.2528  |\n",
      "+---------+-------------+-------------+-------------+------+----------+\n"
     ]
    }
   ],
   "execution_count": 27
  },
  {
   "metadata": {
    "ExecuteTime": {
     "end_time": "2025-05-23T02:25:34.923991Z",
     "start_time": "2025-05-23T02:25:34.918594Z"
    }
   },
   "cell_type": "code",
   "source": "swap.print_float_leg_pv()",
   "id": "1c960526153c2223",
   "outputs": [
    {
     "name": "stdout",
     "output_type": "stream",
     "text": [
      "START DATE: 01-APR-2024\n",
      "MATURITY DATE: 02-JAN-2026\n",
      "SPREAD (BPS): 0.0\n",
      "FREQUENCY: FrequencyTypes.QUARTERLY\n",
      "DAY COUNT: DayCountTypes.THIRTY_360_BOND\n",
      "\n",
      "PAYMENTS VALUATION:\n",
      "+---------+-------------+----------+--------+-----------+--------+-----------+------------+\n",
      "| PAY_NUM |    PAY_dt   | NOTIONAL |  IBOR  |    PMNT   |   DF   |     PV    |   CUM_PV   |\n",
      "+---------+-------------+----------+--------+-----------+--------+-----------+------------+\n",
      "|    1    | 01-JUL-2024 | 60000000 | 0.7529 | 112935.42 | 0.9981 | 112722.26 | 112722.26  |\n",
      "|    2    | 01-OCT-2024 | 60000000 | 1.6379 | 245686.53 | 0.994  | 244222.77 | 356945.03  |\n",
      "|    3    | 02-JAN-2025 | 60000000 | 2.7131 | 411480.71 | 0.9873 | 406243.16 | 763188.19  |\n",
      "|    4    | 01-APR-2025 | 60000000 | 3.5062 | 520087.02 | 0.9788 | 509054.52 | 1272242.71 |\n",
      "|    5    | 01-JUL-2025 | 60000000 | 3.588  | 538192.75 | 0.9701 | 522093.07 | 1794335.78 |\n",
      "|    6    | 01-OCT-2025 | 60000000 | 4.293  | 643955.16 | 0.9598 |  618058.3 | 2412394.08 |\n",
      "|    7    | 02-JAN-2026 | 60000000 | 4.6963 | 712268.76 | 0.9485 | 675604.45 | 3087998.53 |\n",
      "+---------+-------------+----------+--------+-----------+--------+-----------+------------+\n"
     ]
    }
   ],
   "execution_count": 28
  },
  {
   "metadata": {
    "ExecuteTime": {
     "end_time": "2025-05-23T02:25:35.017712Z",
     "start_time": "2025-05-23T02:25:35.013394Z"
    }
   },
   "cell_type": "code",
   "source": "swap.print_fixed_leg_pv()",
   "id": "5037651021a91d38",
   "outputs": [
    {
     "name": "stdout",
     "output_type": "stream",
     "text": [
      "START DATE: 01-APR-2024\n",
      "MATURITY DATE: 02-JAN-2026\n",
      "COUPON (%): 3.4000000000000004\n",
      "FREQUENCY: FrequencyTypes.QUARTERLY\n",
      "DAY COUNT: DayCountTypes.THIRTY_360_BOND\n",
      "\n",
      "PAYMENTS VALUATION:\n",
      "+---------+-------------+----------+------+-----------+--------+-----------+------------+\n",
      "| PAY_NUM |    PAY_dt   | NOTIONAL | RATE |    PMNT   |   DF   |     PV    |   CUM_PV   |\n",
      "+---------+-------------+----------+------+-----------+--------+-----------+------------+\n",
      "|    1    | 01-JUL-2024 | 60000000 | 3.4  |  510000.0 | 0.9981 |  509037.4 |  509037.4  |\n",
      "|    2    | 01-OCT-2024 | 60000000 | 3.4  |  510000.0 | 0.994  | 506961.51 | 1015998.91 |\n",
      "|    3    | 02-JAN-2025 | 60000000 | 3.4  | 515666.67 | 0.9873 | 509102.98 | 1525101.88 |\n",
      "|    4    | 01-APR-2025 | 60000000 | 3.4  | 504333.33 | 0.9788 | 493635.02 | 2018736.9  |\n",
      "|    5    | 01-JUL-2025 | 60000000 | 3.4  |  510000.0 | 0.9701 | 494743.69 | 2513480.58 |\n",
      "|    6    | 01-OCT-2025 | 60000000 | 3.4  |  510000.0 | 0.9598 | 489490.19 | 3002970.77 |\n",
      "|    7    | 02-JAN-2026 | 60000000 | 3.4  | 515666.67 | 0.9485 | 489122.52 | 3492093.3  |\n",
      "+---------+-------------+----------+------+-----------+--------+-----------+------------+\n"
     ]
    }
   ],
   "execution_count": 29
  },
  {
   "metadata": {
    "ExecuteTime": {
     "end_time": "2025-05-23T02:25:35.127867Z",
     "start_time": "2025-05-23T02:25:35.115423Z"
    }
   },
   "cell_type": "code",
   "source": "swap.payer_side_profits(value_dt, zero_curve,8,-0.004)",
   "id": "5ef5f29ad5dfad00",
   "outputs": [
    {
     "ename": "AttributeError",
     "evalue": "'IborSwap' object has no attribute 'payer_side_profits'",
     "output_type": "error",
     "traceback": [
      "\u001B[1;31m---------------------------------------------------------------------------\u001B[0m",
      "\u001B[1;31mAttributeError\u001B[0m                            Traceback (most recent call last)",
      "Cell \u001B[1;32mIn[30], line 1\u001B[0m\n\u001B[1;32m----> 1\u001B[0m \u001B[43mswap\u001B[49m\u001B[38;5;241;43m.\u001B[39;49m\u001B[43mpayer_side_profits\u001B[49m(value_dt, zero_curve,\u001B[38;5;241m8\u001B[39m,\u001B[38;5;241m-\u001B[39m\u001B[38;5;241m0.004\u001B[39m)\n",
      "\u001B[1;31mAttributeError\u001B[0m: 'IborSwap' object has no attribute 'payer_side_profits'"
     ]
    }
   ],
   "execution_count": 30
  }
 ],
 "metadata": {
  "kernelspec": {
   "display_name": "Python 3",
   "language": "python",
   "name": "python3"
  },
  "language_info": {
   "codemirror_mode": {
    "name": "ipython",
    "version": 2
   },
   "file_extension": ".py",
   "mimetype": "text/x-python",
   "name": "python",
   "nbconvert_exporter": "python",
   "pygments_lexer": "ipython2",
   "version": "2.7.6"
  }
 },
 "nbformat": 4,
 "nbformat_minor": 5
}
