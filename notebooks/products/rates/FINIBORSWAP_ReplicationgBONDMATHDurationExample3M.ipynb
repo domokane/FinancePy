{
 "cells": [
  {
   "cell_type": "code",
   "id": "initial_id",
   "metadata": {
    "collapsed": true,
    "ExecuteTime": {
     "end_time": "2025-05-23T03:01:38.516595Z",
     "start_time": "2025-05-23T03:01:38.512089Z"
    }
   },
   "source": [
    "from financepy.utils import *\n",
    "from financepy.products.rates import *\n",
    "from financepy.market.curves import *\n",
    "import datetime as dt\n"
   ],
   "outputs": [],
   "execution_count": 22
  },
  {
   "metadata": {
    "ExecuteTime": {
     "end_time": "2025-05-23T03:01:38.528444Z",
     "start_time": "2025-05-23T03:01:38.524597Z"
    }
   },
   "cell_type": "code",
   "source": [
    "swap_cal_type = CalendarTypes.TARGET\n",
    "bd_type = BusDayAdjustTypes.FOLLOWING\n",
    "dg_type = DateGenRuleTypes.BACKWARD\n",
    "\n",
    "\n",
    "fixed_cpn = 0.034\n",
    "fixed_freq_type = FrequencyTypes.QUARTERLY\n",
    "fixed_dc_type = DayCountTypes.THIRTY_360_BOND\n",
    "\n",
    "float_spread = 0.0\n",
    "float_freq_type = FrequencyTypes.QUARTERLY\n",
    "float_dc_type = DayCountTypes.THIRTY_360_BOND\n",
    "\n",
    "swap_type = SwapTypes.PAY\n",
    "notional = 60000000\n",
    "\n",
    "start_dt = Date(1, 4, 2024)\n",
    "maturity_dt = start_dt.add_years(1.75)\n",
    "\n",
    "swap = IborSwap(start_dt,\n",
    "                maturity_dt,\n",
    "                swap_type,\n",
    "                fixed_cpn,\n",
    "                fixed_freq_type,\n",
    "                fixed_dc_type,\n",
    "                notional,\n",
    "                float_spread,\n",
    "                float_freq_type,\n",
    "                float_dc_type,\n",
    "                swap_cal_type,\n",
    "                bd_type,\n",
    "                dg_type)\n"
   ],
   "id": "1ebf43316efee835",
   "outputs": [],
   "execution_count": 23
  },
  {
   "metadata": {
    "ExecuteTime": {
     "end_time": "2025-05-23T03:01:38.542275Z",
     "start_time": "2025-05-23T03:01:38.537531Z"
    }
   },
   "cell_type": "code",
   "source": [
    "value_date= dt.datetime(2024,3,31)\n",
    "value_dt = from_datetime(value_date)\n",
    "\n",
    "settle_dt = value_dt.add_weekdays(0)\n",
    "# settle_dt=value_dt\n",
    "settle_dt"
   ],
   "id": "8e46f142f3cba5d7",
   "outputs": [
    {
     "data": {
      "text/plain": [
       "31-MAR-2024"
      ]
     },
     "execution_count": 24,
     "metadata": {},
     "output_type": "execute_result"
    }
   ],
   "execution_count": 24
  },
  {
   "metadata": {
    "ExecuteTime": {
     "end_time": "2025-05-23T03:01:38.569014Z",
     "start_time": "2025-05-23T03:01:38.564129Z"
    }
   },
   "cell_type": "code",
   "source": [
    "# 书中曲线\n",
    "# yield_curve=[i/100 for i in [0.75,1.1853,1.6822,2.1474,2.4371,2.7390,3.0198]]\n",
    "# zero_dts=value_dt.add_years([0.25,0.5,0.75,1.0,1.25,1.5,1.75])\n",
    "\n",
    "\n",
    "yield_curve=[i/100 for i in [0.75,1.1853,1.6822,2.1474,2.4371,2.7390,3.0198]]\n",
    "zero_dts=value_dt.add_years([0.25,0.5,0.75,1.0,1.25,1.5,1.75])\n",
    "\n",
    "zero_curve = DiscountCurveZeros(value_dt=value_dt,\n",
    "                                zero_dts=zero_dts,\n",
    "                                zero_rates=yield_curve,\n",
    "                                freq_type=FrequencyTypes.QUARTERLY,\n",
    "                                dc_type=DayCountTypes.THIRTY_360_BOND,\n",
    "                                interp_type=InterpTypes.FINCUBIC_ZERO_RATES\n",
    "                                )"
   ],
   "id": "290b7a06932da41d",
   "outputs": [],
   "execution_count": 25
  },
  {
   "metadata": {
    "ExecuteTime": {
     "end_time": "2025-05-23T03:01:38.585724Z",
     "start_time": "2025-05-23T03:01:38.579955Z"
    }
   },
   "cell_type": "code",
   "source": "swap.swap_rate(value_dt, zero_curve)",
   "id": "7bb1613d5e865838",
   "outputs": [
    {
     "data": {
      "text/plain": [
       "0.030065619962567392"
      ]
     },
     "execution_count": 26,
     "metadata": {},
     "output_type": "execute_result"
    }
   ],
   "execution_count": 26
  },
  {
   "metadata": {
    "ExecuteTime": {
     "end_time": "2025-05-23T03:01:38.610747Z",
     "start_time": "2025-05-23T03:01:38.606021Z"
    }
   },
   "cell_type": "code",
   "source": "swap.value(settle_dt, zero_curve)",
   "id": "e2fabe76f4bbdf2d",
   "outputs": [
    {
     "data": {
      "text/plain": [
       "-404094.769553849"
      ]
     },
     "execution_count": 27,
     "metadata": {},
     "output_type": "execute_result"
    }
   ],
   "execution_count": 27
  },
  {
   "metadata": {
    "ExecuteTime": {
     "end_time": "2025-05-23T03:01:38.645126Z",
     "start_time": "2025-05-23T03:01:38.640384Z"
    }
   },
   "cell_type": "code",
   "source": "swap.payer_side_macaulay_duration(value_dt,zero_curve,8)",
   "id": "3f988f26e6662203",
   "outputs": [
    {
     "data": {
      "text/plain": [
       "-6.794198629548404"
      ]
     },
     "execution_count": 28,
     "metadata": {},
     "output_type": "execute_result"
    }
   ],
   "execution_count": 28
  },
  {
   "metadata": {
    "ExecuteTime": {
     "end_time": "2025-05-23T03:01:38.686342Z",
     "start_time": "2025-05-23T03:01:38.681347Z"
    }
   },
   "cell_type": "code",
   "source": "swap.receiver_side_macaulay_duration(value_dt, zero_curve,8)",
   "id": "96d568f7a71861fe",
   "outputs": [
    {
     "data": {
      "text/plain": [
       "6.794198629548404"
      ]
     },
     "execution_count": 29,
     "metadata": {},
     "output_type": "execute_result"
    }
   ],
   "execution_count": 29
  },
  {
   "metadata": {
    "ExecuteTime": {
     "end_time": "2025-05-23T03:01:38.722907Z",
     "start_time": "2025-05-23T03:01:38.717909Z"
    }
   },
   "cell_type": "code",
   "source": "swap.payer_side_modified_duration(value_dt, zero_curve,8)",
   "id": "ec2187c7336c1bc3",
   "outputs": [
    {
     "data": {
      "text/plain": [
       "-6.743511664816526"
      ]
     },
     "execution_count": 30,
     "metadata": {},
     "output_type": "execute_result"
    }
   ],
   "execution_count": 30
  },
  {
   "metadata": {
    "ExecuteTime": {
     "end_time": "2025-05-23T03:01:38.756278Z",
     "start_time": "2025-05-23T03:01:38.751727Z"
    }
   },
   "cell_type": "code",
   "source": "swap.receiver_side_modified_duration(value_dt, zero_curve,8)",
   "id": "2c1b845afaf5e18f",
   "outputs": [
    {
     "data": {
      "text/plain": [
       "6.743511664816526"
      ]
     },
     "execution_count": 31,
     "metadata": {},
     "output_type": "execute_result"
    }
   ],
   "execution_count": 31
  },
  {
   "metadata": {
    "ExecuteTime": {
     "end_time": "2025-05-23T03:01:38.790007Z",
     "start_time": "2025-05-23T03:01:38.786002Z"
    }
   },
   "cell_type": "code",
   "source": "swap.print_payments()",
   "id": "2af7c95b07730dda",
   "outputs": [
    {
     "name": "stdout",
     "output_type": "stream",
     "text": [
      "START DATE: 01-APR-2024\n",
      "MATURITY DATE: 02-JAN-2026\n",
      "COUPON (%): 3.4000000000000004\n",
      "FREQUENCY: FrequencyTypes.QUARTERLY\n",
      "DAY COUNT: DayCountTypes.THIRTY_360_BOND\n",
      "\n",
      "PAYMENTS SCHEDULE:\n",
      "+---------+-------------+-------------+-------------+------+----------+------+-----------+\n",
      "| PAY_NUM |    PAY_dt   |  ACCR_START |   ACCR_END  | DAYS | YEARFRAC | RATE |    PMNT   |\n",
      "+---------+-------------+-------------+-------------+------+----------+------+-----------+\n",
      "|    1    | 01-JUL-2024 | 01-APR-2024 | 01-JUL-2024 |  90  |   0.25   | 3.4  |  510000.0 |\n",
      "|    2    | 01-OCT-2024 | 01-JUL-2024 | 01-OCT-2024 |  90  |   0.25   | 3.4  |  510000.0 |\n",
      "|    3    | 02-JAN-2025 | 01-OCT-2024 | 02-JAN-2025 |  91  |  0.2528  | 3.4  | 515666.67 |\n",
      "|    4    | 01-APR-2025 | 02-JAN-2025 | 01-APR-2025 |  89  |  0.2472  | 3.4  | 504333.33 |\n",
      "|    5    | 01-JUL-2025 | 01-APR-2025 | 01-JUL-2025 |  90  |   0.25   | 3.4  |  510000.0 |\n",
      "|    6    | 01-OCT-2025 | 01-JUL-2025 | 01-OCT-2025 |  90  |   0.25   | 3.4  |  510000.0 |\n",
      "|    7    | 02-JAN-2026 | 01-OCT-2025 | 02-JAN-2026 |  91  |  0.2528  | 3.4  | 515666.67 |\n",
      "+---------+-------------+-------------+-------------+------+----------+------+-----------+\n",
      "START DATE: 01-APR-2024\n",
      "MATURITY DATE: 02-JAN-2026\n",
      "SPREAD (bp): 0.0\n",
      "FREQUENCY: FrequencyTypes.QUARTERLY\n",
      "DAY COUNT: DayCountTypes.THIRTY_360_BOND\n",
      "\n",
      "PAYMENTS SCHEDULE:\n",
      "+---------+-------------+-------------+-------------+------+----------+\n",
      "| PAY_NUM |    PAY_dt   |  ACCR_START |   ACCR_END  | DAYS | YEARFRAC |\n",
      "+---------+-------------+-------------+-------------+------+----------+\n",
      "|    1    | 01-JUL-2024 | 01-APR-2024 | 01-JUL-2024 |  90  |   0.25   |\n",
      "|    2    | 01-OCT-2024 | 01-JUL-2024 | 01-OCT-2024 |  90  |   0.25   |\n",
      "|    3    | 02-JAN-2025 | 01-OCT-2024 | 02-JAN-2025 |  91  |  0.2528  |\n",
      "|    4    | 01-APR-2025 | 02-JAN-2025 | 01-APR-2025 |  89  |  0.2472  |\n",
      "|    5    | 01-JUL-2025 | 01-APR-2025 | 01-JUL-2025 |  90  |   0.25   |\n",
      "|    6    | 01-OCT-2025 | 01-JUL-2025 | 01-OCT-2025 |  90  |   0.25   |\n",
      "|    7    | 02-JAN-2026 | 01-OCT-2025 | 02-JAN-2026 |  91  |  0.2528  |\n",
      "+---------+-------------+-------------+-------------+------+----------+\n"
     ]
    }
   ],
   "execution_count": 32
  },
  {
   "metadata": {
    "ExecuteTime": {
     "end_time": "2025-05-23T03:01:38.821049Z",
     "start_time": "2025-05-23T03:01:38.816897Z"
    }
   },
   "cell_type": "code",
   "source": "swap.print_float_leg_pv()",
   "id": "1c960526153c2223",
   "outputs": [
    {
     "name": "stdout",
     "output_type": "stream",
     "text": [
      "START DATE: 01-APR-2024\n",
      "MATURITY DATE: 02-JAN-2026\n",
      "SPREAD (BPS): 0.0\n",
      "FREQUENCY: FrequencyTypes.QUARTERLY\n",
      "DAY COUNT: DayCountTypes.THIRTY_360_BOND\n",
      "\n",
      "PAYMENTS VALUATION:\n",
      "+---------+-------------+----------+--------+-----------+--------+-----------+------------+\n",
      "| PAY_NUM |    PAY_dt   | NOTIONAL |  IBOR  |    PMNT   |   DF   |     PV    |   CUM_PV   |\n",
      "+---------+-------------+----------+--------+-----------+--------+-----------+------------+\n",
      "|    1    | 01-JUL-2024 | 60000000 | 0.7529 | 112935.42 | 0.9981 | 112722.26 | 112722.26  |\n",
      "|    2    | 01-OCT-2024 | 60000000 | 1.6379 | 245686.53 | 0.994  | 244222.77 | 356945.03  |\n",
      "|    3    | 02-JAN-2025 | 60000000 | 2.7131 | 411480.71 | 0.9873 | 406243.16 | 763188.19  |\n",
      "|    4    | 01-APR-2025 | 60000000 | 3.5062 | 520087.02 | 0.9788 | 509054.52 | 1272242.71 |\n",
      "|    5    | 01-JUL-2025 | 60000000 | 3.588  | 538192.75 | 0.9701 | 522093.07 | 1794335.78 |\n",
      "|    6    | 01-OCT-2025 | 60000000 | 4.293  | 643955.16 | 0.9598 |  618058.3 | 2412394.08 |\n",
      "|    7    | 02-JAN-2026 | 60000000 | 4.6963 | 712268.76 | 0.9485 | 675604.45 | 3087998.53 |\n",
      "+---------+-------------+----------+--------+-----------+--------+-----------+------------+\n"
     ]
    }
   ],
   "execution_count": 33
  },
  {
   "metadata": {
    "ExecuteTime": {
     "end_time": "2025-05-23T03:01:38.907291Z",
     "start_time": "2025-05-23T03:01:38.903054Z"
    }
   },
   "cell_type": "code",
   "source": "swap.print_fixed_leg_pv()",
   "id": "5037651021a91d38",
   "outputs": [
    {
     "name": "stdout",
     "output_type": "stream",
     "text": [
      "START DATE: 01-APR-2024\n",
      "MATURITY DATE: 02-JAN-2026\n",
      "COUPON (%): 3.4000000000000004\n",
      "FREQUENCY: FrequencyTypes.QUARTERLY\n",
      "DAY COUNT: DayCountTypes.THIRTY_360_BOND\n",
      "\n",
      "PAYMENTS VALUATION:\n",
      "+---------+-------------+----------+------+-----------+--------+-----------+------------+\n",
      "| PAY_NUM |    PAY_dt   | NOTIONAL | RATE |    PMNT   |   DF   |     PV    |   CUM_PV   |\n",
      "+---------+-------------+----------+------+-----------+--------+-----------+------------+\n",
      "|    1    | 01-JUL-2024 | 60000000 | 3.4  |  510000.0 | 0.9981 |  509037.4 |  509037.4  |\n",
      "|    2    | 01-OCT-2024 | 60000000 | 3.4  |  510000.0 | 0.994  | 506961.51 | 1015998.91 |\n",
      "|    3    | 02-JAN-2025 | 60000000 | 3.4  | 515666.67 | 0.9873 | 509102.98 | 1525101.88 |\n",
      "|    4    | 01-APR-2025 | 60000000 | 3.4  | 504333.33 | 0.9788 | 493635.02 | 2018736.9  |\n",
      "|    5    | 01-JUL-2025 | 60000000 | 3.4  |  510000.0 | 0.9701 | 494743.69 | 2513480.58 |\n",
      "|    6    | 01-OCT-2025 | 60000000 | 3.4  |  510000.0 | 0.9598 | 489490.19 | 3002970.77 |\n",
      "|    7    | 02-JAN-2026 | 60000000 | 3.4  | 515666.67 | 0.9485 | 489122.52 | 3492093.3  |\n",
      "+---------+-------------+----------+------+-----------+--------+-----------+------------+\n"
     ]
    }
   ],
   "execution_count": 34
  },
  {
   "metadata": {
    "ExecuteTime": {
     "end_time": "2025-05-23T03:01:39.014637Z",
     "start_time": "2025-05-23T03:01:39.009932Z"
    }
   },
   "cell_type": "code",
   "source": [
    "payment_periods=8\n",
    "swap_rate_changes=-0.004\n",
    "swap.payer_side_profits(value_dt, zero_curve,payment_periods,swap_rate_changes)"
   ],
   "id": "5ef5f29ad5dfad00",
   "outputs": [
    {
     "data": {
      "text/plain": [
       "-404610.6998889916"
      ]
     },
     "execution_count": 35,
     "metadata": {},
     "output_type": "execute_result"
    }
   ],
   "execution_count": 35
  },
  {
   "metadata": {
    "ExecuteTime": {
     "end_time": "2025-05-23T03:01:39.056730Z",
     "start_time": "2025-05-23T03:01:39.050609Z"
    }
   },
   "cell_type": "code",
   "source": "swap.receiver_side_profits(value_dt, zero_curve,payment_periods,swap_rate_changes)",
   "id": "11109a6f2da7b7dc",
   "outputs": [
    {
     "data": {
      "text/plain": [
       "404610.6998889916"
      ]
     },
     "execution_count": 36,
     "metadata": {},
     "output_type": "execute_result"
    }
   ],
   "execution_count": 36
  },
  {
   "metadata": {
    "ExecuteTime": {
     "end_time": "2025-05-23T03:01:39.100675Z",
     "start_time": "2025-05-23T03:01:39.095809Z"
    }
   },
   "cell_type": "code",
   "source": "swap.payer_side_BPV(value_dt, zero_curve,payment_periods)",
   "id": "a4c532a9a90b445c",
   "outputs": [
    {
     "data": {
      "text/plain": [
       "-40461.06998889916"
      ]
     },
     "execution_count": 37,
     "metadata": {},
     "output_type": "execute_result"
    }
   ],
   "execution_count": 37
  },
  {
   "metadata": {
    "jupyter": {
     "is_executing": true
    },
    "ExecuteTime": {
     "start_time": "2025-05-23T03:01:55.128551Z"
    }
   },
   "cell_type": "code",
   "source": "swap.receiver_side_BPV(value_dt, zero_curve,payment_periods)",
   "id": "8f8630e90883e3b5",
   "outputs": [],
   "execution_count": null
  }
 ],
 "metadata": {
  "kernelspec": {
   "display_name": "Python 3",
   "language": "python",
   "name": "python3"
  },
  "language_info": {
   "codemirror_mode": {
    "name": "ipython",
    "version": 2
   },
   "file_extension": ".py",
   "mimetype": "text/x-python",
   "name": "python",
   "nbconvert_exporter": "python",
   "pygments_lexer": "ipython2",
   "version": "2.7.6"
  }
 },
 "nbformat": 4,
 "nbformat_minor": 5
}
