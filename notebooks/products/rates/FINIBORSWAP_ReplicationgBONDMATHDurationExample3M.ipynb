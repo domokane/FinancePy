{
 "cells": [
  {
   "cell_type": "code",
   "id": "initial_id",
   "metadata": {
    "collapsed": true,
    "ExecuteTime": {
     "end_time": "2025-05-23T02:31:22.631355Z",
     "start_time": "2025-05-23T02:31:22.625849Z"
    }
   },
   "source": [
    "from financepy.utils import *\n",
    "from financepy.products.rates import *\n",
    "from financepy.market.curves import *\n",
    "import datetime as dt"
   ],
   "outputs": [],
   "execution_count": 2
  },
  {
   "metadata": {
    "ExecuteTime": {
     "end_time": "2025-05-23T02:31:22.679560Z",
     "start_time": "2025-05-23T02:31:22.657680Z"
    }
   },
   "cell_type": "code",
   "source": [
    "swap_cal_type = CalendarTypes.TARGET\n",
    "bd_type = BusDayAdjustTypes.FOLLOWING\n",
    "dg_type = DateGenRuleTypes.BACKWARD\n",
    "\n",
    "\n",
    "fixed_cpn = 0.034\n",
    "fixed_freq_type = FrequencyTypes.QUARTERLY\n",
    "fixed_dc_type = DayCountTypes.THIRTY_360_BOND\n",
    "\n",
    "float_spread = 0.0\n",
    "float_freq_type = FrequencyTypes.QUARTERLY\n",
    "float_dc_type = DayCountTypes.THIRTY_360_BOND\n",
    "\n",
    "swap_type = SwapTypes.PAY\n",
    "notional = 60000000\n",
    "\n",
    "start_dt = Date(1, 4, 2024)\n",
    "maturity_dt = start_dt.add_years(1.75)\n",
    "\n",
    "swap = IborSwap(start_dt,\n",
    "                maturity_dt,\n",
    "                swap_type,\n",
    "                fixed_cpn,\n",
    "                fixed_freq_type,\n",
    "                fixed_dc_type,\n",
    "                notional,\n",
    "                float_spread,\n",
    "                float_freq_type,\n",
    "                float_dc_type,\n",
    "                swap_cal_type,\n",
    "                bd_type,\n",
    "                dg_type)\n"
   ],
   "id": "1ebf43316efee835",
   "outputs": [],
   "execution_count": 3
  },
  {
   "metadata": {
    "ExecuteTime": {
     "end_time": "2025-05-23T02:31:22.694667Z",
     "start_time": "2025-05-23T02:31:22.687165Z"
    }
   },
   "cell_type": "code",
   "source": [
    "value_date= dt.datetime(2024,3,31)\n",
    "value_dt = from_datetime(value_date)\n",
    "\n",
    "settle_dt = value_dt.add_weekdays(0)\n",
    "# settle_dt=value_dt\n",
    "settle_dt"
   ],
   "id": "8e46f142f3cba5d7",
   "outputs": [
    {
     "data": {
      "text/plain": [
       "31-MAR-2024"
      ]
     },
     "execution_count": 4,
     "metadata": {},
     "output_type": "execute_result"
    }
   ],
   "execution_count": 4
  },
  {
   "metadata": {
    "ExecuteTime": {
     "end_time": "2025-05-23T02:31:22.727011Z",
     "start_time": "2025-05-23T02:31:22.719602Z"
    }
   },
   "cell_type": "code",
   "source": [
    "# 书中曲线\n",
    "# yield_curve=[i/100 for i in [0.75,1.1853,1.6822,2.1474,2.4371,2.7390,3.0198]]\n",
    "# zero_dts=value_dt.add_years([0.25,0.5,0.75,1.0,1.25,1.5,1.75])\n",
    "\n",
    "\n",
    "yield_curve=[i/100 for i in [0.75,1.1853,1.6822,2.1474,2.4371,2.7390,3.0198]]\n",
    "zero_dts=value_dt.add_years([0.25,0.5,0.75,1.0,1.25,1.5,1.75])\n",
    "\n",
    "zero_curve = DiscountCurveZeros(value_dt=value_dt,\n",
    "                                zero_dts=zero_dts,\n",
    "                                zero_rates=yield_curve,\n",
    "                                freq_type=FrequencyTypes.QUARTERLY,\n",
    "                                dc_type=DayCountTypes.THIRTY_360_BOND,\n",
    "                                interp_type=InterpTypes.FINCUBIC_ZERO_RATES\n",
    "                                )"
   ],
   "id": "290b7a06932da41d",
   "outputs": [],
   "execution_count": 5
  },
  {
   "metadata": {
    "ExecuteTime": {
     "end_time": "2025-05-23T02:31:22.746919Z",
     "start_time": "2025-05-23T02:31:22.739589Z"
    }
   },
   "cell_type": "code",
   "source": "swap.swap_rate(value_dt, zero_curve)",
   "id": "7bb1613d5e865838",
   "outputs": [
    {
     "data": {
      "text/plain": [
       "0.030065619962567392"
      ]
     },
     "execution_count": 6,
     "metadata": {},
     "output_type": "execute_result"
    }
   ],
   "execution_count": 6
  },
  {
   "metadata": {
    "ExecuteTime": {
     "end_time": "2025-05-23T02:31:22.765913Z",
     "start_time": "2025-05-23T02:31:22.759349Z"
    }
   },
   "cell_type": "code",
   "source": "swap.value(settle_dt, zero_curve)",
   "id": "e2fabe76f4bbdf2d",
   "outputs": [
    {
     "data": {
      "text/plain": [
       "-404094.769553849"
      ]
     },
     "execution_count": 7,
     "metadata": {},
     "output_type": "execute_result"
    }
   ],
   "execution_count": 7
  },
  {
   "metadata": {
    "ExecuteTime": {
     "end_time": "2025-05-23T02:31:22.784960Z",
     "start_time": "2025-05-23T02:31:22.779808Z"
    }
   },
   "cell_type": "code",
   "source": "swap.payer_side_macaulay_duration(value_dt,zero_curve,8)",
   "id": "3f988f26e6662203",
   "outputs": [
    {
     "data": {
      "text/plain": [
       "-6.794198629548404"
      ]
     },
     "execution_count": 8,
     "metadata": {},
     "output_type": "execute_result"
    }
   ],
   "execution_count": 8
  },
  {
   "metadata": {
    "ExecuteTime": {
     "end_time": "2025-05-23T02:31:22.817161Z",
     "start_time": "2025-05-23T02:31:22.812093Z"
    }
   },
   "cell_type": "code",
   "source": "swap.receiver_side_macaulay_duration(value_dt, zero_curve,8)",
   "id": "96d568f7a71861fe",
   "outputs": [
    {
     "data": {
      "text/plain": [
       "6.794198629548404"
      ]
     },
     "execution_count": 9,
     "metadata": {},
     "output_type": "execute_result"
    }
   ],
   "execution_count": 9
  },
  {
   "metadata": {
    "ExecuteTime": {
     "end_time": "2025-05-23T02:31:22.858301Z",
     "start_time": "2025-05-23T02:31:22.853154Z"
    }
   },
   "cell_type": "code",
   "source": "swap.payer_side_modified_duration(value_dt, zero_curve,8)",
   "id": "ec2187c7336c1bc3",
   "outputs": [
    {
     "data": {
      "text/plain": [
       "-6.743511664816526"
      ]
     },
     "execution_count": 10,
     "metadata": {},
     "output_type": "execute_result"
    }
   ],
   "execution_count": 10
  },
  {
   "metadata": {
    "ExecuteTime": {
     "end_time": "2025-05-23T02:31:22.894478Z",
     "start_time": "2025-05-23T02:31:22.889858Z"
    }
   },
   "cell_type": "code",
   "source": "swap.receiver_side_modified_duration(value_dt, zero_curve,8)",
   "id": "2c1b845afaf5e18f",
   "outputs": [
    {
     "data": {
      "text/plain": [
       "6.743511664816526"
      ]
     },
     "execution_count": 11,
     "metadata": {},
     "output_type": "execute_result"
    }
   ],
   "execution_count": 11
  },
  {
   "metadata": {
    "ExecuteTime": {
     "end_time": "2025-05-23T02:31:22.942622Z",
     "start_time": "2025-05-23T02:31:22.937046Z"
    }
   },
   "cell_type": "code",
   "source": "swap.print_payments()",
   "id": "2af7c95b07730dda",
   "outputs": [
    {
     "name": "stdout",
     "output_type": "stream",
     "text": [
      "START DATE: 01-APR-2024\n",
      "MATURITY DATE: 02-JAN-2026\n",
      "COUPON (%): 3.4000000000000004\n",
      "FREQUENCY: FrequencyTypes.QUARTERLY\n",
      "DAY COUNT: DayCountTypes.THIRTY_360_BOND\n",
      "\n",
      "PAYMENTS SCHEDULE:\n",
      "+---------+-------------+-------------+-------------+------+----------+------+-----------+\n",
      "| PAY_NUM |    PAY_dt   |  ACCR_START |   ACCR_END  | DAYS | YEARFRAC | RATE |    PMNT   |\n",
      "+---------+-------------+-------------+-------------+------+----------+------+-----------+\n",
      "|    1    | 01-JUL-2024 | 01-APR-2024 | 01-JUL-2024 |  90  |   0.25   | 3.4  |  510000.0 |\n",
      "|    2    | 01-OCT-2024 | 01-JUL-2024 | 01-OCT-2024 |  90  |   0.25   | 3.4  |  510000.0 |\n",
      "|    3    | 02-JAN-2025 | 01-OCT-2024 | 02-JAN-2025 |  91  |  0.2528  | 3.4  | 515666.67 |\n",
      "|    4    | 01-APR-2025 | 02-JAN-2025 | 01-APR-2025 |  89  |  0.2472  | 3.4  | 504333.33 |\n",
      "|    5    | 01-JUL-2025 | 01-APR-2025 | 01-JUL-2025 |  90  |   0.25   | 3.4  |  510000.0 |\n",
      "|    6    | 01-OCT-2025 | 01-JUL-2025 | 01-OCT-2025 |  90  |   0.25   | 3.4  |  510000.0 |\n",
      "|    7    | 02-JAN-2026 | 01-OCT-2025 | 02-JAN-2026 |  91  |  0.2528  | 3.4  | 515666.67 |\n",
      "+---------+-------------+-------------+-------------+------+----------+------+-----------+\n",
      "START DATE: 01-APR-2024\n",
      "MATURITY DATE: 02-JAN-2026\n",
      "SPREAD (bp): 0.0\n",
      "FREQUENCY: FrequencyTypes.QUARTERLY\n",
      "DAY COUNT: DayCountTypes.THIRTY_360_BOND\n",
      "\n",
      "PAYMENTS SCHEDULE:\n",
      "+---------+-------------+-------------+-------------+------+----------+\n",
      "| PAY_NUM |    PAY_dt   |  ACCR_START |   ACCR_END  | DAYS | YEARFRAC |\n",
      "+---------+-------------+-------------+-------------+------+----------+\n",
      "|    1    | 01-JUL-2024 | 01-APR-2024 | 01-JUL-2024 |  90  |   0.25   |\n",
      "|    2    | 01-OCT-2024 | 01-JUL-2024 | 01-OCT-2024 |  90  |   0.25   |\n",
      "|    3    | 02-JAN-2025 | 01-OCT-2024 | 02-JAN-2025 |  91  |  0.2528  |\n",
      "|    4    | 01-APR-2025 | 02-JAN-2025 | 01-APR-2025 |  89  |  0.2472  |\n",
      "|    5    | 01-JUL-2025 | 01-APR-2025 | 01-JUL-2025 |  90  |   0.25   |\n",
      "|    6    | 01-OCT-2025 | 01-JUL-2025 | 01-OCT-2025 |  90  |   0.25   |\n",
      "|    7    | 02-JAN-2026 | 01-OCT-2025 | 02-JAN-2026 |  91  |  0.2528  |\n",
      "+---------+-------------+-------------+-------------+------+----------+\n"
     ]
    }
   ],
   "execution_count": 12
  },
  {
   "metadata": {
    "ExecuteTime": {
     "end_time": "2025-05-23T02:31:22.977499Z",
     "start_time": "2025-05-23T02:31:22.971711Z"
    }
   },
   "cell_type": "code",
   "source": "swap.print_float_leg_pv()",
   "id": "1c960526153c2223",
   "outputs": [
    {
     "name": "stdout",
     "output_type": "stream",
     "text": [
      "START DATE: 01-APR-2024\n",
      "MATURITY DATE: 02-JAN-2026\n",
      "SPREAD (BPS): 0.0\n",
      "FREQUENCY: FrequencyTypes.QUARTERLY\n",
      "DAY COUNT: DayCountTypes.THIRTY_360_BOND\n",
      "\n",
      "PAYMENTS VALUATION:\n",
      "+---------+-------------+----------+--------+-----------+--------+-----------+------------+\n",
      "| PAY_NUM |    PAY_dt   | NOTIONAL |  IBOR  |    PMNT   |   DF   |     PV    |   CUM_PV   |\n",
      "+---------+-------------+----------+--------+-----------+--------+-----------+------------+\n",
      "|    1    | 01-JUL-2024 | 60000000 | 0.7529 | 112935.42 | 0.9981 | 112722.26 | 112722.26  |\n",
      "|    2    | 01-OCT-2024 | 60000000 | 1.6379 | 245686.53 | 0.994  | 244222.77 | 356945.03  |\n",
      "|    3    | 02-JAN-2025 | 60000000 | 2.7131 | 411480.71 | 0.9873 | 406243.16 | 763188.19  |\n",
      "|    4    | 01-APR-2025 | 60000000 | 3.5062 | 520087.02 | 0.9788 | 509054.52 | 1272242.71 |\n",
      "|    5    | 01-JUL-2025 | 60000000 | 3.588  | 538192.75 | 0.9701 | 522093.07 | 1794335.78 |\n",
      "|    6    | 01-OCT-2025 | 60000000 | 4.293  | 643955.16 | 0.9598 |  618058.3 | 2412394.08 |\n",
      "|    7    | 02-JAN-2026 | 60000000 | 4.6963 | 712268.76 | 0.9485 | 675604.45 | 3087998.53 |\n",
      "+---------+-------------+----------+--------+-----------+--------+-----------+------------+\n"
     ]
    }
   ],
   "execution_count": 13
  },
  {
   "metadata": {
    "ExecuteTime": {
     "end_time": "2025-05-23T02:31:23.015658Z",
     "start_time": "2025-05-23T02:31:23.010172Z"
    }
   },
   "cell_type": "code",
   "source": "swap.print_fixed_leg_pv()",
   "id": "5037651021a91d38",
   "outputs": [
    {
     "name": "stdout",
     "output_type": "stream",
     "text": [
      "START DATE: 01-APR-2024\n",
      "MATURITY DATE: 02-JAN-2026\n",
      "COUPON (%): 3.4000000000000004\n",
      "FREQUENCY: FrequencyTypes.QUARTERLY\n",
      "DAY COUNT: DayCountTypes.THIRTY_360_BOND\n",
      "\n",
      "PAYMENTS VALUATION:\n",
      "+---------+-------------+----------+------+-----------+--------+-----------+------------+\n",
      "| PAY_NUM |    PAY_dt   | NOTIONAL | RATE |    PMNT   |   DF   |     PV    |   CUM_PV   |\n",
      "+---------+-------------+----------+------+-----------+--------+-----------+------------+\n",
      "|    1    | 01-JUL-2024 | 60000000 | 3.4  |  510000.0 | 0.9981 |  509037.4 |  509037.4  |\n",
      "|    2    | 01-OCT-2024 | 60000000 | 3.4  |  510000.0 | 0.994  | 506961.51 | 1015998.91 |\n",
      "|    3    | 02-JAN-2025 | 60000000 | 3.4  | 515666.67 | 0.9873 | 509102.98 | 1525101.88 |\n",
      "|    4    | 01-APR-2025 | 60000000 | 3.4  | 504333.33 | 0.9788 | 493635.02 | 2018736.9  |\n",
      "|    5    | 01-JUL-2025 | 60000000 | 3.4  |  510000.0 | 0.9701 | 494743.69 | 2513480.58 |\n",
      "|    6    | 01-OCT-2025 | 60000000 | 3.4  |  510000.0 | 0.9598 | 489490.19 | 3002970.77 |\n",
      "|    7    | 02-JAN-2026 | 60000000 | 3.4  | 515666.67 | 0.9485 | 489122.52 | 3492093.3  |\n",
      "+---------+-------------+----------+------+-----------+--------+-----------+------------+\n"
     ]
    }
   ],
   "execution_count": 14
  },
  {
   "metadata": {
    "ExecuteTime": {
     "end_time": "2025-05-23T02:31:23.043840Z",
     "start_time": "2025-05-23T02:31:23.039172Z"
    }
   },
   "cell_type": "code",
   "source": "swap.payer_side_profits(value_dt, zero_curve,8,-0.004)",
   "id": "5ef5f29ad5dfad00",
   "outputs": [
    {
     "data": {
      "text/plain": [
       "-404610.6998889916"
      ]
     },
     "execution_count": 15,
     "metadata": {},
     "output_type": "execute_result"
    }
   ],
   "execution_count": 15
  }
 ],
 "metadata": {
  "kernelspec": {
   "display_name": "Python 3",
   "language": "python",
   "name": "python3"
  },
  "language_info": {
   "codemirror_mode": {
    "name": "ipython",
    "version": 2
   },
   "file_extension": ".py",
   "mimetype": "text/x-python",
   "name": "python",
   "nbconvert_exporter": "python",
   "pygments_lexer": "ipython2",
   "version": "2.7.6"
  }
 },
 "nbformat": 4,
 "nbformat_minor": 5
}
