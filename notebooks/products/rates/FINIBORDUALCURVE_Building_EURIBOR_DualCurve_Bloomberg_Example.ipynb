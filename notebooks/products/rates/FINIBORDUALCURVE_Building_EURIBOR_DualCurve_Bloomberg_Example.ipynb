{
    "cells": [
        {
            "cell_type": "markdown",
            "metadata": {},
            "source": [
                "# Building a Euribor Dual Curve and Valuing a Swap - Bloomberg Example"
            ]
        },
        {
            "cell_type": "markdown",
            "metadata": {},
            "source": [
                "We build an OIS curve from OIS swaps that include forward starting OIS using MM dates."
            ]
        },
        {
            "cell_type": "code",
            "execution_count": 1,
            "metadata": {
                "execution": {
                    "iopub.execute_input": "2024-04-30T20:22:24.661818Z",
                    "iopub.status.busy": "2024-04-30T20:22:24.660831Z",
                    "iopub.status.idle": "2024-04-30T20:22:25.275343Z",
                    "shell.execute_reply": "2024-04-30T20:22:25.275343Z"
                }
            },
            "outputs": [],
            "source": [
                "import numpy as np\n",
                "import matplotlib.pyplot as plt"
            ]
        },
        {
            "cell_type": "code",
            "execution_count": 2,
            "metadata": {
                "execution": {
                    "iopub.execute_input": "2024-04-30T20:22:25.278373Z",
                    "iopub.status.busy": "2024-04-30T20:22:25.277375Z",
                    "iopub.status.idle": "2024-04-30T20:22:26.678866Z",
                    "shell.execute_reply": "2024-04-30T20:22:26.678332Z"
                }
            },
            "outputs": [
                {
                    "name": "stdout",
                    "output_type": "stream",
                    "text": [
                        "####################################################################\n",
                        "#  FINANCEPY BETA Version 0.350 - This build: 30 Apr 2024 at 21:20 #\n",
                        "#     This software is distributed FREE AND WITHOUT ANY WARRANTY   #\n",
                        "#  Report bugs as issues at https://github.com/domokane/FinancePy  #\n",
                        "####################################################################\n",
                        "\n"
                    ]
                }
            ],
            "source": [
                "from financepy.utils import *\n",
                "from financepy.products.rates import *"
            ]
        },
        {
            "cell_type": "code",
            "execution_count": 3,
            "metadata": {
                "execution": {
                    "iopub.execute_input": "2024-04-30T20:22:26.681450Z",
                    "iopub.status.busy": "2024-04-30T20:22:26.681450Z",
                    "iopub.status.idle": "2024-04-30T20:22:26.701413Z",
                    "shell.execute_reply": "2024-04-30T20:22:26.700887Z"
                }
            },
            "outputs": [],
            "source": [
                "value_dt = Date(26, 10, 2020)"
            ]
        },
        {
            "cell_type": "code",
            "execution_count": 4,
            "metadata": {
                "execution": {
                    "iopub.execute_input": "2024-04-30T20:22:26.703516Z",
                    "iopub.status.busy": "2024-04-30T20:22:26.703516Z",
                    "iopub.status.idle": "2024-04-30T20:22:26.713611Z",
                    "shell.execute_reply": "2024-04-30T20:22:26.713611Z"
                }
            },
            "outputs": [
                {
                    "data": {
                        "text/plain": [
                            "29-OCT-2020"
                        ]
                    },
                    "execution_count": 4,
                    "metadata": {},
                    "output_type": "execute_result"
                }
            ],
            "source": [
                "value_dt.add_weekdays(2).add_tenor(\"1D\")"
            ]
        },
        {
            "cell_type": "code",
            "execution_count": 5,
            "metadata": {
                "execution": {
                    "iopub.execute_input": "2024-04-30T20:22:26.715646Z",
                    "iopub.status.busy": "2024-04-30T20:22:26.715646Z",
                    "iopub.status.idle": "2024-04-30T20:22:26.718429Z",
                    "shell.execute_reply": "2024-04-30T20:22:26.718429Z"
                }
            },
            "outputs": [],
            "source": [
                "interp_type = InterpTypes.LINEAR_ZERO_RATES"
            ]
        },
        {
            "cell_type": "markdown",
            "metadata": {},
            "source": [
                "## Building the Discounting OIS Curve"
            ]
        },
        {
            "cell_type": "markdown",
            "metadata": {},
            "source": [
                "We construct the OIS curve from a series of swaps, some forward starting. The default assumption on the floating leg is annual payments."
            ]
        },
        {
            "cell_type": "code",
            "execution_count": 6,
            "metadata": {
                "execution": {
                    "iopub.execute_input": "2024-04-30T20:22:26.720462Z",
                    "iopub.status.busy": "2024-04-30T20:22:26.720462Z",
                    "iopub.status.idle": "2024-04-30T20:22:26.763736Z",
                    "shell.execute_reply": "2024-04-30T20:22:26.763736Z"
                }
            },
            "outputs": [],
            "source": [
                "cal = CalendarTypes.TARGET\n",
                "\n",
                "depo_dcc_type = DayCountTypes.ACT_360\n",
                "depos = []\n",
                "\n",
                "spot_days = 2\n",
                "settle_dt = value_dt.add_weekdays(spot_days)\n",
                "depo = IborDeposit(settle_dt, \"1D\", -0.46800/100.0, depo_dcc_type, cal_type = cal); depos.append(depo)\n",
                "\n",
                "fras = []\n",
                "\n",
                "swaps = []\n",
                "swap_type = SwapTypes.PAY\n",
                "spot_days = 2\n",
                "settle_dt = value_dt.add_weekdays(spot_days)\n",
                "fixed_dcc_type = DayCountTypes.ACT_360\n",
                "fixed_freq_type = FrequencyTypes.ANNUAL\n",
                "lag = 1 # days\n",
                "\n",
                "# Standard OIS with standard annual terms\n",
                "swap = OIS(settle_dt, \"1W\", swap_type, -0.47000/100.0, fixed_freq_type, fixed_dcc_type, cal_type = cal, payment_lag=lag); swaps.append(swap)\n",
                "swap = OIS(settle_dt, \"2W\", swap_type, -0.47150/100.0, fixed_freq_type, fixed_dcc_type, cal_type = cal, payment_lag=lag); swaps.append(swap)\n",
                "swap = OIS(settle_dt, \"1M\", swap_type, -0.47300/100.0, fixed_freq_type, fixed_dcc_type, cal_type = cal, payment_lag=lag); swaps.append(swap)\n",
                "swap = OIS(settle_dt, \"2M\", swap_type, -0.47700/100.0, fixed_freq_type, fixed_dcc_type, cal_type = cal, payment_lag=lag); swaps.append(swap)\n",
                "swap = OIS(settle_dt, \"3M\", swap_type, -0.48150/100.0, fixed_freq_type, fixed_dcc_type, cal_type = cal, payment_lag=lag); swaps.append(swap)\n",
                "swap = OIS(settle_dt, \"4M\", swap_type, -0.48500/100.0, fixed_freq_type, fixed_dcc_type, cal_type = cal, payment_lag=lag); swaps.append(swap)\n",
                "swap = OIS(settle_dt, \"5M\", swap_type, -0.48900/100.0, fixed_freq_type, fixed_dcc_type, cal_type = cal, payment_lag=lag); swaps.append(swap)\n",
                "swap = OIS(settle_dt, \"6M\", swap_type, -0.49300/100.0, fixed_freq_type, fixed_dcc_type, cal_type = cal, payment_lag=lag); swaps.append(swap)\n",
                "swap = OIS(settle_dt, \"7M\", swap_type, -0.49700/100.0, fixed_freq_type, fixed_dcc_type, cal_type = cal, payment_lag=lag); swaps.append(swap)\n",
                "swap = OIS(settle_dt, \"8M\", swap_type, -0.50065/100.0, fixed_freq_type, fixed_dcc_type, cal_type = cal, payment_lag=lag); swaps.append(swap)\n",
                "swap = OIS(settle_dt, \"9M\", swap_type, -0.50375/100.0, fixed_freq_type, fixed_dcc_type, cal_type = cal, payment_lag=lag); swaps.append(swap)\n",
                "swap = OIS(settle_dt, \"10M\", swap_type, -0.50790/100.0, fixed_freq_type, fixed_dcc_type, cal_type = cal, payment_lag=lag); swaps.append(swap)\n",
                "swap = OIS(settle_dt, \"11M\", swap_type, -0.51100/100.0, fixed_freq_type, fixed_dcc_type, cal_type = cal, payment_lag=lag); swaps.append(swap)\n",
                "swap = OIS(settle_dt, \"12M\", swap_type, -0.51400/100.0, fixed_freq_type, fixed_dcc_type, cal_type = cal, payment_lag=lag); swaps.append(swap)\n",
                "swap = OIS(settle_dt, \"18M\", swap_type, -0.53250/100.0, fixed_freq_type, fixed_dcc_type, cal_type = cal, payment_lag=lag); swaps.append(swap)\n",
                "swap = OIS(settle_dt, \"2Y\", swap_type, -0.54300/100.0, fixed_freq_type, fixed_dcc_type, cal_type = cal, payment_lag=lag); swaps.append(swap)\n",
                "swap = OIS(settle_dt, \"30M\", swap_type, -0.54850/100.0, fixed_freq_type, fixed_dcc_type, cal_type = cal, payment_lag=lag); swaps.append(swap)\n",
                "swap = OIS(settle_dt, \"3Y\", swap_type, -0.54900/100.0, fixed_freq_type, fixed_dcc_type, cal_type = cal, payment_lag=lag); swaps.append(swap)\n",
                "swap = OIS(settle_dt, \"4Y\", swap_type, -0.53700/100.0, fixed_freq_type, fixed_dcc_type, cal_type = cal, payment_lag=lag); swaps.append(swap)\n",
                "swap = OIS(settle_dt, \"5Y\", swap_type, -0.51350/100.0, fixed_freq_type, fixed_dcc_type, cal_type = cal, payment_lag=lag); swaps.append(swap)\n",
                "swap = OIS(settle_dt, \"6Y\", swap_type, -0.48300/100.0, fixed_freq_type, fixed_dcc_type, cal_type = cal, payment_lag=lag); swaps.append(swap)\n",
                "\n",
                "swap = OIS(settle_dt, \"7Y\", swap_type, -0.44650/100.0, fixed_freq_type, fixed_dcc_type, cal_type = cal, payment_lag=lag); swaps.append(swap)\n",
                "swap = OIS(settle_dt, \"8Y\", swap_type, -0.40480/100.0, fixed_freq_type, fixed_dcc_type, cal_type = cal, payment_lag=lag); swaps.append(swap)\n",
                "swap = OIS(settle_dt, \"9Y\", swap_type, -0.36220/100.0, fixed_freq_type, fixed_dcc_type, cal_type = cal, payment_lag=lag); swaps.append(swap)\n",
                "swap = OIS(settle_dt, \"10Y\", swap_type, -0.31550/100.0, fixed_freq_type, fixed_dcc_type, cal_type = cal, payment_lag=lag); swaps.append(swap)\n",
                "swap = OIS(settle_dt, \"11Y\", swap_type, -0.27100/100.0, fixed_freq_type, fixed_dcc_type, cal_type = cal, payment_lag=lag); swaps.append(swap)\n",
                "swap = OIS(settle_dt, \"12Y\", swap_type, -0.22850/100.0, fixed_freq_type, fixed_dcc_type, cal_type = cal, payment_lag=lag); swaps.append(swap)\n",
                "swap = OIS(settle_dt, \"15Y\", swap_type, -0.12300/100.0, fixed_freq_type, fixed_dcc_type, cal_type = cal, payment_lag=lag); swaps.append(swap)\n",
                "swap = OIS(settle_dt, \"20Y\", swap_type, -0.04000/100.0, fixed_freq_type, fixed_dcc_type, cal_type = cal, payment_lag=lag); swaps.append(swap)\n",
                "swap = OIS(settle_dt, \"25Y\", swap_type, -0.03450/100.0, fixed_freq_type, fixed_dcc_type, cal_type = cal, payment_lag=lag); swaps.append(swap)\n",
                "swap = OIS(settle_dt, \"30Y\", swap_type, -0.05750/100.0, fixed_freq_type, fixed_dcc_type, cal_type = cal, payment_lag=lag); swaps.append(swap)\n",
                "swap = OIS(settle_dt, \"35Y\", swap_type, -0.08160/100.0, fixed_freq_type, fixed_dcc_type, cal_type = cal, payment_lag=lag); swaps.append(swap)\n",
                "swap = OIS(settle_dt, \"40Y\", swap_type, -0.10485/100.0, fixed_freq_type, fixed_dcc_type, cal_type = cal, payment_lag=lag); swaps.append(swap)\n",
                "swap = OIS(settle_dt, \"50Y\", swap_type, -0.14300/100.0, fixed_freq_type, fixed_dcc_type, cal_type = cal, payment_lag=lag); swaps.append(swap)\n",
                "\n",
                "ois_depos = depos.copy()\n",
                "ois_fras = fras.copy()\n",
                "ois_swaps = swaps.copy()"
            ]
        },
        {
            "cell_type": "code",
            "execution_count": 7,
            "metadata": {
                "execution": {
                    "iopub.execute_input": "2024-04-30T20:22:26.766111Z",
                    "iopub.status.busy": "2024-04-30T20:22:26.766111Z",
                    "iopub.status.idle": "2024-04-30T20:22:26.833119Z",
                    "shell.execute_reply": "2024-04-30T20:22:26.833119Z"
                }
            },
            "outputs": [
                {
                    "name": "stdout",
                    "output_type": "stream",
                    "text": [
                        "Inserting synthetic deposit\n"
                    ]
                }
            ],
            "source": [
                "ois_curve = OISCurve(value_dt, ois_depos, ois_fras, ois_swaps, interp_type)"
            ]
        },
        {
            "cell_type": "code",
            "execution_count": 8,
            "metadata": {
                "execution": {
                    "iopub.execute_input": "2024-04-30T20:22:26.835148Z",
                    "iopub.status.busy": "2024-04-30T20:22:26.835148Z",
                    "iopub.status.idle": "2024-04-30T20:22:26.842291Z",
                    "shell.execute_reply": "2024-04-30T20:22:26.842291Z"
                },
                "scrolled": false
            },
            "outputs": [
                {
                    "name": "stdout",
                    "output_type": "stream",
                    "text": [
                        "df_start: 1.000025929634998\n",
                        " 26-OCT-2020   28-OCT-2020   28-OCT-2020     0   1.000000000  -0.473210\n",
                        " 28-OCT-2020   29-OCT-2020   29-OCT-2020     1   1.000012894  -0.472354\n",
                        " 28-OCT-2020   04-NOV-2020   05-NOV-2020     7   1.000104593  -0.476385\n",
                        " 28-OCT-2020   11-NOV-2020   12-NOV-2020    14   1.000196563  -0.477663\n",
                        " 28-OCT-2020   30-NOV-2020   01-DEC-2020    33   1.000446999  -0.479395\n",
                        " 28-OCT-2020   28-DEC-2020   29-DEC-2020    61   1.000822427  -0.483635\n",
                        " 28-OCT-2020   28-JAN-2021   29-JAN-2021    92   1.001245793  -0.488311\n",
                        " 28-OCT-2020   01-MAR-2021   02-MAR-2021   124   1.001687239  -0.491959\n",
                        " 28-OCT-2020   29-MAR-2021   30-MAR-2021   152   1.002083191  -0.496154\n",
                        " 28-OCT-2020   28-APR-2021   29-APR-2021   182   1.002513056  -0.500313\n",
                        " 28-OCT-2020   28-MAY-2021   31-MAY-2021   212   1.002979428  -0.504764\n",
                        " 28-OCT-2020   28-JUN-2021   29-JUN-2021   243   1.003405638  -0.508297\n",
                        " 28-OCT-2020   28-JUL-2021   29-JUL-2021   273   1.003849642  -0.511553\n",
                        " 28-OCT-2020   30-AUG-2021   31-AUG-2021   306   1.004351187  -0.515923\n",
                        " 28-OCT-2020   28-SEP-2021   29-SEP-2021   335   1.004793187  -0.519171\n",
                        " 28-OCT-2020   28-OCT-2021   29-OCT-2021   365   1.005254142  -0.522338\n",
                        " 28-OCT-2020   28-APR-2022   29-APR-2022   547   1.008158212  -0.540933\n",
                        " 28-OCT-2020   28-OCT-2022   31-OCT-2022   730   1.011150264  -0.551944\n",
                        " 28-OCT-2020   28-APR-2023   02-MAY-2023   912   1.014090467  -0.557362\n",
                        " 28-OCT-2020   30-OCT-2023   31-OCT-2023  1097   1.016930501  -0.557943\n",
                        " 28-OCT-2020   28-OCT-2024   29-OCT-2024  1461   1.022108691  -0.545849\n",
                        " 28-OCT-2020   28-OCT-2025   29-OCT-2025  1826   1.026483337  -0.522149\n",
                        " 28-OCT-2020   28-OCT-2026   29-OCT-2026  2191   1.029951998  -0.491405\n",
                        " 28-OCT-2020   28-OCT-2027   29-OCT-2027  2556   1.032359558  -0.454616\n",
                        " 28-OCT-2020   30-OCT-2028   31-OCT-2028  2924   1.033611554  -0.412573\n",
                        " 28-OCT-2020   29-OCT-2029   30-OCT-2029  3288   1.033858022  -0.369585\n",
                        " 28-OCT-2020   28-OCT-2030   29-OCT-2030  3652   1.032783292  -0.322391\n",
                        " 28-OCT-2020   28-OCT-2031   29-OCT-2031  4017   1.030989539  -0.277336\n",
                        " 28-OCT-2020   28-OCT-2032   29-OCT-2032  4383   1.028516022  -0.234204\n",
                        " 28-OCT-2020   29-OCT-2035   30-OCT-2035  5479   1.019172261  -0.126616\n",
                        " 28-OCT-2020   29-OCT-2040   30-OCT-2040  7306   1.008286752  -0.041342\n",
                        " 28-OCT-2020   30-OCT-2045   31-OCT-2045  9133   1.008920630  -0.035585\n",
                        " 28-OCT-2020   28-OCT-2050   31-OCT-2050 10957   1.017838905  -0.058961\n",
                        " 28-OCT-2020   28-OCT-2055   29-OCT-2055 12783   1.029540393  -0.083181\n",
                        " 28-OCT-2020   28-OCT-2060   29-OCT-2060 14610   1.043478300  -0.106369\n",
                        " 28-OCT-2020   28-OCT-2070   29-OCT-2070 18262   1.074672151  -0.143965\n"
                    ]
                }
            ],
            "source": [
                "df_start = ois_curve.df(settle_dt)\n",
                "\n",
                "print(\"df_start:\", df_start)\n",
                "\n",
                "for depo in ois_depos:\n",
                "    start = depo.start_dt\n",
                "    maturity_dt = depo.maturity_dt\n",
                "    df = ois_curve.df(maturity_dt) / df_start\n",
                "    days = maturity_dt - settle_dt\n",
                "    ccZeroRate = ois_curve.zero_rate(maturity_dt, FrequencyTypes.CONTINUOUS, DayCountTypes.ACT_365F)\n",
                "    print(\"%12s  %12s  %12s %5.0f  %12.9f  %9.6f\"% (start, maturity_dt, maturity_dt, days, df, ccZeroRate*100))\n",
                "\n",
                "for swap in ois_swaps:\n",
                "    start = swap.effective_dt\n",
                "    maturity_dt = swap.fixed_leg.maturity_dt\n",
                "    payment_dt = swap.fixed_leg.payment_dts[-1]\n",
                "    df = ois_curve.df(payment_dt) / df_start\n",
                "    days = maturity_dt - settle_dt\n",
                "    ccZeroRate = ois_curve.zero_rate(payment_dt, FrequencyTypes.CONTINUOUS, DayCountTypes.ACT_365F)\n",
                "    print(\"%12s  %12s  %12s %5.0f  %12.9f  %9.6f\"% (start, maturity_dt, payment_dt, days, df, ccZeroRate*100))"
            ]
        },
        {
            "cell_type": "markdown",
            "metadata": {},
            "source": [
                "## Value an OIS Contract"
            ]
        },
        {
            "cell_type": "code",
            "execution_count": 9,
            "metadata": {
                "execution": {
                    "iopub.execute_input": "2024-04-30T20:22:26.844320Z",
                    "iopub.status.busy": "2024-04-30T20:22:26.844320Z",
                    "iopub.status.idle": "2024-04-30T20:22:26.847882Z",
                    "shell.execute_reply": "2024-04-30T20:22:26.847882Z"
                }
            },
            "outputs": [],
            "source": [
                "fixed_cpn = -0.51350/100 # CHANGED\n",
                "start_dt = settle_dt\n",
                "maturity_dt = Date(28, 10, 2025,)\n",
                "fixed_dcc_type = DayCountTypes.ACT_360\n",
                "fixed_freq_type = FrequencyTypes.ANNUAL\n",
                "float_dcc_type = DayCountTypes.ACT_360\n",
                "float_freq_type = FrequencyTypes.ANNUAL\n",
                "notional = 10 * ONE_MILLION"
            ]
        },
        {
            "cell_type": "code",
            "execution_count": 10,
            "metadata": {
                "execution": {
                    "iopub.execute_input": "2024-04-30T20:22:26.849915Z",
                    "iopub.status.busy": "2024-04-30T20:22:26.849915Z",
                    "iopub.status.idle": "2024-04-30T20:22:26.853773Z",
                    "shell.execute_reply": "2024-04-30T20:22:26.853535Z"
                }
            },
            "outputs": [],
            "source": [
                "ois_swap = OIS(start_dt, maturity_dt, SwapTypes.RECEIVE, \n",
                "               fixed_cpn, fixed_freq_type, fixed_dcc_type, \n",
                "               notional, lag, \n",
                "               0.0, float_freq_type, float_dcc_type)"
            ]
        },
        {
            "cell_type": "code",
            "execution_count": 11,
            "metadata": {
                "execution": {
                    "iopub.execute_input": "2024-04-30T20:22:26.855800Z",
                    "iopub.status.busy": "2024-04-30T20:22:26.855800Z",
                    "iopub.status.idle": "2024-04-30T20:22:26.859554Z",
                    "shell.execute_reply": "2024-04-30T20:22:26.859315Z"
                }
            },
            "outputs": [
                {
                    "data": {
                        "text/plain": [
                            "3820.995180254162"
                        ]
                    },
                    "execution_count": 11,
                    "metadata": {},
                    "output_type": "execute_result"
                }
            ],
            "source": [
                "ois_swap.value(settle_dt, ois_curve)"
            ]
        },
        {
            "cell_type": "code",
            "execution_count": 12,
            "metadata": {
                "execution": {
                    "iopub.execute_input": "2024-04-30T20:22:26.861553Z",
                    "iopub.status.busy": "2024-04-30T20:22:26.861553Z",
                    "iopub.status.idle": "2024-04-30T20:22:26.865935Z",
                    "shell.execute_reply": "2024-04-30T20:22:26.865412Z"
                }
            },
            "outputs": [
                {
                    "data": {
                        "text/plain": [
                            "1.0052541416625074"
                        ]
                    },
                    "execution_count": 12,
                    "metadata": {},
                    "output_type": "execute_result"
                }
            ],
            "source": [
                "ois_curve.df(Date(29,10,2021)) / ois_curve.df(Date(28,10,2020))"
            ]
        },
        {
            "cell_type": "code",
            "execution_count": 13,
            "metadata": {
                "execution": {
                    "iopub.execute_input": "2024-04-30T20:22:26.868040Z",
                    "iopub.status.busy": "2024-04-30T20:22:26.867012Z",
                    "iopub.status.idle": "2024-04-30T20:22:26.871458Z",
                    "shell.execute_reply": "2024-04-30T20:22:26.871458Z"
                }
            },
            "outputs": [
                {
                    "name": "stdout",
                    "output_type": "stream",
                    "text": [
                        "START DATE: 28-OCT-2020\n",
                        "MATURITY DATE: 28-OCT-2025\n",
                        "COUPON (%): -0.5135\n",
                        "FREQUENCY: FrequencyTypes.ANNUAL\n",
                        "DAY COUNT: DayCountTypes.ACT_360\n",
                        "\n",
                        "PAYMENTS VALUATION:\n",
                        "+---------+-------------+----------+---------+-----------+--------+-----------+------------+\n",
                        "| PAY_NUM |    PAY_dt   | NOTIONAL |   RATE  |    PMNT   |   DF   |     PV    |   CUM_PV   |\n",
                        "+---------+-------------+----------+---------+-----------+--------+-----------+------------+\n",
                        "|    1    | 29-OCT-2021 | 10000000 | -0.5135 | -52063.19 | 1.0053 | -52336.74 | -52336.74  |\n",
                        "|    2    | 31-OCT-2022 | 10000000 | -0.5135 | -52063.19 | 1.0112 | -52643.71 | -104980.45 |\n",
                        "|    3    | 31-OCT-2023 | 10000000 | -0.5135 | -52348.47 | 1.0169 | -53234.76 | -158215.21 |\n",
                        "|    4    | 29-OCT-2024 | 10000000 | -0.5135 | -51920.56 | 1.0221 | -53068.45 | -211283.66 |\n",
                        "|    5    | 29-OCT-2025 | 10000000 | -0.5135 | -52063.19 | 1.0265 |  -53442.0 | -264725.67 |\n",
                        "+---------+-------------+----------+---------+-----------+--------+-----------+------------+\n"
                    ]
                }
            ],
            "source": [
                "ois_swap.print_fixed_leg_pv()"
            ]
        },
        {
            "cell_type": "code",
            "execution_count": 14,
            "metadata": {
                "execution": {
                    "iopub.execute_input": "2024-04-30T20:22:26.873460Z",
                    "iopub.status.busy": "2024-04-30T20:22:26.873460Z",
                    "iopub.status.idle": "2024-04-30T20:22:26.877560Z",
                    "shell.execute_reply": "2024-04-30T20:22:26.877560Z"
                }
            },
            "outputs": [
                {
                    "name": "stdout",
                    "output_type": "stream",
                    "text": [
                        "START DATE: 28-OCT-2020\n",
                        "MATURITY DATE: 28-OCT-2025\n",
                        "SPREAD (BPS): 0.0\n",
                        "FREQUENCY: FrequencyTypes.ANNUAL\n",
                        "DAY COUNT: DayCountTypes.ACT_360\n",
                        "\n",
                        "PAYMENTS VALUATION:\n",
                        "+---------+-------------+----------+---------+-----------+--------+-----------+------------+\n",
                        "| PAY_NUM |    PAY_dt   | NOTIONAL |   IBOR  |    PMNT   |   DF   |     PV    |   CUM_PV   |\n",
                        "+---------+-------------+----------+---------+-----------+--------+-----------+------------+\n",
                        "|    1    | 29-OCT-2021 | 10000000 | -0.5211 | -52837.69 | 1.0053 | -53115.31 | -53115.31  |\n",
                        "|    2    | 31-OCT-2022 | 10000000 | -0.5798 | -58782.54 | 1.0112 | -59437.98 | -112553.29 |\n",
                        "|    3    | 31-OCT-2023 | 10000000 | -0.5686 | -57963.42 | 1.0169 | -58944.77 | -171498.06 |\n",
                        "|    4    | 29-OCT-2024 | 10000000 | -0.5096 | -51528.68 | 1.0221 | -52667.91 | -224165.97 |\n",
                        "|    5    | 29-OCT-2025 | 10000000 | -0.4264 | -43235.67 | 1.0265 | -44380.69 | -268546.66 |\n",
                        "+---------+-------------+----------+---------+-----------+--------+-----------+------------+\n"
                    ]
                }
            ],
            "source": [
                "ois_swap.print_float_leg_pv()"
            ]
        },
        {
            "cell_type": "markdown",
            "metadata": {},
            "source": [
                "## Building the Dual Curve"
            ]
        },
        {
            "cell_type": "markdown",
            "metadata": {},
            "source": [
                "Build the Ibor Curve"
            ]
        },
        {
            "cell_type": "code",
            "execution_count": 15,
            "metadata": {
                "execution": {
                    "iopub.execute_input": "2024-04-30T20:22:26.879561Z",
                    "iopub.status.busy": "2024-04-30T20:22:26.879561Z",
                    "iopub.status.idle": "2024-04-30T20:22:26.916474Z",
                    "shell.execute_reply": "2024-04-30T20:22:26.916474Z"
                }
            },
            "outputs": [],
            "source": [
                "# Need to specify a UK calendar (trade was done in London)\n",
                "cal = CalendarTypes.UNITED_KINGDOM\n",
                "\n",
                "depo_dcc_type = DayCountTypes.ACT_360\n",
                "depos = []\n",
                "spot_days = 2\n",
                "settle_dt = value_dt.add_weekdays(spot_days)\n",
                "depo = IborDeposit(settle_dt, \"6M\", -0.496/100.0, depo_dcc_type, cal_type=cal); depos.append(depo)\n",
                "\n",
                "fraDCCType = DayCountTypes.ACT_360\n",
                "\n",
                "fras = []\n",
                "fra = IborFRA(settle_dt.add_tenor(\"1M\"), \"6M\", -0.493/100.0, fraDCCType, cal_type=cal); fras.append(fra)\n",
                "fra = IborFRA(settle_dt.add_tenor(\"2M\"), \"6M\", -0.491/100.0, fraDCCType, cal_type=cal); fras.append(fra)\n",
                "fra = IborFRA(settle_dt.add_tenor(\"3M\"), \"6M\", -0.494/100.0, fraDCCType, cal_type=cal); fras.append(fra)\n",
                "fra = IborFRA(settle_dt.add_tenor(\"4M\"), \"6M\", -0.496/100.0, fraDCCType, cal_type=cal); fras.append(fra)\n",
                "fra = IborFRA(settle_dt.add_tenor(\"5M\"), \"6M\", -0.499/100.0, fraDCCType, cal_type=cal); fras.append(fra)\n",
                "fra = IborFRA(settle_dt.add_tenor(\"6M\"), \"6M\", -0.501/100.0, fraDCCType, cal_type=cal); fras.append(fra)\n",
                "fra = IborFRA(settle_dt.add_tenor(\"7M\"), \"6M\", -0.505/100.0, fraDCCType, cal_type=cal); fras.append(fra)\n",
                "fra = IborFRA(settle_dt.add_tenor(\"8M\"), \"6M\", -0.508/100.0, fraDCCType, cal_type=cal); fras.append(fra)\n",
                "fra = IborFRA(settle_dt.add_tenor(\"9M\"), \"6M\", -0.518/100.0, fraDCCType, cal_type=cal); fras.append(fra)\n",
                "fra = IborFRA(settle_dt.add_tenor(\"10M\"), \"6M\", -0.516/100.0, fraDCCType, cal_type=cal); fras.append(fra)\n",
                "fra = IborFRA(settle_dt.add_tenor(\"11M\"), \"6M\", -0.518/100.0, fraDCCType, cal_type=cal); fras.append(fra)\n",
                "fra = IborFRA(settle_dt.add_tenor(\"12M\"), \"6M\", -0.519/100.0, fraDCCType, cal_type=cal); fras.append(fra)\n",
                "\n",
                "swaps = []\n",
                "swap_type = SwapTypes.PAY\n",
                "fixed_dcc_type = DayCountTypes.THIRTY_E_360_ISDA\n",
                "fixed_freq_type = FrequencyTypes.ANNUAL\n",
                "\n",
                "swap = IborSwap(settle_dt, \"2Y\", swap_type, -0.51375/100.0, fixed_freq_type, fixed_dcc_type, cal_type=cal); swaps.append(swap)\n",
                "swap = IborSwap(settle_dt, \"3Y\", swap_type, -0.50600/100.0, fixed_freq_type, fixed_dcc_type, cal_type=cal); swaps.append(swap)\n",
                "swap = IborSwap(settle_dt, \"4Y\", swap_type, -0.48225/100.0, fixed_freq_type, fixed_dcc_type, cal_type=cal); swaps.append(swap)\n",
                "swap = IborSwap(settle_dt, \"5Y\", swap_type, -0.45100/100.0, fixed_freq_type, fixed_dcc_type, cal_type=cal); swaps.append(swap)\n",
                "swap = IborSwap(settle_dt, \"6Y\", swap_type, -0.41500/100.0, fixed_freq_type, fixed_dcc_type, cal_type=cal); swaps.append(swap)\n",
                "swap = IborSwap(settle_dt, \"7Y\", swap_type, -0.37530/100.0, fixed_freq_type, fixed_dcc_type, cal_type=cal); swaps.append(swap)\n",
                "swap = IborSwap(settle_dt, \"8Y\", swap_type, -0.33250/100.0, fixed_freq_type, fixed_dcc_type, cal_type=cal); swaps.append(swap)\n",
                "swap = IborSwap(settle_dt, \"9Y\", swap_type, -0.28810/100.0, fixed_freq_type, fixed_dcc_type, cal_type=cal); swaps.append(swap)\n",
                "swap = IborSwap(settle_dt, \"10Y\", swap_type, -0.24180/100.0, fixed_freq_type, fixed_dcc_type, cal_type=cal); swaps.append(swap)\n",
                "swap = IborSwap(settle_dt, \"11Y\", swap_type, -0.198/100.0, fixed_freq_type, fixed_dcc_type, cal_type=cal); swaps.append(swap)\n",
                "swap = IborSwap(settle_dt, \"12Y\", swap_type, -0.156/100.0, fixed_freq_type, fixed_dcc_type, cal_type=cal); swaps.append(swap)\n",
                "swap = IborSwap(settle_dt, \"15Y\", swap_type, -0.05375/100.0, fixed_freq_type, fixed_dcc_type, cal_type=cal); swaps.append(swap)\n",
                "swap = IborSwap(settle_dt, \"20Y\", swap_type, 0.02325/100.0, fixed_freq_type, fixed_dcc_type, cal_type=cal); swaps.append(swap)\n",
                "swap = IborSwap(settle_dt, \"25Y\", swap_type, 0.02300/100.0, fixed_freq_type, fixed_dcc_type, cal_type=cal); swaps.append(swap)\n",
                "swap = IborSwap(settle_dt, \"30Y\", swap_type, -0.00510/100.0, fixed_freq_type, fixed_dcc_type, cal_type=cal); swaps.append(swap)\n",
                "swap = IborSwap(settle_dt, \"40Y\", swap_type, -0.0627/100.0, fixed_freq_type, fixed_dcc_type, cal_type=cal); swaps.append(swap)\n",
                "swap = IborSwap(settle_dt, \"50Y\", swap_type, -0.1125/100.0, fixed_freq_type, fixed_dcc_type, cal_type=cal); swaps.append(swap)\n",
                "\n",
                "ibor_depos = depos.copy()\n",
                "ibor_fras = fras.copy()\n",
                "ibor_swaps = swaps.copy()"
            ]
        },
        {
            "cell_type": "code",
            "execution_count": 16,
            "metadata": {
                "execution": {
                    "iopub.execute_input": "2024-04-30T20:22:26.919035Z",
                    "iopub.status.busy": "2024-04-30T20:22:26.919035Z",
                    "iopub.status.idle": "2024-04-30T20:22:27.068188Z",
                    "shell.execute_reply": "2024-04-30T20:22:27.068188Z"
                }
            },
            "outputs": [],
            "source": [
                "ibor_single_curve = IborSingleCurve(value_dt, ibor_depos, ibor_fras, ibor_swaps, interp_type)"
            ]
        },
        {
            "cell_type": "code",
            "execution_count": 17,
            "metadata": {
                "execution": {
                    "iopub.execute_input": "2024-04-30T20:22:27.071232Z",
                    "iopub.status.busy": "2024-04-30T20:22:27.070235Z",
                    "iopub.status.idle": "2024-04-30T20:22:27.246677Z",
                    "shell.execute_reply": "2024-04-30T20:22:27.246677Z"
                }
            },
            "outputs": [],
            "source": [
                "ibor_dual_curve = IborDualCurve(value_dt, ois_curve, ibor_depos, ibor_fras, ibor_swaps, interp_type)"
            ]
        },
        {
            "cell_type": "code",
            "execution_count": 18,
            "metadata": {
                "execution": {
                    "iopub.execute_input": "2024-04-30T20:22:27.248679Z",
                    "iopub.status.busy": "2024-04-30T20:22:27.248679Z",
                    "iopub.status.idle": "2024-04-30T20:22:27.254394Z",
                    "shell.execute_reply": "2024-04-30T20:22:27.254014Z"
                }
            },
            "outputs": [
                {
                    "name": "stdout",
                    "output_type": "stream",
                    "text": [
                        " 28-OCT-2022  1.010356065 -0.515103\n",
                        " 30-OCT-2023  1.015367780 -0.507425\n",
                        " 28-OCT-2024  1.019538903 -0.483455\n",
                        " 28-OCT-2025  1.022890604 -0.452457\n",
                        " 28-OCT-2026  1.025325449 -0.416722\n",
                        " 28-OCT-2027  1.026766245 -0.377297\n",
                        " 30-OCT-2028  1.027162116 -0.334653\n",
                        " 29-OCT-2029  1.026503503 -0.290512\n",
                        " 28-OCT-2030  1.024741007 -0.244406\n",
                        " 28-OCT-2031  1.022315417 -0.200687\n",
                        " 28-OCT-2032  1.019211921 -0.158629\n",
                        " 29-OCT-2035  1.008391057 -0.055829\n",
                        " 29-OCT-2040  0.995528324  0.022247\n",
                        " 30-OCT-2045  0.994433831  0.022193\n",
                        " 28-OCT-2050  1.001741435 -0.005886\n",
                        " 28-OCT-2060  1.025398741 -0.062721\n",
                        " 28-OCT-2070  1.057125805 -0.111077\n"
                    ]
                }
            ],
            "source": [
                "for swap in ibor_swaps:\n",
                "    dt = swap.maturity_dt\n",
                "    df = ibor_dual_curve.df(dt) / ibor_dual_curve.df(settle_dt)\n",
                "    ccZeroRate = ibor_dual_curve.zero_rate(dt, FrequencyTypes.CONTINUOUS, DayCountTypes.ACT_365F)\n",
                "    print(\"%12s %12.9f %9.6f\"% (dt, df, ccZeroRate*100))"
            ]
        },
        {
            "cell_type": "markdown",
            "metadata": {},
            "source": [
                "## Swap Valuation"
            ]
        },
        {
            "cell_type": "code",
            "execution_count": 19,
            "metadata": {
                "execution": {
                    "iopub.execute_input": "2024-04-30T20:22:27.256408Z",
                    "iopub.status.busy": "2024-04-30T20:22:27.256408Z",
                    "iopub.status.idle": "2024-04-30T20:22:27.259576Z",
                    "shell.execute_reply": "2024-04-30T20:22:27.259576Z"
                }
            },
            "outputs": [],
            "source": [
                "fixed_cpn = -0.4510/100.0\n",
                "start_dt = settle_dt\n",
                "maturity_dt = Date(28, 10, 2025)\n",
                "fixed_dcc_type = DayCountTypes.THIRTY_E_360_ISDA\n",
                "fixed_freq_type = FrequencyTypes.ANNUAL\n",
                "float_dcc_type = DayCountTypes.ACT_360\n",
                "float_freq_type = FrequencyTypes.SEMI_ANNUAL\n",
                "notional = 10 * ONE_MILLION"
            ]
        },
        {
            "cell_type": "code",
            "execution_count": 20,
            "metadata": {
                "execution": {
                    "iopub.execute_input": "2024-04-30T20:22:27.262109Z",
                    "iopub.status.busy": "2024-04-30T20:22:27.262109Z",
                    "iopub.status.idle": "2024-04-30T20:22:27.265478Z",
                    "shell.execute_reply": "2024-04-30T20:22:27.264873Z"
                }
            },
            "outputs": [],
            "source": [
                "ibor_swap = IborSwap(start_dt, maturity_dt, SwapTypes.RECEIVE, \n",
                "                    fixed_cpn, fixed_freq_type, fixed_dcc_type, \n",
                "                    notional, \n",
                "                    0.0, float_freq_type, float_dcc_type)"
            ]
        },
        {
            "cell_type": "code",
            "execution_count": 21,
            "metadata": {
                "execution": {
                    "iopub.execute_input": "2024-04-30T20:22:27.267476Z",
                    "iopub.status.busy": "2024-04-30T20:22:27.267476Z",
                    "iopub.status.idle": "2024-04-30T20:22:27.271386Z",
                    "shell.execute_reply": "2024-04-30T20:22:27.270999Z"
                }
            },
            "outputs": [
                {
                    "data": {
                        "text/plain": [
                            "3290.21337096786"
                        ]
                    },
                    "execution_count": 21,
                    "metadata": {},
                    "output_type": "execute_result"
                }
            ],
            "source": [
                "ibor_swap.value(settle_dt, ibor_single_curve)"
            ]
        },
        {
            "cell_type": "code",
            "execution_count": 22,
            "metadata": {
                "execution": {
                    "iopub.execute_input": "2024-04-30T20:22:27.273385Z",
                    "iopub.status.busy": "2024-04-30T20:22:27.273385Z",
                    "iopub.status.idle": "2024-04-30T20:22:27.277070Z",
                    "shell.execute_reply": "2024-04-30T20:22:27.277070Z"
                }
            },
            "outputs": [
                {
                    "data": {
                        "text/plain": [
                            "3316.9930925787194"
                        ]
                    },
                    "execution_count": 22,
                    "metadata": {},
                    "output_type": "execute_result"
                }
            ],
            "source": [
                "ibor_swap.value(settle_dt, ois_curve, ibor_dual_curve)"
            ]
        },
        {
            "cell_type": "code",
            "execution_count": 23,
            "metadata": {
                "execution": {
                    "iopub.execute_input": "2024-04-30T20:22:27.279100Z",
                    "iopub.status.busy": "2024-04-30T20:22:27.279100Z",
                    "iopub.status.idle": "2024-04-30T20:22:27.283577Z",
                    "shell.execute_reply": "2024-04-30T20:22:27.283355Z"
                }
            },
            "outputs": [
                {
                    "name": "stdout",
                    "output_type": "stream",
                    "text": [
                        "START DATE: 28-OCT-2020\n",
                        "MATURITY DATE: 28-OCT-2025\n",
                        "COUPON (%): -0.451\n",
                        "FREQUENCY: FrequencyTypes.ANNUAL\n",
                        "DAY COUNT: DayCountTypes.THIRTY_E_360_ISDA\n",
                        "\n",
                        "PAYMENTS VALUATION:\n",
                        "+---------+-------------+----------+--------+-----------+--------+-----------+------------+\n",
                        "| PAY_NUM |    PAY_dt   | NOTIONAL |  RATE  |    PMNT   |   DF   |     PV    |   CUM_PV   |\n",
                        "+---------+-------------+----------+--------+-----------+--------+-----------+------------+\n",
                        "|    1    | 28-OCT-2021 | 10000000 | -0.451 |  -45100.0 | 1.0052 | -45336.26 | -45336.26  |\n",
                        "|    2    | 28-OCT-2022 | 10000000 | -0.451 |  -45100.0 | 1.0111 | -45600.65 | -90936.91  |\n",
                        "|    3    | 30-OCT-2023 | 10000000 | -0.451 | -45350.56 | 1.0169 | -46117.65 | -137054.56 |\n",
                        "|    4    | 28-OCT-2024 | 10000000 | -0.451 | -44849.44 | 1.0221 | -45840.38 | -182894.95 |\n",
                        "|    5    | 28-OCT-2025 | 10000000 | -0.451 |  -45100.0 | 1.0265 | -46293.89 | -229188.83 |\n",
                        "+---------+-------------+----------+--------+-----------+--------+-----------+------------+\n"
                    ]
                }
            ],
            "source": [
                "ibor_swap.print_fixed_leg_pv()"
            ]
        },
        {
            "cell_type": "code",
            "execution_count": 24,
            "metadata": {
                "execution": {
                    "iopub.execute_input": "2024-04-30T20:22:27.285576Z",
                    "iopub.status.busy": "2024-04-30T20:22:27.285576Z",
                    "iopub.status.idle": "2024-04-30T20:22:27.289975Z",
                    "shell.execute_reply": "2024-04-30T20:22:27.289975Z"
                }
            },
            "outputs": [
                {
                    "name": "stdout",
                    "output_type": "stream",
                    "text": [
                        "START DATE: 28-OCT-2020\n",
                        "MATURITY DATE: 28-OCT-2025\n",
                        "SPREAD (BPS): 0.0\n",
                        "FREQUENCY: FrequencyTypes.SEMI_ANNUAL\n",
                        "DAY COUNT: DayCountTypes.ACT_360\n",
                        "\n",
                        "PAYMENTS VALUATION:\n",
                        "+---------+-------------+----------+---------+-----------+--------+-----------+------------+\n",
                        "| PAY_NUM |    PAY_dt   | NOTIONAL |   IBOR  |    PMNT   |   DF   |     PV    |   CUM_PV   |\n",
                        "+---------+-------------+----------+---------+-----------+--------+-----------+------------+\n",
                        "|    1    | 28-APR-2021 | 10000000 |  -0.501 | -25328.67 | 1.0025 | -25391.96 | -25391.96  |\n",
                        "|    2    | 28-OCT-2021 | 10000000 | -0.5093 | -25891.96 | 1.0052 |  -26027.6 | -51419.56  |\n",
                        "|    3    | 28-APR-2022 | 10000000 | -0.5248 | -26529.87 | 1.0081 | -26745.87 | -78165.43  |\n",
                        "|    4    | 28-OCT-2022 | 10000000 | -0.5228 | -26574.95 | 1.0111 | -26869.95 | -105035.38 |\n",
                        "|    5    | 28-APR-2023 | 10000000 |  -0.494 | -24976.96 | 1.014  | -25327.27 | -130362.65 |\n",
                        "|    6    | 30-OCT-2023 | 10000000 | -0.4889 | -25124.61 | 1.0169 | -25549.59 | -155912.24 |\n",
                        "|    7    | 29-APR-2024 | 10000000 | -0.4239 | -21430.12 | 1.0195 | -21848.72 | -177760.96 |\n",
                        "|    8    | 28-OCT-2024 | 10000000 | -0.3998 | -20210.01 | 1.0221 | -20656.54 | -198417.51 |\n",
                        "|    9    | 28-APR-2025 | 10000000 | -0.3425 | -17313.05 | 1.0243 | -17734.38 | -216151.89 |\n",
                        "|    10   | 28-OCT-2025 | 10000000 | -0.3134 | -15932.18 | 1.0265 | -16353.94 | -232505.83 |\n",
                        "+---------+-------------+----------+---------+-----------+--------+-----------+------------+\n"
                    ]
                }
            ],
            "source": [
                "ibor_swap.print_float_leg_pv()"
            ]
        },
        {
            "cell_type": "markdown",
            "metadata": {},
            "source": [
                "## Dual Curve"
            ]
        },
        {
            "cell_type": "markdown",
            "metadata": {},
            "source": [
                "Look at short end"
            ]
        },
        {
            "cell_type": "code",
            "execution_count": 25,
            "metadata": {
                "execution": {
                    "iopub.execute_input": "2024-04-30T20:22:27.292627Z",
                    "iopub.status.busy": "2024-04-30T20:22:27.292627Z",
                    "iopub.status.idle": "2024-04-30T20:22:27.517733Z",
                    "shell.execute_reply": "2024-04-30T20:22:27.517733Z"
                }
            },
            "outputs": [
                {
                    "data": {
                        "image/png": "[encoded data removed]",
                        "text/plain": [
                            "<Figure size 1200x600 with 1 Axes>"
                        ]
                    },
                    "metadata": {},
                    "output_type": "display_data"
                }
            ],
            "source": [
                "years = np.linspace(0, 2, 1000)\n",
                "dates = settle_dt.add_years(years)\n",
                "ibor_dual_curve_fwds = ibor_dual_curve.fwd(dates)\n",
                "plt.figure(figsize=(12,6))\n",
                "plt.plot(years, ibor_dual_curve_fwds*100.0, label=\"Euribor Dual Curve\")\n",
                "plt.xlabel(\"Years\")\n",
                "plt.ylabel(\"Continuously Compounded Forward Rate (%)\")\n",
                "plt.legend();"
            ]
        },
        {
            "cell_type": "markdown",
            "metadata": {},
            "source": [
                "Look at long end"
            ]
        },
        {
            "cell_type": "code",
            "execution_count": 26,
            "metadata": {
                "execution": {
                    "iopub.execute_input": "2024-04-30T20:22:27.520391Z",
                    "iopub.status.busy": "2024-04-30T20:22:27.520391Z",
                    "iopub.status.idle": "2024-04-30T20:22:27.701855Z",
                    "shell.execute_reply": "2024-04-30T20:22:27.701855Z"
                }
            },
            "outputs": [
                {
                    "data": {
                        "image/png": "[encoded data removed]",
                        "text/plain": [
                            "<Figure size 1200x600 with 1 Axes>"
                        ]
                    },
                    "metadata": {},
                    "output_type": "display_data"
                }
            ],
            "source": [
                "years = np.linspace(0, 50, 1000)\n",
                "dates = settle_dt.add_years(years)\n",
                "ibor_dual_curve_fwds = ibor_dual_curve.fwd(dates)\n",
                "plt.figure(figsize=(12,6))\n",
                "plt.plot(years, ibor_dual_curve_fwds*100.0, label=\"Euribor Dual Curve\")\n",
                "plt.xlabel(\"Years\")\n",
                "plt.ylabel(\"Continuously Compounded Forward Rate (%)\")\n",
                "plt.legend();"
            ]
        },
        {
            "cell_type": "markdown",
            "metadata": {},
            "source": [
                "Copyright (c) Dominic O'Kane 2020"
            ]
        }
    ],
    "metadata": {
        "kernelspec": {
            "display_name": "Python 3",
            "language": "python",
            "name": "python3"
        },
        "language_info": {
            "codemirror_mode": {
                "name": "ipython",
                "version": 3
            },
            "file_extension": ".py",
            "mimetype": "text/x-python",
            "name": "python",
            "nbconvert_exporter": "python",
            "pygments_lexer": "ipython3",
            "version": "3.11.5"
        }
    },
    "nbformat": 4,
    "nbformat_minor": 4
}