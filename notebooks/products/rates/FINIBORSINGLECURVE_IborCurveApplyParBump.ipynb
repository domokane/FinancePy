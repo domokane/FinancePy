{
    "cells": [
        {
            "cell_type": "markdown",
            "metadata": {},
            "source": [
                "# Par-Rate Bumps for Libor Curves\n",
                "Investigate the impact of a par rate bump (bump to a curve benchmark used in curve building) on the curve"
            ]
        },
        {
            "cell_type": "code",
            "execution_count": null,
            "metadata": {},
            "outputs": [],
            "source": [
                "%load_ext autoreload\n",
                "%autoreload 2"
            ]
        },
        {
            "cell_type": "code",
            "execution_count": null,
            "metadata": {},
            "outputs": [],
            "source": [
                "import matplotlib.pyplot as plt\n",
                "from timeit import default_timer as timer"
            ]
        },
        {
            "cell_type": "code",
            "execution_count": null,
            "metadata": {},
            "outputs": [],
            "source": [
                "from financepy.utils import *\n",
                "from financepy.products.rates import *\n",
                "from financepy.products.rates.ibor_single_curve_par_shocker import IborSingleCurveParShocker"
            ]
        },
        {
            "cell_type": "code",
            "execution_count": null,
            "metadata": {},
            "outputs": [],
            "source": [
                "valuation_date = Date(6, 10, 2001)\n",
                "cal = CalendarTypes.UNITED_KINGDOM"
            ]
        },
        {
            "cell_type": "markdown",
            "metadata": {},
            "source": [
                "### Instruments"
            ]
        },
        {
            "cell_type": "code",
            "execution_count": null,
            "metadata": {},
            "outputs": [],
            "source": [
                "depo_dcc_type = DayCountTypes.ACT_360\n",
                "depos = []\n",
                "spot_days = 2\n",
                "settlement_date = valuation_date.add_weekdays(spot_days)\n",
                "depo = IborDeposit(settlement_date, \"3M\", 4.2/100.0, depo_dcc_type, cal_type=cal)\n",
                "depos.append(depo)\n",
                "\n",
                "fraDCCType = DayCountTypes.ACT_360\n",
                "fras = []\n",
                "fra = IborFRA(settlement_date.add_tenor(\"3M\"), \"3M\", 4.20/100.0, fraDCCType, cal_type=cal)\n",
                "fras.append(fra)\n",
                "\n",
                "swaps = []\n",
                "swapType = SwapTypes.PAY\n",
                "fixedDCCType = DayCountTypes.THIRTY_E_360_ISDA\n",
                "fixed_freqType = FrequencyTypes.SEMI_ANNUAL\n",
                "\n",
                "swap = IborSwap(settlement_date, \"1Y\", swapType, 4.20/100.0, fixed_freqType, fixedDCCType, cal_type=cal)\n",
                "swaps.append(swap)\n",
                "swap = IborSwap(settlement_date, \"2Y\", swapType, 4.30/100.0, fixed_freqType, fixedDCCType, cal_type=cal)\n",
                "swaps.append(swap)\n",
                "swap = IborSwap(settlement_date, \"3Y\", swapType, 4.70/100.0, fixed_freqType, fixedDCCType, cal_type=cal)\n",
                "swaps.append(swap)\n",
                "swap = IborSwap(settlement_date, \"5Y\", swapType, 5.40/100.0, fixed_freqType, fixedDCCType, cal_type=cal)\n",
                "swaps.append(swap)\n",
                "swap = IborSwap(settlement_date, \"7Y\", swapType, 5.70/100.0, fixed_freqType, fixedDCCType, cal_type=cal)\n",
                "swaps.append(swap)\n",
                "swap = IborSwap(settlement_date, \"10Y\", swapType, 6.00/100.0, fixed_freqType, fixedDCCType, cal_type=cal)\n",
                "swaps.append(swap)\n",
                "swap = IborSwap(settlement_date, \"12Y\", swapType, 6.10/100.0, fixed_freqType, fixedDCCType, cal_type=cal)\n",
                "swaps.append(swap)\n",
                "swap = IborSwap(settlement_date, \"15Y\", swapType, 5.90/100.0, fixed_freqType, fixedDCCType, cal_type=cal)\n",
                "swaps.append(swap)\n",
                "swap = IborSwap(settlement_date, \"20Y\", swapType, 5.60/100.0, fixed_freqType, fixedDCCType, cal_type=cal)\n",
                "swaps.append(swap)\n",
                "swap = IborSwap(settlement_date, \"25Y\", swapType, 5.55/100.0, fixed_freqType, fixedDCCType, cal_type=cal)\n",
                "swaps.append(swap)"
            ]
        },
        {
            "cell_type": "markdown",
            "metadata": {},
            "source": [
                "Build curves using different interpolations"
            ]
        },
        {
            "cell_type": "code",
            "execution_count": null,
            "metadata": {},
            "outputs": [],
            "source": [
                "check_refit_flag = True\n",
                "iborCurves = {}\n",
                "iborCurveShockers = {}\n",
                "optional_interp_params = {'sigma' : 0.01} # only relevant for interp_type == InterpTypes.TENSION_ZERO_RATES\n",
                "\n",
                "interp_types_to_use = {\n",
                "    'FF':(InterpTypes.FLAT_FWD_RATES,{}), \n",
                "    'LF':(InterpTypes.LINEAR_FWD_RATES,{}), \n",
                "    'LZ':(InterpTypes.LINEAR_ZERO_RATES,{}), \n",
                "    'CZ':(InterpTypes.NATCUBIC_ZERO_RATES,{}),\n",
                "    'TZ1':(InterpTypes.TENSION_ZERO_RATES,{'sigma' : 0.1}),\n",
                "    'TZ2':(InterpTypes.TENSION_ZERO_RATES,{'sigma' : 2.0}),\n",
                "    'TZ3':(InterpTypes.TENSION_ZERO_RATES,{'sigma' : 10.0}),\n",
                "}\n",
                "\n",
                "for key, interp_type in interp_types_to_use.items():\n",
                "    print('Processing:', key, interp_type[0])\n",
                "    ibor_curve = IborSingleCurve(valuation_date, depos, fras, swaps, interp_type[0], check_refit_flag=check_refit_flag, **interp_type[1])\n",
                "    iborCurves[key] = ibor_curve\n",
                "    curveShocker = IborSingleCurveParShocker(ibor_curve)\n",
                "    iborCurveShockers[key] = curveShocker\n"
            ]
        },
        {
            "cell_type": "markdown",
            "metadata": {},
            "source": [
                "### Look at the benchmark report for one of the curves\n",
                "(they all have the same benchmarks)\n"
            ]
        },
        {
            "cell_type": "code",
            "execution_count": null,
            "metadata": {},
            "outputs": [],
            "source": [
                "# Print DataFrames in full\n",
                "pd.set_option('display.max_rows', None,\n",
                "                    'display.max_columns', None,\n",
                "                    'display.float_format', lambda x:f'{x:.4f}'\n",
                "                    )"
            ]
        },
        {
            "cell_type": "code",
            "execution_count": null,
            "metadata": {},
            "outputs": [],
            "source": [
                "# examine the last fit_report\n",
                "df_br = curveShocker.benchmarks_report()\n",
                "df_br"
            ]
        },
        {
            "cell_type": "markdown",
            "metadata": {},
            "source": [
                "### Choose the benchmark to bump and apply the bump"
            ]
        },
        {
            "cell_type": "code",
            "execution_count": null,
            "metadata": {},
            "outputs": [],
            "source": [
                "par_rate_bump = 1*0.0001\n",
                "benchmark_idx =7\n",
                "print(df_br.loc[benchmark_idx])\n",
                "bumpedCurves = {}\n",
                "for key, shocker in iborCurveShockers.items():\n",
                "    print('Processing:', key)\n",
                "    bumpedCurve = shocker.apply_bump_to_benchmark(benchmark_idx, par_rate_bump)\n",
                "    bumpedCurves[key] = bumpedCurve"
            ]
        },
        {
            "cell_type": "markdown",
            "metadata": {},
            "source": [
                "### Curve Shape Analysis"
            ]
        },
        {
            "cell_type": "markdown",
            "metadata": {},
            "source": [
                "Check instantaneous (ON) forward rates and see how they are affected by the par rate bump\n",
                "We are looking how 'local' are the changes in fwd rates -- the further they extend beyond benchmarks\n",
                "near the bumped one, the less local the bump and, generally, less financially justifyable the interpolation scheme"
            ]
        },
        {
            "cell_type": "code",
            "execution_count": null,
            "metadata": {
                "scrolled": false
            },
            "outputs": [],
            "source": [
                "%matplotlib widget\n",
                "years = np.linspace(1./365, 25, 25*365)\n",
                "plotDates = settlement_date.add_years(years)\n",
                "benchmark_years = (df_br['maturity_dt'] - valuation_date)/g_days_in_year\n",
                "\n",
                "keys_to_plot_collections = [['FF', 'LF', 'LZ'], ['FF', 'LZ', 'CZ'], ['CZ', 'TZ1', 'TZ2', 'TZ3']]\n",
                "for keys_to_plot in keys_to_plot_collections:\n",
                "    plt.figure(figsize=(8,5))\n",
                "    for key in keys_to_plot:\n",
                "\n",
                "        baseCurve = iborCurves[key]\n",
                "        bumpedCurve = bumpedCurves[key]\n",
                "        baseFwdRates  = baseCurve.fwd(plotDates)   \n",
                "        bumpedFwdRates = bumpedCurve.fwd(plotDates)   \n",
                "        plt.plot(years, (bumpedFwdRates-baseFwdRates)*10000.0, label=f\"interp={interp_types_to_use[key][0]}\")\n",
                "\n",
                "    plt.plot(benchmark_years, [0]*len(benchmark_years), 'o', label = 'benchmark maturity dates')\n",
                "    plt.title(f'Par rate bump to benchmark {benchmark_idx}')\n",
                "    plt.xlabel(\"Years\")\n",
                "    plt.ylabel(\"Bump (bps)\")\n",
                "    plt.legend(loc = 'best')\n",
                "    plt.show()"
            ]
        },
        {
            "cell_type": "code",
            "execution_count": null,
            "metadata": {},
            "outputs": [],
            "source": []
        }
    ],
    "metadata": {
        "kernelspec": {
            "display_name": "Python 3.8.8 ('base')",
            "language": "python",
            "name": "python3"
        },
        "language_info": {
            "codemirror_mode": {
                "name": "ipython",
                "version": 3
            },
            "file_extension": ".py",
            "mimetype": "text/x-python",
            "name": "python",
            "nbconvert_exporter": "python",
            "pygments_lexer": "ipython3",
            "version": "3.8.10"
        },
        "vscode": {
            "interpreter": {
                "hash": "884e84ff39d63fe0ace972cf9e1d3c4cdda6aeb2574d79c9ad7eb0401c2936b7"
            }
        }
    },
    "nbformat": 4,
    "nbformat_minor": 4
}