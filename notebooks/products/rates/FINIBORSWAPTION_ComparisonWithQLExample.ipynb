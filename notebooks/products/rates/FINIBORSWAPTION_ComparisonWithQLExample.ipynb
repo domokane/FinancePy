{
 "cells": [
  {
   "cell_type": "markdown",
   "metadata": {},
   "source": [
    "# Valuing European-style Swaptions with QL Example"
   ]
  },
  {
   "cell_type": "markdown",
   "metadata": {},
   "source": [
    "We value a European swaption using Black's model and try to replicate a QL example at http://khandrikacm.blogspot.com/2014/03/european-style-interest-rate-swaption.html"
   ]
  },
  {
   "cell_type": "code",
   "execution_count": 1,
   "metadata": {
    "execution": {
     "iopub.execute_input": "2025-08-27T22:38:15.933779Z",
     "iopub.status.busy": "2025-08-27T22:38:15.933521Z",
     "iopub.status.idle": "2025-08-27T22:38:16.395871Z",
     "shell.execute_reply": "2025-08-27T22:38:16.395473Z"
    }
   },
   "outputs": [],
   "source": [
    "import numpy as np\n",
    "import matplotlib.pyplot as plt"
   ]
  },
  {
   "cell_type": "code",
   "execution_count": 2,
   "metadata": {
    "execution": {
     "iopub.execute_input": "2025-08-27T22:38:16.398837Z",
     "iopub.status.busy": "2025-08-27T22:38:16.398500Z",
     "iopub.status.idle": "2025-08-27T22:38:17.983101Z",
     "shell.execute_reply": "2025-08-27T22:38:17.982726Z"
    }
   },
   "outputs": [],
   "source": [
    "from financepy.products.rates import *\n",
    "from financepy.utils import *\n",
    "from financepy.market.curves import *\n",
    "from financepy.models.black import Black"
   ]
  },
  {
   "cell_type": "markdown",
   "metadata": {},
   "source": [
    "## Building a Ibor Discount Curve"
   ]
  },
  {
   "cell_type": "code",
   "execution_count": 3,
   "metadata": {
    "execution": {
     "iopub.execute_input": "2025-08-27T22:38:17.985763Z",
     "iopub.status.busy": "2025-08-27T22:38:17.985387Z",
     "iopub.status.idle": "2025-08-27T22:38:18.003952Z",
     "shell.execute_reply": "2025-08-27T22:38:18.003560Z"
    }
   },
   "outputs": [],
   "source": [
    "value_dt = Date(28, 2, 2014)\n",
    "settle_dt = Date(4, 3, 2014)"
   ]
  },
  {
   "cell_type": "markdown",
   "metadata": {},
   "source": [
    "We have a vector of dates and zero rates"
   ]
  },
  {
   "cell_type": "code",
   "execution_count": 4,
   "metadata": {
    "execution": {
     "iopub.execute_input": "2025-08-27T22:38:18.006614Z",
     "iopub.status.busy": "2025-08-27T22:38:18.006297Z",
     "iopub.status.idle": "2025-08-27T22:38:18.091984Z",
     "shell.execute_reply": "2025-08-27T22:38:18.091437Z"
    }
   },
   "outputs": [],
   "source": [
    "depo_dcc_type = DayCountTypes.THIRTY_E_360_ISDA\n",
    "depos = []\n",
    "\n",
    "depo = IborDeposit(settle_dt, \"1W\", 0.0023, depo_dcc_type); depos.append(depo)\n",
    "depo = IborDeposit(settle_dt, \"1M\", 0.0023, depo_dcc_type); depos.append(depo)\n",
    "depo = IborDeposit(settle_dt, \"3M\", 0.0023, depo_dcc_type); depos.append(depo)\n",
    "depo = IborDeposit(settle_dt, \"6M\", 0.0023, depo_dcc_type); depos.append(depo)\n",
    "\n",
    "# No convexity correction provided so I omit interest rate futures\n",
    "\n",
    "swaps = []\n",
    "swap_type = SwapTypes.PAY\n",
    "fixed_dcc_type = DayCountTypes.ACT_365F\n",
    "fixed_freq_type = FrequencyTypes.SEMI_ANNUAL\n",
    "\n",
    "swap = IborSwap(settle_dt, \"3Y\", swap_type, 0.00790, fixed_freq_type, fixed_dcc_type); swaps.append(swap)\n",
    "swap = IborSwap(settle_dt, \"4Y\", swap_type, 0.01200, fixed_freq_type, fixed_dcc_type); swaps.append(swap)\n",
    "swap = IborSwap(settle_dt, \"5Y\", swap_type, 0.01570, fixed_freq_type, fixed_dcc_type); swaps.append(swap)\n",
    "swap = IborSwap(settle_dt, \"6Y\", swap_type, 0.01865, fixed_freq_type, fixed_dcc_type); swaps.append(swap)\n",
    "swap = IborSwap(settle_dt, \"7Y\", swap_type, 0.02160, fixed_freq_type, fixed_dcc_type); swaps.append(swap)\n",
    "swap = IborSwap(settle_dt, \"8Y\", swap_type, 0.02350, fixed_freq_type, fixed_dcc_type); swaps.append(swap)\n",
    "swap = IborSwap(settle_dt, \"9Y\", swap_type, 0.02540, fixed_freq_type, fixed_dcc_type); swaps.append(swap)\n",
    "swap = IborSwap(settle_dt, \"10Y\", swap_type, 0.0273, fixed_freq_type, fixed_dcc_type); swaps.append(swap)\n",
    "swap = IborSwap(settle_dt, \"15Y\", swap_type, 0.0297, fixed_freq_type, fixed_dcc_type); swaps.append(swap)\n",
    "swap = IborSwap(settle_dt, \"20Y\", swap_type, 0.0316, fixed_freq_type, fixed_dcc_type); swaps.append(swap)\n",
    "swap = IborSwap(settle_dt, \"25Y\", swap_type, 0.0335, fixed_freq_type, fixed_dcc_type); swaps.append(swap)\n",
    "swap = IborSwap(settle_dt, \"30Y\", swap_type, 0.0354, fixed_freq_type, fixed_dcc_type); swaps.append(swap)\n",
    "\n",
    "libor_curve = IborSingleCurve(value_dt, depos, [], swaps)"
   ]
  },
  {
   "cell_type": "code",
   "execution_count": 5,
   "metadata": {
    "execution": {
     "iopub.execute_input": "2025-08-27T22:38:18.094704Z",
     "iopub.status.busy": "2025-08-27T22:38:18.094407Z",
     "iopub.status.idle": "2025-08-27T22:38:18.097918Z",
     "shell.execute_reply": "2025-08-27T22:38:18.097531Z"
    }
   },
   "outputs": [],
   "source": [
    "exercise_date = settle_dt.add_tenor(\"5Y\")\n",
    "swap_maturity_dt = exercise_date.add_tenor(\"5Y\")\n",
    "\n",
    "swap_fixed_cpn = 0.040852\n",
    "swapFixedFrequencyType = FrequencyTypes.SEMI_ANNUAL\n",
    "swapFixedDayCountType = DayCountTypes.THIRTY_E_360_ISDA\n",
    "\n",
    "swapFloatFrequencyType = FrequencyTypes.QUARTERLY\n",
    "swapFloatDayCountType = DayCountTypes.ACT_360\n",
    "\n",
    "swapNotional = ONE_MILLION\n",
    "swap_type = SwapTypes.PAY\n",
    "cal_type = CalendarTypes.TARGET\n",
    "bd_type = BusDayAdjustTypes.MODIFIED_FOLLOWING\n",
    "dg_type = DateGenRuleTypes.BACKWARD"
   ]
  },
  {
   "cell_type": "code",
   "execution_count": 6,
   "metadata": {
    "execution": {
     "iopub.execute_input": "2025-08-27T22:38:18.100520Z",
     "iopub.status.busy": "2025-08-27T22:38:18.100247Z",
     "iopub.status.idle": "2025-08-27T22:38:18.103154Z",
     "shell.execute_reply": "2025-08-27T22:38:18.102767Z"
    }
   },
   "outputs": [],
   "source": [
    "swaption = IborSwaption(settle_dt,\n",
    "                            exercise_date,\n",
    "                            swap_maturity_dt,\n",
    "                            swap_type,\n",
    "                            swap_fixed_cpn,\n",
    "                            swapFixedFrequencyType,\n",
    "                            swapFixedDayCountType,\n",
    "                            swapNotional,\n",
    "                            swapFloatFrequencyType,\n",
    "                            swapFloatDayCountType,\n",
    "                            cal_type,\n",
    "                            bd_type,\n",
    "                            dg_type)"
   ]
  },
  {
   "cell_type": "code",
   "execution_count": 7,
   "metadata": {
    "execution": {
     "iopub.execute_input": "2025-08-27T22:38:18.105308Z",
     "iopub.status.busy": "2025-08-27T22:38:18.105042Z",
     "iopub.status.idle": "2025-08-27T22:38:18.108793Z",
     "shell.execute_reply": "2025-08-27T22:38:18.108491Z"
    }
   },
   "outputs": [
    {
     "name": "stdout",
     "output_type": "stream",
     "text": [
      "OBJECT TYPE: IborSwaption\n",
      "SETTLEMENT DATE: 04-MAR-2014\n",
      "EXERCISE DATE: 04-MAR-2019\n",
      "SWAP FIXED LEG TYPE: SwapTypes.PAY\n",
      "SWAP MATURITY DATE: 04-MAR-2024\n",
      "SWAP NOTIONAL: 1000000\n",
      "FIXED cpn: 4.0852\n",
      "FIXED FREQUENCY: FrequencyTypes.SEMI_ANNUAL\n",
      "FIXED DAY COUNT: DayCountTypes.THIRTY_E_360_ISDA\n",
      "FLOAT FREQUENCY: FrequencyTypes.QUARTERLY\n",
      "FLOAT DAY COUNT: DayCountTypes.ACT_360\n",
      "\n"
     ]
    }
   ],
   "source": [
    "print(swaption)"
   ]
  },
  {
   "cell_type": "code",
   "execution_count": 8,
   "metadata": {
    "execution": {
     "iopub.execute_input": "2025-08-27T22:38:18.111064Z",
     "iopub.status.busy": "2025-08-27T22:38:18.110793Z",
     "iopub.status.idle": "2025-08-27T22:38:18.113404Z",
     "shell.execute_reply": "2025-08-27T22:38:18.113006Z"
    }
   },
   "outputs": [],
   "source": [
    "model = Black(0.1533)"
   ]
  },
  {
   "cell_type": "code",
   "execution_count": 9,
   "metadata": {
    "execution": {
     "iopub.execute_input": "2025-08-27T22:38:18.115108Z",
     "iopub.status.busy": "2025-08-27T22:38:18.114920Z",
     "iopub.status.idle": "2025-08-27T22:38:18.120914Z",
     "shell.execute_reply": "2025-08-27T22:38:18.120560Z"
    }
   },
   "outputs": [
    {
     "data": {
      "text/plain": [
       "np.float64(24666.078516312486)"
      ]
     },
     "execution_count": 9,
     "metadata": {},
     "output_type": "execute_result"
    }
   ],
   "source": [
    "swaption.value(settle_dt, libor_curve, model)"
   ]
  },
  {
   "cell_type": "markdown",
   "metadata": {},
   "source": [
    "This is close to a value of 23162 using QL"
   ]
  },
  {
   "cell_type": "markdown",
   "metadata": {},
   "source": [
    "## Internals"
   ]
  },
  {
   "cell_type": "code",
   "execution_count": 10,
   "metadata": {
    "execution": {
     "iopub.execute_input": "2025-08-27T22:38:18.123353Z",
     "iopub.status.busy": "2025-08-27T22:38:18.123076Z",
     "iopub.status.idle": "2025-08-27T22:38:18.125767Z",
     "shell.execute_reply": "2025-08-27T22:38:18.125378Z"
    }
   },
   "outputs": [
    {
     "name": "stdout",
     "output_type": "stream",
     "text": [
      "OBJECT TYPE: IborSwaption\n",
      "SETTLEMENT DATE: 04-MAR-2014\n",
      "EXERCISE DATE: 04-MAR-2019\n",
      "SWAP FIXED LEG TYPE: SwapTypes.PAY\n",
      "SWAP MATURITY DATE: 04-MAR-2024\n",
      "SWAP NOTIONAL: 1000000\n",
      "FIXED cpn: 4.0852\n",
      "FIXED FREQUENCY: FrequencyTypes.SEMI_ANNUAL\n",
      "FIXED DAY COUNT: DayCountTypes.THIRTY_E_360_ISDA\n",
      "FLOAT FREQUENCY: FrequencyTypes.QUARTERLY\n",
      "FLOAT DAY COUNT: DayCountTypes.ACT_360\n",
      "PV01: 4.160189726243439\n",
      "FWD SWAP RATE: 4.148986244425445\n",
      "FWD DF TO EXPIRY: 0.923742186114948\n"
     ]
    }
   ],
   "source": [
    "print(swaption)"
   ]
  },
  {
   "cell_type": "markdown",
   "metadata": {},
   "source": [
    "We can see that the forward swap rate almost equals the fixed cpn. The underlying swap is close to being ATM forward."
   ]
  },
  {
   "cell_type": "code",
   "execution_count": 11,
   "metadata": {
    "execution": {
     "iopub.execute_input": "2025-08-27T22:38:18.128082Z",
     "iopub.status.busy": "2025-08-27T22:38:18.127821Z",
     "iopub.status.idle": "2025-08-27T22:38:18.130717Z",
     "shell.execute_reply": "2025-08-27T22:38:18.130328Z"
    }
   },
   "outputs": [
    {
     "name": "stdout",
     "output_type": "stream",
     "text": [
      "START DATE: 04-MAR-2019\n",
      "MATURITY DATE: 04-MAR-2024\n",
      "COUPON (%): 4.0852\n",
      "FREQUENCY: FrequencyTypes.SEMI_ANNUAL\n",
      "DAY COUNT: DayCountTypes.THIRTY_E_360_ISDA\n",
      "\n",
      "PAYMENTS VALUATION:\n",
      "PAY_NUM | PAY_dt      | NOTIONAL | RATE   | PMNT     | DF     | PV       | CUM_PV   \n",
      "--------+-------------+----------+--------+----------+--------+----------+----------\n",
      "      1 | 04-SEP-2019 |  1000000 | 4.0852 |  20426.0 |  0.908 | 18546.05 |  18546.05\n",
      "      2 | 04-MAR-2020 |  1000000 | 4.0852 |  20426.0 | 0.8926 | 18232.34 |  36778.39\n",
      "      3 | 04-SEP-2020 |  1000000 | 4.0852 |  20426.0 | 0.8744 | 17861.51 |  54639.89\n",
      "      4 | 04-MAR-2021 |  1000000 | 4.0852 |  20426.0 | 0.8569 | 17503.38 |  72143.27\n",
      "      5 | 06-SEP-2021 |  1000000 | 4.0852 | 20652.96 | 0.8404 | 17356.15 |  89499.42\n",
      "      6 | 04-MAR-2022 |  1000000 | 4.0852 | 20199.04 | 0.8248 |  16659.4 | 106158.82\n",
      "      7 | 05-SEP-2022 |  1000000 | 4.0852 | 20539.48 | 0.8072 | 16578.67 | 122737.49\n",
      "      8 | 06-MAR-2023 |  1000000 | 4.0852 | 20539.48 | 0.7902 | 16230.18 | 138967.67\n",
      "      9 | 04-SEP-2023 |  1000000 | 4.0852 | 20199.04 | 0.7718 | 15588.62 | 154556.29\n",
      "     10 | 04-MAR-2024 |  1000000 | 4.0852 |  20426.0 | 0.7537 | 15395.78 | 169952.07\n"
     ]
    }
   ],
   "source": [
    "swaption.print_swap_fixed_leg()"
   ]
  },
  {
   "cell_type": "code",
   "execution_count": 12,
   "metadata": {
    "execution": {
     "iopub.execute_input": "2025-08-27T22:38:18.132584Z",
     "iopub.status.busy": "2025-08-27T22:38:18.132354Z",
     "iopub.status.idle": "2025-08-27T22:38:18.135829Z",
     "shell.execute_reply": "2025-08-27T22:38:18.135447Z"
    }
   },
   "outputs": [
    {
     "name": "stdout",
     "output_type": "stream",
     "text": [
      "START DATE: 04-MAR-2019\n",
      "MATURITY DATE: 04-MAR-2024\n",
      "SPREAD (BPS): 0.0\n",
      "FREQUENCY: FrequencyTypes.QUARTERLY\n",
      "DAY COUNT: DayCountTypes.ACT_360\n",
      "\n",
      "PAYMENTS VALUATION:\n",
      "PAY_NUM | PAY_dt      | NOTIONAL | IBOR   | PMNT     | DF     | PV      | CUM_PV   \n",
      "--------+-------------+----------+--------+----------+--------+---------+----------\n",
      "      1 | 04-JUN-2019 |  1000000 | 3.4642 |  8853.04 | 0.9158 | 8107.92 |   8107.92\n",
      "      2 | 04-SEP-2019 |  1000000 | 3.4677 |  8861.85 |  0.908 | 8046.23 |  16154.15\n",
      "      3 | 04-DEC-2019 |  1000000 | 3.4298 |  8669.84 | 0.9002 | 7804.97 |  23959.12\n",
      "      4 | 04-MAR-2020 |  1000000 | 3.4233 |  8653.37 | 0.8926 | 7724.04 |  31683.16\n",
      "      5 | 04-JUN-2020 |  1000000 | 4.1266 | 10545.87 | 0.8835 | 9317.17 |  41000.33\n",
      "      6 | 04-SEP-2020 |  1000000 | 4.1353 | 10567.99 | 0.8744 | 9241.18 |   50241.5\n",
      "      7 | 04-DEC-2020 |  1000000 | 4.0901 | 10338.92 | 0.8656 | 8949.36 |  59190.86\n",
      "      8 | 04-MAR-2021 |  1000000 | 4.0526 | 10131.56 | 0.8569 |  8681.9 |  67872.76\n",
      "      9 | 04-JUN-2021 |  1000000 | 3.8791 |  9913.34 | 0.8487 | 8413.31 |  76286.07\n",
      "     10 | 06-SEP-2021 |  1000000 | 3.8718 | 10109.61 | 0.8404 | 8495.82 |   84781.9\n",
      "     11 | 06-DEC-2021 |  1000000 | 3.8309 |  9683.63 | 0.8324 | 8060.65 |  92842.55\n",
      "     12 | 04-MAR-2022 |  1000000 | 3.7882 |  9260.03 | 0.8248 | 7637.32 | 100479.86\n",
      "     13 | 06-JUN-2022 |  1000000 | 4.3078 | 11248.09 | 0.8158 | 9175.98 | 109655.84\n",
      "     14 | 05-SEP-2022 |  1000000 | 4.3196 | 10918.99 | 0.8072 | 8813.39 | 118469.23\n",
      "     15 | 05-DEC-2022 |  1000000 | 4.2716 | 10797.67 | 0.7986 | 8623.37 | 127092.61\n",
      "     16 | 06-MAR-2023 |  1000000 | 4.2247 | 10679.02 | 0.7902 |  8438.5 |  135531.1\n",
      "     17 | 05-JUN-2023 |  1000000 | 4.7995 | 12132.02 | 0.7809 | 9474.24 | 145005.34\n",
      "     18 | 04-SEP-2023 |  1000000 | 4.8103 | 12159.29 | 0.7718 | 9383.94 | 154389.28\n",
      "     19 | 04-DEC-2023 |  1000000 | 4.7568 | 12024.19 | 0.7627 | 9170.62 |  163559.9\n",
      "     20 | 04-MAR-2024 |  1000000 | 4.7478 | 12001.31 | 0.7537 |  9045.8 |  172605.7\n"
     ]
    }
   ],
   "source": [
    "swaption.print_swap_float_leg()"
   ]
  },
  {
   "cell_type": "markdown",
   "metadata": {},
   "source": [
    "Copyright (c) 2020 Dominic O'Kane"
   ]
  }
 ],
 "metadata": {
  "kernelspec": {
   "display_name": "base",
   "language": "python",
   "name": "python3"
  },
  "language_info": {
   "codemirror_mode": {
    "name": "ipython",
    "version": 3
   },
   "file_extension": ".py",
   "mimetype": "text/x-python",
   "name": "python",
   "nbconvert_exporter": "python",
   "pygments_lexer": "ipython3",
   "version": "3.13.5"
  }
 },
 "nbformat": 4,
 "nbformat_minor": 4
}
