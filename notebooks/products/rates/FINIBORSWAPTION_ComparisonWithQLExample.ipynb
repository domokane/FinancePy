{
    "cells": [
        {
            "cell_type": "markdown",
            "metadata": {},
            "source": [
                "# Valuing European-style Swaptions with QL Example"
            ]
        },
        {
            "cell_type": "markdown",
            "metadata": {},
            "source": [
                "We value a European swaption using Black's model and try to replicate a QL example at http://khandrikacm.blogspot.com/2014/03/european-style-interest-rate-swaption.html"
            ]
        },
        {
            "cell_type": "code",
            "execution_count": 1,
            "metadata": {
                "execution": {
                    "iopub.execute_input": "2024-04-30T20:33:58.241657Z",
                    "iopub.status.busy": "2024-04-30T20:33:58.240148Z",
                    "iopub.status.idle": "2024-04-30T20:33:58.841879Z",
                    "shell.execute_reply": "2024-04-30T20:33:58.841879Z"
                }
            },
            "outputs": [],
            "source": [
                "import numpy as np\n",
                "import matplotlib.pyplot as plt"
            ]
        },
        {
            "cell_type": "code",
            "execution_count": 2,
            "metadata": {
                "execution": {
                    "iopub.execute_input": "2024-04-30T20:33:58.844924Z",
                    "iopub.status.busy": "2024-04-30T20:33:58.843927Z",
                    "iopub.status.idle": "2024-04-30T20:34:00.294740Z",
                    "shell.execute_reply": "2024-04-30T20:34:00.294132Z"
                }
            },
            "outputs": [
                {
                    "name": "stdout",
                    "output_type": "stream",
                    "text": [
                        "####################################################################\n",
                        "#  FINANCEPY BETA Version 0.350 - This build: 30 Apr 2024 at 22:32 #\n",
                        "#     This software is distributed FREE AND WITHOUT ANY WARRANTY   #\n",
                        "#  Report bugs as issues at https://github.com/domokane/FinancePy  #\n",
                        "####################################################################\n",
                        "\n"
                    ]
                }
            ],
            "source": [
                "from financepy.products.rates import *\n",
                "from financepy.utils import *\n",
                "from financepy.market.curves import *\n",
                "from financepy.models.black import Black"
            ]
        },
        {
            "cell_type": "markdown",
            "metadata": {},
            "source": [
                "## Building a Ibor Discount Curve"
            ]
        },
        {
            "cell_type": "code",
            "execution_count": 3,
            "metadata": {
                "execution": {
                    "iopub.execute_input": "2024-04-30T20:34:00.297395Z",
                    "iopub.status.busy": "2024-04-30T20:34:00.296369Z",
                    "iopub.status.idle": "2024-04-30T20:34:00.317178Z",
                    "shell.execute_reply": "2024-04-30T20:34:00.317178Z"
                }
            },
            "outputs": [],
            "source": [
                "value_dt = Date(28, 2, 2014)\n",
                "settle_dt = Date(4, 3, 2014)"
            ]
        },
        {
            "cell_type": "markdown",
            "metadata": {},
            "source": [
                "We have a vector of dates and zero rates"
            ]
        },
        {
            "cell_type": "code",
            "execution_count": 4,
            "metadata": {
                "execution": {
                    "iopub.execute_input": "2024-04-30T20:34:00.320181Z",
                    "iopub.status.busy": "2024-04-30T20:34:00.320181Z",
                    "iopub.status.idle": "2024-04-30T20:34:00.440344Z",
                    "shell.execute_reply": "2024-04-30T20:34:00.440344Z"
                }
            },
            "outputs": [],
            "source": [
                "depo_dcc_type = DayCountTypes.THIRTY_E_360_ISDA\n",
                "depos = []\n",
                "\n",
                "depo = IborDeposit(settle_dt, \"1W\", 0.0023, depo_dcc_type); depos.append(depo)\n",
                "depo = IborDeposit(settle_dt, \"1M\", 0.0023, depo_dcc_type); depos.append(depo)\n",
                "depo = IborDeposit(settle_dt, \"3M\", 0.0023, depo_dcc_type); depos.append(depo)\n",
                "depo = IborDeposit(settle_dt, \"6M\", 0.0023, depo_dcc_type); depos.append(depo)\n",
                "\n",
                "# No convexity correction provided so I omit interest rate futures\n",
                "\n",
                "swaps = []\n",
                "swap_type = SwapTypes.PAY\n",
                "fixed_dcc_type = DayCountTypes.ACT_365F\n",
                "fixed_freq_type = FrequencyTypes.SEMI_ANNUAL\n",
                "\n",
                "swap = IborSwap(settle_dt, \"3Y\", swap_type, 0.00790, fixed_freq_type, fixed_dcc_type); swaps.append(swap)\n",
                "swap = IborSwap(settle_dt, \"4Y\", swap_type, 0.01200, fixed_freq_type, fixed_dcc_type); swaps.append(swap)\n",
                "swap = IborSwap(settle_dt, \"5Y\", swap_type, 0.01570, fixed_freq_type, fixed_dcc_type); swaps.append(swap)\n",
                "swap = IborSwap(settle_dt, \"6Y\", swap_type, 0.01865, fixed_freq_type, fixed_dcc_type); swaps.append(swap)\n",
                "swap = IborSwap(settle_dt, \"7Y\", swap_type, 0.02160, fixed_freq_type, fixed_dcc_type); swaps.append(swap)\n",
                "swap = IborSwap(settle_dt, \"8Y\", swap_type, 0.02350, fixed_freq_type, fixed_dcc_type); swaps.append(swap)\n",
                "swap = IborSwap(settle_dt, \"9Y\", swap_type, 0.02540, fixed_freq_type, fixed_dcc_type); swaps.append(swap)\n",
                "swap = IborSwap(settle_dt, \"10Y\", swap_type, 0.0273, fixed_freq_type, fixed_dcc_type); swaps.append(swap)\n",
                "swap = IborSwap(settle_dt, \"15Y\", swap_type, 0.0297, fixed_freq_type, fixed_dcc_type); swaps.append(swap)\n",
                "swap = IborSwap(settle_dt, \"20Y\", swap_type, 0.0316, fixed_freq_type, fixed_dcc_type); swaps.append(swap)\n",
                "swap = IborSwap(settle_dt, \"25Y\", swap_type, 0.0335, fixed_freq_type, fixed_dcc_type); swaps.append(swap)\n",
                "swap = IborSwap(settle_dt, \"30Y\", swap_type, 0.0354, fixed_freq_type, fixed_dcc_type); swaps.append(swap)\n",
                "\n",
                "libor_curve = IborSingleCurve(value_dt, depos, [], swaps)"
            ]
        },
        {
            "cell_type": "code",
            "execution_count": 5,
            "metadata": {
                "execution": {
                    "iopub.execute_input": "2024-04-30T20:34:00.443455Z",
                    "iopub.status.busy": "2024-04-30T20:34:00.442459Z",
                    "iopub.status.idle": "2024-04-30T20:34:00.447040Z",
                    "shell.execute_reply": "2024-04-30T20:34:00.447040Z"
                }
            },
            "outputs": [],
            "source": [
                "exercise_date = settle_dt.add_tenor(\"5Y\")\n",
                "swap_maturity_dt = exercise_date.add_tenor(\"5Y\")\n",
                "\n",
                "swap_fixed_cpn = 0.040852\n",
                "swapFixedFrequencyType = FrequencyTypes.SEMI_ANNUAL\n",
                "swapFixedDayCountType = DayCountTypes.THIRTY_E_360_ISDA\n",
                "\n",
                "swapFloatFrequencyType = FrequencyTypes.QUARTERLY\n",
                "swapFloatDayCountType = DayCountTypes.ACT_360\n",
                "\n",
                "swapNotional = ONE_MILLION\n",
                "swap_type = SwapTypes.PAY \n",
                "cal_type = CalendarTypes.TARGET\n",
                "bd_type = BusDayAdjustTypes.MODIFIED_FOLLOWING\n",
                "dg_type = DateGenRuleTypes.BACKWARD"
            ]
        },
        {
            "cell_type": "code",
            "execution_count": 6,
            "metadata": {
                "execution": {
                    "iopub.execute_input": "2024-04-30T20:34:00.450038Z",
                    "iopub.status.busy": "2024-04-30T20:34:00.449041Z",
                    "iopub.status.idle": "2024-04-30T20:34:00.452751Z",
                    "shell.execute_reply": "2024-04-30T20:34:00.452751Z"
                }
            },
            "outputs": [],
            "source": [
                "swaption = IborSwaption(settle_dt,\n",
                "                            exercise_date,\n",
                "                            swap_maturity_dt,\n",
                "                            swap_type,\n",
                "                            swap_fixed_cpn,\n",
                "                            swapFixedFrequencyType,\n",
                "                            swapFixedDayCountType, \n",
                "                            swapNotional, \n",
                "                            swapFloatFrequencyType,\n",
                "                            swapFloatDayCountType,\n",
                "                            cal_type, \n",
                "                            bd_type,\n",
                "                            dg_type)"
            ]
        },
        {
            "cell_type": "code",
            "execution_count": 7,
            "metadata": {
                "execution": {
                    "iopub.execute_input": "2024-04-30T20:34:00.454753Z",
                    "iopub.status.busy": "2024-04-30T20:34:00.454753Z",
                    "iopub.status.idle": "2024-04-30T20:34:00.458299Z",
                    "shell.execute_reply": "2024-04-30T20:34:00.458071Z"
                }
            },
            "outputs": [
                {
                    "name": "stdout",
                    "output_type": "stream",
                    "text": [
                        "OBJECT TYPE: IborSwaption\n",
                        "SETTLEMENT DATE: 04-MAR-2014\n",
                        "EXERCISE DATE: 04-MAR-2019\n",
                        "SWAP FIXED LEG TYPE: SwapTypes.PAY\n",
                        "SWAP MATURITY DATE: 04-MAR-2024\n",
                        "SWAP NOTIONAL: 1000000\n",
                        "FIXED cpn: 4.0852\n",
                        "FIXED FREQUENCY: FrequencyTypes.SEMI_ANNUAL\n",
                        "FIXED DAY COUNT: DayCountTypes.THIRTY_E_360_ISDA\n",
                        "FLOAT FREQUENCY: FrequencyTypes.QUARTERLY\n",
                        "FLOAT DAY COUNT: DayCountTypes.ACT_360\n",
                        "\n"
                    ]
                }
            ],
            "source": [
                "print(swaption)"
            ]
        },
        {
            "cell_type": "code",
            "execution_count": 8,
            "metadata": {
                "execution": {
                    "iopub.execute_input": "2024-04-30T20:34:00.460298Z",
                    "iopub.status.busy": "2024-04-30T20:34:00.460298Z",
                    "iopub.status.idle": "2024-04-30T20:34:00.463358Z",
                    "shell.execute_reply": "2024-04-30T20:34:00.463122Z"
                }
            },
            "outputs": [],
            "source": [
                "model = Black(0.1533)"
            ]
        },
        {
            "cell_type": "code",
            "execution_count": 9,
            "metadata": {
                "execution": {
                    "iopub.execute_input": "2024-04-30T20:34:00.465356Z",
                    "iopub.status.busy": "2024-04-30T20:34:00.465356Z",
                    "iopub.status.idle": "2024-04-30T20:34:00.471665Z",
                    "shell.execute_reply": "2024-04-30T20:34:00.471665Z"
                }
            },
            "outputs": [
                {
                    "data": {
                        "text/plain": [
                            "23177.724869952563"
                        ]
                    },
                    "execution_count": 9,
                    "metadata": {},
                    "output_type": "execute_result"
                }
            ],
            "source": [
                "swaption.value(settle_dt, libor_curve, model)"
            ]
        },
        {
            "cell_type": "markdown",
            "metadata": {},
            "source": [
                "This is close to a value of 23162 using QL"
            ]
        },
        {
            "cell_type": "markdown",
            "metadata": {},
            "source": [
                "## Internals"
            ]
        },
        {
            "cell_type": "code",
            "execution_count": 10,
            "metadata": {
                "execution": {
                    "iopub.execute_input": "2024-04-30T20:34:00.474271Z",
                    "iopub.status.busy": "2024-04-30T20:34:00.474271Z",
                    "iopub.status.idle": "2024-04-30T20:34:00.476715Z",
                    "shell.execute_reply": "2024-04-30T20:34:00.476715Z"
                }
            },
            "outputs": [
                {
                    "name": "stdout",
                    "output_type": "stream",
                    "text": [
                        "OBJECT TYPE: IborSwaption\n",
                        "SETTLEMENT DATE: 04-MAR-2014\n",
                        "EXERCISE DATE: 04-MAR-2019\n",
                        "SWAP FIXED LEG TYPE: SwapTypes.PAY\n",
                        "SWAP MATURITY DATE: 04-MAR-2024\n",
                        "SWAP NOTIONAL: 1000000\n",
                        "FIXED cpn: 4.0852\n",
                        "FIXED FREQUENCY: FrequencyTypes.SEMI_ANNUAL\n",
                        "FIXED DAY COUNT: DayCountTypes.THIRTY_E_360_ISDA\n",
                        "FLOAT FREQUENCY: FrequencyTypes.QUARTERLY\n",
                        "FLOAT DAY COUNT: DayCountTypes.ACT_360\n",
                        "PV01: 4.160189726243439\n",
                        "FWD SWAP RATE: 4.0870049576101986\n",
                        "FWD DF TO EXPIRY: 0.923742186114948\n"
                    ]
                }
            ],
            "source": [
                "print(swaption)"
            ]
        },
        {
            "cell_type": "markdown",
            "metadata": {},
            "source": [
                "We can see that the forward swap rate almost equals the fixed cpn. The underlying swap is close to being ATM forward."
            ]
        },
        {
            "cell_type": "code",
            "execution_count": 11,
            "metadata": {
                "execution": {
                    "iopub.execute_input": "2024-04-30T20:34:00.479732Z",
                    "iopub.status.busy": "2024-04-30T20:34:00.478736Z",
                    "iopub.status.idle": "2024-04-30T20:34:00.483732Z",
                    "shell.execute_reply": "2024-04-30T20:34:00.483732Z"
                }
            },
            "outputs": [
                {
                    "name": "stdout",
                    "output_type": "stream",
                    "text": [
                        "START DATE: 04-MAR-2019\n",
                        "MATURITY DATE: 04-MAR-2024\n",
                        "COUPON (%): 4.0852\n",
                        "FREQUENCY: FrequencyTypes.SEMI_ANNUAL\n",
                        "DAY COUNT: DayCountTypes.THIRTY_E_360_ISDA\n",
                        "\n",
                        "PAYMENTS VALUATION:\n",
                        "+---------+-------------+----------+--------+----------+--------+----------+-----------+\n",
                        "| PAY_NUM |    PAY_dt   | NOTIONAL |  RATE  |   PMNT   |   DF   |    PV    |   CUM_PV  |\n",
                        "+---------+-------------+----------+--------+----------+--------+----------+-----------+\n",
                        "|    1    | 04-SEP-2019 | 1000000  | 4.0852 | 20426.0  | 0.908  | 18546.05 |  18546.05 |\n",
                        "|    2    | 04-MAR-2020 | 1000000  | 4.0852 | 20426.0  | 0.8926 | 18232.34 |  36778.39 |\n",
                        "|    3    | 04-SEP-2020 | 1000000  | 4.0852 | 20426.0  | 0.8744 | 17861.51 |  54639.89 |\n",
                        "|    4    | 04-MAR-2021 | 1000000  | 4.0852 | 20426.0  | 0.8569 | 17503.38 |  72143.27 |\n",
                        "|    5    | 06-SEP-2021 | 1000000  | 4.0852 | 20652.96 | 0.8404 | 17356.15 |  89499.42 |\n",
                        "|    6    | 04-MAR-2022 | 1000000  | 4.0852 | 20199.04 | 0.8248 | 16659.4  | 106158.82 |\n",
                        "|    7    | 05-SEP-2022 | 1000000  | 4.0852 | 20539.48 | 0.8072 | 16578.67 | 122737.49 |\n",
                        "|    8    | 06-MAR-2023 | 1000000  | 4.0852 | 20539.48 | 0.7902 | 16230.18 | 138967.67 |\n",
                        "|    9    | 04-SEP-2023 | 1000000  | 4.0852 | 20199.04 | 0.7718 | 15588.62 | 154556.29 |\n",
                        "|    10   | 04-MAR-2024 | 1000000  | 4.0852 | 20426.0  | 0.7537 | 15395.78 | 169952.07 |\n",
                        "+---------+-------------+----------+--------+----------+--------+----------+-----------+\n"
                    ]
                }
            ],
            "source": [
                "swaption.print_swap_fixed_leg()"
            ]
        },
        {
            "cell_type": "code",
            "execution_count": 12,
            "metadata": {
                "execution": {
                    "iopub.execute_input": "2024-04-30T20:34:00.485735Z",
                    "iopub.status.busy": "2024-04-30T20:34:00.485735Z",
                    "iopub.status.idle": "2024-04-30T20:34:00.489167Z",
                    "shell.execute_reply": "2024-04-30T20:34:00.488937Z"
                }
            },
            "outputs": [
                {
                    "name": "stdout",
                    "output_type": "stream",
                    "text": [
                        "START DATE: 04-MAR-2019\n",
                        "MATURITY DATE: 04-MAR-2024\n",
                        "SPREAD (BPS): 0.0\n",
                        "FREQUENCY: FrequencyTypes.QUARTERLY\n",
                        "DAY COUNT: DayCountTypes.ACT_360\n",
                        "Payments not calculated.\n"
                    ]
                }
            ],
            "source": [
                "swaption.print_swap_float_leg()"
            ]
        },
        {
            "cell_type": "markdown",
            "metadata": {},
            "source": [
                "Copyright (c) 2020 Dominic O'Kane"
            ]
        }
    ],
    "metadata": {
        "kernelspec": {
            "display_name": "Python 3",
            "language": "python",
            "name": "python3"
        },
        "language_info": {
            "codemirror_mode": {
                "name": "ipython",
                "version": 3
            },
            "file_extension": ".py",
            "mimetype": "text/x-python",
            "name": "python",
            "nbconvert_exporter": "python",
            "pygments_lexer": "ipython3",
            "version": "3.11.5"
        }
    },
    "nbformat": 4,
    "nbformat_minor": 4
}