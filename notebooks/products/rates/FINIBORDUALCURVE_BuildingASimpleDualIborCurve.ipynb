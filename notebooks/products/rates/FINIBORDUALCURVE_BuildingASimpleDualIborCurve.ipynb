{
 "cells": [
  {
   "cell_type": "markdown",
   "metadata": {},
   "source": [
    "# Building a Dual Ibor Curve"
   ]
  },
  {
   "cell_type": "markdown",
   "metadata": {},
   "source": [
    "The aim is to construct an IBOR curve that uses OIS discounting"
   ]
  },
  {
   "cell_type": "code",
   "execution_count": 1,
   "metadata": {
    "execution": {
     "iopub.execute_input": "2025-09-14T22:24:15.067641Z",
     "iopub.status.busy": "2025-09-14T22:24:15.067522Z",
     "iopub.status.idle": "2025-09-14T22:24:15.303443Z",
     "shell.execute_reply": "2025-09-14T22:24:15.302873Z"
    }
   },
   "outputs": [],
   "source": [
    "import numpy as np\n",
    "import matplotlib.pyplot as plt"
   ]
  },
  {
   "cell_type": "code",
   "execution_count": 2,
   "metadata": {
    "execution": {
     "iopub.execute_input": "2025-09-14T22:24:15.305139Z",
     "iopub.status.busy": "2025-09-14T22:24:15.304927Z",
     "iopub.status.idle": "2025-09-14T22:24:16.353171Z",
     "shell.execute_reply": "2025-09-14T22:24:16.352811Z"
    }
   },
   "outputs": [],
   "source": [
    "from financepy.utils import *\n",
    "from financepy.products.rates import *"
   ]
  },
  {
   "cell_type": "code",
   "execution_count": 3,
   "metadata": {
    "execution": {
     "iopub.execute_input": "2025-09-14T22:24:16.355848Z",
     "iopub.status.busy": "2025-09-14T22:24:16.355320Z",
     "iopub.status.idle": "2025-09-14T22:24:16.358263Z",
     "shell.execute_reply": "2025-09-14T22:24:16.358051Z"
    }
   },
   "outputs": [],
   "source": [
    "set_date_format(DateFormatTypes.UK_LONGEST)"
   ]
  },
  {
   "cell_type": "code",
   "execution_count": 4,
   "metadata": {
    "execution": {
     "iopub.execute_input": "2025-09-14T22:24:16.359449Z",
     "iopub.status.busy": "2025-09-14T22:24:16.359319Z",
     "iopub.status.idle": "2025-09-14T22:24:16.376525Z",
     "shell.execute_reply": "2025-09-14T22:24:16.376132Z"
    }
   },
   "outputs": [],
   "source": [
    "value_dt = Date(18, 9, 2019)"
   ]
  },
  {
   "cell_type": "markdown",
   "metadata": {},
   "source": [
    "## Building the Discount Curve"
   ]
  },
  {
   "cell_type": "markdown",
   "metadata": {},
   "source": [
    "This is based on OIS rates. We anchor the short end using the overnight rate."
   ]
  },
  {
   "cell_type": "code",
   "execution_count": 5,
   "metadata": {
    "execution": {
     "iopub.execute_input": "2025-09-14T22:24:16.377940Z",
     "iopub.status.busy": "2025-09-14T22:24:16.377796Z",
     "iopub.status.idle": "2025-09-14T22:24:16.388504Z",
     "shell.execute_reply": "2025-09-14T22:24:16.387331Z"
    }
   },
   "outputs": [],
   "source": [
    "onRate = 0.045\n",
    "\n",
    "depo_dcc_type = DayCountTypes.THIRTY_E_360_ISDA\n",
    "depos = []\n",
    "spot_days = 2\n",
    "settle_dt = value_dt.add_weekdays(spot_days)\n",
    "depo = IborDeposit(settle_dt, \"1D\", onRate, depo_dcc_type); depos.append(depo)"
   ]
  },
  {
   "cell_type": "code",
   "execution_count": 6,
   "metadata": {
    "execution": {
     "iopub.execute_input": "2025-09-14T22:24:16.390121Z",
     "iopub.status.busy": "2025-09-14T22:24:16.389966Z",
     "iopub.status.idle": "2025-09-14T22:24:16.394702Z",
     "shell.execute_reply": "2025-09-14T22:24:16.394343Z"
    }
   },
   "outputs": [
    {
     "data": {
      "text/plain": [
       "FRI 20 SEP 2019"
      ]
     },
     "execution_count": 6,
     "metadata": {},
     "output_type": "execute_result"
    }
   ],
   "source": [
    "settle_dt"
   ]
  },
  {
   "cell_type": "markdown",
   "metadata": {},
   "source": [
    "We use swaps with a regular term"
   ]
  },
  {
   "cell_type": "code",
   "execution_count": 7,
   "metadata": {
    "execution": {
     "iopub.execute_input": "2025-09-14T22:24:16.395843Z",
     "iopub.status.busy": "2025-09-14T22:24:16.395714Z",
     "iopub.status.idle": "2025-09-14T22:24:16.399958Z",
     "shell.execute_reply": "2025-09-14T22:24:16.399618Z"
    }
   },
   "outputs": [],
   "source": [
    "oiss = []\n",
    "swap_type = SwapTypes.PAY\n",
    "fixed_dcc_type = DayCountTypes.ACT_365F\n",
    "fixed_freq_type = FrequencyTypes.SEMI_ANNUAL\n",
    "\n",
    "swap = OIS(settle_dt, \"1Y\", swap_type, onRate + 0.0001, fixed_freq_type, fixed_dcc_type); oiss.append(swap)\n",
    "swap = OIS(settle_dt, \"2Y\", swap_type, onRate + 0.0003, fixed_freq_type, fixed_dcc_type); oiss.append(swap)\n",
    "swap = OIS(settle_dt, \"3Y\", swap_type, onRate + 0.0010, fixed_freq_type, fixed_dcc_type); oiss.append(swap)\n",
    "swap = OIS(settle_dt, \"4Y\", swap_type, onRate + 0.0015, fixed_freq_type, fixed_dcc_type); oiss.append(swap)\n",
    "swap = OIS(settle_dt, \"5Y\", swap_type, onRate + 0.0020, fixed_freq_type, fixed_dcc_type); oiss.append(swap)\n",
    "swap = OIS(settle_dt, \"7Y\", swap_type, onRate + 0.0030, fixed_freq_type, fixed_dcc_type); oiss.append(swap)\n",
    "swap = OIS(settle_dt, \"10Y\", swap_type, onRate + 0.0035, fixed_freq_type, fixed_dcc_type); oiss.append(swap)"
   ]
  },
  {
   "cell_type": "code",
   "execution_count": 8,
   "metadata": {
    "execution": {
     "iopub.execute_input": "2025-09-14T22:24:16.401544Z",
     "iopub.status.busy": "2025-09-14T22:24:16.401426Z",
     "iopub.status.idle": "2025-09-14T22:24:16.408617Z",
     "shell.execute_reply": "2025-09-14T22:24:16.408305Z"
    }
   },
   "outputs": [
    {
     "name": "stdout",
     "output_type": "stream",
     "text": [
      "Inserting synthetic deposit\n"
     ]
    }
   ],
   "source": [
    "ois_curve = OISCurve(value_dt, depos, [], oiss, InterpTypes.FLAT_FWD_RATES)"
   ]
  },
  {
   "cell_type": "markdown",
   "metadata": {},
   "source": [
    "Let's just check a repricing by looking at the value of the longest OIS."
   ]
  },
  {
   "cell_type": "code",
   "execution_count": 9,
   "metadata": {
    "execution": {
     "iopub.execute_input": "2025-09-14T22:24:16.409767Z",
     "iopub.status.busy": "2025-09-14T22:24:16.409635Z",
     "iopub.status.idle": "2025-09-14T22:24:16.413143Z",
     "shell.execute_reply": "2025-09-14T22:24:16.412805Z"
    }
   },
   "outputs": [
    {
     "name": "stdout",
     "output_type": "stream",
     "text": [
      "MON 21 SEP 2020   0.000000000000\n",
      "MON 20 SEP 2021  -0.000000000000\n",
      "TUE 20 SEP 2022   0.000000000000\n",
      "WED 20 SEP 2023  -0.000000000000\n",
      "FRI 20 SEP 2024  -0.000000000000\n",
      "MON 21 SEP 2026  -0.000000000000\n",
      "THU 20 SEP 2029  -0.000000000001\n"
     ]
    }
   ],
   "source": [
    "for swap in oiss:\n",
    "    v_single = swap.value(value_dt, ois_curve) / swap.fixed_leg.notional\n",
    "    print(\"%12s  %15.12f\" % (swap.maturity_dt, v_single))"
   ]
  },
  {
   "cell_type": "markdown",
   "metadata": {},
   "source": [
    "This is effectively zero. So they are all repriced."
   ]
  },
  {
   "cell_type": "markdown",
   "metadata": {},
   "source": [
    "## Building the 3M IBOR Curve"
   ]
  },
  {
   "cell_type": "markdown",
   "metadata": {},
   "source": [
    "We use ON rate, 3M Ibor FRAs and IBOR swaps with a 3M floating Leg (this is the default for IborSwap)"
   ]
  },
  {
   "cell_type": "code",
   "execution_count": 10,
   "metadata": {
    "execution": {
     "iopub.execute_input": "2025-09-14T22:24:16.414210Z",
     "iopub.status.busy": "2025-09-14T22:24:16.414088Z",
     "iopub.status.idle": "2025-09-14T22:24:16.419020Z",
     "shell.execute_reply": "2025-09-14T22:24:16.418738Z"
    }
   },
   "outputs": [],
   "source": [
    "depo_dcc_type = DayCountTypes.THIRTY_E_360_ISDA\n",
    "depos = []\n",
    "depo = IborDeposit(settle_dt, \"1D\", onRate, depo_dcc_type); depos.append(depo)\n",
    "\n",
    "pay_fixed = True\n",
    "fras = []\n",
    "\n",
    "# 1 x 4 FRA\n",
    "fra_rate = onRate + 0.0003\n",
    "fraSettlementDate = settle_dt.add_months(1)\n",
    "fraMaturityDate = settle_dt.add_months(4)\n",
    "fra = IborFRA(fraSettlementDate, fraMaturityDate, fra_rate, depo_dcc_type)\n",
    "fras.append(fra)\n",
    "\n",
    "# 2 x 5 FRA\n",
    "fra_rate = onRate + 0.0005\n",
    "fraSettlementDate = settle_dt.add_months(2)\n",
    "fraMaturityDate = settle_dt.add_months(5)\n",
    "fra = IborFRA(fraSettlementDate, fraMaturityDate, fra_rate, depo_dcc_type)\n",
    "fras.append(fra)\n",
    "\n",
    "# 3 x 6 FRA\n",
    "fra_rate = onRate + 0.0007\n",
    "fraSettlementDate = settle_dt.add_months(3)\n",
    "fraMaturityDate = settle_dt.add_months(6)\n",
    "fra = IborFRA(fraSettlementDate, fraMaturityDate, fra_rate, depo_dcc_type)\n",
    "fras.append(fra)\n",
    "\n",
    "# 4 x 7 FRA\n",
    "fra_rate = onRate + 0.0007\n",
    "fraSettlementDate = settle_dt.add_months(4)\n",
    "fraMaturityDate = settle_dt.add_months(7)\n",
    "fra = IborFRA(fraSettlementDate, fraMaturityDate, fra_rate, depo_dcc_type)\n",
    "fras.append(fra)\n",
    "\n",
    "# 5 x 8 FRA\n",
    "fra_rate = onRate + 0.0008\n",
    "fraSettlementDate = settle_dt.add_months(5)\n",
    "fraMaturityDate = settle_dt.add_months(8)\n",
    "fra = IborFRA(fraSettlementDate, fraMaturityDate, fra_rate, depo_dcc_type)\n",
    "fras.append(fra)\n",
    "\n",
    "swaps = []\n",
    "swap_type = SwapTypes.PAY\n",
    "fixed_dcc_type = DayCountTypes.ACT_365F\n",
    "fixed_freq_type = FrequencyTypes.SEMI_ANNUAL\n",
    "\n",
    "swap = IborSwap(settle_dt, \"1Y\", swap_type, 0.0470, fixed_freq_type, fixed_dcc_type); swaps.append(swap)\n",
    "swap = IborSwap(settle_dt, \"3Y\", swap_type, 0.0475, fixed_freq_type, fixed_dcc_type); swaps.append(swap)\n",
    "swap = IborSwap(settle_dt, \"5Y\", swap_type, 0.0490, fixed_freq_type, fixed_dcc_type); swaps.append(swap)\n",
    "swap = IborSwap(settle_dt, \"7Y\", swap_type, 0.0510, fixed_freq_type, fixed_dcc_type); swaps.append(swap)\n",
    "swap = IborSwap(settle_dt, \"10Y\", swap_type, 0.0520, fixed_freq_type, fixed_dcc_type); swaps.append(swap)"
   ]
  },
  {
   "cell_type": "markdown",
   "metadata": {},
   "source": [
    "Let's first build a single curve that assumes index and funding rates are same"
   ]
  },
  {
   "cell_type": "markdown",
   "metadata": {},
   "source": [
    "Note that for ease of comparison I use flat forward interpolation"
   ]
  },
  {
   "cell_type": "code",
   "execution_count": 11,
   "metadata": {
    "execution": {
     "iopub.execute_input": "2025-09-14T22:24:16.421270Z",
     "iopub.status.busy": "2025-09-14T22:24:16.421132Z",
     "iopub.status.idle": "2025-09-14T22:24:16.425125Z",
     "shell.execute_reply": "2025-09-14T22:24:16.424749Z"
    }
   },
   "outputs": [
    {
     "data": {
      "text/plain": [
       "OBJECT TYPE: IborDeposit\n",
       "START DATE: FRI 20 SEP 2019\n",
       "MATURITY DATE: MON 23 SEP 2019\n",
       "NOTIONAL: 100.0\n",
       "DEPOSIT RATE: 0.045\n",
       "DAY COUNT TYPE: DayCountTypes.THIRTY_E_360_ISDA\n",
       "CALENDAR: CalendarTypes.WEEKEND\n",
       "BUS DAY ADJUST TYPE: BusDayAdjustTypes.MODIFIED_FOLLOWING"
      ]
     },
     "execution_count": 11,
     "metadata": {},
     "output_type": "execute_result"
    }
   ],
   "source": [
    "depos[0]"
   ]
  },
  {
   "cell_type": "code",
   "execution_count": 12,
   "metadata": {
    "execution": {
     "iopub.execute_input": "2025-09-14T22:24:16.426280Z",
     "iopub.status.busy": "2025-09-14T22:24:16.426153Z",
     "iopub.status.idle": "2025-09-14T22:24:16.435754Z",
     "shell.execute_reply": "2025-09-14T22:24:16.435417Z"
    }
   },
   "outputs": [],
   "source": [
    "ibor_single_curve = IborSingleCurve(value_dt, depos, fras, swaps, InterpTypes.FLAT_FWD_RATES)"
   ]
  },
  {
   "cell_type": "markdown",
   "metadata": {},
   "source": [
    "Let's check repricing of FRAs and Swaps"
   ]
  },
  {
   "cell_type": "code",
   "execution_count": 13,
   "metadata": {
    "execution": {
     "iopub.execute_input": "2025-09-14T22:24:16.437021Z",
     "iopub.status.busy": "2025-09-14T22:24:16.436893Z",
     "iopub.status.idle": "2025-09-14T22:24:16.440939Z",
     "shell.execute_reply": "2025-09-14T22:24:16.440644Z"
    }
   },
   "outputs": [
    {
     "name": "stdout",
     "output_type": "stream",
     "text": [
      "MON 20 JAN 2020     0.000000000000\n",
      "THU 20 FEB 2020     0.000000000000\n",
      "FRI 20 MAR 2020     0.000000000001\n",
      "MON 20 APR 2020     0.000000000001\n",
      "WED 20 MAY 2020     0.000000000003\n"
     ]
    }
   ],
   "source": [
    "for fra in fras:\n",
    "    v = fra.value(value_dt, ibor_single_curve)/ fra.notional\n",
    "    print(\"%12s %18.12f\" % (fra.maturity_dt, v))"
   ]
  },
  {
   "cell_type": "code",
   "execution_count": 14,
   "metadata": {
    "execution": {
     "iopub.execute_input": "2025-09-14T22:24:16.442023Z",
     "iopub.status.busy": "2025-09-14T22:24:16.441899Z",
     "iopub.status.idle": "2025-09-14T22:24:16.445887Z",
     "shell.execute_reply": "2025-09-14T22:24:16.445647Z"
    }
   },
   "outputs": [
    {
     "name": "stdout",
     "output_type": "stream",
     "text": [
      "MON 21 SEP 2020    -0.000000000039\n",
      "TUE 20 SEP 2022    -0.000000000000\n",
      "FRI 20 SEP 2024    -0.000000000000\n",
      "MON 21 SEP 2026    -0.000000000000\n",
      "THU 20 SEP 2029    -0.000000000003\n"
     ]
    }
   ],
   "source": [
    "for swap in swaps:\n",
    "    v = swap.value(value_dt, ibor_single_curve)/ swap.fixed_leg.notional\n",
    "    print(\"%12s %18.12f\" %(swap.maturity_dt, v))"
   ]
  },
  {
   "cell_type": "markdown",
   "metadata": {},
   "source": [
    "The fit looks perfect"
   ]
  },
  {
   "cell_type": "markdown",
   "metadata": {},
   "source": [
    "## Building the Dual Curve"
   ]
  },
  {
   "cell_type": "markdown",
   "metadata": {},
   "source": [
    "Let's build a dual curve that incorporates funding and index curve differential."
   ]
  },
  {
   "cell_type": "code",
   "execution_count": 15,
   "metadata": {
    "execution": {
     "iopub.execute_input": "2025-09-14T22:24:16.446838Z",
     "iopub.status.busy": "2025-09-14T22:24:16.446714Z",
     "iopub.status.idle": "2025-09-14T22:24:16.459903Z",
     "shell.execute_reply": "2025-09-14T22:24:16.458512Z"
    }
   },
   "outputs": [],
   "source": [
    "ibor_dual_curve = IborDualCurve(value_dt, ois_curve, depos, fras, swaps, InterpTypes.FLAT_FWD_RATES)"
   ]
  },
  {
   "cell_type": "code",
   "execution_count": 16,
   "metadata": {
    "execution": {
     "iopub.execute_input": "2025-09-14T22:24:16.462124Z",
     "iopub.status.busy": "2025-09-14T22:24:16.461913Z",
     "iopub.status.idle": "2025-09-14T22:24:16.464984Z",
     "shell.execute_reply": "2025-09-14T22:24:16.464703Z"
    }
   },
   "outputs": [
    {
     "name": "stdout",
     "output_type": "stream",
     "text": [
      "MON 20 JAN 2020    -0.000000000000\n",
      "THU 20 FEB 2020     0.000000000001\n",
      "FRI 20 MAR 2020     0.000000000001\n",
      "MON 20 APR 2020     0.000000000001\n",
      "WED 20 MAY 2020     0.000000000001\n"
     ]
    }
   ],
   "source": [
    "for fra in fras:\n",
    "    v_dual = fra.value(value_dt, ois_curve, ibor_dual_curve) / fra.notional\n",
    "    print(\"%12s %18.12f\"% (fra.maturity_dt, v_dual))"
   ]
  },
  {
   "cell_type": "code",
   "execution_count": 17,
   "metadata": {
    "execution": {
     "iopub.execute_input": "2025-09-14T22:24:16.466081Z",
     "iopub.status.busy": "2025-09-14T22:24:16.465939Z",
     "iopub.status.idle": "2025-09-14T22:24:16.469859Z",
     "shell.execute_reply": "2025-09-14T22:24:16.469565Z"
    }
   },
   "outputs": [
    {
     "name": "stdout",
     "output_type": "stream",
     "text": [
      "MON 21 SEP 2020     0.000000000000\n",
      "TUE 20 SEP 2022     0.000000000000\n",
      "FRI 20 SEP 2024     0.000000000000\n",
      "MON 21 SEP 2026    -0.000000000000\n",
      "THU 20 SEP 2029    -0.000000000000\n"
     ]
    }
   ],
   "source": [
    "for swap in swaps:\n",
    "    v_dual = swap.value(value_dt, ois_curve, ibor_dual_curve) / swap.fixed_leg.notional\n",
    "    print(\"%12s %18.12f\"% (swap.maturity_dt, v_dual))"
   ]
  },
  {
   "cell_type": "markdown",
   "metadata": {},
   "source": [
    "This is within the allowed tolerance."
   ]
  },
  {
   "cell_type": "markdown",
   "metadata": {},
   "source": [
    "## Comparison of Curves"
   ]
  },
  {
   "cell_type": "markdown",
   "metadata": {},
   "source": [
    "We examine the forward rates of the three curves"
   ]
  },
  {
   "cell_type": "code",
   "execution_count": 18,
   "metadata": {
    "execution": {
     "iopub.execute_input": "2025-09-14T22:24:16.470931Z",
     "iopub.status.busy": "2025-09-14T22:24:16.470816Z",
     "iopub.status.idle": "2025-09-14T22:24:16.556741Z",
     "shell.execute_reply": "2025-09-14T22:24:16.555624Z"
    }
   },
   "outputs": [
    {
     "data": {
      "image/png": "[encoded data removed]",
      "text/plain": [
       "<Figure size 640x480 with 1 Axes>"
      ]
     },
     "metadata": {},
     "output_type": "display_data"
    }
   ],
   "source": [
    "years = np.linspace(0, 10, 1201)\n",
    "dates = settle_dt.add_years(years)\n",
    "\n",
    "singleCurveFwds = ibor_single_curve.fwd(dates)\n",
    "plt.plot(years, singleCurveFwds*100, label=\"Single Libor Curve\")\n",
    "\n",
    "oisCurveFwds = ois_curve.fwd(dates)\n",
    "plt.plot(years, oisCurveFwds*100.0, label=\"OIS Curve\")\n",
    "\n",
    "index_curveFwds = ibor_dual_curve.fwd(dates)\n",
    "plt.plot(years, index_curveFwds*100.0, label=\"Libor Index Curve\")\n",
    "\n",
    "plt.legend();"
   ]
  },
  {
   "cell_type": "code",
   "execution_count": 19,
   "metadata": {
    "execution": {
     "iopub.execute_input": "2025-09-14T22:24:16.558204Z",
     "iopub.status.busy": "2025-09-14T22:24:16.558048Z",
     "iopub.status.idle": "2025-09-14T22:24:16.603675Z",
     "shell.execute_reply": "2025-09-14T22:24:16.603349Z"
    }
   },
   "outputs": [
    {
     "data": {
      "text/plain": [
       "<matplotlib.legend.Legend at 0x26dc87ced50>"
      ]
     },
     "execution_count": 19,
     "metadata": {},
     "output_type": "execute_result"
    },
    {
     "data": {
      "image/png": "[encoded data removed]",
      "text/plain": [
       "<Figure size 640x480 with 1 Axes>"
      ]
     },
     "metadata": {},
     "output_type": "display_data"
    }
   ],
   "source": [
    "diff = (index_curveFwds - singleCurveFwds)*10000\n",
    "plt.plot(years, diff, label=\"Libor funding FWD vs OIS Funding FWD (bps)\")\n",
    "plt.legend()"
   ]
  },
  {
   "cell_type": "markdown",
   "metadata": {},
   "source": [
    "The difference is small but not negligible."
   ]
  },
  {
   "cell_type": "markdown",
   "metadata": {},
   "source": [
    "Copyright (c) Dominic O'Kane 2020"
   ]
  }
 ],
 "metadata": {
  "kernelspec": {
   "display_name": "base",
   "language": "python",
   "name": "python3"
  },
  "language_info": {
   "codemirror_mode": {
    "name": "ipython",
    "version": 3
   },
   "file_extension": ".py",
   "mimetype": "text/x-python",
   "name": "python",
   "nbconvert_exporter": "python",
   "pygments_lexer": "ipython3",
   "version": "3.13.7"
  }
 },
 "nbformat": 4,
 "nbformat_minor": 4
}
