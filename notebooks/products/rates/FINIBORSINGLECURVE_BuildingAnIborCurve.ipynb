{
 "cells": [
  {
   "cell_type": "markdown",
   "metadata": {},
   "source": [
    "# Building an Ibor Single Curve"
   ]
  },
  {
   "cell_type": "markdown",
   "metadata": {},
   "source": [
    "Constructing an Ibor Single Curve"
   ]
  },
  {
   "cell_type": "code",
   "execution_count": 1,
   "metadata": {
    "execution": {
     "iopub.execute_input": "2025-09-14T22:24:51.301613Z",
     "iopub.status.busy": "2025-09-14T22:24:51.301491Z",
     "iopub.status.idle": "2025-09-14T22:24:51.524001Z",
     "shell.execute_reply": "2025-09-14T22:24:51.523613Z"
    }
   },
   "outputs": [],
   "source": [
    "import numpy as np\n",
    "import matplotlib.pyplot as plt"
   ]
  },
  {
   "cell_type": "code",
   "execution_count": 2,
   "metadata": {
    "execution": {
     "iopub.execute_input": "2025-09-14T22:24:51.525753Z",
     "iopub.status.busy": "2025-09-14T22:24:51.525495Z",
     "iopub.status.idle": "2025-09-14T22:24:52.566151Z",
     "shell.execute_reply": "2025-09-14T22:24:52.565836Z"
    }
   },
   "outputs": [],
   "source": [
    "from financepy.utils import *\n",
    "from financepy.products.rates import *"
   ]
  },
  {
   "cell_type": "markdown",
   "metadata": {},
   "source": [
    "## Creating the Libor Instruments"
   ]
  },
  {
   "cell_type": "code",
   "execution_count": 3,
   "metadata": {
    "execution": {
     "iopub.execute_input": "2025-09-14T22:24:52.567827Z",
     "iopub.status.busy": "2025-09-14T22:24:52.567623Z",
     "iopub.status.idle": "2025-09-14T22:24:52.584230Z",
     "shell.execute_reply": "2025-09-14T22:24:52.583966Z"
    }
   },
   "outputs": [],
   "source": [
    "value_dt = Date(18, 9, 2019)"
   ]
  },
  {
   "cell_type": "markdown",
   "metadata": {},
   "source": [
    "### Load up the deposits first"
   ]
  },
  {
   "cell_type": "code",
   "execution_count": 4,
   "metadata": {
    "execution": {
     "iopub.execute_input": "2025-09-14T22:24:52.585560Z",
     "iopub.status.busy": "2025-09-14T22:24:52.585436Z",
     "iopub.status.idle": "2025-09-14T22:24:52.595483Z",
     "shell.execute_reply": "2025-09-14T22:24:52.595188Z"
    }
   },
   "outputs": [],
   "source": [
    "depo_dcc_type = DayCountTypes.THIRTY_E_360_ISDA\n",
    "depos = []\n",
    "\n",
    "spot_days = 2\n",
    "settle_dt = value_dt.add_weekdays(spot_days)\n",
    "\n",
    "deposit_rate = 0.050\n",
    "maturity_dt = settle_dt.add_months(1)\n",
    "depo = IborDeposit(settle_dt, maturity_dt, deposit_rate, depo_dcc_type)\n",
    "depos.append(depo)\n",
    "\n",
    "maturity_dt = settle_dt.add_months(3)\n",
    "depo = IborDeposit(settle_dt, maturity_dt, deposit_rate, depo_dcc_type)\n",
    "depos.append(depo)\n",
    "\n",
    "maturity_dt = settle_dt.add_months(6)\n",
    "depo = IborDeposit(settle_dt, maturity_dt, deposit_rate, depo_dcc_type)\n",
    "depos.append(depo)\n",
    "\n",
    "maturity_dt = settle_dt.add_months(9)\n",
    "depo = IborDeposit(settle_dt, maturity_dt, deposit_rate, depo_dcc_type)\n",
    "depos.append(depo)\n",
    "\n",
    "maturity_dt = settle_dt.add_months(12)\n",
    "depo = IborDeposit(settle_dt, maturity_dt, deposit_rate, depo_dcc_type)\n",
    "depos.append(depo)"
   ]
  },
  {
   "cell_type": "markdown",
   "metadata": {},
   "source": [
    "### Then we load up the FRAs"
   ]
  },
  {
   "cell_type": "code",
   "execution_count": 5,
   "metadata": {
    "execution": {
     "iopub.execute_input": "2025-09-14T22:24:52.596734Z",
     "iopub.status.busy": "2025-09-14T22:24:52.596612Z",
     "iopub.status.idle": "2025-09-14T22:24:52.599399Z",
     "shell.execute_reply": "2025-09-14T22:24:52.599187Z"
    }
   },
   "outputs": [],
   "source": [
    "# 1 x 4 FRA\n",
    "pay_fixed = True\n",
    "notional = 1000\n",
    "fras = []\n",
    "\n",
    "fra_rate = 0.05\n",
    "fraSettlementDate = settle_dt.add_months(12)\n",
    "fraMaturityDate = settle_dt.add_months(16)\n",
    "fra = IborFRA(fraSettlementDate, fraMaturityDate, fra_rate, depo_dcc_type)\n",
    "fras.append(fra)\n",
    "\n",
    "# 4 x 7 FRA\n",
    "fra_rate = 0.08\n",
    "fraSettlementDate = settle_dt.add_months(16)\n",
    "fraMaturityDate = settle_dt.add_months(20)\n",
    "fra = IborFRA(fraSettlementDate, fraMaturityDate, fra_rate, depo_dcc_type)\n",
    "fras.append(fra)"
   ]
  },
  {
   "cell_type": "markdown",
   "metadata": {},
   "source": [
    "### Then we load up swap rates"
   ]
  },
  {
   "cell_type": "code",
   "execution_count": 6,
   "metadata": {
    "execution": {
     "iopub.execute_input": "2025-09-14T22:24:52.600483Z",
     "iopub.status.busy": "2025-09-14T22:24:52.600366Z",
     "iopub.status.idle": "2025-09-14T22:24:52.604842Z",
     "shell.execute_reply": "2025-09-14T22:24:52.604344Z"
    }
   },
   "outputs": [],
   "source": [
    "swaps = []\n",
    "fixed_dcc_type = DayCountTypes.ACT_365F\n",
    "fixed_freq_type = FrequencyTypes.SEMI_ANNUAL\n",
    "swap_type = SwapTypes.PAY\n",
    "\n",
    "swap_rate = 0.050\n",
    "maturity_dt = settle_dt.add_months(24)\n",
    "swap = IborSwap(settle_dt, maturity_dt, swap_type, swap_rate, fixed_freq_type, fixed_dcc_type)\n",
    "swaps.append(swap)\n",
    "\n",
    "swap_rate = 0.052\n",
    "maturity_dt = settle_dt.add_months(36)\n",
    "swap = IborSwap(settle_dt, maturity_dt, swap_type, swap_rate, fixed_freq_type, fixed_dcc_type)\n",
    "swaps.append(swap)\n",
    "\n",
    "swap_rate = 0.0535\n",
    "maturity_dt = settle_dt.add_months(48)\n",
    "swap = IborSwap(settle_dt, maturity_dt, swap_type, swap_rate, fixed_freq_type, fixed_dcc_type)\n",
    "swaps.append(swap)\n",
    "\n",
    "swap_rate = 0.055\n",
    "maturity_dt = settle_dt.add_months(60)\n",
    "swap = IborSwap(settle_dt, maturity_dt, swap_type, swap_rate, fixed_freq_type, fixed_dcc_type)\n",
    "swaps.append(swap)\n",
    "\n",
    "swap_rate = 0.0565\n",
    "maturity_dt = settle_dt.add_months(84)\n",
    "swap = IborSwap(settle_dt, maturity_dt, swap_type, swap_rate, fixed_freq_type, fixed_dcc_type)\n",
    "swaps.append(swap)\n",
    "\n",
    "swap_rate = 0.057\n",
    "maturity_dt = settle_dt.add_months(120)\n",
    "swap = IborSwap(settle_dt, maturity_dt, swap_type, swap_rate, fixed_freq_type, fixed_dcc_type)\n",
    "swaps.append(swap)"
   ]
  },
  {
   "cell_type": "code",
   "execution_count": 7,
   "metadata": {
    "execution": {
     "iopub.execute_input": "2025-09-14T22:24:52.605870Z",
     "iopub.status.busy": "2025-09-14T22:24:52.605759Z",
     "iopub.status.idle": "2025-09-14T22:24:52.616526Z",
     "shell.execute_reply": "2025-09-14T22:24:52.615953Z"
    }
   },
   "outputs": [],
   "source": [
    "libor_curve = IborSingleCurve(value_dt, depos, fras, swaps)"
   ]
  },
  {
   "cell_type": "markdown",
   "metadata": {},
   "source": [
    "## Check Repricing"
   ]
  },
  {
   "cell_type": "code",
   "execution_count": 8,
   "metadata": {
    "execution": {
     "iopub.execute_input": "2025-09-14T22:24:52.617787Z",
     "iopub.status.busy": "2025-09-14T22:24:52.617670Z",
     "iopub.status.idle": "2025-09-14T22:24:52.621268Z",
     "shell.execute_reply": "2025-09-14T22:24:52.620955Z"
    }
   },
   "outputs": [
    {
     "name": "stdout",
     "output_type": "stream",
     "text": [
      "Depo Value: 100.000000\n",
      "Depo Value: 100.000000\n",
      "Depo Value: 100.000000\n",
      "Depo Value: 100.002910\n",
      "Depo Value: 100.006230\n",
      "Depo Value: 100.009386\n"
     ]
    }
   ],
   "source": [
    "for depo in depos:\n",
    "    v = depo.value(settle_dt, libor_curve)\n",
    "    print(\"Depo Value: %10.6f\"% v)"
   ]
  },
  {
   "cell_type": "code",
   "execution_count": 9,
   "metadata": {
    "execution": {
     "iopub.execute_input": "2025-09-14T22:24:52.623071Z",
     "iopub.status.busy": "2025-09-14T22:24:52.622723Z",
     "iopub.status.idle": "2025-09-14T22:24:52.625392Z",
     "shell.execute_reply": "2025-09-14T22:24:52.625043Z"
    }
   },
   "outputs": [
    {
     "name": "stdout",
     "output_type": "stream",
     "text": [
      "FRA Value:   0.012836\n",
      "FRA Value:   0.000000\n"
     ]
    }
   ],
   "source": [
    "for fra in fras:\n",
    "    v = fra.value(settle_dt, libor_curve)\n",
    "    print(\"FRA Value: %10.6f\"% v)"
   ]
  },
  {
   "cell_type": "code",
   "execution_count": 10,
   "metadata": {
    "execution": {
     "iopub.execute_input": "2025-09-14T22:24:52.627251Z",
     "iopub.status.busy": "2025-09-14T22:24:52.627111Z",
     "iopub.status.idle": "2025-09-14T22:24:52.630894Z",
     "shell.execute_reply": "2025-09-14T22:24:52.630623Z"
    }
   },
   "outputs": [
    {
     "name": "stdout",
     "output_type": "stream",
     "text": [
      "Swap Value:  -0.00000616\n",
      "Swap Value:  -0.00000000\n",
      "Swap Value:  -0.00000000\n",
      "Swap Value:  -0.00000000\n",
      "Swap Value:  -0.00000019\n",
      "Swap Value:  -0.00000509\n"
     ]
    }
   ],
   "source": [
    "for swap in swaps:\n",
    "    v = swap.value(settle_dt, libor_curve)\n",
    "    print(\"Swap Value: %12.8f\" % v)"
   ]
  },
  {
   "cell_type": "markdown",
   "metadata": {},
   "source": [
    "## Curve Examination"
   ]
  },
  {
   "cell_type": "markdown",
   "metadata": {},
   "source": [
    "Generate a vector of time points and then generate zero rates and forward rates"
   ]
  },
  {
   "cell_type": "code",
   "execution_count": 11,
   "metadata": {
    "execution": {
     "iopub.execute_input": "2025-09-14T22:24:52.631935Z",
     "iopub.status.busy": "2025-09-14T22:24:52.631746Z",
     "iopub.status.idle": "2025-09-14T22:24:52.640156Z",
     "shell.execute_reply": "2025-09-14T22:24:52.639822Z"
    }
   },
   "outputs": [],
   "source": [
    "years = np.linspace(0.01,10,500)\n",
    "dates = settle_dt.add_years(years)\n",
    "zero_rates = libor_curve.zero_rate(dates)\n",
    "fwd_rates = libor_curve.fwd(dates)"
   ]
  },
  {
   "cell_type": "code",
   "execution_count": 12,
   "metadata": {
    "execution": {
     "iopub.execute_input": "2025-09-14T22:24:52.641526Z",
     "iopub.status.busy": "2025-09-14T22:24:52.641413Z",
     "iopub.status.idle": "2025-09-14T22:24:52.702253Z",
     "shell.execute_reply": "2025-09-14T22:24:52.701724Z"
    }
   },
   "outputs": [
    {
     "data": {
      "image/png": "[encoded data removed]",
      "text/plain": [
       "<Figure size 800x600 with 1 Axes>"
      ]
     },
     "metadata": {},
     "output_type": "display_data"
    }
   ],
   "source": [
    "plt.figure(figsize=(8,6))\n",
    "plt.plot(years, zero_rates*100, label=\"zero rates\")\n",
    "plt.plot(years, fwd_rates*100, label = \"fwd rates\")\n",
    "plt.xlabel(\"Times\")\n",
    "plt.ylabel(\"CC forward rates\")\n",
    "plt.legend();"
   ]
  },
  {
   "cell_type": "markdown",
   "metadata": {},
   "source": [
    "We see that the forward rates are piecewise flat"
   ]
  },
  {
   "cell_type": "code",
   "execution_count": null,
   "metadata": {},
   "outputs": [],
   "source": []
  }
 ],
 "metadata": {
  "kernelspec": {
   "display_name": "base",
   "language": "python",
   "name": "python3"
  },
  "language_info": {
   "codemirror_mode": {
    "name": "ipython",
    "version": 3
   },
   "file_extension": ".py",
   "mimetype": "text/x-python",
   "name": "python",
   "nbconvert_exporter": "python",
   "pygments_lexer": "ipython3",
   "version": "3.13.7"
  }
 },
 "nbformat": 4,
 "nbformat_minor": 4
}
