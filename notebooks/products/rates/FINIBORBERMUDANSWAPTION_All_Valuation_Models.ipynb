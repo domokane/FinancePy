{
    "cells": [
        {
            "cell_type": "markdown",
            "metadata": {},
            "source": [
                "# Bermudan Swaption Pricing"
            ]
        },
        {
            "cell_type": "markdown",
            "metadata": {},
            "source": [
                "Value a European Swaption using the Hull-White, Black-Derman-Toy and Black-Karasinski models. I analyse relationships to test the model pricing."
            ]
        },
        {
            "cell_type": "markdown",
            "metadata": {},
            "source": [
                "NOTE SENSITIVE TO EVEN-ODD NUMBER OF TIME STEPS ON TREE - INVESTIGATE"
            ]
        },
        {
            "cell_type": "code",
            "execution_count": 1,
            "metadata": {
                "execution": {
                    "iopub.execute_input": "2024-04-30T20:21:29.462881Z",
                    "iopub.status.busy": "2024-04-30T20:21:29.461924Z",
                    "iopub.status.idle": "2024-04-30T20:21:30.084846Z",
                    "shell.execute_reply": "2024-04-30T20:21:30.084846Z"
                }
            },
            "outputs": [],
            "source": [
                "import numpy as np\n",
                "import matplotlib.pyplot as plt"
            ]
        },
        {
            "cell_type": "code",
            "execution_count": 2,
            "metadata": {
                "execution": {
                    "iopub.execute_input": "2024-04-30T20:21:30.088021Z",
                    "iopub.status.busy": "2024-04-30T20:21:30.087020Z",
                    "iopub.status.idle": "2024-04-30T20:21:31.501083Z",
                    "shell.execute_reply": "2024-04-30T20:21:31.501083Z"
                },
                "tags": []
            },
            "outputs": [
                {
                    "name": "stdout",
                    "output_type": "stream",
                    "text": [
                        "####################################################################\n",
                        "#  FINANCEPY BETA Version 0.350 - This build: 30 Apr 2024 at 21:20 #\n",
                        "#     This software is distributed FREE AND WITHOUT ANY WARRANTY   #\n",
                        "#  Report bugs as issues at https://github.com/domokane/FinancePy  #\n",
                        "####################################################################\n",
                        "\n"
                    ]
                }
            ],
            "source": [
                "from financepy.utils import *\n",
                "from financepy.products.rates import *\n",
                "from financepy.market.curves import *\n",
                "from financepy.models.hw_tree import HWTree\n",
                "from financepy.models.bk_tree import BKTree\n",
                "from financepy.models.bdt_tree import BDTTree"
            ]
        },
        {
            "cell_type": "markdown",
            "metadata": {},
            "source": [
                "## Discount Curve"
            ]
        },
        {
            "cell_type": "code",
            "execution_count": 3,
            "metadata": {
                "execution": {
                    "iopub.execute_input": "2024-04-30T20:21:31.504131Z",
                    "iopub.status.busy": "2024-04-30T20:21:31.504131Z",
                    "iopub.status.idle": "2024-04-30T20:21:31.523373Z",
                    "shell.execute_reply": "2024-04-30T20:21:31.523373Z"
                }
            },
            "outputs": [],
            "source": [
                "value_dt = Date(1, 1, 2011)\n",
                "settle_dt = value_dt"
            ]
        },
        {
            "cell_type": "markdown",
            "metadata": {},
            "source": [
                "Set up flat discount curve"
            ]
        },
        {
            "cell_type": "code",
            "execution_count": 4,
            "metadata": {
                "execution": {
                    "iopub.execute_input": "2024-04-30T20:21:31.525971Z",
                    "iopub.status.busy": "2024-04-30T20:21:31.525971Z",
                    "iopub.status.idle": "2024-04-30T20:21:31.536187Z",
                    "shell.execute_reply": "2024-04-30T20:21:31.535175Z"
                }
            },
            "outputs": [],
            "source": [
                "rate = 0.0625\n",
                "libor_curve = DiscountCurveFlat(value_dt, \n",
                "                                  rate, \n",
                "                                  FrequencyTypes.SEMI_ANNUAL, \n",
                "                                  DayCountTypes.ACT_365F)"
            ]
        },
        {
            "cell_type": "markdown",
            "metadata": {},
            "source": [
                "# The Underlying Swap"
            ]
        },
        {
            "cell_type": "markdown",
            "metadata": {},
            "source": [
                "We begin with the underlying swap."
            ]
        },
        {
            "cell_type": "code",
            "execution_count": 5,
            "metadata": {
                "execution": {
                    "iopub.execute_input": "2024-04-30T20:21:31.544908Z",
                    "iopub.status.busy": "2024-04-30T20:21:31.543199Z",
                    "iopub.status.idle": "2024-04-30T20:21:31.555355Z",
                    "shell.execute_reply": "2024-04-30T20:21:31.553633Z"
                }
            },
            "outputs": [],
            "source": [
                "exercise_dt = settle_dt.add_years(1)\n",
                "swap_maturity_dt = settle_dt.add_years(4)\n",
                "swap_fixed_cpn = 0.060\n",
                "swap_fixed_freq_type = FrequencyTypes.SEMI_ANNUAL\n",
                "swapFixedDayCountType = DayCountTypes.ACT_365F\n",
                "swap_type = SwapTypes.PAY "
            ]
        },
        {
            "cell_type": "markdown",
            "metadata": {},
            "source": [
                "We can value the forward starting swap."
            ]
        },
        {
            "cell_type": "code",
            "execution_count": 6,
            "metadata": {
                "execution": {
                    "iopub.execute_input": "2024-04-30T20:21:31.564368Z",
                    "iopub.status.busy": "2024-04-30T20:21:31.563370Z",
                    "iopub.status.idle": "2024-04-30T20:21:31.573503Z",
                    "shell.execute_reply": "2024-04-30T20:21:31.572447Z"
                }
            },
            "outputs": [],
            "source": [
                "swap = IborSwap(exercise_dt,\n",
                "                    swap_maturity_dt,\n",
                "                    swap_type,\n",
                "                    swap_fixed_cpn,\n",
                "                    swap_fixed_freq_type,\n",
                "                    swapFixedDayCountType)"
            ]
        },
        {
            "cell_type": "markdown",
            "metadata": {},
            "source": [
                "We can approximate the value using 2.5 as the approximate duration of a 3 year swap"
            ]
        },
        {
            "cell_type": "code",
            "execution_count": 7,
            "metadata": {
                "execution": {
                    "iopub.execute_input": "2024-04-30T20:21:31.582069Z",
                    "iopub.status.busy": "2024-04-30T20:21:31.581037Z",
                    "iopub.status.idle": "2024-04-30T20:21:31.601483Z",
                    "shell.execute_reply": "2024-04-30T20:21:31.599432Z"
                }
            },
            "outputs": [
                {
                    "data": {
                        "text/plain": [
                            "6250.0000000000055"
                        ]
                    },
                    "execution_count": 7,
                    "metadata": {},
                    "output_type": "execute_result"
                }
            ],
            "source": [
                "(rate - swap_fixed_cpn) * 2.5 * ONE_MILLION"
            ]
        },
        {
            "cell_type": "code",
            "execution_count": 8,
            "metadata": {
                "execution": {
                    "iopub.execute_input": "2024-04-30T20:21:31.609185Z",
                    "iopub.status.busy": "2024-04-30T20:21:31.608176Z",
                    "iopub.status.idle": "2024-04-30T20:21:31.621704Z",
                    "shell.execute_reply": "2024-04-30T20:21:31.619654Z"
                }
            },
            "outputs": [
                {
                    "name": "stdout",
                    "output_type": "stream",
                    "text": [
                        "Swap Value: 6214.67070\n"
                    ]
                }
            ],
            "source": [
                "swapValue = swap.value(value_dt, libor_curve, libor_curve)\n",
                "print(\"Swap Value: %9.5f\"% swapValue)"
            ]
        },
        {
            "cell_type": "markdown",
            "metadata": {},
            "source": [
                "The estimate was not bad !"
            ]
        },
        {
            "cell_type": "code",
            "execution_count": 9,
            "metadata": {
                "execution": {
                    "iopub.execute_input": "2024-04-30T20:21:31.630250Z",
                    "iopub.status.busy": "2024-04-30T20:21:31.629254Z",
                    "iopub.status.idle": "2024-04-30T20:21:31.643548Z",
                    "shell.execute_reply": "2024-04-30T20:21:31.642521Z"
                }
            },
            "outputs": [
                {
                    "name": "stdout",
                    "output_type": "stream",
                    "text": [
                        "START DATE: 01-JAN-2012\n",
                        "MATURITY DATE: 01-JAN-2015\n",
                        "COUPON (%): 6.0\n",
                        "FREQUENCY: FrequencyTypes.SEMI_ANNUAL\n",
                        "DAY COUNT: DayCountTypes.ACT_365F\n",
                        "\n",
                        "PAYMENTS VALUATION:\n",
                        "+---------+-------------+----------+------+----------+--------+----------+-----------+\n",
                        "| PAY_NUM |    PAY_dt   | NOTIONAL | RATE |   PMNT   |   DF   |    PV    |   CUM_PV  |\n",
                        "+---------+-------------+----------+------+----------+--------+----------+-----------+\n",
                        "|    1    | 02-JUL-2012 | 1000000  | 6.0  | 30082.19 | 0.9117 | 27427.17 |  27427.17 |\n",
                        "|    2    | 01-JAN-2013 | 1000000  | 6.0  | 30082.19 | 0.884  | 26593.8  |  54020.97 |\n",
                        "|    3    | 01-JUL-2013 | 1000000  | 6.0  | 29753.42 | 0.8575 | 25512.54 |  79533.51 |\n",
                        "|    4    | 01-JAN-2014 | 1000000  | 6.0  | 30246.58 | 0.8313 | 25143.12 | 104676.64 |\n",
                        "|    5    | 01-JUL-2014 | 1000000  | 6.0  | 29753.42 | 0.8063 | 23989.76 | 128666.39 |\n",
                        "|    6    | 01-JAN-2015 | 1000000  | 6.0  | 30246.58 | 0.7817 | 23642.39 | 152308.78 |\n",
                        "+---------+-------------+----------+------+----------+--------+----------+-----------+\n"
                    ]
                }
            ],
            "source": [
                "swap.print_fixed_leg_pv()"
            ]
        },
        {
            "cell_type": "code",
            "execution_count": 10,
            "metadata": {
                "execution": {
                    "iopub.execute_input": "2024-04-30T20:21:31.651276Z",
                    "iopub.status.busy": "2024-04-30T20:21:31.651276Z",
                    "iopub.status.idle": "2024-04-30T20:21:31.667355Z",
                    "shell.execute_reply": "2024-04-30T20:21:31.666309Z"
                }
            },
            "outputs": [
                {
                    "name": "stdout",
                    "output_type": "stream",
                    "text": [
                        "START DATE: 01-JAN-2012\n",
                        "MATURITY DATE: 01-JAN-2015\n",
                        "SPREAD (BPS): 0.0\n",
                        "FREQUENCY: FrequencyTypes.QUARTERLY\n",
                        "DAY COUNT: DayCountTypes.THIRTY_E_360\n",
                        "\n",
                        "PAYMENTS VALUATION:\n",
                        "+---------+-------------+----------+--------+----------+--------+----------+-----------+\n",
                        "| PAY_NUM |    PAY_dt   | NOTIONAL |  IBOR  |   PMNT   |   DF   |    PV    |   CUM_PV  |\n",
                        "+---------+-------------+----------+--------+----------+--------+----------+-----------+\n",
                        "|    1    | 02-APR-2012 | 1000000  | 6.2023 | 15678.07 | 0.9258 | 14515.36 |  14515.36 |\n",
                        "|    2    | 02-JUL-2012 | 1000000  | 6.2018 | 15504.47 | 0.9117 | 14136.06 |  28651.42 |\n",
                        "|    3    | 01-OCT-2012 | 1000000  | 6.2018 | 15332.2  | 0.8979 | 13766.14 |  42417.57 |\n",
                        "|    4    | 01-JAN-2013 | 1000000  | 6.2023 | 15505.78 | 0.884  | 13707.7  |  56125.27 |\n",
                        "|    5    | 01-APR-2013 | 1000000  | 6.2013 | 15503.16 | 0.8707 | 13498.97 |  69624.24 |\n",
                        "|    6    | 01-JUL-2013 | 1000000  | 6.2018 | 15504.47 | 0.8575 | 13294.56 |  82918.8  |\n",
                        "|    7    | 01-OCT-2013 | 1000000  | 6.2023 | 15505.78 | 0.8443 | 13091.02 |  96009.82 |\n",
                        "|    8    | 01-JAN-2014 | 1000000  | 6.2023 | 15505.78 | 0.8313 | 12889.52 | 108899.34 |\n",
                        "|    9    | 01-APR-2014 | 1000000  | 6.2013 | 15503.16 | 0.8188 | 12693.25 | 121592.59 |\n",
                        "|    10   | 01-JUL-2014 | 1000000  | 6.2018 | 15504.47 | 0.8063 | 12501.03 | 134093.63 |\n",
                        "|    11   | 01-OCT-2014 | 1000000  | 6.2023 | 15505.78 | 0.7939 | 12309.65 | 146403.28 |\n",
                        "|    12   | 01-JAN-2015 | 1000000  | 6.2023 | 15505.78 | 0.7817 | 12120.17 | 158523.45 |\n",
                        "+---------+-------------+----------+--------+----------+--------+----------+-----------+\n"
                    ]
                }
            ],
            "source": [
                "swap.print_float_leg_pv()"
            ]
        },
        {
            "cell_type": "markdown",
            "metadata": {},
            "source": [
                "# IborSwaption"
            ]
        },
        {
            "cell_type": "markdown",
            "metadata": {},
            "source": [
                "This is a class for European-style swaptions. It implements a number of model implementations."
            ]
        },
        {
            "cell_type": "code",
            "execution_count": 11,
            "metadata": {
                "execution": {
                    "iopub.execute_input": "2024-04-30T20:21:31.676077Z",
                    "iopub.status.busy": "2024-04-30T20:21:31.675077Z",
                    "iopub.status.idle": "2024-04-30T20:21:31.684819Z",
                    "shell.execute_reply": "2024-04-30T20:21:31.683767Z"
                }
            },
            "outputs": [],
            "source": [
                "european_swaption_pay = IborSwaption(settle_dt,\n",
                "                                      exercise_dt,\n",
                "                                      swap_maturity_dt,\n",
                "                                      SwapTypes.PAY,\n",
                "                                      swap_fixed_cpn,\n",
                "                                      swap_fixed_freq_type,\n",
                "                                      swapFixedDayCountType)"
            ]
        },
        {
            "cell_type": "code",
            "execution_count": 12,
            "metadata": {
                "execution": {
                    "iopub.execute_input": "2024-04-30T20:21:31.692506Z",
                    "iopub.status.busy": "2024-04-30T20:21:31.692506Z",
                    "iopub.status.idle": "2024-04-30T20:21:31.702089Z",
                    "shell.execute_reply": "2024-04-30T20:21:31.700071Z"
                }
            },
            "outputs": [],
            "source": [
                "european_swaption_rec = IborSwaption(settle_dt,\n",
                "                                      exercise_dt,\n",
                "                                      swap_maturity_dt,\n",
                "                                      SwapTypes.RECEIVE,\n",
                "                                      swap_fixed_cpn,\n",
                "                                      swap_fixed_freq_type,\n",
                "                                      swapFixedDayCountType)"
            ]
        },
        {
            "cell_type": "code",
            "execution_count": 13,
            "metadata": {
                "execution": {
                    "iopub.execute_input": "2024-04-30T20:21:31.710095Z",
                    "iopub.status.busy": "2024-04-30T20:21:31.709102Z",
                    "iopub.status.idle": "2024-04-30T20:21:31.721841Z",
                    "shell.execute_reply": "2024-04-30T20:21:31.720085Z"
                }
            },
            "outputs": [
                {
                    "data": {
                        "text/plain": [
                            "OBJECT TYPE: IborSwaption\n",
                            "SETTLEMENT DATE: 01-JAN-2011\n",
                            "EXERCISE DATE: 01-JAN-2012\n",
                            "SWAP FIXED LEG TYPE: SwapTypes.PAY\n",
                            "SWAP MATURITY DATE: 01-JAN-2015\n",
                            "SWAP NOTIONAL: 1000000\n",
                            "FIXED cpn: 6.0\n",
                            "FIXED FREQUENCY: FrequencyTypes.SEMI_ANNUAL\n",
                            "FIXED DAY COUNT: DayCountTypes.ACT_365F\n",
                            "FLOAT FREQUENCY: FrequencyTypes.QUARTERLY\n",
                            "FLOAT DAY COUNT: DayCountTypes.THIRTY_E_360"
                        ]
                    },
                    "execution_count": 13,
                    "metadata": {},
                    "output_type": "execute_result"
                }
            ],
            "source": [
                "european_swaption_pay"
            ]
        },
        {
            "cell_type": "markdown",
            "metadata": {},
            "source": [
                "Set the volatility to zero so that payer is pure intrinsic"
            ]
        },
        {
            "cell_type": "markdown",
            "metadata": {},
            "source": [
                "### Black's Model"
            ]
        },
        {
            "cell_type": "code",
            "execution_count": 14,
            "metadata": {
                "execution": {
                    "iopub.execute_input": "2024-04-30T20:21:31.730786Z",
                    "iopub.status.busy": "2024-04-30T20:21:31.729790Z",
                    "iopub.status.idle": "2024-04-30T20:21:31.739211Z",
                    "shell.execute_reply": "2024-04-30T20:21:31.737200Z"
                }
            },
            "outputs": [],
            "source": [
                "sigma = 0.00001"
            ]
        },
        {
            "cell_type": "code",
            "execution_count": 15,
            "metadata": {
                "execution": {
                    "iopub.execute_input": "2024-04-30T20:21:31.746756Z",
                    "iopub.status.busy": "2024-04-30T20:21:31.745745Z",
                    "iopub.status.idle": "2024-04-30T20:21:31.754812Z",
                    "shell.execute_reply": "2024-04-30T20:21:31.753308Z"
                }
            },
            "outputs": [],
            "source": [
                "model = Black(sigma)"
            ]
        },
        {
            "cell_type": "code",
            "execution_count": 16,
            "metadata": {
                "execution": {
                    "iopub.execute_input": "2024-04-30T20:21:31.763502Z",
                    "iopub.status.busy": "2024-04-30T20:21:31.762497Z",
                    "iopub.status.idle": "2024-04-30T20:21:31.779105Z",
                    "shell.execute_reply": "2024-04-30T20:21:31.777076Z"
                }
            },
            "outputs": [
                {
                    "data": {
                        "text/plain": [
                            "6348.489508767811"
                        ]
                    },
                    "execution_count": 16,
                    "metadata": {},
                    "output_type": "execute_result"
                }
            ],
            "source": [
                "european_swaption_pay.value(value_dt, libor_curve, model)"
            ]
        },
        {
            "cell_type": "markdown",
            "metadata": {},
            "source": [
                "Let's check for put-call parity"
            ]
        },
        {
            "cell_type": "code",
            "execution_count": 17,
            "metadata": {
                "execution": {
                    "iopub.execute_input": "2024-04-30T20:21:31.787642Z",
                    "iopub.status.busy": "2024-04-30T20:21:31.786628Z",
                    "iopub.status.idle": "2024-04-30T20:21:31.796106Z",
                    "shell.execute_reply": "2024-04-30T20:21:31.794094Z"
                }
            },
            "outputs": [],
            "source": [
                "sigma = 0.20"
            ]
        },
        {
            "cell_type": "code",
            "execution_count": 18,
            "metadata": {
                "execution": {
                    "iopub.execute_input": "2024-04-30T20:21:31.804116Z",
                    "iopub.status.busy": "2024-04-30T20:21:31.803118Z",
                    "iopub.status.idle": "2024-04-30T20:21:31.812994Z",
                    "shell.execute_reply": "2024-04-30T20:21:31.810615Z"
                }
            },
            "outputs": [],
            "source": [
                "model = Black(sigma)"
            ]
        },
        {
            "cell_type": "code",
            "execution_count": 19,
            "metadata": {
                "execution": {
                    "iopub.execute_input": "2024-04-30T20:21:31.820708Z",
                    "iopub.status.busy": "2024-04-30T20:21:31.820708Z",
                    "iopub.status.idle": "2024-04-30T20:21:31.838766Z",
                    "shell.execute_reply": "2024-04-30T20:21:31.836756Z"
                }
            },
            "outputs": [
                {
                    "name": "stdout",
                    "output_type": "stream",
                    "text": [
                        "PAY Value: 15815.70649\n",
                        "REC Value: 9467.21698\n",
                        "PAY - REC: 6348.48951\n"
                    ]
                }
            ],
            "source": [
                "value_pay = european_swaption_pay.value(value_dt, libor_curve, model)\n",
                "value_rec = european_swaption_rec.value(value_dt, libor_curve, model)\n",
                "valuePayRec = value_pay - value_rec\n",
                "print(\"PAY Value: %9.5f\"% value_pay)\n",
                "print(\"REC Value: %9.5f\"% value_rec)\n",
                "print(\"PAY - REC: %9.5f\"% valuePayRec)"
            ]
        },
        {
            "cell_type": "markdown",
            "metadata": {},
            "source": [
                "Yes put-call parity is respected."
            ]
        },
        {
            "cell_type": "markdown",
            "metadata": {},
            "source": [
                "### BK Model"
            ]
        },
        {
            "cell_type": "code",
            "execution_count": 20,
            "metadata": {
                "execution": {
                    "iopub.execute_input": "2024-04-30T20:21:31.847487Z",
                    "iopub.status.busy": "2024-04-30T20:21:31.846482Z",
                    "iopub.status.idle": "2024-04-30T20:21:31.856837Z",
                    "shell.execute_reply": "2024-04-30T20:21:31.854719Z"
                }
            },
            "outputs": [],
            "source": [
                "a = 0.01\n",
                "sigma = 0.0000001\n",
                "num_time_steps = 100\n",
                "model = BKTree(sigma, a, num_time_steps)"
            ]
        },
        {
            "cell_type": "code",
            "execution_count": 21,
            "metadata": {
                "execution": {
                    "iopub.execute_input": "2024-04-30T20:21:31.864836Z",
                    "iopub.status.busy": "2024-04-30T20:21:31.863836Z",
                    "iopub.status.idle": "2024-04-30T20:21:34.177394Z",
                    "shell.execute_reply": "2024-04-30T20:21:34.177394Z"
                }
            },
            "outputs": [
                {
                    "name": "stdout",
                    "output_type": "stream",
                    "text": [
                        "PAY Value: 6346.08093\n",
                        "REC Value:   0.00000\n",
                        "PAY - REC: 6346.08093\n"
                    ]
                }
            ],
            "source": [
                "value_pay = european_swaption_pay.value(value_dt, libor_curve, model)\n",
                "value_rec = european_swaption_rec.value(value_dt, libor_curve, model)\n",
                "valuePayRec = value_pay - value_rec\n",
                "print(\"PAY Value: %9.5f\"% value_pay)\n",
                "print(\"REC Value: %9.5f\"% value_rec)\n",
                "print(\"PAY - REC: %9.5f\"% valuePayRec)"
            ]
        },
        {
            "cell_type": "code",
            "execution_count": 22,
            "metadata": {
                "execution": {
                    "iopub.execute_input": "2024-04-30T20:21:34.179425Z",
                    "iopub.status.busy": "2024-04-30T20:21:34.179425Z",
                    "iopub.status.idle": "2024-04-30T20:21:34.183815Z",
                    "shell.execute_reply": "2024-04-30T20:21:34.183167Z"
                }
            },
            "outputs": [],
            "source": [
                "a = 0.01\n",
                "sigma = 0.20\n",
                "num_time_steps = 100\n",
                "model = BKTree(sigma, a, num_time_steps)"
            ]
        },
        {
            "cell_type": "code",
            "execution_count": 23,
            "metadata": {
                "execution": {
                    "iopub.execute_input": "2024-04-30T20:21:34.186439Z",
                    "iopub.status.busy": "2024-04-30T20:21:34.185442Z",
                    "iopub.status.idle": "2024-04-30T20:21:34.195954Z",
                    "shell.execute_reply": "2024-04-30T20:21:34.195954Z"
                }
            },
            "outputs": [
                {
                    "name": "stdout",
                    "output_type": "stream",
                    "text": [
                        "PAY Value: 15746.57475\n",
                        "REC Value: 9400.49421\n",
                        "PAY - REC: 6346.08054\n"
                    ]
                }
            ],
            "source": [
                "value_pay = european_swaption_pay.value(value_dt, libor_curve, model)\n",
                "value_rec = european_swaption_rec.value(value_dt, libor_curve, model)\n",
                "valuePayRec = value_pay - value_rec\n",
                "print(\"PAY Value: %9.5f\"% value_pay)\n",
                "print(\"REC Value: %9.5f\"% value_rec)\n",
                "print(\"PAY - REC: %9.5f\"% valuePayRec)"
            ]
        },
        {
            "cell_type": "markdown",
            "metadata": {},
            "source": [
                "### BDT Model"
            ]
        },
        {
            "cell_type": "code",
            "execution_count": 24,
            "metadata": {
                "execution": {
                    "iopub.execute_input": "2024-04-30T20:21:34.198982Z",
                    "iopub.status.busy": "2024-04-30T20:21:34.198982Z",
                    "iopub.status.idle": "2024-04-30T20:21:34.202496Z",
                    "shell.execute_reply": "2024-04-30T20:21:34.201810Z"
                }
            },
            "outputs": [],
            "source": [
                "sigma = 0.0000001\n",
                "num_time_steps = 200\n",
                "model = BDTTree(sigma, num_time_steps)"
            ]
        },
        {
            "cell_type": "code",
            "execution_count": 25,
            "metadata": {
                "execution": {
                    "iopub.execute_input": "2024-04-30T20:21:34.204496Z",
                    "iopub.status.busy": "2024-04-30T20:21:34.204496Z",
                    "iopub.status.idle": "2024-04-30T20:21:35.187004Z",
                    "shell.execute_reply": "2024-04-30T20:21:35.187004Z"
                }
            },
            "outputs": [
                {
                    "name": "stdout",
                    "output_type": "stream",
                    "text": [
                        "PAY Value: 6347.28920\n",
                        "REC Value:   0.00000\n",
                        "PAY - REC: 6347.28920\n"
                    ]
                }
            ],
            "source": [
                "value_pay = european_swaption_pay.value(value_dt, libor_curve, model)\n",
                "value_rec = european_swaption_rec.value(value_dt, libor_curve, model)\n",
                "valuePayRec = value_pay - value_rec\n",
                "print(\"PAY Value: %9.5f\"% value_pay)\n",
                "print(\"REC Value: %9.5f\"% value_rec)\n",
                "print(\"PAY - REC: %9.5f\"% valuePayRec)"
            ]
        },
        {
            "cell_type": "code",
            "execution_count": 26,
            "metadata": {
                "execution": {
                    "iopub.execute_input": "2024-04-30T20:21:35.190004Z",
                    "iopub.status.busy": "2024-04-30T20:21:35.190004Z",
                    "iopub.status.idle": "2024-04-30T20:21:35.193342Z",
                    "shell.execute_reply": "2024-04-30T20:21:35.193107Z"
                }
            },
            "outputs": [],
            "source": [
                "sigma = 0.20\n",
                "model = BDTTree(sigma, num_time_steps)"
            ]
        },
        {
            "cell_type": "code",
            "execution_count": 27,
            "metadata": {
                "execution": {
                    "iopub.execute_input": "2024-04-30T20:21:35.195341Z",
                    "iopub.status.busy": "2024-04-30T20:21:35.195341Z",
                    "iopub.status.idle": "2024-04-30T20:21:35.207430Z",
                    "shell.execute_reply": "2024-04-30T20:21:35.207430Z"
                }
            },
            "outputs": [
                {
                    "name": "stdout",
                    "output_type": "stream",
                    "text": [
                        "PAY Value: 15990.91739\n",
                        "REC Value: 9639.93743\n",
                        "PAY - REC: 6350.97996\n"
                    ]
                }
            ],
            "source": [
                "value_pay = european_swaption_pay.value(value_dt, libor_curve, model)\n",
                "value_rec = european_swaption_rec.value(value_dt, libor_curve, model)\n",
                "valuePayRec = value_pay - value_rec\n",
                "print(\"PAY Value: %9.5f\"% value_pay)\n",
                "print(\"REC Value: %9.5f\"% value_rec)\n",
                "print(\"PAY - REC: %9.5f\"% valuePayRec)"
            ]
        },
        {
            "cell_type": "markdown",
            "metadata": {},
            "source": [
                "### HW Model"
            ]
        },
        {
            "cell_type": "code",
            "execution_count": 28,
            "metadata": {
                "execution": {
                    "iopub.execute_input": "2024-04-30T20:21:35.210429Z",
                    "iopub.status.busy": "2024-04-30T20:21:35.209461Z",
                    "iopub.status.idle": "2024-04-30T20:21:35.213517Z",
                    "shell.execute_reply": "2024-04-30T20:21:35.212927Z"
                }
            },
            "outputs": [],
            "source": [
                "sigma = 0.0000001\n",
                "num_time_steps = 200\n",
                "a = 0.01\n",
                "model = HWTree(sigma, a, num_time_steps)"
            ]
        },
        {
            "cell_type": "code",
            "execution_count": 29,
            "metadata": {
                "execution": {
                    "iopub.execute_input": "2024-04-30T20:21:35.215543Z",
                    "iopub.status.busy": "2024-04-30T20:21:35.215543Z",
                    "iopub.status.idle": "2024-04-30T20:21:35.228795Z",
                    "shell.execute_reply": "2024-04-30T20:21:35.228559Z"
                }
            },
            "outputs": [
                {
                    "name": "stdout",
                    "output_type": "stream",
                    "text": [
                        "PAY Value: 6348.45763\n",
                        "REC Value:   0.00000\n",
                        "PAY - REC: 6348.45763\n"
                    ]
                }
            ],
            "source": [
                "value_pay = european_swaption_pay.value(value_dt, libor_curve, model)\n",
                "value_rec = european_swaption_rec.value(value_dt, libor_curve, model)\n",
                "valuePayRec = value_pay - value_rec\n",
                "print(\"PAY Value: %9.5f\"% value_pay)\n",
                "print(\"REC Value: %9.5f\"% value_rec)\n",
                "print(\"PAY - REC: %9.5f\"% valuePayRec)"
            ]
        },
        {
            "cell_type": "code",
            "execution_count": 30,
            "metadata": {
                "execution": {
                    "iopub.execute_input": "2024-04-30T20:21:35.230794Z",
                    "iopub.status.busy": "2024-04-30T20:21:35.230794Z",
                    "iopub.status.idle": "2024-04-30T20:21:35.234135Z",
                    "shell.execute_reply": "2024-04-30T20:21:35.234135Z"
                }
            },
            "outputs": [],
            "source": [
                "sigma = 0.20 * rate\n",
                "num_time_steps = 200\n",
                "a = 0.01\n",
                "model = HWTree(sigma, a, num_time_steps)"
            ]
        },
        {
            "cell_type": "code",
            "execution_count": 31,
            "metadata": {
                "execution": {
                    "iopub.execute_input": "2024-04-30T20:21:35.237078Z",
                    "iopub.status.busy": "2024-04-30T20:21:35.237078Z",
                    "iopub.status.idle": "2024-04-30T20:21:35.243338Z",
                    "shell.execute_reply": "2024-04-30T20:21:35.243338Z"
                }
            },
            "outputs": [
                {
                    "name": "stdout",
                    "output_type": "stream",
                    "text": [
                        "PAY Value: 16217.69298\n",
                        "REC Value: 9869.43817\n",
                        "PAY - REC: 6348.25481\n"
                    ]
                }
            ],
            "source": [
                "value_pay = european_swaption_pay.value(value_dt, libor_curve, model)\n",
                "value_rec = european_swaption_rec.value(value_dt, libor_curve, model)\n",
                "valuePayRec = value_pay - value_rec\n",
                "print(\"PAY Value: %9.5f\"% value_pay)\n",
                "print(\"REC Value: %9.5f\"% value_rec)\n",
                "print(\"PAY - REC: %9.5f\"% valuePayRec)"
            ]
        },
        {
            "cell_type": "markdown",
            "metadata": {},
            "source": [
                "# IborBermudanSwaption"
            ]
        },
        {
            "cell_type": "markdown",
            "metadata": {},
            "source": [
                "I now examine FinBermudanSwaption and use the tree models to value it. But first let me price it on the tree models as a European option."
            ]
        },
        {
            "cell_type": "markdown",
            "metadata": {},
            "source": [
                "## Start By Only Allowing European Exercise"
            ]
        },
        {
            "cell_type": "code",
            "execution_count": 32,
            "metadata": {
                "execution": {
                    "iopub.execute_input": "2024-04-30T20:21:35.245847Z",
                    "iopub.status.busy": "2024-04-30T20:21:35.245847Z",
                    "iopub.status.idle": "2024-04-30T20:21:35.248986Z",
                    "shell.execute_reply": "2024-04-30T20:21:35.248986Z"
                }
            },
            "outputs": [],
            "source": [
                "europeanBermSwaptionPay = IborBermudanSwaption(settle_dt,\n",
                "                                                  exercise_dt,\n",
                "                                                  swap_maturity_dt,\n",
                "                                                  SwapTypes.PAY,\n",
                "                                                  FinExerciseTypes.EUROPEAN,\n",
                "                                                  swap_fixed_cpn,\n",
                "                                                  swap_fixed_freq_type,\n",
                "                                                  swapFixedDayCountType)"
            ]
        },
        {
            "cell_type": "code",
            "execution_count": 33,
            "metadata": {
                "execution": {
                    "iopub.execute_input": "2024-04-30T20:21:35.251981Z",
                    "iopub.status.busy": "2024-04-30T20:21:35.251981Z",
                    "iopub.status.idle": "2024-04-30T20:21:35.255280Z",
                    "shell.execute_reply": "2024-04-30T20:21:35.255280Z"
                }
            },
            "outputs": [],
            "source": [
                "europeanBermSwaptionRec = IborBermudanSwaption(settle_dt,\n",
                "                                                  exercise_dt,\n",
                "                                                  swap_maturity_dt,\n",
                "                                                  SwapTypes.RECEIVE,\n",
                "                                                  FinExerciseTypes.EUROPEAN,\n",
                "                                                  swap_fixed_cpn,\n",
                "                                                  swap_fixed_freq_type,\n",
                "                                                  swapFixedDayCountType)"
            ]
        },
        {
            "cell_type": "markdown",
            "metadata": {},
            "source": [
                "### Black Karasinski Model"
            ]
        },
        {
            "cell_type": "markdown",
            "metadata": {},
            "source": [
                "Setting the volatility close to zero so we only have intrinsic value."
            ]
        },
        {
            "cell_type": "code",
            "execution_count": 34,
            "metadata": {
                "execution": {
                    "iopub.execute_input": "2024-04-30T20:21:35.258282Z",
                    "iopub.status.busy": "2024-04-30T20:21:35.258282Z",
                    "iopub.status.idle": "2024-04-30T20:21:35.261465Z",
                    "shell.execute_reply": "2024-04-30T20:21:35.261465Z"
                }
            },
            "outputs": [],
            "source": [
                "black_vol = 0.0000001"
            ]
        },
        {
            "cell_type": "code",
            "execution_count": 35,
            "metadata": {
                "execution": {
                    "iopub.execute_input": "2024-04-30T20:21:35.263493Z",
                    "iopub.status.busy": "2024-04-30T20:21:35.263493Z",
                    "iopub.status.idle": "2024-04-30T20:21:35.267561Z",
                    "shell.execute_reply": "2024-04-30T20:21:35.267561Z"
                }
            },
            "outputs": [],
            "source": [
                "sigma = black_vol\n",
                "a = 0.01\n",
                "num_time_steps = 200\n",
                "model = BKTree(sigma, a, num_time_steps)"
            ]
        },
        {
            "cell_type": "code",
            "execution_count": 36,
            "metadata": {
                "execution": {
                    "iopub.execute_input": "2024-04-30T20:21:35.270560Z",
                    "iopub.status.busy": "2024-04-30T20:21:35.269591Z",
                    "iopub.status.idle": "2024-04-30T20:21:35.288110Z",
                    "shell.execute_reply": "2024-04-30T20:21:35.288110Z"
                }
            },
            "outputs": [
                {
                    "name": "stdout",
                    "output_type": "stream",
                    "text": [
                        "PAY Value: 6313.74545\n",
                        "REC Value:   0.00000\n",
                        "PAY - REC: 6313.74545\n"
                    ]
                }
            ],
            "source": [
                "value_pay = europeanBermSwaptionPay.value(value_dt, libor_curve, model)\n",
                "value_rec = europeanBermSwaptionRec.value(value_dt, libor_curve, model)\n",
                "valuePayRec = value_pay - value_rec\n",
                "print(\"PAY Value: %9.5f\"% value_pay)\n",
                "print(\"REC Value: %9.5f\"% value_rec)\n",
                "print(\"PAY - REC: %9.5f\"% valuePayRec)"
            ]
        },
        {
            "cell_type": "code",
            "execution_count": 37,
            "metadata": {
                "execution": {
                    "iopub.execute_input": "2024-04-30T20:21:35.290139Z",
                    "iopub.status.busy": "2024-04-30T20:21:35.290139Z",
                    "iopub.status.idle": "2024-04-30T20:21:35.293635Z",
                    "shell.execute_reply": "2024-04-30T20:21:35.293635Z"
                }
            },
            "outputs": [
                {
                    "name": "stdout",
                    "output_type": "stream",
                    "text": [
                        "SWAP PV01: 2.538479623216061\n",
                        "CPN TIME:  1.0 FLOW 0.0\n",
                        "CPN TIME:  1.5013698630136987 FLOW 0.030246575342465755\n",
                        "CPN TIME:  2.0027397260273974 FLOW 0.03008219178082192\n",
                        "CPN TIME:  2.4986301369863013 FLOW 0.03008219178082192\n",
                        "CPN TIME:  3.0027397260273974 FLOW 0.029753424657534246\n",
                        "CPN TIME:  3.4986301369863013 FLOW 0.030246575342465755\n",
                        "CPN TIME:  4.002739726027397 FLOW 0.029753424657534246\n",
                        "CALL TIME:  1.0\n",
                        "CALL TIME:  1.5013698630136987\n",
                        "CALL TIME:  2.0027397260273974\n",
                        "CALL TIME:  2.4986301369863013\n",
                        "CALL TIME:  3.0027397260273974\n",
                        "CALL TIME:  3.4986301369863013\n",
                        "CALL TIME:  4.002739726027397\n"
                    ]
                }
            ],
            "source": [
                "europeanBermSwaptionPay.print_swaption_value()"
            ]
        },
        {
            "cell_type": "markdown",
            "metadata": {},
            "source": [
                "### Black Derman Toy Model"
            ]
        },
        {
            "cell_type": "code",
            "execution_count": 38,
            "metadata": {
                "execution": {
                    "iopub.execute_input": "2024-04-30T20:21:35.295665Z",
                    "iopub.status.busy": "2024-04-30T20:21:35.295665Z",
                    "iopub.status.idle": "2024-04-30T20:21:35.299220Z",
                    "shell.execute_reply": "2024-04-30T20:21:35.299220Z"
                }
            },
            "outputs": [],
            "source": [
                "sigma = 0.0000001\n",
                "num_time_steps = 100\n",
                "model = BDTTree(sigma, num_time_steps)"
            ]
        },
        {
            "cell_type": "code",
            "execution_count": 39,
            "metadata": {
                "execution": {
                    "iopub.execute_input": "2024-04-30T20:21:35.301250Z",
                    "iopub.status.busy": "2024-04-30T20:21:35.301250Z",
                    "iopub.status.idle": "2024-04-30T20:21:35.308645Z",
                    "shell.execute_reply": "2024-04-30T20:21:35.308050Z"
                }
            },
            "outputs": [
                {
                    "name": "stdout",
                    "output_type": "stream",
                    "text": [
                        "PAY Value: 6311.83846\n",
                        "REC Value:   0.00000\n",
                        "PAY - REC: 6311.83846\n"
                    ]
                }
            ],
            "source": [
                "value_pay = europeanBermSwaptionPay.value(value_dt, libor_curve, model)\n",
                "value_rec = europeanBermSwaptionRec.value(value_dt, libor_curve, model)\n",
                "valuePayRec = value_pay - value_rec\n",
                "print(\"PAY Value: %9.5f\"% value_pay)\n",
                "print(\"REC Value: %9.5f\"% value_rec)\n",
                "print(\"PAY - REC: %9.5f\"% valuePayRec)"
            ]
        },
        {
            "cell_type": "code",
            "execution_count": 40,
            "metadata": {
                "execution": {
                    "iopub.execute_input": "2024-04-30T20:21:35.310642Z",
                    "iopub.status.busy": "2024-04-30T20:21:35.310642Z",
                    "iopub.status.idle": "2024-04-30T20:21:35.312945Z",
                    "shell.execute_reply": "2024-04-30T20:21:35.312945Z"
                }
            },
            "outputs": [],
            "source": [
                "sigma = 0.20\n",
                "num_time_steps = 100\n",
                "model = BDTTree(sigma, num_time_steps)"
            ]
        },
        {
            "cell_type": "code",
            "execution_count": 41,
            "metadata": {
                "execution": {
                    "iopub.execute_input": "2024-04-30T20:21:35.314946Z",
                    "iopub.status.busy": "2024-04-30T20:21:35.314946Z",
                    "iopub.status.idle": "2024-04-30T20:21:35.321885Z",
                    "shell.execute_reply": "2024-04-30T20:21:35.321885Z"
                }
            },
            "outputs": [
                {
                    "name": "stdout",
                    "output_type": "stream",
                    "text": [
                        "PAY Value: 15937.51370\n",
                        "REC Value: 9618.31192\n",
                        "PAY - REC: 6319.20178\n"
                    ]
                }
            ],
            "source": [
                "value_pay = europeanBermSwaptionPay.value(value_dt, libor_curve, model)\n",
                "value_rec = europeanBermSwaptionRec.value(value_dt, libor_curve, model)\n",
                "valuePayRec = value_pay - value_rec\n",
                "print(\"PAY Value: %9.5f\"% value_pay)\n",
                "print(\"REC Value: %9.5f\"% value_rec)\n",
                "print(\"PAY - REC: %9.5f\"% valuePayRec)"
            ]
        },
        {
            "cell_type": "markdown",
            "metadata": {},
            "source": [
                "### Hull White Model"
            ]
        },
        {
            "cell_type": "code",
            "execution_count": 42,
            "metadata": {
                "execution": {
                    "iopub.execute_input": "2024-04-30T20:21:35.323887Z",
                    "iopub.status.busy": "2024-04-30T20:21:35.323887Z",
                    "iopub.status.idle": "2024-04-30T20:21:35.327676Z",
                    "shell.execute_reply": "2024-04-30T20:21:35.327676Z"
                }
            },
            "outputs": [],
            "source": [
                "sigma = 0.0000001\n",
                "a = 0.01\n",
                "num_time_steps = 101\n",
                "model = HWTree(sigma, a, num_time_steps)"
            ]
        },
        {
            "cell_type": "code",
            "execution_count": 43,
            "metadata": {
                "execution": {
                    "iopub.execute_input": "2024-04-30T20:21:35.330671Z",
                    "iopub.status.busy": "2024-04-30T20:21:35.330671Z",
                    "iopub.status.idle": "2024-04-30T20:21:36.824553Z",
                    "shell.execute_reply": "2024-04-30T20:21:36.824553Z"
                }
            },
            "outputs": [
                {
                    "name": "stdout",
                    "output_type": "stream",
                    "text": [
                        "PAY Value: 6314.50332\n",
                        "REC Value:   0.00000\n",
                        "PAY - REC: 6314.50332\n"
                    ]
                }
            ],
            "source": [
                "value_pay = europeanBermSwaptionPay.value(value_dt, libor_curve, model)\n",
                "value_rec = europeanBermSwaptionRec.value(value_dt, libor_curve, model)\n",
                "valuePayRec = value_pay - value_rec\n",
                "print(\"PAY Value: %9.5f\"% value_pay)\n",
                "print(\"REC Value: %9.5f\"% value_rec)\n",
                "print(\"PAY - REC: %9.5f\"% valuePayRec)"
            ]
        },
        {
            "cell_type": "code",
            "execution_count": 44,
            "metadata": {
                "execution": {
                    "iopub.execute_input": "2024-04-30T20:21:36.826587Z",
                    "iopub.status.busy": "2024-04-30T20:21:36.826587Z",
                    "iopub.status.idle": "2024-04-30T20:21:36.830208Z",
                    "shell.execute_reply": "2024-04-30T20:21:36.830208Z"
                }
            },
            "outputs": [],
            "source": [
                "sigma = 0.20 * rate\n",
                "a = 0.01\n",
                "num_time_steps = 101\n",
                "model = HWTree(sigma, a, num_time_steps)"
            ]
        },
        {
            "cell_type": "code",
            "execution_count": 45,
            "metadata": {
                "execution": {
                    "iopub.execute_input": "2024-04-30T20:21:36.832770Z",
                    "iopub.status.busy": "2024-04-30T20:21:36.832770Z",
                    "iopub.status.idle": "2024-04-30T20:21:36.839336Z",
                    "shell.execute_reply": "2024-04-30T20:21:36.838828Z"
                }
            },
            "outputs": [
                {
                    "name": "stdout",
                    "output_type": "stream",
                    "text": [
                        "PAY Value: 16237.06135\n",
                        "REC Value: 9922.55803\n",
                        "PAY - REC: 6314.50332\n"
                    ]
                }
            ],
            "source": [
                "value_pay = europeanBermSwaptionPay.value(value_dt, libor_curve, model)\n",
                "value_rec = europeanBermSwaptionRec.value(value_dt, libor_curve, model)\n",
                "valuePayRec = value_pay - value_rec\n",
                "print(\"PAY Value: %9.5f\"% value_pay)\n",
                "print(\"REC Value: %9.5f\"% value_rec)\n",
                "print(\"PAY - REC: %9.5f\"% valuePayRec)"
            ]
        },
        {
            "cell_type": "markdown",
            "metadata": {},
            "source": [
                "# Now allow Multiple Exercise Dates - Bermudan"
            ]
        },
        {
            "cell_type": "markdown",
            "metadata": {},
            "source": [
                "Now allow exercise on ALL cpn dates PLUS expiry."
            ]
        },
        {
            "cell_type": "code",
            "execution_count": 46,
            "metadata": {
                "execution": {
                    "iopub.execute_input": "2024-04-30T20:21:36.841367Z",
                    "iopub.status.busy": "2024-04-30T20:21:36.841367Z",
                    "iopub.status.idle": "2024-04-30T20:21:36.844145Z",
                    "shell.execute_reply": "2024-04-30T20:21:36.844145Z"
                }
            },
            "outputs": [],
            "source": [
                "bermudan_swaption_pay = IborBermudanSwaption(settle_dt,\n",
                "                                               exercise_dt,\n",
                "                                               swap_maturity_dt,\n",
                "                                               SwapTypes.PAY,\n",
                "                                               FinExerciseTypes.BERMUDAN,\n",
                "                                               swap_fixed_cpn,\n",
                "                                               swap_fixed_freq_type,\n",
                "                                               swapFixedDayCountType)"
            ]
        },
        {
            "cell_type": "code",
            "execution_count": 47,
            "metadata": {
                "execution": {
                    "iopub.execute_input": "2024-04-30T20:21:36.846177Z",
                    "iopub.status.busy": "2024-04-30T20:21:36.846177Z",
                    "iopub.status.idle": "2024-04-30T20:21:36.849310Z",
                    "shell.execute_reply": "2024-04-30T20:21:36.849077Z"
                }
            },
            "outputs": [],
            "source": [
                "bermudan_swaption_rec = IborBermudanSwaption(settle_dt,\n",
                "                                               exercise_dt,\n",
                "                                               swap_maturity_dt,\n",
                "                                               SwapTypes.RECEIVE,\n",
                "                                               FinExerciseTypes.BERMUDAN,\n",
                "                                               swap_fixed_cpn,\n",
                "                                               swap_fixed_freq_type,\n",
                "                                               swapFixedDayCountType)"
            ]
        },
        {
            "cell_type": "markdown",
            "metadata": {},
            "source": [
                "### Black Karasinski Model"
            ]
        },
        {
            "cell_type": "code",
            "execution_count": 48,
            "metadata": {
                "execution": {
                    "iopub.execute_input": "2024-04-30T20:21:36.850845Z",
                    "iopub.status.busy": "2024-04-30T20:21:36.850845Z",
                    "iopub.status.idle": "2024-04-30T20:21:36.854470Z",
                    "shell.execute_reply": "2024-04-30T20:21:36.854237Z"
                }
            },
            "outputs": [],
            "source": [
                "sigma = 0.20\n",
                "a = 0.01\n",
                "num_time_steps = 100\n",
                "model = BKTree(sigma, a, num_time_steps)"
            ]
        },
        {
            "cell_type": "code",
            "execution_count": 49,
            "metadata": {
                "execution": {
                    "iopub.execute_input": "2024-04-30T20:21:36.856973Z",
                    "iopub.status.busy": "2024-04-30T20:21:36.855976Z",
                    "iopub.status.idle": "2024-04-30T20:21:36.864585Z",
                    "shell.execute_reply": "2024-04-30T20:21:36.864585Z"
                }
            },
            "outputs": [
                {
                    "name": "stdout",
                    "output_type": "stream",
                    "text": [
                        "PAY Value: 19235.85760\n",
                        "REC Value: 13043.39490\n",
                        "PAY - REC: 6192.46270\n"
                    ]
                }
            ],
            "source": [
                "value_pay = bermudan_swaption_pay.value(value_dt, libor_curve, model)\n",
                "value_rec = bermudan_swaption_rec.value(value_dt, libor_curve, model)\n",
                "valuePayRec = value_pay - value_rec\n",
                "print(\"PAY Value: %9.5f\"% value_pay)\n",
                "print(\"REC Value: %9.5f\"% value_rec)\n",
                "print(\"PAY - REC: %9.5f\"% valuePayRec)"
            ]
        },
        {
            "cell_type": "markdown",
            "metadata": {},
            "source": [
                "### Black-Derman-Toy Model"
            ]
        },
        {
            "cell_type": "code",
            "execution_count": 50,
            "metadata": {
                "execution": {
                    "iopub.execute_input": "2024-04-30T20:21:36.866587Z",
                    "iopub.status.busy": "2024-04-30T20:21:36.866587Z",
                    "iopub.status.idle": "2024-04-30T20:21:36.869854Z",
                    "shell.execute_reply": "2024-04-30T20:21:36.869854Z"
                }
            },
            "outputs": [],
            "source": [
                "sigma = 0.20\n",
                "num_time_steps = 100\n",
                "model = BDTTree(sigma, num_time_steps)"
            ]
        },
        {
            "cell_type": "code",
            "execution_count": 51,
            "metadata": {
                "execution": {
                    "iopub.execute_input": "2024-04-30T20:21:36.872484Z",
                    "iopub.status.busy": "2024-04-30T20:21:36.872484Z",
                    "iopub.status.idle": "2024-04-30T20:21:36.879513Z",
                    "shell.execute_reply": "2024-04-30T20:21:36.879513Z"
                }
            },
            "outputs": [
                {
                    "name": "stdout",
                    "output_type": "stream",
                    "text": [
                        "PAY Value: 19500.06870\n",
                        "REC Value: 13318.31315\n",
                        "PAY - REC: 6181.75555\n"
                    ]
                }
            ],
            "source": [
                "value_pay = bermudan_swaption_pay.value(settle_dt, libor_curve, model)\n",
                "value_rec = bermudan_swaption_rec.value(settle_dt, libor_curve, model)\n",
                "valuePayRec = value_pay - value_rec\n",
                "print(\"PAY Value: %9.5f\"% value_pay)\n",
                "print(\"REC Value: %9.5f\"% value_rec)\n",
                "print(\"PAY - REC: %9.5f\"% valuePayRec)"
            ]
        },
        {
            "cell_type": "markdown",
            "metadata": {},
            "source": [
                "### Hull-White Model"
            ]
        },
        {
            "cell_type": "code",
            "execution_count": 52,
            "metadata": {
                "execution": {
                    "iopub.execute_input": "2024-04-30T20:21:36.882511Z",
                    "iopub.status.busy": "2024-04-30T20:21:36.881552Z",
                    "iopub.status.idle": "2024-04-30T20:21:36.885413Z",
                    "shell.execute_reply": "2024-04-30T20:21:36.885013Z"
                }
            },
            "outputs": [],
            "source": [
                "sigma = 0.01\n",
                "a = 0.01\n",
                "num_time_steps = 100\n",
                "model = HWTree(sigma, a)"
            ]
        },
        {
            "cell_type": "code",
            "execution_count": 53,
            "metadata": {
                "execution": {
                    "iopub.execute_input": "2024-04-30T20:21:36.888408Z",
                    "iopub.status.busy": "2024-04-30T20:21:36.887440Z",
                    "iopub.status.idle": "2024-04-30T20:21:36.894896Z",
                    "shell.execute_reply": "2024-04-30T20:21:36.894896Z"
                }
            },
            "outputs": [
                {
                    "name": "stdout",
                    "output_type": "stream",
                    "text": [
                        "PAY Value: 16578.58987\n",
                        "REC Value: 10406.29704\n",
                        "PAY - REC: 6172.29283\n"
                    ]
                }
            ],
            "source": [
                "value_pay = bermudan_swaption_pay.value(settle_dt, libor_curve, model)\n",
                "value_rec = bermudan_swaption_rec.value(settle_dt, libor_curve, model)\n",
                "valuePayRec = value_pay - value_rec\n",
                "print(\"PAY Value: %9.5f\"% value_pay)\n",
                "print(\"REC Value: %9.5f\"% value_rec)\n",
                "print(\"PAY - REC: %9.5f\"% valuePayRec)"
            ]
        },
        {
            "cell_type": "markdown",
            "metadata": {},
            "source": [
                "The swaption is Bermudan so it can only be exercised on cpn payment dates"
            ]
        },
        {
            "cell_type": "markdown",
            "metadata": {},
            "source": [
                "Copyright (c) 2020 Dominic O'Kane"
            ]
        }
    ],
    "metadata": {
        "kernelspec": {
            "display_name": "Python 3",
            "language": "python",
            "name": "python3"
        },
        "language_info": {
            "codemirror_mode": {
                "name": "ipython",
                "version": 3
            },
            "file_extension": ".py",
            "mimetype": "text/x-python",
            "name": "python",
            "nbconvert_exporter": "python",
            "pygments_lexer": "ipython3",
            "version": "3.11.5"
        }
    },
    "nbformat": 4,
    "nbformat_minor": 2
}