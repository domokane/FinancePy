{
 "cells": [
  {
   "cell_type": "markdown",
   "metadata": {},
   "source": [
    "# Bermudan Swaption Pricing"
   ]
  },
  {
   "cell_type": "markdown",
   "metadata": {},
   "source": [
    "Value a European Swaption using the Hull-White, Black-Derman-Toy and Black-Karasinski models. I analyse relationships to test the model pricing."
   ]
  },
  {
   "cell_type": "markdown",
   "metadata": {},
   "source": [
    "NOTE SENSITIVE TO EVEN-ODD NUMBER OF TIME STEPS ON TREE - INVESTIGATE"
   ]
  },
  {
   "cell_type": "code",
   "execution_count": 1,
   "metadata": {
    "execution": {
     "iopub.execute_input": "2025-09-14T22:24:01.446371Z",
     "iopub.status.busy": "2025-09-14T22:24:01.446238Z",
     "iopub.status.idle": "2025-09-14T22:24:01.680827Z",
     "shell.execute_reply": "2025-09-14T22:24:01.680294Z"
    }
   },
   "outputs": [],
   "source": [
    "import numpy as np\n",
    "import matplotlib.pyplot as plt"
   ]
  },
  {
   "cell_type": "code",
   "execution_count": 2,
   "metadata": {
    "execution": {
     "iopub.execute_input": "2025-09-14T22:24:01.682363Z",
     "iopub.status.busy": "2025-09-14T22:24:01.682183Z",
     "iopub.status.idle": "2025-09-14T22:24:02.722624Z",
     "shell.execute_reply": "2025-09-14T22:24:02.722143Z"
    },
    "tags": []
   },
   "outputs": [],
   "source": [
    "from financepy.utils import *\n",
    "from financepy.products.rates import *\n",
    "from financepy.market.curves import *\n",
    "from financepy.models.hw_tree import HWTree\n",
    "from financepy.models.bk_tree import BKTree\n",
    "from financepy.models.bdt_tree import BDTTree"
   ]
  },
  {
   "cell_type": "markdown",
   "metadata": {},
   "source": [
    "## Discount Curve"
   ]
  },
  {
   "cell_type": "code",
   "execution_count": 3,
   "metadata": {
    "execution": {
     "iopub.execute_input": "2025-09-14T22:24:02.724446Z",
     "iopub.status.busy": "2025-09-14T22:24:02.724228Z",
     "iopub.status.idle": "2025-09-14T22:24:02.742334Z",
     "shell.execute_reply": "2025-09-14T22:24:02.741611Z"
    }
   },
   "outputs": [],
   "source": [
    "value_dt = Date(1, 1, 2011)\n",
    "settle_dt = value_dt"
   ]
  },
  {
   "cell_type": "markdown",
   "metadata": {},
   "source": [
    "Set up flat discount curve"
   ]
  },
  {
   "cell_type": "code",
   "execution_count": 4,
   "metadata": {
    "execution": {
     "iopub.execute_input": "2025-09-14T22:24:02.743750Z",
     "iopub.status.busy": "2025-09-14T22:24:02.743609Z",
     "iopub.status.idle": "2025-09-14T22:24:02.752921Z",
     "shell.execute_reply": "2025-09-14T22:24:02.752670Z"
    }
   },
   "outputs": [],
   "source": [
    "rate = 0.0625\n",
    "libor_curve = DiscountCurveFlat(value_dt,\n",
    "                                  rate,\n",
    "                                  FrequencyTypes.SEMI_ANNUAL,\n",
    "                                  DayCountTypes.ACT_365F)"
   ]
  },
  {
   "cell_type": "markdown",
   "metadata": {},
   "source": [
    "# The Underlying Swap"
   ]
  },
  {
   "cell_type": "markdown",
   "metadata": {},
   "source": [
    "We begin with the underlying swap."
   ]
  },
  {
   "cell_type": "code",
   "execution_count": 5,
   "metadata": {
    "execution": {
     "iopub.execute_input": "2025-09-14T22:24:02.754257Z",
     "iopub.status.busy": "2025-09-14T22:24:02.754130Z",
     "iopub.status.idle": "2025-09-14T22:24:02.756363Z",
     "shell.execute_reply": "2025-09-14T22:24:02.756067Z"
    }
   },
   "outputs": [],
   "source": [
    "exercise_dt = settle_dt.add_years(1)\n",
    "swap_maturity_dt = settle_dt.add_years(4)\n",
    "swap_fixed_cpn = 0.060\n",
    "swap_fixed_freq_type = FrequencyTypes.SEMI_ANNUAL\n",
    "swapFixedDayCountType = DayCountTypes.ACT_365F\n",
    "swap_type = SwapTypes.PAY"
   ]
  },
  {
   "cell_type": "markdown",
   "metadata": {},
   "source": [
    "We can value the forward starting swap."
   ]
  },
  {
   "cell_type": "code",
   "execution_count": 6,
   "metadata": {
    "execution": {
     "iopub.execute_input": "2025-09-14T22:24:02.758179Z",
     "iopub.status.busy": "2025-09-14T22:24:02.757864Z",
     "iopub.status.idle": "2025-09-14T22:24:02.760258Z",
     "shell.execute_reply": "2025-09-14T22:24:02.759947Z"
    }
   },
   "outputs": [],
   "source": [
    "swap = IborSwap(exercise_dt,\n",
    "                    swap_maturity_dt,\n",
    "                    swap_type,\n",
    "                    swap_fixed_cpn,\n",
    "                    swap_fixed_freq_type,\n",
    "                    swapFixedDayCountType)"
   ]
  },
  {
   "cell_type": "markdown",
   "metadata": {},
   "source": [
    "We can approximate the value using 2.5 as the approximate duration of a 3 year swap"
   ]
  },
  {
   "cell_type": "code",
   "execution_count": 7,
   "metadata": {
    "execution": {
     "iopub.execute_input": "2025-09-14T22:24:02.761434Z",
     "iopub.status.busy": "2025-09-14T22:24:02.761325Z",
     "iopub.status.idle": "2025-09-14T22:24:02.766736Z",
     "shell.execute_reply": "2025-09-14T22:24:02.766418Z"
    }
   },
   "outputs": [
    {
     "data": {
      "text/plain": [
       "6250.0000000000055"
      ]
     },
     "execution_count": 7,
     "metadata": {},
     "output_type": "execute_result"
    }
   ],
   "source": [
    "(rate - swap_fixed_cpn) * 2.5 * ONE_MILLION"
   ]
  },
  {
   "cell_type": "code",
   "execution_count": 8,
   "metadata": {
    "execution": {
     "iopub.execute_input": "2025-09-14T22:24:02.767821Z",
     "iopub.status.busy": "2025-09-14T22:24:02.767699Z",
     "iopub.status.idle": "2025-09-14T22:24:02.771816Z",
     "shell.execute_reply": "2025-09-14T22:24:02.771449Z"
    }
   },
   "outputs": [
    {
     "name": "stdout",
     "output_type": "stream",
     "text": [
      "Swap Value: 6214.67070\n"
     ]
    }
   ],
   "source": [
    "swapValue = swap.value(value_dt, libor_curve, libor_curve)\n",
    "print(\"Swap Value: %9.5f\"% swapValue)"
   ]
  },
  {
   "cell_type": "markdown",
   "metadata": {},
   "source": [
    "The estimate was not bad !"
   ]
  },
  {
   "cell_type": "code",
   "execution_count": 9,
   "metadata": {
    "execution": {
     "iopub.execute_input": "2025-09-14T22:24:02.773266Z",
     "iopub.status.busy": "2025-09-14T22:24:02.773129Z",
     "iopub.status.idle": "2025-09-14T22:24:02.775971Z",
     "shell.execute_reply": "2025-09-14T22:24:02.775631Z"
    }
   },
   "outputs": [
    {
     "name": "stdout",
     "output_type": "stream",
     "text": [
      "START DATE: 01-JAN-2012\n",
      "MATURITY DATE: 01-JAN-2015\n",
      "COUPON (%): 6.0\n",
      "FREQUENCY: FrequencyTypes.SEMI_ANNUAL\n",
      "DAY COUNT: DayCountTypes.ACT_365F\n",
      "\n",
      "PAYMENTS VALUATION:\n",
      "PAY_NUM | PAY_dt      | NOTIONAL | RATE | PMNT     | DF     | PV       | CUM_PV   \n",
      "--------+-------------+----------+------+----------+--------+----------+----------\n",
      "      1 | 02-JUL-2012 |  1000000 |  6.0 | 30082.19 | 0.9117 | 27427.17 |  27427.17\n",
      "      2 | 01-JAN-2013 |  1000000 |  6.0 | 30082.19 |  0.884 |  26593.8 |  54020.97\n",
      "      3 | 01-JUL-2013 |  1000000 |  6.0 | 29753.42 | 0.8575 | 25512.54 |  79533.51\n",
      "      4 | 01-JAN-2014 |  1000000 |  6.0 | 30246.58 | 0.8313 | 25143.12 | 104676.64\n",
      "      5 | 01-JUL-2014 |  1000000 |  6.0 | 29753.42 | 0.8063 | 23989.76 | 128666.39\n",
      "      6 | 01-JAN-2015 |  1000000 |  6.0 | 30246.58 | 0.7817 | 23642.39 | 152308.78\n"
     ]
    }
   ],
   "source": [
    "swap.print_fixed_leg_pv()"
   ]
  },
  {
   "cell_type": "code",
   "execution_count": 10,
   "metadata": {
    "execution": {
     "iopub.execute_input": "2025-09-14T22:24:02.777047Z",
     "iopub.status.busy": "2025-09-14T22:24:02.776923Z",
     "iopub.status.idle": "2025-09-14T22:24:02.779628Z",
     "shell.execute_reply": "2025-09-14T22:24:02.779352Z"
    }
   },
   "outputs": [
    {
     "name": "stdout",
     "output_type": "stream",
     "text": [
      "START DATE: 01-JAN-2012\n",
      "MATURITY DATE: 01-JAN-2015\n",
      "SPREAD (BPS): 0.0\n",
      "FREQUENCY: FrequencyTypes.QUARTERLY\n",
      "DAY COUNT: DayCountTypes.THIRTY_E_360\n",
      "\n",
      "PAYMENTS VALUATION:\n",
      "PAY_NUM | PAY_dt      | NOTIONAL | IBOR   | PMNT     | DF     | PV       | CUM_PV   \n",
      "--------+-------------+----------+--------+----------+--------+----------+----------\n",
      "      1 | 02-APR-2012 |  1000000 | 6.2023 | 15678.07 | 0.9258 | 14515.36 |  14515.36\n",
      "      2 | 02-JUL-2012 |  1000000 | 6.2018 | 15504.47 | 0.9117 | 14136.06 |  28651.42\n",
      "      3 | 01-OCT-2012 |  1000000 | 6.2018 |  15332.2 | 0.8979 | 13766.14 |  42417.57\n",
      "      4 | 01-JAN-2013 |  1000000 | 6.2023 | 15505.78 |  0.884 |  13707.7 |  56125.27\n",
      "      5 | 01-APR-2013 |  1000000 | 6.2013 | 15503.16 | 0.8707 | 13498.97 |  69624.24\n",
      "      6 | 01-JUL-2013 |  1000000 | 6.2018 | 15504.47 | 0.8575 | 13294.56 |   82918.8\n",
      "      7 | 01-OCT-2013 |  1000000 | 6.2023 | 15505.78 | 0.8443 | 13091.02 |  96009.82\n",
      "      8 | 01-JAN-2014 |  1000000 | 6.2023 | 15505.78 | 0.8313 | 12889.52 | 108899.34\n",
      "      9 | 01-APR-2014 |  1000000 | 6.2013 | 15503.16 | 0.8188 | 12693.25 | 121592.59\n",
      "     10 | 01-JUL-2014 |  1000000 | 6.2018 | 15504.47 | 0.8063 | 12501.03 | 134093.63\n",
      "     11 | 01-OCT-2014 |  1000000 | 6.2023 | 15505.78 | 0.7939 | 12309.65 | 146403.28\n",
      "     12 | 01-JAN-2015 |  1000000 | 6.2023 | 15505.78 | 0.7817 | 12120.17 | 158523.45\n"
     ]
    }
   ],
   "source": [
    "swap.print_float_leg_pv()"
   ]
  },
  {
   "cell_type": "markdown",
   "metadata": {},
   "source": [
    "# IborSwaption"
   ]
  },
  {
   "cell_type": "markdown",
   "metadata": {},
   "source": [
    "This is a class for European-style swaptions. It implements a number of model implementations."
   ]
  },
  {
   "cell_type": "code",
   "execution_count": 11,
   "metadata": {
    "execution": {
     "iopub.execute_input": "2025-09-14T22:24:02.780679Z",
     "iopub.status.busy": "2025-09-14T22:24:02.780561Z",
     "iopub.status.idle": "2025-09-14T22:24:02.782587Z",
     "shell.execute_reply": "2025-09-14T22:24:02.782300Z"
    }
   },
   "outputs": [],
   "source": [
    "european_swaption_pay = IborSwaption(settle_dt,\n",
    "                                      exercise_dt,\n",
    "                                      swap_maturity_dt,\n",
    "                                      SwapTypes.PAY,\n",
    "                                      swap_fixed_cpn,\n",
    "                                      swap_fixed_freq_type,\n",
    "                                      swapFixedDayCountType)"
   ]
  },
  {
   "cell_type": "code",
   "execution_count": 12,
   "metadata": {
    "execution": {
     "iopub.execute_input": "2025-09-14T22:24:02.783519Z",
     "iopub.status.busy": "2025-09-14T22:24:02.783409Z",
     "iopub.status.idle": "2025-09-14T22:24:02.785628Z",
     "shell.execute_reply": "2025-09-14T22:24:02.785311Z"
    }
   },
   "outputs": [],
   "source": [
    "european_swaption_rec = IborSwaption(settle_dt,\n",
    "                                      exercise_dt,\n",
    "                                      swap_maturity_dt,\n",
    "                                      SwapTypes.RECEIVE,\n",
    "                                      swap_fixed_cpn,\n",
    "                                      swap_fixed_freq_type,\n",
    "                                      swapFixedDayCountType)"
   ]
  },
  {
   "cell_type": "code",
   "execution_count": 13,
   "metadata": {
    "execution": {
     "iopub.execute_input": "2025-09-14T22:24:02.786543Z",
     "iopub.status.busy": "2025-09-14T22:24:02.786430Z",
     "iopub.status.idle": "2025-09-14T22:24:02.788761Z",
     "shell.execute_reply": "2025-09-14T22:24:02.788498Z"
    }
   },
   "outputs": [
    {
     "data": {
      "text/plain": [
       "OBJECT TYPE: IborSwaption\n",
       "SETTLEMENT DATE: 01-JAN-2011\n",
       "EXERCISE DATE: 01-JAN-2012\n",
       "SWAP FIXED LEG TYPE: SwapTypes.PAY\n",
       "SWAP MATURITY DATE: 01-JAN-2015\n",
       "SWAP NOTIONAL: 1000000\n",
       "FIXED cpn: 6.0\n",
       "FIXED FREQUENCY: FrequencyTypes.SEMI_ANNUAL\n",
       "FIXED DAY COUNT: DayCountTypes.ACT_365F\n",
       "FLOAT FREQUENCY: FrequencyTypes.QUARTERLY\n",
       "FLOAT DAY COUNT: DayCountTypes.THIRTY_E_360"
      ]
     },
     "execution_count": 13,
     "metadata": {},
     "output_type": "execute_result"
    }
   ],
   "source": [
    "european_swaption_pay"
   ]
  },
  {
   "cell_type": "markdown",
   "metadata": {},
   "source": [
    "Set the volatility to zero so that payer is pure intrinsic"
   ]
  },
  {
   "cell_type": "markdown",
   "metadata": {},
   "source": [
    "### Black's Model"
   ]
  },
  {
   "cell_type": "code",
   "execution_count": 14,
   "metadata": {
    "execution": {
     "iopub.execute_input": "2025-09-14T22:24:02.789735Z",
     "iopub.status.busy": "2025-09-14T22:24:02.789626Z",
     "iopub.status.idle": "2025-09-14T22:24:02.791772Z",
     "shell.execute_reply": "2025-09-14T22:24:02.791501Z"
    }
   },
   "outputs": [],
   "source": [
    "sigma = 0.00001"
   ]
  },
  {
   "cell_type": "code",
   "execution_count": 15,
   "metadata": {
    "execution": {
     "iopub.execute_input": "2025-09-14T22:24:02.792700Z",
     "iopub.status.busy": "2025-09-14T22:24:02.792592Z",
     "iopub.status.idle": "2025-09-14T22:24:02.794822Z",
     "shell.execute_reply": "2025-09-14T22:24:02.794508Z"
    }
   },
   "outputs": [],
   "source": [
    "model = Black(sigma)"
   ]
  },
  {
   "cell_type": "code",
   "execution_count": 16,
   "metadata": {
    "execution": {
     "iopub.execute_input": "2025-09-14T22:24:02.795739Z",
     "iopub.status.busy": "2025-09-14T22:24:02.795634Z",
     "iopub.status.idle": "2025-09-14T22:24:02.799310Z",
     "shell.execute_reply": "2025-09-14T22:24:02.799007Z"
    }
   },
   "outputs": [
    {
     "data": {
      "text/plain": [
       "np.float64(6214.670696710779)"
      ]
     },
     "execution_count": 16,
     "metadata": {},
     "output_type": "execute_result"
    }
   ],
   "source": [
    "european_swaption_pay.value(value_dt, libor_curve, model)"
   ]
  },
  {
   "cell_type": "markdown",
   "metadata": {},
   "source": [
    "Let's check for put-call parity"
   ]
  },
  {
   "cell_type": "code",
   "execution_count": 17,
   "metadata": {
    "execution": {
     "iopub.execute_input": "2025-09-14T22:24:02.800283Z",
     "iopub.status.busy": "2025-09-14T22:24:02.800164Z",
     "iopub.status.idle": "2025-09-14T22:24:02.802116Z",
     "shell.execute_reply": "2025-09-14T22:24:02.801838Z"
    }
   },
   "outputs": [],
   "source": [
    "sigma = 0.20"
   ]
  },
  {
   "cell_type": "code",
   "execution_count": 18,
   "metadata": {
    "execution": {
     "iopub.execute_input": "2025-09-14T22:24:02.804834Z",
     "iopub.status.busy": "2025-09-14T22:24:02.804384Z",
     "iopub.status.idle": "2025-09-14T22:24:02.806550Z",
     "shell.execute_reply": "2025-09-14T22:24:02.806254Z"
    }
   },
   "outputs": [],
   "source": [
    "model = Black(sigma)"
   ]
  },
  {
   "cell_type": "code",
   "execution_count": 19,
   "metadata": {
    "execution": {
     "iopub.execute_input": "2025-09-14T22:24:02.807444Z",
     "iopub.status.busy": "2025-09-14T22:24:02.807334Z",
     "iopub.status.idle": "2025-09-14T22:24:02.810720Z",
     "shell.execute_reply": "2025-09-14T22:24:02.810476Z"
    }
   },
   "outputs": [
    {
     "name": "stdout",
     "output_type": "stream",
     "text": [
      "PAY Value: 15732.91222\n",
      "REC Value: 9518.24152\n",
      "PAY - REC: 6214.67070\n"
     ]
    }
   ],
   "source": [
    "value_pay = european_swaption_pay.value(value_dt, libor_curve, model)\n",
    "value_rec = european_swaption_rec.value(value_dt, libor_curve, model)\n",
    "valuePayRec = value_pay - value_rec\n",
    "print(\"PAY Value: %9.5f\"% value_pay)\n",
    "print(\"REC Value: %9.5f\"% value_rec)\n",
    "print(\"PAY - REC: %9.5f\"% valuePayRec)"
   ]
  },
  {
   "cell_type": "markdown",
   "metadata": {},
   "source": [
    "Yes put-call parity is respected."
   ]
  },
  {
   "cell_type": "markdown",
   "metadata": {},
   "source": [
    "### BK Model"
   ]
  },
  {
   "cell_type": "code",
   "execution_count": 20,
   "metadata": {
    "execution": {
     "iopub.execute_input": "2025-09-14T22:24:02.811992Z",
     "iopub.status.busy": "2025-09-14T22:24:02.811870Z",
     "iopub.status.idle": "2025-09-14T22:24:02.814039Z",
     "shell.execute_reply": "2025-09-14T22:24:02.813745Z"
    }
   },
   "outputs": [],
   "source": [
    "a = 0.01\n",
    "sigma = 0.0000001\n",
    "num_time_steps = 100\n",
    "model = BKTree(sigma, a, num_time_steps)"
   ]
  },
  {
   "cell_type": "code",
   "execution_count": 21,
   "metadata": {
    "execution": {
     "iopub.execute_input": "2025-09-14T22:24:02.815187Z",
     "iopub.status.busy": "2025-09-14T22:24:02.815072Z",
     "iopub.status.idle": "2025-09-14T22:24:02.857549Z",
     "shell.execute_reply": "2025-09-14T22:24:02.857093Z"
    }
   },
   "outputs": [
    {
     "name": "stdout",
     "output_type": "stream",
     "text": [
      "PAY Value: 6346.08093\n",
      "REC Value:   0.00000\n",
      "PAY - REC: 6346.08093\n"
     ]
    }
   ],
   "source": [
    "value_pay = european_swaption_pay.value(value_dt, libor_curve, model)\n",
    "value_rec = european_swaption_rec.value(value_dt, libor_curve, model)\n",
    "valuePayRec = value_pay - value_rec\n",
    "print(\"PAY Value: %9.5f\"% value_pay)\n",
    "print(\"REC Value: %9.5f\"% value_rec)\n",
    "print(\"PAY - REC: %9.5f\"% valuePayRec)"
   ]
  },
  {
   "cell_type": "code",
   "execution_count": 22,
   "metadata": {
    "execution": {
     "iopub.execute_input": "2025-09-14T22:24:02.859482Z",
     "iopub.status.busy": "2025-09-14T22:24:02.859079Z",
     "iopub.status.idle": "2025-09-14T22:24:02.861766Z",
     "shell.execute_reply": "2025-09-14T22:24:02.861436Z"
    }
   },
   "outputs": [],
   "source": [
    "a = 0.01\n",
    "sigma = 0.20\n",
    "num_time_steps = 100\n",
    "model = BKTree(sigma, a, num_time_steps)"
   ]
  },
  {
   "cell_type": "code",
   "execution_count": 23,
   "metadata": {
    "execution": {
     "iopub.execute_input": "2025-09-14T22:24:02.862883Z",
     "iopub.status.busy": "2025-09-14T22:24:02.862762Z",
     "iopub.status.idle": "2025-09-14T22:24:02.867782Z",
     "shell.execute_reply": "2025-09-14T22:24:02.867441Z"
    }
   },
   "outputs": [
    {
     "name": "stdout",
     "output_type": "stream",
     "text": [
      "PAY Value: 15746.57475\n",
      "REC Value: 9400.49421\n",
      "PAY - REC: 6346.08054\n"
     ]
    }
   ],
   "source": [
    "value_pay = european_swaption_pay.value(value_dt, libor_curve, model)\n",
    "value_rec = european_swaption_rec.value(value_dt, libor_curve, model)\n",
    "valuePayRec = value_pay - value_rec\n",
    "print(\"PAY Value: %9.5f\"% value_pay)\n",
    "print(\"REC Value: %9.5f\"% value_rec)\n",
    "print(\"PAY - REC: %9.5f\"% valuePayRec)"
   ]
  },
  {
   "cell_type": "markdown",
   "metadata": {},
   "source": [
    "### BDT Model"
   ]
  },
  {
   "cell_type": "code",
   "execution_count": 24,
   "metadata": {
    "execution": {
     "iopub.execute_input": "2025-09-14T22:24:02.868951Z",
     "iopub.status.busy": "2025-09-14T22:24:02.868830Z",
     "iopub.status.idle": "2025-09-14T22:24:02.870888Z",
     "shell.execute_reply": "2025-09-14T22:24:02.870600Z"
    }
   },
   "outputs": [],
   "source": [
    "sigma = 0.0000001\n",
    "num_time_steps = 200\n",
    "model = BDTTree(sigma, num_time_steps)"
   ]
  },
  {
   "cell_type": "code",
   "execution_count": 25,
   "metadata": {
    "execution": {
     "iopub.execute_input": "2025-09-14T22:24:02.872122Z",
     "iopub.status.busy": "2025-09-14T22:24:02.872002Z",
     "iopub.status.idle": "2025-09-14T22:24:02.911654Z",
     "shell.execute_reply": "2025-09-14T22:24:02.910977Z"
    }
   },
   "outputs": [
    {
     "name": "stdout",
     "output_type": "stream",
     "text": [
      "PAY Value: 6347.28920\n",
      "REC Value:   0.00000\n",
      "PAY - REC: 6347.28920\n"
     ]
    }
   ],
   "source": [
    "value_pay = european_swaption_pay.value(value_dt, libor_curve, model)\n",
    "value_rec = european_swaption_rec.value(value_dt, libor_curve, model)\n",
    "valuePayRec = value_pay - value_rec\n",
    "print(\"PAY Value: %9.5f\"% value_pay)\n",
    "print(\"REC Value: %9.5f\"% value_rec)\n",
    "print(\"PAY - REC: %9.5f\"% valuePayRec)"
   ]
  },
  {
   "cell_type": "code",
   "execution_count": 26,
   "metadata": {
    "execution": {
     "iopub.execute_input": "2025-09-14T22:24:02.913517Z",
     "iopub.status.busy": "2025-09-14T22:24:02.913369Z",
     "iopub.status.idle": "2025-09-14T22:24:02.915568Z",
     "shell.execute_reply": "2025-09-14T22:24:02.915316Z"
    }
   },
   "outputs": [],
   "source": [
    "sigma = 0.20\n",
    "model = BDTTree(sigma, num_time_steps)"
   ]
  },
  {
   "cell_type": "code",
   "execution_count": 27,
   "metadata": {
    "execution": {
     "iopub.execute_input": "2025-09-14T22:24:02.916526Z",
     "iopub.status.busy": "2025-09-14T22:24:02.916411Z",
     "iopub.status.idle": "2025-09-14T22:24:02.922669Z",
     "shell.execute_reply": "2025-09-14T22:24:02.922332Z"
    }
   },
   "outputs": [
    {
     "name": "stdout",
     "output_type": "stream",
     "text": [
      "PAY Value: 15990.91739\n",
      "REC Value: 9639.93743\n",
      "PAY - REC: 6350.97996\n"
     ]
    }
   ],
   "source": [
    "value_pay = european_swaption_pay.value(value_dt, libor_curve, model)\n",
    "value_rec = european_swaption_rec.value(value_dt, libor_curve, model)\n",
    "valuePayRec = value_pay - value_rec\n",
    "print(\"PAY Value: %9.5f\"% value_pay)\n",
    "print(\"REC Value: %9.5f\"% value_rec)\n",
    "print(\"PAY - REC: %9.5f\"% valuePayRec)"
   ]
  },
  {
   "cell_type": "markdown",
   "metadata": {},
   "source": [
    "### HW Model"
   ]
  },
  {
   "cell_type": "code",
   "execution_count": 28,
   "metadata": {
    "execution": {
     "iopub.execute_input": "2025-09-14T22:24:02.923657Z",
     "iopub.status.busy": "2025-09-14T22:24:02.923534Z",
     "iopub.status.idle": "2025-09-14T22:24:02.925728Z",
     "shell.execute_reply": "2025-09-14T22:24:02.925358Z"
    }
   },
   "outputs": [],
   "source": [
    "sigma = 0.0000001\n",
    "num_time_steps = 200\n",
    "a = 0.01\n",
    "model = HWTree(sigma, a, num_time_steps)"
   ]
  },
  {
   "cell_type": "code",
   "execution_count": 29,
   "metadata": {
    "execution": {
     "iopub.execute_input": "2025-09-14T22:24:02.927255Z",
     "iopub.status.busy": "2025-09-14T22:24:02.926922Z",
     "iopub.status.idle": "2025-09-14T22:24:02.947785Z",
     "shell.execute_reply": "2025-09-14T22:24:02.947427Z"
    }
   },
   "outputs": [
    {
     "name": "stdout",
     "output_type": "stream",
     "text": [
      "PAY Value: 6348.45763\n",
      "REC Value:   0.00000\n",
      "PAY - REC: 6348.45763\n"
     ]
    }
   ],
   "source": [
    "value_pay = european_swaption_pay.value(value_dt, libor_curve, model)\n",
    "value_rec = european_swaption_rec.value(value_dt, libor_curve, model)\n",
    "valuePayRec = value_pay - value_rec\n",
    "print(\"PAY Value: %9.5f\"% value_pay)\n",
    "print(\"REC Value: %9.5f\"% value_rec)\n",
    "print(\"PAY - REC: %9.5f\"% valuePayRec)"
   ]
  },
  {
   "cell_type": "code",
   "execution_count": 30,
   "metadata": {
    "execution": {
     "iopub.execute_input": "2025-09-14T22:24:02.948934Z",
     "iopub.status.busy": "2025-09-14T22:24:02.948797Z",
     "iopub.status.idle": "2025-09-14T22:24:02.950993Z",
     "shell.execute_reply": "2025-09-14T22:24:02.950686Z"
    }
   },
   "outputs": [],
   "source": [
    "sigma = 0.20 * rate\n",
    "num_time_steps = 200\n",
    "a = 0.01\n",
    "model = HWTree(sigma, a, num_time_steps)"
   ]
  },
  {
   "cell_type": "code",
   "execution_count": 31,
   "metadata": {
    "execution": {
     "iopub.execute_input": "2025-09-14T22:24:02.952698Z",
     "iopub.status.busy": "2025-09-14T22:24:02.952505Z",
     "iopub.status.idle": "2025-09-14T22:24:02.956225Z",
     "shell.execute_reply": "2025-09-14T22:24:02.955880Z"
    }
   },
   "outputs": [
    {
     "name": "stdout",
     "output_type": "stream",
     "text": [
      "PAY Value: 16217.69298\n",
      "REC Value: 9869.43817\n",
      "PAY - REC: 6348.25481\n"
     ]
    }
   ],
   "source": [
    "value_pay = european_swaption_pay.value(value_dt, libor_curve, model)\n",
    "value_rec = european_swaption_rec.value(value_dt, libor_curve, model)\n",
    "valuePayRec = value_pay - value_rec\n",
    "print(\"PAY Value: %9.5f\"% value_pay)\n",
    "print(\"REC Value: %9.5f\"% value_rec)\n",
    "print(\"PAY - REC: %9.5f\"% valuePayRec)"
   ]
  },
  {
   "cell_type": "markdown",
   "metadata": {},
   "source": [
    "# IborBermudanSwaption"
   ]
  },
  {
   "cell_type": "markdown",
   "metadata": {},
   "source": [
    "I now examine FinBermudanSwaption and use the tree models to value it. But first let me price it on the tree models as a European option."
   ]
  },
  {
   "cell_type": "markdown",
   "metadata": {},
   "source": [
    "## Start By Only Allowing European Exercise"
   ]
  },
  {
   "cell_type": "code",
   "execution_count": 32,
   "metadata": {
    "execution": {
     "iopub.execute_input": "2025-09-14T22:24:02.957241Z",
     "iopub.status.busy": "2025-09-14T22:24:02.957124Z",
     "iopub.status.idle": "2025-09-14T22:24:02.959130Z",
     "shell.execute_reply": "2025-09-14T22:24:02.958870Z"
    }
   },
   "outputs": [],
   "source": [
    "europeanBermSwaptionPay = IborBermudanSwaption(settle_dt,\n",
    "                                                  exercise_dt,\n",
    "                                                  swap_maturity_dt,\n",
    "                                                  SwapTypes.PAY,\n",
    "                                                  FinExerciseTypes.EUROPEAN,\n",
    "                                                  swap_fixed_cpn,\n",
    "                                                  swap_fixed_freq_type,\n",
    "                                                  swapFixedDayCountType)"
   ]
  },
  {
   "cell_type": "code",
   "execution_count": 33,
   "metadata": {
    "execution": {
     "iopub.execute_input": "2025-09-14T22:24:02.960092Z",
     "iopub.status.busy": "2025-09-14T22:24:02.959980Z",
     "iopub.status.idle": "2025-09-14T22:24:02.962006Z",
     "shell.execute_reply": "2025-09-14T22:24:02.961708Z"
    }
   },
   "outputs": [],
   "source": [
    "europeanBermSwaptionRec = IborBermudanSwaption(settle_dt,\n",
    "                                                  exercise_dt,\n",
    "                                                  swap_maturity_dt,\n",
    "                                                  SwapTypes.RECEIVE,\n",
    "                                                  FinExerciseTypes.EUROPEAN,\n",
    "                                                  swap_fixed_cpn,\n",
    "                                                  swap_fixed_freq_type,\n",
    "                                                  swapFixedDayCountType)"
   ]
  },
  {
   "cell_type": "markdown",
   "metadata": {},
   "source": [
    "### Black Karasinski Model"
   ]
  },
  {
   "cell_type": "markdown",
   "metadata": {},
   "source": [
    "Setting the volatility close to zero so we only have intrinsic value."
   ]
  },
  {
   "cell_type": "code",
   "execution_count": 34,
   "metadata": {
    "execution": {
     "iopub.execute_input": "2025-09-14T22:24:02.963240Z",
     "iopub.status.busy": "2025-09-14T22:24:02.963024Z",
     "iopub.status.idle": "2025-09-14T22:24:02.964980Z",
     "shell.execute_reply": "2025-09-14T22:24:02.964685Z"
    }
   },
   "outputs": [],
   "source": [
    "black_vol = 0.0000001"
   ]
  },
  {
   "cell_type": "code",
   "execution_count": 35,
   "metadata": {
    "execution": {
     "iopub.execute_input": "2025-09-14T22:24:02.965935Z",
     "iopub.status.busy": "2025-09-14T22:24:02.965826Z",
     "iopub.status.idle": "2025-09-14T22:24:02.967726Z",
     "shell.execute_reply": "2025-09-14T22:24:02.967555Z"
    }
   },
   "outputs": [],
   "source": [
    "sigma = black_vol\n",
    "a = 0.01\n",
    "num_time_steps = 200\n",
    "model = BKTree(sigma, a, num_time_steps)"
   ]
  },
  {
   "cell_type": "code",
   "execution_count": 36,
   "metadata": {
    "execution": {
     "iopub.execute_input": "2025-09-14T22:24:02.968617Z",
     "iopub.status.busy": "2025-09-14T22:24:02.968506Z",
     "iopub.status.idle": "2025-09-14T22:24:02.975883Z",
     "shell.execute_reply": "2025-09-14T22:24:02.975565Z"
    }
   },
   "outputs": [
    {
     "name": "stdout",
     "output_type": "stream",
     "text": [
      "PAY Value: 6313.74545\n",
      "REC Value:   0.00000\n",
      "PAY - REC: 6313.74545\n"
     ]
    }
   ],
   "source": [
    "value_pay = europeanBermSwaptionPay.value(value_dt, libor_curve, model)\n",
    "value_rec = europeanBermSwaptionRec.value(value_dt, libor_curve, model)\n",
    "valuePayRec = value_pay - value_rec\n",
    "print(\"PAY Value: %9.5f\"% value_pay)\n",
    "print(\"REC Value: %9.5f\"% value_rec)\n",
    "print(\"PAY - REC: %9.5f\"% valuePayRec)"
   ]
  },
  {
   "cell_type": "code",
   "execution_count": 37,
   "metadata": {
    "execution": {
     "iopub.execute_input": "2025-09-14T22:24:02.977218Z",
     "iopub.status.busy": "2025-09-14T22:24:02.977085Z",
     "iopub.status.idle": "2025-09-14T22:24:02.980341Z",
     "shell.execute_reply": "2025-09-14T22:24:02.980001Z"
    }
   },
   "outputs": [
    {
     "name": "stdout",
     "output_type": "stream",
     "text": [
      "SWAP PV01: 2.538479623216061\n",
      "CPN TIME:  1.0 FLOW 0.0\n",
      "CPN TIME:  1.5013698630136987 FLOW 0.030246575342465755\n",
      "CPN TIME:  2.0027397260273974 FLOW 0.03008219178082192\n",
      "CPN TIME:  2.4986301369863013 FLOW 0.03008219178082192\n",
      "CPN TIME:  3.0027397260273974 FLOW 0.029753424657534246\n",
      "CPN TIME:  3.4986301369863013 FLOW 0.030246575342465755\n",
      "CPN TIME:  4.002739726027397 FLOW 0.029753424657534246\n",
      "CALL TIME:  1.0\n",
      "CALL TIME:  1.5013698630136987\n",
      "CALL TIME:  2.0027397260273974\n",
      "CALL TIME:  2.4986301369863013\n",
      "CALL TIME:  3.0027397260273974\n",
      "CALL TIME:  3.4986301369863013\n",
      "CALL TIME:  4.002739726027397\n"
     ]
    }
   ],
   "source": [
    "europeanBermSwaptionPay.print_swaption_value()"
   ]
  },
  {
   "cell_type": "markdown",
   "metadata": {},
   "source": [
    "### Black Derman Toy Model"
   ]
  },
  {
   "cell_type": "code",
   "execution_count": 38,
   "metadata": {
    "execution": {
     "iopub.execute_input": "2025-09-14T22:24:02.981423Z",
     "iopub.status.busy": "2025-09-14T22:24:02.981305Z",
     "iopub.status.idle": "2025-09-14T22:24:02.983778Z",
     "shell.execute_reply": "2025-09-14T22:24:02.983497Z"
    }
   },
   "outputs": [],
   "source": [
    "sigma = 0.0000001\n",
    "num_time_steps = 100\n",
    "model = BDTTree(sigma, num_time_steps)"
   ]
  },
  {
   "cell_type": "code",
   "execution_count": 39,
   "metadata": {
    "execution": {
     "iopub.execute_input": "2025-09-14T22:24:02.984758Z",
     "iopub.status.busy": "2025-09-14T22:24:02.984640Z",
     "iopub.status.idle": "2025-09-14T22:24:02.988319Z",
     "shell.execute_reply": "2025-09-14T22:24:02.988043Z"
    }
   },
   "outputs": [
    {
     "name": "stdout",
     "output_type": "stream",
     "text": [
      "PAY Value: 6311.83846\n",
      "REC Value:   0.00000\n",
      "PAY - REC: 6311.83846\n"
     ]
    }
   ],
   "source": [
    "value_pay = europeanBermSwaptionPay.value(value_dt, libor_curve, model)\n",
    "value_rec = europeanBermSwaptionRec.value(value_dt, libor_curve, model)\n",
    "valuePayRec = value_pay - value_rec\n",
    "print(\"PAY Value: %9.5f\"% value_pay)\n",
    "print(\"REC Value: %9.5f\"% value_rec)\n",
    "print(\"PAY - REC: %9.5f\"% valuePayRec)"
   ]
  },
  {
   "cell_type": "code",
   "execution_count": 40,
   "metadata": {
    "execution": {
     "iopub.execute_input": "2025-09-14T22:24:02.989242Z",
     "iopub.status.busy": "2025-09-14T22:24:02.989130Z",
     "iopub.status.idle": "2025-09-14T22:24:02.991303Z",
     "shell.execute_reply": "2025-09-14T22:24:02.991042Z"
    }
   },
   "outputs": [],
   "source": [
    "sigma = 0.20\n",
    "num_time_steps = 100\n",
    "model = BDTTree(sigma, num_time_steps)"
   ]
  },
  {
   "cell_type": "code",
   "execution_count": 41,
   "metadata": {
    "execution": {
     "iopub.execute_input": "2025-09-14T22:24:02.993041Z",
     "iopub.status.busy": "2025-09-14T22:24:02.992933Z",
     "iopub.status.idle": "2025-09-14T22:24:02.997288Z",
     "shell.execute_reply": "2025-09-14T22:24:02.996367Z"
    }
   },
   "outputs": [
    {
     "name": "stdout",
     "output_type": "stream",
     "text": [
      "PAY Value: 15937.51370\n",
      "REC Value: 9618.31192\n",
      "PAY - REC: 6319.20178\n"
     ]
    }
   ],
   "source": [
    "value_pay = europeanBermSwaptionPay.value(value_dt, libor_curve, model)\n",
    "value_rec = europeanBermSwaptionRec.value(value_dt, libor_curve, model)\n",
    "valuePayRec = value_pay - value_rec\n",
    "print(\"PAY Value: %9.5f\"% value_pay)\n",
    "print(\"REC Value: %9.5f\"% value_rec)\n",
    "print(\"PAY - REC: %9.5f\"% valuePayRec)"
   ]
  },
  {
   "cell_type": "markdown",
   "metadata": {},
   "source": [
    "### Hull White Model"
   ]
  },
  {
   "cell_type": "code",
   "execution_count": 42,
   "metadata": {
    "execution": {
     "iopub.execute_input": "2025-09-14T22:24:02.998300Z",
     "iopub.status.busy": "2025-09-14T22:24:02.998185Z",
     "iopub.status.idle": "2025-09-14T22:24:03.000155Z",
     "shell.execute_reply": "2025-09-14T22:24:02.999863Z"
    }
   },
   "outputs": [],
   "source": [
    "sigma = 0.0000001\n",
    "a = 0.01\n",
    "num_time_steps = 101\n",
    "model = HWTree(sigma, a, num_time_steps)"
   ]
  },
  {
   "cell_type": "code",
   "execution_count": 43,
   "metadata": {
    "execution": {
     "iopub.execute_input": "2025-09-14T22:24:03.001479Z",
     "iopub.status.busy": "2025-09-14T22:24:03.001336Z",
     "iopub.status.idle": "2025-09-14T22:24:03.037829Z",
     "shell.execute_reply": "2025-09-14T22:24:03.037268Z"
    }
   },
   "outputs": [
    {
     "name": "stdout",
     "output_type": "stream",
     "text": [
      "PAY Value: 6314.50332\n",
      "REC Value:   0.00000\n",
      "PAY - REC: 6314.50332\n"
     ]
    }
   ],
   "source": [
    "value_pay = europeanBermSwaptionPay.value(value_dt, libor_curve, model)\n",
    "value_rec = europeanBermSwaptionRec.value(value_dt, libor_curve, model)\n",
    "valuePayRec = value_pay - value_rec\n",
    "print(\"PAY Value: %9.5f\"% value_pay)\n",
    "print(\"REC Value: %9.5f\"% value_rec)\n",
    "print(\"PAY - REC: %9.5f\"% valuePayRec)"
   ]
  },
  {
   "cell_type": "code",
   "execution_count": 44,
   "metadata": {
    "execution": {
     "iopub.execute_input": "2025-09-14T22:24:03.039186Z",
     "iopub.status.busy": "2025-09-14T22:24:03.039066Z",
     "iopub.status.idle": "2025-09-14T22:24:03.041292Z",
     "shell.execute_reply": "2025-09-14T22:24:03.041047Z"
    }
   },
   "outputs": [],
   "source": [
    "sigma = 0.20 * rate\n",
    "a = 0.01\n",
    "num_time_steps = 101\n",
    "model = HWTree(sigma, a, num_time_steps)"
   ]
  },
  {
   "cell_type": "code",
   "execution_count": 45,
   "metadata": {
    "execution": {
     "iopub.execute_input": "2025-09-14T22:24:03.042273Z",
     "iopub.status.busy": "2025-09-14T22:24:03.042158Z",
     "iopub.status.idle": "2025-09-14T22:24:03.045870Z",
     "shell.execute_reply": "2025-09-14T22:24:03.045334Z"
    }
   },
   "outputs": [
    {
     "name": "stdout",
     "output_type": "stream",
     "text": [
      "PAY Value: 16237.06135\n",
      "REC Value: 9922.55803\n",
      "PAY - REC: 6314.50332\n"
     ]
    }
   ],
   "source": [
    "value_pay = europeanBermSwaptionPay.value(value_dt, libor_curve, model)\n",
    "value_rec = europeanBermSwaptionRec.value(value_dt, libor_curve, model)\n",
    "valuePayRec = value_pay - value_rec\n",
    "print(\"PAY Value: %9.5f\"% value_pay)\n",
    "print(\"REC Value: %9.5f\"% value_rec)\n",
    "print(\"PAY - REC: %9.5f\"% valuePayRec)"
   ]
  },
  {
   "cell_type": "markdown",
   "metadata": {},
   "source": [
    "# Now allow Multiple Exercise Dates - Bermudan"
   ]
  },
  {
   "cell_type": "markdown",
   "metadata": {},
   "source": [
    "Now allow exercise on ALL cpn dates PLUS expiry."
   ]
  },
  {
   "cell_type": "code",
   "execution_count": 46,
   "metadata": {
    "execution": {
     "iopub.execute_input": "2025-09-14T22:24:03.047865Z",
     "iopub.status.busy": "2025-09-14T22:24:03.047628Z",
     "iopub.status.idle": "2025-09-14T22:24:03.049937Z",
     "shell.execute_reply": "2025-09-14T22:24:03.049641Z"
    }
   },
   "outputs": [],
   "source": [
    "bermudan_swaption_pay = IborBermudanSwaption(settle_dt,\n",
    "                                               exercise_dt,\n",
    "                                               swap_maturity_dt,\n",
    "                                               SwapTypes.PAY,\n",
    "                                               FinExerciseTypes.BERMUDAN,\n",
    "                                               swap_fixed_cpn,\n",
    "                                               swap_fixed_freq_type,\n",
    "                                               swapFixedDayCountType)"
   ]
  },
  {
   "cell_type": "code",
   "execution_count": 47,
   "metadata": {
    "execution": {
     "iopub.execute_input": "2025-09-14T22:24:03.051356Z",
     "iopub.status.busy": "2025-09-14T22:24:03.051233Z",
     "iopub.status.idle": "2025-09-14T22:24:03.054034Z",
     "shell.execute_reply": "2025-09-14T22:24:03.053737Z"
    }
   },
   "outputs": [],
   "source": [
    "bermudan_swaption_rec = IborBermudanSwaption(settle_dt,\n",
    "                                               exercise_dt,\n",
    "                                               swap_maturity_dt,\n",
    "                                               SwapTypes.RECEIVE,\n",
    "                                               FinExerciseTypes.BERMUDAN,\n",
    "                                               swap_fixed_cpn,\n",
    "                                               swap_fixed_freq_type,\n",
    "                                               swapFixedDayCountType)"
   ]
  },
  {
   "cell_type": "markdown",
   "metadata": {},
   "source": [
    "### Black Karasinski Model"
   ]
  },
  {
   "cell_type": "code",
   "execution_count": 48,
   "metadata": {
    "execution": {
     "iopub.execute_input": "2025-09-14T22:24:03.055240Z",
     "iopub.status.busy": "2025-09-14T22:24:03.055132Z",
     "iopub.status.idle": "2025-09-14T22:24:03.057285Z",
     "shell.execute_reply": "2025-09-14T22:24:03.057036Z"
    }
   },
   "outputs": [],
   "source": [
    "sigma = 0.20\n",
    "a = 0.01\n",
    "num_time_steps = 100\n",
    "model = BKTree(sigma, a, num_time_steps)"
   ]
  },
  {
   "cell_type": "code",
   "execution_count": 49,
   "metadata": {
    "execution": {
     "iopub.execute_input": "2025-09-14T22:24:03.058308Z",
     "iopub.status.busy": "2025-09-14T22:24:03.058203Z",
     "iopub.status.idle": "2025-09-14T22:24:03.062342Z",
     "shell.execute_reply": "2025-09-14T22:24:03.062041Z"
    }
   },
   "outputs": [
    {
     "name": "stdout",
     "output_type": "stream",
     "text": [
      "PAY Value: 19235.85760\n",
      "REC Value: 13043.39490\n",
      "PAY - REC: 6192.46270\n"
     ]
    }
   ],
   "source": [
    "value_pay = bermudan_swaption_pay.value(value_dt, libor_curve, model)\n",
    "value_rec = bermudan_swaption_rec.value(value_dt, libor_curve, model)\n",
    "valuePayRec = value_pay - value_rec\n",
    "print(\"PAY Value: %9.5f\"% value_pay)\n",
    "print(\"REC Value: %9.5f\"% value_rec)\n",
    "print(\"PAY - REC: %9.5f\"% valuePayRec)"
   ]
  },
  {
   "cell_type": "markdown",
   "metadata": {},
   "source": [
    "### Black-Derman-Toy Model"
   ]
  },
  {
   "cell_type": "code",
   "execution_count": 50,
   "metadata": {
    "execution": {
     "iopub.execute_input": "2025-09-14T22:24:03.063702Z",
     "iopub.status.busy": "2025-09-14T22:24:03.063561Z",
     "iopub.status.idle": "2025-09-14T22:24:03.065618Z",
     "shell.execute_reply": "2025-09-14T22:24:03.065371Z"
    }
   },
   "outputs": [],
   "source": [
    "sigma = 0.20\n",
    "num_time_steps = 100\n",
    "model = BDTTree(sigma, num_time_steps)"
   ]
  },
  {
   "cell_type": "code",
   "execution_count": 51,
   "metadata": {
    "execution": {
     "iopub.execute_input": "2025-09-14T22:24:03.066665Z",
     "iopub.status.busy": "2025-09-14T22:24:03.066546Z",
     "iopub.status.idle": "2025-09-14T22:24:03.070530Z",
     "shell.execute_reply": "2025-09-14T22:24:03.069886Z"
    }
   },
   "outputs": [
    {
     "name": "stdout",
     "output_type": "stream",
     "text": [
      "PAY Value: 19500.06870\n",
      "REC Value: 13318.31315\n",
      "PAY - REC: 6181.75555\n"
     ]
    }
   ],
   "source": [
    "value_pay = bermudan_swaption_pay.value(settle_dt, libor_curve, model)\n",
    "value_rec = bermudan_swaption_rec.value(settle_dt, libor_curve, model)\n",
    "valuePayRec = value_pay - value_rec\n",
    "print(\"PAY Value: %9.5f\"% value_pay)\n",
    "print(\"REC Value: %9.5f\"% value_rec)\n",
    "print(\"PAY - REC: %9.5f\"% valuePayRec)"
   ]
  },
  {
   "cell_type": "markdown",
   "metadata": {},
   "source": [
    "### Hull-White Model"
   ]
  },
  {
   "cell_type": "code",
   "execution_count": 52,
   "metadata": {
    "execution": {
     "iopub.execute_input": "2025-09-14T22:24:03.072631Z",
     "iopub.status.busy": "2025-09-14T22:24:03.072267Z",
     "iopub.status.idle": "2025-09-14T22:24:03.074472Z",
     "shell.execute_reply": "2025-09-14T22:24:03.074163Z"
    }
   },
   "outputs": [],
   "source": [
    "sigma = 0.01\n",
    "a = 0.01\n",
    "num_time_steps = 100\n",
    "model = HWTree(sigma, a)"
   ]
  },
  {
   "cell_type": "code",
   "execution_count": 53,
   "metadata": {
    "execution": {
     "iopub.execute_input": "2025-09-14T22:24:03.076589Z",
     "iopub.status.busy": "2025-09-14T22:24:03.076477Z",
     "iopub.status.idle": "2025-09-14T22:24:03.080169Z",
     "shell.execute_reply": "2025-09-14T22:24:03.079473Z"
    }
   },
   "outputs": [
    {
     "name": "stdout",
     "output_type": "stream",
     "text": [
      "PAY Value: 16578.58987\n",
      "REC Value: 10406.29704\n",
      "PAY - REC: 6172.29283\n"
     ]
    }
   ],
   "source": [
    "value_pay = bermudan_swaption_pay.value(settle_dt, libor_curve, model)\n",
    "value_rec = bermudan_swaption_rec.value(settle_dt, libor_curve, model)\n",
    "valuePayRec = value_pay - value_rec\n",
    "print(\"PAY Value: %9.5f\"% value_pay)\n",
    "print(\"REC Value: %9.5f\"% value_rec)\n",
    "print(\"PAY - REC: %9.5f\"% valuePayRec)"
   ]
  },
  {
   "cell_type": "markdown",
   "metadata": {},
   "source": [
    "The swaption is Bermudan so it can only be exercised on cpn payment dates"
   ]
  },
  {
   "cell_type": "markdown",
   "metadata": {},
   "source": [
    "Copyright (c) 2020 Dominic O'Kane"
   ]
  }
 ],
 "metadata": {
  "kernelspec": {
   "display_name": "base",
   "language": "python",
   "name": "python3"
  },
  "language_info": {
   "codemirror_mode": {
    "name": "ipython",
    "version": 3
   },
   "file_extension": ".py",
   "mimetype": "text/x-python",
   "name": "python",
   "nbconvert_exporter": "python",
   "pygments_lexer": "ipython3",
   "version": "3.13.7"
  }
 },
 "nbformat": 4,
 "nbformat_minor": 2
}
