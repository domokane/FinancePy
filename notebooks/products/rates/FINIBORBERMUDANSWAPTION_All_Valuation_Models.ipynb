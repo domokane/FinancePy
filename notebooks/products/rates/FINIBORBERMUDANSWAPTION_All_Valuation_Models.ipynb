{
 "cells": [
  {
   "cell_type": "markdown",
   "metadata": {},
   "source": [
    "# Bermudan Swaption Pricing"
   ]
  },
  {
   "cell_type": "markdown",
   "metadata": {},
   "source": [
    "Value a European Swaption using the Hull-White, Black-Derman-Toy and Black-Karasinski models. I analyse relationships to test the model pricing."
   ]
  },
  {
   "cell_type": "markdown",
   "metadata": {},
   "source": [
    "NOTE SENSITIVE TO EVEN-ODD NUMBER OF TIME STEPS ON TREE - INVESTIGATE"
   ]
  },
  {
   "cell_type": "code",
   "execution_count": 1,
   "metadata": {
    "execution": {
     "iopub.execute_input": "2025-08-27T22:34:52.962616Z",
     "iopub.status.busy": "2025-08-27T22:34:52.962299Z",
     "iopub.status.idle": "2025-08-27T22:34:53.414590Z",
     "shell.execute_reply": "2025-08-27T22:34:53.414162Z"
    }
   },
   "outputs": [],
   "source": [
    "import numpy as np\n",
    "import matplotlib.pyplot as plt"
   ]
  },
  {
   "cell_type": "code",
   "execution_count": 2,
   "metadata": {
    "execution": {
     "iopub.execute_input": "2025-08-27T22:34:53.417541Z",
     "iopub.status.busy": "2025-08-27T22:34:53.417184Z",
     "iopub.status.idle": "2025-08-27T22:34:55.013714Z",
     "shell.execute_reply": "2025-08-27T22:34:55.013204Z"
    },
    "tags": []
   },
   "outputs": [],
   "source": [
    "from financepy.utils import *\n",
    "from financepy.products.rates import *\n",
    "from financepy.market.curves import *\n",
    "from financepy.models.hw_tree import HWTree\n",
    "from financepy.models.bk_tree import BKTree\n",
    "from financepy.models.bdt_tree import BDTTree"
   ]
  },
  {
   "cell_type": "markdown",
   "metadata": {},
   "source": [
    "## Discount Curve"
   ]
  },
  {
   "cell_type": "code",
   "execution_count": 3,
   "metadata": {
    "execution": {
     "iopub.execute_input": "2025-08-27T22:34:55.016651Z",
     "iopub.status.busy": "2025-08-27T22:34:55.016299Z",
     "iopub.status.idle": "2025-08-27T22:34:55.036413Z",
     "shell.execute_reply": "2025-08-27T22:34:55.035889Z"
    }
   },
   "outputs": [],
   "source": [
    "value_dt = Date(1, 1, 2011)\n",
    "settle_dt = value_dt"
   ]
  },
  {
   "cell_type": "markdown",
   "metadata": {},
   "source": [
    "Set up flat discount curve"
   ]
  },
  {
   "cell_type": "code",
   "execution_count": 4,
   "metadata": {
    "execution": {
     "iopub.execute_input": "2025-08-27T22:34:55.039179Z",
     "iopub.status.busy": "2025-08-27T22:34:55.038906Z",
     "iopub.status.idle": "2025-08-27T22:34:55.047797Z",
     "shell.execute_reply": "2025-08-27T22:34:55.047376Z"
    }
   },
   "outputs": [],
   "source": [
    "rate = 0.0625\n",
    "libor_curve = DiscountCurveFlat(value_dt,\n",
    "                                  rate,\n",
    "                                  FrequencyTypes.SEMI_ANNUAL,\n",
    "                                  DayCountTypes.ACT_365F)"
   ]
  },
  {
   "cell_type": "markdown",
   "metadata": {},
   "source": [
    "# The Underlying Swap"
   ]
  },
  {
   "cell_type": "markdown",
   "metadata": {},
   "source": [
    "We begin with the underlying swap."
   ]
  },
  {
   "cell_type": "code",
   "execution_count": 5,
   "metadata": {
    "execution": {
     "iopub.execute_input": "2025-08-27T22:34:55.050693Z",
     "iopub.status.busy": "2025-08-27T22:34:55.050403Z",
     "iopub.status.idle": "2025-08-27T22:34:55.053300Z",
     "shell.execute_reply": "2025-08-27T22:34:55.052919Z"
    }
   },
   "outputs": [],
   "source": [
    "exercise_dt = settle_dt.add_years(1)\n",
    "swap_maturity_dt = settle_dt.add_years(4)\n",
    "swap_fixed_cpn = 0.060\n",
    "swap_fixed_freq_type = FrequencyTypes.SEMI_ANNUAL\n",
    "swapFixedDayCountType = DayCountTypes.ACT_365F\n",
    "swap_type = SwapTypes.PAY"
   ]
  },
  {
   "cell_type": "markdown",
   "metadata": {},
   "source": [
    "We can value the forward starting swap."
   ]
  },
  {
   "cell_type": "code",
   "execution_count": 6,
   "metadata": {
    "execution": {
     "iopub.execute_input": "2025-08-27T22:34:55.055501Z",
     "iopub.status.busy": "2025-08-27T22:34:55.055272Z",
     "iopub.status.idle": "2025-08-27T22:34:55.058211Z",
     "shell.execute_reply": "2025-08-27T22:34:55.057693Z"
    }
   },
   "outputs": [],
   "source": [
    "swap = IborSwap(exercise_dt,\n",
    "                    swap_maturity_dt,\n",
    "                    swap_type,\n",
    "                    swap_fixed_cpn,\n",
    "                    swap_fixed_freq_type,\n",
    "                    swapFixedDayCountType)"
   ]
  },
  {
   "cell_type": "markdown",
   "metadata": {},
   "source": [
    "We can approximate the value using 2.5 as the approximate duration of a 3 year swap"
   ]
  },
  {
   "cell_type": "code",
   "execution_count": 7,
   "metadata": {
    "execution": {
     "iopub.execute_input": "2025-08-27T22:34:55.060373Z",
     "iopub.status.busy": "2025-08-27T22:34:55.060037Z",
     "iopub.status.idle": "2025-08-27T22:34:55.065030Z",
     "shell.execute_reply": "2025-08-27T22:34:55.064673Z"
    }
   },
   "outputs": [
    {
     "data": {
      "text/plain": [
       "6250.0000000000055"
      ]
     },
     "execution_count": 7,
     "metadata": {},
     "output_type": "execute_result"
    }
   ],
   "source": [
    "(rate - swap_fixed_cpn) * 2.5 * ONE_MILLION"
   ]
  },
  {
   "cell_type": "code",
   "execution_count": 8,
   "metadata": {
    "execution": {
     "iopub.execute_input": "2025-08-27T22:34:55.066678Z",
     "iopub.status.busy": "2025-08-27T22:34:55.066468Z",
     "iopub.status.idle": "2025-08-27T22:34:55.070922Z",
     "shell.execute_reply": "2025-08-27T22:34:55.070477Z"
    }
   },
   "outputs": [
    {
     "name": "stdout",
     "output_type": "stream",
     "text": [
      "Swap Value: 6214.67070\n"
     ]
    }
   ],
   "source": [
    "swapValue = swap.value(value_dt, libor_curve, libor_curve)\n",
    "print(\"Swap Value: %9.5f\"% swapValue)"
   ]
  },
  {
   "cell_type": "markdown",
   "metadata": {},
   "source": [
    "The estimate was not bad !"
   ]
  },
  {
   "cell_type": "code",
   "execution_count": 9,
   "metadata": {
    "execution": {
     "iopub.execute_input": "2025-08-27T22:34:55.073501Z",
     "iopub.status.busy": "2025-08-27T22:34:55.073196Z",
     "iopub.status.idle": "2025-08-27T22:34:55.076451Z",
     "shell.execute_reply": "2025-08-27T22:34:55.076129Z"
    }
   },
   "outputs": [
    {
     "name": "stdout",
     "output_type": "stream",
     "text": [
      "START DATE: 01-JAN-2012\n",
      "MATURITY DATE: 01-JAN-2015\n",
      "COUPON (%): 6.0\n",
      "FREQUENCY: FrequencyTypes.SEMI_ANNUAL\n",
      "DAY COUNT: DayCountTypes.ACT_365F\n",
      "\n",
      "PAYMENTS VALUATION:\n",
      "PAY_NUM | PAY_dt      | NOTIONAL | RATE | PMNT     | DF     | PV       | CUM_PV   \n",
      "--------+-------------+----------+------+----------+--------+----------+----------\n",
      "      1 | 02-JUL-2012 |  1000000 |  6.0 | 30082.19 | 0.9117 | 27427.17 |  27427.17\n",
      "      2 | 01-JAN-2013 |  1000000 |  6.0 | 30082.19 |  0.884 |  26593.8 |  54020.97\n",
      "      3 | 01-JUL-2013 |  1000000 |  6.0 | 29753.42 | 0.8575 | 25512.54 |  79533.51\n",
      "      4 | 01-JAN-2014 |  1000000 |  6.0 | 30246.58 | 0.8313 | 25143.12 | 104676.64\n",
      "      5 | 01-JUL-2014 |  1000000 |  6.0 | 29753.42 | 0.8063 | 23989.76 | 128666.39\n",
      "      6 | 01-JAN-2015 |  1000000 |  6.0 | 30246.58 | 0.7817 | 23642.39 | 152308.78\n"
     ]
    }
   ],
   "source": [
    "swap.print_fixed_leg_pv()"
   ]
  },
  {
   "cell_type": "code",
   "execution_count": 10,
   "metadata": {
    "execution": {
     "iopub.execute_input": "2025-08-27T22:34:55.078462Z",
     "iopub.status.busy": "2025-08-27T22:34:55.078266Z",
     "iopub.status.idle": "2025-08-27T22:34:55.081340Z",
     "shell.execute_reply": "2025-08-27T22:34:55.081002Z"
    }
   },
   "outputs": [
    {
     "name": "stdout",
     "output_type": "stream",
     "text": [
      "START DATE: 01-JAN-2012\n",
      "MATURITY DATE: 01-JAN-2015\n",
      "SPREAD (BPS): 0.0\n",
      "FREQUENCY: FrequencyTypes.QUARTERLY\n",
      "DAY COUNT: DayCountTypes.THIRTY_E_360\n",
      "\n",
      "PAYMENTS VALUATION:\n",
      "PAY_NUM | PAY_dt      | NOTIONAL | IBOR   | PMNT     | DF     | PV       | CUM_PV   \n",
      "--------+-------------+----------+--------+----------+--------+----------+----------\n",
      "      1 | 02-APR-2012 |  1000000 | 6.2023 | 15678.07 | 0.9258 | 14515.36 |  14515.36\n",
      "      2 | 02-JUL-2012 |  1000000 | 6.2018 | 15504.47 | 0.9117 | 14136.06 |  28651.42\n",
      "      3 | 01-OCT-2012 |  1000000 | 6.2018 |  15332.2 | 0.8979 | 13766.14 |  42417.57\n",
      "      4 | 01-JAN-2013 |  1000000 | 6.2023 | 15505.78 |  0.884 |  13707.7 |  56125.27\n",
      "      5 | 01-APR-2013 |  1000000 | 6.2013 | 15503.16 | 0.8707 | 13498.97 |  69624.24\n",
      "      6 | 01-JUL-2013 |  1000000 | 6.2018 | 15504.47 | 0.8575 | 13294.56 |   82918.8\n",
      "      7 | 01-OCT-2013 |  1000000 | 6.2023 | 15505.78 | 0.8443 | 13091.02 |  96009.82\n",
      "      8 | 01-JAN-2014 |  1000000 | 6.2023 | 15505.78 | 0.8313 | 12889.52 | 108899.34\n",
      "      9 | 01-APR-2014 |  1000000 | 6.2013 | 15503.16 | 0.8188 | 12693.25 | 121592.59\n",
      "     10 | 01-JUL-2014 |  1000000 | 6.2018 | 15504.47 | 0.8063 | 12501.03 | 134093.63\n",
      "     11 | 01-OCT-2014 |  1000000 | 6.2023 | 15505.78 | 0.7939 | 12309.65 | 146403.28\n",
      "     12 | 01-JAN-2015 |  1000000 | 6.2023 | 15505.78 | 0.7817 | 12120.17 | 158523.45\n"
     ]
    }
   ],
   "source": [
    "swap.print_float_leg_pv()"
   ]
  },
  {
   "cell_type": "markdown",
   "metadata": {},
   "source": [
    "# IborSwaption"
   ]
  },
  {
   "cell_type": "markdown",
   "metadata": {},
   "source": [
    "This is a class for European-style swaptions. It implements a number of model implementations."
   ]
  },
  {
   "cell_type": "code",
   "execution_count": 11,
   "metadata": {
    "execution": {
     "iopub.execute_input": "2025-08-27T22:34:55.083713Z",
     "iopub.status.busy": "2025-08-27T22:34:55.083427Z",
     "iopub.status.idle": "2025-08-27T22:34:55.086549Z",
     "shell.execute_reply": "2025-08-27T22:34:55.086095Z"
    }
   },
   "outputs": [],
   "source": [
    "european_swaption_pay = IborSwaption(settle_dt,\n",
    "                                      exercise_dt,\n",
    "                                      swap_maturity_dt,\n",
    "                                      SwapTypes.PAY,\n",
    "                                      swap_fixed_cpn,\n",
    "                                      swap_fixed_freq_type,\n",
    "                                      swapFixedDayCountType)"
   ]
  },
  {
   "cell_type": "code",
   "execution_count": 12,
   "metadata": {
    "execution": {
     "iopub.execute_input": "2025-08-27T22:34:55.089018Z",
     "iopub.status.busy": "2025-08-27T22:34:55.088689Z",
     "iopub.status.idle": "2025-08-27T22:34:55.091387Z",
     "shell.execute_reply": "2025-08-27T22:34:55.091024Z"
    }
   },
   "outputs": [],
   "source": [
    "european_swaption_rec = IborSwaption(settle_dt,\n",
    "                                      exercise_dt,\n",
    "                                      swap_maturity_dt,\n",
    "                                      SwapTypes.RECEIVE,\n",
    "                                      swap_fixed_cpn,\n",
    "                                      swap_fixed_freq_type,\n",
    "                                      swapFixedDayCountType)"
   ]
  },
  {
   "cell_type": "code",
   "execution_count": 13,
   "metadata": {
    "execution": {
     "iopub.execute_input": "2025-08-27T22:34:55.093896Z",
     "iopub.status.busy": "2025-08-27T22:34:55.093623Z",
     "iopub.status.idle": "2025-08-27T22:34:55.096933Z",
     "shell.execute_reply": "2025-08-27T22:34:55.096576Z"
    }
   },
   "outputs": [
    {
     "data": {
      "text/plain": [
       "OBJECT TYPE: IborSwaption\n",
       "SETTLEMENT DATE: 01-JAN-2011\n",
       "EXERCISE DATE: 01-JAN-2012\n",
       "SWAP FIXED LEG TYPE: SwapTypes.PAY\n",
       "SWAP MATURITY DATE: 01-JAN-2015\n",
       "SWAP NOTIONAL: 1000000\n",
       "FIXED cpn: 6.0\n",
       "FIXED FREQUENCY: FrequencyTypes.SEMI_ANNUAL\n",
       "FIXED DAY COUNT: DayCountTypes.ACT_365F\n",
       "FLOAT FREQUENCY: FrequencyTypes.QUARTERLY\n",
       "FLOAT DAY COUNT: DayCountTypes.THIRTY_E_360"
      ]
     },
     "execution_count": 13,
     "metadata": {},
     "output_type": "execute_result"
    }
   ],
   "source": [
    "european_swaption_pay"
   ]
  },
  {
   "cell_type": "markdown",
   "metadata": {},
   "source": [
    "Set the volatility to zero so that payer is pure intrinsic"
   ]
  },
  {
   "cell_type": "markdown",
   "metadata": {},
   "source": [
    "### Black's Model"
   ]
  },
  {
   "cell_type": "code",
   "execution_count": 14,
   "metadata": {
    "execution": {
     "iopub.execute_input": "2025-08-27T22:34:55.099074Z",
     "iopub.status.busy": "2025-08-27T22:34:55.098880Z",
     "iopub.status.idle": "2025-08-27T22:34:55.101235Z",
     "shell.execute_reply": "2025-08-27T22:34:55.100922Z"
    }
   },
   "outputs": [],
   "source": [
    "sigma = 0.00001"
   ]
  },
  {
   "cell_type": "code",
   "execution_count": 15,
   "metadata": {
    "execution": {
     "iopub.execute_input": "2025-08-27T22:34:55.102942Z",
     "iopub.status.busy": "2025-08-27T22:34:55.102670Z",
     "iopub.status.idle": "2025-08-27T22:34:55.105072Z",
     "shell.execute_reply": "2025-08-27T22:34:55.104713Z"
    }
   },
   "outputs": [],
   "source": [
    "model = Black(sigma)"
   ]
  },
  {
   "cell_type": "code",
   "execution_count": 16,
   "metadata": {
    "execution": {
     "iopub.execute_input": "2025-08-27T22:34:55.106585Z",
     "iopub.status.busy": "2025-08-27T22:34:55.106407Z",
     "iopub.status.idle": "2025-08-27T22:34:55.110240Z",
     "shell.execute_reply": "2025-08-27T22:34:55.109859Z"
    }
   },
   "outputs": [
    {
     "data": {
      "text/plain": [
       "np.float64(6214.670696710779)"
      ]
     },
     "execution_count": 16,
     "metadata": {},
     "output_type": "execute_result"
    }
   ],
   "source": [
    "european_swaption_pay.value(value_dt, libor_curve, model)"
   ]
  },
  {
   "cell_type": "markdown",
   "metadata": {},
   "source": [
    "Let's check for put-call parity"
   ]
  },
  {
   "cell_type": "code",
   "execution_count": 17,
   "metadata": {
    "execution": {
     "iopub.execute_input": "2025-08-27T22:34:55.112369Z",
     "iopub.status.busy": "2025-08-27T22:34:55.112111Z",
     "iopub.status.idle": "2025-08-27T22:34:55.114625Z",
     "shell.execute_reply": "2025-08-27T22:34:55.114238Z"
    }
   },
   "outputs": [],
   "source": [
    "sigma = 0.20"
   ]
  },
  {
   "cell_type": "code",
   "execution_count": 18,
   "metadata": {
    "execution": {
     "iopub.execute_input": "2025-08-27T22:34:55.116418Z",
     "iopub.status.busy": "2025-08-27T22:34:55.116221Z",
     "iopub.status.idle": "2025-08-27T22:34:55.118444Z",
     "shell.execute_reply": "2025-08-27T22:34:55.118127Z"
    }
   },
   "outputs": [],
   "source": [
    "model = Black(sigma)"
   ]
  },
  {
   "cell_type": "code",
   "execution_count": 19,
   "metadata": {
    "execution": {
     "iopub.execute_input": "2025-08-27T22:34:55.120416Z",
     "iopub.status.busy": "2025-08-27T22:34:55.120213Z",
     "iopub.status.idle": "2025-08-27T22:34:55.124616Z",
     "shell.execute_reply": "2025-08-27T22:34:55.124285Z"
    }
   },
   "outputs": [
    {
     "name": "stdout",
     "output_type": "stream",
     "text": [
      "PAY Value: 15732.91222\n",
      "REC Value: 9518.24152\n",
      "PAY - REC: 6214.67070\n"
     ]
    }
   ],
   "source": [
    "value_pay = european_swaption_pay.value(value_dt, libor_curve, model)\n",
    "value_rec = european_swaption_rec.value(value_dt, libor_curve, model)\n",
    "valuePayRec = value_pay - value_rec\n",
    "print(\"PAY Value: %9.5f\"% value_pay)\n",
    "print(\"REC Value: %9.5f\"% value_rec)\n",
    "print(\"PAY - REC: %9.5f\"% valuePayRec)"
   ]
  },
  {
   "cell_type": "markdown",
   "metadata": {},
   "source": [
    "Yes put-call parity is respected."
   ]
  },
  {
   "cell_type": "markdown",
   "metadata": {},
   "source": [
    "### BK Model"
   ]
  },
  {
   "cell_type": "code",
   "execution_count": 20,
   "metadata": {
    "execution": {
     "iopub.execute_input": "2025-08-27T22:34:55.126679Z",
     "iopub.status.busy": "2025-08-27T22:34:55.126328Z",
     "iopub.status.idle": "2025-08-27T22:34:55.129074Z",
     "shell.execute_reply": "2025-08-27T22:34:55.128742Z"
    }
   },
   "outputs": [],
   "source": [
    "a = 0.01\n",
    "sigma = 0.0000001\n",
    "num_time_steps = 100\n",
    "model = BKTree(sigma, a, num_time_steps)"
   ]
  },
  {
   "cell_type": "code",
   "execution_count": 21,
   "metadata": {
    "execution": {
     "iopub.execute_input": "2025-08-27T22:34:55.131204Z",
     "iopub.status.busy": "2025-08-27T22:34:55.131013Z",
     "iopub.status.idle": "2025-08-27T22:34:57.335317Z",
     "shell.execute_reply": "2025-08-27T22:34:57.334922Z"
    }
   },
   "outputs": [
    {
     "name": "stdout",
     "output_type": "stream",
     "text": [
      "PAY Value: 6346.08093\n",
      "REC Value:   0.00000\n",
      "PAY - REC: 6346.08093\n"
     ]
    }
   ],
   "source": [
    "value_pay = european_swaption_pay.value(value_dt, libor_curve, model)\n",
    "value_rec = european_swaption_rec.value(value_dt, libor_curve, model)\n",
    "valuePayRec = value_pay - value_rec\n",
    "print(\"PAY Value: %9.5f\"% value_pay)\n",
    "print(\"REC Value: %9.5f\"% value_rec)\n",
    "print(\"PAY - REC: %9.5f\"% valuePayRec)"
   ]
  },
  {
   "cell_type": "code",
   "execution_count": 22,
   "metadata": {
    "execution": {
     "iopub.execute_input": "2025-08-27T22:34:57.338121Z",
     "iopub.status.busy": "2025-08-27T22:34:57.337788Z",
     "iopub.status.idle": "2025-08-27T22:34:57.340788Z",
     "shell.execute_reply": "2025-08-27T22:34:57.340444Z"
    }
   },
   "outputs": [],
   "source": [
    "a = 0.01\n",
    "sigma = 0.20\n",
    "num_time_steps = 100\n",
    "model = BKTree(sigma, a, num_time_steps)"
   ]
  },
  {
   "cell_type": "code",
   "execution_count": 23,
   "metadata": {
    "execution": {
     "iopub.execute_input": "2025-08-27T22:34:57.342332Z",
     "iopub.status.busy": "2025-08-27T22:34:57.342147Z",
     "iopub.status.idle": "2025-08-27T22:34:57.348925Z",
     "shell.execute_reply": "2025-08-27T22:34:57.348511Z"
    }
   },
   "outputs": [
    {
     "name": "stdout",
     "output_type": "stream",
     "text": [
      "PAY Value: 15746.57475\n",
      "REC Value: 9400.49421\n",
      "PAY - REC: 6346.08054\n"
     ]
    }
   ],
   "source": [
    "value_pay = european_swaption_pay.value(value_dt, libor_curve, model)\n",
    "value_rec = european_swaption_rec.value(value_dt, libor_curve, model)\n",
    "valuePayRec = value_pay - value_rec\n",
    "print(\"PAY Value: %9.5f\"% value_pay)\n",
    "print(\"REC Value: %9.5f\"% value_rec)\n",
    "print(\"PAY - REC: %9.5f\"% valuePayRec)"
   ]
  },
  {
   "cell_type": "markdown",
   "metadata": {},
   "source": [
    "### BDT Model"
   ]
  },
  {
   "cell_type": "code",
   "execution_count": 24,
   "metadata": {
    "execution": {
     "iopub.execute_input": "2025-08-27T22:34:57.350930Z",
     "iopub.status.busy": "2025-08-27T22:34:57.350686Z",
     "iopub.status.idle": "2025-08-27T22:34:57.353570Z",
     "shell.execute_reply": "2025-08-27T22:34:57.353033Z"
    }
   },
   "outputs": [],
   "source": [
    "sigma = 0.0000001\n",
    "num_time_steps = 200\n",
    "model = BDTTree(sigma, num_time_steps)"
   ]
  },
  {
   "cell_type": "code",
   "execution_count": 25,
   "metadata": {
    "execution": {
     "iopub.execute_input": "2025-08-27T22:34:57.355852Z",
     "iopub.status.busy": "2025-08-27T22:34:57.355609Z",
     "iopub.status.idle": "2025-08-27T22:34:58.277771Z",
     "shell.execute_reply": "2025-08-27T22:34:58.277171Z"
    }
   },
   "outputs": [
    {
     "name": "stdout",
     "output_type": "stream",
     "text": [
      "PAY Value: 6347.28920\n",
      "REC Value:   0.00000\n",
      "PAY - REC: 6347.28920\n"
     ]
    }
   ],
   "source": [
    "value_pay = european_swaption_pay.value(value_dt, libor_curve, model)\n",
    "value_rec = european_swaption_rec.value(value_dt, libor_curve, model)\n",
    "valuePayRec = value_pay - value_rec\n",
    "print(\"PAY Value: %9.5f\"% value_pay)\n",
    "print(\"REC Value: %9.5f\"% value_rec)\n",
    "print(\"PAY - REC: %9.5f\"% valuePayRec)"
   ]
  },
  {
   "cell_type": "code",
   "execution_count": 26,
   "metadata": {
    "execution": {
     "iopub.execute_input": "2025-08-27T22:34:58.279925Z",
     "iopub.status.busy": "2025-08-27T22:34:58.279687Z",
     "iopub.status.idle": "2025-08-27T22:34:58.282420Z",
     "shell.execute_reply": "2025-08-27T22:34:58.282010Z"
    }
   },
   "outputs": [],
   "source": [
    "sigma = 0.20\n",
    "model = BDTTree(sigma, num_time_steps)"
   ]
  },
  {
   "cell_type": "code",
   "execution_count": 27,
   "metadata": {
    "execution": {
     "iopub.execute_input": "2025-08-27T22:34:58.284427Z",
     "iopub.status.busy": "2025-08-27T22:34:58.284117Z",
     "iopub.status.idle": "2025-08-27T22:34:58.294178Z",
     "shell.execute_reply": "2025-08-27T22:34:58.293550Z"
    }
   },
   "outputs": [
    {
     "name": "stdout",
     "output_type": "stream",
     "text": [
      "PAY Value: 15990.91739\n",
      "REC Value: 9639.93743\n",
      "PAY - REC: 6350.97996\n"
     ]
    }
   ],
   "source": [
    "value_pay = european_swaption_pay.value(value_dt, libor_curve, model)\n",
    "value_rec = european_swaption_rec.value(value_dt, libor_curve, model)\n",
    "valuePayRec = value_pay - value_rec\n",
    "print(\"PAY Value: %9.5f\"% value_pay)\n",
    "print(\"REC Value: %9.5f\"% value_rec)\n",
    "print(\"PAY - REC: %9.5f\"% valuePayRec)"
   ]
  },
  {
   "cell_type": "markdown",
   "metadata": {},
   "source": [
    "### HW Model"
   ]
  },
  {
   "cell_type": "code",
   "execution_count": 28,
   "metadata": {
    "execution": {
     "iopub.execute_input": "2025-08-27T22:34:58.296476Z",
     "iopub.status.busy": "2025-08-27T22:34:58.296194Z",
     "iopub.status.idle": "2025-08-27T22:34:58.299371Z",
     "shell.execute_reply": "2025-08-27T22:34:58.298859Z"
    }
   },
   "outputs": [],
   "source": [
    "sigma = 0.0000001\n",
    "num_time_steps = 200\n",
    "a = 0.01\n",
    "model = HWTree(sigma, a, num_time_steps)"
   ]
  },
  {
   "cell_type": "code",
   "execution_count": 29,
   "metadata": {
    "execution": {
     "iopub.execute_input": "2025-08-27T22:34:58.301483Z",
     "iopub.status.busy": "2025-08-27T22:34:58.301197Z",
     "iopub.status.idle": "2025-08-27T22:34:58.314123Z",
     "shell.execute_reply": "2025-08-27T22:34:58.313512Z"
    }
   },
   "outputs": [
    {
     "name": "stdout",
     "output_type": "stream",
     "text": [
      "PAY Value: 6348.45763\n",
      "REC Value:   0.00000\n",
      "PAY - REC: 6348.45763\n"
     ]
    }
   ],
   "source": [
    "value_pay = european_swaption_pay.value(value_dt, libor_curve, model)\n",
    "value_rec = european_swaption_rec.value(value_dt, libor_curve, model)\n",
    "valuePayRec = value_pay - value_rec\n",
    "print(\"PAY Value: %9.5f\"% value_pay)\n",
    "print(\"REC Value: %9.5f\"% value_rec)\n",
    "print(\"PAY - REC: %9.5f\"% valuePayRec)"
   ]
  },
  {
   "cell_type": "code",
   "execution_count": 30,
   "metadata": {
    "execution": {
     "iopub.execute_input": "2025-08-27T22:34:58.316081Z",
     "iopub.status.busy": "2025-08-27T22:34:58.315861Z",
     "iopub.status.idle": "2025-08-27T22:34:58.318659Z",
     "shell.execute_reply": "2025-08-27T22:34:58.318170Z"
    }
   },
   "outputs": [],
   "source": [
    "sigma = 0.20 * rate\n",
    "num_time_steps = 200\n",
    "a = 0.01\n",
    "model = HWTree(sigma, a, num_time_steps)"
   ]
  },
  {
   "cell_type": "code",
   "execution_count": 31,
   "metadata": {
    "execution": {
     "iopub.execute_input": "2025-08-27T22:34:58.320706Z",
     "iopub.status.busy": "2025-08-27T22:34:58.320429Z",
     "iopub.status.idle": "2025-08-27T22:34:58.326667Z",
     "shell.execute_reply": "2025-08-27T22:34:58.325974Z"
    }
   },
   "outputs": [
    {
     "name": "stdout",
     "output_type": "stream",
     "text": [
      "PAY Value: 16217.69298\n",
      "REC Value: 9869.43817\n",
      "PAY - REC: 6348.25481\n"
     ]
    }
   ],
   "source": [
    "value_pay = european_swaption_pay.value(value_dt, libor_curve, model)\n",
    "value_rec = european_swaption_rec.value(value_dt, libor_curve, model)\n",
    "valuePayRec = value_pay - value_rec\n",
    "print(\"PAY Value: %9.5f\"% value_pay)\n",
    "print(\"REC Value: %9.5f\"% value_rec)\n",
    "print(\"PAY - REC: %9.5f\"% valuePayRec)"
   ]
  },
  {
   "cell_type": "markdown",
   "metadata": {},
   "source": [
    "# IborBermudanSwaption"
   ]
  },
  {
   "cell_type": "markdown",
   "metadata": {},
   "source": [
    "I now examine FinBermudanSwaption and use the tree models to value it. But first let me price it on the tree models as a European option."
   ]
  },
  {
   "cell_type": "markdown",
   "metadata": {},
   "source": [
    "## Start By Only Allowing European Exercise"
   ]
  },
  {
   "cell_type": "code",
   "execution_count": 32,
   "metadata": {
    "execution": {
     "iopub.execute_input": "2025-08-27T22:34:58.329222Z",
     "iopub.status.busy": "2025-08-27T22:34:58.328934Z",
     "iopub.status.idle": "2025-08-27T22:34:58.332119Z",
     "shell.execute_reply": "2025-08-27T22:34:58.331530Z"
    }
   },
   "outputs": [],
   "source": [
    "europeanBermSwaptionPay = IborBermudanSwaption(settle_dt,\n",
    "                                                  exercise_dt,\n",
    "                                                  swap_maturity_dt,\n",
    "                                                  SwapTypes.PAY,\n",
    "                                                  FinExerciseTypes.EUROPEAN,\n",
    "                                                  swap_fixed_cpn,\n",
    "                                                  swap_fixed_freq_type,\n",
    "                                                  swapFixedDayCountType)"
   ]
  },
  {
   "cell_type": "code",
   "execution_count": 33,
   "metadata": {
    "execution": {
     "iopub.execute_input": "2025-08-27T22:34:58.334237Z",
     "iopub.status.busy": "2025-08-27T22:34:58.334039Z",
     "iopub.status.idle": "2025-08-27T22:34:58.337085Z",
     "shell.execute_reply": "2025-08-27T22:34:58.336423Z"
    }
   },
   "outputs": [],
   "source": [
    "europeanBermSwaptionRec = IborBermudanSwaption(settle_dt,\n",
    "                                                  exercise_dt,\n",
    "                                                  swap_maturity_dt,\n",
    "                                                  SwapTypes.RECEIVE,\n",
    "                                                  FinExerciseTypes.EUROPEAN,\n",
    "                                                  swap_fixed_cpn,\n",
    "                                                  swap_fixed_freq_type,\n",
    "                                                  swapFixedDayCountType)"
   ]
  },
  {
   "cell_type": "markdown",
   "metadata": {},
   "source": [
    "### Black Karasinski Model"
   ]
  },
  {
   "cell_type": "markdown",
   "metadata": {},
   "source": [
    "Setting the volatility close to zero so we only have intrinsic value."
   ]
  },
  {
   "cell_type": "code",
   "execution_count": 34,
   "metadata": {
    "execution": {
     "iopub.execute_input": "2025-08-27T22:34:58.339335Z",
     "iopub.status.busy": "2025-08-27T22:34:58.339057Z",
     "iopub.status.idle": "2025-08-27T22:34:58.342038Z",
     "shell.execute_reply": "2025-08-27T22:34:58.341500Z"
    }
   },
   "outputs": [],
   "source": [
    "black_vol = 0.0000001"
   ]
  },
  {
   "cell_type": "code",
   "execution_count": 35,
   "metadata": {
    "execution": {
     "iopub.execute_input": "2025-08-27T22:34:58.343892Z",
     "iopub.status.busy": "2025-08-27T22:34:58.343603Z",
     "iopub.status.idle": "2025-08-27T22:34:58.346747Z",
     "shell.execute_reply": "2025-08-27T22:34:58.346002Z"
    }
   },
   "outputs": [],
   "source": [
    "sigma = black_vol\n",
    "a = 0.01\n",
    "num_time_steps = 200\n",
    "model = BKTree(sigma, a, num_time_steps)"
   ]
  },
  {
   "cell_type": "code",
   "execution_count": 36,
   "metadata": {
    "execution": {
     "iopub.execute_input": "2025-08-27T22:34:58.349030Z",
     "iopub.status.busy": "2025-08-27T22:34:58.348840Z",
     "iopub.status.idle": "2025-08-27T22:34:58.362748Z",
     "shell.execute_reply": "2025-08-27T22:34:58.362191Z"
    }
   },
   "outputs": [
    {
     "name": "stdout",
     "output_type": "stream",
     "text": [
      "PAY Value: 6313.74545\n",
      "REC Value:   0.00000\n",
      "PAY - REC: 6313.74545\n"
     ]
    }
   ],
   "source": [
    "value_pay = europeanBermSwaptionPay.value(value_dt, libor_curve, model)\n",
    "value_rec = europeanBermSwaptionRec.value(value_dt, libor_curve, model)\n",
    "valuePayRec = value_pay - value_rec\n",
    "print(\"PAY Value: %9.5f\"% value_pay)\n",
    "print(\"REC Value: %9.5f\"% value_rec)\n",
    "print(\"PAY - REC: %9.5f\"% valuePayRec)"
   ]
  },
  {
   "cell_type": "code",
   "execution_count": 37,
   "metadata": {
    "execution": {
     "iopub.execute_input": "2025-08-27T22:34:58.365032Z",
     "iopub.status.busy": "2025-08-27T22:34:58.364728Z",
     "iopub.status.idle": "2025-08-27T22:34:58.368215Z",
     "shell.execute_reply": "2025-08-27T22:34:58.367692Z"
    }
   },
   "outputs": [
    {
     "name": "stdout",
     "output_type": "stream",
     "text": [
      "SWAP PV01: 2.538479623216061\n",
      "CPN TIME:  1.0 FLOW 0.0\n",
      "CPN TIME:  1.5013698630136987 FLOW 0.030246575342465755\n",
      "CPN TIME:  2.0027397260273974 FLOW 0.03008219178082192\n",
      "CPN TIME:  2.4986301369863013 FLOW 0.03008219178082192\n",
      "CPN TIME:  3.0027397260273974 FLOW 0.029753424657534246\n",
      "CPN TIME:  3.4986301369863013 FLOW 0.030246575342465755\n",
      "CPN TIME:  4.002739726027397 FLOW 0.029753424657534246\n",
      "CALL TIME:  1.0\n",
      "CALL TIME:  1.5013698630136987\n",
      "CALL TIME:  2.0027397260273974\n",
      "CALL TIME:  2.4986301369863013\n",
      "CALL TIME:  3.0027397260273974\n",
      "CALL TIME:  3.4986301369863013\n",
      "CALL TIME:  4.002739726027397\n"
     ]
    }
   ],
   "source": [
    "europeanBermSwaptionPay.print_swaption_value()"
   ]
  },
  {
   "cell_type": "markdown",
   "metadata": {},
   "source": [
    "### Black Derman Toy Model"
   ]
  },
  {
   "cell_type": "code",
   "execution_count": 38,
   "metadata": {
    "execution": {
     "iopub.execute_input": "2025-08-27T22:34:58.370125Z",
     "iopub.status.busy": "2025-08-27T22:34:58.369868Z",
     "iopub.status.idle": "2025-08-27T22:34:58.372951Z",
     "shell.execute_reply": "2025-08-27T22:34:58.372360Z"
    }
   },
   "outputs": [],
   "source": [
    "sigma = 0.0000001\n",
    "num_time_steps = 100\n",
    "model = BDTTree(sigma, num_time_steps)"
   ]
  },
  {
   "cell_type": "code",
   "execution_count": 39,
   "metadata": {
    "execution": {
     "iopub.execute_input": "2025-08-27T22:34:58.374853Z",
     "iopub.status.busy": "2025-08-27T22:34:58.374557Z",
     "iopub.status.idle": "2025-08-27T22:34:58.381194Z",
     "shell.execute_reply": "2025-08-27T22:34:58.380421Z"
    }
   },
   "outputs": [
    {
     "name": "stdout",
     "output_type": "stream",
     "text": [
      "PAY Value: 6311.83846\n",
      "REC Value:   0.00000\n",
      "PAY - REC: 6311.83846\n"
     ]
    }
   ],
   "source": [
    "value_pay = europeanBermSwaptionPay.value(value_dt, libor_curve, model)\n",
    "value_rec = europeanBermSwaptionRec.value(value_dt, libor_curve, model)\n",
    "valuePayRec = value_pay - value_rec\n",
    "print(\"PAY Value: %9.5f\"% value_pay)\n",
    "print(\"REC Value: %9.5f\"% value_rec)\n",
    "print(\"PAY - REC: %9.5f\"% valuePayRec)"
   ]
  },
  {
   "cell_type": "code",
   "execution_count": 40,
   "metadata": {
    "execution": {
     "iopub.execute_input": "2025-08-27T22:34:58.383309Z",
     "iopub.status.busy": "2025-08-27T22:34:58.383107Z",
     "iopub.status.idle": "2025-08-27T22:34:58.386058Z",
     "shell.execute_reply": "2025-08-27T22:34:58.385364Z"
    }
   },
   "outputs": [],
   "source": [
    "sigma = 0.20\n",
    "num_time_steps = 100\n",
    "model = BDTTree(sigma, num_time_steps)"
   ]
  },
  {
   "cell_type": "code",
   "execution_count": 41,
   "metadata": {
    "execution": {
     "iopub.execute_input": "2025-08-27T22:34:58.387906Z",
     "iopub.status.busy": "2025-08-27T22:34:58.387672Z",
     "iopub.status.idle": "2025-08-27T22:34:58.393706Z",
     "shell.execute_reply": "2025-08-27T22:34:58.392982Z"
    }
   },
   "outputs": [
    {
     "name": "stdout",
     "output_type": "stream",
     "text": [
      "PAY Value: 15937.51370\n",
      "REC Value: 9618.31192\n",
      "PAY - REC: 6319.20178\n"
     ]
    }
   ],
   "source": [
    "value_pay = europeanBermSwaptionPay.value(value_dt, libor_curve, model)\n",
    "value_rec = europeanBermSwaptionRec.value(value_dt, libor_curve, model)\n",
    "valuePayRec = value_pay - value_rec\n",
    "print(\"PAY Value: %9.5f\"% value_pay)\n",
    "print(\"REC Value: %9.5f\"% value_rec)\n",
    "print(\"PAY - REC: %9.5f\"% valuePayRec)"
   ]
  },
  {
   "cell_type": "markdown",
   "metadata": {},
   "source": [
    "### Hull White Model"
   ]
  },
  {
   "cell_type": "code",
   "execution_count": 42,
   "metadata": {
    "execution": {
     "iopub.execute_input": "2025-08-27T22:34:58.395960Z",
     "iopub.status.busy": "2025-08-27T22:34:58.395685Z",
     "iopub.status.idle": "2025-08-27T22:34:58.398841Z",
     "shell.execute_reply": "2025-08-27T22:34:58.398171Z"
    }
   },
   "outputs": [],
   "source": [
    "sigma = 0.0000001\n",
    "a = 0.01\n",
    "num_time_steps = 101\n",
    "model = HWTree(sigma, a, num_time_steps)"
   ]
  },
  {
   "cell_type": "code",
   "execution_count": 43,
   "metadata": {
    "execution": {
     "iopub.execute_input": "2025-08-27T22:34:58.401281Z",
     "iopub.status.busy": "2025-08-27T22:34:58.400985Z",
     "iopub.status.idle": "2025-08-27T22:35:00.002085Z",
     "shell.execute_reply": "2025-08-27T22:35:00.001346Z"
    }
   },
   "outputs": [
    {
     "name": "stdout",
     "output_type": "stream",
     "text": [
      "PAY Value: 6314.50332\n",
      "REC Value:   0.00000\n",
      "PAY - REC: 6314.50332\n"
     ]
    }
   ],
   "source": [
    "value_pay = europeanBermSwaptionPay.value(value_dt, libor_curve, model)\n",
    "value_rec = europeanBermSwaptionRec.value(value_dt, libor_curve, model)\n",
    "valuePayRec = value_pay - value_rec\n",
    "print(\"PAY Value: %9.5f\"% value_pay)\n",
    "print(\"REC Value: %9.5f\"% value_rec)\n",
    "print(\"PAY - REC: %9.5f\"% valuePayRec)"
   ]
  },
  {
   "cell_type": "code",
   "execution_count": 44,
   "metadata": {
    "execution": {
     "iopub.execute_input": "2025-08-27T22:35:00.004362Z",
     "iopub.status.busy": "2025-08-27T22:35:00.004134Z",
     "iopub.status.idle": "2025-08-27T22:35:00.007836Z",
     "shell.execute_reply": "2025-08-27T22:35:00.007182Z"
    }
   },
   "outputs": [],
   "source": [
    "sigma = 0.20 * rate\n",
    "a = 0.01\n",
    "num_time_steps = 101\n",
    "model = HWTree(sigma, a, num_time_steps)"
   ]
  },
  {
   "cell_type": "code",
   "execution_count": 45,
   "metadata": {
    "execution": {
     "iopub.execute_input": "2025-08-27T22:35:00.010585Z",
     "iopub.status.busy": "2025-08-27T22:35:00.010184Z",
     "iopub.status.idle": "2025-08-27T22:35:00.018400Z",
     "shell.execute_reply": "2025-08-27T22:35:00.017759Z"
    }
   },
   "outputs": [
    {
     "name": "stdout",
     "output_type": "stream",
     "text": [
      "PAY Value: 16237.06135\n",
      "REC Value: 9922.55803\n",
      "PAY - REC: 6314.50332\n"
     ]
    }
   ],
   "source": [
    "value_pay = europeanBermSwaptionPay.value(value_dt, libor_curve, model)\n",
    "value_rec = europeanBermSwaptionRec.value(value_dt, libor_curve, model)\n",
    "valuePayRec = value_pay - value_rec\n",
    "print(\"PAY Value: %9.5f\"% value_pay)\n",
    "print(\"REC Value: %9.5f\"% value_rec)\n",
    "print(\"PAY - REC: %9.5f\"% valuePayRec)"
   ]
  },
  {
   "cell_type": "markdown",
   "metadata": {},
   "source": [
    "# Now allow Multiple Exercise Dates - Bermudan"
   ]
  },
  {
   "cell_type": "markdown",
   "metadata": {},
   "source": [
    "Now allow exercise on ALL cpn dates PLUS expiry."
   ]
  },
  {
   "cell_type": "code",
   "execution_count": 46,
   "metadata": {
    "execution": {
     "iopub.execute_input": "2025-08-27T22:35:00.021307Z",
     "iopub.status.busy": "2025-08-27T22:35:00.021076Z",
     "iopub.status.idle": "2025-08-27T22:35:00.024586Z",
     "shell.execute_reply": "2025-08-27T22:35:00.023843Z"
    }
   },
   "outputs": [],
   "source": [
    "bermudan_swaption_pay = IborBermudanSwaption(settle_dt,\n",
    "                                               exercise_dt,\n",
    "                                               swap_maturity_dt,\n",
    "                                               SwapTypes.PAY,\n",
    "                                               FinExerciseTypes.BERMUDAN,\n",
    "                                               swap_fixed_cpn,\n",
    "                                               swap_fixed_freq_type,\n",
    "                                               swapFixedDayCountType)"
   ]
  },
  {
   "cell_type": "code",
   "execution_count": 47,
   "metadata": {
    "execution": {
     "iopub.execute_input": "2025-08-27T22:35:00.027186Z",
     "iopub.status.busy": "2025-08-27T22:35:00.026841Z",
     "iopub.status.idle": "2025-08-27T22:35:00.030386Z",
     "shell.execute_reply": "2025-08-27T22:35:00.029875Z"
    }
   },
   "outputs": [],
   "source": [
    "bermudan_swaption_rec = IborBermudanSwaption(settle_dt,\n",
    "                                               exercise_dt,\n",
    "                                               swap_maturity_dt,\n",
    "                                               SwapTypes.RECEIVE,\n",
    "                                               FinExerciseTypes.BERMUDAN,\n",
    "                                               swap_fixed_cpn,\n",
    "                                               swap_fixed_freq_type,\n",
    "                                               swapFixedDayCountType)"
   ]
  },
  {
   "cell_type": "markdown",
   "metadata": {},
   "source": [
    "### Black Karasinski Model"
   ]
  },
  {
   "cell_type": "code",
   "execution_count": 48,
   "metadata": {
    "execution": {
     "iopub.execute_input": "2025-08-27T22:35:00.032681Z",
     "iopub.status.busy": "2025-08-27T22:35:00.032352Z",
     "iopub.status.idle": "2025-08-27T22:35:00.035670Z",
     "shell.execute_reply": "2025-08-27T22:35:00.035101Z"
    }
   },
   "outputs": [],
   "source": [
    "sigma = 0.20\n",
    "a = 0.01\n",
    "num_time_steps = 100\n",
    "model = BKTree(sigma, a, num_time_steps)"
   ]
  },
  {
   "cell_type": "code",
   "execution_count": 49,
   "metadata": {
    "execution": {
     "iopub.execute_input": "2025-08-27T22:35:00.037878Z",
     "iopub.status.busy": "2025-08-27T22:35:00.037583Z",
     "iopub.status.idle": "2025-08-27T22:35:00.045927Z",
     "shell.execute_reply": "2025-08-27T22:35:00.045068Z"
    }
   },
   "outputs": [
    {
     "name": "stdout",
     "output_type": "stream",
     "text": [
      "PAY Value: 19235.85760\n",
      "REC Value: 13043.39490\n",
      "PAY - REC: 6192.46270\n"
     ]
    }
   ],
   "source": [
    "value_pay = bermudan_swaption_pay.value(value_dt, libor_curve, model)\n",
    "value_rec = bermudan_swaption_rec.value(value_dt, libor_curve, model)\n",
    "valuePayRec = value_pay - value_rec\n",
    "print(\"PAY Value: %9.5f\"% value_pay)\n",
    "print(\"REC Value: %9.5f\"% value_rec)\n",
    "print(\"PAY - REC: %9.5f\"% valuePayRec)"
   ]
  },
  {
   "cell_type": "markdown",
   "metadata": {},
   "source": [
    "### Black-Derman-Toy Model"
   ]
  },
  {
   "cell_type": "code",
   "execution_count": 50,
   "metadata": {
    "execution": {
     "iopub.execute_input": "2025-08-27T22:35:00.048395Z",
     "iopub.status.busy": "2025-08-27T22:35:00.048099Z",
     "iopub.status.idle": "2025-08-27T22:35:00.051482Z",
     "shell.execute_reply": "2025-08-27T22:35:00.050955Z"
    }
   },
   "outputs": [],
   "source": [
    "sigma = 0.20\n",
    "num_time_steps = 100\n",
    "model = BDTTree(sigma, num_time_steps)"
   ]
  },
  {
   "cell_type": "code",
   "execution_count": 51,
   "metadata": {
    "execution": {
     "iopub.execute_input": "2025-08-27T22:35:00.053662Z",
     "iopub.status.busy": "2025-08-27T22:35:00.053275Z",
     "iopub.status.idle": "2025-08-27T22:35:00.060567Z",
     "shell.execute_reply": "2025-08-27T22:35:00.059857Z"
    }
   },
   "outputs": [
    {
     "name": "stdout",
     "output_type": "stream",
     "text": [
      "PAY Value: 19500.06870\n",
      "REC Value: 13318.31315\n",
      "PAY - REC: 6181.75555\n"
     ]
    }
   ],
   "source": [
    "value_pay = bermudan_swaption_pay.value(settle_dt, libor_curve, model)\n",
    "value_rec = bermudan_swaption_rec.value(settle_dt, libor_curve, model)\n",
    "valuePayRec = value_pay - value_rec\n",
    "print(\"PAY Value: %9.5f\"% value_pay)\n",
    "print(\"REC Value: %9.5f\"% value_rec)\n",
    "print(\"PAY - REC: %9.5f\"% valuePayRec)"
   ]
  },
  {
   "cell_type": "markdown",
   "metadata": {},
   "source": [
    "### Hull-White Model"
   ]
  },
  {
   "cell_type": "code",
   "execution_count": 52,
   "metadata": {
    "execution": {
     "iopub.execute_input": "2025-08-27T22:35:00.062451Z",
     "iopub.status.busy": "2025-08-27T22:35:00.062247Z",
     "iopub.status.idle": "2025-08-27T22:35:00.064926Z",
     "shell.execute_reply": "2025-08-27T22:35:00.064405Z"
    }
   },
   "outputs": [],
   "source": [
    "sigma = 0.01\n",
    "a = 0.01\n",
    "num_time_steps = 100\n",
    "model = HWTree(sigma, a)"
   ]
  },
  {
   "cell_type": "code",
   "execution_count": 53,
   "metadata": {
    "execution": {
     "iopub.execute_input": "2025-08-27T22:35:00.066760Z",
     "iopub.status.busy": "2025-08-27T22:35:00.066479Z",
     "iopub.status.idle": "2025-08-27T22:35:00.073513Z",
     "shell.execute_reply": "2025-08-27T22:35:00.072991Z"
    }
   },
   "outputs": [
    {
     "name": "stdout",
     "output_type": "stream",
     "text": [
      "PAY Value: 16578.58987\n",
      "REC Value: 10406.29704\n",
      "PAY - REC: 6172.29283\n"
     ]
    }
   ],
   "source": [
    "value_pay = bermudan_swaption_pay.value(settle_dt, libor_curve, model)\n",
    "value_rec = bermudan_swaption_rec.value(settle_dt, libor_curve, model)\n",
    "valuePayRec = value_pay - value_rec\n",
    "print(\"PAY Value: %9.5f\"% value_pay)\n",
    "print(\"REC Value: %9.5f\"% value_rec)\n",
    "print(\"PAY - REC: %9.5f\"% valuePayRec)"
   ]
  },
  {
   "cell_type": "markdown",
   "metadata": {},
   "source": [
    "The swaption is Bermudan so it can only be exercised on cpn payment dates"
   ]
  },
  {
   "cell_type": "markdown",
   "metadata": {},
   "source": [
    "Copyright (c) 2020 Dominic O'Kane"
   ]
  }
 ],
 "metadata": {
  "kernelspec": {
   "display_name": "base",
   "language": "python",
   "name": "python3"
  },
  "language_info": {
   "codemirror_mode": {
    "name": "ipython",
    "version": 3
   },
   "file_extension": ".py",
   "mimetype": "text/x-python",
   "name": "python",
   "nbconvert_exporter": "python",
   "pygments_lexer": "ipython3",
   "version": "3.13.5"
  }
 },
 "nbformat": 4,
 "nbformat_minor": 2
}
