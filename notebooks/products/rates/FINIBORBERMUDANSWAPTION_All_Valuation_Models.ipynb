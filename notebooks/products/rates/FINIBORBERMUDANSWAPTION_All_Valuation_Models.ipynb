{
 "cells": [
  {
   "cell_type": "markdown",
   "metadata": {},
   "source": [
    "# Bermudan Swaption Pricing"
   ]
  },
  {
   "cell_type": "markdown",
   "metadata": {},
   "source": [
    "Value a European Swaption using the Hull-White, Black-Derman-Toy and Black-Karasinski models. I analyse relationships to test the model pricing."
   ]
  },
  {
   "cell_type": "markdown",
   "metadata": {},
   "source": [
    "NOTE SENSITIVE TO EVEN-ODD NUMBER OF TIME STEPS ON TREE - INVESTIGATE"
   ]
  },
  {
   "cell_type": "code",
   "execution_count": 1,
   "metadata": {
    "execution": {
     "iopub.execute_input": "2025-08-27T21:47:56.691278Z",
     "iopub.status.busy": "2025-08-27T21:47:56.691077Z",
     "iopub.status.idle": "2025-08-27T21:47:57.191344Z",
     "shell.execute_reply": "2025-08-27T21:47:57.190826Z"
    }
   },
   "outputs": [],
   "source": [
    "import numpy as np\n",
    "import matplotlib.pyplot as plt"
   ]
  },
  {
   "cell_type": "code",
   "execution_count": 2,
   "metadata": {
    "execution": {
     "iopub.execute_input": "2025-08-27T21:47:57.193746Z",
     "iopub.status.busy": "2025-08-27T21:47:57.193443Z",
     "iopub.status.idle": "2025-08-27T21:47:58.873554Z",
     "shell.execute_reply": "2025-08-27T21:47:58.873108Z"
    },
    "tags": []
   },
   "outputs": [
    {
     "name": "stdout",
     "output_type": "stream",
     "text": [
      "####################################################################\n",
      "#    FINANCEPY Version 1.1 - This build: 27 Aug 2025 at 23:27      #\n",
      "#     This software is distributed FREE AND WITHOUT ANY WARRANTY   #\n",
      "#  Report bugs as issues at https://github.com/domokane/FinancePy  #\n",
      "####################################################################\n",
      "\n"
     ]
    }
   ],
   "source": [
    "from financepy.utils import *\n",
    "from financepy.products.rates import *\n",
    "from financepy.market.curves import *\n",
    "from financepy.models.hw_tree import HWTree\n",
    "from financepy.models.bk_tree import BKTree\n",
    "from financepy.models.bdt_tree import BDTTree"
   ]
  },
  {
   "cell_type": "markdown",
   "metadata": {},
   "source": [
    "## Discount Curve"
   ]
  },
  {
   "cell_type": "code",
   "execution_count": 3,
   "metadata": {
    "execution": {
     "iopub.execute_input": "2025-08-27T21:47:58.876034Z",
     "iopub.status.busy": "2025-08-27T21:47:58.875631Z",
     "iopub.status.idle": "2025-08-27T21:47:58.897303Z",
     "shell.execute_reply": "2025-08-27T21:47:58.896676Z"
    }
   },
   "outputs": [],
   "source": [
    "value_dt = Date(1, 1, 2011)\n",
    "settle_dt = value_dt"
   ]
  },
  {
   "cell_type": "markdown",
   "metadata": {},
   "source": [
    "Set up flat discount curve"
   ]
  },
  {
   "cell_type": "code",
   "execution_count": 4,
   "metadata": {
    "execution": {
     "iopub.execute_input": "2025-08-27T21:47:58.900121Z",
     "iopub.status.busy": "2025-08-27T21:47:58.899795Z",
     "iopub.status.idle": "2025-08-27T21:47:58.910380Z",
     "shell.execute_reply": "2025-08-27T21:47:58.909844Z"
    }
   },
   "outputs": [],
   "source": [
    "rate = 0.0625\n",
    "libor_curve = DiscountCurveFlat(value_dt,\n",
    "                                  rate,\n",
    "                                  FrequencyTypes.SEMI_ANNUAL,\n",
    "                                  DayCountTypes.ACT_365F)"
   ]
  },
  {
   "cell_type": "markdown",
   "metadata": {},
   "source": [
    "# The Underlying Swap"
   ]
  },
  {
   "cell_type": "markdown",
   "metadata": {},
   "source": [
    "We begin with the underlying swap."
   ]
  },
  {
   "cell_type": "code",
   "execution_count": 5,
   "metadata": {
    "execution": {
     "iopub.execute_input": "2025-08-27T21:47:58.913071Z",
     "iopub.status.busy": "2025-08-27T21:47:58.912807Z",
     "iopub.status.idle": "2025-08-27T21:47:58.915592Z",
     "shell.execute_reply": "2025-08-27T21:47:58.915180Z"
    }
   },
   "outputs": [],
   "source": [
    "exercise_dt = settle_dt.add_years(1)\n",
    "swap_maturity_dt = settle_dt.add_years(4)\n",
    "swap_fixed_cpn = 0.060\n",
    "swap_fixed_freq_type = FrequencyTypes.SEMI_ANNUAL\n",
    "swapFixedDayCountType = DayCountTypes.ACT_365F\n",
    "swap_type = SwapTypes.PAY"
   ]
  },
  {
   "cell_type": "markdown",
   "metadata": {},
   "source": [
    "We can value the forward starting swap."
   ]
  },
  {
   "cell_type": "code",
   "execution_count": 6,
   "metadata": {
    "execution": {
     "iopub.execute_input": "2025-08-27T21:47:58.917470Z",
     "iopub.status.busy": "2025-08-27T21:47:58.917145Z",
     "iopub.status.idle": "2025-08-27T21:47:58.920788Z",
     "shell.execute_reply": "2025-08-27T21:47:58.920311Z"
    }
   },
   "outputs": [],
   "source": [
    "swap = IborSwap(exercise_dt,\n",
    "                    swap_maturity_dt,\n",
    "                    swap_type,\n",
    "                    swap_fixed_cpn,\n",
    "                    swap_fixed_freq_type,\n",
    "                    swapFixedDayCountType)"
   ]
  },
  {
   "cell_type": "markdown",
   "metadata": {},
   "source": [
    "We can approximate the value using 2.5 as the approximate duration of a 3 year swap"
   ]
  },
  {
   "cell_type": "code",
   "execution_count": 7,
   "metadata": {
    "execution": {
     "iopub.execute_input": "2025-08-27T21:47:58.922594Z",
     "iopub.status.busy": "2025-08-27T21:47:58.922273Z",
     "iopub.status.idle": "2025-08-27T21:47:58.927571Z",
     "shell.execute_reply": "2025-08-27T21:47:58.927118Z"
    }
   },
   "outputs": [
    {
     "data": {
      "text/plain": [
       "6250.0000000000055"
      ]
     },
     "execution_count": 7,
     "metadata": {},
     "output_type": "execute_result"
    }
   ],
   "source": [
    "(rate - swap_fixed_cpn) * 2.5 * ONE_MILLION"
   ]
  },
  {
   "cell_type": "code",
   "execution_count": 8,
   "metadata": {
    "execution": {
     "iopub.execute_input": "2025-08-27T21:47:58.929348Z",
     "iopub.status.busy": "2025-08-27T21:47:58.929111Z",
     "iopub.status.idle": "2025-08-27T21:47:58.932876Z",
     "shell.execute_reply": "2025-08-27T21:47:58.932371Z"
    }
   },
   "outputs": [
    {
     "name": "stdout",
     "output_type": "stream",
     "text": [
      "Swap Value: 6214.67070\n"
     ]
    }
   ],
   "source": [
    "swapValue = swap.value(value_dt, libor_curve, libor_curve)\n",
    "print(\"Swap Value: %9.5f\"% swapValue)"
   ]
  },
  {
   "cell_type": "markdown",
   "metadata": {},
   "source": [
    "The estimate was not bad !"
   ]
  },
  {
   "cell_type": "code",
   "execution_count": 9,
   "metadata": {
    "execution": {
     "iopub.execute_input": "2025-08-27T21:47:58.934927Z",
     "iopub.status.busy": "2025-08-27T21:47:58.934674Z",
     "iopub.status.idle": "2025-08-27T21:47:58.937874Z",
     "shell.execute_reply": "2025-08-27T21:47:58.937465Z"
    }
   },
   "outputs": [
    {
     "name": "stdout",
     "output_type": "stream",
     "text": [
      "START DATE: 01-JAN-2012\n",
      "MATURITY DATE: 01-JAN-2015\n",
      "COUPON (%): 6.0\n",
      "FREQUENCY: FrequencyTypes.SEMI_ANNUAL\n",
      "DAY COUNT: DayCountTypes.ACT_365F\n",
      "\n",
      "PAYMENTS VALUATION:\n",
      "PAY_NUM | PAY_dt      | NOTIONAL | RATE | PMNT     | DF     | PV       | CUM_PV   \n",
      "--------+-------------+----------+------+----------+--------+----------+----------\n",
      "      1 | 02-JUL-2012 |  1000000 |  6.0 | 30082.19 | 0.9117 | 27427.17 |  27427.17\n",
      "      2 | 01-JAN-2013 |  1000000 |  6.0 | 30082.19 |  0.884 |  26593.8 |  54020.97\n",
      "      3 | 01-JUL-2013 |  1000000 |  6.0 | 29753.42 | 0.8575 | 25512.54 |  79533.51\n",
      "      4 | 01-JAN-2014 |  1000000 |  6.0 | 30246.58 | 0.8313 | 25143.12 | 104676.64\n",
      "      5 | 01-JUL-2014 |  1000000 |  6.0 | 29753.42 | 0.8063 | 23989.76 | 128666.39\n",
      "      6 | 01-JAN-2015 |  1000000 |  6.0 | 30246.58 | 0.7817 | 23642.39 | 152308.78\n"
     ]
    }
   ],
   "source": [
    "swap.print_fixed_leg_pv()"
   ]
  },
  {
   "cell_type": "code",
   "execution_count": 10,
   "metadata": {
    "execution": {
     "iopub.execute_input": "2025-08-27T21:47:58.940111Z",
     "iopub.status.busy": "2025-08-27T21:47:58.939740Z",
     "iopub.status.idle": "2025-08-27T21:47:58.943786Z",
     "shell.execute_reply": "2025-08-27T21:47:58.943413Z"
    }
   },
   "outputs": [
    {
     "name": "stdout",
     "output_type": "stream",
     "text": [
      "START DATE: 01-JAN-2012\n",
      "MATURITY DATE: 01-JAN-2015\n",
      "SPREAD (BPS): 0.0\n",
      "FREQUENCY: FrequencyTypes.QUARTERLY\n",
      "DAY COUNT: DayCountTypes.THIRTY_E_360\n",
      "\n",
      "PAYMENTS VALUATION:\n",
      "PAY_NUM | PAY_dt      | NOTIONAL | IBOR   | PMNT     | DF     | PV       | CUM_PV   \n",
      "--------+-------------+----------+--------+----------+--------+----------+----------\n",
      "      1 | 02-APR-2012 |  1000000 | 6.2023 | 15678.07 | 0.9258 | 14515.36 |  14515.36\n",
      "      2 | 02-JUL-2012 |  1000000 | 6.2018 | 15504.47 | 0.9117 | 14136.06 |  28651.42\n",
      "      3 | 01-OCT-2012 |  1000000 | 6.2018 |  15332.2 | 0.8979 | 13766.14 |  42417.57\n",
      "      4 | 01-JAN-2013 |  1000000 | 6.2023 | 15505.78 |  0.884 |  13707.7 |  56125.27\n",
      "      5 | 01-APR-2013 |  1000000 | 6.2013 | 15503.16 | 0.8707 | 13498.97 |  69624.24\n",
      "      6 | 01-JUL-2013 |  1000000 | 6.2018 | 15504.47 | 0.8575 | 13294.56 |   82918.8\n",
      "      7 | 01-OCT-2013 |  1000000 | 6.2023 | 15505.78 | 0.8443 | 13091.02 |  96009.82\n",
      "      8 | 01-JAN-2014 |  1000000 | 6.2023 | 15505.78 | 0.8313 | 12889.52 | 108899.34\n",
      "      9 | 01-APR-2014 |  1000000 | 6.2013 | 15503.16 | 0.8188 | 12693.25 | 121592.59\n",
      "     10 | 01-JUL-2014 |  1000000 | 6.2018 | 15504.47 | 0.8063 | 12501.03 | 134093.63\n",
      "     11 | 01-OCT-2014 |  1000000 | 6.2023 | 15505.78 | 0.7939 | 12309.65 | 146403.28\n",
      "     12 | 01-JAN-2015 |  1000000 | 6.2023 | 15505.78 | 0.7817 | 12120.17 | 158523.45\n"
     ]
    }
   ],
   "source": [
    "swap.print_float_leg_pv()"
   ]
  },
  {
   "cell_type": "markdown",
   "metadata": {},
   "source": [
    "# IborSwaption"
   ]
  },
  {
   "cell_type": "markdown",
   "metadata": {},
   "source": [
    "This is a class for European-style swaptions. It implements a number of model implementations."
   ]
  },
  {
   "cell_type": "code",
   "execution_count": 11,
   "metadata": {
    "execution": {
     "iopub.execute_input": "2025-08-27T21:47:58.945611Z",
     "iopub.status.busy": "2025-08-27T21:47:58.945381Z",
     "iopub.status.idle": "2025-08-27T21:47:58.948296Z",
     "shell.execute_reply": "2025-08-27T21:47:58.947886Z"
    }
   },
   "outputs": [],
   "source": [
    "european_swaption_pay = IborSwaption(settle_dt,\n",
    "                                      exercise_dt,\n",
    "                                      swap_maturity_dt,\n",
    "                                      SwapTypes.PAY,\n",
    "                                      swap_fixed_cpn,\n",
    "                                      swap_fixed_freq_type,\n",
    "                                      swapFixedDayCountType)"
   ]
  },
  {
   "cell_type": "code",
   "execution_count": 12,
   "metadata": {
    "execution": {
     "iopub.execute_input": "2025-08-27T21:47:58.950353Z",
     "iopub.status.busy": "2025-08-27T21:47:58.950065Z",
     "iopub.status.idle": "2025-08-27T21:47:58.952733Z",
     "shell.execute_reply": "2025-08-27T21:47:58.952368Z"
    }
   },
   "outputs": [],
   "source": [
    "european_swaption_rec = IborSwaption(settle_dt,\n",
    "                                      exercise_dt,\n",
    "                                      swap_maturity_dt,\n",
    "                                      SwapTypes.RECEIVE,\n",
    "                                      swap_fixed_cpn,\n",
    "                                      swap_fixed_freq_type,\n",
    "                                      swapFixedDayCountType)"
   ]
  },
  {
   "cell_type": "code",
   "execution_count": 13,
   "metadata": {
    "execution": {
     "iopub.execute_input": "2025-08-27T21:47:58.954932Z",
     "iopub.status.busy": "2025-08-27T21:47:58.954712Z",
     "iopub.status.idle": "2025-08-27T21:47:58.957986Z",
     "shell.execute_reply": "2025-08-27T21:47:58.957564Z"
    }
   },
   "outputs": [
    {
     "data": {
      "text/plain": [
       "OBJECT TYPE: IborSwaption\n",
       "SETTLEMENT DATE: 01-JAN-2011\n",
       "EXERCISE DATE: 01-JAN-2012\n",
       "SWAP FIXED LEG TYPE: SwapTypes.PAY\n",
       "SWAP MATURITY DATE: 01-JAN-2015\n",
       "SWAP NOTIONAL: 1000000\n",
       "FIXED cpn: 6.0\n",
       "FIXED FREQUENCY: FrequencyTypes.SEMI_ANNUAL\n",
       "FIXED DAY COUNT: DayCountTypes.ACT_365F\n",
       "FLOAT FREQUENCY: FrequencyTypes.QUARTERLY\n",
       "FLOAT DAY COUNT: DayCountTypes.THIRTY_E_360"
      ]
     },
     "execution_count": 13,
     "metadata": {},
     "output_type": "execute_result"
    }
   ],
   "source": [
    "european_swaption_pay"
   ]
  },
  {
   "cell_type": "markdown",
   "metadata": {},
   "source": [
    "Set the volatility to zero so that payer is pure intrinsic"
   ]
  },
  {
   "cell_type": "markdown",
   "metadata": {},
   "source": [
    "### Black's Model"
   ]
  },
  {
   "cell_type": "code",
   "execution_count": 14,
   "metadata": {
    "execution": {
     "iopub.execute_input": "2025-08-27T21:47:58.960050Z",
     "iopub.status.busy": "2025-08-27T21:47:58.959746Z",
     "iopub.status.idle": "2025-08-27T21:47:58.962421Z",
     "shell.execute_reply": "2025-08-27T21:47:58.962005Z"
    }
   },
   "outputs": [],
   "source": [
    "sigma = 0.00001"
   ]
  },
  {
   "cell_type": "code",
   "execution_count": 15,
   "metadata": {
    "execution": {
     "iopub.execute_input": "2025-08-27T21:47:58.964638Z",
     "iopub.status.busy": "2025-08-27T21:47:58.964222Z",
     "iopub.status.idle": "2025-08-27T21:47:58.967084Z",
     "shell.execute_reply": "2025-08-27T21:47:58.966492Z"
    }
   },
   "outputs": [],
   "source": [
    "model = Black(sigma)"
   ]
  },
  {
   "cell_type": "code",
   "execution_count": 16,
   "metadata": {
    "execution": {
     "iopub.execute_input": "2025-08-27T21:47:58.969231Z",
     "iopub.status.busy": "2025-08-27T21:47:58.969012Z",
     "iopub.status.idle": "2025-08-27T21:47:58.973814Z",
     "shell.execute_reply": "2025-08-27T21:47:58.973275Z"
    }
   },
   "outputs": [
    {
     "data": {
      "text/plain": [
       "np.float64(6214.670696710779)"
      ]
     },
     "execution_count": 16,
     "metadata": {},
     "output_type": "execute_result"
    }
   ],
   "source": [
    "european_swaption_pay.value(value_dt, libor_curve, model)"
   ]
  },
  {
   "cell_type": "markdown",
   "metadata": {},
   "source": [
    "Let's check for put-call parity"
   ]
  },
  {
   "cell_type": "code",
   "execution_count": 17,
   "metadata": {
    "execution": {
     "iopub.execute_input": "2025-08-27T21:47:58.975978Z",
     "iopub.status.busy": "2025-08-27T21:47:58.975713Z",
     "iopub.status.idle": "2025-08-27T21:47:58.978264Z",
     "shell.execute_reply": "2025-08-27T21:47:58.977923Z"
    }
   },
   "outputs": [],
   "source": [
    "sigma = 0.20"
   ]
  },
  {
   "cell_type": "code",
   "execution_count": 18,
   "metadata": {
    "execution": {
     "iopub.execute_input": "2025-08-27T21:47:58.980078Z",
     "iopub.status.busy": "2025-08-27T21:47:58.979821Z",
     "iopub.status.idle": "2025-08-27T21:47:58.982606Z",
     "shell.execute_reply": "2025-08-27T21:47:58.982125Z"
    }
   },
   "outputs": [],
   "source": [
    "model = Black(sigma)"
   ]
  },
  {
   "cell_type": "code",
   "execution_count": 19,
   "metadata": {
    "execution": {
     "iopub.execute_input": "2025-08-27T21:47:58.984395Z",
     "iopub.status.busy": "2025-08-27T21:47:58.984186Z",
     "iopub.status.idle": "2025-08-27T21:47:58.989033Z",
     "shell.execute_reply": "2025-08-27T21:47:58.988600Z"
    }
   },
   "outputs": [
    {
     "name": "stdout",
     "output_type": "stream",
     "text": [
      "PAY Value: 15732.91222\n",
      "REC Value: 9518.24152\n",
      "PAY - REC: 6214.67070\n"
     ]
    }
   ],
   "source": [
    "value_pay = european_swaption_pay.value(value_dt, libor_curve, model)\n",
    "value_rec = european_swaption_rec.value(value_dt, libor_curve, model)\n",
    "valuePayRec = value_pay - value_rec\n",
    "print(\"PAY Value: %9.5f\"% value_pay)\n",
    "print(\"REC Value: %9.5f\"% value_rec)\n",
    "print(\"PAY - REC: %9.5f\"% valuePayRec)"
   ]
  },
  {
   "cell_type": "markdown",
   "metadata": {},
   "source": [
    "Yes put-call parity is respected."
   ]
  },
  {
   "cell_type": "markdown",
   "metadata": {},
   "source": [
    "### BK Model"
   ]
  },
  {
   "cell_type": "code",
   "execution_count": 20,
   "metadata": {
    "execution": {
     "iopub.execute_input": "2025-08-27T21:47:58.991086Z",
     "iopub.status.busy": "2025-08-27T21:47:58.990850Z",
     "iopub.status.idle": "2025-08-27T21:47:58.993559Z",
     "shell.execute_reply": "2025-08-27T21:47:58.993188Z"
    }
   },
   "outputs": [],
   "source": [
    "a = 0.01\n",
    "sigma = 0.0000001\n",
    "num_time_steps = 100\n",
    "model = BKTree(sigma, a, num_time_steps)"
   ]
  },
  {
   "cell_type": "code",
   "execution_count": 21,
   "metadata": {
    "execution": {
     "iopub.execute_input": "2025-08-27T21:47:58.995593Z",
     "iopub.status.busy": "2025-08-27T21:47:58.995316Z",
     "iopub.status.idle": "2025-08-27T21:48:01.095498Z",
     "shell.execute_reply": "2025-08-27T21:48:01.095059Z"
    }
   },
   "outputs": [
    {
     "name": "stdout",
     "output_type": "stream",
     "text": [
      "PAY Value: 6346.08093\n",
      "REC Value:   0.00000\n",
      "PAY - REC: 6346.08093\n"
     ]
    }
   ],
   "source": [
    "value_pay = european_swaption_pay.value(value_dt, libor_curve, model)\n",
    "value_rec = european_swaption_rec.value(value_dt, libor_curve, model)\n",
    "valuePayRec = value_pay - value_rec\n",
    "print(\"PAY Value: %9.5f\"% value_pay)\n",
    "print(\"REC Value: %9.5f\"% value_rec)\n",
    "print(\"PAY - REC: %9.5f\"% valuePayRec)"
   ]
  },
  {
   "cell_type": "code",
   "execution_count": 22,
   "metadata": {
    "execution": {
     "iopub.execute_input": "2025-08-27T21:48:01.097345Z",
     "iopub.status.busy": "2025-08-27T21:48:01.097028Z",
     "iopub.status.idle": "2025-08-27T21:48:01.100076Z",
     "shell.execute_reply": "2025-08-27T21:48:01.099599Z"
    }
   },
   "outputs": [],
   "source": [
    "a = 0.01\n",
    "sigma = 0.20\n",
    "num_time_steps = 100\n",
    "model = BKTree(sigma, a, num_time_steps)"
   ]
  },
  {
   "cell_type": "code",
   "execution_count": 23,
   "metadata": {
    "execution": {
     "iopub.execute_input": "2025-08-27T21:48:01.101933Z",
     "iopub.status.busy": "2025-08-27T21:48:01.101618Z",
     "iopub.status.idle": "2025-08-27T21:48:01.108307Z",
     "shell.execute_reply": "2025-08-27T21:48:01.107873Z"
    }
   },
   "outputs": [
    {
     "name": "stdout",
     "output_type": "stream",
     "text": [
      "PAY Value: 15746.57475\n",
      "REC Value: 9400.49421\n",
      "PAY - REC: 6346.08054\n"
     ]
    }
   ],
   "source": [
    "value_pay = european_swaption_pay.value(value_dt, libor_curve, model)\n",
    "value_rec = european_swaption_rec.value(value_dt, libor_curve, model)\n",
    "valuePayRec = value_pay - value_rec\n",
    "print(\"PAY Value: %9.5f\"% value_pay)\n",
    "print(\"REC Value: %9.5f\"% value_rec)\n",
    "print(\"PAY - REC: %9.5f\"% valuePayRec)"
   ]
  },
  {
   "cell_type": "markdown",
   "metadata": {},
   "source": [
    "### BDT Model"
   ]
  },
  {
   "cell_type": "code",
   "execution_count": 24,
   "metadata": {
    "execution": {
     "iopub.execute_input": "2025-08-27T21:48:01.110013Z",
     "iopub.status.busy": "2025-08-27T21:48:01.109753Z",
     "iopub.status.idle": "2025-08-27T21:48:01.112095Z",
     "shell.execute_reply": "2025-08-27T21:48:01.111756Z"
    }
   },
   "outputs": [],
   "source": [
    "sigma = 0.0000001\n",
    "num_time_steps = 200\n",
    "model = BDTTree(sigma, num_time_steps)"
   ]
  },
  {
   "cell_type": "code",
   "execution_count": 25,
   "metadata": {
    "execution": {
     "iopub.execute_input": "2025-08-27T21:48:01.113610Z",
     "iopub.status.busy": "2025-08-27T21:48:01.113418Z",
     "iopub.status.idle": "2025-08-27T21:48:01.934649Z",
     "shell.execute_reply": "2025-08-27T21:48:01.934102Z"
    }
   },
   "outputs": [
    {
     "name": "stdout",
     "output_type": "stream",
     "text": [
      "PAY Value: 6347.28920\n",
      "REC Value:   0.00000\n",
      "PAY - REC: 6347.28920\n"
     ]
    }
   ],
   "source": [
    "value_pay = european_swaption_pay.value(value_dt, libor_curve, model)\n",
    "value_rec = european_swaption_rec.value(value_dt, libor_curve, model)\n",
    "valuePayRec = value_pay - value_rec\n",
    "print(\"PAY Value: %9.5f\"% value_pay)\n",
    "print(\"REC Value: %9.5f\"% value_rec)\n",
    "print(\"PAY - REC: %9.5f\"% valuePayRec)"
   ]
  },
  {
   "cell_type": "code",
   "execution_count": 26,
   "metadata": {
    "execution": {
     "iopub.execute_input": "2025-08-27T21:48:01.936725Z",
     "iopub.status.busy": "2025-08-27T21:48:01.936361Z",
     "iopub.status.idle": "2025-08-27T21:48:01.939112Z",
     "shell.execute_reply": "2025-08-27T21:48:01.938708Z"
    }
   },
   "outputs": [],
   "source": [
    "sigma = 0.20\n",
    "model = BDTTree(sigma, num_time_steps)"
   ]
  },
  {
   "cell_type": "code",
   "execution_count": 27,
   "metadata": {
    "execution": {
     "iopub.execute_input": "2025-08-27T21:48:01.940825Z",
     "iopub.status.busy": "2025-08-27T21:48:01.940643Z",
     "iopub.status.idle": "2025-08-27T21:48:01.950073Z",
     "shell.execute_reply": "2025-08-27T21:48:01.949504Z"
    }
   },
   "outputs": [
    {
     "name": "stdout",
     "output_type": "stream",
     "text": [
      "PAY Value: 15990.91739\n",
      "REC Value: 9639.93743\n",
      "PAY - REC: 6350.97996\n"
     ]
    }
   ],
   "source": [
    "value_pay = european_swaption_pay.value(value_dt, libor_curve, model)\n",
    "value_rec = european_swaption_rec.value(value_dt, libor_curve, model)\n",
    "valuePayRec = value_pay - value_rec\n",
    "print(\"PAY Value: %9.5f\"% value_pay)\n",
    "print(\"REC Value: %9.5f\"% value_rec)\n",
    "print(\"PAY - REC: %9.5f\"% valuePayRec)"
   ]
  },
  {
   "cell_type": "markdown",
   "metadata": {},
   "source": [
    "### HW Model"
   ]
  },
  {
   "cell_type": "code",
   "execution_count": 28,
   "metadata": {
    "execution": {
     "iopub.execute_input": "2025-08-27T21:48:01.951732Z",
     "iopub.status.busy": "2025-08-27T21:48:01.951534Z",
     "iopub.status.idle": "2025-08-27T21:48:01.954478Z",
     "shell.execute_reply": "2025-08-27T21:48:01.954023Z"
    }
   },
   "outputs": [],
   "source": [
    "sigma = 0.0000001\n",
    "num_time_steps = 200\n",
    "a = 0.01\n",
    "model = HWTree(sigma, a, num_time_steps)"
   ]
  },
  {
   "cell_type": "code",
   "execution_count": 29,
   "metadata": {
    "execution": {
     "iopub.execute_input": "2025-08-27T21:48:01.956277Z",
     "iopub.status.busy": "2025-08-27T21:48:01.956096Z",
     "iopub.status.idle": "2025-08-27T21:48:01.967647Z",
     "shell.execute_reply": "2025-08-27T21:48:01.967281Z"
    }
   },
   "outputs": [
    {
     "name": "stdout",
     "output_type": "stream",
     "text": [
      "PAY Value: 6348.45763\n",
      "REC Value:   0.00000\n",
      "PAY - REC: 6348.45763\n"
     ]
    }
   ],
   "source": [
    "value_pay = european_swaption_pay.value(value_dt, libor_curve, model)\n",
    "value_rec = european_swaption_rec.value(value_dt, libor_curve, model)\n",
    "valuePayRec = value_pay - value_rec\n",
    "print(\"PAY Value: %9.5f\"% value_pay)\n",
    "print(\"REC Value: %9.5f\"% value_rec)\n",
    "print(\"PAY - REC: %9.5f\"% valuePayRec)"
   ]
  },
  {
   "cell_type": "code",
   "execution_count": 30,
   "metadata": {
    "execution": {
     "iopub.execute_input": "2025-08-27T21:48:01.969227Z",
     "iopub.status.busy": "2025-08-27T21:48:01.969041Z",
     "iopub.status.idle": "2025-08-27T21:48:01.971412Z",
     "shell.execute_reply": "2025-08-27T21:48:01.971022Z"
    }
   },
   "outputs": [],
   "source": [
    "sigma = 0.20 * rate\n",
    "num_time_steps = 200\n",
    "a = 0.01\n",
    "model = HWTree(sigma, a, num_time_steps)"
   ]
  },
  {
   "cell_type": "code",
   "execution_count": 31,
   "metadata": {
    "execution": {
     "iopub.execute_input": "2025-08-27T21:48:01.972990Z",
     "iopub.status.busy": "2025-08-27T21:48:01.972738Z",
     "iopub.status.idle": "2025-08-27T21:48:01.977359Z",
     "shell.execute_reply": "2025-08-27T21:48:01.976822Z"
    }
   },
   "outputs": [
    {
     "name": "stdout",
     "output_type": "stream",
     "text": [
      "PAY Value: 16217.69298\n",
      "REC Value: 9869.43817\n",
      "PAY - REC: 6348.25481\n"
     ]
    }
   ],
   "source": [
    "value_pay = european_swaption_pay.value(value_dt, libor_curve, model)\n",
    "value_rec = european_swaption_rec.value(value_dt, libor_curve, model)\n",
    "valuePayRec = value_pay - value_rec\n",
    "print(\"PAY Value: %9.5f\"% value_pay)\n",
    "print(\"REC Value: %9.5f\"% value_rec)\n",
    "print(\"PAY - REC: %9.5f\"% valuePayRec)"
   ]
  },
  {
   "cell_type": "markdown",
   "metadata": {},
   "source": [
    "# IborBermudanSwaption"
   ]
  },
  {
   "cell_type": "markdown",
   "metadata": {},
   "source": [
    "I now examine FinBermudanSwaption and use the tree models to value it. But first let me price it on the tree models as a European option."
   ]
  },
  {
   "cell_type": "markdown",
   "metadata": {},
   "source": [
    "## Start By Only Allowing European Exercise"
   ]
  },
  {
   "cell_type": "code",
   "execution_count": 32,
   "metadata": {
    "execution": {
     "iopub.execute_input": "2025-08-27T21:48:01.978991Z",
     "iopub.status.busy": "2025-08-27T21:48:01.978814Z",
     "iopub.status.idle": "2025-08-27T21:48:01.981081Z",
     "shell.execute_reply": "2025-08-27T21:48:01.980791Z"
    }
   },
   "outputs": [],
   "source": [
    "europeanBermSwaptionPay = IborBermudanSwaption(settle_dt,\n",
    "                                                  exercise_dt,\n",
    "                                                  swap_maturity_dt,\n",
    "                                                  SwapTypes.PAY,\n",
    "                                                  FinExerciseTypes.EUROPEAN,\n",
    "                                                  swap_fixed_cpn,\n",
    "                                                  swap_fixed_freq_type,\n",
    "                                                  swapFixedDayCountType)"
   ]
  },
  {
   "cell_type": "code",
   "execution_count": 33,
   "metadata": {
    "execution": {
     "iopub.execute_input": "2025-08-27T21:48:01.982496Z",
     "iopub.status.busy": "2025-08-27T21:48:01.982284Z",
     "iopub.status.idle": "2025-08-27T21:48:01.984595Z",
     "shell.execute_reply": "2025-08-27T21:48:01.984218Z"
    }
   },
   "outputs": [],
   "source": [
    "europeanBermSwaptionRec = IborBermudanSwaption(settle_dt,\n",
    "                                                  exercise_dt,\n",
    "                                                  swap_maturity_dt,\n",
    "                                                  SwapTypes.RECEIVE,\n",
    "                                                  FinExerciseTypes.EUROPEAN,\n",
    "                                                  swap_fixed_cpn,\n",
    "                                                  swap_fixed_freq_type,\n",
    "                                                  swapFixedDayCountType)"
   ]
  },
  {
   "cell_type": "markdown",
   "metadata": {},
   "source": [
    "### Black Karasinski Model"
   ]
  },
  {
   "cell_type": "markdown",
   "metadata": {},
   "source": [
    "Setting the volatility close to zero so we only have intrinsic value."
   ]
  },
  {
   "cell_type": "code",
   "execution_count": 34,
   "metadata": {
    "execution": {
     "iopub.execute_input": "2025-08-27T21:48:01.986095Z",
     "iopub.status.busy": "2025-08-27T21:48:01.985916Z",
     "iopub.status.idle": "2025-08-27T21:48:01.988589Z",
     "shell.execute_reply": "2025-08-27T21:48:01.988231Z"
    }
   },
   "outputs": [],
   "source": [
    "black_vol = 0.0000001"
   ]
  },
  {
   "cell_type": "code",
   "execution_count": 35,
   "metadata": {
    "execution": {
     "iopub.execute_input": "2025-08-27T21:48:01.990324Z",
     "iopub.status.busy": "2025-08-27T21:48:01.990017Z",
     "iopub.status.idle": "2025-08-27T21:48:01.992591Z",
     "shell.execute_reply": "2025-08-27T21:48:01.992076Z"
    }
   },
   "outputs": [],
   "source": [
    "sigma = black_vol\n",
    "a = 0.01\n",
    "num_time_steps = 200\n",
    "model = BKTree(sigma, a, num_time_steps)"
   ]
  },
  {
   "cell_type": "code",
   "execution_count": 36,
   "metadata": {
    "execution": {
     "iopub.execute_input": "2025-08-27T21:48:01.994228Z",
     "iopub.status.busy": "2025-08-27T21:48:01.994043Z",
     "iopub.status.idle": "2025-08-27T21:48:02.006750Z",
     "shell.execute_reply": "2025-08-27T21:48:02.006221Z"
    }
   },
   "outputs": [
    {
     "name": "stdout",
     "output_type": "stream",
     "text": [
      "PAY Value: 6313.74545\n",
      "REC Value:   0.00000\n",
      "PAY - REC: 6313.74545\n"
     ]
    }
   ],
   "source": [
    "value_pay = europeanBermSwaptionPay.value(value_dt, libor_curve, model)\n",
    "value_rec = europeanBermSwaptionRec.value(value_dt, libor_curve, model)\n",
    "valuePayRec = value_pay - value_rec\n",
    "print(\"PAY Value: %9.5f\"% value_pay)\n",
    "print(\"REC Value: %9.5f\"% value_rec)\n",
    "print(\"PAY - REC: %9.5f\"% valuePayRec)"
   ]
  },
  {
   "cell_type": "code",
   "execution_count": 37,
   "metadata": {
    "execution": {
     "iopub.execute_input": "2025-08-27T21:48:02.008642Z",
     "iopub.status.busy": "2025-08-27T21:48:02.008471Z",
     "iopub.status.idle": "2025-08-27T21:48:02.011442Z",
     "shell.execute_reply": "2025-08-27T21:48:02.011085Z"
    }
   },
   "outputs": [
    {
     "name": "stdout",
     "output_type": "stream",
     "text": [
      "SWAP PV01: 2.538479623216061\n",
      "CPN TIME:  1.0 FLOW 0.0\n",
      "CPN TIME:  1.5013698630136987 FLOW 0.030246575342465755\n",
      "CPN TIME:  2.0027397260273974 FLOW 0.03008219178082192\n",
      "CPN TIME:  2.4986301369863013 FLOW 0.03008219178082192\n",
      "CPN TIME:  3.0027397260273974 FLOW 0.029753424657534246\n",
      "CPN TIME:  3.4986301369863013 FLOW 0.030246575342465755\n",
      "CPN TIME:  4.002739726027397 FLOW 0.029753424657534246\n",
      "CALL TIME:  1.0\n",
      "CALL TIME:  1.5013698630136987\n",
      "CALL TIME:  2.0027397260273974\n",
      "CALL TIME:  2.4986301369863013\n",
      "CALL TIME:  3.0027397260273974\n",
      "CALL TIME:  3.4986301369863013\n",
      "CALL TIME:  4.002739726027397\n"
     ]
    }
   ],
   "source": [
    "europeanBermSwaptionPay.print_swaption_value()"
   ]
  },
  {
   "cell_type": "markdown",
   "metadata": {},
   "source": [
    "### Black Derman Toy Model"
   ]
  },
  {
   "cell_type": "code",
   "execution_count": 38,
   "metadata": {
    "execution": {
     "iopub.execute_input": "2025-08-27T21:48:02.013171Z",
     "iopub.status.busy": "2025-08-27T21:48:02.012982Z",
     "iopub.status.idle": "2025-08-27T21:48:02.015503Z",
     "shell.execute_reply": "2025-08-27T21:48:02.015153Z"
    }
   },
   "outputs": [],
   "source": [
    "sigma = 0.0000001\n",
    "num_time_steps = 100\n",
    "model = BDTTree(sigma, num_time_steps)"
   ]
  },
  {
   "cell_type": "code",
   "execution_count": 39,
   "metadata": {
    "execution": {
     "iopub.execute_input": "2025-08-27T21:48:02.017243Z",
     "iopub.status.busy": "2025-08-27T21:48:02.017062Z",
     "iopub.status.idle": "2025-08-27T21:48:02.021661Z",
     "shell.execute_reply": "2025-08-27T21:48:02.021297Z"
    }
   },
   "outputs": [
    {
     "name": "stdout",
     "output_type": "stream",
     "text": [
      "PAY Value: 6311.83846\n",
      "REC Value:   0.00000\n",
      "PAY - REC: 6311.83846\n"
     ]
    }
   ],
   "source": [
    "value_pay = europeanBermSwaptionPay.value(value_dt, libor_curve, model)\n",
    "value_rec = europeanBermSwaptionRec.value(value_dt, libor_curve, model)\n",
    "valuePayRec = value_pay - value_rec\n",
    "print(\"PAY Value: %9.5f\"% value_pay)\n",
    "print(\"REC Value: %9.5f\"% value_rec)\n",
    "print(\"PAY - REC: %9.5f\"% valuePayRec)"
   ]
  },
  {
   "cell_type": "code",
   "execution_count": 40,
   "metadata": {
    "execution": {
     "iopub.execute_input": "2025-08-27T21:48:02.023245Z",
     "iopub.status.busy": "2025-08-27T21:48:02.023062Z",
     "iopub.status.idle": "2025-08-27T21:48:02.025288Z",
     "shell.execute_reply": "2025-08-27T21:48:02.024883Z"
    }
   },
   "outputs": [],
   "source": [
    "sigma = 0.20\n",
    "num_time_steps = 100\n",
    "model = BDTTree(sigma, num_time_steps)"
   ]
  },
  {
   "cell_type": "code",
   "execution_count": 41,
   "metadata": {
    "execution": {
     "iopub.execute_input": "2025-08-27T21:48:02.026940Z",
     "iopub.status.busy": "2025-08-27T21:48:02.026687Z",
     "iopub.status.idle": "2025-08-27T21:48:02.031333Z",
     "shell.execute_reply": "2025-08-27T21:48:02.030920Z"
    }
   },
   "outputs": [
    {
     "name": "stdout",
     "output_type": "stream",
     "text": [
      "PAY Value: 15937.51370\n",
      "REC Value: 9618.31192\n",
      "PAY - REC: 6319.20178\n"
     ]
    }
   ],
   "source": [
    "value_pay = europeanBermSwaptionPay.value(value_dt, libor_curve, model)\n",
    "value_rec = europeanBermSwaptionRec.value(value_dt, libor_curve, model)\n",
    "valuePayRec = value_pay - value_rec\n",
    "print(\"PAY Value: %9.5f\"% value_pay)\n",
    "print(\"REC Value: %9.5f\"% value_rec)\n",
    "print(\"PAY - REC: %9.5f\"% valuePayRec)"
   ]
  },
  {
   "cell_type": "markdown",
   "metadata": {},
   "source": [
    "### Hull White Model"
   ]
  },
  {
   "cell_type": "code",
   "execution_count": 42,
   "metadata": {
    "execution": {
     "iopub.execute_input": "2025-08-27T21:48:02.032915Z",
     "iopub.status.busy": "2025-08-27T21:48:02.032702Z",
     "iopub.status.idle": "2025-08-27T21:48:02.034923Z",
     "shell.execute_reply": "2025-08-27T21:48:02.034569Z"
    }
   },
   "outputs": [],
   "source": [
    "sigma = 0.0000001\n",
    "a = 0.01\n",
    "num_time_steps = 101\n",
    "model = HWTree(sigma, a, num_time_steps)"
   ]
  },
  {
   "cell_type": "code",
   "execution_count": 43,
   "metadata": {
    "execution": {
     "iopub.execute_input": "2025-08-27T21:48:02.036460Z",
     "iopub.status.busy": "2025-08-27T21:48:02.036213Z",
     "iopub.status.idle": "2025-08-27T21:48:03.370478Z",
     "shell.execute_reply": "2025-08-27T21:48:03.370095Z"
    }
   },
   "outputs": [
    {
     "name": "stdout",
     "output_type": "stream",
     "text": [
      "PAY Value: 6314.50332\n",
      "REC Value:   0.00000\n",
      "PAY - REC: 6314.50332\n"
     ]
    }
   ],
   "source": [
    "value_pay = europeanBermSwaptionPay.value(value_dt, libor_curve, model)\n",
    "value_rec = europeanBermSwaptionRec.value(value_dt, libor_curve, model)\n",
    "valuePayRec = value_pay - value_rec\n",
    "print(\"PAY Value: %9.5f\"% value_pay)\n",
    "print(\"REC Value: %9.5f\"% value_rec)\n",
    "print(\"PAY - REC: %9.5f\"% valuePayRec)"
   ]
  },
  {
   "cell_type": "code",
   "execution_count": 44,
   "metadata": {
    "execution": {
     "iopub.execute_input": "2025-08-27T21:48:03.372445Z",
     "iopub.status.busy": "2025-08-27T21:48:03.372128Z",
     "iopub.status.idle": "2025-08-27T21:48:03.374699Z",
     "shell.execute_reply": "2025-08-27T21:48:03.374399Z"
    }
   },
   "outputs": [],
   "source": [
    "sigma = 0.20 * rate\n",
    "a = 0.01\n",
    "num_time_steps = 101\n",
    "model = HWTree(sigma, a, num_time_steps)"
   ]
  },
  {
   "cell_type": "code",
   "execution_count": 45,
   "metadata": {
    "execution": {
     "iopub.execute_input": "2025-08-27T21:48:03.376604Z",
     "iopub.status.busy": "2025-08-27T21:48:03.376349Z",
     "iopub.status.idle": "2025-08-27T21:48:03.381724Z",
     "shell.execute_reply": "2025-08-27T21:48:03.381414Z"
    }
   },
   "outputs": [
    {
     "name": "stdout",
     "output_type": "stream",
     "text": [
      "PAY Value: 16237.06135\n",
      "REC Value: 9922.55803\n",
      "PAY - REC: 6314.50332\n"
     ]
    }
   ],
   "source": [
    "value_pay = europeanBermSwaptionPay.value(value_dt, libor_curve, model)\n",
    "value_rec = europeanBermSwaptionRec.value(value_dt, libor_curve, model)\n",
    "valuePayRec = value_pay - value_rec\n",
    "print(\"PAY Value: %9.5f\"% value_pay)\n",
    "print(\"REC Value: %9.5f\"% value_rec)\n",
    "print(\"PAY - REC: %9.5f\"% valuePayRec)"
   ]
  },
  {
   "cell_type": "markdown",
   "metadata": {},
   "source": [
    "# Now allow Multiple Exercise Dates - Bermudan"
   ]
  },
  {
   "cell_type": "markdown",
   "metadata": {},
   "source": [
    "Now allow exercise on ALL cpn dates PLUS expiry."
   ]
  },
  {
   "cell_type": "code",
   "execution_count": 46,
   "metadata": {
    "execution": {
     "iopub.execute_input": "2025-08-27T21:48:03.383601Z",
     "iopub.status.busy": "2025-08-27T21:48:03.383349Z",
     "iopub.status.idle": "2025-08-27T21:48:03.385686Z",
     "shell.execute_reply": "2025-08-27T21:48:03.385319Z"
    }
   },
   "outputs": [],
   "source": [
    "bermudan_swaption_pay = IborBermudanSwaption(settle_dt,\n",
    "                                               exercise_dt,\n",
    "                                               swap_maturity_dt,\n",
    "                                               SwapTypes.PAY,\n",
    "                                               FinExerciseTypes.BERMUDAN,\n",
    "                                               swap_fixed_cpn,\n",
    "                                               swap_fixed_freq_type,\n",
    "                                               swapFixedDayCountType)"
   ]
  },
  {
   "cell_type": "code",
   "execution_count": 47,
   "metadata": {
    "execution": {
     "iopub.execute_input": "2025-08-27T21:48:03.387274Z",
     "iopub.status.busy": "2025-08-27T21:48:03.387041Z",
     "iopub.status.idle": "2025-08-27T21:48:03.389300Z",
     "shell.execute_reply": "2025-08-27T21:48:03.388946Z"
    }
   },
   "outputs": [],
   "source": [
    "bermudan_swaption_rec = IborBermudanSwaption(settle_dt,\n",
    "                                               exercise_dt,\n",
    "                                               swap_maturity_dt,\n",
    "                                               SwapTypes.RECEIVE,\n",
    "                                               FinExerciseTypes.BERMUDAN,\n",
    "                                               swap_fixed_cpn,\n",
    "                                               swap_fixed_freq_type,\n",
    "                                               swapFixedDayCountType)"
   ]
  },
  {
   "cell_type": "markdown",
   "metadata": {},
   "source": [
    "### Black Karasinski Model"
   ]
  },
  {
   "cell_type": "code",
   "execution_count": 48,
   "metadata": {
    "execution": {
     "iopub.execute_input": "2025-08-27T21:48:03.390915Z",
     "iopub.status.busy": "2025-08-27T21:48:03.390656Z",
     "iopub.status.idle": "2025-08-27T21:48:03.393368Z",
     "shell.execute_reply": "2025-08-27T21:48:03.393018Z"
    }
   },
   "outputs": [],
   "source": [
    "sigma = 0.20\n",
    "a = 0.01\n",
    "num_time_steps = 100\n",
    "model = BKTree(sigma, a, num_time_steps)"
   ]
  },
  {
   "cell_type": "code",
   "execution_count": 49,
   "metadata": {
    "execution": {
     "iopub.execute_input": "2025-08-27T21:48:03.394864Z",
     "iopub.status.busy": "2025-08-27T21:48:03.394688Z",
     "iopub.status.idle": "2025-08-27T21:48:03.400634Z",
     "shell.execute_reply": "2025-08-27T21:48:03.400185Z"
    }
   },
   "outputs": [
    {
     "name": "stdout",
     "output_type": "stream",
     "text": [
      "PAY Value: 19235.85760\n",
      "REC Value: 13043.39490\n",
      "PAY - REC: 6192.46270\n"
     ]
    }
   ],
   "source": [
    "value_pay = bermudan_swaption_pay.value(value_dt, libor_curve, model)\n",
    "value_rec = bermudan_swaption_rec.value(value_dt, libor_curve, model)\n",
    "valuePayRec = value_pay - value_rec\n",
    "print(\"PAY Value: %9.5f\"% value_pay)\n",
    "print(\"REC Value: %9.5f\"% value_rec)\n",
    "print(\"PAY - REC: %9.5f\"% valuePayRec)"
   ]
  },
  {
   "cell_type": "markdown",
   "metadata": {},
   "source": [
    "### Black-Derman-Toy Model"
   ]
  },
  {
   "cell_type": "code",
   "execution_count": 50,
   "metadata": {
    "execution": {
     "iopub.execute_input": "2025-08-27T21:48:03.402306Z",
     "iopub.status.busy": "2025-08-27T21:48:03.402009Z",
     "iopub.status.idle": "2025-08-27T21:48:03.404759Z",
     "shell.execute_reply": "2025-08-27T21:48:03.404302Z"
    }
   },
   "outputs": [],
   "source": [
    "sigma = 0.20\n",
    "num_time_steps = 100\n",
    "model = BDTTree(sigma, num_time_steps)"
   ]
  },
  {
   "cell_type": "code",
   "execution_count": 51,
   "metadata": {
    "execution": {
     "iopub.execute_input": "2025-08-27T21:48:03.406297Z",
     "iopub.status.busy": "2025-08-27T21:48:03.406114Z",
     "iopub.status.idle": "2025-08-27T21:48:03.410802Z",
     "shell.execute_reply": "2025-08-27T21:48:03.410447Z"
    }
   },
   "outputs": [
    {
     "name": "stdout",
     "output_type": "stream",
     "text": [
      "PAY Value: 19500.06870\n",
      "REC Value: 13318.31315\n",
      "PAY - REC: 6181.75555\n"
     ]
    }
   ],
   "source": [
    "value_pay = bermudan_swaption_pay.value(settle_dt, libor_curve, model)\n",
    "value_rec = bermudan_swaption_rec.value(settle_dt, libor_curve, model)\n",
    "valuePayRec = value_pay - value_rec\n",
    "print(\"PAY Value: %9.5f\"% value_pay)\n",
    "print(\"REC Value: %9.5f\"% value_rec)\n",
    "print(\"PAY - REC: %9.5f\"% valuePayRec)"
   ]
  },
  {
   "cell_type": "markdown",
   "metadata": {},
   "source": [
    "### Hull-White Model"
   ]
  },
  {
   "cell_type": "code",
   "execution_count": 52,
   "metadata": {
    "execution": {
     "iopub.execute_input": "2025-08-27T21:48:03.412355Z",
     "iopub.status.busy": "2025-08-27T21:48:03.412090Z",
     "iopub.status.idle": "2025-08-27T21:48:03.414415Z",
     "shell.execute_reply": "2025-08-27T21:48:03.414047Z"
    }
   },
   "outputs": [],
   "source": [
    "sigma = 0.01\n",
    "a = 0.01\n",
    "num_time_steps = 100\n",
    "model = HWTree(sigma, a)"
   ]
  },
  {
   "cell_type": "code",
   "execution_count": 53,
   "metadata": {
    "execution": {
     "iopub.execute_input": "2025-08-27T21:48:03.416024Z",
     "iopub.status.busy": "2025-08-27T21:48:03.415770Z",
     "iopub.status.idle": "2025-08-27T21:48:03.421561Z",
     "shell.execute_reply": "2025-08-27T21:48:03.421146Z"
    }
   },
   "outputs": [
    {
     "name": "stdout",
     "output_type": "stream",
     "text": [
      "PAY Value: 16578.58987\n",
      "REC Value: 10406.29704\n",
      "PAY - REC: 6172.29283\n"
     ]
    }
   ],
   "source": [
    "value_pay = bermudan_swaption_pay.value(settle_dt, libor_curve, model)\n",
    "value_rec = bermudan_swaption_rec.value(settle_dt, libor_curve, model)\n",
    "valuePayRec = value_pay - value_rec\n",
    "print(\"PAY Value: %9.5f\"% value_pay)\n",
    "print(\"REC Value: %9.5f\"% value_rec)\n",
    "print(\"PAY - REC: %9.5f\"% valuePayRec)"
   ]
  },
  {
   "cell_type": "markdown",
   "metadata": {},
   "source": [
    "The swaption is Bermudan so it can only be exercised on cpn payment dates"
   ]
  },
  {
   "cell_type": "markdown",
   "metadata": {},
   "source": [
    "Copyright (c) 2020 Dominic O'Kane"
   ]
  }
 ],
 "metadata": {
  "kernelspec": {
   "display_name": "base",
   "language": "python",
   "name": "python3"
  },
  "language_info": {
   "codemirror_mode": {
    "name": "ipython",
    "version": 3
   },
   "file_extension": ".py",
   "mimetype": "text/x-python",
   "name": "python",
   "nbconvert_exporter": "python",
   "pygments_lexer": "ipython3",
   "version": "3.13.5"
  }
 },
 "nbformat": 4,
 "nbformat_minor": 2
}
