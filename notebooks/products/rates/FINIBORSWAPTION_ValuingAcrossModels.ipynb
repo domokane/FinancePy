{
    "cells": [
        {
            "cell_type": "markdown",
            "metadata": {},
            "source": [
                "# Valuing European-Style Swaptions Across Models"
            ]
        },
        {
            "cell_type": "code",
            "execution_count": 1,
            "metadata": {
                "execution": {
                    "iopub.execute_input": "2024-04-30T20:34:02.760324Z",
                    "iopub.status.busy": "2024-04-30T20:34:02.759318Z",
                    "iopub.status.idle": "2024-04-30T20:34:03.467048Z",
                    "shell.execute_reply": "2024-04-30T20:34:03.467048Z"
                }
            },
            "outputs": [],
            "source": [
                "import numpy as np\n",
                "import matplotlib.pyplot as plt"
            ]
        },
        {
            "cell_type": "code",
            "execution_count": 2,
            "metadata": {
                "execution": {
                    "iopub.execute_input": "2024-04-30T20:34:03.470094Z",
                    "iopub.status.busy": "2024-04-30T20:34:03.469096Z",
                    "iopub.status.idle": "2024-04-30T20:34:04.843543Z",
                    "shell.execute_reply": "2024-04-30T20:34:04.842930Z"
                }
            },
            "outputs": [
                {
                    "name": "stdout",
                    "output_type": "stream",
                    "text": [
                        "####################################################################\n",
                        "#  FINANCEPY BETA Version 0.350 - This build: 30 Apr 2024 at 22:32 #\n",
                        "#     This software is distributed FREE AND WITHOUT ANY WARRANTY   #\n",
                        "#  Report bugs as issues at https://github.com/domokane/FinancePy  #\n",
                        "####################################################################\n",
                        "\n"
                    ]
                }
            ],
            "source": [
                "from financepy.products.rates import *\n",
                "from financepy.utils import *\n",
                "from financepy.products.rates.ibor_single_curve import IborSingleCurve\n",
                "from financepy.market.curves.interpolator import InterpTypes"
            ]
        },
        {
            "cell_type": "markdown",
            "metadata": {},
            "source": [
                "## Building a Libor Discount Curve"
            ]
        },
        {
            "cell_type": "code",
            "execution_count": 3,
            "metadata": {
                "execution": {
                    "iopub.execute_input": "2024-04-30T20:34:04.845569Z",
                    "iopub.status.busy": "2024-04-30T20:34:04.845569Z",
                    "iopub.status.idle": "2024-04-30T20:34:04.865703Z",
                    "shell.execute_reply": "2024-04-30T20:34:04.865703Z"
                }
            },
            "outputs": [],
            "source": [
                "value_dt = Date(28, 2, 2014)\n",
                "settle_dt = Date(4, 3, 2014)"
            ]
        },
        {
            "cell_type": "markdown",
            "metadata": {},
            "source": [
                "We have a vector of dates and zero rates"
            ]
        },
        {
            "cell_type": "code",
            "execution_count": 4,
            "metadata": {
                "execution": {
                    "iopub.execute_input": "2024-04-30T20:34:04.868341Z",
                    "iopub.status.busy": "2024-04-30T20:34:04.868341Z",
                    "iopub.status.idle": "2024-04-30T20:34:04.987312Z",
                    "shell.execute_reply": "2024-04-30T20:34:04.987312Z"
                }
            },
            "outputs": [],
            "source": [
                "depo_dcc_type = DayCountTypes.THIRTY_E_360_ISDA\n",
                "depos = []\n",
                "\n",
                "depo = IborDeposit(settle_dt, \"1W\", 0.0023, depo_dcc_type); depos.append(depo)\n",
                "depo = IborDeposit(settle_dt, \"1M\", 0.0023, depo_dcc_type); depos.append(depo)\n",
                "depo = IborDeposit(settle_dt, \"3M\", 0.0023, depo_dcc_type); depos.append(depo)\n",
                "depo = IborDeposit(settle_dt, \"6M\", 0.0023, depo_dcc_type); depos.append(depo)\n",
                "\n",
                "# No convexity correction provided so I omit interest rate futures\n",
                "\n",
                "swaps = []\n",
                "swap_type = SwapTypes.PAY\n",
                "fixed_dcc_type = DayCountTypes.ACT_365F\n",
                "fixed_freq_type = FrequencyTypes.SEMI_ANNUAL\n",
                "\n",
                "swap = IborSwap(settle_dt, \"3Y\", swap_type, 0.00790, fixed_freq_type, fixed_dcc_type); swaps.append(swap)\n",
                "swap = IborSwap(settle_dt, \"4Y\", swap_type, 0.01200, fixed_freq_type, fixed_dcc_type); swaps.append(swap)\n",
                "swap = IborSwap(settle_dt, \"5Y\", swap_type, 0.01570, fixed_freq_type, fixed_dcc_type); swaps.append(swap)\n",
                "swap = IborSwap(settle_dt, \"6Y\", swap_type, 0.01865, fixed_freq_type, fixed_dcc_type); swaps.append(swap)\n",
                "swap = IborSwap(settle_dt, \"7Y\", swap_type, 0.02160, fixed_freq_type, fixed_dcc_type); swaps.append(swap)\n",
                "swap = IborSwap(settle_dt, \"8Y\", swap_type, 0.02350, fixed_freq_type, fixed_dcc_type); swaps.append(swap)\n",
                "swap = IborSwap(settle_dt, \"9Y\", swap_type, 0.02540, fixed_freq_type, fixed_dcc_type); swaps.append(swap)\n",
                "swap = IborSwap(settle_dt, \"10Y\", swap_type, 0.0273, fixed_freq_type, fixed_dcc_type); swaps.append(swap)\n",
                "swap = IborSwap(settle_dt, \"15Y\", swap_type, 0.0297, fixed_freq_type, fixed_dcc_type); swaps.append(swap)\n",
                "swap = IborSwap(settle_dt, \"20Y\", swap_type, 0.0316, fixed_freq_type, fixed_dcc_type); swaps.append(swap)\n",
                "swap = IborSwap(settle_dt, \"25Y\", swap_type, 0.0335, fixed_freq_type, fixed_dcc_type); swaps.append(swap)\n",
                "swap = IborSwap(settle_dt, \"30Y\", swap_type, 0.0354, fixed_freq_type, fixed_dcc_type); swaps.append(swap)\n",
                "\n",
                "libor_curve = IborSingleCurve(value_dt, depos, [], swaps)"
            ]
        },
        {
            "cell_type": "code",
            "execution_count": 5,
            "metadata": {
                "execution": {
                    "iopub.execute_input": "2024-04-30T20:34:04.990356Z",
                    "iopub.status.busy": "2024-04-30T20:34:04.990356Z",
                    "iopub.status.idle": "2024-04-30T20:34:04.993853Z",
                    "shell.execute_reply": "2024-04-30T20:34:04.993853Z"
                }
            },
            "outputs": [],
            "source": [
                "exercise_dt = settle_dt.add_tenor(\"5Y\")\n",
                "swap_maturity_dt = exercise_dt.add_tenor(\"5Y\")\n",
                "swap_fixed_cpn = 0.040852\n",
                "swap_fixed_freq_type = FrequencyTypes.SEMI_ANNUAL\n",
                "swapFixedDayCountType = DayCountTypes.THIRTY_E_360_ISDA\n",
                "swapFloatFrequencyType = FrequencyTypes.QUARTERLY\n",
                "swapFloatDayCountType = DayCountTypes.ACT_360\n",
                "swapNotional = ONE_MILLION\n",
                "swap_type = SwapTypes.PAY  \n",
                "cal_type = CalendarTypes.WEEKEND\n",
                "bd_type = BusDayAdjustTypes.NONE\n",
                "dg_type = DateGenRuleTypes.BACKWARD"
            ]
        },
        {
            "cell_type": "code",
            "execution_count": 6,
            "metadata": {
                "execution": {
                    "iopub.execute_input": "2024-04-30T20:34:04.995855Z",
                    "iopub.status.busy": "2024-04-30T20:34:04.995855Z",
                    "iopub.status.idle": "2024-04-30T20:34:04.999081Z",
                    "shell.execute_reply": "2024-04-30T20:34:04.999081Z"
                }
            },
            "outputs": [],
            "source": [
                "swaption = IborSwaption(settle_dt,\n",
                "                            exercise_dt,\n",
                "                            swap_maturity_dt,\n",
                "                            swap_type,\n",
                "                            swap_fixed_cpn,\n",
                "                            swap_fixed_freq_type,\n",
                "                            swapFixedDayCountType, \n",
                "                            swapNotional, \n",
                "                            swapFloatFrequencyType,\n",
                "                            swapFloatDayCountType,\n",
                "                            cal_type, \n",
                "                            bd_type,\n",
                "                            dg_type)"
            ]
        },
        {
            "cell_type": "markdown",
            "metadata": {},
            "source": [
                "## Valuation using Black's Model"
            ]
        },
        {
            "cell_type": "code",
            "execution_count": 7,
            "metadata": {
                "execution": {
                    "iopub.execute_input": "2024-04-30T20:34:05.001111Z",
                    "iopub.status.busy": "2024-04-30T20:34:05.001111Z",
                    "iopub.status.idle": "2024-04-30T20:34:05.004401Z",
                    "shell.execute_reply": "2024-04-30T20:34:05.004165Z"
                }
            },
            "outputs": [],
            "source": [
                "model = Black(0.1533)"
            ]
        },
        {
            "cell_type": "code",
            "execution_count": 8,
            "metadata": {
                "execution": {
                    "iopub.execute_input": "2024-04-30T20:34:05.006400Z",
                    "iopub.status.busy": "2024-04-30T20:34:05.006400Z",
                    "iopub.status.idle": "2024-04-30T20:34:05.012844Z",
                    "shell.execute_reply": "2024-04-30T20:34:05.012844Z"
                }
            },
            "outputs": [
                {
                    "data": {
                        "text/plain": [
                            "23177.882452968337"
                        ]
                    },
                    "execution_count": 8,
                    "metadata": {},
                    "output_type": "execute_result"
                }
            ],
            "source": [
                "swaption.value(settle_dt, libor_curve, model)"
            ]
        },
        {
            "cell_type": "markdown",
            "metadata": {},
            "source": [
                "## Valuation using Shifted Black"
            ]
        },
        {
            "cell_type": "code",
            "execution_count": 9,
            "metadata": {
                "execution": {
                    "iopub.execute_input": "2024-04-30T20:34:05.015352Z",
                    "iopub.status.busy": "2024-04-30T20:34:05.015352Z",
                    "iopub.status.idle": "2024-04-30T20:34:05.017747Z",
                    "shell.execute_reply": "2024-04-30T20:34:05.017747Z"
                }
            },
            "outputs": [],
            "source": [
                "model = BlackShifted(0.1533, 0.008)"
            ]
        },
        {
            "cell_type": "code",
            "execution_count": 10,
            "metadata": {
                "execution": {
                    "iopub.execute_input": "2024-04-30T20:34:05.019749Z",
                    "iopub.status.busy": "2024-04-30T20:34:05.019749Z",
                    "iopub.status.idle": "2024-04-30T20:34:05.024389Z",
                    "shell.execute_reply": "2024-04-30T20:34:05.024306Z"
                }
            },
            "outputs": [
                {
                    "data": {
                        "text/plain": [
                            "27708.379573470575"
                        ]
                    },
                    "execution_count": 10,
                    "metadata": {},
                    "output_type": "execute_result"
                }
            ],
            "source": [
                "swaption.value(settle_dt, libor_curve, model)"
            ]
        },
        {
            "cell_type": "markdown",
            "metadata": {},
            "source": [
                "##  Valuation using SABR"
            ]
        },
        {
            "cell_type": "code",
            "execution_count": 11,
            "metadata": {
                "execution": {
                    "iopub.execute_input": "2024-04-30T20:34:05.026386Z",
                    "iopub.status.busy": "2024-04-30T20:34:05.026386Z",
                    "iopub.status.idle": "2024-04-30T20:34:05.029054Z",
                    "shell.execute_reply": "2024-04-30T20:34:05.029054Z"
                }
            },
            "outputs": [],
            "source": [
                "model = SABR(0.132, 0.5, 0.5, 0.5)"
            ]
        },
        {
            "cell_type": "code",
            "execution_count": 12,
            "metadata": {
                "execution": {
                    "iopub.execute_input": "2024-04-30T20:34:05.031081Z",
                    "iopub.status.busy": "2024-04-30T20:34:05.031081Z",
                    "iopub.status.idle": "2024-04-30T20:34:05.035857Z",
                    "shell.execute_reply": "2024-04-30T20:34:05.035629Z"
                }
            },
            "outputs": [
                {
                    "data": {
                        "text/plain": [
                            "104569.44966320758"
                        ]
                    },
                    "execution_count": 12,
                    "metadata": {},
                    "output_type": "execute_result"
                }
            ],
            "source": [
                "swaption.value(settle_dt, libor_curve, model)"
            ]
        },
        {
            "cell_type": "markdown",
            "metadata": {},
            "source": [
                "## Valuation using Shifted SABR"
            ]
        },
        {
            "cell_type": "code",
            "execution_count": 13,
            "metadata": {
                "execution": {
                    "iopub.execute_input": "2024-04-30T20:34:05.037856Z",
                    "iopub.status.busy": "2024-04-30T20:34:05.037856Z",
                    "iopub.status.idle": "2024-04-30T20:34:05.040449Z",
                    "shell.execute_reply": "2024-04-30T20:34:05.040449Z"
                }
            },
            "outputs": [],
            "source": [
                "model = SABRShifted(0.1, 0.2, 0.1, 0.15, -0.005)"
            ]
        },
        {
            "cell_type": "code",
            "execution_count": 14,
            "metadata": {
                "execution": {
                    "iopub.execute_input": "2024-04-30T20:34:05.042475Z",
                    "iopub.status.busy": "2024-04-30T20:34:05.042475Z",
                    "iopub.status.idle": "2024-04-30T20:34:05.446401Z",
                    "shell.execute_reply": "2024-04-30T20:34:05.446401Z"
                }
            },
            "outputs": [
                {
                    "data": {
                        "text/plain": [
                            "163421.29261737553"
                        ]
                    },
                    "execution_count": 14,
                    "metadata": {},
                    "output_type": "execute_result"
                }
            ],
            "source": [
                "swaption.value(settle_dt, libor_curve, model)"
            ]
        },
        {
            "cell_type": "markdown",
            "metadata": {},
            "source": [
                "## Valuation using Hull-White"
            ]
        },
        {
            "cell_type": "code",
            "execution_count": 15,
            "metadata": {
                "execution": {
                    "iopub.execute_input": "2024-04-30T20:34:05.449061Z",
                    "iopub.status.busy": "2024-04-30T20:34:05.449061Z",
                    "iopub.status.idle": "2024-04-30T20:34:05.451402Z",
                    "shell.execute_reply": "2024-04-30T20:34:05.451402Z"
                }
            },
            "outputs": [],
            "source": [
                "model = HWTree(0.01, 0.02)"
            ]
        },
        {
            "cell_type": "code",
            "execution_count": 16,
            "metadata": {
                "execution": {
                    "iopub.execute_input": "2024-04-30T20:34:05.453431Z",
                    "iopub.status.busy": "2024-04-30T20:34:05.453431Z",
                    "iopub.status.idle": "2024-04-30T20:34:05.488004Z",
                    "shell.execute_reply": "2024-04-30T20:34:05.488004Z"
                }
            },
            "outputs": [
                {
                    "data": {
                        "text/plain": [
                            "34265.48386017303"
                        ]
                    },
                    "execution_count": 16,
                    "metadata": {},
                    "output_type": "execute_result"
                }
            ],
            "source": [
                "swaption.value(settle_dt, libor_curve, model)"
            ]
        },
        {
            "cell_type": "markdown",
            "metadata": {},
            "source": [
                "## Valuation using Black-Karasinski"
            ]
        },
        {
            "cell_type": "code",
            "execution_count": 17,
            "metadata": {
                "execution": {
                    "iopub.execute_input": "2024-04-30T20:34:05.490632Z",
                    "iopub.status.busy": "2024-04-30T20:34:05.490632Z",
                    "iopub.status.idle": "2024-04-30T20:34:05.493217Z",
                    "shell.execute_reply": "2024-04-30T20:34:05.493217Z"
                }
            },
            "outputs": [],
            "source": [
                "model = BKTree(0.2, 0.05)"
            ]
        },
        {
            "cell_type": "code",
            "execution_count": 18,
            "metadata": {
                "execution": {
                    "iopub.execute_input": "2024-04-30T20:34:05.495247Z",
                    "iopub.status.busy": "2024-04-30T20:34:05.495247Z",
                    "iopub.status.idle": "2024-04-30T20:34:05.549638Z",
                    "shell.execute_reply": "2024-04-30T20:34:05.549638Z"
                }
            },
            "outputs": [
                {
                    "data": {
                        "text/plain": [
                            "23574.204474888083"
                        ]
                    },
                    "execution_count": 18,
                    "metadata": {},
                    "output_type": "execute_result"
                }
            ],
            "source": [
                "swaption.value(settle_dt, libor_curve, model)"
            ]
        },
        {
            "cell_type": "markdown",
            "metadata": {},
            "source": [
                "## Internals"
            ]
        },
        {
            "cell_type": "code",
            "execution_count": 19,
            "metadata": {
                "execution": {
                    "iopub.execute_input": "2024-04-30T20:34:05.551669Z",
                    "iopub.status.busy": "2024-04-30T20:34:05.551669Z",
                    "iopub.status.idle": "2024-04-30T20:34:05.555651Z",
                    "shell.execute_reply": "2024-04-30T20:34:05.555415Z"
                }
            },
            "outputs": [
                {
                    "name": "stdout",
                    "output_type": "stream",
                    "text": [
                        "OBJECT TYPE: IborSwaption\n",
                        "SETTLEMENT DATE: 04-MAR-2014\n",
                        "EXERCISE DATE: 04-MAR-2019\n",
                        "SWAP FIXED LEG TYPE: SwapTypes.PAY\n",
                        "SWAP MATURITY DATE: 04-MAR-2024\n",
                        "SWAP NOTIONAL: 1000000\n",
                        "FIXED cpn: 4.0852\n",
                        "FIXED FREQUENCY: FrequencyTypes.SEMI_ANNUAL\n",
                        "FIXED DAY COUNT: DayCountTypes.THIRTY_E_360_ISDA\n",
                        "FLOAT FREQUENCY: FrequencyTypes.QUARTERLY\n",
                        "FLOAT DAY COUNT: DayCountTypes.ACT_360\n",
                        "PV01: 4.160180806485688\n",
                        "FWD SWAP RATE: 4.087013720473123\n",
                        "FWD DF TO EXPIRY: 0.923742186114948\n"
                    ]
                }
            ],
            "source": [
                "print(swaption)"
            ]
        },
        {
            "cell_type": "markdown",
            "metadata": {},
            "source": [
                "We can see that the forward swap rate almost equals the fixed cpn. The underlying swap is close to being ATM forward."
            ]
        },
        {
            "cell_type": "code",
            "execution_count": 20,
            "metadata": {
                "execution": {
                    "iopub.execute_input": "2024-04-30T20:34:05.557650Z",
                    "iopub.status.busy": "2024-04-30T20:34:05.557650Z",
                    "iopub.status.idle": "2024-04-30T20:34:05.562972Z",
                    "shell.execute_reply": "2024-04-30T20:34:05.562746Z"
                }
            },
            "outputs": [
                {
                    "name": "stdout",
                    "output_type": "stream",
                    "text": [
                        "START DATE: 04-MAR-2019\n",
                        "MATURITY DATE: 04-MAR-2024\n",
                        "COUPON (%): 4.0852\n",
                        "FREQUENCY: FrequencyTypes.SEMI_ANNUAL\n",
                        "DAY COUNT: DayCountTypes.THIRTY_E_360_ISDA\n",
                        "\n",
                        "PAYMENTS VALUATION:\n",
                        "+---------+-------------+----------+--------+---------+--------+----------+-----------+\n",
                        "| PAY_NUM |    PAY_dt   | NOTIONAL |  RATE  |   PMNT  |   DF   |    PV    |   CUM_PV  |\n",
                        "+---------+-------------+----------+--------+---------+--------+----------+-----------+\n",
                        "|    1    | 04-SEP-2019 | 1000000  | 4.0852 | 20426.0 | 0.908  | 18546.05 |  18546.05 |\n",
                        "|    2    | 04-MAR-2020 | 1000000  | 4.0852 | 20426.0 | 0.8926 | 18232.34 |  36778.39 |\n",
                        "|    3    | 04-SEP-2020 | 1000000  | 4.0852 | 20426.0 | 0.8744 | 17861.51 |  54639.89 |\n",
                        "|    4    | 04-MAR-2021 | 1000000  | 4.0852 | 20426.0 | 0.8569 | 17503.38 |  72143.27 |\n",
                        "|    5    | 04-SEP-2021 | 1000000  | 4.0852 | 20426.0 | 0.8405 | 17169.02 |  89312.29 |\n",
                        "|    6    | 04-MAR-2022 | 1000000  | 4.0852 | 20426.0 | 0.8248 | 16846.58 | 106158.88 |\n",
                        "|    7    | 04-SEP-2022 | 1000000  | 4.0852 | 20426.0 | 0.8073 | 16489.0  | 122647.88 |\n",
                        "|    8    | 04-MAR-2023 | 1000000  | 4.0852 | 20426.0 | 0.7904 | 16144.28 | 138792.15 |\n",
                        "|    9    | 04-SEP-2023 | 1000000  | 4.0852 | 20426.0 | 0.7718 | 15763.78 | 154555.93 |\n",
                        "|    10   | 04-MAR-2024 | 1000000  | 4.0852 | 20426.0 | 0.7537 | 15395.78 | 169951.71 |\n",
                        "+---------+-------------+----------+--------+---------+--------+----------+-----------+\n"
                    ]
                }
            ],
            "source": [
                "swaption.print_swap_fixed_leg()"
            ]
        },
        {
            "cell_type": "markdown",
            "metadata": {},
            "source": [
                "Copyright (c) 2020 Dominic O'Kane"
            ]
        }
    ],
    "metadata": {
        "kernelspec": {
            "display_name": "Python 3",
            "language": "python",
            "name": "python3"
        },
        "language_info": {
            "codemirror_mode": {
                "name": "ipython",
                "version": 3
            },
            "file_extension": ".py",
            "mimetype": "text/x-python",
            "name": "python",
            "nbconvert_exporter": "python",
            "pygments_lexer": "ipython3",
            "version": "3.11.5"
        }
    },
    "nbformat": 4,
    "nbformat_minor": 4
}