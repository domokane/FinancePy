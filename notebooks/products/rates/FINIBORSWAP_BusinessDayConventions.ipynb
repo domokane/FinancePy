{
 "cells": [
  {
   "cell_type": "markdown",
   "metadata": {},
   "source": [
    "# Building a Libor Curve - Business Day Conventions"
   ]
  },
  {
   "cell_type": "markdown",
   "metadata": {},
   "source": [
    "Examining role of conventions in determining swap flowsm"
   ]
  },
  {
   "cell_type": "code",
   "execution_count": 1,
   "metadata": {
    "execution": {
     "iopub.execute_input": "2025-08-27T21:51:20.438579Z",
     "iopub.status.busy": "2025-08-27T21:51:20.438337Z",
     "iopub.status.idle": "2025-08-27T21:51:20.913924Z",
     "shell.execute_reply": "2025-08-27T21:51:20.913512Z"
    }
   },
   "outputs": [],
   "source": [
    "import numpy as np\n",
    "import matplotlib.pyplot as plt"
   ]
  },
  {
   "cell_type": "code",
   "execution_count": 2,
   "metadata": {
    "execution": {
     "iopub.execute_input": "2025-08-27T21:51:20.916275Z",
     "iopub.status.busy": "2025-08-27T21:51:20.915684Z",
     "iopub.status.idle": "2025-08-27T21:51:22.496456Z",
     "shell.execute_reply": "2025-08-27T21:51:22.496098Z"
    }
   },
   "outputs": [
    {
     "name": "stdout",
     "output_type": "stream",
     "text": [
      "####################################################################\n",
      "#    FINANCEPY Version 1.1 - This build: 27 Aug 2025 at 23:27      #\n",
      "#     This software is distributed FREE AND WITHOUT ANY WARRANTY   #\n",
      "#  Report bugs as issues at https://github.com/domokane/FinancePy  #\n",
      "####################################################################\n",
      "\n"
     ]
    }
   ],
   "source": [
    "from financepy.utils import *\n",
    "from financepy.products.rates import *"
   ]
  },
  {
   "cell_type": "markdown",
   "metadata": {},
   "source": [
    "## Creating the Swap"
   ]
  },
  {
   "cell_type": "code",
   "execution_count": 3,
   "metadata": {
    "execution": {
     "iopub.execute_input": "2025-08-27T21:51:22.498557Z",
     "iopub.status.busy": "2025-08-27T21:51:22.498272Z",
     "iopub.status.idle": "2025-08-27T21:51:22.516535Z",
     "shell.execute_reply": "2025-08-27T21:51:22.516157Z"
    }
   },
   "outputs": [],
   "source": [
    "value_dt = Date(26, 2, 2008)"
   ]
  },
  {
   "cell_type": "code",
   "execution_count": 4,
   "metadata": {
    "execution": {
     "iopub.execute_input": "2025-08-27T21:51:22.518413Z",
     "iopub.status.busy": "2025-08-27T21:51:22.518201Z",
     "iopub.status.idle": "2025-08-27T21:51:22.520471Z",
     "shell.execute_reply": "2025-08-27T21:51:22.520180Z"
    }
   },
   "outputs": [],
   "source": [
    "swap_type = SwapTypes.PAY"
   ]
  },
  {
   "cell_type": "code",
   "execution_count": 5,
   "metadata": {
    "execution": {
     "iopub.execute_input": "2025-08-27T21:51:22.522239Z",
     "iopub.status.busy": "2025-08-27T21:51:22.521966Z",
     "iopub.status.idle": "2025-08-27T21:51:22.524200Z",
     "shell.execute_reply": "2025-08-27T21:51:22.523864Z"
    }
   },
   "outputs": [],
   "source": [
    "spot_days = 2"
   ]
  },
  {
   "cell_type": "code",
   "execution_count": 6,
   "metadata": {
    "execution": {
     "iopub.execute_input": "2025-08-27T21:51:22.525996Z",
     "iopub.status.busy": "2025-08-27T21:51:22.525733Z",
     "iopub.status.idle": "2025-08-27T21:51:22.533261Z",
     "shell.execute_reply": "2025-08-27T21:51:22.532805Z"
    }
   },
   "outputs": [],
   "source": [
    "effective_dt = value_dt.add_weekdays(spot_days)"
   ]
  },
  {
   "cell_type": "code",
   "execution_count": 7,
   "metadata": {
    "execution": {
     "iopub.execute_input": "2025-08-27T21:51:22.534823Z",
     "iopub.status.busy": "2025-08-27T21:51:22.534646Z",
     "iopub.status.idle": "2025-08-27T21:51:22.537013Z",
     "shell.execute_reply": "2025-08-27T21:51:22.536657Z"
    }
   },
   "outputs": [],
   "source": [
    "maturity_dt = Date(28, 2, 2011)"
   ]
  },
  {
   "cell_type": "code",
   "execution_count": 8,
   "metadata": {
    "execution": {
     "iopub.execute_input": "2025-08-27T21:51:22.538510Z",
     "iopub.status.busy": "2025-08-27T21:51:22.538349Z",
     "iopub.status.idle": "2025-08-27T21:51:22.540418Z",
     "shell.execute_reply": "2025-08-27T21:51:22.540090Z"
    }
   },
   "outputs": [],
   "source": [
    "swap_rate = 0.050"
   ]
  },
  {
   "cell_type": "markdown",
   "metadata": {},
   "source": [
    "### Calendar Types is NONE"
   ]
  },
  {
   "cell_type": "code",
   "execution_count": 9,
   "metadata": {
    "execution": {
     "iopub.execute_input": "2025-08-27T21:51:22.542000Z",
     "iopub.status.busy": "2025-08-27T21:51:22.541732Z",
     "iopub.status.idle": "2025-08-27T21:51:22.544403Z",
     "shell.execute_reply": "2025-08-27T21:51:22.544077Z"
    }
   },
   "outputs": [],
   "source": [
    "swap = IborSwap(effective_dt,\n",
    "                    maturity_dt,\n",
    "                    swap_type,\n",
    "                    swap_rate,\n",
    "                    fixed_freq_type=FrequencyTypes.SEMI_ANNUAL,\n",
    "                    fixed_dc_type= DayCountTypes.ACT_360,\n",
    "                    cal_type = CalendarTypes.NONE,\n",
    "                    bd_type=BusDayAdjustTypes.MODIFIED_FOLLOWING)"
   ]
  },
  {
   "cell_type": "code",
   "execution_count": 10,
   "metadata": {
    "execution": {
     "iopub.execute_input": "2025-08-27T21:51:22.545864Z",
     "iopub.status.busy": "2025-08-27T21:51:22.545693Z",
     "iopub.status.idle": "2025-08-27T21:51:22.548536Z",
     "shell.execute_reply": "2025-08-27T21:51:22.548206Z"
    }
   },
   "outputs": [
    {
     "name": "stdout",
     "output_type": "stream",
     "text": [
      "START DATE: 28-FEB-2008\n",
      "MATURITY DATE: 28-FEB-2011\n",
      "COUPON (%): 5.0\n",
      "FREQUENCY: FrequencyTypes.SEMI_ANNUAL\n",
      "DAY COUNT: DayCountTypes.ACT_360\n",
      "\n",
      "PAYMENTS SCHEDULE:\n",
      "PAY_NUM | PAY_dt      | ACCR_START  | ACCR_END    | DAYS  | YEARFRAC | RATE | PMNT    \n",
      "--------+-------------+-------------+-------------+-------+----------+------+---------\n",
      "      1 | 28-AUG-2008 | 28-FEB-2008 | 28-AUG-2008 | 182.0 |   0.5056 |  5.0 | 25277.78\n",
      "      2 | 28-FEB-2009 | 28-AUG-2008 | 28-FEB-2009 | 184.0 |   0.5111 |  5.0 | 25555.56\n",
      "      3 | 28-AUG-2009 | 28-FEB-2009 | 28-AUG-2009 | 181.0 |   0.5028 |  5.0 | 25138.89\n",
      "      4 | 28-FEB-2010 | 28-AUG-2009 | 28-FEB-2010 | 184.0 |   0.5111 |  5.0 | 25555.56\n",
      "      5 | 28-AUG-2010 | 28-FEB-2010 | 28-AUG-2010 | 181.0 |   0.5028 |  5.0 | 25138.89\n",
      "      6 | 28-FEB-2011 | 28-AUG-2010 | 28-FEB-2011 | 184.0 |   0.5111 |  5.0 | 25555.56\n",
      "START DATE: 28-FEB-2008\n",
      "MATURITY DATE: 28-FEB-2011\n",
      "SPREAD (bp): 0.0\n",
      "FREQUENCY: FrequencyTypes.QUARTERLY\n",
      "DAY COUNT: DayCountTypes.THIRTY_E_360\n",
      "\n",
      "PAYMENTS SCHEDULE:\n",
      "PAY_NUM | PAY_dt      | ACCR_START  | ACCR_END    | DAYS | YEARFRAC\n",
      "--------+-------------+-------------+-------------+------+---------\n",
      "      1 | 28-MAY-2008 | 28-FEB-2008 | 28-MAY-2008 |   90 |     0.25\n",
      "      2 | 28-AUG-2008 | 28-MAY-2008 | 28-AUG-2008 |   90 |     0.25\n",
      "      3 | 28-NOV-2008 | 28-AUG-2008 | 28-NOV-2008 |   90 |     0.25\n",
      "      4 | 28-FEB-2009 | 28-NOV-2008 | 28-FEB-2009 |   90 |     0.25\n",
      "      5 | 28-MAY-2009 | 28-FEB-2009 | 28-MAY-2009 |   90 |     0.25\n",
      "      6 | 28-AUG-2009 | 28-MAY-2009 | 28-AUG-2009 |   90 |     0.25\n",
      "      7 | 28-NOV-2009 | 28-AUG-2009 | 28-NOV-2009 |   90 |     0.25\n",
      "      8 | 28-FEB-2010 | 28-NOV-2009 | 28-FEB-2010 |   90 |     0.25\n",
      "      9 | 28-MAY-2010 | 28-FEB-2010 | 28-MAY-2010 |   90 |     0.25\n",
      "     10 | 28-AUG-2010 | 28-MAY-2010 | 28-AUG-2010 |   90 |     0.25\n",
      "     11 | 28-NOV-2010 | 28-AUG-2010 | 28-NOV-2010 |   90 |     0.25\n",
      "     12 | 28-FEB-2011 | 28-NOV-2010 | 28-FEB-2011 |   90 |     0.25\n"
     ]
    }
   ],
   "source": [
    "swap.print_payments()"
   ]
  },
  {
   "cell_type": "markdown",
   "metadata": {},
   "source": [
    "### Calendar Types is WEEKEND and Adjustment is MODIFIED FOLLOWING"
   ]
  },
  {
   "cell_type": "code",
   "execution_count": 11,
   "metadata": {
    "execution": {
     "iopub.execute_input": "2025-08-27T21:51:22.550094Z",
     "iopub.status.busy": "2025-08-27T21:51:22.549844Z",
     "iopub.status.idle": "2025-08-27T21:51:22.552709Z",
     "shell.execute_reply": "2025-08-27T21:51:22.552359Z"
    }
   },
   "outputs": [],
   "source": [
    "swap = IborSwap(effective_dt,\n",
    "                    maturity_dt,\n",
    "                    swap_type,\n",
    "                    swap_rate,\n",
    "                    fixed_freq_type=FrequencyTypes.SEMI_ANNUAL,\n",
    "                    fixed_dc_type= DayCountTypes.ACT_360,\n",
    "                    cal_type = CalendarTypes.WEEKEND,\n",
    "                    bd_type=BusDayAdjustTypes.MODIFIED_FOLLOWING)"
   ]
  },
  {
   "cell_type": "code",
   "execution_count": 12,
   "metadata": {
    "execution": {
     "iopub.execute_input": "2025-08-27T21:51:22.554276Z",
     "iopub.status.busy": "2025-08-27T21:51:22.553984Z",
     "iopub.status.idle": "2025-08-27T21:51:22.556763Z",
     "shell.execute_reply": "2025-08-27T21:51:22.556433Z"
    }
   },
   "outputs": [
    {
     "name": "stdout",
     "output_type": "stream",
     "text": [
      "START DATE: 28-FEB-2008\n",
      "MATURITY DATE: 28-FEB-2011\n",
      "COUPON (%): 5.0\n",
      "FREQUENCY: FrequencyTypes.SEMI_ANNUAL\n",
      "DAY COUNT: DayCountTypes.ACT_360\n",
      "\n",
      "PAYMENTS SCHEDULE:\n",
      "PAY_NUM | PAY_dt      | ACCR_START  | ACCR_END    | DAYS  | YEARFRAC | RATE | PMNT    \n",
      "--------+-------------+-------------+-------------+-------+----------+------+---------\n",
      "      1 | 28-AUG-2008 | 28-FEB-2008 | 28-AUG-2008 | 182.0 |   0.5056 |  5.0 | 25277.78\n",
      "      2 | 27-FEB-2009 | 28-AUG-2008 | 27-FEB-2009 | 183.0 |   0.5083 |  5.0 | 25416.67\n",
      "      3 | 28-AUG-2009 | 27-FEB-2009 | 28-AUG-2009 | 182.0 |   0.5056 |  5.0 | 25277.78\n",
      "      4 | 26-FEB-2010 | 28-AUG-2009 | 26-FEB-2010 | 182.0 |   0.5056 |  5.0 | 25277.78\n",
      "      5 | 30-AUG-2010 | 26-FEB-2010 | 30-AUG-2010 | 185.0 |   0.5139 |  5.0 | 25694.44\n",
      "      6 | 28-FEB-2011 | 30-AUG-2010 | 28-FEB-2011 | 182.0 |   0.5056 |  5.0 | 25277.78\n",
      "START DATE: 28-FEB-2008\n",
      "MATURITY DATE: 28-FEB-2011\n",
      "SPREAD (bp): 0.0\n",
      "FREQUENCY: FrequencyTypes.QUARTERLY\n",
      "DAY COUNT: DayCountTypes.THIRTY_E_360\n",
      "\n",
      "PAYMENTS SCHEDULE:\n",
      "PAY_NUM | PAY_dt      | ACCR_START  | ACCR_END    | DAYS | YEARFRAC\n",
      "--------+-------------+-------------+-------------+------+---------\n",
      "      1 | 28-MAY-2008 | 28-FEB-2008 | 28-MAY-2008 |   90 |     0.25\n",
      "      2 | 28-AUG-2008 | 28-MAY-2008 | 28-AUG-2008 |   90 |     0.25\n",
      "      3 | 28-NOV-2008 | 28-AUG-2008 | 28-NOV-2008 |   90 |     0.25\n",
      "      4 | 27-FEB-2009 | 28-NOV-2008 | 27-FEB-2009 |   89 |   0.2472\n",
      "      5 | 28-MAY-2009 | 27-FEB-2009 | 28-MAY-2009 |   91 |   0.2528\n",
      "      6 | 28-AUG-2009 | 28-MAY-2009 | 28-AUG-2009 |   90 |     0.25\n",
      "      7 | 30-NOV-2009 | 28-AUG-2009 | 30-NOV-2009 |   92 |   0.2556\n",
      "      8 | 26-FEB-2010 | 30-NOV-2009 | 26-FEB-2010 |   86 |   0.2389\n",
      "      9 | 28-MAY-2010 | 26-FEB-2010 | 28-MAY-2010 |   92 |   0.2556\n",
      "     10 | 30-AUG-2010 | 28-MAY-2010 | 30-AUG-2010 |   92 |   0.2556\n",
      "     11 | 29-NOV-2010 | 30-AUG-2010 | 29-NOV-2010 |   89 |   0.2472\n",
      "     12 | 28-FEB-2011 | 29-NOV-2010 | 28-FEB-2011 |   89 |   0.2472\n"
     ]
    }
   ],
   "source": [
    "swap.print_payments()"
   ]
  },
  {
   "cell_type": "markdown",
   "metadata": {},
   "source": [
    "Copyright (c) 2020 Dominic O'Kane"
   ]
  }
 ],
 "metadata": {
  "kernelspec": {
   "display_name": "base",
   "language": "python",
   "name": "python3"
  },
  "language_info": {
   "codemirror_mode": {
    "name": "ipython",
    "version": 3
   },
   "file_extension": ".py",
   "mimetype": "text/x-python",
   "name": "python",
   "nbconvert_exporter": "python",
   "pygments_lexer": "ipython3",
   "version": "3.13.5"
  }
 },
 "nbformat": 4,
 "nbformat_minor": 4
}
