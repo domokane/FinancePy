{
 "cells": [
  {
   "cell_type": "markdown",
   "metadata": {},
   "source": [
    "# Building a Libor Curve - Business Day Conventions"
   ]
  },
  {
   "cell_type": "markdown",
   "metadata": {},
   "source": [
    "Examining role of conventions in determining swap flowsm"
   ]
  },
  {
   "cell_type": "code",
   "execution_count": 1,
   "metadata": {
    "execution": {
     "iopub.execute_input": "2025-09-14T22:25:59.050129Z",
     "iopub.status.busy": "2025-09-14T22:25:59.049957Z",
     "iopub.status.idle": "2025-09-14T22:25:59.278028Z",
     "shell.execute_reply": "2025-09-14T22:25:59.277555Z"
    }
   },
   "outputs": [],
   "source": [
    "import numpy as np\n",
    "import matplotlib.pyplot as plt"
   ]
  },
  {
   "cell_type": "code",
   "execution_count": 2,
   "metadata": {
    "execution": {
     "iopub.execute_input": "2025-09-14T22:25:59.280437Z",
     "iopub.status.busy": "2025-09-14T22:25:59.280259Z",
     "iopub.status.idle": "2025-09-14T22:26:00.314207Z",
     "shell.execute_reply": "2025-09-14T22:26:00.313922Z"
    }
   },
   "outputs": [],
   "source": [
    "from financepy.utils import *\n",
    "from financepy.products.rates import *"
   ]
  },
  {
   "cell_type": "markdown",
   "metadata": {},
   "source": [
    "## Creating the Swap"
   ]
  },
  {
   "cell_type": "code",
   "execution_count": 3,
   "metadata": {
    "execution": {
     "iopub.execute_input": "2025-09-14T22:26:00.315850Z",
     "iopub.status.busy": "2025-09-14T22:26:00.315650Z",
     "iopub.status.idle": "2025-09-14T22:26:00.332389Z",
     "shell.execute_reply": "2025-09-14T22:26:00.332037Z"
    }
   },
   "outputs": [],
   "source": [
    "value_dt = Date(26, 2, 2008)"
   ]
  },
  {
   "cell_type": "code",
   "execution_count": 4,
   "metadata": {
    "execution": {
     "iopub.execute_input": "2025-09-14T22:26:00.333708Z",
     "iopub.status.busy": "2025-09-14T22:26:00.333582Z",
     "iopub.status.idle": "2025-09-14T22:26:00.335767Z",
     "shell.execute_reply": "2025-09-14T22:26:00.335525Z"
    }
   },
   "outputs": [],
   "source": [
    "swap_type = SwapTypes.PAY"
   ]
  },
  {
   "cell_type": "code",
   "execution_count": 5,
   "metadata": {
    "execution": {
     "iopub.execute_input": "2025-09-14T22:26:00.336841Z",
     "iopub.status.busy": "2025-09-14T22:26:00.336717Z",
     "iopub.status.idle": "2025-09-14T22:26:00.339058Z",
     "shell.execute_reply": "2025-09-14T22:26:00.338558Z"
    }
   },
   "outputs": [],
   "source": [
    "spot_days = 2"
   ]
  },
  {
   "cell_type": "code",
   "execution_count": 6,
   "metadata": {
    "execution": {
     "iopub.execute_input": "2025-09-14T22:26:00.340239Z",
     "iopub.status.busy": "2025-09-14T22:26:00.340125Z",
     "iopub.status.idle": "2025-09-14T22:26:00.349107Z",
     "shell.execute_reply": "2025-09-14T22:26:00.348762Z"
    }
   },
   "outputs": [],
   "source": [
    "effective_dt = value_dt.add_weekdays(spot_days)"
   ]
  },
  {
   "cell_type": "code",
   "execution_count": 7,
   "metadata": {
    "execution": {
     "iopub.execute_input": "2025-09-14T22:26:00.351104Z",
     "iopub.status.busy": "2025-09-14T22:26:00.350651Z",
     "iopub.status.idle": "2025-09-14T22:26:00.352986Z",
     "shell.execute_reply": "2025-09-14T22:26:00.352802Z"
    }
   },
   "outputs": [],
   "source": [
    "maturity_dt = Date(28, 2, 2011)"
   ]
  },
  {
   "cell_type": "code",
   "execution_count": 8,
   "metadata": {
    "execution": {
     "iopub.execute_input": "2025-09-14T22:26:00.354074Z",
     "iopub.status.busy": "2025-09-14T22:26:00.353965Z",
     "iopub.status.idle": "2025-09-14T22:26:00.356502Z",
     "shell.execute_reply": "2025-09-14T22:26:00.355893Z"
    }
   },
   "outputs": [],
   "source": [
    "swap_rate = 0.050"
   ]
  },
  {
   "cell_type": "markdown",
   "metadata": {},
   "source": [
    "### Calendar Types is NONE"
   ]
  },
  {
   "cell_type": "code",
   "execution_count": 9,
   "metadata": {
    "execution": {
     "iopub.execute_input": "2025-09-14T22:26:00.357584Z",
     "iopub.status.busy": "2025-09-14T22:26:00.357472Z",
     "iopub.status.idle": "2025-09-14T22:26:00.359706Z",
     "shell.execute_reply": "2025-09-14T22:26:00.359528Z"
    }
   },
   "outputs": [],
   "source": [
    "swap = IborSwap(effective_dt,\n",
    "                    maturity_dt,\n",
    "                    swap_type,\n",
    "                    swap_rate,\n",
    "                    fixed_freq_type=FrequencyTypes.SEMI_ANNUAL,\n",
    "                    fixed_dc_type= DayCountTypes.ACT_360,\n",
    "                    cal_type = CalendarTypes.NONE,\n",
    "                    bd_type=BusDayAdjustTypes.MODIFIED_FOLLOWING)"
   ]
  },
  {
   "cell_type": "code",
   "execution_count": 10,
   "metadata": {
    "execution": {
     "iopub.execute_input": "2025-09-14T22:26:00.362365Z",
     "iopub.status.busy": "2025-09-14T22:26:00.361868Z",
     "iopub.status.idle": "2025-09-14T22:26:00.366126Z",
     "shell.execute_reply": "2025-09-14T22:26:00.365791Z"
    }
   },
   "outputs": [
    {
     "name": "stdout",
     "output_type": "stream",
     "text": [
      "START DATE: 28-FEB-2008\n",
      "MATURITY DATE: 28-FEB-2011\n",
      "COUPON (%): 5.0\n",
      "FREQUENCY: FrequencyTypes.SEMI_ANNUAL\n",
      "DAY COUNT: DayCountTypes.ACT_360\n",
      "\n",
      "PAYMENTS SCHEDULE:\n",
      "PAY_NUM | PAY_dt      | ACCR_START  | ACCR_END    | DAYS  | YEARFRAC | RATE | PMNT    \n",
      "--------+-------------+-------------+-------------+-------+----------+------+---------\n",
      "      1 | 28-AUG-2008 | 28-FEB-2008 | 28-AUG-2008 | 182.0 |   0.5056 |  5.0 | 25277.78\n",
      "      2 | 28-FEB-2009 | 28-AUG-2008 | 28-FEB-2009 | 184.0 |   0.5111 |  5.0 | 25555.56\n",
      "      3 | 28-AUG-2009 | 28-FEB-2009 | 28-AUG-2009 | 181.0 |   0.5028 |  5.0 | 25138.89\n",
      "      4 | 28-FEB-2010 | 28-AUG-2009 | 28-FEB-2010 | 184.0 |   0.5111 |  5.0 | 25555.56\n",
      "      5 | 28-AUG-2010 | 28-FEB-2010 | 28-AUG-2010 | 181.0 |   0.5028 |  5.0 | 25138.89\n",
      "      6 | 28-FEB-2011 | 28-AUG-2010 | 28-FEB-2011 | 184.0 |   0.5111 |  5.0 | 25555.56\n",
      "START DATE: 28-FEB-2008\n",
      "MATURITY DATE: 28-FEB-2011\n",
      "SPREAD (bp): 0.0\n",
      "FREQUENCY: FrequencyTypes.QUARTERLY\n",
      "DAY COUNT: DayCountTypes.THIRTY_E_360\n",
      "\n",
      "PAYMENTS SCHEDULE:\n",
      "PAY_NUM | PAY_dt      | ACCR_START  | ACCR_END    | DAYS | YEARFRAC\n",
      "--------+-------------+-------------+-------------+------+---------\n",
      "      1 | 28-MAY-2008 | 28-FEB-2008 | 28-MAY-2008 |   90 |     0.25\n",
      "      2 | 28-AUG-2008 | 28-MAY-2008 | 28-AUG-2008 |   90 |     0.25\n",
      "      3 | 28-NOV-2008 | 28-AUG-2008 | 28-NOV-2008 |   90 |     0.25\n",
      "      4 | 28-FEB-2009 | 28-NOV-2008 | 28-FEB-2009 |   90 |     0.25\n",
      "      5 | 28-MAY-2009 | 28-FEB-2009 | 28-MAY-2009 |   90 |     0.25\n",
      "      6 | 28-AUG-2009 | 28-MAY-2009 | 28-AUG-2009 |   90 |     0.25\n",
      "      7 | 28-NOV-2009 | 28-AUG-2009 | 28-NOV-2009 |   90 |     0.25\n",
      "      8 | 28-FEB-2010 | 28-NOV-2009 | 28-FEB-2010 |   90 |     0.25\n",
      "      9 | 28-MAY-2010 | 28-FEB-2010 | 28-MAY-2010 |   90 |     0.25\n",
      "     10 | 28-AUG-2010 | 28-MAY-2010 | 28-AUG-2010 |   90 |     0.25\n",
      "     11 | 28-NOV-2010 | 28-AUG-2010 | 28-NOV-2010 |   90 |     0.25\n",
      "     12 | 28-FEB-2011 | 28-NOV-2010 | 28-FEB-2011 |   90 |     0.25\n"
     ]
    }
   ],
   "source": [
    "swap.print_payments()"
   ]
  },
  {
   "cell_type": "markdown",
   "metadata": {},
   "source": [
    "### Calendar Types is WEEKEND and Adjustment is MODIFIED FOLLOWING"
   ]
  },
  {
   "cell_type": "code",
   "execution_count": 11,
   "metadata": {
    "execution": {
     "iopub.execute_input": "2025-09-14T22:26:00.367197Z",
     "iopub.status.busy": "2025-09-14T22:26:00.367086Z",
     "iopub.status.idle": "2025-09-14T22:26:00.370009Z",
     "shell.execute_reply": "2025-09-14T22:26:00.369679Z"
    }
   },
   "outputs": [],
   "source": [
    "swap = IborSwap(effective_dt,\n",
    "                    maturity_dt,\n",
    "                    swap_type,\n",
    "                    swap_rate,\n",
    "                    fixed_freq_type=FrequencyTypes.SEMI_ANNUAL,\n",
    "                    fixed_dc_type= DayCountTypes.ACT_360,\n",
    "                    cal_type = CalendarTypes.WEEKEND,\n",
    "                    bd_type=BusDayAdjustTypes.MODIFIED_FOLLOWING)"
   ]
  },
  {
   "cell_type": "code",
   "execution_count": 12,
   "metadata": {
    "execution": {
     "iopub.execute_input": "2025-09-14T22:26:00.371081Z",
     "iopub.status.busy": "2025-09-14T22:26:00.370968Z",
     "iopub.status.idle": "2025-09-14T22:26:00.373954Z",
     "shell.execute_reply": "2025-09-14T22:26:00.373682Z"
    }
   },
   "outputs": [
    {
     "name": "stdout",
     "output_type": "stream",
     "text": [
      "START DATE: 28-FEB-2008\n",
      "MATURITY DATE: 28-FEB-2011\n",
      "COUPON (%): 5.0\n",
      "FREQUENCY: FrequencyTypes.SEMI_ANNUAL\n",
      "DAY COUNT: DayCountTypes.ACT_360\n",
      "\n",
      "PAYMENTS SCHEDULE:\n",
      "PAY_NUM | PAY_dt      | ACCR_START  | ACCR_END    | DAYS  | YEARFRAC | RATE | PMNT    \n",
      "--------+-------------+-------------+-------------+-------+----------+------+---------\n",
      "      1 | 28-AUG-2008 | 28-FEB-2008 | 28-AUG-2008 | 182.0 |   0.5056 |  5.0 | 25277.78\n",
      "      2 | 27-FEB-2009 | 28-AUG-2008 | 27-FEB-2009 | 183.0 |   0.5083 |  5.0 | 25416.67\n",
      "      3 | 28-AUG-2009 | 27-FEB-2009 | 28-AUG-2009 | 182.0 |   0.5056 |  5.0 | 25277.78\n",
      "      4 | 26-FEB-2010 | 28-AUG-2009 | 26-FEB-2010 | 182.0 |   0.5056 |  5.0 | 25277.78\n",
      "      5 | 30-AUG-2010 | 26-FEB-2010 | 30-AUG-2010 | 185.0 |   0.5139 |  5.0 | 25694.44\n",
      "      6 | 28-FEB-2011 | 30-AUG-2010 | 28-FEB-2011 | 182.0 |   0.5056 |  5.0 | 25277.78\n",
      "START DATE: 28-FEB-2008\n",
      "MATURITY DATE: 28-FEB-2011\n",
      "SPREAD (bp): 0.0\n",
      "FREQUENCY: FrequencyTypes.QUARTERLY\n",
      "DAY COUNT: DayCountTypes.THIRTY_E_360\n",
      "\n",
      "PAYMENTS SCHEDULE:\n",
      "PAY_NUM | PAY_dt      | ACCR_START  | ACCR_END    | DAYS | YEARFRAC\n",
      "--------+-------------+-------------+-------------+------+---------\n",
      "      1 | 28-MAY-2008 | 28-FEB-2008 | 28-MAY-2008 |   90 |     0.25\n",
      "      2 | 28-AUG-2008 | 28-MAY-2008 | 28-AUG-2008 |   90 |     0.25\n",
      "      3 | 28-NOV-2008 | 28-AUG-2008 | 28-NOV-2008 |   90 |     0.25\n",
      "      4 | 27-FEB-2009 | 28-NOV-2008 | 27-FEB-2009 |   89 |   0.2472\n",
      "      5 | 28-MAY-2009 | 27-FEB-2009 | 28-MAY-2009 |   91 |   0.2528\n",
      "      6 | 28-AUG-2009 | 28-MAY-2009 | 28-AUG-2009 |   90 |     0.25\n",
      "      7 | 30-NOV-2009 | 28-AUG-2009 | 30-NOV-2009 |   92 |   0.2556\n",
      "      8 | 26-FEB-2010 | 30-NOV-2009 | 26-FEB-2010 |   86 |   0.2389\n",
      "      9 | 28-MAY-2010 | 26-FEB-2010 | 28-MAY-2010 |   92 |   0.2556\n",
      "     10 | 30-AUG-2010 | 28-MAY-2010 | 30-AUG-2010 |   92 |   0.2556\n",
      "     11 | 29-NOV-2010 | 30-AUG-2010 | 29-NOV-2010 |   89 |   0.2472\n",
      "     12 | 28-FEB-2011 | 29-NOV-2010 | 28-FEB-2011 |   89 |   0.2472\n"
     ]
    }
   ],
   "source": [
    "swap.print_payments()"
   ]
  },
  {
   "cell_type": "markdown",
   "metadata": {},
   "source": [
    "Copyright (c) 2020 Dominic O'Kane"
   ]
  }
 ],
 "metadata": {
  "kernelspec": {
   "display_name": "base",
   "language": "python",
   "name": "python3"
  },
  "language_info": {
   "codemirror_mode": {
    "name": "ipython",
    "version": 3
   },
   "file_extension": ".py",
   "mimetype": "text/x-python",
   "name": "python",
   "nbconvert_exporter": "python",
   "pygments_lexer": "ipython3",
   "version": "3.13.7"
  }
 },
 "nbformat": 4,
 "nbformat_minor": 4
}
