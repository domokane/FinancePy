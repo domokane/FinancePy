{
 "cells": [
  {
   "cell_type": "markdown",
   "metadata": {},
   "source": [
    "# Building a Euribor Curve using non-parametric calibration with smoothing"
   ]
  },
  {
   "cell_type": "code",
   "execution_count": null,
   "metadata": {},
   "outputs": [],
   "source": [
    "%load_ext autoreload\n",
    "%autoreload 2"
   ]
  },
  {
   "cell_type": "code",
   "execution_count": null,
   "metadata": {},
   "outputs": [],
   "source": [
    "import numpy as np\n",
    "import pandas as pd\n",
    "import matplotlib.pyplot as plt\n",
    "from timeit import default_timer as timer"
   ]
  },
  {
   "cell_type": "code",
   "execution_count": null,
   "metadata": {},
   "outputs": [],
   "source": [
    "from financepy.utils import *\n",
    "from financepy.products.rates import *\n",
    "from financepy.products.rates.ibor_single_curve_smoothing_calibrator import IborSingleCurveSmoothingCalibrator"
   ]
  },
  {
   "cell_type": "code",
   "execution_count": null,
   "metadata": {},
   "outputs": [],
   "source": [
    "valuation_date = Date(6, 10, 2001)\n",
    "cal = CalendarTypes.UNITED_KINGDOM"
   ]
  },
  {
   "cell_type": "markdown",
   "metadata": {},
   "source": [
    "### Instruments"
   ]
  },
  {
   "cell_type": "code",
   "execution_count": null,
   "metadata": {},
   "outputs": [],
   "source": [
    "depoDCCType = DayCountTypes.ACT_360\n",
    "depos = []\n",
    "spot_days = 2\n",
    "settlement_date = valuation_date.add_weekdays(spot_days)\n",
    "depo = IborDeposit(settlement_date, \"3M\", 4.2/100.0, depoDCCType, cal_type=cal)\n",
    "depos.append(depo)\n",
    "\n",
    "fraDCCType = DayCountTypes.ACT_360\n",
    "fras = []\n",
    "fra = IborFRA(settlement_date.add_tenor(\"3M\"), \"3M\", 4.20/100.0, fraDCCType, cal_type=cal)\n",
    "fras.append(fra)\n",
    "\n",
    "swaps = []\n",
    "swapType = SwapTypes.PAY\n",
    "fixedDCCType = DayCountTypes.THIRTY_E_360_ISDA\n",
    "fixed_freqType = FrequencyTypes.SEMI_ANNUAL\n",
    "\n",
    "swap = IborSwap(settlement_date, \"1Y\", swapType, 4.20/100.0, fixed_freqType, fixedDCCType, cal_type=cal)\n",
    "swaps.append(swap)\n",
    "swap = IborSwap(settlement_date, \"2Y\", swapType, 4.30/100.0, fixed_freqType, fixedDCCType, cal_type=cal)\n",
    "swaps.append(swap)\n",
    "swap = IborSwap(settlement_date, \"3Y\", swapType, 4.70/100.0, fixed_freqType, fixedDCCType, cal_type=cal)\n",
    "swaps.append(swap)\n",
    "swap = IborSwap(settlement_date, \"5Y\", swapType, 5.40/100.0, fixed_freqType, fixedDCCType, cal_type=cal)\n",
    "swaps.append(swap)\n",
    "swap = IborSwap(settlement_date, \"7Y\", swapType, 5.70/100.0, fixed_freqType, fixedDCCType, cal_type=cal)\n",
    "swaps.append(swap)\n",
    "swap = IborSwap(settlement_date, \"10Y\", swapType, 6.00/100.0, fixed_freqType, fixedDCCType, cal_type=cal)\n",
    "swaps.append(swap)\n",
    "swap = IborSwap(settlement_date, \"12Y\", swapType, 6.10/100.0, fixed_freqType, fixedDCCType, cal_type=cal)\n",
    "swaps.append(swap)\n",
    "swap = IborSwap(settlement_date, \"15Y\", swapType, 5.90/100.0, fixed_freqType, fixedDCCType, cal_type=cal)\n",
    "swaps.append(swap)\n",
    "swap = IborSwap(settlement_date, \"20Y\", swapType, 5.60/100.0, fixed_freqType, fixedDCCType, cal_type=cal)\n",
    "swaps.append(swap)\n",
    "swap = IborSwap(settlement_date, \"25Y\", swapType, 5.55/100.0, fixed_freqType, fixedDCCType, cal_type=cal)\n",
    "swaps.append(swap)"
   ]
  },
  {
   "cell_type": "markdown",
   "metadata": {},
   "source": [
    "Build curves for different levels of the smoothness parameter"
   ]
  },
  {
   "cell_type": "code",
   "execution_count": null,
   "metadata": {},
   "outputs": [],
   "source": [
    "check_refit = True\n",
    "iborCurves = {}\n",
    "full_report = None\n",
    "optional_interp_params = {'sigma' : 0.01} # only relevant for interp_type == InterpTypes.TENSION_ZERO_RATES\n",
    "\n",
    "# Choose your interpolation. InterpTypes.FLAT_FWD_RATES is the fastest but others are interesting too\n",
    "interp_type = InterpTypes.FLAT_FWD_RATES\n",
    "# interp_type = InterpTypes.NATCUBIC_ZERO_RATES\n",
    "\n",
    "# Create but do not build the initial curve\n",
    "do_build = False\n",
    "init_curve = IborSingleCurve(valuation_date, depos, fras, swaps,\n",
    "                                interp_type, check_refit=False, do_build=do_build, **optional_interp_params)\n",
    "calibrator = IborSingleCurveSmoothingCalibrator(init_curve)\n",
    "\n",
    "smooth_params = [0.01, 0.1, 0.2]\n",
    "for smoothness  in smooth_params:\n",
    "    start = timer()\n",
    "\n",
    "    # Here we go, the main fitting call\n",
    "    iborCurve, fit_report = calibrator.fit(smoothness=smoothness, report_progress = False)\n",
    "    end = timer()\n",
    "    print(f'smth = {smoothness} fit took {end-start:.2f} sec')\n",
    "    iborCurves[smoothness] = iborCurve\n",
    "\n",
    "    if full_report is None:\n",
    "        full_report = fit_report\n",
    "    else:\n",
    "        full_report = full_report.append(fit_report, ignore_index = True)\n"
   ]
  },
  {
   "cell_type": "markdown",
   "metadata": {},
   "source": [
    "### Look at the fit reports"
   ]
  },
  {
   "cell_type": "code",
   "execution_count": null,
   "metadata": {},
   "outputs": [],
   "source": [
    "# Print DataFrames in full\n",
    "pd.set_option('display.max_rows', None,\n",
    "                    'display.max_columns', None,\n",
    "                    'display.float_format', lambda x:f'{x:.4f}'\n",
    "                    )"
   ]
  },
  {
   "cell_type": "code",
   "execution_count": null,
   "metadata": {},
   "outputs": [],
   "source": [
    "# examine the last fit_report\n",
    "fit_report.head()"
   ]
  },
  {
   "cell_type": "code",
   "execution_count": null,
   "metadata": {},
   "outputs": [],
   "source": [
    "# combine fit reports for different smothness parameters into one for ease of comparison\n",
    "fr2 = full_report[['tgt_label','value_in_bps', 'smoothness']].set_index(['tgt_label', 'smoothness']).unstack(level=1).droplevel(0,axis=1)\n",
    "fr2 = fr2.join(fit_report[['tgt_label','type','start_date',\t'maturity_dt']].set_index('tgt_label'))\n",
    "fr2"
   ]
  },
  {
   "cell_type": "markdown",
   "metadata": {},
   "source": [
    "### Curve Shape Analysis"
   ]
  },
  {
   "cell_type": "markdown",
   "metadata": {},
   "source": [
    "First check instantaneous (ON) forward rates and see how they are affected by the smoothness parameter"
   ]
  },
  {
   "cell_type": "code",
   "execution_count": null,
   "metadata": {
    "scrolled": false
   },
   "outputs": [],
   "source": [
    "years = np.linspace(1./365, 25, 25*365)\n",
    "plotDates = settlement_date.add_years(years)\n",
    "\n",
    "%matplotlib widget\n",
    "plt.figure(figsize=(8,5))\n",
    "for smoothness  in smooth_params:\n",
    "\n",
    "    iborCurve = iborCurves[smoothness]\n",
    "    iborCurveFwdRate = iborCurve.fwd(plotDates)   \n",
    "    plt.plot(years, iborCurveFwdRate*100.0, label=f\"smth={smoothness}\")\n",
    "\n",
    "plt.title(interp_type)\n",
    "plt.xlabel(\"Years\")\n",
    "plt.ylabel(\"Rate (%)\")\n",
    "plt.title('ON fwd rates')\n",
    "plt.legend(loc = 'best')\n",
    "plt.show()"
   ]
  },
  {
   "cell_type": "markdown",
   "metadata": {},
   "source": [
    "Observe smoothness at work for zero rates (yields)"
   ]
  },
  {
   "cell_type": "code",
   "execution_count": null,
   "metadata": {},
   "outputs": [],
   "source": [
    "years = np.linspace(1./365, 25, 25*365)\n",
    "plotDates = settlement_date.add_years(years)\n",
    "\n",
    "%matplotlib widget\n",
    "plt.figure(figsize=(8,5))\n",
    "for smoothness  in smooth_params:\n",
    "\n",
    "    iborCurve = iborCurves[smoothness]\n",
    "    iborCurveZeroRate = iborCurve.zero_rate(plotDates)    \n",
    "    plt.plot(years, iborCurveZeroRate*100.0, label=f\"smth={smoothness}\")\n",
    "\n",
    "plt.title(interp_type)\n",
    "plt.xlabel(\"Years\")\n",
    "plt.ylabel(\"Rate (%)\")\n",
    "plt.title('Yields (zero rates)')\n",
    "plt.legend(loc = 'best')\n",
    "plt.show()\n"
   ]
  },
  {
   "cell_type": "markdown",
   "metadata": {},
   "source": [
    "Compare output swap rates vs targets"
   ]
  },
  {
   "cell_type": "code",
   "execution_count": null,
   "metadata": {},
   "outputs": [],
   "source": [
    "%matplotlib widget\n",
    "\n",
    "mat_years = np.linspace(1,25,25,endpoint = True)\n",
    "mat_dates = settlement_date.add_years(mat_years)\n",
    "\n",
    "tgt_dates = [s.fixed_leg.maturity_dt for s in swaps]\n",
    "tgt_years = [(d - valuation_date)/g_days_in_year for d in tgt_dates]\n",
    "tgt_rates = np.array([s.fixed_leg.cpn for s in swaps])\n",
    "\n",
    "plt.figure(figsize=(8,5))\n",
    "\n",
    "\n",
    "plt.plot(tgt_years, tgt_rates*100.0, 'o', label=f\"swap rate targets\")\n",
    "\n",
    "for smoothness  in smooth_params:\n",
    "\n",
    "    iborCurve = iborCurves[smoothness]\n",
    "    iborCurveSwapRates = iborCurve.swap_rate(swap.effective_dt, mat_dates, \n",
    "        swap.fixed_leg.freq_type, swap.fixed_leg.dc_type)    \n",
    "    plt.plot(mat_years, iborCurveSwapRates*100.0, '.', label=f\"smth={smoothness}\")\n",
    "\n",
    "plt.title(interp_type)\n",
    "plt.xlabel(\"Years\")\n",
    "plt.ylabel(\"Rate (%)\")\n",
    "plt.title('swap rates')\n",
    "plt.legend(loc = 'best')\n",
    "plt.show()"
   ]
  }
 ],
 "metadata": {
  "kernelspec": {
   "display_name": "Python 3.8.8 ('base')",
   "language": "python",
   "name": "python3"
  },
  "language_info": {
   "codemirror_mode": {
    "name": "ipython",
    "version": 3
   },
   "file_extension": ".py",
   "mimetype": "text/x-python",
   "name": "python",
   "nbconvert_exporter": "python",
   "pygments_lexer": "ipython3",
   "version": "3.8.10"
  },
  "vscode": {
   "interpreter": {
    "hash": "884e84ff39d63fe0ace972cf9e1d3c4cdda6aeb2574d79c9ad7eb0401c2936b7"
   }
  }
 },
 "nbformat": 4,
 "nbformat_minor": 4
}
