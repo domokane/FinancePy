{
 "cells": [
  {
   "cell_type": "markdown",
   "metadata": {},
   "source": [
    "# ANALYSIS OF FX ONE TOUCH OPTIONS"
   ]
  },
  {
   "cell_type": "markdown",
   "metadata": {},
   "source": [
    "In this notebook I show how you can analyse FX One Touch options."
   ]
  },
  {
   "cell_type": "code",
   "execution_count": 1,
   "metadata": {
    "execution": {
     "iopub.execute_input": "2025-08-27T21:47:44.349836Z",
     "iopub.status.busy": "2025-08-27T21:47:44.349634Z",
     "iopub.status.idle": "2025-08-27T21:47:44.836597Z",
     "shell.execute_reply": "2025-08-27T21:47:44.835990Z"
    }
   },
   "outputs": [],
   "source": [
    "import numpy as np\n",
    "import matplotlib.pyplot as plt"
   ]
  },
  {
   "cell_type": "code",
   "execution_count": 2,
   "metadata": {
    "execution": {
     "iopub.execute_input": "2025-08-27T21:47:44.839350Z",
     "iopub.status.busy": "2025-08-27T21:47:44.839016Z",
     "iopub.status.idle": "2025-08-27T21:47:46.793509Z",
     "shell.execute_reply": "2025-08-27T21:47:46.793040Z"
    }
   },
   "outputs": [
    {
     "name": "stdout",
     "output_type": "stream",
     "text": [
      "####################################################################\n",
      "#    FINANCEPY Version 1.1 - This build: 27 Aug 2025 at 23:27      #\n",
      "#     This software is distributed FREE AND WITHOUT ANY WARRANTY   #\n",
      "#  Report bugs as issues at https://github.com/domokane/FinancePy  #\n",
      "####################################################################\n",
      "\n"
     ]
    }
   ],
   "source": [
    "from financepy.utils import *\n",
    "from financepy.products.fx import *\n",
    "from financepy.market.curves import *"
   ]
  },
  {
   "cell_type": "markdown",
   "metadata": {},
   "source": [
    "# Creating the Option"
   ]
  },
  {
   "cell_type": "markdown",
   "metadata": {},
   "source": [
    "We need to set up the option details - what you would find in the Term Sheet."
   ]
  },
  {
   "cell_type": "code",
   "execution_count": 3,
   "metadata": {
    "execution": {
     "iopub.execute_input": "2025-08-27T21:47:46.795863Z",
     "iopub.status.busy": "2025-08-27T21:47:46.795518Z",
     "iopub.status.idle": "2025-08-27T21:47:46.813524Z",
     "shell.execute_reply": "2025-08-27T21:47:46.813092Z"
    }
   },
   "outputs": [],
   "source": [
    "value_dt = Date(10, 4, 2020)"
   ]
  },
  {
   "cell_type": "code",
   "execution_count": 4,
   "metadata": {
    "execution": {
     "iopub.execute_input": "2025-08-27T21:47:46.815508Z",
     "iopub.status.busy": "2025-08-27T21:47:46.815287Z",
     "iopub.status.idle": "2025-08-27T21:47:46.817862Z",
     "shell.execute_reply": "2025-08-27T21:47:46.817464Z"
    }
   },
   "outputs": [],
   "source": [
    "for_name = \"EUR\"\n",
    "dom_name = \"USD\"\n",
    "for_cc_rate = 0.03460  # EUR\n",
    "dom_cc_rate = 0.02940  # USD"
   ]
  },
  {
   "cell_type": "code",
   "execution_count": 5,
   "metadata": {
    "execution": {
     "iopub.execute_input": "2025-08-27T21:47:46.819576Z",
     "iopub.status.busy": "2025-08-27T21:47:46.819149Z",
     "iopub.status.idle": "2025-08-27T21:47:46.827877Z",
     "shell.execute_reply": "2025-08-27T21:47:46.827305Z"
    }
   },
   "outputs": [],
   "source": [
    "domestic_curve = DiscountCurveFlat(value_dt, dom_cc_rate)\n",
    "foreign_curve = DiscountCurveFlat(value_dt, for_cc_rate)"
   ]
  },
  {
   "cell_type": "code",
   "execution_count": 6,
   "metadata": {
    "execution": {
     "iopub.execute_input": "2025-08-27T21:47:46.829758Z",
     "iopub.status.busy": "2025-08-27T21:47:46.829415Z",
     "iopub.status.idle": "2025-08-27T21:47:46.831774Z",
     "shell.execute_reply": "2025-08-27T21:47:46.831381Z"
    }
   },
   "outputs": [],
   "source": [
    "currency_pair = for_name + dom_name\n",
    "spot_fx_rate = 1.3465"
   ]
  },
  {
   "cell_type": "code",
   "execution_count": 7,
   "metadata": {
    "execution": {
     "iopub.execute_input": "2025-08-27T21:47:46.833472Z",
     "iopub.status.busy": "2025-08-27T21:47:46.833225Z",
     "iopub.status.idle": "2025-08-27T21:47:46.835632Z",
     "shell.execute_reply": "2025-08-27T21:47:46.835272Z"
    }
   },
   "outputs": [],
   "source": [
    "expiry_dt = value_dt.add_tenor(\"1Y\")"
   ]
  },
  {
   "cell_type": "code",
   "execution_count": 8,
   "metadata": {
    "execution": {
     "iopub.execute_input": "2025-08-27T21:47:46.837424Z",
     "iopub.status.busy": "2025-08-27T21:47:46.837059Z",
     "iopub.status.idle": "2025-08-27T21:47:46.839519Z",
     "shell.execute_reply": "2025-08-27T21:47:46.839116Z"
    }
   },
   "outputs": [],
   "source": [
    "strike_price = 1.362024"
   ]
  },
  {
   "cell_type": "markdown",
   "metadata": {},
   "source": [
    "We now create the option object"
   ]
  },
  {
   "cell_type": "code",
   "execution_count": 9,
   "metadata": {
    "execution": {
     "iopub.execute_input": "2025-08-27T21:47:46.841052Z",
     "iopub.status.busy": "2025-08-27T21:47:46.840856Z",
     "iopub.status.idle": "2025-08-27T21:47:46.843321Z",
     "shell.execute_reply": "2025-08-27T21:47:46.842837Z"
    }
   },
   "outputs": [],
   "source": [
    "one_touch = FXOneTouchOption(expiry_dt, TouchOptionTypes.DOWN_AND_IN_ASSET_AT_EXPIRY, 1.0)"
   ]
  },
  {
   "cell_type": "code",
   "execution_count": 10,
   "metadata": {
    "execution": {
     "iopub.execute_input": "2025-08-27T21:47:46.844971Z",
     "iopub.status.busy": "2025-08-27T21:47:46.844744Z",
     "iopub.status.idle": "2025-08-27T21:47:46.847316Z",
     "shell.execute_reply": "2025-08-27T21:47:46.846971Z"
    }
   },
   "outputs": [
    {
     "name": "stdout",
     "output_type": "stream",
     "text": [
      "OBJECT TYPE: FXOneTouchOption\n",
      "EXPIRY DATE: 10-APR-2021\n",
      "OPTION TYPE: TouchOptionTypes.DOWN_AND_IN_ASSET_AT_EXPIRY\n",
      "BARRIER LEVEL: 1.0\n",
      "PAYMENT SIZE: 1.0\n"
     ]
    }
   ],
   "source": [
    "print(one_touch)"
   ]
  },
  {
   "cell_type": "markdown",
   "metadata": {},
   "source": [
    "## Valuation Dependency on Spot FX Rate"
   ]
  },
  {
   "cell_type": "markdown",
   "metadata": {},
   "source": [
    "To do a valuation we need to specify the date and set the market inputs"
   ]
  },
  {
   "cell_type": "code",
   "execution_count": 11,
   "metadata": {
    "execution": {
     "iopub.execute_input": "2025-08-27T21:47:46.848994Z",
     "iopub.status.busy": "2025-08-27T21:47:46.848703Z",
     "iopub.status.idle": "2025-08-27T21:47:46.851011Z",
     "shell.execute_reply": "2025-08-27T21:47:46.850628Z"
    }
   },
   "outputs": [],
   "source": [
    "spot_fx_rate = np.linspace(1.1,3.0,50)"
   ]
  },
  {
   "cell_type": "markdown",
   "metadata": {},
   "source": [
    "For simplicity the discount curve is assumed to be flat here (we can pass in any discount curve) and is created as follows."
   ]
  },
  {
   "cell_type": "markdown",
   "metadata": {},
   "source": [
    "The valuation model we use is Black-Scholes which is passed in as a Black-Scholes model object. It is created as follows."
   ]
  },
  {
   "cell_type": "code",
   "execution_count": 12,
   "metadata": {
    "execution": {
     "iopub.execute_input": "2025-08-27T21:47:46.852808Z",
     "iopub.status.busy": "2025-08-27T21:47:46.852486Z",
     "iopub.status.idle": "2025-08-27T21:47:46.854599Z",
     "shell.execute_reply": "2025-08-27T21:47:46.854302Z"
    }
   },
   "outputs": [],
   "source": [
    "volatility = 0.20\n",
    "model = BlackScholes(volatility)"
   ]
  },
  {
   "cell_type": "markdown",
   "metadata": {},
   "source": [
    "The valuation is as follows and the output is in a dictionary"
   ]
  },
  {
   "cell_type": "code",
   "execution_count": 13,
   "metadata": {
    "execution": {
     "iopub.execute_input": "2025-08-27T21:47:46.856238Z",
     "iopub.status.busy": "2025-08-27T21:47:46.855987Z",
     "iopub.status.idle": "2025-08-27T21:47:46.858500Z",
     "shell.execute_reply": "2025-08-27T21:47:46.858035Z"
    }
   },
   "outputs": [],
   "source": [
    "v_anal = one_touch.value(value_dt, spot_fx_rate, domestic_curve, foreign_curve, model)"
   ]
  },
  {
   "cell_type": "code",
   "execution_count": 14,
   "metadata": {
    "execution": {
     "iopub.execute_input": "2025-08-27T21:47:46.860150Z",
     "iopub.status.busy": "2025-08-27T21:47:46.859887Z",
     "iopub.status.idle": "2025-08-27T21:47:48.461406Z",
     "shell.execute_reply": "2025-08-27T21:47:48.460918Z"
    }
   },
   "outputs": [
    {
     "data": {
      "text/plain": [
       "50"
      ]
     },
     "execution_count": 14,
     "metadata": {},
     "output_type": "execute_result"
    }
   ],
   "source": [
    "v_mc = []\n",
    "\n",
    "for s in spot_fx_rate:\n",
    "    v = one_touch.value_mc(value_dt, s, domestic_curve, foreign_curve, model)\n",
    "    v_mc.append(v)\n",
    "\n",
    "len(v_mc)"
   ]
  },
  {
   "cell_type": "code",
   "execution_count": 15,
   "metadata": {
    "execution": {
     "iopub.execute_input": "2025-08-27T21:47:48.463411Z",
     "iopub.status.busy": "2025-08-27T21:47:48.463193Z",
     "iopub.status.idle": "2025-08-27T21:47:48.603802Z",
     "shell.execute_reply": "2025-08-27T21:47:48.603222Z"
    }
   },
   "outputs": [
    {
     "data": {
      "text/plain": [
       "<matplotlib.legend.Legend at 0x20d2b7dcad0>"
      ]
     },
     "execution_count": 15,
     "metadata": {},
     "output_type": "execute_result"
    },
    {
     "data": {
      "image/png": "[encoded data removed]",
      "text/plain": [
       "<Figure size 1000x600 with 1 Axes>"
      ]
     },
     "metadata": {},
     "output_type": "display_data"
    }
   ],
   "source": [
    "plt.figure(figsize=(10,6))\n",
    "\n",
    "plt.plot(spot_fx_rate, v_anal, label = \"Anal\")\n",
    "plt.plot(spot_fx_rate, v_mc, label = \"MC\")\n",
    "plt.plot(spot_fx_rate, (v_anal - v_mc)*1, label = \"Diff\")\n",
    "\n",
    "plt.xlabel(\"Spot FX Rate\")\n",
    "plt.ylabel(\"Option Value\");\n",
    "plt.legend()"
   ]
  },
  {
   "cell_type": "markdown",
   "metadata": {},
   "source": [
    "Copyright (c) 2020, Dominic O'Kane "
   ]
  }
 ],
 "metadata": {
  "kernelspec": {
   "display_name": "base",
   "language": "python",
   "name": "python3"
  },
  "language_info": {
   "codemirror_mode": {
    "name": "ipython",
    "version": 3
   },
   "file_extension": ".py",
   "mimetype": "text/x-python",
   "name": "python",
   "nbconvert_exporter": "python",
   "pygments_lexer": "ipython3",
   "version": "3.13.5"
  }
 },
 "nbformat": 4,
 "nbformat_minor": 2
}
