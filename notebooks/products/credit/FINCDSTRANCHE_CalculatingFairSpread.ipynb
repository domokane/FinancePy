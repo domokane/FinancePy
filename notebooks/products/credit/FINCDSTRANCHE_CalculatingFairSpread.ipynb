{
 "cells": [
  {
   "cell_type": "markdown",
   "metadata": {},
   "source": [
    "# Determining the Fair Spread of a CDS Tranche"
   ]
  },
  {
   "cell_type": "markdown",
   "metadata": {},
   "source": [
    "An analysis of pricing a CDS Index using its intrinsic value"
   ]
  },
  {
   "cell_type": "code",
   "execution_count": 1,
   "metadata": {
    "execution": {
     "iopub.execute_input": "2025-09-14T22:21:34.303945Z",
     "iopub.status.busy": "2025-09-14T22:21:34.303516Z",
     "iopub.status.idle": "2025-09-14T22:21:34.546139Z",
     "shell.execute_reply": "2025-09-14T22:21:34.545650Z"
    }
   },
   "outputs": [],
   "source": [
    "import numpy as np\n",
    "import matplotlib.pyplot as plt"
   ]
  },
  {
   "cell_type": "code",
   "execution_count": 2,
   "metadata": {
    "execution": {
     "iopub.execute_input": "2025-09-14T22:21:34.548532Z",
     "iopub.status.busy": "2025-09-14T22:21:34.548346Z",
     "iopub.status.idle": "2025-09-14T22:21:36.072866Z",
     "shell.execute_reply": "2025-09-14T22:21:36.072463Z"
    }
   },
   "outputs": [],
   "source": [
    "from financepy.utils import *\n",
    "from financepy.products.rates import *\n",
    "from financepy.products.credit import *"
   ]
  },
  {
   "cell_type": "code",
   "execution_count": 3,
   "metadata": {
    "execution": {
     "iopub.execute_input": "2025-09-14T22:21:36.074431Z",
     "iopub.status.busy": "2025-09-14T22:21:36.074217Z",
     "iopub.status.idle": "2025-09-14T22:21:36.097145Z",
     "shell.execute_reply": "2025-09-14T22:21:36.096594Z"
    }
   },
   "outputs": [],
   "source": [
    "value_dt = Date(2, 8, 2007)\n",
    "settle_dt = value_dt.add_weekdays(1)"
   ]
  },
  {
   "cell_type": "markdown",
   "metadata": {},
   "source": [
    "## Build Ibor Curve"
   ]
  },
  {
   "cell_type": "code",
   "execution_count": 4,
   "metadata": {
    "execution": {
     "iopub.execute_input": "2025-09-14T22:21:36.098526Z",
     "iopub.status.busy": "2025-09-14T22:21:36.098396Z",
     "iopub.status.idle": "2025-09-14T22:21:36.106271Z",
     "shell.execute_reply": "2025-09-14T22:21:36.106026Z"
    }
   },
   "outputs": [],
   "source": [
    "dc_type = DayCountTypes.THIRTY_E_360_ISDA\n",
    "depos = []\n",
    "depo = IborDeposit(value_dt, \"1D\", 0.0500, dc_type); depos.append(depo)\n",
    "depo = IborDeposit(settle_dt, \"1D\", 0.0500, dc_type); depos.append(depo)\n",
    "\n",
    "fixed_freq = FrequencyTypes.SEMI_ANNUAL\n",
    "swap_type = SwapTypes.PAY\n",
    "swap1 = IborSwap(settle_dt,\"1Y\",swap_type,0.0502,fixed_freq,dc_type)\n",
    "swap2 = IborSwap(settle_dt,\"2Y\",swap_type,0.0502,fixed_freq,dc_type)\n",
    "swap3 = IborSwap(settle_dt,\"3Y\",swap_type,0.0501,fixed_freq,dc_type)\n",
    "swap4 = IborSwap(settle_dt,\"4Y\",swap_type,0.0502,fixed_freq,dc_type)\n",
    "swap5 = IborSwap(settle_dt,\"5Y\",swap_type,0.0501,fixed_freq,dc_type)\n",
    "swaps = [swap1,swap2,swap3,swap4,swap5]\n",
    "\n",
    "libor_curve = IborSingleCurve(value_dt, depos, [], swaps)"
   ]
  },
  {
   "cell_type": "markdown",
   "metadata": {},
   "source": [
    "We treat an index as a CDS contract with a flat CDS curve at the CDS index spread for the same maturity"
   ]
  },
  {
   "cell_type": "markdown",
   "metadata": {},
   "source": [
    "## Create the Underlying CDS Index Portfolio"
   ]
  },
  {
   "cell_type": "code",
   "execution_count": 5,
   "metadata": {
    "execution": {
     "iopub.execute_input": "2025-09-14T22:21:36.107471Z",
     "iopub.status.busy": "2025-09-14T22:21:36.107347Z",
     "iopub.status.idle": "2025-09-14T22:21:36.109278Z",
     "shell.execute_reply": "2025-09-14T22:21:36.109053Z"
    }
   },
   "outputs": [],
   "source": [
    "step_in_dt = value_dt.add_weekdays(1)"
   ]
  },
  {
   "cell_type": "code",
   "execution_count": 6,
   "metadata": {
    "execution": {
     "iopub.execute_input": "2025-09-14T22:21:36.110314Z",
     "iopub.status.busy": "2025-09-14T22:21:36.110199Z",
     "iopub.status.idle": "2025-09-14T22:21:36.112201Z",
     "shell.execute_reply": "2025-09-14T22:21:36.111925Z"
    }
   },
   "outputs": [],
   "source": [
    "maturity_3yr = value_dt.next_cds_date(36)\n",
    "maturity_5yr = value_dt.next_cds_date(60)\n",
    "maturity_7yr = value_dt.next_cds_date(84)\n",
    "maturity_10yr = value_dt.next_cds_date(120)"
   ]
  },
  {
   "cell_type": "markdown",
   "metadata": {},
   "source": [
    "### Heterogeneous Curves"
   ]
  },
  {
   "cell_type": "code",
   "execution_count": 7,
   "metadata": {
    "execution": {
     "iopub.execute_input": "2025-09-14T22:21:36.113265Z",
     "iopub.status.busy": "2025-09-14T22:21:36.113156Z",
     "iopub.status.idle": "2025-09-14T22:21:36.118956Z",
     "shell.execute_reply": "2025-09-14T22:21:36.118386Z"
    }
   },
   "outputs": [
    {
     "name": "stdout",
     "output_type": "stream",
     "text": [
      "[WinError 3] The system cannot find the path specified: 'notebooks/products/credit/'\n",
      "C:\\Users\\domok\\Dropbox\\Desktop\\RESEARCH_DB\\FinancePy\\Code\\financepy-git\\notebooks\\products\\credit\n"
     ]
    },
    {
     "data": {
      "text/plain": [
       "'C:\\\\Users\\\\domok\\\\Dropbox\\\\Desktop\\\\RESEARCH_DB\\\\FinancePy\\\\Code\\\\financepy-git\\\\notebooks\\\\products\\\\credit'"
      ]
     },
     "execution_count": 7,
     "metadata": {},
     "output_type": "execute_result"
    }
   ],
   "source": [
    "# Move into the local folder of notebook\n",
    "%pwd\n",
    "%cd notebooks/products/credit/\n",
    "%pwd\n"
   ]
  },
  {
   "cell_type": "code",
   "execution_count": 8,
   "metadata": {
    "execution": {
     "iopub.execute_input": "2025-09-14T22:21:36.120055Z",
     "iopub.status.busy": "2025-09-14T22:21:36.119892Z",
     "iopub.status.idle": "2025-09-14T22:21:36.264119Z",
     "shell.execute_reply": "2025-09-14T22:21:36.263749Z"
    }
   },
   "outputs": [],
   "source": [
    "f = open('.//data//CDX_NA_IG_S7_SPREADS.csv', 'r')\n",
    "data = f.readlines()\n",
    "heteroIssuerCurves = []\n",
    "\n",
    "num_credits = len(data) - 1  # The file has a header\n",
    "\n",
    "for row in data[1:]:\n",
    "    splitRow = row.split(\",\")\n",
    "    spd3Y = float(splitRow[1]) / 10000.0\n",
    "    spd5Y = float(splitRow[2]) / 10000.0\n",
    "    spd7Y = float(splitRow[3]) / 10000.0\n",
    "    spd10Y = float(splitRow[4]) / 10000.0\n",
    "    recovery_rate = float(splitRow[5])\n",
    "    cds3Y = CDS(step_in_dt, maturity_3yr, spd3Y)\n",
    "    cds5Y = CDS(step_in_dt, maturity_5yr, spd5Y)\n",
    "    cds7Y = CDS(step_in_dt, maturity_7yr, spd7Y)\n",
    "    cds10Y = CDS(step_in_dt, maturity_10yr, spd10Y)\n",
    "    cds_contracts = [cds3Y, cds5Y, cds7Y, cds10Y]\n",
    "    issuer_curve = CDSCurve(value_dt, cds_contracts, libor_curve, recovery_rate)\n",
    "    heteroIssuerCurves.append(issuer_curve)"
   ]
  },
  {
   "cell_type": "markdown",
   "metadata": {},
   "source": [
    "### Homogeneous Curves "
   ]
  },
  {
   "cell_type": "markdown",
   "metadata": {},
   "source": [
    "Calculate the average spread of the heterogeneous portfolio"
   ]
  },
  {
   "cell_type": "code",
   "execution_count": 9,
   "metadata": {
    "execution": {
     "iopub.execute_input": "2025-09-14T22:21:36.265796Z",
     "iopub.status.busy": "2025-09-14T22:21:36.265651Z",
     "iopub.status.idle": "2025-09-14T22:21:36.268484Z",
     "shell.execute_reply": "2025-09-14T22:21:36.268161Z"
    }
   },
   "outputs": [],
   "source": [
    "homoIssuerCurves = []\n",
    "num_credits = 125\n",
    "recovery_rate = 0.40"
   ]
  },
  {
   "cell_type": "code",
   "execution_count": 10,
   "metadata": {
    "execution": {
     "iopub.execute_input": "2025-09-14T22:21:36.269758Z",
     "iopub.status.busy": "2025-09-14T22:21:36.269632Z",
     "iopub.status.idle": "2025-09-14T22:21:36.271961Z",
     "shell.execute_reply": "2025-09-14T22:21:36.271593Z"
    }
   },
   "outputs": [],
   "source": [
    "cdsIndex = CDSIndexPortfolio()"
   ]
  },
  {
   "cell_type": "code",
   "execution_count": 11,
   "metadata": {
    "execution": {
     "iopub.execute_input": "2025-09-14T22:21:36.272992Z",
     "iopub.status.busy": "2025-09-14T22:21:36.272877Z",
     "iopub.status.idle": "2025-09-14T22:21:36.288716Z",
     "shell.execute_reply": "2025-09-14T22:21:36.287735Z"
    }
   },
   "outputs": [],
   "source": [
    "spd3Y = cdsIndex.intrinsic_spread(value_dt, step_in_dt, maturity_3yr, heteroIssuerCurves)\n",
    "spd5Y = cdsIndex.intrinsic_spread(value_dt, step_in_dt, maturity_5yr, heteroIssuerCurves)\n",
    "spd7Y = cdsIndex.intrinsic_spread(value_dt, step_in_dt, maturity_7yr, heteroIssuerCurves)\n",
    "spd10Y = cdsIndex.intrinsic_spread(value_dt, step_in_dt, maturity_10yr, heteroIssuerCurves)"
   ]
  },
  {
   "cell_type": "code",
   "execution_count": 12,
   "metadata": {
    "execution": {
     "iopub.execute_input": "2025-09-14T22:21:36.290689Z",
     "iopub.status.busy": "2025-09-14T22:21:36.290546Z",
     "iopub.status.idle": "2025-09-14T22:21:36.293426Z",
     "shell.execute_reply": "2025-09-14T22:21:36.293202Z"
    }
   },
   "outputs": [
    {
     "name": "stdout",
     "output_type": "stream",
     "text": [
      "Homogeneous curve 3Y: 19.67855145586222\n",
      "Homogeneous curve 5Y: 35.537520216151265\n",
      "Homogeneous curve 7Y: 49.008062953328185\n",
      "Homogeneous curve 10Y: 61.407349264326484\n"
     ]
    }
   ],
   "source": [
    "print(\"Homogeneous curve 3Y:\", spd3Y*10000)\n",
    "print(\"Homogeneous curve 5Y:\", spd5Y*10000)\n",
    "print(\"Homogeneous curve 7Y:\", spd7Y*10000)\n",
    "print(\"Homogeneous curve 10Y:\", spd10Y*10000)"
   ]
  },
  {
   "cell_type": "code",
   "execution_count": 13,
   "metadata": {
    "execution": {
     "iopub.execute_input": "2025-09-14T22:21:36.294367Z",
     "iopub.status.busy": "2025-09-14T22:21:36.294242Z",
     "iopub.status.idle": "2025-09-14T22:21:36.554039Z",
     "shell.execute_reply": "2025-09-14T22:21:36.553589Z"
    }
   },
   "outputs": [],
   "source": [
    "for row in range(0,num_credits):\n",
    "    cds3Y = CDS(step_in_dt, maturity_3yr, spd3Y)\n",
    "    cds5Y = CDS(step_in_dt, maturity_5yr, spd5Y)\n",
    "    cds7Y = CDS(step_in_dt, maturity_7yr, spd7Y)\n",
    "    cds10Y = CDS(step_in_dt, maturity_10yr, spd10Y)\n",
    "    cds_contracts = [cds3Y, cds5Y, cds7Y, cds10Y]\n",
    "    issuer_curve = CDSCurve(value_dt, cds_contracts, libor_curve, recovery_rate)\n",
    "    homoIssuerCurves.append(issuer_curve)"
   ]
  },
  {
   "cell_type": "markdown",
   "metadata": {},
   "source": [
    "## Define the Tranches"
   ]
  },
  {
   "cell_type": "code",
   "execution_count": 14,
   "metadata": {
    "execution": {
     "iopub.execute_input": "2025-09-14T22:21:36.557255Z",
     "iopub.status.busy": "2025-09-14T22:21:36.556872Z",
     "iopub.status.idle": "2025-09-14T22:21:36.561748Z",
     "shell.execute_reply": "2025-09-14T22:21:36.561147Z"
    }
   },
   "outputs": [],
   "source": [
    "trancheMaturity = maturity_5yr\n",
    "tranche1 = CDSTranche(value_dt, trancheMaturity, 0.00, 0.03)\n",
    "tranche2 = CDSTranche(value_dt, trancheMaturity, 0.03, 0.06)\n",
    "tranche3 = CDSTranche(value_dt, trancheMaturity, 0.06, 0.09)\n",
    "tranche4 = CDSTranche(value_dt, trancheMaturity, 0.09, 0.12)\n",
    "tranche5 = CDSTranche(value_dt, trancheMaturity, 0.12, 0.22)\n",
    "tranche6 = CDSTranche(value_dt, trancheMaturity, 0.22, 0.60)\n",
    "tranche7 = CDSTranche(value_dt, trancheMaturity, 0.00, 0.60)\n",
    "tranche8 = CDSTranche(value_dt, trancheMaturity, 0.00, 1.00)"
   ]
  },
  {
   "cell_type": "code",
   "execution_count": 15,
   "metadata": {
    "execution": {
     "iopub.execute_input": "2025-09-14T22:21:36.562999Z",
     "iopub.status.busy": "2025-09-14T22:21:36.562879Z",
     "iopub.status.idle": "2025-09-14T22:21:36.565409Z",
     "shell.execute_reply": "2025-09-14T22:21:36.565169Z"
    }
   },
   "outputs": [],
   "source": [
    "tranches = [tranche1, tranche2, tranche3, tranche4, tranche5, tranche6, tranche7, tranche8]"
   ]
  },
  {
   "cell_type": "code",
   "execution_count": 16,
   "metadata": {
    "execution": {
     "iopub.execute_input": "2025-09-14T22:21:36.566454Z",
     "iopub.status.busy": "2025-09-14T22:21:36.566325Z",
     "iopub.status.idle": "2025-09-14T22:21:36.568185Z",
     "shell.execute_reply": "2025-09-14T22:21:36.568009Z"
    }
   },
   "outputs": [],
   "source": [
    "corr1 = 0.30\n",
    "corr2 = 0.30\n",
    "upfront = 0.0\n",
    "spd = 0.0"
   ]
  },
  {
   "cell_type": "markdown",
   "metadata": {},
   "source": [
    "## Homogeneous Portfolio Results"
   ]
  },
  {
   "cell_type": "code",
   "execution_count": 17,
   "metadata": {
    "execution": {
     "iopub.execute_input": "2025-09-14T22:21:36.569216Z",
     "iopub.status.busy": "2025-09-14T22:21:36.569111Z",
     "iopub.status.idle": "2025-09-14T22:21:36.811907Z",
     "shell.execute_reply": "2025-09-14T22:21:36.811557Z"
    }
   },
   "outputs": [
    {
     "name": "stdout",
     "output_type": "stream",
     "text": [
      "                                            Method NumPts       k_1       k_2     SPD(BPS)\n",
      "              FinLossDistributionBuilder.RECURSION    50   0.00000   3.00000   875.466884\n",
      "      FinLossDistributionBuilder.ADJUSTED_BINOMIAL    50   0.00000   3.00000   875.466884\n",
      "               FinLossDistributionBuilder.GAUSSIAN    50   0.00000   3.00000   908.968772\n",
      "                    FinLossDistributionBuilder.LHP    50   0.00000   3.00000   914.784522\n",
      "=============================================================================================\n",
      "              FinLossDistributionBuilder.RECURSION    50   3.00000   6.00000   239.596331\n",
      "      FinLossDistributionBuilder.ADJUSTED_BINOMIAL    50   3.00000   6.00000   239.596331\n",
      "               FinLossDistributionBuilder.GAUSSIAN    50   3.00000   6.00000   239.285369\n",
      "                    FinLossDistributionBuilder.LHP    50   3.00000   6.00000   226.821508\n",
      "=============================================================================================\n",
      "              FinLossDistributionBuilder.RECURSION    50   6.00000   9.00000   102.118666\n",
      "      FinLossDistributionBuilder.ADJUSTED_BINOMIAL    50   6.00000   9.00000   102.118666\n",
      "               FinLossDistributionBuilder.GAUSSIAN    50   6.00000   9.00000   101.786854\n",
      "                    FinLossDistributionBuilder.LHP    50   6.00000   9.00000    94.912055\n",
      "=============================================================================================\n",
      "              FinLossDistributionBuilder.RECURSION    50   9.00000  12.00000    49.204858\n",
      "      FinLossDistributionBuilder.ADJUSTED_BINOMIAL    50   9.00000  12.00000    49.204858\n",
      "               FinLossDistributionBuilder.GAUSSIAN    50   9.00000  12.00000    49.026248\n",
      "                    FinLossDistributionBuilder.LHP    50   9.00000  12.00000    45.127517\n",
      "=============================================================================================\n",
      "              FinLossDistributionBuilder.RECURSION    50  12.00000  22.00000    14.016531\n",
      "      FinLossDistributionBuilder.ADJUSTED_BINOMIAL    50  12.00000  22.00000    14.016531\n",
      "               FinLossDistributionBuilder.GAUSSIAN    50  12.00000  22.00000    13.997273\n",
      "                    FinLossDistributionBuilder.LHP    50  12.00000  22.00000    12.627929\n",
      "=============================================================================================\n",
      "              FinLossDistributionBuilder.RECURSION    50  22.00000  60.00000     0.489269\n",
      "      FinLossDistributionBuilder.ADJUSTED_BINOMIAL    50  22.00000  60.00000     0.489269\n",
      "               FinLossDistributionBuilder.GAUSSIAN    50  22.00000  60.00000     0.488309\n",
      "                    FinLossDistributionBuilder.LHP    50  22.00000  60.00000     0.417939\n",
      "=============================================================================================\n",
      "              FinLossDistributionBuilder.RECURSION    50   0.00000  60.00000    59.212843\n",
      "      FinLossDistributionBuilder.ADJUSTED_BINOMIAL    50   0.00000  60.00000    59.212843\n"
     ]
    },
    {
     "name": "stdout",
     "output_type": "stream",
     "text": [
      "               FinLossDistributionBuilder.GAUSSIAN    50   0.00000  60.00000    60.175832\n",
      "                    FinLossDistributionBuilder.LHP    50   0.00000  60.00000    59.212721\n",
      "=============================================================================================\n",
      "              FinLossDistributionBuilder.RECURSION    50   0.00000 100.00000    35.374671\n",
      "      FinLossDistributionBuilder.ADJUSTED_BINOMIAL    50   0.00000 100.00000    35.374671\n",
      "               FinLossDistributionBuilder.GAUSSIAN    50   0.00000 100.00000    35.942993\n",
      "                    FinLossDistributionBuilder.LHP    50   0.00000 100.00000    35.374663\n",
      "=============================================================================================\n"
     ]
    }
   ],
   "source": [
    "print(\"%50s %5s %9s %9s %12s\"% (\"Method\", \"NumPts\", \"k_1\", \"k_2\", \"SPD(BPS)\"))\n",
    "for tranche in tranches:\n",
    "    for method in FinLossDistributionBuilder:\n",
    "        for num_points in [50]:\n",
    "            v = tranche.value_bc(value_dt,homoIssuerCurves,upfront,spd,corr1,corr2,num_points,method)\n",
    "            print(\"%50s %5d %9.5f %9.5f %12.6f\"% (method, num_points, tranche.k1*100, tranche.k2*100, v[3] * 10000))\n",
    "    print(\"=============================================================================================\")"
   ]
  },
  {
   "cell_type": "markdown",
   "metadata": {},
   "source": [
    "## Heterogeneous Portfolio Results"
   ]
  },
  {
   "cell_type": "code",
   "execution_count": 18,
   "metadata": {
    "execution": {
     "iopub.execute_input": "2025-09-14T22:21:36.814002Z",
     "iopub.status.busy": "2025-09-14T22:21:36.813824Z",
     "iopub.status.idle": "2025-09-14T22:21:37.047530Z",
     "shell.execute_reply": "2025-09-14T22:21:37.047155Z"
    },
    "scrolled": false
   },
   "outputs": [
    {
     "name": "stdout",
     "output_type": "stream",
     "text": [
      "                                            Method NumPts       k_1       k_2     SPD(BPS)\n",
      "              FinLossDistributionBuilder.RECURSION    50    0.00000   3.00000   949.984779\n",
      "      FinLossDistributionBuilder.ADJUSTED_BINOMIAL    50    0.00000   3.00000   949.916608\n",
      "               FinLossDistributionBuilder.GAUSSIAN    50    0.00000   3.00000   983.655339\n",
      "                    FinLossDistributionBuilder.LHP    50    0.00000   3.00000   915.154077\n",
      "=============================================================================================\n",
      "              FinLossDistributionBuilder.RECURSION    50    3.00000   6.00000   230.901641\n",
      "      FinLossDistributionBuilder.ADJUSTED_BINOMIAL    50    3.00000   6.00000   230.993770\n",
      "               FinLossDistributionBuilder.GAUSSIAN    50    3.00000   6.00000   230.457304\n",
      "                    FinLossDistributionBuilder.LHP    50    3.00000   6.00000   226.820737\n",
      "=============================================================================================\n",
      "              FinLossDistributionBuilder.RECURSION    50    6.00000   9.00000    87.191640\n",
      "      FinLossDistributionBuilder.ADJUSTED_BINOMIAL    50    6.00000   9.00000    87.249549\n",
      "               FinLossDistributionBuilder.GAUSSIAN    50    6.00000   9.00000    86.830942\n",
      "                    FinLossDistributionBuilder.LHP    50    6.00000   9.00000    94.899422\n",
      "=============================================================================================\n",
      "              FinLossDistributionBuilder.RECURSION    50    9.00000  12.00000    37.474141\n",
      "      FinLossDistributionBuilder.ADJUSTED_BINOMIAL    50    9.00000  12.00000    37.323066\n",
      "               FinLossDistributionBuilder.GAUSSIAN    50    9.00000  12.00000    37.310331\n",
      "                    FinLossDistributionBuilder.LHP    50    9.00000  12.00000    45.117984\n",
      "=============================================================================================\n",
      "              FinLossDistributionBuilder.RECURSION    50   12.00000  22.00000     8.937857\n",
      "      FinLossDistributionBuilder.ADJUSTED_BINOMIAL    50   12.00000  22.00000     8.954052\n",
      "               FinLossDistributionBuilder.GAUSSIAN    50   12.00000  22.00000     8.924332\n",
      "                    FinLossDistributionBuilder.LHP    50   12.00000  22.00000    12.624120\n",
      "=============================================================================================\n",
      "              FinLossDistributionBuilder.RECURSION    50   22.00000  60.00000     0.212491\n",
      "      FinLossDistributionBuilder.ADJUSTED_BINOMIAL    50   22.00000  60.00000     0.212564\n",
      "               FinLossDistributionBuilder.GAUSSIAN    50   22.00000  60.00000     0.212015\n"
     ]
    },
    {
     "name": "stdout",
     "output_type": "stream",
     "text": [
      "                    FinLossDistributionBuilder.LHP    50   22.00000  60.00000     0.417912\n",
      "=============================================================================================\n",
      "              FinLossDistributionBuilder.RECURSION    50    0.00000  60.00000    59.212818\n",
      "      FinLossDistributionBuilder.ADJUSTED_BINOMIAL    50    0.00000  60.00000    59.212818\n"
     ]
    },
    {
     "name": "stdout",
     "output_type": "stream",
     "text": [
      "               FinLossDistributionBuilder.GAUSSIAN    50    0.00000  60.00000    60.116572\n",
      "                    FinLossDistributionBuilder.LHP    50    0.00000  60.00000    59.212781\n",
      "=============================================================================================\n",
      "              FinLossDistributionBuilder.RECURSION    50    0.00000 100.00000    35.374318\n",
      "      FinLossDistributionBuilder.ADJUSTED_BINOMIAL    50    0.00000 100.00000    35.374318\n",
      "               FinLossDistributionBuilder.GAUSSIAN    50    0.00000 100.00000    35.907133\n",
      "                    FinLossDistributionBuilder.LHP    50    0.00000 100.00000    35.374301\n",
      "=============================================================================================\n"
     ]
    }
   ],
   "source": [
    "print(\"%50s %5s %9s %9s %12s\"% (\"Method\", \"NumPts\", \"k_1\", \"k_2\", \"SPD(BPS)\"))\n",
    "\n",
    "for tranche in tranches:\n",
    "    for method in FinLossDistributionBuilder:\n",
    "        for num_points in [50]:\n",
    "            v = tranche.value_bc(value_dt,heteroIssuerCurves,upfront,spd,corr1,corr2,num_points,method)\n",
    "            print(\"%50s %5d  %9.5f %9.5f %12.6f\"% (method, num_points, tranche.k1*100, tranche.k2*100, v[3] * 10000))\n",
    "    print(\"=============================================================================================\")"
   ]
  },
  {
   "cell_type": "markdown",
   "metadata": {},
   "source": [
    "Copyright (c) 2020 Dominic O'Kane"
   ]
  }
 ],
 "metadata": {
  "kernelspec": {
   "display_name": "base",
   "language": "python",
   "name": "python3"
  },
  "language_info": {
   "codemirror_mode": {
    "name": "ipython",
    "version": 3
   },
   "file_extension": ".py",
   "mimetype": "text/x-python",
   "name": "python",
   "nbconvert_exporter": "python",
   "pygments_lexer": "ipython3",
   "version": "3.13.7"
  }
 },
 "nbformat": 4,
 "nbformat_minor": 2
}
