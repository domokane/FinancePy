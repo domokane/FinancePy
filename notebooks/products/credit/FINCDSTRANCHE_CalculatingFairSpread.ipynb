{
 "cells": [
  {
   "cell_type": "markdown",
   "metadata": {},
   "source": [
    "# Determining the Fair Spread of a CDS Tranche"
   ]
  },
  {
   "cell_type": "markdown",
   "metadata": {},
   "source": [
    "An analysis of pricing a CDS Index using its intrinsic value"
   ]
  },
  {
   "cell_type": "code",
   "execution_count": 1,
   "metadata": {
    "execution": {
     "iopub.execute_input": "2025-08-27T22:30:58.329820Z",
     "iopub.status.busy": "2025-08-27T22:30:58.329541Z",
     "iopub.status.idle": "2025-08-27T22:30:58.828739Z",
     "shell.execute_reply": "2025-08-27T22:30:58.828163Z"
    }
   },
   "outputs": [],
   "source": [
    "import numpy as np\n",
    "import matplotlib.pyplot as plt"
   ]
  },
  {
   "cell_type": "code",
   "execution_count": 2,
   "metadata": {
    "execution": {
     "iopub.execute_input": "2025-08-27T22:30:58.830880Z",
     "iopub.status.busy": "2025-08-27T22:30:58.830614Z",
     "iopub.status.idle": "2025-08-27T22:31:01.340008Z",
     "shell.execute_reply": "2025-08-27T22:31:01.339611Z"
    }
   },
   "outputs": [],
   "source": [
    "from financepy.utils import *\n",
    "from financepy.products.rates import *\n",
    "from financepy.products.credit import *"
   ]
  },
  {
   "cell_type": "code",
   "execution_count": 3,
   "metadata": {
    "execution": {
     "iopub.execute_input": "2025-08-27T22:31:01.342025Z",
     "iopub.status.busy": "2025-08-27T22:31:01.341740Z",
     "iopub.status.idle": "2025-08-27T22:31:01.364449Z",
     "shell.execute_reply": "2025-08-27T22:31:01.363912Z"
    }
   },
   "outputs": [],
   "source": [
    "value_dt = Date(2, 8, 2007)\n",
    "settle_dt = value_dt.add_weekdays(1)"
   ]
  },
  {
   "cell_type": "markdown",
   "metadata": {},
   "source": [
    "## Build Ibor Curve"
   ]
  },
  {
   "cell_type": "code",
   "execution_count": 4,
   "metadata": {
    "execution": {
     "iopub.execute_input": "2025-08-27T22:31:01.366351Z",
     "iopub.status.busy": "2025-08-27T22:31:01.366146Z",
     "iopub.status.idle": "2025-08-27T22:31:01.380684Z",
     "shell.execute_reply": "2025-08-27T22:31:01.380268Z"
    }
   },
   "outputs": [],
   "source": [
    "dc_type = DayCountTypes.THIRTY_E_360_ISDA\n",
    "depos = []\n",
    "depo = IborDeposit(value_dt, \"1D\", 0.0500, dc_type); depos.append(depo)\n",
    "depo = IborDeposit(settle_dt, \"1D\", 0.0500, dc_type); depos.append(depo)\n",
    "\n",
    "fixed_freq = FrequencyTypes.SEMI_ANNUAL\n",
    "swap_type = SwapTypes.PAY\n",
    "swap1 = IborSwap(settle_dt,\"1Y\",swap_type,0.0502,fixed_freq,dc_type)\n",
    "swap2 = IborSwap(settle_dt,\"2Y\",swap_type,0.0502,fixed_freq,dc_type)\n",
    "swap3 = IborSwap(settle_dt,\"3Y\",swap_type,0.0501,fixed_freq,dc_type)\n",
    "swap4 = IborSwap(settle_dt,\"4Y\",swap_type,0.0502,fixed_freq,dc_type)\n",
    "swap5 = IborSwap(settle_dt,\"5Y\",swap_type,0.0501,fixed_freq,dc_type)\n",
    "swaps = [swap1,swap2,swap3,swap4,swap5]\n",
    "\n",
    "libor_curve = IborSingleCurve(value_dt, depos, [], swaps)"
   ]
  },
  {
   "cell_type": "markdown",
   "metadata": {},
   "source": [
    "We treat an index as a CDS contract with a flat CDS curve at the CDS index spread for the same maturity"
   ]
  },
  {
   "cell_type": "markdown",
   "metadata": {},
   "source": [
    "## Create the Underlying CDS Index Portfolio"
   ]
  },
  {
   "cell_type": "code",
   "execution_count": 5,
   "metadata": {
    "execution": {
     "iopub.execute_input": "2025-08-27T22:31:01.382890Z",
     "iopub.status.busy": "2025-08-27T22:31:01.382643Z",
     "iopub.status.idle": "2025-08-27T22:31:01.385063Z",
     "shell.execute_reply": "2025-08-27T22:31:01.384666Z"
    }
   },
   "outputs": [],
   "source": [
    "step_in_dt = value_dt.add_weekdays(1)"
   ]
  },
  {
   "cell_type": "code",
   "execution_count": 6,
   "metadata": {
    "execution": {
     "iopub.execute_input": "2025-08-27T22:31:01.386878Z",
     "iopub.status.busy": "2025-08-27T22:31:01.386556Z",
     "iopub.status.idle": "2025-08-27T22:31:01.389406Z",
     "shell.execute_reply": "2025-08-27T22:31:01.389016Z"
    }
   },
   "outputs": [],
   "source": [
    "maturity_3yr = value_dt.next_cds_date(36)\n",
    "maturity_5yr = value_dt.next_cds_date(60)\n",
    "maturity_7yr = value_dt.next_cds_date(84)\n",
    "maturity_10yr = value_dt.next_cds_date(120)"
   ]
  },
  {
   "cell_type": "markdown",
   "metadata": {},
   "source": [
    "### Heterogeneous Curves"
   ]
  },
  {
   "cell_type": "code",
   "execution_count": 7,
   "metadata": {
    "execution": {
     "iopub.execute_input": "2025-08-27T22:31:01.391396Z",
     "iopub.status.busy": "2025-08-27T22:31:01.391089Z",
     "iopub.status.idle": "2025-08-27T22:31:01.399118Z",
     "shell.execute_reply": "2025-08-27T22:31:01.398651Z"
    }
   },
   "outputs": [
    {
     "name": "stdout",
     "output_type": "stream",
     "text": [
      "[WinError 3] The system cannot find the path specified: 'notebooks/products/credit/'\n",
      "C:\\Users\\Dominic\\Dropbox\\Desktop\\RESEARCH_DB\\FinancePy\\Code\\financepy-git\\notebooks\\products\\credit\n"
     ]
    },
    {
     "data": {
      "text/plain": [
       "'C:\\\\Users\\\\Dominic\\\\Dropbox\\\\Desktop\\\\RESEARCH_DB\\\\FinancePy\\\\Code\\\\financepy-git\\\\notebooks\\\\products\\\\credit'"
      ]
     },
     "execution_count": 7,
     "metadata": {},
     "output_type": "execute_result"
    }
   ],
   "source": [
    "# Move into the local folder of notebook\n",
    "%pwd\n",
    "%cd notebooks/products/credit/\n",
    "%pwd\n"
   ]
  },
  {
   "cell_type": "code",
   "execution_count": 8,
   "metadata": {
    "execution": {
     "iopub.execute_input": "2025-08-27T22:31:01.401229Z",
     "iopub.status.busy": "2025-08-27T22:31:01.400934Z",
     "iopub.status.idle": "2025-08-27T22:31:01.773218Z",
     "shell.execute_reply": "2025-08-27T22:31:01.772672Z"
    }
   },
   "outputs": [],
   "source": [
    "f = open('.//data//CDX_NA_IG_S7_SPREADS.csv', 'r')\n",
    "data = f.readlines()\n",
    "heteroIssuerCurves = []\n",
    "\n",
    "num_credits = len(data) - 1  # The file has a header\n",
    "\n",
    "for row in data[1:]:\n",
    "    splitRow = row.split(\",\")\n",
    "    spd3Y = float(splitRow[1]) / 10000.0\n",
    "    spd5Y = float(splitRow[2]) / 10000.0\n",
    "    spd7Y = float(splitRow[3]) / 10000.0\n",
    "    spd10Y = float(splitRow[4]) / 10000.0\n",
    "    recovery_rate = float(splitRow[5])\n",
    "    cds3Y = CDS(step_in_dt, maturity_3yr, spd3Y)\n",
    "    cds5Y = CDS(step_in_dt, maturity_5yr, spd5Y)\n",
    "    cds7Y = CDS(step_in_dt, maturity_7yr, spd7Y)\n",
    "    cds10Y = CDS(step_in_dt, maturity_10yr, spd10Y)\n",
    "    cds_contracts = [cds3Y, cds5Y, cds7Y, cds10Y]\n",
    "    issuer_curve = CDSCurve(value_dt, cds_contracts, libor_curve, recovery_rate)\n",
    "    heteroIssuerCurves.append(issuer_curve)"
   ]
  },
  {
   "cell_type": "markdown",
   "metadata": {},
   "source": [
    "### Homogeneous Curves "
   ]
  },
  {
   "cell_type": "markdown",
   "metadata": {},
   "source": [
    "Calculate the average spread of the heterogeneous portfolio"
   ]
  },
  {
   "cell_type": "code",
   "execution_count": 9,
   "metadata": {
    "execution": {
     "iopub.execute_input": "2025-08-27T22:31:01.775790Z",
     "iopub.status.busy": "2025-08-27T22:31:01.775407Z",
     "iopub.status.idle": "2025-08-27T22:31:01.778051Z",
     "shell.execute_reply": "2025-08-27T22:31:01.777545Z"
    }
   },
   "outputs": [],
   "source": [
    "homoIssuerCurves = []\n",
    "num_credits = 125\n",
    "recovery_rate = 0.40"
   ]
  },
  {
   "cell_type": "code",
   "execution_count": 10,
   "metadata": {
    "execution": {
     "iopub.execute_input": "2025-08-27T22:31:01.780144Z",
     "iopub.status.busy": "2025-08-27T22:31:01.779746Z",
     "iopub.status.idle": "2025-08-27T22:31:01.782223Z",
     "shell.execute_reply": "2025-08-27T22:31:01.781817Z"
    }
   },
   "outputs": [],
   "source": [
    "cdsIndex = CDSIndexPortfolio()"
   ]
  },
  {
   "cell_type": "code",
   "execution_count": 11,
   "metadata": {
    "execution": {
     "iopub.execute_input": "2025-08-27T22:31:01.783836Z",
     "iopub.status.busy": "2025-08-27T22:31:01.783639Z",
     "iopub.status.idle": "2025-08-27T22:31:01.808048Z",
     "shell.execute_reply": "2025-08-27T22:31:01.807635Z"
    }
   },
   "outputs": [],
   "source": [
    "spd3Y = cdsIndex.intrinsic_spread(value_dt, step_in_dt, maturity_3yr, heteroIssuerCurves)\n",
    "spd5Y = cdsIndex.intrinsic_spread(value_dt, step_in_dt, maturity_5yr, heteroIssuerCurves)\n",
    "spd7Y = cdsIndex.intrinsic_spread(value_dt, step_in_dt, maturity_7yr, heteroIssuerCurves)\n",
    "spd10Y = cdsIndex.intrinsic_spread(value_dt, step_in_dt, maturity_10yr, heteroIssuerCurves)"
   ]
  },
  {
   "cell_type": "code",
   "execution_count": 12,
   "metadata": {
    "execution": {
     "iopub.execute_input": "2025-08-27T22:31:01.810324Z",
     "iopub.status.busy": "2025-08-27T22:31:01.810008Z",
     "iopub.status.idle": "2025-08-27T22:31:01.812959Z",
     "shell.execute_reply": "2025-08-27T22:31:01.812630Z"
    }
   },
   "outputs": [
    {
     "name": "stdout",
     "output_type": "stream",
     "text": [
      "Homogeneous curve 3Y: 19.67879398295557\n",
      "Homogeneous curve 5Y: 35.539142389477774\n",
      "Homogeneous curve 7Y: 49.01183816666462\n",
      "Homogeneous curve 10Y: 61.413769315177525\n"
     ]
    }
   ],
   "source": [
    "print(\"Homogeneous curve 3Y:\", spd3Y*10000)\n",
    "print(\"Homogeneous curve 5Y:\", spd5Y*10000)\n",
    "print(\"Homogeneous curve 7Y:\", spd7Y*10000)\n",
    "print(\"Homogeneous curve 10Y:\", spd10Y*10000)"
   ]
  },
  {
   "cell_type": "code",
   "execution_count": 13,
   "metadata": {
    "execution": {
     "iopub.execute_input": "2025-08-27T22:31:01.814845Z",
     "iopub.status.busy": "2025-08-27T22:31:01.814525Z",
     "iopub.status.idle": "2025-08-27T22:31:02.081356Z",
     "shell.execute_reply": "2025-08-27T22:31:02.080832Z"
    }
   },
   "outputs": [],
   "source": [
    "for row in range(0,num_credits):\n",
    "    cds3Y = CDS(step_in_dt, maturity_3yr, spd3Y)\n",
    "    cds5Y = CDS(step_in_dt, maturity_5yr, spd5Y)\n",
    "    cds7Y = CDS(step_in_dt, maturity_7yr, spd7Y)\n",
    "    cds10Y = CDS(step_in_dt, maturity_10yr, spd10Y)\n",
    "    cds_contracts = [cds3Y, cds5Y, cds7Y, cds10Y]\n",
    "    issuer_curve = CDSCurve(value_dt, cds_contracts, libor_curve, recovery_rate)\n",
    "    homoIssuerCurves.append(issuer_curve)"
   ]
  },
  {
   "cell_type": "markdown",
   "metadata": {},
   "source": [
    "## Define the Tranches"
   ]
  },
  {
   "cell_type": "code",
   "execution_count": 14,
   "metadata": {
    "execution": {
     "iopub.execute_input": "2025-08-27T22:31:02.083728Z",
     "iopub.status.busy": "2025-08-27T22:31:02.083510Z",
     "iopub.status.idle": "2025-08-27T22:31:02.089202Z",
     "shell.execute_reply": "2025-08-27T22:31:02.088870Z"
    }
   },
   "outputs": [],
   "source": [
    "trancheMaturity = maturity_5yr\n",
    "tranche1 = CDSTranche(value_dt, trancheMaturity, 0.00, 0.03)\n",
    "tranche2 = CDSTranche(value_dt, trancheMaturity, 0.03, 0.06)\n",
    "tranche3 = CDSTranche(value_dt, trancheMaturity, 0.06, 0.09)\n",
    "tranche4 = CDSTranche(value_dt, trancheMaturity, 0.09, 0.12)\n",
    "tranche5 = CDSTranche(value_dt, trancheMaturity, 0.12, 0.22)\n",
    "tranche6 = CDSTranche(value_dt, trancheMaturity, 0.22, 0.60)\n",
    "tranche7 = CDSTranche(value_dt, trancheMaturity, 0.00, 0.60)\n",
    "tranche8 = CDSTranche(value_dt, trancheMaturity, 0.00, 1.00)"
   ]
  },
  {
   "cell_type": "code",
   "execution_count": 15,
   "metadata": {
    "execution": {
     "iopub.execute_input": "2025-08-27T22:31:02.091019Z",
     "iopub.status.busy": "2025-08-27T22:31:02.090732Z",
     "iopub.status.idle": "2025-08-27T22:31:02.093240Z",
     "shell.execute_reply": "2025-08-27T22:31:02.092832Z"
    }
   },
   "outputs": [],
   "source": [
    "tranches = [tranche1, tranche2, tranche3, tranche4, tranche5, tranche6, tranche7, tranche8]"
   ]
  },
  {
   "cell_type": "code",
   "execution_count": 16,
   "metadata": {
    "execution": {
     "iopub.execute_input": "2025-08-27T22:31:02.095031Z",
     "iopub.status.busy": "2025-08-27T22:31:02.094692Z",
     "iopub.status.idle": "2025-08-27T22:31:02.097395Z",
     "shell.execute_reply": "2025-08-27T22:31:02.097068Z"
    }
   },
   "outputs": [],
   "source": [
    "corr1 = 0.30\n",
    "corr2 = 0.30\n",
    "upfront = 0.0\n",
    "spd = 0.0"
   ]
  },
  {
   "cell_type": "markdown",
   "metadata": {},
   "source": [
    "## Homogeneous Portfolio Results"
   ]
  },
  {
   "cell_type": "code",
   "execution_count": 17,
   "metadata": {
    "execution": {
     "iopub.execute_input": "2025-08-27T22:31:02.099350Z",
     "iopub.status.busy": "2025-08-27T22:31:02.099165Z",
     "iopub.status.idle": "2025-08-27T22:31:02.899390Z",
     "shell.execute_reply": "2025-08-27T22:31:02.898987Z"
    }
   },
   "outputs": [
    {
     "name": "stdout",
     "output_type": "stream",
     "text": [
      "                                            Method NumPts       k_1       k_2     SPD(BPS)\n",
      "              FinLossDistributionBuilder.RECURSION    50   0.00000   3.00000   875.088146\n",
      "      FinLossDistributionBuilder.ADJUSTED_BINOMIAL    50   0.00000   3.00000   875.088146\n",
      "               FinLossDistributionBuilder.GAUSSIAN    50   0.00000   3.00000   908.571411\n"
     ]
    },
    {
     "name": "stdout",
     "output_type": "stream",
     "text": [
      "                    FinLossDistributionBuilder.LHP    50   0.00000   3.00000   914.366815\n",
      "=============================================================================================\n",
      "              FinLossDistributionBuilder.RECURSION    50   3.00000   6.00000   239.580083\n",
      "      FinLossDistributionBuilder.ADJUSTED_BINOMIAL    50   3.00000   6.00000   239.580083\n",
      "               FinLossDistributionBuilder.GAUSSIAN    50   3.00000   6.00000   239.269213\n",
      "                    FinLossDistributionBuilder.LHP    50   3.00000   6.00000   226.808804\n",
      "=============================================================================================\n",
      "              FinLossDistributionBuilder.RECURSION    50   6.00000   9.00000   102.124297\n",
      "      FinLossDistributionBuilder.ADJUSTED_BINOMIAL    50   6.00000   9.00000   102.124297\n",
      "               FinLossDistributionBuilder.GAUSSIAN    50   6.00000   9.00000   101.792518\n",
      "                    FinLossDistributionBuilder.LHP    50   6.00000   9.00000    94.918261\n",
      "=============================================================================================\n",
      "              FinLossDistributionBuilder.RECURSION    50   9.00000  12.00000    49.210550\n",
      "      FinLossDistributionBuilder.ADJUSTED_BINOMIAL    50   9.00000  12.00000    49.210550\n",
      "               FinLossDistributionBuilder.GAUSSIAN    50   9.00000  12.00000    49.031938\n",
      "                    FinLossDistributionBuilder.LHP    50   9.00000  12.00000    45.133119\n",
      "=============================================================================================\n",
      "              FinLossDistributionBuilder.RECURSION    50  12.00000  22.00000    14.018928\n",
      "      FinLossDistributionBuilder.ADJUSTED_BINOMIAL    50  12.00000  22.00000    14.018928\n",
      "               FinLossDistributionBuilder.GAUSSIAN    50  12.00000  22.00000    13.999669\n",
      "                    FinLossDistributionBuilder.LHP    50  12.00000  22.00000    12.630172\n",
      "=============================================================================================\n",
      "              FinLossDistributionBuilder.RECURSION    50  22.00000  60.00000     0.489382\n",
      "      FinLossDistributionBuilder.ADJUSTED_BINOMIAL    50  22.00000  60.00000     0.489382\n"
     ]
    },
    {
     "name": "stdout",
     "output_type": "stream",
     "text": [
      "               FinLossDistributionBuilder.GAUSSIAN    50  22.00000  60.00000     0.488422\n",
      "                    FinLossDistributionBuilder.LHP    50  22.00000  60.00000     0.418217\n",
      "=============================================================================================\n",
      "              FinLossDistributionBuilder.RECURSION    50   0.00000  60.00000    59.215546\n",
      "      FinLossDistributionBuilder.ADJUSTED_BINOMIAL    50   0.00000  60.00000    59.215546\n",
      "               FinLossDistributionBuilder.GAUSSIAN    50   0.00000  60.00000    60.178480\n",
      "                    FinLossDistributionBuilder.LHP    50   0.00000  60.00000    59.215539\n",
      "=============================================================================================\n",
      "              FinLossDistributionBuilder.RECURSION    50   0.00000 100.00000    35.376821\n",
      "      FinLossDistributionBuilder.ADJUSTED_BINOMIAL    50   0.00000 100.00000    35.376821\n",
      "               FinLossDistributionBuilder.GAUSSIAN    50   0.00000 100.00000    35.945117\n",
      "                    FinLossDistributionBuilder.LHP    50   0.00000 100.00000    35.376814\n",
      "=============================================================================================\n"
     ]
    }
   ],
   "source": [
    "print(\"%50s %5s %9s %9s %12s\"% (\"Method\", \"NumPts\", \"k_1\", \"k_2\", \"SPD(BPS)\"))\n",
    "for tranche in tranches:\n",
    "    for method in FinLossDistributionBuilder:\n",
    "        for num_points in [50]:\n",
    "            v = tranche.value_bc(value_dt,homoIssuerCurves,upfront,spd,corr1,corr2,num_points,method)\n",
    "            print(\"%50s %5d %9.5f %9.5f %12.6f\"% (method, num_points, tranche.k1*100, tranche.k2*100, v[3] * 10000))\n",
    "    print(\"=============================================================================================\")"
   ]
  },
  {
   "cell_type": "markdown",
   "metadata": {},
   "source": [
    "## Heterogeneous Portfolio Results"
   ]
  },
  {
   "cell_type": "code",
   "execution_count": 18,
   "metadata": {
    "execution": {
     "iopub.execute_input": "2025-08-27T22:31:02.901445Z",
     "iopub.status.busy": "2025-08-27T22:31:02.901218Z",
     "iopub.status.idle": "2025-08-27T22:31:03.263315Z",
     "shell.execute_reply": "2025-08-27T22:31:03.262937Z"
    },
    "scrolled": false
   },
   "outputs": [
    {
     "name": "stdout",
     "output_type": "stream",
     "text": [
      "                                            Method NumPts       k_1       k_2     SPD(BPS)\n",
      "              FinLossDistributionBuilder.RECURSION    50    0.00000   3.00000   949.541331\n",
      "      FinLossDistributionBuilder.ADJUSTED_BINOMIAL    50    0.00000   3.00000   949.473315\n",
      "               FinLossDistributionBuilder.GAUSSIAN    50    0.00000   3.00000   983.192109\n",
      "                    FinLossDistributionBuilder.LHP    50    0.00000   3.00000   914.736913\n",
      "=============================================================================================\n",
      "              FinLossDistributionBuilder.RECURSION    50    3.00000   6.00000   230.886128\n",
      "      FinLossDistributionBuilder.ADJUSTED_BINOMIAL    50    3.00000   6.00000   230.978141\n",
      "               FinLossDistributionBuilder.GAUSSIAN    50    3.00000   6.00000   230.441917\n",
      "                    FinLossDistributionBuilder.LHP    50    3.00000   6.00000   226.808075\n",
      "=============================================================================================\n",
      "              FinLossDistributionBuilder.RECURSION    50    6.00000   9.00000    87.195509\n",
      "      FinLossDistributionBuilder.ADJUSTED_BINOMIAL    50    6.00000   9.00000    87.253318\n",
      "               FinLossDistributionBuilder.GAUSSIAN    50    6.00000   9.00000    86.834839\n",
      "                    FinLossDistributionBuilder.LHP    50    6.00000   9.00000    94.905626\n",
      "=============================================================================================\n",
      "              FinLossDistributionBuilder.RECURSION    50    9.00000  12.00000    37.477378\n",
      "      FinLossDistributionBuilder.ADJUSTED_BINOMIAL    50    9.00000  12.00000    37.326454\n"
     ]
    },
    {
     "name": "stdout",
     "output_type": "stream",
     "text": [
      "               FinLossDistributionBuilder.GAUSSIAN    50    9.00000  12.00000    37.313566\n",
      "                    FinLossDistributionBuilder.LHP    50    9.00000  12.00000    45.123579\n",
      "=============================================================================================\n",
      "              FinLossDistributionBuilder.RECURSION    50   12.00000  22.00000     8.938853\n",
      "      FinLossDistributionBuilder.ADJUSTED_BINOMIAL    50   12.00000  22.00000     8.955035\n"
     ]
    },
    {
     "name": "stdout",
     "output_type": "stream",
     "text": [
      "               FinLossDistributionBuilder.GAUSSIAN    50   12.00000  22.00000     8.925328\n",
      "                    FinLossDistributionBuilder.LHP    50   12.00000  22.00000    12.626359\n",
      "=============================================================================================\n",
      "              FinLossDistributionBuilder.RECURSION    50   22.00000  60.00000     0.212516\n",
      "      FinLossDistributionBuilder.ADJUSTED_BINOMIAL    50   22.00000  60.00000     0.212590\n",
      "               FinLossDistributionBuilder.GAUSSIAN    50   22.00000  60.00000     0.212040\n",
      "                    FinLossDistributionBuilder.LHP    50   22.00000  60.00000     0.418026\n",
      "=============================================================================================\n",
      "              FinLossDistributionBuilder.RECURSION    50    0.00000  60.00000    59.215520\n",
      "      FinLossDistributionBuilder.ADJUSTED_BINOMIAL    50    0.00000  60.00000    59.215520\n",
      "               FinLossDistributionBuilder.GAUSSIAN    50    0.00000  60.00000    60.119200\n",
      "                    FinLossDistributionBuilder.LHP    50    0.00000  60.00000    59.215495\n",
      "=============================================================================================\n",
      "              FinLossDistributionBuilder.RECURSION    50    0.00000 100.00000    35.376468\n",
      "      FinLossDistributionBuilder.ADJUSTED_BINOMIAL    50    0.00000 100.00000    35.376468\n",
      "               FinLossDistributionBuilder.GAUSSIAN    50    0.00000 100.00000    35.909242\n",
      "                    FinLossDistributionBuilder.LHP    50    0.00000 100.00000    35.376450\n",
      "=============================================================================================\n"
     ]
    }
   ],
   "source": [
    "print(\"%50s %5s %9s %9s %12s\"% (\"Method\", \"NumPts\", \"k_1\", \"k_2\", \"SPD(BPS)\"))\n",
    "\n",
    "for tranche in tranches:\n",
    "    for method in FinLossDistributionBuilder:\n",
    "        for num_points in [50]:\n",
    "            v = tranche.value_bc(value_dt,heteroIssuerCurves,upfront,spd,corr1,corr2,num_points,method)\n",
    "            print(\"%50s %5d  %9.5f %9.5f %12.6f\"% (method, num_points, tranche.k1*100, tranche.k2*100, v[3] * 10000))\n",
    "    print(\"=============================================================================================\")"
   ]
  },
  {
   "cell_type": "markdown",
   "metadata": {},
   "source": [
    "Copyright (c) 2020 Dominic O'Kane"
   ]
  }
 ],
 "metadata": {
  "kernelspec": {
   "display_name": "base",
   "language": "python",
   "name": "python3"
  },
  "language_info": {
   "codemirror_mode": {
    "name": "ipython",
    "version": 3
   },
   "file_extension": ".py",
   "mimetype": "text/x-python",
   "name": "python",
   "nbconvert_exporter": "python",
   "pygments_lexer": "ipython3",
   "version": "3.13.5"
  }
 },
 "nbformat": 4,
 "nbformat_minor": 2
}
