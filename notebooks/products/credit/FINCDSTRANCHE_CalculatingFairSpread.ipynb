{
 "cells": [
  {
   "cell_type": "markdown",
   "metadata": {},
   "source": [
    "# Determining the Fair Spread of a CDS Tranche"
   ]
  },
  {
   "cell_type": "markdown",
   "metadata": {},
   "source": [
    "An analysis of pricing a CDS Index using its intrinsic value"
   ]
  },
  {
   "cell_type": "code",
   "execution_count": 1,
   "metadata": {
    "execution": {
     "iopub.execute_input": "2025-08-27T21:43:46.839830Z",
     "iopub.status.busy": "2025-08-27T21:43:46.839552Z",
     "iopub.status.idle": "2025-08-27T21:43:47.322196Z",
     "shell.execute_reply": "2025-08-27T21:43:47.321642Z"
    }
   },
   "outputs": [],
   "source": [
    "import numpy as np\n",
    "import matplotlib.pyplot as plt"
   ]
  },
  {
   "cell_type": "code",
   "execution_count": 2,
   "metadata": {
    "execution": {
     "iopub.execute_input": "2025-08-27T21:43:47.324621Z",
     "iopub.status.busy": "2025-08-27T21:43:47.324213Z",
     "iopub.status.idle": "2025-08-27T21:43:49.908599Z",
     "shell.execute_reply": "2025-08-27T21:43:49.908104Z"
    }
   },
   "outputs": [
    {
     "name": "stdout",
     "output_type": "stream",
     "text": [
      "####################################################################\n",
      "#    FINANCEPY Version 1.1 - This build: 27 Aug 2025 at 23:27      #\n",
      "#     This software is distributed FREE AND WITHOUT ANY WARRANTY   #\n",
      "#  Report bugs as issues at https://github.com/domokane/FinancePy  #\n",
      "####################################################################\n",
      "\n"
     ]
    }
   ],
   "source": [
    "from financepy.utils import *\n",
    "from financepy.products.rates import *\n",
    "from financepy.products.credit import *"
   ]
  },
  {
   "cell_type": "code",
   "execution_count": 3,
   "metadata": {
    "execution": {
     "iopub.execute_input": "2025-08-27T21:43:49.911006Z",
     "iopub.status.busy": "2025-08-27T21:43:49.910456Z",
     "iopub.status.idle": "2025-08-27T21:43:49.934813Z",
     "shell.execute_reply": "2025-08-27T21:43:49.934371Z"
    }
   },
   "outputs": [],
   "source": [
    "value_dt = Date(2, 8, 2007)\n",
    "settle_dt = value_dt.add_weekdays(1)"
   ]
  },
  {
   "cell_type": "markdown",
   "metadata": {},
   "source": [
    "## Build Ibor Curve"
   ]
  },
  {
   "cell_type": "code",
   "execution_count": 4,
   "metadata": {
    "execution": {
     "iopub.execute_input": "2025-08-27T21:43:49.936950Z",
     "iopub.status.busy": "2025-08-27T21:43:49.936731Z",
     "iopub.status.idle": "2025-08-27T21:43:49.951396Z",
     "shell.execute_reply": "2025-08-27T21:43:49.950824Z"
    }
   },
   "outputs": [],
   "source": [
    "dc_type = DayCountTypes.THIRTY_E_360_ISDA\n",
    "depos = []\n",
    "depo = IborDeposit(value_dt, \"1D\", 0.0500, dc_type); depos.append(depo)\n",
    "depo = IborDeposit(settle_dt, \"1D\", 0.0500, dc_type); depos.append(depo)\n",
    "\n",
    "fixed_freq = FrequencyTypes.SEMI_ANNUAL\n",
    "swap_type = SwapTypes.PAY\n",
    "swap1 = IborSwap(settle_dt,\"1Y\",swap_type,0.0502,fixed_freq,dc_type)\n",
    "swap2 = IborSwap(settle_dt,\"2Y\",swap_type,0.0502,fixed_freq,dc_type)\n",
    "swap3 = IborSwap(settle_dt,\"3Y\",swap_type,0.0501,fixed_freq,dc_type)\n",
    "swap4 = IborSwap(settle_dt,\"4Y\",swap_type,0.0502,fixed_freq,dc_type)\n",
    "swap5 = IborSwap(settle_dt,\"5Y\",swap_type,0.0501,fixed_freq,dc_type)\n",
    "swaps = [swap1,swap2,swap3,swap4,swap5]\n",
    "\n",
    "libor_curve = IborSingleCurve(value_dt, depos, [], swaps)"
   ]
  },
  {
   "cell_type": "markdown",
   "metadata": {},
   "source": [
    "We treat an index as a CDS contract with a flat CDS curve at the CDS index spread for the same maturity"
   ]
  },
  {
   "cell_type": "markdown",
   "metadata": {},
   "source": [
    "## Create the Underlying CDS Index Portfolio"
   ]
  },
  {
   "cell_type": "code",
   "execution_count": 5,
   "metadata": {
    "execution": {
     "iopub.execute_input": "2025-08-27T21:43:49.953883Z",
     "iopub.status.busy": "2025-08-27T21:43:49.953592Z",
     "iopub.status.idle": "2025-08-27T21:43:49.956131Z",
     "shell.execute_reply": "2025-08-27T21:43:49.955830Z"
    }
   },
   "outputs": [],
   "source": [
    "step_in_dt = value_dt.add_weekdays(1)"
   ]
  },
  {
   "cell_type": "code",
   "execution_count": 6,
   "metadata": {
    "execution": {
     "iopub.execute_input": "2025-08-27T21:43:49.957719Z",
     "iopub.status.busy": "2025-08-27T21:43:49.957535Z",
     "iopub.status.idle": "2025-08-27T21:43:49.960090Z",
     "shell.execute_reply": "2025-08-27T21:43:49.959651Z"
    }
   },
   "outputs": [],
   "source": [
    "maturity_3yr = value_dt.next_cds_date(36)\n",
    "maturity_5yr = value_dt.next_cds_date(60)\n",
    "maturity_7yr = value_dt.next_cds_date(84)\n",
    "maturity_10yr = value_dt.next_cds_date(120)"
   ]
  },
  {
   "cell_type": "markdown",
   "metadata": {},
   "source": [
    "### Heterogeneous Curves"
   ]
  },
  {
   "cell_type": "code",
   "execution_count": 7,
   "metadata": {
    "execution": {
     "iopub.execute_input": "2025-08-27T21:43:49.961783Z",
     "iopub.status.busy": "2025-08-27T21:43:49.961588Z",
     "iopub.status.idle": "2025-08-27T21:43:49.968193Z",
     "shell.execute_reply": "2025-08-27T21:43:49.967679Z"
    }
   },
   "outputs": [
    {
     "name": "stdout",
     "output_type": "stream",
     "text": [
      "[WinError 3] The system cannot find the path specified: 'notebooks/products/credit/'\n",
      "C:\\Users\\Dominic\\Dropbox\\Desktop\\RESEARCH_DB\\FinancePy\\Code\\financepy-git\\notebooks\\products\\credit\n"
     ]
    },
    {
     "data": {
      "text/plain": [
       "'C:\\\\Users\\\\Dominic\\\\Dropbox\\\\Desktop\\\\RESEARCH_DB\\\\FinancePy\\\\Code\\\\financepy-git\\\\notebooks\\\\products\\\\credit'"
      ]
     },
     "execution_count": 7,
     "metadata": {},
     "output_type": "execute_result"
    }
   ],
   "source": [
    "# Move into the local folder of notebook\n",
    "%pwd\n",
    "%cd notebooks/products/credit/\n",
    "%pwd\n"
   ]
  },
  {
   "cell_type": "code",
   "execution_count": 8,
   "metadata": {
    "execution": {
     "iopub.execute_input": "2025-08-27T21:43:49.969902Z",
     "iopub.status.busy": "2025-08-27T21:43:49.969566Z",
     "iopub.status.idle": "2025-08-27T21:43:50.351083Z",
     "shell.execute_reply": "2025-08-27T21:43:50.350579Z"
    }
   },
   "outputs": [],
   "source": [
    "f = open('.//data//CDX_NA_IG_S7_SPREADS.csv', 'r')\n",
    "data = f.readlines()\n",
    "heteroIssuerCurves = []\n",
    "\n",
    "num_credits = len(data) - 1  # The file has a header\n",
    "\n",
    "for row in data[1:]:\n",
    "    splitRow = row.split(\",\")\n",
    "    spd3Y = float(splitRow[1]) / 10000.0\n",
    "    spd5Y = float(splitRow[2]) / 10000.0\n",
    "    spd7Y = float(splitRow[3]) / 10000.0\n",
    "    spd10Y = float(splitRow[4]) / 10000.0\n",
    "    recovery_rate = float(splitRow[5])\n",
    "    cds3Y = CDS(step_in_dt, maturity_3yr, spd3Y)\n",
    "    cds5Y = CDS(step_in_dt, maturity_5yr, spd5Y)\n",
    "    cds7Y = CDS(step_in_dt, maturity_7yr, spd7Y)\n",
    "    cds10Y = CDS(step_in_dt, maturity_10yr, spd10Y)\n",
    "    cds_contracts = [cds3Y, cds5Y, cds7Y, cds10Y]\n",
    "    issuer_curve = CDSCurve(value_dt, cds_contracts, libor_curve, recovery_rate)\n",
    "    heteroIssuerCurves.append(issuer_curve)"
   ]
  },
  {
   "cell_type": "markdown",
   "metadata": {},
   "source": [
    "### Homogeneous Curves "
   ]
  },
  {
   "cell_type": "markdown",
   "metadata": {},
   "source": [
    "Calculate the average spread of the heterogeneous portfolio"
   ]
  },
  {
   "cell_type": "code",
   "execution_count": 9,
   "metadata": {
    "execution": {
     "iopub.execute_input": "2025-08-27T21:43:50.353510Z",
     "iopub.status.busy": "2025-08-27T21:43:50.353143Z",
     "iopub.status.idle": "2025-08-27T21:43:50.355917Z",
     "shell.execute_reply": "2025-08-27T21:43:50.355510Z"
    }
   },
   "outputs": [],
   "source": [
    "homoIssuerCurves = []\n",
    "num_credits = 125\n",
    "recovery_rate = 0.40"
   ]
  },
  {
   "cell_type": "code",
   "execution_count": 10,
   "metadata": {
    "execution": {
     "iopub.execute_input": "2025-08-27T21:43:50.357661Z",
     "iopub.status.busy": "2025-08-27T21:43:50.357460Z",
     "iopub.status.idle": "2025-08-27T21:43:50.359682Z",
     "shell.execute_reply": "2025-08-27T21:43:50.359349Z"
    }
   },
   "outputs": [],
   "source": [
    "cdsIndex = CDSIndexPortfolio()"
   ]
  },
  {
   "cell_type": "code",
   "execution_count": 11,
   "metadata": {
    "execution": {
     "iopub.execute_input": "2025-08-27T21:43:50.361417Z",
     "iopub.status.busy": "2025-08-27T21:43:50.361080Z",
     "iopub.status.idle": "2025-08-27T21:43:50.385290Z",
     "shell.execute_reply": "2025-08-27T21:43:50.384753Z"
    }
   },
   "outputs": [],
   "source": [
    "spd3Y = cdsIndex.intrinsic_spread(value_dt, step_in_dt, maturity_3yr, heteroIssuerCurves)\n",
    "spd5Y = cdsIndex.intrinsic_spread(value_dt, step_in_dt, maturity_5yr, heteroIssuerCurves)\n",
    "spd7Y = cdsIndex.intrinsic_spread(value_dt, step_in_dt, maturity_7yr, heteroIssuerCurves)\n",
    "spd10Y = cdsIndex.intrinsic_spread(value_dt, step_in_dt, maturity_10yr, heteroIssuerCurves)"
   ]
  },
  {
   "cell_type": "code",
   "execution_count": 12,
   "metadata": {
    "execution": {
     "iopub.execute_input": "2025-08-27T21:43:50.387667Z",
     "iopub.status.busy": "2025-08-27T21:43:50.387440Z",
     "iopub.status.idle": "2025-08-27T21:43:50.390647Z",
     "shell.execute_reply": "2025-08-27T21:43:50.390180Z"
    }
   },
   "outputs": [
    {
     "name": "stdout",
     "output_type": "stream",
     "text": [
      "Homogeneous curve 3Y: 19.67879398295557\n",
      "Homogeneous curve 5Y: 35.539142389477774\n",
      "Homogeneous curve 7Y: 49.01183816666462\n",
      "Homogeneous curve 10Y: 61.413769315177525\n"
     ]
    }
   ],
   "source": [
    "print(\"Homogeneous curve 3Y:\", spd3Y*10000)\n",
    "print(\"Homogeneous curve 5Y:\", spd5Y*10000)\n",
    "print(\"Homogeneous curve 7Y:\", spd7Y*10000)\n",
    "print(\"Homogeneous curve 10Y:\", spd10Y*10000)"
   ]
  },
  {
   "cell_type": "code",
   "execution_count": 13,
   "metadata": {
    "execution": {
     "iopub.execute_input": "2025-08-27T21:43:50.392657Z",
     "iopub.status.busy": "2025-08-27T21:43:50.392288Z",
     "iopub.status.idle": "2025-08-27T21:43:50.665474Z",
     "shell.execute_reply": "2025-08-27T21:43:50.665102Z"
    }
   },
   "outputs": [],
   "source": [
    "for row in range(0,num_credits):\n",
    "    cds3Y = CDS(step_in_dt, maturity_3yr, spd3Y)\n",
    "    cds5Y = CDS(step_in_dt, maturity_5yr, spd5Y)\n",
    "    cds7Y = CDS(step_in_dt, maturity_7yr, spd7Y)\n",
    "    cds10Y = CDS(step_in_dt, maturity_10yr, spd10Y)\n",
    "    cds_contracts = [cds3Y, cds5Y, cds7Y, cds10Y]\n",
    "    issuer_curve = CDSCurve(value_dt, cds_contracts, libor_curve, recovery_rate)\n",
    "    homoIssuerCurves.append(issuer_curve)"
   ]
  },
  {
   "cell_type": "markdown",
   "metadata": {},
   "source": [
    "## Define the Tranches"
   ]
  },
  {
   "cell_type": "code",
   "execution_count": 14,
   "metadata": {
    "execution": {
     "iopub.execute_input": "2025-08-27T21:43:50.667399Z",
     "iopub.status.busy": "2025-08-27T21:43:50.667201Z",
     "iopub.status.idle": "2025-08-27T21:43:50.672573Z",
     "shell.execute_reply": "2025-08-27T21:43:50.672172Z"
    }
   },
   "outputs": [],
   "source": [
    "trancheMaturity = maturity_5yr\n",
    "tranche1 = CDSTranche(value_dt, trancheMaturity, 0.00, 0.03)\n",
    "tranche2 = CDSTranche(value_dt, trancheMaturity, 0.03, 0.06)\n",
    "tranche3 = CDSTranche(value_dt, trancheMaturity, 0.06, 0.09)\n",
    "tranche4 = CDSTranche(value_dt, trancheMaturity, 0.09, 0.12)\n",
    "tranche5 = CDSTranche(value_dt, trancheMaturity, 0.12, 0.22)\n",
    "tranche6 = CDSTranche(value_dt, trancheMaturity, 0.22, 0.60)\n",
    "tranche7 = CDSTranche(value_dt, trancheMaturity, 0.00, 0.60)\n",
    "tranche8 = CDSTranche(value_dt, trancheMaturity, 0.00, 1.00)"
   ]
  },
  {
   "cell_type": "code",
   "execution_count": 15,
   "metadata": {
    "execution": {
     "iopub.execute_input": "2025-08-27T21:43:50.674253Z",
     "iopub.status.busy": "2025-08-27T21:43:50.673987Z",
     "iopub.status.idle": "2025-08-27T21:43:50.676409Z",
     "shell.execute_reply": "2025-08-27T21:43:50.675988Z"
    }
   },
   "outputs": [],
   "source": [
    "tranches = [tranche1, tranche2, tranche3, tranche4, tranche5, tranche6, tranche7, tranche8]"
   ]
  },
  {
   "cell_type": "code",
   "execution_count": 16,
   "metadata": {
    "execution": {
     "iopub.execute_input": "2025-08-27T21:43:50.678162Z",
     "iopub.status.busy": "2025-08-27T21:43:50.677953Z",
     "iopub.status.idle": "2025-08-27T21:43:50.680227Z",
     "shell.execute_reply": "2025-08-27T21:43:50.679918Z"
    }
   },
   "outputs": [],
   "source": [
    "corr1 = 0.30\n",
    "corr2 = 0.30\n",
    "upfront = 0.0\n",
    "spd = 0.0"
   ]
  },
  {
   "cell_type": "markdown",
   "metadata": {},
   "source": [
    "## Homogeneous Portfolio Results"
   ]
  },
  {
   "cell_type": "code",
   "execution_count": 17,
   "metadata": {
    "execution": {
     "iopub.execute_input": "2025-08-27T21:43:50.681838Z",
     "iopub.status.busy": "2025-08-27T21:43:50.681654Z",
     "iopub.status.idle": "2025-08-27T21:43:51.512119Z",
     "shell.execute_reply": "2025-08-27T21:43:51.511710Z"
    }
   },
   "outputs": [
    {
     "name": "stdout",
     "output_type": "stream",
     "text": [
      "                                            Method NumPts       k_1       k_2     SPD(BPS)\n",
      "              FinLossDistributionBuilder.RECURSION    50   0.00000   3.00000   875.088146\n",
      "      FinLossDistributionBuilder.ADJUSTED_BINOMIAL    50   0.00000   3.00000   875.088146\n",
      "               FinLossDistributionBuilder.GAUSSIAN    50   0.00000   3.00000   908.571411\n"
     ]
    },
    {
     "name": "stdout",
     "output_type": "stream",
     "text": [
      "                    FinLossDistributionBuilder.LHP    50   0.00000   3.00000   914.366815\n",
      "=============================================================================================\n",
      "              FinLossDistributionBuilder.RECURSION    50   3.00000   6.00000   239.580083\n",
      "      FinLossDistributionBuilder.ADJUSTED_BINOMIAL    50   3.00000   6.00000   239.580083\n",
      "               FinLossDistributionBuilder.GAUSSIAN    50   3.00000   6.00000   239.269213\n",
      "                    FinLossDistributionBuilder.LHP    50   3.00000   6.00000   226.808804\n",
      "=============================================================================================\n",
      "              FinLossDistributionBuilder.RECURSION    50   6.00000   9.00000   102.124297\n",
      "      FinLossDistributionBuilder.ADJUSTED_BINOMIAL    50   6.00000   9.00000   102.124297\n",
      "               FinLossDistributionBuilder.GAUSSIAN    50   6.00000   9.00000   101.792518\n",
      "                    FinLossDistributionBuilder.LHP    50   6.00000   9.00000    94.918261\n",
      "=============================================================================================\n",
      "              FinLossDistributionBuilder.RECURSION    50   9.00000  12.00000    49.210550\n",
      "      FinLossDistributionBuilder.ADJUSTED_BINOMIAL    50   9.00000  12.00000    49.210550\n",
      "               FinLossDistributionBuilder.GAUSSIAN    50   9.00000  12.00000    49.031938\n",
      "                    FinLossDistributionBuilder.LHP    50   9.00000  12.00000    45.133119\n",
      "=============================================================================================\n",
      "              FinLossDistributionBuilder.RECURSION    50  12.00000  22.00000    14.018928\n",
      "      FinLossDistributionBuilder.ADJUSTED_BINOMIAL    50  12.00000  22.00000    14.018928\n",
      "               FinLossDistributionBuilder.GAUSSIAN    50  12.00000  22.00000    13.999669\n",
      "                    FinLossDistributionBuilder.LHP    50  12.00000  22.00000    12.630172\n",
      "=============================================================================================\n"
     ]
    },
    {
     "name": "stdout",
     "output_type": "stream",
     "text": [
      "              FinLossDistributionBuilder.RECURSION    50  22.00000  60.00000     0.489382\n",
      "      FinLossDistributionBuilder.ADJUSTED_BINOMIAL    50  22.00000  60.00000     0.489382\n",
      "               FinLossDistributionBuilder.GAUSSIAN    50  22.00000  60.00000     0.488422\n",
      "                    FinLossDistributionBuilder.LHP    50  22.00000  60.00000     0.418217\n",
      "=============================================================================================\n",
      "              FinLossDistributionBuilder.RECURSION    50   0.00000  60.00000    59.215546\n",
      "      FinLossDistributionBuilder.ADJUSTED_BINOMIAL    50   0.00000  60.00000    59.215546\n",
      "               FinLossDistributionBuilder.GAUSSIAN    50   0.00000  60.00000    60.178480\n",
      "                    FinLossDistributionBuilder.LHP    50   0.00000  60.00000    59.215539\n",
      "=============================================================================================\n",
      "              FinLossDistributionBuilder.RECURSION    50   0.00000 100.00000    35.376821\n",
      "      FinLossDistributionBuilder.ADJUSTED_BINOMIAL    50   0.00000 100.00000    35.376821\n",
      "               FinLossDistributionBuilder.GAUSSIAN    50   0.00000 100.00000    35.945117\n",
      "                    FinLossDistributionBuilder.LHP    50   0.00000 100.00000    35.376814\n",
      "=============================================================================================\n"
     ]
    }
   ],
   "source": [
    "print(\"%50s %5s %9s %9s %12s\"% (\"Method\", \"NumPts\", \"k_1\", \"k_2\", \"SPD(BPS)\"))\n",
    "for tranche in tranches:\n",
    "    for method in FinLossDistributionBuilder:\n",
    "        for num_points in [50]:\n",
    "            v = tranche.value_bc(value_dt,homoIssuerCurves,upfront,spd,corr1,corr2,num_points,method)\n",
    "            print(\"%50s %5d %9.5f %9.5f %12.6f\"% (method, num_points, tranche.k1*100, tranche.k2*100, v[3] * 10000))\n",
    "    print(\"=============================================================================================\")"
   ]
  },
  {
   "cell_type": "markdown",
   "metadata": {},
   "source": [
    "## Heterogeneous Portfolio Results"
   ]
  },
  {
   "cell_type": "code",
   "execution_count": 18,
   "metadata": {
    "execution": {
     "iopub.execute_input": "2025-08-27T21:43:51.514159Z",
     "iopub.status.busy": "2025-08-27T21:43:51.513832Z",
     "iopub.status.idle": "2025-08-27T21:43:51.877362Z",
     "shell.execute_reply": "2025-08-27T21:43:51.876896Z"
    },
    "scrolled": false
   },
   "outputs": [
    {
     "name": "stdout",
     "output_type": "stream",
     "text": [
      "                                            Method NumPts       k_1       k_2     SPD(BPS)\n",
      "              FinLossDistributionBuilder.RECURSION    50    0.00000   3.00000   949.541331\n",
      "      FinLossDistributionBuilder.ADJUSTED_BINOMIAL    50    0.00000   3.00000   949.473315\n",
      "               FinLossDistributionBuilder.GAUSSIAN    50    0.00000   3.00000   983.192109\n",
      "                    FinLossDistributionBuilder.LHP    50    0.00000   3.00000   914.736913\n",
      "=============================================================================================\n",
      "              FinLossDistributionBuilder.RECURSION    50    3.00000   6.00000   230.886128\n",
      "      FinLossDistributionBuilder.ADJUSTED_BINOMIAL    50    3.00000   6.00000   230.978141\n",
      "               FinLossDistributionBuilder.GAUSSIAN    50    3.00000   6.00000   230.441917\n",
      "                    FinLossDistributionBuilder.LHP    50    3.00000   6.00000   226.808075\n",
      "=============================================================================================\n",
      "              FinLossDistributionBuilder.RECURSION    50    6.00000   9.00000    87.195509\n",
      "      FinLossDistributionBuilder.ADJUSTED_BINOMIAL    50    6.00000   9.00000    87.253318\n"
     ]
    },
    {
     "name": "stdout",
     "output_type": "stream",
     "text": [
      "               FinLossDistributionBuilder.GAUSSIAN    50    6.00000   9.00000    86.834839\n",
      "                    FinLossDistributionBuilder.LHP    50    6.00000   9.00000    94.905626\n",
      "=============================================================================================\n",
      "              FinLossDistributionBuilder.RECURSION    50    9.00000  12.00000    37.477378\n",
      "      FinLossDistributionBuilder.ADJUSTED_BINOMIAL    50    9.00000  12.00000    37.326454\n",
      "               FinLossDistributionBuilder.GAUSSIAN    50    9.00000  12.00000    37.313566\n",
      "                    FinLossDistributionBuilder.LHP    50    9.00000  12.00000    45.123579\n",
      "=============================================================================================\n",
      "              FinLossDistributionBuilder.RECURSION    50   12.00000  22.00000     8.938853\n",
      "      FinLossDistributionBuilder.ADJUSTED_BINOMIAL    50   12.00000  22.00000     8.955035\n",
      "               FinLossDistributionBuilder.GAUSSIAN    50   12.00000  22.00000     8.925328\n"
     ]
    },
    {
     "name": "stdout",
     "output_type": "stream",
     "text": [
      "                    FinLossDistributionBuilder.LHP    50   12.00000  22.00000    12.626359\n",
      "=============================================================================================\n",
      "              FinLossDistributionBuilder.RECURSION    50   22.00000  60.00000     0.212516\n",
      "      FinLossDistributionBuilder.ADJUSTED_BINOMIAL    50   22.00000  60.00000     0.212590\n",
      "               FinLossDistributionBuilder.GAUSSIAN    50   22.00000  60.00000     0.212040\n",
      "                    FinLossDistributionBuilder.LHP    50   22.00000  60.00000     0.418026\n",
      "=============================================================================================\n",
      "              FinLossDistributionBuilder.RECURSION    50    0.00000  60.00000    59.215520\n",
      "      FinLossDistributionBuilder.ADJUSTED_BINOMIAL    50    0.00000  60.00000    59.215520\n",
      "               FinLossDistributionBuilder.GAUSSIAN    50    0.00000  60.00000    60.119200\n",
      "                    FinLossDistributionBuilder.LHP    50    0.00000  60.00000    59.215495\n",
      "=============================================================================================\n",
      "              FinLossDistributionBuilder.RECURSION    50    0.00000 100.00000    35.376468\n",
      "      FinLossDistributionBuilder.ADJUSTED_BINOMIAL    50    0.00000 100.00000    35.376468\n"
     ]
    },
    {
     "name": "stdout",
     "output_type": "stream",
     "text": [
      "               FinLossDistributionBuilder.GAUSSIAN    50    0.00000 100.00000    35.909242\n",
      "                    FinLossDistributionBuilder.LHP    50    0.00000 100.00000    35.376450\n",
      "=============================================================================================\n"
     ]
    }
   ],
   "source": [
    "print(\"%50s %5s %9s %9s %12s\"% (\"Method\", \"NumPts\", \"k_1\", \"k_2\", \"SPD(BPS)\"))\n",
    "\n",
    "for tranche in tranches:\n",
    "    for method in FinLossDistributionBuilder:\n",
    "        for num_points in [50]:\n",
    "            v = tranche.value_bc(value_dt,heteroIssuerCurves,upfront,spd,corr1,corr2,num_points,method)\n",
    "            print(\"%50s %5d  %9.5f %9.5f %12.6f\"% (method, num_points, tranche.k1*100, tranche.k2*100, v[3] * 10000))\n",
    "    print(\"=============================================================================================\")"
   ]
  },
  {
   "cell_type": "markdown",
   "metadata": {},
   "source": [
    "Copyright (c) 2020 Dominic O'Kane"
   ]
  }
 ],
 "metadata": {
  "kernelspec": {
   "display_name": "base",
   "language": "python",
   "name": "python3"
  },
  "language_info": {
   "codemirror_mode": {
    "name": "ipython",
    "version": 3
   },
   "file_extension": ".py",
   "mimetype": "text/x-python",
   "name": "python",
   "nbconvert_exporter": "python",
   "pygments_lexer": "ipython3",
   "version": "3.13.5"
  }
 },
 "nbformat": 4,
 "nbformat_minor": 2
}
