{
    "cells": [
        {
            "cell_type": "markdown",
            "metadata": {},
            "source": [
                "# Determining the Fair Spread of a CDS Tranche"
            ]
        },
        {
            "cell_type": "markdown",
            "metadata": {},
            "source": [
                "An analysis of pricing a CDS Index using its intrinsic value"
            ]
        },
        {
            "cell_type": "code",
            "execution_count": 1,
            "metadata": {
                "execution": {
                    "iopub.execute_input": "2024-04-30T20:01:22.838239Z",
                    "iopub.status.busy": "2024-04-30T20:01:22.837242Z",
                    "iopub.status.idle": "2024-04-30T20:01:23.410675Z",
                    "shell.execute_reply": "2024-04-30T20:01:23.410675Z"
                }
            },
            "outputs": [],
            "source": [
                "import numpy as np\n",
                "import matplotlib.pyplot as plt"
            ]
        },
        {
            "cell_type": "code",
            "execution_count": 2,
            "metadata": {
                "execution": {
                    "iopub.execute_input": "2024-04-30T20:01:23.413704Z",
                    "iopub.status.busy": "2024-04-30T20:01:23.413704Z",
                    "iopub.status.idle": "2024-04-30T20:01:25.640021Z",
                    "shell.execute_reply": "2024-04-30T20:01:25.640021Z"
                }
            },
            "outputs": [
                {
                    "name": "stdout",
                    "output_type": "stream",
                    "text": [
                        "####################################################################\n",
                        "#  FINANCEPY BETA Version 0.350 - This build: 30 Apr 2024 at 21:20 #\n",
                        "#     This software is distributed FREE AND WITHOUT ANY WARRANTY   #\n",
                        "#  Report bugs as issues at https://github.com/domokane/FinancePy  #\n",
                        "####################################################################\n",
                        "\n"
                    ]
                }
            ],
            "source": [
                "from financepy.utils import *\n",
                "from financepy.products.rates import *\n",
                "from financepy.products.credit import *"
            ]
        },
        {
            "cell_type": "code",
            "execution_count": 3,
            "metadata": {
                "execution": {
                    "iopub.execute_input": "2024-04-30T20:01:25.642580Z",
                    "iopub.status.busy": "2024-04-30T20:01:25.642580Z",
                    "iopub.status.idle": "2024-04-30T20:01:25.667705Z",
                    "shell.execute_reply": "2024-04-30T20:01:25.667705Z"
                }
            },
            "outputs": [],
            "source": [
                "value_dt = Date(2, 8, 2007)\n",
                "settle_dt = value_dt.add_weekdays(1)"
            ]
        },
        {
            "cell_type": "markdown",
            "metadata": {},
            "source": [
                "## Build Ibor Curve"
            ]
        },
        {
            "cell_type": "code",
            "execution_count": 4,
            "metadata": {
                "execution": {
                    "iopub.execute_input": "2024-04-30T20:01:25.670741Z",
                    "iopub.status.busy": "2024-04-30T20:01:25.670741Z",
                    "iopub.status.idle": "2024-04-30T20:01:25.692486Z",
                    "shell.execute_reply": "2024-04-30T20:01:25.691978Z"
                }
            },
            "outputs": [],
            "source": [
                "dc_type = DayCountTypes.THIRTY_E_360_ISDA\n",
                "depos = []\n",
                "depo = IborDeposit(value_dt, \"1D\", 0.0500, dc_type); depos.append(depo)\n",
                "depo = IborDeposit(settle_dt, \"1D\", 0.0500, dc_type); depos.append(depo)\n",
                "\n",
                "fixed_freq = FrequencyTypes.SEMI_ANNUAL\n",
                "swap_type = SwapTypes.PAY\n",
                "swap1 = IborSwap(settle_dt,\"1Y\",swap_type,0.0502,fixed_freq,dc_type)\n",
                "swap2 = IborSwap(settle_dt,\"2Y\",swap_type,0.0502,fixed_freq,dc_type)\n",
                "swap3 = IborSwap(settle_dt,\"3Y\",swap_type,0.0501,fixed_freq,dc_type)\n",
                "swap4 = IborSwap(settle_dt,\"4Y\",swap_type,0.0502,fixed_freq,dc_type)\n",
                "swap5 = IborSwap(settle_dt,\"5Y\",swap_type,0.0501,fixed_freq,dc_type)\n",
                "swaps = [swap1,swap2,swap3,swap4,swap5]\n",
                "\n",
                "libor_curve = IborSingleCurve(value_dt, depos, [], swaps)"
            ]
        },
        {
            "cell_type": "markdown",
            "metadata": {},
            "source": [
                "We treat an index as a CDS contract with a flat CDS curve at the CDS index spread for the same maturity"
            ]
        },
        {
            "cell_type": "markdown",
            "metadata": {},
            "source": [
                "## Create the Underlying CDS Index Portfolio"
            ]
        },
        {
            "cell_type": "code",
            "execution_count": 5,
            "metadata": {
                "execution": {
                    "iopub.execute_input": "2024-04-30T20:01:25.694568Z",
                    "iopub.status.busy": "2024-04-30T20:01:25.694568Z",
                    "iopub.status.idle": "2024-04-30T20:01:25.697398Z",
                    "shell.execute_reply": "2024-04-30T20:01:25.697398Z"
                }
            },
            "outputs": [],
            "source": [
                "step_in_dt = value_dt.add_weekdays(1)"
            ]
        },
        {
            "cell_type": "code",
            "execution_count": 6,
            "metadata": {
                "execution": {
                    "iopub.execute_input": "2024-04-30T20:01:25.699400Z",
                    "iopub.status.busy": "2024-04-30T20:01:25.699400Z",
                    "iopub.status.idle": "2024-04-30T20:01:25.703074Z",
                    "shell.execute_reply": "2024-04-30T20:01:25.702945Z"
                }
            },
            "outputs": [],
            "source": [
                "maturity_3yr = value_dt.next_cds_date(36)\n",
                "maturity_5yr = value_dt.next_cds_date(60)\n",
                "maturity_7yr = value_dt.next_cds_date(84)\n",
                "maturity_10yr = value_dt.next_cds_date(120)"
            ]
        },
        {
            "cell_type": "markdown",
            "metadata": {},
            "source": [
                "### Heterogeneous Curves"
            ]
        },
        {
            "cell_type": "code",
            "execution_count": 7,
            "metadata": {
                "execution": {
                    "iopub.execute_input": "2024-04-30T20:01:25.705070Z",
                    "iopub.status.busy": "2024-04-30T20:01:25.705070Z",
                    "iopub.status.idle": "2024-04-30T20:01:26.221992Z",
                    "shell.execute_reply": "2024-04-30T20:01:26.221992Z"
                }
            },
            "outputs": [],
            "source": [
                "f = open('.//data//CDX_NA_IG_S7_SPREADS.csv', 'r')\n",
                "data = f.readlines()\n",
                "heteroIssuerCurves = []\n",
                "\n",
                "num_credits = len(data) - 1  # The file has a header\n",
                "\n",
                "for row in data[1:]:\n",
                "    splitRow = row.split(\",\")\n",
                "    spd3Y = float(splitRow[1]) / 10000.0\n",
                "    spd5Y = float(splitRow[2]) / 10000.0\n",
                "    spd7Y = float(splitRow[3]) / 10000.0\n",
                "    spd10Y = float(splitRow[4]) / 10000.0\n",
                "    recovery_rate = float(splitRow[5])\n",
                "    cds3Y = CDS(step_in_dt, maturity_3yr, spd3Y)\n",
                "    cds5Y = CDS(step_in_dt, maturity_5yr, spd5Y)\n",
                "    cds7Y = CDS(step_in_dt, maturity_7yr, spd7Y)\n",
                "    cds10Y = CDS(step_in_dt, maturity_10yr, spd10Y)\n",
                "    cds_contracts = [cds3Y, cds5Y, cds7Y, cds10Y]\n",
                "    issuer_curve = CDSCurve(value_dt, cds_contracts, libor_curve, recovery_rate)\n",
                "    heteroIssuerCurves.append(issuer_curve)"
            ]
        },
        {
            "cell_type": "markdown",
            "metadata": {},
            "source": [
                "### Homogeneous Curves "
            ]
        },
        {
            "cell_type": "markdown",
            "metadata": {},
            "source": [
                "Calculate the average spread of the heterogeneous portfolio"
            ]
        },
        {
            "cell_type": "code",
            "execution_count": 8,
            "metadata": {
                "execution": {
                    "iopub.execute_input": "2024-04-30T20:01:26.225031Z",
                    "iopub.status.busy": "2024-04-30T20:01:26.225031Z",
                    "iopub.status.idle": "2024-04-30T20:01:26.228012Z",
                    "shell.execute_reply": "2024-04-30T20:01:26.228012Z"
                }
            },
            "outputs": [],
            "source": [
                "homoIssuerCurves = []\n",
                "num_credits = 125\n",
                "recovery_rate = 0.40 "
            ]
        },
        {
            "cell_type": "code",
            "execution_count": 9,
            "metadata": {
                "execution": {
                    "iopub.execute_input": "2024-04-30T20:01:26.231050Z",
                    "iopub.status.busy": "2024-04-30T20:01:26.231050Z",
                    "iopub.status.idle": "2024-04-30T20:01:26.234933Z",
                    "shell.execute_reply": "2024-04-30T20:01:26.234010Z"
                }
            },
            "outputs": [],
            "source": [
                "cdsIndex = CDSIndexPortfolio()"
            ]
        },
        {
            "cell_type": "code",
            "execution_count": 10,
            "metadata": {
                "execution": {
                    "iopub.execute_input": "2024-04-30T20:01:26.237581Z",
                    "iopub.status.busy": "2024-04-30T20:01:26.235960Z",
                    "iopub.status.idle": "2024-04-30T20:01:26.270950Z",
                    "shell.execute_reply": "2024-04-30T20:01:26.270161Z"
                }
            },
            "outputs": [],
            "source": [
                "spd3Y = cdsIndex.intrinsic_spread(value_dt, step_in_dt, maturity_3yr, heteroIssuerCurves)\n",
                "spd5Y = cdsIndex.intrinsic_spread(value_dt, step_in_dt, maturity_5yr, heteroIssuerCurves)\n",
                "spd7Y = cdsIndex.intrinsic_spread(value_dt, step_in_dt, maturity_7yr, heteroIssuerCurves)\n",
                "spd10Y = cdsIndex.intrinsic_spread(value_dt, step_in_dt, maturity_10yr, heteroIssuerCurves)"
            ]
        },
        {
            "cell_type": "code",
            "execution_count": 11,
            "metadata": {
                "execution": {
                    "iopub.execute_input": "2024-04-30T20:01:26.272954Z",
                    "iopub.status.busy": "2024-04-30T20:01:26.272954Z",
                    "iopub.status.idle": "2024-04-30T20:01:26.277618Z",
                    "shell.execute_reply": "2024-04-30T20:01:26.276867Z"
                }
            },
            "outputs": [
                {
                    "name": "stdout",
                    "output_type": "stream",
                    "text": [
                        "Homogeneous curve 3Y: 19.678793982955575\n",
                        "Homogeneous curve 5Y: 35.53914238947779\n",
                        "Homogeneous curve 7Y: 49.01183816666461\n",
                        "Homogeneous curve 10Y: 61.41376931517749\n"
                    ]
                }
            ],
            "source": [
                "print(\"Homogeneous curve 3Y:\", spd3Y*10000)\n",
                "print(\"Homogeneous curve 5Y:\", spd5Y*10000)\n",
                "print(\"Homogeneous curve 7Y:\", spd7Y*10000)\n",
                "print(\"Homogeneous curve 10Y:\", spd10Y*10000)"
            ]
        },
        {
            "cell_type": "code",
            "execution_count": 12,
            "metadata": {
                "execution": {
                    "iopub.execute_input": "2024-04-30T20:01:26.279615Z",
                    "iopub.status.busy": "2024-04-30T20:01:26.279615Z",
                    "iopub.status.idle": "2024-04-30T20:01:26.703941Z",
                    "shell.execute_reply": "2024-04-30T20:01:26.703007Z"
                }
            },
            "outputs": [],
            "source": [
                "for row in range(0,num_credits):\n",
                "    cds3Y = CDS(step_in_dt, maturity_3yr, spd3Y)\n",
                "    cds5Y = CDS(step_in_dt, maturity_5yr, spd5Y)\n",
                "    cds7Y = CDS(step_in_dt, maturity_7yr, spd7Y)\n",
                "    cds10Y = CDS(step_in_dt, maturity_10yr, spd10Y)\n",
                "    cds_contracts = [cds3Y, cds5Y, cds7Y, cds10Y]\n",
                "    issuer_curve = CDSCurve(value_dt, cds_contracts, libor_curve, recovery_rate)\n",
                "    homoIssuerCurves.append(issuer_curve)"
            ]
        },
        {
            "cell_type": "markdown",
            "metadata": {},
            "source": [
                "## Define the Tranches"
            ]
        },
        {
            "cell_type": "code",
            "execution_count": 13,
            "metadata": {
                "execution": {
                    "iopub.execute_input": "2024-04-30T20:01:26.707032Z",
                    "iopub.status.busy": "2024-04-30T20:01:26.706046Z",
                    "iopub.status.idle": "2024-04-30T20:01:26.714603Z",
                    "shell.execute_reply": "2024-04-30T20:01:26.713671Z"
                }
            },
            "outputs": [],
            "source": [
                "trancheMaturity = maturity_5yr\n",
                "tranche1 = CDSTranche(value_dt, trancheMaturity, 0.00, 0.03)\n",
                "tranche2 = CDSTranche(value_dt, trancheMaturity, 0.03, 0.06)\n",
                "tranche3 = CDSTranche(value_dt, trancheMaturity, 0.06, 0.09)\n",
                "tranche4 = CDSTranche(value_dt, trancheMaturity, 0.09, 0.12)\n",
                "tranche5 = CDSTranche(value_dt, trancheMaturity, 0.12, 0.22)\n",
                "tranche6 = CDSTranche(value_dt, trancheMaturity, 0.22, 0.60)\n",
                "tranche7 = CDSTranche(value_dt, trancheMaturity, 0.00, 0.60)\n",
                "tranche8 = CDSTranche(value_dt, trancheMaturity, 0.00, 1.00)"
            ]
        },
        {
            "cell_type": "code",
            "execution_count": 14,
            "metadata": {
                "execution": {
                    "iopub.execute_input": "2024-04-30T20:01:26.717256Z",
                    "iopub.status.busy": "2024-04-30T20:01:26.716259Z",
                    "iopub.status.idle": "2024-04-30T20:01:26.719681Z",
                    "shell.execute_reply": "2024-04-30T20:01:26.719681Z"
                }
            },
            "outputs": [],
            "source": [
                "tranches = [tranche1, tranche2, tranche3, tranche4, tranche5, tranche6, tranche7, tranche8]"
            ]
        },
        {
            "cell_type": "code",
            "execution_count": 15,
            "metadata": {
                "execution": {
                    "iopub.execute_input": "2024-04-30T20:01:26.722682Z",
                    "iopub.status.busy": "2024-04-30T20:01:26.722682Z",
                    "iopub.status.idle": "2024-04-30T20:01:26.725367Z",
                    "shell.execute_reply": "2024-04-30T20:01:26.725367Z"
                }
            },
            "outputs": [],
            "source": [
                "corr1 = 0.30\n",
                "corr2 = 0.30\n",
                "upfront = 0.0\n",
                "spd = 0.0"
            ]
        },
        {
            "cell_type": "markdown",
            "metadata": {},
            "source": [
                "## Homogeneous Portfolio Results"
            ]
        },
        {
            "cell_type": "code",
            "execution_count": 16,
            "metadata": {
                "execution": {
                    "iopub.execute_input": "2024-04-30T20:01:26.727536Z",
                    "iopub.status.busy": "2024-04-30T20:01:26.727536Z",
                    "iopub.status.idle": "2024-04-30T20:01:27.297442Z",
                    "shell.execute_reply": "2024-04-30T20:01:27.296700Z"
                }
            },
            "outputs": [
                {
                    "name": "stdout",
                    "output_type": "stream",
                    "text": [
                        "                                            Method NumPts        k_1        k_2     SPD(BPS)\n",
                        "              FinLossDistributionBuilder.RECURSION    50   0.00000   3.00000   875.088146\n",
                        "      FinLossDistributionBuilder.ADJUSTED_BINOMIAL    50   0.00000   3.00000   875.088146\n",
                        "               FinLossDistributionBuilder.GAUSSIAN    50   0.00000   3.00000   908.571411\n",
                        "                    FinLossDistributionBuilder.LHP    50   0.00000   3.00000   914.366815\n",
                        "=============================================================================================\n",
                        "              FinLossDistributionBuilder.RECURSION    50   3.00000   6.00000   239.580083\n",
                        "      FinLossDistributionBuilder.ADJUSTED_BINOMIAL    50   3.00000   6.00000   239.580083\n",
                        "               FinLossDistributionBuilder.GAUSSIAN    50   3.00000   6.00000   239.269213\n",
                        "                    FinLossDistributionBuilder.LHP    50   3.00000   6.00000   226.808804\n",
                        "=============================================================================================\n",
                        "              FinLossDistributionBuilder.RECURSION    50   6.00000   9.00000   102.124297\n"
                    ]
                },
                {
                    "name": "stdout",
                    "output_type": "stream",
                    "text": [
                        "      FinLossDistributionBuilder.ADJUSTED_BINOMIAL    50   6.00000   9.00000   102.124297\n",
                        "               FinLossDistributionBuilder.GAUSSIAN    50   6.00000   9.00000   101.792518\n",
                        "                    FinLossDistributionBuilder.LHP    50   6.00000   9.00000    94.918261\n",
                        "=============================================================================================\n",
                        "              FinLossDistributionBuilder.RECURSION    50   9.00000  12.00000    49.210550\n",
                        "      FinLossDistributionBuilder.ADJUSTED_BINOMIAL    50   9.00000  12.00000    49.210550\n",
                        "               FinLossDistributionBuilder.GAUSSIAN    50   9.00000  12.00000    49.031938\n",
                        "                    FinLossDistributionBuilder.LHP    50   9.00000  12.00000    45.133119\n",
                        "=============================================================================================\n",
                        "              FinLossDistributionBuilder.RECURSION    50  12.00000  22.00000    14.018928\n",
                        "      FinLossDistributionBuilder.ADJUSTED_BINOMIAL    50  12.00000  22.00000    14.018928\n",
                        "               FinLossDistributionBuilder.GAUSSIAN    50  12.00000  22.00000    13.999669\n",
                        "                    FinLossDistributionBuilder.LHP    50  12.00000  22.00000    12.630172\n",
                        "=============================================================================================\n"
                    ]
                },
                {
                    "name": "stdout",
                    "output_type": "stream",
                    "text": [
                        "              FinLossDistributionBuilder.RECURSION    50  22.00000  60.00000     0.489382\n",
                        "      FinLossDistributionBuilder.ADJUSTED_BINOMIAL    50  22.00000  60.00000     0.489382\n",
                        "               FinLossDistributionBuilder.GAUSSIAN    50  22.00000  60.00000     0.488422\n",
                        "                    FinLossDistributionBuilder.LHP    50  22.00000  60.00000     0.418044\n",
                        "=============================================================================================\n",
                        "              FinLossDistributionBuilder.RECURSION    50   0.00000  60.00000    59.215546\n",
                        "      FinLossDistributionBuilder.ADJUSTED_BINOMIAL    50   0.00000  60.00000    59.215546\n",
                        "               FinLossDistributionBuilder.GAUSSIAN    50   0.00000  60.00000    60.178480\n",
                        "                    FinLossDistributionBuilder.LHP    50   0.00000  60.00000    59.215428\n",
                        "=============================================================================================\n",
                        "              FinLossDistributionBuilder.RECURSION    50   0.00000 100.00000    35.376821\n",
                        "      FinLossDistributionBuilder.ADJUSTED_BINOMIAL    50   0.00000 100.00000    35.376821\n",
                        "               FinLossDistributionBuilder.GAUSSIAN    50   0.00000 100.00000    35.945117\n",
                        "                    FinLossDistributionBuilder.LHP    50   0.00000 100.00000    35.376814\n",
                        "=============================================================================================\n"
                    ]
                }
            ],
            "source": [
                "print(\"%50s %5s %9s %9s %12s\"% (\"Method\", \"NumPts\", \"k_1\", \"k_2\", \"SPD(BPS)\"))\n",
                "for tranche in tranches:\n",
                "    for method in FinLossDistributionBuilder:\n",
                "        for num_points in [50]:\n",
                "            v = tranche.value_bc(value_dt,homoIssuerCurves,upfront,spd,corr1,corr2,num_points,method)\n",
                "            print(\"%50s %5d %9.5f %9.5f %12.6f\"% (method, num_points, tranche.k1*100, tranche.k2*100, v[3] * 10000))\n",
                "    print(\"=============================================================================================\")"
            ]
        },
        {
            "cell_type": "markdown",
            "metadata": {},
            "source": [
                "## Heterogeneous Portfolio Results"
            ]
        },
        {
            "cell_type": "code",
            "execution_count": 17,
            "metadata": {
                "execution": {
                    "iopub.execute_input": "2024-04-30T20:01:27.299445Z",
                    "iopub.status.busy": "2024-04-30T20:01:27.299445Z",
                    "iopub.status.idle": "2024-04-30T20:01:27.858245Z",
                    "shell.execute_reply": "2024-04-30T20:01:27.858245Z"
                },
                "scrolled": false
            },
            "outputs": [
                {
                    "name": "stdout",
                    "output_type": "stream",
                    "text": [
                        "                                            Method NumPts        k_1        k_2     SPD(BPS)\n",
                        "              FinLossDistributionBuilder.RECURSION    50    0.00000   3.00000   949.541331\n",
                        "      FinLossDistributionBuilder.ADJUSTED_BINOMIAL    50    0.00000   3.00000   949.473315\n",
                        "               FinLossDistributionBuilder.GAUSSIAN    50    0.00000   3.00000   983.192109\n",
                        "                    FinLossDistributionBuilder.LHP    50    0.00000   3.00000   914.736913\n",
                        "=============================================================================================\n"
                    ]
                },
                {
                    "name": "stdout",
                    "output_type": "stream",
                    "text": [
                        "              FinLossDistributionBuilder.RECURSION    50    3.00000   6.00000   230.886128\n",
                        "      FinLossDistributionBuilder.ADJUSTED_BINOMIAL    50    3.00000   6.00000   230.978141\n",
                        "               FinLossDistributionBuilder.GAUSSIAN    50    3.00000   6.00000   230.441917\n",
                        "                    FinLossDistributionBuilder.LHP    50    3.00000   6.00000   226.808075\n",
                        "=============================================================================================\n",
                        "              FinLossDistributionBuilder.RECURSION    50    6.00000   9.00000    87.195509\n",
                        "      FinLossDistributionBuilder.ADJUSTED_BINOMIAL    50    6.00000   9.00000    87.253318\n"
                    ]
                },
                {
                    "name": "stdout",
                    "output_type": "stream",
                    "text": [
                        "               FinLossDistributionBuilder.GAUSSIAN    50    6.00000   9.00000    86.834839\n",
                        "                    FinLossDistributionBuilder.LHP    50    6.00000   9.00000    94.905626\n",
                        "=============================================================================================\n",
                        "              FinLossDistributionBuilder.RECURSION    50    9.00000  12.00000    37.477378\n",
                        "      FinLossDistributionBuilder.ADJUSTED_BINOMIAL    50    9.00000  12.00000    37.326454\n",
                        "               FinLossDistributionBuilder.GAUSSIAN    50    9.00000  12.00000    37.313566\n",
                        "                    FinLossDistributionBuilder.LHP    50    9.00000  12.00000    45.123579\n",
                        "=============================================================================================\n"
                    ]
                },
                {
                    "name": "stdout",
                    "output_type": "stream",
                    "text": [
                        "              FinLossDistributionBuilder.RECURSION    50   12.00000  22.00000     8.938853\n",
                        "      FinLossDistributionBuilder.ADJUSTED_BINOMIAL    50   12.00000  22.00000     8.955035\n",
                        "               FinLossDistributionBuilder.GAUSSIAN    50   12.00000  22.00000     8.925328\n",
                        "                    FinLossDistributionBuilder.LHP    50   12.00000  22.00000    12.626359\n",
                        "=============================================================================================\n"
                    ]
                },
                {
                    "name": "stdout",
                    "output_type": "stream",
                    "text": [
                        "              FinLossDistributionBuilder.RECURSION    50   22.00000  60.00000     0.212516\n",
                        "      FinLossDistributionBuilder.ADJUSTED_BINOMIAL    50   22.00000  60.00000     0.212590\n",
                        "               FinLossDistributionBuilder.GAUSSIAN    50   22.00000  60.00000     0.212040\n",
                        "                    FinLossDistributionBuilder.LHP    50   22.00000  60.00000     0.417857\n",
                        "=============================================================================================\n",
                        "              FinLossDistributionBuilder.RECURSION    50    0.00000  60.00000    59.215520\n",
                        "      FinLossDistributionBuilder.ADJUSTED_BINOMIAL    50    0.00000  60.00000    59.215520\n",
                        "               FinLossDistributionBuilder.GAUSSIAN    50    0.00000  60.00000    60.119200\n",
                        "                    FinLossDistributionBuilder.LHP    50    0.00000  60.00000    59.215386\n",
                        "=============================================================================================\n",
                        "              FinLossDistributionBuilder.RECURSION    50    0.00000 100.00000    35.376468\n",
                        "      FinLossDistributionBuilder.ADJUSTED_BINOMIAL    50    0.00000 100.00000    35.376468\n"
                    ]
                },
                {
                    "name": "stdout",
                    "output_type": "stream",
                    "text": [
                        "               FinLossDistributionBuilder.GAUSSIAN    50    0.00000 100.00000    35.909242\n",
                        "                    FinLossDistributionBuilder.LHP    50    0.00000 100.00000    35.376450\n",
                        "=============================================================================================\n"
                    ]
                }
            ],
            "source": [
                "print(\"%50s %5s %9s %9s %12s\"% (\"Method\", \"NumPts\", \"k_1\", \"k_2\", \"SPD(BPS)\"))\n",
                "\n",
                "for tranche in tranches:\n",
                "    for method in FinLossDistributionBuilder:\n",
                "        for num_points in [50]:\n",
                "            v = tranche.value_bc(value_dt,heteroIssuerCurves,upfront,spd,corr1,corr2,num_points,method)\n",
                "            print(\"%50s %5d  %9.5f %9.5f %12.6f\"% (method, num_points, tranche.k1*100, tranche.k2*100, v[3] * 10000))\n",
                "    print(\"=============================================================================================\")"
            ]
        },
        {
            "cell_type": "markdown",
            "metadata": {},
            "source": [
                "Copyright (c) 2020 Dominic O'Kane"
            ]
        }
    ],
    "metadata": {
        "kernelspec": {
            "display_name": "Python 3",
            "language": "python",
            "name": "python3"
        },
        "language_info": {
            "codemirror_mode": {
                "name": "ipython",
                "version": 3
            },
            "file_extension": ".py",
            "mimetype": "text/x-python",
            "name": "python",
            "nbconvert_exporter": "python",
            "pygments_lexer": "ipython3",
            "version": "3.11.5"
        }
    },
    "nbformat": 4,
    "nbformat_minor": 2
}