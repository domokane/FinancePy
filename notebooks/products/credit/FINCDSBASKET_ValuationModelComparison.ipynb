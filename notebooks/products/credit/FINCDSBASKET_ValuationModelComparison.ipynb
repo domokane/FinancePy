{
 "cells": [
  {
   "cell_type": "markdown",
   "metadata": {},
   "source": [
    "# Determining the CDS Basket Spread"
   ]
  },
  {
   "cell_type": "markdown",
   "metadata": {},
   "source": [
    "An analysis of pricing a CDS Basket "
   ]
  },
  {
   "cell_type": "markdown",
   "metadata": {},
   "source": [
    "## THIS IS BROKEN - TO BE REPAIRED"
   ]
  },
  {
   "cell_type": "code",
   "execution_count": 1,
   "metadata": {
    "execution": {
     "iopub.execute_input": "2025-08-27T22:29:00.719779Z",
     "iopub.status.busy": "2025-08-27T22:29:00.719582Z",
     "iopub.status.idle": "2025-08-27T22:29:00.727490Z",
     "shell.execute_reply": "2025-08-27T22:29:00.727131Z"
    }
   },
   "outputs": [
    {
     "name": "stdout",
     "output_type": "stream",
     "text": [
      "[WinError 3] The system cannot find the path specified: 'notebooks/products/credit/'\n",
      "C:\\Users\\Dominic\\Dropbox\\Desktop\\RESEARCH_DB\\FinancePy\\Code\\financepy-git\\notebooks\\products\\credit\n"
     ]
    },
    {
     "data": {
      "text/plain": [
       "'C:\\\\Users\\\\Dominic\\\\Dropbox\\\\Desktop\\\\RESEARCH_DB\\\\FinancePy\\\\Code\\\\financepy-git\\\\notebooks\\\\products\\\\credit'"
      ]
     },
     "execution_count": 1,
     "metadata": {},
     "output_type": "execute_result"
    }
   ],
   "source": [
    "# Move into the local folder of notebook\n",
    "%pwd\n",
    "%cd notebooks/products/credit/\n",
    "%pwd"
   ]
  },
  {
   "cell_type": "code",
   "execution_count": 2,
   "metadata": {
    "execution": {
     "iopub.execute_input": "2025-08-27T22:29:00.729372Z",
     "iopub.status.busy": "2025-08-27T22:29:00.729034Z",
     "iopub.status.idle": "2025-08-27T22:29:01.182391Z",
     "shell.execute_reply": "2025-08-27T22:29:01.181926Z"
    }
   },
   "outputs": [],
   "source": [
    "import numpy as np\n",
    "import matplotlib.pyplot as plt"
   ]
  },
  {
   "cell_type": "code",
   "execution_count": 3,
   "metadata": {
    "execution": {
     "iopub.execute_input": "2025-08-27T22:29:01.185313Z",
     "iopub.status.busy": "2025-08-27T22:29:01.184775Z",
     "iopub.status.idle": "2025-08-27T22:29:07.515096Z",
     "shell.execute_reply": "2025-08-27T22:29:07.514623Z"
    }
   },
   "outputs": [],
   "source": [
    "from financepy.products.credit import *\n",
    "from financepy.products.rates import *\n",
    "from financepy.utils import *"
   ]
  },
  {
   "cell_type": "code",
   "execution_count": 4,
   "metadata": {
    "execution": {
     "iopub.execute_input": "2025-08-27T22:29:07.517043Z",
     "iopub.status.busy": "2025-08-27T22:29:07.516752Z",
     "iopub.status.idle": "2025-08-27T22:29:07.539107Z",
     "shell.execute_reply": "2025-08-27T22:29:07.538651Z"
    }
   },
   "outputs": [],
   "source": [
    "value_dt = Date(1, 8, 2007)\n",
    "settle_dt = value_dt.add_weekdays(1)"
   ]
  },
  {
   "cell_type": "markdown",
   "metadata": {},
   "source": [
    "## Build Ibor Curve"
   ]
  },
  {
   "cell_type": "code",
   "execution_count": 5,
   "metadata": {
    "execution": {
     "iopub.execute_input": "2025-08-27T22:29:07.541585Z",
     "iopub.status.busy": "2025-08-27T22:29:07.541376Z",
     "iopub.status.idle": "2025-08-27T22:29:07.555222Z",
     "shell.execute_reply": "2025-08-27T22:29:07.554688Z"
    }
   },
   "outputs": [],
   "source": [
    "dc_type = DayCountTypes.THIRTY_E_360_ISDA\n",
    "fixed_freq = FrequencyTypes.SEMI_ANNUAL\n",
    "swap_type = SwapTypes.PAY\n",
    "depo = IborDeposit(settle_dt, \"1D\", 0.0502, dc_type)\n",
    "depos = [depo]\n",
    "swap1 = IborSwap(settle_dt,\"1Y\",swap_type,0.0502,fixed_freq,dc_type)\n",
    "swap2 = IborSwap(settle_dt,\"2Y\",swap_type,0.0502,fixed_freq,dc_type)\n",
    "swap3 = IborSwap(settle_dt,\"3Y\",swap_type,0.0501,fixed_freq,dc_type)\n",
    "swap4 = IborSwap(settle_dt,\"4Y\",swap_type,0.0502,fixed_freq,dc_type)\n",
    "swap5 = IborSwap(settle_dt,\"5Y\",swap_type,0.0501,fixed_freq,dc_type)\n",
    "swaps = [swap1,swap2,swap3,swap4,swap5]\n",
    "\n",
    "libor_curve = IborSingleCurve(value_dt, depos, [], swaps)"
   ]
  },
  {
   "cell_type": "markdown",
   "metadata": {},
   "source": [
    "We treat an index as a CDS contract with a flat CDS curve at the CDS index spread for the same maturity"
   ]
  },
  {
   "cell_type": "markdown",
   "metadata": {},
   "source": [
    "## Create the Underlying CDS Index Portfolio"
   ]
  },
  {
   "cell_type": "code",
   "execution_count": 6,
   "metadata": {
    "execution": {
     "iopub.execute_input": "2025-08-27T22:29:07.557131Z",
     "iopub.status.busy": "2025-08-27T22:29:07.556815Z",
     "iopub.status.idle": "2025-08-27T22:29:07.559570Z",
     "shell.execute_reply": "2025-08-27T22:29:07.559071Z"
    }
   },
   "outputs": [],
   "source": [
    "step_in_dt = value_dt.add_weekdays(0)\n",
    "value_dt = step_in_dt"
   ]
  },
  {
   "cell_type": "code",
   "execution_count": 7,
   "metadata": {
    "execution": {
     "iopub.execute_input": "2025-08-27T22:29:07.561429Z",
     "iopub.status.busy": "2025-08-27T22:29:07.561242Z",
     "iopub.status.idle": "2025-08-27T22:29:07.563635Z",
     "shell.execute_reply": "2025-08-27T22:29:07.563252Z"
    }
   },
   "outputs": [],
   "source": [
    "maturity_3yr = value_dt.next_cds_date(36)\n",
    "maturity_5yr = value_dt.next_cds_date(60)\n",
    "maturity_7yr = value_dt.next_cds_date(84)\n",
    "maturity_10yr = value_dt.next_cds_date(120)"
   ]
  },
  {
   "cell_type": "markdown",
   "metadata": {},
   "source": [
    "### Heterogeneous Curves"
   ]
  },
  {
   "cell_type": "code",
   "execution_count": 8,
   "metadata": {
    "execution": {
     "iopub.execute_input": "2025-08-27T22:29:07.565239Z",
     "iopub.status.busy": "2025-08-27T22:29:07.565058Z",
     "iopub.status.idle": "2025-08-27T22:29:07.836732Z",
     "shell.execute_reply": "2025-08-27T22:29:07.836293Z"
    }
   },
   "outputs": [],
   "source": [
    "f = open('.//data//CDX_NA_IG_S7_SPREADS.csv', 'r')\n",
    "data = f.readlines()\n",
    "heteroIssuerCurves = []\n",
    "\n",
    "num_credits = len(data) - 1  # The file has a header\n",
    "\n",
    "for row in data[1:]:\n",
    "    splitRow = row.split(\",\")\n",
    "    spd3Y = float(splitRow[1]) / 10000.0\n",
    "    spd5Y = float(splitRow[2]) / 10000.0\n",
    "    spd7Y = float(splitRow[3]) / 10000.0\n",
    "    spd10Y = float(splitRow[4]) / 10000.0\n",
    "    recovery_rate = float(splitRow[5])\n",
    "    cds3Y = CDS(step_in_dt, maturity_3yr, spd3Y)\n",
    "    cds5Y = CDS(step_in_dt, maturity_5yr, spd5Y)\n",
    "    cds7Y = CDS(step_in_dt, maturity_7yr, spd7Y)\n",
    "    cds10Y = CDS(step_in_dt, maturity_10yr, spd10Y)\n",
    "    cds_contracts = [cds3Y, cds5Y, cds7Y, cds10Y]\n",
    "    issuer_curve = CDSCurve(value_dt, cds_contracts, libor_curve, recovery_rate)\n",
    "    heteroIssuerCurves.append(issuer_curve)"
   ]
  },
  {
   "cell_type": "markdown",
   "metadata": {},
   "source": [
    "### Homogeneous Curves "
   ]
  },
  {
   "cell_type": "markdown",
   "metadata": {},
   "source": [
    "Calculate the average spread of the heterogeneous portfolio"
   ]
  },
  {
   "cell_type": "code",
   "execution_count": 9,
   "metadata": {
    "execution": {
     "iopub.execute_input": "2025-08-27T22:29:07.838739Z",
     "iopub.status.busy": "2025-08-27T22:29:07.838539Z",
     "iopub.status.idle": "2025-08-27T22:29:07.841227Z",
     "shell.execute_reply": "2025-08-27T22:29:07.840817Z"
    }
   },
   "outputs": [],
   "source": [
    "homoIssuerCurves = []\n",
    "num_credits = 125\n",
    "recovery_rate = 0.40"
   ]
  },
  {
   "cell_type": "code",
   "execution_count": 10,
   "metadata": {
    "execution": {
     "iopub.execute_input": "2025-08-27T22:29:07.843133Z",
     "iopub.status.busy": "2025-08-27T22:29:07.842905Z",
     "iopub.status.idle": "2025-08-27T22:29:07.845178Z",
     "shell.execute_reply": "2025-08-27T22:29:07.844798Z"
    }
   },
   "outputs": [],
   "source": [
    "cdsIndex = CDSIndexPortfolio()"
   ]
  },
  {
   "cell_type": "code",
   "execution_count": 11,
   "metadata": {
    "execution": {
     "iopub.execute_input": "2025-08-27T22:29:07.846833Z",
     "iopub.status.busy": "2025-08-27T22:29:07.846647Z",
     "iopub.status.idle": "2025-08-27T22:29:07.870161Z",
     "shell.execute_reply": "2025-08-27T22:29:07.869738Z"
    }
   },
   "outputs": [],
   "source": [
    "spd3Y = cdsIndex.intrinsic_spread(value_dt, step_in_dt, maturity_3yr, heteroIssuerCurves)\n",
    "spd5Y = cdsIndex.intrinsic_spread(value_dt, step_in_dt, maturity_5yr, heteroIssuerCurves)\n",
    "spd7Y = cdsIndex.intrinsic_spread(value_dt, step_in_dt, maturity_7yr, heteroIssuerCurves)\n",
    "spd10Y = cdsIndex.intrinsic_spread(value_dt, step_in_dt, maturity_10yr, heteroIssuerCurves)"
   ]
  },
  {
   "cell_type": "code",
   "execution_count": 12,
   "metadata": {
    "execution": {
     "iopub.execute_input": "2025-08-27T22:29:07.872391Z",
     "iopub.status.busy": "2025-08-27T22:29:07.871996Z",
     "iopub.status.idle": "2025-08-27T22:29:07.875194Z",
     "shell.execute_reply": "2025-08-27T22:29:07.874859Z"
    }
   },
   "outputs": [
    {
     "name": "stdout",
     "output_type": "stream",
     "text": [
      "Homogeneous curve 3Y: 19.678820972252527\n",
      "Homogeneous curve 5Y: 35.53919235929798\n",
      "Homogeneous curve 7Y: 49.01185349544258\n",
      "Homogeneous curve 10Y: 61.41369871102577\n"
     ]
    }
   ],
   "source": [
    "print(\"Homogeneous curve 3Y:\", spd3Y*10000)\n",
    "print(\"Homogeneous curve 5Y:\", spd5Y*10000)\n",
    "print(\"Homogeneous curve 7Y:\", spd7Y*10000)\n",
    "print(\"Homogeneous curve 10Y:\", spd10Y*10000)"
   ]
  },
  {
   "cell_type": "code",
   "execution_count": 13,
   "metadata": {
    "execution": {
     "iopub.execute_input": "2025-08-27T22:29:07.876761Z",
     "iopub.status.busy": "2025-08-27T22:29:07.876578Z",
     "iopub.status.idle": "2025-08-27T22:29:08.145689Z",
     "shell.execute_reply": "2025-08-27T22:29:08.145140Z"
    }
   },
   "outputs": [],
   "source": [
    "for row in range(0,num_credits):\n",
    "    cds3Y = CDS(step_in_dt, maturity_3yr, spd3Y)\n",
    "    cds5Y = CDS(step_in_dt, maturity_5yr, spd5Y)\n",
    "    cds7Y = CDS(step_in_dt, maturity_7yr, spd7Y)\n",
    "    cds10Y = CDS(step_in_dt, maturity_10yr, spd10Y)\n",
    "    cds_contracts = [cds3Y, cds5Y, cds7Y, cds10Y]\n",
    "    issuer_curve = CDSCurve(value_dt, cds_contracts, libor_curve, recovery_rate)\n",
    "    homoIssuerCurves.append(issuer_curve)"
   ]
  },
  {
   "cell_type": "markdown",
   "metadata": {},
   "source": [
    "## Define the Baskets"
   ]
  },
  {
   "cell_type": "code",
   "execution_count": 14,
   "metadata": {
    "execution": {
     "iopub.execute_input": "2025-08-27T22:29:08.147961Z",
     "iopub.status.busy": "2025-08-27T22:29:08.147610Z",
     "iopub.status.idle": "2025-08-27T22:29:08.149966Z",
     "shell.execute_reply": "2025-08-27T22:29:08.149644Z"
    }
   },
   "outputs": [],
   "source": [
    "num_credits = 5"
   ]
  },
  {
   "cell_type": "code",
   "execution_count": 15,
   "metadata": {
    "execution": {
     "iopub.execute_input": "2025-08-27T22:29:08.151554Z",
     "iopub.status.busy": "2025-08-27T22:29:08.151353Z",
     "iopub.status.idle": "2025-08-27T22:29:08.154035Z",
     "shell.execute_reply": "2025-08-27T22:29:08.153653Z"
    }
   },
   "outputs": [],
   "source": [
    "issuer_curves = heteroIssuerCurves[0:num_credits]"
   ]
  },
  {
   "cell_type": "code",
   "execution_count": 16,
   "metadata": {
    "execution": {
     "iopub.execute_input": "2025-08-27T22:29:08.155738Z",
     "iopub.status.busy": "2025-08-27T22:29:08.155373Z",
     "iopub.status.idle": "2025-08-27T22:29:08.157941Z",
     "shell.execute_reply": "2025-08-27T22:29:08.157628Z"
    }
   },
   "outputs": [],
   "source": [
    "basketMaturity = Date(20, 12, 2011)\n",
    "cdsIndex = CDSIndexPortfolio()"
   ]
  },
  {
   "cell_type": "code",
   "execution_count": 17,
   "metadata": {
    "execution": {
     "iopub.execute_input": "2025-08-27T22:29:08.159834Z",
     "iopub.status.busy": "2025-08-27T22:29:08.159642Z",
     "iopub.status.idle": "2025-08-27T22:29:08.165259Z",
     "shell.execute_reply": "2025-08-27T22:29:08.164789Z"
    }
   },
   "outputs": [
    {
     "name": "stdout",
     "output_type": "stream",
     "text": [
      "INTRINSIC SPD BASKET MATURITY 29.03716340808204\n",
      "SUMMED UP SPD BASKET MATURITY 145.80584474439158\n",
      "MINIMUM SPD BASKET MATURITY 9.620144164866993\n",
      "MAXIMUM SPD BASKET MATURITY 73.20754781040397\n"
     ]
    }
   ],
   "source": [
    "intrinsicSpd = cdsIndex.intrinsic_spread(value_dt, step_in_dt, basketMaturity, issuer_curves) * 10000.0\n",
    "\n",
    "print(\"INTRINSIC SPD BASKET MATURITY\", intrinsicSpd)\n",
    "\n",
    "totalSpd = cdsIndex.total_spread(value_dt, step_in_dt, basketMaturity, issuer_curves) * 10000.0\n",
    "\n",
    "print(\"SUMMED UP SPD BASKET MATURITY\", totalSpd)\n",
    "\n",
    "minSpd = cdsIndex.min_spread(value_dt, step_in_dt, basketMaturity, issuer_curves) * 10000.0\n",
    "\n",
    "print(\"MINIMUM SPD BASKET MATURITY\", minSpd)\n",
    "\n",
    "maxSpd = cdsIndex.max_spread(value_dt, step_in_dt, basketMaturity, issuer_curves) * 10000.0\n",
    "\n",
    "print(\"MAXIMUM SPD BASKET MATURITY\", maxSpd)"
   ]
  },
  {
   "cell_type": "code",
   "execution_count": 18,
   "metadata": {
    "execution": {
     "iopub.execute_input": "2025-08-27T22:29:08.167350Z",
     "iopub.status.busy": "2025-08-27T22:29:08.167069Z",
     "iopub.status.idle": "2025-08-27T22:29:08.169722Z",
     "shell.execute_reply": "2025-08-27T22:29:08.169216Z"
    }
   },
   "outputs": [],
   "source": [
    "basket = CDSBasket(value_dt,basketMaturity)"
   ]
  },
  {
   "cell_type": "markdown",
   "metadata": {},
   "source": [
    "## Gaussian Copula Model"
   ]
  },
  {
   "cell_type": "markdown",
   "metadata": {},
   "source": [
    "THERE IS AN ERROR HERE THAT NEEDS TO BE FIXED"
   ]
  },
  {
   "cell_type": "code",
   "execution_count": 19,
   "metadata": {
    "execution": {
     "iopub.execute_input": "2025-08-27T22:29:08.171554Z",
     "iopub.status.busy": "2025-08-27T22:29:08.171272Z",
     "iopub.status.idle": "2025-08-27T22:29:58.445173Z",
     "shell.execute_reply": "2025-08-27T22:29:58.444639Z"
    }
   },
   "outputs": [
    {
     "name": "stdout",
     "output_type": "stream",
     "text": [
      "NTrials   Rho    NTD    SPD_GC_MC    SPD_1FGC    SPD_ST10\n",
      "=========================================================\n"
     ]
    },
    {
     "name": "stdout",
     "output_type": "stream",
     "text": [
      "   5000   0.00    1      146.142     146.566      133.073\n"
     ]
    },
    {
     "name": "stdout",
     "output_type": "stream",
     "text": [
      "   5000   0.06    1      141.088     144.467      129.984\n"
     ]
    },
    {
     "name": "stdout",
     "output_type": "stream",
     "text": [
      "   5000   0.25    1      130.670     135.682      123.001\n"
     ]
    },
    {
     "name": "stdout",
     "output_type": "stream",
     "text": [
      "   5000   0.56    1      112.982     113.376      103.433\n"
     ]
    },
    {
     "name": "stdout",
     "output_type": "stream",
     "text": [
      "   5000   0.81    1       88.837      89.698       86.744\n"
     ]
    },
    {
     "name": "stdout",
     "output_type": "stream",
     "text": [
      "   5000   1.00    1       75.785      74.453       73.213\n",
      "=========================================================\n"
     ]
    },
    {
     "name": "stdout",
     "output_type": "stream",
     "text": [
      "   5000   0.00    2        4.473       5.244       15.662\n"
     ]
    },
    {
     "name": "stdout",
     "output_type": "stream",
     "text": [
      "   5000   0.06    2        6.701       7.075       17.643\n"
     ]
    },
    {
     "name": "stdout",
     "output_type": "stream",
     "text": [
      "   5000   0.25    2       14.602      13.917       22.909\n"
     ]
    },
    {
     "name": "stdout",
     "output_type": "stream",
     "text": [
      "   5000   0.56    2       26.526      26.246       29.633\n"
     ]
    },
    {
     "name": "stdout",
     "output_type": "stream",
     "text": [
      "   5000   0.81    2       32.721      32.774       31.994\n"
     ]
    },
    {
     "name": "stdout",
     "output_type": "stream",
     "text": [
      "   5000   1.00    2       21.976      22.302       22.108\n",
      "=========================================================\n"
     ]
    },
    {
     "name": "stdout",
     "output_type": "stream",
     "text": [
      "   5000   0.00    3        0.131       0.089        1.662\n"
     ]
    },
    {
     "name": "stdout",
     "output_type": "stream",
     "text": [
      "   5000   0.06    3        0.402       0.228        2.340\n"
     ]
    },
    {
     "name": "stdout",
     "output_type": "stream",
     "text": [
      "   5000   0.25    3        1.351       1.505        4.767\n"
     ]
    },
    {
     "name": "stdout",
     "output_type": "stream",
     "text": [
      "   5000   0.56    3        8.107       7.756       11.317\n"
     ]
    },
    {
     "name": "stdout",
     "output_type": "stream",
     "text": [
      "   5000   0.81    3       15.615      15.833       15.054\n"
     ]
    },
    {
     "name": "stdout",
     "output_type": "stream",
     "text": [
      "   5000   1.00    3       20.756      21.360       20.774\n",
      "=========================================================\n"
     ]
    },
    {
     "name": "stdout",
     "output_type": "stream",
     "text": [
      "   5000   0.00    4        0.000       0.001        0.669\n"
     ]
    },
    {
     "name": "stdout",
     "output_type": "stream",
     "text": [
      "   5000   0.06    4        0.000       0.005        0.687\n"
     ]
    },
    {
     "name": "stdout",
     "output_type": "stream",
     "text": [
      "   5000   0.25    4        0.276       0.140        1.519\n"
     ]
    },
    {
     "name": "stdout",
     "output_type": "stream",
     "text": [
      "   5000   0.56    4        2.390       2.195        4.173\n"
     ]
    },
    {
     "name": "stdout",
     "output_type": "stream",
     "text": [
      "   5000   0.81    4        8.955       7.648        9.190\n"
     ]
    },
    {
     "name": "stdout",
     "output_type": "stream",
     "text": [
      "   5000   1.00    4       19.371      20.302       19.772\n",
      "=========================================================\n"
     ]
    },
    {
     "name": "stdout",
     "output_type": "stream",
     "text": [
      "   5000   0.00    5        0.000       0.000        0.000\n"
     ]
    },
    {
     "name": "stdout",
     "output_type": "stream",
     "text": [
      "   5000   0.06    5        0.000       0.000        0.000\n"
     ]
    },
    {
     "name": "stdout",
     "output_type": "stream",
     "text": [
      "   5000   0.25    5        0.000       0.008        0.257\n"
     ]
    },
    {
     "name": "stdout",
     "output_type": "stream",
     "text": [
      "   5000   0.56    5        0.648       0.441        2.572\n"
     ]
    },
    {
     "name": "stdout",
     "output_type": "stream",
     "text": [
      "   5000   0.81    5        3.122       2.944        4.804\n"
     ]
    },
    {
     "name": "stdout",
     "output_type": "stream",
     "text": [
      "   5000   1.00    5       10.413       9.778        9.704\n",
      "=========================================================\n"
     ]
    }
   ],
   "source": [
    "seed = 42\n",
    "doF = 5\n",
    "num_trials = 5000\n",
    "\n",
    "print(\"NTrials   Rho    NTD    SPD_GC_MC    SPD_1FGC    SPD_ST10\")\n",
    "print(\"=========================================================\")\n",
    "\n",
    "for ntd in range(1, num_credits + 1):\n",
    "    for beta in [0.0, 0.25, 0.5, 0.75, 0.90, 0.9999]:\n",
    "        rho = beta * beta\n",
    "        beta_vector = np.ones(num_credits) * beta\n",
    "        corr_matrix = corr_matrix_generator(rho, num_credits)\n",
    "        for num_trials in [5000]:\n",
    "            v1 = basket.value_gaussian_mc(value_dt,ntd,issuer_curves,corr_matrix,libor_curve,num_trials,seed)\n",
    "            v2 = basket.value_1f_gaussian_homo(value_dt,ntd,issuer_curves,beta_vector,libor_curve)\n",
    "            v3 = basket.value_student_t_mc(value_dt, ntd, issuer_curves, corr_matrix, doF, libor_curve, num_trials,seed)\n",
    "            print(\"%7d  %5.2f    %d    %9.3f   %9.3f    %9.3f\"% (num_trials, rho, ntd, v1[2] * 10000, v2[3] * 10000, v3[2] *10000))\n",
    "    print(\"=========================================================\")\n"
   ]
  },
  {
   "cell_type": "markdown",
   "metadata": {},
   "source": [
    "Copyright (c) 2020 Dominic O'Kane"
   ]
  }
 ],
 "metadata": {
  "kernelspec": {
   "display_name": "base",
   "language": "python",
   "name": "python3"
  },
  "language_info": {
   "codemirror_mode": {
    "name": "ipython",
    "version": 3
   },
   "file_extension": ".py",
   "mimetype": "text/x-python",
   "name": "python",
   "nbconvert_exporter": "python",
   "pygments_lexer": "ipython3",
   "version": "3.13.5"
  }
 },
 "nbformat": 4,
 "nbformat_minor": 2
}
