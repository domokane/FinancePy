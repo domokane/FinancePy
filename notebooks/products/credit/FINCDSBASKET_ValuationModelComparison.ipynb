{
 "cells": [
  {
   "cell_type": "markdown",
   "metadata": {},
   "source": [
    "# Determining the CDS Basket Spread"
   ]
  },
  {
   "cell_type": "markdown",
   "metadata": {},
   "source": [
    "An analysis of pricing a CDS Basket "
   ]
  },
  {
   "cell_type": "markdown",
   "metadata": {},
   "source": [
    "## THIS IS BROKEN - TO BE REPAIRED"
   ]
  },
  {
   "cell_type": "code",
   "execution_count": 1,
   "metadata": {
    "execution": {
     "iopub.execute_input": "2025-09-14T22:20:27.134051Z",
     "iopub.status.busy": "2025-09-14T22:20:27.133898Z",
     "iopub.status.idle": "2025-09-14T22:20:27.140540Z",
     "shell.execute_reply": "2025-09-14T22:20:27.140272Z"
    }
   },
   "outputs": [
    {
     "name": "stdout",
     "output_type": "stream",
     "text": [
      "[WinError 3] The system cannot find the path specified: 'notebooks/products/credit/'\n",
      "C:\\Users\\domok\\Dropbox\\Desktop\\RESEARCH_DB\\FinancePy\\Code\\financepy-git\\notebooks\\products\\credit\n"
     ]
    },
    {
     "data": {
      "text/plain": [
       "'C:\\\\Users\\\\domok\\\\Dropbox\\\\Desktop\\\\RESEARCH_DB\\\\FinancePy\\\\Code\\\\financepy-git\\\\notebooks\\\\products\\\\credit'"
      ]
     },
     "execution_count": 1,
     "metadata": {},
     "output_type": "execute_result"
    }
   ],
   "source": [
    "# Move into the local folder of notebook\n",
    "%pwd\n",
    "%cd notebooks/products/credit/\n",
    "%pwd"
   ]
  },
  {
   "cell_type": "code",
   "execution_count": 2,
   "metadata": {
    "execution": {
     "iopub.execute_input": "2025-09-14T22:20:27.141539Z",
     "iopub.status.busy": "2025-09-14T22:20:27.141409Z",
     "iopub.status.idle": "2025-09-14T22:20:27.362097Z",
     "shell.execute_reply": "2025-09-14T22:20:27.361725Z"
    }
   },
   "outputs": [],
   "source": [
    "import numpy as np\n",
    "import matplotlib.pyplot as plt"
   ]
  },
  {
   "cell_type": "code",
   "execution_count": 3,
   "metadata": {
    "execution": {
     "iopub.execute_input": "2025-09-14T22:20:27.364291Z",
     "iopub.status.busy": "2025-09-14T22:20:27.364129Z",
     "iopub.status.idle": "2025-09-14T22:20:28.842019Z",
     "shell.execute_reply": "2025-09-14T22:20:28.841694Z"
    }
   },
   "outputs": [],
   "source": [
    "from financepy.products.credit import *\n",
    "from financepy.products.rates import *\n",
    "from financepy.utils import *"
   ]
  },
  {
   "cell_type": "code",
   "execution_count": 4,
   "metadata": {
    "execution": {
     "iopub.execute_input": "2025-09-14T22:20:28.843656Z",
     "iopub.status.busy": "2025-09-14T22:20:28.843440Z",
     "iopub.status.idle": "2025-09-14T22:20:28.866465Z",
     "shell.execute_reply": "2025-09-14T22:20:28.866115Z"
    }
   },
   "outputs": [],
   "source": [
    "value_dt = Date(1, 8, 2007)\n",
    "settle_dt = value_dt.add_weekdays(1)"
   ]
  },
  {
   "cell_type": "markdown",
   "metadata": {},
   "source": [
    "## Build Ibor Curve"
   ]
  },
  {
   "cell_type": "code",
   "execution_count": 5,
   "metadata": {
    "execution": {
     "iopub.execute_input": "2025-09-14T22:20:28.867860Z",
     "iopub.status.busy": "2025-09-14T22:20:28.867729Z",
     "iopub.status.idle": "2025-09-14T22:20:28.876181Z",
     "shell.execute_reply": "2025-09-14T22:20:28.875906Z"
    }
   },
   "outputs": [],
   "source": [
    "dc_type = DayCountTypes.THIRTY_E_360_ISDA\n",
    "fixed_freq = FrequencyTypes.SEMI_ANNUAL\n",
    "swap_type = SwapTypes.PAY\n",
    "depo = IborDeposit(settle_dt, \"1D\", 0.0502, dc_type)\n",
    "depos = [depo]\n",
    "swap1 = IborSwap(settle_dt,\"1Y\",swap_type,0.0502,fixed_freq,dc_type)\n",
    "swap2 = IborSwap(settle_dt,\"2Y\",swap_type,0.0502,fixed_freq,dc_type)\n",
    "swap3 = IborSwap(settle_dt,\"3Y\",swap_type,0.0501,fixed_freq,dc_type)\n",
    "swap4 = IborSwap(settle_dt,\"4Y\",swap_type,0.0502,fixed_freq,dc_type)\n",
    "swap5 = IborSwap(settle_dt,\"5Y\",swap_type,0.0501,fixed_freq,dc_type)\n",
    "swaps = [swap1,swap2,swap3,swap4,swap5]\n",
    "\n",
    "libor_curve = IborSingleCurve(value_dt, depos, [], swaps)"
   ]
  },
  {
   "cell_type": "markdown",
   "metadata": {},
   "source": [
    "We treat an index as a CDS contract with a flat CDS curve at the CDS index spread for the same maturity"
   ]
  },
  {
   "cell_type": "markdown",
   "metadata": {},
   "source": [
    "## Create the Underlying CDS Index Portfolio"
   ]
  },
  {
   "cell_type": "code",
   "execution_count": 6,
   "metadata": {
    "execution": {
     "iopub.execute_input": "2025-09-14T22:20:28.877829Z",
     "iopub.status.busy": "2025-09-14T22:20:28.877709Z",
     "iopub.status.idle": "2025-09-14T22:20:28.880059Z",
     "shell.execute_reply": "2025-09-14T22:20:28.879790Z"
    }
   },
   "outputs": [],
   "source": [
    "step_in_dt = value_dt.add_weekdays(0)\n",
    "value_dt = step_in_dt"
   ]
  },
  {
   "cell_type": "code",
   "execution_count": 7,
   "metadata": {
    "execution": {
     "iopub.execute_input": "2025-09-14T22:20:28.881113Z",
     "iopub.status.busy": "2025-09-14T22:20:28.881000Z",
     "iopub.status.idle": "2025-09-14T22:20:28.883421Z",
     "shell.execute_reply": "2025-09-14T22:20:28.883207Z"
    }
   },
   "outputs": [],
   "source": [
    "maturity_3yr = value_dt.next_cds_date(36)\n",
    "maturity_5yr = value_dt.next_cds_date(60)\n",
    "maturity_7yr = value_dt.next_cds_date(84)\n",
    "maturity_10yr = value_dt.next_cds_date(120)"
   ]
  },
  {
   "cell_type": "markdown",
   "metadata": {},
   "source": [
    "### Heterogeneous Curves"
   ]
  },
  {
   "cell_type": "code",
   "execution_count": 8,
   "metadata": {
    "execution": {
     "iopub.execute_input": "2025-09-14T22:20:28.885223Z",
     "iopub.status.busy": "2025-09-14T22:20:28.885090Z",
     "iopub.status.idle": "2025-09-14T22:20:29.035572Z",
     "shell.execute_reply": "2025-09-14T22:20:29.035201Z"
    }
   },
   "outputs": [],
   "source": [
    "f = open('.//data//CDX_NA_IG_S7_SPREADS.csv', 'r')\n",
    "data = f.readlines()\n",
    "heteroIssuerCurves = []\n",
    "\n",
    "num_credits = len(data) - 1  # The file has a header\n",
    "\n",
    "for row in data[1:]:\n",
    "    splitRow = row.split(\",\")\n",
    "    spd3Y = float(splitRow[1]) / 10000.0\n",
    "    spd5Y = float(splitRow[2]) / 10000.0\n",
    "    spd7Y = float(splitRow[3]) / 10000.0\n",
    "    spd10Y = float(splitRow[4]) / 10000.0\n",
    "    recovery_rate = float(splitRow[5])\n",
    "    cds3Y = CDS(step_in_dt, maturity_3yr, spd3Y)\n",
    "    cds5Y = CDS(step_in_dt, maturity_5yr, spd5Y)\n",
    "    cds7Y = CDS(step_in_dt, maturity_7yr, spd7Y)\n",
    "    cds10Y = CDS(step_in_dt, maturity_10yr, spd10Y)\n",
    "    cds_contracts = [cds3Y, cds5Y, cds7Y, cds10Y]\n",
    "    issuer_curve = CDSCurve(value_dt, cds_contracts, libor_curve, recovery_rate)\n",
    "    heteroIssuerCurves.append(issuer_curve)"
   ]
  },
  {
   "cell_type": "markdown",
   "metadata": {},
   "source": [
    "### Homogeneous Curves "
   ]
  },
  {
   "cell_type": "markdown",
   "metadata": {},
   "source": [
    "Calculate the average spread of the heterogeneous portfolio"
   ]
  },
  {
   "cell_type": "code",
   "execution_count": 9,
   "metadata": {
    "execution": {
     "iopub.execute_input": "2025-09-14T22:20:29.037302Z",
     "iopub.status.busy": "2025-09-14T22:20:29.037166Z",
     "iopub.status.idle": "2025-09-14T22:20:29.039771Z",
     "shell.execute_reply": "2025-09-14T22:20:29.039509Z"
    }
   },
   "outputs": [],
   "source": [
    "homoIssuerCurves = []\n",
    "num_credits = 125\n",
    "recovery_rate = 0.40"
   ]
  },
  {
   "cell_type": "code",
   "execution_count": 10,
   "metadata": {
    "execution": {
     "iopub.execute_input": "2025-09-14T22:20:29.040874Z",
     "iopub.status.busy": "2025-09-14T22:20:29.040717Z",
     "iopub.status.idle": "2025-09-14T22:20:29.043112Z",
     "shell.execute_reply": "2025-09-14T22:20:29.042783Z"
    }
   },
   "outputs": [],
   "source": [
    "cdsIndex = CDSIndexPortfolio()"
   ]
  },
  {
   "cell_type": "code",
   "execution_count": 11,
   "metadata": {
    "execution": {
     "iopub.execute_input": "2025-09-14T22:20:29.044368Z",
     "iopub.status.busy": "2025-09-14T22:20:29.044253Z",
     "iopub.status.idle": "2025-09-14T22:20:29.059403Z",
     "shell.execute_reply": "2025-09-14T22:20:29.059113Z"
    }
   },
   "outputs": [],
   "source": [
    "spd3Y = cdsIndex.intrinsic_spread(value_dt, step_in_dt, maturity_3yr, heteroIssuerCurves)\n",
    "spd5Y = cdsIndex.intrinsic_spread(value_dt, step_in_dt, maturity_5yr, heteroIssuerCurves)\n",
    "spd7Y = cdsIndex.intrinsic_spread(value_dt, step_in_dt, maturity_7yr, heteroIssuerCurves)\n",
    "spd10Y = cdsIndex.intrinsic_spread(value_dt, step_in_dt, maturity_10yr, heteroIssuerCurves)"
   ]
  },
  {
   "cell_type": "code",
   "execution_count": 12,
   "metadata": {
    "execution": {
     "iopub.execute_input": "2025-09-14T22:20:29.061083Z",
     "iopub.status.busy": "2025-09-14T22:20:29.060972Z",
     "iopub.status.idle": "2025-09-14T22:20:29.064421Z",
     "shell.execute_reply": "2025-09-14T22:20:29.064175Z"
    }
   },
   "outputs": [
    {
     "name": "stdout",
     "output_type": "stream",
     "text": [
      "Homogeneous curve 3Y: 19.67857889901659\n",
      "Homogeneous curve 5Y: 35.537570998379266\n",
      "Homogeneous curve 7Y: 49.008079562880496\n",
      "Homogeneous curve 10Y: 61.40728067136373\n"
     ]
    }
   ],
   "source": [
    "print(\"Homogeneous curve 3Y:\", spd3Y*10000)\n",
    "print(\"Homogeneous curve 5Y:\", spd5Y*10000)\n",
    "print(\"Homogeneous curve 7Y:\", spd7Y*10000)\n",
    "print(\"Homogeneous curve 10Y:\", spd10Y*10000)"
   ]
  },
  {
   "cell_type": "code",
   "execution_count": 13,
   "metadata": {
    "execution": {
     "iopub.execute_input": "2025-09-14T22:20:29.065511Z",
     "iopub.status.busy": "2025-09-14T22:20:29.065321Z",
     "iopub.status.idle": "2025-09-14T22:20:29.331619Z",
     "shell.execute_reply": "2025-09-14T22:20:29.331232Z"
    }
   },
   "outputs": [],
   "source": [
    "for row in range(0,num_credits):\n",
    "    cds3Y = CDS(step_in_dt, maturity_3yr, spd3Y)\n",
    "    cds5Y = CDS(step_in_dt, maturity_5yr, spd5Y)\n",
    "    cds7Y = CDS(step_in_dt, maturity_7yr, spd7Y)\n",
    "    cds10Y = CDS(step_in_dt, maturity_10yr, spd10Y)\n",
    "    cds_contracts = [cds3Y, cds5Y, cds7Y, cds10Y]\n",
    "    issuer_curve = CDSCurve(value_dt, cds_contracts, libor_curve, recovery_rate)\n",
    "    homoIssuerCurves.append(issuer_curve)"
   ]
  },
  {
   "cell_type": "markdown",
   "metadata": {},
   "source": [
    "## Define the Baskets"
   ]
  },
  {
   "cell_type": "code",
   "execution_count": 14,
   "metadata": {
    "execution": {
     "iopub.execute_input": "2025-09-14T22:20:29.333514Z",
     "iopub.status.busy": "2025-09-14T22:20:29.333362Z",
     "iopub.status.idle": "2025-09-14T22:20:29.335731Z",
     "shell.execute_reply": "2025-09-14T22:20:29.335481Z"
    }
   },
   "outputs": [],
   "source": [
    "num_credits = 5"
   ]
  },
  {
   "cell_type": "code",
   "execution_count": 15,
   "metadata": {
    "execution": {
     "iopub.execute_input": "2025-09-14T22:20:29.336775Z",
     "iopub.status.busy": "2025-09-14T22:20:29.336667Z",
     "iopub.status.idle": "2025-09-14T22:20:29.338894Z",
     "shell.execute_reply": "2025-09-14T22:20:29.338679Z"
    }
   },
   "outputs": [],
   "source": [
    "issuer_curves = heteroIssuerCurves[0:num_credits]"
   ]
  },
  {
   "cell_type": "code",
   "execution_count": 16,
   "metadata": {
    "execution": {
     "iopub.execute_input": "2025-09-14T22:20:29.339938Z",
     "iopub.status.busy": "2025-09-14T22:20:29.339817Z",
     "iopub.status.idle": "2025-09-14T22:20:29.341939Z",
     "shell.execute_reply": "2025-09-14T22:20:29.341676Z"
    }
   },
   "outputs": [],
   "source": [
    "basketMaturity = Date(20, 12, 2011)\n",
    "cdsIndex = CDSIndexPortfolio()"
   ]
  },
  {
   "cell_type": "code",
   "execution_count": 17,
   "metadata": {
    "execution": {
     "iopub.execute_input": "2025-09-14T22:20:29.342921Z",
     "iopub.status.busy": "2025-09-14T22:20:29.342811Z",
     "iopub.status.idle": "2025-09-14T22:20:29.347185Z",
     "shell.execute_reply": "2025-09-14T22:20:29.346875Z"
    }
   },
   "outputs": [
    {
     "name": "stdout",
     "output_type": "stream",
     "text": [
      "INTRINSIC SPD BASKET MATURITY 29.0364437309788\n",
      "SUMMED UP SPD BASKET MATURITY 145.80451950399618\n",
      "MINIMUM SPD BASKET MATURITY 9.620125867093378\n",
      "MAXIMUM SPD BASKET MATURITY 73.20648683962308\n"
     ]
    }
   ],
   "source": [
    "intrinsicSpd = cdsIndex.intrinsic_spread(value_dt, step_in_dt, basketMaturity, issuer_curves) * 10000.0\n",
    "\n",
    "print(\"INTRINSIC SPD BASKET MATURITY\", intrinsicSpd)\n",
    "\n",
    "totalSpd = cdsIndex.total_spread(value_dt, step_in_dt, basketMaturity, issuer_curves) * 10000.0\n",
    "\n",
    "print(\"SUMMED UP SPD BASKET MATURITY\", totalSpd)\n",
    "\n",
    "minSpd = cdsIndex.min_spread(value_dt, step_in_dt, basketMaturity, issuer_curves) * 10000.0\n",
    "\n",
    "print(\"MINIMUM SPD BASKET MATURITY\", minSpd)\n",
    "\n",
    "maxSpd = cdsIndex.max_spread(value_dt, step_in_dt, basketMaturity, issuer_curves) * 10000.0\n",
    "\n",
    "print(\"MAXIMUM SPD BASKET MATURITY\", maxSpd)"
   ]
  },
  {
   "cell_type": "code",
   "execution_count": 18,
   "metadata": {
    "execution": {
     "iopub.execute_input": "2025-09-14T22:20:29.348208Z",
     "iopub.status.busy": "2025-09-14T22:20:29.348099Z",
     "iopub.status.idle": "2025-09-14T22:20:29.350311Z",
     "shell.execute_reply": "2025-09-14T22:20:29.350139Z"
    }
   },
   "outputs": [],
   "source": [
    "basket = CDSBasket(value_dt,basketMaturity)"
   ]
  },
  {
   "cell_type": "markdown",
   "metadata": {},
   "source": [
    "## Gaussian Copula Model"
   ]
  },
  {
   "cell_type": "markdown",
   "metadata": {},
   "source": [
    "THERE IS AN ERROR HERE THAT NEEDS TO BE FIXED"
   ]
  },
  {
   "cell_type": "code",
   "execution_count": 19,
   "metadata": {
    "execution": {
     "iopub.execute_input": "2025-09-14T22:20:29.351388Z",
     "iopub.status.busy": "2025-09-14T22:20:29.351288Z",
     "iopub.status.idle": "2025-09-14T22:20:48.232064Z",
     "shell.execute_reply": "2025-09-14T22:20:48.231680Z"
    }
   },
   "outputs": [
    {
     "name": "stdout",
     "output_type": "stream",
     "text": [
      "NTrials   Rho    NTD    SPD_GC_MC    SPD_1FGC    SPD_ST10\n",
      "=========================================================\n"
     ]
    },
    {
     "name": "stdout",
     "output_type": "stream",
     "text": [
      "   5000   0.00    1      146.142     146.578      133.073\n"
     ]
    },
    {
     "name": "stdout",
     "output_type": "stream",
     "text": [
      "   5000   0.06    1      141.088     144.478      129.984\n"
     ]
    },
    {
     "name": "stdout",
     "output_type": "stream",
     "text": [
      "   5000   0.25    1      130.669     135.692      123.001\n"
     ]
    },
    {
     "name": "stdout",
     "output_type": "stream",
     "text": [
      "   5000   0.56    1      112.982     113.381      103.432\n"
     ]
    },
    {
     "name": "stdout",
     "output_type": "stream",
     "text": [
      "   5000   0.81    1       88.836      89.699       86.744\n"
     ]
    },
    {
     "name": "stdout",
     "output_type": "stream",
     "text": [
      "   5000   1.00    1       75.785      74.452       73.213\n",
      "=========================================================\n"
     ]
    },
    {
     "name": "stdout",
     "output_type": "stream",
     "text": [
      "   5000   0.00    2        4.473       5.244       15.662\n"
     ]
    },
    {
     "name": "stdout",
     "output_type": "stream",
     "text": [
      "   5000   0.06    2        6.701       7.075       17.643\n"
     ]
    },
    {
     "name": "stdout",
     "output_type": "stream",
     "text": [
      "   5000   0.25    2       14.602      13.916       22.908\n"
     ]
    },
    {
     "name": "stdout",
     "output_type": "stream",
     "text": [
      "   5000   0.56    2       26.526      26.246       29.633\n"
     ]
    },
    {
     "name": "stdout",
     "output_type": "stream",
     "text": [
      "   5000   0.81    2       32.721      32.774       31.994\n"
     ]
    },
    {
     "name": "stdout",
     "output_type": "stream",
     "text": [
      "   5000   1.00    2       21.976      22.301       22.108\n",
      "=========================================================\n"
     ]
    },
    {
     "name": "stdout",
     "output_type": "stream",
     "text": [
      "   5000   0.00    3        0.131       0.089        1.662\n"
     ]
    },
    {
     "name": "stdout",
     "output_type": "stream",
     "text": [
      "   5000   0.06    3        0.402       0.228        2.340\n"
     ]
    },
    {
     "name": "stdout",
     "output_type": "stream",
     "text": [
      "   5000   0.25    3        1.351       1.505        4.767\n"
     ]
    },
    {
     "name": "stdout",
     "output_type": "stream",
     "text": [
      "   5000   0.56    3        8.107       7.756       11.317\n"
     ]
    },
    {
     "name": "stdout",
     "output_type": "stream",
     "text": [
      "   5000   0.81    3       15.615      15.833       15.053\n"
     ]
    },
    {
     "name": "stdout",
     "output_type": "stream",
     "text": [
      "   5000   1.00    3       20.756      21.360       20.774\n",
      "=========================================================\n"
     ]
    },
    {
     "name": "stdout",
     "output_type": "stream",
     "text": [
      "   5000   0.00    4        0.000       0.001        0.669\n"
     ]
    },
    {
     "name": "stdout",
     "output_type": "stream",
     "text": [
      "   5000   0.06    4        0.000       0.005        0.687\n"
     ]
    },
    {
     "name": "stdout",
     "output_type": "stream",
     "text": [
      "   5000   0.25    4        0.276       0.140        1.519\n"
     ]
    },
    {
     "name": "stdout",
     "output_type": "stream",
     "text": [
      "   5000   0.56    4        2.390       2.195        4.173\n"
     ]
    },
    {
     "name": "stdout",
     "output_type": "stream",
     "text": [
      "   5000   0.81    4        8.955       7.647        9.190\n"
     ]
    },
    {
     "name": "stdout",
     "output_type": "stream",
     "text": [
      "   5000   1.00    4       19.371      20.302       19.771\n",
      "=========================================================\n"
     ]
    },
    {
     "name": "stdout",
     "output_type": "stream",
     "text": [
      "   5000   0.00    5        0.000       0.000        0.000\n"
     ]
    },
    {
     "name": "stdout",
     "output_type": "stream",
     "text": [
      "   5000   0.06    5        0.000       0.000        0.000\n"
     ]
    },
    {
     "name": "stdout",
     "output_type": "stream",
     "text": [
      "   5000   0.25    5        0.000       0.008        0.257\n"
     ]
    },
    {
     "name": "stdout",
     "output_type": "stream",
     "text": [
      "   5000   0.56    5        0.648       0.441        2.572\n"
     ]
    },
    {
     "name": "stdout",
     "output_type": "stream",
     "text": [
      "   5000   0.81    5        3.122       2.943        4.804\n"
     ]
    },
    {
     "name": "stdout",
     "output_type": "stream",
     "text": [
      "   5000   1.00    5       10.413       9.778        9.704\n",
      "=========================================================\n"
     ]
    }
   ],
   "source": [
    "seed = 42\n",
    "doF = 5\n",
    "num_trials = 5000\n",
    "\n",
    "print(\"NTrials   Rho    NTD    SPD_GC_MC    SPD_1FGC    SPD_ST10\")\n",
    "print(\"=========================================================\")\n",
    "\n",
    "for ntd in range(1, num_credits + 1):\n",
    "    for beta in [0.0, 0.25, 0.5, 0.75, 0.90, 0.9999]:\n",
    "        rho = beta * beta\n",
    "        beta_vector = np.ones(num_credits) * beta\n",
    "        corr_matrix = corr_matrix_generator(rho, num_credits)\n",
    "        for num_trials in [5000]:\n",
    "            v1 = basket.value_gaussian_mc(value_dt,ntd,issuer_curves,corr_matrix,libor_curve,num_trials,seed)\n",
    "            v2 = basket.value_1f_gaussian_homo(value_dt,ntd,issuer_curves,beta_vector,libor_curve)\n",
    "            v3 = basket.value_student_t_mc(value_dt, ntd, issuer_curves, corr_matrix, doF, libor_curve, num_trials,seed)\n",
    "            print(\"%7d  %5.2f    %d    %9.3f   %9.3f    %9.3f\"% (num_trials, rho, ntd, v1[2] * 10000, v2[3] * 10000, v3[2] *10000))\n",
    "    print(\"=========================================================\")\n"
   ]
  },
  {
   "cell_type": "markdown",
   "metadata": {},
   "source": [
    "Copyright (c) 2020 Dominic O'Kane"
   ]
  }
 ],
 "metadata": {
  "kernelspec": {
   "display_name": "base",
   "language": "python",
   "name": "python3"
  },
  "language_info": {
   "codemirror_mode": {
    "name": "ipython",
    "version": 3
   },
   "file_extension": ".py",
   "mimetype": "text/x-python",
   "name": "python",
   "nbconvert_exporter": "python",
   "pygments_lexer": "ipython3",
   "version": "3.13.7"
  }
 },
 "nbformat": 4,
 "nbformat_minor": 2
}
