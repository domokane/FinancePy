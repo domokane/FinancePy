{
 "cells": [
  {
   "cell_type": "markdown",
   "metadata": {},
   "source": [
    "# Creating and Valuing a CDS Contract"
   ]
  },
  {
   "cell_type": "markdown",
   "metadata": {},
   "source": [
    "Replicating Markit Pricing on 20 Aug 2020"
   ]
  },
  {
   "cell_type": "code",
   "execution_count": 1,
   "metadata": {
    "execution": {
     "iopub.execute_input": "2025-08-27T21:43:53.837507Z",
     "iopub.status.busy": "2025-08-27T21:43:53.837252Z",
     "iopub.status.idle": "2025-08-27T21:43:54.367767Z",
     "shell.execute_reply": "2025-08-27T21:43:54.367330Z"
    }
   },
   "outputs": [],
   "source": [
    "import numpy as np\n",
    "import matplotlib.pyplot as plt"
   ]
  },
  {
   "cell_type": "code",
   "execution_count": 2,
   "metadata": {
    "execution": {
     "iopub.execute_input": "2025-08-27T21:43:54.370631Z",
     "iopub.status.busy": "2025-08-27T21:43:54.370297Z",
     "iopub.status.idle": "2025-08-27T21:43:57.058789Z",
     "shell.execute_reply": "2025-08-27T21:43:57.058300Z"
    }
   },
   "outputs": [
    {
     "name": "stdout",
     "output_type": "stream",
     "text": [
      "####################################################################\n",
      "#    FINANCEPY Version 1.1 - This build: 27 Aug 2025 at 23:27      #\n",
      "#     This software is distributed FREE AND WITHOUT ANY WARRANTY   #\n",
      "#  Report bugs as issues at https://github.com/domokane/FinancePy  #\n",
      "####################################################################\n",
      "\n"
     ]
    }
   ],
   "source": [
    "from financepy.utils import *\n",
    "from financepy.products.rates import *\n",
    "from financepy.products.credit import *"
   ]
  },
  {
   "cell_type": "markdown",
   "metadata": {},
   "source": [
    "## Creating a CDS Contract"
   ]
  },
  {
   "cell_type": "code",
   "execution_count": 3,
   "metadata": {
    "execution": {
     "iopub.execute_input": "2025-08-27T21:43:57.061079Z",
     "iopub.status.busy": "2025-08-27T21:43:57.060662Z",
     "iopub.status.idle": "2025-08-27T21:43:57.081485Z",
     "shell.execute_reply": "2025-08-27T21:43:57.080850Z"
    }
   },
   "outputs": [],
   "source": [
    "value_dt = Date(20, 8, 2020)\n",
    "effective_dt = Date(21, 8, 2020)\n",
    "maturity_dt = Date(20, 6, 2025)\n",
    "running_cpn = 0.05\n",
    "notional = ONE_MILLION\n",
    "long_protection = True"
   ]
  },
  {
   "cell_type": "code",
   "execution_count": 4,
   "metadata": {
    "execution": {
     "iopub.execute_input": "2025-08-27T21:43:57.083804Z",
     "iopub.status.busy": "2025-08-27T21:43:57.083530Z",
     "iopub.status.idle": "2025-08-27T21:43:57.092914Z",
     "shell.execute_reply": "2025-08-27T21:43:57.092438Z"
    }
   },
   "outputs": [],
   "source": [
    "cds_contract = CDS(effective_dt, maturity_dt, running_cpn, notional, long_protection)"
   ]
  },
  {
   "cell_type": "markdown",
   "metadata": {},
   "source": [
    "## Build Ibor Curve"
   ]
  },
  {
   "cell_type": "code",
   "execution_count": 5,
   "metadata": {
    "execution": {
     "iopub.execute_input": "2025-08-27T21:43:57.095282Z",
     "iopub.status.busy": "2025-08-27T21:43:57.094878Z",
     "iopub.status.idle": "2025-08-27T21:43:57.097731Z",
     "shell.execute_reply": "2025-08-27T21:43:57.097372Z"
    }
   },
   "outputs": [],
   "source": [
    "settle_dt = Date(24, 8, 2020)"
   ]
  },
  {
   "cell_type": "code",
   "execution_count": 6,
   "metadata": {
    "execution": {
     "iopub.execute_input": "2025-08-27T21:43:57.099487Z",
     "iopub.status.busy": "2025-08-27T21:43:57.099293Z",
     "iopub.status.idle": "2025-08-27T21:43:57.130798Z",
     "shell.execute_reply": "2025-08-27T21:43:57.130377Z"
    }
   },
   "outputs": [],
   "source": [
    "dc_type = DayCountTypes.ACT_360\n",
    "depo1 = IborDeposit(settle_dt, \"1M\", 0.001709, dc_type)\n",
    "depo2 = IborDeposit(settle_dt, \"2M\", 0.002123, dc_type)\n",
    "depo3 = IborDeposit(settle_dt, \"3M\", 0.002469, dc_type)\n",
    "depo4 = IborDeposit(settle_dt, \"6M\", 0.003045, dc_type)\n",
    "depo5 = IborDeposit(settle_dt, \"12M\", 0.004449, dc_type)\n",
    "depos = [depo1,depo2,depo3,depo4,depo5]\n",
    "\n",
    "swap_type = SwapTypes.PAY\n",
    "dc_type = DayCountTypes.THIRTY_E_360_ISDA\n",
    "fixed_freq = FrequencyTypes.SEMI_ANNUAL\n",
    "swap1 = IborSwap(settle_dt,\"2Y\", swap_type, 0.002155,fixed_freq,dc_type)\n",
    "swap2 = IborSwap(settle_dt,\"3Y\", swap_type, 0.002305,fixed_freq,dc_type)\n",
    "swap3 = IborSwap(settle_dt,\"4Y\", swap_type, 0.002665,fixed_freq,dc_type)\n",
    "swap4 = IborSwap(settle_dt,\"5Y\", swap_type, 0.003290,fixed_freq,dc_type)\n",
    "swap5 = IborSwap(settle_dt,\"6Y\", swap_type, 0.004025,fixed_freq,dc_type)\n",
    "swap6 = IborSwap(settle_dt,\"7Y\", swap_type, 0.004725,fixed_freq,dc_type)\n",
    "swap7 = IborSwap(settle_dt,\"8Y\", swap_type, 0.005430,fixed_freq,dc_type)\n",
    "swap8 = IborSwap(settle_dt,\"9Y\", swap_type, 0.006075,fixed_freq,dc_type)\n",
    "swap9 = IborSwap(settle_dt,\"10Y\", swap_type, 0.006640,fixed_freq,dc_type)\n",
    "swaps = [swap1,swap2,swap3,swap4,swap5,swap6,swap7,swap8,swap9]\n",
    "\n",
    "libor_curve = IborSingleCurve(value_dt, depos, [], swaps)"
   ]
  },
  {
   "cell_type": "markdown",
   "metadata": {},
   "source": [
    "# Build a CDS Curve"
   ]
  },
  {
   "cell_type": "code",
   "execution_count": 7,
   "metadata": {
    "execution": {
     "iopub.execute_input": "2025-08-27T21:43:57.133363Z",
     "iopub.status.busy": "2025-08-27T21:43:57.133040Z",
     "iopub.status.idle": "2025-08-27T21:43:57.135414Z",
     "shell.execute_reply": "2025-08-27T21:43:57.135087Z"
    }
   },
   "outputs": [],
   "source": [
    "cdsSpread = 0.01"
   ]
  },
  {
   "cell_type": "code",
   "execution_count": 8,
   "metadata": {
    "execution": {
     "iopub.execute_input": "2025-08-27T21:43:57.137141Z",
     "iopub.status.busy": "2025-08-27T21:43:57.136788Z",
     "iopub.status.idle": "2025-08-27T21:43:57.142455Z",
     "shell.execute_reply": "2025-08-27T21:43:57.142109Z"
    }
   },
   "outputs": [],
   "source": [
    "cds1 = CDS(settle_dt, \"6M\", cdsSpread)\n",
    "cds2 = CDS(settle_dt, \"1Y\", cdsSpread)\n",
    "cds3 = CDS(settle_dt, \"2Y\", cdsSpread)\n",
    "cds4 = CDS(settle_dt, \"3Y\", cdsSpread)\n",
    "cds5 = CDS(settle_dt, \"4Y\", cdsSpread)\n",
    "cds6 = CDS(settle_dt, \"5Y\", cdsSpread)\n",
    "cds7 = CDS(settle_dt, \"7Y\", cdsSpread)\n",
    "cds8 = CDS(settle_dt, \"10Y\", cdsSpread)"
   ]
  },
  {
   "cell_type": "code",
   "execution_count": 9,
   "metadata": {
    "execution": {
     "iopub.execute_input": "2025-08-27T21:43:57.144603Z",
     "iopub.status.busy": "2025-08-27T21:43:57.144333Z",
     "iopub.status.idle": "2025-08-27T21:43:57.147074Z",
     "shell.execute_reply": "2025-08-27T21:43:57.146671Z"
    }
   },
   "outputs": [],
   "source": [
    "cdss = [cds1, cds2, cds3, cds4, cds5, cds6, cds7, cds8]"
   ]
  },
  {
   "cell_type": "code",
   "execution_count": 10,
   "metadata": {
    "execution": {
     "iopub.execute_input": "2025-08-27T21:43:57.148868Z",
     "iopub.status.busy": "2025-08-27T21:43:57.148549Z",
     "iopub.status.idle": "2025-08-27T21:43:57.151005Z",
     "shell.execute_reply": "2025-08-27T21:43:57.150547Z"
    }
   },
   "outputs": [],
   "source": [
    "recovery_rate = 0.40"
   ]
  },
  {
   "cell_type": "code",
   "execution_count": 11,
   "metadata": {
    "execution": {
     "iopub.execute_input": "2025-08-27T21:43:57.152687Z",
     "iopub.status.busy": "2025-08-27T21:43:57.152491Z",
     "iopub.status.idle": "2025-08-27T21:43:57.156651Z",
     "shell.execute_reply": "2025-08-27T21:43:57.156310Z"
    }
   },
   "outputs": [],
   "source": [
    "issuer_curve = CDSCurve(value_dt, cdss, libor_curve, recovery_rate)"
   ]
  },
  {
   "cell_type": "code",
   "execution_count": 12,
   "metadata": {
    "execution": {
     "iopub.execute_input": "2025-08-27T21:43:57.158346Z",
     "iopub.status.busy": "2025-08-27T21:43:57.158087Z",
     "iopub.status.idle": "2025-08-27T21:43:57.160721Z",
     "shell.execute_reply": "2025-08-27T21:43:57.160349Z"
    }
   },
   "outputs": [
    {
     "name": "stdout",
     "output_type": "stream",
     "text": [
      "XXXXX\n",
      "[1.         0.99019222 0.9817979  0.99862717 0.98180074 0.9651915\n",
      " 0.949015   0.9174925  0.87211938]\n",
      "OBJECT TYPE: CDSCurve\n",
      "TIME,SURVIVAL_PROBABILITY\n",
      " 0.0000000,  1.0000000\n",
      " 0.5808219,  0.9901922\n",
      " 1.0849315,  0.9817979\n",
      " 2.0849315,  0.9986272\n",
      " 3.0849315,  0.9818007\n",
      " 4.0876712,  0.9651915\n",
      " 5.0876712,  0.9490150\n",
      " 7.0876712,  0.9174925\n",
      "10.0904110,  0.8721194\n"
     ]
    }
   ],
   "source": [
    "print(issuer_curve)"
   ]
  },
  {
   "cell_type": "code",
   "execution_count": 13,
   "metadata": {
    "execution": {
     "iopub.execute_input": "2025-08-27T21:43:57.162552Z",
     "iopub.status.busy": "2025-08-27T21:43:57.162240Z",
     "iopub.status.idle": "2025-08-27T21:43:57.165699Z",
     "shell.execute_reply": "2025-08-27T21:43:57.165205Z"
    }
   },
   "outputs": [
    {
     "name": "stdout",
     "output_type": "stream",
     "text": [
      "PAYMENT_dt      YEAR_FRAC      FLOW           DF       SURV_PROB      NPV\n",
      "    21-SEP-2020   0.252778     12638.89     0.999848     0.998513     12618.18\n",
      "    21-DEC-2020   0.252778     12638.89     0.999079     0.994298     12555.25\n",
      "    22-MAR-2021   0.252778     12638.89     0.998005     0.990101     12488.80\n",
      "    21-JUN-2021   0.252778     12638.89     0.996528     0.985941     12417.93\n",
      "    20-SEP-2021   0.252778     12638.89     0.995505     0.981798     12353.06\n",
      "    20-DEC-2021   0.252778     12638.89     0.995554     0.985967     12406.12\n",
      "    21-MAR-2022   0.252778     12638.89     0.995603     0.990154     12459.42\n",
      "    20-JUN-2022   0.252778     12638.89     0.995652     0.994358     12512.94\n",
      "    20-SEP-2022   0.255556     12777.78     0.995495     0.998627     12702.75\n",
      "    20-DEC-2022   0.252778     12638.89     0.994848     0.994405     12503.43\n",
      "    20-MAR-2023   0.250000     12500.00     0.994209     0.990247     12306.41\n",
      "    20-JUN-2023   0.255556     12777.78     0.993556     0.986015     12517.89\n",
      "    20-SEP-2023   0.255556     12777.78     0.992820     0.981801     12455.16\n",
      "    20-DEC-2023   0.252778     12638.89     0.991895     0.977645     12256.20\n",
      "    20-MAR-2024   0.252778     12638.89     0.990971     0.973506     12192.94\n",
      "    20-JUN-2024   0.255556     12777.78     0.990038     0.969340     12262.62\n",
      "    20-SEP-2024   0.255556     12777.78     0.988964     0.965192     12196.89\n",
      "    20-DEC-2024   0.252778     12638.89     0.987528     0.961133     11996.15\n",
      "    20-MAR-2025   0.250000     12500.00     0.986110     0.957136     11798.02\n",
      "    20-JUN-2025   0.258333     12916.67     0.984663     0.953067     12121.64\n"
     ]
    }
   ],
   "source": [
    "cds_contract.print_payments(value_dt, issuer_curve)"
   ]
  },
  {
   "cell_type": "markdown",
   "metadata": {},
   "source": [
    "# Valuation"
   ]
  },
  {
   "cell_type": "code",
   "execution_count": 14,
   "metadata": {
    "execution": {
     "iopub.execute_input": "2025-08-27T21:43:57.167651Z",
     "iopub.status.busy": "2025-08-27T21:43:57.167354Z",
     "iopub.status.idle": "2025-08-27T21:43:57.170154Z",
     "shell.execute_reply": "2025-08-27T21:43:57.169785Z"
    }
   },
   "outputs": [
    {
     "name": "stdout",
     "output_type": "stream",
     "text": [
      "FAIR CDS SPREAD   99.08198 bp\n"
     ]
    }
   ],
   "source": [
    "spd = cds_contract.par_spread(settle_dt, issuer_curve, recovery_rate) * 10000.0\n",
    "print(\"FAIR CDS SPREAD %10.5f bp\"% spd)"
   ]
  },
  {
   "cell_type": "code",
   "execution_count": 15,
   "metadata": {
    "execution": {
     "iopub.execute_input": "2025-08-27T21:43:57.172249Z",
     "iopub.status.busy": "2025-08-27T21:43:57.171963Z",
     "iopub.status.idle": "2025-08-27T21:43:57.177968Z",
     "shell.execute_reply": "2025-08-27T21:43:57.177425Z"
    }
   },
   "outputs": [
    {
     "data": {
      "text/plain": [
       "(np.float64(-195533.6454106767),\n",
       " np.float64(-187200.31207734335),\n",
       " np.float64(533.6950180429558),\n",
       " np.float64(44.32197353540687))"
      ]
     },
     "execution_count": 15,
     "metadata": {},
     "output_type": "execute_result"
    }
   ],
   "source": [
    "cds_contract.value_fast_approx(settle_dt, 0.004, 0.01, 0.40, 0.40)"
   ]
  },
  {
   "cell_type": "code",
   "execution_count": 16,
   "metadata": {
    "execution": {
     "iopub.execute_input": "2025-08-27T21:43:57.180559Z",
     "iopub.status.busy": "2025-08-27T21:43:57.180234Z",
     "iopub.status.idle": "2025-08-27T21:43:57.183562Z",
     "shell.execute_reply": "2025-08-27T21:43:57.183104Z"
    }
   },
   "outputs": [],
   "source": [
    "v = cds_contract.value(settle_dt, issuer_curve, recovery_rate)"
   ]
  },
  {
   "cell_type": "code",
   "execution_count": 17,
   "metadata": {
    "execution": {
     "iopub.execute_input": "2025-08-27T21:43:57.185715Z",
     "iopub.status.busy": "2025-08-27T21:43:57.185473Z",
     "iopub.status.idle": "2025-08-27T21:43:57.188243Z",
     "shell.execute_reply": "2025-08-27T21:43:57.187805Z"
    }
   },
   "outputs": [],
   "source": [
    "dirty_pv = v['dirty_pv']\n",
    "clean_pv = v['clean_pv']"
   ]
  },
  {
   "cell_type": "code",
   "execution_count": 18,
   "metadata": {
    "execution": {
     "iopub.execute_input": "2025-08-27T21:43:57.190027Z",
     "iopub.status.busy": "2025-08-27T21:43:57.189695Z",
     "iopub.status.idle": "2025-08-27T21:43:57.192705Z",
     "shell.execute_reply": "2025-08-27T21:43:57.192301Z"
    }
   },
   "outputs": [
    {
     "name": "stdout",
     "output_type": "stream",
     "text": [
      "DIRTY VALUE    -200072.73\n",
      "CLEAN VALUE   -191739.40\n"
     ]
    }
   ],
   "source": [
    "print(\"DIRTY VALUE  %12.2f\"% dirty_pv)\n",
    "print(\"CLEAN VALUE %12.2f\"% clean_pv)"
   ]
  },
  {
   "cell_type": "code",
   "execution_count": 19,
   "metadata": {
    "execution": {
     "iopub.execute_input": "2025-08-27T21:43:57.194684Z",
     "iopub.status.busy": "2025-08-27T21:43:57.194475Z",
     "iopub.status.idle": "2025-08-27T21:43:57.197673Z",
     "shell.execute_reply": "2025-08-27T21:43:57.197271Z"
    }
   },
   "outputs": [
    {
     "name": "stdout",
     "output_type": "stream",
     "text": [
      "CLEAN PRICE   119.173940\n"
     ]
    }
   ],
   "source": [
    "cleanp = cds_contract.clean_price(settle_dt, issuer_curve, recovery_rate)\n",
    "print(\"CLEAN PRICE %12.6f\"% cleanp)"
   ]
  },
  {
   "cell_type": "code",
   "execution_count": 20,
   "metadata": {
    "execution": {
     "iopub.execute_input": "2025-08-27T21:43:57.199480Z",
     "iopub.status.busy": "2025-08-27T21:43:57.199215Z",
     "iopub.status.idle": "2025-08-27T21:43:57.202225Z",
     "shell.execute_reply": "2025-08-27T21:43:57.201784Z"
    }
   },
   "outputs": [
    {
     "name": "stdout",
     "output_type": "stream",
     "text": [
      "ACCRUED_DAYS 60.0\n"
     ]
    }
   ],
   "source": [
    "accrued_days = cds_contract.accrued_days()\n",
    "print(\"ACCRUED_DAYS\", accrued_days)"
   ]
  },
  {
   "cell_type": "code",
   "execution_count": 21,
   "metadata": {
    "execution": {
     "iopub.execute_input": "2025-08-27T21:43:57.203881Z",
     "iopub.status.busy": "2025-08-27T21:43:57.203687Z",
     "iopub.status.idle": "2025-08-27T21:43:57.206401Z",
     "shell.execute_reply": "2025-08-27T21:43:57.205881Z"
    }
   },
   "outputs": [
    {
     "name": "stdout",
     "output_type": "stream",
     "text": [
      "ACCRUED_COUPON -8333.333333333334\n"
     ]
    }
   ],
   "source": [
    "accrued_interest = cds_contract.accrued_interest()\n",
    "print(\"ACCRUED_COUPON\", accrued_interest)"
   ]
  },
  {
   "cell_type": "code",
   "execution_count": 22,
   "metadata": {
    "execution": {
     "iopub.execute_input": "2025-08-27T21:43:57.208190Z",
     "iopub.status.busy": "2025-08-27T21:43:57.207949Z",
     "iopub.status.idle": "2025-08-27T21:43:57.210607Z",
     "shell.execute_reply": "2025-08-27T21:43:57.210246Z"
    }
   },
   "outputs": [
    {
     "name": "stdout",
     "output_type": "stream",
     "text": [
      "prot_PV 47386.047104632395\n"
     ]
    }
   ],
   "source": [
    "prot_pv = cds_contract.prot_leg_pv(settle_dt, issuer_curve, recovery_rate)\n",
    "print(\"prot_PV\", prot_pv)"
   ]
  },
  {
   "cell_type": "code",
   "execution_count": 23,
   "metadata": {
    "execution": {
     "iopub.execute_input": "2025-08-27T21:43:57.212204Z",
     "iopub.status.busy": "2025-08-27T21:43:57.211969Z",
     "iopub.status.idle": "2025-08-27T21:43:57.215071Z",
     "shell.execute_reply": "2025-08-27T21:43:57.214646Z"
    }
   },
   "outputs": [
    {
     "name": "stdout",
     "output_type": "stream",
     "text": [
      "PREMIUM_PV 247458.7795293185\n"
     ]
    }
   ],
   "source": [
    "premPV = cds_contract.premium_leg_pv(settle_dt, issuer_curve, recovery_rate)\n",
    "print(\"PREMIUM_PV\", premPV)"
   ]
  },
  {
   "cell_type": "code",
   "execution_count": 24,
   "metadata": {
    "execution": {
     "iopub.execute_input": "2025-08-27T21:43:57.216789Z",
     "iopub.status.busy": "2025-08-27T21:43:57.216586Z",
     "iopub.status.idle": "2025-08-27T21:43:57.219743Z",
     "shell.execute_reply": "2025-08-27T21:43:57.219362Z"
    }
   },
   "outputs": [
    {
     "data": {
      "text/plain": [
       "{'dirty_rpv01': np.float64(4.9491755905863695),\n",
       " 'clean_rpv01': np.float64(4.7825089239197025)}"
      ]
     },
     "execution_count": 24,
     "metadata": {},
     "output_type": "execute_result"
    }
   ],
   "source": [
    "cds_contract.risky_pv01(settle_dt, issuer_curve)"
   ]
  },
  {
   "cell_type": "markdown",
   "metadata": {},
   "source": [
    "## Risk Measures"
   ]
  },
  {
   "cell_type": "code",
   "execution_count": 25,
   "metadata": {
    "execution": {
     "iopub.execute_input": "2025-08-27T21:43:57.221639Z",
     "iopub.status.busy": "2025-08-27T21:43:57.221356Z",
     "iopub.status.idle": "2025-08-27T21:43:57.234361Z",
     "shell.execute_reply": "2025-08-27T21:43:57.233844Z"
    }
   },
   "outputs": [
    {
     "data": {
      "text/plain": [
       "np.float64(507.9938544575998)"
      ]
     },
     "execution_count": 25,
     "metadata": {},
     "output_type": "execute_result"
    }
   ],
   "source": [
    "cds_contract.credit_dv01(settle_dt, issuer_curve, recovery_rate)"
   ]
  },
  {
   "cell_type": "code",
   "execution_count": 26,
   "metadata": {
    "execution": {
     "iopub.execute_input": "2025-08-27T21:43:57.236295Z",
     "iopub.status.busy": "2025-08-27T21:43:57.236084Z",
     "iopub.status.idle": "2025-08-27T21:43:57.270118Z",
     "shell.execute_reply": "2025-08-27T21:43:57.269489Z"
    }
   },
   "outputs": [
    {
     "data": {
      "text/plain": [
       "np.float64(48.10582343424903)"
      ]
     },
     "execution_count": 26,
     "metadata": {},
     "output_type": "execute_result"
    }
   ],
   "source": [
    "cds_contract.interest_dv01(settle_dt, issuer_curve, recovery_rate)"
   ]
  },
  {
   "cell_type": "markdown",
   "metadata": {},
   "source": [
    "Copyright (c) 2020 Dominic O'Kane"
   ]
  }
 ],
 "metadata": {
  "kernelspec": {
   "display_name": "base",
   "language": "python",
   "name": "python3"
  },
  "language_info": {
   "codemirror_mode": {
    "name": "ipython",
    "version": 3
   },
   "file_extension": ".py",
   "mimetype": "text/x-python",
   "name": "python",
   "nbconvert_exporter": "python",
   "pygments_lexer": "ipython3",
   "version": "3.13.5"
  }
 },
 "nbformat": 4,
 "nbformat_minor": 2
}
