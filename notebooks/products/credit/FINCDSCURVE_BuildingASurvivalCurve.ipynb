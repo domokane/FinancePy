{
 "cells": [
  {
   "cell_type": "markdown",
   "metadata": {},
   "source": [
    "# Building a CDS Survival Curve"
   ]
  },
  {
   "cell_type": "markdown",
   "metadata": {},
   "source": [
    "Understand what a CDS survival curve is"
   ]
  },
  {
   "cell_type": "code",
   "execution_count": 1,
   "metadata": {
    "execution": {
     "iopub.execute_input": "2024-04-30T19:50:53.271649Z",
     "iopub.status.busy": "2024-04-30T19:50:53.270646Z",
     "iopub.status.idle": "2024-04-30T19:50:53.923472Z",
     "shell.execute_reply": "2024-04-30T19:50:53.922860Z"
    }
   },
   "outputs": [],
   "source": [
    "import numpy as np\n",
    "import matplotlib.pyplot as plt"
   ]
  },
  {
   "cell_type": "code",
   "execution_count": 2,
   "metadata": {
    "execution": {
     "iopub.execute_input": "2024-04-30T19:50:53.925497Z",
     "iopub.status.busy": "2024-04-30T19:50:53.925497Z",
     "iopub.status.idle": "2024-04-30T19:50:56.086988Z",
     "shell.execute_reply": "2024-04-30T19:50:56.086988Z"
    }
   },
   "outputs": [
    {
     "name": "stdout",
     "output_type": "stream",
     "text": [
      "####################################################################\n",
      "#  FINANCEPY BETA Version 0.350 - This build: 30 Apr 2024 at 21:20 #\n",
      "#     This software is distributed FREE AND WITHOUT ANY WARRANTY   #\n",
      "#  Report bugs as issues at https://github.com/domokane/FinancePy  #\n",
      "####################################################################\n",
      "\n"
     ]
    }
   ],
   "source": [
    "from financepy.products.credit import *\n",
    "from financepy.products.rates import *\n",
    "from financepy.utils import *"
   ]
  },
  {
   "cell_type": "markdown",
   "metadata": {},
   "source": [
    "## Build Ibor Curve"
   ]
  },
  {
   "cell_type": "code",
   "execution_count": 3,
   "metadata": {
    "execution": {
     "iopub.execute_input": "2024-04-30T19:50:56.089986Z",
     "iopub.status.busy": "2024-04-30T19:50:56.089986Z",
     "iopub.status.idle": "2024-04-30T19:50:56.114417Z",
     "shell.execute_reply": "2024-04-30T19:50:56.114417Z"
    }
   },
   "outputs": [],
   "source": [
    "value_dt = Date(20, 12, 2018)\n",
    "settle_dt = value_dt.add_weekdays(2)"
   ]
  },
  {
   "cell_type": "code",
   "execution_count": 4,
   "metadata": {
    "execution": {
     "iopub.execute_input": "2024-04-30T19:50:56.116466Z",
     "iopub.status.busy": "2024-04-30T19:50:56.116466Z",
     "iopub.status.idle": "2024-04-30T19:50:56.176273Z",
     "shell.execute_reply": "2024-04-30T19:50:56.176273Z"
    }
   },
   "outputs": [],
   "source": [
    "dc_type = DayCountTypes.ACT_360\n",
    "depo1 = IborDeposit(settle_dt, \"1M\", 0.022009, dc_type)\n",
    "depo2 = IborDeposit(settle_dt, \"2M\", 0.022138, dc_type)\n",
    "depo3 = IborDeposit(settle_dt, \"3M\", 0.021810, dc_type)\n",
    "depo4 = IborDeposit(settle_dt, \"6M\", 0.020503, dc_type)\n",
    "depo5 = IborDeposit(settle_dt, \"12M\", 0.019930, dc_type)\n",
    "depos = [depo1,depo2,depo3,depo4,depo5]\n",
    "\n",
    "swap_type = SwapTypes.PAY\n",
    "dc_type = DayCountTypes.THIRTY_E_360_ISDA\n",
    "fixed_freq = FrequencyTypes.SEMI_ANNUAL\n",
    "swap1 = IborSwap(settle_dt,\"2Y\",swap_type,0.015910,fixed_freq,dc_type)\n",
    "swap2 = IborSwap(settle_dt,\"3Y\",swap_type,0.014990,fixed_freq,dc_type)\n",
    "swap3 = IborSwap(settle_dt,\"4Y\",swap_type,0.014725,fixed_freq,dc_type)\n",
    "swap4 = IborSwap(settle_dt,\"5Y\",swap_type,0.014640,fixed_freq,dc_type)\n",
    "swap5 = IborSwap(settle_dt,\"6Y\",swap_type,0.014800,fixed_freq,dc_type)\n",
    "swap6 = IborSwap(settle_dt,\"7Y\",swap_type,0.014995,fixed_freq,dc_type)\n",
    "swap7 = IborSwap(settle_dt,\"8Y\",swap_type,0.015180,fixed_freq,dc_type)\n",
    "swap8 = IborSwap(settle_dt,\"9Y\",swap_type,0.015610,fixed_freq,dc_type)\n",
    "swap9 = IborSwap(settle_dt,\"10Y\",swap_type,0.0159880,fixed_freq,dc_type)\n",
    "swap10 = IborSwap(settle_dt,\"12Y\",swap_type,0.016430,fixed_freq,dc_type)\n",
    "swaps = [swap1,swap2,swap3,swap4,swap5,swap6,swap7,swap8,swap9,swap10]\n",
    "\n",
    "libor_curve = IborSingleCurve(value_dt, depos, [], swaps)"
   ]
  },
  {
   "cell_type": "markdown",
   "metadata": {},
   "source": [
    "# Build a CDS Curve"
   ]
  },
  {
   "cell_type": "code",
   "execution_count": 5,
   "metadata": {
    "execution": {
     "iopub.execute_input": "2024-04-30T19:50:56.178304Z",
     "iopub.status.busy": "2024-04-30T19:50:56.178304Z",
     "iopub.status.idle": "2024-04-30T19:50:56.186049Z",
     "shell.execute_reply": "2024-04-30T19:50:56.186049Z"
    }
   },
   "outputs": [],
   "source": [
    "cds1 = CDS(settle_dt, \"1Y\", 0.0200)\n",
    "cds2 = CDS(settle_dt, \"2Y\", 0.0220)\n",
    "cds3 = CDS(settle_dt, \"3Y\", 0.0250)\n",
    "cds4 = CDS(settle_dt, \"4Y\", 0.0275)\n",
    "cds5 = CDS(settle_dt, \"5Y\", 0.0290)\n",
    "cds6 = CDS(settle_dt, \"7Y\", 0.0300)\n",
    "cds7 = CDS(settle_dt, \"10Y\", 0.0310)\n",
    "cds8 = CDS(settle_dt, \"15Y\", 0.0315)"
   ]
  },
  {
   "cell_type": "code",
   "execution_count": 6,
   "metadata": {
    "execution": {
     "iopub.execute_input": "2024-04-30T19:50:56.188100Z",
     "iopub.status.busy": "2024-04-30T19:50:56.188100Z",
     "iopub.status.idle": "2024-04-30T19:50:56.191006Z",
     "shell.execute_reply": "2024-04-30T19:50:56.191006Z"
    }
   },
   "outputs": [],
   "source": [
    "cdss = [cds1, cds2, cds3, cds4, cds5, cds6, cds7, cds8]"
   ]
  },
  {
   "cell_type": "code",
   "execution_count": 7,
   "metadata": {
    "execution": {
     "iopub.execute_input": "2024-04-30T19:50:56.193655Z",
     "iopub.status.busy": "2024-04-30T19:50:56.192039Z",
     "iopub.status.idle": "2024-04-30T19:50:56.195684Z",
     "shell.execute_reply": "2024-04-30T19:50:56.195684Z"
    }
   },
   "outputs": [],
   "source": [
    "recovery_rate = 0.40"
   ]
  },
  {
   "cell_type": "code",
   "execution_count": 8,
   "metadata": {
    "execution": {
     "iopub.execute_input": "2024-04-30T19:50:56.197715Z",
     "iopub.status.busy": "2024-04-30T19:50:56.197715Z",
     "iopub.status.idle": "2024-04-30T19:50:56.204234Z",
     "shell.execute_reply": "2024-04-30T19:50:56.204234Z"
    }
   },
   "outputs": [],
   "source": [
    "issuer_curve = CDSCurve(value_dt, cdss, libor_curve, recovery_rate)"
   ]
  },
  {
   "cell_type": "markdown",
   "metadata": {},
   "source": [
    "## Examine the Survival Curve"
   ]
  },
  {
   "cell_type": "code",
   "execution_count": 9,
   "metadata": {
    "execution": {
     "iopub.execute_input": "2024-04-30T19:50:56.206243Z",
     "iopub.status.busy": "2024-04-30T19:50:56.206243Z",
     "iopub.status.idle": "2024-04-30T19:50:56.209332Z",
     "shell.execute_reply": "2024-04-30T19:50:56.209332Z"
    }
   },
   "outputs": [
    {
     "name": "stdout",
     "output_type": "stream",
     "text": [
      "<bound method CDSCurve.times of OBJECT TYPE: CDSCurve\n",
      "TIME,SURVIVAL_PROBABILITY\n",
      " 0.0000000,  1.0000000\n",
      " 1.2493151,  0.9584795\n",
      " 2.2493151,  0.9194525\n",
      " 3.2493151,  0.8705527\n",
      " 4.2493151,  0.8181415\n",
      " 5.2520548,  0.7689973\n",
      " 7.2520548,  0.6870540\n",
      "10.2547945,  0.5768439\n",
      "15.2575342,  0.4354287>\n"
     ]
    }
   ],
   "source": [
    "print(issuer_curve.times)"
   ]
  },
  {
   "cell_type": "code",
   "execution_count": 10,
   "metadata": {
    "execution": {
     "iopub.execute_input": "2024-04-30T19:50:56.211362Z",
     "iopub.status.busy": "2024-04-30T19:50:56.211362Z",
     "iopub.status.idle": "2024-04-30T19:50:56.214408Z",
     "shell.execute_reply": "2024-04-30T19:50:56.214408Z"
    }
   },
   "outputs": [
    {
     "name": "stdout",
     "output_type": "stream",
     "text": [
      "<bound method CDSCurve.qs of OBJECT TYPE: CDSCurve\n",
      "TIME,SURVIVAL_PROBABILITY\n",
      " 0.0000000,  1.0000000\n",
      " 1.2493151,  0.9584795\n",
      " 2.2493151,  0.9194525\n",
      " 3.2493151,  0.8705527\n",
      " 4.2493151,  0.8181415\n",
      " 5.2520548,  0.7689973\n",
      " 7.2520548,  0.6870540\n",
      "10.2547945,  0.5768439\n",
      "15.2575342,  0.4354287>\n"
     ]
    }
   ],
   "source": [
    "print(issuer_curve.qs)"
   ]
  },
  {
   "cell_type": "code",
   "execution_count": 11,
   "metadata": {
    "execution": {
     "iopub.execute_input": "2024-04-30T19:50:56.216444Z",
     "iopub.status.busy": "2024-04-30T19:50:56.216444Z",
     "iopub.status.idle": "2024-04-30T19:50:56.219171Z",
     "shell.execute_reply": "2024-04-30T19:50:56.219171Z"
    }
   },
   "outputs": [],
   "source": [
    "times = np.linspace(0.0,20.0,10)"
   ]
  },
  {
   "cell_type": "code",
   "execution_count": 12,
   "metadata": {
    "execution": {
     "iopub.execute_input": "2024-04-30T19:50:56.221173Z",
     "iopub.status.busy": "2024-04-30T19:50:56.221173Z",
     "iopub.status.idle": "2024-04-30T19:50:56.227053Z",
     "shell.execute_reply": "2024-04-30T19:50:56.227053Z"
    }
   },
   "outputs": [
    {
     "data": {
      "text/plain": [
       "array([ 0.        ,  2.22222222,  4.44444444,  6.66666667,  8.88888889,\n",
       "       11.11111111, 13.33333333, 15.55555556, 17.77777778, 20.        ])"
      ]
     },
     "execution_count": 12,
     "metadata": {},
     "output_type": "execute_result"
    }
   ],
   "source": [
    "times"
   ]
  },
  {
   "cell_type": "code",
   "execution_count": 13,
   "metadata": {
    "execution": {
     "iopub.execute_input": "2024-04-30T19:50:56.229054Z",
     "iopub.status.busy": "2024-04-30T19:50:56.229054Z",
     "iopub.status.idle": "2024-04-30T19:50:56.231888Z",
     "shell.execute_reply": "2024-04-30T19:50:56.231888Z"
    }
   },
   "outputs": [],
   "source": [
    "survival_probs = issuer_curve.survival_prob(times)"
   ]
  },
  {
   "cell_type": "code",
   "execution_count": 14,
   "metadata": {
    "execution": {
     "iopub.execute_input": "2024-04-30T19:50:56.234462Z",
     "iopub.status.busy": "2024-04-30T19:50:56.232925Z",
     "iopub.status.idle": "2024-04-30T19:50:56.237531Z",
     "shell.execute_reply": "2024-04-30T19:50:56.237531Z"
    }
   },
   "outputs": [
    {
     "data": {
      "text/plain": [
       "array([1.        , 0.92048866, 0.80833815, 0.71009025, 0.62459568,\n",
       "       0.54973249, 0.48517246, 0.42819429, 0.37790757, 0.33352648])"
      ]
     },
     "execution_count": 14,
     "metadata": {},
     "output_type": "execute_result"
    }
   ],
   "source": [
    "survival_probs"
   ]
  },
  {
   "cell_type": "code",
   "execution_count": 15,
   "metadata": {
    "execution": {
     "iopub.execute_input": "2024-04-30T19:50:56.239561Z",
     "iopub.status.busy": "2024-04-30T19:50:56.239561Z",
     "iopub.status.idle": "2024-04-30T19:50:56.412992Z",
     "shell.execute_reply": "2024-04-30T19:50:56.412992Z"
    }
   },
   "outputs": [
    {
     "data": {
      "text/plain": [
       "Text(0, 0.5, 'Survival Probability')"
      ]
     },
     "execution_count": 15,
     "metadata": {},
     "output_type": "execute_result"
    },
    {
     "data": {
      "image/png": "[encoded data removed]",
      "text/plain": [
       "<Figure size 640x480 with 1 Axes>"
      ]
     },
     "metadata": {},
     "output_type": "display_data"
    }
   ],
   "source": [
    "plt.plot(times, survival_probs)\n",
    "plt.xlabel(\"Years\")\n",
    "plt.ylabel(\"Survival Probability\")"
   ]
  },
  {
   "cell_type": "markdown",
   "metadata": {},
   "source": [
    "Copyright (c) 2020 Dominic O'Kane"
   ]
  }
 ],
 "metadata": {
  "kernelspec": {
   "display_name": "Python 3",
   "language": "python",
   "name": "python3"
  },
  "language_info": {
   "codemirror_mode": {
    "name": "ipython",
    "version": 3
   },
   "file_extension": ".py",
   "mimetype": "text/x-python",
   "name": "python",
   "nbconvert_exporter": "python",
   "pygments_lexer": "ipython3",
   "version": "3.11.5"
  }
 },
 "nbformat": 4,
 "nbformat_minor": 2
}
