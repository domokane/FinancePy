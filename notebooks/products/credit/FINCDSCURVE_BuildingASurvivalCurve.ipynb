{
 "cells": [
  {
   "cell_type": "markdown",
   "metadata": {},
   "source": [
    "# Building a CDS Survival Curve"
   ]
  },
  {
   "cell_type": "markdown",
   "metadata": {},
   "source": [
    "Understand what a CDS survival curve is"
   ]
  },
  {
   "cell_type": "code",
   "execution_count": 1,
   "metadata": {
    "execution": {
     "iopub.execute_input": "2025-09-14T22:20:49.723027Z",
     "iopub.status.busy": "2025-09-14T22:20:49.722903Z",
     "iopub.status.idle": "2025-09-14T22:20:49.943603Z",
     "shell.execute_reply": "2025-09-14T22:20:49.943238Z"
    }
   },
   "outputs": [],
   "source": [
    "import numpy as np\n",
    "import matplotlib.pyplot as plt"
   ]
  },
  {
   "cell_type": "code",
   "execution_count": 2,
   "metadata": {
    "execution": {
     "iopub.execute_input": "2025-09-14T22:20:49.945186Z",
     "iopub.status.busy": "2025-09-14T22:20:49.945013Z",
     "iopub.status.idle": "2025-09-14T22:20:51.443072Z",
     "shell.execute_reply": "2025-09-14T22:20:51.442588Z"
    }
   },
   "outputs": [],
   "source": [
    "from financepy.products.credit import *\n",
    "from financepy.products.rates import *\n",
    "from financepy.utils import *"
   ]
  },
  {
   "cell_type": "markdown",
   "metadata": {},
   "source": [
    "## Build Ibor Curve"
   ]
  },
  {
   "cell_type": "code",
   "execution_count": 3,
   "metadata": {
    "execution": {
     "iopub.execute_input": "2025-09-14T22:20:51.445208Z",
     "iopub.status.busy": "2025-09-14T22:20:51.444937Z",
     "iopub.status.idle": "2025-09-14T22:20:51.467638Z",
     "shell.execute_reply": "2025-09-14T22:20:51.467319Z"
    }
   },
   "outputs": [],
   "source": [
    "value_dt = Date(20, 12, 2018)\n",
    "settle_dt = value_dt.add_weekdays(2)"
   ]
  },
  {
   "cell_type": "code",
   "execution_count": 4,
   "metadata": {
    "execution": {
     "iopub.execute_input": "2025-09-14T22:20:51.469663Z",
     "iopub.status.busy": "2025-09-14T22:20:51.469249Z",
     "iopub.status.idle": "2025-09-14T22:20:51.491142Z",
     "shell.execute_reply": "2025-09-14T22:20:51.490839Z"
    }
   },
   "outputs": [],
   "source": [
    "dc_type = DayCountTypes.ACT_360\n",
    "depo1 = IborDeposit(settle_dt, \"1M\", 0.022009, dc_type)\n",
    "depo2 = IborDeposit(settle_dt, \"2M\", 0.022138, dc_type)\n",
    "depo3 = IborDeposit(settle_dt, \"3M\", 0.021810, dc_type)\n",
    "depo4 = IborDeposit(settle_dt, \"6M\", 0.020503, dc_type)\n",
    "depo5 = IborDeposit(settle_dt, \"12M\", 0.019930, dc_type)\n",
    "depos = [depo1,depo2,depo3,depo4,depo5]\n",
    "\n",
    "swap_type = SwapTypes.PAY\n",
    "dc_type = DayCountTypes.THIRTY_E_360_ISDA\n",
    "fixed_freq = FrequencyTypes.SEMI_ANNUAL\n",
    "swap1 = IborSwap(settle_dt,\"2Y\",swap_type,0.015910,fixed_freq,dc_type)\n",
    "swap2 = IborSwap(settle_dt,\"3Y\",swap_type,0.014990,fixed_freq,dc_type)\n",
    "swap3 = IborSwap(settle_dt,\"4Y\",swap_type,0.014725,fixed_freq,dc_type)\n",
    "swap4 = IborSwap(settle_dt,\"5Y\",swap_type,0.014640,fixed_freq,dc_type)\n",
    "swap5 = IborSwap(settle_dt,\"6Y\",swap_type,0.014800,fixed_freq,dc_type)\n",
    "swap6 = IborSwap(settle_dt,\"7Y\",swap_type,0.014995,fixed_freq,dc_type)\n",
    "swap7 = IborSwap(settle_dt,\"8Y\",swap_type,0.015180,fixed_freq,dc_type)\n",
    "swap8 = IborSwap(settle_dt,\"9Y\",swap_type,0.015610,fixed_freq,dc_type)\n",
    "swap9 = IborSwap(settle_dt,\"10Y\",swap_type,0.0159880,fixed_freq,dc_type)\n",
    "swap10 = IborSwap(settle_dt,\"12Y\",swap_type,0.016430,fixed_freq,dc_type)\n",
    "swaps = [swap1,swap2,swap3,swap4,swap5,swap6,swap7,swap8,swap9,swap10]\n",
    "\n",
    "libor_curve = IborSingleCurve(value_dt, depos, [], swaps)"
   ]
  },
  {
   "cell_type": "markdown",
   "metadata": {},
   "source": [
    "# Build a CDS Curve"
   ]
  },
  {
   "cell_type": "code",
   "execution_count": 5,
   "metadata": {
    "execution": {
     "iopub.execute_input": "2025-09-14T22:20:51.493381Z",
     "iopub.status.busy": "2025-09-14T22:20:51.493245Z",
     "iopub.status.idle": "2025-09-14T22:20:51.497320Z",
     "shell.execute_reply": "2025-09-14T22:20:51.497033Z"
    }
   },
   "outputs": [],
   "source": [
    "cds1 = CDS(settle_dt, \"1Y\", 0.0200)\n",
    "cds2 = CDS(settle_dt, \"2Y\", 0.0220)\n",
    "cds3 = CDS(settle_dt, \"3Y\", 0.0250)\n",
    "cds4 = CDS(settle_dt, \"4Y\", 0.0275)\n",
    "cds5 = CDS(settle_dt, \"5Y\", 0.0290)\n",
    "cds6 = CDS(settle_dt, \"7Y\", 0.0300)\n",
    "cds7 = CDS(settle_dt, \"10Y\", 0.0310)\n",
    "cds8 = CDS(settle_dt, \"15Y\", 0.0315)"
   ]
  },
  {
   "cell_type": "code",
   "execution_count": 6,
   "metadata": {
    "execution": {
     "iopub.execute_input": "2025-09-14T22:20:51.498431Z",
     "iopub.status.busy": "2025-09-14T22:20:51.498309Z",
     "iopub.status.idle": "2025-09-14T22:20:51.500734Z",
     "shell.execute_reply": "2025-09-14T22:20:51.500277Z"
    }
   },
   "outputs": [],
   "source": [
    "cdss = [cds1, cds2, cds3, cds4, cds5, cds6, cds7, cds8]"
   ]
  },
  {
   "cell_type": "code",
   "execution_count": 7,
   "metadata": {
    "execution": {
     "iopub.execute_input": "2025-09-14T22:20:51.501794Z",
     "iopub.status.busy": "2025-09-14T22:20:51.501681Z",
     "iopub.status.idle": "2025-09-14T22:20:51.504172Z",
     "shell.execute_reply": "2025-09-14T22:20:51.503637Z"
    }
   },
   "outputs": [],
   "source": [
    "recovery_rate = 0.40"
   ]
  },
  {
   "cell_type": "code",
   "execution_count": 8,
   "metadata": {
    "execution": {
     "iopub.execute_input": "2025-09-14T22:20:51.505721Z",
     "iopub.status.busy": "2025-09-14T22:20:51.505608Z",
     "iopub.status.idle": "2025-09-14T22:20:51.508615Z",
     "shell.execute_reply": "2025-09-14T22:20:51.508352Z"
    }
   },
   "outputs": [],
   "source": [
    "issuer_curve = CDSCurve(value_dt, cdss, libor_curve, recovery_rate)"
   ]
  },
  {
   "cell_type": "markdown",
   "metadata": {},
   "source": [
    "## Examine the Survival Curve"
   ]
  },
  {
   "cell_type": "code",
   "execution_count": 9,
   "metadata": {
    "execution": {
     "iopub.execute_input": "2025-09-14T22:20:51.509627Z",
     "iopub.status.busy": "2025-09-14T22:20:51.509515Z",
     "iopub.status.idle": "2025-09-14T22:20:51.512702Z",
     "shell.execute_reply": "2025-09-14T22:20:51.512417Z"
    }
   },
   "outputs": [
    {
     "name": "stdout",
     "output_type": "stream",
     "text": [
      "[ 0.          1.24931507  2.24931507  3.24931507  4.24931507  5.25205479\n",
      "  7.25205479 10.25479452 15.25753425]\n"
     ]
    }
   ],
   "source": [
    "print(issuer_curve.times)"
   ]
  },
  {
   "cell_type": "code",
   "execution_count": 10,
   "metadata": {
    "execution": {
     "iopub.execute_input": "2025-09-14T22:20:51.513678Z",
     "iopub.status.busy": "2025-09-14T22:20:51.513567Z",
     "iopub.status.idle": "2025-09-14T22:20:51.515860Z",
     "shell.execute_reply": "2025-09-14T22:20:51.515568Z"
    }
   },
   "outputs": [
    {
     "name": "stdout",
     "output_type": "stream",
     "text": [
      "[1.         0.95847982 0.91945421 0.87055749 0.81815128 0.76901338\n",
      " 0.68708328 0.57689901 0.43552977]\n"
     ]
    }
   ],
   "source": [
    "print(issuer_curve.qs)"
   ]
  },
  {
   "cell_type": "code",
   "execution_count": 11,
   "metadata": {
    "execution": {
     "iopub.execute_input": "2025-09-14T22:20:51.516844Z",
     "iopub.status.busy": "2025-09-14T22:20:51.516682Z",
     "iopub.status.idle": "2025-09-14T22:20:51.518633Z",
     "shell.execute_reply": "2025-09-14T22:20:51.518356Z"
    }
   },
   "outputs": [],
   "source": [
    "times = np.linspace(0.0,20.0,10)"
   ]
  },
  {
   "cell_type": "code",
   "execution_count": 12,
   "metadata": {
    "execution": {
     "iopub.execute_input": "2025-09-14T22:20:51.519575Z",
     "iopub.status.busy": "2025-09-14T22:20:51.519466Z",
     "iopub.status.idle": "2025-09-14T22:20:51.522669Z",
     "shell.execute_reply": "2025-09-14T22:20:51.522404Z"
    }
   },
   "outputs": [
    {
     "data": {
      "text/plain": [
       "array([ 0.        ,  2.22222222,  4.44444444,  6.66666667,  8.88888889,\n",
       "       11.11111111, 13.33333333, 15.55555556, 17.77777778, 20.        ])"
      ]
     },
     "execution_count": 12,
     "metadata": {},
     "output_type": "execute_result"
    }
   ],
   "source": [
    "times"
   ]
  },
  {
   "cell_type": "code",
   "execution_count": 13,
   "metadata": {
    "execution": {
     "iopub.execute_input": "2025-09-14T22:20:51.523687Z",
     "iopub.status.busy": "2025-09-14T22:20:51.523577Z",
     "iopub.status.idle": "2025-09-14T22:20:51.525475Z",
     "shell.execute_reply": "2025-09-14T22:20:51.525211Z"
    }
   },
   "outputs": [],
   "source": [
    "survival_probs = issuer_curve.survival_prob(times)"
   ]
  },
  {
   "cell_type": "code",
   "execution_count": 14,
   "metadata": {
    "execution": {
     "iopub.execute_input": "2025-09-14T22:20:51.526511Z",
     "iopub.status.busy": "2025-09-14T22:20:51.526402Z",
     "iopub.status.idle": "2025-09-14T22:20:51.528797Z",
     "shell.execute_reply": "2025-09-14T22:20:51.528555Z"
    }
   },
   "outputs": [
    {
     "data": {
      "text/plain": [
       "array([1.        , 0.92049029, 0.80834923, 0.710116  , 0.62464036,\n",
       "       0.54979791, 0.48525962, 0.42829719, 0.37802132, 0.33364711])"
      ]
     },
     "execution_count": 14,
     "metadata": {},
     "output_type": "execute_result"
    }
   ],
   "source": [
    "survival_probs"
   ]
  },
  {
   "cell_type": "code",
   "execution_count": 15,
   "metadata": {
    "execution": {
     "iopub.execute_input": "2025-09-14T22:20:51.529708Z",
     "iopub.status.busy": "2025-09-14T22:20:51.529598Z",
     "iopub.status.idle": "2025-09-14T22:20:51.586470Z",
     "shell.execute_reply": "2025-09-14T22:20:51.586167Z"
    }
   },
   "outputs": [
    {
     "data": {
      "text/plain": [
       "Text(0, 0.5, 'Survival Probability')"
      ]
     },
     "execution_count": 15,
     "metadata": {},
     "output_type": "execute_result"
    },
    {
     "data": {
      "image/png": "[encoded data removed]",
      "text/plain": [
       "<Figure size 640x480 with 1 Axes>"
      ]
     },
     "metadata": {},
     "output_type": "display_data"
    }
   ],
   "source": [
    "plt.plot(times, survival_probs)\n",
    "plt.xlabel(\"Years\")\n",
    "plt.ylabel(\"Survival Probability\")"
   ]
  },
  {
   "cell_type": "markdown",
   "metadata": {},
   "source": [
    "Copyright (c) 2020 Dominic O'Kane"
   ]
  }
 ],
 "metadata": {
  "kernelspec": {
   "display_name": "base",
   "language": "python",
   "name": "python3"
  },
  "language_info": {
   "codemirror_mode": {
    "name": "ipython",
    "version": 3
   },
   "file_extension": ".py",
   "mimetype": "text/x-python",
   "name": "python",
   "nbconvert_exporter": "python",
   "pygments_lexer": "ipython3",
   "version": "3.13.7"
  }
 },
 "nbformat": 4,
 "nbformat_minor": 2
}
