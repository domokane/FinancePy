{
 "cells": [
  {
   "cell_type": "markdown",
   "metadata": {},
   "source": [
    "# Building a CDS Survival Curve"
   ]
  },
  {
   "cell_type": "markdown",
   "metadata": {},
   "source": [
    "Understand what a CDS survival curve is"
   ]
  },
  {
   "cell_type": "code",
   "execution_count": 1,
   "metadata": {
    "execution": {
     "iopub.execute_input": "2025-08-27T22:30:00.512718Z",
     "iopub.status.busy": "2025-08-27T22:30:00.512485Z",
     "iopub.status.idle": "2025-08-27T22:30:01.051879Z",
     "shell.execute_reply": "2025-08-27T22:30:01.051262Z"
    }
   },
   "outputs": [],
   "source": [
    "import numpy as np\n",
    "import matplotlib.pyplot as plt"
   ]
  },
  {
   "cell_type": "code",
   "execution_count": 2,
   "metadata": {
    "execution": {
     "iopub.execute_input": "2025-08-27T22:30:01.054355Z",
     "iopub.status.busy": "2025-08-27T22:30:01.054060Z",
     "iopub.status.idle": "2025-08-27T22:30:03.903119Z",
     "shell.execute_reply": "2025-08-27T22:30:03.902548Z"
    }
   },
   "outputs": [],
   "source": [
    "from financepy.products.credit import *\n",
    "from financepy.products.rates import *\n",
    "from financepy.utils import *"
   ]
  },
  {
   "cell_type": "markdown",
   "metadata": {},
   "source": [
    "## Build Ibor Curve"
   ]
  },
  {
   "cell_type": "code",
   "execution_count": 3,
   "metadata": {
    "execution": {
     "iopub.execute_input": "2025-08-27T22:30:03.905766Z",
     "iopub.status.busy": "2025-08-27T22:30:03.905404Z",
     "iopub.status.idle": "2025-08-27T22:30:03.931684Z",
     "shell.execute_reply": "2025-08-27T22:30:03.931073Z"
    }
   },
   "outputs": [],
   "source": [
    "value_dt = Date(20, 12, 2018)\n",
    "settle_dt = value_dt.add_weekdays(2)"
   ]
  },
  {
   "cell_type": "code",
   "execution_count": 4,
   "metadata": {
    "execution": {
     "iopub.execute_input": "2025-08-27T22:30:03.934021Z",
     "iopub.status.busy": "2025-08-27T22:30:03.933722Z",
     "iopub.status.idle": "2025-08-27T22:30:03.976111Z",
     "shell.execute_reply": "2025-08-27T22:30:03.975560Z"
    }
   },
   "outputs": [],
   "source": [
    "dc_type = DayCountTypes.ACT_360\n",
    "depo1 = IborDeposit(settle_dt, \"1M\", 0.022009, dc_type)\n",
    "depo2 = IborDeposit(settle_dt, \"2M\", 0.022138, dc_type)\n",
    "depo3 = IborDeposit(settle_dt, \"3M\", 0.021810, dc_type)\n",
    "depo4 = IborDeposit(settle_dt, \"6M\", 0.020503, dc_type)\n",
    "depo5 = IborDeposit(settle_dt, \"12M\", 0.019930, dc_type)\n",
    "depos = [depo1,depo2,depo3,depo4,depo5]\n",
    "\n",
    "swap_type = SwapTypes.PAY\n",
    "dc_type = DayCountTypes.THIRTY_E_360_ISDA\n",
    "fixed_freq = FrequencyTypes.SEMI_ANNUAL\n",
    "swap1 = IborSwap(settle_dt,\"2Y\",swap_type,0.015910,fixed_freq,dc_type)\n",
    "swap2 = IborSwap(settle_dt,\"3Y\",swap_type,0.014990,fixed_freq,dc_type)\n",
    "swap3 = IborSwap(settle_dt,\"4Y\",swap_type,0.014725,fixed_freq,dc_type)\n",
    "swap4 = IborSwap(settle_dt,\"5Y\",swap_type,0.014640,fixed_freq,dc_type)\n",
    "swap5 = IborSwap(settle_dt,\"6Y\",swap_type,0.014800,fixed_freq,dc_type)\n",
    "swap6 = IborSwap(settle_dt,\"7Y\",swap_type,0.014995,fixed_freq,dc_type)\n",
    "swap7 = IborSwap(settle_dt,\"8Y\",swap_type,0.015180,fixed_freq,dc_type)\n",
    "swap8 = IborSwap(settle_dt,\"9Y\",swap_type,0.015610,fixed_freq,dc_type)\n",
    "swap9 = IborSwap(settle_dt,\"10Y\",swap_type,0.0159880,fixed_freq,dc_type)\n",
    "swap10 = IborSwap(settle_dt,\"12Y\",swap_type,0.016430,fixed_freq,dc_type)\n",
    "swaps = [swap1,swap2,swap3,swap4,swap5,swap6,swap7,swap8,swap9,swap10]\n",
    "\n",
    "libor_curve = IborSingleCurve(value_dt, depos, [], swaps)"
   ]
  },
  {
   "cell_type": "markdown",
   "metadata": {},
   "source": [
    "# Build a CDS Curve"
   ]
  },
  {
   "cell_type": "code",
   "execution_count": 5,
   "metadata": {
    "execution": {
     "iopub.execute_input": "2025-08-27T22:30:03.978317Z",
     "iopub.status.busy": "2025-08-27T22:30:03.978052Z",
     "iopub.status.idle": "2025-08-27T22:30:03.984240Z",
     "shell.execute_reply": "2025-08-27T22:30:03.983828Z"
    }
   },
   "outputs": [],
   "source": [
    "cds1 = CDS(settle_dt, \"1Y\", 0.0200)\n",
    "cds2 = CDS(settle_dt, \"2Y\", 0.0220)\n",
    "cds3 = CDS(settle_dt, \"3Y\", 0.0250)\n",
    "cds4 = CDS(settle_dt, \"4Y\", 0.0275)\n",
    "cds5 = CDS(settle_dt, \"5Y\", 0.0290)\n",
    "cds6 = CDS(settle_dt, \"7Y\", 0.0300)\n",
    "cds7 = CDS(settle_dt, \"10Y\", 0.0310)\n",
    "cds8 = CDS(settle_dt, \"15Y\", 0.0315)"
   ]
  },
  {
   "cell_type": "code",
   "execution_count": 6,
   "metadata": {
    "execution": {
     "iopub.execute_input": "2025-08-27T22:30:03.986343Z",
     "iopub.status.busy": "2025-08-27T22:30:03.986066Z",
     "iopub.status.idle": "2025-08-27T22:30:03.989536Z",
     "shell.execute_reply": "2025-08-27T22:30:03.988886Z"
    }
   },
   "outputs": [],
   "source": [
    "cdss = [cds1, cds2, cds3, cds4, cds5, cds6, cds7, cds8]"
   ]
  },
  {
   "cell_type": "code",
   "execution_count": 7,
   "metadata": {
    "execution": {
     "iopub.execute_input": "2025-08-27T22:30:03.991689Z",
     "iopub.status.busy": "2025-08-27T22:30:03.991475Z",
     "iopub.status.idle": "2025-08-27T22:30:03.994091Z",
     "shell.execute_reply": "2025-08-27T22:30:03.993536Z"
    }
   },
   "outputs": [],
   "source": [
    "recovery_rate = 0.40"
   ]
  },
  {
   "cell_type": "code",
   "execution_count": 8,
   "metadata": {
    "execution": {
     "iopub.execute_input": "2025-08-27T22:30:03.996431Z",
     "iopub.status.busy": "2025-08-27T22:30:03.996028Z",
     "iopub.status.idle": "2025-08-27T22:30:04.002326Z",
     "shell.execute_reply": "2025-08-27T22:30:04.001721Z"
    }
   },
   "outputs": [],
   "source": [
    "issuer_curve = CDSCurve(value_dt, cdss, libor_curve, recovery_rate)"
   ]
  },
  {
   "cell_type": "markdown",
   "metadata": {},
   "source": [
    "## Examine the Survival Curve"
   ]
  },
  {
   "cell_type": "code",
   "execution_count": 9,
   "metadata": {
    "execution": {
     "iopub.execute_input": "2025-08-27T22:30:04.004608Z",
     "iopub.status.busy": "2025-08-27T22:30:04.004356Z",
     "iopub.status.idle": "2025-08-27T22:30:04.009402Z",
     "shell.execute_reply": "2025-08-27T22:30:04.008714Z"
    }
   },
   "outputs": [
    {
     "name": "stdout",
     "output_type": "stream",
     "text": [
      "[ 0.          1.24931507  2.24931507  3.24931507  4.24931507  5.25205479\n",
      "  7.25205479 10.25479452 15.25753425]\n"
     ]
    }
   ],
   "source": [
    "print(issuer_curve.times)"
   ]
  },
  {
   "cell_type": "code",
   "execution_count": 10,
   "metadata": {
    "execution": {
     "iopub.execute_input": "2025-08-27T22:30:04.011500Z",
     "iopub.status.busy": "2025-08-27T22:30:04.011272Z",
     "iopub.status.idle": "2025-08-27T22:30:04.014286Z",
     "shell.execute_reply": "2025-08-27T22:30:04.013839Z"
    }
   },
   "outputs": [
    {
     "name": "stdout",
     "output_type": "stream",
     "text": [
      "[1.         0.95847948 0.91945255 0.87055275 0.81814148 0.76899734\n",
      " 0.68705399 0.57684385 0.43542867]\n"
     ]
    }
   ],
   "source": [
    "print(issuer_curve.qs)"
   ]
  },
  {
   "cell_type": "code",
   "execution_count": 11,
   "metadata": {
    "execution": {
     "iopub.execute_input": "2025-08-27T22:30:04.016413Z",
     "iopub.status.busy": "2025-08-27T22:30:04.016156Z",
     "iopub.status.idle": "2025-08-27T22:30:04.019241Z",
     "shell.execute_reply": "2025-08-27T22:30:04.018844Z"
    }
   },
   "outputs": [],
   "source": [
    "times = np.linspace(0.0,20.0,10)"
   ]
  },
  {
   "cell_type": "code",
   "execution_count": 12,
   "metadata": {
    "execution": {
     "iopub.execute_input": "2025-08-27T22:30:04.020989Z",
     "iopub.status.busy": "2025-08-27T22:30:04.020661Z",
     "iopub.status.idle": "2025-08-27T22:30:04.026285Z",
     "shell.execute_reply": "2025-08-27T22:30:04.025747Z"
    }
   },
   "outputs": [
    {
     "data": {
      "text/plain": [
       "array([ 0.        ,  2.22222222,  4.44444444,  6.66666667,  8.88888889,\n",
       "       11.11111111, 13.33333333, 15.55555556, 17.77777778, 20.        ])"
      ]
     },
     "execution_count": 12,
     "metadata": {},
     "output_type": "execute_result"
    }
   ],
   "source": [
    "times"
   ]
  },
  {
   "cell_type": "code",
   "execution_count": 13,
   "metadata": {
    "execution": {
     "iopub.execute_input": "2025-08-27T22:30:04.028073Z",
     "iopub.status.busy": "2025-08-27T22:30:04.027862Z",
     "iopub.status.idle": "2025-08-27T22:30:04.030743Z",
     "shell.execute_reply": "2025-08-27T22:30:04.030329Z"
    }
   },
   "outputs": [],
   "source": [
    "survival_probs = issuer_curve.survival_prob(times)"
   ]
  },
  {
   "cell_type": "code",
   "execution_count": 14,
   "metadata": {
    "execution": {
     "iopub.execute_input": "2025-08-27T22:30:04.032437Z",
     "iopub.status.busy": "2025-08-27T22:30:04.032234Z",
     "iopub.status.idle": "2025-08-27T22:30:04.035638Z",
     "shell.execute_reply": "2025-08-27T22:30:04.035238Z"
    }
   },
   "outputs": [
    {
     "data": {
      "text/plain": [
       "array([1.        , 0.92048866, 0.80833815, 0.71009025, 0.62459568,\n",
       "       0.54973249, 0.48517246, 0.42819429, 0.37790757, 0.33352648])"
      ]
     },
     "execution_count": 14,
     "metadata": {},
     "output_type": "execute_result"
    }
   ],
   "source": [
    "survival_probs"
   ]
  },
  {
   "cell_type": "code",
   "execution_count": 15,
   "metadata": {
    "execution": {
     "iopub.execute_input": "2025-08-27T22:30:04.037826Z",
     "iopub.status.busy": "2025-08-27T22:30:04.037583Z",
     "iopub.status.idle": "2025-08-27T22:30:04.152399Z",
     "shell.execute_reply": "2025-08-27T22:30:04.151945Z"
    }
   },
   "outputs": [
    {
     "data": {
      "text/plain": [
       "Text(0, 0.5, 'Survival Probability')"
      ]
     },
     "execution_count": 15,
     "metadata": {},
     "output_type": "execute_result"
    },
    {
     "data": {
      "image/png": "[encoded data removed]",
      "text/plain": [
       "<Figure size 640x480 with 1 Axes>"
      ]
     },
     "metadata": {},
     "output_type": "display_data"
    }
   ],
   "source": [
    "plt.plot(times, survival_probs)\n",
    "plt.xlabel(\"Years\")\n",
    "plt.ylabel(\"Survival Probability\")"
   ]
  },
  {
   "cell_type": "markdown",
   "metadata": {},
   "source": [
    "Copyright (c) 2020 Dominic O'Kane"
   ]
  }
 ],
 "metadata": {
  "kernelspec": {
   "display_name": "base",
   "language": "python",
   "name": "python3"
  },
  "language_info": {
   "codemirror_mode": {
    "name": "ipython",
    "version": 3
   },
   "file_extension": ".py",
   "mimetype": "text/x-python",
   "name": "python",
   "nbconvert_exporter": "python",
   "pygments_lexer": "ipython3",
   "version": "3.13.5"
  }
 },
 "nbformat": 4,
 "nbformat_minor": 2
}
