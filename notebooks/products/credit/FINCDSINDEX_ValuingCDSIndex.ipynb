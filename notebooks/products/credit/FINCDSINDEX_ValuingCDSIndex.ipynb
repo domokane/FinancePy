{
 "cells": [
  {
   "cell_type": "markdown",
   "metadata": {},
   "source": [
    "# Creating and Valuing a CDS Index"
   ]
  },
  {
   "cell_type": "markdown",
   "metadata": {},
   "source": [
    "Example CDS Index Valuation"
   ]
  },
  {
   "cell_type": "code",
   "execution_count": 1,
   "metadata": {
    "execution": {
     "iopub.execute_input": "2025-09-14T22:21:23.952760Z",
     "iopub.status.busy": "2025-09-14T22:21:23.952566Z",
     "iopub.status.idle": "2025-09-14T22:21:24.341793Z",
     "shell.execute_reply": "2025-09-14T22:21:24.341090Z"
    }
   },
   "outputs": [],
   "source": [
    "import numpy as np\n",
    "import matplotlib.pyplot as plt"
   ]
  },
  {
   "cell_type": "code",
   "execution_count": 2,
   "metadata": {
    "execution": {
     "iopub.execute_input": "2025-09-14T22:21:24.345196Z",
     "iopub.status.busy": "2025-09-14T22:21:24.344579Z",
     "iopub.status.idle": "2025-09-14T22:21:26.920269Z",
     "shell.execute_reply": "2025-09-14T22:21:26.919636Z"
    }
   },
   "outputs": [],
   "source": [
    "from financepy.utils import *\n",
    "from financepy.products.rates import *\n",
    "from financepy.products.credit import *"
   ]
  },
  {
   "cell_type": "code",
   "execution_count": 3,
   "metadata": {
    "execution": {
     "iopub.execute_input": "2025-09-14T22:21:26.922588Z",
     "iopub.status.busy": "2025-09-14T22:21:26.922273Z",
     "iopub.status.idle": "2025-09-14T22:21:26.952743Z",
     "shell.execute_reply": "2025-09-14T22:21:26.952145Z"
    }
   },
   "outputs": [
    {
     "name": "stdout",
     "output_type": "stream",
     "text": [
      "07-FEB-2006\n"
     ]
    }
   ],
   "source": [
    "value_dt = Date(7, 2, 2006)\n",
    "settle_dt = value_dt.add_weekdays(0)\n",
    "print(settle_dt)"
   ]
  },
  {
   "cell_type": "markdown",
   "metadata": {},
   "source": [
    "## Build Ibor Curve"
   ]
  },
  {
   "cell_type": "markdown",
   "metadata": {},
   "source": [
    "Build the Ibor curve to value cash flows"
   ]
  },
  {
   "cell_type": "code",
   "execution_count": 4,
   "metadata": {
    "execution": {
     "iopub.execute_input": "2025-09-14T22:21:26.954947Z",
     "iopub.status.busy": "2025-09-14T22:21:26.954656Z",
     "iopub.status.idle": "2025-09-14T22:21:26.978698Z",
     "shell.execute_reply": "2025-09-14T22:21:26.977682Z"
    }
   },
   "outputs": [],
   "source": [
    "depos = []\n",
    "dc_type = DayCountTypes.THIRTY_E_360_ISDA\n",
    "fixed_freq = FrequencyTypes.SEMI_ANNUAL\n",
    "swap_type = SwapTypes.PAY\n",
    "swap1 = IborSwap(settle_dt,\"1Y\",swap_type,0.0502,fixed_freq,dc_type)\n",
    "swap2 = IborSwap(settle_dt,\"2Y\",swap_type,0.0502,fixed_freq,dc_type)\n",
    "swap3 = IborSwap(settle_dt,\"3Y\",swap_type,0.0501,fixed_freq,dc_type)\n",
    "swap4 = IborSwap(settle_dt,\"4Y\",swap_type,0.0502,fixed_freq,dc_type)\n",
    "swap5 = IborSwap(settle_dt,\"5Y\",swap_type,0.0501,fixed_freq,dc_type)\n",
    "swaps = [swap1,swap2,swap3,swap4,swap5]\n",
    "\n",
    "libor_curve = IborSingleCurve(value_dt, depos, [], swaps)"
   ]
  },
  {
   "cell_type": "markdown",
   "metadata": {},
   "source": [
    "## Build Index Curve"
   ]
  },
  {
   "cell_type": "markdown",
   "metadata": {},
   "source": [
    "We treat an index as a CDS contract with a flat CDS curve at the CDS index spread for the same maturity"
   ]
  },
  {
   "cell_type": "code",
   "execution_count": 5,
   "metadata": {
    "execution": {
     "iopub.execute_input": "2025-09-14T22:21:26.981002Z",
     "iopub.status.busy": "2025-09-14T22:21:26.980767Z",
     "iopub.status.idle": "2025-09-14T22:21:26.985228Z",
     "shell.execute_reply": "2025-09-14T22:21:26.984716Z"
    }
   },
   "outputs": [],
   "source": [
    "step_in_dt = value_dt"
   ]
  },
  {
   "cell_type": "code",
   "execution_count": 6,
   "metadata": {
    "execution": {
     "iopub.execute_input": "2025-09-14T22:21:26.987028Z",
     "iopub.status.busy": "2025-09-14T22:21:26.986845Z",
     "iopub.status.idle": "2025-09-14T22:21:26.991786Z",
     "shell.execute_reply": "2025-09-14T22:21:26.991310Z"
    }
   },
   "outputs": [],
   "source": [
    "index_cpn = 0.0048375\n",
    "maturity_dt = Date(20, 6, 2010)\n",
    "\n",
    "cds_mkt_contracts = []\n",
    "cds = CDS(value_dt, maturity_dt, index_cpn)\n",
    "cds_mkt_contracts.append(cds)\n",
    "\n",
    "recovery_rate = 0.40\n",
    "index_curve = CDSCurve(value_dt, cds_mkt_contracts,libor_curve,recovery_rate)"
   ]
  },
  {
   "cell_type": "markdown",
   "metadata": {},
   "source": [
    "## Create CDS Index and Perform Valuation"
   ]
  },
  {
   "cell_type": "markdown",
   "metadata": {},
   "source": [
    "The CDS Index is treated as a CDS with the cpn equal to the CDS Index cpn"
   ]
  },
  {
   "cell_type": "code",
   "execution_count": 7,
   "metadata": {
    "execution": {
     "iopub.execute_input": "2025-09-14T22:21:26.993483Z",
     "iopub.status.busy": "2025-09-14T22:21:26.993306Z",
     "iopub.status.idle": "2025-09-14T22:21:26.998526Z",
     "shell.execute_reply": "2025-09-14T22:21:26.997527Z"
    }
   },
   "outputs": [],
   "source": [
    "cdsRecovery = 0.40\n",
    "notional = 10.0 * ONE_MILLION\n",
    "long_protection = True\n",
    "index_cpn = 0.004\n",
    "\n",
    "cdsIndexContract = CDS(step_in_dt, maturity_dt, index_cpn, notional, long_protection)"
   ]
  },
  {
   "cell_type": "code",
   "execution_count": 8,
   "metadata": {
    "execution": {
     "iopub.execute_input": "2025-09-14T22:21:27.000526Z",
     "iopub.status.busy": "2025-09-14T22:21:27.000336Z",
     "iopub.status.idle": "2025-09-14T22:21:27.004212Z",
     "shell.execute_reply": "2025-09-14T22:21:27.003712Z"
    }
   },
   "outputs": [
    {
     "name": "stdout",
     "output_type": "stream",
     "text": [
      "PAR SPREAD 48.37497278598326\n"
     ]
    }
   ],
   "source": [
    "spd = cdsIndexContract.par_spread(value_dt, index_curve, cdsRecovery) * 10000\n",
    "print(\"PAR SPREAD\", spd)"
   ]
  },
  {
   "cell_type": "code",
   "execution_count": 9,
   "metadata": {
    "execution": {
     "iopub.execute_input": "2025-09-14T22:21:27.005949Z",
     "iopub.status.busy": "2025-09-14T22:21:27.005761Z",
     "iopub.status.idle": "2025-09-14T22:21:27.010039Z",
     "shell.execute_reply": "2025-09-14T22:21:27.009397Z"
    }
   },
   "outputs": [
    {
     "name": "stdout",
     "output_type": "stream",
     "text": [
      "DIRTY VALUE 27193.705780363234\n",
      "CLEAN VALUE 32638.150224807672\n"
     ]
    }
   ],
   "source": [
    "v = cdsIndexContract.value(value_dt, index_curve, cdsRecovery)\n",
    "print(\"DIRTY VALUE\", v['dirty_pv'])\n",
    "print(\"CLEAN VALUE\", v['clean_pv'])"
   ]
  },
  {
   "cell_type": "code",
   "execution_count": 10,
   "metadata": {
    "execution": {
     "iopub.execute_input": "2025-09-14T22:21:27.011801Z",
     "iopub.status.busy": "2025-09-14T22:21:27.011487Z",
     "iopub.status.idle": "2025-09-14T22:21:27.015861Z",
     "shell.execute_reply": "2025-09-14T22:21:27.015344Z"
    }
   },
   "outputs": [
    {
     "name": "stdout",
     "output_type": "stream",
     "text": [
      "CLEAN PRICE 99.67361849775192\n"
     ]
    }
   ],
   "source": [
    "p = cdsIndexContract.clean_price(value_dt, index_curve, cdsRecovery)\n",
    "print(\"CLEAN PRICE\", p)"
   ]
  },
  {
   "cell_type": "code",
   "execution_count": 11,
   "metadata": {
    "execution": {
     "iopub.execute_input": "2025-09-14T22:21:27.017476Z",
     "iopub.status.busy": "2025-09-14T22:21:27.017280Z",
     "iopub.status.idle": "2025-09-14T22:21:27.021704Z",
     "shell.execute_reply": "2025-09-14T22:21:27.020781Z"
    }
   },
   "outputs": [
    {
     "name": "stdout",
     "output_type": "stream",
     "text": [
      "ACCRUED DAYS 49.0\n",
      "ACCRUED COUPON -5444.444444444444\n"
     ]
    }
   ],
   "source": [
    "accrued_days = cdsIndexContract.accrued_days()\n",
    "print(\"ACCRUED DAYS\", accrued_days)\n",
    "\n",
    "accrued_interest = cdsIndexContract.accrued_interest()\n",
    "print(\"ACCRUED COUPON\", accrued_interest)"
   ]
  },
  {
   "cell_type": "code",
   "execution_count": 12,
   "metadata": {
    "execution": {
     "iopub.execute_input": "2025-09-14T22:21:27.023608Z",
     "iopub.status.busy": "2025-09-14T22:21:27.023420Z",
     "iopub.status.idle": "2025-09-14T22:21:27.028124Z",
     "shell.execute_reply": "2025-09-14T22:21:27.027035Z"
    }
   },
   "outputs": [
    {
     "name": "stdout",
     "output_type": "stream",
     "text": [
      "PROTECTION LEG PV 188522.35932663237\n"
     ]
    }
   ],
   "source": [
    "prot_pv = cdsIndexContract.prot_leg_pv(value_dt, index_curve, cdsRecovery)\n",
    "print(\"PROTECTION LEG PV\", prot_pv)"
   ]
  },
  {
   "cell_type": "code",
   "execution_count": 13,
   "metadata": {
    "execution": {
     "iopub.execute_input": "2025-09-14T22:21:27.029749Z",
     "iopub.status.busy": "2025-09-14T22:21:27.029568Z",
     "iopub.status.idle": "2025-09-14T22:21:27.034568Z",
     "shell.execute_reply": "2025-09-14T22:21:27.034079Z"
    }
   },
   "outputs": [
    {
     "name": "stdout",
     "output_type": "stream",
     "text": [
      "PREMIUM LEG PV 161328.65354626914\n"
     ]
    }
   ],
   "source": [
    "premPV = cdsIndexContract.premium_leg_pv(value_dt, index_curve, cdsRecovery)\n",
    "print(\"PREMIUM LEG PV\", premPV)"
   ]
  },
  {
   "cell_type": "code",
   "execution_count": 14,
   "metadata": {
    "execution": {
     "iopub.execute_input": "2025-09-14T22:21:27.036151Z",
     "iopub.status.busy": "2025-09-14T22:21:27.035964Z",
     "iopub.status.idle": "2025-09-14T22:21:27.040371Z",
     "shell.execute_reply": "2025-09-14T22:21:27.039957Z"
    }
   },
   "outputs": [
    {
     "name": "stdout",
     "output_type": "stream",
     "text": [
      "DIRTY RPV01 4.033216338656729\n",
      "CLEAN RPV01 3.8971052275456177\n"
     ]
    }
   ],
   "source": [
    "rpv01 = cdsIndexContract.risky_pv01(value_dt, index_curve)\n",
    "print(\"DIRTY RPV01\", rpv01['dirty_rpv01'])\n",
    "print(\"CLEAN RPV01\", rpv01['clean_rpv01'])"
   ]
  },
  {
   "cell_type": "markdown",
   "metadata": {},
   "source": [
    "Copyright (c) 2020 Dominic O'Kane"
   ]
  }
 ],
 "metadata": {
  "kernelspec": {
   "display_name": "base",
   "language": "python",
   "name": "python3"
  },
  "language_info": {
   "codemirror_mode": {
    "name": "ipython",
    "version": 3
   },
   "file_extension": ".py",
   "mimetype": "text/x-python",
   "name": "python",
   "nbconvert_exporter": "python",
   "pygments_lexer": "ipython3",
   "version": "3.13.7"
  }
 },
 "nbformat": 4,
 "nbformat_minor": 2
}
