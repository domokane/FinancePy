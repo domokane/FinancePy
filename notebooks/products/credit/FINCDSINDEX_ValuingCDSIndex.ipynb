{
 "cells": [
  {
   "cell_type": "markdown",
   "metadata": {},
   "source": [
    "# Creating and Valuing a CDS Index"
   ]
  },
  {
   "cell_type": "markdown",
   "metadata": {},
   "source": [
    "Example CDS Index Valuation"
   ]
  },
  {
   "cell_type": "code",
   "execution_count": 1,
   "metadata": {
    "execution": {
     "iopub.execute_input": "2025-08-27T21:43:36.332561Z",
     "iopub.status.busy": "2025-08-27T21:43:36.332235Z",
     "iopub.status.idle": "2025-08-27T21:43:36.806373Z",
     "shell.execute_reply": "2025-08-27T21:43:36.805969Z"
    }
   },
   "outputs": [],
   "source": [
    "import numpy as np\n",
    "import matplotlib.pyplot as plt"
   ]
  },
  {
   "cell_type": "code",
   "execution_count": 2,
   "metadata": {
    "execution": {
     "iopub.execute_input": "2025-08-27T21:43:36.808517Z",
     "iopub.status.busy": "2025-08-27T21:43:36.808275Z",
     "iopub.status.idle": "2025-08-27T21:43:39.398882Z",
     "shell.execute_reply": "2025-08-27T21:43:39.398337Z"
    }
   },
   "outputs": [
    {
     "name": "stdout",
     "output_type": "stream",
     "text": [
      "####################################################################\n",
      "#    FINANCEPY Version 1.1 - This build: 27 Aug 2025 at 23:27      #\n",
      "#     This software is distributed FREE AND WITHOUT ANY WARRANTY   #\n",
      "#  Report bugs as issues at https://github.com/domokane/FinancePy  #\n",
      "####################################################################\n",
      "\n"
     ]
    }
   ],
   "source": [
    "from financepy.utils import *\n",
    "from financepy.products.rates import *\n",
    "from financepy.products.credit import *"
   ]
  },
  {
   "cell_type": "code",
   "execution_count": 3,
   "metadata": {
    "execution": {
     "iopub.execute_input": "2025-08-27T21:43:39.401113Z",
     "iopub.status.busy": "2025-08-27T21:43:39.400776Z",
     "iopub.status.idle": "2025-08-27T21:43:39.420024Z",
     "shell.execute_reply": "2025-08-27T21:43:39.419603Z"
    }
   },
   "outputs": [
    {
     "name": "stdout",
     "output_type": "stream",
     "text": [
      "07-FEB-2006\n"
     ]
    }
   ],
   "source": [
    "value_dt = Date(7, 2, 2006)\n",
    "settle_dt = value_dt.add_weekdays(0)\n",
    "print(settle_dt)"
   ]
  },
  {
   "cell_type": "markdown",
   "metadata": {},
   "source": [
    "## Build Ibor Curve"
   ]
  },
  {
   "cell_type": "markdown",
   "metadata": {},
   "source": [
    "Build the Ibor curve to value cash flows"
   ]
  },
  {
   "cell_type": "code",
   "execution_count": 4,
   "metadata": {
    "execution": {
     "iopub.execute_input": "2025-08-27T21:43:39.421770Z",
     "iopub.status.busy": "2025-08-27T21:43:39.421563Z",
     "iopub.status.idle": "2025-08-27T21:43:39.440240Z",
     "shell.execute_reply": "2025-08-27T21:43:39.439854Z"
    }
   },
   "outputs": [],
   "source": [
    "depos = []\n",
    "dc_type = DayCountTypes.THIRTY_E_360_ISDA\n",
    "fixed_freq = FrequencyTypes.SEMI_ANNUAL\n",
    "swap_type = SwapTypes.PAY\n",
    "swap1 = IborSwap(settle_dt,\"1Y\",swap_type,0.0502,fixed_freq,dc_type)\n",
    "swap2 = IborSwap(settle_dt,\"2Y\",swap_type,0.0502,fixed_freq,dc_type)\n",
    "swap3 = IborSwap(settle_dt,\"3Y\",swap_type,0.0501,fixed_freq,dc_type)\n",
    "swap4 = IborSwap(settle_dt,\"4Y\",swap_type,0.0502,fixed_freq,dc_type)\n",
    "swap5 = IborSwap(settle_dt,\"5Y\",swap_type,0.0501,fixed_freq,dc_type)\n",
    "swaps = [swap1,swap2,swap3,swap4,swap5]\n",
    "\n",
    "libor_curve = IborSingleCurve(value_dt, depos, [], swaps)"
   ]
  },
  {
   "cell_type": "markdown",
   "metadata": {},
   "source": [
    "## Build Index Curve"
   ]
  },
  {
   "cell_type": "markdown",
   "metadata": {},
   "source": [
    "We treat an index as a CDS contract with a flat CDS curve at the CDS index spread for the same maturity"
   ]
  },
  {
   "cell_type": "code",
   "execution_count": 5,
   "metadata": {
    "execution": {
     "iopub.execute_input": "2025-08-27T21:43:39.442464Z",
     "iopub.status.busy": "2025-08-27T21:43:39.442199Z",
     "iopub.status.idle": "2025-08-27T21:43:39.444964Z",
     "shell.execute_reply": "2025-08-27T21:43:39.444554Z"
    }
   },
   "outputs": [],
   "source": [
    "step_in_dt = value_dt"
   ]
  },
  {
   "cell_type": "code",
   "execution_count": 6,
   "metadata": {
    "execution": {
     "iopub.execute_input": "2025-08-27T21:43:39.446670Z",
     "iopub.status.busy": "2025-08-27T21:43:39.446429Z",
     "iopub.status.idle": "2025-08-27T21:43:39.449833Z",
     "shell.execute_reply": "2025-08-27T21:43:39.449451Z"
    }
   },
   "outputs": [],
   "source": [
    "index_cpn = 0.0048375\n",
    "maturity_dt = Date(20, 6, 2010)\n",
    "\n",
    "cds_mkt_contracts = []\n",
    "cds = CDS(value_dt, maturity_dt, index_cpn)\n",
    "cds_mkt_contracts.append(cds)\n",
    "\n",
    "recovery_rate = 0.40\n",
    "index_curve = CDSCurve(value_dt, cds_mkt_contracts,libor_curve,recovery_rate)"
   ]
  },
  {
   "cell_type": "markdown",
   "metadata": {},
   "source": [
    "## Create CDS Index and Perform Valuation"
   ]
  },
  {
   "cell_type": "markdown",
   "metadata": {},
   "source": [
    "The CDS Index is treated as a CDS with the cpn equal to the CDS Index cpn"
   ]
  },
  {
   "cell_type": "code",
   "execution_count": 7,
   "metadata": {
    "execution": {
     "iopub.execute_input": "2025-08-27T21:43:39.451716Z",
     "iopub.status.busy": "2025-08-27T21:43:39.451510Z",
     "iopub.status.idle": "2025-08-27T21:43:39.454278Z",
     "shell.execute_reply": "2025-08-27T21:43:39.453868Z"
    }
   },
   "outputs": [],
   "source": [
    "cdsRecovery = 0.40\n",
    "notional = 10.0 * ONE_MILLION\n",
    "long_protection = True\n",
    "index_cpn = 0.004\n",
    "\n",
    "cdsIndexContract = CDS(step_in_dt, maturity_dt, index_cpn, notional, long_protection)"
   ]
  },
  {
   "cell_type": "code",
   "execution_count": 8,
   "metadata": {
    "execution": {
     "iopub.execute_input": "2025-08-27T21:43:39.455863Z",
     "iopub.status.busy": "2025-08-27T21:43:39.455641Z",
     "iopub.status.idle": "2025-08-27T21:43:39.458490Z",
     "shell.execute_reply": "2025-08-27T21:43:39.458065Z"
    }
   },
   "outputs": [
    {
     "name": "stdout",
     "output_type": "stream",
     "text": [
      "PAR SPREAD 48.374972768296715\n"
     ]
    }
   ],
   "source": [
    "spd = cdsIndexContract.par_spread(value_dt, index_curve, cdsRecovery) * 10000\n",
    "print(\"PAR SPREAD\", spd)"
   ]
  },
  {
   "cell_type": "code",
   "execution_count": 9,
   "metadata": {
    "execution": {
     "iopub.execute_input": "2025-08-27T21:43:39.460142Z",
     "iopub.status.busy": "2025-08-27T21:43:39.459944Z",
     "iopub.status.idle": "2025-08-27T21:43:39.462938Z",
     "shell.execute_reply": "2025-08-27T21:43:39.462467Z"
    }
   },
   "outputs": [
    {
     "name": "stdout",
     "output_type": "stream",
     "text": [
      "DIRTY VALUE 27194.75015949167\n",
      "CLEAN VALUE 32639.194603936106\n"
     ]
    }
   ],
   "source": [
    "v = cdsIndexContract.value(value_dt, index_curve, cdsRecovery)\n",
    "print(\"DIRTY VALUE\", v['dirty_pv'])\n",
    "print(\"CLEAN VALUE\", v['clean_pv'])"
   ]
  },
  {
   "cell_type": "code",
   "execution_count": 10,
   "metadata": {
    "execution": {
     "iopub.execute_input": "2025-08-27T21:43:39.464904Z",
     "iopub.status.busy": "2025-08-27T21:43:39.464595Z",
     "iopub.status.idle": "2025-08-27T21:43:39.467312Z",
     "shell.execute_reply": "2025-08-27T21:43:39.466903Z"
    }
   },
   "outputs": [
    {
     "name": "stdout",
     "output_type": "stream",
     "text": [
      "CLEAN PRICE 99.67360805396062\n"
     ]
    }
   ],
   "source": [
    "p = cdsIndexContract.clean_price(value_dt, index_curve, cdsRecovery)\n",
    "print(\"CLEAN PRICE\", p)"
   ]
  },
  {
   "cell_type": "code",
   "execution_count": 11,
   "metadata": {
    "execution": {
     "iopub.execute_input": "2025-08-27T21:43:39.468867Z",
     "iopub.status.busy": "2025-08-27T21:43:39.468682Z",
     "iopub.status.idle": "2025-08-27T21:43:39.471878Z",
     "shell.execute_reply": "2025-08-27T21:43:39.471446Z"
    }
   },
   "outputs": [
    {
     "name": "stdout",
     "output_type": "stream",
     "text": [
      "ACCRUED DAYS 49.0\n",
      "ACCRUED COUPON -5444.444444444444\n"
     ]
    }
   ],
   "source": [
    "accrued_days = cdsIndexContract.accrued_days()\n",
    "print(\"ACCRUED DAYS\", accrued_days)\n",
    "\n",
    "accrued_interest = cdsIndexContract.accrued_interest()\n",
    "print(\"ACCRUED COUPON\", accrued_interest)"
   ]
  },
  {
   "cell_type": "code",
   "execution_count": 12,
   "metadata": {
    "execution": {
     "iopub.execute_input": "2025-08-27T21:43:39.473757Z",
     "iopub.status.busy": "2025-08-27T21:43:39.473379Z",
     "iopub.status.idle": "2025-08-27T21:43:39.476162Z",
     "shell.execute_reply": "2025-08-27T21:43:39.475823Z"
    }
   },
   "outputs": [
    {
     "name": "stdout",
     "output_type": "stream",
     "text": [
      "PROTECTION LEG PV 188528.39213060084\n"
     ]
    }
   ],
   "source": [
    "prot_pv = cdsIndexContract.prot_leg_pv(value_dt, index_curve, cdsRecovery)\n",
    "print(\"PROTECTION LEG PV\", prot_pv)"
   ]
  },
  {
   "cell_type": "code",
   "execution_count": 13,
   "metadata": {
    "execution": {
     "iopub.execute_input": "2025-08-27T21:43:39.477762Z",
     "iopub.status.busy": "2025-08-27T21:43:39.477500Z",
     "iopub.status.idle": "2025-08-27T21:43:39.480178Z",
     "shell.execute_reply": "2025-08-27T21:43:39.479822Z"
    }
   },
   "outputs": [
    {
     "name": "stdout",
     "output_type": "stream",
     "text": [
      "PREMIUM LEG PV 161333.64197110917\n"
     ]
    }
   ],
   "source": [
    "premPV = cdsIndexContract.premium_leg_pv(value_dt, index_curve, cdsRecovery)\n",
    "print(\"PREMIUM LEG PV\", premPV)"
   ]
  },
  {
   "cell_type": "code",
   "execution_count": 14,
   "metadata": {
    "execution": {
     "iopub.execute_input": "2025-08-27T21:43:39.482183Z",
     "iopub.status.busy": "2025-08-27T21:43:39.481986Z",
     "iopub.status.idle": "2025-08-27T21:43:39.484923Z",
     "shell.execute_reply": "2025-08-27T21:43:39.484490Z"
    }
   },
   "outputs": [
    {
     "name": "stdout",
     "output_type": "stream",
     "text": [
      "DIRTY RPV01 4.0333410492777295\n",
      "CLEAN RPV01 3.8972299381666184\n"
     ]
    }
   ],
   "source": [
    "rpv01 = cdsIndexContract.risky_pv01(value_dt, index_curve)\n",
    "print(\"DIRTY RPV01\", rpv01['dirty_rpv01'])\n",
    "print(\"CLEAN RPV01\", rpv01['clean_rpv01'])"
   ]
  },
  {
   "cell_type": "markdown",
   "metadata": {},
   "source": [
    "Copyright (c) 2020 Dominic O'Kane"
   ]
  }
 ],
 "metadata": {
  "kernelspec": {
   "display_name": "base",
   "language": "python",
   "name": "python3"
  },
  "language_info": {
   "codemirror_mode": {
    "name": "ipython",
    "version": 3
   },
   "file_extension": ".py",
   "mimetype": "text/x-python",
   "name": "python",
   "nbconvert_exporter": "python",
   "pygments_lexer": "ipython3",
   "version": "3.13.5"
  }
 },
 "nbformat": 4,
 "nbformat_minor": 2
}
