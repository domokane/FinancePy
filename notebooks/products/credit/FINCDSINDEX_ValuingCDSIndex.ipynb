{
    "cells": [
        {
            "cell_type": "markdown",
            "metadata": {},
            "source": [
                "# Creating and Valuing a CDS Index"
            ]
        },
        {
            "cell_type": "markdown",
            "metadata": {},
            "source": [
                "Example CDS Index Valuation"
            ]
        },
        {
            "cell_type": "code",
            "execution_count": 1,
            "metadata": {
                "execution": {
                    "iopub.execute_input": "2024-04-30T20:01:11.432510Z",
                    "iopub.status.busy": "2024-04-30T20:01:11.432510Z",
                    "iopub.status.idle": "2024-04-30T20:01:11.966256Z",
                    "shell.execute_reply": "2024-04-30T20:01:11.966256Z"
                }
            },
            "outputs": [],
            "source": [
                "import numpy as np\n",
                "import matplotlib.pyplot as plt"
            ]
        },
        {
            "cell_type": "code",
            "execution_count": 2,
            "metadata": {
                "execution": {
                    "iopub.execute_input": "2024-04-30T20:01:11.968765Z",
                    "iopub.status.busy": "2024-04-30T20:01:11.968765Z",
                    "iopub.status.idle": "2024-04-30T20:01:14.319334Z",
                    "shell.execute_reply": "2024-04-30T20:01:14.319334Z"
                }
            },
            "outputs": [
                {
                    "name": "stdout",
                    "output_type": "stream",
                    "text": [
                        "####################################################################\n",
                        "#  FINANCEPY BETA Version 0.350 - This build: 30 Apr 2024 at 21:20 #\n",
                        "#     This software is distributed FREE AND WITHOUT ANY WARRANTY   #\n",
                        "#  Report bugs as issues at https://github.com/domokane/FinancePy  #\n",
                        "####################################################################\n",
                        "\n"
                    ]
                }
            ],
            "source": [
                "from financepy.utils import *\n",
                "from financepy.products.rates import *\n",
                "from financepy.products.credit import *"
            ]
        },
        {
            "cell_type": "code",
            "execution_count": 3,
            "metadata": {
                "execution": {
                    "iopub.execute_input": "2024-04-30T20:01:14.322951Z",
                    "iopub.status.busy": "2024-04-30T20:01:14.321367Z",
                    "iopub.status.idle": "2024-04-30T20:01:14.344403Z",
                    "shell.execute_reply": "2024-04-30T20:01:14.344403Z"
                }
            },
            "outputs": [
                {
                    "name": "stdout",
                    "output_type": "stream",
                    "text": [
                        "07-FEB-2006\n"
                    ]
                }
            ],
            "source": [
                "value_dt = Date(7, 2, 2006)\n",
                "settle_dt = value_dt.add_weekdays(0)\n",
                "print(settle_dt)"
            ]
        },
        {
            "cell_type": "markdown",
            "metadata": {},
            "source": [
                "## Build Ibor Curve"
            ]
        },
        {
            "cell_type": "markdown",
            "metadata": {},
            "source": [
                "Build the Ibor curve to value cash flows"
            ]
        },
        {
            "cell_type": "code",
            "execution_count": 4,
            "metadata": {
                "execution": {
                    "iopub.execute_input": "2024-04-30T20:01:14.347431Z",
                    "iopub.status.busy": "2024-04-30T20:01:14.347431Z",
                    "iopub.status.idle": "2024-04-30T20:01:14.371858Z",
                    "shell.execute_reply": "2024-04-30T20:01:14.371858Z"
                }
            },
            "outputs": [],
            "source": [
                "depos = []\n",
                "dc_type = DayCountTypes.THIRTY_E_360_ISDA\n",
                "fixed_freq = FrequencyTypes.SEMI_ANNUAL\n",
                "swap_type = SwapTypes.PAY\n",
                "swap1 = IborSwap(settle_dt,\"1Y\",swap_type,0.0502,fixed_freq,dc_type)\n",
                "swap2 = IborSwap(settle_dt,\"2Y\",swap_type,0.0502,fixed_freq,dc_type)\n",
                "swap3 = IborSwap(settle_dt,\"3Y\",swap_type,0.0501,fixed_freq,dc_type)\n",
                "swap4 = IborSwap(settle_dt,\"4Y\",swap_type,0.0502,fixed_freq,dc_type)\n",
                "swap5 = IborSwap(settle_dt,\"5Y\",swap_type,0.0501,fixed_freq,dc_type)\n",
                "swaps = [swap1,swap2,swap3,swap4,swap5]\n",
                "\n",
                "libor_curve = IborSingleCurve(value_dt, depos, [], swaps)"
            ]
        },
        {
            "cell_type": "markdown",
            "metadata": {},
            "source": [
                "## Build Index Curve"
            ]
        },
        {
            "cell_type": "markdown",
            "metadata": {},
            "source": [
                "We treat an index as a CDS contract with a flat CDS curve at the CDS index spread for the same maturity"
            ]
        },
        {
            "cell_type": "code",
            "execution_count": 5,
            "metadata": {
                "execution": {
                    "iopub.execute_input": "2024-04-30T20:01:14.375434Z",
                    "iopub.status.busy": "2024-04-30T20:01:14.375434Z",
                    "iopub.status.idle": "2024-04-30T20:01:14.377975Z",
                    "shell.execute_reply": "2024-04-30T20:01:14.377975Z"
                }
            },
            "outputs": [],
            "source": [
                "step_in_dt = value_dt"
            ]
        },
        {
            "cell_type": "code",
            "execution_count": 6,
            "metadata": {
                "execution": {
                    "iopub.execute_input": "2024-04-30T20:01:14.380973Z",
                    "iopub.status.busy": "2024-04-30T20:01:14.380973Z",
                    "iopub.status.idle": "2024-04-30T20:01:14.385810Z",
                    "shell.execute_reply": "2024-04-30T20:01:14.385810Z"
                }
            },
            "outputs": [],
            "source": [
                "index_cpn = 0.0048375\n",
                "maturity_dt = Date(20, 6, 2010)\n",
                "\n",
                "cds_mkt_contracts = []\n",
                "cds = CDS(value_dt, maturity_dt, index_cpn)\n",
                "cds_mkt_contracts.append(cds)\n",
                "\n",
                "recovery_rate = 0.40\n",
                "index_curve = CDSCurve(value_dt, cds_mkt_contracts,libor_curve,recovery_rate)"
            ]
        },
        {
            "cell_type": "markdown",
            "metadata": {},
            "source": [
                "## Create CDS Index and Perform Valuation"
            ]
        },
        {
            "cell_type": "markdown",
            "metadata": {},
            "source": [
                "The CDS Index is treated as a CDS with the cpn equal to the CDS Index cpn"
            ]
        },
        {
            "cell_type": "code",
            "execution_count": 7,
            "metadata": {
                "execution": {
                    "iopub.execute_input": "2024-04-30T20:01:14.388810Z",
                    "iopub.status.busy": "2024-04-30T20:01:14.388810Z",
                    "iopub.status.idle": "2024-04-30T20:01:14.392268Z",
                    "shell.execute_reply": "2024-04-30T20:01:14.392268Z"
                }
            },
            "outputs": [],
            "source": [
                "cdsRecovery = 0.40\n",
                "notional = 10.0 * ONE_MILLION\n",
                "long_protection = True\n",
                "index_cpn = 0.004 \n",
                "\n",
                "cdsIndexContract = CDS(step_in_dt, maturity_dt, index_cpn, notional, long_protection)"
            ]
        },
        {
            "cell_type": "code",
            "execution_count": 8,
            "metadata": {
                "execution": {
                    "iopub.execute_input": "2024-04-30T20:01:14.394928Z",
                    "iopub.status.busy": "2024-04-30T20:01:14.394928Z",
                    "iopub.status.idle": "2024-04-30T20:01:14.398354Z",
                    "shell.execute_reply": "2024-04-30T20:01:14.398354Z"
                }
            },
            "outputs": [
                {
                    "name": "stdout",
                    "output_type": "stream",
                    "text": [
                        "PAR SPREAD 48.374972768296715\n"
                    ]
                }
            ],
            "source": [
                "spd = cdsIndexContract.par_spread(value_dt, index_curve, cdsRecovery) * 10000\n",
                "print(\"PAR SPREAD\", spd)"
            ]
        },
        {
            "cell_type": "code",
            "execution_count": 9,
            "metadata": {
                "execution": {
                    "iopub.execute_input": "2024-04-30T20:01:14.401381Z",
                    "iopub.status.busy": "2024-04-30T20:01:14.400354Z",
                    "iopub.status.idle": "2024-04-30T20:01:14.406254Z",
                    "shell.execute_reply": "2024-04-30T20:01:14.405253Z"
                }
            },
            "outputs": [
                {
                    "name": "stdout",
                    "output_type": "stream",
                    "text": [
                        "DIRTY VALUE 27194.75015949167\n",
                        "CLEAN VALUE 32639.194603936106\n"
                    ]
                }
            ],
            "source": [
                "v = cdsIndexContract.value(value_dt, index_curve, cdsRecovery)\n",
                "print(\"DIRTY VALUE\", v['dirty_pv'])\n",
                "print(\"CLEAN VALUE\", v['clean_pv'])"
            ]
        },
        {
            "cell_type": "code",
            "execution_count": 10,
            "metadata": {
                "execution": {
                    "iopub.execute_input": "2024-04-30T20:01:14.409247Z",
                    "iopub.status.busy": "2024-04-30T20:01:14.408269Z",
                    "iopub.status.idle": "2024-04-30T20:01:14.412326Z",
                    "shell.execute_reply": "2024-04-30T20:01:14.412326Z"
                }
            },
            "outputs": [
                {
                    "name": "stdout",
                    "output_type": "stream",
                    "text": [
                        "CLEAN PRICE 99.67360805396062\n"
                    ]
                }
            ],
            "source": [
                "p = cdsIndexContract.clean_price(value_dt, index_curve, cdsRecovery)\n",
                "print(\"CLEAN PRICE\", p)"
            ]
        },
        {
            "cell_type": "code",
            "execution_count": 11,
            "metadata": {
                "execution": {
                    "iopub.execute_input": "2024-04-30T20:01:14.415862Z",
                    "iopub.status.busy": "2024-04-30T20:01:14.415862Z",
                    "iopub.status.idle": "2024-04-30T20:01:14.419241Z",
                    "shell.execute_reply": "2024-04-30T20:01:14.419241Z"
                }
            },
            "outputs": [
                {
                    "name": "stdout",
                    "output_type": "stream",
                    "text": [
                        "ACCRUED DAYS 49.0\n",
                        "ACCRUED COUPON -5444.444444444444\n"
                    ]
                }
            ],
            "source": [
                "accrued_days = cdsIndexContract.accrued_days()\n",
                "print(\"ACCRUED DAYS\", accrued_days)\n",
                "\n",
                "accrued_interest = cdsIndexContract.accrued_interest()\n",
                "print(\"ACCRUED COUPON\", accrued_interest)"
            ]
        },
        {
            "cell_type": "code",
            "execution_count": 12,
            "metadata": {
                "execution": {
                    "iopub.execute_input": "2024-04-30T20:01:14.422270Z",
                    "iopub.status.busy": "2024-04-30T20:01:14.422270Z",
                    "iopub.status.idle": "2024-04-30T20:01:14.427586Z",
                    "shell.execute_reply": "2024-04-30T20:01:14.426539Z"
                }
            },
            "outputs": [
                {
                    "name": "stdout",
                    "output_type": "stream",
                    "text": [
                        "PROTECTION LEG PV 188528.39213060084\n"
                    ]
                }
            ],
            "source": [
                "prot_pv = cdsIndexContract.prot_leg_pv(value_dt, index_curve, cdsRecovery)\n",
                "print(\"PROTECTION LEG PV\", prot_pv)"
            ]
        },
        {
            "cell_type": "code",
            "execution_count": 13,
            "metadata": {
                "execution": {
                    "iopub.execute_input": "2024-04-30T20:01:14.430609Z",
                    "iopub.status.busy": "2024-04-30T20:01:14.430609Z",
                    "iopub.status.idle": "2024-04-30T20:01:14.434632Z",
                    "shell.execute_reply": "2024-04-30T20:01:14.434632Z"
                }
            },
            "outputs": [
                {
                    "name": "stdout",
                    "output_type": "stream",
                    "text": [
                        "PREMIUM LEG PV 161333.64197110917\n"
                    ]
                }
            ],
            "source": [
                "premPV = cdsIndexContract.premium_leg_pv(value_dt, index_curve, cdsRecovery)\n",
                "print(\"PREMIUM LEG PV\", premPV)"
            ]
        },
        {
            "cell_type": "code",
            "execution_count": 14,
            "metadata": {
                "execution": {
                    "iopub.execute_input": "2024-04-30T20:01:14.437291Z",
                    "iopub.status.busy": "2024-04-30T20:01:14.437291Z",
                    "iopub.status.idle": "2024-04-30T20:01:14.441134Z",
                    "shell.execute_reply": "2024-04-30T20:01:14.441134Z"
                }
            },
            "outputs": [
                {
                    "name": "stdout",
                    "output_type": "stream",
                    "text": [
                        "DIRTY RPV01 4.0333410492777295\n",
                        "CLEAN RPV01 3.8972299381666184\n"
                    ]
                }
            ],
            "source": [
                "rpv01 = cdsIndexContract.risky_pv01(value_dt, index_curve)\n",
                "print(\"DIRTY RPV01\", rpv01['dirty_rpv01'])\n",
                "print(\"CLEAN RPV01\", rpv01['clean_rpv01'])"
            ]
        },
        {
            "cell_type": "markdown",
            "metadata": {},
            "source": [
                "Copyright (c) 2020 Dominic O'Kane"
            ]
        }
    ],
    "metadata": {
        "kernelspec": {
            "display_name": "Python 3",
            "language": "python",
            "name": "python3"
        },
        "language_info": {
            "codemirror_mode": {
                "name": "ipython",
                "version": 3
            },
            "file_extension": ".py",
            "mimetype": "text/x-python",
            "name": "python",
            "nbconvert_exporter": "python",
            "pygments_lexer": "ipython3",
            "version": "3.11.5"
        }
    },
    "nbformat": 4,
    "nbformat_minor": 2
}