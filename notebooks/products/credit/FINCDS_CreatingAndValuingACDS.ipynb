{
    "cells": [
        {
            "cell_type": "markdown",
            "metadata": {},
            "source": [
                "# Creating and Valuing a CDS Contract"
            ]
        },
        {
            "cell_type": "markdown",
            "metadata": {},
            "source": [
                "Creates a CDS contract and does a valuation and calculates risk measures"
            ]
        },
        {
            "cell_type": "code",
            "execution_count": 1,
            "metadata": {
                "execution": {
                    "iopub.execute_input": "2024-04-30T20:01:41.737048Z",
                    "iopub.status.busy": "2024-04-30T20:01:41.737048Z",
                    "iopub.status.idle": "2024-04-30T20:01:42.489325Z",
                    "shell.execute_reply": "2024-04-30T20:01:42.488738Z"
                }
            },
            "outputs": [],
            "source": [
                "import numpy as np\n",
                "import matplotlib.pyplot as plt"
            ]
        },
        {
            "cell_type": "code",
            "execution_count": 2,
            "metadata": {
                "execution": {
                    "iopub.execute_input": "2024-04-30T20:01:42.491323Z",
                    "iopub.status.busy": "2024-04-30T20:01:42.491323Z",
                    "iopub.status.idle": "2024-04-30T20:01:44.773970Z",
                    "shell.execute_reply": "2024-04-30T20:01:44.773970Z"
                }
            },
            "outputs": [
                {
                    "name": "stdout",
                    "output_type": "stream",
                    "text": [
                        "####################################################################\n",
                        "#  FINANCEPY BETA Version 0.350 - This build: 30 Apr 2024 at 21:20 #\n",
                        "#     This software is distributed FREE AND WITHOUT ANY WARRANTY   #\n",
                        "#  Report bugs as issues at https://github.com/domokane/FinancePy  #\n",
                        "####################################################################\n",
                        "\n"
                    ]
                }
            ],
            "source": [
                "from financepy.utils import *\n",
                "from financepy.products.rates import *\n",
                "from financepy.products.credit import *"
            ]
        },
        {
            "cell_type": "markdown",
            "metadata": {},
            "source": [
                "## Creating a CDS Contract"
            ]
        },
        {
            "cell_type": "code",
            "execution_count": 3,
            "metadata": {
                "execution": {
                    "iopub.execute_input": "2024-04-30T20:01:44.776997Z",
                    "iopub.status.busy": "2024-04-30T20:01:44.776000Z",
                    "iopub.status.idle": "2024-04-30T20:01:44.796899Z",
                    "shell.execute_reply": "2024-04-30T20:01:44.796899Z"
                }
            },
            "outputs": [],
            "source": [
                "value_dt = Date(9, 8, 2019)\n",
                "effective_dt = value_dt\n",
                "maturity_dt = Date(20, 6, 2029)\n",
                "cdsCoupon = 0.0150\n",
                "notional = ONE_MILLION\n",
                "long_protection = False\n",
                "trade_dt = Date(9, 8, 2019)"
            ]
        },
        {
            "cell_type": "code",
            "execution_count": 4,
            "metadata": {
                "execution": {
                    "iopub.execute_input": "2024-04-30T20:01:44.799493Z",
                    "iopub.status.busy": "2024-04-30T20:01:44.799493Z",
                    "iopub.status.idle": "2024-04-30T20:01:44.808534Z",
                    "shell.execute_reply": "2024-04-30T20:01:44.808010Z"
                }
            },
            "outputs": [],
            "source": [
                "cds_contract = CDS(effective_dt, maturity_dt, cdsCoupon, notional, long_protection)"
            ]
        },
        {
            "cell_type": "markdown",
            "metadata": {},
            "source": [
                "## Build Ibor Curve"
            ]
        },
        {
            "cell_type": "code",
            "execution_count": 5,
            "metadata": {
                "execution": {
                    "iopub.execute_input": "2024-04-30T20:01:44.810638Z",
                    "iopub.status.busy": "2024-04-30T20:01:44.810638Z",
                    "iopub.status.idle": "2024-04-30T20:01:44.813069Z",
                    "shell.execute_reply": "2024-04-30T20:01:44.813069Z"
                }
            },
            "outputs": [],
            "source": [
                "settle_dt = effective_dt"
            ]
        },
        {
            "cell_type": "code",
            "execution_count": 6,
            "metadata": {
                "execution": {
                    "iopub.execute_input": "2024-04-30T20:01:44.815069Z",
                    "iopub.status.busy": "2024-04-30T20:01:44.815069Z",
                    "iopub.status.idle": "2024-04-30T20:01:44.870464Z",
                    "shell.execute_reply": "2024-04-30T20:01:44.870464Z"
                }
            },
            "outputs": [],
            "source": [
                "dc_type = DayCountTypes.ACT_360\n",
                "depo1 = IborDeposit(settle_dt, \"1M\", 0.022009, dc_type)\n",
                "depo2 = IborDeposit(settle_dt, \"2M\", 0.022138, dc_type)\n",
                "depo3 = IborDeposit(settle_dt, \"3M\", 0.021810, dc_type)\n",
                "depo4 = IborDeposit(settle_dt, \"6M\", 0.020503, dc_type)\n",
                "depo5 = IborDeposit(settle_dt, \"12M\", 0.019930, dc_type)\n",
                "depos = [depo1,depo2,depo3,depo4,depo5]\n",
                "\n",
                "dc_type = DayCountTypes.THIRTY_E_360_ISDA\n",
                "fixed_freq = FrequencyTypes.SEMI_ANNUAL\n",
                "swap_type = SwapTypes.PAY\n",
                "\n",
                "swap1 = IborSwap(settle_dt,\"2Y\",swap_type,0.015910,fixed_freq,dc_type)\n",
                "swap2 = IborSwap(settle_dt,\"3Y\",swap_type,0.014990,fixed_freq,dc_type)\n",
                "swap3 = IborSwap(settle_dt,\"4Y\",swap_type,0.014725,fixed_freq,dc_type)\n",
                "swap4 = IborSwap(settle_dt,\"5Y\",swap_type,0.014640,fixed_freq,dc_type)\n",
                "swap5 = IborSwap(settle_dt,\"6Y\",swap_type,0.014800,fixed_freq,dc_type)\n",
                "swap6 = IborSwap(settle_dt,\"7Y\",swap_type,0.014995,fixed_freq,dc_type)\n",
                "swap7 = IborSwap(settle_dt,\"8Y\",swap_type,0.015180,fixed_freq,dc_type)\n",
                "swap8 = IborSwap(settle_dt,\"9Y\",swap_type,0.015610,fixed_freq,dc_type)\n",
                "swap9 = IborSwap(settle_dt,\"10Y\",swap_type,0.0159880,fixed_freq,dc_type)\n",
                "swap10 = IborSwap(settle_dt,\"12Y\",swap_type,0.016430,fixed_freq,dc_type)\n",
                "swaps = [swap1,swap2,swap3,swap4,swap5,swap6,swap7,swap8,swap9,swap10]\n",
                "\n",
                "libor_curve = IborSingleCurve(value_dt, depos, [], swaps)"
            ]
        },
        {
            "cell_type": "markdown",
            "metadata": {},
            "source": [
                "# Build a CDS Curve"
            ]
        },
        {
            "cell_type": "code",
            "execution_count": 7,
            "metadata": {
                "execution": {
                    "iopub.execute_input": "2024-04-30T20:01:44.873820Z",
                    "iopub.status.busy": "2024-04-30T20:01:44.872852Z",
                    "iopub.status.idle": "2024-04-30T20:01:44.880804Z",
                    "shell.execute_reply": "2024-04-30T20:01:44.880804Z"
                }
            },
            "outputs": [],
            "source": [
                "cds1 = CDS(settle_dt, \"1Y\", 0.0200)\n",
                "cds2 = CDS(settle_dt, \"2Y\", 0.0220)\n",
                "cds3 = CDS(settle_dt, \"3Y\", 0.0250)\n",
                "cds4 = CDS(settle_dt, \"4Y\", 0.0275)\n",
                "cds5 = CDS(settle_dt, \"5Y\", 0.0290)\n",
                "cds6 = CDS(settle_dt, \"7Y\", 0.0300)\n",
                "cds7 = CDS(settle_dt, \"10Y\", 0.0310)\n",
                "cds8 = CDS(settle_dt, \"15Y\", 0.0315)"
            ]
        },
        {
            "cell_type": "code",
            "execution_count": 8,
            "metadata": {
                "execution": {
                    "iopub.execute_input": "2024-04-30T20:01:44.883148Z",
                    "iopub.status.busy": "2024-04-30T20:01:44.883148Z",
                    "iopub.status.idle": "2024-04-30T20:01:44.886030Z",
                    "shell.execute_reply": "2024-04-30T20:01:44.886030Z"
                }
            },
            "outputs": [],
            "source": [
                "cdss = [cds1, cds2, cds3, cds4, cds5, cds6, cds7, cds8]"
            ]
        },
        {
            "cell_type": "code",
            "execution_count": 9,
            "metadata": {
                "execution": {
                    "iopub.execute_input": "2024-04-30T20:01:44.889029Z",
                    "iopub.status.busy": "2024-04-30T20:01:44.888060Z",
                    "iopub.status.idle": "2024-04-30T20:01:44.891594Z",
                    "shell.execute_reply": "2024-04-30T20:01:44.891594Z"
                }
            },
            "outputs": [],
            "source": [
                "recovery_rate = 0.40"
            ]
        },
        {
            "cell_type": "code",
            "execution_count": 10,
            "metadata": {
                "execution": {
                    "iopub.execute_input": "2024-04-30T20:01:44.893626Z",
                    "iopub.status.busy": "2024-04-30T20:01:44.893626Z",
                    "iopub.status.idle": "2024-04-30T20:01:44.900083Z",
                    "shell.execute_reply": "2024-04-30T20:01:44.900083Z"
                }
            },
            "outputs": [],
            "source": [
                "issuer_curve = CDSCurve(value_dt, cdss, libor_curve, recovery_rate)"
            ]
        },
        {
            "cell_type": "code",
            "execution_count": 11,
            "metadata": {
                "execution": {
                    "iopub.execute_input": "2024-04-30T20:01:44.902674Z",
                    "iopub.status.busy": "2024-04-30T20:01:44.901637Z",
                    "iopub.status.idle": "2024-04-30T20:01:44.905682Z",
                    "shell.execute_reply": "2024-04-30T20:01:44.905682Z"
                }
            },
            "outputs": [
                {
                    "name": "stdout",
                    "output_type": "stream",
                    "text": [
                        "OBJECT TYPE: CDSCurve\n",
                        "TIME,SURVIVAL_PROBABILITY\n",
                        " 0.0000000,  1.0000000\n",
                        " 1.1178082,  0.9630225\n",
                        " 2.1178082,  0.9242448\n",
                        " 3.1178082,  0.8757579\n",
                        " 4.1178082,  0.8236065\n",
                        " 5.1205479,  0.7744884\n",
                        " 7.1205479,  0.6922011\n",
                        "10.1232877,  0.5814139\n",
                        "15.1260274,  0.4390083\n"
                    ]
                }
            ],
            "source": [
                "print(issuer_curve)"
            ]
        },
        {
            "cell_type": "markdown",
            "metadata": {},
            "source": [
                "# Valuation"
            ]
        },
        {
            "cell_type": "code",
            "execution_count": 12,
            "metadata": {
                "execution": {
                    "iopub.execute_input": "2024-04-30T20:01:44.907711Z",
                    "iopub.status.busy": "2024-04-30T20:01:44.907711Z",
                    "iopub.status.idle": "2024-04-30T20:01:44.911034Z",
                    "shell.execute_reply": "2024-04-30T20:01:44.911034Z"
                }
            },
            "outputs": [
                {
                    "name": "stdout",
                    "output_type": "stream",
                    "text": [
                        "FAIR CDS SPREAD  309.40594 bp\n"
                    ]
                }
            ],
            "source": [
                "spd = cds_contract.par_spread(settle_dt, issuer_curve, recovery_rate) * 10000.0\n",
                "print(\"FAIR CDS SPREAD %10.5f bp\"% spd)"
            ]
        },
        {
            "cell_type": "code",
            "execution_count": 13,
            "metadata": {
                "execution": {
                    "iopub.execute_input": "2024-04-30T20:01:44.913636Z",
                    "iopub.status.busy": "2024-04-30T20:01:44.912596Z",
                    "iopub.status.idle": "2024-04-30T20:01:44.916285Z",
                    "shell.execute_reply": "2024-04-30T20:01:44.916056Z"
                }
            },
            "outputs": [],
            "source": [
                "v = cds_contract.value(settle_dt, issuer_curve, recovery_rate)"
            ]
        },
        {
            "cell_type": "code",
            "execution_count": 14,
            "metadata": {
                "execution": {
                    "iopub.execute_input": "2024-04-30T20:01:44.917791Z",
                    "iopub.status.busy": "2024-04-30T20:01:44.917791Z",
                    "iopub.status.idle": "2024-04-30T20:01:44.920976Z",
                    "shell.execute_reply": "2024-04-30T20:01:44.920976Z"
                }
            },
            "outputs": [],
            "source": [
                "dirty_pv = v['dirty_pv'] \n",
                "clean_pv = v['clean_pv']"
            ]
        },
        {
            "cell_type": "code",
            "execution_count": 15,
            "metadata": {
                "execution": {
                    "iopub.execute_input": "2024-04-30T20:01:44.923635Z",
                    "iopub.status.busy": "2024-04-30T20:01:44.923635Z",
                    "iopub.status.idle": "2024-04-30T20:01:44.926693Z",
                    "shell.execute_reply": "2024-04-30T20:01:44.926693Z"
                }
            },
            "outputs": [
                {
                    "name": "stdout",
                    "output_type": "stream",
                    "text": [
                        "DIRTY VALUE   -115756.79\n",
                        "CLEAN VALUE   -117840.12\n"
                    ]
                }
            ],
            "source": [
                "print(\"DIRTY VALUE %12.2f\"% dirty_pv)\n",
                "print(\"CLEAN VALUE %12.2f\"% clean_pv)"
            ]
        },
        {
            "cell_type": "code",
            "execution_count": 16,
            "metadata": {
                "execution": {
                    "iopub.execute_input": "2024-04-30T20:01:44.928722Z",
                    "iopub.status.busy": "2024-04-30T20:01:44.928722Z",
                    "iopub.status.idle": "2024-04-30T20:01:44.932814Z",
                    "shell.execute_reply": "2024-04-30T20:01:44.932164Z"
                }
            },
            "outputs": [
                {
                    "name": "stdout",
                    "output_type": "stream",
                    "text": [
                        "CLEAN PRICE    88.215988\n"
                    ]
                }
            ],
            "source": [
                "cleanp = cds_contract.clean_price(settle_dt, issuer_curve, recovery_rate)\n",
                "print(\"CLEAN PRICE %12.6f\"% cleanp)"
            ]
        },
        {
            "cell_type": "code",
            "execution_count": 17,
            "metadata": {
                "execution": {
                    "iopub.execute_input": "2024-04-30T20:01:44.934812Z",
                    "iopub.status.busy": "2024-04-30T20:01:44.934812Z",
                    "iopub.status.idle": "2024-04-30T20:01:44.937552Z",
                    "shell.execute_reply": "2024-04-30T20:01:44.937552Z"
                }
            },
            "outputs": [
                {
                    "name": "stdout",
                    "output_type": "stream",
                    "text": [
                        "ACCRUED_DAYS 50.0\n"
                    ]
                }
            ],
            "source": [
                "accrued_days = cds_contract.accrued_days()\n",
                "print(\"ACCRUED_DAYS\", accrued_days)"
            ]
        },
        {
            "cell_type": "code",
            "execution_count": 18,
            "metadata": {
                "execution": {
                    "iopub.execute_input": "2024-04-30T20:01:44.939583Z",
                    "iopub.status.busy": "2024-04-30T20:01:44.939583Z",
                    "iopub.status.idle": "2024-04-30T20:01:44.943322Z",
                    "shell.execute_reply": "2024-04-30T20:01:44.943090Z"
                }
            },
            "outputs": [
                {
                    "name": "stdout",
                    "output_type": "stream",
                    "text": [
                        "ACCRUED_COUPON 2083.3333333333335\n"
                    ]
                }
            ],
            "source": [
                "accrued_interest = cds_contract.accrued_interest()\n",
                "print(\"ACCRUED_COUPON\", accrued_interest)"
            ]
        },
        {
            "cell_type": "code",
            "execution_count": 19,
            "metadata": {
                "execution": {
                    "iopub.execute_input": "2024-04-30T20:01:44.945321Z",
                    "iopub.status.busy": "2024-04-30T20:01:44.945321Z",
                    "iopub.status.idle": "2024-04-30T20:01:44.948581Z",
                    "shell.execute_reply": "2024-04-30T20:01:44.948581Z"
                }
            },
            "outputs": [
                {
                    "name": "stdout",
                    "output_type": "stream",
                    "text": [
                        "prot_PV 228726.9467424124\n"
                    ]
                }
            ],
            "source": [
                "prot_pv = cds_contract.prot_leg_pv(settle_dt, issuer_curve, recovery_rate)\n",
                "print(\"prot_PV\", prot_pv)"
            ]
        },
        {
            "cell_type": "code",
            "execution_count": 20,
            "metadata": {
                "execution": {
                    "iopub.execute_input": "2024-04-30T20:01:44.950611Z",
                    "iopub.status.busy": "2024-04-30T20:01:44.950611Z",
                    "iopub.status.idle": "2024-04-30T20:01:44.954292Z",
                    "shell.execute_reply": "2024-04-30T20:01:44.954292Z"
                }
            },
            "outputs": [
                {
                    "name": "stdout",
                    "output_type": "stream",
                    "text": [
                        "PREMIUM_PV 112970.15765938828\n"
                    ]
                }
            ],
            "source": [
                "premPV = cds_contract.premium_leg_pv(settle_dt, issuer_curve, recovery_rate)\n",
                "print(\"PREMIUM_PV\", premPV)"
            ]
        },
        {
            "cell_type": "code",
            "execution_count": 21,
            "metadata": {
                "execution": {
                    "iopub.execute_input": "2024-04-30T20:01:44.956292Z",
                    "iopub.status.busy": "2024-04-30T20:01:44.956292Z",
                    "iopub.status.idle": "2024-04-30T20:01:44.960117Z",
                    "shell.execute_reply": "2024-04-30T20:01:44.960117Z"
                }
            },
            "outputs": [
                {
                    "name": "stdout",
                    "output_type": "stream",
                    "text": [
                        "DIRTY_RPV01 7.531343843959219\n",
                        "CLEAN_RPV01 7.392454955070329\n"
                    ]
                }
            ],
            "source": [
                "rpv01 = cds_contract.risky_pv01(settle_dt, issuer_curve)\n",
                "print(\"DIRTY_RPV01\", rpv01['dirty_rpv01'])\n",
                "print(\"CLEAN_RPV01\", rpv01['clean_rpv01'])"
            ]
        },
        {
            "cell_type": "code",
            "execution_count": 22,
            "metadata": {
                "execution": {
                    "iopub.execute_input": "2024-04-30T20:01:44.962145Z",
                    "iopub.status.busy": "2024-04-30T20:01:44.962145Z",
                    "iopub.status.idle": "2024-04-30T20:01:44.968207Z",
                    "shell.execute_reply": "2024-04-30T20:01:44.968207Z"
                }
            },
            "outputs": [
                {
                    "data": {
                        "text/plain": [
                            "{'dirty_rpv01': 7.531343843959219, 'clean_rpv01': 7.392454955070329}"
                        ]
                    },
                    "execution_count": 22,
                    "metadata": {},
                    "output_type": "execute_result"
                }
            ],
            "source": [
                "cds_contract.risky_pv01(settle_dt, issuer_curve)"
            ]
        },
        {
            "cell_type": "markdown",
            "metadata": {},
            "source": [
                "## Risk Measures"
            ]
        },
        {
            "cell_type": "code",
            "execution_count": 23,
            "metadata": {
                "execution": {
                    "iopub.execute_input": "2024-04-30T20:01:44.971234Z",
                    "iopub.status.busy": "2024-04-30T20:01:44.970238Z",
                    "iopub.status.idle": "2024-04-30T20:01:44.990331Z",
                    "shell.execute_reply": "2024-04-30T20:01:44.990041Z"
                }
            },
            "outputs": [],
            "source": [
                "credit_dv01 = cds_contract.credit_dv01(settle_dt, issuer_curve, recovery_rate)"
            ]
        },
        {
            "cell_type": "code",
            "execution_count": 24,
            "metadata": {
                "execution": {
                    "iopub.execute_input": "2024-04-30T20:01:44.992358Z",
                    "iopub.status.busy": "2024-04-30T20:01:44.992358Z",
                    "iopub.status.idle": "2024-04-30T20:01:44.996320Z",
                    "shell.execute_reply": "2024-04-30T20:01:44.996320Z"
                }
            },
            "outputs": [
                {
                    "data": {
                        "text/plain": [
                            "-650.5636208889919"
                        ]
                    },
                    "execution_count": 24,
                    "metadata": {},
                    "output_type": "execute_result"
                }
            ],
            "source": [
                "credit_dv01"
            ]
        },
        {
            "cell_type": "markdown",
            "metadata": {},
            "source": [
                "Copyright (c) 2020 Dominic O'Kane"
            ]
        }
    ],
    "metadata": {
        "kernelspec": {
            "display_name": "Python 3",
            "language": "python",
            "name": "python3"
        },
        "language_info": {
            "codemirror_mode": {
                "name": "ipython",
                "version": 3
            },
            "file_extension": ".py",
            "mimetype": "text/x-python",
            "name": "python",
            "nbconvert_exporter": "python",
            "pygments_lexer": "ipython3",
            "version": "3.11.5"
        }
    },
    "nbformat": 4,
    "nbformat_minor": 2
}