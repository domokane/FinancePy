{
 "cells": [
  {
   "cell_type": "markdown",
   "metadata": {},
   "source": [
    "# Creating and Valuing a CDS Contract"
   ]
  },
  {
   "cell_type": "markdown",
   "metadata": {},
   "source": [
    "Creates a CDS contract and does a valuation and calculates risk measures"
   ]
  },
  {
   "cell_type": "code",
   "execution_count": 1,
   "metadata": {
    "execution": {
     "iopub.execute_input": "2025-09-14T22:21:45.260526Z",
     "iopub.status.busy": "2025-09-14T22:21:45.260395Z",
     "iopub.status.idle": "2025-09-14T22:21:45.491668Z",
     "shell.execute_reply": "2025-09-14T22:21:45.491052Z"
    }
   },
   "outputs": [],
   "source": [
    "import numpy as np\n",
    "import matplotlib.pyplot as plt"
   ]
  },
  {
   "cell_type": "code",
   "execution_count": 2,
   "metadata": {
    "execution": {
     "iopub.execute_input": "2025-09-14T22:21:45.493276Z",
     "iopub.status.busy": "2025-09-14T22:21:45.493082Z",
     "iopub.status.idle": "2025-09-14T22:21:47.061322Z",
     "shell.execute_reply": "2025-09-14T22:21:47.060864Z"
    }
   },
   "outputs": [],
   "source": [
    "from financepy.utils import *\n",
    "from financepy.products.rates import *\n",
    "from financepy.products.credit import *"
   ]
  },
  {
   "cell_type": "markdown",
   "metadata": {},
   "source": [
    "## Creating a CDS Contract"
   ]
  },
  {
   "cell_type": "code",
   "execution_count": 3,
   "metadata": {
    "execution": {
     "iopub.execute_input": "2025-09-14T22:21:47.062954Z",
     "iopub.status.busy": "2025-09-14T22:21:47.062736Z",
     "iopub.status.idle": "2025-09-14T22:21:47.080730Z",
     "shell.execute_reply": "2025-09-14T22:21:47.080301Z"
    }
   },
   "outputs": [],
   "source": [
    "value_dt = Date(9, 8, 2019)\n",
    "effective_dt = value_dt\n",
    "maturity_dt = Date(20, 6, 2029)\n",
    "cdsCoupon = 0.0150\n",
    "notional = ONE_MILLION\n",
    "long_protection = False\n",
    "trade_dt = Date(9, 8, 2019)"
   ]
  },
  {
   "cell_type": "code",
   "execution_count": 4,
   "metadata": {
    "execution": {
     "iopub.execute_input": "2025-09-14T22:21:47.082237Z",
     "iopub.status.busy": "2025-09-14T22:21:47.082114Z",
     "iopub.status.idle": "2025-09-14T22:21:47.091657Z",
     "shell.execute_reply": "2025-09-14T22:21:47.091148Z"
    }
   },
   "outputs": [],
   "source": [
    "cds_contract = CDS(effective_dt, maturity_dt, cdsCoupon, notional, long_protection)"
   ]
  },
  {
   "cell_type": "markdown",
   "metadata": {},
   "source": [
    "## Build Ibor Curve"
   ]
  },
  {
   "cell_type": "code",
   "execution_count": 5,
   "metadata": {
    "execution": {
     "iopub.execute_input": "2025-09-14T22:21:47.093796Z",
     "iopub.status.busy": "2025-09-14T22:21:47.093581Z",
     "iopub.status.idle": "2025-09-14T22:21:47.096058Z",
     "shell.execute_reply": "2025-09-14T22:21:47.095586Z"
    }
   },
   "outputs": [],
   "source": [
    "settle_dt = effective_dt"
   ]
  },
  {
   "cell_type": "code",
   "execution_count": 6,
   "metadata": {
    "execution": {
     "iopub.execute_input": "2025-09-14T22:21:47.097308Z",
     "iopub.status.busy": "2025-09-14T22:21:47.097182Z",
     "iopub.status.idle": "2025-09-14T22:21:47.118320Z",
     "shell.execute_reply": "2025-09-14T22:21:47.117924Z"
    }
   },
   "outputs": [],
   "source": [
    "dc_type = DayCountTypes.ACT_360\n",
    "depo1 = IborDeposit(settle_dt, \"1M\", 0.022009, dc_type)\n",
    "depo2 = IborDeposit(settle_dt, \"2M\", 0.022138, dc_type)\n",
    "depo3 = IborDeposit(settle_dt, \"3M\", 0.021810, dc_type)\n",
    "depo4 = IborDeposit(settle_dt, \"6M\", 0.020503, dc_type)\n",
    "depo5 = IborDeposit(settle_dt, \"12M\", 0.019930, dc_type)\n",
    "depos = [depo1,depo2,depo3,depo4,depo5]\n",
    "\n",
    "dc_type = DayCountTypes.THIRTY_E_360_ISDA\n",
    "fixed_freq = FrequencyTypes.SEMI_ANNUAL\n",
    "swap_type = SwapTypes.PAY\n",
    "\n",
    "swap1 = IborSwap(settle_dt,\"2Y\",swap_type,0.015910,fixed_freq,dc_type)\n",
    "swap2 = IborSwap(settle_dt,\"3Y\",swap_type,0.014990,fixed_freq,dc_type)\n",
    "swap3 = IborSwap(settle_dt,\"4Y\",swap_type,0.014725,fixed_freq,dc_type)\n",
    "swap4 = IborSwap(settle_dt,\"5Y\",swap_type,0.014640,fixed_freq,dc_type)\n",
    "swap5 = IborSwap(settle_dt,\"6Y\",swap_type,0.014800,fixed_freq,dc_type)\n",
    "swap6 = IborSwap(settle_dt,\"7Y\",swap_type,0.014995,fixed_freq,dc_type)\n",
    "swap7 = IborSwap(settle_dt,\"8Y\",swap_type,0.015180,fixed_freq,dc_type)\n",
    "swap8 = IborSwap(settle_dt,\"9Y\",swap_type,0.015610,fixed_freq,dc_type)\n",
    "swap9 = IborSwap(settle_dt,\"10Y\",swap_type,0.0159880,fixed_freq,dc_type)\n",
    "swap10 = IborSwap(settle_dt,\"12Y\",swap_type,0.016430,fixed_freq,dc_type)\n",
    "swaps = [swap1,swap2,swap3,swap4,swap5,swap6,swap7,swap8,swap9,swap10]\n",
    "\n",
    "libor_curve = IborSingleCurve(value_dt, depos, [], swaps)"
   ]
  },
  {
   "cell_type": "markdown",
   "metadata": {},
   "source": [
    "# Build a CDS Curve"
   ]
  },
  {
   "cell_type": "code",
   "execution_count": 7,
   "metadata": {
    "execution": {
     "iopub.execute_input": "2025-09-14T22:21:47.119668Z",
     "iopub.status.busy": "2025-09-14T22:21:47.119545Z",
     "iopub.status.idle": "2025-09-14T22:21:47.123394Z",
     "shell.execute_reply": "2025-09-14T22:21:47.123176Z"
    }
   },
   "outputs": [],
   "source": [
    "cds1 = CDS(settle_dt, \"1Y\", 0.0200)\n",
    "cds2 = CDS(settle_dt, \"2Y\", 0.0220)\n",
    "cds3 = CDS(settle_dt, \"3Y\", 0.0250)\n",
    "cds4 = CDS(settle_dt, \"4Y\", 0.0275)\n",
    "cds5 = CDS(settle_dt, \"5Y\", 0.0290)\n",
    "cds6 = CDS(settle_dt, \"7Y\", 0.0300)\n",
    "cds7 = CDS(settle_dt, \"10Y\", 0.0310)\n",
    "cds8 = CDS(settle_dt, \"15Y\", 0.0315)"
   ]
  },
  {
   "cell_type": "code",
   "execution_count": 8,
   "metadata": {
    "execution": {
     "iopub.execute_input": "2025-09-14T22:21:47.124473Z",
     "iopub.status.busy": "2025-09-14T22:21:47.124344Z",
     "iopub.status.idle": "2025-09-14T22:21:47.127663Z",
     "shell.execute_reply": "2025-09-14T22:21:47.127136Z"
    }
   },
   "outputs": [],
   "source": [
    "cdss = [cds1, cds2, cds3, cds4, cds5, cds6, cds7, cds8]"
   ]
  },
  {
   "cell_type": "code",
   "execution_count": 9,
   "metadata": {
    "execution": {
     "iopub.execute_input": "2025-09-14T22:21:47.129367Z",
     "iopub.status.busy": "2025-09-14T22:21:47.129245Z",
     "iopub.status.idle": "2025-09-14T22:21:47.131548Z",
     "shell.execute_reply": "2025-09-14T22:21:47.131177Z"
    }
   },
   "outputs": [],
   "source": [
    "recovery_rate = 0.40"
   ]
  },
  {
   "cell_type": "code",
   "execution_count": 10,
   "metadata": {
    "execution": {
     "iopub.execute_input": "2025-09-14T22:21:47.132511Z",
     "iopub.status.busy": "2025-09-14T22:21:47.132397Z",
     "iopub.status.idle": "2025-09-14T22:21:47.135937Z",
     "shell.execute_reply": "2025-09-14T22:21:47.135645Z"
    }
   },
   "outputs": [],
   "source": [
    "issuer_curve = CDSCurve(value_dt, cdss, libor_curve, recovery_rate)"
   ]
  },
  {
   "cell_type": "code",
   "execution_count": 11,
   "metadata": {
    "execution": {
     "iopub.execute_input": "2025-09-14T22:21:47.137504Z",
     "iopub.status.busy": "2025-09-14T22:21:47.137335Z",
     "iopub.status.idle": "2025-09-14T22:21:47.141029Z",
     "shell.execute_reply": "2025-09-14T22:21:47.140825Z"
    }
   },
   "outputs": [
    {
     "name": "stdout",
     "output_type": "stream",
     "text": [
      "XXXXX\n",
      "[1.         0.96302286 0.92424655 0.87576278 0.82361652 0.77450482\n",
      " 0.6922309  0.58146972 0.43911048]\n",
      "OBJECT TYPE: CDSCurve\n",
      "TIME,SURVIVAL_PROBABILITY\n",
      " 0.0000000,  1.0000000\n",
      " 1.1178082,  0.9630229\n",
      " 2.1178082,  0.9242466\n",
      " 3.1178082,  0.8757628\n",
      " 4.1178082,  0.8236165\n",
      " 5.1205479,  0.7745048\n",
      " 7.1205479,  0.6922309\n",
      "10.1232877,  0.5814697\n",
      "15.1260274,  0.4391105\n"
     ]
    }
   ],
   "source": [
    "print(issuer_curve)"
   ]
  },
  {
   "cell_type": "markdown",
   "metadata": {},
   "source": [
    "# Valuation"
   ]
  },
  {
   "cell_type": "code",
   "execution_count": 12,
   "metadata": {
    "execution": {
     "iopub.execute_input": "2025-09-14T22:21:47.141966Z",
     "iopub.status.busy": "2025-09-14T22:21:47.141846Z",
     "iopub.status.idle": "2025-09-14T22:21:47.144504Z",
     "shell.execute_reply": "2025-09-14T22:21:47.144117Z"
    }
   },
   "outputs": [
    {
     "name": "stdout",
     "output_type": "stream",
     "text": [
      "FAIR CDS SPREAD  309.40551 bp\n"
     ]
    }
   ],
   "source": [
    "spd = cds_contract.par_spread(settle_dt, issuer_curve, recovery_rate) * 10000.0\n",
    "print(\"FAIR CDS SPREAD %10.5f bp\"% spd)"
   ]
  },
  {
   "cell_type": "code",
   "execution_count": 13,
   "metadata": {
    "execution": {
     "iopub.execute_input": "2025-09-14T22:21:47.145625Z",
     "iopub.status.busy": "2025-09-14T22:21:47.145504Z",
     "iopub.status.idle": "2025-09-14T22:21:47.147574Z",
     "shell.execute_reply": "2025-09-14T22:21:47.147314Z"
    }
   },
   "outputs": [],
   "source": [
    "v = cds_contract.value(settle_dt, issuer_curve, recovery_rate)"
   ]
  },
  {
   "cell_type": "code",
   "execution_count": 14,
   "metadata": {
    "execution": {
     "iopub.execute_input": "2025-09-14T22:21:47.149918Z",
     "iopub.status.busy": "2025-09-14T22:21:47.149537Z",
     "iopub.status.idle": "2025-09-14T22:21:47.151870Z",
     "shell.execute_reply": "2025-09-14T22:21:47.151600Z"
    }
   },
   "outputs": [],
   "source": [
    "dirty_pv = v['dirty_pv']\n",
    "clean_pv = v['clean_pv']"
   ]
  },
  {
   "cell_type": "code",
   "execution_count": 15,
   "metadata": {
    "execution": {
     "iopub.execute_input": "2025-09-14T22:21:47.152863Z",
     "iopub.status.busy": "2025-09-14T22:21:47.152755Z",
     "iopub.status.idle": "2025-09-14T22:21:47.154943Z",
     "shell.execute_reply": "2025-09-14T22:21:47.154675Z"
    }
   },
   "outputs": [
    {
     "name": "stdout",
     "output_type": "stream",
     "text": [
      "DIRTY VALUE   -115741.45\n",
      "CLEAN VALUE   -117824.78\n"
     ]
    }
   ],
   "source": [
    "print(\"DIRTY VALUE %12.2f\"% dirty_pv)\n",
    "print(\"CLEAN VALUE %12.2f\"% clean_pv)"
   ]
  },
  {
   "cell_type": "code",
   "execution_count": 16,
   "metadata": {
    "execution": {
     "iopub.execute_input": "2025-09-14T22:21:47.155808Z",
     "iopub.status.busy": "2025-09-14T22:21:47.155701Z",
     "iopub.status.idle": "2025-09-14T22:21:47.157885Z",
     "shell.execute_reply": "2025-09-14T22:21:47.157595Z"
    }
   },
   "outputs": [
    {
     "name": "stdout",
     "output_type": "stream",
     "text": [
      "CLEAN PRICE    88.217522\n"
     ]
    }
   ],
   "source": [
    "cleanp = cds_contract.clean_price(settle_dt, issuer_curve, recovery_rate)\n",
    "print(\"CLEAN PRICE %12.6f\"% cleanp)"
   ]
  },
  {
   "cell_type": "code",
   "execution_count": 17,
   "metadata": {
    "execution": {
     "iopub.execute_input": "2025-09-14T22:21:47.158847Z",
     "iopub.status.busy": "2025-09-14T22:21:47.158741Z",
     "iopub.status.idle": "2025-09-14T22:21:47.161413Z",
     "shell.execute_reply": "2025-09-14T22:21:47.161102Z"
    }
   },
   "outputs": [
    {
     "name": "stdout",
     "output_type": "stream",
     "text": [
      "ACCRUED_DAYS 50.0\n"
     ]
    }
   ],
   "source": [
    "accrued_days = cds_contract.accrued_days()\n",
    "print(\"ACCRUED_DAYS\", accrued_days)"
   ]
  },
  {
   "cell_type": "code",
   "execution_count": 18,
   "metadata": {
    "execution": {
     "iopub.execute_input": "2025-09-14T22:21:47.162368Z",
     "iopub.status.busy": "2025-09-14T22:21:47.162257Z",
     "iopub.status.idle": "2025-09-14T22:21:47.164282Z",
     "shell.execute_reply": "2025-09-14T22:21:47.164053Z"
    }
   },
   "outputs": [
    {
     "name": "stdout",
     "output_type": "stream",
     "text": [
      "ACCRUED_COUPON 2083.3333333333335\n"
     ]
    }
   ],
   "source": [
    "accrued_interest = cds_contract.accrued_interest()\n",
    "print(\"ACCRUED_COUPON\", accrued_interest)"
   ]
  },
  {
   "cell_type": "code",
   "execution_count": 19,
   "metadata": {
    "execution": {
     "iopub.execute_input": "2025-09-14T22:21:47.165086Z",
     "iopub.status.busy": "2025-09-14T22:21:47.164950Z",
     "iopub.status.idle": "2025-09-14T22:21:47.167508Z",
     "shell.execute_reply": "2025-09-14T22:21:47.167238Z"
    }
   },
   "outputs": [
    {
     "name": "stdout",
     "output_type": "stream",
     "text": [
      "prot_PV 228697.4676068332\n"
     ]
    }
   ],
   "source": [
    "prot_pv = cds_contract.prot_leg_pv(settle_dt, issuer_curve, recovery_rate)\n",
    "print(\"prot_PV\", prot_pv)"
   ]
  },
  {
   "cell_type": "code",
   "execution_count": 20,
   "metadata": {
    "execution": {
     "iopub.execute_input": "2025-09-14T22:21:47.168262Z",
     "iopub.status.busy": "2025-09-14T22:21:47.168148Z",
     "iopub.status.idle": "2025-09-14T22:21:47.170422Z",
     "shell.execute_reply": "2025-09-14T22:21:47.170151Z"
    }
   },
   "outputs": [
    {
     "name": "stdout",
     "output_type": "stream",
     "text": [
      "PREMIUM_PV 112956.02005099421\n"
     ]
    }
   ],
   "source": [
    "premPV = cds_contract.premium_leg_pv(settle_dt, issuer_curve, recovery_rate)\n",
    "print(\"PREMIUM_PV\", premPV)"
   ]
  },
  {
   "cell_type": "code",
   "execution_count": 21,
   "metadata": {
    "execution": {
     "iopub.execute_input": "2025-09-14T22:21:47.172722Z",
     "iopub.status.busy": "2025-09-14T22:21:47.172621Z",
     "iopub.status.idle": "2025-09-14T22:21:47.175473Z",
     "shell.execute_reply": "2025-09-14T22:21:47.175244Z"
    }
   },
   "outputs": [
    {
     "name": "stdout",
     "output_type": "stream",
     "text": [
      "DIRTY_RPV01 7.530401336732948\n",
      "CLEAN_RPV01 7.391512447844058\n"
     ]
    }
   ],
   "source": [
    "rpv01 = cds_contract.risky_pv01(settle_dt, issuer_curve)\n",
    "print(\"DIRTY_RPV01\", rpv01['dirty_rpv01'])\n",
    "print(\"CLEAN_RPV01\", rpv01['clean_rpv01'])"
   ]
  },
  {
   "cell_type": "code",
   "execution_count": 22,
   "metadata": {
    "execution": {
     "iopub.execute_input": "2025-09-14T22:21:47.176973Z",
     "iopub.status.busy": "2025-09-14T22:21:47.176768Z",
     "iopub.status.idle": "2025-09-14T22:21:47.180508Z",
     "shell.execute_reply": "2025-09-14T22:21:47.180270Z"
    }
   },
   "outputs": [
    {
     "data": {
      "text/plain": [
       "{'dirty_rpv01': np.float64(7.530401336732948),\n",
       " 'clean_rpv01': np.float64(7.391512447844058)}"
      ]
     },
     "execution_count": 22,
     "metadata": {},
     "output_type": "execute_result"
    }
   ],
   "source": [
    "cds_contract.risky_pv01(settle_dt, issuer_curve)"
   ]
  },
  {
   "cell_type": "markdown",
   "metadata": {},
   "source": [
    "## Risk Measures"
   ]
  },
  {
   "cell_type": "code",
   "execution_count": 23,
   "metadata": {
    "execution": {
     "iopub.execute_input": "2025-09-14T22:21:47.181482Z",
     "iopub.status.busy": "2025-09-14T22:21:47.181362Z",
     "iopub.status.idle": "2025-09-14T22:21:47.190086Z",
     "shell.execute_reply": "2025-09-14T22:21:47.189373Z"
    }
   },
   "outputs": [],
   "source": [
    "credit_dv01 = cds_contract.credit_dv01(settle_dt, issuer_curve, recovery_rate)"
   ]
  },
  {
   "cell_type": "code",
   "execution_count": 24,
   "metadata": {
    "execution": {
     "iopub.execute_input": "2025-09-14T22:21:47.191212Z",
     "iopub.status.busy": "2025-09-14T22:21:47.191100Z",
     "iopub.status.idle": "2025-09-14T22:21:47.195055Z",
     "shell.execute_reply": "2025-09-14T22:21:47.194710Z"
    }
   },
   "outputs": [
    {
     "data": {
      "text/plain": [
       "np.float64(-650.4474008045217)"
      ]
     },
     "execution_count": 24,
     "metadata": {},
     "output_type": "execute_result"
    }
   ],
   "source": [
    "credit_dv01"
   ]
  },
  {
   "cell_type": "markdown",
   "metadata": {},
   "source": [
    "Copyright (c) 2020 Dominic O'Kane"
   ]
  }
 ],
 "metadata": {
  "kernelspec": {
   "display_name": "base",
   "language": "python",
   "name": "python3"
  },
  "language_info": {
   "codemirror_mode": {
    "name": "ipython",
    "version": 3
   },
   "file_extension": ".py",
   "mimetype": "text/x-python",
   "name": "python",
   "nbconvert_exporter": "python",
   "pygments_lexer": "ipython3",
   "version": "3.13.7"
  }
 },
 "nbformat": 4,
 "nbformat_minor": 2
}
