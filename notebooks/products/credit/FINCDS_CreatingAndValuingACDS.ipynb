{
 "cells": [
  {
   "cell_type": "markdown",
   "metadata": {},
   "source": [
    "# Creating and Valuing a CDS Contract"
   ]
  },
  {
   "cell_type": "markdown",
   "metadata": {},
   "source": [
    "Creates a CDS contract and does a valuation and calculates risk measures"
   ]
  },
  {
   "cell_type": "code",
   "execution_count": 1,
   "metadata": {
    "execution": {
     "iopub.execute_input": "2025-08-27T21:44:04.792308Z",
     "iopub.status.busy": "2025-08-27T21:44:04.792019Z",
     "iopub.status.idle": "2025-08-27T21:44:05.301132Z",
     "shell.execute_reply": "2025-08-27T21:44:05.300629Z"
    }
   },
   "outputs": [],
   "source": [
    "import numpy as np\n",
    "import matplotlib.pyplot as plt"
   ]
  },
  {
   "cell_type": "code",
   "execution_count": 2,
   "metadata": {
    "execution": {
     "iopub.execute_input": "2025-08-27T21:44:05.303498Z",
     "iopub.status.busy": "2025-08-27T21:44:05.303196Z",
     "iopub.status.idle": "2025-08-27T21:44:07.926807Z",
     "shell.execute_reply": "2025-08-27T21:44:07.926310Z"
    }
   },
   "outputs": [
    {
     "name": "stdout",
     "output_type": "stream",
     "text": [
      "####################################################################\n",
      "#    FINANCEPY Version 1.1 - This build: 27 Aug 2025 at 23:27      #\n",
      "#     This software is distributed FREE AND WITHOUT ANY WARRANTY   #\n",
      "#  Report bugs as issues at https://github.com/domokane/FinancePy  #\n",
      "####################################################################\n",
      "\n"
     ]
    }
   ],
   "source": [
    "from financepy.utils import *\n",
    "from financepy.products.rates import *\n",
    "from financepy.products.credit import *"
   ]
  },
  {
   "cell_type": "markdown",
   "metadata": {},
   "source": [
    "## Creating a CDS Contract"
   ]
  },
  {
   "cell_type": "code",
   "execution_count": 3,
   "metadata": {
    "execution": {
     "iopub.execute_input": "2025-08-27T21:44:07.928897Z",
     "iopub.status.busy": "2025-08-27T21:44:07.928588Z",
     "iopub.status.idle": "2025-08-27T21:44:07.949290Z",
     "shell.execute_reply": "2025-08-27T21:44:07.948850Z"
    }
   },
   "outputs": [],
   "source": [
    "value_dt = Date(9, 8, 2019)\n",
    "effective_dt = value_dt\n",
    "maturity_dt = Date(20, 6, 2029)\n",
    "cdsCoupon = 0.0150\n",
    "notional = ONE_MILLION\n",
    "long_protection = False\n",
    "trade_dt = Date(9, 8, 2019)"
   ]
  },
  {
   "cell_type": "code",
   "execution_count": 4,
   "metadata": {
    "execution": {
     "iopub.execute_input": "2025-08-27T21:44:07.951595Z",
     "iopub.status.busy": "2025-08-27T21:44:07.951180Z",
     "iopub.status.idle": "2025-08-27T21:44:07.960771Z",
     "shell.execute_reply": "2025-08-27T21:44:07.960359Z"
    }
   },
   "outputs": [],
   "source": [
    "cds_contract = CDS(effective_dt, maturity_dt, cdsCoupon, notional, long_protection)"
   ]
  },
  {
   "cell_type": "markdown",
   "metadata": {},
   "source": [
    "## Build Ibor Curve"
   ]
  },
  {
   "cell_type": "code",
   "execution_count": 5,
   "metadata": {
    "execution": {
     "iopub.execute_input": "2025-08-27T21:44:07.962659Z",
     "iopub.status.busy": "2025-08-27T21:44:07.962468Z",
     "iopub.status.idle": "2025-08-27T21:44:07.964877Z",
     "shell.execute_reply": "2025-08-27T21:44:07.964487Z"
    }
   },
   "outputs": [],
   "source": [
    "settle_dt = effective_dt"
   ]
  },
  {
   "cell_type": "code",
   "execution_count": 6,
   "metadata": {
    "execution": {
     "iopub.execute_input": "2025-08-27T21:44:07.966513Z",
     "iopub.status.busy": "2025-08-27T21:44:07.966326Z",
     "iopub.status.idle": "2025-08-27T21:44:08.006014Z",
     "shell.execute_reply": "2025-08-27T21:44:08.005548Z"
    }
   },
   "outputs": [],
   "source": [
    "dc_type = DayCountTypes.ACT_360\n",
    "depo1 = IborDeposit(settle_dt, \"1M\", 0.022009, dc_type)\n",
    "depo2 = IborDeposit(settle_dt, \"2M\", 0.022138, dc_type)\n",
    "depo3 = IborDeposit(settle_dt, \"3M\", 0.021810, dc_type)\n",
    "depo4 = IborDeposit(settle_dt, \"6M\", 0.020503, dc_type)\n",
    "depo5 = IborDeposit(settle_dt, \"12M\", 0.019930, dc_type)\n",
    "depos = [depo1,depo2,depo3,depo4,depo5]\n",
    "\n",
    "dc_type = DayCountTypes.THIRTY_E_360_ISDA\n",
    "fixed_freq = FrequencyTypes.SEMI_ANNUAL\n",
    "swap_type = SwapTypes.PAY\n",
    "\n",
    "swap1 = IborSwap(settle_dt,\"2Y\",swap_type,0.015910,fixed_freq,dc_type)\n",
    "swap2 = IborSwap(settle_dt,\"3Y\",swap_type,0.014990,fixed_freq,dc_type)\n",
    "swap3 = IborSwap(settle_dt,\"4Y\",swap_type,0.014725,fixed_freq,dc_type)\n",
    "swap4 = IborSwap(settle_dt,\"5Y\",swap_type,0.014640,fixed_freq,dc_type)\n",
    "swap5 = IborSwap(settle_dt,\"6Y\",swap_type,0.014800,fixed_freq,dc_type)\n",
    "swap6 = IborSwap(settle_dt,\"7Y\",swap_type,0.014995,fixed_freq,dc_type)\n",
    "swap7 = IborSwap(settle_dt,\"8Y\",swap_type,0.015180,fixed_freq,dc_type)\n",
    "swap8 = IborSwap(settle_dt,\"9Y\",swap_type,0.015610,fixed_freq,dc_type)\n",
    "swap9 = IborSwap(settle_dt,\"10Y\",swap_type,0.0159880,fixed_freq,dc_type)\n",
    "swap10 = IborSwap(settle_dt,\"12Y\",swap_type,0.016430,fixed_freq,dc_type)\n",
    "swaps = [swap1,swap2,swap3,swap4,swap5,swap6,swap7,swap8,swap9,swap10]\n",
    "\n",
    "libor_curve = IborSingleCurve(value_dt, depos, [], swaps)"
   ]
  },
  {
   "cell_type": "markdown",
   "metadata": {},
   "source": [
    "# Build a CDS Curve"
   ]
  },
  {
   "cell_type": "code",
   "execution_count": 7,
   "metadata": {
    "execution": {
     "iopub.execute_input": "2025-08-27T21:44:08.008666Z",
     "iopub.status.busy": "2025-08-27T21:44:08.008403Z",
     "iopub.status.idle": "2025-08-27T21:44:08.014285Z",
     "shell.execute_reply": "2025-08-27T21:44:08.013831Z"
    }
   },
   "outputs": [],
   "source": [
    "cds1 = CDS(settle_dt, \"1Y\", 0.0200)\n",
    "cds2 = CDS(settle_dt, \"2Y\", 0.0220)\n",
    "cds3 = CDS(settle_dt, \"3Y\", 0.0250)\n",
    "cds4 = CDS(settle_dt, \"4Y\", 0.0275)\n",
    "cds5 = CDS(settle_dt, \"5Y\", 0.0290)\n",
    "cds6 = CDS(settle_dt, \"7Y\", 0.0300)\n",
    "cds7 = CDS(settle_dt, \"10Y\", 0.0310)\n",
    "cds8 = CDS(settle_dt, \"15Y\", 0.0315)"
   ]
  },
  {
   "cell_type": "code",
   "execution_count": 8,
   "metadata": {
    "execution": {
     "iopub.execute_input": "2025-08-27T21:44:08.016272Z",
     "iopub.status.busy": "2025-08-27T21:44:08.015948Z",
     "iopub.status.idle": "2025-08-27T21:44:08.018890Z",
     "shell.execute_reply": "2025-08-27T21:44:08.018508Z"
    }
   },
   "outputs": [],
   "source": [
    "cdss = [cds1, cds2, cds3, cds4, cds5, cds6, cds7, cds8]"
   ]
  },
  {
   "cell_type": "code",
   "execution_count": 9,
   "metadata": {
    "execution": {
     "iopub.execute_input": "2025-08-27T21:44:08.020961Z",
     "iopub.status.busy": "2025-08-27T21:44:08.020578Z",
     "iopub.status.idle": "2025-08-27T21:44:08.023670Z",
     "shell.execute_reply": "2025-08-27T21:44:08.022938Z"
    }
   },
   "outputs": [],
   "source": [
    "recovery_rate = 0.40"
   ]
  },
  {
   "cell_type": "code",
   "execution_count": 10,
   "metadata": {
    "execution": {
     "iopub.execute_input": "2025-08-27T21:44:08.025606Z",
     "iopub.status.busy": "2025-08-27T21:44:08.025369Z",
     "iopub.status.idle": "2025-08-27T21:44:08.030569Z",
     "shell.execute_reply": "2025-08-27T21:44:08.030180Z"
    }
   },
   "outputs": [],
   "source": [
    "issuer_curve = CDSCurve(value_dt, cdss, libor_curve, recovery_rate)"
   ]
  },
  {
   "cell_type": "code",
   "execution_count": 11,
   "metadata": {
    "execution": {
     "iopub.execute_input": "2025-08-27T21:44:08.032363Z",
     "iopub.status.busy": "2025-08-27T21:44:08.032168Z",
     "iopub.status.idle": "2025-08-27T21:44:08.035311Z",
     "shell.execute_reply": "2025-08-27T21:44:08.034737Z"
    }
   },
   "outputs": [
    {
     "name": "stdout",
     "output_type": "stream",
     "text": [
      "XXXXX\n",
      "[1.         0.96302252 0.92424482 0.87575789 0.82360648 0.77448843\n",
      " 0.69220108 0.58141385 0.4390083 ]\n",
      "OBJECT TYPE: CDSCurve\n",
      "TIME,SURVIVAL_PROBABILITY\n",
      " 0.0000000,  1.0000000\n",
      " 1.1178082,  0.9630225\n",
      " 2.1178082,  0.9242448\n",
      " 3.1178082,  0.8757579\n",
      " 4.1178082,  0.8236065\n",
      " 5.1205479,  0.7744884\n",
      " 7.1205479,  0.6922011\n",
      "10.1232877,  0.5814139\n",
      "15.1260274,  0.4390083\n"
     ]
    }
   ],
   "source": [
    "print(issuer_curve)"
   ]
  },
  {
   "cell_type": "markdown",
   "metadata": {},
   "source": [
    "# Valuation"
   ]
  },
  {
   "cell_type": "code",
   "execution_count": 12,
   "metadata": {
    "execution": {
     "iopub.execute_input": "2025-08-27T21:44:08.037673Z",
     "iopub.status.busy": "2025-08-27T21:44:08.037230Z",
     "iopub.status.idle": "2025-08-27T21:44:08.040466Z",
     "shell.execute_reply": "2025-08-27T21:44:08.039976Z"
    }
   },
   "outputs": [
    {
     "name": "stdout",
     "output_type": "stream",
     "text": [
      "FAIR CDS SPREAD  309.40594 bp\n"
     ]
    }
   ],
   "source": [
    "spd = cds_contract.par_spread(settle_dt, issuer_curve, recovery_rate) * 10000.0\n",
    "print(\"FAIR CDS SPREAD %10.5f bp\"% spd)"
   ]
  },
  {
   "cell_type": "code",
   "execution_count": 13,
   "metadata": {
    "execution": {
     "iopub.execute_input": "2025-08-27T21:44:08.042851Z",
     "iopub.status.busy": "2025-08-27T21:44:08.042457Z",
     "iopub.status.idle": "2025-08-27T21:44:08.045617Z",
     "shell.execute_reply": "2025-08-27T21:44:08.045174Z"
    }
   },
   "outputs": [],
   "source": [
    "v = cds_contract.value(settle_dt, issuer_curve, recovery_rate)"
   ]
  },
  {
   "cell_type": "code",
   "execution_count": 14,
   "metadata": {
    "execution": {
     "iopub.execute_input": "2025-08-27T21:44:08.047319Z",
     "iopub.status.busy": "2025-08-27T21:44:08.047108Z",
     "iopub.status.idle": "2025-08-27T21:44:08.049540Z",
     "shell.execute_reply": "2025-08-27T21:44:08.049122Z"
    }
   },
   "outputs": [],
   "source": [
    "dirty_pv = v['dirty_pv']\n",
    "clean_pv = v['clean_pv']"
   ]
  },
  {
   "cell_type": "code",
   "execution_count": 15,
   "metadata": {
    "execution": {
     "iopub.execute_input": "2025-08-27T21:44:08.051880Z",
     "iopub.status.busy": "2025-08-27T21:44:08.051591Z",
     "iopub.status.idle": "2025-08-27T21:44:08.054842Z",
     "shell.execute_reply": "2025-08-27T21:44:08.054424Z"
    }
   },
   "outputs": [
    {
     "name": "stdout",
     "output_type": "stream",
     "text": [
      "DIRTY VALUE   -115756.79\n",
      "CLEAN VALUE   -117840.12\n"
     ]
    }
   ],
   "source": [
    "print(\"DIRTY VALUE %12.2f\"% dirty_pv)\n",
    "print(\"CLEAN VALUE %12.2f\"% clean_pv)"
   ]
  },
  {
   "cell_type": "code",
   "execution_count": 16,
   "metadata": {
    "execution": {
     "iopub.execute_input": "2025-08-27T21:44:08.056504Z",
     "iopub.status.busy": "2025-08-27T21:44:08.056281Z",
     "iopub.status.idle": "2025-08-27T21:44:08.059408Z",
     "shell.execute_reply": "2025-08-27T21:44:08.059008Z"
    }
   },
   "outputs": [
    {
     "name": "stdout",
     "output_type": "stream",
     "text": [
      "CLEAN PRICE    88.215988\n"
     ]
    }
   ],
   "source": [
    "cleanp = cds_contract.clean_price(settle_dt, issuer_curve, recovery_rate)\n",
    "print(\"CLEAN PRICE %12.6f\"% cleanp)"
   ]
  },
  {
   "cell_type": "code",
   "execution_count": 17,
   "metadata": {
    "execution": {
     "iopub.execute_input": "2025-08-27T21:44:08.060947Z",
     "iopub.status.busy": "2025-08-27T21:44:08.060756Z",
     "iopub.status.idle": "2025-08-27T21:44:08.063586Z",
     "shell.execute_reply": "2025-08-27T21:44:08.063094Z"
    }
   },
   "outputs": [
    {
     "name": "stdout",
     "output_type": "stream",
     "text": [
      "ACCRUED_DAYS 50.0\n"
     ]
    }
   ],
   "source": [
    "accrued_days = cds_contract.accrued_days()\n",
    "print(\"ACCRUED_DAYS\", accrued_days)"
   ]
  },
  {
   "cell_type": "code",
   "execution_count": 18,
   "metadata": {
    "execution": {
     "iopub.execute_input": "2025-08-27T21:44:08.065709Z",
     "iopub.status.busy": "2025-08-27T21:44:08.065432Z",
     "iopub.status.idle": "2025-08-27T21:44:08.068328Z",
     "shell.execute_reply": "2025-08-27T21:44:08.067904Z"
    }
   },
   "outputs": [
    {
     "name": "stdout",
     "output_type": "stream",
     "text": [
      "ACCRUED_COUPON 2083.3333333333335\n"
     ]
    }
   ],
   "source": [
    "accrued_interest = cds_contract.accrued_interest()\n",
    "print(\"ACCRUED_COUPON\", accrued_interest)"
   ]
  },
  {
   "cell_type": "code",
   "execution_count": 19,
   "metadata": {
    "execution": {
     "iopub.execute_input": "2025-08-27T21:44:08.070038Z",
     "iopub.status.busy": "2025-08-27T21:44:08.069824Z",
     "iopub.status.idle": "2025-08-27T21:44:08.072985Z",
     "shell.execute_reply": "2025-08-27T21:44:08.072557Z"
    }
   },
   "outputs": [
    {
     "name": "stdout",
     "output_type": "stream",
     "text": [
      "prot_PV 228726.94674241278\n"
     ]
    }
   ],
   "source": [
    "prot_pv = cds_contract.prot_leg_pv(settle_dt, issuer_curve, recovery_rate)\n",
    "print(\"prot_PV\", prot_pv)"
   ]
  },
  {
   "cell_type": "code",
   "execution_count": 20,
   "metadata": {
    "execution": {
     "iopub.execute_input": "2025-08-27T21:44:08.074731Z",
     "iopub.status.busy": "2025-08-27T21:44:08.074465Z",
     "iopub.status.idle": "2025-08-27T21:44:08.077207Z",
     "shell.execute_reply": "2025-08-27T21:44:08.076734Z"
    }
   },
   "outputs": [
    {
     "name": "stdout",
     "output_type": "stream",
     "text": [
      "PREMIUM_PV 112970.15765938823\n"
     ]
    }
   ],
   "source": [
    "premPV = cds_contract.premium_leg_pv(settle_dt, issuer_curve, recovery_rate)\n",
    "print(\"PREMIUM_PV\", premPV)"
   ]
  },
  {
   "cell_type": "code",
   "execution_count": 21,
   "metadata": {
    "execution": {
     "iopub.execute_input": "2025-08-27T21:44:08.079715Z",
     "iopub.status.busy": "2025-08-27T21:44:08.079427Z",
     "iopub.status.idle": "2025-08-27T21:44:08.083040Z",
     "shell.execute_reply": "2025-08-27T21:44:08.082554Z"
    }
   },
   "outputs": [
    {
     "name": "stdout",
     "output_type": "stream",
     "text": [
      "DIRTY_RPV01 7.531343843959216\n",
      "CLEAN_RPV01 7.392454955070327\n"
     ]
    }
   ],
   "source": [
    "rpv01 = cds_contract.risky_pv01(settle_dt, issuer_curve)\n",
    "print(\"DIRTY_RPV01\", rpv01['dirty_rpv01'])\n",
    "print(\"CLEAN_RPV01\", rpv01['clean_rpv01'])"
   ]
  },
  {
   "cell_type": "code",
   "execution_count": 22,
   "metadata": {
    "execution": {
     "iopub.execute_input": "2025-08-27T21:44:08.084799Z",
     "iopub.status.busy": "2025-08-27T21:44:08.084543Z",
     "iopub.status.idle": "2025-08-27T21:44:08.089879Z",
     "shell.execute_reply": "2025-08-27T21:44:08.089466Z"
    }
   },
   "outputs": [
    {
     "data": {
      "text/plain": [
       "{'dirty_rpv01': np.float64(7.531343843959216),\n",
       " 'clean_rpv01': np.float64(7.392454955070327)}"
      ]
     },
     "execution_count": 22,
     "metadata": {},
     "output_type": "execute_result"
    }
   ],
   "source": [
    "cds_contract.risky_pv01(settle_dt, issuer_curve)"
   ]
  },
  {
   "cell_type": "markdown",
   "metadata": {},
   "source": [
    "## Risk Measures"
   ]
  },
  {
   "cell_type": "code",
   "execution_count": 23,
   "metadata": {
    "execution": {
     "iopub.execute_input": "2025-08-27T21:44:08.091566Z",
     "iopub.status.busy": "2025-08-27T21:44:08.091377Z",
     "iopub.status.idle": "2025-08-27T21:44:08.105440Z",
     "shell.execute_reply": "2025-08-27T21:44:08.105038Z"
    }
   },
   "outputs": [],
   "source": [
    "credit_dv01 = cds_contract.credit_dv01(settle_dt, issuer_curve, recovery_rate)"
   ]
  },
  {
   "cell_type": "code",
   "execution_count": 24,
   "metadata": {
    "execution": {
     "iopub.execute_input": "2025-08-27T21:44:08.107240Z",
     "iopub.status.busy": "2025-08-27T21:44:08.107040Z",
     "iopub.status.idle": "2025-08-27T21:44:08.110423Z",
     "shell.execute_reply": "2025-08-27T21:44:08.109960Z"
    }
   },
   "outputs": [
    {
     "data": {
      "text/plain": [
       "np.float64(-650.5636208885699)"
      ]
     },
     "execution_count": 24,
     "metadata": {},
     "output_type": "execute_result"
    }
   ],
   "source": [
    "credit_dv01"
   ]
  },
  {
   "cell_type": "markdown",
   "metadata": {},
   "source": [
    "Copyright (c) 2020 Dominic O'Kane"
   ]
  }
 ],
 "metadata": {
  "kernelspec": {
   "display_name": "base",
   "language": "python",
   "name": "python3"
  },
  "language_info": {
   "codemirror_mode": {
    "name": "ipython",
    "version": 3
   },
   "file_extension": ".py",
   "mimetype": "text/x-python",
   "name": "python",
   "nbconvert_exporter": "python",
   "pygments_lexer": "ipython3",
   "version": "3.13.5"
  }
 },
 "nbformat": 4,
 "nbformat_minor": 2
}
