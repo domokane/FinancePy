{
 "cells": [
  {
   "cell_type": "markdown",
   "metadata": {},
   "source": [
    "# Creating and Valuing a CDS Index Option"
   ]
  },
  {
   "cell_type": "markdown",
   "metadata": {},
   "source": [
    "This notebook does the valuation of an option on a CDS index using Anderson's method and an Adjusted Black Method. For details see Modelling Singlename and Multiname Credit Derivatives by D.O'Kane."
   ]
  },
  {
   "cell_type": "code",
   "execution_count": 1,
   "metadata": {
    "execution": {
     "iopub.execute_input": "2025-08-27T22:30:06.120200Z",
     "iopub.status.busy": "2025-08-27T22:30:06.119985Z",
     "iopub.status.idle": "2025-08-27T22:30:06.611712Z",
     "shell.execute_reply": "2025-08-27T22:30:06.611196Z"
    }
   },
   "outputs": [],
   "source": [
    "import numpy as np\n",
    "import matplotlib.pyplot as plt"
   ]
  },
  {
   "cell_type": "code",
   "execution_count": 2,
   "metadata": {
    "execution": {
     "iopub.execute_input": "2025-08-27T22:30:06.614079Z",
     "iopub.status.busy": "2025-08-27T22:30:06.613770Z",
     "iopub.status.idle": "2025-08-27T22:30:09.385362Z",
     "shell.execute_reply": "2025-08-27T22:30:09.384745Z"
    }
   },
   "outputs": [],
   "source": [
    "from financepy.utils import *\n",
    "from financepy.products.rates import *\n",
    "from financepy.products.credit import *"
   ]
  },
  {
   "cell_type": "code",
   "execution_count": 3,
   "metadata": {
    "execution": {
     "iopub.execute_input": "2025-08-27T22:30:09.387735Z",
     "iopub.status.busy": "2025-08-27T22:30:09.387258Z",
     "iopub.status.idle": "2025-08-27T22:30:09.407113Z",
     "shell.execute_reply": "2025-08-27T22:30:09.406465Z"
    }
   },
   "outputs": [],
   "source": [
    "value_dt = Date(1, 8, 2007)\n",
    "step_in_dt = value_dt.add_weekdays(0)\n",
    "value_dt = step_in_dt\n",
    "settle_dt = step_in_dt"
   ]
  },
  {
   "cell_type": "markdown",
   "metadata": {},
   "source": [
    "## Build Libor Curve"
   ]
  },
  {
   "cell_type": "code",
   "execution_count": 4,
   "metadata": {
    "execution": {
     "iopub.execute_input": "2025-08-27T22:30:09.409508Z",
     "iopub.status.busy": "2025-08-27T22:30:09.409209Z",
     "iopub.status.idle": "2025-08-27T22:30:09.430441Z",
     "shell.execute_reply": "2025-08-27T22:30:09.429956Z"
    }
   },
   "outputs": [],
   "source": [
    "dc_type = DayCountTypes.THIRTY_E_360_ISDA\n",
    "depos = []\n",
    "depo = IborDeposit(settle_dt, \"1D\", 0.0500, dc_type); depos.append(depo)\n",
    "\n",
    "fixed_freq = FrequencyTypes.SEMI_ANNUAL\n",
    "swap_type = SwapTypes.PAY\n",
    "swap1 = IborSwap(settle_dt,\"1Y\",swap_type,0.0502,fixed_freq,dc_type)\n",
    "swap2 = IborSwap(settle_dt,\"2Y\",swap_type,0.0502,fixed_freq,dc_type)\n",
    "swap3 = IborSwap(settle_dt,\"3Y\",swap_type,0.0501,fixed_freq,dc_type)\n",
    "swap4 = IborSwap(settle_dt,\"4Y\",swap_type,0.0502,fixed_freq,dc_type)\n",
    "swap5 = IborSwap(settle_dt,\"5Y\",swap_type,0.0501,fixed_freq,dc_type)\n",
    "swaps = [swap1,swap2,swap3,swap4,swap5]\n",
    "\n",
    "libor_curve = IborSingleCurve(value_dt, depos, [], swaps)"
   ]
  },
  {
   "cell_type": "code",
   "execution_count": 5,
   "metadata": {
    "execution": {
     "iopub.execute_input": "2025-08-27T22:30:09.432546Z",
     "iopub.status.busy": "2025-08-27T22:30:09.432290Z",
     "iopub.status.idle": "2025-08-27T22:30:09.435210Z",
     "shell.execute_reply": "2025-08-27T22:30:09.434836Z"
    }
   },
   "outputs": [],
   "source": [
    "cdsmaturity_3yr = value_dt.next_cds_date(36)\n",
    "cdsmaturity_5yr = value_dt.next_cds_date(60)\n",
    "cdsmaturity_7yr = value_dt.next_cds_date(84)\n",
    "cdsmaturity_10yr = value_dt.next_cds_date(120)"
   ]
  },
  {
   "cell_type": "markdown",
   "metadata": {},
   "source": [
    "## Load the Underlying CDS Index Portfolio"
   ]
  },
  {
   "cell_type": "code",
   "execution_count": 6,
   "metadata": {
    "execution": {
     "iopub.execute_input": "2025-08-27T22:30:09.436948Z",
     "iopub.status.busy": "2025-08-27T22:30:09.436734Z",
     "iopub.status.idle": "2025-08-27T22:30:09.819632Z",
     "shell.execute_reply": "2025-08-27T22:30:09.819110Z"
    }
   },
   "outputs": [],
   "source": [
    "f = open('.//data//CDX_NA_IG_S7_SPREADS.csv', 'r')\n",
    "data = f.readlines()\n",
    "issuer_curves = []\n",
    "\n",
    "num_credits = len(data) - 1  # The file has a header\n",
    "\n",
    "for row in data[1:]:\n",
    "    splitRow = row.split(\",\")\n",
    "    creditName = splitRow[0]\n",
    "    spd3Y = float(splitRow[1]) / 10000.0\n",
    "    spd5Y = float(splitRow[2]) / 10000.0\n",
    "    spd7Y = float(splitRow[3]) / 10000.0\n",
    "    spd10Y = float(splitRow[4]) / 10000.0\n",
    "    recovery_rate = float(splitRow[5])\n",
    "\n",
    "    cds3Y = CDS(step_in_dt, cdsmaturity_3yr, spd3Y)\n",
    "    cds5Y = CDS(step_in_dt, cdsmaturity_5yr, spd5Y)\n",
    "    cds7Y = CDS(step_in_dt, cdsmaturity_7yr, spd7Y)\n",
    "    cds10Y = CDS(step_in_dt, cdsmaturity_10yr, spd10Y)\n",
    "    cds_contracts = [cds3Y, cds5Y, cds7Y, cds10Y]\n",
    "\n",
    "    issuer_curve = CDSCurve(value_dt, cds_contracts, libor_curve, recovery_rate)\n",
    "    issuer_curves.append(issuer_curve)"
   ]
  },
  {
   "cell_type": "markdown",
   "metadata": {},
   "source": [
    "## Term Structure of CDS Index Market"
   ]
  },
  {
   "cell_type": "markdown",
   "metadata": {},
   "source": [
    "We now set up the term structure of CDS Index trades and start by setting up the maturity dates of the index"
   ]
  },
  {
   "cell_type": "code",
   "execution_count": 7,
   "metadata": {
    "execution": {
     "iopub.execute_input": "2025-08-27T22:30:09.822285Z",
     "iopub.status.busy": "2025-08-27T22:30:09.821979Z",
     "iopub.status.idle": "2025-08-27T22:30:09.825293Z",
     "shell.execute_reply": "2025-08-27T22:30:09.824836Z"
    }
   },
   "outputs": [],
   "source": [
    "indexmaturity_3yr = Date(20,12,2009)\n",
    "indexmaturity_5yr = Date(20,12,2011)\n",
    "indexmaturity_7yr = Date(20,12,2013)\n",
    "indexmaturity_10yr = Date(20,12,2016)"
   ]
  },
  {
   "cell_type": "markdown",
   "metadata": {},
   "source": [
    "Now we set their upfronts and cpns"
   ]
  },
  {
   "cell_type": "code",
   "execution_count": 8,
   "metadata": {
    "execution": {
     "iopub.execute_input": "2025-08-27T22:30:09.827123Z",
     "iopub.status.busy": "2025-08-27T22:30:09.826790Z",
     "iopub.status.idle": "2025-08-27T22:30:09.829669Z",
     "shell.execute_reply": "2025-08-27T22:30:09.829039Z"
    }
   },
   "outputs": [],
   "source": [
    "index_upfronts = [0.0, 0.0, 0.0, 0.0]\n",
    "index_maturity_dts = [indexmaturity_3yr, indexmaturity_5yr, indexmaturity_7yr, indexmaturity_10yr]\n",
    "index_recovery = 0.40"
   ]
  },
  {
   "cell_type": "markdown",
   "metadata": {},
   "source": [
    "## Setting up the Index Option"
   ]
  },
  {
   "cell_type": "code",
   "execution_count": 9,
   "metadata": {
    "execution": {
     "iopub.execute_input": "2025-08-27T22:30:09.831754Z",
     "iopub.status.busy": "2025-08-27T22:30:09.831497Z",
     "iopub.status.idle": "2025-08-27T22:30:09.834214Z",
     "shell.execute_reply": "2025-08-27T22:30:09.833798Z"
    }
   },
   "outputs": [],
   "source": [
    "expiry_dt = Date(1,2,2008)\n",
    "maturity_dt = Date(20,12,2011)\n",
    "notional = 10000\n",
    "volatility = 0.50\n",
    "index_cpn = 0.004\n",
    "tolerance = 1e-6"
   ]
  },
  {
   "cell_type": "markdown",
   "metadata": {},
   "source": [
    "## Comparison of Anderson versus Adjusted Black Model"
   ]
  },
  {
   "cell_type": "code",
   "execution_count": 10,
   "metadata": {
    "execution": {
     "iopub.execute_input": "2025-08-27T22:30:09.835960Z",
     "iopub.status.busy": "2025-08-27T22:30:09.835761Z",
     "iopub.status.idle": "2025-08-27T22:30:45.768247Z",
     "shell.execute_reply": "2025-08-27T22:30:45.767837Z"
    }
   },
   "outputs": [
    {
     "name": "stdout",
     "output_type": "stream",
     "text": [
      "STRIKE    INDEX      PAY    RECEIVER      G(K)       X         EXPH       ABPAY       ABREC\n"
     ]
    },
    {
     "name": "stdout",
     "output_type": "stream",
     "text": [
      "20.000   20.000     16.090      6.237    -70.799      22.87     -60.70      16.12       6.15\n",
      "30.000   20.000      4.040     28.882    -35.287      22.85     -60.76       4.04      28.73\n",
      "40.000   20.000      0.885     60.202      0.000      22.83     -60.82       0.90      59.98\n",
      "50.000   20.000      0.188     93.764     35.064      22.82     -60.88       0.20      93.40\n",
      "60.000   20.000      0.043    127.661     69.907      22.80     -60.94       0.05     127.08\n"
     ]
    },
    {
     "name": "stdout",
     "output_type": "stream",
     "text": [
      "20.000   27.500     41.049      1.478    -70.799      31.48     -30.23      41.09       1.40\n",
      "30.000   27.500     17.502     12.604    -35.287      31.46     -30.27      17.50      12.50\n",
      "40.000   27.500      6.329     35.885      0.000      31.45     -30.30       6.36      35.77\n",
      "50.000   27.500      2.129     65.921     35.064      31.44     -30.34       2.16      65.71\n",
      "60.000   27.500      0.681     98.493     69.907      31.43     -30.38       0.73      98.13\n"
     ]
    },
    {
     "name": "stdout",
     "output_type": "stream",
     "text": [
      "20.000   35.000     69.457      0.326    -70.799      40.09       0.08      69.55       0.30\n",
      "30.000   35.000     39.405      4.926    -35.287      40.09       0.06      39.41       4.86\n",
      "40.000   35.000     19.329     19.281      0.000      40.09       0.05      19.37      19.26\n",
      "50.000   35.000      8.600     42.767     35.064      40.08       0.03       8.74      42.79\n",
      "60.000   35.000      3.710     71.874     69.907      40.08       0.02       3.78      71.71\n"
     ]
    },
    {
     "name": "stdout",
     "output_type": "stream",
     "text": [
      "20.000   42.500     98.611      0.077    -70.799      48.72      30.23      98.72       0.07\n",
      "30.000   42.500     65.726      1.821    -35.287      48.72      30.23      65.72       1.80\n",
      "40.000   42.500     39.166      9.672      0.000      48.73      30.24      39.16       9.69\n",
      "50.000   42.500     21.398     26.096     35.064      48.73      30.25      21.45      26.16\n",
      "60.000   42.500     11.006     49.680     69.907      48.73      30.25      11.15      49.76\n"
     ]
    },
    {
     "name": "stdout",
     "output_type": "stream",
     "text": [
      "20.000   50.000    127.829      0.018    -70.799      57.37      60.24     127.92       0.01\n",
      "30.000   50.000     93.877      0.674    -35.287      57.38      60.27      93.80       0.65\n",
      "40.000   50.000     63.489      4.675      0.000      57.39      60.30      63.37       4.69\n",
      "50.000   50.000     39.749     15.105     35.064      57.39      60.33      39.77      15.29\n",
      "60.000   50.000     23.589     32.900     69.907      57.40      60.36      23.65      33.10\n"
     ]
    }
   ],
   "source": [
    "print(\"STRIKE    INDEX      PAY    RECEIVER      G(K)       X         EXPH       ABPAY       ABREC\")\n",
    "\n",
    "for index in np.linspace(20, 50, 5):\n",
    "\n",
    "    # Create a flat CDS index curve\n",
    "    cds_contracts = []\n",
    "    for dt in index_maturity_dts:\n",
    "        cds = CDS(value_dt, dt, index / 10000.0)\n",
    "        cds_contracts.append(cds)\n",
    "\n",
    "    # Build the flat CDS index curve\n",
    "    index_curve = CDSCurve(value_dt, cds_contracts, libor_curve, index_recovery)\n",
    "\n",
    "    # Now we need to set up the underlying curves and adjust them\n",
    "    indexSpreads = [index / 10000.0] * 4\n",
    "\n",
    "    indexPortfolio = CDSIndexPortfolio()\n",
    "    adjustedIssuerCurves = indexPortfolio.hazard_rate_adjust_intrinsic(value_dt,\n",
    "                                                                    issuer_curves,\n",
    "                                                                    indexSpreads,\n",
    "                                                                    index_upfronts,\n",
    "                                                                    index_maturity_dts,\n",
    "                                                                    index_recovery,\n",
    "                                                                    tolerance)\n",
    "\n",
    "    for strike in np.linspace(20, 60, 5):\n",
    "\n",
    "        option = CDSIndexOption(expiry_dt,\n",
    "                                   maturity_dt,\n",
    "                                   index_cpn,\n",
    "                                   strike / 10000.0,\n",
    "                                   notional)\n",
    "\n",
    "        v_pay_1, v_rec_1, strike_value, mu, expH = option.value_anderson(value_dt,\n",
    "                                                                       adjustedIssuerCurves,\n",
    "                                                                       index_recovery,\n",
    "                                                                       volatility)\n",
    "\n",
    "        v_pay_2, v_rec_2 = option.value_adjusted_black(value_dt,\n",
    "                                                     index_curve,\n",
    "                                                     index_recovery,\n",
    "                                                     libor_curve,\n",
    "                                                     volatility)\n",
    "\n",
    "        print(\"%6.3f   %6.3f   %8.3f   %8.3f   %8.3f   %8.2f   %8.2f   %8.2f   %8.2f\" %\n",
    "              (strike, index, v_pay_1, v_rec_1, strike_value, mu, expH, v_pay_2, v_rec_2 ))"
   ]
  },
  {
   "cell_type": "code",
   "execution_count": 11,
   "metadata": {
    "execution": {
     "iopub.execute_input": "2025-08-27T22:30:45.770064Z",
     "iopub.status.busy": "2025-08-27T22:30:45.769830Z",
     "iopub.status.idle": "2025-08-27T22:30:45.772942Z",
     "shell.execute_reply": "2025-08-27T22:30:45.772496Z"
    }
   },
   "outputs": [
    {
     "name": "stdout",
     "output_type": "stream",
     "text": [
      "OBJECT TYPE: CDSIndexOption\n",
      "EXPIRY DATE: 01-FEB-2008\n",
      "MATURITY DATE: 20-DEC-2011\n",
      "INDEX cpn: 40.0bp\n",
      "NOTIONAL: 10000\n",
      "LONG PROTECTION: True\n",
      "FREQUENCY: FrequencyTypes.QUARTERLY\n",
      "DAYCOUNT: DayCountTypes.ACT_360\n",
      "CALENDAR: CalendarTypes.WEEKEND\n",
      "BUSDAYRULE: BusDayAdjustTypes.FOLLOWING\n",
      "DATEGENRULE: DateGenRuleTypes.BACKWARD\n",
      "\n"
     ]
    }
   ],
   "source": [
    "print(option)"
   ]
  },
  {
   "cell_type": "markdown",
   "metadata": {},
   "source": [
    "Copyright (c) 2020 Dominic O'Kane"
   ]
  }
 ],
 "metadata": {
  "kernelspec": {
   "display_name": "base",
   "language": "python",
   "name": "python3"
  },
  "language_info": {
   "codemirror_mode": {
    "name": "ipython",
    "version": 3
   },
   "file_extension": ".py",
   "mimetype": "text/x-python",
   "name": "python",
   "nbconvert_exporter": "python",
   "pygments_lexer": "ipython3",
   "version": "3.13.5"
  }
 },
 "nbformat": 4,
 "nbformat_minor": 2
}
