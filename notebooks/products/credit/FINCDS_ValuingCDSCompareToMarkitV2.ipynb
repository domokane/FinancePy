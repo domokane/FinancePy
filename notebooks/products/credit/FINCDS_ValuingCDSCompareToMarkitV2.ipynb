{
 "cells": [
  {
   "attachments": {},
   "cell_type": "markdown",
   "metadata": {},
   "source": [
    "# Creating and Valuing a CDS Contract vs Markit"
   ]
  },
  {
   "attachments": {},
   "cell_type": "markdown",
   "metadata": {},
   "source": [
    "Example CDS Valuation and comparison with market standard ISDA model on Markit website"
   ]
  },
  {
   "cell_type": "code",
   "execution_count": 1,
   "metadata": {
    "execution": {
     "iopub.execute_input": "2025-09-14T22:21:55.007825Z",
     "iopub.status.busy": "2025-09-14T22:21:55.007648Z",
     "iopub.status.idle": "2025-09-14T22:21:55.268437Z",
     "shell.execute_reply": "2025-09-14T22:21:55.267787Z"
    }
   },
   "outputs": [],
   "source": [
    "import numpy as np\n",
    "import matplotlib.pyplot as plt"
   ]
  },
  {
   "cell_type": "code",
   "execution_count": 2,
   "metadata": {
    "execution": {
     "iopub.execute_input": "2025-09-14T22:21:55.271700Z",
     "iopub.status.busy": "2025-09-14T22:21:55.271187Z",
     "iopub.status.idle": "2025-09-14T22:21:56.913495Z",
     "shell.execute_reply": "2025-09-14T22:21:56.912779Z"
    }
   },
   "outputs": [],
   "source": [
    "from financepy.utils import *\n",
    "from financepy.products.rates import *\n",
    "from financepy.products.credit import *"
   ]
  },
  {
   "attachments": {},
   "cell_type": "markdown",
   "metadata": {},
   "source": [
    "## Creating a CDS Contract"
   ]
  },
  {
   "attachments": {},
   "cell_type": "markdown",
   "metadata": {},
   "source": [
    "This based on an example from Markit's CDS calculator website https://www.markit.com/markit.jsp?jsppage=pv.jsp"
   ]
  },
  {
   "cell_type": "code",
   "execution_count": 3,
   "metadata": {
    "execution": {
     "iopub.execute_input": "2025-09-14T22:21:56.916450Z",
     "iopub.status.busy": "2025-09-14T22:21:56.915921Z",
     "iopub.status.idle": "2025-09-14T22:21:56.940129Z",
     "shell.execute_reply": "2025-09-14T22:21:56.939770Z"
    }
   },
   "outputs": [],
   "source": [
    "value_dt = Date(21, 11, 2019)\n",
    "settle_dt = value_dt.add_days(1)\n",
    "maturity_dt = Date(20, 12, 2024)\n",
    "cds_cpn = 0.050\n",
    "notional = ONE_MILLION\n",
    "long_protection = True\n",
    "trade_dt = Date(9, 8, 2019)"
   ]
  },
  {
   "cell_type": "code",
   "execution_count": 4,
   "metadata": {
    "execution": {
     "iopub.execute_input": "2025-09-14T22:21:56.942392Z",
     "iopub.status.busy": "2025-09-14T22:21:56.942244Z",
     "iopub.status.idle": "2025-09-14T22:21:56.944759Z",
     "shell.execute_reply": "2025-09-14T22:21:56.944482Z"
    }
   },
   "outputs": [],
   "source": [
    "cds_contract = CDS(settle_dt, maturity_dt, cds_cpn, notional, long_protection)"
   ]
  },
  {
   "cell_type": "code",
   "execution_count": 5,
   "metadata": {
    "execution": {
     "iopub.execute_input": "2025-09-14T22:21:56.946935Z",
     "iopub.status.busy": "2025-09-14T22:21:56.946781Z",
     "iopub.status.idle": "2025-09-14T22:21:56.950204Z",
     "shell.execute_reply": "2025-09-14T22:21:56.949922Z"
    }
   },
   "outputs": [
    {
     "name": "stdout",
     "output_type": "stream",
     "text": [
      "OBJECT TYPE: CDS\n",
      "STEP-IN DATE: 22-NOV-2019\n",
      "MATURITY: 20-DEC-2024\n",
      "NOTIONAL: 1000000\n",
      "RUN COUPON: 500.0bp\n",
      "DAYCOUNT: DayCountTypes.ACT_360\n",
      "FREQUENCY: FrequencyTypes.QUARTERLY\n",
      "CALENDAR: CalendarTypes.WEEKEND\n",
      "BUSDAYRULE: BusDayAdjustTypes.FOLLOWING\n",
      "DATEGENRULE: DateGenRuleTypes.BACKWARD\n",
      "ACCRUED DAYS: 63.0\n",
      "PAYMENT_dt, YEAR_FRAC, ACCRUAL_START, ACCRUAL_END, FLOW\n",
      "20-DEC-2019,     0.252778, 20-SEP-2019, 19-DEC-2019, 12638.888889\n",
      "20-MAR-2020,     0.252778, 20-DEC-2019, 19-MAR-2020, 12638.888889\n",
      "22-JUN-2020,     0.261111, 20-MAR-2020, 21-JUN-2020, 13055.555556\n",
      "21-SEP-2020,     0.252778, 22-JUN-2020, 20-SEP-2020, 12638.888889\n",
      "21-DEC-2020,     0.252778, 21-SEP-2020, 20-DEC-2020, 12638.888889\n",
      "22-MAR-2021,     0.252778, 21-DEC-2020, 21-MAR-2021, 12638.888889\n",
      "21-JUN-2021,     0.252778, 22-MAR-2021, 20-JUN-2021, 12638.888889\n",
      "20-SEP-2021,     0.252778, 21-JUN-2021, 19-SEP-2021, 12638.888889\n",
      "20-DEC-2021,     0.252778, 20-SEP-2021, 19-DEC-2021, 12638.888889\n",
      "21-MAR-2022,     0.252778, 20-DEC-2021, 20-MAR-2022, 12638.888889\n",
      "20-JUN-2022,     0.252778, 21-MAR-2022, 19-JUN-2022, 12638.888889\n",
      "20-SEP-2022,     0.255556, 20-JUN-2022, 19-SEP-2022, 12777.777778\n",
      "20-DEC-2022,     0.252778, 20-SEP-2022, 19-DEC-2022, 12638.888889\n",
      "20-MAR-2023,     0.250000, 20-DEC-2022, 19-MAR-2023, 12500.000000\n",
      "20-JUN-2023,     0.255556, 20-MAR-2023, 19-JUN-2023, 12777.777778\n",
      "20-SEP-2023,     0.255556, 20-JUN-2023, 19-SEP-2023, 12777.777778\n",
      "20-DEC-2023,     0.252778, 20-SEP-2023, 19-DEC-2023, 12638.888889\n",
      "20-MAR-2024,     0.252778, 20-DEC-2023, 19-MAR-2024, 12638.888889\n",
      "20-JUN-2024,     0.255556, 20-MAR-2024, 19-JUN-2024, 12777.777778\n",
      "20-SEP-2024,     0.255556, 20-JUN-2024, 19-SEP-2024, 12777.777778\n",
      "20-DEC-2024,     0.255556, 20-SEP-2024, 20-DEC-2024, 12777.777778\n"
     ]
    }
   ],
   "source": [
    "print(cds_contract)"
   ]
  },
  {
   "attachments": {},
   "cell_type": "markdown",
   "metadata": {},
   "source": [
    "## Build Ibor Curve"
   ]
  },
  {
   "cell_type": "code",
   "execution_count": 6,
   "metadata": {
    "execution": {
     "iopub.execute_input": "2025-09-14T22:21:56.951742Z",
     "iopub.status.busy": "2025-09-14T22:21:56.951635Z",
     "iopub.status.idle": "2025-09-14T22:21:56.973805Z",
     "shell.execute_reply": "2025-09-14T22:21:56.973376Z"
    }
   },
   "outputs": [],
   "source": [
    "dc_type = DayCountTypes.ACT_360\n",
    "depo1 = IborDeposit(settle_dt, \"1M\", 0.017156, dc_type)\n",
    "depo2 = IborDeposit(settle_dt, \"2M\", 0.018335, dc_type)\n",
    "depo3 = IborDeposit(settle_dt, \"3M\", 0.018988, dc_type)\n",
    "depo4 = IborDeposit(settle_dt, \"6M\", 0.018911, dc_type)\n",
    "depo5 = IborDeposit(settle_dt, \"12M\", 0.019093, dc_type)\n",
    "depos = [depo1,depo2,depo3,depo4,depo5]\n",
    "\n",
    "swap_type = SwapTypes.PAY\n",
    "dc_type = DayCountTypes.THIRTY_E_360_ISDA\n",
    "fixed_freq = FrequencyTypes.SEMI_ANNUAL\n",
    "swap1 = IborSwap(settle_dt,\"2Y\",swap_type,0.015630,fixed_freq,dc_type)\n",
    "swap2 = IborSwap(settle_dt,\"3Y\",swap_type,0.015140,fixed_freq,dc_type)\n",
    "swap3 = IborSwap(settle_dt,\"4Y\",swap_type,0.015065,fixed_freq,dc_type)\n",
    "swap4 = IborSwap(settle_dt,\"5Y\",swap_type,0.015140,fixed_freq,dc_type)\n",
    "swap5 = IborSwap(settle_dt,\"6Y\",swap_type,0.015270,fixed_freq,dc_type)\n",
    "swap6 = IborSwap(settle_dt,\"7Y\",swap_type,0.015470,fixed_freq,dc_type)\n",
    "swap7 = IborSwap(settle_dt,\"8Y\",swap_type,0.015720,fixed_freq,dc_type)\n",
    "swap8 = IborSwap(settle_dt,\"9Y\",swap_type,0.016000,fixed_freq,dc_type)\n",
    "swap9 = IborSwap(settle_dt,\"10Y\",swap_type,0.016285,fixed_freq,dc_type)\n",
    "swap10 = IborSwap(settle_dt,\"12Y\",swap_type,0.01670,fixed_freq,dc_type)\n",
    "swaps = [swap1,swap2,swap3,swap4,swap5,swap6,swap7,swap8,swap9,swap10]\n",
    "\n",
    "libor_curve = IborSingleCurve(value_dt, depos, [], swaps)"
   ]
  },
  {
   "attachments": {},
   "cell_type": "markdown",
   "metadata": {},
   "source": [
    "# Build a CDS Curve"
   ]
  },
  {
   "cell_type": "code",
   "execution_count": 7,
   "metadata": {
    "execution": {
     "iopub.execute_input": "2025-09-14T22:21:56.976226Z",
     "iopub.status.busy": "2025-09-14T22:21:56.976089Z",
     "iopub.status.idle": "2025-09-14T22:21:56.979064Z",
     "shell.execute_reply": "2025-09-14T22:21:56.978733Z"
    }
   },
   "outputs": [],
   "source": [
    "cdsFlatSpread = 0.0100"
   ]
  },
  {
   "cell_type": "code",
   "execution_count": 8,
   "metadata": {
    "execution": {
     "iopub.execute_input": "2025-09-14T22:21:56.980607Z",
     "iopub.status.busy": "2025-09-14T22:21:56.980461Z",
     "iopub.status.idle": "2025-09-14T22:21:56.984159Z",
     "shell.execute_reply": "2025-09-14T22:21:56.983655Z"
    }
   },
   "outputs": [],
   "source": [
    "cds1 = CDS(settle_dt, \"1Y\", cdsFlatSpread)\n",
    "cds2 = CDS(settle_dt, \"2Y\", cdsFlatSpread)\n",
    "cds3 = CDS(settle_dt, \"3Y\", cdsFlatSpread)\n",
    "cds4 = CDS(settle_dt, \"4Y\", cdsFlatSpread)\n",
    "cds5 = CDS(settle_dt, \"5Y\", cdsFlatSpread)\n",
    "cds6 = CDS(settle_dt, \"7Y\", cdsFlatSpread)\n",
    "cds7 = CDS(settle_dt, \"10Y\", cdsFlatSpread)\n",
    "cds8 = CDS(settle_dt, \"15Y\", cdsFlatSpread)"
   ]
  },
  {
   "cell_type": "code",
   "execution_count": 9,
   "metadata": {
    "execution": {
     "iopub.execute_input": "2025-09-14T22:21:56.985984Z",
     "iopub.status.busy": "2025-09-14T22:21:56.985874Z",
     "iopub.status.idle": "2025-09-14T22:21:56.987867Z",
     "shell.execute_reply": "2025-09-14T22:21:56.987644Z"
    }
   },
   "outputs": [],
   "source": [
    "cdss = [cds1, cds2, cds3, cds4, cds5, cds6, cds7, cds8]"
   ]
  },
  {
   "cell_type": "code",
   "execution_count": 10,
   "metadata": {
    "execution": {
     "iopub.execute_input": "2025-09-14T22:21:56.989468Z",
     "iopub.status.busy": "2025-09-14T22:21:56.989331Z",
     "iopub.status.idle": "2025-09-14T22:21:56.991428Z",
     "shell.execute_reply": "2025-09-14T22:21:56.990762Z"
    }
   },
   "outputs": [],
   "source": [
    "recovery_rate = 0.40"
   ]
  },
  {
   "cell_type": "code",
   "execution_count": 11,
   "metadata": {
    "execution": {
     "iopub.execute_input": "2025-09-14T22:21:56.992797Z",
     "iopub.status.busy": "2025-09-14T22:21:56.992664Z",
     "iopub.status.idle": "2025-09-14T22:21:56.996092Z",
     "shell.execute_reply": "2025-09-14T22:21:56.995769Z"
    }
   },
   "outputs": [],
   "source": [
    "issuer_curve = CDSCurve(value_dt, cdss, libor_curve, recovery_rate)"
   ]
  },
  {
   "attachments": {},
   "cell_type": "markdown",
   "metadata": {},
   "source": [
    "# Valuation Results"
   ]
  },
  {
   "cell_type": "code",
   "execution_count": 12,
   "metadata": {
    "execution": {
     "iopub.execute_input": "2025-09-14T22:21:56.997990Z",
     "iopub.status.busy": "2025-09-14T22:21:56.997876Z",
     "iopub.status.idle": "2025-09-14T22:21:57.000176Z",
     "shell.execute_reply": "2025-09-14T22:21:56.999939Z"
    }
   },
   "outputs": [
    {
     "name": "stdout",
     "output_type": "stream",
     "text": [
      "FAIR CDS SPREAD  100.00000 bp\n"
     ]
    }
   ],
   "source": [
    "spd = cds_contract.par_spread(value_dt, issuer_curve, recovery_rate) * 10000.0\n",
    "print(\"FAIR CDS SPREAD %10.5f bp\"% spd)"
   ]
  },
  {
   "cell_type": "code",
   "execution_count": 13,
   "metadata": {
    "execution": {
     "iopub.execute_input": "2025-09-14T22:21:57.001400Z",
     "iopub.status.busy": "2025-09-14T22:21:57.001262Z",
     "iopub.status.idle": "2025-09-14T22:21:57.003308Z",
     "shell.execute_reply": "2025-09-14T22:21:57.003083Z"
    }
   },
   "outputs": [
    {
     "name": "stdout",
     "output_type": "stream",
     "text": [
      "DIRTY VALUE   -198527.95\n",
      "CLEAN VALUE   -189777.95\n"
     ]
    }
   ],
   "source": [
    "v = cds_contract.value(value_dt, issuer_curve, recovery_rate)\n",
    "dirty_pv = v['dirty_pv']\n",
    "clean_pv = v['clean_pv']\n",
    "\n",
    "print(\"DIRTY VALUE %12.2f\"% dirty_pv)\n",
    "print(\"CLEAN VALUE %12.2f\"% clean_pv)"
   ]
  },
  {
   "attachments": {},
   "cell_type": "markdown",
   "metadata": {},
   "source": [
    "MARKIT CALCULATE -198,551 for the DIRTY VALUE"
   ]
  },
  {
   "cell_type": "code",
   "execution_count": 14,
   "metadata": {
    "execution": {
     "iopub.execute_input": "2025-09-14T22:21:57.004429Z",
     "iopub.status.busy": "2025-09-14T22:21:57.004291Z",
     "iopub.status.idle": "2025-09-14T22:21:57.006241Z",
     "shell.execute_reply": "2025-09-14T22:21:57.006017Z"
    }
   },
   "outputs": [
    {
     "name": "stdout",
     "output_type": "stream",
     "text": [
      "CLEAN PRICE   118.979525\n"
     ]
    }
   ],
   "source": [
    "cleanp = cds_contract.clean_price(settle_dt, issuer_curve, recovery_rate)\n",
    "print(\"CLEAN PRICE %12.6f\"% cleanp)"
   ]
  },
  {
   "attachments": {},
   "cell_type": "markdown",
   "metadata": {},
   "source": [
    "MARKIT CALCULATE 118.98%"
   ]
  },
  {
   "cell_type": "code",
   "execution_count": 15,
   "metadata": {
    "execution": {
     "iopub.execute_input": "2025-09-14T22:21:57.008683Z",
     "iopub.status.busy": "2025-09-14T22:21:57.008380Z",
     "iopub.status.idle": "2025-09-14T22:21:57.010531Z",
     "shell.execute_reply": "2025-09-14T22:21:57.010287Z"
    }
   },
   "outputs": [
    {
     "name": "stdout",
     "output_type": "stream",
     "text": [
      "ACCRUED_DAYS 63.0\n"
     ]
    }
   ],
   "source": [
    "accrued_days = cds_contract.accrued_days()\n",
    "print(\"ACCRUED_DAYS\", accrued_days)"
   ]
  },
  {
   "attachments": {},
   "cell_type": "markdown",
   "metadata": {},
   "source": [
    "MARKIT CALCULATE 63"
   ]
  },
  {
   "cell_type": "code",
   "execution_count": 16,
   "metadata": {
    "execution": {
     "iopub.execute_input": "2025-09-14T22:21:57.011963Z",
     "iopub.status.busy": "2025-09-14T22:21:57.011831Z",
     "iopub.status.idle": "2025-09-14T22:21:57.014790Z",
     "shell.execute_reply": "2025-09-14T22:21:57.014469Z"
    }
   },
   "outputs": [
    {
     "name": "stdout",
     "output_type": "stream",
     "text": [
      "ACCRUED_COUPON -8750.0\n"
     ]
    }
   ],
   "source": [
    "accrued_interest = cds_contract.accrued_interest()\n",
    "print(\"ACCRUED_COUPON\", accrued_interest)"
   ]
  },
  {
   "attachments": {},
   "cell_type": "markdown",
   "metadata": {},
   "source": [
    "MARKIT CALCULATE 8750"
   ]
  },
  {
   "cell_type": "code",
   "execution_count": 17,
   "metadata": {
    "execution": {
     "iopub.execute_input": "2025-09-14T22:21:57.016074Z",
     "iopub.status.busy": "2025-09-14T22:21:57.015928Z",
     "iopub.status.idle": "2025-09-14T22:21:57.017872Z",
     "shell.execute_reply": "2025-09-14T22:21:57.017663Z"
    }
   },
   "outputs": [
    {
     "name": "stdout",
     "output_type": "stream",
     "text": [
      "prot_PV 47448.7007624235\n"
     ]
    }
   ],
   "source": [
    "prot_pv = cds_contract.prot_leg_pv(settle_dt, issuer_curve, recovery_rate)\n",
    "print(\"prot_PV\", prot_pv)"
   ]
  },
  {
   "cell_type": "code",
   "execution_count": 18,
   "metadata": {
    "execution": {
     "iopub.execute_input": "2025-09-14T22:21:57.019897Z",
     "iopub.status.busy": "2025-09-14T22:21:57.019768Z",
     "iopub.status.idle": "2025-09-14T22:21:57.021891Z",
     "shell.execute_reply": "2025-09-14T22:21:57.021667Z"
    }
   },
   "outputs": [
    {
     "name": "stdout",
     "output_type": "stream",
     "text": [
      "PREMIUM_PV 245993.94714388327\n"
     ]
    }
   ],
   "source": [
    "premPV = cds_contract.premium_leg_pv(settle_dt, issuer_curve, recovery_rate)\n",
    "print(\"PREMIUM_PV\", premPV)"
   ]
  },
  {
   "attachments": {},
   "cell_type": "markdown",
   "metadata": {},
   "source": [
    "## Risk Measures"
   ]
  },
  {
   "cell_type": "code",
   "execution_count": 19,
   "metadata": {
    "execution": {
     "iopub.execute_input": "2025-09-14T22:21:57.022942Z",
     "iopub.status.busy": "2025-09-14T22:21:57.022818Z",
     "iopub.status.idle": "2025-09-14T22:21:57.030972Z",
     "shell.execute_reply": "2025-09-14T22:21:57.030776Z"
    }
   },
   "outputs": [
    {
     "name": "stdout",
     "output_type": "stream",
     "text": [
      "Credit DV01        553.56\n"
     ]
    }
   ],
   "source": [
    "credit_dv01 = cds_contract.credit_dv01(settle_dt, issuer_curve, recovery_rate)\n",
    "print(\"Credit DV01  %12.2f\"% credit_dv01)"
   ]
  },
  {
   "attachments": {},
   "cell_type": "markdown",
   "metadata": {},
   "source": [
    "MARKIT FOUND 554"
   ]
  },
  {
   "cell_type": "code",
   "execution_count": 20,
   "metadata": {
    "execution": {
     "iopub.execute_input": "2025-09-14T22:21:57.032149Z",
     "iopub.status.busy": "2025-09-14T22:21:57.032006Z",
     "iopub.status.idle": "2025-09-14T22:21:57.055633Z",
     "shell.execute_reply": "2025-09-14T22:21:57.055113Z"
    }
   },
   "outputs": [
    {
     "name": "stdout",
     "output_type": "stream",
     "text": [
      "Interest DV01         48.85\n"
     ]
    }
   ],
   "source": [
    "interest_dv01 = cds_contract.interest_dv01(settle_dt, issuer_curve, recovery_rate)\n",
    "print(\"Interest DV01  %12.2f\"% interest_dv01)"
   ]
  },
  {
   "attachments": {},
   "cell_type": "markdown",
   "metadata": {},
   "source": [
    "MARKIT FOUND 49"
   ]
  },
  {
   "attachments": {},
   "cell_type": "markdown",
   "metadata": {},
   "source": [
    "## Full Analysis "
   ]
  },
  {
   "cell_type": "code",
   "execution_count": 21,
   "metadata": {
    "execution": {
     "iopub.execute_input": "2025-09-14T22:21:57.058818Z",
     "iopub.status.busy": "2025-09-14T22:21:57.058498Z",
     "iopub.status.idle": "2025-09-14T22:21:57.061329Z",
     "shell.execute_reply": "2025-09-14T22:21:57.061076Z"
    }
   },
   "outputs": [
    {
     "name": "stdout",
     "output_type": "stream",
     "text": [
      "PAYMENT_dt      YEAR_FRAC      FLOW           DF       SURV_PROB      NPV\n",
      "    20-DEC-2019   0.252778     12638.89     0.998620     0.998658     12604.51\n",
      "    20-MAR-2020   0.252778     12638.89     0.993728     0.994460     12490.03\n",
      "    22-JUN-2020   0.261111     13055.56     0.988864     0.990141     12782.88\n",
      "    21-SEP-2020   0.252778     12638.89     0.984127     0.985978     12263.86\n",
      "    21-DEC-2020   0.252778     12638.89     0.979968     0.981833     12160.69\n",
      "    22-MAR-2021   0.252778     12638.89     0.977072     0.977711     12073.86\n",
      "    21-JUN-2021   0.252778     12638.89     0.974185     0.973608     11987.65\n",
      "    20-SEP-2021   0.252778     12638.89     0.971306     0.969521     11902.06\n",
      "    20-DEC-2021   0.252778     12638.89     0.968270     0.965451     11815.05\n",
      "    21-MAR-2022   0.252778     12638.89     0.964873     0.961400     11724.20\n",
      "    20-JUN-2022   0.252778     12638.89     0.961488     0.957366     11634.04\n",
      "    20-SEP-2022   0.255556     12777.78     0.958078     0.953304     11670.45\n",
      "    20-DEC-2022   0.252778     12638.89     0.954666     0.949304     11454.23\n",
      "    20-MAR-2023   0.250000     12500.00     0.951193     0.945364     11240.30\n",
      "    20-JUN-2023   0.255556     12777.78     0.947656     0.941354     11398.80\n",
      "    20-SEP-2023   0.255556     12777.78     0.944132     0.937361     11308.23\n",
      "    20-DEC-2023   0.252778     12638.89     0.940615     0.933428     11096.90\n",
      "    20-MAR-2024   0.252778     12638.89     0.937013     0.929511     11008.02\n",
      "    20-JUN-2024   0.255556     12777.78     0.933386     0.925569     11038.88\n",
      "    20-SEP-2024   0.255556     12777.78     0.929772     0.921643     10949.51\n",
      "    20-DEC-2024   0.255556     12777.78     0.926176     0.917776     10861.39\n"
     ]
    }
   ],
   "source": [
    "cds_contract.print_payments(value_dt, issuer_curve)"
   ]
  },
  {
   "cell_type": "code",
   "execution_count": null,
   "metadata": {},
   "outputs": [],
   "source": []
  }
 ],
 "metadata": {
  "kernelspec": {
   "display_name": "base",
   "language": "python",
   "name": "python3"
  },
  "language_info": {
   "codemirror_mode": {
    "name": "ipython",
    "version": 3
   },
   "file_extension": ".py",
   "mimetype": "text/x-python",
   "name": "python",
   "nbconvert_exporter": "python",
   "pygments_lexer": "ipython3",
   "version": "3.13.7"
  }
 },
 "nbformat": 4,
 "nbformat_minor": 2
}
