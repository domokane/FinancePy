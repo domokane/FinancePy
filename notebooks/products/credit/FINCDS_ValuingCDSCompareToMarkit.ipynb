{
    "cells": [
        {
            "cell_type": "markdown",
            "metadata": {},
            "source": [
                "# Creating and Valuing a CDS Contract vs Markit"
            ]
        },
        {
            "cell_type": "markdown",
            "metadata": {},
            "source": [
                "Example CDS Valuation and comparison with market standard ISDA model on Markit website"
            ]
        },
        {
            "cell_type": "code",
            "execution_count": 1,
            "metadata": {
                "execution": {
                    "iopub.execute_input": "2024-04-30T20:01:52.208473Z",
                    "iopub.status.busy": "2024-04-30T20:01:52.206479Z",
                    "iopub.status.idle": "2024-04-30T20:01:52.795211Z",
                    "shell.execute_reply": "2024-04-30T20:01:52.795211Z"
                }
            },
            "outputs": [],
            "source": [
                "import numpy as np\n",
                "import matplotlib.pyplot as plt"
            ]
        },
        {
            "cell_type": "code",
            "execution_count": 2,
            "metadata": {
                "execution": {
                    "iopub.execute_input": "2024-04-30T20:01:52.798497Z",
                    "iopub.status.busy": "2024-04-30T20:01:52.797470Z",
                    "iopub.status.idle": "2024-04-30T20:01:55.079013Z",
                    "shell.execute_reply": "2024-04-30T20:01:55.079013Z"
                }
            },
            "outputs": [
                {
                    "name": "stdout",
                    "output_type": "stream",
                    "text": [
                        "####################################################################\n",
                        "#  FINANCEPY BETA Version 0.350 - This build: 30 Apr 2024 at 21:20 #\n",
                        "#     This software is distributed FREE AND WITHOUT ANY WARRANTY   #\n",
                        "#  Report bugs as issues at https://github.com/domokane/FinancePy  #\n",
                        "####################################################################\n",
                        "\n"
                    ]
                }
            ],
            "source": [
                "from financepy.utils import *\n",
                "from financepy.products.rates import *\n",
                "from financepy.products.credit import *"
            ]
        },
        {
            "cell_type": "markdown",
            "metadata": {},
            "source": [
                "## Creating a CDS Contract"
            ]
        },
        {
            "cell_type": "markdown",
            "metadata": {},
            "source": [
                "This based on an example from Markit's CDS calculator website https://www.markit.com/markit.jsp?jsppage=pv.jsp"
            ]
        },
        {
            "cell_type": "code",
            "execution_count": 3,
            "metadata": {
                "execution": {
                    "iopub.execute_input": "2024-04-30T20:01:55.082648Z",
                    "iopub.status.busy": "2024-04-30T20:01:55.081650Z",
                    "iopub.status.idle": "2024-04-30T20:01:55.107055Z",
                    "shell.execute_reply": "2024-04-30T20:01:55.107055Z"
                }
            },
            "outputs": [],
            "source": [
                "value_dt = Date(21, 11, 2019)\n",
                "settle_dt = value_dt.add_days(1)\n",
                "maturity_dt = Date(20, 12, 2024)\n",
                "cds_cpn = 0.050\n",
                "notional = ONE_MILLION\n",
                "long_protection = True\n",
                "trade_dt = Date(9, 8, 2019)"
            ]
        },
        {
            "cell_type": "code",
            "execution_count": 4,
            "metadata": {
                "execution": {
                    "iopub.execute_input": "2024-04-30T20:01:55.110090Z",
                    "iopub.status.busy": "2024-04-30T20:01:55.109081Z",
                    "iopub.status.idle": "2024-04-30T20:01:55.113674Z",
                    "shell.execute_reply": "2024-04-30T20:01:55.113674Z"
                }
            },
            "outputs": [],
            "source": [
                "cds_contract = CDS(settle_dt, maturity_dt, cds_cpn, notional, long_protection)"
            ]
        },
        {
            "cell_type": "code",
            "execution_count": 5,
            "metadata": {
                "execution": {
                    "iopub.execute_input": "2024-04-30T20:01:55.116026Z",
                    "iopub.status.busy": "2024-04-30T20:01:55.116026Z",
                    "iopub.status.idle": "2024-04-30T20:01:55.119861Z",
                    "shell.execute_reply": "2024-04-30T20:01:55.119621Z"
                }
            },
            "outputs": [
                {
                    "name": "stdout",
                    "output_type": "stream",
                    "text": [
                        "OBJECT TYPE: CDS\n",
                        "STEP-IN DATE: 22-NOV-2019\n",
                        "MATURITY: 20-DEC-2024\n",
                        "NOTIONAL: 1000000\n",
                        "RUN COUPON: 500.0bp\n",
                        "DAYCOUNT: DayCountTypes.ACT_360\n",
                        "FREQUENCY: FrequencyTypes.QUARTERLY\n",
                        "CALENDAR: CalendarTypes.WEEKEND\n",
                        "BUSDAYRULE: BusDayAdjustTypes.FOLLOWING\n",
                        "DATEGENRULE: DateGenRuleTypes.BACKWARD\n",
                        "ACCRUED DAYS: 63.0\n",
                        "PAYMENT_dt, YEAR_FRAC, ACCRUAL_START, ACCRUAL_END, FLOW\n",
                        "20-DEC-2019,     0.252778, 20-SEP-2019, 19-DEC-2019, 12638.888889\n",
                        "20-MAR-2020,     0.252778, 20-DEC-2019, 19-MAR-2020, 12638.888889\n",
                        "22-JUN-2020,     0.261111, 20-MAR-2020, 21-JUN-2020, 13055.555556\n",
                        "21-SEP-2020,     0.252778, 22-JUN-2020, 20-SEP-2020, 12638.888889\n",
                        "21-DEC-2020,     0.252778, 21-SEP-2020, 20-DEC-2020, 12638.888889\n",
                        "22-MAR-2021,     0.252778, 21-DEC-2020, 21-MAR-2021, 12638.888889\n",
                        "21-JUN-2021,     0.252778, 22-MAR-2021, 20-JUN-2021, 12638.888889\n",
                        "20-SEP-2021,     0.252778, 21-JUN-2021, 19-SEP-2021, 12638.888889\n",
                        "20-DEC-2021,     0.252778, 20-SEP-2021, 19-DEC-2021, 12638.888889\n",
                        "21-MAR-2022,     0.252778, 20-DEC-2021, 20-MAR-2022, 12638.888889\n",
                        "20-JUN-2022,     0.252778, 21-MAR-2022, 19-JUN-2022, 12638.888889\n",
                        "20-SEP-2022,     0.255556, 20-JUN-2022, 19-SEP-2022, 12777.777778\n",
                        "20-DEC-2022,     0.252778, 20-SEP-2022, 19-DEC-2022, 12638.888889\n",
                        "20-MAR-2023,     0.250000, 20-DEC-2022, 19-MAR-2023, 12500.000000\n",
                        "20-JUN-2023,     0.255556, 20-MAR-2023, 19-JUN-2023, 12777.777778\n",
                        "20-SEP-2023,     0.255556, 20-JUN-2023, 19-SEP-2023, 12777.777778\n",
                        "20-DEC-2023,     0.252778, 20-SEP-2023, 19-DEC-2023, 12638.888889\n",
                        "20-MAR-2024,     0.252778, 20-DEC-2023, 19-MAR-2024, 12638.888889\n",
                        "20-JUN-2024,     0.255556, 20-MAR-2024, 19-JUN-2024, 12777.777778\n",
                        "20-SEP-2024,     0.255556, 20-JUN-2024, 19-SEP-2024, 12777.777778\n",
                        "20-DEC-2024,     0.255556, 20-SEP-2024, 20-DEC-2024, 12777.777778\n"
                    ]
                }
            ],
            "source": [
                "print(cds_contract)"
            ]
        },
        {
            "cell_type": "markdown",
            "metadata": {},
            "source": [
                "## Build Ibor Curve"
            ]
        },
        {
            "cell_type": "code",
            "execution_count": 6,
            "metadata": {
                "execution": {
                    "iopub.execute_input": "2024-04-30T20:01:55.122426Z",
                    "iopub.status.busy": "2024-04-30T20:01:55.121892Z",
                    "iopub.status.idle": "2024-04-30T20:01:55.185781Z",
                    "shell.execute_reply": "2024-04-30T20:01:55.185781Z"
                }
            },
            "outputs": [],
            "source": [
                "dc_type = DayCountTypes.ACT_360\n",
                "depo1 = IborDeposit(settle_dt, \"1M\", 0.017156, dc_type)\n",
                "depo2 = IborDeposit(settle_dt, \"2M\", 0.018335, dc_type)\n",
                "depo3 = IborDeposit(settle_dt, \"3M\", 0.018988, dc_type)\n",
                "depo4 = IborDeposit(settle_dt, \"6M\", 0.018911, dc_type)\n",
                "depo5 = IborDeposit(settle_dt, \"12M\", 0.019093, dc_type)\n",
                "depos = [depo1,depo2,depo3,depo4,depo5]\n",
                "\n",
                "swap_type = SwapTypes.PAY\n",
                "dc_type = DayCountTypes.THIRTY_E_360_ISDA\n",
                "fixed_freq = FrequencyTypes.SEMI_ANNUAL\n",
                "swap1 = IborSwap(settle_dt,\"2Y\",swap_type,0.015630,fixed_freq,dc_type)\n",
                "swap2 = IborSwap(settle_dt,\"3Y\",swap_type,0.015140,fixed_freq,dc_type)\n",
                "swap3 = IborSwap(settle_dt,\"4Y\",swap_type,0.015065,fixed_freq,dc_type)\n",
                "swap4 = IborSwap(settle_dt,\"5Y\",swap_type,0.015140,fixed_freq,dc_type)\n",
                "swap5 = IborSwap(settle_dt,\"6Y\",swap_type,0.015270,fixed_freq,dc_type)\n",
                "swap6 = IborSwap(settle_dt,\"7Y\",swap_type,0.015470,fixed_freq,dc_type)\n",
                "swap7 = IborSwap(settle_dt,\"8Y\",swap_type,0.015720,fixed_freq,dc_type)\n",
                "swap8 = IborSwap(settle_dt,\"9Y\",swap_type,0.016000,fixed_freq,dc_type)\n",
                "swap9 = IborSwap(settle_dt,\"10Y\",swap_type,0.016285,fixed_freq,dc_type)\n",
                "swap10 = IborSwap(settle_dt,\"12Y\",swap_type,0.01670,fixed_freq,dc_type)\n",
                "swaps = [swap1,swap2,swap3,swap4,swap5,swap6,swap7,swap8,swap9,swap10]\n",
                "\n",
                "libor_curve = IborSingleCurve(value_dt, depos, [], swaps)"
            ]
        },
        {
            "cell_type": "markdown",
            "metadata": {},
            "source": [
                "# Build a CDS Curve"
            ]
        },
        {
            "cell_type": "code",
            "execution_count": 7,
            "metadata": {
                "execution": {
                    "iopub.execute_input": "2024-04-30T20:01:55.188782Z",
                    "iopub.status.busy": "2024-04-30T20:01:55.187783Z",
                    "iopub.status.idle": "2024-04-30T20:01:55.190796Z",
                    "shell.execute_reply": "2024-04-30T20:01:55.190796Z"
                }
            },
            "outputs": [],
            "source": [
                "cdsFlatSpread = 0.0100"
            ]
        },
        {
            "cell_type": "code",
            "execution_count": 8,
            "metadata": {
                "execution": {
                    "iopub.execute_input": "2024-04-30T20:01:55.193794Z",
                    "iopub.status.busy": "2024-04-30T20:01:55.192795Z",
                    "iopub.status.idle": "2024-04-30T20:01:55.200317Z",
                    "shell.execute_reply": "2024-04-30T20:01:55.200317Z"
                }
            },
            "outputs": [],
            "source": [
                "cds1 = CDS(settle_dt, \"1Y\", cdsFlatSpread)\n",
                "cds2 = CDS(settle_dt, \"2Y\", cdsFlatSpread)\n",
                "cds3 = CDS(settle_dt, \"3Y\", cdsFlatSpread)\n",
                "cds4 = CDS(settle_dt, \"4Y\", cdsFlatSpread)\n",
                "cds5 = CDS(settle_dt, \"5Y\", cdsFlatSpread)\n",
                "cds6 = CDS(settle_dt, \"7Y\", cdsFlatSpread)\n",
                "cds7 = CDS(settle_dt, \"10Y\", cdsFlatSpread)\n",
                "cds8 = CDS(settle_dt, \"15Y\", cdsFlatSpread)"
            ]
        },
        {
            "cell_type": "code",
            "execution_count": 9,
            "metadata": {
                "execution": {
                    "iopub.execute_input": "2024-04-30T20:01:55.202317Z",
                    "iopub.status.busy": "2024-04-30T20:01:55.202317Z",
                    "iopub.status.idle": "2024-04-30T20:01:55.205541Z",
                    "shell.execute_reply": "2024-04-30T20:01:55.205019Z"
                }
            },
            "outputs": [],
            "source": [
                "cdss = [cds1, cds2, cds3, cds4, cds5, cds6, cds7, cds8]"
            ]
        },
        {
            "cell_type": "code",
            "execution_count": 10,
            "metadata": {
                "execution": {
                    "iopub.execute_input": "2024-04-30T20:01:55.207543Z",
                    "iopub.status.busy": "2024-04-30T20:01:55.207543Z",
                    "iopub.status.idle": "2024-04-30T20:01:55.209552Z",
                    "shell.execute_reply": "2024-04-30T20:01:55.209552Z"
                }
            },
            "outputs": [],
            "source": [
                "recovery_rate = 0.40"
            ]
        },
        {
            "cell_type": "code",
            "execution_count": 11,
            "metadata": {
                "execution": {
                    "iopub.execute_input": "2024-04-30T20:01:55.211553Z",
                    "iopub.status.busy": "2024-04-30T20:01:55.211553Z",
                    "iopub.status.idle": "2024-04-30T20:01:55.217689Z",
                    "shell.execute_reply": "2024-04-30T20:01:55.217689Z"
                }
            },
            "outputs": [],
            "source": [
                "issuer_curve = CDSCurve(value_dt, cdss, libor_curve, recovery_rate)"
            ]
        },
        {
            "cell_type": "markdown",
            "metadata": {},
            "source": [
                "# Valuation Results"
            ]
        },
        {
            "cell_type": "code",
            "execution_count": 12,
            "metadata": {
                "execution": {
                    "iopub.execute_input": "2024-04-30T20:01:55.219723Z",
                    "iopub.status.busy": "2024-04-30T20:01:55.219723Z",
                    "iopub.status.idle": "2024-04-30T20:01:55.223424Z",
                    "shell.execute_reply": "2024-04-30T20:01:55.223193Z"
                }
            },
            "outputs": [
                {
                    "name": "stdout",
                    "output_type": "stream",
                    "text": [
                        "FAIR CDS SPREAD  100.00000 bp\n"
                    ]
                }
            ],
            "source": [
                "spd = cds_contract.par_spread(value_dt, issuer_curve, recovery_rate) * 10000.0\n",
                "print(\"FAIR CDS SPREAD %10.5f bp\"% spd)"
            ]
        },
        {
            "cell_type": "code",
            "execution_count": 13,
            "metadata": {
                "execution": {
                    "iopub.execute_input": "2024-04-30T20:01:55.225423Z",
                    "iopub.status.busy": "2024-04-30T20:01:55.225423Z",
                    "iopub.status.idle": "2024-04-30T20:01:55.228357Z",
                    "shell.execute_reply": "2024-04-30T20:01:55.228357Z"
                }
            },
            "outputs": [
                {
                    "name": "stdout",
                    "output_type": "stream",
                    "text": [
                        "DIRTY VALUE   -198532.56\n",
                        "CLEAN VALUE   -189782.56\n"
                    ]
                }
            ],
            "source": [
                "v = cds_contract.value(value_dt, issuer_curve, recovery_rate)\n",
                "dirty_pv = v['dirty_pv']\n",
                "clean_pv = v['clean_pv']\n",
                "\n",
                "print(\"DIRTY VALUE %12.2f\"% dirty_pv)\n",
                "print(\"CLEAN VALUE %12.2f\"% clean_pv)"
            ]
        },
        {
            "cell_type": "markdown",
            "metadata": {},
            "source": [
                "MARKIT CALCULATE -198,551 for the DIRTY VALUE"
            ]
        },
        {
            "cell_type": "code",
            "execution_count": 14,
            "metadata": {
                "execution": {
                    "iopub.execute_input": "2024-04-30T20:01:55.230390Z",
                    "iopub.status.busy": "2024-04-30T20:01:55.230390Z",
                    "iopub.status.idle": "2024-04-30T20:01:55.233536Z",
                    "shell.execute_reply": "2024-04-30T20:01:55.233536Z"
                }
            },
            "outputs": [
                {
                    "name": "stdout",
                    "output_type": "stream",
                    "text": [
                        "CLEAN PRICE   118.979986\n"
                    ]
                }
            ],
            "source": [
                "cleanp = cds_contract.clean_price(settle_dt, issuer_curve, recovery_rate)\n",
                "print(\"CLEAN PRICE %12.6f\"% cleanp)"
            ]
        },
        {
            "cell_type": "markdown",
            "metadata": {},
            "source": [
                "MARKIT CALCULATE 118.98%"
            ]
        },
        {
            "cell_type": "code",
            "execution_count": 15,
            "metadata": {
                "execution": {
                    "iopub.execute_input": "2024-04-30T20:01:55.235538Z",
                    "iopub.status.busy": "2024-04-30T20:01:55.235538Z",
                    "iopub.status.idle": "2024-04-30T20:01:55.239112Z",
                    "shell.execute_reply": "2024-04-30T20:01:55.239112Z"
                }
            },
            "outputs": [
                {
                    "name": "stdout",
                    "output_type": "stream",
                    "text": [
                        "ACCRUED_DAYS 63.0\n"
                    ]
                }
            ],
            "source": [
                "accrued_days = cds_contract.accrued_days()\n",
                "print(\"ACCRUED_DAYS\", accrued_days)"
            ]
        },
        {
            "cell_type": "markdown",
            "metadata": {},
            "source": [
                "MARKIT CALCULATE 63"
            ]
        },
        {
            "cell_type": "code",
            "execution_count": 16,
            "metadata": {
                "execution": {
                    "iopub.execute_input": "2024-04-30T20:01:55.242139Z",
                    "iopub.status.busy": "2024-04-30T20:01:55.242139Z",
                    "iopub.status.idle": "2024-04-30T20:01:55.244910Z",
                    "shell.execute_reply": "2024-04-30T20:01:55.244910Z"
                }
            },
            "outputs": [
                {
                    "name": "stdout",
                    "output_type": "stream",
                    "text": [
                        "ACCRUED_COUPON -8750.0\n"
                    ]
                }
            ],
            "source": [
                "accrued_interest = cds_contract.accrued_interest()\n",
                "print(\"ACCRUED_COUPON\", accrued_interest)"
            ]
        },
        {
            "cell_type": "markdown",
            "metadata": {},
            "source": [
                "MARKIT CALCULATE 8750"
            ]
        },
        {
            "cell_type": "code",
            "execution_count": 17,
            "metadata": {
                "execution": {
                    "iopub.execute_input": "2024-04-30T20:01:55.247475Z",
                    "iopub.status.busy": "2024-04-30T20:01:55.247475Z",
                    "iopub.status.idle": "2024-04-30T20:01:55.250368Z",
                    "shell.execute_reply": "2024-04-30T20:01:55.250368Z"
                }
            },
            "outputs": [
                {
                    "name": "stdout",
                    "output_type": "stream",
                    "text": [
                        "prot_PV 47449.85309441838\n"
                    ]
                }
            ],
            "source": [
                "prot_pv = cds_contract.prot_leg_pv(settle_dt, issuer_curve, recovery_rate)\n",
                "print(\"prot_PV\", prot_pv)"
            ]
        },
        {
            "cell_type": "code",
            "execution_count": 18,
            "metadata": {
                "execution": {
                    "iopub.execute_input": "2024-04-30T20:01:55.252370Z",
                    "iopub.status.busy": "2024-04-30T20:01:55.252370Z",
                    "iopub.status.idle": "2024-04-30T20:01:55.255680Z",
                    "shell.execute_reply": "2024-04-30T20:01:55.255680Z"
                }
            },
            "outputs": [
                {
                    "name": "stdout",
                    "output_type": "stream",
                    "text": [
                        "PREMIUM_PV 245999.7152967746\n"
                    ]
                }
            ],
            "source": [
                "premPV = cds_contract.premium_leg_pv(settle_dt, issuer_curve, recovery_rate)\n",
                "print(\"PREMIUM_PV\", premPV)"
            ]
        },
        {
            "cell_type": "markdown",
            "metadata": {},
            "source": [
                "## Risk Measures"
            ]
        },
        {
            "cell_type": "code",
            "execution_count": 19,
            "metadata": {
                "execution": {
                    "iopub.execute_input": "2024-04-30T20:01:55.258247Z",
                    "iopub.status.busy": "2024-04-30T20:01:55.258247Z",
                    "iopub.status.idle": "2024-04-30T20:01:55.278374Z",
                    "shell.execute_reply": "2024-04-30T20:01:55.278374Z"
                }
            },
            "outputs": [
                {
                    "name": "stdout",
                    "output_type": "stream",
                    "text": [
                        "Credit DV01        553.53\n"
                    ]
                }
            ],
            "source": [
                "credit_dv01 = cds_contract.credit_dv01(settle_dt, issuer_curve, recovery_rate)\n",
                "print(\"Credit DV01  %12.2f\"% credit_dv01)"
            ]
        },
        {
            "cell_type": "markdown",
            "metadata": {},
            "source": [
                "MARKIT FOUND 554"
            ]
        },
        {
            "cell_type": "code",
            "execution_count": 20,
            "metadata": {
                "execution": {
                    "iopub.execute_input": "2024-04-30T20:01:55.281370Z",
                    "iopub.status.busy": "2024-04-30T20:01:55.281370Z",
                    "iopub.status.idle": "2024-04-30T20:01:55.342636Z",
                    "shell.execute_reply": "2024-04-30T20:01:55.342158Z"
                }
            },
            "outputs": [
                {
                    "name": "stdout",
                    "output_type": "stream",
                    "text": [
                        "Interest DV01         48.82\n"
                    ]
                }
            ],
            "source": [
                "interest_dv01 = cds_contract.interest_dv01(settle_dt, issuer_curve, recovery_rate)\n",
                "print(\"Interest DV01  %12.2f\"% interest_dv01)"
            ]
        },
        {
            "cell_type": "markdown",
            "metadata": {},
            "source": [
                "MARKIT FOUND 49"
            ]
        },
        {
            "cell_type": "markdown",
            "metadata": {},
            "source": [
                "## Full Analysis "
            ]
        },
        {
            "cell_type": "code",
            "execution_count": 21,
            "metadata": {
                "execution": {
                    "iopub.execute_input": "2024-04-30T20:01:55.344668Z",
                    "iopub.status.busy": "2024-04-30T20:01:55.344668Z",
                    "iopub.status.idle": "2024-04-30T20:01:55.348632Z",
                    "shell.execute_reply": "2024-04-30T20:01:55.348632Z"
                }
            },
            "outputs": [
                {
                    "name": "stdout",
                    "output_type": "stream",
                    "text": [
                        "PAYMENT_dt      YEAR_FRAC      FLOW           DF       SURV_PROB      NPV\n",
                        "    20-DEC-2019   0.252778     12638.89     0.998620     0.998658     12604.51\n",
                        "    20-MAR-2020   0.252778     12638.89     0.993728     0.994459     12490.03\n",
                        "    22-JUN-2020   0.261111     13055.56     0.988864     0.990141     12782.88\n",
                        "    21-SEP-2020   0.252778     12638.89     0.984127     0.985978     12263.86\n",
                        "    21-DEC-2020   0.252778     12638.89     0.979968     0.981833     12160.69\n",
                        "    22-MAR-2021   0.252778     12638.89     0.977072     0.977711     12073.86\n",
                        "    21-JUN-2021   0.252778     12638.89     0.974185     0.973607     11987.65\n",
                        "    20-SEP-2021   0.252778     12638.89     0.971306     0.969521     11902.05\n",
                        "    20-DEC-2021   0.252778     12638.89     0.968270     0.965451     11815.05\n",
                        "    21-MAR-2022   0.252778     12638.89     0.964873     0.961400     11724.19\n",
                        "    20-JUN-2022   0.252778     12638.89     0.961488     0.957365     11634.03\n",
                        "    20-SEP-2022   0.255556     12777.78     0.958078     0.953304     11670.44\n",
                        "    20-DEC-2022   0.252778     12638.89     0.954666     0.949303     11454.22\n",
                        "    20-MAR-2023   0.250000     12500.00     0.951193     0.945363     11240.29\n",
                        "    20-JUN-2023   0.255556     12777.78     0.947656     0.941353     11398.78\n",
                        "    20-SEP-2023   0.255556     12777.78     0.944132     0.937360     11308.22\n",
                        "    20-DEC-2023   0.252778     12638.89     0.940615     0.933426     11096.88\n",
                        "    20-MAR-2024   0.252778     12638.89     0.937013     0.929510     11008.01\n",
                        "    20-JUN-2024   0.255556     12777.78     0.933386     0.925567     11038.86\n",
                        "    20-SEP-2024   0.255556     12777.78     0.929772     0.921641     10949.48\n",
                        "    20-DEC-2024   0.255556     12777.78     0.926176     0.917774     10861.37\n"
                    ]
                }
            ],
            "source": [
                "cds_contract.print_payments(value_dt, issuer_curve)"
            ]
        },
        {
            "cell_type": "code",
            "execution_count": null,
            "metadata": {},
            "outputs": [],
            "source": []
        }
    ],
    "metadata": {
        "kernelspec": {
            "display_name": "Python 3",
            "language": "python",
            "name": "python3"
        },
        "language_info": {
            "codemirror_mode": {
                "name": "ipython",
                "version": 3
            },
            "file_extension": ".py",
            "mimetype": "text/x-python",
            "name": "python",
            "nbconvert_exporter": "python",
            "pygments_lexer": "ipython3",
            "version": "3.11.5"
        }
    },
    "nbformat": 4,
    "nbformat_minor": 2
}