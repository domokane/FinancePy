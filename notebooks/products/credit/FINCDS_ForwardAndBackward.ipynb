{
 "cells": [
  {
   "attachments": {},
   "cell_type": "markdown",
   "metadata": {},
   "source": [
    "## Analysis of CDS Schedule Generation"
   ]
  },
  {
   "cell_type": "code",
   "execution_count": 1,
   "metadata": {
    "execution": {
     "iopub.execute_input": "2025-08-27T22:31:21.348714Z",
     "iopub.status.busy": "2025-08-27T22:31:21.348455Z",
     "iopub.status.idle": "2025-08-27T22:31:23.429828Z",
     "shell.execute_reply": "2025-08-27T22:31:23.429365Z"
    }
   },
   "outputs": [],
   "source": [
    "from financepy.utils import *\n",
    "from financepy.products.credit import *"
   ]
  },
  {
   "cell_type": "code",
   "execution_count": 2,
   "metadata": {
    "execution": {
     "iopub.execute_input": "2025-08-27T22:31:23.432201Z",
     "iopub.status.busy": "2025-08-27T22:31:23.431688Z",
     "iopub.status.idle": "2025-08-27T22:31:23.434519Z",
     "shell.execute_reply": "2025-08-27T22:31:23.434126Z"
    }
   },
   "outputs": [],
   "source": [
    "set_date_format(DateFormatTypes.UK_LONGEST)"
   ]
  },
  {
   "cell_type": "code",
   "execution_count": 3,
   "metadata": {
    "execution": {
     "iopub.execute_input": "2025-08-27T22:31:23.435960Z",
     "iopub.status.busy": "2025-08-27T22:31:23.435776Z",
     "iopub.status.idle": "2025-08-27T22:31:23.451946Z",
     "shell.execute_reply": "2025-08-27T22:31:23.451539Z"
    }
   },
   "outputs": [],
   "source": [
    "effective_dt = Date(20, 2, 2009)\n",
    "maturity_dt = Date(20, 3, 2010)\n",
    "running_cpn = 0.01"
   ]
  },
  {
   "cell_type": "code",
   "execution_count": 4,
   "metadata": {
    "execution": {
     "iopub.execute_input": "2025-08-27T22:31:23.453962Z",
     "iopub.status.busy": "2025-08-27T22:31:23.453718Z",
     "iopub.status.idle": "2025-08-27T22:31:23.462706Z",
     "shell.execute_reply": "2025-08-27T22:31:23.462250Z"
    }
   },
   "outputs": [
    {
     "name": "stdout",
     "output_type": "stream",
     "text": [
      "OBJECT TYPE: CDS\n",
      "STEP-IN DATE: FRI 20 FEB 2009\n",
      "MATURITY: SAT 20 MAR 2010\n",
      "NOTIONAL: 36000000\n",
      "RUN COUPON: 100.0bp\n",
      "DAYCOUNT: DayCountTypes.ACT_360\n",
      "FREQUENCY: FrequencyTypes.QUARTERLY\n",
      "CALENDAR: CalendarTypes.WEEKEND\n",
      "BUSDAYRULE: BusDayAdjustTypes.FOLLOWING\n",
      "DATEGENRULE: DateGenRuleTypes.BACKWARD\n",
      "ACCRUED DAYS: 60.0\n",
      "PAYMENT_dt, YEAR_FRAC, ACCRUAL_START, ACCRUAL_END, FLOW\n",
      "FRI 20 MAR 2009,     0.244444, MON 22 DEC 2008, THU 19 MAR 2009, 88000.000000\n",
      "MON 22 JUN 2009,     0.261111, FRI 20 MAR 2009, SUN 21 JUN 2009, 94000.000000\n",
      "MON 21 SEP 2009,     0.252778, MON 22 JUN 2009, SUN 20 SEP 2009, 91000.000000\n",
      "MON 21 DEC 2009,     0.252778, MON 21 SEP 2009, SUN 20 DEC 2009, 91000.000000\n",
      "MON 22 MAR 2010,     0.250000, MON 21 DEC 2009, SAT 20 MAR 2010, 90000.000000\n"
     ]
    }
   ],
   "source": [
    "# Reference: https://www.cdsmodel.com/assets/cds-model/docs/Standard%20CDS%20Examples.pdf\n",
    "cds_backward = CDS(effective_dt, maturity_dt, running_cpn, notional=36000000, dg_type=DateGenRuleTypes.BACKWARD)\n",
    "print(cds_backward)"
   ]
  },
  {
   "cell_type": "code",
   "execution_count": 5,
   "metadata": {
    "execution": {
     "iopub.execute_input": "2025-08-27T22:31:23.464320Z",
     "iopub.status.busy": "2025-08-27T22:31:23.464115Z",
     "iopub.status.idle": "2025-08-27T22:31:23.467195Z",
     "shell.execute_reply": "2025-08-27T22:31:23.466837Z"
    }
   },
   "outputs": [
    {
     "name": "stdout",
     "output_type": "stream",
     "text": [
      "OBJECT TYPE: CDS\n",
      "STEP-IN DATE: FRI 20 FEB 2009\n",
      "MATURITY: SAT 20 MAR 2010\n",
      "NOTIONAL: 36000000\n",
      "RUN COUPON: 100.0bp\n",
      "DAYCOUNT: DayCountTypes.ACT_360\n",
      "FREQUENCY: FrequencyTypes.QUARTERLY\n",
      "CALENDAR: CalendarTypes.WEEKEND\n",
      "BUSDAYRULE: BusDayAdjustTypes.FOLLOWING\n",
      "DATEGENRULE: DateGenRuleTypes.FORWARD\n",
      "ACCRUED DAYS: 0.0\n",
      "PAYMENT_dt, YEAR_FRAC, ACCRUAL_START, ACCRUAL_END, FLOW\n",
      "WED 20 MAY 2009,     0.247222, FRI 20 FEB 2009, TUE 19 MAY 2009, 89000.000000\n",
      "THU 20 AUG 2009,     0.255556, WED 20 MAY 2009, WED 19 AUG 2009, 92000.000000\n",
      "FRI 20 NOV 2009,     0.255556, THU 20 AUG 2009, THU 19 NOV 2009, 92000.000000\n",
      "MON 22 FEB 2010,     0.261111, FRI 20 NOV 2009, SUN 21 FEB 2010, 94000.000000\n",
      "MON 22 MAR 2010,     0.075000, MON 22 FEB 2010, SAT 20 MAR 2010, 27000.000000\n"
     ]
    }
   ],
   "source": [
    "cds_forward = CDS(effective_dt, maturity_dt, running_cpn, notional=36000000, dg_type=DateGenRuleTypes.FORWARD)\n",
    "print(cds_forward)"
   ]
  }
 ],
 "metadata": {
  "kernelspec": {
   "display_name": "base",
   "language": "python",
   "name": "python3"
  },
  "language_info": {
   "codemirror_mode": {
    "name": "ipython",
    "version": 3
   },
   "file_extension": ".py",
   "mimetype": "text/x-python",
   "name": "python",
   "nbconvert_exporter": "python",
   "pygments_lexer": "ipython3",
   "version": "3.13.5"
  }
 },
 "nbformat": 4,
 "nbformat_minor": 2
}
