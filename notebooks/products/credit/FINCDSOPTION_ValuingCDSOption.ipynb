{
 "cells": [
  {
   "cell_type": "markdown",
   "metadata": {},
   "source": [
    "# Creating and Valuing a CDS Option"
   ]
  },
  {
   "cell_type": "markdown",
   "metadata": {},
   "source": [
    "Example CDS Valuation and comparison with market standard ISDA model on Markit website"
   ]
  },
  {
   "cell_type": "code",
   "execution_count": 1,
   "metadata": {
    "execution": {
     "iopub.execute_input": "2025-08-27T21:43:41.441086Z",
     "iopub.status.busy": "2025-08-27T21:43:41.440855Z",
     "iopub.status.idle": "2025-08-27T21:43:41.914425Z",
     "shell.execute_reply": "2025-08-27T21:43:41.913923Z"
    }
   },
   "outputs": [],
   "source": [
    "import numpy as np\n",
    "import matplotlib.pyplot as plt"
   ]
  },
  {
   "cell_type": "code",
   "execution_count": 2,
   "metadata": {
    "execution": {
     "iopub.execute_input": "2025-08-27T21:43:41.916830Z",
     "iopub.status.busy": "2025-08-27T21:43:41.916583Z",
     "iopub.status.idle": "2025-08-27T21:43:44.499975Z",
     "shell.execute_reply": "2025-08-27T21:43:44.499564Z"
    }
   },
   "outputs": [
    {
     "name": "stdout",
     "output_type": "stream",
     "text": [
      "####################################################################\n",
      "#    FINANCEPY Version 1.1 - This build: 27 Aug 2025 at 23:27      #\n",
      "#     This software is distributed FREE AND WITHOUT ANY WARRANTY   #\n",
      "#  Report bugs as issues at https://github.com/domokane/FinancePy  #\n",
      "####################################################################\n",
      "\n"
     ]
    }
   ],
   "source": [
    "from financepy.utils import *\n",
    "from financepy.products.rates import *\n",
    "from financepy.products.credit import *"
   ]
  },
  {
   "cell_type": "markdown",
   "metadata": {},
   "source": [
    "Set the trade date and settlement date one day later"
   ]
  },
  {
   "cell_type": "code",
   "execution_count": 3,
   "metadata": {
    "execution": {
     "iopub.execute_input": "2025-08-27T21:43:44.501955Z",
     "iopub.status.busy": "2025-08-27T21:43:44.501663Z",
     "iopub.status.idle": "2025-08-27T21:43:44.525018Z",
     "shell.execute_reply": "2025-08-27T21:43:44.524550Z"
    }
   },
   "outputs": [],
   "source": [
    "value_dt = Date(5, 2, 2014)\n",
    "settle_dt = value_dt.add_days(1)"
   ]
  },
  {
   "cell_type": "markdown",
   "metadata": {},
   "source": [
    "## Build Ibor Curve"
   ]
  },
  {
   "cell_type": "code",
   "execution_count": 4,
   "metadata": {
    "execution": {
     "iopub.execute_input": "2025-08-27T21:43:44.526915Z",
     "iopub.status.busy": "2025-08-27T21:43:44.526724Z",
     "iopub.status.idle": "2025-08-27T21:43:44.540367Z",
     "shell.execute_reply": "2025-08-27T21:43:44.539892Z"
    }
   },
   "outputs": [],
   "source": [
    "dc_type = DayCountTypes.THIRTY_E_360\n",
    "depo = IborDeposit(settle_dt, \"1D\", 0.0502, dc_type)\n",
    "depos = [depo]\n",
    "fixed_freq = FrequencyTypes.SEMI_ANNUAL\n",
    "swap_type = SwapTypes.PAY\n",
    "swap1 = IborSwap(settle_dt,\"1Y\",swap_type,0.0502,fixed_freq,dc_type)\n",
    "swap2 = IborSwap(settle_dt,\"2Y\",swap_type,0.0502,fixed_freq,dc_type)\n",
    "swap3 = IborSwap(settle_dt,\"3Y\",swap_type,0.0501,fixed_freq,dc_type)\n",
    "swap4 = IborSwap(settle_dt,\"4Y\",swap_type,0.0502,fixed_freq,dc_type)\n",
    "swap5 = IborSwap(settle_dt,\"5Y\",swap_type,0.0501,fixed_freq,dc_type)\n",
    "swaps = [swap1,swap2,swap3,swap4,swap5]\n",
    "\n",
    "libor_curve = IborSingleCurve(value_dt, depos, [], swaps)"
   ]
  },
  {
   "cell_type": "markdown",
   "metadata": {},
   "source": [
    "## Build a CDS Curve"
   ]
  },
  {
   "cell_type": "code",
   "execution_count": 5,
   "metadata": {
    "execution": {
     "iopub.execute_input": "2025-08-27T21:43:44.542199Z",
     "iopub.status.busy": "2025-08-27T21:43:44.541883Z",
     "iopub.status.idle": "2025-08-27T21:43:44.544236Z",
     "shell.execute_reply": "2025-08-27T21:43:44.543844Z"
    }
   },
   "outputs": [],
   "source": [
    "cdsFlatSpread = 0.0100"
   ]
  },
  {
   "cell_type": "code",
   "execution_count": 6,
   "metadata": {
    "execution": {
     "iopub.execute_input": "2025-08-27T21:43:44.545645Z",
     "iopub.status.busy": "2025-08-27T21:43:44.545469Z",
     "iopub.status.idle": "2025-08-27T21:43:44.551184Z",
     "shell.execute_reply": "2025-08-27T21:43:44.550592Z"
    }
   },
   "outputs": [],
   "source": [
    "cds1 = CDS(settle_dt, \"1Y\", cdsFlatSpread)\n",
    "cds2 = CDS(settle_dt, \"2Y\", cdsFlatSpread)\n",
    "cds3 = CDS(settle_dt, \"3Y\", cdsFlatSpread)\n",
    "cds4 = CDS(settle_dt, \"4Y\", cdsFlatSpread)\n",
    "cds5 = CDS(settle_dt, \"5Y\", cdsFlatSpread)\n",
    "cds6 = CDS(settle_dt, \"7Y\", cdsFlatSpread)\n",
    "cds7 = CDS(settle_dt, \"10Y\", cdsFlatSpread)\n",
    "cds8 = CDS(settle_dt, \"15Y\", cdsFlatSpread)"
   ]
  },
  {
   "cell_type": "code",
   "execution_count": 7,
   "metadata": {
    "execution": {
     "iopub.execute_input": "2025-08-27T21:43:44.552858Z",
     "iopub.status.busy": "2025-08-27T21:43:44.552648Z",
     "iopub.status.idle": "2025-08-27T21:43:44.555169Z",
     "shell.execute_reply": "2025-08-27T21:43:44.554694Z"
    }
   },
   "outputs": [],
   "source": [
    "cdss = [cds1, cds2, cds3, cds4, cds5, cds6, cds7, cds8]"
   ]
  },
  {
   "cell_type": "code",
   "execution_count": 8,
   "metadata": {
    "execution": {
     "iopub.execute_input": "2025-08-27T21:43:44.556950Z",
     "iopub.status.busy": "2025-08-27T21:43:44.556634Z",
     "iopub.status.idle": "2025-08-27T21:43:44.558888Z",
     "shell.execute_reply": "2025-08-27T21:43:44.558542Z"
    }
   },
   "outputs": [],
   "source": [
    "recovery_rate = 0.40"
   ]
  },
  {
   "cell_type": "code",
   "execution_count": 9,
   "metadata": {
    "execution": {
     "iopub.execute_input": "2025-08-27T21:43:44.560274Z",
     "iopub.status.busy": "2025-08-27T21:43:44.560095Z",
     "iopub.status.idle": "2025-08-27T21:43:44.564701Z",
     "shell.execute_reply": "2025-08-27T21:43:44.564308Z"
    }
   },
   "outputs": [],
   "source": [
    "issuer_curve = CDSCurve(value_dt, cdss, libor_curve, recovery_rate)"
   ]
  },
  {
   "cell_type": "markdown",
   "metadata": {},
   "source": [
    "## CDS Option"
   ]
  },
  {
   "cell_type": "code",
   "execution_count": 10,
   "metadata": {
    "execution": {
     "iopub.execute_input": "2025-08-27T21:43:44.566314Z",
     "iopub.status.busy": "2025-08-27T21:43:44.566137Z",
     "iopub.status.idle": "2025-08-27T21:43:44.568380Z",
     "shell.execute_reply": "2025-08-27T21:43:44.568075Z"
    }
   },
   "outputs": [],
   "source": [
    "step_in_dt = value_dt.add_days(1)\n",
    "expiry_dt = Date(20, 3, 2014)\n",
    "maturity_dt = Date(20, 6, 2019)"
   ]
  },
  {
   "cell_type": "code",
   "execution_count": 11,
   "metadata": {
    "execution": {
     "iopub.execute_input": "2025-08-27T21:43:44.570176Z",
     "iopub.status.busy": "2025-08-27T21:43:44.569875Z",
     "iopub.status.idle": "2025-08-27T21:43:44.572490Z",
     "shell.execute_reply": "2025-08-27T21:43:44.572103Z"
    }
   },
   "outputs": [],
   "source": [
    "cds_cpn = 0.01\n",
    "volatility = 0.3\n",
    "notional = ONE_MILLION\n",
    "long_protection = True"
   ]
  },
  {
   "cell_type": "code",
   "execution_count": 12,
   "metadata": {
    "execution": {
     "iopub.execute_input": "2025-08-27T21:43:44.574385Z",
     "iopub.status.busy": "2025-08-27T21:43:44.574078Z",
     "iopub.status.idle": "2025-08-27T21:43:44.590322Z",
     "shell.execute_reply": "2025-08-27T21:43:44.589701Z"
    }
   },
   "outputs": [],
   "source": [
    "strikes = np.linspace(80,120,21)/10000\n",
    "longValues = []\n",
    "shortValues = []\n",
    "\n",
    "# Long Protection\n",
    "for strike in strikes:\n",
    "    cdsOption = CDSOption(expiry_dt, maturity_dt, strike, notional, True)\n",
    "    v = cdsOption.value(value_dt, issuer_curve, volatility)\n",
    "    longValues.append(v)\n",
    "\n",
    "# Short Protection\n",
    "for strike in strikes:\n",
    "    cdsOption = CDSOption(expiry_dt, maturity_dt, strike, notional, False)\n",
    "    v = cdsOption.value(value_dt, issuer_curve, volatility)\n",
    "    shortValues.append(v)\n"
   ]
  },
  {
   "cell_type": "code",
   "execution_count": 13,
   "metadata": {
    "execution": {
     "iopub.execute_input": "2025-08-27T21:43:44.592349Z",
     "iopub.status.busy": "2025-08-27T21:43:44.592120Z",
     "iopub.status.idle": "2025-08-27T21:43:44.722508Z",
     "shell.execute_reply": "2025-08-27T21:43:44.722031Z"
    }
   },
   "outputs": [
    {
     "data": {
      "image/png": "[encoded data removed]",
      "text/plain": [
       "<Figure size 640x480 with 1 Axes>"
      ]
     },
     "metadata": {},
     "output_type": "display_data"
    }
   ],
   "source": [
    "plt.plot(strikes*10000, longValues, label=\"Long Protection\")\n",
    "plt.plot(strikes*10000, shortValues, label=\"Short Protection\")\n",
    "plt.xlabel(\"Strike (bp)\")\n",
    "plt.ylabel(\"Value (USD)\")\n",
    "plt.legend();"
   ]
  },
  {
   "cell_type": "markdown",
   "metadata": {},
   "source": [
    "## Put Call Parity"
   ]
  },
  {
   "cell_type": "markdown",
   "metadata": {},
   "source": [
    "Check that put-call parity holds by comparing a long protection minus a short protection option to a forward starting long protection CDS"
   ]
  },
  {
   "cell_type": "code",
   "execution_count": 14,
   "metadata": {
    "execution": {
     "iopub.execute_input": "2025-08-27T21:43:44.724584Z",
     "iopub.status.busy": "2025-08-27T21:43:44.724373Z",
     "iopub.status.idle": "2025-08-27T21:43:44.733440Z",
     "shell.execute_reply": "2025-08-27T21:43:44.732754Z"
    }
   },
   "outputs": [],
   "source": [
    "fwd_values = []\n",
    "\n",
    "for strike in strikes:\n",
    "    fwdCDSContract = CDS(expiry_dt, maturity_dt, strike, notional, True)\n",
    "    v = fwdCDSContract.value(value_dt, issuer_curve, recovery_rate)\n",
    "    fwd_values.append(v['dirty_pv'])"
   ]
  },
  {
   "cell_type": "code",
   "execution_count": 15,
   "metadata": {
    "execution": {
     "iopub.execute_input": "2025-08-27T21:43:44.735773Z",
     "iopub.status.busy": "2025-08-27T21:43:44.735469Z",
     "iopub.status.idle": "2025-08-27T21:43:44.738142Z",
     "shell.execute_reply": "2025-08-27T21:43:44.737787Z"
    }
   },
   "outputs": [],
   "source": [
    "callMinusPut = np.array(longValues) - np.array(shortValues)"
   ]
  },
  {
   "cell_type": "code",
   "execution_count": 16,
   "metadata": {
    "execution": {
     "iopub.execute_input": "2025-08-27T21:43:44.739686Z",
     "iopub.status.busy": "2025-08-27T21:43:44.739505Z",
     "iopub.status.idle": "2025-08-27T21:43:44.848085Z",
     "shell.execute_reply": "2025-08-27T21:43:44.847614Z"
    }
   },
   "outputs": [
    {
     "data": {
      "image/png": "[encoded data removed]",
      "text/plain": [
       "<Figure size 640x480 with 1 Axes>"
      ]
     },
     "metadata": {},
     "output_type": "display_data"
    }
   ],
   "source": [
    "plt.plot(strikes*10000, fwd_values, label=\"Forward Values\")\n",
    "plt.plot(strikes*10000, callMinusPut, label=\"Long minus short\")\n",
    "plt.xlabel(\"Strike (bp)\")\n",
    "plt.ylabel(\"Value (USD)\")\n",
    "plt.legend();"
   ]
  },
  {
   "cell_type": "markdown",
   "metadata": {},
   "source": [
    "## Implied Volatility"
   ]
  },
  {
   "cell_type": "markdown",
   "metadata": {},
   "source": [
    "Let us just check that we can recover the input volatility"
   ]
  },
  {
   "cell_type": "code",
   "execution_count": 17,
   "metadata": {
    "execution": {
     "iopub.execute_input": "2025-08-27T21:43:44.850302Z",
     "iopub.status.busy": "2025-08-27T21:43:44.850006Z",
     "iopub.status.idle": "2025-08-27T21:43:44.880255Z",
     "shell.execute_reply": "2025-08-27T21:43:44.879815Z"
    }
   },
   "outputs": [
    {
     "name": "stdout",
     "output_type": "stream",
     "text": [
      "       100   1829.55743  30.00000000%\n",
      "       105   3193.75808  30.00000000%\n",
      "       110   4911.11646  30.00000000%\n",
      "       115   6871.65771  30.00000000%\n",
      "       120   8973.35932  30.00000000%\n",
      "       125  11145.62429  30.00000000%\n",
      "       130  13348.83063  30.00000000%\n",
      "       135  15564.12776  30.00000000%\n",
      "       140  17783.69318  30.00000000%\n",
      "       145  20004.63617  30.00000000%\n",
      "       150  22225.98988  30.00000000%\n",
      "       155  24447.45776  30.00000000%\n",
      "       160  26668.95546  30.00000000%\n",
      "       165  28890.46054  30.00000000%\n",
      "       170  31111.96736  30.00000000%\n",
      "       175  33333.47457  30.00000000%\n",
      "       180  35554.98186  30.00000000%\n",
      "       185  37776.48917  30.00000000%\n",
      "       190  39997.99649  30.00000000%\n",
      "       195  42219.50381  30.00000000%\n",
      "       200  44441.01112  30.00000000%\n"
     ]
    }
   ],
   "source": [
    "for strike in np.linspace(100, 200, 21):\n",
    "    cdsOption = CDSOption(expiry_dt, maturity_dt, strike / 10000.0,  notional, False)\n",
    "    v = cdsOption.value(value_dt, issuer_curve, volatility)\n",
    "    vol = cdsOption.implied_volatility(value_dt, issuer_curve, v)\n",
    "    print(\"%10d %12.5f %12.8f%%\" %(strike, v, vol*100))"
   ]
  },
  {
   "cell_type": "markdown",
   "metadata": {},
   "source": [
    "We recovery the used volatility as required."
   ]
  },
  {
   "cell_type": "markdown",
   "metadata": {},
   "source": [
    "Copyright (c) 2020 Dominic O'Kane"
   ]
  }
 ],
 "metadata": {
  "kernelspec": {
   "display_name": "base",
   "language": "python",
   "name": "python3"
  },
  "language_info": {
   "codemirror_mode": {
    "name": "ipython",
    "version": 3
   },
   "file_extension": ".py",
   "mimetype": "text/x-python",
   "name": "python",
   "nbconvert_exporter": "python",
   "pygments_lexer": "ipython3",
   "version": "3.13.5"
  }
 },
 "nbformat": 4,
 "nbformat_minor": 2
}
