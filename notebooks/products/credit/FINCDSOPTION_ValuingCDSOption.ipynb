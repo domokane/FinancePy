{
 "cells": [
  {
   "cell_type": "markdown",
   "metadata": {},
   "source": [
    "# Creating and Valuing a CDS Option"
   ]
  },
  {
   "cell_type": "markdown",
   "metadata": {},
   "source": [
    "Example CDS Valuation and comparison with market standard ISDA model on Markit website"
   ]
  },
  {
   "cell_type": "code",
   "execution_count": 1,
   "metadata": {
    "execution": {
     "iopub.execute_input": "2025-09-14T22:21:29.215937Z",
     "iopub.status.busy": "2025-09-14T22:21:29.215607Z",
     "iopub.status.idle": "2025-09-14T22:21:29.649471Z",
     "shell.execute_reply": "2025-09-14T22:21:29.648475Z"
    }
   },
   "outputs": [],
   "source": [
    "import numpy as np\n",
    "import matplotlib.pyplot as plt"
   ]
  },
  {
   "cell_type": "code",
   "execution_count": 2,
   "metadata": {
    "execution": {
     "iopub.execute_input": "2025-09-14T22:21:29.651828Z",
     "iopub.status.busy": "2025-09-14T22:21:29.651490Z",
     "iopub.status.idle": "2025-09-14T22:21:32.304703Z",
     "shell.execute_reply": "2025-09-14T22:21:32.303973Z"
    }
   },
   "outputs": [],
   "source": [
    "from financepy.utils import *\n",
    "from financepy.products.rates import *\n",
    "from financepy.products.credit import *"
   ]
  },
  {
   "cell_type": "markdown",
   "metadata": {},
   "source": [
    "Set the trade date and settlement date one day later"
   ]
  },
  {
   "cell_type": "code",
   "execution_count": 3,
   "metadata": {
    "execution": {
     "iopub.execute_input": "2025-09-14T22:21:32.307600Z",
     "iopub.status.busy": "2025-09-14T22:21:32.306990Z",
     "iopub.status.idle": "2025-09-14T22:21:32.342923Z",
     "shell.execute_reply": "2025-09-14T22:21:32.342436Z"
    }
   },
   "outputs": [],
   "source": [
    "value_dt = Date(5, 2, 2014)\n",
    "settle_dt = value_dt.add_days(1)"
   ]
  },
  {
   "cell_type": "markdown",
   "metadata": {},
   "source": [
    "## Build Ibor Curve"
   ]
  },
  {
   "cell_type": "code",
   "execution_count": 4,
   "metadata": {
    "execution": {
     "iopub.execute_input": "2025-09-14T22:21:32.345899Z",
     "iopub.status.busy": "2025-09-14T22:21:32.345553Z",
     "iopub.status.idle": "2025-09-14T22:21:32.357744Z",
     "shell.execute_reply": "2025-09-14T22:21:32.357372Z"
    }
   },
   "outputs": [],
   "source": [
    "dc_type = DayCountTypes.THIRTY_E_360\n",
    "depo = IborDeposit(settle_dt, \"1D\", 0.0502, dc_type)\n",
    "depos = [depo]\n",
    "fixed_freq = FrequencyTypes.SEMI_ANNUAL\n",
    "swap_type = SwapTypes.PAY\n",
    "swap1 = IborSwap(settle_dt,\"1Y\",swap_type,0.0502,fixed_freq,dc_type)\n",
    "swap2 = IborSwap(settle_dt,\"2Y\",swap_type,0.0502,fixed_freq,dc_type)\n",
    "swap3 = IborSwap(settle_dt,\"3Y\",swap_type,0.0501,fixed_freq,dc_type)\n",
    "swap4 = IborSwap(settle_dt,\"4Y\",swap_type,0.0502,fixed_freq,dc_type)\n",
    "swap5 = IborSwap(settle_dt,\"5Y\",swap_type,0.0501,fixed_freq,dc_type)\n",
    "swaps = [swap1,swap2,swap3,swap4,swap5]\n",
    "\n",
    "libor_curve = IborSingleCurve(value_dt, depos, [], swaps)"
   ]
  },
  {
   "cell_type": "markdown",
   "metadata": {},
   "source": [
    "## Build a CDS Curve"
   ]
  },
  {
   "cell_type": "code",
   "execution_count": 5,
   "metadata": {
    "execution": {
     "iopub.execute_input": "2025-09-14T22:21:32.361395Z",
     "iopub.status.busy": "2025-09-14T22:21:32.361146Z",
     "iopub.status.idle": "2025-09-14T22:21:32.364894Z",
     "shell.execute_reply": "2025-09-14T22:21:32.364300Z"
    }
   },
   "outputs": [],
   "source": [
    "cdsFlatSpread = 0.0100"
   ]
  },
  {
   "cell_type": "code",
   "execution_count": 6,
   "metadata": {
    "execution": {
     "iopub.execute_input": "2025-09-14T22:21:32.366929Z",
     "iopub.status.busy": "2025-09-14T22:21:32.366658Z",
     "iopub.status.idle": "2025-09-14T22:21:32.372649Z",
     "shell.execute_reply": "2025-09-14T22:21:32.372217Z"
    }
   },
   "outputs": [],
   "source": [
    "cds1 = CDS(settle_dt, \"1Y\", cdsFlatSpread)\n",
    "cds2 = CDS(settle_dt, \"2Y\", cdsFlatSpread)\n",
    "cds3 = CDS(settle_dt, \"3Y\", cdsFlatSpread)\n",
    "cds4 = CDS(settle_dt, \"4Y\", cdsFlatSpread)\n",
    "cds5 = CDS(settle_dt, \"5Y\", cdsFlatSpread)\n",
    "cds6 = CDS(settle_dt, \"7Y\", cdsFlatSpread)\n",
    "cds7 = CDS(settle_dt, \"10Y\", cdsFlatSpread)\n",
    "cds8 = CDS(settle_dt, \"15Y\", cdsFlatSpread)"
   ]
  },
  {
   "cell_type": "code",
   "execution_count": 7,
   "metadata": {
    "execution": {
     "iopub.execute_input": "2025-09-14T22:21:32.374429Z",
     "iopub.status.busy": "2025-09-14T22:21:32.374239Z",
     "iopub.status.idle": "2025-09-14T22:21:32.377649Z",
     "shell.execute_reply": "2025-09-14T22:21:32.377223Z"
    }
   },
   "outputs": [],
   "source": [
    "cdss = [cds1, cds2, cds3, cds4, cds5, cds6, cds7, cds8]"
   ]
  },
  {
   "cell_type": "code",
   "execution_count": 8,
   "metadata": {
    "execution": {
     "iopub.execute_input": "2025-09-14T22:21:32.379999Z",
     "iopub.status.busy": "2025-09-14T22:21:32.379567Z",
     "iopub.status.idle": "2025-09-14T22:21:32.383132Z",
     "shell.execute_reply": "2025-09-14T22:21:32.382678Z"
    }
   },
   "outputs": [],
   "source": [
    "recovery_rate = 0.40"
   ]
  },
  {
   "cell_type": "code",
   "execution_count": 9,
   "metadata": {
    "execution": {
     "iopub.execute_input": "2025-09-14T22:21:32.385522Z",
     "iopub.status.busy": "2025-09-14T22:21:32.385341Z",
     "iopub.status.idle": "2025-09-14T22:21:32.390122Z",
     "shell.execute_reply": "2025-09-14T22:21:32.389700Z"
    }
   },
   "outputs": [],
   "source": [
    "issuer_curve = CDSCurve(value_dt, cdss, libor_curve, recovery_rate)"
   ]
  },
  {
   "cell_type": "markdown",
   "metadata": {},
   "source": [
    "## CDS Option"
   ]
  },
  {
   "cell_type": "code",
   "execution_count": 10,
   "metadata": {
    "execution": {
     "iopub.execute_input": "2025-09-14T22:21:32.392739Z",
     "iopub.status.busy": "2025-09-14T22:21:32.392127Z",
     "iopub.status.idle": "2025-09-14T22:21:32.396106Z",
     "shell.execute_reply": "2025-09-14T22:21:32.395707Z"
    }
   },
   "outputs": [],
   "source": [
    "step_in_dt = value_dt.add_days(1)\n",
    "expiry_dt = Date(20, 3, 2014)\n",
    "maturity_dt = Date(20, 6, 2019)"
   ]
  },
  {
   "cell_type": "code",
   "execution_count": 11,
   "metadata": {
    "execution": {
     "iopub.execute_input": "2025-09-14T22:21:32.398313Z",
     "iopub.status.busy": "2025-09-14T22:21:32.398085Z",
     "iopub.status.idle": "2025-09-14T22:21:32.401421Z",
     "shell.execute_reply": "2025-09-14T22:21:32.400899Z"
    }
   },
   "outputs": [],
   "source": [
    "cds_cpn = 0.01\n",
    "volatility = 0.3\n",
    "notional = ONE_MILLION\n",
    "long_protection = True"
   ]
  },
  {
   "cell_type": "code",
   "execution_count": 12,
   "metadata": {
    "execution": {
     "iopub.execute_input": "2025-09-14T22:21:32.403931Z",
     "iopub.status.busy": "2025-09-14T22:21:32.403509Z",
     "iopub.status.idle": "2025-09-14T22:21:32.418010Z",
     "shell.execute_reply": "2025-09-14T22:21:32.417452Z"
    }
   },
   "outputs": [],
   "source": [
    "strikes = np.linspace(80,120,21)/10000\n",
    "longValues = []\n",
    "shortValues = []\n",
    "\n",
    "# Long Protection\n",
    "for strike in strikes:\n",
    "    cdsOption = CDSOption(expiry_dt, maturity_dt, strike, notional, True)\n",
    "    v = cdsOption.value(value_dt, issuer_curve, volatility)\n",
    "    longValues.append(v)\n",
    "\n",
    "# Short Protection\n",
    "for strike in strikes:\n",
    "    cdsOption = CDSOption(expiry_dt, maturity_dt, strike, notional, False)\n",
    "    v = cdsOption.value(value_dt, issuer_curve, volatility)\n",
    "    shortValues.append(v)\n"
   ]
  },
  {
   "cell_type": "code",
   "execution_count": 13,
   "metadata": {
    "execution": {
     "iopub.execute_input": "2025-09-14T22:21:32.421768Z",
     "iopub.status.busy": "2025-09-14T22:21:32.421268Z",
     "iopub.status.idle": "2025-09-14T22:21:32.526557Z",
     "shell.execute_reply": "2025-09-14T22:21:32.525579Z"
    }
   },
   "outputs": [
    {
     "data": {
      "image/png": "[encoded data removed]",
      "text/plain": [
       "<Figure size 640x480 with 1 Axes>"
      ]
     },
     "metadata": {},
     "output_type": "display_data"
    }
   ],
   "source": [
    "plt.plot(strikes*10000, longValues, label=\"Long Protection\")\n",
    "plt.plot(strikes*10000, shortValues, label=\"Short Protection\")\n",
    "plt.xlabel(\"Strike (bp)\")\n",
    "plt.ylabel(\"Value (USD)\")\n",
    "plt.legend();"
   ]
  },
  {
   "cell_type": "markdown",
   "metadata": {},
   "source": [
    "## Put Call Parity"
   ]
  },
  {
   "cell_type": "markdown",
   "metadata": {},
   "source": [
    "Check that put-call parity holds by comparing a long protection minus a short protection option to a forward starting long protection CDS"
   ]
  },
  {
   "cell_type": "code",
   "execution_count": 14,
   "metadata": {
    "execution": {
     "iopub.execute_input": "2025-09-14T22:21:32.529219Z",
     "iopub.status.busy": "2025-09-14T22:21:32.528897Z",
     "iopub.status.idle": "2025-09-14T22:21:32.538334Z",
     "shell.execute_reply": "2025-09-14T22:21:32.537892Z"
    }
   },
   "outputs": [],
   "source": [
    "fwd_values = []\n",
    "\n",
    "for strike in strikes:\n",
    "    fwdCDSContract = CDS(expiry_dt, maturity_dt, strike, notional, True)\n",
    "    v = fwdCDSContract.value(value_dt, issuer_curve, recovery_rate)\n",
    "    fwd_values.append(v['dirty_pv'])"
   ]
  },
  {
   "cell_type": "code",
   "execution_count": 15,
   "metadata": {
    "execution": {
     "iopub.execute_input": "2025-09-14T22:21:32.540517Z",
     "iopub.status.busy": "2025-09-14T22:21:32.540339Z",
     "iopub.status.idle": "2025-09-14T22:21:32.543241Z",
     "shell.execute_reply": "2025-09-14T22:21:32.542822Z"
    }
   },
   "outputs": [],
   "source": [
    "callMinusPut = np.array(longValues) - np.array(shortValues)"
   ]
  },
  {
   "cell_type": "code",
   "execution_count": 16,
   "metadata": {
    "execution": {
     "iopub.execute_input": "2025-09-14T22:21:32.545743Z",
     "iopub.status.busy": "2025-09-14T22:21:32.545314Z",
     "iopub.status.idle": "2025-09-14T22:21:32.638691Z",
     "shell.execute_reply": "2025-09-14T22:21:32.638190Z"
    }
   },
   "outputs": [
    {
     "data": {
      "image/png": "[encoded data removed]",
      "text/plain": [
       "<Figure size 640x480 with 1 Axes>"
      ]
     },
     "metadata": {},
     "output_type": "display_data"
    }
   ],
   "source": [
    "plt.plot(strikes*10000, fwd_values, label=\"Forward Values\")\n",
    "plt.plot(strikes*10000, callMinusPut, label=\"Long minus short\")\n",
    "plt.xlabel(\"Strike (bp)\")\n",
    "plt.ylabel(\"Value (USD)\")\n",
    "plt.legend();"
   ]
  },
  {
   "cell_type": "markdown",
   "metadata": {},
   "source": [
    "## Implied Volatility"
   ]
  },
  {
   "cell_type": "markdown",
   "metadata": {},
   "source": [
    "Let us just check that we can recover the input volatility"
   ]
  },
  {
   "cell_type": "code",
   "execution_count": 17,
   "metadata": {
    "execution": {
     "iopub.execute_input": "2025-09-14T22:21:32.640844Z",
     "iopub.status.busy": "2025-09-14T22:21:32.640454Z",
     "iopub.status.idle": "2025-09-14T22:21:32.675433Z",
     "shell.execute_reply": "2025-09-14T22:21:32.674767Z"
    }
   },
   "outputs": [
    {
     "name": "stdout",
     "output_type": "stream",
     "text": [
      "       100   1829.63263  30.00000000%\n",
      "       105   3193.81289  30.00000000%\n",
      "       110   4911.10759  30.00000000%\n",
      "       115   6871.54508  30.00000000%\n",
      "       120   8973.11396  30.00000000%\n",
      "       125  11145.22895  30.00000000%\n",
      "       130  13348.27661  30.00000000%\n",
      "       135  15563.41120  30.00000000%\n",
      "       140  17782.81258  30.00000000%\n",
      "       145  20003.59100  30.00000000%\n",
      "       150  22224.77996  30.00000000%\n",
      "       155  24446.08304  30.00000000%\n",
      "       160  26667.41594  30.00000000%\n",
      "       165  28888.75620  30.00000000%\n",
      "       170  31110.09820  30.00000000%\n",
      "       175  33331.44060  30.00000000%\n",
      "       180  35552.78308  30.00000000%\n",
      "       185  37774.12557  30.00000000%\n",
      "       190  39995.46807  30.00000000%\n",
      "       195  42216.81058  30.00000000%\n",
      "       200  44438.15308  30.00000000%\n"
     ]
    }
   ],
   "source": [
    "for strike in np.linspace(100, 200, 21):\n",
    "    cdsOption = CDSOption(expiry_dt, maturity_dt, strike / 10000.0,  notional, False)\n",
    "    v = cdsOption.value(value_dt, issuer_curve, volatility)\n",
    "    vol = cdsOption.implied_volatility(value_dt, issuer_curve, v)\n",
    "    print(\"%10d %12.5f %12.8f%%\" %(strike, v, vol*100))"
   ]
  },
  {
   "cell_type": "markdown",
   "metadata": {},
   "source": [
    "We recovery the used volatility as required."
   ]
  },
  {
   "cell_type": "markdown",
   "metadata": {},
   "source": [
    "Copyright (c) 2020 Dominic O'Kane"
   ]
  }
 ],
 "metadata": {
  "kernelspec": {
   "display_name": "base",
   "language": "python",
   "name": "python3"
  },
  "language_info": {
   "codemirror_mode": {
    "name": "ipython",
    "version": 3
   },
   "file_extension": ".py",
   "mimetype": "text/x-python",
   "name": "python",
   "nbconvert_exporter": "python",
   "pygments_lexer": "ipython3",
   "version": "3.13.7"
  }
 },
 "nbformat": 4,
 "nbformat_minor": 2
}
