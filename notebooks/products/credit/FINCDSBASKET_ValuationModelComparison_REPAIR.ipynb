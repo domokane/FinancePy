{
    "cells": [
        {
            "cell_type": "markdown",
            "metadata": {},
            "source": [
                "# Determining the CDS Basket Spread"
            ]
        },
        {
            "cell_type": "markdown",
            "metadata": {},
            "source": [
                "An analysis of pricing a CDS Basket "
            ]
        },
        {
            "cell_type": "markdown",
            "metadata": {},
            "source": [
                "## THIS IS BROKEN - TO BE REPAIRED"
            ]
        },
        {
            "cell_type": "code",
            "execution_count": 14,
            "metadata": {},
            "outputs": [],
            "source": [
                "import numpy as np\n",
                "import matplotlib.pyplot as plt"
            ]
        },
        {
            "cell_type": "code",
            "execution_count": 15,
            "metadata": {},
            "outputs": [],
            "source": [
                "from financepy.products.credit import *\n",
                "from financepy.products.rates import *\n",
                "from financepy.utils import *"
            ]
        },
        {
            "cell_type": "code",
            "execution_count": 16,
            "metadata": {},
            "outputs": [],
            "source": [
                "value_dt = Date(1, 8, 2007)\n",
                "settle_dt = value_dt.add_weekdays(1)"
            ]
        },
        {
            "cell_type": "markdown",
            "metadata": {},
            "source": [
                "## Build Ibor Curve"
            ]
        },
        {
            "cell_type": "code",
            "execution_count": 17,
            "metadata": {},
            "outputs": [],
            "source": [
                "dc_type = DayCountTypes.THIRTY_E_360_ISDA\n",
                "fixed_freq = FrequencyTypes.SEMI_ANNUAL\n",
                "swap_type = SwapTypes.PAY\n",
                "depo = IborDeposit(settle_dt, \"1D\", 0.0502, dc_type)\n",
                "depos = [depo]\n",
                "swap1 = IborSwap(settle_dt,\"1Y\",swap_type,0.0502,fixed_freq,dc_type)\n",
                "swap2 = IborSwap(settle_dt,\"2Y\",swap_type,0.0502,fixed_freq,dc_type)\n",
                "swap3 = IborSwap(settle_dt,\"3Y\",swap_type,0.0501,fixed_freq,dc_type)\n",
                "swap4 = IborSwap(settle_dt,\"4Y\",swap_type,0.0502,fixed_freq,dc_type)\n",
                "swap5 = IborSwap(settle_dt,\"5Y\",swap_type,0.0501,fixed_freq,dc_type)\n",
                "swaps = [swap1,swap2,swap3,swap4,swap5]\n",
                "\n",
                "libor_curve = IborSingleCurve(value_dt, depos, [], swaps)"
            ]
        },
        {
            "cell_type": "markdown",
            "metadata": {},
            "source": [
                "We treat an index as a CDS contract with a flat CDS curve at the CDS index spread for the same maturity"
            ]
        },
        {
            "cell_type": "markdown",
            "metadata": {},
            "source": [
                "## Create the Underlying CDS Index Portfolio"
            ]
        },
        {
            "cell_type": "code",
            "execution_count": 18,
            "metadata": {},
            "outputs": [],
            "source": [
                "step_in_dt = value_dt.add_weekdays(0)\n",
                "value_dt = step_in_dt"
            ]
        },
        {
            "cell_type": "code",
            "execution_count": 19,
            "metadata": {},
            "outputs": [],
            "source": [
                "maturity_3yr = value_dt.next_cds_date(36)\n",
                "maturity_5yr = value_dt.next_cds_date(60)\n",
                "maturity_7yr = value_dt.next_cds_date(84)\n",
                "maturity_10yr = value_dt.next_cds_date(120)"
            ]
        },
        {
            "cell_type": "markdown",
            "metadata": {},
            "source": [
                "### Heterogeneous Curves"
            ]
        },
        {
            "cell_type": "code",
            "execution_count": 20,
            "metadata": {},
            "outputs": [],
            "source": [
                "f = open('.//data//CDX_NA_IG_S7_SPREADS.csv', 'r')\n",
                "data = f.readlines()\n",
                "heteroIssuerCurves = []\n",
                "\n",
                "num_credits = len(data) - 1  # The file has a header\n",
                "\n",
                "for row in data[1:]:\n",
                "    splitRow = row.split(\",\")\n",
                "    spd3Y = float(splitRow[1]) / 10000.0\n",
                "    spd5Y = float(splitRow[2]) / 10000.0\n",
                "    spd7Y = float(splitRow[3]) / 10000.0\n",
                "    spd10Y = float(splitRow[4]) / 10000.0\n",
                "    recovery_rate = float(splitRow[5])\n",
                "    cds3Y = CDS(step_in_dt, maturity_3yr, spd3Y)\n",
                "    cds5Y = CDS(step_in_dt, maturity_5yr, spd5Y)\n",
                "    cds7Y = CDS(step_in_dt, maturity_7yr, spd7Y)\n",
                "    cds10Y = CDS(step_in_dt, maturity_10yr, spd10Y)\n",
                "    cds_contracts = [cds3Y, cds5Y, cds7Y, cds10Y]\n",
                "    issuer_curve = CDSCurve(value_dt, cds_contracts, libor_curve, recovery_rate)\n",
                "    heteroIssuerCurves.append(issuer_curve)"
            ]
        },
        {
            "cell_type": "markdown",
            "metadata": {},
            "source": [
                "### Homogeneous Curves "
            ]
        },
        {
            "cell_type": "markdown",
            "metadata": {},
            "source": [
                "Calculate the average spread of the heterogeneous portfolio"
            ]
        },
        {
            "cell_type": "code",
            "execution_count": 21,
            "metadata": {},
            "outputs": [],
            "source": [
                "homoIssuerCurves = []\n",
                "num_credits = 125\n",
                "recovery_rate = 0.40 "
            ]
        },
        {
            "cell_type": "code",
            "execution_count": 22,
            "metadata": {},
            "outputs": [],
            "source": [
                "cdsIndex = CDSIndexPortfolio()"
            ]
        },
        {
            "cell_type": "code",
            "execution_count": 23,
            "metadata": {},
            "outputs": [],
            "source": [
                "spd3Y = cdsIndex.intrinsic_spread(value_dt, step_in_dt, maturity_3yr, heteroIssuerCurves)\n",
                "spd5Y = cdsIndex.intrinsic_spread(value_dt, step_in_dt, maturity_5yr, heteroIssuerCurves)\n",
                "spd7Y = cdsIndex.intrinsic_spread(value_dt, step_in_dt, maturity_7yr, heteroIssuerCurves)\n",
                "spd10Y = cdsIndex.intrinsic_spread(value_dt, step_in_dt, maturity_10yr, heteroIssuerCurves)"
            ]
        },
        {
            "cell_type": "code",
            "execution_count": 24,
            "metadata": {},
            "outputs": [
                {
                    "name": "stdout",
                    "output_type": "stream",
                    "text": [
                        "Homogeneous curve 3Y: 19.678820972252545\n",
                        "Homogeneous curve 5Y: 35.53919235929797\n",
                        "Homogeneous curve 7Y: 49.011853495442594\n",
                        "Homogeneous curve 10Y: 61.41369871102576\n"
                    ]
                }
            ],
            "source": [
                "print(\"Homogeneous curve 3Y:\", spd3Y*10000)\n",
                "print(\"Homogeneous curve 5Y:\", spd5Y*10000)\n",
                "print(\"Homogeneous curve 7Y:\", spd7Y*10000)\n",
                "print(\"Homogeneous curve 10Y:\", spd10Y*10000)"
            ]
        },
        {
            "cell_type": "code",
            "execution_count": 25,
            "metadata": {},
            "outputs": [],
            "source": [
                "for row in range(0,num_credits):\n",
                "    cds3Y = CDS(step_in_dt, maturity_3yr, spd3Y)\n",
                "    cds5Y = CDS(step_in_dt, maturity_5yr, spd5Y)\n",
                "    cds7Y = CDS(step_in_dt, maturity_7yr, spd7Y)\n",
                "    cds10Y = CDS(step_in_dt, maturity_10yr, spd10Y)\n",
                "    cds_contracts = [cds3Y, cds5Y, cds7Y, cds10Y]\n",
                "    issuer_curve = CDSCurve(value_dt, cds_contracts, libor_curve, recovery_rate)\n",
                "    homoIssuerCurves.append(issuer_curve)"
            ]
        },
        {
            "cell_type": "markdown",
            "metadata": {},
            "source": [
                "## Define the Baskets"
            ]
        },
        {
            "cell_type": "code",
            "execution_count": 26,
            "metadata": {},
            "outputs": [],
            "source": [
                "num_credits = 5"
            ]
        },
        {
            "cell_type": "code",
            "execution_count": 27,
            "metadata": {},
            "outputs": [],
            "source": [
                "issuer_curves = heteroIssuerCurves[0:num_credits]"
            ]
        },
        {
            "cell_type": "code",
            "execution_count": 28,
            "metadata": {},
            "outputs": [],
            "source": [
                "basketMaturity = Date(20, 12, 2011)\n",
                "cdsIndex = CDSIndexPortfolio()"
            ]
        },
        {
            "cell_type": "code",
            "execution_count": 29,
            "metadata": {},
            "outputs": [
                {
                    "name": "stdout",
                    "output_type": "stream",
                    "text": [
                        "INTRINSIC SPD BASKET MATURITY 29.03716340808207\n",
                        "SUMMED UP SPD BASKET MATURITY 145.80584474439172\n",
                        "MINIMUM SPD BASKET MATURITY 9.62014416486713\n",
                        "MAXIMUM SPD BASKET MATURITY 73.20754781040397\n"
                    ]
                }
            ],
            "source": [
                "intrinsicSpd = cdsIndex.intrinsic_spread(value_dt, step_in_dt, basketMaturity, issuer_curves) * 10000.0\n",
                "\n",
                "print(\"INTRINSIC SPD BASKET MATURITY\", intrinsicSpd)\n",
                "\n",
                "totalSpd = cdsIndex.total_spread(value_dt, step_in_dt, basketMaturity, issuer_curves) * 10000.0\n",
                "\n",
                "print(\"SUMMED UP SPD BASKET MATURITY\", totalSpd)\n",
                "\n",
                "minSpd = cdsIndex.min_spread(value_dt, step_in_dt, basketMaturity, issuer_curves) * 10000.0\n",
                "\n",
                "print(\"MINIMUM SPD BASKET MATURITY\", minSpd)\n",
                "\n",
                "maxSpd = cdsIndex.max_spread(value_dt, step_in_dt, basketMaturity, issuer_curves) * 10000.0\n",
                "\n",
                "print(\"MAXIMUM SPD BASKET MATURITY\", maxSpd)"
            ]
        },
        {
            "cell_type": "code",
            "execution_count": 30,
            "metadata": {},
            "outputs": [],
            "source": [
                "basket = CDSBasket(value_dt,basketMaturity)"
            ]
        },
        {
            "cell_type": "markdown",
            "metadata": {},
            "source": [
                "## Gaussian Copula Model"
            ]
        },
        {
            "cell_type": "markdown",
            "metadata": {},
            "source": [
                "THERE IS AN ERROR HERE THAT NEEDS TO BE FIXED"
            ]
        },
        {
            "cell_type": "code",
            "execution_count": 31,
            "metadata": {},
            "outputs": [
                {
                    "name": "stdout",
                    "output_type": "stream",
                    "text": [
                        "NTrials   Rho    NTD    SPD_GC_MC    SPD_1FGC    SPD_ST10\n",
                        "=========================================================\n"
                    ]
                },
                {
                    "ename": "IndexError",
                    "evalue": "index 18 is out of bounds for axis 0 with size 18",
                    "output_type": "error",
                    "traceback": [
                        "\u001b[1;31m---------------------------------------------------------------------------\u001b[0m",
                        "\u001b[1;31mIndexError\u001b[0m                                Traceback (most recent call last)",
                        "Cell \u001b[1;32mIn[31], line 14\u001b[0m\n\u001b[0;32m     12\u001b[0m corr_matrix \u001b[38;5;241m=\u001b[39m corr_matrix_generator(rho, num_credits)\n\u001b[0;32m     13\u001b[0m \u001b[38;5;28;01mfor\u001b[39;00m num_trials \u001b[38;5;129;01min\u001b[39;00m [\u001b[38;5;241m5000\u001b[39m]:\n\u001b[1;32m---> 14\u001b[0m     v1 \u001b[38;5;241m=\u001b[39m basket\u001b[38;5;241m.\u001b[39mvalue_gaussian_mc(value_dt,ntd,issuer_curves,corr_matrix,libor_curve,num_trials,seed)\n\u001b[0;32m     15\u001b[0m     v2 \u001b[38;5;241m=\u001b[39m basket\u001b[38;5;241m.\u001b[39mvalue_1f_gaussian_homo(value_dt,ntd,issuer_curves,beta_vector,libor_curve)\n\u001b[0;32m     16\u001b[0m     v3 \u001b[38;5;241m=\u001b[39m basket\u001b[38;5;241m.\u001b[39mvalue_student_t_mc(value_dt, ntd, issuer_curves, corr_matrix, doF, libor_curve, num_trials,seed)\n",
                        "File \u001b[1;32m~\\AppData\\Roaming\\Python\\Python311\\site-packages\\financepy\\products\\credit\\cds_basket.py:180\u001b[0m, in \u001b[0;36mCDSBasket.value_gaussian_mc\u001b[1;34m(self, value_dt, n_to_default, issuer_curves, corr_matrix, libor_curve, num_trials, seed)\u001b[0m\n\u001b[0;32m    173\u001b[0m     \u001b[38;5;28;01mraise\u001b[39;00m FinError(\u001b[38;5;124m\"\u001b[39m\u001b[38;5;124mn_to_default must be 1 to num_credits\u001b[39m\u001b[38;5;124m\"\u001b[39m)\n\u001b[0;32m    175\u001b[0m default_times \u001b[38;5;241m=\u001b[39m default_times_gc(issuer_curves,\n\u001b[0;32m    176\u001b[0m                                  corr_matrix,\n\u001b[0;32m    177\u001b[0m                                  num_trials,\n\u001b[0;32m    178\u001b[0m                                  seed)\n\u001b[1;32m--> 180\u001b[0m rpv01, prot_pv \u001b[38;5;241m=\u001b[39m \u001b[38;5;28mself\u001b[39m\u001b[38;5;241m.\u001b[39mvalue_legs_mc(value_dt,\n\u001b[0;32m    181\u001b[0m                                     n_to_default,\n\u001b[0;32m    182\u001b[0m                                     default_times,\n\u001b[0;32m    183\u001b[0m                                     issuer_curves,\n\u001b[0;32m    184\u001b[0m                                     libor_curve)\n\u001b[0;32m    186\u001b[0m spd \u001b[38;5;241m=\u001b[39m prot_pv \u001b[38;5;241m/\u001b[39m rpv01\n\u001b[0;32m    187\u001b[0m value \u001b[38;5;241m=\u001b[39m \u001b[38;5;28mself\u001b[39m\u001b[38;5;241m.\u001b[39mnotional \u001b[38;5;241m*\u001b[39m (prot_pv \u001b[38;5;241m-\u001b[39m \u001b[38;5;28mself\u001b[39m\u001b[38;5;241m.\u001b[39mrunning_cpn \u001b[38;5;241m*\u001b[39m rpv01)\n",
                        "File \u001b[1;32m~\\AppData\\Roaming\\Python\\Python311\\site-packages\\financepy\\products\\credit\\cds_basket.py:131\u001b[0m, in \u001b[0;36mCDSBasket.value_legs_mc\u001b[1;34m(self, value_dt, n_to_default, default_times, issuer_curves, libor_curve)\u001b[0m\n\u001b[0;32m    128\u001b[0m \u001b[38;5;28;01mif\u001b[39;00m min_tau \u001b[38;5;241m<\u001b[39m t_mat:\n\u001b[0;32m    130\u001b[0m     num_payment_amounts_index \u001b[38;5;241m=\u001b[39m \u001b[38;5;28mint\u001b[39m(min_tau \u001b[38;5;241m/\u001b[39m avg_acc_factor)\n\u001b[1;32m--> 131\u001b[0m     rpv01_trial \u001b[38;5;241m=\u001b[39m rpv01_to_times[num_payment_amounts_index]\n\u001b[0;32m    132\u001b[0m     rpv01_trial \u001b[38;5;241m+\u001b[39m\u001b[38;5;241m=\u001b[39m (min_tau \u001b[38;5;241m-\u001b[39m num_payment_amounts_index \u001b[38;5;241m*\u001b[39m avg_acc_factor)\n\u001b[0;32m    134\u001b[0m     \u001b[38;5;66;03m# DETERMINE IDENTITY OF N-TO-DEFAULT CREDIT IF BASKET NOT HOMO\u001b[39;00m\n",
                        "\u001b[1;31mIndexError\u001b[0m: index 18 is out of bounds for axis 0 with size 18"
                    ]
                }
            ],
            "source": [
                "seed = 42\n",
                "doF = 5\n",
                "num_trials = 5000\n",
                "\n",
                "print(\"NTrials   Rho    NTD    SPD_GC_MC    SPD_1FGC    SPD_ST10\")\n",
                "print(\"=========================================================\")\n",
                "\n",
                "for ntd in range(1, num_credits + 1):\n",
                "    for beta in [0.0, 0.25, 0.5, 0.75, 0.90, 0.9999]:\n",
                "        rho = beta * beta\n",
                "        beta_vector = np.ones(num_credits) * beta\n",
                "        corr_matrix = corr_matrix_generator(rho, num_credits)\n",
                "        for num_trials in [5000]:\n",
                "            v1 = basket.value_gaussian_mc(value_dt,ntd,issuer_curves,corr_matrix,libor_curve,num_trials,seed)\n",
                "            v2 = basket.value_1f_gaussian_homo(value_dt,ntd,issuer_curves,beta_vector,libor_curve)\n",
                "            v3 = basket.value_student_t_mc(value_dt, ntd, issuer_curves, corr_matrix, doF, libor_curve, num_trials,seed)\n",
                "            print(\"%7d  %5.2f    %d    %9.3f   %9.3f    %9.3f\"% (num_trials, rho, ntd, v1[2] * 10000, v2[3] * 10000, v3[2] *10000))\n",
                "    print(\"=========================================================\")\n"
            ]
        },
        {
            "cell_type": "markdown",
            "metadata": {},
            "source": [
                "Copyright (c) 2020 Dominic O'Kane"
            ]
        }
    ],
    "metadata": {
        "kernelspec": {
            "display_name": "Python 3",
            "language": "python",
            "name": "python3"
        },
        "language_info": {
            "codemirror_mode": {
                "name": "ipython",
                "version": 3
            },
            "file_extension": ".py",
            "mimetype": "text/x-python",
            "name": "python",
            "nbconvert_exporter": "python",
            "pygments_lexer": "ipython3",
            "version": "3.11.5"
        }
    },
    "nbformat": 4,
    "nbformat_minor": 2
}