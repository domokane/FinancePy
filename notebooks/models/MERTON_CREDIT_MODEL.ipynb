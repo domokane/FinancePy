{
 "cells": [
  {
   "cell_type": "markdown",
   "metadata": {},
   "source": [
    "# MERTON CREDIT MODEL"
   ]
  },
  {
   "cell_type": "markdown",
   "metadata": {},
   "source": [
    "Check the method for generating correlation Gaussian random numbers"
   ]
  },
  {
   "cell_type": "code",
   "execution_count": 1,
   "metadata": {},
   "outputs": [],
   "source": [
    "import numpy as np\n",
    "import matplotlib.pyplot as plt"
   ]
  },
  {
   "cell_type": "code",
   "execution_count": 2,
   "metadata": {},
   "outputs": [
    {
     "name": "stdout",
     "output_type": "stream",
     "text": [
      "####################################################################\n",
      "#    FINANCEPY Version 1.1 - This build: 27 Aug 2025 at 14:11      #\n",
      "#     This software is distributed FREE AND WITHOUT ANY WARRANTY   #\n",
      "#  Report bugs as issues at https://github.com/domokane/FinancePy  #\n",
      "####################################################################\n",
      "\n"
     ]
    }
   ],
   "source": [
    "from financepy.models.merton_firm import *\n",
    "from financepy.models.merton_firm_mkt import *"
   ]
  },
  {
   "cell_type": "markdown",
   "metadata": {},
   "source": [
    "## Merton Credit Model Market"
   ]
  },
  {
   "cell_type": "markdown",
   "metadata": {},
   "source": [
    "This is a version of the Merton Credit Model that takes as input the equity value and volatility."
   ]
  },
  {
   "cell_type": "markdown",
   "metadata": {},
   "source": [
    "Agrees with results at https://fr.mathworks.com/help/risk/mertonmodel.html"
   ]
  },
  {
   "cell_type": "code",
   "execution_count": 3,
   "metadata": {},
   "outputs": [],
   "source": [
    "equity_value = [2.6406, 2.6817, 3.977, 2.947, 2.528]\n",
    "equity_vol = [0.7103, 0.3929, 0.3121, 0.4595, 0.6181]\n",
    "bond_face = [4.0, 3.5, 3.5, 3.2, 4.0]\n",
    "risk_free_rate = [0.05, 0.05, 0.05, 0.05, 0.05]\n",
    "asset_growth_rate = [0.0306, 0.03, 0.031, 0.0302, 0.0305]\n",
    "years_to_maturity = 1.0 #np.linspace(0.1, 10, 100)"
   ]
  },
  {
   "cell_type": "code",
   "execution_count": 4,
   "metadata": {},
   "outputs": [],
   "source": [
    "model = MertonFirmMkt(equity_value, bond_face, years_to_maturity, risk_free_rate, asset_growth_rate, equity_vol)"
   ]
  },
  {
   "cell_type": "code",
   "execution_count": 5,
   "metadata": {},
   "outputs": [
    {
     "data": {
      "text/plain": [
       "OBJECT TYPE: MertonFirmMkt\n",
       "EQUITY VALUE: [2.6406 2.6817 3.977  2.947  2.528 ]\n",
       "BOND FACE: [4.  3.5 3.5 3.2 4. ]\n",
       "YEARS TO MATURITY: [1.]\n",
       "ASSET GROWTH: [0.0306 0.03   0.031  0.0302 0.0305]\n",
       "EQUITY VOLATILITY: [0.7103 0.3929 0.3121 0.4595 0.6181]"
      ]
     },
     "execution_count": 5,
     "metadata": {},
     "output_type": "execute_result"
    }
   ],
   "source": [
    "model"
   ]
  },
  {
   "cell_type": "code",
   "execution_count": 6,
   "metadata": {},
   "outputs": [
    {
     "data": {
      "text/plain": [
       "array([6.46904086e-03, 2.28614886e-05, 9.25718983e-08, 1.23913256e-04,\n",
       "       2.57205669e-03])"
      ]
     },
     "execution_count": 6,
     "metadata": {},
     "output_type": "execute_result"
    }
   ],
   "source": [
    "model.credit_spread()"
   ]
  },
  {
   "cell_type": "code",
   "execution_count": 7,
   "metadata": {},
   "outputs": [
    {
     "data": {
      "text/plain": [
       "array([1.60524574, 1.71740768, 2.08751505, 1.87204906, 1.58078595])"
      ]
     },
     "execution_count": 7,
     "metadata": {},
     "output_type": "execute_result"
    }
   ],
   "source": [
    "model.leverage()"
   ]
  },
  {
   "cell_type": "code",
   "execution_count": 8,
   "metadata": {},
   "outputs": [
    {
     "data": {
      "text/plain": [
       "OBJECT TYPE: MertonFirmMkt\n",
       "EQUITY VALUE: [2.6406 2.6817 3.977  2.947  2.528 ]\n",
       "BOND FACE: [4.  3.5 3.5 3.2 4. ]\n",
       "YEARS TO MATURITY: [1.]\n",
       "ASSET GROWTH: [0.0306 0.03   0.031  0.0302 0.0305]\n",
       "EQUITY VOLATILITY: [0.7103 0.3929 0.3121 0.4595 0.6181]"
      ]
     },
     "execution_count": 8,
     "metadata": {},
     "output_type": "execute_result"
    }
   ],
   "source": [
    "model"
   ]
  },
  {
   "cell_type": "code",
   "execution_count": 9,
   "metadata": {},
   "outputs": [
    {
     "data": {
      "text/plain": [
       "array([6.37907793e-02, 7.67784588e-04, 4.72098856e-06, 2.62232942e-03,\n",
       "       3.44082121e-02])"
      ]
     },
     "execution_count": 9,
     "metadata": {},
     "output_type": "execute_result"
    }
   ],
   "source": [
    "model.prob_default()"
   ]
  },
  {
   "cell_type": "code",
   "execution_count": 10,
   "metadata": {},
   "outputs": [
    {
     "data": {
      "text/plain": [
       "array([3.78038297, 3.32922687, 3.32930268, 3.043557  , 3.79514381])"
      ]
     },
     "execution_count": 10,
     "metadata": {},
     "output_type": "execute_result"
    }
   ],
   "source": [
    "model.debt_value()"
   ]
  },
  {
   "cell_type": "code",
   "execution_count": 11,
   "metadata": {},
   "outputs": [
    {
     "data": {
      "text/plain": [
       "array([1.52370861, 3.16790101, 4.42975544, 2.79161697, 1.81962233])"
      ]
     },
     "execution_count": 11,
     "metadata": {},
     "output_type": "execute_result"
    }
   ],
   "source": [
    "model.dist_default()"
   ]
  },
  {
   "cell_type": "markdown",
   "metadata": {},
   "source": [
    "## Merton's Basic Model - Credit Spread Term Structure"
   ]
  },
  {
   "cell_type": "code",
   "execution_count": 12,
   "metadata": {},
   "outputs": [],
   "source": [
    "assetVol = 0.20\n",
    "bond_face = 100.0\n",
    "risk_free_rate = 0.05\n",
    "asset_growth_rate = 0.05\n",
    "years_to_maturity = np.linspace(0.01,10.,1000)"
   ]
  },
  {
   "cell_type": "code",
   "execution_count": 13,
   "metadata": {},
   "outputs": [],
   "source": [
    "model1 = MertonFirm(140.0, bond_face, years_to_maturity, risk_free_rate, asset_growth_rate, assetVol)\n",
    "model2 = MertonFirm(115.0, bond_face, years_to_maturity, risk_free_rate, asset_growth_rate, assetVol)\n",
    "model3 = MertonFirm(105.0, bond_face, years_to_maturity, risk_free_rate, asset_growth_rate, assetVol)"
   ]
  },
  {
   "cell_type": "code",
   "execution_count": 14,
   "metadata": {},
   "outputs": [],
   "source": [
    "spd1 = model1.credit_spread() * 10000\n",
    "spd2 = model2.credit_spread() * 10000\n",
    "spd3 = model3.credit_spread() * 10000"
   ]
  },
  {
   "cell_type": "code",
   "execution_count": 15,
   "metadata": {},
   "outputs": [
    {
     "data": {
      "image/png": "[encoded data removed]",
      "text/plain": [
       "<Figure size 1000x600 with 1 Axes>"
      ]
     },
     "metadata": {},
     "output_type": "display_data"
    }
   ],
   "source": [
    "plt.figure(figsize=(10,6))\n",
    "plt.plot(years_to_maturity, spd1, label=\"Low Leverage\")\n",
    "plt.plot(years_to_maturity, spd2, label=\"Medium\")\n",
    "plt.plot(years_to_maturity, spd3, label=\"Highly Leverage\")\n",
    "plt.xlabel(\"Maturity (yrs)\")\n",
    "plt.ylabel(\"Credit Spread (bp)\")\n",
    "plt.legend();"
   ]
  },
  {
   "cell_type": "markdown",
   "metadata": {},
   "source": [
    "Copyright (c) 2020 Dominic O'Kane"
   ]
  }
 ],
 "metadata": {
  "kernelspec": {
   "display_name": "base",
   "language": "python",
   "name": "python3"
  },
  "language_info": {
   "codemirror_mode": {
    "name": "ipython",
    "version": 3
   },
   "file_extension": ".py",
   "mimetype": "text/x-python",
   "name": "python",
   "nbconvert_exporter": "python",
   "pygments_lexer": "ipython3",
   "version": "3.13.5"
  }
 },
 "nbformat": 4,
 "nbformat_minor": 2
}
