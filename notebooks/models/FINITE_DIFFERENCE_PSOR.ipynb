{
 "cells": [
  {
   "cell_type": "code",
   "execution_count": 1,
   "id": "904cf030",
   "metadata": {},
   "outputs": [],
   "source": [
    "from financepy.models.finite_difference_PSOR import black_scholes_fd_PSOR\n",
    "from financepy.models.finite_difference import option_payoff\n",
    "from financepy.products.equity import OptionTypes, Date\n",
    "from financepy.utils.global_vars import g_days_in_year\n",
    "\n",
    "from copy import deepcopy\n",
    "\n",
    "import numpy as np\n",
    "import matplotlib.pyplot as plt"
   ]
  },
  {
   "cell_type": "code",
   "execution_count": 2,
   "id": "459b301c",
   "metadata": {},
   "outputs": [],
   "source": [
    "expiry_dt = Date(1, 7, 2015)\n",
    "strike_price = 100.0\n",
    "option_type = OptionTypes.EUROPEAN_CALL\n",
    "\n",
    "value_dt = Date(1, 1, 2015)\n",
    "stock_price = 100\n",
    "volatility = 0.30\n",
    "risk_free_rate = 0.05\n",
    "dividend_yield = 0.01\n",
    "num_std = 5\n",
    "num_samples = 2000\n",
    "\n",
    "# Time to contract expiry in years\n",
    "time_to_expiry = (expiry_dt - value_dt) / g_days_in_year\n"
   ]
  },
  {
   "cell_type": "code",
   "execution_count": 3,
   "id": "326f48f6",
   "metadata": {
    "scrolled": true
   },
   "outputs": [],
   "source": [
    "res = black_scholes_fd_PSOR(spot_price=stock_price, volatility=volatility,\n",
    "                                    time_to_expiry=time_to_expiry,\n",
    "                                    strike_price=100.0, risk_free_rate=risk_free_rate,\n",
    "                                    dividend_yield=dividend_yield, digital=0,\n",
    "                                    option_type=option_type, smooth=0, theta=0.5, wind=0,\n",
    "                                    num_std=5, num_time_steps=None, num_samples=num_samples)"
   ]
  },
  {
   "cell_type": "code",
   "execution_count": 4,
   "id": "a82d9c11",
   "metadata": {
    "scrolled": true
   },
   "outputs": [
    {
     "name": "stdout",
     "output_type": "stream",
     "text": [
      "Value of option is $9.302028670848507\n"
     ]
    }
   ],
   "source": [
    "print(f\"Value of option is ${res}\")"
   ]
  },
  {
   "cell_type": "code",
   "execution_count": null,
   "id": "c7382c23",
   "metadata": {},
   "outputs": [],
   "source": []
  }
 ],
 "metadata": {
  "kernelspec": {
   "display_name": "base",
   "language": "python",
   "name": "python3"
  },
  "language_info": {
   "codemirror_mode": {
    "name": "ipython",
    "version": 3
   },
   "file_extension": ".py",
   "mimetype": "text/x-python",
   "name": "python",
   "nbconvert_exporter": "python",
   "pygments_lexer": "ipython3",
   "version": "3.13.5"
  }
 },
 "nbformat": 4,
 "nbformat_minor": 5
}
